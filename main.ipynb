{
 "cells": [
  {
   "cell_type": "code",
   "execution_count": null,
   "id": "65f046a7",
   "metadata": {},
   "outputs": [],
   "source": [
    "import pandas as pd\n",
    "import numpy as np\n",
    "from scipy.stats import weibull_min, vonmises, gamma,lognorm\n",
    "import matplotlib.pyplot as plt\n",
    "import torch\n",
    "import torch.nn as nn\n",
    "import numpy as np\n",
    "import pandas as pd\n",
    "import json\n",
    "from plotnine import ggplot, aes, geom_line, labs, theme_minimal, theme,facet_wrap,scale_color_manual\n",
    "from statsmodels.tsa.seasonal import STL\n",
    "from sklearn.ensemble import IsolationForest\n",
    "from pandas.api.types import CategoricalDtype\n",
    "from ydata_profiling import ProfileReport\n",
    "from sklearn.preprocessing import MinMaxScaler"
   ]
  },
  {
   "cell_type": "code",
   "execution_count": null,
   "id": "5b05d859",
   "metadata": {
    "lines_to_next_cell": 0
   },
   "outputs": [],
   "source": [
    "device = 'cuda' if torch.cuda.is_available() else 'cpu'\n",
    "device\n",
    "print(torch.__version__)  # Verifique a versão\n",
    "print(torch.cuda.is_available())  # Deve retornar True\n",
    "print(torch.version.hip)  # Verifique a versão HIP\n",
    "torch.manual_seed(42)\n",
    "torch.cuda.manual_seed(42)\n",
    "np.random.seed(42)"
   ]
  },
  {
   "cell_type": "code",
   "execution_count": null,
   "id": "718145d3",
   "metadata": {},
   "outputs": [],
   "source": [
    "# Configurações iniciais\n",
    "np.random.seed(42)\n",
    "start_date = '2024-01-01'\n",
    "end_date = '2025-12-31'\n",
    "freq = '5min'\n",
    "datetime_index = pd.date_range(start=start_date, end=end_date, freq=freq)\n",
    "\n",
    "# Parâmetros baseados em padrões do litoral paulista [[3]][[8]]\n",
    "TEMP_MEAN = 22  # °C\n",
    "TEMP_AMP_ANNUAL = 8  # Variação anual\n",
    "TEMP_AMP_DAILY = 5   # Variação diária\n",
    "\n",
    "HUMIDITY_BASE = 80   # % (média anual)\n",
    "PRECIP_RATE = 0.2    # Probabilidade horária de chuva (ajustado sazonalmente)\n",
    "\n",
    "WIND_SPEED_SHAPE = 2.0  # Forma da distribuição de Weibull\n",
    "WIND_SPEED_SCALE = 8.0  # Escala (km/h)\n",
    "\n",
    "# Funções auxiliares\n",
    "def generate_temperature(index):\n",
    "    times = np.arange(len(index))\n",
    "\n",
    "    samples_per_day = 24 * 60 // 5  # 288 amostras por dia\n",
    "    samples_per_year = samples_per_day * 365  # 105120 (não considerando ano bissexto)\n",
    "\n",
    "    annual_cycle = TEMP_AMP_ANNUAL * np.sin(2 * np.pi * times / samples_per_year)\n",
    "    daily_cycle = TEMP_AMP_DAILY * np.sin(2 * np.pi * times / samples_per_day)\n",
    "\n",
    "    noise = np.random.normal(0, 0.5, len(index))  # ruído mais suave\n",
    "    return TEMP_MEAN + annual_cycle + daily_cycle + noise\n",
    "\n",
    "def generate_humidity(temp, precip):\n",
    "    \"\"\"Umidade relativa baseada em temperatura e precipitação [[1]]\"\"\"\n",
    "    base = HUMIDITY_BASE - 0.5 * temp  # Relação inversa com temperatura\n",
    "    rain_effect = np.where(precip > 0, 15, 0)  # Aumento de 15% durante chuva\n",
    "    return np.clip(base + rain_effect + np.random.normal(0, 5, len(temp)), 30, 100)\n",
    "\n",
    "def generate_wind():\n",
    "    \"\"\"Velocidade e direção do vento (costa brasileira: predominância de E/SE) [[4]]\"\"\"\n",
    "    speed = weibull_min.rvs(WIND_SPEED_SHAPE, scale=WIND_SPEED_SCALE, size=len(datetime_index))\n",
    "    direction = vonmises.rvs(loc=np.radians(120), kappa=2, size=len(datetime_index))  # 120° = ESE\n",
    "    return np.clip(speed, 0, 50), np.degrees(direction) % 360\n",
    "\n",
    "def generate_precipitation(index):\n",
    "    \"\"\"\n",
    "    Precipitação com padrão sazonal (mais chuva no verão)\n",
    "    - Usa distribuição log-normal para melhor capturar eventos extremos.\n",
    "    - Limite máximo ajustado para 200 mm (valores realistas para o litoral).\n",
    "    \"\"\"\n",
    "    monthly_probs = index.month.map({\n",
    "        1:0.15, 2:0.2, 3:0.25, 4:0.18, 5:0.12, 6:0.08,\n",
    "        7:0.05, 8:0.06, 9:0.1, 10:0.15, 11:0.2, 12:0.25\n",
    "    })\n",
    "\n",
    "    precip = np.zeros(len(index))\n",
    "    for i, prob in enumerate(monthly_probs):\n",
    "        if np.random.rand() < prob:\n",
    "            # Parâmetros da log-normal (shape=1.2, loc=0, scale=10)\n",
    "            precip[i] = lognorm.rvs(s=1.2, scale=10) * 8  # Multiplicador para intensidade realista\n",
    "\n",
    "    return np.clip(precip, 0, 200)  # Limite máximo aumentado para 200 mm\n",
    "\n",
    "\n",
    "def generate_soil_vars(temp, precip):\n",
    "    \"\"\"Umidade e temperatura do solo [[2]]\"\"\"\n",
    "    soil_moisture = np.zeros(len(temp))\n",
    "    soil_temp = np.zeros(len(temp))\n",
    "    for t in range(1, len(temp)):\n",
    "        # Dinâmica de umidade do solo\n",
    "        evap = 0.1 * temp[t] if temp[t] > 15 else 0.05 * temp[t]\n",
    "        soil_moisture[t] = soil_moisture[t-1] + precip[t] - evap\n",
    "        soil_moisture[t] = np.clip(soil_moisture[t], 10, 100)  # % de saturação\n",
    "\n",
    "        # Temperatura do solo (resposta amortecida)\n",
    "        soil_temp[t] = 0.8 * soil_temp[t-1] + 0.2 * temp[t]\n",
    "    return soil_moisture, soil_temp\n",
    "\n",
    "# Geração dos dados\n",
    "temp = generate_temperature(datetime_index)\n",
    "precip = generate_precipitation(datetime_index)\n",
    "humid = generate_humidity(temp, precip)\n",
    "wind_speed, wind_dir = generate_wind()\n",
    "soil_moist, soil_temp = generate_soil_vars(temp, precip)\n",
    "\n",
    "# Criação do DataFrame\n",
    "df = pd.DataFrame({\n",
    "    'Timestamp': datetime_index,\n",
    "    'Precipitation': np.round(precip, 1),\n",
    "    'Temperature': np.round(temp, 1),\n",
    "    'Humidity': np.round(humid).astype(int),\n",
    "    'Wind_Speed_kmh': np.round(wind_speed, 1),\n",
    "    'Wind_Direction': np.round(wind_dir).astype(int),\n",
    "    'Soil_Moisture': np.round(soil_moist).astype(int),\n",
    "    'Soil_Temperature': np.round(soil_temp, 1)\n",
    "})"
   ]
  },
  {
   "cell_type": "code",
   "execution_count": null,
   "id": "4fe46465",
   "metadata": {},
   "outputs": [],
   "source": [
    "df.describe()"
   ]
  },
  {
   "cell_type": "code",
   "execution_count": null,
   "id": "94db7ab4",
   "metadata": {
    "lines_to_next_cell": 0
   },
   "outputs": [],
   "source": [
    "# df = pd.read_csv('kelowna_weather_2024.csv', parse_dates=['Timestamp'], index_col='Timestamp')\n",
    "df['Timestamp'] = pd.to_datetime(df['Timestamp'])\n",
    "df.set_index('Timestamp', inplace=True)\n",
    "df = df.resample('h').mean().interpolate(method='time', limit_direction='both')"
   ]
  },
  {
   "cell_type": "code",
   "execution_count": null,
   "id": "e98adffe",
   "metadata": {},
   "outputs": [],
   "source": [
    "df.describe()"
   ]
  },
  {
   "cell_type": "code",
   "execution_count": null,
   "id": "f247090f",
   "metadata": {},
   "outputs": [],
   "source": [
    "decomps = {}\n",
    "residuals = pd.DataFrame(index=df.index)\n",
    "for col in df.columns:\n",
    "    if col == 'Timestamp':\n",
    "        continue\n",
    "    stl_res = STL(df[col], period=24, robust=True).fit()\n",
    "    decomps[col] = stl_res\n",
    "    residuals[col] = stl_res.resid"
   ]
  },
  {
   "cell_type": "code",
   "execution_count": null,
   "id": "3ca85223",
   "metadata": {},
   "outputs": [],
   "source": [
    "iso = IsolationForest(contamination='auto', random_state=42)\n",
    "iso.fit(residuals)"
   ]
  },
  {
   "cell_type": "code",
   "execution_count": null,
   "id": "ae59c570",
   "metadata": {},
   "outputs": [],
   "source": [
    "flags = iso.predict(residuals)\n",
    "is_multivariate_anomaly = pd.Series(flags == -1, index=residuals.index)\n",
    "df['is_multivariate_anomaly'] = is_multivariate_anomaly\n",
    "df.head()"
   ]
  },
  {
   "cell_type": "code",
   "execution_count": null,
   "id": "1066a423",
   "metadata": {},
   "outputs": [],
   "source": [
    "print('Foram encontrados {} outliers'.format(is_multivariate_anomaly.sum()))"
   ]
  },
  {
   "cell_type": "code",
   "execution_count": null,
   "id": "c26975d6",
   "metadata": {},
   "outputs": [],
   "source": [
    "df_clean = df.copy()\n",
    "for col, stl_res in decomps.items():\n",
    "    cleaned_series = df[col].copy()\n",
    "    cleaned_series[is_multivariate_anomaly] = (stl_res.trend + stl_res.seasonal)[is_multivariate_anomaly]\n",
    "    df_clean[col] = cleaned_series\n",
    "df_clean.drop(columns=['is_multivariate_anomaly'], inplace=True)\n",
    "df.drop(columns=['is_multivariate_anomaly'], inplace=True)\n",
    "df_clean.head()"
   ]
  },
  {
   "cell_type": "code",
   "execution_count": null,
   "id": "8eb84551",
   "metadata": {
    "lines_to_next_cell": 0
   },
   "outputs": [],
   "source": [
    "df_clean['Temperature'] = df_clean['Temperature'].round(3)\n",
    "df_clean['Precipitation'] = df_clean['Precipitation'].round(3)\n",
    "df_clean['Humidity'] = df_clean['Humidity'].round(3)\n",
    "df_clean['Wind_Speed_kmh'] = df_clean['Wind_Speed_kmh'].round(3)\n",
    "df_clean['Wind_Direction'] = df_clean['Wind_Direction'].round(3)\n",
    "df_clean['Soil_Moisture'] = df_clean['Soil_Moisture'].round(3)\n",
    "df_clean['Soil_Temperature'] = df_clean['Soil_Temperature'].round(3)\n",
    "df_clean.head()"
   ]
  },
  {
   "cell_type": "code",
   "execution_count": null,
   "id": "5be479ea",
   "metadata": {},
   "outputs": [],
   "source": [
    "print('--- Original ---')\n",
    "print(df.describe())\n",
    "print('--- Limpo ---')\n",
    "print(df_clean.describe())"
   ]
  },
  {
   "cell_type": "code",
   "execution_count": null,
   "id": "ed449b62",
   "metadata": {
    "lines_to_next_cell": 0
   },
   "outputs": [],
   "source": [
    "orig_long = (\n",
    "    df\n",
    "    .reset_index()\n",
    "    .melt(id_vars='Timestamp',\n",
    "          var_name='variable',\n",
    "          value_name='value')\n",
    "    .assign(type='original')\n",
    ")\n",
    "\n",
    "clean_long = (\n",
    "    df_clean\n",
    "    .reset_index()\n",
    "    .melt(id_vars='Timestamp',\n",
    "          var_name='variable',\n",
    "          value_name='value')\n",
    "    .assign(type='cleaned')\n",
    ")\n",
    "\n",
    "combined = pd.concat([orig_long, clean_long], ignore_index=True)\n",
    "type_order = CategoricalDtype(['original', 'cleaned'], ordered=True)\n",
    "combined['type'] = combined['type'].astype(type_order)\n",
    "\n",
    "plot = (\n",
    "    ggplot(combined, aes('Timestamp', 'value', color='type'))\n",
    "    + geom_line()\n",
    "    + facet_wrap('~variable', scales='free_y', ncol=2)\n",
    "    + scale_color_manual(values=['firebrick', 'navy'])\n",
    "    + labs(\n",
    "        title='Comparação: valores originais vs pós-tratamento',\n",
    "        x='Timestamp',\n",
    "        y='Valor',\n",
    "        color='Série'\n",
    "    )\n",
    "    + theme(figure_size=(10, 6))\n",
    ")\n",
    "\n",
    "plot.show()"
   ]
  },
  {
   "cell_type": "code",
   "execution_count": null,
   "id": "1546c668",
   "metadata": {},
   "outputs": [],
   "source": [
    "df_clean.reset_index(inplace=True)\n",
    "df = df_clean"
   ]
  },
  {
   "cell_type": "code",
   "execution_count": null,
   "id": "3d6e245c",
   "metadata": {},
   "outputs": [],
   "source": [
    "# profile = ProfileReport(df, title='Profile Report')\n",
    "# profile.to_file('profile_report.html')"
   ]
  },
  {
   "cell_type": "code",
   "execution_count": null,
   "id": "7005ada0",
   "metadata": {},
   "outputs": [],
   "source": [
    "# 1. Transformar o Timestamp em variáveis úteis\n",
    "df['hour'] = df['Timestamp'].dt.hour\n",
    "\n",
    "# 2. Transformar Wind_Direction (porque ângulo 0° e 360° são \"iguais\")\n",
    "df['Wind_Dir_Sin'] = np.sin(np.deg2rad(df['Wind_Direction']))\n",
    "df['Wind_Dir_Cos'] = np.cos(np.deg2rad(df['Wind_Direction']))"
   ]
  },
  {
   "cell_type": "code",
   "execution_count": null,
   "id": "bfb00831",
   "metadata": {},
   "outputs": [],
   "source": [
    "# Features que serão usadas\n",
    "features = ['Temperature', 'Precipitation', 'Humidity', 'Wind_Speed_kmh',\n",
    "            'Soil_Moisture', 'Soil_Temperature', 'hour',\n",
    "            'Wind_Dir_Sin', 'Wind_Dir_Cos']\n",
    "\n",
    "X = df[features]\n",
    "\n",
    "# Separar treino e teste\n",
    "train_size = int(0.8 * len(X))  # 80% treino, 20% teste\n",
    "X_train_data = X.iloc[:train_size]\n",
    "X_test_data = X.iloc[train_size:]\n",
    "\n",
    "# Escalonar com MinMaxScaler apenas no treino\n",
    "scaler = MinMaxScaler(feature_range=(0, 1))\n",
    "X_train_scaled = scaler.fit_transform(X_train_data)\n",
    "X_test_scaled = scaler.transform(X_test_data)\n",
    "\n",
    "# AGORA, vamos construir X e y para LSTM (com janela de tempo)\n",
    "\n",
    "def create_sequences(X_scaled, window_size):\n",
    "    Xs, ys = [], []\n",
    "    for i in range(len(X_scaled) - window_size):\n",
    "        Xs.append(X_scaled[i:i+window_size])    # sequência\n",
    "        ys.append(X_scaled[i+window_size])       # próximo passo\n",
    "    return np.array(Xs), np.array(ys)\n",
    "\n",
    "# Define o tamanho da janela (ex: 10 passos anteriores)\n",
    "window_size = 10\n",
    "\n",
    "X_train, y_train = create_sequences(X_train_scaled, window_size)\n",
    "X_test, y_test = create_sequences(X_test_scaled, window_size)"
   ]
  },
  {
   "cell_type": "code",
   "execution_count": null,
   "id": "29d62b22",
   "metadata": {},
   "outputs": [],
   "source": [
    "X_train.shape, y_train.shape"
   ]
  },
  {
   "cell_type": "code",
   "execution_count": null,
   "id": "d3d20c20",
   "metadata": {},
   "outputs": [],
   "source": []
  }
 ],
 "metadata": {
  "jupytext": {
   "cell_metadata_filter": "-all",
   "main_language": "python",
   "notebook_metadata_filter": "-all"
  }
 },
 "nbformat": 4,
 "nbformat_minor": 5
}
