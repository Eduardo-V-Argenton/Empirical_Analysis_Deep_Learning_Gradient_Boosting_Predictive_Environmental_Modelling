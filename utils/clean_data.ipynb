{
 "cells": [
  {
   "cell_type": "code",
   "execution_count": 1,
   "id": "8e80ae19",
   "metadata": {},
   "outputs": [
    {
     "data": {
      "text/html": [
       "\n",
       "            <div>\n",
       "                <ins><a href=\"https://ydata.ai/register\">Upgrade to ydata-sdk</a></ins>\n",
       "                <p>\n",
       "                    Improve your data and profiling with ydata-sdk, featuring data quality scoring, redundancy detection, outlier identification, text validation, and synthetic data generation.\n",
       "                </p>\n",
       "            </div>\n",
       "            "
      ],
      "text/plain": [
       "<IPython.core.display.HTML object>"
      ]
     },
     "metadata": {},
     "output_type": "display_data"
    }
   ],
   "source": [
    "import pandas as pd\n",
    "import numpy as np\n",
    "from statsmodels.tsa.seasonal import STL\n",
    "from sklearn.ensemble import IsolationForest\n",
    "from pandas.api.types import CategoricalDtype\n",
    "from plotnine import ggplot, aes, geom_line, labs, theme, facet_wrap, scale_color_manual\n",
    "from ydata_profiling import ProfileReport\n",
    "import matplotlib.pyplot as plt\n",
    "import matplotlib.colors as mcolors\n",
    "plt.style.use('ggplot')"
   ]
  },
  {
   "cell_type": "code",
   "execution_count": 2,
   "id": "e1569f15",
   "metadata": {
    "lines_to_next_cell": 0
   },
   "outputs": [],
   "source": [
    "df = pd.read_csv('../data/ground_station.csv')\n",
    "df = df.drop(\"Created_at\",axis=1)\n",
    "df['Timestamp'] = pd.to_datetime(df['Timestamp'], unit='s')\n",
    "df = df.sort_values('Timestamp').reset_index(drop=True)\n",
    "df = df.set_index('Timestamp')"
   ]
  },
  {
   "cell_type": "code",
   "execution_count": 3,
   "id": "3b93d1cf",
   "metadata": {},
   "outputs": [
    {
     "data": {
      "text/html": [
       "<div>\n",
       "<style scoped>\n",
       "    .dataframe tbody tr th:only-of-type {\n",
       "        vertical-align: middle;\n",
       "    }\n",
       "\n",
       "    .dataframe tbody tr th {\n",
       "        vertical-align: top;\n",
       "    }\n",
       "\n",
       "    .dataframe thead th {\n",
       "        text-align: right;\n",
       "    }\n",
       "</style>\n",
       "<table border=\"1\" class=\"dataframe\">\n",
       "  <thead>\n",
       "    <tr style=\"text-align: right;\">\n",
       "      <th></th>\n",
       "      <th>Longitude</th>\n",
       "      <th>Latitude</th>\n",
       "      <th>Temperature</th>\n",
       "      <th>Humidity</th>\n",
       "      <th>Precipitation</th>\n",
       "      <th>Wind_Speed_kmh</th>\n",
       "      <th>Wind_Direction</th>\n",
       "      <th>Soil_Moisture</th>\n",
       "      <th>Soil_Temperature</th>\n",
       "    </tr>\n",
       "  </thead>\n",
       "  <tbody>\n",
       "    <tr>\n",
       "      <th>count</th>\n",
       "      <td>115673.000000</td>\n",
       "      <td>1.156730e+05</td>\n",
       "      <td>115673.000000</td>\n",
       "      <td>115673.000000</td>\n",
       "      <td>115673.000000</td>\n",
       "      <td>115673.000000</td>\n",
       "      <td>115673.00000</td>\n",
       "      <td>115673.000000</td>\n",
       "      <td>109974.000000</td>\n",
       "    </tr>\n",
       "    <tr>\n",
       "      <th>mean</th>\n",
       "      <td>-119.700698</td>\n",
       "      <td>4.985965e+01</td>\n",
       "      <td>10.701321</td>\n",
       "      <td>68.941043</td>\n",
       "      <td>0.005780</td>\n",
       "      <td>1.570272</td>\n",
       "      <td>179.17259</td>\n",
       "      <td>7690.919999</td>\n",
       "      <td>10.579231</td>\n",
       "    </tr>\n",
       "    <tr>\n",
       "      <th>std</th>\n",
       "      <td>0.000000</td>\n",
       "      <td>7.105458e-15</td>\n",
       "      <td>11.029890</td>\n",
       "      <td>23.906514</td>\n",
       "      <td>0.533921</td>\n",
       "      <td>1.537215</td>\n",
       "      <td>115.98962</td>\n",
       "      <td>1917.643090</td>\n",
       "      <td>11.479107</td>\n",
       "    </tr>\n",
       "    <tr>\n",
       "      <th>min</th>\n",
       "      <td>-119.700698</td>\n",
       "      <td>4.985965e+01</td>\n",
       "      <td>-20.640000</td>\n",
       "      <td>6.000000</td>\n",
       "      <td>0.000000</td>\n",
       "      <td>0.000000</td>\n",
       "      <td>0.00000</td>\n",
       "      <td>-1.000000</td>\n",
       "      <td>-11.560000</td>\n",
       "    </tr>\n",
       "    <tr>\n",
       "      <th>25%</th>\n",
       "      <td>-119.700698</td>\n",
       "      <td>4.985965e+01</td>\n",
       "      <td>0.650000</td>\n",
       "      <td>50.600000</td>\n",
       "      <td>0.000000</td>\n",
       "      <td>0.400000</td>\n",
       "      <td>122.00000</td>\n",
       "      <td>7232.000000</td>\n",
       "      <td>0.000000</td>\n",
       "    </tr>\n",
       "    <tr>\n",
       "      <th>50%</th>\n",
       "      <td>-119.700698</td>\n",
       "      <td>4.985965e+01</td>\n",
       "      <td>10.930000</td>\n",
       "      <td>71.500000</td>\n",
       "      <td>0.000000</td>\n",
       "      <td>1.350000</td>\n",
       "      <td>168.00000</td>\n",
       "      <td>8128.000000</td>\n",
       "      <td>9.810000</td>\n",
       "    </tr>\n",
       "    <tr>\n",
       "      <th>75%</th>\n",
       "      <td>-119.700698</td>\n",
       "      <td>4.985965e+01</td>\n",
       "      <td>18.090000</td>\n",
       "      <td>91.100000</td>\n",
       "      <td>0.000000</td>\n",
       "      <td>2.240000</td>\n",
       "      <td>311.00000</td>\n",
       "      <td>8816.000000</td>\n",
       "      <td>16.930000</td>\n",
       "    </tr>\n",
       "    <tr>\n",
       "      <th>max</th>\n",
       "      <td>-119.700698</td>\n",
       "      <td>4.985965e+01</td>\n",
       "      <td>43.430000</td>\n",
       "      <td>100.000000</td>\n",
       "      <td>119.862600</td>\n",
       "      <td>37.390000</td>\n",
       "      <td>359.00000</td>\n",
       "      <td>10288.000000</td>\n",
       "      <td>54.680000</td>\n",
       "    </tr>\n",
       "  </tbody>\n",
       "</table>\n",
       "</div>"
      ],
      "text/plain": [
       "           Longitude      Latitude    Temperature       Humidity  \\\n",
       "count  115673.000000  1.156730e+05  115673.000000  115673.000000   \n",
       "mean     -119.700698  4.985965e+01      10.701321      68.941043   \n",
       "std         0.000000  7.105458e-15      11.029890      23.906514   \n",
       "min      -119.700698  4.985965e+01     -20.640000       6.000000   \n",
       "25%      -119.700698  4.985965e+01       0.650000      50.600000   \n",
       "50%      -119.700698  4.985965e+01      10.930000      71.500000   \n",
       "75%      -119.700698  4.985965e+01      18.090000      91.100000   \n",
       "max      -119.700698  4.985965e+01      43.430000     100.000000   \n",
       "\n",
       "       Precipitation  Wind_Speed_kmh  Wind_Direction  Soil_Moisture  \\\n",
       "count  115673.000000   115673.000000    115673.00000  115673.000000   \n",
       "mean        0.005780        1.570272       179.17259    7690.919999   \n",
       "std         0.533921        1.537215       115.98962    1917.643090   \n",
       "min         0.000000        0.000000         0.00000      -1.000000   \n",
       "25%         0.000000        0.400000       122.00000    7232.000000   \n",
       "50%         0.000000        1.350000       168.00000    8128.000000   \n",
       "75%         0.000000        2.240000       311.00000    8816.000000   \n",
       "max       119.862600       37.390000       359.00000   10288.000000   \n",
       "\n",
       "       Soil_Temperature  \n",
       "count     109974.000000  \n",
       "mean          10.579231  \n",
       "std           11.479107  \n",
       "min          -11.560000  \n",
       "25%            0.000000  \n",
       "50%            9.810000  \n",
       "75%           16.930000  \n",
       "max           54.680000  "
      ]
     },
     "execution_count": 3,
     "metadata": {},
     "output_type": "execute_result"
    }
   ],
   "source": [
    "df.describe()"
   ]
  },
  {
   "cell_type": "code",
   "execution_count": 4,
   "id": "e24ead2a",
   "metadata": {},
   "outputs": [
    {
     "name": "stdout",
     "output_type": "stream",
     "text": [
      "df.index.max(): 2024-09-16 06:15:19\n",
      "df.index.min(): 2022-08-03 19:49:10\n"
     ]
    }
   ],
   "source": [
    "print(f\"df.index.max(): {df.index.max()}\")\n",
    "print(f\"df.index.min(): {df.index.min()}\")"
   ]
  },
  {
   "cell_type": "code",
   "execution_count": 5,
   "id": "9d84fd93",
   "metadata": {},
   "outputs": [
    {
     "name": "stdout",
     "output_type": "stream",
     "text": [
      "Gap de 90 days 06:47:15 entre 2022-12-17 13:04:40 e 2023-03-17 19:51:55\n",
      "Gap de 2 days 21:17:05 entre 2023-03-17 20:11:55 e 2023-03-20 17:29:00\n",
      "Gap de 1 days 02:55:38 entre 2023-03-20 18:49:00 e 2023-03-21 21:44:38\n",
      "Gap de 0 days 23:28:24 entre 2023-03-21 22:04:38 e 2023-03-22 21:33:02\n",
      "Gap de 3 days 03:34:49 entre 2023-03-22 22:53:02 e 2023-03-26 02:27:51\n",
      "Gap de 7 days 12:05:00 entre 2023-03-26 06:47:51 e 2023-04-02 18:52:51\n",
      "Gap de 119 days 06:53:58 entre 2023-04-05 07:43:01 e 2023-08-02 14:36:59\n",
      "Gap de 8 days 22:05:56 entre 2024-01-11 23:27:04 e 2024-01-20 21:33:00\n",
      "Gap de 12 days 16:18:26 entre 2024-01-21 03:23:00 e 2024-02-02 19:41:26\n",
      "Gap de 116 days 19:56:02 entre 2024-02-03 00:01:26 e 2024-05-29 19:57:28\n"
     ]
    }
   ],
   "source": [
    "diffs = df.index.to_series().diff()\n",
    "gaps = diffs[diffs > pd.Timedelta(hours=6)]\n",
    "\n",
    "# Para cada gap, mostrar a data anterior (início do gap) e a atual (fim do gap)\n",
    "for idx in gaps.index:\n",
    "    end = idx\n",
    "    start = df.index[df.index.get_loc(idx) - 1]\n",
    "    print(f\"Gap de {gaps.loc[idx]} entre {start} e {end}\")"
   ]
  },
  {
   "cell_type": "code",
   "execution_count": 6,
   "id": "45226d96",
   "metadata": {},
   "outputs": [
    {
     "name": "stdout",
     "output_type": "stream",
     "text": [
      "Timestamp\n",
      "0 days 00:05:00      115296\n",
      "0 days 00:35:00         274\n",
      "0 days 01:05:00          48\n",
      "0 days 00:05:01          14\n",
      "0 days 01:35:00          13\n",
      "0 days 00:05:10           5\n",
      "0 days 02:35:00           2\n",
      "2 days 21:17:05           1\n",
      "0 days 00:29:51           1\n",
      "0 days 00:45:04           1\n",
      "90 days 06:47:15          1\n",
      "3 days 03:34:49           1\n",
      "0 days 23:28:24           1\n",
      "1 days 02:55:38           1\n",
      "7 days 12:05:00           1\n",
      "0 days 01:05:10           1\n",
      "119 days 06:53:58         1\n",
      "0 days 03:05:00           1\n",
      "0 days 00:04:49           1\n",
      "0 days 02:05:00           1\n",
      "0 days 03:35:00           1\n",
      "0 days 00:35:01           1\n",
      "8 days 22:05:56           1\n",
      "12 days 16:18:26          1\n",
      "116 days 19:56:02         1\n",
      "0 days 00:03:20           1\n",
      "0 days 00:04:17           1\n",
      "Name: count, dtype: int64\n"
     ]
    }
   ],
   "source": [
    "diffs = df.index.to_series().diff().value_counts()\n",
    "print(diffs)"
   ]
  },
  {
   "cell_type": "code",
   "execution_count": 10,
   "id": "5294ddf4",
   "metadata": {},
   "outputs": [
    {
     "data": {
      "image/png": "[encoded data removed]",
      "text/plain": [
       "<Figure size 2000x360 with 1 Axes>"
      ]
     },
     "metadata": {},
     "output_type": "display_data"
    }
   ],
   "source": [
    "presence = pd.Series(1, index=df.index)\n",
    "presence = presence.resample('D').max()\n",
    "\n",
    "# Criar DataFrame com info de data\n",
    "presence_df = presence.to_frame('present')\n",
    "presence_df['year'] = presence_df.index.year\n",
    "presence_df['day_of_year'] = presence_df.index.dayofyear\n",
    "\n",
    "# Criar matriz de presença por ano x dia\n",
    "matrix = presence_df.pivot(index='year', columns='day_of_year', values='present')\n",
    "\n",
    "# Criar colormap com uma cor por ano\n",
    "years = matrix.index\n",
    "n_years = len(years)\n",
    "colors = plt.cm.viridis(np.linspace(0.2, 0.9, n_years))\n",
    "cmap = mcolors.ListedColormap(colors)\n",
    "data_colored = np.array([\n",
    "    row * i if not np.all(np.isnan(row)) else np.nan\n",
    "    for i, row in enumerate(matrix.values, start=1)\n",
    "])\n",
    "\n",
    "# Plotar\n",
    "plt.figure(figsize=(20, n_years * 1.2))\n",
    "plt.imshow(data_colored, aspect='auto', cmap=cmap, interpolation='none')\n",
    "plt.xlabel('Dia do Ano')\n",
    "plt.ylabel('Ano')\n",
    "plt.title('Presença de dados por dia do ano')\n",
    "plt.xticks(np.linspace(0, 365, 13), labels=['Jan','Fev','Mar','Abr','Mai','Jun','Jul','Ago','Set','Out','Nov','Dez',''])\n",
    "plt.yticks(ticks=np.arange(len(years)), labels=years)\n",
    "plt.grid(False)\n",
    "plt.tight_layout()\n",
    "plt.show()"
   ]
  },
  {
   "cell_type": "markdown",
   "id": "2842bc04",
   "metadata": {},
   "source": [
    "Definir o período de interesse (últimos 365 dias até a última data disponível)"
   ]
  },
  {
   "cell_type": "code",
   "execution_count": 87,
   "id": "715cb924",
   "metadata": {},
   "outputs": [],
   "source": [
    "end = df.index.max()\n",
    "start = end - pd.Timedelta(days=365)"
   ]
  },
  {
   "cell_type": "markdown",
   "id": "449e6226",
   "metadata": {},
   "source": [
    "Gerar índice completo com frequência regular (por ex. 30 minutos: '30T', ou 1 hora: 'H')\n"
   ]
  },
  {
   "cell_type": "code",
   "execution_count": 88,
   "id": "f9e388cc",
   "metadata": {},
   "outputs": [
    {
     "name": "stdout",
     "output_type": "stream",
     "text": [
      "Full index: DatetimeIndex(['2023-09-17 06:15:19', '2023-09-17 06:20:19',\n",
      "               '2023-09-17 06:25:19', '2023-09-17 06:30:19',\n",
      "               '2023-09-17 06:35:19', '2023-09-17 06:40:19',\n",
      "               '2023-09-17 06:45:19', '2023-09-17 06:50:19',\n",
      "               '2023-09-17 06:55:19', '2023-09-17 07:00:19',\n",
      "               ...\n",
      "               '2024-09-16 05:30:19', '2024-09-16 05:35:19',\n",
      "               '2024-09-16 05:40:19', '2024-09-16 05:45:19',\n",
      "               '2024-09-16 05:50:19', '2024-09-16 05:55:19',\n",
      "               '2024-09-16 06:00:19', '2024-09-16 06:05:19',\n",
      "               '2024-09-16 06:10:19', '2024-09-16 06:15:19'],\n",
      "              dtype='datetime64[ns]', length=105121, freq='5min')\n"
     ]
    }
   ],
   "source": [
    "full_idx = pd.date_range(start=start, end=end, freq='5min')\n",
    "print(f\"Full index: {full_idx}\")"
   ]
  },
  {
   "cell_type": "markdown",
   "id": "304ea2a0",
   "metadata": {},
   "source": [
    "Reindexar o DataFrame para esse índice “cheio”"
   ]
  },
  {
   "cell_type": "code",
   "execution_count": 99,
   "id": "849e2229",
   "metadata": {},
   "outputs": [],
   "source": [
    "df_full = df.reindex(full_idx)"
   ]
  },
  {
   "cell_type": "code",
   "execution_count": 102,
   "id": "97e1db57",
   "metadata": {},
   "outputs": [
    {
     "data": {
      "text/plain": [
       "105121"
      ]
     },
     "execution_count": 102,
     "metadata": {},
     "output_type": "execute_result"
    }
   ],
   "source": [
    "len(df_full)"
   ]
  },
  {
   "cell_type": "code",
   "execution_count": 106,
   "id": "f36e4556",
   "metadata": {},
   "outputs": [
    {
     "name": "stdout",
     "output_type": "stream",
     "text": [
      "0 days 00:05:00    105120\n",
      "Name: count, dtype: int64\n"
     ]
    }
   ],
   "source": [
    "diffs = df_full.index.to_series().diff().value_counts()\n",
    "print(diffs)"
   ]
  },
  {
   "cell_type": "code",
   "execution_count": null,
   "id": "d9cf834d",
   "metadata": {},
   "outputs": [],
   "source": [
    "iso = IsolationForest(contamination='auto', random_state=42)\n",
    "iso.fit(residuals)"
   ]
  },
  {
   "cell_type": "code",
   "execution_count": null,
   "id": "199fad6a",
   "metadata": {},
   "outputs": [],
   "source": [
    "flags = iso.predict(residuals)\n",
    "is_multivariate_anomaly = pd.Series(flags == -1, index=residuals.index)\n",
    "df['is_multivariate_anomaly'] = is_multivariate_anomaly\n",
    "df.head()"
   ]
  },
  {
   "cell_type": "code",
   "execution_count": null,
   "id": "9da67673",
   "metadata": {},
   "outputs": [],
   "source": [
    "print('Foram encontrados {} outliers'.format(is_multivariate_anomaly.sum()))"
   ]
  },
  {
   "cell_type": "code",
   "execution_count": null,
   "id": "c2411ec4",
   "metadata": {},
   "outputs": [],
   "source": [
    "df_clean = df.copy()\n",
    "for col, stl_res in decomps.items():\n",
    "    cleaned_series = df[col].copy()\n",
    "    cleaned_series[is_multivariate_anomaly] = (stl_res.trend + stl_res.seasonal)[is_multivariate_anomaly]\n",
    "    df_clean[col] = cleaned_series\n",
    "df_clean.drop(columns=['is_multivariate_anomaly'], inplace=True)\n",
    "df.drop(columns=['is_multivariate_anomaly'], inplace=True)\n",
    "df_clean.head()"
   ]
  },
  {
   "cell_type": "code",
   "execution_count": null,
   "id": "a749332e",
   "metadata": {},
   "outputs": [],
   "source": [
    "print('--- Original ---')\n",
    "print(df.describe())\n",
    "print('--- Limpo ---')\n",
    "print(df_clean.describe())"
   ]
  },
  {
   "cell_type": "code",
   "execution_count": null,
   "id": "69990b31",
   "metadata": {
    "lines_to_next_cell": 0
   },
   "outputs": [],
   "source": [
    "orig_long = (\n",
    "    df\n",
    "    .reset_index()\n",
    "    .melt(id_vars='Timestamp',\n",
    "          var_name='variable',\n",
    "          value_name='value')\n",
    "    .assign(type='original')\n",
    ")\n",
    "\n",
    "clean_long = (\n",
    "    df_clean\n",
    "    .reset_index()\n",
    "    .melt(id_vars='Timestamp',\n",
    "          var_name='variable',\n",
    "          value_name='value')\n",
    "    .assign(type='cleaned')\n",
    ")\n",
    "\n",
    "combined = pd.concat([orig_long, clean_long], ignore_index=True)\n",
    "type_order = CategoricalDtype(['original', 'cleaned'], ordered=True)\n",
    "combined['type'] = combined['type'].astype(type_order)\n",
    "\n",
    "plot = (\n",
    "    ggplot(combined, aes('Timestamp', 'value', color='type'))\n",
    "    + geom_line()\n",
    "    + facet_wrap('~variable', scales='free_y', ncol=2)\n",
    "    + scale_color_manual(values=['firebrick', 'navy'])\n",
    "    + labs(\n",
    "        title='Comparação: valores originais vs pós-tratamento',\n",
    "        x='Timestamp',\n",
    "        y='Valor',\n",
    "        color='Série'\n",
    "    )\n",
    "    + theme(figure_size=(10, 6))\n",
    ")\n",
    "\n",
    "plot.show()"
   ]
  },
  {
   "cell_type": "code",
   "execution_count": null,
   "id": "02b3ca6e",
   "metadata": {
    "lines_to_next_cell": 2
   },
   "outputs": [],
   "source": [
    "df = df_clean"
   ]
  },
  {
   "cell_type": "code",
   "execution_count": null,
   "id": "b8bf3015",
   "metadata": {
    "lines_to_next_cell": 0
   },
   "outputs": [],
   "source": [
    "#Transformar Wind_Direction (porque ângulo 0° e 360° são \"iguais\")\n",
    "df['Wind_Dir_Sin'] = np.sin(np.deg2rad(df['Wind_Direction']))\n",
    "df['Wind_Dir_Cos'] = np.cos(np.deg2rad(df['Wind_Direction']))\n",
    "df['Precipitation_log'] = np.log1p(df['Precipitation'])\n",
    "\n",
    "df.drop(columns=['Wind_Direction'], inplace=True)\n",
    "df.drop(columns=['Precipitation'], inplace=True)"
   ]
  },
  {
   "cell_type": "code",
   "execution_count": null,
   "id": "728242a5",
   "metadata": {},
   "outputs": [
    {
     "ename": "TypeError",
     "evalue": "`df must be either a `pandas.DataFrame` or a `pyspark.sql.DataFrame`, but got <class 'NoneType'>.If using Spark, make sure PySpark is installed.",
     "output_type": "error",
     "traceback": [
      "\u001b[31m---------------------------------------------------------------------------\u001b[39m",
      "\u001b[31mModuleNotFoundError\u001b[39m                       Traceback (most recent call last)",
      "\u001b[36mFile \u001b[39m\u001b[32m~/Documentos/Water-Cycle-Neural-Network/venv/lib/python3.12/site-packages/ydata_profiling/model/describe.py:63\u001b[39m, in \u001b[36mdescribe\u001b[39m\u001b[34m(config, df, summarizer, typeset, sample)\u001b[39m\n\u001b[32m     62\u001b[39m \u001b[38;5;28;01mtry\u001b[39;00m:\n\u001b[32m---> \u001b[39m\u001b[32m63\u001b[39m     \u001b[38;5;28;01mfrom\u001b[39;00m\u001b[38;5;250m \u001b[39m\u001b[34;01mpyspark\u001b[39;00m\u001b[34;01m.\u001b[39;00m\u001b[34;01msql\u001b[39;00m\u001b[38;5;250m \u001b[39m\u001b[38;5;28;01mimport\u001b[39;00m DataFrame \u001b[38;5;28;01mas\u001b[39;00m SparkDataFrame  \u001b[38;5;66;03m# type: ignore\u001b[39;00m\n\u001b[32m     65\u001b[39m     \u001b[38;5;28;01mif\u001b[39;00m \u001b[38;5;129;01mnot\u001b[39;00m \u001b[38;5;28misinstance\u001b[39m(df, SparkDataFrame):  \u001b[38;5;66;03m# noqa: TC301\u001b[39;00m\n",
      "\u001b[31mModuleNotFoundError\u001b[39m: No module named 'pyspark'",
      "\nThe above exception was the direct cause of the following exception:\n",
      "\u001b[31mTypeError\u001b[39m                                 Traceback (most recent call last)",
      "\u001b[36mCell\u001b[39m\u001b[36m \u001b[39m\u001b[32mIn[108]\u001b[39m\u001b[32m, line 3\u001b[39m\n\u001b[32m      1\u001b[39m df_full = df_full.reset_index(inplace=\u001b[38;5;28;01mTrue\u001b[39;00m)\n\u001b[32m      2\u001b[39m profile = ProfileReport(df_full, title=\u001b[33m'\u001b[39m\u001b[33mProfile Report\u001b[39m\u001b[33m'\u001b[39m)\n\u001b[32m----> \u001b[39m\u001b[32m3\u001b[39m \u001b[43mprofile\u001b[49m\u001b[43m.\u001b[49m\u001b[43mto_file\u001b[49m\u001b[43m(\u001b[49m\u001b[33;43m'\u001b[39;49m\u001b[33;43mprofile_report.html\u001b[39;49m\u001b[33;43m'\u001b[39;49m\u001b[43m)\u001b[49m\n",
      "\u001b[36mFile \u001b[39m\u001b[32m~/Documentos/Water-Cycle-Neural-Network/venv/lib/python3.12/site-packages/ydata_profiling/profile_report.py:381\u001b[39m, in \u001b[36mProfileReport.to_file\u001b[39m\u001b[34m(self, output_file, silent)\u001b[39m\n\u001b[32m    378\u001b[39m         \u001b[38;5;28mself\u001b[39m.config.html.assets_prefix = \u001b[38;5;28mstr\u001b[39m(output_file.stem) + \u001b[33m\"\u001b[39m\u001b[33m_assets\u001b[39m\u001b[33m\"\u001b[39m\n\u001b[32m    379\u001b[39m     create_html_assets(\u001b[38;5;28mself\u001b[39m.config, output_file)\n\u001b[32m--> \u001b[39m\u001b[32m381\u001b[39m data = \u001b[38;5;28;43mself\u001b[39;49m\u001b[43m.\u001b[49m\u001b[43mto_html\u001b[49m\u001b[43m(\u001b[49m\u001b[43m)\u001b[49m\n\u001b[32m    383\u001b[39m \u001b[38;5;28;01mif\u001b[39;00m output_file.suffix != \u001b[33m\"\u001b[39m\u001b[33m.html\u001b[39m\u001b[33m\"\u001b[39m:\n\u001b[32m    384\u001b[39m     suffix = output_file.suffix\n",
      "\u001b[36mFile \u001b[39m\u001b[32m~/Documentos/Water-Cycle-Neural-Network/venv/lib/python3.12/site-packages/ydata_profiling/profile_report.py:498\u001b[39m, in \u001b[36mProfileReport.to_html\u001b[39m\u001b[34m(self)\u001b[39m\n\u001b[32m    490\u001b[39m \u001b[38;5;28;01mdef\u001b[39;00m\u001b[38;5;250m \u001b[39m\u001b[34mto_html\u001b[39m(\u001b[38;5;28mself\u001b[39m) -> \u001b[38;5;28mstr\u001b[39m:\n\u001b[32m    491\u001b[39m \u001b[38;5;250m    \u001b[39m\u001b[33;03m\"\"\"Generate and return complete template as lengthy string\u001b[39;00m\n\u001b[32m    492\u001b[39m \u001b[33;03m        for using with frameworks.\u001b[39;00m\n\u001b[32m    493\u001b[39m \n\u001b[32m   (...)\u001b[39m\u001b[32m    496\u001b[39m \n\u001b[32m    497\u001b[39m \u001b[33;03m    \"\"\"\u001b[39;00m\n\u001b[32m--> \u001b[39m\u001b[32m498\u001b[39m     \u001b[38;5;28;01mreturn\u001b[39;00m \u001b[38;5;28;43mself\u001b[39;49m\u001b[43m.\u001b[49m\u001b[43mhtml\u001b[49m\n",
      "\u001b[36mFile \u001b[39m\u001b[32m~/Documentos/Water-Cycle-Neural-Network/venv/lib/python3.12/site-packages/ydata_profiling/profile_report.py:294\u001b[39m, in \u001b[36mProfileReport.html\u001b[39m\u001b[34m(self)\u001b[39m\n\u001b[32m    291\u001b[39m \u001b[38;5;129m@property\u001b[39m\n\u001b[32m    292\u001b[39m \u001b[38;5;28;01mdef\u001b[39;00m\u001b[38;5;250m \u001b[39m\u001b[34mhtml\u001b[39m(\u001b[38;5;28mself\u001b[39m) -> \u001b[38;5;28mstr\u001b[39m:\n\u001b[32m    293\u001b[39m     \u001b[38;5;28;01mif\u001b[39;00m \u001b[38;5;28mself\u001b[39m._html \u001b[38;5;129;01mis\u001b[39;00m \u001b[38;5;28;01mNone\u001b[39;00m:\n\u001b[32m--> \u001b[39m\u001b[32m294\u001b[39m         \u001b[38;5;28mself\u001b[39m._html = \u001b[38;5;28;43mself\u001b[39;49m\u001b[43m.\u001b[49m\u001b[43m_render_html\u001b[49m\u001b[43m(\u001b[49m\u001b[43m)\u001b[49m\n\u001b[32m    295\u001b[39m     \u001b[38;5;28;01mreturn\u001b[39;00m \u001b[38;5;28mself\u001b[39m._html\n",
      "\u001b[36mFile \u001b[39m\u001b[32m~/Documentos/Water-Cycle-Neural-Network/venv/lib/python3.12/site-packages/ydata_profiling/profile_report.py:411\u001b[39m, in \u001b[36mProfileReport._render_html\u001b[39m\u001b[34m(self)\u001b[39m\n\u001b[32m    408\u001b[39m \u001b[38;5;28;01mdef\u001b[39;00m\u001b[38;5;250m \u001b[39m\u001b[34m_render_html\u001b[39m(\u001b[38;5;28mself\u001b[39m) -> \u001b[38;5;28mstr\u001b[39m:\n\u001b[32m    409\u001b[39m     \u001b[38;5;28;01mfrom\u001b[39;00m\u001b[38;5;250m \u001b[39m\u001b[34;01mydata_profiling\u001b[39;00m\u001b[34;01m.\u001b[39;00m\u001b[34;01mreport\u001b[39;00m\u001b[34;01m.\u001b[39;00m\u001b[34;01mpresentation\u001b[39;00m\u001b[34;01m.\u001b[39;00m\u001b[34;01mflavours\u001b[39;00m\u001b[38;5;250m \u001b[39m\u001b[38;5;28;01mimport\u001b[39;00m HTMLReport\n\u001b[32m--> \u001b[39m\u001b[32m411\u001b[39m     report = \u001b[38;5;28;43mself\u001b[39;49m\u001b[43m.\u001b[49m\u001b[43mreport\u001b[49m\n\u001b[32m    413\u001b[39m     \u001b[38;5;28;01mwith\u001b[39;00m tqdm(\n\u001b[32m    414\u001b[39m         total=\u001b[32m1\u001b[39m, desc=\u001b[33m\"\u001b[39m\u001b[33mRender HTML\u001b[39m\u001b[33m\"\u001b[39m, disable=\u001b[38;5;129;01mnot\u001b[39;00m \u001b[38;5;28mself\u001b[39m.config.progress_bar\n\u001b[32m    415\u001b[39m     ) \u001b[38;5;28;01mas\u001b[39;00m pbar:\n\u001b[32m    416\u001b[39m         html = HTMLReport(copy.deepcopy(report)).render(\n\u001b[32m    417\u001b[39m             nav=\u001b[38;5;28mself\u001b[39m.config.html.navbar_show,\n\u001b[32m    418\u001b[39m             offline=\u001b[38;5;28mself\u001b[39m.config.html.use_local_assets,\n\u001b[32m   (...)\u001b[39m\u001b[32m    426\u001b[39m             version=\u001b[38;5;28mself\u001b[39m.description_set.package[\u001b[33m\"\u001b[39m\u001b[33mydata_profiling_version\u001b[39m\u001b[33m\"\u001b[39m],\n\u001b[32m    427\u001b[39m         )\n",
      "\u001b[36mFile \u001b[39m\u001b[32m~/Documentos/Water-Cycle-Neural-Network/venv/lib/python3.12/site-packages/ydata_profiling/profile_report.py:288\u001b[39m, in \u001b[36mProfileReport.report\u001b[39m\u001b[34m(self)\u001b[39m\n\u001b[32m    285\u001b[39m \u001b[38;5;129m@property\u001b[39m\n\u001b[32m    286\u001b[39m \u001b[38;5;28;01mdef\u001b[39;00m\u001b[38;5;250m \u001b[39m\u001b[34mreport\u001b[39m(\u001b[38;5;28mself\u001b[39m) -> Root:\n\u001b[32m    287\u001b[39m     \u001b[38;5;28;01mif\u001b[39;00m \u001b[38;5;28mself\u001b[39m._report \u001b[38;5;129;01mis\u001b[39;00m \u001b[38;5;28;01mNone\u001b[39;00m:\n\u001b[32m--> \u001b[39m\u001b[32m288\u001b[39m         \u001b[38;5;28mself\u001b[39m._report = get_report_structure(\u001b[38;5;28mself\u001b[39m.config, \u001b[38;5;28;43mself\u001b[39;49m\u001b[43m.\u001b[49m\u001b[43mdescription_set\u001b[49m)\n\u001b[32m    289\u001b[39m     \u001b[38;5;28;01mreturn\u001b[39;00m \u001b[38;5;28mself\u001b[39m._report\n",
      "\u001b[36mFile \u001b[39m\u001b[32m~/Documentos/Water-Cycle-Neural-Network/venv/lib/python3.12/site-packages/ydata_profiling/profile_report.py:270\u001b[39m, in \u001b[36mProfileReport.description_set\u001b[39m\u001b[34m(self)\u001b[39m\n\u001b[32m    267\u001b[39m \u001b[38;5;129m@property\u001b[39m\n\u001b[32m    268\u001b[39m \u001b[38;5;28;01mdef\u001b[39;00m\u001b[38;5;250m \u001b[39m\u001b[34mdescription_set\u001b[39m(\u001b[38;5;28mself\u001b[39m) -> BaseDescription:\n\u001b[32m    269\u001b[39m     \u001b[38;5;28;01mif\u001b[39;00m \u001b[38;5;28mself\u001b[39m._description_set \u001b[38;5;129;01mis\u001b[39;00m \u001b[38;5;28;01mNone\u001b[39;00m:\n\u001b[32m--> \u001b[39m\u001b[32m270\u001b[39m         \u001b[38;5;28mself\u001b[39m._description_set = \u001b[43mdescribe_df\u001b[49m\u001b[43m(\u001b[49m\n\u001b[32m    271\u001b[39m \u001b[43m            \u001b[49m\u001b[38;5;28;43mself\u001b[39;49m\u001b[43m.\u001b[49m\u001b[43mconfig\u001b[49m\u001b[43m,\u001b[49m\n\u001b[32m    272\u001b[39m \u001b[43m            \u001b[49m\u001b[38;5;28;43mself\u001b[39;49m\u001b[43m.\u001b[49m\u001b[43mdf\u001b[49m\u001b[43m,\u001b[49m\n\u001b[32m    273\u001b[39m \u001b[43m            \u001b[49m\u001b[38;5;28;43mself\u001b[39;49m\u001b[43m.\u001b[49m\u001b[43msummarizer\u001b[49m\u001b[43m,\u001b[49m\n\u001b[32m    274\u001b[39m \u001b[43m            \u001b[49m\u001b[38;5;28;43mself\u001b[39;49m\u001b[43m.\u001b[49m\u001b[43mtypeset\u001b[49m\u001b[43m,\u001b[49m\n\u001b[32m    275\u001b[39m \u001b[43m            \u001b[49m\u001b[38;5;28;43mself\u001b[39;49m\u001b[43m.\u001b[49m\u001b[43m_sample\u001b[49m\u001b[43m,\u001b[49m\n\u001b[32m    276\u001b[39m \u001b[43m        \u001b[49m\u001b[43m)\u001b[49m\n\u001b[32m    277\u001b[39m     \u001b[38;5;28;01mreturn\u001b[39;00m \u001b[38;5;28mself\u001b[39m._description_set\n",
      "\u001b[36mFile \u001b[39m\u001b[32m~/Documentos/Water-Cycle-Neural-Network/venv/lib/python3.12/site-packages/ydata_profiling/model/describe.py:70\u001b[39m, in \u001b[36mdescribe\u001b[39m\u001b[34m(config, df, summarizer, typeset, sample)\u001b[39m\n\u001b[32m     66\u001b[39m             \u001b[38;5;28;01mraise\u001b[39;00m \u001b[38;5;167;01mTypeError\u001b[39;00m(  \u001b[38;5;66;03m# noqa: TC301\u001b[39;00m\n\u001b[32m     67\u001b[39m                 \u001b[33mf\u001b[39m\u001b[33m\"\u001b[39m\u001b[33m`df` must be either a `pandas.DataFrame` or a `pyspark.sql.DataFrame`, but got \u001b[39m\u001b[38;5;132;01m{\u001b[39;00m\u001b[38;5;28mtype\u001b[39m(df)\u001b[38;5;132;01m}\u001b[39;00m\u001b[33m.\u001b[39m\u001b[33m\"\u001b[39m\n\u001b[32m     68\u001b[39m             )\n\u001b[32m     69\u001b[39m     \u001b[38;5;28;01mexcept\u001b[39;00m \u001b[38;5;167;01mImportError\u001b[39;00m \u001b[38;5;28;01mas\u001b[39;00m ex:\n\u001b[32m---> \u001b[39m\u001b[32m70\u001b[39m         \u001b[38;5;28;01mraise\u001b[39;00m \u001b[38;5;167;01mTypeError\u001b[39;00m(\n\u001b[32m     71\u001b[39m             \u001b[33mf\u001b[39m\u001b[33m\"\u001b[39m\u001b[33m`df must be either a `pandas.DataFrame` or a `pyspark.sql.DataFrame`, but got \u001b[39m\u001b[38;5;132;01m{\u001b[39;00m\u001b[38;5;28mtype\u001b[39m(df)\u001b[38;5;132;01m}\u001b[39;00m\u001b[33m.\u001b[39m\u001b[33m\"\u001b[39m\n\u001b[32m     72\u001b[39m             \u001b[33mf\u001b[39m\u001b[33m\"\u001b[39m\u001b[33mIf using Spark, make sure PySpark is installed.\u001b[39m\u001b[33m\"\u001b[39m\n\u001b[32m     73\u001b[39m         ) \u001b[38;5;28;01mfrom\u001b[39;00m\u001b[38;5;250m \u001b[39m\u001b[34;01mex\u001b[39;00m\n\u001b[32m     75\u001b[39m df = preprocess(config, df)\n\u001b[32m     77\u001b[39m number_of_tasks = \u001b[32m5\u001b[39m\n",
      "\u001b[31mTypeError\u001b[39m: `df must be either a `pandas.DataFrame` or a `pyspark.sql.DataFrame`, but got <class 'NoneType'>.If using Spark, make sure PySpark is installed."
     ]
    }
   ],
   "source": [
    "profile = ProfileReport(df, title='Profile Report')\n",
    "profile.to_file('profile_report.html')"
   ]
  },
  {
   "cell_type": "code",
   "execution_count": null,
   "id": "e4f13073",
   "metadata": {
    "lines_to_next_cell": 0
   },
   "outputs": [],
   "source": [
    "df.reset_index(inplace=True)\n",
    "# 1) Assegure que o índice ou coluna seja datetime\n",
    "df['Timestamp'] = pd.to_datetime(df['Timestamp'])\n",
    "\n",
    "# 2) Unix time normalizado (feature contínua)\n",
    "df['ts_unix'] = df['Timestamp'].astype(int) // 10**9\n",
    "df['ts_norm'] = (df['ts_unix'] - df['ts_unix'].mean()) / df['ts_unix'].std()\n",
    "\n",
    "# 3) Componentes cíclicos do dia, do ano e da semana\n",
    "# hora do dia\n",
    "h = df['Timestamp'].dt.hour + df['Timestamp'].dt.minute/60\n",
    "df['hour_sin'] = np.sin(2 * np.pi * h / 24)\n",
    "df['hour_cos'] = np.cos(2 * np.pi * h / 24)\n",
    "\n",
    "# dia do ano\n",
    "doy = df['Timestamp'].dt.dayofyear + h/24\n",
    "df['doy_sin'] = np.sin(2 * np.pi * doy / 365)\n",
    "df['doy_cos'] = np.cos(2 * np.pi * doy / 365)\n",
    "\n",
    "# dia da semana\n",
    "dow = df['Timestamp'].dt.dayofweek\n",
    "df['dow_sin'] = np.sin(2 * np.pi * dow / 7)\n",
    "df['dow_cos'] = np.cos(2 * np.pi * dow / 7)\n",
    "\n",
    "# 4) Δt entre observações (seu índice for ordenado)\n",
    "df = df.sort_values('Timestamp')\n",
    "df['delta_t'] = df['ts_unix'].diff().fillna(0)\n",
    "df['delta_t_norm'] = (df['delta_t'] - df['delta_t'].mean()) / df['delta_t'].std()"
   ]
  },
  {
   "cell_type": "code",
   "execution_count": null,
   "id": "d35cd51b",
   "metadata": {
    "lines_to_next_cell": 0
   },
   "outputs": [],
   "source": [
    "num_cols = df.select_dtypes(include=['number']).columns\n",
    "df[num_cols] = df[num_cols].round(3)"
   ]
  },
  {
   "cell_type": "code",
   "execution_count": null,
   "id": "60622cf3",
   "metadata": {},
   "outputs": [],
   "source": [
    "df['diff'] = df['Timestamp'].diff()\n",
    "max_gap = pd.Timedelta(hours=4)\n",
    "df['is_break'] = df['diff'] > max_gap\n",
    "df['segment'] = df['is_break'].cumsum().fillna(0).astype(int)\n",
    "\n",
    "print(\"Máximo intervalo entre pontos:\", df['diff'].max())\n",
    "print(\"Segmentos encontrados:\", df['segment'].unique())\n",
    "\n",
    "for seg, grp in df.groupby('segment'):\n",
    "    count = len(grp)\n",
    "    if count > 150:\n",
    "        start_Timestamp = grp['Timestamp'].min().strftime('%Y-%m-%d %H:%M:%S')\n",
    "        end_Timestamp   = grp['Timestamp'].max().strftime('%Y-%m-%d %H:%M:%S')\n",
    "        filename = f'serie_segmento_{seg}.csv'\n",
    "        grp = grp.drop('diff', axis=1)\n",
    "        grp = grp.drop('is_break', axis=1)\n",
    "        grp = grp.drop('segment', axis=1)\n",
    "        grp = grp.drop('index', axis =1)\n",
    "        grp = grp.set_index('Timestamp')\n",
    "        grp = grp.resample('30min').mean()\n",
    "        grp = grp.interpolate(method='linear')\n",
    "        grp = grp.ffill().bfill()\n",
    "        grp.to_csv(filename)\n",
    "        print(f'Criado: {filename} | Segmento {seg}: {start_Timestamp} → {end_Timestamp} ({len(grp)} registros)')"
   ]
  }
 ],
 "metadata": {
  "jupytext": {
   "cell_metadata_filter": "-all",
   "main_language": "python",
   "notebook_metadata_filter": "-all"
  },
  "kernelspec": {
   "display_name": "Python (TORCH)",
   "language": "python",
   "name": "torch"
  },
  "language_info": {
   "codemirror_mode": {
    "name": "ipython",
    "version": 3
   },
   "file_extension": ".py",
   "mimetype": "text/x-python",
   "name": "python",
   "nbconvert_exporter": "python",
   "pygments_lexer": "ipython3",
   "version": "3.12.3"
  }
 },
 "nbformat": 4,
 "nbformat_minor": 5
}
