{
 "cells": [
  {
   "cell_type": "code",
   "id": "ab9c24fd1c762b3c",
   "metadata": {
    "ExecuteTime": {
     "end_time": "2025-05-27T22:48:04.577507Z",
     "start_time": "2025-05-27T22:48:01.019492Z"
    }
   },
   "source": [
    "import matplotlib.pyplot as plt\n",
    "import numpy as np\n",
    "import pandas as pd\n",
    "from darts import TimeSeries\n",
    "from darts.models import TiDEModel\n",
    "from darts.metrics import mse, rmse, r2_score, mae, smape\n",
    "from darts.dataprocessing.transformers import Scaler\n",
    "import torch\n",
    "from optuna.integration import PyTorchLightningPruningCallback\n",
    "from pytorch_lightning.callbacks import Callback, EarlyStopping\n",
    "import optuna\n",
    "import os\n",
    "import json\n",
    "\n",
    "# Visualization settings\n",
    "plt.style.use('ggplot')\n",
    "plt.rcParams['figure.figsize'] = (12, 6)\n",
    "torch.set_float32_matmul_precision('medium')"
   ],
   "outputs": [],
   "execution_count": 1
  },
  {
   "cell_type": "code",
   "id": "dea824a04ee35876",
   "metadata": {
    "ExecuteTime": {
     "end_time": "2025-05-27T22:48:04.633312Z",
     "start_time": "2025-05-27T22:48:04.621751Z"
    }
   },
   "source": [
    "target_columns = [\n",
    "    'Temperature','Precipitation_accumulated','Humidity', 'Wind_Speed_kmh',\n",
    "    'Soil_Moisture', 'Soil_Temperature', 'Wind_Dir_Sin', 'Wind_Dir_Cos'\n",
    "]\n",
    "\n",
    "DATA_FILE_PATH = \"../data/ground_station_clean.csv\"\n",
    "df = pd.read_csv(DATA_FILE_PATH)"
   ],
   "outputs": [],
   "execution_count": 2
  },
  {
   "cell_type": "code",
   "id": "def2c882f0e74f35",
   "metadata": {
    "ExecuteTime": {
     "end_time": "2025-05-27T22:48:04.676067Z",
     "start_time": "2025-05-27T22:48:04.674070Z"
    }
   },
   "source": [
    "encoders = {\n",
    "    \"cyclic\": {\n",
    "        \"past\": [\"month\", \"dayofyear\", \"day\", \"hour\", \"minute\"],\n",
    "        \"future\": [\"month\", \"dayofyear\", \"day\", \"hour\", \"minute\"]\n",
    "    },\n",
    "    \"transformer\": Scaler(),\n",
    "    \"datetime_attribute\": {\n",
    "        \"past\": [\"year\"],\n",
    "        \"future\": [\"year\"]\n",
    "    }\n",
    "}\n"
   ],
   "outputs": [],
   "execution_count": 3
  },
  {
   "cell_type": "code",
   "id": "69a1e0daa0e77178",
   "metadata": {
    "ExecuteTime": {
     "end_time": "2025-05-27T22:48:04.724515Z",
     "start_time": "2025-05-27T22:48:04.722537Z"
    }
   },
   "source": [
    "class PatchedPruningCallback(PyTorchLightningPruningCallback, Callback):\n",
    "    pass\n",
    "\n",
    "# Create directory to save iteration results\n",
    "results_output_dir = \"optuna_iteration_metrics\"\n",
    "os.makedirs(results_output_dir, exist_ok=True)"
   ],
   "outputs": [],
   "execution_count": 4
  },
  {
   "cell_type": "code",
   "id": "b7ecbcc9f47588d3",
   "metadata": {
    "ExecuteTime": {
     "end_time": "2025-05-27T22:48:04.780788Z",
     "start_time": "2025-05-27T22:48:04.772197Z"
    }
   },
   "source": [
    "def objective(trial):\n",
    "    input_chunk_length = trial.suggest_int(\"input_chunk_length\", 24, 72)\n",
    "    output_chunk_length = trial.suggest_int(\"output_chunk_length\", 1, 24)\n",
    "    dropout = trial.suggest_float(\"dropout\", 0.1, 0.5)\n",
    "    batch_size = trial.suggest_int(\"batch_size\", 64, 256)\n",
    "    lr = trial.suggest_float(\"lr\", 1e-6, 5e-3, log=True)\n",
    "    weight_decay = trial.suggest_float(\"weight_decay\", 1e-6, 1e-2, log=True)\n",
    "\n",
    "    hidden_size = trial.suggest_categorical('hidden_size', [64, 128, 256])\n",
    "    num_encoder_layers = trial.suggest_int('num_encoder_layers', 1, 4)\n",
    "    num_decoder_layers = trial.suggest_int('num_decoder_layers', 1, 4)\n",
    "\n",
    "    temporal_width_past = trial.suggest_int(\"temporal_width_past\", 1, 5)\n",
    "    temporal_width_future = trial.suggest_int(\"temporal_width_future\", 1, 5)\n",
    "    use_reversible_instance_norm = trial.suggest_categorical(\"use_reversible_instance_norm\", [True, False])\n",
    "\n",
    "    # Try different loss functions\n",
    "    loss_functions = {\n",
    "        'mse': torch.nn.MSELoss(),\n",
    "        'mae': torch.nn.L1Loss(),\n",
    "        'huber': torch.nn.HuberLoss(delta=1.0),\n",
    "        'smoothl1': torch.nn.SmoothL1Loss()\n",
    "    }\n",
    "    loss_name = trial.suggest_categorical(\"loss_fn\", list(loss_functions.keys()))\n",
    "\n",
    "    # Try different optimizers\n",
    "    optimizer_names = ['Adam', 'AdamW', 'RMSprop', 'SGD']\n",
    "    optimizer_name = trial.suggest_categorical(\"optimizer\", optimizer_names)\n",
    "    optimizer_dict = {\n",
    "        'Adam': torch.optim.Adam,\n",
    "        'AdamW': torch.optim.AdamW,\n",
    "        'RMSprop': torch.optim.RMSprop,\n",
    "        'SGD': torch.optim.SGD\n",
    "    }\n",
    "\n",
    "    early_stopper = EarlyStopping(\"val_loss\", min_delta=0.0005, patience=15, verbose=True)\n",
    "    prunner = PatchedPruningCallback(trial, monitor=\"val_loss\")\n",
    "    pl_trainer_kwargs = {\n",
    "        \"accelerator\": \"auto\",\n",
    "        \"callbacks\": [early_stopper, prunner],\n",
    "    }\n",
    "    n = int(len(df) * 0.8)\n",
    "    train_df_fold, val_df_fold = df.iloc[:n], df.iloc[n:]\n",
    "    train_fold = TimeSeries.from_dataframe(train_df_fold, time_col=\"Timestamp\", value_cols=target_columns, freq='1h')\n",
    "    val_fold = TimeSeries.from_dataframe(val_df_fold, time_col=\"Timestamp\", value_cols=target_columns, freq='1h')\n",
    "\n",
    "    print(f\"\\nStarting Trial {trial.number}\")\n",
    "    print(f\"Hyperparameters: {trial.params}\")\n",
    "    print(\"\\nTraining the model...\")\n",
    "    print(f\"Train set: {len(train_fold)} samples\")\n",
    "    print(f\"Validation set: {len(val_fold)} samples\")\n",
    "\n",
    "    scaler = Scaler()\n",
    "    scaler = scaler.fit(train_fold)\n",
    "    train_scaled = scaler.transform(train_fold)\n",
    "    val_scaled = scaler.transform(val_fold)\n",
    "\n",
    "    _work_dir = \"/home/eduardo/Documentos/Water-Cycle-Neural-Network/darts_logs/\"\n",
    "    _model_name = \"model_optuna_temp\"\n",
    "    os.makedirs(_work_dir, exist_ok=True)\n",
    "\n",
    "    # Additional optimizer kwargs based on optimizer type\n",
    "    opt_kwargs = {\"lr\": lr, \"weight_decay\": weight_decay}\n",
    "    if optimizer_name == 'SGD':\n",
    "        opt_kwargs['momentum'] = 0.9\n",
    "\n",
    "    model = TiDEModel(\n",
    "        model_name=_model_name,\n",
    "        work_dir=_work_dir,\n",
    "        input_chunk_length=input_chunk_length,\n",
    "        output_chunk_length=output_chunk_length,\n",
    "        num_encoder_layers=num_encoder_layers,\n",
    "        num_decoder_layers=num_decoder_layers,\n",
    "        hidden_size=hidden_size,\n",
    "        temporal_width_past=temporal_width_past,\n",
    "        temporal_width_future=temporal_width_future,\n",
    "        use_reversible_instance_norm=use_reversible_instance_norm,\n",
    "        n_epochs=30,\n",
    "        batch_size=batch_size,\n",
    "        dropout=dropout,\n",
    "        add_encoders=encoders,\n",
    "        pl_trainer_kwargs=pl_trainer_kwargs,\n",
    "        loss_fn=loss_functions[loss_name],\n",
    "        optimizer_cls=optimizer_dict[optimizer_name],\n",
    "        lr_scheduler_cls=torch.optim.lr_scheduler.ReduceLROnPlateau,\n",
    "        lr_scheduler_kwargs={\"mode\": \"min\", \"factor\": 0.3, \"patience\": 5, \"min_lr\": 1e-7},\n",
    "        save_checkpoints=True,\n",
    "        show_warnings=True,\n",
    "        force_reset=True,\n",
    "        optimizer_kwargs=opt_kwargs,\n",
    "    )\n",
    "    model.fit(\n",
    "        series=train_scaled,\n",
    "        val_series=val_scaled,\n",
    "        verbose=False,\n",
    "        dataloader_kwargs={\"num_workers\": 10},\n",
    "    )\n",
    "\n",
    "    try:\n",
    "        loaded_model = TiDEModel.load_from_checkpoint(model_name=_model_name, work_dir=_work_dir, best=True)\n",
    "        print(f\"Model loaded from checkpoint for trial {trial.number}\")\n",
    "    except FileNotFoundError:\n",
    "        print(f\"Checkpoint not found for {_model_name} in {_work_dir}. Using the in-memory trained model.\")\n",
    "        loaded_model = model\n",
    "\n",
    "    forecasts = loaded_model.historical_forecasts(\n",
    "        val_scaled,\n",
    "        forecast_horizon=output_chunk_length,\n",
    "        stride=1,\n",
    "        retrain=False,\n",
    "        verbose=False\n",
    "    )\n",
    "\n",
    "    forecasts_t = scaler.inverse_transform(forecasts)\n",
    "    s = scaler.inverse_transform(val_scaled)\n",
    "    metrics = {}\n",
    "    print(\"Starting time series verification for consistency...\")\n",
    "    try:\n",
    "        for target in target_columns:\n",
    "            metrics[target] = {\n",
    "                'MSE': mse(s[target], forecasts_t[target]),\n",
    "                'RMSE': rmse(s[target], forecasts_t[target]),\n",
    "                'MAE': mae(s[target], forecasts_t[target]),\n",
    "                'R2': r2_score(s[target], forecasts_t[target]),\n",
    "                'SMAPE': smape(s[target], forecasts_t[target]),\n",
    "            }\n",
    "        metrics_df = pd.DataFrame(metrics).T\n",
    "        print(\"\\nPerformance metrics:\")\n",
    "        print(metrics_df)\n",
    "    except Exception as e:\n",
    "        print(e)\n",
    "\n",
    "    overall_mae_val = mae(val_scaled, forecasts)\n",
    "    print(f\"The MAE for this fold was {overall_mae_val}\")\n",
    "\n",
    "    trial_dict = {\n",
    "        \"trial_number\": trial.number,\n",
    "        \"input_chunk_length\": input_chunk_length,\n",
    "        \"output_chunk_length\": output_chunk_length,\n",
    "        \"hidden_size\": hidden_size,\n",
    "        \"temporal_width_past\": temporal_width_past,\n",
    "        \"temporal_width_future\": temporal_width_future,\n",
    "        \"use_reversible_instance_norm\": use_reversible_instance_norm,\n",
    "        \"num_encoder_layers\": num_encoder_layers,\n",
    "        \"num_decoder_layers\": num_decoder_layers,\n",
    "        \"dropout\": dropout,\n",
    "        \"batch_size\": batch_size,\n",
    "        \"lr\": lr,\n",
    "        \"loss_function\": loss_name,\n",
    "        \"optimizer\": optimizer_name,\n",
    "        \"overall_mae_val\": overall_mae_val,\n",
    "        \"metrics\": metrics_df.to_dict(),\n",
    "    }\n",
    "    json_path = os.path.join(results_output_dir, f\"trial_{trial.number}.json\")\n",
    "    with open(json_path, 'w') as f:\n",
    "        json.dump(trial_dict, f, indent=4)\n",
    "    print(f\"Results of trial {trial.number} saved in {json_path}\")\n",
    "    return overall_mae_val if not np.isnan(overall_mae_val) else float(\"inf\")\n"
   ],
   "outputs": [],
   "execution_count": 5
  },
  {
   "cell_type": "code",
   "id": "bb9eb36ea7edea",
   "metadata": {
    "ExecuteTime": {
     "end_time": "2025-05-27T22:48:04.822205Z",
     "start_time": "2025-05-27T22:48:04.820196Z"
    }
   },
   "source": [
    "def print_callback(study, trial):\n",
    "    print(f\"Current value: {trial.value}, Current params: {trial.params}\")\n",
    "    print(f\"Best value: {study.best_value}, Best params: {study.best_trial.params}\")"
   ],
   "outputs": [],
   "execution_count": 6
  },
  {
   "cell_type": "code",
   "id": "51d771ffa210c7f5",
   "metadata": {
    "ExecuteTime": {
     "end_time": "2025-05-27T23:57:07.855564Z",
     "start_time": "2025-05-27T22:48:04.870326Z"
    }
   },
   "source": [
    "study = optuna.create_study(direction=\"minimize\")\n",
    "num_hyperparams = 14\n",
    "n_trials = 7 * num_hyperparams\n",
    "study.optimize(objective, n_trials=n_trials, callbacks=[print_callback])"
   ],
   "outputs": [
    {
     "name": "stderr",
     "output_type": "stream",
     "text": [
      "[I 2025-05-27 19:48:04,871] A new study created in memory with name: no-name-d52871f4-a5c9-43a1-b0e6-d68516ce101d\n"
     ]
    },
    {
     "name": "stdout",
     "output_type": "stream",
     "text": [
      "\n",
      "Starting Trial 0\n",
      "Hyperparameters: {'input_chunk_length': 63, 'output_chunk_length': 18, 'dropout': 0.3248950983008395, 'batch_size': 249, 'lr': 3.8995974987079916e-06, 'weight_decay': 4.991501542244573e-06, 'hidden_size': 256, 'num_encoder_layers': 1, 'num_decoder_layers': 1, 'temporal_width_past': 5, 'temporal_width_future': 4, 'use_reversible_instance_norm': False, 'loss_fn': 'mse', 'optimizer': 'AdamW'}\n",
      "\n",
      "Training the model...\n",
      "Train set: 6647 samples\n",
      "Validation set: 1662 samples\n"
     ]
    },
    {
     "name": "stderr",
     "output_type": "stream",
     "text": [
      "GPU available: True (cuda), used: True\n",
      "TPU available: False, using: 0 TPU cores\n",
      "HPU available: False, using: 0 HPUs\n",
      "LOCAL_RANK: 0 - CUDA_VISIBLE_DEVICES: [0]\n",
      "Metric val_loss improved. New best score: 0.460\n",
      "Metric val_loss improved by 0.024 >= min_delta = 0.0005. New best score: 0.436\n",
      "Metric val_loss improved by 0.024 >= min_delta = 0.0005. New best score: 0.412\n",
      "Metric val_loss improved by 0.023 >= min_delta = 0.0005. New best score: 0.389\n",
      "Metric val_loss improved by 0.023 >= min_delta = 0.0005. New best score: 0.366\n",
      "Metric val_loss improved by 0.023 >= min_delta = 0.0005. New best score: 0.343\n",
      "Metric val_loss improved by 0.022 >= min_delta = 0.0005. New best score: 0.321\n",
      "Metric val_loss improved by 0.021 >= min_delta = 0.0005. New best score: 0.300\n",
      "Metric val_loss improved by 0.020 >= min_delta = 0.0005. New best score: 0.280\n",
      "Metric val_loss improved by 0.018 >= min_delta = 0.0005. New best score: 0.262\n",
      "Metric val_loss improved by 0.017 >= min_delta = 0.0005. New best score: 0.246\n",
      "Metric val_loss improved by 0.015 >= min_delta = 0.0005. New best score: 0.231\n",
      "Metric val_loss improved by 0.013 >= min_delta = 0.0005. New best score: 0.218\n",
      "Metric val_loss improved by 0.012 >= min_delta = 0.0005. New best score: 0.206\n",
      "Metric val_loss improved by 0.010 >= min_delta = 0.0005. New best score: 0.196\n",
      "Metric val_loss improved by 0.009 >= min_delta = 0.0005. New best score: 0.187\n",
      "Metric val_loss improved by 0.008 >= min_delta = 0.0005. New best score: 0.179\n",
      "Metric val_loss improved by 0.007 >= min_delta = 0.0005. New best score: 0.172\n",
      "Metric val_loss improved by 0.006 >= min_delta = 0.0005. New best score: 0.166\n",
      "Metric val_loss improved by 0.005 >= min_delta = 0.0005. New best score: 0.160\n",
      "Metric val_loss improved by 0.005 >= min_delta = 0.0005. New best score: 0.155\n",
      "Metric val_loss improved by 0.004 >= min_delta = 0.0005. New best score: 0.151\n",
      "Metric val_loss improved by 0.004 >= min_delta = 0.0005. New best score: 0.147\n",
      "Metric val_loss improved by 0.004 >= min_delta = 0.0005. New best score: 0.143\n",
      "Metric val_loss improved by 0.004 >= min_delta = 0.0005. New best score: 0.140\n",
      "Metric val_loss improved by 0.003 >= min_delta = 0.0005. New best score: 0.136\n",
      "Metric val_loss improved by 0.003 >= min_delta = 0.0005. New best score: 0.133\n",
      "Metric val_loss improved by 0.003 >= min_delta = 0.0005. New best score: 0.131\n",
      "Metric val_loss improved by 0.003 >= min_delta = 0.0005. New best score: 0.128\n",
      "Metric val_loss improved by 0.002 >= min_delta = 0.0005. New best score: 0.126\n",
      "`Trainer.fit` stopped: `max_epochs=30` reached.\n",
      "GPU available: True (cuda), used: True\n",
      "TPU available: False, using: 0 TPU cores\n",
      "HPU available: False, using: 0 HPUs\n",
      "LOCAL_RANK: 0 - CUDA_VISIBLE_DEVICES: [0]\n"
     ]
    },
    {
     "name": "stdout",
     "output_type": "stream",
     "text": [
      "Model loaded from checkpoint for trial 0\n"
     ]
    },
    {
     "name": "stderr",
     "output_type": "stream",
     "text": [
      "/home/eduardo/Documentos/Water-Cycle-Neural-Network/venv/lib/python3.12/site-packages/pytorch_lightning/trainer/connectors/data_connector.py:425: The 'predict_dataloader' does not have many workers which may be a bottleneck. Consider increasing the value of the `num_workers` argument` to `num_workers=11` in the `DataLoader` to improve performance.\n",
      "[I 2025-05-27 19:48:42,847] Trial 0 finished with value: 0.3524937269185149 and parameters: {'input_chunk_length': 63, 'output_chunk_length': 18, 'dropout': 0.3248950983008395, 'batch_size': 249, 'lr': 3.8995974987079916e-06, 'weight_decay': 4.991501542244573e-06, 'hidden_size': 256, 'num_encoder_layers': 1, 'num_decoder_layers': 1, 'temporal_width_past': 5, 'temporal_width_future': 4, 'use_reversible_instance_norm': False, 'loss_fn': 'mse', 'optimizer': 'AdamW'}. Best is trial 0 with value: 0.3524937269185149.\n",
      "GPU available: True (cuda), used: True\n",
      "TPU available: False, using: 0 TPU cores\n",
      "HPU available: False, using: 0 HPUs\n",
      "LOCAL_RANK: 0 - CUDA_VISIBLE_DEVICES: [0]\n"
     ]
    },
    {
     "name": "stdout",
     "output_type": "stream",
     "text": [
      "Starting time series verification for consistency...\n",
      "\n",
      "Performance metrics:\n",
      "                                    MSE         RMSE          MAE  \\\n",
      "Temperature                6.736830e+01     8.207820     6.948679   \n",
      "Precipitation_accumulated  8.743524e+04   295.694497   281.022717   \n",
      "Humidity                   1.665501e+03    40.810548    38.934468   \n",
      "Wind_Speed_kmh             1.982310e+00     1.407945     1.102916   \n",
      "Soil_Moisture              6.165960e+06  2483.135041  2456.966383   \n",
      "Soil_Temperature           6.358762e+01     7.974185     7.137304   \n",
      "Wind_Dir_Sin               9.631623e-01     0.981408     0.845770   \n",
      "Wind_Dir_Cos               5.497919e-01     0.741480     0.621670   \n",
      "\n",
      "                                     R2       SMAPE  \n",
      "Temperature                   -1.226982   67.854657  \n",
      "Precipitation_accumulated -27785.060785   92.360384  \n",
      "Humidity                     -10.327792   57.544438  \n",
      "Wind_Speed_kmh                -0.464847   91.994795  \n",
      "Soil_Moisture               -135.169565   33.433641  \n",
      "Soil_Temperature              -3.011729   70.015270  \n",
      "Wind_Dir_Sin                  -0.756287  154.683716  \n",
      "Wind_Dir_Cos                  -0.496964  146.489916  \n",
      "The MAE for this fold was 0.3524937269185149\n",
      "Results of trial 0 saved in optuna_iteration_metrics/trial_0.json\n",
      "Current value: 0.3524937269185149, Current params: {'input_chunk_length': 63, 'output_chunk_length': 18, 'dropout': 0.3248950983008395, 'batch_size': 249, 'lr': 3.8995974987079916e-06, 'weight_decay': 4.991501542244573e-06, 'hidden_size': 256, 'num_encoder_layers': 1, 'num_decoder_layers': 1, 'temporal_width_past': 5, 'temporal_width_future': 4, 'use_reversible_instance_norm': False, 'loss_fn': 'mse', 'optimizer': 'AdamW'}\n",
      "Best value: 0.3524937269185149, Best params: {'input_chunk_length': 63, 'output_chunk_length': 18, 'dropout': 0.3248950983008395, 'batch_size': 249, 'lr': 3.8995974987079916e-06, 'weight_decay': 4.991501542244573e-06, 'hidden_size': 256, 'num_encoder_layers': 1, 'num_decoder_layers': 1, 'temporal_width_past': 5, 'temporal_width_future': 4, 'use_reversible_instance_norm': False, 'loss_fn': 'mse', 'optimizer': 'AdamW'}\n",
      "\n",
      "Starting Trial 1\n",
      "Hyperparameters: {'input_chunk_length': 49, 'output_chunk_length': 1, 'dropout': 0.24620637461947661, 'batch_size': 197, 'lr': 0.00395985787088, 'weight_decay': 1.0841773710065208e-06, 'hidden_size': 64, 'num_encoder_layers': 3, 'num_decoder_layers': 1, 'temporal_width_past': 1, 'temporal_width_future': 2, 'use_reversible_instance_norm': True, 'loss_fn': 'smoothl1', 'optimizer': 'RMSprop'}\n",
      "\n",
      "Training the model...\n",
      "Train set: 6647 samples\n",
      "Validation set: 1662 samples\n"
     ]
    },
    {
     "name": "stderr",
     "output_type": "stream",
     "text": [
      "Metric val_loss improved. New best score: 0.016\n",
      "Metric val_loss improved by 0.002 >= min_delta = 0.0005. New best score: 0.014\n",
      "Metric val_loss improved by 0.001 >= min_delta = 0.0005. New best score: 0.012\n",
      "Metric val_loss improved by 0.001 >= min_delta = 0.0005. New best score: 0.012\n",
      "Monitored metric val_loss did not improve in the last 15 records. Best score: 0.012. Signaling Trainer to stop.\n",
      "GPU available: True (cuda), used: True\n",
      "TPU available: False, using: 0 TPU cores\n",
      "HPU available: False, using: 0 HPUs\n",
      "LOCAL_RANK: 0 - CUDA_VISIBLE_DEVICES: [0]\n"
     ]
    },
    {
     "name": "stdout",
     "output_type": "stream",
     "text": [
      "Model loaded from checkpoint for trial 1\n"
     ]
    },
    {
     "name": "stderr",
     "output_type": "stream",
     "text": [
      "/home/eduardo/Documentos/Water-Cycle-Neural-Network/venv/lib/python3.12/site-packages/pytorch_lightning/trainer/connectors/data_connector.py:425: The 'predict_dataloader' does not have many workers which may be a bottleneck. Consider increasing the value of the `num_workers` argument` to `num_workers=11` in the `DataLoader` to improve performance.\n",
      "[I 2025-05-27 19:49:07,747] Trial 1 finished with value: 0.0785026644732259 and parameters: {'input_chunk_length': 49, 'output_chunk_length': 1, 'dropout': 0.24620637461947661, 'batch_size': 197, 'lr': 0.00395985787088, 'weight_decay': 1.0841773710065208e-06, 'hidden_size': 64, 'num_encoder_layers': 3, 'num_decoder_layers': 1, 'temporal_width_past': 1, 'temporal_width_future': 2, 'use_reversible_instance_norm': True, 'loss_fn': 'smoothl1', 'optimizer': 'RMSprop'}. Best is trial 1 with value: 0.0785026644732259.\n",
      "GPU available: True (cuda), used: True\n",
      "TPU available: False, using: 0 TPU cores\n",
      "HPU available: False, using: 0 HPUs\n",
      "LOCAL_RANK: 0 - CUDA_VISIBLE_DEVICES: [0]\n"
     ]
    },
    {
     "name": "stdout",
     "output_type": "stream",
     "text": [
      "Starting time series verification for consistency...\n",
      "\n",
      "Performance metrics:\n",
      "                                   MSE       RMSE        MAE        R2  \\\n",
      "Temperature                   2.456565   1.567343   1.215683  0.919417   \n",
      "Precipitation_accumulated     0.479437   0.692414   0.559498  0.855811   \n",
      "Humidity                     16.200137   4.024939   2.942707  0.889509   \n",
      "Wind_Speed_kmh                0.614025   0.783597   0.598438  0.543770   \n",
      "Soil_Moisture              1616.693206  40.208124  18.806122  0.969408   \n",
      "Soil_Temperature              0.622372   0.788906   0.581538  0.961320   \n",
      "Wind_Dir_Sin                  0.367789   0.606456   0.477403  0.331853   \n",
      "Wind_Dir_Cos                  0.328182   0.572872   0.452892  0.105791   \n",
      "\n",
      "                                SMAPE  \n",
      "Temperature                 25.067155  \n",
      "Precipitation_accumulated    0.120520  \n",
      "Humidity                     3.517692  \n",
      "Wind_Speed_kmh              60.676936  \n",
      "Soil_Moisture                0.218780  \n",
      "Soil_Temperature            11.126578  \n",
      "Wind_Dir_Sin                93.030641  \n",
      "Wind_Dir_Cos               107.734690  \n",
      "The MAE for this fold was 0.0785026644732259\n",
      "Results of trial 1 saved in optuna_iteration_metrics/trial_1.json\n",
      "Current value: 0.0785026644732259, Current params: {'input_chunk_length': 49, 'output_chunk_length': 1, 'dropout': 0.24620637461947661, 'batch_size': 197, 'lr': 0.00395985787088, 'weight_decay': 1.0841773710065208e-06, 'hidden_size': 64, 'num_encoder_layers': 3, 'num_decoder_layers': 1, 'temporal_width_past': 1, 'temporal_width_future': 2, 'use_reversible_instance_norm': True, 'loss_fn': 'smoothl1', 'optimizer': 'RMSprop'}\n",
      "Best value: 0.0785026644732259, Best params: {'input_chunk_length': 49, 'output_chunk_length': 1, 'dropout': 0.24620637461947661, 'batch_size': 197, 'lr': 0.00395985787088, 'weight_decay': 1.0841773710065208e-06, 'hidden_size': 64, 'num_encoder_layers': 3, 'num_decoder_layers': 1, 'temporal_width_past': 1, 'temporal_width_future': 2, 'use_reversible_instance_norm': True, 'loss_fn': 'smoothl1', 'optimizer': 'RMSprop'}\n",
      "\n",
      "Starting Trial 2\n",
      "Hyperparameters: {'input_chunk_length': 61, 'output_chunk_length': 19, 'dropout': 0.284378056418091, 'batch_size': 229, 'lr': 8.070732321670134e-05, 'weight_decay': 0.0004966707272570316, 'hidden_size': 64, 'num_encoder_layers': 4, 'num_decoder_layers': 1, 'temporal_width_past': 5, 'temporal_width_future': 1, 'use_reversible_instance_norm': True, 'loss_fn': 'mse', 'optimizer': 'SGD'}\n",
      "\n",
      "Training the model...\n",
      "Train set: 6647 samples\n",
      "Validation set: 1662 samples\n"
     ]
    },
    {
     "name": "stderr",
     "output_type": "stream",
     "text": [
      "Metric val_loss improved. New best score: 0.050\n",
      "Monitored metric val_loss did not improve in the last 15 records. Best score: 0.050. Signaling Trainer to stop.\n",
      "GPU available: True (cuda), used: True\n",
      "TPU available: False, using: 0 TPU cores\n",
      "HPU available: False, using: 0 HPUs\n",
      "LOCAL_RANK: 0 - CUDA_VISIBLE_DEVICES: [0]\n"
     ]
    },
    {
     "name": "stdout",
     "output_type": "stream",
     "text": [
      "Model loaded from checkpoint for trial 2\n"
     ]
    },
    {
     "name": "stderr",
     "output_type": "stream",
     "text": [
      "/home/eduardo/Documentos/Water-Cycle-Neural-Network/venv/lib/python3.12/site-packages/pytorch_lightning/trainer/connectors/data_connector.py:425: The 'predict_dataloader' does not have many workers which may be a bottleneck. Consider increasing the value of the `num_workers` argument` to `num_workers=11` in the `DataLoader` to improve performance.\n",
      "[I 2025-05-27 19:49:26,323] Trial 2 finished with value: 0.12239739170754754 and parameters: {'input_chunk_length': 61, 'output_chunk_length': 19, 'dropout': 0.284378056418091, 'batch_size': 229, 'lr': 8.070732321670134e-05, 'weight_decay': 0.0004966707272570316, 'hidden_size': 64, 'num_encoder_layers': 4, 'num_decoder_layers': 1, 'temporal_width_past': 5, 'temporal_width_future': 1, 'use_reversible_instance_norm': True, 'loss_fn': 'mse', 'optimizer': 'SGD'}. Best is trial 1 with value: 0.0785026644732259.\n",
      "GPU available: True (cuda), used: True\n",
      "TPU available: False, using: 0 TPU cores\n",
      "HPU available: False, using: 0 HPUs\n",
      "LOCAL_RANK: 0 - CUDA_VISIBLE_DEVICES: [0]\n"
     ]
    },
    {
     "name": "stdout",
     "output_type": "stream",
     "text": [
      "Starting time series verification for consistency...\n",
      "\n",
      "Performance metrics:\n",
      "                                    MSE        RMSE        MAE        R2  \\\n",
      "Temperature                   11.926587    3.453489   2.795726  0.605745   \n",
      "Precipitation_accumulated      1.195810    1.093531   1.057710  0.620708   \n",
      "Humidity                     102.009168   10.099959   7.805834  0.306163   \n",
      "Wind_Speed_kmh                 1.631526    1.277312   1.016158 -0.206196   \n",
      "Soil_Moisture              10692.856210  103.406268  45.858253  0.765353   \n",
      "Soil_Temperature               3.063698    1.750342   1.382399  0.806846   \n",
      "Wind_Dir_Sin                   0.691697    0.831683   0.702044 -0.261275   \n",
      "Wind_Dir_Cos                   0.480521    0.693197   0.575847 -0.308445   \n",
      "\n",
      "                                SMAPE  \n",
      "Temperature                 40.947326  \n",
      "Precipitation_accumulated    0.228002  \n",
      "Humidity                     9.257838  \n",
      "Wind_Speed_kmh              77.818943  \n",
      "Soil_Moisture                0.538853  \n",
      "Soil_Temperature            21.298145  \n",
      "Wind_Dir_Sin               135.568628  \n",
      "Wind_Dir_Cos               137.105337  \n",
      "The MAE for this fold was 0.12239739170754754\n",
      "Results of trial 2 saved in optuna_iteration_metrics/trial_2.json\n",
      "Current value: 0.12239739170754754, Current params: {'input_chunk_length': 61, 'output_chunk_length': 19, 'dropout': 0.284378056418091, 'batch_size': 229, 'lr': 8.070732321670134e-05, 'weight_decay': 0.0004966707272570316, 'hidden_size': 64, 'num_encoder_layers': 4, 'num_decoder_layers': 1, 'temporal_width_past': 5, 'temporal_width_future': 1, 'use_reversible_instance_norm': True, 'loss_fn': 'mse', 'optimizer': 'SGD'}\n",
      "Best value: 0.0785026644732259, Best params: {'input_chunk_length': 49, 'output_chunk_length': 1, 'dropout': 0.24620637461947661, 'batch_size': 197, 'lr': 0.00395985787088, 'weight_decay': 1.0841773710065208e-06, 'hidden_size': 64, 'num_encoder_layers': 3, 'num_decoder_layers': 1, 'temporal_width_past': 1, 'temporal_width_future': 2, 'use_reversible_instance_norm': True, 'loss_fn': 'smoothl1', 'optimizer': 'RMSprop'}\n",
      "\n",
      "Starting Trial 3\n",
      "Hyperparameters: {'input_chunk_length': 56, 'output_chunk_length': 16, 'dropout': 0.11598125373801788, 'batch_size': 206, 'lr': 0.0009917179505142609, 'weight_decay': 0.00010787815432448544, 'hidden_size': 256, 'num_encoder_layers': 2, 'num_decoder_layers': 3, 'temporal_width_past': 4, 'temporal_width_future': 3, 'use_reversible_instance_norm': True, 'loss_fn': 'huber', 'optimizer': 'AdamW'}\n",
      "\n",
      "Training the model...\n",
      "Train set: 6647 samples\n",
      "Validation set: 1662 samples\n"
     ]
    },
    {
     "name": "stderr",
     "output_type": "stream",
     "text": [
      "Metric val_loss improved. New best score: 0.022\n",
      "Monitored metric val_loss did not improve in the last 15 records. Best score: 0.022. Signaling Trainer to stop.\n",
      "GPU available: True (cuda), used: True\n",
      "TPU available: False, using: 0 TPU cores\n",
      "HPU available: False, using: 0 HPUs\n",
      "LOCAL_RANK: 0 - CUDA_VISIBLE_DEVICES: [0]\n"
     ]
    },
    {
     "name": "stdout",
     "output_type": "stream",
     "text": [
      "Model loaded from checkpoint for trial 3\n"
     ]
    },
    {
     "name": "stderr",
     "output_type": "stream",
     "text": [
      "/home/eduardo/Documentos/Water-Cycle-Neural-Network/venv/lib/python3.12/site-packages/pytorch_lightning/trainer/connectors/data_connector.py:425: The 'predict_dataloader' does not have many workers which may be a bottleneck. Consider increasing the value of the `num_workers` argument` to `num_workers=11` in the `DataLoader` to improve performance.\n",
      "[I 2025-05-27 19:49:47,959] Trial 3 finished with value: 0.1244716924460133 and parameters: {'input_chunk_length': 56, 'output_chunk_length': 16, 'dropout': 0.11598125373801788, 'batch_size': 206, 'lr': 0.0009917179505142609, 'weight_decay': 0.00010787815432448544, 'hidden_size': 256, 'num_encoder_layers': 2, 'num_decoder_layers': 3, 'temporal_width_past': 4, 'temporal_width_future': 3, 'use_reversible_instance_norm': True, 'loss_fn': 'huber', 'optimizer': 'AdamW'}. Best is trial 1 with value: 0.0785026644732259.\n",
      "GPU available: True (cuda), used: True\n",
      "TPU available: False, using: 0 TPU cores\n",
      "HPU available: False, using: 0 HPUs\n",
      "LOCAL_RANK: 0 - CUDA_VISIBLE_DEVICES: [0]\n"
     ]
    },
    {
     "name": "stdout",
     "output_type": "stream",
     "text": [
      "Starting time series verification for consistency...\n",
      "\n",
      "Performance metrics:\n",
      "                                    MSE        RMSE        MAE        R2  \\\n",
      "Temperature                   11.190498    3.345220   2.676580  0.632710   \n",
      "Precipitation_accumulated      0.448221    0.669493   0.512559  0.859939   \n",
      "Humidity                     106.599137   10.324686   7.772195  0.275110   \n",
      "Wind_Speed_kmh                 1.594924    1.262903   0.997060 -0.180857   \n",
      "Soil_Moisture              14488.259634  120.367187  54.112329  0.695445   \n",
      "Soil_Temperature               3.317344    1.821358   1.446581  0.792768   \n",
      "Wind_Dir_Sin                   0.754729    0.868751   0.755956 -0.378341   \n",
      "Wind_Dir_Cos                   0.464790    0.681755   0.563328 -0.262881   \n",
      "\n",
      "                                SMAPE  \n",
      "Temperature                 44.316225  \n",
      "Precipitation_accumulated    0.110352  \n",
      "Humidity                     9.132022  \n",
      "Wind_Speed_kmh              80.545530  \n",
      "Soil_Moisture                0.638191  \n",
      "Soil_Temperature            23.702899  \n",
      "Wind_Dir_Sin               150.071906  \n",
      "Wind_Dir_Cos               133.656036  \n",
      "The MAE for this fold was 0.1244716924460133\n",
      "Results of trial 3 saved in optuna_iteration_metrics/trial_3.json\n",
      "Current value: 0.1244716924460133, Current params: {'input_chunk_length': 56, 'output_chunk_length': 16, 'dropout': 0.11598125373801788, 'batch_size': 206, 'lr': 0.0009917179505142609, 'weight_decay': 0.00010787815432448544, 'hidden_size': 256, 'num_encoder_layers': 2, 'num_decoder_layers': 3, 'temporal_width_past': 4, 'temporal_width_future': 3, 'use_reversible_instance_norm': True, 'loss_fn': 'huber', 'optimizer': 'AdamW'}\n",
      "Best value: 0.0785026644732259, Best params: {'input_chunk_length': 49, 'output_chunk_length': 1, 'dropout': 0.24620637461947661, 'batch_size': 197, 'lr': 0.00395985787088, 'weight_decay': 1.0841773710065208e-06, 'hidden_size': 64, 'num_encoder_layers': 3, 'num_decoder_layers': 1, 'temporal_width_past': 1, 'temporal_width_future': 2, 'use_reversible_instance_norm': True, 'loss_fn': 'smoothl1', 'optimizer': 'RMSprop'}\n",
      "\n",
      "Starting Trial 4\n",
      "Hyperparameters: {'input_chunk_length': 52, 'output_chunk_length': 10, 'dropout': 0.39512963048443994, 'batch_size': 202, 'lr': 8.205997793684982e-05, 'weight_decay': 5.95318453881243e-06, 'hidden_size': 256, 'num_encoder_layers': 2, 'num_decoder_layers': 2, 'temporal_width_past': 1, 'temporal_width_future': 3, 'use_reversible_instance_norm': False, 'loss_fn': 'huber', 'optimizer': 'SGD'}\n",
      "\n",
      "Training the model...\n",
      "Train set: 6647 samples\n",
      "Validation set: 1662 samples\n"
     ]
    },
    {
     "name": "stderr",
     "output_type": "stream",
     "text": [
      "Metric val_loss improved. New best score: 0.228\n",
      "Metric val_loss improved by 0.015 >= min_delta = 0.0005. New best score: 0.213\n",
      "Metric val_loss improved by 0.014 >= min_delta = 0.0005. New best score: 0.199\n",
      "Metric val_loss improved by 0.013 >= min_delta = 0.0005. New best score: 0.186\n",
      "Metric val_loss improved by 0.012 >= min_delta = 0.0005. New best score: 0.174\n",
      "Metric val_loss improved by 0.011 >= min_delta = 0.0005. New best score: 0.162\n",
      "Metric val_loss improved by 0.011 >= min_delta = 0.0005. New best score: 0.152\n",
      "Metric val_loss improved by 0.010 >= min_delta = 0.0005. New best score: 0.142\n",
      "Metric val_loss improved by 0.009 >= min_delta = 0.0005. New best score: 0.133\n",
      "Metric val_loss improved by 0.008 >= min_delta = 0.0005. New best score: 0.124\n",
      "Metric val_loss improved by 0.008 >= min_delta = 0.0005. New best score: 0.116\n",
      "Metric val_loss improved by 0.007 >= min_delta = 0.0005. New best score: 0.109\n",
      "Metric val_loss improved by 0.007 >= min_delta = 0.0005. New best score: 0.103\n",
      "Metric val_loss improved by 0.006 >= min_delta = 0.0005. New best score: 0.097\n",
      "Metric val_loss improved by 0.005 >= min_delta = 0.0005. New best score: 0.091\n",
      "Metric val_loss improved by 0.005 >= min_delta = 0.0005. New best score: 0.086\n",
      "Metric val_loss improved by 0.005 >= min_delta = 0.0005. New best score: 0.082\n",
      "Metric val_loss improved by 0.004 >= min_delta = 0.0005. New best score: 0.078\n",
      "Metric val_loss improved by 0.004 >= min_delta = 0.0005. New best score: 0.074\n",
      "Metric val_loss improved by 0.003 >= min_delta = 0.0005. New best score: 0.070\n",
      "Metric val_loss improved by 0.003 >= min_delta = 0.0005. New best score: 0.067\n",
      "Metric val_loss improved by 0.003 >= min_delta = 0.0005. New best score: 0.065\n",
      "Metric val_loss improved by 0.003 >= min_delta = 0.0005. New best score: 0.062\n",
      "Metric val_loss improved by 0.002 >= min_delta = 0.0005. New best score: 0.060\n",
      "Metric val_loss improved by 0.002 >= min_delta = 0.0005. New best score: 0.058\n",
      "Metric val_loss improved by 0.002 >= min_delta = 0.0005. New best score: 0.056\n",
      "Metric val_loss improved by 0.002 >= min_delta = 0.0005. New best score: 0.054\n",
      "Metric val_loss improved by 0.002 >= min_delta = 0.0005. New best score: 0.053\n",
      "Metric val_loss improved by 0.001 >= min_delta = 0.0005. New best score: 0.051\n",
      "Metric val_loss improved by 0.001 >= min_delta = 0.0005. New best score: 0.050\n",
      "`Trainer.fit` stopped: `max_epochs=30` reached.\n",
      "GPU available: True (cuda), used: True\n",
      "TPU available: False, using: 0 TPU cores\n",
      "HPU available: False, using: 0 HPUs\n",
      "LOCAL_RANK: 0 - CUDA_VISIBLE_DEVICES: [0]\n"
     ]
    },
    {
     "name": "stdout",
     "output_type": "stream",
     "text": [
      "Model loaded from checkpoint for trial 4\n"
     ]
    },
    {
     "name": "stderr",
     "output_type": "stream",
     "text": [
      "/home/eduardo/Documentos/Water-Cycle-Neural-Network/venv/lib/python3.12/site-packages/pytorch_lightning/trainer/connectors/data_connector.py:425: The 'predict_dataloader' does not have many workers which may be a bottleneck. Consider increasing the value of the `num_workers` argument` to `num_workers=11` in the `DataLoader` to improve performance.\n",
      "[I 2025-05-27 19:50:22,087] Trial 4 finished with value: 0.35671440738650584 and parameters: {'input_chunk_length': 52, 'output_chunk_length': 10, 'dropout': 0.39512963048443994, 'batch_size': 202, 'lr': 8.205997793684982e-05, 'weight_decay': 5.95318453881243e-06, 'hidden_size': 256, 'num_encoder_layers': 2, 'num_decoder_layers': 2, 'temporal_width_past': 1, 'temporal_width_future': 3, 'use_reversible_instance_norm': False, 'loss_fn': 'huber', 'optimizer': 'SGD'}. Best is trial 1 with value: 0.0785026644732259.\n",
      "GPU available: True (cuda), used: True\n",
      "TPU available: False, using: 0 TPU cores\n",
      "HPU available: False, using: 0 HPUs\n",
      "LOCAL_RANK: 0 - CUDA_VISIBLE_DEVICES: [0]\n"
     ]
    },
    {
     "name": "stdout",
     "output_type": "stream",
     "text": [
      "Starting time series verification for consistency...\n",
      "\n",
      "Performance metrics:\n",
      "                                    MSE         RMSE          MAE  \\\n",
      "Temperature                2.389294e+02    15.457343    14.753417   \n",
      "Precipitation_accumulated  1.322338e+04   114.992965   114.027883   \n",
      "Humidity                   1.065374e+03    32.640067    30.536199   \n",
      "Wind_Speed_kmh             5.273315e+00     2.296370     1.915018   \n",
      "Soil_Moisture              1.060083e+07  3255.891038  3246.134406   \n",
      "Soil_Temperature           5.679242e+01     7.536075     6.726657   \n",
      "Wind_Dir_Sin               8.103820e-01     0.900212     0.775122   \n",
      "Wind_Dir_Cos               8.481656e-01     0.920959     0.727186   \n",
      "\n",
      "                                    R2       SMAPE  \n",
      "Temperature                  -6.829679  199.291919  \n",
      "Precipitation_accumulated -4057.807108   28.053259  \n",
      "Humidity                     -6.254856   42.061918  \n",
      "Wind_Speed_kmh               -2.911199  177.783226  \n",
      "Soil_Moisture              -211.283669   46.600859  \n",
      "Soil_Temperature             -2.537718  143.039023  \n",
      "Wind_Dir_Sin                 -0.474946  149.274751  \n",
      "Wind_Dir_Cos                 -1.306282  114.603077  \n",
      "The MAE for this fold was 0.35671440738650584\n",
      "Results of trial 4 saved in optuna_iteration_metrics/trial_4.json\n",
      "Current value: 0.35671440738650584, Current params: {'input_chunk_length': 52, 'output_chunk_length': 10, 'dropout': 0.39512963048443994, 'batch_size': 202, 'lr': 8.205997793684982e-05, 'weight_decay': 5.95318453881243e-06, 'hidden_size': 256, 'num_encoder_layers': 2, 'num_decoder_layers': 2, 'temporal_width_past': 1, 'temporal_width_future': 3, 'use_reversible_instance_norm': False, 'loss_fn': 'huber', 'optimizer': 'SGD'}\n",
      "Best value: 0.0785026644732259, Best params: {'input_chunk_length': 49, 'output_chunk_length': 1, 'dropout': 0.24620637461947661, 'batch_size': 197, 'lr': 0.00395985787088, 'weight_decay': 1.0841773710065208e-06, 'hidden_size': 64, 'num_encoder_layers': 3, 'num_decoder_layers': 1, 'temporal_width_past': 1, 'temporal_width_future': 2, 'use_reversible_instance_norm': True, 'loss_fn': 'smoothl1', 'optimizer': 'RMSprop'}\n",
      "\n",
      "Starting Trial 5\n",
      "Hyperparameters: {'input_chunk_length': 57, 'output_chunk_length': 11, 'dropout': 0.35441929327301525, 'batch_size': 156, 'lr': 2.192789400448234e-06, 'weight_decay': 1.7153193962162802e-05, 'hidden_size': 128, 'num_encoder_layers': 4, 'num_decoder_layers': 3, 'temporal_width_past': 3, 'temporal_width_future': 4, 'use_reversible_instance_norm': True, 'loss_fn': 'huber', 'optimizer': 'RMSprop'}\n",
      "\n",
      "Training the model...\n",
      "Train set: 6647 samples\n",
      "Validation set: 1662 samples\n"
     ]
    },
    {
     "name": "stderr",
     "output_type": "stream",
     "text": [
      "Metric val_loss improved. New best score: 0.023\n",
      "Monitored metric val_loss did not improve in the last 15 records. Best score: 0.023. Signaling Trainer to stop.\n",
      "GPU available: True (cuda), used: True\n",
      "TPU available: False, using: 0 TPU cores\n",
      "HPU available: False, using: 0 HPUs\n",
      "LOCAL_RANK: 0 - CUDA_VISIBLE_DEVICES: [0]\n"
     ]
    },
    {
     "name": "stdout",
     "output_type": "stream",
     "text": [
      "Model loaded from checkpoint for trial 5\n"
     ]
    },
    {
     "name": "stderr",
     "output_type": "stream",
     "text": [
      "/home/eduardo/Documentos/Water-Cycle-Neural-Network/venv/lib/python3.12/site-packages/pytorch_lightning/trainer/connectors/data_connector.py:425: The 'predict_dataloader' does not have many workers which may be a bottleneck. Consider increasing the value of the `num_workers` argument` to `num_workers=11` in the `DataLoader` to improve performance.\n",
      "[I 2025-05-27 19:50:43,131] Trial 5 finished with value: 0.1258190013406152 and parameters: {'input_chunk_length': 57, 'output_chunk_length': 11, 'dropout': 0.35441929327301525, 'batch_size': 156, 'lr': 2.192789400448234e-06, 'weight_decay': 1.7153193962162802e-05, 'hidden_size': 128, 'num_encoder_layers': 4, 'num_decoder_layers': 3, 'temporal_width_past': 3, 'temporal_width_future': 4, 'use_reversible_instance_norm': True, 'loss_fn': 'huber', 'optimizer': 'RMSprop'}. Best is trial 1 with value: 0.0785026644732259.\n",
      "GPU available: True (cuda), used: True\n",
      "TPU available: False, using: 0 TPU cores\n",
      "HPU available: False, using: 0 HPUs\n",
      "LOCAL_RANK: 0 - CUDA_VISIBLE_DEVICES: [0]\n"
     ]
    },
    {
     "name": "stdout",
     "output_type": "stream",
     "text": [
      "Starting time series verification for consistency...\n",
      "\n",
      "Performance metrics:\n",
      "                                   MSE       RMSE        MAE        R2  \\\n",
      "Temperature                  16.942630   4.116143   3.328439  0.445287   \n",
      "Precipitation_accumulated     0.068413   0.261559   0.209947  0.978777   \n",
      "Humidity                    118.116318  10.868133   8.497213  0.197055   \n",
      "Wind_Speed_kmh                1.729834   1.315232   1.047178 -0.283327   \n",
      "Soil_Moisture              8068.331098  89.823889  41.690451  0.833495   \n",
      "Soil_Temperature              4.371316   2.090769   1.662255  0.727637   \n",
      "Wind_Dir_Sin                  0.726508   0.852354   0.710100 -0.327864   \n",
      "Wind_Dir_Cos                  0.472596   0.687456   0.564340 -0.281944   \n",
      "\n",
      "                                SMAPE  \n",
      "Temperature                 46.927409  \n",
      "Precipitation_accumulated    0.045192  \n",
      "Humidity                    10.036429  \n",
      "Wind_Speed_kmh              85.029154  \n",
      "Soil_Moisture                0.488764  \n",
      "Soil_Temperature            25.587006  \n",
      "Wind_Dir_Sin               134.884500  \n",
      "Wind_Dir_Cos               130.361697  \n",
      "The MAE for this fold was 0.1258190013406152\n",
      "Results of trial 5 saved in optuna_iteration_metrics/trial_5.json\n",
      "Current value: 0.1258190013406152, Current params: {'input_chunk_length': 57, 'output_chunk_length': 11, 'dropout': 0.35441929327301525, 'batch_size': 156, 'lr': 2.192789400448234e-06, 'weight_decay': 1.7153193962162802e-05, 'hidden_size': 128, 'num_encoder_layers': 4, 'num_decoder_layers': 3, 'temporal_width_past': 3, 'temporal_width_future': 4, 'use_reversible_instance_norm': True, 'loss_fn': 'huber', 'optimizer': 'RMSprop'}\n",
      "Best value: 0.0785026644732259, Best params: {'input_chunk_length': 49, 'output_chunk_length': 1, 'dropout': 0.24620637461947661, 'batch_size': 197, 'lr': 0.00395985787088, 'weight_decay': 1.0841773710065208e-06, 'hidden_size': 64, 'num_encoder_layers': 3, 'num_decoder_layers': 1, 'temporal_width_past': 1, 'temporal_width_future': 2, 'use_reversible_instance_norm': True, 'loss_fn': 'smoothl1', 'optimizer': 'RMSprop'}\n",
      "\n",
      "Starting Trial 6\n",
      "Hyperparameters: {'input_chunk_length': 40, 'output_chunk_length': 19, 'dropout': 0.4608725135385142, 'batch_size': 164, 'lr': 4.507267414527658e-06, 'weight_decay': 8.297567389796626e-05, 'hidden_size': 64, 'num_encoder_layers': 2, 'num_decoder_layers': 3, 'temporal_width_past': 1, 'temporal_width_future': 4, 'use_reversible_instance_norm': False, 'loss_fn': 'huber', 'optimizer': 'AdamW'}\n",
      "\n",
      "Training the model...\n",
      "Train set: 6647 samples\n",
      "Validation set: 1662 samples\n"
     ]
    },
    {
     "name": "stderr",
     "output_type": "stream",
     "text": [
      "[I 2025-05-27 19:50:44,757] Trial 6 pruned. Trial was pruned at epoch 0.\n",
      "GPU available: True (cuda), used: True\n",
      "TPU available: False, using: 0 TPU cores\n",
      "HPU available: False, using: 0 HPUs\n",
      "LOCAL_RANK: 0 - CUDA_VISIBLE_DEVICES: [0]\n"
     ]
    },
    {
     "name": "stdout",
     "output_type": "stream",
     "text": [
      "Current value: 0.30502031940453805, Current params: {'input_chunk_length': 40, 'output_chunk_length': 19, 'dropout': 0.4608725135385142, 'batch_size': 164, 'lr': 4.507267414527658e-06, 'weight_decay': 8.297567389796626e-05, 'hidden_size': 64, 'num_encoder_layers': 2, 'num_decoder_layers': 3, 'temporal_width_past': 1, 'temporal_width_future': 4, 'use_reversible_instance_norm': False, 'loss_fn': 'huber', 'optimizer': 'AdamW'}\n",
      "Best value: 0.0785026644732259, Best params: {'input_chunk_length': 49, 'output_chunk_length': 1, 'dropout': 0.24620637461947661, 'batch_size': 197, 'lr': 0.00395985787088, 'weight_decay': 1.0841773710065208e-06, 'hidden_size': 64, 'num_encoder_layers': 3, 'num_decoder_layers': 1, 'temporal_width_past': 1, 'temporal_width_future': 2, 'use_reversible_instance_norm': True, 'loss_fn': 'smoothl1', 'optimizer': 'RMSprop'}\n",
      "\n",
      "Starting Trial 7\n",
      "Hyperparameters: {'input_chunk_length': 61, 'output_chunk_length': 5, 'dropout': 0.3472455187305992, 'batch_size': 214, 'lr': 1.5552571127621393e-06, 'weight_decay': 0.0014125212797089645, 'hidden_size': 128, 'num_encoder_layers': 4, 'num_decoder_layers': 3, 'temporal_width_past': 4, 'temporal_width_future': 4, 'use_reversible_instance_norm': False, 'loss_fn': 'mse', 'optimizer': 'AdamW'}\n",
      "\n",
      "Training the model...\n",
      "Train set: 6647 samples\n",
      "Validation set: 1662 samples\n"
     ]
    },
    {
     "name": "stderr",
     "output_type": "stream",
     "text": [
      "[I 2025-05-27 19:50:46,342] Trial 7 pruned. Trial was pruned at epoch 0.\n",
      "GPU available: True (cuda), used: True\n",
      "TPU available: False, using: 0 TPU cores\n",
      "HPU available: False, using: 0 HPUs\n",
      "LOCAL_RANK: 0 - CUDA_VISIBLE_DEVICES: [0]\n"
     ]
    },
    {
     "name": "stdout",
     "output_type": "stream",
     "text": [
      "Current value: 0.5598211632181921, Current params: {'input_chunk_length': 61, 'output_chunk_length': 5, 'dropout': 0.3472455187305992, 'batch_size': 214, 'lr': 1.5552571127621393e-06, 'weight_decay': 0.0014125212797089645, 'hidden_size': 128, 'num_encoder_layers': 4, 'num_decoder_layers': 3, 'temporal_width_past': 4, 'temporal_width_future': 4, 'use_reversible_instance_norm': False, 'loss_fn': 'mse', 'optimizer': 'AdamW'}\n",
      "Best value: 0.0785026644732259, Best params: {'input_chunk_length': 49, 'output_chunk_length': 1, 'dropout': 0.24620637461947661, 'batch_size': 197, 'lr': 0.00395985787088, 'weight_decay': 1.0841773710065208e-06, 'hidden_size': 64, 'num_encoder_layers': 3, 'num_decoder_layers': 1, 'temporal_width_past': 1, 'temporal_width_future': 2, 'use_reversible_instance_norm': True, 'loss_fn': 'smoothl1', 'optimizer': 'RMSprop'}\n",
      "\n",
      "Starting Trial 8\n",
      "Hyperparameters: {'input_chunk_length': 68, 'output_chunk_length': 18, 'dropout': 0.45210451924541795, 'batch_size': 246, 'lr': 1.1563360318018655e-06, 'weight_decay': 0.00019572181441068163, 'hidden_size': 256, 'num_encoder_layers': 2, 'num_decoder_layers': 1, 'temporal_width_past': 5, 'temporal_width_future': 4, 'use_reversible_instance_norm': False, 'loss_fn': 'smoothl1', 'optimizer': 'RMSprop'}\n",
      "\n",
      "Training the model...\n",
      "Train set: 6647 samples\n",
      "Validation set: 1662 samples\n"
     ]
    },
    {
     "name": "stderr",
     "output_type": "stream",
     "text": [
      "[I 2025-05-27 19:50:48,085] Trial 8 pruned. Trial was pruned at epoch 0.\n",
      "GPU available: True (cuda), used: True\n",
      "TPU available: False, using: 0 TPU cores\n",
      "HPU available: False, using: 0 HPUs\n",
      "LOCAL_RANK: 0 - CUDA_VISIBLE_DEVICES: [0]\n"
     ]
    },
    {
     "name": "stdout",
     "output_type": "stream",
     "text": [
      "Current value: 0.244854235362038, Current params: {'input_chunk_length': 68, 'output_chunk_length': 18, 'dropout': 0.45210451924541795, 'batch_size': 246, 'lr': 1.1563360318018655e-06, 'weight_decay': 0.00019572181441068163, 'hidden_size': 256, 'num_encoder_layers': 2, 'num_decoder_layers': 1, 'temporal_width_past': 5, 'temporal_width_future': 4, 'use_reversible_instance_norm': False, 'loss_fn': 'smoothl1', 'optimizer': 'RMSprop'}\n",
      "Best value: 0.0785026644732259, Best params: {'input_chunk_length': 49, 'output_chunk_length': 1, 'dropout': 0.24620637461947661, 'batch_size': 197, 'lr': 0.00395985787088, 'weight_decay': 1.0841773710065208e-06, 'hidden_size': 64, 'num_encoder_layers': 3, 'num_decoder_layers': 1, 'temporal_width_past': 1, 'temporal_width_future': 2, 'use_reversible_instance_norm': True, 'loss_fn': 'smoothl1', 'optimizer': 'RMSprop'}\n",
      "\n",
      "Starting Trial 9\n",
      "Hyperparameters: {'input_chunk_length': 44, 'output_chunk_length': 7, 'dropout': 0.4480211113575612, 'batch_size': 189, 'lr': 0.0016604482566489514, 'weight_decay': 0.00015877819537078044, 'hidden_size': 256, 'num_encoder_layers': 3, 'num_decoder_layers': 4, 'temporal_width_past': 5, 'temporal_width_future': 3, 'use_reversible_instance_norm': True, 'loss_fn': 'mse', 'optimizer': 'SGD'}\n",
      "\n",
      "Training the model...\n",
      "Train set: 6647 samples\n",
      "Validation set: 1662 samples\n"
     ]
    },
    {
     "name": "stderr",
     "output_type": "stream",
     "text": [
      "[I 2025-05-27 19:50:50,093] Trial 9 pruned. Trial was pruned at epoch 0.\n"
     ]
    },
    {
     "name": "stdout",
     "output_type": "stream",
     "text": [
      "Current value: 0.04758627873066291, Current params: {'input_chunk_length': 44, 'output_chunk_length': 7, 'dropout': 0.4480211113575612, 'batch_size': 189, 'lr': 0.0016604482566489514, 'weight_decay': 0.00015877819537078044, 'hidden_size': 256, 'num_encoder_layers': 3, 'num_decoder_layers': 4, 'temporal_width_past': 5, 'temporal_width_future': 3, 'use_reversible_instance_norm': True, 'loss_fn': 'mse', 'optimizer': 'SGD'}\n",
      "Best value: 0.0785026644732259, Best params: {'input_chunk_length': 49, 'output_chunk_length': 1, 'dropout': 0.24620637461947661, 'batch_size': 197, 'lr': 0.00395985787088, 'weight_decay': 1.0841773710065208e-06, 'hidden_size': 64, 'num_encoder_layers': 3, 'num_decoder_layers': 1, 'temporal_width_past': 1, 'temporal_width_future': 2, 'use_reversible_instance_norm': True, 'loss_fn': 'smoothl1', 'optimizer': 'RMSprop'}\n",
      "\n",
      "Starting Trial 10\n",
      "Hyperparameters: {'input_chunk_length': 27, 'output_chunk_length': 1, 'dropout': 0.22738610933140774, 'batch_size': 93, 'lr': 0.004407799253698987, 'weight_decay': 1.6673460129037854e-06, 'hidden_size': 64, 'num_encoder_layers': 3, 'num_decoder_layers': 2, 'temporal_width_past': 2, 'temporal_width_future': 1, 'use_reversible_instance_norm': True, 'loss_fn': 'smoothl1', 'optimizer': 'Adam'}\n",
      "\n",
      "Training the model...\n",
      "Train set: 6647 samples\n",
      "Validation set: 1662 samples\n"
     ]
    },
    {
     "name": "stderr",
     "output_type": "stream",
     "text": [
      "GPU available: True (cuda), used: True\n",
      "TPU available: False, using: 0 TPU cores\n",
      "HPU available: False, using: 0 HPUs\n",
      "LOCAL_RANK: 0 - CUDA_VISIBLE_DEVICES: [0]\n",
      "Metric val_loss improved. New best score: 0.013\n",
      "Metric val_loss improved by 0.001 >= min_delta = 0.0005. New best score: 0.012\n",
      "Monitored metric val_loss did not improve in the last 15 records. Best score: 0.012. Signaling Trainer to stop.\n",
      "GPU available: True (cuda), used: True\n",
      "TPU available: False, using: 0 TPU cores\n",
      "HPU available: False, using: 0 HPUs\n",
      "LOCAL_RANK: 0 - CUDA_VISIBLE_DEVICES: [0]\n"
     ]
    },
    {
     "name": "stdout",
     "output_type": "stream",
     "text": [
      "Model loaded from checkpoint for trial 10\n"
     ]
    },
    {
     "name": "stderr",
     "output_type": "stream",
     "text": [
      "/home/eduardo/Documentos/Water-Cycle-Neural-Network/venv/lib/python3.12/site-packages/pytorch_lightning/trainer/connectors/data_connector.py:425: The 'predict_dataloader' does not have many workers which may be a bottleneck. Consider increasing the value of the `num_workers` argument` to `num_workers=11` in the `DataLoader` to improve performance.\n",
      "[I 2025-05-27 19:52:04,872] Trial 10 finished with value: 0.07572013632775909 and parameters: {'input_chunk_length': 27, 'output_chunk_length': 1, 'dropout': 0.22738610933140774, 'batch_size': 93, 'lr': 0.004407799253698987, 'weight_decay': 1.6673460129037854e-06, 'hidden_size': 64, 'num_encoder_layers': 3, 'num_decoder_layers': 2, 'temporal_width_past': 2, 'temporal_width_future': 1, 'use_reversible_instance_norm': True, 'loss_fn': 'smoothl1', 'optimizer': 'Adam'}. Best is trial 10 with value: 0.07572013632775909.\n",
      "GPU available: True (cuda), used: True\n",
      "TPU available: False, using: 0 TPU cores\n",
      "HPU available: False, using: 0 HPUs\n",
      "LOCAL_RANK: 0 - CUDA_VISIBLE_DEVICES: [0]\n"
     ]
    },
    {
     "name": "stdout",
     "output_type": "stream",
     "text": [
      "Starting time series verification for consistency...\n",
      "\n",
      "Performance metrics:\n",
      "                                   MSE       RMSE        MAE        R2  \\\n",
      "Temperature                   1.518781   1.232388   0.954326  0.950174   \n",
      "Precipitation_accumulated     0.140385   0.374680   0.354106  0.959221   \n",
      "Humidity                     13.034444   3.610325   2.589765  0.911060   \n",
      "Wind_Speed_kmh                0.557266   0.746503   0.559387  0.587636   \n",
      "Soil_Moisture              1326.068422  36.415222  14.632934  0.976979   \n",
      "Soil_Temperature              0.396965   0.630052   0.474080  0.975415   \n",
      "Wind_Dir_Sin                  0.368820   0.607306   0.480303  0.329583   \n",
      "Wind_Dir_Cos                  0.314940   0.561195   0.444900  0.142648   \n",
      "\n",
      "                                SMAPE  \n",
      "Temperature                 19.199420  \n",
      "Precipitation_accumulated    0.076208  \n",
      "Humidity                     3.094389  \n",
      "Wind_Speed_kmh              58.663780  \n",
      "Soil_Moisture                0.170590  \n",
      "Soil_Temperature             7.823281  \n",
      "Wind_Dir_Sin                95.038022  \n",
      "Wind_Dir_Cos               108.254847  \n",
      "The MAE for this fold was 0.07572013632775909\n",
      "Results of trial 10 saved in optuna_iteration_metrics/trial_10.json\n",
      "Current value: 0.07572013632775909, Current params: {'input_chunk_length': 27, 'output_chunk_length': 1, 'dropout': 0.22738610933140774, 'batch_size': 93, 'lr': 0.004407799253698987, 'weight_decay': 1.6673460129037854e-06, 'hidden_size': 64, 'num_encoder_layers': 3, 'num_decoder_layers': 2, 'temporal_width_past': 2, 'temporal_width_future': 1, 'use_reversible_instance_norm': True, 'loss_fn': 'smoothl1', 'optimizer': 'Adam'}\n",
      "Best value: 0.07572013632775909, Best params: {'input_chunk_length': 27, 'output_chunk_length': 1, 'dropout': 0.22738610933140774, 'batch_size': 93, 'lr': 0.004407799253698987, 'weight_decay': 1.6673460129037854e-06, 'hidden_size': 64, 'num_encoder_layers': 3, 'num_decoder_layers': 2, 'temporal_width_past': 2, 'temporal_width_future': 1, 'use_reversible_instance_norm': True, 'loss_fn': 'smoothl1', 'optimizer': 'Adam'}\n",
      "\n",
      "Starting Trial 11\n",
      "Hyperparameters: {'input_chunk_length': 25, 'output_chunk_length': 1, 'dropout': 0.21591872485806274, 'batch_size': 81, 'lr': 0.0027450007230539553, 'weight_decay': 1.231838039405363e-06, 'hidden_size': 64, 'num_encoder_layers': 3, 'num_decoder_layers': 2, 'temporal_width_past': 2, 'temporal_width_future': 1, 'use_reversible_instance_norm': True, 'loss_fn': 'smoothl1', 'optimizer': 'Adam'}\n",
      "\n",
      "Training the model...\n",
      "Train set: 6647 samples\n",
      "Validation set: 1662 samples\n"
     ]
    },
    {
     "name": "stderr",
     "output_type": "stream",
     "text": [
      "Metric val_loss improved. New best score: 0.013\n",
      "Metric val_loss improved by 0.001 >= min_delta = 0.0005. New best score: 0.012\n",
      "Monitored metric val_loss did not improve in the last 15 records. Best score: 0.012. Signaling Trainer to stop.\n",
      "GPU available: True (cuda), used: True\n",
      "TPU available: False, using: 0 TPU cores\n",
      "HPU available: False, using: 0 HPUs\n",
      "LOCAL_RANK: 0 - CUDA_VISIBLE_DEVICES: [0]\n"
     ]
    },
    {
     "name": "stdout",
     "output_type": "stream",
     "text": [
      "Model loaded from checkpoint for trial 11\n"
     ]
    },
    {
     "name": "stderr",
     "output_type": "stream",
     "text": [
      "/home/eduardo/Documentos/Water-Cycle-Neural-Network/venv/lib/python3.12/site-packages/pytorch_lightning/trainer/connectors/data_connector.py:425: The 'predict_dataloader' does not have many workers which may be a bottleneck. Consider increasing the value of the `num_workers` argument` to `num_workers=11` in the `DataLoader` to improve performance.\n",
      "[I 2025-05-27 19:55:03,183] Trial 11 finished with value: 0.0785755714557393 and parameters: {'input_chunk_length': 25, 'output_chunk_length': 1, 'dropout': 0.21591872485806274, 'batch_size': 81, 'lr': 0.0027450007230539553, 'weight_decay': 1.231838039405363e-06, 'hidden_size': 64, 'num_encoder_layers': 3, 'num_decoder_layers': 2, 'temporal_width_past': 2, 'temporal_width_future': 1, 'use_reversible_instance_norm': True, 'loss_fn': 'smoothl1', 'optimizer': 'Adam'}. Best is trial 10 with value: 0.07572013632775909.\n",
      "GPU available: True (cuda), used: True\n",
      "TPU available: False, using: 0 TPU cores\n",
      "HPU available: False, using: 0 HPUs\n",
      "LOCAL_RANK: 0 - CUDA_VISIBLE_DEVICES: [0]\n"
     ]
    },
    {
     "name": "stdout",
     "output_type": "stream",
     "text": [
      "Starting time series verification for consistency...\n",
      "\n",
      "Performance metrics:\n",
      "                                   MSE       RMSE        MAE        R2  \\\n",
      "Temperature                   1.879906   1.371097   1.039379  0.938398   \n",
      "Precipitation_accumulated     0.981184   0.990547   0.919152  0.715849   \n",
      "Humidity                     13.815776   3.716958   2.671725  0.905743   \n",
      "Wind_Speed_kmh                0.679409   0.824263   0.614663  0.496861   \n",
      "Soil_Moisture              1885.429814  43.421536  17.132592  0.967475   \n",
      "Soil_Temperature              0.505569   0.711034   0.531745  0.968733   \n",
      "Wind_Dir_Sin                  0.382094   0.618138   0.493505  0.305122   \n",
      "Wind_Dir_Cos                  0.316136   0.562260   0.450494  0.140478   \n",
      "\n",
      "                                SMAPE  \n",
      "Temperature                 20.212249  \n",
      "Precipitation_accumulated    0.197733  \n",
      "Humidity                     3.190175  \n",
      "Wind_Speed_kmh              64.912486  \n",
      "Soil_Moisture                0.200091  \n",
      "Soil_Temperature             8.896755  \n",
      "Wind_Dir_Sin                98.121627  \n",
      "Wind_Dir_Cos               110.580752  \n",
      "The MAE for this fold was 0.0785755714557393\n",
      "Results of trial 11 saved in optuna_iteration_metrics/trial_11.json\n",
      "Current value: 0.0785755714557393, Current params: {'input_chunk_length': 25, 'output_chunk_length': 1, 'dropout': 0.21591872485806274, 'batch_size': 81, 'lr': 0.0027450007230539553, 'weight_decay': 1.231838039405363e-06, 'hidden_size': 64, 'num_encoder_layers': 3, 'num_decoder_layers': 2, 'temporal_width_past': 2, 'temporal_width_future': 1, 'use_reversible_instance_norm': True, 'loss_fn': 'smoothl1', 'optimizer': 'Adam'}\n",
      "Best value: 0.07572013632775909, Best params: {'input_chunk_length': 27, 'output_chunk_length': 1, 'dropout': 0.22738610933140774, 'batch_size': 93, 'lr': 0.004407799253698987, 'weight_decay': 1.6673460129037854e-06, 'hidden_size': 64, 'num_encoder_layers': 3, 'num_decoder_layers': 2, 'temporal_width_past': 2, 'temporal_width_future': 1, 'use_reversible_instance_norm': True, 'loss_fn': 'smoothl1', 'optimizer': 'Adam'}\n",
      "\n",
      "Starting Trial 12\n",
      "Hyperparameters: {'input_chunk_length': 33, 'output_chunk_length': 1, 'dropout': 0.2052436860631785, 'batch_size': 80, 'lr': 0.0004243645875945399, 'weight_decay': 1.2914186390714525e-06, 'hidden_size': 64, 'num_encoder_layers': 3, 'num_decoder_layers': 2, 'temporal_width_past': 2, 'temporal_width_future': 2, 'use_reversible_instance_norm': True, 'loss_fn': 'mae', 'optimizer': 'Adam'}\n",
      "\n",
      "Training the model...\n",
      "Train set: 6647 samples\n",
      "Validation set: 1662 samples\n"
     ]
    },
    {
     "name": "stderr",
     "output_type": "stream",
     "text": [
      "[I 2025-05-27 19:55:05,125] Trial 12 pruned. Trial was pruned at epoch 0.\n",
      "GPU available: True (cuda), used: True\n",
      "TPU available: False, using: 0 TPU cores\n",
      "HPU available: False, using: 0 HPUs\n",
      "LOCAL_RANK: 0 - CUDA_VISIBLE_DEVICES: [0]\n"
     ]
    },
    {
     "name": "stdout",
     "output_type": "stream",
     "text": [
      "Current value: 0.10930734590444102, Current params: {'input_chunk_length': 33, 'output_chunk_length': 1, 'dropout': 0.2052436860631785, 'batch_size': 80, 'lr': 0.0004243645875945399, 'weight_decay': 1.2914186390714525e-06, 'hidden_size': 64, 'num_encoder_layers': 3, 'num_decoder_layers': 2, 'temporal_width_past': 2, 'temporal_width_future': 2, 'use_reversible_instance_norm': True, 'loss_fn': 'mae', 'optimizer': 'Adam'}\n",
      "Best value: 0.07572013632775909, Best params: {'input_chunk_length': 27, 'output_chunk_length': 1, 'dropout': 0.22738610933140774, 'batch_size': 93, 'lr': 0.004407799253698987, 'weight_decay': 1.6673460129037854e-06, 'hidden_size': 64, 'num_encoder_layers': 3, 'num_decoder_layers': 2, 'temporal_width_past': 2, 'temporal_width_future': 1, 'use_reversible_instance_norm': True, 'loss_fn': 'smoothl1', 'optimizer': 'Adam'}\n",
      "\n",
      "Starting Trial 13\n",
      "Hyperparameters: {'input_chunk_length': 38, 'output_chunk_length': 5, 'dropout': 0.23115329478475993, 'batch_size': 115, 'lr': 0.004054819096425586, 'weight_decay': 1.3696857484088504e-05, 'hidden_size': 64, 'num_encoder_layers': 3, 'num_decoder_layers': 1, 'temporal_width_past': 2, 'temporal_width_future': 2, 'use_reversible_instance_norm': True, 'loss_fn': 'smoothl1', 'optimizer': 'Adam'}\n",
      "\n",
      "Training the model...\n",
      "Train set: 6647 samples\n",
      "Validation set: 1662 samples\n"
     ]
    },
    {
     "name": "stderr",
     "output_type": "stream",
     "text": [
      "Metric val_loss improved. New best score: 0.017\n",
      "Metric val_loss improved by 0.001 >= min_delta = 0.0005. New best score: 0.016\n",
      "[I 2025-05-27 19:55:25,981] Trial 13 pruned. Trial was pruned at epoch 16.\n",
      "GPU available: True (cuda), used: True\n",
      "TPU available: False, using: 0 TPU cores\n",
      "HPU available: False, using: 0 HPUs\n",
      "LOCAL_RANK: 0 - CUDA_VISIBLE_DEVICES: [0]\n"
     ]
    },
    {
     "name": "stdout",
     "output_type": "stream",
     "text": [
      "Current value: 0.018276253250125055, Current params: {'input_chunk_length': 38, 'output_chunk_length': 5, 'dropout': 0.23115329478475993, 'batch_size': 115, 'lr': 0.004054819096425586, 'weight_decay': 1.3696857484088504e-05, 'hidden_size': 64, 'num_encoder_layers': 3, 'num_decoder_layers': 1, 'temporal_width_past': 2, 'temporal_width_future': 2, 'use_reversible_instance_norm': True, 'loss_fn': 'smoothl1', 'optimizer': 'Adam'}\n",
      "Best value: 0.07572013632775909, Best params: {'input_chunk_length': 27, 'output_chunk_length': 1, 'dropout': 0.22738610933140774, 'batch_size': 93, 'lr': 0.004407799253698987, 'weight_decay': 1.6673460129037854e-06, 'hidden_size': 64, 'num_encoder_layers': 3, 'num_decoder_layers': 2, 'temporal_width_past': 2, 'temporal_width_future': 1, 'use_reversible_instance_norm': True, 'loss_fn': 'smoothl1', 'optimizer': 'Adam'}\n",
      "\n",
      "Starting Trial 14\n",
      "Hyperparameters: {'input_chunk_length': 24, 'output_chunk_length': 24, 'dropout': 0.13381692522479816, 'batch_size': 123, 'lr': 0.0003992712398512331, 'weight_decay': 3.2338843593112895e-06, 'hidden_size': 64, 'num_encoder_layers': 1, 'num_decoder_layers': 2, 'temporal_width_past': 1, 'temporal_width_future': 2, 'use_reversible_instance_norm': True, 'loss_fn': 'smoothl1', 'optimizer': 'RMSprop'}\n",
      "\n",
      "Training the model...\n",
      "Train set: 6647 samples\n",
      "Validation set: 1662 samples\n"
     ]
    },
    {
     "name": "stderr",
     "output_type": "stream",
     "text": [
      "Metric val_loss improved. New best score: 0.023\n",
      "Metric val_loss improved by 0.001 >= min_delta = 0.0005. New best score: 0.022\n",
      "[I 2025-05-27 19:55:45,773] Trial 14 pruned. Trial was pruned at epoch 16.\n",
      "GPU available: True (cuda), used: True\n",
      "TPU available: False, using: 0 TPU cores\n",
      "HPU available: False, using: 0 HPUs\n",
      "LOCAL_RANK: 0 - CUDA_VISIBLE_DEVICES: [0]\n"
     ]
    },
    {
     "name": "stdout",
     "output_type": "stream",
     "text": [
      "Current value: 0.02346836079463518, Current params: {'input_chunk_length': 24, 'output_chunk_length': 24, 'dropout': 0.13381692522479816, 'batch_size': 123, 'lr': 0.0003992712398512331, 'weight_decay': 3.2338843593112895e-06, 'hidden_size': 64, 'num_encoder_layers': 1, 'num_decoder_layers': 2, 'temporal_width_past': 1, 'temporal_width_future': 2, 'use_reversible_instance_norm': True, 'loss_fn': 'smoothl1', 'optimizer': 'RMSprop'}\n",
      "Best value: 0.07572013632775909, Best params: {'input_chunk_length': 27, 'output_chunk_length': 1, 'dropout': 0.22738610933140774, 'batch_size': 93, 'lr': 0.004407799253698987, 'weight_decay': 1.6673460129037854e-06, 'hidden_size': 64, 'num_encoder_layers': 3, 'num_decoder_layers': 2, 'temporal_width_past': 2, 'temporal_width_future': 1, 'use_reversible_instance_norm': True, 'loss_fn': 'smoothl1', 'optimizer': 'Adam'}\n",
      "\n",
      "Starting Trial 15\n",
      "Hyperparameters: {'input_chunk_length': 48, 'output_chunk_length': 4, 'dropout': 0.2663452963243441, 'batch_size': 126, 'lr': 1.4756074911663143e-05, 'weight_decay': 2.592319523496188e-05, 'hidden_size': 64, 'num_encoder_layers': 3, 'num_decoder_layers': 1, 'temporal_width_past': 2, 'temporal_width_future': 1, 'use_reversible_instance_norm': True, 'loss_fn': 'smoothl1', 'optimizer': 'Adam'}\n",
      "\n",
      "Training the model...\n",
      "Train set: 6647 samples\n",
      "Validation set: 1662 samples\n"
     ]
    },
    {
     "name": "stderr",
     "output_type": "stream",
     "text": [
      "[I 2025-05-27 19:55:47,597] Trial 15 pruned. Trial was pruned at epoch 0.\n",
      "GPU available: True (cuda), used: True\n",
      "TPU available: False, using: 0 TPU cores\n",
      "HPU available: False, using: 0 HPUs\n",
      "LOCAL_RANK: 0 - CUDA_VISIBLE_DEVICES: [0]\n"
     ]
    },
    {
     "name": "stdout",
     "output_type": "stream",
     "text": [
      "Current value: 0.02406818843969371, Current params: {'input_chunk_length': 48, 'output_chunk_length': 4, 'dropout': 0.2663452963243441, 'batch_size': 126, 'lr': 1.4756074911663143e-05, 'weight_decay': 2.592319523496188e-05, 'hidden_size': 64, 'num_encoder_layers': 3, 'num_decoder_layers': 1, 'temporal_width_past': 2, 'temporal_width_future': 1, 'use_reversible_instance_norm': True, 'loss_fn': 'smoothl1', 'optimizer': 'Adam'}\n",
      "Best value: 0.07572013632775909, Best params: {'input_chunk_length': 27, 'output_chunk_length': 1, 'dropout': 0.22738610933140774, 'batch_size': 93, 'lr': 0.004407799253698987, 'weight_decay': 1.6673460129037854e-06, 'hidden_size': 64, 'num_encoder_layers': 3, 'num_decoder_layers': 2, 'temporal_width_past': 2, 'temporal_width_future': 1, 'use_reversible_instance_norm': True, 'loss_fn': 'smoothl1', 'optimizer': 'Adam'}\n",
      "\n",
      "Starting Trial 16\n",
      "Hyperparameters: {'input_chunk_length': 35, 'output_chunk_length': 8, 'dropout': 0.16723047108607214, 'batch_size': 165, 'lr': 0.0005482391310187335, 'weight_decay': 0.006151701572433094, 'hidden_size': 128, 'num_encoder_layers': 4, 'num_decoder_layers': 2, 'temporal_width_past': 3, 'temporal_width_future': 2, 'use_reversible_instance_norm': True, 'loss_fn': 'mae', 'optimizer': 'RMSprop'}\n",
      "\n",
      "Training the model...\n",
      "Train set: 6647 samples\n",
      "Validation set: 1662 samples\n"
     ]
    },
    {
     "name": "stderr",
     "output_type": "stream",
     "text": [
      "[I 2025-05-27 19:55:50,037] Trial 16 pruned. Trial was pruned at epoch 0.\n"
     ]
    },
    {
     "name": "stdout",
     "output_type": "stream",
     "text": [
      "Current value: 0.11892763547467786, Current params: {'input_chunk_length': 35, 'output_chunk_length': 8, 'dropout': 0.16723047108607214, 'batch_size': 165, 'lr': 0.0005482391310187335, 'weight_decay': 0.006151701572433094, 'hidden_size': 128, 'num_encoder_layers': 4, 'num_decoder_layers': 2, 'temporal_width_past': 3, 'temporal_width_future': 2, 'use_reversible_instance_norm': True, 'loss_fn': 'mae', 'optimizer': 'RMSprop'}\n",
      "Best value: 0.07572013632775909, Best params: {'input_chunk_length': 27, 'output_chunk_length': 1, 'dropout': 0.22738610933140774, 'batch_size': 93, 'lr': 0.004407799253698987, 'weight_decay': 1.6673460129037854e-06, 'hidden_size': 64, 'num_encoder_layers': 3, 'num_decoder_layers': 2, 'temporal_width_past': 2, 'temporal_width_future': 1, 'use_reversible_instance_norm': True, 'loss_fn': 'smoothl1', 'optimizer': 'Adam'}\n",
      "\n",
      "Starting Trial 17\n",
      "Hyperparameters: {'input_chunk_length': 29, 'output_chunk_length': 14, 'dropout': 0.2592282914472658, 'batch_size': 103, 'lr': 0.00017486558860575424, 'weight_decay': 2.397305756506563e-06, 'hidden_size': 64, 'num_encoder_layers': 3, 'num_decoder_layers': 4, 'temporal_width_past': 1, 'temporal_width_future': 1, 'use_reversible_instance_norm': True, 'loss_fn': 'smoothl1', 'optimizer': 'RMSprop'}\n",
      "\n",
      "Training the model...\n",
      "Train set: 6647 samples\n",
      "Validation set: 1662 samples\n"
     ]
    },
    {
     "name": "stderr",
     "output_type": "stream",
     "text": [
      "GPU available: True (cuda), used: True\n",
      "TPU available: False, using: 0 TPU cores\n",
      "HPU available: False, using: 0 HPUs\n",
      "LOCAL_RANK: 0 - CUDA_VISIBLE_DEVICES: [0]\n",
      "[I 2025-05-27 19:56:42,053] Trial 17 pruned. Trial was pruned at epoch 0.\n",
      "GPU available: True (cuda), used: True\n",
      "TPU available: False, using: 0 TPU cores\n",
      "HPU available: False, using: 0 HPUs\n",
      "LOCAL_RANK: 0 - CUDA_VISIBLE_DEVICES: [0]\n"
     ]
    },
    {
     "name": "stdout",
     "output_type": "stream",
     "text": [
      "Current value: 0.023165215356449664, Current params: {'input_chunk_length': 29, 'output_chunk_length': 14, 'dropout': 0.2592282914472658, 'batch_size': 103, 'lr': 0.00017486558860575424, 'weight_decay': 2.397305756506563e-06, 'hidden_size': 64, 'num_encoder_layers': 3, 'num_decoder_layers': 4, 'temporal_width_past': 1, 'temporal_width_future': 1, 'use_reversible_instance_norm': True, 'loss_fn': 'smoothl1', 'optimizer': 'RMSprop'}\n",
      "Best value: 0.07572013632775909, Best params: {'input_chunk_length': 27, 'output_chunk_length': 1, 'dropout': 0.22738610933140774, 'batch_size': 93, 'lr': 0.004407799253698987, 'weight_decay': 1.6673460129037854e-06, 'hidden_size': 64, 'num_encoder_layers': 3, 'num_decoder_layers': 2, 'temporal_width_past': 2, 'temporal_width_future': 1, 'use_reversible_instance_norm': True, 'loss_fn': 'smoothl1', 'optimizer': 'Adam'}\n",
      "\n",
      "Starting Trial 18\n",
      "Hyperparameters: {'input_chunk_length': 46, 'output_chunk_length': 3, 'dropout': 0.17695887687264644, 'batch_size': 143, 'lr': 1.8896901115485988e-05, 'weight_decay': 1.1413358845044553e-06, 'hidden_size': 64, 'num_encoder_layers': 2, 'num_decoder_layers': 1, 'temporal_width_past': 2, 'temporal_width_future': 5, 'use_reversible_instance_norm': True, 'loss_fn': 'smoothl1', 'optimizer': 'Adam'}\n",
      "\n",
      "Training the model...\n",
      "Train set: 6647 samples\n",
      "Validation set: 1662 samples\n"
     ]
    },
    {
     "name": "stderr",
     "output_type": "stream",
     "text": [
      "[I 2025-05-27 19:56:43,829] Trial 18 pruned. Trial was pruned at epoch 0.\n",
      "GPU available: True (cuda), used: True\n",
      "TPU available: False, using: 0 TPU cores\n",
      "HPU available: False, using: 0 HPUs\n",
      "LOCAL_RANK: 0 - CUDA_VISIBLE_DEVICES: [0]\n"
     ]
    },
    {
     "name": "stdout",
     "output_type": "stream",
     "text": [
      "Current value: 0.02416707711421342, Current params: {'input_chunk_length': 46, 'output_chunk_length': 3, 'dropout': 0.17695887687264644, 'batch_size': 143, 'lr': 1.8896901115485988e-05, 'weight_decay': 1.1413358845044553e-06, 'hidden_size': 64, 'num_encoder_layers': 2, 'num_decoder_layers': 1, 'temporal_width_past': 2, 'temporal_width_future': 5, 'use_reversible_instance_norm': True, 'loss_fn': 'smoothl1', 'optimizer': 'Adam'}\n",
      "Best value: 0.07572013632775909, Best params: {'input_chunk_length': 27, 'output_chunk_length': 1, 'dropout': 0.22738610933140774, 'batch_size': 93, 'lr': 0.004407799253698987, 'weight_decay': 1.6673460129037854e-06, 'hidden_size': 64, 'num_encoder_layers': 3, 'num_decoder_layers': 2, 'temporal_width_past': 2, 'temporal_width_future': 1, 'use_reversible_instance_norm': True, 'loss_fn': 'smoothl1', 'optimizer': 'Adam'}\n",
      "\n",
      "Starting Trial 19\n",
      "Hyperparameters: {'input_chunk_length': 43, 'output_chunk_length': 8, 'dropout': 0.162333929888749, 'batch_size': 64, 'lr': 0.004879113581684487, 'weight_decay': 3.9778616908189474e-05, 'hidden_size': 64, 'num_encoder_layers': 4, 'num_decoder_layers': 2, 'temporal_width_past': 3, 'temporal_width_future': 2, 'use_reversible_instance_norm': True, 'loss_fn': 'smoothl1', 'optimizer': 'RMSprop'}\n",
      "\n",
      "Training the model...\n",
      "Train set: 6647 samples\n",
      "Validation set: 1662 samples\n"
     ]
    },
    {
     "name": "stderr",
     "output_type": "stream",
     "text": [
      "Metric val_loss improved. New best score: 0.021\n",
      "Metric val_loss improved by 0.003 >= min_delta = 0.0005. New best score: 0.018\n",
      "Metric val_loss improved by 0.001 >= min_delta = 0.0005. New best score: 0.017\n",
      "[I 2025-05-27 19:57:12,453] Trial 19 pruned. Trial was pruned at epoch 16.\n",
      "GPU available: True (cuda), used: True\n",
      "TPU available: False, using: 0 TPU cores\n",
      "HPU available: False, using: 0 HPUs\n",
      "LOCAL_RANK: 0 - CUDA_VISIBLE_DEVICES: [0]\n"
     ]
    },
    {
     "name": "stdout",
     "output_type": "stream",
     "text": [
      "Current value: 0.017120005977233652, Current params: {'input_chunk_length': 43, 'output_chunk_length': 8, 'dropout': 0.162333929888749, 'batch_size': 64, 'lr': 0.004879113581684487, 'weight_decay': 3.9778616908189474e-05, 'hidden_size': 64, 'num_encoder_layers': 4, 'num_decoder_layers': 2, 'temporal_width_past': 3, 'temporal_width_future': 2, 'use_reversible_instance_norm': True, 'loss_fn': 'smoothl1', 'optimizer': 'RMSprop'}\n",
      "Best value: 0.07572013632775909, Best params: {'input_chunk_length': 27, 'output_chunk_length': 1, 'dropout': 0.22738610933140774, 'batch_size': 93, 'lr': 0.004407799253698987, 'weight_decay': 1.6673460129037854e-06, 'hidden_size': 64, 'num_encoder_layers': 3, 'num_decoder_layers': 2, 'temporal_width_past': 2, 'temporal_width_future': 1, 'use_reversible_instance_norm': True, 'loss_fn': 'smoothl1', 'optimizer': 'Adam'}\n",
      "\n",
      "Starting Trial 20\n",
      "Hyperparameters: {'input_chunk_length': 54, 'output_chunk_length': 1, 'dropout': 0.3057733101319443, 'batch_size': 186, 'lr': 0.0012884350873106202, 'weight_decay': 6.839692782408596e-06, 'hidden_size': 128, 'num_encoder_layers': 3, 'num_decoder_layers': 1, 'temporal_width_past': 1, 'temporal_width_future': 1, 'use_reversible_instance_norm': True, 'loss_fn': 'mae', 'optimizer': 'Adam'}\n",
      "\n",
      "Training the model...\n",
      "Train set: 6647 samples\n",
      "Validation set: 1662 samples\n"
     ]
    },
    {
     "name": "stderr",
     "output_type": "stream",
     "text": [
      "[I 2025-05-27 19:57:14,278] Trial 20 pruned. Trial was pruned at epoch 0.\n"
     ]
    },
    {
     "name": "stdout",
     "output_type": "stream",
     "text": [
      "Current value: 0.09503714183870537, Current params: {'input_chunk_length': 54, 'output_chunk_length': 1, 'dropout': 0.3057733101319443, 'batch_size': 186, 'lr': 0.0012884350873106202, 'weight_decay': 6.839692782408596e-06, 'hidden_size': 128, 'num_encoder_layers': 3, 'num_decoder_layers': 1, 'temporal_width_past': 1, 'temporal_width_future': 1, 'use_reversible_instance_norm': True, 'loss_fn': 'mae', 'optimizer': 'Adam'}\n",
      "Best value: 0.07572013632775909, Best params: {'input_chunk_length': 27, 'output_chunk_length': 1, 'dropout': 0.22738610933140774, 'batch_size': 93, 'lr': 0.004407799253698987, 'weight_decay': 1.6673460129037854e-06, 'hidden_size': 64, 'num_encoder_layers': 3, 'num_decoder_layers': 2, 'temporal_width_past': 2, 'temporal_width_future': 1, 'use_reversible_instance_norm': True, 'loss_fn': 'smoothl1', 'optimizer': 'Adam'}\n",
      "\n",
      "Starting Trial 21\n",
      "Hyperparameters: {'input_chunk_length': 27, 'output_chunk_length': 1, 'dropout': 0.22632682724298764, 'batch_size': 91, 'lr': 0.002228492817624405, 'weight_decay': 1.0074229438089097e-06, 'hidden_size': 64, 'num_encoder_layers': 3, 'num_decoder_layers': 2, 'temporal_width_past': 2, 'temporal_width_future': 1, 'use_reversible_instance_norm': True, 'loss_fn': 'smoothl1', 'optimizer': 'Adam'}\n",
      "\n",
      "Training the model...\n",
      "Train set: 6647 samples\n",
      "Validation set: 1662 samples\n"
     ]
    },
    {
     "name": "stderr",
     "output_type": "stream",
     "text": [
      "GPU available: True (cuda), used: True\n",
      "TPU available: False, using: 0 TPU cores\n",
      "HPU available: False, using: 0 HPUs\n",
      "LOCAL_RANK: 0 - CUDA_VISIBLE_DEVICES: [0]\n",
      "Metric val_loss improved. New best score: 0.014\n",
      "Metric val_loss improved by 0.001 >= min_delta = 0.0005. New best score: 0.013\n",
      "Metric val_loss improved by 0.001 >= min_delta = 0.0005. New best score: 0.012\n",
      "Monitored metric val_loss did not improve in the last 15 records. Best score: 0.012. Signaling Trainer to stop.\n",
      "GPU available: True (cuda), used: True\n",
      "TPU available: False, using: 0 TPU cores\n",
      "HPU available: False, using: 0 HPUs\n",
      "LOCAL_RANK: 0 - CUDA_VISIBLE_DEVICES: [0]\n"
     ]
    },
    {
     "name": "stdout",
     "output_type": "stream",
     "text": [
      "Model loaded from checkpoint for trial 21\n"
     ]
    },
    {
     "name": "stderr",
     "output_type": "stream",
     "text": [
      "/home/eduardo/Documentos/Water-Cycle-Neural-Network/venv/lib/python3.12/site-packages/pytorch_lightning/trainer/connectors/data_connector.py:425: The 'predict_dataloader' does not have many workers which may be a bottleneck. Consider increasing the value of the `num_workers` argument` to `num_workers=11` in the `DataLoader` to improve performance.\n",
      "[I 2025-05-27 20:04:21,022] Trial 21 finished with value: 0.07869614822774502 and parameters: {'input_chunk_length': 27, 'output_chunk_length': 1, 'dropout': 0.22632682724298764, 'batch_size': 91, 'lr': 0.002228492817624405, 'weight_decay': 1.0074229438089097e-06, 'hidden_size': 64, 'num_encoder_layers': 3, 'num_decoder_layers': 2, 'temporal_width_past': 2, 'temporal_width_future': 1, 'use_reversible_instance_norm': True, 'loss_fn': 'smoothl1', 'optimizer': 'Adam'}. Best is trial 10 with value: 0.07572013632775909.\n",
      "GPU available: True (cuda), used: True\n",
      "TPU available: False, using: 0 TPU cores\n",
      "HPU available: False, using: 0 HPUs\n",
      "LOCAL_RANK: 0 - CUDA_VISIBLE_DEVICES: [0]\n"
     ]
    },
    {
     "name": "stdout",
     "output_type": "stream",
     "text": [
      "Starting time series verification for consistency...\n",
      "\n",
      "Performance metrics:\n",
      "                                   MSE       RMSE        MAE        R2  \\\n",
      "Temperature                   1.751830   1.323567   0.996394  0.942529   \n",
      "Precipitation_accumulated     0.372359   0.610212   0.543066  0.891837   \n",
      "Humidity                     14.595027   3.820344   2.731555  0.900412   \n",
      "Wind_Speed_kmh                0.631332   0.794564   0.601287  0.532829   \n",
      "Soil_Moisture              2221.821316  47.136200  18.100586  0.961428   \n",
      "Soil_Temperature              0.400582   0.632916   0.462000  0.975191   \n",
      "Wind_Dir_Sin                  0.383380   0.619177   0.498901  0.303118   \n",
      "Wind_Dir_Cos                  0.322291   0.567707   0.455409  0.122635   \n",
      "\n",
      "                                SMAPE  \n",
      "Temperature                 19.394816  \n",
      "Precipitation_accumulated    0.116855  \n",
      "Humidity                     3.261702  \n",
      "Wind_Speed_kmh              60.734000  \n",
      "Soil_Moisture                0.211441  \n",
      "Soil_Temperature             7.581979  \n",
      "Wind_Dir_Sin               100.128606  \n",
      "Wind_Dir_Cos               111.785342  \n",
      "The MAE for this fold was 0.07869614822774502\n",
      "Results of trial 21 saved in optuna_iteration_metrics/trial_21.json\n",
      "Current value: 0.07869614822774502, Current params: {'input_chunk_length': 27, 'output_chunk_length': 1, 'dropout': 0.22632682724298764, 'batch_size': 91, 'lr': 0.002228492817624405, 'weight_decay': 1.0074229438089097e-06, 'hidden_size': 64, 'num_encoder_layers': 3, 'num_decoder_layers': 2, 'temporal_width_past': 2, 'temporal_width_future': 1, 'use_reversible_instance_norm': True, 'loss_fn': 'smoothl1', 'optimizer': 'Adam'}\n",
      "Best value: 0.07572013632775909, Best params: {'input_chunk_length': 27, 'output_chunk_length': 1, 'dropout': 0.22738610933140774, 'batch_size': 93, 'lr': 0.004407799253698987, 'weight_decay': 1.6673460129037854e-06, 'hidden_size': 64, 'num_encoder_layers': 3, 'num_decoder_layers': 2, 'temporal_width_past': 2, 'temporal_width_future': 1, 'use_reversible_instance_norm': True, 'loss_fn': 'smoothl1', 'optimizer': 'Adam'}\n",
      "\n",
      "Starting Trial 22\n",
      "Hyperparameters: {'input_chunk_length': 31, 'output_chunk_length': 3, 'dropout': 0.20128071613978848, 'batch_size': 64, 'lr': 0.0027357599094927233, 'weight_decay': 2.158468046460767e-06, 'hidden_size': 64, 'num_encoder_layers': 3, 'num_decoder_layers': 2, 'temporal_width_past': 2, 'temporal_width_future': 1, 'use_reversible_instance_norm': True, 'loss_fn': 'smoothl1', 'optimizer': 'Adam'}\n",
      "\n",
      "Training the model...\n",
      "Train set: 6647 samples\n",
      "Validation set: 1662 samples\n"
     ]
    },
    {
     "name": "stderr",
     "output_type": "stream",
     "text": [
      "Metric val_loss improved. New best score: 0.016\n",
      "Metric val_loss improved by 0.001 >= min_delta = 0.0005. New best score: 0.015\n",
      "Monitored metric val_loss did not improve in the last 15 records. Best score: 0.015. Signaling Trainer to stop.\n",
      "GPU available: True (cuda), used: True\n",
      "TPU available: False, using: 0 TPU cores\n",
      "HPU available: False, using: 0 HPUs\n",
      "LOCAL_RANK: 0 - CUDA_VISIBLE_DEVICES: [0]\n"
     ]
    },
    {
     "name": "stdout",
     "output_type": "stream",
     "text": [
      "Model loaded from checkpoint for trial 22\n"
     ]
    },
    {
     "name": "stderr",
     "output_type": "stream",
     "text": [
      "/home/eduardo/Documentos/Water-Cycle-Neural-Network/venv/lib/python3.12/site-packages/pytorch_lightning/trainer/connectors/data_connector.py:425: The 'predict_dataloader' does not have many workers which may be a bottleneck. Consider increasing the value of the `num_workers` argument` to `num_workers=11` in the `DataLoader` to improve performance.\n",
      "[I 2025-05-27 20:04:48,267] Trial 22 finished with value: 0.09996805895093903 and parameters: {'input_chunk_length': 31, 'output_chunk_length': 3, 'dropout': 0.20128071613978848, 'batch_size': 64, 'lr': 0.0027357599094927233, 'weight_decay': 2.158468046460767e-06, 'hidden_size': 64, 'num_encoder_layers': 3, 'num_decoder_layers': 2, 'temporal_width_past': 2, 'temporal_width_future': 1, 'use_reversible_instance_norm': True, 'loss_fn': 'smoothl1', 'optimizer': 'Adam'}. Best is trial 10 with value: 0.07572013632775909.\n"
     ]
    },
    {
     "name": "stdout",
     "output_type": "stream",
     "text": [
      "Starting time series verification for consistency...\n",
      "\n",
      "Performance metrics:\n",
      "                                   MSE       RMSE        MAE        R2  \\\n",
      "Temperature                   4.354211   2.086675   1.584662  0.857194   \n",
      "Precipitation_accumulated     0.418139   0.646637   0.550885  0.877411   \n",
      "Humidity                     38.530114   6.207263   4.474272  0.737167   \n",
      "Wind_Speed_kmh                1.120113   1.058354   0.823296  0.168266   \n",
      "Soil_Moisture              3989.250214  63.160512  26.336396  0.929161   \n",
      "Soil_Temperature              1.130535   1.063266   0.797912  0.929771   \n",
      "Wind_Dir_Sin                  0.582850   0.763446   0.635876 -0.058630   \n",
      "Wind_Dir_Cos                  0.393369   0.627191   0.510806 -0.072994   \n",
      "\n",
      "                                SMAPE  \n",
      "Temperature                 28.788114  \n",
      "Precipitation_accumulated    0.118512  \n",
      "Humidity                     5.262315  \n",
      "Wind_Speed_kmh              72.446099  \n",
      "Soil_Moisture                0.308276  \n",
      "Soil_Temperature            12.982387  \n",
      "Wind_Dir_Sin               125.694780  \n",
      "Wind_Dir_Cos               119.182576  \n",
      "The MAE for this fold was 0.09996805895093903\n",
      "Results of trial 22 saved in optuna_iteration_metrics/trial_22.json\n",
      "Current value: 0.09996805895093903, Current params: {'input_chunk_length': 31, 'output_chunk_length': 3, 'dropout': 0.20128071613978848, 'batch_size': 64, 'lr': 0.0027357599094927233, 'weight_decay': 2.158468046460767e-06, 'hidden_size': 64, 'num_encoder_layers': 3, 'num_decoder_layers': 2, 'temporal_width_past': 2, 'temporal_width_future': 1, 'use_reversible_instance_norm': True, 'loss_fn': 'smoothl1', 'optimizer': 'Adam'}\n",
      "Best value: 0.07572013632775909, Best params: {'input_chunk_length': 27, 'output_chunk_length': 1, 'dropout': 0.22738610933140774, 'batch_size': 93, 'lr': 0.004407799253698987, 'weight_decay': 1.6673460129037854e-06, 'hidden_size': 64, 'num_encoder_layers': 3, 'num_decoder_layers': 2, 'temporal_width_past': 2, 'temporal_width_future': 1, 'use_reversible_instance_norm': True, 'loss_fn': 'smoothl1', 'optimizer': 'Adam'}\n",
      "\n",
      "Starting Trial 23\n",
      "Hyperparameters: {'input_chunk_length': 24, 'output_chunk_length': 6, 'dropout': 0.2338174180267004, 'batch_size': 86, 'lr': 0.0008957545046936015, 'weight_decay': 8.353589250660806e-06, 'hidden_size': 64, 'num_encoder_layers': 3, 'num_decoder_layers': 2, 'temporal_width_past': 2, 'temporal_width_future': 2, 'use_reversible_instance_norm': True, 'loss_fn': 'smoothl1', 'optimizer': 'Adam'}\n",
      "\n",
      "Training the model...\n",
      "Train set: 6647 samples\n",
      "Validation set: 1662 samples\n"
     ]
    },
    {
     "name": "stderr",
     "output_type": "stream",
     "text": [
      "GPU available: True (cuda), used: True\n",
      "TPU available: False, using: 0 TPU cores\n",
      "HPU available: False, using: 0 HPUs\n",
      "LOCAL_RANK: 0 - CUDA_VISIBLE_DEVICES: [0]\n",
      "Metric val_loss improved. New best score: 0.019\n",
      "Metric val_loss improved by 0.001 >= min_delta = 0.0005. New best score: 0.018\n",
      "[I 2025-05-27 20:05:10,749] Trial 23 pruned. Trial was pruned at epoch 16.\n",
      "GPU available: True (cuda), used: True\n",
      "TPU available: False, using: 0 TPU cores\n",
      "HPU available: False, using: 0 HPUs\n",
      "LOCAL_RANK: 0 - CUDA_VISIBLE_DEVICES: [0]\n"
     ]
    },
    {
     "name": "stdout",
     "output_type": "stream",
     "text": [
      "Current value: 0.02010635319736832, Current params: {'input_chunk_length': 24, 'output_chunk_length': 6, 'dropout': 0.2338174180267004, 'batch_size': 86, 'lr': 0.0008957545046936015, 'weight_decay': 8.353589250660806e-06, 'hidden_size': 64, 'num_encoder_layers': 3, 'num_decoder_layers': 2, 'temporal_width_past': 2, 'temporal_width_future': 2, 'use_reversible_instance_norm': True, 'loss_fn': 'smoothl1', 'optimizer': 'Adam'}\n",
      "Best value: 0.07572013632775909, Best params: {'input_chunk_length': 27, 'output_chunk_length': 1, 'dropout': 0.22738610933140774, 'batch_size': 93, 'lr': 0.004407799253698987, 'weight_decay': 1.6673460129037854e-06, 'hidden_size': 64, 'num_encoder_layers': 3, 'num_decoder_layers': 2, 'temporal_width_past': 2, 'temporal_width_future': 1, 'use_reversible_instance_norm': True, 'loss_fn': 'smoothl1', 'optimizer': 'Adam'}\n",
      "\n",
      "Starting Trial 24\n",
      "Hyperparameters: {'input_chunk_length': 37, 'output_chunk_length': 3, 'dropout': 0.2542778536254805, 'batch_size': 139, 'lr': 0.004641046991924466, 'weight_decay': 2.803352729300093e-06, 'hidden_size': 64, 'num_encoder_layers': 2, 'num_decoder_layers': 3, 'temporal_width_past': 3, 'temporal_width_future': 1, 'use_reversible_instance_norm': True, 'loss_fn': 'smoothl1', 'optimizer': 'Adam'}\n",
      "\n",
      "Training the model...\n",
      "Train set: 6647 samples\n",
      "Validation set: 1662 samples\n"
     ]
    },
    {
     "name": "stderr",
     "output_type": "stream",
     "text": [
      "Metric val_loss improved. New best score: 0.016\n",
      "Metric val_loss improved by 0.001 >= min_delta = 0.0005. New best score: 0.015\n",
      "[I 2025-05-27 20:05:31,149] Trial 24 pruned. Trial was pruned at epoch 16.\n",
      "GPU available: True (cuda), used: True\n",
      "TPU available: False, using: 0 TPU cores\n",
      "HPU available: False, using: 0 HPUs\n",
      "LOCAL_RANK: 0 - CUDA_VISIBLE_DEVICES: [0]\n"
     ]
    },
    {
     "name": "stdout",
     "output_type": "stream",
     "text": [
      "Current value: 0.01980715807959273, Current params: {'input_chunk_length': 37, 'output_chunk_length': 3, 'dropout': 0.2542778536254805, 'batch_size': 139, 'lr': 0.004641046991924466, 'weight_decay': 2.803352729300093e-06, 'hidden_size': 64, 'num_encoder_layers': 2, 'num_decoder_layers': 3, 'temporal_width_past': 3, 'temporal_width_future': 1, 'use_reversible_instance_norm': True, 'loss_fn': 'smoothl1', 'optimizer': 'Adam'}\n",
      "Best value: 0.07572013632775909, Best params: {'input_chunk_length': 27, 'output_chunk_length': 1, 'dropout': 0.22738610933140774, 'batch_size': 93, 'lr': 0.004407799253698987, 'weight_decay': 1.6673460129037854e-06, 'hidden_size': 64, 'num_encoder_layers': 3, 'num_decoder_layers': 2, 'temporal_width_past': 2, 'temporal_width_future': 1, 'use_reversible_instance_norm': True, 'loss_fn': 'smoothl1', 'optimizer': 'Adam'}\n",
      "\n",
      "Starting Trial 25\n",
      "Hyperparameters: {'input_chunk_length': 51, 'output_chunk_length': 1, 'dropout': 0.1984136632655537, 'batch_size': 104, 'lr': 0.0002091724894919776, 'weight_decay': 1.959798072415481e-06, 'hidden_size': 64, 'num_encoder_layers': 3, 'num_decoder_layers': 2, 'temporal_width_past': 1, 'temporal_width_future': 2, 'use_reversible_instance_norm': True, 'loss_fn': 'smoothl1', 'optimizer': 'Adam'}\n",
      "\n",
      "Training the model...\n",
      "Train set: 6647 samples\n",
      "Validation set: 1662 samples\n"
     ]
    },
    {
     "name": "stderr",
     "output_type": "stream",
     "text": [
      "Metric val_loss improved. New best score: 0.018\n",
      "Metric val_loss improved by 0.002 >= min_delta = 0.0005. New best score: 0.016\n",
      "Metric val_loss improved by 0.001 >= min_delta = 0.0005. New best score: 0.015\n",
      "Metric val_loss improved by 0.001 >= min_delta = 0.0005. New best score: 0.014\n",
      "Metric val_loss improved by 0.001 >= min_delta = 0.0005. New best score: 0.014\n",
      "Monitored metric val_loss did not improve in the last 15 records. Best score: 0.014. Signaling Trainer to stop.\n",
      "GPU available: True (cuda), used: True\n",
      "TPU available: False, using: 0 TPU cores\n",
      "HPU available: False, using: 0 HPUs\n",
      "LOCAL_RANK: 0 - CUDA_VISIBLE_DEVICES: [0]\n"
     ]
    },
    {
     "name": "stdout",
     "output_type": "stream",
     "text": [
      "Model loaded from checkpoint for trial 25\n"
     ]
    },
    {
     "name": "stderr",
     "output_type": "stream",
     "text": [
      "/home/eduardo/Documentos/Water-Cycle-Neural-Network/venv/lib/python3.12/site-packages/pytorch_lightning/trainer/connectors/data_connector.py:425: The 'predict_dataloader' does not have many workers which may be a bottleneck. Consider increasing the value of the `num_workers` argument` to `num_workers=11` in the `DataLoader` to improve performance.\n",
      "[I 2025-05-27 20:07:41,099] Trial 25 finished with value: 0.08724337632803594 and parameters: {'input_chunk_length': 51, 'output_chunk_length': 1, 'dropout': 0.1984136632655537, 'batch_size': 104, 'lr': 0.0002091724894919776, 'weight_decay': 1.959798072415481e-06, 'hidden_size': 64, 'num_encoder_layers': 3, 'num_decoder_layers': 2, 'temporal_width_past': 1, 'temporal_width_future': 2, 'use_reversible_instance_norm': True, 'loss_fn': 'smoothl1', 'optimizer': 'Adam'}. Best is trial 10 with value: 0.07572013632775909.\n",
      "GPU available: True (cuda), used: True\n",
      "TPU available: False, using: 0 TPU cores\n",
      "HPU available: False, using: 0 HPUs\n",
      "LOCAL_RANK: 0 - CUDA_VISIBLE_DEVICES: [0]\n"
     ]
    },
    {
     "name": "stdout",
     "output_type": "stream",
     "text": [
      "Starting time series verification for consistency...\n",
      "\n",
      "Performance metrics:\n",
      "                                   MSE       RMSE        MAE        R2  \\\n",
      "Temperature                   2.611813   1.616110   1.254119  0.914245   \n",
      "Precipitation_accumulated     0.474417   0.688780   0.569915  0.856846   \n",
      "Humidity                     23.123352   4.808675   3.543684  0.842262   \n",
      "Wind_Speed_kmh                0.968488   0.984118   0.751782  0.279957   \n",
      "Soil_Moisture              3956.274993  62.898927  27.448435  0.924546   \n",
      "Soil_Temperature              0.703067   0.838491   0.639400  0.956261   \n",
      "Wind_Dir_Sin                  0.419895   0.647993   0.530966  0.237996   \n",
      "Wind_Dir_Cos                  0.341920   0.584739   0.476177  0.067615   \n",
      "\n",
      "                                SMAPE  \n",
      "Temperature                 24.855588  \n",
      "Precipitation_accumulated    0.122597  \n",
      "Humidity                     4.209872  \n",
      "Wind_Speed_kmh              68.700363  \n",
      "Soil_Moisture                0.321406  \n",
      "Soil_Temperature            11.162749  \n",
      "Wind_Dir_Sin               106.968338  \n",
      "Wind_Dir_Cos               117.463651  \n",
      "The MAE for this fold was 0.08724337632803594\n",
      "Results of trial 25 saved in optuna_iteration_metrics/trial_25.json\n",
      "Current value: 0.08724337632803594, Current params: {'input_chunk_length': 51, 'output_chunk_length': 1, 'dropout': 0.1984136632655537, 'batch_size': 104, 'lr': 0.0002091724894919776, 'weight_decay': 1.959798072415481e-06, 'hidden_size': 64, 'num_encoder_layers': 3, 'num_decoder_layers': 2, 'temporal_width_past': 1, 'temporal_width_future': 2, 'use_reversible_instance_norm': True, 'loss_fn': 'smoothl1', 'optimizer': 'Adam'}\n",
      "Best value: 0.07572013632775909, Best params: {'input_chunk_length': 27, 'output_chunk_length': 1, 'dropout': 0.22738610933140774, 'batch_size': 93, 'lr': 0.004407799253698987, 'weight_decay': 1.6673460129037854e-06, 'hidden_size': 64, 'num_encoder_layers': 3, 'num_decoder_layers': 2, 'temporal_width_past': 2, 'temporal_width_future': 1, 'use_reversible_instance_norm': True, 'loss_fn': 'smoothl1', 'optimizer': 'Adam'}\n",
      "\n",
      "Starting Trial 26\n",
      "Hyperparameters: {'input_chunk_length': 27, 'output_chunk_length': 3, 'dropout': 0.138543933868634, 'batch_size': 180, 'lr': 0.001809387731604789, 'weight_decay': 4.7897481588743545e-06, 'hidden_size': 64, 'num_encoder_layers': 4, 'num_decoder_layers': 1, 'temporal_width_past': 2, 'temporal_width_future': 1, 'use_reversible_instance_norm': False, 'loss_fn': 'smoothl1', 'optimizer': 'RMSprop'}\n",
      "\n",
      "Training the model...\n",
      "Train set: 6647 samples\n",
      "Validation set: 1662 samples\n"
     ]
    },
    {
     "name": "stderr",
     "output_type": "stream",
     "text": [
      "[I 2025-05-27 20:07:42,709] Trial 26 pruned. Trial was pruned at epoch 0.\n",
      "GPU available: True (cuda), used: True\n",
      "TPU available: False, using: 0 TPU cores\n",
      "HPU available: False, using: 0 HPUs\n",
      "LOCAL_RANK: 0 - CUDA_VISIBLE_DEVICES: [0]\n"
     ]
    },
    {
     "name": "stdout",
     "output_type": "stream",
     "text": [
      "Current value: 0.022843845734419894, Current params: {'input_chunk_length': 27, 'output_chunk_length': 3, 'dropout': 0.138543933868634, 'batch_size': 180, 'lr': 0.001809387731604789, 'weight_decay': 4.7897481588743545e-06, 'hidden_size': 64, 'num_encoder_layers': 4, 'num_decoder_layers': 1, 'temporal_width_past': 2, 'temporal_width_future': 1, 'use_reversible_instance_norm': False, 'loss_fn': 'smoothl1', 'optimizer': 'RMSprop'}\n",
      "Best value: 0.07572013632775909, Best params: {'input_chunk_length': 27, 'output_chunk_length': 1, 'dropout': 0.22738610933140774, 'batch_size': 93, 'lr': 0.004407799253698987, 'weight_decay': 1.6673460129037854e-06, 'hidden_size': 64, 'num_encoder_layers': 3, 'num_decoder_layers': 2, 'temporal_width_past': 2, 'temporal_width_future': 1, 'use_reversible_instance_norm': True, 'loss_fn': 'smoothl1', 'optimizer': 'Adam'}\n",
      "\n",
      "Starting Trial 27\n",
      "Hyperparameters: {'input_chunk_length': 41, 'output_chunk_length': 10, 'dropout': 0.2998743633432799, 'batch_size': 78, 'lr': 0.0006532313851796062, 'weight_decay': 1.1529245714891292e-05, 'hidden_size': 64, 'num_encoder_layers': 3, 'num_decoder_layers': 2, 'temporal_width_past': 1, 'temporal_width_future': 3, 'use_reversible_instance_norm': True, 'loss_fn': 'smoothl1', 'optimizer': 'SGD'}\n",
      "\n",
      "Training the model...\n",
      "Train set: 6647 samples\n",
      "Validation set: 1662 samples\n"
     ]
    },
    {
     "name": "stderr",
     "output_type": "stream",
     "text": [
      "[I 2025-05-27 20:07:44,805] Trial 27 pruned. Trial was pruned at epoch 0.\n",
      "GPU available: True (cuda), used: True\n",
      "TPU available: False, using: 0 TPU cores\n",
      "HPU available: False, using: 0 HPUs\n",
      "LOCAL_RANK: 0 - CUDA_VISIBLE_DEVICES: [0]\n"
     ]
    },
    {
     "name": "stdout",
     "output_type": "stream",
     "text": [
      "Current value: 0.02606675406127026, Current params: {'input_chunk_length': 41, 'output_chunk_length': 10, 'dropout': 0.2998743633432799, 'batch_size': 78, 'lr': 0.0006532313851796062, 'weight_decay': 1.1529245714891292e-05, 'hidden_size': 64, 'num_encoder_layers': 3, 'num_decoder_layers': 2, 'temporal_width_past': 1, 'temporal_width_future': 3, 'use_reversible_instance_norm': True, 'loss_fn': 'smoothl1', 'optimizer': 'SGD'}\n",
      "Best value: 0.07572013632775909, Best params: {'input_chunk_length': 27, 'output_chunk_length': 1, 'dropout': 0.22738610933140774, 'batch_size': 93, 'lr': 0.004407799253698987, 'weight_decay': 1.6673460129037854e-06, 'hidden_size': 64, 'num_encoder_layers': 3, 'num_decoder_layers': 2, 'temporal_width_past': 2, 'temporal_width_future': 1, 'use_reversible_instance_norm': True, 'loss_fn': 'smoothl1', 'optimizer': 'Adam'}\n",
      "\n",
      "Starting Trial 28\n",
      "Hyperparameters: {'input_chunk_length': 34, 'output_chunk_length': 6, 'dropout': 0.27583460705122853, 'batch_size': 105, 'lr': 0.0026500729246726478, 'weight_decay': 4.5560081837868775e-05, 'hidden_size': 128, 'num_encoder_layers': 2, 'num_decoder_layers': 3, 'temporal_width_past': 3, 'temporal_width_future': 2, 'use_reversible_instance_norm': True, 'loss_fn': 'mae', 'optimizer': 'Adam'}\n",
      "\n",
      "Training the model...\n",
      "Train set: 6647 samples\n",
      "Validation set: 1662 samples\n"
     ]
    },
    {
     "name": "stderr",
     "output_type": "stream",
     "text": [
      "[I 2025-05-27 20:07:46,797] Trial 28 pruned. Trial was pruned at epoch 0.\n",
      "GPU available: True (cuda), used: True\n",
      "TPU available: False, using: 0 TPU cores\n",
      "HPU available: False, using: 0 HPUs\n",
      "LOCAL_RANK: 0 - CUDA_VISIBLE_DEVICES: [0]\n"
     ]
    },
    {
     "name": "stdout",
     "output_type": "stream",
     "text": [
      "Current value: 0.1038446129403992, Current params: {'input_chunk_length': 34, 'output_chunk_length': 6, 'dropout': 0.27583460705122853, 'batch_size': 105, 'lr': 0.0026500729246726478, 'weight_decay': 4.5560081837868775e-05, 'hidden_size': 128, 'num_encoder_layers': 2, 'num_decoder_layers': 3, 'temporal_width_past': 3, 'temporal_width_future': 2, 'use_reversible_instance_norm': True, 'loss_fn': 'mae', 'optimizer': 'Adam'}\n",
      "Best value: 0.07572013632775909, Best params: {'input_chunk_length': 27, 'output_chunk_length': 1, 'dropout': 0.22738610933140774, 'batch_size': 93, 'lr': 0.004407799253698987, 'weight_decay': 1.6673460129037854e-06, 'hidden_size': 64, 'num_encoder_layers': 3, 'num_decoder_layers': 2, 'temporal_width_past': 2, 'temporal_width_future': 1, 'use_reversible_instance_norm': True, 'loss_fn': 'smoothl1', 'optimizer': 'Adam'}\n",
      "\n",
      "Starting Trial 29\n",
      "Hyperparameters: {'input_chunk_length': 68, 'output_chunk_length': 13, 'dropout': 0.3299191792601111, 'batch_size': 226, 'lr': 0.00024980222962682025, 'weight_decay': 4.140954918055424e-06, 'hidden_size': 64, 'num_encoder_layers': 1, 'num_decoder_layers': 1, 'temporal_width_past': 2, 'temporal_width_future': 1, 'use_reversible_instance_norm': False, 'loss_fn': 'mse', 'optimizer': 'AdamW'}\n",
      "\n",
      "Training the model...\n",
      "Train set: 6647 samples\n",
      "Validation set: 1662 samples\n"
     ]
    },
    {
     "name": "stderr",
     "output_type": "stream",
     "text": [
      "[I 2025-05-27 20:07:48,629] Trial 29 pruned. Trial was pruned at epoch 0.\n"
     ]
    },
    {
     "name": "stdout",
     "output_type": "stream",
     "text": [
      "Current value: 0.09306937014611306, Current params: {'input_chunk_length': 68, 'output_chunk_length': 13, 'dropout': 0.3299191792601111, 'batch_size': 226, 'lr': 0.00024980222962682025, 'weight_decay': 4.140954918055424e-06, 'hidden_size': 64, 'num_encoder_layers': 1, 'num_decoder_layers': 1, 'temporal_width_past': 2, 'temporal_width_future': 1, 'use_reversible_instance_norm': False, 'loss_fn': 'mse', 'optimizer': 'AdamW'}\n",
      "Best value: 0.07572013632775909, Best params: {'input_chunk_length': 27, 'output_chunk_length': 1, 'dropout': 0.22738610933140774, 'batch_size': 93, 'lr': 0.004407799253698987, 'weight_decay': 1.6673460129037854e-06, 'hidden_size': 64, 'num_encoder_layers': 3, 'num_decoder_layers': 2, 'temporal_width_past': 2, 'temporal_width_future': 1, 'use_reversible_instance_norm': True, 'loss_fn': 'smoothl1', 'optimizer': 'Adam'}\n",
      "\n",
      "Starting Trial 30\n",
      "Hyperparameters: {'input_chunk_length': 30, 'output_chunk_length': 2, 'dropout': 0.38600914522735785, 'batch_size': 256, 'lr': 0.0012083096190410817, 'weight_decay': 1.015186225361142e-06, 'hidden_size': 256, 'num_encoder_layers': 4, 'num_decoder_layers': 1, 'temporal_width_past': 1, 'temporal_width_future': 1, 'use_reversible_instance_norm': True, 'loss_fn': 'smoothl1', 'optimizer': 'RMSprop'}\n",
      "\n",
      "Training the model...\n",
      "Train set: 6647 samples\n",
      "Validation set: 1662 samples\n"
     ]
    },
    {
     "name": "stderr",
     "output_type": "stream",
     "text": [
      "GPU available: True (cuda), used: True\n",
      "TPU available: False, using: 0 TPU cores\n",
      "HPU available: False, using: 0 HPUs\n",
      "LOCAL_RANK: 0 - CUDA_VISIBLE_DEVICES: [0]\n",
      "Metric val_loss improved. New best score: 0.018\n",
      "Metric val_loss improved by 0.002 >= min_delta = 0.0005. New best score: 0.016\n",
      "[I 2025-05-27 20:08:42,813] Trial 30 pruned. Trial was pruned at epoch 2.\n",
      "GPU available: True (cuda), used: True\n",
      "TPU available: False, using: 0 TPU cores\n",
      "HPU available: False, using: 0 HPUs\n",
      "LOCAL_RANK: 0 - CUDA_VISIBLE_DEVICES: [0]\n"
     ]
    },
    {
     "name": "stdout",
     "output_type": "stream",
     "text": [
      "Current value: 0.015111997476886636, Current params: {'input_chunk_length': 30, 'output_chunk_length': 2, 'dropout': 0.38600914522735785, 'batch_size': 256, 'lr': 0.0012083096190410817, 'weight_decay': 1.015186225361142e-06, 'hidden_size': 256, 'num_encoder_layers': 4, 'num_decoder_layers': 1, 'temporal_width_past': 1, 'temporal_width_future': 1, 'use_reversible_instance_norm': True, 'loss_fn': 'smoothl1', 'optimizer': 'RMSprop'}\n",
      "Best value: 0.07572013632775909, Best params: {'input_chunk_length': 27, 'output_chunk_length': 1, 'dropout': 0.22738610933140774, 'batch_size': 93, 'lr': 0.004407799253698987, 'weight_decay': 1.6673460129037854e-06, 'hidden_size': 64, 'num_encoder_layers': 3, 'num_decoder_layers': 2, 'temporal_width_past': 2, 'temporal_width_future': 1, 'use_reversible_instance_norm': True, 'loss_fn': 'smoothl1', 'optimizer': 'Adam'}\n",
      "\n",
      "Starting Trial 31\n",
      "Hyperparameters: {'input_chunk_length': 27, 'output_chunk_length': 1, 'dropout': 0.22137762002557085, 'batch_size': 90, 'lr': 0.0021938427211232047, 'weight_decay': 1.6109628455649652e-06, 'hidden_size': 64, 'num_encoder_layers': 3, 'num_decoder_layers': 2, 'temporal_width_past': 2, 'temporal_width_future': 1, 'use_reversible_instance_norm': True, 'loss_fn': 'smoothl1', 'optimizer': 'Adam'}\n",
      "\n",
      "Training the model...\n",
      "Train set: 6647 samples\n",
      "Validation set: 1662 samples\n"
     ]
    },
    {
     "name": "stderr",
     "output_type": "stream",
     "text": [
      "Metric val_loss improved. New best score: 0.013\n",
      "Metric val_loss improved by 0.001 >= min_delta = 0.0005. New best score: 0.012\n",
      "Monitored metric val_loss did not improve in the last 15 records. Best score: 0.012. Signaling Trainer to stop.\n",
      "GPU available: True (cuda), used: True\n",
      "TPU available: False, using: 0 TPU cores\n",
      "HPU available: False, using: 0 HPUs\n",
      "LOCAL_RANK: 0 - CUDA_VISIBLE_DEVICES: [0]\n"
     ]
    },
    {
     "name": "stdout",
     "output_type": "stream",
     "text": [
      "Model loaded from checkpoint for trial 31\n"
     ]
    },
    {
     "name": "stderr",
     "output_type": "stream",
     "text": [
      "/home/eduardo/Documentos/Water-Cycle-Neural-Network/venv/lib/python3.12/site-packages/pytorch_lightning/trainer/connectors/data_connector.py:425: The 'predict_dataloader' does not have many workers which may be a bottleneck. Consider increasing the value of the `num_workers` argument` to `num_workers=11` in the `DataLoader` to improve performance.\n",
      "[I 2025-05-27 20:09:08,773] Trial 31 finished with value: 0.07725570057876899 and parameters: {'input_chunk_length': 27, 'output_chunk_length': 1, 'dropout': 0.22137762002557085, 'batch_size': 90, 'lr': 0.0021938427211232047, 'weight_decay': 1.6109628455649652e-06, 'hidden_size': 64, 'num_encoder_layers': 3, 'num_decoder_layers': 2, 'temporal_width_past': 2, 'temporal_width_future': 1, 'use_reversible_instance_norm': True, 'loss_fn': 'smoothl1', 'optimizer': 'Adam'}. Best is trial 10 with value: 0.07572013632775909.\n",
      "GPU available: True (cuda), used: True\n",
      "TPU available: False, using: 0 TPU cores\n",
      "HPU available: False, using: 0 HPUs\n",
      "LOCAL_RANK: 0 - CUDA_VISIBLE_DEVICES: [0]\n"
     ]
    },
    {
     "name": "stdout",
     "output_type": "stream",
     "text": [
      "Starting time series verification for consistency...\n",
      "\n",
      "Performance metrics:\n",
      "                                   MSE       RMSE        MAE        R2  \\\n",
      "Temperature                   1.673603   1.293678   0.968472  0.945095   \n",
      "Precipitation_accumulated     0.384600   0.620161   0.574534  0.888281   \n",
      "Humidity                     13.191517   3.632013   2.555643  0.909989   \n",
      "Wind_Speed_kmh                0.611832   0.782197   0.585518  0.547258   \n",
      "Soil_Moisture              1854.112825  43.059410  16.615184  0.967812   \n",
      "Soil_Temperature              0.353785   0.594799   0.433263  0.978089   \n",
      "Wind_Dir_Sin                  0.383796   0.619513   0.492122  0.302362   \n",
      "Wind_Dir_Cos                  0.321913   0.567374   0.450617  0.123666   \n",
      "\n",
      "                                SMAPE  \n",
      "Temperature                 18.648572  \n",
      "Precipitation_accumulated    0.123611  \n",
      "Humidity                     3.053174  \n",
      "Wind_Speed_kmh              60.171051  \n",
      "Soil_Moisture                0.194018  \n",
      "Soil_Temperature             7.098564  \n",
      "Wind_Dir_Sin                97.925086  \n",
      "Wind_Dir_Cos               109.071547  \n",
      "The MAE for this fold was 0.07725570057876899\n",
      "Results of trial 31 saved in optuna_iteration_metrics/trial_31.json\n",
      "Current value: 0.07725570057876899, Current params: {'input_chunk_length': 27, 'output_chunk_length': 1, 'dropout': 0.22137762002557085, 'batch_size': 90, 'lr': 0.0021938427211232047, 'weight_decay': 1.6109628455649652e-06, 'hidden_size': 64, 'num_encoder_layers': 3, 'num_decoder_layers': 2, 'temporal_width_past': 2, 'temporal_width_future': 1, 'use_reversible_instance_norm': True, 'loss_fn': 'smoothl1', 'optimizer': 'Adam'}\n",
      "Best value: 0.07572013632775909, Best params: {'input_chunk_length': 27, 'output_chunk_length': 1, 'dropout': 0.22738610933140774, 'batch_size': 93, 'lr': 0.004407799253698987, 'weight_decay': 1.6673460129037854e-06, 'hidden_size': 64, 'num_encoder_layers': 3, 'num_decoder_layers': 2, 'temporal_width_past': 2, 'temporal_width_future': 1, 'use_reversible_instance_norm': True, 'loss_fn': 'smoothl1', 'optimizer': 'Adam'}\n",
      "\n",
      "Starting Trial 32\n",
      "Hyperparameters: {'input_chunk_length': 24, 'output_chunk_length': 4, 'dropout': 0.23710624140665393, 'batch_size': 93, 'lr': 0.0034924451420625256, 'weight_decay': 2.001011159802288e-06, 'hidden_size': 64, 'num_encoder_layers': 3, 'num_decoder_layers': 2, 'temporal_width_past': 3, 'temporal_width_future': 1, 'use_reversible_instance_norm': True, 'loss_fn': 'smoothl1', 'optimizer': 'Adam'}\n",
      "\n",
      "Training the model...\n",
      "Train set: 6647 samples\n",
      "Validation set: 1662 samples\n"
     ]
    },
    {
     "name": "stderr",
     "output_type": "stream",
     "text": [
      "Metric val_loss improved. New best score: 0.016\n",
      "Metric val_loss improved by 0.001 >= min_delta = 0.0005. New best score: 0.016\n",
      "[I 2025-05-27 20:09:13,341] Trial 32 pruned. Trial was pruned at epoch 2.\n",
      "GPU available: True (cuda), used: True\n",
      "TPU available: False, using: 0 TPU cores\n",
      "HPU available: False, using: 0 HPUs\n",
      "LOCAL_RANK: 0 - CUDA_VISIBLE_DEVICES: [0]\n"
     ]
    },
    {
     "name": "stdout",
     "output_type": "stream",
     "text": [
      "Current value: 0.01564615193590852, Current params: {'input_chunk_length': 24, 'output_chunk_length': 4, 'dropout': 0.23710624140665393, 'batch_size': 93, 'lr': 0.0034924451420625256, 'weight_decay': 2.001011159802288e-06, 'hidden_size': 64, 'num_encoder_layers': 3, 'num_decoder_layers': 2, 'temporal_width_past': 3, 'temporal_width_future': 1, 'use_reversible_instance_norm': True, 'loss_fn': 'smoothl1', 'optimizer': 'Adam'}\n",
      "Best value: 0.07572013632775909, Best params: {'input_chunk_length': 27, 'output_chunk_length': 1, 'dropout': 0.22738610933140774, 'batch_size': 93, 'lr': 0.004407799253698987, 'weight_decay': 1.6673460129037854e-06, 'hidden_size': 64, 'num_encoder_layers': 3, 'num_decoder_layers': 2, 'temporal_width_past': 2, 'temporal_width_future': 1, 'use_reversible_instance_norm': True, 'loss_fn': 'smoothl1', 'optimizer': 'Adam'}\n",
      "\n",
      "Starting Trial 33\n",
      "Hyperparameters: {'input_chunk_length': 28, 'output_chunk_length': 2, 'dropout': 0.18832486195001252, 'batch_size': 74, 'lr': 0.001965851694869524, 'weight_decay': 3.964857781765114e-06, 'hidden_size': 64, 'num_encoder_layers': 3, 'num_decoder_layers': 2, 'temporal_width_past': 2, 'temporal_width_future': 1, 'use_reversible_instance_norm': True, 'loss_fn': 'smoothl1', 'optimizer': 'Adam'}\n",
      "\n",
      "Training the model...\n",
      "Train set: 6647 samples\n",
      "Validation set: 1662 samples\n"
     ]
    },
    {
     "name": "stderr",
     "output_type": "stream",
     "text": [
      "Metric val_loss improved. New best score: 0.015\n",
      "Metric val_loss improved by 0.001 >= min_delta = 0.0005. New best score: 0.014\n",
      "Monitored metric val_loss did not improve in the last 15 records. Best score: 0.014. Signaling Trainer to stop.\n",
      "GPU available: True (cuda), used: True\n",
      "TPU available: False, using: 0 TPU cores\n",
      "HPU available: False, using: 0 HPUs\n",
      "LOCAL_RANK: 0 - CUDA_VISIBLE_DEVICES: [0]\n"
     ]
    },
    {
     "name": "stdout",
     "output_type": "stream",
     "text": [
      "Model loaded from checkpoint for trial 33\n"
     ]
    },
    {
     "name": "stderr",
     "output_type": "stream",
     "text": [
      "/home/eduardo/Documentos/Water-Cycle-Neural-Network/venv/lib/python3.12/site-packages/pytorch_lightning/trainer/connectors/data_connector.py:425: The 'predict_dataloader' does not have many workers which may be a bottleneck. Consider increasing the value of the `num_workers` argument` to `num_workers=11` in the `DataLoader` to improve performance.\n",
      "[I 2025-05-27 20:13:50,125] Trial 33 finished with value: 0.09180099838066036 and parameters: {'input_chunk_length': 28, 'output_chunk_length': 2, 'dropout': 0.18832486195001252, 'batch_size': 74, 'lr': 0.001965851694869524, 'weight_decay': 3.964857781765114e-06, 'hidden_size': 64, 'num_encoder_layers': 3, 'num_decoder_layers': 2, 'temporal_width_past': 2, 'temporal_width_future': 1, 'use_reversible_instance_norm': True, 'loss_fn': 'smoothl1', 'optimizer': 'Adam'}. Best is trial 10 with value: 0.07572013632775909.\n"
     ]
    },
    {
     "name": "stdout",
     "output_type": "stream",
     "text": [
      "Starting time series verification for consistency...\n",
      "\n",
      "Performance metrics:\n",
      "                                   MSE       RMSE        MAE        R2  \\\n",
      "Temperature                   2.811259   1.676681   1.257080  0.907667   \n",
      "Precipitation_accumulated     0.860876   0.927834   0.844114  0.749166   \n",
      "Humidity                     24.885569   4.988544   3.524897  0.830170   \n",
      "Wind_Speed_kmh                0.970169   0.984971   0.751103  0.281185   \n",
      "Soil_Moisture              3536.233781  59.466241  23.452608  0.938194   \n",
      "Soil_Temperature              0.644719   0.802944   0.607567  0.960004   \n",
      "Wind_Dir_Sin                  0.504881   0.710549   0.572041  0.082889   \n",
      "Wind_Dir_Cos                  0.395874   0.629185   0.510356 -0.079640   \n",
      "\n",
      "                                SMAPE  \n",
      "Temperature                 22.920976  \n",
      "Precipitation_accumulated    0.181582  \n",
      "Humidity                     4.182983  \n",
      "Wind_Speed_kmh              70.152458  \n",
      "Soil_Moisture                0.274756  \n",
      "Soil_Temperature            10.002907  \n",
      "Wind_Dir_Sin               112.768076  \n",
      "Wind_Dir_Cos               121.692916  \n",
      "The MAE for this fold was 0.09180099838066036\n",
      "Results of trial 33 saved in optuna_iteration_metrics/trial_33.json\n",
      "Current value: 0.09180099838066036, Current params: {'input_chunk_length': 28, 'output_chunk_length': 2, 'dropout': 0.18832486195001252, 'batch_size': 74, 'lr': 0.001965851694869524, 'weight_decay': 3.964857781765114e-06, 'hidden_size': 64, 'num_encoder_layers': 3, 'num_decoder_layers': 2, 'temporal_width_past': 2, 'temporal_width_future': 1, 'use_reversible_instance_norm': True, 'loss_fn': 'smoothl1', 'optimizer': 'Adam'}\n",
      "Best value: 0.07572013632775909, Best params: {'input_chunk_length': 27, 'output_chunk_length': 1, 'dropout': 0.22738610933140774, 'batch_size': 93, 'lr': 0.004407799253698987, 'weight_decay': 1.6673460129037854e-06, 'hidden_size': 64, 'num_encoder_layers': 3, 'num_decoder_layers': 2, 'temporal_width_past': 2, 'temporal_width_future': 1, 'use_reversible_instance_norm': True, 'loss_fn': 'smoothl1', 'optimizer': 'Adam'}\n",
      "\n",
      "Starting Trial 34\n",
      "Hyperparameters: {'input_chunk_length': 32, 'output_chunk_length': 5, 'dropout': 0.29164971417855545, 'batch_size': 116, 'lr': 0.0009878117107582334, 'weight_decay': 1.5631480190812497e-06, 'hidden_size': 64, 'num_encoder_layers': 3, 'num_decoder_layers': 3, 'temporal_width_past': 4, 'temporal_width_future': 2, 'use_reversible_instance_norm': True, 'loss_fn': 'smoothl1', 'optimizer': 'Adam'}\n",
      "\n",
      "Training the model...\n",
      "Train set: 6647 samples\n",
      "Validation set: 1662 samples\n"
     ]
    },
    {
     "name": "stderr",
     "output_type": "stream",
     "text": [
      "GPU available: True (cuda), used: True\n",
      "TPU available: False, using: 0 TPU cores\n",
      "HPU available: False, using: 0 HPUs\n",
      "LOCAL_RANK: 0 - CUDA_VISIBLE_DEVICES: [0]\n",
      "[I 2025-05-27 20:13:51,965] Trial 34 pruned. Trial was pruned at epoch 0.\n"
     ]
    },
    {
     "name": "stdout",
     "output_type": "stream",
     "text": [
      "Current value: 0.018675993704865945, Current params: {'input_chunk_length': 32, 'output_chunk_length': 5, 'dropout': 0.29164971417855545, 'batch_size': 116, 'lr': 0.0009878117107582334, 'weight_decay': 1.5631480190812497e-06, 'hidden_size': 64, 'num_encoder_layers': 3, 'num_decoder_layers': 3, 'temporal_width_past': 4, 'temporal_width_future': 2, 'use_reversible_instance_norm': True, 'loss_fn': 'smoothl1', 'optimizer': 'Adam'}\n",
      "Best value: 0.07572013632775909, Best params: {'input_chunk_length': 27, 'output_chunk_length': 1, 'dropout': 0.22738610933140774, 'batch_size': 93, 'lr': 0.004407799253698987, 'weight_decay': 1.6673460129037854e-06, 'hidden_size': 64, 'num_encoder_layers': 3, 'num_decoder_layers': 2, 'temporal_width_past': 2, 'temporal_width_future': 1, 'use_reversible_instance_norm': True, 'loss_fn': 'smoothl1', 'optimizer': 'Adam'}\n",
      "\n",
      "Starting Trial 35\n",
      "Hyperparameters: {'input_chunk_length': 50, 'output_chunk_length': 2, 'dropout': 0.21414552442271106, 'batch_size': 100, 'lr': 2.956384867827192e-05, 'weight_decay': 0.0006757019133415073, 'hidden_size': 64, 'num_encoder_layers': 3, 'num_decoder_layers': 2, 'temporal_width_past': 1, 'temporal_width_future': 5, 'use_reversible_instance_norm': True, 'loss_fn': 'huber', 'optimizer': 'SGD'}\n",
      "\n",
      "Training the model...\n",
      "Train set: 6647 samples\n",
      "Validation set: 1662 samples\n"
     ]
    },
    {
     "name": "stderr",
     "output_type": "stream",
     "text": [
      "GPU available: True (cuda), used: True\n",
      "TPU available: False, using: 0 TPU cores\n",
      "HPU available: False, using: 0 HPUs\n",
      "LOCAL_RANK: 0 - CUDA_VISIBLE_DEVICES: [0]\n",
      "[I 2025-05-27 20:14:43,909] Trial 35 pruned. Trial was pruned at epoch 0.\n",
      "GPU available: True (cuda), used: True\n",
      "TPU available: False, using: 0 TPU cores\n",
      "HPU available: False, using: 0 HPUs\n",
      "LOCAL_RANK: 0 - CUDA_VISIBLE_DEVICES: [0]\n"
     ]
    },
    {
     "name": "stdout",
     "output_type": "stream",
     "text": [
      "Current value: 0.02441552671903201, Current params: {'input_chunk_length': 50, 'output_chunk_length': 2, 'dropout': 0.21414552442271106, 'batch_size': 100, 'lr': 2.956384867827192e-05, 'weight_decay': 0.0006757019133415073, 'hidden_size': 64, 'num_encoder_layers': 3, 'num_decoder_layers': 2, 'temporal_width_past': 1, 'temporal_width_future': 5, 'use_reversible_instance_norm': True, 'loss_fn': 'huber', 'optimizer': 'SGD'}\n",
      "Best value: 0.07572013632775909, Best params: {'input_chunk_length': 27, 'output_chunk_length': 1, 'dropout': 0.22738610933140774, 'batch_size': 93, 'lr': 0.004407799253698987, 'weight_decay': 1.6673460129037854e-06, 'hidden_size': 64, 'num_encoder_layers': 3, 'num_decoder_layers': 2, 'temporal_width_past': 2, 'temporal_width_future': 1, 'use_reversible_instance_norm': True, 'loss_fn': 'smoothl1', 'optimizer': 'Adam'}\n",
      "\n",
      "Starting Trial 36\n",
      "Hyperparameters: {'input_chunk_length': 58, 'output_chunk_length': 23, 'dropout': 0.24692777972935884, 'batch_size': 140, 'lr': 0.002990567824505323, 'weight_decay': 5.2657972366902e-06, 'hidden_size': 256, 'num_encoder_layers': 2, 'num_decoder_layers': 1, 'temporal_width_past': 2, 'temporal_width_future': 1, 'use_reversible_instance_norm': True, 'loss_fn': 'mse', 'optimizer': 'AdamW'}\n",
      "\n",
      "Training the model...\n",
      "Train set: 6647 samples\n",
      "Validation set: 1662 samples\n"
     ]
    },
    {
     "name": "stderr",
     "output_type": "stream",
     "text": [
      "[I 2025-05-27 20:14:45,925] Trial 36 pruned. Trial was pruned at epoch 0.\n",
      "GPU available: True (cuda), used: True\n",
      "TPU available: False, using: 0 TPU cores\n",
      "HPU available: False, using: 0 HPUs\n",
      "LOCAL_RANK: 0 - CUDA_VISIBLE_DEVICES: [0]\n"
     ]
    },
    {
     "name": "stdout",
     "output_type": "stream",
     "text": [
      "Current value: 0.042584287550050316, Current params: {'input_chunk_length': 58, 'output_chunk_length': 23, 'dropout': 0.24692777972935884, 'batch_size': 140, 'lr': 0.002990567824505323, 'weight_decay': 5.2657972366902e-06, 'hidden_size': 256, 'num_encoder_layers': 2, 'num_decoder_layers': 1, 'temporal_width_past': 2, 'temporal_width_future': 1, 'use_reversible_instance_norm': True, 'loss_fn': 'mse', 'optimizer': 'AdamW'}\n",
      "Best value: 0.07572013632775909, Best params: {'input_chunk_length': 27, 'output_chunk_length': 1, 'dropout': 0.22738610933140774, 'batch_size': 93, 'lr': 0.004407799253698987, 'weight_decay': 1.6673460129037854e-06, 'hidden_size': 64, 'num_encoder_layers': 3, 'num_decoder_layers': 2, 'temporal_width_past': 2, 'temporal_width_future': 1, 'use_reversible_instance_norm': True, 'loss_fn': 'smoothl1', 'optimizer': 'Adam'}\n",
      "\n",
      "Starting Trial 37\n",
      "Hyperparameters: {'input_chunk_length': 27, 'output_chunk_length': 16, 'dropout': 0.10938254772481286, 'batch_size': 198, 'lr': 0.00012519255605509955, 'weight_decay': 9.402970300931944e-06, 'hidden_size': 64, 'num_encoder_layers': 4, 'num_decoder_layers': 3, 'temporal_width_past': 1, 'temporal_width_future': 2, 'use_reversible_instance_norm': False, 'loss_fn': 'huber', 'optimizer': 'Adam'}\n",
      "\n",
      "Training the model...\n",
      "Train set: 6647 samples\n",
      "Validation set: 1662 samples\n"
     ]
    },
    {
     "name": "stderr",
     "output_type": "stream",
     "text": [
      "[I 2025-05-27 20:14:47,733] Trial 37 pruned. Trial was pruned at epoch 0.\n",
      "GPU available: True (cuda), used: True\n",
      "TPU available: False, using: 0 TPU cores\n",
      "HPU available: False, using: 0 HPUs\n",
      "LOCAL_RANK: 0 - CUDA_VISIBLE_DEVICES: [0]\n"
     ]
    },
    {
     "name": "stdout",
     "output_type": "stream",
     "text": [
      "Current value: 0.13803563379424094, Current params: {'input_chunk_length': 27, 'output_chunk_length': 16, 'dropout': 0.10938254772481286, 'batch_size': 198, 'lr': 0.00012519255605509955, 'weight_decay': 9.402970300931944e-06, 'hidden_size': 64, 'num_encoder_layers': 4, 'num_decoder_layers': 3, 'temporal_width_past': 1, 'temporal_width_future': 2, 'use_reversible_instance_norm': False, 'loss_fn': 'huber', 'optimizer': 'Adam'}\n",
      "Best value: 0.07572013632775909, Best params: {'input_chunk_length': 27, 'output_chunk_length': 1, 'dropout': 0.22738610933140774, 'batch_size': 93, 'lr': 0.004407799253698987, 'weight_decay': 1.6673460129037854e-06, 'hidden_size': 64, 'num_encoder_layers': 3, 'num_decoder_layers': 2, 'temporal_width_past': 2, 'temporal_width_future': 1, 'use_reversible_instance_norm': True, 'loss_fn': 'smoothl1', 'optimizer': 'Adam'}\n",
      "\n",
      "Starting Trial 38\n",
      "Hyperparameters: {'input_chunk_length': 35, 'output_chunk_length': 7, 'dropout': 0.14571126853016897, 'batch_size': 173, 'lr': 0.0007468077347932691, 'weight_decay': 2.071209755115871e-05, 'hidden_size': 128, 'num_encoder_layers': 2, 'num_decoder_layers': 2, 'temporal_width_past': 3, 'temporal_width_future': 3, 'use_reversible_instance_norm': True, 'loss_fn': 'smoothl1', 'optimizer': 'SGD'}\n",
      "\n",
      "Training the model...\n",
      "Train set: 6647 samples\n",
      "Validation set: 1662 samples\n"
     ]
    },
    {
     "name": "stderr",
     "output_type": "stream",
     "text": [
      "[I 2025-05-27 20:14:49,725] Trial 38 pruned. Trial was pruned at epoch 0.\n",
      "GPU available: True (cuda), used: True\n",
      "TPU available: False, using: 0 TPU cores\n",
      "HPU available: False, using: 0 HPUs\n",
      "LOCAL_RANK: 0 - CUDA_VISIBLE_DEVICES: [0]\n"
     ]
    },
    {
     "name": "stdout",
     "output_type": "stream",
     "text": [
      "Current value: 0.024577170763684007, Current params: {'input_chunk_length': 35, 'output_chunk_length': 7, 'dropout': 0.14571126853016897, 'batch_size': 173, 'lr': 0.0007468077347932691, 'weight_decay': 2.071209755115871e-05, 'hidden_size': 128, 'num_encoder_layers': 2, 'num_decoder_layers': 2, 'temporal_width_past': 3, 'temporal_width_future': 3, 'use_reversible_instance_norm': True, 'loss_fn': 'smoothl1', 'optimizer': 'SGD'}\n",
      "Best value: 0.07572013632775909, Best params: {'input_chunk_length': 27, 'output_chunk_length': 1, 'dropout': 0.22738610933140774, 'batch_size': 93, 'lr': 0.004407799253698987, 'weight_decay': 1.6673460129037854e-06, 'hidden_size': 64, 'num_encoder_layers': 3, 'num_decoder_layers': 2, 'temporal_width_past': 2, 'temporal_width_future': 1, 'use_reversible_instance_norm': True, 'loss_fn': 'smoothl1', 'optimizer': 'Adam'}\n",
      "\n",
      "Starting Trial 39\n",
      "Hyperparameters: {'input_chunk_length': 72, 'output_chunk_length': 21, 'dropout': 0.49312893836900523, 'batch_size': 212, 'lr': 0.001463544923485463, 'weight_decay': 1.6147818624765522e-06, 'hidden_size': 64, 'num_encoder_layers': 4, 'num_decoder_layers': 3, 'temporal_width_past': 4, 'temporal_width_future': 1, 'use_reversible_instance_norm': False, 'loss_fn': 'smoothl1', 'optimizer': 'AdamW'}\n",
      "\n",
      "Training the model...\n",
      "Train set: 6647 samples\n",
      "Validation set: 1662 samples\n"
     ]
    },
    {
     "name": "stderr",
     "output_type": "stream",
     "text": [
      "[I 2025-05-27 20:14:51,677] Trial 39 pruned. Trial was pruned at epoch 0.\n",
      "GPU available: True (cuda), used: True\n",
      "TPU available: False, using: 0 TPU cores\n",
      "HPU available: False, using: 0 HPUs\n",
      "LOCAL_RANK: 0 - CUDA_VISIBLE_DEVICES: [0]\n"
     ]
    },
    {
     "name": "stdout",
     "output_type": "stream",
     "text": [
      "Current value: 0.02452926010372798, Current params: {'input_chunk_length': 72, 'output_chunk_length': 21, 'dropout': 0.49312893836900523, 'batch_size': 212, 'lr': 0.001463544923485463, 'weight_decay': 1.6147818624765522e-06, 'hidden_size': 64, 'num_encoder_layers': 4, 'num_decoder_layers': 3, 'temporal_width_past': 4, 'temporal_width_future': 1, 'use_reversible_instance_norm': False, 'loss_fn': 'smoothl1', 'optimizer': 'AdamW'}\n",
      "Best value: 0.07572013632775909, Best params: {'input_chunk_length': 27, 'output_chunk_length': 1, 'dropout': 0.22738610933140774, 'batch_size': 93, 'lr': 0.004407799253698987, 'weight_decay': 1.6673460129037854e-06, 'hidden_size': 64, 'num_encoder_layers': 3, 'num_decoder_layers': 2, 'temporal_width_past': 2, 'temporal_width_future': 1, 'use_reversible_instance_norm': True, 'loss_fn': 'smoothl1', 'optimizer': 'Adam'}\n",
      "\n",
      "Starting Trial 40\n",
      "Hyperparameters: {'input_chunk_length': 38, 'output_chunk_length': 10, 'dropout': 0.31756040040897204, 'batch_size': 150, 'lr': 0.004898284541672306, 'weight_decay': 0.004468592894892649, 'hidden_size': 256, 'num_encoder_layers': 3, 'num_decoder_layers': 4, 'temporal_width_past': 2, 'temporal_width_future': 3, 'use_reversible_instance_norm': True, 'loss_fn': 'huber', 'optimizer': 'RMSprop'}\n",
      "\n",
      "Training the model...\n",
      "Train set: 6647 samples\n",
      "Validation set: 1662 samples\n"
     ]
    },
    {
     "name": "stderr",
     "output_type": "stream",
     "text": [
      "[I 2025-05-27 20:14:53,685] Trial 40 pruned. Trial was pruned at epoch 0.\n",
      "GPU available: True (cuda), used: True\n",
      "TPU available: False, using: 0 TPU cores\n",
      "HPU available: False, using: 0 HPUs\n",
      "LOCAL_RANK: 0 - CUDA_VISIBLE_DEVICES: [0]\n"
     ]
    },
    {
     "name": "stdout",
     "output_type": "stream",
     "text": [
      "Current value: 0.01859854868427688, Current params: {'input_chunk_length': 38, 'output_chunk_length': 10, 'dropout': 0.31756040040897204, 'batch_size': 150, 'lr': 0.004898284541672306, 'weight_decay': 0.004468592894892649, 'hidden_size': 256, 'num_encoder_layers': 3, 'num_decoder_layers': 4, 'temporal_width_past': 2, 'temporal_width_future': 3, 'use_reversible_instance_norm': True, 'loss_fn': 'huber', 'optimizer': 'RMSprop'}\n",
      "Best value: 0.07572013632775909, Best params: {'input_chunk_length': 27, 'output_chunk_length': 1, 'dropout': 0.22738610933140774, 'batch_size': 93, 'lr': 0.004407799253698987, 'weight_decay': 1.6673460129037854e-06, 'hidden_size': 64, 'num_encoder_layers': 3, 'num_decoder_layers': 2, 'temporal_width_past': 2, 'temporal_width_future': 1, 'use_reversible_instance_norm': True, 'loss_fn': 'smoothl1', 'optimizer': 'Adam'}\n",
      "\n",
      "Starting Trial 41\n",
      "Hyperparameters: {'input_chunk_length': 26, 'output_chunk_length': 1, 'dropout': 0.218562499429309, 'batch_size': 90, 'lr': 0.002256006691591312, 'weight_decay': 1.1252293885152763e-06, 'hidden_size': 64, 'num_encoder_layers': 3, 'num_decoder_layers': 2, 'temporal_width_past': 2, 'temporal_width_future': 1, 'use_reversible_instance_norm': True, 'loss_fn': 'smoothl1', 'optimizer': 'Adam'}\n",
      "\n",
      "Training the model...\n",
      "Train set: 6647 samples\n",
      "Validation set: 1662 samples\n"
     ]
    },
    {
     "name": "stderr",
     "output_type": "stream",
     "text": [
      "Metric val_loss improved. New best score: 0.014\n",
      "Metric val_loss improved by 0.001 >= min_delta = 0.0005. New best score: 0.012\n",
      "Monitored metric val_loss did not improve in the last 15 records. Best score: 0.012. Signaling Trainer to stop.\n",
      "GPU available: True (cuda), used: True\n",
      "TPU available: False, using: 0 TPU cores\n",
      "HPU available: False, using: 0 HPUs\n",
      "LOCAL_RANK: 0 - CUDA_VISIBLE_DEVICES: [0]\n"
     ]
    },
    {
     "name": "stdout",
     "output_type": "stream",
     "text": [
      "Model loaded from checkpoint for trial 41\n"
     ]
    },
    {
     "name": "stderr",
     "output_type": "stream",
     "text": [
      "/home/eduardo/Documentos/Water-Cycle-Neural-Network/venv/lib/python3.12/site-packages/pytorch_lightning/trainer/connectors/data_connector.py:425: The 'predict_dataloader' does not have many workers which may be a bottleneck. Consider increasing the value of the `num_workers` argument` to `num_workers=11` in the `DataLoader` to improve performance.\n",
      "[I 2025-05-27 20:20:19,555] Trial 41 finished with value: 0.07728038556383093 and parameters: {'input_chunk_length': 26, 'output_chunk_length': 1, 'dropout': 0.218562499429309, 'batch_size': 90, 'lr': 0.002256006691591312, 'weight_decay': 1.1252293885152763e-06, 'hidden_size': 64, 'num_encoder_layers': 3, 'num_decoder_layers': 2, 'temporal_width_past': 2, 'temporal_width_future': 1, 'use_reversible_instance_norm': True, 'loss_fn': 'smoothl1', 'optimizer': 'Adam'}. Best is trial 10 with value: 0.07572013632775909.\n",
      "GPU available: True (cuda), used: True\n",
      "TPU available: False, using: 0 TPU cores\n",
      "HPU available: False, using: 0 HPUs\n",
      "LOCAL_RANK: 0 - CUDA_VISIBLE_DEVICES: [0]\n"
     ]
    },
    {
     "name": "stdout",
     "output_type": "stream",
     "text": [
      "Starting time series verification for consistency...\n",
      "\n",
      "Performance metrics:\n",
      "                                   MSE       RMSE        MAE        R2  \\\n",
      "Temperature                   1.433952   1.197477   0.896761  0.952982   \n",
      "Precipitation_accumulated     0.812677   0.901486   0.839425  0.764292   \n",
      "Humidity                     12.267373   3.502481   2.505010  0.916300   \n",
      "Wind_Speed_kmh                0.585008   0.764858   0.577329  0.566846   \n",
      "Soil_Moisture              2091.093298  45.728474  19.350876  0.963817   \n",
      "Soil_Temperature              0.377307   0.614253   0.475019  0.976650   \n",
      "Wind_Dir_Sin                  0.381705   0.617823   0.496035  0.305925   \n",
      "Wind_Dir_Cos                  0.327069   0.571899   0.450172  0.110438   \n",
      "\n",
      "                                SMAPE  \n",
      "Temperature                 18.209049  \n",
      "Precipitation_accumulated    0.180566  \n",
      "Humidity                     2.985042  \n",
      "Wind_Speed_kmh              59.451914  \n",
      "Soil_Moisture                0.225884  \n",
      "Soil_Temperature             8.193827  \n",
      "Wind_Dir_Sin                99.409370  \n",
      "Wind_Dir_Cos               106.185912  \n",
      "The MAE for this fold was 0.07728038556383093\n",
      "Results of trial 41 saved in optuna_iteration_metrics/trial_41.json\n",
      "Current value: 0.07728038556383093, Current params: {'input_chunk_length': 26, 'output_chunk_length': 1, 'dropout': 0.218562499429309, 'batch_size': 90, 'lr': 0.002256006691591312, 'weight_decay': 1.1252293885152763e-06, 'hidden_size': 64, 'num_encoder_layers': 3, 'num_decoder_layers': 2, 'temporal_width_past': 2, 'temporal_width_future': 1, 'use_reversible_instance_norm': True, 'loss_fn': 'smoothl1', 'optimizer': 'Adam'}\n",
      "Best value: 0.07572013632775909, Best params: {'input_chunk_length': 27, 'output_chunk_length': 1, 'dropout': 0.22738610933140774, 'batch_size': 93, 'lr': 0.004407799253698987, 'weight_decay': 1.6673460129037854e-06, 'hidden_size': 64, 'num_encoder_layers': 3, 'num_decoder_layers': 2, 'temporal_width_past': 2, 'temporal_width_future': 1, 'use_reversible_instance_norm': True, 'loss_fn': 'smoothl1', 'optimizer': 'Adam'}\n",
      "\n",
      "Starting Trial 42\n",
      "Hyperparameters: {'input_chunk_length': 26, 'output_chunk_length': 1, 'dropout': 0.21731726431152848, 'batch_size': 73, 'lr': 0.0024008969123629357, 'weight_decay': 3.003267005462019e-06, 'hidden_size': 64, 'num_encoder_layers': 3, 'num_decoder_layers': 2, 'temporal_width_past': 2, 'temporal_width_future': 1, 'use_reversible_instance_norm': True, 'loss_fn': 'smoothl1', 'optimizer': 'Adam'}\n",
      "\n",
      "Training the model...\n",
      "Train set: 6647 samples\n",
      "Validation set: 1662 samples\n"
     ]
    },
    {
     "name": "stderr",
     "output_type": "stream",
     "text": [
      "Metric val_loss improved. New best score: 0.013\n",
      "Metric val_loss improved by 0.001 >= min_delta = 0.0005. New best score: 0.012\n",
      "Monitored metric val_loss did not improve in the last 15 records. Best score: 0.012. Signaling Trainer to stop.\n",
      "GPU available: True (cuda), used: True\n",
      "TPU available: False, using: 0 TPU cores\n",
      "HPU available: False, using: 0 HPUs\n",
      "LOCAL_RANK: 0 - CUDA_VISIBLE_DEVICES: [0]\n"
     ]
    },
    {
     "name": "stdout",
     "output_type": "stream",
     "text": [
      "Model loaded from checkpoint for trial 42\n"
     ]
    },
    {
     "name": "stderr",
     "output_type": "stream",
     "text": [
      "/home/eduardo/Documentos/Water-Cycle-Neural-Network/venv/lib/python3.12/site-packages/pytorch_lightning/trainer/connectors/data_connector.py:425: The 'predict_dataloader' does not have many workers which may be a bottleneck. Consider increasing the value of the `num_workers` argument` to `num_workers=11` in the `DataLoader` to improve performance.\n",
      "[I 2025-05-27 20:20:45,874] Trial 42 finished with value: 0.07579397272648078 and parameters: {'input_chunk_length': 26, 'output_chunk_length': 1, 'dropout': 0.21731726431152848, 'batch_size': 73, 'lr': 0.0024008969123629357, 'weight_decay': 3.003267005462019e-06, 'hidden_size': 64, 'num_encoder_layers': 3, 'num_decoder_layers': 2, 'temporal_width_past': 2, 'temporal_width_future': 1, 'use_reversible_instance_norm': True, 'loss_fn': 'smoothl1', 'optimizer': 'Adam'}. Best is trial 10 with value: 0.07572013632775909.\n",
      "GPU available: True (cuda), used: True\n",
      "TPU available: False, using: 0 TPU cores\n",
      "HPU available: False, using: 0 HPUs\n",
      "LOCAL_RANK: 0 - CUDA_VISIBLE_DEVICES: [0]\n"
     ]
    },
    {
     "name": "stdout",
     "output_type": "stream",
     "text": [
      "Starting time series verification for consistency...\n",
      "\n",
      "Performance metrics:\n",
      "                                   MSE       RMSE        MAE        R2  \\\n",
      "Temperature                   1.420037   1.191653   0.883951  0.953439   \n",
      "Precipitation_accumulated     0.507550   0.712426   0.683110  0.852790   \n",
      "Humidity                     11.292468   3.360427   2.369319  0.922952   \n",
      "Wind_Speed_kmh                0.585917   0.765452   0.577801  0.566172   \n",
      "Soil_Moisture              1643.158460  40.535891  15.572347  0.971568   \n",
      "Soil_Temperature              0.278201   0.527448   0.401240  0.982783   \n",
      "Wind_Dir_Sin                  0.377677   0.614554   0.484781  0.313249   \n",
      "Wind_Dir_Cos                  0.316832   0.562878   0.446727  0.138280   \n",
      "\n",
      "                                SMAPE  \n",
      "Temperature                 17.313142  \n",
      "Precipitation_accumulated    0.146944  \n",
      "Humidity                     2.832041  \n",
      "Wind_Speed_kmh              58.876786  \n",
      "Soil_Moisture                0.181742  \n",
      "Soil_Temperature             6.758637  \n",
      "Wind_Dir_Sin                95.835242  \n",
      "Wind_Dir_Cos               108.260883  \n",
      "The MAE for this fold was 0.07579397272648078\n",
      "Results of trial 42 saved in optuna_iteration_metrics/trial_42.json\n",
      "Current value: 0.07579397272648078, Current params: {'input_chunk_length': 26, 'output_chunk_length': 1, 'dropout': 0.21731726431152848, 'batch_size': 73, 'lr': 0.0024008969123629357, 'weight_decay': 3.003267005462019e-06, 'hidden_size': 64, 'num_encoder_layers': 3, 'num_decoder_layers': 2, 'temporal_width_past': 2, 'temporal_width_future': 1, 'use_reversible_instance_norm': True, 'loss_fn': 'smoothl1', 'optimizer': 'Adam'}\n",
      "Best value: 0.07572013632775909, Best params: {'input_chunk_length': 27, 'output_chunk_length': 1, 'dropout': 0.22738610933140774, 'batch_size': 93, 'lr': 0.004407799253698987, 'weight_decay': 1.6673460129037854e-06, 'hidden_size': 64, 'num_encoder_layers': 3, 'num_decoder_layers': 2, 'temporal_width_past': 2, 'temporal_width_future': 1, 'use_reversible_instance_norm': True, 'loss_fn': 'smoothl1', 'optimizer': 'Adam'}\n",
      "\n",
      "Starting Trial 43\n",
      "Hyperparameters: {'input_chunk_length': 30, 'output_chunk_length': 4, 'dropout': 0.2798897724856525, 'batch_size': 72, 'lr': 0.001821136071039857, 'weight_decay': 3.509879029555288e-06, 'hidden_size': 64, 'num_encoder_layers': 3, 'num_decoder_layers': 2, 'temporal_width_past': 2, 'temporal_width_future': 1, 'use_reversible_instance_norm': True, 'loss_fn': 'smoothl1', 'optimizer': 'Adam'}\n",
      "\n",
      "Training the model...\n",
      "Train set: 6647 samples\n",
      "Validation set: 1662 samples\n"
     ]
    },
    {
     "name": "stderr",
     "output_type": "stream",
     "text": [
      "[I 2025-05-27 20:20:47,909] Trial 43 pruned. Trial was pruned at epoch 0.\n",
      "GPU available: True (cuda), used: True\n",
      "TPU available: False, using: 0 TPU cores\n",
      "HPU available: False, using: 0 HPUs\n",
      "LOCAL_RANK: 0 - CUDA_VISIBLE_DEVICES: [0]\n"
     ]
    },
    {
     "name": "stdout",
     "output_type": "stream",
     "text": [
      "Current value: 0.01675286971631761, Current params: {'input_chunk_length': 30, 'output_chunk_length': 4, 'dropout': 0.2798897724856525, 'batch_size': 72, 'lr': 0.001821136071039857, 'weight_decay': 3.509879029555288e-06, 'hidden_size': 64, 'num_encoder_layers': 3, 'num_decoder_layers': 2, 'temporal_width_past': 2, 'temporal_width_future': 1, 'use_reversible_instance_norm': True, 'loss_fn': 'smoothl1', 'optimizer': 'Adam'}\n",
      "Best value: 0.07572013632775909, Best params: {'input_chunk_length': 27, 'output_chunk_length': 1, 'dropout': 0.22738610933140774, 'batch_size': 93, 'lr': 0.004407799253698987, 'weight_decay': 1.6673460129037854e-06, 'hidden_size': 64, 'num_encoder_layers': 3, 'num_decoder_layers': 2, 'temporal_width_past': 2, 'temporal_width_future': 1, 'use_reversible_instance_norm': True, 'loss_fn': 'smoothl1', 'optimizer': 'Adam'}\n",
      "\n",
      "Starting Trial 44\n",
      "Hyperparameters: {'input_chunk_length': 27, 'output_chunk_length': 2, 'dropout': 0.18604597648654125, 'batch_size': 94, 'lr': 0.00037397636260616714, 'weight_decay': 2.599332440877752e-06, 'hidden_size': 64, 'num_encoder_layers': 3, 'num_decoder_layers': 2, 'temporal_width_past': 3, 'temporal_width_future': 1, 'use_reversible_instance_norm': True, 'loss_fn': 'mse', 'optimizer': 'Adam'}\n",
      "\n",
      "Training the model...\n",
      "Train set: 6647 samples\n",
      "Validation set: 1662 samples\n"
     ]
    },
    {
     "name": "stderr",
     "output_type": "stream",
     "text": [
      "[I 2025-05-27 20:20:50,141] Trial 44 pruned. Trial was pruned at epoch 0.\n",
      "GPU available: True (cuda), used: True\n",
      "TPU available: False, using: 0 TPU cores\n",
      "HPU available: False, using: 0 HPUs\n",
      "LOCAL_RANK: 0 - CUDA_VISIBLE_DEVICES: [0]\n"
     ]
    },
    {
     "name": "stdout",
     "output_type": "stream",
     "text": [
      "Current value: 0.036461532553339275, Current params: {'input_chunk_length': 27, 'output_chunk_length': 2, 'dropout': 0.18604597648654125, 'batch_size': 94, 'lr': 0.00037397636260616714, 'weight_decay': 2.599332440877752e-06, 'hidden_size': 64, 'num_encoder_layers': 3, 'num_decoder_layers': 2, 'temporal_width_past': 3, 'temporal_width_future': 1, 'use_reversible_instance_norm': True, 'loss_fn': 'mse', 'optimizer': 'Adam'}\n",
      "Best value: 0.07572013632775909, Best params: {'input_chunk_length': 27, 'output_chunk_length': 1, 'dropout': 0.22738610933140774, 'batch_size': 93, 'lr': 0.004407799253698987, 'weight_decay': 1.6673460129037854e-06, 'hidden_size': 64, 'num_encoder_layers': 3, 'num_decoder_layers': 2, 'temporal_width_past': 2, 'temporal_width_future': 1, 'use_reversible_instance_norm': True, 'loss_fn': 'smoothl1', 'optimizer': 'Adam'}\n",
      "\n",
      "Starting Trial 45\n",
      "Hyperparameters: {'input_chunk_length': 32, 'output_chunk_length': 1, 'dropout': 0.21881523553377513, 'batch_size': 235, 'lr': 0.003386291567829172, 'weight_decay': 1.6200470474600135e-06, 'hidden_size': 64, 'num_encoder_layers': 3, 'num_decoder_layers': 1, 'temporal_width_past': 1, 'temporal_width_future': 2, 'use_reversible_instance_norm': True, 'loss_fn': 'smoothl1', 'optimizer': 'Adam'}\n",
      "\n",
      "Training the model...\n",
      "Train set: 6647 samples\n",
      "Validation set: 1662 samples\n"
     ]
    },
    {
     "name": "stderr",
     "output_type": "stream",
     "text": [
      "Metric val_loss improved. New best score: 0.015\n",
      "Metric val_loss improved by 0.002 >= min_delta = 0.0005. New best score: 0.013\n",
      "Metric val_loss improved by 0.001 >= min_delta = 0.0005. New best score: 0.012\n",
      "Monitored metric val_loss did not improve in the last 15 records. Best score: 0.012. Signaling Trainer to stop.\n",
      "GPU available: True (cuda), used: True\n",
      "TPU available: False, using: 0 TPU cores\n",
      "HPU available: False, using: 0 HPUs\n",
      "LOCAL_RANK: 0 - CUDA_VISIBLE_DEVICES: [0]\n"
     ]
    },
    {
     "name": "stdout",
     "output_type": "stream",
     "text": [
      "Model loaded from checkpoint for trial 45\n"
     ]
    },
    {
     "name": "stderr",
     "output_type": "stream",
     "text": [
      "/home/eduardo/Documentos/Water-Cycle-Neural-Network/venv/lib/python3.12/site-packages/pytorch_lightning/trainer/connectors/data_connector.py:425: The 'predict_dataloader' does not have many workers which may be a bottleneck. Consider increasing the value of the `num_workers` argument` to `num_workers=11` in the `DataLoader` to improve performance.\n",
      "[I 2025-05-27 20:22:55,306] Trial 45 finished with value: 0.07981342977281426 and parameters: {'input_chunk_length': 32, 'output_chunk_length': 1, 'dropout': 0.21881523553377513, 'batch_size': 235, 'lr': 0.003386291567829172, 'weight_decay': 1.6200470474600135e-06, 'hidden_size': 64, 'num_encoder_layers': 3, 'num_decoder_layers': 1, 'temporal_width_past': 1, 'temporal_width_future': 2, 'use_reversible_instance_norm': True, 'loss_fn': 'smoothl1', 'optimizer': 'Adam'}. Best is trial 10 with value: 0.07572013632775909.\n",
      "GPU available: True (cuda), used: True\n",
      "TPU available: False, using: 0 TPU cores\n",
      "HPU available: False, using: 0 HPUs\n",
      "LOCAL_RANK: 0 - CUDA_VISIBLE_DEVICES: [0]\n"
     ]
    },
    {
     "name": "stdout",
     "output_type": "stream",
     "text": [
      "Starting time series verification for consistency...\n",
      "\n",
      "Performance metrics:\n",
      "                                   MSE       RMSE        MAE        R2  \\\n",
      "Temperature                   1.893973   1.376217   1.049764  0.937847   \n",
      "Precipitation_accumulated     0.269872   0.519492   0.415349  0.921001   \n",
      "Humidity                     15.950489   3.993806   2.894643  0.891128   \n",
      "Wind_Speed_kmh                0.637882   0.798675   0.596244  0.526674   \n",
      "Soil_Moisture              2231.133793  47.234879  19.787201  0.960549   \n",
      "Soil_Temperature              0.433417   0.658344   0.492631  0.973072   \n",
      "Wind_Dir_Sin                  0.393519   0.627311   0.505541  0.285314   \n",
      "Wind_Dir_Cos                  0.331671   0.575908   0.459897  0.095032   \n",
      "\n",
      "                                SMAPE  \n",
      "Temperature                 20.188495  \n",
      "Precipitation_accumulated    0.089334  \n",
      "Humidity                     3.452712  \n",
      "Wind_Speed_kmh              62.141313  \n",
      "Soil_Moisture                0.230909  \n",
      "Soil_Temperature             7.965809  \n",
      "Wind_Dir_Sin               101.761793  \n",
      "Wind_Dir_Cos               113.456486  \n",
      "The MAE for this fold was 0.07981342977281426\n",
      "Results of trial 45 saved in optuna_iteration_metrics/trial_45.json\n",
      "Current value: 0.07981342977281426, Current params: {'input_chunk_length': 32, 'output_chunk_length': 1, 'dropout': 0.21881523553377513, 'batch_size': 235, 'lr': 0.003386291567829172, 'weight_decay': 1.6200470474600135e-06, 'hidden_size': 64, 'num_encoder_layers': 3, 'num_decoder_layers': 1, 'temporal_width_past': 1, 'temporal_width_future': 2, 'use_reversible_instance_norm': True, 'loss_fn': 'smoothl1', 'optimizer': 'Adam'}\n",
      "Best value: 0.07572013632775909, Best params: {'input_chunk_length': 27, 'output_chunk_length': 1, 'dropout': 0.22738610933140774, 'batch_size': 93, 'lr': 0.004407799253698987, 'weight_decay': 1.6673460129037854e-06, 'hidden_size': 64, 'num_encoder_layers': 3, 'num_decoder_layers': 2, 'temporal_width_past': 2, 'temporal_width_future': 1, 'use_reversible_instance_norm': True, 'loss_fn': 'smoothl1', 'optimizer': 'Adam'}\n",
      "\n",
      "Starting Trial 46\n",
      "Hyperparameters: {'input_chunk_length': 26, 'output_chunk_length': 4, 'dropout': 0.24653869553554728, 'batch_size': 128, 'lr': 0.0012006996055821902, 'weight_decay': 6.552628315329994e-06, 'hidden_size': 64, 'num_encoder_layers': 3, 'num_decoder_layers': 2, 'temporal_width_past': 2, 'temporal_width_future': 1, 'use_reversible_instance_norm': True, 'loss_fn': 'smoothl1', 'optimizer': 'Adam'}\n",
      "\n",
      "Training the model...\n",
      "Train set: 6647 samples\n",
      "Validation set: 1662 samples\n"
     ]
    },
    {
     "name": "stderr",
     "output_type": "stream",
     "text": [
      "[I 2025-05-27 20:22:57,101] Trial 46 pruned. Trial was pruned at epoch 0.\n",
      "GPU available: True (cuda), used: True\n",
      "TPU available: False, using: 0 TPU cores\n",
      "HPU available: False, using: 0 HPUs\n",
      "LOCAL_RANK: 0 - CUDA_VISIBLE_DEVICES: [0]\n"
     ]
    },
    {
     "name": "stdout",
     "output_type": "stream",
     "text": [
      "Current value: 0.017907348695225218, Current params: {'input_chunk_length': 26, 'output_chunk_length': 4, 'dropout': 0.24653869553554728, 'batch_size': 128, 'lr': 0.0012006996055821902, 'weight_decay': 6.552628315329994e-06, 'hidden_size': 64, 'num_encoder_layers': 3, 'num_decoder_layers': 2, 'temporal_width_past': 2, 'temporal_width_future': 1, 'use_reversible_instance_norm': True, 'loss_fn': 'smoothl1', 'optimizer': 'Adam'}\n",
      "Best value: 0.07572013632775909, Best params: {'input_chunk_length': 27, 'output_chunk_length': 1, 'dropout': 0.22738610933140774, 'batch_size': 93, 'lr': 0.004407799253698987, 'weight_decay': 1.6673460129037854e-06, 'hidden_size': 64, 'num_encoder_layers': 3, 'num_decoder_layers': 2, 'temporal_width_past': 2, 'temporal_width_future': 1, 'use_reversible_instance_norm': True, 'loss_fn': 'smoothl1', 'optimizer': 'Adam'}\n",
      "\n",
      "Starting Trial 47\n",
      "Hyperparameters: {'input_chunk_length': 48, 'output_chunk_length': 2, 'dropout': 0.16689227370457763, 'batch_size': 110, 'lr': 6.905865743536796e-05, 'weight_decay': 2.94074309120224e-06, 'hidden_size': 64, 'num_encoder_layers': 2, 'num_decoder_layers': 2, 'temporal_width_past': 3, 'temporal_width_future': 2, 'use_reversible_instance_norm': False, 'loss_fn': 'mae', 'optimizer': 'RMSprop'}\n",
      "\n",
      "Training the model...\n",
      "Train set: 6647 samples\n",
      "Validation set: 1662 samples\n"
     ]
    },
    {
     "name": "stderr",
     "output_type": "stream",
     "text": [
      "[I 2025-05-27 20:22:59,029] Trial 47 pruned. Trial was pruned at epoch 0.\n",
      "GPU available: True (cuda), used: True\n",
      "TPU available: False, using: 0 TPU cores\n",
      "HPU available: False, using: 0 HPUs\n",
      "LOCAL_RANK: 0 - CUDA_VISIBLE_DEVICES: [0]\n"
     ]
    },
    {
     "name": "stdout",
     "output_type": "stream",
     "text": [
      "Current value: 0.2723037094287839, Current params: {'input_chunk_length': 48, 'output_chunk_length': 2, 'dropout': 0.16689227370457763, 'batch_size': 110, 'lr': 6.905865743536796e-05, 'weight_decay': 2.94074309120224e-06, 'hidden_size': 64, 'num_encoder_layers': 2, 'num_decoder_layers': 2, 'temporal_width_past': 3, 'temporal_width_future': 2, 'use_reversible_instance_norm': False, 'loss_fn': 'mae', 'optimizer': 'RMSprop'}\n",
      "Best value: 0.07572013632775909, Best params: {'input_chunk_length': 27, 'output_chunk_length': 1, 'dropout': 0.22738610933140774, 'batch_size': 93, 'lr': 0.004407799253698987, 'weight_decay': 1.6673460129037854e-06, 'hidden_size': 64, 'num_encoder_layers': 3, 'num_decoder_layers': 2, 'temporal_width_past': 2, 'temporal_width_future': 1, 'use_reversible_instance_norm': True, 'loss_fn': 'smoothl1', 'optimizer': 'Adam'}\n",
      "\n",
      "Starting Trial 48\n",
      "Hyperparameters: {'input_chunk_length': 53, 'output_chunk_length': 6, 'dropout': 0.26693808597422714, 'batch_size': 84, 'lr': 0.002278169981754593, 'weight_decay': 0.0002682359357385142, 'hidden_size': 128, 'num_encoder_layers': 3, 'num_decoder_layers': 3, 'temporal_width_past': 1, 'temporal_width_future': 1, 'use_reversible_instance_norm': True, 'loss_fn': 'smoothl1', 'optimizer': 'Adam'}\n",
      "\n",
      "Training the model...\n",
      "Train set: 6647 samples\n",
      "Validation set: 1662 samples\n"
     ]
    },
    {
     "name": "stderr",
     "output_type": "stream",
     "text": [
      "[I 2025-05-27 20:23:01,246] Trial 48 pruned. Trial was pruned at epoch 0.\n",
      "GPU available: True (cuda), used: True\n",
      "TPU available: False, using: 0 TPU cores\n",
      "HPU available: False, using: 0 HPUs\n",
      "LOCAL_RANK: 0 - CUDA_VISIBLE_DEVICES: [0]\n"
     ]
    },
    {
     "name": "stdout",
     "output_type": "stream",
     "text": [
      "Current value: 0.017619483513029145, Current params: {'input_chunk_length': 53, 'output_chunk_length': 6, 'dropout': 0.26693808597422714, 'batch_size': 84, 'lr': 0.002278169981754593, 'weight_decay': 0.0002682359357385142, 'hidden_size': 128, 'num_encoder_layers': 3, 'num_decoder_layers': 3, 'temporal_width_past': 1, 'temporal_width_future': 1, 'use_reversible_instance_norm': True, 'loss_fn': 'smoothl1', 'optimizer': 'Adam'}\n",
      "Best value: 0.07572013632775909, Best params: {'input_chunk_length': 27, 'output_chunk_length': 1, 'dropout': 0.22738610933140774, 'batch_size': 93, 'lr': 0.004407799253698987, 'weight_decay': 1.6673460129037854e-06, 'hidden_size': 64, 'num_encoder_layers': 3, 'num_decoder_layers': 2, 'temporal_width_past': 2, 'temporal_width_future': 1, 'use_reversible_instance_norm': True, 'loss_fn': 'smoothl1', 'optimizer': 'Adam'}\n",
      "\n",
      "Starting Trial 49\n",
      "Hyperparameters: {'input_chunk_length': 41, 'output_chunk_length': 3, 'dropout': 0.20676702470812613, 'batch_size': 74, 'lr': 2.538634175872873e-06, 'weight_decay': 1.5512778723980723e-06, 'hidden_size': 256, 'num_encoder_layers': 3, 'num_decoder_layers': 1, 'temporal_width_past': 2, 'temporal_width_future': 2, 'use_reversible_instance_norm': True, 'loss_fn': 'smoothl1', 'optimizer': 'SGD'}\n",
      "\n",
      "Training the model...\n",
      "Train set: 6647 samples\n",
      "Validation set: 1662 samples\n"
     ]
    },
    {
     "name": "stderr",
     "output_type": "stream",
     "text": [
      "[I 2025-05-27 20:23:03,397] Trial 49 pruned. Trial was pruned at epoch 0.\n",
      "GPU available: True (cuda), used: True\n",
      "TPU available: False, using: 0 TPU cores\n",
      "HPU available: False, using: 0 HPUs\n",
      "LOCAL_RANK: 0 - CUDA_VISIBLE_DEVICES: [0]\n"
     ]
    },
    {
     "name": "stdout",
     "output_type": "stream",
     "text": [
      "Current value: 0.020602654961181084, Current params: {'input_chunk_length': 41, 'output_chunk_length': 3, 'dropout': 0.20676702470812613, 'batch_size': 74, 'lr': 2.538634175872873e-06, 'weight_decay': 1.5512778723980723e-06, 'hidden_size': 256, 'num_encoder_layers': 3, 'num_decoder_layers': 1, 'temporal_width_past': 2, 'temporal_width_future': 2, 'use_reversible_instance_norm': True, 'loss_fn': 'smoothl1', 'optimizer': 'SGD'}\n",
      "Best value: 0.07572013632775909, Best params: {'input_chunk_length': 27, 'output_chunk_length': 1, 'dropout': 0.22738610933140774, 'batch_size': 93, 'lr': 0.004407799253698987, 'weight_decay': 1.6673460129037854e-06, 'hidden_size': 64, 'num_encoder_layers': 3, 'num_decoder_layers': 2, 'temporal_width_past': 2, 'temporal_width_future': 1, 'use_reversible_instance_norm': True, 'loss_fn': 'smoothl1', 'optimizer': 'Adam'}\n",
      "\n",
      "Starting Trial 50\n",
      "Hyperparameters: {'input_chunk_length': 29, 'output_chunk_length': 1, 'dropout': 0.18712791399719414, 'batch_size': 120, 'lr': 0.0004624956814569962, 'weight_decay': 8.224822532047617e-05, 'hidden_size': 64, 'num_encoder_layers': 4, 'num_decoder_layers': 2, 'temporal_width_past': 1, 'temporal_width_future': 1, 'use_reversible_instance_norm': True, 'loss_fn': 'huber', 'optimizer': 'Adam'}\n",
      "\n",
      "Training the model...\n",
      "Train set: 6647 samples\n",
      "Validation set: 1662 samples\n"
     ]
    },
    {
     "name": "stderr",
     "output_type": "stream",
     "text": [
      "[I 2025-05-27 20:23:05,557] Trial 50 pruned. Trial was pruned at epoch 0.\n",
      "GPU available: True (cuda), used: True\n",
      "TPU available: False, using: 0 TPU cores\n",
      "HPU available: False, using: 0 HPUs\n",
      "LOCAL_RANK: 0 - CUDA_VISIBLE_DEVICES: [0]\n"
     ]
    },
    {
     "name": "stdout",
     "output_type": "stream",
     "text": [
      "Current value: 0.018759840973782225, Current params: {'input_chunk_length': 29, 'output_chunk_length': 1, 'dropout': 0.18712791399719414, 'batch_size': 120, 'lr': 0.0004624956814569962, 'weight_decay': 8.224822532047617e-05, 'hidden_size': 64, 'num_encoder_layers': 4, 'num_decoder_layers': 2, 'temporal_width_past': 1, 'temporal_width_future': 1, 'use_reversible_instance_norm': True, 'loss_fn': 'huber', 'optimizer': 'Adam'}\n",
      "Best value: 0.07572013632775909, Best params: {'input_chunk_length': 27, 'output_chunk_length': 1, 'dropout': 0.22738610933140774, 'batch_size': 93, 'lr': 0.004407799253698987, 'weight_decay': 1.6673460129037854e-06, 'hidden_size': 64, 'num_encoder_layers': 3, 'num_decoder_layers': 2, 'temporal_width_past': 2, 'temporal_width_future': 1, 'use_reversible_instance_norm': True, 'loss_fn': 'smoothl1', 'optimizer': 'Adam'}\n",
      "\n",
      "Starting Trial 51\n",
      "Hyperparameters: {'input_chunk_length': 25, 'output_chunk_length': 1, 'dropout': 0.21681024106774108, 'batch_size': 88, 'lr': 0.003388720125598311, 'weight_decay': 1.0874880175491006e-06, 'hidden_size': 64, 'num_encoder_layers': 3, 'num_decoder_layers': 2, 'temporal_width_past': 2, 'temporal_width_future': 1, 'use_reversible_instance_norm': True, 'loss_fn': 'smoothl1', 'optimizer': 'Adam'}\n",
      "\n",
      "Training the model...\n",
      "Train set: 6647 samples\n",
      "Validation set: 1662 samples\n"
     ]
    },
    {
     "name": "stderr",
     "output_type": "stream",
     "text": [
      "Metric val_loss improved. New best score: 0.012\n",
      "Metric val_loss improved by 0.001 >= min_delta = 0.0005. New best score: 0.012\n",
      "Monitored metric val_loss did not improve in the last 15 records. Best score: 0.012. Signaling Trainer to stop.\n",
      "GPU available: True (cuda), used: True\n",
      "TPU available: False, using: 0 TPU cores\n",
      "HPU available: False, using: 0 HPUs\n",
      "LOCAL_RANK: 0 - CUDA_VISIBLE_DEVICES: [0]\n"
     ]
    },
    {
     "name": "stdout",
     "output_type": "stream",
     "text": [
      "Model loaded from checkpoint for trial 51\n"
     ]
    },
    {
     "name": "stderr",
     "output_type": "stream",
     "text": [
      "/home/eduardo/Documentos/Water-Cycle-Neural-Network/venv/lib/python3.12/site-packages/pytorch_lightning/trainer/connectors/data_connector.py:425: The 'predict_dataloader' does not have many workers which may be a bottleneck. Consider increasing the value of the `num_workers` argument` to `num_workers=11` in the `DataLoader` to improve performance.\n",
      "[I 2025-05-27 20:23:30,519] Trial 51 finished with value: 0.07537033374535873 and parameters: {'input_chunk_length': 25, 'output_chunk_length': 1, 'dropout': 0.21681024106774108, 'batch_size': 88, 'lr': 0.003388720125598311, 'weight_decay': 1.0874880175491006e-06, 'hidden_size': 64, 'num_encoder_layers': 3, 'num_decoder_layers': 2, 'temporal_width_past': 2, 'temporal_width_future': 1, 'use_reversible_instance_norm': True, 'loss_fn': 'smoothl1', 'optimizer': 'Adam'}. Best is trial 51 with value: 0.07537033374535873.\n"
     ]
    },
    {
     "name": "stdout",
     "output_type": "stream",
     "text": [
      "Starting time series verification for consistency...\n",
      "\n",
      "Performance metrics:\n",
      "                                   MSE       RMSE        MAE        R2  \\\n",
      "Temperature                   1.599309   1.264638   0.936341  0.947593   \n",
      "Precipitation_accumulated     0.809948   0.899971   0.888714  0.765439   \n",
      "Humidity                     12.147777   3.485366   2.449625  0.917122   \n",
      "Wind_Speed_kmh                0.569709   0.754791   0.562066  0.578100   \n",
      "Soil_Moisture              1448.266305  38.056094  14.532515  0.975017   \n",
      "Soil_Temperature              0.363666   0.603047   0.442067  0.977509   \n",
      "Wind_Dir_Sin                  0.368700   0.607207   0.479862  0.329481   \n",
      "Wind_Dir_Cos                  0.318366   0.564239   0.442310  0.134416   \n",
      "\n",
      "                                SMAPE  \n",
      "Temperature                 18.523178  \n",
      "Precipitation_accumulated    0.191180  \n",
      "Humidity                     2.935791  \n",
      "Wind_Speed_kmh              59.833209  \n",
      "Soil_Moisture                0.169607  \n",
      "Soil_Temperature             7.297276  \n",
      "Wind_Dir_Sin                93.701522  \n",
      "Wind_Dir_Cos               106.128223  \n",
      "The MAE for this fold was 0.07537033374535873\n",
      "Results of trial 51 saved in optuna_iteration_metrics/trial_51.json\n",
      "Current value: 0.07537033374535873, Current params: {'input_chunk_length': 25, 'output_chunk_length': 1, 'dropout': 0.21681024106774108, 'batch_size': 88, 'lr': 0.003388720125598311, 'weight_decay': 1.0874880175491006e-06, 'hidden_size': 64, 'num_encoder_layers': 3, 'num_decoder_layers': 2, 'temporal_width_past': 2, 'temporal_width_future': 1, 'use_reversible_instance_norm': True, 'loss_fn': 'smoothl1', 'optimizer': 'Adam'}\n",
      "Best value: 0.07537033374535873, Best params: {'input_chunk_length': 25, 'output_chunk_length': 1, 'dropout': 0.21681024106774108, 'batch_size': 88, 'lr': 0.003388720125598311, 'weight_decay': 1.0874880175491006e-06, 'hidden_size': 64, 'num_encoder_layers': 3, 'num_decoder_layers': 2, 'temporal_width_past': 2, 'temporal_width_future': 1, 'use_reversible_instance_norm': True, 'loss_fn': 'smoothl1', 'optimizer': 'Adam'}\n",
      "\n",
      "Starting Trial 52\n",
      "Hyperparameters: {'input_chunk_length': 24, 'output_chunk_length': 2, 'dropout': 0.22332935924445826, 'batch_size': 90, 'lr': 0.0036023526991478512, 'weight_decay': 1.073451491183408e-06, 'hidden_size': 64, 'num_encoder_layers': 3, 'num_decoder_layers': 2, 'temporal_width_past': 2, 'temporal_width_future': 1, 'use_reversible_instance_norm': True, 'loss_fn': 'smoothl1', 'optimizer': 'Adam'}\n",
      "\n",
      "Training the model...\n",
      "Train set: 6647 samples\n",
      "Validation set: 1662 samples\n"
     ]
    },
    {
     "name": "stderr",
     "output_type": "stream",
     "text": [
      "GPU available: True (cuda), used: True\n",
      "TPU available: False, using: 0 TPU cores\n",
      "HPU available: False, using: 0 HPUs\n",
      "LOCAL_RANK: 0 - CUDA_VISIBLE_DEVICES: [0]\n",
      "Metric val_loss improved. New best score: 0.014\n",
      "[I 2025-05-27 20:23:33,837] Trial 52 pruned. Trial was pruned at epoch 1.\n",
      "GPU available: True (cuda), used: True\n",
      "TPU available: False, using: 0 TPU cores\n",
      "HPU available: False, using: 0 HPUs\n",
      "LOCAL_RANK: 0 - CUDA_VISIBLE_DEVICES: [0]\n"
     ]
    },
    {
     "name": "stdout",
     "output_type": "stream",
     "text": [
      "Current value: 0.013606892588010516, Current params: {'input_chunk_length': 24, 'output_chunk_length': 2, 'dropout': 0.22332935924445826, 'batch_size': 90, 'lr': 0.0036023526991478512, 'weight_decay': 1.073451491183408e-06, 'hidden_size': 64, 'num_encoder_layers': 3, 'num_decoder_layers': 2, 'temporal_width_past': 2, 'temporal_width_future': 1, 'use_reversible_instance_norm': True, 'loss_fn': 'smoothl1', 'optimizer': 'Adam'}\n",
      "Best value: 0.07537033374535873, Best params: {'input_chunk_length': 25, 'output_chunk_length': 1, 'dropout': 0.21681024106774108, 'batch_size': 88, 'lr': 0.003388720125598311, 'weight_decay': 1.0874880175491006e-06, 'hidden_size': 64, 'num_encoder_layers': 3, 'num_decoder_layers': 2, 'temporal_width_past': 2, 'temporal_width_future': 1, 'use_reversible_instance_norm': True, 'loss_fn': 'smoothl1', 'optimizer': 'Adam'}\n",
      "\n",
      "Starting Trial 53\n",
      "Hyperparameters: {'input_chunk_length': 26, 'output_chunk_length': 4, 'dropout': 0.24521456343572962, 'batch_size': 98, 'lr': 5.9085033285018065e-06, 'weight_decay': 2.1970431070547442e-06, 'hidden_size': 64, 'num_encoder_layers': 3, 'num_decoder_layers': 2, 'temporal_width_past': 2, 'temporal_width_future': 1, 'use_reversible_instance_norm': True, 'loss_fn': 'smoothl1', 'optimizer': 'Adam'}\n",
      "\n",
      "Training the model...\n",
      "Train set: 6647 samples\n",
      "Validation set: 1662 samples\n"
     ]
    },
    {
     "name": "stderr",
     "output_type": "stream",
     "text": [
      "[I 2025-05-27 20:23:35,989] Trial 53 pruned. Trial was pruned at epoch 0.\n",
      "GPU available: True (cuda), used: True\n",
      "TPU available: False, using: 0 TPU cores\n",
      "HPU available: False, using: 0 HPUs\n",
      "LOCAL_RANK: 0 - CUDA_VISIBLE_DEVICES: [0]\n"
     ]
    },
    {
     "name": "stdout",
     "output_type": "stream",
     "text": [
      "Current value: 0.021225798967976703, Current params: {'input_chunk_length': 26, 'output_chunk_length': 4, 'dropout': 0.24521456343572962, 'batch_size': 98, 'lr': 5.9085033285018065e-06, 'weight_decay': 2.1970431070547442e-06, 'hidden_size': 64, 'num_encoder_layers': 3, 'num_decoder_layers': 2, 'temporal_width_past': 2, 'temporal_width_future': 1, 'use_reversible_instance_norm': True, 'loss_fn': 'smoothl1', 'optimizer': 'Adam'}\n",
      "Best value: 0.07537033374535873, Best params: {'input_chunk_length': 25, 'output_chunk_length': 1, 'dropout': 0.21681024106774108, 'batch_size': 88, 'lr': 0.003388720125598311, 'weight_decay': 1.0874880175491006e-06, 'hidden_size': 64, 'num_encoder_layers': 3, 'num_decoder_layers': 2, 'temporal_width_past': 2, 'temporal_width_future': 1, 'use_reversible_instance_norm': True, 'loss_fn': 'smoothl1', 'optimizer': 'Adam'}\n",
      "\n",
      "Starting Trial 54\n",
      "Hyperparameters: {'input_chunk_length': 29, 'output_chunk_length': 1, 'dropout': 0.15408211800963417, 'batch_size': 110, 'lr': 0.00154339829474082, 'weight_decay': 1.3859324762133469e-06, 'hidden_size': 64, 'num_encoder_layers': 3, 'num_decoder_layers': 2, 'temporal_width_past': 4, 'temporal_width_future': 1, 'use_reversible_instance_norm': True, 'loss_fn': 'smoothl1', 'optimizer': 'Adam'}\n",
      "\n",
      "Training the model...\n",
      "Train set: 6647 samples\n",
      "Validation set: 1662 samples\n"
     ]
    },
    {
     "name": "stderr",
     "output_type": "stream",
     "text": [
      "Metric val_loss improved. New best score: 0.015\n",
      "Metric val_loss improved by 0.001 >= min_delta = 0.0005. New best score: 0.013\n",
      "[I 2025-05-27 20:23:40,726] Trial 54 pruned. Trial was pruned at epoch 2.\n",
      "GPU available: True (cuda), used: True\n",
      "TPU available: False, using: 0 TPU cores\n",
      "HPU available: False, using: 0 HPUs\n",
      "LOCAL_RANK: 0 - CUDA_VISIBLE_DEVICES: [0]\n"
     ]
    },
    {
     "name": "stdout",
     "output_type": "stream",
     "text": [
      "Current value: 0.012783579980167888, Current params: {'input_chunk_length': 29, 'output_chunk_length': 1, 'dropout': 0.15408211800963417, 'batch_size': 110, 'lr': 0.00154339829474082, 'weight_decay': 1.3859324762133469e-06, 'hidden_size': 64, 'num_encoder_layers': 3, 'num_decoder_layers': 2, 'temporal_width_past': 4, 'temporal_width_future': 1, 'use_reversible_instance_norm': True, 'loss_fn': 'smoothl1', 'optimizer': 'Adam'}\n",
      "Best value: 0.07537033374535873, Best params: {'input_chunk_length': 25, 'output_chunk_length': 1, 'dropout': 0.21681024106774108, 'batch_size': 88, 'lr': 0.003388720125598311, 'weight_decay': 1.0874880175491006e-06, 'hidden_size': 64, 'num_encoder_layers': 3, 'num_decoder_layers': 2, 'temporal_width_past': 2, 'temporal_width_future': 1, 'use_reversible_instance_norm': True, 'loss_fn': 'smoothl1', 'optimizer': 'Adam'}\n",
      "\n",
      "Starting Trial 55\n",
      "Hyperparameters: {'input_chunk_length': 44, 'output_chunk_length': 3, 'dropout': 0.259419579733206, 'batch_size': 85, 'lr': 0.0025532592875948945, 'weight_decay': 3.2333113815905888e-06, 'hidden_size': 64, 'num_encoder_layers': 3, 'num_decoder_layers': 2, 'temporal_width_past': 2, 'temporal_width_future': 2, 'use_reversible_instance_norm': True, 'loss_fn': 'smoothl1', 'optimizer': 'RMSprop'}\n",
      "\n",
      "Training the model...\n",
      "Train set: 6647 samples\n",
      "Validation set: 1662 samples\n"
     ]
    },
    {
     "name": "stderr",
     "output_type": "stream",
     "text": [
      "Metric val_loss improved. New best score: 0.015\n",
      "[I 2025-05-27 20:23:44,317] Trial 55 pruned. Trial was pruned at epoch 1.\n",
      "GPU available: True (cuda), used: True\n",
      "TPU available: False, using: 0 TPU cores\n",
      "HPU available: False, using: 0 HPUs\n",
      "LOCAL_RANK: 0 - CUDA_VISIBLE_DEVICES: [0]\n"
     ]
    },
    {
     "name": "stdout",
     "output_type": "stream",
     "text": [
      "Current value: 0.014170259254667621, Current params: {'input_chunk_length': 44, 'output_chunk_length': 3, 'dropout': 0.259419579733206, 'batch_size': 85, 'lr': 0.0025532592875948945, 'weight_decay': 3.2333113815905888e-06, 'hidden_size': 64, 'num_encoder_layers': 3, 'num_decoder_layers': 2, 'temporal_width_past': 2, 'temporal_width_future': 2, 'use_reversible_instance_norm': True, 'loss_fn': 'smoothl1', 'optimizer': 'RMSprop'}\n",
      "Best value: 0.07537033374535873, Best params: {'input_chunk_length': 25, 'output_chunk_length': 1, 'dropout': 0.21681024106774108, 'batch_size': 88, 'lr': 0.003388720125598311, 'weight_decay': 1.0874880175491006e-06, 'hidden_size': 64, 'num_encoder_layers': 3, 'num_decoder_layers': 2, 'temporal_width_past': 2, 'temporal_width_future': 1, 'use_reversible_instance_norm': True, 'loss_fn': 'smoothl1', 'optimizer': 'Adam'}\n",
      "\n",
      "Starting Trial 56\n",
      "Hyperparameters: {'input_chunk_length': 31, 'output_chunk_length': 5, 'dropout': 0.23271920005279423, 'batch_size': 130, 'lr': 0.004954169300920724, 'weight_decay': 1.9189341075877783e-06, 'hidden_size': 64, 'num_encoder_layers': 3, 'num_decoder_layers': 3, 'temporal_width_past': 2, 'temporal_width_future': 1, 'use_reversible_instance_norm': True, 'loss_fn': 'smoothl1', 'optimizer': 'Adam'}\n",
      "\n",
      "Training the model...\n",
      "Train set: 6647 samples\n",
      "Validation set: 1662 samples\n"
     ]
    },
    {
     "name": "stderr",
     "output_type": "stream",
     "text": [
      "[I 2025-05-27 20:23:46,494] Trial 56 pruned. Trial was pruned at epoch 0.\n",
      "GPU available: True (cuda), used: True\n",
      "TPU available: False, using: 0 TPU cores\n",
      "HPU available: False, using: 0 HPUs\n",
      "LOCAL_RANK: 0 - CUDA_VISIBLE_DEVICES: [0]\n"
     ]
    },
    {
     "name": "stdout",
     "output_type": "stream",
     "text": [
      "Current value: 0.01730362876159904, Current params: {'input_chunk_length': 31, 'output_chunk_length': 5, 'dropout': 0.23271920005279423, 'batch_size': 130, 'lr': 0.004954169300920724, 'weight_decay': 1.9189341075877783e-06, 'hidden_size': 64, 'num_encoder_layers': 3, 'num_decoder_layers': 3, 'temporal_width_past': 2, 'temporal_width_future': 1, 'use_reversible_instance_norm': True, 'loss_fn': 'smoothl1', 'optimizer': 'Adam'}\n",
      "Best value: 0.07537033374535873, Best params: {'input_chunk_length': 25, 'output_chunk_length': 1, 'dropout': 0.21681024106774108, 'batch_size': 88, 'lr': 0.003388720125598311, 'weight_decay': 1.0874880175491006e-06, 'hidden_size': 64, 'num_encoder_layers': 3, 'num_decoder_layers': 2, 'temporal_width_past': 2, 'temporal_width_future': 1, 'use_reversible_instance_norm': True, 'loss_fn': 'smoothl1', 'optimizer': 'Adam'}\n",
      "\n",
      "Starting Trial 57\n",
      "Hyperparameters: {'input_chunk_length': 33, 'output_chunk_length': 1, 'dropout': 0.1245247036290223, 'batch_size': 67, 'lr': 0.000840075700435264, 'weight_decay': 1.3180919076065407e-06, 'hidden_size': 64, 'num_encoder_layers': 3, 'num_decoder_layers': 1, 'temporal_width_past': 2, 'temporal_width_future': 1, 'use_reversible_instance_norm': True, 'loss_fn': 'mse', 'optimizer': 'AdamW'}\n",
      "\n",
      "Training the model...\n",
      "Train set: 6647 samples\n",
      "Validation set: 1662 samples\n"
     ]
    },
    {
     "name": "stderr",
     "output_type": "stream",
     "text": [
      "[I 2025-05-27 20:23:49,629] Trial 57 pruned. Trial was pruned at epoch 0.\n",
      "GPU available: True (cuda), used: True\n",
      "TPU available: False, using: 0 TPU cores\n",
      "HPU available: False, using: 0 HPUs\n",
      "LOCAL_RANK: 0 - CUDA_VISIBLE_DEVICES: [0]\n"
     ]
    },
    {
     "name": "stdout",
     "output_type": "stream",
     "text": [
      "Current value: 0.02757610441149734, Current params: {'input_chunk_length': 33, 'output_chunk_length': 1, 'dropout': 0.1245247036290223, 'batch_size': 67, 'lr': 0.000840075700435264, 'weight_decay': 1.3180919076065407e-06, 'hidden_size': 64, 'num_encoder_layers': 3, 'num_decoder_layers': 1, 'temporal_width_past': 2, 'temporal_width_future': 1, 'use_reversible_instance_norm': True, 'loss_fn': 'mse', 'optimizer': 'AdamW'}\n",
      "Best value: 0.07537033374535873, Best params: {'input_chunk_length': 25, 'output_chunk_length': 1, 'dropout': 0.21681024106774108, 'batch_size': 88, 'lr': 0.003388720125598311, 'weight_decay': 1.0874880175491006e-06, 'hidden_size': 64, 'num_encoder_layers': 3, 'num_decoder_layers': 2, 'temporal_width_past': 2, 'temporal_width_future': 1, 'use_reversible_instance_norm': True, 'loss_fn': 'smoothl1', 'optimizer': 'Adam'}\n",
      "\n",
      "Starting Trial 58\n",
      "Hyperparameters: {'input_chunk_length': 25, 'output_chunk_length': 2, 'dropout': 0.19926768477431225, 'batch_size': 79, 'lr': 0.003492577783205652, 'weight_decay': 1.0108206507590267e-06, 'hidden_size': 64, 'num_encoder_layers': 3, 'num_decoder_layers': 2, 'temporal_width_past': 3, 'temporal_width_future': 2, 'use_reversible_instance_norm': True, 'loss_fn': 'smoothl1', 'optimizer': 'Adam'}\n",
      "\n",
      "Training the model...\n",
      "Train set: 6647 samples\n",
      "Validation set: 1662 samples\n"
     ]
    },
    {
     "name": "stderr",
     "output_type": "stream",
     "text": [
      "Metric val_loss improved. New best score: 0.014\n",
      "[I 2025-05-27 20:23:56,077] Trial 58 pruned. Trial was pruned at epoch 2.\n",
      "GPU available: True (cuda), used: True\n",
      "TPU available: False, using: 0 TPU cores\n",
      "HPU available: False, using: 0 HPUs\n",
      "LOCAL_RANK: 0 - CUDA_VISIBLE_DEVICES: [0]\n"
     ]
    },
    {
     "name": "stdout",
     "output_type": "stream",
     "text": [
      "Current value: 0.013479500533592334, Current params: {'input_chunk_length': 25, 'output_chunk_length': 2, 'dropout': 0.19926768477431225, 'batch_size': 79, 'lr': 0.003492577783205652, 'weight_decay': 1.0108206507590267e-06, 'hidden_size': 64, 'num_encoder_layers': 3, 'num_decoder_layers': 2, 'temporal_width_past': 3, 'temporal_width_future': 2, 'use_reversible_instance_norm': True, 'loss_fn': 'smoothl1', 'optimizer': 'Adam'}\n",
      "Best value: 0.07537033374535873, Best params: {'input_chunk_length': 25, 'output_chunk_length': 1, 'dropout': 0.21681024106774108, 'batch_size': 88, 'lr': 0.003388720125598311, 'weight_decay': 1.0874880175491006e-06, 'hidden_size': 64, 'num_encoder_layers': 3, 'num_decoder_layers': 2, 'temporal_width_past': 2, 'temporal_width_future': 1, 'use_reversible_instance_norm': True, 'loss_fn': 'smoothl1', 'optimizer': 'Adam'}\n",
      "\n",
      "Starting Trial 59\n",
      "Hyperparameters: {'input_chunk_length': 37, 'output_chunk_length': 8, 'dropout': 0.17688594037180377, 'batch_size': 70, 'lr': 0.0021284792410133815, 'weight_decay': 5.231339431664049e-06, 'hidden_size': 64, 'num_encoder_layers': 2, 'num_decoder_layers': 2, 'temporal_width_past': 1, 'temporal_width_future': 1, 'use_reversible_instance_norm': True, 'loss_fn': 'mae', 'optimizer': 'RMSprop'}\n",
      "\n",
      "Training the model...\n",
      "Train set: 6647 samples\n",
      "Validation set: 1662 samples\n"
     ]
    },
    {
     "name": "stderr",
     "output_type": "stream",
     "text": [
      "[I 2025-05-27 20:23:58,909] Trial 59 pruned. Trial was pruned at epoch 0.\n",
      "GPU available: True (cuda), used: True\n",
      "TPU available: False, using: 0 TPU cores\n",
      "HPU available: False, using: 0 HPUs\n",
      "LOCAL_RANK: 0 - CUDA_VISIBLE_DEVICES: [0]\n"
     ]
    },
    {
     "name": "stdout",
     "output_type": "stream",
     "text": [
      "Current value: 0.10720726865333997, Current params: {'input_chunk_length': 37, 'output_chunk_length': 8, 'dropout': 0.17688594037180377, 'batch_size': 70, 'lr': 0.0021284792410133815, 'weight_decay': 5.231339431664049e-06, 'hidden_size': 64, 'num_encoder_layers': 2, 'num_decoder_layers': 2, 'temporal_width_past': 1, 'temporal_width_future': 1, 'use_reversible_instance_norm': True, 'loss_fn': 'mae', 'optimizer': 'RMSprop'}\n",
      "Best value: 0.07537033374535873, Best params: {'input_chunk_length': 25, 'output_chunk_length': 1, 'dropout': 0.21681024106774108, 'batch_size': 88, 'lr': 0.003388720125598311, 'weight_decay': 1.0874880175491006e-06, 'hidden_size': 64, 'num_encoder_layers': 3, 'num_decoder_layers': 2, 'temporal_width_past': 2, 'temporal_width_future': 1, 'use_reversible_instance_norm': True, 'loss_fn': 'smoothl1', 'optimizer': 'Adam'}\n",
      "\n",
      "Starting Trial 60\n",
      "Hyperparameters: {'input_chunk_length': 55, 'output_chunk_length': 3, 'dropout': 0.2133463040907143, 'batch_size': 161, 'lr': 0.0011589005938166222, 'weight_decay': 2.6131795398906135e-06, 'hidden_size': 128, 'num_encoder_layers': 3, 'num_decoder_layers': 1, 'temporal_width_past': 2, 'temporal_width_future': 4, 'use_reversible_instance_norm': False, 'loss_fn': 'smoothl1', 'optimizer': 'Adam'}\n",
      "\n",
      "Training the model...\n",
      "Train set: 6647 samples\n",
      "Validation set: 1662 samples\n"
     ]
    },
    {
     "name": "stderr",
     "output_type": "stream",
     "text": [
      "[I 2025-05-27 20:24:00,877] Trial 60 pruned. Trial was pruned at epoch 0.\n",
      "GPU available: True (cuda), used: True\n",
      "TPU available: False, using: 0 TPU cores\n",
      "HPU available: False, using: 0 HPUs\n",
      "LOCAL_RANK: 0 - CUDA_VISIBLE_DEVICES: [0]\n"
     ]
    },
    {
     "name": "stdout",
     "output_type": "stream",
     "text": [
      "Current value: 0.025938726390493796, Current params: {'input_chunk_length': 55, 'output_chunk_length': 3, 'dropout': 0.2133463040907143, 'batch_size': 161, 'lr': 0.0011589005938166222, 'weight_decay': 2.6131795398906135e-06, 'hidden_size': 128, 'num_encoder_layers': 3, 'num_decoder_layers': 1, 'temporal_width_past': 2, 'temporal_width_future': 4, 'use_reversible_instance_norm': False, 'loss_fn': 'smoothl1', 'optimizer': 'Adam'}\n",
      "Best value: 0.07537033374535873, Best params: {'input_chunk_length': 25, 'output_chunk_length': 1, 'dropout': 0.21681024106774108, 'batch_size': 88, 'lr': 0.003388720125598311, 'weight_decay': 1.0874880175491006e-06, 'hidden_size': 64, 'num_encoder_layers': 3, 'num_decoder_layers': 2, 'temporal_width_past': 2, 'temporal_width_future': 1, 'use_reversible_instance_norm': True, 'loss_fn': 'smoothl1', 'optimizer': 'Adam'}\n",
      "\n",
      "Starting Trial 61\n",
      "Hyperparameters: {'input_chunk_length': 26, 'output_chunk_length': 1, 'dropout': 0.22465750732962966, 'batch_size': 80, 'lr': 0.0027941466055897797, 'weight_decay': 1.3836483140725586e-06, 'hidden_size': 64, 'num_encoder_layers': 3, 'num_decoder_layers': 2, 'temporal_width_past': 2, 'temporal_width_future': 1, 'use_reversible_instance_norm': True, 'loss_fn': 'smoothl1', 'optimizer': 'Adam'}\n",
      "\n",
      "Training the model...\n",
      "Train set: 6647 samples\n",
      "Validation set: 1662 samples\n"
     ]
    },
    {
     "name": "stderr",
     "output_type": "stream",
     "text": [
      "Metric val_loss improved. New best score: 0.012\n",
      "Metric val_loss improved by 0.001 >= min_delta = 0.0005. New best score: 0.012\n",
      "Exception ignored in: <function _MultiProcessingDataLoaderIter.__del__ at 0x7f187bbdfe20>\n",
      "Traceback (most recent call last):\n",
      "  File \"/home/eduardo/Documentos/Water-Cycle-Neural-Network/venv/lib/python3.12/site-packages/torch/utils/data/dataloader.py\", line 1663, in __del__\n",
      "    self._shutdown_workers()\n",
      "  File \"/home/eduardo/Documentos/Water-Cycle-Neural-Network/venv/lib/python3.12/site-packages/torch/utils/data/dataloader.py\", line 1646, in _shutdown_workers\n",
      "    if w.is_alive():\n",
      "       ^^^^^^^^^^^^\n",
      "  File \"/usr/lib/python3.12/multiprocessing/process.py\", line 160, in is_alive\n",
      "    assert self._parent_pid == os.getpid(), 'can only test a child process'\n",
      "           ^^^^^^^^^^^^^^^^^^^^^^^^^^^^^^^\n",
      "AssertionError: can only test a child process\n",
      "Exception ignored in: <function _MultiProcessingDataLoaderIter.__del__ at 0x7f187bbdfe20>\n",
      "Traceback (most recent call last):\n",
      "  File \"/home/eduardo/Documentos/Water-Cycle-Neural-Network/venv/lib/python3.12/site-packages/torch/utils/data/dataloader.py\", line 1663, in __del__\n",
      "    self._shutdown_workers()\n",
      "  File \"/home/eduardo/Documentos/Water-Cycle-Neural-Network/venv/lib/python3.12/site-packages/torch/utils/data/dataloader.py\", line 1646, in _shutdown_workers\n",
      "    if w.is_alive():\n",
      "       ^^^^^^^^^^^^\n",
      "  File \"/usr/lib/python3.12/multiprocessing/process.py\", line 160, in is_alive\n",
      "    assert self._parent_pid == os.getpid(), 'can only test a child process'\n",
      "           ^^^^^^^^^^^^^^^^^^^^^^^^^^^^^^^\n",
      "AssertionError: can only test a child process\n",
      "Exception ignored in: <function _MultiProcessingDataLoaderIter.__del__ at 0x7f187bbdfe20>\n",
      "Traceback (most recent call last):\n",
      "  File \"/home/eduardo/Documentos/Water-Cycle-Neural-Network/venv/lib/python3.12/site-packages/torch/utils/data/dataloader.py\", line 1663, in __del__\n",
      "    self._shutdown_workers()\n",
      "  File \"/home/eduardo/Documentos/Water-Cycle-Neural-Network/venv/lib/python3.12/site-packages/torch/utils/data/dataloader.py\", line 1646, in _shutdown_workers\n",
      "    if w.is_alive():\n",
      "       ^^^^^^^^^^^^\n",
      "  File \"/usr/lib/python3.12/multiprocessing/process.py\", line 160, in is_alive\n",
      "    assert self._parent_pid == os.getpid(), 'can only test a child process'\n",
      "           ^^^^^^^^^^^^^^^^^^^^^^^^^^^^^^^\n",
      "AssertionError: can only test a child process\n",
      "Exception ignored in: <function _MultiProcessingDataLoaderIter.__del__ at 0x7f187bbdfe20>\n",
      "Traceback (most recent call last):\n",
      "  File \"/home/eduardo/Documentos/Water-Cycle-Neural-Network/venv/lib/python3.12/site-packages/torch/utils/data/dataloader.py\", line 1663, in __del__\n",
      "    self._shutdown_workers()\n",
      "  File \"/home/eduardo/Documentos/Water-Cycle-Neural-Network/venv/lib/python3.12/site-packages/torch/utils/data/dataloader.py\", line 1646, in _shutdown_workers\n",
      "    if w.is_alive():\n",
      "       ^^^^^^^^^^^^\n",
      "  File \"/usr/lib/python3.12/multiprocessing/process.py\", line 160, in is_alive\n",
      "    assert self._parent_pid == os.getpid(), 'can only test a child process'\n",
      "           ^^^^^^^^^^^^^^^^^^^^^^^^^^^^^^^\n",
      "AssertionError: can only test a child process\n",
      "Exception ignored in: <function _MultiProcessingDataLoaderIter.__del__ at 0x7f187bbdfe20>\n",
      "Traceback (most recent call last):\n",
      "  File \"/home/eduardo/Documentos/Water-Cycle-Neural-Network/venv/lib/python3.12/site-packages/torch/utils/data/dataloader.py\", line 1663, in __del__\n",
      "    self._shutdown_workers()\n",
      "  File \"/home/eduardo/Documentos/Water-Cycle-Neural-Network/venv/lib/python3.12/site-packages/torch/utils/data/dataloader.py\", line 1646, in _shutdown_workers\n",
      "    if w.is_alive():\n",
      "       ^^^^^^^^^^^^\n",
      "  File \"/usr/lib/python3.12/multiprocessing/process.py\", line 160, in is_alive\n",
      "    assert self._parent_pid == os.getpid(), 'can only test a child process'\n",
      "           ^^^^^^^^^^^^^^^^^^^^^^^^^^^^^^^\n",
      "AssertionError: can only test a child process\n",
      "Exception ignored in: <function _MultiProcessingDataLoaderIter.__del__ at 0x7f187bbdfe20>\n",
      "Traceback (most recent call last):\n",
      "  File \"/home/eduardo/Documentos/Water-Cycle-Neural-Network/venv/lib/python3.12/site-packages/torch/utils/data/dataloader.py\", line 1663, in __del__\n",
      "    self._shutdown_workers()\n",
      "  File \"/home/eduardo/Documentos/Water-Cycle-Neural-Network/venv/lib/python3.12/site-packages/torch/utils/data/dataloader.py\", line 1646, in _shutdown_workers\n",
      "    if w.is_alive():\n",
      "       ^^^^^^^^^^^^\n",
      "  File \"/usr/lib/python3.12/multiprocessing/process.py\", line 160, in is_alive\n",
      "    assert self._parent_pid == os.getpid(), 'can only test a child process'\n",
      "           ^^^^^^^^^^^^^^^^^^^^^^^^^^^^^^^\n",
      "AssertionError: can only test a child process\n",
      "Exception ignored in: <function _MultiProcessingDataLoaderIter.__del__ at 0x7f187bbdfe20>\n",
      "Traceback (most recent call last):\n",
      "  File \"/home/eduardo/Documentos/Water-Cycle-Neural-Network/venv/lib/python3.12/site-packages/torch/utils/data/dataloader.py\", line 1663, in __del__\n",
      "    self._shutdown_workers()\n",
      "  File \"/home/eduardo/Documentos/Water-Cycle-Neural-Network/venv/lib/python3.12/site-packages/torch/utils/data/dataloader.py\", line 1646, in _shutdown_workers\n",
      "    if w.is_alive():\n",
      "       ^^^^^^^^^^^^\n",
      "  File \"/usr/lib/python3.12/multiprocessing/process.py\", line 160, in is_alive\n",
      "    assert self._parent_pid == os.getpid(), 'can only test a child process'\n",
      "           ^^^^^^^^^^^^^^^^^^^^^^^^^^^^^^^\n",
      "AssertionError: can only test a child process\n",
      "Exception ignored in: <function _MultiProcessingDataLoaderIter.__del__ at 0x7f187bbdfe20>\n",
      "Traceback (most recent call last):\n",
      "  File \"/home/eduardo/Documentos/Water-Cycle-Neural-Network/venv/lib/python3.12/site-packages/torch/utils/data/dataloader.py\", line 1663, in __del__\n",
      "    self._shutdown_workers()\n",
      "  File \"/home/eduardo/Documentos/Water-Cycle-Neural-Network/venv/lib/python3.12/site-packages/torch/utils/data/dataloader.py\", line 1646, in _shutdown_workers\n",
      "    if w.is_alive():\n",
      "       ^^^^^^^^^^^^\n",
      "  File \"/usr/lib/python3.12/multiprocessing/process.py\", line 160, in is_alive\n",
      "    assert self._parent_pid == os.getpid(), 'can only test a child process'\n",
      "           ^^^^^^^^^^^^^^^^^^^^^^^^^^^^^^^\n",
      "AssertionError: can only test a child process\n",
      "Exception ignored in: <function _MultiProcessingDataLoaderIter.__del__ at 0x7f187bbdfe20>\n",
      "Traceback (most recent call last):\n",
      "  File \"/home/eduardo/Documentos/Water-Cycle-Neural-Network/venv/lib/python3.12/site-packages/torch/utils/data/dataloader.py\", line 1663, in __del__\n",
      "    self._shutdown_workers()\n",
      "  File \"/home/eduardo/Documentos/Water-Cycle-Neural-Network/venv/lib/python3.12/site-packages/torch/utils/data/dataloader.py\", line 1646, in _shutdown_workers\n",
      "    if w.is_alive():\n",
      "       ^^^^^^^^^^^^\n",
      "  File \"/usr/lib/python3.12/multiprocessing/process.py\", line 160, in is_alive\n",
      "    assert self._parent_pid == os.getpid(), 'can only test a child process'\n",
      "           ^^^^^^^^^^^^^^^^^^^^^^^^^^^^^^^\n",
      "AssertionError: can only test a child process\n",
      "Exception ignored in: <function _MultiProcessingDataLoaderIter.__del__ at 0x7f187bbdfe20>\n",
      "Traceback (most recent call last):\n",
      "  File \"/home/eduardo/Documentos/Water-Cycle-Neural-Network/venv/lib/python3.12/site-packages/torch/utils/data/dataloader.py\", line 1663, in __del__\n",
      "    self._shutdown_workers()\n",
      "  File \"/home/eduardo/Documentos/Water-Cycle-Neural-Network/venv/lib/python3.12/site-packages/torch/utils/data/dataloader.py\", line 1646, in _shutdown_workers\n",
      "    if w.is_alive():\n",
      "       ^^^^^^^^^^^^\n",
      "  File \"/usr/lib/python3.12/multiprocessing/process.py\", line 160, in is_alive\n",
      "    assert self._parent_pid == os.getpid(), 'can only test a child process'\n",
      "           ^^^^^^^^^^^^^^^^^^^^^^^^^^^^^^^\n",
      "AssertionError: can only test a child process\n",
      "Exception ignored in: <function _MultiProcessingDataLoaderIter.__del__ at 0x7f187bbdfe20>\n",
      "Traceback (most recent call last):\n",
      "  File \"/home/eduardo/Documentos/Water-Cycle-Neural-Network/venv/lib/python3.12/site-packages/torch/utils/data/dataloader.py\", line 1663, in __del__\n",
      "    self._shutdown_workers()\n",
      "  File \"/home/eduardo/Documentos/Water-Cycle-Neural-Network/venv/lib/python3.12/site-packages/torch/utils/data/dataloader.py\", line 1646, in _shutdown_workers\n",
      "    if w.is_alive():\n",
      "       ^^^^^^^^^^^^\n",
      "  File \"/usr/lib/python3.12/multiprocessing/process.py\", line 160, in is_alive\n",
      "    assert self._parent_pid == os.getpid(), 'can only test a child process'\n",
      "           ^^^^^^^^^^^^^^^^^^^^^^^^^^^^^^^\n",
      "AssertionError: can only test a child process\n",
      "Exception ignored in: <function _MultiProcessingDataLoaderIter.__del__ at 0x7f187bbdfe20>\n",
      "Traceback (most recent call last):\n",
      "  File \"/home/eduardo/Documentos/Water-Cycle-Neural-Network/venv/lib/python3.12/site-packages/torch/utils/data/dataloader.py\", line 1663, in __del__\n",
      "    self._shutdown_workers()\n",
      "  File \"/home/eduardo/Documentos/Water-Cycle-Neural-Network/venv/lib/python3.12/site-packages/torch/utils/data/dataloader.py\", line 1646, in _shutdown_workers\n",
      "    if w.is_alive():\n",
      "       ^^^^^^^^^^^^\n",
      "  File \"/usr/lib/python3.12/multiprocessing/process.py\", line 160, in is_alive\n",
      "    assert self._parent_pid == os.getpid(), 'can only test a child process'\n",
      "           ^^^^^^^^^^^^^^^^^^^^^^^^^^^^^^^\n",
      "AssertionError: can only test a child process\n",
      "Exception ignored in: <function _MultiProcessingDataLoaderIter.__del__ at 0x7f187bbdfe20>\n",
      "Traceback (most recent call last):\n",
      "  File \"/home/eduardo/Documentos/Water-Cycle-Neural-Network/venv/lib/python3.12/site-packages/torch/utils/data/dataloader.py\", line 1663, in __del__\n",
      "    self._shutdown_workers()\n",
      "  File \"/home/eduardo/Documentos/Water-Cycle-Neural-Network/venv/lib/python3.12/site-packages/torch/utils/data/dataloader.py\", line 1646, in _shutdown_workers\n",
      "    if w.is_alive():\n",
      "       ^^^^^^^^^^^^\n",
      "  File \"/usr/lib/python3.12/multiprocessing/process.py\", line 160, in is_alive\n",
      "    assert self._parent_pid == os.getpid(), 'can only test a child process'\n",
      "           ^^^^^^^^^^^^^^^^^^^^^^^^^^^^^^^\n",
      "AssertionError: can only test a child process\n",
      "Exception ignored in: <function _MultiProcessingDataLoaderIter.__del__ at 0x7f187bbdfe20>\n",
      "Traceback (most recent call last):\n",
      "  File \"/home/eduardo/Documentos/Water-Cycle-Neural-Network/venv/lib/python3.12/site-packages/torch/utils/data/dataloader.py\", line 1663, in __del__\n",
      "    self._shutdown_workers()\n",
      "  File \"/home/eduardo/Documentos/Water-Cycle-Neural-Network/venv/lib/python3.12/site-packages/torch/utils/data/dataloader.py\", line 1646, in _shutdown_workers\n",
      "    if w.is_alive():\n",
      "       ^^^^^^^^^^^^\n",
      "  File \"/usr/lib/python3.12/multiprocessing/process.py\", line 160, in is_alive\n",
      "    assert self._parent_pid == os.getpid(), 'can only test a child process'\n",
      "           ^^^^^^^^^^^^^^^^^^^^^^^^^^^^^^^\n",
      "AssertionError: can only test a child process\n",
      "Exception ignored in: <function _MultiProcessingDataLoaderIter.__del__ at 0x7f187bbdfe20>\n",
      "Traceback (most recent call last):\n",
      "  File \"/home/eduardo/Documentos/Water-Cycle-Neural-Network/venv/lib/python3.12/site-packages/torch/utils/data/dataloader.py\", line 1663, in __del__\n",
      "    self._shutdown_workers()\n",
      "  File \"/home/eduardo/Documentos/Water-Cycle-Neural-Network/venv/lib/python3.12/site-packages/torch/utils/data/dataloader.py\", line 1646, in _shutdown_workers\n",
      "    if w.is_alive():\n",
      "       ^^^^^^^^^^^^\n",
      "  File \"/usr/lib/python3.12/multiprocessing/process.py\", line 160, in is_alive\n",
      "    assert self._parent_pid == os.getpid(), 'can only test a child process'\n",
      "           ^^^^^^^^^^^^^^^^^^^^^^^^^^^^^^^\n",
      "AssertionError: can only test a child process\n",
      "Exception ignored in: <function _MultiProcessingDataLoaderIter.__del__ at 0x7f187bbdfe20>\n",
      "Traceback (most recent call last):\n",
      "  File \"/home/eduardo/Documentos/Water-Cycle-Neural-Network/venv/lib/python3.12/site-packages/torch/utils/data/dataloader.py\", line 1663, in __del__\n",
      "    self._shutdown_workers()\n",
      "  File \"/home/eduardo/Documentos/Water-Cycle-Neural-Network/venv/lib/python3.12/site-packages/torch/utils/data/dataloader.py\", line 1646, in _shutdown_workers\n",
      "    if w.is_alive():\n",
      "       ^^^^^^^^^^^^\n",
      "  File \"/usr/lib/python3.12/multiprocessing/process.py\", line 160, in is_alive\n",
      "    assert self._parent_pid == os.getpid(), 'can only test a child process'\n",
      "           ^^^^^^^^^^^^^^^^^^^^^^^^^^^^^^^\n",
      "AssertionError: can only test a child process\n",
      "Exception ignored in: <function _MultiProcessingDataLoaderIter.__del__ at 0x7f187bbdfe20>\n",
      "Traceback (most recent call last):\n",
      "  File \"/home/eduardo/Documentos/Water-Cycle-Neural-Network/venv/lib/python3.12/site-packages/torch/utils/data/dataloader.py\", line 1663, in __del__\n",
      "    self._shutdown_workers()\n",
      "  File \"/home/eduardo/Documentos/Water-Cycle-Neural-Network/venv/lib/python3.12/site-packages/torch/utils/data/dataloader.py\", line 1646, in _shutdown_workers\n",
      "    if w.is_alive():\n",
      "       ^^^^^^^^^^^^\n",
      "  File \"/usr/lib/python3.12/multiprocessing/process.py\", line 160, in is_alive\n",
      "    assert self._parent_pid == os.getpid(), 'can only test a child process'\n",
      "           ^^^^^^^^^^^^^^^^^^^^^^^^^^^^^^^\n",
      "AssertionError: can only test a child process\n",
      "Exception ignored in: <function _MultiProcessingDataLoaderIter.__del__ at 0x7f187bbdfe20>\n",
      "Traceback (most recent call last):\n",
      "  File \"/home/eduardo/Documentos/Water-Cycle-Neural-Network/venv/lib/python3.12/site-packages/torch/utils/data/dataloader.py\", line 1663, in __del__\n",
      "    self._shutdown_workers()\n",
      "  File \"/home/eduardo/Documentos/Water-Cycle-Neural-Network/venv/lib/python3.12/site-packages/torch/utils/data/dataloader.py\", line 1646, in _shutdown_workers\n",
      "    if w.is_alive():\n",
      "       ^^^^^^^^^^^^\n",
      "  File \"/usr/lib/python3.12/multiprocessing/process.py\", line 160, in is_alive\n",
      "    assert self._parent_pid == os.getpid(), 'can only test a child process'\n",
      "           ^^^^^^^^^^^^^^^^^^^^^^^^^^^^^^^\n",
      "AssertionError: can only test a child process\n",
      "Exception ignored in: <function _MultiProcessingDataLoaderIter.__del__ at 0x7f187bbdfe20>\n",
      "Traceback (most recent call last):\n",
      "  File \"/home/eduardo/Documentos/Water-Cycle-Neural-Network/venv/lib/python3.12/site-packages/torch/utils/data/dataloader.py\", line 1663, in __del__\n",
      "    self._shutdown_workers()\n",
      "  File \"/home/eduardo/Documentos/Water-Cycle-Neural-Network/venv/lib/python3.12/site-packages/torch/utils/data/dataloader.py\", line 1646, in _shutdown_workers\n",
      "    if w.is_alive():\n",
      "       ^^^^^^^^^^^^\n",
      "  File \"/usr/lib/python3.12/multiprocessing/process.py\", line 160, in is_alive\n",
      "    assert self._parent_pid == os.getpid(), 'can only test a child process'\n",
      "           ^^^^^^^^^^^^^^^^^^^^^^^^^^^^^^^\n",
      "AssertionError: can only test a child process\n",
      "Exception ignored in: <function _MultiProcessingDataLoaderIter.__del__ at 0x7f187bbdfe20>\n",
      "Traceback (most recent call last):\n",
      "  File \"/home/eduardo/Documentos/Water-Cycle-Neural-Network/venv/lib/python3.12/site-packages/torch/utils/data/dataloader.py\", line 1663, in __del__\n",
      "    self._shutdown_workers()\n",
      "  File \"/home/eduardo/Documentos/Water-Cycle-Neural-Network/venv/lib/python3.12/site-packages/torch/utils/data/dataloader.py\", line 1646, in _shutdown_workers\n",
      "    if w.is_alive():\n",
      "       ^^^^^^^^^^^^\n",
      "  File \"/usr/lib/python3.12/multiprocessing/process.py\", line 160, in is_alive\n",
      "    assert self._parent_pid == os.getpid(), 'can only test a child process'\n",
      "           ^^^^^^^^^^^^^^^^^^^^^^^^^^^^^^^\n",
      "AssertionError: can only test a child process\n",
      "Exception ignored in: <function _MultiProcessingDataLoaderIter.__del__ at 0x7f187bbdfe20>\n",
      "Traceback (most recent call last):\n",
      "  File \"/home/eduardo/Documentos/Water-Cycle-Neural-Network/venv/lib/python3.12/site-packages/torch/utils/data/dataloader.py\", line 1663, in __del__\n",
      "    self._shutdown_workers()\n",
      "  File \"/home/eduardo/Documentos/Water-Cycle-Neural-Network/venv/lib/python3.12/site-packages/torch/utils/data/dataloader.py\", line 1646, in _shutdown_workers\n",
      "    if w.is_alive():\n",
      "       ^^^^^^^^^^^^\n",
      "  File \"/usr/lib/python3.12/multiprocessing/process.py\", line 160, in is_alive\n",
      "    assert self._parent_pid == os.getpid(), 'can only test a child process'\n",
      "           ^^^^^^^^^^^^^^^^^^^^^^^^^^^^^^^\n",
      "AssertionError: can only test a child process\n",
      "Exception ignored in: <function _MultiProcessingDataLoaderIter.__del__ at 0x7f187bbdfe20>\n",
      "Traceback (most recent call last):\n",
      "  File \"/home/eduardo/Documentos/Water-Cycle-Neural-Network/venv/lib/python3.12/site-packages/torch/utils/data/dataloader.py\", line 1663, in __del__\n",
      "    self._shutdown_workers()\n",
      "  File \"/home/eduardo/Documentos/Water-Cycle-Neural-Network/venv/lib/python3.12/site-packages/torch/utils/data/dataloader.py\", line 1646, in _shutdown_workers\n",
      "    if w.is_alive():\n",
      "       ^^^^^^^^^^^^\n",
      "  File \"/usr/lib/python3.12/multiprocessing/process.py\", line 160, in is_alive\n",
      "    assert self._parent_pid == os.getpid(), 'can only test a child process'\n",
      "           ^^^^^^^^^^^^^^^^^^^^^^^^^^^^^^^\n",
      "AssertionError: can only test a child process\n",
      "Exception ignored in: <function _MultiProcessingDataLoaderIter.__del__ at 0x7f187bbdfe20>\n",
      "Traceback (most recent call last):\n",
      "  File \"/home/eduardo/Documentos/Water-Cycle-Neural-Network/venv/lib/python3.12/site-packages/torch/utils/data/dataloader.py\", line 1663, in __del__\n",
      "    self._shutdown_workers()\n",
      "  File \"/home/eduardo/Documentos/Water-Cycle-Neural-Network/venv/lib/python3.12/site-packages/torch/utils/data/dataloader.py\", line 1646, in _shutdown_workers\n",
      "    if w.is_alive():\n",
      "       ^^^^^^^^^^^^\n",
      "  File \"/usr/lib/python3.12/multiprocessing/process.py\", line 160, in is_alive\n",
      "    assert self._parent_pid == os.getpid(), 'can only test a child process'\n",
      "           ^^^^^^^^^^^^^^^^^^^^^^^^^^^^^^^\n",
      "AssertionError: can only test a child process\n",
      "Exception ignored in: <function _MultiProcessingDataLoaderIter.__del__ at 0x7f187bbdfe20>\n",
      "Traceback (most recent call last):\n",
      "  File \"/home/eduardo/Documentos/Water-Cycle-Neural-Network/venv/lib/python3.12/site-packages/torch/utils/data/dataloader.py\", line 1663, in __del__\n",
      "    self._shutdown_workers()\n",
      "  File \"/home/eduardo/Documentos/Water-Cycle-Neural-Network/venv/lib/python3.12/site-packages/torch/utils/data/dataloader.py\", line 1646, in _shutdown_workers\n",
      "    if w.is_alive():\n",
      "       ^^^^^^^^^^^^\n",
      "  File \"/usr/lib/python3.12/multiprocessing/process.py\", line 160, in is_alive\n",
      "    assert self._parent_pid == os.getpid(), 'can only test a child process'\n",
      "           ^^^^^^^^^^^^^^^^^^^^^^^^^^^^^^^\n",
      "AssertionError: can only test a child process\n",
      "Exception ignored in: <function _MultiProcessingDataLoaderIter.__del__ at 0x7f187bbdfe20>\n",
      "Traceback (most recent call last):\n",
      "  File \"/home/eduardo/Documentos/Water-Cycle-Neural-Network/venv/lib/python3.12/site-packages/torch/utils/data/dataloader.py\", line 1663, in __del__\n",
      "    self._shutdown_workers()\n",
      "  File \"/home/eduardo/Documentos/Water-Cycle-Neural-Network/venv/lib/python3.12/site-packages/torch/utils/data/dataloader.py\", line 1646, in _shutdown_workers\n",
      "    if w.is_alive():\n",
      "       ^^^^^^^^^^^^\n",
      "  File \"/usr/lib/python3.12/multiprocessing/process.py\", line 160, in is_alive\n",
      "    assert self._parent_pid == os.getpid(), 'can only test a child process'\n",
      "           ^^^^^^^^^^^^^^^^^^^^^^^^^^^^^^^\n",
      "AssertionError: can only test a child process\n",
      "Exception ignored in: <function _MultiProcessingDataLoaderIter.__del__ at 0x7f187bbdfe20>\n",
      "Traceback (most recent call last):\n",
      "  File \"/home/eduardo/Documentos/Water-Cycle-Neural-Network/venv/lib/python3.12/site-packages/torch/utils/data/dataloader.py\", line 1663, in __del__\n",
      "    self._shutdown_workers()\n",
      "  File \"/home/eduardo/Documentos/Water-Cycle-Neural-Network/venv/lib/python3.12/site-packages/torch/utils/data/dataloader.py\", line 1646, in _shutdown_workers\n",
      "    if w.is_alive():\n",
      "       ^^^^^^^^^^^^\n",
      "  File \"/usr/lib/python3.12/multiprocessing/process.py\", line 160, in is_alive\n",
      "    assert self._parent_pid == os.getpid(), 'can only test a child process'\n",
      "           ^^^^^^^^^^^^^^^^^^^^^^^^^^^^^^^\n",
      "AssertionError: can only test a child process\n",
      "Exception ignored in: <function _MultiProcessingDataLoaderIter.__del__ at 0x7f187bbdfe20>\n",
      "Traceback (most recent call last):\n",
      "  File \"/home/eduardo/Documentos/Water-Cycle-Neural-Network/venv/lib/python3.12/site-packages/torch/utils/data/dataloader.py\", line 1663, in __del__\n",
      "    self._shutdown_workers()\n",
      "  File \"/home/eduardo/Documentos/Water-Cycle-Neural-Network/venv/lib/python3.12/site-packages/torch/utils/data/dataloader.py\", line 1646, in _shutdown_workers\n",
      "    if w.is_alive():\n",
      "       ^^^^^^^^^^^^\n",
      "  File \"/usr/lib/python3.12/multiprocessing/process.py\", line 160, in is_alive\n",
      "    assert self._parent_pid == os.getpid(), 'can only test a child process'\n",
      "           ^^^^^^^^^^^^^^^^^^^^^^^^^^^^^^^\n",
      "AssertionError: can only test a child process\n",
      "Exception ignored in: <function _MultiProcessingDataLoaderIter.__del__ at 0x7f187bbdfe20>\n",
      "Traceback (most recent call last):\n",
      "  File \"/home/eduardo/Documentos/Water-Cycle-Neural-Network/venv/lib/python3.12/site-packages/torch/utils/data/dataloader.py\", line 1663, in __del__\n",
      "    self._shutdown_workers()\n",
      "  File \"/home/eduardo/Documentos/Water-Cycle-Neural-Network/venv/lib/python3.12/site-packages/torch/utils/data/dataloader.py\", line 1646, in _shutdown_workers\n",
      "    if w.is_alive():\n",
      "       ^^^^^^^^^^^^\n",
      "  File \"/usr/lib/python3.12/multiprocessing/process.py\", line 160, in is_alive\n",
      "    assert self._parent_pid == os.getpid(), 'can only test a child process'\n",
      "           ^^^^^^^^^^^^^^^^^^^^^^^^^^^^^^^\n",
      "AssertionError: can only test a child process\n",
      "Monitored metric val_loss did not improve in the last 15 records. Best score: 0.012. Signaling Trainer to stop.\n",
      "GPU available: True (cuda), used: True\n",
      "TPU available: False, using: 0 TPU cores\n",
      "HPU available: False, using: 0 HPUs\n",
      "LOCAL_RANK: 0 - CUDA_VISIBLE_DEVICES: [0]\n"
     ]
    },
    {
     "name": "stdout",
     "output_type": "stream",
     "text": [
      "Model loaded from checkpoint for trial 61\n"
     ]
    },
    {
     "name": "stderr",
     "output_type": "stream",
     "text": [
      "/home/eduardo/Documentos/Water-Cycle-Neural-Network/venv/lib/python3.12/site-packages/pytorch_lightning/trainer/connectors/data_connector.py:425: The 'predict_dataloader' does not have many workers which may be a bottleneck. Consider increasing the value of the `num_workers` argument` to `num_workers=11` in the `DataLoader` to improve performance.\n",
      "[I 2025-05-27 20:36:16,608] Trial 61 finished with value: 0.0766567656596896 and parameters: {'input_chunk_length': 26, 'output_chunk_length': 1, 'dropout': 0.22465750732962966, 'batch_size': 80, 'lr': 0.0027941466055897797, 'weight_decay': 1.3836483140725586e-06, 'hidden_size': 64, 'num_encoder_layers': 3, 'num_decoder_layers': 2, 'temporal_width_past': 2, 'temporal_width_future': 1, 'use_reversible_instance_norm': True, 'loss_fn': 'smoothl1', 'optimizer': 'Adam'}. Best is trial 51 with value: 0.07537033374535873.\n"
     ]
    },
    {
     "name": "stdout",
     "output_type": "stream",
     "text": [
      "Starting time series verification for consistency...\n",
      "\n",
      "Performance metrics:\n",
      "                                   MSE       RMSE        MAE        R2  \\\n",
      "Temperature                   1.606671   1.267545   0.948450  0.947319   \n",
      "Precipitation_accumulated     0.584099   0.764263   0.711862  0.830589   \n",
      "Humidity                     12.682348   3.561228   2.518969  0.913469   \n",
      "Wind_Speed_kmh                0.610117   0.781100   0.578524  0.548254   \n",
      "Soil_Moisture              1597.824587  39.972798  16.057714  0.972352   \n",
      "Soil_Temperature              0.320091   0.565766   0.428351  0.980191   \n",
      "Wind_Dir_Sin                  0.373939   0.611506   0.489909  0.320046   \n",
      "Wind_Dir_Cos                  0.315266   0.561486   0.446862  0.142538   \n",
      "\n",
      "                                SMAPE  \n",
      "Temperature                 18.319272  \n",
      "Precipitation_accumulated    0.153125  \n",
      "Humidity                     3.010775  \n",
      "Wind_Speed_kmh              61.034667  \n",
      "Soil_Moisture                0.187490  \n",
      "Soil_Temperature             7.192457  \n",
      "Wind_Dir_Sin                97.617090  \n",
      "Wind_Dir_Cos               109.236196  \n",
      "The MAE for this fold was 0.0766567656596896\n",
      "Results of trial 61 saved in optuna_iteration_metrics/trial_61.json\n",
      "Current value: 0.0766567656596896, Current params: {'input_chunk_length': 26, 'output_chunk_length': 1, 'dropout': 0.22465750732962966, 'batch_size': 80, 'lr': 0.0027941466055897797, 'weight_decay': 1.3836483140725586e-06, 'hidden_size': 64, 'num_encoder_layers': 3, 'num_decoder_layers': 2, 'temporal_width_past': 2, 'temporal_width_future': 1, 'use_reversible_instance_norm': True, 'loss_fn': 'smoothl1', 'optimizer': 'Adam'}\n",
      "Best value: 0.07537033374535873, Best params: {'input_chunk_length': 25, 'output_chunk_length': 1, 'dropout': 0.21681024106774108, 'batch_size': 88, 'lr': 0.003388720125598311, 'weight_decay': 1.0874880175491006e-06, 'hidden_size': 64, 'num_encoder_layers': 3, 'num_decoder_layers': 2, 'temporal_width_past': 2, 'temporal_width_future': 1, 'use_reversible_instance_norm': True, 'loss_fn': 'smoothl1', 'optimizer': 'Adam'}\n",
      "\n",
      "Starting Trial 62\n",
      "Hyperparameters: {'input_chunk_length': 46, 'output_chunk_length': 1, 'dropout': 0.22751533683295236, 'batch_size': 88, 'lr': 0.0036758496973992244, 'weight_decay': 1.3780598896921052e-06, 'hidden_size': 64, 'num_encoder_layers': 3, 'num_decoder_layers': 2, 'temporal_width_past': 2, 'temporal_width_future': 1, 'use_reversible_instance_norm': True, 'loss_fn': 'smoothl1', 'optimizer': 'Adam'}\n",
      "\n",
      "Training the model...\n",
      "Train set: 6647 samples\n",
      "Validation set: 1662 samples\n"
     ]
    },
    {
     "name": "stderr",
     "output_type": "stream",
     "text": [
      "GPU available: True (cuda), used: True\n",
      "TPU available: False, using: 0 TPU cores\n",
      "HPU available: False, using: 0 HPUs\n",
      "LOCAL_RANK: 0 - CUDA_VISIBLE_DEVICES: [0]\n",
      "Metric val_loss improved. New best score: 0.013\n",
      "Metric val_loss improved by 0.001 >= min_delta = 0.0005. New best score: 0.012\n",
      "Metric val_loss improved by 0.001 >= min_delta = 0.0005. New best score: 0.012\n",
      "Monitored metric val_loss did not improve in the last 15 records. Best score: 0.012. Signaling Trainer to stop.\n",
      "GPU available: True (cuda), used: True\n",
      "TPU available: False, using: 0 TPU cores\n",
      "HPU available: False, using: 0 HPUs\n",
      "LOCAL_RANK: 0 - CUDA_VISIBLE_DEVICES: [0]\n"
     ]
    },
    {
     "name": "stdout",
     "output_type": "stream",
     "text": [
      "Model loaded from checkpoint for trial 62\n"
     ]
    },
    {
     "name": "stderr",
     "output_type": "stream",
     "text": [
      "/home/eduardo/Documentos/Water-Cycle-Neural-Network/venv/lib/python3.12/site-packages/pytorch_lightning/trainer/connectors/data_connector.py:425: The 'predict_dataloader' does not have many workers which may be a bottleneck. Consider increasing the value of the `num_workers` argument` to `num_workers=11` in the `DataLoader` to improve performance.\n",
      "[I 2025-05-27 20:36:44,037] Trial 62 finished with value: 0.07626249496488574 and parameters: {'input_chunk_length': 46, 'output_chunk_length': 1, 'dropout': 0.22751533683295236, 'batch_size': 88, 'lr': 0.0036758496973992244, 'weight_decay': 1.3780598896921052e-06, 'hidden_size': 64, 'num_encoder_layers': 3, 'num_decoder_layers': 2, 'temporal_width_past': 2, 'temporal_width_future': 1, 'use_reversible_instance_norm': True, 'loss_fn': 'smoothl1', 'optimizer': 'Adam'}. Best is trial 51 with value: 0.07537033374535873.\n"
     ]
    },
    {
     "name": "stdout",
     "output_type": "stream",
     "text": [
      "Starting time series verification for consistency...\n",
      "\n",
      "Performance metrics:\n",
      "                                   MSE       RMSE        MAE        R2  \\\n",
      "Temperature                   1.480465   1.216744   0.914682  0.951495   \n",
      "Precipitation_accumulated     0.186132   0.431430   0.380017  0.944296   \n",
      "Humidity                     14.684403   3.832023   2.740044  0.899873   \n",
      "Wind_Speed_kmh                0.594090   0.770772   0.589756  0.558829   \n",
      "Soil_Moisture              1272.925585  35.678083  14.648987  0.976177   \n",
      "Soil_Temperature              0.306981   0.554058   0.410210  0.980946   \n",
      "Wind_Dir_Sin                  0.367496   0.606215   0.479237  0.332495   \n",
      "Wind_Dir_Cos                  0.317769   0.563710   0.447579  0.133990   \n",
      "\n",
      "                                SMAPE  \n",
      "Temperature                 18.206407  \n",
      "Precipitation_accumulated    0.081780  \n",
      "Humidity                     3.258604  \n",
      "Wind_Speed_kmh              59.265365  \n",
      "Soil_Moisture                0.170548  \n",
      "Soil_Temperature             6.832568  \n",
      "Wind_Dir_Sin                94.297426  \n",
      "Wind_Dir_Cos               108.227888  \n",
      "The MAE for this fold was 0.07626249496488574\n",
      "Results of trial 62 saved in optuna_iteration_metrics/trial_62.json\n",
      "Current value: 0.07626249496488574, Current params: {'input_chunk_length': 46, 'output_chunk_length': 1, 'dropout': 0.22751533683295236, 'batch_size': 88, 'lr': 0.0036758496973992244, 'weight_decay': 1.3780598896921052e-06, 'hidden_size': 64, 'num_encoder_layers': 3, 'num_decoder_layers': 2, 'temporal_width_past': 2, 'temporal_width_future': 1, 'use_reversible_instance_norm': True, 'loss_fn': 'smoothl1', 'optimizer': 'Adam'}\n",
      "Best value: 0.07537033374535873, Best params: {'input_chunk_length': 25, 'output_chunk_length': 1, 'dropout': 0.21681024106774108, 'batch_size': 88, 'lr': 0.003388720125598311, 'weight_decay': 1.0874880175491006e-06, 'hidden_size': 64, 'num_encoder_layers': 3, 'num_decoder_layers': 2, 'temporal_width_past': 2, 'temporal_width_future': 1, 'use_reversible_instance_norm': True, 'loss_fn': 'smoothl1', 'optimizer': 'Adam'}\n",
      "\n",
      "Starting Trial 63\n",
      "Hyperparameters: {'input_chunk_length': 28, 'output_chunk_length': 1, 'dropout': 0.22913448798762323, 'batch_size': 88, 'lr': 0.003194137058442692, 'weight_decay': 1.909201616227137e-06, 'hidden_size': 64, 'num_encoder_layers': 3, 'num_decoder_layers': 2, 'temporal_width_past': 2, 'temporal_width_future': 1, 'use_reversible_instance_norm': True, 'loss_fn': 'smoothl1', 'optimizer': 'Adam'}\n",
      "\n",
      "Training the model...\n",
      "Train set: 6647 samples\n",
      "Validation set: 1662 samples\n"
     ]
    },
    {
     "name": "stderr",
     "output_type": "stream",
     "text": [
      "GPU available: True (cuda), used: True\n",
      "TPU available: False, using: 0 TPU cores\n",
      "HPU available: False, using: 0 HPUs\n",
      "LOCAL_RANK: 0 - CUDA_VISIBLE_DEVICES: [0]\n",
      "[I 2025-05-27 20:36:45,966] Trial 63 pruned. Trial was pruned at epoch 0.\n",
      "GPU available: True (cuda), used: True\n",
      "TPU available: False, using: 0 TPU cores\n",
      "HPU available: False, using: 0 HPUs\n",
      "LOCAL_RANK: 0 - CUDA_VISIBLE_DEVICES: [0]\n"
     ]
    },
    {
     "name": "stdout",
     "output_type": "stream",
     "text": [
      "Current value: 0.014738392216148238, Current params: {'input_chunk_length': 28, 'output_chunk_length': 1, 'dropout': 0.22913448798762323, 'batch_size': 88, 'lr': 0.003194137058442692, 'weight_decay': 1.909201616227137e-06, 'hidden_size': 64, 'num_encoder_layers': 3, 'num_decoder_layers': 2, 'temporal_width_past': 2, 'temporal_width_future': 1, 'use_reversible_instance_norm': True, 'loss_fn': 'smoothl1', 'optimizer': 'Adam'}\n",
      "Best value: 0.07537033374535873, Best params: {'input_chunk_length': 25, 'output_chunk_length': 1, 'dropout': 0.21681024106774108, 'batch_size': 88, 'lr': 0.003388720125598311, 'weight_decay': 1.0874880175491006e-06, 'hidden_size': 64, 'num_encoder_layers': 3, 'num_decoder_layers': 2, 'temporal_width_past': 2, 'temporal_width_future': 1, 'use_reversible_instance_norm': True, 'loss_fn': 'smoothl1', 'optimizer': 'Adam'}\n",
      "\n",
      "Starting Trial 64\n",
      "Hyperparameters: {'input_chunk_length': 26, 'output_chunk_length': 2, 'dropout': 0.27048748699902453, 'batch_size': 95, 'lr': 0.0016852790499782128, 'weight_decay': 1.3200301481554756e-06, 'hidden_size': 64, 'num_encoder_layers': 3, 'num_decoder_layers': 2, 'temporal_width_past': 2, 'temporal_width_future': 1, 'use_reversible_instance_norm': True, 'loss_fn': 'smoothl1', 'optimizer': 'Adam'}\n",
      "\n",
      "Training the model...\n",
      "Train set: 6647 samples\n",
      "Validation set: 1662 samples\n"
     ]
    },
    {
     "name": "stderr",
     "output_type": "stream",
     "text": [
      "[I 2025-05-27 20:36:47,957] Trial 64 pruned. Trial was pruned at epoch 0.\n"
     ]
    },
    {
     "name": "stdout",
     "output_type": "stream",
     "text": [
      "Current value: 0.014776478085887172, Current params: {'input_chunk_length': 26, 'output_chunk_length': 2, 'dropout': 0.27048748699902453, 'batch_size': 95, 'lr': 0.0016852790499782128, 'weight_decay': 1.3200301481554756e-06, 'hidden_size': 64, 'num_encoder_layers': 3, 'num_decoder_layers': 2, 'temporal_width_past': 2, 'temporal_width_future': 1, 'use_reversible_instance_norm': True, 'loss_fn': 'smoothl1', 'optimizer': 'Adam'}\n",
      "Best value: 0.07537033374535873, Best params: {'input_chunk_length': 25, 'output_chunk_length': 1, 'dropout': 0.21681024106774108, 'batch_size': 88, 'lr': 0.003388720125598311, 'weight_decay': 1.0874880175491006e-06, 'hidden_size': 64, 'num_encoder_layers': 3, 'num_decoder_layers': 2, 'temporal_width_past': 2, 'temporal_width_future': 1, 'use_reversible_instance_norm': True, 'loss_fn': 'smoothl1', 'optimizer': 'Adam'}\n",
      "\n",
      "Starting Trial 65\n",
      "Hyperparameters: {'input_chunk_length': 64, 'output_chunk_length': 4, 'dropout': 0.19260399197356654, 'batch_size': 79, 'lr': 0.002477048422030144, 'weight_decay': 2.497567376548478e-06, 'hidden_size': 64, 'num_encoder_layers': 3, 'num_decoder_layers': 2, 'temporal_width_past': 2, 'temporal_width_future': 1, 'use_reversible_instance_norm': True, 'loss_fn': 'smoothl1', 'optimizer': 'Adam'}\n",
      "\n",
      "Training the model...\n",
      "Train set: 6647 samples\n",
      "Validation set: 1662 samples\n"
     ]
    },
    {
     "name": "stderr",
     "output_type": "stream",
     "text": [
      "GPU available: True (cuda), used: True\n",
      "TPU available: False, using: 0 TPU cores\n",
      "HPU available: False, using: 0 HPUs\n",
      "LOCAL_RANK: 0 - CUDA_VISIBLE_DEVICES: [0]\n",
      "[I 2025-05-27 20:38:30,381] Trial 65 pruned. Trial was pruned at epoch 0.\n",
      "GPU available: True (cuda), used: True\n",
      "TPU available: False, using: 0 TPU cores\n",
      "HPU available: False, using: 0 HPUs\n",
      "LOCAL_RANK: 0 - CUDA_VISIBLE_DEVICES: [0]\n"
     ]
    },
    {
     "name": "stdout",
     "output_type": "stream",
     "text": [
      "Current value: 0.016672414329826277, Current params: {'input_chunk_length': 64, 'output_chunk_length': 4, 'dropout': 0.19260399197356654, 'batch_size': 79, 'lr': 0.002477048422030144, 'weight_decay': 2.497567376548478e-06, 'hidden_size': 64, 'num_encoder_layers': 3, 'num_decoder_layers': 2, 'temporal_width_past': 2, 'temporal_width_future': 1, 'use_reversible_instance_norm': True, 'loss_fn': 'smoothl1', 'optimizer': 'Adam'}\n",
      "Best value: 0.07537033374535873, Best params: {'input_chunk_length': 25, 'output_chunk_length': 1, 'dropout': 0.21681024106774108, 'batch_size': 88, 'lr': 0.003388720125598311, 'weight_decay': 1.0874880175491006e-06, 'hidden_size': 64, 'num_encoder_layers': 3, 'num_decoder_layers': 2, 'temporal_width_past': 2, 'temporal_width_future': 1, 'use_reversible_instance_norm': True, 'loss_fn': 'smoothl1', 'optimizer': 'Adam'}\n",
      "\n",
      "Starting Trial 66\n",
      "Hyperparameters: {'input_chunk_length': 25, 'output_chunk_length': 1, 'dropout': 0.20867238638148655, 'batch_size': 111, 'lr': 0.003922560548363273, 'weight_decay': 4.1690659679136524e-06, 'hidden_size': 64, 'num_encoder_layers': 3, 'num_decoder_layers': 2, 'temporal_width_past': 2, 'temporal_width_future': 1, 'use_reversible_instance_norm': True, 'loss_fn': 'smoothl1', 'optimizer': 'Adam'}\n",
      "\n",
      "Training the model...\n",
      "Train set: 6647 samples\n",
      "Validation set: 1662 samples\n"
     ]
    },
    {
     "name": "stderr",
     "output_type": "stream",
     "text": [
      "Metric val_loss improved. New best score: 0.014\n",
      "Metric val_loss improved by 0.002 >= min_delta = 0.0005. New best score: 0.012\n",
      "Metric val_loss improved by 0.001 >= min_delta = 0.0005. New best score: 0.012\n",
      "Monitored metric val_loss did not improve in the last 15 records. Best score: 0.012. Signaling Trainer to stop.\n",
      "GPU available: True (cuda), used: True\n",
      "TPU available: False, using: 0 TPU cores\n",
      "HPU available: False, using: 0 HPUs\n",
      "LOCAL_RANK: 0 - CUDA_VISIBLE_DEVICES: [0]\n"
     ]
    },
    {
     "name": "stdout",
     "output_type": "stream",
     "text": [
      "Model loaded from checkpoint for trial 66\n"
     ]
    },
    {
     "name": "stderr",
     "output_type": "stream",
     "text": [
      "/home/eduardo/Documentos/Water-Cycle-Neural-Network/venv/lib/python3.12/site-packages/pytorch_lightning/trainer/connectors/data_connector.py:425: The 'predict_dataloader' does not have many workers which may be a bottleneck. Consider increasing the value of the `num_workers` argument` to `num_workers=11` in the `DataLoader` to improve performance.\n",
      "[I 2025-05-27 20:38:57,884] Trial 66 finished with value: 0.07675115101432409 and parameters: {'input_chunk_length': 25, 'output_chunk_length': 1, 'dropout': 0.20867238638148655, 'batch_size': 111, 'lr': 0.003922560548363273, 'weight_decay': 4.1690659679136524e-06, 'hidden_size': 64, 'num_encoder_layers': 3, 'num_decoder_layers': 2, 'temporal_width_past': 2, 'temporal_width_future': 1, 'use_reversible_instance_norm': True, 'loss_fn': 'smoothl1', 'optimizer': 'Adam'}. Best is trial 51 with value: 0.07537033374535873.\n"
     ]
    },
    {
     "name": "stdout",
     "output_type": "stream",
     "text": [
      "Starting time series verification for consistency...\n",
      "\n",
      "Performance metrics:\n",
      "                                   MSE       RMSE        MAE        R2  \\\n",
      "Temperature                   1.647803   1.283668   0.986108  0.946004   \n",
      "Precipitation_accumulated     0.572636   0.756727   0.740044  0.834164   \n",
      "Humidity                     13.398974   3.660461   2.652035  0.908586   \n",
      "Wind_Speed_kmh                0.608519   0.780077   0.594987  0.549359   \n",
      "Soil_Moisture              1785.651303  42.256968  16.375054  0.969196   \n",
      "Soil_Temperature              0.438782   0.662406   0.511024  0.972863   \n",
      "Wind_Dir_Sin                  0.370701   0.608852   0.480841  0.325842   \n",
      "Wind_Dir_Cos                  0.314061   0.560412   0.444371  0.146118   \n",
      "\n",
      "                                SMAPE  \n",
      "Temperature                 19.757048  \n",
      "Precipitation_accumulated    0.159187  \n",
      "Humidity                     3.145084  \n",
      "Wind_Speed_kmh              59.242391  \n",
      "Soil_Moisture                0.191195  \n",
      "Soil_Temperature             8.643844  \n",
      "Wind_Dir_Sin                95.019139  \n",
      "Wind_Dir_Cos               107.019599  \n",
      "The MAE for this fold was 0.07675115101432409\n",
      "Results of trial 66 saved in optuna_iteration_metrics/trial_66.json\n",
      "Current value: 0.07675115101432409, Current params: {'input_chunk_length': 25, 'output_chunk_length': 1, 'dropout': 0.20867238638148655, 'batch_size': 111, 'lr': 0.003922560548363273, 'weight_decay': 4.1690659679136524e-06, 'hidden_size': 64, 'num_encoder_layers': 3, 'num_decoder_layers': 2, 'temporal_width_past': 2, 'temporal_width_future': 1, 'use_reversible_instance_norm': True, 'loss_fn': 'smoothl1', 'optimizer': 'Adam'}\n",
      "Best value: 0.07537033374535873, Best params: {'input_chunk_length': 25, 'output_chunk_length': 1, 'dropout': 0.21681024106774108, 'batch_size': 88, 'lr': 0.003388720125598311, 'weight_decay': 1.0874880175491006e-06, 'hidden_size': 64, 'num_encoder_layers': 3, 'num_decoder_layers': 2, 'temporal_width_past': 2, 'temporal_width_future': 1, 'use_reversible_instance_norm': True, 'loss_fn': 'smoothl1', 'optimizer': 'Adam'}\n",
      "\n",
      "Starting Trial 67\n",
      "Hyperparameters: {'input_chunk_length': 24, 'output_chunk_length': 3, 'dropout': 0.24081319501903364, 'batch_size': 107, 'lr': 0.003959997827411459, 'weight_decay': 4.030857089163392e-06, 'hidden_size': 64, 'num_encoder_layers': 3, 'num_decoder_layers': 2, 'temporal_width_past': 2, 'temporal_width_future': 1, 'use_reversible_instance_norm': True, 'loss_fn': 'smoothl1', 'optimizer': 'Adam'}\n",
      "\n",
      "Training the model...\n",
      "Train set: 6647 samples\n",
      "Validation set: 1662 samples\n"
     ]
    },
    {
     "name": "stderr",
     "output_type": "stream",
     "text": [
      "GPU available: True (cuda), used: True\n",
      "TPU available: False, using: 0 TPU cores\n",
      "HPU available: False, using: 0 HPUs\n",
      "LOCAL_RANK: 0 - CUDA_VISIBLE_DEVICES: [0]\n",
      "[I 2025-05-27 20:38:59,749] Trial 67 pruned. Trial was pruned at epoch 0.\n",
      "GPU available: True (cuda), used: True\n",
      "TPU available: False, using: 0 TPU cores\n",
      "HPU available: False, using: 0 HPUs\n",
      "LOCAL_RANK: 0 - CUDA_VISIBLE_DEVICES: [0]\n"
     ]
    },
    {
     "name": "stdout",
     "output_type": "stream",
     "text": [
      "Current value: 0.015655064635271658, Current params: {'input_chunk_length': 24, 'output_chunk_length': 3, 'dropout': 0.24081319501903364, 'batch_size': 107, 'lr': 0.003959997827411459, 'weight_decay': 4.030857089163392e-06, 'hidden_size': 64, 'num_encoder_layers': 3, 'num_decoder_layers': 2, 'temporal_width_past': 2, 'temporal_width_future': 1, 'use_reversible_instance_norm': True, 'loss_fn': 'smoothl1', 'optimizer': 'Adam'}\n",
      "Best value: 0.07537033374535873, Best params: {'input_chunk_length': 25, 'output_chunk_length': 1, 'dropout': 0.21681024106774108, 'batch_size': 88, 'lr': 0.003388720125598311, 'weight_decay': 1.0874880175491006e-06, 'hidden_size': 64, 'num_encoder_layers': 3, 'num_decoder_layers': 2, 'temporal_width_past': 2, 'temporal_width_future': 1, 'use_reversible_instance_norm': True, 'loss_fn': 'smoothl1', 'optimizer': 'Adam'}\n",
      "\n",
      "Starting Trial 68\n",
      "Hyperparameters: {'input_chunk_length': 35, 'output_chunk_length': 2, 'dropout': 0.1718168603253661, 'batch_size': 99, 'lr': 0.004473956506350147, 'weight_decay': 9.91773115247778e-06, 'hidden_size': 64, 'num_encoder_layers': 4, 'num_decoder_layers': 2, 'temporal_width_past': 3, 'temporal_width_future': 1, 'use_reversible_instance_norm': True, 'loss_fn': 'smoothl1', 'optimizer': 'Adam'}\n",
      "\n",
      "Training the model...\n",
      "Train set: 6647 samples\n",
      "Validation set: 1662 samples\n"
     ]
    },
    {
     "name": "stderr",
     "output_type": "stream",
     "text": [
      "[I 2025-05-27 20:39:01,798] Trial 68 pruned. Trial was pruned at epoch 0.\n",
      "GPU available: True (cuda), used: True\n",
      "TPU available: False, using: 0 TPU cores\n",
      "HPU available: False, using: 0 HPUs\n",
      "LOCAL_RANK: 0 - CUDA_VISIBLE_DEVICES: [0]\n"
     ]
    },
    {
     "name": "stdout",
     "output_type": "stream",
     "text": [
      "Current value: 0.015344811378038246, Current params: {'input_chunk_length': 35, 'output_chunk_length': 2, 'dropout': 0.1718168603253661, 'batch_size': 99, 'lr': 0.004473956506350147, 'weight_decay': 9.91773115247778e-06, 'hidden_size': 64, 'num_encoder_layers': 4, 'num_decoder_layers': 2, 'temporal_width_past': 3, 'temporal_width_future': 1, 'use_reversible_instance_norm': True, 'loss_fn': 'smoothl1', 'optimizer': 'Adam'}\n",
      "Best value: 0.07537033374535873, Best params: {'input_chunk_length': 25, 'output_chunk_length': 1, 'dropout': 0.21681024106774108, 'batch_size': 88, 'lr': 0.003388720125598311, 'weight_decay': 1.0874880175491006e-06, 'hidden_size': 64, 'num_encoder_layers': 3, 'num_decoder_layers': 2, 'temporal_width_past': 2, 'temporal_width_future': 1, 'use_reversible_instance_norm': True, 'loss_fn': 'smoothl1', 'optimizer': 'Adam'}\n",
      "\n",
      "Starting Trial 69\n",
      "Hyperparameters: {'input_chunk_length': 30, 'output_chunk_length': 3, 'dropout': 0.20660018481667575, 'batch_size': 82, 'lr': 0.0006113968040581842, 'weight_decay': 1.5910117530829028e-05, 'hidden_size': 256, 'num_encoder_layers': 3, 'num_decoder_layers': 2, 'temporal_width_past': 2, 'temporal_width_future': 1, 'use_reversible_instance_norm': True, 'loss_fn': 'smoothl1', 'optimizer': 'Adam'}\n",
      "\n",
      "Training the model...\n",
      "Train set: 6647 samples\n",
      "Validation set: 1662 samples\n"
     ]
    },
    {
     "name": "stderr",
     "output_type": "stream",
     "text": [
      "[I 2025-05-27 20:39:03,941] Trial 69 pruned. Trial was pruned at epoch 0.\n",
      "GPU available: True (cuda), used: True\n",
      "TPU available: False, using: 0 TPU cores\n",
      "HPU available: False, using: 0 HPUs\n",
      "LOCAL_RANK: 0 - CUDA_VISIBLE_DEVICES: [0]\n"
     ]
    },
    {
     "name": "stdout",
     "output_type": "stream",
     "text": [
      "Current value: 0.01875737962294175, Current params: {'input_chunk_length': 30, 'output_chunk_length': 3, 'dropout': 0.20660018481667575, 'batch_size': 82, 'lr': 0.0006113968040581842, 'weight_decay': 1.5910117530829028e-05, 'hidden_size': 256, 'num_encoder_layers': 3, 'num_decoder_layers': 2, 'temporal_width_past': 2, 'temporal_width_future': 1, 'use_reversible_instance_norm': True, 'loss_fn': 'smoothl1', 'optimizer': 'Adam'}\n",
      "Best value: 0.07537033374535873, Best params: {'input_chunk_length': 25, 'output_chunk_length': 1, 'dropout': 0.21681024106774108, 'batch_size': 88, 'lr': 0.003388720125598311, 'weight_decay': 1.0874880175491006e-06, 'hidden_size': 64, 'num_encoder_layers': 3, 'num_decoder_layers': 2, 'temporal_width_past': 2, 'temporal_width_future': 1, 'use_reversible_instance_norm': True, 'loss_fn': 'smoothl1', 'optimizer': 'Adam'}\n",
      "\n",
      "Starting Trial 70\n",
      "Hyperparameters: {'input_chunk_length': 28, 'output_chunk_length': 5, 'dropout': 0.25504805223987914, 'batch_size': 115, 'lr': 0.002960639950653742, 'weight_decay': 6.899332796717859e-06, 'hidden_size': 64, 'num_encoder_layers': 1, 'num_decoder_layers': 2, 'temporal_width_past': 2, 'temporal_width_future': 1, 'use_reversible_instance_norm': True, 'loss_fn': 'mae', 'optimizer': 'Adam'}\n",
      "\n",
      "Training the model...\n",
      "Train set: 6647 samples\n",
      "Validation set: 1662 samples\n"
     ]
    },
    {
     "name": "stderr",
     "output_type": "stream",
     "text": [
      "[I 2025-05-27 20:39:06,102] Trial 70 pruned. Trial was pruned at epoch 0.\n",
      "GPU available: True (cuda), used: True\n",
      "TPU available: False, using: 0 TPU cores\n",
      "HPU available: False, using: 0 HPUs\n",
      "LOCAL_RANK: 0 - CUDA_VISIBLE_DEVICES: [0]\n"
     ]
    },
    {
     "name": "stdout",
     "output_type": "stream",
     "text": [
      "Current value: 0.09925985946921739, Current params: {'input_chunk_length': 28, 'output_chunk_length': 5, 'dropout': 0.25504805223987914, 'batch_size': 115, 'lr': 0.002960639950653742, 'weight_decay': 6.899332796717859e-06, 'hidden_size': 64, 'num_encoder_layers': 1, 'num_decoder_layers': 2, 'temporal_width_past': 2, 'temporal_width_future': 1, 'use_reversible_instance_norm': True, 'loss_fn': 'mae', 'optimizer': 'Adam'}\n",
      "Best value: 0.07537033374535873, Best params: {'input_chunk_length': 25, 'output_chunk_length': 1, 'dropout': 0.21681024106774108, 'batch_size': 88, 'lr': 0.003388720125598311, 'weight_decay': 1.0874880175491006e-06, 'hidden_size': 64, 'num_encoder_layers': 3, 'num_decoder_layers': 2, 'temporal_width_past': 2, 'temporal_width_future': 1, 'use_reversible_instance_norm': True, 'loss_fn': 'smoothl1', 'optimizer': 'Adam'}\n",
      "\n",
      "Starting Trial 71\n",
      "Hyperparameters: {'input_chunk_length': 25, 'output_chunk_length': 1, 'dropout': 0.2239758458034568, 'batch_size': 90, 'lr': 0.0021066189946366116, 'weight_decay': 1.5994944302759466e-06, 'hidden_size': 64, 'num_encoder_layers': 3, 'num_decoder_layers': 2, 'temporal_width_past': 2, 'temporal_width_future': 1, 'use_reversible_instance_norm': True, 'loss_fn': 'smoothl1', 'optimizer': 'Adam'}\n",
      "\n",
      "Training the model...\n",
      "Train set: 6647 samples\n",
      "Validation set: 1662 samples\n"
     ]
    },
    {
     "name": "stderr",
     "output_type": "stream",
     "text": [
      "Metric val_loss improved. New best score: 0.014\n",
      "Metric val_loss improved by 0.001 >= min_delta = 0.0005. New best score: 0.013\n",
      "[I 2025-05-27 20:39:14,741] Trial 71 pruned. Trial was pruned at epoch 5.\n",
      "GPU available: True (cuda), used: True\n",
      "TPU available: False, using: 0 TPU cores\n",
      "HPU available: False, using: 0 HPUs\n",
      "LOCAL_RANK: 0 - CUDA_VISIBLE_DEVICES: [0]\n"
     ]
    },
    {
     "name": "stdout",
     "output_type": "stream",
     "text": [
      "Current value: 0.012588096039498568, Current params: {'input_chunk_length': 25, 'output_chunk_length': 1, 'dropout': 0.2239758458034568, 'batch_size': 90, 'lr': 0.0021066189946366116, 'weight_decay': 1.5994944302759466e-06, 'hidden_size': 64, 'num_encoder_layers': 3, 'num_decoder_layers': 2, 'temporal_width_past': 2, 'temporal_width_future': 1, 'use_reversible_instance_norm': True, 'loss_fn': 'smoothl1', 'optimizer': 'Adam'}\n",
      "Best value: 0.07537033374535873, Best params: {'input_chunk_length': 25, 'output_chunk_length': 1, 'dropout': 0.21681024106774108, 'batch_size': 88, 'lr': 0.003388720125598311, 'weight_decay': 1.0874880175491006e-06, 'hidden_size': 64, 'num_encoder_layers': 3, 'num_decoder_layers': 2, 'temporal_width_past': 2, 'temporal_width_future': 1, 'use_reversible_instance_norm': True, 'loss_fn': 'smoothl1', 'optimizer': 'Adam'}\n",
      "\n",
      "Starting Trial 72\n",
      "Hyperparameters: {'input_chunk_length': 26, 'output_chunk_length': 1, 'dropout': 0.21128058561844304, 'batch_size': 75, 'lr': 0.0015635950083639734, 'weight_decay': 3.2503441470436783e-06, 'hidden_size': 64, 'num_encoder_layers': 3, 'num_decoder_layers': 2, 'temporal_width_past': 2, 'temporal_width_future': 1, 'use_reversible_instance_norm': True, 'loss_fn': 'smoothl1', 'optimizer': 'Adam'}\n",
      "\n",
      "Training the model...\n",
      "Train set: 6647 samples\n",
      "Validation set: 1662 samples\n"
     ]
    },
    {
     "name": "stderr",
     "output_type": "stream",
     "text": [
      "[I 2025-05-27 20:39:16,861] Trial 72 pruned. Trial was pruned at epoch 0.\n",
      "GPU available: True (cuda), used: True\n",
      "TPU available: False, using: 0 TPU cores\n",
      "HPU available: False, using: 0 HPUs\n",
      "LOCAL_RANK: 0 - CUDA_VISIBLE_DEVICES: [0]\n"
     ]
    },
    {
     "name": "stdout",
     "output_type": "stream",
     "text": [
      "Current value: 0.01431436562698731, Current params: {'input_chunk_length': 26, 'output_chunk_length': 1, 'dropout': 0.21128058561844304, 'batch_size': 75, 'lr': 0.0015635950083639734, 'weight_decay': 3.2503441470436783e-06, 'hidden_size': 64, 'num_encoder_layers': 3, 'num_decoder_layers': 2, 'temporal_width_past': 2, 'temporal_width_future': 1, 'use_reversible_instance_norm': True, 'loss_fn': 'smoothl1', 'optimizer': 'Adam'}\n",
      "Best value: 0.07537033374535873, Best params: {'input_chunk_length': 25, 'output_chunk_length': 1, 'dropout': 0.21681024106774108, 'batch_size': 88, 'lr': 0.003388720125598311, 'weight_decay': 1.0874880175491006e-06, 'hidden_size': 64, 'num_encoder_layers': 3, 'num_decoder_layers': 2, 'temporal_width_past': 2, 'temporal_width_future': 1, 'use_reversible_instance_norm': True, 'loss_fn': 'smoothl1', 'optimizer': 'Adam'}\n",
      "\n",
      "Starting Trial 73\n",
      "Hyperparameters: {'input_chunk_length': 29, 'output_chunk_length': 2, 'dropout': 0.17893106153649144, 'batch_size': 67, 'lr': 0.0038093991455322297, 'weight_decay': 2.0822052719329203e-06, 'hidden_size': 64, 'num_encoder_layers': 3, 'num_decoder_layers': 2, 'temporal_width_past': 2, 'temporal_width_future': 1, 'use_reversible_instance_norm': True, 'loss_fn': 'smoothl1', 'optimizer': 'Adam'}\n",
      "\n",
      "Training the model...\n",
      "Train set: 6647 samples\n",
      "Validation set: 1662 samples\n"
     ]
    },
    {
     "name": "stderr",
     "output_type": "stream",
     "text": [
      "Metric val_loss improved. New best score: 0.014\n",
      "[I 2025-05-27 20:39:20,637] Trial 73 pruned. Trial was pruned at epoch 1.\n",
      "GPU available: True (cuda), used: True\n",
      "TPU available: False, using: 0 TPU cores\n",
      "HPU available: False, using: 0 HPUs\n",
      "LOCAL_RANK: 0 - CUDA_VISIBLE_DEVICES: [0]\n"
     ]
    },
    {
     "name": "stdout",
     "output_type": "stream",
     "text": [
      "Current value: 0.013342476935443923, Current params: {'input_chunk_length': 29, 'output_chunk_length': 2, 'dropout': 0.17893106153649144, 'batch_size': 67, 'lr': 0.0038093991455322297, 'weight_decay': 2.0822052719329203e-06, 'hidden_size': 64, 'num_encoder_layers': 3, 'num_decoder_layers': 2, 'temporal_width_past': 2, 'temporal_width_future': 1, 'use_reversible_instance_norm': True, 'loss_fn': 'smoothl1', 'optimizer': 'Adam'}\n",
      "Best value: 0.07537033374535873, Best params: {'input_chunk_length': 25, 'output_chunk_length': 1, 'dropout': 0.21681024106774108, 'batch_size': 88, 'lr': 0.003388720125598311, 'weight_decay': 1.0874880175491006e-06, 'hidden_size': 64, 'num_encoder_layers': 3, 'num_decoder_layers': 2, 'temporal_width_past': 2, 'temporal_width_future': 1, 'use_reversible_instance_norm': True, 'loss_fn': 'smoothl1', 'optimizer': 'Adam'}\n",
      "\n",
      "Starting Trial 74\n",
      "Hyperparameters: {'input_chunk_length': 24, 'output_chunk_length': 1, 'dropout': 0.28791777967937465, 'batch_size': 102, 'lr': 0.001022239646971129, 'weight_decay': 1.178607136195105e-06, 'hidden_size': 64, 'num_encoder_layers': 3, 'num_decoder_layers': 2, 'temporal_width_past': 2, 'temporal_width_future': 1, 'use_reversible_instance_norm': True, 'loss_fn': 'smoothl1', 'optimizer': 'Adam'}\n",
      "\n",
      "Training the model...\n",
      "Train set: 6647 samples\n",
      "Validation set: 1662 samples\n"
     ]
    },
    {
     "name": "stderr",
     "output_type": "stream",
     "text": [
      "[I 2025-05-27 20:39:22,557] Trial 74 pruned. Trial was pruned at epoch 0.\n",
      "GPU available: True (cuda), used: True\n",
      "TPU available: False, using: 0 TPU cores\n",
      "HPU available: False, using: 0 HPUs\n",
      "LOCAL_RANK: 0 - CUDA_VISIBLE_DEVICES: [0]\n"
     ]
    },
    {
     "name": "stdout",
     "output_type": "stream",
     "text": [
      "Current value: 0.015746495974522302, Current params: {'input_chunk_length': 24, 'output_chunk_length': 1, 'dropout': 0.28791777967937465, 'batch_size': 102, 'lr': 0.001022239646971129, 'weight_decay': 1.178607136195105e-06, 'hidden_size': 64, 'num_encoder_layers': 3, 'num_decoder_layers': 2, 'temporal_width_past': 2, 'temporal_width_future': 1, 'use_reversible_instance_norm': True, 'loss_fn': 'smoothl1', 'optimizer': 'Adam'}\n",
      "Best value: 0.07537033374535873, Best params: {'input_chunk_length': 25, 'output_chunk_length': 1, 'dropout': 0.21681024106774108, 'batch_size': 88, 'lr': 0.003388720125598311, 'weight_decay': 1.0874880175491006e-06, 'hidden_size': 64, 'num_encoder_layers': 3, 'num_decoder_layers': 2, 'temporal_width_past': 2, 'temporal_width_future': 1, 'use_reversible_instance_norm': True, 'loss_fn': 'smoothl1', 'optimizer': 'Adam'}\n",
      "\n",
      "Starting Trial 75\n",
      "Hyperparameters: {'input_chunk_length': 32, 'output_chunk_length': 2, 'dropout': 0.2018962613086968, 'batch_size': 86, 'lr': 0.0025880233197249753, 'weight_decay': 4.9429447821331245e-06, 'hidden_size': 64, 'num_encoder_layers': 3, 'num_decoder_layers': 2, 'temporal_width_past': 2, 'temporal_width_future': 1, 'use_reversible_instance_norm': True, 'loss_fn': 'smoothl1', 'optimizer': 'Adam'}\n",
      "\n",
      "Training the model...\n",
      "Train set: 6647 samples\n",
      "Validation set: 1662 samples\n"
     ]
    },
    {
     "name": "stderr",
     "output_type": "stream",
     "text": [
      "[I 2025-05-27 20:39:24,541] Trial 75 pruned. Trial was pruned at epoch 0.\n",
      "GPU available: True (cuda), used: True\n",
      "TPU available: False, using: 0 TPU cores\n",
      "HPU available: False, using: 0 HPUs\n",
      "LOCAL_RANK: 0 - CUDA_VISIBLE_DEVICES: [0]\n"
     ]
    },
    {
     "name": "stdout",
     "output_type": "stream",
     "text": [
      "Current value: 0.01466542676853348, Current params: {'input_chunk_length': 32, 'output_chunk_length': 2, 'dropout': 0.2018962613086968, 'batch_size': 86, 'lr': 0.0025880233197249753, 'weight_decay': 4.9429447821331245e-06, 'hidden_size': 64, 'num_encoder_layers': 3, 'num_decoder_layers': 2, 'temporal_width_past': 2, 'temporal_width_future': 1, 'use_reversible_instance_norm': True, 'loss_fn': 'smoothl1', 'optimizer': 'Adam'}\n",
      "Best value: 0.07537033374535873, Best params: {'input_chunk_length': 25, 'output_chunk_length': 1, 'dropout': 0.21681024106774108, 'batch_size': 88, 'lr': 0.003388720125598311, 'weight_decay': 1.0874880175491006e-06, 'hidden_size': 64, 'num_encoder_layers': 3, 'num_decoder_layers': 2, 'temporal_width_past': 2, 'temporal_width_future': 1, 'use_reversible_instance_norm': True, 'loss_fn': 'smoothl1', 'optimizer': 'Adam'}\n",
      "\n",
      "Starting Trial 76\n",
      "Hyperparameters: {'input_chunk_length': 27, 'output_chunk_length': 15, 'dropout': 0.15790247428533213, 'batch_size': 95, 'lr': 0.001353482354637061, 'weight_decay': 1.897072634647381e-06, 'hidden_size': 64, 'num_encoder_layers': 3, 'num_decoder_layers': 2, 'temporal_width_past': 2, 'temporal_width_future': 1, 'use_reversible_instance_norm': True, 'loss_fn': 'smoothl1', 'optimizer': 'Adam'}\n",
      "\n",
      "Training the model...\n",
      "Train set: 6647 samples\n",
      "Validation set: 1662 samples\n"
     ]
    },
    {
     "name": "stderr",
     "output_type": "stream",
     "text": [
      "[I 2025-05-27 20:39:26,461] Trial 76 pruned. Trial was pruned at epoch 0.\n",
      "GPU available: True (cuda), used: True\n",
      "TPU available: False, using: 0 TPU cores\n",
      "HPU available: False, using: 0 HPUs\n",
      "LOCAL_RANK: 0 - CUDA_VISIBLE_DEVICES: [0]\n"
     ]
    },
    {
     "name": "stdout",
     "output_type": "stream",
     "text": [
      "Current value: 0.021538564458098024, Current params: {'input_chunk_length': 27, 'output_chunk_length': 15, 'dropout': 0.15790247428533213, 'batch_size': 95, 'lr': 0.001353482354637061, 'weight_decay': 1.897072634647381e-06, 'hidden_size': 64, 'num_encoder_layers': 3, 'num_decoder_layers': 2, 'temporal_width_past': 2, 'temporal_width_future': 1, 'use_reversible_instance_norm': True, 'loss_fn': 'smoothl1', 'optimizer': 'Adam'}\n",
      "Best value: 0.07537033374535873, Best params: {'input_chunk_length': 25, 'output_chunk_length': 1, 'dropout': 0.21681024106774108, 'batch_size': 88, 'lr': 0.003388720125598311, 'weight_decay': 1.0874880175491006e-06, 'hidden_size': 64, 'num_encoder_layers': 3, 'num_decoder_layers': 2, 'temporal_width_past': 2, 'temporal_width_future': 1, 'use_reversible_instance_norm': True, 'loss_fn': 'smoothl1', 'optimizer': 'Adam'}\n",
      "\n",
      "Starting Trial 77\n",
      "Hyperparameters: {'input_chunk_length': 46, 'output_chunk_length': 3, 'dropout': 0.23863462443513575, 'batch_size': 79, 'lr': 0.0019086441961061436, 'weight_decay': 1.0090020970295558e-06, 'hidden_size': 64, 'num_encoder_layers': 3, 'num_decoder_layers': 2, 'temporal_width_past': 3, 'temporal_width_future': 1, 'use_reversible_instance_norm': False, 'loss_fn': 'mse', 'optimizer': 'SGD'}\n",
      "\n",
      "Training the model...\n",
      "Train set: 6647 samples\n",
      "Validation set: 1662 samples\n"
     ]
    },
    {
     "name": "stderr",
     "output_type": "stream",
     "text": [
      "[I 2025-05-27 20:39:28,478] Trial 77 pruned. Trial was pruned at epoch 0.\n"
     ]
    },
    {
     "name": "stdout",
     "output_type": "stream",
     "text": [
      "Current value: 0.05590842498036362, Current params: {'input_chunk_length': 46, 'output_chunk_length': 3, 'dropout': 0.23863462443513575, 'batch_size': 79, 'lr': 0.0019086441961061436, 'weight_decay': 1.0090020970295558e-06, 'hidden_size': 64, 'num_encoder_layers': 3, 'num_decoder_layers': 2, 'temporal_width_past': 3, 'temporal_width_future': 1, 'use_reversible_instance_norm': False, 'loss_fn': 'mse', 'optimizer': 'SGD'}\n",
      "Best value: 0.07537033374535873, Best params: {'input_chunk_length': 25, 'output_chunk_length': 1, 'dropout': 0.21681024106774108, 'batch_size': 88, 'lr': 0.003388720125598311, 'weight_decay': 1.0874880175491006e-06, 'hidden_size': 64, 'num_encoder_layers': 3, 'num_decoder_layers': 2, 'temporal_width_past': 2, 'temporal_width_future': 1, 'use_reversible_instance_norm': True, 'loss_fn': 'smoothl1', 'optimizer': 'Adam'}\n",
      "\n",
      "Starting Trial 78\n",
      "Hyperparameters: {'input_chunk_length': 31, 'output_chunk_length': 19, 'dropout': 0.22065516670354854, 'batch_size': 64, 'lr': 0.002890405697981004, 'weight_decay': 4.095527229174862e-06, 'hidden_size': 128, 'num_encoder_layers': 3, 'num_decoder_layers': 2, 'temporal_width_past': 2, 'temporal_width_future': 1, 'use_reversible_instance_norm': True, 'loss_fn': 'smoothl1', 'optimizer': 'Adam'}\n",
      "\n",
      "Training the model...\n",
      "Train set: 6647 samples\n",
      "Validation set: 1662 samples\n"
     ]
    },
    {
     "name": "stderr",
     "output_type": "stream",
     "text": [
      "GPU available: True (cuda), used: True\n",
      "TPU available: False, using: 0 TPU cores\n",
      "HPU available: False, using: 0 HPUs\n",
      "LOCAL_RANK: 0 - CUDA_VISIBLE_DEVICES: [0]\n",
      "[I 2025-05-27 20:49:31,646] Trial 78 pruned. Trial was pruned at epoch 0.\n",
      "GPU available: True (cuda), used: True\n",
      "TPU available: False, using: 0 TPU cores\n",
      "HPU available: False, using: 0 HPUs\n",
      "LOCAL_RANK: 0 - CUDA_VISIBLE_DEVICES: [0]\n"
     ]
    },
    {
     "name": "stdout",
     "output_type": "stream",
     "text": [
      "Current value: 0.02061707358100966, Current params: {'input_chunk_length': 31, 'output_chunk_length': 19, 'dropout': 0.22065516670354854, 'batch_size': 64, 'lr': 0.002890405697981004, 'weight_decay': 4.095527229174862e-06, 'hidden_size': 128, 'num_encoder_layers': 3, 'num_decoder_layers': 2, 'temporal_width_past': 2, 'temporal_width_future': 1, 'use_reversible_instance_norm': True, 'loss_fn': 'smoothl1', 'optimizer': 'Adam'}\n",
      "Best value: 0.07537033374535873, Best params: {'input_chunk_length': 25, 'output_chunk_length': 1, 'dropout': 0.21681024106774108, 'batch_size': 88, 'lr': 0.003388720125598311, 'weight_decay': 1.0874880175491006e-06, 'hidden_size': 64, 'num_encoder_layers': 3, 'num_decoder_layers': 2, 'temporal_width_past': 2, 'temporal_width_future': 1, 'use_reversible_instance_norm': True, 'loss_fn': 'smoothl1', 'optimizer': 'Adam'}\n",
      "\n",
      "Starting Trial 79\n",
      "Hyperparameters: {'input_chunk_length': 28, 'output_chunk_length': 1, 'dropout': 0.25514985426186043, 'batch_size': 111, 'lr': 0.004980841340630088, 'weight_decay': 2.7718894798484163e-06, 'hidden_size': 64, 'num_encoder_layers': 3, 'num_decoder_layers': 2, 'temporal_width_past': 5, 'temporal_width_future': 5, 'use_reversible_instance_norm': True, 'loss_fn': 'huber', 'optimizer': 'AdamW'}\n",
      "\n",
      "Training the model...\n",
      "Train set: 6647 samples\n",
      "Validation set: 1662 samples\n"
     ]
    },
    {
     "name": "stderr",
     "output_type": "stream",
     "text": [
      "Metric val_loss improved. New best score: 0.013\n",
      "Metric val_loss improved by 0.001 >= min_delta = 0.0005. New best score: 0.012\n",
      "Monitored metric val_loss did not improve in the last 15 records. Best score: 0.012. Signaling Trainer to stop.\n",
      "GPU available: True (cuda), used: True\n",
      "TPU available: False, using: 0 TPU cores\n",
      "HPU available: False, using: 0 HPUs\n",
      "LOCAL_RANK: 0 - CUDA_VISIBLE_DEVICES: [0]\n"
     ]
    },
    {
     "name": "stdout",
     "output_type": "stream",
     "text": [
      "Model loaded from checkpoint for trial 79\n"
     ]
    },
    {
     "name": "stderr",
     "output_type": "stream",
     "text": [
      "/home/eduardo/Documentos/Water-Cycle-Neural-Network/venv/lib/python3.12/site-packages/pytorch_lightning/trainer/connectors/data_connector.py:425: The 'predict_dataloader' does not have many workers which may be a bottleneck. Consider increasing the value of the `num_workers` argument` to `num_workers=11` in the `DataLoader` to improve performance.\n",
      "[I 2025-05-27 20:49:55,410] Trial 79 finished with value: 0.07569822892504585 and parameters: {'input_chunk_length': 28, 'output_chunk_length': 1, 'dropout': 0.25514985426186043, 'batch_size': 111, 'lr': 0.004980841340630088, 'weight_decay': 2.7718894798484163e-06, 'hidden_size': 64, 'num_encoder_layers': 3, 'num_decoder_layers': 2, 'temporal_width_past': 5, 'temporal_width_future': 5, 'use_reversible_instance_norm': True, 'loss_fn': 'huber', 'optimizer': 'AdamW'}. Best is trial 51 with value: 0.07537033374535873.\n"
     ]
    },
    {
     "name": "stdout",
     "output_type": "stream",
     "text": [
      "Starting time series verification for consistency...\n",
      "\n",
      "Performance metrics:\n",
      "                                   MSE       RMSE        MAE        R2  \\\n",
      "Temperature                   1.367189   1.169268   0.886746  0.955117   \n",
      "Precipitation_accumulated     0.477211   0.690804   0.663610  0.861168   \n",
      "Humidity                     12.232046   3.497434   2.462232  0.916529   \n",
      "Wind_Speed_kmh                0.592186   0.769536   0.586662  0.561264   \n",
      "Soil_Moisture              1311.772600  36.218401  14.691821  0.977151   \n",
      "Soil_Temperature              0.328341   0.573010   0.427639  0.979648   \n",
      "Wind_Dir_Sin                  0.369096   0.607532   0.476773  0.329293   \n",
      "Wind_Dir_Cos                  0.319288   0.565056   0.447923  0.130090   \n",
      "\n",
      "                                SMAPE  \n",
      "Temperature                 18.015742  \n",
      "Precipitation_accumulated    0.142736  \n",
      "Humidity                     2.936439  \n",
      "Wind_Speed_kmh              59.273435  \n",
      "Soil_Moisture                0.171432  \n",
      "Soil_Temperature             7.192431  \n",
      "Wind_Dir_Sin                93.797130  \n",
      "Wind_Dir_Cos               108.676386  \n",
      "The MAE for this fold was 0.07569822892504585\n",
      "Results of trial 79 saved in optuna_iteration_metrics/trial_79.json\n",
      "Current value: 0.07569822892504585, Current params: {'input_chunk_length': 28, 'output_chunk_length': 1, 'dropout': 0.25514985426186043, 'batch_size': 111, 'lr': 0.004980841340630088, 'weight_decay': 2.7718894798484163e-06, 'hidden_size': 64, 'num_encoder_layers': 3, 'num_decoder_layers': 2, 'temporal_width_past': 5, 'temporal_width_future': 5, 'use_reversible_instance_norm': True, 'loss_fn': 'huber', 'optimizer': 'AdamW'}\n",
      "Best value: 0.07537033374535873, Best params: {'input_chunk_length': 25, 'output_chunk_length': 1, 'dropout': 0.21681024106774108, 'batch_size': 88, 'lr': 0.003388720125598311, 'weight_decay': 1.0874880175491006e-06, 'hidden_size': 64, 'num_encoder_layers': 3, 'num_decoder_layers': 2, 'temporal_width_past': 2, 'temporal_width_future': 1, 'use_reversible_instance_norm': True, 'loss_fn': 'smoothl1', 'optimizer': 'Adam'}\n",
      "\n",
      "Starting Trial 80\n",
      "Hyperparameters: {'input_chunk_length': 59, 'output_chunk_length': 12, 'dropout': 0.25067815564627477, 'batch_size': 109, 'lr': 0.004532211530873585, 'weight_decay': 3.1041983987646774e-06, 'hidden_size': 64, 'num_encoder_layers': 2, 'num_decoder_layers': 3, 'temporal_width_past': 5, 'temporal_width_future': 5, 'use_reversible_instance_norm': True, 'loss_fn': 'huber', 'optimizer': 'AdamW'}\n",
      "\n",
      "Training the model...\n",
      "Train set: 6647 samples\n",
      "Validation set: 1662 samples\n"
     ]
    },
    {
     "name": "stderr",
     "output_type": "stream",
     "text": [
      "GPU available: True (cuda), used: True\n",
      "TPU available: False, using: 0 TPU cores\n",
      "HPU available: False, using: 0 HPUs\n",
      "LOCAL_RANK: 0 - CUDA_VISIBLE_DEVICES: [0]\n",
      "[I 2025-05-27 20:49:57,365] Trial 80 pruned. Trial was pruned at epoch 0.\n",
      "GPU available: True (cuda), used: True\n",
      "TPU available: False, using: 0 TPU cores\n",
      "HPU available: False, using: 0 HPUs\n",
      "LOCAL_RANK: 0 - CUDA_VISIBLE_DEVICES: [0]\n"
     ]
    },
    {
     "name": "stdout",
     "output_type": "stream",
     "text": [
      "Current value: 0.018429494451545816, Current params: {'input_chunk_length': 59, 'output_chunk_length': 12, 'dropout': 0.25067815564627477, 'batch_size': 109, 'lr': 0.004532211530873585, 'weight_decay': 3.1041983987646774e-06, 'hidden_size': 64, 'num_encoder_layers': 2, 'num_decoder_layers': 3, 'temporal_width_past': 5, 'temporal_width_future': 5, 'use_reversible_instance_norm': True, 'loss_fn': 'huber', 'optimizer': 'AdamW'}\n",
      "Best value: 0.07537033374535873, Best params: {'input_chunk_length': 25, 'output_chunk_length': 1, 'dropout': 0.21681024106774108, 'batch_size': 88, 'lr': 0.003388720125598311, 'weight_decay': 1.0874880175491006e-06, 'hidden_size': 64, 'num_encoder_layers': 3, 'num_decoder_layers': 2, 'temporal_width_past': 2, 'temporal_width_future': 1, 'use_reversible_instance_norm': True, 'loss_fn': 'smoothl1', 'optimizer': 'Adam'}\n",
      "\n",
      "Starting Trial 81\n",
      "Hyperparameters: {'input_chunk_length': 28, 'output_chunk_length': 1, 'dropout': 0.26148571039941676, 'batch_size': 98, 'lr': 0.003934925842663647, 'weight_decay': 1.3496056482398936e-06, 'hidden_size': 64, 'num_encoder_layers': 3, 'num_decoder_layers': 2, 'temporal_width_past': 2, 'temporal_width_future': 4, 'use_reversible_instance_norm': True, 'loss_fn': 'huber', 'optimizer': 'AdamW'}\n",
      "\n",
      "Training the model...\n",
      "Train set: 6647 samples\n",
      "Validation set: 1662 samples\n"
     ]
    },
    {
     "name": "stderr",
     "output_type": "stream",
     "text": [
      "Metric val_loss improved. New best score: 0.013\n",
      "Metric val_loss improved by 0.001 >= min_delta = 0.0005. New best score: 0.012\n",
      "Monitored metric val_loss did not improve in the last 15 records. Best score: 0.012. Signaling Trainer to stop.\n",
      "GPU available: True (cuda), used: True\n",
      "TPU available: False, using: 0 TPU cores\n",
      "HPU available: False, using: 0 HPUs\n",
      "LOCAL_RANK: 0 - CUDA_VISIBLE_DEVICES: [0]\n"
     ]
    },
    {
     "name": "stdout",
     "output_type": "stream",
     "text": [
      "Model loaded from checkpoint for trial 81\n"
     ]
    },
    {
     "name": "stderr",
     "output_type": "stream",
     "text": [
      "/home/eduardo/Documentos/Water-Cycle-Neural-Network/venv/lib/python3.12/site-packages/pytorch_lightning/trainer/connectors/data_connector.py:425: The 'predict_dataloader' does not have many workers which may be a bottleneck. Consider increasing the value of the `num_workers` argument` to `num_workers=11` in the `DataLoader` to improve performance.\n",
      "[I 2025-05-27 20:52:02,324] Trial 81 finished with value: 0.07640936208626925 and parameters: {'input_chunk_length': 28, 'output_chunk_length': 1, 'dropout': 0.26148571039941676, 'batch_size': 98, 'lr': 0.003934925842663647, 'weight_decay': 1.3496056482398936e-06, 'hidden_size': 64, 'num_encoder_layers': 3, 'num_decoder_layers': 2, 'temporal_width_past': 2, 'temporal_width_future': 4, 'use_reversible_instance_norm': True, 'loss_fn': 'huber', 'optimizer': 'AdamW'}. Best is trial 51 with value: 0.07537033374535873.\n"
     ]
    },
    {
     "name": "stdout",
     "output_type": "stream",
     "text": [
      "Starting time series verification for consistency...\n",
      "\n",
      "Performance metrics:\n",
      "                                   MSE       RMSE        MAE        R2  \\\n",
      "Temperature                   1.724256   1.313109   0.982861  0.943395   \n",
      "Precipitation_accumulated     0.230914   0.480535   0.446272  0.932821   \n",
      "Humidity                     13.238532   3.638479   2.589228  0.909661   \n",
      "Wind_Speed_kmh                0.602375   0.776128   0.595012  0.553716   \n",
      "Soil_Moisture              1110.368828  33.322197  14.068916  0.980659   \n",
      "Soil_Temperature              0.360487   0.600406   0.440829  0.977656   \n",
      "Wind_Dir_Sin                  0.370114   0.608370   0.479893  0.327442   \n",
      "Wind_Dir_Cos                  0.315481   0.561677   0.446625  0.140461   \n",
      "\n",
      "                                SMAPE  \n",
      "Temperature                 18.712534  \n",
      "Precipitation_accumulated    0.096042  \n",
      "Humidity                     3.087619  \n",
      "Wind_Speed_kmh              59.321780  \n",
      "Soil_Moisture                0.164115  \n",
      "Soil_Temperature             7.223288  \n",
      "Wind_Dir_Sin                95.342210  \n",
      "Wind_Dir_Cos               107.810000  \n",
      "The MAE for this fold was 0.07640936208626925\n",
      "Results of trial 81 saved in optuna_iteration_metrics/trial_81.json\n",
      "Current value: 0.07640936208626925, Current params: {'input_chunk_length': 28, 'output_chunk_length': 1, 'dropout': 0.26148571039941676, 'batch_size': 98, 'lr': 0.003934925842663647, 'weight_decay': 1.3496056482398936e-06, 'hidden_size': 64, 'num_encoder_layers': 3, 'num_decoder_layers': 2, 'temporal_width_past': 2, 'temporal_width_future': 4, 'use_reversible_instance_norm': True, 'loss_fn': 'huber', 'optimizer': 'AdamW'}\n",
      "Best value: 0.07537033374535873, Best params: {'input_chunk_length': 25, 'output_chunk_length': 1, 'dropout': 0.21681024106774108, 'batch_size': 88, 'lr': 0.003388720125598311, 'weight_decay': 1.0874880175491006e-06, 'hidden_size': 64, 'num_encoder_layers': 3, 'num_decoder_layers': 2, 'temporal_width_past': 2, 'temporal_width_future': 1, 'use_reversible_instance_norm': True, 'loss_fn': 'smoothl1', 'optimizer': 'Adam'}\n",
      "\n",
      "Starting Trial 82\n",
      "Hyperparameters: {'input_chunk_length': 28, 'output_chunk_length': 1, 'dropout': 0.26158827647177646, 'batch_size': 119, 'lr': 0.003958657220159631, 'weight_decay': 2.52085535472856e-06, 'hidden_size': 64, 'num_encoder_layers': 3, 'num_decoder_layers': 2, 'temporal_width_past': 5, 'temporal_width_future': 4, 'use_reversible_instance_norm': True, 'loss_fn': 'huber', 'optimizer': 'AdamW'}\n",
      "\n",
      "Training the model...\n",
      "Train set: 6647 samples\n",
      "Validation set: 1662 samples\n"
     ]
    },
    {
     "name": "stderr",
     "output_type": "stream",
     "text": [
      "GPU available: True (cuda), used: True\n",
      "TPU available: False, using: 0 TPU cores\n",
      "HPU available: False, using: 0 HPUs\n",
      "LOCAL_RANK: 0 - CUDA_VISIBLE_DEVICES: [0]\n",
      "Metric val_loss improved. New best score: 0.013\n",
      "Metric val_loss improved by 0.001 >= min_delta = 0.0005. New best score: 0.012\n",
      "Monitored metric val_loss did not improve in the last 15 records. Best score: 0.012. Signaling Trainer to stop.\n",
      "GPU available: True (cuda), used: True\n",
      "TPU available: False, using: 0 TPU cores\n",
      "HPU available: False, using: 0 HPUs\n",
      "LOCAL_RANK: 0 - CUDA_VISIBLE_DEVICES: [0]\n"
     ]
    },
    {
     "name": "stdout",
     "output_type": "stream",
     "text": [
      "Model loaded from checkpoint for trial 82\n"
     ]
    },
    {
     "name": "stderr",
     "output_type": "stream",
     "text": [
      "/home/eduardo/Documentos/Water-Cycle-Neural-Network/venv/lib/python3.12/site-packages/pytorch_lightning/trainer/connectors/data_connector.py:425: The 'predict_dataloader' does not have many workers which may be a bottleneck. Consider increasing the value of the `num_workers` argument` to `num_workers=11` in the `DataLoader` to improve performance.\n",
      "[I 2025-05-27 20:52:25,366] Trial 82 finished with value: 0.07728693974438268 and parameters: {'input_chunk_length': 28, 'output_chunk_length': 1, 'dropout': 0.26158827647177646, 'batch_size': 119, 'lr': 0.003958657220159631, 'weight_decay': 2.52085535472856e-06, 'hidden_size': 64, 'num_encoder_layers': 3, 'num_decoder_layers': 2, 'temporal_width_past': 5, 'temporal_width_future': 4, 'use_reversible_instance_norm': True, 'loss_fn': 'huber', 'optimizer': 'AdamW'}. Best is trial 51 with value: 0.07537033374535873.\n"
     ]
    },
    {
     "name": "stdout",
     "output_type": "stream",
     "text": [
      "Starting time series verification for consistency...\n",
      "\n",
      "Performance metrics:\n",
      "                                   MSE       RMSE        MAE        R2  \\\n",
      "Temperature                   1.592381   1.261896   0.946096  0.947725   \n",
      "Precipitation_accumulated     0.081556   0.285580   0.230450  0.976273   \n",
      "Humidity                     13.359406   3.655052   2.555919  0.908836   \n",
      "Wind_Speed_kmh                0.612921   0.782892   0.599023  0.545903   \n",
      "Soil_Moisture              1370.587723  37.021449  16.779894  0.976127   \n",
      "Soil_Temperature              0.375256   0.612581   0.457072  0.976740   \n",
      "Wind_Dir_Sin                  0.376006   0.613193   0.492488  0.316736   \n",
      "Wind_Dir_Cos                  0.317396   0.563379   0.448804  0.135246   \n",
      "\n",
      "                                SMAPE  \n",
      "Temperature                 18.986846  \n",
      "Precipitation_accumulated    0.049638  \n",
      "Humidity                     3.046544  \n",
      "Wind_Speed_kmh              59.642318  \n",
      "Soil_Moisture                0.195679  \n",
      "Soil_Temperature             7.440895  \n",
      "Wind_Dir_Sin                98.080186  \n",
      "Wind_Dir_Cos               109.599687  \n",
      "The MAE for this fold was 0.07728693974438268\n",
      "Results of trial 82 saved in optuna_iteration_metrics/trial_82.json\n",
      "Current value: 0.07728693974438268, Current params: {'input_chunk_length': 28, 'output_chunk_length': 1, 'dropout': 0.26158827647177646, 'batch_size': 119, 'lr': 0.003958657220159631, 'weight_decay': 2.52085535472856e-06, 'hidden_size': 64, 'num_encoder_layers': 3, 'num_decoder_layers': 2, 'temporal_width_past': 5, 'temporal_width_future': 4, 'use_reversible_instance_norm': True, 'loss_fn': 'huber', 'optimizer': 'AdamW'}\n",
      "Best value: 0.07537033374535873, Best params: {'input_chunk_length': 25, 'output_chunk_length': 1, 'dropout': 0.21681024106774108, 'batch_size': 88, 'lr': 0.003388720125598311, 'weight_decay': 1.0874880175491006e-06, 'hidden_size': 64, 'num_encoder_layers': 3, 'num_decoder_layers': 2, 'temporal_width_past': 2, 'temporal_width_future': 1, 'use_reversible_instance_norm': True, 'loss_fn': 'smoothl1', 'optimizer': 'Adam'}\n",
      "\n",
      "Starting Trial 83\n",
      "Hyperparameters: {'input_chunk_length': 25, 'output_chunk_length': 2, 'dropout': 0.3037496602496824, 'batch_size': 133, 'lr': 0.0031805984804919585, 'weight_decay': 1.5388671804857911e-06, 'hidden_size': 64, 'num_encoder_layers': 3, 'num_decoder_layers': 2, 'temporal_width_past': 2, 'temporal_width_future': 5, 'use_reversible_instance_norm': True, 'loss_fn': 'huber', 'optimizer': 'AdamW'}\n",
      "\n",
      "Training the model...\n",
      "Train set: 6647 samples\n",
      "Validation set: 1662 samples\n"
     ]
    },
    {
     "name": "stderr",
     "output_type": "stream",
     "text": [
      "GPU available: True (cuda), used: True\n",
      "TPU available: False, using: 0 TPU cores\n",
      "HPU available: False, using: 0 HPUs\n",
      "LOCAL_RANK: 0 - CUDA_VISIBLE_DEVICES: [0]\n",
      "[I 2025-05-27 20:52:27,134] Trial 83 pruned. Trial was pruned at epoch 0.\n",
      "GPU available: True (cuda), used: True\n",
      "TPU available: False, using: 0 TPU cores\n",
      "HPU available: False, using: 0 HPUs\n",
      "LOCAL_RANK: 0 - CUDA_VISIBLE_DEVICES: [0]\n"
     ]
    },
    {
     "name": "stdout",
     "output_type": "stream",
     "text": [
      "Current value: 0.014385266983420826, Current params: {'input_chunk_length': 25, 'output_chunk_length': 2, 'dropout': 0.3037496602496824, 'batch_size': 133, 'lr': 0.0031805984804919585, 'weight_decay': 1.5388671804857911e-06, 'hidden_size': 64, 'num_encoder_layers': 3, 'num_decoder_layers': 2, 'temporal_width_past': 2, 'temporal_width_future': 5, 'use_reversible_instance_norm': True, 'loss_fn': 'huber', 'optimizer': 'AdamW'}\n",
      "Best value: 0.07537033374535873, Best params: {'input_chunk_length': 25, 'output_chunk_length': 1, 'dropout': 0.21681024106774108, 'batch_size': 88, 'lr': 0.003388720125598311, 'weight_decay': 1.0874880175491006e-06, 'hidden_size': 64, 'num_encoder_layers': 3, 'num_decoder_layers': 2, 'temporal_width_past': 2, 'temporal_width_future': 1, 'use_reversible_instance_norm': True, 'loss_fn': 'smoothl1', 'optimizer': 'Adam'}\n",
      "\n",
      "Starting Trial 84\n",
      "Hyperparameters: {'input_chunk_length': 27, 'output_chunk_length': 2, 'dropout': 0.2321268194955626, 'batch_size': 103, 'lr': 0.003842885631705411, 'weight_decay': 7.317550210742332e-06, 'hidden_size': 64, 'num_encoder_layers': 3, 'num_decoder_layers': 2, 'temporal_width_past': 4, 'temporal_width_future': 5, 'use_reversible_instance_norm': True, 'loss_fn': 'huber', 'optimizer': 'AdamW'}\n",
      "\n",
      "Training the model...\n",
      "Train set: 6647 samples\n",
      "Validation set: 1662 samples\n"
     ]
    },
    {
     "name": "stderr",
     "output_type": "stream",
     "text": [
      "[I 2025-05-27 20:52:29,117] Trial 84 pruned. Trial was pruned at epoch 0.\n",
      "GPU available: True (cuda), used: True\n",
      "TPU available: False, using: 0 TPU cores\n",
      "HPU available: False, using: 0 HPUs\n",
      "LOCAL_RANK: 0 - CUDA_VISIBLE_DEVICES: [0]\n"
     ]
    },
    {
     "name": "stdout",
     "output_type": "stream",
     "text": [
      "Current value: 0.013931315079464067, Current params: {'input_chunk_length': 27, 'output_chunk_length': 2, 'dropout': 0.2321268194955626, 'batch_size': 103, 'lr': 0.003842885631705411, 'weight_decay': 7.317550210742332e-06, 'hidden_size': 64, 'num_encoder_layers': 3, 'num_decoder_layers': 2, 'temporal_width_past': 4, 'temporal_width_future': 5, 'use_reversible_instance_norm': True, 'loss_fn': 'huber', 'optimizer': 'AdamW'}\n",
      "Best value: 0.07537033374535873, Best params: {'input_chunk_length': 25, 'output_chunk_length': 1, 'dropout': 0.21681024106774108, 'batch_size': 88, 'lr': 0.003388720125598311, 'weight_decay': 1.0874880175491006e-06, 'hidden_size': 64, 'num_encoder_layers': 3, 'num_decoder_layers': 2, 'temporal_width_past': 2, 'temporal_width_future': 1, 'use_reversible_instance_norm': True, 'loss_fn': 'smoothl1', 'optimizer': 'Adam'}\n",
      "\n",
      "Starting Trial 85\n",
      "Hyperparameters: {'input_chunk_length': 30, 'output_chunk_length': 3, 'dropout': 0.275910701665592, 'batch_size': 97, 'lr': 0.004637214586905447, 'weight_decay': 1.8192229910782652e-06, 'hidden_size': 64, 'num_encoder_layers': 3, 'num_decoder_layers': 2, 'temporal_width_past': 2, 'temporal_width_future': 4, 'use_reversible_instance_norm': True, 'loss_fn': 'huber', 'optimizer': 'AdamW'}\n",
      "\n",
      "Training the model...\n",
      "Train set: 6647 samples\n",
      "Validation set: 1662 samples\n"
     ]
    },
    {
     "name": "stderr",
     "output_type": "stream",
     "text": [
      "[I 2025-05-27 20:52:31,117] Trial 85 pruned. Trial was pruned at epoch 0.\n",
      "GPU available: True (cuda), used: True\n",
      "TPU available: False, using: 0 TPU cores\n",
      "HPU available: False, using: 0 HPUs\n",
      "LOCAL_RANK: 0 - CUDA_VISIBLE_DEVICES: [0]\n"
     ]
    },
    {
     "name": "stdout",
     "output_type": "stream",
     "text": [
      "Current value: 0.015515486490670692, Current params: {'input_chunk_length': 30, 'output_chunk_length': 3, 'dropout': 0.275910701665592, 'batch_size': 97, 'lr': 0.004637214586905447, 'weight_decay': 1.8192229910782652e-06, 'hidden_size': 64, 'num_encoder_layers': 3, 'num_decoder_layers': 2, 'temporal_width_past': 2, 'temporal_width_future': 4, 'use_reversible_instance_norm': True, 'loss_fn': 'huber', 'optimizer': 'AdamW'}\n",
      "Best value: 0.07537033374535873, Best params: {'input_chunk_length': 25, 'output_chunk_length': 1, 'dropout': 0.21681024106774108, 'batch_size': 88, 'lr': 0.003388720125598311, 'weight_decay': 1.0874880175491006e-06, 'hidden_size': 64, 'num_encoder_layers': 3, 'num_decoder_layers': 2, 'temporal_width_past': 2, 'temporal_width_future': 1, 'use_reversible_instance_norm': True, 'loss_fn': 'smoothl1', 'optimizer': 'Adam'}\n",
      "\n",
      "Starting Trial 86\n",
      "Hyperparameters: {'input_chunk_length': 34, 'output_chunk_length': 4, 'dropout': 0.23823666726981127, 'batch_size': 112, 'lr': 4.056392198879866e-05, 'weight_decay': 2.399357649990598e-06, 'hidden_size': 256, 'num_encoder_layers': 3, 'num_decoder_layers': 2, 'temporal_width_past': 3, 'temporal_width_future': 4, 'use_reversible_instance_norm': True, 'loss_fn': 'huber', 'optimizer': 'AdamW'}\n",
      "\n",
      "Training the model...\n",
      "Train set: 6647 samples\n",
      "Validation set: 1662 samples\n"
     ]
    },
    {
     "name": "stderr",
     "output_type": "stream",
     "text": [
      "[I 2025-05-27 20:52:33,213] Trial 86 pruned. Trial was pruned at epoch 0.\n",
      "GPU available: True (cuda), used: True\n",
      "TPU available: False, using: 0 TPU cores\n",
      "HPU available: False, using: 0 HPUs\n",
      "LOCAL_RANK: 0 - CUDA_VISIBLE_DEVICES: [0]\n"
     ]
    },
    {
     "name": "stdout",
     "output_type": "stream",
     "text": [
      "Current value: 0.022683459518106273, Current params: {'input_chunk_length': 34, 'output_chunk_length': 4, 'dropout': 0.23823666726981127, 'batch_size': 112, 'lr': 4.056392198879866e-05, 'weight_decay': 2.399357649990598e-06, 'hidden_size': 256, 'num_encoder_layers': 3, 'num_decoder_layers': 2, 'temporal_width_past': 3, 'temporal_width_future': 4, 'use_reversible_instance_norm': True, 'loss_fn': 'huber', 'optimizer': 'AdamW'}\n",
      "Best value: 0.07537033374535873, Best params: {'input_chunk_length': 25, 'output_chunk_length': 1, 'dropout': 0.21681024106774108, 'batch_size': 88, 'lr': 0.003388720125598311, 'weight_decay': 1.0874880175491006e-06, 'hidden_size': 64, 'num_encoder_layers': 3, 'num_decoder_layers': 2, 'temporal_width_past': 2, 'temporal_width_future': 1, 'use_reversible_instance_norm': True, 'loss_fn': 'smoothl1', 'optimizer': 'Adam'}\n",
      "\n",
      "Starting Trial 87\n",
      "Hyperparameters: {'input_chunk_length': 28, 'output_chunk_length': 1, 'dropout': 0.1926203832445392, 'batch_size': 83, 'lr': 0.0026720978705627547, 'weight_decay': 1.3521449600903083e-06, 'hidden_size': 64, 'num_encoder_layers': 4, 'num_decoder_layers': 2, 'temporal_width_past': 2, 'temporal_width_future': 4, 'use_reversible_instance_norm': True, 'loss_fn': 'huber', 'optimizer': 'AdamW'}\n",
      "\n",
      "Training the model...\n",
      "Train set: 6647 samples\n",
      "Validation set: 1662 samples\n"
     ]
    },
    {
     "name": "stderr",
     "output_type": "stream",
     "text": [
      "Metric val_loss improved. New best score: 0.013\n",
      "Metric val_loss improved by 0.001 >= min_delta = 0.0005. New best score: 0.012\n",
      "Metric val_loss improved by 0.001 >= min_delta = 0.0005. New best score: 0.012\n",
      "Monitored metric val_loss did not improve in the last 15 records. Best score: 0.012. Signaling Trainer to stop.\n",
      "GPU available: True (cuda), used: True\n",
      "TPU available: False, using: 0 TPU cores\n",
      "HPU available: False, using: 0 HPUs\n",
      "LOCAL_RANK: 0 - CUDA_VISIBLE_DEVICES: [0]\n"
     ]
    },
    {
     "name": "stdout",
     "output_type": "stream",
     "text": [
      "Model loaded from checkpoint for trial 87\n"
     ]
    },
    {
     "name": "stderr",
     "output_type": "stream",
     "text": [
      "/home/eduardo/Documentos/Water-Cycle-Neural-Network/venv/lib/python3.12/site-packages/pytorch_lightning/trainer/connectors/data_connector.py:425: The 'predict_dataloader' does not have many workers which may be a bottleneck. Consider increasing the value of the `num_workers` argument` to `num_workers=11` in the `DataLoader` to improve performance.\n",
      "[I 2025-05-27 20:56:22,668] Trial 87 finished with value: 0.07849354421331625 and parameters: {'input_chunk_length': 28, 'output_chunk_length': 1, 'dropout': 0.1926203832445392, 'batch_size': 83, 'lr': 0.0026720978705627547, 'weight_decay': 1.3521449600903083e-06, 'hidden_size': 64, 'num_encoder_layers': 4, 'num_decoder_layers': 2, 'temporal_width_past': 2, 'temporal_width_future': 4, 'use_reversible_instance_norm': True, 'loss_fn': 'huber', 'optimizer': 'AdamW'}. Best is trial 51 with value: 0.07537033374535873.\n"
     ]
    },
    {
     "name": "stdout",
     "output_type": "stream",
     "text": [
      "Starting time series verification for consistency...\n",
      "\n",
      "Performance metrics:\n",
      "                                   MSE       RMSE        MAE        R2  \\\n",
      "Temperature                   2.106127   1.451250   1.153349  0.930859   \n",
      "Precipitation_accumulated     0.344024   0.586536   0.495616  0.899915   \n",
      "Humidity                     13.951706   3.735198   2.672791  0.904795   \n",
      "Wind_Speed_kmh                0.649295   0.805789   0.619596  0.518953   \n",
      "Soil_Moisture              1569.810658  39.620836  17.031493  0.972657   \n",
      "Soil_Temperature              0.348146   0.590039   0.441005  0.978421   \n",
      "Wind_Dir_Sin                  0.381270   0.617470   0.495479  0.307170   \n",
      "Wind_Dir_Cos                  0.311460   0.558086   0.445452  0.151417   \n",
      "\n",
      "                                SMAPE  \n",
      "Temperature                 22.304189  \n",
      "Precipitation_accumulated    0.106613  \n",
      "Humidity                     3.178590  \n",
      "Wind_Speed_kmh              61.412297  \n",
      "Soil_Moisture                0.198833  \n",
      "Soil_Temperature             7.522700  \n",
      "Wind_Dir_Sin                99.537552  \n",
      "Wind_Dir_Cos               108.979158  \n",
      "The MAE for this fold was 0.07849354421331625\n",
      "Results of trial 87 saved in optuna_iteration_metrics/trial_87.json\n",
      "Current value: 0.07849354421331625, Current params: {'input_chunk_length': 28, 'output_chunk_length': 1, 'dropout': 0.1926203832445392, 'batch_size': 83, 'lr': 0.0026720978705627547, 'weight_decay': 1.3521449600903083e-06, 'hidden_size': 64, 'num_encoder_layers': 4, 'num_decoder_layers': 2, 'temporal_width_past': 2, 'temporal_width_future': 4, 'use_reversible_instance_norm': True, 'loss_fn': 'huber', 'optimizer': 'AdamW'}\n",
      "Best value: 0.07537033374535873, Best params: {'input_chunk_length': 25, 'output_chunk_length': 1, 'dropout': 0.21681024106774108, 'batch_size': 88, 'lr': 0.003388720125598311, 'weight_decay': 1.0874880175491006e-06, 'hidden_size': 64, 'num_encoder_layers': 3, 'num_decoder_layers': 2, 'temporal_width_past': 2, 'temporal_width_future': 1, 'use_reversible_instance_norm': True, 'loss_fn': 'smoothl1', 'optimizer': 'Adam'}\n",
      "\n",
      "Starting Trial 88\n",
      "Hyperparameters: {'input_chunk_length': 25, 'output_chunk_length': 1, 'dropout': 0.42939132200097085, 'batch_size': 75, 'lr': 0.0018658624634220787, 'weight_decay': 3.57766705823883e-05, 'hidden_size': 64, 'num_encoder_layers': 3, 'num_decoder_layers': 2, 'temporal_width_past': 3, 'temporal_width_future': 5, 'use_reversible_instance_norm': True, 'loss_fn': 'huber', 'optimizer': 'AdamW'}\n",
      "\n",
      "Training the model...\n",
      "Train set: 6647 samples\n",
      "Validation set: 1662 samples\n"
     ]
    },
    {
     "name": "stderr",
     "output_type": "stream",
     "text": [
      "GPU available: True (cuda), used: True\n",
      "TPU available: False, using: 0 TPU cores\n",
      "HPU available: False, using: 0 HPUs\n",
      "LOCAL_RANK: 0 - CUDA_VISIBLE_DEVICES: [0]\n",
      "[I 2025-05-27 20:56:24,661] Trial 88 pruned. Trial was pruned at epoch 0.\n",
      "GPU available: True (cuda), used: True\n",
      "TPU available: False, using: 0 TPU cores\n",
      "HPU available: False, using: 0 HPUs\n",
      "LOCAL_RANK: 0 - CUDA_VISIBLE_DEVICES: [0]\n"
     ]
    },
    {
     "name": "stdout",
     "output_type": "stream",
     "text": [
      "Current value: 0.014927579773479936, Current params: {'input_chunk_length': 25, 'output_chunk_length': 1, 'dropout': 0.42939132200097085, 'batch_size': 75, 'lr': 0.0018658624634220787, 'weight_decay': 3.57766705823883e-05, 'hidden_size': 64, 'num_encoder_layers': 3, 'num_decoder_layers': 2, 'temporal_width_past': 3, 'temporal_width_future': 5, 'use_reversible_instance_norm': True, 'loss_fn': 'huber', 'optimizer': 'AdamW'}\n",
      "Best value: 0.07537033374535873, Best params: {'input_chunk_length': 25, 'output_chunk_length': 1, 'dropout': 0.21681024106774108, 'batch_size': 88, 'lr': 0.003388720125598311, 'weight_decay': 1.0874880175491006e-06, 'hidden_size': 64, 'num_encoder_layers': 3, 'num_decoder_layers': 2, 'temporal_width_past': 2, 'temporal_width_future': 1, 'use_reversible_instance_norm': True, 'loss_fn': 'smoothl1', 'optimizer': 'Adam'}\n",
      "\n",
      "Starting Trial 89\n",
      "Hyperparameters: {'input_chunk_length': 29, 'output_chunk_length': 5, 'dropout': 0.2511238954062987, 'batch_size': 93, 'lr': 0.004979572410555633, 'weight_decay': 3.651844915222362e-06, 'hidden_size': 64, 'num_encoder_layers': 3, 'num_decoder_layers': 2, 'temporal_width_past': 2, 'temporal_width_future': 3, 'use_reversible_instance_norm': False, 'loss_fn': 'huber', 'optimizer': 'AdamW'}\n",
      "\n",
      "Training the model...\n",
      "Train set: 6647 samples\n",
      "Validation set: 1662 samples\n"
     ]
    },
    {
     "name": "stderr",
     "output_type": "stream",
     "text": [
      "[I 2025-05-27 20:56:26,669] Trial 89 pruned. Trial was pruned at epoch 0.\n",
      "GPU available: True (cuda), used: True\n",
      "TPU available: False, using: 0 TPU cores\n",
      "HPU available: False, using: 0 HPUs\n",
      "LOCAL_RANK: 0 - CUDA_VISIBLE_DEVICES: [0]\n"
     ]
    },
    {
     "name": "stdout",
     "output_type": "stream",
     "text": [
      "Current value: 0.021952977456519036, Current params: {'input_chunk_length': 29, 'output_chunk_length': 5, 'dropout': 0.2511238954062987, 'batch_size': 93, 'lr': 0.004979572410555633, 'weight_decay': 3.651844915222362e-06, 'hidden_size': 64, 'num_encoder_layers': 3, 'num_decoder_layers': 2, 'temporal_width_past': 2, 'temporal_width_future': 3, 'use_reversible_instance_norm': False, 'loss_fn': 'huber', 'optimizer': 'AdamW'}\n",
      "Best value: 0.07537033374535873, Best params: {'input_chunk_length': 25, 'output_chunk_length': 1, 'dropout': 0.21681024106774108, 'batch_size': 88, 'lr': 0.003388720125598311, 'weight_decay': 1.0874880175491006e-06, 'hidden_size': 64, 'num_encoder_layers': 3, 'num_decoder_layers': 2, 'temporal_width_past': 2, 'temporal_width_future': 1, 'use_reversible_instance_norm': True, 'loss_fn': 'smoothl1', 'optimizer': 'Adam'}\n",
      "\n",
      "Starting Trial 90\n",
      "Hyperparameters: {'input_chunk_length': 31, 'output_chunk_length': 3, 'dropout': 0.21125057813406137, 'batch_size': 87, 'lr': 0.00324007048850216, 'weight_decay': 0.001489275578221457, 'hidden_size': 64, 'num_encoder_layers': 3, 'num_decoder_layers': 2, 'temporal_width_past': 1, 'temporal_width_future': 3, 'use_reversible_instance_norm': True, 'loss_fn': 'huber', 'optimizer': 'SGD'}\n",
      "\n",
      "Training the model...\n",
      "Train set: 6647 samples\n",
      "Validation set: 1662 samples\n"
     ]
    },
    {
     "name": "stderr",
     "output_type": "stream",
     "text": [
      "[I 2025-05-27 20:56:28,749] Trial 90 pruned. Trial was pruned at epoch 0.\n",
      "GPU available: True (cuda), used: True\n",
      "TPU available: False, using: 0 TPU cores\n",
      "HPU available: False, using: 0 HPUs\n",
      "LOCAL_RANK: 0 - CUDA_VISIBLE_DEVICES: [0]\n"
     ]
    },
    {
     "name": "stdout",
     "output_type": "stream",
     "text": [
      "Current value: 0.02522510369013657, Current params: {'input_chunk_length': 31, 'output_chunk_length': 3, 'dropout': 0.21125057813406137, 'batch_size': 87, 'lr': 0.00324007048850216, 'weight_decay': 0.001489275578221457, 'hidden_size': 64, 'num_encoder_layers': 3, 'num_decoder_layers': 2, 'temporal_width_past': 1, 'temporal_width_future': 3, 'use_reversible_instance_norm': True, 'loss_fn': 'huber', 'optimizer': 'SGD'}\n",
      "Best value: 0.07537033374535873, Best params: {'input_chunk_length': 25, 'output_chunk_length': 1, 'dropout': 0.21681024106774108, 'batch_size': 88, 'lr': 0.003388720125598311, 'weight_decay': 1.0874880175491006e-06, 'hidden_size': 64, 'num_encoder_layers': 3, 'num_decoder_layers': 2, 'temporal_width_past': 2, 'temporal_width_future': 1, 'use_reversible_instance_norm': True, 'loss_fn': 'smoothl1', 'optimizer': 'Adam'}\n",
      "\n",
      "Starting Trial 91\n",
      "Hyperparameters: {'input_chunk_length': 26, 'output_chunk_length': 1, 'dropout': 0.22763796057100277, 'batch_size': 91, 'lr': 0.002215717963909034, 'weight_decay': 1.2592696174815151e-06, 'hidden_size': 64, 'num_encoder_layers': 3, 'num_decoder_layers': 2, 'temporal_width_past': 2, 'temporal_width_future': 1, 'use_reversible_instance_norm': True, 'loss_fn': 'smoothl1', 'optimizer': 'Adam'}\n",
      "\n",
      "Training the model...\n",
      "Train set: 6647 samples\n",
      "Validation set: 1662 samples\n"
     ]
    },
    {
     "name": "stderr",
     "output_type": "stream",
     "text": [
      "Metric val_loss improved. New best score: 0.013\n",
      "Metric val_loss improved by 0.001 >= min_delta = 0.0005. New best score: 0.012\n",
      "[I 2025-05-27 20:56:33,541] Trial 91 pruned. Trial was pruned at epoch 2.\n",
      "GPU available: True (cuda), used: True\n",
      "TPU available: False, using: 0 TPU cores\n",
      "HPU available: False, using: 0 HPUs\n",
      "LOCAL_RANK: 0 - CUDA_VISIBLE_DEVICES: [0]\n"
     ]
    },
    {
     "name": "stdout",
     "output_type": "stream",
     "text": [
      "Current value: 0.012576723915368659, Current params: {'input_chunk_length': 26, 'output_chunk_length': 1, 'dropout': 0.22763796057100277, 'batch_size': 91, 'lr': 0.002215717963909034, 'weight_decay': 1.2592696174815151e-06, 'hidden_size': 64, 'num_encoder_layers': 3, 'num_decoder_layers': 2, 'temporal_width_past': 2, 'temporal_width_future': 1, 'use_reversible_instance_norm': True, 'loss_fn': 'smoothl1', 'optimizer': 'Adam'}\n",
      "Best value: 0.07537033374535873, Best params: {'input_chunk_length': 25, 'output_chunk_length': 1, 'dropout': 0.21681024106774108, 'batch_size': 88, 'lr': 0.003388720125598311, 'weight_decay': 1.0874880175491006e-06, 'hidden_size': 64, 'num_encoder_layers': 3, 'num_decoder_layers': 2, 'temporal_width_past': 2, 'temporal_width_future': 1, 'use_reversible_instance_norm': True, 'loss_fn': 'smoothl1', 'optimizer': 'Adam'}\n",
      "\n",
      "Starting Trial 92\n",
      "Hyperparameters: {'input_chunk_length': 24, 'output_chunk_length': 2, 'dropout': 0.2211320074179549, 'batch_size': 100, 'lr': 0.002357927831574005, 'weight_decay': 1.6350220742290333e-06, 'hidden_size': 64, 'num_encoder_layers': 3, 'num_decoder_layers': 2, 'temporal_width_past': 2, 'temporal_width_future': 4, 'use_reversible_instance_norm': True, 'loss_fn': 'smoothl1', 'optimizer': 'Adam'}\n",
      "\n",
      "Training the model...\n",
      "Train set: 6647 samples\n",
      "Validation set: 1662 samples\n"
     ]
    },
    {
     "name": "stderr",
     "output_type": "stream",
     "text": [
      "[I 2025-05-27 20:56:35,757] Trial 92 pruned. Trial was pruned at epoch 0.\n",
      "GPU available: True (cuda), used: True\n",
      "TPU available: False, using: 0 TPU cores\n",
      "HPU available: False, using: 0 HPUs\n",
      "LOCAL_RANK: 0 - CUDA_VISIBLE_DEVICES: [0]\n"
     ]
    },
    {
     "name": "stdout",
     "output_type": "stream",
     "text": [
      "Current value: 0.015213761909536603, Current params: {'input_chunk_length': 24, 'output_chunk_length': 2, 'dropout': 0.2211320074179549, 'batch_size': 100, 'lr': 0.002357927831574005, 'weight_decay': 1.6350220742290333e-06, 'hidden_size': 64, 'num_encoder_layers': 3, 'num_decoder_layers': 2, 'temporal_width_past': 2, 'temporal_width_future': 4, 'use_reversible_instance_norm': True, 'loss_fn': 'smoothl1', 'optimizer': 'Adam'}\n",
      "Best value: 0.07537033374535873, Best params: {'input_chunk_length': 25, 'output_chunk_length': 1, 'dropout': 0.21681024106774108, 'batch_size': 88, 'lr': 0.003388720125598311, 'weight_decay': 1.0874880175491006e-06, 'hidden_size': 64, 'num_encoder_layers': 3, 'num_decoder_layers': 2, 'temporal_width_past': 2, 'temporal_width_future': 1, 'use_reversible_instance_norm': True, 'loss_fn': 'smoothl1', 'optimizer': 'Adam'}\n",
      "\n",
      "Starting Trial 93\n",
      "Hyperparameters: {'input_chunk_length': 27, 'output_chunk_length': 1, 'dropout': 0.266993635327892, 'batch_size': 106, 'lr': 0.003823367913874939, 'weight_decay': 2.290064758808881e-06, 'hidden_size': 64, 'num_encoder_layers': 3, 'num_decoder_layers': 2, 'temporal_width_past': 2, 'temporal_width_future': 1, 'use_reversible_instance_norm': True, 'loss_fn': 'smoothl1', 'optimizer': 'Adam'}\n",
      "\n",
      "Training the model...\n",
      "Train set: 6647 samples\n",
      "Validation set: 1662 samples\n"
     ]
    },
    {
     "name": "stderr",
     "output_type": "stream",
     "text": [
      "Metric val_loss improved. New best score: 0.013\n",
      "Metric val_loss improved by 0.001 >= min_delta = 0.0005. New best score: 0.012\n",
      "Monitored metric val_loss did not improve in the last 15 records. Best score: 0.012. Signaling Trainer to stop.\n",
      "GPU available: True (cuda), used: True\n",
      "TPU available: False, using: 0 TPU cores\n",
      "HPU available: False, using: 0 HPUs\n",
      "LOCAL_RANK: 0 - CUDA_VISIBLE_DEVICES: [0]\n"
     ]
    },
    {
     "name": "stdout",
     "output_type": "stream",
     "text": [
      "Model loaded from checkpoint for trial 93\n"
     ]
    },
    {
     "name": "stderr",
     "output_type": "stream",
     "text": [
      "/home/eduardo/Documentos/Water-Cycle-Neural-Network/venv/lib/python3.12/site-packages/pytorch_lightning/trainer/connectors/data_connector.py:425: The 'predict_dataloader' does not have many workers which may be a bottleneck. Consider increasing the value of the `num_workers` argument` to `num_workers=11` in the `DataLoader` to improve performance.\n",
      "[I 2025-05-27 20:56:59,977] Trial 93 finished with value: 0.07676792024495249 and parameters: {'input_chunk_length': 27, 'output_chunk_length': 1, 'dropout': 0.266993635327892, 'batch_size': 106, 'lr': 0.003823367913874939, 'weight_decay': 2.290064758808881e-06, 'hidden_size': 64, 'num_encoder_layers': 3, 'num_decoder_layers': 2, 'temporal_width_past': 2, 'temporal_width_future': 1, 'use_reversible_instance_norm': True, 'loss_fn': 'smoothl1', 'optimizer': 'Adam'}. Best is trial 51 with value: 0.07537033374535873.\n"
     ]
    },
    {
     "name": "stdout",
     "output_type": "stream",
     "text": [
      "Starting time series verification for consistency...\n",
      "\n",
      "Performance metrics:\n",
      "                                   MSE       RMSE        MAE        R2  \\\n",
      "Temperature                   1.527344   1.235857   0.927822  0.949893   \n",
      "Precipitation_accumulated     0.549973   0.741602   0.661733  0.840243   \n",
      "Humidity                     13.305966   3.647734   2.597725  0.909208   \n",
      "Wind_Speed_kmh                0.608226   0.779888   0.584462  0.549927   \n",
      "Soil_Moisture              1326.987568  36.427841  14.829136  0.976963   \n",
      "Soil_Temperature              0.306497   0.553622   0.426701  0.981018   \n",
      "Wind_Dir_Sin                  0.376994   0.613998   0.487795  0.314727   \n",
      "Wind_Dir_Cos                  0.318163   0.564059   0.449226  0.133874   \n",
      "\n",
      "                                SMAPE  \n",
      "Temperature                 19.006427  \n",
      "Precipitation_accumulated    0.142354  \n",
      "Humidity                     3.099000  \n",
      "Wind_Speed_kmh              60.797218  \n",
      "Soil_Moisture                0.173083  \n",
      "Soil_Temperature             7.191708  \n",
      "Wind_Dir_Sin                96.422304  \n",
      "Wind_Dir_Cos               109.382349  \n",
      "The MAE for this fold was 0.07676792024495249\n",
      "Results of trial 93 saved in optuna_iteration_metrics/trial_93.json\n",
      "Current value: 0.07676792024495249, Current params: {'input_chunk_length': 27, 'output_chunk_length': 1, 'dropout': 0.266993635327892, 'batch_size': 106, 'lr': 0.003823367913874939, 'weight_decay': 2.290064758808881e-06, 'hidden_size': 64, 'num_encoder_layers': 3, 'num_decoder_layers': 2, 'temporal_width_past': 2, 'temporal_width_future': 1, 'use_reversible_instance_norm': True, 'loss_fn': 'smoothl1', 'optimizer': 'Adam'}\n",
      "Best value: 0.07537033374535873, Best params: {'input_chunk_length': 25, 'output_chunk_length': 1, 'dropout': 0.21681024106774108, 'batch_size': 88, 'lr': 0.003388720125598311, 'weight_decay': 1.0874880175491006e-06, 'hidden_size': 64, 'num_encoder_layers': 3, 'num_decoder_layers': 2, 'temporal_width_past': 2, 'temporal_width_future': 1, 'use_reversible_instance_norm': True, 'loss_fn': 'smoothl1', 'optimizer': 'Adam'}\n",
      "\n",
      "Starting Trial 94\n",
      "Hyperparameters: {'input_chunk_length': 27, 'output_chunk_length': 2, 'dropout': 0.29260660513146675, 'batch_size': 105, 'lr': 0.003498934492407246, 'weight_decay': 2.2885562235811422e-06, 'hidden_size': 64, 'num_encoder_layers': 3, 'num_decoder_layers': 2, 'temporal_width_past': 2, 'temporal_width_future': 1, 'use_reversible_instance_norm': True, 'loss_fn': 'smoothl1', 'optimizer': 'Adam'}\n",
      "\n",
      "Training the model...\n",
      "Train set: 6647 samples\n",
      "Validation set: 1662 samples\n"
     ]
    },
    {
     "name": "stderr",
     "output_type": "stream",
     "text": [
      "GPU available: True (cuda), used: True\n",
      "TPU available: False, using: 0 TPU cores\n",
      "HPU available: False, using: 0 HPUs\n",
      "LOCAL_RANK: 0 - CUDA_VISIBLE_DEVICES: [0]\n",
      "[I 2025-05-27 20:57:01,942] Trial 94 pruned. Trial was pruned at epoch 0.\n",
      "GPU available: True (cuda), used: True\n",
      "TPU available: False, using: 0 TPU cores\n",
      "HPU available: False, using: 0 HPUs\n",
      "LOCAL_RANK: 0 - CUDA_VISIBLE_DEVICES: [0]\n"
     ]
    },
    {
     "name": "stdout",
     "output_type": "stream",
     "text": [
      "Current value: 0.014263741686607493, Current params: {'input_chunk_length': 27, 'output_chunk_length': 2, 'dropout': 0.29260660513146675, 'batch_size': 105, 'lr': 0.003498934492407246, 'weight_decay': 2.2885562235811422e-06, 'hidden_size': 64, 'num_encoder_layers': 3, 'num_decoder_layers': 2, 'temporal_width_past': 2, 'temporal_width_future': 1, 'use_reversible_instance_norm': True, 'loss_fn': 'smoothl1', 'optimizer': 'Adam'}\n",
      "Best value: 0.07537033374535873, Best params: {'input_chunk_length': 25, 'output_chunk_length': 1, 'dropout': 0.21681024106774108, 'batch_size': 88, 'lr': 0.003388720125598311, 'weight_decay': 1.0874880175491006e-06, 'hidden_size': 64, 'num_encoder_layers': 3, 'num_decoder_layers': 2, 'temporal_width_past': 2, 'temporal_width_future': 1, 'use_reversible_instance_norm': True, 'loss_fn': 'smoothl1', 'optimizer': 'Adam'}\n",
      "\n",
      "Starting Trial 95\n",
      "Hyperparameters: {'input_chunk_length': 30, 'output_chunk_length': 1, 'dropout': 0.2683309813413021, 'batch_size': 114, 'lr': 0.0040281114145806155, 'weight_decay': 3.0604947937829484e-06, 'hidden_size': 64, 'num_encoder_layers': 3, 'num_decoder_layers': 2, 'temporal_width_past': 2, 'temporal_width_future': 1, 'use_reversible_instance_norm': True, 'loss_fn': 'smoothl1', 'optimizer': 'Adam'}\n",
      "\n",
      "Training the model...\n",
      "Train set: 6647 samples\n",
      "Validation set: 1662 samples\n"
     ]
    },
    {
     "name": "stderr",
     "output_type": "stream",
     "text": [
      "[I 2025-05-27 20:57:03,925] Trial 95 pruned. Trial was pruned at epoch 0.\n",
      "GPU available: True (cuda), used: True\n",
      "TPU available: False, using: 0 TPU cores\n",
      "HPU available: False, using: 0 HPUs\n",
      "LOCAL_RANK: 0 - CUDA_VISIBLE_DEVICES: [0]\n"
     ]
    },
    {
     "name": "stdout",
     "output_type": "stream",
     "text": [
      "Current value: 0.013897555440330011, Current params: {'input_chunk_length': 30, 'output_chunk_length': 1, 'dropout': 0.2683309813413021, 'batch_size': 114, 'lr': 0.0040281114145806155, 'weight_decay': 3.0604947937829484e-06, 'hidden_size': 64, 'num_encoder_layers': 3, 'num_decoder_layers': 2, 'temporal_width_past': 2, 'temporal_width_future': 1, 'use_reversible_instance_norm': True, 'loss_fn': 'smoothl1', 'optimizer': 'Adam'}\n",
      "Best value: 0.07537033374535873, Best params: {'input_chunk_length': 25, 'output_chunk_length': 1, 'dropout': 0.21681024106774108, 'batch_size': 88, 'lr': 0.003388720125598311, 'weight_decay': 1.0874880175491006e-06, 'hidden_size': 64, 'num_encoder_layers': 3, 'num_decoder_layers': 2, 'temporal_width_past': 2, 'temporal_width_future': 1, 'use_reversible_instance_norm': True, 'loss_fn': 'smoothl1', 'optimizer': 'Adam'}\n",
      "\n",
      "Starting Trial 96\n",
      "Hyperparameters: {'input_chunk_length': 33, 'output_chunk_length': 2, 'dropout': 0.2589946681198679, 'batch_size': 125, 'lr': 0.00284988507768452, 'weight_decay': 5.707769722127899e-06, 'hidden_size': 128, 'num_encoder_layers': 3, 'num_decoder_layers': 2, 'temporal_width_past': 2, 'temporal_width_future': 1, 'use_reversible_instance_norm': True, 'loss_fn': 'mae', 'optimizer': 'Adam'}\n",
      "\n",
      "Training the model...\n",
      "Train set: 6647 samples\n",
      "Validation set: 1662 samples\n"
     ]
    },
    {
     "name": "stderr",
     "output_type": "stream",
     "text": [
      "[I 2025-05-27 20:57:05,941] Trial 96 pruned. Trial was pruned at epoch 0.\n",
      "GPU available: True (cuda), used: True\n",
      "TPU available: False, using: 0 TPU cores\n",
      "HPU available: False, using: 0 HPUs\n",
      "LOCAL_RANK: 0 - CUDA_VISIBLE_DEVICES: [0]\n"
     ]
    },
    {
     "name": "stdout",
     "output_type": "stream",
     "text": [
      "Current value: 0.09148060492645747, Current params: {'input_chunk_length': 33, 'output_chunk_length': 2, 'dropout': 0.2589946681198679, 'batch_size': 125, 'lr': 0.00284988507768452, 'weight_decay': 5.707769722127899e-06, 'hidden_size': 128, 'num_encoder_layers': 3, 'num_decoder_layers': 2, 'temporal_width_past': 2, 'temporal_width_future': 1, 'use_reversible_instance_norm': True, 'loss_fn': 'mae', 'optimizer': 'Adam'}\n",
      "Best value: 0.07537033374535873, Best params: {'input_chunk_length': 25, 'output_chunk_length': 1, 'dropout': 0.21681024106774108, 'batch_size': 88, 'lr': 0.003388720125598311, 'weight_decay': 1.0874880175491006e-06, 'hidden_size': 64, 'num_encoder_layers': 3, 'num_decoder_layers': 2, 'temporal_width_past': 2, 'temporal_width_future': 1, 'use_reversible_instance_norm': True, 'loss_fn': 'smoothl1', 'optimizer': 'Adam'}\n",
      "\n",
      "Starting Trial 97\n",
      "Hyperparameters: {'input_chunk_length': 25, 'output_chunk_length': 3, 'dropout': 0.28054605860951165, 'batch_size': 122, 'lr': 0.0014821951634760605, 'weight_decay': 4.610830536364371e-06, 'hidden_size': 64, 'num_encoder_layers': 3, 'num_decoder_layers': 2, 'temporal_width_past': 2, 'temporal_width_future': 5, 'use_reversible_instance_norm': True, 'loss_fn': 'mse', 'optimizer': 'Adam'}\n",
      "\n",
      "Training the model...\n",
      "Train set: 6647 samples\n",
      "Validation set: 1662 samples\n"
     ]
    },
    {
     "name": "stderr",
     "output_type": "stream",
     "text": [
      "[I 2025-05-27 20:57:07,853] Trial 97 pruned. Trial was pruned at epoch 0.\n"
     ]
    },
    {
     "name": "stdout",
     "output_type": "stream",
     "text": [
      "Current value: 0.03499074983901248, Current params: {'input_chunk_length': 25, 'output_chunk_length': 3, 'dropout': 0.28054605860951165, 'batch_size': 122, 'lr': 0.0014821951634760605, 'weight_decay': 4.610830536364371e-06, 'hidden_size': 64, 'num_encoder_layers': 3, 'num_decoder_layers': 2, 'temporal_width_past': 2, 'temporal_width_future': 5, 'use_reversible_instance_norm': True, 'loss_fn': 'mse', 'optimizer': 'Adam'}\n",
      "Best value: 0.07537033374535873, Best params: {'input_chunk_length': 25, 'output_chunk_length': 1, 'dropout': 0.21681024106774108, 'batch_size': 88, 'lr': 0.003388720125598311, 'weight_decay': 1.0874880175491006e-06, 'hidden_size': 64, 'num_encoder_layers': 3, 'num_decoder_layers': 2, 'temporal_width_past': 2, 'temporal_width_future': 1, 'use_reversible_instance_norm': True, 'loss_fn': 'smoothl1', 'optimizer': 'Adam'}\n"
     ]
    }
   ],
   "execution_count": 7
  },
  {
   "cell_type": "code",
   "id": "6d067f70903d0a12",
   "metadata": {
    "ExecuteTime": {
     "end_time": "2025-05-27T23:57:07.890255Z",
     "start_time": "2025-05-27T23:57:07.887631Z"
    }
   },
   "source": [
    "print(f\"Best Value (Minimum): {study.best_value}\")\n",
    "print(f\"Best Parameters: {study.best_params}\")"
   ],
   "outputs": [
    {
     "name": "stdout",
     "output_type": "stream",
     "text": [
      "Best Value (Minimum): 0.07537033374535873\n",
      "Best Parameters: {'input_chunk_length': 25, 'output_chunk_length': 1, 'dropout': 0.21681024106774108, 'batch_size': 88, 'lr': 0.003388720125598311, 'weight_decay': 1.0874880175491006e-06, 'hidden_size': 64, 'num_encoder_layers': 3, 'num_decoder_layers': 2, 'temporal_width_past': 2, 'temporal_width_future': 1, 'use_reversible_instance_norm': True, 'loss_fn': 'smoothl1', 'optimizer': 'Adam'}\n"
     ]
    }
   ],
   "execution_count": 8
  },
  {
   "cell_type": "code",
   "id": "2116824c79bf39cb",
   "metadata": {
    "ExecuteTime": {
     "end_time": "2025-05-27T23:57:07.945086Z",
     "start_time": "2025-05-27T23:57:07.941956Z"
    }
   },
   "source": [
    "best_dict = {\n",
    "    \"best_value\": study.best_value,\n",
    "    \"best_params\": study.best_params,\n",
    "}\n",
    "json_path = os.path.join(results_output_dir, \"best_trial.json\")\n",
    "with open(json_path, 'w') as f:\n",
    "    json.dump(best_dict, f, indent=4)\n",
    "print(f\"Best results saved in {json_path}\")\n"
   ],
   "outputs": [
    {
     "name": "stdout",
     "output_type": "stream",
     "text": [
      "Best results saved in optuna_iteration_metrics/best_trial.json\n"
     ]
    }
   ],
   "execution_count": 9
  }
 ],
 "metadata": {
  "jupytext": {
   "cell_metadata_filter": "-all",
   "main_language": "python",
   "notebook_metadata_filter": "-all"
  },
  "kernelspec": {
   "display_name": "venv",
   "language": "python",
   "name": "python3"
  },
  "language_info": {
   "codemirror_mode": {
    "name": "ipython",
    "version": 3
   },
   "file_extension": ".py",
   "mimetype": "text/x-python",
   "name": "python",
   "nbconvert_exporter": "python",
   "pygments_lexer": "ipython3",
   "version": "3.12.3"
  }
 },
 "nbformat": 4,
 "nbformat_minor": 5
}
