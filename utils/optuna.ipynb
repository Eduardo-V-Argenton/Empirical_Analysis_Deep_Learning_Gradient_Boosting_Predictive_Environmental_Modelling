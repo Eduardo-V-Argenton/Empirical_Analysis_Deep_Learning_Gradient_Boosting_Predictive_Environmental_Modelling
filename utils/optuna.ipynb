{
 "cells": [
  {
   "cell_type": "code",
   "execution_count": 1,
   "id": "ab9c24fd1c762b3c",
   "metadata": {
    "ExecuteTime": {
     "end_time": "2025-05-26T11:57:32.895582Z",
     "start_time": "2025-05-26T11:57:28.231947Z"
    }
   },
   "outputs": [],
   "source": [
    "import matplotlib.pyplot as plt\n",
    "import numpy as np\n",
    "import pandas as pd\n",
    "from darts import TimeSeries\n",
    "from darts.models import TransformerModel\n",
    "from darts.metrics import mse, rmse, r2_score, mae, smape\n",
    "from darts.dataprocessing.transformers import Scaler\n",
    "import torch\n",
    "from optuna.integration import PyTorchLightningPruningCallback\n",
    "from pytorch_lightning.callbacks import Callback, EarlyStopping\n",
    "import optuna\n",
    "import os\n",
    "import json\n",
    "\n",
    "# Visualization settings\n",
    "plt.style.use('ggplot')\n",
    "plt.rcParams['figure.figsize'] = (12, 6)\n",
    "torch.set_float32_matmul_precision('medium')"
   ]
  },
  {
   "cell_type": "code",
   "execution_count": 2,
   "id": "dea824a04ee35876",
   "metadata": {
    "ExecuteTime": {
     "end_time": "2025-05-26T11:57:32.964675Z",
     "start_time": "2025-05-26T11:57:32.952453Z"
    }
   },
   "outputs": [],
   "source": [
    "target_columns = [\n",
    "    'Temperature','Precipitation_accumulated','Humidity', 'Wind_Speed_kmh',\n",
    "    'Soil_Moisture', 'Soil_Temperature', 'Wind_Dir_Sin', 'Wind_Dir_Cos'\n",
    "]\n",
    "\n",
    "DATA_FILE_PATH = \"../data/ground_station_clean.csv\"\n",
    "df = pd.read_csv(DATA_FILE_PATH)"
   ]
  },
  {
   "cell_type": "code",
   "execution_count": 3,
   "id": "def2c882f0e74f35",
   "metadata": {
    "ExecuteTime": {
     "end_time": "2025-05-26T11:57:33.003875Z",
     "start_time": "2025-05-26T11:57:33.001964Z"
    }
   },
   "outputs": [],
   "source": [
    "encoders = {\n",
    "    \"cyclic\": {\n",
    "        \"past\": [\"month\", \"dayofyear\", \"day\", \"hour\", \"minute\"],\n",
    "        \"future\": [\"month\", \"dayofyear\", \"day\", \"hour\", \"minute\"]\n",
    "    },\n",
    "    \"transformer\": Scaler(),\n",
    "    \"datetime_attribute\": {\n",
    "        \"past\": [\"year\"],\n",
    "        \"future\": [\"year\"]\n",
    "    }\n",
    "}\n"
   ]
  },
  {
   "cell_type": "code",
   "execution_count": 4,
   "id": "69a1e0daa0e77178",
   "metadata": {
    "ExecuteTime": {
     "end_time": "2025-05-26T11:57:33.049563Z",
     "start_time": "2025-05-26T11:57:33.047616Z"
    }
   },
   "outputs": [],
   "source": [
    "class PatchedPruningCallback(PyTorchLightningPruningCallback, Callback):\n",
    "    pass\n",
    "\n",
    "# Create directory to save iteration results\n",
    "results_output_dir = \"optuna_iteration_metrics\"\n",
    "os.makedirs(results_output_dir, exist_ok=True)"
   ]
  },
  {
   "cell_type": "code",
   "execution_count": 5,
   "id": "b7ecbcc9f47588d3",
   "metadata": {
    "ExecuteTime": {
     "end_time": "2025-05-26T11:57:33.105210Z",
     "start_time": "2025-05-26T11:57:33.095955Z"
    }
   },
   "outputs": [],
   "source": [
    "def objective(trial):\n",
    "    input_chunk_length = trial.suggest_int(\"input_chunk_length\", 24, 72)\n",
    "    output_chunk_length = trial.suggest_int(\"output_chunk_length\", 1, 24)\n",
    "    dropout = trial.suggest_float(\"dropout\", 0.1, 0.5)\n",
    "    batch_size = trial.suggest_int(\"batch_size\", 64, 256)\n",
    "    lr = trial.suggest_float(\"lr\", 1e-6, 5e-3, log=True)\n",
    "    weight_decay = trial.suggest_float(\"weight_decay\", 1e-6, 1e-2, log=True)\n",
    "\n",
    "    d_model = trial.suggest_categorical('d_model', [64, 128, 256])\n",
    "    nhead = trial.suggest_categorical('nhead', [2, 4, 8])\n",
    "    num_encoder_layers = trial.suggest_int('num_encoder_layers', 1, 4)\n",
    "    num_decoder_layers = trial.suggest_int('num_decoder_layers', 1, 4)\n",
    "    activation = trial.suggest_categorical('activation', [\"GLU\", \"Bilinear\", \"ReGLU\", \"GEGLU\", \"SwiGLU\", \"ReLU\", \"GELU\"])\n",
    "\n",
    "    # Try different loss functions\n",
    "    loss_functions = {\n",
    "        'mse': torch.nn.MSELoss(),\n",
    "        'mae': torch.nn.L1Loss(),\n",
    "        'huber': torch.nn.HuberLoss(delta=1.0),\n",
    "        'smoothl1': torch.nn.SmoothL1Loss()\n",
    "    }\n",
    "    loss_name = trial.suggest_categorical(\"loss_fn\", list(loss_functions.keys()))\n",
    "\n",
    "    # Try different optimizers\n",
    "    optimizer_names = ['Adam', 'AdamW', 'RMSprop', 'SGD']\n",
    "    optimizer_name = trial.suggest_categorical(\"optimizer\", optimizer_names)\n",
    "    optimizer_dict = {\n",
    "        'Adam': torch.optim.Adam,\n",
    "        'AdamW': torch.optim.AdamW,\n",
    "        'RMSprop': torch.optim.RMSprop,\n",
    "        'SGD': torch.optim.SGD\n",
    "    }\n",
    "\n",
    "    early_stopper = EarlyStopping(\"val_loss\", min_delta=0.0005, patience=15, verbose=True)\n",
    "    prunner = PatchedPruningCallback(trial, monitor=\"val_loss\")\n",
    "    pl_trainer_kwargs = {\n",
    "        \"accelerator\": \"auto\",\n",
    "        \"callbacks\": [early_stopper, prunner],\n",
    "    }\n",
    "    n = int(len(df) * 0.8)\n",
    "    train_df_fold, val_df_fold = df.iloc[:n], df.iloc[n:]\n",
    "    train_fold = TimeSeries.from_dataframe(train_df_fold, time_col=\"Timestamp\", value_cols=target_columns, freq='1h')\n",
    "    val_fold = TimeSeries.from_dataframe(val_df_fold, time_col=\"Timestamp\", value_cols=target_columns, freq='1h')\n",
    "\n",
    "    print(f\"\\nStarting Trial {trial.number}\")\n",
    "    print(f\"Hyperparameters: {trial.params}\")\n",
    "    print(\"\\nTraining the model...\")\n",
    "    print(f\"Train set: {len(train_fold)} samples\")\n",
    "    print(f\"Validation set: {len(val_fold)} samples\")\n",
    "\n",
    "    scaler = Scaler()\n",
    "    scaler = scaler.fit(train_fold)\n",
    "    train_scaled = scaler.transform(train_fold)\n",
    "    val_scaled = scaler.transform(val_fold)\n",
    "\n",
    "    _work_dir = \"/home/eduardo/Documentos/Water-Cycle-Neural-Network/darts_logs/\"\n",
    "    _model_name = \"model_optuna_temp\"\n",
    "    os.makedirs(_work_dir, exist_ok=True)\n",
    "\n",
    "    # Additional optimizer kwargs based on optimizer type\n",
    "    opt_kwargs = {\"lr\": lr, \"weight_decay\": weight_decay}\n",
    "    if optimizer_name == 'SGD':\n",
    "        opt_kwargs['momentum'] = 0.9\n",
    "\n",
    "    model = TransformerModel(\n",
    "        model_name=_model_name,\n",
    "        work_dir=_work_dir,\n",
    "        input_chunk_length=input_chunk_length,\n",
    "        output_chunk_length=output_chunk_length,\n",
    "        d_model=d_model,\n",
    "        nhead=nhead,\n",
    "        num_encoder_layers=num_encoder_layers,\n",
    "        num_decoder_layers=num_decoder_layers,\n",
    "        activation=activation,\n",
    "        n_epochs=30,\n",
    "        batch_size=batch_size,\n",
    "        dropout=dropout,\n",
    "        add_encoders=encoders,\n",
    "        pl_trainer_kwargs=pl_trainer_kwargs,\n",
    "        loss_fn=loss_functions[loss_name],\n",
    "        optimizer_cls=optimizer_dict[optimizer_name],\n",
    "        lr_scheduler_cls=torch.optim.lr_scheduler.ReduceLROnPlateau,\n",
    "        lr_scheduler_kwargs={\"mode\": \"min\", \"factor\": 0.3, \"patience\": 5, \"min_lr\": 1e-7},\n",
    "        save_checkpoints=True,\n",
    "        show_warnings=True,\n",
    "        force_reset=True,\n",
    "        optimizer_kwargs=opt_kwargs,\n",
    "    )\n",
    "    model.fit(\n",
    "        series=train_scaled,\n",
    "        val_series=val_scaled,\n",
    "        verbose=False,\n",
    "        dataloader_kwargs={\"num_workers\": 11},\n",
    "    )\n",
    "\n",
    "    try:\n",
    "        loaded_model = TransformerModel.load_from_checkpoint(model_name=_model_name, work_dir=_work_dir, best=True)\n",
    "        print(f\"Model loaded from checkpoint for trial {trial.number}\")\n",
    "    except FileNotFoundError:\n",
    "        print(f\"Checkpoint not found for {_model_name} in {_work_dir}. Using the in-memory trained model.\")\n",
    "        loaded_model = model\n",
    "\n",
    "    forecasts = loaded_model.historical_forecasts(\n",
    "        val_scaled,\n",
    "        forecast_horizon=output_chunk_length,\n",
    "        stride=1,\n",
    "        retrain=False,\n",
    "        verbose=False\n",
    "    )\n",
    "\n",
    "    forecasts_t = scaler.inverse_transform(forecasts)\n",
    "    s = scaler.inverse_transform(val_scaled)\n",
    "    metrics = {}\n",
    "    print(\"Starting time series verification for consistency...\")\n",
    "    try:\n",
    "        for target in target_columns:\n",
    "            metrics[target] = {\n",
    "                'MSE': mse(s[target], forecasts_t[target]),\n",
    "                'RMSE': rmse(s[target], forecasts_t[target]),\n",
    "                'MAE': mae(s[target], forecasts_t[target]),\n",
    "                'R2': r2_score(s[target], forecasts_t[target]),\n",
    "                'SMAPE': smape(s[target], forecasts_t[target]),\n",
    "            }\n",
    "        metrics_df = pd.DataFrame(metrics).T\n",
    "        print(\"\\nPerformance metrics:\")\n",
    "        print(metrics_df)\n",
    "    except Exception as e:\n",
    "        print(e)\n",
    "\n",
    "    overall_mae_val = mae(val_scaled, forecasts)\n",
    "    print(f\"The MAE for this fold was {overall_mae_val}\")\n",
    "\n",
    "    trial_dict = {\n",
    "        \"trial_number\": trial.number,\n",
    "        \"input_chunk_length\": input_chunk_length,\n",
    "        \"output_chunk_length\": output_chunk_length,\n",
    "        \"d_model\": d_model,\n",
    "        \"nhead\": nhead,\n",
    "        \"num_encoder_layers\": num_encoder_layers,\n",
    "        \"num_decoder_layers\": num_decoder_layers,\n",
    "        \"activation\": activation,\n",
    "        \"dropout\": dropout,\n",
    "        \"batch_size\": batch_size,\n",
    "        \"lr\": lr,\n",
    "        \"loss_function\": loss_name,\n",
    "        \"optimizer\": optimizer_name,\n",
    "        \"overall_mae_val\": overall_mae_val,\n",
    "        \"metrics\": metrics_df.to_dict(),\n",
    "    }\n",
    "    json_path = os.path.join(results_output_dir, f\"trial_{trial.number}.json\")\n",
    "    with open(json_path, 'w') as f:\n",
    "        json.dump(trial_dict, f, indent=4)\n",
    "    print(f\"Results of trial {trial.number} saved in {json_path}\")\n",
    "    return overall_mae_val if not np.isnan(overall_mae_val) else float(\"inf\")\n"
   ]
  },
  {
   "cell_type": "code",
   "execution_count": 6,
   "id": "bb9eb36ea7edea",
   "metadata": {
    "ExecuteTime": {
     "end_time": "2025-05-26T11:57:33.146615Z",
     "start_time": "2025-05-26T11:57:33.144680Z"
    }
   },
   "outputs": [],
   "source": [
    "def print_callback(study, trial):\n",
    "    print(f\"Current value: {trial.value}, Current params: {trial.params}\")\n",
    "    print(f\"Best value: {study.best_value}, Best params: {study.best_trial.params}\")"
   ]
  },
  {
   "cell_type": "code",
   "execution_count": 7,
   "id": "51d771ffa210c7f5",
   "metadata": {
    "ExecuteTime": {
     "start_time": "2025-05-26T11:57:33.193206Z"
    },
    "jupyter": {
     "is_executing": true
    }
   },
   "outputs": [
    {
     "name": "stderr",
     "output_type": "stream",
     "text": [
      "[I 2025-05-26 10:54:04,281] A new study created in memory with name: no-name-2576eeaa-228a-4bea-a174-5f34a69d9d37\n"
     ]
    },
    {
     "name": "stdout",
     "output_type": "stream",
     "text": [
      "\n",
      "Starting Trial 0\n",
      "Hyperparameters: {'input_chunk_length': 40, 'output_chunk_length': 22, 'dropout': 0.3445176621008879, 'batch_size': 136, 'lr': 3.200692693553335e-06, 'weight_decay': 0.002240791607783318, 'd_model': 256, 'nhead': 4, 'num_encoder_layers': 2, 'num_decoder_layers': 2, 'activation': 'ReGLU', 'loss_fn': 'huber', 'optimizer': 'SGD'}\n",
      "\n",
      "Training the model...\n",
      "Train set: 6647 samples\n",
      "Validation set: 1662 samples\n"
     ]
    },
    {
     "name": "stderr",
     "output_type": "stream",
     "text": [
      "Specified future encoders in `add_encoders` at model creation but model does not accept future covariates. future encoders will be ignored.\n",
      "/home/eduardo/Documentos/Water-Cycle-Neural-Network/venv/lib/python3.12/site-packages/torch/nn/modules/transformer.py:382: UserWarning: enable_nested_tensor is True, but self.use_nested_tensor is False because encoder_layer.self_attn.batch_first was not True(use batch_first for better inference performance)\n",
      "  warnings.warn(\n",
      "GPU available: True (cuda), used: True\n",
      "TPU available: False, using: 0 TPU cores\n",
      "HPU available: False, using: 0 HPUs\n",
      "LOCAL_RANK: 0 - CUDA_VISIBLE_DEVICES: [0]\n",
      "Metric val_loss improved. New best score: 0.294\n",
      "Metric val_loss improved by 0.001 >= min_delta = 0.0005. New best score: 0.294\n",
      "Metric val_loss improved by 0.001 >= min_delta = 0.0005. New best score: 0.293\n",
      "Metric val_loss improved by 0.001 >= min_delta = 0.0005. New best score: 0.292\n",
      "Metric val_loss improved by 0.001 >= min_delta = 0.0005. New best score: 0.292\n",
      "Metric val_loss improved by 0.001 >= min_delta = 0.0005. New best score: 0.291\n",
      "Metric val_loss improved by 0.001 >= min_delta = 0.0005. New best score: 0.290\n",
      "Metric val_loss improved by 0.001 >= min_delta = 0.0005. New best score: 0.290\n",
      "Metric val_loss improved by 0.001 >= min_delta = 0.0005. New best score: 0.289\n",
      "Metric val_loss improved by 0.001 >= min_delta = 0.0005. New best score: 0.289\n",
      "Metric val_loss improved by 0.001 >= min_delta = 0.0005. New best score: 0.288\n",
      "Metric val_loss improved by 0.001 >= min_delta = 0.0005. New best score: 0.287\n",
      "Metric val_loss improved by 0.001 >= min_delta = 0.0005. New best score: 0.287\n",
      "Metric val_loss improved by 0.001 >= min_delta = 0.0005. New best score: 0.286\n",
      "Metric val_loss improved by 0.001 >= min_delta = 0.0005. New best score: 0.285\n",
      "`Trainer.fit` stopped: `max_epochs=30` reached.\n",
      "/home/eduardo/Documentos/Water-Cycle-Neural-Network/venv/lib/python3.12/site-packages/torch/nn/modules/transformer.py:382: UserWarning: enable_nested_tensor is True, but self.use_nested_tensor is False because encoder_layer.self_attn.batch_first was not True(use batch_first for better inference performance)\n",
      "  warnings.warn(\n",
      "GPU available: True (cuda), used: True\n",
      "TPU available: False, using: 0 TPU cores\n",
      "HPU available: False, using: 0 HPUs\n",
      "LOCAL_RANK: 0 - CUDA_VISIBLE_DEVICES: [0]\n",
      "/home/eduardo/Documentos/Water-Cycle-Neural-Network/venv/lib/python3.12/site-packages/pytorch_lightning/trainer/connectors/data_connector.py:425: The 'predict_dataloader' does not have many workers which may be a bottleneck. Consider increasing the value of the `num_workers` argument` to `num_workers=11` in the `DataLoader` to improve performance.\n"
     ]
    },
    {
     "name": "stdout",
     "output_type": "stream",
     "text": [
      "Model loaded from checkpoint for trial 0\n"
     ]
    },
    {
     "name": "stderr",
     "output_type": "stream",
     "text": [
      "[I 2025-05-26 10:56:54,608] Trial 0 finished with value: 0.8126001880062268 and parameters: {'input_chunk_length': 40, 'output_chunk_length': 22, 'dropout': 0.3445176621008879, 'batch_size': 136, 'lr': 3.200692693553335e-06, 'weight_decay': 0.002240791607783318, 'd_model': 256, 'nhead': 4, 'num_encoder_layers': 2, 'num_decoder_layers': 2, 'activation': 'ReGLU', 'loss_fn': 'huber', 'optimizer': 'SGD'}. Best is trial 0 with value: 0.8126001880062268.\n",
      "Specified future encoders in `add_encoders` at model creation but model does not accept future covariates. future encoders will be ignored.\n",
      "/home/eduardo/Documentos/Water-Cycle-Neural-Network/venv/lib/python3.12/site-packages/torch/nn/modules/transformer.py:382: UserWarning: enable_nested_tensor is True, but self.use_nested_tensor is False because encoder_layer.self_attn.batch_first was not True(use batch_first for better inference performance)\n",
      "  warnings.warn(\n",
      "GPU available: True (cuda), used: True\n",
      "TPU available: False, using: 0 TPU cores\n",
      "HPU available: False, using: 0 HPUs\n",
      "LOCAL_RANK: 0 - CUDA_VISIBLE_DEVICES: [0]\n"
     ]
    },
    {
     "name": "stdout",
     "output_type": "stream",
     "text": [
      "Starting time series verification for consistency...\n",
      "\n",
      "Performance metrics:\n",
      "                                    MSE         RMSE          MAE  \\\n",
      "Temperature                1.864278e+02    13.653858    11.698816   \n",
      "Precipitation_accumulated  6.776415e+04   260.315489   229.402458   \n",
      "Humidity                   1.387198e+04   117.779361   116.002890   \n",
      "Wind_Speed_kmh             4.035030e+01     6.352188     5.771751   \n",
      "Soil_Moisture              8.448591e+06  2906.646082  2763.713531   \n",
      "Soil_Temperature           5.308648e+03    72.860467    68.565142   \n",
      "Wind_Dir_Sin               2.851831e+00     1.688736     1.476184   \n",
      "Wind_Dir_Cos               3.362019e+00     1.833581     1.657892   \n",
      "\n",
      "                                     R2       SMAPE  \n",
      "Temperature                   -5.109210  141.771406  \n",
      "Precipitation_accumulated -20798.643277   73.875808  \n",
      "Humidity                     -93.463737  199.479556  \n",
      "Wind_Speed_kmh               -28.927676  199.700727  \n",
      "Soil_Moisture               -168.184733   39.188187  \n",
      "Soil_Temperature            -329.686752  159.869924  \n",
      "Wind_Dir_Sin                  -4.190511  150.794523  \n",
      "Wind_Dir_Cos                  -8.141804  164.454561  \n",
      "The MAE for this fold was 0.8126001880062268\n",
      "Results of trial 0 saved in optuna_iteration_metrics/trial_0.json\n",
      "Current value: 0.8126001880062268, Current params: {'input_chunk_length': 40, 'output_chunk_length': 22, 'dropout': 0.3445176621008879, 'batch_size': 136, 'lr': 3.200692693553335e-06, 'weight_decay': 0.002240791607783318, 'd_model': 256, 'nhead': 4, 'num_encoder_layers': 2, 'num_decoder_layers': 2, 'activation': 'ReGLU', 'loss_fn': 'huber', 'optimizer': 'SGD'}\n",
      "Best value: 0.8126001880062268, Best params: {'input_chunk_length': 40, 'output_chunk_length': 22, 'dropout': 0.3445176621008879, 'batch_size': 136, 'lr': 3.200692693553335e-06, 'weight_decay': 0.002240791607783318, 'd_model': 256, 'nhead': 4, 'num_encoder_layers': 2, 'num_decoder_layers': 2, 'activation': 'ReGLU', 'loss_fn': 'huber', 'optimizer': 'SGD'}\n",
      "\n",
      "Starting Trial 1\n",
      "Hyperparameters: {'input_chunk_length': 42, 'output_chunk_length': 16, 'dropout': 0.326102150348498, 'batch_size': 188, 'lr': 8.491409422666161e-05, 'weight_decay': 0.0002580835375330188, 'd_model': 128, 'nhead': 8, 'num_encoder_layers': 2, 'num_decoder_layers': 2, 'activation': 'Bilinear', 'loss_fn': 'huber', 'optimizer': 'SGD'}\n",
      "\n",
      "Training the model...\n",
      "Train set: 6647 samples\n",
      "Validation set: 1662 samples\n"
     ]
    },
    {
     "name": "stderr",
     "output_type": "stream",
     "text": [
      "Metric val_loss improved. New best score: 0.309\n",
      "Metric val_loss improved by 0.007 >= min_delta = 0.0005. New best score: 0.302\n",
      "Metric val_loss improved by 0.006 >= min_delta = 0.0005. New best score: 0.296\n",
      "Metric val_loss improved by 0.006 >= min_delta = 0.0005. New best score: 0.289\n",
      "Metric val_loss improved by 0.006 >= min_delta = 0.0005. New best score: 0.283\n",
      "Metric val_loss improved by 0.006 >= min_delta = 0.0005. New best score: 0.277\n",
      "Metric val_loss improved by 0.006 >= min_delta = 0.0005. New best score: 0.272\n",
      "Metric val_loss improved by 0.006 >= min_delta = 0.0005. New best score: 0.266\n",
      "Metric val_loss improved by 0.006 >= min_delta = 0.0005. New best score: 0.260\n",
      "Metric val_loss improved by 0.005 >= min_delta = 0.0005. New best score: 0.255\n",
      "Metric val_loss improved by 0.005 >= min_delta = 0.0005. New best score: 0.249\n",
      "Metric val_loss improved by 0.005 >= min_delta = 0.0005. New best score: 0.244\n",
      "Metric val_loss improved by 0.005 >= min_delta = 0.0005. New best score: 0.239\n",
      "Metric val_loss improved by 0.005 >= min_delta = 0.0005. New best score: 0.234\n",
      "Metric val_loss improved by 0.005 >= min_delta = 0.0005. New best score: 0.229\n",
      "Metric val_loss improved by 0.005 >= min_delta = 0.0005. New best score: 0.224\n",
      "Metric val_loss improved by 0.005 >= min_delta = 0.0005. New best score: 0.220\n",
      "Metric val_loss improved by 0.005 >= min_delta = 0.0005. New best score: 0.215\n",
      "Metric val_loss improved by 0.004 >= min_delta = 0.0005. New best score: 0.211\n",
      "Metric val_loss improved by 0.004 >= min_delta = 0.0005. New best score: 0.206\n",
      "Metric val_loss improved by 0.004 >= min_delta = 0.0005. New best score: 0.202\n",
      "Metric val_loss improved by 0.004 >= min_delta = 0.0005. New best score: 0.197\n",
      "Metric val_loss improved by 0.004 >= min_delta = 0.0005. New best score: 0.193\n",
      "Metric val_loss improved by 0.004 >= min_delta = 0.0005. New best score: 0.189\n",
      "Metric val_loss improved by 0.004 >= min_delta = 0.0005. New best score: 0.185\n",
      "Metric val_loss improved by 0.004 >= min_delta = 0.0005. New best score: 0.181\n",
      "Metric val_loss improved by 0.004 >= min_delta = 0.0005. New best score: 0.177\n",
      "Metric val_loss improved by 0.004 >= min_delta = 0.0005. New best score: 0.174\n",
      "Metric val_loss improved by 0.004 >= min_delta = 0.0005. New best score: 0.170\n",
      "Metric val_loss improved by 0.004 >= min_delta = 0.0005. New best score: 0.166\n",
      "`Trainer.fit` stopped: `max_epochs=30` reached.\n",
      "/home/eduardo/Documentos/Water-Cycle-Neural-Network/venv/lib/python3.12/site-packages/torch/nn/modules/transformer.py:382: UserWarning: enable_nested_tensor is True, but self.use_nested_tensor is False because encoder_layer.self_attn.batch_first was not True(use batch_first for better inference performance)\n",
      "  warnings.warn(\n",
      "GPU available: True (cuda), used: True\n",
      "TPU available: False, using: 0 TPU cores\n",
      "HPU available: False, using: 0 HPUs\n",
      "LOCAL_RANK: 0 - CUDA_VISIBLE_DEVICES: [0]\n",
      "/home/eduardo/Documentos/Water-Cycle-Neural-Network/venv/lib/python3.12/site-packages/pytorch_lightning/trainer/connectors/data_connector.py:425: The 'predict_dataloader' does not have many workers which may be a bottleneck. Consider increasing the value of the `num_workers` argument` to `num_workers=11` in the `DataLoader` to improve performance.\n"
     ]
    },
    {
     "name": "stdout",
     "output_type": "stream",
     "text": [
      "Model loaded from checkpoint for trial 1\n"
     ]
    },
    {
     "name": "stderr",
     "output_type": "stream",
     "text": [
      "[I 2025-05-26 10:58:26,626] Trial 1 finished with value: 0.35482219875052007 and parameters: {'input_chunk_length': 42, 'output_chunk_length': 16, 'dropout': 0.326102150348498, 'batch_size': 188, 'lr': 8.491409422666161e-05, 'weight_decay': 0.0002580835375330188, 'd_model': 128, 'nhead': 8, 'num_encoder_layers': 2, 'num_decoder_layers': 2, 'activation': 'Bilinear', 'loss_fn': 'huber', 'optimizer': 'SGD'}. Best is trial 1 with value: 0.35482219875052007.\n",
      "Specified future encoders in `add_encoders` at model creation but model does not accept future covariates. future encoders will be ignored.\n",
      "/home/eduardo/Documentos/Water-Cycle-Neural-Network/venv/lib/python3.12/site-packages/torch/nn/modules/transformer.py:382: UserWarning: enable_nested_tensor is True, but self.use_nested_tensor is False because encoder_layer.self_attn.batch_first was not True(use batch_first for better inference performance)\n",
      "  warnings.warn(\n",
      "GPU available: True (cuda), used: True\n",
      "TPU available: False, using: 0 TPU cores\n",
      "HPU available: False, using: 0 HPUs\n",
      "LOCAL_RANK: 0 - CUDA_VISIBLE_DEVICES: [0]\n"
     ]
    },
    {
     "name": "stdout",
     "output_type": "stream",
     "text": [
      "Starting time series verification for consistency...\n",
      "\n",
      "Performance metrics:\n",
      "                                    MSE         RMSE          MAE  \\\n",
      "Temperature                1.187492e+02    10.897211     9.420988   \n",
      "Precipitation_accumulated  7.976588e+04   282.428532   268.193589   \n",
      "Humidity                   4.177665e+02    20.439338    16.863283   \n",
      "Wind_Speed_kmh             1.691867e+01     4.113231     3.594210   \n",
      "Soil_Moisture              5.456323e+06  2335.877281  2232.210889   \n",
      "Soil_Temperature           1.359586e+02    11.660130     9.326600   \n",
      "Wind_Dir_Sin               6.132666e-01     0.783113     0.686913   \n",
      "Wind_Dir_Cos               5.255062e-01     0.724918     0.619355   \n",
      "\n",
      "                                     R2       SMAPE  \n",
      "Temperature                   -2.900974  143.642377  \n",
      "Precipitation_accumulated -24313.568577   86.392673  \n",
      "Humidity                      -1.851437   20.776168  \n",
      "Wind_Speed_kmh               -11.572264  186.248136  \n",
      "Soil_Moisture               -105.944358   30.132134  \n",
      "Soil_Temperature              -7.476485   83.026520  \n",
      "Wind_Dir_Sin                  -0.113836  146.246444  \n",
      "Wind_Dir_Cos                  -0.430894  156.137450  \n",
      "The MAE for this fold was 0.35482219875052007\n",
      "Results of trial 1 saved in optuna_iteration_metrics/trial_1.json\n",
      "Current value: 0.35482219875052007, Current params: {'input_chunk_length': 42, 'output_chunk_length': 16, 'dropout': 0.326102150348498, 'batch_size': 188, 'lr': 8.491409422666161e-05, 'weight_decay': 0.0002580835375330188, 'd_model': 128, 'nhead': 8, 'num_encoder_layers': 2, 'num_decoder_layers': 2, 'activation': 'Bilinear', 'loss_fn': 'huber', 'optimizer': 'SGD'}\n",
      "Best value: 0.35482219875052007, Best params: {'input_chunk_length': 42, 'output_chunk_length': 16, 'dropout': 0.326102150348498, 'batch_size': 188, 'lr': 8.491409422666161e-05, 'weight_decay': 0.0002580835375330188, 'd_model': 128, 'nhead': 8, 'num_encoder_layers': 2, 'num_decoder_layers': 2, 'activation': 'Bilinear', 'loss_fn': 'huber', 'optimizer': 'SGD'}\n",
      "\n",
      "Starting Trial 2\n",
      "Hyperparameters: {'input_chunk_length': 62, 'output_chunk_length': 9, 'dropout': 0.3412525447739263, 'batch_size': 104, 'lr': 2.164900521579707e-05, 'weight_decay': 0.0009605410799990869, 'd_model': 256, 'nhead': 2, 'num_encoder_layers': 3, 'num_decoder_layers': 3, 'activation': 'GLU', 'loss_fn': 'mae', 'optimizer': 'SGD'}\n",
      "\n",
      "Training the model...\n",
      "Train set: 6647 samples\n",
      "Validation set: 1662 samples\n"
     ]
    },
    {
     "name": "stderr",
     "output_type": "stream",
     "text": [
      "Metric val_loss improved. New best score: 0.669\n",
      "Metric val_loss improved by 0.024 >= min_delta = 0.0005. New best score: 0.645\n",
      "Metric val_loss improved by 0.022 >= min_delta = 0.0005. New best score: 0.622\n",
      "Metric val_loss improved by 0.021 >= min_delta = 0.0005. New best score: 0.601\n",
      "Metric val_loss improved by 0.020 >= min_delta = 0.0005. New best score: 0.581\n",
      "Metric val_loss improved by 0.019 >= min_delta = 0.0005. New best score: 0.563\n",
      "Metric val_loss improved by 0.018 >= min_delta = 0.0005. New best score: 0.545\n",
      "Metric val_loss improved by 0.017 >= min_delta = 0.0005. New best score: 0.528\n",
      "Metric val_loss improved by 0.016 >= min_delta = 0.0005. New best score: 0.512\n",
      "Metric val_loss improved by 0.015 >= min_delta = 0.0005. New best score: 0.497\n",
      "Metric val_loss improved by 0.014 >= min_delta = 0.0005. New best score: 0.482\n",
      "Metric val_loss improved by 0.014 >= min_delta = 0.0005. New best score: 0.469\n",
      "Metric val_loss improved by 0.013 >= min_delta = 0.0005. New best score: 0.456\n",
      "Metric val_loss improved by 0.012 >= min_delta = 0.0005. New best score: 0.444\n",
      "Metric val_loss improved by 0.011 >= min_delta = 0.0005. New best score: 0.433\n",
      "Metric val_loss improved by 0.011 >= min_delta = 0.0005. New best score: 0.422\n",
      "Metric val_loss improved by 0.010 >= min_delta = 0.0005. New best score: 0.411\n",
      "Metric val_loss improved by 0.009 >= min_delta = 0.0005. New best score: 0.402\n",
      "Metric val_loss improved by 0.009 >= min_delta = 0.0005. New best score: 0.393\n",
      "Metric val_loss improved by 0.008 >= min_delta = 0.0005. New best score: 0.385\n",
      "Metric val_loss improved by 0.008 >= min_delta = 0.0005. New best score: 0.377\n",
      "Metric val_loss improved by 0.007 >= min_delta = 0.0005. New best score: 0.369\n",
      "Metric val_loss improved by 0.007 >= min_delta = 0.0005. New best score: 0.363\n",
      "Metric val_loss improved by 0.006 >= min_delta = 0.0005. New best score: 0.356\n",
      "Metric val_loss improved by 0.006 >= min_delta = 0.0005. New best score: 0.351\n",
      "Metric val_loss improved by 0.006 >= min_delta = 0.0005. New best score: 0.345\n",
      "Metric val_loss improved by 0.005 >= min_delta = 0.0005. New best score: 0.340\n",
      "Metric val_loss improved by 0.005 >= min_delta = 0.0005. New best score: 0.335\n",
      "Metric val_loss improved by 0.004 >= min_delta = 0.0005. New best score: 0.331\n",
      "Metric val_loss improved by 0.004 >= min_delta = 0.0005. New best score: 0.327\n",
      "`Trainer.fit` stopped: `max_epochs=30` reached.\n",
      "/home/eduardo/Documentos/Water-Cycle-Neural-Network/venv/lib/python3.12/site-packages/torch/nn/modules/transformer.py:382: UserWarning: enable_nested_tensor is True, but self.use_nested_tensor is False because encoder_layer.self_attn.batch_first was not True(use batch_first for better inference performance)\n",
      "  warnings.warn(\n",
      "GPU available: True (cuda), used: True\n",
      "TPU available: False, using: 0 TPU cores\n",
      "HPU available: False, using: 0 HPUs\n",
      "LOCAL_RANK: 0 - CUDA_VISIBLE_DEVICES: [0]\n",
      "/home/eduardo/Documentos/Water-Cycle-Neural-Network/venv/lib/python3.12/site-packages/pytorch_lightning/trainer/connectors/data_connector.py:425: The 'predict_dataloader' does not have many workers which may be a bottleneck. Consider increasing the value of the `num_workers` argument` to `num_workers=11` in the `DataLoader` to improve performance.\n"
     ]
    },
    {
     "name": "stdout",
     "output_type": "stream",
     "text": [
      "Model loaded from checkpoint for trial 2\n"
     ]
    },
    {
     "name": "stderr",
     "output_type": "stream",
     "text": [
      "[I 2025-05-26 11:04:17,293] Trial 2 finished with value: 0.26273121233505076 and parameters: {'input_chunk_length': 62, 'output_chunk_length': 9, 'dropout': 0.3412525447739263, 'batch_size': 104, 'lr': 2.164900521579707e-05, 'weight_decay': 0.0009605410799990869, 'd_model': 256, 'nhead': 2, 'num_encoder_layers': 3, 'num_decoder_layers': 3, 'activation': 'GLU', 'loss_fn': 'mae', 'optimizer': 'SGD'}. Best is trial 2 with value: 0.26273121233505076.\n",
      "Specified future encoders in `add_encoders` at model creation but model does not accept future covariates. future encoders will be ignored.\n",
      "/home/eduardo/Documentos/Water-Cycle-Neural-Network/venv/lib/python3.12/site-packages/torch/nn/modules/transformer.py:382: UserWarning: enable_nested_tensor is True, but self.use_nested_tensor is False because encoder_layer.self_attn.batch_first was not True(use batch_first for better inference performance)\n",
      "  warnings.warn(\n",
      "GPU available: True (cuda), used: True\n",
      "TPU available: False, using: 0 TPU cores\n",
      "HPU available: False, using: 0 HPUs\n",
      "LOCAL_RANK: 0 - CUDA_VISIBLE_DEVICES: [0]\n"
     ]
    },
    {
     "name": "stdout",
     "output_type": "stream",
     "text": [
      "Starting time series verification for consistency...\n",
      "\n",
      "Performance metrics:\n",
      "                                     MSE        RMSE         MAE           R2  \\\n",
      "Temperature                   276.788137   16.636951   14.995012    -8.077164   \n",
      "Precipitation_accumulated   12774.352225  113.023680   91.586838 -3983.462841   \n",
      "Humidity                      400.976222   20.024391   15.978972    -1.726419   \n",
      "Wind_Speed_kmh                  1.769291    1.330147    1.082130    -0.310746   \n",
      "Soil_Moisture              466707.971761  683.160283  558.945724    -8.763579   \n",
      "Soil_Temperature               72.744171    8.529019    6.889102    -3.540467   \n",
      "Wind_Dir_Sin                    0.655669    0.809734    0.720786    -0.197791   \n",
      "Wind_Dir_Cos                    1.596488    1.263522    1.111365    -3.334509   \n",
      "\n",
      "                                SMAPE  \n",
      "Temperature                 96.576760  \n",
      "Precipitation_accumulated   22.528943  \n",
      "Humidity                    17.195740  \n",
      "Wind_Speed_kmh              80.317679  \n",
      "Soil_Moisture                6.581645  \n",
      "Soil_Temperature            71.565459  \n",
      "Wind_Dir_Sin               153.116260  \n",
      "Wind_Dir_Cos               153.788644  \n",
      "The MAE for this fold was 0.26273121233505076\n",
      "Results of trial 2 saved in optuna_iteration_metrics/trial_2.json\n",
      "Current value: 0.26273121233505076, Current params: {'input_chunk_length': 62, 'output_chunk_length': 9, 'dropout': 0.3412525447739263, 'batch_size': 104, 'lr': 2.164900521579707e-05, 'weight_decay': 0.0009605410799990869, 'd_model': 256, 'nhead': 2, 'num_encoder_layers': 3, 'num_decoder_layers': 3, 'activation': 'GLU', 'loss_fn': 'mae', 'optimizer': 'SGD'}\n",
      "Best value: 0.26273121233505076, Best params: {'input_chunk_length': 62, 'output_chunk_length': 9, 'dropout': 0.3412525447739263, 'batch_size': 104, 'lr': 2.164900521579707e-05, 'weight_decay': 0.0009605410799990869, 'd_model': 256, 'nhead': 2, 'num_encoder_layers': 3, 'num_decoder_layers': 3, 'activation': 'GLU', 'loss_fn': 'mae', 'optimizer': 'SGD'}\n",
      "\n",
      "Starting Trial 3\n",
      "Hyperparameters: {'input_chunk_length': 28, 'output_chunk_length': 20, 'dropout': 0.11591185453200858, 'batch_size': 85, 'lr': 0.00011971582297457522, 'weight_decay': 0.0012315169639859247, 'd_model': 64, 'nhead': 4, 'num_encoder_layers': 1, 'num_decoder_layers': 2, 'activation': 'GELU', 'loss_fn': 'smoothl1', 'optimizer': 'AdamW'}\n",
      "\n",
      "Training the model...\n",
      "Train set: 6647 samples\n",
      "Validation set: 1662 samples\n"
     ]
    },
    {
     "name": "stderr",
     "output_type": "stream",
     "text": [
      "Metric val_loss improved. New best score: 0.063\n",
      "Metric val_loss improved by 0.019 >= min_delta = 0.0005. New best score: 0.045\n",
      "Metric val_loss improved by 0.004 >= min_delta = 0.0005. New best score: 0.040\n",
      "Metric val_loss improved by 0.002 >= min_delta = 0.0005. New best score: 0.039\n",
      "Metric val_loss improved by 0.001 >= min_delta = 0.0005. New best score: 0.037\n",
      "Metric val_loss improved by 0.001 >= min_delta = 0.0005. New best score: 0.036\n",
      "Metric val_loss improved by 0.002 >= min_delta = 0.0005. New best score: 0.035\n",
      "Metric val_loss improved by 0.002 >= min_delta = 0.0005. New best score: 0.033\n",
      "Metric val_loss improved by 0.001 >= min_delta = 0.0005. New best score: 0.032\n",
      "Metric val_loss improved by 0.002 >= min_delta = 0.0005. New best score: 0.030\n",
      "Metric val_loss improved by 0.001 >= min_delta = 0.0005. New best score: 0.029\n",
      "Metric val_loss improved by 0.001 >= min_delta = 0.0005. New best score: 0.028\n",
      "Metric val_loss improved by 0.001 >= min_delta = 0.0005. New best score: 0.027\n",
      "Metric val_loss improved by 0.001 >= min_delta = 0.0005. New best score: 0.026\n",
      "Metric val_loss improved by 0.001 >= min_delta = 0.0005. New best score: 0.025\n",
      "Metric val_loss improved by 0.001 >= min_delta = 0.0005. New best score: 0.024\n",
      "`Trainer.fit` stopped: `max_epochs=30` reached.\n",
      "/home/eduardo/Documentos/Water-Cycle-Neural-Network/venv/lib/python3.12/site-packages/torch/nn/modules/transformer.py:382: UserWarning: enable_nested_tensor is True, but self.use_nested_tensor is False because encoder_layer.self_attn.batch_first was not True(use batch_first for better inference performance)\n",
      "  warnings.warn(\n",
      "GPU available: True (cuda), used: True\n",
      "TPU available: False, using: 0 TPU cores\n",
      "HPU available: False, using: 0 HPUs\n",
      "LOCAL_RANK: 0 - CUDA_VISIBLE_DEVICES: [0]\n",
      "/home/eduardo/Documentos/Water-Cycle-Neural-Network/venv/lib/python3.12/site-packages/pytorch_lightning/trainer/connectors/data_connector.py:425: The 'predict_dataloader' does not have many workers which may be a bottleneck. Consider increasing the value of the `num_workers` argument` to `num_workers=11` in the `DataLoader` to improve performance.\n"
     ]
    },
    {
     "name": "stdout",
     "output_type": "stream",
     "text": [
      "Model loaded from checkpoint for trial 3\n"
     ]
    },
    {
     "name": "stderr",
     "output_type": "stream",
     "text": [
      "[I 2025-05-26 11:05:08,223] Trial 3 finished with value: 0.15960215586555954 and parameters: {'input_chunk_length': 28, 'output_chunk_length': 20, 'dropout': 0.11591185453200858, 'batch_size': 85, 'lr': 0.00011971582297457522, 'weight_decay': 0.0012315169639859247, 'd_model': 64, 'nhead': 4, 'num_encoder_layers': 1, 'num_decoder_layers': 2, 'activation': 'GELU', 'loss_fn': 'smoothl1', 'optimizer': 'AdamW'}. Best is trial 3 with value: 0.15960215586555954.\n",
      "Specified future encoders in `add_encoders` at model creation but model does not accept future covariates. future encoders will be ignored.\n",
      "/home/eduardo/Documentos/Water-Cycle-Neural-Network/venv/lib/python3.12/site-packages/torch/nn/modules/transformer.py:382: UserWarning: enable_nested_tensor is True, but self.use_nested_tensor is False because encoder_layer.self_attn.batch_first was not True(use batch_first for better inference performance)\n",
      "  warnings.warn(\n",
      "GPU available: True (cuda), used: True\n",
      "TPU available: False, using: 0 TPU cores\n",
      "HPU available: False, using: 0 HPUs\n",
      "LOCAL_RANK: 0 - CUDA_VISIBLE_DEVICES: [0]\n"
     ]
    },
    {
     "name": "stdout",
     "output_type": "stream",
     "text": [
      "Starting time series verification for consistency...\n",
      "\n",
      "Performance metrics:\n",
      "                                     MSE        RMSE         MAE           R2  \\\n",
      "Temperature                    10.590288    3.254272    2.652147     0.652925   \n",
      "Precipitation_accumulated   10447.484383  102.212936   95.796209 -3130.734411   \n",
      "Humidity                       97.789741    9.888870    8.517509     0.333156   \n",
      "Wind_Speed_kmh                  1.686659    1.298714    1.014915    -0.252495   \n",
      "Soil_Moisture              440561.766627  663.748271  589.999707    -7.275361   \n",
      "Soil_Temperature                5.785752    2.405359    1.956268     0.640742   \n",
      "Wind_Dir_Sin                    0.592710    0.769877    0.669725    -0.077421   \n",
      "Wind_Dir_Cos                    0.389520    0.624115    0.519242    -0.060932   \n",
      "\n",
      "                                SMAPE  \n",
      "Temperature                 40.133618  \n",
      "Precipitation_accumulated   23.370928  \n",
      "Humidity                    10.023612  \n",
      "Wind_Speed_kmh              84.043143  \n",
      "Soil_Moisture                7.170284  \n",
      "Soil_Temperature            32.515580  \n",
      "Wind_Dir_Sin               131.955691  \n",
      "Wind_Dir_Cos               119.452643  \n",
      "The MAE for this fold was 0.15960215586555954\n",
      "Results of trial 3 saved in optuna_iteration_metrics/trial_3.json\n",
      "Current value: 0.15960215586555954, Current params: {'input_chunk_length': 28, 'output_chunk_length': 20, 'dropout': 0.11591185453200858, 'batch_size': 85, 'lr': 0.00011971582297457522, 'weight_decay': 0.0012315169639859247, 'd_model': 64, 'nhead': 4, 'num_encoder_layers': 1, 'num_decoder_layers': 2, 'activation': 'GELU', 'loss_fn': 'smoothl1', 'optimizer': 'AdamW'}\n",
      "Best value: 0.15960215586555954, Best params: {'input_chunk_length': 28, 'output_chunk_length': 20, 'dropout': 0.11591185453200858, 'batch_size': 85, 'lr': 0.00011971582297457522, 'weight_decay': 0.0012315169639859247, 'd_model': 64, 'nhead': 4, 'num_encoder_layers': 1, 'num_decoder_layers': 2, 'activation': 'GELU', 'loss_fn': 'smoothl1', 'optimizer': 'AdamW'}\n",
      "\n",
      "Starting Trial 4\n",
      "Hyperparameters: {'input_chunk_length': 43, 'output_chunk_length': 1, 'dropout': 0.4308939891822833, 'batch_size': 197, 'lr': 4.9986349114371966e-05, 'weight_decay': 0.0008854966140238319, 'd_model': 128, 'nhead': 8, 'num_encoder_layers': 1, 'num_decoder_layers': 3, 'activation': 'ReLU', 'loss_fn': 'mae', 'optimizer': 'Adam'}\n",
      "\n",
      "Training the model...\n",
      "Train set: 6647 samples\n",
      "Validation set: 1662 samples\n"
     ]
    },
    {
     "name": "stderr",
     "output_type": "stream",
     "text": [
      "Metric val_loss improved. New best score: 0.356\n",
      "Metric val_loss improved by 0.114 >= min_delta = 0.0005. New best score: 0.242\n",
      "Metric val_loss improved by 0.018 >= min_delta = 0.0005. New best score: 0.224\n",
      "Metric val_loss improved by 0.017 >= min_delta = 0.0005. New best score: 0.207\n",
      "Metric val_loss improved by 0.003 >= min_delta = 0.0005. New best score: 0.204\n",
      "Metric val_loss improved by 0.001 >= min_delta = 0.0005. New best score: 0.203\n",
      "Metric val_loss improved by 0.004 >= min_delta = 0.0005. New best score: 0.200\n",
      "Metric val_loss improved by 0.002 >= min_delta = 0.0005. New best score: 0.197\n",
      "Metric val_loss improved by 0.002 >= min_delta = 0.0005. New best score: 0.196\n",
      "Metric val_loss improved by 0.003 >= min_delta = 0.0005. New best score: 0.193\n",
      "Metric val_loss improved by 0.003 >= min_delta = 0.0005. New best score: 0.190\n",
      "Metric val_loss improved by 0.002 >= min_delta = 0.0005. New best score: 0.188\n",
      "Metric val_loss improved by 0.001 >= min_delta = 0.0005. New best score: 0.187\n",
      "Metric val_loss improved by 0.002 >= min_delta = 0.0005. New best score: 0.185\n",
      "Metric val_loss improved by 0.002 >= min_delta = 0.0005. New best score: 0.183\n",
      "Metric val_loss improved by 0.005 >= min_delta = 0.0005. New best score: 0.179\n",
      "Metric val_loss improved by 0.003 >= min_delta = 0.0005. New best score: 0.176\n",
      "Metric val_loss improved by 0.003 >= min_delta = 0.0005. New best score: 0.173\n",
      "Metric val_loss improved by 0.004 >= min_delta = 0.0005. New best score: 0.169\n",
      "Metric val_loss improved by 0.001 >= min_delta = 0.0005. New best score: 0.169\n",
      "Metric val_loss improved by 0.001 >= min_delta = 0.0005. New best score: 0.168\n",
      "Metric val_loss improved by 0.006 >= min_delta = 0.0005. New best score: 0.161\n",
      "`Trainer.fit` stopped: `max_epochs=30` reached.\n",
      "/home/eduardo/Documentos/Water-Cycle-Neural-Network/venv/lib/python3.12/site-packages/torch/nn/modules/transformer.py:382: UserWarning: enable_nested_tensor is True, but self.use_nested_tensor is False because encoder_layer.self_attn.batch_first was not True(use batch_first for better inference performance)\n",
      "  warnings.warn(\n",
      "GPU available: True (cuda), used: True\n",
      "TPU available: False, using: 0 TPU cores\n",
      "HPU available: False, using: 0 HPUs\n",
      "LOCAL_RANK: 0 - CUDA_VISIBLE_DEVICES: [0]\n",
      "/home/eduardo/Documentos/Water-Cycle-Neural-Network/venv/lib/python3.12/site-packages/pytorch_lightning/trainer/connectors/data_connector.py:425: The 'predict_dataloader' does not have many workers which may be a bottleneck. Consider increasing the value of the `num_workers` argument` to `num_workers=11` in the `DataLoader` to improve performance.\n"
     ]
    },
    {
     "name": "stdout",
     "output_type": "stream",
     "text": [
      "Model loaded from checkpoint for trial 4\n"
     ]
    },
    {
     "name": "stderr",
     "output_type": "stream",
     "text": [
      "[I 2025-05-26 11:06:20,350] Trial 4 finished with value: 0.16148961408642912 and parameters: {'input_chunk_length': 43, 'output_chunk_length': 1, 'dropout': 0.4308939891822833, 'batch_size': 197, 'lr': 4.9986349114371966e-05, 'weight_decay': 0.0008854966140238319, 'd_model': 128, 'nhead': 8, 'num_encoder_layers': 1, 'num_decoder_layers': 3, 'activation': 'ReLU', 'loss_fn': 'mae', 'optimizer': 'Adam'}. Best is trial 3 with value: 0.15960215586555954.\n",
      "Specified future encoders in `add_encoders` at model creation but model does not accept future covariates. future encoders will be ignored.\n",
      "/home/eduardo/Documentos/Water-Cycle-Neural-Network/venv/lib/python3.12/site-packages/torch/nn/modules/transformer.py:382: UserWarning: enable_nested_tensor is True, but self.use_nested_tensor is False because encoder_layer.self_attn.batch_first was not True(use batch_first for better inference performance)\n",
      "  warnings.warn(\n",
      "GPU available: True (cuda), used: True\n",
      "TPU available: False, using: 0 TPU cores\n",
      "HPU available: False, using: 0 HPUs\n",
      "LOCAL_RANK: 0 - CUDA_VISIBLE_DEVICES: [0]\n"
     ]
    },
    {
     "name": "stdout",
     "output_type": "stream",
     "text": [
      "Starting time series verification for consistency...\n",
      "\n",
      "Performance metrics:\n",
      "                                    MSE         RMSE          MAE          R2  \\\n",
      "Temperature                2.131196e+01     4.616488     3.605166    0.302375   \n",
      "Precipitation_accumulated  3.941899e+02    19.854216    16.163614 -116.397967   \n",
      "Humidity                   8.831793e+01     9.397762     8.155803    0.397950   \n",
      "Wind_Speed_kmh             2.014451e+00     1.419314     1.062633   -0.494701   \n",
      "Soil_Moisture              1.316352e+06  1147.323786  1128.203112  -23.385362   \n",
      "Soil_Temperature           6.045577e+00     2.458776     1.998994    0.625145   \n",
      "Wind_Dir_Sin               5.593928e-01     0.747926     0.653759   -0.013228   \n",
      "Wind_Dir_Cos               5.208413e-01     0.721693     0.616865   -0.421842   \n",
      "\n",
      "                                SMAPE  \n",
      "Temperature                 50.552926  \n",
      "Precipitation_accumulated    3.551215  \n",
      "Humidity                     9.557444  \n",
      "Wind_Speed_kmh              93.739909  \n",
      "Soil_Moisture               14.097685  \n",
      "Soil_Temperature            31.798172  \n",
      "Wind_Dir_Sin               128.584520  \n",
      "Wind_Dir_Cos               157.356391  \n",
      "The MAE for this fold was 0.16148961408642912\n",
      "Results of trial 4 saved in optuna_iteration_metrics/trial_4.json\n",
      "Current value: 0.16148961408642912, Current params: {'input_chunk_length': 43, 'output_chunk_length': 1, 'dropout': 0.4308939891822833, 'batch_size': 197, 'lr': 4.9986349114371966e-05, 'weight_decay': 0.0008854966140238319, 'd_model': 128, 'nhead': 8, 'num_encoder_layers': 1, 'num_decoder_layers': 3, 'activation': 'ReLU', 'loss_fn': 'mae', 'optimizer': 'Adam'}\n",
      "Best value: 0.15960215586555954, Best params: {'input_chunk_length': 28, 'output_chunk_length': 20, 'dropout': 0.11591185453200858, 'batch_size': 85, 'lr': 0.00011971582297457522, 'weight_decay': 0.0012315169639859247, 'd_model': 64, 'nhead': 4, 'num_encoder_layers': 1, 'num_decoder_layers': 2, 'activation': 'GELU', 'loss_fn': 'smoothl1', 'optimizer': 'AdamW'}\n",
      "\n",
      "Starting Trial 5\n",
      "Hyperparameters: {'input_chunk_length': 64, 'output_chunk_length': 22, 'dropout': 0.3392647963974882, 'batch_size': 207, 'lr': 7.1902268019054e-06, 'weight_decay': 4.252366863828271e-05, 'd_model': 256, 'nhead': 4, 'num_encoder_layers': 2, 'num_decoder_layers': 2, 'activation': 'ReGLU', 'loss_fn': 'smoothl1', 'optimizer': 'AdamW'}\n",
      "\n",
      "Training the model...\n",
      "Train set: 6647 samples\n",
      "Validation set: 1662 samples\n"
     ]
    },
    {
     "name": "stderr",
     "output_type": "stream",
     "text": [
      "Metric val_loss improved. New best score: 0.264\n",
      "Metric val_loss improved by 0.081 >= min_delta = 0.0005. New best score: 0.183\n",
      "Metric val_loss improved by 0.059 >= min_delta = 0.0005. New best score: 0.124\n",
      "Metric val_loss improved by 0.036 >= min_delta = 0.0005. New best score: 0.088\n",
      "Metric val_loss improved by 0.020 >= min_delta = 0.0005. New best score: 0.069\n",
      "Metric val_loss improved by 0.011 >= min_delta = 0.0005. New best score: 0.058\n",
      "Metric val_loss improved by 0.006 >= min_delta = 0.0005. New best score: 0.052\n",
      "Metric val_loss improved by 0.004 >= min_delta = 0.0005. New best score: 0.048\n",
      "Metric val_loss improved by 0.002 >= min_delta = 0.0005. New best score: 0.046\n",
      "Metric val_loss improved by 0.001 >= min_delta = 0.0005. New best score: 0.044\n",
      "Metric val_loss improved by 0.001 >= min_delta = 0.0005. New best score: 0.043\n",
      "Metric val_loss improved by 0.001 >= min_delta = 0.0005. New best score: 0.043\n",
      "Metric val_loss improved by 0.001 >= min_delta = 0.0005. New best score: 0.042\n",
      "Metric val_loss improved by 0.001 >= min_delta = 0.0005. New best score: 0.041\n",
      "Metric val_loss improved by 0.001 >= min_delta = 0.0005. New best score: 0.041\n",
      "Metric val_loss improved by 0.001 >= min_delta = 0.0005. New best score: 0.040\n",
      "Metric val_loss improved by 0.001 >= min_delta = 0.0005. New best score: 0.039\n",
      "Metric val_loss improved by 0.001 >= min_delta = 0.0005. New best score: 0.039\n",
      "Metric val_loss improved by 0.001 >= min_delta = 0.0005. New best score: 0.038\n",
      "`Trainer.fit` stopped: `max_epochs=30` reached.\n",
      "/home/eduardo/Documentos/Water-Cycle-Neural-Network/venv/lib/python3.12/site-packages/torch/nn/modules/transformer.py:382: UserWarning: enable_nested_tensor is True, but self.use_nested_tensor is False because encoder_layer.self_attn.batch_first was not True(use batch_first for better inference performance)\n",
      "  warnings.warn(\n",
      "GPU available: True (cuda), used: True\n",
      "TPU available: False, using: 0 TPU cores\n",
      "HPU available: False, using: 0 HPUs\n",
      "LOCAL_RANK: 0 - CUDA_VISIBLE_DEVICES: [0]\n",
      "/home/eduardo/Documentos/Water-Cycle-Neural-Network/venv/lib/python3.12/site-packages/pytorch_lightning/trainer/connectors/data_connector.py:425: The 'predict_dataloader' does not have many workers which may be a bottleneck. Consider increasing the value of the `num_workers` argument` to `num_workers=11` in the `DataLoader` to improve performance.\n"
     ]
    },
    {
     "name": "stdout",
     "output_type": "stream",
     "text": [
      "Model loaded from checkpoint for trial 5\n"
     ]
    },
    {
     "name": "stderr",
     "output_type": "stream",
     "text": [
      "[I 2025-05-26 11:10:43,228] Trial 5 finished with value: 0.2234166260708855 and parameters: {'input_chunk_length': 64, 'output_chunk_length': 22, 'dropout': 0.3392647963974882, 'batch_size': 207, 'lr': 7.1902268019054e-06, 'weight_decay': 4.252366863828271e-05, 'd_model': 256, 'nhead': 4, 'num_encoder_layers': 2, 'num_decoder_layers': 2, 'activation': 'ReGLU', 'loss_fn': 'smoothl1', 'optimizer': 'AdamW'}. Best is trial 3 with value: 0.15960215586555954.\n",
      "Specified future encoders in `add_encoders` at model creation but model does not accept future covariates. future encoders will be ignored.\n",
      "/home/eduardo/Documentos/Water-Cycle-Neural-Network/venv/lib/python3.12/site-packages/torch/nn/modules/transformer.py:382: UserWarning: enable_nested_tensor is True, but self.use_nested_tensor is False because encoder_layer.self_attn.batch_first was not True(use batch_first for better inference performance)\n",
      "  warnings.warn(\n",
      "GPU available: True (cuda), used: True\n",
      "TPU available: False, using: 0 TPU cores\n",
      "HPU available: False, using: 0 HPUs\n",
      "LOCAL_RANK: 0 - CUDA_VISIBLE_DEVICES: [0]\n"
     ]
    },
    {
     "name": "stdout",
     "output_type": "stream",
     "text": [
      "Starting time series verification for consistency...\n",
      "\n",
      "Performance metrics:\n",
      "                                    MSE         RMSE          MAE  \\\n",
      "Temperature                3.410678e+01     5.840101     4.961180   \n",
      "Precipitation_accumulated  3.040441e+04   174.368604   165.497892   \n",
      "Humidity                   1.400373e+02    11.833737     9.553012   \n",
      "Wind_Speed_kmh             1.632957e+00     1.277872     0.996419   \n",
      "Soil_Moisture              2.039499e+06  1428.110318  1386.777081   \n",
      "Soil_Temperature           3.366501e+01     5.802156     5.184236   \n",
      "Wind_Dir_Sin               5.612661e-01     0.749177     0.690045   \n",
      "Wind_Dir_Cos               4.923176e-01     0.701653     0.594143   \n",
      "\n",
      "                                    R2       SMAPE  \n",
      "Temperature                  -0.124107   57.360762  \n",
      "Precipitation_accumulated -9755.220136   44.530494  \n",
      "Humidity                      0.050154   11.285285  \n",
      "Wind_Speed_kmh               -0.209520   81.687634  \n",
      "Soil_Moisture               -45.529776   17.675406  \n",
      "Soil_Temperature             -1.123630   59.548472  \n",
      "Wind_Dir_Sin                 -0.023506  169.271559  \n",
      "Wind_Dir_Cos                 -0.339865  152.629907  \n",
      "The MAE for this fold was 0.2234166260708855\n",
      "Results of trial 5 saved in optuna_iteration_metrics/trial_5.json\n",
      "Current value: 0.2234166260708855, Current params: {'input_chunk_length': 64, 'output_chunk_length': 22, 'dropout': 0.3392647963974882, 'batch_size': 207, 'lr': 7.1902268019054e-06, 'weight_decay': 4.252366863828271e-05, 'd_model': 256, 'nhead': 4, 'num_encoder_layers': 2, 'num_decoder_layers': 2, 'activation': 'ReGLU', 'loss_fn': 'smoothl1', 'optimizer': 'AdamW'}\n",
      "Best value: 0.15960215586555954, Best params: {'input_chunk_length': 28, 'output_chunk_length': 20, 'dropout': 0.11591185453200858, 'batch_size': 85, 'lr': 0.00011971582297457522, 'weight_decay': 0.0012315169639859247, 'd_model': 64, 'nhead': 4, 'num_encoder_layers': 1, 'num_decoder_layers': 2, 'activation': 'GELU', 'loss_fn': 'smoothl1', 'optimizer': 'AdamW'}\n",
      "\n",
      "Starting Trial 6\n",
      "Hyperparameters: {'input_chunk_length': 45, 'output_chunk_length': 7, 'dropout': 0.3662587132872209, 'batch_size': 122, 'lr': 8.560331276802379e-05, 'weight_decay': 0.00012930182222948913, 'd_model': 64, 'nhead': 4, 'num_encoder_layers': 4, 'num_decoder_layers': 3, 'activation': 'Bilinear', 'loss_fn': 'mae', 'optimizer': 'Adam'}\n",
      "\n",
      "Training the model...\n",
      "Train set: 6647 samples\n",
      "Validation set: 1662 samples\n"
     ]
    },
    {
     "name": "stderr",
     "output_type": "stream",
     "text": [
      "Metric val_loss improved. New best score: 0.253\n",
      "Metric val_loss improved by 0.015 >= min_delta = 0.0005. New best score: 0.237\n",
      "Metric val_loss improved by 0.004 >= min_delta = 0.0005. New best score: 0.233\n",
      "Metric val_loss improved by 0.003 >= min_delta = 0.0005. New best score: 0.230\n",
      "Metric val_loss improved by 0.005 >= min_delta = 0.0005. New best score: 0.225\n",
      "Metric val_loss improved by 0.006 >= min_delta = 0.0005. New best score: 0.219\n",
      "Metric val_loss improved by 0.005 >= min_delta = 0.0005. New best score: 0.214\n",
      "Metric val_loss improved by 0.004 >= min_delta = 0.0005. New best score: 0.210\n",
      "Metric val_loss improved by 0.005 >= min_delta = 0.0005. New best score: 0.204\n",
      "Metric val_loss improved by 0.002 >= min_delta = 0.0005. New best score: 0.202\n",
      "Metric val_loss improved by 0.004 >= min_delta = 0.0005. New best score: 0.199\n",
      "Metric val_loss improved by 0.003 >= min_delta = 0.0005. New best score: 0.195\n",
      "Metric val_loss improved by 0.002 >= min_delta = 0.0005. New best score: 0.194\n",
      "Metric val_loss improved by 0.001 >= min_delta = 0.0005. New best score: 0.193\n",
      "Metric val_loss improved by 0.006 >= min_delta = 0.0005. New best score: 0.187\n",
      "Metric val_loss improved by 0.006 >= min_delta = 0.0005. New best score: 0.181\n",
      "Metric val_loss improved by 0.001 >= min_delta = 0.0005. New best score: 0.181\n",
      "Metric val_loss improved by 0.001 >= min_delta = 0.0005. New best score: 0.180\n",
      "Metric val_loss improved by 0.002 >= min_delta = 0.0005. New best score: 0.178\n",
      "[I 2025-05-26 11:12:19,615] Trial 6 pruned. Trial was pruned at epoch 25.\n",
      "Specified future encoders in `add_encoders` at model creation but model does not accept future covariates. future encoders will be ignored.\n",
      "/home/eduardo/Documentos/Water-Cycle-Neural-Network/venv/lib/python3.12/site-packages/torch/nn/modules/transformer.py:382: UserWarning: enable_nested_tensor is True, but self.use_nested_tensor is False because encoder_layer.self_attn.batch_first was not True(use batch_first for better inference performance)\n",
      "  warnings.warn(\n",
      "GPU available: True (cuda), used: True\n",
      "TPU available: False, using: 0 TPU cores\n",
      "HPU available: False, using: 0 HPUs\n",
      "LOCAL_RANK: 0 - CUDA_VISIBLE_DEVICES: [0]\n"
     ]
    },
    {
     "name": "stdout",
     "output_type": "stream",
     "text": [
      "Current value: 0.17999976241542762, Current params: {'input_chunk_length': 45, 'output_chunk_length': 7, 'dropout': 0.3662587132872209, 'batch_size': 122, 'lr': 8.560331276802379e-05, 'weight_decay': 0.00012930182222948913, 'd_model': 64, 'nhead': 4, 'num_encoder_layers': 4, 'num_decoder_layers': 3, 'activation': 'Bilinear', 'loss_fn': 'mae', 'optimizer': 'Adam'}\n",
      "Best value: 0.15960215586555954, Best params: {'input_chunk_length': 28, 'output_chunk_length': 20, 'dropout': 0.11591185453200858, 'batch_size': 85, 'lr': 0.00011971582297457522, 'weight_decay': 0.0012315169639859247, 'd_model': 64, 'nhead': 4, 'num_encoder_layers': 1, 'num_decoder_layers': 2, 'activation': 'GELU', 'loss_fn': 'smoothl1', 'optimizer': 'AdamW'}\n",
      "\n",
      "Starting Trial 7\n",
      "Hyperparameters: {'input_chunk_length': 65, 'output_chunk_length': 7, 'dropout': 0.23813816348752864, 'batch_size': 156, 'lr': 3.946063362616491e-06, 'weight_decay': 1.6447234773284225e-05, 'd_model': 256, 'nhead': 4, 'num_encoder_layers': 1, 'num_decoder_layers': 2, 'activation': 'ReLU', 'loss_fn': 'mse', 'optimizer': 'Adam'}\n",
      "\n",
      "Training the model...\n",
      "Train set: 6647 samples\n",
      "Validation set: 1662 samples\n"
     ]
    },
    {
     "name": "stderr",
     "output_type": "stream",
     "text": [
      "[I 2025-05-26 11:12:25,510] Trial 7 pruned. Trial was pruned at epoch 0.\n",
      "Specified future encoders in `add_encoders` at model creation but model does not accept future covariates. future encoders will be ignored.\n",
      "/home/eduardo/Documentos/Water-Cycle-Neural-Network/venv/lib/python3.12/site-packages/torch/nn/modules/transformer.py:382: UserWarning: enable_nested_tensor is True, but self.use_nested_tensor is False because encoder_layer.self_attn.batch_first was not True(use batch_first for better inference performance)\n",
      "  warnings.warn(\n",
      "GPU available: True (cuda), used: True\n",
      "TPU available: False, using: 0 TPU cores\n",
      "HPU available: False, using: 0 HPUs\n",
      "LOCAL_RANK: 0 - CUDA_VISIBLE_DEVICES: [0]\n"
     ]
    },
    {
     "name": "stdout",
     "output_type": "stream",
     "text": [
      "Current value: 0.306963853789836, Current params: {'input_chunk_length': 65, 'output_chunk_length': 7, 'dropout': 0.23813816348752864, 'batch_size': 156, 'lr': 3.946063362616491e-06, 'weight_decay': 1.6447234773284225e-05, 'd_model': 256, 'nhead': 4, 'num_encoder_layers': 1, 'num_decoder_layers': 2, 'activation': 'ReLU', 'loss_fn': 'mse', 'optimizer': 'Adam'}\n",
      "Best value: 0.15960215586555954, Best params: {'input_chunk_length': 28, 'output_chunk_length': 20, 'dropout': 0.11591185453200858, 'batch_size': 85, 'lr': 0.00011971582297457522, 'weight_decay': 0.0012315169639859247, 'd_model': 64, 'nhead': 4, 'num_encoder_layers': 1, 'num_decoder_layers': 2, 'activation': 'GELU', 'loss_fn': 'smoothl1', 'optimizer': 'AdamW'}\n",
      "\n",
      "Starting Trial 8\n",
      "Hyperparameters: {'input_chunk_length': 70, 'output_chunk_length': 12, 'dropout': 0.20340126711774822, 'batch_size': 142, 'lr': 0.00031440849335565035, 'weight_decay': 8.459666899441219e-06, 'd_model': 256, 'nhead': 2, 'num_encoder_layers': 4, 'num_decoder_layers': 4, 'activation': 'SwiGLU', 'loss_fn': 'smoothl1', 'optimizer': 'AdamW'}\n",
      "\n",
      "Training the model...\n",
      "Train set: 6647 samples\n",
      "Validation set: 1662 samples\n"
     ]
    },
    {
     "name": "stderr",
     "output_type": "stream",
     "text": [
      "Metric val_loss improved. New best score: 0.041\n",
      "Metric val_loss improved by 0.009 >= min_delta = 0.0005. New best score: 0.031\n",
      "Metric val_loss improved by 0.001 >= min_delta = 0.0005. New best score: 0.030\n",
      "Metric val_loss improved by 0.002 >= min_delta = 0.0005. New best score: 0.028\n",
      "Metric val_loss improved by 0.001 >= min_delta = 0.0005. New best score: 0.028\n",
      "Monitored metric val_loss did not improve in the last 15 records. Best score: 0.028. Signaling Trainer to stop.\n",
      "/home/eduardo/Documentos/Water-Cycle-Neural-Network/venv/lib/python3.12/site-packages/torch/nn/modules/transformer.py:382: UserWarning: enable_nested_tensor is True, but self.use_nested_tensor is False because encoder_layer.self_attn.batch_first was not True(use batch_first for better inference performance)\n",
      "  warnings.warn(\n",
      "GPU available: True (cuda), used: True\n",
      "TPU available: False, using: 0 TPU cores\n",
      "HPU available: False, using: 0 HPUs\n",
      "LOCAL_RANK: 0 - CUDA_VISIBLE_DEVICES: [0]\n",
      "/home/eduardo/Documentos/Water-Cycle-Neural-Network/venv/lib/python3.12/site-packages/pytorch_lightning/trainer/connectors/data_connector.py:425: The 'predict_dataloader' does not have many workers which may be a bottleneck. Consider increasing the value of the `num_workers` argument` to `num_workers=11` in the `DataLoader` to improve performance.\n"
     ]
    },
    {
     "name": "stdout",
     "output_type": "stream",
     "text": [
      "Model loaded from checkpoint for trial 8\n"
     ]
    },
    {
     "name": "stderr",
     "output_type": "stream",
     "text": [
      "[I 2025-05-26 11:21:29,848] Trial 8 finished with value: 0.16803630041355178 and parameters: {'input_chunk_length': 70, 'output_chunk_length': 12, 'dropout': 0.20340126711774822, 'batch_size': 142, 'lr': 0.00031440849335565035, 'weight_decay': 8.459666899441219e-06, 'd_model': 256, 'nhead': 2, 'num_encoder_layers': 4, 'num_decoder_layers': 4, 'activation': 'SwiGLU', 'loss_fn': 'smoothl1', 'optimizer': 'AdamW'}. Best is trial 3 with value: 0.15960215586555954.\n",
      "Specified future encoders in `add_encoders` at model creation but model does not accept future covariates. future encoders will be ignored.\n",
      "/home/eduardo/Documentos/Water-Cycle-Neural-Network/venv/lib/python3.12/site-packages/torch/nn/modules/transformer.py:382: UserWarning: enable_nested_tensor is True, but self.use_nested_tensor is False because encoder_layer.self_attn.batch_first was not True(use batch_first for better inference performance)\n",
      "  warnings.warn(\n",
      "GPU available: True (cuda), used: True\n",
      "TPU available: False, using: 0 TPU cores\n",
      "HPU available: False, using: 0 HPUs\n",
      "LOCAL_RANK: 0 - CUDA_VISIBLE_DEVICES: [0]\n"
     ]
    },
    {
     "name": "stdout",
     "output_type": "stream",
     "text": [
      "Starting time series verification for consistency...\n",
      "\n",
      "Performance metrics:\n",
      "                                     MSE        RMSE         MAE           R2  \\\n",
      "Temperature                    15.956515    3.994561    3.108503     0.472775   \n",
      "Precipitation_accumulated   11570.963910  107.568415   88.023708 -3683.196240   \n",
      "Humidity                      103.480476   10.172535    8.026621     0.296579   \n",
      "Wind_Speed_kmh                  2.208717    1.486175    1.221544    -0.632746   \n",
      "Soil_Moisture              165662.150763  407.016155  333.742098    -2.681921   \n",
      "Soil_Temperature               27.013055    5.197409    4.330077    -0.704850   \n",
      "Wind_Dir_Sin                    0.718758    0.847796    0.748843    -0.310681   \n",
      "Wind_Dir_Cos                    0.473874    0.688385    0.559786    -0.290019   \n",
      "\n",
      "                                SMAPE  \n",
      "Temperature                 44.173290  \n",
      "Precipitation_accumulated   21.867234  \n",
      "Humidity                     9.550515  \n",
      "Wind_Speed_kmh              79.891802  \n",
      "Soil_Moisture                3.920730  \n",
      "Soil_Temperature            96.077895  \n",
      "Wind_Dir_Sin               155.099916  \n",
      "Wind_Dir_Cos               119.260183  \n",
      "The MAE for this fold was 0.16803630041355178\n",
      "Results of trial 8 saved in optuna_iteration_metrics/trial_8.json\n",
      "Current value: 0.16803630041355178, Current params: {'input_chunk_length': 70, 'output_chunk_length': 12, 'dropout': 0.20340126711774822, 'batch_size': 142, 'lr': 0.00031440849335565035, 'weight_decay': 8.459666899441219e-06, 'd_model': 256, 'nhead': 2, 'num_encoder_layers': 4, 'num_decoder_layers': 4, 'activation': 'SwiGLU', 'loss_fn': 'smoothl1', 'optimizer': 'AdamW'}\n",
      "Best value: 0.15960215586555954, Best params: {'input_chunk_length': 28, 'output_chunk_length': 20, 'dropout': 0.11591185453200858, 'batch_size': 85, 'lr': 0.00011971582297457522, 'weight_decay': 0.0012315169639859247, 'd_model': 64, 'nhead': 4, 'num_encoder_layers': 1, 'num_decoder_layers': 2, 'activation': 'GELU', 'loss_fn': 'smoothl1', 'optimizer': 'AdamW'}\n",
      "\n",
      "Starting Trial 9\n",
      "Hyperparameters: {'input_chunk_length': 29, 'output_chunk_length': 21, 'dropout': 0.24269093991023016, 'batch_size': 100, 'lr': 2.010791321306502e-06, 'weight_decay': 0.0020117703315563544, 'd_model': 64, 'nhead': 4, 'num_encoder_layers': 4, 'num_decoder_layers': 1, 'activation': 'SwiGLU', 'loss_fn': 'smoothl1', 'optimizer': 'Adam'}\n",
      "\n",
      "Training the model...\n",
      "Train set: 6647 samples\n",
      "Validation set: 1662 samples\n"
     ]
    },
    {
     "name": "stderr",
     "output_type": "stream",
     "text": [
      "[I 2025-05-26 11:21:33,774] Trial 9 pruned. Trial was pruned at epoch 0.\n",
      "Specified future encoders in `add_encoders` at model creation but model does not accept future covariates. future encoders will be ignored.\n",
      "/home/eduardo/Documentos/Water-Cycle-Neural-Network/venv/lib/python3.12/site-packages/torch/nn/modules/transformer.py:382: UserWarning: enable_nested_tensor is True, but self.use_nested_tensor is False because encoder_layer.self_attn.batch_first was not True(use batch_first for better inference performance)\n",
      "  warnings.warn(\n",
      "GPU available: True (cuda), used: True\n",
      "TPU available: False, using: 0 TPU cores\n",
      "HPU available: False, using: 0 HPUs\n",
      "LOCAL_RANK: 0 - CUDA_VISIBLE_DEVICES: [0]\n"
     ]
    },
    {
     "name": "stdout",
     "output_type": "stream",
     "text": [
      "Current value: 0.3198915904150903, Current params: {'input_chunk_length': 29, 'output_chunk_length': 21, 'dropout': 0.24269093991023016, 'batch_size': 100, 'lr': 2.010791321306502e-06, 'weight_decay': 0.0020117703315563544, 'd_model': 64, 'nhead': 4, 'num_encoder_layers': 4, 'num_decoder_layers': 1, 'activation': 'SwiGLU', 'loss_fn': 'smoothl1', 'optimizer': 'Adam'}\n",
      "Best value: 0.15960215586555954, Best params: {'input_chunk_length': 28, 'output_chunk_length': 20, 'dropout': 0.11591185453200858, 'batch_size': 85, 'lr': 0.00011971582297457522, 'weight_decay': 0.0012315169639859247, 'd_model': 64, 'nhead': 4, 'num_encoder_layers': 1, 'num_decoder_layers': 2, 'activation': 'GELU', 'loss_fn': 'smoothl1', 'optimizer': 'AdamW'}\n",
      "\n",
      "Starting Trial 10\n",
      "Hyperparameters: {'input_chunk_length': 24, 'output_chunk_length': 17, 'dropout': 0.12244552605812499, 'batch_size': 65, 'lr': 0.003163473021828231, 'weight_decay': 0.00871099520451134, 'd_model': 64, 'nhead': 2, 'num_encoder_layers': 1, 'num_decoder_layers': 1, 'activation': 'GELU', 'loss_fn': 'mse', 'optimizer': 'RMSprop'}\n",
      "\n",
      "Training the model...\n",
      "Train set: 6647 samples\n",
      "Validation set: 1662 samples\n"
     ]
    },
    {
     "name": "stderr",
     "output_type": "stream",
     "text": [
      "Metric val_loss improved. New best score: 0.072\n",
      "Monitored metric val_loss did not improve in the last 15 records. Best score: 0.072. Signaling Trainer to stop.\n",
      "/home/eduardo/Documentos/Water-Cycle-Neural-Network/venv/lib/python3.12/site-packages/torch/nn/modules/transformer.py:382: UserWarning: enable_nested_tensor is True, but self.use_nested_tensor is False because encoder_layer.self_attn.batch_first was not True(use batch_first for better inference performance)\n",
      "  warnings.warn(\n",
      "GPU available: True (cuda), used: True\n",
      "TPU available: False, using: 0 TPU cores\n",
      "HPU available: False, using: 0 HPUs\n",
      "LOCAL_RANK: 0 - CUDA_VISIBLE_DEVICES: [0]\n",
      "/home/eduardo/Documentos/Water-Cycle-Neural-Network/venv/lib/python3.12/site-packages/pytorch_lightning/trainer/connectors/data_connector.py:425: The 'predict_dataloader' does not have many workers which may be a bottleneck. Consider increasing the value of the `num_workers` argument` to `num_workers=11` in the `DataLoader` to improve performance.\n"
     ]
    },
    {
     "name": "stdout",
     "output_type": "stream",
     "text": [
      "Model loaded from checkpoint for trial 10\n"
     ]
    },
    {
     "name": "stderr",
     "output_type": "stream",
     "text": [
      "[I 2025-05-26 11:22:08,761] Trial 10 finished with value: 0.21654845743603332 and parameters: {'input_chunk_length': 24, 'output_chunk_length': 17, 'dropout': 0.12244552605812499, 'batch_size': 65, 'lr': 0.003163473021828231, 'weight_decay': 0.00871099520451134, 'd_model': 64, 'nhead': 2, 'num_encoder_layers': 1, 'num_decoder_layers': 1, 'activation': 'GELU', 'loss_fn': 'mse', 'optimizer': 'RMSprop'}. Best is trial 3 with value: 0.15960215586555954.\n",
      "Specified future encoders in `add_encoders` at model creation but model does not accept future covariates. future encoders will be ignored.\n",
      "/home/eduardo/Documentos/Water-Cycle-Neural-Network/venv/lib/python3.12/site-packages/torch/nn/modules/transformer.py:382: UserWarning: enable_nested_tensor is True, but self.use_nested_tensor is False because encoder_layer.self_attn.batch_first was not True(use batch_first for better inference performance)\n",
      "  warnings.warn(\n",
      "GPU available: True (cuda), used: True\n",
      "TPU available: False, using: 0 TPU cores\n",
      "HPU available: False, using: 0 HPUs\n",
      "LOCAL_RANK: 0 - CUDA_VISIBLE_DEVICES: [0]\n"
     ]
    },
    {
     "name": "stdout",
     "output_type": "stream",
     "text": [
      "Starting time series verification for consistency...\n",
      "\n",
      "Performance metrics:\n",
      "                                     MSE        RMSE         MAE           R2  \\\n",
      "Temperature                    31.819716    5.640897    4.779726    -0.041040   \n",
      "Precipitation_accumulated   25286.028465  159.015812  146.848797 -7493.722783   \n",
      "Humidity                      151.273119   12.299314    9.994775    -0.030953   \n",
      "Wind_Speed_kmh                  1.586234    1.259458    0.981098    -0.176655   \n",
      "Soil_Moisture              942135.400716  970.636596  902.128785   -16.262222   \n",
      "Soil_Temperature               37.312173    6.108369    5.447241    -1.312823   \n",
      "Wind_Dir_Sin                    0.573902    0.757563    0.698813    -0.040179   \n",
      "Wind_Dir_Cos                    0.827468    0.909653    0.763564    -1.258837   \n",
      "\n",
      "                                SMAPE  \n",
      "Temperature                 57.345441  \n",
      "Precipitation_accumulated   38.972642  \n",
      "Humidity                    11.746133  \n",
      "Wind_Speed_kmh              81.864218  \n",
      "Soil_Moisture               11.211593  \n",
      "Soil_Temperature            62.533160  \n",
      "Wind_Dir_Sin               174.203104  \n",
      "Wind_Dir_Cos               150.406004  \n",
      "The MAE for this fold was 0.21654845743603332\n",
      "Results of trial 10 saved in optuna_iteration_metrics/trial_10.json\n",
      "Current value: 0.21654845743603332, Current params: {'input_chunk_length': 24, 'output_chunk_length': 17, 'dropout': 0.12244552605812499, 'batch_size': 65, 'lr': 0.003163473021828231, 'weight_decay': 0.00871099520451134, 'd_model': 64, 'nhead': 2, 'num_encoder_layers': 1, 'num_decoder_layers': 1, 'activation': 'GELU', 'loss_fn': 'mse', 'optimizer': 'RMSprop'}\n",
      "Best value: 0.15960215586555954, Best params: {'input_chunk_length': 28, 'output_chunk_length': 20, 'dropout': 0.11591185453200858, 'batch_size': 85, 'lr': 0.00011971582297457522, 'weight_decay': 0.0012315169639859247, 'd_model': 64, 'nhead': 4, 'num_encoder_layers': 1, 'num_decoder_layers': 2, 'activation': 'GELU', 'loss_fn': 'smoothl1', 'optimizer': 'AdamW'}\n",
      "\n",
      "Starting Trial 11\n",
      "Hyperparameters: {'input_chunk_length': 33, 'output_chunk_length': 2, 'dropout': 0.4870077400099576, 'batch_size': 242, 'lr': 0.0004869183979164951, 'weight_decay': 1.6294779573376968e-06, 'd_model': 128, 'nhead': 8, 'num_encoder_layers': 1, 'num_decoder_layers': 4, 'activation': 'ReLU', 'loss_fn': 'mae', 'optimizer': 'AdamW'}\n",
      "\n",
      "Training the model...\n",
      "Train set: 6647 samples\n",
      "Validation set: 1662 samples\n"
     ]
    },
    {
     "name": "stderr",
     "output_type": "stream",
     "text": [
      "Exception ignored in: <function _MultiProcessingDataLoaderIter.__del__ at 0x7f8b131f3880>\n",
      "Traceback (most recent call last):\n",
      "  File \"/home/eduardo/Documentos/Water-Cycle-Neural-Network/venv/lib/python3.12/site-packages/torch/utils/data/dataloader.py\", line 1663, in __del__\n",
      "    self._shutdown_workers()Exception ignored in: <function _MultiProcessingDataLoaderIter.__del__ at 0x7f8b131f3880>\n",
      "\n",
      "  File \"/home/eduardo/Documentos/Water-Cycle-Neural-Network/venv/lib/python3.12/site-packages/torch/utils/data/dataloader.py\", line 1646, in _shutdown_workers\n",
      "Traceback (most recent call last):\n",
      "  File \"/home/eduardo/Documentos/Water-Cycle-Neural-Network/venv/lib/python3.12/site-packages/torch/utils/data/dataloader.py\", line 1663, in __del__\n",
      "    if w.is_alive():    self._shutdown_workers()\n",
      "\n",
      "   File \"/home/eduardo/Documentos/Water-Cycle-Neural-Network/venv/lib/python3.12/site-packages/torch/utils/data/dataloader.py\", line 1646, in _shutdown_workers\n",
      "       if w.is_alive(): \n",
      "   ^ ^ ^ ^ ^ ^ ^^^^^^^^^^^^^\n",
      "  File \"/usr/lib/python3.12/multiprocessing/process.py\", line 160, in is_alive\n",
      "^^    ^assert self._parent_pid == os.getpid(), 'can only test a child process'^\n",
      "^ \n",
      "   File \"/usr/lib/python3.12/multiprocessing/process.py\", line 160, in is_alive\n",
      "      assert self._parent_pid == os.getpid(), 'can only test a child process' \n",
      "            ^ ^ ^ ^ ^ ^^^^^^^^^^^^^^^^^^^^^^^^^^^^^^^^^^^^^^^^^^^^^^^^^^^^\n",
      "^AssertionError^^: can only test a child process^\n",
      "^\n",
      "AssertionError: can only test a child process\n",
      "Metric val_loss improved. New best score: 0.206\n",
      "[I 2025-05-26 11:22:17,823] Trial 11 pruned. Trial was pruned at epoch 2.\n",
      "Specified future encoders in `add_encoders` at model creation but model does not accept future covariates. future encoders will be ignored.\n",
      "/home/eduardo/Documentos/Water-Cycle-Neural-Network/venv/lib/python3.12/site-packages/torch/nn/modules/transformer.py:382: UserWarning: enable_nested_tensor is True, but self.use_nested_tensor is False because encoder_layer.self_attn.batch_first was not True(use batch_first for better inference performance)\n",
      "  warnings.warn(\n",
      "GPU available: True (cuda), used: True\n",
      "TPU available: False, using: 0 TPU cores\n",
      "HPU available: False, using: 0 HPUs\n",
      "LOCAL_RANK: 0 - CUDA_VISIBLE_DEVICES: [0]\n"
     ]
    },
    {
     "name": "stdout",
     "output_type": "stream",
     "text": [
      "Current value: 0.20929503272385624, Current params: {'input_chunk_length': 33, 'output_chunk_length': 2, 'dropout': 0.4870077400099576, 'batch_size': 242, 'lr': 0.0004869183979164951, 'weight_decay': 1.6294779573376968e-06, 'd_model': 128, 'nhead': 8, 'num_encoder_layers': 1, 'num_decoder_layers': 4, 'activation': 'ReLU', 'loss_fn': 'mae', 'optimizer': 'AdamW'}\n",
      "Best value: 0.15960215586555954, Best params: {'input_chunk_length': 28, 'output_chunk_length': 20, 'dropout': 0.11591185453200858, 'batch_size': 85, 'lr': 0.00011971582297457522, 'weight_decay': 0.0012315169639859247, 'd_model': 64, 'nhead': 4, 'num_encoder_layers': 1, 'num_decoder_layers': 2, 'activation': 'GELU', 'loss_fn': 'smoothl1', 'optimizer': 'AdamW'}\n",
      "\n",
      "Starting Trial 12\n",
      "Hyperparameters: {'input_chunk_length': 54, 'output_chunk_length': 2, 'dropout': 0.44368898142871416, 'batch_size': 200, 'lr': 2.3885021290793295e-05, 'weight_decay': 0.0003842807647446154, 'd_model': 128, 'nhead': 8, 'num_encoder_layers': 1, 'num_decoder_layers': 3, 'activation': 'GEGLU', 'loss_fn': 'smoothl1', 'optimizer': 'RMSprop'}\n",
      "\n",
      "Training the model...\n",
      "Train set: 6647 samples\n",
      "Validation set: 1662 samples\n"
     ]
    },
    {
     "name": "stderr",
     "output_type": "stream",
     "text": [
      "Metric val_loss improved. New best score: 0.045\n",
      "Metric val_loss improved by 0.005 >= min_delta = 0.0005. New best score: 0.040\n",
      "Metric val_loss improved by 0.002 >= min_delta = 0.0005. New best score: 0.037\n",
      "Metric val_loss improved by 0.001 >= min_delta = 0.0005. New best score: 0.036\n",
      "Metric val_loss improved by 0.001 >= min_delta = 0.0005. New best score: 0.035\n",
      "Metric val_loss improved by 0.001 >= min_delta = 0.0005. New best score: 0.034\n",
      "Metric val_loss improved by 0.001 >= min_delta = 0.0005. New best score: 0.034\n",
      "Metric val_loss improved by 0.001 >= min_delta = 0.0005. New best score: 0.033\n",
      "Metric val_loss improved by 0.001 >= min_delta = 0.0005. New best score: 0.032\n",
      "Metric val_loss improved by 0.001 >= min_delta = 0.0005. New best score: 0.031\n",
      "Metric val_loss improved by 0.001 >= min_delta = 0.0005. New best score: 0.031\n",
      "Metric val_loss improved by 0.001 >= min_delta = 0.0005. New best score: 0.030\n",
      "Metric val_loss improved by 0.001 >= min_delta = 0.0005. New best score: 0.029\n",
      "Metric val_loss improved by 0.001 >= min_delta = 0.0005. New best score: 0.028\n",
      "Metric val_loss improved by 0.001 >= min_delta = 0.0005. New best score: 0.027\n",
      "Metric val_loss improved by 0.001 >= min_delta = 0.0005. New best score: 0.026\n",
      "Metric val_loss improved by 0.001 >= min_delta = 0.0005. New best score: 0.026\n",
      "Metric val_loss improved by 0.001 >= min_delta = 0.0005. New best score: 0.025\n",
      "Metric val_loss improved by 0.001 >= min_delta = 0.0005. New best score: 0.024\n",
      "`Trainer.fit` stopped: `max_epochs=30` reached.\n",
      "/home/eduardo/Documentos/Water-Cycle-Neural-Network/venv/lib/python3.12/site-packages/torch/nn/modules/transformer.py:382: UserWarning: enable_nested_tensor is True, but self.use_nested_tensor is False because encoder_layer.self_attn.batch_first was not True(use batch_first for better inference performance)\n",
      "  warnings.warn(\n",
      "GPU available: True (cuda), used: True\n",
      "TPU available: False, using: 0 TPU cores\n",
      "HPU available: False, using: 0 HPUs\n",
      "LOCAL_RANK: 0 - CUDA_VISIBLE_DEVICES: [0]\n",
      "/home/eduardo/Documentos/Water-Cycle-Neural-Network/venv/lib/python3.12/site-packages/pytorch_lightning/trainer/connectors/data_connector.py:425: The 'predict_dataloader' does not have many workers which may be a bottleneck. Consider increasing the value of the `num_workers` argument` to `num_workers=11` in the `DataLoader` to improve performance.\n"
     ]
    },
    {
     "name": "stdout",
     "output_type": "stream",
     "text": [
      "Model loaded from checkpoint for trial 12\n"
     ]
    },
    {
     "name": "stderr",
     "output_type": "stream",
     "text": [
      "[I 2025-05-26 11:24:01,038] Trial 12 finished with value: 0.17137044514012623 and parameters: {'input_chunk_length': 54, 'output_chunk_length': 2, 'dropout': 0.44368898142871416, 'batch_size': 200, 'lr': 2.3885021290793295e-05, 'weight_decay': 0.0003842807647446154, 'd_model': 128, 'nhead': 8, 'num_encoder_layers': 1, 'num_decoder_layers': 3, 'activation': 'GEGLU', 'loss_fn': 'smoothl1', 'optimizer': 'RMSprop'}. Best is trial 3 with value: 0.15960215586555954.\n",
      "Specified future encoders in `add_encoders` at model creation but model does not accept future covariates. future encoders will be ignored.\n",
      "/home/eduardo/Documentos/Water-Cycle-Neural-Network/venv/lib/python3.12/site-packages/torch/nn/modules/transformer.py:382: UserWarning: enable_nested_tensor is True, but self.use_nested_tensor is False because encoder_layer.self_attn.batch_first was not True(use batch_first for better inference performance)\n",
      "  warnings.warn(\n",
      "GPU available: True (cuda), used: True\n",
      "TPU available: False, using: 0 TPU cores\n",
      "HPU available: False, using: 0 HPUs\n",
      "LOCAL_RANK: 0 - CUDA_VISIBLE_DEVICES: [0]\n"
     ]
    },
    {
     "name": "stdout",
     "output_type": "stream",
     "text": [
      "Starting time series verification for consistency...\n",
      "\n",
      "Performance metrics:\n",
      "                                    MSE         RMSE          MAE  \\\n",
      "Temperature                1.364217e+01     3.693530     2.911211   \n",
      "Precipitation_accumulated  9.815526e+03    99.073337    95.518847   \n",
      "Humidity                   9.399364e+01     9.695032     8.273820   \n",
      "Wind_Speed_kmh             1.395713e+00     1.181403     0.945710   \n",
      "Soil_Moisture              1.036666e+06  1018.168201  1003.423296   \n",
      "Soil_Temperature           7.438472e+00     2.727356     2.221930   \n",
      "Wind_Dir_Sin               5.851102e-01     0.764925     0.645282   \n",
      "Wind_Dir_Cos               3.953379e-01     0.628759     0.549869   \n",
      "\n",
      "                                    R2       SMAPE  \n",
      "Temperature                   0.551568   41.891597  \n",
      "Precipitation_accumulated -2980.815054   23.113608  \n",
      "Humidity                      0.358576    9.786016  \n",
      "Wind_Speed_kmh               -0.038425   76.062457  \n",
      "Soil_Moisture               -19.124708   12.413671  \n",
      "Soil_Temperature              0.536373   38.397299  \n",
      "Wind_Dir_Sin                 -0.060953  118.104219  \n",
      "Wind_Dir_Cos                 -0.077724  162.906376  \n",
      "The MAE for this fold was 0.17137044514012623\n",
      "Results of trial 12 saved in optuna_iteration_metrics/trial_12.json\n",
      "Current value: 0.17137044514012623, Current params: {'input_chunk_length': 54, 'output_chunk_length': 2, 'dropout': 0.44368898142871416, 'batch_size': 200, 'lr': 2.3885021290793295e-05, 'weight_decay': 0.0003842807647446154, 'd_model': 128, 'nhead': 8, 'num_encoder_layers': 1, 'num_decoder_layers': 3, 'activation': 'GEGLU', 'loss_fn': 'smoothl1', 'optimizer': 'RMSprop'}\n",
      "Best value: 0.15960215586555954, Best params: {'input_chunk_length': 28, 'output_chunk_length': 20, 'dropout': 0.11591185453200858, 'batch_size': 85, 'lr': 0.00011971582297457522, 'weight_decay': 0.0012315169639859247, 'd_model': 64, 'nhead': 4, 'num_encoder_layers': 1, 'num_decoder_layers': 2, 'activation': 'GELU', 'loss_fn': 'smoothl1', 'optimizer': 'AdamW'}\n",
      "\n",
      "Starting Trial 13\n",
      "Hyperparameters: {'input_chunk_length': 52, 'output_chunk_length': 16, 'dropout': 0.11274560982962784, 'batch_size': 255, 'lr': 0.00032697726645688005, 'weight_decay': 0.008895684932639794, 'd_model': 128, 'nhead': 8, 'num_encoder_layers': 3, 'num_decoder_layers': 3, 'activation': 'GELU', 'loss_fn': 'mae', 'optimizer': 'Adam'}\n",
      "\n",
      "Training the model...\n",
      "Train set: 6647 samples\n",
      "Validation set: 1662 samples\n"
     ]
    },
    {
     "name": "stderr",
     "output_type": "stream",
     "text": [
      "Metric val_loss improved. New best score: 0.239\n",
      "[I 2025-05-26 11:24:12,126] Trial 13 pruned. Trial was pruned at epoch 1.\n",
      "Specified future encoders in `add_encoders` at model creation but model does not accept future covariates. future encoders will be ignored.\n",
      "/home/eduardo/Documentos/Water-Cycle-Neural-Network/venv/lib/python3.12/site-packages/torch/nn/modules/transformer.py:382: UserWarning: enable_nested_tensor is True, but self.use_nested_tensor is False because encoder_layer.self_attn.batch_first was not True(use batch_first for better inference performance)\n",
      "  warnings.warn(\n",
      "GPU available: True (cuda), used: True\n",
      "TPU available: False, using: 0 TPU cores\n",
      "HPU available: False, using: 0 HPUs\n",
      "LOCAL_RANK: 0 - CUDA_VISIBLE_DEVICES: [0]\n"
     ]
    },
    {
     "name": "stdout",
     "output_type": "stream",
     "text": [
      "Current value: 0.22564328966254255, Current params: {'input_chunk_length': 52, 'output_chunk_length': 16, 'dropout': 0.11274560982962784, 'batch_size': 255, 'lr': 0.00032697726645688005, 'weight_decay': 0.008895684932639794, 'd_model': 128, 'nhead': 8, 'num_encoder_layers': 3, 'num_decoder_layers': 3, 'activation': 'GELU', 'loss_fn': 'mae', 'optimizer': 'Adam'}\n",
      "Best value: 0.15960215586555954, Best params: {'input_chunk_length': 28, 'output_chunk_length': 20, 'dropout': 0.11591185453200858, 'batch_size': 85, 'lr': 0.00011971582297457522, 'weight_decay': 0.0012315169639859247, 'd_model': 64, 'nhead': 4, 'num_encoder_layers': 1, 'num_decoder_layers': 2, 'activation': 'GELU', 'loss_fn': 'smoothl1', 'optimizer': 'AdamW'}\n",
      "\n",
      "Starting Trial 14\n",
      "Hyperparameters: {'input_chunk_length': 35, 'output_chunk_length': 12, 'dropout': 0.17614742231048364, 'batch_size': 173, 'lr': 0.001506053992220434, 'weight_decay': 0.0007759547028005352, 'd_model': 64, 'nhead': 8, 'num_encoder_layers': 2, 'num_decoder_layers': 1, 'activation': 'ReLU', 'loss_fn': 'mae', 'optimizer': 'AdamW'}\n",
      "\n",
      "Training the model...\n",
      "Train set: 6647 samples\n",
      "Validation set: 1662 samples\n"
     ]
    },
    {
     "name": "stderr",
     "output_type": "stream",
     "text": [
      "Metric val_loss improved. New best score: 0.226\n",
      "[I 2025-05-26 11:24:17,758] Trial 14 pruned. Trial was pruned at epoch 1.\n",
      "Specified future encoders in `add_encoders` at model creation but model does not accept future covariates. future encoders will be ignored.\n",
      "/home/eduardo/Documentos/Water-Cycle-Neural-Network/venv/lib/python3.12/site-packages/torch/nn/modules/transformer.py:382: UserWarning: enable_nested_tensor is True, but self.use_nested_tensor is False because encoder_layer.self_attn.batch_first was not True(use batch_first for better inference performance)\n",
      "  warnings.warn(\n",
      "GPU available: True (cuda), used: True\n",
      "TPU available: False, using: 0 TPU cores\n",
      "HPU available: False, using: 0 HPUs\n",
      "LOCAL_RANK: 0 - CUDA_VISIBLE_DEVICES: [0]\n"
     ]
    },
    {
     "name": "stdout",
     "output_type": "stream",
     "text": [
      "Current value: 0.21717053417467788, Current params: {'input_chunk_length': 35, 'output_chunk_length': 12, 'dropout': 0.17614742231048364, 'batch_size': 173, 'lr': 0.001506053992220434, 'weight_decay': 0.0007759547028005352, 'd_model': 64, 'nhead': 8, 'num_encoder_layers': 2, 'num_decoder_layers': 1, 'activation': 'ReLU', 'loss_fn': 'mae', 'optimizer': 'AdamW'}\n",
      "Best value: 0.15960215586555954, Best params: {'input_chunk_length': 28, 'output_chunk_length': 20, 'dropout': 0.11591185453200858, 'batch_size': 85, 'lr': 0.00011971582297457522, 'weight_decay': 0.0012315169639859247, 'd_model': 64, 'nhead': 4, 'num_encoder_layers': 1, 'num_decoder_layers': 2, 'activation': 'GELU', 'loss_fn': 'smoothl1', 'optimizer': 'AdamW'}\n",
      "\n",
      "Starting Trial 15\n",
      "Hyperparameters: {'input_chunk_length': 24, 'output_chunk_length': 19, 'dropout': 0.403135374263902, 'batch_size': 67, 'lr': 3.3786614800115065e-05, 'weight_decay': 0.0026022532560353822, 'd_model': 128, 'nhead': 4, 'num_encoder_layers': 1, 'num_decoder_layers': 4, 'activation': 'GELU', 'loss_fn': 'smoothl1', 'optimizer': 'Adam'}\n",
      "\n",
      "Training the model...\n",
      "Train set: 6647 samples\n",
      "Validation set: 1662 samples\n"
     ]
    },
    {
     "name": "stderr",
     "output_type": "stream",
     "text": [
      "Metric val_loss improved. New best score: 0.061\n",
      "Metric val_loss improved by 0.014 >= min_delta = 0.0005. New best score: 0.047\n",
      "Metric val_loss improved by 0.002 >= min_delta = 0.0005. New best score: 0.046\n",
      "Metric val_loss improved by 0.001 >= min_delta = 0.0005. New best score: 0.045\n",
      "Metric val_loss improved by 0.002 >= min_delta = 0.0005. New best score: 0.043\n",
      "Metric val_loss improved by 0.001 >= min_delta = 0.0005. New best score: 0.042\n",
      "Metric val_loss improved by 0.001 >= min_delta = 0.0005. New best score: 0.041\n",
      "Metric val_loss improved by 0.001 >= min_delta = 0.0005. New best score: 0.040\n",
      "Metric val_loss improved by 0.001 >= min_delta = 0.0005. New best score: 0.039\n",
      "Metric val_loss improved by 0.001 >= min_delta = 0.0005. New best score: 0.038\n",
      "Metric val_loss improved by 0.001 >= min_delta = 0.0005. New best score: 0.037\n",
      "Metric val_loss improved by 0.001 >= min_delta = 0.0005. New best score: 0.036\n",
      "Metric val_loss improved by 0.001 >= min_delta = 0.0005. New best score: 0.035\n",
      "Metric val_loss improved by 0.001 >= min_delta = 0.0005. New best score: 0.034\n",
      "`Trainer.fit` stopped: `max_epochs=30` reached.\n",
      "/home/eduardo/Documentos/Water-Cycle-Neural-Network/venv/lib/python3.12/site-packages/torch/nn/modules/transformer.py:382: UserWarning: enable_nested_tensor is True, but self.use_nested_tensor is False because encoder_layer.self_attn.batch_first was not True(use batch_first for better inference performance)\n",
      "  warnings.warn(\n",
      "GPU available: True (cuda), used: True\n",
      "TPU available: False, using: 0 TPU cores\n",
      "HPU available: False, using: 0 HPUs\n",
      "LOCAL_RANK: 0 - CUDA_VISIBLE_DEVICES: [0]\n",
      "/home/eduardo/Documentos/Water-Cycle-Neural-Network/venv/lib/python3.12/site-packages/pytorch_lightning/trainer/connectors/data_connector.py:425: The 'predict_dataloader' does not have many workers which may be a bottleneck. Consider increasing the value of the `num_workers` argument` to `num_workers=11` in the `DataLoader` to improve performance.\n"
     ]
    },
    {
     "name": "stdout",
     "output_type": "stream",
     "text": [
      "Model loaded from checkpoint for trial 15\n"
     ]
    },
    {
     "name": "stderr",
     "output_type": "stream",
     "text": [
      "[I 2025-05-26 11:28:39,036] Trial 15 finished with value: 0.205928486769981 and parameters: {'input_chunk_length': 24, 'output_chunk_length': 19, 'dropout': 0.403135374263902, 'batch_size': 67, 'lr': 3.3786614800115065e-05, 'weight_decay': 0.0026022532560353822, 'd_model': 128, 'nhead': 4, 'num_encoder_layers': 1, 'num_decoder_layers': 4, 'activation': 'GELU', 'loss_fn': 'smoothl1', 'optimizer': 'Adam'}. Best is trial 3 with value: 0.15960215586555954.\n",
      "Specified future encoders in `add_encoders` at model creation but model does not accept future covariates. future encoders will be ignored.\n",
      "/home/eduardo/Documentos/Water-Cycle-Neural-Network/venv/lib/python3.12/site-packages/torch/nn/modules/transformer.py:382: UserWarning: enable_nested_tensor is True, but self.use_nested_tensor is False because encoder_layer.self_attn.batch_first was not True(use batch_first for better inference performance)\n",
      "  warnings.warn(\n",
      "GPU available: True (cuda), used: True\n",
      "TPU available: False, using: 0 TPU cores\n",
      "HPU available: False, using: 0 HPUs\n",
      "LOCAL_RANK: 0 - CUDA_VISIBLE_DEVICES: [0]\n"
     ]
    },
    {
     "name": "stdout",
     "output_type": "stream",
     "text": [
      "Starting time series verification for consistency...\n",
      "\n",
      "Performance metrics:\n",
      "                                     MSE        RMSE         MAE           R2  \\\n",
      "Temperature                    21.142333    4.598079    3.833656     0.308086   \n",
      "Precipitation_accumulated   29575.173739  171.974340  158.374798 -8792.987839   \n",
      "Humidity                      114.439141   10.697623    9.321478     0.219950   \n",
      "Wind_Speed_kmh                  1.611654    1.269509    0.964557    -0.196416   \n",
      "Soil_Moisture              996683.027493  998.340136  940.724152   -17.399758   \n",
      "Soil_Temperature               30.583931    5.530274    4.711317    -0.895983   \n",
      "Wind_Dir_Sin                    0.563106    0.750404    0.687523    -0.019474   \n",
      "Wind_Dir_Cos                    0.573214    0.757109    0.637290    -0.565405   \n",
      "\n",
      "                                SMAPE  \n",
      "Temperature                 50.392011  \n",
      "Precipitation_accumulated   42.886830  \n",
      "Humidity                    10.966504  \n",
      "Wind_Speed_kmh              82.320835  \n",
      "Soil_Moisture               11.713192  \n",
      "Soil_Temperature            55.995227  \n",
      "Wind_Dir_Sin               164.170535  \n",
      "Wind_Dir_Cos               152.508010  \n",
      "The MAE for this fold was 0.205928486769981\n",
      "Results of trial 15 saved in optuna_iteration_metrics/trial_15.json\n",
      "Current value: 0.205928486769981, Current params: {'input_chunk_length': 24, 'output_chunk_length': 19, 'dropout': 0.403135374263902, 'batch_size': 67, 'lr': 3.3786614800115065e-05, 'weight_decay': 0.0026022532560353822, 'd_model': 128, 'nhead': 4, 'num_encoder_layers': 1, 'num_decoder_layers': 4, 'activation': 'GELU', 'loss_fn': 'smoothl1', 'optimizer': 'Adam'}\n",
      "Best value: 0.15960215586555954, Best params: {'input_chunk_length': 28, 'output_chunk_length': 20, 'dropout': 0.11591185453200858, 'batch_size': 85, 'lr': 0.00011971582297457522, 'weight_decay': 0.0012315169639859247, 'd_model': 64, 'nhead': 4, 'num_encoder_layers': 1, 'num_decoder_layers': 2, 'activation': 'GELU', 'loss_fn': 'smoothl1', 'optimizer': 'AdamW'}\n",
      "\n",
      "Starting Trial 16\n",
      "Hyperparameters: {'input_chunk_length': 37, 'output_chunk_length': 24, 'dropout': 0.2751948882253234, 'batch_size': 219, 'lr': 0.00015495765600193528, 'weight_decay': 9.733238539948263e-05, 'd_model': 64, 'nhead': 8, 'num_encoder_layers': 1, 'num_decoder_layers': 2, 'activation': 'GLU', 'loss_fn': 'huber', 'optimizer': 'AdamW'}\n",
      "\n",
      "Training the model...\n",
      "Train set: 6647 samples\n",
      "Validation set: 1662 samples\n"
     ]
    },
    {
     "name": "stderr",
     "output_type": "stream",
     "text": [
      "Metric val_loss improved. New best score: 0.139\n",
      "Metric val_loss improved by 0.067 >= min_delta = 0.0005. New best score: 0.072\n",
      "Metric val_loss improved by 0.022 >= min_delta = 0.0005. New best score: 0.050\n",
      "Metric val_loss improved by 0.007 >= min_delta = 0.0005. New best score: 0.043\n",
      "Metric val_loss improved by 0.002 >= min_delta = 0.0005. New best score: 0.041\n",
      "Metric val_loss improved by 0.001 >= min_delta = 0.0005. New best score: 0.039\n",
      "Metric val_loss improved by 0.001 >= min_delta = 0.0005. New best score: 0.039\n",
      "Metric val_loss improved by 0.001 >= min_delta = 0.0005. New best score: 0.038\n",
      "Metric val_loss improved by 0.001 >= min_delta = 0.0005. New best score: 0.037\n",
      "Metric val_loss improved by 0.001 >= min_delta = 0.0005. New best score: 0.037\n",
      "Metric val_loss improved by 0.001 >= min_delta = 0.0005. New best score: 0.036\n",
      "Metric val_loss improved by 0.001 >= min_delta = 0.0005. New best score: 0.035\n",
      "Metric val_loss improved by 0.001 >= min_delta = 0.0005. New best score: 0.034\n",
      "Metric val_loss improved by 0.001 >= min_delta = 0.0005. New best score: 0.033\n",
      "Metric val_loss improved by 0.001 >= min_delta = 0.0005. New best score: 0.032\n",
      "Metric val_loss improved by 0.001 >= min_delta = 0.0005. New best score: 0.032\n",
      "Metric val_loss improved by 0.001 >= min_delta = 0.0005. New best score: 0.031\n",
      "Metric val_loss improved by 0.001 >= min_delta = 0.0005. New best score: 0.030\n",
      "Metric val_loss improved by 0.001 >= min_delta = 0.0005. New best score: 0.029\n",
      "Metric val_loss improved by 0.001 >= min_delta = 0.0005. New best score: 0.029\n",
      "`Trainer.fit` stopped: `max_epochs=30` reached.\n",
      "/home/eduardo/Documentos/Water-Cycle-Neural-Network/venv/lib/python3.12/site-packages/torch/nn/modules/transformer.py:382: UserWarning: enable_nested_tensor is True, but self.use_nested_tensor is False because encoder_layer.self_attn.batch_first was not True(use batch_first for better inference performance)\n",
      "  warnings.warn(\n",
      "GPU available: True (cuda), used: True\n",
      "TPU available: False, using: 0 TPU cores\n",
      "HPU available: False, using: 0 HPUs\n",
      "LOCAL_RANK: 0 - CUDA_VISIBLE_DEVICES: [0]\n",
      "/home/eduardo/Documentos/Water-Cycle-Neural-Network/venv/lib/python3.12/site-packages/pytorch_lightning/trainer/connectors/data_connector.py:425: The 'predict_dataloader' does not have many workers which may be a bottleneck. Consider increasing the value of the `num_workers` argument` to `num_workers=11` in the `DataLoader` to improve performance.\n"
     ]
    },
    {
     "name": "stdout",
     "output_type": "stream",
     "text": [
      "Model loaded from checkpoint for trial 16\n"
     ]
    },
    {
     "name": "stderr",
     "output_type": "stream",
     "text": [
      "[I 2025-05-26 11:29:43,970] Trial 16 finished with value: 0.20146601254375218 and parameters: {'input_chunk_length': 37, 'output_chunk_length': 24, 'dropout': 0.2751948882253234, 'batch_size': 219, 'lr': 0.00015495765600193528, 'weight_decay': 9.733238539948263e-05, 'd_model': 64, 'nhead': 8, 'num_encoder_layers': 1, 'num_decoder_layers': 2, 'activation': 'GLU', 'loss_fn': 'huber', 'optimizer': 'AdamW'}. Best is trial 3 with value: 0.15960215586555954.\n",
      "Specified future encoders in `add_encoders` at model creation but model does not accept future covariates. future encoders will be ignored.\n",
      "/home/eduardo/Documentos/Water-Cycle-Neural-Network/venv/lib/python3.12/site-packages/torch/nn/modules/transformer.py:382: UserWarning: enable_nested_tensor is True, but self.use_nested_tensor is False because encoder_layer.self_attn.batch_first was not True(use batch_first for better inference performance)\n",
      "  warnings.warn(\n",
      "GPU available: True (cuda), used: True\n",
      "TPU available: False, using: 0 TPU cores\n",
      "HPU available: False, using: 0 HPUs\n",
      "LOCAL_RANK: 0 - CUDA_VISIBLE_DEVICES: [0]\n"
     ]
    },
    {
     "name": "stdout",
     "output_type": "stream",
     "text": [
      "Starting time series verification for consistency...\n",
      "\n",
      "Performance metrics:\n",
      "                                    MSE         RMSE          MAE  \\\n",
      "Temperature                1.802949e+01     4.246115     3.454808   \n",
      "Precipitation_accumulated  1.914654e+04   138.371040   136.139838   \n",
      "Humidity                   1.381713e+02    11.754630    10.273098   \n",
      "Wind_Speed_kmh             2.135386e+00     1.461296     1.108233   \n",
      "Soil_Moisture              1.383449e+06  1176.201025  1158.348467   \n",
      "Soil_Temperature           1.120802e+01     3.347838     2.681557   \n",
      "Wind_Dir_Sin               6.038654e-01     0.777088     0.651207   \n",
      "Wind_Dir_Cos               5.601810e-01     0.748452     0.643322   \n",
      "\n",
      "                                    R2       SMAPE  \n",
      "Temperature                   0.408808   46.894191  \n",
      "Precipitation_accumulated -5865.639303   34.532877  \n",
      "Humidity                      0.058511   12.066770  \n",
      "Wind_Speed_kmh               -0.584449   98.246940  \n",
      "Soil_Moisture               -26.548121   14.479916  \n",
      "Soil_Temperature              0.301643   41.500185  \n",
      "Wind_Dir_Sin                 -0.098892  116.950000  \n",
      "Wind_Dir_Cos                 -0.523379  158.647842  \n",
      "The MAE for this fold was 0.20146601254375218\n",
      "Results of trial 16 saved in optuna_iteration_metrics/trial_16.json\n",
      "Current value: 0.20146601254375218, Current params: {'input_chunk_length': 37, 'output_chunk_length': 24, 'dropout': 0.2751948882253234, 'batch_size': 219, 'lr': 0.00015495765600193528, 'weight_decay': 9.733238539948263e-05, 'd_model': 64, 'nhead': 8, 'num_encoder_layers': 1, 'num_decoder_layers': 2, 'activation': 'GLU', 'loss_fn': 'huber', 'optimizer': 'AdamW'}\n",
      "Best value: 0.15960215586555954, Best params: {'input_chunk_length': 28, 'output_chunk_length': 20, 'dropout': 0.11591185453200858, 'batch_size': 85, 'lr': 0.00011971582297457522, 'weight_decay': 0.0012315169639859247, 'd_model': 64, 'nhead': 4, 'num_encoder_layers': 1, 'num_decoder_layers': 2, 'activation': 'GELU', 'loss_fn': 'smoothl1', 'optimizer': 'AdamW'}\n",
      "\n",
      "Starting Trial 17\n",
      "Hyperparameters: {'input_chunk_length': 51, 'output_chunk_length': 5, 'dropout': 0.44697016586688243, 'batch_size': 173, 'lr': 1.1335686922166502e-05, 'weight_decay': 0.000546964198250298, 'd_model': 64, 'nhead': 8, 'num_encoder_layers': 3, 'num_decoder_layers': 3, 'activation': 'GEGLU', 'loss_fn': 'mse', 'optimizer': 'RMSprop'}\n",
      "\n",
      "Training the model...\n",
      "Train set: 6647 samples\n",
      "Validation set: 1662 samples\n"
     ]
    },
    {
     "name": "stderr",
     "output_type": "stream",
     "text": [
      "[I 2025-05-26 11:29:48,879] Trial 17 pruned. Trial was pruned at epoch 0.\n",
      "Specified future encoders in `add_encoders` at model creation but model does not accept future covariates. future encoders will be ignored.\n",
      "/home/eduardo/Documentos/Water-Cycle-Neural-Network/venv/lib/python3.12/site-packages/torch/nn/modules/transformer.py:382: UserWarning: enable_nested_tensor is True, but self.use_nested_tensor is False because encoder_layer.self_attn.batch_first was not True(use batch_first for better inference performance)\n",
      "  warnings.warn(\n",
      "GPU available: True (cuda), used: True\n",
      "TPU available: False, using: 0 TPU cores\n",
      "HPU available: False, using: 0 HPUs\n",
      "LOCAL_RANK: 0 - CUDA_VISIBLE_DEVICES: [0]\n"
     ]
    },
    {
     "name": "stdout",
     "output_type": "stream",
     "text": [
      "Current value: 0.2764222336370166, Current params: {'input_chunk_length': 51, 'output_chunk_length': 5, 'dropout': 0.44697016586688243, 'batch_size': 173, 'lr': 1.1335686922166502e-05, 'weight_decay': 0.000546964198250298, 'd_model': 64, 'nhead': 8, 'num_encoder_layers': 3, 'num_decoder_layers': 3, 'activation': 'GEGLU', 'loss_fn': 'mse', 'optimizer': 'RMSprop'}\n",
      "Best value: 0.15960215586555954, Best params: {'input_chunk_length': 28, 'output_chunk_length': 20, 'dropout': 0.11591185453200858, 'batch_size': 85, 'lr': 0.00011971582297457522, 'weight_decay': 0.0012315169639859247, 'd_model': 64, 'nhead': 4, 'num_encoder_layers': 1, 'num_decoder_layers': 2, 'activation': 'GELU', 'loss_fn': 'smoothl1', 'optimizer': 'AdamW'}\n",
      "\n",
      "Starting Trial 18\n",
      "Hyperparameters: {'input_chunk_length': 31, 'output_chunk_length': 14, 'dropout': 0.16318576605167318, 'batch_size': 223, 'lr': 0.0009962839206781912, 'weight_decay': 0.0026970971726568674, 'd_model': 128, 'nhead': 4, 'num_encoder_layers': 2, 'num_decoder_layers': 3, 'activation': 'GELU', 'loss_fn': 'smoothl1', 'optimizer': 'AdamW'}\n",
      "\n",
      "Training the model...\n",
      "Train set: 6647 samples\n",
      "Validation set: 1662 samples\n"
     ]
    },
    {
     "name": "stderr",
     "output_type": "stream",
     "text": [
      "Metric val_loss improved. New best score: 0.042\n",
      "Metric val_loss improved by 0.006 >= min_delta = 0.0005. New best score: 0.036\n",
      "Metric val_loss improved by 0.003 >= min_delta = 0.0005. New best score: 0.033\n",
      "Metric val_loss improved by 0.007 >= min_delta = 0.0005. New best score: 0.026\n",
      "Metric val_loss improved by 0.002 >= min_delta = 0.0005. New best score: 0.024\n",
      "Metric val_loss improved by 0.001 >= min_delta = 0.0005. New best score: 0.023\n",
      "Monitored metric val_loss did not improve in the last 15 records. Best score: 0.023. Signaling Trainer to stop.\n",
      "/home/eduardo/Documentos/Water-Cycle-Neural-Network/venv/lib/python3.12/site-packages/torch/nn/modules/transformer.py:382: UserWarning: enable_nested_tensor is True, but self.use_nested_tensor is False because encoder_layer.self_attn.batch_first was not True(use batch_first for better inference performance)\n",
      "  warnings.warn(\n",
      "GPU available: True (cuda), used: True\n",
      "TPU available: False, using: 0 TPU cores\n",
      "HPU available: False, using: 0 HPUs\n",
      "LOCAL_RANK: 0 - CUDA_VISIBLE_DEVICES: [0]\n",
      "/home/eduardo/Documentos/Water-Cycle-Neural-Network/venv/lib/python3.12/site-packages/pytorch_lightning/trainer/connectors/data_connector.py:425: The 'predict_dataloader' does not have many workers which may be a bottleneck. Consider increasing the value of the `num_workers` argument` to `num_workers=11` in the `DataLoader` to improve performance.\n"
     ]
    },
    {
     "name": "stdout",
     "output_type": "stream",
     "text": [
      "Model loaded from checkpoint for trial 18\n"
     ]
    },
    {
     "name": "stderr",
     "output_type": "stream",
     "text": [
      "[I 2025-05-26 11:31:54,408] Trial 18 finished with value: 0.15021092740951686 and parameters: {'input_chunk_length': 31, 'output_chunk_length': 14, 'dropout': 0.16318576605167318, 'batch_size': 223, 'lr': 0.0009962839206781912, 'weight_decay': 0.0026970971726568674, 'd_model': 128, 'nhead': 4, 'num_encoder_layers': 2, 'num_decoder_layers': 3, 'activation': 'GELU', 'loss_fn': 'smoothl1', 'optimizer': 'AdamW'}. Best is trial 18 with value: 0.15021092740951686.\n",
      "Specified future encoders in `add_encoders` at model creation but model does not accept future covariates. future encoders will be ignored.\n",
      "/home/eduardo/Documentos/Water-Cycle-Neural-Network/venv/lib/python3.12/site-packages/torch/nn/modules/transformer.py:382: UserWarning: enable_nested_tensor is True, but self.use_nested_tensor is False because encoder_layer.self_attn.batch_first was not True(use batch_first for better inference performance)\n",
      "  warnings.warn(\n",
      "GPU available: True (cuda), used: True\n",
      "TPU available: False, using: 0 TPU cores\n",
      "HPU available: False, using: 0 HPUs\n",
      "LOCAL_RANK: 0 - CUDA_VISIBLE_DEVICES: [0]\n"
     ]
    },
    {
     "name": "stdout",
     "output_type": "stream",
     "text": [
      "Starting time series verification for consistency...\n",
      "\n",
      "Performance metrics:\n",
      "                                     MSE        RMSE         MAE           R2  \\\n",
      "Temperature                    12.249974    3.499996    2.770704     0.598856   \n",
      "Precipitation_accumulated    9934.191056   99.670412   82.061885 -2962.379725   \n",
      "Humidity                       94.999568    9.746772    7.964754     0.352349   \n",
      "Wind_Speed_kmh                  1.636504    1.279259    0.982558    -0.214744   \n",
      "Soil_Moisture              141423.715343  376.063446  295.383822    -1.628573   \n",
      "Soil_Temperature                8.367585    2.892678    2.365504     0.481016   \n",
      "Wind_Dir_Sin                    0.591448    0.769057    0.684300    -0.072309   \n",
      "Wind_Dir_Cos                    0.452682    0.672816    0.543461    -0.235111   \n",
      "\n",
      "                                SMAPE  \n",
      "Temperature                 44.110635  \n",
      "Precipitation_accumulated   20.316864  \n",
      "Humidity                     9.453017  \n",
      "Wind_Speed_kmh              82.126458  \n",
      "Soil_Moisture                3.519043  \n",
      "Soil_Temperature            36.128497  \n",
      "Wind_Dir_Sin               146.978484  \n",
      "Wind_Dir_Cos               111.708015  \n",
      "The MAE for this fold was 0.15021092740951686\n",
      "Results of trial 18 saved in optuna_iteration_metrics/trial_18.json\n",
      "Current value: 0.15021092740951686, Current params: {'input_chunk_length': 31, 'output_chunk_length': 14, 'dropout': 0.16318576605167318, 'batch_size': 223, 'lr': 0.0009962839206781912, 'weight_decay': 0.0026970971726568674, 'd_model': 128, 'nhead': 4, 'num_encoder_layers': 2, 'num_decoder_layers': 3, 'activation': 'GELU', 'loss_fn': 'smoothl1', 'optimizer': 'AdamW'}\n",
      "Best value: 0.15021092740951686, Best params: {'input_chunk_length': 31, 'output_chunk_length': 14, 'dropout': 0.16318576605167318, 'batch_size': 223, 'lr': 0.0009962839206781912, 'weight_decay': 0.0026970971726568674, 'd_model': 128, 'nhead': 4, 'num_encoder_layers': 2, 'num_decoder_layers': 3, 'activation': 'GELU', 'loss_fn': 'smoothl1', 'optimizer': 'AdamW'}\n",
      "\n",
      "Starting Trial 19\n",
      "Hyperparameters: {'input_chunk_length': 29, 'output_chunk_length': 14, 'dropout': 0.15882147831900933, 'batch_size': 226, 'lr': 0.0008519353490576781, 'weight_decay': 0.00403518434774961, 'd_model': 128, 'nhead': 4, 'num_encoder_layers': 2, 'num_decoder_layers': 2, 'activation': 'GELU', 'loss_fn': 'smoothl1', 'optimizer': 'AdamW'}\n",
      "\n",
      "Training the model...\n",
      "Train set: 6647 samples\n",
      "Validation set: 1662 samples\n"
     ]
    },
    {
     "name": "stderr",
     "output_type": "stream",
     "text": [
      "Metric val_loss improved. New best score: 0.044\n",
      "Metric val_loss improved by 0.006 >= min_delta = 0.0005. New best score: 0.039\n",
      "Metric val_loss improved by 0.005 >= min_delta = 0.0005. New best score: 0.034\n",
      "Metric val_loss improved by 0.004 >= min_delta = 0.0005. New best score: 0.029\n",
      "Metric val_loss improved by 0.003 >= min_delta = 0.0005. New best score: 0.026\n",
      "Metric val_loss improved by 0.001 >= min_delta = 0.0005. New best score: 0.025\n",
      "Metric val_loss improved by 0.001 >= min_delta = 0.0005. New best score: 0.024\n",
      "Metric val_loss improved by 0.002 >= min_delta = 0.0005. New best score: 0.021\n",
      "Monitored metric val_loss did not improve in the last 15 records. Best score: 0.021. Signaling Trainer to stop.\n",
      "/home/eduardo/Documentos/Water-Cycle-Neural-Network/venv/lib/python3.12/site-packages/torch/nn/modules/transformer.py:382: UserWarning: enable_nested_tensor is True, but self.use_nested_tensor is False because encoder_layer.self_attn.batch_first was not True(use batch_first for better inference performance)\n",
      "  warnings.warn(\n",
      "GPU available: True (cuda), used: True\n",
      "TPU available: False, using: 0 TPU cores\n",
      "HPU available: False, using: 0 HPUs\n",
      "LOCAL_RANK: 0 - CUDA_VISIBLE_DEVICES: [0]\n",
      "/home/eduardo/Documentos/Water-Cycle-Neural-Network/venv/lib/python3.12/site-packages/pytorch_lightning/trainer/connectors/data_connector.py:425: The 'predict_dataloader' does not have many workers which may be a bottleneck. Consider increasing the value of the `num_workers` argument` to `num_workers=11` in the `DataLoader` to improve performance.\n"
     ]
    },
    {
     "name": "stdout",
     "output_type": "stream",
     "text": [
      "Model loaded from checkpoint for trial 19\n"
     ]
    },
    {
     "name": "stderr",
     "output_type": "stream",
     "text": [
      "[I 2025-05-26 11:33:03,423] Trial 19 finished with value: 0.14506399187371238 and parameters: {'input_chunk_length': 29, 'output_chunk_length': 14, 'dropout': 0.15882147831900933, 'batch_size': 226, 'lr': 0.0008519353490576781, 'weight_decay': 0.00403518434774961, 'd_model': 128, 'nhead': 4, 'num_encoder_layers': 2, 'num_decoder_layers': 2, 'activation': 'GELU', 'loss_fn': 'smoothl1', 'optimizer': 'AdamW'}. Best is trial 19 with value: 0.14506399187371238.\n",
      "Specified future encoders in `add_encoders` at model creation but model does not accept future covariates. future encoders will be ignored.\n",
      "/home/eduardo/Documentos/Water-Cycle-Neural-Network/venv/lib/python3.12/site-packages/torch/nn/modules/transformer.py:382: UserWarning: enable_nested_tensor is True, but self.use_nested_tensor is False because encoder_layer.self_attn.batch_first was not True(use batch_first for better inference performance)\n",
      "  warnings.warn(\n",
      "GPU available: True (cuda), used: True\n",
      "TPU available: False, using: 0 TPU cores\n",
      "HPU available: False, using: 0 HPUs\n",
      "LOCAL_RANK: 0 - CUDA_VISIBLE_DEVICES: [0]\n"
     ]
    },
    {
     "name": "stdout",
     "output_type": "stream",
     "text": [
      "Starting time series verification for consistency...\n",
      "\n",
      "Performance metrics:\n",
      "                                     MSE        RMSE         MAE           R2  \\\n",
      "Temperature                    11.651173    3.413381    2.845374     0.618698   \n",
      "Precipitation_accumulated    7027.077775   83.827667   73.726011 -2088.456415   \n",
      "Humidity                       85.318945    9.236825    7.635584     0.418442   \n",
      "Wind_Speed_kmh                  1.432927    1.197049    0.947903    -0.063738   \n",
      "Soil_Moisture              188103.438828  433.708933  343.603326    -2.472576   \n",
      "Soil_Temperature                5.877948    2.424448    1.952317     0.635610   \n",
      "Wind_Dir_Sin                    0.605251    0.777979    0.674975    -0.095777   \n",
      "Wind_Dir_Cos                    0.367766    0.606437    0.514942    -0.004342   \n",
      "\n",
      "                                SMAPE  \n",
      "Temperature                 42.305228  \n",
      "Precipitation_accumulated   17.680405  \n",
      "Humidity                     9.043526  \n",
      "Wind_Speed_kmh              77.807896  \n",
      "Soil_Moisture                4.123212  \n",
      "Soil_Temperature            35.396401  \n",
      "Wind_Dir_Sin               135.978009  \n",
      "Wind_Dir_Cos               126.759181  \n",
      "The MAE for this fold was 0.14506399187371238\n",
      "Results of trial 19 saved in optuna_iteration_metrics/trial_19.json\n",
      "Current value: 0.14506399187371238, Current params: {'input_chunk_length': 29, 'output_chunk_length': 14, 'dropout': 0.15882147831900933, 'batch_size': 226, 'lr': 0.0008519353490576781, 'weight_decay': 0.00403518434774961, 'd_model': 128, 'nhead': 4, 'num_encoder_layers': 2, 'num_decoder_layers': 2, 'activation': 'GELU', 'loss_fn': 'smoothl1', 'optimizer': 'AdamW'}\n",
      "Best value: 0.14506399187371238, Best params: {'input_chunk_length': 29, 'output_chunk_length': 14, 'dropout': 0.15882147831900933, 'batch_size': 226, 'lr': 0.0008519353490576781, 'weight_decay': 0.00403518434774961, 'd_model': 128, 'nhead': 4, 'num_encoder_layers': 2, 'num_decoder_layers': 2, 'activation': 'GELU', 'loss_fn': 'smoothl1', 'optimizer': 'AdamW'}\n",
      "\n",
      "Starting Trial 20\n",
      "Hyperparameters: {'input_chunk_length': 30, 'output_chunk_length': 14, 'dropout': 0.15831783734285873, 'batch_size': 232, 'lr': 0.001022947062786278, 'weight_decay': 0.0036867135580357494, 'd_model': 128, 'nhead': 4, 'num_encoder_layers': 2, 'num_decoder_layers': 1, 'activation': 'GELU', 'loss_fn': 'smoothl1', 'optimizer': 'AdamW'}\n",
      "\n",
      "Training the model...\n",
      "Train set: 6647 samples\n",
      "Validation set: 1662 samples\n"
     ]
    },
    {
     "name": "stderr",
     "output_type": "stream",
     "text": [
      "Metric val_loss improved. New best score: 0.042\n",
      "Metric val_loss improved by 0.007 >= min_delta = 0.0005. New best score: 0.035\n",
      "Metric val_loss improved by 0.005 >= min_delta = 0.0005. New best score: 0.030\n",
      "Metric val_loss improved by 0.002 >= min_delta = 0.0005. New best score: 0.028\n",
      "Metric val_loss improved by 0.003 >= min_delta = 0.0005. New best score: 0.025\n",
      "Metric val_loss improved by 0.002 >= min_delta = 0.0005. New best score: 0.023\n",
      "Metric val_loss improved by 0.001 >= min_delta = 0.0005. New best score: 0.022\n",
      "Metric val_loss improved by 0.001 >= min_delta = 0.0005. New best score: 0.021\n",
      "Monitored metric val_loss did not improve in the last 15 records. Best score: 0.021. Signaling Trainer to stop.\n",
      "/home/eduardo/Documentos/Water-Cycle-Neural-Network/venv/lib/python3.12/site-packages/torch/nn/modules/transformer.py:382: UserWarning: enable_nested_tensor is True, but self.use_nested_tensor is False because encoder_layer.self_attn.batch_first was not True(use batch_first for better inference performance)\n",
      "  warnings.warn(\n",
      "GPU available: True (cuda), used: True\n",
      "TPU available: False, using: 0 TPU cores\n",
      "HPU available: False, using: 0 HPUs\n",
      "LOCAL_RANK: 0 - CUDA_VISIBLE_DEVICES: [0]\n",
      "/home/eduardo/Documentos/Water-Cycle-Neural-Network/venv/lib/python3.12/site-packages/pytorch_lightning/trainer/connectors/data_connector.py:425: The 'predict_dataloader' does not have many workers which may be a bottleneck. Consider increasing the value of the `num_workers` argument` to `num_workers=11` in the `DataLoader` to improve performance.\n"
     ]
    },
    {
     "name": "stdout",
     "output_type": "stream",
     "text": [
      "Model loaded from checkpoint for trial 20\n"
     ]
    },
    {
     "name": "stderr",
     "output_type": "stream",
     "text": [
      "[I 2025-05-26 11:34:11,868] Trial 20 finished with value: 0.14441476670728529 and parameters: {'input_chunk_length': 30, 'output_chunk_length': 14, 'dropout': 0.15831783734285873, 'batch_size': 232, 'lr': 0.001022947062786278, 'weight_decay': 0.0036867135580357494, 'd_model': 128, 'nhead': 4, 'num_encoder_layers': 2, 'num_decoder_layers': 1, 'activation': 'GELU', 'loss_fn': 'smoothl1', 'optimizer': 'AdamW'}. Best is trial 20 with value: 0.14441476670728529.\n",
      "Specified future encoders in `add_encoders` at model creation but model does not accept future covariates. future encoders will be ignored.\n",
      "/home/eduardo/Documentos/Water-Cycle-Neural-Network/venv/lib/python3.12/site-packages/torch/nn/modules/transformer.py:382: UserWarning: enable_nested_tensor is True, but self.use_nested_tensor is False because encoder_layer.self_attn.batch_first was not True(use batch_first for better inference performance)\n",
      "  warnings.warn(\n",
      "GPU available: True (cuda), used: True\n",
      "TPU available: False, using: 0 TPU cores\n",
      "HPU available: False, using: 0 HPUs\n",
      "LOCAL_RANK: 0 - CUDA_VISIBLE_DEVICES: [0]\n"
     ]
    },
    {
     "name": "stdout",
     "output_type": "stream",
     "text": [
      "Starting time series verification for consistency...\n",
      "\n",
      "Performance metrics:\n",
      "                                     MSE        RMSE         MAE           R2  \\\n",
      "Temperature                     8.892920    2.982100    2.432501     0.708900   \n",
      "Precipitation_accumulated    7370.778504   85.853238   68.743894 -2194.171462   \n",
      "Humidity                       83.622647    9.144542    7.487618     0.429957   \n",
      "Wind_Speed_kmh                  1.400815    1.183560    0.948466    -0.039389   \n",
      "Soil_Moisture              202127.789159  449.586242  364.896317    -2.744409   \n",
      "Soil_Temperature                7.209379    2.685029    2.154210     0.552984   \n",
      "Wind_Dir_Sin                    0.592120    0.769493    0.691578    -0.072506   \n",
      "Wind_Dir_Cos                    0.370859    0.608982    0.516956    -0.012406   \n",
      "\n",
      "                                SMAPE  \n",
      "Temperature                 37.942207  \n",
      "Precipitation_accumulated   16.731581  \n",
      "Humidity                     8.856509  \n",
      "Wind_Speed_kmh              75.809660  \n",
      "Soil_Moisture                4.366090  \n",
      "Soil_Temperature            38.872257  \n",
      "Wind_Dir_Sin               154.056226  \n",
      "Wind_Dir_Cos               129.983774  \n",
      "The MAE for this fold was 0.14441476670728529\n",
      "Results of trial 20 saved in optuna_iteration_metrics/trial_20.json\n",
      "Current value: 0.14441476670728529, Current params: {'input_chunk_length': 30, 'output_chunk_length': 14, 'dropout': 0.15831783734285873, 'batch_size': 232, 'lr': 0.001022947062786278, 'weight_decay': 0.0036867135580357494, 'd_model': 128, 'nhead': 4, 'num_encoder_layers': 2, 'num_decoder_layers': 1, 'activation': 'GELU', 'loss_fn': 'smoothl1', 'optimizer': 'AdamW'}\n",
      "Best value: 0.14441476670728529, Best params: {'input_chunk_length': 30, 'output_chunk_length': 14, 'dropout': 0.15831783734285873, 'batch_size': 232, 'lr': 0.001022947062786278, 'weight_decay': 0.0036867135580357494, 'd_model': 128, 'nhead': 4, 'num_encoder_layers': 2, 'num_decoder_layers': 1, 'activation': 'GELU', 'loss_fn': 'smoothl1', 'optimizer': 'AdamW'}\n",
      "\n",
      "Starting Trial 21\n",
      "Hyperparameters: {'input_chunk_length': 31, 'output_chunk_length': 14, 'dropout': 0.1652464257073538, 'batch_size': 231, 'lr': 0.0009845975305525364, 'weight_decay': 0.00454842002056842, 'd_model': 128, 'nhead': 4, 'num_encoder_layers': 2, 'num_decoder_layers': 1, 'activation': 'GELU', 'loss_fn': 'smoothl1', 'optimizer': 'AdamW'}\n",
      "\n",
      "Training the model...\n",
      "Train set: 6647 samples\n",
      "Validation set: 1662 samples\n"
     ]
    },
    {
     "name": "stderr",
     "output_type": "stream",
     "text": [
      "Metric val_loss improved. New best score: 0.040\n",
      "Metric val_loss improved by 0.004 >= min_delta = 0.0005. New best score: 0.036\n",
      "Metric val_loss improved by 0.003 >= min_delta = 0.0005. New best score: 0.033\n",
      "Metric val_loss improved by 0.003 >= min_delta = 0.0005. New best score: 0.030\n",
      "Metric val_loss improved by 0.004 >= min_delta = 0.0005. New best score: 0.027\n",
      "Metric val_loss improved by 0.002 >= min_delta = 0.0005. New best score: 0.025\n",
      "Metric val_loss improved by 0.001 >= min_delta = 0.0005. New best score: 0.023\n",
      "Metric val_loss improved by 0.001 >= min_delta = 0.0005. New best score: 0.022\n",
      "Metric val_loss improved by 0.001 >= min_delta = 0.0005. New best score: 0.021\n",
      "Monitored metric val_loss did not improve in the last 15 records. Best score: 0.021. Signaling Trainer to stop.\n",
      "/home/eduardo/Documentos/Water-Cycle-Neural-Network/venv/lib/python3.12/site-packages/torch/nn/modules/transformer.py:382: UserWarning: enable_nested_tensor is True, but self.use_nested_tensor is False because encoder_layer.self_attn.batch_first was not True(use batch_first for better inference performance)\n",
      "  warnings.warn(\n",
      "GPU available: True (cuda), used: True\n",
      "TPU available: False, using: 0 TPU cores\n",
      "HPU available: False, using: 0 HPUs\n",
      "LOCAL_RANK: 0 - CUDA_VISIBLE_DEVICES: [0]\n",
      "/home/eduardo/Documentos/Water-Cycle-Neural-Network/venv/lib/python3.12/site-packages/pytorch_lightning/trainer/connectors/data_connector.py:425: The 'predict_dataloader' does not have many workers which may be a bottleneck. Consider increasing the value of the `num_workers` argument` to `num_workers=11` in the `DataLoader` to improve performance.\n"
     ]
    },
    {
     "name": "stdout",
     "output_type": "stream",
     "text": [
      "Model loaded from checkpoint for trial 21\n"
     ]
    },
    {
     "name": "stderr",
     "output_type": "stream",
     "text": [
      "[I 2025-05-26 11:35:21,199] Trial 21 finished with value: 0.14350426117883713 and parameters: {'input_chunk_length': 31, 'output_chunk_length': 14, 'dropout': 0.1652464257073538, 'batch_size': 231, 'lr': 0.0009845975305525364, 'weight_decay': 0.00454842002056842, 'd_model': 128, 'nhead': 4, 'num_encoder_layers': 2, 'num_decoder_layers': 1, 'activation': 'GELU', 'loss_fn': 'smoothl1', 'optimizer': 'AdamW'}. Best is trial 21 with value: 0.14350426117883713.\n",
      "Specified future encoders in `add_encoders` at model creation but model does not accept future covariates. future encoders will be ignored.\n",
      "/home/eduardo/Documentos/Water-Cycle-Neural-Network/venv/lib/python3.12/site-packages/torch/nn/modules/transformer.py:382: UserWarning: enable_nested_tensor is True, but self.use_nested_tensor is False because encoder_layer.self_attn.batch_first was not True(use batch_first for better inference performance)\n",
      "  warnings.warn(\n",
      "GPU available: True (cuda), used: True\n",
      "TPU available: False, using: 0 TPU cores\n",
      "HPU available: False, using: 0 HPUs\n",
      "LOCAL_RANK: 0 - CUDA_VISIBLE_DEVICES: [0]\n"
     ]
    },
    {
     "name": "stdout",
     "output_type": "stream",
     "text": [
      "Starting time series verification for consistency...\n",
      "\n",
      "Performance metrics:\n",
      "                                     MSE        RMSE         MAE           R2  \\\n",
      "Temperature                    14.613304    3.822735    3.050986     0.521465   \n",
      "Precipitation_accumulated    4420.696698   66.488320   54.059182 -1317.698512   \n",
      "Humidity                       93.582736    9.673817    7.651264     0.362008   \n",
      "Wind_Speed_kmh                  1.462427    1.209308    0.988739    -0.085531   \n",
      "Soil_Moisture              138257.110306  371.829410  287.958173    -1.569717   \n",
      "Soil_Temperature               18.099433    4.254343    3.526527    -0.122585   \n",
      "Wind_Dir_Sin                    0.609089    0.780441    0.677446    -0.104291   \n",
      "Wind_Dir_Cos                    0.358189    0.598489    0.512148     0.022705   \n",
      "\n",
      "                                SMAPE  \n",
      "Temperature                 46.226612  \n",
      "Precipitation_accumulated   12.703608  \n",
      "Humidity                     9.053604  \n",
      "Wind_Speed_kmh              76.008890  \n",
      "Soil_Moisture                3.452132  \n",
      "Soil_Temperature            83.117455  \n",
      "Wind_Dir_Sin               135.216613  \n",
      "Wind_Dir_Cos               134.189757  \n",
      "The MAE for this fold was 0.14350426117883713\n",
      "Results of trial 21 saved in optuna_iteration_metrics/trial_21.json\n",
      "Current value: 0.14350426117883713, Current params: {'input_chunk_length': 31, 'output_chunk_length': 14, 'dropout': 0.1652464257073538, 'batch_size': 231, 'lr': 0.0009845975305525364, 'weight_decay': 0.00454842002056842, 'd_model': 128, 'nhead': 4, 'num_encoder_layers': 2, 'num_decoder_layers': 1, 'activation': 'GELU', 'loss_fn': 'smoothl1', 'optimizer': 'AdamW'}\n",
      "Best value: 0.14350426117883713, Best params: {'input_chunk_length': 31, 'output_chunk_length': 14, 'dropout': 0.1652464257073538, 'batch_size': 231, 'lr': 0.0009845975305525364, 'weight_decay': 0.00454842002056842, 'd_model': 128, 'nhead': 4, 'num_encoder_layers': 2, 'num_decoder_layers': 1, 'activation': 'GELU', 'loss_fn': 'smoothl1', 'optimizer': 'AdamW'}\n",
      "\n",
      "Starting Trial 22\n",
      "Hyperparameters: {'input_chunk_length': 37, 'output_chunk_length': 14, 'dropout': 0.16055239268600463, 'batch_size': 237, 'lr': 0.003964717722564197, 'weight_decay': 0.0051228832597027965, 'd_model': 128, 'nhead': 4, 'num_encoder_layers': 2, 'num_decoder_layers': 1, 'activation': 'GELU', 'loss_fn': 'smoothl1', 'optimizer': 'AdamW'}\n",
      "\n",
      "Training the model...\n",
      "Train set: 6647 samples\n",
      "Validation set: 1662 samples\n"
     ]
    },
    {
     "name": "stderr",
     "output_type": "stream",
     "text": [
      "Metric val_loss improved. New best score: 0.045\n",
      "Metric val_loss improved by 0.009 >= min_delta = 0.0005. New best score: 0.035\n",
      "Metric val_loss improved by 0.006 >= min_delta = 0.0005. New best score: 0.030\n",
      "Metric val_loss improved by 0.003 >= min_delta = 0.0005. New best score: 0.026\n",
      "Metric val_loss improved by 0.003 >= min_delta = 0.0005. New best score: 0.023\n",
      "Metric val_loss improved by 0.001 >= min_delta = 0.0005. New best score: 0.022\n",
      "Metric val_loss improved by 0.001 >= min_delta = 0.0005. New best score: 0.021\n",
      "Metric val_loss improved by 0.001 >= min_delta = 0.0005. New best score: 0.020\n",
      "Monitored metric val_loss did not improve in the last 15 records. Best score: 0.020. Signaling Trainer to stop.\n",
      "/home/eduardo/Documentos/Water-Cycle-Neural-Network/venv/lib/python3.12/site-packages/torch/nn/modules/transformer.py:382: UserWarning: enable_nested_tensor is True, but self.use_nested_tensor is False because encoder_layer.self_attn.batch_first was not True(use batch_first for better inference performance)\n",
      "  warnings.warn(\n",
      "GPU available: True (cuda), used: True\n",
      "TPU available: False, using: 0 TPU cores\n",
      "HPU available: False, using: 0 HPUs\n",
      "LOCAL_RANK: 0 - CUDA_VISIBLE_DEVICES: [0]\n",
      "/home/eduardo/Documentos/Water-Cycle-Neural-Network/venv/lib/python3.12/site-packages/pytorch_lightning/trainer/connectors/data_connector.py:425: The 'predict_dataloader' does not have many workers which may be a bottleneck. Consider increasing the value of the `num_workers` argument` to `num_workers=11` in the `DataLoader` to improve performance.\n"
     ]
    },
    {
     "name": "stdout",
     "output_type": "stream",
     "text": [
      "Model loaded from checkpoint for trial 22\n"
     ]
    },
    {
     "name": "stderr",
     "output_type": "stream",
     "text": [
      "[I 2025-05-26 11:36:41,402] Trial 22 finished with value: 0.14993997472450007 and parameters: {'input_chunk_length': 37, 'output_chunk_length': 14, 'dropout': 0.16055239268600463, 'batch_size': 237, 'lr': 0.003964717722564197, 'weight_decay': 0.0051228832597027965, 'd_model': 128, 'nhead': 4, 'num_encoder_layers': 2, 'num_decoder_layers': 1, 'activation': 'GELU', 'loss_fn': 'smoothl1', 'optimizer': 'AdamW'}. Best is trial 21 with value: 0.14350426117883713.\n",
      "Specified future encoders in `add_encoders` at model creation but model does not accept future covariates. future encoders will be ignored.\n",
      "/home/eduardo/Documentos/Water-Cycle-Neural-Network/venv/lib/python3.12/site-packages/torch/nn/modules/transformer.py:382: UserWarning: enable_nested_tensor is True, but self.use_nested_tensor is False because encoder_layer.self_attn.batch_first was not True(use batch_first for better inference performance)\n",
      "  warnings.warn(\n",
      "GPU available: True (cuda), used: True\n",
      "TPU available: False, using: 0 TPU cores\n",
      "HPU available: False, using: 0 HPUs\n",
      "LOCAL_RANK: 0 - CUDA_VISIBLE_DEVICES: [0]\n"
     ]
    },
    {
     "name": "stdout",
     "output_type": "stream",
     "text": [
      "Starting time series verification for consistency...\n",
      "\n",
      "Performance metrics:\n",
      "                                     MSE        RMSE         MAE           R2  \\\n",
      "Temperature                    12.728093    3.567645    2.923506     0.582291   \n",
      "Precipitation_accumulated    4050.530931   63.643782   50.392035 -1219.205184   \n",
      "Humidity                       99.366687    9.968284    8.155783     0.322223   \n",
      "Wind_Speed_kmh                  1.366081    1.168794    0.921253    -0.015315   \n",
      "Soil_Moisture              412036.357522  641.900582  600.379859    -6.826771   \n",
      "Soil_Temperature               10.531737    3.245264    2.708475     0.345134   \n",
      "Wind_Dir_Sin                    0.594591    0.771097    0.694031    -0.079585   \n",
      "Wind_Dir_Cos                    0.357009    0.597503    0.521574     0.026851   \n",
      "\n",
      "                                SMAPE  \n",
      "Temperature                 42.628024  \n",
      "Precipitation_accumulated   11.822587  \n",
      "Humidity                     9.623105  \n",
      "Wind_Speed_kmh              75.627121  \n",
      "Soil_Moisture                7.266039  \n",
      "Soil_Temperature            43.643131  \n",
      "Wind_Dir_Sin               154.896909  \n",
      "Wind_Dir_Cos               141.964227  \n",
      "The MAE for this fold was 0.14993997472450007\n",
      "Results of trial 22 saved in optuna_iteration_metrics/trial_22.json\n",
      "Current value: 0.14993997472450007, Current params: {'input_chunk_length': 37, 'output_chunk_length': 14, 'dropout': 0.16055239268600463, 'batch_size': 237, 'lr': 0.003964717722564197, 'weight_decay': 0.0051228832597027965, 'd_model': 128, 'nhead': 4, 'num_encoder_layers': 2, 'num_decoder_layers': 1, 'activation': 'GELU', 'loss_fn': 'smoothl1', 'optimizer': 'AdamW'}\n",
      "Best value: 0.14350426117883713, Best params: {'input_chunk_length': 31, 'output_chunk_length': 14, 'dropout': 0.1652464257073538, 'batch_size': 231, 'lr': 0.0009845975305525364, 'weight_decay': 0.00454842002056842, 'd_model': 128, 'nhead': 4, 'num_encoder_layers': 2, 'num_decoder_layers': 1, 'activation': 'GELU', 'loss_fn': 'smoothl1', 'optimizer': 'AdamW'}\n",
      "\n",
      "Starting Trial 23\n",
      "Hyperparameters: {'input_chunk_length': 28, 'output_chunk_length': 10, 'dropout': 0.21136039343231927, 'batch_size': 255, 'lr': 0.0012012203265281238, 'weight_decay': 0.0038328542854917966, 'd_model': 128, 'nhead': 4, 'num_encoder_layers': 3, 'num_decoder_layers': 1, 'activation': 'GELU', 'loss_fn': 'smoothl1', 'optimizer': 'AdamW'}\n",
      "\n",
      "Training the model...\n",
      "Train set: 6647 samples\n",
      "Validation set: 1662 samples\n"
     ]
    },
    {
     "name": "stderr",
     "output_type": "stream",
     "text": [
      "Metric val_loss improved. New best score: 0.041\n",
      "Metric val_loss improved by 0.006 >= min_delta = 0.0005. New best score: 0.036\n",
      "Metric val_loss improved by 0.003 >= min_delta = 0.0005. New best score: 0.032\n",
      "Metric val_loss improved by 0.002 >= min_delta = 0.0005. New best score: 0.031\n",
      "Metric val_loss improved by 0.003 >= min_delta = 0.0005. New best score: 0.027\n",
      "Metric val_loss improved by 0.002 >= min_delta = 0.0005. New best score: 0.025\n",
      "Metric val_loss improved by 0.002 >= min_delta = 0.0005. New best score: 0.024\n",
      "Monitored metric val_loss did not improve in the last 15 records. Best score: 0.024. Signaling Trainer to stop.\n",
      "/home/eduardo/Documentos/Water-Cycle-Neural-Network/venv/lib/python3.12/site-packages/torch/nn/modules/transformer.py:382: UserWarning: enable_nested_tensor is True, but self.use_nested_tensor is False because encoder_layer.self_attn.batch_first was not True(use batch_first for better inference performance)\n",
      "  warnings.warn(\n",
      "GPU available: True (cuda), used: True\n",
      "TPU available: False, using: 0 TPU cores\n",
      "HPU available: False, using: 0 HPUs\n",
      "LOCAL_RANK: 0 - CUDA_VISIBLE_DEVICES: [0]\n",
      "/home/eduardo/Documentos/Water-Cycle-Neural-Network/venv/lib/python3.12/site-packages/pytorch_lightning/trainer/connectors/data_connector.py:425: The 'predict_dataloader' does not have many workers which may be a bottleneck. Consider increasing the value of the `num_workers` argument` to `num_workers=11` in the `DataLoader` to improve performance.\n"
     ]
    },
    {
     "name": "stdout",
     "output_type": "stream",
     "text": [
      "Model loaded from checkpoint for trial 23\n"
     ]
    },
    {
     "name": "stderr",
     "output_type": "stream",
     "text": [
      "[I 2025-05-26 11:37:55,052] Trial 23 finished with value: 0.15427156980458878 and parameters: {'input_chunk_length': 28, 'output_chunk_length': 10, 'dropout': 0.21136039343231927, 'batch_size': 255, 'lr': 0.0012012203265281238, 'weight_decay': 0.0038328542854917966, 'd_model': 128, 'nhead': 4, 'num_encoder_layers': 3, 'num_decoder_layers': 1, 'activation': 'GELU', 'loss_fn': 'smoothl1', 'optimizer': 'AdamW'}. Best is trial 21 with value: 0.14350426117883713.\n",
      "Specified future encoders in `add_encoders` at model creation but model does not accept future covariates. future encoders will be ignored.\n",
      "/home/eduardo/Documentos/Water-Cycle-Neural-Network/venv/lib/python3.12/site-packages/torch/nn/modules/transformer.py:382: UserWarning: enable_nested_tensor is True, but self.use_nested_tensor is False because encoder_layer.self_attn.batch_first was not True(use batch_first for better inference performance)\n",
      "  warnings.warn(\n",
      "GPU available: True (cuda), used: True\n",
      "TPU available: False, using: 0 TPU cores\n",
      "HPU available: False, using: 0 HPUs\n",
      "LOCAL_RANK: 0 - CUDA_VISIBLE_DEVICES: [0]\n"
     ]
    },
    {
     "name": "stdout",
     "output_type": "stream",
     "text": [
      "Starting time series verification for consistency...\n",
      "\n",
      "Performance metrics:\n",
      "                                     MSE        RMSE         MAE           R2  \\\n",
      "Temperature                    14.776784    3.844058    3.165604     0.516342   \n",
      "Precipitation_accumulated   16950.799342  130.195235  109.506635 -4999.495992   \n",
      "Humidity                       92.946135    9.640858    7.993957     0.366705   \n",
      "Wind_Speed_kmh                  1.321382    1.149514    0.929444     0.020330   \n",
      "Soil_Moisture              110049.444965  331.737012  269.502280    -0.990786   \n",
      "Soil_Temperature                6.929010    2.632301    2.132336     0.570241   \n",
      "Wind_Dir_Sin                    0.606692    0.778904    0.667595    -0.101589   \n",
      "Wind_Dir_Cos                    0.402875    0.634724    0.519619    -0.098635   \n",
      "\n",
      "                                SMAPE  \n",
      "Temperature                 44.923196  \n",
      "Precipitation_accumulated   28.336310  \n",
      "Humidity                     9.457532  \n",
      "Wind_Speed_kmh              75.131841  \n",
      "Soil_Moisture                3.135096  \n",
      "Soil_Temperature            35.785063  \n",
      "Wind_Dir_Sin               130.254512  \n",
      "Wind_Dir_Cos               114.012452  \n",
      "The MAE for this fold was 0.15427156980458878\n",
      "Results of trial 23 saved in optuna_iteration_metrics/trial_23.json\n",
      "Current value: 0.15427156980458878, Current params: {'input_chunk_length': 28, 'output_chunk_length': 10, 'dropout': 0.21136039343231927, 'batch_size': 255, 'lr': 0.0012012203265281238, 'weight_decay': 0.0038328542854917966, 'd_model': 128, 'nhead': 4, 'num_encoder_layers': 3, 'num_decoder_layers': 1, 'activation': 'GELU', 'loss_fn': 'smoothl1', 'optimizer': 'AdamW'}\n",
      "Best value: 0.14350426117883713, Best params: {'input_chunk_length': 31, 'output_chunk_length': 14, 'dropout': 0.1652464257073538, 'batch_size': 231, 'lr': 0.0009845975305525364, 'weight_decay': 0.00454842002056842, 'd_model': 128, 'nhead': 4, 'num_encoder_layers': 2, 'num_decoder_layers': 1, 'activation': 'GELU', 'loss_fn': 'smoothl1', 'optimizer': 'AdamW'}\n",
      "\n",
      "Starting Trial 24\n",
      "Hyperparameters: {'input_chunk_length': 33, 'output_chunk_length': 18, 'dropout': 0.2786271454863498, 'batch_size': 226, 'lr': 0.0023131772093760447, 'weight_decay': 0.008931768087893404, 'd_model': 128, 'nhead': 4, 'num_encoder_layers': 2, 'num_decoder_layers': 1, 'activation': 'GELU', 'loss_fn': 'smoothl1', 'optimizer': 'AdamW'}\n",
      "\n",
      "Training the model...\n",
      "Train set: 6647 samples\n",
      "Validation set: 1662 samples\n"
     ]
    },
    {
     "name": "stderr",
     "output_type": "stream",
     "text": [
      "Metric val_loss improved. New best score: 0.040\n",
      "Metric val_loss improved by 0.001 >= min_delta = 0.0005. New best score: 0.039\n",
      "Metric val_loss improved by 0.009 >= min_delta = 0.0005. New best score: 0.031\n",
      "Metric val_loss improved by 0.003 >= min_delta = 0.0005. New best score: 0.028\n",
      "Metric val_loss improved by 0.001 >= min_delta = 0.0005. New best score: 0.027\n",
      "Metric val_loss improved by 0.001 >= min_delta = 0.0005. New best score: 0.026\n",
      "Metric val_loss improved by 0.002 >= min_delta = 0.0005. New best score: 0.024\n",
      "Metric val_loss improved by 0.002 >= min_delta = 0.0005. New best score: 0.022\n",
      "Monitored metric val_loss did not improve in the last 15 records. Best score: 0.022. Signaling Trainer to stop.\n",
      "/home/eduardo/Documentos/Water-Cycle-Neural-Network/venv/lib/python3.12/site-packages/torch/nn/modules/transformer.py:382: UserWarning: enable_nested_tensor is True, but self.use_nested_tensor is False because encoder_layer.self_attn.batch_first was not True(use batch_first for better inference performance)\n",
      "  warnings.warn(\n",
      "GPU available: True (cuda), used: True\n",
      "TPU available: False, using: 0 TPU cores\n",
      "HPU available: False, using: 0 HPUs\n",
      "LOCAL_RANK: 0 - CUDA_VISIBLE_DEVICES: [0]\n",
      "/home/eduardo/Documentos/Water-Cycle-Neural-Network/venv/lib/python3.12/site-packages/pytorch_lightning/trainer/connectors/data_connector.py:425: The 'predict_dataloader' does not have many workers which may be a bottleneck. Consider increasing the value of the `num_workers` argument` to `num_workers=11` in the `DataLoader` to improve performance.\n"
     ]
    },
    {
     "name": "stdout",
     "output_type": "stream",
     "text": [
      "Model loaded from checkpoint for trial 24\n"
     ]
    },
    {
     "name": "stderr",
     "output_type": "stream",
     "text": [
      "[I 2025-05-26 11:39:05,786] Trial 24 finished with value: 0.15011576128117604 and parameters: {'input_chunk_length': 33, 'output_chunk_length': 18, 'dropout': 0.2786271454863498, 'batch_size': 226, 'lr': 0.0023131772093760447, 'weight_decay': 0.008931768087893404, 'd_model': 128, 'nhead': 4, 'num_encoder_layers': 2, 'num_decoder_layers': 1, 'activation': 'GELU', 'loss_fn': 'smoothl1', 'optimizer': 'AdamW'}. Best is trial 21 with value: 0.14350426117883713.\n",
      "Specified future encoders in `add_encoders` at model creation but model does not accept future covariates. future encoders will be ignored.\n",
      "/home/eduardo/Documentos/Water-Cycle-Neural-Network/venv/lib/python3.12/site-packages/torch/nn/modules/transformer.py:382: UserWarning: enable_nested_tensor is True, but self.use_nested_tensor is False because encoder_layer.self_attn.batch_first was not True(use batch_first for better inference performance)\n",
      "  warnings.warn(\n",
      "GPU available: True (cuda), used: True\n",
      "TPU available: False, using: 0 TPU cores\n",
      "HPU available: False, using: 0 HPUs\n",
      "LOCAL_RANK: 0 - CUDA_VISIBLE_DEVICES: [0]\n"
     ]
    },
    {
     "name": "stdout",
     "output_type": "stream",
     "text": [
      "Starting time series verification for consistency...\n",
      "\n",
      "Performance metrics:\n",
      "                                     MSE        RMSE         MAE           R2  \\\n",
      "Temperature                    14.335877    3.786275    3.064615     0.529527   \n",
      "Precipitation_accumulated    9261.979651   96.239179   77.720963 -2789.131906   \n",
      "Humidity                      108.260689   10.404840    8.251747     0.261557   \n",
      "Wind_Speed_kmh                  1.420371    1.191793    0.969086    -0.055666   \n",
      "Soil_Moisture              174366.977069  417.572721  312.660453    -2.312160   \n",
      "Soil_Temperature               12.226201    3.496598    2.848836     0.239772   \n",
      "Wind_Dir_Sin                    0.588050    0.766844    0.685470    -0.067709   \n",
      "Wind_Dir_Cos                    0.372236    0.610112    0.513870    -0.014656   \n",
      "\n",
      "                                SMAPE  \n",
      "Temperature                 46.641644  \n",
      "Precipitation_accumulated   19.148508  \n",
      "Humidity                     9.761533  \n",
      "Wind_Speed_kmh              76.209711  \n",
      "Soil_Moisture                3.755526  \n",
      "Soil_Temperature            63.730278  \n",
      "Wind_Dir_Sin               149.662064  \n",
      "Wind_Dir_Cos               124.850671  \n",
      "The MAE for this fold was 0.15011576128117604\n",
      "Results of trial 24 saved in optuna_iteration_metrics/trial_24.json\n",
      "Current value: 0.15011576128117604, Current params: {'input_chunk_length': 33, 'output_chunk_length': 18, 'dropout': 0.2786271454863498, 'batch_size': 226, 'lr': 0.0023131772093760447, 'weight_decay': 0.008931768087893404, 'd_model': 128, 'nhead': 4, 'num_encoder_layers': 2, 'num_decoder_layers': 1, 'activation': 'GELU', 'loss_fn': 'smoothl1', 'optimizer': 'AdamW'}\n",
      "Best value: 0.14350426117883713, Best params: {'input_chunk_length': 31, 'output_chunk_length': 14, 'dropout': 0.1652464257073538, 'batch_size': 231, 'lr': 0.0009845975305525364, 'weight_decay': 0.00454842002056842, 'd_model': 128, 'nhead': 4, 'num_encoder_layers': 2, 'num_decoder_layers': 1, 'activation': 'GELU', 'loss_fn': 'smoothl1', 'optimizer': 'AdamW'}\n",
      "\n",
      "Starting Trial 25\n",
      "Hyperparameters: {'input_chunk_length': 47, 'output_chunk_length': 14, 'dropout': 0.14535589101725335, 'batch_size': 236, 'lr': 0.0007280756804992236, 'weight_decay': 0.0001861000802708362, 'd_model': 128, 'nhead': 4, 'num_encoder_layers': 2, 'num_decoder_layers': 1, 'activation': 'GELU', 'loss_fn': 'smoothl1', 'optimizer': 'AdamW'}\n",
      "\n",
      "Training the model...\n",
      "Train set: 6647 samples\n",
      "Validation set: 1662 samples\n"
     ]
    },
    {
     "name": "stderr",
     "output_type": "stream",
     "text": [
      "Metric val_loss improved. New best score: 0.041\n",
      "Metric val_loss improved by 0.005 >= min_delta = 0.0005. New best score: 0.036\n",
      "Metric val_loss improved by 0.003 >= min_delta = 0.0005. New best score: 0.033\n",
      "Metric val_loss improved by 0.002 >= min_delta = 0.0005. New best score: 0.031\n",
      "Metric val_loss improved by 0.004 >= min_delta = 0.0005. New best score: 0.027\n",
      "Metric val_loss improved by 0.002 >= min_delta = 0.0005. New best score: 0.025\n",
      "Metric val_loss improved by 0.001 >= min_delta = 0.0005. New best score: 0.025\n",
      "Metric val_loss improved by 0.001 >= min_delta = 0.0005. New best score: 0.024\n",
      "Metric val_loss improved by 0.001 >= min_delta = 0.0005. New best score: 0.023\n",
      "Monitored metric val_loss did not improve in the last 15 records. Best score: 0.023. Signaling Trainer to stop.\n",
      "/home/eduardo/Documentos/Water-Cycle-Neural-Network/venv/lib/python3.12/site-packages/torch/nn/modules/transformer.py:382: UserWarning: enable_nested_tensor is True, but self.use_nested_tensor is False because encoder_layer.self_attn.batch_first was not True(use batch_first for better inference performance)\n",
      "  warnings.warn(\n",
      "GPU available: True (cuda), used: True\n",
      "TPU available: False, using: 0 TPU cores\n",
      "HPU available: False, using: 0 HPUs\n",
      "LOCAL_RANK: 0 - CUDA_VISIBLE_DEVICES: [0]\n",
      "/home/eduardo/Documentos/Water-Cycle-Neural-Network/venv/lib/python3.12/site-packages/pytorch_lightning/trainer/connectors/data_connector.py:425: The 'predict_dataloader' does not have many workers which may be a bottleneck. Consider increasing the value of the `num_workers` argument` to `num_workers=11` in the `DataLoader` to improve performance.\n"
     ]
    },
    {
     "name": "stdout",
     "output_type": "stream",
     "text": [
      "Model loaded from checkpoint for trial 25\n"
     ]
    },
    {
     "name": "stderr",
     "output_type": "stream",
     "text": [
      "[I 2025-05-26 11:40:26,310] Trial 25 finished with value: 0.16011834332879227 and parameters: {'input_chunk_length': 47, 'output_chunk_length': 14, 'dropout': 0.14535589101725335, 'batch_size': 236, 'lr': 0.0007280756804992236, 'weight_decay': 0.0001861000802708362, 'd_model': 128, 'nhead': 4, 'num_encoder_layers': 2, 'num_decoder_layers': 1, 'activation': 'GELU', 'loss_fn': 'smoothl1', 'optimizer': 'AdamW'}. Best is trial 21 with value: 0.14350426117883713.\n",
      "Specified future encoders in `add_encoders` at model creation but model does not accept future covariates. future encoders will be ignored.\n",
      "/home/eduardo/Documentos/Water-Cycle-Neural-Network/venv/lib/python3.12/site-packages/torch/nn/modules/transformer.py:382: UserWarning: enable_nested_tensor is True, but self.use_nested_tensor is False because encoder_layer.self_attn.batch_first was not True(use batch_first for better inference performance)\n",
      "  warnings.warn(\n",
      "GPU available: True (cuda), used: True\n",
      "TPU available: False, using: 0 TPU cores\n",
      "HPU available: False, using: 0 HPUs\n",
      "LOCAL_RANK: 0 - CUDA_VISIBLE_DEVICES: [0]\n"
     ]
    },
    {
     "name": "stdout",
     "output_type": "stream",
     "text": [
      "Starting time series verification for consistency...\n",
      "\n",
      "Performance metrics:\n",
      "                                     MSE        RMSE         MAE           R2  \\\n",
      "Temperature                    10.607759    3.256955    2.665330     0.652169   \n",
      "Precipitation_accumulated   13501.653041  116.196614  105.752648 -4136.003793   \n",
      "Humidity                       90.738732    9.525688    7.891562     0.381713   \n",
      "Wind_Speed_kmh                  1.758441    1.326062    1.127215    -0.304757   \n",
      "Soil_Moisture              199488.529770  446.641388  389.226058    -2.972344   \n",
      "Soil_Temperature                8.093902    2.844978    2.327222     0.495680   \n",
      "Wind_Dir_Sin                    0.607740    0.779577    0.685125    -0.105942   \n",
      "Wind_Dir_Cos                    0.411080    0.641155    0.527333    -0.117908   \n",
      "\n",
      "                                SMAPE  \n",
      "Temperature                 40.101912  \n",
      "Precipitation_accumulated   26.420403  \n",
      "Humidity                     9.317448  \n",
      "Wind_Speed_kmh              77.671358  \n",
      "Soil_Moisture                4.416577  \n",
      "Soil_Temperature            48.190041  \n",
      "Wind_Dir_Sin               143.131223  \n",
      "Wind_Dir_Cos               114.636110  \n",
      "The MAE for this fold was 0.16011834332879227\n",
      "Results of trial 25 saved in optuna_iteration_metrics/trial_25.json\n",
      "Current value: 0.16011834332879227, Current params: {'input_chunk_length': 47, 'output_chunk_length': 14, 'dropout': 0.14535589101725335, 'batch_size': 236, 'lr': 0.0007280756804992236, 'weight_decay': 0.0001861000802708362, 'd_model': 128, 'nhead': 4, 'num_encoder_layers': 2, 'num_decoder_layers': 1, 'activation': 'GELU', 'loss_fn': 'smoothl1', 'optimizer': 'AdamW'}\n",
      "Best value: 0.14350426117883713, Best params: {'input_chunk_length': 31, 'output_chunk_length': 14, 'dropout': 0.1652464257073538, 'batch_size': 231, 'lr': 0.0009845975305525364, 'weight_decay': 0.00454842002056842, 'd_model': 128, 'nhead': 4, 'num_encoder_layers': 2, 'num_decoder_layers': 1, 'activation': 'GELU', 'loss_fn': 'smoothl1', 'optimizer': 'AdamW'}\n",
      "\n",
      "Starting Trial 26\n",
      "Hyperparameters: {'input_chunk_length': 26, 'output_chunk_length': 10, 'dropout': 0.2125075585703547, 'batch_size': 208, 'lr': 0.00025098437360709925, 'weight_decay': 0.004202464516507742, 'd_model': 128, 'nhead': 4, 'num_encoder_layers': 3, 'num_decoder_layers': 1, 'activation': 'GELU', 'loss_fn': 'smoothl1', 'optimizer': 'AdamW'}\n",
      "\n",
      "Training the model...\n",
      "Train set: 6647 samples\n",
      "Validation set: 1662 samples\n"
     ]
    },
    {
     "name": "stderr",
     "output_type": "stream",
     "text": [
      "Metric val_loss improved. New best score: 0.043\n",
      "Metric val_loss improved by 0.005 >= min_delta = 0.0005. New best score: 0.038\n",
      "Metric val_loss improved by 0.003 >= min_delta = 0.0005. New best score: 0.035\n",
      "Metric val_loss improved by 0.002 >= min_delta = 0.0005. New best score: 0.033\n",
      "Metric val_loss improved by 0.002 >= min_delta = 0.0005. New best score: 0.031\n",
      "Metric val_loss improved by 0.003 >= min_delta = 0.0005. New best score: 0.028\n",
      "Metric val_loss improved by 0.001 >= min_delta = 0.0005. New best score: 0.026\n",
      "Metric val_loss improved by 0.001 >= min_delta = 0.0005. New best score: 0.026\n",
      "Metric val_loss improved by 0.001 >= min_delta = 0.0005. New best score: 0.025\n",
      "Metric val_loss improved by 0.001 >= min_delta = 0.0005. New best score: 0.024\n",
      "Metric val_loss improved by 0.001 >= min_delta = 0.0005. New best score: 0.022\n",
      "Metric val_loss improved by 0.001 >= min_delta = 0.0005. New best score: 0.021\n",
      "Metric val_loss improved by 0.001 >= min_delta = 0.0005. New best score: 0.021\n",
      "`Trainer.fit` stopped: `max_epochs=30` reached.\n",
      "/home/eduardo/Documentos/Water-Cycle-Neural-Network/venv/lib/python3.12/site-packages/torch/nn/modules/transformer.py:382: UserWarning: enable_nested_tensor is True, but self.use_nested_tensor is False because encoder_layer.self_attn.batch_first was not True(use batch_first for better inference performance)\n",
      "  warnings.warn(\n",
      "GPU available: True (cuda), used: True\n",
      "TPU available: False, using: 0 TPU cores\n",
      "HPU available: False, using: 0 HPUs\n",
      "LOCAL_RANK: 0 - CUDA_VISIBLE_DEVICES: [0]\n",
      "/home/eduardo/Documentos/Water-Cycle-Neural-Network/venv/lib/python3.12/site-packages/pytorch_lightning/trainer/connectors/data_connector.py:425: The 'predict_dataloader' does not have many workers which may be a bottleneck. Consider increasing the value of the `num_workers` argument` to `num_workers=11` in the `DataLoader` to improve performance.\n"
     ]
    },
    {
     "name": "stdout",
     "output_type": "stream",
     "text": [
      "Model loaded from checkpoint for trial 26\n"
     ]
    },
    {
     "name": "stderr",
     "output_type": "stream",
     "text": [
      "[I 2025-05-26 11:41:54,920] Trial 26 finished with value: 0.14842434117893552 and parameters: {'input_chunk_length': 26, 'output_chunk_length': 10, 'dropout': 0.2125075585703547, 'batch_size': 208, 'lr': 0.00025098437360709925, 'weight_decay': 0.004202464516507742, 'd_model': 128, 'nhead': 4, 'num_encoder_layers': 3, 'num_decoder_layers': 1, 'activation': 'GELU', 'loss_fn': 'smoothl1', 'optimizer': 'AdamW'}. Best is trial 21 with value: 0.14350426117883713.\n",
      "Specified future encoders in `add_encoders` at model creation but model does not accept future covariates. future encoders will be ignored.\n",
      "/home/eduardo/Documentos/Water-Cycle-Neural-Network/venv/lib/python3.12/site-packages/torch/nn/modules/transformer.py:382: UserWarning: enable_nested_tensor is True, but self.use_nested_tensor is False because encoder_layer.self_attn.batch_first was not True(use batch_first for better inference performance)\n",
      "  warnings.warn(\n",
      "GPU available: True (cuda), used: True\n",
      "TPU available: False, using: 0 TPU cores\n",
      "HPU available: False, using: 0 HPUs\n",
      "LOCAL_RANK: 0 - CUDA_VISIBLE_DEVICES: [0]\n"
     ]
    },
    {
     "name": "stdout",
     "output_type": "stream",
     "text": [
      "Starting time series verification for consistency...\n",
      "\n",
      "Performance metrics:\n",
      "                                     MSE        RMSE         MAE           R2  \\\n",
      "Temperature                    14.968006    3.868851    3.217277     0.509680   \n",
      "Precipitation_accumulated    8782.228251   93.713544   80.627668 -2581.705808   \n",
      "Humidity                       84.756815    9.206346    7.749005     0.422345   \n",
      "Wind_Speed_kmh                  1.615154    1.270887    1.067418    -0.198867   \n",
      "Soil_Moisture              109108.437971  330.315664  261.830452    -0.955490   \n",
      "Soil_Temperature                8.252871    2.872781    2.286081     0.487754   \n",
      "Wind_Dir_Sin                    0.628190    0.792585    0.670611    -0.140834   \n",
      "Wind_Dir_Cos                    0.374477    0.611946    0.512156    -0.021037   \n",
      "\n",
      "                                SMAPE  \n",
      "Temperature                 45.398066  \n",
      "Precipitation_accumulated   19.650711  \n",
      "Humidity                     9.124770  \n",
      "Wind_Speed_kmh              77.262583  \n",
      "Soil_Moisture                3.083106  \n",
      "Soil_Temperature            33.845228  \n",
      "Wind_Dir_Sin               126.477423  \n",
      "Wind_Dir_Cos               120.367566  \n",
      "The MAE for this fold was 0.14842434117893552\n",
      "Results of trial 26 saved in optuna_iteration_metrics/trial_26.json\n",
      "Current value: 0.14842434117893552, Current params: {'input_chunk_length': 26, 'output_chunk_length': 10, 'dropout': 0.2125075585703547, 'batch_size': 208, 'lr': 0.00025098437360709925, 'weight_decay': 0.004202464516507742, 'd_model': 128, 'nhead': 4, 'num_encoder_layers': 3, 'num_decoder_layers': 1, 'activation': 'GELU', 'loss_fn': 'smoothl1', 'optimizer': 'AdamW'}\n",
      "Best value: 0.14350426117883713, Best params: {'input_chunk_length': 31, 'output_chunk_length': 14, 'dropout': 0.1652464257073538, 'batch_size': 231, 'lr': 0.0009845975305525364, 'weight_decay': 0.00454842002056842, 'd_model': 128, 'nhead': 4, 'num_encoder_layers': 2, 'num_decoder_layers': 1, 'activation': 'GELU', 'loss_fn': 'smoothl1', 'optimizer': 'AdamW'}\n",
      "\n",
      "Starting Trial 27\n",
      "Hyperparameters: {'input_chunk_length': 39, 'output_chunk_length': 13, 'dropout': 0.1873776857804572, 'batch_size': 181, 'lr': 0.0018683874312861377, 'weight_decay': 0.0012247234381499163, 'd_model': 128, 'nhead': 2, 'num_encoder_layers': 2, 'num_decoder_layers': 2, 'activation': 'GELU', 'loss_fn': 'smoothl1', 'optimizer': 'AdamW'}\n",
      "\n",
      "Training the model...\n",
      "Train set: 6647 samples\n",
      "Validation set: 1662 samples\n"
     ]
    },
    {
     "name": "stderr",
     "output_type": "stream",
     "text": [
      "Metric val_loss improved. New best score: 0.043\n",
      "Metric val_loss improved by 0.002 >= min_delta = 0.0005. New best score: 0.041\n",
      "Metric val_loss improved by 0.015 >= min_delta = 0.0005. New best score: 0.026\n",
      "Metric val_loss improved by 0.002 >= min_delta = 0.0005. New best score: 0.024\n",
      "Metric val_loss improved by 0.001 >= min_delta = 0.0005. New best score: 0.023\n",
      "Monitored metric val_loss did not improve in the last 15 records. Best score: 0.023. Signaling Trainer to stop.\n",
      "`Trainer.fit` stopped: `max_epochs=30` reached.\n",
      "/home/eduardo/Documentos/Water-Cycle-Neural-Network/venv/lib/python3.12/site-packages/torch/nn/modules/transformer.py:382: UserWarning: enable_nested_tensor is True, but self.use_nested_tensor is False because encoder_layer.self_attn.batch_first was not True(use batch_first for better inference performance)\n",
      "  warnings.warn(\n",
      "GPU available: True (cuda), used: True\n",
      "TPU available: False, using: 0 TPU cores\n",
      "HPU available: False, using: 0 HPUs\n",
      "LOCAL_RANK: 0 - CUDA_VISIBLE_DEVICES: [0]\n",
      "/home/eduardo/Documentos/Water-Cycle-Neural-Network/venv/lib/python3.12/site-packages/pytorch_lightning/trainer/connectors/data_connector.py:425: The 'predict_dataloader' does not have many workers which may be a bottleneck. Consider increasing the value of the `num_workers` argument` to `num_workers=11` in the `DataLoader` to improve performance.\n"
     ]
    },
    {
     "name": "stdout",
     "output_type": "stream",
     "text": [
      "Model loaded from checkpoint for trial 27\n"
     ]
    },
    {
     "name": "stderr",
     "output_type": "stream",
     "text": [
      "[I 2025-05-26 11:43:31,999] Trial 27 finished with value: 0.16375754322535743 and parameters: {'input_chunk_length': 39, 'output_chunk_length': 13, 'dropout': 0.1873776857804572, 'batch_size': 181, 'lr': 0.0018683874312861377, 'weight_decay': 0.0012247234381499163, 'd_model': 128, 'nhead': 2, 'num_encoder_layers': 2, 'num_decoder_layers': 2, 'activation': 'GELU', 'loss_fn': 'smoothl1', 'optimizer': 'AdamW'}. Best is trial 21 with value: 0.14350426117883713.\n",
      "Specified future encoders in `add_encoders` at model creation but model does not accept future covariates. future encoders will be ignored.\n",
      "/home/eduardo/Documentos/Water-Cycle-Neural-Network/venv/lib/python3.12/site-packages/torch/nn/modules/transformer.py:382: UserWarning: enable_nested_tensor is True, but self.use_nested_tensor is False because encoder_layer.self_attn.batch_first was not True(use batch_first for better inference performance)\n",
      "  warnings.warn(\n",
      "GPU available: True (cuda), used: True\n",
      "TPU available: False, using: 0 TPU cores\n",
      "HPU available: False, using: 0 HPUs\n",
      "LOCAL_RANK: 0 - CUDA_VISIBLE_DEVICES: [0]\n"
     ]
    },
    {
     "name": "stdout",
     "output_type": "stream",
     "text": [
      "Starting time series verification for consistency...\n",
      "\n",
      "Performance metrics:\n",
      "                                     MSE        RMSE         MAE           R2  \\\n",
      "Temperature                    12.247085    3.499584    2.778830     0.597887   \n",
      "Precipitation_accumulated   11527.464201  107.366029   83.131930 -3477.381504   \n",
      "Humidity                       96.714660    9.834361    7.492284     0.340253   \n",
      "Wind_Speed_kmh                  1.691665    1.300640    1.070954    -0.257704   \n",
      "Soil_Moisture              543482.938200  737.212953  661.404626    -9.365277   \n",
      "Soil_Temperature               18.427003    4.292669    3.624527    -0.146377   \n",
      "Wind_Dir_Sin                    0.694059    0.833102    0.693094    -0.259543   \n",
      "Wind_Dir_Cos                    0.374453    0.611925    0.521305    -0.021099   \n",
      "\n",
      "                                SMAPE  \n",
      "Temperature                 44.161031  \n",
      "Precipitation_accumulated   21.098286  \n",
      "Humidity                     8.977216  \n",
      "Wind_Speed_kmh              77.817090  \n",
      "Soil_Moisture                8.086582  \n",
      "Soil_Temperature            54.040358  \n",
      "Wind_Dir_Sin               131.009042  \n",
      "Wind_Dir_Cos               130.945029  \n",
      "The MAE for this fold was 0.16375754322535743\n",
      "Results of trial 27 saved in optuna_iteration_metrics/trial_27.json\n",
      "Current value: 0.16375754322535743, Current params: {'input_chunk_length': 39, 'output_chunk_length': 13, 'dropout': 0.1873776857804572, 'batch_size': 181, 'lr': 0.0018683874312861377, 'weight_decay': 0.0012247234381499163, 'd_model': 128, 'nhead': 2, 'num_encoder_layers': 2, 'num_decoder_layers': 2, 'activation': 'GELU', 'loss_fn': 'smoothl1', 'optimizer': 'AdamW'}\n",
      "Best value: 0.14350426117883713, Best params: {'input_chunk_length': 31, 'output_chunk_length': 14, 'dropout': 0.1652464257073538, 'batch_size': 231, 'lr': 0.0009845975305525364, 'weight_decay': 0.00454842002056842, 'd_model': 128, 'nhead': 4, 'num_encoder_layers': 2, 'num_decoder_layers': 1, 'activation': 'GELU', 'loss_fn': 'smoothl1', 'optimizer': 'AdamW'}\n",
      "\n",
      "Starting Trial 28\n",
      "Hyperparameters: {'input_chunk_length': 32, 'output_chunk_length': 16, 'dropout': 0.13570729601972184, 'batch_size': 222, 'lr': 0.004936424248234872, 'weight_decay': 0.005440317717215282, 'd_model': 128, 'nhead': 4, 'num_encoder_layers': 3, 'num_decoder_layers': 1, 'activation': 'SwiGLU', 'loss_fn': 'smoothl1', 'optimizer': 'AdamW'}\n",
      "\n",
      "Training the model...\n",
      "Train set: 6647 samples\n",
      "Validation set: 1662 samples\n"
     ]
    },
    {
     "name": "stderr",
     "output_type": "stream",
     "text": [
      "[I 2025-05-26 11:43:36,494] Trial 28 pruned. Trial was pruned at epoch 0.\n",
      "Specified future encoders in `add_encoders` at model creation but model does not accept future covariates. future encoders will be ignored.\n",
      "/home/eduardo/Documentos/Water-Cycle-Neural-Network/venv/lib/python3.12/site-packages/torch/nn/modules/transformer.py:382: UserWarning: enable_nested_tensor is True, but self.use_nested_tensor is False because encoder_layer.self_attn.batch_first was not True(use batch_first for better inference performance)\n",
      "  warnings.warn(\n",
      "GPU available: True (cuda), used: True\n",
      "TPU available: False, using: 0 TPU cores\n",
      "HPU available: False, using: 0 HPUs\n",
      "LOCAL_RANK: 0 - CUDA_VISIBLE_DEVICES: [0]\n"
     ]
    },
    {
     "name": "stdout",
     "output_type": "stream",
     "text": [
      "Current value: 0.05541884420990132, Current params: {'input_chunk_length': 32, 'output_chunk_length': 16, 'dropout': 0.13570729601972184, 'batch_size': 222, 'lr': 0.004936424248234872, 'weight_decay': 0.005440317717215282, 'd_model': 128, 'nhead': 4, 'num_encoder_layers': 3, 'num_decoder_layers': 1, 'activation': 'SwiGLU', 'loss_fn': 'smoothl1', 'optimizer': 'AdamW'}\n",
      "Best value: 0.14350426117883713, Best params: {'input_chunk_length': 31, 'output_chunk_length': 14, 'dropout': 0.1652464257073538, 'batch_size': 231, 'lr': 0.0009845975305525364, 'weight_decay': 0.00454842002056842, 'd_model': 128, 'nhead': 4, 'num_encoder_layers': 2, 'num_decoder_layers': 1, 'activation': 'GELU', 'loss_fn': 'smoothl1', 'optimizer': 'AdamW'}\n",
      "\n",
      "Starting Trial 29\n",
      "Hyperparameters: {'input_chunk_length': 57, 'output_chunk_length': 15, 'dropout': 0.10277096358303708, 'batch_size': 245, 'lr': 0.0006476557708266522, 'weight_decay': 0.0015593196585556642, 'd_model': 128, 'nhead': 4, 'num_encoder_layers': 2, 'num_decoder_layers': 2, 'activation': 'ReGLU', 'loss_fn': 'huber', 'optimizer': 'SGD'}\n",
      "\n",
      "Training the model...\n",
      "Train set: 6647 samples\n",
      "Validation set: 1662 samples\n"
     ]
    },
    {
     "name": "stderr",
     "output_type": "stream",
     "text": [
      "[I 2025-05-26 11:43:41,806] Trial 29 pruned. Trial was pruned at epoch 0.\n"
     ]
    },
    {
     "name": "stdout",
     "output_type": "stream",
     "text": [
      "Current value: 0.30834634433537833, Current params: {'input_chunk_length': 57, 'output_chunk_length': 15, 'dropout': 0.10277096358303708, 'batch_size': 245, 'lr': 0.0006476557708266522, 'weight_decay': 0.0015593196585556642, 'd_model': 128, 'nhead': 4, 'num_encoder_layers': 2, 'num_decoder_layers': 2, 'activation': 'ReGLU', 'loss_fn': 'huber', 'optimizer': 'SGD'}\n",
      "Best value: 0.14350426117883713, Best params: {'input_chunk_length': 31, 'output_chunk_length': 14, 'dropout': 0.1652464257073538, 'batch_size': 231, 'lr': 0.0009845975305525364, 'weight_decay': 0.00454842002056842, 'd_model': 128, 'nhead': 4, 'num_encoder_layers': 2, 'num_decoder_layers': 1, 'activation': 'GELU', 'loss_fn': 'smoothl1', 'optimizer': 'AdamW'}\n",
      "\n",
      "Starting Trial 30\n",
      "Hyperparameters: {'input_chunk_length': 39, 'output_chunk_length': 11, 'dropout': 0.24315848239999438, 'batch_size': 215, 'lr': 0.00048801352487089336, 'weight_decay': 0.00046973195685785264, 'd_model': 128, 'nhead': 4, 'num_encoder_layers': 2, 'num_decoder_layers': 2, 'activation': 'GLU', 'loss_fn': 'mse', 'optimizer': 'RMSprop'}\n",
      "\n",
      "Training the model...\n",
      "Train set: 6647 samples\n",
      "Validation set: 1662 samples\n"
     ]
    },
    {
     "name": "stderr",
     "output_type": "stream",
     "text": [
      "Specified future encoders in `add_encoders` at model creation but model does not accept future covariates. future encoders will be ignored.\n",
      "/home/eduardo/Documentos/Water-Cycle-Neural-Network/venv/lib/python3.12/site-packages/torch/nn/modules/transformer.py:382: UserWarning: enable_nested_tensor is True, but self.use_nested_tensor is False because encoder_layer.self_attn.batch_first was not True(use batch_first for better inference performance)\n",
      "  warnings.warn(\n",
      "GPU available: True (cuda), used: True\n",
      "TPU available: False, using: 0 TPU cores\n",
      "HPU available: False, using: 0 HPUs\n",
      "LOCAL_RANK: 0 - CUDA_VISIBLE_DEVICES: [0]\n",
      "[I 2025-05-26 11:44:41,423] Trial 30 pruned. Trial was pruned at epoch 0.\n",
      "Specified future encoders in `add_encoders` at model creation but model does not accept future covariates. future encoders will be ignored.\n",
      "/home/eduardo/Documentos/Water-Cycle-Neural-Network/venv/lib/python3.12/site-packages/torch/nn/modules/transformer.py:382: UserWarning: enable_nested_tensor is True, but self.use_nested_tensor is False because encoder_layer.self_attn.batch_first was not True(use batch_first for better inference performance)\n",
      "  warnings.warn(\n",
      "GPU available: True (cuda), used: True\n",
      "TPU available: False, using: 0 TPU cores\n",
      "HPU available: False, using: 0 HPUs\n",
      "LOCAL_RANK: 0 - CUDA_VISIBLE_DEVICES: [0]\n"
     ]
    },
    {
     "name": "stdout",
     "output_type": "stream",
     "text": [
      "Current value: 0.0865264429047507, Current params: {'input_chunk_length': 39, 'output_chunk_length': 11, 'dropout': 0.24315848239999438, 'batch_size': 215, 'lr': 0.00048801352487089336, 'weight_decay': 0.00046973195685785264, 'd_model': 128, 'nhead': 4, 'num_encoder_layers': 2, 'num_decoder_layers': 2, 'activation': 'GLU', 'loss_fn': 'mse', 'optimizer': 'RMSprop'}\n",
      "Best value: 0.14350426117883713, Best params: {'input_chunk_length': 31, 'output_chunk_length': 14, 'dropout': 0.1652464257073538, 'batch_size': 231, 'lr': 0.0009845975305525364, 'weight_decay': 0.00454842002056842, 'd_model': 128, 'nhead': 4, 'num_encoder_layers': 2, 'num_decoder_layers': 1, 'activation': 'GELU', 'loss_fn': 'smoothl1', 'optimizer': 'AdamW'}\n",
      "\n",
      "Starting Trial 31\n",
      "Hyperparameters: {'input_chunk_length': 27, 'output_chunk_length': 8, 'dropout': 0.20919454003086266, 'batch_size': 203, 'lr': 0.00023122027695157238, 'weight_decay': 0.0037411624153171554, 'd_model': 128, 'nhead': 4, 'num_encoder_layers': 3, 'num_decoder_layers': 1, 'activation': 'GELU', 'loss_fn': 'smoothl1', 'optimizer': 'AdamW'}\n",
      "\n",
      "Training the model...\n",
      "Train set: 6647 samples\n",
      "Validation set: 1662 samples\n"
     ]
    },
    {
     "name": "stderr",
     "output_type": "stream",
     "text": [
      "Metric val_loss improved. New best score: 0.042\n",
      "Metric val_loss improved by 0.004 >= min_delta = 0.0005. New best score: 0.038\n",
      "Metric val_loss improved by 0.004 >= min_delta = 0.0005. New best score: 0.034\n",
      "Metric val_loss improved by 0.002 >= min_delta = 0.0005. New best score: 0.032\n",
      "Metric val_loss improved by 0.003 >= min_delta = 0.0005. New best score: 0.029\n",
      "Metric val_loss improved by 0.002 >= min_delta = 0.0005. New best score: 0.027\n",
      "Metric val_loss improved by 0.001 >= min_delta = 0.0005. New best score: 0.026\n",
      "Metric val_loss improved by 0.001 >= min_delta = 0.0005. New best score: 0.025\n",
      "Metric val_loss improved by 0.001 >= min_delta = 0.0005. New best score: 0.024\n",
      "Metric val_loss improved by 0.001 >= min_delta = 0.0005. New best score: 0.022\n",
      "Metric val_loss improved by 0.001 >= min_delta = 0.0005. New best score: 0.022\n",
      "Metric val_loss improved by 0.001 >= min_delta = 0.0005. New best score: 0.021\n",
      "`Trainer.fit` stopped: `max_epochs=30` reached.\n",
      "/home/eduardo/Documentos/Water-Cycle-Neural-Network/venv/lib/python3.12/site-packages/torch/nn/modules/transformer.py:382: UserWarning: enable_nested_tensor is True, but self.use_nested_tensor is False because encoder_layer.self_attn.batch_first was not True(use batch_first for better inference performance)\n",
      "  warnings.warn(\n",
      "GPU available: True (cuda), used: True\n",
      "TPU available: False, using: 0 TPU cores\n",
      "HPU available: False, using: 0 HPUs\n",
      "LOCAL_RANK: 0 - CUDA_VISIBLE_DEVICES: [0]\n",
      "/home/eduardo/Documentos/Water-Cycle-Neural-Network/venv/lib/python3.12/site-packages/pytorch_lightning/trainer/connectors/data_connector.py:425: The 'predict_dataloader' does not have many workers which may be a bottleneck. Consider increasing the value of the `num_workers` argument` to `num_workers=11` in the `DataLoader` to improve performance.\n"
     ]
    },
    {
     "name": "stdout",
     "output_type": "stream",
     "text": [
      "Model loaded from checkpoint for trial 31\n"
     ]
    },
    {
     "name": "stderr",
     "output_type": "stream",
     "text": [
      "[I 2025-05-26 11:46:12,831] Trial 31 finished with value: 0.1447010309037316 and parameters: {'input_chunk_length': 27, 'output_chunk_length': 8, 'dropout': 0.20919454003086266, 'batch_size': 203, 'lr': 0.00023122027695157238, 'weight_decay': 0.0037411624153171554, 'd_model': 128, 'nhead': 4, 'num_encoder_layers': 3, 'num_decoder_layers': 1, 'activation': 'GELU', 'loss_fn': 'smoothl1', 'optimizer': 'AdamW'}. Best is trial 21 with value: 0.14350426117883713.\n",
      "Specified future encoders in `add_encoders` at model creation but model does not accept future covariates. future encoders will be ignored.\n"
     ]
    },
    {
     "name": "stdout",
     "output_type": "stream",
     "text": [
      "Starting time series verification for consistency...\n",
      "\n",
      "Performance metrics:\n",
      "                                     MSE        RMSE         MAE           R2  \\\n",
      "Temperature                    16.843205    4.104047    3.300993     0.447914   \n",
      "Precipitation_accumulated    3877.945746   62.273154   52.941594 -1137.675973   \n",
      "Humidity                       82.200309    9.066439    7.321006     0.439517   \n",
      "Wind_Speed_kmh                  1.399129    1.182848    0.935330    -0.039047   \n",
      "Soil_Moisture              133103.261685  364.833197  308.692553    -1.374444   \n",
      "Soil_Temperature               13.022459    3.608664    2.927243     0.191359   \n",
      "Wind_Dir_Sin                    0.633249    0.795770    0.715547    -0.150151   \n",
      "Wind_Dir_Cos                    0.400290    0.632685    0.521870    -0.091923   \n",
      "\n",
      "                                SMAPE  \n",
      "Temperature                 55.987934  \n",
      "Precipitation_accumulated   12.316207  \n",
      "Humidity                     8.664412  \n",
      "Wind_Speed_kmh              76.943017  \n",
      "Soil_Moisture                3.548477  \n",
      "Soil_Temperature            65.426506  \n",
      "Wind_Dir_Sin               158.514287  \n",
      "Wind_Dir_Cos               114.792585  \n",
      "The MAE for this fold was 0.1447010309037316\n",
      "Results of trial 31 saved in optuna_iteration_metrics/trial_31.json\n",
      "Current value: 0.1447010309037316, Current params: {'input_chunk_length': 27, 'output_chunk_length': 8, 'dropout': 0.20919454003086266, 'batch_size': 203, 'lr': 0.00023122027695157238, 'weight_decay': 0.0037411624153171554, 'd_model': 128, 'nhead': 4, 'num_encoder_layers': 3, 'num_decoder_layers': 1, 'activation': 'GELU', 'loss_fn': 'smoothl1', 'optimizer': 'AdamW'}\n",
      "Best value: 0.14350426117883713, Best params: {'input_chunk_length': 31, 'output_chunk_length': 14, 'dropout': 0.1652464257073538, 'batch_size': 231, 'lr': 0.0009845975305525364, 'weight_decay': 0.00454842002056842, 'd_model': 128, 'nhead': 4, 'num_encoder_layers': 2, 'num_decoder_layers': 1, 'activation': 'GELU', 'loss_fn': 'smoothl1', 'optimizer': 'AdamW'}\n",
      "\n",
      "Starting Trial 32\n",
      "Hyperparameters: {'input_chunk_length': 30, 'output_chunk_length': 7, 'dropout': 0.19030614657478057, 'batch_size': 193, 'lr': 0.00017850195995866415, 'weight_decay': 0.002454573225686702, 'd_model': 128, 'nhead': 4, 'num_encoder_layers': 3, 'num_decoder_layers': 1, 'activation': 'Bilinear', 'loss_fn': 'smoothl1', 'optimizer': 'AdamW'}\n",
      "\n",
      "Training the model...\n",
      "Train set: 6647 samples\n",
      "Validation set: 1662 samples\n"
     ]
    },
    {
     "name": "stderr",
     "output_type": "stream",
     "text": [
      "/home/eduardo/Documentos/Water-Cycle-Neural-Network/venv/lib/python3.12/site-packages/torch/nn/modules/transformer.py:382: UserWarning: enable_nested_tensor is True, but self.use_nested_tensor is False because encoder_layer.self_attn.batch_first was not True(use batch_first for better inference performance)\n",
      "  warnings.warn(\n",
      "GPU available: True (cuda), used: True\n",
      "TPU available: False, using: 0 TPU cores\n",
      "HPU available: False, using: 0 HPUs\n",
      "LOCAL_RANK: 0 - CUDA_VISIBLE_DEVICES: [0]\n",
      "Metric val_loss improved. New best score: 0.039\n",
      "Metric val_loss improved by 0.006 >= min_delta = 0.0005. New best score: 0.034\n",
      "Metric val_loss improved by 0.003 >= min_delta = 0.0005. New best score: 0.030\n",
      "Metric val_loss improved by 0.003 >= min_delta = 0.0005. New best score: 0.028\n",
      "Metric val_loss improved by 0.003 >= min_delta = 0.0005. New best score: 0.025\n",
      "Monitored metric val_loss did not improve in the last 15 records. Best score: 0.025. Signaling Trainer to stop.\n",
      "/home/eduardo/Documentos/Water-Cycle-Neural-Network/venv/lib/python3.12/site-packages/torch/nn/modules/transformer.py:382: UserWarning: enable_nested_tensor is True, but self.use_nested_tensor is False because encoder_layer.self_attn.batch_first was not True(use batch_first for better inference performance)\n",
      "  warnings.warn(\n",
      "GPU available: True (cuda), used: True\n",
      "TPU available: False, using: 0 TPU cores\n",
      "HPU available: False, using: 0 HPUs\n",
      "LOCAL_RANK: 0 - CUDA_VISIBLE_DEVICES: [0]\n",
      "/home/eduardo/Documentos/Water-Cycle-Neural-Network/venv/lib/python3.12/site-packages/pytorch_lightning/trainer/connectors/data_connector.py:425: The 'predict_dataloader' does not have many workers which may be a bottleneck. Consider increasing the value of the `num_workers` argument` to `num_workers=11` in the `DataLoader` to improve performance.\n"
     ]
    },
    {
     "name": "stdout",
     "output_type": "stream",
     "text": [
      "Model loaded from checkpoint for trial 32\n"
     ]
    },
    {
     "name": "stderr",
     "output_type": "stream",
     "text": [
      "[I 2025-05-26 11:49:14,640] Trial 32 finished with value: 0.16508731681291466 and parameters: {'input_chunk_length': 30, 'output_chunk_length': 7, 'dropout': 0.19030614657478057, 'batch_size': 193, 'lr': 0.00017850195995866415, 'weight_decay': 0.002454573225686702, 'd_model': 128, 'nhead': 4, 'num_encoder_layers': 3, 'num_decoder_layers': 1, 'activation': 'Bilinear', 'loss_fn': 'smoothl1', 'optimizer': 'AdamW'}. Best is trial 21 with value: 0.14350426117883713.\n",
      "Specified future encoders in `add_encoders` at model creation but model does not accept future covariates. future encoders will be ignored.\n",
      "/home/eduardo/Documentos/Water-Cycle-Neural-Network/venv/lib/python3.12/site-packages/torch/nn/modules/transformer.py:382: UserWarning: enable_nested_tensor is True, but self.use_nested_tensor is False because encoder_layer.self_attn.batch_first was not True(use batch_first for better inference performance)\n",
      "  warnings.warn(\n",
      "GPU available: True (cuda), used: True\n",
      "TPU available: False, using: 0 TPU cores\n",
      "HPU available: False, using: 0 HPUs\n",
      "LOCAL_RANK: 0 - CUDA_VISIBLE_DEVICES: [0]\n"
     ]
    },
    {
     "name": "stdout",
     "output_type": "stream",
     "text": [
      "Starting time series verification for consistency...\n",
      "\n",
      "Performance metrics:\n",
      "                                     MSE        RMSE         MAE           R2  \\\n",
      "Temperature                    14.368227    3.790544    2.986912     0.529551   \n",
      "Precipitation_accumulated   16848.189766  129.800577  120.291164 -4961.474435   \n",
      "Humidity                      182.848515   13.522149   10.747990    -0.245756   \n",
      "Wind_Speed_kmh                  1.223279    1.106019    0.900491     0.092510   \n",
      "Soil_Moisture              223805.415012  473.080770  370.826042    -3.030099   \n",
      "Soil_Temperature               15.852528    3.981523    3.242562     0.016442   \n",
      "Wind_Dir_Sin                    0.607818    0.779627    0.658613    -0.103659   \n",
      "Wind_Dir_Cos                    0.369086    0.607525    0.517034    -0.006472   \n",
      "\n",
      "                                SMAPE  \n",
      "Temperature                 42.784779  \n",
      "Precipitation_accumulated   30.525435  \n",
      "Humidity                    12.461963  \n",
      "Wind_Speed_kmh              73.322097  \n",
      "Soil_Moisture                4.472655  \n",
      "Soil_Temperature            58.156567  \n",
      "Wind_Dir_Sin               121.882931  \n",
      "Wind_Dir_Cos               131.892282  \n",
      "The MAE for this fold was 0.16508731681291466\n",
      "Results of trial 32 saved in optuna_iteration_metrics/trial_32.json\n",
      "Current value: 0.16508731681291466, Current params: {'input_chunk_length': 30, 'output_chunk_length': 7, 'dropout': 0.19030614657478057, 'batch_size': 193, 'lr': 0.00017850195995866415, 'weight_decay': 0.002454573225686702, 'd_model': 128, 'nhead': 4, 'num_encoder_layers': 3, 'num_decoder_layers': 1, 'activation': 'Bilinear', 'loss_fn': 'smoothl1', 'optimizer': 'AdamW'}\n",
      "Best value: 0.14350426117883713, Best params: {'input_chunk_length': 31, 'output_chunk_length': 14, 'dropout': 0.1652464257073538, 'batch_size': 231, 'lr': 0.0009845975305525364, 'weight_decay': 0.00454842002056842, 'd_model': 128, 'nhead': 4, 'num_encoder_layers': 2, 'num_decoder_layers': 1, 'activation': 'GELU', 'loss_fn': 'smoothl1', 'optimizer': 'AdamW'}\n",
      "\n",
      "Starting Trial 33\n",
      "Hyperparameters: {'input_chunk_length': 26, 'output_chunk_length': 9, 'dropout': 0.1517531403916471, 'batch_size': 236, 'lr': 0.0006861907336594842, 'weight_decay': 0.005191364151648712, 'd_model': 128, 'nhead': 4, 'num_encoder_layers': 2, 'num_decoder_layers': 1, 'activation': 'GELU', 'loss_fn': 'huber', 'optimizer': 'SGD'}\n",
      "\n",
      "Training the model...\n",
      "Train set: 6647 samples\n",
      "Validation set: 1662 samples\n"
     ]
    },
    {
     "name": "stderr",
     "output_type": "stream",
     "text": [
      "[I 2025-05-26 11:49:18,007] Trial 33 pruned. Trial was pruned at epoch 0.\n",
      "Specified future encoders in `add_encoders` at model creation but model does not accept future covariates. future encoders will be ignored.\n",
      "/home/eduardo/Documentos/Water-Cycle-Neural-Network/venv/lib/python3.12/site-packages/torch/nn/modules/transformer.py:382: UserWarning: enable_nested_tensor is True, but self.use_nested_tensor is False because encoder_layer.self_attn.batch_first was not True(use batch_first for better inference performance)\n",
      "  warnings.warn(\n",
      "GPU available: True (cuda), used: True\n",
      "TPU available: False, using: 0 TPU cores\n",
      "HPU available: False, using: 0 HPUs\n",
      "LOCAL_RANK: 0 - CUDA_VISIBLE_DEVICES: [0]\n"
     ]
    },
    {
     "name": "stdout",
     "output_type": "stream",
     "text": [
      "Current value: 0.22465603003238152, Current params: {'input_chunk_length': 26, 'output_chunk_length': 9, 'dropout': 0.1517531403916471, 'batch_size': 236, 'lr': 0.0006861907336594842, 'weight_decay': 0.005191364151648712, 'd_model': 128, 'nhead': 4, 'num_encoder_layers': 2, 'num_decoder_layers': 1, 'activation': 'GELU', 'loss_fn': 'huber', 'optimizer': 'SGD'}\n",
      "Best value: 0.14350426117883713, Best params: {'input_chunk_length': 31, 'output_chunk_length': 14, 'dropout': 0.1652464257073538, 'batch_size': 231, 'lr': 0.0009845975305525364, 'weight_decay': 0.00454842002056842, 'd_model': 128, 'nhead': 4, 'num_encoder_layers': 2, 'num_decoder_layers': 1, 'activation': 'GELU', 'loss_fn': 'smoothl1', 'optimizer': 'AdamW'}\n",
      "\n",
      "Starting Trial 34\n",
      "Hyperparameters: {'input_chunk_length': 35, 'output_chunk_length': 4, 'dropout': 0.2658944741340959, 'batch_size': 208, 'lr': 0.0009983720834264177, 'weight_decay': 0.0015935471158707506, 'd_model': 128, 'nhead': 4, 'num_encoder_layers': 3, 'num_decoder_layers': 1, 'activation': 'GELU', 'loss_fn': 'smoothl1', 'optimizer': 'AdamW'}\n",
      "\n",
      "Training the model...\n",
      "Train set: 6647 samples\n",
      "Validation set: 1662 samples\n"
     ]
    },
    {
     "name": "stderr",
     "output_type": "stream",
     "text": [
      "Metric val_loss improved. New best score: 0.034\n",
      "Metric val_loss improved by 0.007 >= min_delta = 0.0005. New best score: 0.027\n",
      "Metric val_loss improved by 0.003 >= min_delta = 0.0005. New best score: 0.024\n",
      "Metric val_loss improved by 0.001 >= min_delta = 0.0005. New best score: 0.023\n",
      "Metric val_loss improved by 0.001 >= min_delta = 0.0005. New best score: 0.022\n",
      "Metric val_loss improved by 0.002 >= min_delta = 0.0005. New best score: 0.021\n",
      "Monitored metric val_loss did not improve in the last 15 records. Best score: 0.021. Signaling Trainer to stop.\n",
      "/home/eduardo/Documentos/Water-Cycle-Neural-Network/venv/lib/python3.12/site-packages/torch/nn/modules/transformer.py:382: UserWarning: enable_nested_tensor is True, but self.use_nested_tensor is False because encoder_layer.self_attn.batch_first was not True(use batch_first for better inference performance)\n",
      "  warnings.warn(\n",
      "GPU available: True (cuda), used: True\n",
      "TPU available: False, using: 0 TPU cores\n",
      "HPU available: False, using: 0 HPUs\n",
      "LOCAL_RANK: 0 - CUDA_VISIBLE_DEVICES: [0]\n",
      "/home/eduardo/Documentos/Water-Cycle-Neural-Network/venv/lib/python3.12/site-packages/pytorch_lightning/trainer/connectors/data_connector.py:425: The 'predict_dataloader' does not have many workers which may be a bottleneck. Consider increasing the value of the `num_workers` argument` to `num_workers=11` in the `DataLoader` to improve performance.\n"
     ]
    },
    {
     "name": "stdout",
     "output_type": "stream",
     "text": [
      "Model loaded from checkpoint for trial 34\n"
     ]
    },
    {
     "name": "stderr",
     "output_type": "stream",
     "text": [
      "[I 2025-05-26 11:50:55,006] Trial 34 finished with value: 0.14846791121911704 and parameters: {'input_chunk_length': 35, 'output_chunk_length': 4, 'dropout': 0.2658944741340959, 'batch_size': 208, 'lr': 0.0009983720834264177, 'weight_decay': 0.0015935471158707506, 'd_model': 128, 'nhead': 4, 'num_encoder_layers': 3, 'num_decoder_layers': 1, 'activation': 'GELU', 'loss_fn': 'smoothl1', 'optimizer': 'AdamW'}. Best is trial 21 with value: 0.14350426117883713.\n",
      "Specified future encoders in `add_encoders` at model creation but model does not accept future covariates. future encoders will be ignored.\n"
     ]
    },
    {
     "name": "stdout",
     "output_type": "stream",
     "text": [
      "Starting time series verification for consistency...\n",
      "\n",
      "Performance metrics:\n",
      "                                     MSE        RMSE         MAE           R2  \\\n",
      "Temperature                     8.207396    2.864855    2.296602     0.731437   \n",
      "Precipitation_accumulated    9764.589845   98.815939   82.906545 -2884.079828   \n",
      "Humidity                       82.138283    9.063017    7.197908     0.440302   \n",
      "Wind_Speed_kmh                  1.442214    1.200922    0.980188    -0.068997   \n",
      "Soil_Moisture              132312.534362  363.747899  297.507147    -1.404168   \n",
      "Soil_Temperature               15.971343    3.996416    3.340507     0.009692   \n",
      "Wind_Dir_Sin                    0.600298    0.774789    0.687691    -0.089349   \n",
      "Wind_Dir_Cos                    0.379836    0.616308    0.511892    -0.036223   \n",
      "\n",
      "                                SMAPE  \n",
      "Temperature                 36.758952  \n",
      "Precipitation_accumulated   20.299437  \n",
      "Humidity                     8.471048  \n",
      "Wind_Speed_kmh              75.224437  \n",
      "Soil_Moisture                3.490021  \n",
      "Soil_Temperature            76.237099  \n",
      "Wind_Dir_Sin               150.688127  \n",
      "Wind_Dir_Cos               120.481841  \n",
      "The MAE for this fold was 0.14846791121911704\n",
      "Results of trial 34 saved in optuna_iteration_metrics/trial_34.json\n",
      "Current value: 0.14846791121911704, Current params: {'input_chunk_length': 35, 'output_chunk_length': 4, 'dropout': 0.2658944741340959, 'batch_size': 208, 'lr': 0.0009983720834264177, 'weight_decay': 0.0015935471158707506, 'd_model': 128, 'nhead': 4, 'num_encoder_layers': 3, 'num_decoder_layers': 1, 'activation': 'GELU', 'loss_fn': 'smoothl1', 'optimizer': 'AdamW'}\n",
      "Best value: 0.14350426117883713, Best params: {'input_chunk_length': 31, 'output_chunk_length': 14, 'dropout': 0.1652464257073538, 'batch_size': 231, 'lr': 0.0009845975305525364, 'weight_decay': 0.00454842002056842, 'd_model': 128, 'nhead': 4, 'num_encoder_layers': 2, 'num_decoder_layers': 1, 'activation': 'GELU', 'loss_fn': 'smoothl1', 'optimizer': 'AdamW'}\n",
      "\n",
      "Starting Trial 35\n",
      "Hyperparameters: {'input_chunk_length': 41, 'output_chunk_length': 9, 'dropout': 0.22645259666017015, 'batch_size': 228, 'lr': 0.0024000660105347785, 'weight_decay': 0.003277446041612723, 'd_model': 256, 'nhead': 2, 'num_encoder_layers': 2, 'num_decoder_layers': 2, 'activation': 'GELU', 'loss_fn': 'smoothl1', 'optimizer': 'SGD'}\n",
      "\n",
      "Training the model...\n",
      "Train set: 6647 samples\n",
      "Validation set: 1662 samples\n"
     ]
    },
    {
     "name": "stderr",
     "output_type": "stream",
     "text": [
      "/home/eduardo/Documentos/Water-Cycle-Neural-Network/venv/lib/python3.12/site-packages/torch/nn/modules/transformer.py:382: UserWarning: enable_nested_tensor is True, but self.use_nested_tensor is False because encoder_layer.self_attn.batch_first was not True(use batch_first for better inference performance)\n",
      "  warnings.warn(\n",
      "GPU available: True (cuda), used: True\n",
      "TPU available: False, using: 0 TPU cores\n",
      "HPU available: False, using: 0 HPUs\n",
      "LOCAL_RANK: 0 - CUDA_VISIBLE_DEVICES: [0]\n",
      "[I 2025-05-26 11:51:01,686] Trial 35 pruned. Trial was pruned at epoch 0.\n",
      "Specified future encoders in `add_encoders` at model creation but model does not accept future covariates. future encoders will be ignored.\n",
      "/home/eduardo/Documentos/Water-Cycle-Neural-Network/venv/lib/python3.12/site-packages/torch/nn/modules/transformer.py:382: UserWarning: enable_nested_tensor is True, but self.use_nested_tensor is False because encoder_layer.self_attn.batch_first was not True(use batch_first for better inference performance)\n",
      "  warnings.warn(\n",
      "GPU available: True (cuda), used: True\n",
      "TPU available: False, using: 0 TPU cores\n",
      "HPU available: False, using: 0 HPUs\n",
      "LOCAL_RANK: 0 - CUDA_VISIBLE_DEVICES: [0]\n"
     ]
    },
    {
     "name": "stdout",
     "output_type": "stream",
     "text": [
      "Current value: 0.10464800645429652, Current params: {'input_chunk_length': 41, 'output_chunk_length': 9, 'dropout': 0.22645259666017015, 'batch_size': 228, 'lr': 0.0024000660105347785, 'weight_decay': 0.003277446041612723, 'd_model': 256, 'nhead': 2, 'num_encoder_layers': 2, 'num_decoder_layers': 2, 'activation': 'GELU', 'loss_fn': 'smoothl1', 'optimizer': 'SGD'}\n",
      "Best value: 0.14350426117883713, Best params: {'input_chunk_length': 31, 'output_chunk_length': 14, 'dropout': 0.1652464257073538, 'batch_size': 231, 'lr': 0.0009845975305525364, 'weight_decay': 0.00454842002056842, 'd_model': 128, 'nhead': 4, 'num_encoder_layers': 2, 'num_decoder_layers': 1, 'activation': 'GELU', 'loss_fn': 'smoothl1', 'optimizer': 'AdamW'}\n",
      "\n",
      "Starting Trial 36\n",
      "Hyperparameters: {'input_chunk_length': 27, 'output_chunk_length': 18, 'dropout': 0.17515898131051522, 'batch_size': 187, 'lr': 0.00023796069716168882, 'weight_decay': 0.0008738621768243502, 'd_model': 128, 'nhead': 4, 'num_encoder_layers': 3, 'num_decoder_layers': 2, 'activation': 'ReGLU', 'loss_fn': 'smoothl1', 'optimizer': 'AdamW'}\n",
      "\n",
      "Training the model...\n",
      "Train set: 6647 samples\n",
      "Validation set: 1662 samples\n"
     ]
    },
    {
     "name": "stderr",
     "output_type": "stream",
     "text": [
      "Metric val_loss improved. New best score: 0.042\n",
      "Metric val_loss improved by 0.003 >= min_delta = 0.0005. New best score: 0.038\n",
      "[I 2025-05-26 11:51:13,399] Trial 36 pruned. Trial was pruned at epoch 2.\n",
      "Specified future encoders in `add_encoders` at model creation but model does not accept future covariates. future encoders will be ignored.\n"
     ]
    },
    {
     "name": "stdout",
     "output_type": "stream",
     "text": [
      "Current value: 0.036639916039742884, Current params: {'input_chunk_length': 27, 'output_chunk_length': 18, 'dropout': 0.17515898131051522, 'batch_size': 187, 'lr': 0.00023796069716168882, 'weight_decay': 0.0008738621768243502, 'd_model': 128, 'nhead': 4, 'num_encoder_layers': 3, 'num_decoder_layers': 2, 'activation': 'ReGLU', 'loss_fn': 'smoothl1', 'optimizer': 'AdamW'}\n",
      "Best value: 0.14350426117883713, Best params: {'input_chunk_length': 31, 'output_chunk_length': 14, 'dropout': 0.1652464257073538, 'batch_size': 231, 'lr': 0.0009845975305525364, 'weight_decay': 0.00454842002056842, 'd_model': 128, 'nhead': 4, 'num_encoder_layers': 2, 'num_decoder_layers': 1, 'activation': 'GELU', 'loss_fn': 'smoothl1', 'optimizer': 'AdamW'}\n",
      "\n",
      "Starting Trial 37\n",
      "Hyperparameters: {'input_chunk_length': 30, 'output_chunk_length': 12, 'dropout': 0.13252628095873575, 'batch_size': 245, 'lr': 8.800721538065305e-05, 'weight_decay': 0.009727327877630587, 'd_model': 128, 'nhead': 4, 'num_encoder_layers': 2, 'num_decoder_layers': 1, 'activation': 'GEGLU', 'loss_fn': 'huber', 'optimizer': 'AdamW'}\n",
      "\n",
      "Training the model...\n",
      "Train set: 6647 samples\n",
      "Validation set: 1662 samples\n"
     ]
    },
    {
     "name": "stderr",
     "output_type": "stream",
     "text": [
      "/home/eduardo/Documentos/Water-Cycle-Neural-Network/venv/lib/python3.12/site-packages/torch/nn/modules/transformer.py:382: UserWarning: enable_nested_tensor is True, but self.use_nested_tensor is False because encoder_layer.self_attn.batch_first was not True(use batch_first for better inference performance)\n",
      "  warnings.warn(\n",
      "GPU available: True (cuda), used: True\n",
      "TPU available: False, using: 0 TPU cores\n",
      "HPU available: False, using: 0 HPUs\n",
      "LOCAL_RANK: 0 - CUDA_VISIBLE_DEVICES: [0]\n",
      "[I 2025-05-26 11:54:02,686] Trial 37 pruned. Trial was pruned at epoch 0.\n",
      "Specified future encoders in `add_encoders` at model creation but model does not accept future covariates. future encoders will be ignored.\n",
      "/home/eduardo/Documentos/Water-Cycle-Neural-Network/venv/lib/python3.12/site-packages/torch/nn/modules/transformer.py:382: UserWarning: enable_nested_tensor is True, but self.use_nested_tensor is False because encoder_layer.self_attn.batch_first was not True(use batch_first for better inference performance)\n",
      "  warnings.warn(\n",
      "GPU available: True (cuda), used: True\n",
      "TPU available: False, using: 0 TPU cores\n",
      "HPU available: False, using: 0 HPUs\n",
      "LOCAL_RANK: 0 - CUDA_VISIBLE_DEVICES: [0]\n"
     ]
    },
    {
     "name": "stdout",
     "output_type": "stream",
     "text": [
      "Current value: 0.09882165811866096, Current params: {'input_chunk_length': 30, 'output_chunk_length': 12, 'dropout': 0.13252628095873575, 'batch_size': 245, 'lr': 8.800721538065305e-05, 'weight_decay': 0.009727327877630587, 'd_model': 128, 'nhead': 4, 'num_encoder_layers': 2, 'num_decoder_layers': 1, 'activation': 'GEGLU', 'loss_fn': 'huber', 'optimizer': 'AdamW'}\n",
      "Best value: 0.14350426117883713, Best params: {'input_chunk_length': 31, 'output_chunk_length': 14, 'dropout': 0.1652464257073538, 'batch_size': 231, 'lr': 0.0009845975305525364, 'weight_decay': 0.00454842002056842, 'd_model': 128, 'nhead': 4, 'num_encoder_layers': 2, 'num_decoder_layers': 1, 'activation': 'GELU', 'loss_fn': 'smoothl1', 'optimizer': 'AdamW'}\n",
      "\n",
      "Starting Trial 38\n",
      "Hyperparameters: {'input_chunk_length': 44, 'output_chunk_length': 15, 'dropout': 0.30861192310585994, 'batch_size': 159, 'lr': 0.0011788028254961411, 'weight_decay': 0.0002634551074572143, 'd_model': 256, 'nhead': 4, 'num_encoder_layers': 2, 'num_decoder_layers': 1, 'activation': 'Bilinear', 'loss_fn': 'smoothl1', 'optimizer': 'AdamW'}\n",
      "\n",
      "Training the model...\n",
      "Train set: 6647 samples\n",
      "Validation set: 1662 samples\n"
     ]
    },
    {
     "name": "stderr",
     "output_type": "stream",
     "text": [
      "Metric val_loss improved. New best score: 0.041\n",
      "Metric val_loss improved by 0.002 >= min_delta = 0.0005. New best score: 0.040\n",
      "Metric val_loss improved by 0.007 >= min_delta = 0.0005. New best score: 0.032\n",
      "Metric val_loss improved by 0.005 >= min_delta = 0.0005. New best score: 0.027\n",
      "[I 2025-05-26 11:54:47,094] Trial 38 pruned. Trial was pruned at epoch 6.\n",
      "Specified future encoders in `add_encoders` at model creation but model does not accept future covariates. future encoders will be ignored.\n",
      "/home/eduardo/Documentos/Water-Cycle-Neural-Network/venv/lib/python3.12/site-packages/torch/nn/modules/transformer.py:382: UserWarning: enable_nested_tensor is True, but self.use_nested_tensor is False because encoder_layer.self_attn.batch_first was not True(use batch_first for better inference performance)\n",
      "  warnings.warn(\n",
      "GPU available: True (cuda), used: True\n",
      "TPU available: False, using: 0 TPU cores\n",
      "HPU available: False, using: 0 HPUs\n",
      "LOCAL_RANK: 0 - CUDA_VISIBLE_DEVICES: [0]\n"
     ]
    },
    {
     "name": "stdout",
     "output_type": "stream",
     "text": [
      "Current value: 0.0282023717746358, Current params: {'input_chunk_length': 44, 'output_chunk_length': 15, 'dropout': 0.30861192310585994, 'batch_size': 159, 'lr': 0.0011788028254961411, 'weight_decay': 0.0002634551074572143, 'd_model': 256, 'nhead': 4, 'num_encoder_layers': 2, 'num_decoder_layers': 1, 'activation': 'Bilinear', 'loss_fn': 'smoothl1', 'optimizer': 'AdamW'}\n",
      "Best value: 0.14350426117883713, Best params: {'input_chunk_length': 31, 'output_chunk_length': 14, 'dropout': 0.1652464257073538, 'batch_size': 231, 'lr': 0.0009845975305525364, 'weight_decay': 0.00454842002056842, 'd_model': 128, 'nhead': 4, 'num_encoder_layers': 2, 'num_decoder_layers': 1, 'activation': 'GELU', 'loss_fn': 'smoothl1', 'optimizer': 'AdamW'}\n",
      "\n",
      "Starting Trial 39\n",
      "Hyperparameters: {'input_chunk_length': 35, 'output_chunk_length': 8, 'dropout': 0.1931312159164872, 'batch_size': 201, 'lr': 5.6010571515335485e-05, 'weight_decay': 4.093532472149702e-05, 'd_model': 128, 'nhead': 4, 'num_encoder_layers': 3, 'num_decoder_layers': 2, 'activation': 'GELU', 'loss_fn': 'smoothl1', 'optimizer': 'AdamW'}\n",
      "\n",
      "Training the model...\n",
      "Train set: 6647 samples\n",
      "Validation set: 1662 samples\n"
     ]
    },
    {
     "name": "stderr",
     "output_type": "stream",
     "text": [
      "[I 2025-05-26 11:54:51,878] Trial 39 pruned. Trial was pruned at epoch 0.\n",
      "Specified future encoders in `add_encoders` at model creation but model does not accept future covariates. future encoders will be ignored.\n",
      "/home/eduardo/Documentos/Water-Cycle-Neural-Network/venv/lib/python3.12/site-packages/torch/nn/modules/transformer.py:382: UserWarning: enable_nested_tensor is True, but self.use_nested_tensor is False because encoder_layer.self_attn.batch_first was not True(use batch_first for better inference performance)\n",
      "  warnings.warn(\n",
      "GPU available: True (cuda), used: True\n",
      "TPU available: False, using: 0 TPU cores\n",
      "HPU available: False, using: 0 HPUs\n",
      "LOCAL_RANK: 0 - CUDA_VISIBLE_DEVICES: [0]\n"
     ]
    },
    {
     "name": "stdout",
     "output_type": "stream",
     "text": [
      "Current value: 0.047105259020692715, Current params: {'input_chunk_length': 35, 'output_chunk_length': 8, 'dropout': 0.1931312159164872, 'batch_size': 201, 'lr': 5.6010571515335485e-05, 'weight_decay': 4.093532472149702e-05, 'd_model': 128, 'nhead': 4, 'num_encoder_layers': 3, 'num_decoder_layers': 2, 'activation': 'GELU', 'loss_fn': 'smoothl1', 'optimizer': 'AdamW'}\n",
      "Best value: 0.14350426117883713, Best params: {'input_chunk_length': 31, 'output_chunk_length': 14, 'dropout': 0.1652464257073538, 'batch_size': 231, 'lr': 0.0009845975305525364, 'weight_decay': 0.00454842002056842, 'd_model': 128, 'nhead': 4, 'num_encoder_layers': 2, 'num_decoder_layers': 1, 'activation': 'GELU', 'loss_fn': 'smoothl1', 'optimizer': 'AdamW'}\n",
      "\n",
      "Starting Trial 40\n",
      "Hyperparameters: {'input_chunk_length': 24, 'output_chunk_length': 5, 'dropout': 0.16778848347045813, 'batch_size': 210, 'lr': 0.0004888936451506199, 'weight_decay': 1.1990539200410201e-06, 'd_model': 128, 'nhead': 2, 'num_encoder_layers': 4, 'num_decoder_layers': 1, 'activation': 'GLU', 'loss_fn': 'smoothl1', 'optimizer': 'SGD'}\n",
      "\n",
      "Training the model...\n",
      "Train set: 6647 samples\n",
      "Validation set: 1662 samples\n"
     ]
    },
    {
     "name": "stderr",
     "output_type": "stream",
     "text": [
      "[I 2025-05-26 11:54:56,415] Trial 40 pruned. Trial was pruned at epoch 0.\n",
      "Specified future encoders in `add_encoders` at model creation but model does not accept future covariates. future encoders will be ignored.\n",
      "/home/eduardo/Documentos/Water-Cycle-Neural-Network/venv/lib/python3.12/site-packages/torch/nn/modules/transformer.py:382: UserWarning: enable_nested_tensor is True, but self.use_nested_tensor is False because encoder_layer.self_attn.batch_first was not True(use batch_first for better inference performance)\n",
      "  warnings.warn(\n",
      "GPU available: True (cuda), used: True\n",
      "TPU available: False, using: 0 TPU cores\n",
      "HPU available: False, using: 0 HPUs\n",
      "LOCAL_RANK: 0 - CUDA_VISIBLE_DEVICES: [0]\n"
     ]
    },
    {
     "name": "stdout",
     "output_type": "stream",
     "text": [
      "Current value: 0.17757057463905782, Current params: {'input_chunk_length': 24, 'output_chunk_length': 5, 'dropout': 0.16778848347045813, 'batch_size': 210, 'lr': 0.0004888936451506199, 'weight_decay': 1.1990539200410201e-06, 'd_model': 128, 'nhead': 2, 'num_encoder_layers': 4, 'num_decoder_layers': 1, 'activation': 'GLU', 'loss_fn': 'smoothl1', 'optimizer': 'SGD'}\n",
      "Best value: 0.14350426117883713, Best params: {'input_chunk_length': 31, 'output_chunk_length': 14, 'dropout': 0.1652464257073538, 'batch_size': 231, 'lr': 0.0009845975305525364, 'weight_decay': 0.00454842002056842, 'd_model': 128, 'nhead': 4, 'num_encoder_layers': 2, 'num_decoder_layers': 1, 'activation': 'GELU', 'loss_fn': 'smoothl1', 'optimizer': 'AdamW'}\n",
      "\n",
      "Starting Trial 41\n",
      "Hyperparameters: {'input_chunk_length': 27, 'output_chunk_length': 11, 'dropout': 0.21155855894460424, 'batch_size': 204, 'lr': 0.00028074161385455685, 'weight_decay': 0.00393886296049938, 'd_model': 128, 'nhead': 4, 'num_encoder_layers': 3, 'num_decoder_layers': 1, 'activation': 'GELU', 'loss_fn': 'smoothl1', 'optimizer': 'AdamW'}\n",
      "\n",
      "Training the model...\n",
      "Train set: 6647 samples\n",
      "Validation set: 1662 samples\n"
     ]
    },
    {
     "name": "stderr",
     "output_type": "stream",
     "text": [
      "[I 2025-05-26 11:55:00,342] Trial 41 pruned. Trial was pruned at epoch 0.\n",
      "Specified future encoders in `add_encoders` at model creation but model does not accept future covariates. future encoders will be ignored.\n",
      "/home/eduardo/Documentos/Water-Cycle-Neural-Network/venv/lib/python3.12/site-packages/torch/nn/modules/transformer.py:382: UserWarning: enable_nested_tensor is True, but self.use_nested_tensor is False because encoder_layer.self_attn.batch_first was not True(use batch_first for better inference performance)\n",
      "  warnings.warn(\n",
      "GPU available: True (cuda), used: True\n",
      "TPU available: False, using: 0 TPU cores\n",
      "HPU available: False, using: 0 HPUs\n",
      "LOCAL_RANK: 0 - CUDA_VISIBLE_DEVICES: [0]\n"
     ]
    },
    {
     "name": "stdout",
     "output_type": "stream",
     "text": [
      "Current value: 0.04718252019808568, Current params: {'input_chunk_length': 27, 'output_chunk_length': 11, 'dropout': 0.21155855894460424, 'batch_size': 204, 'lr': 0.00028074161385455685, 'weight_decay': 0.00393886296049938, 'd_model': 128, 'nhead': 4, 'num_encoder_layers': 3, 'num_decoder_layers': 1, 'activation': 'GELU', 'loss_fn': 'smoothl1', 'optimizer': 'AdamW'}\n",
      "Best value: 0.14350426117883713, Best params: {'input_chunk_length': 31, 'output_chunk_length': 14, 'dropout': 0.1652464257073538, 'batch_size': 231, 'lr': 0.0009845975305525364, 'weight_decay': 0.00454842002056842, 'd_model': 128, 'nhead': 4, 'num_encoder_layers': 2, 'num_decoder_layers': 1, 'activation': 'GELU', 'loss_fn': 'smoothl1', 'optimizer': 'AdamW'}\n",
      "\n",
      "Starting Trial 42\n",
      "Hyperparameters: {'input_chunk_length': 27, 'output_chunk_length': 10, 'dropout': 0.21473241671710355, 'batch_size': 230, 'lr': 0.00015790679028258363, 'weight_decay': 0.0059233853668761785, 'd_model': 128, 'nhead': 4, 'num_encoder_layers': 3, 'num_decoder_layers': 1, 'activation': 'GELU', 'loss_fn': 'smoothl1', 'optimizer': 'AdamW'}\n",
      "\n",
      "Training the model...\n",
      "Train set: 6647 samples\n",
      "Validation set: 1662 samples\n"
     ]
    },
    {
     "name": "stderr",
     "output_type": "stream",
     "text": [
      "[I 2025-05-26 11:55:04,318] Trial 42 pruned. Trial was pruned at epoch 0.\n",
      "Specified future encoders in `add_encoders` at model creation but model does not accept future covariates. future encoders will be ignored.\n",
      "/home/eduardo/Documentos/Water-Cycle-Neural-Network/venv/lib/python3.12/site-packages/torch/nn/modules/transformer.py:382: UserWarning: enable_nested_tensor is True, but self.use_nested_tensor is False because encoder_layer.self_attn.batch_first was not True(use batch_first for better inference performance)\n",
      "  warnings.warn(\n",
      "GPU available: True (cuda), used: True\n",
      "TPU available: False, using: 0 TPU cores\n",
      "HPU available: False, using: 0 HPUs\n",
      "LOCAL_RANK: 0 - CUDA_VISIBLE_DEVICES: [0]\n"
     ]
    },
    {
     "name": "stdout",
     "output_type": "stream",
     "text": [
      "Current value: 0.046948434029663304, Current params: {'input_chunk_length': 27, 'output_chunk_length': 10, 'dropout': 0.21473241671710355, 'batch_size': 230, 'lr': 0.00015790679028258363, 'weight_decay': 0.0059233853668761785, 'd_model': 128, 'nhead': 4, 'num_encoder_layers': 3, 'num_decoder_layers': 1, 'activation': 'GELU', 'loss_fn': 'smoothl1', 'optimizer': 'AdamW'}\n",
      "Best value: 0.14350426117883713, Best params: {'input_chunk_length': 31, 'output_chunk_length': 14, 'dropout': 0.1652464257073538, 'batch_size': 231, 'lr': 0.0009845975305525364, 'weight_decay': 0.00454842002056842, 'd_model': 128, 'nhead': 4, 'num_encoder_layers': 2, 'num_decoder_layers': 1, 'activation': 'GELU', 'loss_fn': 'smoothl1', 'optimizer': 'AdamW'}\n",
      "\n",
      "Starting Trial 43\n",
      "Hyperparameters: {'input_chunk_length': 30, 'output_chunk_length': 13, 'dropout': 0.2586201104791182, 'batch_size': 212, 'lr': 0.00040342520105180894, 'weight_decay': 0.0017788416840047346, 'd_model': 128, 'nhead': 4, 'num_encoder_layers': 3, 'num_decoder_layers': 1, 'activation': 'GELU', 'loss_fn': 'smoothl1', 'optimizer': 'AdamW'}\n",
      "\n",
      "Training the model...\n",
      "Train set: 6647 samples\n",
      "Validation set: 1662 samples\n"
     ]
    },
    {
     "name": "stderr",
     "output_type": "stream",
     "text": [
      "[I 2025-05-26 11:55:08,383] Trial 43 pruned. Trial was pruned at epoch 0.\n",
      "Specified future encoders in `add_encoders` at model creation but model does not accept future covariates. future encoders will be ignored.\n",
      "/home/eduardo/Documentos/Water-Cycle-Neural-Network/venv/lib/python3.12/site-packages/torch/nn/modules/transformer.py:382: UserWarning: enable_nested_tensor is True, but self.use_nested_tensor is False because encoder_layer.self_attn.batch_first was not True(use batch_first for better inference performance)\n",
      "  warnings.warn(\n",
      "GPU available: True (cuda), used: True\n",
      "TPU available: False, using: 0 TPU cores\n",
      "HPU available: False, using: 0 HPUs\n",
      "LOCAL_RANK: 0 - CUDA_VISIBLE_DEVICES: [0]\n"
     ]
    },
    {
     "name": "stdout",
     "output_type": "stream",
     "text": [
      "Current value: 0.043975026930672304, Current params: {'input_chunk_length': 30, 'output_chunk_length': 13, 'dropout': 0.2586201104791182, 'batch_size': 212, 'lr': 0.00040342520105180894, 'weight_decay': 0.0017788416840047346, 'd_model': 128, 'nhead': 4, 'num_encoder_layers': 3, 'num_decoder_layers': 1, 'activation': 'GELU', 'loss_fn': 'smoothl1', 'optimizer': 'AdamW'}\n",
      "Best value: 0.14350426117883713, Best params: {'input_chunk_length': 31, 'output_chunk_length': 14, 'dropout': 0.1652464257073538, 'batch_size': 231, 'lr': 0.0009845975305525364, 'weight_decay': 0.00454842002056842, 'd_model': 128, 'nhead': 4, 'num_encoder_layers': 2, 'num_decoder_layers': 1, 'activation': 'GELU', 'loss_fn': 'smoothl1', 'optimizer': 'AdamW'}\n",
      "\n",
      "Starting Trial 44\n",
      "Hyperparameters: {'input_chunk_length': 25, 'output_chunk_length': 11, 'dropout': 0.2976462345464759, 'batch_size': 190, 'lr': 0.00010483973155279354, 'weight_decay': 0.0035473723935461107, 'd_model': 256, 'nhead': 4, 'num_encoder_layers': 2, 'num_decoder_layers': 1, 'activation': 'GELU', 'loss_fn': 'smoothl1', 'optimizer': 'AdamW'}\n",
      "\n",
      "Training the model...\n",
      "Train set: 6647 samples\n",
      "Validation set: 1662 samples\n"
     ]
    },
    {
     "name": "stderr",
     "output_type": "stream",
     "text": [
      "Metric val_loss improved. New best score: 0.042\n",
      "Metric val_loss improved by 0.007 >= min_delta = 0.0005. New best score: 0.035\n",
      "Metric val_loss improved by 0.002 >= min_delta = 0.0005. New best score: 0.032\n",
      "Metric val_loss improved by 0.001 >= min_delta = 0.0005. New best score: 0.032\n",
      "Metric val_loss improved by 0.002 >= min_delta = 0.0005. New best score: 0.029\n",
      "Metric val_loss improved by 0.002 >= min_delta = 0.0005. New best score: 0.027\n",
      "Metric val_loss improved by 0.001 >= min_delta = 0.0005. New best score: 0.026\n",
      "Metric val_loss improved by 0.002 >= min_delta = 0.0005. New best score: 0.024\n",
      "Metric val_loss improved by 0.001 >= min_delta = 0.0005. New best score: 0.023\n",
      "Metric val_loss improved by 0.001 >= min_delta = 0.0005. New best score: 0.022\n",
      "Metric val_loss improved by 0.001 >= min_delta = 0.0005. New best score: 0.022\n",
      "Metric val_loss improved by 0.001 >= min_delta = 0.0005. New best score: 0.021\n",
      "`Trainer.fit` stopped: `max_epochs=30` reached.\n",
      "/home/eduardo/Documentos/Water-Cycle-Neural-Network/venv/lib/python3.12/site-packages/torch/nn/modules/transformer.py:382: UserWarning: enable_nested_tensor is True, but self.use_nested_tensor is False because encoder_layer.self_attn.batch_first was not True(use batch_first for better inference performance)\n",
      "  warnings.warn(\n",
      "GPU available: True (cuda), used: True\n",
      "TPU available: False, using: 0 TPU cores\n",
      "HPU available: False, using: 0 HPUs\n",
      "LOCAL_RANK: 0 - CUDA_VISIBLE_DEVICES: [0]\n",
      "/home/eduardo/Documentos/Water-Cycle-Neural-Network/venv/lib/python3.12/site-packages/pytorch_lightning/trainer/connectors/data_connector.py:425: The 'predict_dataloader' does not have many workers which may be a bottleneck. Consider increasing the value of the `num_workers` argument` to `num_workers=11` in the `DataLoader` to improve performance.\n"
     ]
    },
    {
     "name": "stdout",
     "output_type": "stream",
     "text": [
      "Model loaded from checkpoint for trial 44\n"
     ]
    },
    {
     "name": "stderr",
     "output_type": "stream",
     "text": [
      "[I 2025-05-26 11:57:09,584] Trial 44 finished with value: 0.13945409201458558 and parameters: {'input_chunk_length': 25, 'output_chunk_length': 11, 'dropout': 0.2976462345464759, 'batch_size': 190, 'lr': 0.00010483973155279354, 'weight_decay': 0.0035473723935461107, 'd_model': 256, 'nhead': 4, 'num_encoder_layers': 2, 'num_decoder_layers': 1, 'activation': 'GELU', 'loss_fn': 'smoothl1', 'optimizer': 'AdamW'}. Best is trial 44 with value: 0.13945409201458558.\n",
      "Specified future encoders in `add_encoders` at model creation but model does not accept future covariates. future encoders will be ignored.\n",
      "/home/eduardo/Documentos/Water-Cycle-Neural-Network/venv/lib/python3.12/site-packages/torch/nn/modules/transformer.py:382: UserWarning: enable_nested_tensor is True, but self.use_nested_tensor is False because encoder_layer.self_attn.batch_first was not True(use batch_first for better inference performance)\n",
      "  warnings.warn(\n",
      "GPU available: True (cuda), used: True\n",
      "TPU available: False, using: 0 TPU cores\n"
     ]
    },
    {
     "name": "stdout",
     "output_type": "stream",
     "text": [
      "Starting time series verification for consistency...\n",
      "\n",
      "Performance metrics:\n",
      "                                     MSE        RMSE         MAE           R2  \\\n",
      "Temperature                    10.367523    3.219864    2.540050     0.660382   \n",
      "Precipitation_accumulated    4022.580014   63.423813   52.025723 -1181.973212   \n",
      "Humidity                       92.523126    9.618894    7.703312     0.369414   \n",
      "Wind_Speed_kmh                  1.408832    1.186942    0.978050    -0.045723   \n",
      "Soil_Moisture              153071.781335  391.243890  305.956763    -1.743421   \n",
      "Soil_Temperature                8.366730    2.892530    2.335114     0.480687   \n",
      "Wind_Dir_Sin                    0.614944    0.784183    0.673399    -0.116777   \n",
      "Wind_Dir_Cos                    0.413309    0.642891    0.528558    -0.126914   \n",
      "\n",
      "                                SMAPE  \n",
      "Temperature                 39.073088  \n",
      "Precipitation_accumulated   12.190686  \n",
      "Humidity                     9.102333  \n",
      "Wind_Speed_kmh              76.124311  \n",
      "Soil_Moisture                3.652629  \n",
      "Soil_Temperature            47.003040  \n",
      "Wind_Dir_Sin               130.917459  \n",
      "Wind_Dir_Cos               115.117024  \n",
      "The MAE for this fold was 0.13945409201458558\n",
      "Results of trial 44 saved in optuna_iteration_metrics/trial_44.json\n",
      "Current value: 0.13945409201458558, Current params: {'input_chunk_length': 25, 'output_chunk_length': 11, 'dropout': 0.2976462345464759, 'batch_size': 190, 'lr': 0.00010483973155279354, 'weight_decay': 0.0035473723935461107, 'd_model': 256, 'nhead': 4, 'num_encoder_layers': 2, 'num_decoder_layers': 1, 'activation': 'GELU', 'loss_fn': 'smoothl1', 'optimizer': 'AdamW'}\n",
      "Best value: 0.13945409201458558, Best params: {'input_chunk_length': 25, 'output_chunk_length': 11, 'dropout': 0.2976462345464759, 'batch_size': 190, 'lr': 0.00010483973155279354, 'weight_decay': 0.0035473723935461107, 'd_model': 256, 'nhead': 4, 'num_encoder_layers': 2, 'num_decoder_layers': 1, 'activation': 'GELU', 'loss_fn': 'smoothl1', 'optimizer': 'AdamW'}\n",
      "\n",
      "Starting Trial 45\n",
      "Hyperparameters: {'input_chunk_length': 32, 'output_chunk_length': 16, 'dropout': 0.32993747852239136, 'batch_size': 144, 'lr': 0.00010387640571812412, 'weight_decay': 0.0011323570285674965, 'd_model': 256, 'nhead': 4, 'num_encoder_layers': 2, 'num_decoder_layers': 1, 'activation': 'SwiGLU', 'loss_fn': 'mse', 'optimizer': 'AdamW'}\n",
      "\n",
      "Training the model...\n",
      "Train set: 6647 samples\n",
      "Validation set: 1662 samples\n"
     ]
    },
    {
     "name": "stderr",
     "output_type": "stream",
     "text": [
      "HPU available: False, using: 0 HPUs\n",
      "LOCAL_RANK: 0 - CUDA_VISIBLE_DEVICES: [0]\n",
      "[I 2025-05-26 11:57:15,695] Trial 45 pruned. Trial was pruned at epoch 0.\n",
      "Specified future encoders in `add_encoders` at model creation but model does not accept future covariates. future encoders will be ignored.\n",
      "/home/eduardo/Documentos/Water-Cycle-Neural-Network/venv/lib/python3.12/site-packages/torch/nn/modules/transformer.py:382: UserWarning: enable_nested_tensor is True, but self.use_nested_tensor is False because encoder_layer.self_attn.batch_first was not True(use batch_first for better inference performance)\n",
      "  warnings.warn(\n",
      "GPU available: True (cuda), used: True\n",
      "TPU available: False, using: 0 TPU cores\n",
      "HPU available: False, using: 0 HPUs\n",
      "LOCAL_RANK: 0 - CUDA_VISIBLE_DEVICES: [0]\n"
     ]
    },
    {
     "name": "stdout",
     "output_type": "stream",
     "text": [
      "Current value: 0.09433848437665436, Current params: {'input_chunk_length': 32, 'output_chunk_length': 16, 'dropout': 0.32993747852239136, 'batch_size': 144, 'lr': 0.00010387640571812412, 'weight_decay': 0.0011323570285674965, 'd_model': 256, 'nhead': 4, 'num_encoder_layers': 2, 'num_decoder_layers': 1, 'activation': 'SwiGLU', 'loss_fn': 'mse', 'optimizer': 'AdamW'}\n",
      "Best value: 0.13945409201458558, Best params: {'input_chunk_length': 25, 'output_chunk_length': 11, 'dropout': 0.2976462345464759, 'batch_size': 190, 'lr': 0.00010483973155279354, 'weight_decay': 0.0035473723935461107, 'd_model': 256, 'nhead': 4, 'num_encoder_layers': 2, 'num_decoder_layers': 1, 'activation': 'GELU', 'loss_fn': 'smoothl1', 'optimizer': 'AdamW'}\n",
      "\n",
      "Starting Trial 46\n",
      "Hyperparameters: {'input_chunk_length': 25, 'output_chunk_length': 11, 'dropout': 0.30030444838313197, 'batch_size': 182, 'lr': 3.9172978920411e-05, 'weight_decay': 0.006390064751957157, 'd_model': 256, 'nhead': 4, 'num_encoder_layers': 2, 'num_decoder_layers': 2, 'activation': 'GELU', 'loss_fn': 'mae', 'optimizer': 'RMSprop'}\n",
      "\n",
      "Training the model...\n",
      "Train set: 6647 samples\n",
      "Validation set: 1662 samples\n"
     ]
    },
    {
     "name": "stderr",
     "output_type": "stream",
     "text": [
      "[I 2025-05-26 11:57:21,710] Trial 46 pruned. Trial was pruned at epoch 0.\n",
      "Specified future encoders in `add_encoders` at model creation but model does not accept future covariates. future encoders will be ignored.\n",
      "/home/eduardo/Documentos/Water-Cycle-Neural-Network/venv/lib/python3.12/site-packages/torch/nn/modules/transformer.py:382: UserWarning: enable_nested_tensor is True, but self.use_nested_tensor is False because encoder_layer.self_attn.batch_first was not True(use batch_first for better inference performance)\n",
      "  warnings.warn(\n",
      "GPU available: True (cuda), used: True\n",
      "TPU available: False, using: 0 TPU cores\n",
      "HPU available: False, using: 0 HPUs\n",
      "LOCAL_RANK: 0 - CUDA_VISIBLE_DEVICES: [0]\n"
     ]
    },
    {
     "name": "stdout",
     "output_type": "stream",
     "text": [
      "Current value: 0.23189581515544203, Current params: {'input_chunk_length': 25, 'output_chunk_length': 11, 'dropout': 0.30030444838313197, 'batch_size': 182, 'lr': 3.9172978920411e-05, 'weight_decay': 0.006390064751957157, 'd_model': 256, 'nhead': 4, 'num_encoder_layers': 2, 'num_decoder_layers': 2, 'activation': 'GELU', 'loss_fn': 'mae', 'optimizer': 'RMSprop'}\n",
      "Best value: 0.13945409201458558, Best params: {'input_chunk_length': 25, 'output_chunk_length': 11, 'dropout': 0.2976462345464759, 'batch_size': 190, 'lr': 0.00010483973155279354, 'weight_decay': 0.0035473723935461107, 'd_model': 256, 'nhead': 4, 'num_encoder_layers': 2, 'num_decoder_layers': 1, 'activation': 'GELU', 'loss_fn': 'smoothl1', 'optimizer': 'AdamW'}\n",
      "\n",
      "Starting Trial 47\n",
      "Hyperparameters: {'input_chunk_length': 29, 'output_chunk_length': 13, 'dropout': 0.35781467249478094, 'batch_size': 170, 'lr': 0.0016989295634502757, 'weight_decay': 3.554659006907257e-06, 'd_model': 256, 'nhead': 4, 'num_encoder_layers': 2, 'num_decoder_layers': 1, 'activation': 'ReLU', 'loss_fn': 'smoothl1', 'optimizer': 'Adam'}\n",
      "\n",
      "Training the model...\n",
      "Train set: 6647 samples\n",
      "Validation set: 1662 samples\n"
     ]
    },
    {
     "name": "stderr",
     "output_type": "stream",
     "text": [
      "[I 2025-05-26 11:57:28,254] Trial 47 pruned. Trial was pruned at epoch 0.\n",
      "Specified future encoders in `add_encoders` at model creation but model does not accept future covariates. future encoders will be ignored.\n",
      "/home/eduardo/Documentos/Water-Cycle-Neural-Network/venv/lib/python3.12/site-packages/torch/nn/modules/transformer.py:382: UserWarning: enable_nested_tensor is True, but self.use_nested_tensor is False because encoder_layer.self_attn.batch_first was not True(use batch_first for better inference performance)\n",
      "  warnings.warn(\n",
      "GPU available: True (cuda), used: True\n",
      "TPU available: False, using: 0 TPU cores\n",
      "HPU available: False, using: 0 HPUs\n",
      "LOCAL_RANK: 0 - CUDA_VISIBLE_DEVICES: [0]\n"
     ]
    },
    {
     "name": "stdout",
     "output_type": "stream",
     "text": [
      "Current value: 0.05167351211205844, Current params: {'input_chunk_length': 29, 'output_chunk_length': 13, 'dropout': 0.35781467249478094, 'batch_size': 170, 'lr': 0.0016989295634502757, 'weight_decay': 3.554659006907257e-06, 'd_model': 256, 'nhead': 4, 'num_encoder_layers': 2, 'num_decoder_layers': 1, 'activation': 'ReLU', 'loss_fn': 'smoothl1', 'optimizer': 'Adam'}\n",
      "Best value: 0.13945409201458558, Best params: {'input_chunk_length': 25, 'output_chunk_length': 11, 'dropout': 0.2976462345464759, 'batch_size': 190, 'lr': 0.00010483973155279354, 'weight_decay': 0.0035473723935461107, 'd_model': 256, 'nhead': 4, 'num_encoder_layers': 2, 'num_decoder_layers': 1, 'activation': 'GELU', 'loss_fn': 'smoothl1', 'optimizer': 'AdamW'}\n",
      "\n",
      "Starting Trial 48\n",
      "Hyperparameters: {'input_chunk_length': 34, 'output_chunk_length': 8, 'dropout': 0.39465076814837574, 'batch_size': 194, 'lr': 0.0007723681207934806, 'weight_decay': 0.0006540707636209185, 'd_model': 256, 'nhead': 2, 'num_encoder_layers': 1, 'num_decoder_layers': 2, 'activation': 'ReGLU', 'loss_fn': 'smoothl1', 'optimizer': 'AdamW'}\n",
      "\n",
      "Training the model...\n",
      "Train set: 6647 samples\n",
      "Validation set: 1662 samples\n"
     ]
    },
    {
     "name": "stderr",
     "output_type": "stream",
     "text": [
      "Metric val_loss improved. New best score: 0.033\n",
      "Metric val_loss improved by 0.003 >= min_delta = 0.0005. New best score: 0.031\n",
      "Metric val_loss improved by 0.004 >= min_delta = 0.0005. New best score: 0.027\n",
      "[I 2025-05-26 11:58:11,086] Trial 48 pruned. Trial was pruned at epoch 8.\n",
      "Specified future encoders in `add_encoders` at model creation but model does not accept future covariates. future encoders will be ignored.\n",
      "/home/eduardo/Documentos/Water-Cycle-Neural-Network/venv/lib/python3.12/site-packages/torch/nn/modules/transformer.py:382: UserWarning: enable_nested_tensor is True, but self.use_nested_tensor is False because encoder_layer.self_attn.batch_first was not True(use batch_first for better inference performance)\n",
      "  warnings.warn(\n",
      "GPU available: True (cuda), used: True\n",
      "TPU available: False, using: 0 TPU cores\n",
      "HPU available: False, using: 0 HPUs\n",
      "LOCAL_RANK: 0 - CUDA_VISIBLE_DEVICES: [0]\n"
     ]
    },
    {
     "name": "stdout",
     "output_type": "stream",
     "text": [
      "Current value: 0.03406803253376129, Current params: {'input_chunk_length': 34, 'output_chunk_length': 8, 'dropout': 0.39465076814837574, 'batch_size': 194, 'lr': 0.0007723681207934806, 'weight_decay': 0.0006540707636209185, 'd_model': 256, 'nhead': 2, 'num_encoder_layers': 1, 'num_decoder_layers': 2, 'activation': 'ReGLU', 'loss_fn': 'smoothl1', 'optimizer': 'AdamW'}\n",
      "Best value: 0.13945409201458558, Best params: {'input_chunk_length': 25, 'output_chunk_length': 11, 'dropout': 0.2976462345464759, 'batch_size': 190, 'lr': 0.00010483973155279354, 'weight_decay': 0.0035473723935461107, 'd_model': 256, 'nhead': 4, 'num_encoder_layers': 2, 'num_decoder_layers': 1, 'activation': 'GELU', 'loss_fn': 'smoothl1', 'optimizer': 'AdamW'}\n",
      "\n",
      "Starting Trial 49\n",
      "Hyperparameters: {'input_chunk_length': 37, 'output_chunk_length': 15, 'dropout': 0.12739975449707697, 'batch_size': 250, 'lr': 0.002975901004905392, 'weight_decay': 0.002387185038141247, 'd_model': 256, 'nhead': 4, 'num_encoder_layers': 2, 'num_decoder_layers': 1, 'activation': 'GELU', 'loss_fn': 'smoothl1', 'optimizer': 'AdamW'}\n",
      "\n",
      "Training the model...\n",
      "Train set: 6647 samples\n",
      "Validation set: 1662 samples\n"
     ]
    },
    {
     "name": "stderr",
     "output_type": "stream",
     "text": [
      "[I 2025-05-26 11:58:19,095] Trial 49 pruned. Trial was pruned at epoch 0.\n",
      "Specified future encoders in `add_encoders` at model creation but model does not accept future covariates. future encoders will be ignored.\n",
      "/home/eduardo/Documentos/Water-Cycle-Neural-Network/venv/lib/python3.12/site-packages/torch/nn/modules/transformer.py:382: UserWarning: enable_nested_tensor is True, but self.use_nested_tensor is False because encoder_layer.self_attn.batch_first was not True(use batch_first for better inference performance)\n",
      "  warnings.warn(\n",
      "GPU available: True (cuda), used: True\n",
      "TPU available: False, using: 0 TPU cores\n",
      "HPU available: False, using: 0 HPUs\n",
      "LOCAL_RANK: 0 - CUDA_VISIBLE_DEVICES: [0]\n"
     ]
    },
    {
     "name": "stdout",
     "output_type": "stream",
     "text": [
      "Current value: 0.06341617447882733, Current params: {'input_chunk_length': 37, 'output_chunk_length': 15, 'dropout': 0.12739975449707697, 'batch_size': 250, 'lr': 0.002975901004905392, 'weight_decay': 0.002387185038141247, 'd_model': 256, 'nhead': 4, 'num_encoder_layers': 2, 'num_decoder_layers': 1, 'activation': 'GELU', 'loss_fn': 'smoothl1', 'optimizer': 'AdamW'}\n",
      "Best value: 0.13945409201458558, Best params: {'input_chunk_length': 25, 'output_chunk_length': 11, 'dropout': 0.2976462345464759, 'batch_size': 190, 'lr': 0.00010483973155279354, 'weight_decay': 0.0035473723935461107, 'd_model': 256, 'nhead': 4, 'num_encoder_layers': 2, 'num_decoder_layers': 1, 'activation': 'GELU', 'loss_fn': 'smoothl1', 'optimizer': 'AdamW'}\n",
      "\n",
      "Starting Trial 50\n",
      "Hyperparameters: {'input_chunk_length': 60, 'output_chunk_length': 17, 'dropout': 0.14761089116029733, 'batch_size': 217, 'lr': 1.2273200453305819e-05, 'weight_decay': 7.54037281574849e-05, 'd_model': 64, 'nhead': 4, 'num_encoder_layers': 1, 'num_decoder_layers': 2, 'activation': 'GEGLU', 'loss_fn': 'mae', 'optimizer': 'AdamW'}\n",
      "\n",
      "Training the model...\n",
      "Train set: 6647 samples\n",
      "Validation set: 1662 samples\n"
     ]
    },
    {
     "name": "stderr",
     "output_type": "stream",
     "text": [
      "[I 2025-05-26 11:58:24,160] Trial 50 pruned. Trial was pruned at epoch 0.\n",
      "Specified future encoders in `add_encoders` at model creation but model does not accept future covariates. future encoders will be ignored.\n",
      "/home/eduardo/Documentos/Water-Cycle-Neural-Network/venv/lib/python3.12/site-packages/torch/nn/modules/transformer.py:382: UserWarning: enable_nested_tensor is True, but self.use_nested_tensor is False because encoder_layer.self_attn.batch_first was not True(use batch_first for better inference performance)\n",
      "  warnings.warn(\n",
      "GPU available: True (cuda), used: True\n",
      "TPU available: False, using: 0 TPU cores\n",
      "HPU available: False, using: 0 HPUs\n",
      "LOCAL_RANK: 0 - CUDA_VISIBLE_DEVICES: [0]\n"
     ]
    },
    {
     "name": "stdout",
     "output_type": "stream",
     "text": [
      "Current value: 0.6564334703024557, Current params: {'input_chunk_length': 60, 'output_chunk_length': 17, 'dropout': 0.14761089116029733, 'batch_size': 217, 'lr': 1.2273200453305819e-05, 'weight_decay': 7.54037281574849e-05, 'd_model': 64, 'nhead': 4, 'num_encoder_layers': 1, 'num_decoder_layers': 2, 'activation': 'GEGLU', 'loss_fn': 'mae', 'optimizer': 'AdamW'}\n",
      "Best value: 0.13945409201458558, Best params: {'input_chunk_length': 25, 'output_chunk_length': 11, 'dropout': 0.2976462345464759, 'batch_size': 190, 'lr': 0.00010483973155279354, 'weight_decay': 0.0035473723935461107, 'd_model': 256, 'nhead': 4, 'num_encoder_layers': 2, 'num_decoder_layers': 1, 'activation': 'GELU', 'loss_fn': 'smoothl1', 'optimizer': 'AdamW'}\n",
      "\n",
      "Starting Trial 51\n",
      "Hyperparameters: {'input_chunk_length': 26, 'output_chunk_length': 10, 'dropout': 0.19504177067025, 'batch_size': 234, 'lr': 7.052679270330874e-05, 'weight_decay': 0.004053389802890318, 'd_model': 128, 'nhead': 4, 'num_encoder_layers': 3, 'num_decoder_layers': 1, 'activation': 'GELU', 'loss_fn': 'smoothl1', 'optimizer': 'AdamW'}\n",
      "\n",
      "Training the model...\n",
      "Train set: 6647 samples\n",
      "Validation set: 1662 samples\n"
     ]
    },
    {
     "name": "stderr",
     "output_type": "stream",
     "text": [
      "[I 2025-05-26 11:58:30,254] Trial 51 pruned. Trial was pruned at epoch 0.\n",
      "Specified future encoders in `add_encoders` at model creation but model does not accept future covariates. future encoders will be ignored.\n",
      "/home/eduardo/Documentos/Water-Cycle-Neural-Network/venv/lib/python3.12/site-packages/torch/nn/modules/transformer.py:382: UserWarning: enable_nested_tensor is True, but self.use_nested_tensor is False because encoder_layer.self_attn.batch_first was not True(use batch_first for better inference performance)\n",
      "  warnings.warn(\n",
      "GPU available: True (cuda), used: True\n",
      "TPU available: False, using: 0 TPU cores\n",
      "HPU available: False, using: 0 HPUs\n",
      "LOCAL_RANK: 0 - CUDA_VISIBLE_DEVICES: [0]\n"
     ]
    },
    {
     "name": "stdout",
     "output_type": "stream",
     "text": [
      "Current value: 0.0903462515525056, Current params: {'input_chunk_length': 26, 'output_chunk_length': 10, 'dropout': 0.19504177067025, 'batch_size': 234, 'lr': 7.052679270330874e-05, 'weight_decay': 0.004053389802890318, 'd_model': 128, 'nhead': 4, 'num_encoder_layers': 3, 'num_decoder_layers': 1, 'activation': 'GELU', 'loss_fn': 'smoothl1', 'optimizer': 'AdamW'}\n",
      "Best value: 0.13945409201458558, Best params: {'input_chunk_length': 25, 'output_chunk_length': 11, 'dropout': 0.2976462345464759, 'batch_size': 190, 'lr': 0.00010483973155279354, 'weight_decay': 0.0035473723935461107, 'd_model': 256, 'nhead': 4, 'num_encoder_layers': 2, 'num_decoder_layers': 1, 'activation': 'GELU', 'loss_fn': 'smoothl1', 'optimizer': 'AdamW'}\n",
      "\n",
      "Starting Trial 52\n",
      "Hyperparameters: {'input_chunk_length': 28, 'output_chunk_length': 12, 'dropout': 0.23962685517155238, 'batch_size': 199, 'lr': 0.00021397965064806493, 'weight_decay': 0.006336462434810844, 'd_model': 128, 'nhead': 4, 'num_encoder_layers': 4, 'num_decoder_layers': 1, 'activation': 'GELU', 'loss_fn': 'smoothl1', 'optimizer': 'AdamW'}\n",
      "\n",
      "Training the model...\n",
      "Train set: 6647 samples\n",
      "Validation set: 1662 samples\n"
     ]
    },
    {
     "name": "stderr",
     "output_type": "stream",
     "text": [
      "[I 2025-05-26 11:58:36,149] Trial 52 pruned. Trial was pruned at epoch 0.\n",
      "Specified future encoders in `add_encoders` at model creation but model does not accept future covariates. future encoders will be ignored.\n"
     ]
    },
    {
     "name": "stdout",
     "output_type": "stream",
     "text": [
      "Current value: 0.04864749963184569, Current params: {'input_chunk_length': 28, 'output_chunk_length': 12, 'dropout': 0.23962685517155238, 'batch_size': 199, 'lr': 0.00021397965064806493, 'weight_decay': 0.006336462434810844, 'd_model': 128, 'nhead': 4, 'num_encoder_layers': 4, 'num_decoder_layers': 1, 'activation': 'GELU', 'loss_fn': 'smoothl1', 'optimizer': 'AdamW'}\n",
      "Best value: 0.13945409201458558, Best params: {'input_chunk_length': 25, 'output_chunk_length': 11, 'dropout': 0.2976462345464759, 'batch_size': 190, 'lr': 0.00010483973155279354, 'weight_decay': 0.0035473723935461107, 'd_model': 256, 'nhead': 4, 'num_encoder_layers': 2, 'num_decoder_layers': 1, 'activation': 'GELU', 'loss_fn': 'smoothl1', 'optimizer': 'AdamW'}\n",
      "\n",
      "Starting Trial 53\n",
      "Hyperparameters: {'input_chunk_length': 24, 'output_chunk_length': 6, 'dropout': 0.2260474481323035, 'batch_size': 218, 'lr': 0.00036171141303555527, 'weight_decay': 0.0031948240556010374, 'd_model': 128, 'nhead': 4, 'num_encoder_layers': 2, 'num_decoder_layers': 1, 'activation': 'GELU', 'loss_fn': 'smoothl1', 'optimizer': 'AdamW'}\n",
      "\n",
      "Training the model...\n",
      "Train set: 6647 samples\n",
      "Validation set: 1662 samples\n"
     ]
    },
    {
     "name": "stderr",
     "output_type": "stream",
     "text": [
      "/home/eduardo/Documentos/Water-Cycle-Neural-Network/venv/lib/python3.12/site-packages/torch/nn/modules/transformer.py:382: UserWarning: enable_nested_tensor is True, but self.use_nested_tensor is False because encoder_layer.self_attn.batch_first was not True(use batch_first for better inference performance)\n",
      "  warnings.warn(\n",
      "GPU available: True (cuda), used: True\n",
      "TPU available: False, using: 0 TPU cores\n",
      "HPU available: False, using: 0 HPUs\n",
      "LOCAL_RANK: 0 - CUDA_VISIBLE_DEVICES: [0]\n",
      "Metric val_loss improved. New best score: 0.041\n",
      "Metric val_loss improved by 0.005 >= min_delta = 0.0005. New best score: 0.036\n",
      "Metric val_loss improved by 0.003 >= min_delta = 0.0005. New best score: 0.033\n",
      "Metric val_loss improved by 0.001 >= min_delta = 0.0005. New best score: 0.032\n",
      "Metric val_loss improved by 0.004 >= min_delta = 0.0005. New best score: 0.028\n",
      "Metric val_loss improved by 0.002 >= min_delta = 0.0005. New best score: 0.027\n",
      "Metric val_loss improved by 0.001 >= min_delta = 0.0005. New best score: 0.026\n",
      "Metric val_loss improved by 0.001 >= min_delta = 0.0005. New best score: 0.025\n",
      "Metric val_loss improved by 0.002 >= min_delta = 0.0005. New best score: 0.023\n",
      "Metric val_loss improved by 0.001 >= min_delta = 0.0005. New best score: 0.022\n",
      "`Trainer.fit` stopped: `max_epochs=30` reached.\n",
      "/home/eduardo/Documentos/Water-Cycle-Neural-Network/venv/lib/python3.12/site-packages/torch/nn/modules/transformer.py:382: UserWarning: enable_nested_tensor is True, but self.use_nested_tensor is False because encoder_layer.self_attn.batch_first was not True(use batch_first for better inference performance)\n",
      "  warnings.warn(\n",
      "GPU available: True (cuda), used: True\n",
      "TPU available: False, using: 0 TPU cores\n",
      "HPU available: False, using: 0 HPUs\n",
      "LOCAL_RANK: 0 - CUDA_VISIBLE_DEVICES: [0]\n",
      "/home/eduardo/Documentos/Water-Cycle-Neural-Network/venv/lib/python3.12/site-packages/pytorch_lightning/trainer/connectors/data_connector.py:425: The 'predict_dataloader' does not have many workers which may be a bottleneck. Consider increasing the value of the `num_workers` argument` to `num_workers=11` in the `DataLoader` to improve performance.\n"
     ]
    },
    {
     "name": "stdout",
     "output_type": "stream",
     "text": [
      "Model loaded from checkpoint for trial 53\n"
     ]
    },
    {
     "name": "stderr",
     "output_type": "stream",
     "text": [
      "[I 2025-05-26 12:13:54,826] Trial 53 finished with value: 0.15567356649684283 and parameters: {'input_chunk_length': 24, 'output_chunk_length': 6, 'dropout': 0.2260474481323035, 'batch_size': 218, 'lr': 0.00036171141303555527, 'weight_decay': 0.0031948240556010374, 'd_model': 128, 'nhead': 4, 'num_encoder_layers': 2, 'num_decoder_layers': 1, 'activation': 'GELU', 'loss_fn': 'smoothl1', 'optimizer': 'AdamW'}. Best is trial 44 with value: 0.13945409201458558.\n",
      "Specified future encoders in `add_encoders` at model creation but model does not accept future covariates. future encoders will be ignored.\n"
     ]
    },
    {
     "name": "stdout",
     "output_type": "stream",
     "text": [
      "Starting time series verification for consistency...\n",
      "\n",
      "Performance metrics:\n",
      "                                     MSE        RMSE         MAE           R2  \\\n",
      "Temperature                     8.994861    2.999143    2.384848     0.704574   \n",
      "Precipitation_accumulated   12238.251029  110.626629   98.549234 -3564.875331   \n",
      "Humidity                       93.803333    9.685212    7.618139     0.359845   \n",
      "Wind_Speed_kmh                  1.722091    1.312285    1.100088    -0.275928   \n",
      "Soil_Moisture              132229.616071  363.633904  294.627755    -1.311086   \n",
      "Soil_Temperature                9.329534    3.054429    2.480840     0.421223   \n",
      "Wind_Dir_Sin                    0.620003    0.787402    0.696725    -0.126229   \n",
      "Wind_Dir_Cos                    0.425111    0.652005    0.539907    -0.159375   \n",
      "\n",
      "                                SMAPE  \n",
      "Temperature                 39.571336  \n",
      "Precipitation_accumulated   24.503190  \n",
      "Humidity                     9.153273  \n",
      "Wind_Speed_kmh              78.042501  \n",
      "Soil_Moisture                3.466946  \n",
      "Soil_Temperature            55.448615  \n",
      "Wind_Dir_Sin               149.215172  \n",
      "Wind_Dir_Cos               120.194006  \n",
      "The MAE for this fold was 0.15567356649684283\n",
      "Results of trial 53 saved in optuna_iteration_metrics/trial_53.json\n",
      "Current value: 0.15567356649684283, Current params: {'input_chunk_length': 24, 'output_chunk_length': 6, 'dropout': 0.2260474481323035, 'batch_size': 218, 'lr': 0.00036171141303555527, 'weight_decay': 0.0031948240556010374, 'd_model': 128, 'nhead': 4, 'num_encoder_layers': 2, 'num_decoder_layers': 1, 'activation': 'GELU', 'loss_fn': 'smoothl1', 'optimizer': 'AdamW'}\n",
      "Best value: 0.13945409201458558, Best params: {'input_chunk_length': 25, 'output_chunk_length': 11, 'dropout': 0.2976462345464759, 'batch_size': 190, 'lr': 0.00010483973155279354, 'weight_decay': 0.0035473723935461107, 'd_model': 256, 'nhead': 4, 'num_encoder_layers': 2, 'num_decoder_layers': 1, 'activation': 'GELU', 'loss_fn': 'smoothl1', 'optimizer': 'AdamW'}\n",
      "\n",
      "Starting Trial 54\n",
      "Hyperparameters: {'input_chunk_length': 31, 'output_chunk_length': 9, 'dropout': 0.17231024896650746, 'batch_size': 205, 'lr': 0.0001359807675955239, 'weight_decay': 0.0017851861977224214, 'd_model': 256, 'nhead': 8, 'num_encoder_layers': 3, 'num_decoder_layers': 1, 'activation': 'GELU', 'loss_fn': 'smoothl1', 'optimizer': 'AdamW'}\n",
      "\n",
      "Training the model...\n",
      "Train set: 6647 samples\n",
      "Validation set: 1662 samples\n"
     ]
    },
    {
     "name": "stderr",
     "output_type": "stream",
     "text": [
      "/home/eduardo/Documentos/Water-Cycle-Neural-Network/venv/lib/python3.12/site-packages/torch/nn/modules/transformer.py:382: UserWarning: enable_nested_tensor is True, but self.use_nested_tensor is False because encoder_layer.self_attn.batch_first was not True(use batch_first for better inference performance)\n",
      "  warnings.warn(\n",
      "GPU available: True (cuda), used: True\n",
      "TPU available: False, using: 0 TPU cores\n",
      "HPU available: False, using: 0 HPUs\n",
      "LOCAL_RANK: 0 - CUDA_VISIBLE_DEVICES: [0]\n",
      "Metric val_loss improved. New best score: 0.037\n",
      "Metric val_loss improved by 0.006 >= min_delta = 0.0005. New best score: 0.032\n",
      "Metric val_loss improved by 0.003 >= min_delta = 0.0005. New best score: 0.028\n",
      "Metric val_loss improved by 0.002 >= min_delta = 0.0005. New best score: 0.026\n",
      "Metric val_loss improved by 0.002 >= min_delta = 0.0005. New best score: 0.024\n",
      "Metric val_loss improved by 0.001 >= min_delta = 0.0005. New best score: 0.024\n",
      "Metric val_loss improved by 0.001 >= min_delta = 0.0005. New best score: 0.023\n",
      "Metric val_loss improved by 0.001 >= min_delta = 0.0005. New best score: 0.022\n",
      "Metric val_loss improved by 0.001 >= min_delta = 0.0005. New best score: 0.021\n",
      "Metric val_loss improved by 0.001 >= min_delta = 0.0005. New best score: 0.020\n",
      "Monitored metric val_loss did not improve in the last 15 records. Best score: 0.020. Signaling Trainer to stop.\n",
      "`Trainer.fit` stopped: `max_epochs=30` reached.\n",
      "/home/eduardo/Documentos/Water-Cycle-Neural-Network/venv/lib/python3.12/site-packages/torch/nn/modules/transformer.py:382: UserWarning: enable_nested_tensor is True, but self.use_nested_tensor is False because encoder_layer.self_attn.batch_first was not True(use batch_first for better inference performance)\n",
      "  warnings.warn(\n",
      "GPU available: True (cuda), used: True\n",
      "TPU available: False, using: 0 TPU cores\n",
      "HPU available: False, using: 0 HPUs\n",
      "LOCAL_RANK: 0 - CUDA_VISIBLE_DEVICES: [0]\n",
      "/home/eduardo/Documentos/Water-Cycle-Neural-Network/venv/lib/python3.12/site-packages/pytorch_lightning/trainer/connectors/data_connector.py:425: The 'predict_dataloader' does not have many workers which may be a bottleneck. Consider increasing the value of the `num_workers` argument` to `num_workers=11` in the `DataLoader` to improve performance.\n"
     ]
    },
    {
     "name": "stdout",
     "output_type": "stream",
     "text": [
      "Model loaded from checkpoint for trial 54\n"
     ]
    },
    {
     "name": "stderr",
     "output_type": "stream",
     "text": [
      "[I 2025-05-26 12:17:01,198] Trial 54 finished with value: 0.13958659054487926 and parameters: {'input_chunk_length': 31, 'output_chunk_length': 9, 'dropout': 0.17231024896650746, 'batch_size': 205, 'lr': 0.0001359807675955239, 'weight_decay': 0.0017851861977224214, 'd_model': 256, 'nhead': 8, 'num_encoder_layers': 3, 'num_decoder_layers': 1, 'activation': 'GELU', 'loss_fn': 'smoothl1', 'optimizer': 'AdamW'}. Best is trial 44 with value: 0.13945409201458558.\n",
      "Specified future encoders in `add_encoders` at model creation but model does not accept future covariates. future encoders will be ignored.\n"
     ]
    },
    {
     "name": "stdout",
     "output_type": "stream",
     "text": [
      "Starting time series verification for consistency...\n",
      "\n",
      "Performance metrics:\n",
      "                                     MSE        RMSE         MAE           R2  \\\n",
      "Temperature                     9.831074    3.135454    2.473378     0.678368   \n",
      "Precipitation_accumulated    4385.580391   66.223715   56.995899 -1296.821353   \n",
      "Humidity                       75.682715    8.699581    6.997808     0.484250   \n",
      "Wind_Speed_kmh                  1.391838    1.179762    0.949429    -0.032054   \n",
      "Soil_Moisture              122541.515958  350.059303  281.868240    -1.236372   \n",
      "Soil_Temperature                9.653014    3.106930    2.527099     0.401593   \n",
      "Wind_Dir_Sin                    0.610579    0.781395    0.687432    -0.107330   \n",
      "Wind_Dir_Cos                    0.396679    0.629825    0.525786    -0.082517   \n",
      "\n",
      "                                SMAPE  \n",
      "Temperature                 39.174533  \n",
      "Precipitation_accumulated   13.364473  \n",
      "Humidity                     8.283391  \n",
      "Wind_Speed_kmh              76.688051  \n",
      "Soil_Moisture                3.324230  \n",
      "Soil_Temperature            60.713087  \n",
      "Wind_Dir_Sin               144.325388  \n",
      "Wind_Dir_Cos               121.267415  \n",
      "The MAE for this fold was 0.13958659054487926\n",
      "Results of trial 54 saved in optuna_iteration_metrics/trial_54.json\n",
      "Current value: 0.13958659054487926, Current params: {'input_chunk_length': 31, 'output_chunk_length': 9, 'dropout': 0.17231024896650746, 'batch_size': 205, 'lr': 0.0001359807675955239, 'weight_decay': 0.0017851861977224214, 'd_model': 256, 'nhead': 8, 'num_encoder_layers': 3, 'num_decoder_layers': 1, 'activation': 'GELU', 'loss_fn': 'smoothl1', 'optimizer': 'AdamW'}\n",
      "Best value: 0.13945409201458558, Best params: {'input_chunk_length': 25, 'output_chunk_length': 11, 'dropout': 0.2976462345464759, 'batch_size': 190, 'lr': 0.00010483973155279354, 'weight_decay': 0.0035473723935461107, 'd_model': 256, 'nhead': 4, 'num_encoder_layers': 2, 'num_decoder_layers': 1, 'activation': 'GELU', 'loss_fn': 'smoothl1', 'optimizer': 'AdamW'}\n",
      "\n",
      "Starting Trial 55\n",
      "Hyperparameters: {'input_chunk_length': 31, 'output_chunk_length': 8, 'dropout': 0.11020662319634786, 'batch_size': 122, 'lr': 0.000129414608175767, 'weight_decay': 0.0018656192607800638, 'd_model': 256, 'nhead': 8, 'num_encoder_layers': 2, 'num_decoder_layers': 1, 'activation': 'Bilinear', 'loss_fn': 'mse', 'optimizer': 'Adam'}\n",
      "\n",
      "Training the model...\n",
      "Train set: 6647 samples\n",
      "Validation set: 1662 samples\n"
     ]
    },
    {
     "name": "stderr",
     "output_type": "stream",
     "text": [
      "/home/eduardo/Documentos/Water-Cycle-Neural-Network/venv/lib/python3.12/site-packages/torch/nn/modules/transformer.py:382: UserWarning: enable_nested_tensor is True, but self.use_nested_tensor is False because encoder_layer.self_attn.batch_first was not True(use batch_first for better inference performance)\n",
      "  warnings.warn(\n",
      "GPU available: True (cuda), used: True\n",
      "TPU available: False, using: 0 TPU cores\n",
      "HPU available: False, using: 0 HPUs\n",
      "LOCAL_RANK: 0 - CUDA_VISIBLE_DEVICES: [0]\n",
      "[I 2025-05-26 12:17:08,048] Trial 55 pruned. Trial was pruned at epoch 0.\n",
      "Specified future encoders in `add_encoders` at model creation but model does not accept future covariates. future encoders will be ignored.\n",
      "/home/eduardo/Documentos/Water-Cycle-Neural-Network/venv/lib/python3.12/site-packages/torch/nn/modules/transformer.py:382: UserWarning: enable_nested_tensor is True, but self.use_nested_tensor is False because encoder_layer.self_attn.batch_first was not True(use batch_first for better inference performance)\n",
      "  warnings.warn(\n",
      "GPU available: True (cuda), used: True\n",
      "TPU available: False, using: 0 TPU cores\n",
      "HPU available: False, using: 0 HPUs\n",
      "LOCAL_RANK: 0 - CUDA_VISIBLE_DEVICES: [0]\n"
     ]
    },
    {
     "name": "stdout",
     "output_type": "stream",
     "text": [
      "Current value: 0.07328744874005587, Current params: {'input_chunk_length': 31, 'output_chunk_length': 8, 'dropout': 0.11020662319634786, 'batch_size': 122, 'lr': 0.000129414608175767, 'weight_decay': 0.0018656192607800638, 'd_model': 256, 'nhead': 8, 'num_encoder_layers': 2, 'num_decoder_layers': 1, 'activation': 'Bilinear', 'loss_fn': 'mse', 'optimizer': 'Adam'}\n",
      "Best value: 0.13945409201458558, Best params: {'input_chunk_length': 25, 'output_chunk_length': 11, 'dropout': 0.2976462345464759, 'batch_size': 190, 'lr': 0.00010483973155279354, 'weight_decay': 0.0035473723935461107, 'd_model': 256, 'nhead': 4, 'num_encoder_layers': 2, 'num_decoder_layers': 1, 'activation': 'GELU', 'loss_fn': 'smoothl1', 'optimizer': 'AdamW'}\n",
      "\n",
      "Starting Trial 56\n",
      "Hyperparameters: {'input_chunk_length': 33, 'output_chunk_length': 14, 'dropout': 0.17772418208761886, 'batch_size': 189, 'lr': 7.531909525326578e-05, 'weight_decay': 0.0012538152894438308, 'd_model': 256, 'nhead': 8, 'num_encoder_layers': 3, 'num_decoder_layers': 4, 'activation': 'GELU', 'loss_fn': 'smoothl1', 'optimizer': 'AdamW'}\n",
      "\n",
      "Training the model...\n",
      "Train set: 6647 samples\n",
      "Validation set: 1662 samples\n"
     ]
    },
    {
     "name": "stderr",
     "output_type": "stream",
     "text": [
      "Metric val_loss improved. New best score: 0.043\n",
      "Metric val_loss improved by 0.004 >= min_delta = 0.0005. New best score: 0.038\n",
      "[I 2025-05-26 12:17:34,743] Trial 56 pruned. Trial was pruned at epoch 2.\n",
      "Specified future encoders in `add_encoders` at model creation but model does not accept future covariates. future encoders will be ignored.\n",
      "/home/eduardo/Documentos/Water-Cycle-Neural-Network/venv/lib/python3.12/site-packages/torch/nn/modules/transformer.py:382: UserWarning: enable_nested_tensor is True, but self.use_nested_tensor is False because encoder_layer.self_attn.batch_first was not True(use batch_first for better inference performance)\n",
      "  warnings.warn(\n",
      "GPU available: True (cuda), used: True\n",
      "TPU available: False, using: 0 TPU cores\n",
      "HPU available: False, using: 0 HPUs\n",
      "LOCAL_RANK: 0 - CUDA_VISIBLE_DEVICES: [0]\n"
     ]
    },
    {
     "name": "stdout",
     "output_type": "stream",
     "text": [
      "Current value: 0.03521495727253243, Current params: {'input_chunk_length': 33, 'output_chunk_length': 14, 'dropout': 0.17772418208761886, 'batch_size': 189, 'lr': 7.531909525326578e-05, 'weight_decay': 0.0012538152894438308, 'd_model': 256, 'nhead': 8, 'num_encoder_layers': 3, 'num_decoder_layers': 4, 'activation': 'GELU', 'loss_fn': 'smoothl1', 'optimizer': 'AdamW'}\n",
      "Best value: 0.13945409201458558, Best params: {'input_chunk_length': 25, 'output_chunk_length': 11, 'dropout': 0.2976462345464759, 'batch_size': 190, 'lr': 0.00010483973155279354, 'weight_decay': 0.0035473723935461107, 'd_model': 256, 'nhead': 4, 'num_encoder_layers': 2, 'num_decoder_layers': 1, 'activation': 'GELU', 'loss_fn': 'smoothl1', 'optimizer': 'AdamW'}\n",
      "\n",
      "Starting Trial 57\n",
      "Hyperparameters: {'input_chunk_length': 29, 'output_chunk_length': 11, 'dropout': 0.1560000830783459, 'batch_size': 165, 'lr': 0.00012621620211258653, 'weight_decay': 0.007114476136475727, 'd_model': 256, 'nhead': 8, 'num_encoder_layers': 2, 'num_decoder_layers': 1, 'activation': 'ReLU', 'loss_fn': 'smoothl1', 'optimizer': 'RMSprop'}\n",
      "\n",
      "Training the model...\n",
      "Train set: 6647 samples\n",
      "Validation set: 1662 samples\n"
     ]
    },
    {
     "name": "stderr",
     "output_type": "stream",
     "text": [
      "[I 2025-05-26 12:17:41,406] Trial 57 pruned. Trial was pruned at epoch 0.\n",
      "Specified future encoders in `add_encoders` at model creation but model does not accept future covariates. future encoders will be ignored.\n",
      "/home/eduardo/Documentos/Water-Cycle-Neural-Network/venv/lib/python3.12/site-packages/torch/nn/modules/transformer.py:382: UserWarning: enable_nested_tensor is True, but self.use_nested_tensor is False because encoder_layer.self_attn.batch_first was not True(use batch_first for better inference performance)\n",
      "  warnings.warn(\n",
      "GPU available: True (cuda), used: True\n",
      "TPU available: False, using: 0 TPU cores\n",
      "HPU available: False, using: 0 HPUs\n",
      "LOCAL_RANK: 0 - CUDA_VISIBLE_DEVICES: [0]\n"
     ]
    },
    {
     "name": "stdout",
     "output_type": "stream",
     "text": [
      "Current value: 0.04391710972597816, Current params: {'input_chunk_length': 29, 'output_chunk_length': 11, 'dropout': 0.1560000830783459, 'batch_size': 165, 'lr': 0.00012621620211258653, 'weight_decay': 0.007114476136475727, 'd_model': 256, 'nhead': 8, 'num_encoder_layers': 2, 'num_decoder_layers': 1, 'activation': 'ReLU', 'loss_fn': 'smoothl1', 'optimizer': 'RMSprop'}\n",
      "Best value: 0.13945409201458558, Best params: {'input_chunk_length': 25, 'output_chunk_length': 11, 'dropout': 0.2976462345464759, 'batch_size': 190, 'lr': 0.00010483973155279354, 'weight_decay': 0.0035473723935461107, 'd_model': 256, 'nhead': 4, 'num_encoder_layers': 2, 'num_decoder_layers': 1, 'activation': 'GELU', 'loss_fn': 'smoothl1', 'optimizer': 'AdamW'}\n",
      "\n",
      "Starting Trial 58\n",
      "Hyperparameters: {'input_chunk_length': 72, 'output_chunk_length': 7, 'dropout': 0.1422952504453439, 'batch_size': 227, 'lr': 2.3958561221566378e-05, 'weight_decay': 0.0027052399777524796, 'd_model': 256, 'nhead': 8, 'num_encoder_layers': 3, 'num_decoder_layers': 1, 'activation': 'GELU', 'loss_fn': 'huber', 'optimizer': 'AdamW'}\n",
      "\n",
      "Training the model...\n",
      "Train set: 6647 samples\n",
      "Validation set: 1662 samples\n"
     ]
    },
    {
     "name": "stderr",
     "output_type": "stream",
     "text": [
      "[I 2025-05-26 12:17:55,855] Trial 58 pruned. Trial was pruned at epoch 0.\n",
      "Specified future encoders in `add_encoders` at model creation but model does not accept future covariates. future encoders will be ignored.\n",
      "/home/eduardo/Documentos/Water-Cycle-Neural-Network/venv/lib/python3.12/site-packages/torch/nn/modules/transformer.py:382: UserWarning: enable_nested_tensor is True, but self.use_nested_tensor is False because encoder_layer.self_attn.batch_first was not True(use batch_first for better inference performance)\n",
      "  warnings.warn(\n",
      "GPU available: True (cuda), used: True\n",
      "TPU available: False, using: 0 TPU cores\n",
      "HPU available: False, using: 0 HPUs\n",
      "LOCAL_RANK: 0 - CUDA_VISIBLE_DEVICES: [0]\n"
     ]
    },
    {
     "name": "stdout",
     "output_type": "stream",
     "text": [
      "Current value: 0.09198299367620105, Current params: {'input_chunk_length': 72, 'output_chunk_length': 7, 'dropout': 0.1422952504453439, 'batch_size': 227, 'lr': 2.3958561221566378e-05, 'weight_decay': 0.0027052399777524796, 'd_model': 256, 'nhead': 8, 'num_encoder_layers': 3, 'num_decoder_layers': 1, 'activation': 'GELU', 'loss_fn': 'huber', 'optimizer': 'AdamW'}\n",
      "Best value: 0.13945409201458558, Best params: {'input_chunk_length': 25, 'output_chunk_length': 11, 'dropout': 0.2976462345464759, 'batch_size': 190, 'lr': 0.00010483973155279354, 'weight_decay': 0.0035473723935461107, 'd_model': 256, 'nhead': 4, 'num_encoder_layers': 2, 'num_decoder_layers': 1, 'activation': 'GELU', 'loss_fn': 'smoothl1', 'optimizer': 'AdamW'}\n",
      "\n",
      "Starting Trial 59\n",
      "Hyperparameters: {'input_chunk_length': 32, 'output_chunk_length': 9, 'dropout': 0.4973273139039223, 'batch_size': 181, 'lr': 0.0013921429888045164, 'weight_decay': 0.007449624721952894, 'd_model': 64, 'nhead': 8, 'num_encoder_layers': 2, 'num_decoder_layers': 1, 'activation': 'SwiGLU', 'loss_fn': 'smoothl1', 'optimizer': 'AdamW'}\n",
      "\n",
      "Training the model...\n",
      "Train set: 6647 samples\n",
      "Validation set: 1662 samples\n"
     ]
    },
    {
     "name": "stderr",
     "output_type": "stream",
     "text": [
      "[I 2025-05-26 12:18:00,718] Trial 59 pruned. Trial was pruned at epoch 0.\n",
      "Specified future encoders in `add_encoders` at model creation but model does not accept future covariates. future encoders will be ignored.\n",
      "/home/eduardo/Documentos/Water-Cycle-Neural-Network/venv/lib/python3.12/site-packages/torch/nn/modules/transformer.py:382: UserWarning: enable_nested_tensor is True, but self.use_nested_tensor is False because encoder_layer.self_attn.batch_first was not True(use batch_first for better inference performance)\n",
      "  warnings.warn(\n",
      "GPU available: True (cuda), used: True\n",
      "TPU available: False, using: 0 TPU cores\n",
      "HPU available: False, using: 0 HPUs\n",
      "LOCAL_RANK: 0 - CUDA_VISIBLE_DEVICES: [0]\n"
     ]
    },
    {
     "name": "stdout",
     "output_type": "stream",
     "text": [
      "Current value: 0.04282188432115467, Current params: {'input_chunk_length': 32, 'output_chunk_length': 9, 'dropout': 0.4973273139039223, 'batch_size': 181, 'lr': 0.0013921429888045164, 'weight_decay': 0.007449624721952894, 'd_model': 64, 'nhead': 8, 'num_encoder_layers': 2, 'num_decoder_layers': 1, 'activation': 'SwiGLU', 'loss_fn': 'smoothl1', 'optimizer': 'AdamW'}\n",
      "Best value: 0.13945409201458558, Best params: {'input_chunk_length': 25, 'output_chunk_length': 11, 'dropout': 0.2976462345464759, 'batch_size': 190, 'lr': 0.00010483973155279354, 'weight_decay': 0.0035473723935461107, 'd_model': 256, 'nhead': 4, 'num_encoder_layers': 2, 'num_decoder_layers': 1, 'activation': 'GELU', 'loss_fn': 'smoothl1', 'optimizer': 'AdamW'}\n",
      "\n",
      "Starting Trial 60\n",
      "Hyperparameters: {'input_chunk_length': 37, 'output_chunk_length': 13, 'dropout': 0.12119451814818509, 'batch_size': 242, 'lr': 1.361964254785962e-06, 'weight_decay': 0.0020596111107751844, 'd_model': 256, 'nhead': 8, 'num_encoder_layers': 2, 'num_decoder_layers': 3, 'activation': 'GELU', 'loss_fn': 'smoothl1', 'optimizer': 'AdamW'}\n",
      "\n",
      "Training the model...\n",
      "Train set: 6647 samples\n",
      "Validation set: 1662 samples\n"
     ]
    },
    {
     "name": "stderr",
     "output_type": "stream",
     "text": [
      "[I 2025-05-26 12:18:09,119] Trial 60 pruned. Trial was pruned at epoch 0.\n",
      "Specified future encoders in `add_encoders` at model creation but model does not accept future covariates. future encoders will be ignored.\n",
      "/home/eduardo/Documentos/Water-Cycle-Neural-Network/venv/lib/python3.12/site-packages/torch/nn/modules/transformer.py:382: UserWarning: enable_nested_tensor is True, but self.use_nested_tensor is False because encoder_layer.self_attn.batch_first was not True(use batch_first for better inference performance)\n",
      "  warnings.warn(\n",
      "GPU available: True (cuda), used: True\n",
      "TPU available: False, using: 0 TPU cores\n",
      "HPU available: False, using: 0 HPUs\n",
      "LOCAL_RANK: 0 - CUDA_VISIBLE_DEVICES: [0]\n"
     ]
    },
    {
     "name": "stdout",
     "output_type": "stream",
     "text": [
      "Current value: 0.2765716264732729, Current params: {'input_chunk_length': 37, 'output_chunk_length': 13, 'dropout': 0.12119451814818509, 'batch_size': 242, 'lr': 1.361964254785962e-06, 'weight_decay': 0.0020596111107751844, 'd_model': 256, 'nhead': 8, 'num_encoder_layers': 2, 'num_decoder_layers': 3, 'activation': 'GELU', 'loss_fn': 'smoothl1', 'optimizer': 'AdamW'}\n",
      "Best value: 0.13945409201458558, Best params: {'input_chunk_length': 25, 'output_chunk_length': 11, 'dropout': 0.2976462345464759, 'batch_size': 190, 'lr': 0.00010483973155279354, 'weight_decay': 0.0035473723935461107, 'd_model': 256, 'nhead': 4, 'num_encoder_layers': 2, 'num_decoder_layers': 1, 'activation': 'GELU', 'loss_fn': 'smoothl1', 'optimizer': 'AdamW'}\n",
      "\n",
      "Starting Trial 61\n",
      "Hyperparameters: {'input_chunk_length': 26, 'output_chunk_length': 10, 'dropout': 0.17756907256161603, 'batch_size': 206, 'lr': 0.0002142173225806516, 'weight_decay': 0.0043168444368403254, 'd_model': 128, 'nhead': 4, 'num_encoder_layers': 3, 'num_decoder_layers': 1, 'activation': 'GELU', 'loss_fn': 'smoothl1', 'optimizer': 'AdamW'}\n",
      "\n",
      "Training the model...\n",
      "Train set: 6647 samples\n",
      "Validation set: 1662 samples\n"
     ]
    },
    {
     "name": "stderr",
     "output_type": "stream",
     "text": [
      "[I 2025-05-26 12:18:15,327] Trial 61 pruned. Trial was pruned at epoch 0.\n",
      "Specified future encoders in `add_encoders` at model creation but model does not accept future covariates. future encoders will be ignored.\n",
      "/home/eduardo/Documentos/Water-Cycle-Neural-Network/venv/lib/python3.12/site-packages/torch/nn/modules/transformer.py:382: UserWarning: enable_nested_tensor is True, but self.use_nested_tensor is False because encoder_layer.self_attn.batch_first was not True(use batch_first for better inference performance)\n",
      "  warnings.warn(\n",
      "GPU available: True (cuda), used: True\n",
      "TPU available: False, using: 0 TPU cores\n",
      "HPU available: False, using: 0 HPUs\n",
      "LOCAL_RANK: 0 - CUDA_VISIBLE_DEVICES: [0]\n"
     ]
    },
    {
     "name": "stdout",
     "output_type": "stream",
     "text": [
      "Current value: 0.04390472207722725, Current params: {'input_chunk_length': 26, 'output_chunk_length': 10, 'dropout': 0.17756907256161603, 'batch_size': 206, 'lr': 0.0002142173225806516, 'weight_decay': 0.0043168444368403254, 'd_model': 128, 'nhead': 4, 'num_encoder_layers': 3, 'num_decoder_layers': 1, 'activation': 'GELU', 'loss_fn': 'smoothl1', 'optimizer': 'AdamW'}\n",
      "Best value: 0.13945409201458558, Best params: {'input_chunk_length': 25, 'output_chunk_length': 11, 'dropout': 0.2976462345464759, 'batch_size': 190, 'lr': 0.00010483973155279354, 'weight_decay': 0.0035473723935461107, 'd_model': 256, 'nhead': 4, 'num_encoder_layers': 2, 'num_decoder_layers': 1, 'activation': 'GELU', 'loss_fn': 'smoothl1', 'optimizer': 'AdamW'}\n",
      "\n",
      "Starting Trial 62\n",
      "Hyperparameters: {'input_chunk_length': 28, 'output_chunk_length': 12, 'dropout': 0.2030405319258492, 'batch_size': 222, 'lr': 0.0005395937864873448, 'weight_decay': 0.003680697712607468, 'd_model': 128, 'nhead': 4, 'num_encoder_layers': 3, 'num_decoder_layers': 1, 'activation': 'GELU', 'loss_fn': 'smoothl1', 'optimizer': 'AdamW'}\n",
      "\n",
      "Training the model...\n",
      "Train set: 6647 samples\n",
      "Validation set: 1662 samples\n"
     ]
    },
    {
     "name": "stderr",
     "output_type": "stream",
     "text": [
      "[I 2025-05-26 12:18:22,166] Trial 62 pruned. Trial was pruned at epoch 0.\n",
      "Specified future encoders in `add_encoders` at model creation but model does not accept future covariates. future encoders will be ignored.\n",
      "/home/eduardo/Documentos/Water-Cycle-Neural-Network/venv/lib/python3.12/site-packages/torch/nn/modules/transformer.py:382: UserWarning: enable_nested_tensor is True, but self.use_nested_tensor is False because encoder_layer.self_attn.batch_first was not True(use batch_first for better inference performance)\n",
      "  warnings.warn(\n",
      "GPU available: True (cuda), used: True\n",
      "TPU available: False, using: 0 TPU cores\n",
      "HPU available: False, using: 0 HPUs\n",
      "LOCAL_RANK: 0 - CUDA_VISIBLE_DEVICES: [0]\n"
     ]
    },
    {
     "name": "stdout",
     "output_type": "stream",
     "text": [
      "Current value: 0.048867107475320616, Current params: {'input_chunk_length': 28, 'output_chunk_length': 12, 'dropout': 0.2030405319258492, 'batch_size': 222, 'lr': 0.0005395937864873448, 'weight_decay': 0.003680697712607468, 'd_model': 128, 'nhead': 4, 'num_encoder_layers': 3, 'num_decoder_layers': 1, 'activation': 'GELU', 'loss_fn': 'smoothl1', 'optimizer': 'AdamW'}\n",
      "Best value: 0.13945409201458558, Best params: {'input_chunk_length': 25, 'output_chunk_length': 11, 'dropout': 0.2976462345464759, 'batch_size': 190, 'lr': 0.00010483973155279354, 'weight_decay': 0.0035473723935461107, 'd_model': 256, 'nhead': 4, 'num_encoder_layers': 2, 'num_decoder_layers': 1, 'activation': 'GELU', 'loss_fn': 'smoothl1', 'optimizer': 'AdamW'}\n",
      "\n",
      "Starting Trial 63\n",
      "Hyperparameters: {'input_chunk_length': 25, 'output_chunk_length': 9, 'dropout': 0.16387673950436377, 'batch_size': 212, 'lr': 0.0002992565565214506, 'weight_decay': 0.004568282940129846, 'd_model': 128, 'nhead': 4, 'num_encoder_layers': 3, 'num_decoder_layers': 1, 'activation': 'GELU', 'loss_fn': 'smoothl1', 'optimizer': 'AdamW'}\n",
      "\n",
      "Training the model...\n",
      "Train set: 6647 samples\n",
      "Validation set: 1662 samples\n"
     ]
    },
    {
     "name": "stderr",
     "output_type": "stream",
     "text": [
      "Metric val_loss improved. New best score: 0.040\n",
      "Metric val_loss improved by 0.006 >= min_delta = 0.0005. New best score: 0.034\n",
      "Metric val_loss improved by 0.003 >= min_delta = 0.0005. New best score: 0.031\n",
      "Metric val_loss improved by 0.003 >= min_delta = 0.0005. New best score: 0.028\n",
      "Metric val_loss improved by 0.002 >= min_delta = 0.0005. New best score: 0.027\n",
      "Metric val_loss improved by 0.001 >= min_delta = 0.0005. New best score: 0.026\n",
      "Metric val_loss improved by 0.001 >= min_delta = 0.0005. New best score: 0.025\n",
      "Metric val_loss improved by 0.001 >= min_delta = 0.0005. New best score: 0.024\n",
      "Metric val_loss improved by 0.001 >= min_delta = 0.0005. New best score: 0.023\n",
      "Metric val_loss improved by 0.001 >= min_delta = 0.0005. New best score: 0.022\n",
      "Monitored metric val_loss did not improve in the last 15 records. Best score: 0.022. Signaling Trainer to stop.\n",
      "/home/eduardo/Documentos/Water-Cycle-Neural-Network/venv/lib/python3.12/site-packages/torch/nn/modules/transformer.py:382: UserWarning: enable_nested_tensor is True, but self.use_nested_tensor is False because encoder_layer.self_attn.batch_first was not True(use batch_first for better inference performance)\n",
      "  warnings.warn(\n",
      "GPU available: True (cuda), used: True\n",
      "TPU available: False, using: 0 TPU cores\n",
      "HPU available: False, using: 0 HPUs\n",
      "LOCAL_RANK: 0 - CUDA_VISIBLE_DEVICES: [0]\n",
      "/home/eduardo/Documentos/Water-Cycle-Neural-Network/venv/lib/python3.12/site-packages/pytorch_lightning/trainer/connectors/data_connector.py:425: The 'predict_dataloader' does not have many workers which may be a bottleneck. Consider increasing the value of the `num_workers` argument` to `num_workers=11` in the `DataLoader` to improve performance.\n"
     ]
    },
    {
     "name": "stdout",
     "output_type": "stream",
     "text": [
      "Model loaded from checkpoint for trial 63\n"
     ]
    },
    {
     "name": "stderr",
     "output_type": "stream",
     "text": [
      "[I 2025-05-26 12:20:20,812] Trial 63 finished with value: 0.15285458062323484 and parameters: {'input_chunk_length': 25, 'output_chunk_length': 9, 'dropout': 0.16387673950436377, 'batch_size': 212, 'lr': 0.0002992565565214506, 'weight_decay': 0.004568282940129846, 'd_model': 128, 'nhead': 4, 'num_encoder_layers': 3, 'num_decoder_layers': 1, 'activation': 'GELU', 'loss_fn': 'smoothl1', 'optimizer': 'AdamW'}. Best is trial 44 with value: 0.13945409201458558.\n"
     ]
    },
    {
     "name": "stdout",
     "output_type": "stream",
     "text": [
      "Starting time series verification for consistency...\n",
      "\n",
      "Performance metrics:\n",
      "                                     MSE        RMSE         MAE           R2  \\\n",
      "Temperature                    13.301308    3.647096    2.895404     0.563754   \n",
      "Precipitation_accumulated    7178.185646   84.724174   72.006165 -2103.477721   \n",
      "Humidity                       89.728838    9.472531    7.525899     0.387915   \n",
      "Wind_Speed_kmh                  1.659277    1.288129    1.075270    -0.232087   \n",
      "Soil_Moisture              160260.246859  400.325176  336.005779    -1.845818   \n",
      "Soil_Temperature               20.946895    4.576778    3.845904    -0.301221   \n",
      "Wind_Dir_Sin                    0.603867    0.777089    0.690172    -0.096803   \n",
      "Wind_Dir_Cos                    0.405418    0.636725    0.525237    -0.105861   \n",
      "\n",
      "                                SMAPE  \n",
      "Temperature                 46.199079  \n",
      "Precipitation_accumulated   17.287698  \n",
      "Humidity                     8.921522  \n",
      "Wind_Speed_kmh              77.747389  \n",
      "Soil_Moisture                3.871108  \n",
      "Soil_Temperature            89.032754  \n",
      "Wind_Dir_Sin               148.505373  \n",
      "Wind_Dir_Cos               114.089565  \n",
      "The MAE for this fold was 0.15285458062323484\n",
      "Results of trial 63 saved in optuna_iteration_metrics/trial_63.json\n",
      "Current value: 0.15285458062323484, Current params: {'input_chunk_length': 25, 'output_chunk_length': 9, 'dropout': 0.16387673950436377, 'batch_size': 212, 'lr': 0.0002992565565214506, 'weight_decay': 0.004568282940129846, 'd_model': 128, 'nhead': 4, 'num_encoder_layers': 3, 'num_decoder_layers': 1, 'activation': 'GELU', 'loss_fn': 'smoothl1', 'optimizer': 'AdamW'}\n",
      "Best value: 0.13945409201458558, Best params: {'input_chunk_length': 25, 'output_chunk_length': 11, 'dropout': 0.2976462345464759, 'batch_size': 190, 'lr': 0.00010483973155279354, 'weight_decay': 0.0035473723935461107, 'd_model': 256, 'nhead': 4, 'num_encoder_layers': 2, 'num_decoder_layers': 1, 'activation': 'GELU', 'loss_fn': 'smoothl1', 'optimizer': 'AdamW'}\n",
      "\n",
      "Starting Trial 64\n",
      "Hyperparameters: {'input_chunk_length': 30, 'output_chunk_length': 14, 'dropout': 0.28592004109296343, 'batch_size': 230, 'lr': 4.969201879514867e-05, 'weight_decay': 0.003171948780063781, 'd_model': 128, 'nhead': 4, 'num_encoder_layers': 4, 'num_decoder_layers': 1, 'activation': 'GLU', 'loss_fn': 'smoothl1', 'optimizer': 'AdamW'}\n",
      "\n",
      "Training the model...\n",
      "Train set: 6647 samples\n",
      "Validation set: 1662 samples\n"
     ]
    },
    {
     "name": "stderr",
     "output_type": "stream",
     "text": [
      "Specified future encoders in `add_encoders` at model creation but model does not accept future covariates. future encoders will be ignored.\n",
      "/home/eduardo/Documentos/Water-Cycle-Neural-Network/venv/lib/python3.12/site-packages/torch/nn/modules/transformer.py:382: UserWarning: enable_nested_tensor is True, but self.use_nested_tensor is False because encoder_layer.self_attn.batch_first was not True(use batch_first for better inference performance)\n",
      "  warnings.warn(\n",
      "GPU available: True (cuda), used: True\n",
      "TPU available: False, using: 0 TPU cores\n",
      "HPU available: False, using: 0 HPUs\n",
      "LOCAL_RANK: 0 - CUDA_VISIBLE_DEVICES: [0]\n",
      "[I 2025-05-26 12:27:48,582] Trial 64 pruned. Trial was pruned at epoch 0.\n",
      "Specified future encoders in `add_encoders` at model creation but model does not accept future covariates. future encoders will be ignored.\n",
      "/home/eduardo/Documentos/Water-Cycle-Neural-Network/venv/lib/python3.12/site-packages/torch/nn/modules/transformer.py:382: UserWarning: enable_nested_tensor is True, but self.use_nested_tensor is False because encoder_layer.self_attn.batch_first was not True(use batch_first for better inference performance)\n",
      "  warnings.warn(\n",
      "GPU available: True (cuda), used: True\n",
      "TPU available: False, using: 0 TPU cores\n",
      "HPU available: False, using: 0 HPUs\n",
      "LOCAL_RANK: 0 - CUDA_VISIBLE_DEVICES: [0]\n"
     ]
    },
    {
     "name": "stdout",
     "output_type": "stream",
     "text": [
      "Current value: 0.15029522805297643, Current params: {'input_chunk_length': 30, 'output_chunk_length': 14, 'dropout': 0.28592004109296343, 'batch_size': 230, 'lr': 4.969201879514867e-05, 'weight_decay': 0.003171948780063781, 'd_model': 128, 'nhead': 4, 'num_encoder_layers': 4, 'num_decoder_layers': 1, 'activation': 'GLU', 'loss_fn': 'smoothl1', 'optimizer': 'AdamW'}\n",
      "Best value: 0.13945409201458558, Best params: {'input_chunk_length': 25, 'output_chunk_length': 11, 'dropout': 0.2976462345464759, 'batch_size': 190, 'lr': 0.00010483973155279354, 'weight_decay': 0.0035473723935461107, 'd_model': 256, 'nhead': 4, 'num_encoder_layers': 2, 'num_decoder_layers': 1, 'activation': 'GELU', 'loss_fn': 'smoothl1', 'optimizer': 'AdamW'}\n",
      "\n",
      "Starting Trial 65\n",
      "Hyperparameters: {'input_chunk_length': 34, 'output_chunk_length': 6, 'dropout': 0.2557463318351847, 'batch_size': 197, 'lr': 0.00036864706527508525, 'weight_decay': 0.001352241909491839, 'd_model': 128, 'nhead': 2, 'num_encoder_layers': 3, 'num_decoder_layers': 1, 'activation': 'GELU', 'loss_fn': 'mae', 'optimizer': 'AdamW'}\n",
      "\n",
      "Training the model...\n",
      "Train set: 6647 samples\n",
      "Validation set: 1662 samples\n"
     ]
    },
    {
     "name": "stderr",
     "output_type": "stream",
     "text": [
      "[I 2025-05-26 12:27:55,390] Trial 65 pruned. Trial was pruned at epoch 0.\n",
      "Specified future encoders in `add_encoders` at model creation but model does not accept future covariates. future encoders will be ignored.\n",
      "/home/eduardo/Documentos/Water-Cycle-Neural-Network/venv/lib/python3.12/site-packages/torch/nn/modules/transformer.py:382: UserWarning: enable_nested_tensor is True, but self.use_nested_tensor is False because encoder_layer.self_attn.batch_first was not True(use batch_first for better inference performance)\n",
      "  warnings.warn(\n",
      "GPU available: True (cuda), used: True\n",
      "TPU available: False, using: 0 TPU cores\n",
      "HPU available: False, using: 0 HPUs\n",
      "LOCAL_RANK: 0 - CUDA_VISIBLE_DEVICES: [0]\n"
     ]
    },
    {
     "name": "stdout",
     "output_type": "stream",
     "text": [
      "Current value: 0.2172765299621799, Current params: {'input_chunk_length': 34, 'output_chunk_length': 6, 'dropout': 0.2557463318351847, 'batch_size': 197, 'lr': 0.00036864706527508525, 'weight_decay': 0.001352241909491839, 'd_model': 128, 'nhead': 2, 'num_encoder_layers': 3, 'num_decoder_layers': 1, 'activation': 'GELU', 'loss_fn': 'mae', 'optimizer': 'AdamW'}\n",
      "Best value: 0.13945409201458558, Best params: {'input_chunk_length': 25, 'output_chunk_length': 11, 'dropout': 0.2976462345464759, 'batch_size': 190, 'lr': 0.00010483973155279354, 'weight_decay': 0.0035473723935461107, 'd_model': 256, 'nhead': 4, 'num_encoder_layers': 2, 'num_decoder_layers': 1, 'activation': 'GELU', 'loss_fn': 'smoothl1', 'optimizer': 'AdamW'}\n",
      "\n",
      "Starting Trial 66\n",
      "Hyperparameters: {'input_chunk_length': 28, 'output_chunk_length': 15, 'dropout': 0.2277887116330954, 'batch_size': 241, 'lr': 0.0009509451347117865, 'weight_decay': 1.4939293309574723e-05, 'd_model': 64, 'nhead': 4, 'num_encoder_layers': 2, 'num_decoder_layers': 1, 'activation': 'GELU', 'loss_fn': 'smoothl1', 'optimizer': 'SGD'}\n",
      "\n",
      "Training the model...\n",
      "Train set: 6647 samples\n",
      "Validation set: 1662 samples\n"
     ]
    },
    {
     "name": "stderr",
     "output_type": "stream",
     "text": [
      "[I 2025-05-26 12:28:00,527] Trial 66 pruned. Trial was pruned at epoch 0.\n",
      "Specified future encoders in `add_encoders` at model creation but model does not accept future covariates. future encoders will be ignored.\n",
      "/home/eduardo/Documentos/Water-Cycle-Neural-Network/venv/lib/python3.12/site-packages/torch/nn/modules/transformer.py:382: UserWarning: enable_nested_tensor is True, but self.use_nested_tensor is False because encoder_layer.self_attn.batch_first was not True(use batch_first for better inference performance)\n",
      "  warnings.warn(\n",
      "GPU available: True (cuda), used: True\n",
      "TPU available: False, using: 0 TPU cores\n",
      "HPU available: False, using: 0 HPUs\n",
      "LOCAL_RANK: 0 - CUDA_VISIBLE_DEVICES: [0]\n"
     ]
    },
    {
     "name": "stdout",
     "output_type": "stream",
     "text": [
      "Current value: 0.2966175551186186, Current params: {'input_chunk_length': 28, 'output_chunk_length': 15, 'dropout': 0.2277887116330954, 'batch_size': 241, 'lr': 0.0009509451347117865, 'weight_decay': 1.4939293309574723e-05, 'd_model': 64, 'nhead': 4, 'num_encoder_layers': 2, 'num_decoder_layers': 1, 'activation': 'GELU', 'loss_fn': 'smoothl1', 'optimizer': 'SGD'}\n",
      "Best value: 0.13945409201458558, Best params: {'input_chunk_length': 25, 'output_chunk_length': 11, 'dropout': 0.2976462345464759, 'batch_size': 190, 'lr': 0.00010483973155279354, 'weight_decay': 0.0035473723935461107, 'd_model': 256, 'nhead': 4, 'num_encoder_layers': 2, 'num_decoder_layers': 1, 'activation': 'GELU', 'loss_fn': 'smoothl1', 'optimizer': 'AdamW'}\n",
      "\n",
      "Starting Trial 67\n",
      "Hyperparameters: {'input_chunk_length': 31, 'output_chunk_length': 11, 'dropout': 0.17479918472847053, 'batch_size': 205, 'lr': 0.00016464762418735444, 'weight_decay': 0.009959325091536231, 'd_model': 256, 'nhead': 4, 'num_encoder_layers': 3, 'num_decoder_layers': 3, 'activation': 'GELU', 'loss_fn': 'smoothl1', 'optimizer': 'Adam'}\n",
      "\n",
      "Training the model...\n",
      "Train set: 6647 samples\n",
      "Validation set: 1662 samples\n"
     ]
    },
    {
     "name": "stderr",
     "output_type": "stream",
     "text": [
      "[I 2025-05-26 12:28:10,008] Trial 67 pruned. Trial was pruned at epoch 0.\n",
      "Specified future encoders in `add_encoders` at model creation but model does not accept future covariates. future encoders will be ignored.\n",
      "/home/eduardo/Documentos/Water-Cycle-Neural-Network/venv/lib/python3.12/site-packages/torch/nn/modules/transformer.py:382: UserWarning: enable_nested_tensor is True, but self.use_nested_tensor is False because encoder_layer.self_attn.batch_first was not True(use batch_first for better inference performance)\n",
      "  warnings.warn(\n",
      "GPU available: True (cuda), used: True\n",
      "TPU available: False, using: 0 TPU cores\n",
      "HPU available: False, using: 0 HPUs\n",
      "LOCAL_RANK: 0 - CUDA_VISIBLE_DEVICES: [0]\n"
     ]
    },
    {
     "name": "stdout",
     "output_type": "stream",
     "text": [
      "Current value: 0.048387185408566076, Current params: {'input_chunk_length': 31, 'output_chunk_length': 11, 'dropout': 0.17479918472847053, 'batch_size': 205, 'lr': 0.00016464762418735444, 'weight_decay': 0.009959325091536231, 'd_model': 256, 'nhead': 4, 'num_encoder_layers': 3, 'num_decoder_layers': 3, 'activation': 'GELU', 'loss_fn': 'smoothl1', 'optimizer': 'Adam'}\n",
      "Best value: 0.13945409201458558, Best params: {'input_chunk_length': 25, 'output_chunk_length': 11, 'dropout': 0.2976462345464759, 'batch_size': 190, 'lr': 0.00010483973155279354, 'weight_decay': 0.0035473723935461107, 'd_model': 256, 'nhead': 4, 'num_encoder_layers': 2, 'num_decoder_layers': 1, 'activation': 'GELU', 'loss_fn': 'smoothl1', 'optimizer': 'AdamW'}\n",
      "\n",
      "Starting Trial 68\n",
      "Hyperparameters: {'input_chunk_length': 26, 'output_chunk_length': 17, 'dropout': 0.20098636315729157, 'batch_size': 217, 'lr': 0.0008619675976317714, 'weight_decay': 0.000976431349716675, 'd_model': 128, 'nhead': 8, 'num_encoder_layers': 2, 'num_decoder_layers': 1, 'activation': 'GEGLU', 'loss_fn': 'mse', 'optimizer': 'AdamW'}\n",
      "\n",
      "Training the model...\n",
      "Train set: 6647 samples\n",
      "Validation set: 1662 samples\n"
     ]
    },
    {
     "name": "stderr",
     "output_type": "stream",
     "text": [
      "[I 2025-05-26 12:28:15,942] Trial 68 pruned. Trial was pruned at epoch 0.\n",
      "Specified future encoders in `add_encoders` at model creation but model does not accept future covariates. future encoders will be ignored.\n",
      "/home/eduardo/Documentos/Water-Cycle-Neural-Network/venv/lib/python3.12/site-packages/torch/nn/modules/transformer.py:382: UserWarning: enable_nested_tensor is True, but self.use_nested_tensor is False because encoder_layer.self_attn.batch_first was not True(use batch_first for better inference performance)\n",
      "  warnings.warn(\n",
      "GPU available: True (cuda), used: True\n",
      "TPU available: False, using: 0 TPU cores\n",
      "HPU available: False, using: 0 HPUs\n",
      "LOCAL_RANK: 0 - CUDA_VISIBLE_DEVICES: [0]\n"
     ]
    },
    {
     "name": "stdout",
     "output_type": "stream",
     "text": [
      "Current value: 0.08633206549282277, Current params: {'input_chunk_length': 26, 'output_chunk_length': 17, 'dropout': 0.20098636315729157, 'batch_size': 217, 'lr': 0.0008619675976317714, 'weight_decay': 0.000976431349716675, 'd_model': 128, 'nhead': 8, 'num_encoder_layers': 2, 'num_decoder_layers': 1, 'activation': 'GEGLU', 'loss_fn': 'mse', 'optimizer': 'AdamW'}\n",
      "Best value: 0.13945409201458558, Best params: {'input_chunk_length': 25, 'output_chunk_length': 11, 'dropout': 0.2976462345464759, 'batch_size': 190, 'lr': 0.00010483973155279354, 'weight_decay': 0.0035473723935461107, 'd_model': 256, 'nhead': 4, 'num_encoder_layers': 2, 'num_decoder_layers': 1, 'activation': 'GELU', 'loss_fn': 'smoothl1', 'optimizer': 'AdamW'}\n",
      "\n",
      "Starting Trial 69\n",
      "Hyperparameters: {'input_chunk_length': 49, 'output_chunk_length': 13, 'dropout': 0.18527739459878975, 'batch_size': 149, 'lr': 0.00024352141239764963, 'weight_decay': 0.0003506228007837514, 'd_model': 128, 'nhead': 4, 'num_encoder_layers': 3, 'num_decoder_layers': 2, 'activation': 'ReGLU', 'loss_fn': 'smoothl1', 'optimizer': 'RMSprop'}\n",
      "\n",
      "Training the model...\n",
      "Train set: 6647 samples\n",
      "Validation set: 1662 samples\n"
     ]
    },
    {
     "name": "stderr",
     "output_type": "stream",
     "text": [
      "Metric val_loss improved. New best score: 0.036\n",
      "Metric val_loss improved by 0.006 >= min_delta = 0.0005. New best score: 0.030\n",
      "Metric val_loss improved by 0.005 >= min_delta = 0.0005. New best score: 0.026\n",
      "Metric val_loss improved by 0.001 >= min_delta = 0.0005. New best score: 0.025\n",
      "Metric val_loss improved by 0.001 >= min_delta = 0.0005. New best score: 0.024\n",
      "Metric val_loss improved by 0.002 >= min_delta = 0.0005. New best score: 0.022\n",
      "Monitored metric val_loss did not improve in the last 15 records. Best score: 0.022. Signaling Trainer to stop.\n",
      "/home/eduardo/Documentos/Water-Cycle-Neural-Network/venv/lib/python3.12/site-packages/torch/nn/modules/transformer.py:382: UserWarning: enable_nested_tensor is True, but self.use_nested_tensor is False because encoder_layer.self_attn.batch_first was not True(use batch_first for better inference performance)\n",
      "  warnings.warn(\n",
      "GPU available: True (cuda), used: True\n",
      "TPU available: False, using: 0 TPU cores\n",
      "HPU available: False, using: 0 HPUs\n",
      "LOCAL_RANK: 0 - CUDA_VISIBLE_DEVICES: [0]\n",
      "/home/eduardo/Documentos/Water-Cycle-Neural-Network/venv/lib/python3.12/site-packages/pytorch_lightning/trainer/connectors/data_connector.py:425: The 'predict_dataloader' does not have many workers which may be a bottleneck. Consider increasing the value of the `num_workers` argument` to `num_workers=11` in the `DataLoader` to improve performance.\n"
     ]
    },
    {
     "name": "stdout",
     "output_type": "stream",
     "text": [
      "Model loaded from checkpoint for trial 69\n"
     ]
    },
    {
     "name": "stderr",
     "output_type": "stream",
     "text": [
      "[I 2025-05-26 12:31:13,049] Trial 69 finished with value: 0.16242222872803008 and parameters: {'input_chunk_length': 49, 'output_chunk_length': 13, 'dropout': 0.18527739459878975, 'batch_size': 149, 'lr': 0.00024352141239764963, 'weight_decay': 0.0003506228007837514, 'd_model': 128, 'nhead': 4, 'num_encoder_layers': 3, 'num_decoder_layers': 2, 'activation': 'ReGLU', 'loss_fn': 'smoothl1', 'optimizer': 'RMSprop'}. Best is trial 44 with value: 0.13945409201458558.\n",
      "Specified future encoders in `add_encoders` at model creation but model does not accept future covariates. future encoders will be ignored.\n",
      "/home/eduardo/Documentos/Water-Cycle-Neural-Network/venv/lib/python3.12/site-packages/torch/nn/modules/transformer.py:382: UserWarning: enable_nested_tensor is True, but self.use_nested_tensor is False because encoder_layer.self_attn.batch_first was not True(use batch_first for better inference performance)\n",
      "  warnings.warn(\n",
      "GPU available: True (cuda), used: True\n",
      "TPU available: False, using: 0 TPU cores\n",
      "HPU available: False, using: 0 HPUs\n",
      "LOCAL_RANK: 0 - CUDA_VISIBLE_DEVICES: [0]\n"
     ]
    },
    {
     "name": "stdout",
     "output_type": "stream",
     "text": [
      "Starting time series verification for consistency...\n",
      "\n",
      "Performance metrics:\n",
      "                                     MSE        RMSE         MAE           R2  \\\n",
      "Temperature                    19.563199    4.423031    3.470619     0.358917   \n",
      "Precipitation_accumulated   10130.602387  100.650894   94.114604 -3108.504130   \n",
      "Humidity                      143.254893   11.968914    9.625311     0.024480   \n",
      "Wind_Speed_kmh                  1.473053    1.213694    0.950044    -0.092559   \n",
      "Soil_Moisture              341542.383478  584.416276  551.918767    -5.839455   \n",
      "Soil_Temperature                6.667325    2.582116    2.111966     0.584678   \n",
      "Wind_Dir_Sin                    0.566769    0.752841    0.664155    -0.031555   \n",
      "Wind_Dir_Cos                    0.375135    0.612483    0.535927    -0.020046   \n",
      "\n",
      "                                SMAPE  \n",
      "Temperature                 49.792712  \n",
      "Precipitation_accumulated   22.917031  \n",
      "Humidity                    11.288122  \n",
      "Wind_Speed_kmh              78.259701  \n",
      "Soil_Moisture                6.660040  \n",
      "Soil_Temperature            34.825475  \n",
      "Wind_Dir_Sin               133.241823  \n",
      "Wind_Dir_Cos               155.812166  \n",
      "The MAE for this fold was 0.16242222872803008\n",
      "Results of trial 69 saved in optuna_iteration_metrics/trial_69.json\n",
      "Current value: 0.16242222872803008, Current params: {'input_chunk_length': 49, 'output_chunk_length': 13, 'dropout': 0.18527739459878975, 'batch_size': 149, 'lr': 0.00024352141239764963, 'weight_decay': 0.0003506228007837514, 'd_model': 128, 'nhead': 4, 'num_encoder_layers': 3, 'num_decoder_layers': 2, 'activation': 'ReGLU', 'loss_fn': 'smoothl1', 'optimizer': 'RMSprop'}\n",
      "Best value: 0.13945409201458558, Best params: {'input_chunk_length': 25, 'output_chunk_length': 11, 'dropout': 0.2976462345464759, 'batch_size': 190, 'lr': 0.00010483973155279354, 'weight_decay': 0.0035473723935461107, 'd_model': 256, 'nhead': 4, 'num_encoder_layers': 2, 'num_decoder_layers': 1, 'activation': 'GELU', 'loss_fn': 'smoothl1', 'optimizer': 'AdamW'}\n",
      "\n",
      "Starting Trial 70\n",
      "Hyperparameters: {'input_chunk_length': 24, 'output_chunk_length': 8, 'dropout': 0.14169063951396269, 'batch_size': 190, 'lr': 0.0005481619645999872, 'weight_decay': 0.002149403451474527, 'd_model': 128, 'nhead': 4, 'num_encoder_layers': 1, 'num_decoder_layers': 1, 'activation': 'GELU', 'loss_fn': 'smoothl1', 'optimizer': 'AdamW'}\n",
      "\n",
      "Training the model...\n",
      "Train set: 6647 samples\n",
      "Validation set: 1662 samples\n"
     ]
    },
    {
     "name": "stderr",
     "output_type": "stream",
     "text": [
      "Metric val_loss improved. New best score: 0.037\n",
      "Metric val_loss improved by 0.006 >= min_delta = 0.0005. New best score: 0.031\n",
      "Metric val_loss improved by 0.004 >= min_delta = 0.0005. New best score: 0.027\n",
      "Metric val_loss improved by 0.003 >= min_delta = 0.0005. New best score: 0.024\n",
      "Metric val_loss improved by 0.001 >= min_delta = 0.0005. New best score: 0.023\n",
      "Metric val_loss improved by 0.002 >= min_delta = 0.0005. New best score: 0.021\n",
      "Metric val_loss improved by 0.001 >= min_delta = 0.0005. New best score: 0.020\n",
      "Metric val_loss improved by 0.001 >= min_delta = 0.0005. New best score: 0.019\n",
      "Monitored metric val_loss did not improve in the last 15 records. Best score: 0.019. Signaling Trainer to stop.\n",
      "/home/eduardo/Documentos/Water-Cycle-Neural-Network/venv/lib/python3.12/site-packages/torch/nn/modules/transformer.py:382: UserWarning: enable_nested_tensor is True, but self.use_nested_tensor is False because encoder_layer.self_attn.batch_first was not True(use batch_first for better inference performance)\n",
      "  warnings.warn(\n",
      "GPU available: True (cuda), used: True\n",
      "TPU available: False, using: 0 TPU cores\n",
      "HPU available: False, using: 0 HPUs\n",
      "LOCAL_RANK: 0 - CUDA_VISIBLE_DEVICES: [0]\n",
      "/home/eduardo/Documentos/Water-Cycle-Neural-Network/venv/lib/python3.12/site-packages/pytorch_lightning/trainer/connectors/data_connector.py:425: The 'predict_dataloader' does not have many workers which may be a bottleneck. Consider increasing the value of the `num_workers` argument` to `num_workers=11` in the `DataLoader` to improve performance.\n"
     ]
    },
    {
     "name": "stdout",
     "output_type": "stream",
     "text": [
      "Model loaded from checkpoint for trial 70\n"
     ]
    },
    {
     "name": "stderr",
     "output_type": "stream",
     "text": [
      "[I 2025-05-26 12:37:18,016] Trial 70 finished with value: 0.13714163557666095 and parameters: {'input_chunk_length': 24, 'output_chunk_length': 8, 'dropout': 0.14169063951396269, 'batch_size': 190, 'lr': 0.0005481619645999872, 'weight_decay': 0.002149403451474527, 'd_model': 128, 'nhead': 4, 'num_encoder_layers': 1, 'num_decoder_layers': 1, 'activation': 'GELU', 'loss_fn': 'smoothl1', 'optimizer': 'AdamW'}. Best is trial 70 with value: 0.13714163557666095.\n",
      "Specified future encoders in `add_encoders` at model creation but model does not accept future covariates. future encoders will be ignored.\n",
      "/home/eduardo/Documentos/Water-Cycle-Neural-Network/venv/lib/python3.12/site-packages/torch/nn/modules/transformer.py:382: UserWarning: enable_nested_tensor is True, but self.use_nested_tensor is False because encoder_layer.self_attn.batch_first was not True(use batch_first for better inference performance)\n",
      "  warnings.warn(\n",
      "GPU available: True (cuda), used: True\n",
      "TPU available: False, using: 0 TPU cores\n",
      "HPU available: False, using: 0 HPUs\n",
      "LOCAL_RANK: 0 - CUDA_VISIBLE_DEVICES: [0]\n"
     ]
    },
    {
     "name": "stdout",
     "output_type": "stream",
     "text": [
      "Starting time series verification for consistency...\n",
      "\n",
      "Performance metrics:\n",
      "                                    MSE        RMSE         MAE           R2  \\\n",
      "Temperature                    9.411521    3.067820    2.493132     0.690974   \n",
      "Precipitation_accumulated   5255.334379   72.493685   62.851529 -1534.991593   \n",
      "Humidity                      76.198838    8.729195    7.126536     0.479907   \n",
      "Wind_Speed_kmh                 1.353389    1.163353    0.937288    -0.003461   \n",
      "Soil_Moisture              55129.221747  234.796128  180.893390     0.029189   \n",
      "Soil_Temperature               7.982030    2.825249    2.256469     0.504181   \n",
      "Wind_Dir_Sin                   0.599042    0.773978    0.685148    -0.087874   \n",
      "Wind_Dir_Cos                   0.371534    0.609536    0.518305    -0.013953   \n",
      "\n",
      "                                SMAPE  \n",
      "Temperature                 38.905856  \n",
      "Precipitation_accumulated   14.850197  \n",
      "Humidity                     8.432641  \n",
      "Wind_Speed_kmh              75.869223  \n",
      "Soil_Moisture                2.124054  \n",
      "Soil_Temperature            33.525094  \n",
      "Wind_Dir_Sin               145.956322  \n",
      "Wind_Dir_Cos               130.617346  \n",
      "The MAE for this fold was 0.13714163557666095\n",
      "Results of trial 70 saved in optuna_iteration_metrics/trial_70.json\n",
      "Current value: 0.13714163557666095, Current params: {'input_chunk_length': 24, 'output_chunk_length': 8, 'dropout': 0.14169063951396269, 'batch_size': 190, 'lr': 0.0005481619645999872, 'weight_decay': 0.002149403451474527, 'd_model': 128, 'nhead': 4, 'num_encoder_layers': 1, 'num_decoder_layers': 1, 'activation': 'GELU', 'loss_fn': 'smoothl1', 'optimizer': 'AdamW'}\n",
      "Best value: 0.13714163557666095, Best params: {'input_chunk_length': 24, 'output_chunk_length': 8, 'dropout': 0.14169063951396269, 'batch_size': 190, 'lr': 0.0005481619645999872, 'weight_decay': 0.002149403451474527, 'd_model': 128, 'nhead': 4, 'num_encoder_layers': 1, 'num_decoder_layers': 1, 'activation': 'GELU', 'loss_fn': 'smoothl1', 'optimizer': 'AdamW'}\n",
      "\n",
      "Starting Trial 71\n",
      "Hyperparameters: {'input_chunk_length': 24, 'output_chunk_length': 8, 'dropout': 0.13845494568580638, 'batch_size': 188, 'lr': 0.0004361304852144069, 'weight_decay': 0.0023521140719210886, 'd_model': 128, 'nhead': 4, 'num_encoder_layers': 1, 'num_decoder_layers': 1, 'activation': 'GELU', 'loss_fn': 'smoothl1', 'optimizer': 'AdamW'}\n",
      "\n",
      "Training the model...\n",
      "Train set: 6647 samples\n",
      "Validation set: 1662 samples\n"
     ]
    },
    {
     "name": "stderr",
     "output_type": "stream",
     "text": [
      "Metric val_loss improved. New best score: 0.038\n",
      "Metric val_loss improved by 0.005 >= min_delta = 0.0005. New best score: 0.034\n",
      "Metric val_loss improved by 0.003 >= min_delta = 0.0005. New best score: 0.030\n",
      "Metric val_loss improved by 0.001 >= min_delta = 0.0005. New best score: 0.029\n",
      "Metric val_loss improved by 0.003 >= min_delta = 0.0005. New best score: 0.026\n",
      "Metric val_loss improved by 0.002 >= min_delta = 0.0005. New best score: 0.024\n",
      "Metric val_loss improved by 0.001 >= min_delta = 0.0005. New best score: 0.022\n",
      "Metric val_loss improved by 0.002 >= min_delta = 0.0005. New best score: 0.021\n",
      "Metric val_loss improved by 0.001 >= min_delta = 0.0005. New best score: 0.020\n",
      "Metric val_loss improved by 0.001 >= min_delta = 0.0005. New best score: 0.019\n",
      "Monitored metric val_loss did not improve in the last 15 records. Best score: 0.019. Signaling Trainer to stop.\n",
      "/home/eduardo/Documentos/Water-Cycle-Neural-Network/venv/lib/python3.12/site-packages/torch/nn/modules/transformer.py:382: UserWarning: enable_nested_tensor is True, but self.use_nested_tensor is False because encoder_layer.self_attn.batch_first was not True(use batch_first for better inference performance)\n",
      "  warnings.warn(\n",
      "GPU available: True (cuda), used: True\n",
      "TPU available: False, using: 0 TPU cores\n",
      "HPU available: False, using: 0 HPUs\n",
      "LOCAL_RANK: 0 - CUDA_VISIBLE_DEVICES: [0]\n",
      "/home/eduardo/Documentos/Water-Cycle-Neural-Network/venv/lib/python3.12/site-packages/pytorch_lightning/trainer/connectors/data_connector.py:425: The 'predict_dataloader' does not have many workers which may be a bottleneck. Consider increasing the value of the `num_workers` argument` to `num_workers=11` in the `DataLoader` to improve performance.\n"
     ]
    },
    {
     "name": "stdout",
     "output_type": "stream",
     "text": [
      "Model loaded from checkpoint for trial 71\n"
     ]
    },
    {
     "name": "stderr",
     "output_type": "stream",
     "text": [
      "[I 2025-05-26 12:38:53,441] Trial 71 finished with value: 0.1372158242344943 and parameters: {'input_chunk_length': 24, 'output_chunk_length': 8, 'dropout': 0.13845494568580638, 'batch_size': 188, 'lr': 0.0004361304852144069, 'weight_decay': 0.0023521140719210886, 'd_model': 128, 'nhead': 4, 'num_encoder_layers': 1, 'num_decoder_layers': 1, 'activation': 'GELU', 'loss_fn': 'smoothl1', 'optimizer': 'AdamW'}. Best is trial 70 with value: 0.13714163557666095.\n",
      "Specified future encoders in `add_encoders` at model creation but model does not accept future covariates. future encoders will be ignored.\n",
      "/home/eduardo/Documentos/Water-Cycle-Neural-Network/venv/lib/python3.12/site-packages/torch/nn/modules/transformer.py:382: UserWarning: enable_nested_tensor is True, but self.use_nested_tensor is False because encoder_layer.self_attn.batch_first was not True(use batch_first for better inference performance)\n",
      "  warnings.warn(\n",
      "GPU available: True (cuda), used: True\n",
      "TPU available: False, using: 0 TPU cores\n",
      "HPU available: False, using: 0 HPUs\n",
      "LOCAL_RANK: 0 - CUDA_VISIBLE_DEVICES: [0]\n"
     ]
    },
    {
     "name": "stdout",
     "output_type": "stream",
     "text": [
      "Starting time series verification for consistency...\n",
      "\n",
      "Performance metrics:\n",
      "                                    MSE        RMSE         MAE          R2  \\\n",
      "Temperature                   12.646133    3.556140    2.812334    0.584766   \n",
      "Precipitation_accumulated   2819.811831   53.101900   46.536344 -823.154460   \n",
      "Humidity                      91.956954    9.589419    7.674923    0.372350   \n",
      "Wind_Speed_kmh                 1.434042    1.197515    0.931542   -0.063261   \n",
      "Soil_Moisture              73501.987388  271.112500  211.606577   -0.294350   \n",
      "Soil_Temperature              14.377266    3.791737    3.162202    0.106929   \n",
      "Wind_Dir_Sin                   0.604428    0.777450    0.676394   -0.097654   \n",
      "Wind_Dir_Cos                   0.381420    0.617592    0.520772   -0.040931   \n",
      "\n",
      "                                SMAPE  \n",
      "Temperature                 42.631157  \n",
      "Precipitation_accumulated   10.703514  \n",
      "Humidity                     9.072431  \n",
      "Wind_Speed_kmh              77.702334  \n",
      "Soil_Moisture                2.498093  \n",
      "Soil_Temperature            73.471641  \n",
      "Wind_Dir_Sin               135.584259  \n",
      "Wind_Dir_Cos               125.694579  \n",
      "The MAE for this fold was 0.1372158242344943\n",
      "Results of trial 71 saved in optuna_iteration_metrics/trial_71.json\n",
      "Current value: 0.1372158242344943, Current params: {'input_chunk_length': 24, 'output_chunk_length': 8, 'dropout': 0.13845494568580638, 'batch_size': 188, 'lr': 0.0004361304852144069, 'weight_decay': 0.0023521140719210886, 'd_model': 128, 'nhead': 4, 'num_encoder_layers': 1, 'num_decoder_layers': 1, 'activation': 'GELU', 'loss_fn': 'smoothl1', 'optimizer': 'AdamW'}\n",
      "Best value: 0.13714163557666095, Best params: {'input_chunk_length': 24, 'output_chunk_length': 8, 'dropout': 0.14169063951396269, 'batch_size': 190, 'lr': 0.0005481619645999872, 'weight_decay': 0.002149403451474527, 'd_model': 128, 'nhead': 4, 'num_encoder_layers': 1, 'num_decoder_layers': 1, 'activation': 'GELU', 'loss_fn': 'smoothl1', 'optimizer': 'AdamW'}\n",
      "\n",
      "Starting Trial 72\n",
      "Hyperparameters: {'input_chunk_length': 24, 'output_chunk_length': 8, 'dropout': 0.13604548837621636, 'batch_size': 176, 'lr': 0.0005793195042245757, 'weight_decay': 0.002205324388395125, 'd_model': 128, 'nhead': 4, 'num_encoder_layers': 1, 'num_decoder_layers': 1, 'activation': 'GELU', 'loss_fn': 'smoothl1', 'optimizer': 'AdamW'}\n",
      "\n",
      "Training the model...\n",
      "Train set: 6647 samples\n",
      "Validation set: 1662 samples\n"
     ]
    },
    {
     "name": "stderr",
     "output_type": "stream",
     "text": [
      "Metric val_loss improved. New best score: 0.040\n",
      "Metric val_loss improved by 0.008 >= min_delta = 0.0005. New best score: 0.032\n",
      "Metric val_loss improved by 0.004 >= min_delta = 0.0005. New best score: 0.028\n",
      "Metric val_loss improved by 0.005 >= min_delta = 0.0005. New best score: 0.023\n",
      "Metric val_loss improved by 0.001 >= min_delta = 0.0005. New best score: 0.022\n",
      "Metric val_loss improved by 0.001 >= min_delta = 0.0005. New best score: 0.021\n",
      "Metric val_loss improved by 0.001 >= min_delta = 0.0005. New best score: 0.020\n",
      "Metric val_loss improved by 0.001 >= min_delta = 0.0005. New best score: 0.019\n",
      "Monitored metric val_loss did not improve in the last 15 records. Best score: 0.019. Signaling Trainer to stop.\n",
      "/home/eduardo/Documentos/Water-Cycle-Neural-Network/venv/lib/python3.12/site-packages/torch/nn/modules/transformer.py:382: UserWarning: enable_nested_tensor is True, but self.use_nested_tensor is False because encoder_layer.self_attn.batch_first was not True(use batch_first for better inference performance)\n",
      "  warnings.warn(\n",
      "GPU available: True (cuda), used: True\n",
      "TPU available: False, using: 0 TPU cores\n",
      "HPU available: False, using: 0 HPUs\n",
      "LOCAL_RANK: 0 - CUDA_VISIBLE_DEVICES: [0]\n",
      "/home/eduardo/Documentos/Water-Cycle-Neural-Network/venv/lib/python3.12/site-packages/pytorch_lightning/trainer/connectors/data_connector.py:425: The 'predict_dataloader' does not have many workers which may be a bottleneck. Consider increasing the value of the `num_workers` argument` to `num_workers=11` in the `DataLoader` to improve performance.\n"
     ]
    },
    {
     "name": "stdout",
     "output_type": "stream",
     "text": [
      "Model loaded from checkpoint for trial 72\n"
     ]
    },
    {
     "name": "stderr",
     "output_type": "stream",
     "text": [
      "[I 2025-05-26 12:40:19,658] Trial 72 finished with value: 0.13536214649987746 and parameters: {'input_chunk_length': 24, 'output_chunk_length': 8, 'dropout': 0.13604548837621636, 'batch_size': 176, 'lr': 0.0005793195042245757, 'weight_decay': 0.002205324388395125, 'd_model': 128, 'nhead': 4, 'num_encoder_layers': 1, 'num_decoder_layers': 1, 'activation': 'GELU', 'loss_fn': 'smoothl1', 'optimizer': 'AdamW'}. Best is trial 72 with value: 0.13536214649987746.\n",
      "Specified future encoders in `add_encoders` at model creation but model does not accept future covariates. future encoders will be ignored.\n",
      "/home/eduardo/Documentos/Water-Cycle-Neural-Network/venv/lib/python3.12/site-packages/torch/nn/modules/transformer.py:382: UserWarning: enable_nested_tensor is True, but self.use_nested_tensor is False because encoder_layer.self_attn.batch_first was not True(use batch_first for better inference performance)\n",
      "  warnings.warn(\n",
      "GPU available: True (cuda), used: True\n",
      "TPU available: False, using: 0 TPU cores\n",
      "HPU available: False, using: 0 HPUs\n",
      "LOCAL_RANK: 0 - CUDA_VISIBLE_DEVICES: [0]\n"
     ]
    },
    {
     "name": "stdout",
     "output_type": "stream",
     "text": [
      "Starting time series verification for consistency...\n",
      "\n",
      "Performance metrics:\n",
      "                                     MSE        RMSE         MAE          R2  \\\n",
      "Temperature                    12.120305    3.481423    2.798133    0.602032   \n",
      "Precipitation_accumulated    1914.197110   43.751538   34.670946 -558.467858   \n",
      "Humidity                       81.453659    9.025168    7.273471    0.444040   \n",
      "Wind_Speed_kmh                  1.461154    1.208782    0.991365   -0.083363   \n",
      "Soil_Moisture              112204.833445  334.969899  266.492550   -0.975897   \n",
      "Soil_Temperature               11.267352    3.356688    2.776572    0.300107   \n",
      "Wind_Dir_Sin                    0.606499    0.778781    0.681597   -0.101416   \n",
      "Wind_Dir_Cos                    0.390605    0.624984    0.523041   -0.065999   \n",
      "\n",
      "                                SMAPE  \n",
      "Temperature                 50.514729  \n",
      "Precipitation_accumulated    7.885894  \n",
      "Humidity                     8.619062  \n",
      "Wind_Speed_kmh              75.529716  \n",
      "Soil_Moisture                3.118708  \n",
      "Soil_Temperature            47.572681  \n",
      "Wind_Dir_Sin               140.699715  \n",
      "Wind_Dir_Cos               122.432838  \n",
      "The MAE for this fold was 0.13536214649987746\n",
      "Results of trial 72 saved in optuna_iteration_metrics/trial_72.json\n",
      "Current value: 0.13536214649987746, Current params: {'input_chunk_length': 24, 'output_chunk_length': 8, 'dropout': 0.13604548837621636, 'batch_size': 176, 'lr': 0.0005793195042245757, 'weight_decay': 0.002205324388395125, 'd_model': 128, 'nhead': 4, 'num_encoder_layers': 1, 'num_decoder_layers': 1, 'activation': 'GELU', 'loss_fn': 'smoothl1', 'optimizer': 'AdamW'}\n",
      "Best value: 0.13536214649987746, Best params: {'input_chunk_length': 24, 'output_chunk_length': 8, 'dropout': 0.13604548837621636, 'batch_size': 176, 'lr': 0.0005793195042245757, 'weight_decay': 0.002205324388395125, 'd_model': 128, 'nhead': 4, 'num_encoder_layers': 1, 'num_decoder_layers': 1, 'activation': 'GELU', 'loss_fn': 'smoothl1', 'optimizer': 'AdamW'}\n",
      "\n",
      "Starting Trial 73\n",
      "Hyperparameters: {'input_chunk_length': 24, 'output_chunk_length': 6, 'dropout': 0.13722919508652123, 'batch_size': 177, 'lr': 0.0004079205143607389, 'weight_decay': 0.002382900741501141, 'd_model': 128, 'nhead': 4, 'num_encoder_layers': 1, 'num_decoder_layers': 1, 'activation': 'GELU', 'loss_fn': 'smoothl1', 'optimizer': 'AdamW'}\n",
      "\n",
      "Training the model...\n",
      "Train set: 6647 samples\n",
      "Validation set: 1662 samples\n"
     ]
    },
    {
     "name": "stderr",
     "output_type": "stream",
     "text": [
      "Metric val_loss improved. New best score: 0.037\n",
      "Metric val_loss improved by 0.006 >= min_delta = 0.0005. New best score: 0.031\n",
      "Metric val_loss improved by 0.005 >= min_delta = 0.0005. New best score: 0.026\n",
      "Metric val_loss improved by 0.003 >= min_delta = 0.0005. New best score: 0.023\n",
      "Metric val_loss improved by 0.001 >= min_delta = 0.0005. New best score: 0.022\n",
      "Metric val_loss improved by 0.001 >= min_delta = 0.0005. New best score: 0.021\n",
      "Metric val_loss improved by 0.001 >= min_delta = 0.0005. New best score: 0.021\n",
      "Metric val_loss improved by 0.001 >= min_delta = 0.0005. New best score: 0.020\n",
      "Metric val_loss improved by 0.001 >= min_delta = 0.0005. New best score: 0.019\n",
      "Monitored metric val_loss did not improve in the last 15 records. Best score: 0.019. Signaling Trainer to stop.\n",
      "/home/eduardo/Documentos/Water-Cycle-Neural-Network/venv/lib/python3.12/site-packages/torch/nn/modules/transformer.py:382: UserWarning: enable_nested_tensor is True, but self.use_nested_tensor is False because encoder_layer.self_attn.batch_first was not True(use batch_first for better inference performance)\n",
      "  warnings.warn(\n",
      "GPU available: True (cuda), used: True\n",
      "TPU available: False, using: 0 TPU cores\n",
      "HPU available: False, using: 0 HPUs\n",
      "LOCAL_RANK: 0 - CUDA_VISIBLE_DEVICES: [0]\n",
      "/home/eduardo/Documentos/Water-Cycle-Neural-Network/venv/lib/python3.12/site-packages/pytorch_lightning/trainer/connectors/data_connector.py:425: The 'predict_dataloader' does not have many workers which may be a bottleneck. Consider increasing the value of the `num_workers` argument` to `num_workers=11` in the `DataLoader` to improve performance.\n"
     ]
    },
    {
     "name": "stdout",
     "output_type": "stream",
     "text": [
      "Model loaded from checkpoint for trial 73\n"
     ]
    },
    {
     "name": "stderr",
     "output_type": "stream",
     "text": [
      "[I 2025-05-26 12:41:53,182] Trial 73 finished with value: 0.13446842393669928 and parameters: {'input_chunk_length': 24, 'output_chunk_length': 6, 'dropout': 0.13722919508652123, 'batch_size': 177, 'lr': 0.0004079205143607389, 'weight_decay': 0.002382900741501141, 'd_model': 128, 'nhead': 4, 'num_encoder_layers': 1, 'num_decoder_layers': 1, 'activation': 'GELU', 'loss_fn': 'smoothl1', 'optimizer': 'AdamW'}. Best is trial 73 with value: 0.13446842393669928.\n",
      "Specified future encoders in `add_encoders` at model creation but model does not accept future covariates. future encoders will be ignored.\n",
      "/home/eduardo/Documentos/Water-Cycle-Neural-Network/venv/lib/python3.12/site-packages/torch/nn/modules/transformer.py:382: UserWarning: enable_nested_tensor is True, but self.use_nested_tensor is False because encoder_layer.self_attn.batch_first was not True(use batch_first for better inference performance)\n",
      "  warnings.warn(\n",
      "GPU available: True (cuda), used: True\n",
      "TPU available: False, using: 0 TPU cores\n",
      "HPU available: False, using: 0 HPUs\n",
      "LOCAL_RANK: 0 - CUDA_VISIBLE_DEVICES: [0]\n"
     ]
    },
    {
     "name": "stdout",
     "output_type": "stream",
     "text": [
      "Starting time series verification for consistency...\n",
      "\n",
      "Performance metrics:\n",
      "                                     MSE        RMSE         MAE          R2  \\\n",
      "Temperature                     7.496980    2.738061    2.204360    0.753770   \n",
      "Precipitation_accumulated    1931.742981   43.951598   36.742557 -561.854498   \n",
      "Humidity                       86.344061    9.292150    7.242678    0.410750   \n",
      "Wind_Speed_kmh                  1.602065    1.265727    1.066684   -0.186999   \n",
      "Soil_Moisture              103278.150125  321.369180  264.557394   -0.805077   \n",
      "Soil_Temperature                6.614950    2.571955    2.055451    0.589628   \n",
      "Wind_Dir_Sin                    0.626115    0.791274    0.675715   -0.137331   \n",
      "Wind_Dir_Cos                    0.441217    0.664242    0.547413   -0.203301   \n",
      "\n",
      "                                SMAPE  \n",
      "Temperature                 34.931362  \n",
      "Precipitation_accumulated    8.369293  \n",
      "Humidity                     8.633576  \n",
      "Wind_Speed_kmh              76.793065  \n",
      "Soil_Moisture                3.099016  \n",
      "Soil_Temperature            40.987876  \n",
      "Wind_Dir_Sin               133.524446  \n",
      "Wind_Dir_Cos               121.945500  \n",
      "The MAE for this fold was 0.13446842393669928\n",
      "Results of trial 73 saved in optuna_iteration_metrics/trial_73.json\n",
      "Current value: 0.13446842393669928, Current params: {'input_chunk_length': 24, 'output_chunk_length': 6, 'dropout': 0.13722919508652123, 'batch_size': 177, 'lr': 0.0004079205143607389, 'weight_decay': 0.002382900741501141, 'd_model': 128, 'nhead': 4, 'num_encoder_layers': 1, 'num_decoder_layers': 1, 'activation': 'GELU', 'loss_fn': 'smoothl1', 'optimizer': 'AdamW'}\n",
      "Best value: 0.13446842393669928, Best params: {'input_chunk_length': 24, 'output_chunk_length': 6, 'dropout': 0.13722919508652123, 'batch_size': 177, 'lr': 0.0004079205143607389, 'weight_decay': 0.002382900741501141, 'd_model': 128, 'nhead': 4, 'num_encoder_layers': 1, 'num_decoder_layers': 1, 'activation': 'GELU', 'loss_fn': 'smoothl1', 'optimizer': 'AdamW'}\n",
      "\n",
      "Starting Trial 74\n",
      "Hyperparameters: {'input_chunk_length': 24, 'output_chunk_length': 3, 'dropout': 0.10081450361809925, 'batch_size': 167, 'lr': 0.0005323835935783579, 'weight_decay': 0.0021477713712690703, 'd_model': 128, 'nhead': 4, 'num_encoder_layers': 1, 'num_decoder_layers': 1, 'activation': 'GELU', 'loss_fn': 'smoothl1', 'optimizer': 'AdamW'}\n",
      "\n",
      "Training the model...\n",
      "Train set: 6647 samples\n",
      "Validation set: 1662 samples\n"
     ]
    },
    {
     "name": "stderr",
     "output_type": "stream",
     "text": [
      "Metric val_loss improved. New best score: 0.034\n",
      "Metric val_loss improved by 0.007 >= min_delta = 0.0005. New best score: 0.027\n",
      "Metric val_loss improved by 0.005 >= min_delta = 0.0005. New best score: 0.022\n",
      "Metric val_loss improved by 0.002 >= min_delta = 0.0005. New best score: 0.020\n",
      "Metric val_loss improved by 0.001 >= min_delta = 0.0005. New best score: 0.019\n",
      "Metric val_loss improved by 0.001 >= min_delta = 0.0005. New best score: 0.018\n",
      "Metric val_loss improved by 0.001 >= min_delta = 0.0005. New best score: 0.017\n",
      "Metric val_loss improved by 0.001 >= min_delta = 0.0005. New best score: 0.016\n",
      "Monitored metric val_loss did not improve in the last 15 records. Best score: 0.016. Signaling Trainer to stop.\n",
      "/home/eduardo/Documentos/Water-Cycle-Neural-Network/venv/lib/python3.12/site-packages/torch/nn/modules/transformer.py:382: UserWarning: enable_nested_tensor is True, but self.use_nested_tensor is False because encoder_layer.self_attn.batch_first was not True(use batch_first for better inference performance)\n",
      "  warnings.warn(\n",
      "GPU available: True (cuda), used: True\n",
      "TPU available: False, using: 0 TPU cores\n",
      "HPU available: False, using: 0 HPUs\n",
      "LOCAL_RANK: 0 - CUDA_VISIBLE_DEVICES: [0]\n",
      "/home/eduardo/Documentos/Water-Cycle-Neural-Network/venv/lib/python3.12/site-packages/pytorch_lightning/trainer/connectors/data_connector.py:425: The 'predict_dataloader' does not have many workers which may be a bottleneck. Consider increasing the value of the `num_workers` argument` to `num_workers=11` in the `DataLoader` to improve performance.\n"
     ]
    },
    {
     "name": "stdout",
     "output_type": "stream",
     "text": [
      "Model loaded from checkpoint for trial 74\n"
     ]
    },
    {
     "name": "stderr",
     "output_type": "stream",
     "text": [
      "[I 2025-05-26 12:43:14,062] Trial 74 finished with value: 0.12446917185593927 and parameters: {'input_chunk_length': 24, 'output_chunk_length': 3, 'dropout': 0.10081450361809925, 'batch_size': 167, 'lr': 0.0005323835935783579, 'weight_decay': 0.0021477713712690703, 'd_model': 128, 'nhead': 4, 'num_encoder_layers': 1, 'num_decoder_layers': 1, 'activation': 'GELU', 'loss_fn': 'smoothl1', 'optimizer': 'AdamW'}. Best is trial 74 with value: 0.12446917185593927.\n",
      "Specified future encoders in `add_encoders` at model creation but model does not accept future covariates. future encoders will be ignored.\n",
      "/home/eduardo/Documentos/Water-Cycle-Neural-Network/venv/lib/python3.12/site-packages/torch/nn/modules/transformer.py:382: UserWarning: enable_nested_tensor is True, but self.use_nested_tensor is False because encoder_layer.self_attn.batch_first was not True(use batch_first for better inference performance)\n",
      "  warnings.warn(\n",
      "GPU available: True (cuda), used: True\n",
      "TPU available: False, using: 0 TPU cores\n",
      "HPU available: False, using: 0 HPUs\n",
      "LOCAL_RANK: 0 - CUDA_VISIBLE_DEVICES: [0]\n"
     ]
    },
    {
     "name": "stdout",
     "output_type": "stream",
     "text": [
      "Starting time series verification for consistency...\n",
      "\n",
      "Performance metrics:\n",
      "                                    MSE        RMSE         MAE          R2  \\\n",
      "Temperature                    7.125000    2.669269    2.143246    0.766380   \n",
      "Precipitation_accumulated   1737.554544   41.683984   35.507563 -502.958860   \n",
      "Humidity                      64.995681    8.061990    6.136632    0.556539   \n",
      "Wind_Speed_kmh                 1.230692    1.109366    0.909428    0.088765   \n",
      "Soil_Moisture              80530.275868  283.778568  237.118086   -0.393449   \n",
      "Soil_Temperature               9.376383    3.062088    2.530543    0.419725   \n",
      "Wind_Dir_Sin                   0.550246    0.741786    0.633425   -0.000542   \n",
      "Wind_Dir_Cos                   0.356807    0.597333    0.499073    0.029556   \n",
      "\n",
      "                                SMAPE  \n",
      "Temperature                 37.122377  \n",
      "Precipitation_accumulated    8.045644  \n",
      "Humidity                     7.405587  \n",
      "Wind_Speed_kmh              72.347197  \n",
      "Soil_Moisture                2.708322  \n",
      "Soil_Temperature            57.850492  \n",
      "Wind_Dir_Sin               130.520464  \n",
      "Wind_Dir_Cos               125.699536  \n",
      "The MAE for this fold was 0.12446917185593927\n",
      "Results of trial 74 saved in optuna_iteration_metrics/trial_74.json\n",
      "Current value: 0.12446917185593927, Current params: {'input_chunk_length': 24, 'output_chunk_length': 3, 'dropout': 0.10081450361809925, 'batch_size': 167, 'lr': 0.0005323835935783579, 'weight_decay': 0.0021477713712690703, 'd_model': 128, 'nhead': 4, 'num_encoder_layers': 1, 'num_decoder_layers': 1, 'activation': 'GELU', 'loss_fn': 'smoothl1', 'optimizer': 'AdamW'}\n",
      "Best value: 0.12446917185593927, Best params: {'input_chunk_length': 24, 'output_chunk_length': 3, 'dropout': 0.10081450361809925, 'batch_size': 167, 'lr': 0.0005323835935783579, 'weight_decay': 0.0021477713712690703, 'd_model': 128, 'nhead': 4, 'num_encoder_layers': 1, 'num_decoder_layers': 1, 'activation': 'GELU', 'loss_fn': 'smoothl1', 'optimizer': 'AdamW'}\n",
      "\n",
      "Starting Trial 75\n",
      "Hyperparameters: {'input_chunk_length': 24, 'output_chunk_length': 3, 'dropout': 0.10799853097776503, 'batch_size': 176, 'lr': 0.0005881528026825187, 'weight_decay': 0.0006880063209028265, 'd_model': 128, 'nhead': 4, 'num_encoder_layers': 1, 'num_decoder_layers': 1, 'activation': 'GELU', 'loss_fn': 'smoothl1', 'optimizer': 'AdamW'}\n",
      "\n",
      "Training the model...\n",
      "Train set: 6647 samples\n",
      "Validation set: 1662 samples\n"
     ]
    },
    {
     "name": "stderr",
     "output_type": "stream",
     "text": [
      "Metric val_loss improved. New best score: 0.033\n",
      "Metric val_loss improved by 0.005 >= min_delta = 0.0005. New best score: 0.028\n",
      "Metric val_loss improved by 0.004 >= min_delta = 0.0005. New best score: 0.024\n",
      "Metric val_loss improved by 0.002 >= min_delta = 0.0005. New best score: 0.022\n",
      "Metric val_loss improved by 0.002 >= min_delta = 0.0005. New best score: 0.020\n",
      "Metric val_loss improved by 0.002 >= min_delta = 0.0005. New best score: 0.018\n",
      "Metric val_loss improved by 0.001 >= min_delta = 0.0005. New best score: 0.017\n",
      "Metric val_loss improved by 0.001 >= min_delta = 0.0005. New best score: 0.016\n",
      "Monitored metric val_loss did not improve in the last 15 records. Best score: 0.016. Signaling Trainer to stop.\n",
      "/home/eduardo/Documentos/Water-Cycle-Neural-Network/venv/lib/python3.12/site-packages/torch/nn/modules/transformer.py:382: UserWarning: enable_nested_tensor is True, but self.use_nested_tensor is False because encoder_layer.self_attn.batch_first was not True(use batch_first for better inference performance)\n",
      "  warnings.warn(\n",
      "GPU available: True (cuda), used: True\n",
      "TPU available: False, using: 0 TPU cores\n",
      "HPU available: False, using: 0 HPUs\n",
      "LOCAL_RANK: 0 - CUDA_VISIBLE_DEVICES: [0]\n",
      "/home/eduardo/Documentos/Water-Cycle-Neural-Network/venv/lib/python3.12/site-packages/pytorch_lightning/trainer/connectors/data_connector.py:425: The 'predict_dataloader' does not have many workers which may be a bottleneck. Consider increasing the value of the `num_workers` argument` to `num_workers=11` in the `DataLoader` to improve performance.\n"
     ]
    },
    {
     "name": "stdout",
     "output_type": "stream",
     "text": [
      "Model loaded from checkpoint for trial 75\n"
     ]
    },
    {
     "name": "stderr",
     "output_type": "stream",
     "text": [
      "[I 2025-05-26 12:44:33,522] Trial 75 finished with value: 0.126434009524798 and parameters: {'input_chunk_length': 24, 'output_chunk_length': 3, 'dropout': 0.10799853097776503, 'batch_size': 176, 'lr': 0.0005881528026825187, 'weight_decay': 0.0006880063209028265, 'd_model': 128, 'nhead': 4, 'num_encoder_layers': 1, 'num_decoder_layers': 1, 'activation': 'GELU', 'loss_fn': 'smoothl1', 'optimizer': 'AdamW'}. Best is trial 74 with value: 0.12446917185593927.\n",
      "Specified future encoders in `add_encoders` at model creation but model does not accept future covariates. future encoders will be ignored.\n"
     ]
    },
    {
     "name": "stdout",
     "output_type": "stream",
     "text": [
      "Starting time series verification for consistency...\n",
      "\n",
      "Performance metrics:\n",
      "                                    MSE        RMSE         MAE          R2  \\\n",
      "Temperature                    7.389263    2.718320    2.205424    0.757715   \n",
      "Precipitation_accumulated   2717.371394   52.128413   43.876991 -787.144117   \n",
      "Humidity                      76.146693    8.726207    6.862499    0.480456   \n",
      "Wind_Speed_kmh                 1.262558    1.123636    0.926727    0.065171   \n",
      "Soil_Moisture              42124.111550  205.241593  166.760938    0.271109   \n",
      "Soil_Temperature               7.087525    2.662241    2.194227    0.561376   \n",
      "Wind_Dir_Sin                   0.528475    0.726963    0.643665    0.039044   \n",
      "Wind_Dir_Cos                   0.366183    0.605131    0.503653    0.004055   \n",
      "\n",
      "                                SMAPE  \n",
      "Temperature                 36.702264  \n",
      "Precipitation_accumulated   10.099515  \n",
      "Humidity                     8.053193  \n",
      "Wind_Speed_kmh              72.796476  \n",
      "Soil_Moisture                1.946897  \n",
      "Soil_Temperature            41.263018  \n",
      "Wind_Dir_Sin               139.288007  \n",
      "Wind_Dir_Cos               124.039953  \n",
      "The MAE for this fold was 0.126434009524798\n",
      "Results of trial 75 saved in optuna_iteration_metrics/trial_75.json\n",
      "Current value: 0.126434009524798, Current params: {'input_chunk_length': 24, 'output_chunk_length': 3, 'dropout': 0.10799853097776503, 'batch_size': 176, 'lr': 0.0005881528026825187, 'weight_decay': 0.0006880063209028265, 'd_model': 128, 'nhead': 4, 'num_encoder_layers': 1, 'num_decoder_layers': 1, 'activation': 'GELU', 'loss_fn': 'smoothl1', 'optimizer': 'AdamW'}\n",
      "Best value: 0.12446917185593927, Best params: {'input_chunk_length': 24, 'output_chunk_length': 3, 'dropout': 0.10081450361809925, 'batch_size': 167, 'lr': 0.0005323835935783579, 'weight_decay': 0.0021477713712690703, 'd_model': 128, 'nhead': 4, 'num_encoder_layers': 1, 'num_decoder_layers': 1, 'activation': 'GELU', 'loss_fn': 'smoothl1', 'optimizer': 'AdamW'}\n",
      "\n",
      "Starting Trial 76\n",
      "Hyperparameters: {'input_chunk_length': 24, 'output_chunk_length': 2, 'dropout': 0.11702121515663776, 'batch_size': 175, 'lr': 0.0006559560833686184, 'weight_decay': 0.0008630708028633291, 'd_model': 128, 'nhead': 4, 'num_encoder_layers': 1, 'num_decoder_layers': 1, 'activation': 'GELU', 'loss_fn': 'smoothl1', 'optimizer': 'AdamW'}\n",
      "\n",
      "Training the model...\n",
      "Train set: 6647 samples\n",
      "Validation set: 1662 samples\n"
     ]
    },
    {
     "name": "stderr",
     "output_type": "stream",
     "text": [
      "/home/eduardo/Documentos/Water-Cycle-Neural-Network/venv/lib/python3.12/site-packages/torch/nn/modules/transformer.py:382: UserWarning: enable_nested_tensor is True, but self.use_nested_tensor is False because encoder_layer.self_attn.batch_first was not True(use batch_first for better inference performance)\n",
      "  warnings.warn(\n",
      "GPU available: True (cuda), used: True\n",
      "TPU available: False, using: 0 TPU cores\n",
      "HPU available: False, using: 0 HPUs\n",
      "LOCAL_RANK: 0 - CUDA_VISIBLE_DEVICES: [0]\n",
      "Metric val_loss improved. New best score: 0.031\n",
      "Metric val_loss improved by 0.004 >= min_delta = 0.0005. New best score: 0.026\n",
      "Metric val_loss improved by 0.005 >= min_delta = 0.0005. New best score: 0.021\n",
      "Metric val_loss improved by 0.002 >= min_delta = 0.0005. New best score: 0.020\n",
      "Metric val_loss improved by 0.001 >= min_delta = 0.0005. New best score: 0.019\n",
      "Metric val_loss improved by 0.001 >= min_delta = 0.0005. New best score: 0.018\n",
      "Metric val_loss improved by 0.001 >= min_delta = 0.0005. New best score: 0.017\n",
      "Metric val_loss improved by 0.001 >= min_delta = 0.0005. New best score: 0.016\n",
      "Monitored metric val_loss did not improve in the last 15 records. Best score: 0.016. Signaling Trainer to stop.\n",
      "/home/eduardo/Documentos/Water-Cycle-Neural-Network/venv/lib/python3.12/site-packages/torch/nn/modules/transformer.py:382: UserWarning: enable_nested_tensor is True, but self.use_nested_tensor is False because encoder_layer.self_attn.batch_first was not True(use batch_first for better inference performance)\n",
      "  warnings.warn(\n",
      "GPU available: True (cuda), used: True\n",
      "TPU available: False, using: 0 TPU cores\n",
      "HPU available: False, using: 0 HPUs\n",
      "LOCAL_RANK: 0 - CUDA_VISIBLE_DEVICES: [0]\n",
      "/home/eduardo/Documentos/Water-Cycle-Neural-Network/venv/lib/python3.12/site-packages/pytorch_lightning/trainer/connectors/data_connector.py:425: The 'predict_dataloader' does not have many workers which may be a bottleneck. Consider increasing the value of the `num_workers` argument` to `num_workers=11` in the `DataLoader` to improve performance.\n"
     ]
    },
    {
     "name": "stdout",
     "output_type": "stream",
     "text": [
      "Model loaded from checkpoint for trial 76\n"
     ]
    },
    {
     "name": "stderr",
     "output_type": "stream",
     "text": [
      "[I 2025-05-26 12:45:57,195] Trial 76 finished with value: 0.1199554815569448 and parameters: {'input_chunk_length': 24, 'output_chunk_length': 2, 'dropout': 0.11702121515663776, 'batch_size': 175, 'lr': 0.0006559560833686184, 'weight_decay': 0.0008630708028633291, 'd_model': 128, 'nhead': 4, 'num_encoder_layers': 1, 'num_decoder_layers': 1, 'activation': 'GELU', 'loss_fn': 'smoothl1', 'optimizer': 'AdamW'}. Best is trial 76 with value: 0.1199554815569448.\n",
      "Specified future encoders in `add_encoders` at model creation but model does not accept future covariates. future encoders will be ignored.\n",
      "/home/eduardo/Documentos/Water-Cycle-Neural-Network/venv/lib/python3.12/site-packages/torch/nn/modules/transformer.py:382: UserWarning: enable_nested_tensor is True, but self.use_nested_tensor is False because encoder_layer.self_attn.batch_first was not True(use batch_first for better inference performance)\n",
      "  warnings.warn(\n",
      "GPU available: True (cuda), used: True\n",
      "TPU available: False, using: 0 TPU cores\n",
      "HPU available: False, using: 0 HPUs\n",
      "LOCAL_RANK: 0 - CUDA_VISIBLE_DEVICES: [0]\n"
     ]
    },
    {
     "name": "stdout",
     "output_type": "stream",
     "text": [
      "Starting time series verification for consistency...\n",
      "\n",
      "Performance metrics:\n",
      "                                    MSE        RMSE         MAE          R2  \\\n",
      "Temperature                    5.911201    2.431296    1.953790    0.806298   \n",
      "Precipitation_accumulated   2907.546625   53.921671   46.231686 -841.026645   \n",
      "Humidity                      51.135808    7.150931    5.694092    0.651129   \n",
      "Wind_Speed_kmh                 1.131051    1.063509    0.852637    0.162396   \n",
      "Soil_Moisture              39602.616689  199.004062  156.277620    0.316831   \n",
      "Soil_Temperature               5.510281    2.347399    1.917998    0.659211   \n",
      "Wind_Dir_Sin                   0.506418    0.711631    0.610134    0.079026   \n",
      "Wind_Dir_Cos                   0.358917    0.599097    0.499514    0.024162   \n",
      "\n",
      "                                SMAPE  \n",
      "Temperature                 32.140484  \n",
      "Precipitation_accumulated   10.653320  \n",
      "Humidity                     6.634629  \n",
      "Wind_Speed_kmh              71.122842  \n",
      "Soil_Moisture                1.829254  \n",
      "Soil_Temperature            42.490375  \n",
      "Wind_Dir_Sin               127.247446  \n",
      "Wind_Dir_Cos               126.092142  \n",
      "The MAE for this fold was 0.1199554815569448\n",
      "Results of trial 76 saved in optuna_iteration_metrics/trial_76.json\n",
      "Current value: 0.1199554815569448, Current params: {'input_chunk_length': 24, 'output_chunk_length': 2, 'dropout': 0.11702121515663776, 'batch_size': 175, 'lr': 0.0006559560833686184, 'weight_decay': 0.0008630708028633291, 'd_model': 128, 'nhead': 4, 'num_encoder_layers': 1, 'num_decoder_layers': 1, 'activation': 'GELU', 'loss_fn': 'smoothl1', 'optimizer': 'AdamW'}\n",
      "Best value: 0.1199554815569448, Best params: {'input_chunk_length': 24, 'output_chunk_length': 2, 'dropout': 0.11702121515663776, 'batch_size': 175, 'lr': 0.0006559560833686184, 'weight_decay': 0.0008630708028633291, 'd_model': 128, 'nhead': 4, 'num_encoder_layers': 1, 'num_decoder_layers': 1, 'activation': 'GELU', 'loss_fn': 'smoothl1', 'optimizer': 'AdamW'}\n",
      "\n",
      "Starting Trial 77\n",
      "Hyperparameters: {'input_chunk_length': 24, 'output_chunk_length': 2, 'dropout': 0.10318806667622696, 'batch_size': 174, 'lr': 0.0005890236792442174, 'weight_decay': 0.0007241004486532095, 'd_model': 128, 'nhead': 4, 'num_encoder_layers': 1, 'num_decoder_layers': 1, 'activation': 'GELU', 'loss_fn': 'huber', 'optimizer': 'AdamW'}\n",
      "\n",
      "Training the model...\n",
      "Train set: 6647 samples\n",
      "Validation set: 1662 samples\n"
     ]
    },
    {
     "name": "stderr",
     "output_type": "stream",
     "text": [
      "Metric val_loss improved. New best score: 0.033\n",
      "Metric val_loss improved by 0.008 >= min_delta = 0.0005. New best score: 0.025\n",
      "Metric val_loss improved by 0.004 >= min_delta = 0.0005. New best score: 0.020\n",
      "Metric val_loss improved by 0.001 >= min_delta = 0.0005. New best score: 0.019\n",
      "Metric val_loss improved by 0.001 >= min_delta = 0.0005. New best score: 0.018\n",
      "Metric val_loss improved by 0.001 >= min_delta = 0.0005. New best score: 0.017\n",
      "Metric val_loss improved by 0.001 >= min_delta = 0.0005. New best score: 0.016\n",
      "Metric val_loss improved by 0.001 >= min_delta = 0.0005. New best score: 0.015\n",
      "Monitored metric val_loss did not improve in the last 15 records. Best score: 0.015. Signaling Trainer to stop.\n",
      "/home/eduardo/Documentos/Water-Cycle-Neural-Network/venv/lib/python3.12/site-packages/torch/nn/modules/transformer.py:382: UserWarning: enable_nested_tensor is True, but self.use_nested_tensor is False because encoder_layer.self_attn.batch_first was not True(use batch_first for better inference performance)\n",
      "  warnings.warn(\n",
      "GPU available: True (cuda), used: True\n",
      "TPU available: False, using: 0 TPU cores\n",
      "HPU available: False, using: 0 HPUs\n",
      "LOCAL_RANK: 0 - CUDA_VISIBLE_DEVICES: [0]\n",
      "/home/eduardo/Documentos/Water-Cycle-Neural-Network/venv/lib/python3.12/site-packages/pytorch_lightning/trainer/connectors/data_connector.py:425: The 'predict_dataloader' does not have many workers which may be a bottleneck. Consider increasing the value of the `num_workers` argument` to `num_workers=11` in the `DataLoader` to improve performance.\n"
     ]
    },
    {
     "name": "stdout",
     "output_type": "stream",
     "text": [
      "Model loaded from checkpoint for trial 77\n"
     ]
    },
    {
     "name": "stderr",
     "output_type": "stream",
     "text": [
      "[I 2025-05-26 12:47:33,451] Trial 77 finished with value: 0.11625609988854241 and parameters: {'input_chunk_length': 24, 'output_chunk_length': 2, 'dropout': 0.10318806667622696, 'batch_size': 174, 'lr': 0.0005890236792442174, 'weight_decay': 0.0007241004486532095, 'd_model': 128, 'nhead': 4, 'num_encoder_layers': 1, 'num_decoder_layers': 1, 'activation': 'GELU', 'loss_fn': 'huber', 'optimizer': 'AdamW'}. Best is trial 77 with value: 0.11625609988854241.\n",
      "Specified future encoders in `add_encoders` at model creation but model does not accept future covariates. future encoders will be ignored.\n"
     ]
    },
    {
     "name": "stdout",
     "output_type": "stream",
     "text": [
      "Starting time series verification for consistency...\n",
      "\n",
      "Performance metrics:\n",
      "                                    MSE        RMSE         MAE          R2  \\\n",
      "Temperature                    5.439332    2.332237    1.890711    0.821760   \n",
      "Precipitation_accumulated   1984.599972   44.548849   40.177187 -573.740932   \n",
      "Humidity                      39.431475    6.279449    4.992001    0.730981   \n",
      "Wind_Speed_kmh                 1.065074    1.032024    0.843809    0.211256   \n",
      "Soil_Moisture              32612.148883  180.588341  142.066678    0.437421   \n",
      "Soil_Temperature               4.955418    2.226077    1.827874    0.693527   \n",
      "Wind_Dir_Sin                   0.493568    0.702544    0.614397    0.102396   \n",
      "Wind_Dir_Cos                   0.344218    0.586701    0.494519    0.064128   \n",
      "\n",
      "                                SMAPE  \n",
      "Temperature                 32.982961  \n",
      "Precipitation_accumulated    9.122970  \n",
      "Humidity                     5.872720  \n",
      "Wind_Speed_kmh              69.851748  \n",
      "Soil_Moisture                1.650855  \n",
      "Soil_Temperature            37.215999  \n",
      "Wind_Dir_Sin               130.948338  \n",
      "Wind_Dir_Cos               128.333031  \n",
      "The MAE for this fold was 0.11625609988854241\n",
      "Results of trial 77 saved in optuna_iteration_metrics/trial_77.json\n",
      "Current value: 0.11625609988854241, Current params: {'input_chunk_length': 24, 'output_chunk_length': 2, 'dropout': 0.10318806667622696, 'batch_size': 174, 'lr': 0.0005890236792442174, 'weight_decay': 0.0007241004486532095, 'd_model': 128, 'nhead': 4, 'num_encoder_layers': 1, 'num_decoder_layers': 1, 'activation': 'GELU', 'loss_fn': 'huber', 'optimizer': 'AdamW'}\n",
      "Best value: 0.11625609988854241, Best params: {'input_chunk_length': 24, 'output_chunk_length': 2, 'dropout': 0.10318806667622696, 'batch_size': 174, 'lr': 0.0005890236792442174, 'weight_decay': 0.0007241004486532095, 'd_model': 128, 'nhead': 4, 'num_encoder_layers': 1, 'num_decoder_layers': 1, 'activation': 'GELU', 'loss_fn': 'huber', 'optimizer': 'AdamW'}\n",
      "\n",
      "Starting Trial 78\n",
      "Hyperparameters: {'input_chunk_length': 24, 'output_chunk_length': 1, 'dropout': 0.100918760379299, 'batch_size': 166, 'lr': 0.000580927070091329, 'weight_decay': 0.0007402811757137621, 'd_model': 128, 'nhead': 4, 'num_encoder_layers': 1, 'num_decoder_layers': 1, 'activation': 'Bilinear', 'loss_fn': 'huber', 'optimizer': 'AdamW'}\n",
      "\n",
      "Training the model...\n",
      "Train set: 6647 samples\n",
      "Validation set: 1662 samples\n"
     ]
    },
    {
     "name": "stderr",
     "output_type": "stream",
     "text": [
      "/home/eduardo/Documentos/Water-Cycle-Neural-Network/venv/lib/python3.12/site-packages/torch/nn/modules/transformer.py:382: UserWarning: enable_nested_tensor is True, but self.use_nested_tensor is False because encoder_layer.self_attn.batch_first was not True(use batch_first for better inference performance)\n",
      "  warnings.warn(\n",
      "GPU available: True (cuda), used: True\n",
      "TPU available: False, using: 0 TPU cores\n",
      "HPU available: False, using: 0 HPUs\n",
      "LOCAL_RANK: 0 - CUDA_VISIBLE_DEVICES: [0]\n",
      "Metric val_loss improved. New best score: 0.021\n",
      "Metric val_loss improved by 0.004 >= min_delta = 0.0005. New best score: 0.017\n",
      "Metric val_loss improved by 0.001 >= min_delta = 0.0005. New best score: 0.016\n",
      "Monitored metric val_loss did not improve in the last 15 records. Best score: 0.016. Signaling Trainer to stop.\n",
      "/home/eduardo/Documentos/Water-Cycle-Neural-Network/venv/lib/python3.12/site-packages/torch/nn/modules/transformer.py:382: UserWarning: enable_nested_tensor is True, but self.use_nested_tensor is False because encoder_layer.self_attn.batch_first was not True(use batch_first for better inference performance)\n",
      "  warnings.warn(\n",
      "GPU available: True (cuda), used: True\n",
      "TPU available: False, using: 0 TPU cores\n",
      "HPU available: False, using: 0 HPUs\n",
      "LOCAL_RANK: 0 - CUDA_VISIBLE_DEVICES: [0]\n",
      "/home/eduardo/Documentos/Water-Cycle-Neural-Network/venv/lib/python3.12/site-packages/pytorch_lightning/trainer/connectors/data_connector.py:425: The 'predict_dataloader' does not have many workers which may be a bottleneck. Consider increasing the value of the `num_workers` argument` to `num_workers=11` in the `DataLoader` to improve performance.\n"
     ]
    },
    {
     "name": "stdout",
     "output_type": "stream",
     "text": [
      "Model loaded from checkpoint for trial 78\n"
     ]
    },
    {
     "name": "stderr",
     "output_type": "stream",
     "text": [
      "[I 2025-05-26 12:48:42,841] Trial 78 finished with value: 0.12204294573849435 and parameters: {'input_chunk_length': 24, 'output_chunk_length': 1, 'dropout': 0.100918760379299, 'batch_size': 166, 'lr': 0.000580927070091329, 'weight_decay': 0.0007402811757137621, 'd_model': 128, 'nhead': 4, 'num_encoder_layers': 1, 'num_decoder_layers': 1, 'activation': 'Bilinear', 'loss_fn': 'huber', 'optimizer': 'AdamW'}. Best is trial 77 with value: 0.11625609988854241.\n",
      "Specified future encoders in `add_encoders` at model creation but model does not accept future covariates. future encoders will be ignored.\n",
      "/home/eduardo/Documentos/Water-Cycle-Neural-Network/venv/lib/python3.12/site-packages/torch/nn/modules/transformer.py:382: UserWarning: enable_nested_tensor is True, but self.use_nested_tensor is False because encoder_layer.self_attn.batch_first was not True(use batch_first for better inference performance)\n",
      "  warnings.warn(\n",
      "GPU available: True (cuda), used: True\n",
      "TPU available: False, using: 0 TPU cores\n",
      "HPU available: False, using: 0 HPUs\n",
      "LOCAL_RANK: 0 - CUDA_VISIBLE_DEVICES: [0]\n"
     ]
    },
    {
     "name": "stdout",
     "output_type": "stream",
     "text": [
      "Starting time series verification for consistency...\n",
      "\n",
      "Performance metrics:\n",
      "                                    MSE        RMSE         MAE           R2  \\\n",
      "Temperature                    4.908444    2.215501    1.773574     0.839240   \n",
      "Precipitation_accumulated   4932.535552   70.232012   60.410887 -1425.312857   \n",
      "Humidity                      41.739197    6.460588    5.066188     0.715257   \n",
      "Wind_Speed_kmh                 1.258088    1.121645    0.940622     0.068739   \n",
      "Soil_Moisture              36480.688479  190.999184  150.656379     0.372595   \n",
      "Soil_Temperature              23.206143    4.817275    4.248671    -0.434408   \n",
      "Wind_Dir_Sin                   0.426124    0.652782    0.519198     0.224747   \n",
      "Wind_Dir_Cos                   0.340885    0.583853    0.471965     0.074138   \n",
      "\n",
      "                                SMAPE  \n",
      "Temperature                 31.482866  \n",
      "Precipitation_accumulated   14.218606  \n",
      "Humidity                     6.014989  \n",
      "Wind_Speed_kmh              72.549749  \n",
      "Soil_Moisture                1.758615  \n",
      "Soil_Temperature           107.829531  \n",
      "Wind_Dir_Sin               103.356234  \n",
      "Wind_Dir_Cos               112.457726  \n",
      "The MAE for this fold was 0.12204294573849435\n",
      "Results of trial 78 saved in optuna_iteration_metrics/trial_78.json\n",
      "Current value: 0.12204294573849435, Current params: {'input_chunk_length': 24, 'output_chunk_length': 1, 'dropout': 0.100918760379299, 'batch_size': 166, 'lr': 0.000580927070091329, 'weight_decay': 0.0007402811757137621, 'd_model': 128, 'nhead': 4, 'num_encoder_layers': 1, 'num_decoder_layers': 1, 'activation': 'Bilinear', 'loss_fn': 'huber', 'optimizer': 'AdamW'}\n",
      "Best value: 0.11625609988854241, Best params: {'input_chunk_length': 24, 'output_chunk_length': 2, 'dropout': 0.10318806667622696, 'batch_size': 174, 'lr': 0.0005890236792442174, 'weight_decay': 0.0007241004486532095, 'd_model': 128, 'nhead': 4, 'num_encoder_layers': 1, 'num_decoder_layers': 1, 'activation': 'GELU', 'loss_fn': 'huber', 'optimizer': 'AdamW'}\n",
      "\n",
      "Starting Trial 79\n",
      "Hyperparameters: {'input_chunk_length': 24, 'output_chunk_length': 1, 'dropout': 0.10200911494627093, 'batch_size': 153, 'lr': 0.0006157508739132336, 'weight_decay': 0.0006688128412389194, 'd_model': 128, 'nhead': 4, 'num_encoder_layers': 1, 'num_decoder_layers': 1, 'activation': 'Bilinear', 'loss_fn': 'huber', 'optimizer': 'AdamW'}\n",
      "\n",
      "Training the model...\n",
      "Train set: 6647 samples\n",
      "Validation set: 1662 samples\n"
     ]
    },
    {
     "name": "stderr",
     "output_type": "stream",
     "text": [
      "Metric val_loss improved. New best score: 0.027\n",
      "Metric val_loss improved by 0.006 >= min_delta = 0.0005. New best score: 0.022\n",
      "Metric val_loss improved by 0.003 >= min_delta = 0.0005. New best score: 0.019\n",
      "Metric val_loss improved by 0.001 >= min_delta = 0.0005. New best score: 0.017\n",
      "Metric val_loss improved by 0.001 >= min_delta = 0.0005. New best score: 0.016\n",
      "Monitored metric val_loss did not improve in the last 15 records. Best score: 0.016. Signaling Trainer to stop.\n",
      "/home/eduardo/Documentos/Water-Cycle-Neural-Network/venv/lib/python3.12/site-packages/torch/nn/modules/transformer.py:382: UserWarning: enable_nested_tensor is True, but self.use_nested_tensor is False because encoder_layer.self_attn.batch_first was not True(use batch_first for better inference performance)\n",
      "  warnings.warn(\n",
      "GPU available: True (cuda), used: True\n",
      "TPU available: False, using: 0 TPU cores\n",
      "HPU available: False, using: 0 HPUs\n",
      "LOCAL_RANK: 0 - CUDA_VISIBLE_DEVICES: [0]\n",
      "/home/eduardo/Documentos/Water-Cycle-Neural-Network/venv/lib/python3.12/site-packages/pytorch_lightning/trainer/connectors/data_connector.py:425: The 'predict_dataloader' does not have many workers which may be a bottleneck. Consider increasing the value of the `num_workers` argument` to `num_workers=11` in the `DataLoader` to improve performance.\n"
     ]
    },
    {
     "name": "stdout",
     "output_type": "stream",
     "text": [
      "Model loaded from checkpoint for trial 79\n"
     ]
    },
    {
     "name": "stderr",
     "output_type": "stream",
     "text": [
      "[I 2025-05-26 12:49:52,098] Trial 79 finished with value: 0.12292821637939733 and parameters: {'input_chunk_length': 24, 'output_chunk_length': 1, 'dropout': 0.10200911494627093, 'batch_size': 153, 'lr': 0.0006157508739132336, 'weight_decay': 0.0006688128412389194, 'd_model': 128, 'nhead': 4, 'num_encoder_layers': 1, 'num_decoder_layers': 1, 'activation': 'Bilinear', 'loss_fn': 'huber', 'optimizer': 'AdamW'}. Best is trial 77 with value: 0.11625609988854241.\n",
      "Specified future encoders in `add_encoders` at model creation but model does not accept future covariates. future encoders will be ignored.\n",
      "/home/eduardo/Documentos/Water-Cycle-Neural-Network/venv/lib/python3.12/site-packages/torch/nn/modules/transformer.py:382: UserWarning: enable_nested_tensor is True, but self.use_nested_tensor is False because encoder_layer.self_attn.batch_first was not True(use batch_first for better inference performance)\n",
      "  warnings.warn(\n",
      "GPU available: True (cuda), used: True\n"
     ]
    },
    {
     "name": "stdout",
     "output_type": "stream",
     "text": [
      "Starting time series verification for consistency...\n",
      "\n",
      "Performance metrics:\n",
      "                                     MSE        RMSE         MAE          R2  \\\n",
      "Temperature                     6.718179    2.591945    2.075565    0.779968   \n",
      "Precipitation_accumulated    1822.696065   42.693045   35.512677 -526.058509   \n",
      "Humidity                       86.126987    9.280463    7.645880    0.412445   \n",
      "Wind_Speed_kmh                  1.164053    1.078913    0.868910    0.138346   \n",
      "Soil_Moisture              202670.518821  450.189425  353.639246   -2.485582   \n",
      "Soil_Temperature                9.068860    3.011455    2.491060    0.439439   \n",
      "Wind_Dir_Sin                    0.456803    0.675872    0.558351    0.168933   \n",
      "Wind_Dir_Cos                    0.327236    0.572046    0.477955    0.111208   \n",
      "\n",
      "                                SMAPE  \n",
      "Temperature                 34.394472  \n",
      "Precipitation_accumulated    8.018197  \n",
      "Humidity                     8.792181  \n",
      "Wind_Speed_kmh              71.532903  \n",
      "Soil_Moisture                4.270580  \n",
      "Soil_Temperature            38.404042  \n",
      "Wind_Dir_Sin               114.070714  \n",
      "Wind_Dir_Cos               122.945150  \n",
      "The MAE for this fold was 0.12292821637939733\n",
      "Results of trial 79 saved in optuna_iteration_metrics/trial_79.json\n",
      "Current value: 0.12292821637939733, Current params: {'input_chunk_length': 24, 'output_chunk_length': 1, 'dropout': 0.10200911494627093, 'batch_size': 153, 'lr': 0.0006157508739132336, 'weight_decay': 0.0006688128412389194, 'd_model': 128, 'nhead': 4, 'num_encoder_layers': 1, 'num_decoder_layers': 1, 'activation': 'Bilinear', 'loss_fn': 'huber', 'optimizer': 'AdamW'}\n",
      "Best value: 0.11625609988854241, Best params: {'input_chunk_length': 24, 'output_chunk_length': 2, 'dropout': 0.10318806667622696, 'batch_size': 174, 'lr': 0.0005890236792442174, 'weight_decay': 0.0007241004486532095, 'd_model': 128, 'nhead': 4, 'num_encoder_layers': 1, 'num_decoder_layers': 1, 'activation': 'GELU', 'loss_fn': 'huber', 'optimizer': 'AdamW'}\n",
      "\n",
      "Starting Trial 80\n",
      "Hyperparameters: {'input_chunk_length': 24, 'output_chunk_length': 1, 'dropout': 0.1010502138010362, 'batch_size': 154, 'lr': 0.0006465024485553153, 'weight_decay': 0.0005820838610518821, 'd_model': 128, 'nhead': 4, 'num_encoder_layers': 1, 'num_decoder_layers': 1, 'activation': 'Bilinear', 'loss_fn': 'huber', 'optimizer': 'AdamW'}\n",
      "\n",
      "Training the model...\n",
      "Train set: 6647 samples\n",
      "Validation set: 1662 samples\n"
     ]
    },
    {
     "name": "stderr",
     "output_type": "stream",
     "text": [
      "TPU available: False, using: 0 TPU cores\n",
      "HPU available: False, using: 0 HPUs\n",
      "LOCAL_RANK: 0 - CUDA_VISIBLE_DEVICES: [0]\n",
      "Metric val_loss improved. New best score: 0.022\n",
      "Metric val_loss improved by 0.002 >= min_delta = 0.0005. New best score: 0.020\n",
      "Metric val_loss improved by 0.001 >= min_delta = 0.0005. New best score: 0.019\n",
      "Metric val_loss improved by 0.001 >= min_delta = 0.0005. New best score: 0.019\n",
      "Metric val_loss improved by 0.001 >= min_delta = 0.0005. New best score: 0.018\n",
      "Monitored metric val_loss did not improve in the last 15 records. Best score: 0.018. Signaling Trainer to stop.\n",
      "/home/eduardo/Documentos/Water-Cycle-Neural-Network/venv/lib/python3.12/site-packages/torch/nn/modules/transformer.py:382: UserWarning: enable_nested_tensor is True, but self.use_nested_tensor is False because encoder_layer.self_attn.batch_first was not True(use batch_first for better inference performance)\n",
      "  warnings.warn(\n",
      "GPU available: True (cuda), used: True\n",
      "TPU available: False, using: 0 TPU cores\n",
      "HPU available: False, using: 0 HPUs\n",
      "LOCAL_RANK: 0 - CUDA_VISIBLE_DEVICES: [0]\n",
      "/home/eduardo/Documentos/Water-Cycle-Neural-Network/venv/lib/python3.12/site-packages/pytorch_lightning/trainer/connectors/data_connector.py:425: The 'predict_dataloader' does not have many workers which may be a bottleneck. Consider increasing the value of the `num_workers` argument` to `num_workers=11` in the `DataLoader` to improve performance.\n"
     ]
    },
    {
     "name": "stdout",
     "output_type": "stream",
     "text": [
      "Model loaded from checkpoint for trial 80\n"
     ]
    },
    {
     "name": "stderr",
     "output_type": "stream",
     "text": [
      "[I 2025-05-26 12:51:11,286] Trial 80 finished with value: 0.13576999808561532 and parameters: {'input_chunk_length': 24, 'output_chunk_length': 1, 'dropout': 0.1010502138010362, 'batch_size': 154, 'lr': 0.0006465024485553153, 'weight_decay': 0.0005820838610518821, 'd_model': 128, 'nhead': 4, 'num_encoder_layers': 1, 'num_decoder_layers': 1, 'activation': 'Bilinear', 'loss_fn': 'huber', 'optimizer': 'AdamW'}. Best is trial 77 with value: 0.11625609988854241.\n",
      "Specified future encoders in `add_encoders` at model creation but model does not accept future covariates. future encoders will be ignored.\n",
      "/home/eduardo/Documentos/Water-Cycle-Neural-Network/venv/lib/python3.12/site-packages/torch/nn/modules/transformer.py:382: UserWarning: enable_nested_tensor is True, but self.use_nested_tensor is False because encoder_layer.self_attn.batch_first was not True(use batch_first for better inference performance)\n",
      "  warnings.warn(\n",
      "GPU available: True (cuda), used: True\n",
      "TPU available: False, using: 0 TPU cores\n",
      "HPU available: False, using: 0 HPUs\n",
      "LOCAL_RANK: 0 - CUDA_VISIBLE_DEVICES: [0]\n"
     ]
    },
    {
     "name": "stdout",
     "output_type": "stream",
     "text": [
      "Starting time series verification for consistency...\n",
      "\n",
      "Performance metrics:\n",
      "                                     MSE        RMSE         MAE           R2  \\\n",
      "Temperature                     4.797680    2.190361    1.803836     0.842867   \n",
      "Precipitation_accumulated    9101.418184   95.401353   82.781814 -2630.804603   \n",
      "Humidity                       48.250025    6.946224    5.349113     0.670840   \n",
      "Wind_Speed_kmh                  1.233228    1.110508    0.913759     0.087140   \n",
      "Soil_Moisture              251398.066675  501.396118  425.218211    -3.323611   \n",
      "Soil_Temperature               11.791574    3.433886    2.896599     0.271144   \n",
      "Wind_Dir_Sin                    0.431618    0.656976    0.556397     0.214753   \n",
      "Wind_Dir_Cos                    0.361137    0.600947    0.489006     0.019132   \n",
      "\n",
      "                                SMAPE  \n",
      "Temperature                 32.003959  \n",
      "Precipitation_accumulated   20.213667  \n",
      "Humidity                     6.363227  \n",
      "Wind_Speed_kmh              72.916903  \n",
      "Soil_Moisture                4.799187  \n",
      "Soil_Temperature            71.230935  \n",
      "Wind_Dir_Sin               115.280994  \n",
      "Wind_Dir_Cos               115.235458  \n",
      "The MAE for this fold was 0.13576999808561532\n",
      "Results of trial 80 saved in optuna_iteration_metrics/trial_80.json\n",
      "Current value: 0.13576999808561532, Current params: {'input_chunk_length': 24, 'output_chunk_length': 1, 'dropout': 0.1010502138010362, 'batch_size': 154, 'lr': 0.0006465024485553153, 'weight_decay': 0.0005820838610518821, 'd_model': 128, 'nhead': 4, 'num_encoder_layers': 1, 'num_decoder_layers': 1, 'activation': 'Bilinear', 'loss_fn': 'huber', 'optimizer': 'AdamW'}\n",
      "Best value: 0.11625609988854241, Best params: {'input_chunk_length': 24, 'output_chunk_length': 2, 'dropout': 0.10318806667622696, 'batch_size': 174, 'lr': 0.0005890236792442174, 'weight_decay': 0.0007241004486532095, 'd_model': 128, 'nhead': 4, 'num_encoder_layers': 1, 'num_decoder_layers': 1, 'activation': 'GELU', 'loss_fn': 'huber', 'optimizer': 'AdamW'}\n",
      "\n",
      "Starting Trial 81\n",
      "Hyperparameters: {'input_chunk_length': 25, 'output_chunk_length': 1, 'dropout': 0.10336278096073061, 'batch_size': 166, 'lr': 0.0006457804502362744, 'weight_decay': 0.0006035111267364535, 'd_model': 128, 'nhead': 4, 'num_encoder_layers': 1, 'num_decoder_layers': 1, 'activation': 'Bilinear', 'loss_fn': 'huber', 'optimizer': 'AdamW'}\n",
      "\n",
      "Training the model...\n",
      "Train set: 6647 samples\n",
      "Validation set: 1662 samples\n"
     ]
    },
    {
     "name": "stderr",
     "output_type": "stream",
     "text": [
      "Metric val_loss improved. New best score: 0.024\n",
      "Metric val_loss improved by 0.003 >= min_delta = 0.0005. New best score: 0.021\n",
      "Metric val_loss improved by 0.002 >= min_delta = 0.0005. New best score: 0.019\n",
      "Metric val_loss improved by 0.003 >= min_delta = 0.0005. New best score: 0.017\n",
      "Metric val_loss improved by 0.001 >= min_delta = 0.0005. New best score: 0.016\n",
      "Monitored metric val_loss did not improve in the last 15 records. Best score: 0.016. Signaling Trainer to stop.\n",
      "/home/eduardo/Documentos/Water-Cycle-Neural-Network/venv/lib/python3.12/site-packages/torch/nn/modules/transformer.py:382: UserWarning: enable_nested_tensor is True, but self.use_nested_tensor is False because encoder_layer.self_attn.batch_first was not True(use batch_first for better inference performance)\n",
      "  warnings.warn(\n",
      "GPU available: True (cuda), used: True\n",
      "TPU available: False, using: 0 TPU cores\n",
      "HPU available: False, using: 0 HPUs\n",
      "LOCAL_RANK: 0 - CUDA_VISIBLE_DEVICES: [0]\n",
      "/home/eduardo/Documentos/Water-Cycle-Neural-Network/venv/lib/python3.12/site-packages/pytorch_lightning/trainer/connectors/data_connector.py:425: The 'predict_dataloader' does not have many workers which may be a bottleneck. Consider increasing the value of the `num_workers` argument` to `num_workers=11` in the `DataLoader` to improve performance.\n"
     ]
    },
    {
     "name": "stdout",
     "output_type": "stream",
     "text": [
      "Model loaded from checkpoint for trial 81\n"
     ]
    },
    {
     "name": "stderr",
     "output_type": "stream",
     "text": [
      "[I 2025-05-26 12:52:34,385] Trial 81 finished with value: 0.12270042054000967 and parameters: {'input_chunk_length': 25, 'output_chunk_length': 1, 'dropout': 0.10336278096073061, 'batch_size': 166, 'lr': 0.0006457804502362744, 'weight_decay': 0.0006035111267364535, 'd_model': 128, 'nhead': 4, 'num_encoder_layers': 1, 'num_decoder_layers': 1, 'activation': 'Bilinear', 'loss_fn': 'huber', 'optimizer': 'AdamW'}. Best is trial 77 with value: 0.11625609988854241.\n",
      "Specified future encoders in `add_encoders` at model creation but model does not accept future covariates. future encoders will be ignored.\n",
      "/home/eduardo/Documentos/Water-Cycle-Neural-Network/venv/lib/python3.12/site-packages/torch/nn/modules/transformer.py:382: UserWarning: enable_nested_tensor is True, but self.use_nested_tensor is False because encoder_layer.self_attn.batch_first was not True(use batch_first for better inference performance)\n",
      "  warnings.warn(\n",
      "GPU available: True (cuda), used: True\n",
      "TPU available: False, using: 0 TPU cores\n",
      "HPU available: False, using: 0 HPUs\n",
      "LOCAL_RANK: 0 - CUDA_VISIBLE_DEVICES: [0]\n"
     ]
    },
    {
     "name": "stdout",
     "output_type": "stream",
     "text": [
      "Starting time series verification for consistency...\n",
      "\n",
      "Performance metrics:\n",
      "                                    MSE        RMSE         MAE           R2  \\\n",
      "Temperature                    6.407601    2.531324    2.024272     0.790031   \n",
      "Precipitation_accumulated   5783.980098   76.052483   62.485938 -1674.042909   \n",
      "Humidity                      44.251223    6.652159    5.428833     0.698098   \n",
      "Wind_Speed_kmh                 1.230162    1.109127    0.924683     0.088999   \n",
      "Soil_Moisture              80672.728861  284.029451  226.399334    -0.391654   \n",
      "Soil_Temperature               7.898113    2.810358    2.297486     0.511533   \n",
      "Wind_Dir_Sin                   0.395775    0.629107    0.538076     0.280242   \n",
      "Wind_Dir_Cos                   0.349396    0.591098    0.482164     0.050048   \n",
      "\n",
      "                                SMAPE  \n",
      "Temperature                 35.841778  \n",
      "Precipitation_accumulated   14.907327  \n",
      "Humidity                     6.320550  \n",
      "Wind_Speed_kmh              72.176606  \n",
      "Soil_Moisture                2.690980  \n",
      "Soil_Temperature            45.448536  \n",
      "Wind_Dir_Sin               111.080568  \n",
      "Wind_Dir_Cos               116.480692  \n",
      "The MAE for this fold was 0.12270042054000967\n",
      "Results of trial 81 saved in optuna_iteration_metrics/trial_81.json\n",
      "Current value: 0.12270042054000967, Current params: {'input_chunk_length': 25, 'output_chunk_length': 1, 'dropout': 0.10336278096073061, 'batch_size': 166, 'lr': 0.0006457804502362744, 'weight_decay': 0.0006035111267364535, 'd_model': 128, 'nhead': 4, 'num_encoder_layers': 1, 'num_decoder_layers': 1, 'activation': 'Bilinear', 'loss_fn': 'huber', 'optimizer': 'AdamW'}\n",
      "Best value: 0.11625609988854241, Best params: {'input_chunk_length': 24, 'output_chunk_length': 2, 'dropout': 0.10318806667622696, 'batch_size': 174, 'lr': 0.0005890236792442174, 'weight_decay': 0.0007241004486532095, 'd_model': 128, 'nhead': 4, 'num_encoder_layers': 1, 'num_decoder_layers': 1, 'activation': 'GELU', 'loss_fn': 'huber', 'optimizer': 'AdamW'}\n",
      "\n",
      "Starting Trial 82\n",
      "Hyperparameters: {'input_chunk_length': 25, 'output_chunk_length': 3, 'dropout': 0.11311771113015279, 'batch_size': 166, 'lr': 0.0005983997368849614, 'weight_decay': 0.0007427072904448133, 'd_model': 128, 'nhead': 4, 'num_encoder_layers': 1, 'num_decoder_layers': 1, 'activation': 'Bilinear', 'loss_fn': 'huber', 'optimizer': 'AdamW'}\n",
      "\n",
      "Training the model...\n",
      "Train set: 6647 samples\n",
      "Validation set: 1662 samples\n"
     ]
    },
    {
     "name": "stderr",
     "output_type": "stream",
     "text": [
      "Metric val_loss improved. New best score: 0.027\n",
      "Metric val_loss improved by 0.006 >= min_delta = 0.0005. New best score: 0.021\n",
      "Metric val_loss improved by 0.001 >= min_delta = 0.0005. New best score: 0.020\n",
      "Metric val_loss improved by 0.001 >= min_delta = 0.0005. New best score: 0.019\n",
      "Monitored metric val_loss did not improve in the last 15 records. Best score: 0.019. Signaling Trainer to stop.\n",
      "/home/eduardo/Documentos/Water-Cycle-Neural-Network/venv/lib/python3.12/site-packages/torch/nn/modules/transformer.py:382: UserWarning: enable_nested_tensor is True, but self.use_nested_tensor is False because encoder_layer.self_attn.batch_first was not True(use batch_first for better inference performance)\n",
      "  warnings.warn(\n",
      "GPU available: True (cuda), used: True\n",
      "TPU available: False, using: 0 TPU cores\n",
      "HPU available: False, using: 0 HPUs\n",
      "LOCAL_RANK: 0 - CUDA_VISIBLE_DEVICES: [0]\n",
      "/home/eduardo/Documentos/Water-Cycle-Neural-Network/venv/lib/python3.12/site-packages/pytorch_lightning/trainer/connectors/data_connector.py:425: The 'predict_dataloader' does not have many workers which may be a bottleneck. Consider increasing the value of the `num_workers` argument` to `num_workers=11` in the `DataLoader` to improve performance.\n"
     ]
    },
    {
     "name": "stdout",
     "output_type": "stream",
     "text": [
      "Model loaded from checkpoint for trial 82\n"
     ]
    },
    {
     "name": "stderr",
     "output_type": "stream",
     "text": [
      "[I 2025-05-26 12:53:41,075] Trial 82 finished with value: 0.14250786827368778 and parameters: {'input_chunk_length': 25, 'output_chunk_length': 3, 'dropout': 0.11311771113015279, 'batch_size': 166, 'lr': 0.0005983997368849614, 'weight_decay': 0.0007427072904448133, 'd_model': 128, 'nhead': 4, 'num_encoder_layers': 1, 'num_decoder_layers': 1, 'activation': 'Bilinear', 'loss_fn': 'huber', 'optimizer': 'AdamW'}. Best is trial 77 with value: 0.11625609988854241.\n",
      "Specified future encoders in `add_encoders` at model creation but model does not accept future covariates. future encoders will be ignored.\n"
     ]
    },
    {
     "name": "stdout",
     "output_type": "stream",
     "text": [
      "Starting time series verification for consistency...\n",
      "\n",
      "Performance metrics:\n",
      "                                     MSE        RMSE         MAE           R2  \\\n",
      "Temperature                     9.927218    3.150749    2.510730     0.674323   \n",
      "Precipitation_accumulated    9191.102498   95.870238   84.897645 -2668.836558   \n",
      "Humidity                       69.062356    8.310376    6.933778     0.528758   \n",
      "Wind_Speed_kmh                  1.209149    1.099613    0.893001     0.105258   \n",
      "Soil_Moisture              109077.301644  330.268530  250.800060    -0.893637   \n",
      "Soil_Temperature                9.796705    3.129969    2.574126     0.393268   \n",
      "Wind_Dir_Sin                    0.532363    0.729632    0.647621     0.032306   \n",
      "Wind_Dir_Cos                    0.396619    0.629777    0.517637    -0.079705   \n",
      "\n",
      "                                SMAPE  \n",
      "Temperature                 38.182046  \n",
      "Precipitation_accumulated   20.683571  \n",
      "Humidity                     8.106721  \n",
      "Wind_Speed_kmh              72.815761  \n",
      "Soil_Moisture                2.969624  \n",
      "Soil_Temperature            51.177419  \n",
      "Wind_Dir_Sin               141.755842  \n",
      "Wind_Dir_Cos               118.204915  \n",
      "The MAE for this fold was 0.14250786827368778\n",
      "Results of trial 82 saved in optuna_iteration_metrics/trial_82.json\n",
      "Current value: 0.14250786827368778, Current params: {'input_chunk_length': 25, 'output_chunk_length': 3, 'dropout': 0.11311771113015279, 'batch_size': 166, 'lr': 0.0005983997368849614, 'weight_decay': 0.0007427072904448133, 'd_model': 128, 'nhead': 4, 'num_encoder_layers': 1, 'num_decoder_layers': 1, 'activation': 'Bilinear', 'loss_fn': 'huber', 'optimizer': 'AdamW'}\n",
      "Best value: 0.11625609988854241, Best params: {'input_chunk_length': 24, 'output_chunk_length': 2, 'dropout': 0.10318806667622696, 'batch_size': 174, 'lr': 0.0005890236792442174, 'weight_decay': 0.0007241004486532095, 'd_model': 128, 'nhead': 4, 'num_encoder_layers': 1, 'num_decoder_layers': 1, 'activation': 'GELU', 'loss_fn': 'huber', 'optimizer': 'AdamW'}\n",
      "\n",
      "Starting Trial 83\n",
      "Hyperparameters: {'input_chunk_length': 27, 'output_chunk_length': 2, 'dropout': 0.12222309380220026, 'batch_size': 177, 'lr': 0.0011278334095788612, 'weight_decay': 0.0004552395768632174, 'd_model': 128, 'nhead': 4, 'num_encoder_layers': 1, 'num_decoder_layers': 1, 'activation': 'Bilinear', 'loss_fn': 'huber', 'optimizer': 'AdamW'}\n",
      "\n",
      "Training the model...\n",
      "Train set: 6647 samples\n",
      "Validation set: 1662 samples\n"
     ]
    },
    {
     "name": "stderr",
     "output_type": "stream",
     "text": [
      "/home/eduardo/Documentos/Water-Cycle-Neural-Network/venv/lib/python3.12/site-packages/torch/nn/modules/transformer.py:382: UserWarning: enable_nested_tensor is True, but self.use_nested_tensor is False because encoder_layer.self_attn.batch_first was not True(use batch_first for better inference performance)\n",
      "  warnings.warn(\n",
      "GPU available: True (cuda), used: True\n",
      "TPU available: False, using: 0 TPU cores\n",
      "HPU available: False, using: 0 HPUs\n",
      "LOCAL_RANK: 0 - CUDA_VISIBLE_DEVICES: [0]\n",
      "Metric val_loss improved. New best score: 0.025\n",
      "Metric val_loss improved by 0.006 >= min_delta = 0.0005. New best score: 0.019\n",
      "Metric val_loss improved by 0.001 >= min_delta = 0.0005. New best score: 0.018\n",
      "Monitored metric val_loss did not improve in the last 15 records. Best score: 0.018. Signaling Trainer to stop.\n",
      "/home/eduardo/Documentos/Water-Cycle-Neural-Network/venv/lib/python3.12/site-packages/torch/nn/modules/transformer.py:382: UserWarning: enable_nested_tensor is True, but self.use_nested_tensor is False because encoder_layer.self_attn.batch_first was not True(use batch_first for better inference performance)\n",
      "  warnings.warn(\n",
      "GPU available: True (cuda), used: True\n",
      "TPU available: False, using: 0 TPU cores\n",
      "HPU available: False, using: 0 HPUs\n",
      "LOCAL_RANK: 0 - CUDA_VISIBLE_DEVICES: [0]\n",
      "/home/eduardo/Documentos/Water-Cycle-Neural-Network/venv/lib/python3.12/site-packages/pytorch_lightning/trainer/connectors/data_connector.py:425: The 'predict_dataloader' does not have many workers which may be a bottleneck. Consider increasing the value of the `num_workers` argument` to `num_workers=11` in the `DataLoader` to improve performance.\n"
     ]
    },
    {
     "name": "stdout",
     "output_type": "stream",
     "text": [
      "Model loaded from checkpoint for trial 83\n"
     ]
    },
    {
     "name": "stderr",
     "output_type": "stream",
     "text": [
      "[I 2025-05-26 12:54:48,283] Trial 83 finished with value: 0.1360878475573592 and parameters: {'input_chunk_length': 27, 'output_chunk_length': 2, 'dropout': 0.12222309380220026, 'batch_size': 177, 'lr': 0.0011278334095788612, 'weight_decay': 0.0004552395768632174, 'd_model': 128, 'nhead': 4, 'num_encoder_layers': 1, 'num_decoder_layers': 1, 'activation': 'Bilinear', 'loss_fn': 'huber', 'optimizer': 'AdamW'}. Best is trial 77 with value: 0.11625609988854241.\n",
      "Specified future encoders in `add_encoders` at model creation but model does not accept future covariates. future encoders will be ignored.\n",
      "/home/eduardo/Documentos/Water-Cycle-Neural-Network/venv/lib/python3.12/site-packages/torch/nn/modules/transformer.py:382: UserWarning: enable_nested_tensor is True, but self.use_nested_tensor is False because encoder_layer.self_attn.batch_first was not True(use batch_first for better inference performance)\n",
      "  warnings.warn(\n",
      "GPU available: True (cuda), used: True\n",
      "TPU available: False, using: 0 TPU cores\n",
      "HPU available: False, using: 0 HPUs\n",
      "LOCAL_RANK: 0 - CUDA_VISIBLE_DEVICES: [0]\n"
     ]
    },
    {
     "name": "stdout",
     "output_type": "stream",
     "text": [
      "Starting time series verification for consistency...\n",
      "\n",
      "Performance metrics:\n",
      "                                     MSE        RMSE         MAE           R2  \\\n",
      "Temperature                     9.378327    3.062405    2.458202     0.692124   \n",
      "Precipitation_accumulated    4016.164988   63.373220   53.088454 -1167.401196   \n",
      "Humidity                       52.804801    7.266691    5.779302     0.639664   \n",
      "Wind_Speed_kmh                  1.223826    1.106267    0.896234     0.093298   \n",
      "Soil_Moisture              174752.257621  418.033800  354.046136    -2.043858   \n",
      "Soil_Temperature               22.196902    4.711359    4.175990    -0.375837   \n",
      "Wind_Dir_Sin                    0.544085    0.737621    0.616989     0.011308   \n",
      "Wind_Dir_Cos                    0.375801    0.613026    0.502529    -0.023882   \n",
      "\n",
      "                                SMAPE  \n",
      "Temperature                 39.213695  \n",
      "Precipitation_accumulated   12.406185  \n",
      "Humidity                     6.916244  \n",
      "Wind_Speed_kmh              71.749406  \n",
      "Soil_Moisture                3.996805  \n",
      "Soil_Temperature            98.240922  \n",
      "Wind_Dir_Sin               126.607178  \n",
      "Wind_Dir_Cos               121.434978  \n",
      "The MAE for this fold was 0.1360878475573592\n",
      "Results of trial 83 saved in optuna_iteration_metrics/trial_83.json\n",
      "Current value: 0.1360878475573592, Current params: {'input_chunk_length': 27, 'output_chunk_length': 2, 'dropout': 0.12222309380220026, 'batch_size': 177, 'lr': 0.0011278334095788612, 'weight_decay': 0.0004552395768632174, 'd_model': 128, 'nhead': 4, 'num_encoder_layers': 1, 'num_decoder_layers': 1, 'activation': 'Bilinear', 'loss_fn': 'huber', 'optimizer': 'AdamW'}\n",
      "Best value: 0.11625609988854241, Best params: {'input_chunk_length': 24, 'output_chunk_length': 2, 'dropout': 0.10318806667622696, 'batch_size': 174, 'lr': 0.0005890236792442174, 'weight_decay': 0.0007241004486532095, 'd_model': 128, 'nhead': 4, 'num_encoder_layers': 1, 'num_decoder_layers': 1, 'activation': 'GELU', 'loss_fn': 'huber', 'optimizer': 'AdamW'}\n",
      "\n",
      "Starting Trial 84\n",
      "Hyperparameters: {'input_chunk_length': 25, 'output_chunk_length': 1, 'dropout': 0.10002265916213327, 'batch_size': 163, 'lr': 0.001406416065690096, 'weight_decay': 0.00029240282646000664, 'd_model': 128, 'nhead': 4, 'num_encoder_layers': 1, 'num_decoder_layers': 1, 'activation': 'Bilinear', 'loss_fn': 'huber', 'optimizer': 'AdamW'}\n",
      "\n",
      "Training the model...\n",
      "Train set: 6647 samples\n",
      "Validation set: 1662 samples\n"
     ]
    },
    {
     "name": "stderr",
     "output_type": "stream",
     "text": [
      "Metric val_loss improved. New best score: 0.022\n",
      "Metric val_loss improved by 0.003 >= min_delta = 0.0005. New best score: 0.019\n",
      "Metric val_loss improved by 0.002 >= min_delta = 0.0005. New best score: 0.017\n",
      "Monitored metric val_loss did not improve in the last 15 records. Best score: 0.017. Signaling Trainer to stop.\n",
      "/home/eduardo/Documentos/Water-Cycle-Neural-Network/venv/lib/python3.12/site-packages/torch/nn/modules/transformer.py:382: UserWarning: enable_nested_tensor is True, but self.use_nested_tensor is False because encoder_layer.self_attn.batch_first was not True(use batch_first for better inference performance)\n",
      "  warnings.warn(\n",
      "GPU available: True (cuda), used: True\n",
      "TPU available: False, using: 0 TPU cores\n",
      "HPU available: False, using: 0 HPUs\n",
      "LOCAL_RANK: 0 - CUDA_VISIBLE_DEVICES: [0]\n",
      "/home/eduardo/Documentos/Water-Cycle-Neural-Network/venv/lib/python3.12/site-packages/pytorch_lightning/trainer/connectors/data_connector.py:425: The 'predict_dataloader' does not have many workers which may be a bottleneck. Consider increasing the value of the `num_workers` argument` to `num_workers=11` in the `DataLoader` to improve performance.\n"
     ]
    },
    {
     "name": "stdout",
     "output_type": "stream",
     "text": [
      "Model loaded from checkpoint for trial 84\n"
     ]
    },
    {
     "name": "stderr",
     "output_type": "stream",
     "text": [
      "[I 2025-05-26 12:55:54,682] Trial 84 finished with value: 0.12788514735719325 and parameters: {'input_chunk_length': 25, 'output_chunk_length': 1, 'dropout': 0.10002265916213327, 'batch_size': 163, 'lr': 0.001406416065690096, 'weight_decay': 0.00029240282646000664, 'd_model': 128, 'nhead': 4, 'num_encoder_layers': 1, 'num_decoder_layers': 1, 'activation': 'Bilinear', 'loss_fn': 'huber', 'optimizer': 'AdamW'}. Best is trial 77 with value: 0.11625609988854241.\n",
      "Specified future encoders in `add_encoders` at model creation but model does not accept future covariates. future encoders will be ignored.\n",
      "/home/eduardo/Documentos/Water-Cycle-Neural-Network/venv/lib/python3.12/site-packages/torch/nn/modules/transformer.py:382: UserWarning: enable_nested_tensor is True, but self.use_nested_tensor is False because encoder_layer.self_attn.batch_first was not True(use batch_first for better inference performance)\n",
      "  warnings.warn(\n",
      "GPU available: True (cuda), used: True\n",
      "TPU available: False, using: 0 TPU cores\n",
      "HPU available: False, using: 0 HPUs\n",
      "LOCAL_RANK: 0 - CUDA_VISIBLE_DEVICES: [0]\n"
     ]
    },
    {
     "name": "stdout",
     "output_type": "stream",
     "text": [
      "Starting time series verification for consistency...\n",
      "\n",
      "Performance metrics:\n",
      "                                     MSE        RMSE         MAE           R2  \\\n",
      "Temperature                     6.076522    2.465060    1.940275     0.800880   \n",
      "Precipitation_accumulated    6547.391737   80.915955   67.214886 -1895.127220   \n",
      "Humidity                       98.214756    9.910336    8.034924     0.329935   \n",
      "Wind_Speed_kmh                  1.037319    1.018489    0.787529     0.231810   \n",
      "Soil_Moisture              178678.585243  422.703898  336.637478    -2.082314   \n",
      "Soil_Temperature                6.089918    2.467776    2.053412     0.623363   \n",
      "Wind_Dir_Sin                    0.415354    0.644479    0.541308     0.244637   \n",
      "Wind_Dir_Cos                    0.353854    0.594856    0.481314     0.037928   \n",
      "\n",
      "                                SMAPE  \n",
      "Temperature                 32.112354  \n",
      "Precipitation_accumulated   16.135764  \n",
      "Humidity                     9.412569  \n",
      "Wind_Speed_kmh              69.535024  \n",
      "Soil_Moisture                4.043358  \n",
      "Soil_Temperature            37.843925  \n",
      "Wind_Dir_Sin               112.202332  \n",
      "Wind_Dir_Cos               113.827956  \n",
      "The MAE for this fold was 0.12788514735719325\n",
      "Results of trial 84 saved in optuna_iteration_metrics/trial_84.json\n",
      "Current value: 0.12788514735719325, Current params: {'input_chunk_length': 25, 'output_chunk_length': 1, 'dropout': 0.10002265916213327, 'batch_size': 163, 'lr': 0.001406416065690096, 'weight_decay': 0.00029240282646000664, 'd_model': 128, 'nhead': 4, 'num_encoder_layers': 1, 'num_decoder_layers': 1, 'activation': 'Bilinear', 'loss_fn': 'huber', 'optimizer': 'AdamW'}\n",
      "Best value: 0.11625609988854241, Best params: {'input_chunk_length': 24, 'output_chunk_length': 2, 'dropout': 0.10318806667622696, 'batch_size': 174, 'lr': 0.0005890236792442174, 'weight_decay': 0.0007241004486532095, 'd_model': 128, 'nhead': 4, 'num_encoder_layers': 1, 'num_decoder_layers': 1, 'activation': 'GELU', 'loss_fn': 'huber', 'optimizer': 'AdamW'}\n",
      "\n",
      "Starting Trial 85\n",
      "Hyperparameters: {'input_chunk_length': 26, 'output_chunk_length': 1, 'dropout': 0.10826609235506653, 'batch_size': 164, 'lr': 0.0013709508355713223, 'weight_decay': 0.00026520816161486983, 'd_model': 128, 'nhead': 4, 'num_encoder_layers': 1, 'num_decoder_layers': 1, 'activation': 'Bilinear', 'loss_fn': 'huber', 'optimizer': 'SGD'}\n",
      "\n",
      "Training the model...\n",
      "Train set: 6647 samples\n",
      "Validation set: 1662 samples\n"
     ]
    },
    {
     "name": "stderr",
     "output_type": "stream",
     "text": [
      "[I 2025-05-26 12:55:59,750] Trial 85 pruned. Trial was pruned at epoch 0.\n",
      "Specified future encoders in `add_encoders` at model creation but model does not accept future covariates. future encoders will be ignored.\n",
      "/home/eduardo/Documentos/Water-Cycle-Neural-Network/venv/lib/python3.12/site-packages/torch/nn/modules/transformer.py:382: UserWarning: enable_nested_tensor is True, but self.use_nested_tensor is False because encoder_layer.self_attn.batch_first was not True(use batch_first for better inference performance)\n",
      "  warnings.warn(\n",
      "GPU available: True (cuda), used: True\n",
      "TPU available: False, using: 0 TPU cores\n",
      "HPU available: False, using: 0 HPUs\n",
      "LOCAL_RANK: 0 - CUDA_VISIBLE_DEVICES: [0]\n"
     ]
    },
    {
     "name": "stdout",
     "output_type": "stream",
     "text": [
      "Current value: 0.08673607811531826, Current params: {'input_chunk_length': 26, 'output_chunk_length': 1, 'dropout': 0.10826609235506653, 'batch_size': 164, 'lr': 0.0013709508355713223, 'weight_decay': 0.00026520816161486983, 'd_model': 128, 'nhead': 4, 'num_encoder_layers': 1, 'num_decoder_layers': 1, 'activation': 'Bilinear', 'loss_fn': 'huber', 'optimizer': 'SGD'}\n",
      "Best value: 0.11625609988854241, Best params: {'input_chunk_length': 24, 'output_chunk_length': 2, 'dropout': 0.10318806667622696, 'batch_size': 174, 'lr': 0.0005890236792442174, 'weight_decay': 0.0007241004486532095, 'd_model': 128, 'nhead': 4, 'num_encoder_layers': 1, 'num_decoder_layers': 1, 'activation': 'GELU', 'loss_fn': 'huber', 'optimizer': 'AdamW'}\n",
      "\n",
      "Starting Trial 86\n",
      "Hyperparameters: {'input_chunk_length': 25, 'output_chunk_length': 3, 'dropout': 0.10086580794739837, 'batch_size': 131, 'lr': 0.001905401316965849, 'weight_decay': 0.000366962939361844, 'd_model': 128, 'nhead': 4, 'num_encoder_layers': 1, 'num_decoder_layers': 1, 'activation': 'Bilinear', 'loss_fn': 'huber', 'optimizer': 'AdamW'}\n",
      "\n",
      "Training the model...\n",
      "Train set: 6647 samples\n",
      "Validation set: 1662 samples\n"
     ]
    },
    {
     "name": "stderr",
     "output_type": "stream",
     "text": [
      "Metric val_loss improved. New best score: 0.025\n",
      "Metric val_loss improved by 0.005 >= min_delta = 0.0005. New best score: 0.020\n",
      "Monitored metric val_loss did not improve in the last 15 records. Best score: 0.020. Signaling Trainer to stop.\n",
      "/home/eduardo/Documentos/Water-Cycle-Neural-Network/venv/lib/python3.12/site-packages/torch/nn/modules/transformer.py:382: UserWarning: enable_nested_tensor is True, but self.use_nested_tensor is False because encoder_layer.self_attn.batch_first was not True(use batch_first for better inference performance)\n",
      "  warnings.warn(\n",
      "GPU available: True (cuda), used: True\n",
      "TPU available: False, using: 0 TPU cores\n",
      "HPU available: False, using: 0 HPUs\n",
      "LOCAL_RANK: 0 - CUDA_VISIBLE_DEVICES: [0]\n",
      "/home/eduardo/Documentos/Water-Cycle-Neural-Network/venv/lib/python3.12/site-packages/pytorch_lightning/trainer/connectors/data_connector.py:425: The 'predict_dataloader' does not have many workers which may be a bottleneck. Consider increasing the value of the `num_workers` argument` to `num_workers=11` in the `DataLoader` to improve performance.\n"
     ]
    },
    {
     "name": "stdout",
     "output_type": "stream",
     "text": [
      "Model loaded from checkpoint for trial 86\n"
     ]
    },
    {
     "name": "stderr",
     "output_type": "stream",
     "text": [
      "[I 2025-05-26 12:57:09,008] Trial 86 finished with value: 0.14457276234378913 and parameters: {'input_chunk_length': 25, 'output_chunk_length': 3, 'dropout': 0.10086580794739837, 'batch_size': 131, 'lr': 0.001905401316965849, 'weight_decay': 0.000366962939361844, 'd_model': 128, 'nhead': 4, 'num_encoder_layers': 1, 'num_decoder_layers': 1, 'activation': 'Bilinear', 'loss_fn': 'huber', 'optimizer': 'AdamW'}. Best is trial 77 with value: 0.11625609988854241.\n",
      "Specified future encoders in `add_encoders` at model creation but model does not accept future covariates. future encoders will be ignored.\n",
      "/home/eduardo/Documentos/Water-Cycle-Neural-Network/venv/lib/python3.12/site-packages/torch/nn/modules/transformer.py:382: UserWarning: enable_nested_tensor is True, but self.use_nested_tensor is False because encoder_layer.self_attn.batch_first was not True(use batch_first for better inference performance)\n",
      "  warnings.warn(\n",
      "GPU available: True (cuda), used: True\n",
      "TPU available: False, using: 0 TPU cores\n"
     ]
    },
    {
     "name": "stdout",
     "output_type": "stream",
     "text": [
      "Starting time series verification for consistency...\n",
      "\n",
      "Performance metrics:\n",
      "                                     MSE        RMSE         MAE           R2  \\\n",
      "Temperature                    11.863479    3.444340    2.792563     0.610801   \n",
      "Precipitation_accumulated    8419.575332   91.758244   75.598627 -2444.722919   \n",
      "Humidity                       58.323488    7.636982    6.096166     0.602034   \n",
      "Wind_Speed_kmh                  1.289439    1.135535    0.926492     0.045846   \n",
      "Soil_Moisture              116185.342253  340.859711  286.325685    -1.017036   \n",
      "Soil_Temperature               19.577756    4.424676    3.666604    -0.212493   \n",
      "Wind_Dir_Sin                    0.566053    0.752365    0.657936    -0.028932   \n",
      "Wind_Dir_Cos                    0.398752    0.631468    0.517198    -0.085512   \n",
      "\n",
      "                                SMAPE  \n",
      "Temperature                 44.196612  \n",
      "Precipitation_accumulated   18.365451  \n",
      "Humidity                     7.224005  \n",
      "Wind_Speed_kmh              73.844328  \n",
      "Soil_Moisture                3.304711  \n",
      "Soil_Temperature            79.829241  \n",
      "Wind_Dir_Sin               139.345112  \n",
      "Wind_Dir_Cos               118.026402  \n",
      "The MAE for this fold was 0.14457276234378913\n",
      "Results of trial 86 saved in optuna_iteration_metrics/trial_86.json\n",
      "Current value: 0.14457276234378913, Current params: {'input_chunk_length': 25, 'output_chunk_length': 3, 'dropout': 0.10086580794739837, 'batch_size': 131, 'lr': 0.001905401316965849, 'weight_decay': 0.000366962939361844, 'd_model': 128, 'nhead': 4, 'num_encoder_layers': 1, 'num_decoder_layers': 1, 'activation': 'Bilinear', 'loss_fn': 'huber', 'optimizer': 'AdamW'}\n",
      "Best value: 0.11625609988854241, Best params: {'input_chunk_length': 24, 'output_chunk_length': 2, 'dropout': 0.10318806667622696, 'batch_size': 174, 'lr': 0.0005890236792442174, 'weight_decay': 0.0007241004486532095, 'd_model': 128, 'nhead': 4, 'num_encoder_layers': 1, 'num_decoder_layers': 1, 'activation': 'GELU', 'loss_fn': 'huber', 'optimizer': 'AdamW'}\n",
      "\n",
      "Starting Trial 87\n",
      "Hyperparameters: {'input_chunk_length': 28, 'output_chunk_length': 2, 'dropout': 0.11921738046084984, 'batch_size': 154, 'lr': 0.0007931365747614195, 'weight_decay': 0.00020015385058966712, 'd_model': 128, 'nhead': 4, 'num_encoder_layers': 1, 'num_decoder_layers': 1, 'activation': 'Bilinear', 'loss_fn': 'huber', 'optimizer': 'AdamW'}\n",
      "\n",
      "Training the model...\n",
      "Train set: 6647 samples\n",
      "Validation set: 1662 samples\n"
     ]
    },
    {
     "name": "stderr",
     "output_type": "stream",
     "text": [
      "HPU available: False, using: 0 HPUs\n",
      "LOCAL_RANK: 0 - CUDA_VISIBLE_DEVICES: [0]\n",
      "Metric val_loss improved. New best score: 0.024\n",
      "Metric val_loss improved by 0.003 >= min_delta = 0.0005. New best score: 0.021\n",
      "Metric val_loss improved by 0.002 >= min_delta = 0.0005. New best score: 0.019\n",
      "Metric val_loss improved by 0.002 >= min_delta = 0.0005. New best score: 0.018\n",
      "Exception ignored in: <function _MultiProcessingDataLoaderIter.__del__ at 0x7f8b131f3880>\n",
      "Traceback (most recent call last):\n",
      "  File \"/home/eduardo/Documentos/Water-Cycle-Neural-Network/venv/lib/python3.12/site-packages/torch/utils/data/dataloader.py\", line 1663, in __del__\n",
      "    self._shutdown_workers()\n",
      "  File \"/home/eduardo/Documentos/Water-Cycle-Neural-Network/venv/lib/python3.12/site-packages/torch/utils/data/dataloader.py\", line 1646, in _shutdown_workers\n",
      "    if w.is_alive():\n",
      "       ^^^^^^^^^^^^\n",
      "  File \"/usr/lib/python3.12/multiprocessing/process.py\", line 160, in is_alive\n",
      "    assert self._parent_pid == os.getpid(), 'can only test a child process'\n",
      "           ^^^^^^^^^^^^^^^^^^^^^^^^^^^^^^^\n",
      "AssertionError: can only test a child process\n",
      "Monitored metric val_loss did not improve in the last 15 records. Best score: 0.018. Signaling Trainer to stop.\n",
      "/home/eduardo/Documentos/Water-Cycle-Neural-Network/venv/lib/python3.12/site-packages/torch/nn/modules/transformer.py:382: UserWarning: enable_nested_tensor is True, but self.use_nested_tensor is False because encoder_layer.self_attn.batch_first was not True(use batch_first for better inference performance)\n",
      "  warnings.warn(\n",
      "GPU available: True (cuda), used: True\n",
      "TPU available: False, using: 0 TPU cores\n",
      "HPU available: False, using: 0 HPUs\n",
      "LOCAL_RANK: 0 - CUDA_VISIBLE_DEVICES: [0]\n",
      "/home/eduardo/Documentos/Water-Cycle-Neural-Network/venv/lib/python3.12/site-packages/pytorch_lightning/trainer/connectors/data_connector.py:425: The 'predict_dataloader' does not have many workers which may be a bottleneck. Consider increasing the value of the `num_workers` argument` to `num_workers=11` in the `DataLoader` to improve performance.\n"
     ]
    },
    {
     "name": "stdout",
     "output_type": "stream",
     "text": [
      "Model loaded from checkpoint for trial 87\n"
     ]
    },
    {
     "name": "stderr",
     "output_type": "stream",
     "text": [
      "[I 2025-05-26 12:58:20,221] Trial 87 finished with value: 0.13081745998608255 and parameters: {'input_chunk_length': 28, 'output_chunk_length': 2, 'dropout': 0.11921738046084984, 'batch_size': 154, 'lr': 0.0007931365747614195, 'weight_decay': 0.00020015385058966712, 'd_model': 128, 'nhead': 4, 'num_encoder_layers': 1, 'num_decoder_layers': 1, 'activation': 'Bilinear', 'loss_fn': 'huber', 'optimizer': 'AdamW'}. Best is trial 77 with value: 0.11625609988854241.\n",
      "Specified future encoders in `add_encoders` at model creation but model does not accept future covariates. future encoders will be ignored.\n",
      "/home/eduardo/Documentos/Water-Cycle-Neural-Network/venv/lib/python3.12/site-packages/torch/nn/modules/transformer.py:382: UserWarning: enable_nested_tensor is True, but self.use_nested_tensor is False because encoder_layer.self_attn.batch_first was not True(use batch_first for better inference performance)\n",
      "  warnings.warn(\n",
      "GPU available: True (cuda), used: True\n",
      "TPU available: False, using: 0 TPU cores\n",
      "HPU available: False, using: 0 HPUs\n",
      "LOCAL_RANK: 0 - CUDA_VISIBLE_DEVICES: [0]\n"
     ]
    },
    {
     "name": "stdout",
     "output_type": "stream",
     "text": [
      "Starting time series verification for consistency...\n",
      "\n",
      "Performance metrics:\n",
      "                                     MSE        RMSE         MAE           R2  \\\n",
      "Temperature                     5.174825    2.274824    1.848418     0.830039   \n",
      "Precipitation_accumulated    4588.722499   67.740110   57.751705 -1336.022122   \n",
      "Humidity                       60.157931    7.756154    6.375991     0.589456   \n",
      "Wind_Speed_kmh                  1.352169    1.162828    0.943055    -0.001846   \n",
      "Soil_Moisture              118038.121264  343.566764  280.782203    -1.063049   \n",
      "Soil_Temperature                5.453263    2.335222    1.898160     0.661696   \n",
      "Wind_Dir_Sin                    0.500080    0.707163    0.623918     0.091610   \n",
      "Wind_Dir_Cos                    0.413196    0.642803    0.520638    -0.126881   \n",
      "\n",
      "                                SMAPE  \n",
      "Temperature                 32.063746  \n",
      "Precipitation_accumulated   13.553157  \n",
      "Humidity                     7.499375  \n",
      "Wind_Speed_kmh              74.642039  \n",
      "Soil_Moisture                3.267439  \n",
      "Soil_Temperature            34.952180  \n",
      "Wind_Dir_Sin               134.715816  \n",
      "Wind_Dir_Cos               115.981874  \n",
      "The MAE for this fold was 0.13081745998608255\n",
      "Results of trial 87 saved in optuna_iteration_metrics/trial_87.json\n",
      "Current value: 0.13081745998608255, Current params: {'input_chunk_length': 28, 'output_chunk_length': 2, 'dropout': 0.11921738046084984, 'batch_size': 154, 'lr': 0.0007931365747614195, 'weight_decay': 0.00020015385058966712, 'd_model': 128, 'nhead': 4, 'num_encoder_layers': 1, 'num_decoder_layers': 1, 'activation': 'Bilinear', 'loss_fn': 'huber', 'optimizer': 'AdamW'}\n",
      "Best value: 0.11625609988854241, Best params: {'input_chunk_length': 24, 'output_chunk_length': 2, 'dropout': 0.10318806667622696, 'batch_size': 174, 'lr': 0.0005890236792442174, 'weight_decay': 0.0007241004486532095, 'd_model': 128, 'nhead': 4, 'num_encoder_layers': 1, 'num_decoder_layers': 1, 'activation': 'GELU', 'loss_fn': 'huber', 'optimizer': 'AdamW'}\n",
      "\n",
      "Starting Trial 88\n",
      "Hyperparameters: {'input_chunk_length': 28, 'output_chunk_length': 2, 'dropout': 0.11806248396557542, 'batch_size': 153, 'lr': 0.0007930360578326748, 'weight_decay': 0.00013997625135104947, 'd_model': 128, 'nhead': 4, 'num_encoder_layers': 1, 'num_decoder_layers': 1, 'activation': 'Bilinear', 'loss_fn': 'huber', 'optimizer': 'Adam'}\n",
      "\n",
      "Training the model...\n",
      "Train set: 6647 samples\n",
      "Validation set: 1662 samples\n"
     ]
    },
    {
     "name": "stderr",
     "output_type": "stream",
     "text": [
      "Metric val_loss improved. New best score: 0.025\n",
      "Metric val_loss improved by 0.003 >= min_delta = 0.0005. New best score: 0.022\n",
      "Metric val_loss improved by 0.002 >= min_delta = 0.0005. New best score: 0.020\n",
      "Metric val_loss improved by 0.003 >= min_delta = 0.0005. New best score: 0.017\n",
      "Metric val_loss improved by 0.001 >= min_delta = 0.0005. New best score: 0.016\n",
      "Metric val_loss improved by 0.001 >= min_delta = 0.0005. New best score: 0.015\n",
      "Metric val_loss improved by 0.001 >= min_delta = 0.0005. New best score: 0.015\n",
      "Monitored metric val_loss did not improve in the last 15 records. Best score: 0.015. Signaling Trainer to stop.\n",
      "/home/eduardo/Documentos/Water-Cycle-Neural-Network/venv/lib/python3.12/site-packages/torch/nn/modules/transformer.py:382: UserWarning: enable_nested_tensor is True, but self.use_nested_tensor is False because encoder_layer.self_attn.batch_first was not True(use batch_first for better inference performance)\n",
      "  warnings.warn(\n",
      "GPU available: True (cuda), used: True\n",
      "TPU available: False, using: 0 TPU cores\n",
      "HPU available: False, using: 0 HPUs\n",
      "LOCAL_RANK: 0 - CUDA_VISIBLE_DEVICES: [0]\n",
      "/home/eduardo/Documentos/Water-Cycle-Neural-Network/venv/lib/python3.12/site-packages/pytorch_lightning/trainer/connectors/data_connector.py:425: The 'predict_dataloader' does not have many workers which may be a bottleneck. Consider increasing the value of the `num_workers` argument` to `num_workers=11` in the `DataLoader` to improve performance.\n"
     ]
    },
    {
     "name": "stdout",
     "output_type": "stream",
     "text": [
      "Model loaded from checkpoint for trial 88\n"
     ]
    },
    {
     "name": "stderr",
     "output_type": "stream",
     "text": [
      "[I 2025-05-26 12:59:47,527] Trial 88 finished with value: 0.10533275687549581 and parameters: {'input_chunk_length': 28, 'output_chunk_length': 2, 'dropout': 0.11806248396557542, 'batch_size': 153, 'lr': 0.0007930360578326748, 'weight_decay': 0.00013997625135104947, 'd_model': 128, 'nhead': 4, 'num_encoder_layers': 1, 'num_decoder_layers': 1, 'activation': 'Bilinear', 'loss_fn': 'huber', 'optimizer': 'Adam'}. Best is trial 88 with value: 0.10533275687549581.\n",
      "Specified future encoders in `add_encoders` at model creation but model does not accept future covariates. future encoders will be ignored.\n"
     ]
    },
    {
     "name": "stdout",
     "output_type": "stream",
     "text": [
      "Starting time series verification for consistency...\n",
      "\n",
      "Performance metrics:\n",
      "                                    MSE        RMSE         MAE          R2  \\\n",
      "Temperature                    4.205937    2.050838    1.654752    0.861861   \n",
      "Precipitation_accumulated    496.549526   22.283391   19.118533 -143.680290   \n",
      "Humidity                      33.655952    5.801375    4.526050    0.770317   \n",
      "Wind_Speed_kmh                 0.922798    0.960624    0.776779    0.316282   \n",
      "Soil_Moisture              31586.518178  177.725964  145.232980    0.447936   \n",
      "Soil_Temperature               4.292250    2.071775    1.712030    0.733721   \n",
      "Wind_Dir_Sin                   0.504751    0.710458    0.567314    0.083125   \n",
      "Wind_Dir_Cos                   0.384008    0.619683    0.502564   -0.047277   \n",
      "\n",
      "                                SMAPE  \n",
      "Temperature                 29.250998  \n",
      "Precipitation_accumulated    4.222635  \n",
      "Humidity                     5.396340  \n",
      "Wind_Speed_kmh              67.541346  \n",
      "Soil_Moisture                1.671996  \n",
      "Soil_Temperature            38.801282  \n",
      "Wind_Dir_Sin               111.795541  \n",
      "Wind_Dir_Cos               118.992577  \n",
      "The MAE for this fold was 0.10533275687549581\n",
      "Results of trial 88 saved in optuna_iteration_metrics/trial_88.json\n",
      "Current value: 0.10533275687549581, Current params: {'input_chunk_length': 28, 'output_chunk_length': 2, 'dropout': 0.11806248396557542, 'batch_size': 153, 'lr': 0.0007930360578326748, 'weight_decay': 0.00013997625135104947, 'd_model': 128, 'nhead': 4, 'num_encoder_layers': 1, 'num_decoder_layers': 1, 'activation': 'Bilinear', 'loss_fn': 'huber', 'optimizer': 'Adam'}\n",
      "Best value: 0.10533275687549581, Best params: {'input_chunk_length': 28, 'output_chunk_length': 2, 'dropout': 0.11806248396557542, 'batch_size': 153, 'lr': 0.0007930360578326748, 'weight_decay': 0.00013997625135104947, 'd_model': 128, 'nhead': 4, 'num_encoder_layers': 1, 'num_decoder_layers': 1, 'activation': 'Bilinear', 'loss_fn': 'huber', 'optimizer': 'Adam'}\n",
      "\n",
      "Starting Trial 89\n",
      "Hyperparameters: {'input_chunk_length': 27, 'output_chunk_length': 3, 'dropout': 0.12639912526540148, 'batch_size': 138, 'lr': 0.0023688542455863647, 'weight_decay': 0.0005069935517385169, 'd_model': 128, 'nhead': 4, 'num_encoder_layers': 1, 'num_decoder_layers': 1, 'activation': 'Bilinear', 'loss_fn': 'huber', 'optimizer': 'Adam'}\n",
      "\n",
      "Training the model...\n",
      "Train set: 6647 samples\n",
      "Validation set: 1662 samples\n"
     ]
    },
    {
     "name": "stderr",
     "output_type": "stream",
     "text": [
      "/home/eduardo/Documentos/Water-Cycle-Neural-Network/venv/lib/python3.12/site-packages/torch/nn/modules/transformer.py:382: UserWarning: enable_nested_tensor is True, but self.use_nested_tensor is False because encoder_layer.self_attn.batch_first was not True(use batch_first for better inference performance)\n",
      "  warnings.warn(\n",
      "GPU available: True (cuda), used: True\n",
      "TPU available: False, using: 0 TPU cores\n",
      "HPU available: False, using: 0 HPUs\n",
      "LOCAL_RANK: 0 - CUDA_VISIBLE_DEVICES: [0]\n",
      "Metric val_loss improved. New best score: 0.026\n",
      "Metric val_loss improved by 0.003 >= min_delta = 0.0005. New best score: 0.023\n",
      "Metric val_loss improved by 0.003 >= min_delta = 0.0005. New best score: 0.020\n",
      "Metric val_loss improved by 0.002 >= min_delta = 0.0005. New best score: 0.018\n",
      "Metric val_loss improved by 0.001 >= min_delta = 0.0005. New best score: 0.017\n",
      "Metric val_loss improved by 0.001 >= min_delta = 0.0005. New best score: 0.017\n",
      "Monitored metric val_loss did not improve in the last 15 records. Best score: 0.017. Signaling Trainer to stop.\n",
      "/home/eduardo/Documentos/Water-Cycle-Neural-Network/venv/lib/python3.12/site-packages/torch/nn/modules/transformer.py:382: UserWarning: enable_nested_tensor is True, but self.use_nested_tensor is False because encoder_layer.self_attn.batch_first was not True(use batch_first for better inference performance)\n",
      "  warnings.warn(\n",
      "GPU available: True (cuda), used: True\n",
      "TPU available: False, using: 0 TPU cores\n",
      "HPU available: False, using: 0 HPUs\n",
      "LOCAL_RANK: 0 - CUDA_VISIBLE_DEVICES: [0]\n",
      "/home/eduardo/Documentos/Water-Cycle-Neural-Network/venv/lib/python3.12/site-packages/pytorch_lightning/trainer/connectors/data_connector.py:425: The 'predict_dataloader' does not have many workers which may be a bottleneck. Consider increasing the value of the `num_workers` argument` to `num_workers=11` in the `DataLoader` to improve performance.\n"
     ]
    },
    {
     "name": "stdout",
     "output_type": "stream",
     "text": [
      "Model loaded from checkpoint for trial 89\n"
     ]
    },
    {
     "name": "stderr",
     "output_type": "stream",
     "text": [
      "[I 2025-05-26 13:01:11,466] Trial 89 finished with value: 0.1265341529921978 and parameters: {'input_chunk_length': 27, 'output_chunk_length': 3, 'dropout': 0.12639912526540148, 'batch_size': 138, 'lr': 0.0023688542455863647, 'weight_decay': 0.0005069935517385169, 'd_model': 128, 'nhead': 4, 'num_encoder_layers': 1, 'num_decoder_layers': 1, 'activation': 'Bilinear', 'loss_fn': 'huber', 'optimizer': 'Adam'}. Best is trial 88 with value: 0.10533275687549581.\n",
      "Specified future encoders in `add_encoders` at model creation but model does not accept future covariates. future encoders will be ignored.\n"
     ]
    },
    {
     "name": "stdout",
     "output_type": "stream",
     "text": [
      "Starting time series verification for consistency...\n",
      "\n",
      "Performance metrics:\n",
      "                                    MSE        RMSE         MAE           R2  \\\n",
      "Temperature                    6.883532    2.623649    2.081916     0.773918   \n",
      "Precipitation_accumulated   4934.344109   70.244887   62.746625 -1436.726346   \n",
      "Humidity                      58.717085    7.662707    5.923078     0.599289   \n",
      "Wind_Speed_kmh                 1.080019    1.039240    0.815715     0.199795   \n",
      "Soil_Moisture              32327.759375  179.799220  153.992007     0.434981   \n",
      "Soil_Temperature               4.091778    2.022814    1.649416     0.746158   \n",
      "Wind_Dir_Sin                   0.517373    0.719287    0.637044     0.060196   \n",
      "Wind_Dir_Cos                   0.389919    0.624435    0.515682    -0.063398   \n",
      "\n",
      "                                SMAPE  \n",
      "Temperature                 33.969020  \n",
      "Precipitation_accumulated   14.751211  \n",
      "Humidity                     7.023493  \n",
      "Wind_Speed_kmh              70.479078  \n",
      "Soil_Moisture                1.804363  \n",
      "Soil_Temperature            36.094442  \n",
      "Wind_Dir_Sin               134.412764  \n",
      "Wind_Dir_Cos               122.365379  \n",
      "The MAE for this fold was 0.1265341529921978\n",
      "Results of trial 89 saved in optuna_iteration_metrics/trial_89.json\n",
      "Current value: 0.1265341529921978, Current params: {'input_chunk_length': 27, 'output_chunk_length': 3, 'dropout': 0.12639912526540148, 'batch_size': 138, 'lr': 0.0023688542455863647, 'weight_decay': 0.0005069935517385169, 'd_model': 128, 'nhead': 4, 'num_encoder_layers': 1, 'num_decoder_layers': 1, 'activation': 'Bilinear', 'loss_fn': 'huber', 'optimizer': 'Adam'}\n",
      "Best value: 0.10533275687549581, Best params: {'input_chunk_length': 28, 'output_chunk_length': 2, 'dropout': 0.11806248396557542, 'batch_size': 153, 'lr': 0.0007930360578326748, 'weight_decay': 0.00013997625135104947, 'd_model': 128, 'nhead': 4, 'num_encoder_layers': 1, 'num_decoder_layers': 1, 'activation': 'Bilinear', 'loss_fn': 'huber', 'optimizer': 'Adam'}\n",
      "\n",
      "Starting Trial 90\n",
      "Hyperparameters: {'input_chunk_length': 27, 'output_chunk_length': 3, 'dropout': 0.12746206490265272, 'batch_size': 136, 'lr': 0.0026536697121054705, 'weight_decay': 0.0001899286237956314, 'd_model': 128, 'nhead': 2, 'num_encoder_layers': 1, 'num_decoder_layers': 1, 'activation': 'Bilinear', 'loss_fn': 'huber', 'optimizer': 'Adam'}\n",
      "\n",
      "Training the model...\n",
      "Train set: 6647 samples\n",
      "Validation set: 1662 samples\n"
     ]
    },
    {
     "name": "stderr",
     "output_type": "stream",
     "text": [
      "/home/eduardo/Documentos/Water-Cycle-Neural-Network/venv/lib/python3.12/site-packages/torch/nn/modules/transformer.py:382: UserWarning: enable_nested_tensor is True, but self.use_nested_tensor is False because encoder_layer.self_attn.batch_first was not True(use batch_first for better inference performance)\n",
      "  warnings.warn(\n",
      "GPU available: True (cuda), used: True\n",
      "TPU available: False, using: 0 TPU cores\n",
      "HPU available: False, using: 0 HPUs\n",
      "LOCAL_RANK: 0 - CUDA_VISIBLE_DEVICES: [0]\n",
      "Metric val_loss improved. New best score: 0.033\n",
      "Metric val_loss improved by 0.003 >= min_delta = 0.0005. New best score: 0.030\n",
      "Metric val_loss improved by 0.003 >= min_delta = 0.0005. New best score: 0.027\n",
      "Metric val_loss improved by 0.006 >= min_delta = 0.0005. New best score: 0.022\n",
      "Metric val_loss improved by 0.003 >= min_delta = 0.0005. New best score: 0.018\n",
      "Metric val_loss improved by 0.001 >= min_delta = 0.0005. New best score: 0.017\n",
      "Metric val_loss improved by 0.001 >= min_delta = 0.0005. New best score: 0.016\n",
      "Metric val_loss improved by 0.001 >= min_delta = 0.0005. New best score: 0.016\n",
      "Metric val_loss improved by 0.001 >= min_delta = 0.0005. New best score: 0.015\n",
      "`Trainer.fit` stopped: `max_epochs=30` reached.\n",
      "/home/eduardo/Documentos/Water-Cycle-Neural-Network/venv/lib/python3.12/site-packages/torch/nn/modules/transformer.py:382: UserWarning: enable_nested_tensor is True, but self.use_nested_tensor is False because encoder_layer.self_attn.batch_first was not True(use batch_first for better inference performance)\n",
      "  warnings.warn(\n",
      "GPU available: True (cuda), used: True\n",
      "TPU available: False, using: 0 TPU cores\n",
      "HPU available: False, using: 0 HPUs\n",
      "LOCAL_RANK: 0 - CUDA_VISIBLE_DEVICES: [0]\n",
      "/home/eduardo/Documentos/Water-Cycle-Neural-Network/venv/lib/python3.12/site-packages/pytorch_lightning/trainer/connectors/data_connector.py:425: The 'predict_dataloader' does not have many workers which may be a bottleneck. Consider increasing the value of the `num_workers` argument` to `num_workers=11` in the `DataLoader` to improve performance.\n"
     ]
    },
    {
     "name": "stdout",
     "output_type": "stream",
     "text": [
      "Model loaded from checkpoint for trial 90\n"
     ]
    },
    {
     "name": "stderr",
     "output_type": "stream",
     "text": [
      "[I 2025-05-26 13:02:55,965] Trial 90 finished with value: 0.11596847552058936 and parameters: {'input_chunk_length': 27, 'output_chunk_length': 3, 'dropout': 0.12746206490265272, 'batch_size': 136, 'lr': 0.0026536697121054705, 'weight_decay': 0.0001899286237956314, 'd_model': 128, 'nhead': 2, 'num_encoder_layers': 1, 'num_decoder_layers': 1, 'activation': 'Bilinear', 'loss_fn': 'huber', 'optimizer': 'Adam'}. Best is trial 88 with value: 0.10533275687549581.\n"
     ]
    },
    {
     "name": "stdout",
     "output_type": "stream",
     "text": [
      "Starting time series verification for consistency...\n",
      "\n",
      "Performance metrics:\n",
      "                                    MSE        RMSE         MAE          R2  \\\n",
      "Temperature                    5.230533    2.287036    1.829829    0.828209   \n",
      "Precipitation_accumulated   1729.834682   41.591281   37.229365 -503.024211   \n",
      "Humidity                      53.447228    7.310761    5.755345    0.635253   \n",
      "Wind_Speed_kmh                 1.036295    1.017986    0.785449    0.232190   \n",
      "Soil_Moisture              18635.759897  136.512856  107.540970    0.674287   \n",
      "Soil_Temperature               5.742190    2.396287    2.007489    0.643771   \n",
      "Wind_Dir_Sin                   0.517118    0.719109    0.619282    0.060660   \n",
      "Wind_Dir_Cos                   0.373839    0.611423    0.506419   -0.019544   \n",
      "\n",
      "                                SMAPE  \n",
      "Temperature                 31.936431  \n",
      "Precipitation_accumulated    8.425183  \n",
      "Humidity                     6.755652  \n",
      "Wind_Speed_kmh              69.854756  \n",
      "Soil_Moisture                1.261791  \n",
      "Soil_Temperature            49.056466  \n",
      "Wind_Dir_Sin               127.395411  \n",
      "Wind_Dir_Cos               121.633767  \n",
      "The MAE for this fold was 0.11596847552058936\n",
      "Results of trial 90 saved in optuna_iteration_metrics/trial_90.json\n",
      "Current value: 0.11596847552058936, Current params: {'input_chunk_length': 27, 'output_chunk_length': 3, 'dropout': 0.12746206490265272, 'batch_size': 136, 'lr': 0.0026536697121054705, 'weight_decay': 0.0001899286237956314, 'd_model': 128, 'nhead': 2, 'num_encoder_layers': 1, 'num_decoder_layers': 1, 'activation': 'Bilinear', 'loss_fn': 'huber', 'optimizer': 'Adam'}\n",
      "Best value: 0.10533275687549581, Best params: {'input_chunk_length': 28, 'output_chunk_length': 2, 'dropout': 0.11806248396557542, 'batch_size': 153, 'lr': 0.0007930360578326748, 'weight_decay': 0.00013997625135104947, 'd_model': 128, 'nhead': 4, 'num_encoder_layers': 1, 'num_decoder_layers': 1, 'activation': 'Bilinear', 'loss_fn': 'huber', 'optimizer': 'Adam'}\n"
     ]
    }
   ],
   "source": [
    "study = optuna.create_study(direction=\"minimize\")\n",
    "num_hyperparams = 13\n",
    "n_trials = 7 * num_hyperparams\n",
    "study.optimize(objective, n_trials=n_trials, callbacks=[print_callback])"
   ]
  },
  {
   "cell_type": "code",
   "execution_count": 8,
   "id": "6d067f70903d0a12",
   "metadata": {},
   "outputs": [
    {
     "name": "stdout",
     "output_type": "stream",
     "text": [
      "Best Value (Minimum): 0.10533275687549581\n",
      "Best Parameters: {'input_chunk_length': 28, 'output_chunk_length': 2, 'dropout': 0.11806248396557542, 'batch_size': 153, 'lr': 0.0007930360578326748, 'weight_decay': 0.00013997625135104947, 'd_model': 128, 'nhead': 4, 'num_encoder_layers': 1, 'num_decoder_layers': 1, 'activation': 'Bilinear', 'loss_fn': 'huber', 'optimizer': 'Adam'}\n"
     ]
    }
   ],
   "source": [
    "print(f\"Best Value (Minimum): {study.best_value}\")\n",
    "print(f\"Best Parameters: {study.best_params}\")"
   ]
  },
  {
   "cell_type": "code",
   "execution_count": 9,
   "id": "2116824c79bf39cb",
   "metadata": {},
   "outputs": [
    {
     "name": "stdout",
     "output_type": "stream",
     "text": [
      "Best results saved in optuna_iteration_metrics/best_trial.json\n"
     ]
    }
   ],
   "source": [
    "best_dict = {\n",
    "    \"best_value\": study.best_value,\n",
    "    \"best_params\": study.best_params,\n",
    "}\n",
    "json_path = os.path.join(results_output_dir, \"best_trial.json\")\n",
    "with open(json_path, 'w') as f:\n",
    "    json.dump(best_dict, f, indent=4)\n",
    "print(f\"Best results saved in {json_path}\")\n"
   ]
  }
 ],
 "metadata": {
  "jupytext": {
   "cell_metadata_filter": "-all",
   "main_language": "python",
   "notebook_metadata_filter": "-all"
  },
  "kernelspec": {
   "display_name": "venv",
   "language": "python",
   "name": "python3"
  },
  "language_info": {
   "codemirror_mode": {
    "name": "ipython",
    "version": 3
   },
   "file_extension": ".py",
   "mimetype": "text/x-python",
   "name": "python",
   "nbconvert_exporter": "python",
   "pygments_lexer": "ipython3",
   "version": "3.12.3"
  }
 },
 "nbformat": 4,
 "nbformat_minor": 5
}
