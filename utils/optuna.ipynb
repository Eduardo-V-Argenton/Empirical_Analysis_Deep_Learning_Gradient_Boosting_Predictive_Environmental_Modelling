{
 "cells": [
  {
   "cell_type": "code",
   "execution_count": 5,
   "id": "9d09c575",
   "metadata": {},
   "outputs": [],
   "source": [
    "import matplotlib.pyplot as plt\n",
    "import numpy as np\n",
    "import pandas as pd\n",
    "from darts import TimeSeries\n",
    "from darts.models import TFTModel\n",
    "from darts.metrics import mse, rmse, r2_score, mae, smape\n",
    "from darts.dataprocessing.transformers import Scaler\n",
    "import torch\n",
    "from optuna.integration import PyTorchLightningPruningCallback\n",
    "from pytorch_lightning.callbacks import Callback, EarlyStopping\n",
    "import optuna\n",
    "import os\n",
    "import json\n",
    "\n",
    "# Configurações de visualização\n",
    "plt.style.use('ggplot')\n",
    "plt.rcParams['figure.figsize'] = (12, 6)\n",
    "torch.set_float32_matmul_precision('medium')"
   ]
  },
  {
   "cell_type": "code",
   "execution_count": 6,
   "id": "7ebe2896",
   "metadata": {},
   "outputs": [],
   "source": [
    "target_columns = [\n",
    "    'Temperature','Precipitation_accumulated','Humidity', 'Wind_Speed_kmh',\n",
    "    'Soil_Moisture', 'Soil_Temperature', 'Wind_Dir_Sin', 'Wind_Dir_Cos'\n",
    "]\n",
    "\n",
    "df = pd.read_csv(\"../data/ground_station_clean.csv\")"
   ]
  },
  {
   "cell_type": "code",
   "execution_count": 7,
   "id": "5a26b25f",
   "metadata": {
    "lines_to_next_cell": 0
   },
   "outputs": [],
   "source": [
    "encoders = {\n",
    "    \"cyclic\":{\n",
    "        \"past\":[\"month\",\"dayofyear\",\"day\",\"hour\",\"minute\"],\n",
    "        \"future\":[\"month\",\"dayofyear\",\"day\",\"hour\",\"minute\"],\n",
    "    },\n",
    "    \"transformer\": Scaler()\n",
    "}"
   ]
  },
  {
   "cell_type": "code",
   "execution_count": 8,
   "id": "34b598af",
   "metadata": {},
   "outputs": [],
   "source": [
    "class PatchedPruningCallback(optuna.integration.PyTorchLightningPruningCallback, Callback):\n",
    "    pass\n",
    "# Criar diretório para salvar os resultados das iterações\n",
    "results_output_dir = \"optuna_iteration_metrics\"\n",
    "os.makedirs(results_output_dir, exist_ok=True)"
   ]
  },
  {
   "cell_type": "code",
   "execution_count": 24,
   "id": "8018b905",
   "metadata": {},
   "outputs": [],
   "source": [
    "def objective(trial):\n",
    "\n",
    "    output_chunk_length = trial.suggest_int(\"output_chunk_length\", 12, 72)\n",
    "    input_chunk_length = trial.suggest_int(\"input_chunk_length\",output_chunk_length + 1, output_chunk_length + 72)\n",
    "    hidden_size = trial.suggest_int('hidden_size', 32, 256)\n",
    "\n",
    "    lstm_layers = trial.suggest_int('lstm_layers', 1, 2)\n",
    "    num_attention_heads = trial.suggest_int('num_attention_heads', 2, 4)\n",
    "    hidden_continuous_size = trial.suggest_int('hidden_continuous_size', 4, 32)\n",
    "    add_relative_index_val = trial.suggest_categorical('add_relative_index', [False, True])\n",
    "\n",
    "    dropout = trial.suggest_float('dropout', 0.0, 0.3, step=0.05)\n",
    "    batch_size = trial.suggest_int(\"batch_size\", 16, 64)\n",
    "    lr = trial.suggest_float(\"lr\", 1e-5, 1e-2, log=True)\n",
    "    forecast_horizon = trial.suggest_int(\"forecast_horizon\", 1, 24)\n",
    "    \n",
    "\n",
    "    pruner = PatchedPruningCallback(trial, monitor=\"val_loss\")\n",
    "    early_stopper = EarlyStopping(\"val_loss\", min_delta=0.001, patience=10, verbose=True)\n",
    "    pl_trainer_kwargs = {\n",
    "        \"accelerator\": \"auto\",\n",
    "        \"callbacks\": [pruner, early_stopper],\n",
    "    }\n",
    "    n = int(len(df)*0.8)\n",
    "    train_df_fold, val_df_fold = df.iloc[:n], df.iloc[n:]\n",
    "    train_fold = TimeSeries.from_dataframe(train_df_fold, time_col=\"Timestamp\", value_cols=target_columns, freq='1h')\n",
    "    val_fold = TimeSeries.from_dataframe(val_df_fold, time_col=\"Timestamp\", value_cols=target_columns, freq='1h')\n",
    "\n",
    "    print(f\"\\nIniciando Trial {trial.number}\")\n",
    "    print(f\"Hiperparâmetros: {trial.params}\")\n",
    "    print(\"\\nTreinando o modelo...\")\n",
    "    print(f\"Train set: {len(train_fold)} samples\") # Usar len() para TimeSeries\n",
    "    print(f\"Validation set: {len(val_fold)} samples\") # Usar len() para TimeSeries\n",
    "    \n",
    "    scaler = Scaler()\n",
    "    scaler = scaler.fit(train_fold)\n",
    "    train_scaled = scaler.transform(train_fold)\n",
    "    val_scaled = scaler.transform(val_fold)\n",
    "\n",
    "    # Definir work_dir e model_name para consistência\n",
    "    # force_reset=True irá limpar work_dir/model_name antes de cada treinamento da iteração.\n",
    "    _work_dir = \"/home/eduardo/Documentos/Water-Cycle-Neural-Network/darts_logs/\" # Certifique-se que este caminho existe e é gravável\n",
    "    _model_name = \"model_optuna_temp\" # Nome do modelo temporário para cada iteração\n",
    "\n",
    "    # Criar o diretório _work_dir se não existir\n",
    "    os.makedirs(_work_dir, exist_ok=True)\n",
    "\n",
    "    model = TFTModel(\n",
    "        model_name=_model_name,\n",
    "        work_dir=_work_dir,\n",
    "        input_chunk_length=input_chunk_length,\n",
    "        output_chunk_length=output_chunk_length,\n",
    "        hidden_size=hidden_size,\n",
    "        n_epochs=30, # Considere tornar n_epochs um hiperparâmetro ou usar um valor maior com EarlyStopping\n",
    "        batch_size=batch_size,\n",
    "        lstm_layers=lstm_layers,\n",
    "        num_attention_heads=num_attention_heads,\n",
    "        hidden_continuous_size=hidden_continuous_size,\n",
    "        add_relative_index=add_relative_index_val,\n",
    "        dropout=dropout,\n",
    "        add_encoders=encoders,\n",
    "        pl_trainer_kwargs=pl_trainer_kwargs,\n",
    "        loss_fn=torch.nn.HuberLoss(),\n",
    "        lr_scheduler_cls=torch.optim.lr_scheduler.ReduceLROnPlateau,\n",
    "        lr_scheduler_kwargs={\"mode\":\"min\", \"factor\":0.5, \"patience\":4, \"min_lr\":1e-6},\n",
    "        save_checkpoints=True,    \n",
    "        show_warnings=True,\n",
    "        force_reset=True, # Importante para que cada iteração treine do zero com este model_name\n",
    "        optimizer_kwargs={\"lr\": lr, \"weight_decay\": 1e-5},\n",
    "    )\n",
    "    model.fit(\n",
    "        series=train_scaled,\n",
    "        val_series=val_scaled,\n",
    "        verbose=True,\n",
    "        dataloader_kwargs={\"num_workers\": 11},\n",
    "    )\n",
    "    \n",
    "    try:\n",
    "        loaded_model = TFTModel.load_from_checkpoint(model_name=_model_name, work_dir=_work_dir, best=True)\n",
    "        print(f\"Modelo carregado do checkpoint para trial {trial.number}\")\n",
    "    except FileNotFoundError:\n",
    "        print(f\"Checkpoint não encontrado para {_model_name} em {_work_dir}. Usando o modelo treinado em memória.\")\n",
    "        loaded_model = model # Usar o modelo treinado se o carregamento falhar (fallback)\n",
    "\n",
    "\n",
    "    forecasts = loaded_model.historical_forecasts(\n",
    "        train_scaled,# Como no script original\n",
    "        start=0.8, # Início da previsão no conjunto de treinamento\n",
    "        forecast_horizon=forecast_horizon,\n",
    "        stride=1, # Gera uma previsão em cada ponto de tempo possível\n",
    "        retrain=False,\n",
    "        verbose=True # Pode ser False\n",
    "    ) \n",
    "\n",
    "    forecasts_t = scaler.inverse_transform(forecasts)\n",
    "    s = scaler.inverse_transform(train_scaled).split_after(0.8)[1]\n",
    "    metrics = {}\n",
    "    print(\"Iniciando a verificação das séries temporais para constância...\")\n",
    "    try:\n",
    "        for target in target_columns:\n",
    "            metrics[target] = {\n",
    "                'MSE': mse(s[target], forecasts_t[target]),\n",
    "                'RMSE': rmse(s[target], forecasts_t[target]),\n",
    "                'MAE': mae(s[target], forecasts_t[target]),\n",
    "                'R2': r2_score(s[target], forecasts_t[target]),\n",
    "                'SMAPE': smape(s[target], forecasts_t[target]),\n",
    "            }\n",
    "        metrics_df = pd.DataFrame(metrics).T\n",
    "        print(\"\\nMétricas de performance:\")\n",
    "        print(metrics_df)\n",
    "    except Exception as e:\n",
    "        print(e)\n",
    "\n",
    "    overall_smape_val = smape(s, forecasts_t)\n",
    "    print(f\"O SMAPE desse fold foi {overall_smape_val}\")\n",
    "\n",
    "    trial_dict = {\n",
    "        \"trial_number\": trial.number,\n",
    "        \"input_chunk_length\": input_chunk_length,\n",
    "        \"output_chunk_length\": output_chunk_length,\n",
    "        \"hidden_size\": hidden_size,\n",
    "        \"lstm_layers\": lstm_layers,\n",
    "        \"num_attention_heads\": num_attention_heads,\n",
    "        \"hidden_continuous_size\": hidden_continuous_size,\n",
    "        \"add_relative_index\": add_relative_index_val,\n",
    "        \"dropout\": dropout,\n",
    "        \"batch_size\": batch_size,\n",
    "        \"lr\": lr,\n",
    "        \"forecast_horizon\": forecast_horizon,\n",
    "        \"overall_smape_val\": overall_smape_val,\n",
    "        \"metrics\": metrics_df.to_dict(),\n",
    "    }\n",
    "    json_path = os.path.join(results_output_dir, f\"trial_{trial.number}.json\")\n",
    "    with open(json_path, 'w') as f:\n",
    "        json.dump(trial_dict, f, indent=4)\n",
    "    print(f\"Resultados do trial {trial.number} salvos em {json_path}\")\n",
    "    return overall_smape_val if not np.isnan(overall_smape_val) else float(\"inf\")\n",
    "\n"
   ]
  },
  {
   "cell_type": "code",
   "execution_count": 28,
   "id": "71ed8384",
   "metadata": {},
   "outputs": [],
   "source": [
    "def print_callback(study, trial):\n",
    "    print(f\"Current value: {trial.value}, Current params: {trial.params}\")\n",
    "    print(f\"Best value: {study.best_value}, Best params: {study.best_trial.params}\")"
   ]
  },
  {
   "cell_type": "code",
   "execution_count": 27,
   "id": "cb8bf9ce",
   "metadata": {},
   "outputs": [
    {
     "name": "stderr",
     "output_type": "stream",
     "text": [
      "[I 2025-05-15 11:58:19,963] A new study created in memory with name: no-name-257c6297-1f70-422b-8380-7b823aa60ec9\n",
      "GPU available: True (cuda), used: True\n",
      "TPU available: False, using: 0 TPU cores\n",
      "HPU available: False, using: 0 HPUs\n",
      "LOCAL_RANK: 0 - CUDA_VISIBLE_DEVICES: [0]\n",
      "\n",
      "   | Name                              | Type                             | Params | Mode \n",
      "------------------------------------------------------------------------------------------------\n",
      "0  | criterion                         | HuberLoss                        | 0      | train\n",
      "1  | train_criterion                   | HuberLoss                        | 0      | train\n",
      "2  | val_criterion                     | HuberLoss                        | 0      | train\n",
      "3  | train_metrics                     | MetricCollection                 | 0      | train\n",
      "4  | val_metrics                       | MetricCollection                 | 0      | train\n",
      "5  | input_embeddings                  | _MultiEmbedding                  | 0      | train\n",
      "6  | static_covariates_vsn             | _VariableSelectionNetwork        | 0      | train\n",
      "7  | encoder_vsn                       | _VariableSelectionNetwork        | 205 K  | train\n",
      "8  | decoder_vsn                       | _VariableSelectionNetwork        | 72.9 K | train\n",
      "9  | static_context_grn                | _GatedResidualNetwork            | 37.4 K | train\n",
      "10 | static_context_hidden_encoder_grn | _GatedResidualNetwork            | 37.4 K | train\n",
      "11 | static_context_cell_encoder_grn   | _GatedResidualNetwork            | 37.4 K | train\n",
      "12 | static_context_enrichment         | _GatedResidualNetwork            | 37.4 K | train\n",
      "13 | lstm_encoder                      | LSTM                             | 74.5 K | train\n",
      "14 | lstm_decoder                      | LSTM                             | 74.5 K | train\n",
      "15 | post_lstm_gan                     | _GateAddNorm                     | 18.8 K | train\n",
      "16 | static_enrichment_grn             | _GatedResidualNetwork            | 46.7 K | train\n",
      "17 | multihead_attn                    | _InterpretableMultiHeadAttention | 27.9 K | train\n",
      "18 | post_attn_gan                     | _GateAddNorm                     | 18.8 K | train\n",
      "19 | feed_forward_block                | _GatedResidualNetwork            | 37.4 K | train\n",
      "20 | pre_output_gan                    | _GateAddNorm                     | 18.8 K | train\n",
      "21 | output_layer                      | Linear                           | 776    | train\n",
      "------------------------------------------------------------------------------------------------\n",
      "746 K     Trainable params\n",
      "0         Non-trainable params\n",
      "746 K     Total params\n",
      "2.985     Total estimated model params size (MB)\n",
      "731       Modules in train mode\n",
      "0         Modules in eval mode\n"
     ]
    },
    {
     "name": "stdout",
     "output_type": "stream",
     "text": [
      "\n",
      "Iniciando Trial 0\n",
      "Hiperparâmetros: {'output_chunk_length': 24, 'input_chunk_length': 85, 'hidden_size': 96, 'lstm_layers': 1, 'num_attention_heads': 2, 'hidden_continuous_size': 23, 'add_relative_index': True, 'dropout': 0.15000000000000002, 'batch_size': 57, 'lr': 0.007635364276486364, 'forecast_horizon': 1}\n",
      "\n",
      "Treinando o modelo...\n",
      "Train set: 6647 samples\n",
      "Validation set: 1662 samples\n"
     ]
    },
    {
     "data": {
      "application/vnd.jupyter.widget-view+json": {
       "model_id": "bb1edf0c36d643cfacab13798b7ef6f9",
       "version_major": 2,
       "version_minor": 0
      },
      "text/plain": [
       "Sanity Checking: |          | 0/? [00:00<?, ?it/s]"
      ]
     },
     "metadata": {},
     "output_type": "display_data"
    },
    {
     "data": {
      "application/vnd.jupyter.widget-view+json": {
       "model_id": "9c4cbaf88b28408696263947b86d4a32",
       "version_major": 2,
       "version_minor": 0
      },
      "text/plain": [
       "Training: |          | 0/? [00:00<?, ?it/s]"
      ]
     },
     "metadata": {},
     "output_type": "display_data"
    },
    {
     "data": {
      "application/vnd.jupyter.widget-view+json": {
       "model_id": "1168880664d64470ab2ff6a60d8ee82a",
       "version_major": 2,
       "version_minor": 0
      },
      "text/plain": [
       "Validation: |          | 0/? [00:00<?, ?it/s]"
      ]
     },
     "metadata": {},
     "output_type": "display_data"
    },
    {
     "name": "stderr",
     "output_type": "stream",
     "text": [
      "Metric val_loss improved. New best score: 0.043\n"
     ]
    },
    {
     "data": {
      "application/vnd.jupyter.widget-view+json": {
       "model_id": "737db81a439146f4ba7b748a9549ba3a",
       "version_major": 2,
       "version_minor": 0
      },
      "text/plain": [
       "Validation: |          | 0/? [00:00<?, ?it/s]"
      ]
     },
     "metadata": {},
     "output_type": "display_data"
    },
    {
     "name": "stderr",
     "output_type": "stream",
     "text": [
      "Metric val_loss improved by 0.002 >= min_delta = 0.001. New best score: 0.041\n"
     ]
    },
    {
     "data": {
      "application/vnd.jupyter.widget-view+json": {
       "model_id": "43fe518869d3462790882065ca799d93",
       "version_major": 2,
       "version_minor": 0
      },
      "text/plain": [
       "Validation: |          | 0/? [00:00<?, ?it/s]"
      ]
     },
     "metadata": {},
     "output_type": "display_data"
    },
    {
     "name": "stderr",
     "output_type": "stream",
     "text": [
      "Metric val_loss improved by 0.001 >= min_delta = 0.001. New best score: 0.040\n"
     ]
    },
    {
     "data": {
      "application/vnd.jupyter.widget-view+json": {
       "model_id": "77e03c5d44394ba98afbb7d762fb974e",
       "version_major": 2,
       "version_minor": 0
      },
      "text/plain": [
       "Validation: |          | 0/? [00:00<?, ?it/s]"
      ]
     },
     "metadata": {},
     "output_type": "display_data"
    },
    {
     "data": {
      "application/vnd.jupyter.widget-view+json": {
       "model_id": "0d55387c71a64b0ebd79d557dbcd4e4d",
       "version_major": 2,
       "version_minor": 0
      },
      "text/plain": [
       "Validation: |          | 0/? [00:00<?, ?it/s]"
      ]
     },
     "metadata": {},
     "output_type": "display_data"
    },
    {
     "data": {
      "application/vnd.jupyter.widget-view+json": {
       "model_id": "967439d62e9a424faba18919ed68c8a4",
       "version_major": 2,
       "version_minor": 0
      },
      "text/plain": [
       "Validation: |          | 0/? [00:00<?, ?it/s]"
      ]
     },
     "metadata": {},
     "output_type": "display_data"
    },
    {
     "data": {
      "application/vnd.jupyter.widget-view+json": {
       "model_id": "5f63d248fef1469c9420fd0c84de93c1",
       "version_major": 2,
       "version_minor": 0
      },
      "text/plain": [
       "Validation: |          | 0/? [00:00<?, ?it/s]"
      ]
     },
     "metadata": {},
     "output_type": "display_data"
    },
    {
     "data": {
      "application/vnd.jupyter.widget-view+json": {
       "model_id": "d8e628c7dd2c47c5bd4d98f11026d4ce",
       "version_major": 2,
       "version_minor": 0
      },
      "text/plain": [
       "Validation: |          | 0/? [00:00<?, ?it/s]"
      ]
     },
     "metadata": {},
     "output_type": "display_data"
    },
    {
     "data": {
      "application/vnd.jupyter.widget-view+json": {
       "model_id": "27b76aae27514cfd97e97b9639ad3d45",
       "version_major": 2,
       "version_minor": 0
      },
      "text/plain": [
       "Validation: |          | 0/? [00:00<?, ?it/s]"
      ]
     },
     "metadata": {},
     "output_type": "display_data"
    },
    {
     "data": {
      "application/vnd.jupyter.widget-view+json": {
       "model_id": "97b0940b23264bcdaa7b876298b57a99",
       "version_major": 2,
       "version_minor": 0
      },
      "text/plain": [
       "Validation: |          | 0/? [00:00<?, ?it/s]"
      ]
     },
     "metadata": {},
     "output_type": "display_data"
    },
    {
     "data": {
      "application/vnd.jupyter.widget-view+json": {
       "model_id": "4c3e51da864f4c02b1ec8843f67ecc16",
       "version_major": 2,
       "version_minor": 0
      },
      "text/plain": [
       "Validation: |          | 0/? [00:00<?, ?it/s]"
      ]
     },
     "metadata": {},
     "output_type": "display_data"
    },
    {
     "data": {
      "application/vnd.jupyter.widget-view+json": {
       "model_id": "89a7245ad6c14331964fe518e119ecb9",
       "version_major": 2,
       "version_minor": 0
      },
      "text/plain": [
       "Validation: |          | 0/? [00:00<?, ?it/s]"
      ]
     },
     "metadata": {},
     "output_type": "display_data"
    },
    {
     "data": {
      "application/vnd.jupyter.widget-view+json": {
       "model_id": "70d51f014047487097d16d8bb9457fde",
       "version_major": 2,
       "version_minor": 0
      },
      "text/plain": [
       "Validation: |          | 0/? [00:00<?, ?it/s]"
      ]
     },
     "metadata": {},
     "output_type": "display_data"
    },
    {
     "name": "stderr",
     "output_type": "stream",
     "text": [
      "Monitored metric val_loss did not improve in the last 10 records. Best score: 0.040. Signaling Trainer to stop.\n",
      "GPU available: True (cuda), used: True\n",
      "TPU available: False, using: 0 TPU cores\n",
      "HPU available: False, using: 0 HPUs\n",
      "LOCAL_RANK: 0 - CUDA_VISIBLE_DEVICES: [0]\n"
     ]
    },
    {
     "name": "stdout",
     "output_type": "stream",
     "text": [
      "Modelo carregado do checkpoint para trial 0\n"
     ]
    },
    {
     "name": "stderr",
     "output_type": "stream",
     "text": [
      "/home/eduardo/Documentos/Water-Cycle-Neural-Network/venv/lib/python3.12/site-packages/pytorch_lightning/trainer/connectors/data_connector.py:425: The 'predict_dataloader' does not have many workers which may be a bottleneck. Consider increasing the value of the `num_workers` argument` to `num_workers=11` in the `DataLoader` to improve performance.\n"
     ]
    },
    {
     "data": {
      "application/vnd.jupyter.widget-view+json": {
       "model_id": "856029682b28474c9503d396191ab2b3",
       "version_major": 2,
       "version_minor": 0
      },
      "text/plain": [
       "Predicting: |          | 0/? [00:00<?, ?it/s]"
      ]
     },
     "metadata": {},
     "output_type": "display_data"
    },
    {
     "name": "stderr",
     "output_type": "stream",
     "text": [
      "[I 2025-05-15 12:10:05,503] Trial 0 finished with value: 54.03868496051025 and parameters: {'output_chunk_length': 24, 'input_chunk_length': 85, 'hidden_size': 96, 'lstm_layers': 1, 'num_attention_heads': 2, 'hidden_continuous_size': 23, 'add_relative_index': True, 'dropout': 0.15000000000000002, 'batch_size': 57, 'lr': 0.007635364276486364, 'forecast_horizon': 1}. Best is trial 0 with value: 54.03868496051025.\n",
      "GPU available: True (cuda), used: True\n",
      "TPU available: False, using: 0 TPU cores\n",
      "HPU available: False, using: 0 HPUs\n"
     ]
    },
    {
     "name": "stdout",
     "output_type": "stream",
     "text": [
      "Iniciando a verificação das séries temporais para constância...\n",
      "\n",
      "Métricas de performance:\n",
      "                                     MSE        RMSE  ...          R2       SMAPE\n",
      "Temperature                     1.590036    1.260966  ...    0.532940   16.555195\n",
      "Precipitation_accumulated     128.473255   11.334604  ... -134.357030    2.291602\n",
      "Humidity                       38.206964    6.181178  ...    0.412459    6.577626\n",
      "Wind_Speed_kmh                  0.241632    0.491561  ...    0.289960  164.203127\n",
      "Soil_Moisture              158570.261678  398.208817  ...    0.785707    4.907652\n",
      "Soil_Temperature                1.200427    1.095640  ...    0.786104   22.271035\n",
      "Wind_Dir_Sin                    0.148952    0.385944  ...    0.072635  169.032059\n",
      "Wind_Dir_Cos                    0.181221    0.425700  ...    0.368773   46.471184\n",
      "\n",
      "[8 rows x 5 columns]\n",
      "O SMAPE desse fold foi 54.03868496051025\n",
      "Resultados do trial 0 salvos em optuna_iteration_metrics/trial_0.json\n",
      "Current value: 54.03868496051025, Current params: {'output_chunk_length': 24, 'input_chunk_length': 85, 'hidden_size': 96, 'lstm_layers': 1, 'num_attention_heads': 2, 'hidden_continuous_size': 23, 'add_relative_index': True, 'dropout': 0.15000000000000002, 'batch_size': 57, 'lr': 0.007635364276486364, 'forecast_horizon': 1}\n",
      "Best value: 54.03868496051025, Best params: {'output_chunk_length': 24, 'input_chunk_length': 85, 'hidden_size': 96, 'lstm_layers': 1, 'num_attention_heads': 2, 'hidden_continuous_size': 23, 'add_relative_index': True, 'dropout': 0.15000000000000002, 'batch_size': 57, 'lr': 0.007635364276486364, 'forecast_horizon': 1}\n",
      "\n",
      "Iniciando Trial 1\n",
      "Hiperparâmetros: {'output_chunk_length': 33, 'input_chunk_length': 47, 'hidden_size': 202, 'lstm_layers': 1, 'num_attention_heads': 4, 'hidden_continuous_size': 29, 'add_relative_index': True, 'dropout': 0.1, 'batch_size': 31, 'lr': 1.819041376574268e-05, 'forecast_horizon': 15}\n",
      "\n",
      "Treinando o modelo...\n",
      "Train set: 6647 samples\n",
      "Validation set: 1662 samples\n"
     ]
    },
    {
     "name": "stderr",
     "output_type": "stream",
     "text": [
      "LOCAL_RANK: 0 - CUDA_VISIBLE_DEVICES: [0]\n",
      "\n",
      "   | Name                              | Type                             | Params | Mode \n",
      "------------------------------------------------------------------------------------------------\n",
      "0  | criterion                         | HuberLoss                        | 0      | train\n",
      "1  | train_criterion                   | HuberLoss                        | 0      | train\n",
      "2  | val_criterion                     | HuberLoss                        | 0      | train\n",
      "3  | train_metrics                     | MetricCollection                 | 0      | train\n",
      "4  | val_metrics                       | MetricCollection                 | 0      | train\n",
      "5  | input_embeddings                  | _MultiEmbedding                  | 0      | train\n",
      "6  | static_covariates_vsn             | _VariableSelectionNetwork        | 0      | train\n",
      "7  | encoder_vsn                       | _VariableSelectionNetwork        | 465 K  | train\n",
      "8  | decoder_vsn                       | _VariableSelectionNetwork        | 170 K  | train\n",
      "9  | static_context_grn                | _GatedResidualNetwork            | 164 K  | train\n",
      "10 | static_context_hidden_encoder_grn | _GatedResidualNetwork            | 164 K  | train\n",
      "11 | static_context_cell_encoder_grn   | _GatedResidualNetwork            | 164 K  | train\n",
      "12 | static_context_enrichment         | _GatedResidualNetwork            | 164 K  | train\n",
      "13 | lstm_encoder                      | LSTM                             | 328 K  | train\n",
      "14 | lstm_decoder                      | LSTM                             | 328 K  | train\n",
      "15 | post_lstm_gan                     | _GateAddNorm                     | 82.4 K | train\n",
      "16 | static_enrichment_grn             | _GatedResidualNetwork            | 205 K  | train\n",
      "17 | multihead_attn                    | _InterpretableMultiHeadAttention | 101 K  | train\n",
      "18 | post_attn_gan                     | _GateAddNorm                     | 82.4 K | train\n",
      "19 | feed_forward_block                | _GatedResidualNetwork            | 164 K  | train\n",
      "20 | pre_output_gan                    | _GateAddNorm                     | 82.4 K | train\n",
      "21 | output_layer                      | Linear                           | 1.6 K  | train\n",
      "------------------------------------------------------------------------------------------------\n",
      "2.7 M     Trainable params\n",
      "0         Non-trainable params\n",
      "2.7 M     Total params\n",
      "10.678    Total estimated model params size (MB)\n",
      "735       Modules in train mode\n",
      "0         Modules in eval mode\n"
     ]
    },
    {
     "data": {
      "application/vnd.jupyter.widget-view+json": {
       "model_id": "82009c8419a44a3aabe010491b6bf650",
       "version_major": 2,
       "version_minor": 0
      },
      "text/plain": [
       "Sanity Checking: |          | 0/? [00:00<?, ?it/s]"
      ]
     },
     "metadata": {},
     "output_type": "display_data"
    },
    {
     "data": {
      "application/vnd.jupyter.widget-view+json": {
       "model_id": "4e1dec8cf7fe45a39f7594c1d26de59a",
       "version_major": 2,
       "version_minor": 0
      },
      "text/plain": [
       "Training: |          | 0/? [00:00<?, ?it/s]"
      ]
     },
     "metadata": {},
     "output_type": "display_data"
    },
    {
     "data": {
      "application/vnd.jupyter.widget-view+json": {
       "model_id": "39aa62c9b961463f97e0ae689d65b513",
       "version_major": 2,
       "version_minor": 0
      },
      "text/plain": [
       "Validation: |          | 0/? [00:00<?, ?it/s]"
      ]
     },
     "metadata": {},
     "output_type": "display_data"
    },
    {
     "name": "stderr",
     "output_type": "stream",
     "text": [
      "Metric val_loss improved. New best score: 0.038\n"
     ]
    },
    {
     "data": {
      "application/vnd.jupyter.widget-view+json": {
       "model_id": "a00987bc50984852b7006f5f3639840b",
       "version_major": 2,
       "version_minor": 0
      },
      "text/plain": [
       "Validation: |          | 0/? [00:00<?, ?it/s]"
      ]
     },
     "metadata": {},
     "output_type": "display_data"
    },
    {
     "name": "stderr",
     "output_type": "stream",
     "text": [
      "Metric val_loss improved by 0.005 >= min_delta = 0.001. New best score: 0.033\n"
     ]
    },
    {
     "data": {
      "application/vnd.jupyter.widget-view+json": {
       "model_id": "92ba6237e52d4489ac17642dae9c2ff6",
       "version_major": 2,
       "version_minor": 0
      },
      "text/plain": [
       "Validation: |          | 0/? [00:00<?, ?it/s]"
      ]
     },
     "metadata": {},
     "output_type": "display_data"
    },
    {
     "data": {
      "application/vnd.jupyter.widget-view+json": {
       "model_id": "dd98abdb8a444550ab3e09598a3e8668",
       "version_major": 2,
       "version_minor": 0
      },
      "text/plain": [
       "Validation: |          | 0/? [00:00<?, ?it/s]"
      ]
     },
     "metadata": {},
     "output_type": "display_data"
    },
    {
     "data": {
      "application/vnd.jupyter.widget-view+json": {
       "model_id": "f5a7595714d54440b39074e96a39a6e4",
       "version_major": 2,
       "version_minor": 0
      },
      "text/plain": [
       "Validation: |          | 0/? [00:00<?, ?it/s]"
      ]
     },
     "metadata": {},
     "output_type": "display_data"
    },
    {
     "data": {
      "application/vnd.jupyter.widget-view+json": {
       "model_id": "d3c28d454d2940d49a84521ed5cd4dd0",
       "version_major": 2,
       "version_minor": 0
      },
      "text/plain": [
       "Validation: |          | 0/? [00:00<?, ?it/s]"
      ]
     },
     "metadata": {},
     "output_type": "display_data"
    },
    {
     "data": {
      "application/vnd.jupyter.widget-view+json": {
       "model_id": "2b5bfd3a6daa4a8b9d12ac424bed4d1d",
       "version_major": 2,
       "version_minor": 0
      },
      "text/plain": [
       "Validation: |          | 0/? [00:00<?, ?it/s]"
      ]
     },
     "metadata": {},
     "output_type": "display_data"
    },
    {
     "data": {
      "application/vnd.jupyter.widget-view+json": {
       "model_id": "47d0ca96c08e4394a690a2cd3f3fe95f",
       "version_major": 2,
       "version_minor": 0
      },
      "text/plain": [
       "Validation: |          | 0/? [00:00<?, ?it/s]"
      ]
     },
     "metadata": {},
     "output_type": "display_data"
    },
    {
     "data": {
      "application/vnd.jupyter.widget-view+json": {
       "model_id": "48b6ea2d10934544865dbe0616918f9a",
       "version_major": 2,
       "version_minor": 0
      },
      "text/plain": [
       "Validation: |          | 0/? [00:00<?, ?it/s]"
      ]
     },
     "metadata": {},
     "output_type": "display_data"
    },
    {
     "data": {
      "application/vnd.jupyter.widget-view+json": {
       "model_id": "3e371d59179b451ea7e8f311c98bd92a",
       "version_major": 2,
       "version_minor": 0
      },
      "text/plain": [
       "Validation: |          | 0/? [00:00<?, ?it/s]"
      ]
     },
     "metadata": {},
     "output_type": "display_data"
    },
    {
     "data": {
      "application/vnd.jupyter.widget-view+json": {
       "model_id": "776389ddb64e4eef9e6525f87ab1b255",
       "version_major": 2,
       "version_minor": 0
      },
      "text/plain": [
       "Validation: |          | 0/? [00:00<?, ?it/s]"
      ]
     },
     "metadata": {},
     "output_type": "display_data"
    },
    {
     "data": {
      "application/vnd.jupyter.widget-view+json": {
       "model_id": "86a42da92ed5465494a1fdcce0dd66da",
       "version_major": 2,
       "version_minor": 0
      },
      "text/plain": [
       "Validation: |          | 0/? [00:00<?, ?it/s]"
      ]
     },
     "metadata": {},
     "output_type": "display_data"
    },
    {
     "name": "stderr",
     "output_type": "stream",
     "text": [
      "Monitored metric val_loss did not improve in the last 10 records. Best score: 0.033. Signaling Trainer to stop.\n",
      "GPU available: True (cuda), used: True\n",
      "TPU available: False, using: 0 TPU cores\n",
      "HPU available: False, using: 0 HPUs\n",
      "LOCAL_RANK: 0 - CUDA_VISIBLE_DEVICES: [0]\n"
     ]
    },
    {
     "name": "stdout",
     "output_type": "stream",
     "text": [
      "Modelo carregado do checkpoint para trial 1\n"
     ]
    },
    {
     "name": "stderr",
     "output_type": "stream",
     "text": [
      "/home/eduardo/Documentos/Water-Cycle-Neural-Network/venv/lib/python3.12/site-packages/pytorch_lightning/trainer/connectors/data_connector.py:425: The 'predict_dataloader' does not have many workers which may be a bottleneck. Consider increasing the value of the `num_workers` argument` to `num_workers=11` in the `DataLoader` to improve performance.\n"
     ]
    },
    {
     "data": {
      "application/vnd.jupyter.widget-view+json": {
       "model_id": "79451d02667c4024981d3495f513a2a1",
       "version_major": 2,
       "version_minor": 0
      },
      "text/plain": [
       "Predicting: |          | 0/? [00:00<?, ?it/s]"
      ]
     },
     "metadata": {},
     "output_type": "display_data"
    },
    {
     "name": "stderr",
     "output_type": "stream",
     "text": [
      "[I 2025-05-15 12:21:59,348] Trial 1 finished with value: 60.4285914530825 and parameters: {'output_chunk_length': 33, 'input_chunk_length': 47, 'hidden_size': 202, 'lstm_layers': 1, 'num_attention_heads': 4, 'hidden_continuous_size': 29, 'add_relative_index': True, 'dropout': 0.1, 'batch_size': 31, 'lr': 1.819041376574268e-05, 'forecast_horizon': 15}. Best is trial 0 with value: 54.03868496051025.\n"
     ]
    },
    {
     "name": "stdout",
     "output_type": "stream",
     "text": [
      "Iniciando a verificação das séries temporais para constância...\n",
      "\n",
      "Métricas de performance:\n",
      "                                     MSE        RMSE  ...           R2       SMAPE\n",
      "Temperature                     3.086682    1.756895  ...     0.089946   22.559615\n",
      "Precipitation_accumulated    1557.941218   39.470764  ... -1637.018606    7.546674\n",
      "Humidity                      101.475110   10.073485  ...    -0.557586    9.728591\n",
      "Wind_Speed_kmh                  0.378770    0.615443  ...    -0.102934  175.769827\n",
      "Soil_Moisture              490989.550768  700.706465  ...     0.342192    5.722081\n",
      "Soil_Temperature                9.082392    3.013701  ...    -0.624477   40.491227\n",
      "Wind_Dir_Sin                    0.169689    0.411934  ...    -0.047403  172.192294\n",
      "Wind_Dir_Cos                    0.214511    0.463153  ...     0.258261   49.418422\n",
      "\n",
      "[8 rows x 5 columns]\n",
      "O SMAPE desse fold foi 60.4285914530825\n",
      "Resultados do trial 1 salvos em optuna_iteration_metrics/trial_1.json\n",
      "Current value: 60.4285914530825, Current params: {'output_chunk_length': 33, 'input_chunk_length': 47, 'hidden_size': 202, 'lstm_layers': 1, 'num_attention_heads': 4, 'hidden_continuous_size': 29, 'add_relative_index': True, 'dropout': 0.1, 'batch_size': 31, 'lr': 1.819041376574268e-05, 'forecast_horizon': 15}\n",
      "Best value: 54.03868496051025, Best params: {'output_chunk_length': 24, 'input_chunk_length': 85, 'hidden_size': 96, 'lstm_layers': 1, 'num_attention_heads': 2, 'hidden_continuous_size': 23, 'add_relative_index': True, 'dropout': 0.15000000000000002, 'batch_size': 57, 'lr': 0.007635364276486364, 'forecast_horizon': 1}\n",
      "\n",
      "Iniciando Trial 2\n",
      "Hiperparâmetros: {'output_chunk_length': 56, 'input_chunk_length': 63, 'hidden_size': 225, 'lstm_layers': 2, 'num_attention_heads': 2, 'hidden_continuous_size': 11, 'add_relative_index': True, 'dropout': 0.25, 'batch_size': 25, 'lr': 5.402678421986355e-05, 'forecast_horizon': 2}\n",
      "\n",
      "Treinando o modelo...\n",
      "Train set: 6647 samples\n",
      "Validation set: 1662 samples\n"
     ]
    },
    {
     "name": "stderr",
     "output_type": "stream",
     "text": [
      "GPU available: True (cuda), used: True\n",
      "TPU available: False, using: 0 TPU cores\n",
      "HPU available: False, using: 0 HPUs\n",
      "LOCAL_RANK: 0 - CUDA_VISIBLE_DEVICES: [0]\n",
      "\n",
      "   | Name                              | Type                             | Params | Mode \n",
      "------------------------------------------------------------------------------------------------\n",
      "0  | criterion                         | HuberLoss                        | 0      | train\n",
      "1  | train_criterion                   | HuberLoss                        | 0      | train\n",
      "2  | val_criterion                     | HuberLoss                        | 0      | train\n",
      "3  | train_metrics                     | MetricCollection                 | 0      | train\n",
      "4  | val_metrics                       | MetricCollection                 | 0      | train\n",
      "5  | input_embeddings                  | _MultiEmbedding                  | 0      | train\n",
      "6  | static_covariates_vsn             | _VariableSelectionNetwork        | 0      | train\n",
      "7  | encoder_vsn                       | _VariableSelectionNetwork        | 216 K  | train\n",
      "8  | decoder_vsn                       | _VariableSelectionNetwork        | 79.2 K | train\n",
      "9  | static_context_grn                | _GatedResidualNetwork            | 203 K  | train\n",
      "10 | static_context_hidden_encoder_grn | _GatedResidualNetwork            | 203 K  | train\n",
      "11 | static_context_cell_encoder_grn   | _GatedResidualNetwork            | 203 K  | train\n",
      "12 | static_context_enrichment         | _GatedResidualNetwork            | 203 K  | train\n",
      "13 | lstm_encoder                      | LSTM                             | 813 K  | train\n",
      "14 | lstm_decoder                      | LSTM                             | 813 K  | train\n",
      "15 | post_lstm_gan                     | _GateAddNorm                     | 102 K  | train\n",
      "16 | static_enrichment_grn             | _GatedResidualNetwork            | 254 K  | train\n",
      "17 | multihead_attn                    | _InterpretableMultiHeadAttention | 151 K  | train\n",
      "18 | post_attn_gan                     | _GateAddNorm                     | 102 K  | train\n",
      "19 | feed_forward_block                | _GatedResidualNetwork            | 203 K  | train\n",
      "20 | pre_output_gan                    | _GateAddNorm                     | 102 K  | train\n",
      "21 | output_layer                      | Linear                           | 1.8 K  | train\n",
      "------------------------------------------------------------------------------------------------\n",
      "3.7 M     Trainable params\n",
      "0         Non-trainable params\n",
      "3.7 M     Total params\n",
      "14.624    Total estimated model params size (MB)\n",
      "731       Modules in train mode\n",
      "0         Modules in eval mode\n"
     ]
    },
    {
     "data": {
      "application/vnd.jupyter.widget-view+json": {
       "model_id": "7012ffd65a7e4e268eef885a41283a6b",
       "version_major": 2,
       "version_minor": 0
      },
      "text/plain": [
       "Sanity Checking: |          | 0/? [00:00<?, ?it/s]"
      ]
     },
     "metadata": {},
     "output_type": "display_data"
    },
    {
     "data": {
      "application/vnd.jupyter.widget-view+json": {
       "model_id": "a6aa7c7e50c44cfdb552af86ba22af6b",
       "version_major": 2,
       "version_minor": 0
      },
      "text/plain": [
       "Training: |          | 0/? [00:00<?, ?it/s]"
      ]
     },
     "metadata": {},
     "output_type": "display_data"
    },
    {
     "data": {
      "application/vnd.jupyter.widget-view+json": {
       "model_id": "e198b9c30b634fefa8a4917cc3bbbb45",
       "version_major": 2,
       "version_minor": 0
      },
      "text/plain": [
       "Validation: |          | 0/? [00:00<?, ?it/s]"
      ]
     },
     "metadata": {},
     "output_type": "display_data"
    },
    {
     "name": "stderr",
     "output_type": "stream",
     "text": [
      "Metric val_loss improved. New best score: 0.038\n"
     ]
    },
    {
     "data": {
      "application/vnd.jupyter.widget-view+json": {
       "model_id": "08079c7b013c4a1ea50907524df709f1",
       "version_major": 2,
       "version_minor": 0
      },
      "text/plain": [
       "Validation: |          | 0/? [00:00<?, ?it/s]"
      ]
     },
     "metadata": {},
     "output_type": "display_data"
    },
    {
     "data": {
      "application/vnd.jupyter.widget-view+json": {
       "model_id": "3eaad599395345a7a9f9dcf7b44301b3",
       "version_major": 2,
       "version_minor": 0
      },
      "text/plain": [
       "Validation: |          | 0/? [00:00<?, ?it/s]"
      ]
     },
     "metadata": {},
     "output_type": "display_data"
    },
    {
     "data": {
      "application/vnd.jupyter.widget-view+json": {
       "model_id": "c8288d6c047d40c9b6725e2135ad66e6",
       "version_major": 2,
       "version_minor": 0
      },
      "text/plain": [
       "Validation: |          | 0/? [00:00<?, ?it/s]"
      ]
     },
     "metadata": {},
     "output_type": "display_data"
    },
    {
     "data": {
      "application/vnd.jupyter.widget-view+json": {
       "model_id": "847b28c61cb34c5da8f576c2527f86f0",
       "version_major": 2,
       "version_minor": 0
      },
      "text/plain": [
       "Validation: |          | 0/? [00:00<?, ?it/s]"
      ]
     },
     "metadata": {},
     "output_type": "display_data"
    },
    {
     "data": {
      "application/vnd.jupyter.widget-view+json": {
       "model_id": "8bffc80125264eb5a416b762a85a4a30",
       "version_major": 2,
       "version_minor": 0
      },
      "text/plain": [
       "Validation: |          | 0/? [00:00<?, ?it/s]"
      ]
     },
     "metadata": {},
     "output_type": "display_data"
    },
    {
     "data": {
      "application/vnd.jupyter.widget-view+json": {
       "model_id": "0199ad3c92fd444a9acc4b424e74c89d",
       "version_major": 2,
       "version_minor": 0
      },
      "text/plain": [
       "Validation: |          | 0/? [00:00<?, ?it/s]"
      ]
     },
     "metadata": {},
     "output_type": "display_data"
    },
    {
     "data": {
      "application/vnd.jupyter.widget-view+json": {
       "model_id": "122a08be6cae478794036dde206e6dcb",
       "version_major": 2,
       "version_minor": 0
      },
      "text/plain": [
       "Validation: |          | 0/? [00:00<?, ?it/s]"
      ]
     },
     "metadata": {},
     "output_type": "display_data"
    },
    {
     "data": {
      "application/vnd.jupyter.widget-view+json": {
       "model_id": "4690cf1ec9ba4c1b94052ed73bb1d438",
       "version_major": 2,
       "version_minor": 0
      },
      "text/plain": [
       "Validation: |          | 0/? [00:00<?, ?it/s]"
      ]
     },
     "metadata": {},
     "output_type": "display_data"
    },
    {
     "data": {
      "application/vnd.jupyter.widget-view+json": {
       "model_id": "c200982bfa81480ab86e1cbf751b8508",
       "version_major": 2,
       "version_minor": 0
      },
      "text/plain": [
       "Validation: |          | 0/? [00:00<?, ?it/s]"
      ]
     },
     "metadata": {},
     "output_type": "display_data"
    },
    {
     "data": {
      "application/vnd.jupyter.widget-view+json": {
       "model_id": "99ee5ef3d33249feb9b0fa1cc0e6dd68",
       "version_major": 2,
       "version_minor": 0
      },
      "text/plain": [
       "Validation: |          | 0/? [00:00<?, ?it/s]"
      ]
     },
     "metadata": {},
     "output_type": "display_data"
    },
    {
     "name": "stderr",
     "output_type": "stream",
     "text": [
      "Monitored metric val_loss did not improve in the last 10 records. Best score: 0.038. Signaling Trainer to stop.\n",
      "GPU available: True (cuda), used: True\n",
      "TPU available: False, using: 0 TPU cores\n",
      "HPU available: False, using: 0 HPUs\n",
      "LOCAL_RANK: 0 - CUDA_VISIBLE_DEVICES: [0]\n"
     ]
    },
    {
     "name": "stdout",
     "output_type": "stream",
     "text": [
      "Modelo carregado do checkpoint para trial 2\n"
     ]
    },
    {
     "name": "stderr",
     "output_type": "stream",
     "text": [
      "/home/eduardo/Documentos/Water-Cycle-Neural-Network/venv/lib/python3.12/site-packages/pytorch_lightning/trainer/connectors/data_connector.py:425: The 'predict_dataloader' does not have many workers which may be a bottleneck. Consider increasing the value of the `num_workers` argument` to `num_workers=11` in the `DataLoader` to improve performance.\n"
     ]
    },
    {
     "data": {
      "application/vnd.jupyter.widget-view+json": {
       "model_id": "7af9e7e99d654422b9268f50a5b206cc",
       "version_major": 2,
       "version_minor": 0
      },
      "text/plain": [
       "Predicting: |          | 0/? [00:00<?, ?it/s]"
      ]
     },
     "metadata": {},
     "output_type": "display_data"
    },
    {
     "name": "stderr",
     "output_type": "stream",
     "text": [
      "[I 2025-05-15 12:53:40,024] Trial 2 finished with value: 59.65574262585605 and parameters: {'output_chunk_length': 56, 'input_chunk_length': 63, 'hidden_size': 225, 'lstm_layers': 2, 'num_attention_heads': 2, 'hidden_continuous_size': 11, 'add_relative_index': True, 'dropout': 0.25, 'batch_size': 25, 'lr': 5.402678421986355e-05, 'forecast_horizon': 2}. Best is trial 0 with value: 54.03868496051025.\n",
      "GPU available: True (cuda), used: True\n",
      "TPU available: False, using: 0 TPU cores\n",
      "HPU available: False, using: 0 HPUs\n",
      "LOCAL_RANK: 0 - CUDA_VISIBLE_DEVICES: [0]\n"
     ]
    },
    {
     "name": "stdout",
     "output_type": "stream",
     "text": [
      "Iniciando a verificação das séries temporais para constância...\n",
      "\n",
      "Métricas de performance:\n",
      "                                     MSE        RMSE  ...           R2       SMAPE\n",
      "Temperature                     3.714671    1.927348  ...    -0.091155   24.935080\n",
      "Precipitation_accumulated    3331.253491   57.717012  ... -3508.746665   11.334037\n",
      "Humidity                       68.659892    8.286126  ...    -0.055841    8.432884\n",
      "Wind_Speed_kmh                  0.325091    0.570168  ...     0.044714  174.514497\n",
      "Soil_Moisture              482532.226011  694.645396  ...     0.347903    5.950022\n",
      "Soil_Temperature               11.861604    3.444068  ...    -1.113536   41.794155\n",
      "Wind_Dir_Sin                    0.142314    0.377246  ...     0.113963  164.023791\n",
      "Wind_Dir_Cos                    0.253484    0.503472  ...     0.117068   46.261475\n",
      "\n",
      "[8 rows x 5 columns]\n",
      "O SMAPE desse fold foi 59.65574262585605\n",
      "Resultados do trial 2 salvos em optuna_iteration_metrics/trial_2.json\n",
      "Current value: 59.65574262585605, Current params: {'output_chunk_length': 56, 'input_chunk_length': 63, 'hidden_size': 225, 'lstm_layers': 2, 'num_attention_heads': 2, 'hidden_continuous_size': 11, 'add_relative_index': True, 'dropout': 0.25, 'batch_size': 25, 'lr': 5.402678421986355e-05, 'forecast_horizon': 2}\n",
      "Best value: 54.03868496051025, Best params: {'output_chunk_length': 24, 'input_chunk_length': 85, 'hidden_size': 96, 'lstm_layers': 1, 'num_attention_heads': 2, 'hidden_continuous_size': 23, 'add_relative_index': True, 'dropout': 0.15000000000000002, 'batch_size': 57, 'lr': 0.007635364276486364, 'forecast_horizon': 1}\n",
      "\n",
      "Iniciando Trial 3\n",
      "Hiperparâmetros: {'output_chunk_length': 25, 'input_chunk_length': 31, 'hidden_size': 93, 'lstm_layers': 1, 'num_attention_heads': 2, 'hidden_continuous_size': 22, 'add_relative_index': False, 'dropout': 0.0, 'batch_size': 26, 'lr': 0.0015195201810891232, 'forecast_horizon': 24}\n",
      "\n",
      "Treinando o modelo...\n",
      "Train set: 6647 samples\n",
      "Validation set: 1662 samples\n"
     ]
    },
    {
     "name": "stderr",
     "output_type": "stream",
     "text": [
      "\n",
      "   | Name                              | Type                             | Params | Mode \n",
      "------------------------------------------------------------------------------------------------\n",
      "0  | criterion                         | HuberLoss                        | 0      | train\n",
      "1  | train_criterion                   | HuberLoss                        | 0      | train\n",
      "2  | val_criterion                     | HuberLoss                        | 0      | train\n",
      "3  | train_metrics                     | MetricCollection                 | 0      | train\n",
      "4  | val_metrics                       | MetricCollection                 | 0      | train\n",
      "5  | input_embeddings                  | _MultiEmbedding                  | 0      | train\n",
      "6  | static_covariates_vsn             | _VariableSelectionNetwork        | 0      | train\n",
      "7  | encoder_vsn                       | _VariableSelectionNetwork        | 184 K  | train\n",
      "8  | decoder_vsn                       | _VariableSelectionNetwork        | 61.5 K | train\n",
      "9  | static_context_grn                | _GatedResidualNetwork            | 35.2 K | train\n",
      "10 | static_context_hidden_encoder_grn | _GatedResidualNetwork            | 35.2 K | train\n",
      "11 | static_context_cell_encoder_grn   | _GatedResidualNetwork            | 35.2 K | train\n",
      "12 | static_context_enrichment         | _GatedResidualNetwork            | 35.2 K | train\n",
      "13 | lstm_encoder                      | LSTM                             | 69.9 K | train\n",
      "14 | lstm_decoder                      | LSTM                             | 69.9 K | train\n",
      "15 | post_lstm_gan                     | _GateAddNorm                     | 17.7 K | train\n",
      "16 | static_enrichment_grn             | _GatedResidualNetwork            | 43.8 K | train\n",
      "17 | multihead_attn                    | _InterpretableMultiHeadAttention | 25.9 K | train\n",
      "18 | post_attn_gan                     | _GateAddNorm                     | 17.7 K | train\n",
      "19 | feed_forward_block                | _GatedResidualNetwork            | 35.2 K | train\n",
      "20 | pre_output_gan                    | _GateAddNorm                     | 17.7 K | train\n",
      "21 | output_layer                      | Linear                           | 752    | train\n",
      "------------------------------------------------------------------------------------------------\n",
      "685 K     Trainable params\n",
      "0         Non-trainable params\n",
      "685 K     Total params\n",
      "2.740     Total estimated model params size (MB)\n",
      "702       Modules in train mode\n",
      "0         Modules in eval mode\n"
     ]
    },
    {
     "data": {
      "application/vnd.jupyter.widget-view+json": {
       "model_id": "7af7cc76cc62435c820eb23e6d42bf68",
       "version_major": 2,
       "version_minor": 0
      },
      "text/plain": [
       "Sanity Checking: |          | 0/? [00:00<?, ?it/s]"
      ]
     },
     "metadata": {},
     "output_type": "display_data"
    },
    {
     "data": {
      "application/vnd.jupyter.widget-view+json": {
       "model_id": "860a153202f7476e929d547cca924905",
       "version_major": 2,
       "version_minor": 0
      },
      "text/plain": [
       "Training: |          | 0/? [00:00<?, ?it/s]"
      ]
     },
     "metadata": {},
     "output_type": "display_data"
    },
    {
     "data": {
      "application/vnd.jupyter.widget-view+json": {
       "model_id": "9cc874b9f291405da3f15e0be094aff1",
       "version_major": 2,
       "version_minor": 0
      },
      "text/plain": [
       "Validation: |          | 0/? [00:00<?, ?it/s]"
      ]
     },
     "metadata": {},
     "output_type": "display_data"
    },
    {
     "name": "stderr",
     "output_type": "stream",
     "text": [
      "Metric val_loss improved. New best score: 0.038\n"
     ]
    },
    {
     "data": {
      "application/vnd.jupyter.widget-view+json": {
       "model_id": "47de449e048b43b1b188ea9e02415153",
       "version_major": 2,
       "version_minor": 0
      },
      "text/plain": [
       "Validation: |          | 0/? [00:00<?, ?it/s]"
      ]
     },
     "metadata": {},
     "output_type": "display_data"
    },
    {
     "name": "stderr",
     "output_type": "stream",
     "text": [
      "Metric val_loss improved by 0.014 >= min_delta = 0.001. New best score: 0.024\n"
     ]
    },
    {
     "data": {
      "application/vnd.jupyter.widget-view+json": {
       "model_id": "f523422e30984a1f886b37198165d910",
       "version_major": 2,
       "version_minor": 0
      },
      "text/plain": [
       "Validation: |          | 0/? [00:00<?, ?it/s]"
      ]
     },
     "metadata": {},
     "output_type": "display_data"
    },
    {
     "data": {
      "application/vnd.jupyter.widget-view+json": {
       "model_id": "622de5785f0a4e0ba2e819739d58782a",
       "version_major": 2,
       "version_minor": 0
      },
      "text/plain": [
       "Validation: |          | 0/? [00:00<?, ?it/s]"
      ]
     },
     "metadata": {},
     "output_type": "display_data"
    },
    {
     "data": {
      "application/vnd.jupyter.widget-view+json": {
       "model_id": "3453e284388449859179620c99421554",
       "version_major": 2,
       "version_minor": 0
      },
      "text/plain": [
       "Validation: |          | 0/? [00:00<?, ?it/s]"
      ]
     },
     "metadata": {},
     "output_type": "display_data"
    },
    {
     "data": {
      "application/vnd.jupyter.widget-view+json": {
       "model_id": "0bfe86cabcc64352942818a8236e8098",
       "version_major": 2,
       "version_minor": 0
      },
      "text/plain": [
       "Validation: |          | 0/? [00:00<?, ?it/s]"
      ]
     },
     "metadata": {},
     "output_type": "display_data"
    },
    {
     "data": {
      "application/vnd.jupyter.widget-view+json": {
       "model_id": "a5979bb8ee56414782d0252c0e8bf148",
       "version_major": 2,
       "version_minor": 0
      },
      "text/plain": [
       "Validation: |          | 0/? [00:00<?, ?it/s]"
      ]
     },
     "metadata": {},
     "output_type": "display_data"
    },
    {
     "data": {
      "application/vnd.jupyter.widget-view+json": {
       "model_id": "4e5b923beec74008b0037cd0f626e04c",
       "version_major": 2,
       "version_minor": 0
      },
      "text/plain": [
       "Validation: |          | 0/? [00:00<?, ?it/s]"
      ]
     },
     "metadata": {},
     "output_type": "display_data"
    },
    {
     "data": {
      "application/vnd.jupyter.widget-view+json": {
       "model_id": "1df61f2289ab471ab20e32c8b877b7ae",
       "version_major": 2,
       "version_minor": 0
      },
      "text/plain": [
       "Validation: |          | 0/? [00:00<?, ?it/s]"
      ]
     },
     "metadata": {},
     "output_type": "display_data"
    },
    {
     "data": {
      "application/vnd.jupyter.widget-view+json": {
       "model_id": "6ea6c846ad3d40669a4c8640109d3834",
       "version_major": 2,
       "version_minor": 0
      },
      "text/plain": [
       "Validation: |          | 0/? [00:00<?, ?it/s]"
      ]
     },
     "metadata": {},
     "output_type": "display_data"
    },
    {
     "data": {
      "application/vnd.jupyter.widget-view+json": {
       "model_id": "3fa040e984f641c1ab4dfa136507955c",
       "version_major": 2,
       "version_minor": 0
      },
      "text/plain": [
       "Validation: |          | 0/? [00:00<?, ?it/s]"
      ]
     },
     "metadata": {},
     "output_type": "display_data"
    },
    {
     "data": {
      "application/vnd.jupyter.widget-view+json": {
       "model_id": "692135d8b14d49dfaecb2c67d9626771",
       "version_major": 2,
       "version_minor": 0
      },
      "text/plain": [
       "Validation: |          | 0/? [00:00<?, ?it/s]"
      ]
     },
     "metadata": {},
     "output_type": "display_data"
    },
    {
     "name": "stderr",
     "output_type": "stream",
     "text": [
      "Monitored metric val_loss did not improve in the last 10 records. Best score: 0.024. Signaling Trainer to stop.\n",
      "GPU available: True (cuda), used: True\n",
      "TPU available: False, using: 0 TPU cores\n",
      "HPU available: False, using: 0 HPUs\n",
      "LOCAL_RANK: 0 - CUDA_VISIBLE_DEVICES: [0]\n"
     ]
    },
    {
     "name": "stdout",
     "output_type": "stream",
     "text": [
      "Modelo carregado do checkpoint para trial 3\n"
     ]
    },
    {
     "name": "stderr",
     "output_type": "stream",
     "text": [
      "/home/eduardo/Documentos/Water-Cycle-Neural-Network/venv/lib/python3.12/site-packages/pytorch_lightning/trainer/connectors/data_connector.py:425: The 'predict_dataloader' does not have many workers which may be a bottleneck. Consider increasing the value of the `num_workers` argument` to `num_workers=11` in the `DataLoader` to improve performance.\n"
     ]
    },
    {
     "data": {
      "application/vnd.jupyter.widget-view+json": {
       "model_id": "a911ecf54ed5454ba5fbd7ea23f8443e",
       "version_major": 2,
       "version_minor": 0
      },
      "text/plain": [
       "Predicting: |          | 0/? [00:00<?, ?it/s]"
      ]
     },
     "metadata": {},
     "output_type": "display_data"
    },
    {
     "name": "stderr",
     "output_type": "stream",
     "text": [
      "[I 2025-05-15 12:59:19,676] Trial 3 finished with value: 57.2867127775383 and parameters: {'output_chunk_length': 25, 'input_chunk_length': 31, 'hidden_size': 93, 'lstm_layers': 1, 'num_attention_heads': 2, 'hidden_continuous_size': 22, 'add_relative_index': False, 'dropout': 0.0, 'batch_size': 26, 'lr': 0.0015195201810891232, 'forecast_horizon': 24}. Best is trial 0 with value: 54.03868496051025.\n",
      "GPU available: True (cuda), used: True\n",
      "TPU available: False, using: 0 TPU cores\n",
      "HPU available: False, using: 0 HPUs\n",
      "LOCAL_RANK: 0 - CUDA_VISIBLE_DEVICES: [0]\n"
     ]
    },
    {
     "name": "stdout",
     "output_type": "stream",
     "text": [
      "Iniciando a verificação das séries temporais para constância...\n",
      "\n",
      "Métricas de performance:\n",
      "                                     MSE        RMSE  ...          R2       SMAPE\n",
      "Temperature                     6.384805    2.526817  ...   -0.898922   38.804406\n",
      "Precipitation_accumulated     222.697892   14.923066  ... -232.824900    2.753650\n",
      "Humidity                       26.587950    5.156350  ...    0.591583    3.970428\n",
      "Wind_Speed_kmh                  0.275137    0.524535  ...    0.203906  173.968318\n",
      "Soil_Moisture              230079.105792  479.665619  ...    0.693580    3.745372\n",
      "Soil_Temperature                1.775712    1.332559  ...    0.681236   23.895515\n",
      "Wind_Dir_Sin                    0.118983    0.344939  ...    0.269982  159.977255\n",
      "Wind_Dir_Cos                    0.148098    0.384835  ...    0.490502   51.178758\n",
      "\n",
      "[8 rows x 5 columns]\n",
      "O SMAPE desse fold foi 57.2867127775383\n",
      "Resultados do trial 3 salvos em optuna_iteration_metrics/trial_3.json\n",
      "Current value: 57.2867127775383, Current params: {'output_chunk_length': 25, 'input_chunk_length': 31, 'hidden_size': 93, 'lstm_layers': 1, 'num_attention_heads': 2, 'hidden_continuous_size': 22, 'add_relative_index': False, 'dropout': 0.0, 'batch_size': 26, 'lr': 0.0015195201810891232, 'forecast_horizon': 24}\n",
      "Best value: 54.03868496051025, Best params: {'output_chunk_length': 24, 'input_chunk_length': 85, 'hidden_size': 96, 'lstm_layers': 1, 'num_attention_heads': 2, 'hidden_continuous_size': 23, 'add_relative_index': True, 'dropout': 0.15000000000000002, 'batch_size': 57, 'lr': 0.007635364276486364, 'forecast_horizon': 1}\n",
      "\n",
      "Iniciando Trial 4\n",
      "Hiperparâmetros: {'output_chunk_length': 14, 'input_chunk_length': 18, 'hidden_size': 152, 'lstm_layers': 2, 'num_attention_heads': 4, 'hidden_continuous_size': 5, 'add_relative_index': True, 'dropout': 0.15000000000000002, 'batch_size': 61, 'lr': 4.053084508915588e-05, 'forecast_horizon': 14}\n",
      "\n",
      "Treinando o modelo...\n",
      "Train set: 6647 samples\n",
      "Validation set: 1662 samples\n"
     ]
    },
    {
     "name": "stderr",
     "output_type": "stream",
     "text": [
      "\n",
      "   | Name                              | Type                             | Params | Mode \n",
      "------------------------------------------------------------------------------------------------\n",
      "0  | criterion                         | HuberLoss                        | 0      | train\n",
      "1  | train_criterion                   | HuberLoss                        | 0      | train\n",
      "2  | val_criterion                     | HuberLoss                        | 0      | train\n",
      "3  | train_metrics                     | MetricCollection                 | 0      | train\n",
      "4  | val_metrics                       | MetricCollection                 | 0      | train\n",
      "5  | input_embeddings                  | _MultiEmbedding                  | 0      | train\n",
      "6  | static_covariates_vsn             | _VariableSelectionNetwork        | 0      | train\n",
      "7  | encoder_vsn                       | _VariableSelectionNetwork        | 88.4 K | train\n",
      "8  | decoder_vsn                       | _VariableSelectionNetwork        | 31.9 K | train\n",
      "9  | static_context_grn                | _GatedResidualNetwork            | 93.3 K | train\n",
      "10 | static_context_hidden_encoder_grn | _GatedResidualNetwork            | 93.3 K | train\n",
      "11 | static_context_cell_encoder_grn   | _GatedResidualNetwork            | 93.3 K | train\n",
      "12 | static_context_enrichment         | _GatedResidualNetwork            | 93.3 K | train\n",
      "13 | lstm_encoder                      | LSTM                             | 372 K  | train\n",
      "14 | lstm_decoder                      | LSTM                             | 372 K  | train\n",
      "15 | post_lstm_gan                     | _GateAddNorm                     | 46.8 K | train\n",
      "16 | static_enrichment_grn             | _GatedResidualNetwork            | 116 K  | train\n",
      "17 | multihead_attn                    | _InterpretableMultiHeadAttention | 58.1 K | train\n",
      "18 | post_attn_gan                     | _GateAddNorm                     | 46.8 K | train\n",
      "19 | feed_forward_block                | _GatedResidualNetwork            | 93.3 K | train\n",
      "20 | pre_output_gan                    | _GateAddNorm                     | 46.8 K | train\n",
      "21 | output_layer                      | Linear                           | 1.2 K  | train\n",
      "------------------------------------------------------------------------------------------------\n",
      "1.6 M     Trainable params\n",
      "0         Non-trainable params\n",
      "1.6 M     Total params\n",
      "6.589     Total estimated model params size (MB)\n",
      "735       Modules in train mode\n",
      "0         Modules in eval mode\n"
     ]
    },
    {
     "data": {
      "application/vnd.jupyter.widget-view+json": {
       "model_id": "89cbb852d4a842fda4cfc19c2610806e",
       "version_major": 2,
       "version_minor": 0
      },
      "text/plain": [
       "Sanity Checking: |          | 0/? [00:00<?, ?it/s]"
      ]
     },
     "metadata": {},
     "output_type": "display_data"
    },
    {
     "data": {
      "application/vnd.jupyter.widget-view+json": {
       "model_id": "c12ea61027eb4bb7b45ccf6fd5965e61",
       "version_major": 2,
       "version_minor": 0
      },
      "text/plain": [
       "Training: |          | 0/? [00:00<?, ?it/s]"
      ]
     },
     "metadata": {},
     "output_type": "display_data"
    },
    {
     "data": {
      "application/vnd.jupyter.widget-view+json": {
       "model_id": "9647de462c4c431e8ce905bb0d59eb1c",
       "version_major": 2,
       "version_minor": 0
      },
      "text/plain": [
       "Validation: |          | 0/? [00:00<?, ?it/s]"
      ]
     },
     "metadata": {},
     "output_type": "display_data"
    },
    {
     "name": "stderr",
     "output_type": "stream",
     "text": [
      "Metric val_loss improved. New best score: 0.052\n"
     ]
    },
    {
     "data": {
      "application/vnd.jupyter.widget-view+json": {
       "model_id": "a79d91db86cc4f05bbb79b35b35343fb",
       "version_major": 2,
       "version_minor": 0
      },
      "text/plain": [
       "Validation: |          | 0/? [00:00<?, ?it/s]"
      ]
     },
     "metadata": {},
     "output_type": "display_data"
    },
    {
     "name": "stderr",
     "output_type": "stream",
     "text": [
      "Metric val_loss improved by 0.009 >= min_delta = 0.001. New best score: 0.044\n"
     ]
    },
    {
     "data": {
      "application/vnd.jupyter.widget-view+json": {
       "model_id": "195454e606554bdab9ea938a4151065c",
       "version_major": 2,
       "version_minor": 0
      },
      "text/plain": [
       "Validation: |          | 0/? [00:00<?, ?it/s]"
      ]
     },
     "metadata": {},
     "output_type": "display_data"
    },
    {
     "data": {
      "application/vnd.jupyter.widget-view+json": {
       "model_id": "d7d14358456b43c19ee2758c8791a934",
       "version_major": 2,
       "version_minor": 0
      },
      "text/plain": [
       "Validation: |          | 0/? [00:00<?, ?it/s]"
      ]
     },
     "metadata": {},
     "output_type": "display_data"
    },
    {
     "data": {
      "application/vnd.jupyter.widget-view+json": {
       "model_id": "9b2861182e6c4b53a1c33d1969522168",
       "version_major": 2,
       "version_minor": 0
      },
      "text/plain": [
       "Validation: |          | 0/? [00:00<?, ?it/s]"
      ]
     },
     "metadata": {},
     "output_type": "display_data"
    },
    {
     "data": {
      "application/vnd.jupyter.widget-view+json": {
       "model_id": "7227c0a7c6c242e6b5cd39b8ee64d59d",
       "version_major": 2,
       "version_minor": 0
      },
      "text/plain": [
       "Validation: |          | 0/? [00:00<?, ?it/s]"
      ]
     },
     "metadata": {},
     "output_type": "display_data"
    },
    {
     "data": {
      "application/vnd.jupyter.widget-view+json": {
       "model_id": "e75d5b199cbd46028635ad08646ae320",
       "version_major": 2,
       "version_minor": 0
      },
      "text/plain": [
       "Validation: |          | 0/? [00:00<?, ?it/s]"
      ]
     },
     "metadata": {},
     "output_type": "display_data"
    },
    {
     "data": {
      "application/vnd.jupyter.widget-view+json": {
       "model_id": "14f50596535c46f7adce0fc5aea57d9b",
       "version_major": 2,
       "version_minor": 0
      },
      "text/plain": [
       "Validation: |          | 0/? [00:00<?, ?it/s]"
      ]
     },
     "metadata": {},
     "output_type": "display_data"
    },
    {
     "data": {
      "application/vnd.jupyter.widget-view+json": {
       "model_id": "9f40d14b65f54ab0b3ab29f5d420fb26",
       "version_major": 2,
       "version_minor": 0
      },
      "text/plain": [
       "Validation: |          | 0/? [00:00<?, ?it/s]"
      ]
     },
     "metadata": {},
     "output_type": "display_data"
    },
    {
     "data": {
      "application/vnd.jupyter.widget-view+json": {
       "model_id": "818dda156b6043a4854aa202d051b0f8",
       "version_major": 2,
       "version_minor": 0
      },
      "text/plain": [
       "Validation: |          | 0/? [00:00<?, ?it/s]"
      ]
     },
     "metadata": {},
     "output_type": "display_data"
    },
    {
     "data": {
      "application/vnd.jupyter.widget-view+json": {
       "model_id": "dc26ca9a319344cb8aae4018bcd36db8",
       "version_major": 2,
       "version_minor": 0
      },
      "text/plain": [
       "Validation: |          | 0/? [00:00<?, ?it/s]"
      ]
     },
     "metadata": {},
     "output_type": "display_data"
    },
    {
     "data": {
      "application/vnd.jupyter.widget-view+json": {
       "model_id": "180a604aeba741d69e3e7fcdcf7d0f5f",
       "version_major": 2,
       "version_minor": 0
      },
      "text/plain": [
       "Validation: |          | 0/? [00:00<?, ?it/s]"
      ]
     },
     "metadata": {},
     "output_type": "display_data"
    },
    {
     "name": "stderr",
     "output_type": "stream",
     "text": [
      "Monitored metric val_loss did not improve in the last 10 records. Best score: 0.044. Signaling Trainer to stop.\n",
      "GPU available: True (cuda), used: True\n",
      "TPU available: False, using: 0 TPU cores\n",
      "HPU available: False, using: 0 HPUs\n",
      "LOCAL_RANK: 0 - CUDA_VISIBLE_DEVICES: [0]\n"
     ]
    },
    {
     "name": "stdout",
     "output_type": "stream",
     "text": [
      "Modelo carregado do checkpoint para trial 4\n"
     ]
    },
    {
     "name": "stderr",
     "output_type": "stream",
     "text": [
      "/home/eduardo/Documentos/Water-Cycle-Neural-Network/venv/lib/python3.12/site-packages/pytorch_lightning/trainer/connectors/data_connector.py:425: The 'predict_dataloader' does not have many workers which may be a bottleneck. Consider increasing the value of the `num_workers` argument` to `num_workers=11` in the `DataLoader` to improve performance.\n"
     ]
    },
    {
     "data": {
      "application/vnd.jupyter.widget-view+json": {
       "model_id": "2b7358cac8e648bdbe232a3441b6b7c0",
       "version_major": 2,
       "version_minor": 0
      },
      "text/plain": [
       "Predicting: |          | 0/? [00:00<?, ?it/s]"
      ]
     },
     "metadata": {},
     "output_type": "display_data"
    },
    {
     "name": "stderr",
     "output_type": "stream",
     "text": [
      "[I 2025-05-15 13:10:20,222] Trial 4 finished with value: 62.941857724753035 and parameters: {'output_chunk_length': 14, 'input_chunk_length': 18, 'hidden_size': 152, 'lstm_layers': 2, 'num_attention_heads': 4, 'hidden_continuous_size': 5, 'add_relative_index': True, 'dropout': 0.15000000000000002, 'batch_size': 61, 'lr': 4.053084508915588e-05, 'forecast_horizon': 14}. Best is trial 0 with value: 54.03868496051025.\n",
      "GPU available: True (cuda), used: True\n",
      "TPU available: False, using: 0 TPU cores\n",
      "HPU available: False, using: 0 HPUs\n",
      "LOCAL_RANK: 0 - CUDA_VISIBLE_DEVICES: [0]\n"
     ]
    },
    {
     "name": "stdout",
     "output_type": "stream",
     "text": [
      "Iniciando a verificação das séries temporais para constância...\n",
      "\n",
      "Métricas de performance:\n",
      "                                     MSE        RMSE  ...          R2       SMAPE\n",
      "Temperature                     9.166025    3.027544  ...   -1.702173   36.380345\n",
      "Precipitation_accumulated     812.651738   28.507047  ... -853.554345    5.106427\n",
      "Humidity                       86.409235    9.295657  ...   -0.326657    9.898117\n",
      "Wind_Speed_kmh                  0.513642    0.716688  ...   -0.496718  179.685969\n",
      "Soil_Moisture              638863.887976  799.289615  ...    0.143496    7.103816\n",
      "Soil_Temperature               18.073337    4.251275  ...   -2.231864   45.578952\n",
      "Wind_Dir_Sin                    0.159356    0.399194  ...    0.015727  166.692926\n",
      "Wind_Dir_Cos                    0.219728    0.468752  ...    0.239790   53.088310\n",
      "\n",
      "[8 rows x 5 columns]\n",
      "O SMAPE desse fold foi 62.941857724753035\n",
      "Resultados do trial 4 salvos em optuna_iteration_metrics/trial_4.json\n",
      "Current value: 62.941857724753035, Current params: {'output_chunk_length': 14, 'input_chunk_length': 18, 'hidden_size': 152, 'lstm_layers': 2, 'num_attention_heads': 4, 'hidden_continuous_size': 5, 'add_relative_index': True, 'dropout': 0.15000000000000002, 'batch_size': 61, 'lr': 4.053084508915588e-05, 'forecast_horizon': 14}\n",
      "Best value: 54.03868496051025, Best params: {'output_chunk_length': 24, 'input_chunk_length': 85, 'hidden_size': 96, 'lstm_layers': 1, 'num_attention_heads': 2, 'hidden_continuous_size': 23, 'add_relative_index': True, 'dropout': 0.15000000000000002, 'batch_size': 57, 'lr': 0.007635364276486364, 'forecast_horizon': 1}\n",
      "\n",
      "Iniciando Trial 5\n",
      "Hiperparâmetros: {'output_chunk_length': 72, 'input_chunk_length': 129, 'hidden_size': 153, 'lstm_layers': 2, 'num_attention_heads': 4, 'hidden_continuous_size': 13, 'add_relative_index': False, 'dropout': 0.2, 'batch_size': 39, 'lr': 0.007129595801378323, 'forecast_horizon': 24}\n",
      "\n",
      "Treinando o modelo...\n",
      "Train set: 6647 samples\n",
      "Validation set: 1662 samples\n"
     ]
    },
    {
     "name": "stderr",
     "output_type": "stream",
     "text": [
      "\n",
      "   | Name                              | Type                             | Params | Mode \n",
      "------------------------------------------------------------------------------------------------\n",
      "0  | criterion                         | HuberLoss                        | 0      | train\n",
      "1  | train_criterion                   | HuberLoss                        | 0      | train\n",
      "2  | val_criterion                     | HuberLoss                        | 0      | train\n",
      "3  | train_metrics                     | MetricCollection                 | 0      | train\n",
      "4  | val_metrics                       | MetricCollection                 | 0      | train\n",
      "5  | input_embeddings                  | _MultiEmbedding                  | 0      | train\n",
      "6  | static_covariates_vsn             | _VariableSelectionNetwork        | 0      | train\n",
      "7  | encoder_vsn                       | _VariableSelectionNetwork        | 169 K  | train\n",
      "8  | decoder_vsn                       | _VariableSelectionNetwork        | 57.6 K | train\n",
      "9  | static_context_grn                | _GatedResidualNetwork            | 94.6 K | train\n",
      "10 | static_context_hidden_encoder_grn | _GatedResidualNetwork            | 94.6 K | train\n",
      "11 | static_context_cell_encoder_grn   | _GatedResidualNetwork            | 94.6 K | train\n",
      "12 | static_context_enrichment         | _GatedResidualNetwork            | 94.6 K | train\n",
      "13 | lstm_encoder                      | LSTM                             | 376 K  | train\n",
      "14 | lstm_decoder                      | LSTM                             | 376 K  | train\n",
      "15 | post_lstm_gan                     | _GateAddNorm                     | 47.4 K | train\n",
      "16 | static_enrichment_grn             | _GatedResidualNetwork            | 117 K  | train\n",
      "17 | multihead_attn                    | _InterpretableMultiHeadAttention | 58.5 K | train\n",
      "18 | post_attn_gan                     | _GateAddNorm                     | 47.4 K | train\n",
      "19 | feed_forward_block                | _GatedResidualNetwork            | 94.6 K | train\n",
      "20 | pre_output_gan                    | _GateAddNorm                     | 47.4 K | train\n",
      "21 | output_layer                      | Linear                           | 1.2 K  | train\n",
      "------------------------------------------------------------------------------------------------\n",
      "1.8 M     Trainable params\n",
      "0         Non-trainable params\n",
      "1.8 M     Total params\n",
      "7.094     Total estimated model params size (MB)\n",
      "706       Modules in train mode\n",
      "0         Modules in eval mode\n"
     ]
    },
    {
     "data": {
      "application/vnd.jupyter.widget-view+json": {
       "model_id": "663ea81107d54ea59cca0b5c7e11448c",
       "version_major": 2,
       "version_minor": 0
      },
      "text/plain": [
       "Sanity Checking: |          | 0/? [00:00<?, ?it/s]"
      ]
     },
     "metadata": {},
     "output_type": "display_data"
    },
    {
     "data": {
      "application/vnd.jupyter.widget-view+json": {
       "model_id": "bea1b65834424404aa819e7a67e53486",
       "version_major": 2,
       "version_minor": 0
      },
      "text/plain": [
       "Training: |          | 0/? [00:00<?, ?it/s]"
      ]
     },
     "metadata": {},
     "output_type": "display_data"
    },
    {
     "data": {
      "application/vnd.jupyter.widget-view+json": {
       "model_id": "e9b98f77e393430faeab7bb39bbdfe5c",
       "version_major": 2,
       "version_minor": 0
      },
      "text/plain": [
       "Validation: |          | 0/? [00:00<?, ?it/s]"
      ]
     },
     "metadata": {},
     "output_type": "display_data"
    },
    {
     "name": "stderr",
     "output_type": "stream",
     "text": [
      "[I 2025-05-15 13:13:24,451] Trial 5 pruned. Trial was pruned at epoch 0.\n",
      "GPU available: True (cuda), used: True\n",
      "TPU available: False, using: 0 TPU cores\n",
      "HPU available: False, using: 0 HPUs\n",
      "LOCAL_RANK: 0 - CUDA_VISIBLE_DEVICES: [0]\n",
      "\n",
      "   | Name                              | Type                             | Params | Mode \n",
      "------------------------------------------------------------------------------------------------\n",
      "0  | criterion                         | HuberLoss                        | 0      | train\n",
      "1  | train_criterion                   | HuberLoss                        | 0      | train\n",
      "2  | val_criterion                     | HuberLoss                        | 0      | train\n",
      "3  | train_metrics                     | MetricCollection                 | 0      | train\n",
      "4  | val_metrics                       | MetricCollection                 | 0      | train\n",
      "5  | input_embeddings                  | _MultiEmbedding                  | 0      | train\n",
      "6  | static_covariates_vsn             | _VariableSelectionNetwork        | 0      | train\n",
      "7  | encoder_vsn                       | _VariableSelectionNetwork        | 252 K  | train\n",
      "8  | decoder_vsn                       | _VariableSelectionNetwork        | 90.4 K | train\n",
      "9  | static_context_grn                | _GatedResidualNetwork            | 57.4 K | train\n",
      "10 | static_context_hidden_encoder_grn | _GatedResidualNetwork            | 57.4 K | train\n",
      "11 | static_context_cell_encoder_grn   | _GatedResidualNetwork            | 57.4 K | train\n",
      "12 | static_context_enrichment         | _GatedResidualNetwork            | 57.4 K | train\n",
      "13 | lstm_encoder                      | LSTM                             | 228 K  | train\n",
      "14 | lstm_decoder                      | LSTM                             | 228 K  | train\n",
      "15 | post_lstm_gan                     | _GateAddNorm                     | 28.8 K | train\n",
      "16 | static_enrichment_grn             | _GatedResidualNetwork            | 71.5 K | train\n",
      "17 | multihead_attn                    | _InterpretableMultiHeadAttention | 37.4 K | train\n",
      "18 | post_attn_gan                     | _GateAddNorm                     | 28.8 K | train\n",
      "19 | feed_forward_block                | _GatedResidualNetwork            | 57.4 K | train\n",
      "20 | pre_output_gan                    | _GateAddNorm                     | 28.8 K | train\n",
      "21 | output_layer                      | Linear                           | 960    | train\n",
      "------------------------------------------------------------------------------------------------\n",
      "1.3 M     Trainable params\n",
      "0         Non-trainable params\n",
      "1.3 M     Total params\n",
      "5.129     Total estimated model params size (MB)\n",
      "733       Modules in train mode\n",
      "0         Modules in eval mode\n"
     ]
    },
    {
     "name": "stdout",
     "output_type": "stream",
     "text": [
      "Current value: 0.05309597881434225, Current params: {'output_chunk_length': 72, 'input_chunk_length': 129, 'hidden_size': 153, 'lstm_layers': 2, 'num_attention_heads': 4, 'hidden_continuous_size': 13, 'add_relative_index': False, 'dropout': 0.2, 'batch_size': 39, 'lr': 0.007129595801378323, 'forecast_horizon': 24}\n",
      "Best value: 54.03868496051025, Best params: {'output_chunk_length': 24, 'input_chunk_length': 85, 'hidden_size': 96, 'lstm_layers': 1, 'num_attention_heads': 2, 'hidden_continuous_size': 23, 'add_relative_index': True, 'dropout': 0.15000000000000002, 'batch_size': 57, 'lr': 0.007635364276486364, 'forecast_horizon': 1}\n",
      "\n",
      "Iniciando Trial 6\n",
      "Hiperparâmetros: {'output_chunk_length': 51, 'input_chunk_length': 106, 'hidden_size': 119, 'lstm_layers': 2, 'num_attention_heads': 3, 'hidden_continuous_size': 24, 'add_relative_index': True, 'dropout': 0.15000000000000002, 'batch_size': 24, 'lr': 0.004361289966758003, 'forecast_horizon': 20}\n",
      "\n",
      "Treinando o modelo...\n",
      "Train set: 6647 samples\n",
      "Validation set: 1662 samples\n"
     ]
    },
    {
     "data": {
      "application/vnd.jupyter.widget-view+json": {
       "model_id": "599f8b7a5d8447ce8c37811afb75b36b",
       "version_major": 2,
       "version_minor": 0
      },
      "text/plain": [
       "Sanity Checking: |          | 0/? [00:00<?, ?it/s]"
      ]
     },
     "metadata": {},
     "output_type": "display_data"
    },
    {
     "data": {
      "application/vnd.jupyter.widget-view+json": {
       "model_id": "85d614ffd1ff4bdbae39c8a13d9fe262",
       "version_major": 2,
       "version_minor": 0
      },
      "text/plain": [
       "Training: |          | 0/? [00:00<?, ?it/s]"
      ]
     },
     "metadata": {},
     "output_type": "display_data"
    },
    {
     "data": {
      "application/vnd.jupyter.widget-view+json": {
       "model_id": "ca42de91a051424c88f6ebc16825e42d",
       "version_major": 2,
       "version_minor": 0
      },
      "text/plain": [
       "Validation: |          | 0/? [00:00<?, ?it/s]"
      ]
     },
     "metadata": {},
     "output_type": "display_data"
    },
    {
     "name": "stderr",
     "output_type": "stream",
     "text": [
      "[I 2025-05-15 13:14:57,619] Trial 6 pruned. Trial was pruned at epoch 0.\n",
      "GPU available: True (cuda), used: True\n",
      "TPU available: False, using: 0 TPU cores\n",
      "HPU available: False, using: 0 HPUs\n",
      "LOCAL_RANK: 0 - CUDA_VISIBLE_DEVICES: [0]\n",
      "\n",
      "   | Name                              | Type                             | Params | Mode \n",
      "------------------------------------------------------------------------------------------------\n",
      "0  | criterion                         | HuberLoss                        | 0      | train\n",
      "1  | train_criterion                   | HuberLoss                        | 0      | train\n",
      "2  | val_criterion                     | HuberLoss                        | 0      | train\n",
      "3  | train_metrics                     | MetricCollection                 | 0      | train\n",
      "4  | val_metrics                       | MetricCollection                 | 0      | train\n",
      "5  | input_embeddings                  | _MultiEmbedding                  | 0      | train\n",
      "6  | static_covariates_vsn             | _VariableSelectionNetwork        | 0      | train\n",
      "7  | encoder_vsn                       | _VariableSelectionNetwork        | 98.0 K | train\n",
      "8  | decoder_vsn                       | _VariableSelectionNetwork        | 33.0 K | train\n",
      "9  | static_context_grn                | _GatedResidualNetwork            | 64.3 K | train\n",
      "10 | static_context_hidden_encoder_grn | _GatedResidualNetwork            | 64.3 K | train\n",
      "11 | static_context_cell_encoder_grn   | _GatedResidualNetwork            | 64.3 K | train\n",
      "12 | static_context_enrichment         | _GatedResidualNetwork            | 64.3 K | train\n",
      "13 | lstm_encoder                      | LSTM                             | 128 K  | train\n",
      "14 | lstm_decoder                      | LSTM                             | 128 K  | train\n",
      "15 | post_lstm_gan                     | _GateAddNorm                     | 32.3 K | train\n",
      "16 | static_enrichment_grn             | _GatedResidualNetwork            | 80.1 K | train\n",
      "17 | multihead_attn                    | _InterpretableMultiHeadAttention | 47.9 K | train\n",
      "18 | post_attn_gan                     | _GateAddNorm                     | 32.3 K | train\n",
      "19 | feed_forward_block                | _GatedResidualNetwork            | 64.3 K | train\n",
      "20 | pre_output_gan                    | _GateAddNorm                     | 32.3 K | train\n",
      "21 | output_layer                      | Linear                           | 1.0 K  | train\n",
      "------------------------------------------------------------------------------------------------\n",
      "934 K     Trainable params\n",
      "0         Non-trainable params\n",
      "934 K     Total params\n",
      "3.736     Total estimated model params size (MB)\n",
      "702       Modules in train mode\n",
      "0         Modules in eval mode\n"
     ]
    },
    {
     "name": "stdout",
     "output_type": "stream",
     "text": [
      "Current value: 0.045468381129432967, Current params: {'output_chunk_length': 51, 'input_chunk_length': 106, 'hidden_size': 119, 'lstm_layers': 2, 'num_attention_heads': 3, 'hidden_continuous_size': 24, 'add_relative_index': True, 'dropout': 0.15000000000000002, 'batch_size': 24, 'lr': 0.004361289966758003, 'forecast_horizon': 20}\n",
      "Best value: 54.03868496051025, Best params: {'output_chunk_length': 24, 'input_chunk_length': 85, 'hidden_size': 96, 'lstm_layers': 1, 'num_attention_heads': 2, 'hidden_continuous_size': 23, 'add_relative_index': True, 'dropout': 0.15000000000000002, 'batch_size': 57, 'lr': 0.007635364276486364, 'forecast_horizon': 1}\n",
      "\n",
      "Iniciando Trial 7\n",
      "Hiperparâmetros: {'output_chunk_length': 63, 'input_chunk_length': 108, 'hidden_size': 126, 'lstm_layers': 1, 'num_attention_heads': 2, 'hidden_continuous_size': 8, 'add_relative_index': False, 'dropout': 0.25, 'batch_size': 40, 'lr': 1.864208409035832e-05, 'forecast_horizon': 24}\n",
      "\n",
      "Treinando o modelo...\n",
      "Train set: 6647 samples\n",
      "Validation set: 1662 samples\n"
     ]
    },
    {
     "data": {
      "application/vnd.jupyter.widget-view+json": {
       "model_id": "f106550077724eef85b85c7294099a50",
       "version_major": 2,
       "version_minor": 0
      },
      "text/plain": [
       "Sanity Checking: |          | 0/? [00:00<?, ?it/s]"
      ]
     },
     "metadata": {},
     "output_type": "display_data"
    },
    {
     "data": {
      "application/vnd.jupyter.widget-view+json": {
       "model_id": "50df925775a6471c9d7a10cb331bdf16",
       "version_major": 2,
       "version_minor": 0
      },
      "text/plain": [
       "Training: |          | 0/? [00:00<?, ?it/s]"
      ]
     },
     "metadata": {},
     "output_type": "display_data"
    },
    {
     "data": {
      "application/vnd.jupyter.widget-view+json": {
       "model_id": "93a2d38c142f414ebfc2fcdf2b565200",
       "version_major": 2,
       "version_minor": 0
      },
      "text/plain": [
       "Validation: |          | 0/? [00:00<?, ?it/s]"
      ]
     },
     "metadata": {},
     "output_type": "display_data"
    },
    {
     "name": "stderr",
     "output_type": "stream",
     "text": [
      "[I 2025-05-15 13:17:54,019] Trial 7 pruned. Trial was pruned at epoch 0.\n",
      "GPU available: True (cuda), used: True\n",
      "TPU available: False, using: 0 TPU cores\n",
      "HPU available: False, using: 0 HPUs\n",
      "LOCAL_RANK: 0 - CUDA_VISIBLE_DEVICES: [0]\n",
      "\n",
      "   | Name                              | Type                             | Params | Mode \n",
      "------------------------------------------------------------------------------------------------\n",
      "0  | criterion                         | HuberLoss                        | 0      | train\n",
      "1  | train_criterion                   | HuberLoss                        | 0      | train\n",
      "2  | val_criterion                     | HuberLoss                        | 0      | train\n",
      "3  | train_metrics                     | MetricCollection                 | 0      | train\n",
      "4  | val_metrics                       | MetricCollection                 | 0      | train\n",
      "5  | input_embeddings                  | _MultiEmbedding                  | 0      | train\n",
      "6  | static_covariates_vsn             | _VariableSelectionNetwork        | 0      | train\n",
      "7  | encoder_vsn                       | _VariableSelectionNetwork        | 152 K  | train\n",
      "8  | decoder_vsn                       | _VariableSelectionNetwork        | 51.3 K | train\n",
      "9  | static_context_grn                | _GatedResidualNetwork            | 63.2 K | train\n",
      "10 | static_context_hidden_encoder_grn | _GatedResidualNetwork            | 63.2 K | train\n",
      "11 | static_context_cell_encoder_grn   | _GatedResidualNetwork            | 63.2 K | train\n",
      "12 | static_context_enrichment         | _GatedResidualNetwork            | 63.2 K | train\n",
      "13 | lstm_encoder                      | LSTM                             | 126 K  | train\n",
      "14 | lstm_decoder                      | LSTM                             | 126 K  | train\n",
      "15 | post_lstm_gan                     | _GateAddNorm                     | 31.8 K | train\n",
      "16 | static_enrichment_grn             | _GatedResidualNetwork            | 78.9 K | train\n",
      "17 | multihead_attn                    | _InterpretableMultiHeadAttention | 39.0 K | train\n",
      "18 | post_attn_gan                     | _GateAddNorm                     | 31.8 K | train\n",
      "19 | feed_forward_block                | _GatedResidualNetwork            | 63.2 K | train\n",
      "20 | pre_output_gan                    | _GateAddNorm                     | 31.8 K | train\n",
      "21 | output_layer                      | Linear                           | 1.0 K  | train\n",
      "------------------------------------------------------------------------------------------------\n",
      "985 K     Trainable params\n",
      "0         Non-trainable params\n",
      "985 K     Total params\n",
      "3.942     Total estimated model params size (MB)\n",
      "706       Modules in train mode\n",
      "0         Modules in eval mode\n"
     ]
    },
    {
     "name": "stdout",
     "output_type": "stream",
     "text": [
      "Current value: 0.048139659488704654, Current params: {'output_chunk_length': 63, 'input_chunk_length': 108, 'hidden_size': 126, 'lstm_layers': 1, 'num_attention_heads': 2, 'hidden_continuous_size': 8, 'add_relative_index': False, 'dropout': 0.25, 'batch_size': 40, 'lr': 1.864208409035832e-05, 'forecast_horizon': 24}\n",
      "Best value: 54.03868496051025, Best params: {'output_chunk_length': 24, 'input_chunk_length': 85, 'hidden_size': 96, 'lstm_layers': 1, 'num_attention_heads': 2, 'hidden_continuous_size': 23, 'add_relative_index': True, 'dropout': 0.15000000000000002, 'batch_size': 57, 'lr': 0.007635364276486364, 'forecast_horizon': 1}\n",
      "\n",
      "Iniciando Trial 8\n",
      "Hiperparâmetros: {'output_chunk_length': 52, 'input_chunk_length': 124, 'hidden_size': 125, 'lstm_layers': 1, 'num_attention_heads': 4, 'hidden_continuous_size': 14, 'add_relative_index': False, 'dropout': 0.0, 'batch_size': 50, 'lr': 0.003234017700111188, 'forecast_horizon': 6}\n",
      "\n",
      "Treinando o modelo...\n",
      "Train set: 6647 samples\n",
      "Validation set: 1662 samples\n"
     ]
    },
    {
     "data": {
      "application/vnd.jupyter.widget-view+json": {
       "model_id": "7cf54a0e35404d329dcec098024f9011",
       "version_major": 2,
       "version_minor": 0
      },
      "text/plain": [
       "Sanity Checking: |          | 0/? [00:00<?, ?it/s]"
      ]
     },
     "metadata": {},
     "output_type": "display_data"
    },
    {
     "data": {
      "application/vnd.jupyter.widget-view+json": {
       "model_id": "d4451a0e7c48426388b945323463456c",
       "version_major": 2,
       "version_minor": 0
      },
      "text/plain": [
       "Training: |          | 0/? [00:00<?, ?it/s]"
      ]
     },
     "metadata": {},
     "output_type": "display_data"
    },
    {
     "data": {
      "application/vnd.jupyter.widget-view+json": {
       "model_id": "7dd02519cea54409a7fba0fa6c48d235",
       "version_major": 2,
       "version_minor": 0
      },
      "text/plain": [
       "Validation: |          | 0/? [00:00<?, ?it/s]"
      ]
     },
     "metadata": {},
     "output_type": "display_data"
    },
    {
     "name": "stderr",
     "output_type": "stream",
     "text": [
      "Metric val_loss improved. New best score: 0.030\n"
     ]
    },
    {
     "data": {
      "application/vnd.jupyter.widget-view+json": {
       "model_id": "a40b4747185d4b0c95f90b8070271810",
       "version_major": 2,
       "version_minor": 0
      },
      "text/plain": [
       "Validation: |          | 0/? [00:00<?, ?it/s]"
      ]
     },
     "metadata": {},
     "output_type": "display_data"
    },
    {
     "data": {
      "application/vnd.jupyter.widget-view+json": {
       "model_id": "4fd25075fde9481cb5ecc8bcc60f1cee",
       "version_major": 2,
       "version_minor": 0
      },
      "text/plain": [
       "Validation: |          | 0/? [00:00<?, ?it/s]"
      ]
     },
     "metadata": {},
     "output_type": "display_data"
    },
    {
     "data": {
      "application/vnd.jupyter.widget-view+json": {
       "model_id": "441fdbece3784159bd29724219c03da2",
       "version_major": 2,
       "version_minor": 0
      },
      "text/plain": [
       "Validation: |          | 0/? [00:00<?, ?it/s]"
      ]
     },
     "metadata": {},
     "output_type": "display_data"
    },
    {
     "data": {
      "application/vnd.jupyter.widget-view+json": {
       "model_id": "5f5f22580f5a4f84a592772975b45b1d",
       "version_major": 2,
       "version_minor": 0
      },
      "text/plain": [
       "Validation: |          | 0/? [00:00<?, ?it/s]"
      ]
     },
     "metadata": {},
     "output_type": "display_data"
    },
    {
     "data": {
      "application/vnd.jupyter.widget-view+json": {
       "model_id": "e6370007442545a69c78f419ef089320",
       "version_major": 2,
       "version_minor": 0
      },
      "text/plain": [
       "Validation: |          | 0/? [00:00<?, ?it/s]"
      ]
     },
     "metadata": {},
     "output_type": "display_data"
    },
    {
     "data": {
      "application/vnd.jupyter.widget-view+json": {
       "model_id": "ef3540b74e6e4a60b7bff9f2821fad03",
       "version_major": 2,
       "version_minor": 0
      },
      "text/plain": [
       "Validation: |          | 0/? [00:00<?, ?it/s]"
      ]
     },
     "metadata": {},
     "output_type": "display_data"
    },
    {
     "data": {
      "application/vnd.jupyter.widget-view+json": {
       "model_id": "9f1db0af3e014459873de0f79f22614b",
       "version_major": 2,
       "version_minor": 0
      },
      "text/plain": [
       "Validation: |          | 0/? [00:00<?, ?it/s]"
      ]
     },
     "metadata": {},
     "output_type": "display_data"
    },
    {
     "data": {
      "application/vnd.jupyter.widget-view+json": {
       "model_id": "7ef713dc3e404a32b8b30cad090ed693",
       "version_major": 2,
       "version_minor": 0
      },
      "text/plain": [
       "Validation: |          | 0/? [00:00<?, ?it/s]"
      ]
     },
     "metadata": {},
     "output_type": "display_data"
    },
    {
     "data": {
      "application/vnd.jupyter.widget-view+json": {
       "model_id": "ab728e3576fa431e9442b04f5f616a80",
       "version_major": 2,
       "version_minor": 0
      },
      "text/plain": [
       "Validation: |          | 0/? [00:00<?, ?it/s]"
      ]
     },
     "metadata": {},
     "output_type": "display_data"
    },
    {
     "data": {
      "application/vnd.jupyter.widget-view+json": {
       "model_id": "ec0bb1efdb6943d68f4e866758824456",
       "version_major": 2,
       "version_minor": 0
      },
      "text/plain": [
       "Validation: |          | 0/? [00:00<?, ?it/s]"
      ]
     },
     "metadata": {},
     "output_type": "display_data"
    },
    {
     "name": "stderr",
     "output_type": "stream",
     "text": [
      "Monitored metric val_loss did not improve in the last 10 records. Best score: 0.030. Signaling Trainer to stop.\n",
      "GPU available: True (cuda), used: True\n",
      "TPU available: False, using: 0 TPU cores\n",
      "HPU available: False, using: 0 HPUs\n",
      "LOCAL_RANK: 0 - CUDA_VISIBLE_DEVICES: [0]\n"
     ]
    },
    {
     "name": "stdout",
     "output_type": "stream",
     "text": [
      "Modelo carregado do checkpoint para trial 8\n"
     ]
    },
    {
     "name": "stderr",
     "output_type": "stream",
     "text": [
      "/home/eduardo/Documentos/Water-Cycle-Neural-Network/venv/lib/python3.12/site-packages/pytorch_lightning/trainer/connectors/data_connector.py:425: The 'predict_dataloader' does not have many workers which may be a bottleneck. Consider increasing the value of the `num_workers` argument` to `num_workers=11` in the `DataLoader` to improve performance.\n"
     ]
    },
    {
     "data": {
      "application/vnd.jupyter.widget-view+json": {
       "model_id": "1537e1b7eee8401ea08f05d13ed6f8cb",
       "version_major": 2,
       "version_minor": 0
      },
      "text/plain": [
       "Predicting: |          | 0/? [00:00<?, ?it/s]"
      ]
     },
     "metadata": {},
     "output_type": "display_data"
    },
    {
     "name": "stderr",
     "output_type": "stream",
     "text": [
      "[I 2025-05-15 13:43:23,470] Trial 8 finished with value: 61.13730682836196 and parameters: {'output_chunk_length': 52, 'input_chunk_length': 124, 'hidden_size': 125, 'lstm_layers': 1, 'num_attention_heads': 4, 'hidden_continuous_size': 14, 'add_relative_index': False, 'dropout': 0.0, 'batch_size': 50, 'lr': 0.003234017700111188, 'forecast_horizon': 6}. Best is trial 0 with value: 54.03868496051025.\n",
      "GPU available: True (cuda), used: True\n",
      "TPU available: False, using: 0 TPU cores\n",
      "HPU available: False, using: 0 HPUs\n",
      "LOCAL_RANK: 0 - CUDA_VISIBLE_DEVICES: [0]\n"
     ]
    },
    {
     "name": "stdout",
     "output_type": "stream",
     "text": [
      "Iniciando a verificação das séries temporais para constância...\n",
      "\n",
      "Métricas de performance:\n",
      "                                     MSE        RMSE  ...          R2       SMAPE\n",
      "Temperature                     2.009495    1.417566  ...    0.408734   18.508643\n",
      "Precipitation_accumulated     241.857623   15.551772  ... -253.651072    2.850046\n",
      "Humidity                       74.991054    8.659738  ...   -0.152848    8.978740\n",
      "Wind_Speed_kmh                  0.343296    0.585915  ...   -0.005967  179.182046\n",
      "Soil_Moisture              655151.392089  809.414228  ...    0.116950   11.044898\n",
      "Soil_Temperature                3.176931    1.782395  ...    0.433178   29.664068\n",
      "Wind_Dir_Sin                    0.155992    0.394958  ...    0.031372  167.246571\n",
      "Wind_Dir_Cos                    0.228897    0.478432  ...    0.204494   71.623444\n",
      "\n",
      "[8 rows x 5 columns]\n",
      "O SMAPE desse fold foi 61.13730682836196\n",
      "Resultados do trial 8 salvos em optuna_iteration_metrics/trial_8.json\n",
      "Current value: 61.13730682836196, Current params: {'output_chunk_length': 52, 'input_chunk_length': 124, 'hidden_size': 125, 'lstm_layers': 1, 'num_attention_heads': 4, 'hidden_continuous_size': 14, 'add_relative_index': False, 'dropout': 0.0, 'batch_size': 50, 'lr': 0.003234017700111188, 'forecast_horizon': 6}\n",
      "Best value: 54.03868496051025, Best params: {'output_chunk_length': 24, 'input_chunk_length': 85, 'hidden_size': 96, 'lstm_layers': 1, 'num_attention_heads': 2, 'hidden_continuous_size': 23, 'add_relative_index': True, 'dropout': 0.15000000000000002, 'batch_size': 57, 'lr': 0.007635364276486364, 'forecast_horizon': 1}\n",
      "\n",
      "Iniciando Trial 9\n",
      "Hiperparâmetros: {'output_chunk_length': 66, 'input_chunk_length': 101, 'hidden_size': 212, 'lstm_layers': 1, 'num_attention_heads': 4, 'hidden_continuous_size': 15, 'add_relative_index': True, 'dropout': 0.2, 'batch_size': 56, 'lr': 4.3292620409174215e-05, 'forecast_horizon': 9}\n",
      "\n",
      "Treinando o modelo...\n",
      "Train set: 6647 samples\n",
      "Validation set: 1662 samples\n"
     ]
    },
    {
     "name": "stderr",
     "output_type": "stream",
     "text": [
      "\n",
      "   | Name                              | Type                             | Params | Mode \n",
      "------------------------------------------------------------------------------------------------\n",
      "0  | criterion                         | HuberLoss                        | 0      | train\n",
      "1  | train_criterion                   | HuberLoss                        | 0      | train\n",
      "2  | val_criterion                     | HuberLoss                        | 0      | train\n",
      "3  | train_metrics                     | MetricCollection                 | 0      | train\n",
      "4  | val_metrics                       | MetricCollection                 | 0      | train\n",
      "5  | input_embeddings                  | _MultiEmbedding                  | 0      | train\n",
      "6  | static_covariates_vsn             | _VariableSelectionNetwork        | 0      | train\n",
      "7  | encoder_vsn                       | _VariableSelectionNetwork        | 263 K  | train\n",
      "8  | decoder_vsn                       | _VariableSelectionNetwork        | 96.5 K | train\n",
      "9  | static_context_grn                | _GatedResidualNetwork            | 181 K  | train\n",
      "10 | static_context_hidden_encoder_grn | _GatedResidualNetwork            | 181 K  | train\n",
      "11 | static_context_cell_encoder_grn   | _GatedResidualNetwork            | 181 K  | train\n",
      "12 | static_context_enrichment         | _GatedResidualNetwork            | 181 K  | train\n",
      "13 | lstm_encoder                      | LSTM                             | 361 K  | train\n",
      "14 | lstm_decoder                      | LSTM                             | 361 K  | train\n",
      "15 | post_lstm_gan                     | _GateAddNorm                     | 90.7 K | train\n",
      "16 | static_enrichment_grn             | _GatedResidualNetwork            | 225 K  | train\n",
      "17 | multihead_attn                    | _InterpretableMultiHeadAttention | 112 K  | train\n",
      "18 | post_attn_gan                     | _GateAddNorm                     | 90.7 K | train\n",
      "19 | feed_forward_block                | _GatedResidualNetwork            | 181 K  | train\n",
      "20 | pre_output_gan                    | _GateAddNorm                     | 90.7 K | train\n",
      "21 | output_layer                      | Linear                           | 1.7 K  | train\n",
      "------------------------------------------------------------------------------------------------\n",
      "2.6 M     Trainable params\n",
      "0         Non-trainable params\n",
      "2.6 M     Total params\n",
      "10.402    Total estimated model params size (MB)\n",
      "735       Modules in train mode\n",
      "0         Modules in eval mode\n"
     ]
    },
    {
     "data": {
      "application/vnd.jupyter.widget-view+json": {
       "model_id": "c1d22a76ce6d417cb541a7cb2a42751d",
       "version_major": 2,
       "version_minor": 0
      },
      "text/plain": [
       "Sanity Checking: |          | 0/? [00:00<?, ?it/s]"
      ]
     },
     "metadata": {},
     "output_type": "display_data"
    },
    {
     "data": {
      "application/vnd.jupyter.widget-view+json": {
       "model_id": "2416e925b21b456eabad808f09176184",
       "version_major": 2,
       "version_minor": 0
      },
      "text/plain": [
       "Training: |          | 0/? [00:00<?, ?it/s]"
      ]
     },
     "metadata": {},
     "output_type": "display_data"
    },
    {
     "data": {
      "application/vnd.jupyter.widget-view+json": {
       "model_id": "b358ab92c70f48f8836d4558108847bf",
       "version_major": 2,
       "version_minor": 0
      },
      "text/plain": [
       "Validation: |          | 0/? [00:00<?, ?it/s]"
      ]
     },
     "metadata": {},
     "output_type": "display_data"
    },
    {
     "name": "stderr",
     "output_type": "stream",
     "text": [
      "Metric val_loss improved. New best score: 0.033\n"
     ]
    },
    {
     "data": {
      "application/vnd.jupyter.widget-view+json": {
       "model_id": "54a0335b0b0243acbccde7e81fc84a93",
       "version_major": 2,
       "version_minor": 0
      },
      "text/plain": [
       "Validation: |          | 0/? [00:00<?, ?it/s]"
      ]
     },
     "metadata": {},
     "output_type": "display_data"
    },
    {
     "data": {
      "application/vnd.jupyter.widget-view+json": {
       "model_id": "98b2aca600d547f6966b5d71e588ca1c",
       "version_major": 2,
       "version_minor": 0
      },
      "text/plain": [
       "Validation: |          | 0/? [00:00<?, ?it/s]"
      ]
     },
     "metadata": {},
     "output_type": "display_data"
    },
    {
     "data": {
      "application/vnd.jupyter.widget-view+json": {
       "model_id": "f8e5a9caf4ec4367af70e9ae4ae10fa6",
       "version_major": 2,
       "version_minor": 0
      },
      "text/plain": [
       "Validation: |          | 0/? [00:00<?, ?it/s]"
      ]
     },
     "metadata": {},
     "output_type": "display_data"
    },
    {
     "data": {
      "application/vnd.jupyter.widget-view+json": {
       "model_id": "8a1316d374994b3b918427be724d4112",
       "version_major": 2,
       "version_minor": 0
      },
      "text/plain": [
       "Validation: |          | 0/? [00:00<?, ?it/s]"
      ]
     },
     "metadata": {},
     "output_type": "display_data"
    },
    {
     "data": {
      "application/vnd.jupyter.widget-view+json": {
       "model_id": "6328b1e04ce1407ea1b8b28e3ffed89d",
       "version_major": 2,
       "version_minor": 0
      },
      "text/plain": [
       "Validation: |          | 0/? [00:00<?, ?it/s]"
      ]
     },
     "metadata": {},
     "output_type": "display_data"
    },
    {
     "data": {
      "application/vnd.jupyter.widget-view+json": {
       "model_id": "45896c9f5d524f279b7a73c4fdc700f7",
       "version_major": 2,
       "version_minor": 0
      },
      "text/plain": [
       "Validation: |          | 0/? [00:00<?, ?it/s]"
      ]
     },
     "metadata": {},
     "output_type": "display_data"
    },
    {
     "data": {
      "application/vnd.jupyter.widget-view+json": {
       "model_id": "d8dacaa90d0145369503426a799d6659",
       "version_major": 2,
       "version_minor": 0
      },
      "text/plain": [
       "Validation: |          | 0/? [00:00<?, ?it/s]"
      ]
     },
     "metadata": {},
     "output_type": "display_data"
    },
    {
     "data": {
      "application/vnd.jupyter.widget-view+json": {
       "model_id": "cacf096996c8414ebd1b98b4f5caf3a4",
       "version_major": 2,
       "version_minor": 0
      },
      "text/plain": [
       "Validation: |          | 0/? [00:00<?, ?it/s]"
      ]
     },
     "metadata": {},
     "output_type": "display_data"
    },
    {
     "data": {
      "application/vnd.jupyter.widget-view+json": {
       "model_id": "3bac92b60b054ca9b27255b173ed1535",
       "version_major": 2,
       "version_minor": 0
      },
      "text/plain": [
       "Validation: |          | 0/? [00:00<?, ?it/s]"
      ]
     },
     "metadata": {},
     "output_type": "display_data"
    },
    {
     "data": {
      "application/vnd.jupyter.widget-view+json": {
       "model_id": "2e2c22ee5a544137baf27ec66687b000",
       "version_major": 2,
       "version_minor": 0
      },
      "text/plain": [
       "Validation: |          | 0/? [00:00<?, ?it/s]"
      ]
     },
     "metadata": {},
     "output_type": "display_data"
    },
    {
     "name": "stderr",
     "output_type": "stream",
     "text": [
      "Monitored metric val_loss did not improve in the last 10 records. Best score: 0.033. Signaling Trainer to stop.\n",
      "GPU available: True (cuda), used: True\n",
      "TPU available: False, using: 0 TPU cores\n",
      "HPU available: False, using: 0 HPUs\n",
      "LOCAL_RANK: 0 - CUDA_VISIBLE_DEVICES: [0]\n"
     ]
    },
    {
     "name": "stdout",
     "output_type": "stream",
     "text": [
      "Modelo carregado do checkpoint para trial 9\n"
     ]
    },
    {
     "name": "stderr",
     "output_type": "stream",
     "text": [
      "/home/eduardo/Documentos/Water-Cycle-Neural-Network/venv/lib/python3.12/site-packages/pytorch_lightning/trainer/connectors/data_connector.py:425: The 'predict_dataloader' does not have many workers which may be a bottleneck. Consider increasing the value of the `num_workers` argument` to `num_workers=11` in the `DataLoader` to improve performance.\n"
     ]
    },
    {
     "data": {
      "application/vnd.jupyter.widget-view+json": {
       "model_id": "0e0199d8f50f42848cde881913836fe9",
       "version_major": 2,
       "version_minor": 0
      },
      "text/plain": [
       "Predicting: |          | 0/? [00:00<?, ?it/s]"
      ]
     },
     "metadata": {},
     "output_type": "display_data"
    },
    {
     "name": "stderr",
     "output_type": "stream",
     "text": [
      "[I 2025-05-15 14:18:29,141] Trial 9 finished with value: 62.03295313463323 and parameters: {'output_chunk_length': 66, 'input_chunk_length': 101, 'hidden_size': 212, 'lstm_layers': 1, 'num_attention_heads': 4, 'hidden_continuous_size': 15, 'add_relative_index': True, 'dropout': 0.2, 'batch_size': 56, 'lr': 4.3292620409174215e-05, 'forecast_horizon': 9}. Best is trial 0 with value: 54.03868496051025.\n"
     ]
    },
    {
     "name": "stdout",
     "output_type": "stream",
     "text": [
      "Iniciando a verificação das séries temporais para constância...\n",
      "\n",
      "Métricas de performance:\n",
      "                                     MSE        RMSE  ...           R2       SMAPE\n",
      "Temperature                     2.705936    1.644973  ...     0.203014   21.111837\n",
      "Precipitation_accumulated    1913.859834   43.747684  ... -2013.128484    8.287768\n",
      "Humidity                       75.994455    8.717480  ...    -0.167703    9.251752\n",
      "Wind_Speed_kmh                  0.377727    0.614595  ...    -0.104541  179.172219\n",
      "Soil_Moisture              492955.872526  702.108163  ...     0.336893    6.695513\n",
      "Soil_Temperature               32.816218    5.728544  ...    -4.860309   61.467539\n",
      "Wind_Dir_Sin                    0.158439    0.398044  ...     0.018134  161.927912\n",
      "Wind_Dir_Cos                    0.235108    0.484879  ...     0.184287   48.349084\n",
      "\n",
      "[8 rows x 5 columns]\n",
      "O SMAPE desse fold foi 62.03295313463323\n",
      "Resultados do trial 9 salvos em optuna_iteration_metrics/trial_9.json\n",
      "Current value: 62.03295313463323, Current params: {'output_chunk_length': 66, 'input_chunk_length': 101, 'hidden_size': 212, 'lstm_layers': 1, 'num_attention_heads': 4, 'hidden_continuous_size': 15, 'add_relative_index': True, 'dropout': 0.2, 'batch_size': 56, 'lr': 4.3292620409174215e-05, 'forecast_horizon': 9}\n",
      "Best value: 54.03868496051025, Best params: {'output_chunk_length': 24, 'input_chunk_length': 85, 'hidden_size': 96, 'lstm_layers': 1, 'num_attention_heads': 2, 'hidden_continuous_size': 23, 'add_relative_index': True, 'dropout': 0.15000000000000002, 'batch_size': 57, 'lr': 0.007635364276486364, 'forecast_horizon': 1}\n",
      "\n",
      "Iniciando Trial 10\n",
      "Hiperparâmetros: {'output_chunk_length': 37, 'input_chunk_length': 80, 'hidden_size': 32, 'lstm_layers': 1, 'num_attention_heads': 3, 'hidden_continuous_size': 32, 'add_relative_index': True, 'dropout': 0.3, 'batch_size': 50, 'lr': 0.0005024573927335579, 'forecast_horizon': 1}\n",
      "\n",
      "Treinando o modelo...\n",
      "Train set: 6647 samples\n",
      "Validation set: 1662 samples\n"
     ]
    },
    {
     "name": "stderr",
     "output_type": "stream",
     "text": [
      "GPU available: True (cuda), used: True\n",
      "TPU available: False, using: 0 TPU cores\n",
      "HPU available: False, using: 0 HPUs\n",
      "LOCAL_RANK: 0 - CUDA_VISIBLE_DEVICES: [0]\n",
      "\n",
      "   | Name                              | Type                             | Params | Mode \n",
      "------------------------------------------------------------------------------------------------\n",
      "0  | criterion                         | HuberLoss                        | 0      | train\n",
      "1  | train_criterion                   | HuberLoss                        | 0      | train\n",
      "2  | val_criterion                     | HuberLoss                        | 0      | train\n",
      "3  | train_metrics                     | MetricCollection                 | 0      | train\n",
      "4  | val_metrics                       | MetricCollection                 | 0      | train\n",
      "5  | input_embeddings                  | _MultiEmbedding                  | 0      | train\n",
      "6  | static_covariates_vsn             | _VariableSelectionNetwork        | 0      | train\n",
      "7  | encoder_vsn                       | _VariableSelectionNetwork        | 156 K  | train\n",
      "8  | decoder_vsn                       | _VariableSelectionNetwork        | 52.6 K | train\n",
      "9  | static_context_grn                | _GatedResidualNetwork            | 4.3 K  | train\n",
      "10 | static_context_hidden_encoder_grn | _GatedResidualNetwork            | 4.3 K  | train\n",
      "11 | static_context_cell_encoder_grn   | _GatedResidualNetwork            | 4.3 K  | train\n",
      "12 | static_context_enrichment         | _GatedResidualNetwork            | 4.3 K  | train\n",
      "13 | lstm_encoder                      | LSTM                             | 8.4 K  | train\n",
      "14 | lstm_decoder                      | LSTM                             | 8.4 K  | train\n",
      "15 | post_lstm_gan                     | _GateAddNorm                     | 2.2 K  | train\n",
      "16 | static_enrichment_grn             | _GatedResidualNetwork            | 5.3 K  | train\n",
      "17 | multihead_attn                    | _InterpretableMultiHeadAttention | 2.6 K  | train\n",
      "18 | post_attn_gan                     | _GateAddNorm                     | 2.2 K  | train\n",
      "19 | feed_forward_block                | _GatedResidualNetwork            | 4.3 K  | train\n",
      "20 | pre_output_gan                    | _GateAddNorm                     | 2.2 K  | train\n",
      "21 | output_layer                      | Linear                           | 264    | train\n",
      "------------------------------------------------------------------------------------------------\n",
      "261 K     Trainable params\n",
      "0         Non-trainable params\n",
      "261 K     Total params\n",
      "1.047     Total estimated model params size (MB)\n",
      "573       Modules in train mode\n",
      "0         Modules in eval mode\n"
     ]
    },
    {
     "data": {
      "application/vnd.jupyter.widget-view+json": {
       "model_id": "21394320478d47988801054ea6cd3081",
       "version_major": 2,
       "version_minor": 0
      },
      "text/plain": [
       "Sanity Checking: |          | 0/? [00:00<?, ?it/s]"
      ]
     },
     "metadata": {},
     "output_type": "display_data"
    },
    {
     "data": {
      "application/vnd.jupyter.widget-view+json": {
       "model_id": "3a970aba93c44a5990ce1071eb13eb8d",
       "version_major": 2,
       "version_minor": 0
      },
      "text/plain": [
       "Training: |          | 0/? [00:00<?, ?it/s]"
      ]
     },
     "metadata": {},
     "output_type": "display_data"
    },
    {
     "data": {
      "application/vnd.jupyter.widget-view+json": {
       "model_id": "f81d0d3fe126446485666d845990e15f",
       "version_major": 2,
       "version_minor": 0
      },
      "text/plain": [
       "Validation: |          | 0/? [00:00<?, ?it/s]"
      ]
     },
     "metadata": {},
     "output_type": "display_data"
    },
    {
     "name": "stderr",
     "output_type": "stream",
     "text": [
      "[I 2025-05-15 14:18:44,395] Trial 10 pruned. Trial was pruned at epoch 0.\n",
      "GPU available: True (cuda), used: True\n",
      "TPU available: False, using: 0 TPU cores\n",
      "HPU available: False, using: 0 HPUs\n",
      "LOCAL_RANK: 0 - CUDA_VISIBLE_DEVICES: [0]\n",
      "\n",
      "   | Name                              | Type                             | Params | Mode \n",
      "------------------------------------------------------------------------------------------------\n",
      "0  | criterion                         | HuberLoss                        | 0      | train\n",
      "1  | train_criterion                   | HuberLoss                        | 0      | train\n",
      "2  | val_criterion                     | HuberLoss                        | 0      | train\n",
      "3  | train_metrics                     | MetricCollection                 | 0      | train\n",
      "4  | val_metrics                       | MetricCollection                 | 0      | train\n",
      "5  | input_embeddings                  | _MultiEmbedding                  | 0      | train\n",
      "6  | static_covariates_vsn             | _VariableSelectionNetwork        | 0      | train\n",
      "7  | encoder_vsn                       | _VariableSelectionNetwork        | 144 K  | train\n",
      "8  | decoder_vsn                       | _VariableSelectionNetwork        | 47.0 K | train\n",
      "9  | static_context_grn                | _GatedResidualNetwork            | 17.3 K | train\n",
      "10 | static_context_hidden_encoder_grn | _GatedResidualNetwork            | 17.3 K | train\n",
      "11 | static_context_cell_encoder_grn   | _GatedResidualNetwork            | 17.3 K | train\n",
      "12 | static_context_enrichment         | _GatedResidualNetwork            | 17.3 K | train\n",
      "13 | lstm_encoder                      | LSTM                             | 34.3 K | train\n",
      "14 | lstm_decoder                      | LSTM                             | 34.3 K | train\n",
      "15 | post_lstm_gan                     | _GateAddNorm                     | 8.7 K  | train\n",
      "16 | static_enrichment_grn             | _GatedResidualNetwork            | 21.5 K | train\n",
      "17 | multihead_attn                    | _InterpretableMultiHeadAttention | 12.6 K | train\n",
      "18 | post_attn_gan                     | _GateAddNorm                     | 8.7 K  | train\n",
      "19 | feed_forward_block                | _GatedResidualNetwork            | 17.3 K | train\n",
      "20 | pre_output_gan                    | _GateAddNorm                     | 8.7 K  | train\n",
      "21 | output_layer                      | Linear                           | 528    | train\n",
      "------------------------------------------------------------------------------------------------\n",
      "406 K     Trainable params\n",
      "0         Non-trainable params\n",
      "406 K     Total params\n",
      "1.626     Total estimated model params size (MB)\n",
      "702       Modules in train mode\n",
      "0         Modules in eval mode\n"
     ]
    },
    {
     "name": "stdout",
     "output_type": "stream",
     "text": [
      "Current value: 0.06471708013090054, Current params: {'output_chunk_length': 37, 'input_chunk_length': 80, 'hidden_size': 32, 'lstm_layers': 1, 'num_attention_heads': 3, 'hidden_continuous_size': 32, 'add_relative_index': True, 'dropout': 0.3, 'batch_size': 50, 'lr': 0.0005024573927335579, 'forecast_horizon': 1}\n",
      "Best value: 54.03868496051025, Best params: {'output_chunk_length': 24, 'input_chunk_length': 85, 'hidden_size': 96, 'lstm_layers': 1, 'num_attention_heads': 2, 'hidden_continuous_size': 23, 'add_relative_index': True, 'dropout': 0.15000000000000002, 'batch_size': 57, 'lr': 0.007635364276486364, 'forecast_horizon': 1}\n",
      "\n",
      "Iniciando Trial 11\n",
      "Hiperparâmetros: {'output_chunk_length': 21, 'input_chunk_length': 32, 'hidden_size': 65, 'lstm_layers': 1, 'num_attention_heads': 2, 'hidden_continuous_size': 22, 'add_relative_index': False, 'dropout': 0.0, 'batch_size': 17, 'lr': 0.001103733411624849, 'forecast_horizon': 18}\n",
      "\n",
      "Treinando o modelo...\n",
      "Train set: 6647 samples\n",
      "Validation set: 1662 samples\n"
     ]
    },
    {
     "data": {
      "application/vnd.jupyter.widget-view+json": {
       "model_id": "db0ce6e287c746aea66aa7fdbf529b62",
       "version_major": 2,
       "version_minor": 0
      },
      "text/plain": [
       "Sanity Checking: |          | 0/? [00:00<?, ?it/s]"
      ]
     },
     "metadata": {},
     "output_type": "display_data"
    },
    {
     "name": "stderr",
     "output_type": "stream",
     "text": [
      "Exception ignored in: <function _MultiProcessingDataLoaderIter.__del__ at 0x7f88fe9e7920>\n",
      "Traceback (most recent call last):\n",
      "  File \"/home/eduardo/Documentos/Water-Cycle-Neural-Network/venv/lib/python3.12/site-packages/torch/utils/data/dataloader.py\", line 1663, in __del__\n",
      "    self._shutdown_workers()\n",
      "  File \"/home/eduardo/Documentos/Water-Cycle-Neural-Network/venv/lib/python3.12/site-packages/torch/utils/data/dataloader.py\", line 1646, in _shutdown_workers\n",
      "    if w.is_alive():\n",
      "      Exception ignored in:  <function _MultiProcessingDataLoaderIter.__del__ at 0x7f88fe9e7920>^\n",
      "^Traceback (most recent call last):\n",
      "^  File \"/home/eduardo/Documentos/Water-Cycle-Neural-Network/venv/lib/python3.12/site-packages/torch/utils/data/dataloader.py\", line 1663, in __del__\n",
      "^^    ^self._shutdown_workers()^\n",
      "^  File \"/home/eduardo/Documentos/Water-Cycle-Neural-Network/venv/lib/python3.12/site-packages/torch/utils/data/dataloader.py\", line 1646, in _shutdown_workers\n",
      "^^    ^^if w.is_alive():\n",
      "\n",
      "  File \"/usr/lib/python3.12/multiprocessing/process.py\", line 160, in is_alive\n",
      "      assert self._parent_pid == os.getpid(), 'can only test a child process' \n",
      "        ^ ^ ^ ^ ^ Exception ignored in: ^ ^ <function _MultiProcessingDataLoaderIter.__del__ at 0x7f88fe9e7920>^^^\n",
      "^^Traceback (most recent call last):\n",
      "^  File \"/home/eduardo/Documentos/Water-Cycle-Neural-Network/venv/lib/python3.12/site-packages/torch/utils/data/dataloader.py\", line 1663, in __del__\n",
      "^^^^    \n",
      "^  File \"/usr/lib/python3.12/multiprocessing/process.py\", line 160, in is_alive\n",
      "self._shutdown_workers()^\n",
      "    ^  File \"/home/eduardo/Documentos/Water-Cycle-Neural-Network/venv/lib/python3.12/site-packages/torch/utils/data/dataloader.py\", line 1646, in _shutdown_workers\n",
      "assert self._parent_pid == os.getpid(), 'can only test a child process'^\n",
      "    ^ if w.is_alive():^\n",
      " ^  ^^  ^  ^  ^ ^  ^  ^ ^  ^^^^^^^^^^^^^^^^^^^^^^^^^^^^^^\n",
      "^^AssertionError^: ^^can only test a child process\n",
      "^\n",
      "  File \"/usr/lib/python3.12/multiprocessing/process.py\", line 160, in is_alive\n",
      "^    ^assert self._parent_pid == os.getpid(), 'can only test a child process'^\n",
      "^ ^ ^ ^ ^ ^ ^ ^ ^ ^ ^ ^^^^^^\n",
      "^AssertionError^: ^can only test a child process^\n",
      "^^^^^^^^^^^^^^^^^^^^^^^^\n",
      "AssertionError: can only test a child process\n",
      "Exception ignored in:   File \"/home/eduardo/Documentos/Water-Cycle-Neural-Network/venv/lib/python3.12/site-packages/torch/utils/data/dataloader.py\", line 1663, in __del__\n",
      "<function _MultiProcessingDataLoaderIter.__del__ at 0x7f88fe9e7920>\n",
      "Traceback (most recent call last):\n",
      "    self._shutdown_workers()\n",
      "  File \"/home/eduardo/Documentos/Water-Cycle-Neural-Network/venv/lib/python3.12/site-packages/torch/utils/data/dataloader.py\", line 1646, in _shutdown_workers\n",
      "    if w.is_alive():\n",
      "       ^^^^^^^^^^^^\n",
      "  File \"/usr/lib/python3.12/multiprocessing/process.py\", line 160, in is_alive\n",
      "    assert self._parent_pid == os.getpid(), 'can only test a child process'\n",
      "           ^^^^^^^^^^^^^^^^^^^^^^^^^^^^^^^\n",
      "AssertionError: can only test a child process\n"
     ]
    },
    {
     "data": {
      "application/vnd.jupyter.widget-view+json": {
       "model_id": "42cd1f350cc146ddb93f3ee8a7d3ba71",
       "version_major": 2,
       "version_minor": 0
      },
      "text/plain": [
       "Training: |          | 0/? [00:00<?, ?it/s]"
      ]
     },
     "metadata": {},
     "output_type": "display_data"
    },
    {
     "data": {
      "application/vnd.jupyter.widget-view+json": {
       "model_id": "e85da12082d84fee8469c7f321ad0719",
       "version_major": 2,
       "version_minor": 0
      },
      "text/plain": [
       "Validation: |          | 0/? [00:00<?, ?it/s]"
      ]
     },
     "metadata": {},
     "output_type": "display_data"
    },
    {
     "name": "stderr",
     "output_type": "stream",
     "text": [
      "Metric val_loss improved. New best score: 0.034\n"
     ]
    },
    {
     "data": {
      "application/vnd.jupyter.widget-view+json": {
       "model_id": "03c32f8a05e8406ea4d3a5b29d05a07e",
       "version_major": 2,
       "version_minor": 0
      },
      "text/plain": [
       "Validation: |          | 0/? [00:00<?, ?it/s]"
      ]
     },
     "metadata": {},
     "output_type": "display_data"
    },
    {
     "name": "stderr",
     "output_type": "stream",
     "text": [
      "Metric val_loss improved by 0.008 >= min_delta = 0.001. New best score: 0.026\n"
     ]
    },
    {
     "data": {
      "application/vnd.jupyter.widget-view+json": {
       "model_id": "ca82ab18654e46869d76bbd01b6a6cf7",
       "version_major": 2,
       "version_minor": 0
      },
      "text/plain": [
       "Validation: |          | 0/? [00:00<?, ?it/s]"
      ]
     },
     "metadata": {},
     "output_type": "display_data"
    },
    {
     "data": {
      "application/vnd.jupyter.widget-view+json": {
       "model_id": "952867d62aac484e922ed890302aaa64",
       "version_major": 2,
       "version_minor": 0
      },
      "text/plain": [
       "Validation: |          | 0/? [00:00<?, ?it/s]"
      ]
     },
     "metadata": {},
     "output_type": "display_data"
    },
    {
     "data": {
      "application/vnd.jupyter.widget-view+json": {
       "model_id": "42e6ee6035354832a389255d237cf8fe",
       "version_major": 2,
       "version_minor": 0
      },
      "text/plain": [
       "Validation: |          | 0/? [00:00<?, ?it/s]"
      ]
     },
     "metadata": {},
     "output_type": "display_data"
    },
    {
     "data": {
      "application/vnd.jupyter.widget-view+json": {
       "model_id": "c9ca7eb6f9874d5e986b78e83afda8a0",
       "version_major": 2,
       "version_minor": 0
      },
      "text/plain": [
       "Validation: |          | 0/? [00:00<?, ?it/s]"
      ]
     },
     "metadata": {},
     "output_type": "display_data"
    },
    {
     "data": {
      "application/vnd.jupyter.widget-view+json": {
       "model_id": "a51eeada744b463580b13322fadc94e7",
       "version_major": 2,
       "version_minor": 0
      },
      "text/plain": [
       "Validation: |          | 0/? [00:00<?, ?it/s]"
      ]
     },
     "metadata": {},
     "output_type": "display_data"
    },
    {
     "data": {
      "application/vnd.jupyter.widget-view+json": {
       "model_id": "f95c25f00c6448f19b9cb86b4761e42b",
       "version_major": 2,
       "version_minor": 0
      },
      "text/plain": [
       "Validation: |          | 0/? [00:00<?, ?it/s]"
      ]
     },
     "metadata": {},
     "output_type": "display_data"
    },
    {
     "data": {
      "application/vnd.jupyter.widget-view+json": {
       "model_id": "8fa0c8151de2424cb2c87787fa472d1f",
       "version_major": 2,
       "version_minor": 0
      },
      "text/plain": [
       "Validation: |          | 0/? [00:00<?, ?it/s]"
      ]
     },
     "metadata": {},
     "output_type": "display_data"
    },
    {
     "data": {
      "application/vnd.jupyter.widget-view+json": {
       "model_id": "a9b0dcda825049499e306abe6857c1d3",
       "version_major": 2,
       "version_minor": 0
      },
      "text/plain": [
       "Validation: |          | 0/? [00:00<?, ?it/s]"
      ]
     },
     "metadata": {},
     "output_type": "display_data"
    },
    {
     "data": {
      "application/vnd.jupyter.widget-view+json": {
       "model_id": "a71e44d61d1243ffbae3e7823c0f3331",
       "version_major": 2,
       "version_minor": 0
      },
      "text/plain": [
       "Validation: |          | 0/? [00:00<?, ?it/s]"
      ]
     },
     "metadata": {},
     "output_type": "display_data"
    },
    {
     "data": {
      "application/vnd.jupyter.widget-view+json": {
       "model_id": "fd22d6c09b9a4960b7f47a773c8b27a7",
       "version_major": 2,
       "version_minor": 0
      },
      "text/plain": [
       "Validation: |          | 0/? [00:00<?, ?it/s]"
      ]
     },
     "metadata": {},
     "output_type": "display_data"
    },
    {
     "name": "stderr",
     "output_type": "stream",
     "text": [
      "Monitored metric val_loss did not improve in the last 10 records. Best score: 0.026. Signaling Trainer to stop.\n",
      "GPU available: True (cuda), used: True\n",
      "TPU available: False, using: 0 TPU cores\n",
      "HPU available: False, using: 0 HPUs\n",
      "LOCAL_RANK: 0 - CUDA_VISIBLE_DEVICES: [0]\n"
     ]
    },
    {
     "name": "stdout",
     "output_type": "stream",
     "text": [
      "Modelo carregado do checkpoint para trial 11\n"
     ]
    },
    {
     "name": "stderr",
     "output_type": "stream",
     "text": [
      "/home/eduardo/Documentos/Water-Cycle-Neural-Network/venv/lib/python3.12/site-packages/pytorch_lightning/trainer/connectors/data_connector.py:425: The 'predict_dataloader' does not have many workers which may be a bottleneck. Consider increasing the value of the `num_workers` argument` to `num_workers=11` in the `DataLoader` to improve performance.\n"
     ]
    },
    {
     "data": {
      "application/vnd.jupyter.widget-view+json": {
       "model_id": "c82513bd0c6b4c6eb910880eff3154d2",
       "version_major": 2,
       "version_minor": 0
      },
      "text/plain": [
       "Predicting: |          | 0/? [00:00<?, ?it/s]"
      ]
     },
     "metadata": {},
     "output_type": "display_data"
    },
    {
     "name": "stderr",
     "output_type": "stream",
     "text": [
      "[I 2025-05-15 14:24:59,172] Trial 11 finished with value: 56.823220795488965 and parameters: {'output_chunk_length': 21, 'input_chunk_length': 32, 'hidden_size': 65, 'lstm_layers': 1, 'num_attention_heads': 2, 'hidden_continuous_size': 22, 'add_relative_index': False, 'dropout': 0.0, 'batch_size': 17, 'lr': 0.001103733411624849, 'forecast_horizon': 18}. Best is trial 0 with value: 54.03868496051025.\n"
     ]
    },
    {
     "name": "stdout",
     "output_type": "stream",
     "text": [
      "Iniciando a verificação das séries temporais para constância...\n",
      "\n",
      "Métricas de performance:\n",
      "                                     MSE        RMSE  ...          R2       SMAPE\n",
      "Temperature                     4.085221    2.021193  ...   -0.208143   25.056789\n",
      "Precipitation_accumulated     282.091767   16.795588  ... -295.454233    3.401579\n",
      "Humidity                       36.413452    6.034356  ...    0.440852    5.618543\n",
      "Wind_Speed_kmh                  0.271517    0.521073  ...    0.211042  176.304200\n",
      "Soil_Moisture              275733.380583  525.103209  ...    0.631317    4.281244\n",
      "Soil_Temperature                3.611438    1.900378  ...    0.353324   26.176666\n",
      "Wind_Dir_Sin                    0.134125    0.366231  ...    0.173771  162.452279\n",
      "Wind_Dir_Cos                    0.167276    0.408994  ...    0.422567   51.294465\n",
      "\n",
      "[8 rows x 5 columns]\n",
      "O SMAPE desse fold foi 56.823220795488965\n",
      "Resultados do trial 11 salvos em optuna_iteration_metrics/trial_11.json\n",
      "Current value: 56.823220795488965, Current params: {'output_chunk_length': 21, 'input_chunk_length': 32, 'hidden_size': 65, 'lstm_layers': 1, 'num_attention_heads': 2, 'hidden_continuous_size': 22, 'add_relative_index': False, 'dropout': 0.0, 'batch_size': 17, 'lr': 0.001103733411624849, 'forecast_horizon': 18}\n",
      "Best value: 54.03868496051025, Best params: {'output_chunk_length': 24, 'input_chunk_length': 85, 'hidden_size': 96, 'lstm_layers': 1, 'num_attention_heads': 2, 'hidden_continuous_size': 23, 'add_relative_index': True, 'dropout': 0.15000000000000002, 'batch_size': 57, 'lr': 0.007635364276486364, 'forecast_horizon': 1}\n",
      "\n",
      "Iniciando Trial 12\n",
      "Hiperparâmetros: {'output_chunk_length': 12, 'input_chunk_length': 40, 'hidden_size': 54, 'lstm_layers': 1, 'num_attention_heads': 3, 'hidden_continuous_size': 21, 'add_relative_index': False, 'dropout': 0.05, 'batch_size': 19, 'lr': 0.0007574891748320121, 'forecast_horizon': 18}\n",
      "\n",
      "Treinando o modelo...\n",
      "Train set: 6647 samples\n",
      "Validation set: 1662 samples\n"
     ]
    },
    {
     "name": "stderr",
     "output_type": "stream",
     "text": [
      "GPU available: True (cuda), used: True\n",
      "TPU available: False, using: 0 TPU cores\n",
      "HPU available: False, using: 0 HPUs\n",
      "LOCAL_RANK: 0 - CUDA_VISIBLE_DEVICES: [0]\n",
      "\n",
      "   | Name                              | Type                             | Params | Mode \n",
      "------------------------------------------------------------------------------------------------\n",
      "0  | criterion                         | HuberLoss                        | 0      | train\n",
      "1  | train_criterion                   | HuberLoss                        | 0      | train\n",
      "2  | val_criterion                     | HuberLoss                        | 0      | train\n",
      "3  | train_metrics                     | MetricCollection                 | 0      | train\n",
      "4  | val_metrics                       | MetricCollection                 | 0      | train\n",
      "5  | input_embeddings                  | _MultiEmbedding                  | 0      | train\n",
      "6  | static_covariates_vsn             | _VariableSelectionNetwork        | 0      | train\n",
      "7  | encoder_vsn                       | _VariableSelectionNetwork        | 121 K  | train\n",
      "8  | decoder_vsn                       | _VariableSelectionNetwork        | 39.1 K | train\n",
      "9  | static_context_grn                | _GatedResidualNetwork            | 12.0 K | train\n",
      "10 | static_context_hidden_encoder_grn | _GatedResidualNetwork            | 12.0 K | train\n",
      "11 | static_context_cell_encoder_grn   | _GatedResidualNetwork            | 12.0 K | train\n",
      "12 | static_context_enrichment         | _GatedResidualNetwork            | 12.0 K | train\n",
      "13 | lstm_encoder                      | LSTM                             | 23.8 K | train\n",
      "14 | lstm_decoder                      | LSTM                             | 23.8 K | train\n",
      "15 | post_lstm_gan                     | _GateAddNorm                     | 6.0 K  | train\n",
      "16 | static_enrichment_grn             | _GatedResidualNetwork            | 14.9 K | train\n",
      "17 | multihead_attn                    | _InterpretableMultiHeadAttention | 7.9 K  | train\n",
      "18 | post_attn_gan                     | _GateAddNorm                     | 6.0 K  | train\n",
      "19 | feed_forward_block                | _GatedResidualNetwork            | 12.0 K | train\n",
      "20 | pre_output_gan                    | _GateAddNorm                     | 6.0 K  | train\n",
      "21 | output_layer                      | Linear                           | 440    | train\n",
      "------------------------------------------------------------------------------------------------\n",
      "309 K     Trainable params\n",
      "0         Non-trainable params\n",
      "309 K     Total params\n",
      "1.237     Total estimated model params size (MB)\n",
      "704       Modules in train mode\n",
      "0         Modules in eval mode\n"
     ]
    },
    {
     "data": {
      "application/vnd.jupyter.widget-view+json": {
       "model_id": "71df85dc32bd46798fd21d539d0cf6e2",
       "version_major": 2,
       "version_minor": 0
      },
      "text/plain": [
       "Sanity Checking: |          | 0/? [00:00<?, ?it/s]"
      ]
     },
     "metadata": {},
     "output_type": "display_data"
    },
    {
     "data": {
      "application/vnd.jupyter.widget-view+json": {
       "model_id": "3fd3ced442bf4f4ab260c515cfe4ce8c",
       "version_major": 2,
       "version_minor": 0
      },
      "text/plain": [
       "Training: |          | 0/? [00:00<?, ?it/s]"
      ]
     },
     "metadata": {},
     "output_type": "display_data"
    },
    {
     "data": {
      "application/vnd.jupyter.widget-view+json": {
       "model_id": "c81b4acba4ff4ed298459ca897f4f167",
       "version_major": 2,
       "version_minor": 0
      },
      "text/plain": [
       "Validation: |          | 0/? [00:00<?, ?it/s]"
      ]
     },
     "metadata": {},
     "output_type": "display_data"
    },
    {
     "name": "stderr",
     "output_type": "stream",
     "text": [
      "[I 2025-05-15 14:25:29,523] Trial 12 pruned. Trial was pruned at epoch 0.\n",
      "GPU available: True (cuda), used: True\n",
      "TPU available: False, using: 0 TPU cores\n",
      "HPU available: False, using: 0 HPUs\n",
      "LOCAL_RANK: 0 - CUDA_VISIBLE_DEVICES: [0]\n",
      "\n",
      "   | Name                              | Type                             | Params | Mode \n",
      "------------------------------------------------------------------------------------------------\n",
      "0  | criterion                         | HuberLoss                        | 0      | train\n",
      "1  | train_criterion                   | HuberLoss                        | 0      | train\n",
      "2  | val_criterion                     | HuberLoss                        | 0      | train\n",
      "3  | train_metrics                     | MetricCollection                 | 0      | train\n",
      "4  | val_metrics                       | MetricCollection                 | 0      | train\n",
      "5  | input_embeddings                  | _MultiEmbedding                  | 0      | train\n",
      "6  | static_covariates_vsn             | _VariableSelectionNetwork        | 0      | train\n",
      "7  | encoder_vsn                       | _VariableSelectionNetwork        | 196 K  | train\n",
      "8  | decoder_vsn                       | _VariableSelectionNetwork        | 65.0 K | train\n",
      "9  | static_context_grn                | _GatedResidualNetwork            | 25.4 K | train\n",
      "10 | static_context_hidden_encoder_grn | _GatedResidualNetwork            | 25.4 K | train\n",
      "11 | static_context_cell_encoder_grn   | _GatedResidualNetwork            | 25.4 K | train\n",
      "12 | static_context_enrichment         | _GatedResidualNetwork            | 25.4 K | train\n",
      "13 | lstm_encoder                      | LSTM                             | 50.6 K | train\n",
      "14 | lstm_decoder                      | LSTM                             | 50.6 K | train\n",
      "15 | post_lstm_gan                     | _GateAddNorm                     | 12.8 K | train\n",
      "16 | static_enrichment_grn             | _GatedResidualNetwork            | 31.7 K | train\n",
      "17 | multihead_attn                    | _InterpretableMultiHeadAttention | 18.7 K | train\n",
      "18 | post_attn_gan                     | _GateAddNorm                     | 12.8 K | train\n",
      "19 | feed_forward_block                | _GatedResidualNetwork            | 25.4 K | train\n",
      "20 | pre_output_gan                    | _GateAddNorm                     | 12.8 K | train\n",
      "21 | output_layer                      | Linear                           | 640    | train\n",
      "------------------------------------------------------------------------------------------------\n",
      "578 K     Trainable params\n",
      "0         Non-trainable params\n",
      "578 K     Total params\n",
      "2.314     Total estimated model params size (MB)\n",
      "702       Modules in train mode\n",
      "0         Modules in eval mode\n"
     ]
    },
    {
     "name": "stdout",
     "output_type": "stream",
     "text": [
      "Current value: 0.041856928436238845, Current params: {'output_chunk_length': 12, 'input_chunk_length': 40, 'hidden_size': 54, 'lstm_layers': 1, 'num_attention_heads': 3, 'hidden_continuous_size': 21, 'add_relative_index': False, 'dropout': 0.05, 'batch_size': 19, 'lr': 0.0007574891748320121, 'forecast_horizon': 18}\n",
      "Best value: 54.03868496051025, Best params: {'output_chunk_length': 24, 'input_chunk_length': 85, 'hidden_size': 96, 'lstm_layers': 1, 'num_attention_heads': 2, 'hidden_continuous_size': 23, 'add_relative_index': True, 'dropout': 0.15000000000000002, 'batch_size': 57, 'lr': 0.007635364276486364, 'forecast_horizon': 1}\n",
      "\n",
      "Iniciando Trial 13\n",
      "Hiperparâmetros: {'output_chunk_length': 24, 'input_chunk_length': 64, 'hidden_size': 79, 'lstm_layers': 1, 'num_attention_heads': 2, 'hidden_continuous_size': 26, 'add_relative_index': False, 'dropout': 0.1, 'batch_size': 64, 'lr': 0.00014641553567360354, 'forecast_horizon': 9}\n",
      "\n",
      "Treinando o modelo...\n",
      "Train set: 6647 samples\n",
      "Validation set: 1662 samples\n"
     ]
    },
    {
     "data": {
      "application/vnd.jupyter.widget-view+json": {
       "model_id": "7699628988304855859c1a65cd341fec",
       "version_major": 2,
       "version_minor": 0
      },
      "text/plain": [
       "Sanity Checking: |          | 0/? [00:00<?, ?it/s]"
      ]
     },
     "metadata": {},
     "output_type": "display_data"
    },
    {
     "data": {
      "application/vnd.jupyter.widget-view+json": {
       "model_id": "e21f26a77d9d4f87a2ccfd4bfbd91795",
       "version_major": 2,
       "version_minor": 0
      },
      "text/plain": [
       "Training: |          | 0/? [00:00<?, ?it/s]"
      ]
     },
     "metadata": {},
     "output_type": "display_data"
    },
    {
     "data": {
      "application/vnd.jupyter.widget-view+json": {
       "model_id": "678ebb766c2f495dbe9a4d071836ff3e",
       "version_major": 2,
       "version_minor": 0
      },
      "text/plain": [
       "Validation: |          | 0/? [00:00<?, ?it/s]"
      ]
     },
     "metadata": {},
     "output_type": "display_data"
    },
    {
     "name": "stderr",
     "output_type": "stream",
     "text": [
      "[I 2025-05-15 14:26:06,139] Trial 13 pruned. Trial was pruned at epoch 0.\n",
      "GPU available: True (cuda), used: True\n",
      "TPU available: False, using: 0 TPU cores\n",
      "HPU available: False, using: 0 HPUs\n",
      "LOCAL_RANK: 0 - CUDA_VISIBLE_DEVICES: [0]\n",
      "\n",
      "   | Name                              | Type                             | Params | Mode \n",
      "------------------------------------------------------------------------------------------------\n",
      "0  | criterion                         | HuberLoss                        | 0      | train\n",
      "1  | train_criterion                   | HuberLoss                        | 0      | train\n",
      "2  | val_criterion                     | HuberLoss                        | 0      | train\n",
      "3  | train_metrics                     | MetricCollection                 | 0      | train\n",
      "4  | val_metrics                       | MetricCollection                 | 0      | train\n",
      "5  | input_embeddings                  | _MultiEmbedding                  | 0      | train\n",
      "6  | static_covariates_vsn             | _VariableSelectionNetwork        | 0      | train\n",
      "7  | encoder_vsn                       | _VariableSelectionNetwork        | 148 K  | train\n",
      "8  | decoder_vsn                       | _VariableSelectionNetwork        | 52.0 K | train\n",
      "9  | static_context_grn                | _GatedResidualNetwork            | 26.1 K | train\n",
      "10 | static_context_hidden_encoder_grn | _GatedResidualNetwork            | 26.1 K | train\n",
      "11 | static_context_cell_encoder_grn   | _GatedResidualNetwork            | 26.1 K | train\n",
      "12 | static_context_enrichment         | _GatedResidualNetwork            | 26.1 K | train\n",
      "13 | lstm_encoder                      | LSTM                             | 51.8 K | train\n",
      "14 | lstm_decoder                      | LSTM                             | 51.8 K | train\n",
      "15 | post_lstm_gan                     | _GateAddNorm                     | 13.1 K | train\n",
      "16 | static_enrichment_grn             | _GatedResidualNetwork            | 32.5 K | train\n",
      "17 | multihead_attn                    | _InterpretableMultiHeadAttention | 19.4 K | train\n",
      "18 | post_attn_gan                     | _GateAddNorm                     | 13.1 K | train\n",
      "19 | feed_forward_block                | _GatedResidualNetwork            | 26.1 K | train\n",
      "20 | pre_output_gan                    | _GateAddNorm                     | 13.1 K | train\n",
      "21 | output_layer                      | Linear                           | 648    | train\n",
      "------------------------------------------------------------------------------------------------\n",
      "526 K     Trainable params\n",
      "0         Non-trainable params\n",
      "526 K     Total params\n",
      "2.105     Total estimated model params size (MB)\n",
      "731       Modules in train mode\n",
      "0         Modules in eval mode\n"
     ]
    },
    {
     "name": "stdout",
     "output_type": "stream",
     "text": [
      "Current value: 0.03870318697963614, Current params: {'output_chunk_length': 24, 'input_chunk_length': 64, 'hidden_size': 79, 'lstm_layers': 1, 'num_attention_heads': 2, 'hidden_continuous_size': 26, 'add_relative_index': False, 'dropout': 0.1, 'batch_size': 64, 'lr': 0.00014641553567360354, 'forecast_horizon': 9}\n",
      "Best value: 54.03868496051025, Best params: {'output_chunk_length': 24, 'input_chunk_length': 85, 'hidden_size': 96, 'lstm_layers': 1, 'num_attention_heads': 2, 'hidden_continuous_size': 23, 'add_relative_index': True, 'dropout': 0.15000000000000002, 'batch_size': 57, 'lr': 0.007635364276486364, 'forecast_horizon': 1}\n",
      "\n",
      "Iniciando Trial 14\n",
      "Hiperparâmetros: {'output_chunk_length': 24, 'input_chunk_length': 73, 'hidden_size': 80, 'lstm_layers': 1, 'num_attention_heads': 2, 'hidden_continuous_size': 19, 'add_relative_index': True, 'dropout': 0.1, 'batch_size': 16, 'lr': 0.0015889568016104127, 'forecast_horizon': 18}\n",
      "\n",
      "Treinando o modelo...\n",
      "Train set: 6647 samples\n",
      "Validation set: 1662 samples\n"
     ]
    },
    {
     "data": {
      "application/vnd.jupyter.widget-view+json": {
       "model_id": "dbe69a9424f94e7794147a916769b094",
       "version_major": 2,
       "version_minor": 0
      },
      "text/plain": [
       "Sanity Checking: |          | 0/? [00:00<?, ?it/s]"
      ]
     },
     "metadata": {},
     "output_type": "display_data"
    },
    {
     "data": {
      "application/vnd.jupyter.widget-view+json": {
       "model_id": "d40043bba6ce441fbbdc8ff0550ae0e7",
       "version_major": 2,
       "version_minor": 0
      },
      "text/plain": [
       "Training: |          | 0/? [00:00<?, ?it/s]"
      ]
     },
     "metadata": {},
     "output_type": "display_data"
    },
    {
     "data": {
      "application/vnd.jupyter.widget-view+json": {
       "model_id": "2d60688e8d6c4baba8a69ec3911b75da",
       "version_major": 2,
       "version_minor": 0
      },
      "text/plain": [
       "Validation: |          | 0/? [00:00<?, ?it/s]"
      ]
     },
     "metadata": {},
     "output_type": "display_data"
    },
    {
     "name": "stderr",
     "output_type": "stream",
     "text": [
      "[I 2025-05-15 14:28:53,451] Trial 14 pruned. Trial was pruned at epoch 0.\n",
      "GPU available: True (cuda), used: True\n",
      "TPU available: False, using: 0 TPU cores\n",
      "HPU available: False, using: 0 HPUs\n",
      "LOCAL_RANK: 0 - CUDA_VISIBLE_DEVICES: [0]\n",
      "\n",
      "   | Name                              | Type                             | Params | Mode \n",
      "------------------------------------------------------------------------------------------------\n",
      "0  | criterion                         | HuberLoss                        | 0      | train\n",
      "1  | train_criterion                   | HuberLoss                        | 0      | train\n",
      "2  | val_criterion                     | HuberLoss                        | 0      | train\n",
      "3  | train_metrics                     | MetricCollection                 | 0      | train\n",
      "4  | val_metrics                       | MetricCollection                 | 0      | train\n",
      "5  | input_embeddings                  | _MultiEmbedding                  | 0      | train\n",
      "6  | static_covariates_vsn             | _VariableSelectionNetwork        | 0      | train\n",
      "7  | encoder_vsn                       | _VariableSelectionNetwork        | 157 K  | train\n",
      "8  | decoder_vsn                       | _VariableSelectionNetwork        | 51.0 K | train\n",
      "9  | static_context_grn                | _GatedResidualNetwork            | 11.1 K | train\n",
      "10 | static_context_hidden_encoder_grn | _GatedResidualNetwork            | 11.1 K | train\n",
      "11 | static_context_cell_encoder_grn   | _GatedResidualNetwork            | 11.1 K | train\n",
      "12 | static_context_enrichment         | _GatedResidualNetwork            | 11.1 K | train\n",
      "13 | lstm_encoder                      | LSTM                             | 22.0 K | train\n",
      "14 | lstm_decoder                      | LSTM                             | 22.0 K | train\n",
      "15 | post_lstm_gan                     | _GateAddNorm                     | 5.6 K  | train\n",
      "16 | static_enrichment_grn             | _GatedResidualNetwork            | 13.8 K | train\n",
      "17 | multihead_attn                    | _InterpretableMultiHeadAttention | 8.2 K  | train\n",
      "18 | post_attn_gan                     | _GateAddNorm                     | 5.6 K  | train\n",
      "19 | feed_forward_block                | _GatedResidualNetwork            | 11.1 K | train\n",
      "20 | pre_output_gan                    | _GateAddNorm                     | 5.6 K  | train\n",
      "21 | output_layer                      | Linear                           | 424    | train\n",
      "------------------------------------------------------------------------------------------------\n",
      "347 K     Trainable params\n",
      "0         Non-trainable params\n",
      "347 K     Total params\n",
      "1.390     Total estimated model params size (MB)\n",
      "702       Modules in train mode\n",
      "0         Modules in eval mode\n"
     ]
    },
    {
     "name": "stdout",
     "output_type": "stream",
     "text": [
      "Current value: 0.042428469438279284, Current params: {'output_chunk_length': 24, 'input_chunk_length': 73, 'hidden_size': 80, 'lstm_layers': 1, 'num_attention_heads': 2, 'hidden_continuous_size': 19, 'add_relative_index': True, 'dropout': 0.1, 'batch_size': 16, 'lr': 0.0015889568016104127, 'forecast_horizon': 18}\n",
      "Best value: 54.03868496051025, Best params: {'output_chunk_length': 24, 'input_chunk_length': 85, 'hidden_size': 96, 'lstm_layers': 1, 'num_attention_heads': 2, 'hidden_continuous_size': 23, 'add_relative_index': True, 'dropout': 0.15000000000000002, 'batch_size': 57, 'lr': 0.007635364276486364, 'forecast_horizon': 1}\n",
      "\n",
      "Iniciando Trial 15\n",
      "Hiperparâmetros: {'output_chunk_length': 31, 'input_chunk_length': 81, 'hidden_size': 52, 'lstm_layers': 1, 'num_attention_heads': 2, 'hidden_continuous_size': 27, 'add_relative_index': False, 'dropout': 0.05, 'batch_size': 46, 'lr': 0.009432353465248506, 'forecast_horizon': 5}\n",
      "\n",
      "Treinando o modelo...\n",
      "Train set: 6647 samples\n",
      "Validation set: 1662 samples\n"
     ]
    },
    {
     "data": {
      "application/vnd.jupyter.widget-view+json": {
       "model_id": "9984e597deda472c88f7d60f73731277",
       "version_major": 2,
       "version_minor": 0
      },
      "text/plain": [
       "Sanity Checking: |          | 0/? [00:00<?, ?it/s]"
      ]
     },
     "metadata": {},
     "output_type": "display_data"
    },
    {
     "data": {
      "application/vnd.jupyter.widget-view+json": {
       "model_id": "149441ac10cf4eb08bc90c7afb88b60e",
       "version_major": 2,
       "version_minor": 0
      },
      "text/plain": [
       "Training: |          | 0/? [00:00<?, ?it/s]"
      ]
     },
     "metadata": {},
     "output_type": "display_data"
    },
    {
     "data": {
      "application/vnd.jupyter.widget-view+json": {
       "model_id": "34854788cba14b8b8a3f89d8f8a0c949",
       "version_major": 2,
       "version_minor": 0
      },
      "text/plain": [
       "Validation: |          | 0/? [00:00<?, ?it/s]"
      ]
     },
     "metadata": {},
     "output_type": "display_data"
    },
    {
     "name": "stderr",
     "output_type": "stream",
     "text": [
      "[I 2025-05-15 14:29:28,155] Trial 15 pruned. Trial was pruned at epoch 0.\n",
      "GPU available: True (cuda), used: True\n",
      "TPU available: False, using: 0 TPU cores\n",
      "HPU available: False, using: 0 HPUs\n",
      "LOCAL_RANK: 0 - CUDA_VISIBLE_DEVICES: [0]\n",
      "\n",
      "   | Name                              | Type                             | Params | Mode \n",
      "------------------------------------------------------------------------------------------------\n",
      "0  | criterion                         | HuberLoss                        | 0      | train\n",
      "1  | train_criterion                   | HuberLoss                        | 0      | train\n",
      "2  | val_criterion                     | HuberLoss                        | 0      | train\n",
      "3  | train_metrics                     | MetricCollection                 | 0      | train\n",
      "4  | val_metrics                       | MetricCollection                 | 0      | train\n",
      "5  | input_embeddings                  | _MultiEmbedding                  | 0      | train\n",
      "6  | static_covariates_vsn             | _VariableSelectionNetwork        | 0      | train\n",
      "7  | encoder_vsn                       | _VariableSelectionNetwork        | 153 K  | train\n",
      "8  | decoder_vsn                       | _VariableSelectionNetwork        | 51.2 K | train\n",
      "9  | static_context_grn                | _GatedResidualNetwork            | 36.7 K | train\n",
      "10 | static_context_hidden_encoder_grn | _GatedResidualNetwork            | 36.7 K | train\n",
      "11 | static_context_cell_encoder_grn   | _GatedResidualNetwork            | 36.7 K | train\n",
      "12 | static_context_enrichment         | _GatedResidualNetwork            | 36.7 K | train\n",
      "13 | lstm_encoder                      | LSTM                             | 73.0 K | train\n",
      "14 | lstm_decoder                      | LSTM                             | 73.0 K | train\n",
      "15 | post_lstm_gan                     | _GateAddNorm                     | 18.4 K | train\n",
      "16 | static_enrichment_grn             | _GatedResidualNetwork            | 45.7 K | train\n",
      "17 | multihead_attn                    | _InterpretableMultiHeadAttention | 23.8 K | train\n",
      "18 | post_attn_gan                     | _GateAddNorm                     | 18.4 K | train\n",
      "19 | feed_forward_block                | _GatedResidualNetwork            | 36.7 K | train\n",
      "20 | pre_output_gan                    | _GateAddNorm                     | 18.4 K | train\n",
      "21 | output_layer                      | Linear                           | 768    | train\n",
      "------------------------------------------------------------------------------------------------\n",
      "659 K     Trainable params\n",
      "0         Non-trainable params\n",
      "659 K     Total params\n",
      "2.638     Total estimated model params size (MB)\n",
      "704       Modules in train mode\n",
      "0         Modules in eval mode\n"
     ]
    },
    {
     "name": "stdout",
     "output_type": "stream",
     "text": [
      "Current value: 0.06622188902231725, Current params: {'output_chunk_length': 31, 'input_chunk_length': 81, 'hidden_size': 52, 'lstm_layers': 1, 'num_attention_heads': 2, 'hidden_continuous_size': 27, 'add_relative_index': False, 'dropout': 0.05, 'batch_size': 46, 'lr': 0.009432353465248506, 'forecast_horizon': 5}\n",
      "Best value: 54.03868496051025, Best params: {'output_chunk_length': 24, 'input_chunk_length': 85, 'hidden_size': 96, 'lstm_layers': 1, 'num_attention_heads': 2, 'hidden_continuous_size': 23, 'add_relative_index': True, 'dropout': 0.15000000000000002, 'batch_size': 57, 'lr': 0.007635364276486364, 'forecast_horizon': 1}\n",
      "\n",
      "Iniciando Trial 16\n",
      "Hiperparâmetros: {'output_chunk_length': 43, 'input_chunk_length': 90, 'hidden_size': 95, 'lstm_layers': 1, 'num_attention_heads': 3, 'hidden_continuous_size': 18, 'add_relative_index': False, 'dropout': 0.05, 'batch_size': 35, 'lr': 0.00022037254176446647, 'forecast_horizon': 10}\n",
      "\n",
      "Treinando o modelo...\n",
      "Train set: 6647 samples\n",
      "Validation set: 1662 samples\n"
     ]
    },
    {
     "data": {
      "application/vnd.jupyter.widget-view+json": {
       "model_id": "bfa94eb5c6eb4b8095af1239e3ef9f52",
       "version_major": 2,
       "version_minor": 0
      },
      "text/plain": [
       "Sanity Checking: |          | 0/? [00:00<?, ?it/s]"
      ]
     },
     "metadata": {},
     "output_type": "display_data"
    },
    {
     "data": {
      "application/vnd.jupyter.widget-view+json": {
       "model_id": "83c4df88ebd7444188687d72eb0fe103",
       "version_major": 2,
       "version_minor": 0
      },
      "text/plain": [
       "Training: |          | 0/? [00:00<?, ?it/s]"
      ]
     },
     "metadata": {},
     "output_type": "display_data"
    },
    {
     "data": {
      "application/vnd.jupyter.widget-view+json": {
       "model_id": "dd2972bff8e74681862abbed09302622",
       "version_major": 2,
       "version_minor": 0
      },
      "text/plain": [
       "Validation: |          | 0/? [00:00<?, ?it/s]"
      ]
     },
     "metadata": {},
     "output_type": "display_data"
    },
    {
     "name": "stderr",
     "output_type": "stream",
     "text": [
      "Metric val_loss improved. New best score: 0.038\n"
     ]
    },
    {
     "data": {
      "application/vnd.jupyter.widget-view+json": {
       "model_id": "03cf9d7bac3f4c3cba418f3cc1c123ca",
       "version_major": 2,
       "version_minor": 0
      },
      "text/plain": [
       "Validation: |          | 0/? [00:00<?, ?it/s]"
      ]
     },
     "metadata": {},
     "output_type": "display_data"
    },
    {
     "name": "stderr",
     "output_type": "stream",
     "text": [
      "[I 2025-05-15 14:31:39,235] Trial 16 pruned. Trial was pruned at epoch 1.\n",
      "GPU available: True (cuda), used: True\n",
      "TPU available: False, using: 0 TPU cores\n",
      "HPU available: False, using: 0 HPUs\n",
      "LOCAL_RANK: 0 - CUDA_VISIBLE_DEVICES: [0]\n",
      "\n",
      "   | Name                              | Type                             | Params | Mode \n",
      "------------------------------------------------------------------------------------------------\n",
      "0  | criterion                         | HuberLoss                        | 0      | train\n",
      "1  | train_criterion                   | HuberLoss                        | 0      | train\n",
      "2  | val_criterion                     | HuberLoss                        | 0      | train\n",
      "3  | train_metrics                     | MetricCollection                 | 0      | train\n",
      "4  | val_metrics                       | MetricCollection                 | 0      | train\n",
      "5  | input_embeddings                  | _MultiEmbedding                  | 0      | train\n",
      "6  | static_covariates_vsn             | _VariableSelectionNetwork        | 0      | train\n",
      "7  | encoder_vsn                       | _VariableSelectionNetwork        | 306 K  | train\n",
      "8  | decoder_vsn                       | _VariableSelectionNetwork        | 111 K  | train\n",
      "9  | static_context_grn                | _GatedResidualNetwork            | 115 K  | train\n",
      "10 | static_context_hidden_encoder_grn | _GatedResidualNetwork            | 115 K  | train\n",
      "11 | static_context_cell_encoder_grn   | _GatedResidualNetwork            | 115 K  | train\n",
      "12 | static_context_enrichment         | _GatedResidualNetwork            | 115 K  | train\n",
      "13 | lstm_encoder                      | LSTM                             | 459 K  | train\n",
      "14 | lstm_decoder                      | LSTM                             | 459 K  | train\n",
      "15 | post_lstm_gan                     | _GateAddNorm                     | 57.8 K | train\n",
      "16 | static_enrichment_grn             | _GatedResidualNetwork            | 143 K  | train\n",
      "17 | multihead_attn                    | _InterpretableMultiHeadAttention | 85.6 K | train\n",
      "18 | post_attn_gan                     | _GateAddNorm                     | 57.8 K | train\n",
      "19 | feed_forward_block                | _GatedResidualNetwork            | 115 K  | train\n",
      "20 | pre_output_gan                    | _GateAddNorm                     | 57.8 K | train\n",
      "21 | output_layer                      | Linear                           | 1.4 K  | train\n",
      "------------------------------------------------------------------------------------------------\n",
      "2.3 M     Trainable params\n",
      "0         Non-trainable params\n",
      "2.3 M     Total params\n",
      "9.270     Total estimated model params size (MB)\n",
      "731       Modules in train mode\n",
      "0         Modules in eval mode\n"
     ]
    },
    {
     "name": "stdout",
     "output_type": "stream",
     "text": [
      "Current value: 0.03828845530507787, Current params: {'output_chunk_length': 43, 'input_chunk_length': 90, 'hidden_size': 95, 'lstm_layers': 1, 'num_attention_heads': 3, 'hidden_continuous_size': 18, 'add_relative_index': False, 'dropout': 0.05, 'batch_size': 35, 'lr': 0.00022037254176446647, 'forecast_horizon': 10}\n",
      "Best value: 54.03868496051025, Best params: {'output_chunk_length': 24, 'input_chunk_length': 85, 'hidden_size': 96, 'lstm_layers': 1, 'num_attention_heads': 2, 'hidden_continuous_size': 23, 'add_relative_index': True, 'dropout': 0.15000000000000002, 'batch_size': 57, 'lr': 0.007635364276486364, 'forecast_horizon': 1}\n",
      "\n",
      "Iniciando Trial 17\n",
      "Hiperparâmetros: {'output_chunk_length': 18, 'input_chunk_length': 29, 'hidden_size': 169, 'lstm_layers': 2, 'num_attention_heads': 2, 'hidden_continuous_size': 22, 'add_relative_index': True, 'dropout': 0.2, 'batch_size': 46, 'lr': 0.0018410558612869195, 'forecast_horizon': 12}\n",
      "\n",
      "Treinando o modelo...\n",
      "Train set: 6647 samples\n",
      "Validation set: 1662 samples\n"
     ]
    },
    {
     "data": {
      "application/vnd.jupyter.widget-view+json": {
       "model_id": "9e08fc488a7f4b36a63ce3c27d1a43eb",
       "version_major": 2,
       "version_minor": 0
      },
      "text/plain": [
       "Sanity Checking: |          | 0/? [00:00<?, ?it/s]"
      ]
     },
     "metadata": {},
     "output_type": "display_data"
    },
    {
     "data": {
      "application/vnd.jupyter.widget-view+json": {
       "model_id": "95bb80275c5d4294bac68dd986d07bf0",
       "version_major": 2,
       "version_minor": 0
      },
      "text/plain": [
       "Training: |          | 0/? [00:00<?, ?it/s]"
      ]
     },
     "metadata": {},
     "output_type": "display_data"
    },
    {
     "data": {
      "application/vnd.jupyter.widget-view+json": {
       "model_id": "ffd080d12556467bb1d7826f72161ab6",
       "version_major": 2,
       "version_minor": 0
      },
      "text/plain": [
       "Validation: |          | 0/? [00:00<?, ?it/s]"
      ]
     },
     "metadata": {},
     "output_type": "display_data"
    },
    {
     "name": "stderr",
     "output_type": "stream",
     "text": [
      "Metric val_loss improved. New best score: 0.032\n"
     ]
    },
    {
     "data": {
      "application/vnd.jupyter.widget-view+json": {
       "model_id": "88792b37714a40809ec63e04466f59a8",
       "version_major": 2,
       "version_minor": 0
      },
      "text/plain": [
       "Validation: |          | 0/? [00:00<?, ?it/s]"
      ]
     },
     "metadata": {},
     "output_type": "display_data"
    },
    {
     "data": {
      "application/vnd.jupyter.widget-view+json": {
       "model_id": "179cd00a554f419ca51dcdf1b7fe995a",
       "version_major": 2,
       "version_minor": 0
      },
      "text/plain": [
       "Validation: |          | 0/? [00:00<?, ?it/s]"
      ]
     },
     "metadata": {},
     "output_type": "display_data"
    },
    {
     "data": {
      "application/vnd.jupyter.widget-view+json": {
       "model_id": "d7551d7763f84fa18428895dfd3bc4e7",
       "version_major": 2,
       "version_minor": 0
      },
      "text/plain": [
       "Validation: |          | 0/? [00:00<?, ?it/s]"
      ]
     },
     "metadata": {},
     "output_type": "display_data"
    },
    {
     "data": {
      "application/vnd.jupyter.widget-view+json": {
       "model_id": "c2ecb639a5674297bc99d77a92937aca",
       "version_major": 2,
       "version_minor": 0
      },
      "text/plain": [
       "Validation: |          | 0/? [00:00<?, ?it/s]"
      ]
     },
     "metadata": {},
     "output_type": "display_data"
    },
    {
     "data": {
      "application/vnd.jupyter.widget-view+json": {
       "model_id": "44fed4f806a64fa7b1cb0de9231a401e",
       "version_major": 2,
       "version_minor": 0
      },
      "text/plain": [
       "Validation: |          | 0/? [00:00<?, ?it/s]"
      ]
     },
     "metadata": {},
     "output_type": "display_data"
    },
    {
     "data": {
      "application/vnd.jupyter.widget-view+json": {
       "model_id": "2538963bb0f8449197df77f810c12f14",
       "version_major": 2,
       "version_minor": 0
      },
      "text/plain": [
       "Validation: |          | 0/? [00:00<?, ?it/s]"
      ]
     },
     "metadata": {},
     "output_type": "display_data"
    },
    {
     "data": {
      "application/vnd.jupyter.widget-view+json": {
       "model_id": "45f7ba202b614570b1f6868ac1809984",
       "version_major": 2,
       "version_minor": 0
      },
      "text/plain": [
       "Validation: |          | 0/? [00:00<?, ?it/s]"
      ]
     },
     "metadata": {},
     "output_type": "display_data"
    },
    {
     "data": {
      "application/vnd.jupyter.widget-view+json": {
       "model_id": "24f8618165ae4e9294ea99545e320887",
       "version_major": 2,
       "version_minor": 0
      },
      "text/plain": [
       "Validation: |          | 0/? [00:00<?, ?it/s]"
      ]
     },
     "metadata": {},
     "output_type": "display_data"
    },
    {
     "data": {
      "application/vnd.jupyter.widget-view+json": {
       "model_id": "6392eb28ebb7488684cf0a2cea71abb0",
       "version_major": 2,
       "version_minor": 0
      },
      "text/plain": [
       "Validation: |          | 0/? [00:00<?, ?it/s]"
      ]
     },
     "metadata": {},
     "output_type": "display_data"
    },
    {
     "data": {
      "application/vnd.jupyter.widget-view+json": {
       "model_id": "1521d86ac77a4a7287b91aca815ae82c",
       "version_major": 2,
       "version_minor": 0
      },
      "text/plain": [
       "Validation: |          | 0/? [00:00<?, ?it/s]"
      ]
     },
     "metadata": {},
     "output_type": "display_data"
    },
    {
     "name": "stderr",
     "output_type": "stream",
     "text": [
      "Monitored metric val_loss did not improve in the last 10 records. Best score: 0.032. Signaling Trainer to stop.\n",
      "GPU available: True (cuda), used: True\n",
      "TPU available: False, using: 0 TPU cores\n",
      "HPU available: False, using: 0 HPUs\n",
      "LOCAL_RANK: 0 - CUDA_VISIBLE_DEVICES: [0]\n"
     ]
    },
    {
     "name": "stdout",
     "output_type": "stream",
     "text": [
      "Modelo carregado do checkpoint para trial 17\n"
     ]
    },
    {
     "name": "stderr",
     "output_type": "stream",
     "text": [
      "/home/eduardo/Documentos/Water-Cycle-Neural-Network/venv/lib/python3.12/site-packages/pytorch_lightning/trainer/connectors/data_connector.py:425: The 'predict_dataloader' does not have many workers which may be a bottleneck. Consider increasing the value of the `num_workers` argument` to `num_workers=11` in the `DataLoader` to improve performance.\n"
     ]
    },
    {
     "data": {
      "application/vnd.jupyter.widget-view+json": {
       "model_id": "b308b9d76be84a4bbed0a21593519f1f",
       "version_major": 2,
       "version_minor": 0
      },
      "text/plain": [
       "Predicting: |          | 0/? [00:00<?, ?it/s]"
      ]
     },
     "metadata": {},
     "output_type": "display_data"
    },
    {
     "name": "stderr",
     "output_type": "stream",
     "text": [
      "[I 2025-05-15 14:41:08,796] Trial 17 finished with value: 60.51783040867282 and parameters: {'output_chunk_length': 18, 'input_chunk_length': 29, 'hidden_size': 169, 'lstm_layers': 2, 'num_attention_heads': 2, 'hidden_continuous_size': 22, 'add_relative_index': True, 'dropout': 0.2, 'batch_size': 46, 'lr': 0.0018410558612869195, 'forecast_horizon': 12}. Best is trial 0 with value: 54.03868496051025.\n"
     ]
    },
    {
     "name": "stdout",
     "output_type": "stream",
     "text": [
      "Iniciando a verificação das séries temporais para constância...\n",
      "\n",
      "Métricas de performance:\n",
      "                                     MSE        RMSE  ...          R2       SMAPE\n",
      "Temperature                     3.641008    1.908143  ...   -0.073067   31.822282\n",
      "Precipitation_accumulated     223.813212   14.960388  ... -234.427267    2.915906\n",
      "Humidity                      101.035052   10.051619  ...   -0.551821    9.201362\n",
      "Wind_Speed_kmh                  0.292382    0.540724  ...    0.146819  168.953161\n",
      "Soil_Moisture              543193.859985  737.016865  ...    0.270776    8.554013\n",
      "Soil_Temperature                6.511495    2.551763  ...   -0.163791   38.578450\n",
      "Wind_Dir_Sin                    0.160249    0.400311  ...    0.008891  161.067545\n",
      "Wind_Dir_Cos                    0.169138    0.411264  ...    0.414162   63.049925\n",
      "\n",
      "[8 rows x 5 columns]\n",
      "O SMAPE desse fold foi 60.51783040867282\n",
      "Resultados do trial 17 salvos em optuna_iteration_metrics/trial_17.json\n",
      "Current value: 60.51783040867282, Current params: {'output_chunk_length': 18, 'input_chunk_length': 29, 'hidden_size': 169, 'lstm_layers': 2, 'num_attention_heads': 2, 'hidden_continuous_size': 22, 'add_relative_index': True, 'dropout': 0.2, 'batch_size': 46, 'lr': 0.0018410558612869195, 'forecast_horizon': 12}\n",
      "Best value: 54.03868496051025, Best params: {'output_chunk_length': 24, 'input_chunk_length': 85, 'hidden_size': 96, 'lstm_layers': 1, 'num_attention_heads': 2, 'hidden_continuous_size': 23, 'add_relative_index': True, 'dropout': 0.15000000000000002, 'batch_size': 57, 'lr': 0.007635364276486364, 'forecast_horizon': 1}\n",
      "\n",
      "Iniciando Trial 18\n",
      "Hiperparâmetros: {'output_chunk_length': 41, 'input_chunk_length': 88, 'hidden_size': 53, 'lstm_layers': 1, 'num_attention_heads': 3, 'hidden_continuous_size': 17, 'add_relative_index': True, 'dropout': 0.15000000000000002, 'batch_size': 55, 'lr': 0.0005200545152029244, 'forecast_horizon': 20}\n",
      "\n",
      "Treinando o modelo...\n",
      "Train set: 6647 samples\n",
      "Validation set: 1662 samples\n"
     ]
    },
    {
     "name": "stderr",
     "output_type": "stream",
     "text": [
      "GPU available: True (cuda), used: True\n",
      "TPU available: False, using: 0 TPU cores\n",
      "HPU available: False, using: 0 HPUs\n",
      "LOCAL_RANK: 0 - CUDA_VISIBLE_DEVICES: [0]\n",
      "\n",
      "   | Name                              | Type                             | Params | Mode \n",
      "------------------------------------------------------------------------------------------------\n",
      "0  | criterion                         | HuberLoss                        | 0      | train\n",
      "1  | train_criterion                   | HuberLoss                        | 0      | train\n",
      "2  | val_criterion                     | HuberLoss                        | 0      | train\n",
      "3  | train_metrics                     | MetricCollection                 | 0      | train\n",
      "4  | val_metrics                       | MetricCollection                 | 0      | train\n",
      "5  | input_embeddings                  | _MultiEmbedding                  | 0      | train\n",
      "6  | static_covariates_vsn             | _VariableSelectionNetwork        | 0      | train\n",
      "7  | encoder_vsn                       | _VariableSelectionNetwork        | 100 K  | train\n",
      "8  | decoder_vsn                       | _VariableSelectionNetwork        | 34.1 K | train\n",
      "9  | static_context_grn                | _GatedResidualNetwork            | 11.6 K | train\n",
      "10 | static_context_hidden_encoder_grn | _GatedResidualNetwork            | 11.6 K | train\n",
      "11 | static_context_cell_encoder_grn   | _GatedResidualNetwork            | 11.6 K | train\n",
      "12 | static_context_enrichment         | _GatedResidualNetwork            | 11.6 K | train\n",
      "13 | lstm_encoder                      | LSTM                             | 22.9 K | train\n",
      "14 | lstm_decoder                      | LSTM                             | 22.9 K | train\n",
      "15 | post_lstm_gan                     | _GateAddNorm                     | 5.8 K  | train\n",
      "16 | static_enrichment_grn             | _GatedResidualNetwork            | 14.4 K | train\n",
      "17 | multihead_attn                    | _InterpretableMultiHeadAttention | 7.3 K  | train\n",
      "18 | post_attn_gan                     | _GateAddNorm                     | 5.8 K  | train\n",
      "19 | feed_forward_block                | _GatedResidualNetwork            | 11.6 K | train\n",
      "20 | pre_output_gan                    | _GateAddNorm                     | 5.8 K  | train\n",
      "21 | output_layer                      | Linear                           | 432    | train\n",
      "------------------------------------------------------------------------------------------------\n",
      "277 K     Trainable params\n",
      "0         Non-trainable params\n",
      "277 K     Total params\n",
      "1.109     Total estimated model params size (MB)\n",
      "733       Modules in train mode\n",
      "0         Modules in eval mode\n"
     ]
    },
    {
     "data": {
      "application/vnd.jupyter.widget-view+json": {
       "model_id": "f7d0051a73dc4483b406d6c24c0a304e",
       "version_major": 2,
       "version_minor": 0
      },
      "text/plain": [
       "Sanity Checking: |          | 0/? [00:00<?, ?it/s]"
      ]
     },
     "metadata": {},
     "output_type": "display_data"
    },
    {
     "data": {
      "application/vnd.jupyter.widget-view+json": {
       "model_id": "2a4b26c9b1fe44449ad3fc1436362678",
       "version_major": 2,
       "version_minor": 0
      },
      "text/plain": [
       "Training: |          | 0/? [00:00<?, ?it/s]"
      ]
     },
     "metadata": {},
     "output_type": "display_data"
    },
    {
     "data": {
      "application/vnd.jupyter.widget-view+json": {
       "model_id": "f7bce9ae056048cbbf618d46999d36f4",
       "version_major": 2,
       "version_minor": 0
      },
      "text/plain": [
       "Validation: |          | 0/? [00:00<?, ?it/s]"
      ]
     },
     "metadata": {},
     "output_type": "display_data"
    },
    {
     "name": "stderr",
     "output_type": "stream",
     "text": [
      "Metric val_loss improved. New best score: 0.033\n"
     ]
    },
    {
     "data": {
      "application/vnd.jupyter.widget-view+json": {
       "model_id": "2a67cb11755f419285014411b6ba63c8",
       "version_major": 2,
       "version_minor": 0
      },
      "text/plain": [
       "Validation: |          | 0/? [00:00<?, ?it/s]"
      ]
     },
     "metadata": {},
     "output_type": "display_data"
    },
    {
     "name": "stderr",
     "output_type": "stream",
     "text": [
      "Metric val_loss improved by 0.005 >= min_delta = 0.001. New best score: 0.028\n"
     ]
    },
    {
     "data": {
      "application/vnd.jupyter.widget-view+json": {
       "model_id": "cc5c6d84e454455f80413902bf6ecf4f",
       "version_major": 2,
       "version_minor": 0
      },
      "text/plain": [
       "Validation: |          | 0/? [00:00<?, ?it/s]"
      ]
     },
     "metadata": {},
     "output_type": "display_data"
    },
    {
     "data": {
      "application/vnd.jupyter.widget-view+json": {
       "model_id": "88f3f35b7be2444591942403a5612bc7",
       "version_major": 2,
       "version_minor": 0
      },
      "text/plain": [
       "Validation: |          | 0/? [00:00<?, ?it/s]"
      ]
     },
     "metadata": {},
     "output_type": "display_data"
    },
    {
     "data": {
      "application/vnd.jupyter.widget-view+json": {
       "model_id": "3da8f804f90a498790ebca0f1e8f093f",
       "version_major": 2,
       "version_minor": 0
      },
      "text/plain": [
       "Validation: |          | 0/? [00:00<?, ?it/s]"
      ]
     },
     "metadata": {},
     "output_type": "display_data"
    },
    {
     "name": "stderr",
     "output_type": "stream",
     "text": [
      "Metric val_loss improved by 0.002 >= min_delta = 0.001. New best score: 0.026\n"
     ]
    },
    {
     "data": {
      "application/vnd.jupyter.widget-view+json": {
       "model_id": "7139f2fc567e4e22ab7effcbbd21c1b6",
       "version_major": 2,
       "version_minor": 0
      },
      "text/plain": [
       "Validation: |          | 0/? [00:00<?, ?it/s]"
      ]
     },
     "metadata": {},
     "output_type": "display_data"
    },
    {
     "data": {
      "application/vnd.jupyter.widget-view+json": {
       "model_id": "878b8d4fab084e26869df3aa148e5608",
       "version_major": 2,
       "version_minor": 0
      },
      "text/plain": [
       "Validation: |          | 0/? [00:00<?, ?it/s]"
      ]
     },
     "metadata": {},
     "output_type": "display_data"
    },
    {
     "data": {
      "application/vnd.jupyter.widget-view+json": {
       "model_id": "42165d6415a64986b132f3f053477f3d",
       "version_major": 2,
       "version_minor": 0
      },
      "text/plain": [
       "Validation: |          | 0/? [00:00<?, ?it/s]"
      ]
     },
     "metadata": {},
     "output_type": "display_data"
    },
    {
     "data": {
      "application/vnd.jupyter.widget-view+json": {
       "model_id": "03ef3260d5dc4d0f8e535e14611b76d0",
       "version_major": 2,
       "version_minor": 0
      },
      "text/plain": [
       "Validation: |          | 0/? [00:00<?, ?it/s]"
      ]
     },
     "metadata": {},
     "output_type": "display_data"
    },
    {
     "data": {
      "application/vnd.jupyter.widget-view+json": {
       "model_id": "a92acec914e64d41889ba992acc50a1f",
       "version_major": 2,
       "version_minor": 0
      },
      "text/plain": [
       "Validation: |          | 0/? [00:00<?, ?it/s]"
      ]
     },
     "metadata": {},
     "output_type": "display_data"
    },
    {
     "data": {
      "application/vnd.jupyter.widget-view+json": {
       "model_id": "05e9bb74b2924b59bdb6a724a6688b12",
       "version_major": 2,
       "version_minor": 0
      },
      "text/plain": [
       "Validation: |          | 0/? [00:00<?, ?it/s]"
      ]
     },
     "metadata": {},
     "output_type": "display_data"
    },
    {
     "data": {
      "application/vnd.jupyter.widget-view+json": {
       "model_id": "57d0f9b07376417db9f6d5a8bb9d0533",
       "version_major": 2,
       "version_minor": 0
      },
      "text/plain": [
       "Validation: |          | 0/? [00:00<?, ?it/s]"
      ]
     },
     "metadata": {},
     "output_type": "display_data"
    },
    {
     "data": {
      "application/vnd.jupyter.widget-view+json": {
       "model_id": "5b6aff2730e04013923b99dd336131b6",
       "version_major": 2,
       "version_minor": 0
      },
      "text/plain": [
       "Validation: |          | 0/? [00:00<?, ?it/s]"
      ]
     },
     "metadata": {},
     "output_type": "display_data"
    },
    {
     "data": {
      "application/vnd.jupyter.widget-view+json": {
       "model_id": "32f50609249542ba9aeacd66dc86a31f",
       "version_major": 2,
       "version_minor": 0
      },
      "text/plain": [
       "Validation: |          | 0/? [00:00<?, ?it/s]"
      ]
     },
     "metadata": {},
     "output_type": "display_data"
    },
    {
     "data": {
      "application/vnd.jupyter.widget-view+json": {
       "model_id": "8aa99e87d03b472d9b3f7231f1cd376d",
       "version_major": 2,
       "version_minor": 0
      },
      "text/plain": [
       "Validation: |          | 0/? [00:00<?, ?it/s]"
      ]
     },
     "metadata": {},
     "output_type": "display_data"
    },
    {
     "name": "stderr",
     "output_type": "stream",
     "text": [
      "Monitored metric val_loss did not improve in the last 10 records. Best score: 0.026. Signaling Trainer to stop.\n",
      "GPU available: True (cuda), used: True\n",
      "TPU available: False, using: 0 TPU cores\n",
      "HPU available: False, using: 0 HPUs\n",
      "LOCAL_RANK: 0 - CUDA_VISIBLE_DEVICES: [0]\n"
     ]
    },
    {
     "name": "stdout",
     "output_type": "stream",
     "text": [
      "Modelo carregado do checkpoint para trial 18\n"
     ]
    },
    {
     "name": "stderr",
     "output_type": "stream",
     "text": [
      "/home/eduardo/Documentos/Water-Cycle-Neural-Network/venv/lib/python3.12/site-packages/pytorch_lightning/trainer/connectors/data_connector.py:425: The 'predict_dataloader' does not have many workers which may be a bottleneck. Consider increasing the value of the `num_workers` argument` to `num_workers=11` in the `DataLoader` to improve performance.\n"
     ]
    },
    {
     "data": {
      "application/vnd.jupyter.widget-view+json": {
       "model_id": "c5b54fa4d02c41e2bb40322b008ed7c7",
       "version_major": 2,
       "version_minor": 0
      },
      "text/plain": [
       "Predicting: |          | 0/? [00:00<?, ?it/s]"
      ]
     },
     "metadata": {},
     "output_type": "display_data"
    },
    {
     "name": "stderr",
     "output_type": "stream",
     "text": [
      "[I 2025-05-15 14:53:43,363] Trial 18 finished with value: 52.707281216337435 and parameters: {'output_chunk_length': 41, 'input_chunk_length': 88, 'hidden_size': 53, 'lstm_layers': 1, 'num_attention_heads': 3, 'hidden_continuous_size': 17, 'add_relative_index': True, 'dropout': 0.15000000000000002, 'batch_size': 55, 'lr': 0.0005200545152029244, 'forecast_horizon': 20}. Best is trial 18 with value: 52.707281216337435.\n"
     ]
    },
    {
     "name": "stdout",
     "output_type": "stream",
     "text": [
      "Iniciando a verificação das séries temporais para constância...\n",
      "\n",
      "Métricas de performance:\n",
      "                                     MSE        RMSE  ...         R2       SMAPE\n",
      "Temperature                     1.854010    1.361620  ...   0.450806   17.590505\n",
      "Precipitation_accumulated      72.212416    8.497789  ... -74.865967    1.606554\n",
      "Humidity                       24.517131    4.951478  ...   0.623299    4.115038\n",
      "Wind_Speed_kmh                  0.217444    0.466309  ...   0.369056  164.951053\n",
      "Soil_Moisture              173327.601248  416.326316  ...   0.768549    4.162707\n",
      "Soil_Temperature                1.226498    1.107474  ...   0.780206   19.439956\n",
      "Wind_Dir_Sin                    0.118714    0.344549  ...   0.269681  162.821127\n",
      "Wind_Dir_Cos                    0.139493    0.373487  ...   0.519018   46.971310\n",
      "\n",
      "[8 rows x 5 columns]\n",
      "O SMAPE desse fold foi 52.707281216337435\n",
      "Resultados do trial 18 salvos em optuna_iteration_metrics/trial_18.json\n",
      "Current value: 52.707281216337435, Current params: {'output_chunk_length': 41, 'input_chunk_length': 88, 'hidden_size': 53, 'lstm_layers': 1, 'num_attention_heads': 3, 'hidden_continuous_size': 17, 'add_relative_index': True, 'dropout': 0.15000000000000002, 'batch_size': 55, 'lr': 0.0005200545152029244, 'forecast_horizon': 20}\n",
      "Best value: 52.707281216337435, Best params: {'output_chunk_length': 41, 'input_chunk_length': 88, 'hidden_size': 53, 'lstm_layers': 1, 'num_attention_heads': 3, 'hidden_continuous_size': 17, 'add_relative_index': True, 'dropout': 0.15000000000000002, 'batch_size': 55, 'lr': 0.0005200545152029244, 'forecast_horizon': 20}\n",
      "\n",
      "Iniciando Trial 19\n",
      "Hiperparâmetros: {'output_chunk_length': 43, 'input_chunk_length': 92, 'hidden_size': 104, 'lstm_layers': 1, 'num_attention_heads': 3, 'hidden_continuous_size': 16, 'add_relative_index': True, 'dropout': 0.15000000000000002, 'batch_size': 57, 'lr': 0.00036314634027697067, 'forecast_horizon': 5}\n",
      "\n",
      "Treinando o modelo...\n",
      "Train set: 6647 samples\n",
      "Validation set: 1662 samples\n"
     ]
    },
    {
     "name": "stderr",
     "output_type": "stream",
     "text": [
      "GPU available: True (cuda), used: True\n",
      "TPU available: False, using: 0 TPU cores\n",
      "HPU available: False, using: 0 HPUs\n",
      "LOCAL_RANK: 0 - CUDA_VISIBLE_DEVICES: [0]\n",
      "\n",
      "   | Name                              | Type                             | Params | Mode \n",
      "------------------------------------------------------------------------------------------------\n",
      "0  | criterion                         | HuberLoss                        | 0      | train\n",
      "1  | train_criterion                   | HuberLoss                        | 0      | train\n",
      "2  | val_criterion                     | HuberLoss                        | 0      | train\n",
      "3  | train_metrics                     | MetricCollection                 | 0      | train\n",
      "4  | val_metrics                       | MetricCollection                 | 0      | train\n",
      "5  | input_embeddings                  | _MultiEmbedding                  | 0      | train\n",
      "6  | static_covariates_vsn             | _VariableSelectionNetwork        | 0      | train\n",
      "7  | encoder_vsn                       | _VariableSelectionNetwork        | 153 K  | train\n",
      "8  | decoder_vsn                       | _VariableSelectionNetwork        | 54.5 K | train\n",
      "9  | static_context_grn                | _GatedResidualNetwork            | 43.9 K | train\n",
      "10 | static_context_hidden_encoder_grn | _GatedResidualNetwork            | 43.9 K | train\n",
      "11 | static_context_cell_encoder_grn   | _GatedResidualNetwork            | 43.9 K | train\n",
      "12 | static_context_enrichment         | _GatedResidualNetwork            | 43.9 K | train\n",
      "13 | lstm_encoder                      | LSTM                             | 87.4 K | train\n",
      "14 | lstm_decoder                      | LSTM                             | 87.4 K | train\n",
      "15 | post_lstm_gan                     | _GateAddNorm                     | 22.0 K | train\n",
      "16 | static_enrichment_grn             | _GatedResidualNetwork            | 54.7 K | train\n",
      "17 | multihead_attn                    | _InterpretableMultiHeadAttention | 28.5 K | train\n",
      "18 | post_attn_gan                     | _GateAddNorm                     | 22.0 K | train\n",
      "19 | feed_forward_block                | _GatedResidualNetwork            | 43.9 K | train\n",
      "20 | pre_output_gan                    | _GateAddNorm                     | 22.0 K | train\n",
      "21 | output_layer                      | Linear                           | 840    | train\n",
      "------------------------------------------------------------------------------------------------\n",
      "752 K     Trainable params\n",
      "0         Non-trainable params\n",
      "752 K     Total params\n",
      "3.008     Total estimated model params size (MB)\n",
      "733       Modules in train mode\n",
      "0         Modules in eval mode\n"
     ]
    },
    {
     "data": {
      "application/vnd.jupyter.widget-view+json": {
       "model_id": "453112802dd444ada3330cf7c10b6829",
       "version_major": 2,
       "version_minor": 0
      },
      "text/plain": [
       "Sanity Checking: |          | 0/? [00:00<?, ?it/s]"
      ]
     },
     "metadata": {},
     "output_type": "display_data"
    },
    {
     "data": {
      "application/vnd.jupyter.widget-view+json": {
       "model_id": "649084afb4674e47b12a0cf3cb7e6ecb",
       "version_major": 2,
       "version_minor": 0
      },
      "text/plain": [
       "Training: |          | 0/? [00:00<?, ?it/s]"
      ]
     },
     "metadata": {},
     "output_type": "display_data"
    },
    {
     "data": {
      "application/vnd.jupyter.widget-view+json": {
       "model_id": "e12a57a9be2047818298011b870f5d52",
       "version_major": 2,
       "version_minor": 0
      },
      "text/plain": [
       "Validation: |          | 0/? [00:00<?, ?it/s]"
      ]
     },
     "metadata": {},
     "output_type": "display_data"
    },
    {
     "name": "stderr",
     "output_type": "stream",
     "text": [
      "[I 2025-05-15 14:55:00,899] Trial 19 pruned. Trial was pruned at epoch 0.\n",
      "GPU available: True (cuda), used: True\n",
      "TPU available: False, using: 0 TPU cores\n",
      "HPU available: False, using: 0 HPUs\n",
      "LOCAL_RANK: 0 - CUDA_VISIBLE_DEVICES: [0]\n"
     ]
    },
    {
     "name": "stdout",
     "output_type": "stream",
     "text": [
      "Current value: 0.04038660792016054, Current params: {'output_chunk_length': 43, 'input_chunk_length': 92, 'hidden_size': 104, 'lstm_layers': 1, 'num_attention_heads': 3, 'hidden_continuous_size': 16, 'add_relative_index': True, 'dropout': 0.15000000000000002, 'batch_size': 57, 'lr': 0.00036314634027697067, 'forecast_horizon': 5}\n",
      "Best value: 52.707281216337435, Best params: {'output_chunk_length': 41, 'input_chunk_length': 88, 'hidden_size': 53, 'lstm_layers': 1, 'num_attention_heads': 3, 'hidden_continuous_size': 17, 'add_relative_index': True, 'dropout': 0.15000000000000002, 'batch_size': 55, 'lr': 0.0005200545152029244, 'forecast_horizon': 20}\n",
      "\n",
      "Iniciando Trial 20\n",
      "Hiperparâmetros: {'output_chunk_length': 37, 'input_chunk_length': 89, 'hidden_size': 185, 'lstm_layers': 2, 'num_attention_heads': 3, 'hidden_continuous_size': 18, 'add_relative_index': True, 'dropout': 0.25, 'batch_size': 55, 'lr': 0.0001153762792140927, 'forecast_horizon': 21}\n",
      "\n",
      "Treinando o modelo...\n",
      "Train set: 6647 samples\n",
      "Validation set: 1662 samples\n"
     ]
    },
    {
     "name": "stderr",
     "output_type": "stream",
     "text": [
      "\n",
      "   | Name                              | Type                             | Params | Mode \n",
      "------------------------------------------------------------------------------------------------\n",
      "0  | criterion                         | HuberLoss                        | 0      | train\n",
      "1  | train_criterion                   | HuberLoss                        | 0      | train\n",
      "2  | val_criterion                     | HuberLoss                        | 0      | train\n",
      "3  | train_metrics                     | MetricCollection                 | 0      | train\n",
      "4  | val_metrics                       | MetricCollection                 | 0      | train\n",
      "5  | input_embeddings                  | _MultiEmbedding                  | 0      | train\n",
      "6  | static_covariates_vsn             | _VariableSelectionNetwork        | 0      | train\n",
      "7  | encoder_vsn                       | _VariableSelectionNetwork        | 274 K  | train\n",
      "8  | decoder_vsn                       | _VariableSelectionNetwork        | 100 K  | train\n",
      "9  | static_context_grn                | _GatedResidualNetwork            | 138 K  | train\n",
      "10 | static_context_hidden_encoder_grn | _GatedResidualNetwork            | 138 K  | train\n",
      "11 | static_context_cell_encoder_grn   | _GatedResidualNetwork            | 138 K  | train\n",
      "12 | static_context_enrichment         | _GatedResidualNetwork            | 138 K  | train\n",
      "13 | lstm_encoder                      | LSTM                             | 550 K  | train\n",
      "14 | lstm_decoder                      | LSTM                             | 550 K  | train\n",
      "15 | post_lstm_gan                     | _GateAddNorm                     | 69.2 K | train\n",
      "16 | static_enrichment_grn             | _GatedResidualNetwork            | 172 K  | train\n",
      "17 | multihead_attn                    | _InterpretableMultiHeadAttention | 90.7 K | train\n",
      "18 | post_attn_gan                     | _GateAddNorm                     | 69.2 K | train\n",
      "19 | feed_forward_block                | _GatedResidualNetwork            | 138 K  | train\n",
      "20 | pre_output_gan                    | _GateAddNorm                     | 69.2 K | train\n",
      "21 | output_layer                      | Linear                           | 1.5 K  | train\n",
      "------------------------------------------------------------------------------------------------\n",
      "2.6 M     Trainable params\n",
      "0         Non-trainable params\n",
      "2.6 M     Total params\n",
      "10.551    Total estimated model params size (MB)\n",
      "733       Modules in train mode\n",
      "0         Modules in eval mode\n"
     ]
    },
    {
     "data": {
      "application/vnd.jupyter.widget-view+json": {
       "model_id": "16695ba6a34e40fa83ede2de56df9809",
       "version_major": 2,
       "version_minor": 0
      },
      "text/plain": [
       "Sanity Checking: |          | 0/? [00:00<?, ?it/s]"
      ]
     },
     "metadata": {},
     "output_type": "display_data"
    },
    {
     "data": {
      "application/vnd.jupyter.widget-view+json": {
       "model_id": "7bed59d085b14a519605e62131d48faf",
       "version_major": 2,
       "version_minor": 0
      },
      "text/plain": [
       "Training: |          | 0/? [00:00<?, ?it/s]"
      ]
     },
     "metadata": {},
     "output_type": "display_data"
    },
    {
     "data": {
      "application/vnd.jupyter.widget-view+json": {
       "model_id": "dc74e4b868f648e2850f7557fed75d31",
       "version_major": 2,
       "version_minor": 0
      },
      "text/plain": [
       "Validation: |          | 0/? [00:00<?, ?it/s]"
      ]
     },
     "metadata": {},
     "output_type": "display_data"
    },
    {
     "name": "stderr",
     "output_type": "stream",
     "text": [
      "[I 2025-05-15 14:57:07,068] Trial 20 pruned. Trial was pruned at epoch 0.\n",
      "GPU available: True (cuda), used: True\n",
      "TPU available: False, using: 0 TPU cores\n",
      "HPU available: False, using: 0 HPUs\n",
      "LOCAL_RANK: 0 - CUDA_VISIBLE_DEVICES: [0]\n",
      "\n",
      "   | Name                              | Type                             | Params | Mode \n",
      "------------------------------------------------------------------------------------------------\n",
      "0  | criterion                         | HuberLoss                        | 0      | train\n",
      "1  | train_criterion                   | HuberLoss                        | 0      | train\n",
      "2  | val_criterion                     | HuberLoss                        | 0      | train\n",
      "3  | train_metrics                     | MetricCollection                 | 0      | train\n",
      "4  | val_metrics                       | MetricCollection                 | 0      | train\n",
      "5  | input_embeddings                  | _MultiEmbedding                  | 0      | train\n",
      "6  | static_covariates_vsn             | _VariableSelectionNetwork        | 0      | train\n",
      "7  | encoder_vsn                       | _VariableSelectionNetwork        | 162 K  | train\n",
      "8  | decoder_vsn                       | _VariableSelectionNetwork        | 56.0 K | train\n",
      "9  | static_context_grn                | _GatedResidualNetwork            | 14.3 K | train\n",
      "10 | static_context_hidden_encoder_grn | _GatedResidualNetwork            | 14.3 K | train\n",
      "11 | static_context_cell_encoder_grn   | _GatedResidualNetwork            | 14.3 K | train\n",
      "12 | static_context_enrichment         | _GatedResidualNetwork            | 14.3 K | train\n",
      "13 | lstm_encoder                      | LSTM                             | 28.3 K | train\n",
      "14 | lstm_decoder                      | LSTM                             | 28.3 K | train\n",
      "15 | post_lstm_gan                     | _GateAddNorm                     | 7.2 K  | train\n",
      "16 | static_enrichment_grn             | _GatedResidualNetwork            | 17.8 K | train\n",
      "17 | multihead_attn                    | _InterpretableMultiHeadAttention | 10.4 K | train\n",
      "18 | post_attn_gan                     | _GateAddNorm                     | 7.2 K  | train\n",
      "19 | feed_forward_block                | _GatedResidualNetwork            | 14.3 K | train\n",
      "20 | pre_output_gan                    | _GateAddNorm                     | 7.2 K  | train\n",
      "21 | output_layer                      | Linear                           | 480    | train\n",
      "------------------------------------------------------------------------------------------------\n",
      "395 K     Trainable params\n",
      "0         Non-trainable params\n",
      "395 K     Total params\n",
      "1.584     Total estimated model params size (MB)\n",
      "731       Modules in train mode\n",
      "0         Modules in eval mode\n"
     ]
    },
    {
     "name": "stdout",
     "output_type": "stream",
     "text": [
      "Current value: 0.05516197482345975, Current params: {'output_chunk_length': 37, 'input_chunk_length': 89, 'hidden_size': 185, 'lstm_layers': 2, 'num_attention_heads': 3, 'hidden_continuous_size': 18, 'add_relative_index': True, 'dropout': 0.25, 'batch_size': 55, 'lr': 0.0001153762792140927, 'forecast_horizon': 21}\n",
      "Best value: 52.707281216337435, Best params: {'output_chunk_length': 41, 'input_chunk_length': 88, 'hidden_size': 53, 'lstm_layers': 1, 'num_attention_heads': 3, 'hidden_continuous_size': 17, 'add_relative_index': True, 'dropout': 0.15000000000000002, 'batch_size': 55, 'lr': 0.0005200545152029244, 'forecast_horizon': 20}\n",
      "\n",
      "Iniciando Trial 21\n",
      "Hiperparâmetros: {'output_chunk_length': 19, 'input_chunk_length': 56, 'hidden_size': 59, 'lstm_layers': 1, 'num_attention_heads': 2, 'hidden_continuous_size': 25, 'add_relative_index': True, 'dropout': 0.1, 'batch_size': 52, 'lr': 0.000833903657174145, 'forecast_horizon': 17}\n",
      "\n",
      "Treinando o modelo...\n",
      "Train set: 6647 samples\n",
      "Validation set: 1662 samples\n"
     ]
    },
    {
     "data": {
      "application/vnd.jupyter.widget-view+json": {
       "model_id": "3c7db129134b4cb7ab329fc98a411fb0",
       "version_major": 2,
       "version_minor": 0
      },
      "text/plain": [
       "Sanity Checking: |          | 0/? [00:00<?, ?it/s]"
      ]
     },
     "metadata": {},
     "output_type": "display_data"
    },
    {
     "data": {
      "application/vnd.jupyter.widget-view+json": {
       "model_id": "42c3a39ceda943f5863cbf01f7217945",
       "version_major": 2,
       "version_minor": 0
      },
      "text/plain": [
       "Training: |          | 0/? [00:00<?, ?it/s]"
      ]
     },
     "metadata": {},
     "output_type": "display_data"
    },
    {
     "data": {
      "application/vnd.jupyter.widget-view+json": {
       "model_id": "4814e81a40a14d50976e89db9b3ee3c6",
       "version_major": 2,
       "version_minor": 0
      },
      "text/plain": [
       "Validation: |          | 0/? [00:00<?, ?it/s]"
      ]
     },
     "metadata": {},
     "output_type": "display_data"
    },
    {
     "name": "stderr",
     "output_type": "stream",
     "text": [
      "[I 2025-05-15 14:57:35,955] Trial 21 pruned. Trial was pruned at epoch 0.\n"
     ]
    },
    {
     "name": "stdout",
     "output_type": "stream",
     "text": [
      "Current value: 0.04097649411642365, Current params: {'output_chunk_length': 19, 'input_chunk_length': 56, 'hidden_size': 59, 'lstm_layers': 1, 'num_attention_heads': 2, 'hidden_continuous_size': 25, 'add_relative_index': True, 'dropout': 0.1, 'batch_size': 52, 'lr': 0.000833903657174145, 'forecast_horizon': 17}\n",
      "Best value: 52.707281216337435, Best params: {'output_chunk_length': 41, 'input_chunk_length': 88, 'hidden_size': 53, 'lstm_layers': 1, 'num_attention_heads': 3, 'hidden_continuous_size': 17, 'add_relative_index': True, 'dropout': 0.15000000000000002, 'batch_size': 55, 'lr': 0.0005200545152029244, 'forecast_horizon': 20}\n",
      "\n",
      "Iniciando Trial 22\n",
      "Hiperparâmetros: {'output_chunk_length': 30, 'input_chunk_length': 73, 'hidden_size': 67, 'lstm_layers': 1, 'num_attention_heads': 3, 'hidden_continuous_size': 21, 'add_relative_index': True, 'dropout': 0.2, 'batch_size': 46, 'lr': 0.004082506769628191, 'forecast_horizon': 21}\n",
      "\n",
      "Treinando o modelo...\n",
      "Train set: 6647 samples\n",
      "Validation set: 1662 samples\n"
     ]
    },
    {
     "name": "stderr",
     "output_type": "stream",
     "text": [
      "GPU available: True (cuda), used: True\n",
      "TPU available: False, using: 0 TPU cores\n",
      "HPU available: False, using: 0 HPUs\n",
      "LOCAL_RANK: 0 - CUDA_VISIBLE_DEVICES: [0]\n",
      "\n",
      "   | Name                              | Type                             | Params | Mode \n",
      "------------------------------------------------------------------------------------------------\n",
      "0  | criterion                         | HuberLoss                        | 0      | train\n",
      "1  | train_criterion                   | HuberLoss                        | 0      | train\n",
      "2  | val_criterion                     | HuberLoss                        | 0      | train\n",
      "3  | train_metrics                     | MetricCollection                 | 0      | train\n",
      "4  | val_metrics                       | MetricCollection                 | 0      | train\n",
      "5  | input_embeddings                  | _MultiEmbedding                  | 0      | train\n",
      "6  | static_covariates_vsn             | _VariableSelectionNetwork        | 0      | train\n",
      "7  | encoder_vsn                       | _VariableSelectionNetwork        | 145 K  | train\n",
      "8  | decoder_vsn                       | _VariableSelectionNetwork        | 50.5 K | train\n",
      "9  | static_context_grn                | _GatedResidualNetwork            | 18.4 K | train\n",
      "10 | static_context_hidden_encoder_grn | _GatedResidualNetwork            | 18.4 K | train\n",
      "11 | static_context_cell_encoder_grn   | _GatedResidualNetwork            | 18.4 K | train\n",
      "12 | static_context_enrichment         | _GatedResidualNetwork            | 18.4 K | train\n",
      "13 | lstm_encoder                      | LSTM                             | 36.4 K | train\n",
      "14 | lstm_decoder                      | LSTM                             | 36.4 K | train\n",
      "15 | post_lstm_gan                     | _GateAddNorm                     | 9.2 K  | train\n",
      "16 | static_enrichment_grn             | _GatedResidualNetwork            | 22.8 K | train\n",
      "17 | multihead_attn                    | _InterpretableMultiHeadAttention | 11.9 K | train\n",
      "18 | post_attn_gan                     | _GateAddNorm                     | 9.2 K  | train\n",
      "19 | feed_forward_block                | _GatedResidualNetwork            | 18.4 K | train\n",
      "20 | pre_output_gan                    | _GateAddNorm                     | 9.2 K  | train\n",
      "21 | output_layer                      | Linear                           | 544    | train\n",
      "------------------------------------------------------------------------------------------------\n",
      "423 K     Trainable params\n",
      "0         Non-trainable params\n",
      "423 K     Total params\n",
      "1.694     Total estimated model params size (MB)\n",
      "733       Modules in train mode\n",
      "0         Modules in eval mode\n"
     ]
    },
    {
     "data": {
      "application/vnd.jupyter.widget-view+json": {
       "model_id": "eb2c088cc7d44c21987cccb4c76d5a05",
       "version_major": 2,
       "version_minor": 0
      },
      "text/plain": [
       "Sanity Checking: |          | 0/? [00:00<?, ?it/s]"
      ]
     },
     "metadata": {},
     "output_type": "display_data"
    },
    {
     "data": {
      "application/vnd.jupyter.widget-view+json": {
       "model_id": "a09a50e1f64d4e268dcac36a28068b36",
       "version_major": 2,
       "version_minor": 0
      },
      "text/plain": [
       "Training: |          | 0/? [00:00<?, ?it/s]"
      ]
     },
     "metadata": {},
     "output_type": "display_data"
    },
    {
     "data": {
      "application/vnd.jupyter.widget-view+json": {
       "model_id": "17932b7c568342a4997f15396f937e05",
       "version_major": 2,
       "version_minor": 0
      },
      "text/plain": [
       "Validation: |          | 0/? [00:00<?, ?it/s]"
      ]
     },
     "metadata": {},
     "output_type": "display_data"
    },
    {
     "name": "stderr",
     "output_type": "stream",
     "text": [
      "Metric val_loss improved. New best score: 0.028\n"
     ]
    },
    {
     "data": {
      "application/vnd.jupyter.widget-view+json": {
       "model_id": "2958bbbe9f65495a8c4236eb4d09ccd0",
       "version_major": 2,
       "version_minor": 0
      },
      "text/plain": [
       "Validation: |          | 0/? [00:00<?, ?it/s]"
      ]
     },
     "metadata": {},
     "output_type": "display_data"
    },
    {
     "data": {
      "application/vnd.jupyter.widget-view+json": {
       "model_id": "869c5798fd3844d5836f241bedebb74a",
       "version_major": 2,
       "version_minor": 0
      },
      "text/plain": [
       "Validation: |          | 0/? [00:00<?, ?it/s]"
      ]
     },
     "metadata": {},
     "output_type": "display_data"
    },
    {
     "data": {
      "application/vnd.jupyter.widget-view+json": {
       "model_id": "79303bdff21a46e78e3b0f24a4ceca7a",
       "version_major": 2,
       "version_minor": 0
      },
      "text/plain": [
       "Validation: |          | 0/? [00:00<?, ?it/s]"
      ]
     },
     "metadata": {},
     "output_type": "display_data"
    },
    {
     "data": {
      "application/vnd.jupyter.widget-view+json": {
       "model_id": "3dd7c97e4a3643f6b76d5706f6ba2df2",
       "version_major": 2,
       "version_minor": 0
      },
      "text/plain": [
       "Validation: |          | 0/? [00:00<?, ?it/s]"
      ]
     },
     "metadata": {},
     "output_type": "display_data"
    },
    {
     "data": {
      "application/vnd.jupyter.widget-view+json": {
       "model_id": "1a83c55a528b49c29068a531b2be7692",
       "version_major": 2,
       "version_minor": 0
      },
      "text/plain": [
       "Validation: |          | 0/? [00:00<?, ?it/s]"
      ]
     },
     "metadata": {},
     "output_type": "display_data"
    },
    {
     "data": {
      "application/vnd.jupyter.widget-view+json": {
       "model_id": "c710870ab2e24006ac47b48dd68fc464",
       "version_major": 2,
       "version_minor": 0
      },
      "text/plain": [
       "Validation: |          | 0/? [00:00<?, ?it/s]"
      ]
     },
     "metadata": {},
     "output_type": "display_data"
    },
    {
     "data": {
      "application/vnd.jupyter.widget-view+json": {
       "model_id": "683af49e63cd46acabda871c282002bd",
       "version_major": 2,
       "version_minor": 0
      },
      "text/plain": [
       "Validation: |          | 0/? [00:00<?, ?it/s]"
      ]
     },
     "metadata": {},
     "output_type": "display_data"
    },
    {
     "data": {
      "application/vnd.jupyter.widget-view+json": {
       "model_id": "eb727b60b2d3401784f507c3a7d46f18",
       "version_major": 2,
       "version_minor": 0
      },
      "text/plain": [
       "Validation: |          | 0/? [00:00<?, ?it/s]"
      ]
     },
     "metadata": {},
     "output_type": "display_data"
    },
    {
     "data": {
      "application/vnd.jupyter.widget-view+json": {
       "model_id": "f0697500a7d94a0b8168caf5ae212406",
       "version_major": 2,
       "version_minor": 0
      },
      "text/plain": [
       "Validation: |          | 0/? [00:00<?, ?it/s]"
      ]
     },
     "metadata": {},
     "output_type": "display_data"
    },
    {
     "data": {
      "application/vnd.jupyter.widget-view+json": {
       "model_id": "ed6438ee0d8f4bd1a6c6bc1a784f55be",
       "version_major": 2,
       "version_minor": 0
      },
      "text/plain": [
       "Validation: |          | 0/? [00:00<?, ?it/s]"
      ]
     },
     "metadata": {},
     "output_type": "display_data"
    },
    {
     "name": "stderr",
     "output_type": "stream",
     "text": [
      "Monitored metric val_loss did not improve in the last 10 records. Best score: 0.028. Signaling Trainer to stop.\n",
      "GPU available: True (cuda), used: True\n",
      "TPU available: False, using: 0 TPU cores\n",
      "HPU available: False, using: 0 HPUs\n",
      "LOCAL_RANK: 0 - CUDA_VISIBLE_DEVICES: [0]\n"
     ]
    },
    {
     "name": "stdout",
     "output_type": "stream",
     "text": [
      "Modelo carregado do checkpoint para trial 22\n"
     ]
    },
    {
     "name": "stderr",
     "output_type": "stream",
     "text": [
      "/home/eduardo/Documentos/Water-Cycle-Neural-Network/venv/lib/python3.12/site-packages/pytorch_lightning/trainer/connectors/data_connector.py:425: The 'predict_dataloader' does not have many workers which may be a bottleneck. Consider increasing the value of the `num_workers` argument` to `num_workers=11` in the `DataLoader` to improve performance.\n"
     ]
    },
    {
     "data": {
      "application/vnd.jupyter.widget-view+json": {
       "model_id": "e201eda9cffc44468a5f4ff8499fe52c",
       "version_major": 2,
       "version_minor": 0
      },
      "text/plain": [
       "Predicting: |          | 0/? [00:00<?, ?it/s]"
      ]
     },
     "metadata": {},
     "output_type": "display_data"
    },
    {
     "name": "stderr",
     "output_type": "stream",
     "text": [
      "[I 2025-05-15 15:08:10,088] Trial 22 finished with value: 61.05383568625035 and parameters: {'output_chunk_length': 30, 'input_chunk_length': 73, 'hidden_size': 67, 'lstm_layers': 1, 'num_attention_heads': 3, 'hidden_continuous_size': 21, 'add_relative_index': True, 'dropout': 0.2, 'batch_size': 46, 'lr': 0.004082506769628191, 'forecast_horizon': 21}. Best is trial 18 with value: 52.707281216337435.\n"
     ]
    },
    {
     "name": "stdout",
     "output_type": "stream",
     "text": [
      "Iniciando a verificação das séries temporais para constância...\n",
      "\n",
      "Métricas de performance:\n",
      "                                     MSE        RMSE  ...          R2       SMAPE\n",
      "Temperature                     3.930100    1.982448  ...   -0.165210   27.897148\n",
      "Precipitation_accumulated     198.393218   14.085213  ... -207.399345    2.441737\n",
      "Humidity                       58.198560    7.628798  ...    0.105702    7.780638\n",
      "Wind_Speed_kmh                  0.291768    0.540155  ...    0.153992  175.248528\n",
      "Soil_Moisture              386669.288628  621.827378  ...    0.484007    6.662463\n",
      "Soil_Temperature                6.637618    2.576358  ...   -0.189997   43.886295\n",
      "Wind_Dir_Sin                    0.165992    0.407422  ...   -0.020492  170.130341\n",
      "Wind_Dir_Cos                    0.169519    0.411727  ...    0.415815   54.383536\n",
      "\n",
      "[8 rows x 5 columns]\n",
      "O SMAPE desse fold foi 61.05383568625035\n",
      "Resultados do trial 22 salvos em optuna_iteration_metrics/trial_22.json\n",
      "Current value: 61.05383568625035, Current params: {'output_chunk_length': 30, 'input_chunk_length': 73, 'hidden_size': 67, 'lstm_layers': 1, 'num_attention_heads': 3, 'hidden_continuous_size': 21, 'add_relative_index': True, 'dropout': 0.2, 'batch_size': 46, 'lr': 0.004082506769628191, 'forecast_horizon': 21}\n",
      "Best value: 52.707281216337435, Best params: {'output_chunk_length': 41, 'input_chunk_length': 88, 'hidden_size': 53, 'lstm_layers': 1, 'num_attention_heads': 3, 'hidden_continuous_size': 17, 'add_relative_index': True, 'dropout': 0.15000000000000002, 'batch_size': 55, 'lr': 0.0005200545152029244, 'forecast_horizon': 20}\n",
      "\n",
      "Iniciando Trial 23\n",
      "Hiperparâmetros: {'output_chunk_length': 18, 'input_chunk_length': 44, 'hidden_size': 32, 'lstm_layers': 1, 'num_attention_heads': 2, 'hidden_continuous_size': 29, 'add_relative_index': False, 'dropout': 0.15000000000000002, 'batch_size': 63, 'lr': 0.0007884421764284049, 'forecast_horizon': 15}\n",
      "\n",
      "Treinando o modelo...\n",
      "Train set: 6647 samples\n",
      "Validation set: 1662 samples\n"
     ]
    },
    {
     "name": "stderr",
     "output_type": "stream",
     "text": [
      "GPU available: True (cuda), used: True\n",
      "TPU available: False, using: 0 TPU cores\n",
      "HPU available: False, using: 0 HPUs\n",
      "LOCAL_RANK: 0 - CUDA_VISIBLE_DEVICES: [0]\n",
      "\n",
      "   | Name                              | Type                             | Params | Mode \n",
      "------------------------------------------------------------------------------------------------\n",
      "0  | criterion                         | HuberLoss                        | 0      | train\n",
      "1  | train_criterion                   | HuberLoss                        | 0      | train\n",
      "2  | val_criterion                     | HuberLoss                        | 0      | train\n",
      "3  | train_metrics                     | MetricCollection                 | 0      | train\n",
      "4  | val_metrics                       | MetricCollection                 | 0      | train\n",
      "5  | input_embeddings                  | _MultiEmbedding                  | 0      | train\n",
      "6  | static_covariates_vsn             | _VariableSelectionNetwork        | 0      | train\n",
      "7  | encoder_vsn                       | _VariableSelectionNetwork        | 134 K  | train\n",
      "8  | decoder_vsn                       | _VariableSelectionNetwork        | 42.4 K | train\n",
      "9  | static_context_grn                | _GatedResidualNetwork            | 4.3 K  | train\n",
      "10 | static_context_hidden_encoder_grn | _GatedResidualNetwork            | 4.3 K  | train\n",
      "11 | static_context_cell_encoder_grn   | _GatedResidualNetwork            | 4.3 K  | train\n",
      "12 | static_context_enrichment         | _GatedResidualNetwork            | 4.3 K  | train\n",
      "13 | lstm_encoder                      | LSTM                             | 8.4 K  | train\n",
      "14 | lstm_decoder                      | LSTM                             | 8.4 K  | train\n",
      "15 | post_lstm_gan                     | _GateAddNorm                     | 2.2 K  | train\n",
      "16 | static_enrichment_grn             | _GatedResidualNetwork            | 5.3 K  | train\n",
      "17 | multihead_attn                    | _InterpretableMultiHeadAttention | 3.2 K  | train\n",
      "18 | post_attn_gan                     | _GateAddNorm                     | 2.2 K  | train\n",
      "19 | feed_forward_block                | _GatedResidualNetwork            | 4.3 K  | train\n",
      "20 | pre_output_gan                    | _GateAddNorm                     | 2.2 K  | train\n",
      "21 | output_layer                      | Linear                           | 264    | train\n",
      "------------------------------------------------------------------------------------------------\n",
      "230 K     Trainable params\n",
      "0         Non-trainable params\n",
      "230 K     Total params\n",
      "0.921     Total estimated model params size (MB)\n",
      "702       Modules in train mode\n",
      "0         Modules in eval mode\n"
     ]
    },
    {
     "data": {
      "application/vnd.jupyter.widget-view+json": {
       "model_id": "a7115d7bc6b342a88c01b379f9f4c2da",
       "version_major": 2,
       "version_minor": 0
      },
      "text/plain": [
       "Sanity Checking: |          | 0/? [00:00<?, ?it/s]"
      ]
     },
     "metadata": {},
     "output_type": "display_data"
    },
    {
     "data": {
      "application/vnd.jupyter.widget-view+json": {
       "model_id": "a387544a575e487dba6587a2324c1f7a",
       "version_major": 2,
       "version_minor": 0
      },
      "text/plain": [
       "Training: |          | 0/? [00:00<?, ?it/s]"
      ]
     },
     "metadata": {},
     "output_type": "display_data"
    },
    {
     "data": {
      "application/vnd.jupyter.widget-view+json": {
       "model_id": "50790a31d3544728b051d911318a8d9f",
       "version_major": 2,
       "version_minor": 0
      },
      "text/plain": [
       "Validation: |          | 0/? [00:00<?, ?it/s]"
      ]
     },
     "metadata": {},
     "output_type": "display_data"
    },
    {
     "name": "stderr",
     "output_type": "stream",
     "text": [
      "[I 2025-05-15 15:08:28,947] Trial 23 pruned. Trial was pruned at epoch 0.\n"
     ]
    },
    {
     "name": "stdout",
     "output_type": "stream",
     "text": [
      "Current value: 0.044265155788875826, Current params: {'output_chunk_length': 18, 'input_chunk_length': 44, 'hidden_size': 32, 'lstm_layers': 1, 'num_attention_heads': 2, 'hidden_continuous_size': 29, 'add_relative_index': False, 'dropout': 0.15000000000000002, 'batch_size': 63, 'lr': 0.0007884421764284049, 'forecast_horizon': 15}\n",
      "Best value: 52.707281216337435, Best params: {'output_chunk_length': 41, 'input_chunk_length': 88, 'hidden_size': 53, 'lstm_layers': 1, 'num_attention_heads': 3, 'hidden_continuous_size': 17, 'add_relative_index': True, 'dropout': 0.15000000000000002, 'batch_size': 55, 'lr': 0.0005200545152029244, 'forecast_horizon': 20}\n",
      "\n",
      "Iniciando Trial 24\n",
      "Hiperparâmetros: {'output_chunk_length': 27, 'input_chunk_length': 82, 'hidden_size': 75, 'lstm_layers': 1, 'num_attention_heads': 2, 'hidden_continuous_size': 19, 'add_relative_index': True, 'dropout': 0.1, 'batch_size': 59, 'lr': 0.0024385914548862193, 'forecast_horizon': 20}\n",
      "\n",
      "Treinando o modelo...\n",
      "Train set: 6647 samples\n",
      "Validation set: 1662 samples\n"
     ]
    },
    {
     "name": "stderr",
     "output_type": "stream",
     "text": [
      "GPU available: True (cuda), used: True\n",
      "TPU available: False, using: 0 TPU cores\n",
      "HPU available: False, using: 0 HPUs\n",
      "LOCAL_RANK: 0 - CUDA_VISIBLE_DEVICES: [0]\n",
      "\n",
      "   | Name                              | Type                             | Params | Mode \n",
      "------------------------------------------------------------------------------------------------\n",
      "0  | criterion                         | HuberLoss                        | 0      | train\n",
      "1  | train_criterion                   | HuberLoss                        | 0      | train\n",
      "2  | val_criterion                     | HuberLoss                        | 0      | train\n",
      "3  | train_metrics                     | MetricCollection                 | 0      | train\n",
      "4  | val_metrics                       | MetricCollection                 | 0      | train\n",
      "5  | input_embeddings                  | _MultiEmbedding                  | 0      | train\n",
      "6  | static_covariates_vsn             | _VariableSelectionNetwork        | 0      | train\n",
      "7  | encoder_vsn                       | _VariableSelectionNetwork        | 141 K  | train\n",
      "8  | decoder_vsn                       | _VariableSelectionNetwork        | 49.5 K | train\n",
      "9  | static_context_grn                | _GatedResidualNetwork            | 22.9 K | train\n",
      "10 | static_context_hidden_encoder_grn | _GatedResidualNetwork            | 22.9 K | train\n",
      "11 | static_context_cell_encoder_grn   | _GatedResidualNetwork            | 22.9 K | train\n",
      "12 | static_context_enrichment         | _GatedResidualNetwork            | 22.9 K | train\n",
      "13 | lstm_encoder                      | LSTM                             | 45.6 K | train\n",
      "14 | lstm_decoder                      | LSTM                             | 45.6 K | train\n",
      "15 | post_lstm_gan                     | _GateAddNorm                     | 11.6 K | train\n",
      "16 | static_enrichment_grn             | _GatedResidualNetwork            | 28.6 K | train\n",
      "17 | multihead_attn                    | _InterpretableMultiHeadAttention | 16.8 K | train\n",
      "18 | post_attn_gan                     | _GateAddNorm                     | 11.6 K | train\n",
      "19 | feed_forward_block                | _GatedResidualNetwork            | 22.9 K | train\n",
      "20 | pre_output_gan                    | _GateAddNorm                     | 11.6 K | train\n",
      "21 | output_layer                      | Linear                           | 608    | train\n",
      "------------------------------------------------------------------------------------------------\n",
      "477 K     Trainable params\n",
      "0         Non-trainable params\n",
      "477 K     Total params\n",
      "1.911     Total estimated model params size (MB)\n",
      "731       Modules in train mode\n",
      "0         Modules in eval mode\n"
     ]
    },
    {
     "data": {
      "application/vnd.jupyter.widget-view+json": {
       "model_id": "0409333b48654ef288bfa71090706b1e",
       "version_major": 2,
       "version_minor": 0
      },
      "text/plain": [
       "Sanity Checking: |          | 0/? [00:00<?, ?it/s]"
      ]
     },
     "metadata": {},
     "output_type": "display_data"
    },
    {
     "data": {
      "application/vnd.jupyter.widget-view+json": {
       "model_id": "6392d07d7d434abeb169c532f62f28cb",
       "version_major": 2,
       "version_minor": 0
      },
      "text/plain": [
       "Training: |          | 0/? [00:00<?, ?it/s]"
      ]
     },
     "metadata": {},
     "output_type": "display_data"
    },
    {
     "data": {
      "application/vnd.jupyter.widget-view+json": {
       "model_id": "e4f197daa2dd48ee8630ced0c9b81c9f",
       "version_major": 2,
       "version_minor": 0
      },
      "text/plain": [
       "Validation: |          | 0/? [00:00<?, ?it/s]"
      ]
     },
     "metadata": {},
     "output_type": "display_data"
    },
    {
     "name": "stderr",
     "output_type": "stream",
     "text": [
      "[I 2025-05-15 15:10:13,667] Trial 24 pruned. Trial was pruned at epoch 0.\n",
      "GPU available: True (cuda), used: True\n",
      "TPU available: False, using: 0 TPU cores\n",
      "HPU available: False, using: 0 HPUs\n",
      "LOCAL_RANK: 0 - CUDA_VISIBLE_DEVICES: [0]\n"
     ]
    },
    {
     "name": "stdout",
     "output_type": "stream",
     "text": [
      "Current value: 0.035636115296191775, Current params: {'output_chunk_length': 27, 'input_chunk_length': 82, 'hidden_size': 75, 'lstm_layers': 1, 'num_attention_heads': 2, 'hidden_continuous_size': 19, 'add_relative_index': True, 'dropout': 0.1, 'batch_size': 59, 'lr': 0.0024385914548862193, 'forecast_horizon': 20}\n",
      "Best value: 52.707281216337435, Best params: {'output_chunk_length': 41, 'input_chunk_length': 88, 'hidden_size': 53, 'lstm_layers': 1, 'num_attention_heads': 3, 'hidden_continuous_size': 17, 'add_relative_index': True, 'dropout': 0.15000000000000002, 'batch_size': 55, 'lr': 0.0005200545152029244, 'forecast_horizon': 20}\n",
      "\n",
      "Iniciando Trial 25\n",
      "Hiperparâmetros: {'output_chunk_length': 39, 'input_chunk_length': 96, 'hidden_size': 107, 'lstm_layers': 1, 'num_attention_heads': 3, 'hidden_continuous_size': 11, 'add_relative_index': True, 'dropout': 0.05, 'batch_size': 32, 'lr': 0.0011334603943142518, 'forecast_horizon': 12}\n",
      "\n",
      "Treinando o modelo...\n",
      "Train set: 6647 samples\n",
      "Validation set: 1662 samples\n"
     ]
    },
    {
     "name": "stderr",
     "output_type": "stream",
     "text": [
      "\n",
      "   | Name                              | Type                             | Params | Mode \n",
      "------------------------------------------------------------------------------------------------\n",
      "0  | criterion                         | HuberLoss                        | 0      | train\n",
      "1  | train_criterion                   | HuberLoss                        | 0      | train\n",
      "2  | val_criterion                     | HuberLoss                        | 0      | train\n",
      "3  | train_metrics                     | MetricCollection                 | 0      | train\n",
      "4  | val_metrics                       | MetricCollection                 | 0      | train\n",
      "5  | input_embeddings                  | _MultiEmbedding                  | 0      | train\n",
      "6  | static_covariates_vsn             | _VariableSelectionNetwork        | 0      | train\n",
      "7  | encoder_vsn                       | _VariableSelectionNetwork        | 113 K  | train\n",
      "8  | decoder_vsn                       | _VariableSelectionNetwork        | 40.2 K | train\n",
      "9  | static_context_grn                | _GatedResidualNetwork            | 46.4 K | train\n",
      "10 | static_context_hidden_encoder_grn | _GatedResidualNetwork            | 46.4 K | train\n",
      "11 | static_context_cell_encoder_grn   | _GatedResidualNetwork            | 46.4 K | train\n",
      "12 | static_context_enrichment         | _GatedResidualNetwork            | 46.4 K | train\n",
      "13 | lstm_encoder                      | LSTM                             | 92.4 K | train\n",
      "14 | lstm_decoder                      | LSTM                             | 92.4 K | train\n",
      "15 | post_lstm_gan                     | _GateAddNorm                     | 23.3 K | train\n",
      "16 | static_enrichment_grn             | _GatedResidualNetwork            | 57.9 K | train\n",
      "17 | multihead_attn                    | _InterpretableMultiHeadAttention | 30.2 K | train\n",
      "18 | post_attn_gan                     | _GateAddNorm                     | 23.3 K | train\n",
      "19 | feed_forward_block                | _GatedResidualNetwork            | 46.4 K | train\n",
      "20 | pre_output_gan                    | _GateAddNorm                     | 23.3 K | train\n",
      "21 | output_layer                      | Linear                           | 864    | train\n",
      "------------------------------------------------------------------------------------------------\n",
      "729 K     Trainable params\n",
      "0         Non-trainable params\n",
      "729 K     Total params\n",
      "2.918     Total estimated model params size (MB)\n",
      "733       Modules in train mode\n",
      "0         Modules in eval mode\n"
     ]
    },
    {
     "data": {
      "application/vnd.jupyter.widget-view+json": {
       "model_id": "28522d5cdcc74175879bbaf54249ad6a",
       "version_major": 2,
       "version_minor": 0
      },
      "text/plain": [
       "Sanity Checking: |          | 0/? [00:00<?, ?it/s]"
      ]
     },
     "metadata": {},
     "output_type": "display_data"
    },
    {
     "data": {
      "application/vnd.jupyter.widget-view+json": {
       "model_id": "276e96ea8dd5441390b34b7aa2cf4705",
       "version_major": 2,
       "version_minor": 0
      },
      "text/plain": [
       "Training: |          | 0/? [00:00<?, ?it/s]"
      ]
     },
     "metadata": {},
     "output_type": "display_data"
    },
    {
     "data": {
      "application/vnd.jupyter.widget-view+json": {
       "model_id": "9f98a20209b54d66a26f12b01f6828ee",
       "version_major": 2,
       "version_minor": 0
      },
      "text/plain": [
       "Validation: |          | 0/? [00:00<?, ?it/s]"
      ]
     },
     "metadata": {},
     "output_type": "display_data"
    },
    {
     "name": "stderr",
     "output_type": "stream",
     "text": [
      "[I 2025-05-15 15:12:00,747] Trial 25 pruned. Trial was pruned at epoch 0.\n",
      "GPU available: True (cuda), used: True\n",
      "TPU available: False, using: 0 TPU cores\n",
      "HPU available: False, using: 0 HPUs\n",
      "LOCAL_RANK: 0 - CUDA_VISIBLE_DEVICES: [0]\n",
      "\n",
      "   | Name                              | Type                             | Params | Mode \n",
      "------------------------------------------------------------------------------------------------\n",
      "0  | criterion                         | HuberLoss                        | 0      | train\n",
      "1  | train_criterion                   | HuberLoss                        | 0      | train\n",
      "2  | val_criterion                     | HuberLoss                        | 0      | train\n",
      "3  | train_metrics                     | MetricCollection                 | 0      | train\n",
      "4  | val_metrics                       | MetricCollection                 | 0      | train\n",
      "5  | input_embeddings                  | _MultiEmbedding                  | 0      | train\n",
      "6  | static_covariates_vsn             | _VariableSelectionNetwork        | 0      | train\n",
      "7  | encoder_vsn                       | _VariableSelectionNetwork        | 111 K  | train\n",
      "8  | decoder_vsn                       | _VariableSelectionNetwork        | 35.2 K | train\n",
      "9  | static_context_grn                | _GatedResidualNetwork            | 6.3 K  | train\n",
      "10 | static_context_hidden_encoder_grn | _GatedResidualNetwork            | 6.3 K  | train\n",
      "11 | static_context_cell_encoder_grn   | _GatedResidualNetwork            | 6.3 K  | train\n",
      "12 | static_context_enrichment         | _GatedResidualNetwork            | 6.3 K  | train\n",
      "13 | lstm_encoder                      | LSTM                             | 12.5 K | train\n",
      "14 | lstm_decoder                      | LSTM                             | 12.5 K | train\n",
      "15 | post_lstm_gan                     | _GateAddNorm                     | 3.2 K  | train\n",
      "16 | static_enrichment_grn             | _GatedResidualNetwork            | 7.8 K  | train\n",
      "17 | multihead_attn                    | _InterpretableMultiHeadAttention | 4.5 K  | train\n",
      "18 | post_attn_gan                     | _GateAddNorm                     | 3.2 K  | train\n",
      "19 | feed_forward_block                | _GatedResidualNetwork            | 6.3 K  | train\n",
      "20 | pre_output_gan                    | _GateAddNorm                     | 3.2 K  | train\n",
      "21 | output_layer                      | Linear                           | 320    | train\n",
      "------------------------------------------------------------------------------------------------\n",
      "225 K     Trainable params\n",
      "0         Non-trainable params\n",
      "225 K     Total params\n",
      "0.902     Total estimated model params size (MB)\n",
      "702       Modules in train mode\n",
      "0         Modules in eval mode\n"
     ]
    },
    {
     "name": "stdout",
     "output_type": "stream",
     "text": [
      "Current value: 0.03659448382323312, Current params: {'output_chunk_length': 39, 'input_chunk_length': 96, 'hidden_size': 107, 'lstm_layers': 1, 'num_attention_heads': 3, 'hidden_continuous_size': 11, 'add_relative_index': True, 'dropout': 0.05, 'batch_size': 32, 'lr': 0.0011334603943142518, 'forecast_horizon': 12}\n",
      "Best value: 52.707281216337435, Best params: {'output_chunk_length': 41, 'input_chunk_length': 88, 'hidden_size': 53, 'lstm_layers': 1, 'num_attention_heads': 3, 'hidden_continuous_size': 17, 'add_relative_index': True, 'dropout': 0.15000000000000002, 'batch_size': 55, 'lr': 0.0005200545152029244, 'forecast_horizon': 20}\n",
      "\n",
      "Iniciando Trial 26\n",
      "Hiperparâmetros: {'output_chunk_length': 48, 'input_chunk_length': 76, 'hidden_size': 39, 'lstm_layers': 1, 'num_attention_heads': 2, 'hidden_continuous_size': 23, 'add_relative_index': False, 'dropout': 0.0, 'batch_size': 54, 'lr': 0.0004278089138172256, 'forecast_horizon': 16}\n",
      "\n",
      "Treinando o modelo...\n",
      "Train set: 6647 samples\n",
      "Validation set: 1662 samples\n"
     ]
    },
    {
     "data": {
      "application/vnd.jupyter.widget-view+json": {
       "model_id": "733e320e58404e95a81f2d3f69f799d4",
       "version_major": 2,
       "version_minor": 0
      },
      "text/plain": [
       "Sanity Checking: |          | 0/? [00:00<?, ?it/s]"
      ]
     },
     "metadata": {},
     "output_type": "display_data"
    },
    {
     "data": {
      "application/vnd.jupyter.widget-view+json": {
       "model_id": "c9b7679da75a49faa1fa4ea116cf52a3",
       "version_major": 2,
       "version_minor": 0
      },
      "text/plain": [
       "Training: |          | 0/? [00:00<?, ?it/s]"
      ]
     },
     "metadata": {},
     "output_type": "display_data"
    },
    {
     "data": {
      "application/vnd.jupyter.widget-view+json": {
       "model_id": "2c76e1dc9d224b5da8da3de9715536c0",
       "version_major": 2,
       "version_minor": 0
      },
      "text/plain": [
       "Validation: |          | 0/? [00:00<?, ?it/s]"
      ]
     },
     "metadata": {},
     "output_type": "display_data"
    },
    {
     "name": "stderr",
     "output_type": "stream",
     "text": [
      "[I 2025-05-15 15:12:34,915] Trial 26 pruned. Trial was pruned at epoch 0.\n",
      "GPU available: True (cuda), used: True\n",
      "TPU available: False, using: 0 TPU cores\n",
      "HPU available: False, using: 0 HPUs\n",
      "LOCAL_RANK: 0 - CUDA_VISIBLE_DEVICES: [0]\n"
     ]
    },
    {
     "name": "stdout",
     "output_type": "stream",
     "text": [
      "Current value: 0.04881606776914181, Current params: {'output_chunk_length': 48, 'input_chunk_length': 76, 'hidden_size': 39, 'lstm_layers': 1, 'num_attention_heads': 2, 'hidden_continuous_size': 23, 'add_relative_index': False, 'dropout': 0.0, 'batch_size': 54, 'lr': 0.0004278089138172256, 'forecast_horizon': 16}\n",
      "Best value: 52.707281216337435, Best params: {'output_chunk_length': 41, 'input_chunk_length': 88, 'hidden_size': 53, 'lstm_layers': 1, 'num_attention_heads': 3, 'hidden_continuous_size': 17, 'add_relative_index': True, 'dropout': 0.15000000000000002, 'batch_size': 55, 'lr': 0.0005200545152029244, 'forecast_horizon': 20}\n",
      "\n",
      "Iniciando Trial 27\n",
      "Hiperparâmetros: {'output_chunk_length': 33, 'input_chunk_length': 85, 'hidden_size': 87, 'lstm_layers': 1, 'num_attention_heads': 3, 'hidden_continuous_size': 17, 'add_relative_index': True, 'dropout': 0.15000000000000002, 'batch_size': 44, 'lr': 0.00020306342854698746, 'forecast_horizon': 22}\n",
      "\n",
      "Treinando o modelo...\n",
      "Train set: 6647 samples\n",
      "Validation set: 1662 samples\n"
     ]
    },
    {
     "name": "stderr",
     "output_type": "stream",
     "text": [
      "\n",
      "   | Name                              | Type                             | Params | Mode \n",
      "------------------------------------------------------------------------------------------------\n",
      "0  | criterion                         | HuberLoss                        | 0      | train\n",
      "1  | train_criterion                   | HuberLoss                        | 0      | train\n",
      "2  | val_criterion                     | HuberLoss                        | 0      | train\n",
      "3  | train_metrics                     | MetricCollection                 | 0      | train\n",
      "4  | val_metrics                       | MetricCollection                 | 0      | train\n",
      "5  | input_embeddings                  | _MultiEmbedding                  | 0      | train\n",
      "6  | static_covariates_vsn             | _VariableSelectionNetwork        | 0      | train\n",
      "7  | encoder_vsn                       | _VariableSelectionNetwork        | 141 K  | train\n",
      "8  | decoder_vsn                       | _VariableSelectionNetwork        | 49.8 K | train\n",
      "9  | static_context_grn                | _GatedResidualNetwork            | 30.8 K | train\n",
      "10 | static_context_hidden_encoder_grn | _GatedResidualNetwork            | 30.8 K | train\n",
      "11 | static_context_cell_encoder_grn   | _GatedResidualNetwork            | 30.8 K | train\n",
      "12 | static_context_enrichment         | _GatedResidualNetwork            | 30.8 K | train\n",
      "13 | lstm_encoder                      | LSTM                             | 61.2 K | train\n",
      "14 | lstm_decoder                      | LSTM                             | 61.2 K | train\n",
      "15 | post_lstm_gan                     | _GateAddNorm                     | 15.5 K | train\n",
      "16 | static_enrichment_grn             | _GatedResidualNetwork            | 38.4 K | train\n",
      "17 | multihead_attn                    | _InterpretableMultiHeadAttention | 20.4 K | train\n",
      "18 | post_attn_gan                     | _GateAddNorm                     | 15.5 K | train\n",
      "19 | feed_forward_block                | _GatedResidualNetwork            | 30.8 K | train\n",
      "20 | pre_output_gan                    | _GateAddNorm                     | 15.5 K | train\n",
      "21 | output_layer                      | Linear                           | 704    | train\n",
      "------------------------------------------------------------------------------------------------\n",
      "573 K     Trainable params\n",
      "0         Non-trainable params\n",
      "573 K     Total params\n",
      "2.295     Total estimated model params size (MB)\n",
      "733       Modules in train mode\n",
      "0         Modules in eval mode\n"
     ]
    },
    {
     "data": {
      "application/vnd.jupyter.widget-view+json": {
       "model_id": "07b7da6e0d4647559e29de6563f5df46",
       "version_major": 2,
       "version_minor": 0
      },
      "text/plain": [
       "Sanity Checking: |          | 0/? [00:00<?, ?it/s]"
      ]
     },
     "metadata": {},
     "output_type": "display_data"
    },
    {
     "data": {
      "application/vnd.jupyter.widget-view+json": {
       "model_id": "65ef4adb1ec64f4995aadcbe3754f96c",
       "version_major": 2,
       "version_minor": 0
      },
      "text/plain": [
       "Training: |          | 0/? [00:00<?, ?it/s]"
      ]
     },
     "metadata": {},
     "output_type": "display_data"
    },
    {
     "data": {
      "application/vnd.jupyter.widget-view+json": {
       "model_id": "9a61b34638b94dfabad6e41e5d5a1d0d",
       "version_major": 2,
       "version_minor": 0
      },
      "text/plain": [
       "Validation: |          | 0/? [00:00<?, ?it/s]"
      ]
     },
     "metadata": {},
     "output_type": "display_data"
    },
    {
     "name": "stderr",
     "output_type": "stream",
     "text": [
      "[I 2025-05-15 15:13:36,067] Trial 27 pruned. Trial was pruned at epoch 0.\n",
      "GPU available: True (cuda), used: True\n",
      "TPU available: False, using: 0 TPU cores\n",
      "HPU available: False, using: 0 HPUs\n",
      "LOCAL_RANK: 0 - CUDA_VISIBLE_DEVICES: [0]\n",
      "\n",
      "   | Name                              | Type                             | Params | Mode \n",
      "------------------------------------------------------------------------------------------------\n",
      "0  | criterion                         | HuberLoss                        | 0      | train\n",
      "1  | train_criterion                   | HuberLoss                        | 0      | train\n",
      "2  | val_criterion                     | HuberLoss                        | 0      | train\n",
      "3  | train_metrics                     | MetricCollection                 | 0      | train\n",
      "4  | val_metrics                       | MetricCollection                 | 0      | train\n",
      "5  | input_embeddings                  | _MultiEmbedding                  | 0      | train\n",
      "6  | static_covariates_vsn             | _VariableSelectionNetwork        | 0      | train\n",
      "7  | encoder_vsn                       | _VariableSelectionNetwork        | 104 K  | train\n",
      "8  | decoder_vsn                       | _VariableSelectionNetwork        | 33.3 K | train\n",
      "9  | static_context_grn                | _GatedResidualNetwork            | 8.7 K  | train\n",
      "10 | static_context_hidden_encoder_grn | _GatedResidualNetwork            | 8.7 K  | train\n",
      "11 | static_context_cell_encoder_grn   | _GatedResidualNetwork            | 8.7 K  | train\n",
      "12 | static_context_enrichment         | _GatedResidualNetwork            | 8.7 K  | train\n",
      "13 | lstm_encoder                      | LSTM                             | 17.3 K | train\n",
      "14 | lstm_decoder                      | LSTM                             | 17.3 K | train\n",
      "15 | post_lstm_gan                     | _GateAddNorm                     | 4.4 K  | train\n",
      "16 | static_enrichment_grn             | _GatedResidualNetwork            | 10.9 K | train\n",
      "17 | multihead_attn                    | _InterpretableMultiHeadAttention | 6.5 K  | train\n",
      "18 | post_attn_gan                     | _GateAddNorm                     | 4.4 K  | train\n",
      "19 | feed_forward_block                | _GatedResidualNetwork            | 8.7 K  | train\n",
      "20 | pre_output_gan                    | _GateAddNorm                     | 4.4 K  | train\n",
      "21 | output_layer                      | Linear                           | 376    | train\n",
      "------------------------------------------------------------------------------------------------\n",
      "246 K     Trainable params\n",
      "0         Non-trainable params\n",
      "246 K     Total params\n",
      "0.987     Total estimated model params size (MB)\n",
      "702       Modules in train mode\n",
      "0         Modules in eval mode\n"
     ]
    },
    {
     "name": "stdout",
     "output_type": "stream",
     "text": [
      "Current value: 0.044719622315653344, Current params: {'output_chunk_length': 33, 'input_chunk_length': 85, 'hidden_size': 87, 'lstm_layers': 1, 'num_attention_heads': 3, 'hidden_continuous_size': 17, 'add_relative_index': True, 'dropout': 0.15000000000000002, 'batch_size': 44, 'lr': 0.00020306342854698746, 'forecast_horizon': 22}\n",
      "Best value: 52.707281216337435, Best params: {'output_chunk_length': 41, 'input_chunk_length': 88, 'hidden_size': 53, 'lstm_layers': 1, 'num_attention_heads': 3, 'hidden_continuous_size': 17, 'add_relative_index': True, 'dropout': 0.15000000000000002, 'batch_size': 55, 'lr': 0.0005200545152029244, 'forecast_horizon': 20}\n",
      "\n",
      "Iniciando Trial 28\n",
      "Hiperparâmetros: {'output_chunk_length': 21, 'input_chunk_length': 68, 'hidden_size': 46, 'lstm_layers': 1, 'num_attention_heads': 2, 'hidden_continuous_size': 20, 'add_relative_index': False, 'dropout': 0.2, 'batch_size': 59, 'lr': 0.005724581820372491, 'forecast_horizon': 19}\n",
      "\n",
      "Treinando o modelo...\n",
      "Train set: 6647 samples\n",
      "Validation set: 1662 samples\n"
     ]
    },
    {
     "data": {
      "application/vnd.jupyter.widget-view+json": {
       "model_id": "506028e9f9714175a96f540c8aced3da",
       "version_major": 2,
       "version_minor": 0
      },
      "text/plain": [
       "Sanity Checking: |          | 0/? [00:00<?, ?it/s]"
      ]
     },
     "metadata": {},
     "output_type": "display_data"
    },
    {
     "data": {
      "application/vnd.jupyter.widget-view+json": {
       "model_id": "b519c9b42f01489c9e7cdf5694180746",
       "version_major": 2,
       "version_minor": 0
      },
      "text/plain": [
       "Training: |          | 0/? [00:00<?, ?it/s]"
      ]
     },
     "metadata": {},
     "output_type": "display_data"
    },
    {
     "data": {
      "application/vnd.jupyter.widget-view+json": {
       "model_id": "c8ffe22259c543b3bc0e29d14f00cf45",
       "version_major": 2,
       "version_minor": 0
      },
      "text/plain": [
       "Validation: |          | 0/? [00:00<?, ?it/s]"
      ]
     },
     "metadata": {},
     "output_type": "display_data"
    },
    {
     "name": "stderr",
     "output_type": "stream",
     "text": [
      "[I 2025-05-15 15:14:07,923] Trial 28 pruned. Trial was pruned at epoch 0.\n",
      "GPU available: True (cuda), used: True\n",
      "TPU available: False, using: 0 TPU cores\n",
      "HPU available: False, using: 0 HPUs\n",
      "LOCAL_RANK: 0 - CUDA_VISIBLE_DEVICES: [0]\n"
     ]
    },
    {
     "name": "stdout",
     "output_type": "stream",
     "text": [
      "Current value: 0.03569392980890246, Current params: {'output_chunk_length': 21, 'input_chunk_length': 68, 'hidden_size': 46, 'lstm_layers': 1, 'num_attention_heads': 2, 'hidden_continuous_size': 20, 'add_relative_index': False, 'dropout': 0.2, 'batch_size': 59, 'lr': 0.005724581820372491, 'forecast_horizon': 19}\n",
      "Best value: 52.707281216337435, Best params: {'output_chunk_length': 41, 'input_chunk_length': 88, 'hidden_size': 53, 'lstm_layers': 1, 'num_attention_heads': 3, 'hidden_continuous_size': 17, 'add_relative_index': True, 'dropout': 0.15000000000000002, 'batch_size': 55, 'lr': 0.0005200545152029244, 'forecast_horizon': 20}\n",
      "\n",
      "Iniciando Trial 29\n",
      "Hiperparâmetros: {'output_chunk_length': 28, 'input_chunk_length': 57, 'hidden_size': 248, 'lstm_layers': 1, 'num_attention_heads': 3, 'hidden_continuous_size': 28, 'add_relative_index': True, 'dropout': 0.1, 'batch_size': 36, 'lr': 8.649962732326911e-05, 'forecast_horizon': 14}\n",
      "\n",
      "Treinando o modelo...\n",
      "Train set: 6647 samples\n",
      "Validation set: 1662 samples\n"
     ]
    },
    {
     "name": "stderr",
     "output_type": "stream",
     "text": [
      "\n",
      "   | Name                              | Type                             | Params | Mode \n",
      "------------------------------------------------------------------------------------------------\n",
      "0  | criterion                         | HuberLoss                        | 0      | train\n",
      "1  | train_criterion                   | HuberLoss                        | 0      | train\n",
      "2  | val_criterion                     | HuberLoss                        | 0      | train\n",
      "3  | train_metrics                     | MetricCollection                 | 0      | train\n",
      "4  | val_metrics                       | MetricCollection                 | 0      | train\n",
      "5  | input_embeddings                  | _MultiEmbedding                  | 0      | train\n",
      "6  | static_covariates_vsn             | _VariableSelectionNetwork        | 0      | train\n",
      "7  | encoder_vsn                       | _VariableSelectionNetwork        | 535 K  | train\n",
      "8  | decoder_vsn                       | _VariableSelectionNetwork        | 196 K  | train\n",
      "9  | static_context_grn                | _GatedResidualNetwork            | 247 K  | train\n",
      "10 | static_context_hidden_encoder_grn | _GatedResidualNetwork            | 247 K  | train\n",
      "11 | static_context_cell_encoder_grn   | _GatedResidualNetwork            | 247 K  | train\n",
      "12 | static_context_enrichment         | _GatedResidualNetwork            | 247 K  | train\n",
      "13 | lstm_encoder                      | LSTM                             | 494 K  | train\n",
      "14 | lstm_decoder                      | LSTM                             | 494 K  | train\n",
      "15 | post_lstm_gan                     | _GateAddNorm                     | 124 K  | train\n",
      "16 | static_enrichment_grn             | _GatedResidualNetwork            | 309 K  | train\n",
      "17 | multihead_attn                    | _InterpretableMultiHeadAttention | 163 K  | train\n",
      "18 | post_attn_gan                     | _GateAddNorm                     | 124 K  | train\n",
      "19 | feed_forward_block                | _GatedResidualNetwork            | 247 K  | train\n",
      "20 | pre_output_gan                    | _GateAddNorm                     | 124 K  | train\n",
      "21 | output_layer                      | Linear                           | 2.0 K  | train\n",
      "------------------------------------------------------------------------------------------------\n",
      "3.8 M     Trainable params\n",
      "0         Non-trainable params\n",
      "3.8 M     Total params\n",
      "15.214    Total estimated model params size (MB)\n",
      "733       Modules in train mode\n",
      "0         Modules in eval mode\n"
     ]
    },
    {
     "data": {
      "application/vnd.jupyter.widget-view+json": {
       "model_id": "ed17f94b851b4b00b77e4f33603940ff",
       "version_major": 2,
       "version_minor": 0
      },
      "text/plain": [
       "Sanity Checking: |          | 0/? [00:00<?, ?it/s]"
      ]
     },
     "metadata": {},
     "output_type": "display_data"
    },
    {
     "data": {
      "application/vnd.jupyter.widget-view+json": {
       "model_id": "9eb9ced909c14b4580be5070570c3fd3",
       "version_major": 2,
       "version_minor": 0
      },
      "text/plain": [
       "Training: |          | 0/? [00:00<?, ?it/s]"
      ]
     },
     "metadata": {},
     "output_type": "display_data"
    },
    {
     "data": {
      "application/vnd.jupyter.widget-view+json": {
       "model_id": "2430aceb53544038913a8bb8d6178af8",
       "version_major": 2,
       "version_minor": 0
      },
      "text/plain": [
       "Validation: |          | 0/? [00:00<?, ?it/s]"
      ]
     },
     "metadata": {},
     "output_type": "display_data"
    },
    {
     "name": "stderr",
     "output_type": "stream",
     "text": [
      "Metric val_loss improved. New best score: 0.027\n"
     ]
    },
    {
     "data": {
      "application/vnd.jupyter.widget-view+json": {
       "model_id": "ffba139935994abdac2d1c9ae6555fb0",
       "version_major": 2,
       "version_minor": 0
      },
      "text/plain": [
       "Validation: |          | 0/? [00:00<?, ?it/s]"
      ]
     },
     "metadata": {},
     "output_type": "display_data"
    },
    {
     "name": "stderr",
     "output_type": "stream",
     "text": [
      "Metric val_loss improved by 0.001 >= min_delta = 0.001. New best score: 0.026\n"
     ]
    },
    {
     "data": {
      "application/vnd.jupyter.widget-view+json": {
       "model_id": "885ecfbfea9b4f6298c21b4697fdf0f6",
       "version_major": 2,
       "version_minor": 0
      },
      "text/plain": [
       "Validation: |          | 0/? [00:00<?, ?it/s]"
      ]
     },
     "metadata": {},
     "output_type": "display_data"
    },
    {
     "data": {
      "application/vnd.jupyter.widget-view+json": {
       "model_id": "75be8dd5387547ca901fa471becfbecf",
       "version_major": 2,
       "version_minor": 0
      },
      "text/plain": [
       "Validation: |          | 0/? [00:00<?, ?it/s]"
      ]
     },
     "metadata": {},
     "output_type": "display_data"
    },
    {
     "data": {
      "application/vnd.jupyter.widget-view+json": {
       "model_id": "851bf167327f414b858063a8d11e445a",
       "version_major": 2,
       "version_minor": 0
      },
      "text/plain": [
       "Validation: |          | 0/? [00:00<?, ?it/s]"
      ]
     },
     "metadata": {},
     "output_type": "display_data"
    },
    {
     "data": {
      "application/vnd.jupyter.widget-view+json": {
       "model_id": "3b0a0695c9dc4c82ac2768bb66a9d70f",
       "version_major": 2,
       "version_minor": 0
      },
      "text/plain": [
       "Validation: |          | 0/? [00:00<?, ?it/s]"
      ]
     },
     "metadata": {},
     "output_type": "display_data"
    },
    {
     "data": {
      "application/vnd.jupyter.widget-view+json": {
       "model_id": "2ff8dc159269447c82e98e0983dba513",
       "version_major": 2,
       "version_minor": 0
      },
      "text/plain": [
       "Validation: |          | 0/? [00:00<?, ?it/s]"
      ]
     },
     "metadata": {},
     "output_type": "display_data"
    },
    {
     "data": {
      "application/vnd.jupyter.widget-view+json": {
       "model_id": "dfe22055807249b783b88c1fc5b6140a",
       "version_major": 2,
       "version_minor": 0
      },
      "text/plain": [
       "Validation: |          | 0/? [00:00<?, ?it/s]"
      ]
     },
     "metadata": {},
     "output_type": "display_data"
    },
    {
     "data": {
      "application/vnd.jupyter.widget-view+json": {
       "model_id": "63550959c904409d8030ffd9a16ce9d5",
       "version_major": 2,
       "version_minor": 0
      },
      "text/plain": [
       "Validation: |          | 0/? [00:00<?, ?it/s]"
      ]
     },
     "metadata": {},
     "output_type": "display_data"
    },
    {
     "data": {
      "application/vnd.jupyter.widget-view+json": {
       "model_id": "209d699cc79841a98f7a70433343f40c",
       "version_major": 2,
       "version_minor": 0
      },
      "text/plain": [
       "Validation: |          | 0/? [00:00<?, ?it/s]"
      ]
     },
     "metadata": {},
     "output_type": "display_data"
    },
    {
     "data": {
      "application/vnd.jupyter.widget-view+json": {
       "model_id": "35d32c1b997d4333b8c96bb931e7c9f5",
       "version_major": 2,
       "version_minor": 0
      },
      "text/plain": [
       "Validation: |          | 0/? [00:00<?, ?it/s]"
      ]
     },
     "metadata": {},
     "output_type": "display_data"
    },
    {
     "data": {
      "application/vnd.jupyter.widget-view+json": {
       "model_id": "9b4351586ef74fd78b7d1fd2ecbc62e9",
       "version_major": 2,
       "version_minor": 0
      },
      "text/plain": [
       "Validation: |          | 0/? [00:00<?, ?it/s]"
      ]
     },
     "metadata": {},
     "output_type": "display_data"
    },
    {
     "name": "stderr",
     "output_type": "stream",
     "text": [
      "Monitored metric val_loss did not improve in the last 10 records. Best score: 0.026. Signaling Trainer to stop.\n",
      "GPU available: True (cuda), used: True\n",
      "TPU available: False, using: 0 TPU cores\n",
      "HPU available: False, using: 0 HPUs\n",
      "LOCAL_RANK: 0 - CUDA_VISIBLE_DEVICES: [0]\n"
     ]
    },
    {
     "name": "stdout",
     "output_type": "stream",
     "text": [
      "Modelo carregado do checkpoint para trial 29\n"
     ]
    },
    {
     "name": "stderr",
     "output_type": "stream",
     "text": [
      "/home/eduardo/Documentos/Water-Cycle-Neural-Network/venv/lib/python3.12/site-packages/pytorch_lightning/trainer/connectors/data_connector.py:425: The 'predict_dataloader' does not have many workers which may be a bottleneck. Consider increasing the value of the `num_workers` argument` to `num_workers=11` in the `DataLoader` to improve performance.\n"
     ]
    },
    {
     "data": {
      "application/vnd.jupyter.widget-view+json": {
       "model_id": "78344b5bb37647d89700fa9a39ea9d0c",
       "version_major": 2,
       "version_minor": 0
      },
      "text/plain": [
       "Predicting: |          | 0/? [00:00<?, ?it/s]"
      ]
     },
     "metadata": {},
     "output_type": "display_data"
    },
    {
     "name": "stderr",
     "output_type": "stream",
     "text": [
      "[I 2025-05-15 15:34:16,471] Trial 29 finished with value: 53.144467409648534 and parameters: {'output_chunk_length': 28, 'input_chunk_length': 57, 'hidden_size': 248, 'lstm_layers': 1, 'num_attention_heads': 3, 'hidden_continuous_size': 28, 'add_relative_index': True, 'dropout': 0.1, 'batch_size': 36, 'lr': 8.649962732326911e-05, 'forecast_horizon': 14}. Best is trial 18 with value: 52.707281216337435.\n"
     ]
    },
    {
     "name": "stdout",
     "output_type": "stream",
     "text": [
      "Iniciando a verificação das séries temporais para constância...\n",
      "\n",
      "Métricas de performance:\n",
      "                                     MSE        RMSE  ...          R2       SMAPE\n",
      "Temperature                     1.253641    1.119661  ...    0.630423   14.680174\n",
      "Precipitation_accumulated     124.079402   11.139093  ... -129.477284    1.615190\n",
      "Humidity                       19.138354    4.374740  ...    0.706165    3.846982\n",
      "Wind_Speed_kmh                  0.187937    0.433517  ...    0.452363  165.773576\n",
      "Soil_Moisture              136834.996545  369.912147  ...    0.816550    2.614060\n",
      "Soil_Temperature                1.667950    1.291491  ...    0.701738   26.191249\n",
      "Wind_Dir_Sin                    0.118096    0.343651  ...    0.270571  162.838545\n",
      "Wind_Dir_Cos                    0.144794    0.380518  ...    0.499045   47.595962\n",
      "\n",
      "[8 rows x 5 columns]\n",
      "O SMAPE desse fold foi 53.144467409648534\n",
      "Resultados do trial 29 salvos em optuna_iteration_metrics/trial_29.json\n",
      "Current value: 53.144467409648534, Current params: {'output_chunk_length': 28, 'input_chunk_length': 57, 'hidden_size': 248, 'lstm_layers': 1, 'num_attention_heads': 3, 'hidden_continuous_size': 28, 'add_relative_index': True, 'dropout': 0.1, 'batch_size': 36, 'lr': 8.649962732326911e-05, 'forecast_horizon': 14}\n",
      "Best value: 52.707281216337435, Best params: {'output_chunk_length': 41, 'input_chunk_length': 88, 'hidden_size': 53, 'lstm_layers': 1, 'num_attention_heads': 3, 'hidden_continuous_size': 17, 'add_relative_index': True, 'dropout': 0.15000000000000002, 'batch_size': 55, 'lr': 0.0005200545152029244, 'forecast_horizon': 20}\n",
      "\n",
      "Iniciando Trial 30\n",
      "Hiperparâmetros: {'output_chunk_length': 29, 'input_chunk_length': 53, 'hidden_size': 244, 'lstm_layers': 1, 'num_attention_heads': 4, 'hidden_continuous_size': 29, 'add_relative_index': True, 'dropout': 0.1, 'batch_size': 40, 'lr': 8.169526384026333e-05, 'forecast_horizon': 14}\n",
      "\n",
      "Treinando o modelo...\n",
      "Train set: 6647 samples\n",
      "Validation set: 1662 samples\n"
     ]
    },
    {
     "name": "stderr",
     "output_type": "stream",
     "text": [
      "GPU available: True (cuda), used: True\n",
      "TPU available: False, using: 0 TPU cores\n",
      "HPU available: False, using: 0 HPUs\n",
      "LOCAL_RANK: 0 - CUDA_VISIBLE_DEVICES: [0]\n",
      "\n",
      "   | Name                              | Type                             | Params | Mode \n",
      "------------------------------------------------------------------------------------------------\n",
      "0  | criterion                         | HuberLoss                        | 0      | train\n",
      "1  | train_criterion                   | HuberLoss                        | 0      | train\n",
      "2  | val_criterion                     | HuberLoss                        | 0      | train\n",
      "3  | train_metrics                     | MetricCollection                 | 0      | train\n",
      "4  | val_metrics                       | MetricCollection                 | 0      | train\n",
      "5  | input_embeddings                  | _MultiEmbedding                  | 0      | train\n",
      "6  | static_covariates_vsn             | _VariableSelectionNetwork        | 0      | train\n",
      "7  | encoder_vsn                       | _VariableSelectionNetwork        | 546 K  | train\n",
      "8  | decoder_vsn                       | _VariableSelectionNetwork        | 200 K  | train\n",
      "9  | static_context_grn                | _GatedResidualNetwork            | 239 K  | train\n",
      "10 | static_context_hidden_encoder_grn | _GatedResidualNetwork            | 239 K  | train\n",
      "11 | static_context_cell_encoder_grn   | _GatedResidualNetwork            | 239 K  | train\n",
      "12 | static_context_enrichment         | _GatedResidualNetwork            | 239 K  | train\n",
      "13 | lstm_encoder                      | LSTM                             | 478 K  | train\n",
      "14 | lstm_decoder                      | LSTM                             | 478 K  | train\n",
      "15 | post_lstm_gan                     | _GateAddNorm                     | 120 K  | train\n",
      "16 | static_enrichment_grn             | _GatedResidualNetwork            | 299 K  | train\n",
      "17 | multihead_attn                    | _InterpretableMultiHeadAttention | 149 K  | train\n",
      "18 | post_attn_gan                     | _GateAddNorm                     | 120 K  | train\n",
      "19 | feed_forward_block                | _GatedResidualNetwork            | 239 K  | train\n",
      "20 | pre_output_gan                    | _GateAddNorm                     | 120 K  | train\n",
      "21 | output_layer                      | Linear                           | 2.0 K  | train\n",
      "------------------------------------------------------------------------------------------------\n",
      "3.7 M     Trainable params\n",
      "0         Non-trainable params\n",
      "3.7 M     Total params\n",
      "14.847    Total estimated model params size (MB)\n",
      "735       Modules in train mode\n",
      "0         Modules in eval mode\n"
     ]
    },
    {
     "data": {
      "application/vnd.jupyter.widget-view+json": {
       "model_id": "d55e1e44d6f24ec4a17009a02abea0b4",
       "version_major": 2,
       "version_minor": 0
      },
      "text/plain": [
       "Sanity Checking: |          | 0/? [00:00<?, ?it/s]"
      ]
     },
     "metadata": {},
     "output_type": "display_data"
    },
    {
     "data": {
      "application/vnd.jupyter.widget-view+json": {
       "model_id": "590a3d83e02b4148a928811e09fe6981",
       "version_major": 2,
       "version_minor": 0
      },
      "text/plain": [
       "Training: |          | 0/? [00:00<?, ?it/s]"
      ]
     },
     "metadata": {},
     "output_type": "display_data"
    },
    {
     "data": {
      "application/vnd.jupyter.widget-view+json": {
       "model_id": "2f9d6c1bd849491ea03fa19adc3ec1f7",
       "version_major": 2,
       "version_minor": 0
      },
      "text/plain": [
       "Validation: |          | 0/? [00:00<?, ?it/s]"
      ]
     },
     "metadata": {},
     "output_type": "display_data"
    },
    {
     "name": "stderr",
     "output_type": "stream",
     "text": [
      "[I 2025-05-15 15:35:29,187] Trial 30 pruned. Trial was pruned at epoch 0.\n",
      "GPU available: True (cuda), used: True\n",
      "TPU available: False, using: 0 TPU cores\n",
      "HPU available: False, using: 0 HPUs\n",
      "LOCAL_RANK: 0 - CUDA_VISIBLE_DEVICES: [0]\n"
     ]
    },
    {
     "name": "stdout",
     "output_type": "stream",
     "text": [
      "Current value: 0.03596905521192299, Current params: {'output_chunk_length': 29, 'input_chunk_length': 53, 'hidden_size': 244, 'lstm_layers': 1, 'num_attention_heads': 4, 'hidden_continuous_size': 29, 'add_relative_index': True, 'dropout': 0.1, 'batch_size': 40, 'lr': 8.169526384026333e-05, 'forecast_horizon': 14}\n",
      "Best value: 52.707281216337435, Best params: {'output_chunk_length': 41, 'input_chunk_length': 88, 'hidden_size': 53, 'lstm_layers': 1, 'num_attention_heads': 3, 'hidden_continuous_size': 17, 'add_relative_index': True, 'dropout': 0.15000000000000002, 'batch_size': 55, 'lr': 0.0005200545152029244, 'forecast_horizon': 20}\n",
      "\n",
      "Iniciando Trial 31\n",
      "Hiperparâmetros: {'output_chunk_length': 15, 'input_chunk_length': 35, 'hidden_size': 190, 'lstm_layers': 1, 'num_attention_heads': 3, 'hidden_continuous_size': 28, 'add_relative_index': True, 'dropout': 0.1, 'batch_size': 28, 'lr': 1.3758117286828801e-05, 'forecast_horizon': 16}\n",
      "\n",
      "Treinando o modelo...\n",
      "Train set: 6647 samples\n",
      "Validation set: 1662 samples\n"
     ]
    },
    {
     "name": "stderr",
     "output_type": "stream",
     "text": [
      "\n",
      "   | Name                              | Type                             | Params | Mode \n",
      "------------------------------------------------------------------------------------------------\n",
      "0  | criterion                         | HuberLoss                        | 0      | train\n",
      "1  | train_criterion                   | HuberLoss                        | 0      | train\n",
      "2  | val_criterion                     | HuberLoss                        | 0      | train\n",
      "3  | train_metrics                     | MetricCollection                 | 0      | train\n",
      "4  | val_metrics                       | MetricCollection                 | 0      | train\n",
      "5  | input_embeddings                  | _MultiEmbedding                  | 0      | train\n",
      "6  | static_covariates_vsn             | _VariableSelectionNetwork        | 0      | train\n",
      "7  | encoder_vsn                       | _VariableSelectionNetwork        | 427 K  | train\n",
      "8  | decoder_vsn                       | _VariableSelectionNetwork        | 156 K  | train\n",
      "9  | static_context_grn                | _GatedResidualNetwork            | 145 K  | train\n",
      "10 | static_context_hidden_encoder_grn | _GatedResidualNetwork            | 145 K  | train\n",
      "11 | static_context_cell_encoder_grn   | _GatedResidualNetwork            | 145 K  | train\n",
      "12 | static_context_enrichment         | _GatedResidualNetwork            | 145 K  | train\n",
      "13 | lstm_encoder                      | LSTM                             | 290 K  | train\n",
      "14 | lstm_decoder                      | LSTM                             | 290 K  | train\n",
      "15 | post_lstm_gan                     | _GateAddNorm                     | 73.0 K | train\n",
      "16 | static_enrichment_grn             | _GatedResidualNetwork            | 181 K  | train\n",
      "17 | multihead_attn                    | _InterpretableMultiHeadAttention | 96.2 K | train\n",
      "18 | post_attn_gan                     | _GateAddNorm                     | 73.0 K | train\n",
      "19 | feed_forward_block                | _GatedResidualNetwork            | 145 K  | train\n",
      "20 | pre_output_gan                    | _GateAddNorm                     | 73.0 K | train\n",
      "21 | output_layer                      | Linear                           | 1.5 K  | train\n",
      "------------------------------------------------------------------------------------------------\n",
      "2.4 M     Trainable params\n",
      "0         Non-trainable params\n",
      "2.4 M     Total params\n",
      "9.559     Total estimated model params size (MB)\n",
      "733       Modules in train mode\n",
      "0         Modules in eval mode\n"
     ]
    },
    {
     "data": {
      "application/vnd.jupyter.widget-view+json": {
       "model_id": "5ebad9e861534276971ee66bfec8f3dd",
       "version_major": 2,
       "version_minor": 0
      },
      "text/plain": [
       "Sanity Checking: |          | 0/? [00:00<?, ?it/s]"
      ]
     },
     "metadata": {},
     "output_type": "display_data"
    },
    {
     "data": {
      "application/vnd.jupyter.widget-view+json": {
       "model_id": "5f2d8e7a0afa49789fe43c1e87c5c3ce",
       "version_major": 2,
       "version_minor": 0
      },
      "text/plain": [
       "Training: |          | 0/? [00:00<?, ?it/s]"
      ]
     },
     "metadata": {},
     "output_type": "display_data"
    },
    {
     "data": {
      "application/vnd.jupyter.widget-view+json": {
       "model_id": "ffb78a101ab24ab78252956c7ba0debe",
       "version_major": 2,
       "version_minor": 0
      },
      "text/plain": [
       "Validation: |          | 0/? [00:00<?, ?it/s]"
      ]
     },
     "metadata": {},
     "output_type": "display_data"
    },
    {
     "name": "stderr",
     "output_type": "stream",
     "text": [
      "[I 2025-05-15 15:36:09,587] Trial 31 pruned. Trial was pruned at epoch 0.\n",
      "GPU available: True (cuda), used: True\n",
      "TPU available: False, using: 0 TPU cores\n",
      "HPU available: False, using: 0 HPUs\n",
      "LOCAL_RANK: 0 - CUDA_VISIBLE_DEVICES: [0]\n"
     ]
    },
    {
     "name": "stdout",
     "output_type": "stream",
     "text": [
      "Current value: 0.04623532861160991, Current params: {'output_chunk_length': 15, 'input_chunk_length': 35, 'hidden_size': 190, 'lstm_layers': 1, 'num_attention_heads': 3, 'hidden_continuous_size': 28, 'add_relative_index': True, 'dropout': 0.1, 'batch_size': 28, 'lr': 1.3758117286828801e-05, 'forecast_horizon': 16}\n",
      "Best value: 52.707281216337435, Best params: {'output_chunk_length': 41, 'input_chunk_length': 88, 'hidden_size': 53, 'lstm_layers': 1, 'num_attention_heads': 3, 'hidden_continuous_size': 17, 'add_relative_index': True, 'dropout': 0.15000000000000002, 'batch_size': 55, 'lr': 0.0005200545152029244, 'forecast_horizon': 20}\n",
      "\n",
      "Iniciando Trial 32\n",
      "Hiperparâmetros: {'output_chunk_length': 35, 'input_chunk_length': 54, 'hidden_size': 244, 'lstm_layers': 1, 'num_attention_heads': 3, 'hidden_continuous_size': 31, 'add_relative_index': True, 'dropout': 0.05, 'batch_size': 21, 'lr': 0.00023941499334827906, 'forecast_horizon': 14}\n",
      "\n",
      "Treinando o modelo...\n",
      "Train set: 6647 samples\n",
      "Validation set: 1662 samples\n"
     ]
    },
    {
     "name": "stderr",
     "output_type": "stream",
     "text": [
      "\n",
      "   | Name                              | Type                             | Params | Mode \n",
      "------------------------------------------------------------------------------------------------\n",
      "0  | criterion                         | HuberLoss                        | 0      | train\n",
      "1  | train_criterion                   | HuberLoss                        | 0      | train\n",
      "2  | val_criterion                     | HuberLoss                        | 0      | train\n",
      "3  | train_metrics                     | MetricCollection                 | 0      | train\n",
      "4  | val_metrics                       | MetricCollection                 | 0      | train\n",
      "5  | input_embeddings                  | _MultiEmbedding                  | 0      | train\n",
      "6  | static_covariates_vsn             | _VariableSelectionNetwork        | 0      | train\n",
      "7  | encoder_vsn                       | _VariableSelectionNetwork        | 583 K  | train\n",
      "8  | decoder_vsn                       | _VariableSelectionNetwork        | 214 K  | train\n",
      "9  | static_context_grn                | _GatedResidualNetwork            | 239 K  | train\n",
      "10 | static_context_hidden_encoder_grn | _GatedResidualNetwork            | 239 K  | train\n",
      "11 | static_context_cell_encoder_grn   | _GatedResidualNetwork            | 239 K  | train\n",
      "12 | static_context_enrichment         | _GatedResidualNetwork            | 239 K  | train\n",
      "13 | lstm_encoder                      | LSTM                             | 478 K  | train\n",
      "14 | lstm_decoder                      | LSTM                             | 478 K  | train\n",
      "15 | post_lstm_gan                     | _GateAddNorm                     | 120 K  | train\n",
      "16 | static_enrichment_grn             | _GatedResidualNetwork            | 299 K  | train\n",
      "17 | multihead_attn                    | _InterpretableMultiHeadAttention | 158 K  | train\n",
      "18 | post_attn_gan                     | _GateAddNorm                     | 120 K  | train\n",
      "19 | feed_forward_block                | _GatedResidualNetwork            | 239 K  | train\n",
      "20 | pre_output_gan                    | _GateAddNorm                     | 120 K  | train\n",
      "21 | output_layer                      | Linear                           | 2.0 K  | train\n",
      "------------------------------------------------------------------------------------------------\n",
      "3.8 M     Trainable params\n",
      "0         Non-trainable params\n",
      "3.8 M     Total params\n",
      "15.087    Total estimated model params size (MB)\n",
      "733       Modules in train mode\n",
      "0         Modules in eval mode\n"
     ]
    },
    {
     "data": {
      "application/vnd.jupyter.widget-view+json": {
       "model_id": "20f1bce876834d9b898dbb8dcd72b28e",
       "version_major": 2,
       "version_minor": 0
      },
      "text/plain": [
       "Sanity Checking: |          | 0/? [00:00<?, ?it/s]"
      ]
     },
     "metadata": {},
     "output_type": "display_data"
    },
    {
     "data": {
      "application/vnd.jupyter.widget-view+json": {
       "model_id": "e345f829cb95403eb26922353770a482",
       "version_major": 2,
       "version_minor": 0
      },
      "text/plain": [
       "Training: |          | 0/? [00:00<?, ?it/s]"
      ]
     },
     "metadata": {},
     "output_type": "display_data"
    },
    {
     "data": {
      "application/vnd.jupyter.widget-view+json": {
       "model_id": "ab78e48eb1004fadb3b27fd4ec3860c1",
       "version_major": 2,
       "version_minor": 0
      },
      "text/plain": [
       "Validation: |          | 0/? [00:00<?, ?it/s]"
      ]
     },
     "metadata": {},
     "output_type": "display_data"
    },
    {
     "name": "stderr",
     "output_type": "stream",
     "text": [
      "[I 2025-05-15 15:37:27,524] Trial 32 pruned. Trial was pruned at epoch 0.\n",
      "GPU available: True (cuda), used: True\n",
      "TPU available: False, using: 0 TPU cores\n",
      "HPU available: False, using: 0 HPUs\n",
      "LOCAL_RANK: 0 - CUDA_VISIBLE_DEVICES: [0]\n"
     ]
    },
    {
     "name": "stdout",
     "output_type": "stream",
     "text": [
      "Current value: 0.0665390650552159, Current params: {'output_chunk_length': 35, 'input_chunk_length': 54, 'hidden_size': 244, 'lstm_layers': 1, 'num_attention_heads': 3, 'hidden_continuous_size': 31, 'add_relative_index': True, 'dropout': 0.05, 'batch_size': 21, 'lr': 0.00023941499334827906, 'forecast_horizon': 14}\n",
      "Best value: 52.707281216337435, Best params: {'output_chunk_length': 41, 'input_chunk_length': 88, 'hidden_size': 53, 'lstm_layers': 1, 'num_attention_heads': 3, 'hidden_continuous_size': 17, 'add_relative_index': True, 'dropout': 0.15000000000000002, 'batch_size': 55, 'lr': 0.0005200545152029244, 'forecast_horizon': 20}\n",
      "\n",
      "Iniciando Trial 33\n",
      "Hiperparâmetros: {'output_chunk_length': 23, 'input_chunk_length': 50, 'hidden_size': 112, 'lstm_layers': 1, 'num_attention_heads': 2, 'hidden_continuous_size': 24, 'add_relative_index': True, 'dropout': 0.0, 'batch_size': 35, 'lr': 9.427028659324855e-05, 'forecast_horizon': 11}\n",
      "\n",
      "Treinando o modelo...\n",
      "Train set: 6647 samples\n",
      "Validation set: 1662 samples\n"
     ]
    },
    {
     "name": "stderr",
     "output_type": "stream",
     "text": [
      "\n",
      "   | Name                              | Type                             | Params | Mode \n",
      "------------------------------------------------------------------------------------------------\n",
      "0  | criterion                         | HuberLoss                        | 0      | train\n",
      "1  | train_criterion                   | HuberLoss                        | 0      | train\n",
      "2  | val_criterion                     | HuberLoss                        | 0      | train\n",
      "3  | train_metrics                     | MetricCollection                 | 0      | train\n",
      "4  | val_metrics                       | MetricCollection                 | 0      | train\n",
      "5  | input_embeddings                  | _MultiEmbedding                  | 0      | train\n",
      "6  | static_covariates_vsn             | _VariableSelectionNetwork        | 0      | train\n",
      "7  | encoder_vsn                       | _VariableSelectionNetwork        | 241 K  | train\n",
      "8  | decoder_vsn                       | _VariableSelectionNetwork        | 86.1 K | train\n",
      "9  | static_context_grn                | _GatedResidualNetwork            | 50.8 K | train\n",
      "10 | static_context_hidden_encoder_grn | _GatedResidualNetwork            | 50.8 K | train\n",
      "11 | static_context_cell_encoder_grn   | _GatedResidualNetwork            | 50.8 K | train\n",
      "12 | static_context_enrichment         | _GatedResidualNetwork            | 50.8 K | train\n",
      "13 | lstm_encoder                      | LSTM                             | 101 K  | train\n",
      "14 | lstm_decoder                      | LSTM                             | 101 K  | train\n",
      "15 | post_lstm_gan                     | _GateAddNorm                     | 25.5 K | train\n",
      "16 | static_enrichment_grn             | _GatedResidualNetwork            | 63.4 K | train\n",
      "17 | multihead_attn                    | _InterpretableMultiHeadAttention | 37.9 K | train\n",
      "18 | post_attn_gan                     | _GateAddNorm                     | 25.5 K | train\n",
      "19 | feed_forward_block                | _GatedResidualNetwork            | 50.8 K | train\n",
      "20 | pre_output_gan                    | _GateAddNorm                     | 25.5 K | train\n",
      "21 | output_layer                      | Linear                           | 904    | train\n",
      "------------------------------------------------------------------------------------------------\n",
      "962 K     Trainable params\n",
      "0         Non-trainable params\n",
      "962 K     Total params\n",
      "3.849     Total estimated model params size (MB)\n",
      "731       Modules in train mode\n",
      "0         Modules in eval mode\n"
     ]
    },
    {
     "data": {
      "application/vnd.jupyter.widget-view+json": {
       "model_id": "0cf2a531868a44219482338cb8f4fb02",
       "version_major": 2,
       "version_minor": 0
      },
      "text/plain": [
       "Sanity Checking: |          | 0/? [00:00<?, ?it/s]"
      ]
     },
     "metadata": {},
     "output_type": "display_data"
    },
    {
     "data": {
      "application/vnd.jupyter.widget-view+json": {
       "model_id": "20025e9c59e44a9f895747716d461732",
       "version_major": 2,
       "version_minor": 0
      },
      "text/plain": [
       "Training: |          | 0/? [00:00<?, ?it/s]"
      ]
     },
     "metadata": {},
     "output_type": "display_data"
    },
    {
     "data": {
      "application/vnd.jupyter.widget-view+json": {
       "model_id": "8388cd0bf2f74c9c867f214a72da11f0",
       "version_major": 2,
       "version_minor": 0
      },
      "text/plain": [
       "Validation: |          | 0/? [00:00<?, ?it/s]"
      ]
     },
     "metadata": {},
     "output_type": "display_data"
    },
    {
     "name": "stderr",
     "output_type": "stream",
     "text": [
      "[I 2025-05-15 15:38:05,780] Trial 33 pruned. Trial was pruned at epoch 0.\n",
      "GPU available: True (cuda), used: True\n",
      "TPU available: False, using: 0 TPU cores\n",
      "HPU available: False, using: 0 HPUs\n",
      "LOCAL_RANK: 0 - CUDA_VISIBLE_DEVICES: [0]\n",
      "\n",
      "   | Name                              | Type                             | Params | Mode \n",
      "------------------------------------------------------------------------------------------------\n",
      "0  | criterion                         | HuberLoss                        | 0      | train\n",
      "1  | train_criterion                   | HuberLoss                        | 0      | train\n",
      "2  | val_criterion                     | HuberLoss                        | 0      | train\n",
      "3  | train_metrics                     | MetricCollection                 | 0      | train\n",
      "4  | val_metrics                       | MetricCollection                 | 0      | train\n",
      "5  | input_embeddings                  | _MultiEmbedding                  | 0      | train\n",
      "6  | static_covariates_vsn             | _VariableSelectionNetwork        | 0      | train\n",
      "7  | encoder_vsn                       | _VariableSelectionNetwork        | 217 K  | train\n",
      "8  | decoder_vsn                       | _VariableSelectionNetwork        | 76.1 K | train\n",
      "9  | static_context_grn                | _GatedResidualNetwork            | 18.9 K | train\n",
      "10 | static_context_hidden_encoder_grn | _GatedResidualNetwork            | 18.9 K | train\n",
      "11 | static_context_cell_encoder_grn   | _GatedResidualNetwork            | 18.9 K | train\n",
      "12 | static_context_enrichment         | _GatedResidualNetwork            | 18.9 K | train\n",
      "13 | lstm_encoder                      | LSTM                             | 37.5 K | train\n",
      "14 | lstm_decoder                      | LSTM                             | 37.5 K | train\n",
      "15 | post_lstm_gan                     | _GateAddNorm                     | 9.5 K  | train\n",
      "16 | static_enrichment_grn             | _GatedResidualNetwork            | 23.5 K | train\n",
      "17 | multihead_attn                    | _InterpretableMultiHeadAttention | 12.1 K | train\n",
      "18 | post_attn_gan                     | _GateAddNorm                     | 9.5 K  | train\n",
      "19 | feed_forward_block                | _GatedResidualNetwork            | 18.9 K | train\n",
      "20 | pre_output_gan                    | _GateAddNorm                     | 9.5 K  | train\n",
      "21 | output_layer                      | Linear                           | 552    | train\n",
      "------------------------------------------------------------------------------------------------\n",
      "527 K     Trainable params\n",
      "0         Non-trainable params\n",
      "527 K     Total params\n",
      "2.110     Total estimated model params size (MB)\n",
      "733       Modules in train mode\n",
      "0         Modules in eval mode\n"
     ]
    },
    {
     "name": "stdout",
     "output_type": "stream",
     "text": [
      "Current value: 0.0414647443773319, Current params: {'output_chunk_length': 23, 'input_chunk_length': 50, 'hidden_size': 112, 'lstm_layers': 1, 'num_attention_heads': 2, 'hidden_continuous_size': 24, 'add_relative_index': True, 'dropout': 0.0, 'batch_size': 35, 'lr': 9.427028659324855e-05, 'forecast_horizon': 11}\n",
      "Best value: 52.707281216337435, Best params: {'output_chunk_length': 41, 'input_chunk_length': 88, 'hidden_size': 53, 'lstm_layers': 1, 'num_attention_heads': 3, 'hidden_continuous_size': 17, 'add_relative_index': True, 'dropout': 0.15000000000000002, 'batch_size': 55, 'lr': 0.0005200545152029244, 'forecast_horizon': 20}\n",
      "\n",
      "Iniciando Trial 34\n",
      "Hiperparâmetros: {'output_chunk_length': 28, 'input_chunk_length': 61, 'hidden_size': 68, 'lstm_layers': 1, 'num_attention_heads': 3, 'hidden_continuous_size': 30, 'add_relative_index': True, 'dropout': 0.15000000000000002, 'batch_size': 31, 'lr': 2.714912587494957e-05, 'forecast_horizon': 3}\n",
      "\n",
      "Treinando o modelo...\n",
      "Train set: 6647 samples\n",
      "Validation set: 1662 samples\n"
     ]
    },
    {
     "data": {
      "application/vnd.jupyter.widget-view+json": {
       "model_id": "3483ec38296845ae8409b13ab0bca172",
       "version_major": 2,
       "version_minor": 0
      },
      "text/plain": [
       "Sanity Checking: |          | 0/? [00:00<?, ?it/s]"
      ]
     },
     "metadata": {},
     "output_type": "display_data"
    },
    {
     "data": {
      "application/vnd.jupyter.widget-view+json": {
       "model_id": "e486f6729da84fb19a8ceadaa3a7e111",
       "version_major": 2,
       "version_minor": 0
      },
      "text/plain": [
       "Training: |          | 0/? [00:00<?, ?it/s]"
      ]
     },
     "metadata": {},
     "output_type": "display_data"
    },
    {
     "data": {
      "application/vnd.jupyter.widget-view+json": {
       "model_id": "888221fcf0b14cdb9b504a0c0fe1a6d6",
       "version_major": 2,
       "version_minor": 0
      },
      "text/plain": [
       "Validation: |          | 0/? [00:00<?, ?it/s]"
      ]
     },
     "metadata": {},
     "output_type": "display_data"
    },
    {
     "name": "stderr",
     "output_type": "stream",
     "text": [
      "[I 2025-05-15 15:42:22,283] Trial 34 pruned. Trial was pruned at epoch 0.\n",
      "GPU available: True (cuda), used: True\n",
      "TPU available: False, using: 0 TPU cores\n",
      "HPU available: False, using: 0 HPUs\n",
      "LOCAL_RANK: 0 - CUDA_VISIBLE_DEVICES: [0]\n"
     ]
    },
    {
     "name": "stdout",
     "output_type": "stream",
     "text": [
      "Current value: 0.06146663599824407, Current params: {'output_chunk_length': 28, 'input_chunk_length': 61, 'hidden_size': 68, 'lstm_layers': 1, 'num_attention_heads': 3, 'hidden_continuous_size': 30, 'add_relative_index': True, 'dropout': 0.15000000000000002, 'batch_size': 31, 'lr': 2.714912587494957e-05, 'forecast_horizon': 3}\n",
      "Best value: 52.707281216337435, Best params: {'output_chunk_length': 41, 'input_chunk_length': 88, 'hidden_size': 53, 'lstm_layers': 1, 'num_attention_heads': 3, 'hidden_continuous_size': 17, 'add_relative_index': True, 'dropout': 0.15000000000000002, 'batch_size': 55, 'lr': 0.0005200545152029244, 'forecast_horizon': 20}\n",
      "\n",
      "Iniciando Trial 35\n",
      "Hiperparâmetros: {'output_chunk_length': 46, 'input_chunk_length': 87, 'hidden_size': 138, 'lstm_layers': 2, 'num_attention_heads': 2, 'hidden_continuous_size': 27, 'add_relative_index': True, 'dropout': 0.15000000000000002, 'batch_size': 36, 'lr': 0.000565276191394712, 'forecast_horizon': 17}\n",
      "\n",
      "Treinando o modelo...\n",
      "Train set: 6647 samples\n",
      "Validation set: 1662 samples\n"
     ]
    },
    {
     "name": "stderr",
     "output_type": "stream",
     "text": [
      "\n",
      "   | Name                              | Type                             | Params | Mode \n",
      "------------------------------------------------------------------------------------------------\n",
      "0  | criterion                         | HuberLoss                        | 0      | train\n",
      "1  | train_criterion                   | HuberLoss                        | 0      | train\n",
      "2  | val_criterion                     | HuberLoss                        | 0      | train\n",
      "3  | train_metrics                     | MetricCollection                 | 0      | train\n",
      "4  | val_metrics                       | MetricCollection                 | 0      | train\n",
      "5  | input_embeddings                  | _MultiEmbedding                  | 0      | train\n",
      "6  | static_covariates_vsn             | _VariableSelectionNetwork        | 0      | train\n",
      "7  | encoder_vsn                       | _VariableSelectionNetwork        | 319 K  | train\n",
      "8  | decoder_vsn                       | _VariableSelectionNetwork        | 115 K  | train\n",
      "9  | static_context_grn                | _GatedResidualNetwork            | 77.0 K | train\n",
      "10 | static_context_hidden_encoder_grn | _GatedResidualNetwork            | 77.0 K | train\n",
      "11 | static_context_cell_encoder_grn   | _GatedResidualNetwork            | 77.0 K | train\n",
      "12 | static_context_enrichment         | _GatedResidualNetwork            | 77.0 K | train\n",
      "13 | lstm_encoder                      | LSTM                             | 306 K  | train\n",
      "14 | lstm_decoder                      | LSTM                             | 306 K  | train\n",
      "15 | post_lstm_gan                     | _GateAddNorm                     | 38.6 K | train\n",
      "16 | static_enrichment_grn             | _GatedResidualNetwork            | 96.0 K | train\n",
      "17 | multihead_attn                    | _InterpretableMultiHeadAttention | 57.5 K | train\n",
      "18 | post_attn_gan                     | _GateAddNorm                     | 38.6 K | train\n",
      "19 | feed_forward_block                | _GatedResidualNetwork            | 77.0 K | train\n",
      "20 | pre_output_gan                    | _GateAddNorm                     | 38.6 K | train\n",
      "21 | output_layer                      | Linear                           | 1.1 K  | train\n",
      "------------------------------------------------------------------------------------------------\n",
      "1.7 M     Trainable params\n",
      "0         Non-trainable params\n",
      "1.7 M     Total params\n",
      "6.812     Total estimated model params size (MB)\n",
      "731       Modules in train mode\n",
      "0         Modules in eval mode\n"
     ]
    },
    {
     "data": {
      "application/vnd.jupyter.widget-view+json": {
       "model_id": "f00763f0960c46e784d2bd4ef287228b",
       "version_major": 2,
       "version_minor": 0
      },
      "text/plain": [
       "Sanity Checking: |          | 0/? [00:00<?, ?it/s]"
      ]
     },
     "metadata": {},
     "output_type": "display_data"
    },
    {
     "data": {
      "application/vnd.jupyter.widget-view+json": {
       "model_id": "85d979fb7c1d4ea1b579ec9a62087b21",
       "version_major": 2,
       "version_minor": 0
      },
      "text/plain": [
       "Training: |          | 0/? [00:00<?, ?it/s]"
      ]
     },
     "metadata": {},
     "output_type": "display_data"
    },
    {
     "data": {
      "application/vnd.jupyter.widget-view+json": {
       "model_id": "fac60907f9d04884b276715a964d58d7",
       "version_major": 2,
       "version_minor": 0
      },
      "text/plain": [
       "Validation: |          | 0/? [00:00<?, ?it/s]"
      ]
     },
     "metadata": {},
     "output_type": "display_data"
    },
    {
     "name": "stderr",
     "output_type": "stream",
     "text": [
      "[I 2025-05-15 15:43:45,171] Trial 35 pruned. Trial was pruned at epoch 0.\n",
      "GPU available: True (cuda), used: True\n",
      "TPU available: False, using: 0 TPU cores\n",
      "HPU available: False, using: 0 HPUs\n",
      "LOCAL_RANK: 0 - CUDA_VISIBLE_DEVICES: [0]\n"
     ]
    },
    {
     "name": "stdout",
     "output_type": "stream",
     "text": [
      "Current value: 0.03416003396284677, Current params: {'output_chunk_length': 46, 'input_chunk_length': 87, 'hidden_size': 138, 'lstm_layers': 2, 'num_attention_heads': 2, 'hidden_continuous_size': 27, 'add_relative_index': True, 'dropout': 0.15000000000000002, 'batch_size': 36, 'lr': 0.000565276191394712, 'forecast_horizon': 17}\n",
      "Best value: 52.707281216337435, Best params: {'output_chunk_length': 41, 'input_chunk_length': 88, 'hidden_size': 53, 'lstm_layers': 1, 'num_attention_heads': 3, 'hidden_continuous_size': 17, 'add_relative_index': True, 'dropout': 0.15000000000000002, 'batch_size': 55, 'lr': 0.0005200545152029244, 'forecast_horizon': 20}\n",
      "\n",
      "Iniciando Trial 36\n",
      "Hiperparâmetros: {'output_chunk_length': 40, 'input_chunk_length': 60, 'hidden_size': 222, 'lstm_layers': 1, 'num_attention_heads': 4, 'hidden_continuous_size': 25, 'add_relative_index': True, 'dropout': 0.3, 'batch_size': 43, 'lr': 0.00031002620708540484, 'forecast_horizon': 7}\n",
      "\n",
      "Treinando o modelo...\n",
      "Train set: 6647 samples\n",
      "Validation set: 1662 samples\n"
     ]
    },
    {
     "name": "stderr",
     "output_type": "stream",
     "text": [
      "\n",
      "   | Name                              | Type                             | Params | Mode \n",
      "------------------------------------------------------------------------------------------------\n",
      "0  | criterion                         | HuberLoss                        | 0      | train\n",
      "1  | train_criterion                   | HuberLoss                        | 0      | train\n",
      "2  | val_criterion                     | HuberLoss                        | 0      | train\n",
      "3  | train_metrics                     | MetricCollection                 | 0      | train\n",
      "4  | val_metrics                       | MetricCollection                 | 0      | train\n",
      "5  | input_embeddings                  | _MultiEmbedding                  | 0      | train\n",
      "6  | static_covariates_vsn             | _VariableSelectionNetwork        | 0      | train\n",
      "7  | encoder_vsn                       | _VariableSelectionNetwork        | 436 K  | train\n",
      "8  | decoder_vsn                       | _VariableSelectionNetwork        | 159 K  | train\n",
      "9  | static_context_grn                | _GatedResidualNetwork            | 198 K  | train\n",
      "10 | static_context_hidden_encoder_grn | _GatedResidualNetwork            | 198 K  | train\n",
      "11 | static_context_cell_encoder_grn   | _GatedResidualNetwork            | 198 K  | train\n",
      "12 | static_context_enrichment         | _GatedResidualNetwork            | 198 K  | train\n",
      "13 | lstm_encoder                      | LSTM                             | 396 K  | train\n",
      "14 | lstm_decoder                      | LSTM                             | 396 K  | train\n",
      "15 | post_lstm_gan                     | _GateAddNorm                     | 99.5 K | train\n",
      "16 | static_enrichment_grn             | _GatedResidualNetwork            | 247 K  | train\n",
      "17 | multihead_attn                    | _InterpretableMultiHeadAttention | 122 K  | train\n",
      "18 | post_attn_gan                     | _GateAddNorm                     | 99.5 K | train\n",
      "19 | feed_forward_block                | _GatedResidualNetwork            | 198 K  | train\n",
      "20 | pre_output_gan                    | _GateAddNorm                     | 99.5 K | train\n",
      "21 | output_layer                      | Linear                           | 1.8 K  | train\n",
      "------------------------------------------------------------------------------------------------\n",
      "3.1 M     Trainable params\n",
      "0         Non-trainable params\n",
      "3.1 M     Total params\n",
      "12.203    Total estimated model params size (MB)\n",
      "735       Modules in train mode\n",
      "0         Modules in eval mode\n"
     ]
    },
    {
     "data": {
      "application/vnd.jupyter.widget-view+json": {
       "model_id": "f0d10825d24c4499a432a47b12f6b492",
       "version_major": 2,
       "version_minor": 0
      },
      "text/plain": [
       "Sanity Checking: |          | 0/? [00:00<?, ?it/s]"
      ]
     },
     "metadata": {},
     "output_type": "display_data"
    },
    {
     "data": {
      "application/vnd.jupyter.widget-view+json": {
       "model_id": "1cad9c45db044b218280828ecb8ef8b3",
       "version_major": 2,
       "version_minor": 0
      },
      "text/plain": [
       "Training: |          | 0/? [00:00<?, ?it/s]"
      ]
     },
     "metadata": {},
     "output_type": "display_data"
    },
    {
     "data": {
      "application/vnd.jupyter.widget-view+json": {
       "model_id": "ac2d711962a5447b95c6015ead64e8bf",
       "version_major": 2,
       "version_minor": 0
      },
      "text/plain": [
       "Validation: |          | 0/? [00:00<?, ?it/s]"
      ]
     },
     "metadata": {},
     "output_type": "display_data"
    },
    {
     "name": "stderr",
     "output_type": "stream",
     "text": [
      "Metric val_loss improved. New best score: 0.030\n"
     ]
    },
    {
     "data": {
      "application/vnd.jupyter.widget-view+json": {
       "model_id": "df08203dfcf04b309607414a773aa5d1",
       "version_major": 2,
       "version_minor": 0
      },
      "text/plain": [
       "Validation: |          | 0/? [00:00<?, ?it/s]"
      ]
     },
     "metadata": {},
     "output_type": "display_data"
    },
    {
     "data": {
      "application/vnd.jupyter.widget-view+json": {
       "model_id": "79d8040ad4a540d49dab53845cca0c83",
       "version_major": 2,
       "version_minor": 0
      },
      "text/plain": [
       "Validation: |          | 0/? [00:00<?, ?it/s]"
      ]
     },
     "metadata": {},
     "output_type": "display_data"
    },
    {
     "data": {
      "application/vnd.jupyter.widget-view+json": {
       "model_id": "082a073d85a445cfbe7afaa2e4ac511c",
       "version_major": 2,
       "version_minor": 0
      },
      "text/plain": [
       "Validation: |          | 0/? [00:00<?, ?it/s]"
      ]
     },
     "metadata": {},
     "output_type": "display_data"
    },
    {
     "data": {
      "application/vnd.jupyter.widget-view+json": {
       "model_id": "83ee877439ee4db7a9508716ccf69a32",
       "version_major": 2,
       "version_minor": 0
      },
      "text/plain": [
       "Validation: |          | 0/? [00:00<?, ?it/s]"
      ]
     },
     "metadata": {},
     "output_type": "display_data"
    },
    {
     "data": {
      "application/vnd.jupyter.widget-view+json": {
       "model_id": "86f4ef4605a645b495b33b8b089ca419",
       "version_major": 2,
       "version_minor": 0
      },
      "text/plain": [
       "Validation: |          | 0/? [00:00<?, ?it/s]"
      ]
     },
     "metadata": {},
     "output_type": "display_data"
    },
    {
     "data": {
      "application/vnd.jupyter.widget-view+json": {
       "model_id": "1dcf075605ca4a0ea28fec3c699754d0",
       "version_major": 2,
       "version_minor": 0
      },
      "text/plain": [
       "Validation: |          | 0/? [00:00<?, ?it/s]"
      ]
     },
     "metadata": {},
     "output_type": "display_data"
    },
    {
     "data": {
      "application/vnd.jupyter.widget-view+json": {
       "model_id": "b91f5fb109db4708812d44ab34ebfa4a",
       "version_major": 2,
       "version_minor": 0
      },
      "text/plain": [
       "Validation: |          | 0/? [00:00<?, ?it/s]"
      ]
     },
     "metadata": {},
     "output_type": "display_data"
    },
    {
     "data": {
      "application/vnd.jupyter.widget-view+json": {
       "model_id": "d7c2700907d841868c312f7e2f74b7d8",
       "version_major": 2,
       "version_minor": 0
      },
      "text/plain": [
       "Validation: |          | 0/? [00:00<?, ?it/s]"
      ]
     },
     "metadata": {},
     "output_type": "display_data"
    },
    {
     "data": {
      "application/vnd.jupyter.widget-view+json": {
       "model_id": "0337baea0c7a42a981b0fcc80509e0c3",
       "version_major": 2,
       "version_minor": 0
      },
      "text/plain": [
       "Validation: |          | 0/? [00:00<?, ?it/s]"
      ]
     },
     "metadata": {},
     "output_type": "display_data"
    },
    {
     "data": {
      "application/vnd.jupyter.widget-view+json": {
       "model_id": "352168ab700c4bfb9452f70076fad328",
       "version_major": 2,
       "version_minor": 0
      },
      "text/plain": [
       "Validation: |          | 0/? [00:00<?, ?it/s]"
      ]
     },
     "metadata": {},
     "output_type": "display_data"
    },
    {
     "name": "stderr",
     "output_type": "stream",
     "text": [
      "Monitored metric val_loss did not improve in the last 10 records. Best score: 0.030. Signaling Trainer to stop.\n",
      "GPU available: True (cuda), used: True\n",
      "TPU available: False, using: 0 TPU cores\n",
      "HPU available: False, using: 0 HPUs\n",
      "LOCAL_RANK: 0 - CUDA_VISIBLE_DEVICES: [0]\n"
     ]
    },
    {
     "name": "stdout",
     "output_type": "stream",
     "text": [
      "Modelo carregado do checkpoint para trial 36\n"
     ]
    },
    {
     "name": "stderr",
     "output_type": "stream",
     "text": [
      "/home/eduardo/Documentos/Water-Cycle-Neural-Network/venv/lib/python3.12/site-packages/pytorch_lightning/trainer/connectors/data_connector.py:425: The 'predict_dataloader' does not have many workers which may be a bottleneck. Consider increasing the value of the `num_workers` argument` to `num_workers=11` in the `DataLoader` to improve performance.\n"
     ]
    },
    {
     "data": {
      "application/vnd.jupyter.widget-view+json": {
       "model_id": "b643cfcb58d4457d8a3219551ba95590",
       "version_major": 2,
       "version_minor": 0
      },
      "text/plain": [
       "Predicting: |          | 0/? [00:00<?, ?it/s]"
      ]
     },
     "metadata": {},
     "output_type": "display_data"
    },
    {
     "name": "stderr",
     "output_type": "stream",
     "text": [
      "[I 2025-05-15 16:00:56,336] Trial 36 finished with value: 51.62609841430928 and parameters: {'output_chunk_length': 40, 'input_chunk_length': 60, 'hidden_size': 222, 'lstm_layers': 1, 'num_attention_heads': 4, 'hidden_continuous_size': 25, 'add_relative_index': True, 'dropout': 0.3, 'batch_size': 43, 'lr': 0.00031002620708540484, 'forecast_horizon': 7}. Best is trial 36 with value: 51.62609841430928.\n"
     ]
    },
    {
     "name": "stdout",
     "output_type": "stream",
     "text": [
      "Iniciando a verificação das séries temporais para constância...\n",
      "\n",
      "Métricas de performance:\n",
      "                                     MSE        RMSE  ...          R2       SMAPE\n",
      "Temperature                     1.137411    1.066495  ...    0.665216   13.120484\n",
      "Precipitation_accumulated     195.131211   13.968937  ... -204.419946    2.494003\n",
      "Humidity                       14.344383    3.787398  ...    0.779517    3.376815\n",
      "Wind_Speed_kmh                  0.157325    0.396643  ...    0.539308  164.342789\n",
      "Soil_Moisture              111382.552490  333.740247  ...    0.849972    3.208949\n",
      "Soil_Temperature                0.607668    0.779531  ...    0.891548   16.208822\n",
      "Wind_Dir_Sin                    0.129863    0.360365  ...    0.194153  161.671109\n",
      "Wind_Dir_Cos                    0.144668    0.380353  ...    0.497505   48.585816\n",
      "\n",
      "[8 rows x 5 columns]\n",
      "O SMAPE desse fold foi 51.62609841430928\n",
      "Resultados do trial 36 salvos em optuna_iteration_metrics/trial_36.json\n",
      "Current value: 51.62609841430928, Current params: {'output_chunk_length': 40, 'input_chunk_length': 60, 'hidden_size': 222, 'lstm_layers': 1, 'num_attention_heads': 4, 'hidden_continuous_size': 25, 'add_relative_index': True, 'dropout': 0.3, 'batch_size': 43, 'lr': 0.00031002620708540484, 'forecast_horizon': 7}\n",
      "Best value: 51.62609841430928, Best params: {'output_chunk_length': 40, 'input_chunk_length': 60, 'hidden_size': 222, 'lstm_layers': 1, 'num_attention_heads': 4, 'hidden_continuous_size': 25, 'add_relative_index': True, 'dropout': 0.3, 'batch_size': 43, 'lr': 0.00031002620708540484, 'forecast_horizon': 7}\n",
      "\n",
      "Iniciando Trial 37\n",
      "Hiperparâmetros: {'output_chunk_length': 56, 'input_chunk_length': 97, 'hidden_size': 228, 'lstm_layers': 1, 'num_attention_heads': 4, 'hidden_continuous_size': 25, 'add_relative_index': True, 'dropout': 0.3, 'batch_size': 44, 'lr': 5.7952094716615075e-05, 'forecast_horizon': 7}\n",
      "\n",
      "Treinando o modelo...\n",
      "Train set: 6647 samples\n",
      "Validation set: 1662 samples\n"
     ]
    },
    {
     "name": "stderr",
     "output_type": "stream",
     "text": [
      "GPU available: True (cuda), used: True\n",
      "TPU available: False, using: 0 TPU cores\n",
      "HPU available: False, using: 0 HPUs\n",
      "LOCAL_RANK: 0 - CUDA_VISIBLE_DEVICES: [0]\n",
      "\n",
      "   | Name                              | Type                             | Params | Mode \n",
      "------------------------------------------------------------------------------------------------\n",
      "0  | criterion                         | HuberLoss                        | 0      | train\n",
      "1  | train_criterion                   | HuberLoss                        | 0      | train\n",
      "2  | val_criterion                     | HuberLoss                        | 0      | train\n",
      "3  | train_metrics                     | MetricCollection                 | 0      | train\n",
      "4  | val_metrics                       | MetricCollection                 | 0      | train\n",
      "5  | input_embeddings                  | _MultiEmbedding                  | 0      | train\n",
      "6  | static_covariates_vsn             | _VariableSelectionNetwork        | 0      | train\n",
      "7  | encoder_vsn                       | _VariableSelectionNetwork        | 446 K  | train\n",
      "8  | decoder_vsn                       | _VariableSelectionNetwork        | 163 K  | train\n",
      "9  | static_context_grn                | _GatedResidualNetwork            | 209 K  | train\n",
      "10 | static_context_hidden_encoder_grn | _GatedResidualNetwork            | 209 K  | train\n",
      "11 | static_context_cell_encoder_grn   | _GatedResidualNetwork            | 209 K  | train\n",
      "12 | static_context_enrichment         | _GatedResidualNetwork            | 209 K  | train\n",
      "13 | lstm_encoder                      | LSTM                             | 417 K  | train\n",
      "14 | lstm_decoder                      | LSTM                             | 417 K  | train\n",
      "15 | post_lstm_gan                     | _GateAddNorm                     | 104 K  | train\n",
      "16 | static_enrichment_grn             | _GatedResidualNetwork            | 261 K  | train\n",
      "17 | multihead_attn                    | _InterpretableMultiHeadAttention | 130 K  | train\n",
      "18 | post_attn_gan                     | _GateAddNorm                     | 104 K  | train\n",
      "19 | feed_forward_block                | _GatedResidualNetwork            | 209 K  | train\n",
      "20 | pre_output_gan                    | _GateAddNorm                     | 104 K  | train\n",
      "21 | output_layer                      | Linear                           | 1.8 K  | train\n",
      "------------------------------------------------------------------------------------------------\n",
      "3.2 M     Trainable params\n",
      "0         Non-trainable params\n",
      "3.2 M     Total params\n",
      "12.799    Total estimated model params size (MB)\n",
      "735       Modules in train mode\n",
      "0         Modules in eval mode\n"
     ]
    },
    {
     "data": {
      "application/vnd.jupyter.widget-view+json": {
       "model_id": "a3f46a261ac74967ba3645d6020a7421",
       "version_major": 2,
       "version_minor": 0
      },
      "text/plain": [
       "Sanity Checking: |          | 0/? [00:00<?, ?it/s]"
      ]
     },
     "metadata": {},
     "output_type": "display_data"
    },
    {
     "data": {
      "application/vnd.jupyter.widget-view+json": {
       "model_id": "90a7f01078814729ab09214c3ca15da9",
       "version_major": 2,
       "version_minor": 0
      },
      "text/plain": [
       "Training: |          | 0/? [00:00<?, ?it/s]"
      ]
     },
     "metadata": {},
     "output_type": "display_data"
    },
    {
     "data": {
      "application/vnd.jupyter.widget-view+json": {
       "model_id": "823550474cc847a8ad2b06c20cfc99d6",
       "version_major": 2,
       "version_minor": 0
      },
      "text/plain": [
       "Validation: |          | 0/? [00:00<?, ?it/s]"
      ]
     },
     "metadata": {},
     "output_type": "display_data"
    },
    {
     "name": "stderr",
     "output_type": "stream",
     "text": [
      "[I 2025-05-15 16:03:12,723] Trial 37 pruned. Trial was pruned at epoch 0.\n",
      "GPU available: True (cuda), used: True\n",
      "TPU available: False, using: 0 TPU cores\n",
      "HPU available: False, using: 0 HPUs\n",
      "LOCAL_RANK: 0 - CUDA_VISIBLE_DEVICES: [0]\n"
     ]
    },
    {
     "name": "stdout",
     "output_type": "stream",
     "text": [
      "Current value: 0.047877915806384216, Current params: {'output_chunk_length': 56, 'input_chunk_length': 97, 'hidden_size': 228, 'lstm_layers': 1, 'num_attention_heads': 4, 'hidden_continuous_size': 25, 'add_relative_index': True, 'dropout': 0.3, 'batch_size': 44, 'lr': 5.7952094716615075e-05, 'forecast_horizon': 7}\n",
      "Best value: 51.62609841430928, Best params: {'output_chunk_length': 40, 'input_chunk_length': 60, 'hidden_size': 222, 'lstm_layers': 1, 'num_attention_heads': 4, 'hidden_continuous_size': 25, 'add_relative_index': True, 'dropout': 0.3, 'batch_size': 43, 'lr': 0.00031002620708540484, 'forecast_horizon': 7}\n",
      "\n",
      "Iniciando Trial 38\n",
      "Hiperparâmetros: {'output_chunk_length': 42, 'input_chunk_length': 58, 'hidden_size': 225, 'lstm_layers': 2, 'num_attention_heads': 4, 'hidden_continuous_size': 12, 'add_relative_index': True, 'dropout': 0.25, 'batch_size': 51, 'lr': 0.00030237749770187477, 'forecast_horizon': 3}\n",
      "\n",
      "Treinando o modelo...\n",
      "Train set: 6647 samples\n",
      "Validation set: 1662 samples\n"
     ]
    },
    {
     "name": "stderr",
     "output_type": "stream",
     "text": [
      "\n",
      "   | Name                              | Type                             | Params | Mode \n",
      "------------------------------------------------------------------------------------------------\n",
      "0  | criterion                         | HuberLoss                        | 0      | train\n",
      "1  | train_criterion                   | HuberLoss                        | 0      | train\n",
      "2  | val_criterion                     | HuberLoss                        | 0      | train\n",
      "3  | train_metrics                     | MetricCollection                 | 0      | train\n",
      "4  | val_metrics                       | MetricCollection                 | 0      | train\n",
      "5  | input_embeddings                  | _MultiEmbedding                  | 0      | train\n",
      "6  | static_covariates_vsn             | _VariableSelectionNetwork        | 0      | train\n",
      "7  | encoder_vsn                       | _VariableSelectionNetwork        | 231 K  | train\n",
      "8  | decoder_vsn                       | _VariableSelectionNetwork        | 84.8 K | train\n",
      "9  | static_context_grn                | _GatedResidualNetwork            | 203 K  | train\n",
      "10 | static_context_hidden_encoder_grn | _GatedResidualNetwork            | 203 K  | train\n",
      "11 | static_context_cell_encoder_grn   | _GatedResidualNetwork            | 203 K  | train\n",
      "12 | static_context_enrichment         | _GatedResidualNetwork            | 203 K  | train\n",
      "13 | lstm_encoder                      | LSTM                             | 813 K  | train\n",
      "14 | lstm_decoder                      | LSTM                             | 813 K  | train\n",
      "15 | post_lstm_gan                     | _GateAddNorm                     | 102 K  | train\n",
      "16 | static_enrichment_grn             | _GatedResidualNetwork            | 254 K  | train\n",
      "17 | multihead_attn                    | _InterpretableMultiHeadAttention | 126 K  | train\n",
      "18 | post_attn_gan                     | _GateAddNorm                     | 102 K  | train\n",
      "19 | feed_forward_block                | _GatedResidualNetwork            | 203 K  | train\n",
      "20 | pre_output_gan                    | _GateAddNorm                     | 102 K  | train\n",
      "21 | output_layer                      | Linear                           | 1.8 K  | train\n",
      "------------------------------------------------------------------------------------------------\n",
      "3.7 M     Trainable params\n",
      "0         Non-trainable params\n",
      "3.7 M     Total params\n",
      "14.607    Total estimated model params size (MB)\n",
      "735       Modules in train mode\n",
      "0         Modules in eval mode\n"
     ]
    },
    {
     "data": {
      "application/vnd.jupyter.widget-view+json": {
       "model_id": "3fdf8367af7044168df804cb9a2624ba",
       "version_major": 2,
       "version_minor": 0
      },
      "text/plain": [
       "Sanity Checking: |          | 0/? [00:00<?, ?it/s]"
      ]
     },
     "metadata": {},
     "output_type": "display_data"
    },
    {
     "data": {
      "application/vnd.jupyter.widget-view+json": {
       "model_id": "fd7a8609d48f4dbfaebbe8843c06175f",
       "version_major": 2,
       "version_minor": 0
      },
      "text/plain": [
       "Training: |          | 0/? [00:00<?, ?it/s]"
      ]
     },
     "metadata": {},
     "output_type": "display_data"
    },
    {
     "data": {
      "application/vnd.jupyter.widget-view+json": {
       "model_id": "08a8f8304ffa4333b04372be5e305b39",
       "version_major": 2,
       "version_minor": 0
      },
      "text/plain": [
       "Validation: |          | 0/? [00:00<?, ?it/s]"
      ]
     },
     "metadata": {},
     "output_type": "display_data"
    },
    {
     "name": "stderr",
     "output_type": "stream",
     "text": [
      "[I 2025-05-15 16:05:45,315] Trial 38 pruned. Trial was pruned at epoch 0.\n",
      "GPU available: True (cuda), used: True\n",
      "TPU available: False, using: 0 TPU cores\n",
      "HPU available: False, using: 0 HPUs\n",
      "LOCAL_RANK: 0 - CUDA_VISIBLE_DEVICES: [0]\n"
     ]
    },
    {
     "name": "stdout",
     "output_type": "stream",
     "text": [
      "Current value: 0.06109691836287564, Current params: {'output_chunk_length': 42, 'input_chunk_length': 58, 'hidden_size': 225, 'lstm_layers': 2, 'num_attention_heads': 4, 'hidden_continuous_size': 12, 'add_relative_index': True, 'dropout': 0.25, 'batch_size': 51, 'lr': 0.00030237749770187477, 'forecast_horizon': 3}\n",
      "Best value: 51.62609841430928, Best params: {'output_chunk_length': 40, 'input_chunk_length': 60, 'hidden_size': 222, 'lstm_layers': 1, 'num_attention_heads': 4, 'hidden_continuous_size': 25, 'add_relative_index': True, 'dropout': 0.3, 'batch_size': 43, 'lr': 0.00031002620708540484, 'forecast_horizon': 7}\n",
      "\n",
      "Iniciando Trial 39\n",
      "Hiperparâmetros: {'output_chunk_length': 33, 'input_chunk_length': 66, 'hidden_size': 213, 'lstm_layers': 1, 'num_attention_heads': 4, 'hidden_continuous_size': 8, 'add_relative_index': True, 'dropout': 0.3, 'batch_size': 38, 'lr': 0.00014241193151556843, 'forecast_horizon': 8}\n",
      "\n",
      "Treinando o modelo...\n",
      "Train set: 6647 samples\n",
      "Validation set: 1662 samples\n"
     ]
    },
    {
     "name": "stderr",
     "output_type": "stream",
     "text": [
      "\n",
      "   | Name                              | Type                             | Params | Mode \n",
      "------------------------------------------------------------------------------------------------\n",
      "0  | criterion                         | HuberLoss                        | 0      | train\n",
      "1  | train_criterion                   | HuberLoss                        | 0      | train\n",
      "2  | val_criterion                     | HuberLoss                        | 0      | train\n",
      "3  | train_metrics                     | MetricCollection                 | 0      | train\n",
      "4  | val_metrics                       | MetricCollection                 | 0      | train\n",
      "5  | input_embeddings                  | _MultiEmbedding                  | 0      | train\n",
      "6  | static_covariates_vsn             | _VariableSelectionNetwork        | 0      | train\n",
      "7  | encoder_vsn                       | _VariableSelectionNetwork        | 162 K  | train\n",
      "8  | decoder_vsn                       | _VariableSelectionNetwork        | 59.4 K | train\n",
      "9  | static_context_grn                | _GatedResidualNetwork            | 182 K  | train\n",
      "10 | static_context_hidden_encoder_grn | _GatedResidualNetwork            | 182 K  | train\n",
      "11 | static_context_cell_encoder_grn   | _GatedResidualNetwork            | 182 K  | train\n",
      "12 | static_context_enrichment         | _GatedResidualNetwork            | 182 K  | train\n",
      "13 | lstm_encoder                      | LSTM                             | 364 K  | train\n",
      "14 | lstm_decoder                      | LSTM                             | 364 K  | train\n",
      "15 | post_lstm_gan                     | _GateAddNorm                     | 91.6 K | train\n",
      "16 | static_enrichment_grn             | _GatedResidualNetwork            | 228 K  | train\n",
      "17 | multihead_attn                    | _InterpretableMultiHeadAttention | 113 K  | train\n",
      "18 | post_attn_gan                     | _GateAddNorm                     | 91.6 K | train\n",
      "19 | feed_forward_block                | _GatedResidualNetwork            | 182 K  | train\n",
      "20 | pre_output_gan                    | _GateAddNorm                     | 91.6 K | train\n",
      "21 | output_layer                      | Linear                           | 1.7 K  | train\n",
      "------------------------------------------------------------------------------------------------\n",
      "2.5 M     Trainable params\n",
      "0         Non-trainable params\n",
      "2.5 M     Total params\n",
      "9.931     Total estimated model params size (MB)\n",
      "735       Modules in train mode\n",
      "0         Modules in eval mode\n"
     ]
    },
    {
     "data": {
      "application/vnd.jupyter.widget-view+json": {
       "model_id": "7fcb777ad1eb480ca66d00c6077182f3",
       "version_major": 2,
       "version_minor": 0
      },
      "text/plain": [
       "Sanity Checking: |          | 0/? [00:00<?, ?it/s]"
      ]
     },
     "metadata": {},
     "output_type": "display_data"
    },
    {
     "data": {
      "application/vnd.jupyter.widget-view+json": {
       "model_id": "cb3ff2417da44b879cffbe93c54327ae",
       "version_major": 2,
       "version_minor": 0
      },
      "text/plain": [
       "Training: |          | 0/? [00:00<?, ?it/s]"
      ]
     },
     "metadata": {},
     "output_type": "display_data"
    },
    {
     "data": {
      "application/vnd.jupyter.widget-view+json": {
       "model_id": "d81276c5ca634a29b0d51c9a0ee8d2b5",
       "version_major": 2,
       "version_minor": 0
      },
      "text/plain": [
       "Validation: |          | 0/? [00:00<?, ?it/s]"
      ]
     },
     "metadata": {},
     "output_type": "display_data"
    },
    {
     "name": "stderr",
     "output_type": "stream",
     "text": [
      "[I 2025-05-15 16:08:53,187] Trial 39 pruned. Trial was pruned at epoch 0.\n",
      "GPU available: True (cuda), used: True\n",
      "TPU available: False, using: 0 TPU cores\n",
      "HPU available: False, using: 0 HPUs\n",
      "LOCAL_RANK: 0 - CUDA_VISIBLE_DEVICES: [0]\n"
     ]
    },
    {
     "name": "stdout",
     "output_type": "stream",
     "text": [
      "Current value: 0.047301919438066026, Current params: {'output_chunk_length': 33, 'input_chunk_length': 66, 'hidden_size': 213, 'lstm_layers': 1, 'num_attention_heads': 4, 'hidden_continuous_size': 8, 'add_relative_index': True, 'dropout': 0.3, 'batch_size': 38, 'lr': 0.00014241193151556843, 'forecast_horizon': 8}\n",
      "Best value: 51.62609841430928, Best params: {'output_chunk_length': 40, 'input_chunk_length': 60, 'hidden_size': 222, 'lstm_layers': 1, 'num_attention_heads': 4, 'hidden_continuous_size': 25, 'add_relative_index': True, 'dropout': 0.3, 'batch_size': 43, 'lr': 0.00031002620708540484, 'forecast_horizon': 7}\n",
      "\n",
      "Iniciando Trial 40\n",
      "Hiperparâmetros: {'output_chunk_length': 40, 'input_chunk_length': 72, 'hidden_size': 255, 'lstm_layers': 1, 'num_attention_heads': 4, 'hidden_continuous_size': 26, 'add_relative_index': True, 'dropout': 0.25, 'batch_size': 42, 'lr': 2.88707327018461e-05, 'forecast_horizon': 1}\n",
      "\n",
      "Treinando o modelo...\n",
      "Train set: 6647 samples\n",
      "Validation set: 1662 samples\n"
     ]
    },
    {
     "name": "stderr",
     "output_type": "stream",
     "text": [
      "\n",
      "   | Name                              | Type                             | Params | Mode \n",
      "------------------------------------------------------------------------------------------------\n",
      "0  | criterion                         | HuberLoss                        | 0      | train\n",
      "1  | train_criterion                   | HuberLoss                        | 0      | train\n",
      "2  | val_criterion                     | HuberLoss                        | 0      | train\n",
      "3  | train_metrics                     | MetricCollection                 | 0      | train\n",
      "4  | val_metrics                       | MetricCollection                 | 0      | train\n",
      "5  | input_embeddings                  | _MultiEmbedding                  | 0      | train\n",
      "6  | static_covariates_vsn             | _VariableSelectionNetwork        | 0      | train\n",
      "7  | encoder_vsn                       | _VariableSelectionNetwork        | 510 K  | train\n",
      "8  | decoder_vsn                       | _VariableSelectionNetwork        | 187 K  | train\n",
      "9  | static_context_grn                | _GatedResidualNetwork            | 261 K  | train\n",
      "10 | static_context_hidden_encoder_grn | _GatedResidualNetwork            | 261 K  | train\n",
      "11 | static_context_cell_encoder_grn   | _GatedResidualNetwork            | 261 K  | train\n",
      "12 | static_context_enrichment         | _GatedResidualNetwork            | 261 K  | train\n",
      "13 | lstm_encoder                      | LSTM                             | 522 K  | train\n",
      "14 | lstm_decoder                      | LSTM                             | 522 K  | train\n",
      "15 | post_lstm_gan                     | _GateAddNorm                     | 131 K  | train\n",
      "16 | static_enrichment_grn             | _GatedResidualNetwork            | 326 K  | train\n",
      "17 | multihead_attn                    | _InterpretableMultiHeadAttention | 161 K  | train\n",
      "18 | post_attn_gan                     | _GateAddNorm                     | 131 K  | train\n",
      "19 | feed_forward_block                | _GatedResidualNetwork            | 261 K  | train\n",
      "20 | pre_output_gan                    | _GateAddNorm                     | 131 K  | train\n",
      "21 | output_layer                      | Linear                           | 2.0 K  | train\n",
      "------------------------------------------------------------------------------------------------\n",
      "3.9 M     Trainable params\n",
      "0         Non-trainable params\n",
      "3.9 M     Total params\n",
      "15.735    Total estimated model params size (MB)\n",
      "735       Modules in train mode\n",
      "0         Modules in eval mode\n"
     ]
    },
    {
     "data": {
      "application/vnd.jupyter.widget-view+json": {
       "model_id": "f4263672d7b94ed3b059ffdb86da1c8d",
       "version_major": 2,
       "version_minor": 0
      },
      "text/plain": [
       "Sanity Checking: |          | 0/? [00:00<?, ?it/s]"
      ]
     },
     "metadata": {},
     "output_type": "display_data"
    },
    {
     "data": {
      "application/vnd.jupyter.widget-view+json": {
       "model_id": "71bb16c3440c41a48d10ba1ef5908dcb",
       "version_major": 2,
       "version_minor": 0
      },
      "text/plain": [
       "Training: |          | 0/? [00:00<?, ?it/s]"
      ]
     },
     "metadata": {},
     "output_type": "display_data"
    },
    {
     "data": {
      "application/vnd.jupyter.widget-view+json": {
       "model_id": "2c5b5d7d87a2481e98314ee84d5c135f",
       "version_major": 2,
       "version_minor": 0
      },
      "text/plain": [
       "Validation: |          | 0/? [00:00<?, ?it/s]"
      ]
     },
     "metadata": {},
     "output_type": "display_data"
    },
    {
     "name": "stderr",
     "output_type": "stream",
     "text": [
      "Metric val_loss improved. New best score: 0.031\n"
     ]
    },
    {
     "data": {
      "application/vnd.jupyter.widget-view+json": {
       "model_id": "3dda0fad93fa4803931bdec2cdf69b84",
       "version_major": 2,
       "version_minor": 0
      },
      "text/plain": [
       "Validation: |          | 0/? [00:00<?, ?it/s]"
      ]
     },
     "metadata": {},
     "output_type": "display_data"
    },
    {
     "name": "stderr",
     "output_type": "stream",
     "text": [
      "Metric val_loss improved by 0.002 >= min_delta = 0.001. New best score: 0.029\n"
     ]
    },
    {
     "data": {
      "application/vnd.jupyter.widget-view+json": {
       "model_id": "8ba4feabfc9e4cdcb1dffd9082f9ed2a",
       "version_major": 2,
       "version_minor": 0
      },
      "text/plain": [
       "Validation: |          | 0/? [00:00<?, ?it/s]"
      ]
     },
     "metadata": {},
     "output_type": "display_data"
    },
    {
     "data": {
      "application/vnd.jupyter.widget-view+json": {
       "model_id": "d920feef48264aa29e9b1cdc4cb384ec",
       "version_major": 2,
       "version_minor": 0
      },
      "text/plain": [
       "Validation: |          | 0/? [00:00<?, ?it/s]"
      ]
     },
     "metadata": {},
     "output_type": "display_data"
    },
    {
     "data": {
      "application/vnd.jupyter.widget-view+json": {
       "model_id": "1146f44252fe42b1947575d8faa8647b",
       "version_major": 2,
       "version_minor": 0
      },
      "text/plain": [
       "Validation: |          | 0/? [00:00<?, ?it/s]"
      ]
     },
     "metadata": {},
     "output_type": "display_data"
    },
    {
     "data": {
      "application/vnd.jupyter.widget-view+json": {
       "model_id": "b35b251f898742169244e69f99367f97",
       "version_major": 2,
       "version_minor": 0
      },
      "text/plain": [
       "Validation: |          | 0/? [00:00<?, ?it/s]"
      ]
     },
     "metadata": {},
     "output_type": "display_data"
    },
    {
     "data": {
      "application/vnd.jupyter.widget-view+json": {
       "model_id": "132b2dbf3e404651aa6d843a6dcea418",
       "version_major": 2,
       "version_minor": 0
      },
      "text/plain": [
       "Validation: |          | 0/? [00:00<?, ?it/s]"
      ]
     },
     "metadata": {},
     "output_type": "display_data"
    },
    {
     "data": {
      "application/vnd.jupyter.widget-view+json": {
       "model_id": "33885f7f37864b49befbe5babf616bbe",
       "version_major": 2,
       "version_minor": 0
      },
      "text/plain": [
       "Validation: |          | 0/? [00:00<?, ?it/s]"
      ]
     },
     "metadata": {},
     "output_type": "display_data"
    },
    {
     "data": {
      "application/vnd.jupyter.widget-view+json": {
       "model_id": "8c473d3ef3db4a6da6352846621f379f",
       "version_major": 2,
       "version_minor": 0
      },
      "text/plain": [
       "Validation: |          | 0/? [00:00<?, ?it/s]"
      ]
     },
     "metadata": {},
     "output_type": "display_data"
    },
    {
     "data": {
      "application/vnd.jupyter.widget-view+json": {
       "model_id": "14e684a388d04587bc5072d0a823fb54",
       "version_major": 2,
       "version_minor": 0
      },
      "text/plain": [
       "Validation: |          | 0/? [00:00<?, ?it/s]"
      ]
     },
     "metadata": {},
     "output_type": "display_data"
    },
    {
     "data": {
      "application/vnd.jupyter.widget-view+json": {
       "model_id": "128ee2b307e94e788c68cd95c4626f42",
       "version_major": 2,
       "version_minor": 0
      },
      "text/plain": [
       "Validation: |          | 0/? [00:00<?, ?it/s]"
      ]
     },
     "metadata": {},
     "output_type": "display_data"
    },
    {
     "data": {
      "application/vnd.jupyter.widget-view+json": {
       "model_id": "a4ec23c5cdd64d39acf72c764cd9c114",
       "version_major": 2,
       "version_minor": 0
      },
      "text/plain": [
       "Validation: |          | 0/? [00:00<?, ?it/s]"
      ]
     },
     "metadata": {},
     "output_type": "display_data"
    },
    {
     "name": "stderr",
     "output_type": "stream",
     "text": [
      "Monitored metric val_loss did not improve in the last 10 records. Best score: 0.029. Signaling Trainer to stop.\n",
      "GPU available: True (cuda), used: True\n",
      "TPU available: False, using: 0 TPU cores\n",
      "HPU available: False, using: 0 HPUs\n",
      "LOCAL_RANK: 0 - CUDA_VISIBLE_DEVICES: [0]\n"
     ]
    },
    {
     "name": "stdout",
     "output_type": "stream",
     "text": [
      "Modelo carregado do checkpoint para trial 40\n"
     ]
    },
    {
     "name": "stderr",
     "output_type": "stream",
     "text": [
      "/home/eduardo/Documentos/Water-Cycle-Neural-Network/venv/lib/python3.12/site-packages/pytorch_lightning/trainer/connectors/data_connector.py:425: The 'predict_dataloader' does not have many workers which may be a bottleneck. Consider increasing the value of the `num_workers` argument` to `num_workers=11` in the `DataLoader` to improve performance.\n"
     ]
    },
    {
     "data": {
      "application/vnd.jupyter.widget-view+json": {
       "model_id": "3000c33193f54716a1ceadf443691685",
       "version_major": 2,
       "version_minor": 0
      },
      "text/plain": [
       "Predicting: |          | 0/? [00:00<?, ?it/s]"
      ]
     },
     "metadata": {},
     "output_type": "display_data"
    },
    {
     "name": "stderr",
     "output_type": "stream",
     "text": [
      "[I 2025-05-15 16:37:30,340] Trial 40 finished with value: 57.543167962973094 and parameters: {'output_chunk_length': 40, 'input_chunk_length': 72, 'hidden_size': 255, 'lstm_layers': 1, 'num_attention_heads': 4, 'hidden_continuous_size': 26, 'add_relative_index': True, 'dropout': 0.25, 'batch_size': 42, 'lr': 2.88707327018461e-05, 'forecast_horizon': 1}. Best is trial 36 with value: 51.62609841430928.\n"
     ]
    },
    {
     "name": "stdout",
     "output_type": "stream",
     "text": [
      "Iniciando a verificação das séries temporais para constância...\n",
      "\n",
      "Métricas de performance:\n",
      "                                     MSE        RMSE  ...           R2       SMAPE\n",
      "Temperature                     1.857535    1.362914  ...     0.454364   16.861443\n",
      "Precipitation_accumulated    4074.076474   63.828493  ... -4291.371132   12.598098\n",
      "Humidity                      140.168568   11.839281  ...    -1.155490   12.403319\n",
      "Wind_Speed_kmh                  0.403544    0.635251  ...    -0.185821  171.828077\n",
      "Soil_Moisture              367744.729656  606.419599  ...     0.503028    6.132886\n",
      "Soil_Temperature                5.398388    2.323443  ...     0.038099   29.308150\n",
      "Wind_Dir_Sin                    0.158564    0.398201  ...     0.012796  162.963556\n",
      "Wind_Dir_Cos                    0.200205    0.447443  ...     0.302647   48.249816\n",
      "\n",
      "[8 rows x 5 columns]\n",
      "O SMAPE desse fold foi 57.543167962973094\n",
      "Resultados do trial 40 salvos em optuna_iteration_metrics/trial_40.json\n",
      "Current value: 57.543167962973094, Current params: {'output_chunk_length': 40, 'input_chunk_length': 72, 'hidden_size': 255, 'lstm_layers': 1, 'num_attention_heads': 4, 'hidden_continuous_size': 26, 'add_relative_index': True, 'dropout': 0.25, 'batch_size': 42, 'lr': 2.88707327018461e-05, 'forecast_horizon': 1}\n",
      "Best value: 51.62609841430928, Best params: {'output_chunk_length': 40, 'input_chunk_length': 60, 'hidden_size': 222, 'lstm_layers': 1, 'num_attention_heads': 4, 'hidden_continuous_size': 25, 'add_relative_index': True, 'dropout': 0.3, 'batch_size': 43, 'lr': 0.00031002620708540484, 'forecast_horizon': 7}\n",
      "\n",
      "Iniciando Trial 41\n",
      "Hiperparâmetros: {'output_chunk_length': 26, 'input_chunk_length': 45, 'hidden_size': 163, 'lstm_layers': 1, 'num_attention_heads': 3, 'hidden_continuous_size': 23, 'add_relative_index': False, 'dropout': 0.0, 'batch_size': 27, 'lr': 0.002713877406712181, 'forecast_horizon': 13}\n",
      "\n",
      "Treinando o modelo...\n",
      "Train set: 6647 samples\n",
      "Validation set: 1662 samples\n"
     ]
    },
    {
     "name": "stderr",
     "output_type": "stream",
     "text": [
      "GPU available: True (cuda), used: True\n",
      "TPU available: False, using: 0 TPU cores\n",
      "HPU available: False, using: 0 HPUs\n",
      "LOCAL_RANK: 0 - CUDA_VISIBLE_DEVICES: [0]\n",
      "\n",
      "   | Name                              | Type                             | Params | Mode \n",
      "------------------------------------------------------------------------------------------------\n",
      "0  | criterion                         | HuberLoss                        | 0      | train\n",
      "1  | train_criterion                   | HuberLoss                        | 0      | train\n",
      "2  | val_criterion                     | HuberLoss                        | 0      | train\n",
      "3  | train_metrics                     | MetricCollection                 | 0      | train\n",
      "4  | val_metrics                       | MetricCollection                 | 0      | train\n",
      "5  | input_embeddings                  | _MultiEmbedding                  | 0      | train\n",
      "6  | static_covariates_vsn             | _VariableSelectionNetwork        | 0      | train\n",
      "7  | encoder_vsn                       | _VariableSelectionNetwork        | 299 K  | train\n",
      "8  | decoder_vsn                       | _VariableSelectionNetwork        | 102 K  | train\n",
      "9  | static_context_grn                | _GatedResidualNetwork            | 107 K  | train\n",
      "10 | static_context_hidden_encoder_grn | _GatedResidualNetwork            | 107 K  | train\n",
      "11 | static_context_cell_encoder_grn   | _GatedResidualNetwork            | 107 K  | train\n",
      "12 | static_context_enrichment         | _GatedResidualNetwork            | 107 K  | train\n",
      "13 | lstm_encoder                      | LSTM                             | 213 K  | train\n",
      "14 | lstm_decoder                      | LSTM                             | 213 K  | train\n",
      "15 | post_lstm_gan                     | _GateAddNorm                     | 53.8 K | train\n",
      "16 | static_enrichment_grn             | _GatedResidualNetwork            | 133 K  | train\n",
      "17 | multihead_attn                    | _InterpretableMultiHeadAttention | 70.8 K | train\n",
      "18 | post_attn_gan                     | _GateAddNorm                     | 53.8 K | train\n",
      "19 | feed_forward_block                | _GatedResidualNetwork            | 107 K  | train\n",
      "20 | pre_output_gan                    | _GateAddNorm                     | 53.8 K | train\n",
      "21 | output_layer                      | Linear                           | 1.3 K  | train\n",
      "------------------------------------------------------------------------------------------------\n",
      "1.7 M     Trainable params\n",
      "0         Non-trainable params\n",
      "1.7 M     Total params\n",
      "6.929     Total estimated model params size (MB)\n",
      "704       Modules in train mode\n",
      "0         Modules in eval mode\n"
     ]
    },
    {
     "data": {
      "application/vnd.jupyter.widget-view+json": {
       "model_id": "d634cb5d5d174f27b098186d7405a2f5",
       "version_major": 2,
       "version_minor": 0
      },
      "text/plain": [
       "Sanity Checking: |          | 0/? [00:00<?, ?it/s]"
      ]
     },
     "metadata": {},
     "output_type": "display_data"
    },
    {
     "data": {
      "application/vnd.jupyter.widget-view+json": {
       "model_id": "fe45278f913143bf970d848ae8ca4061",
       "version_major": 2,
       "version_minor": 0
      },
      "text/plain": [
       "Training: |          | 0/? [00:00<?, ?it/s]"
      ]
     },
     "metadata": {},
     "output_type": "display_data"
    },
    {
     "data": {
      "application/vnd.jupyter.widget-view+json": {
       "model_id": "6f60b3c3a9a644aca16d3d1e153d3e9c",
       "version_major": 2,
       "version_minor": 0
      },
      "text/plain": [
       "Validation: |          | 0/? [00:00<?, ?it/s]"
      ]
     },
     "metadata": {},
     "output_type": "display_data"
    },
    {
     "name": "stderr",
     "output_type": "stream",
     "text": [
      "[I 2025-05-15 16:38:40,724] Trial 41 pruned. Trial was pruned at epoch 0.\n"
     ]
    },
    {
     "name": "stdout",
     "output_type": "stream",
     "text": [
      "Current value: 0.04915716751851989, Current params: {'output_chunk_length': 26, 'input_chunk_length': 45, 'hidden_size': 163, 'lstm_layers': 1, 'num_attention_heads': 3, 'hidden_continuous_size': 23, 'add_relative_index': False, 'dropout': 0.0, 'batch_size': 27, 'lr': 0.002713877406712181, 'forecast_horizon': 13}\n",
      "Best value: 51.62609841430928, Best params: {'output_chunk_length': 40, 'input_chunk_length': 60, 'hidden_size': 222, 'lstm_layers': 1, 'num_attention_heads': 4, 'hidden_continuous_size': 25, 'add_relative_index': True, 'dropout': 0.3, 'batch_size': 43, 'lr': 0.00031002620708540484, 'forecast_horizon': 7}\n",
      "\n",
      "Iniciando Trial 42\n",
      "Hiperparâmetros: {'output_chunk_length': 16, 'input_chunk_length': 24, 'hidden_size': 245, 'lstm_layers': 1, 'num_attention_heads': 3, 'hidden_continuous_size': 23, 'add_relative_index': True, 'dropout': 0.2, 'batch_size': 61, 'lr': 0.0009614849334262289, 'forecast_horizon': 23}\n",
      "\n",
      "Treinando o modelo...\n",
      "Train set: 6647 samples\n",
      "Validation set: 1662 samples\n"
     ]
    },
    {
     "name": "stderr",
     "output_type": "stream",
     "text": [
      "GPU available: True (cuda), used: True\n",
      "TPU available: False, using: 0 TPU cores\n",
      "HPU available: False, using: 0 HPUs\n",
      "LOCAL_RANK: 0 - CUDA_VISIBLE_DEVICES: [0]\n",
      "\n",
      "   | Name                              | Type                             | Params | Mode \n",
      "------------------------------------------------------------------------------------------------\n",
      "0  | criterion                         | HuberLoss                        | 0      | train\n",
      "1  | train_criterion                   | HuberLoss                        | 0      | train\n",
      "2  | val_criterion                     | HuberLoss                        | 0      | train\n",
      "3  | train_metrics                     | MetricCollection                 | 0      | train\n",
      "4  | val_metrics                       | MetricCollection                 | 0      | train\n",
      "5  | input_embeddings                  | _MultiEmbedding                  | 0      | train\n",
      "6  | static_covariates_vsn             | _VariableSelectionNetwork        | 0      | train\n",
      "7  | encoder_vsn                       | _VariableSelectionNetwork        | 439 K  | train\n",
      "8  | decoder_vsn                       | _VariableSelectionNetwork        | 161 K  | train\n",
      "9  | static_context_grn                | _GatedResidualNetwork            | 241 K  | train\n",
      "10 | static_context_hidden_encoder_grn | _GatedResidualNetwork            | 241 K  | train\n",
      "11 | static_context_cell_encoder_grn   | _GatedResidualNetwork            | 241 K  | train\n",
      "12 | static_context_enrichment         | _GatedResidualNetwork            | 241 K  | train\n",
      "13 | lstm_encoder                      | LSTM                             | 482 K  | train\n",
      "14 | lstm_decoder                      | LSTM                             | 482 K  | train\n",
      "15 | post_lstm_gan                     | _GateAddNorm                     | 121 K  | train\n",
      "16 | static_enrichment_grn             | _GatedResidualNetwork            | 301 K  | train\n",
      "17 | multihead_attn                    | _InterpretableMultiHeadAttention | 159 K  | train\n",
      "18 | post_attn_gan                     | _GateAddNorm                     | 121 K  | train\n",
      "19 | feed_forward_block                | _GatedResidualNetwork            | 241 K  | train\n",
      "20 | pre_output_gan                    | _GateAddNorm                     | 121 K  | train\n",
      "21 | output_layer                      | Linear                           | 2.0 K  | train\n",
      "------------------------------------------------------------------------------------------------\n",
      "3.6 M     Trainable params\n",
      "0         Non-trainable params\n",
      "3.6 M     Total params\n",
      "14.393    Total estimated model params size (MB)\n",
      "733       Modules in train mode\n",
      "0         Modules in eval mode\n"
     ]
    },
    {
     "data": {
      "application/vnd.jupyter.widget-view+json": {
       "model_id": "6417ea6f9b2f443380eec85026fc966a",
       "version_major": 2,
       "version_minor": 0
      },
      "text/plain": [
       "Sanity Checking: |          | 0/? [00:00<?, ?it/s]"
      ]
     },
     "metadata": {},
     "output_type": "display_data"
    },
    {
     "data": {
      "application/vnd.jupyter.widget-view+json": {
       "model_id": "8d6439e2ae1a4131b180d6867d8cc847",
       "version_major": 2,
       "version_minor": 0
      },
      "text/plain": [
       "Training: |          | 0/? [00:00<?, ?it/s]"
      ]
     },
     "metadata": {},
     "output_type": "display_data"
    },
    {
     "data": {
      "application/vnd.jupyter.widget-view+json": {
       "model_id": "d7a6d388c14e4ee4801671deec140813",
       "version_major": 2,
       "version_minor": 0
      },
      "text/plain": [
       "Validation: |          | 0/? [00:00<?, ?it/s]"
      ]
     },
     "metadata": {},
     "output_type": "display_data"
    },
    {
     "name": "stderr",
     "output_type": "stream",
     "text": [
      "Metric val_loss improved. New best score: 0.030\n"
     ]
    },
    {
     "data": {
      "application/vnd.jupyter.widget-view+json": {
       "model_id": "d5196eb9e7cd4076ab18034986bc170a",
       "version_major": 2,
       "version_minor": 0
      },
      "text/plain": [
       "Validation: |          | 0/? [00:00<?, ?it/s]"
      ]
     },
     "metadata": {},
     "output_type": "display_data"
    },
    {
     "data": {
      "application/vnd.jupyter.widget-view+json": {
       "model_id": "48924c85fd894fbfb05fb6aa9811e1ec",
       "version_major": 2,
       "version_minor": 0
      },
      "text/plain": [
       "Validation: |          | 0/? [00:00<?, ?it/s]"
      ]
     },
     "metadata": {},
     "output_type": "display_data"
    },
    {
     "data": {
      "application/vnd.jupyter.widget-view+json": {
       "model_id": "5376b4acc3ee451796d5e716dc7fc1de",
       "version_major": 2,
       "version_minor": 0
      },
      "text/plain": [
       "Validation: |          | 0/? [00:00<?, ?it/s]"
      ]
     },
     "metadata": {},
     "output_type": "display_data"
    },
    {
     "data": {
      "application/vnd.jupyter.widget-view+json": {
       "model_id": "8f373bd45ad24cc9981d842b62d6ccff",
       "version_major": 2,
       "version_minor": 0
      },
      "text/plain": [
       "Validation: |          | 0/? [00:00<?, ?it/s]"
      ]
     },
     "metadata": {},
     "output_type": "display_data"
    },
    {
     "data": {
      "application/vnd.jupyter.widget-view+json": {
       "model_id": "c35aa2684d9d4e01a5a3c7df58b04132",
       "version_major": 2,
       "version_minor": 0
      },
      "text/plain": [
       "Validation: |          | 0/? [00:00<?, ?it/s]"
      ]
     },
     "metadata": {},
     "output_type": "display_data"
    },
    {
     "data": {
      "application/vnd.jupyter.widget-view+json": {
       "model_id": "c2f38d418ee94f61a0078a63fa7b19b3",
       "version_major": 2,
       "version_minor": 0
      },
      "text/plain": [
       "Validation: |          | 0/? [00:00<?, ?it/s]"
      ]
     },
     "metadata": {},
     "output_type": "display_data"
    },
    {
     "data": {
      "application/vnd.jupyter.widget-view+json": {
       "model_id": "fa058171b2054f73ab3ebd045d3fc424",
       "version_major": 2,
       "version_minor": 0
      },
      "text/plain": [
       "Validation: |          | 0/? [00:00<?, ?it/s]"
      ]
     },
     "metadata": {},
     "output_type": "display_data"
    },
    {
     "data": {
      "application/vnd.jupyter.widget-view+json": {
       "model_id": "62fed797466d4093a99f431124783436",
       "version_major": 2,
       "version_minor": 0
      },
      "text/plain": [
       "Validation: |          | 0/? [00:00<?, ?it/s]"
      ]
     },
     "metadata": {},
     "output_type": "display_data"
    },
    {
     "data": {
      "application/vnd.jupyter.widget-view+json": {
       "model_id": "435b7ad4f1fe423dac98e69b912a6ffb",
       "version_major": 2,
       "version_minor": 0
      },
      "text/plain": [
       "Validation: |          | 0/? [00:00<?, ?it/s]"
      ]
     },
     "metadata": {},
     "output_type": "display_data"
    },
    {
     "data": {
      "application/vnd.jupyter.widget-view+json": {
       "model_id": "4c0661a661a04826b48b14a7d907b936",
       "version_major": 2,
       "version_minor": 0
      },
      "text/plain": [
       "Validation: |          | 0/? [00:00<?, ?it/s]"
      ]
     },
     "metadata": {},
     "output_type": "display_data"
    },
    {
     "name": "stderr",
     "output_type": "stream",
     "text": [
      "Monitored metric val_loss did not improve in the last 10 records. Best score: 0.030. Signaling Trainer to stop.\n",
      "`predict()` was called with `n > output_chunk_length`: using auto-regression to forecast the values after `output_chunk_length` points. The model will access `(n - output_chunk_length)` future values of your `past_covariates` (relative to the first predicted time step). To hide this warning, set `show_warnings=False`.\n",
      "GPU available: True (cuda), used: True\n",
      "TPU available: False, using: 0 TPU cores\n",
      "HPU available: False, using: 0 HPUs\n",
      "LOCAL_RANK: 0 - CUDA_VISIBLE_DEVICES: [0]\n"
     ]
    },
    {
     "name": "stdout",
     "output_type": "stream",
     "text": [
      "Modelo carregado do checkpoint para trial 42\n"
     ]
    },
    {
     "name": "stderr",
     "output_type": "stream",
     "text": [
      "/home/eduardo/Documentos/Water-Cycle-Neural-Network/venv/lib/python3.12/site-packages/pytorch_lightning/trainer/connectors/data_connector.py:425: The 'predict_dataloader' does not have many workers which may be a bottleneck. Consider increasing the value of the `num_workers` argument` to `num_workers=11` in the `DataLoader` to improve performance.\n"
     ]
    },
    {
     "data": {
      "application/vnd.jupyter.widget-view+json": {
       "model_id": "f7ac64450ba34a11a2a6c04885b6f01f",
       "version_major": 2,
       "version_minor": 0
      },
      "text/plain": [
       "Predicting: |          | 0/? [00:00<?, ?it/s]"
      ]
     },
     "metadata": {},
     "output_type": "display_data"
    },
    {
     "name": "stderr",
     "output_type": "stream",
     "text": [
      "[I 2025-05-15 16:49:39,159] Trial 42 finished with value: 60.47415405994416 and parameters: {'output_chunk_length': 16, 'input_chunk_length': 24, 'hidden_size': 245, 'lstm_layers': 1, 'num_attention_heads': 3, 'hidden_continuous_size': 23, 'add_relative_index': True, 'dropout': 0.2, 'batch_size': 61, 'lr': 0.0009614849334262289, 'forecast_horizon': 23}. Best is trial 36 with value: 51.62609841430928.\n"
     ]
    },
    {
     "name": "stdout",
     "output_type": "stream",
     "text": [
      "Iniciando a verificação das séries temporais para constância...\n",
      "\n",
      "Métricas de performance:\n",
      "                                     MSE        RMSE  ...          R2       SMAPE\n",
      "Temperature                     7.274162    2.697065  ...   -1.161017   31.628112\n",
      "Precipitation_accumulated     146.550659   12.105811  ... -152.895907    1.893056\n",
      "Humidity                       63.743034    7.983923  ...    0.020720    8.198498\n",
      "Wind_Speed_kmh                  0.425659    0.652426  ...   -0.232497  179.074737\n",
      "Soil_Moisture              279976.145613  529.127721  ...    0.626879    4.753007\n",
      "Soil_Temperature                7.888876    2.808714  ...   -0.415534   35.059594\n",
      "Wind_Dir_Sin                    0.165643    0.406993  ...   -0.016983  173.408696\n",
      "Wind_Dir_Cos                    0.178644    0.422662  ...    0.385068   49.777532\n",
      "\n",
      "[8 rows x 5 columns]\n",
      "O SMAPE desse fold foi 60.47415405994416\n",
      "Resultados do trial 42 salvos em optuna_iteration_metrics/trial_42.json\n",
      "Current value: 60.47415405994416, Current params: {'output_chunk_length': 16, 'input_chunk_length': 24, 'hidden_size': 245, 'lstm_layers': 1, 'num_attention_heads': 3, 'hidden_continuous_size': 23, 'add_relative_index': True, 'dropout': 0.2, 'batch_size': 61, 'lr': 0.0009614849334262289, 'forecast_horizon': 23}\n",
      "Best value: 51.62609841430928, Best params: {'output_chunk_length': 40, 'input_chunk_length': 60, 'hidden_size': 222, 'lstm_layers': 1, 'num_attention_heads': 4, 'hidden_continuous_size': 25, 'add_relative_index': True, 'dropout': 0.3, 'batch_size': 43, 'lr': 0.00031002620708540484, 'forecast_horizon': 7}\n",
      "\n",
      "Iniciando Trial 43\n",
      "Hiperparâmetros: {'output_chunk_length': 49, 'input_chunk_length': 111, 'hidden_size': 136, 'lstm_layers': 1, 'num_attention_heads': 3, 'hidden_continuous_size': 21, 'add_relative_index': True, 'dropout': 0.1, 'batch_size': 53, 'lr': 0.000584762976505246, 'forecast_horizon': 4}\n",
      "\n",
      "Treinando o modelo...\n",
      "Train set: 6647 samples\n",
      "Validation set: 1662 samples\n"
     ]
    },
    {
     "name": "stderr",
     "output_type": "stream",
     "text": [
      "GPU available: True (cuda), used: True\n",
      "TPU available: False, using: 0 TPU cores\n",
      "HPU available: False, using: 0 HPUs\n",
      "LOCAL_RANK: 0 - CUDA_VISIBLE_DEVICES: [0]\n",
      "\n",
      "   | Name                              | Type                             | Params | Mode \n",
      "------------------------------------------------------------------------------------------------\n",
      "0  | criterion                         | HuberLoss                        | 0      | train\n",
      "1  | train_criterion                   | HuberLoss                        | 0      | train\n",
      "2  | val_criterion                     | HuberLoss                        | 0      | train\n",
      "3  | train_metrics                     | MetricCollection                 | 0      | train\n",
      "4  | val_metrics                       | MetricCollection                 | 0      | train\n",
      "5  | input_embeddings                  | _MultiEmbedding                  | 0      | train\n",
      "6  | static_covariates_vsn             | _VariableSelectionNetwork        | 0      | train\n",
      "7  | encoder_vsn                       | _VariableSelectionNetwork        | 245 K  | train\n",
      "8  | decoder_vsn                       | _VariableSelectionNetwork        | 88.4 K | train\n",
      "9  | static_context_grn                | _GatedResidualNetwork            | 74.8 K | train\n",
      "10 | static_context_hidden_encoder_grn | _GatedResidualNetwork            | 74.8 K | train\n",
      "11 | static_context_cell_encoder_grn   | _GatedResidualNetwork            | 74.8 K | train\n",
      "12 | static_context_enrichment         | _GatedResidualNetwork            | 74.8 K | train\n",
      "13 | lstm_encoder                      | LSTM                             | 149 K  | train\n",
      "14 | lstm_decoder                      | LSTM                             | 149 K  | train\n",
      "15 | post_lstm_gan                     | _GateAddNorm                     | 37.5 K | train\n",
      "16 | static_enrichment_grn             | _GatedResidualNetwork            | 93.3 K | train\n",
      "17 | multihead_attn                    | _InterpretableMultiHeadAttention | 49.3 K | train\n",
      "18 | post_attn_gan                     | _GateAddNorm                     | 37.5 K | train\n",
      "19 | feed_forward_block                | _GatedResidualNetwork            | 74.8 K | train\n",
      "20 | pre_output_gan                    | _GateAddNorm                     | 37.5 K | train\n",
      "21 | output_layer                      | Linear                           | 1.1 K  | train\n",
      "------------------------------------------------------------------------------------------------\n",
      "1.3 M     Trainable params\n",
      "0         Non-trainable params\n",
      "1.3 M     Total params\n",
      "5.048     Total estimated model params size (MB)\n",
      "733       Modules in train mode\n",
      "0         Modules in eval mode\n"
     ]
    },
    {
     "data": {
      "application/vnd.jupyter.widget-view+json": {
       "model_id": "0d68e0b21f4a46448d7cef4d34612538",
       "version_major": 2,
       "version_minor": 0
      },
      "text/plain": [
       "Sanity Checking: |          | 0/? [00:00<?, ?it/s]"
      ]
     },
     "metadata": {},
     "output_type": "display_data"
    },
    {
     "data": {
      "application/vnd.jupyter.widget-view+json": {
       "model_id": "8f581fdf00b049a49e74c83fef261434",
       "version_major": 2,
       "version_minor": 0
      },
      "text/plain": [
       "Training: |          | 0/? [00:00<?, ?it/s]"
      ]
     },
     "metadata": {},
     "output_type": "display_data"
    },
    {
     "data": {
      "application/vnd.jupyter.widget-view+json": {
       "model_id": "576a34dcc56f4e80be3e753b58c748eb",
       "version_major": 2,
       "version_minor": 0
      },
      "text/plain": [
       "Validation: |          | 0/? [00:00<?, ?it/s]"
      ]
     },
     "metadata": {},
     "output_type": "display_data"
    },
    {
     "name": "stderr",
     "output_type": "stream",
     "text": [
      "Metric val_loss improved. New best score: 0.030\n"
     ]
    },
    {
     "data": {
      "application/vnd.jupyter.widget-view+json": {
       "model_id": "fe5e6013fe894a6bb37751a2af0fbb6b",
       "version_major": 2,
       "version_minor": 0
      },
      "text/plain": [
       "Validation: |          | 0/? [00:00<?, ?it/s]"
      ]
     },
     "metadata": {},
     "output_type": "display_data"
    },
    {
     "name": "stderr",
     "output_type": "stream",
     "text": [
      "Metric val_loss improved by 0.005 >= min_delta = 0.001. New best score: 0.025\n"
     ]
    },
    {
     "data": {
      "application/vnd.jupyter.widget-view+json": {
       "model_id": "6cbbcebb2cad4902bdccee434475b8e4",
       "version_major": 2,
       "version_minor": 0
      },
      "text/plain": [
       "Validation: |          | 0/? [00:00<?, ?it/s]"
      ]
     },
     "metadata": {},
     "output_type": "display_data"
    },
    {
     "data": {
      "application/vnd.jupyter.widget-view+json": {
       "model_id": "7771ef629bde40cfa5766c469dbab1f0",
       "version_major": 2,
       "version_minor": 0
      },
      "text/plain": [
       "Validation: |          | 0/? [00:00<?, ?it/s]"
      ]
     },
     "metadata": {},
     "output_type": "display_data"
    },
    {
     "data": {
      "application/vnd.jupyter.widget-view+json": {
       "model_id": "955e55f94e9840c2b32814be3a246429",
       "version_major": 2,
       "version_minor": 0
      },
      "text/plain": [
       "Validation: |          | 0/? [00:00<?, ?it/s]"
      ]
     },
     "metadata": {},
     "output_type": "display_data"
    },
    {
     "data": {
      "application/vnd.jupyter.widget-view+json": {
       "model_id": "e616c5fdc1984b3a994e788ee76501d9",
       "version_major": 2,
       "version_minor": 0
      },
      "text/plain": [
       "Validation: |          | 0/? [00:00<?, ?it/s]"
      ]
     },
     "metadata": {},
     "output_type": "display_data"
    },
    {
     "data": {
      "application/vnd.jupyter.widget-view+json": {
       "model_id": "e69aab433a5d4265a54824c58d265058",
       "version_major": 2,
       "version_minor": 0
      },
      "text/plain": [
       "Validation: |          | 0/? [00:00<?, ?it/s]"
      ]
     },
     "metadata": {},
     "output_type": "display_data"
    },
    {
     "data": {
      "application/vnd.jupyter.widget-view+json": {
       "model_id": "c9495db2fd3f468da07dc722e9b64fcd",
       "version_major": 2,
       "version_minor": 0
      },
      "text/plain": [
       "Validation: |          | 0/? [00:00<?, ?it/s]"
      ]
     },
     "metadata": {},
     "output_type": "display_data"
    },
    {
     "data": {
      "application/vnd.jupyter.widget-view+json": {
       "model_id": "23afba23405d43c9868d24eb117c340d",
       "version_major": 2,
       "version_minor": 0
      },
      "text/plain": [
       "Validation: |          | 0/? [00:00<?, ?it/s]"
      ]
     },
     "metadata": {},
     "output_type": "display_data"
    },
    {
     "data": {
      "application/vnd.jupyter.widget-view+json": {
       "model_id": "cf61197b663c485bb8b13e4cb6ebefdf",
       "version_major": 2,
       "version_minor": 0
      },
      "text/plain": [
       "Validation: |          | 0/? [00:00<?, ?it/s]"
      ]
     },
     "metadata": {},
     "output_type": "display_data"
    },
    {
     "data": {
      "application/vnd.jupyter.widget-view+json": {
       "model_id": "2eab70adc520474bb25a1466ed65ddb8",
       "version_major": 2,
       "version_minor": 0
      },
      "text/plain": [
       "Validation: |          | 0/? [00:00<?, ?it/s]"
      ]
     },
     "metadata": {},
     "output_type": "display_data"
    },
    {
     "data": {
      "application/vnd.jupyter.widget-view+json": {
       "model_id": "787befebec6d4dbd891dd8763fa642c8",
       "version_major": 2,
       "version_minor": 0
      },
      "text/plain": [
       "Validation: |          | 0/? [00:00<?, ?it/s]"
      ]
     },
     "metadata": {},
     "output_type": "display_data"
    },
    {
     "name": "stderr",
     "output_type": "stream",
     "text": [
      "Monitored metric val_loss did not improve in the last 10 records. Best score: 0.025. Signaling Trainer to stop.\n",
      "GPU available: True (cuda), used: True\n",
      "TPU available: False, using: 0 TPU cores\n",
      "HPU available: False, using: 0 HPUs\n",
      "LOCAL_RANK: 0 - CUDA_VISIBLE_DEVICES: [0]\n"
     ]
    },
    {
     "name": "stdout",
     "output_type": "stream",
     "text": [
      "Modelo carregado do checkpoint para trial 43\n"
     ]
    },
    {
     "name": "stderr",
     "output_type": "stream",
     "text": [
      "/home/eduardo/Documentos/Water-Cycle-Neural-Network/venv/lib/python3.12/site-packages/pytorch_lightning/trainer/connectors/data_connector.py:425: The 'predict_dataloader' does not have many workers which may be a bottleneck. Consider increasing the value of the `num_workers` argument` to `num_workers=11` in the `DataLoader` to improve performance.\n"
     ]
    },
    {
     "data": {
      "application/vnd.jupyter.widget-view+json": {
       "model_id": "b335ce0d925d458e80b213b96560b6e4",
       "version_major": 2,
       "version_minor": 0
      },
      "text/plain": [
       "Predicting: |          | 0/? [00:00<?, ?it/s]"
      ]
     },
     "metadata": {},
     "output_type": "display_data"
    },
    {
     "name": "stderr",
     "output_type": "stream",
     "text": [
      "[I 2025-05-15 17:16:09,232] Trial 43 finished with value: 56.321286934829104 and parameters: {'output_chunk_length': 49, 'input_chunk_length': 111, 'hidden_size': 136, 'lstm_layers': 1, 'num_attention_heads': 3, 'hidden_continuous_size': 21, 'add_relative_index': True, 'dropout': 0.1, 'batch_size': 53, 'lr': 0.000584762976505246, 'forecast_horizon': 4}. Best is trial 36 with value: 51.62609841430928.\n"
     ]
    },
    {
     "name": "stdout",
     "output_type": "stream",
     "text": [
      "Iniciando a verificação das séries temporais para constância...\n",
      "\n",
      "Métricas de performance:\n",
      "                                     MSE        RMSE  ...         R2       SMAPE\n",
      "Temperature                     1.940645    1.393070  ...   0.429438   17.304331\n",
      "Precipitation_accumulated      36.073112    6.006090  ... -36.993555    1.074690\n",
      "Humidity                       66.183830    8.135344  ...  -0.017678    8.424871\n",
      "Wind_Speed_kmh                  0.266567    0.516301  ...   0.217782  170.194719\n",
      "Soil_Moisture              440104.590751  663.403792  ...   0.406016    6.534128\n",
      "Soil_Temperature                2.443111    1.563045  ...   0.564393   27.900238\n",
      "Wind_Dir_Sin                    0.148896    0.385870  ...   0.074212  165.791752\n",
      "Wind_Dir_Cos                    0.178045    0.421954  ...   0.380530   53.345566\n",
      "\n",
      "[8 rows x 5 columns]\n",
      "O SMAPE desse fold foi 56.321286934829104\n",
      "Resultados do trial 43 salvos em optuna_iteration_metrics/trial_43.json\n",
      "Current value: 56.321286934829104, Current params: {'output_chunk_length': 49, 'input_chunk_length': 111, 'hidden_size': 136, 'lstm_layers': 1, 'num_attention_heads': 3, 'hidden_continuous_size': 21, 'add_relative_index': True, 'dropout': 0.1, 'batch_size': 53, 'lr': 0.000584762976505246, 'forecast_horizon': 4}\n",
      "Best value: 51.62609841430928, Best params: {'output_chunk_length': 40, 'input_chunk_length': 60, 'hidden_size': 222, 'lstm_layers': 1, 'num_attention_heads': 4, 'hidden_continuous_size': 25, 'add_relative_index': True, 'dropout': 0.3, 'batch_size': 43, 'lr': 0.00031002620708540484, 'forecast_horizon': 7}\n",
      "\n",
      "Iniciando Trial 44\n",
      "Hiperparâmetros: {'output_chunk_length': 57, 'input_chunk_length': 118, 'hidden_size': 139, 'lstm_layers': 1, 'num_attention_heads': 3, 'hidden_continuous_size': 20, 'add_relative_index': True, 'dropout': 0.1, 'batch_size': 49, 'lr': 5.99725305561161e-05, 'forecast_horizon': 3}\n",
      "\n",
      "Treinando o modelo...\n",
      "Train set: 6647 samples\n",
      "Validation set: 1662 samples\n"
     ]
    },
    {
     "name": "stderr",
     "output_type": "stream",
     "text": [
      "GPU available: True (cuda), used: True\n",
      "TPU available: False, using: 0 TPU cores\n",
      "HPU available: False, using: 0 HPUs\n",
      "LOCAL_RANK: 0 - CUDA_VISIBLE_DEVICES: [0]\n",
      "\n",
      "   | Name                              | Type                             | Params | Mode \n",
      "------------------------------------------------------------------------------------------------\n",
      "0  | criterion                         | HuberLoss                        | 0      | train\n",
      "1  | train_criterion                   | HuberLoss                        | 0      | train\n",
      "2  | val_criterion                     | HuberLoss                        | 0      | train\n",
      "3  | train_metrics                     | MetricCollection                 | 0      | train\n",
      "4  | val_metrics                       | MetricCollection                 | 0      | train\n",
      "5  | input_embeddings                  | _MultiEmbedding                  | 0      | train\n",
      "6  | static_covariates_vsn             | _VariableSelectionNetwork        | 0      | train\n",
      "7  | encoder_vsn                       | _VariableSelectionNetwork        | 238 K  | train\n",
      "8  | decoder_vsn                       | _VariableSelectionNetwork        | 86.0 K | train\n",
      "9  | static_context_grn                | _GatedResidualNetwork            | 78.1 K | train\n",
      "10 | static_context_hidden_encoder_grn | _GatedResidualNetwork            | 78.1 K | train\n",
      "11 | static_context_cell_encoder_grn   | _GatedResidualNetwork            | 78.1 K | train\n",
      "12 | static_context_enrichment         | _GatedResidualNetwork            | 78.1 K | train\n",
      "13 | lstm_encoder                      | LSTM                             | 155 K  | train\n",
      "14 | lstm_decoder                      | LSTM                             | 155 K  | train\n",
      "15 | post_lstm_gan                     | _GateAddNorm                     | 39.2 K | train\n",
      "16 | static_enrichment_grn             | _GatedResidualNetwork            | 97.4 K | train\n",
      "17 | multihead_attn                    | _InterpretableMultiHeadAttention | 51.5 K | train\n",
      "18 | post_attn_gan                     | _GateAddNorm                     | 39.2 K | train\n",
      "19 | feed_forward_block                | _GatedResidualNetwork            | 78.1 K | train\n",
      "20 | pre_output_gan                    | _GateAddNorm                     | 39.2 K | train\n",
      "21 | output_layer                      | Linear                           | 1.1 K  | train\n",
      "------------------------------------------------------------------------------------------------\n",
      "1.3 M     Trainable params\n",
      "0         Non-trainable params\n",
      "1.3 M     Total params\n",
      "5.175     Total estimated model params size (MB)\n",
      "733       Modules in train mode\n",
      "0         Modules in eval mode\n"
     ]
    },
    {
     "data": {
      "application/vnd.jupyter.widget-view+json": {
       "model_id": "185cb232a62d4962810973216fc61b36",
       "version_major": 2,
       "version_minor": 0
      },
      "text/plain": [
       "Sanity Checking: |          | 0/? [00:00<?, ?it/s]"
      ]
     },
     "metadata": {},
     "output_type": "display_data"
    },
    {
     "data": {
      "application/vnd.jupyter.widget-view+json": {
       "model_id": "3367cc52da6d46edbaba901fbe938b0b",
       "version_major": 2,
       "version_minor": 0
      },
      "text/plain": [
       "Training: |          | 0/? [00:00<?, ?it/s]"
      ]
     },
     "metadata": {},
     "output_type": "display_data"
    },
    {
     "data": {
      "application/vnd.jupyter.widget-view+json": {
       "model_id": "5367b17a260d4d02bd07298624e6c39a",
       "version_major": 2,
       "version_minor": 0
      },
      "text/plain": [
       "Validation: |          | 0/? [00:00<?, ?it/s]"
      ]
     },
     "metadata": {},
     "output_type": "display_data"
    },
    {
     "name": "stderr",
     "output_type": "stream",
     "text": [
      "[I 2025-05-15 17:18:41,291] Trial 44 pruned. Trial was pruned at epoch 0.\n"
     ]
    },
    {
     "name": "stdout",
     "output_type": "stream",
     "text": [
      "Current value: 0.03661896009896891, Current params: {'output_chunk_length': 57, 'input_chunk_length': 118, 'hidden_size': 139, 'lstm_layers': 1, 'num_attention_heads': 3, 'hidden_continuous_size': 20, 'add_relative_index': True, 'dropout': 0.1, 'batch_size': 49, 'lr': 5.99725305561161e-05, 'forecast_horizon': 3}\n",
      "Best value: 51.62609841430928, Best params: {'output_chunk_length': 40, 'input_chunk_length': 60, 'hidden_size': 222, 'lstm_layers': 1, 'num_attention_heads': 4, 'hidden_continuous_size': 25, 'add_relative_index': True, 'dropout': 0.3, 'batch_size': 43, 'lr': 0.00031002620708540484, 'forecast_horizon': 7}\n",
      "\n",
      "Iniciando Trial 45\n",
      "Hiperparâmetros: {'output_chunk_length': 49, 'input_chunk_length': 109, 'hidden_size': 125, 'lstm_layers': 1, 'num_attention_heads': 3, 'hidden_continuous_size': 14, 'add_relative_index': True, 'dropout': 0.1, 'batch_size': 58, 'lr': 0.0005777472832056055, 'forecast_horizon': 5}\n",
      "\n",
      "Treinando o modelo...\n",
      "Train set: 6647 samples\n",
      "Validation set: 1662 samples\n"
     ]
    },
    {
     "name": "stderr",
     "output_type": "stream",
     "text": [
      "GPU available: True (cuda), used: True\n",
      "TPU available: False, using: 0 TPU cores\n",
      "HPU available: False, using: 0 HPUs\n",
      "LOCAL_RANK: 0 - CUDA_VISIBLE_DEVICES: [0]\n",
      "\n",
      "   | Name                              | Type                             | Params | Mode \n",
      "------------------------------------------------------------------------------------------------\n",
      "0  | criterion                         | HuberLoss                        | 0      | train\n",
      "1  | train_criterion                   | HuberLoss                        | 0      | train\n",
      "2  | val_criterion                     | HuberLoss                        | 0      | train\n",
      "3  | train_metrics                     | MetricCollection                 | 0      | train\n",
      "4  | val_metrics                       | MetricCollection                 | 0      | train\n",
      "5  | input_embeddings                  | _MultiEmbedding                  | 0      | train\n",
      "6  | static_covariates_vsn             | _VariableSelectionNetwork        | 0      | train\n",
      "7  | encoder_vsn                       | _VariableSelectionNetwork        | 158 K  | train\n",
      "8  | decoder_vsn                       | _VariableSelectionNetwork        | 56.6 K | train\n",
      "9  | static_context_grn                | _GatedResidualNetwork            | 63.2 K | train\n",
      "10 | static_context_hidden_encoder_grn | _GatedResidualNetwork            | 63.2 K | train\n",
      "11 | static_context_cell_encoder_grn   | _GatedResidualNetwork            | 63.2 K | train\n",
      "12 | static_context_enrichment         | _GatedResidualNetwork            | 63.2 K | train\n",
      "13 | lstm_encoder                      | LSTM                             | 126 K  | train\n",
      "14 | lstm_decoder                      | LSTM                             | 126 K  | train\n",
      "15 | post_lstm_gan                     | _GateAddNorm                     | 31.8 K | train\n",
      "16 | static_enrichment_grn             | _GatedResidualNetwork            | 78.9 K | train\n",
      "17 | multihead_attn                    | _InterpretableMultiHeadAttention | 41.3 K | train\n",
      "18 | post_attn_gan                     | _GateAddNorm                     | 31.8 K | train\n",
      "19 | feed_forward_block                | _GatedResidualNetwork            | 63.2 K | train\n",
      "20 | pre_output_gan                    | _GateAddNorm                     | 31.8 K | train\n",
      "21 | output_layer                      | Linear                           | 1.0 K  | train\n",
      "------------------------------------------------------------------------------------------------\n",
      "998 K     Trainable params\n",
      "0         Non-trainable params\n",
      "998 K     Total params\n",
      "3.996     Total estimated model params size (MB)\n",
      "733       Modules in train mode\n",
      "0         Modules in eval mode\n"
     ]
    },
    {
     "data": {
      "application/vnd.jupyter.widget-view+json": {
       "model_id": "f4865e7332f04ea09cb9b0b210da2a03",
       "version_major": 2,
       "version_minor": 0
      },
      "text/plain": [
       "Sanity Checking: |          | 0/? [00:00<?, ?it/s]"
      ]
     },
     "metadata": {},
     "output_type": "display_data"
    },
    {
     "data": {
      "application/vnd.jupyter.widget-view+json": {
       "model_id": "c9edd29d48424de09e858515bccfe86f",
       "version_major": 2,
       "version_minor": 0
      },
      "text/plain": [
       "Training: |          | 0/? [00:00<?, ?it/s]"
      ]
     },
     "metadata": {},
     "output_type": "display_data"
    },
    {
     "data": {
      "application/vnd.jupyter.widget-view+json": {
       "model_id": "2c858460a85c4d56878e9a6f7b48e99e",
       "version_major": 2,
       "version_minor": 0
      },
      "text/plain": [
       "Validation: |          | 0/? [00:00<?, ?it/s]"
      ]
     },
     "metadata": {},
     "output_type": "display_data"
    },
    {
     "name": "stderr",
     "output_type": "stream",
     "text": [
      "[I 2025-05-15 17:21:11,619] Trial 45 pruned. Trial was pruned at epoch 0.\n"
     ]
    },
    {
     "name": "stdout",
     "output_type": "stream",
     "text": [
      "Current value: 0.046505509112251944, Current params: {'output_chunk_length': 49, 'input_chunk_length': 109, 'hidden_size': 125, 'lstm_layers': 1, 'num_attention_heads': 3, 'hidden_continuous_size': 14, 'add_relative_index': True, 'dropout': 0.1, 'batch_size': 58, 'lr': 0.0005777472832056055, 'forecast_horizon': 5}\n",
      "Best value: 51.62609841430928, Best params: {'output_chunk_length': 40, 'input_chunk_length': 60, 'hidden_size': 222, 'lstm_layers': 1, 'num_attention_heads': 4, 'hidden_continuous_size': 25, 'add_relative_index': True, 'dropout': 0.3, 'batch_size': 43, 'lr': 0.00031002620708540484, 'forecast_horizon': 7}\n",
      "\n",
      "Iniciando Trial 46\n",
      "Hiperparâmetros: {'output_chunk_length': 55, 'input_chunk_length': 104, 'hidden_size': 149, 'lstm_layers': 1, 'num_attention_heads': 4, 'hidden_continuous_size': 4, 'add_relative_index': True, 'dropout': 0.15000000000000002, 'batch_size': 52, 'lr': 0.0003257858474763924, 'forecast_horizon': 2}\n",
      "\n",
      "Treinando o modelo...\n",
      "Train set: 6647 samples\n",
      "Validation set: 1662 samples\n"
     ]
    },
    {
     "name": "stderr",
     "output_type": "stream",
     "text": [
      "GPU available: True (cuda), used: True\n",
      "TPU available: False, using: 0 TPU cores\n",
      "HPU available: False, using: 0 HPUs\n",
      "LOCAL_RANK: 0 - CUDA_VISIBLE_DEVICES: [0]\n",
      "\n",
      "   | Name                              | Type                             | Params | Mode \n",
      "------------------------------------------------------------------------------------------------\n",
      "0  | criterion                         | HuberLoss                        | 0      | train\n",
      "1  | train_criterion                   | HuberLoss                        | 0      | train\n",
      "2  | val_criterion                     | HuberLoss                        | 0      | train\n",
      "3  | train_metrics                     | MetricCollection                 | 0      | train\n",
      "4  | val_metrics                       | MetricCollection                 | 0      | train\n",
      "5  | input_embeddings                  | _MultiEmbedding                  | 0      | train\n",
      "6  | static_covariates_vsn             | _VariableSelectionNetwork        | 0      | train\n",
      "7  | encoder_vsn                       | _VariableSelectionNetwork        | 76.7 K | train\n",
      "8  | decoder_vsn                       | _VariableSelectionNetwork        | 27.7 K | train\n",
      "9  | static_context_grn                | _GatedResidualNetwork            | 89.7 K | train\n",
      "10 | static_context_hidden_encoder_grn | _GatedResidualNetwork            | 89.7 K | train\n",
      "11 | static_context_cell_encoder_grn   | _GatedResidualNetwork            | 89.7 K | train\n",
      "12 | static_context_enrichment         | _GatedResidualNetwork            | 89.7 K | train\n",
      "13 | lstm_encoder                      | LSTM                             | 178 K  | train\n",
      "14 | lstm_decoder                      | LSTM                             | 178 K  | train\n",
      "15 | post_lstm_gan                     | _GateAddNorm                     | 45.0 K | train\n",
      "16 | static_enrichment_grn             | _GatedResidualNetwork            | 111 K  | train\n",
      "17 | multihead_attn                    | _InterpretableMultiHeadAttention | 55.5 K | train\n",
      "18 | post_attn_gan                     | _GateAddNorm                     | 45.0 K | train\n",
      "19 | feed_forward_block                | _GatedResidualNetwork            | 89.7 K | train\n",
      "20 | pre_output_gan                    | _GateAddNorm                     | 45.0 K | train\n",
      "21 | output_layer                      | Linear                           | 1.2 K  | train\n",
      "------------------------------------------------------------------------------------------------\n",
      "1.2 M     Trainable params\n",
      "0         Non-trainable params\n",
      "1.2 M     Total params\n",
      "4.856     Total estimated model params size (MB)\n",
      "735       Modules in train mode\n",
      "0         Modules in eval mode\n"
     ]
    },
    {
     "data": {
      "application/vnd.jupyter.widget-view+json": {
       "model_id": "3a6a6a94217b43cf8061202e7ae9dbd5",
       "version_major": 2,
       "version_minor": 0
      },
      "text/plain": [
       "Sanity Checking: |          | 0/? [00:00<?, ?it/s]"
      ]
     },
     "metadata": {},
     "output_type": "display_data"
    },
    {
     "data": {
      "application/vnd.jupyter.widget-view+json": {
       "model_id": "cccf4a4ad78c459ea17b5ed50a10b90e",
       "version_major": 2,
       "version_minor": 0
      },
      "text/plain": [
       "Training: |          | 0/? [00:00<?, ?it/s]"
      ]
     },
     "metadata": {},
     "output_type": "display_data"
    },
    {
     "data": {
      "application/vnd.jupyter.widget-view+json": {
       "model_id": "e2dd1b4692a54dbf93ecacaedd63ffd2",
       "version_major": 2,
       "version_minor": 0
      },
      "text/plain": [
       "Validation: |          | 0/? [00:00<?, ?it/s]"
      ]
     },
     "metadata": {},
     "output_type": "display_data"
    },
    {
     "name": "stderr",
     "output_type": "stream",
     "text": [
      "[I 2025-05-15 17:27:11,964] Trial 46 pruned. Trial was pruned at epoch 0.\n"
     ]
    },
    {
     "name": "stdout",
     "output_type": "stream",
     "text": [
      "Current value: 0.06990773164854983, Current params: {'output_chunk_length': 55, 'input_chunk_length': 104, 'hidden_size': 149, 'lstm_layers': 1, 'num_attention_heads': 4, 'hidden_continuous_size': 4, 'add_relative_index': True, 'dropout': 0.15000000000000002, 'batch_size': 52, 'lr': 0.0003257858474763924, 'forecast_horizon': 2}\n",
      "Best value: 51.62609841430928, Best params: {'output_chunk_length': 40, 'input_chunk_length': 60, 'hidden_size': 222, 'lstm_layers': 1, 'num_attention_heads': 4, 'hidden_continuous_size': 25, 'add_relative_index': True, 'dropout': 0.3, 'batch_size': 43, 'lr': 0.00031002620708540484, 'forecast_horizon': 7}\n",
      "\n",
      "Iniciando Trial 47\n",
      "Hiperparâmetros: {'output_chunk_length': 46, 'input_chunk_length': 111, 'hidden_size': 206, 'lstm_layers': 1, 'num_attention_heads': 3, 'hidden_continuous_size': 25, 'add_relative_index': True, 'dropout': 0.2, 'batch_size': 48, 'lr': 0.00017360199218702227, 'forecast_horizon': 4}\n",
      "\n",
      "Treinando o modelo...\n",
      "Train set: 6647 samples\n",
      "Validation set: 1662 samples\n"
     ]
    },
    {
     "name": "stderr",
     "output_type": "stream",
     "text": [
      "GPU available: True (cuda), used: True\n",
      "TPU available: False, using: 0 TPU cores\n",
      "HPU available: False, using: 0 HPUs\n",
      "LOCAL_RANK: 0 - CUDA_VISIBLE_DEVICES: [0]\n",
      "\n",
      "   | Name                              | Type                             | Params | Mode \n",
      "------------------------------------------------------------------------------------------------\n",
      "0  | criterion                         | HuberLoss                        | 0      | train\n",
      "1  | train_criterion                   | HuberLoss                        | 0      | train\n",
      "2  | val_criterion                     | HuberLoss                        | 0      | train\n",
      "3  | train_metrics                     | MetricCollection                 | 0      | train\n",
      "4  | val_metrics                       | MetricCollection                 | 0      | train\n",
      "5  | input_embeddings                  | _MultiEmbedding                  | 0      | train\n",
      "6  | static_covariates_vsn             | _VariableSelectionNetwork        | 0      | train\n",
      "7  | encoder_vsn                       | _VariableSelectionNetwork        | 409 K  | train\n",
      "8  | decoder_vsn                       | _VariableSelectionNetwork        | 149 K  | train\n",
      "9  | static_context_grn                | _GatedResidualNetwork            | 170 K  | train\n",
      "10 | static_context_hidden_encoder_grn | _GatedResidualNetwork            | 170 K  | train\n",
      "11 | static_context_cell_encoder_grn   | _GatedResidualNetwork            | 170 K  | train\n",
      "12 | static_context_enrichment         | _GatedResidualNetwork            | 170 K  | train\n",
      "13 | lstm_encoder                      | LSTM                             | 341 K  | train\n",
      "14 | lstm_decoder                      | LSTM                             | 341 K  | train\n",
      "15 | post_lstm_gan                     | _GateAddNorm                     | 85.7 K | train\n",
      "16 | static_enrichment_grn             | _GatedResidualNetwork            | 213 K  | train\n",
      "17 | multihead_attn                    | _InterpretableMultiHeadAttention | 112 K  | train\n",
      "18 | post_attn_gan                     | _GateAddNorm                     | 85.7 K | train\n",
      "19 | feed_forward_block                | _GatedResidualNetwork            | 170 K  | train\n",
      "20 | pre_output_gan                    | _GateAddNorm                     | 85.7 K | train\n",
      "21 | output_layer                      | Linear                           | 1.7 K  | train\n",
      "------------------------------------------------------------------------------------------------\n",
      "2.7 M     Trainable params\n",
      "0         Non-trainable params\n",
      "2.7 M     Total params\n",
      "10.722    Total estimated model params size (MB)\n",
      "733       Modules in train mode\n",
      "0         Modules in eval mode\n"
     ]
    },
    {
     "data": {
      "application/vnd.jupyter.widget-view+json": {
       "model_id": "4b929410788740eabd5206fba8a534b7",
       "version_major": 2,
       "version_minor": 0
      },
      "text/plain": [
       "Sanity Checking: |          | 0/? [00:00<?, ?it/s]"
      ]
     },
     "metadata": {},
     "output_type": "display_data"
    },
    {
     "data": {
      "application/vnd.jupyter.widget-view+json": {
       "model_id": "f9b09422b69847de865fb356bf2e768e",
       "version_major": 2,
       "version_minor": 0
      },
      "text/plain": [
       "Training: |          | 0/? [00:00<?, ?it/s]"
      ]
     },
     "metadata": {},
     "output_type": "display_data"
    },
    {
     "data": {
      "application/vnd.jupyter.widget-view+json": {
       "model_id": "a5e8377756e2458583c17bc61e3fcbda",
       "version_major": 2,
       "version_minor": 0
      },
      "text/plain": [
       "Validation: |          | 0/? [00:00<?, ?it/s]"
      ]
     },
     "metadata": {},
     "output_type": "display_data"
    },
    {
     "name": "stderr",
     "output_type": "stream",
     "text": [
      "[I 2025-05-15 17:30:06,221] Trial 47 pruned. Trial was pruned at epoch 0.\n"
     ]
    },
    {
     "name": "stdout",
     "output_type": "stream",
     "text": [
      "Current value: 0.04544942037964732, Current params: {'output_chunk_length': 46, 'input_chunk_length': 111, 'hidden_size': 206, 'lstm_layers': 1, 'num_attention_heads': 3, 'hidden_continuous_size': 25, 'add_relative_index': True, 'dropout': 0.2, 'batch_size': 48, 'lr': 0.00017360199218702227, 'forecast_horizon': 4}\n",
      "Best value: 51.62609841430928, Best params: {'output_chunk_length': 40, 'input_chunk_length': 60, 'hidden_size': 222, 'lstm_layers': 1, 'num_attention_heads': 4, 'hidden_continuous_size': 25, 'add_relative_index': True, 'dropout': 0.3, 'batch_size': 43, 'lr': 0.00031002620708540484, 'forecast_horizon': 7}\n",
      "\n",
      "Iniciando Trial 48\n",
      "Hiperparâmetros: {'output_chunk_length': 53, 'input_chunk_length': 114, 'hidden_size': 179, 'lstm_layers': 1, 'num_attention_heads': 3, 'hidden_continuous_size': 21, 'add_relative_index': True, 'dropout': 0.05, 'batch_size': 53, 'lr': 0.001302531504125827, 'forecast_horizon': 1}\n",
      "\n",
      "Treinando o modelo...\n",
      "Train set: 6647 samples\n",
      "Validation set: 1662 samples\n"
     ]
    },
    {
     "name": "stderr",
     "output_type": "stream",
     "text": [
      "GPU available: True (cuda), used: True\n",
      "TPU available: False, using: 0 TPU cores\n",
      "HPU available: False, using: 0 HPUs\n",
      "LOCAL_RANK: 0 - CUDA_VISIBLE_DEVICES: [0]\n",
      "\n",
      "   | Name                              | Type                             | Params | Mode \n",
      "------------------------------------------------------------------------------------------------\n",
      "0  | criterion                         | HuberLoss                        | 0      | train\n",
      "1  | train_criterion                   | HuberLoss                        | 0      | train\n",
      "2  | val_criterion                     | HuberLoss                        | 0      | train\n",
      "3  | train_metrics                     | MetricCollection                 | 0      | train\n",
      "4  | val_metrics                       | MetricCollection                 | 0      | train\n",
      "5  | input_embeddings                  | _MultiEmbedding                  | 0      | train\n",
      "6  | static_covariates_vsn             | _VariableSelectionNetwork        | 0      | train\n",
      "7  | encoder_vsn                       | _VariableSelectionNetwork        | 308 K  | train\n",
      "8  | decoder_vsn                       | _VariableSelectionNetwork        | 112 K  | train\n",
      "9  | static_context_grn                | _GatedResidualNetwork            | 129 K  | train\n",
      "10 | static_context_hidden_encoder_grn | _GatedResidualNetwork            | 129 K  | train\n",
      "11 | static_context_cell_encoder_grn   | _GatedResidualNetwork            | 129 K  | train\n",
      "12 | static_context_enrichment         | _GatedResidualNetwork            | 129 K  | train\n",
      "13 | lstm_encoder                      | LSTM                             | 257 K  | train\n",
      "14 | lstm_decoder                      | LSTM                             | 257 K  | train\n",
      "15 | post_lstm_gan                     | _GateAddNorm                     | 64.8 K | train\n",
      "16 | static_enrichment_grn             | _GatedResidualNetwork            | 161 K  | train\n",
      "17 | multihead_attn                    | _InterpretableMultiHeadAttention | 84.9 K | train\n",
      "18 | post_attn_gan                     | _GateAddNorm                     | 64.8 K | train\n",
      "19 | feed_forward_block                | _GatedResidualNetwork            | 129 K  | train\n",
      "20 | pre_output_gan                    | _GateAddNorm                     | 64.8 K | train\n",
      "21 | output_layer                      | Linear                           | 1.4 K  | train\n",
      "------------------------------------------------------------------------------------------------\n",
      "2.0 M     Trainable params\n",
      "0         Non-trainable params\n",
      "2.0 M     Total params\n",
      "8.093     Total estimated model params size (MB)\n",
      "733       Modules in train mode\n",
      "0         Modules in eval mode\n"
     ]
    },
    {
     "data": {
      "application/vnd.jupyter.widget-view+json": {
       "model_id": "fdac4f1cc52d45a480f0b2e84205279f",
       "version_major": 2,
       "version_minor": 0
      },
      "text/plain": [
       "Sanity Checking: |          | 0/? [00:00<?, ?it/s]"
      ]
     },
     "metadata": {},
     "output_type": "display_data"
    },
    {
     "data": {
      "application/vnd.jupyter.widget-view+json": {
       "model_id": "f4ed69c8e0e14fc9a49656035a4d2939",
       "version_major": 2,
       "version_minor": 0
      },
      "text/plain": [
       "Training: |          | 0/? [00:00<?, ?it/s]"
      ]
     },
     "metadata": {},
     "output_type": "display_data"
    },
    {
     "data": {
      "application/vnd.jupyter.widget-view+json": {
       "model_id": "1d734b5bbb344c59b4c033618d80db13",
       "version_major": 2,
       "version_minor": 0
      },
      "text/plain": [
       "Validation: |          | 0/? [00:00<?, ?it/s]"
      ]
     },
     "metadata": {},
     "output_type": "display_data"
    },
    {
     "name": "stderr",
     "output_type": "stream",
     "text": [
      "Metric val_loss improved. New best score: 0.028\n"
     ]
    },
    {
     "data": {
      "application/vnd.jupyter.widget-view+json": {
       "model_id": "51eb1369ab534217bb780e6e21260885",
       "version_major": 2,
       "version_minor": 0
      },
      "text/plain": [
       "Validation: |          | 0/? [00:00<?, ?it/s]"
      ]
     },
     "metadata": {},
     "output_type": "display_data"
    },
    {
     "data": {
      "application/vnd.jupyter.widget-view+json": {
       "model_id": "e5c0efba4727499d87115aad9b2cbb47",
       "version_major": 2,
       "version_minor": 0
      },
      "text/plain": [
       "Validation: |          | 0/? [00:00<?, ?it/s]"
      ]
     },
     "metadata": {},
     "output_type": "display_data"
    },
    {
     "data": {
      "application/vnd.jupyter.widget-view+json": {
       "model_id": "e9e617e150e5435bad2eb921d36e0379",
       "version_major": 2,
       "version_minor": 0
      },
      "text/plain": [
       "Validation: |          | 0/? [00:00<?, ?it/s]"
      ]
     },
     "metadata": {},
     "output_type": "display_data"
    },
    {
     "data": {
      "application/vnd.jupyter.widget-view+json": {
       "model_id": "b17418ba51f04d2a879f34bc9d04547a",
       "version_major": 2,
       "version_minor": 0
      },
      "text/plain": [
       "Validation: |          | 0/? [00:00<?, ?it/s]"
      ]
     },
     "metadata": {},
     "output_type": "display_data"
    },
    {
     "data": {
      "application/vnd.jupyter.widget-view+json": {
       "model_id": "cebc68607dc44191aa81c0227aed94e5",
       "version_major": 2,
       "version_minor": 0
      },
      "text/plain": [
       "Validation: |          | 0/? [00:00<?, ?it/s]"
      ]
     },
     "metadata": {},
     "output_type": "display_data"
    },
    {
     "data": {
      "application/vnd.jupyter.widget-view+json": {
       "model_id": "806b6e93089945de8d7471dab7763826",
       "version_major": 2,
       "version_minor": 0
      },
      "text/plain": [
       "Validation: |          | 0/? [00:00<?, ?it/s]"
      ]
     },
     "metadata": {},
     "output_type": "display_data"
    },
    {
     "data": {
      "application/vnd.jupyter.widget-view+json": {
       "model_id": "fe6b8a4359d74657ac7017fd95d6caaa",
       "version_major": 2,
       "version_minor": 0
      },
      "text/plain": [
       "Validation: |          | 0/? [00:00<?, ?it/s]"
      ]
     },
     "metadata": {},
     "output_type": "display_data"
    },
    {
     "data": {
      "application/vnd.jupyter.widget-view+json": {
       "model_id": "fbb6d05f45c4444a851569a91dfec3a6",
       "version_major": 2,
       "version_minor": 0
      },
      "text/plain": [
       "Validation: |          | 0/? [00:00<?, ?it/s]"
      ]
     },
     "metadata": {},
     "output_type": "display_data"
    },
    {
     "data": {
      "application/vnd.jupyter.widget-view+json": {
       "model_id": "d4dcea93ccfd45d3b0632c3fb117885d",
       "version_major": 2,
       "version_minor": 0
      },
      "text/plain": [
       "Validation: |          | 0/? [00:00<?, ?it/s]"
      ]
     },
     "metadata": {},
     "output_type": "display_data"
    },
    {
     "data": {
      "application/vnd.jupyter.widget-view+json": {
       "model_id": "3f952ac252b443238ea7155176d51fa9",
       "version_major": 2,
       "version_minor": 0
      },
      "text/plain": [
       "Validation: |          | 0/? [00:00<?, ?it/s]"
      ]
     },
     "metadata": {},
     "output_type": "display_data"
    },
    {
     "name": "stderr",
     "output_type": "stream",
     "text": [
      "Monitored metric val_loss did not improve in the last 10 records. Best score: 0.028. Signaling Trainer to stop.\n",
      "GPU available: True (cuda), used: True\n",
      "TPU available: False, using: 0 TPU cores\n",
      "HPU available: False, using: 0 HPUs\n",
      "LOCAL_RANK: 0 - CUDA_VISIBLE_DEVICES: [0]\n"
     ]
    },
    {
     "name": "stdout",
     "output_type": "stream",
     "text": [
      "Modelo carregado do checkpoint para trial 48\n"
     ]
    },
    {
     "name": "stderr",
     "output_type": "stream",
     "text": [
      "/home/eduardo/Documentos/Water-Cycle-Neural-Network/venv/lib/python3.12/site-packages/pytorch_lightning/trainer/connectors/data_connector.py:425: The 'predict_dataloader' does not have many workers which may be a bottleneck. Consider increasing the value of the `num_workers` argument` to `num_workers=11` in the `DataLoader` to improve performance.\n"
     ]
    },
    {
     "data": {
      "application/vnd.jupyter.widget-view+json": {
       "model_id": "d6ed008d99994e0c9035417af15e1ac4",
       "version_major": 2,
       "version_minor": 0
      },
      "text/plain": [
       "Predicting: |          | 0/? [00:00<?, ?it/s]"
      ]
     },
     "metadata": {},
     "output_type": "display_data"
    },
    {
     "name": "stderr",
     "output_type": "stream",
     "text": [
      "[I 2025-05-15 18:05:28,327] Trial 48 finished with value: 58.544841417560896 and parameters: {'output_chunk_length': 53, 'input_chunk_length': 114, 'hidden_size': 179, 'lstm_layers': 1, 'num_attention_heads': 3, 'hidden_continuous_size': 21, 'add_relative_index': True, 'dropout': 0.05, 'batch_size': 53, 'lr': 0.001302531504125827, 'forecast_horizon': 1}. Best is trial 36 with value: 51.62609841430928.\n"
     ]
    },
    {
     "name": "stdout",
     "output_type": "stream",
     "text": [
      "Iniciando a verificação das séries temporais para constância...\n",
      "\n",
      "Métricas de performance:\n",
      "                                    MSE        RMSE  ...           R2       SMAPE\n",
      "Temperature                    3.046266    1.745355  ...     0.105184   22.706287\n",
      "Precipitation_accumulated   2482.185884   49.821540  ... -2614.184840    5.682159\n",
      "Humidity                      48.942422    6.995886  ...     0.247371    6.479768\n",
      "Wind_Speed_kmh                 0.254353    0.504334  ...     0.252579  175.067037\n",
      "Soil_Moisture              91671.369066  302.772801  ...     0.876115    2.577538\n",
      "Soil_Temperature               4.600386    2.144851  ...     0.180289   34.864076\n",
      "Wind_Dir_Sin                   0.154158    0.392630  ...     0.040224  165.888172\n",
      "Wind_Dir_Cos                   0.167664    0.409468  ...     0.415994   55.093695\n",
      "\n",
      "[8 rows x 5 columns]\n",
      "O SMAPE desse fold foi 58.544841417560896\n",
      "Resultados do trial 48 salvos em optuna_iteration_metrics/trial_48.json\n",
      "Current value: 58.544841417560896, Current params: {'output_chunk_length': 53, 'input_chunk_length': 114, 'hidden_size': 179, 'lstm_layers': 1, 'num_attention_heads': 3, 'hidden_continuous_size': 21, 'add_relative_index': True, 'dropout': 0.05, 'batch_size': 53, 'lr': 0.001302531504125827, 'forecast_horizon': 1}\n",
      "Best value: 51.62609841430928, Best params: {'output_chunk_length': 40, 'input_chunk_length': 60, 'hidden_size': 222, 'lstm_layers': 1, 'num_attention_heads': 4, 'hidden_continuous_size': 25, 'add_relative_index': True, 'dropout': 0.3, 'batch_size': 43, 'lr': 0.00031002620708540484, 'forecast_horizon': 7}\n",
      "\n",
      "Iniciando Trial 49\n",
      "Hiperparâmetros: {'output_chunk_length': 64, 'input_chunk_length': 122, 'hidden_size': 232, 'lstm_layers': 1, 'num_attention_heads': 4, 'hidden_continuous_size': 27, 'add_relative_index': True, 'dropout': 0.25, 'batch_size': 62, 'lr': 0.0002681880905869364, 'forecast_horizon': 8}\n",
      "\n",
      "Treinando o modelo...\n",
      "Train set: 6647 samples\n",
      "Validation set: 1662 samples\n"
     ]
    },
    {
     "name": "stderr",
     "output_type": "stream",
     "text": [
      "GPU available: True (cuda), used: True\n",
      "TPU available: False, using: 0 TPU cores\n",
      "HPU available: False, using: 0 HPUs\n",
      "LOCAL_RANK: 0 - CUDA_VISIBLE_DEVICES: [0]\n",
      "\n",
      "   | Name                              | Type                             | Params | Mode \n",
      "------------------------------------------------------------------------------------------------\n",
      "0  | criterion                         | HuberLoss                        | 0      | train\n",
      "1  | train_criterion                   | HuberLoss                        | 0      | train\n",
      "2  | val_criterion                     | HuberLoss                        | 0      | train\n",
      "3  | train_metrics                     | MetricCollection                 | 0      | train\n",
      "4  | val_metrics                       | MetricCollection                 | 0      | train\n",
      "5  | input_embeddings                  | _MultiEmbedding                  | 0      | train\n",
      "6  | static_covariates_vsn             | _VariableSelectionNetwork        | 0      | train\n",
      "7  | encoder_vsn                       | _VariableSelectionNetwork        | 488 K  | train\n",
      "8  | decoder_vsn                       | _VariableSelectionNetwork        | 179 K  | train\n",
      "9  | static_context_grn                | _GatedResidualNetwork            | 216 K  | train\n",
      "10 | static_context_hidden_encoder_grn | _GatedResidualNetwork            | 216 K  | train\n",
      "11 | static_context_cell_encoder_grn   | _GatedResidualNetwork            | 216 K  | train\n",
      "12 | static_context_enrichment         | _GatedResidualNetwork            | 216 K  | train\n",
      "13 | lstm_encoder                      | LSTM                             | 432 K  | train\n",
      "14 | lstm_decoder                      | LSTM                             | 432 K  | train\n",
      "15 | post_lstm_gan                     | _GateAddNorm                     | 108 K  | train\n",
      "16 | static_enrichment_grn             | _GatedResidualNetwork            | 270 K  | train\n",
      "17 | multihead_attn                    | _InterpretableMultiHeadAttention | 135 K  | train\n",
      "18 | post_attn_gan                     | _GateAddNorm                     | 108 K  | train\n",
      "19 | feed_forward_block                | _GatedResidualNetwork            | 216 K  | train\n",
      "20 | pre_output_gan                    | _GateAddNorm                     | 108 K  | train\n",
      "21 | output_layer                      | Linear                           | 1.9 K  | train\n",
      "------------------------------------------------------------------------------------------------\n",
      "3.3 M     Trainable params\n",
      "0         Non-trainable params\n",
      "3.3 M     Total params\n",
      "13.393    Total estimated model params size (MB)\n",
      "735       Modules in train mode\n",
      "0         Modules in eval mode\n"
     ]
    },
    {
     "data": {
      "application/vnd.jupyter.widget-view+json": {
       "model_id": "3ac089a5bd4b43c7909a2c9e034f7ff0",
       "version_major": 2,
       "version_minor": 0
      },
      "text/plain": [
       "Sanity Checking: |          | 0/? [00:00<?, ?it/s]"
      ]
     },
     "metadata": {},
     "output_type": "display_data"
    },
    {
     "data": {
      "application/vnd.jupyter.widget-view+json": {
       "model_id": "f925c94e7606461eb30f06632a944a7b",
       "version_major": 2,
       "version_minor": 0
      },
      "text/plain": [
       "Training: |          | 0/? [00:00<?, ?it/s]"
      ]
     },
     "metadata": {},
     "output_type": "display_data"
    },
    {
     "data": {
      "application/vnd.jupyter.widget-view+json": {
       "model_id": "b26d7fdb4a444c289c327721c11730a2",
       "version_major": 2,
       "version_minor": 0
      },
      "text/plain": [
       "Validation: |          | 0/? [00:00<?, ?it/s]"
      ]
     },
     "metadata": {},
     "output_type": "display_data"
    },
    {
     "name": "stderr",
     "output_type": "stream",
     "text": [
      "[I 2025-05-15 18:08:53,396] Trial 49 pruned. Trial was pruned at epoch 0.\n"
     ]
    },
    {
     "name": "stdout",
     "output_type": "stream",
     "text": [
      "Current value: 0.04513023639662728, Current params: {'output_chunk_length': 64, 'input_chunk_length': 122, 'hidden_size': 232, 'lstm_layers': 1, 'num_attention_heads': 4, 'hidden_continuous_size': 27, 'add_relative_index': True, 'dropout': 0.25, 'batch_size': 62, 'lr': 0.0002681880905869364, 'forecast_horizon': 8}\n",
      "Best value: 51.62609841430928, Best params: {'output_chunk_length': 40, 'input_chunk_length': 60, 'hidden_size': 222, 'lstm_layers': 1, 'num_attention_heads': 4, 'hidden_continuous_size': 25, 'add_relative_index': True, 'dropout': 0.3, 'batch_size': 43, 'lr': 0.00031002620708540484, 'forecast_horizon': 7}\n"
     ]
    }
   ],
   "source": [
    "study = optuna.create_study(direction=\"minimize\")\n",
    "study.optimize(objective, n_trials=50, callbacks=[print_callback])"
   ]
  },
  {
   "cell_type": "code",
   "execution_count": 29,
   "id": "53a35c4e",
   "metadata": {},
   "outputs": [
    {
     "name": "stdout",
     "output_type": "stream",
     "text": [
      "Melhor Valor (Mínimo): 51.62609841430928\n",
      "Melhores Parâmetros: {'output_chunk_length': 40, 'input_chunk_length': 60, 'hidden_size': 222, 'lstm_layers': 1, 'num_attention_heads': 4, 'hidden_continuous_size': 25, 'add_relative_index': True, 'dropout': 0.3, 'batch_size': 43, 'lr': 0.00031002620708540484, 'forecast_horizon': 7}\n"
     ]
    }
   ],
   "source": [
    "print(f\"Melhor Valor (Mínimo): {study.best_value}\")\n",
    "print(f\"Melhores Parâmetros: {study.best_params}\")"
   ]
  },
  {
   "cell_type": "code",
   "execution_count": 30,
   "id": "83b68ec1",
   "metadata": {},
   "outputs": [
    {
     "name": "stdout",
     "output_type": "stream",
     "text": [
      "Melhores resultados salvos em optuna_iteration_metrics/best_trial.json\n"
     ]
    }
   ],
   "source": [
    "best_dict = {\n",
    "    \"best_value\": study.best_value,\n",
    "    \"best_params\": study.best_params,\n",
    "}\n",
    "json_path = os.path.join(results_output_dir, \"best_trial.json\")\n",
    "with open(json_path, 'w') as f:\n",
    "    json.dump(best_dict, f, indent=4)\n",
    "print(f\"Melhores resultados salvos em {json_path}\")"
   ]
  }
 ],
 "metadata": {
  "jupytext": {
   "cell_metadata_filter": "-all",
   "main_language": "python",
   "notebook_metadata_filter": "-all"
  },
  "kernelspec": {
   "display_name": "Python (TORCH)",
   "language": "python",
   "name": "torch"
  },
  "language_info": {
   "codemirror_mode": {
    "name": "ipython",
    "version": 3
   },
   "file_extension": ".py",
   "mimetype": "text/x-python",
   "name": "python",
   "nbconvert_exporter": "python",
   "pygments_lexer": "ipython3",
   "version": "3.12.3"
  }
 },
 "nbformat": 4,
 "nbformat_minor": 5
}
