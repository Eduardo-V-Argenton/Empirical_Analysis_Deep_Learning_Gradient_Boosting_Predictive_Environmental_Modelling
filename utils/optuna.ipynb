{
 "cells": [
  {
   "metadata": {
    "ExecuteTime": {
     "end_time": "2025-05-25T23:54:40.683115Z",
     "start_time": "2025-05-25T23:54:36.012336Z"
    }
   },
   "cell_type": "code",
   "execution_count": 1,
   "id": "bfdde53ef19ea8f4",
   "metadata": {
    "ExecuteTime": {
     "end_time": "2025-06-05T19:05:40.700276Z",
     "start_time": "2025-06-05T19:05:40.697643Z"
    }
   },
   "outputs": [],
   "source": [
    "import matplotlib.pyplot as plt\n",
    "import numpy as np\n",
    "import pandas as pd\n",
    "from darts import TimeSeries\n",
    "from darts.models import TCNModel\n",
    "from darts.metrics import mse, rmse, r2_score, mae, smape\n",
    "from darts.dataprocessing.transformers import Scaler\n",
    "import torch\n",
    "from optuna.integration import PyTorchLightningPruningCallback\n",
    "from pytorch_lightning.callbacks import Callback, EarlyStopping\n",
    "import optuna\n",
    "import os\n",
    "import json\n",
    "\n",
    "# Visualization settings\n",
    "plt.style.use('ggplot')\n",
    "plt.rcParams['figure.figsize'] = (12, 6)\n",
    "torch.set_float32_matmul_precision('medium')"
   ],
   "id": "ab9c24fd1c762b3c",
   "outputs": [],
   "execution_count": null
  },
  {
   "metadata": {
    "ExecuteTime": {
     "end_time": "2025-05-25T23:54:40.709127Z",
     "start_time": "2025-05-25T23:54:40.693902Z"
    }
   },
   "cell_type": "code",
   "execution_count": 2,
   "id": "4a8c332b10d8be5e",
   "metadata": {
    "ExecuteTime": {
     "end_time": "2025-06-05T19:05:40.762080Z",
     "start_time": "2025-06-05T19:05:40.750357Z"
    }
   },
   "outputs": [],
   "source": [
    "target_columns = [\n",
    "    'Temperature','Precipitation_accumulated','Humidity', 'Wind_Speed_kmh',\n",
    "    'Soil_Moisture', 'Soil_Temperature', 'Wind_Dir_Sin', 'Wind_Dir_Cos'\n",
    "]\n",
    "\n",
    "DATA_FILE_PATH = \"../data/ground_station_clean.csv\"\n",
    "df = pd.read_csv(DATA_FILE_PATH)"
   ],
   "id": "dea824a04ee35876",
   "outputs": [],
   "execution_count": null
  },
  {
   "metadata": {
    "ExecuteTime": {
     "end_time": "2025-05-25T23:54:40.767561Z",
     "start_time": "2025-05-25T23:54:40.765633Z"
    }
   },
   "cell_type": "code",
   "execution_count": 3,
   "id": "7c4f7732f60d8511",
   "metadata": {
    "ExecuteTime": {
     "end_time": "2025-06-05T19:05:40.802223Z",
     "start_time": "2025-06-05T19:05:40.800123Z"
    }
   },
   "outputs": [],
   "source": [
    "encoders = {\n",
    "    \"cyclic\": {\n",
    "        \"past\": [\"month\", \"dayofyear\", \"day\", \"hour\", \"minute\"],\n",
    "        \"future\": [\"month\", \"dayofyear\", \"day\", \"hour\", \"minute\"]\n",
    "    },\n",
    "    \"transformer\": Scaler(),\n",
    "    \"datetime_attribute\": {\n",
    "        \"past\": [\"year\"],\n",
    "        \"future\": [\"year\"]\n",
    "    }\n",
    "}\n"
   ]
  },
  {
   "metadata": {
    "ExecuteTime": {
     "end_time": "2025-05-25T23:54:40.868737Z",
     "start_time": "2025-05-25T23:54:40.866290Z"
    }
   },
   "cell_type": "code",
   "execution_count": 4,
   "id": "3cc0a527e2e2a0a8",
   "metadata": {
    "ExecuteTime": {
     "end_time": "2025-06-05T19:05:40.852433Z",
     "start_time": "2025-06-05T19:05:40.850235Z"
    }
   },
   "outputs": [],
   "source": [
    "class PatchedPruningCallback(PyTorchLightningPruningCallback, Callback):\n",
    "    pass\n",
    "\n",
    "# Create directory to save iteration results\n",
    "results_output_dir = \"optuna_iteration_metrics\"\n",
    "os.makedirs(results_output_dir, exist_ok=True)"
   ]
  },
  {
   "metadata": {
    "ExecuteTime": {
     "end_time": "2025-05-25T23:54:40.929302Z",
     "start_time": "2025-05-25T23:54:40.919779Z"
    }
   },
   "cell_type": "code",
   "execution_count": 5,
   "id": "36495cef7ef43264",
   "metadata": {
    "ExecuteTime": {
     "end_time": "2025-06-05T19:05:40.906974Z",
     "start_time": "2025-06-05T19:05:40.899470Z"
    }
   },
   "outputs": [],
   "source": [
    "from sklearn.model_selection import TimeSeriesSplit\n",
    "\n",
    "def objective(trial):\n",
    "    input_chunk_length = trial.suggest_int(\"input_chunk_length\", 24, 72)\n",
    "    output_chunk_length = trial.suggest_int(\"output_chunk_length\", 1, 24)\n",
    "    dropout = trial.suggest_float(\"dropout\", 0.1, 0.5)\n",
    "    batch_size = trial.suggest_int(\"batch_size\", 64, 256)\n",
    "    lr = trial.suggest_float(\"lr\", 1e-6, 5e-3, log=True)\n",
    "    weight_decay = trial.suggest_float(\"weight_decay\", 1e-6, 1e-2, log=True)\n",
    "    \n",
    "    num_filters   = trial.suggest_int(\"num_filters\", 32, 256, step=8)\n",
    "    kernel_size   = trial.suggest_int(\"kernel_size\", 2, 8)\n",
    "    num_layers    = trial.suggest_int(\"num_layers\", 0, 3)\n",
    "    dilation_base = trial.suggest_int(\"dilation_base\", 1, 4)\n",
    "\n",
    "    num_filters   = trial.suggest_int(\"num_filters\", 8, 128, log=True)\n",
    "    kernel_size   = trial.suggest_int(\"kernel_size\", 2, 8)\n",
    "    num_layers    = trial.suggest_int(\"num_layers\", 1, 3)\n",
    "    dilation_base = trial.suggest_int(\"dilation_base\", 1, 4)\n",
    "    weight_norm = trial.suggest_categorical(\"weight_norm\", [True, False])\n",
    "\n",
    "    # Try different loss functions\n",
    "    loss_functions = {\n",
    "        'mse': torch.nn.MSELoss(),\n",
    "        'mae': torch.nn.L1Loss(),\n",
    "        'huber': torch.nn.HuberLoss(delta=1.0),\n",
    "        'smoothl1': torch.nn.SmoothL1Loss()\n",
    "    }\n",
    "    loss_name = trial.suggest_categorical(\"loss_fn\", list(loss_functions.keys()))\n",
    "\n",
    "    # Try different optimizers\n",
    "    optimizer_names = ['Adam', 'AdamW', 'RMSprop', 'SGD']\n",
    "    optimizer_name = trial.suggest_categorical(\"optimizer\", optimizer_names)\n",
    "    optimizer_dict = {\n",
    "        'Adam': torch.optim.Adam,\n",
    "        'AdamW': torch.optim.AdamW,\n",
    "        'RMSprop': torch.optim.RMSprop,\n",
    "        'SGD': torch.optim.SGD\n",
    "    }\n",
    "\n",
    "    early_stopper = EarlyStopping(\"val_loss\", min_delta=0.0005, patience=15, verbose=True)\n",
    "    prunner = PatchedPruningCallback(trial, monitor=\"val_loss\")\n",
    "    pl_trainer_kwargs = {\n",
    "        \"accelerator\": \"auto\",\n",
    "        \"callbacks\": [early_stopper, prunner],\n",
    "    }\n",
    "\n",
    "    n_splits = 3\n",
    "    tscv = TimeSeriesSplit(n_splits=n_splits)\n",
    "    overall_smape_list = []\n",
    "    metrics_per_fold = []\n",
    "    fold = 0\n",
    "\n",
    "    for train_index, val_index in tscv.split(df):\n",
    "        print(f\"\\nFold {fold+1}/{n_splits}\")\n",
    "        train_df_fold = df.iloc[train_index]\n",
    "        val_df_fold = df.iloc[val_index]\n",
    "        train_fold = TimeSeries.from_dataframe(train_df_fold, time_col=\"Timestamp\", value_cols=target_columns, freq='1h')\n",
    "        val_fold = TimeSeries.from_dataframe(val_df_fold, time_col=\"Timestamp\", value_cols=target_columns, freq='1h')\n",
    "\n",
    "        scaler = Scaler()\n",
    "        scaler = scaler.fit(train_fold)\n",
    "        train_scaled = scaler.transform(train_fold)\n",
    "        val_scaled = scaler.transform(val_fold)\n",
    "\n",
    "        opt_kwargs = {\"lr\": lr, \"weight_decay\": weight_decay}\n",
    "\n",
    "    model = TCNModel(\n",
    "        model_name=_model_name,\n",
    "        work_dir=_work_dir,\n",
    "        input_chunk_length=input_chunk_length,\n",
    "        output_chunk_length=output_chunk_length,\n",
    "        num_filters=num_filters,\n",
    "        kernel_size=kernel_size,\n",
    "        num_layers=num_layers,\n",
    "        dilation_base=dilation_base,\n",
    "        weight_norm=weight_norm,\n",
    "        n_epochs=30,\n",
    "        batch_size=batch_size,\n",
    "        dropout=dropout,\n",
    "        add_encoders=encoders,\n",
    "        pl_trainer_kwargs=pl_trainer_kwargs,\n",
    "        loss_fn=loss_functions[loss_name],\n",
    "        optimizer_cls=optimizer_dict[optimizer_name],\n",
    "        lr_scheduler_cls=torch.optim.lr_scheduler.ReduceLROnPlateau,\n",
    "        lr_scheduler_kwargs={\"mode\": \"min\", \"factor\": 0.3, \"patience\": 5, \"min_lr\": 1e-7},\n",
    "        save_checkpoints=True,\n",
    "        show_warnings=True,\n",
    "        force_reset=True,\n",
    "        optimizer_kwargs=opt_kwargs,\n",
    "    )\n",
    "    model.fit(\n",
    "        series=train_scaled,\n",
    "        val_series=val_scaled,\n",
    "        verbose=False,\n",
    "        dataloader_kwargs={\"num_workers\": 11},\n",
    "    )\n",
    "\n",
    "    try:\n",
    "        loaded_model = TCNModel.load_from_checkpoint(model_name=_model_name, work_dir=_work_dir, best=True)\n",
    "        print(f\"Model loaded from checkpoint for trial {trial.number}\")\n",
    "    except FileNotFoundError:\n",
    "        print(f\"Checkpoint not found for {_model_name} in {_work_dir}. Using the in-memory trained model.\")\n",
    "        loaded_model = model\n",
    "\n",
    "        forecasts = loaded_model.historical_forecasts(\n",
    "            val_scaled,\n",
    "            forecast_horizon=24,\n",
    "            stride=1,\n",
    "            retrain=False,\n",
    "            verbose=False\n",
    "        )\n",
    "\n",
    "\n",
    "        forecasts_t = scaler.inverse_transform(forecasts)\n",
    "        s = scaler.inverse_transform(val_scaled)\n",
    "\n",
    "        overall_smape_val = smape(s, forecasts_t)\n",
    "        print(f\"SMAPE fold {fold}: {overall_smape_val}\")\n",
    "        overall_smape_list.append(overall_smape_val)\n",
    "        \n",
    "        metrics = {}\n",
    "        for target in target_columns:\n",
    "            metrics[target] = {\n",
    "                'MSE': mse(s[target], forecasts_t[target]),\n",
    "                'RMSE': rmse(s[target], forecasts_t[target]),\n",
    "                'MAE': mae(s[target], forecasts_t[target]),\n",
    "                'R2': r2_score(s[target], forecasts_t[target]),\n",
    "                'SMAPE': smape(s[target], forecasts_t[target]),\n",
    "                'WAPE': wmape(s[target], forecasts_t[target]),\n",
    "            }\n",
    "        metrics_per_fold.append(metrics)\n",
    "        fold += 1\n",
    "\n",
    "    mean_smape = np.mean(overall_smape_list)\n",
    "    print(f\"Média dos SMAPE nos folds: {mean_smape}\")\n",
    "\n",
    "    trial_dict = {\n",
    "        \"trial_number\": trial.number,\n",
    "        \"input_chunk_length\": input_chunk_length,\n",
    "        \"output_chunk_length\": output_chunk_length,\n",
    "        \"num_filters\": num_filters,\n",
    "        \"kernel_size\": kernel_size,\n",
    "        \"num_layers\": num_layers,\n",
    "        \"dilation_base\": dilation_base,\n",
    "        \"weight_norm\": weight_norm,\n",
    "        \"dropout\": dropout,\n",
    "        \"batch_size\": batch_size,\n",
    "        \"lr\": lr,\n",
    "        \"loss_function\": loss_name,\n",
    "        \"optimizer\": optimizer_name,\n",
    "        \"overall_mae_val\": overall_mae_val,\n",
    "        \"metrics\": metrics_df.to_dict(),\n",
    "    }\n",
    "    json_path = os.path.join(results_output_dir, f\"trial_{trial.number}.json\")\n",
    "    with open(json_path, 'w') as f:\n",
    "        json.dump(trial_dict, f, indent=4)\n",
    "    print(f\"Results of trial {trial.number} saved in {json_path}\")\n",
    "    return mean_mse if not np.isnan(mean_mse) else float(\"inf\")"
   ],
   "id": "b7ecbcc9f47588d3",
   "outputs": [],
   "execution_count": null
  },
  {
   "metadata": {
    "ExecuteTime": {
     "end_time": "2025-05-25T23:54:40.979202Z",
     "start_time": "2025-05-25T23:54:40.977284Z"
    }
   },
   "cell_type": "code",
   "execution_count": 6,
   "id": "b36084313658a946",
   "metadata": {
    "ExecuteTime": {
     "end_time": "2025-06-05T19:05:40.951388Z",
     "start_time": "2025-06-05T19:05:40.949280Z"
    }
   },
   "outputs": [],
   "source": [
    "def print_callback(study, trial):\n",
    "    print(f\"Current value: {trial.value}, Current params: {trial.params}\")\n",
    "    print(f\"Best value: {study.best_value}, Best params: {study.best_trial.params}\")"
   ],
   "id": "bb9eb36ea7edea",
   "outputs": [],
   "execution_count": null
  },
  {
   "metadata": {
    "ExecuteTime": {
     "end_time": "2025-05-26T02:59:07.396084Z",
     "start_time": "2025-05-25T23:54:41.026791Z"
    }
   },
   "cell_type": "code",
   "source": [
    "study = optuna.create_study(direction=\"minimize\")\n",
    "num_hyperparams = 13\n",
    "n_trials = 7 * num_hyperparams\n",
    "study.optimize(objective, n_trials=n_trials, callbacks=[print_callback])"
   ],
   "id": "51d771ffa210c7f5",
   "outputs": [
    {
     "name": "stderr",
     "output_type": "stream",
     "text": [
      "[I 2025-05-25 20:54:41,027] A new study created in memory with name: no-name-d2e4f872-9d39-4afa-a3d9-c671d5f771b9\n"
     ]
    },
    {
     "name": "stdout",
     "output_type": "stream",
     "text": [
      "\n",
      "Starting Trial 0\n",
      "Hyperparameters: {'input_chunk_length': 42, 'output_chunk_length': 19, 'dropout': 0.10970982839711962, 'batch_size': 256, 'lr': 3.835126443855208e-05, 'weight_decay': 1.4794457276648664e-06, 'num_filters': 29, 'kernel_size': 8, 'num_layers': 1, 'dilation_base': 2, 'weight_norm': False, 'loss_fn': 'mse', 'optimizer': 'AdamW'}\n",
      "\n",
      "Training the model...\n",
      "Train set: 6647 samples\n",
      "Validation set: 1662 samples\n"
     ]
    },
    {
     "name": "stderr",
     "output_type": "stream",
     "text": [
      "Specified future encoders in `add_encoders` at model creation but model does not accept future covariates. future encoders will be ignored.\n",
      "GPU available: True (cuda), used: True\n",
      "TPU available: False, using: 0 TPU cores\n",
      "HPU available: False, using: 0 HPUs\n",
      "LOCAL_RANK: 0 - CUDA_VISIBLE_DEVICES: [0]\n",
      "Metric val_loss improved. New best score: 0.629\n",
      "Metric val_loss improved by 0.084 >= min_delta = 0.0005. New best score: 0.545\n",
      "Metric val_loss improved by 0.081 >= min_delta = 0.0005. New best score: 0.465\n",
      "Metric val_loss improved by 0.076 >= min_delta = 0.0005. New best score: 0.388\n",
      "Metric val_loss improved by 0.067 >= min_delta = 0.0005. New best score: 0.322\n",
      "Metric val_loss improved by 0.051 >= min_delta = 0.0005. New best score: 0.270\n",
      "Metric val_loss improved by 0.035 >= min_delta = 0.0005. New best score: 0.235\n",
      "Metric val_loss improved by 0.022 >= min_delta = 0.0005. New best score: 0.213\n",
      "Metric val_loss improved by 0.013 >= min_delta = 0.0005. New best score: 0.201\n",
      "Metric val_loss improved by 0.008 >= min_delta = 0.0005. New best score: 0.193\n",
      "Metric val_loss improved by 0.006 >= min_delta = 0.0005. New best score: 0.187\n",
      "Metric val_loss improved by 0.004 >= min_delta = 0.0005. New best score: 0.183\n",
      "Metric val_loss improved by 0.004 >= min_delta = 0.0005. New best score: 0.179\n",
      "Metric val_loss improved by 0.004 >= min_delta = 0.0005. New best score: 0.175\n",
      "Metric val_loss improved by 0.004 >= min_delta = 0.0005. New best score: 0.172\n",
      "Metric val_loss improved by 0.003 >= min_delta = 0.0005. New best score: 0.168\n",
      "Metric val_loss improved by 0.003 >= min_delta = 0.0005. New best score: 0.165\n",
      "Metric val_loss improved by 0.003 >= min_delta = 0.0005. New best score: 0.162\n",
      "Metric val_loss improved by 0.003 >= min_delta = 0.0005. New best score: 0.159\n",
      "Metric val_loss improved by 0.003 >= min_delta = 0.0005. New best score: 0.156\n",
      "Metric val_loss improved by 0.003 >= min_delta = 0.0005. New best score: 0.153\n",
      "Metric val_loss improved by 0.002 >= min_delta = 0.0005. New best score: 0.151\n",
      "Metric val_loss improved by 0.002 >= min_delta = 0.0005. New best score: 0.148\n",
      "Metric val_loss improved by 0.002 >= min_delta = 0.0005. New best score: 0.146\n",
      "Metric val_loss improved by 0.002 >= min_delta = 0.0005. New best score: 0.144\n",
      "Metric val_loss improved by 0.002 >= min_delta = 0.0005. New best score: 0.142\n",
      "Metric val_loss improved by 0.002 >= min_delta = 0.0005. New best score: 0.140\n",
      "Metric val_loss improved by 0.002 >= min_delta = 0.0005. New best score: 0.139\n",
      "Metric val_loss improved by 0.001 >= min_delta = 0.0005. New best score: 0.137\n",
      "Metric val_loss improved by 0.001 >= min_delta = 0.0005. New best score: 0.136\n",
      "`Trainer.fit` stopped: `max_epochs=30` reached.\n",
      "GPU available: True (cuda), used: True\n",
      "TPU available: False, using: 0 TPU cores\n",
      "HPU available: False, using: 0 HPUs\n",
      "LOCAL_RANK: 0 - CUDA_VISIBLE_DEVICES: [0]\n"
     ]
    },
    {
     "name": "stdout",
     "output_type": "stream",
     "text": [
      "Model loaded from checkpoint for trial 0\n"
     ]
    },
    {
     "name": "stderr",
     "output_type": "stream",
     "text": [
      "/home/eduardo/Documentos/Water-Cycle-Neural-Network/venv/lib/python3.12/site-packages/pytorch_lightning/trainer/connectors/data_connector.py:425: The 'predict_dataloader' does not have many workers which may be a bottleneck. Consider increasing the value of the `num_workers` argument` to `num_workers=11` in the `DataLoader` to improve performance.\n",
      "[I 2025-05-25 20:55:23,552] Trial 0 finished with value: 0.25685879562761493 and parameters: {'input_chunk_length': 42, 'output_chunk_length': 19, 'dropout': 0.10970982839711962, 'batch_size': 256, 'lr': 3.835126443855208e-05, 'weight_decay': 1.4794457276648664e-06, 'num_filters': 29, 'kernel_size': 8, 'num_layers': 1, 'dilation_base': 2, 'weight_norm': False, 'loss_fn': 'mse', 'optimizer': 'AdamW'}. Best is trial 0 with value: 0.25685879562761493.\n",
      "Specified future encoders in `add_encoders` at model creation but model does not accept future covariates. future encoders will be ignored.\n",
      "GPU available: True (cuda), used: True\n",
      "TPU available: False, using: 0 TPU cores\n",
      "HPU available: False, using: 0 HPUs\n",
      "LOCAL_RANK: 0 - CUDA_VISIBLE_DEVICES: [0]\n"
     ]
    },
    {
     "name": "stdout",
     "output_type": "stream",
     "text": [
      "Starting time series verification for consistency...\n",
      "\n",
      "Performance metrics:\n",
      "                                    MSE         RMSE          MAE  \\\n",
      "Temperature                2.254091e+01     4.747727     3.846396   \n",
      "Precipitation_accumulated  6.027960e+04   245.519042   236.274081   \n",
      "Humidity                   3.880843e+02    19.699855    16.701412   \n",
      "Wind_Speed_kmh             1.867039e+00     1.366397     1.118688   \n",
      "Soil_Moisture              2.588765e+06  1608.963969  1436.722486   \n",
      "Soil_Temperature           3.955424e+01     6.289216     4.970325   \n",
      "Wind_Dir_Sin               7.699591e-01     0.877473     0.785074   \n",
      "Wind_Dir_Cos               4.576192e-01     0.676476     0.570285   \n",
      "\n",
      "                                     R2       SMAPE  \n",
      "Temperature                    0.260878   58.394313  \n",
      "Precipitation_accumulated -18469.103781   70.615254  \n",
      "Humidity                      -1.644377   20.460297  \n",
      "Wind_Speed_kmh                -0.385337   80.863733  \n",
      "Soil_Moisture                -50.549150   18.816245  \n",
      "Soil_Temperature              -1.464572   57.605196  \n",
      "Wind_Dir_Sin                  -0.401143  160.932347  \n",
      "Wind_Dir_Cos                  -0.244468  142.253586  \n",
      "The MAE for this fold was 0.25685879562761493\n",
      "Results of trial 0 saved in optuna_iteration_metrics/trial_0.json\n",
      "Current value: 0.25685879562761493, Current params: {'input_chunk_length': 42, 'output_chunk_length': 19, 'dropout': 0.10970982839711962, 'batch_size': 256, 'lr': 3.835126443855208e-05, 'weight_decay': 1.4794457276648664e-06, 'num_filters': 29, 'kernel_size': 8, 'num_layers': 1, 'dilation_base': 2, 'weight_norm': False, 'loss_fn': 'mse', 'optimizer': 'AdamW'}\n",
      "Best value: 0.25685879562761493, Best params: {'input_chunk_length': 42, 'output_chunk_length': 19, 'dropout': 0.10970982839711962, 'batch_size': 256, 'lr': 3.835126443855208e-05, 'weight_decay': 1.4794457276648664e-06, 'num_filters': 29, 'kernel_size': 8, 'num_layers': 1, 'dilation_base': 2, 'weight_norm': False, 'loss_fn': 'mse', 'optimizer': 'AdamW'}\n",
      "\n",
      "Starting Trial 1\n",
      "Hyperparameters: {'input_chunk_length': 57, 'output_chunk_length': 4, 'dropout': 0.3815406868905066, 'batch_size': 236, 'lr': 8.511397300728494e-05, 'weight_decay': 0.009689197987085375, 'num_filters': 13, 'kernel_size': 7, 'num_layers': 2, 'dilation_base': 3, 'weight_norm': False, 'loss_fn': 'smoothl1', 'optimizer': 'AdamW'}\n",
      "\n",
      "Training the model...\n",
      "Train set: 6647 samples\n",
      "Validation set: 1662 samples\n"
     ]
    },
    {
     "name": "stderr",
     "output_type": "stream",
     "text": [
      "Metric val_loss improved. New best score: 0.211\n",
      "Metric val_loss improved by 0.028 >= min_delta = 0.0005. New best score: 0.183\n",
      "Metric val_loss improved by 0.030 >= min_delta = 0.0005. New best score: 0.153\n",
      "Metric val_loss improved by 0.031 >= min_delta = 0.0005. New best score: 0.122\n",
      "Metric val_loss improved by 0.023 >= min_delta = 0.0005. New best score: 0.099\n",
      "Metric val_loss improved by 0.012 >= min_delta = 0.0005. New best score: 0.086\n",
      "Metric val_loss improved by 0.006 >= min_delta = 0.0005. New best score: 0.080\n",
      "Metric val_loss improved by 0.004 >= min_delta = 0.0005. New best score: 0.076\n",
      "Metric val_loss improved by 0.003 >= min_delta = 0.0005. New best score: 0.072\n",
      "Metric val_loss improved by 0.003 >= min_delta = 0.0005. New best score: 0.070\n",
      "Metric val_loss improved by 0.002 >= min_delta = 0.0005. New best score: 0.068\n",
      "Metric val_loss improved by 0.002 >= min_delta = 0.0005. New best score: 0.065\n",
      "Metric val_loss improved by 0.002 >= min_delta = 0.0005. New best score: 0.064\n",
      "Metric val_loss improved by 0.002 >= min_delta = 0.0005. New best score: 0.062\n",
      "Metric val_loss improved by 0.002 >= min_delta = 0.0005. New best score: 0.061\n",
      "Metric val_loss improved by 0.001 >= min_delta = 0.0005. New best score: 0.059\n",
      "Metric val_loss improved by 0.002 >= min_delta = 0.0005. New best score: 0.058\n",
      "Metric val_loss improved by 0.001 >= min_delta = 0.0005. New best score: 0.057\n",
      "Metric val_loss improved by 0.001 >= min_delta = 0.0005. New best score: 0.055\n",
      "Metric val_loss improved by 0.001 >= min_delta = 0.0005. New best score: 0.054\n",
      "Metric val_loss improved by 0.001 >= min_delta = 0.0005. New best score: 0.053\n",
      "Metric val_loss improved by 0.001 >= min_delta = 0.0005. New best score: 0.052\n",
      "Metric val_loss improved by 0.001 >= min_delta = 0.0005. New best score: 0.050\n",
      "Metric val_loss improved by 0.001 >= min_delta = 0.0005. New best score: 0.049\n",
      "Metric val_loss improved by 0.001 >= min_delta = 0.0005. New best score: 0.048\n",
      "Metric val_loss improved by 0.001 >= min_delta = 0.0005. New best score: 0.047\n",
      "Metric val_loss improved by 0.001 >= min_delta = 0.0005. New best score: 0.046\n",
      "Metric val_loss improved by 0.001 >= min_delta = 0.0005. New best score: 0.046\n",
      "Metric val_loss improved by 0.001 >= min_delta = 0.0005. New best score: 0.045\n",
      "Metric val_loss improved by 0.001 >= min_delta = 0.0005. New best score: 0.044\n",
      "`Trainer.fit` stopped: `max_epochs=30` reached.\n",
      "GPU available: True (cuda), used: True\n",
      "TPU available: False, using: 0 TPU cores\n",
      "HPU available: False, using: 0 HPUs\n",
      "LOCAL_RANK: 0 - CUDA_VISIBLE_DEVICES: [0]\n"
     ]
    },
    {
     "name": "stdout",
     "output_type": "stream",
     "text": [
      "Model loaded from checkpoint for trial 1\n"
     ]
    },
    {
     "name": "stderr",
     "output_type": "stream",
     "text": [
      "/home/eduardo/Documentos/Water-Cycle-Neural-Network/venv/lib/python3.12/site-packages/pytorch_lightning/trainer/connectors/data_connector.py:425: The 'predict_dataloader' does not have many workers which may be a bottleneck. Consider increasing the value of the `num_workers` argument` to `num_workers=11` in the `DataLoader` to improve performance.\n",
      "[I 2025-05-25 20:56:44,115] Trial 1 finished with value: 0.24724317644682645 and parameters: {'input_chunk_length': 57, 'output_chunk_length': 4, 'dropout': 0.3815406868905066, 'batch_size': 236, 'lr': 8.511397300728494e-05, 'weight_decay': 0.009689197987085375, 'num_filters': 13, 'kernel_size': 7, 'num_layers': 2, 'dilation_base': 3, 'weight_norm': False, 'loss_fn': 'smoothl1', 'optimizer': 'AdamW'}. Best is trial 1 with value: 0.24724317644682645.\n",
      "Specified future encoders in `add_encoders` at model creation but model does not accept future covariates. future encoders will be ignored.\n",
      "GPU available: True (cuda), used: True\n",
      "TPU available: False, using: 0 TPU cores\n",
      "HPU available: False, using: 0 HPUs\n",
      "LOCAL_RANK: 0 - CUDA_VISIBLE_DEVICES: [0]\n"
     ]
    },
    {
     "name": "stdout",
     "output_type": "stream",
     "text": [
      "Starting time series verification for consistency...\n",
      "\n",
      "Performance metrics:\n",
      "                                    MSE         RMSE          MAE  \\\n",
      "Temperature                2.111302e+01     4.594891     3.591438   \n",
      "Precipitation_accumulated  3.849800e+04   196.209075   190.432588   \n",
      "Humidity                   3.737200e+02    19.331839    16.160326   \n",
      "Wind_Speed_kmh             1.523899e+00     1.234463     0.972148   \n",
      "Soil_Moisture              2.850918e+06  1688.466163  1656.102406   \n",
      "Soil_Temperature           8.044236e+01     8.968966     7.746624   \n",
      "Wind_Dir_Sin               6.197842e-01     0.787264     0.727339   \n",
      "Wind_Dir_Cos               3.878013e-01     0.622737     0.528950   \n",
      "\n",
      "                                     R2       SMAPE  \n",
      "Temperature                    0.307699   50.291905  \n",
      "Precipitation_accumulated -11795.064964   52.511414  \n",
      "Humidity                      -1.546500   19.877267  \n",
      "Wind_Speed_kmh                -0.130728   79.406453  \n",
      "Soil_Moisture                -55.769308   21.439011  \n",
      "Soil_Temperature              -4.012257   71.622548  \n",
      "Wind_Dir_Sin                  -0.127860  176.168256  \n",
      "Wind_Dir_Cos                  -0.054603  131.816020  \n",
      "The MAE for this fold was 0.24724317644682645\n",
      "Results of trial 1 saved in optuna_iteration_metrics/trial_1.json\n",
      "Current value: 0.24724317644682645, Current params: {'input_chunk_length': 57, 'output_chunk_length': 4, 'dropout': 0.3815406868905066, 'batch_size': 236, 'lr': 8.511397300728494e-05, 'weight_decay': 0.009689197987085375, 'num_filters': 13, 'kernel_size': 7, 'num_layers': 2, 'dilation_base': 3, 'weight_norm': False, 'loss_fn': 'smoothl1', 'optimizer': 'AdamW'}\n",
      "Best value: 0.24724317644682645, Best params: {'input_chunk_length': 57, 'output_chunk_length': 4, 'dropout': 0.3815406868905066, 'batch_size': 236, 'lr': 8.511397300728494e-05, 'weight_decay': 0.009689197987085375, 'num_filters': 13, 'kernel_size': 7, 'num_layers': 2, 'dilation_base': 3, 'weight_norm': False, 'loss_fn': 'smoothl1', 'optimizer': 'AdamW'}\n",
      "\n",
      "Starting Trial 2\n",
      "Hyperparameters: {'input_chunk_length': 54, 'output_chunk_length': 16, 'dropout': 0.30938542813304837, 'batch_size': 256, 'lr': 1.8534579220146951e-06, 'weight_decay': 5.234799555639968e-06, 'num_filters': 9, 'kernel_size': 7, 'num_layers': 2, 'dilation_base': 1, 'weight_norm': True, 'loss_fn': 'huber', 'optimizer': 'SGD'}\n",
      "\n",
      "Training the model...\n",
      "Train set: 6647 samples\n",
      "Validation set: 1662 samples\n"
     ]
    },
    {
     "name": "stderr",
     "output_type": "stream",
     "text": [
      "Metric val_loss improved. New best score: 0.295\n",
      "Metric val_loss improved by 0.001 >= min_delta = 0.0005. New best score: 0.295\n",
      "Metric val_loss improved by 0.001 >= min_delta = 0.0005. New best score: 0.294\n",
      "Metric val_loss improved by 0.001 >= min_delta = 0.0005. New best score: 0.293\n",
      "Metric val_loss improved by 0.001 >= min_delta = 0.0005. New best score: 0.293\n",
      "Metric val_loss improved by 0.001 >= min_delta = 0.0005. New best score: 0.292\n",
      "`Trainer.fit` stopped: `max_epochs=30` reached.\n",
      "GPU available: True (cuda), used: True\n",
      "TPU available: False, using: 0 TPU cores\n",
      "HPU available: False, using: 0 HPUs\n",
      "LOCAL_RANK: 0 - CUDA_VISIBLE_DEVICES: [0]\n"
     ]
    },
    {
     "name": "stdout",
     "output_type": "stream",
     "text": [
      "Model loaded from checkpoint for trial 2\n"
     ]
    },
    {
     "name": "stderr",
     "output_type": "stream",
     "text": [
      "/home/eduardo/Documentos/Water-Cycle-Neural-Network/venv/lib/python3.12/site-packages/pytorch_lightning/trainer/connectors/data_connector.py:425: The 'predict_dataloader' does not have many workers which may be a bottleneck. Consider increasing the value of the `num_workers` argument` to `num_workers=11` in the `DataLoader` to improve performance.\n",
      "[I 2025-05-25 20:57:36,864] Trial 2 finished with value: 0.5969961305127529 and parameters: {'input_chunk_length': 54, 'output_chunk_length': 16, 'dropout': 0.30938542813304837, 'batch_size': 256, 'lr': 1.8534579220146951e-06, 'weight_decay': 5.234799555639968e-06, 'num_filters': 9, 'kernel_size': 7, 'num_layers': 2, 'dilation_base': 1, 'weight_norm': True, 'loss_fn': 'huber', 'optimizer': 'SGD'}. Best is trial 1 with value: 0.24724317644682645.\n",
      "Specified future encoders in `add_encoders` at model creation but model does not accept future covariates. future encoders will be ignored.\n",
      "GPU available: True (cuda), used: True\n",
      "TPU available: False, using: 0 TPU cores\n",
      "HPU available: False, using: 0 HPUs\n",
      "LOCAL_RANK: 0 - CUDA_VISIBLE_DEVICES: [0]\n"
     ]
    },
    {
     "name": "stdout",
     "output_type": "stream",
     "text": [
      "Starting time series verification for consistency...\n",
      "\n",
      "Performance metrics:\n",
      "                                    MSE         RMSE          MAE  \\\n",
      "Temperature                2.583439e+01     5.082754     4.200823   \n",
      "Precipitation_accumulated  7.110215e+05   843.220915   839.825443   \n",
      "Humidity                   6.882954e+03    82.963571    80.837610   \n",
      "Wind_Speed_kmh             3.101439e+00     1.761090     1.418759   \n",
      "Soil_Moisture              6.360996e+06  2522.101420  2459.305140   \n",
      "Soil_Temperature           1.960809e+02    14.002891    11.842210   \n",
      "Wind_Dir_Sin               2.091005e+00     1.446031     1.239477   \n",
      "Wind_Dir_Cos               5.758579e-01     0.758853     0.592765   \n",
      "\n",
      "                                      R2       SMAPE  \n",
      "Temperature                     0.153331   56.423513  \n",
      "Precipitation_accumulated -221371.595716  200.000000  \n",
      "Humidity                      -45.795673  163.911339  \n",
      "Wind_Speed_kmh                 -1.299044   93.193633  \n",
      "Soil_Moisture                -131.474825   33.684150  \n",
      "Soil_Temperature              -11.230088  161.670858  \n",
      "Wind_Dir_Sin                   -2.820990  145.151125  \n",
      "Wind_Dir_Cos                   -0.562343  106.075402  \n",
      "The MAE for this fold was 0.5969961305127529\n",
      "Results of trial 2 saved in optuna_iteration_metrics/trial_2.json\n",
      "Current value: 0.5969961305127529, Current params: {'input_chunk_length': 54, 'output_chunk_length': 16, 'dropout': 0.30938542813304837, 'batch_size': 256, 'lr': 1.8534579220146951e-06, 'weight_decay': 5.234799555639968e-06, 'num_filters': 9, 'kernel_size': 7, 'num_layers': 2, 'dilation_base': 1, 'weight_norm': True, 'loss_fn': 'huber', 'optimizer': 'SGD'}\n",
      "Best value: 0.24724317644682645, Best params: {'input_chunk_length': 57, 'output_chunk_length': 4, 'dropout': 0.3815406868905066, 'batch_size': 236, 'lr': 8.511397300728494e-05, 'weight_decay': 0.009689197987085375, 'num_filters': 13, 'kernel_size': 7, 'num_layers': 2, 'dilation_base': 3, 'weight_norm': False, 'loss_fn': 'smoothl1', 'optimizer': 'AdamW'}\n",
      "\n",
      "Starting Trial 3\n",
      "Hyperparameters: {'input_chunk_length': 36, 'output_chunk_length': 21, 'dropout': 0.11075566291197055, 'batch_size': 80, 'lr': 0.0036405774701015656, 'weight_decay': 0.00023914607261272953, 'num_filters': 70, 'kernel_size': 5, 'num_layers': 2, 'dilation_base': 1, 'weight_norm': False, 'loss_fn': 'smoothl1', 'optimizer': 'SGD'}\n",
      "\n",
      "Training the model...\n",
      "Train set: 6647 samples\n",
      "Validation set: 1662 samples\n"
     ]
    },
    {
     "name": "stderr",
     "output_type": "stream",
     "text": [
      "Metric val_loss improved. New best score: 0.051\n",
      "Metric val_loss improved by 0.008 >= min_delta = 0.0005. New best score: 0.043\n",
      "Metric val_loss improved by 0.003 >= min_delta = 0.0005. New best score: 0.039\n",
      "Metric val_loss improved by 0.002 >= min_delta = 0.0005. New best score: 0.038\n",
      "Metric val_loss improved by 0.001 >= min_delta = 0.0005. New best score: 0.037\n",
      "Metric val_loss improved by 0.001 >= min_delta = 0.0005. New best score: 0.035\n",
      "Metric val_loss improved by 0.001 >= min_delta = 0.0005. New best score: 0.034\n",
      "Metric val_loss improved by 0.001 >= min_delta = 0.0005. New best score: 0.034\n",
      "Metric val_loss improved by 0.001 >= min_delta = 0.0005. New best score: 0.033\n",
      "Metric val_loss improved by 0.001 >= min_delta = 0.0005. New best score: 0.032\n",
      "Metric val_loss improved by 0.001 >= min_delta = 0.0005. New best score: 0.031\n",
      "Metric val_loss improved by 0.001 >= min_delta = 0.0005. New best score: 0.031\n",
      "Metric val_loss improved by 0.001 >= min_delta = 0.0005. New best score: 0.030\n",
      "Metric val_loss improved by 0.001 >= min_delta = 0.0005. New best score: 0.030\n",
      "Metric val_loss improved by 0.001 >= min_delta = 0.0005. New best score: 0.029\n",
      "Metric val_loss improved by 0.001 >= min_delta = 0.0005. New best score: 0.028\n",
      "Metric val_loss improved by 0.001 >= min_delta = 0.0005. New best score: 0.028\n",
      "Metric val_loss improved by 0.001 >= min_delta = 0.0005. New best score: 0.027\n",
      "Metric val_loss improved by 0.001 >= min_delta = 0.0005. New best score: 0.026\n",
      "Metric val_loss improved by 0.001 >= min_delta = 0.0005. New best score: 0.026\n",
      "Metric val_loss improved by 0.001 >= min_delta = 0.0005. New best score: 0.025\n",
      "`Trainer.fit` stopped: `max_epochs=30` reached.\n",
      "GPU available: True (cuda), used: True\n",
      "TPU available: False, using: 0 TPU cores\n",
      "HPU available: False, using: 0 HPUs\n",
      "LOCAL_RANK: 0 - CUDA_VISIBLE_DEVICES: [0]\n"
     ]
    },
    {
     "name": "stdout",
     "output_type": "stream",
     "text": [
      "Model loaded from checkpoint for trial 3\n"
     ]
    },
    {
     "name": "stderr",
     "output_type": "stream",
     "text": [
      "/home/eduardo/Documentos/Water-Cycle-Neural-Network/venv/lib/python3.12/site-packages/pytorch_lightning/trainer/connectors/data_connector.py:425: The 'predict_dataloader' does not have many workers which may be a bottleneck. Consider increasing the value of the `num_workers` argument` to `num_workers=11` in the `DataLoader` to improve performance.\n",
      "[I 2025-05-25 20:58:52,477] Trial 3 finished with value: 0.16518938740344818 and parameters: {'input_chunk_length': 36, 'output_chunk_length': 21, 'dropout': 0.11075566291197055, 'batch_size': 80, 'lr': 0.0036405774701015656, 'weight_decay': 0.00023914607261272953, 'num_filters': 70, 'kernel_size': 5, 'num_layers': 2, 'dilation_base': 1, 'weight_norm': False, 'loss_fn': 'smoothl1', 'optimizer': 'SGD'}. Best is trial 3 with value: 0.16518938740344818.\n",
      "Specified future encoders in `add_encoders` at model creation but model does not accept future covariates. future encoders will be ignored.\n",
      "GPU available: True (cuda), used: True\n",
      "TPU available: False, using: 0 TPU cores\n",
      "HPU available: False, using: 0 HPUs\n",
      "LOCAL_RANK: 0 - CUDA_VISIBLE_DEVICES: [0]\n"
     ]
    },
    {
     "name": "stdout",
     "output_type": "stream",
     "text": [
      "Starting time series verification for consistency...\n",
      "\n",
      "Performance metrics:\n",
      "                                     MSE        RMSE         MAE           R2  \\\n",
      "Temperature                    13.547954    3.680755    3.018600     0.554772   \n",
      "Precipitation_accumulated   15546.456545  124.685430  115.908076 -4729.836808   \n",
      "Humidity                       87.085556    9.331964    7.787641     0.405661   \n",
      "Wind_Speed_kmh                  1.347800    1.160948    0.908402    -0.002170   \n",
      "Soil_Moisture              270879.210775  520.460576  452.631408    -4.283291   \n",
      "Soil_Temperature               18.289732    4.276650    3.546514    -0.140223   \n",
      "Wind_Dir_Sin                    0.590074    0.768163    0.664918    -0.070733   \n",
      "Wind_Dir_Cos                    0.404366    0.635898    0.549263    -0.101729   \n",
      "\n",
      "                                SMAPE  \n",
      "Temperature                 43.236931  \n",
      "Precipitation_accumulated   29.201680  \n",
      "Humidity                     9.210110  \n",
      "Wind_Speed_kmh              75.022026  \n",
      "Soil_Moisture                5.464278  \n",
      "Soil_Temperature            74.129179  \n",
      "Wind_Dir_Sin               132.592545  \n",
      "Wind_Dir_Cos               151.215772  \n",
      "The MAE for this fold was 0.16518938740344818\n",
      "Results of trial 3 saved in optuna_iteration_metrics/trial_3.json\n",
      "Current value: 0.16518938740344818, Current params: {'input_chunk_length': 36, 'output_chunk_length': 21, 'dropout': 0.11075566291197055, 'batch_size': 80, 'lr': 0.0036405774701015656, 'weight_decay': 0.00023914607261272953, 'num_filters': 70, 'kernel_size': 5, 'num_layers': 2, 'dilation_base': 1, 'weight_norm': False, 'loss_fn': 'smoothl1', 'optimizer': 'SGD'}\n",
      "Best value: 0.16518938740344818, Best params: {'input_chunk_length': 36, 'output_chunk_length': 21, 'dropout': 0.11075566291197055, 'batch_size': 80, 'lr': 0.0036405774701015656, 'weight_decay': 0.00023914607261272953, 'num_filters': 70, 'kernel_size': 5, 'num_layers': 2, 'dilation_base': 1, 'weight_norm': False, 'loss_fn': 'smoothl1', 'optimizer': 'SGD'}\n",
      "\n",
      "Starting Trial 4\n",
      "Hyperparameters: {'input_chunk_length': 31, 'output_chunk_length': 4, 'dropout': 0.4002992446468062, 'batch_size': 251, 'lr': 0.0040537780612485514, 'weight_decay': 0.00019340405599100886, 'num_filters': 40, 'kernel_size': 8, 'num_layers': 2, 'dilation_base': 4, 'weight_norm': True, 'loss_fn': 'smoothl1', 'optimizer': 'AdamW'}\n",
      "\n",
      "Training the model...\n",
      "Train set: 6647 samples\n",
      "Validation set: 1662 samples\n"
     ]
    },
    {
     "name": "stderr",
     "output_type": "stream",
     "text": [
      "Metric val_loss improved. New best score: 0.043\n",
      "Metric val_loss improved by 0.007 >= min_delta = 0.0005. New best score: 0.036\n",
      "Metric val_loss improved by 0.005 >= min_delta = 0.0005. New best score: 0.031\n",
      "Metric val_loss improved by 0.004 >= min_delta = 0.0005. New best score: 0.027\n",
      "Metric val_loss improved by 0.003 >= min_delta = 0.0005. New best score: 0.023\n",
      "Metric val_loss improved by 0.001 >= min_delta = 0.0005. New best score: 0.022\n",
      "Metric val_loss improved by 0.001 >= min_delta = 0.0005. New best score: 0.021\n",
      "Metric val_loss improved by 0.001 >= min_delta = 0.0005. New best score: 0.020\n",
      "Metric val_loss improved by 0.001 >= min_delta = 0.0005. New best score: 0.019\n",
      "Metric val_loss improved by 0.001 >= min_delta = 0.0005. New best score: 0.019\n",
      "Metric val_loss improved by 0.001 >= min_delta = 0.0005. New best score: 0.018\n",
      "Metric val_loss improved by 0.001 >= min_delta = 0.0005. New best score: 0.017\n",
      "Monitored metric val_loss did not improve in the last 15 records. Best score: 0.017. Signaling Trainer to stop.\n",
      "`Trainer.fit` stopped: `max_epochs=30` reached.\n",
      "GPU available: True (cuda), used: True\n",
      "TPU available: False, using: 0 TPU cores\n",
      "HPU available: False, using: 0 HPUs\n",
      "LOCAL_RANK: 0 - CUDA_VISIBLE_DEVICES: [0]\n"
     ]
    },
    {
     "name": "stdout",
     "output_type": "stream",
     "text": [
      "Model loaded from checkpoint for trial 4\n"
     ]
    },
    {
     "name": "stderr",
     "output_type": "stream",
     "text": [
      "/home/eduardo/Documentos/Water-Cycle-Neural-Network/venv/lib/python3.12/site-packages/pytorch_lightning/trainer/connectors/data_connector.py:425: The 'predict_dataloader' does not have many workers which may be a bottleneck. Consider increasing the value of the `num_workers` argument` to `num_workers=11` in the `DataLoader` to improve performance.\n",
      "[I 2025-05-25 21:00:59,073] Trial 4 finished with value: 0.11382590314353705 and parameters: {'input_chunk_length': 31, 'output_chunk_length': 4, 'dropout': 0.4002992446468062, 'batch_size': 251, 'lr': 0.0040537780612485514, 'weight_decay': 0.00019340405599100886, 'num_filters': 40, 'kernel_size': 8, 'num_layers': 2, 'dilation_base': 4, 'weight_norm': True, 'loss_fn': 'smoothl1', 'optimizer': 'AdamW'}. Best is trial 4 with value: 0.11382590314353705.\n",
      "Specified future encoders in `add_encoders` at model creation but model does not accept future covariates. future encoders will be ignored.\n",
      "GPU available: True (cuda), used: True\n",
      "TPU available: False, using: 0 TPU cores\n",
      "HPU available: False, using: 0 HPUs\n",
      "LOCAL_RANK: 0 - CUDA_VISIBLE_DEVICES: [0]\n"
     ]
    },
    {
     "name": "stdout",
     "output_type": "stream",
     "text": [
      "Starting time series verification for consistency...\n",
      "\n",
      "Performance metrics:\n",
      "                                    MSE        RMSE         MAE          R2  \\\n",
      "Temperature                    6.982284    2.642401    2.102394    0.771135   \n",
      "Precipitation_accumulated    372.125299   19.290549   17.365846 -108.266649   \n",
      "Humidity                      45.797532    6.767387    5.301776    0.687729   \n",
      "Wind_Speed_kmh                 1.120372    1.058476    0.832821    0.167969   \n",
      "Soil_Moisture              21569.155917  146.864413  124.845490    0.615225   \n",
      "Soil_Temperature               3.885918    1.971273    1.648651    0.758701   \n",
      "Wind_Dir_Sin                   0.584921    0.764801    0.637420   -0.062374   \n",
      "Wind_Dir_Cos                   0.386772    0.621910    0.530924   -0.055047   \n",
      "\n",
      "                                SMAPE  \n",
      "Temperature                 33.412960  \n",
      "Precipitation_accumulated    3.820461  \n",
      "Humidity                     6.273000  \n",
      "Wind_Speed_kmh              70.552339  \n",
      "Soil_Moisture                1.461826  \n",
      "Soil_Temperature            36.952873  \n",
      "Wind_Dir_Sin               123.857033  \n",
      "Wind_Dir_Cos               136.453309  \n",
      "The MAE for this fold was 0.11382590314353705\n",
      "Results of trial 4 saved in optuna_iteration_metrics/trial_4.json\n",
      "Current value: 0.11382590314353705, Current params: {'input_chunk_length': 31, 'output_chunk_length': 4, 'dropout': 0.4002992446468062, 'batch_size': 251, 'lr': 0.0040537780612485514, 'weight_decay': 0.00019340405599100886, 'num_filters': 40, 'kernel_size': 8, 'num_layers': 2, 'dilation_base': 4, 'weight_norm': True, 'loss_fn': 'smoothl1', 'optimizer': 'AdamW'}\n",
      "Best value: 0.11382590314353705, Best params: {'input_chunk_length': 31, 'output_chunk_length': 4, 'dropout': 0.4002992446468062, 'batch_size': 251, 'lr': 0.0040537780612485514, 'weight_decay': 0.00019340405599100886, 'num_filters': 40, 'kernel_size': 8, 'num_layers': 2, 'dilation_base': 4, 'weight_norm': True, 'loss_fn': 'smoothl1', 'optimizer': 'AdamW'}\n",
      "\n",
      "Starting Trial 5\n",
      "Hyperparameters: {'input_chunk_length': 33, 'output_chunk_length': 1, 'dropout': 0.43216671313725896, 'batch_size': 82, 'lr': 0.0008167634899109935, 'weight_decay': 0.0003525267725097829, 'num_filters': 52, 'kernel_size': 6, 'num_layers': 1, 'dilation_base': 1, 'weight_norm': True, 'loss_fn': 'mae', 'optimizer': 'RMSprop'}\n",
      "\n",
      "Training the model...\n",
      "Train set: 6647 samples\n",
      "Validation set: 1662 samples\n"
     ]
    },
    {
     "name": "stderr",
     "output_type": "stream",
     "text": [
      "[I 2025-05-25 21:01:00,765] Trial 5 pruned. Trial was pruned at epoch 0.\n"
     ]
    },
    {
     "name": "stdout",
     "output_type": "stream",
     "text": [
      "Current value: 0.21727204831375618, Current params: {'input_chunk_length': 33, 'output_chunk_length': 1, 'dropout': 0.43216671313725896, 'batch_size': 82, 'lr': 0.0008167634899109935, 'weight_decay': 0.0003525267725097829, 'num_filters': 52, 'kernel_size': 6, 'num_layers': 1, 'dilation_base': 1, 'weight_norm': True, 'loss_fn': 'mae', 'optimizer': 'RMSprop'}\n",
      "Best value: 0.11382590314353705, Best params: {'input_chunk_length': 31, 'output_chunk_length': 4, 'dropout': 0.4002992446468062, 'batch_size': 251, 'lr': 0.0040537780612485514, 'weight_decay': 0.00019340405599100886, 'num_filters': 40, 'kernel_size': 8, 'num_layers': 2, 'dilation_base': 4, 'weight_norm': True, 'loss_fn': 'smoothl1', 'optimizer': 'AdamW'}\n",
      "\n",
      "Starting Trial 6\n",
      "Hyperparameters: {'input_chunk_length': 60, 'output_chunk_length': 2, 'dropout': 0.15378786123442137, 'batch_size': 254, 'lr': 3.029076593439685e-05, 'weight_decay': 0.00516497083370111, 'num_filters': 31, 'kernel_size': 2, 'num_layers': 2, 'dilation_base': 3, 'weight_norm': True, 'loss_fn': 'mae', 'optimizer': 'SGD'}\n",
      "\n",
      "Training the model...\n",
      "Train set: 6647 samples\n",
      "Validation set: 1662 samples\n"
     ]
    },
    {
     "name": "stderr",
     "output_type": "stream",
     "text": [
      "Specified future encoders in `add_encoders` at model creation but model does not accept future covariates. future encoders will be ignored.\n",
      "GPU available: True (cuda), used: True\n",
      "TPU available: False, using: 0 TPU cores\n",
      "HPU available: False, using: 0 HPUs\n",
      "LOCAL_RANK: 0 - CUDA_VISIBLE_DEVICES: [0]\n",
      "[I 2025-05-25 21:01:59,453] Trial 6 pruned. Trial was pruned at epoch 0.\n",
      "Specified future encoders in `add_encoders` at model creation but model does not accept future covariates. future encoders will be ignored.\n",
      "GPU available: True (cuda), used: True\n",
      "TPU available: False, using: 0 TPU cores\n",
      "HPU available: False, using: 0 HPUs\n",
      "LOCAL_RANK: 0 - CUDA_VISIBLE_DEVICES: [0]\n"
     ]
    },
    {
     "name": "stdout",
     "output_type": "stream",
     "text": [
      "Current value: 0.5483307399680324, Current params: {'input_chunk_length': 60, 'output_chunk_length': 2, 'dropout': 0.15378786123442137, 'batch_size': 254, 'lr': 3.029076593439685e-05, 'weight_decay': 0.00516497083370111, 'num_filters': 31, 'kernel_size': 2, 'num_layers': 2, 'dilation_base': 3, 'weight_norm': True, 'loss_fn': 'mae', 'optimizer': 'SGD'}\n",
      "Best value: 0.11382590314353705, Best params: {'input_chunk_length': 31, 'output_chunk_length': 4, 'dropout': 0.4002992446468062, 'batch_size': 251, 'lr': 0.0040537780612485514, 'weight_decay': 0.00019340405599100886, 'num_filters': 40, 'kernel_size': 8, 'num_layers': 2, 'dilation_base': 4, 'weight_norm': True, 'loss_fn': 'smoothl1', 'optimizer': 'AdamW'}\n",
      "\n",
      "Starting Trial 7\n",
      "Hyperparameters: {'input_chunk_length': 72, 'output_chunk_length': 21, 'dropout': 0.26653043710033975, 'batch_size': 100, 'lr': 1.768027363557172e-05, 'weight_decay': 3.1834508920679545e-05, 'num_filters': 72, 'kernel_size': 6, 'num_layers': 3, 'dilation_base': 2, 'weight_norm': False, 'loss_fn': 'mae', 'optimizer': 'RMSprop'}\n",
      "\n",
      "Training the model...\n",
      "Train set: 6647 samples\n",
      "Validation set: 1662 samples\n"
     ]
    },
    {
     "name": "stderr",
     "output_type": "stream",
     "text": [
      "[I 2025-05-25 21:02:11,957] Trial 7 pruned. Trial was pruned at epoch 0.\n",
      "Specified future encoders in `add_encoders` at model creation but model does not accept future covariates. future encoders will be ignored.\n",
      "GPU available: True (cuda), used: True\n",
      "TPU available: False, using: 0 TPU cores\n",
      "HPU available: False, using: 0 HPUs\n",
      "LOCAL_RANK: 0 - CUDA_VISIBLE_DEVICES: [0]\n"
     ]
    },
    {
     "name": "stdout",
     "output_type": "stream",
     "text": [
      "Current value: 0.3626553993259255, Current params: {'input_chunk_length': 72, 'output_chunk_length': 21, 'dropout': 0.26653043710033975, 'batch_size': 100, 'lr': 1.768027363557172e-05, 'weight_decay': 3.1834508920679545e-05, 'num_filters': 72, 'kernel_size': 6, 'num_layers': 3, 'dilation_base': 2, 'weight_norm': False, 'loss_fn': 'mae', 'optimizer': 'RMSprop'}\n",
      "Best value: 0.11382590314353705, Best params: {'input_chunk_length': 31, 'output_chunk_length': 4, 'dropout': 0.4002992446468062, 'batch_size': 251, 'lr': 0.0040537780612485514, 'weight_decay': 0.00019340405599100886, 'num_filters': 40, 'kernel_size': 8, 'num_layers': 2, 'dilation_base': 4, 'weight_norm': True, 'loss_fn': 'smoothl1', 'optimizer': 'AdamW'}\n",
      "\n",
      "Starting Trial 8\n",
      "Hyperparameters: {'input_chunk_length': 35, 'output_chunk_length': 15, 'dropout': 0.47541632092895414, 'batch_size': 198, 'lr': 4.2319121685020654e-05, 'weight_decay': 3.0944307743223165e-05, 'num_filters': 68, 'kernel_size': 8, 'num_layers': 1, 'dilation_base': 3, 'weight_norm': False, 'loss_fn': 'mse', 'optimizer': 'Adam'}\n",
      "\n",
      "Training the model...\n",
      "Train set: 6647 samples\n",
      "Validation set: 1662 samples\n"
     ]
    },
    {
     "name": "stderr",
     "output_type": "stream",
     "text": [
      "[I 2025-05-25 21:02:13,765] Trial 8 pruned. Trial was pruned at epoch 0.\n",
      "Specified future encoders in `add_encoders` at model creation but model does not accept future covariates. future encoders will be ignored.\n",
      "GPU available: True (cuda), used: True\n",
      "TPU available: False, using: 0 TPU cores\n",
      "HPU available: False, using: 0 HPUs\n",
      "LOCAL_RANK: 0 - CUDA_VISIBLE_DEVICES: [0]\n"
     ]
    },
    {
     "name": "stdout",
     "output_type": "stream",
     "text": [
      "Current value: 0.46714730807611726, Current params: {'input_chunk_length': 35, 'output_chunk_length': 15, 'dropout': 0.47541632092895414, 'batch_size': 198, 'lr': 4.2319121685020654e-05, 'weight_decay': 3.0944307743223165e-05, 'num_filters': 68, 'kernel_size': 8, 'num_layers': 1, 'dilation_base': 3, 'weight_norm': False, 'loss_fn': 'mse', 'optimizer': 'Adam'}\n",
      "Best value: 0.11382590314353705, Best params: {'input_chunk_length': 31, 'output_chunk_length': 4, 'dropout': 0.4002992446468062, 'batch_size': 251, 'lr': 0.0040537780612485514, 'weight_decay': 0.00019340405599100886, 'num_filters': 40, 'kernel_size': 8, 'num_layers': 2, 'dilation_base': 4, 'weight_norm': True, 'loss_fn': 'smoothl1', 'optimizer': 'AdamW'}\n",
      "\n",
      "Starting Trial 9\n",
      "Hyperparameters: {'input_chunk_length': 57, 'output_chunk_length': 11, 'dropout': 0.3773157439050261, 'batch_size': 106, 'lr': 0.0002511353850322431, 'weight_decay': 0.00034567023993668225, 'num_filters': 14, 'kernel_size': 7, 'num_layers': 1, 'dilation_base': 3, 'weight_norm': False, 'loss_fn': 'huber', 'optimizer': 'Adam'}\n",
      "\n",
      "Training the model...\n",
      "Train set: 6647 samples\n",
      "Validation set: 1662 samples\n"
     ]
    },
    {
     "name": "stderr",
     "output_type": "stream",
     "text": [
      "Metric val_loss improved. New best score: 0.148\n",
      "Metric val_loss improved by 0.027 >= min_delta = 0.0005. New best score: 0.121\n",
      "Metric val_loss improved by 0.020 >= min_delta = 0.0005. New best score: 0.102\n",
      "Metric val_loss improved by 0.018 >= min_delta = 0.0005. New best score: 0.084\n",
      "Metric val_loss improved by 0.011 >= min_delta = 0.0005. New best score: 0.073\n",
      "Metric val_loss improved by 0.009 >= min_delta = 0.0005. New best score: 0.064\n",
      "Metric val_loss improved by 0.007 >= min_delta = 0.0005. New best score: 0.057\n",
      "Metric val_loss improved by 0.005 >= min_delta = 0.0005. New best score: 0.053\n",
      "Metric val_loss improved by 0.004 >= min_delta = 0.0005. New best score: 0.048\n",
      "Metric val_loss improved by 0.003 >= min_delta = 0.0005. New best score: 0.045\n",
      "Metric val_loss improved by 0.003 >= min_delta = 0.0005. New best score: 0.042\n",
      "Metric val_loss improved by 0.002 >= min_delta = 0.0005. New best score: 0.041\n",
      "Metric val_loss improved by 0.002 >= min_delta = 0.0005. New best score: 0.039\n",
      "Metric val_loss improved by 0.001 >= min_delta = 0.0005. New best score: 0.038\n",
      "Metric val_loss improved by 0.001 >= min_delta = 0.0005. New best score: 0.037\n",
      "Metric val_loss improved by 0.001 >= min_delta = 0.0005. New best score: 0.036\n",
      "Metric val_loss improved by 0.001 >= min_delta = 0.0005. New best score: 0.035\n",
      "Metric val_loss improved by 0.001 >= min_delta = 0.0005. New best score: 0.034\n",
      "Metric val_loss improved by 0.001 >= min_delta = 0.0005. New best score: 0.033\n",
      "Metric val_loss improved by 0.002 >= min_delta = 0.0005. New best score: 0.031\n",
      "Metric val_loss improved by 0.001 >= min_delta = 0.0005. New best score: 0.030\n",
      "Metric val_loss improved by 0.001 >= min_delta = 0.0005. New best score: 0.029\n",
      "Metric val_loss improved by 0.001 >= min_delta = 0.0005. New best score: 0.029\n",
      "Metric val_loss improved by 0.001 >= min_delta = 0.0005. New best score: 0.028\n",
      "`Trainer.fit` stopped: `max_epochs=30` reached.\n",
      "GPU available: True (cuda), used: True\n",
      "TPU available: False, using: 0 TPU cores\n",
      "HPU available: False, using: 0 HPUs\n",
      "LOCAL_RANK: 0 - CUDA_VISIBLE_DEVICES: [0]\n"
     ]
    },
    {
     "name": "stdout",
     "output_type": "stream",
     "text": [
      "Model loaded from checkpoint for trial 9\n"
     ]
    },
    {
     "name": "stderr",
     "output_type": "stream",
     "text": [
      "/home/eduardo/Documentos/Water-Cycle-Neural-Network/venv/lib/python3.12/site-packages/pytorch_lightning/trainer/connectors/data_connector.py:425: The 'predict_dataloader' does not have many workers which may be a bottleneck. Consider increasing the value of the `num_workers` argument` to `num_workers=11` in the `DataLoader` to improve performance.\n",
      "[I 2025-05-25 21:02:56,338] Trial 9 finished with value: 0.17195229363845616 and parameters: {'input_chunk_length': 57, 'output_chunk_length': 11, 'dropout': 0.3773157439050261, 'batch_size': 106, 'lr': 0.0002511353850322431, 'weight_decay': 0.00034567023993668225, 'num_filters': 14, 'kernel_size': 7, 'num_layers': 1, 'dilation_base': 3, 'weight_norm': False, 'loss_fn': 'huber', 'optimizer': 'Adam'}. Best is trial 4 with value: 0.11382590314353705.\n",
      "Specified future encoders in `add_encoders` at model creation but model does not accept future covariates. future encoders will be ignored.\n",
      "GPU available: True (cuda), used: True\n",
      "TPU available: False, using: 0 TPU cores\n",
      "HPU available: False, using: 0 HPUs\n",
      "LOCAL_RANK: 0 - CUDA_VISIBLE_DEVICES: [0]\n"
     ]
    },
    {
     "name": "stdout",
     "output_type": "stream",
     "text": [
      "Starting time series verification for consistency...\n",
      "\n",
      "Performance metrics:\n",
      "                                     MSE        RMSE         MAE           R2  \\\n",
      "Temperature                    17.127914    4.138588    3.359354     0.439221   \n",
      "Precipitation_accumulated   18387.511812  135.600560  124.404464 -5703.213254   \n",
      "Humidity                      155.912054   12.486475   10.277219    -0.059877   \n",
      "Wind_Speed_kmh                  1.396236    1.181624    0.878658    -0.035837   \n",
      "Soil_Moisture              445265.028548  667.281821  547.156046    -8.188882   \n",
      "Soil_Temperature               15.972600    3.996573    3.265713     0.004798   \n",
      "Wind_Dir_Sin                    0.660939    0.812981    0.653671    -0.208021   \n",
      "Wind_Dir_Cos                    0.382249    0.618263    0.532370    -0.036873   \n",
      "\n",
      "                                SMAPE  \n",
      "Temperature                 45.556475  \n",
      "Precipitation_accumulated   31.912394  \n",
      "Humidity                    12.101130  \n",
      "Wind_Speed_kmh              76.302507  \n",
      "Soil_Moisture                6.697890  \n",
      "Soil_Temperature            68.144932  \n",
      "Wind_Dir_Sin               113.706683  \n",
      "Wind_Dir_Cos               138.733805  \n",
      "The MAE for this fold was 0.17195229363845616\n",
      "Results of trial 9 saved in optuna_iteration_metrics/trial_9.json\n",
      "Current value: 0.17195229363845616, Current params: {'input_chunk_length': 57, 'output_chunk_length': 11, 'dropout': 0.3773157439050261, 'batch_size': 106, 'lr': 0.0002511353850322431, 'weight_decay': 0.00034567023993668225, 'num_filters': 14, 'kernel_size': 7, 'num_layers': 1, 'dilation_base': 3, 'weight_norm': False, 'loss_fn': 'huber', 'optimizer': 'Adam'}\n",
      "Best value: 0.11382590314353705, Best params: {'input_chunk_length': 31, 'output_chunk_length': 4, 'dropout': 0.4002992446468062, 'batch_size': 251, 'lr': 0.0040537780612485514, 'weight_decay': 0.00019340405599100886, 'num_filters': 40, 'kernel_size': 8, 'num_layers': 2, 'dilation_base': 4, 'weight_norm': True, 'loss_fn': 'smoothl1', 'optimizer': 'AdamW'}\n",
      "\n",
      "Starting Trial 10\n",
      "Hyperparameters: {'input_chunk_length': 24, 'output_chunk_length': 7, 'dropout': 0.2534836542999394, 'batch_size': 150, 'lr': 0.004341487016749435, 'weight_decay': 0.001643873868839072, 'num_filters': 114, 'kernel_size': 3, 'num_layers': 3, 'dilation_base': 4, 'weight_norm': True, 'loss_fn': 'smoothl1', 'optimizer': 'AdamW'}\n",
      "\n",
      "Training the model...\n",
      "Train set: 6647 samples\n",
      "Validation set: 1662 samples\n"
     ]
    },
    {
     "name": "stderr",
     "output_type": "stream",
     "text": [
      "Metric val_loss improved. New best score: 0.022\n",
      "Metric val_loss improved by 0.002 >= min_delta = 0.0005. New best score: 0.020\n",
      "Metric val_loss improved by 0.001 >= min_delta = 0.0005. New best score: 0.019\n",
      "Monitored metric val_loss did not improve in the last 15 records. Best score: 0.019. Signaling Trainer to stop.\n",
      "GPU available: True (cuda), used: True\n",
      "TPU available: False, using: 0 TPU cores\n",
      "HPU available: False, using: 0 HPUs\n",
      "LOCAL_RANK: 0 - CUDA_VISIBLE_DEVICES: [0]\n"
     ]
    },
    {
     "name": "stdout",
     "output_type": "stream",
     "text": [
      "Model loaded from checkpoint for trial 10\n"
     ]
    },
    {
     "name": "stderr",
     "output_type": "stream",
     "text": [
      "/home/eduardo/Documentos/Water-Cycle-Neural-Network/venv/lib/python3.12/site-packages/pytorch_lightning/trainer/connectors/data_connector.py:425: The 'predict_dataloader' does not have many workers which may be a bottleneck. Consider increasing the value of the `num_workers` argument` to `num_workers=11` in the `DataLoader` to improve performance.\n",
      "[I 2025-05-25 21:10:03,216] Trial 10 finished with value: 0.1310128869433358 and parameters: {'input_chunk_length': 24, 'output_chunk_length': 7, 'dropout': 0.2534836542999394, 'batch_size': 150, 'lr': 0.004341487016749435, 'weight_decay': 0.001643873868839072, 'num_filters': 114, 'kernel_size': 3, 'num_layers': 3, 'dilation_base': 4, 'weight_norm': True, 'loss_fn': 'smoothl1', 'optimizer': 'AdamW'}. Best is trial 4 with value: 0.11382590314353705.\n",
      "Specified future encoders in `add_encoders` at model creation but model does not accept future covariates. future encoders will be ignored.\n",
      "GPU available: True (cuda), used: True\n",
      "TPU available: False, using: 0 TPU cores\n",
      "HPU available: False, using: 0 HPUs\n",
      "LOCAL_RANK: 0 - CUDA_VISIBLE_DEVICES: [0]\n"
     ]
    },
    {
     "name": "stdout",
     "output_type": "stream",
     "text": [
      "Starting time series verification for consistency...\n",
      "\n",
      "Performance metrics:\n",
      "                                    MSE        RMSE         MAE          R2  \\\n",
      "Temperature                    8.694565    2.948655    2.287665    0.714438   \n",
      "Precipitation_accumulated   1529.958628   39.114686   33.707897 -445.473642   \n",
      "Humidity                      73.876621    8.595151    7.065880    0.495796   \n",
      "Wind_Speed_kmh                 1.258623    1.121884    0.908992    0.067142   \n",
      "Soil_Moisture              62803.043128  250.605353  202.930144   -0.101761   \n",
      "Soil_Temperature              14.482463    3.805583    3.243717    0.100871   \n",
      "Wind_Dir_Sin                   0.618708    0.786580    0.676070   -0.123596   \n",
      "Wind_Dir_Cos                   0.396967    0.630053    0.525901   -0.083347   \n",
      "\n",
      "                                SMAPE  \n",
      "Temperature                 35.301292  \n",
      "Precipitation_accumulated    7.620309  \n",
      "Humidity                     8.341377  \n",
      "Wind_Speed_kmh              72.979030  \n",
      "Soil_Moisture                2.399313  \n",
      "Soil_Temperature            66.649947  \n",
      "Wind_Dir_Sin               137.186171  \n",
      "Wind_Dir_Cos               124.820964  \n",
      "The MAE for this fold was 0.1310128869433358\n",
      "Results of trial 10 saved in optuna_iteration_metrics/trial_10.json\n",
      "Current value: 0.1310128869433358, Current params: {'input_chunk_length': 24, 'output_chunk_length': 7, 'dropout': 0.2534836542999394, 'batch_size': 150, 'lr': 0.004341487016749435, 'weight_decay': 0.001643873868839072, 'num_filters': 114, 'kernel_size': 3, 'num_layers': 3, 'dilation_base': 4, 'weight_norm': True, 'loss_fn': 'smoothl1', 'optimizer': 'AdamW'}\n",
      "Best value: 0.11382590314353705, Best params: {'input_chunk_length': 31, 'output_chunk_length': 4, 'dropout': 0.4002992446468062, 'batch_size': 251, 'lr': 0.0040537780612485514, 'weight_decay': 0.00019340405599100886, 'num_filters': 40, 'kernel_size': 8, 'num_layers': 2, 'dilation_base': 4, 'weight_norm': True, 'loss_fn': 'smoothl1', 'optimizer': 'AdamW'}\n",
      "\n",
      "Starting Trial 11\n",
      "Hyperparameters: {'input_chunk_length': 25, 'output_chunk_length': 8, 'dropout': 0.23775210752326476, 'batch_size': 153, 'lr': 0.004666586765557407, 'weight_decay': 0.0011083792346123613, 'num_filters': 105, 'kernel_size': 3, 'num_layers': 3, 'dilation_base': 4, 'weight_norm': True, 'loss_fn': 'smoothl1', 'optimizer': 'AdamW'}\n",
      "\n",
      "Training the model...\n",
      "Train set: 6647 samples\n",
      "Validation set: 1662 samples\n"
     ]
    },
    {
     "name": "stderr",
     "output_type": "stream",
     "text": [
      "Metric val_loss improved. New best score: 0.024\n",
      "Metric val_loss improved by 0.003 >= min_delta = 0.0005. New best score: 0.021\n",
      "Monitored metric val_loss did not improve in the last 15 records. Best score: 0.021. Signaling Trainer to stop.\n",
      "GPU available: True (cuda), used: True\n",
      "TPU available: False, using: 0 TPU cores\n",
      "HPU available: False, using: 0 HPUs\n",
      "LOCAL_RANK: 0 - CUDA_VISIBLE_DEVICES: [0]\n"
     ]
    },
    {
     "name": "stdout",
     "output_type": "stream",
     "text": [
      "Model loaded from checkpoint for trial 11\n"
     ]
    },
    {
     "name": "stderr",
     "output_type": "stream",
     "text": [
      "/home/eduardo/Documentos/Water-Cycle-Neural-Network/venv/lib/python3.12/site-packages/pytorch_lightning/trainer/connectors/data_connector.py:425: The 'predict_dataloader' does not have many workers which may be a bottleneck. Consider increasing the value of the `num_workers` argument` to `num_workers=11` in the `DataLoader` to improve performance.\n",
      "[I 2025-05-25 21:14:13,420] Trial 11 finished with value: 0.13637179990644313 and parameters: {'input_chunk_length': 25, 'output_chunk_length': 8, 'dropout': 0.23775210752326476, 'batch_size': 153, 'lr': 0.004666586765557407, 'weight_decay': 0.0011083792346123613, 'num_filters': 105, 'kernel_size': 3, 'num_layers': 3, 'dilation_base': 4, 'weight_norm': True, 'loss_fn': 'smoothl1', 'optimizer': 'AdamW'}. Best is trial 4 with value: 0.11382590314353705.\n",
      "Specified future encoders in `add_encoders` at model creation but model does not accept future covariates. future encoders will be ignored.\n",
      "GPU available: True (cuda), used: True\n",
      "TPU available: False, using: 0 TPU cores\n",
      "HPU available: False, using: 0 HPUs\n",
      "LOCAL_RANK: 0 - CUDA_VISIBLE_DEVICES: [0]\n"
     ]
    },
    {
     "name": "stdout",
     "output_type": "stream",
     "text": [
      "Starting time series verification for consistency...\n",
      "\n",
      "Performance metrics:\n",
      "                                     MSE        RMSE         MAE          R2  \\\n",
      "Temperature                    12.107974    3.479651    2.701151    0.602659   \n",
      "Precipitation_accumulated    1742.611136   41.744594   34.411058 -509.110592   \n",
      "Humidity                       98.403384    9.919848    8.440151    0.328336   \n",
      "Wind_Speed_kmh                  1.412097    1.188317    0.912101   -0.047814   \n",
      "Soil_Moisture              203630.312972  451.254156  394.313801   -2.600593   \n",
      "Soil_Temperature                5.530871    2.351780    1.911538    0.656369   \n",
      "Wind_Dir_Sin                    0.656493    0.810243    0.658693   -0.192282   \n",
      "Wind_Dir_Cos                    0.411058    0.641138    0.539856   -0.121577   \n",
      "\n",
      "                                SMAPE  \n",
      "Temperature                 39.334599  \n",
      "Precipitation_accumulated    7.814396  \n",
      "Humidity                     9.919410  \n",
      "Wind_Speed_kmh              77.261265  \n",
      "Soil_Moisture                4.725478  \n",
      "Soil_Temperature            35.505530  \n",
      "Wind_Dir_Sin               122.143509  \n",
      "Wind_Dir_Cos               131.036171  \n",
      "The MAE for this fold was 0.13637179990644313\n",
      "Results of trial 11 saved in optuna_iteration_metrics/trial_11.json\n",
      "Current value: 0.13637179990644313, Current params: {'input_chunk_length': 25, 'output_chunk_length': 8, 'dropout': 0.23775210752326476, 'batch_size': 153, 'lr': 0.004666586765557407, 'weight_decay': 0.0011083792346123613, 'num_filters': 105, 'kernel_size': 3, 'num_layers': 3, 'dilation_base': 4, 'weight_norm': True, 'loss_fn': 'smoothl1', 'optimizer': 'AdamW'}\n",
      "Best value: 0.11382590314353705, Best params: {'input_chunk_length': 31, 'output_chunk_length': 4, 'dropout': 0.4002992446468062, 'batch_size': 251, 'lr': 0.0040537780612485514, 'weight_decay': 0.00019340405599100886, 'num_filters': 40, 'kernel_size': 8, 'num_layers': 2, 'dilation_base': 4, 'weight_norm': True, 'loss_fn': 'smoothl1', 'optimizer': 'AdamW'}\n",
      "\n",
      "Starting Trial 12\n",
      "Hyperparameters: {'input_chunk_length': 26, 'output_chunk_length': 7, 'dropout': 0.32860846534150756, 'batch_size': 150, 'lr': 0.0010170724125864556, 'weight_decay': 0.0018515504607637164, 'num_filters': 117, 'kernel_size': 4, 'num_layers': 3, 'dilation_base': 4, 'weight_norm': True, 'loss_fn': 'smoothl1', 'optimizer': 'AdamW'}\n",
      "\n",
      "Training the model...\n",
      "Train set: 6647 samples\n",
      "Validation set: 1662 samples\n"
     ]
    },
    {
     "name": "stderr",
     "output_type": "stream",
     "text": [
      "Metric val_loss improved. New best score: 0.027\n",
      "Metric val_loss improved by 0.005 >= min_delta = 0.0005. New best score: 0.022\n",
      "Metric val_loss improved by 0.001 >= min_delta = 0.0005. New best score: 0.021\n",
      "Metric val_loss improved by 0.001 >= min_delta = 0.0005. New best score: 0.020\n",
      "Monitored metric val_loss did not improve in the last 15 records. Best score: 0.020. Signaling Trainer to stop.\n",
      "GPU available: True (cuda), used: True\n",
      "TPU available: False, using: 0 TPU cores\n",
      "HPU available: False, using: 0 HPUs\n",
      "LOCAL_RANK: 0 - CUDA_VISIBLE_DEVICES: [0]\n"
     ]
    },
    {
     "name": "stdout",
     "output_type": "stream",
     "text": [
      "Model loaded from checkpoint for trial 12\n"
     ]
    },
    {
     "name": "stderr",
     "output_type": "stream",
     "text": [
      "/home/eduardo/Documentos/Water-Cycle-Neural-Network/venv/lib/python3.12/site-packages/pytorch_lightning/trainer/connectors/data_connector.py:425: The 'predict_dataloader' does not have many workers which may be a bottleneck. Consider increasing the value of the `num_workers` argument` to `num_workers=11` in the `DataLoader` to improve performance.\n",
      "[I 2025-05-25 21:19:44,480] Trial 12 finished with value: 0.136319237163788 and parameters: {'input_chunk_length': 26, 'output_chunk_length': 7, 'dropout': 0.32860846534150756, 'batch_size': 150, 'lr': 0.0010170724125864556, 'weight_decay': 0.0018515504607637164, 'num_filters': 117, 'kernel_size': 4, 'num_layers': 3, 'dilation_base': 4, 'weight_norm': True, 'loss_fn': 'smoothl1', 'optimizer': 'AdamW'}. Best is trial 4 with value: 0.11382590314353705.\n",
      "Specified future encoders in `add_encoders` at model creation but model does not accept future covariates. future encoders will be ignored.\n",
      "GPU available: True (cuda), used: True\n",
      "TPU available: False, using: 0 TPU cores\n",
      "HPU available: False, using: 0 HPUs\n",
      "LOCAL_RANK: 0 - CUDA_VISIBLE_DEVICES: [0]\n"
     ]
    },
    {
     "name": "stdout",
     "output_type": "stream",
     "text": [
      "Starting time series verification for consistency...\n",
      "\n",
      "Performance metrics:\n",
      "                                     MSE        RMSE         MAE          R2  \\\n",
      "Temperature                     8.710917    2.951426    2.296991    0.714139   \n",
      "Precipitation_accumulated    3084.196241   55.535540   48.986185 -901.829746   \n",
      "Humidity                       75.818257    8.707368    7.094615    0.482494   \n",
      "Wind_Speed_kmh                  1.310998    1.144988    0.908689    0.027205   \n",
      "Soil_Moisture              108541.367485  329.456169  267.326855   -0.919229   \n",
      "Soil_Temperature                9.229303    3.037977    2.523265    0.426586   \n",
      "Wind_Dir_Sin                    0.615718    0.784677    0.686085   -0.118229   \n",
      "Wind_Dir_Cos                    0.404225    0.635787    0.533911   -0.102934   \n",
      "\n",
      "                                SMAPE  \n",
      "Temperature                 35.798865  \n",
      "Precipitation_accumulated   11.299694  \n",
      "Humidity                     8.366563  \n",
      "Wind_Speed_kmh              75.514426  \n",
      "Soil_Moisture                3.199061  \n",
      "Soil_Temperature            50.129080  \n",
      "Wind_Dir_Sin               143.104463  \n",
      "Wind_Dir_Cos               130.542708  \n",
      "The MAE for this fold was 0.136319237163788\n",
      "Results of trial 12 saved in optuna_iteration_metrics/trial_12.json\n",
      "Current value: 0.136319237163788, Current params: {'input_chunk_length': 26, 'output_chunk_length': 7, 'dropout': 0.32860846534150756, 'batch_size': 150, 'lr': 0.0010170724125864556, 'weight_decay': 0.0018515504607637164, 'num_filters': 117, 'kernel_size': 4, 'num_layers': 3, 'dilation_base': 4, 'weight_norm': True, 'loss_fn': 'smoothl1', 'optimizer': 'AdamW'}\n",
      "Best value: 0.11382590314353705, Best params: {'input_chunk_length': 31, 'output_chunk_length': 4, 'dropout': 0.4002992446468062, 'batch_size': 251, 'lr': 0.0040537780612485514, 'weight_decay': 0.00019340405599100886, 'num_filters': 40, 'kernel_size': 8, 'num_layers': 2, 'dilation_base': 4, 'weight_norm': True, 'loss_fn': 'smoothl1', 'optimizer': 'AdamW'}\n",
      "\n",
      "Starting Trial 13\n",
      "Hyperparameters: {'input_chunk_length': 24, 'output_chunk_length': 7, 'dropout': 0.2209209306843687, 'batch_size': 198, 'lr': 0.0012040311654676087, 'weight_decay': 6.280568502451841e-05, 'num_filters': 42, 'kernel_size': 2, 'num_layers': 3, 'dilation_base': 4, 'weight_norm': True, 'loss_fn': 'smoothl1', 'optimizer': 'AdamW'}\n",
      "\n",
      "Training the model...\n",
      "Train set: 6647 samples\n",
      "Validation set: 1662 samples\n"
     ]
    },
    {
     "name": "stderr",
     "output_type": "stream",
     "text": [
      "Metric val_loss improved. New best score: 0.040\n",
      "Metric val_loss improved by 0.006 >= min_delta = 0.0005. New best score: 0.034\n",
      "Metric val_loss improved by 0.004 >= min_delta = 0.0005. New best score: 0.030\n",
      "Metric val_loss improved by 0.003 >= min_delta = 0.0005. New best score: 0.027\n",
      "Metric val_loss improved by 0.001 >= min_delta = 0.0005. New best score: 0.025\n",
      "Metric val_loss improved by 0.001 >= min_delta = 0.0005. New best score: 0.025\n",
      "Metric val_loss improved by 0.001 >= min_delta = 0.0005. New best score: 0.024\n",
      "Metric val_loss improved by 0.001 >= min_delta = 0.0005. New best score: 0.023\n",
      "Metric val_loss improved by 0.001 >= min_delta = 0.0005. New best score: 0.023\n",
      "Metric val_loss improved by 0.001 >= min_delta = 0.0005. New best score: 0.022\n",
      "Metric val_loss improved by 0.001 >= min_delta = 0.0005. New best score: 0.022\n",
      "Metric val_loss improved by 0.001 >= min_delta = 0.0005. New best score: 0.021\n",
      "Metric val_loss improved by 0.001 >= min_delta = 0.0005. New best score: 0.021\n",
      "`Trainer.fit` stopped: `max_epochs=30` reached.\n",
      "GPU available: True (cuda), used: True\n",
      "TPU available: False, using: 0 TPU cores\n",
      "HPU available: False, using: 0 HPUs\n",
      "LOCAL_RANK: 0 - CUDA_VISIBLE_DEVICES: [0]\n"
     ]
    },
    {
     "name": "stdout",
     "output_type": "stream",
     "text": [
      "Model loaded from checkpoint for trial 13\n"
     ]
    },
    {
     "name": "stderr",
     "output_type": "stream",
     "text": [
      "/home/eduardo/Documentos/Water-Cycle-Neural-Network/venv/lib/python3.12/site-packages/pytorch_lightning/trainer/connectors/data_connector.py:425: The 'predict_dataloader' does not have many workers which may be a bottleneck. Consider increasing the value of the `num_workers` argument` to `num_workers=11` in the `DataLoader` to improve performance.\n",
      "[I 2025-05-25 21:23:18,767] Trial 13 finished with value: 0.14111862093371702 and parameters: {'input_chunk_length': 24, 'output_chunk_length': 7, 'dropout': 0.2209209306843687, 'batch_size': 198, 'lr': 0.0012040311654676087, 'weight_decay': 6.280568502451841e-05, 'num_filters': 42, 'kernel_size': 2, 'num_layers': 3, 'dilation_base': 4, 'weight_norm': True, 'loss_fn': 'smoothl1', 'optimizer': 'AdamW'}. Best is trial 4 with value: 0.11382590314353705.\n",
      "Specified future encoders in `add_encoders` at model creation but model does not accept future covariates. future encoders will be ignored.\n",
      "GPU available: True (cuda), used: True\n",
      "TPU available: False, using: 0 TPU cores\n",
      "HPU available: False, using: 0 HPUs\n",
      "LOCAL_RANK: 0 - CUDA_VISIBLE_DEVICES: [0]\n"
     ]
    },
    {
     "name": "stdout",
     "output_type": "stream",
     "text": [
      "Starting time series verification for consistency...\n",
      "\n",
      "Performance metrics:\n",
      "                                     MSE        RMSE         MAE           R2  \\\n",
      "Temperature                     7.218510    2.686728    2.084909     0.762917   \n",
      "Precipitation_accumulated    3454.329067   58.773541   54.109908 -1007.044827   \n",
      "Humidity                       79.046731    8.890823    7.196508     0.460510   \n",
      "Wind_Speed_kmh                  1.401225    1.183734    0.968366    -0.038551   \n",
      "Soil_Moisture              185688.609986  430.916013  388.762163    -2.257558   \n",
      "Soil_Temperature                7.765683    2.786697    2.310520     0.517875   \n",
      "Wind_Dir_Sin                    0.637486    0.798428    0.678059    -0.157699   \n",
      "Wind_Dir_Cos                    0.403351    0.635099    0.544174    -0.100768   \n",
      "\n",
      "                                SMAPE  \n",
      "Temperature                 35.696874  \n",
      "Precipitation_accumulated   12.497702  \n",
      "Humidity                     8.419700  \n",
      "Wind_Speed_kmh              74.518664  \n",
      "Soil_Moisture                4.644008  \n",
      "Soil_Temperature            43.893127  \n",
      "Wind_Dir_Sin               134.496016  \n",
      "Wind_Dir_Cos               137.748636  \n",
      "The MAE for this fold was 0.14111862093371702\n",
      "Results of trial 13 saved in optuna_iteration_metrics/trial_13.json\n",
      "Current value: 0.14111862093371702, Current params: {'input_chunk_length': 24, 'output_chunk_length': 7, 'dropout': 0.2209209306843687, 'batch_size': 198, 'lr': 0.0012040311654676087, 'weight_decay': 6.280568502451841e-05, 'num_filters': 42, 'kernel_size': 2, 'num_layers': 3, 'dilation_base': 4, 'weight_norm': True, 'loss_fn': 'smoothl1', 'optimizer': 'AdamW'}\n",
      "Best value: 0.11382590314353705, Best params: {'input_chunk_length': 31, 'output_chunk_length': 4, 'dropout': 0.4002992446468062, 'batch_size': 251, 'lr': 0.0040537780612485514, 'weight_decay': 0.00019340405599100886, 'num_filters': 40, 'kernel_size': 8, 'num_layers': 2, 'dilation_base': 4, 'weight_norm': True, 'loss_fn': 'smoothl1', 'optimizer': 'AdamW'}\n",
      "\n",
      "Starting Trial 14\n",
      "Hyperparameters: {'input_chunk_length': 45, 'output_chunk_length': 11, 'dropout': 0.37283767278505797, 'batch_size': 190, 'lr': 0.00027842406381963874, 'weight_decay': 0.0013907854269021003, 'num_filters': 26, 'kernel_size': 4, 'num_layers': 2, 'dilation_base': 4, 'weight_norm': True, 'loss_fn': 'smoothl1', 'optimizer': 'AdamW'}\n",
      "\n",
      "Training the model...\n",
      "Train set: 6647 samples\n",
      "Validation set: 1662 samples\n"
     ]
    },
    {
     "name": "stderr",
     "output_type": "stream",
     "text": [
      "[I 2025-05-25 21:23:22,286] Trial 14 pruned. Trial was pruned at epoch 0.\n",
      "Specified future encoders in `add_encoders` at model creation but model does not accept future covariates. future encoders will be ignored.\n",
      "GPU available: True (cuda), used: True\n",
      "TPU available: False, using: 0 TPU cores\n",
      "HPU available: False, using: 0 HPUs\n",
      "LOCAL_RANK: 0 - CUDA_VISIBLE_DEVICES: [0]\n"
     ]
    },
    {
     "name": "stdout",
     "output_type": "stream",
     "text": [
      "Current value: 0.07977684576008745, Current params: {'input_chunk_length': 45, 'output_chunk_length': 11, 'dropout': 0.37283767278505797, 'batch_size': 190, 'lr': 0.00027842406381963874, 'weight_decay': 0.0013907854269021003, 'num_filters': 26, 'kernel_size': 4, 'num_layers': 2, 'dilation_base': 4, 'weight_norm': True, 'loss_fn': 'smoothl1', 'optimizer': 'AdamW'}\n",
      "Best value: 0.11382590314353705, Best params: {'input_chunk_length': 31, 'output_chunk_length': 4, 'dropout': 0.4002992446468062, 'batch_size': 251, 'lr': 0.0040537780612485514, 'weight_decay': 0.00019340405599100886, 'num_filters': 40, 'kernel_size': 8, 'num_layers': 2, 'dilation_base': 4, 'weight_norm': True, 'loss_fn': 'smoothl1', 'optimizer': 'AdamW'}\n",
      "\n",
      "Starting Trial 15\n",
      "Hyperparameters: {'input_chunk_length': 31, 'output_chunk_length': 5, 'dropout': 0.4930656072499533, 'batch_size': 128, 'lr': 0.001966495216628639, 'weight_decay': 0.00014439415867981863, 'num_filters': 20, 'kernel_size': 4, 'num_layers': 3, 'dilation_base': 4, 'weight_norm': True, 'loss_fn': 'smoothl1', 'optimizer': 'AdamW'}\n",
      "\n",
      "Training the model...\n",
      "Train set: 6647 samples\n",
      "Validation set: 1662 samples\n"
     ]
    },
    {
     "name": "stderr",
     "output_type": "stream",
     "text": [
      "Metric val_loss improved. New best score: 0.044\n",
      "Metric val_loss improved by 0.009 >= min_delta = 0.0005. New best score: 0.034\n",
      "Metric val_loss improved by 0.001 >= min_delta = 0.0005. New best score: 0.033\n",
      "Metric val_loss improved by 0.002 >= min_delta = 0.0005. New best score: 0.031\n",
      "Metric val_loss improved by 0.002 >= min_delta = 0.0005. New best score: 0.029\n",
      "Metric val_loss improved by 0.002 >= min_delta = 0.0005. New best score: 0.027\n",
      "Metric val_loss improved by 0.001 >= min_delta = 0.0005. New best score: 0.026\n",
      "Metric val_loss improved by 0.001 >= min_delta = 0.0005. New best score: 0.024\n",
      "Metric val_loss improved by 0.001 >= min_delta = 0.0005. New best score: 0.023\n",
      "Metric val_loss improved by 0.001 >= min_delta = 0.0005. New best score: 0.022\n",
      "Metric val_loss improved by 0.001 >= min_delta = 0.0005. New best score: 0.021\n",
      "Metric val_loss improved by 0.001 >= min_delta = 0.0005. New best score: 0.020\n",
      "Metric val_loss improved by 0.001 >= min_delta = 0.0005. New best score: 0.019\n",
      "Metric val_loss improved by 0.001 >= min_delta = 0.0005. New best score: 0.019\n",
      "Metric val_loss improved by 0.001 >= min_delta = 0.0005. New best score: 0.018\n",
      "`Trainer.fit` stopped: `max_epochs=30` reached.\n",
      "GPU available: True (cuda), used: True\n",
      "TPU available: False, using: 0 TPU cores\n",
      "HPU available: False, using: 0 HPUs\n",
      "LOCAL_RANK: 0 - CUDA_VISIBLE_DEVICES: [0]\n"
     ]
    },
    {
     "name": "stdout",
     "output_type": "stream",
     "text": [
      "Model loaded from checkpoint for trial 15\n"
     ]
    },
    {
     "name": "stderr",
     "output_type": "stream",
     "text": [
      "/home/eduardo/Documentos/Water-Cycle-Neural-Network/venv/lib/python3.12/site-packages/pytorch_lightning/trainer/connectors/data_connector.py:425: The 'predict_dataloader' does not have many workers which may be a bottleneck. Consider increasing the value of the `num_workers` argument` to `num_workers=11` in the `DataLoader` to improve performance.\n",
      "[I 2025-05-25 21:26:45,299] Trial 15 finished with value: 0.11747869509384581 and parameters: {'input_chunk_length': 31, 'output_chunk_length': 5, 'dropout': 0.4930656072499533, 'batch_size': 128, 'lr': 0.001966495216628639, 'weight_decay': 0.00014439415867981863, 'num_filters': 20, 'kernel_size': 4, 'num_layers': 3, 'dilation_base': 4, 'weight_norm': True, 'loss_fn': 'smoothl1', 'optimizer': 'AdamW'}. Best is trial 4 with value: 0.11382590314353705.\n",
      "Specified future encoders in `add_encoders` at model creation but model does not accept future covariates. future encoders will be ignored.\n",
      "GPU available: True (cuda), used: True\n",
      "TPU available: False, using: 0 TPU cores\n",
      "HPU available: False, using: 0 HPUs\n",
      "LOCAL_RANK: 0 - CUDA_VISIBLE_DEVICES: [0]\n"
     ]
    },
    {
     "name": "stdout",
     "output_type": "stream",
     "text": [
      "Starting time series verification for consistency...\n",
      "\n",
      "Performance metrics:\n",
      "                                    MSE        RMSE         MAE         R2  \\\n",
      "Temperature                    7.493130    2.737358    2.152120   0.754541   \n",
      "Precipitation_accumulated    122.109638   11.050323    9.692749 -34.910393   \n",
      "Humidity                      62.507232    7.906152    6.414205   0.573985   \n",
      "Wind_Speed_kmh                 1.172488    1.082815    0.878643   0.129707   \n",
      "Soil_Moisture              24936.231254  157.912100  130.889516   0.553082   \n",
      "Soil_Temperature              10.347545    3.216760    2.697311   0.357740   \n",
      "Wind_Dir_Sin                   0.568381    0.753910    0.643081  -0.032216   \n",
      "Wind_Dir_Cos                   0.396391    0.629596    0.531010  -0.080787   \n",
      "\n",
      "                                SMAPE  \n",
      "Temperature                 35.114015  \n",
      "Precipitation_accumulated    2.112702  \n",
      "Humidity                     7.617344  \n",
      "Wind_Speed_kmh              72.031948  \n",
      "Soil_Moisture                1.535467  \n",
      "Soil_Temperature            54.389492  \n",
      "Wind_Dir_Sin               129.315092  \n",
      "Wind_Dir_Cos               132.810489  \n",
      "The MAE for this fold was 0.11747869509384581\n",
      "Results of trial 15 saved in optuna_iteration_metrics/trial_15.json\n",
      "Current value: 0.11747869509384581, Current params: {'input_chunk_length': 31, 'output_chunk_length': 5, 'dropout': 0.4930656072499533, 'batch_size': 128, 'lr': 0.001966495216628639, 'weight_decay': 0.00014439415867981863, 'num_filters': 20, 'kernel_size': 4, 'num_layers': 3, 'dilation_base': 4, 'weight_norm': True, 'loss_fn': 'smoothl1', 'optimizer': 'AdamW'}\n",
      "Best value: 0.11382590314353705, Best params: {'input_chunk_length': 31, 'output_chunk_length': 4, 'dropout': 0.4002992446468062, 'batch_size': 251, 'lr': 0.0040537780612485514, 'weight_decay': 0.00019340405599100886, 'num_filters': 40, 'kernel_size': 8, 'num_layers': 2, 'dilation_base': 4, 'weight_norm': True, 'loss_fn': 'smoothl1', 'optimizer': 'AdamW'}\n",
      "\n",
      "Starting Trial 16\n",
      "Hyperparameters: {'input_chunk_length': 39, 'output_chunk_length': 4, 'dropout': 0.4968093328458828, 'batch_size': 124, 'lr': 3.8270651172270325e-06, 'weight_decay': 9.724263194836773e-06, 'num_filters': 19, 'kernel_size': 5, 'num_layers': 2, 'dilation_base': 4, 'weight_norm': True, 'loss_fn': 'smoothl1', 'optimizer': 'AdamW'}\n",
      "\n",
      "Training the model...\n",
      "Train set: 6647 samples\n",
      "Validation set: 1662 samples\n"
     ]
    },
    {
     "name": "stderr",
     "output_type": "stream",
     "text": [
      "[I 2025-05-25 21:26:48,477] Trial 16 pruned. Trial was pruned at epoch 0.\n",
      "Specified future encoders in `add_encoders` at model creation but model does not accept future covariates. future encoders will be ignored.\n",
      "GPU available: True (cuda), used: True\n",
      "TPU available: False, using: 0 TPU cores\n",
      "HPU available: False, using: 0 HPUs\n",
      "LOCAL_RANK: 0 - CUDA_VISIBLE_DEVICES: [0]\n"
     ]
    },
    {
     "name": "stdout",
     "output_type": "stream",
     "text": [
      "Current value: 0.13881030850470402, Current params: {'input_chunk_length': 39, 'output_chunk_length': 4, 'dropout': 0.4968093328458828, 'batch_size': 124, 'lr': 3.8270651172270325e-06, 'weight_decay': 9.724263194836773e-06, 'num_filters': 19, 'kernel_size': 5, 'num_layers': 2, 'dilation_base': 4, 'weight_norm': True, 'loss_fn': 'smoothl1', 'optimizer': 'AdamW'}\n",
      "Best value: 0.11382590314353705, Best params: {'input_chunk_length': 31, 'output_chunk_length': 4, 'dropout': 0.4002992446468062, 'batch_size': 251, 'lr': 0.0040537780612485514, 'weight_decay': 0.00019340405599100886, 'num_filters': 40, 'kernel_size': 8, 'num_layers': 2, 'dilation_base': 4, 'weight_norm': True, 'loss_fn': 'smoothl1', 'optimizer': 'AdamW'}\n",
      "\n",
      "Starting Trial 17\n",
      "Hyperparameters: {'input_chunk_length': 31, 'output_chunk_length': 4, 'dropout': 0.435829386062233, 'batch_size': 178, 'lr': 0.0003368126263968376, 'weight_decay': 0.00012264332311852607, 'num_filters': 22, 'kernel_size': 4, 'num_layers': 2, 'dilation_base': 2, 'weight_norm': True, 'loss_fn': 'mse', 'optimizer': 'RMSprop'}\n",
      "\n",
      "Training the model...\n",
      "Train set: 6647 samples\n",
      "Validation set: 1662 samples\n"
     ]
    },
    {
     "name": "stderr",
     "output_type": "stream",
     "text": [
      "[I 2025-05-25 21:26:51,797] Trial 17 pruned. Trial was pruned at epoch 0.\n",
      "Specified future encoders in `add_encoders` at model creation but model does not accept future covariates. future encoders will be ignored.\n"
     ]
    },
    {
     "name": "stdout",
     "output_type": "stream",
     "text": [
      "Current value: 0.08458111594303742, Current params: {'input_chunk_length': 31, 'output_chunk_length': 4, 'dropout': 0.435829386062233, 'batch_size': 178, 'lr': 0.0003368126263968376, 'weight_decay': 0.00012264332311852607, 'num_filters': 22, 'kernel_size': 4, 'num_layers': 2, 'dilation_base': 2, 'weight_norm': True, 'loss_fn': 'mse', 'optimizer': 'RMSprop'}\n",
      "Best value: 0.11382590314353705, Best params: {'input_chunk_length': 31, 'output_chunk_length': 4, 'dropout': 0.4002992446468062, 'batch_size': 251, 'lr': 0.0040537780612485514, 'weight_decay': 0.00019340405599100886, 'num_filters': 40, 'kernel_size': 8, 'num_layers': 2, 'dilation_base': 4, 'weight_norm': True, 'loss_fn': 'smoothl1', 'optimizer': 'AdamW'}\n",
      "\n",
      "Starting Trial 18\n",
      "Hyperparameters: {'input_chunk_length': 48, 'output_chunk_length': 10, 'dropout': 0.45314147256205145, 'batch_size': 222, 'lr': 0.0014001244059517477, 'weight_decay': 0.00010780277048074176, 'num_filters': 42, 'kernel_size': 6, 'num_layers': 3, 'dilation_base': 3, 'weight_norm': True, 'loss_fn': 'huber', 'optimizer': 'Adam'}\n",
      "\n",
      "Training the model...\n",
      "Train set: 6647 samples\n",
      "Validation set: 1662 samples\n"
     ]
    },
    {
     "name": "stderr",
     "output_type": "stream",
     "text": [
      "GPU available: True (cuda), used: True\n",
      "TPU available: False, using: 0 TPU cores\n",
      "HPU available: False, using: 0 HPUs\n",
      "LOCAL_RANK: 0 - CUDA_VISIBLE_DEVICES: [0]\n",
      "Metric val_loss improved. New best score: 0.041\n",
      "Metric val_loss improved by 0.009 >= min_delta = 0.0005. New best score: 0.032\n",
      "Metric val_loss improved by 0.003 >= min_delta = 0.0005. New best score: 0.029\n",
      "Metric val_loss improved by 0.002 >= min_delta = 0.0005. New best score: 0.027\n",
      "Metric val_loss improved by 0.001 >= min_delta = 0.0005. New best score: 0.025\n",
      "Metric val_loss improved by 0.001 >= min_delta = 0.0005. New best score: 0.024\n",
      "Metric val_loss improved by 0.001 >= min_delta = 0.0005. New best score: 0.023\n",
      "Metric val_loss improved by 0.001 >= min_delta = 0.0005. New best score: 0.022\n",
      "Metric val_loss improved by 0.001 >= min_delta = 0.0005. New best score: 0.022\n",
      "Metric val_loss improved by 0.001 >= min_delta = 0.0005. New best score: 0.021\n",
      "Metric val_loss improved by 0.001 >= min_delta = 0.0005. New best score: 0.020\n",
      "Metric val_loss improved by 0.001 >= min_delta = 0.0005. New best score: 0.020\n",
      "`Trainer.fit` stopped: `max_epochs=30` reached.\n",
      "GPU available: True (cuda), used: True\n",
      "TPU available: False, using: 0 TPU cores\n",
      "HPU available: False, using: 0 HPUs\n",
      "LOCAL_RANK: 0 - CUDA_VISIBLE_DEVICES: [0]\n"
     ]
    },
    {
     "name": "stdout",
     "output_type": "stream",
     "text": [
      "Model loaded from checkpoint for trial 18\n"
     ]
    },
    {
     "name": "stderr",
     "output_type": "stream",
     "text": [
      "/home/eduardo/Documentos/Water-Cycle-Neural-Network/venv/lib/python3.12/site-packages/pytorch_lightning/trainer/connectors/data_connector.py:425: The 'predict_dataloader' does not have many workers which may be a bottleneck. Consider increasing the value of the `num_workers` argument` to `num_workers=11` in the `DataLoader` to improve performance.\n",
      "[I 2025-05-25 21:31:55,253] Trial 18 finished with value: 0.13350466842873993 and parameters: {'input_chunk_length': 48, 'output_chunk_length': 10, 'dropout': 0.45314147256205145, 'batch_size': 222, 'lr': 0.0014001244059517477, 'weight_decay': 0.00010780277048074176, 'num_filters': 42, 'kernel_size': 6, 'num_layers': 3, 'dilation_base': 3, 'weight_norm': True, 'loss_fn': 'huber', 'optimizer': 'Adam'}. Best is trial 4 with value: 0.11382590314353705.\n",
      "Specified future encoders in `add_encoders` at model creation but model does not accept future covariates. future encoders will be ignored.\n",
      "GPU available: True (cuda), used: True\n",
      "TPU available: False, using: 0 TPU cores\n",
      "HPU available: False, using: 0 HPUs\n",
      "LOCAL_RANK: 0 - CUDA_VISIBLE_DEVICES: [0]\n"
     ]
    },
    {
     "name": "stdout",
     "output_type": "stream",
     "text": [
      "Starting time series verification for consistency...\n",
      "\n",
      "Performance metrics:\n",
      "                                     MSE        RMSE         MAE          R2  \\\n",
      "Temperature                    11.545589    3.397880    2.633047    0.620721   \n",
      "Precipitation_accumulated     886.367685   29.771928   28.269360 -269.186312   \n",
      "Humidity                       83.676604    9.147492    7.518081    0.428871   \n",
      "Wind_Speed_kmh                  1.266533    1.125403    0.886511    0.058839   \n",
      "Soil_Moisture              138882.657341  372.669636  299.338142   -1.722111   \n",
      "Soil_Temperature               12.785254    3.575647    2.971422    0.202890   \n",
      "Wind_Dir_Sin                    0.614528    0.783918    0.676400   -0.116127   \n",
      "Wind_Dir_Cos                    0.383287    0.619102    0.534466   -0.043647   \n",
      "\n",
      "                                SMAPE  \n",
      "Temperature                 39.940335  \n",
      "Precipitation_accumulated    6.293461  \n",
      "Humidity                     8.900636  \n",
      "Wind_Speed_kmh              72.751813  \n",
      "Soil_Moisture                3.578174  \n",
      "Soil_Temperature            59.726948  \n",
      "Wind_Dir_Sin               137.955574  \n",
      "Wind_Dir_Cos               138.687511  \n",
      "The MAE for this fold was 0.13350466842873993\n",
      "Results of trial 18 saved in optuna_iteration_metrics/trial_18.json\n",
      "Current value: 0.13350466842873993, Current params: {'input_chunk_length': 48, 'output_chunk_length': 10, 'dropout': 0.45314147256205145, 'batch_size': 222, 'lr': 0.0014001244059517477, 'weight_decay': 0.00010780277048074176, 'num_filters': 42, 'kernel_size': 6, 'num_layers': 3, 'dilation_base': 3, 'weight_norm': True, 'loss_fn': 'huber', 'optimizer': 'Adam'}\n",
      "Best value: 0.11382590314353705, Best params: {'input_chunk_length': 31, 'output_chunk_length': 4, 'dropout': 0.4002992446468062, 'batch_size': 251, 'lr': 0.0040537780612485514, 'weight_decay': 0.00019340405599100886, 'num_filters': 40, 'kernel_size': 8, 'num_layers': 2, 'dilation_base': 4, 'weight_norm': True, 'loss_fn': 'smoothl1', 'optimizer': 'AdamW'}\n",
      "\n",
      "Starting Trial 19\n",
      "Hyperparameters: {'input_chunk_length': 40, 'output_chunk_length': 14, 'dropout': 0.40322173618657947, 'batch_size': 120, 'lr': 0.00012189058430776496, 'weight_decay': 1.0808232844168956e-05, 'num_filters': 16, 'kernel_size': 3, 'num_layers': 3, 'dilation_base': 4, 'weight_norm': True, 'loss_fn': 'smoothl1', 'optimizer': 'AdamW'}\n",
      "\n",
      "Training the model...\n",
      "Train set: 6647 samples\n",
      "Validation set: 1662 samples\n"
     ]
    },
    {
     "name": "stderr",
     "output_type": "stream",
     "text": [
      "[I 2025-05-25 21:32:00,165] Trial 19 pruned. Trial was pruned at epoch 0.\n",
      "Specified future encoders in `add_encoders` at model creation but model does not accept future covariates. future encoders will be ignored.\n",
      "GPU available: True (cuda), used: True\n",
      "TPU available: False, using: 0 TPU cores\n",
      "HPU available: False, using: 0 HPUs\n",
      "LOCAL_RANK: 0 - CUDA_VISIBLE_DEVICES: [0]\n"
     ]
    },
    {
     "name": "stdout",
     "output_type": "stream",
     "text": [
      "Current value: 0.26871009843253946, Current params: {'input_chunk_length': 40, 'output_chunk_length': 14, 'dropout': 0.40322173618657947, 'batch_size': 120, 'lr': 0.00012189058430776496, 'weight_decay': 1.0808232844168956e-05, 'num_filters': 16, 'kernel_size': 3, 'num_layers': 3, 'dilation_base': 4, 'weight_norm': True, 'loss_fn': 'smoothl1', 'optimizer': 'AdamW'}\n",
      "Best value: 0.11382590314353705, Best params: {'input_chunk_length': 31, 'output_chunk_length': 4, 'dropout': 0.4002992446468062, 'batch_size': 251, 'lr': 0.0040537780612485514, 'weight_decay': 0.00019340405599100886, 'num_filters': 40, 'kernel_size': 8, 'num_layers': 2, 'dilation_base': 4, 'weight_norm': True, 'loss_fn': 'smoothl1', 'optimizer': 'AdamW'}\n",
      "\n",
      "Starting Trial 20\n",
      "Hyperparameters: {'input_chunk_length': 30, 'output_chunk_length': 3, 'dropout': 0.3423373154331457, 'batch_size': 65, 'lr': 0.002676818996162833, 'weight_decay': 0.0004319696940792624, 'num_filters': 9, 'kernel_size': 5, 'num_layers': 2, 'dilation_base': 3, 'weight_norm': True, 'loss_fn': 'smoothl1', 'optimizer': 'AdamW'}\n",
      "\n",
      "Training the model...\n",
      "Train set: 6647 samples\n",
      "Validation set: 1662 samples\n"
     ]
    },
    {
     "name": "stderr",
     "output_type": "stream",
     "text": [
      "Metric val_loss improved. New best score: 0.039\n",
      "Metric val_loss improved by 0.008 >= min_delta = 0.0005. New best score: 0.031\n",
      "Metric val_loss improved by 0.004 >= min_delta = 0.0005. New best score: 0.027\n",
      "Metric val_loss improved by 0.003 >= min_delta = 0.0005. New best score: 0.025\n",
      "Metric val_loss improved by 0.002 >= min_delta = 0.0005. New best score: 0.023\n",
      "Metric val_loss improved by 0.001 >= min_delta = 0.0005. New best score: 0.022\n",
      "Metric val_loss improved by 0.001 >= min_delta = 0.0005. New best score: 0.021\n",
      "Metric val_loss improved by 0.001 >= min_delta = 0.0005. New best score: 0.020\n",
      "Metric val_loss improved by 0.001 >= min_delta = 0.0005. New best score: 0.019\n",
      "Metric val_loss improved by 0.001 >= min_delta = 0.0005. New best score: 0.018\n",
      "Metric val_loss improved by 0.001 >= min_delta = 0.0005. New best score: 0.017\n",
      "Metric val_loss improved by 0.001 >= min_delta = 0.0005. New best score: 0.017\n",
      "Monitored metric val_loss did not improve in the last 15 records. Best score: 0.017. Signaling Trainer to stop.\n",
      "`Trainer.fit` stopped: `max_epochs=30` reached.\n",
      "GPU available: True (cuda), used: True\n",
      "TPU available: False, using: 0 TPU cores\n",
      "HPU available: False, using: 0 HPUs\n",
      "LOCAL_RANK: 0 - CUDA_VISIBLE_DEVICES: [0]\n"
     ]
    },
    {
     "name": "stdout",
     "output_type": "stream",
     "text": [
      "Model loaded from checkpoint for trial 20\n"
     ]
    },
    {
     "name": "stderr",
     "output_type": "stream",
     "text": [
      "/home/eduardo/Documentos/Water-Cycle-Neural-Network/venv/lib/python3.12/site-packages/pytorch_lightning/trainer/connectors/data_connector.py:425: The 'predict_dataloader' does not have many workers which may be a bottleneck. Consider increasing the value of the `num_workers` argument` to `num_workers=11` in the `DataLoader` to improve performance.\n",
      "[I 2025-05-25 21:35:07,907] Trial 20 finished with value: 0.10575886306292326 and parameters: {'input_chunk_length': 30, 'output_chunk_length': 3, 'dropout': 0.3423373154331457, 'batch_size': 65, 'lr': 0.002676818996162833, 'weight_decay': 0.0004319696940792624, 'num_filters': 9, 'kernel_size': 5, 'num_layers': 2, 'dilation_base': 3, 'weight_norm': True, 'loss_fn': 'smoothl1', 'optimizer': 'AdamW'}. Best is trial 20 with value: 0.10575886306292326.\n",
      "Specified future encoders in `add_encoders` at model creation but model does not accept future covariates. future encoders will be ignored.\n",
      "GPU available: True (cuda), used: True\n",
      "TPU available: False, using: 0 TPU cores\n",
      "HPU available: False, using: 0 HPUs\n",
      "LOCAL_RANK: 0 - CUDA_VISIBLE_DEVICES: [0]\n"
     ]
    },
    {
     "name": "stdout",
     "output_type": "stream",
     "text": [
      "Starting time series verification for consistency...\n",
      "\n",
      "Performance metrics:\n",
      "                                   MSE       RMSE        MAE        R2  \\\n",
      "Temperature                   6.210298   2.492047   1.913942  0.796200   \n",
      "Precipitation_accumulated    22.194252   4.711078   4.015032 -5.496873   \n",
      "Humidity                     38.201739   6.180756   4.894375  0.739250   \n",
      "Wind_Speed_kmh                1.023800   1.011830   0.789266  0.240314   \n",
      "Soil_Moisture              6955.205737  83.397876  60.945394  0.877018   \n",
      "Soil_Temperature              6.597524   2.568564   2.078401  0.590098   \n",
      "Wind_Dir_Sin                  0.528701   0.727118   0.611809  0.039806   \n",
      "Wind_Dir_Cos                  0.385038   0.620514   0.527407 -0.050582   \n",
      "\n",
      "                                SMAPE  \n",
      "Temperature                 31.989615  \n",
      "Precipitation_accumulated    0.868944  \n",
      "Humidity                     5.816324  \n",
      "Wind_Speed_kmh              68.957304  \n",
      "Soil_Moisture                0.713421  \n",
      "Soil_Temperature            48.942411  \n",
      "Wind_Dir_Sin               123.220771  \n",
      "Wind_Dir_Cos               134.534554  \n",
      "The MAE for this fold was 0.10575886306292326\n",
      "Results of trial 20 saved in optuna_iteration_metrics/trial_20.json\n",
      "Current value: 0.10575886306292326, Current params: {'input_chunk_length': 30, 'output_chunk_length': 3, 'dropout': 0.3423373154331457, 'batch_size': 65, 'lr': 0.002676818996162833, 'weight_decay': 0.0004319696940792624, 'num_filters': 9, 'kernel_size': 5, 'num_layers': 2, 'dilation_base': 3, 'weight_norm': True, 'loss_fn': 'smoothl1', 'optimizer': 'AdamW'}\n",
      "Best value: 0.10575886306292326, Best params: {'input_chunk_length': 30, 'output_chunk_length': 3, 'dropout': 0.3423373154331457, 'batch_size': 65, 'lr': 0.002676818996162833, 'weight_decay': 0.0004319696940792624, 'num_filters': 9, 'kernel_size': 5, 'num_layers': 2, 'dilation_base': 3, 'weight_norm': True, 'loss_fn': 'smoothl1', 'optimizer': 'AdamW'}\n",
      "\n",
      "Starting Trial 21\n",
      "Hyperparameters: {'input_chunk_length': 30, 'output_chunk_length': 3, 'dropout': 0.33656196647368997, 'batch_size': 133, 'lr': 0.001977344129787852, 'weight_decay': 0.0006278185245512812, 'num_filters': 9, 'kernel_size': 5, 'num_layers': 2, 'dilation_base': 3, 'weight_norm': True, 'loss_fn': 'smoothl1', 'optimizer': 'AdamW'}\n",
      "\n",
      "Training the model...\n",
      "Train set: 6647 samples\n",
      "Validation set: 1662 samples\n"
     ]
    },
    {
     "name": "stderr",
     "output_type": "stream",
     "text": [
      "[I 2025-05-25 21:35:10,685] Trial 21 pruned. Trial was pruned at epoch 0.\n"
     ]
    },
    {
     "name": "stdout",
     "output_type": "stream",
     "text": [
      "Current value: 0.04937200914879397, Current params: {'input_chunk_length': 30, 'output_chunk_length': 3, 'dropout': 0.33656196647368997, 'batch_size': 133, 'lr': 0.001977344129787852, 'weight_decay': 0.0006278185245512812, 'num_filters': 9, 'kernel_size': 5, 'num_layers': 2, 'dilation_base': 3, 'weight_norm': True, 'loss_fn': 'smoothl1', 'optimizer': 'AdamW'}\n",
      "Best value: 0.10575886306292326, Best params: {'input_chunk_length': 30, 'output_chunk_length': 3, 'dropout': 0.3423373154331457, 'batch_size': 65, 'lr': 0.002676818996162833, 'weight_decay': 0.0004319696940792624, 'num_filters': 9, 'kernel_size': 5, 'num_layers': 2, 'dilation_base': 3, 'weight_norm': True, 'loss_fn': 'smoothl1', 'optimizer': 'AdamW'}\n",
      "\n",
      "Starting Trial 22\n",
      "Hyperparameters: {'input_chunk_length': 29, 'output_chunk_length': 5, 'dropout': 0.3515298207845696, 'batch_size': 68, 'lr': 0.0022513091002634724, 'weight_decay': 0.000187785290959636, 'num_filters': 12, 'kernel_size': 5, 'num_layers': 2, 'dilation_base': 4, 'weight_norm': True, 'loss_fn': 'smoothl1', 'optimizer': 'AdamW'}\n",
      "\n",
      "Training the model...\n",
      "Train set: 6647 samples\n",
      "Validation set: 1662 samples\n"
     ]
    },
    {
     "name": "stderr",
     "output_type": "stream",
     "text": [
      "Specified future encoders in `add_encoders` at model creation but model does not accept future covariates. future encoders will be ignored.\n",
      "GPU available: True (cuda), used: True\n",
      "TPU available: False, using: 0 TPU cores\n",
      "HPU available: False, using: 0 HPUs\n",
      "LOCAL_RANK: 0 - CUDA_VISIBLE_DEVICES: [0]\n",
      "Metric val_loss improved. New best score: 0.043\n",
      "[I 2025-05-25 21:36:11,318] Trial 22 pruned. Trial was pruned at epoch 1.\n",
      "Specified future encoders in `add_encoders` at model creation but model does not accept future covariates. future encoders will be ignored.\n",
      "GPU available: True (cuda), used: True\n",
      "TPU available: False, using: 0 TPU cores\n",
      "HPU available: False, using: 0 HPUs\n",
      "LOCAL_RANK: 0 - CUDA_VISIBLE_DEVICES: [0]\n"
     ]
    },
    {
     "name": "stdout",
     "output_type": "stream",
     "text": [
      "Current value: 0.03745959059850592, Current params: {'input_chunk_length': 29, 'output_chunk_length': 5, 'dropout': 0.3515298207845696, 'batch_size': 68, 'lr': 0.0022513091002634724, 'weight_decay': 0.000187785290959636, 'num_filters': 12, 'kernel_size': 5, 'num_layers': 2, 'dilation_base': 4, 'weight_norm': True, 'loss_fn': 'smoothl1', 'optimizer': 'AdamW'}\n",
      "Best value: 0.10575886306292326, Best params: {'input_chunk_length': 30, 'output_chunk_length': 3, 'dropout': 0.3423373154331457, 'batch_size': 65, 'lr': 0.002676818996162833, 'weight_decay': 0.0004319696940792624, 'num_filters': 9, 'kernel_size': 5, 'num_layers': 2, 'dilation_base': 3, 'weight_norm': True, 'loss_fn': 'smoothl1', 'optimizer': 'AdamW'}\n",
      "\n",
      "Starting Trial 23\n",
      "Hyperparameters: {'input_chunk_length': 37, 'output_chunk_length': 1, 'dropout': 0.4119783483031059, 'batch_size': 101, 'lr': 0.0005540318597805199, 'weight_decay': 5.2672898577746424e-05, 'num_filters': 8, 'kernel_size': 4, 'num_layers': 2, 'dilation_base': 3, 'weight_norm': True, 'loss_fn': 'smoothl1', 'optimizer': 'AdamW'}\n",
      "\n",
      "Training the model...\n",
      "Train set: 6647 samples\n",
      "Validation set: 1662 samples\n"
     ]
    },
    {
     "name": "stderr",
     "output_type": "stream",
     "text": [
      "[I 2025-05-25 21:36:14,101] Trial 23 pruned. Trial was pruned at epoch 0.\n",
      "Specified future encoders in `add_encoders` at model creation but model does not accept future covariates. future encoders will be ignored.\n",
      "GPU available: True (cuda), used: True\n",
      "TPU available: False, using: 0 TPU cores\n",
      "HPU available: False, using: 0 HPUs\n",
      "LOCAL_RANK: 0 - CUDA_VISIBLE_DEVICES: [0]\n"
     ]
    },
    {
     "name": "stdout",
     "output_type": "stream",
     "text": [
      "Current value: 0.16948712842212021, Current params: {'input_chunk_length': 37, 'output_chunk_length': 1, 'dropout': 0.4119783483031059, 'batch_size': 101, 'lr': 0.0005540318597805199, 'weight_decay': 5.2672898577746424e-05, 'num_filters': 8, 'kernel_size': 4, 'num_layers': 2, 'dilation_base': 3, 'weight_norm': True, 'loss_fn': 'smoothl1', 'optimizer': 'AdamW'}\n",
      "Best value: 0.10575886306292326, Best params: {'input_chunk_length': 30, 'output_chunk_length': 3, 'dropout': 0.3423373154331457, 'batch_size': 65, 'lr': 0.002676818996162833, 'weight_decay': 0.0004319696940792624, 'num_filters': 9, 'kernel_size': 5, 'num_layers': 2, 'dilation_base': 3, 'weight_norm': True, 'loss_fn': 'smoothl1', 'optimizer': 'AdamW'}\n",
      "\n",
      "Starting Trial 24\n",
      "Hyperparameters: {'input_chunk_length': 29, 'output_chunk_length': 9, 'dropout': 0.2954444800740047, 'batch_size': 172, 'lr': 0.002641260932788228, 'weight_decay': 0.0005255541924857817, 'num_filters': 40, 'kernel_size': 6, 'num_layers': 2, 'dilation_base': 4, 'weight_norm': True, 'loss_fn': 'smoothl1', 'optimizer': 'AdamW'}\n",
      "\n",
      "Training the model...\n",
      "Train set: 6647 samples\n",
      "Validation set: 1662 samples\n"
     ]
    },
    {
     "name": "stderr",
     "output_type": "stream",
     "text": [
      "Metric val_loss improved. New best score: 0.034\n",
      "Metric val_loss improved by 0.007 >= min_delta = 0.0005. New best score: 0.027\n",
      "Metric val_loss improved by 0.004 >= min_delta = 0.0005. New best score: 0.023\n",
      "Metric val_loss improved by 0.001 >= min_delta = 0.0005. New best score: 0.023\n",
      "Metric val_loss improved by 0.001 >= min_delta = 0.0005. New best score: 0.022\n",
      "Metric val_loss improved by 0.001 >= min_delta = 0.0005. New best score: 0.021\n",
      "Metric val_loss improved by 0.001 >= min_delta = 0.0005. New best score: 0.020\n",
      "Metric val_loss improved by 0.001 >= min_delta = 0.0005. New best score: 0.019\n",
      "Monitored metric val_loss did not improve in the last 15 records. Best score: 0.019. Signaling Trainer to stop.\n",
      "GPU available: True (cuda), used: True\n",
      "TPU available: False, using: 0 TPU cores\n",
      "HPU available: False, using: 0 HPUs\n",
      "LOCAL_RANK: 0 - CUDA_VISIBLE_DEVICES: [0]\n"
     ]
    },
    {
     "name": "stdout",
     "output_type": "stream",
     "text": [
      "Model loaded from checkpoint for trial 24\n"
     ]
    },
    {
     "name": "stderr",
     "output_type": "stream",
     "text": [
      "/home/eduardo/Documentos/Water-Cycle-Neural-Network/venv/lib/python3.12/site-packages/pytorch_lightning/trainer/connectors/data_connector.py:425: The 'predict_dataloader' does not have many workers which may be a bottleneck. Consider increasing the value of the `num_workers` argument` to `num_workers=11` in the `DataLoader` to improve performance.\n",
      "[I 2025-05-25 21:38:09,467] Trial 24 finished with value: 0.13580973633968263 and parameters: {'input_chunk_length': 29, 'output_chunk_length': 9, 'dropout': 0.2954444800740047, 'batch_size': 172, 'lr': 0.002641260932788228, 'weight_decay': 0.0005255541924857817, 'num_filters': 40, 'kernel_size': 6, 'num_layers': 2, 'dilation_base': 4, 'weight_norm': True, 'loss_fn': 'smoothl1', 'optimizer': 'AdamW'}. Best is trial 20 with value: 0.10575886306292326.\n",
      "Specified future encoders in `add_encoders` at model creation but model does not accept future covariates. future encoders will be ignored.\n",
      "GPU available: True (cuda), used: True\n",
      "TPU available: False, using: 0 TPU cores\n",
      "HPU available: False, using: 0 HPUs\n",
      "LOCAL_RANK: 0 - CUDA_VISIBLE_DEVICES: [0]\n"
     ]
    },
    {
     "name": "stdout",
     "output_type": "stream",
     "text": [
      "Starting time series verification for consistency...\n",
      "\n",
      "Performance metrics:\n",
      "                                     MSE        RMSE         MAE          R2  \\\n",
      "Temperature                    11.174767    3.342868    2.649241    0.634239   \n",
      "Precipitation_accumulated    1702.645865   41.263130   37.914300 -501.281553   \n",
      "Humidity                       91.899617    9.586429    7.874665    0.373835   \n",
      "Wind_Speed_kmh                  1.329934    1.153228    0.901331    0.013989   \n",
      "Soil_Moisture              181254.227124  425.739624  354.163592   -2.278876   \n",
      "Soil_Temperature                6.534044    2.556178    2.057342    0.594738   \n",
      "Wind_Dir_Sin                    0.623412    0.789564    0.677234   -0.131948   \n",
      "Wind_Dir_Cos                    0.381329    0.617518    0.527992   -0.039878   \n",
      "\n",
      "                                SMAPE  \n",
      "Temperature                 39.195662  \n",
      "Precipitation_accumulated    8.570818  \n",
      "Humidity                     9.292684  \n",
      "Wind_Speed_kmh              75.380809  \n",
      "Soil_Moisture                4.226529  \n",
      "Soil_Temperature            34.095762  \n",
      "Wind_Dir_Sin               136.608786  \n",
      "Wind_Dir_Cos               133.835524  \n",
      "The MAE for this fold was 0.13580973633968263\n",
      "Results of trial 24 saved in optuna_iteration_metrics/trial_24.json\n",
      "Current value: 0.13580973633968263, Current params: {'input_chunk_length': 29, 'output_chunk_length': 9, 'dropout': 0.2954444800740047, 'batch_size': 172, 'lr': 0.002641260932788228, 'weight_decay': 0.0005255541924857817, 'num_filters': 40, 'kernel_size': 6, 'num_layers': 2, 'dilation_base': 4, 'weight_norm': True, 'loss_fn': 'smoothl1', 'optimizer': 'AdamW'}\n",
      "Best value: 0.10575886306292326, Best params: {'input_chunk_length': 30, 'output_chunk_length': 3, 'dropout': 0.3423373154331457, 'batch_size': 65, 'lr': 0.002676818996162833, 'weight_decay': 0.0004319696940792624, 'num_filters': 9, 'kernel_size': 5, 'num_layers': 2, 'dilation_base': 3, 'weight_norm': True, 'loss_fn': 'smoothl1', 'optimizer': 'AdamW'}\n",
      "\n",
      "Starting Trial 25\n",
      "Hyperparameters: {'input_chunk_length': 48, 'output_chunk_length': 6, 'dropout': 0.4906628332883476, 'batch_size': 212, 'lr': 0.0005025126785597935, 'weight_decay': 0.0033136242677426864, 'num_filters': 22, 'kernel_size': 5, 'num_layers': 1, 'dilation_base': 2, 'weight_norm': True, 'loss_fn': 'smoothl1', 'optimizer': 'AdamW'}\n",
      "\n",
      "Training the model...\n",
      "Train set: 6647 samples\n",
      "Validation set: 1662 samples\n"
     ]
    },
    {
     "name": "stderr",
     "output_type": "stream",
     "text": [
      "[I 2025-05-25 21:38:11,069] Trial 25 pruned. Trial was pruned at epoch 0.\n",
      "Specified future encoders in `add_encoders` at model creation but model does not accept future covariates. future encoders will be ignored.\n",
      "GPU available: True (cuda), used: True\n",
      "TPU available: False, using: 0 TPU cores\n",
      "HPU available: False, using: 0 HPUs\n",
      "LOCAL_RANK: 0 - CUDA_VISIBLE_DEVICES: [0]\n"
     ]
    },
    {
     "name": "stdout",
     "output_type": "stream",
     "text": [
      "Current value: 0.10634396445095795, Current params: {'input_chunk_length': 48, 'output_chunk_length': 6, 'dropout': 0.4906628332883476, 'batch_size': 212, 'lr': 0.0005025126785597935, 'weight_decay': 0.0033136242677426864, 'num_filters': 22, 'kernel_size': 5, 'num_layers': 1, 'dilation_base': 2, 'weight_norm': True, 'loss_fn': 'smoothl1', 'optimizer': 'AdamW'}\n",
      "Best value: 0.10575886306292326, Best params: {'input_chunk_length': 30, 'output_chunk_length': 3, 'dropout': 0.3423373154331457, 'batch_size': 65, 'lr': 0.002676818996162833, 'weight_decay': 0.0004319696940792624, 'num_filters': 9, 'kernel_size': 5, 'num_layers': 2, 'dilation_base': 3, 'weight_norm': True, 'loss_fn': 'smoothl1', 'optimizer': 'AdamW'}\n",
      "\n",
      "Starting Trial 26\n",
      "Hyperparameters: {'input_chunk_length': 43, 'output_chunk_length': 2, 'dropout': 0.45694318264616673, 'batch_size': 166, 'lr': 0.001919560823241984, 'weight_decay': 0.0008105975023374437, 'num_filters': 11, 'kernel_size': 4, 'num_layers': 3, 'dilation_base': 3, 'weight_norm': True, 'loss_fn': 'huber', 'optimizer': 'SGD'}\n",
      "\n",
      "Training the model...\n",
      "Train set: 6647 samples\n",
      "Validation set: 1662 samples\n"
     ]
    },
    {
     "name": "stderr",
     "output_type": "stream",
     "text": [
      "Exception ignored in: <function _MultiProcessingDataLoaderIter.__del__ at 0x7efd7db95260>\n",
      "Traceback (most recent call last):\n",
      "  File \"/home/eduardo/Documentos/Water-Cycle-Neural-Network/venv/lib/python3.12/site-packages/torch/utils/data/dataloader.py\", line 1663, in __del__\n",
      "    self._shutdown_workers()\n",
      "  File \"/home/eduardo/Documentos/Water-Cycle-Neural-Network/venv/lib/python3.12/site-packages/torch/utils/data/dataloader.py\", line 1646, in _shutdown_workers\n",
      "    if w.is_alive():\n",
      "       ^^^^^^^^^^^^\n",
      "  File \"/usr/lib/python3.12/multiprocessing/process.py\", line 160, in is_alive\n",
      "    assert self._parent_pid == os.getpid(), 'can only test a child process'\n",
      "           ^^^^^^^^^^^^^^^^^^^^^^^^^^^^^^^\n",
      "AssertionError: can only test a child process\n",
      "[I 2025-05-25 21:38:15,501] Trial 26 pruned. Trial was pruned at epoch 0.\n",
      "Specified future encoders in `add_encoders` at model creation but model does not accept future covariates. future encoders will be ignored.\n",
      "GPU available: True (cuda), used: True\n",
      "TPU available: False, using: 0 TPU cores\n",
      "HPU available: False, using: 0 HPUs\n",
      "LOCAL_RANK: 0 - CUDA_VISIBLE_DEVICES: [0]\n"
     ]
    },
    {
     "name": "stdout",
     "output_type": "stream",
     "text": [
      "Current value: 0.19457063972720529, Current params: {'input_chunk_length': 43, 'output_chunk_length': 2, 'dropout': 0.45694318264616673, 'batch_size': 166, 'lr': 0.001919560823241984, 'weight_decay': 0.0008105975023374437, 'num_filters': 11, 'kernel_size': 4, 'num_layers': 3, 'dilation_base': 3, 'weight_norm': True, 'loss_fn': 'huber', 'optimizer': 'SGD'}\n",
      "Best value: 0.10575886306292326, Best params: {'input_chunk_length': 30, 'output_chunk_length': 3, 'dropout': 0.3423373154331457, 'batch_size': 65, 'lr': 0.002676818996162833, 'weight_decay': 0.0004319696940792624, 'num_filters': 9, 'kernel_size': 5, 'num_layers': 2, 'dilation_base': 3, 'weight_norm': True, 'loss_fn': 'smoothl1', 'optimizer': 'AdamW'}\n",
      "\n",
      "Starting Trial 27\n",
      "Hyperparameters: {'input_chunk_length': 33, 'output_chunk_length': 5, 'dropout': 0.40797022834224506, 'batch_size': 136, 'lr': 8.995000620343667e-06, 'weight_decay': 0.00013045241281041162, 'num_filters': 18, 'kernel_size': 3, 'num_layers': 2, 'dilation_base': 4, 'weight_norm': True, 'loss_fn': 'mse', 'optimizer': 'Adam'}\n",
      "\n",
      "Training the model...\n",
      "Train set: 6647 samples\n",
      "Validation set: 1662 samples\n"
     ]
    },
    {
     "name": "stderr",
     "output_type": "stream",
     "text": [
      "[I 2025-05-25 21:38:18,638] Trial 27 pruned. Trial was pruned at epoch 0.\n"
     ]
    },
    {
     "name": "stdout",
     "output_type": "stream",
     "text": [
      "Current value: 0.5822325248131767, Current params: {'input_chunk_length': 33, 'output_chunk_length': 5, 'dropout': 0.40797022834224506, 'batch_size': 136, 'lr': 8.995000620343667e-06, 'weight_decay': 0.00013045241281041162, 'num_filters': 18, 'kernel_size': 3, 'num_layers': 2, 'dilation_base': 4, 'weight_norm': True, 'loss_fn': 'mse', 'optimizer': 'Adam'}\n",
      "Best value: 0.10575886306292326, Best params: {'input_chunk_length': 30, 'output_chunk_length': 3, 'dropout': 0.3423373154331457, 'batch_size': 65, 'lr': 0.002676818996162833, 'weight_decay': 0.0004319696940792624, 'num_filters': 9, 'kernel_size': 5, 'num_layers': 2, 'dilation_base': 3, 'weight_norm': True, 'loss_fn': 'smoothl1', 'optimizer': 'AdamW'}\n",
      "\n",
      "Starting Trial 28\n",
      "Hyperparameters: {'input_chunk_length': 69, 'output_chunk_length': 24, 'dropout': 0.20508765952355346, 'batch_size': 85, 'lr': 0.0008087847722534566, 'weight_decay': 6.455458482815451e-05, 'num_filters': 35, 'kernel_size': 8, 'num_layers': 2, 'dilation_base': 4, 'weight_norm': True, 'loss_fn': 'mae', 'optimizer': 'RMSprop'}\n",
      "\n",
      "Training the model...\n",
      "Train set: 6647 samples\n",
      "Validation set: 1662 samples\n"
     ]
    },
    {
     "name": "stderr",
     "output_type": "stream",
     "text": [
      "Specified future encoders in `add_encoders` at model creation but model does not accept future covariates. future encoders will be ignored.\n",
      "GPU available: True (cuda), used: True\n",
      "TPU available: False, using: 0 TPU cores\n",
      "HPU available: False, using: 0 HPUs\n",
      "LOCAL_RANK: 0 - CUDA_VISIBLE_DEVICES: [0]\n",
      "[I 2025-05-25 21:39:18,317] Trial 28 pruned. Trial was pruned at epoch 0.\n",
      "Specified future encoders in `add_encoders` at model creation but model does not accept future covariates. future encoders will be ignored.\n",
      "GPU available: True (cuda), used: True\n",
      "TPU available: False, using: 0 TPU cores\n",
      "HPU available: False, using: 0 HPUs\n",
      "LOCAL_RANK: 0 - CUDA_VISIBLE_DEVICES: [0]\n"
     ]
    },
    {
     "name": "stdout",
     "output_type": "stream",
     "text": [
      "Current value: 0.17470423149121644, Current params: {'input_chunk_length': 69, 'output_chunk_length': 24, 'dropout': 0.20508765952355346, 'batch_size': 85, 'lr': 0.0008087847722534566, 'weight_decay': 6.455458482815451e-05, 'num_filters': 35, 'kernel_size': 8, 'num_layers': 2, 'dilation_base': 4, 'weight_norm': True, 'loss_fn': 'mae', 'optimizer': 'RMSprop'}\n",
      "Best value: 0.10575886306292326, Best params: {'input_chunk_length': 30, 'output_chunk_length': 3, 'dropout': 0.3423373154331457, 'batch_size': 65, 'lr': 0.002676818996162833, 'weight_decay': 0.0004319696940792624, 'num_filters': 9, 'kernel_size': 5, 'num_layers': 2, 'dilation_base': 3, 'weight_norm': True, 'loss_fn': 'smoothl1', 'optimizer': 'AdamW'}\n",
      "\n",
      "Starting Trial 29\n",
      "Hyperparameters: {'input_chunk_length': 43, 'output_chunk_length': 13, 'dropout': 0.3452090798274584, 'batch_size': 66, 'lr': 0.00011590969697013879, 'weight_decay': 2.4658391717650013e-05, 'num_filters': 26, 'kernel_size': 7, 'num_layers': 1, 'dilation_base': 2, 'weight_norm': False, 'loss_fn': 'mse', 'optimizer': 'AdamW'}\n",
      "\n",
      "Training the model...\n",
      "Train set: 6647 samples\n",
      "Validation set: 1662 samples\n"
     ]
    },
    {
     "name": "stderr",
     "output_type": "stream",
     "text": [
      "[I 2025-05-25 21:39:20,055] Trial 29 pruned. Trial was pruned at epoch 0.\n",
      "Specified future encoders in `add_encoders` at model creation but model does not accept future covariates. future encoders will be ignored.\n",
      "GPU available: True (cuda), used: True\n",
      "TPU available: False, using: 0 TPU cores\n",
      "HPU available: False, using: 0 HPUs\n",
      "LOCAL_RANK: 0 - CUDA_VISIBLE_DEVICES: [0]\n"
     ]
    },
    {
     "name": "stdout",
     "output_type": "stream",
     "text": [
      "Current value: 0.17716777658984678, Current params: {'input_chunk_length': 43, 'output_chunk_length': 13, 'dropout': 0.3452090798274584, 'batch_size': 66, 'lr': 0.00011590969697013879, 'weight_decay': 2.4658391717650013e-05, 'num_filters': 26, 'kernel_size': 7, 'num_layers': 1, 'dilation_base': 2, 'weight_norm': False, 'loss_fn': 'mse', 'optimizer': 'AdamW'}\n",
      "Best value: 0.10575886306292326, Best params: {'input_chunk_length': 30, 'output_chunk_length': 3, 'dropout': 0.3423373154331457, 'batch_size': 65, 'lr': 0.002676818996162833, 'weight_decay': 0.0004319696940792624, 'num_filters': 9, 'kernel_size': 5, 'num_layers': 2, 'dilation_base': 3, 'weight_norm': True, 'loss_fn': 'smoothl1', 'optimizer': 'AdamW'}\n",
      "\n",
      "Starting Trial 30\n",
      "Hyperparameters: {'input_chunk_length': 27, 'output_chunk_length': 17, 'dropout': 0.2884846054099668, 'batch_size': 114, 'lr': 0.004824609741243763, 'weight_decay': 1.4232515331882146e-06, 'num_filters': 54, 'kernel_size': 6, 'num_layers': 3, 'dilation_base': 3, 'weight_norm': True, 'loss_fn': 'smoothl1', 'optimizer': 'AdamW'}\n",
      "\n",
      "Training the model...\n",
      "Train set: 6647 samples\n",
      "Validation set: 1662 samples\n"
     ]
    },
    {
     "name": "stderr",
     "output_type": "stream",
     "text": [
      "Metric val_loss improved. New best score: 0.024\n",
      "Metric val_loss improved by 0.002 >= min_delta = 0.0005. New best score: 0.022\n",
      "Metric val_loss improved by 0.001 >= min_delta = 0.0005. New best score: 0.021\n",
      "Metric val_loss improved by 0.002 >= min_delta = 0.0005. New best score: 0.019\n",
      "Monitored metric val_loss did not improve in the last 15 records. Best score: 0.019. Signaling Trainer to stop.\n",
      "GPU available: True (cuda), used: True\n",
      "TPU available: False, using: 0 TPU cores\n",
      "HPU available: False, using: 0 HPUs\n",
      "LOCAL_RANK: 0 - CUDA_VISIBLE_DEVICES: [0]\n"
     ]
    },
    {
     "name": "stdout",
     "output_type": "stream",
     "text": [
      "Model loaded from checkpoint for trial 30\n"
     ]
    },
    {
     "name": "stderr",
     "output_type": "stream",
     "text": [
      "/home/eduardo/Documentos/Water-Cycle-Neural-Network/venv/lib/python3.12/site-packages/pytorch_lightning/trainer/connectors/data_connector.py:425: The 'predict_dataloader' does not have many workers which may be a bottleneck. Consider increasing the value of the `num_workers` argument` to `num_workers=11` in the `DataLoader` to improve performance.\n",
      "[I 2025-05-25 21:46:58,003] Trial 30 finished with value: 0.128790991113101 and parameters: {'input_chunk_length': 27, 'output_chunk_length': 17, 'dropout': 0.2884846054099668, 'batch_size': 114, 'lr': 0.004824609741243763, 'weight_decay': 1.4232515331882146e-06, 'num_filters': 54, 'kernel_size': 6, 'num_layers': 3, 'dilation_base': 3, 'weight_norm': True, 'loss_fn': 'smoothl1', 'optimizer': 'AdamW'}. Best is trial 20 with value: 0.10575886306292326.\n",
      "Specified future encoders in `add_encoders` at model creation but model does not accept future covariates. future encoders will be ignored.\n",
      "GPU available: True (cuda), used: True\n",
      "TPU available: False, using: 0 TPU cores\n",
      "HPU available: False, using: 0 HPUs\n",
      "LOCAL_RANK: 0 - CUDA_VISIBLE_DEVICES: [0]\n"
     ]
    },
    {
     "name": "stdout",
     "output_type": "stream",
     "text": [
      "Starting time series verification for consistency...\n",
      "\n",
      "Performance metrics:\n",
      "                                    MSE        RMSE         MAE          R2  \\\n",
      "Temperature                   10.444909    3.231858    2.626736    0.658097   \n",
      "Precipitation_accumulated    460.127661   21.450586   19.128546 -136.035607   \n",
      "Humidity                      85.490488    9.246107    7.589443    0.417225   \n",
      "Wind_Speed_kmh                 1.408290    1.186714    0.991442   -0.044935   \n",
      "Soil_Moisture              78044.482676  279.364426  219.266604   -0.445771   \n",
      "Soil_Temperature               8.022820    2.832458    2.310924    0.502547   \n",
      "Wind_Dir_Sin                   0.583776    0.764052    0.676446   -0.057392   \n",
      "Wind_Dir_Cos                   0.383335    0.619140    0.531624   -0.046464   \n",
      "\n",
      "                                SMAPE  \n",
      "Temperature                 39.441321  \n",
      "Precipitation_accumulated    4.223020  \n",
      "Humidity                     8.979634  \n",
      "Wind_Speed_kmh              75.335495  \n",
      "Soil_Moisture                2.597772  \n",
      "Soil_Temperature            46.005349  \n",
      "Wind_Dir_Sin               145.260662  \n",
      "Wind_Dir_Cos               136.375050  \n",
      "The MAE for this fold was 0.128790991113101\n",
      "Results of trial 30 saved in optuna_iteration_metrics/trial_30.json\n",
      "Current value: 0.128790991113101, Current params: {'input_chunk_length': 27, 'output_chunk_length': 17, 'dropout': 0.2884846054099668, 'batch_size': 114, 'lr': 0.004824609741243763, 'weight_decay': 1.4232515331882146e-06, 'num_filters': 54, 'kernel_size': 6, 'num_layers': 3, 'dilation_base': 3, 'weight_norm': True, 'loss_fn': 'smoothl1', 'optimizer': 'AdamW'}\n",
      "Best value: 0.10575886306292326, Best params: {'input_chunk_length': 30, 'output_chunk_length': 3, 'dropout': 0.3423373154331457, 'batch_size': 65, 'lr': 0.002676818996162833, 'weight_decay': 0.0004319696940792624, 'num_filters': 9, 'kernel_size': 5, 'num_layers': 2, 'dilation_base': 3, 'weight_norm': True, 'loss_fn': 'smoothl1', 'optimizer': 'AdamW'}\n",
      "\n",
      "Starting Trial 31\n",
      "Hyperparameters: {'input_chunk_length': 27, 'output_chunk_length': 17, 'dropout': 0.28827132090360935, 'batch_size': 115, 'lr': 0.004686240426867034, 'weight_decay': 0.00023523885706277202, 'num_filters': 61, 'kernel_size': 8, 'num_layers': 3, 'dilation_base': 3, 'weight_norm': True, 'loss_fn': 'smoothl1', 'optimizer': 'AdamW'}\n",
      "\n",
      "Training the model...\n",
      "Train set: 6647 samples\n",
      "Validation set: 1662 samples\n"
     ]
    },
    {
     "name": "stderr",
     "output_type": "stream",
     "text": [
      "Metric val_loss improved. New best score: 0.026\n",
      "Metric val_loss improved by 0.004 >= min_delta = 0.0005. New best score: 0.022\n",
      "Metric val_loss improved by 0.001 >= min_delta = 0.0005. New best score: 0.021\n",
      "Metric val_loss improved by 0.001 >= min_delta = 0.0005. New best score: 0.021\n",
      "Metric val_loss improved by 0.001 >= min_delta = 0.0005. New best score: 0.020\n",
      "Metric val_loss improved by 0.001 >= min_delta = 0.0005. New best score: 0.019\n",
      "Monitored metric val_loss did not improve in the last 15 records. Best score: 0.019. Signaling Trainer to stop.\n",
      "GPU available: True (cuda), used: True\n",
      "TPU available: False, using: 0 TPU cores\n",
      "HPU available: False, using: 0 HPUs\n",
      "LOCAL_RANK: 0 - CUDA_VISIBLE_DEVICES: [0]\n"
     ]
    },
    {
     "name": "stdout",
     "output_type": "stream",
     "text": [
      "Model loaded from checkpoint for trial 31\n"
     ]
    },
    {
     "name": "stderr",
     "output_type": "stream",
     "text": [
      "/home/eduardo/Documentos/Water-Cycle-Neural-Network/venv/lib/python3.12/site-packages/pytorch_lightning/trainer/connectors/data_connector.py:425: The 'predict_dataloader' does not have many workers which may be a bottleneck. Consider increasing the value of the `num_workers` argument` to `num_workers=11` in the `DataLoader` to improve performance.\n",
      "[I 2025-05-25 21:50:55,193] Trial 31 finished with value: 0.1319086626355937 and parameters: {'input_chunk_length': 27, 'output_chunk_length': 17, 'dropout': 0.28827132090360935, 'batch_size': 115, 'lr': 0.004686240426867034, 'weight_decay': 0.00023523885706277202, 'num_filters': 61, 'kernel_size': 8, 'num_layers': 3, 'dilation_base': 3, 'weight_norm': True, 'loss_fn': 'smoothl1', 'optimizer': 'AdamW'}. Best is trial 20 with value: 0.10575886306292326.\n",
      "Specified future encoders in `add_encoders` at model creation but model does not accept future covariates. future encoders will be ignored.\n",
      "GPU available: True (cuda), used: True\n",
      "TPU available: False, using: 0 TPU cores\n",
      "HPU available: False, using: 0 HPUs\n",
      "LOCAL_RANK: 0 - CUDA_VISIBLE_DEVICES: [0]\n"
     ]
    },
    {
     "name": "stdout",
     "output_type": "stream",
     "text": [
      "Starting time series verification for consistency...\n",
      "\n",
      "Performance metrics:\n",
      "                                    MSE        RMSE         MAE          R2  \\\n",
      "Temperature                   10.638767    3.261712    2.709639    0.651751   \n",
      "Precipitation_accumulated   1286.884303   35.873170   33.777006 -382.260967   \n",
      "Humidity                     102.322597   10.115463    8.204979    0.302483   \n",
      "Wind_Speed_kmh                 1.219294    1.104217    0.887728    0.095297   \n",
      "Soil_Moisture              50257.527968  224.181908  172.182129    0.068981   \n",
      "Soil_Temperature               7.817776    2.796029    2.250513    0.515260   \n",
      "Wind_Dir_Sin                   0.621143    0.788126    0.693552   -0.125076   \n",
      "Wind_Dir_Cos                   0.400405    0.632776    0.532651   -0.093064   \n",
      "\n",
      "                                SMAPE  \n",
      "Temperature                 40.469583  \n",
      "Precipitation_accumulated    7.577492  \n",
      "Humidity                     9.695798  \n",
      "Wind_Speed_kmh              72.917878  \n",
      "Soil_Moisture                2.037572  \n",
      "Soil_Temperature            38.142452  \n",
      "Wind_Dir_Sin               145.812202  \n",
      "Wind_Dir_Cos               127.206625  \n",
      "The MAE for this fold was 0.1319086626355937\n",
      "Results of trial 31 saved in optuna_iteration_metrics/trial_31.json\n",
      "Current value: 0.1319086626355937, Current params: {'input_chunk_length': 27, 'output_chunk_length': 17, 'dropout': 0.28827132090360935, 'batch_size': 115, 'lr': 0.004686240426867034, 'weight_decay': 0.00023523885706277202, 'num_filters': 61, 'kernel_size': 8, 'num_layers': 3, 'dilation_base': 3, 'weight_norm': True, 'loss_fn': 'smoothl1', 'optimizer': 'AdamW'}\n",
      "Best value: 0.10575886306292326, Best params: {'input_chunk_length': 30, 'output_chunk_length': 3, 'dropout': 0.3423373154331457, 'batch_size': 65, 'lr': 0.002676818996162833, 'weight_decay': 0.0004319696940792624, 'num_filters': 9, 'kernel_size': 5, 'num_layers': 2, 'dilation_base': 3, 'weight_norm': True, 'loss_fn': 'smoothl1', 'optimizer': 'AdamW'}\n",
      "\n",
      "Starting Trial 32\n",
      "Hyperparameters: {'input_chunk_length': 33, 'output_chunk_length': 19, 'dropout': 0.2751179433199416, 'batch_size': 134, 'lr': 0.002791849940119462, 'weight_decay': 2.707591831659554e-06, 'num_filters': 90, 'kernel_size': 6, 'num_layers': 3, 'dilation_base': 3, 'weight_norm': True, 'loss_fn': 'smoothl1', 'optimizer': 'AdamW'}\n",
      "\n",
      "Training the model...\n",
      "Train set: 6647 samples\n",
      "Validation set: 1662 samples\n"
     ]
    },
    {
     "name": "stderr",
     "output_type": "stream",
     "text": [
      "Metric val_loss improved. New best score: 0.025\n",
      "Metric val_loss improved by 0.002 >= min_delta = 0.0005. New best score: 0.023\n",
      "Metric val_loss improved by 0.001 >= min_delta = 0.0005. New best score: 0.021\n",
      "Metric val_loss improved by 0.001 >= min_delta = 0.0005. New best score: 0.020\n",
      "Monitored metric val_loss did not improve in the last 15 records. Best score: 0.020. Signaling Trainer to stop.\n",
      "GPU available: True (cuda), used: True\n",
      "TPU available: False, using: 0 TPU cores\n",
      "HPU available: False, using: 0 HPUs\n",
      "LOCAL_RANK: 0 - CUDA_VISIBLE_DEVICES: [0]\n"
     ]
    },
    {
     "name": "stdout",
     "output_type": "stream",
     "text": [
      "Model loaded from checkpoint for trial 32\n"
     ]
    },
    {
     "name": "stderr",
     "output_type": "stream",
     "text": [
      "/home/eduardo/Documentos/Water-Cycle-Neural-Network/venv/lib/python3.12/site-packages/pytorch_lightning/trainer/connectors/data_connector.py:425: The 'predict_dataloader' does not have many workers which may be a bottleneck. Consider increasing the value of the `num_workers` argument` to `num_workers=11` in the `DataLoader` to improve performance.\n",
      "[I 2025-05-25 21:55:36,849] Trial 32 finished with value: 0.13952445250092954 and parameters: {'input_chunk_length': 33, 'output_chunk_length': 19, 'dropout': 0.2751179433199416, 'batch_size': 134, 'lr': 0.002791849940119462, 'weight_decay': 2.707591831659554e-06, 'num_filters': 90, 'kernel_size': 6, 'num_layers': 3, 'dilation_base': 3, 'weight_norm': True, 'loss_fn': 'smoothl1', 'optimizer': 'AdamW'}. Best is trial 20 with value: 0.10575886306292326.\n",
      "Specified future encoders in `add_encoders` at model creation but model does not accept future covariates. future encoders will be ignored.\n",
      "GPU available: True (cuda), used: True\n",
      "TPU available: False, using: 0 TPU cores\n",
      "HPU available: False, using: 0 HPUs\n",
      "LOCAL_RANK: 0 - CUDA_VISIBLE_DEVICES: [0]\n"
     ]
    },
    {
     "name": "stdout",
     "output_type": "stream",
     "text": [
      "Starting time series verification for consistency...\n",
      "\n",
      "Performance metrics:\n",
      "                                     MSE        RMSE         MAE          R2  \\\n",
      "Temperature                    13.835177    3.719567    2.838956    0.545745   \n",
      "Precipitation_accumulated    3225.330050   56.791989   49.891075 -972.234719   \n",
      "Humidity                       92.017115    9.592555    7.933078    0.372297   \n",
      "Wind_Speed_kmh                  1.327425    1.152139    0.907681    0.013098   \n",
      "Soil_Moisture              129351.604947  359.654841  287.445188   -1.466987   \n",
      "Soil_Temperature                8.172995    2.858845    2.395289    0.491543   \n",
      "Wind_Dir_Sin                    0.605960    0.778435    0.683812   -0.099666   \n",
      "Wind_Dir_Cos                    0.399519    0.632075    0.531841   -0.089453   \n",
      "\n",
      "                                SMAPE  \n",
      "Temperature                 41.967393  \n",
      "Precipitation_accumulated   11.530228  \n",
      "Humidity                     9.370648  \n",
      "Wind_Speed_kmh              74.284150  \n",
      "Soil_Moisture                3.415922  \n",
      "Soil_Temperature            49.349723  \n",
      "Wind_Dir_Sin               142.336836  \n",
      "Wind_Dir_Cos               125.101166  \n",
      "The MAE for this fold was 0.13952445250092954\n",
      "Results of trial 32 saved in optuna_iteration_metrics/trial_32.json\n",
      "Current value: 0.13952445250092954, Current params: {'input_chunk_length': 33, 'output_chunk_length': 19, 'dropout': 0.2751179433199416, 'batch_size': 134, 'lr': 0.002791849940119462, 'weight_decay': 2.707591831659554e-06, 'num_filters': 90, 'kernel_size': 6, 'num_layers': 3, 'dilation_base': 3, 'weight_norm': True, 'loss_fn': 'smoothl1', 'optimizer': 'AdamW'}\n",
      "Best value: 0.10575886306292326, Best params: {'input_chunk_length': 30, 'output_chunk_length': 3, 'dropout': 0.3423373154331457, 'batch_size': 65, 'lr': 0.002676818996162833, 'weight_decay': 0.0004319696940792624, 'num_filters': 9, 'kernel_size': 5, 'num_layers': 2, 'dilation_base': 3, 'weight_norm': True, 'loss_fn': 'smoothl1', 'optimizer': 'AdamW'}\n",
      "\n",
      "Starting Trial 33\n",
      "Hyperparameters: {'input_chunk_length': 28, 'output_chunk_length': 18, 'dropout': 0.3165900506858714, 'batch_size': 95, 'lr': 0.0015801573613862347, 'weight_decay': 2.1030304197466243e-06, 'num_filters': 47, 'kernel_size': 7, 'num_layers': 3, 'dilation_base': 3, 'weight_norm': True, 'loss_fn': 'smoothl1', 'optimizer': 'AdamW'}\n",
      "\n",
      "Training the model...\n",
      "Train set: 6647 samples\n",
      "Validation set: 1662 samples\n"
     ]
    },
    {
     "name": "stderr",
     "output_type": "stream",
     "text": [
      "Metric val_loss improved. New best score: 0.030\n",
      "Metric val_loss improved by 0.005 >= min_delta = 0.0005. New best score: 0.025\n",
      "Metric val_loss improved by 0.002 >= min_delta = 0.0005. New best score: 0.023\n",
      "Metric val_loss improved by 0.001 >= min_delta = 0.0005. New best score: 0.022\n",
      "Metric val_loss improved by 0.001 >= min_delta = 0.0005. New best score: 0.021\n",
      "Monitored metric val_loss did not improve in the last 15 records. Best score: 0.021. Signaling Trainer to stop.\n",
      "GPU available: True (cuda), used: True\n",
      "TPU available: False, using: 0 TPU cores\n",
      "HPU available: False, using: 0 HPUs\n",
      "LOCAL_RANK: 0 - CUDA_VISIBLE_DEVICES: [0]\n"
     ]
    },
    {
     "name": "stdout",
     "output_type": "stream",
     "text": [
      "Model loaded from checkpoint for trial 33\n"
     ]
    },
    {
     "name": "stderr",
     "output_type": "stream",
     "text": [
      "/home/eduardo/Documentos/Water-Cycle-Neural-Network/venv/lib/python3.12/site-packages/pytorch_lightning/trainer/connectors/data_connector.py:425: The 'predict_dataloader' does not have many workers which may be a bottleneck. Consider increasing the value of the `num_workers` argument` to `num_workers=11` in the `DataLoader` to improve performance.\n",
      "[I 2025-05-25 21:58:34,669] Trial 33 finished with value: 0.14439707554738965 and parameters: {'input_chunk_length': 28, 'output_chunk_length': 18, 'dropout': 0.3165900506858714, 'batch_size': 95, 'lr': 0.0015801573613862347, 'weight_decay': 2.1030304197466243e-06, 'num_filters': 47, 'kernel_size': 7, 'num_layers': 3, 'dilation_base': 3, 'weight_norm': True, 'loss_fn': 'smoothl1', 'optimizer': 'AdamW'}. Best is trial 20 with value: 0.10575886306292326.\n",
      "Specified future encoders in `add_encoders` at model creation but model does not accept future covariates. future encoders will be ignored.\n",
      "GPU available: True (cuda), used: True\n",
      "TPU available: False, using: 0 TPU cores\n",
      "HPU available: False, using: 0 HPUs\n",
      "LOCAL_RANK: 0 - CUDA_VISIBLE_DEVICES: [0]\n"
     ]
    },
    {
     "name": "stdout",
     "output_type": "stream",
     "text": [
      "Starting time series verification for consistency...\n",
      "\n",
      "Performance metrics:\n",
      "                                     MSE        RMSE         MAE          R2  \\\n",
      "Temperature                    10.164712    3.188215    2.505604    0.667053   \n",
      "Precipitation_accumulated    1890.925795   43.484777   37.618756 -563.978851   \n",
      "Humidity                      140.329868   11.846091    9.539956    0.043232   \n",
      "Wind_Speed_kmh                  1.426760    1.194471    0.933354   -0.059474   \n",
      "Soil_Moisture              268668.364160  518.332291  449.178123   -4.010570   \n",
      "Soil_Temperature                8.844043    2.973894    2.421662    0.451273   \n",
      "Wind_Dir_Sin                    0.667881    0.817240    0.709008   -0.212039   \n",
      "Wind_Dir_Cos                    0.419373    0.647590    0.537736   -0.143616   \n",
      "\n",
      "                                SMAPE  \n",
      "Temperature                 38.070566  \n",
      "Precipitation_accumulated    8.550167  \n",
      "Humidity                    11.333382  \n",
      "Wind_Speed_kmh              77.896215  \n",
      "Soil_Moisture                5.301545  \n",
      "Soil_Temperature            46.241866  \n",
      "Wind_Dir_Sin               142.008842  \n",
      "Wind_Dir_Cos               122.146223  \n",
      "The MAE for this fold was 0.14439707554738965\n",
      "Results of trial 33 saved in optuna_iteration_metrics/trial_33.json\n",
      "Current value: 0.14439707554738965, Current params: {'input_chunk_length': 28, 'output_chunk_length': 18, 'dropout': 0.3165900506858714, 'batch_size': 95, 'lr': 0.0015801573613862347, 'weight_decay': 2.1030304197466243e-06, 'num_filters': 47, 'kernel_size': 7, 'num_layers': 3, 'dilation_base': 3, 'weight_norm': True, 'loss_fn': 'smoothl1', 'optimizer': 'AdamW'}\n",
      "Best value: 0.10575886306292326, Best params: {'input_chunk_length': 30, 'output_chunk_length': 3, 'dropout': 0.3423373154331457, 'batch_size': 65, 'lr': 0.002676818996162833, 'weight_decay': 0.0004319696940792624, 'num_filters': 9, 'kernel_size': 5, 'num_layers': 2, 'dilation_base': 3, 'weight_norm': True, 'loss_fn': 'smoothl1', 'optimizer': 'AdamW'}\n",
      "\n",
      "Starting Trial 34\n",
      "Hyperparameters: {'input_chunk_length': 38, 'output_chunk_length': 3, 'dropout': 0.35693532851159593, 'batch_size': 235, 'lr': 0.0005860544494992426, 'weight_decay': 1.2043353637122828e-06, 'num_filters': 10, 'kernel_size': 5, 'num_layers': 2, 'dilation_base': 3, 'weight_norm': False, 'loss_fn': 'smoothl1', 'optimizer': 'AdamW'}\n",
      "\n",
      "Training the model...\n",
      "Train set: 6647 samples\n",
      "Validation set: 1662 samples\n"
     ]
    },
    {
     "name": "stderr",
     "output_type": "stream",
     "text": [
      "[I 2025-05-25 21:58:37,501] Trial 34 pruned. Trial was pruned at epoch 0.\n"
     ]
    },
    {
     "name": "stdout",
     "output_type": "stream",
     "text": [
      "Current value: 0.07006507846313442, Current params: {'input_chunk_length': 38, 'output_chunk_length': 3, 'dropout': 0.35693532851159593, 'batch_size': 235, 'lr': 0.0005860544494992426, 'weight_decay': 1.2043353637122828e-06, 'num_filters': 10, 'kernel_size': 5, 'num_layers': 2, 'dilation_base': 3, 'weight_norm': False, 'loss_fn': 'smoothl1', 'optimizer': 'AdamW'}\n",
      "Best value: 0.10575886306292326, Best params: {'input_chunk_length': 30, 'output_chunk_length': 3, 'dropout': 0.3423373154331457, 'batch_size': 65, 'lr': 0.002676818996162833, 'weight_decay': 0.0004319696940792624, 'num_filters': 9, 'kernel_size': 5, 'num_layers': 2, 'dilation_base': 3, 'weight_norm': True, 'loss_fn': 'smoothl1', 'optimizer': 'AdamW'}\n",
      "\n",
      "Starting Trial 35\n",
      "Hyperparameters: {'input_chunk_length': 32, 'output_chunk_length': 5, 'dropout': 0.39537941958156964, 'batch_size': 114, 'lr': 0.0026345909613123314, 'weight_decay': 7.711783741913778e-06, 'num_filters': 56, 'kernel_size': 6, 'num_layers': 2, 'dilation_base': 2, 'weight_norm': True, 'loss_fn': 'smoothl1', 'optimizer': 'SGD'}\n",
      "\n",
      "Training the model...\n",
      "Train set: 6647 samples\n",
      "Validation set: 1662 samples\n"
     ]
    },
    {
     "name": "stderr",
     "output_type": "stream",
     "text": [
      "Specified future encoders in `add_encoders` at model creation but model does not accept future covariates. future encoders will be ignored.\n",
      "GPU available: True (cuda), used: True\n",
      "TPU available: False, using: 0 TPU cores\n",
      "HPU available: False, using: 0 HPUs\n",
      "LOCAL_RANK: 0 - CUDA_VISIBLE_DEVICES: [0]\n",
      "[I 2025-05-25 21:59:37,861] Trial 35 pruned. Trial was pruned at epoch 0.\n",
      "Specified future encoders in `add_encoders` at model creation but model does not accept future covariates. future encoders will be ignored.\n",
      "GPU available: True (cuda), used: True\n",
      "TPU available: False, using: 0 TPU cores\n",
      "HPU available: False, using: 0 HPUs\n",
      "LOCAL_RANK: 0 - CUDA_VISIBLE_DEVICES: [0]\n"
     ]
    },
    {
     "name": "stdout",
     "output_type": "stream",
     "text": [
      "Current value: 0.0873912767378579, Current params: {'input_chunk_length': 32, 'output_chunk_length': 5, 'dropout': 0.39537941958156964, 'batch_size': 114, 'lr': 0.0026345909613123314, 'weight_decay': 7.711783741913778e-06, 'num_filters': 56, 'kernel_size': 6, 'num_layers': 2, 'dilation_base': 2, 'weight_norm': True, 'loss_fn': 'smoothl1', 'optimizer': 'SGD'}\n",
      "Best value: 0.10575886306292326, Best params: {'input_chunk_length': 30, 'output_chunk_length': 3, 'dropout': 0.3423373154331457, 'batch_size': 65, 'lr': 0.002676818996162833, 'weight_decay': 0.0004319696940792624, 'num_filters': 9, 'kernel_size': 5, 'num_layers': 2, 'dilation_base': 3, 'weight_norm': True, 'loss_fn': 'smoothl1', 'optimizer': 'AdamW'}\n",
      "\n",
      "Starting Trial 36\n",
      "Hyperparameters: {'input_chunk_length': 35, 'output_chunk_length': 21, 'dropout': 0.31226548041228797, 'batch_size': 92, 'lr': 1.2050728600551634e-06, 'weight_decay': 0.0004393774563050752, 'num_filters': 35, 'kernel_size': 7, 'num_layers': 3, 'dilation_base': 1, 'weight_norm': True, 'loss_fn': 'smoothl1', 'optimizer': 'AdamW'}\n",
      "\n",
      "Training the model...\n",
      "Train set: 6647 samples\n",
      "Validation set: 1662 samples\n"
     ]
    },
    {
     "name": "stderr",
     "output_type": "stream",
     "text": [
      "[I 2025-05-25 21:59:41,365] Trial 36 pruned. Trial was pruned at epoch 0.\n",
      "Specified future encoders in `add_encoders` at model creation but model does not accept future covariates. future encoders will be ignored.\n",
      "GPU available: True (cuda), used: True\n",
      "TPU available: False, using: 0 TPU cores\n",
      "HPU available: False, using: 0 HPUs\n",
      "LOCAL_RANK: 0 - CUDA_VISIBLE_DEVICES: [0]\n"
     ]
    },
    {
     "name": "stdout",
     "output_type": "stream",
     "text": [
      "Current value: 0.2305136516376767, Current params: {'input_chunk_length': 35, 'output_chunk_length': 21, 'dropout': 0.31226548041228797, 'batch_size': 92, 'lr': 1.2050728600551634e-06, 'weight_decay': 0.0004393774563050752, 'num_filters': 35, 'kernel_size': 7, 'num_layers': 3, 'dilation_base': 1, 'weight_norm': True, 'loss_fn': 'smoothl1', 'optimizer': 'AdamW'}\n",
      "Best value: 0.10575886306292326, Best params: {'input_chunk_length': 30, 'output_chunk_length': 3, 'dropout': 0.3423373154331457, 'batch_size': 65, 'lr': 0.002676818996162833, 'weight_decay': 0.0004319696940792624, 'num_filters': 9, 'kernel_size': 5, 'num_layers': 2, 'dilation_base': 3, 'weight_norm': True, 'loss_fn': 'smoothl1', 'optimizer': 'AdamW'}\n",
      "\n",
      "Starting Trial 37\n",
      "Hyperparameters: {'input_chunk_length': 27, 'output_chunk_length': 1, 'dropout': 0.17958488167568948, 'batch_size': 78, 'lr': 0.0034899193974320757, 'weight_decay': 2.004535522432503e-05, 'num_filters': 89, 'kernel_size': 4, 'num_layers': 3, 'dilation_base': 4, 'weight_norm': True, 'loss_fn': 'mae', 'optimizer': 'RMSprop'}\n",
      "\n",
      "Training the model...\n",
      "Train set: 6647 samples\n",
      "Validation set: 1662 samples\n"
     ]
    },
    {
     "name": "stderr",
     "output_type": "stream",
     "text": [
      "[I 2025-05-25 21:59:55,069] Trial 37 pruned. Trial was pruned at epoch 0.\n",
      "Specified future encoders in `add_encoders` at model creation but model does not accept future covariates. future encoders will be ignored.\n",
      "GPU available: True (cuda), used: True\n",
      "TPU available: False, using: 0 TPU cores\n",
      "HPU available: False, using: 0 HPUs\n",
      "LOCAL_RANK: 0 - CUDA_VISIBLE_DEVICES: [0]\n"
     ]
    },
    {
     "name": "stdout",
     "output_type": "stream",
     "text": [
      "Current value: 0.1550581785072566, Current params: {'input_chunk_length': 27, 'output_chunk_length': 1, 'dropout': 0.17958488167568948, 'batch_size': 78, 'lr': 0.0034899193974320757, 'weight_decay': 2.004535522432503e-05, 'num_filters': 89, 'kernel_size': 4, 'num_layers': 3, 'dilation_base': 4, 'weight_norm': True, 'loss_fn': 'mae', 'optimizer': 'RMSprop'}\n",
      "Best value: 0.10575886306292326, Best params: {'input_chunk_length': 30, 'output_chunk_length': 3, 'dropout': 0.3423373154331457, 'batch_size': 65, 'lr': 0.002676818996162833, 'weight_decay': 0.0004319696940792624, 'num_filters': 9, 'kernel_size': 5, 'num_layers': 2, 'dilation_base': 3, 'weight_norm': True, 'loss_fn': 'smoothl1', 'optimizer': 'AdamW'}\n",
      "\n",
      "Starting Trial 38\n",
      "Hyperparameters: {'input_chunk_length': 35, 'output_chunk_length': 16, 'dropout': 0.442993845131954, 'batch_size': 141, 'lr': 0.0009657291399241288, 'weight_decay': 0.00018056205212611592, 'num_filters': 14, 'kernel_size': 6, 'num_layers': 2, 'dilation_base': 3, 'weight_norm': False, 'loss_fn': 'huber', 'optimizer': 'SGD'}\n",
      "\n",
      "Training the model...\n",
      "Train set: 6647 samples\n",
      "Validation set: 1662 samples\n"
     ]
    },
    {
     "name": "stderr",
     "output_type": "stream",
     "text": [
      "[I 2025-05-25 21:59:58,101] Trial 38 pruned. Trial was pruned at epoch 0.\n"
     ]
    },
    {
     "name": "stdout",
     "output_type": "stream",
     "text": [
      "Current value: 0.11351512390674073, Current params: {'input_chunk_length': 35, 'output_chunk_length': 16, 'dropout': 0.442993845131954, 'batch_size': 141, 'lr': 0.0009657291399241288, 'weight_decay': 0.00018056205212611592, 'num_filters': 14, 'kernel_size': 6, 'num_layers': 2, 'dilation_base': 3, 'weight_norm': False, 'loss_fn': 'huber', 'optimizer': 'SGD'}\n",
      "Best value: 0.10575886306292326, Best params: {'input_chunk_length': 30, 'output_chunk_length': 3, 'dropout': 0.3423373154331457, 'batch_size': 65, 'lr': 0.002676818996162833, 'weight_decay': 0.0004319696940792624, 'num_filters': 9, 'kernel_size': 5, 'num_layers': 2, 'dilation_base': 3, 'weight_norm': True, 'loss_fn': 'smoothl1', 'optimizer': 'AdamW'}\n",
      "\n",
      "Starting Trial 39\n",
      "Hyperparameters: {'input_chunk_length': 64, 'output_chunk_length': 12, 'dropout': 0.371476252697631, 'batch_size': 248, 'lr': 0.004778023458160965, 'weight_decay': 0.00033695867816783037, 'num_filters': 29, 'kernel_size': 8, 'num_layers': 2, 'dilation_base': 2, 'weight_norm': True, 'loss_fn': 'smoothl1', 'optimizer': 'AdamW'}\n",
      "\n",
      "Training the model...\n",
      "Train set: 6647 samples\n",
      "Validation set: 1662 samples\n"
     ]
    },
    {
     "name": "stderr",
     "output_type": "stream",
     "text": [
      "Specified future encoders in `add_encoders` at model creation but model does not accept future covariates. future encoders will be ignored.\n",
      "GPU available: True (cuda), used: True\n",
      "TPU available: False, using: 0 TPU cores\n",
      "HPU available: False, using: 0 HPUs\n",
      "LOCAL_RANK: 0 - CUDA_VISIBLE_DEVICES: [0]\n",
      "[I 2025-05-25 22:00:57,605] Trial 39 pruned. Trial was pruned at epoch 0.\n",
      "Specified future encoders in `add_encoders` at model creation but model does not accept future covariates. future encoders will be ignored.\n",
      "GPU available: True (cuda), used: True\n",
      "TPU available: False, using: 0 TPU cores\n",
      "HPU available: False, using: 0 HPUs\n",
      "LOCAL_RANK: 0 - CUDA_VISIBLE_DEVICES: [0]\n"
     ]
    },
    {
     "name": "stdout",
     "output_type": "stream",
     "text": [
      "Current value: 0.045116377719787513, Current params: {'input_chunk_length': 64, 'output_chunk_length': 12, 'dropout': 0.371476252697631, 'batch_size': 248, 'lr': 0.004778023458160965, 'weight_decay': 0.00033695867816783037, 'num_filters': 29, 'kernel_size': 8, 'num_layers': 2, 'dilation_base': 2, 'weight_norm': True, 'loss_fn': 'smoothl1', 'optimizer': 'AdamW'}\n",
      "Best value: 0.10575886306292326, Best params: {'input_chunk_length': 30, 'output_chunk_length': 3, 'dropout': 0.3423373154331457, 'batch_size': 65, 'lr': 0.002676818996162833, 'weight_decay': 0.0004319696940792624, 'num_filters': 9, 'kernel_size': 5, 'num_layers': 2, 'dilation_base': 3, 'weight_norm': True, 'loss_fn': 'smoothl1', 'optimizer': 'AdamW'}\n",
      "\n",
      "Starting Trial 40\n",
      "Hyperparameters: {'input_chunk_length': 51, 'output_chunk_length': 9, 'dropout': 0.47146617335697455, 'batch_size': 125, 'lr': 0.001495478110713395, 'weight_decay': 3.766309050629204e-06, 'num_filters': 50, 'kernel_size': 5, 'num_layers': 1, 'dilation_base': 3, 'weight_norm': False, 'loss_fn': 'mae', 'optimizer': 'Adam'}\n",
      "\n",
      "Training the model...\n",
      "Train set: 6647 samples\n",
      "Validation set: 1662 samples\n"
     ]
    },
    {
     "name": "stderr",
     "output_type": "stream",
     "text": [
      "[I 2025-05-25 22:00:59,519] Trial 40 pruned. Trial was pruned at epoch 0.\n",
      "Specified future encoders in `add_encoders` at model creation but model does not accept future covariates. future encoders will be ignored.\n",
      "GPU available: True (cuda), used: True\n",
      "TPU available: False, using: 0 TPU cores\n",
      "HPU available: False, using: 0 HPUs\n",
      "LOCAL_RANK: 0 - CUDA_VISIBLE_DEVICES: [0]\n"
     ]
    },
    {
     "name": "stdout",
     "output_type": "stream",
     "text": [
      "Current value: 0.2966538569768488, Current params: {'input_chunk_length': 51, 'output_chunk_length': 9, 'dropout': 0.47146617335697455, 'batch_size': 125, 'lr': 0.001495478110713395, 'weight_decay': 3.766309050629204e-06, 'num_filters': 50, 'kernel_size': 5, 'num_layers': 1, 'dilation_base': 3, 'weight_norm': False, 'loss_fn': 'mae', 'optimizer': 'Adam'}\n",
      "Best value: 0.10575886306292326, Best params: {'input_chunk_length': 30, 'output_chunk_length': 3, 'dropout': 0.3423373154331457, 'batch_size': 65, 'lr': 0.002676818996162833, 'weight_decay': 0.0004319696940792624, 'num_filters': 9, 'kernel_size': 5, 'num_layers': 2, 'dilation_base': 3, 'weight_norm': True, 'loss_fn': 'smoothl1', 'optimizer': 'AdamW'}\n",
      "\n",
      "Starting Trial 41\n",
      "Hyperparameters: {'input_chunk_length': 24, 'output_chunk_length': 7, 'dropout': 0.2569129187497019, 'batch_size': 155, 'lr': 0.0035034440374702553, 'weight_decay': 0.0030433948246265875, 'num_filters': 126, 'kernel_size': 3, 'num_layers': 3, 'dilation_base': 4, 'weight_norm': True, 'loss_fn': 'smoothl1', 'optimizer': 'AdamW'}\n",
      "\n",
      "Training the model...\n",
      "Train set: 6647 samples\n",
      "Validation set: 1662 samples\n"
     ]
    },
    {
     "name": "stderr",
     "output_type": "stream",
     "text": [
      "Metric val_loss improved. New best score: 0.024\n",
      "Metric val_loss improved by 0.003 >= min_delta = 0.0005. New best score: 0.022\n",
      "Metric val_loss improved by 0.001 >= min_delta = 0.0005. New best score: 0.020\n",
      "Metric val_loss improved by 0.001 >= min_delta = 0.0005. New best score: 0.019\n",
      "Monitored metric val_loss did not improve in the last 15 records. Best score: 0.019. Signaling Trainer to stop.\n",
      "GPU available: True (cuda), used: True\n",
      "TPU available: False, using: 0 TPU cores\n",
      "HPU available: False, using: 0 HPUs\n",
      "LOCAL_RANK: 0 - CUDA_VISIBLE_DEVICES: [0]\n"
     ]
    },
    {
     "name": "stdout",
     "output_type": "stream",
     "text": [
      "Model loaded from checkpoint for trial 41\n"
     ]
    },
    {
     "name": "stderr",
     "output_type": "stream",
     "text": [
      "/home/eduardo/Documentos/Water-Cycle-Neural-Network/venv/lib/python3.12/site-packages/pytorch_lightning/trainer/connectors/data_connector.py:425: The 'predict_dataloader' does not have many workers which may be a bottleneck. Consider increasing the value of the `num_workers` argument` to `num_workers=11` in the `DataLoader` to improve performance.\n",
      "[I 2025-05-25 22:11:05,924] Trial 41 finished with value: 0.12631857190432055 and parameters: {'input_chunk_length': 24, 'output_chunk_length': 7, 'dropout': 0.2569129187497019, 'batch_size': 155, 'lr': 0.0035034440374702553, 'weight_decay': 0.0030433948246265875, 'num_filters': 126, 'kernel_size': 3, 'num_layers': 3, 'dilation_base': 4, 'weight_norm': True, 'loss_fn': 'smoothl1', 'optimizer': 'AdamW'}. Best is trial 20 with value: 0.10575886306292326.\n",
      "Specified future encoders in `add_encoders` at model creation but model does not accept future covariates. future encoders will be ignored.\n",
      "GPU available: True (cuda), used: True\n",
      "TPU available: False, using: 0 TPU cores\n",
      "HPU available: False, using: 0 HPUs\n",
      "LOCAL_RANK: 0 - CUDA_VISIBLE_DEVICES: [0]\n"
     ]
    },
    {
     "name": "stdout",
     "output_type": "stream",
     "text": [
      "Starting time series verification for consistency...\n",
      "\n",
      "Performance metrics:\n",
      "                                    MSE        RMSE         MAE          R2  \\\n",
      "Temperature                    8.123346    2.850148    2.214903    0.733199   \n",
      "Precipitation_accumulated    369.286978   19.216841   16.282894 -106.765595   \n",
      "Humidity                      80.194409    8.955133    7.174827    0.452677   \n",
      "Wind_Speed_kmh                 1.297193    1.138944    0.882660    0.038555   \n",
      "Soil_Moisture              91388.137376  302.304709  255.942051   -0.603233   \n",
      "Soil_Temperature               9.751552    3.122747    2.601452    0.394585   \n",
      "Wind_Dir_Sin                   0.623653    0.789717    0.676774   -0.132577   \n",
      "Wind_Dir_Cos                   0.398273    0.631088    0.536269   -0.086909   \n",
      "\n",
      "                                SMAPE  \n",
      "Temperature                 34.769407  \n",
      "Precipitation_accumulated    3.589065  \n",
      "Humidity                     8.431284  \n",
      "Wind_Speed_kmh              74.627469  \n",
      "Soil_Moisture                3.031222  \n",
      "Soil_Temperature            49.877770  \n",
      "Wind_Dir_Sin               137.275196  \n",
      "Wind_Dir_Cos               135.340826  \n",
      "The MAE for this fold was 0.12631857190432055\n",
      "Results of trial 41 saved in optuna_iteration_metrics/trial_41.json\n",
      "Current value: 0.12631857190432055, Current params: {'input_chunk_length': 24, 'output_chunk_length': 7, 'dropout': 0.2569129187497019, 'batch_size': 155, 'lr': 0.0035034440374702553, 'weight_decay': 0.0030433948246265875, 'num_filters': 126, 'kernel_size': 3, 'num_layers': 3, 'dilation_base': 4, 'weight_norm': True, 'loss_fn': 'smoothl1', 'optimizer': 'AdamW'}\n",
      "Best value: 0.10575886306292326, Best params: {'input_chunk_length': 30, 'output_chunk_length': 3, 'dropout': 0.3423373154331457, 'batch_size': 65, 'lr': 0.002676818996162833, 'weight_decay': 0.0004319696940792624, 'num_filters': 9, 'kernel_size': 5, 'num_layers': 2, 'dilation_base': 3, 'weight_norm': True, 'loss_fn': 'smoothl1', 'optimizer': 'AdamW'}\n",
      "\n",
      "Starting Trial 42\n",
      "Hyperparameters: {'input_chunk_length': 24, 'output_chunk_length': 3, 'dropout': 0.24912925197879493, 'batch_size': 160, 'lr': 0.003272200424951969, 'weight_decay': 0.006406347774512077, 'num_filters': 80, 'kernel_size': 2, 'num_layers': 3, 'dilation_base': 4, 'weight_norm': True, 'loss_fn': 'smoothl1', 'optimizer': 'AdamW'}\n",
      "\n",
      "Training the model...\n",
      "Train set: 6647 samples\n",
      "Validation set: 1662 samples\n"
     ]
    },
    {
     "name": "stderr",
     "output_type": "stream",
     "text": [
      "Metric val_loss improved. New best score: 0.024\n",
      "Metric val_loss improved by 0.003 >= min_delta = 0.0005. New best score: 0.021\n",
      "Metric val_loss improved by 0.001 >= min_delta = 0.0005. New best score: 0.020\n",
      "Metric val_loss improved by 0.001 >= min_delta = 0.0005. New best score: 0.019\n",
      "Metric val_loss improved by 0.001 >= min_delta = 0.0005. New best score: 0.018\n",
      "Metric val_loss improved by 0.001 >= min_delta = 0.0005. New best score: 0.017\n",
      "Monitored metric val_loss did not improve in the last 15 records. Best score: 0.017. Signaling Trainer to stop.\n",
      "GPU available: True (cuda), used: True\n",
      "TPU available: False, using: 0 TPU cores\n",
      "HPU available: False, using: 0 HPUs\n",
      "LOCAL_RANK: 0 - CUDA_VISIBLE_DEVICES: [0]\n"
     ]
    },
    {
     "name": "stdout",
     "output_type": "stream",
     "text": [
      "Model loaded from checkpoint for trial 42\n"
     ]
    },
    {
     "name": "stderr",
     "output_type": "stream",
     "text": [
      "/home/eduardo/Documentos/Water-Cycle-Neural-Network/venv/lib/python3.12/site-packages/pytorch_lightning/trainer/connectors/data_connector.py:425: The 'predict_dataloader' does not have many workers which may be a bottleneck. Consider increasing the value of the `num_workers` argument` to `num_workers=11` in the `DataLoader` to improve performance.\n",
      "[I 2025-05-25 22:15:39,747] Trial 42 finished with value: 0.12090855930999456 and parameters: {'input_chunk_length': 24, 'output_chunk_length': 3, 'dropout': 0.24912925197879493, 'batch_size': 160, 'lr': 0.003272200424951969, 'weight_decay': 0.006406347774512077, 'num_filters': 80, 'kernel_size': 2, 'num_layers': 3, 'dilation_base': 4, 'weight_norm': True, 'loss_fn': 'smoothl1', 'optimizer': 'AdamW'}. Best is trial 20 with value: 0.10575886306292326.\n",
      "Specified future encoders in `add_encoders` at model creation but model does not accept future covariates. future encoders will be ignored.\n",
      "GPU available: True (cuda), used: True\n",
      "TPU available: False, using: 0 TPU cores\n",
      "HPU available: False, using: 0 HPUs\n",
      "LOCAL_RANK: 0 - CUDA_VISIBLE_DEVICES: [0]\n"
     ]
    },
    {
     "name": "stdout",
     "output_type": "stream",
     "text": [
      "Starting time series verification for consistency...\n",
      "\n",
      "Performance metrics:\n",
      "                                    MSE        RMSE         MAE          R2  \\\n",
      "Temperature                    5.100777    2.258490    1.753830    0.832752   \n",
      "Precipitation_accumulated   1204.421301   34.704773   31.898916 -348.329342   \n",
      "Humidity                      50.002815    7.071267    5.654951    0.658834   \n",
      "Wind_Speed_kmh                 1.037386    1.018522    0.786010    0.231894   \n",
      "Soil_Moisture              81642.356011  285.731265  244.065082   -0.412691   \n",
      "Soil_Temperature               8.076137    2.841855    2.428655    0.500194   \n",
      "Wind_Dir_Sin                   0.583152    0.763644    0.634290   -0.060378   \n",
      "Wind_Dir_Cos                   0.378058    0.614864    0.522342   -0.028243   \n",
      "\n",
      "                                SMAPE  \n",
      "Temperature                 29.156689  \n",
      "Precipitation_accumulated    7.150615  \n",
      "Humidity                     6.571637  \n",
      "Wind_Speed_kmh              68.067415  \n",
      "Soil_Moisture                2.898008  \n",
      "Soil_Temperature            56.553292  \n",
      "Wind_Dir_Sin               126.771675  \n",
      "Wind_Dir_Cos               129.641849  \n",
      "The MAE for this fold was 0.12090855930999456\n",
      "Results of trial 42 saved in optuna_iteration_metrics/trial_42.json\n",
      "Current value: 0.12090855930999456, Current params: {'input_chunk_length': 24, 'output_chunk_length': 3, 'dropout': 0.24912925197879493, 'batch_size': 160, 'lr': 0.003272200424951969, 'weight_decay': 0.006406347774512077, 'num_filters': 80, 'kernel_size': 2, 'num_layers': 3, 'dilation_base': 4, 'weight_norm': True, 'loss_fn': 'smoothl1', 'optimizer': 'AdamW'}\n",
      "Best value: 0.10575886306292326, Best params: {'input_chunk_length': 30, 'output_chunk_length': 3, 'dropout': 0.3423373154331457, 'batch_size': 65, 'lr': 0.002676818996162833, 'weight_decay': 0.0004319696940792624, 'num_filters': 9, 'kernel_size': 5, 'num_layers': 2, 'dilation_base': 3, 'weight_norm': True, 'loss_fn': 'smoothl1', 'optimizer': 'AdamW'}\n",
      "\n",
      "Starting Trial 43\n",
      "Hyperparameters: {'input_chunk_length': 24, 'output_chunk_length': 3, 'dropout': 0.14566429901084005, 'batch_size': 182, 'lr': 0.0028774005546646935, 'weight_decay': 0.00975319979176867, 'num_filters': 85, 'kernel_size': 2, 'num_layers': 3, 'dilation_base': 4, 'weight_norm': True, 'loss_fn': 'smoothl1', 'optimizer': 'AdamW'}\n",
      "\n",
      "Training the model...\n",
      "Train set: 6647 samples\n",
      "Validation set: 1662 samples\n"
     ]
    },
    {
     "name": "stderr",
     "output_type": "stream",
     "text": [
      "Metric val_loss improved. New best score: 0.025\n",
      "Metric val_loss improved by 0.006 >= min_delta = 0.0005. New best score: 0.020\n",
      "Metric val_loss improved by 0.001 >= min_delta = 0.0005. New best score: 0.018\n",
      "Metric val_loss improved by 0.001 >= min_delta = 0.0005. New best score: 0.018\n",
      "Metric val_loss improved by 0.001 >= min_delta = 0.0005. New best score: 0.017\n",
      "Monitored metric val_loss did not improve in the last 15 records. Best score: 0.017. Signaling Trainer to stop.\n",
      "GPU available: True (cuda), used: True\n",
      "TPU available: False, using: 0 TPU cores\n",
      "HPU available: False, using: 0 HPUs\n",
      "LOCAL_RANK: 0 - CUDA_VISIBLE_DEVICES: [0]\n"
     ]
    },
    {
     "name": "stdout",
     "output_type": "stream",
     "text": [
      "Model loaded from checkpoint for trial 43\n"
     ]
    },
    {
     "name": "stderr",
     "output_type": "stream",
     "text": [
      "/home/eduardo/Documentos/Water-Cycle-Neural-Network/venv/lib/python3.12/site-packages/pytorch_lightning/trainer/connectors/data_connector.py:425: The 'predict_dataloader' does not have many workers which may be a bottleneck. Consider increasing the value of the `num_workers` argument` to `num_workers=11` in the `DataLoader` to improve performance.\n",
      "[I 2025-05-25 22:19:51,109] Trial 43 finished with value: 0.12142150721639047 and parameters: {'input_chunk_length': 24, 'output_chunk_length': 3, 'dropout': 0.14566429901084005, 'batch_size': 182, 'lr': 0.0028774005546646935, 'weight_decay': 0.00975319979176867, 'num_filters': 85, 'kernel_size': 2, 'num_layers': 3, 'dilation_base': 4, 'weight_norm': True, 'loss_fn': 'smoothl1', 'optimizer': 'AdamW'}. Best is trial 20 with value: 0.10575886306292326.\n"
     ]
    },
    {
     "name": "stdout",
     "output_type": "stream",
     "text": [
      "Starting time series verification for consistency...\n",
      "\n",
      "Performance metrics:\n",
      "                                    MSE        RMSE         MAE          R2  \\\n",
      "Temperature                    6.395300    2.528893    1.954036    0.790306   \n",
      "Precipitation_accumulated   2303.527205   47.995075   43.839862 -667.113096   \n",
      "Humidity                      54.261492    7.366240    5.874200    0.629777   \n",
      "Wind_Speed_kmh                 1.015176    1.007559    0.756262    0.248339   \n",
      "Soil_Moisture              60413.895201  245.792382  212.566008   -0.045366   \n",
      "Soil_Temperature               7.024753    2.650425    2.283913    0.565260   \n",
      "Wind_Dir_Sin                   0.527174    0.726067    0.620189    0.041410   \n",
      "Wind_Dir_Cos                   0.354347    0.595271    0.504829    0.036245   \n",
      "\n",
      "                                SMAPE  \n",
      "Temperature                 31.730943  \n",
      "Precipitation_accumulated    9.990572  \n",
      "Humidity                     6.960202  \n",
      "Wind_Speed_kmh              69.531406  \n",
      "Soil_Moisture                2.520416  \n",
      "Soil_Temperature            48.728104  \n",
      "Wind_Dir_Sin               129.951404  \n",
      "Wind_Dir_Cos               127.307913  \n",
      "The MAE for this fold was 0.12142150721639047\n",
      "Results of trial 43 saved in optuna_iteration_metrics/trial_43.json\n",
      "Current value: 0.12142150721639047, Current params: {'input_chunk_length': 24, 'output_chunk_length': 3, 'dropout': 0.14566429901084005, 'batch_size': 182, 'lr': 0.0028774005546646935, 'weight_decay': 0.00975319979176867, 'num_filters': 85, 'kernel_size': 2, 'num_layers': 3, 'dilation_base': 4, 'weight_norm': True, 'loss_fn': 'smoothl1', 'optimizer': 'AdamW'}\n",
      "Best value: 0.10575886306292326, Best params: {'input_chunk_length': 30, 'output_chunk_length': 3, 'dropout': 0.3423373154331457, 'batch_size': 65, 'lr': 0.002676818996162833, 'weight_decay': 0.0004319696940792624, 'num_filters': 9, 'kernel_size': 5, 'num_layers': 2, 'dilation_base': 3, 'weight_norm': True, 'loss_fn': 'smoothl1', 'optimizer': 'AdamW'}\n",
      "\n",
      "Starting Trial 44\n",
      "Hyperparameters: {'input_chunk_length': 31, 'output_chunk_length': 3, 'dropout': 0.12000600467951462, 'batch_size': 186, 'lr': 0.0008196740747254762, 'weight_decay': 0.009148928116151, 'num_filters': 82, 'kernel_size': 2, 'num_layers': 3, 'dilation_base': 4, 'weight_norm': True, 'loss_fn': 'smoothl1', 'optimizer': 'AdamW'}\n",
      "\n",
      "Training the model...\n",
      "Train set: 6647 samples\n",
      "Validation set: 1662 samples\n"
     ]
    },
    {
     "name": "stderr",
     "output_type": "stream",
     "text": [
      "Specified future encoders in `add_encoders` at model creation but model does not accept future covariates. future encoders will be ignored.\n",
      "GPU available: True (cuda), used: True\n",
      "TPU available: False, using: 0 TPU cores\n",
      "HPU available: False, using: 0 HPUs\n",
      "LOCAL_RANK: 0 - CUDA_VISIBLE_DEVICES: [0]\n",
      "Metric val_loss improved. New best score: 0.032\n",
      "Metric val_loss improved by 0.006 >= min_delta = 0.0005. New best score: 0.026\n",
      "Metric val_loss improved by 0.004 >= min_delta = 0.0005. New best score: 0.022\n",
      "Metric val_loss improved by 0.002 >= min_delta = 0.0005. New best score: 0.021\n",
      "Metric val_loss improved by 0.001 >= min_delta = 0.0005. New best score: 0.020\n",
      "Metric val_loss improved by 0.001 >= min_delta = 0.0005. New best score: 0.019\n",
      "Metric val_loss improved by 0.001 >= min_delta = 0.0005. New best score: 0.018\n",
      "Monitored metric val_loss did not improve in the last 15 records. Best score: 0.018. Signaling Trainer to stop.\n",
      "GPU available: True (cuda), used: True\n",
      "TPU available: False, using: 0 TPU cores\n",
      "HPU available: False, using: 0 HPUs\n",
      "LOCAL_RANK: 0 - CUDA_VISIBLE_DEVICES: [0]\n"
     ]
    },
    {
     "name": "stdout",
     "output_type": "stream",
     "text": [
      "Model loaded from checkpoint for trial 44\n"
     ]
    },
    {
     "name": "stderr",
     "output_type": "stream",
     "text": [
      "/home/eduardo/Documentos/Water-Cycle-Neural-Network/venv/lib/python3.12/site-packages/pytorch_lightning/trainer/connectors/data_connector.py:425: The 'predict_dataloader' does not have many workers which may be a bottleneck. Consider increasing the value of the `num_workers` argument` to `num_workers=11` in the `DataLoader` to improve performance.\n",
      "[I 2025-05-25 22:24:51,735] Trial 44 finished with value: 0.12219594809644321 and parameters: {'input_chunk_length': 31, 'output_chunk_length': 3, 'dropout': 0.12000600467951462, 'batch_size': 186, 'lr': 0.0008196740747254762, 'weight_decay': 0.009148928116151, 'num_filters': 82, 'kernel_size': 2, 'num_layers': 3, 'dilation_base': 4, 'weight_norm': True, 'loss_fn': 'smoothl1', 'optimizer': 'AdamW'}. Best is trial 20 with value: 0.10575886306292326.\n",
      "Specified future encoders in `add_encoders` at model creation but model does not accept future covariates. future encoders will be ignored.\n",
      "GPU available: True (cuda), used: True\n",
      "TPU available: False, using: 0 TPU cores\n",
      "HPU available: False, using: 0 HPUs\n",
      "LOCAL_RANK: 0 - CUDA_VISIBLE_DEVICES: [0]\n"
     ]
    },
    {
     "name": "stdout",
     "output_type": "stream",
     "text": [
      "Starting time series verification for consistency...\n",
      "\n",
      "Performance metrics:\n",
      "                                     MSE        RMSE         MAE          R2  \\\n",
      "Temperature                     5.288011    2.299568    1.813645    0.826568   \n",
      "Precipitation_accumulated    1608.375345   40.104555   33.141309 -470.538387   \n",
      "Humidity                       59.588345    7.719349    6.099541    0.593518   \n",
      "Wind_Speed_kmh                  1.124346    1.060352    0.786394    0.165122   \n",
      "Soil_Moisture              120906.983329  347.716815  288.794817   -1.147003   \n",
      "Soil_Temperature                8.387774    2.896165    2.372075    0.478951   \n",
      "Wind_Dir_Sin                    0.568662    0.754097    0.632963   -0.032861   \n",
      "Wind_Dir_Cos                    0.376727    0.613781    0.507582   -0.027601   \n",
      "\n",
      "                                SMAPE  \n",
      "Temperature                 30.788615  \n",
      "Precipitation_accumulated    7.511513  \n",
      "Humidity                     7.246625  \n",
      "Wind_Speed_kmh              72.008754  \n",
      "Soil_Moisture                3.441144  \n",
      "Soil_Temperature            46.060640  \n",
      "Wind_Dir_Sin               126.789756  \n",
      "Wind_Dir_Cos               119.807917  \n",
      "The MAE for this fold was 0.12219594809644321\n",
      "Results of trial 44 saved in optuna_iteration_metrics/trial_44.json\n",
      "Current value: 0.12219594809644321, Current params: {'input_chunk_length': 31, 'output_chunk_length': 3, 'dropout': 0.12000600467951462, 'batch_size': 186, 'lr': 0.0008196740747254762, 'weight_decay': 0.009148928116151, 'num_filters': 82, 'kernel_size': 2, 'num_layers': 3, 'dilation_base': 4, 'weight_norm': True, 'loss_fn': 'smoothl1', 'optimizer': 'AdamW'}\n",
      "Best value: 0.10575886306292326, Best params: {'input_chunk_length': 30, 'output_chunk_length': 3, 'dropout': 0.3423373154331457, 'batch_size': 65, 'lr': 0.002676818996162833, 'weight_decay': 0.0004319696940792624, 'num_filters': 9, 'kernel_size': 5, 'num_layers': 2, 'dilation_base': 3, 'weight_norm': True, 'loss_fn': 'smoothl1', 'optimizer': 'AdamW'}\n",
      "\n",
      "Starting Trial 45\n",
      "Hyperparameters: {'input_chunk_length': 26, 'output_chunk_length': 2, 'dropout': 0.14756827146410467, 'batch_size': 212, 'lr': 0.0029012399875487233, 'weight_decay': 0.009975131374698059, 'num_filters': 69, 'kernel_size': 2, 'num_layers': 3, 'dilation_base': 4, 'weight_norm': True, 'loss_fn': 'smoothl1', 'optimizer': 'AdamW'}\n",
      "\n",
      "Training the model...\n",
      "Train set: 6647 samples\n",
      "Validation set: 1662 samples\n"
     ]
    },
    {
     "name": "stderr",
     "output_type": "stream",
     "text": [
      "Metric val_loss improved. New best score: 0.026\n",
      "Metric val_loss improved by 0.007 >= min_delta = 0.0005. New best score: 0.019\n",
      "Metric val_loss improved by 0.001 >= min_delta = 0.0005. New best score: 0.018\n",
      "Metric val_loss improved by 0.001 >= min_delta = 0.0005. New best score: 0.017\n",
      "Metric val_loss improved by 0.001 >= min_delta = 0.0005. New best score: 0.017\n",
      "Metric val_loss improved by 0.001 >= min_delta = 0.0005. New best score: 0.016\n",
      "Monitored metric val_loss did not improve in the last 15 records. Best score: 0.016. Signaling Trainer to stop.\n",
      "GPU available: True (cuda), used: True\n",
      "TPU available: False, using: 0 TPU cores\n",
      "HPU available: False, using: 0 HPUs\n",
      "LOCAL_RANK: 0 - CUDA_VISIBLE_DEVICES: [0]\n"
     ]
    },
    {
     "name": "stdout",
     "output_type": "stream",
     "text": [
      "Model loaded from checkpoint for trial 45\n"
     ]
    },
    {
     "name": "stderr",
     "output_type": "stream",
     "text": [
      "/home/eduardo/Documentos/Water-Cycle-Neural-Network/venv/lib/python3.12/site-packages/pytorch_lightning/trainer/connectors/data_connector.py:425: The 'predict_dataloader' does not have many workers which may be a bottleneck. Consider increasing the value of the `num_workers` argument` to `num_workers=11` in the `DataLoader` to improve performance.\n"
     ]
    },
    {
     "name": "stdout",
     "output_type": "stream",
     "text": [
      "Starting time series verification for consistency...\n"
     ]
    },
    {
     "name": "stderr",
     "output_type": "stream",
     "text": [
      "[I 2025-05-25 22:28:35,327] Trial 45 finished with value: 0.11507884828019702 and parameters: {'input_chunk_length': 26, 'output_chunk_length': 2, 'dropout': 0.14756827146410467, 'batch_size': 212, 'lr': 0.0029012399875487233, 'weight_decay': 0.009975131374698059, 'num_filters': 69, 'kernel_size': 2, 'num_layers': 3, 'dilation_base': 4, 'weight_norm': True, 'loss_fn': 'smoothl1', 'optimizer': 'AdamW'}. Best is trial 20 with value: 0.10575886306292326.\n",
      "Specified future encoders in `add_encoders` at model creation but model does not accept future covariates. future encoders will be ignored.\n",
      "GPU available: True (cuda), used: True\n",
      "TPU available: False, using: 0 TPU cores\n",
      "HPU available: False, using: 0 HPUs\n",
      "LOCAL_RANK: 0 - CUDA_VISIBLE_DEVICES: [0]\n"
     ]
    },
    {
     "name": "stdout",
     "output_type": "stream",
     "text": [
      "\n",
      "Performance metrics:\n",
      "                                    MSE        RMSE         MAE          R2  \\\n",
      "Temperature                    4.608468    2.146734    1.683647    0.848812   \n",
      "Precipitation_accumulated   2050.845674   45.286264   38.052573 -594.730790   \n",
      "Humidity                      33.699800    5.805153    4.597446    0.770052   \n",
      "Wind_Speed_kmh                 0.937078    0.968028    0.765507    0.306584   \n",
      "Soil_Moisture              43833.739215  209.365086  166.622024    0.239024   \n",
      "Soil_Temperature               8.981517    2.996918    2.666053    0.443755   \n",
      "Wind_Dir_Sin                   0.493006    0.702144    0.599571    0.103847   \n",
      "Wind_Dir_Cos                   0.369030    0.607479    0.495970   -0.004601   \n",
      "\n",
      "                                SMAPE  \n",
      "Temperature                 30.152345  \n",
      "Precipitation_accumulated    8.681837  \n",
      "Humidity                     5.335963  \n",
      "Wind_Speed_kmh              66.988304  \n",
      "Soil_Moisture                1.957697  \n",
      "Soil_Temperature            65.076058  \n",
      "Wind_Dir_Sin               126.087581  \n",
      "Wind_Dir_Cos               118.133798  \n",
      "The MAE for this fold was 0.11507884828019702\n",
      "Results of trial 45 saved in optuna_iteration_metrics/trial_45.json\n",
      "Current value: 0.11507884828019702, Current params: {'input_chunk_length': 26, 'output_chunk_length': 2, 'dropout': 0.14756827146410467, 'batch_size': 212, 'lr': 0.0029012399875487233, 'weight_decay': 0.009975131374698059, 'num_filters': 69, 'kernel_size': 2, 'num_layers': 3, 'dilation_base': 4, 'weight_norm': True, 'loss_fn': 'smoothl1', 'optimizer': 'AdamW'}\n",
      "Best value: 0.10575886306292326, Best params: {'input_chunk_length': 30, 'output_chunk_length': 3, 'dropout': 0.3423373154331457, 'batch_size': 65, 'lr': 0.002676818996162833, 'weight_decay': 0.0004319696940792624, 'num_filters': 9, 'kernel_size': 5, 'num_layers': 2, 'dilation_base': 3, 'weight_norm': True, 'loss_fn': 'smoothl1', 'optimizer': 'AdamW'}\n",
      "\n",
      "Starting Trial 46\n",
      "Hyperparameters: {'input_chunk_length': 34, 'output_chunk_length': 2, 'dropout': 0.18323144701732025, 'batch_size': 212, 'lr': 0.0015046561635223882, 'weight_decay': 0.007003827752847486, 'num_filters': 71, 'kernel_size': 2, 'num_layers': 3, 'dilation_base': 4, 'weight_norm': True, 'loss_fn': 'mse', 'optimizer': 'AdamW'}\n",
      "\n",
      "Training the model...\n",
      "Train set: 6647 samples\n",
      "Validation set: 1662 samples\n"
     ]
    },
    {
     "name": "stderr",
     "output_type": "stream",
     "text": [
      "[I 2025-05-25 22:28:46,429] Trial 46 pruned. Trial was pruned at epoch 0.\n",
      "Specified future encoders in `add_encoders` at model creation but model does not accept future covariates. future encoders will be ignored.\n",
      "GPU available: True (cuda), used: True\n",
      "TPU available: False, using: 0 TPU cores\n",
      "HPU available: False, using: 0 HPUs\n",
      "LOCAL_RANK: 0 - CUDA_VISIBLE_DEVICES: [0]\n"
     ]
    },
    {
     "name": "stdout",
     "output_type": "stream",
     "text": [
      "Current value: 0.08256452468146724, Current params: {'input_chunk_length': 34, 'output_chunk_length': 2, 'dropout': 0.18323144701732025, 'batch_size': 212, 'lr': 0.0015046561635223882, 'weight_decay': 0.007003827752847486, 'num_filters': 71, 'kernel_size': 2, 'num_layers': 3, 'dilation_base': 4, 'weight_norm': True, 'loss_fn': 'mse', 'optimizer': 'AdamW'}\n",
      "Best value: 0.10575886306292326, Best params: {'input_chunk_length': 30, 'output_chunk_length': 3, 'dropout': 0.3423373154331457, 'batch_size': 65, 'lr': 0.002676818996162833, 'weight_decay': 0.0004319696940792624, 'num_filters': 9, 'kernel_size': 5, 'num_layers': 2, 'dilation_base': 3, 'weight_norm': True, 'loss_fn': 'smoothl1', 'optimizer': 'AdamW'}\n",
      "\n",
      "Starting Trial 47\n",
      "Hyperparameters: {'input_chunk_length': 30, 'output_chunk_length': 6, 'dropout': 0.23793503745567368, 'batch_size': 241, 'lr': 5.272644271136651e-05, 'weight_decay': 0.003706998162270958, 'num_filters': 103, 'kernel_size': 3, 'num_layers': 3, 'dilation_base': 4, 'weight_norm': True, 'loss_fn': 'smoothl1', 'optimizer': 'RMSprop'}\n",
      "\n",
      "Training the model...\n",
      "Train set: 6647 samples\n",
      "Validation set: 1662 samples\n"
     ]
    },
    {
     "name": "stderr",
     "output_type": "stream",
     "text": [
      "[I 2025-05-25 22:29:01,950] Trial 47 pruned. Trial was pruned at epoch 0.\n",
      "Specified future encoders in `add_encoders` at model creation but model does not accept future covariates. future encoders will be ignored.\n",
      "GPU available: True (cuda), used: True\n",
      "TPU available: False, using: 0 TPU cores\n",
      "HPU available: False, using: 0 HPUs\n",
      "LOCAL_RANK: 0 - CUDA_VISIBLE_DEVICES: [0]\n"
     ]
    },
    {
     "name": "stdout",
     "output_type": "stream",
     "text": [
      "Current value: 0.0558325130613996, Current params: {'input_chunk_length': 30, 'output_chunk_length': 6, 'dropout': 0.23793503745567368, 'batch_size': 241, 'lr': 5.272644271136651e-05, 'weight_decay': 0.003706998162270958, 'num_filters': 103, 'kernel_size': 3, 'num_layers': 3, 'dilation_base': 4, 'weight_norm': True, 'loss_fn': 'smoothl1', 'optimizer': 'RMSprop'}\n",
      "Best value: 0.10575886306292326, Best params: {'input_chunk_length': 30, 'output_chunk_length': 3, 'dropout': 0.3423373154331457, 'batch_size': 65, 'lr': 0.002676818996162833, 'weight_decay': 0.0004319696940792624, 'num_filters': 9, 'kernel_size': 5, 'num_layers': 2, 'dilation_base': 3, 'weight_norm': True, 'loss_fn': 'smoothl1', 'optimizer': 'AdamW'}\n",
      "\n",
      "Starting Trial 48\n",
      "Hyperparameters: {'input_chunk_length': 26, 'output_chunk_length': 4, 'dropout': 0.12756520210908867, 'batch_size': 221, 'lr': 0.0021571327959101286, 'weight_decay': 0.0023075061998176767, 'num_filters': 62, 'kernel_size': 2, 'num_layers': 2, 'dilation_base': 4, 'weight_norm': False, 'loss_fn': 'huber', 'optimizer': 'AdamW'}\n",
      "\n",
      "Training the model...\n",
      "Train set: 6647 samples\n",
      "Validation set: 1662 samples\n"
     ]
    },
    {
     "name": "stderr",
     "output_type": "stream",
     "text": [
      "[I 2025-05-25 22:29:06,797] Trial 48 pruned. Trial was pruned at epoch 0.\n"
     ]
    },
    {
     "name": "stdout",
     "output_type": "stream",
     "text": [
      "Current value: 0.03728364942201952, Current params: {'input_chunk_length': 26, 'output_chunk_length': 4, 'dropout': 0.12756520210908867, 'batch_size': 221, 'lr': 0.0021571327959101286, 'weight_decay': 0.0023075061998176767, 'num_filters': 62, 'kernel_size': 2, 'num_layers': 2, 'dilation_base': 4, 'weight_norm': False, 'loss_fn': 'huber', 'optimizer': 'AdamW'}\n",
      "Best value: 0.10575886306292326, Best params: {'input_chunk_length': 30, 'output_chunk_length': 3, 'dropout': 0.3423373154331457, 'batch_size': 65, 'lr': 0.002676818996162833, 'weight_decay': 0.0004319696940792624, 'num_filters': 9, 'kernel_size': 5, 'num_layers': 2, 'dilation_base': 3, 'weight_norm': True, 'loss_fn': 'smoothl1', 'optimizer': 'AdamW'}\n",
      "\n",
      "Starting Trial 49\n",
      "Hyperparameters: {'input_chunk_length': 37, 'output_chunk_length': 2, 'dropout': 0.4184310156869504, 'batch_size': 197, 'lr': 0.00019493632578045295, 'weight_decay': 0.00528115271194311, 'num_filters': 77, 'kernel_size': 2, 'num_layers': 3, 'dilation_base': 4, 'weight_norm': True, 'loss_fn': 'smoothl1', 'optimizer': 'SGD'}\n",
      "\n",
      "Training the model...\n",
      "Train set: 6647 samples\n",
      "Validation set: 1662 samples\n"
     ]
    },
    {
     "name": "stderr",
     "output_type": "stream",
     "text": [
      "Specified future encoders in `add_encoders` at model creation but model does not accept future covariates. future encoders will be ignored.\n",
      "GPU available: True (cuda), used: True\n",
      "TPU available: False, using: 0 TPU cores\n",
      "HPU available: False, using: 0 HPUs\n",
      "LOCAL_RANK: 0 - CUDA_VISIBLE_DEVICES: [0]\n",
      "[I 2025-05-25 22:30:13,558] Trial 49 pruned. Trial was pruned at epoch 0.\n",
      "Specified future encoders in `add_encoders` at model creation but model does not accept future covariates. future encoders will be ignored.\n",
      "GPU available: True (cuda), used: True\n",
      "TPU available: False, using: 0 TPU cores\n",
      "HPU available: False, using: 0 HPUs\n",
      "LOCAL_RANK: 0 - CUDA_VISIBLE_DEVICES: [0]\n"
     ]
    },
    {
     "name": "stdout",
     "output_type": "stream",
     "text": [
      "Current value: 0.2468493859258483, Current params: {'input_chunk_length': 37, 'output_chunk_length': 2, 'dropout': 0.4184310156869504, 'batch_size': 197, 'lr': 0.00019493632578045295, 'weight_decay': 0.00528115271194311, 'num_filters': 77, 'kernel_size': 2, 'num_layers': 3, 'dilation_base': 4, 'weight_norm': True, 'loss_fn': 'smoothl1', 'optimizer': 'SGD'}\n",
      "Best value: 0.10575886306292326, Best params: {'input_chunk_length': 30, 'output_chunk_length': 3, 'dropout': 0.3423373154331457, 'batch_size': 65, 'lr': 0.002676818996162833, 'weight_decay': 0.0004319696940792624, 'num_filters': 9, 'kernel_size': 5, 'num_layers': 2, 'dilation_base': 3, 'weight_norm': True, 'loss_fn': 'smoothl1', 'optimizer': 'AdamW'}\n",
      "\n",
      "Starting Trial 50\n",
      "Hyperparameters: {'input_chunk_length': 29, 'output_chunk_length': 1, 'dropout': 0.16981117724028139, 'batch_size': 256, 'lr': 0.0011796104743638282, 'weight_decay': 0.0008750201577898175, 'num_filters': 100, 'kernel_size': 3, 'num_layers': 2, 'dilation_base': 4, 'weight_norm': True, 'loss_fn': 'smoothl1', 'optimizer': 'Adam'}\n",
      "\n",
      "Training the model...\n",
      "Train set: 6647 samples\n",
      "Validation set: 1662 samples\n"
     ]
    },
    {
     "name": "stderr",
     "output_type": "stream",
     "text": [
      "[I 2025-05-25 22:30:20,493] Trial 50 pruned. Trial was pruned at epoch 0.\n",
      "Specified future encoders in `add_encoders` at model creation but model does not accept future covariates. future encoders will be ignored.\n",
      "GPU available: True (cuda), used: True\n",
      "TPU available: False, using: 0 TPU cores\n",
      "HPU available: False, using: 0 HPUs\n",
      "LOCAL_RANK: 0 - CUDA_VISIBLE_DEVICES: [0]\n"
     ]
    },
    {
     "name": "stdout",
     "output_type": "stream",
     "text": [
      "Current value: 0.03724171665974326, Current params: {'input_chunk_length': 29, 'output_chunk_length': 1, 'dropout': 0.16981117724028139, 'batch_size': 256, 'lr': 0.0011796104743638282, 'weight_decay': 0.0008750201577898175, 'num_filters': 100, 'kernel_size': 3, 'num_layers': 2, 'dilation_base': 4, 'weight_norm': True, 'loss_fn': 'smoothl1', 'optimizer': 'Adam'}\n",
      "Best value: 0.10575886306292326, Best params: {'input_chunk_length': 30, 'output_chunk_length': 3, 'dropout': 0.3423373154331457, 'batch_size': 65, 'lr': 0.002676818996162833, 'weight_decay': 0.0004319696940792624, 'num_filters': 9, 'kernel_size': 5, 'num_layers': 2, 'dilation_base': 3, 'weight_norm': True, 'loss_fn': 'smoothl1', 'optimizer': 'AdamW'}\n",
      "\n",
      "Starting Trial 51\n",
      "Hyperparameters: {'input_chunk_length': 24, 'output_chunk_length': 3, 'dropout': 0.1382947627746293, 'batch_size': 167, 'lr': 0.003075558843123485, 'weight_decay': 0.005630617794565666, 'num_filters': 64, 'kernel_size': 2, 'num_layers': 3, 'dilation_base': 4, 'weight_norm': True, 'loss_fn': 'smoothl1', 'optimizer': 'AdamW'}\n",
      "\n",
      "Training the model...\n",
      "Train set: 6647 samples\n",
      "Validation set: 1662 samples\n"
     ]
    },
    {
     "name": "stderr",
     "output_type": "stream",
     "text": [
      "Metric val_loss improved. New best score: 0.024\n",
      "Metric val_loss improved by 0.004 >= min_delta = 0.0005. New best score: 0.020\n",
      "Metric val_loss improved by 0.001 >= min_delta = 0.0005. New best score: 0.019\n",
      "Metric val_loss improved by 0.001 >= min_delta = 0.0005. New best score: 0.018\n",
      "Metric val_loss improved by 0.001 >= min_delta = 0.0005. New best score: 0.018\n",
      "Metric val_loss improved by 0.001 >= min_delta = 0.0005. New best score: 0.017\n",
      "Monitored metric val_loss did not improve in the last 15 records. Best score: 0.017. Signaling Trainer to stop.\n",
      "GPU available: True (cuda), used: True\n",
      "TPU available: False, using: 0 TPU cores\n",
      "HPU available: False, using: 0 HPUs\n",
      "LOCAL_RANK: 0 - CUDA_VISIBLE_DEVICES: [0]\n"
     ]
    },
    {
     "name": "stdout",
     "output_type": "stream",
     "text": [
      "Model loaded from checkpoint for trial 51\n"
     ]
    },
    {
     "name": "stderr",
     "output_type": "stream",
     "text": [
      "/home/eduardo/Documentos/Water-Cycle-Neural-Network/venv/lib/python3.12/site-packages/pytorch_lightning/trainer/connectors/data_connector.py:425: The 'predict_dataloader' does not have many workers which may be a bottleneck. Consider increasing the value of the `num_workers` argument` to `num_workers=11` in the `DataLoader` to improve performance.\n",
      "[I 2025-05-25 22:34:12,821] Trial 51 finished with value: 0.11350776076026274 and parameters: {'input_chunk_length': 24, 'output_chunk_length': 3, 'dropout': 0.1382947627746293, 'batch_size': 167, 'lr': 0.003075558843123485, 'weight_decay': 0.005630617794565666, 'num_filters': 64, 'kernel_size': 2, 'num_layers': 3, 'dilation_base': 4, 'weight_norm': True, 'loss_fn': 'smoothl1', 'optimizer': 'AdamW'}. Best is trial 20 with value: 0.10575886306292326.\n",
      "Specified future encoders in `add_encoders` at model creation but model does not accept future covariates. future encoders will be ignored.\n",
      "GPU available: True (cuda), used: True\n",
      "TPU available: False, using: 0 TPU cores\n",
      "HPU available: False, using: 0 HPUs\n",
      "LOCAL_RANK: 0 - CUDA_VISIBLE_DEVICES: [0]\n"
     ]
    },
    {
     "name": "stdout",
     "output_type": "stream",
     "text": [
      "Starting time series verification for consistency...\n",
      "\n",
      "Performance metrics:\n",
      "                                    MSE        RMSE         MAE          R2  \\\n",
      "Temperature                    4.477125    2.115922    1.678060    0.853201   \n",
      "Precipitation_accumulated   1057.548915   32.519977   26.560724 -305.730599   \n",
      "Humidity                      37.480789    6.122156    4.739188    0.744271   \n",
      "Wind_Speed_kmh                 1.016615    1.008274    0.798106    0.247273   \n",
      "Soil_Moisture              19978.525529  141.345412  113.191629    0.654303   \n",
      "Soil_Temperature               7.275921    2.697392    2.210232    0.549716   \n",
      "Wind_Dir_Sin                   0.546001    0.738919    0.630323    0.007176   \n",
      "Wind_Dir_Cos                   0.379784    0.616266    0.520283   -0.032937   \n",
      "\n",
      "                                SMAPE  \n",
      "Temperature                 29.186460  \n",
      "Precipitation_accumulated    5.963244  \n",
      "Humidity                     5.607318  \n",
      "Wind_Speed_kmh              68.698396  \n",
      "Soil_Moisture                1.328037  \n",
      "Soil_Temperature            44.770414  \n",
      "Wind_Dir_Sin               131.652566  \n",
      "Wind_Dir_Cos               130.666752  \n",
      "The MAE for this fold was 0.11350776076026274\n",
      "Results of trial 51 saved in optuna_iteration_metrics/trial_51.json\n",
      "Current value: 0.11350776076026274, Current params: {'input_chunk_length': 24, 'output_chunk_length': 3, 'dropout': 0.1382947627746293, 'batch_size': 167, 'lr': 0.003075558843123485, 'weight_decay': 0.005630617794565666, 'num_filters': 64, 'kernel_size': 2, 'num_layers': 3, 'dilation_base': 4, 'weight_norm': True, 'loss_fn': 'smoothl1', 'optimizer': 'AdamW'}\n",
      "Best value: 0.10575886306292326, Best params: {'input_chunk_length': 30, 'output_chunk_length': 3, 'dropout': 0.3423373154331457, 'batch_size': 65, 'lr': 0.002676818996162833, 'weight_decay': 0.0004319696940792624, 'num_filters': 9, 'kernel_size': 5, 'num_layers': 2, 'dilation_base': 3, 'weight_norm': True, 'loss_fn': 'smoothl1', 'optimizer': 'AdamW'}\n",
      "\n",
      "Starting Trial 52\n",
      "Hyperparameters: {'input_chunk_length': 26, 'output_chunk_length': 4, 'dropout': 0.10281805042044659, 'batch_size': 161, 'lr': 0.0034961909688346, 'weight_decay': 0.005256109184391301, 'num_filters': 66, 'kernel_size': 2, 'num_layers': 3, 'dilation_base': 4, 'weight_norm': True, 'loss_fn': 'smoothl1', 'optimizer': 'AdamW'}\n",
      "\n",
      "Training the model...\n",
      "Train set: 6647 samples\n",
      "Validation set: 1662 samples\n"
     ]
    },
    {
     "name": "stderr",
     "output_type": "stream",
     "text": [
      "Metric val_loss improved. New best score: 0.030\n",
      "Metric val_loss improved by 0.008 >= min_delta = 0.0005. New best score: 0.022\n",
      "Metric val_loss improved by 0.002 >= min_delta = 0.0005. New best score: 0.020\n",
      "Metric val_loss improved by 0.001 >= min_delta = 0.0005. New best score: 0.019\n",
      "Metric val_loss improved by 0.001 >= min_delta = 0.0005. New best score: 0.018\n",
      "Monitored metric val_loss did not improve in the last 15 records. Best score: 0.018. Signaling Trainer to stop.\n",
      "GPU available: True (cuda), used: True\n",
      "TPU available: False, using: 0 TPU cores\n",
      "HPU available: False, using: 0 HPUs\n",
      "LOCAL_RANK: 0 - CUDA_VISIBLE_DEVICES: [0]\n"
     ]
    },
    {
     "name": "stdout",
     "output_type": "stream",
     "text": [
      "Model loaded from checkpoint for trial 52\n"
     ]
    },
    {
     "name": "stderr",
     "output_type": "stream",
     "text": [
      "/home/eduardo/Documentos/Water-Cycle-Neural-Network/venv/lib/python3.12/site-packages/pytorch_lightning/trainer/connectors/data_connector.py:425: The 'predict_dataloader' does not have many workers which may be a bottleneck. Consider increasing the value of the `num_workers` argument` to `num_workers=11` in the `DataLoader` to improve performance.\n",
      "[I 2025-05-25 22:41:30,658] Trial 52 finished with value: 0.128587955248911 and parameters: {'input_chunk_length': 26, 'output_chunk_length': 4, 'dropout': 0.10281805042044659, 'batch_size': 161, 'lr': 0.0034961909688346, 'weight_decay': 0.005256109184391301, 'num_filters': 66, 'kernel_size': 2, 'num_layers': 3, 'dilation_base': 4, 'weight_norm': True, 'loss_fn': 'smoothl1', 'optimizer': 'AdamW'}. Best is trial 20 with value: 0.10575886306292326.\n",
      "Specified future encoders in `add_encoders` at model creation but model does not accept future covariates. future encoders will be ignored.\n",
      "GPU available: True (cuda), used: True\n",
      "TPU available: False, using: 0 TPU cores\n",
      "HPU available: False, using: 0 HPUs\n",
      "LOCAL_RANK: 0 - CUDA_VISIBLE_DEVICES: [0]\n"
     ]
    },
    {
     "name": "stdout",
     "output_type": "stream",
     "text": [
      "Starting time series verification for consistency...\n",
      "\n",
      "Performance metrics:\n",
      "                                     MSE        RMSE         MAE           R2  \\\n",
      "Temperature                     5.175429    2.274957    1.781302     0.830019   \n",
      "Precipitation_accumulated    3659.210746   60.491411   52.684779 -1065.189057   \n",
      "Humidity                       51.821684    7.198728    5.654612     0.646346   \n",
      "Wind_Speed_kmh                  1.191469    1.091544    0.816237     0.117219   \n",
      "Soil_Moisture              120639.187020  347.331523  289.848432    -1.108510   \n",
      "Soil_Temperature                7.642161    2.764446    2.320881     0.525903   \n",
      "Wind_Dir_Sin                    0.570687    0.755438    0.652593    -0.036648   \n",
      "Wind_Dir_Cos                    0.370492    0.608681    0.511366    -0.010418   \n",
      "\n",
      "                                SMAPE  \n",
      "Temperature                 29.830562  \n",
      "Precipitation_accumulated   12.243570  \n",
      "Humidity                     6.702464  \n",
      "Wind_Speed_kmh              73.306198  \n",
      "Soil_Moisture                3.445924  \n",
      "Soil_Temperature            46.816230  \n",
      "Wind_Dir_Sin               135.375198  \n",
      "Wind_Dir_Cos               125.762635  \n",
      "The MAE for this fold was 0.128587955248911\n",
      "Results of trial 52 saved in optuna_iteration_metrics/trial_52.json\n",
      "Current value: 0.128587955248911, Current params: {'input_chunk_length': 26, 'output_chunk_length': 4, 'dropout': 0.10281805042044659, 'batch_size': 161, 'lr': 0.0034961909688346, 'weight_decay': 0.005256109184391301, 'num_filters': 66, 'kernel_size': 2, 'num_layers': 3, 'dilation_base': 4, 'weight_norm': True, 'loss_fn': 'smoothl1', 'optimizer': 'AdamW'}\n",
      "Best value: 0.10575886306292326, Best params: {'input_chunk_length': 30, 'output_chunk_length': 3, 'dropout': 0.3423373154331457, 'batch_size': 65, 'lr': 0.002676818996162833, 'weight_decay': 0.0004319696940792624, 'num_filters': 9, 'kernel_size': 5, 'num_layers': 2, 'dilation_base': 3, 'weight_norm': True, 'loss_fn': 'smoothl1', 'optimizer': 'AdamW'}\n",
      "\n",
      "Starting Trial 53\n",
      "Hyperparameters: {'input_chunk_length': 24, 'output_chunk_length': 6, 'dropout': 0.14225103549944101, 'batch_size': 232, 'lr': 0.001903940840217671, 'weight_decay': 0.0022658051981492475, 'num_filters': 59, 'kernel_size': 2, 'num_layers': 3, 'dilation_base': 4, 'weight_norm': True, 'loss_fn': 'smoothl1', 'optimizer': 'AdamW'}\n",
      "\n",
      "Training the model...\n",
      "Train set: 6647 samples\n",
      "Validation set: 1662 samples\n"
     ]
    },
    {
     "name": "stderr",
     "output_type": "stream",
     "text": [
      "[I 2025-05-25 22:41:40,293] Trial 53 pruned. Trial was pruned at epoch 0.\n",
      "Specified future encoders in `add_encoders` at model creation but model does not accept future covariates. future encoders will be ignored.\n",
      "GPU available: True (cuda), used: True\n",
      "TPU available: False, using: 0 TPU cores\n",
      "HPU available: False, using: 0 HPUs\n",
      "LOCAL_RANK: 0 - CUDA_VISIBLE_DEVICES: [0]\n"
     ]
    },
    {
     "name": "stdout",
     "output_type": "stream",
     "text": [
      "Current value: 0.03996700773406811, Current params: {'input_chunk_length': 24, 'output_chunk_length': 6, 'dropout': 0.14225103549944101, 'batch_size': 232, 'lr': 0.001903940840217671, 'weight_decay': 0.0022658051981492475, 'num_filters': 59, 'kernel_size': 2, 'num_layers': 3, 'dilation_base': 4, 'weight_norm': True, 'loss_fn': 'smoothl1', 'optimizer': 'AdamW'}\n",
      "Best value: 0.10575886306292326, Best params: {'input_chunk_length': 30, 'output_chunk_length': 3, 'dropout': 0.3423373154331457, 'batch_size': 65, 'lr': 0.002676818996162833, 'weight_decay': 0.0004319696940792624, 'num_filters': 9, 'kernel_size': 5, 'num_layers': 2, 'dilation_base': 3, 'weight_norm': True, 'loss_fn': 'smoothl1', 'optimizer': 'AdamW'}\n",
      "\n",
      "Starting Trial 54\n",
      "Hyperparameters: {'input_chunk_length': 31, 'output_chunk_length': 5, 'dropout': 0.20222994547914144, 'batch_size': 208, 'lr': 0.0033575176736145183, 'weight_decay': 8.038454359749279e-05, 'num_filters': 47, 'kernel_size': 3, 'num_layers': 3, 'dilation_base': 4, 'weight_norm': True, 'loss_fn': 'smoothl1', 'optimizer': 'AdamW'}\n",
      "\n",
      "Training the model...\n",
      "Train set: 6647 samples\n",
      "Validation set: 1662 samples\n"
     ]
    },
    {
     "name": "stderr",
     "output_type": "stream",
     "text": [
      "[I 2025-05-25 22:41:48,893] Trial 54 pruned. Trial was pruned at epoch 0.\n",
      "Specified future encoders in `add_encoders` at model creation but model does not accept future covariates. future encoders will be ignored.\n",
      "GPU available: True (cuda), used: True\n",
      "TPU available: False, using: 0 TPU cores\n",
      "HPU available: False, using: 0 HPUs\n",
      "LOCAL_RANK: 0 - CUDA_VISIBLE_DEVICES: [0]\n"
     ]
    },
    {
     "name": "stdout",
     "output_type": "stream",
     "text": [
      "Current value: 0.036639208080425055, Current params: {'input_chunk_length': 31, 'output_chunk_length': 5, 'dropout': 0.20222994547914144, 'batch_size': 208, 'lr': 0.0033575176736145183, 'weight_decay': 8.038454359749279e-05, 'num_filters': 47, 'kernel_size': 3, 'num_layers': 3, 'dilation_base': 4, 'weight_norm': True, 'loss_fn': 'smoothl1', 'optimizer': 'AdamW'}\n",
      "Best value: 0.10575886306292326, Best params: {'input_chunk_length': 30, 'output_chunk_length': 3, 'dropout': 0.3423373154331457, 'batch_size': 65, 'lr': 0.002676818996162833, 'weight_decay': 0.0004319696940792624, 'num_filters': 9, 'kernel_size': 5, 'num_layers': 2, 'dilation_base': 3, 'weight_norm': True, 'loss_fn': 'smoothl1', 'optimizer': 'AdamW'}\n",
      "\n",
      "Starting Trial 55\n",
      "Hyperparameters: {'input_chunk_length': 28, 'output_chunk_length': 3, 'dropout': 0.1618112938617528, 'batch_size': 175, 'lr': 0.00040686184261380496, 'weight_decay': 3.920730535390149e-05, 'num_filters': 76, 'kernel_size': 2, 'num_layers': 2, 'dilation_base': 4, 'weight_norm': True, 'loss_fn': 'smoothl1', 'optimizer': 'AdamW'}\n",
      "\n",
      "Training the model...\n",
      "Train set: 6647 samples\n",
      "Validation set: 1662 samples\n"
     ]
    },
    {
     "name": "stderr",
     "output_type": "stream",
     "text": [
      "[I 2025-05-25 22:41:54,326] Trial 55 pruned. Trial was pruned at epoch 0.\n",
      "Specified future encoders in `add_encoders` at model creation but model does not accept future covariates. future encoders will be ignored.\n",
      "GPU available: True (cuda), used: True\n",
      "TPU available: False, using: 0 TPU cores\n",
      "HPU available: False, using: 0 HPUs\n",
      "LOCAL_RANK: 0 - CUDA_VISIBLE_DEVICES: [0]\n"
     ]
    },
    {
     "name": "stdout",
     "output_type": "stream",
     "text": [
      "Current value: 0.04515348071857688, Current params: {'input_chunk_length': 28, 'output_chunk_length': 3, 'dropout': 0.1618112938617528, 'batch_size': 175, 'lr': 0.00040686184261380496, 'weight_decay': 3.920730535390149e-05, 'num_filters': 76, 'kernel_size': 2, 'num_layers': 2, 'dilation_base': 4, 'weight_norm': True, 'loss_fn': 'smoothl1', 'optimizer': 'AdamW'}\n",
      "Best value: 0.10575886306292326, Best params: {'input_chunk_length': 30, 'output_chunk_length': 3, 'dropout': 0.3423373154331457, 'batch_size': 65, 'lr': 0.002676818996162833, 'weight_decay': 0.0004319696940792624, 'num_filters': 9, 'kernel_size': 5, 'num_layers': 2, 'dilation_base': 3, 'weight_norm': True, 'loss_fn': 'smoothl1', 'optimizer': 'AdamW'}\n",
      "\n",
      "Starting Trial 56\n",
      "Hyperparameters: {'input_chunk_length': 40, 'output_chunk_length': 1, 'dropout': 0.387028789352895, 'batch_size': 143, 'lr': 0.0012060858433318646, 'weight_decay': 0.006713781812962125, 'num_filters': 36, 'kernel_size': 3, 'num_layers': 3, 'dilation_base': 1, 'weight_norm': True, 'loss_fn': 'smoothl1', 'optimizer': 'AdamW'}\n",
      "\n",
      "Training the model...\n",
      "Train set: 6647 samples\n",
      "Validation set: 1662 samples\n"
     ]
    },
    {
     "name": "stderr",
     "output_type": "stream",
     "text": [
      "[I 2025-05-25 22:41:57,189] Trial 56 pruned. Trial was pruned at epoch 0.\n",
      "Specified future encoders in `add_encoders` at model creation but model does not accept future covariates. future encoders will be ignored.\n",
      "GPU available: True (cuda), used: True\n",
      "TPU available: False, using: 0 TPU cores\n",
      "HPU available: False, using: 0 HPUs\n",
      "LOCAL_RANK: 0 - CUDA_VISIBLE_DEVICES: [0]\n"
     ]
    },
    {
     "name": "stdout",
     "output_type": "stream",
     "text": [
      "Current value: 0.03532878136730364, Current params: {'input_chunk_length': 40, 'output_chunk_length': 1, 'dropout': 0.387028789352895, 'batch_size': 143, 'lr': 0.0012060858433318646, 'weight_decay': 0.006713781812962125, 'num_filters': 36, 'kernel_size': 3, 'num_layers': 3, 'dilation_base': 1, 'weight_norm': True, 'loss_fn': 'smoothl1', 'optimizer': 'AdamW'}\n",
      "Best value: 0.10575886306292326, Best params: {'input_chunk_length': 30, 'output_chunk_length': 3, 'dropout': 0.3423373154331457, 'batch_size': 65, 'lr': 0.002676818996162833, 'weight_decay': 0.0004319696940792624, 'num_filters': 9, 'kernel_size': 5, 'num_layers': 2, 'dilation_base': 3, 'weight_norm': True, 'loss_fn': 'smoothl1', 'optimizer': 'AdamW'}\n",
      "\n",
      "Starting Trial 57\n",
      "Hyperparameters: {'input_chunk_length': 26, 'output_chunk_length': 2, 'dropout': 0.1315220744993032, 'batch_size': 191, 'lr': 0.0006845891705063054, 'weight_decay': 0.0013140230269948674, 'num_filters': 23, 'kernel_size': 2, 'num_layers': 2, 'dilation_base': 4, 'weight_norm': True, 'loss_fn': 'mae', 'optimizer': 'AdamW'}\n",
      "\n",
      "Training the model...\n",
      "Train set: 6647 samples\n",
      "Validation set: 1662 samples\n"
     ]
    },
    {
     "name": "stderr",
     "output_type": "stream",
     "text": [
      "[I 2025-05-25 22:42:00,605] Trial 57 pruned. Trial was pruned at epoch 0.\n",
      "Specified future encoders in `add_encoders` at model creation but model does not accept future covariates. future encoders will be ignored.\n",
      "GPU available: True (cuda), used: True\n",
      "TPU available: False, using: 0 TPU cores\n",
      "HPU available: False, using: 0 HPUs\n",
      "LOCAL_RANK: 0 - CUDA_VISIBLE_DEVICES: [0]\n"
     ]
    },
    {
     "name": "stdout",
     "output_type": "stream",
     "text": [
      "Current value: 0.2826319214108255, Current params: {'input_chunk_length': 26, 'output_chunk_length': 2, 'dropout': 0.1315220744993032, 'batch_size': 191, 'lr': 0.0006845891705063054, 'weight_decay': 0.0013140230269948674, 'num_filters': 23, 'kernel_size': 2, 'num_layers': 2, 'dilation_base': 4, 'weight_norm': True, 'loss_fn': 'mae', 'optimizer': 'AdamW'}\n",
      "Best value: 0.10575886306292326, Best params: {'input_chunk_length': 30, 'output_chunk_length': 3, 'dropout': 0.3423373154331457, 'batch_size': 65, 'lr': 0.002676818996162833, 'weight_decay': 0.0004319696940792624, 'num_filters': 9, 'kernel_size': 5, 'num_layers': 2, 'dilation_base': 3, 'weight_norm': True, 'loss_fn': 'smoothl1', 'optimizer': 'AdamW'}\n",
      "\n",
      "Starting Trial 58\n",
      "Hyperparameters: {'input_chunk_length': 32, 'output_chunk_length': 8, 'dropout': 0.3265519611305834, 'batch_size': 226, 'lr': 0.0023050417397277667, 'weight_decay': 0.004080859882762058, 'num_filters': 14, 'kernel_size': 4, 'num_layers': 3, 'dilation_base': 4, 'weight_norm': True, 'loss_fn': 'smoothl1', 'optimizer': 'AdamW'}\n",
      "\n",
      "Training the model...\n",
      "Train set: 6647 samples\n",
      "Validation set: 1662 samples\n"
     ]
    },
    {
     "name": "stderr",
     "output_type": "stream",
     "text": [
      "[I 2025-05-25 22:42:05,229] Trial 58 pruned. Trial was pruned at epoch 0.\n"
     ]
    },
    {
     "name": "stdout",
     "output_type": "stream",
     "text": [
      "Current value: 0.04869547675235879, Current params: {'input_chunk_length': 32, 'output_chunk_length': 8, 'dropout': 0.3265519611305834, 'batch_size': 226, 'lr': 0.0023050417397277667, 'weight_decay': 0.004080859882762058, 'num_filters': 14, 'kernel_size': 4, 'num_layers': 3, 'dilation_base': 4, 'weight_norm': True, 'loss_fn': 'smoothl1', 'optimizer': 'AdamW'}\n",
      "Best value: 0.10575886306292326, Best params: {'input_chunk_length': 30, 'output_chunk_length': 3, 'dropout': 0.3423373154331457, 'batch_size': 65, 'lr': 0.002676818996162833, 'weight_decay': 0.0004319696940792624, 'num_filters': 9, 'kernel_size': 5, 'num_layers': 2, 'dilation_base': 3, 'weight_norm': True, 'loss_fn': 'smoothl1', 'optimizer': 'AdamW'}\n",
      "\n",
      "Starting Trial 59\n",
      "Hyperparameters: {'input_chunk_length': 29, 'output_chunk_length': 5, 'dropout': 0.4269690337144948, 'batch_size': 166, 'lr': 0.0015942855426928915, 'weight_decay': 0.0002720139813704352, 'num_filters': 17, 'kernel_size': 3, 'num_layers': 3, 'dilation_base': 4, 'weight_norm': True, 'loss_fn': 'mse', 'optimizer': 'AdamW'}\n",
      "\n",
      "Training the model...\n",
      "Train set: 6647 samples\n",
      "Validation set: 1662 samples\n"
     ]
    },
    {
     "name": "stderr",
     "output_type": "stream",
     "text": [
      "Specified future encoders in `add_encoders` at model creation but model does not accept future covariates. future encoders will be ignored.\n",
      "GPU available: True (cuda), used: True\n",
      "TPU available: False, using: 0 TPU cores\n",
      "HPU available: False, using: 0 HPUs\n",
      "LOCAL_RANK: 0 - CUDA_VISIBLE_DEVICES: [0]\n",
      "[I 2025-05-25 22:43:05,278] Trial 59 pruned. Trial was pruned at epoch 0.\n",
      "Specified future encoders in `add_encoders` at model creation but model does not accept future covariates. future encoders will be ignored.\n",
      "GPU available: True (cuda), used: True\n",
      "TPU available: False, using: 0 TPU cores\n",
      "HPU available: False, using: 0 HPUs\n",
      "LOCAL_RANK: 0 - CUDA_VISIBLE_DEVICES: [0]\n"
     ]
    },
    {
     "name": "stdout",
     "output_type": "stream",
     "text": [
      "Current value: 0.09875985681292, Current params: {'input_chunk_length': 29, 'output_chunk_length': 5, 'dropout': 0.4269690337144948, 'batch_size': 166, 'lr': 0.0015942855426928915, 'weight_decay': 0.0002720139813704352, 'num_filters': 17, 'kernel_size': 3, 'num_layers': 3, 'dilation_base': 4, 'weight_norm': True, 'loss_fn': 'mse', 'optimizer': 'AdamW'}\n",
      "Best value: 0.10575886306292326, Best params: {'input_chunk_length': 30, 'output_chunk_length': 3, 'dropout': 0.3423373154331457, 'batch_size': 65, 'lr': 0.002676818996162833, 'weight_decay': 0.0004319696940792624, 'num_filters': 9, 'kernel_size': 5, 'num_layers': 2, 'dilation_base': 3, 'weight_norm': True, 'loss_fn': 'smoothl1', 'optimizer': 'AdamW'}\n",
      "\n",
      "Starting Trial 60\n",
      "Hyperparameters: {'input_chunk_length': 25, 'output_chunk_length': 2, 'dropout': 0.2277707125390699, 'batch_size': 208, 'lr': 1.4430634148509944e-05, 'weight_decay': 0.0022036409803394197, 'num_filters': 67, 'kernel_size': 4, 'num_layers': 1, 'dilation_base': 4, 'weight_norm': True, 'loss_fn': 'smoothl1', 'optimizer': 'RMSprop'}\n",
      "\n",
      "Training the model...\n",
      "Train set: 6647 samples\n",
      "Validation set: 1662 samples\n"
     ]
    },
    {
     "name": "stderr",
     "output_type": "stream",
     "text": [
      "[I 2025-05-25 22:43:07,021] Trial 60 pruned. Trial was pruned at epoch 0.\n",
      "Specified future encoders in `add_encoders` at model creation but model does not accept future covariates. future encoders will be ignored.\n",
      "GPU available: True (cuda), used: True\n",
      "TPU available: False, using: 0 TPU cores\n",
      "HPU available: False, using: 0 HPUs\n",
      "LOCAL_RANK: 0 - CUDA_VISIBLE_DEVICES: [0]\n"
     ]
    },
    {
     "name": "stdout",
     "output_type": "stream",
     "text": [
      "Current value: 0.23143746523508785, Current params: {'input_chunk_length': 25, 'output_chunk_length': 2, 'dropout': 0.2277707125390699, 'batch_size': 208, 'lr': 1.4430634148509944e-05, 'weight_decay': 0.0022036409803394197, 'num_filters': 67, 'kernel_size': 4, 'num_layers': 1, 'dilation_base': 4, 'weight_norm': True, 'loss_fn': 'smoothl1', 'optimizer': 'RMSprop'}\n",
      "Best value: 0.10575886306292326, Best params: {'input_chunk_length': 30, 'output_chunk_length': 3, 'dropout': 0.3423373154331457, 'batch_size': 65, 'lr': 0.002676818996162833, 'weight_decay': 0.0004319696940792624, 'num_filters': 9, 'kernel_size': 5, 'num_layers': 2, 'dilation_base': 3, 'weight_norm': True, 'loss_fn': 'smoothl1', 'optimizer': 'AdamW'}\n",
      "\n",
      "Starting Trial 61\n",
      "Hyperparameters: {'input_chunk_length': 24, 'output_chunk_length': 3, 'dropout': 0.14450284773167452, 'batch_size': 180, 'lr': 0.002738154020651138, 'weight_decay': 0.009610898575192737, 'num_filters': 88, 'kernel_size': 2, 'num_layers': 3, 'dilation_base': 4, 'weight_norm': True, 'loss_fn': 'smoothl1', 'optimizer': 'AdamW'}\n",
      "\n",
      "Training the model...\n",
      "Train set: 6647 samples\n",
      "Validation set: 1662 samples\n"
     ]
    },
    {
     "name": "stderr",
     "output_type": "stream",
     "text": [
      "Metric val_loss improved. New best score: 0.025\n",
      "Metric val_loss improved by 0.004 >= min_delta = 0.0005. New best score: 0.021\n",
      "Metric val_loss improved by 0.001 >= min_delta = 0.0005. New best score: 0.020\n",
      "Metric val_loss improved by 0.001 >= min_delta = 0.0005. New best score: 0.019\n",
      "Metric val_loss improved by 0.001 >= min_delta = 0.0005. New best score: 0.019\n",
      "Monitored metric val_loss did not improve in the last 15 records. Best score: 0.019. Signaling Trainer to stop.\n",
      "GPU available: True (cuda), used: True\n",
      "TPU available: False, using: 0 TPU cores\n",
      "HPU available: False, using: 0 HPUs\n",
      "LOCAL_RANK: 0 - CUDA_VISIBLE_DEVICES: [0]\n"
     ]
    },
    {
     "name": "stdout",
     "output_type": "stream",
     "text": [
      "Model loaded from checkpoint for trial 61\n"
     ]
    },
    {
     "name": "stderr",
     "output_type": "stream",
     "text": [
      "/home/eduardo/Documentos/Water-Cycle-Neural-Network/venv/lib/python3.12/site-packages/pytorch_lightning/trainer/connectors/data_connector.py:425: The 'predict_dataloader' does not have many workers which may be a bottleneck. Consider increasing the value of the `num_workers` argument` to `num_workers=11` in the `DataLoader` to improve performance.\n",
      "[I 2025-05-25 22:48:18,949] Trial 61 finished with value: 0.12455623825549711 and parameters: {'input_chunk_length': 24, 'output_chunk_length': 3, 'dropout': 0.14450284773167452, 'batch_size': 180, 'lr': 0.002738154020651138, 'weight_decay': 0.009610898575192737, 'num_filters': 88, 'kernel_size': 2, 'num_layers': 3, 'dilation_base': 4, 'weight_norm': True, 'loss_fn': 'smoothl1', 'optimizer': 'AdamW'}. Best is trial 20 with value: 0.10575886306292326.\n",
      "Specified future encoders in `add_encoders` at model creation but model does not accept future covariates. future encoders will be ignored.\n"
     ]
    },
    {
     "name": "stdout",
     "output_type": "stream",
     "text": [
      "Starting time series verification for consistency...\n",
      "\n",
      "Performance metrics:\n",
      "                                     MSE        RMSE         MAE          R2  \\\n",
      "Temperature                     5.865831    2.421948    1.934117    0.807667   \n",
      "Precipitation_accumulated    2498.982961   49.989829   45.765159 -723.802919   \n",
      "Humidity                       57.728900    7.597954    5.827533    0.606119   \n",
      "Wind_Speed_kmh                  1.035440    1.017566    0.810800    0.233335   \n",
      "Soil_Moisture              107110.920512  327.278048  285.355149   -0.853384   \n",
      "Soil_Temperature                2.993924    1.730296    1.460896    0.814716   \n",
      "Wind_Dir_Sin                    0.623680    0.789734    0.643005   -0.134072   \n",
      "Wind_Dir_Cos                    0.370919    0.609031    0.512450   -0.008826   \n",
      "\n",
      "                                SMAPE  \n",
      "Temperature                 32.457837  \n",
      "Precipitation_accumulated   10.458320  \n",
      "Humidity                     7.013600  \n",
      "Wind_Speed_kmh              69.054778  \n",
      "Soil_Moisture                3.386893  \n",
      "Soil_Temperature            28.817210  \n",
      "Wind_Dir_Sin               121.813705  \n",
      "Wind_Dir_Cos               127.011331  \n",
      "The MAE for this fold was 0.12455623825549711\n",
      "Results of trial 61 saved in optuna_iteration_metrics/trial_61.json\n",
      "Current value: 0.12455623825549711, Current params: {'input_chunk_length': 24, 'output_chunk_length': 3, 'dropout': 0.14450284773167452, 'batch_size': 180, 'lr': 0.002738154020651138, 'weight_decay': 0.009610898575192737, 'num_filters': 88, 'kernel_size': 2, 'num_layers': 3, 'dilation_base': 4, 'weight_norm': True, 'loss_fn': 'smoothl1', 'optimizer': 'AdamW'}\n",
      "Best value: 0.10575886306292326, Best params: {'input_chunk_length': 30, 'output_chunk_length': 3, 'dropout': 0.3423373154331457, 'batch_size': 65, 'lr': 0.002676818996162833, 'weight_decay': 0.0004319696940792624, 'num_filters': 9, 'kernel_size': 5, 'num_layers': 2, 'dilation_base': 3, 'weight_norm': True, 'loss_fn': 'smoothl1', 'optimizer': 'AdamW'}\n",
      "\n",
      "Starting Trial 62\n",
      "Hyperparameters: {'input_chunk_length': 28, 'output_chunk_length': 4, 'dropout': 0.19709091582073882, 'batch_size': 183, 'lr': 0.003513158891748793, 'weight_decay': 0.008147184003842569, 'num_filters': 78, 'kernel_size': 2, 'num_layers': 3, 'dilation_base': 4, 'weight_norm': True, 'loss_fn': 'smoothl1', 'optimizer': 'AdamW'}\n",
      "\n",
      "Training the model...\n",
      "Train set: 6647 samples\n",
      "Validation set: 1662 samples\n"
     ]
    },
    {
     "name": "stderr",
     "output_type": "stream",
     "text": [
      "GPU available: True (cuda), used: True\n",
      "TPU available: False, using: 0 TPU cores\n",
      "HPU available: False, using: 0 HPUs\n",
      "LOCAL_RANK: 0 - CUDA_VISIBLE_DEVICES: [0]\n",
      "Metric val_loss improved. New best score: 0.025\n",
      "Metric val_loss improved by 0.005 >= min_delta = 0.0005. New best score: 0.020\n",
      "Metric val_loss improved by 0.001 >= min_delta = 0.0005. New best score: 0.019\n",
      "Metric val_loss improved by 0.001 >= min_delta = 0.0005. New best score: 0.018\n",
      "Monitored metric val_loss did not improve in the last 15 records. Best score: 0.018. Signaling Trainer to stop.\n",
      "GPU available: True (cuda), used: True\n",
      "TPU available: False, using: 0 TPU cores\n",
      "HPU available: False, using: 0 HPUs\n",
      "LOCAL_RANK: 0 - CUDA_VISIBLE_DEVICES: [0]\n"
     ]
    },
    {
     "name": "stdout",
     "output_type": "stream",
     "text": [
      "Model loaded from checkpoint for trial 62\n"
     ]
    },
    {
     "name": "stderr",
     "output_type": "stream",
     "text": [
      "/home/eduardo/Documentos/Water-Cycle-Neural-Network/venv/lib/python3.12/site-packages/pytorch_lightning/trainer/connectors/data_connector.py:425: The 'predict_dataloader' does not have many workers which may be a bottleneck. Consider increasing the value of the `num_workers` argument` to `num_workers=11` in the `DataLoader` to improve performance.\n",
      "[I 2025-05-25 22:58:42,742] Trial 62 finished with value: 0.12061824352712533 and parameters: {'input_chunk_length': 28, 'output_chunk_length': 4, 'dropout': 0.19709091582073882, 'batch_size': 183, 'lr': 0.003513158891748793, 'weight_decay': 0.008147184003842569, 'num_filters': 78, 'kernel_size': 2, 'num_layers': 3, 'dilation_base': 4, 'weight_norm': True, 'loss_fn': 'smoothl1', 'optimizer': 'AdamW'}. Best is trial 20 with value: 0.10575886306292326.\n",
      "Specified future encoders in `add_encoders` at model creation but model does not accept future covariates. future encoders will be ignored.\n",
      "GPU available: True (cuda), used: True\n",
      "TPU available: False, using: 0 TPU cores\n",
      "HPU available: False, using: 0 HPUs\n",
      "LOCAL_RANK: 0 - CUDA_VISIBLE_DEVICES: [0]\n"
     ]
    },
    {
     "name": "stdout",
     "output_type": "stream",
     "text": [
      "Starting time series verification for consistency...\n",
      "\n",
      "Performance metrics:\n",
      "                                    MSE        RMSE         MAE          R2  \\\n",
      "Temperature                    5.593925    2.365148    1.864219    0.816324   \n",
      "Precipitation_accumulated    810.563165   28.470391   25.456477 -235.905612   \n",
      "Humidity                      58.061186    7.619789    6.243326    0.603705   \n",
      "Wind_Speed_kmh                 1.144201    1.069673    0.795511    0.151640   \n",
      "Soil_Moisture              41491.401204  203.694382  163.631651    0.269348   \n",
      "Soil_Temperature               8.462380    2.909017    2.496187    0.474343   \n",
      "Wind_Dir_Sin                   0.624636    0.790339    0.679555   -0.134352   \n",
      "Wind_Dir_Cos                   0.369864    0.608165    0.511069   -0.009396   \n",
      "\n",
      "                                SMAPE  \n",
      "Temperature                 30.926829  \n",
      "Precipitation_accumulated    5.668357  \n",
      "Humidity                     7.342318  \n",
      "Wind_Speed_kmh              72.588623  \n",
      "Soil_Moisture                1.927416  \n",
      "Soil_Temperature            49.175274  \n",
      "Wind_Dir_Sin               139.557180  \n",
      "Wind_Dir_Cos               124.436063  \n",
      "The MAE for this fold was 0.12061824352712533\n",
      "Results of trial 62 saved in optuna_iteration_metrics/trial_62.json\n",
      "Current value: 0.12061824352712533, Current params: {'input_chunk_length': 28, 'output_chunk_length': 4, 'dropout': 0.19709091582073882, 'batch_size': 183, 'lr': 0.003513158891748793, 'weight_decay': 0.008147184003842569, 'num_filters': 78, 'kernel_size': 2, 'num_layers': 3, 'dilation_base': 4, 'weight_norm': True, 'loss_fn': 'smoothl1', 'optimizer': 'AdamW'}\n",
      "Best value: 0.10575886306292326, Best params: {'input_chunk_length': 30, 'output_chunk_length': 3, 'dropout': 0.3423373154331457, 'batch_size': 65, 'lr': 0.002676818996162833, 'weight_decay': 0.0004319696940792624, 'num_filters': 9, 'kernel_size': 5, 'num_layers': 2, 'dilation_base': 3, 'weight_norm': True, 'loss_fn': 'smoothl1', 'optimizer': 'AdamW'}\n",
      "\n",
      "Starting Trial 63\n",
      "Hyperparameters: {'input_chunk_length': 30, 'output_chunk_length': 4, 'dropout': 0.20843978158731816, 'batch_size': 165, 'lr': 0.0049266746689799416, 'weight_decay': 0.00014191546904879622, 'num_filters': 99, 'kernel_size': 2, 'num_layers': 3, 'dilation_base': 4, 'weight_norm': True, 'loss_fn': 'smoothl1', 'optimizer': 'AdamW'}\n",
      "\n",
      "Training the model...\n",
      "Train set: 6647 samples\n",
      "Validation set: 1662 samples\n"
     ]
    },
    {
     "name": "stderr",
     "output_type": "stream",
     "text": [
      "Metric val_loss improved. New best score: 0.024\n",
      "Metric val_loss improved by 0.005 >= min_delta = 0.0005. New best score: 0.019\n",
      "Metric val_loss improved by 0.001 >= min_delta = 0.0005. New best score: 0.018\n",
      "Monitored metric val_loss did not improve in the last 15 records. Best score: 0.018. Signaling Trainer to stop.\n",
      "GPU available: True (cuda), used: True\n",
      "TPU available: False, using: 0 TPU cores\n",
      "HPU available: False, using: 0 HPUs\n",
      "LOCAL_RANK: 0 - CUDA_VISIBLE_DEVICES: [0]\n"
     ]
    },
    {
     "name": "stdout",
     "output_type": "stream",
     "text": [
      "Model loaded from checkpoint for trial 63\n"
     ]
    },
    {
     "name": "stderr",
     "output_type": "stream",
     "text": [
      "/home/eduardo/Documentos/Water-Cycle-Neural-Network/venv/lib/python3.12/site-packages/pytorch_lightning/trainer/connectors/data_connector.py:425: The 'predict_dataloader' does not have many workers which may be a bottleneck. Consider increasing the value of the `num_workers` argument` to `num_workers=11` in the `DataLoader` to improve performance.\n",
      "[I 2025-05-25 23:02:52,373] Trial 63 finished with value: 0.12716907883381118 and parameters: {'input_chunk_length': 30, 'output_chunk_length': 4, 'dropout': 0.20843978158731816, 'batch_size': 165, 'lr': 0.0049266746689799416, 'weight_decay': 0.00014191546904879622, 'num_filters': 99, 'kernel_size': 2, 'num_layers': 3, 'dilation_base': 4, 'weight_norm': True, 'loss_fn': 'smoothl1', 'optimizer': 'AdamW'}. Best is trial 20 with value: 0.10575886306292326.\n",
      "Specified future encoders in `add_encoders` at model creation but model does not accept future covariates. future encoders will be ignored.\n",
      "GPU available: True (cuda), used: True\n",
      "TPU available: False, using: 0 TPU cores\n",
      "HPU available: False, using: 0 HPUs\n",
      "LOCAL_RANK: 0 - CUDA_VISIBLE_DEVICES: [0]\n"
     ]
    },
    {
     "name": "stdout",
     "output_type": "stream",
     "text": [
      "Starting time series verification for consistency...\n",
      "\n",
      "Performance metrics:\n",
      "                                    MSE        RMSE         MAE          R2  \\\n",
      "Temperature                    9.529436    3.086979    2.419062    0.687461   \n",
      "Precipitation_accumulated   2290.569934   47.859899   44.193395 -670.542035   \n",
      "Humidity                      61.835158    7.863533    6.442924    0.578192   \n",
      "Wind_Speed_kmh                 1.097699    1.047711    0.788822    0.184910   \n",
      "Soil_Moisture              72191.177550  268.684159  214.422211   -0.281933   \n",
      "Soil_Temperature               8.589181    2.930730    2.387114    0.466440   \n",
      "Wind_Dir_Sin                   0.558336    0.747219    0.646995   -0.014106   \n",
      "Wind_Dir_Cos                   0.380939    0.617202    0.517062   -0.039088   \n",
      "\n",
      "                                SMAPE  \n",
      "Temperature                 36.416208  \n",
      "Precipitation_accumulated   10.066251  \n",
      "Humidity                     7.653193  \n",
      "Wind_Speed_kmh              72.352851  \n",
      "Soil_Moisture                2.538996  \n",
      "Soil_Temperature            49.778708  \n",
      "Wind_Dir_Sin               133.882158  \n",
      "Wind_Dir_Cos               126.495833  \n",
      "The MAE for this fold was 0.12716907883381118\n",
      "Results of trial 63 saved in optuna_iteration_metrics/trial_63.json\n",
      "Current value: 0.12716907883381118, Current params: {'input_chunk_length': 30, 'output_chunk_length': 4, 'dropout': 0.20843978158731816, 'batch_size': 165, 'lr': 0.0049266746689799416, 'weight_decay': 0.00014191546904879622, 'num_filters': 99, 'kernel_size': 2, 'num_layers': 3, 'dilation_base': 4, 'weight_norm': True, 'loss_fn': 'smoothl1', 'optimizer': 'AdamW'}\n",
      "Best value: 0.10575886306292326, Best params: {'input_chunk_length': 30, 'output_chunk_length': 3, 'dropout': 0.3423373154331457, 'batch_size': 65, 'lr': 0.002676818996162833, 'weight_decay': 0.0004319696940792624, 'num_filters': 9, 'kernel_size': 5, 'num_layers': 2, 'dilation_base': 3, 'weight_norm': True, 'loss_fn': 'smoothl1', 'optimizer': 'AdamW'}\n",
      "\n",
      "Starting Trial 64\n",
      "Hyperparameters: {'input_chunk_length': 28, 'output_chunk_length': 6, 'dropout': 0.24530590865202953, 'batch_size': 147, 'lr': 0.003923964216605504, 'weight_decay': 0.005774378705644365, 'num_filters': 45, 'kernel_size': 2, 'num_layers': 3, 'dilation_base': 4, 'weight_norm': True, 'loss_fn': 'smoothl1', 'optimizer': 'AdamW'}\n",
      "\n",
      "Training the model...\n",
      "Train set: 6647 samples\n",
      "Validation set: 1662 samples\n"
     ]
    },
    {
     "name": "stderr",
     "output_type": "stream",
     "text": [
      "Metric val_loss improved. New best score: 0.028\n",
      "[I 2025-05-25 23:03:07,813] Trial 64 pruned. Trial was pruned at epoch 1.\n",
      "Specified future encoders in `add_encoders` at model creation but model does not accept future covariates. future encoders will be ignored.\n",
      "GPU available: True (cuda), used: True\n",
      "TPU available: False, using: 0 TPU cores\n",
      "HPU available: False, using: 0 HPUs\n",
      "LOCAL_RANK: 0 - CUDA_VISIBLE_DEVICES: [0]\n"
     ]
    },
    {
     "name": "stdout",
     "output_type": "stream",
     "text": [
      "Current value: 0.023351788120568356, Current params: {'input_chunk_length': 28, 'output_chunk_length': 6, 'dropout': 0.24530590865202953, 'batch_size': 147, 'lr': 0.003923964216605504, 'weight_decay': 0.005774378705644365, 'num_filters': 45, 'kernel_size': 2, 'num_layers': 3, 'dilation_base': 4, 'weight_norm': True, 'loss_fn': 'smoothl1', 'optimizer': 'AdamW'}\n",
      "Best value: 0.10575886306292326, Best params: {'input_chunk_length': 30, 'output_chunk_length': 3, 'dropout': 0.3423373154331457, 'batch_size': 65, 'lr': 0.002676818996162833, 'weight_decay': 0.0004319696940792624, 'num_filters': 9, 'kernel_size': 5, 'num_layers': 2, 'dilation_base': 3, 'weight_norm': True, 'loss_fn': 'smoothl1', 'optimizer': 'AdamW'}\n",
      "\n",
      "Starting Trial 65\n",
      "Hyperparameters: {'input_chunk_length': 56, 'output_chunk_length': 4, 'dropout': 0.18686055938135718, 'batch_size': 171, 'lr': 0.0019433700323954102, 'weight_decay': 0.0066973899391573645, 'num_filters': 113, 'kernel_size': 3, 'num_layers': 3, 'dilation_base': 4, 'weight_norm': True, 'loss_fn': 'huber', 'optimizer': 'AdamW'}\n",
      "\n",
      "Training the model...\n",
      "Train set: 6647 samples\n",
      "Validation set: 1662 samples\n"
     ]
    },
    {
     "name": "stderr",
     "output_type": "stream",
     "text": [
      "Metric val_loss improved. New best score: 0.025\n",
      "Metric val_loss improved by 0.003 >= min_delta = 0.0005. New best score: 0.022\n",
      "[I 2025-05-25 23:03:56,349] Trial 65 pruned. Trial was pruned at epoch 2.\n",
      "Specified future encoders in `add_encoders` at model creation but model does not accept future covariates. future encoders will be ignored.\n",
      "GPU available: True (cuda), used: True\n",
      "TPU available: False, using: 0 TPU cores\n",
      "HPU available: False, using: 0 HPUs\n",
      "LOCAL_RANK: 0 - CUDA_VISIBLE_DEVICES: [0]\n"
     ]
    },
    {
     "name": "stdout",
     "output_type": "stream",
     "text": [
      "Current value: 0.021486794478146925, Current params: {'input_chunk_length': 56, 'output_chunk_length': 4, 'dropout': 0.18686055938135718, 'batch_size': 171, 'lr': 0.0019433700323954102, 'weight_decay': 0.0066973899391573645, 'num_filters': 113, 'kernel_size': 3, 'num_layers': 3, 'dilation_base': 4, 'weight_norm': True, 'loss_fn': 'huber', 'optimizer': 'AdamW'}\n",
      "Best value: 0.10575886306292326, Best params: {'input_chunk_length': 30, 'output_chunk_length': 3, 'dropout': 0.3423373154331457, 'batch_size': 65, 'lr': 0.002676818996162833, 'weight_decay': 0.0004319696940792624, 'num_filters': 9, 'kernel_size': 5, 'num_layers': 2, 'dilation_base': 3, 'weight_norm': True, 'loss_fn': 'smoothl1', 'optimizer': 'AdamW'}\n",
      "\n",
      "Starting Trial 66\n",
      "Hyperparameters: {'input_chunk_length': 26, 'output_chunk_length': 5, 'dropout': 0.2717618939212417, 'batch_size': 155, 'lr': 0.0010214971306363862, 'weight_decay': 0.00396986905013247, 'num_filters': 39, 'kernel_size': 2, 'num_layers': 2, 'dilation_base': 4, 'weight_norm': True, 'loss_fn': 'smoothl1', 'optimizer': 'Adam'}\n",
      "\n",
      "Training the model...\n",
      "Train set: 6647 samples\n",
      "Validation set: 1662 samples\n"
     ]
    },
    {
     "name": "stderr",
     "output_type": "stream",
     "text": [
      "[I 2025-05-25 23:04:00,318] Trial 66 pruned. Trial was pruned at epoch 0.\n",
      "Specified future encoders in `add_encoders` at model creation but model does not accept future covariates. future encoders will be ignored.\n",
      "GPU available: True (cuda), used: True\n",
      "TPU available: False, using: 0 TPU cores\n",
      "HPU available: False, using: 0 HPUs\n",
      "LOCAL_RANK: 0 - CUDA_VISIBLE_DEVICES: [0]\n"
     ]
    },
    {
     "name": "stdout",
     "output_type": "stream",
     "text": [
      "Current value: 0.043520450314032025, Current params: {'input_chunk_length': 26, 'output_chunk_length': 5, 'dropout': 0.2717618939212417, 'batch_size': 155, 'lr': 0.0010214971306363862, 'weight_decay': 0.00396986905013247, 'num_filters': 39, 'kernel_size': 2, 'num_layers': 2, 'dilation_base': 4, 'weight_norm': True, 'loss_fn': 'smoothl1', 'optimizer': 'Adam'}\n",
      "Best value: 0.10575886306292326, Best params: {'input_chunk_length': 30, 'output_chunk_length': 3, 'dropout': 0.3423373154331457, 'batch_size': 65, 'lr': 0.002676818996162833, 'weight_decay': 0.0004319696940792624, 'num_filters': 9, 'kernel_size': 5, 'num_layers': 2, 'dilation_base': 3, 'weight_norm': True, 'loss_fn': 'smoothl1', 'optimizer': 'AdamW'}\n",
      "\n",
      "Starting Trial 67\n",
      "Hyperparameters: {'input_chunk_length': 33, 'output_chunk_length': 8, 'dropout': 0.2197221710252956, 'batch_size': 199, 'lr': 0.0031617584841155673, 'weight_decay': 8.196713576338271e-05, 'num_filters': 20, 'kernel_size': 5, 'num_layers': 3, 'dilation_base': 4, 'weight_norm': False, 'loss_fn': 'smoothl1', 'optimizer': 'AdamW'}\n",
      "\n",
      "Training the model...\n",
      "Train set: 6647 samples\n",
      "Validation set: 1662 samples\n"
     ]
    },
    {
     "name": "stderr",
     "output_type": "stream",
     "text": [
      "[I 2025-05-25 23:04:05,893] Trial 67 pruned. Trial was pruned at epoch 0.\n"
     ]
    },
    {
     "name": "stdout",
     "output_type": "stream",
     "text": [
      "Current value: 0.03247784096113133, Current params: {'input_chunk_length': 33, 'output_chunk_length': 8, 'dropout': 0.2197221710252956, 'batch_size': 199, 'lr': 0.0031617584841155673, 'weight_decay': 8.196713576338271e-05, 'num_filters': 20, 'kernel_size': 5, 'num_layers': 3, 'dilation_base': 4, 'weight_norm': False, 'loss_fn': 'smoothl1', 'optimizer': 'AdamW'}\n",
      "Best value: 0.10575886306292326, Best params: {'input_chunk_length': 30, 'output_chunk_length': 3, 'dropout': 0.3423373154331457, 'batch_size': 65, 'lr': 0.002676818996162833, 'weight_decay': 0.0004319696940792624, 'num_filters': 9, 'kernel_size': 5, 'num_layers': 2, 'dilation_base': 3, 'weight_norm': True, 'loss_fn': 'smoothl1', 'optimizer': 'AdamW'}\n",
      "\n",
      "Starting Trial 68\n",
      "Hyperparameters: {'input_chunk_length': 28, 'output_chunk_length': 2, 'dropout': 0.16041227939218825, 'batch_size': 242, 'lr': 0.0018670316320469585, 'weight_decay': 0.0006627523269352561, 'num_filters': 8, 'kernel_size': 4, 'num_layers': 2, 'dilation_base': 3, 'weight_norm': True, 'loss_fn': 'smoothl1', 'optimizer': 'AdamW'}\n",
      "\n",
      "Training the model...\n",
      "Train set: 6647 samples\n",
      "Validation set: 1662 samples\n"
     ]
    },
    {
     "name": "stderr",
     "output_type": "stream",
     "text": [
      "Specified future encoders in `add_encoders` at model creation but model does not accept future covariates. future encoders will be ignored.\n",
      "GPU available: True (cuda), used: True\n",
      "TPU available: False, using: 0 TPU cores\n",
      "HPU available: False, using: 0 HPUs\n",
      "LOCAL_RANK: 0 - CUDA_VISIBLE_DEVICES: [0]\n",
      "[I 2025-05-25 23:05:03,629] Trial 68 pruned. Trial was pruned at epoch 0.\n",
      "Specified future encoders in `add_encoders` at model creation but model does not accept future covariates. future encoders will be ignored.\n",
      "GPU available: True (cuda), used: True\n",
      "TPU available: False, using: 0 TPU cores\n",
      "HPU available: False, using: 0 HPUs\n",
      "LOCAL_RANK: 0 - CUDA_VISIBLE_DEVICES: [0]\n"
     ]
    },
    {
     "name": "stdout",
     "output_type": "stream",
     "text": [
      "Current value: 0.10384682986113193, Current params: {'input_chunk_length': 28, 'output_chunk_length': 2, 'dropout': 0.16041227939218825, 'batch_size': 242, 'lr': 0.0018670316320469585, 'weight_decay': 0.0006627523269352561, 'num_filters': 8, 'kernel_size': 4, 'num_layers': 2, 'dilation_base': 3, 'weight_norm': True, 'loss_fn': 'smoothl1', 'optimizer': 'AdamW'}\n",
      "Best value: 0.10575886306292326, Best params: {'input_chunk_length': 30, 'output_chunk_length': 3, 'dropout': 0.3423373154331457, 'batch_size': 65, 'lr': 0.002676818996162833, 'weight_decay': 0.0004319696940792624, 'num_filters': 9, 'kernel_size': 5, 'num_layers': 2, 'dilation_base': 3, 'weight_norm': True, 'loss_fn': 'smoothl1', 'optimizer': 'AdamW'}\n",
      "\n",
      "Starting Trial 69\n",
      "Hyperparameters: {'input_chunk_length': 31, 'output_chunk_length': 7, 'dropout': 0.3609269650655209, 'batch_size': 72, 'lr': 3.783182837015577e-06, 'weight_decay': 0.001755411844376569, 'num_filters': 78, 'kernel_size': 3, 'num_layers': 3, 'dilation_base': 4, 'weight_norm': True, 'loss_fn': 'smoothl1', 'optimizer': 'SGD'}\n",
      "\n",
      "Training the model...\n",
      "Train set: 6647 samples\n",
      "Validation set: 1662 samples\n"
     ]
    },
    {
     "name": "stderr",
     "output_type": "stream",
     "text": [
      "[I 2025-05-25 23:05:15,829] Trial 69 pruned. Trial was pruned at epoch 0.\n",
      "Specified future encoders in `add_encoders` at model creation but model does not accept future covariates. future encoders will be ignored.\n",
      "GPU available: True (cuda), used: True\n",
      "TPU available: False, using: 0 TPU cores\n",
      "HPU available: False, using: 0 HPUs\n",
      "LOCAL_RANK: 0 - CUDA_VISIBLE_DEVICES: [0]\n"
     ]
    },
    {
     "name": "stdout",
     "output_type": "stream",
     "text": [
      "Current value: 0.16871837492736344, Current params: {'input_chunk_length': 31, 'output_chunk_length': 7, 'dropout': 0.3609269650655209, 'batch_size': 72, 'lr': 3.783182837015577e-06, 'weight_decay': 0.001755411844376569, 'num_filters': 78, 'kernel_size': 3, 'num_layers': 3, 'dilation_base': 4, 'weight_norm': True, 'loss_fn': 'smoothl1', 'optimizer': 'SGD'}\n",
      "Best value: 0.10575886306292326, Best params: {'input_chunk_length': 30, 'output_chunk_length': 3, 'dropout': 0.3423373154331457, 'batch_size': 65, 'lr': 0.002676818996162833, 'weight_decay': 0.0004319696940792624, 'num_filters': 9, 'kernel_size': 5, 'num_layers': 2, 'dilation_base': 3, 'weight_norm': True, 'loss_fn': 'smoothl1', 'optimizer': 'AdamW'}\n",
      "\n",
      "Starting Trial 70\n",
      "Hyperparameters: {'input_chunk_length': 45, 'output_chunk_length': 1, 'dropout': 0.4779599901519429, 'batch_size': 186, 'lr': 0.0038811586311470257, 'weight_decay': 0.002886501010553776, 'num_filters': 52, 'kernel_size': 2, 'num_layers': 3, 'dilation_base': 4, 'weight_norm': True, 'loss_fn': 'mse', 'optimizer': 'AdamW'}\n",
      "\n",
      "Training the model...\n",
      "Train set: 6647 samples\n",
      "Validation set: 1662 samples\n"
     ]
    },
    {
     "name": "stderr",
     "output_type": "stream",
     "text": [
      "[I 2025-05-25 23:05:24,717] Trial 70 pruned. Trial was pruned at epoch 0.\n",
      "Specified future encoders in `add_encoders` at model creation but model does not accept future covariates. future encoders will be ignored.\n",
      "GPU available: True (cuda), used: True\n",
      "TPU available: False, using: 0 TPU cores\n",
      "HPU available: False, using: 0 HPUs\n",
      "LOCAL_RANK: 0 - CUDA_VISIBLE_DEVICES: [0]\n"
     ]
    },
    {
     "name": "stdout",
     "output_type": "stream",
     "text": [
      "Current value: 0.06376791470741418, Current params: {'input_chunk_length': 45, 'output_chunk_length': 1, 'dropout': 0.4779599901519429, 'batch_size': 186, 'lr': 0.0038811586311470257, 'weight_decay': 0.002886501010553776, 'num_filters': 52, 'kernel_size': 2, 'num_layers': 3, 'dilation_base': 4, 'weight_norm': True, 'loss_fn': 'mse', 'optimizer': 'AdamW'}\n",
      "Best value: 0.10575886306292326, Best params: {'input_chunk_length': 30, 'output_chunk_length': 3, 'dropout': 0.3423373154331457, 'batch_size': 65, 'lr': 0.002676818996162833, 'weight_decay': 0.0004319696940792624, 'num_filters': 9, 'kernel_size': 5, 'num_layers': 2, 'dilation_base': 3, 'weight_norm': True, 'loss_fn': 'smoothl1', 'optimizer': 'AdamW'}\n",
      "\n",
      "Starting Trial 71\n",
      "Hyperparameters: {'input_chunk_length': 25, 'output_chunk_length': 3, 'dropout': 0.1485773626510228, 'batch_size': 182, 'lr': 0.002707252314299927, 'weight_decay': 0.007975835117371485, 'num_filters': 84, 'kernel_size': 2, 'num_layers': 3, 'dilation_base': 4, 'weight_norm': True, 'loss_fn': 'smoothl1', 'optimizer': 'AdamW'}\n",
      "\n",
      "Training the model...\n",
      "Train set: 6647 samples\n",
      "Validation set: 1662 samples\n"
     ]
    },
    {
     "name": "stderr",
     "output_type": "stream",
     "text": [
      "[I 2025-05-25 23:05:37,261] Trial 71 pruned. Trial was pruned at epoch 0.\n",
      "Specified future encoders in `add_encoders` at model creation but model does not accept future covariates. future encoders will be ignored.\n",
      "GPU available: True (cuda), used: True\n",
      "TPU available: False, using: 0 TPU cores\n",
      "HPU available: False, using: 0 HPUs\n",
      "LOCAL_RANK: 0 - CUDA_VISIBLE_DEVICES: [0]\n"
     ]
    },
    {
     "name": "stdout",
     "output_type": "stream",
     "text": [
      "Current value: 0.028839141297017652, Current params: {'input_chunk_length': 25, 'output_chunk_length': 3, 'dropout': 0.1485773626510228, 'batch_size': 182, 'lr': 0.002707252314299927, 'weight_decay': 0.007975835117371485, 'num_filters': 84, 'kernel_size': 2, 'num_layers': 3, 'dilation_base': 4, 'weight_norm': True, 'loss_fn': 'smoothl1', 'optimizer': 'AdamW'}\n",
      "Best value: 0.10575886306292326, Best params: {'input_chunk_length': 30, 'output_chunk_length': 3, 'dropout': 0.3423373154331457, 'batch_size': 65, 'lr': 0.002676818996162833, 'weight_decay': 0.0004319696940792624, 'num_filters': 9, 'kernel_size': 5, 'num_layers': 2, 'dilation_base': 3, 'weight_norm': True, 'loss_fn': 'smoothl1', 'optimizer': 'AdamW'}\n",
      "\n",
      "Starting Trial 72\n",
      "Hyperparameters: {'input_chunk_length': 27, 'output_chunk_length': 4, 'dropout': 0.17277664542387913, 'batch_size': 192, 'lr': 0.0027595229291720973, 'weight_decay': 0.0046247715901869685, 'num_filters': 95, 'kernel_size': 2, 'num_layers': 3, 'dilation_base': 4, 'weight_norm': True, 'loss_fn': 'smoothl1', 'optimizer': 'AdamW'}\n",
      "\n",
      "Training the model...\n",
      "Train set: 6647 samples\n",
      "Validation set: 1662 samples\n"
     ]
    },
    {
     "name": "stderr",
     "output_type": "stream",
     "text": [
      "Metric val_loss improved. New best score: 0.028\n",
      "[I 2025-05-25 23:06:04,782] Trial 72 pruned. Trial was pruned at epoch 1.\n",
      "Specified future encoders in `add_encoders` at model creation but model does not accept future covariates. future encoders will be ignored.\n",
      "GPU available: True (cuda), used: True\n",
      "TPU available: False, using: 0 TPU cores\n",
      "HPU available: False, using: 0 HPUs\n",
      "LOCAL_RANK: 0 - CUDA_VISIBLE_DEVICES: [0]\n"
     ]
    },
    {
     "name": "stdout",
     "output_type": "stream",
     "text": [
      "Current value: 0.023596299396839743, Current params: {'input_chunk_length': 27, 'output_chunk_length': 4, 'dropout': 0.17277664542387913, 'batch_size': 192, 'lr': 0.0027595229291720973, 'weight_decay': 0.0046247715901869685, 'num_filters': 95, 'kernel_size': 2, 'num_layers': 3, 'dilation_base': 4, 'weight_norm': True, 'loss_fn': 'smoothl1', 'optimizer': 'AdamW'}\n",
      "Best value: 0.10575886306292326, Best params: {'input_chunk_length': 30, 'output_chunk_length': 3, 'dropout': 0.3423373154331457, 'batch_size': 65, 'lr': 0.002676818996162833, 'weight_decay': 0.0004319696940792624, 'num_filters': 9, 'kernel_size': 5, 'num_layers': 2, 'dilation_base': 3, 'weight_norm': True, 'loss_fn': 'smoothl1', 'optimizer': 'AdamW'}\n",
      "\n",
      "Starting Trial 73\n",
      "Hyperparameters: {'input_chunk_length': 24, 'output_chunk_length': 3, 'dropout': 0.19756560814159707, 'batch_size': 203, 'lr': 0.002373599733367877, 'weight_decay': 0.009711154251064264, 'num_filters': 72, 'kernel_size': 2, 'num_layers': 3, 'dilation_base': 4, 'weight_norm': True, 'loss_fn': 'smoothl1', 'optimizer': 'AdamW'}\n",
      "\n",
      "Training the model...\n",
      "Train set: 6647 samples\n",
      "Validation set: 1662 samples\n"
     ]
    },
    {
     "name": "stderr",
     "output_type": "stream",
     "text": [
      "[I 2025-05-25 23:06:16,269] Trial 73 pruned. Trial was pruned at epoch 0.\n",
      "Specified future encoders in `add_encoders` at model creation but model does not accept future covariates. future encoders will be ignored.\n",
      "GPU available: True (cuda), used: True\n",
      "TPU available: False, using: 0 TPU cores\n",
      "HPU available: False, using: 0 HPUs\n",
      "LOCAL_RANK: 0 - CUDA_VISIBLE_DEVICES: [0]\n"
     ]
    },
    {
     "name": "stdout",
     "output_type": "stream",
     "text": [
      "Current value: 0.0323674076385784, Current params: {'input_chunk_length': 24, 'output_chunk_length': 3, 'dropout': 0.19756560814159707, 'batch_size': 203, 'lr': 0.002373599733367877, 'weight_decay': 0.009711154251064264, 'num_filters': 72, 'kernel_size': 2, 'num_layers': 3, 'dilation_base': 4, 'weight_norm': True, 'loss_fn': 'smoothl1', 'optimizer': 'AdamW'}\n",
      "Best value: 0.10575886306292326, Best params: {'input_chunk_length': 30, 'output_chunk_length': 3, 'dropout': 0.3423373154331457, 'batch_size': 65, 'lr': 0.002676818996162833, 'weight_decay': 0.0004319696940792624, 'num_filters': 9, 'kernel_size': 5, 'num_layers': 2, 'dilation_base': 3, 'weight_norm': True, 'loss_fn': 'smoothl1', 'optimizer': 'AdamW'}\n",
      "\n",
      "Starting Trial 74\n",
      "Hyperparameters: {'input_chunk_length': 30, 'output_chunk_length': 5, 'dropout': 0.13868242973132397, 'batch_size': 172, 'lr': 0.0012970352985050392, 'weight_decay': 0.00020661106484643632, 'num_filters': 31, 'kernel_size': 3, 'num_layers': 3, 'dilation_base': 4, 'weight_norm': True, 'loss_fn': 'smoothl1', 'optimizer': 'AdamW'}\n",
      "\n",
      "Training the model...\n",
      "Train set: 6647 samples\n",
      "Validation set: 1662 samples\n"
     ]
    },
    {
     "name": "stderr",
     "output_type": "stream",
     "text": [
      "[I 2025-05-25 23:06:22,981] Trial 74 pruned. Trial was pruned at epoch 0.\n",
      "Specified future encoders in `add_encoders` at model creation but model does not accept future covariates. future encoders will be ignored.\n",
      "GPU available: True (cuda), used: True\n",
      "TPU available: False, using: 0 TPU cores\n",
      "HPU available: False, using: 0 HPUs\n",
      "LOCAL_RANK: 0 - CUDA_VISIBLE_DEVICES: [0]\n"
     ]
    },
    {
     "name": "stdout",
     "output_type": "stream",
     "text": [
      "Current value: 0.04193355702966945, Current params: {'input_chunk_length': 30, 'output_chunk_length': 5, 'dropout': 0.13868242973132397, 'batch_size': 172, 'lr': 0.0012970352985050392, 'weight_decay': 0.00020661106484643632, 'num_filters': 31, 'kernel_size': 3, 'num_layers': 3, 'dilation_base': 4, 'weight_norm': True, 'loss_fn': 'smoothl1', 'optimizer': 'AdamW'}\n",
      "Best value: 0.10575886306292326, Best params: {'input_chunk_length': 30, 'output_chunk_length': 3, 'dropout': 0.3423373154331457, 'batch_size': 65, 'lr': 0.002676818996162833, 'weight_decay': 0.0004319696940792624, 'num_filters': 9, 'kernel_size': 5, 'num_layers': 2, 'dilation_base': 3, 'weight_norm': True, 'loss_fn': 'smoothl1', 'optimizer': 'AdamW'}\n",
      "\n",
      "Starting Trial 75\n",
      "Hyperparameters: {'input_chunk_length': 25, 'output_chunk_length': 3, 'dropout': 0.10738881701379833, 'batch_size': 130, 'lr': 0.003964427188646627, 'weight_decay': 0.007450700582038509, 'num_filters': 58, 'kernel_size': 7, 'num_layers': 3, 'dilation_base': 4, 'weight_norm': True, 'loss_fn': 'smoothl1', 'optimizer': 'AdamW'}\n",
      "\n",
      "Training the model...\n",
      "Train set: 6647 samples\n",
      "Validation set: 1662 samples\n"
     ]
    },
    {
     "name": "stderr",
     "output_type": "stream",
     "text": [
      "Metric val_loss improved. New best score: 0.024\n",
      "Metric val_loss improved by 0.004 >= min_delta = 0.0005. New best score: 0.020\n",
      "Metric val_loss improved by 0.001 >= min_delta = 0.0005. New best score: 0.018\n",
      "Metric val_loss improved by 0.001 >= min_delta = 0.0005. New best score: 0.018\n",
      "Metric val_loss improved by 0.001 >= min_delta = 0.0005. New best score: 0.017\n",
      "Monitored metric val_loss did not improve in the last 15 records. Best score: 0.017. Signaling Trainer to stop.\n",
      "GPU available: True (cuda), used: True\n",
      "TPU available: False, using: 0 TPU cores\n",
      "HPU available: False, using: 0 HPUs\n",
      "LOCAL_RANK: 0 - CUDA_VISIBLE_DEVICES: [0]\n"
     ]
    },
    {
     "name": "stdout",
     "output_type": "stream",
     "text": [
      "Model loaded from checkpoint for trial 75\n"
     ]
    },
    {
     "name": "stderr",
     "output_type": "stream",
     "text": [
      "/home/eduardo/Documentos/Water-Cycle-Neural-Network/venv/lib/python3.12/site-packages/pytorch_lightning/trainer/connectors/data_connector.py:425: The 'predict_dataloader' does not have many workers which may be a bottleneck. Consider increasing the value of the `num_workers` argument` to `num_workers=11` in the `DataLoader` to improve performance.\n",
      "[I 2025-05-25 23:19:15,308] Trial 75 finished with value: 0.10965916271811899 and parameters: {'input_chunk_length': 25, 'output_chunk_length': 3, 'dropout': 0.10738881701379833, 'batch_size': 130, 'lr': 0.003964427188646627, 'weight_decay': 0.007450700582038509, 'num_filters': 58, 'kernel_size': 7, 'num_layers': 3, 'dilation_base': 4, 'weight_norm': True, 'loss_fn': 'smoothl1', 'optimizer': 'AdamW'}. Best is trial 20 with value: 0.10575886306292326.\n",
      "Specified future encoders in `add_encoders` at model creation but model does not accept future covariates. future encoders will be ignored.\n",
      "GPU available: True (cuda), used: True\n",
      "TPU available: False, using: 0 TPU cores\n",
      "HPU available: False, using: 0 HPUs\n",
      "LOCAL_RANK: 0 - CUDA_VISIBLE_DEVICES: [0]\n"
     ]
    },
    {
     "name": "stdout",
     "output_type": "stream",
     "text": [
      "Starting time series verification for consistency...\n",
      "\n",
      "Performance metrics:\n",
      "                                    MSE        RMSE         MAE          R2  \\\n",
      "Temperature                    5.410842    2.326122    1.839431    0.822489   \n",
      "Precipitation_accumulated    421.516917   20.530877   16.871252 -121.442468   \n",
      "Humidity                      42.142879    6.491755    5.170330    0.712441   \n",
      "Wind_Speed_kmh                 0.970453    0.985116    0.752176    0.281888   \n",
      "Soil_Moisture              25640.620132  160.126888  133.182948    0.554866   \n",
      "Soil_Temperature               3.086988    1.756983    1.452571    0.808816   \n",
      "Wind_Dir_Sin                   0.541224    0.735679    0.637525    0.016201   \n",
      "Wind_Dir_Cos                   0.362130    0.601772    0.508700    0.014184   \n",
      "\n",
      "                                SMAPE  \n",
      "Temperature                 31.293582  \n",
      "Precipitation_accumulated    3.724505  \n",
      "Humidity                     6.196762  \n",
      "Wind_Speed_kmh              67.636290  \n",
      "Soil_Moisture                1.562693  \n",
      "Soil_Temperature            27.053213  \n",
      "Wind_Dir_Sin               135.025780  \n",
      "Wind_Dir_Cos               128.114667  \n",
      "The MAE for this fold was 0.10965916271811899\n",
      "Results of trial 75 saved in optuna_iteration_metrics/trial_75.json\n",
      "Current value: 0.10965916271811899, Current params: {'input_chunk_length': 25, 'output_chunk_length': 3, 'dropout': 0.10738881701379833, 'batch_size': 130, 'lr': 0.003964427188646627, 'weight_decay': 0.007450700582038509, 'num_filters': 58, 'kernel_size': 7, 'num_layers': 3, 'dilation_base': 4, 'weight_norm': True, 'loss_fn': 'smoothl1', 'optimizer': 'AdamW'}\n",
      "Best value: 0.10575886306292326, Best params: {'input_chunk_length': 30, 'output_chunk_length': 3, 'dropout': 0.3423373154331457, 'batch_size': 65, 'lr': 0.002676818996162833, 'weight_decay': 0.0004319696940792624, 'num_filters': 9, 'kernel_size': 5, 'num_layers': 2, 'dilation_base': 3, 'weight_norm': True, 'loss_fn': 'smoothl1', 'optimizer': 'AdamW'}\n",
      "\n",
      "Starting Trial 76\n",
      "Hyperparameters: {'input_chunk_length': 35, 'output_chunk_length': 4, 'dropout': 0.11426906973841885, 'batch_size': 125, 'lr': 0.00497440728418216, 'weight_decay': 0.0071388915625266326, 'num_filters': 56, 'kernel_size': 7, 'num_layers': 2, 'dilation_base': 3, 'weight_norm': True, 'loss_fn': 'mae', 'optimizer': 'AdamW'}\n",
      "\n",
      "Training the model...\n",
      "Train set: 6647 samples\n",
      "Validation set: 1662 samples\n"
     ]
    },
    {
     "name": "stderr",
     "output_type": "stream",
     "text": [
      "[I 2025-05-25 23:19:20,765] Trial 76 pruned. Trial was pruned at epoch 0.\n",
      "Specified future encoders in `add_encoders` at model creation but model does not accept future covariates. future encoders will be ignored.\n",
      "GPU available: True (cuda), used: True\n",
      "TPU available: False, using: 0 TPU cores\n",
      "HPU available: False, using: 0 HPUs\n",
      "LOCAL_RANK: 0 - CUDA_VISIBLE_DEVICES: [0]\n"
     ]
    },
    {
     "name": "stdout",
     "output_type": "stream",
     "text": [
      "Current value: 0.16572248605858111, Current params: {'input_chunk_length': 35, 'output_chunk_length': 4, 'dropout': 0.11426906973841885, 'batch_size': 125, 'lr': 0.00497440728418216, 'weight_decay': 0.0071388915625266326, 'num_filters': 56, 'kernel_size': 7, 'num_layers': 2, 'dilation_base': 3, 'weight_norm': True, 'loss_fn': 'mae', 'optimizer': 'AdamW'}\n",
      "Best value: 0.10575886306292326, Best params: {'input_chunk_length': 30, 'output_chunk_length': 3, 'dropout': 0.3423373154331457, 'batch_size': 65, 'lr': 0.002676818996162833, 'weight_decay': 0.0004319696940792624, 'num_filters': 9, 'kernel_size': 5, 'num_layers': 2, 'dilation_base': 3, 'weight_norm': True, 'loss_fn': 'smoothl1', 'optimizer': 'AdamW'}\n",
      "\n",
      "Starting Trial 77\n",
      "Hyperparameters: {'input_chunk_length': 27, 'output_chunk_length': 2, 'dropout': 0.10399032502443752, 'batch_size': 106, 'lr': 0.0037878570948573142, 'weight_decay': 0.0001523403960942134, 'num_filters': 64, 'kernel_size': 7, 'num_layers': 3, 'dilation_base': 4, 'weight_norm': True, 'loss_fn': 'smoothl1', 'optimizer': 'AdamW'}\n",
      "\n",
      "Training the model...\n",
      "Train set: 6647 samples\n",
      "Validation set: 1662 samples\n"
     ]
    },
    {
     "name": "stderr",
     "output_type": "stream",
     "text": [
      "Metric val_loss improved. New best score: 0.020\n",
      "Metric val_loss improved by 0.003 >= min_delta = 0.0005. New best score: 0.017\n",
      "Metric val_loss improved by 0.001 >= min_delta = 0.0005. New best score: 0.016\n",
      "Metric val_loss improved by 0.001 >= min_delta = 0.0005. New best score: 0.016\n",
      "Monitored metric val_loss did not improve in the last 15 records. Best score: 0.016. Signaling Trainer to stop.\n",
      "GPU available: True (cuda), used: True\n",
      "TPU available: False, using: 0 TPU cores\n",
      "HPU available: False, using: 0 HPUs\n",
      "LOCAL_RANK: 0 - CUDA_VISIBLE_DEVICES: [0]\n"
     ]
    },
    {
     "name": "stdout",
     "output_type": "stream",
     "text": [
      "Model loaded from checkpoint for trial 77\n"
     ]
    },
    {
     "name": "stderr",
     "output_type": "stream",
     "text": [
      "/home/eduardo/Documentos/Water-Cycle-Neural-Network/venv/lib/python3.12/site-packages/pytorch_lightning/trainer/connectors/data_connector.py:425: The 'predict_dataloader' does not have many workers which may be a bottleneck. Consider increasing the value of the `num_workers` argument` to `num_workers=11` in the `DataLoader` to improve performance.\n",
      "[I 2025-05-25 23:22:52,259] Trial 77 finished with value: 0.10804793538803402 and parameters: {'input_chunk_length': 27, 'output_chunk_length': 2, 'dropout': 0.10399032502443752, 'batch_size': 106, 'lr': 0.0037878570948573142, 'weight_decay': 0.0001523403960942134, 'num_filters': 64, 'kernel_size': 7, 'num_layers': 3, 'dilation_base': 4, 'weight_norm': True, 'loss_fn': 'smoothl1', 'optimizer': 'AdamW'}. Best is trial 20 with value: 0.10575886306292326.\n",
      "Specified future encoders in `add_encoders` at model creation but model does not accept future covariates. future encoders will be ignored.\n",
      "GPU available: True (cuda), used: True\n",
      "TPU available: False, using: 0 TPU cores\n",
      "HPU available: False, using: 0 HPUs\n",
      "LOCAL_RANK: 0 - CUDA_VISIBLE_DEVICES: [0]\n"
     ]
    },
    {
     "name": "stdout",
     "output_type": "stream",
     "text": [
      "Starting time series verification for consistency...\n",
      "\n",
      "Performance metrics:\n",
      "                                    MSE        RMSE         MAE          R2  \\\n",
      "Temperature                    3.083855    1.756091    1.356657    0.898762   \n",
      "Precipitation_accumulated    910.447813   30.173628   24.583919 -263.871666   \n",
      "Humidity                      28.196554    5.310043    4.239036    0.807589   \n",
      "Wind_Speed_kmh                 0.824787    0.908178    0.680844    0.388936   \n",
      "Soil_Moisture              46666.626714  216.024597  189.195344    0.187155   \n",
      "Soil_Temperature               5.981115    2.445632    2.188346    0.629271   \n",
      "Wind_Dir_Sin                   0.495641    0.704018    0.592868    0.099338   \n",
      "Wind_Dir_Cos                   0.363450    0.602868    0.505844    0.009769   \n",
      "\n",
      "                                SMAPE  \n",
      "Temperature                 24.579364  \n",
      "Precipitation_accumulated    5.499396  \n",
      "Humidity                     5.012119  \n",
      "Wind_Speed_kmh              64.891829  \n",
      "Soil_Moisture                2.225543  \n",
      "Soil_Temperature            50.908818  \n",
      "Wind_Dir_Sin               121.935348  \n",
      "Wind_Dir_Cos               126.885100  \n",
      "The MAE for this fold was 0.10804793538803402\n",
      "Results of trial 77 saved in optuna_iteration_metrics/trial_77.json\n",
      "Current value: 0.10804793538803402, Current params: {'input_chunk_length': 27, 'output_chunk_length': 2, 'dropout': 0.10399032502443752, 'batch_size': 106, 'lr': 0.0037878570948573142, 'weight_decay': 0.0001523403960942134, 'num_filters': 64, 'kernel_size': 7, 'num_layers': 3, 'dilation_base': 4, 'weight_norm': True, 'loss_fn': 'smoothl1', 'optimizer': 'AdamW'}\n",
      "Best value: 0.10575886306292326, Best params: {'input_chunk_length': 30, 'output_chunk_length': 3, 'dropout': 0.3423373154331457, 'batch_size': 65, 'lr': 0.002676818996162833, 'weight_decay': 0.0004319696940792624, 'num_filters': 9, 'kernel_size': 5, 'num_layers': 2, 'dilation_base': 3, 'weight_norm': True, 'loss_fn': 'smoothl1', 'optimizer': 'AdamW'}\n",
      "\n",
      "Starting Trial 78\n",
      "Hyperparameters: {'input_chunk_length': 32, 'output_chunk_length': 1, 'dropout': 0.1020620860198856, 'batch_size': 108, 'lr': 0.0016740860044709715, 'weight_decay': 0.00041488468025883263, 'num_filters': 63, 'kernel_size': 8, 'num_layers': 2, 'dilation_base': 4, 'weight_norm': False, 'loss_fn': 'smoothl1', 'optimizer': 'RMSprop'}\n",
      "\n",
      "Training the model...\n",
      "Train set: 6647 samples\n",
      "Validation set: 1662 samples\n"
     ]
    },
    {
     "name": "stderr",
     "output_type": "stream",
     "text": [
      "[I 2025-05-25 23:22:58,157] Trial 78 pruned. Trial was pruned at epoch 0.\n",
      "Specified future encoders in `add_encoders` at model creation but model does not accept future covariates. future encoders will be ignored.\n",
      "GPU available: True (cuda), used: True\n",
      "TPU available: False, using: 0 TPU cores\n",
      "HPU available: False, using: 0 HPUs\n",
      "LOCAL_RANK: 0 - CUDA_VISIBLE_DEVICES: [0]\n"
     ]
    },
    {
     "name": "stdout",
     "output_type": "stream",
     "text": [
      "Current value: 0.03209178651784987, Current params: {'input_chunk_length': 32, 'output_chunk_length': 1, 'dropout': 0.1020620860198856, 'batch_size': 108, 'lr': 0.0016740860044709715, 'weight_decay': 0.00041488468025883263, 'num_filters': 63, 'kernel_size': 8, 'num_layers': 2, 'dilation_base': 4, 'weight_norm': False, 'loss_fn': 'smoothl1', 'optimizer': 'RMSprop'}\n",
      "Best value: 0.10575886306292326, Best params: {'input_chunk_length': 30, 'output_chunk_length': 3, 'dropout': 0.3423373154331457, 'batch_size': 65, 'lr': 0.002676818996162833, 'weight_decay': 0.0004319696940792624, 'num_filters': 9, 'kernel_size': 5, 'num_layers': 2, 'dilation_base': 3, 'weight_norm': True, 'loss_fn': 'smoothl1', 'optimizer': 'AdamW'}\n",
      "\n",
      "Starting Trial 79\n",
      "Hyperparameters: {'input_chunk_length': 28, 'output_chunk_length': 2, 'dropout': 0.1181841317763441, 'batch_size': 130, 'lr': 0.004000024339946189, 'weight_decay': 0.0002778183894800831, 'num_filters': 27, 'kernel_size': 7, 'num_layers': 3, 'dilation_base': 4, 'weight_norm': True, 'loss_fn': 'smoothl1', 'optimizer': 'AdamW'}\n",
      "\n",
      "Training the model...\n",
      "Train set: 6647 samples\n",
      "Validation set: 1662 samples\n"
     ]
    },
    {
     "name": "stderr",
     "output_type": "stream",
     "text": [
      "[I 2025-05-25 23:23:05,085] Trial 79 pruned. Trial was pruned at epoch 0.\n",
      "Specified future encoders in `add_encoders` at model creation but model does not accept future covariates. future encoders will be ignored.\n",
      "GPU available: True (cuda), used: True\n",
      "TPU available: False, using: 0 TPU cores\n",
      "HPU available: False, using: 0 HPUs\n",
      "LOCAL_RANK: 0 - CUDA_VISIBLE_DEVICES: [0]\n"
     ]
    },
    {
     "name": "stdout",
     "output_type": "stream",
     "text": [
      "Current value: 0.03506571324883279, Current params: {'input_chunk_length': 28, 'output_chunk_length': 2, 'dropout': 0.1181841317763441, 'batch_size': 130, 'lr': 0.004000024339946189, 'weight_decay': 0.0002778183894800831, 'num_filters': 27, 'kernel_size': 7, 'num_layers': 3, 'dilation_base': 4, 'weight_norm': True, 'loss_fn': 'smoothl1', 'optimizer': 'AdamW'}\n",
      "Best value: 0.10575886306292326, Best params: {'input_chunk_length': 30, 'output_chunk_length': 3, 'dropout': 0.3423373154331457, 'batch_size': 65, 'lr': 0.002676818996162833, 'weight_decay': 0.0004319696940792624, 'num_filters': 9, 'kernel_size': 5, 'num_layers': 2, 'dilation_base': 3, 'weight_norm': True, 'loss_fn': 'smoothl1', 'optimizer': 'AdamW'}\n",
      "\n",
      "Starting Trial 80\n",
      "Hyperparameters: {'input_chunk_length': 34, 'output_chunk_length': 6, 'dropout': 0.12758596690411123, 'batch_size': 92, 'lr': 0.0022211495280727825, 'weight_decay': 0.00013665853711189408, 'num_filters': 12, 'kernel_size': 8, 'num_layers': 3, 'dilation_base': 3, 'weight_norm': True, 'loss_fn': 'huber', 'optimizer': 'AdamW'}\n",
      "\n",
      "Training the model...\n",
      "Train set: 6647 samples\n",
      "Validation set: 1662 samples\n"
     ]
    },
    {
     "name": "stderr",
     "output_type": "stream",
     "text": [
      "[I 2025-05-25 23:23:09,717] Trial 80 pruned. Trial was pruned at epoch 0.\n",
      "Specified future encoders in `add_encoders` at model creation but model does not accept future covariates. future encoders will be ignored.\n",
      "GPU available: True (cuda), used: True\n",
      "TPU available: False, using: 0 TPU cores\n",
      "HPU available: False, using: 0 HPUs\n",
      "LOCAL_RANK: 0 - CUDA_VISIBLE_DEVICES: [0]\n"
     ]
    },
    {
     "name": "stdout",
     "output_type": "stream",
     "text": [
      "Current value: 0.034206025583577826, Current params: {'input_chunk_length': 34, 'output_chunk_length': 6, 'dropout': 0.12758596690411123, 'batch_size': 92, 'lr': 0.0022211495280727825, 'weight_decay': 0.00013665853711189408, 'num_filters': 12, 'kernel_size': 8, 'num_layers': 3, 'dilation_base': 3, 'weight_norm': True, 'loss_fn': 'huber', 'optimizer': 'AdamW'}\n",
      "Best value: 0.10575886306292326, Best params: {'input_chunk_length': 30, 'output_chunk_length': 3, 'dropout': 0.3423373154331457, 'batch_size': 65, 'lr': 0.002676818996162833, 'weight_decay': 0.0004319696940792624, 'num_filters': 9, 'kernel_size': 5, 'num_layers': 2, 'dilation_base': 3, 'weight_norm': True, 'loss_fn': 'smoothl1', 'optimizer': 'AdamW'}\n",
      "\n",
      "Starting Trial 81\n",
      "Hyperparameters: {'input_chunk_length': 26, 'output_chunk_length': 3, 'dropout': 0.11432865298134691, 'batch_size': 139, 'lr': 0.003285212039480844, 'weight_decay': 0.00010514682415892305, 'num_filters': 57, 'kernel_size': 7, 'num_layers': 3, 'dilation_base': 4, 'weight_norm': True, 'loss_fn': 'smoothl1', 'optimizer': 'AdamW'}\n",
      "\n",
      "Training the model...\n",
      "Train set: 6647 samples\n",
      "Validation set: 1662 samples\n"
     ]
    },
    {
     "name": "stderr",
     "output_type": "stream",
     "text": [
      "Metric val_loss improved. New best score: 0.024\n",
      "Metric val_loss improved by 0.004 >= min_delta = 0.0005. New best score: 0.020\n",
      "Metric val_loss improved by 0.002 >= min_delta = 0.0005. New best score: 0.018\n",
      "Metric val_loss improved by 0.001 >= min_delta = 0.0005. New best score: 0.017\n",
      "Metric val_loss improved by 0.001 >= min_delta = 0.0005. New best score: 0.017\n",
      "Monitored metric val_loss did not improve in the last 15 records. Best score: 0.017. Signaling Trainer to stop.\n",
      "GPU available: True (cuda), used: True\n",
      "TPU available: False, using: 0 TPU cores\n",
      "HPU available: False, using: 0 HPUs\n",
      "LOCAL_RANK: 0 - CUDA_VISIBLE_DEVICES: [0]\n"
     ]
    },
    {
     "name": "stdout",
     "output_type": "stream",
     "text": [
      "Model loaded from checkpoint for trial 81\n"
     ]
    },
    {
     "name": "stderr",
     "output_type": "stream",
     "text": [
      "/home/eduardo/Documentos/Water-Cycle-Neural-Network/venv/lib/python3.12/site-packages/pytorch_lightning/trainer/connectors/data_connector.py:425: The 'predict_dataloader' does not have many workers which may be a bottleneck. Consider increasing the value of the `num_workers` argument` to `num_workers=11` in the `DataLoader` to improve performance.\n",
      "[I 2025-05-25 23:30:23,970] Trial 81 finished with value: 0.1209523802922343 and parameters: {'input_chunk_length': 26, 'output_chunk_length': 3, 'dropout': 0.11432865298134691, 'batch_size': 139, 'lr': 0.003285212039480844, 'weight_decay': 0.00010514682415892305, 'num_filters': 57, 'kernel_size': 7, 'num_layers': 3, 'dilation_base': 4, 'weight_norm': True, 'loss_fn': 'smoothl1', 'optimizer': 'AdamW'}. Best is trial 20 with value: 0.10575886306292326.\n",
      "Specified future encoders in `add_encoders` at model creation but model does not accept future covariates. future encoders will be ignored.\n",
      "GPU available: True (cuda), used: True\n",
      "TPU available: False, using: 0 TPU cores\n",
      "HPU available: False, using: 0 HPUs\n",
      "LOCAL_RANK: 0 - CUDA_VISIBLE_DEVICES: [0]\n"
     ]
    },
    {
     "name": "stdout",
     "output_type": "stream",
     "text": [
      "Starting time series verification for consistency...\n",
      "\n",
      "Performance metrics:\n",
      "                                    MSE        RMSE         MAE          R2  \\\n",
      "Temperature                    6.182311    2.486425    2.007559    0.797044   \n",
      "Precipitation_accumulated   1844.515442   42.947822   37.794667 -535.614919   \n",
      "Humidity                      49.658669    7.046891    5.781070    0.661133   \n",
      "Wind_Speed_kmh                 0.996805    0.998401    0.797066    0.261492   \n",
      "Soil_Moisture              71029.620722  266.513828  221.899239   -0.237203   \n",
      "Soil_Temperature               4.523395    2.126827    1.765880    0.719625   \n",
      "Wind_Dir_Sin                   0.524355    0.724124    0.645152    0.047160   \n",
      "Wind_Dir_Cos                   0.357756    0.598127    0.503935    0.025282   \n",
      "\n",
      "                                SMAPE  \n",
      "Temperature                 33.412838  \n",
      "Precipitation_accumulated    8.575194  \n",
      "Humidity                     6.800288  \n",
      "Wind_Speed_kmh              68.749479  \n",
      "Soil_Moisture                2.643452  \n",
      "Soil_Temperature            38.612298  \n",
      "Wind_Dir_Sin               144.117258  \n",
      "Wind_Dir_Cos               125.542174  \n",
      "The MAE for this fold was 0.1209523802922343\n",
      "Results of trial 81 saved in optuna_iteration_metrics/trial_81.json\n",
      "Current value: 0.1209523802922343, Current params: {'input_chunk_length': 26, 'output_chunk_length': 3, 'dropout': 0.11432865298134691, 'batch_size': 139, 'lr': 0.003285212039480844, 'weight_decay': 0.00010514682415892305, 'num_filters': 57, 'kernel_size': 7, 'num_layers': 3, 'dilation_base': 4, 'weight_norm': True, 'loss_fn': 'smoothl1', 'optimizer': 'AdamW'}\n",
      "Best value: 0.10575886306292326, Best params: {'input_chunk_length': 30, 'output_chunk_length': 3, 'dropout': 0.3423373154331457, 'batch_size': 65, 'lr': 0.002676818996162833, 'weight_decay': 0.0004319696940792624, 'num_filters': 9, 'kernel_size': 5, 'num_layers': 2, 'dilation_base': 3, 'weight_norm': True, 'loss_fn': 'smoothl1', 'optimizer': 'AdamW'}\n",
      "\n",
      "Starting Trial 82\n",
      "Hyperparameters: {'input_chunk_length': 27, 'output_chunk_length': 2, 'dropout': 0.10007001202232783, 'batch_size': 99, 'lr': 0.0041047202616648825, 'weight_decay': 0.0001889657307333133, 'num_filters': 67, 'kernel_size': 8, 'num_layers': 3, 'dilation_base': 4, 'weight_norm': True, 'loss_fn': 'smoothl1', 'optimizer': 'AdamW'}\n",
      "\n",
      "Training the model...\n",
      "Train set: 6647 samples\n",
      "Validation set: 1662 samples\n"
     ]
    },
    {
     "name": "stderr",
     "output_type": "stream",
     "text": [
      "Metric val_loss improved. New best score: 0.020\n",
      "Metric val_loss improved by 0.003 >= min_delta = 0.0005. New best score: 0.017\n",
      "Metric val_loss improved by 0.001 >= min_delta = 0.0005. New best score: 0.016\n",
      "Monitored metric val_loss did not improve in the last 15 records. Best score: 0.016. Signaling Trainer to stop.\n",
      "GPU available: True (cuda), used: True\n",
      "TPU available: False, using: 0 TPU cores\n",
      "HPU available: False, using: 0 HPUs\n",
      "LOCAL_RANK: 0 - CUDA_VISIBLE_DEVICES: [0]\n"
     ]
    },
    {
     "name": "stdout",
     "output_type": "stream",
     "text": [
      "Model loaded from checkpoint for trial 82\n"
     ]
    },
    {
     "name": "stderr",
     "output_type": "stream",
     "text": [
      "/home/eduardo/Documentos/Water-Cycle-Neural-Network/venv/lib/python3.12/site-packages/pytorch_lightning/trainer/connectors/data_connector.py:425: The 'predict_dataloader' does not have many workers which may be a bottleneck. Consider increasing the value of the `num_workers` argument` to `num_workers=11` in the `DataLoader` to improve performance.\n",
      "[I 2025-05-25 23:34:05,518] Trial 82 finished with value: 0.11205711411208115 and parameters: {'input_chunk_length': 27, 'output_chunk_length': 2, 'dropout': 0.10007001202232783, 'batch_size': 99, 'lr': 0.0041047202616648825, 'weight_decay': 0.0001889657307333133, 'num_filters': 67, 'kernel_size': 8, 'num_layers': 3, 'dilation_base': 4, 'weight_norm': True, 'loss_fn': 'smoothl1', 'optimizer': 'AdamW'}. Best is trial 20 with value: 0.10575886306292326.\n",
      "Specified future encoders in `add_encoders` at model creation but model does not accept future covariates. future encoders will be ignored.\n",
      "GPU available: True (cuda), used: True\n",
      "TPU available: False, using: 0 TPU cores\n",
      "HPU available: False, using: 0 HPUs\n",
      "LOCAL_RANK: 0 - CUDA_VISIBLE_DEVICES: [0]\n"
     ]
    },
    {
     "name": "stdout",
     "output_type": "stream",
     "text": [
      "Starting time series verification for consistency...\n",
      "\n",
      "Performance metrics:\n",
      "                                    MSE        RMSE         MAE          R2  \\\n",
      "Temperature                    3.267127    1.807520    1.445571    0.892745   \n",
      "Precipitation_accumulated   1555.228775   39.436389   33.555496 -451.454310   \n",
      "Humidity                      29.088478    5.393374    4.298087    0.801502   \n",
      "Wind_Speed_kmh                 0.849521    0.921695    0.693950    0.370611   \n",
      "Soil_Moisture              49998.837207  223.604198  191.100871    0.129114   \n",
      "Soil_Temperature               6.583952    2.565921    2.204504    0.591905   \n",
      "Wind_Dir_Sin                   0.485255    0.696602    0.605872    0.118212   \n",
      "Wind_Dir_Cos                   0.373180    0.610885    0.507052   -0.016742   \n",
      "\n",
      "                                SMAPE  \n",
      "Temperature                 26.390982  \n",
      "Precipitation_accumulated    7.590606  \n",
      "Humidity                     5.103089  \n",
      "Wind_Speed_kmh              64.626287  \n",
      "Soil_Moisture                2.246809  \n",
      "Soil_Temperature            51.080107  \n",
      "Wind_Dir_Sin               129.743564  \n",
      "Wind_Dir_Cos               122.886352  \n",
      "The MAE for this fold was 0.11205711411208115\n",
      "Results of trial 82 saved in optuna_iteration_metrics/trial_82.json\n",
      "Current value: 0.11205711411208115, Current params: {'input_chunk_length': 27, 'output_chunk_length': 2, 'dropout': 0.10007001202232783, 'batch_size': 99, 'lr': 0.0041047202616648825, 'weight_decay': 0.0001889657307333133, 'num_filters': 67, 'kernel_size': 8, 'num_layers': 3, 'dilation_base': 4, 'weight_norm': True, 'loss_fn': 'smoothl1', 'optimizer': 'AdamW'}\n",
      "Best value: 0.10575886306292326, Best params: {'input_chunk_length': 30, 'output_chunk_length': 3, 'dropout': 0.3423373154331457, 'batch_size': 65, 'lr': 0.002676818996162833, 'weight_decay': 0.0004319696940792624, 'num_filters': 9, 'kernel_size': 5, 'num_layers': 2, 'dilation_base': 3, 'weight_norm': True, 'loss_fn': 'smoothl1', 'optimizer': 'AdamW'}\n",
      "\n",
      "Starting Trial 83\n",
      "Hyperparameters: {'input_chunk_length': 29, 'output_chunk_length': 1, 'dropout': 0.10987578257441336, 'batch_size': 107, 'lr': 0.004525867812805064, 'weight_decay': 0.00015619537785532893, 'num_filters': 50, 'kernel_size': 8, 'num_layers': 3, 'dilation_base': 4, 'weight_norm': True, 'loss_fn': 'smoothl1', 'optimizer': 'AdamW'}\n",
      "\n",
      "Training the model...\n",
      "Train set: 6647 samples\n",
      "Validation set: 1662 samples\n"
     ]
    },
    {
     "name": "stderr",
     "output_type": "stream",
     "text": [
      "Metric val_loss improved. New best score: 0.023\n",
      "Metric val_loss improved by 0.007 >= min_delta = 0.0005. New best score: 0.016\n",
      "Metric val_loss improved by 0.002 >= min_delta = 0.0005. New best score: 0.013\n",
      "Metric val_loss improved by 0.001 >= min_delta = 0.0005. New best score: 0.013\n",
      "Metric val_loss improved by 0.001 >= min_delta = 0.0005. New best score: 0.012\n",
      "Metric val_loss improved by 0.001 >= min_delta = 0.0005. New best score: 0.012\n",
      "`Trainer.fit` stopped: `max_epochs=30` reached.\n",
      "GPU available: True (cuda), used: True\n",
      "TPU available: False, using: 0 TPU cores\n",
      "HPU available: False, using: 0 HPUs\n",
      "LOCAL_RANK: 0 - CUDA_VISIBLE_DEVICES: [0]\n"
     ]
    },
    {
     "name": "stdout",
     "output_type": "stream",
     "text": [
      "Model loaded from checkpoint for trial 83\n"
     ]
    },
    {
     "name": "stderr",
     "output_type": "stream",
     "text": [
      "/home/eduardo/Documentos/Water-Cycle-Neural-Network/venv/lib/python3.12/site-packages/pytorch_lightning/trainer/connectors/data_connector.py:425: The 'predict_dataloader' does not have many workers which may be a bottleneck. Consider increasing the value of the `num_workers` argument` to `num_workers=11` in the `DataLoader` to improve performance.\n",
      "[I 2025-05-25 23:38:48,386] Trial 83 finished with value: 0.08353507711014438 and parameters: {'input_chunk_length': 29, 'output_chunk_length': 1, 'dropout': 0.10987578257441336, 'batch_size': 107, 'lr': 0.004525867812805064, 'weight_decay': 0.00015619537785532893, 'num_filters': 50, 'kernel_size': 8, 'num_layers': 3, 'dilation_base': 4, 'weight_norm': True, 'loss_fn': 'smoothl1', 'optimizer': 'AdamW'}. Best is trial 83 with value: 0.08353507711014438.\n",
      "Specified future encoders in `add_encoders` at model creation but model does not accept future covariates. future encoders will be ignored.\n",
      "GPU available: True (cuda), used: True\n",
      "TPU available: False, using: 0 TPU cores\n",
      "HPU available: False, using: 0 HPUs\n",
      "LOCAL_RANK: 0 - CUDA_VISIBLE_DEVICES: [0]\n"
     ]
    },
    {
     "name": "stdout",
     "output_type": "stream",
     "text": [
      "Starting time series verification for consistency...\n",
      "\n",
      "Performance metrics:\n",
      "                                   MSE       RMSE        MAE         R2  \\\n",
      "Temperature                   1.861931   1.364526   1.085828   0.938847   \n",
      "Precipitation_accumulated    82.358391   9.075152   7.330676 -22.996873   \n",
      "Humidity                     10.898082   3.301224   2.537921   0.925627   \n",
      "Wind_Speed_kmh                0.552579   0.743357   0.571352   0.590584   \n",
      "Soil_Moisture              5309.793119  72.868327  56.427154   0.907196   \n",
      "Soil_Temperature              1.746836   1.321679   1.043855   0.891631   \n",
      "Wind_Dir_Sin                  0.401806   0.633882   0.514505   0.270123   \n",
      "Wind_Dir_Cos                  0.320936   0.566512   0.455187   0.124732   \n",
      "\n",
      "                                SMAPE  \n",
      "Temperature                 21.652545  \n",
      "Precipitation_accumulated    1.593184  \n",
      "Humidity                     3.015245  \n",
      "Wind_Speed_kmh              58.392044  \n",
      "Soil_Moisture                0.656433  \n",
      "Soil_Temperature            20.254496  \n",
      "Wind_Dir_Sin               103.741944  \n",
      "Wind_Dir_Cos               110.164197  \n",
      "The MAE for this fold was 0.08353507711014438\n",
      "Results of trial 83 saved in optuna_iteration_metrics/trial_83.json\n",
      "Current value: 0.08353507711014438, Current params: {'input_chunk_length': 29, 'output_chunk_length': 1, 'dropout': 0.10987578257441336, 'batch_size': 107, 'lr': 0.004525867812805064, 'weight_decay': 0.00015619537785532893, 'num_filters': 50, 'kernel_size': 8, 'num_layers': 3, 'dilation_base': 4, 'weight_norm': True, 'loss_fn': 'smoothl1', 'optimizer': 'AdamW'}\n",
      "Best value: 0.08353507711014438, Best params: {'input_chunk_length': 29, 'output_chunk_length': 1, 'dropout': 0.10987578257441336, 'batch_size': 107, 'lr': 0.004525867812805064, 'weight_decay': 0.00015619537785532893, 'num_filters': 50, 'kernel_size': 8, 'num_layers': 3, 'dilation_base': 4, 'weight_norm': True, 'loss_fn': 'smoothl1', 'optimizer': 'AdamW'}\n",
      "\n",
      "Starting Trial 84\n",
      "Hyperparameters: {'input_chunk_length': 27, 'output_chunk_length': 1, 'dropout': 0.10610066138615427, 'batch_size': 103, 'lr': 0.004829879409180696, 'weight_decay': 0.00017168593454890425, 'num_filters': 49, 'kernel_size': 8, 'num_layers': 3, 'dilation_base': 4, 'weight_norm': True, 'loss_fn': 'smoothl1', 'optimizer': 'AdamW'}\n",
      "\n",
      "Training the model...\n",
      "Train set: 6647 samples\n",
      "Validation set: 1662 samples\n"
     ]
    },
    {
     "name": "stderr",
     "output_type": "stream",
     "text": [
      "Metric val_loss improved. New best score: 0.018\n",
      "Metric val_loss improved by 0.003 >= min_delta = 0.0005. New best score: 0.016\n",
      "Metric val_loss improved by 0.002 >= min_delta = 0.0005. New best score: 0.014\n",
      "Metric val_loss improved by 0.001 >= min_delta = 0.0005. New best score: 0.013\n",
      "Metric val_loss improved by 0.001 >= min_delta = 0.0005. New best score: 0.012\n",
      "Metric val_loss improved by 0.001 >= min_delta = 0.0005. New best score: 0.012\n",
      "Monitored metric val_loss did not improve in the last 15 records. Best score: 0.012. Signaling Trainer to stop.\n",
      "GPU available: True (cuda), used: True\n",
      "TPU available: False, using: 0 TPU cores\n",
      "HPU available: False, using: 0 HPUs\n",
      "LOCAL_RANK: 0 - CUDA_VISIBLE_DEVICES: [0]\n"
     ]
    },
    {
     "name": "stdout",
     "output_type": "stream",
     "text": [
      "Model loaded from checkpoint for trial 84\n"
     ]
    },
    {
     "name": "stderr",
     "output_type": "stream",
     "text": [
      "/home/eduardo/Documentos/Water-Cycle-Neural-Network/venv/lib/python3.12/site-packages/pytorch_lightning/trainer/connectors/data_connector.py:425: The 'predict_dataloader' does not have many workers which may be a bottleneck. Consider increasing the value of the `num_workers` argument` to `num_workers=11` in the `DataLoader` to improve performance.\n",
      "[I 2025-05-25 23:42:22,837] Trial 84 finished with value: 0.08593994574543275 and parameters: {'input_chunk_length': 27, 'output_chunk_length': 1, 'dropout': 0.10610066138615427, 'batch_size': 103, 'lr': 0.004829879409180696, 'weight_decay': 0.00017168593454890425, 'num_filters': 49, 'kernel_size': 8, 'num_layers': 3, 'dilation_base': 4, 'weight_norm': True, 'loss_fn': 'smoothl1', 'optimizer': 'AdamW'}. Best is trial 83 with value: 0.08353507711014438.\n",
      "Specified future encoders in `add_encoders` at model creation but model does not accept future covariates. future encoders will be ignored.\n",
      "GPU available: True (cuda), used: True\n",
      "TPU available: False, using: 0 TPU cores\n",
      "HPU available: False, using: 0 HPUs\n",
      "LOCAL_RANK: 0 - CUDA_VISIBLE_DEVICES: [0]\n"
     ]
    },
    {
     "name": "stdout",
     "output_type": "stream",
     "text": [
      "Starting time series verification for consistency...\n",
      "\n",
      "Performance metrics:\n",
      "                                    MSE        RMSE        MAE         R2  \\\n",
      "Temperature                    2.167372    1.472200   1.156700   0.928896   \n",
      "Precipitation_accumulated    139.888436   11.827444  10.466112 -39.634870   \n",
      "Humidity                      14.600532    3.821064   3.044438   0.900374   \n",
      "Wind_Speed_kmh                 0.505908    0.711272   0.531006   0.625640   \n",
      "Soil_Moisture              11809.455387  108.671318  91.222997   0.794982   \n",
      "Soil_Temperature               2.455561    1.567023   1.279023   0.847922   \n",
      "Wind_Dir_Sin                   0.378926    0.615570   0.514619   0.311214   \n",
      "Wind_Dir_Cos                   0.305949    0.553127   0.450027   0.167124   \n",
      "\n",
      "                                SMAPE  \n",
      "Temperature                 22.815255  \n",
      "Precipitation_accumulated    2.282906  \n",
      "Humidity                     3.593354  \n",
      "Wind_Speed_kmh              56.232950  \n",
      "Soil_Moisture                1.065984  \n",
      "Soil_Temperature            33.801396  \n",
      "Wind_Dir_Sin               103.474358  \n",
      "Wind_Dir_Cos               109.468327  \n",
      "The MAE for this fold was 0.08593994574543275\n",
      "Results of trial 84 saved in optuna_iteration_metrics/trial_84.json\n",
      "Current value: 0.08593994574543275, Current params: {'input_chunk_length': 27, 'output_chunk_length': 1, 'dropout': 0.10610066138615427, 'batch_size': 103, 'lr': 0.004829879409180696, 'weight_decay': 0.00017168593454890425, 'num_filters': 49, 'kernel_size': 8, 'num_layers': 3, 'dilation_base': 4, 'weight_norm': True, 'loss_fn': 'smoothl1', 'optimizer': 'AdamW'}\n",
      "Best value: 0.08353507711014438, Best params: {'input_chunk_length': 29, 'output_chunk_length': 1, 'dropout': 0.10987578257441336, 'batch_size': 107, 'lr': 0.004525867812805064, 'weight_decay': 0.00015619537785532893, 'num_filters': 50, 'kernel_size': 8, 'num_layers': 3, 'dilation_base': 4, 'weight_norm': True, 'loss_fn': 'smoothl1', 'optimizer': 'AdamW'}\n",
      "\n",
      "Starting Trial 85\n",
      "Hyperparameters: {'input_chunk_length': 29, 'output_chunk_length': 1, 'dropout': 0.10229431455237283, 'batch_size': 101, 'lr': 0.004181705707112962, 'weight_decay': 0.00017421298684105563, 'num_filters': 49, 'kernel_size': 8, 'num_layers': 3, 'dilation_base': 4, 'weight_norm': True, 'loss_fn': 'smoothl1', 'optimizer': 'AdamW'}\n",
      "\n",
      "Training the model...\n",
      "Train set: 6647 samples\n",
      "Validation set: 1662 samples\n"
     ]
    },
    {
     "name": "stderr",
     "output_type": "stream",
     "text": [
      "Metric val_loss improved. New best score: 0.022\n",
      "Metric val_loss improved by 0.004 >= min_delta = 0.0005. New best score: 0.018\n",
      "Metric val_loss improved by 0.002 >= min_delta = 0.0005. New best score: 0.015\n",
      "Metric val_loss improved by 0.001 >= min_delta = 0.0005. New best score: 0.014\n",
      "Metric val_loss improved by 0.001 >= min_delta = 0.0005. New best score: 0.013\n",
      "Metric val_loss improved by 0.001 >= min_delta = 0.0005. New best score: 0.013\n",
      "Metric val_loss improved by 0.001 >= min_delta = 0.0005. New best score: 0.012\n",
      "Monitored metric val_loss did not improve in the last 15 records. Best score: 0.012. Signaling Trainer to stop.\n",
      "GPU available: True (cuda), used: True\n",
      "TPU available: False, using: 0 TPU cores\n",
      "HPU available: False, using: 0 HPUs\n",
      "LOCAL_RANK: 0 - CUDA_VISIBLE_DEVICES: [0]\n"
     ]
    },
    {
     "name": "stdout",
     "output_type": "stream",
     "text": [
      "Model loaded from checkpoint for trial 85\n"
     ]
    },
    {
     "name": "stderr",
     "output_type": "stream",
     "text": [
      "/home/eduardo/Documentos/Water-Cycle-Neural-Network/venv/lib/python3.12/site-packages/pytorch_lightning/trainer/connectors/data_connector.py:425: The 'predict_dataloader' does not have many workers which may be a bottleneck. Consider increasing the value of the `num_workers` argument` to `num_workers=11` in the `DataLoader` to improve performance.\n",
      "[I 2025-05-25 23:46:15,114] Trial 85 finished with value: 0.08483495283757984 and parameters: {'input_chunk_length': 29, 'output_chunk_length': 1, 'dropout': 0.10229431455237283, 'batch_size': 101, 'lr': 0.004181705707112962, 'weight_decay': 0.00017421298684105563, 'num_filters': 49, 'kernel_size': 8, 'num_layers': 3, 'dilation_base': 4, 'weight_norm': True, 'loss_fn': 'smoothl1', 'optimizer': 'AdamW'}. Best is trial 83 with value: 0.08353507711014438.\n",
      "Specified future encoders in `add_encoders` at model creation but model does not accept future covariates. future encoders will be ignored.\n",
      "GPU available: True (cuda), used: True\n",
      "TPU available: False, using: 0 TPU cores\n",
      "HPU available: False, using: 0 HPUs\n",
      "LOCAL_RANK: 0 - CUDA_VISIBLE_DEVICES: [0]\n"
     ]
    },
    {
     "name": "stdout",
     "output_type": "stream",
     "text": [
      "Starting time series verification for consistency...\n",
      "\n",
      "Performance metrics:\n",
      "                                   MSE       RMSE        MAE          R2  \\\n",
      "Temperature                   1.877362   1.370169   1.043266    0.938340   \n",
      "Precipitation_accumulated   347.696437  18.646620  16.507424 -100.308769   \n",
      "Humidity                     11.568730   3.401284   2.613376    0.921050   \n",
      "Wind_Speed_kmh                0.568712   0.754130   0.550839    0.578631   \n",
      "Soil_Moisture              7580.675646  87.067076  73.752705    0.867506   \n",
      "Soil_Temperature              1.912044   1.382767   1.197772    0.881382   \n",
      "Wind_Dir_Sin                  0.368554   0.607086   0.490459    0.330526   \n",
      "Wind_Dir_Cos                  0.313683   0.560074   0.452206    0.144513   \n",
      "\n",
      "                                SMAPE  \n",
      "Temperature                 20.466168  \n",
      "Precipitation_accumulated    3.630819  \n",
      "Humidity                     3.087341  \n",
      "Wind_Speed_kmh              61.896474  \n",
      "Soil_Moisture                0.864742  \n",
      "Soil_Temperature            28.805416  \n",
      "Wind_Dir_Sin                97.751878  \n",
      "Wind_Dir_Cos               109.674807  \n",
      "The MAE for this fold was 0.08483495283757984\n",
      "Results of trial 85 saved in optuna_iteration_metrics/trial_85.json\n",
      "Current value: 0.08483495283757984, Current params: {'input_chunk_length': 29, 'output_chunk_length': 1, 'dropout': 0.10229431455237283, 'batch_size': 101, 'lr': 0.004181705707112962, 'weight_decay': 0.00017421298684105563, 'num_filters': 49, 'kernel_size': 8, 'num_layers': 3, 'dilation_base': 4, 'weight_norm': True, 'loss_fn': 'smoothl1', 'optimizer': 'AdamW'}\n",
      "Best value: 0.08353507711014438, Best params: {'input_chunk_length': 29, 'output_chunk_length': 1, 'dropout': 0.10987578257441336, 'batch_size': 107, 'lr': 0.004525867812805064, 'weight_decay': 0.00015619537785532893, 'num_filters': 50, 'kernel_size': 8, 'num_layers': 3, 'dilation_base': 4, 'weight_norm': True, 'loss_fn': 'smoothl1', 'optimizer': 'AdamW'}\n",
      "\n",
      "Starting Trial 86\n",
      "Hyperparameters: {'input_chunk_length': 30, 'output_chunk_length': 1, 'dropout': 0.10010492629300274, 'batch_size': 103, 'lr': 0.004211108311309934, 'weight_decay': 0.0001745440823742105, 'num_filters': 50, 'kernel_size': 8, 'num_layers': 3, 'dilation_base': 4, 'weight_norm': True, 'loss_fn': 'smoothl1', 'optimizer': 'Adam'}\n",
      "\n",
      "Training the model...\n",
      "Train set: 6647 samples\n",
      "Validation set: 1662 samples\n"
     ]
    },
    {
     "name": "stderr",
     "output_type": "stream",
     "text": [
      "Metric val_loss improved. New best score: 0.017\n",
      "Metric val_loss improved by 0.001 >= min_delta = 0.0005. New best score: 0.015\n",
      "Metric val_loss improved by 0.001 >= min_delta = 0.0005. New best score: 0.015\n",
      "Metric val_loss improved by 0.001 >= min_delta = 0.0005. New best score: 0.014\n",
      "Metric val_loss improved by 0.001 >= min_delta = 0.0005. New best score: 0.013\n",
      "Metric val_loss improved by 0.001 >= min_delta = 0.0005. New best score: 0.013\n",
      "Metric val_loss improved by 0.001 >= min_delta = 0.0005. New best score: 0.012\n",
      "Monitored metric val_loss = nan is not finite. Previous best value was 0.012. Signaling Trainer to stop.\n",
      "GPU available: True (cuda), used: True\n",
      "TPU available: False, using: 0 TPU cores\n",
      "HPU available: False, using: 0 HPUs\n",
      "LOCAL_RANK: 0 - CUDA_VISIBLE_DEVICES: [0]\n"
     ]
    },
    {
     "name": "stdout",
     "output_type": "stream",
     "text": [
      "Model loaded from checkpoint for trial 86\n"
     ]
    },
    {
     "name": "stderr",
     "output_type": "stream",
     "text": [
      "/home/eduardo/Documentos/Water-Cycle-Neural-Network/venv/lib/python3.12/site-packages/pytorch_lightning/trainer/connectors/data_connector.py:425: The 'predict_dataloader' does not have many workers which may be a bottleneck. Consider increasing the value of the `num_workers` argument` to `num_workers=11` in the `DataLoader` to improve performance.\n",
      "[I 2025-05-25 23:48:47,920] Trial 86 finished with value: 0.09024517220049902 and parameters: {'input_chunk_length': 30, 'output_chunk_length': 1, 'dropout': 0.10010492629300274, 'batch_size': 103, 'lr': 0.004211108311309934, 'weight_decay': 0.0001745440823742105, 'num_filters': 50, 'kernel_size': 8, 'num_layers': 3, 'dilation_base': 4, 'weight_norm': True, 'loss_fn': 'smoothl1', 'optimizer': 'Adam'}. Best is trial 83 with value: 0.08353507711014438.\n",
      "Specified future encoders in `add_encoders` at model creation but model does not accept future covariates. future encoders will be ignored.\n",
      "GPU available: True (cuda), used: True\n",
      "TPU available: False, using: 0 TPU cores\n",
      "HPU available: False, using: 0 HPUs\n",
      "LOCAL_RANK: 0 - CUDA_VISIBLE_DEVICES: [0]\n"
     ]
    },
    {
     "name": "stdout",
     "output_type": "stream",
     "text": [
      "Starting time series verification for consistency...\n",
      "\n",
      "Performance metrics:\n",
      "                                    MSE        RMSE         MAE         R2  \\\n",
      "Temperature                    3.065036    1.750724    1.446052   0.899333   \n",
      "Precipitation_accumulated    209.210302   14.464104   12.003006 -60.051903   \n",
      "Humidity                      16.979426    4.120610    3.417065   0.884116   \n",
      "Wind_Speed_kmh                 0.655491    0.809624    0.637481   0.514167   \n",
      "Soil_Moisture              23591.391331  153.594894  124.888422   0.586133   \n",
      "Soil_Temperature               1.774329    1.332040    1.104351   0.889843   \n",
      "Wind_Dir_Sin                   0.364799    0.603986    0.513349   0.337512   \n",
      "Wind_Dir_Cos                   0.310192    0.556949    0.453514   0.153468   \n",
      "\n",
      "                                SMAPE  \n",
      "Temperature                 28.055793  \n",
      "Precipitation_accumulated    2.624675  \n",
      "Humidity                     3.943495  \n",
      "Wind_Speed_kmh              61.158635  \n",
      "Soil_Moisture                1.463409  \n",
      "Soil_Temperature            22.049789  \n",
      "Wind_Dir_Sin               103.713800  \n",
      "Wind_Dir_Cos               111.718037  \n",
      "The MAE for this fold was 0.09024517220049902\n",
      "Results of trial 86 saved in optuna_iteration_metrics/trial_86.json\n",
      "Current value: 0.09024517220049902, Current params: {'input_chunk_length': 30, 'output_chunk_length': 1, 'dropout': 0.10010492629300274, 'batch_size': 103, 'lr': 0.004211108311309934, 'weight_decay': 0.0001745440823742105, 'num_filters': 50, 'kernel_size': 8, 'num_layers': 3, 'dilation_base': 4, 'weight_norm': True, 'loss_fn': 'smoothl1', 'optimizer': 'Adam'}\n",
      "Best value: 0.08353507711014438, Best params: {'input_chunk_length': 29, 'output_chunk_length': 1, 'dropout': 0.10987578257441336, 'batch_size': 107, 'lr': 0.004525867812805064, 'weight_decay': 0.00015619537785532893, 'num_filters': 50, 'kernel_size': 8, 'num_layers': 3, 'dilation_base': 4, 'weight_norm': True, 'loss_fn': 'smoothl1', 'optimizer': 'AdamW'}\n",
      "\n",
      "Starting Trial 87\n",
      "Hyperparameters: {'input_chunk_length': 29, 'output_chunk_length': 1, 'dropout': 0.10577306294379565, 'batch_size': 102, 'lr': 0.0041259435627923405, 'weight_decay': 0.00017443377550336328, 'num_filters': 51, 'kernel_size': 8, 'num_layers': 3, 'dilation_base': 4, 'weight_norm': True, 'loss_fn': 'smoothl1', 'optimizer': 'Adam'}\n",
      "\n",
      "Training the model...\n",
      "Train set: 6647 samples\n",
      "Validation set: 1662 samples\n"
     ]
    },
    {
     "name": "stderr",
     "output_type": "stream",
     "text": [
      "Metric val_loss improved. New best score: 0.019\n",
      "Metric val_loss improved by 0.004 >= min_delta = 0.0005. New best score: 0.016\n",
      "Metric val_loss improved by 0.002 >= min_delta = 0.0005. New best score: 0.014\n",
      "Metric val_loss improved by 0.001 >= min_delta = 0.0005. New best score: 0.014\n",
      "Metric val_loss improved by 0.001 >= min_delta = 0.0005. New best score: 0.013\n",
      "Metric val_loss improved by 0.001 >= min_delta = 0.0005. New best score: 0.012\n",
      "Monitored metric val_loss = nan is not finite. Previous best value was 0.012. Signaling Trainer to stop.\n",
      "GPU available: True (cuda), used: True\n",
      "TPU available: False, using: 0 TPU cores\n",
      "HPU available: False, using: 0 HPUs\n",
      "LOCAL_RANK: 0 - CUDA_VISIBLE_DEVICES: [0]\n"
     ]
    },
    {
     "name": "stdout",
     "output_type": "stream",
     "text": [
      "Model loaded from checkpoint for trial 87\n"
     ]
    },
    {
     "name": "stderr",
     "output_type": "stream",
     "text": [
      "/home/eduardo/Documentos/Water-Cycle-Neural-Network/venv/lib/python3.12/site-packages/pytorch_lightning/trainer/connectors/data_connector.py:425: The 'predict_dataloader' does not have many workers which may be a bottleneck. Consider increasing the value of the `num_workers` argument` to `num_workers=11` in the `DataLoader` to improve performance.\n",
      "[I 2025-05-25 23:51:32,109] Trial 87 finished with value: 0.09428413396997018 and parameters: {'input_chunk_length': 29, 'output_chunk_length': 1, 'dropout': 0.10577306294379565, 'batch_size': 102, 'lr': 0.0041259435627923405, 'weight_decay': 0.00017443377550336328, 'num_filters': 51, 'kernel_size': 8, 'num_layers': 3, 'dilation_base': 4, 'weight_norm': True, 'loss_fn': 'smoothl1', 'optimizer': 'Adam'}. Best is trial 83 with value: 0.08353507711014438.\n",
      "Specified future encoders in `add_encoders` at model creation but model does not accept future covariates. future encoders will be ignored.\n",
      "GPU available: True (cuda), used: True\n",
      "TPU available: False, using: 0 TPU cores\n",
      "HPU available: False, using: 0 HPUs\n",
      "LOCAL_RANK: 0 - CUDA_VISIBLE_DEVICES: [0]\n"
     ]
    },
    {
     "name": "stdout",
     "output_type": "stream",
     "text": [
      "Starting time series verification for consistency...\n",
      "\n",
      "Performance metrics:\n",
      "                                    MSE        RMSE         MAE          R2  \\\n",
      "Temperature                    3.163943    1.778748    1.387641    0.896084   \n",
      "Precipitation_accumulated    689.880307   26.265573   23.833262 -200.011334   \n",
      "Humidity                      16.015071    4.001883    3.119572    0.890706   \n",
      "Wind_Speed_kmh                 0.620353    0.787625    0.619823    0.540369   \n",
      "Soil_Moisture              39897.164892  199.742747  176.521608    0.302684   \n",
      "Soil_Temperature               4.387466    2.094628    1.814857    0.727814   \n",
      "Wind_Dir_Sin                   0.361985    0.601652    0.492968    0.342458   \n",
      "Wind_Dir_Cos                   0.310402    0.557137    0.450471    0.153463   \n",
      "\n",
      "                                SMAPE  \n",
      "Temperature                 24.319403  \n",
      "Precipitation_accumulated    5.289118  \n",
      "Humidity                     3.771274  \n",
      "Wind_Speed_kmh              60.383163  \n",
      "Soil_Moisture                2.075193  \n",
      "Soil_Temperature            42.511876  \n",
      "Wind_Dir_Sin                98.410273  \n",
      "Wind_Dir_Cos               109.430040  \n",
      "The MAE for this fold was 0.09428413396997018\n",
      "Results of trial 87 saved in optuna_iteration_metrics/trial_87.json\n",
      "Current value: 0.09428413396997018, Current params: {'input_chunk_length': 29, 'output_chunk_length': 1, 'dropout': 0.10577306294379565, 'batch_size': 102, 'lr': 0.0041259435627923405, 'weight_decay': 0.00017443377550336328, 'num_filters': 51, 'kernel_size': 8, 'num_layers': 3, 'dilation_base': 4, 'weight_norm': True, 'loss_fn': 'smoothl1', 'optimizer': 'Adam'}\n",
      "Best value: 0.08353507711014438, Best params: {'input_chunk_length': 29, 'output_chunk_length': 1, 'dropout': 0.10987578257441336, 'batch_size': 107, 'lr': 0.004525867812805064, 'weight_decay': 0.00015619537785532893, 'num_filters': 50, 'kernel_size': 8, 'num_layers': 3, 'dilation_base': 4, 'weight_norm': True, 'loss_fn': 'smoothl1', 'optimizer': 'AdamW'}\n",
      "\n",
      "Starting Trial 88\n",
      "Hyperparameters: {'input_chunk_length': 29, 'output_chunk_length': 1, 'dropout': 0.10280907187171145, 'batch_size': 104, 'lr': 0.0041117854667840235, 'weight_decay': 0.00017674760573815359, 'num_filters': 50, 'kernel_size': 8, 'num_layers': 3, 'dilation_base': 4, 'weight_norm': True, 'loss_fn': 'smoothl1', 'optimizer': 'Adam'}\n",
      "\n",
      "Training the model...\n",
      "Train set: 6647 samples\n",
      "Validation set: 1662 samples\n"
     ]
    },
    {
     "name": "stderr",
     "output_type": "stream",
     "text": [
      "Metric val_loss improved. New best score: 0.022\n",
      "Metric val_loss improved by 0.005 >= min_delta = 0.0005. New best score: 0.017\n",
      "Metric val_loss improved by 0.002 >= min_delta = 0.0005. New best score: 0.015\n",
      "Metric val_loss improved by 0.001 >= min_delta = 0.0005. New best score: 0.014\n",
      "Metric val_loss improved by 0.001 >= min_delta = 0.0005. New best score: 0.013\n",
      "Metric val_loss improved by 0.001 >= min_delta = 0.0005. New best score: 0.013\n",
      "Metric val_loss improved by 0.001 >= min_delta = 0.0005. New best score: 0.012\n",
      "Monitored metric val_loss = nan is not finite. Previous best value was 0.012. Signaling Trainer to stop.\n",
      "GPU available: True (cuda), used: True\n",
      "TPU available: False, using: 0 TPU cores\n",
      "HPU available: False, using: 0 HPUs\n",
      "LOCAL_RANK: 0 - CUDA_VISIBLE_DEVICES: [0]\n"
     ]
    },
    {
     "name": "stdout",
     "output_type": "stream",
     "text": [
      "Model loaded from checkpoint for trial 88\n"
     ]
    },
    {
     "name": "stderr",
     "output_type": "stream",
     "text": [
      "/home/eduardo/Documentos/Water-Cycle-Neural-Network/venv/lib/python3.12/site-packages/pytorch_lightning/trainer/connectors/data_connector.py:425: The 'predict_dataloader' does not have many workers which may be a bottleneck. Consider increasing the value of the `num_workers` argument` to `num_workers=11` in the `DataLoader` to improve performance.\n",
      "[I 2025-05-25 23:54:14,111] Trial 88 finished with value: 0.09137165641316664 and parameters: {'input_chunk_length': 29, 'output_chunk_length': 1, 'dropout': 0.10280907187171145, 'batch_size': 104, 'lr': 0.0041117854667840235, 'weight_decay': 0.00017674760573815359, 'num_filters': 50, 'kernel_size': 8, 'num_layers': 3, 'dilation_base': 4, 'weight_norm': True, 'loss_fn': 'smoothl1', 'optimizer': 'Adam'}. Best is trial 83 with value: 0.08353507711014438.\n",
      "Specified future encoders in `add_encoders` at model creation but model does not accept future covariates. future encoders will be ignored.\n",
      "GPU available: True (cuda), used: True\n",
      "TPU available: False, using: 0 TPU cores\n",
      "HPU available: False, using: 0 HPUs\n",
      "LOCAL_RANK: 0 - CUDA_VISIBLE_DEVICES: [0]\n"
     ]
    },
    {
     "name": "stdout",
     "output_type": "stream",
     "text": [
      "Starting time series verification for consistency...\n",
      "\n",
      "Performance metrics:\n",
      "                                    MSE        RMSE         MAE         R2  \\\n",
      "Temperature                    2.630469    1.621872    1.298734   0.913605   \n",
      "Precipitation_accumulated    220.205418   14.839320   12.881015 -63.161543   \n",
      "Humidity                      15.221761    3.901508    3.024825   0.896120   \n",
      "Wind_Speed_kmh                 0.600302    0.774791    0.592386   0.555226   \n",
      "Soil_Moisture              42174.057972  205.363234  180.056568   0.262889   \n",
      "Soil_Temperature               4.811470    2.193506    1.906498   0.701510   \n",
      "Wind_Dir_Sin                   0.370070    0.608333    0.501719   0.327772   \n",
      "Wind_Dir_Cos                   0.310397    0.557133    0.451531   0.153476   \n",
      "\n",
      "                                SMAPE  \n",
      "Temperature                 24.582140  \n",
      "Precipitation_accumulated    2.821181  \n",
      "Humidity                     3.683062  \n",
      "Wind_Speed_kmh              59.143225  \n",
      "Soil_Moisture                2.117845  \n",
      "Soil_Temperature            46.166540  \n",
      "Wind_Dir_Sin               100.912300  \n",
      "Wind_Dir_Cos               110.548756  \n",
      "The MAE for this fold was 0.09137165641316664\n",
      "Results of trial 88 saved in optuna_iteration_metrics/trial_88.json\n",
      "Current value: 0.09137165641316664, Current params: {'input_chunk_length': 29, 'output_chunk_length': 1, 'dropout': 0.10280907187171145, 'batch_size': 104, 'lr': 0.0041117854667840235, 'weight_decay': 0.00017674760573815359, 'num_filters': 50, 'kernel_size': 8, 'num_layers': 3, 'dilation_base': 4, 'weight_norm': True, 'loss_fn': 'smoothl1', 'optimizer': 'Adam'}\n",
      "Best value: 0.08353507711014438, Best params: {'input_chunk_length': 29, 'output_chunk_length': 1, 'dropout': 0.10987578257441336, 'batch_size': 107, 'lr': 0.004525867812805064, 'weight_decay': 0.00015619537785532893, 'num_filters': 50, 'kernel_size': 8, 'num_layers': 3, 'dilation_base': 4, 'weight_norm': True, 'loss_fn': 'smoothl1', 'optimizer': 'AdamW'}\n",
      "\n",
      "Starting Trial 89\n",
      "Hyperparameters: {'input_chunk_length': 30, 'output_chunk_length': 1, 'dropout': 0.10936898993536755, 'batch_size': 107, 'lr': 0.00425020904789375, 'weight_decay': 0.00016390798400110304, 'num_filters': 44, 'kernel_size': 8, 'num_layers': 3, 'dilation_base': 4, 'weight_norm': True, 'loss_fn': 'smoothl1', 'optimizer': 'Adam'}\n",
      "\n",
      "Training the model...\n",
      "Train set: 6647 samples\n",
      "Validation set: 1662 samples\n"
     ]
    },
    {
     "name": "stderr",
     "output_type": "stream",
     "text": [
      "[I 2025-05-25 23:54:23,461] Trial 89 pruned. Trial was pruned at epoch 0.\n",
      "Specified future encoders in `add_encoders` at model creation but model does not accept future covariates. future encoders will be ignored.\n",
      "GPU available: True (cuda), used: True\n",
      "TPU available: False, using: 0 TPU cores\n",
      "HPU available: False, using: 0 HPUs\n",
      "LOCAL_RANK: 0 - CUDA_VISIBLE_DEVICES: [0]\n"
     ]
    },
    {
     "name": "stdout",
     "output_type": "stream",
     "text": [
      "Current value: 0.02575839519271729, Current params: {'input_chunk_length': 30, 'output_chunk_length': 1, 'dropout': 0.10936898993536755, 'batch_size': 107, 'lr': 0.00425020904789375, 'weight_decay': 0.00016390798400110304, 'num_filters': 44, 'kernel_size': 8, 'num_layers': 3, 'dilation_base': 4, 'weight_norm': True, 'loss_fn': 'smoothl1', 'optimizer': 'Adam'}\n",
      "Best value: 0.08353507711014438, Best params: {'input_chunk_length': 29, 'output_chunk_length': 1, 'dropout': 0.10987578257441336, 'batch_size': 107, 'lr': 0.004525867812805064, 'weight_decay': 0.00015619537785532893, 'num_filters': 50, 'kernel_size': 8, 'num_layers': 3, 'dilation_base': 4, 'weight_norm': True, 'loss_fn': 'smoothl1', 'optimizer': 'AdamW'}\n",
      "\n",
      "Starting Trial 90\n",
      "Hyperparameters: {'input_chunk_length': 32, 'output_chunk_length': 1, 'dropout': 0.12363452166863391, 'batch_size': 86, 'lr': 0.004065715349889218, 'weight_decay': 5.639205865576639e-05, 'num_filters': 50, 'kernel_size': 8, 'num_layers': 3, 'dilation_base': 2, 'weight_norm': True, 'loss_fn': 'smoothl1', 'optimizer': 'Adam'}\n",
      "\n",
      "Training the model...\n",
      "Train set: 6647 samples\n",
      "Validation set: 1662 samples\n"
     ]
    },
    {
     "name": "stderr",
     "output_type": "stream",
     "text": [
      "Metric val_loss improved. New best score: 0.021\n",
      "Metric val_loss improved by 0.005 >= min_delta = 0.0005. New best score: 0.016\n",
      "Metric val_loss improved by 0.002 >= min_delta = 0.0005. New best score: 0.014\n",
      "Metric val_loss improved by 0.001 >= min_delta = 0.0005. New best score: 0.014\n",
      "Metric val_loss improved by 0.001 >= min_delta = 0.0005. New best score: 0.013\n",
      "Metric val_loss improved by 0.001 >= min_delta = 0.0005. New best score: 0.012\n",
      "Metric val_loss improved by 0.001 >= min_delta = 0.0005. New best score: 0.012\n",
      "Monitored metric val_loss = nan is not finite. Previous best value was 0.012. Signaling Trainer to stop.\n",
      "GPU available: True (cuda), used: True\n",
      "TPU available: False, using: 0 TPU cores\n",
      "HPU available: False, using: 0 HPUs\n",
      "LOCAL_RANK: 0 - CUDA_VISIBLE_DEVICES: [0]\n"
     ]
    },
    {
     "name": "stdout",
     "output_type": "stream",
     "text": [
      "Model loaded from checkpoint for trial 90\n"
     ]
    },
    {
     "name": "stderr",
     "output_type": "stream",
     "text": [
      "/home/eduardo/Documentos/Water-Cycle-Neural-Network/venv/lib/python3.12/site-packages/pytorch_lightning/trainer/connectors/data_connector.py:425: The 'predict_dataloader' does not have many workers which may be a bottleneck. Consider increasing the value of the `num_workers` argument` to `num_workers=11` in the `DataLoader` to improve performance.\n",
      "[I 2025-05-25 23:59:07,394] Trial 90 finished with value: 0.08570353493707669 and parameters: {'input_chunk_length': 32, 'output_chunk_length': 1, 'dropout': 0.12363452166863391, 'batch_size': 86, 'lr': 0.004065715349889218, 'weight_decay': 5.639205865576639e-05, 'num_filters': 50, 'kernel_size': 8, 'num_layers': 3, 'dilation_base': 2, 'weight_norm': True, 'loss_fn': 'smoothl1', 'optimizer': 'Adam'}. Best is trial 83 with value: 0.08353507711014438.\n"
     ]
    },
    {
     "name": "stdout",
     "output_type": "stream",
     "text": [
      "Starting time series verification for consistency...\n",
      "\n",
      "Performance metrics:\n",
      "                                    MSE        RMSE         MAE         R2  \\\n",
      "Temperature                    2.029034    1.424442    1.165297   0.933414   \n",
      "Precipitation_accumulated     82.118358    9.061918    7.349219 -23.038320   \n",
      "Humidity                      10.415943    3.227374    2.510384   0.928905   \n",
      "Wind_Speed_kmh                 0.535453    0.731746    0.566032   0.602680   \n",
      "Soil_Moisture              14196.502169  119.149075  103.490213   0.748977   \n",
      "Soil_Temperature               3.046297    1.745365    1.527083   0.810734   \n",
      "Wind_Dir_Sin                   0.374140    0.611670    0.502901   0.320510   \n",
      "Wind_Dir_Cos                   0.315196    0.561423    0.458994   0.139982   \n",
      "\n",
      "                                SMAPE  \n",
      "Temperature                 23.791222  \n",
      "Precipitation_accumulated    1.595483  \n",
      "Humidity                     2.960728  \n",
      "Wind_Speed_kmh              57.900963  \n",
      "Soil_Moisture                1.208306  \n",
      "Soil_Temperature            38.683993  \n",
      "Wind_Dir_Sin               102.171561  \n",
      "Wind_Dir_Cos               114.193571  \n",
      "The MAE for this fold was 0.08570353493707669\n",
      "Results of trial 90 saved in optuna_iteration_metrics/trial_90.json\n",
      "Current value: 0.08570353493707669, Current params: {'input_chunk_length': 32, 'output_chunk_length': 1, 'dropout': 0.12363452166863391, 'batch_size': 86, 'lr': 0.004065715349889218, 'weight_decay': 5.639205865576639e-05, 'num_filters': 50, 'kernel_size': 8, 'num_layers': 3, 'dilation_base': 2, 'weight_norm': True, 'loss_fn': 'smoothl1', 'optimizer': 'Adam'}\n",
      "Best value: 0.08353507711014438, Best params: {'input_chunk_length': 29, 'output_chunk_length': 1, 'dropout': 0.10987578257441336, 'batch_size': 107, 'lr': 0.004525867812805064, 'weight_decay': 0.00015619537785532893, 'num_filters': 50, 'kernel_size': 8, 'num_layers': 3, 'dilation_base': 4, 'weight_norm': True, 'loss_fn': 'smoothl1', 'optimizer': 'AdamW'}\n"
     ]
    }
   ],
   "execution_count": 7
  },
  {
   "metadata": {
    "ExecuteTime": {
     "end_time": "2025-05-26T02:59:07.558743Z",
     "start_time": "2025-05-26T02:59:07.556240Z"
    }
   },
   "cell_type": "code",
   "execution_count": null,
   "id": "d37bce4e436d5fb4",
   "metadata": {},
   "outputs": [
    {
     "name": "stdout",
     "output_type": "stream",
     "text": [
      "Best MASE Value (Minimum): 50.57312882294932\n",
      "Best Parameters: {'input_chunk_length': 24, 'hidden_size': 144, 'dropout': 0.4, 'batch_size': 64, 'lr': 0.004149646453870474, 'weight_decay': 0.001234370270520789, 'num_encoder_layers': 3, 'num_decoder_layers': 2, 'temporal_width_past': 3, 'temporal_width_future': 1, 'use_reversible_instance_norm': True, 'temporal_hidden_size_past': 36, 'temporal_hidden_size_future': 144}\n"
     ]
    }
   ],
   "source": [
    "print(f\"Best MASE Value (Minimum): {study.best_value}\")\n",
    "print(f\"Best Parameters: {study.best_params}\")"
   ],
   "id": "6d067f70903d0a12",
   "outputs": [
    {
     "name": "stdout",
     "output_type": "stream",
     "text": [
      "Best Value (Minimum): 0.08353507711014438\n",
      "Best Parameters: {'input_chunk_length': 29, 'output_chunk_length': 1, 'dropout': 0.10987578257441336, 'batch_size': 107, 'lr': 0.004525867812805064, 'weight_decay': 0.00015619537785532893, 'num_filters': 50, 'kernel_size': 8, 'num_layers': 3, 'dilation_base': 4, 'weight_norm': True, 'loss_fn': 'smoothl1', 'optimizer': 'AdamW'}\n"
     ]
    }
   ],
   "execution_count": 8
  },
  {
   "metadata": {
    "ExecuteTime": {
     "end_time": "2025-05-26T02:59:07.631641Z",
     "start_time": "2025-05-26T02:59:07.628558Z"
    }
   },
   "cell_type": "code",
   "execution_count": null,
   "id": "de912349146bf8df",
   "metadata": {},
   "outputs": [
    {
     "name": "stdout",
     "output_type": "stream",
     "text": [
      "Best results saved in optuna_iteration_metrics/best_trial.json\n"
     ]
    }
   ],
   "source": [
    "best_dict = {\n",
    "    \"best_value\": study.best_value,\n",
    "    \"best_params\": study.best_params,\n",
    "}\n",
    "json_path = os.path.join(results_output_dir, \"best_trial.json\")\n",
    "with open(json_path, 'w') as f:\n",
    "    json.dump(best_dict, f, indent=4)\n",
    "print(f\"Best results saved in {json_path}\")\n"
   ]
  }
 ],
 "metadata": {
  "jupytext": {
   "cell_metadata_filter": "-all",
   "main_language": "python",
   "notebook_metadata_filter": "-all"
  },
  "kernelspec": {
   "display_name": "Torch",
   "language": "python",
   "name": "torch"
  },
  "language_info": {
   "codemirror_mode": {
    "name": "ipython",
    "version": 3
   },
   "file_extension": ".py",
   "mimetype": "text/x-python",
   "name": "python",
   "nbconvert_exporter": "python",
   "pygments_lexer": "ipython3",
   "version": "3.12.3"
  }
 },
 "nbformat": 4,
 "nbformat_minor": 5
}
