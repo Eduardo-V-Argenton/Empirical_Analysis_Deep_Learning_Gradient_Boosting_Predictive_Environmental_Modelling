{
 "cells": [
  {
   "metadata": {
    "ExecuteTime": {
     "end_time": "2025-05-25T20:11:10.000184Z",
     "start_time": "2025-05-25T20:11:06.543600Z"
    }
   },
   "cell_type": "code",
   "source": [
    "import matplotlib.pyplot as plt\n",
    "import numpy as np\n",
    "import pandas as pd\n",
    "from darts import TimeSeries\n",
    "from darts.models import BlockRNNModel\n",
    "from darts.metrics import mse, rmse, r2_score, mae, smape\n",
    "from darts.dataprocessing.transformers import Scaler\n",
    "import torch\n",
    "from optuna.integration import PyTorchLightningPruningCallback\n",
    "from pytorch_lightning.callbacks import Callback, EarlyStopping\n",
    "import optuna\n",
    "import os\n",
    "import json\n",
    "\n",
    "# Visualization settings\n",
    "plt.style.use('ggplot')\n",
    "plt.rcParams['figure.figsize'] = (12, 6)\n",
    "torch.set_float32_matmul_precision('medium')"
   ],
   "id": "681348aab4cd9f9e",
   "outputs": [],
   "execution_count": 1
  },
  {
   "metadata": {
    "ExecuteTime": {
     "end_time": "2025-05-25T20:11:10.058405Z",
     "start_time": "2025-05-25T20:11:10.046026Z"
    }
   },
   "cell_type": "code",
   "source": [
    "target_columns = [\n",
    "    'Temperature','Precipitation_accumulated','Humidity', 'Wind_Speed_kmh',\n",
    "    'Soil_Moisture', 'Soil_Temperature', 'Wind_Dir_Sin', 'Wind_Dir_Cos'\n",
    "]\n",
    "\n",
    "DATA_FILE_PATH = \"../data/ground_station_clean.csv\"\n",
    "df = pd.read_csv(DATA_FILE_PATH)"
   ],
   "id": "1aeae5fb20a9461e",
   "outputs": [],
   "execution_count": 2
  },
  {
   "metadata": {
    "ExecuteTime": {
     "end_time": "2025-05-25T20:11:10.097572Z",
     "start_time": "2025-05-25T20:11:10.095676Z"
    }
   },
   "cell_type": "code",
   "source": [
    "encoders = {\n",
    "    \"cyclic\": {\n",
    "        \"past\": [\"month\", \"dayofyear\", \"day\", \"hour\", \"minute\"],\n",
    "        \"future\": [\"month\", \"dayofyear\", \"day\", \"hour\", \"minute\"]\n",
    "    },\n",
    "    \"transformer\": Scaler(),\n",
    "    \"datetime_attribute\": {\n",
    "        \"past\": [\"year\"],\n",
    "        \"future\": [\"year\"]\n",
    "    }\n",
    "}\n"
   ],
   "id": "def2c882f0e74f35",
   "outputs": [],
   "execution_count": 3
  },
  {
   "metadata": {
    "ExecuteTime": {
     "end_time": "2025-05-25T20:11:10.145441Z",
     "start_time": "2025-05-25T20:11:10.143388Z"
    }
   },
   "cell_type": "code",
   "source": [
    "class PatchedPruningCallback(PyTorchLightningPruningCallback, Callback):\n",
    "    pass\n",
    "\n",
    "# Create directory to save iteration results\n",
    "results_output_dir = \"optuna_iteration_metrics\"\n",
    "os.makedirs(results_output_dir, exist_ok=True)"
   ],
   "id": "69a1e0daa0e77178",
   "outputs": [],
   "execution_count": 4
  },
  {
   "metadata": {
    "ExecuteTime": {
     "end_time": "2025-05-25T20:11:10.202843Z",
     "start_time": "2025-05-25T20:11:10.193560Z"
    }
   },
   "cell_type": "code",
   "source": [
    "def objective(trial):\n",
    "    input_chunk_length = trial.suggest_int(\"input_chunk_length\", 24, 72)\n",
    "    output_chunk_length = trial.suggest_int(\"output_chunk_length\", 1, 24)\n",
    "    hidden_size = trial.suggest_int(\"hidden_size\", 32, 256)\n",
    "    layer_size = trial.suggest_int(\"layer_size\", 1, 3)\n",
    "    dropout = trial.suggest_float(\"dropout\", 0.1, 0.5)\n",
    "    batch_size = trial.suggest_int(\"batch_size\", 64, 256)\n",
    "    lr = trial.suggest_float(\"lr\", 1e-6, 5e-3, log=True)\n",
    "    weight_decay = trial.suggest_float(\"weight_decay\", 1e-6, 1e-2, log=True)\n",
    "\n",
    "    # Try different loss functions\n",
    "    loss_functions = {\n",
    "        'mse': torch.nn.MSELoss(),\n",
    "        'mae': torch.nn.L1Loss(),\n",
    "        'huber': torch.nn.HuberLoss(delta=1.0),\n",
    "        'smoothl1': torch.nn.SmoothL1Loss()\n",
    "    }\n",
    "    loss_name = trial.suggest_categorical(\"loss_fn\", list(loss_functions.keys()))\n",
    "\n",
    "    # Try different optimizers\n",
    "    optimizer_names = ['Adam', 'AdamW', 'RMSprop', 'SGD']\n",
    "    optimizer_name = trial.suggest_categorical(\"optimizer\", optimizer_names)\n",
    "    optimizer_dict = {\n",
    "        'Adam': torch.optim.Adam,\n",
    "        'AdamW': torch.optim.AdamW,\n",
    "        'RMSprop': torch.optim.RMSprop,\n",
    "        'SGD': torch.optim.SGD\n",
    "    }\n",
    "\n",
    "    early_stopper = EarlyStopping(\"val_loss\", min_delta=0.0005, patience=15, verbose=True)\n",
    "    prunner = PatchedPruningCallback(trial, monitor=\"val_loss\")\n",
    "    pl_trainer_kwargs = {\n",
    "        \"accelerator\": \"auto\",\n",
    "        \"callbacks\": [early_stopper, prunner],\n",
    "    }\n",
    "    n = int(len(df) * 0.8)\n",
    "    train_df_fold, val_df_fold = df.iloc[:n], df.iloc[n:]\n",
    "    train_fold = TimeSeries.from_dataframe(train_df_fold, time_col=\"Timestamp\", value_cols=target_columns, freq='1h')\n",
    "    val_fold = TimeSeries.from_dataframe(val_df_fold, time_col=\"Timestamp\", value_cols=target_columns, freq='1h')\n",
    "\n",
    "    print(f\"\\nStarting Trial {trial.number}\")\n",
    "    print(f\"Hyperparameters: {trial.params}\")\n",
    "    print(\"\\nTraining the model...\")\n",
    "    print(f\"Train set: {len(train_fold)} samples\")\n",
    "    print(f\"Validation set: {len(val_fold)} samples\")\n",
    "\n",
    "    scaler = Scaler()\n",
    "    scaler = scaler.fit(train_fold)\n",
    "    train_scaled = scaler.transform(train_fold)\n",
    "    val_scaled = scaler.transform(val_fold)\n",
    "\n",
    "    _work_dir = \"/home/eduardo/Documentos/Water-Cycle-Neural-Network/darts_logs/\"\n",
    "    _model_name = \"model_optuna_temp\"\n",
    "    os.makedirs(_work_dir, exist_ok=True)\n",
    "\n",
    "    # Additional optimizer kwargs based on optimizer type\n",
    "    opt_kwargs = {\"lr\": lr, \"weight_decay\": weight_decay}\n",
    "    if optimizer_name == 'SGD':\n",
    "        opt_kwargs['momentum'] = 0.9\n",
    "\n",
    "    model = BlockRNNModel(\n",
    "        model=\"GRU\",\n",
    "        model_name=_model_name,\n",
    "        work_dir=_work_dir,\n",
    "        input_chunk_length=input_chunk_length,\n",
    "        output_chunk_length=output_chunk_length,\n",
    "        hidden_dim=hidden_size,\n",
    "        n_rnn_layers=layer_size,\n",
    "        n_epochs=30,\n",
    "        batch_size=batch_size,\n",
    "        dropout=dropout,\n",
    "        add_encoders=encoders,\n",
    "        pl_trainer_kwargs=pl_trainer_kwargs,\n",
    "        loss_fn=loss_functions[loss_name],\n",
    "        optimizer_cls=optimizer_dict[optimizer_name],\n",
    "        lr_scheduler_cls=torch.optim.lr_scheduler.ReduceLROnPlateau,\n",
    "        lr_scheduler_kwargs={\"mode\": \"min\", \"factor\": 0.3, \"patience\": 5, \"min_lr\": 1e-7},\n",
    "        save_checkpoints=True,\n",
    "        show_warnings=True,\n",
    "        force_reset=True,\n",
    "        optimizer_kwargs=opt_kwargs,\n",
    "    )\n",
    "    model.fit(\n",
    "        series=train_scaled,\n",
    "        val_series=val_scaled,\n",
    "        verbose=False,\n",
    "        dataloader_kwargs={\"num_workers\": 11},\n",
    "    )\n",
    "\n",
    "    try:\n",
    "        loaded_model = BlockRNNModel.load_from_checkpoint(model_name=_model_name, work_dir=_work_dir, best=True)\n",
    "        print(f\"Model loaded from checkpoint for trial {trial.number}\")\n",
    "    except FileNotFoundError:\n",
    "        print(f\"Checkpoint not found for {_model_name} in {_work_dir}. Using the in-memory trained model.\")\n",
    "        loaded_model = model\n",
    "\n",
    "    forecasts = loaded_model.historical_forecasts(\n",
    "        val_scaled,\n",
    "        forecast_horizon=output_chunk_length,\n",
    "        stride=1,\n",
    "        retrain=False,\n",
    "        verbose=False\n",
    "    )\n",
    "\n",
    "    forecasts_t = scaler.inverse_transform(forecasts)\n",
    "    s = scaler.inverse_transform(val_scaled)\n",
    "    metrics = {}\n",
    "    print(\"Starting time series verification for consistency...\")\n",
    "    try:\n",
    "        for target in target_columns:\n",
    "            metrics[target] = {\n",
    "                'MSE': mse(s[target], forecasts_t[target]),\n",
    "                'RMSE': rmse(s[target], forecasts_t[target]),\n",
    "                'MAE': mae(s[target], forecasts_t[target]),\n",
    "                'R2': r2_score(s[target], forecasts_t[target]),\n",
    "                'SMAPE': smape(s[target], forecasts_t[target]),\n",
    "            }\n",
    "        metrics_df = pd.DataFrame(metrics).T\n",
    "        print(\"\\nPerformance metrics:\")\n",
    "        print(metrics_df)\n",
    "    except Exception as e:\n",
    "        print(e)\n",
    "\n",
    "    overall_mae_val = mae(val_scaled, forecasts)\n",
    "    print(f\"The MAE for this fold was {overall_mae_val}\")\n",
    "\n",
    "    trial_dict = {\n",
    "        \"trial_number\": trial.number,\n",
    "        \"input_chunk_length\": input_chunk_length,\n",
    "        \"output_chunk_length\": output_chunk_length,\n",
    "        \"hidden_size\": hidden_size,\n",
    "        \"layer_size\": layer_size,\n",
    "        \"dropout\": dropout,\n",
    "        \"batch_size\": batch_size,\n",
    "        \"lr\": lr,\n",
    "        \"loss_function\": loss_name,\n",
    "        \"optimizer\": optimizer_name,\n",
    "        \"overall_mae_val\": overall_mae_val,\n",
    "        \"metrics\": metrics_df.to_dict(),\n",
    "    }\n",
    "    json_path = os.path.join(results_output_dir, f\"trial_{trial.number}.json\")\n",
    "    with open(json_path, 'w') as f:\n",
    "        json.dump(trial_dict, f, indent=4)\n",
    "    print(f\"Results of trial {trial.number} saved in {json_path}\")\n",
    "    return overall_mae_val if not np.isnan(overall_mae_val) else float(\"inf\")\n"
   ],
   "id": "ee06f7d60beca5aa",
   "outputs": [],
   "execution_count": 5
  },
  {
   "metadata": {
    "ExecuteTime": {
     "end_time": "2025-05-25T20:11:10.245113Z",
     "start_time": "2025-05-25T20:11:10.243080Z"
    }
   },
   "cell_type": "code",
   "source": [
    "def print_callback(study, trial):\n",
    "    print(f\"Current value: {trial.value}, Current params: {trial.params}\")\n",
    "    print(f\"Best value: {study.best_value}, Best params: {study.best_trial.params}\")"
   ],
   "id": "d602a9025856ed67",
   "outputs": [],
   "execution_count": 6
  },
  {
   "metadata": {
    "ExecuteTime": {
     "end_time": "2025-05-25T21:06:06.969169Z",
     "start_time": "2025-05-25T20:11:10.290034Z"
    }
   },
   "cell_type": "code",
   "source": [
    "study = optuna.create_study(direction=\"minimize\")\n",
    "num_hyperparams = 10\n",
    "n_trials = 7 * num_hyperparams\n",
    "study.optimize(objective, n_trials=n_trials, callbacks=[print_callback])"
   ],
   "id": "fde1e338d432369f",
   "outputs": [
    {
     "name": "stderr",
     "output_type": "stream",
     "text": [
      "[I 2025-05-25 17:11:10,290] A new study created in memory with name: no-name-11cecc3f-e79b-418d-be3e-4645e889bdee\n"
     ]
    },
    {
     "name": "stdout",
     "output_type": "stream",
     "text": [
      "\n",
      "Starting Trial 0\n",
      "Hyperparameters: {'input_chunk_length': 34, 'output_chunk_length': 15, 'hidden_size': 43, 'layer_size': 3, 'dropout': 0.3016939481953512, 'batch_size': 116, 'lr': 6.840649584233789e-06, 'weight_decay': 0.008123911566977083, 'loss_fn': 'mae', 'optimizer': 'RMSprop'}\n",
      "\n",
      "Training the model...\n",
      "Train set: 6647 samples\n",
      "Validation set: 1662 samples\n"
     ]
    },
    {
     "name": "stderr",
     "output_type": "stream",
     "text": [
      "Specified future encoders in `add_encoders` at model creation but model does not accept future covariates. future encoders will be ignored.\n",
      "GPU available: True (cuda), used: True\n",
      "TPU available: False, using: 0 TPU cores\n",
      "HPU available: False, using: 0 HPUs\n",
      "LOCAL_RANK: 0 - CUDA_VISIBLE_DEVICES: [0]\n",
      "Metric val_loss improved. New best score: 0.530\n",
      "Metric val_loss improved by 0.003 >= min_delta = 0.0005. New best score: 0.527\n",
      "Metric val_loss improved by 0.003 >= min_delta = 0.0005. New best score: 0.524\n",
      "Metric val_loss improved by 0.003 >= min_delta = 0.0005. New best score: 0.522\n",
      "Metric val_loss improved by 0.002 >= min_delta = 0.0005. New best score: 0.519\n",
      "Metric val_loss improved by 0.002 >= min_delta = 0.0005. New best score: 0.517\n",
      "Metric val_loss improved by 0.002 >= min_delta = 0.0005. New best score: 0.514\n",
      "Metric val_loss improved by 0.002 >= min_delta = 0.0005. New best score: 0.512\n",
      "Metric val_loss improved by 0.002 >= min_delta = 0.0005. New best score: 0.510\n",
      "Metric val_loss improved by 0.002 >= min_delta = 0.0005. New best score: 0.507\n",
      "Metric val_loss improved by 0.002 >= min_delta = 0.0005. New best score: 0.505\n",
      "Metric val_loss improved by 0.002 >= min_delta = 0.0005. New best score: 0.502\n",
      "Metric val_loss improved by 0.002 >= min_delta = 0.0005. New best score: 0.500\n",
      "Metric val_loss improved by 0.003 >= min_delta = 0.0005. New best score: 0.497\n",
      "Metric val_loss improved by 0.003 >= min_delta = 0.0005. New best score: 0.495\n",
      "Metric val_loss improved by 0.003 >= min_delta = 0.0005. New best score: 0.492\n",
      "Metric val_loss improved by 0.003 >= min_delta = 0.0005. New best score: 0.489\n",
      "Metric val_loss improved by 0.003 >= min_delta = 0.0005. New best score: 0.487\n",
      "Metric val_loss improved by 0.003 >= min_delta = 0.0005. New best score: 0.484\n",
      "Metric val_loss improved by 0.003 >= min_delta = 0.0005. New best score: 0.481\n",
      "Metric val_loss improved by 0.003 >= min_delta = 0.0005. New best score: 0.478\n",
      "Metric val_loss improved by 0.003 >= min_delta = 0.0005. New best score: 0.475\n",
      "Metric val_loss improved by 0.003 >= min_delta = 0.0005. New best score: 0.473\n",
      "Metric val_loss improved by 0.003 >= min_delta = 0.0005. New best score: 0.470\n",
      "Metric val_loss improved by 0.003 >= min_delta = 0.0005. New best score: 0.466\n",
      "Metric val_loss improved by 0.003 >= min_delta = 0.0005. New best score: 0.463\n",
      "Metric val_loss improved by 0.003 >= min_delta = 0.0005. New best score: 0.460\n",
      "Metric val_loss improved by 0.003 >= min_delta = 0.0005. New best score: 0.457\n",
      "Metric val_loss improved by 0.003 >= min_delta = 0.0005. New best score: 0.454\n",
      "Metric val_loss improved by 0.003 >= min_delta = 0.0005. New best score: 0.450\n",
      "`Trainer.fit` stopped: `max_epochs=30` reached.\n",
      "GPU available: True (cuda), used: True\n",
      "TPU available: False, using: 0 TPU cores\n",
      "HPU available: False, using: 0 HPUs\n",
      "LOCAL_RANK: 0 - CUDA_VISIBLE_DEVICES: [0]\n"
     ]
    },
    {
     "name": "stdout",
     "output_type": "stream",
     "text": [
      "Model loaded from checkpoint for trial 0\n"
     ]
    },
    {
     "name": "stderr",
     "output_type": "stream",
     "text": [
      "/home/eduardo/Documentos/Water-Cycle-Neural-Network/venv/lib/python3.12/site-packages/pytorch_lightning/trainer/connectors/data_connector.py:425: The 'predict_dataloader' does not have many workers which may be a bottleneck. Consider increasing the value of the `num_workers` argument` to `num_workers=11` in the `DataLoader` to improve performance.\n",
      "[I 2025-05-25 17:12:07,036] Trial 0 finished with value: 0.4768506467382286 and parameters: {'input_chunk_length': 34, 'output_chunk_length': 15, 'hidden_size': 43, 'layer_size': 3, 'dropout': 0.3016939481953512, 'batch_size': 116, 'lr': 6.840649584233789e-06, 'weight_decay': 0.008123911566977083, 'loss_fn': 'mae', 'optimizer': 'RMSprop'}. Best is trial 0 with value: 0.4768506467382286.\n",
      "Specified future encoders in `add_encoders` at model creation but model does not accept future covariates. future encoders will be ignored.\n",
      "GPU available: True (cuda), used: True\n",
      "TPU available: False, using: 0 TPU cores\n",
      "HPU available: False, using: 0 HPUs\n",
      "LOCAL_RANK: 0 - CUDA_VISIBLE_DEVICES: [0]\n"
     ]
    },
    {
     "name": "stdout",
     "output_type": "stream",
     "text": [
      "Starting time series verification for consistency...\n",
      "\n",
      "Performance metrics:\n",
      "                                    MSE         RMSE          MAE  \\\n",
      "Temperature                3.528233e+01     5.939893     4.907201   \n",
      "Precipitation_accumulated  1.755267e+05   418.959093   418.919025   \n",
      "Humidity                   5.923858e+03    76.966602    75.917004   \n",
      "Wind_Speed_kmh             2.100071e+00     1.449162     1.097373   \n",
      "Soil_Moisture              8.432624e+06  2903.898009  2893.173267   \n",
      "Soil_Temperature           1.882657e+01     4.338960     3.552680   \n",
      "Wind_Dir_Sin               1.554353e+00     1.246737     1.046854   \n",
      "Wind_Dir_Cos               1.362931e+00     1.167446     0.995528   \n",
      "\n",
      "                                     R2       SMAPE  \n",
      "Temperature                   -0.156834   57.776762  \n",
      "Precipitation_accumulated -52701.237910  164.290168  \n",
      "Humidity                     -39.399276  153.667384  \n",
      "Wind_Speed_kmh                -0.559835   96.722553  \n",
      "Soil_Moisture               -157.970434   40.503925  \n",
      "Soil_Temperature              -0.169523   48.149020  \n",
      "Wind_Dir_Sin                  -1.825477  140.270315  \n",
      "Wind_Dir_Cos                  -2.712255  119.449372  \n",
      "The R2 for this fold was 0.4768506467382286\n",
      "Results of trial 0 saved in optuna_iteration_metrics/trial_0.json\n",
      "Current value: 0.4768506467382286, Current params: {'input_chunk_length': 34, 'output_chunk_length': 15, 'hidden_size': 43, 'layer_size': 3, 'dropout': 0.3016939481953512, 'batch_size': 116, 'lr': 6.840649584233789e-06, 'weight_decay': 0.008123911566977083, 'loss_fn': 'mae', 'optimizer': 'RMSprop'}\n",
      "Best value: 0.4768506467382286, Best params: {'input_chunk_length': 34, 'output_chunk_length': 15, 'hidden_size': 43, 'layer_size': 3, 'dropout': 0.3016939481953512, 'batch_size': 116, 'lr': 6.840649584233789e-06, 'weight_decay': 0.008123911566977083, 'loss_fn': 'mae', 'optimizer': 'RMSprop'}\n",
      "\n",
      "Starting Trial 1\n",
      "Hyperparameters: {'input_chunk_length': 63, 'output_chunk_length': 10, 'hidden_size': 108, 'layer_size': 2, 'dropout': 0.13966120627658027, 'batch_size': 73, 'lr': 1.470621007512679e-06, 'weight_decay': 5.5638989860649654e-06, 'loss_fn': 'smoothl1', 'optimizer': 'Adam'}\n",
      "\n",
      "Training the model...\n",
      "Train set: 6647 samples\n",
      "Validation set: 1662 samples\n"
     ]
    },
    {
     "name": "stderr",
     "output_type": "stream",
     "text": [
      "Metric val_loss improved. New best score: 0.201\n",
      "Metric val_loss improved by 0.002 >= min_delta = 0.0005. New best score: 0.199\n",
      "Metric val_loss improved by 0.002 >= min_delta = 0.0005. New best score: 0.198\n",
      "Metric val_loss improved by 0.002 >= min_delta = 0.0005. New best score: 0.196\n",
      "Metric val_loss improved by 0.002 >= min_delta = 0.0005. New best score: 0.194\n",
      "Metric val_loss improved by 0.002 >= min_delta = 0.0005. New best score: 0.193\n",
      "Metric val_loss improved by 0.002 >= min_delta = 0.0005. New best score: 0.191\n",
      "Metric val_loss improved by 0.002 >= min_delta = 0.0005. New best score: 0.190\n",
      "Metric val_loss improved by 0.002 >= min_delta = 0.0005. New best score: 0.188\n",
      "Metric val_loss improved by 0.002 >= min_delta = 0.0005. New best score: 0.186\n",
      "Metric val_loss improved by 0.002 >= min_delta = 0.0005. New best score: 0.184\n",
      "Metric val_loss improved by 0.002 >= min_delta = 0.0005. New best score: 0.183\n",
      "Metric val_loss improved by 0.002 >= min_delta = 0.0005. New best score: 0.181\n",
      "Metric val_loss improved by 0.002 >= min_delta = 0.0005. New best score: 0.179\n",
      "Metric val_loss improved by 0.002 >= min_delta = 0.0005. New best score: 0.177\n",
      "Metric val_loss improved by 0.002 >= min_delta = 0.0005. New best score: 0.175\n",
      "Metric val_loss improved by 0.002 >= min_delta = 0.0005. New best score: 0.173\n",
      "Metric val_loss improved by 0.002 >= min_delta = 0.0005. New best score: 0.170\n",
      "Metric val_loss improved by 0.002 >= min_delta = 0.0005. New best score: 0.168\n",
      "Metric val_loss improved by 0.002 >= min_delta = 0.0005. New best score: 0.166\n",
      "Metric val_loss improved by 0.003 >= min_delta = 0.0005. New best score: 0.163\n",
      "Metric val_loss improved by 0.003 >= min_delta = 0.0005. New best score: 0.160\n",
      "Metric val_loss improved by 0.003 >= min_delta = 0.0005. New best score: 0.158\n",
      "Metric val_loss improved by 0.003 >= min_delta = 0.0005. New best score: 0.155\n",
      "Metric val_loss improved by 0.003 >= min_delta = 0.0005. New best score: 0.152\n",
      "Metric val_loss improved by 0.003 >= min_delta = 0.0005. New best score: 0.149\n",
      "Metric val_loss improved by 0.003 >= min_delta = 0.0005. New best score: 0.146\n",
      "Metric val_loss improved by 0.003 >= min_delta = 0.0005. New best score: 0.143\n",
      "Metric val_loss improved by 0.003 >= min_delta = 0.0005. New best score: 0.139\n",
      "Metric val_loss improved by 0.003 >= min_delta = 0.0005. New best score: 0.136\n",
      "`Trainer.fit` stopped: `max_epochs=30` reached.\n",
      "GPU available: True (cuda), used: True\n",
      "TPU available: False, using: 0 TPU cores\n",
      "HPU available: False, using: 0 HPUs\n",
      "LOCAL_RANK: 0 - CUDA_VISIBLE_DEVICES: [0]\n"
     ]
    },
    {
     "name": "stdout",
     "output_type": "stream",
     "text": [
      "Model loaded from checkpoint for trial 1\n"
     ]
    },
    {
     "name": "stderr",
     "output_type": "stream",
     "text": [
      "/home/eduardo/Documentos/Water-Cycle-Neural-Network/venv/lib/python3.12/site-packages/pytorch_lightning/trainer/connectors/data_connector.py:425: The 'predict_dataloader' does not have many workers which may be a bottleneck. Consider increasing the value of the `num_workers` argument` to `num_workers=11` in the `DataLoader` to improve performance.\n",
      "[I 2025-05-25 17:13:31,178] Trial 1 finished with value: 0.42109332320660975 and parameters: {'input_chunk_length': 63, 'output_chunk_length': 10, 'hidden_size': 108, 'layer_size': 2, 'dropout': 0.13966120627658027, 'batch_size': 73, 'lr': 1.470621007512679e-06, 'weight_decay': 5.5638989860649654e-06, 'loss_fn': 'smoothl1', 'optimizer': 'Adam'}. Best is trial 1 with value: 0.42109332320660975.\n",
      "Specified future encoders in `add_encoders` at model creation but model does not accept future covariates. future encoders will be ignored.\n",
      "GPU available: True (cuda), used: True\n",
      "TPU available: False, using: 0 TPU cores\n",
      "HPU available: False, using: 0 HPUs\n",
      "LOCAL_RANK: 0 - CUDA_VISIBLE_DEVICES: [0]\n"
     ]
    },
    {
     "name": "stdout",
     "output_type": "stream",
     "text": [
      "Starting time series verification for consistency...\n",
      "\n",
      "Performance metrics:\n",
      "                                    MSE         RMSE          MAE  \\\n",
      "Temperature                7.622474e+01     8.730678     7.388313   \n",
      "Precipitation_accumulated  1.709062e+05   413.408033   413.279671   \n",
      "Humidity                   4.073895e+03    63.827070    62.628338   \n",
      "Wind_Speed_kmh             2.972345e+00     1.724049     1.329932   \n",
      "Soil_Moisture              5.238771e+06  2288.836157  2274.596286   \n",
      "Soil_Temperature           3.142819e+01     5.606085     4.496957   \n",
      "Wind_Dir_Sin               1.386225e+00     1.177380     0.995378   \n",
      "Wind_Dir_Cos               4.288474e-01     0.654864     0.538766   \n",
      "\n",
      "                                     R2       SMAPE  \n",
      "Temperature                   -1.504234  137.462003  \n",
      "Precipitation_accumulated -53502.183107  160.338216  \n",
      "Humidity                     -26.705531  111.703425  \n",
      "Wind_Speed_kmh                -1.200126  142.765771  \n",
      "Soil_Moisture               -109.677929   30.489324  \n",
      "Soil_Temperature              -0.965203   58.936216  \n",
      "Wind_Dir_Sin                  -1.530801  141.678855  \n",
      "Wind_Dir_Cos                  -0.166191  111.723826  \n",
      "The R2 for this fold was 0.42109332320660975\n",
      "Results of trial 1 saved in optuna_iteration_metrics/trial_1.json\n",
      "Current value: 0.42109332320660975, Current params: {'input_chunk_length': 63, 'output_chunk_length': 10, 'hidden_size': 108, 'layer_size': 2, 'dropout': 0.13966120627658027, 'batch_size': 73, 'lr': 1.470621007512679e-06, 'weight_decay': 5.5638989860649654e-06, 'loss_fn': 'smoothl1', 'optimizer': 'Adam'}\n",
      "Best value: 0.42109332320660975, Best params: {'input_chunk_length': 63, 'output_chunk_length': 10, 'hidden_size': 108, 'layer_size': 2, 'dropout': 0.13966120627658027, 'batch_size': 73, 'lr': 1.470621007512679e-06, 'weight_decay': 5.5638989860649654e-06, 'loss_fn': 'smoothl1', 'optimizer': 'Adam'}\n",
      "\n",
      "Starting Trial 2\n",
      "Hyperparameters: {'input_chunk_length': 49, 'output_chunk_length': 20, 'hidden_size': 232, 'layer_size': 2, 'dropout': 0.4255252147789683, 'batch_size': 235, 'lr': 0.000503042274934599, 'weight_decay': 0.002379745680069295, 'loss_fn': 'smoothl1', 'optimizer': 'RMSprop'}\n",
      "\n",
      "Training the model...\n",
      "Train set: 6647 samples\n",
      "Validation set: 1662 samples\n"
     ]
    },
    {
     "name": "stderr",
     "output_type": "stream",
     "text": [
      "Metric val_loss improved. New best score: 0.043\n",
      "Monitored metric val_loss did not improve in the last 15 records. Best score: 0.043. Signaling Trainer to stop.\n",
      "GPU available: True (cuda), used: True\n",
      "TPU available: False, using: 0 TPU cores\n",
      "HPU available: False, using: 0 HPUs\n",
      "LOCAL_RANK: 0 - CUDA_VISIBLE_DEVICES: [0]\n"
     ]
    },
    {
     "name": "stdout",
     "output_type": "stream",
     "text": [
      "Model loaded from checkpoint for trial 2\n"
     ]
    },
    {
     "name": "stderr",
     "output_type": "stream",
     "text": [
      "/home/eduardo/Documentos/Water-Cycle-Neural-Network/venv/lib/python3.12/site-packages/pytorch_lightning/trainer/connectors/data_connector.py:425: The 'predict_dataloader' does not have many workers which may be a bottleneck. Consider increasing the value of the `num_workers` argument` to `num_workers=11` in the `DataLoader` to improve performance.\n",
      "[I 2025-05-25 17:14:17,447] Trial 2 finished with value: 0.23889723262448437 and parameters: {'input_chunk_length': 49, 'output_chunk_length': 20, 'hidden_size': 232, 'layer_size': 2, 'dropout': 0.4255252147789683, 'batch_size': 235, 'lr': 0.000503042274934599, 'weight_decay': 0.002379745680069295, 'loss_fn': 'smoothl1', 'optimizer': 'RMSprop'}. Best is trial 2 with value: 0.23889723262448437.\n",
      "Specified future encoders in `add_encoders` at model creation but model does not accept future covariates. future encoders will be ignored.\n",
      "/home/eduardo/Documentos/Water-Cycle-Neural-Network/venv/lib/python3.12/site-packages/torch/nn/modules/rnn.py:123: UserWarning: dropout option adds dropout after all but last recurrent layer, so non-zero dropout expects num_layers greater than 1, but got dropout=0.17642650116881478 and num_layers=1\n",
      "  warnings.warn(\n",
      "GPU available: True (cuda), used: True\n",
      "TPU available: False, using: 0 TPU cores\n",
      "HPU available: False, using: 0 HPUs\n",
      "LOCAL_RANK: 0 - CUDA_VISIBLE_DEVICES: [0]\n"
     ]
    },
    {
     "name": "stdout",
     "output_type": "stream",
     "text": [
      "Starting time series verification for consistency...\n",
      "\n",
      "Performance metrics:\n",
      "                                    MSE         RMSE         MAE  \\\n",
      "Temperature                7.141762e+01     8.450894    7.471705   \n",
      "Precipitation_accumulated  3.826889e+04   195.624364  183.893780   \n",
      "Humidity                   1.323026e+02    11.502287    9.974078   \n",
      "Wind_Speed_kmh             1.706484e+00     1.306324    1.009186   \n",
      "Soil_Moisture              1.018884e+06  1009.398018  969.639570   \n",
      "Soil_Temperature           7.604191e+01     8.720201    8.144911   \n",
      "Wind_Dir_Sin               5.685161e-01     0.754000    0.697209   \n",
      "Wind_Dir_Cos               6.508251e-01     0.806737    0.675687   \n",
      "\n",
      "                                     R2       SMAPE  \n",
      "Temperature                   -1.339131   71.828354  \n",
      "Precipitation_accumulated -11892.261703   51.276510  \n",
      "Humidity                       0.100594   11.725474  \n",
      "Wind_Speed_kmh                -0.265335   83.664271  \n",
      "Soil_Moisture                -20.125207   12.042190  \n",
      "Soil_Temperature              -3.740161   77.569260  \n",
      "Wind_Dir_Sin                  -0.039205  175.788828  \n",
      "Wind_Dir_Cos                  -0.764325  153.711253  \n",
      "The R2 for this fold was 0.23889723262448437\n",
      "Results of trial 2 saved in optuna_iteration_metrics/trial_2.json\n",
      "Current value: 0.23889723262448437, Current params: {'input_chunk_length': 49, 'output_chunk_length': 20, 'hidden_size': 232, 'layer_size': 2, 'dropout': 0.4255252147789683, 'batch_size': 235, 'lr': 0.000503042274934599, 'weight_decay': 0.002379745680069295, 'loss_fn': 'smoothl1', 'optimizer': 'RMSprop'}\n",
      "Best value: 0.23889723262448437, Best params: {'input_chunk_length': 49, 'output_chunk_length': 20, 'hidden_size': 232, 'layer_size': 2, 'dropout': 0.4255252147789683, 'batch_size': 235, 'lr': 0.000503042274934599, 'weight_decay': 0.002379745680069295, 'loss_fn': 'smoothl1', 'optimizer': 'RMSprop'}\n",
      "\n",
      "Starting Trial 3\n",
      "Hyperparameters: {'input_chunk_length': 49, 'output_chunk_length': 21, 'hidden_size': 237, 'layer_size': 1, 'dropout': 0.17642650116881478, 'batch_size': 107, 'lr': 5.7835751619463104e-05, 'weight_decay': 0.006766529066772187, 'loss_fn': 'smoothl1', 'optimizer': 'AdamW'}\n",
      "\n",
      "Training the model...\n",
      "Train set: 6647 samples\n",
      "Validation set: 1662 samples\n"
     ]
    },
    {
     "name": "stderr",
     "output_type": "stream",
     "text": [
      "Metric val_loss improved. New best score: 0.147\n",
      "Metric val_loss improved by 0.098 >= min_delta = 0.0005. New best score: 0.049\n",
      "Metric val_loss improved by 0.002 >= min_delta = 0.0005. New best score: 0.047\n",
      "Metric val_loss improved by 0.002 >= min_delta = 0.0005. New best score: 0.045\n",
      "Metric val_loss improved by 0.001 >= min_delta = 0.0005. New best score: 0.044\n",
      "Metric val_loss improved by 0.001 >= min_delta = 0.0005. New best score: 0.042\n",
      "Metric val_loss improved by 0.001 >= min_delta = 0.0005. New best score: 0.042\n",
      "Metric val_loss improved by 0.001 >= min_delta = 0.0005. New best score: 0.041\n",
      "Metric val_loss improved by 0.001 >= min_delta = 0.0005. New best score: 0.040\n",
      "Metric val_loss improved by 0.001 >= min_delta = 0.0005. New best score: 0.038\n",
      "Metric val_loss improved by 0.001 >= min_delta = 0.0005. New best score: 0.038\n",
      "Metric val_loss improved by 0.001 >= min_delta = 0.0005. New best score: 0.036\n",
      "Metric val_loss improved by 0.001 >= min_delta = 0.0005. New best score: 0.036\n",
      "Metric val_loss improved by 0.001 >= min_delta = 0.0005. New best score: 0.035\n",
      "Metric val_loss improved by 0.002 >= min_delta = 0.0005. New best score: 0.033\n",
      "Metric val_loss improved by 0.002 >= min_delta = 0.0005. New best score: 0.031\n",
      "Metric val_loss improved by 0.002 >= min_delta = 0.0005. New best score: 0.029\n",
      "Metric val_loss improved by 0.001 >= min_delta = 0.0005. New best score: 0.028\n",
      "Metric val_loss improved by 0.001 >= min_delta = 0.0005. New best score: 0.026\n",
      "Metric val_loss improved by 0.001 >= min_delta = 0.0005. New best score: 0.025\n",
      "`Trainer.fit` stopped: `max_epochs=30` reached.\n",
      "/home/eduardo/Documentos/Water-Cycle-Neural-Network/venv/lib/python3.12/site-packages/torch/nn/modules/rnn.py:123: UserWarning: dropout option adds dropout after all but last recurrent layer, so non-zero dropout expects num_layers greater than 1, but got dropout=0.17642650116881478 and num_layers=1\n",
      "  warnings.warn(\n",
      "GPU available: True (cuda), used: True\n",
      "TPU available: False, using: 0 TPU cores\n",
      "HPU available: False, using: 0 HPUs\n",
      "LOCAL_RANK: 0 - CUDA_VISIBLE_DEVICES: [0]\n",
      "/home/eduardo/Documentos/Water-Cycle-Neural-Network/venv/lib/python3.12/site-packages/pytorch_lightning/trainer/connectors/data_connector.py:425: The 'predict_dataloader' does not have many workers which may be a bottleneck. Consider increasing the value of the `num_workers` argument` to `num_workers=11` in the `DataLoader` to improve performance.\n"
     ]
    },
    {
     "name": "stdout",
     "output_type": "stream",
     "text": [
      "Model loaded from checkpoint for trial 3\n"
     ]
    },
    {
     "name": "stderr",
     "output_type": "stream",
     "text": [
      "[I 2025-05-25 17:15:12,546] Trial 3 finished with value: 0.15742939777599796 and parameters: {'input_chunk_length': 49, 'output_chunk_length': 21, 'hidden_size': 237, 'layer_size': 1, 'dropout': 0.17642650116881478, 'batch_size': 107, 'lr': 5.7835751619463104e-05, 'weight_decay': 0.006766529066772187, 'loss_fn': 'smoothl1', 'optimizer': 'AdamW'}. Best is trial 3 with value: 0.15742939777599796.\n",
      "Specified future encoders in `add_encoders` at model creation but model does not accept future covariates. future encoders will be ignored.\n",
      "GPU available: True (cuda), used: True\n",
      "TPU available: False, using: 0 TPU cores\n",
      "HPU available: False, using: 0 HPUs\n",
      "LOCAL_RANK: 0 - CUDA_VISIBLE_DEVICES: [0]\n"
     ]
    },
    {
     "name": "stdout",
     "output_type": "stream",
     "text": [
      "Starting time series verification for consistency...\n",
      "\n",
      "Performance metrics:\n",
      "                                     MSE        RMSE         MAE           R2  \\\n",
      "Temperature                    40.706382    6.380155    5.583637    -0.334068   \n",
      "Precipitation_accumulated    6632.303309   81.438954   67.776973 -2063.930772   \n",
      "Humidity                      159.899371   12.645132   10.375583    -0.087120   \n",
      "Wind_Speed_kmh                  1.361576    1.166866    0.948151    -0.009313   \n",
      "Soil_Moisture              103096.681189  321.086719  249.341707    -1.147103   \n",
      "Soil_Temperature               16.031251    4.003904    3.265184     0.000088   \n",
      "Wind_Dir_Sin                    0.570877    0.755564    0.670705    -0.043189   \n",
      "Wind_Dir_Cos                    0.397838    0.630744    0.523528    -0.079362   \n",
      "\n",
      "                                SMAPE  \n",
      "Temperature                107.737354  \n",
      "Precipitation_accumulated   16.295897  \n",
      "Humidity                    12.031679  \n",
      "Wind_Speed_kmh              74.703216  \n",
      "Soil_Moisture                2.970777  \n",
      "Soil_Temperature            75.657867  \n",
      "Wind_Dir_Sin               140.615892  \n",
      "Wind_Dir_Cos               117.303353  \n",
      "The R2 for this fold was 0.15742939777599796\n",
      "Results of trial 3 saved in optuna_iteration_metrics/trial_3.json\n",
      "Current value: 0.15742939777599796, Current params: {'input_chunk_length': 49, 'output_chunk_length': 21, 'hidden_size': 237, 'layer_size': 1, 'dropout': 0.17642650116881478, 'batch_size': 107, 'lr': 5.7835751619463104e-05, 'weight_decay': 0.006766529066772187, 'loss_fn': 'smoothl1', 'optimizer': 'AdamW'}\n",
      "Best value: 0.15742939777599796, Best params: {'input_chunk_length': 49, 'output_chunk_length': 21, 'hidden_size': 237, 'layer_size': 1, 'dropout': 0.17642650116881478, 'batch_size': 107, 'lr': 5.7835751619463104e-05, 'weight_decay': 0.006766529066772187, 'loss_fn': 'smoothl1', 'optimizer': 'AdamW'}\n",
      "\n",
      "Starting Trial 4\n",
      "Hyperparameters: {'input_chunk_length': 27, 'output_chunk_length': 11, 'hidden_size': 43, 'layer_size': 2, 'dropout': 0.29593912375586007, 'batch_size': 215, 'lr': 1.1481686291703734e-06, 'weight_decay': 0.0018181533769430077, 'loss_fn': 'mse', 'optimizer': 'SGD'}\n",
      "\n",
      "Training the model...\n",
      "Train set: 6647 samples\n",
      "Validation set: 1662 samples\n"
     ]
    },
    {
     "name": "stderr",
     "output_type": "stream",
     "text": [
      "Metric val_loss improved. New best score: 0.417\n",
      "Monitored metric val_loss did not improve in the last 15 records. Best score: 0.417. Signaling Trainer to stop.\n",
      "GPU available: True (cuda), used: True\n",
      "TPU available: False, using: 0 TPU cores\n",
      "HPU available: False, using: 0 HPUs\n",
      "LOCAL_RANK: 0 - CUDA_VISIBLE_DEVICES: [0]\n"
     ]
    },
    {
     "name": "stdout",
     "output_type": "stream",
     "text": [
      "Model loaded from checkpoint for trial 4\n"
     ]
    },
    {
     "name": "stderr",
     "output_type": "stream",
     "text": [
      "/home/eduardo/Documentos/Water-Cycle-Neural-Network/venv/lib/python3.12/site-packages/pytorch_lightning/trainer/connectors/data_connector.py:425: The 'predict_dataloader' does not have many workers which may be a bottleneck. Consider increasing the value of the `num_workers` argument` to `num_workers=11` in the `DataLoader` to improve performance.\n",
      "[I 2025-05-25 17:15:29,538] Trial 4 finished with value: 0.5017464408247523 and parameters: {'input_chunk_length': 27, 'output_chunk_length': 11, 'hidden_size': 43, 'layer_size': 2, 'dropout': 0.29593912375586007, 'batch_size': 215, 'lr': 1.1481686291703734e-06, 'weight_decay': 0.0018181533769430077, 'loss_fn': 'mse', 'optimizer': 'SGD'}. Best is trial 3 with value: 0.15742939777599796.\n",
      "Specified future encoders in `add_encoders` at model creation but model does not accept future covariates. future encoders will be ignored.\n",
      "/home/eduardo/Documentos/Water-Cycle-Neural-Network/venv/lib/python3.12/site-packages/torch/nn/modules/rnn.py:123: UserWarning: dropout option adds dropout after all but last recurrent layer, so non-zero dropout expects num_layers greater than 1, but got dropout=0.38385460663161464 and num_layers=1\n",
      "  warnings.warn(\n",
      "GPU available: True (cuda), used: True\n",
      "TPU available: False, using: 0 TPU cores\n",
      "HPU available: False, using: 0 HPUs\n",
      "LOCAL_RANK: 0 - CUDA_VISIBLE_DEVICES: [0]\n"
     ]
    },
    {
     "name": "stdout",
     "output_type": "stream",
     "text": [
      "Starting time series verification for consistency...\n",
      "\n",
      "Performance metrics:\n",
      "                                    MSE         RMSE          MAE  \\\n",
      "Temperature                1.585763e+02    12.592707    11.219330   \n",
      "Precipitation_accumulated  3.089080e+05   555.794916   555.562621   \n",
      "Humidity                   2.009971e+03    44.832705    43.308746   \n",
      "Wind_Speed_kmh             2.828330e+00     1.681764     1.276332   \n",
      "Soil_Moisture              5.130368e+06  2265.031593  2236.643857   \n",
      "Soil_Temperature           2.351116e+02    15.333349    14.848406   \n",
      "Wind_Dir_Sin               1.635178e+00     1.278741     1.072583   \n",
      "Wind_Dir_Cos               1.411677e+00     1.188140     1.005875   \n",
      "\n",
      "                                     R2       SMAPE  \n",
      "Temperature                   -4.190351  198.238345  \n",
      "Precipitation_accumulated -91127.042161  200.000000  \n",
      "Humidity                     -12.695083   65.093550  \n",
      "Wind_Speed_kmh                -1.096919  128.807428  \n",
      "Soil_Moisture                -91.807981   29.971832  \n",
      "Soil_Temperature             -13.582349  200.000000  \n",
      "Wind_Dir_Sin                  -1.969042  140.320635  \n",
      "Wind_Dir_Cos                  -2.849626  119.100541  \n",
      "The R2 for this fold was 0.5017464408247523\n",
      "Results of trial 4 saved in optuna_iteration_metrics/trial_4.json\n",
      "Current value: 0.5017464408247523, Current params: {'input_chunk_length': 27, 'output_chunk_length': 11, 'hidden_size': 43, 'layer_size': 2, 'dropout': 0.29593912375586007, 'batch_size': 215, 'lr': 1.1481686291703734e-06, 'weight_decay': 0.0018181533769430077, 'loss_fn': 'mse', 'optimizer': 'SGD'}\n",
      "Best value: 0.15742939777599796, Best params: {'input_chunk_length': 49, 'output_chunk_length': 21, 'hidden_size': 237, 'layer_size': 1, 'dropout': 0.17642650116881478, 'batch_size': 107, 'lr': 5.7835751619463104e-05, 'weight_decay': 0.006766529066772187, 'loss_fn': 'smoothl1', 'optimizer': 'AdamW'}\n",
      "\n",
      "Starting Trial 5\n",
      "Hyperparameters: {'input_chunk_length': 34, 'output_chunk_length': 24, 'hidden_size': 189, 'layer_size': 1, 'dropout': 0.38385460663161464, 'batch_size': 164, 'lr': 0.0016157660933682713, 'weight_decay': 6.300237918397102e-05, 'loss_fn': 'mse', 'optimizer': 'AdamW'}\n",
      "\n",
      "Training the model...\n",
      "Train set: 6647 samples\n",
      "Validation set: 1662 samples\n"
     ]
    },
    {
     "name": "stderr",
     "output_type": "stream",
     "text": [
      "Metric val_loss improved. New best score: 0.083\n",
      "Metric val_loss improved by 0.018 >= min_delta = 0.0005. New best score: 0.065\n",
      "Metric val_loss improved by 0.007 >= min_delta = 0.0005. New best score: 0.057\n",
      "Metric val_loss improved by 0.011 >= min_delta = 0.0005. New best score: 0.047\n",
      "Metric val_loss improved by 0.001 >= min_delta = 0.0005. New best score: 0.046\n",
      "Metric val_loss improved by 0.002 >= min_delta = 0.0005. New best score: 0.043\n",
      "Metric val_loss improved by 0.001 >= min_delta = 0.0005. New best score: 0.042\n",
      "Metric val_loss improved by 0.003 >= min_delta = 0.0005. New best score: 0.039\n",
      "Metric val_loss improved by 0.002 >= min_delta = 0.0005. New best score: 0.038\n",
      "Monitored metric val_loss did not improve in the last 15 records. Best score: 0.038. Signaling Trainer to stop.\n",
      "/home/eduardo/Documentos/Water-Cycle-Neural-Network/venv/lib/python3.12/site-packages/torch/nn/modules/rnn.py:123: UserWarning: dropout option adds dropout after all but last recurrent layer, so non-zero dropout expects num_layers greater than 1, but got dropout=0.38385460663161464 and num_layers=1\n",
      "  warnings.warn(\n",
      "GPU available: True (cuda), used: True\n",
      "TPU available: False, using: 0 TPU cores\n",
      "HPU available: False, using: 0 HPUs\n",
      "LOCAL_RANK: 0 - CUDA_VISIBLE_DEVICES: [0]\n",
      "/home/eduardo/Documentos/Water-Cycle-Neural-Network/venv/lib/python3.12/site-packages/pytorch_lightning/trainer/connectors/data_connector.py:425: The 'predict_dataloader' does not have many workers which may be a bottleneck. Consider increasing the value of the `num_workers` argument` to `num_workers=11` in the `DataLoader` to improve performance.\n"
     ]
    },
    {
     "name": "stdout",
     "output_type": "stream",
     "text": [
      "Model loaded from checkpoint for trial 5\n"
     ]
    },
    {
     "name": "stderr",
     "output_type": "stream",
     "text": [
      "[I 2025-05-25 17:15:58,418] Trial 5 finished with value: 0.13051688340358902 and parameters: {'input_chunk_length': 34, 'output_chunk_length': 24, 'hidden_size': 189, 'layer_size': 1, 'dropout': 0.38385460663161464, 'batch_size': 164, 'lr': 0.0016157660933682713, 'weight_decay': 6.300237918397102e-05, 'loss_fn': 'mse', 'optimizer': 'AdamW'}. Best is trial 5 with value: 0.13051688340358902.\n",
      "Specified future encoders in `add_encoders` at model creation but model does not accept future covariates. future encoders will be ignored.\n",
      "/home/eduardo/Documentos/Water-Cycle-Neural-Network/venv/lib/python3.12/site-packages/torch/nn/modules/rnn.py:123: UserWarning: dropout option adds dropout after all but last recurrent layer, so non-zero dropout expects num_layers greater than 1, but got dropout=0.27126736977861376 and num_layers=1\n",
      "  warnings.warn(\n",
      "GPU available: True (cuda), used: True\n",
      "TPU available: False, using: 0 TPU cores\n",
      "HPU available: False, using: 0 HPUs\n",
      "LOCAL_RANK: 0 - CUDA_VISIBLE_DEVICES: [0]\n"
     ]
    },
    {
     "name": "stdout",
     "output_type": "stream",
     "text": [
      "Starting time series verification for consistency...\n",
      "\n",
      "Performance metrics:\n",
      "                                    MSE        RMSE         MAE          R2  \\\n",
      "Temperature                    9.971321    3.157740    2.521298    0.672437   \n",
      "Precipitation_accumulated    785.285958   28.022954   21.704570 -238.374157   \n",
      "Humidity                      89.896450    9.481374    7.737933    0.386418   \n",
      "Wind_Speed_kmh                 1.376464    1.173228    0.952811   -0.022850   \n",
      "Soil_Moisture              98191.779585  313.355676  245.609667   -0.924567   \n",
      "Soil_Temperature              10.096527    3.177503    2.697205    0.370521   \n",
      "Wind_Dir_Sin                   0.577536    0.759958    0.690392   -0.048940   \n",
      "Wind_Dir_Cos                   0.379799    0.616278    0.519103   -0.034150   \n",
      "\n",
      "                                SMAPE  \n",
      "Temperature                 38.335038  \n",
      "Precipitation_accumulated    4.802293  \n",
      "Humidity                     9.168989  \n",
      "Wind_Speed_kmh              74.595715  \n",
      "Soil_Moisture                2.911284  \n",
      "Soil_Temperature            50.591462  \n",
      "Wind_Dir_Sin               156.982069  \n",
      "Wind_Dir_Cos               122.282711  \n",
      "The R2 for this fold was 0.13051688340358902\n",
      "Results of trial 5 saved in optuna_iteration_metrics/trial_5.json\n",
      "Current value: 0.13051688340358902, Current params: {'input_chunk_length': 34, 'output_chunk_length': 24, 'hidden_size': 189, 'layer_size': 1, 'dropout': 0.38385460663161464, 'batch_size': 164, 'lr': 0.0016157660933682713, 'weight_decay': 6.300237918397102e-05, 'loss_fn': 'mse', 'optimizer': 'AdamW'}\n",
      "Best value: 0.13051688340358902, Best params: {'input_chunk_length': 34, 'output_chunk_length': 24, 'hidden_size': 189, 'layer_size': 1, 'dropout': 0.38385460663161464, 'batch_size': 164, 'lr': 0.0016157660933682713, 'weight_decay': 6.300237918397102e-05, 'loss_fn': 'mse', 'optimizer': 'AdamW'}\n",
      "\n",
      "Starting Trial 6\n",
      "Hyperparameters: {'input_chunk_length': 55, 'output_chunk_length': 5, 'hidden_size': 164, 'layer_size': 1, 'dropout': 0.27126736977861376, 'batch_size': 253, 'lr': 0.004356101313361004, 'weight_decay': 0.00218194401009199, 'loss_fn': 'smoothl1', 'optimizer': 'AdamW'}\n",
      "\n",
      "Training the model...\n",
      "Train set: 6647 samples\n",
      "Validation set: 1662 samples\n"
     ]
    },
    {
     "name": "stderr",
     "output_type": "stream",
     "text": [
      "Metric val_loss improved. New best score: 0.037\n",
      "Metric val_loss improved by 0.011 >= min_delta = 0.0005. New best score: 0.026\n",
      "Metric val_loss improved by 0.005 >= min_delta = 0.0005. New best score: 0.021\n",
      "Metric val_loss improved by 0.002 >= min_delta = 0.0005. New best score: 0.019\n",
      "Metric val_loss improved by 0.001 >= min_delta = 0.0005. New best score: 0.018\n",
      "Metric val_loss improved by 0.001 >= min_delta = 0.0005. New best score: 0.017\n",
      "Monitored metric val_loss did not improve in the last 15 records. Best score: 0.017. Signaling Trainer to stop.\n",
      "/home/eduardo/Documentos/Water-Cycle-Neural-Network/venv/lib/python3.12/site-packages/torch/nn/modules/rnn.py:123: UserWarning: dropout option adds dropout after all but last recurrent layer, so non-zero dropout expects num_layers greater than 1, but got dropout=0.27126736977861376 and num_layers=1\n",
      "  warnings.warn(\n",
      "GPU available: True (cuda), used: True\n",
      "TPU available: False, using: 0 TPU cores\n",
      "HPU available: False, using: 0 HPUs\n",
      "LOCAL_RANK: 0 - CUDA_VISIBLE_DEVICES: [0]\n",
      "/home/eduardo/Documentos/Water-Cycle-Neural-Network/venv/lib/python3.12/site-packages/pytorch_lightning/trainer/connectors/data_connector.py:425: The 'predict_dataloader' does not have many workers which may be a bottleneck. Consider increasing the value of the `num_workers` argument` to `num_workers=11` in the `DataLoader` to improve performance.\n"
     ]
    },
    {
     "name": "stdout",
     "output_type": "stream",
     "text": [
      "Model loaded from checkpoint for trial 6\n"
     ]
    },
    {
     "name": "stderr",
     "output_type": "stream",
     "text": [
      "[I 2025-05-25 17:16:27,055] Trial 6 finished with value: 0.1267900491843625 and parameters: {'input_chunk_length': 55, 'output_chunk_length': 5, 'hidden_size': 164, 'layer_size': 1, 'dropout': 0.27126736977861376, 'batch_size': 253, 'lr': 0.004356101313361004, 'weight_decay': 0.00218194401009199, 'loss_fn': 'smoothl1', 'optimizer': 'AdamW'}. Best is trial 6 with value: 0.1267900491843625.\n",
      "Specified future encoders in `add_encoders` at model creation but model does not accept future covariates. future encoders will be ignored.\n",
      "GPU available: True (cuda), used: True\n",
      "TPU available: False, using: 0 TPU cores\n",
      "HPU available: False, using: 0 HPUs\n",
      "LOCAL_RANK: 0 - CUDA_VISIBLE_DEVICES: [0]\n"
     ]
    },
    {
     "name": "stdout",
     "output_type": "stream",
     "text": [
      "Starting time series verification for consistency...\n",
      "\n",
      "Performance metrics:\n",
      "                                    MSE        RMSE         MAE          R2  \\\n",
      "Temperature                    9.315858    3.052189    2.318568    0.694344   \n",
      "Precipitation_accumulated    765.308661   27.664213   23.160863 -233.089669   \n",
      "Humidity                      68.368285    8.268512    6.360971    0.533854   \n",
      "Wind_Speed_kmh                 1.145761    1.070402    0.854956    0.149321   \n",
      "Soil_Moisture              43158.800760  207.746963  169.655953    0.145405   \n",
      "Soil_Temperature              20.256408    4.500712    3.933167   -0.262509   \n",
      "Wind_Dir_Sin                   0.573359    0.757205    0.662828   -0.042379   \n",
      "Wind_Dir_Cos                   0.391314    0.625551    0.533674   -0.064808   \n",
      "\n",
      "                                SMAPE  \n",
      "Temperature                 38.922318  \n",
      "Precipitation_accumulated    5.146133  \n",
      "Humidity                     7.518253  \n",
      "Wind_Speed_kmh              69.666825  \n",
      "Soil_Moisture                1.977487  \n",
      "Soil_Temperature            84.792750  \n",
      "Wind_Dir_Sin               139.767686  \n",
      "Wind_Dir_Cos               136.644075  \n",
      "The R2 for this fold was 0.1267900491843625\n",
      "Results of trial 6 saved in optuna_iteration_metrics/trial_6.json\n",
      "Current value: 0.1267900491843625, Current params: {'input_chunk_length': 55, 'output_chunk_length': 5, 'hidden_size': 164, 'layer_size': 1, 'dropout': 0.27126736977861376, 'batch_size': 253, 'lr': 0.004356101313361004, 'weight_decay': 0.00218194401009199, 'loss_fn': 'smoothl1', 'optimizer': 'AdamW'}\n",
      "Best value: 0.1267900491843625, Best params: {'input_chunk_length': 55, 'output_chunk_length': 5, 'hidden_size': 164, 'layer_size': 1, 'dropout': 0.27126736977861376, 'batch_size': 253, 'lr': 0.004356101313361004, 'weight_decay': 0.00218194401009199, 'loss_fn': 'smoothl1', 'optimizer': 'AdamW'}\n",
      "\n",
      "Starting Trial 7\n",
      "Hyperparameters: {'input_chunk_length': 53, 'output_chunk_length': 3, 'hidden_size': 32, 'layer_size': 3, 'dropout': 0.2721210662027951, 'batch_size': 93, 'lr': 0.0035482004549089344, 'weight_decay': 3.962935072898626e-05, 'loss_fn': 'smoothl1', 'optimizer': 'AdamW'}\n",
      "\n",
      "Training the model...\n",
      "Train set: 6647 samples\n",
      "Validation set: 1662 samples\n"
     ]
    },
    {
     "name": "stderr",
     "output_type": "stream",
     "text": [
      "Metric val_loss improved. New best score: 0.036\n",
      "Metric val_loss improved by 0.010 >= min_delta = 0.0005. New best score: 0.026\n",
      "Metric val_loss improved by 0.003 >= min_delta = 0.0005. New best score: 0.024\n",
      "Metric val_loss improved by 0.001 >= min_delta = 0.0005. New best score: 0.023\n",
      "Metric val_loss improved by 0.001 >= min_delta = 0.0005. New best score: 0.021\n",
      "Monitored metric val_loss did not improve in the last 15 records. Best score: 0.021. Signaling Trainer to stop.\n",
      "GPU available: True (cuda), used: True\n",
      "TPU available: False, using: 0 TPU cores\n",
      "HPU available: False, using: 0 HPUs\n",
      "LOCAL_RANK: 0 - CUDA_VISIBLE_DEVICES: [0]\n"
     ]
    },
    {
     "name": "stdout",
     "output_type": "stream",
     "text": [
      "Model loaded from checkpoint for trial 7\n"
     ]
    },
    {
     "name": "stderr",
     "output_type": "stream",
     "text": [
      "/home/eduardo/Documentos/Water-Cycle-Neural-Network/venv/lib/python3.12/site-packages/pytorch_lightning/trainer/connectors/data_connector.py:425: The 'predict_dataloader' does not have many workers which may be a bottleneck. Consider increasing the value of the `num_workers` argument` to `num_workers=11` in the `DataLoader` to improve performance.\n"
     ]
    },
    {
     "name": "stdout",
     "output_type": "stream",
     "text": [
      "Starting time series verification for consistency...\n"
     ]
    },
    {
     "name": "stderr",
     "output_type": "stream",
     "text": [
      "[I 2025-05-25 17:17:23,289] Trial 7 finished with value: 0.1450482793851606 and parameters: {'input_chunk_length': 53, 'output_chunk_length': 3, 'hidden_size': 32, 'layer_size': 3, 'dropout': 0.2721210662027951, 'batch_size': 93, 'lr': 0.0035482004549089344, 'weight_decay': 3.962935072898626e-05, 'loss_fn': 'smoothl1', 'optimizer': 'AdamW'}. Best is trial 6 with value: 0.1267900491843625.\n",
      "Specified future encoders in `add_encoders` at model creation but model does not accept future covariates. future encoders will be ignored.\n",
      "GPU available: True (cuda), used: True\n",
      "TPU available: False, using: 0 TPU cores\n",
      "HPU available: False, using: 0 HPUs\n",
      "LOCAL_RANK: 0 - CUDA_VISIBLE_DEVICES: [0]\n"
     ]
    },
    {
     "name": "stdout",
     "output_type": "stream",
     "text": [
      "\n",
      "Performance metrics:\n",
      "                                     MSE        RMSE         MAE           R2  \\\n",
      "Temperature                    12.867938    3.587191    2.873186     0.577017   \n",
      "Precipitation_accumulated    4085.870911   63.920818   50.582537 -1240.228557   \n",
      "Humidity                       92.188064    9.601462    7.938394     0.370897   \n",
      "Wind_Speed_kmh                  1.424587    1.193561    0.988557    -0.059909   \n",
      "Soil_Moisture              114480.834484  338.350165  275.419655    -1.222406   \n",
      "Soil_Temperature               14.903019    3.860443    3.250079     0.071121   \n",
      "Wind_Dir_Sin                    0.639375    0.799609    0.724421    -0.159349   \n",
      "Wind_Dir_Cos                    0.383239    0.619063    0.524200    -0.044742   \n",
      "\n",
      "                                SMAPE  \n",
      "Temperature                 45.240466  \n",
      "Precipitation_accumulated   11.861516  \n",
      "Humidity                     9.420901  \n",
      "Wind_Speed_kmh              74.155384  \n",
      "Soil_Moisture                3.236642  \n",
      "Soil_Temperature            69.893307  \n",
      "Wind_Dir_Sin               160.981397  \n",
      "Wind_Dir_Cos               118.118917  \n",
      "The R2 for this fold was 0.1450482793851606\n",
      "Results of trial 7 saved in optuna_iteration_metrics/trial_7.json\n",
      "Current value: 0.1450482793851606, Current params: {'input_chunk_length': 53, 'output_chunk_length': 3, 'hidden_size': 32, 'layer_size': 3, 'dropout': 0.2721210662027951, 'batch_size': 93, 'lr': 0.0035482004549089344, 'weight_decay': 3.962935072898626e-05, 'loss_fn': 'smoothl1', 'optimizer': 'AdamW'}\n",
      "Best value: 0.1267900491843625, Best params: {'input_chunk_length': 55, 'output_chunk_length': 5, 'hidden_size': 164, 'layer_size': 1, 'dropout': 0.27126736977861376, 'batch_size': 253, 'lr': 0.004356101313361004, 'weight_decay': 0.00218194401009199, 'loss_fn': 'smoothl1', 'optimizer': 'AdamW'}\n",
      "\n",
      "Starting Trial 8\n",
      "Hyperparameters: {'input_chunk_length': 35, 'output_chunk_length': 6, 'hidden_size': 161, 'layer_size': 2, 'dropout': 0.38182572116357505, 'batch_size': 214, 'lr': 7.726566842388987e-05, 'weight_decay': 1.1544898162836465e-05, 'loss_fn': 'mae', 'optimizer': 'AdamW'}\n",
      "\n",
      "Training the model...\n",
      "Train set: 6647 samples\n",
      "Validation set: 1662 samples\n"
     ]
    },
    {
     "name": "stderr",
     "output_type": "stream",
     "text": [
      "[I 2025-05-25 17:17:25,358] Trial 8 pruned. Trial was pruned at epoch 0.\n",
      "Specified future encoders in `add_encoders` at model creation but model does not accept future covariates. future encoders will be ignored.\n"
     ]
    },
    {
     "name": "stdout",
     "output_type": "stream",
     "text": [
      "Current value: 0.4480437729404384, Current params: {'input_chunk_length': 35, 'output_chunk_length': 6, 'hidden_size': 161, 'layer_size': 2, 'dropout': 0.38182572116357505, 'batch_size': 214, 'lr': 7.726566842388987e-05, 'weight_decay': 1.1544898162836465e-05, 'loss_fn': 'mae', 'optimizer': 'AdamW'}\n",
      "Best value: 0.1267900491843625, Best params: {'input_chunk_length': 55, 'output_chunk_length': 5, 'hidden_size': 164, 'layer_size': 1, 'dropout': 0.27126736977861376, 'batch_size': 253, 'lr': 0.004356101313361004, 'weight_decay': 0.00218194401009199, 'loss_fn': 'smoothl1', 'optimizer': 'AdamW'}\n",
      "\n",
      "Starting Trial 9\n",
      "Hyperparameters: {'input_chunk_length': 39, 'output_chunk_length': 13, 'hidden_size': 134, 'layer_size': 3, 'dropout': 0.3491967736003637, 'batch_size': 214, 'lr': 6.981913350210481e-06, 'weight_decay': 0.0005928103681466328, 'loss_fn': 'smoothl1', 'optimizer': 'RMSprop'}\n",
      "\n",
      "Training the model...\n",
      "Train set: 6647 samples\n",
      "Validation set: 1662 samples\n"
     ]
    },
    {
     "name": "stderr",
     "output_type": "stream",
     "text": [
      "GPU available: True (cuda), used: True\n",
      "TPU available: False, using: 0 TPU cores\n",
      "HPU available: False, using: 0 HPUs\n",
      "LOCAL_RANK: 0 - CUDA_VISIBLE_DEVICES: [0]\n",
      "[I 2025-05-25 17:18:22,918] Trial 9 pruned. Trial was pruned at epoch 0.\n",
      "Specified future encoders in `add_encoders` at model creation but model does not accept future covariates. future encoders will be ignored.\n",
      "/home/eduardo/Documentos/Water-Cycle-Neural-Network/venv/lib/python3.12/site-packages/torch/nn/modules/rnn.py:123: UserWarning: dropout option adds dropout after all but last recurrent layer, so non-zero dropout expects num_layers greater than 1, but got dropout=0.21029854985892382 and num_layers=1\n",
      "  warnings.warn(\n",
      "GPU available: True (cuda), used: True\n",
      "TPU available: False, using: 0 TPU cores\n",
      "HPU available: False, using: 0 HPUs\n",
      "LOCAL_RANK: 0 - CUDA_VISIBLE_DEVICES: [0]\n"
     ]
    },
    {
     "name": "stdout",
     "output_type": "stream",
     "text": [
      "Current value: 0.1865532820035913, Current params: {'input_chunk_length': 39, 'output_chunk_length': 13, 'hidden_size': 134, 'layer_size': 3, 'dropout': 0.3491967736003637, 'batch_size': 214, 'lr': 6.981913350210481e-06, 'weight_decay': 0.0005928103681466328, 'loss_fn': 'smoothl1', 'optimizer': 'RMSprop'}\n",
      "Best value: 0.1267900491843625, Best params: {'input_chunk_length': 55, 'output_chunk_length': 5, 'hidden_size': 164, 'layer_size': 1, 'dropout': 0.27126736977861376, 'batch_size': 253, 'lr': 0.004356101313361004, 'weight_decay': 0.00218194401009199, 'loss_fn': 'smoothl1', 'optimizer': 'AdamW'}\n",
      "\n",
      "Starting Trial 10\n",
      "Hyperparameters: {'input_chunk_length': 69, 'output_chunk_length': 1, 'hidden_size': 92, 'layer_size': 1, 'dropout': 0.21029854985892382, 'batch_size': 256, 'lr': 0.000266593868660361, 'weight_decay': 1.0100953217725264e-06, 'loss_fn': 'huber', 'optimizer': 'Adam'}\n",
      "\n",
      "Training the model...\n",
      "Train set: 6647 samples\n",
      "Validation set: 1662 samples\n"
     ]
    },
    {
     "name": "stderr",
     "output_type": "stream",
     "text": [
      "[I 2025-05-25 17:18:24,422] Trial 10 pruned. Trial was pruned at epoch 0.\n",
      "Specified future encoders in `add_encoders` at model creation but model does not accept future covariates. future encoders will be ignored.\n",
      "/home/eduardo/Documentos/Water-Cycle-Neural-Network/venv/lib/python3.12/site-packages/torch/nn/modules/rnn.py:123: UserWarning: dropout option adds dropout after all but last recurrent layer, so non-zero dropout expects num_layers greater than 1, but got dropout=0.49812177802027213 and num_layers=1\n",
      "  warnings.warn(\n",
      "GPU available: True (cuda), used: True\n",
      "TPU available: False, using: 0 TPU cores\n",
      "HPU available: False, using: 0 HPUs\n",
      "LOCAL_RANK: 0 - CUDA_VISIBLE_DEVICES: [0]\n"
     ]
    },
    {
     "name": "stdout",
     "output_type": "stream",
     "text": [
      "Current value: 0.14854422571125872, Current params: {'input_chunk_length': 69, 'output_chunk_length': 1, 'hidden_size': 92, 'layer_size': 1, 'dropout': 0.21029854985892382, 'batch_size': 256, 'lr': 0.000266593868660361, 'weight_decay': 1.0100953217725264e-06, 'loss_fn': 'huber', 'optimizer': 'Adam'}\n",
      "Best value: 0.1267900491843625, Best params: {'input_chunk_length': 55, 'output_chunk_length': 5, 'hidden_size': 164, 'layer_size': 1, 'dropout': 0.27126736977861376, 'batch_size': 253, 'lr': 0.004356101313361004, 'weight_decay': 0.00218194401009199, 'loss_fn': 'smoothl1', 'optimizer': 'AdamW'}\n",
      "\n",
      "Starting Trial 11\n",
      "Hyperparameters: {'input_chunk_length': 58, 'output_chunk_length': 24, 'hidden_size': 189, 'layer_size': 1, 'dropout': 0.49812177802027213, 'batch_size': 162, 'lr': 0.004993150925582727, 'weight_decay': 0.00022377221328897588, 'loss_fn': 'mse', 'optimizer': 'AdamW'}\n",
      "\n",
      "Training the model...\n",
      "Train set: 6647 samples\n",
      "Validation set: 1662 samples\n"
     ]
    },
    {
     "name": "stderr",
     "output_type": "stream",
     "text": [
      "Metric val_loss improved. New best score: 0.070\n",
      "Metric val_loss improved by 0.013 >= min_delta = 0.0005. New best score: 0.057\n",
      "Metric val_loss improved by 0.011 >= min_delta = 0.0005. New best score: 0.046\n",
      "Metric val_loss improved by 0.002 >= min_delta = 0.0005. New best score: 0.045\n",
      "Metric val_loss improved by 0.003 >= min_delta = 0.0005. New best score: 0.042\n",
      "Metric val_loss improved by 0.001 >= min_delta = 0.0005. New best score: 0.040\n",
      "[I 2025-05-25 17:18:50,559] Trial 11 pruned. Trial was pruned at epoch 16.\n",
      "Specified future encoders in `add_encoders` at model creation but model does not accept future covariates. future encoders will be ignored.\n",
      "/home/eduardo/Documentos/Water-Cycle-Neural-Network/venv/lib/python3.12/site-packages/torch/nn/modules/rnn.py:123: UserWarning: dropout option adds dropout after all but last recurrent layer, so non-zero dropout expects num_layers greater than 1, but got dropout=0.4336478241945809 and num_layers=1\n",
      "  warnings.warn(\n",
      "GPU available: True (cuda), used: True\n",
      "TPU available: False, using: 0 TPU cores\n",
      "HPU available: False, using: 0 HPUs\n",
      "LOCAL_RANK: 0 - CUDA_VISIBLE_DEVICES: [0]\n"
     ]
    },
    {
     "name": "stdout",
     "output_type": "stream",
     "text": [
      "Current value: 0.04666247783689258, Current params: {'input_chunk_length': 58, 'output_chunk_length': 24, 'hidden_size': 189, 'layer_size': 1, 'dropout': 0.49812177802027213, 'batch_size': 162, 'lr': 0.004993150925582727, 'weight_decay': 0.00022377221328897588, 'loss_fn': 'mse', 'optimizer': 'AdamW'}\n",
      "Best value: 0.1267900491843625, Best params: {'input_chunk_length': 55, 'output_chunk_length': 5, 'hidden_size': 164, 'layer_size': 1, 'dropout': 0.27126736977861376, 'batch_size': 253, 'lr': 0.004356101313361004, 'weight_decay': 0.00218194401009199, 'loss_fn': 'smoothl1', 'optimizer': 'AdamW'}\n",
      "\n",
      "Starting Trial 12\n",
      "Hyperparameters: {'input_chunk_length': 40, 'output_chunk_length': 6, 'hidden_size': 194, 'layer_size': 1, 'dropout': 0.4336478241945809, 'batch_size': 165, 'lr': 0.0011079597366258113, 'weight_decay': 0.00010172945267515264, 'loss_fn': 'mse', 'optimizer': 'AdamW'}\n",
      "\n",
      "Training the model...\n",
      "Train set: 6647 samples\n",
      "Validation set: 1662 samples\n"
     ]
    },
    {
     "name": "stderr",
     "output_type": "stream",
     "text": [
      "Metric val_loss improved. New best score: 0.078\n",
      "[I 2025-05-25 17:18:53,734] Trial 12 pruned. Trial was pruned at epoch 1.\n",
      "Specified future encoders in `add_encoders` at model creation but model does not accept future covariates. future encoders will be ignored.\n",
      "/home/eduardo/Documentos/Water-Cycle-Neural-Network/venv/lib/python3.12/site-packages/torch/nn/modules/rnn.py:123: UserWarning: dropout option adds dropout after all but last recurrent layer, so non-zero dropout expects num_layers greater than 1, but got dropout=0.22853909222675017 and num_layers=1\n",
      "  warnings.warn(\n",
      "GPU available: True (cuda), used: True\n",
      "TPU available: False, using: 0 TPU cores\n",
      "HPU available: False, using: 0 HPUs\n",
      "LOCAL_RANK: 0 - CUDA_VISIBLE_DEVICES: [0]\n"
     ]
    },
    {
     "name": "stdout",
     "output_type": "stream",
     "text": [
      "Current value: 0.06672044677928464, Current params: {'input_chunk_length': 40, 'output_chunk_length': 6, 'hidden_size': 194, 'layer_size': 1, 'dropout': 0.4336478241945809, 'batch_size': 165, 'lr': 0.0011079597366258113, 'weight_decay': 0.00010172945267515264, 'loss_fn': 'mse', 'optimizer': 'AdamW'}\n",
      "Best value: 0.1267900491843625, Best params: {'input_chunk_length': 55, 'output_chunk_length': 5, 'hidden_size': 164, 'layer_size': 1, 'dropout': 0.27126736977861376, 'batch_size': 253, 'lr': 0.004356101313361004, 'weight_decay': 0.00218194401009199, 'loss_fn': 'smoothl1', 'optimizer': 'AdamW'}\n",
      "\n",
      "Starting Trial 13\n",
      "Hyperparameters: {'input_chunk_length': 25, 'output_chunk_length': 17, 'hidden_size': 196, 'layer_size': 1, 'dropout': 0.22853909222675017, 'batch_size': 139, 'lr': 0.0012695754291707473, 'weight_decay': 0.0004299683965314848, 'loss_fn': 'huber', 'optimizer': 'SGD'}\n",
      "\n",
      "Training the model...\n",
      "Train set: 6647 samples\n",
      "Validation set: 1662 samples\n"
     ]
    },
    {
     "name": "stderr",
     "output_type": "stream",
     "text": [
      "[I 2025-05-25 17:18:55,350] Trial 13 pruned. Trial was pruned at epoch 0.\n"
     ]
    },
    {
     "name": "stdout",
     "output_type": "stream",
     "text": [
      "Current value: 0.19341622270769934, Current params: {'input_chunk_length': 25, 'output_chunk_length': 17, 'hidden_size': 196, 'layer_size': 1, 'dropout': 0.22853909222675017, 'batch_size': 139, 'lr': 0.0012695754291707473, 'weight_decay': 0.0004299683965314848, 'loss_fn': 'huber', 'optimizer': 'SGD'}\n",
      "Best value: 0.1267900491843625, Best params: {'input_chunk_length': 55, 'output_chunk_length': 5, 'hidden_size': 164, 'layer_size': 1, 'dropout': 0.27126736977861376, 'batch_size': 253, 'lr': 0.004356101313361004, 'weight_decay': 0.00218194401009199, 'loss_fn': 'smoothl1', 'optimizer': 'AdamW'}\n",
      "\n",
      "Starting Trial 14\n",
      "Hyperparameters: {'input_chunk_length': 57, 'output_chunk_length': 8, 'hidden_size': 159, 'layer_size': 1, 'dropout': 0.352284482706132, 'batch_size': 187, 'lr': 0.0017294412047735989, 'weight_decay': 3.522938287030262e-05, 'loss_fn': 'mse', 'optimizer': 'AdamW'}\n",
      "\n",
      "Training the model...\n",
      "Train set: 6647 samples\n",
      "Validation set: 1662 samples\n"
     ]
    },
    {
     "name": "stderr",
     "output_type": "stream",
     "text": [
      "Specified future encoders in `add_encoders` at model creation but model does not accept future covariates. future encoders will be ignored.\n",
      "/home/eduardo/Documentos/Water-Cycle-Neural-Network/venv/lib/python3.12/site-packages/torch/nn/modules/rnn.py:123: UserWarning: dropout option adds dropout after all but last recurrent layer, so non-zero dropout expects num_layers greater than 1, but got dropout=0.352284482706132 and num_layers=1\n",
      "  warnings.warn(\n",
      "GPU available: True (cuda), used: True\n",
      "TPU available: False, using: 0 TPU cores\n",
      "HPU available: False, using: 0 HPUs\n",
      "LOCAL_RANK: 0 - CUDA_VISIBLE_DEVICES: [0]\n",
      "Metric val_loss improved. New best score: 0.082\n",
      "[I 2025-05-25 17:19:53,654] Trial 14 pruned. Trial was pruned at epoch 1.\n",
      "Specified future encoders in `add_encoders` at model creation but model does not accept future covariates. future encoders will be ignored.\n",
      "GPU available: True (cuda), used: True\n",
      "TPU available: False, using: 0 TPU cores\n",
      "HPU available: False, using: 0 HPUs\n",
      "LOCAL_RANK: 0 - CUDA_VISIBLE_DEVICES: [0]\n"
     ]
    },
    {
     "name": "stdout",
     "output_type": "stream",
     "text": [
      "Current value: 0.06603743155994544, Current params: {'input_chunk_length': 57, 'output_chunk_length': 8, 'hidden_size': 159, 'layer_size': 1, 'dropout': 0.352284482706132, 'batch_size': 187, 'lr': 0.0017294412047735989, 'weight_decay': 3.522938287030262e-05, 'loss_fn': 'mse', 'optimizer': 'AdamW'}\n",
      "Best value: 0.1267900491843625, Best params: {'input_chunk_length': 55, 'output_chunk_length': 5, 'hidden_size': 164, 'layer_size': 1, 'dropout': 0.27126736977861376, 'batch_size': 253, 'lr': 0.004356101313361004, 'weight_decay': 0.00218194401009199, 'loss_fn': 'smoothl1', 'optimizer': 'AdamW'}\n",
      "\n",
      "Starting Trial 15\n",
      "Hyperparameters: {'input_chunk_length': 44, 'output_chunk_length': 24, 'hidden_size': 120, 'layer_size': 2, 'dropout': 0.2564603919059686, 'batch_size': 185, 'lr': 0.00029648406685554336, 'weight_decay': 0.0011076500773895231, 'loss_fn': 'mse', 'optimizer': 'AdamW'}\n",
      "\n",
      "Training the model...\n",
      "Train set: 6647 samples\n",
      "Validation set: 1662 samples\n"
     ]
    },
    {
     "name": "stderr",
     "output_type": "stream",
     "text": [
      "Metric val_loss improved. New best score: 0.098\n",
      "[I 2025-05-25 17:19:57,471] Trial 15 pruned. Trial was pruned at epoch 1.\n",
      "Specified future encoders in `add_encoders` at model creation but model does not accept future covariates. future encoders will be ignored.\n",
      "/home/eduardo/Documentos/Water-Cycle-Neural-Network/venv/lib/python3.12/site-packages/torch/nn/modules/rnn.py:123: UserWarning: dropout option adds dropout after all but last recurrent layer, so non-zero dropout expects num_layers greater than 1, but got dropout=0.10668646605052773 and num_layers=1\n",
      "  warnings.warn(\n",
      "GPU available: True (cuda), used: True\n",
      "TPU available: False, using: 0 TPU cores\n",
      "HPU available: False, using: 0 HPUs\n",
      "LOCAL_RANK: 0 - CUDA_VISIBLE_DEVICES: [0]\n"
     ]
    },
    {
     "name": "stdout",
     "output_type": "stream",
     "text": [
      "Current value: 0.08853179057609788, Current params: {'input_chunk_length': 44, 'output_chunk_length': 24, 'hidden_size': 120, 'layer_size': 2, 'dropout': 0.2564603919059686, 'batch_size': 185, 'lr': 0.00029648406685554336, 'weight_decay': 0.0011076500773895231, 'loss_fn': 'mse', 'optimizer': 'AdamW'}\n",
      "Best value: 0.1267900491843625, Best params: {'input_chunk_length': 55, 'output_chunk_length': 5, 'hidden_size': 164, 'layer_size': 1, 'dropout': 0.27126736977861376, 'batch_size': 253, 'lr': 0.004356101313361004, 'weight_decay': 0.00218194401009199, 'loss_fn': 'smoothl1', 'optimizer': 'AdamW'}\n",
      "\n",
      "Starting Trial 16\n",
      "Hyperparameters: {'input_chunk_length': 68, 'output_chunk_length': 18, 'hidden_size': 213, 'layer_size': 1, 'dropout': 0.10668646605052773, 'batch_size': 137, 'lr': 9.35857936441829e-05, 'weight_decay': 0.000145054961019514, 'loss_fn': 'mae', 'optimizer': 'AdamW'}\n",
      "\n",
      "Training the model...\n",
      "Train set: 6647 samples\n",
      "Validation set: 1662 samples\n"
     ]
    },
    {
     "name": "stderr",
     "output_type": "stream",
     "text": [
      "[I 2025-05-25 17:19:59,879] Trial 16 pruned. Trial was pruned at epoch 0.\n",
      "Specified future encoders in `add_encoders` at model creation but model does not accept future covariates. future encoders will be ignored.\n",
      "/home/eduardo/Documentos/Water-Cycle-Neural-Network/venv/lib/python3.12/site-packages/torch/nn/modules/rnn.py:123: UserWarning: dropout option adds dropout after all but last recurrent layer, so non-zero dropout expects num_layers greater than 1, but got dropout=0.33347872296999603 and num_layers=1\n",
      "  warnings.warn(\n",
      "GPU available: True (cuda), used: True\n",
      "TPU available: False, using: 0 TPU cores\n",
      "HPU available: False, using: 0 HPUs\n",
      "LOCAL_RANK: 0 - CUDA_VISIBLE_DEVICES: [0]\n"
     ]
    },
    {
     "name": "stdout",
     "output_type": "stream",
     "text": [
      "Current value: 0.41736912412834465, Current params: {'input_chunk_length': 68, 'output_chunk_length': 18, 'hidden_size': 213, 'layer_size': 1, 'dropout': 0.10668646605052773, 'batch_size': 137, 'lr': 9.35857936441829e-05, 'weight_decay': 0.000145054961019514, 'loss_fn': 'mae', 'optimizer': 'AdamW'}\n",
      "Best value: 0.1267900491843625, Best params: {'input_chunk_length': 55, 'output_chunk_length': 5, 'hidden_size': 164, 'layer_size': 1, 'dropout': 0.27126736977861376, 'batch_size': 253, 'lr': 0.004356101313361004, 'weight_decay': 0.00218194401009199, 'loss_fn': 'smoothl1', 'optimizer': 'AdamW'}\n",
      "\n",
      "Starting Trial 17\n",
      "Hyperparameters: {'input_chunk_length': 30, 'output_chunk_length': 14, 'hidden_size': 256, 'layer_size': 1, 'dropout': 0.33347872296999603, 'batch_size': 244, 'lr': 0.0024148059450091333, 'weight_decay': 3.383626689552034e-05, 'loss_fn': 'huber', 'optimizer': 'Adam'}\n",
      "\n",
      "Training the model...\n",
      "Train set: 6647 samples\n",
      "Validation set: 1662 samples\n"
     ]
    },
    {
     "name": "stderr",
     "output_type": "stream",
     "text": [
      "Metric val_loss improved. New best score: 0.040\n",
      "Metric val_loss improved by 0.006 >= min_delta = 0.0005. New best score: 0.034\n",
      "Metric val_loss improved by 0.004 >= min_delta = 0.0005. New best score: 0.030\n",
      "Metric val_loss improved by 0.003 >= min_delta = 0.0005. New best score: 0.026\n",
      "Metric val_loss improved by 0.004 >= min_delta = 0.0005. New best score: 0.023\n",
      "Metric val_loss improved by 0.001 >= min_delta = 0.0005. New best score: 0.022\n",
      "Metric val_loss improved by 0.001 >= min_delta = 0.0005. New best score: 0.021\n",
      "Metric val_loss improved by 0.001 >= min_delta = 0.0005. New best score: 0.020\n",
      "Metric val_loss improved by 0.002 >= min_delta = 0.0005. New best score: 0.019\n",
      "Metric val_loss improved by 0.001 >= min_delta = 0.0005. New best score: 0.018\n",
      "`Trainer.fit` stopped: `max_epochs=30` reached.\n",
      "/home/eduardo/Documentos/Water-Cycle-Neural-Network/venv/lib/python3.12/site-packages/torch/nn/modules/rnn.py:123: UserWarning: dropout option adds dropout after all but last recurrent layer, so non-zero dropout expects num_layers greater than 1, but got dropout=0.33347872296999603 and num_layers=1\n",
      "  warnings.warn(\n",
      "GPU available: True (cuda), used: True\n",
      "TPU available: False, using: 0 TPU cores\n",
      "HPU available: False, using: 0 HPUs\n",
      "LOCAL_RANK: 0 - CUDA_VISIBLE_DEVICES: [0]\n",
      "/home/eduardo/Documentos/Water-Cycle-Neural-Network/venv/lib/python3.12/site-packages/pytorch_lightning/trainer/connectors/data_connector.py:425: The 'predict_dataloader' does not have many workers which may be a bottleneck. Consider increasing the value of the `num_workers` argument` to `num_workers=11` in the `DataLoader` to improve performance.\n"
     ]
    },
    {
     "name": "stdout",
     "output_type": "stream",
     "text": [
      "Model loaded from checkpoint for trial 17\n"
     ]
    },
    {
     "name": "stderr",
     "output_type": "stream",
     "text": [
      "[I 2025-05-25 17:20:41,206] Trial 17 finished with value: 0.131017180717259 and parameters: {'input_chunk_length': 30, 'output_chunk_length': 14, 'hidden_size': 256, 'layer_size': 1, 'dropout': 0.33347872296999603, 'batch_size': 244, 'lr': 0.0024148059450091333, 'weight_decay': 3.383626689552034e-05, 'loss_fn': 'huber', 'optimizer': 'Adam'}. Best is trial 6 with value: 0.1267900491843625.\n",
      "Specified future encoders in `add_encoders` at model creation but model does not accept future covariates. future encoders will be ignored.\n",
      "/home/eduardo/Documentos/Water-Cycle-Neural-Network/venv/lib/python3.12/site-packages/torch/nn/modules/rnn.py:123: UserWarning: dropout option adds dropout after all but last recurrent layer, so non-zero dropout expects num_layers greater than 1, but got dropout=0.41914109952263545 and num_layers=1\n",
      "  warnings.warn(\n",
      "GPU available: True (cuda), used: True\n",
      "TPU available: False, using: 0 TPU cores\n",
      "HPU available: False, using: 0 HPUs\n",
      "LOCAL_RANK: 0 - CUDA_VISIBLE_DEVICES: [0]\n"
     ]
    },
    {
     "name": "stdout",
     "output_type": "stream",
     "text": [
      "Starting time series verification for consistency...\n",
      "\n",
      "Performance metrics:\n",
      "                                    MSE        RMSE         MAE          R2  \\\n",
      "Temperature                   12.136971    3.483816    2.750988    0.602709   \n",
      "Precipitation_accumulated   1201.802760   34.667027   29.766098 -356.921910   \n",
      "Humidity                      84.194570    9.175760    7.431199    0.426059   \n",
      "Wind_Speed_kmh                 1.491817    1.221400    0.945885   -0.106912   \n",
      "Soil_Moisture              39267.542347  198.160396  153.139844    0.272570   \n",
      "Soil_Temperature              16.135726    4.016930    3.315434   -0.000492   \n",
      "Wind_Dir_Sin                   0.614503    0.783902    0.680713   -0.113048   \n",
      "Wind_Dir_Cos                   0.372393    0.610240    0.514948   -0.016594   \n",
      "\n",
      "                                SMAPE  \n",
      "Temperature                 43.983560  \n",
      "Precipitation_accumulated    6.689198  \n",
      "Humidity                     8.788180  \n",
      "Wind_Speed_kmh              79.864778  \n",
      "Soil_Moisture                1.803443  \n",
      "Soil_Temperature            75.940300  \n",
      "Wind_Dir_Sin               138.878207  \n",
      "Wind_Dir_Cos               122.835952  \n",
      "The R2 for this fold was 0.131017180717259\n",
      "Results of trial 17 saved in optuna_iteration_metrics/trial_17.json\n",
      "Current value: 0.131017180717259, Current params: {'input_chunk_length': 30, 'output_chunk_length': 14, 'hidden_size': 256, 'layer_size': 1, 'dropout': 0.33347872296999603, 'batch_size': 244, 'lr': 0.0024148059450091333, 'weight_decay': 3.383626689552034e-05, 'loss_fn': 'huber', 'optimizer': 'Adam'}\n",
      "Best value: 0.1267900491843625, Best params: {'input_chunk_length': 55, 'output_chunk_length': 5, 'hidden_size': 164, 'layer_size': 1, 'dropout': 0.27126736977861376, 'batch_size': 253, 'lr': 0.004356101313361004, 'weight_decay': 0.00218194401009199, 'loss_fn': 'smoothl1', 'optimizer': 'AdamW'}\n",
      "\n",
      "Starting Trial 18\n",
      "Hyperparameters: {'input_chunk_length': 44, 'output_chunk_length': 4, 'hidden_size': 168, 'layer_size': 1, 'dropout': 0.41914109952263545, 'batch_size': 184, 'lr': 0.0005417002350482648, 'weight_decay': 8.685543552496528e-06, 'loss_fn': 'mse', 'optimizer': 'SGD'}\n",
      "\n",
      "Training the model...\n",
      "Train set: 6647 samples\n",
      "Validation set: 1662 samples\n"
     ]
    },
    {
     "name": "stderr",
     "output_type": "stream",
     "text": [
      "[I 2025-05-25 17:20:42,998] Trial 18 pruned. Trial was pruned at epoch 0.\n",
      "Specified future encoders in `add_encoders` at model creation but model does not accept future covariates. future encoders will be ignored.\n",
      "GPU available: True (cuda), used: True\n",
      "TPU available: False, using: 0 TPU cores\n",
      "HPU available: False, using: 0 HPUs\n",
      "LOCAL_RANK: 0 - CUDA_VISIBLE_DEVICES: [0]\n"
     ]
    },
    {
     "name": "stdout",
     "output_type": "stream",
     "text": [
      "Current value: 0.400256187040605, Current params: {'input_chunk_length': 44, 'output_chunk_length': 4, 'hidden_size': 168, 'layer_size': 1, 'dropout': 0.41914109952263545, 'batch_size': 184, 'lr': 0.0005417002350482648, 'weight_decay': 8.685543552496528e-06, 'loss_fn': 'mse', 'optimizer': 'SGD'}\n",
      "Best value: 0.1267900491843625, Best params: {'input_chunk_length': 55, 'output_chunk_length': 5, 'hidden_size': 164, 'layer_size': 1, 'dropout': 0.27126736977861376, 'batch_size': 253, 'lr': 0.004356101313361004, 'weight_decay': 0.00218194401009199, 'loss_fn': 'smoothl1', 'optimizer': 'AdamW'}\n",
      "\n",
      "Starting Trial 19\n",
      "Hyperparameters: {'input_chunk_length': 62, 'output_chunk_length': 10, 'hidden_size': 80, 'layer_size': 2, 'dropout': 0.4796837884477276, 'batch_size': 204, 'lr': 0.0009234058805141233, 'weight_decay': 0.0033222455089871043, 'loss_fn': 'smoothl1', 'optimizer': 'AdamW'}\n",
      "\n",
      "Training the model...\n",
      "Train set: 6647 samples\n",
      "Validation set: 1662 samples\n"
     ]
    },
    {
     "name": "stderr",
     "output_type": "stream",
     "text": [
      "Metric val_loss improved. New best score: 0.048\n",
      "Metric val_loss improved by 0.007 >= min_delta = 0.0005. New best score: 0.040\n",
      "Metric val_loss improved by 0.003 >= min_delta = 0.0005. New best score: 0.037\n",
      "Metric val_loss improved by 0.004 >= min_delta = 0.0005. New best score: 0.033\n",
      "Metric val_loss improved by 0.003 >= min_delta = 0.0005. New best score: 0.030\n",
      "Metric val_loss improved by 0.003 >= min_delta = 0.0005. New best score: 0.027\n",
      "Metric val_loss improved by 0.002 >= min_delta = 0.0005. New best score: 0.025\n",
      "Metric val_loss improved by 0.001 >= min_delta = 0.0005. New best score: 0.024\n",
      "Metric val_loss improved by 0.001 >= min_delta = 0.0005. New best score: 0.023\n",
      "Metric val_loss improved by 0.001 >= min_delta = 0.0005. New best score: 0.022\n",
      "Metric val_loss improved by 0.001 >= min_delta = 0.0005. New best score: 0.021\n",
      "Metric val_loss improved by 0.001 >= min_delta = 0.0005. New best score: 0.021\n",
      "Metric val_loss improved by 0.001 >= min_delta = 0.0005. New best score: 0.020\n",
      "`Trainer.fit` stopped: `max_epochs=30` reached.\n",
      "GPU available: True (cuda), used: True\n",
      "TPU available: False, using: 0 TPU cores\n",
      "HPU available: False, using: 0 HPUs\n",
      "LOCAL_RANK: 0 - CUDA_VISIBLE_DEVICES: [0]\n"
     ]
    },
    {
     "name": "stdout",
     "output_type": "stream",
     "text": [
      "Model loaded from checkpoint for trial 19\n"
     ]
    },
    {
     "name": "stderr",
     "output_type": "stream",
     "text": [
      "/home/eduardo/Documentos/Water-Cycle-Neural-Network/venv/lib/python3.12/site-packages/pytorch_lightning/trainer/connectors/data_connector.py:425: The 'predict_dataloader' does not have many workers which may be a bottleneck. Consider increasing the value of the `num_workers` argument` to `num_workers=11` in the `DataLoader` to improve performance.\n",
      "[I 2025-05-25 17:28:58,001] Trial 19 finished with value: 0.14090162184993887 and parameters: {'input_chunk_length': 62, 'output_chunk_length': 10, 'hidden_size': 80, 'layer_size': 2, 'dropout': 0.4796837884477276, 'batch_size': 204, 'lr': 0.0009234058805141233, 'weight_decay': 0.0033222455089871043, 'loss_fn': 'smoothl1', 'optimizer': 'AdamW'}. Best is trial 6 with value: 0.1267900491843625.\n",
      "Specified future encoders in `add_encoders` at model creation but model does not accept future covariates. future encoders will be ignored.\n",
      "GPU available: True (cuda), used: True\n",
      "TPU available: False, using: 0 TPU cores\n",
      "HPU available: False, using: 0 HPUs\n",
      "LOCAL_RANK: 0 - CUDA_VISIBLE_DEVICES: [0]\n"
     ]
    },
    {
     "name": "stdout",
     "output_type": "stream",
     "text": [
      "Starting time series verification for consistency...\n",
      "\n",
      "Performance metrics:\n",
      "                                     MSE        RMSE         MAE          R2  \\\n",
      "Temperature                    14.116870    3.757242    2.954545    0.536661   \n",
      "Precipitation_accumulated    1120.020058   33.466701   26.240410 -348.985657   \n",
      "Humidity                       92.896520    9.638284    7.685201    0.368290   \n",
      "Wind_Speed_kmh                  1.921018    1.386008    1.057894   -0.422293   \n",
      "Soil_Moisture              199420.896316  446.565669  357.760821   -3.191994   \n",
      "Soil_Temperature               15.600222    3.949712    3.249649    0.025467   \n",
      "Wind_Dir_Sin                    0.583411    0.763814    0.691662   -0.065468   \n",
      "Wind_Dir_Cos                    0.427052    0.653492    0.543169   -0.160344   \n",
      "\n",
      "                                SMAPE  \n",
      "Temperature                 44.271368  \n",
      "Precipitation_accumulated    5.872961  \n",
      "Humidity                     9.093188  \n",
      "Wind_Speed_kmh              90.842669  \n",
      "Soil_Moisture                4.282984  \n",
      "Soil_Temperature            68.111251  \n",
      "Wind_Dir_Sin               158.065862  \n",
      "Wind_Dir_Cos               115.832980  \n",
      "The R2 for this fold was 0.14090162184993887\n",
      "Results of trial 19 saved in optuna_iteration_metrics/trial_19.json\n",
      "Current value: 0.14090162184993887, Current params: {'input_chunk_length': 62, 'output_chunk_length': 10, 'hidden_size': 80, 'layer_size': 2, 'dropout': 0.4796837884477276, 'batch_size': 204, 'lr': 0.0009234058805141233, 'weight_decay': 0.0033222455089871043, 'loss_fn': 'smoothl1', 'optimizer': 'AdamW'}\n",
      "Best value: 0.1267900491843625, Best params: {'input_chunk_length': 55, 'output_chunk_length': 5, 'hidden_size': 164, 'layer_size': 1, 'dropout': 0.27126736977861376, 'batch_size': 253, 'lr': 0.004356101313361004, 'weight_decay': 0.00218194401009199, 'loss_fn': 'smoothl1', 'optimizer': 'AdamW'}\n",
      "\n",
      "Starting Trial 20\n",
      "Hyperparameters: {'input_chunk_length': 54, 'output_chunk_length': 21, 'hidden_size': 137, 'layer_size': 2, 'dropout': 0.3789028635257208, 'batch_size': 133, 'lr': 2.0197522522007328e-05, 'weight_decay': 0.00040320470240373744, 'loss_fn': 'mse', 'optimizer': 'AdamW'}\n",
      "\n",
      "Training the model...\n",
      "Train set: 6647 samples\n",
      "Validation set: 1662 samples\n"
     ]
    },
    {
     "name": "stderr",
     "output_type": "stream",
     "text": [
      "[I 2025-05-25 17:29:00,918] Trial 20 pruned. Trial was pruned at epoch 0.\n",
      "Specified future encoders in `add_encoders` at model creation but model does not accept future covariates. future encoders will be ignored.\n",
      "/home/eduardo/Documentos/Water-Cycle-Neural-Network/venv/lib/python3.12/site-packages/torch/nn/modules/rnn.py:123: UserWarning: dropout option adds dropout after all but last recurrent layer, so non-zero dropout expects num_layers greater than 1, but got dropout=0.32062077218026164 and num_layers=1\n",
      "  warnings.warn(\n",
      "GPU available: True (cuda), used: True\n",
      "TPU available: False, using: 0 TPU cores\n",
      "HPU available: False, using: 0 HPUs\n",
      "LOCAL_RANK: 0 - CUDA_VISIBLE_DEVICES: [0]\n"
     ]
    },
    {
     "name": "stdout",
     "output_type": "stream",
     "text": [
      "Current value: 0.38011596574381196, Current params: {'input_chunk_length': 54, 'output_chunk_length': 21, 'hidden_size': 137, 'layer_size': 2, 'dropout': 0.3789028635257208, 'batch_size': 133, 'lr': 2.0197522522007328e-05, 'weight_decay': 0.00040320470240373744, 'loss_fn': 'mse', 'optimizer': 'AdamW'}\n",
      "Best value: 0.1267900491843625, Best params: {'input_chunk_length': 55, 'output_chunk_length': 5, 'hidden_size': 164, 'layer_size': 1, 'dropout': 0.27126736977861376, 'batch_size': 253, 'lr': 0.004356101313361004, 'weight_decay': 0.00218194401009199, 'loss_fn': 'smoothl1', 'optimizer': 'AdamW'}\n",
      "\n",
      "Starting Trial 21\n",
      "Hyperparameters: {'input_chunk_length': 30, 'output_chunk_length': 14, 'hidden_size': 241, 'layer_size': 1, 'dropout': 0.32062077218026164, 'batch_size': 256, 'lr': 0.004539541043141885, 'weight_decay': 3.868427180027147e-05, 'loss_fn': 'huber', 'optimizer': 'Adam'}\n",
      "\n",
      "Training the model...\n",
      "Train set: 6647 samples\n",
      "Validation set: 1662 samples\n"
     ]
    },
    {
     "name": "stderr",
     "output_type": "stream",
     "text": [
      "Metric val_loss improved. New best score: 0.039\n",
      "Metric val_loss improved by 0.005 >= min_delta = 0.0005. New best score: 0.035\n",
      "Metric val_loss improved by 0.005 >= min_delta = 0.0005. New best score: 0.030\n",
      "Metric val_loss improved by 0.005 >= min_delta = 0.0005. New best score: 0.025\n",
      "Metric val_loss improved by 0.002 >= min_delta = 0.0005. New best score: 0.023\n",
      "Metric val_loss improved by 0.001 >= min_delta = 0.0005. New best score: 0.022\n",
      "Metric val_loss improved by 0.001 >= min_delta = 0.0005. New best score: 0.021\n",
      "Metric val_loss improved by 0.001 >= min_delta = 0.0005. New best score: 0.020\n",
      "Metric val_loss improved by 0.001 >= min_delta = 0.0005. New best score: 0.019\n",
      "Metric val_loss improved by 0.001 >= min_delta = 0.0005. New best score: 0.018\n",
      "`Trainer.fit` stopped: `max_epochs=30` reached.\n",
      "/home/eduardo/Documentos/Water-Cycle-Neural-Network/venv/lib/python3.12/site-packages/torch/nn/modules/rnn.py:123: UserWarning: dropout option adds dropout after all but last recurrent layer, so non-zero dropout expects num_layers greater than 1, but got dropout=0.32062077218026164 and num_layers=1\n",
      "  warnings.warn(\n",
      "GPU available: True (cuda), used: True\n",
      "TPU available: False, using: 0 TPU cores\n",
      "HPU available: False, using: 0 HPUs\n",
      "LOCAL_RANK: 0 - CUDA_VISIBLE_DEVICES: [0]\n",
      "/home/eduardo/Documentos/Water-Cycle-Neural-Network/venv/lib/python3.12/site-packages/pytorch_lightning/trainer/connectors/data_connector.py:425: The 'predict_dataloader' does not have many workers which may be a bottleneck. Consider increasing the value of the `num_workers` argument` to `num_workers=11` in the `DataLoader` to improve performance.\n"
     ]
    },
    {
     "name": "stdout",
     "output_type": "stream",
     "text": [
      "Model loaded from checkpoint for trial 21\n"
     ]
    },
    {
     "name": "stderr",
     "output_type": "stream",
     "text": [
      "[I 2025-05-25 17:29:39,291] Trial 21 finished with value: 0.13524583088042452 and parameters: {'input_chunk_length': 30, 'output_chunk_length': 14, 'hidden_size': 241, 'layer_size': 1, 'dropout': 0.32062077218026164, 'batch_size': 256, 'lr': 0.004539541043141885, 'weight_decay': 3.868427180027147e-05, 'loss_fn': 'huber', 'optimizer': 'Adam'}. Best is trial 6 with value: 0.1267900491843625.\n",
      "Specified future encoders in `add_encoders` at model creation but model does not accept future covariates. future encoders will be ignored.\n",
      "/home/eduardo/Documentos/Water-Cycle-Neural-Network/venv/lib/python3.12/site-packages/torch/nn/modules/rnn.py:123: UserWarning: dropout option adds dropout after all but last recurrent layer, so non-zero dropout expects num_layers greater than 1, but got dropout=0.3372883582681666 and num_layers=1\n",
      "  warnings.warn(\n",
      "GPU available: True (cuda), used: True\n",
      "TPU available: False, using: 0 TPU cores\n",
      "HPU available: False, using: 0 HPUs\n",
      "LOCAL_RANK: 0 - CUDA_VISIBLE_DEVICES: [0]\n"
     ]
    },
    {
     "name": "stdout",
     "output_type": "stream",
     "text": [
      "Starting time series verification for consistency...\n",
      "\n",
      "Performance metrics:\n",
      "                                    MSE        RMSE         MAE          R2  \\\n",
      "Temperature                   11.360877    3.370590    2.644769    0.628114   \n",
      "Precipitation_accumulated   2502.543578   50.025429   40.093490 -744.309636   \n",
      "Humidity                     101.065323   10.053125    7.967763    0.311053   \n",
      "Wind_Speed_kmh                 1.333788    1.154897    0.919125    0.010344   \n",
      "Soil_Moisture              62333.312776  249.666403  191.895805   -0.154722   \n",
      "Soil_Temperature              18.448404    4.295161    3.608160   -0.143890   \n",
      "Wind_Dir_Sin                   0.598513    0.773636    0.677322   -0.084086   \n",
      "Wind_Dir_Cos                   0.367864    0.606518    0.512157   -0.004230   \n",
      "\n",
      "                                SMAPE  \n",
      "Temperature                 42.639039  \n",
      "Precipitation_accumulated    9.236583  \n",
      "Humidity                     9.334803  \n",
      "Wind_Speed_kmh              75.421965  \n",
      "Soil_Moisture                2.256420  \n",
      "Soil_Temperature            78.899485  \n",
      "Wind_Dir_Sin               139.547943  \n",
      "Wind_Dir_Cos               124.576375  \n",
      "The R2 for this fold was 0.13524583088042452\n",
      "Results of trial 21 saved in optuna_iteration_metrics/trial_21.json\n",
      "Current value: 0.13524583088042452, Current params: {'input_chunk_length': 30, 'output_chunk_length': 14, 'hidden_size': 241, 'layer_size': 1, 'dropout': 0.32062077218026164, 'batch_size': 256, 'lr': 0.004539541043141885, 'weight_decay': 3.868427180027147e-05, 'loss_fn': 'huber', 'optimizer': 'Adam'}\n",
      "Best value: 0.1267900491843625, Best params: {'input_chunk_length': 55, 'output_chunk_length': 5, 'hidden_size': 164, 'layer_size': 1, 'dropout': 0.27126736977861376, 'batch_size': 253, 'lr': 0.004356101313361004, 'weight_decay': 0.00218194401009199, 'loss_fn': 'smoothl1', 'optimizer': 'AdamW'}\n",
      "\n",
      "Starting Trial 22\n",
      "Hyperparameters: {'input_chunk_length': 30, 'output_chunk_length': 16, 'hidden_size': 255, 'layer_size': 1, 'dropout': 0.3372883582681666, 'batch_size': 240, 'lr': 0.002277370647242128, 'weight_decay': 1.872071330068321e-05, 'loss_fn': 'huber', 'optimizer': 'Adam'}\n",
      "\n",
      "Training the model...\n",
      "Train set: 6647 samples\n",
      "Validation set: 1662 samples\n"
     ]
    },
    {
     "name": "stderr",
     "output_type": "stream",
     "text": [
      "Metric val_loss improved. New best score: 0.040\n",
      "Metric val_loss improved by 0.008 >= min_delta = 0.0005. New best score: 0.032\n",
      "Metric val_loss improved by 0.007 >= min_delta = 0.0005. New best score: 0.026\n",
      "Metric val_loss improved by 0.003 >= min_delta = 0.0005. New best score: 0.023\n",
      "Metric val_loss improved by 0.001 >= min_delta = 0.0005. New best score: 0.022\n",
      "Metric val_loss improved by 0.002 >= min_delta = 0.0005. New best score: 0.021\n",
      "Metric val_loss improved by 0.002 >= min_delta = 0.0005. New best score: 0.019\n",
      "Metric val_loss improved by 0.001 >= min_delta = 0.0005. New best score: 0.019\n",
      "Metric val_loss improved by 0.001 >= min_delta = 0.0005. New best score: 0.018\n",
      "Monitored metric val_loss did not improve in the last 15 records. Best score: 0.018. Signaling Trainer to stop.\n",
      "/home/eduardo/Documentos/Water-Cycle-Neural-Network/venv/lib/python3.12/site-packages/torch/nn/modules/rnn.py:123: UserWarning: dropout option adds dropout after all but last recurrent layer, so non-zero dropout expects num_layers greater than 1, but got dropout=0.3372883582681666 and num_layers=1\n",
      "  warnings.warn(\n",
      "GPU available: True (cuda), used: True\n",
      "TPU available: False, using: 0 TPU cores\n",
      "HPU available: False, using: 0 HPUs\n",
      "LOCAL_RANK: 0 - CUDA_VISIBLE_DEVICES: [0]\n",
      "/home/eduardo/Documentos/Water-Cycle-Neural-Network/venv/lib/python3.12/site-packages/pytorch_lightning/trainer/connectors/data_connector.py:425: The 'predict_dataloader' does not have many workers which may be a bottleneck. Consider increasing the value of the `num_workers` argument` to `num_workers=11` in the `DataLoader` to improve performance.\n"
     ]
    },
    {
     "name": "stdout",
     "output_type": "stream",
     "text": [
      "Model loaded from checkpoint for trial 22\n"
     ]
    },
    {
     "name": "stderr",
     "output_type": "stream",
     "text": [
      "[I 2025-05-25 17:31:12,106] Trial 22 finished with value: 0.13201420154470045 and parameters: {'input_chunk_length': 30, 'output_chunk_length': 16, 'hidden_size': 255, 'layer_size': 1, 'dropout': 0.3372883582681666, 'batch_size': 240, 'lr': 0.002277370647242128, 'weight_decay': 1.872071330068321e-05, 'loss_fn': 'huber', 'optimizer': 'Adam'}. Best is trial 6 with value: 0.1267900491843625.\n",
      "Specified future encoders in `add_encoders` at model creation but model does not accept future covariates. future encoders will be ignored.\n",
      "/home/eduardo/Documentos/Water-Cycle-Neural-Network/venv/lib/python3.12/site-packages/torch/nn/modules/rnn.py:123: UserWarning: dropout option adds dropout after all but last recurrent layer, so non-zero dropout expects num_layers greater than 1, but got dropout=0.38301919205038126 and num_layers=1\n",
      "  warnings.warn(\n",
      "GPU available: True (cuda), used: True\n",
      "TPU available: False, using: 0 TPU cores\n",
      "HPU available: False, using: 0 HPUs\n",
      "LOCAL_RANK: 0 - CUDA_VISIBLE_DEVICES: [0]\n"
     ]
    },
    {
     "name": "stdout",
     "output_type": "stream",
     "text": [
      "Starting time series verification for consistency...\n",
      "\n",
      "Performance metrics:\n",
      "                                    MSE        RMSE         MAE          R2  \\\n",
      "Temperature                   10.130461    3.182839    2.491926    0.668175   \n",
      "Precipitation_accumulated   1737.694739   41.685666   36.894218 -518.195824   \n",
      "Humidity                      87.319919    9.344513    7.550124    0.404654   \n",
      "Wind_Speed_kmh                 1.293319    1.137242    0.905745    0.039616   \n",
      "Soil_Moisture              54478.577822  233.406465  181.178854   -0.016006   \n",
      "Soil_Temperature              15.511337    3.938443    3.271632    0.037601   \n",
      "Wind_Dir_Sin                   0.583825    0.764085    0.667215   -0.059498   \n",
      "Wind_Dir_Cos                   0.361206    0.601004    0.524168    0.015004   \n",
      "\n",
      "                                SMAPE  \n",
      "Temperature                 38.791664  \n",
      "Precipitation_accumulated    8.356815  \n",
      "Humidity                     8.944689  \n",
      "Wind_Speed_kmh              74.586968  \n",
      "Soil_Moisture                2.131146  \n",
      "Soil_Temperature            75.995127  \n",
      "Wind_Dir_Sin               137.823902  \n",
      "Wind_Dir_Cos               139.337573  \n",
      "The R2 for this fold was 0.13201420154470045\n",
      "Results of trial 22 saved in optuna_iteration_metrics/trial_22.json\n",
      "Current value: 0.13201420154470045, Current params: {'input_chunk_length': 30, 'output_chunk_length': 16, 'hidden_size': 255, 'layer_size': 1, 'dropout': 0.3372883582681666, 'batch_size': 240, 'lr': 0.002277370647242128, 'weight_decay': 1.872071330068321e-05, 'loss_fn': 'huber', 'optimizer': 'Adam'}\n",
      "Best value: 0.1267900491843625, Best params: {'input_chunk_length': 55, 'output_chunk_length': 5, 'hidden_size': 164, 'layer_size': 1, 'dropout': 0.27126736977861376, 'batch_size': 253, 'lr': 0.004356101313361004, 'weight_decay': 0.00218194401009199, 'loss_fn': 'smoothl1', 'optimizer': 'AdamW'}\n",
      "\n",
      "Starting Trial 23\n",
      "Hyperparameters: {'input_chunk_length': 35, 'output_chunk_length': 12, 'hidden_size': 215, 'layer_size': 1, 'dropout': 0.38301919205038126, 'batch_size': 234, 'lr': 0.0023551919239462706, 'weight_decay': 2.0200031655581287e-06, 'loss_fn': 'huber', 'optimizer': 'Adam'}\n",
      "\n",
      "Training the model...\n",
      "Train set: 6647 samples\n",
      "Validation set: 1662 samples\n"
     ]
    },
    {
     "name": "stderr",
     "output_type": "stream",
     "text": [
      "Metric val_loss improved. New best score: 0.042\n",
      "Metric val_loss improved by 0.009 >= min_delta = 0.0005. New best score: 0.033\n",
      "Metric val_loss improved by 0.007 >= min_delta = 0.0005. New best score: 0.026\n",
      "Metric val_loss improved by 0.003 >= min_delta = 0.0005. New best score: 0.023\n",
      "Metric val_loss improved by 0.001 >= min_delta = 0.0005. New best score: 0.022\n",
      "Metric val_loss improved by 0.002 >= min_delta = 0.0005. New best score: 0.020\n",
      "Metric val_loss improved by 0.001 >= min_delta = 0.0005. New best score: 0.019\n",
      "Metric val_loss improved by 0.001 >= min_delta = 0.0005. New best score: 0.018\n",
      "Monitored metric val_loss did not improve in the last 15 records. Best score: 0.018. Signaling Trainer to stop.\n",
      "/home/eduardo/Documentos/Water-Cycle-Neural-Network/venv/lib/python3.12/site-packages/torch/nn/modules/rnn.py:123: UserWarning: dropout option adds dropout after all but last recurrent layer, so non-zero dropout expects num_layers greater than 1, but got dropout=0.38301919205038126 and num_layers=1\n",
      "  warnings.warn(\n",
      "GPU available: True (cuda), used: True\n",
      "TPU available: False, using: 0 TPU cores\n",
      "HPU available: False, using: 0 HPUs\n",
      "LOCAL_RANK: 0 - CUDA_VISIBLE_DEVICES: [0]\n",
      "/home/eduardo/Documentos/Water-Cycle-Neural-Network/venv/lib/python3.12/site-packages/pytorch_lightning/trainer/connectors/data_connector.py:425: The 'predict_dataloader' does not have many workers which may be a bottleneck. Consider increasing the value of the `num_workers` argument` to `num_workers=11` in the `DataLoader` to improve performance.\n"
     ]
    },
    {
     "name": "stdout",
     "output_type": "stream",
     "text": [
      "Model loaded from checkpoint for trial 23\n"
     ]
    },
    {
     "name": "stderr",
     "output_type": "stream",
     "text": [
      "[I 2025-05-25 17:31:42,534] Trial 23 finished with value: 0.1344784931252601 and parameters: {'input_chunk_length': 35, 'output_chunk_length': 12, 'hidden_size': 215, 'layer_size': 1, 'dropout': 0.38301919205038126, 'batch_size': 234, 'lr': 0.0023551919239462706, 'weight_decay': 2.0200031655581287e-06, 'loss_fn': 'huber', 'optimizer': 'Adam'}. Best is trial 6 with value: 0.1267900491843625.\n",
      "Specified future encoders in `add_encoders` at model creation but model does not accept future covariates. future encoders will be ignored.\n",
      "/home/eduardo/Documentos/Water-Cycle-Neural-Network/venv/lib/python3.12/site-packages/torch/nn/modules/rnn.py:123: UserWarning: dropout option adds dropout after all but last recurrent layer, so non-zero dropout expects num_layers greater than 1, but got dropout=0.26435010826476074 and num_layers=1\n",
      "  warnings.warn(\n",
      "GPU available: True (cuda), used: True\n",
      "TPU available: False, using: 0 TPU cores\n",
      "HPU available: False, using: 0 HPUs\n",
      "LOCAL_RANK: 0 - CUDA_VISIBLE_DEVICES: [0]\n"
     ]
    },
    {
     "name": "stdout",
     "output_type": "stream",
     "text": [
      "Starting time series verification for consistency...\n",
      "\n",
      "Performance metrics:\n",
      "                                    MSE        RMSE         MAE          R2  \\\n",
      "Temperature                    8.868825    2.978057    2.366354    0.709428   \n",
      "Precipitation_accumulated   1406.851183   37.508015   32.872002 -420.028980   \n",
      "Humidity                      79.617740    8.922877    7.274886    0.457121   \n",
      "Wind_Speed_kmh                 1.332005    1.154125    0.928665    0.010852   \n",
      "Soil_Moisture              81308.968824  285.147276  237.092190   -0.521734   \n",
      "Soil_Temperature              16.587499    4.072775    3.452884   -0.029562   \n",
      "Wind_Dir_Sin                   0.613234    0.783092    0.690561   -0.113854   \n",
      "Wind_Dir_Cos                   0.382411    0.618394    0.532659   -0.042178   \n",
      "\n",
      "                                SMAPE  \n",
      "Temperature                 36.949501  \n",
      "Precipitation_accumulated    7.406865  \n",
      "Humidity                     8.600637  \n",
      "Wind_Speed_kmh              74.903845  \n",
      "Soil_Moisture                2.775098  \n",
      "Soil_Temperature            83.403093  \n",
      "Wind_Dir_Sin               147.140290  \n",
      "Wind_Dir_Cos               135.238628  \n",
      "The R2 for this fold was 0.1344784931252601\n",
      "Results of trial 23 saved in optuna_iteration_metrics/trial_23.json\n",
      "Current value: 0.1344784931252601, Current params: {'input_chunk_length': 35, 'output_chunk_length': 12, 'hidden_size': 215, 'layer_size': 1, 'dropout': 0.38301919205038126, 'batch_size': 234, 'lr': 0.0023551919239462706, 'weight_decay': 2.0200031655581287e-06, 'loss_fn': 'huber', 'optimizer': 'Adam'}\n",
      "Best value: 0.1267900491843625, Best params: {'input_chunk_length': 55, 'output_chunk_length': 5, 'hidden_size': 164, 'layer_size': 1, 'dropout': 0.27126736977861376, 'batch_size': 253, 'lr': 0.004356101313361004, 'weight_decay': 0.00218194401009199, 'loss_fn': 'smoothl1', 'optimizer': 'AdamW'}\n",
      "\n",
      "Starting Trial 24\n",
      "Hyperparameters: {'input_chunk_length': 44, 'output_chunk_length': 8, 'hidden_size': 171, 'layer_size': 1, 'dropout': 0.26435010826476074, 'batch_size': 241, 'lr': 0.00017254972711720724, 'weight_decay': 8.024636734533379e-05, 'loss_fn': 'huber', 'optimizer': 'Adam'}\n",
      "\n",
      "Training the model...\n",
      "Train set: 6647 samples\n",
      "Validation set: 1662 samples\n"
     ]
    },
    {
     "name": "stderr",
     "output_type": "stream",
     "text": [
      "[I 2025-05-25 17:31:44,262] Trial 24 pruned. Trial was pruned at epoch 0.\n",
      "Specified future encoders in `add_encoders` at model creation but model does not accept future covariates. future encoders will be ignored.\n",
      "/home/eduardo/Documentos/Water-Cycle-Neural-Network/venv/lib/python3.12/site-packages/torch/nn/modules/rnn.py:123: UserWarning: dropout option adds dropout after all but last recurrent layer, so non-zero dropout expects num_layers greater than 1, but got dropout=0.20407467566116066 and num_layers=1\n",
      "  warnings.warn(\n",
      "GPU available: True (cuda), used: True\n",
      "TPU available: False, using: 0 TPU cores\n",
      "HPU available: False, using: 0 HPUs\n",
      "LOCAL_RANK: 0 - CUDA_VISIBLE_DEVICES: [0]\n"
     ]
    },
    {
     "name": "stdout",
     "output_type": "stream",
     "text": [
      "Current value: 0.17039296573079643, Current params: {'input_chunk_length': 44, 'output_chunk_length': 8, 'hidden_size': 171, 'layer_size': 1, 'dropout': 0.26435010826476074, 'batch_size': 241, 'lr': 0.00017254972711720724, 'weight_decay': 8.024636734533379e-05, 'loss_fn': 'huber', 'optimizer': 'Adam'}\n",
      "Best value: 0.1267900491843625, Best params: {'input_chunk_length': 55, 'output_chunk_length': 5, 'hidden_size': 164, 'layer_size': 1, 'dropout': 0.27126736977861376, 'batch_size': 253, 'lr': 0.004356101313361004, 'weight_decay': 0.00218194401009199, 'loss_fn': 'smoothl1', 'optimizer': 'AdamW'}\n",
      "\n",
      "Starting Trial 25\n",
      "Hyperparameters: {'input_chunk_length': 31, 'output_chunk_length': 19, 'hidden_size': 212, 'layer_size': 1, 'dropout': 0.20407467566116066, 'batch_size': 226, 'lr': 0.0007685548784023405, 'weight_decay': 6.895915162509425e-05, 'loss_fn': 'huber', 'optimizer': 'Adam'}\n",
      "\n",
      "Training the model...\n",
      "Train set: 6647 samples\n",
      "Validation set: 1662 samples\n"
     ]
    },
    {
     "name": "stderr",
     "output_type": "stream",
     "text": [
      "[I 2025-05-25 17:31:46,030] Trial 25 pruned. Trial was pruned at epoch 0.\n",
      "Specified future encoders in `add_encoders` at model creation but model does not accept future covariates. future encoders will be ignored.\n",
      "/home/eduardo/Documentos/Water-Cycle-Neural-Network/venv/lib/python3.12/site-packages/torch/nn/modules/rnn.py:123: UserWarning: dropout option adds dropout after all but last recurrent layer, so non-zero dropout expects num_layers greater than 1, but got dropout=0.45835461386422743 and num_layers=1\n",
      "  warnings.warn(\n",
      "GPU available: True (cuda), used: True\n",
      "TPU available: False, using: 0 TPU cores\n",
      "HPU available: False, using: 0 HPUs\n",
      "LOCAL_RANK: 0 - CUDA_VISIBLE_DEVICES: [0]\n"
     ]
    },
    {
     "name": "stdout",
     "output_type": "stream",
     "text": [
      "Current value: 0.04538613239929088, Current params: {'input_chunk_length': 31, 'output_chunk_length': 19, 'hidden_size': 212, 'layer_size': 1, 'dropout': 0.20407467566116066, 'batch_size': 226, 'lr': 0.0007685548784023405, 'weight_decay': 6.895915162509425e-05, 'loss_fn': 'huber', 'optimizer': 'Adam'}\n",
      "Best value: 0.1267900491843625, Best params: {'input_chunk_length': 55, 'output_chunk_length': 5, 'hidden_size': 164, 'layer_size': 1, 'dropout': 0.27126736977861376, 'batch_size': 253, 'lr': 0.004356101313361004, 'weight_decay': 0.00218194401009199, 'loss_fn': 'smoothl1', 'optimizer': 'AdamW'}\n",
      "\n",
      "Starting Trial 26\n",
      "Hyperparameters: {'input_chunk_length': 39, 'output_chunk_length': 1, 'hidden_size': 187, 'layer_size': 1, 'dropout': 0.45835461386422743, 'batch_size': 202, 'lr': 0.0025979414519729325, 'weight_decay': 3.564519422612453e-06, 'loss_fn': 'smoothl1', 'optimizer': 'RMSprop'}\n",
      "\n",
      "Training the model...\n",
      "Train set: 6647 samples\n",
      "Validation set: 1662 samples\n"
     ]
    },
    {
     "name": "stderr",
     "output_type": "stream",
     "text": [
      "Metric val_loss improved. New best score: 0.031\n",
      "Metric val_loss improved by 0.005 >= min_delta = 0.0005. New best score: 0.026\n",
      "Metric val_loss improved by 0.004 >= min_delta = 0.0005. New best score: 0.022\n",
      "Metric val_loss improved by 0.004 >= min_delta = 0.0005. New best score: 0.018\n",
      "Metric val_loss improved by 0.003 >= min_delta = 0.0005. New best score: 0.015\n",
      "Metric val_loss improved by 0.002 >= min_delta = 0.0005. New best score: 0.013\n",
      "Metric val_loss improved by 0.001 >= min_delta = 0.0005. New best score: 0.012\n",
      "Metric val_loss improved by 0.001 >= min_delta = 0.0005. New best score: 0.012\n",
      "`Trainer.fit` stopped: `max_epochs=30` reached.\n",
      "/home/eduardo/Documentos/Water-Cycle-Neural-Network/venv/lib/python3.12/site-packages/torch/nn/modules/rnn.py:123: UserWarning: dropout option adds dropout after all but last recurrent layer, so non-zero dropout expects num_layers greater than 1, but got dropout=0.45835461386422743 and num_layers=1\n",
      "  warnings.warn(\n",
      "GPU available: True (cuda), used: True\n",
      "TPU available: False, using: 0 TPU cores\n",
      "HPU available: False, using: 0 HPUs\n",
      "LOCAL_RANK: 0 - CUDA_VISIBLE_DEVICES: [0]\n",
      "/home/eduardo/Documentos/Water-Cycle-Neural-Network/venv/lib/python3.12/site-packages/pytorch_lightning/trainer/connectors/data_connector.py:425: The 'predict_dataloader' does not have many workers which may be a bottleneck. Consider increasing the value of the `num_workers` argument` to `num_workers=11` in the `DataLoader` to improve performance.\n"
     ]
    },
    {
     "name": "stdout",
     "output_type": "stream",
     "text": [
      "Model loaded from checkpoint for trial 26\n"
     ]
    },
    {
     "name": "stderr",
     "output_type": "stream",
     "text": [
      "[I 2025-05-25 17:34:15,189] Trial 26 finished with value: 0.086915110514849 and parameters: {'input_chunk_length': 39, 'output_chunk_length': 1, 'hidden_size': 187, 'layer_size': 1, 'dropout': 0.45835461386422743, 'batch_size': 202, 'lr': 0.0025979414519729325, 'weight_decay': 3.564519422612453e-06, 'loss_fn': 'smoothl1', 'optimizer': 'RMSprop'}. Best is trial 26 with value: 0.086915110514849.\n",
      "Specified future encoders in `add_encoders` at model creation but model does not accept future covariates. future encoders will be ignored.\n",
      "GPU available: True (cuda), used: True\n",
      "TPU available: False, using: 0 TPU cores\n",
      "HPU available: False, using: 0 HPUs\n",
      "LOCAL_RANK: 0 - CUDA_VISIBLE_DEVICES: [0]\n"
     ]
    },
    {
     "name": "stdout",
     "output_type": "stream",
     "text": [
      "Starting time series verification for consistency...\n",
      "\n",
      "Performance metrics:\n",
      "                                   MSE       RMSE        MAE          R2  \\\n",
      "Temperature                   2.181811   1.477096   1.165000    0.928620   \n",
      "Precipitation_accumulated   462.744781  21.511503  18.726668 -135.939699   \n",
      "Humidity                     16.837267   4.103324   3.239419    0.885260   \n",
      "Wind_Speed_kmh                0.529843   0.727903   0.544361    0.607119   \n",
      "Soil_Moisture              8143.198344  90.239672  71.343200    0.851387   \n",
      "Soil_Temperature              3.262445   1.806224   1.532707    0.797755   \n",
      "Wind_Dir_Sin                  0.362404   0.602000   0.481462    0.342754   \n",
      "Wind_Dir_Cos                  0.309430   0.556264   0.452949    0.155582   \n",
      "\n",
      "                                SMAPE  \n",
      "Temperature                 22.517370  \n",
      "Precipitation_accumulated    4.133433  \n",
      "Humidity                     3.789875  \n",
      "Wind_Speed_kmh              56.936935  \n",
      "Soil_Moisture                0.831836  \n",
      "Soil_Temperature            36.235387  \n",
      "Wind_Dir_Sin                95.436545  \n",
      "Wind_Dir_Cos               112.613570  \n",
      "The R2 for this fold was 0.086915110514849\n",
      "Results of trial 26 saved in optuna_iteration_metrics/trial_26.json\n",
      "Current value: 0.086915110514849, Current params: {'input_chunk_length': 39, 'output_chunk_length': 1, 'hidden_size': 187, 'layer_size': 1, 'dropout': 0.45835461386422743, 'batch_size': 202, 'lr': 0.0025979414519729325, 'weight_decay': 3.564519422612453e-06, 'loss_fn': 'smoothl1', 'optimizer': 'RMSprop'}\n",
      "Best value: 0.086915110514849, Best params: {'input_chunk_length': 39, 'output_chunk_length': 1, 'hidden_size': 187, 'layer_size': 1, 'dropout': 0.45835461386422743, 'batch_size': 202, 'lr': 0.0025979414519729325, 'weight_decay': 3.564519422612453e-06, 'loss_fn': 'smoothl1', 'optimizer': 'RMSprop'}\n",
      "\n",
      "Starting Trial 27\n",
      "Hyperparameters: {'input_chunk_length': 39, 'output_chunk_length': 1, 'hidden_size': 179, 'layer_size': 2, 'dropout': 0.4751525664313049, 'batch_size': 195, 'lr': 0.00041361805227968615, 'weight_decay': 3.4405625100333556e-06, 'loss_fn': 'smoothl1', 'optimizer': 'RMSprop'}\n",
      "\n",
      "Training the model...\n",
      "Train set: 6647 samples\n",
      "Validation set: 1662 samples\n"
     ]
    },
    {
     "name": "stderr",
     "output_type": "stream",
     "text": [
      "Metric val_loss improved. New best score: 0.033\n",
      "Metric val_loss improved by 0.004 >= min_delta = 0.0005. New best score: 0.028\n",
      "Metric val_loss improved by 0.002 >= min_delta = 0.0005. New best score: 0.026\n",
      "Metric val_loss improved by 0.004 >= min_delta = 0.0005. New best score: 0.022\n",
      "Metric val_loss improved by 0.003 >= min_delta = 0.0005. New best score: 0.019\n",
      "Metric val_loss improved by 0.002 >= min_delta = 0.0005. New best score: 0.017\n",
      "Metric val_loss improved by 0.001 >= min_delta = 0.0005. New best score: 0.016\n",
      "Metric val_loss improved by 0.001 >= min_delta = 0.0005. New best score: 0.015\n",
      "Metric val_loss improved by 0.001 >= min_delta = 0.0005. New best score: 0.014\n",
      "Metric val_loss improved by 0.001 >= min_delta = 0.0005. New best score: 0.014\n",
      "`Trainer.fit` stopped: `max_epochs=30` reached.\n",
      "GPU available: True (cuda), used: True\n",
      "TPU available: False, using: 0 TPU cores\n",
      "HPU available: False, using: 0 HPUs\n",
      "LOCAL_RANK: 0 - CUDA_VISIBLE_DEVICES: [0]\n"
     ]
    },
    {
     "name": "stdout",
     "output_type": "stream",
     "text": [
      "Model loaded from checkpoint for trial 27\n"
     ]
    },
    {
     "name": "stderr",
     "output_type": "stream",
     "text": [
      "/home/eduardo/Documentos/Water-Cycle-Neural-Network/venv/lib/python3.12/site-packages/pytorch_lightning/trainer/connectors/data_connector.py:425: The 'predict_dataloader' does not have many workers which may be a bottleneck. Consider increasing the value of the `num_workers` argument` to `num_workers=11` in the `DataLoader` to improve performance.\n",
      "[I 2025-05-25 17:35:17,691] Trial 27 finished with value: 0.10248316827597198 and parameters: {'input_chunk_length': 39, 'output_chunk_length': 1, 'hidden_size': 179, 'layer_size': 2, 'dropout': 0.4751525664313049, 'batch_size': 195, 'lr': 0.00041361805227968615, 'weight_decay': 3.4405625100333556e-06, 'loss_fn': 'smoothl1', 'optimizer': 'RMSprop'}. Best is trial 26 with value: 0.086915110514849.\n",
      "Specified future encoders in `add_encoders` at model creation but model does not accept future covariates. future encoders will be ignored.\n",
      "GPU available: True (cuda), used: True\n",
      "TPU available: False, using: 0 TPU cores\n",
      "HPU available: False, using: 0 HPUs\n",
      "LOCAL_RANK: 0 - CUDA_VISIBLE_DEVICES: [0]\n"
     ]
    },
    {
     "name": "stdout",
     "output_type": "stream",
     "text": [
      "Starting time series verification for consistency...\n",
      "\n",
      "Performance metrics:\n",
      "                                    MSE        RMSE         MAE          R2  \\\n",
      "Temperature                    5.055768    2.248503    1.825987    0.834596   \n",
      "Precipitation_accumulated    776.568350   27.866976   23.447533 -228.809261   \n",
      "Humidity                      35.311643    5.942360    4.695106    0.759364   \n",
      "Wind_Speed_kmh                 0.856464    0.925453    0.747416    0.364928   \n",
      "Soil_Moisture              22699.757234  150.664386  123.681076    0.585731   \n",
      "Soil_Temperature               4.615384    2.148344    1.783522    0.713884   \n",
      "Wind_Dir_Sin                   0.413859    0.643318    0.538289    0.249437   \n",
      "Wind_Dir_Cos                   0.310314    0.557058    0.468685    0.153169   \n",
      "\n",
      "                                SMAPE  \n",
      "Temperature                 31.614087  \n",
      "Precipitation_accumulated    5.218019  \n",
      "Humidity                     5.503232  \n",
      "Wind_Speed_kmh              65.847278  \n",
      "Soil_Moisture                1.433362  \n",
      "Soil_Temperature            33.151947  \n",
      "Wind_Dir_Sin               111.719305  \n",
      "Wind_Dir_Cos               121.848409  \n",
      "The R2 for this fold was 0.10248316827597198\n",
      "Results of trial 27 saved in optuna_iteration_metrics/trial_27.json\n",
      "Current value: 0.10248316827597198, Current params: {'input_chunk_length': 39, 'output_chunk_length': 1, 'hidden_size': 179, 'layer_size': 2, 'dropout': 0.4751525664313049, 'batch_size': 195, 'lr': 0.00041361805227968615, 'weight_decay': 3.4405625100333556e-06, 'loss_fn': 'smoothl1', 'optimizer': 'RMSprop'}\n",
      "Best value: 0.086915110514849, Best params: {'input_chunk_length': 39, 'output_chunk_length': 1, 'hidden_size': 187, 'layer_size': 1, 'dropout': 0.45835461386422743, 'batch_size': 202, 'lr': 0.0025979414519729325, 'weight_decay': 3.564519422612453e-06, 'loss_fn': 'smoothl1', 'optimizer': 'RMSprop'}\n",
      "\n",
      "Starting Trial 28\n",
      "Hyperparameters: {'input_chunk_length': 42, 'output_chunk_length': 1, 'hidden_size': 147, 'layer_size': 2, 'dropout': 0.43892997866082145, 'batch_size': 188, 'lr': 0.00038129313278045167, 'weight_decay': 3.5046612997697573e-06, 'loss_fn': 'smoothl1', 'optimizer': 'RMSprop'}\n",
      "\n",
      "Training the model...\n",
      "Train set: 6647 samples\n",
      "Validation set: 1662 samples\n"
     ]
    },
    {
     "name": "stderr",
     "output_type": "stream",
     "text": [
      "Metric val_loss improved. New best score: 0.031\n",
      "Metric val_loss improved by 0.003 >= min_delta = 0.0005. New best score: 0.028\n",
      "Metric val_loss improved by 0.004 >= min_delta = 0.0005. New best score: 0.024\n",
      "Metric val_loss improved by 0.004 >= min_delta = 0.0005. New best score: 0.019\n",
      "Metric val_loss improved by 0.001 >= min_delta = 0.0005. New best score: 0.018\n",
      "Metric val_loss improved by 0.001 >= min_delta = 0.0005. New best score: 0.017\n",
      "Metric val_loss improved by 0.001 >= min_delta = 0.0005. New best score: 0.017\n",
      "Metric val_loss improved by 0.002 >= min_delta = 0.0005. New best score: 0.015\n",
      "Metric val_loss improved by 0.001 >= min_delta = 0.0005. New best score: 0.014\n",
      "Metric val_loss improved by 0.001 >= min_delta = 0.0005. New best score: 0.013\n",
      "`Trainer.fit` stopped: `max_epochs=30` reached.\n",
      "GPU available: True (cuda), used: True\n",
      "TPU available: False, using: 0 TPU cores\n",
      "HPU available: False, using: 0 HPUs\n",
      "LOCAL_RANK: 0 - CUDA_VISIBLE_DEVICES: [0]\n"
     ]
    },
    {
     "name": "stdout",
     "output_type": "stream",
     "text": [
      "Model loaded from checkpoint for trial 28\n"
     ]
    },
    {
     "name": "stderr",
     "output_type": "stream",
     "text": [
      "/home/eduardo/Documentos/Water-Cycle-Neural-Network/venv/lib/python3.12/site-packages/pytorch_lightning/trainer/connectors/data_connector.py:425: The 'predict_dataloader' does not have many workers which may be a bottleneck. Consider increasing the value of the `num_workers` argument` to `num_workers=11` in the `DataLoader` to improve performance.\n",
      "[I 2025-05-25 17:36:12,906] Trial 28 finished with value: 0.10349024633067375 and parameters: {'input_chunk_length': 42, 'output_chunk_length': 1, 'hidden_size': 147, 'layer_size': 2, 'dropout': 0.43892997866082145, 'batch_size': 188, 'lr': 0.00038129313278045167, 'weight_decay': 3.5046612997697573e-06, 'loss_fn': 'smoothl1', 'optimizer': 'RMSprop'}. Best is trial 26 with value: 0.086915110514849.\n",
      "Specified future encoders in `add_encoders` at model creation but model does not accept future covariates. future encoders will be ignored.\n",
      "GPU available: True (cuda), used: True\n",
      "TPU available: False, using: 0 TPU cores\n",
      "HPU available: False, using: 0 HPUs\n",
      "LOCAL_RANK: 0 - CUDA_VISIBLE_DEVICES: [0]\n"
     ]
    },
    {
     "name": "stdout",
     "output_type": "stream",
     "text": [
      "Starting time series verification for consistency...\n",
      "\n",
      "Performance metrics:\n",
      "                                    MSE        RMSE         MAE          R2  \\\n",
      "Temperature                    4.891935    2.211772    1.790274    0.839904   \n",
      "Precipitation_accumulated    476.742197   21.834427   18.891331 -140.756228   \n",
      "Humidity                      30.412375    5.514742    4.312638    0.792701   \n",
      "Wind_Speed_kmh                 0.891979    0.944446    0.760389    0.337837   \n",
      "Soil_Moisture              54441.822373  233.327715  209.483463   -0.005050   \n",
      "Soil_Temperature               3.116555    1.765377    1.438268    0.806796   \n",
      "Wind_Dir_Sin                   0.412529    0.642284    0.555461    0.253138   \n",
      "Wind_Dir_Cos                   0.315578    0.561763    0.470790    0.138179   \n",
      "\n",
      "                                SMAPE  \n",
      "Temperature                 31.064691  \n",
      "Precipitation_accumulated    4.169567  \n",
      "Humidity                     5.101673  \n",
      "Wind_Speed_kmh              66.242547  \n",
      "Soil_Moisture                2.463397  \n",
      "Soil_Temperature            25.720710  \n",
      "Wind_Dir_Sin               117.715005  \n",
      "Wind_Dir_Cos               120.229407  \n",
      "The R2 for this fold was 0.10349024633067375\n",
      "Results of trial 28 saved in optuna_iteration_metrics/trial_28.json\n",
      "Current value: 0.10349024633067375, Current params: {'input_chunk_length': 42, 'output_chunk_length': 1, 'hidden_size': 147, 'layer_size': 2, 'dropout': 0.43892997866082145, 'batch_size': 188, 'lr': 0.00038129313278045167, 'weight_decay': 3.5046612997697573e-06, 'loss_fn': 'smoothl1', 'optimizer': 'RMSprop'}\n",
      "Best value: 0.086915110514849, Best params: {'input_chunk_length': 39, 'output_chunk_length': 1, 'hidden_size': 187, 'layer_size': 1, 'dropout': 0.45835461386422743, 'batch_size': 202, 'lr': 0.0025979414519729325, 'weight_decay': 3.564519422612453e-06, 'loss_fn': 'smoothl1', 'optimizer': 'RMSprop'}\n",
      "\n",
      "Starting Trial 29\n",
      "Hyperparameters: {'input_chunk_length': 41, 'output_chunk_length': 2, 'hidden_size': 151, 'layer_size': 3, 'dropout': 0.46073702925776683, 'batch_size': 198, 'lr': 0.0001548299269504203, 'weight_decay': 3.860601818754378e-06, 'loss_fn': 'smoothl1', 'optimizer': 'RMSprop'}\n",
      "\n",
      "Training the model...\n",
      "Train set: 6647 samples\n",
      "Validation set: 1662 samples\n"
     ]
    },
    {
     "name": "stderr",
     "output_type": "stream",
     "text": [
      "Metric val_loss improved. New best score: 0.038\n",
      "Metric val_loss improved by 0.004 >= min_delta = 0.0005. New best score: 0.034\n",
      "[I 2025-05-25 17:36:20,710] Trial 29 pruned. Trial was pruned at epoch 2.\n",
      "Specified future encoders in `add_encoders` at model creation but model does not accept future covariates. future encoders will be ignored.\n",
      "GPU available: True (cuda), used: True\n",
      "TPU available: False, using: 0 TPU cores\n",
      "HPU available: False, using: 0 HPUs\n",
      "LOCAL_RANK: 0 - CUDA_VISIBLE_DEVICES: [0]\n"
     ]
    },
    {
     "name": "stdout",
     "output_type": "stream",
     "text": [
      "Current value: 0.030337193345273742, Current params: {'input_chunk_length': 41, 'output_chunk_length': 2, 'hidden_size': 151, 'layer_size': 3, 'dropout': 0.46073702925776683, 'batch_size': 198, 'lr': 0.0001548299269504203, 'weight_decay': 3.860601818754378e-06, 'loss_fn': 'smoothl1', 'optimizer': 'RMSprop'}\n",
      "Best value: 0.086915110514849, Best params: {'input_chunk_length': 39, 'output_chunk_length': 1, 'hidden_size': 187, 'layer_size': 1, 'dropout': 0.45835461386422743, 'batch_size': 202, 'lr': 0.0025979414519729325, 'weight_decay': 3.564519422612453e-06, 'loss_fn': 'smoothl1', 'optimizer': 'RMSprop'}\n",
      "\n",
      "Starting Trial 30\n",
      "Hyperparameters: {'input_chunk_length': 38, 'output_chunk_length': 1, 'hidden_size': 180, 'layer_size': 2, 'dropout': 0.4535291156830433, 'batch_size': 149, 'lr': 4.397102953790381e-05, 'weight_decay': 2.1431196458543368e-06, 'loss_fn': 'smoothl1', 'optimizer': 'RMSprop'}\n",
      "\n",
      "Training the model...\n",
      "Train set: 6647 samples\n",
      "Validation set: 1662 samples\n"
     ]
    },
    {
     "name": "stderr",
     "output_type": "stream",
     "text": [
      "Metric val_loss improved. New best score: 0.041\n",
      "[I 2025-05-25 17:36:25,382] Trial 30 pruned. Trial was pruned at epoch 1.\n"
     ]
    },
    {
     "name": "stdout",
     "output_type": "stream",
     "text": [
      "Current value: 0.03754212443811303, Current params: {'input_chunk_length': 38, 'output_chunk_length': 1, 'hidden_size': 180, 'layer_size': 2, 'dropout': 0.4535291156830433, 'batch_size': 149, 'lr': 4.397102953790381e-05, 'weight_decay': 2.1431196458543368e-06, 'loss_fn': 'smoothl1', 'optimizer': 'RMSprop'}\n",
      "Best value: 0.086915110514849, Best params: {'input_chunk_length': 39, 'output_chunk_length': 1, 'hidden_size': 187, 'layer_size': 1, 'dropout': 0.45835461386422743, 'batch_size': 202, 'lr': 0.0025979414519729325, 'weight_decay': 3.564519422612453e-06, 'loss_fn': 'smoothl1', 'optimizer': 'RMSprop'}\n",
      "\n",
      "Starting Trial 31\n",
      "Hyperparameters: {'input_chunk_length': 46, 'output_chunk_length': 4, 'hidden_size': 143, 'layer_size': 2, 'dropout': 0.47877542426839964, 'batch_size': 176, 'lr': 0.00037122281733888623, 'weight_decay': 3.058783585833239e-06, 'loss_fn': 'smoothl1', 'optimizer': 'RMSprop'}\n",
      "\n",
      "Training the model...\n",
      "Train set: 6647 samples\n",
      "Validation set: 1662 samples\n"
     ]
    },
    {
     "name": "stderr",
     "output_type": "stream",
     "text": [
      "Specified future encoders in `add_encoders` at model creation but model does not accept future covariates. future encoders will be ignored.\n",
      "GPU available: True (cuda), used: True\n",
      "TPU available: False, using: 0 TPU cores\n",
      "HPU available: False, using: 0 HPUs\n",
      "LOCAL_RANK: 0 - CUDA_VISIBLE_DEVICES: [0]\n",
      "Metric val_loss improved. New best score: 0.035\n",
      "Metric val_loss improved by 0.008 >= min_delta = 0.0005. New best score: 0.027\n",
      "Metric val_loss improved by 0.002 >= min_delta = 0.0005. New best score: 0.025\n",
      "Metric val_loss improved by 0.002 >= min_delta = 0.0005. New best score: 0.024\n",
      "[I 2025-05-25 17:38:25,958] Trial 31 pruned. Trial was pruned at epoch 4.\n",
      "Specified future encoders in `add_encoders` at model creation but model does not accept future covariates. future encoders will be ignored.\n",
      "GPU available: True (cuda), used: True\n",
      "TPU available: False, using: 0 TPU cores\n",
      "HPU available: False, using: 0 HPUs\n",
      "LOCAL_RANK: 0 - CUDA_VISIBLE_DEVICES: [0]\n"
     ]
    },
    {
     "name": "stdout",
     "output_type": "stream",
     "text": [
      "Current value: 0.02361802745929441, Current params: {'input_chunk_length': 46, 'output_chunk_length': 4, 'hidden_size': 143, 'layer_size': 2, 'dropout': 0.47877542426839964, 'batch_size': 176, 'lr': 0.00037122281733888623, 'weight_decay': 3.058783585833239e-06, 'loss_fn': 'smoothl1', 'optimizer': 'RMSprop'}\n",
      "Best value: 0.086915110514849, Best params: {'input_chunk_length': 39, 'output_chunk_length': 1, 'hidden_size': 187, 'layer_size': 1, 'dropout': 0.45835461386422743, 'batch_size': 202, 'lr': 0.0025979414519729325, 'weight_decay': 3.564519422612453e-06, 'loss_fn': 'smoothl1', 'optimizer': 'RMSprop'}\n",
      "\n",
      "Starting Trial 32\n",
      "Hyperparameters: {'input_chunk_length': 48, 'output_chunk_length': 3, 'hidden_size': 120, 'layer_size': 3, 'dropout': 0.4471985682339108, 'batch_size': 196, 'lr': 0.0007288024938832296, 'weight_decay': 1.0068628518597421e-06, 'loss_fn': 'smoothl1', 'optimizer': 'RMSprop'}\n",
      "\n",
      "Training the model...\n",
      "Train set: 6647 samples\n",
      "Validation set: 1662 samples\n"
     ]
    },
    {
     "name": "stderr",
     "output_type": "stream",
     "text": [
      "Metric val_loss improved. New best score: 0.036\n",
      "Metric val_loss improved by 0.006 >= min_delta = 0.0005. New best score: 0.031\n",
      "Metric val_loss improved by 0.003 >= min_delta = 0.0005. New best score: 0.028\n",
      "Metric val_loss improved by 0.004 >= min_delta = 0.0005. New best score: 0.024\n",
      "[I 2025-05-25 17:38:38,094] Trial 32 pruned. Trial was pruned at epoch 4.\n",
      "Specified future encoders in `add_encoders` at model creation but model does not accept future covariates. future encoders will be ignored.\n",
      "GPU available: True (cuda), used: True\n",
      "TPU available: False, using: 0 TPU cores\n",
      "HPU available: False, using: 0 HPUs\n",
      "LOCAL_RANK: 0 - CUDA_VISIBLE_DEVICES: [0]\n"
     ]
    },
    {
     "name": "stdout",
     "output_type": "stream",
     "text": [
      "Current value: 0.02582531520843174, Current params: {'input_chunk_length': 48, 'output_chunk_length': 3, 'hidden_size': 120, 'layer_size': 3, 'dropout': 0.4471985682339108, 'batch_size': 196, 'lr': 0.0007288024938832296, 'weight_decay': 1.0068628518597421e-06, 'loss_fn': 'smoothl1', 'optimizer': 'RMSprop'}\n",
      "Best value: 0.086915110514849, Best params: {'input_chunk_length': 39, 'output_chunk_length': 1, 'hidden_size': 187, 'layer_size': 1, 'dropout': 0.45835461386422743, 'batch_size': 202, 'lr': 0.0025979414519729325, 'weight_decay': 3.564519422612453e-06, 'loss_fn': 'smoothl1', 'optimizer': 'RMSprop'}\n",
      "\n",
      "Starting Trial 33\n",
      "Hyperparameters: {'input_chunk_length': 51, 'output_chunk_length': 5, 'hidden_size': 152, 'layer_size': 2, 'dropout': 0.40563190930427917, 'batch_size': 207, 'lr': 0.00015588919146171433, 'weight_decay': 7.910987759973466e-06, 'loss_fn': 'smoothl1', 'optimizer': 'RMSprop'}\n",
      "\n",
      "Training the model...\n",
      "Train set: 6647 samples\n",
      "Validation set: 1662 samples\n"
     ]
    },
    {
     "name": "stderr",
     "output_type": "stream",
     "text": [
      "[I 2025-05-25 17:38:40,623] Trial 33 pruned. Trial was pruned at epoch 0.\n",
      "Specified future encoders in `add_encoders` at model creation but model does not accept future covariates. future encoders will be ignored.\n",
      "GPU available: True (cuda), used: True\n",
      "TPU available: False, using: 0 TPU cores\n",
      "HPU available: False, using: 0 HPUs\n",
      "LOCAL_RANK: 0 - CUDA_VISIBLE_DEVICES: [0]\n"
     ]
    },
    {
     "name": "stdout",
     "output_type": "stream",
     "text": [
      "Current value: 0.04246622885146534, Current params: {'input_chunk_length': 51, 'output_chunk_length': 5, 'hidden_size': 152, 'layer_size': 2, 'dropout': 0.40563190930427917, 'batch_size': 207, 'lr': 0.00015588919146171433, 'weight_decay': 7.910987759973466e-06, 'loss_fn': 'smoothl1', 'optimizer': 'RMSprop'}\n",
      "Best value: 0.086915110514849, Best params: {'input_chunk_length': 39, 'output_chunk_length': 1, 'hidden_size': 187, 'layer_size': 1, 'dropout': 0.45835461386422743, 'batch_size': 202, 'lr': 0.0025979414519729325, 'weight_decay': 3.564519422612453e-06, 'loss_fn': 'smoothl1', 'optimizer': 'RMSprop'}\n",
      "\n",
      "Starting Trial 34\n",
      "Hyperparameters: {'input_chunk_length': 42, 'output_chunk_length': 1, 'hidden_size': 205, 'layer_size': 2, 'dropout': 0.49334431255352124, 'batch_size': 179, 'lr': 2.7966494658804013e-05, 'weight_decay': 1.4802958673957821e-05, 'loss_fn': 'smoothl1', 'optimizer': 'RMSprop'}\n",
      "\n",
      "Training the model...\n",
      "Train set: 6647 samples\n",
      "Validation set: 1662 samples\n"
     ]
    },
    {
     "name": "stderr",
     "output_type": "stream",
     "text": [
      "[I 2025-05-25 17:38:43,575] Trial 34 pruned. Trial was pruned at epoch 0.\n",
      "Specified future encoders in `add_encoders` at model creation but model does not accept future covariates. future encoders will be ignored.\n",
      "GPU available: True (cuda), used: True\n",
      "TPU available: False, using: 0 TPU cores\n",
      "HPU available: False, using: 0 HPUs\n",
      "LOCAL_RANK: 0 - CUDA_VISIBLE_DEVICES: [0]\n"
     ]
    },
    {
     "name": "stdout",
     "output_type": "stream",
     "text": [
      "Current value: 0.0515132727801464, Current params: {'input_chunk_length': 42, 'output_chunk_length': 1, 'hidden_size': 205, 'layer_size': 2, 'dropout': 0.49334431255352124, 'batch_size': 179, 'lr': 2.7966494658804013e-05, 'weight_decay': 1.4802958673957821e-05, 'loss_fn': 'smoothl1', 'optimizer': 'RMSprop'}\n",
      "Best value: 0.086915110514849, Best params: {'input_chunk_length': 39, 'output_chunk_length': 1, 'hidden_size': 187, 'layer_size': 1, 'dropout': 0.45835461386422743, 'batch_size': 202, 'lr': 0.0025979414519729325, 'weight_decay': 3.564519422612453e-06, 'loss_fn': 'smoothl1', 'optimizer': 'RMSprop'}\n",
      "\n",
      "Starting Trial 35\n",
      "Hyperparameters: {'input_chunk_length': 38, 'output_chunk_length': 7, 'hidden_size': 172, 'layer_size': 2, 'dropout': 0.4124870958730108, 'batch_size': 224, 'lr': 0.0005829472658035458, 'weight_decay': 4.859147010847366e-06, 'loss_fn': 'smoothl1', 'optimizer': 'RMSprop'}\n",
      "\n",
      "Training the model...\n",
      "Train set: 6647 samples\n",
      "Validation set: 1662 samples\n"
     ]
    },
    {
     "name": "stderr",
     "output_type": "stream",
     "text": [
      "Metric val_loss improved. New best score: 0.037\n",
      "Metric val_loss improved by 0.004 >= min_delta = 0.0005. New best score: 0.033\n",
      "Metric val_loss improved by 0.005 >= min_delta = 0.0005. New best score: 0.028\n",
      "Metric val_loss improved by 0.003 >= min_delta = 0.0005. New best score: 0.025\n",
      "[I 2025-05-25 17:38:53,239] Trial 35 pruned. Trial was pruned at epoch 4.\n",
      "Specified future encoders in `add_encoders` at model creation but model does not accept future covariates. future encoders will be ignored.\n",
      "GPU available: True (cuda), used: True\n",
      "TPU available: False, using: 0 TPU cores\n",
      "HPU available: False, using: 0 HPUs\n",
      "LOCAL_RANK: 0 - CUDA_VISIBLE_DEVICES: [0]\n"
     ]
    },
    {
     "name": "stdout",
     "output_type": "stream",
     "text": [
      "Current value: 0.024183445419302417, Current params: {'input_chunk_length': 38, 'output_chunk_length': 7, 'hidden_size': 172, 'layer_size': 2, 'dropout': 0.4124870958730108, 'batch_size': 224, 'lr': 0.0005829472658035458, 'weight_decay': 4.859147010847366e-06, 'loss_fn': 'smoothl1', 'optimizer': 'RMSprop'}\n",
      "Best value: 0.086915110514849, Best params: {'input_chunk_length': 39, 'output_chunk_length': 1, 'hidden_size': 187, 'layer_size': 1, 'dropout': 0.45835461386422743, 'batch_size': 202, 'lr': 0.0025979414519729325, 'weight_decay': 3.564519422612453e-06, 'loss_fn': 'smoothl1', 'optimizer': 'RMSprop'}\n",
      "\n",
      "Starting Trial 36\n",
      "Hyperparameters: {'input_chunk_length': 47, 'output_chunk_length': 3, 'hidden_size': 123, 'layer_size': 3, 'dropout': 0.30341198003285685, 'batch_size': 193, 'lr': 0.0029110013329308065, 'weight_decay': 2.0763100872075406e-06, 'loss_fn': 'smoothl1', 'optimizer': 'RMSprop'}\n",
      "\n",
      "Training the model...\n",
      "Train set: 6647 samples\n",
      "Validation set: 1662 samples\n"
     ]
    },
    {
     "name": "stderr",
     "output_type": "stream",
     "text": [
      "[I 2025-05-25 17:38:56,158] Trial 36 pruned. Trial was pruned at epoch 0.\n",
      "Specified future encoders in `add_encoders` at model creation but model does not accept future covariates. future encoders will be ignored.\n",
      "GPU available: True (cuda), used: True\n",
      "TPU available: False, using: 0 TPU cores\n",
      "HPU available: False, using: 0 HPUs\n",
      "LOCAL_RANK: 0 - CUDA_VISIBLE_DEVICES: [0]\n"
     ]
    },
    {
     "name": "stdout",
     "output_type": "stream",
     "text": [
      "Current value: 0.04595101170474904, Current params: {'input_chunk_length': 47, 'output_chunk_length': 3, 'hidden_size': 123, 'layer_size': 3, 'dropout': 0.30341198003285685, 'batch_size': 193, 'lr': 0.0029110013329308065, 'weight_decay': 2.0763100872075406e-06, 'loss_fn': 'smoothl1', 'optimizer': 'RMSprop'}\n",
      "Best value: 0.086915110514849, Best params: {'input_chunk_length': 39, 'output_chunk_length': 1, 'hidden_size': 187, 'layer_size': 1, 'dropout': 0.45835461386422743, 'batch_size': 202, 'lr': 0.0025979414519729325, 'weight_decay': 3.564519422612453e-06, 'loss_fn': 'smoothl1', 'optimizer': 'RMSprop'}\n",
      "\n",
      "Starting Trial 37\n",
      "Hyperparameters: {'input_chunk_length': 62, 'output_chunk_length': 2, 'hidden_size': 100, 'layer_size': 2, 'dropout': 0.4370391505883075, 'batch_size': 75, 'lr': 0.0013292399535826754, 'weight_decay': 0.009462906901555126, 'loss_fn': 'smoothl1', 'optimizer': 'RMSprop'}\n",
      "\n",
      "Training the model...\n",
      "Train set: 6647 samples\n",
      "Validation set: 1662 samples\n"
     ]
    },
    {
     "name": "stderr",
     "output_type": "stream",
     "text": [
      "[I 2025-05-25 17:38:59,974] Trial 37 pruned. Trial was pruned at epoch 0.\n"
     ]
    },
    {
     "name": "stdout",
     "output_type": "stream",
     "text": [
      "Current value: 0.0448873765033925, Current params: {'input_chunk_length': 62, 'output_chunk_length': 2, 'hidden_size': 100, 'layer_size': 2, 'dropout': 0.4370391505883075, 'batch_size': 75, 'lr': 0.0013292399535826754, 'weight_decay': 0.009462906901555126, 'loss_fn': 'smoothl1', 'optimizer': 'RMSprop'}\n",
      "Best value: 0.086915110514849, Best params: {'input_chunk_length': 39, 'output_chunk_length': 1, 'hidden_size': 187, 'layer_size': 1, 'dropout': 0.45835461386422743, 'batch_size': 202, 'lr': 0.0025979414519729325, 'weight_decay': 3.564519422612453e-06, 'loss_fn': 'smoothl1', 'optimizer': 'RMSprop'}\n",
      "\n",
      "Starting Trial 38\n",
      "Hyperparameters: {'input_chunk_length': 36, 'output_chunk_length': 5, 'hidden_size': 227, 'layer_size': 3, 'dropout': 0.47076073192284973, 'batch_size': 172, 'lr': 0.0003702332454432082, 'weight_decay': 5.859229048016446e-06, 'loss_fn': 'mae', 'optimizer': 'RMSprop'}\n",
      "\n",
      "Training the model...\n",
      "Train set: 6647 samples\n",
      "Validation set: 1662 samples\n"
     ]
    },
    {
     "name": "stderr",
     "output_type": "stream",
     "text": [
      "Specified future encoders in `add_encoders` at model creation but model does not accept future covariates. future encoders will be ignored.\n",
      "GPU available: True (cuda), used: True\n",
      "TPU available: False, using: 0 TPU cores\n",
      "HPU available: False, using: 0 HPUs\n",
      "LOCAL_RANK: 0 - CUDA_VISIBLE_DEVICES: [0]\n",
      "[I 2025-05-25 17:39:59,190] Trial 38 pruned. Trial was pruned at epoch 0.\n",
      "Specified future encoders in `add_encoders` at model creation but model does not accept future covariates. future encoders will be ignored.\n",
      "GPU available: True (cuda), used: True\n",
      "TPU available: False, using: 0 TPU cores\n",
      "HPU available: False, using: 0 HPUs\n",
      "LOCAL_RANK: 0 - CUDA_VISIBLE_DEVICES: [0]\n"
     ]
    },
    {
     "name": "stdout",
     "output_type": "stream",
     "text": [
      "Current value: 0.220065801081849, Current params: {'input_chunk_length': 36, 'output_chunk_length': 5, 'hidden_size': 227, 'layer_size': 3, 'dropout': 0.47076073192284973, 'batch_size': 172, 'lr': 0.0003702332454432082, 'weight_decay': 5.859229048016446e-06, 'loss_fn': 'mae', 'optimizer': 'RMSprop'}\n",
      "Best value: 0.086915110514849, Best params: {'input_chunk_length': 39, 'output_chunk_length': 1, 'hidden_size': 187, 'layer_size': 1, 'dropout': 0.45835461386422743, 'batch_size': 202, 'lr': 0.0025979414519729325, 'weight_decay': 3.564519422612453e-06, 'loss_fn': 'smoothl1', 'optimizer': 'RMSprop'}\n",
      "\n",
      "Starting Trial 39\n",
      "Hyperparameters: {'input_chunk_length': 51, 'output_chunk_length': 2, 'hidden_size': 180, 'layer_size': 2, 'dropout': 0.15875376143306383, 'batch_size': 117, 'lr': 0.00022126264986795978, 'weight_decay': 2.196658291612383e-05, 'loss_fn': 'smoothl1', 'optimizer': 'SGD'}\n",
      "\n",
      "Training the model...\n",
      "Train set: 6647 samples\n",
      "Validation set: 1662 samples\n"
     ]
    },
    {
     "name": "stderr",
     "output_type": "stream",
     "text": [
      "[I 2025-05-25 17:40:02,622] Trial 39 pruned. Trial was pruned at epoch 0.\n",
      "Specified future encoders in `add_encoders` at model creation but model does not accept future covariates. future encoders will be ignored.\n",
      "GPU available: True (cuda), used: True\n",
      "TPU available: False, using: 0 TPU cores\n",
      "HPU available: False, using: 0 HPUs\n",
      "LOCAL_RANK: 0 - CUDA_VISIBLE_DEVICES: [0]\n"
     ]
    },
    {
     "name": "stdout",
     "output_type": "stream",
     "text": [
      "Current value: 0.19722280332328695, Current params: {'input_chunk_length': 51, 'output_chunk_length': 2, 'hidden_size': 180, 'layer_size': 2, 'dropout': 0.15875376143306383, 'batch_size': 117, 'lr': 0.00022126264986795978, 'weight_decay': 2.196658291612383e-05, 'loss_fn': 'smoothl1', 'optimizer': 'SGD'}\n",
      "Best value: 0.086915110514849, Best params: {'input_chunk_length': 39, 'output_chunk_length': 1, 'hidden_size': 187, 'layer_size': 1, 'dropout': 0.45835461386422743, 'batch_size': 202, 'lr': 0.0025979414519729325, 'weight_decay': 3.564519422612453e-06, 'loss_fn': 'smoothl1', 'optimizer': 'RMSprop'}\n",
      "\n",
      "Starting Trial 40\n",
      "Hyperparameters: {'input_chunk_length': 33, 'output_chunk_length': 4, 'hidden_size': 131, 'layer_size': 2, 'dropout': 0.2907736869552577, 'batch_size': 152, 'lr': 2.3869506728230572e-06, 'weight_decay': 0.004757575732978477, 'loss_fn': 'smoothl1', 'optimizer': 'RMSprop'}\n",
      "\n",
      "Training the model...\n",
      "Train set: 6647 samples\n",
      "Validation set: 1662 samples\n"
     ]
    },
    {
     "name": "stderr",
     "output_type": "stream",
     "text": [
      "[I 2025-05-25 17:40:04,886] Trial 40 pruned. Trial was pruned at epoch 0.\n"
     ]
    },
    {
     "name": "stdout",
     "output_type": "stream",
     "text": [
      "Current value: 0.22326302608708457, Current params: {'input_chunk_length': 33, 'output_chunk_length': 4, 'hidden_size': 131, 'layer_size': 2, 'dropout': 0.2907736869552577, 'batch_size': 152, 'lr': 2.3869506728230572e-06, 'weight_decay': 0.004757575732978477, 'loss_fn': 'smoothl1', 'optimizer': 'RMSprop'}\n",
      "Best value: 0.086915110514849, Best params: {'input_chunk_length': 39, 'output_chunk_length': 1, 'hidden_size': 187, 'layer_size': 1, 'dropout': 0.45835461386422743, 'batch_size': 202, 'lr': 0.0025979414519729325, 'weight_decay': 3.564519422612453e-06, 'loss_fn': 'smoothl1', 'optimizer': 'RMSprop'}\n",
      "\n",
      "Starting Trial 41\n",
      "Hyperparameters: {'input_chunk_length': 33, 'output_chunk_length': 1, 'hidden_size': 177, 'layer_size': 1, 'dropout': 0.3977480537163414, 'batch_size': 171, 'lr': 0.0016861411166993817, 'weight_decay': 1.6119603268127837e-06, 'loss_fn': 'smoothl1', 'optimizer': 'AdamW'}\n",
      "\n",
      "Training the model...\n",
      "Train set: 6647 samples\n",
      "Validation set: 1662 samples\n"
     ]
    },
    {
     "name": "stderr",
     "output_type": "stream",
     "text": [
      "Specified future encoders in `add_encoders` at model creation but model does not accept future covariates. future encoders will be ignored.\n",
      "/home/eduardo/Documentos/Water-Cycle-Neural-Network/venv/lib/python3.12/site-packages/torch/nn/modules/rnn.py:123: UserWarning: dropout option adds dropout after all but last recurrent layer, so non-zero dropout expects num_layers greater than 1, but got dropout=0.3977480537163414 and num_layers=1\n",
      "  warnings.warn(\n",
      "GPU available: True (cuda), used: True\n",
      "TPU available: False, using: 0 TPU cores\n",
      "HPU available: False, using: 0 HPUs\n",
      "LOCAL_RANK: 0 - CUDA_VISIBLE_DEVICES: [0]\n",
      "Metric val_loss improved. New best score: 0.032\n",
      "Metric val_loss improved by 0.008 >= min_delta = 0.0005. New best score: 0.024\n",
      "Metric val_loss improved by 0.006 >= min_delta = 0.0005. New best score: 0.018\n",
      "Metric val_loss improved by 0.003 >= min_delta = 0.0005. New best score: 0.015\n",
      "Metric val_loss improved by 0.001 >= min_delta = 0.0005. New best score: 0.014\n",
      "Metric val_loss improved by 0.001 >= min_delta = 0.0005. New best score: 0.013\n",
      "Metric val_loss improved by 0.001 >= min_delta = 0.0005. New best score: 0.012\n",
      "Monitored metric val_loss did not improve in the last 15 records. Best score: 0.012. Signaling Trainer to stop.\n",
      "/home/eduardo/Documentos/Water-Cycle-Neural-Network/venv/lib/python3.12/site-packages/torch/nn/modules/rnn.py:123: UserWarning: dropout option adds dropout after all but last recurrent layer, so non-zero dropout expects num_layers greater than 1, but got dropout=0.3977480537163414 and num_layers=1\n",
      "  warnings.warn(\n",
      "GPU available: True (cuda), used: True\n",
      "TPU available: False, using: 0 TPU cores\n",
      "HPU available: False, using: 0 HPUs\n",
      "LOCAL_RANK: 0 - CUDA_VISIBLE_DEVICES: [0]\n",
      "/home/eduardo/Documentos/Water-Cycle-Neural-Network/venv/lib/python3.12/site-packages/pytorch_lightning/trainer/connectors/data_connector.py:425: The 'predict_dataloader' does not have many workers which may be a bottleneck. Consider increasing the value of the `num_workers` argument` to `num_workers=11` in the `DataLoader` to improve performance.\n"
     ]
    },
    {
     "name": "stdout",
     "output_type": "stream",
     "text": [
      "Model loaded from checkpoint for trial 41\n"
     ]
    },
    {
     "name": "stderr",
     "output_type": "stream",
     "text": [
      "[I 2025-05-25 17:41:30,351] Trial 41 finished with value: 0.08858974546754607 and parameters: {'input_chunk_length': 33, 'output_chunk_length': 1, 'hidden_size': 177, 'layer_size': 1, 'dropout': 0.3977480537163414, 'batch_size': 171, 'lr': 0.0016861411166993817, 'weight_decay': 1.6119603268127837e-06, 'loss_fn': 'smoothl1', 'optimizer': 'AdamW'}. Best is trial 26 with value: 0.086915110514849.\n",
      "Specified future encoders in `add_encoders` at model creation but model does not accept future covariates. future encoders will be ignored.\n",
      "/home/eduardo/Documentos/Water-Cycle-Neural-Network/venv/lib/python3.12/site-packages/torch/nn/modules/rnn.py:123: UserWarning: dropout option adds dropout after all but last recurrent layer, so non-zero dropout expects num_layers greater than 1, but got dropout=0.3989985888423775 and num_layers=1\n",
      "  warnings.warn(\n",
      "GPU available: True (cuda), used: True\n",
      "TPU available: False, using: 0 TPU cores\n",
      "HPU available: False, using: 0 HPUs\n",
      "LOCAL_RANK: 0 - CUDA_VISIBLE_DEVICES: [0]\n"
     ]
    },
    {
     "name": "stdout",
     "output_type": "stream",
     "text": [
      "Starting time series verification for consistency...\n",
      "\n",
      "Performance metrics:\n",
      "                                    MSE        RMSE        MAE         R2  \\\n",
      "Temperature                    2.740402    1.655416   1.328133   0.910122   \n",
      "Precipitation_accumulated    304.998075   17.464194  14.869056 -88.418369   \n",
      "Humidity                      26.522321    5.149983   4.127359   0.819078   \n",
      "Wind_Speed_kmh                 0.534646    0.731195   0.554043   0.603002   \n",
      "Soil_Moisture              15140.701370  123.047557  99.914543   0.731139   \n",
      "Soil_Temperature               1.989515    1.410502   1.159387   0.876411   \n",
      "Wind_Dir_Sin                   0.364850    0.604028   0.494858   0.337323   \n",
      "Wind_Dir_Cos                   0.307481    0.554510   0.453341   0.161282   \n",
      "\n",
      "                                SMAPE  \n",
      "Temperature                 24.987888  \n",
      "Precipitation_accumulated    3.270351  \n",
      "Humidity                     4.824991  \n",
      "Wind_Speed_kmh              57.489135  \n",
      "Soil_Moisture                1.168679  \n",
      "Soil_Temperature            28.378477  \n",
      "Wind_Dir_Sin                99.514081  \n",
      "Wind_Dir_Cos               112.902808  \n",
      "The R2 for this fold was 0.08858974546754607\n",
      "Results of trial 41 saved in optuna_iteration_metrics/trial_41.json\n",
      "Current value: 0.08858974546754607, Current params: {'input_chunk_length': 33, 'output_chunk_length': 1, 'hidden_size': 177, 'layer_size': 1, 'dropout': 0.3977480537163414, 'batch_size': 171, 'lr': 0.0016861411166993817, 'weight_decay': 1.6119603268127837e-06, 'loss_fn': 'smoothl1', 'optimizer': 'AdamW'}\n",
      "Best value: 0.086915110514849, Best params: {'input_chunk_length': 39, 'output_chunk_length': 1, 'hidden_size': 187, 'layer_size': 1, 'dropout': 0.45835461386422743, 'batch_size': 202, 'lr': 0.0025979414519729325, 'weight_decay': 3.564519422612453e-06, 'loss_fn': 'smoothl1', 'optimizer': 'RMSprop'}\n",
      "\n",
      "Starting Trial 42\n",
      "Hyperparameters: {'input_chunk_length': 27, 'output_chunk_length': 1, 'hidden_size': 183, 'layer_size': 1, 'dropout': 0.3989985888423775, 'batch_size': 222, 'lr': 0.003523644340084619, 'weight_decay': 1.4456254234404226e-06, 'loss_fn': 'smoothl1', 'optimizer': 'AdamW'}\n",
      "\n",
      "Training the model...\n",
      "Train set: 6647 samples\n",
      "Validation set: 1662 samples\n"
     ]
    },
    {
     "name": "stderr",
     "output_type": "stream",
     "text": [
      "Metric val_loss improved. New best score: 0.032\n",
      "Metric val_loss improved by 0.011 >= min_delta = 0.0005. New best score: 0.020\n",
      "Metric val_loss improved by 0.005 >= min_delta = 0.0005. New best score: 0.015\n",
      "Metric val_loss improved by 0.002 >= min_delta = 0.0005. New best score: 0.013\n",
      "Metric val_loss improved by 0.001 >= min_delta = 0.0005. New best score: 0.012\n",
      "Metric val_loss improved by 0.001 >= min_delta = 0.0005. New best score: 0.012\n",
      "Monitored metric val_loss did not improve in the last 15 records. Best score: 0.012. Signaling Trainer to stop.\n",
      "/home/eduardo/Documentos/Water-Cycle-Neural-Network/venv/lib/python3.12/site-packages/torch/nn/modules/rnn.py:123: UserWarning: dropout option adds dropout after all but last recurrent layer, so non-zero dropout expects num_layers greater than 1, but got dropout=0.3989985888423775 and num_layers=1\n",
      "  warnings.warn(\n",
      "GPU available: True (cuda), used: True\n",
      "TPU available: False, using: 0 TPU cores\n",
      "HPU available: False, using: 0 HPUs\n",
      "LOCAL_RANK: 0 - CUDA_VISIBLE_DEVICES: [0]\n",
      "/home/eduardo/Documentos/Water-Cycle-Neural-Network/venv/lib/python3.12/site-packages/pytorch_lightning/trainer/connectors/data_connector.py:425: The 'predict_dataloader' does not have many workers which may be a bottleneck. Consider increasing the value of the `num_workers` argument` to `num_workers=11` in the `DataLoader` to improve performance.\n"
     ]
    },
    {
     "name": "stdout",
     "output_type": "stream",
     "text": [
      "Model loaded from checkpoint for trial 42\n"
     ]
    },
    {
     "name": "stderr",
     "output_type": "stream",
     "text": [
      "[I 2025-05-25 17:49:20,552] Trial 42 finished with value: 0.08902357143150236 and parameters: {'input_chunk_length': 27, 'output_chunk_length': 1, 'hidden_size': 183, 'layer_size': 1, 'dropout': 0.3989985888423775, 'batch_size': 222, 'lr': 0.003523644340084619, 'weight_decay': 1.4456254234404226e-06, 'loss_fn': 'smoothl1', 'optimizer': 'AdamW'}. Best is trial 26 with value: 0.086915110514849.\n",
      "Specified future encoders in `add_encoders` at model creation but model does not accept future covariates. future encoders will be ignored.\n",
      "/home/eduardo/Documentos/Water-Cycle-Neural-Network/venv/lib/python3.12/site-packages/torch/nn/modules/rnn.py:123: UserWarning: dropout option adds dropout after all but last recurrent layer, so non-zero dropout expects num_layers greater than 1, but got dropout=0.4017136516252446 and num_layers=1\n",
      "  warnings.warn(\n",
      "GPU available: True (cuda), used: True\n",
      "TPU available: False, using: 0 TPU cores\n",
      "HPU available: False, using: 0 HPUs\n",
      "LOCAL_RANK: 0 - CUDA_VISIBLE_DEVICES: [0]\n"
     ]
    },
    {
     "name": "stdout",
     "output_type": "stream",
     "text": [
      "Starting time series verification for consistency...\n",
      "\n",
      "Performance metrics:\n",
      "                                    MSE        RMSE        MAE         R2  \\\n",
      "Temperature                    5.380470    2.319584   1.972726   0.823486   \n",
      "Precipitation_accumulated    203.584916   14.268319  11.566293 -58.137459   \n",
      "Humidity                      22.265428    4.718626   3.709877   0.848073   \n",
      "Wind_Speed_kmh                 0.524740    0.724390   0.558323   0.611705   \n",
      "Soil_Moisture              11439.177806  106.954092  84.186915   0.801410   \n",
      "Soil_Temperature               3.101094    1.760992   1.448824   0.807942   \n",
      "Wind_Dir_Sin                   0.361746    0.601454   0.487740   0.342442   \n",
      "Wind_Dir_Cos                   0.314343    0.560663   0.452073   0.144273   \n",
      "\n",
      "                                SMAPE  \n",
      "Temperature                 33.903855  \n",
      "Precipitation_accumulated    2.519905  \n",
      "Humidity                     4.324886  \n",
      "Wind_Speed_kmh              57.393369  \n",
      "Soil_Moisture                0.983578  \n",
      "Soil_Temperature            35.932789  \n",
      "Wind_Dir_Sin                96.842328  \n",
      "Wind_Dir_Cos               110.269657  \n",
      "The R2 for this fold was 0.08902357143150236\n",
      "Results of trial 42 saved in optuna_iteration_metrics/trial_42.json\n",
      "Current value: 0.08902357143150236, Current params: {'input_chunk_length': 27, 'output_chunk_length': 1, 'hidden_size': 183, 'layer_size': 1, 'dropout': 0.3989985888423775, 'batch_size': 222, 'lr': 0.003523644340084619, 'weight_decay': 1.4456254234404226e-06, 'loss_fn': 'smoothl1', 'optimizer': 'AdamW'}\n",
      "Best value: 0.086915110514849, Best params: {'input_chunk_length': 39, 'output_chunk_length': 1, 'hidden_size': 187, 'layer_size': 1, 'dropout': 0.45835461386422743, 'batch_size': 202, 'lr': 0.0025979414519729325, 'weight_decay': 3.564519422612453e-06, 'loss_fn': 'smoothl1', 'optimizer': 'RMSprop'}\n",
      "\n",
      "Starting Trial 43\n",
      "Hyperparameters: {'input_chunk_length': 24, 'output_chunk_length': 1, 'hidden_size': 182, 'layer_size': 1, 'dropout': 0.4017136516252446, 'batch_size': 220, 'lr': 0.001799984175490823, 'weight_decay': 1.544697699671261e-06, 'loss_fn': 'smoothl1', 'optimizer': 'RMSprop'}\n",
      "\n",
      "Training the model...\n",
      "Train set: 6647 samples\n",
      "Validation set: 1662 samples\n"
     ]
    },
    {
     "name": "stderr",
     "output_type": "stream",
     "text": [
      "Metric val_loss improved. New best score: 0.030\n",
      "Metric val_loss improved by 0.009 >= min_delta = 0.0005. New best score: 0.021\n",
      "Metric val_loss improved by 0.003 >= min_delta = 0.0005. New best score: 0.018\n",
      "Metric val_loss improved by 0.002 >= min_delta = 0.0005. New best score: 0.016\n",
      "Metric val_loss improved by 0.001 >= min_delta = 0.0005. New best score: 0.015\n",
      "Metric val_loss improved by 0.001 >= min_delta = 0.0005. New best score: 0.014\n",
      "Metric val_loss improved by 0.001 >= min_delta = 0.0005. New best score: 0.014\n",
      "`Trainer.fit` stopped: `max_epochs=30` reached.\n",
      "/home/eduardo/Documentos/Water-Cycle-Neural-Network/venv/lib/python3.12/site-packages/torch/nn/modules/rnn.py:123: UserWarning: dropout option adds dropout after all but last recurrent layer, so non-zero dropout expects num_layers greater than 1, but got dropout=0.4017136516252446 and num_layers=1\n",
      "  warnings.warn(\n",
      "GPU available: True (cuda), used: True\n",
      "TPU available: False, using: 0 TPU cores\n",
      "HPU available: False, using: 0 HPUs\n",
      "LOCAL_RANK: 0 - CUDA_VISIBLE_DEVICES: [0]\n",
      "/home/eduardo/Documentos/Water-Cycle-Neural-Network/venv/lib/python3.12/site-packages/pytorch_lightning/trainer/connectors/data_connector.py:425: The 'predict_dataloader' does not have many workers which may be a bottleneck. Consider increasing the value of the `num_workers` argument` to `num_workers=11` in the `DataLoader` to improve performance.\n"
     ]
    },
    {
     "name": "stdout",
     "output_type": "stream",
     "text": [
      "Model loaded from checkpoint for trial 43\n"
     ]
    },
    {
     "name": "stderr",
     "output_type": "stream",
     "text": [
      "[I 2025-05-25 17:49:52,865] Trial 43 finished with value: 0.10042113140262127 and parameters: {'input_chunk_length': 24, 'output_chunk_length': 1, 'hidden_size': 182, 'layer_size': 1, 'dropout': 0.4017136516252446, 'batch_size': 220, 'lr': 0.001799984175490823, 'weight_decay': 1.544697699671261e-06, 'loss_fn': 'smoothl1', 'optimizer': 'RMSprop'}. Best is trial 26 with value: 0.086915110514849.\n",
      "Specified future encoders in `add_encoders` at model creation but model does not accept future covariates. future encoders will be ignored.\n",
      "/home/eduardo/Documentos/Water-Cycle-Neural-Network/venv/lib/python3.12/site-packages/torch/nn/modules/rnn.py:123: UserWarning: dropout option adds dropout after all but last recurrent layer, so non-zero dropout expects num_layers greater than 1, but got dropout=0.3993944367023586 and num_layers=1\n",
      "  warnings.warn(\n",
      "GPU available: True (cuda), used: True\n",
      "TPU available: False, using: 0 TPU cores\n",
      "HPU available: False, using: 0 HPUs\n",
      "LOCAL_RANK: 0 - CUDA_VISIBLE_DEVICES: [0]\n"
     ]
    },
    {
     "name": "stdout",
     "output_type": "stream",
     "text": [
      "Starting time series verification for consistency...\n",
      "\n",
      "Performance metrics:\n",
      "                                    MSE        RMSE        MAE           R2  \\\n",
      "Temperature                    2.313027    1.520864   1.197596     0.924244   \n",
      "Precipitation_accumulated   4581.189711   67.684486  58.255021 -1323.716207   \n",
      "Humidity                      36.954184    6.078995   4.902129     0.747900   \n",
      "Wind_Speed_kmh                 0.543422    0.737172   0.558104     0.597748   \n",
      "Soil_Moisture              13972.861062  118.206857  94.417799     0.759691   \n",
      "Soil_Temperature               1.941107    1.393236   1.124059     0.880017   \n",
      "Wind_Dir_Sin                   0.374139    0.611669   0.488100     0.319324   \n",
      "Wind_Dir_Cos                   0.310835    0.557526   0.452430     0.155756   \n",
      "\n",
      "                                SMAPE  \n",
      "Temperature                 23.515703  \n",
      "Precipitation_accumulated   13.682847  \n",
      "Humidity                     5.743787  \n",
      "Wind_Speed_kmh              57.501289  \n",
      "Soil_Moisture                1.105630  \n",
      "Soil_Temperature            26.747160  \n",
      "Wind_Dir_Sin                97.823090  \n",
      "Wind_Dir_Cos               112.632884  \n",
      "The R2 for this fold was 0.10042113140262127\n",
      "Results of trial 43 saved in optuna_iteration_metrics/trial_43.json\n",
      "Current value: 0.10042113140262127, Current params: {'input_chunk_length': 24, 'output_chunk_length': 1, 'hidden_size': 182, 'layer_size': 1, 'dropout': 0.4017136516252446, 'batch_size': 220, 'lr': 0.001799984175490823, 'weight_decay': 1.544697699671261e-06, 'loss_fn': 'smoothl1', 'optimizer': 'RMSprop'}\n",
      "Best value: 0.086915110514849, Best params: {'input_chunk_length': 39, 'output_chunk_length': 1, 'hidden_size': 187, 'layer_size': 1, 'dropout': 0.45835461386422743, 'batch_size': 202, 'lr': 0.0025979414519729325, 'weight_decay': 3.564519422612453e-06, 'loss_fn': 'smoothl1', 'optimizer': 'RMSprop'}\n",
      "\n",
      "Starting Trial 44\n",
      "Hyperparameters: {'input_chunk_length': 24, 'output_chunk_length': 3, 'hidden_size': 181, 'layer_size': 1, 'dropout': 0.3993944367023586, 'batch_size': 227, 'lr': 0.0015678841336286985, 'weight_decay': 1.5599462542932432e-06, 'loss_fn': 'smoothl1', 'optimizer': 'AdamW'}\n",
      "\n",
      "Training the model...\n",
      "Train set: 6647 samples\n",
      "Validation set: 1662 samples\n"
     ]
    },
    {
     "name": "stderr",
     "output_type": "stream",
     "text": [
      "Metric val_loss improved. New best score: 0.039\n",
      "Metric val_loss improved by 0.007 >= min_delta = 0.0005. New best score: 0.032\n",
      "[I 2025-05-25 17:49:56,414] Trial 44 pruned. Trial was pruned at epoch 2.\n",
      "Specified future encoders in `add_encoders` at model creation but model does not accept future covariates. future encoders will be ignored.\n",
      "/home/eduardo/Documentos/Water-Cycle-Neural-Network/venv/lib/python3.12/site-packages/torch/nn/modules/rnn.py:123: UserWarning: dropout option adds dropout after all but last recurrent layer, so non-zero dropout expects num_layers greater than 1, but got dropout=0.370331142759259 and num_layers=1\n",
      "  warnings.warn(\n",
      "GPU available: True (cuda), used: True\n",
      "TPU available: False, using: 0 TPU cores\n",
      "HPU available: False, using: 0 HPUs\n",
      "LOCAL_RANK: 0 - CUDA_VISIBLE_DEVICES: [0]\n"
     ]
    },
    {
     "name": "stdout",
     "output_type": "stream",
     "text": [
      "Current value: 0.02620100586022036, Current params: {'input_chunk_length': 24, 'output_chunk_length': 3, 'hidden_size': 181, 'layer_size': 1, 'dropout': 0.3993944367023586, 'batch_size': 227, 'lr': 0.0015678841336286985, 'weight_decay': 1.5599462542932432e-06, 'loss_fn': 'smoothl1', 'optimizer': 'AdamW'}\n",
      "Best value: 0.086915110514849, Best params: {'input_chunk_length': 39, 'output_chunk_length': 1, 'hidden_size': 187, 'layer_size': 1, 'dropout': 0.45835461386422743, 'batch_size': 202, 'lr': 0.0025979414519729325, 'weight_decay': 3.564519422612453e-06, 'loss_fn': 'smoothl1', 'optimizer': 'RMSprop'}\n",
      "\n",
      "Starting Trial 45\n",
      "Hyperparameters: {'input_chunk_length': 27, 'output_chunk_length': 2, 'hidden_size': 201, 'layer_size': 1, 'dropout': 0.370331142759259, 'batch_size': 218, 'lr': 0.0032859269561645197, 'weight_decay': 1.4695948249671265e-06, 'loss_fn': 'smoothl1', 'optimizer': 'RMSprop'}\n",
      "\n",
      "Training the model...\n",
      "Train set: 6647 samples\n",
      "Validation set: 1662 samples\n"
     ]
    },
    {
     "name": "stderr",
     "output_type": "stream",
     "text": [
      "[I 2025-05-25 17:49:58,086] Trial 45 pruned. Trial was pruned at epoch 0.\n",
      "Specified future encoders in `add_encoders` at model creation but model does not accept future covariates. future encoders will be ignored.\n",
      "/home/eduardo/Documentos/Water-Cycle-Neural-Network/venv/lib/python3.12/site-packages/torch/nn/modules/rnn.py:123: UserWarning: dropout option adds dropout after all but last recurrent layer, so non-zero dropout expects num_layers greater than 1, but got dropout=0.40057488121940704 and num_layers=1\n",
      "  warnings.warn(\n",
      "GPU available: True (cuda), used: True\n",
      "TPU available: False, using: 0 TPU cores\n",
      "HPU available: False, using: 0 HPUs\n",
      "LOCAL_RANK: 0 - CUDA_VISIBLE_DEVICES: [0]\n"
     ]
    },
    {
     "name": "stdout",
     "output_type": "stream",
     "text": [
      "Current value: 0.05035657198071089, Current params: {'input_chunk_length': 27, 'output_chunk_length': 2, 'hidden_size': 201, 'layer_size': 1, 'dropout': 0.370331142759259, 'batch_size': 218, 'lr': 0.0032859269561645197, 'weight_decay': 1.4695948249671265e-06, 'loss_fn': 'smoothl1', 'optimizer': 'RMSprop'}\n",
      "Best value: 0.086915110514849, Best params: {'input_chunk_length': 39, 'output_chunk_length': 1, 'hidden_size': 187, 'layer_size': 1, 'dropout': 0.45835461386422743, 'batch_size': 202, 'lr': 0.0025979414519729325, 'weight_decay': 3.564519422612453e-06, 'loss_fn': 'smoothl1', 'optimizer': 'RMSprop'}\n",
      "\n",
      "Starting Trial 46\n",
      "Hyperparameters: {'input_chunk_length': 27, 'output_chunk_length': 1, 'hidden_size': 187, 'layer_size': 1, 'dropout': 0.40057488121940704, 'batch_size': 201, 'lr': 0.0010274126928188747, 'weight_decay': 2.6284659924679016e-06, 'loss_fn': 'smoothl1', 'optimizer': 'AdamW'}\n",
      "\n",
      "Training the model...\n",
      "Train set: 6647 samples\n",
      "Validation set: 1662 samples\n"
     ]
    },
    {
     "name": "stderr",
     "output_type": "stream",
     "text": [
      "Metric val_loss improved. New best score: 0.036\n",
      "Metric val_loss improved by 0.005 >= min_delta = 0.0005. New best score: 0.031\n",
      "Metric val_loss improved by 0.005 >= min_delta = 0.0005. New best score: 0.026\n",
      "Metric val_loss improved by 0.006 >= min_delta = 0.0005. New best score: 0.020\n",
      "Metric val_loss improved by 0.003 >= min_delta = 0.0005. New best score: 0.017\n",
      "Metric val_loss improved by 0.002 >= min_delta = 0.0005. New best score: 0.016\n",
      "Metric val_loss improved by 0.001 >= min_delta = 0.0005. New best score: 0.015\n",
      "Metric val_loss improved by 0.001 >= min_delta = 0.0005. New best score: 0.014\n",
      "Metric val_loss improved by 0.001 >= min_delta = 0.0005. New best score: 0.013\n",
      "Metric val_loss improved by 0.001 >= min_delta = 0.0005. New best score: 0.012\n",
      "Monitored metric val_loss did not improve in the last 15 records. Best score: 0.012. Signaling Trainer to stop.\n",
      "/home/eduardo/Documentos/Water-Cycle-Neural-Network/venv/lib/python3.12/site-packages/torch/nn/modules/rnn.py:123: UserWarning: dropout option adds dropout after all but last recurrent layer, so non-zero dropout expects num_layers greater than 1, but got dropout=0.40057488121940704 and num_layers=1\n",
      "  warnings.warn(\n",
      "GPU available: True (cuda), used: True\n",
      "TPU available: False, using: 0 TPU cores\n",
      "HPU available: False, using: 0 HPUs\n",
      "LOCAL_RANK: 0 - CUDA_VISIBLE_DEVICES: [0]\n",
      "/home/eduardo/Documentos/Water-Cycle-Neural-Network/venv/lib/python3.12/site-packages/pytorch_lightning/trainer/connectors/data_connector.py:425: The 'predict_dataloader' does not have many workers which may be a bottleneck. Consider increasing the value of the `num_workers` argument` to `num_workers=11` in the `DataLoader` to improve performance.\n"
     ]
    },
    {
     "name": "stdout",
     "output_type": "stream",
     "text": [
      "Model loaded from checkpoint for trial 46\n"
     ]
    },
    {
     "name": "stderr",
     "output_type": "stream",
     "text": [
      "[I 2025-05-25 17:52:19,132] Trial 46 finished with value: 0.09064490206178585 and parameters: {'input_chunk_length': 27, 'output_chunk_length': 1, 'hidden_size': 187, 'layer_size': 1, 'dropout': 0.40057488121940704, 'batch_size': 201, 'lr': 0.0010274126928188747, 'weight_decay': 2.6284659924679016e-06, 'loss_fn': 'smoothl1', 'optimizer': 'AdamW'}. Best is trial 26 with value: 0.086915110514849.\n",
      "Specified future encoders in `add_encoders` at model creation but model does not accept future covariates. future encoders will be ignored.\n",
      "/home/eduardo/Documentos/Water-Cycle-Neural-Network/venv/lib/python3.12/site-packages/torch/nn/modules/rnn.py:123: UserWarning: dropout option adds dropout after all but last recurrent layer, so non-zero dropout expects num_layers greater than 1, but got dropout=0.3647550301818127 and num_layers=1\n",
      "  warnings.warn(\n",
      "GPU available: True (cuda), used: True\n",
      "TPU available: False, using: 0 TPU cores\n",
      "HPU available: False, using: 0 HPUs\n",
      "LOCAL_RANK: 0 - CUDA_VISIBLE_DEVICES: [0]\n"
     ]
    },
    {
     "name": "stdout",
     "output_type": "stream",
     "text": [
      "Starting time series verification for consistency...\n",
      "\n",
      "Performance metrics:\n",
      "                                    MSE        RMSE         MAE         R2  \\\n",
      "Temperature                    2.588038    1.608738    1.288389   0.915096   \n",
      "Precipitation_accumulated    228.858105   15.128057   12.458659 -65.478829   \n",
      "Humidity                      27.373202    5.231941    4.290812   0.813221   \n",
      "Wind_Speed_kmh                 0.598927    0.773904    0.614558   0.556808   \n",
      "Soil_Moisture              21888.938766  147.949109  121.529701   0.619997   \n",
      "Soil_Temperature               3.436306    1.853728    1.583708   0.787182   \n",
      "Wind_Dir_Sin                   0.366147    0.605101    0.496319   0.334443   \n",
      "Wind_Dir_Cos                   0.309280    0.556130    0.450756   0.158055   \n",
      "\n",
      "                                SMAPE  \n",
      "Temperature                 24.851140  \n",
      "Precipitation_accumulated    2.731452  \n",
      "Humidity                     4.980914  \n",
      "Wind_Speed_kmh              59.760385  \n",
      "Soil_Moisture                1.422896  \n",
      "Soil_Temperature            36.811738  \n",
      "Wind_Dir_Sin               100.243974  \n",
      "Wind_Dir_Cos               111.051340  \n",
      "The R2 for this fold was 0.09064490206178585\n",
      "Results of trial 46 saved in optuna_iteration_metrics/trial_46.json\n",
      "Current value: 0.09064490206178585, Current params: {'input_chunk_length': 27, 'output_chunk_length': 1, 'hidden_size': 187, 'layer_size': 1, 'dropout': 0.40057488121940704, 'batch_size': 201, 'lr': 0.0010274126928188747, 'weight_decay': 2.6284659924679016e-06, 'loss_fn': 'smoothl1', 'optimizer': 'AdamW'}\n",
      "Best value: 0.086915110514849, Best params: {'input_chunk_length': 39, 'output_chunk_length': 1, 'hidden_size': 187, 'layer_size': 1, 'dropout': 0.45835461386422743, 'batch_size': 202, 'lr': 0.0025979414519729325, 'weight_decay': 3.564519422612453e-06, 'loss_fn': 'smoothl1', 'optimizer': 'RMSprop'}\n",
      "\n",
      "Starting Trial 47\n",
      "Hyperparameters: {'input_chunk_length': 26, 'output_chunk_length': 5, 'hidden_size': 227, 'layer_size': 1, 'dropout': 0.3647550301818127, 'batch_size': 217, 'lr': 0.0017487665636680577, 'weight_decay': 1.4119489517869442e-06, 'loss_fn': 'mae', 'optimizer': 'AdamW'}\n",
      "\n",
      "Training the model...\n",
      "Train set: 6647 samples\n",
      "Validation set: 1662 samples\n"
     ]
    },
    {
     "name": "stderr",
     "output_type": "stream",
     "text": [
      "[I 2025-05-25 17:52:20,831] Trial 47 pruned. Trial was pruned at epoch 0.\n",
      "Specified future encoders in `add_encoders` at model creation but model does not accept future covariates. future encoders will be ignored.\n",
      "/home/eduardo/Documentos/Water-Cycle-Neural-Network/venv/lib/python3.12/site-packages/torch/nn/modules/rnn.py:123: UserWarning: dropout option adds dropout after all but last recurrent layer, so non-zero dropout expects num_layers greater than 1, but got dropout=0.3987047633549475 and num_layers=1\n",
      "  warnings.warn(\n",
      "GPU available: True (cuda), used: True\n",
      "TPU available: False, using: 0 TPU cores\n",
      "HPU available: False, using: 0 HPUs\n",
      "LOCAL_RANK: 0 - CUDA_VISIBLE_DEVICES: [0]\n"
     ]
    },
    {
     "name": "stdout",
     "output_type": "stream",
     "text": [
      "Current value: 0.20587937985133892, Current params: {'input_chunk_length': 26, 'output_chunk_length': 5, 'hidden_size': 227, 'layer_size': 1, 'dropout': 0.3647550301818127, 'batch_size': 217, 'lr': 0.0017487665636680577, 'weight_decay': 1.4119489517869442e-06, 'loss_fn': 'mae', 'optimizer': 'AdamW'}\n",
      "Best value: 0.086915110514849, Best params: {'input_chunk_length': 39, 'output_chunk_length': 1, 'hidden_size': 187, 'layer_size': 1, 'dropout': 0.45835461386422743, 'batch_size': 202, 'lr': 0.0025979414519729325, 'weight_decay': 3.564519422612453e-06, 'loss_fn': 'smoothl1', 'optimizer': 'RMSprop'}\n",
      "\n",
      "Starting Trial 48\n",
      "Hyperparameters: {'input_chunk_length': 32, 'output_chunk_length': 6, 'hidden_size': 188, 'layer_size': 1, 'dropout': 0.3987047633549475, 'batch_size': 209, 'lr': 0.0036809524598752667, 'weight_decay': 2.560600966466422e-06, 'loss_fn': 'smoothl1', 'optimizer': 'AdamW'}\n",
      "\n",
      "Training the model...\n",
      "Train set: 6647 samples\n",
      "Validation set: 1662 samples\n"
     ]
    },
    {
     "name": "stderr",
     "output_type": "stream",
     "text": [
      "Metric val_loss improved. New best score: 0.039\n",
      "Metric val_loss improved by 0.009 >= min_delta = 0.0005. New best score: 0.030\n",
      "Metric val_loss improved by 0.006 >= min_delta = 0.0005. New best score: 0.024\n",
      "Metric val_loss improved by 0.003 >= min_delta = 0.0005. New best score: 0.021\n",
      "Metric val_loss improved by 0.002 >= min_delta = 0.0005. New best score: 0.019\n",
      "Metric val_loss improved by 0.001 >= min_delta = 0.0005. New best score: 0.018\n",
      "Metric val_loss improved by 0.001 >= min_delta = 0.0005. New best score: 0.017\n",
      "Monitored metric val_loss did not improve in the last 15 records. Best score: 0.017. Signaling Trainer to stop.\n",
      "/home/eduardo/Documentos/Water-Cycle-Neural-Network/venv/lib/python3.12/site-packages/torch/nn/modules/rnn.py:123: UserWarning: dropout option adds dropout after all but last recurrent layer, so non-zero dropout expects num_layers greater than 1, but got dropout=0.3987047633549475 and num_layers=1\n",
      "  warnings.warn(\n",
      "GPU available: True (cuda), used: True\n",
      "TPU available: False, using: 0 TPU cores\n",
      "HPU available: False, using: 0 HPUs\n",
      "LOCAL_RANK: 0 - CUDA_VISIBLE_DEVICES: [0]\n",
      "/home/eduardo/Documentos/Water-Cycle-Neural-Network/venv/lib/python3.12/site-packages/pytorch_lightning/trainer/connectors/data_connector.py:425: The 'predict_dataloader' does not have many workers which may be a bottleneck. Consider increasing the value of the `num_workers` argument` to `num_workers=11` in the `DataLoader` to improve performance.\n"
     ]
    },
    {
     "name": "stdout",
     "output_type": "stream",
     "text": [
      "Model loaded from checkpoint for trial 48\n"
     ]
    },
    {
     "name": "stderr",
     "output_type": "stream",
     "text": [
      "[I 2025-05-25 17:52:52,747] Trial 48 finished with value: 0.1272290141058396 and parameters: {'input_chunk_length': 32, 'output_chunk_length': 6, 'hidden_size': 188, 'layer_size': 1, 'dropout': 0.3987047633549475, 'batch_size': 209, 'lr': 0.0036809524598752667, 'weight_decay': 2.560600966466422e-06, 'loss_fn': 'smoothl1', 'optimizer': 'AdamW'}. Best is trial 26 with value: 0.086915110514849.\n",
      "Specified future encoders in `add_encoders` at model creation but model does not accept future covariates. future encoders will be ignored.\n",
      "/home/eduardo/Documentos/Water-Cycle-Neural-Network/venv/lib/python3.12/site-packages/torch/nn/modules/rnn.py:123: UserWarning: dropout option adds dropout after all but last recurrent layer, so non-zero dropout expects num_layers greater than 1, but got dropout=0.3559975151003693 and num_layers=1\n",
      "  warnings.warn(\n",
      "GPU available: True (cuda), used: True\n",
      "TPU available: False, using: 0 TPU cores\n",
      "HPU available: False, using: 0 HPUs\n",
      "LOCAL_RANK: 0 - CUDA_VISIBLE_DEVICES: [0]\n"
     ]
    },
    {
     "name": "stdout",
     "output_type": "stream",
     "text": [
      "Starting time series verification for consistency...\n",
      "\n",
      "Performance metrics:\n",
      "                                    MSE        RMSE         MAE          R2  \\\n",
      "Temperature                    9.483023    3.079452    2.388311    0.689612   \n",
      "Precipitation_accumulated    807.950744   28.424474   23.487950 -237.345955   \n",
      "Humidity                      72.570986    8.518861    6.556922    0.505532   \n",
      "Wind_Speed_kmh                 1.222714    1.105764    0.865768    0.093482   \n",
      "Soil_Moisture              79583.025134  282.104635  227.514249   -0.439651   \n",
      "Soil_Temperature              11.287117    3.359631    2.853946    0.299938   \n",
      "Wind_Dir_Sin                   0.627941    0.792428    0.678660   -0.140173   \n",
      "Wind_Dir_Cos                   0.390402    0.624822    0.530142   -0.064621   \n",
      "\n",
      "                                SMAPE  \n",
      "Temperature                 41.494908  \n",
      "Precipitation_accumulated    5.213887  \n",
      "Humidity                     7.768345  \n",
      "Wind_Speed_kmh              71.596754  \n",
      "Soil_Moisture                2.685432  \n",
      "Soil_Temperature            58.041585  \n",
      "Wind_Dir_Sin               137.589142  \n",
      "Wind_Dir_Cos               128.493123  \n",
      "The R2 for this fold was 0.1272290141058396\n",
      "Results of trial 48 saved in optuna_iteration_metrics/trial_48.json\n",
      "Current value: 0.1272290141058396, Current params: {'input_chunk_length': 32, 'output_chunk_length': 6, 'hidden_size': 188, 'layer_size': 1, 'dropout': 0.3987047633549475, 'batch_size': 209, 'lr': 0.0036809524598752667, 'weight_decay': 2.560600966466422e-06, 'loss_fn': 'smoothl1', 'optimizer': 'AdamW'}\n",
      "Best value: 0.086915110514849, Best params: {'input_chunk_length': 39, 'output_chunk_length': 1, 'hidden_size': 187, 'layer_size': 1, 'dropout': 0.45835461386422743, 'batch_size': 202, 'lr': 0.0025979414519729325, 'weight_decay': 3.564519422612453e-06, 'loss_fn': 'smoothl1', 'optimizer': 'RMSprop'}\n",
      "\n",
      "Starting Trial 49\n",
      "Hyperparameters: {'input_chunk_length': 28, 'output_chunk_length': 2, 'hidden_size': 162, 'layer_size': 1, 'dropout': 0.3559975151003693, 'batch_size': 202, 'lr': 0.0011459328124214102, 'weight_decay': 5.929027738878061e-06, 'loss_fn': 'smoothl1', 'optimizer': 'AdamW'}\n",
      "\n",
      "Training the model...\n",
      "Train set: 6647 samples\n",
      "Validation set: 1662 samples\n"
     ]
    },
    {
     "name": "stderr",
     "output_type": "stream",
     "text": [
      "Metric val_loss improved. New best score: 0.036\n",
      "Metric val_loss improved by 0.004 >= min_delta = 0.0005. New best score: 0.032\n",
      "[I 2025-05-25 17:52:56,375] Trial 49 pruned. Trial was pruned at epoch 2.\n",
      "Specified future encoders in `add_encoders` at model creation but model does not accept future covariates. future encoders will be ignored.\n",
      "/home/eduardo/Documentos/Water-Cycle-Neural-Network/venv/lib/python3.12/site-packages/torch/nn/modules/rnn.py:123: UserWarning: dropout option adds dropout after all but last recurrent layer, so non-zero dropout expects num_layers greater than 1, but got dropout=0.4204342060054142 and num_layers=1\n",
      "  warnings.warn(\n",
      "GPU available: True (cuda), used: True\n",
      "TPU available: False, using: 0 TPU cores\n",
      "HPU available: False, using: 0 HPUs\n",
      "LOCAL_RANK: 0 - CUDA_VISIBLE_DEVICES: [0]\n"
     ]
    },
    {
     "name": "stdout",
     "output_type": "stream",
     "text": [
      "Current value: 0.027018122512230618, Current params: {'input_chunk_length': 28, 'output_chunk_length': 2, 'hidden_size': 162, 'layer_size': 1, 'dropout': 0.3559975151003693, 'batch_size': 202, 'lr': 0.0011459328124214102, 'weight_decay': 5.929027738878061e-06, 'loss_fn': 'smoothl1', 'optimizer': 'AdamW'}\n",
      "Best value: 0.086915110514849, Best params: {'input_chunk_length': 39, 'output_chunk_length': 1, 'hidden_size': 187, 'layer_size': 1, 'dropout': 0.45835461386422743, 'batch_size': 202, 'lr': 0.0025979414519729325, 'weight_decay': 3.564519422612453e-06, 'loss_fn': 'smoothl1', 'optimizer': 'RMSprop'}\n",
      "\n",
      "Starting Trial 50\n",
      "Hyperparameters: {'input_chunk_length': 28, 'output_chunk_length': 4, 'hidden_size': 202, 'layer_size': 1, 'dropout': 0.4204342060054142, 'batch_size': 231, 'lr': 0.0049759453679239255, 'weight_decay': 1.0453620891743499e-06, 'loss_fn': 'smoothl1', 'optimizer': 'AdamW'}\n",
      "\n",
      "Training the model...\n",
      "Train set: 6647 samples\n",
      "Validation set: 1662 samples\n"
     ]
    },
    {
     "name": "stderr",
     "output_type": "stream",
     "text": [
      "Metric val_loss improved. New best score: 0.035\n",
      "Metric val_loss improved by 0.009 >= min_delta = 0.0005. New best score: 0.026\n",
      "Metric val_loss improved by 0.004 >= min_delta = 0.0005. New best score: 0.022\n",
      "Metric val_loss improved by 0.003 >= min_delta = 0.0005. New best score: 0.019\n",
      "Metric val_loss improved by 0.002 >= min_delta = 0.0005. New best score: 0.017\n",
      "Monitored metric val_loss did not improve in the last 15 records. Best score: 0.017. Signaling Trainer to stop.\n",
      "/home/eduardo/Documentos/Water-Cycle-Neural-Network/venv/lib/python3.12/site-packages/torch/nn/modules/rnn.py:123: UserWarning: dropout option adds dropout after all but last recurrent layer, so non-zero dropout expects num_layers greater than 1, but got dropout=0.4204342060054142 and num_layers=1\n",
      "  warnings.warn(\n",
      "GPU available: True (cuda), used: True\n",
      "TPU available: False, using: 0 TPU cores\n",
      "HPU available: False, using: 0 HPUs\n",
      "LOCAL_RANK: 0 - CUDA_VISIBLE_DEVICES: [0]\n",
      "/home/eduardo/Documentos/Water-Cycle-Neural-Network/venv/lib/python3.12/site-packages/pytorch_lightning/trainer/connectors/data_connector.py:425: The 'predict_dataloader' does not have many workers which may be a bottleneck. Consider increasing the value of the `num_workers` argument` to `num_workers=11` in the `DataLoader` to improve performance.\n"
     ]
    },
    {
     "name": "stdout",
     "output_type": "stream",
     "text": [
      "Model loaded from checkpoint for trial 50\n"
     ]
    },
    {
     "name": "stderr",
     "output_type": "stream",
     "text": [
      "[I 2025-05-25 17:55:10,905] Trial 50 finished with value: 0.12883579188196087 and parameters: {'input_chunk_length': 28, 'output_chunk_length': 4, 'hidden_size': 202, 'layer_size': 1, 'dropout': 0.4204342060054142, 'batch_size': 231, 'lr': 0.0049759453679239255, 'weight_decay': 1.0453620891743499e-06, 'loss_fn': 'smoothl1', 'optimizer': 'AdamW'}. Best is trial 26 with value: 0.086915110514849.\n",
      "Specified future encoders in `add_encoders` at model creation but model does not accept future covariates. future encoders will be ignored.\n",
      "/home/eduardo/Documentos/Water-Cycle-Neural-Network/venv/lib/python3.12/site-packages/torch/nn/modules/rnn.py:123: UserWarning: dropout option adds dropout after all but last recurrent layer, so non-zero dropout expects num_layers greater than 1, but got dropout=0.463770421977072 and num_layers=1\n",
      "  warnings.warn(\n",
      "GPU available: True (cuda), used: True\n",
      "TPU available: False, using: 0 TPU cores\n",
      "HPU available: False, using: 0 HPUs\n",
      "LOCAL_RANK: 0 - CUDA_VISIBLE_DEVICES: [0]\n"
     ]
    },
    {
     "name": "stdout",
     "output_type": "stream",
     "text": [
      "Starting time series verification for consistency...\n",
      "\n",
      "Performance metrics:\n",
      "                                     MSE        RMSE         MAE          R2  \\\n",
      "Temperature                     6.478625    2.545314    1.931430    0.787275   \n",
      "Precipitation_accumulated    2513.395417   50.133775   41.401485 -733.597259   \n",
      "Humidity                       66.343605    8.145158    6.505825    0.547174   \n",
      "Wind_Speed_kmh                  1.083220    1.040778    0.833955    0.196854   \n",
      "Soil_Moisture              104915.570863  323.906732  264.152600   -0.847535   \n",
      "Soil_Temperature                9.983902    3.159731    2.729784    0.379831   \n",
      "Wind_Dir_Sin                    0.614519    0.783913    0.675258   -0.115980   \n",
      "Wind_Dir_Cos                    0.355527    0.596261    0.503830    0.029731   \n",
      "\n",
      "                                SMAPE  \n",
      "Temperature                 33.674985  \n",
      "Precipitation_accumulated    9.513777  \n",
      "Humidity                     7.707838  \n",
      "Wind_Speed_kmh              70.037553  \n",
      "Soil_Moisture                3.139875  \n",
      "Soil_Temperature            63.448616  \n",
      "Wind_Dir_Sin               139.294913  \n",
      "Wind_Dir_Cos               127.879729  \n",
      "The R2 for this fold was 0.12883579188196087\n",
      "Results of trial 50 saved in optuna_iteration_metrics/trial_50.json\n",
      "Current value: 0.12883579188196087, Current params: {'input_chunk_length': 28, 'output_chunk_length': 4, 'hidden_size': 202, 'layer_size': 1, 'dropout': 0.4204342060054142, 'batch_size': 231, 'lr': 0.0049759453679239255, 'weight_decay': 1.0453620891743499e-06, 'loss_fn': 'smoothl1', 'optimizer': 'AdamW'}\n",
      "Best value: 0.086915110514849, Best params: {'input_chunk_length': 39, 'output_chunk_length': 1, 'hidden_size': 187, 'layer_size': 1, 'dropout': 0.45835461386422743, 'batch_size': 202, 'lr': 0.0025979414519729325, 'weight_decay': 3.564519422612453e-06, 'loss_fn': 'smoothl1', 'optimizer': 'RMSprop'}\n",
      "\n",
      "Starting Trial 51\n",
      "Hyperparameters: {'input_chunk_length': 24, 'output_chunk_length': 1, 'hidden_size': 188, 'layer_size': 1, 'dropout': 0.463770421977072, 'batch_size': 172, 'lr': 0.0020101615632169517, 'weight_decay': 4.080126913056516e-06, 'loss_fn': 'smoothl1', 'optimizer': 'AdamW'}\n",
      "\n",
      "Training the model...\n",
      "Train set: 6647 samples\n",
      "Validation set: 1662 samples\n"
     ]
    },
    {
     "name": "stderr",
     "output_type": "stream",
     "text": [
      "Metric val_loss improved. New best score: 0.031\n",
      "Metric val_loss improved by 0.010 >= min_delta = 0.0005. New best score: 0.021\n",
      "Metric val_loss improved by 0.005 >= min_delta = 0.0005. New best score: 0.016\n",
      "Metric val_loss improved by 0.003 >= min_delta = 0.0005. New best score: 0.013\n",
      "Metric val_loss improved by 0.001 >= min_delta = 0.0005. New best score: 0.012\n",
      "Metric val_loss improved by 0.001 >= min_delta = 0.0005. New best score: 0.012\n",
      "Monitored metric val_loss did not improve in the last 15 records. Best score: 0.012. Signaling Trainer to stop.\n",
      "/home/eduardo/Documentos/Water-Cycle-Neural-Network/venv/lib/python3.12/site-packages/torch/nn/modules/rnn.py:123: UserWarning: dropout option adds dropout after all but last recurrent layer, so non-zero dropout expects num_layers greater than 1, but got dropout=0.463770421977072 and num_layers=1\n",
      "  warnings.warn(\n",
      "GPU available: True (cuda), used: True\n",
      "TPU available: False, using: 0 TPU cores\n",
      "HPU available: False, using: 0 HPUs\n",
      "LOCAL_RANK: 0 - CUDA_VISIBLE_DEVICES: [0]\n",
      "/home/eduardo/Documentos/Water-Cycle-Neural-Network/venv/lib/python3.12/site-packages/pytorch_lightning/trainer/connectors/data_connector.py:425: The 'predict_dataloader' does not have many workers which may be a bottleneck. Consider increasing the value of the `num_workers` argument` to `num_workers=11` in the `DataLoader` to improve performance.\n"
     ]
    },
    {
     "name": "stdout",
     "output_type": "stream",
     "text": [
      "Model loaded from checkpoint for trial 51\n"
     ]
    },
    {
     "name": "stderr",
     "output_type": "stream",
     "text": [
      "[I 2025-05-25 17:55:35,763] Trial 51 finished with value: 0.08685611509641744 and parameters: {'input_chunk_length': 24, 'output_chunk_length': 1, 'hidden_size': 188, 'layer_size': 1, 'dropout': 0.463770421977072, 'batch_size': 172, 'lr': 0.0020101615632169517, 'weight_decay': 4.080126913056516e-06, 'loss_fn': 'smoothl1', 'optimizer': 'AdamW'}. Best is trial 51 with value: 0.08685611509641744.\n",
      "Specified future encoders in `add_encoders` at model creation but model does not accept future covariates. future encoders will be ignored.\n",
      "/home/eduardo/Documentos/Water-Cycle-Neural-Network/venv/lib/python3.12/site-packages/torch/nn/modules/rnn.py:123: UserWarning: dropout option adds dropout after all but last recurrent layer, so non-zero dropout expects num_layers greater than 1, but got dropout=0.3950656629371283 and num_layers=1\n",
      "  warnings.warn(\n",
      "GPU available: True (cuda), used: True\n",
      "TPU available: False, using: 0 TPU cores\n",
      "HPU available: False, using: 0 HPUs\n",
      "LOCAL_RANK: 0 - CUDA_VISIBLE_DEVICES: [0]\n"
     ]
    },
    {
     "name": "stdout",
     "output_type": "stream",
     "text": [
      "Starting time series verification for consistency...\n",
      "\n",
      "Performance metrics:\n",
      "                                    MSE        RMSE        MAE         R2  \\\n",
      "Temperature                    2.807354    1.675516   1.344349   0.908054   \n",
      "Precipitation_accumulated    313.195178   17.697321  14.441950 -89.564843   \n",
      "Humidity                      23.864662    4.885147   3.741434   0.837196   \n",
      "Wind_Speed_kmh                 0.545403    0.738514   0.556591   0.596282   \n",
      "Soil_Moisture              14349.875299  119.790965  97.396672   0.753207   \n",
      "Soil_Temperature               1.397086    1.181984   0.922499   0.913644   \n",
      "Wind_Dir_Sin                   0.356504    0.597079   0.491830   0.351409   \n",
      "Wind_Dir_Cos                   0.309495    0.556323   0.448761   0.159394   \n",
      "\n",
      "                                SMAPE  \n",
      "Temperature                 25.557318  \n",
      "Precipitation_accumulated    3.174582  \n",
      "Humidity                     4.413378  \n",
      "Wind_Speed_kmh              57.573279  \n",
      "Soil_Moisture                1.140129  \n",
      "Soil_Temperature            18.080954  \n",
      "Wind_Dir_Sin                98.439764  \n",
      "Wind_Dir_Cos               109.425262  \n",
      "The R2 for this fold was 0.08685611509641744\n",
      "Results of trial 51 saved in optuna_iteration_metrics/trial_51.json\n",
      "Current value: 0.08685611509641744, Current params: {'input_chunk_length': 24, 'output_chunk_length': 1, 'hidden_size': 188, 'layer_size': 1, 'dropout': 0.463770421977072, 'batch_size': 172, 'lr': 0.0020101615632169517, 'weight_decay': 4.080126913056516e-06, 'loss_fn': 'smoothl1', 'optimizer': 'AdamW'}\n",
      "Best value: 0.08685611509641744, Best params: {'input_chunk_length': 24, 'output_chunk_length': 1, 'hidden_size': 188, 'layer_size': 1, 'dropout': 0.463770421977072, 'batch_size': 172, 'lr': 0.0020101615632169517, 'weight_decay': 4.080126913056516e-06, 'loss_fn': 'smoothl1', 'optimizer': 'AdamW'}\n",
      "\n",
      "Starting Trial 52\n",
      "Hyperparameters: {'input_chunk_length': 25, 'output_chunk_length': 1, 'hidden_size': 190, 'layer_size': 1, 'dropout': 0.3950656629371283, 'batch_size': 159, 'lr': 0.0020337829175558026, 'weight_decay': 1.0298495505540616e-05, 'loss_fn': 'smoothl1', 'optimizer': 'AdamW'}\n",
      "\n",
      "Training the model...\n",
      "Train set: 6647 samples\n",
      "Validation set: 1662 samples\n"
     ]
    },
    {
     "name": "stderr",
     "output_type": "stream",
     "text": [
      "Metric val_loss improved. New best score: 0.032\n",
      "Metric val_loss improved by 0.009 >= min_delta = 0.0005. New best score: 0.023\n",
      "Metric val_loss improved by 0.005 >= min_delta = 0.0005. New best score: 0.017\n",
      "Metric val_loss improved by 0.003 >= min_delta = 0.0005. New best score: 0.014\n",
      "Metric val_loss improved by 0.001 >= min_delta = 0.0005. New best score: 0.013\n",
      "Metric val_loss improved by 0.001 >= min_delta = 0.0005. New best score: 0.012\n",
      "Monitored metric val_loss did not improve in the last 15 records. Best score: 0.012. Signaling Trainer to stop.\n",
      "/home/eduardo/Documentos/Water-Cycle-Neural-Network/venv/lib/python3.12/site-packages/torch/nn/modules/rnn.py:123: UserWarning: dropout option adds dropout after all but last recurrent layer, so non-zero dropout expects num_layers greater than 1, but got dropout=0.3950656629371283 and num_layers=1\n",
      "  warnings.warn(\n",
      "GPU available: True (cuda), used: True\n",
      "TPU available: False, using: 0 TPU cores\n",
      "HPU available: False, using: 0 HPUs\n",
      "LOCAL_RANK: 0 - CUDA_VISIBLE_DEVICES: [0]\n",
      "/home/eduardo/Documentos/Water-Cycle-Neural-Network/venv/lib/python3.12/site-packages/pytorch_lightning/trainer/connectors/data_connector.py:425: The 'predict_dataloader' does not have many workers which may be a bottleneck. Consider increasing the value of the `num_workers` argument` to `num_workers=11` in the `DataLoader` to improve performance.\n"
     ]
    },
    {
     "name": "stdout",
     "output_type": "stream",
     "text": [
      "Model loaded from checkpoint for trial 52\n"
     ]
    },
    {
     "name": "stderr",
     "output_type": "stream",
     "text": [
      "[I 2025-05-25 17:56:01,243] Trial 52 finished with value: 0.08737346302081422 and parameters: {'input_chunk_length': 25, 'output_chunk_length': 1, 'hidden_size': 190, 'layer_size': 1, 'dropout': 0.3950656629371283, 'batch_size': 159, 'lr': 0.0020337829175558026, 'weight_decay': 1.0298495505540616e-05, 'loss_fn': 'smoothl1', 'optimizer': 'AdamW'}. Best is trial 51 with value: 0.08685611509641744.\n",
      "Specified future encoders in `add_encoders` at model creation but model does not accept future covariates. future encoders will be ignored.\n",
      "/home/eduardo/Documentos/Water-Cycle-Neural-Network/venv/lib/python3.12/site-packages/torch/nn/modules/rnn.py:123: UserWarning: dropout option adds dropout after all but last recurrent layer, so non-zero dropout expects num_layers greater than 1, but got dropout=0.45545902632938995 and num_layers=1\n",
      "  warnings.warn(\n",
      "GPU available: True (cuda), used: True\n",
      "TPU available: False, using: 0 TPU cores\n",
      "HPU available: False, using: 0 HPUs\n",
      "LOCAL_RANK: 0 - CUDA_VISIBLE_DEVICES: [0]\n"
     ]
    },
    {
     "name": "stdout",
     "output_type": "stream",
     "text": [
      "Starting time series verification for consistency...\n",
      "\n",
      "Performance metrics:\n",
      "                                   MSE       RMSE        MAE         R2  \\\n",
      "Temperature                   2.502670   1.581983   1.240402   0.917991   \n",
      "Precipitation_accumulated   324.795310  18.022078  15.359529 -93.060850   \n",
      "Humidity                     27.871826   5.279377   4.302277   0.809846   \n",
      "Wind_Speed_kmh                0.529708   0.727810   0.549421   0.607723   \n",
      "Soil_Moisture              9074.945519  95.262508  76.502937   0.843452   \n",
      "Soil_Temperature              1.525529   1.235123   1.030183   0.905652   \n",
      "Wind_Dir_Sin                  0.371387   0.609415   0.489467   0.324595   \n",
      "Wind_Dir_Cos                  0.311365   0.558001   0.454388   0.153449   \n",
      "\n",
      "                                SMAPE  \n",
      "Temperature                 23.342521  \n",
      "Precipitation_accumulated    3.374794  \n",
      "Humidity                     4.994273  \n",
      "Wind_Speed_kmh              56.884942  \n",
      "Soil_Moisture                0.892676  \n",
      "Soil_Temperature            25.770150  \n",
      "Wind_Dir_Sin                98.348813  \n",
      "Wind_Dir_Cos               111.944074  \n",
      "The R2 for this fold was 0.08737346302081422\n",
      "Results of trial 52 saved in optuna_iteration_metrics/trial_52.json\n",
      "Current value: 0.08737346302081422, Current params: {'input_chunk_length': 25, 'output_chunk_length': 1, 'hidden_size': 190, 'layer_size': 1, 'dropout': 0.3950656629371283, 'batch_size': 159, 'lr': 0.0020337829175558026, 'weight_decay': 1.0298495505540616e-05, 'loss_fn': 'smoothl1', 'optimizer': 'AdamW'}\n",
      "Best value: 0.08685611509641744, Best params: {'input_chunk_length': 24, 'output_chunk_length': 1, 'hidden_size': 188, 'layer_size': 1, 'dropout': 0.463770421977072, 'batch_size': 172, 'lr': 0.0020101615632169517, 'weight_decay': 4.080126913056516e-06, 'loss_fn': 'smoothl1', 'optimizer': 'AdamW'}\n",
      "\n",
      "Starting Trial 53\n",
      "Hyperparameters: {'input_chunk_length': 28, 'output_chunk_length': 3, 'hidden_size': 195, 'layer_size': 1, 'dropout': 0.45545902632938995, 'batch_size': 170, 'lr': 0.0026487051071994888, 'weight_decay': 8.736118482099788e-06, 'loss_fn': 'smoothl1', 'optimizer': 'AdamW'}\n",
      "\n",
      "Training the model...\n",
      "Train set: 6647 samples\n",
      "Validation set: 1662 samples\n"
     ]
    },
    {
     "name": "stderr",
     "output_type": "stream",
     "text": [
      "Metric val_loss improved. New best score: 0.031\n",
      "Metric val_loss improved by 0.010 >= min_delta = 0.0005. New best score: 0.022\n",
      "Metric val_loss improved by 0.003 >= min_delta = 0.0005. New best score: 0.019\n",
      "Metric val_loss improved by 0.002 >= min_delta = 0.0005. New best score: 0.017\n",
      "Metric val_loss improved by 0.001 >= min_delta = 0.0005. New best score: 0.015\n",
      "Metric val_loss improved by 0.001 >= min_delta = 0.0005. New best score: 0.015\n",
      "Monitored metric val_loss did not improve in the last 15 records. Best score: 0.015. Signaling Trainer to stop.\n",
      "/home/eduardo/Documentos/Water-Cycle-Neural-Network/venv/lib/python3.12/site-packages/torch/nn/modules/rnn.py:123: UserWarning: dropout option adds dropout after all but last recurrent layer, so non-zero dropout expects num_layers greater than 1, but got dropout=0.45545902632938995 and num_layers=1\n",
      "  warnings.warn(\n",
      "GPU available: True (cuda), used: True\n",
      "TPU available: False, using: 0 TPU cores\n",
      "HPU available: False, using: 0 HPUs\n",
      "LOCAL_RANK: 0 - CUDA_VISIBLE_DEVICES: [0]\n",
      "/home/eduardo/Documentos/Water-Cycle-Neural-Network/venv/lib/python3.12/site-packages/pytorch_lightning/trainer/connectors/data_connector.py:425: The 'predict_dataloader' does not have many workers which may be a bottleneck. Consider increasing the value of the `num_workers` argument` to `num_workers=11` in the `DataLoader` to improve performance.\n"
     ]
    },
    {
     "name": "stdout",
     "output_type": "stream",
     "text": [
      "Model loaded from checkpoint for trial 53\n"
     ]
    },
    {
     "name": "stderr",
     "output_type": "stream",
     "text": [
      "[I 2025-05-25 17:56:28,475] Trial 53 finished with value: 0.11620264216360184 and parameters: {'input_chunk_length': 28, 'output_chunk_length': 3, 'hidden_size': 195, 'layer_size': 1, 'dropout': 0.45545902632938995, 'batch_size': 170, 'lr': 0.0026487051071994888, 'weight_decay': 8.736118482099788e-06, 'loss_fn': 'smoothl1', 'optimizer': 'AdamW'}. Best is trial 51 with value: 0.08685611509641744.\n",
      "Specified future encoders in `add_encoders` at model creation but model does not accept future covariates. future encoders will be ignored.\n",
      "/home/eduardo/Documentos/Water-Cycle-Neural-Network/venv/lib/python3.12/site-packages/torch/nn/modules/rnn.py:123: UserWarning: dropout option adds dropout after all but last recurrent layer, so non-zero dropout expects num_layers greater than 1, but got dropout=0.4257555747230524 and num_layers=1\n",
      "  warnings.warn(\n",
      "GPU available: True (cuda), used: True\n",
      "TPU available: False, using: 0 TPU cores\n",
      "HPU available: False, using: 0 HPUs\n",
      "LOCAL_RANK: 0 - CUDA_VISIBLE_DEVICES: [0]\n"
     ]
    },
    {
     "name": "stdout",
     "output_type": "stream",
     "text": [
      "Starting time series verification for consistency...\n",
      "\n",
      "Performance metrics:\n",
      "                                    MSE        RMSE         MAE          R2  \\\n",
      "Temperature                    6.226405    2.495277    2.021553    0.795501   \n",
      "Precipitation_accumulated    717.209952   26.780776   22.448668 -208.296731   \n",
      "Humidity                      48.056423    6.932274    5.504626    0.672017   \n",
      "Wind_Speed_kmh                 1.022551    1.011213    0.803790    0.242112   \n",
      "Soil_Moisture              34827.255698  186.620620  150.125077    0.389021   \n",
      "Soil_Temperature               8.280705    2.877621    2.492840    0.485901   \n",
      "Wind_Dir_Sin                   0.533715    0.730558    0.636248    0.030753   \n",
      "Wind_Dir_Cos                   0.369109    0.607543    0.509970   -0.007320   \n",
      "\n",
      "                                SMAPE  \n",
      "Temperature                 33.135276  \n",
      "Precipitation_accumulated    4.980353  \n",
      "Humidity                     6.495025  \n",
      "Wind_Speed_kmh              67.946863  \n",
      "Soil_Moisture                1.746820  \n",
      "Soil_Temperature            55.171271  \n",
      "Wind_Dir_Sin               134.233490  \n",
      "Wind_Dir_Cos               125.612634  \n",
      "The R2 for this fold was 0.11620264216360184\n",
      "Results of trial 53 saved in optuna_iteration_metrics/trial_53.json\n",
      "Current value: 0.11620264216360184, Current params: {'input_chunk_length': 28, 'output_chunk_length': 3, 'hidden_size': 195, 'layer_size': 1, 'dropout': 0.45545902632938995, 'batch_size': 170, 'lr': 0.0026487051071994888, 'weight_decay': 8.736118482099788e-06, 'loss_fn': 'smoothl1', 'optimizer': 'AdamW'}\n",
      "Best value: 0.08685611509641744, Best params: {'input_chunk_length': 24, 'output_chunk_length': 1, 'hidden_size': 188, 'layer_size': 1, 'dropout': 0.463770421977072, 'batch_size': 172, 'lr': 0.0020101615632169517, 'weight_decay': 4.080126913056516e-06, 'loss_fn': 'smoothl1', 'optimizer': 'AdamW'}\n",
      "\n",
      "Starting Trial 54\n",
      "Hyperparameters: {'input_chunk_length': 26, 'output_chunk_length': 2, 'hidden_size': 218, 'layer_size': 1, 'dropout': 0.4257555747230524, 'batch_size': 152, 'lr': 0.0009880399664282044, 'weight_decay': 4.534253622828718e-06, 'loss_fn': 'smoothl1', 'optimizer': 'AdamW'}\n",
      "\n",
      "Training the model...\n",
      "Train set: 6647 samples\n",
      "Validation set: 1662 samples\n"
     ]
    },
    {
     "name": "stderr",
     "output_type": "stream",
     "text": [
      "Metric val_loss improved. New best score: 0.034\n",
      "Metric val_loss improved by 0.006 >= min_delta = 0.0005. New best score: 0.028\n",
      "Metric val_loss improved by 0.007 >= min_delta = 0.0005. New best score: 0.022\n",
      "Metric val_loss improved by 0.003 >= min_delta = 0.0005. New best score: 0.019\n",
      "Metric val_loss improved by 0.002 >= min_delta = 0.0005. New best score: 0.016\n",
      "Metric val_loss improved by 0.001 >= min_delta = 0.0005. New best score: 0.016\n",
      "Metric val_loss improved by 0.001 >= min_delta = 0.0005. New best score: 0.015\n",
      "Metric val_loss improved by 0.001 >= min_delta = 0.0005. New best score: 0.014\n",
      "Metric val_loss improved by 0.001 >= min_delta = 0.0005. New best score: 0.014\n",
      "Monitored metric val_loss did not improve in the last 15 records. Best score: 0.014. Signaling Trainer to stop.\n",
      "/home/eduardo/Documentos/Water-Cycle-Neural-Network/venv/lib/python3.12/site-packages/torch/nn/modules/rnn.py:123: UserWarning: dropout option adds dropout after all but last recurrent layer, so non-zero dropout expects num_layers greater than 1, but got dropout=0.4257555747230524 and num_layers=1\n",
      "  warnings.warn(\n",
      "GPU available: True (cuda), used: True\n",
      "TPU available: False, using: 0 TPU cores\n",
      "HPU available: False, using: 0 HPUs\n",
      "LOCAL_RANK: 0 - CUDA_VISIBLE_DEVICES: [0]\n",
      "/home/eduardo/Documentos/Water-Cycle-Neural-Network/venv/lib/python3.12/site-packages/pytorch_lightning/trainer/connectors/data_connector.py:425: The 'predict_dataloader' does not have many workers which may be a bottleneck. Consider increasing the value of the `num_workers` argument` to `num_workers=11` in the `DataLoader` to improve performance.\n"
     ]
    },
    {
     "name": "stdout",
     "output_type": "stream",
     "text": [
      "Model loaded from checkpoint for trial 54\n"
     ]
    },
    {
     "name": "stderr",
     "output_type": "stream",
     "text": [
      "[I 2025-05-25 17:57:03,071] Trial 54 finished with value: 0.10936155493696474 and parameters: {'input_chunk_length': 26, 'output_chunk_length': 2, 'hidden_size': 218, 'layer_size': 1, 'dropout': 0.4257555747230524, 'batch_size': 152, 'lr': 0.0009880399664282044, 'weight_decay': 4.534253622828718e-06, 'loss_fn': 'smoothl1', 'optimizer': 'AdamW'}. Best is trial 51 with value: 0.08685611509641744.\n",
      "Specified future encoders in `add_encoders` at model creation but model does not accept future covariates. future encoders will be ignored.\n",
      "/home/eduardo/Documentos/Water-Cycle-Neural-Network/venv/lib/python3.12/site-packages/torch/nn/modules/rnn.py:123: UserWarning: dropout option adds dropout after all but last recurrent layer, so non-zero dropout expects num_layers greater than 1, but got dropout=0.389714759642876 and num_layers=1\n",
      "  warnings.warn(\n",
      "GPU available: True (cuda), used: True\n",
      "TPU available: False, using: 0 TPU cores\n",
      "HPU available: False, using: 0 HPUs\n",
      "LOCAL_RANK: 0 - CUDA_VISIBLE_DEVICES: [0]\n"
     ]
    },
    {
     "name": "stdout",
     "output_type": "stream",
     "text": [
      "Starting time series verification for consistency...\n",
      "\n",
      "Performance metrics:\n",
      "                                    MSE        RMSE         MAE          R2  \\\n",
      "Temperature                    5.192434    2.278691    1.831222    0.829654   \n",
      "Precipitation_accumulated    787.923269   28.069971   25.359610 -227.876389   \n",
      "Humidity                      45.524071    6.747153    5.294713    0.689370   \n",
      "Wind_Speed_kmh                 0.873326    0.934519    0.739280    0.353760   \n",
      "Soil_Moisture              27152.289222  164.779517  130.758457    0.528623   \n",
      "Soil_Temperature               5.466025    2.337953    2.013360    0.661477   \n",
      "Wind_Dir_Sin                   0.482993    0.694977    0.593358    0.122049   \n",
      "Wind_Dir_Cos                   0.346055    0.588264    0.490657    0.057945   \n",
      "\n",
      "                                SMAPE  \n",
      "Temperature                 31.209969  \n",
      "Precipitation_accumulated    5.641744  \n",
      "Humidity                     6.235946  \n",
      "Wind_Speed_kmh              65.628469  \n",
      "Soil_Moisture                1.522070  \n",
      "Soil_Temperature            43.861054  \n",
      "Wind_Dir_Sin               124.545258  \n",
      "Wind_Dir_Cos               121.053166  \n",
      "The R2 for this fold was 0.10936155493696474\n",
      "Results of trial 54 saved in optuna_iteration_metrics/trial_54.json\n",
      "Current value: 0.10936155493696474, Current params: {'input_chunk_length': 26, 'output_chunk_length': 2, 'hidden_size': 218, 'layer_size': 1, 'dropout': 0.4257555747230524, 'batch_size': 152, 'lr': 0.0009880399664282044, 'weight_decay': 4.534253622828718e-06, 'loss_fn': 'smoothl1', 'optimizer': 'AdamW'}\n",
      "Best value: 0.08685611509641744, Best params: {'input_chunk_length': 24, 'output_chunk_length': 1, 'hidden_size': 188, 'layer_size': 1, 'dropout': 0.463770421977072, 'batch_size': 172, 'lr': 0.0020101615632169517, 'weight_decay': 4.080126913056516e-06, 'loss_fn': 'smoothl1', 'optimizer': 'AdamW'}\n",
      "\n",
      "Starting Trial 55\n",
      "Hyperparameters: {'input_chunk_length': 29, 'output_chunk_length': 3, 'hidden_size': 189, 'layer_size': 1, 'dropout': 0.389714759642876, 'batch_size': 158, 'lr': 0.0033427819592343633, 'weight_decay': 1.1619549283653963e-05, 'loss_fn': 'mae', 'optimizer': 'AdamW'}\n",
      "\n",
      "Training the model...\n",
      "Train set: 6647 samples\n",
      "Validation set: 1662 samples\n"
     ]
    },
    {
     "name": "stderr",
     "output_type": "stream",
     "text": [
      "[I 2025-05-25 17:57:04,712] Trial 55 pruned. Trial was pruned at epoch 0.\n",
      "Specified future encoders in `add_encoders` at model creation but model does not accept future covariates. future encoders will be ignored.\n",
      "/home/eduardo/Documentos/Water-Cycle-Neural-Network/venv/lib/python3.12/site-packages/torch/nn/modules/rnn.py:123: UserWarning: dropout option adds dropout after all but last recurrent layer, so non-zero dropout expects num_layers greater than 1, but got dropout=0.49264353877365413 and num_layers=1\n",
      "  warnings.warn(\n",
      "GPU available: True (cuda), used: True\n",
      "TPU available: False, using: 0 TPU cores\n",
      "HPU available: False, using: 0 HPUs\n",
      "LOCAL_RANK: 0 - CUDA_VISIBLE_DEVICES: [0]\n"
     ]
    },
    {
     "name": "stdout",
     "output_type": "stream",
     "text": [
      "Current value: 0.19033407918592032, Current params: {'input_chunk_length': 29, 'output_chunk_length': 3, 'hidden_size': 189, 'layer_size': 1, 'dropout': 0.389714759642876, 'batch_size': 158, 'lr': 0.0033427819592343633, 'weight_decay': 1.1619549283653963e-05, 'loss_fn': 'mae', 'optimizer': 'AdamW'}\n",
      "Best value: 0.08685611509641744, Best params: {'input_chunk_length': 24, 'output_chunk_length': 1, 'hidden_size': 188, 'layer_size': 1, 'dropout': 0.463770421977072, 'batch_size': 172, 'lr': 0.0020101615632169517, 'weight_decay': 4.080126913056516e-06, 'loss_fn': 'smoothl1', 'optimizer': 'AdamW'}\n",
      "\n",
      "Starting Trial 56\n",
      "Hyperparameters: {'input_chunk_length': 32, 'output_chunk_length': 1, 'hidden_size': 161, 'layer_size': 1, 'dropout': 0.49264353877365413, 'batch_size': 166, 'lr': 0.00207132295706355, 'weight_decay': 6.910624295773047e-06, 'loss_fn': 'smoothl1', 'optimizer': 'AdamW'}\n",
      "\n",
      "Training the model...\n",
      "Train set: 6647 samples\n",
      "Validation set: 1662 samples\n"
     ]
    },
    {
     "name": "stderr",
     "output_type": "stream",
     "text": [
      "Metric val_loss improved. New best score: 0.034\n",
      "Metric val_loss improved by 0.011 >= min_delta = 0.0005. New best score: 0.023\n",
      "Metric val_loss improved by 0.006 >= min_delta = 0.0005. New best score: 0.017\n",
      "Metric val_loss improved by 0.002 >= min_delta = 0.0005. New best score: 0.014\n",
      "Metric val_loss improved by 0.002 >= min_delta = 0.0005. New best score: 0.013\n",
      "Metric val_loss improved by 0.001 >= min_delta = 0.0005. New best score: 0.012\n",
      "Monitored metric val_loss did not improve in the last 15 records. Best score: 0.012. Signaling Trainer to stop.\n",
      "/home/eduardo/Documentos/Water-Cycle-Neural-Network/venv/lib/python3.12/site-packages/torch/nn/modules/rnn.py:123: UserWarning: dropout option adds dropout after all but last recurrent layer, so non-zero dropout expects num_layers greater than 1, but got dropout=0.49264353877365413 and num_layers=1\n",
      "  warnings.warn(\n",
      "GPU available: True (cuda), used: True\n",
      "TPU available: False, using: 0 TPU cores\n",
      "HPU available: False, using: 0 HPUs\n",
      "LOCAL_RANK: 0 - CUDA_VISIBLE_DEVICES: [0]\n",
      "/home/eduardo/Documentos/Water-Cycle-Neural-Network/venv/lib/python3.12/site-packages/pytorch_lightning/trainer/connectors/data_connector.py:425: The 'predict_dataloader' does not have many workers which may be a bottleneck. Consider increasing the value of the `num_workers` argument` to `num_workers=11` in the `DataLoader` to improve performance.\n"
     ]
    },
    {
     "name": "stdout",
     "output_type": "stream",
     "text": [
      "Model loaded from checkpoint for trial 56\n"
     ]
    },
    {
     "name": "stderr",
     "output_type": "stream",
     "text": [
      "[I 2025-05-25 17:57:30,383] Trial 56 finished with value: 0.08771391225615209 and parameters: {'input_chunk_length': 32, 'output_chunk_length': 1, 'hidden_size': 161, 'layer_size': 1, 'dropout': 0.49264353877365413, 'batch_size': 166, 'lr': 0.00207132295706355, 'weight_decay': 6.910624295773047e-06, 'loss_fn': 'smoothl1', 'optimizer': 'AdamW'}. Best is trial 51 with value: 0.08685611509641744.\n",
      "Specified future encoders in `add_encoders` at model creation but model does not accept future covariates. future encoders will be ignored.\n",
      "/home/eduardo/Documentos/Water-Cycle-Neural-Network/venv/lib/python3.12/site-packages/torch/nn/modules/rnn.py:123: UserWarning: dropout option adds dropout after all but last recurrent layer, so non-zero dropout expects num_layers greater than 1, but got dropout=0.4938726246806412 and num_layers=1\n",
      "  warnings.warn(\n",
      "GPU available: True (cuda), used: True\n",
      "TPU available: False, using: 0 TPU cores\n",
      "HPU available: False, using: 0 HPUs\n",
      "LOCAL_RANK: 0 - CUDA_VISIBLE_DEVICES: [0]\n"
     ]
    },
    {
     "name": "stdout",
     "output_type": "stream",
     "text": [
      "Starting time series verification for consistency...\n",
      "\n",
      "Performance metrics:\n",
      "                                   MSE       RMSE        MAE         R2  \\\n",
      "Temperature                   2.267893   1.505952   1.204689   0.925576   \n",
      "Precipitation_accumulated   253.792780  15.930875  13.082384 -73.292183   \n",
      "Humidity                     25.584260   5.058089   4.093093   0.825372   \n",
      "Wind_Speed_kmh                0.546025   0.738935   0.567835   0.594835   \n",
      "Soil_Moisture              9982.090400  99.910412  78.164140   0.823497   \n",
      "Soil_Temperature              1.847312   1.359159   1.115199   0.885227   \n",
      "Wind_Dir_Sin                  0.370240   0.608473   0.505106   0.327594   \n",
      "Wind_Dir_Cos                  0.313987   0.560345   0.451869   0.143282   \n",
      "\n",
      "                                SMAPE  \n",
      "Temperature                 23.856532  \n",
      "Precipitation_accumulated    2.855306  \n",
      "Humidity                     4.753053  \n",
      "Wind_Speed_kmh              57.855018  \n",
      "Soil_Moisture                0.913175  \n",
      "Soil_Temperature            27.264964  \n",
      "Wind_Dir_Sin               101.751109  \n",
      "Wind_Dir_Cos               109.985853  \n",
      "The R2 for this fold was 0.08771391225615209\n",
      "Results of trial 56 saved in optuna_iteration_metrics/trial_56.json\n",
      "Current value: 0.08771391225615209, Current params: {'input_chunk_length': 32, 'output_chunk_length': 1, 'hidden_size': 161, 'layer_size': 1, 'dropout': 0.49264353877365413, 'batch_size': 166, 'lr': 0.00207132295706355, 'weight_decay': 6.910624295773047e-06, 'loss_fn': 'smoothl1', 'optimizer': 'AdamW'}\n",
      "Best value: 0.08685611509641744, Best params: {'input_chunk_length': 24, 'output_chunk_length': 1, 'hidden_size': 188, 'layer_size': 1, 'dropout': 0.463770421977072, 'batch_size': 172, 'lr': 0.0020101615632169517, 'weight_decay': 4.080126913056516e-06, 'loss_fn': 'smoothl1', 'optimizer': 'AdamW'}\n",
      "\n",
      "Starting Trial 57\n",
      "Hyperparameters: {'input_chunk_length': 34, 'output_chunk_length': 4, 'hidden_size': 171, 'layer_size': 1, 'dropout': 0.4938726246806412, 'batch_size': 122, 'lr': 0.0021087490755439184, 'weight_decay': 6.351158112023784e-06, 'loss_fn': 'smoothl1', 'optimizer': 'AdamW'}\n",
      "\n",
      "Training the model...\n",
      "Train set: 6647 samples\n",
      "Validation set: 1662 samples\n"
     ]
    },
    {
     "name": "stderr",
     "output_type": "stream",
     "text": [
      "Metric val_loss improved. New best score: 0.033\n",
      "Metric val_loss improved by 0.013 >= min_delta = 0.0005. New best score: 0.020\n",
      "Metric val_loss improved by 0.003 >= min_delta = 0.0005. New best score: 0.017\n",
      "Metric val_loss improved by 0.001 >= min_delta = 0.0005. New best score: 0.016\n",
      "Metric val_loss improved by 0.001 >= min_delta = 0.0005. New best score: 0.016\n",
      "Monitored metric val_loss did not improve in the last 15 records. Best score: 0.016. Signaling Trainer to stop.\n",
      "/home/eduardo/Documentos/Water-Cycle-Neural-Network/venv/lib/python3.12/site-packages/torch/nn/modules/rnn.py:123: UserWarning: dropout option adds dropout after all but last recurrent layer, so non-zero dropout expects num_layers greater than 1, but got dropout=0.4938726246806412 and num_layers=1\n",
      "  warnings.warn(\n",
      "GPU available: True (cuda), used: True\n",
      "TPU available: False, using: 0 TPU cores\n",
      "HPU available: False, using: 0 HPUs\n",
      "LOCAL_RANK: 0 - CUDA_VISIBLE_DEVICES: [0]\n",
      "/home/eduardo/Documentos/Water-Cycle-Neural-Network/venv/lib/python3.12/site-packages/pytorch_lightning/trainer/connectors/data_connector.py:425: The 'predict_dataloader' does not have many workers which may be a bottleneck. Consider increasing the value of the `num_workers` argument` to `num_workers=11` in the `DataLoader` to improve performance.\n"
     ]
    },
    {
     "name": "stdout",
     "output_type": "stream",
     "text": [
      "Model loaded from checkpoint for trial 57\n"
     ]
    },
    {
     "name": "stderr",
     "output_type": "stream",
     "text": [
      "[I 2025-05-25 17:58:02,647] Trial 57 finished with value: 0.11893197271850944 and parameters: {'input_chunk_length': 34, 'output_chunk_length': 4, 'hidden_size': 171, 'layer_size': 1, 'dropout': 0.4938726246806412, 'batch_size': 122, 'lr': 0.0021087490755439184, 'weight_decay': 6.351158112023784e-06, 'loss_fn': 'smoothl1', 'optimizer': 'AdamW'}. Best is trial 51 with value: 0.08685611509641744.\n",
      "Specified future encoders in `add_encoders` at model creation but model does not accept future covariates. future encoders will be ignored.\n",
      "/home/eduardo/Documentos/Water-Cycle-Neural-Network/venv/lib/python3.12/site-packages/torch/nn/modules/rnn.py:123: UserWarning: dropout option adds dropout after all but last recurrent layer, so non-zero dropout expects num_layers greater than 1, but got dropout=0.46311801034220146 and num_layers=1\n",
      "  warnings.warn(\n",
      "GPU available: True (cuda), used: True\n",
      "TPU available: False, using: 0 TPU cores\n",
      "HPU available: False, using: 0 HPUs\n",
      "LOCAL_RANK: 0 - CUDA_VISIBLE_DEVICES: [0]\n"
     ]
    },
    {
     "name": "stdout",
     "output_type": "stream",
     "text": [
      "Starting time series verification for consistency...\n",
      "\n",
      "Performance metrics:\n",
      "                                    MSE        RMSE         MAE          R2  \\\n",
      "Temperature                    7.177480    2.679082    2.046712    0.765074   \n",
      "Precipitation_accumulated    447.641035   21.157529   16.622997 -131.054374   \n",
      "Humidity                      62.415965    7.900378    6.107249    0.574724   \n",
      "Wind_Speed_kmh                 1.065509    1.032235    0.831373    0.210033   \n",
      "Soil_Moisture              43616.753583  208.846244  161.808518    0.210976   \n",
      "Soil_Temperature              11.608375    3.407107    3.001522    0.280013   \n",
      "Wind_Dir_Sin                   0.603522    0.776867    0.658845   -0.095834   \n",
      "Wind_Dir_Cos                   0.364388    0.603645    0.507767    0.006320   \n",
      "\n",
      "                                SMAPE  \n",
      "Temperature                 34.520603  \n",
      "Precipitation_accumulated    3.663601  \n",
      "Humidity                     7.192784  \n",
      "Wind_Speed_kmh              69.453149  \n",
      "Soil_Moisture                1.902210  \n",
      "Soil_Temperature            65.961979  \n",
      "Wind_Dir_Sin               131.809381  \n",
      "Wind_Dir_Cos               124.616691  \n",
      "The R2 for this fold was 0.11893197271850944\n",
      "Results of trial 57 saved in optuna_iteration_metrics/trial_57.json\n",
      "Current value: 0.11893197271850944, Current params: {'input_chunk_length': 34, 'output_chunk_length': 4, 'hidden_size': 171, 'layer_size': 1, 'dropout': 0.4938726246806412, 'batch_size': 122, 'lr': 0.0021087490755439184, 'weight_decay': 6.351158112023784e-06, 'loss_fn': 'smoothl1', 'optimizer': 'AdamW'}\n",
      "Best value: 0.08685611509641744, Best params: {'input_chunk_length': 24, 'output_chunk_length': 1, 'hidden_size': 188, 'layer_size': 1, 'dropout': 0.463770421977072, 'batch_size': 172, 'lr': 0.0020101615632169517, 'weight_decay': 4.080126913056516e-06, 'loss_fn': 'smoothl1', 'optimizer': 'AdamW'}\n",
      "\n",
      "Starting Trial 58\n",
      "Hyperparameters: {'input_chunk_length': 32, 'output_chunk_length': 10, 'hidden_size': 159, 'layer_size': 1, 'dropout': 0.46311801034220146, 'batch_size': 165, 'lr': 0.0014538469067325703, 'weight_decay': 1.0446727649409798e-05, 'loss_fn': 'smoothl1', 'optimizer': 'AdamW'}\n",
      "\n",
      "Training the model...\n",
      "Train set: 6647 samples\n",
      "Validation set: 1662 samples\n"
     ]
    },
    {
     "name": "stderr",
     "output_type": "stream",
     "text": [
      "[I 2025-05-25 17:58:04,302] Trial 58 pruned. Trial was pruned at epoch 0.\n"
     ]
    },
    {
     "name": "stdout",
     "output_type": "stream",
     "text": [
      "Current value: 0.04065159852779077, Current params: {'input_chunk_length': 32, 'output_chunk_length': 10, 'hidden_size': 159, 'layer_size': 1, 'dropout': 0.46311801034220146, 'batch_size': 165, 'lr': 0.0014538469067325703, 'weight_decay': 1.0446727649409798e-05, 'loss_fn': 'smoothl1', 'optimizer': 'AdamW'}\n",
      "Best value: 0.08685611509641744, Best params: {'input_chunk_length': 24, 'output_chunk_length': 1, 'hidden_size': 188, 'layer_size': 1, 'dropout': 0.463770421977072, 'batch_size': 172, 'lr': 0.0020101615632169517, 'weight_decay': 4.080126913056516e-06, 'loss_fn': 'smoothl1', 'optimizer': 'AdamW'}\n",
      "\n",
      "Starting Trial 59\n",
      "Hyperparameters: {'input_chunk_length': 24, 'output_chunk_length': 8, 'hidden_size': 68, 'layer_size': 1, 'dropout': 0.4989598355920076, 'batch_size': 147, 'lr': 0.0034904693388516273, 'weight_decay': 1.6144214203173428e-05, 'loss_fn': 'smoothl1', 'optimizer': 'SGD'}\n",
      "\n",
      "Training the model...\n",
      "Train set: 6647 samples\n",
      "Validation set: 1662 samples\n"
     ]
    },
    {
     "name": "stderr",
     "output_type": "stream",
     "text": [
      "Specified future encoders in `add_encoders` at model creation but model does not accept future covariates. future encoders will be ignored.\n",
      "/home/eduardo/Documentos/Water-Cycle-Neural-Network/venv/lib/python3.12/site-packages/torch/nn/modules/rnn.py:123: UserWarning: dropout option adds dropout after all but last recurrent layer, so non-zero dropout expects num_layers greater than 1, but got dropout=0.4989598355920076 and num_layers=1\n",
      "  warnings.warn(\n",
      "GPU available: True (cuda), used: True\n",
      "TPU available: False, using: 0 TPU cores\n",
      "HPU available: False, using: 0 HPUs\n",
      "LOCAL_RANK: 0 - CUDA_VISIBLE_DEVICES: [0]\n",
      "[I 2025-05-25 17:59:00,934] Trial 59 pruned. Trial was pruned at epoch 0.\n",
      "Specified future encoders in `add_encoders` at model creation but model does not accept future covariates. future encoders will be ignored.\n",
      "/home/eduardo/Documentos/Water-Cycle-Neural-Network/venv/lib/python3.12/site-packages/torch/nn/modules/rnn.py:123: UserWarning: dropout option adds dropout after all but last recurrent layer, so non-zero dropout expects num_layers greater than 1, but got dropout=0.4407436492921717 and num_layers=1\n",
      "  warnings.warn(\n",
      "GPU available: True (cuda), used: True\n",
      "TPU available: False, using: 0 TPU cores\n",
      "HPU available: False, using: 0 HPUs\n",
      "LOCAL_RANK: 0 - CUDA_VISIBLE_DEVICES: [0]\n"
     ]
    },
    {
     "name": "stdout",
     "output_type": "stream",
     "text": [
      "Current value: 0.18327824151877328, Current params: {'input_chunk_length': 24, 'output_chunk_length': 8, 'hidden_size': 68, 'layer_size': 1, 'dropout': 0.4989598355920076, 'batch_size': 147, 'lr': 0.0034904693388516273, 'weight_decay': 1.6144214203173428e-05, 'loss_fn': 'smoothl1', 'optimizer': 'SGD'}\n",
      "Best value: 0.08685611509641744, Best params: {'input_chunk_length': 24, 'output_chunk_length': 1, 'hidden_size': 188, 'layer_size': 1, 'dropout': 0.463770421977072, 'batch_size': 172, 'lr': 0.0020101615632169517, 'weight_decay': 4.080126913056516e-06, 'loss_fn': 'smoothl1', 'optimizer': 'AdamW'}\n",
      "\n",
      "Starting Trial 60\n",
      "Hyperparameters: {'input_chunk_length': 36, 'output_chunk_length': 2, 'hidden_size': 209, 'layer_size': 1, 'dropout': 0.4407436492921717, 'batch_size': 143, 'lr': 0.0008359554878299004, 'weight_decay': 2.892292679800787e-05, 'loss_fn': 'mse', 'optimizer': 'AdamW'}\n",
      "\n",
      "Training the model...\n",
      "Train set: 6647 samples\n",
      "Validation set: 1662 samples\n"
     ]
    },
    {
     "name": "stderr",
     "output_type": "stream",
     "text": [
      "[I 2025-05-25 17:59:02,870] Trial 60 pruned. Trial was pruned at epoch 0.\n",
      "Specified future encoders in `add_encoders` at model creation but model does not accept future covariates. future encoders will be ignored.\n",
      "/home/eduardo/Documentos/Water-Cycle-Neural-Network/venv/lib/python3.12/site-packages/torch/nn/modules/rnn.py:123: UserWarning: dropout option adds dropout after all but last recurrent layer, so non-zero dropout expects num_layers greater than 1, but got dropout=0.42517158188483795 and num_layers=1\n",
      "  warnings.warn(\n",
      "GPU available: True (cuda), used: True\n",
      "TPU available: False, using: 0 TPU cores\n",
      "HPU available: False, using: 0 HPUs\n",
      "LOCAL_RANK: 0 - CUDA_VISIBLE_DEVICES: [0]\n"
     ]
    },
    {
     "name": "stdout",
     "output_type": "stream",
     "text": [
      "Current value: 0.07581105457358481, Current params: {'input_chunk_length': 36, 'output_chunk_length': 2, 'hidden_size': 209, 'layer_size': 1, 'dropout': 0.4407436492921717, 'batch_size': 143, 'lr': 0.0008359554878299004, 'weight_decay': 2.892292679800787e-05, 'loss_fn': 'mse', 'optimizer': 'AdamW'}\n",
      "Best value: 0.08685611509641744, Best params: {'input_chunk_length': 24, 'output_chunk_length': 1, 'hidden_size': 188, 'layer_size': 1, 'dropout': 0.463770421977072, 'batch_size': 172, 'lr': 0.0020101615632169517, 'weight_decay': 4.080126913056516e-06, 'loss_fn': 'smoothl1', 'optimizer': 'AdamW'}\n",
      "\n",
      "Starting Trial 61\n",
      "Hyperparameters: {'input_chunk_length': 26, 'output_chunk_length': 1, 'hidden_size': 190, 'layer_size': 1, 'dropout': 0.42517158188483795, 'batch_size': 179, 'lr': 0.002254464765136813, 'weight_decay': 2.930938267717235e-06, 'loss_fn': 'smoothl1', 'optimizer': 'AdamW'}\n",
      "\n",
      "Training the model...\n",
      "Train set: 6647 samples\n",
      "Validation set: 1662 samples\n"
     ]
    },
    {
     "name": "stderr",
     "output_type": "stream",
     "text": [
      "Metric val_loss improved. New best score: 0.033\n",
      "Metric val_loss improved by 0.012 >= min_delta = 0.0005. New best score: 0.021\n",
      "Metric val_loss improved by 0.004 >= min_delta = 0.0005. New best score: 0.016\n",
      "Metric val_loss improved by 0.003 >= min_delta = 0.0005. New best score: 0.013\n",
      "Metric val_loss improved by 0.001 >= min_delta = 0.0005. New best score: 0.012\n",
      "Metric val_loss improved by 0.001 >= min_delta = 0.0005. New best score: 0.012\n",
      "Monitored metric val_loss did not improve in the last 15 records. Best score: 0.012. Signaling Trainer to stop.\n",
      "/home/eduardo/Documentos/Water-Cycle-Neural-Network/venv/lib/python3.12/site-packages/torch/nn/modules/rnn.py:123: UserWarning: dropout option adds dropout after all but last recurrent layer, so non-zero dropout expects num_layers greater than 1, but got dropout=0.42517158188483795 and num_layers=1\n",
      "  warnings.warn(\n",
      "GPU available: True (cuda), used: True\n",
      "TPU available: False, using: 0 TPU cores\n",
      "HPU available: False, using: 0 HPUs\n",
      "LOCAL_RANK: 0 - CUDA_VISIBLE_DEVICES: [0]\n",
      "/home/eduardo/Documentos/Water-Cycle-Neural-Network/venv/lib/python3.12/site-packages/pytorch_lightning/trainer/connectors/data_connector.py:425: The 'predict_dataloader' does not have many workers which may be a bottleneck. Consider increasing the value of the `num_workers` argument` to `num_workers=11` in the `DataLoader` to improve performance.\n"
     ]
    },
    {
     "name": "stdout",
     "output_type": "stream",
     "text": [
      "Model loaded from checkpoint for trial 61\n"
     ]
    },
    {
     "name": "stderr",
     "output_type": "stream",
     "text": [
      "[I 2025-05-25 18:02:14,506] Trial 61 finished with value: 0.090978451515611 and parameters: {'input_chunk_length': 26, 'output_chunk_length': 1, 'hidden_size': 190, 'layer_size': 1, 'dropout': 0.42517158188483795, 'batch_size': 179, 'lr': 0.002254464765136813, 'weight_decay': 2.930938267717235e-06, 'loss_fn': 'smoothl1', 'optimizer': 'AdamW'}. Best is trial 51 with value: 0.08685611509641744.\n",
      "Specified future encoders in `add_encoders` at model creation but model does not accept future covariates. future encoders will be ignored.\n",
      "/home/eduardo/Documentos/Water-Cycle-Neural-Network/venv/lib/python3.12/site-packages/torch/nn/modules/rnn.py:123: UserWarning: dropout option adds dropout after all but last recurrent layer, so non-zero dropout expects num_layers greater than 1, but got dropout=0.4825450755927748 and num_layers=1\n",
      "  warnings.warn(\n",
      "GPU available: True (cuda), used: True\n",
      "TPU available: False, using: 0 TPU cores\n",
      "HPU available: False, using: 0 HPUs\n",
      "LOCAL_RANK: 0 - CUDA_VISIBLE_DEVICES: [0]\n"
     ]
    },
    {
     "name": "stdout",
     "output_type": "stream",
     "text": [
      "Starting time series verification for consistency...\n",
      "\n",
      "Performance metrics:\n",
      "                                    MSE        RMSE        MAE          R2  \\\n",
      "Temperature                    2.676787    1.636089   1.327478    0.912231   \n",
      "Precipitation_accumulated    521.936474   22.845929  19.489158 -150.382017   \n",
      "Humidity                      25.728261    5.072303   4.037437    0.824458   \n",
      "Wind_Speed_kmh                 0.566148    0.752428   0.564055    0.580810   \n",
      "Soil_Moisture              13771.317617  117.351257  96.571178    0.761709   \n",
      "Soil_Temperature               3.437836    1.854140   1.597035    0.787243   \n",
      "Wind_Dir_Sin                   0.360076    0.600063   0.493189    0.345253   \n",
      "Wind_Dir_Cos                   0.307366    0.554406   0.456553    0.164024   \n",
      "\n",
      "                                SMAPE  \n",
      "Temperature                 25.374910  \n",
      "Precipitation_accumulated    4.310529  \n",
      "Humidity                     4.688085  \n",
      "Wind_Speed_kmh              58.227343  \n",
      "Soil_Moisture                1.130946  \n",
      "Soil_Temperature            38.383145  \n",
      "Wind_Dir_Sin                98.488439  \n",
      "Wind_Dir_Cos               115.061172  \n",
      "The R2 for this fold was 0.090978451515611\n",
      "Results of trial 61 saved in optuna_iteration_metrics/trial_61.json\n",
      "Current value: 0.090978451515611, Current params: {'input_chunk_length': 26, 'output_chunk_length': 1, 'hidden_size': 190, 'layer_size': 1, 'dropout': 0.42517158188483795, 'batch_size': 179, 'lr': 0.002254464765136813, 'weight_decay': 2.930938267717235e-06, 'loss_fn': 'smoothl1', 'optimizer': 'AdamW'}\n",
      "Best value: 0.08685611509641744, Best params: {'input_chunk_length': 24, 'output_chunk_length': 1, 'hidden_size': 188, 'layer_size': 1, 'dropout': 0.463770421977072, 'batch_size': 172, 'lr': 0.0020101615632169517, 'weight_decay': 4.080126913056516e-06, 'loss_fn': 'smoothl1', 'optimizer': 'AdamW'}\n",
      "\n",
      "Starting Trial 62\n",
      "Hyperparameters: {'input_chunk_length': 31, 'output_chunk_length': 1, 'hidden_size': 173, 'layer_size': 1, 'dropout': 0.4825450755927748, 'batch_size': 158, 'lr': 0.0010764439140185057, 'weight_decay': 2.3240714042884634e-06, 'loss_fn': 'smoothl1', 'optimizer': 'AdamW'}\n",
      "\n",
      "Training the model...\n",
      "Train set: 6647 samples\n",
      "Validation set: 1662 samples\n"
     ]
    },
    {
     "name": "stderr",
     "output_type": "stream",
     "text": [
      "[I 2025-05-25 18:02:16,391] Trial 62 pruned. Trial was pruned at epoch 0.\n",
      "Specified future encoders in `add_encoders` at model creation but model does not accept future covariates. future encoders will be ignored.\n",
      "/home/eduardo/Documentos/Water-Cycle-Neural-Network/venv/lib/python3.12/site-packages/torch/nn/modules/rnn.py:123: UserWarning: dropout option adds dropout after all but last recurrent layer, so non-zero dropout expects num_layers greater than 1, but got dropout=0.3715252088923923 and num_layers=1\n",
      "  warnings.warn(\n",
      "GPU available: True (cuda), used: True\n",
      "TPU available: False, using: 0 TPU cores\n",
      "HPU available: False, using: 0 HPUs\n",
      "LOCAL_RANK: 0 - CUDA_VISIBLE_DEVICES: [0]\n"
     ]
    },
    {
     "name": "stdout",
     "output_type": "stream",
     "text": [
      "Current value: 0.03715658959788762, Current params: {'input_chunk_length': 31, 'output_chunk_length': 1, 'hidden_size': 173, 'layer_size': 1, 'dropout': 0.4825450755927748, 'batch_size': 158, 'lr': 0.0010764439140185057, 'weight_decay': 2.3240714042884634e-06, 'loss_fn': 'smoothl1', 'optimizer': 'AdamW'}\n",
      "Best value: 0.08685611509641744, Best params: {'input_chunk_length': 24, 'output_chunk_length': 1, 'hidden_size': 188, 'layer_size': 1, 'dropout': 0.463770421977072, 'batch_size': 172, 'lr': 0.0020101615632169517, 'weight_decay': 4.080126913056516e-06, 'loss_fn': 'smoothl1', 'optimizer': 'AdamW'}\n",
      "\n",
      "Starting Trial 63\n",
      "Hyperparameters: {'input_chunk_length': 29, 'output_chunk_length': 1, 'hidden_size': 156, 'layer_size': 1, 'dropout': 0.3715252088923923, 'batch_size': 129, 'lr': 0.001928272737862093, 'weight_decay': 3.7116337582162124e-06, 'loss_fn': 'smoothl1', 'optimizer': 'AdamW'}\n",
      "\n",
      "Training the model...\n",
      "Train set: 6647 samples\n",
      "Validation set: 1662 samples\n"
     ]
    },
    {
     "name": "stderr",
     "output_type": "stream",
     "text": [
      "Metric val_loss improved. New best score: 0.031\n",
      "Metric val_loss improved by 0.011 >= min_delta = 0.0005. New best score: 0.020\n",
      "Metric val_loss improved by 0.005 >= min_delta = 0.0005. New best score: 0.015\n",
      "Metric val_loss improved by 0.002 >= min_delta = 0.0005. New best score: 0.013\n",
      "Metric val_loss improved by 0.001 >= min_delta = 0.0005. New best score: 0.012\n",
      "Metric val_loss improved by 0.001 >= min_delta = 0.0005. New best score: 0.012\n",
      "Monitored metric val_loss did not improve in the last 15 records. Best score: 0.012. Signaling Trainer to stop.\n",
      "/home/eduardo/Documentos/Water-Cycle-Neural-Network/venv/lib/python3.12/site-packages/torch/nn/modules/rnn.py:123: UserWarning: dropout option adds dropout after all but last recurrent layer, so non-zero dropout expects num_layers greater than 1, but got dropout=0.3715252088923923 and num_layers=1\n",
      "  warnings.warn(\n",
      "GPU available: True (cuda), used: True\n",
      "TPU available: False, using: 0 TPU cores\n",
      "HPU available: False, using: 0 HPUs\n",
      "LOCAL_RANK: 0 - CUDA_VISIBLE_DEVICES: [0]\n",
      "/home/eduardo/Documentos/Water-Cycle-Neural-Network/venv/lib/python3.12/site-packages/pytorch_lightning/trainer/connectors/data_connector.py:425: The 'predict_dataloader' does not have many workers which may be a bottleneck. Consider increasing the value of the `num_workers` argument` to `num_workers=11` in the `DataLoader` to improve performance.\n"
     ]
    },
    {
     "name": "stdout",
     "output_type": "stream",
     "text": [
      "Model loaded from checkpoint for trial 63\n"
     ]
    },
    {
     "name": "stderr",
     "output_type": "stream",
     "text": [
      "[I 2025-05-25 18:02:47,434] Trial 63 finished with value: 0.09035083653462209 and parameters: {'input_chunk_length': 29, 'output_chunk_length': 1, 'hidden_size': 156, 'layer_size': 1, 'dropout': 0.3715252088923923, 'batch_size': 129, 'lr': 0.001928272737862093, 'weight_decay': 3.7116337582162124e-06, 'loss_fn': 'smoothl1', 'optimizer': 'AdamW'}. Best is trial 51 with value: 0.08685611509641744.\n",
      "Specified future encoders in `add_encoders` at model creation but model does not accept future covariates. future encoders will be ignored.\n",
      "/home/eduardo/Documentos/Water-Cycle-Neural-Network/venv/lib/python3.12/site-packages/torch/nn/modules/rnn.py:123: UserWarning: dropout option adds dropout after all but last recurrent layer, so non-zero dropout expects num_layers greater than 1, but got dropout=0.3332898568501415 and num_layers=1\n",
      "  warnings.warn(\n",
      "GPU available: True (cuda), used: True\n",
      "TPU available: False, using: 0 TPU cores\n",
      "HPU available: False, using: 0 HPUs\n",
      "LOCAL_RANK: 0 - CUDA_VISIBLE_DEVICES: [0]\n"
     ]
    },
    {
     "name": "stdout",
     "output_type": "stream",
     "text": [
      "Starting time series verification for consistency...\n",
      "\n",
      "Performance metrics:\n",
      "                                    MSE        RMSE        MAE          R2  \\\n",
      "Temperature                    2.258734    1.502908   1.195856    0.925815   \n",
      "Precipitation_accumulated    928.484731   30.471047  27.305730 -269.533820   \n",
      "Humidity                      20.249858    4.499984   3.564625    0.861806   \n",
      "Wind_Speed_kmh                 0.549476    0.741267   0.544193    0.592883   \n",
      "Soil_Moisture              11814.213862  108.693210  86.810367    0.793513   \n",
      "Soil_Temperature               2.248519    1.499506   1.256942    0.860508   \n",
      "Wind_Dir_Sin                   0.375459    0.612747   0.493009    0.317982   \n",
      "Wind_Dir_Cos                   0.308662    0.555574   0.454138    0.158207   \n",
      "\n",
      "                                SMAPE  \n",
      "Temperature                 23.184634  \n",
      "Precipitation_accumulated    6.093215  \n",
      "Humidity                     4.212987  \n",
      "Wind_Speed_kmh              59.817383  \n",
      "Soil_Moisture                1.015300  \n",
      "Soil_Temperature            32.082995  \n",
      "Wind_Dir_Sin                98.819899  \n",
      "Wind_Dir_Cos               113.830777  \n",
      "The R2 for this fold was 0.09035083653462209\n",
      "Results of trial 63 saved in optuna_iteration_metrics/trial_63.json\n",
      "Current value: 0.09035083653462209, Current params: {'input_chunk_length': 29, 'output_chunk_length': 1, 'hidden_size': 156, 'layer_size': 1, 'dropout': 0.3715252088923923, 'batch_size': 129, 'lr': 0.001928272737862093, 'weight_decay': 3.7116337582162124e-06, 'loss_fn': 'smoothl1', 'optimizer': 'AdamW'}\n",
      "Best value: 0.08685611509641744, Best params: {'input_chunk_length': 24, 'output_chunk_length': 1, 'hidden_size': 188, 'layer_size': 1, 'dropout': 0.463770421977072, 'batch_size': 172, 'lr': 0.0020101615632169517, 'weight_decay': 4.080126913056516e-06, 'loss_fn': 'smoothl1', 'optimizer': 'AdamW'}\n",
      "\n",
      "Starting Trial 64\n",
      "Hyperparameters: {'input_chunk_length': 29, 'output_chunk_length': 2, 'hidden_size': 159, 'layer_size': 1, 'dropout': 0.3332898568501415, 'batch_size': 132, 'lr': 0.000674426594631927, 'weight_decay': 4.444269765471983e-06, 'loss_fn': 'smoothl1', 'optimizer': 'AdamW'}\n",
      "\n",
      "Training the model...\n",
      "Train set: 6647 samples\n",
      "Validation set: 1662 samples\n"
     ]
    },
    {
     "name": "stderr",
     "output_type": "stream",
     "text": [
      "[I 2025-05-25 18:02:49,079] Trial 64 pruned. Trial was pruned at epoch 0.\n"
     ]
    },
    {
     "name": "stdout",
     "output_type": "stream",
     "text": [
      "Current value: 0.04148549019380375, Current params: {'input_chunk_length': 29, 'output_chunk_length': 2, 'hidden_size': 159, 'layer_size': 1, 'dropout': 0.3332898568501415, 'batch_size': 132, 'lr': 0.000674426594631927, 'weight_decay': 4.444269765471983e-06, 'loss_fn': 'smoothl1', 'optimizer': 'AdamW'}\n",
      "Best value: 0.08685611509641744, Best params: {'input_chunk_length': 24, 'output_chunk_length': 1, 'hidden_size': 188, 'layer_size': 1, 'dropout': 0.463770421977072, 'batch_size': 172, 'lr': 0.0020101615632169517, 'weight_decay': 4.080126913056516e-06, 'loss_fn': 'smoothl1', 'optimizer': 'AdamW'}\n",
      "\n",
      "Starting Trial 65\n",
      "Hyperparameters: {'input_chunk_length': 33, 'output_chunk_length': 3, 'hidden_size': 166, 'layer_size': 1, 'dropout': 0.378088072418423, 'batch_size': 105, 'lr': 0.004160164265768517, 'weight_decay': 6.9018130594743475e-06, 'loss_fn': 'smoothl1', 'optimizer': 'AdamW'}\n",
      "\n",
      "Training the model...\n",
      "Train set: 6647 samples\n",
      "Validation set: 1662 samples\n"
     ]
    },
    {
     "name": "stderr",
     "output_type": "stream",
     "text": [
      "Specified future encoders in `add_encoders` at model creation but model does not accept future covariates. future encoders will be ignored.\n",
      "/home/eduardo/Documentos/Water-Cycle-Neural-Network/venv/lib/python3.12/site-packages/torch/nn/modules/rnn.py:123: UserWarning: dropout option adds dropout after all but last recurrent layer, so non-zero dropout expects num_layers greater than 1, but got dropout=0.378088072418423 and num_layers=1\n",
      "  warnings.warn(\n",
      "GPU available: True (cuda), used: True\n",
      "TPU available: False, using: 0 TPU cores\n",
      "HPU available: False, using: 0 HPUs\n",
      "LOCAL_RANK: 0 - CUDA_VISIBLE_DEVICES: [0]\n",
      "Metric val_loss improved. New best score: 0.024\n",
      "Metric val_loss improved by 0.007 >= min_delta = 0.0005. New best score: 0.017\n",
      "Metric val_loss improved by 0.002 >= min_delta = 0.0005. New best score: 0.015\n",
      "Monitored metric val_loss did not improve in the last 15 records. Best score: 0.015. Signaling Trainer to stop.\n",
      "/home/eduardo/Documentos/Water-Cycle-Neural-Network/venv/lib/python3.12/site-packages/torch/nn/modules/rnn.py:123: UserWarning: dropout option adds dropout after all but last recurrent layer, so non-zero dropout expects num_layers greater than 1, but got dropout=0.378088072418423 and num_layers=1\n",
      "  warnings.warn(\n",
      "GPU available: True (cuda), used: True\n",
      "TPU available: False, using: 0 TPU cores\n",
      "HPU available: False, using: 0 HPUs\n",
      "LOCAL_RANK: 0 - CUDA_VISIBLE_DEVICES: [0]\n",
      "/home/eduardo/Documentos/Water-Cycle-Neural-Network/venv/lib/python3.12/site-packages/pytorch_lightning/trainer/connectors/data_connector.py:425: The 'predict_dataloader' does not have many workers which may be a bottleneck. Consider increasing the value of the `num_workers` argument` to `num_workers=11` in the `DataLoader` to improve performance.\n"
     ]
    },
    {
     "name": "stdout",
     "output_type": "stream",
     "text": [
      "Model loaded from checkpoint for trial 65\n"
     ]
    },
    {
     "name": "stderr",
     "output_type": "stream",
     "text": [
      "[I 2025-05-25 18:05:04,990] Trial 65 finished with value: 0.1178535504138478 and parameters: {'input_chunk_length': 33, 'output_chunk_length': 3, 'hidden_size': 166, 'layer_size': 1, 'dropout': 0.378088072418423, 'batch_size': 105, 'lr': 0.004160164265768517, 'weight_decay': 6.9018130594743475e-06, 'loss_fn': 'smoothl1', 'optimizer': 'AdamW'}. Best is trial 51 with value: 0.08685611509641744.\n",
      "Specified future encoders in `add_encoders` at model creation but model does not accept future covariates. future encoders will be ignored.\n",
      "/home/eduardo/Documentos/Water-Cycle-Neural-Network/venv/lib/python3.12/site-packages/torch/nn/modules/rnn.py:123: UserWarning: dropout option adds dropout after all but last recurrent layer, so non-zero dropout expects num_layers greater than 1, but got dropout=0.4655206637484078 and num_layers=1\n",
      "  warnings.warn(\n",
      "GPU available: True (cuda), used: True\n",
      "TPU available: False, using: 0 TPU cores\n",
      "HPU available: False, using: 0 HPUs\n",
      "LOCAL_RANK: 0 - CUDA_VISIBLE_DEVICES: [0]\n"
     ]
    },
    {
     "name": "stdout",
     "output_type": "stream",
     "text": [
      "Starting time series verification for consistency...\n",
      "\n",
      "Performance metrics:\n",
      "                                    MSE        RMSE         MAE          R2  \\\n",
      "Temperature                    6.191187    2.488210    1.951856    0.797190   \n",
      "Precipitation_accumulated   1287.832026   35.886377   31.580380 -377.729766   \n",
      "Humidity                      59.618462    7.721299    6.291513    0.593674   \n",
      "Wind_Speed_kmh                 1.049934    1.024663    0.787907    0.220674   \n",
      "Soil_Moisture              34927.757813  186.889694  151.282955    0.374009   \n",
      "Soil_Temperature               8.018445    2.831686    2.355920    0.502304   \n",
      "Wind_Dir_Sin                   0.531470    0.729020    0.626609    0.034816   \n",
      "Wind_Dir_Cos                   0.348257    0.590133    0.500616    0.050456   \n",
      "\n",
      "                                SMAPE  \n",
      "Temperature                 31.827091  \n",
      "Precipitation_accumulated    7.102010  \n",
      "Humidity                     7.475963  \n",
      "Wind_Speed_kmh              70.069168  \n",
      "Soil_Moisture                1.775689  \n",
      "Soil_Temperature            52.055767  \n",
      "Wind_Dir_Sin               130.890300  \n",
      "Wind_Dir_Cos               127.341519  \n",
      "The R2 for this fold was 0.1178535504138478\n",
      "Results of trial 65 saved in optuna_iteration_metrics/trial_65.json\n",
      "Current value: 0.1178535504138478, Current params: {'input_chunk_length': 33, 'output_chunk_length': 3, 'hidden_size': 166, 'layer_size': 1, 'dropout': 0.378088072418423, 'batch_size': 105, 'lr': 0.004160164265768517, 'weight_decay': 6.9018130594743475e-06, 'loss_fn': 'smoothl1', 'optimizer': 'AdamW'}\n",
      "Best value: 0.08685611509641744, Best params: {'input_chunk_length': 24, 'output_chunk_length': 1, 'hidden_size': 188, 'layer_size': 1, 'dropout': 0.463770421977072, 'batch_size': 172, 'lr': 0.0020101615632169517, 'weight_decay': 4.080126913056516e-06, 'loss_fn': 'smoothl1', 'optimizer': 'AdamW'}\n",
      "\n",
      "Starting Trial 66\n",
      "Hyperparameters: {'input_chunk_length': 36, 'output_chunk_length': 1, 'hidden_size': 140, 'layer_size': 1, 'dropout': 0.4655206637484078, 'batch_size': 129, 'lr': 8.863219054860327e-06, 'weight_decay': 3.876266300001166e-06, 'loss_fn': 'smoothl1', 'optimizer': 'AdamW'}\n",
      "\n",
      "Training the model...\n",
      "Train set: 6647 samples\n",
      "Validation set: 1662 samples\n"
     ]
    },
    {
     "name": "stderr",
     "output_type": "stream",
     "text": [
      "[I 2025-05-25 18:05:06,694] Trial 66 pruned. Trial was pruned at epoch 0.\n"
     ]
    },
    {
     "name": "stdout",
     "output_type": "stream",
     "text": [
      "Current value: 0.21065869479674904, Current params: {'input_chunk_length': 36, 'output_chunk_length': 1, 'hidden_size': 140, 'layer_size': 1, 'dropout': 0.4655206637484078, 'batch_size': 129, 'lr': 8.863219054860327e-06, 'weight_decay': 3.876266300001166e-06, 'loss_fn': 'smoothl1', 'optimizer': 'AdamW'}\n",
      "Best value: 0.08685611509641744, Best params: {'input_chunk_length': 24, 'output_chunk_length': 1, 'hidden_size': 188, 'layer_size': 1, 'dropout': 0.463770421977072, 'batch_size': 172, 'lr': 0.0020101615632169517, 'weight_decay': 4.080126913056516e-06, 'loss_fn': 'smoothl1', 'optimizer': 'AdamW'}\n",
      "\n",
      "Starting Trial 67\n",
      "Hyperparameters: {'input_chunk_length': 31, 'output_chunk_length': 3, 'hidden_size': 198, 'layer_size': 1, 'dropout': 0.4483492338835919, 'batch_size': 102, 'lr': 0.0019973581728889075, 'weight_decay': 1.755040890111716e-06, 'loss_fn': 'mae', 'optimizer': 'AdamW'}\n",
      "\n",
      "Training the model...\n",
      "Train set: 6647 samples\n",
      "Validation set: 1662 samples\n"
     ]
    },
    {
     "name": "stderr",
     "output_type": "stream",
     "text": [
      "Specified future encoders in `add_encoders` at model creation but model does not accept future covariates. future encoders will be ignored.\n",
      "/home/eduardo/Documentos/Water-Cycle-Neural-Network/venv/lib/python3.12/site-packages/torch/nn/modules/rnn.py:123: UserWarning: dropout option adds dropout after all but last recurrent layer, so non-zero dropout expects num_layers greater than 1, but got dropout=0.4483492338835919 and num_layers=1\n",
      "  warnings.warn(\n",
      "GPU available: True (cuda), used: True\n",
      "TPU available: False, using: 0 TPU cores\n",
      "HPU available: False, using: 0 HPUs\n",
      "LOCAL_RANK: 0 - CUDA_VISIBLE_DEVICES: [0]\n",
      "[I 2025-05-25 18:06:03,678] Trial 67 pruned. Trial was pruned at epoch 0.\n",
      "Specified future encoders in `add_encoders` at model creation but model does not accept future covariates. future encoders will be ignored.\n",
      "/home/eduardo/Documentos/Water-Cycle-Neural-Network/venv/lib/python3.12/site-packages/torch/nn/modules/rnn.py:123: UserWarning: dropout option adds dropout after all but last recurrent layer, so non-zero dropout expects num_layers greater than 1, but got dropout=0.414198293694559 and num_layers=1\n",
      "  warnings.warn(\n",
      "GPU available: True (cuda), used: True\n",
      "TPU available: False, using: 0 TPU cores\n",
      "HPU available: False, using: 0 HPUs\n",
      "LOCAL_RANK: 0 - CUDA_VISIBLE_DEVICES: [0]\n"
     ]
    },
    {
     "name": "stdout",
     "output_type": "stream",
     "text": [
      "Current value: 0.19342538999316514, Current params: {'input_chunk_length': 31, 'output_chunk_length': 3, 'hidden_size': 198, 'layer_size': 1, 'dropout': 0.4483492338835919, 'batch_size': 102, 'lr': 0.0019973581728889075, 'weight_decay': 1.755040890111716e-06, 'loss_fn': 'mae', 'optimizer': 'AdamW'}\n",
      "Best value: 0.08685611509641744, Best params: {'input_chunk_length': 24, 'output_chunk_length': 1, 'hidden_size': 188, 'layer_size': 1, 'dropout': 0.463770421977072, 'batch_size': 172, 'lr': 0.0020101615632169517, 'weight_decay': 4.080126913056516e-06, 'loss_fn': 'smoothl1', 'optimizer': 'AdamW'}\n",
      "\n",
      "Starting Trial 68\n",
      "Hyperparameters: {'input_chunk_length': 29, 'output_chunk_length': 6, 'hidden_size': 154, 'layer_size': 1, 'dropout': 0.414198293694559, 'batch_size': 249, 'lr': 0.0029019551263738566, 'weight_decay': 1.1758008993640984e-06, 'loss_fn': 'smoothl1', 'optimizer': 'AdamW'}\n",
      "\n",
      "Training the model...\n",
      "Train set: 6647 samples\n",
      "Validation set: 1662 samples\n"
     ]
    },
    {
     "name": "stderr",
     "output_type": "stream",
     "text": [
      "[I 2025-05-25 18:06:05,262] Trial 68 pruned. Trial was pruned at epoch 0.\n",
      "Specified future encoders in `add_encoders` at model creation but model does not accept future covariates. future encoders will be ignored.\n",
      "/home/eduardo/Documentos/Water-Cycle-Neural-Network/venv/lib/python3.12/site-packages/torch/nn/modules/rnn.py:123: UserWarning: dropout option adds dropout after all but last recurrent layer, so non-zero dropout expects num_layers greater than 1, but got dropout=0.3497854497588795 and num_layers=1\n",
      "  warnings.warn(\n",
      "GPU available: True (cuda), used: True\n",
      "TPU available: False, using: 0 TPU cores\n",
      "HPU available: False, using: 0 HPUs\n",
      "LOCAL_RANK: 0 - CUDA_VISIBLE_DEVICES: [0]\n"
     ]
    },
    {
     "name": "stdout",
     "output_type": "stream",
     "text": [
      "Current value: 0.04347294711306951, Current params: {'input_chunk_length': 29, 'output_chunk_length': 6, 'hidden_size': 154, 'layer_size': 1, 'dropout': 0.414198293694559, 'batch_size': 249, 'lr': 0.0029019551263738566, 'weight_decay': 1.1758008993640984e-06, 'loss_fn': 'smoothl1', 'optimizer': 'AdamW'}\n",
      "Best value: 0.08685611509641744, Best params: {'input_chunk_length': 24, 'output_chunk_length': 1, 'hidden_size': 188, 'layer_size': 1, 'dropout': 0.463770421977072, 'batch_size': 172, 'lr': 0.0020101615632169517, 'weight_decay': 4.080126913056516e-06, 'loss_fn': 'smoothl1', 'optimizer': 'AdamW'}\n",
      "\n",
      "Starting Trial 69\n",
      "Hyperparameters: {'input_chunk_length': 25, 'output_chunk_length': 4, 'hidden_size': 177, 'layer_size': 1, 'dropout': 0.3497854497588795, 'batch_size': 169, 'lr': 0.001516449464241942, 'weight_decay': 1.3012251689743383e-05, 'loss_fn': 'mse', 'optimizer': 'SGD'}\n",
      "\n",
      "Training the model...\n",
      "Train set: 6647 samples\n",
      "Validation set: 1662 samples\n"
     ]
    },
    {
     "name": "stderr",
     "output_type": "stream",
     "text": [
      "[I 2025-05-25 18:06:06,966] Trial 69 pruned. Trial was pruned at epoch 0.\n"
     ]
    },
    {
     "name": "stdout",
     "output_type": "stream",
     "text": [
      "Current value: 0.3409546580825588, Current params: {'input_chunk_length': 25, 'output_chunk_length': 4, 'hidden_size': 177, 'layer_size': 1, 'dropout': 0.3497854497588795, 'batch_size': 169, 'lr': 0.001516449464241942, 'weight_decay': 1.3012251689743383e-05, 'loss_fn': 'mse', 'optimizer': 'SGD'}\n",
      "Best value: 0.08685611509641744, Best params: {'input_chunk_length': 24, 'output_chunk_length': 1, 'hidden_size': 188, 'layer_size': 1, 'dropout': 0.463770421977072, 'batch_size': 172, 'lr': 0.0020101615632169517, 'weight_decay': 4.080126913056516e-06, 'loss_fn': 'smoothl1', 'optimizer': 'AdamW'}\n"
     ]
    }
   ],
   "execution_count": 7
  },
  {
   "metadata": {
    "ExecuteTime": {
     "end_time": "2025-05-25T21:06:07.073963Z",
     "start_time": "2025-05-25T21:06:07.070741Z"
    }
   },
   "cell_type": "code",
   "source": [
    "print(f\"Best Value (Minimum): {study.best_value}\")\n",
    "print(f\"Best Parameters: {study.best_params}\")"
   ],
   "id": "bc5901841e773078",
   "outputs": [
    {
     "name": "stdout",
     "output_type": "stream",
     "text": [
      "Best Value (Minimum): 0.08685611509641744\n",
      "Best Parameters: {'input_chunk_length': 24, 'output_chunk_length': 1, 'hidden_size': 188, 'layer_size': 1, 'dropout': 0.463770421977072, 'batch_size': 172, 'lr': 0.0020101615632169517, 'weight_decay': 4.080126913056516e-06, 'loss_fn': 'smoothl1', 'optimizer': 'AdamW'}\n"
     ]
    }
   ],
   "execution_count": 8
  },
  {
   "metadata": {
    "ExecuteTime": {
     "end_time": "2025-05-25T21:06:07.145702Z",
     "start_time": "2025-05-25T21:06:07.142950Z"
    }
   },
   "cell_type": "code",
   "source": [
    "best_dict = {\n",
    "    \"best_value\": study.best_value,\n",
    "    \"best_params\": study.best_params,\n",
    "}\n",
    "json_path = os.path.join(results_output_dir, \"best_trial.json\")\n",
    "with open(json_path, 'w') as f:\n",
    "    json.dump(best_dict, f, indent=4)\n",
    "print(f\"Best results saved in {json_path}\")\n"
   ],
   "id": "2116824c79bf39cb",
   "outputs": [
    {
     "name": "stdout",
     "output_type": "stream",
     "text": [
      "Best results saved in optuna_iteration_metrics/best_trial.json\n"
     ]
    }
   ],
   "execution_count": 9
  }
 ],
 "metadata": {
  "jupytext": {
   "cell_metadata_filter": "-all",
   "main_language": "python",
   "notebook_metadata_filter": "-all"
  },
  "kernelspec": {
   "display_name": "Python (TORCH)",
   "language": "python",
   "name": "torch"
  },
  "language_info": {
   "codemirror_mode": {
    "name": "ipython",
    "version": 3
   },
   "file_extension": ".py",
   "mimetype": "text/x-python",
   "name": "python",
   "nbconvert_exporter": "python",
   "pygments_lexer": "ipython3",
   "version": "3.12.3"
  }
 },
 "nbformat": 4,
 "nbformat_minor": 5
}
