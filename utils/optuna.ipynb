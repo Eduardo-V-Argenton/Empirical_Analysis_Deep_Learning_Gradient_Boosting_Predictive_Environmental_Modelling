{
 "cells": [
  {
   "cell_type": "code",
   "execution_count": 4,
   "id": "9d09c575",
   "metadata": {},
   "outputs": [],
   "source": [
    "import matplotlib.pyplot as plt\n",
    "import numpy as np\n",
    "import pandas as pd\n",
    "from darts import TimeSeries\n",
    "from darts.models import NHiTSModel\n",
    "from darts.metrics import mse, rmse, r2_score, mae, smape\n",
    "from darts.dataprocessing.transformers import Scaler\n",
    "import torch\n",
    "from pytorch_lightning.callbacks import Callback, EarlyStopping\n",
    "from optuna.integration import PyTorchLightningPruningCallback\n",
    "from pytorch_lightning.callbacks import Callback, EarlyStopping\n",
    "import optuna\n",
    "import os\n",
    "import json\n",
    "\n",
    "# Configurações de visualização\n",
    "plt.style.use('ggplot')\n",
    "plt.rcParams['figure.figsize'] = (12, 6)\n",
    "torch.set_float32_matmul_precision('medium')"
   ]
  },
  {
   "cell_type": "code",
   "execution_count": 5,
   "id": "7ebe2896",
   "metadata": {},
   "outputs": [],
   "source": [
    "target_columns = [\n",
    "    'Temperature','Precipitation_accumulated','Humidity', 'Wind_Speed_kmh',\n",
    "    'Soil_Moisture', 'Soil_Temperature', 'Wind_Dir_Sin', 'Wind_Dir_Cos'\n",
    "]\n",
    "\n",
    "df = pd.read_csv(\"../data/ground_station_clean.csv\")"
   ]
  },
  {
   "cell_type": "code",
   "execution_count": 6,
   "id": "5a26b25f",
   "metadata": {
    "lines_to_next_cell": 0
   },
   "outputs": [],
   "source": [
    "encoders = {\n",
    "    \"cyclic\":{\n",
    "        \"past\":[\"month\",\"dayofyear\",\"day\",\"hour\",\"minute\"],\n",
    "    },\n",
    "    \"transformer\": Scaler()\n",
    "}"
   ]
  },
  {
   "cell_type": "code",
   "execution_count": 7,
   "id": "34b598af",
   "metadata": {},
   "outputs": [],
   "source": [
    "class PatchedPruningCallback(PyTorchLightningPruningCallback, Callback):\n",
    "    pass\n",
    "\n",
    "# Criar diretório para salvar os resultados das iterações\n",
    "results_output_dir = \"optuna_iteration_metrics\"\n",
    "os.makedirs(results_output_dir, exist_ok=True)"
   ]
  },
  {
   "cell_type": "code",
   "execution_count": 8,
   "id": "8018b905",
   "metadata": {},
   "outputs": [],
   "source": [
    "def objective(trial):\n",
    "\n",
    "    output_chunk_length = trial.suggest_int(\"output_chunk_length\", 12, 72)\n",
    "    input_chunk_length = trial.suggest_int(\"input_chunk_length\", output_chunk_length + 1, output_chunk_length + 24 if output_chunk_length + 24 > output_chunk_length + 1 else output_chunk_length + 2) # Garante que o limite superior seja maior que o inferior\n",
    "    num_layers    = trial.suggest_int(\"num_layers\", 1, 6)\n",
    "    num_blocks    = trial.suggest_int(\"num_blocks\", 1, 4)\n",
    "    num_stacks    = trial.suggest_int(\"num_stacks\", 1, 5)\n",
    "    layer_widths    = trial.suggest_int(\"layer_widths\", 32, 256)\n",
    "    activation = trial.suggest_categorical(\"activation\", [\"ReLU\", \"GELU\"])\n",
    "    dropout = trial.suggest_float('dropout', 0.0, 0.3)\n",
    "    batch_size = trial.suggest_int(\"batch_size\", 16, 64)\n",
    "    lr = trial.suggest_float(\"lr\", 1e-5, 1e-2, log=True)\n",
    "    forecast_horizon = trial.suggest_int(\"forecast_horizon\", 1, 24)\n",
    "\n",
    "    early_stopper = EarlyStopping(\"val_loss\", min_delta=0.001, patience=10, verbose=True)\n",
    "    pl_trainer_kwargs = {\n",
    "            \"accelerator\": \"auto\",\n",
    "            \"callbacks\": [early_stopper],\n",
    "    }\n",
    "    n = int(len(df)*0.8)\n",
    "    train_df_fold, val_df_fold = df.iloc[:n], df.iloc[n:]\n",
    "    train_fold = TimeSeries.from_dataframe(train_df_fold, time_col=\"Timestamp\", value_cols=target_columns, freq='1h')\n",
    "    val_fold = TimeSeries.from_dataframe(val_df_fold, time_col=\"Timestamp\", value_cols=target_columns, freq='1h')\n",
    "\n",
    "    print(f\"\\nIniciando Trial {trial.number}\")\n",
    "    print(f\"Hiperparâmetros: {trial.params}\")\n",
    "    print(\"\\nTreinando o modelo...\")\n",
    "    print(f\"Train set: {len(train_fold)} samples\") # Usar len() para TimeSeries\n",
    "    print(f\"Validation set: {len(val_fold)} samples\") # Usar len() para TimeSeries\n",
    "    \n",
    "    scaler = Scaler()\n",
    "    scaler = scaler.fit(train_fold)\n",
    "    train_scaled = scaler.transform(train_fold)\n",
    "    val_scaled = scaler.transform(val_fold)\n",
    "\n",
    "    # Definir work_dir e model_name para consistência\n",
    "    # force_reset=True irá limpar work_dir/model_name antes de cada treinamento da iteração.\n",
    "    _work_dir = \"/home/eduardo/Documentos/Water-Cycle-Neural-Network/darts_logs/\" # Certifique-se que este caminho existe e é gravável\n",
    "    _model_name = \"model_optuna_temp\" # Nome do modelo temporário para cada iteração\n",
    "\n",
    "    # Criar o diretório _work_dir se não existir\n",
    "    os.makedirs(_work_dir, exist_ok=True)\n",
    "\n",
    "    model = NHiTSModel(\n",
    "        model_name=_model_name,\n",
    "        work_dir=_work_dir,\n",
    "        input_chunk_length=input_chunk_length,\n",
    "        output_chunk_length=output_chunk_length,\n",
    "        n_epochs=30, # Considere tornar n_epochs um hiperparâmetro ou usar um valor maior com EarlyStopping\n",
    "        batch_size=batch_size,\n",
    "        num_layers=num_layers,\n",
    "        num_blocks=num_blocks,\n",
    "        num_stacks=num_stacks,\n",
    "        layer_widths=layer_widths,\n",
    "        activation=activation,\n",
    "        dropout=dropout,\n",
    "        add_encoders=encoders,\n",
    "        pl_trainer_kwargs=pl_trainer_kwargs,\n",
    "        loss_fn=torch.nn.HuberLoss(),\n",
    "        lr_scheduler_cls=torch.optim.lr_scheduler.ReduceLROnPlateau,\n",
    "        lr_scheduler_kwargs={\"mode\":\"min\", \"factor\":0.5, \"patience\":4, \"min_lr\":1e-6},\n",
    "        save_checkpoints=True,    \n",
    "        show_warnings=True,\n",
    "        force_reset=True, # Importante para que cada iteração treine do zero com este model_name\n",
    "        optimizer_kwargs={\"lr\": lr, \"weight_decay\": 1e-5},\n",
    "    )\n",
    "    model.fit(\n",
    "        series=train_scaled,\n",
    "        val_series=val_scaled,\n",
    "        verbose=True # Pode ser False para menos output durante a otimização do Optuna\n",
    "    )\n",
    "    \n",
    "    try:\n",
    "        loaded_model = NHiTSModel.load_from_checkpoint(model_name=_model_name, work_dir=_work_dir, best=True)\n",
    "        print(f\"Modelo carregado do checkpoint para trial {trial.number}\")\n",
    "    except FileNotFoundError:\n",
    "        print(f\"Checkpoint não encontrado para {_model_name} em {_work_dir}. Usando o modelo treinado em memória.\")\n",
    "        loaded_model = model # Usar o modelo treinado se o carregamento falhar (fallback)\n",
    "\n",
    "\n",
    "    forecasts = loaded_model.historical_forecasts(\n",
    "        train_scaled,# Como no script original\n",
    "        start=0.8, # Início da previsão no conjunto de treinamento\n",
    "        forecast_horizon=forecast_horizon,\n",
    "        stride=1, # Gera uma previsão em cada ponto de tempo possível\n",
    "        retrain=False,\n",
    "        verbose=True # Pode ser False\n",
    "    ) \n",
    "\n",
    "    forecasts_t = scaler.inverse_transform(forecasts)\n",
    "    s = scaler.inverse_transform(train_scaled).split_after(0.8)[1]\n",
    "    metrics = {}\n",
    "    print(\"Iniciando a verificação das séries temporais para constância...\")\n",
    "    try:\n",
    "        for target in target_columns:\n",
    "            metrics[target] = {\n",
    "                'MSE': mse(s[target], forecasts_t[target]),\n",
    "                'RMSE': rmse(s[target], forecasts_t[target]),\n",
    "                'MAE': mae(s[target], forecasts_t[target]),\n",
    "                'R2': r2_score(s[target], forecasts_t[target]),\n",
    "                'SMAPE': smape(s[target], forecasts_t[target]),\n",
    "            }\n",
    "        metrics_df = pd.DataFrame(metrics).T\n",
    "        print(\"\\nMétricas de performance:\")\n",
    "        print(metrics_df)\n",
    "    except Exception as e:\n",
    "        print(e)\n",
    "\n",
    "    overall_smape_val = smape(s, forecasts_t)\n",
    "    print(f\"O SMAPE desse fold foi {overall_smape_val}\")\n",
    "\n",
    "    trial_dict = {\n",
    "        \"trial_number\": trial.number,\n",
    "        \"input_chunk_length\": input_chunk_length,\n",
    "        \"output_chunk_length\": output_chunk_length,\n",
    "        \"num_layers\": num_layers,\n",
    "        \"num_blocks\": num_blocks,\n",
    "        \"num_stacks\": num_stacks,\n",
    "        \"layer_widths\": layer_widths,\n",
    "        \"activation\": activation,\n",
    "        \"dropout\": dropout,\n",
    "        \"batch_size\": batch_size,\n",
    "        \"lr\": lr,\n",
    "        \"forecast_horizon\": forecast_horizon,\n",
    "        \"overall_smape_val\": overall_smape_val,\n",
    "        \"metrics\": metrics_df.to_dict(),\n",
    "    }\n",
    "    json_path = os.path.join(results_output_dir, f\"trial_{trial.number}.json\")\n",
    "    with open(json_path, 'w') as f:\n",
    "        json.dump(trial_dict, f, indent=4)\n",
    "    print(f\"Resultados do trial {trial.number} salvos em {json_path}\")\n",
    "    return overall_smape_val if not np.isnan(overall_smape_val) else float(\"inf\")\n",
    "\n"
   ]
  },
  {
   "cell_type": "code",
   "execution_count": 9,
   "id": "71ed8384",
   "metadata": {},
   "outputs": [],
   "source": [
    "def print_callback(study, trial):\n",
    "    print(f\"Current value: {trial.value}, Current params: {trial.params}\")\n",
    "    print(f\"Best value: {study.best_value}, Best params: {study.best_trial.params}\")"
   ]
  },
  {
   "cell_type": "code",
   "execution_count": 10,
   "id": "cb8bf9ce",
   "metadata": {},
   "outputs": [
    {
     "name": "stderr",
     "output_type": "stream",
     "text": [
      "[I 2025-05-14 12:31:58,952] A new study created in memory with name: no-name-90094d3c-02da-4491-96f7-208f0de60621\n"
     ]
    },
    {
     "name": "stdout",
     "output_type": "stream",
     "text": [
      "\n",
      "Iniciando Trial 0\n",
      "Hiperparâmetros: {'output_chunk_length': 51, 'input_chunk_length': 67, 'num_layers': 4, 'num_blocks': 4, 'num_stacks': 1, 'layer_widths': 178, 'activation': 'GELU', 'dropout': 0.10789878616487389, 'batch_size': 46, 'lr': 0.00047381332174476837, 'forecast_horizon': 4}\n",
      "\n",
      "Treinando o modelo...\n",
      "Train set: 6647 samples\n",
      "Validation set: 1662 samples\n"
     ]
    },
    {
     "name": "stderr",
     "output_type": "stream",
     "text": [
      "GPU available: True (cuda), used: True\n",
      "TPU available: False, using: 0 TPU cores\n",
      "HPU available: False, using: 0 HPUs\n",
      "LOCAL_RANK: 0 - CUDA_VISIBLE_DEVICES: [0]\n",
      "\n",
      "  | Name            | Type             | Params | Mode \n",
      "-------------------------------------------------------------\n",
      "0 | criterion       | HuberLoss        | 0      | train\n",
      "1 | train_criterion | HuberLoss        | 0      | train\n",
      "2 | val_criterion   | HuberLoss        | 0      | train\n",
      "3 | train_metrics   | MetricCollection | 0      | train\n",
      "4 | val_metrics     | MetricCollection | 0      | train\n",
      "5 | stacks          | ModuleList       | 469 K  | train\n",
      "-------------------------------------------------------------\n",
      "460 K     Trainable params\n",
      "8.6 K     Non-trainable params\n",
      "469 K     Total params\n",
      "1.878     Total estimated model params size (MB)\n",
      "64        Modules in train mode\n",
      "0         Modules in eval mode\n"
     ]
    },
    {
     "data": {
      "application/vnd.jupyter.widget-view+json": {
       "model_id": "ae6af3dbda2c4b35ac6a9e4481c11b1c",
       "version_major": 2,
       "version_minor": 0
      },
      "text/plain": [
       "Sanity Checking: |          | 0/? [00:00<?, ?it/s]"
      ]
     },
     "metadata": {},
     "output_type": "display_data"
    },
    {
     "name": "stderr",
     "output_type": "stream",
     "text": [
      "/home/eduardo/Documentos/Water-Cycle-Neural-Network/venv/lib/python3.12/site-packages/pytorch_lightning/trainer/connectors/data_connector.py:425: The 'val_dataloader' does not have many workers which may be a bottleneck. Consider increasing the value of the `num_workers` argument` to `num_workers=11` in the `DataLoader` to improve performance.\n",
      "/home/eduardo/Documentos/Water-Cycle-Neural-Network/venv/lib/python3.12/site-packages/pytorch_lightning/trainer/connectors/data_connector.py:425: The 'train_dataloader' does not have many workers which may be a bottleneck. Consider increasing the value of the `num_workers` argument` to `num_workers=11` in the `DataLoader` to improve performance.\n"
     ]
    },
    {
     "data": {
      "application/vnd.jupyter.widget-view+json": {
       "model_id": "91524fa7f6864cf789a749b476f4cc0a",
       "version_major": 2,
       "version_minor": 0
      },
      "text/plain": [
       "Training: |          | 0/? [00:00<?, ?it/s]"
      ]
     },
     "metadata": {},
     "output_type": "display_data"
    },
    {
     "data": {
      "application/vnd.jupyter.widget-view+json": {
       "model_id": "349a10a5f6bc43b39570db10005efac5",
       "version_major": 2,
       "version_minor": 0
      },
      "text/plain": [
       "Validation: |          | 0/? [00:00<?, ?it/s]"
      ]
     },
     "metadata": {},
     "output_type": "display_data"
    },
    {
     "name": "stderr",
     "output_type": "stream",
     "text": [
      "Metric val_loss improved. New best score: 0.065\n"
     ]
    },
    {
     "data": {
      "application/vnd.jupyter.widget-view+json": {
       "model_id": "68c6aa80c62d4425988a90a01f318e0e",
       "version_major": 2,
       "version_minor": 0
      },
      "text/plain": [
       "Validation: |          | 0/? [00:00<?, ?it/s]"
      ]
     },
     "metadata": {},
     "output_type": "display_data"
    },
    {
     "name": "stderr",
     "output_type": "stream",
     "text": [
      "Metric val_loss improved by 0.001 >= min_delta = 0.001. New best score: 0.064\n"
     ]
    },
    {
     "data": {
      "application/vnd.jupyter.widget-view+json": {
       "model_id": "9fde9fd4a8b84dedafcd6cdd6dac75b1",
       "version_major": 2,
       "version_minor": 0
      },
      "text/plain": [
       "Validation: |          | 0/? [00:00<?, ?it/s]"
      ]
     },
     "metadata": {},
     "output_type": "display_data"
    },
    {
     "data": {
      "application/vnd.jupyter.widget-view+json": {
       "model_id": "304e8a26ded142f9b7f201cfe622e360",
       "version_major": 2,
       "version_minor": 0
      },
      "text/plain": [
       "Validation: |          | 0/? [00:00<?, ?it/s]"
      ]
     },
     "metadata": {},
     "output_type": "display_data"
    },
    {
     "data": {
      "application/vnd.jupyter.widget-view+json": {
       "model_id": "79d8a36cbd7e4cf384ec5e99ea367e65",
       "version_major": 2,
       "version_minor": 0
      },
      "text/plain": [
       "Validation: |          | 0/? [00:00<?, ?it/s]"
      ]
     },
     "metadata": {},
     "output_type": "display_data"
    },
    {
     "data": {
      "application/vnd.jupyter.widget-view+json": {
       "model_id": "54da4fa3430c40189ace83551f3f996a",
       "version_major": 2,
       "version_minor": 0
      },
      "text/plain": [
       "Validation: |          | 0/? [00:00<?, ?it/s]"
      ]
     },
     "metadata": {},
     "output_type": "display_data"
    },
    {
     "data": {
      "application/vnd.jupyter.widget-view+json": {
       "model_id": "93ec8fcc3d88482fab202d835052aa10",
       "version_major": 2,
       "version_minor": 0
      },
      "text/plain": [
       "Validation: |          | 0/? [00:00<?, ?it/s]"
      ]
     },
     "metadata": {},
     "output_type": "display_data"
    },
    {
     "data": {
      "application/vnd.jupyter.widget-view+json": {
       "model_id": "75d8abae107b483293a14fb1cb826d93",
       "version_major": 2,
       "version_minor": 0
      },
      "text/plain": [
       "Validation: |          | 0/? [00:00<?, ?it/s]"
      ]
     },
     "metadata": {},
     "output_type": "display_data"
    },
    {
     "data": {
      "application/vnd.jupyter.widget-view+json": {
       "model_id": "6e6e4d9c510945bdbfb202ba3a5f1c40",
       "version_major": 2,
       "version_minor": 0
      },
      "text/plain": [
       "Validation: |          | 0/? [00:00<?, ?it/s]"
      ]
     },
     "metadata": {},
     "output_type": "display_data"
    },
    {
     "data": {
      "application/vnd.jupyter.widget-view+json": {
       "model_id": "d2c148646df140a6ab025effff953ac7",
       "version_major": 2,
       "version_minor": 0
      },
      "text/plain": [
       "Validation: |          | 0/? [00:00<?, ?it/s]"
      ]
     },
     "metadata": {},
     "output_type": "display_data"
    },
    {
     "data": {
      "application/vnd.jupyter.widget-view+json": {
       "model_id": "927ea998b14540beb4ab51d15602330c",
       "version_major": 2,
       "version_minor": 0
      },
      "text/plain": [
       "Validation: |          | 0/? [00:00<?, ?it/s]"
      ]
     },
     "metadata": {},
     "output_type": "display_data"
    },
    {
     "data": {
      "application/vnd.jupyter.widget-view+json": {
       "model_id": "6412912667de4053b9fdaf39e9f98268",
       "version_major": 2,
       "version_minor": 0
      },
      "text/plain": [
       "Validation: |          | 0/? [00:00<?, ?it/s]"
      ]
     },
     "metadata": {},
     "output_type": "display_data"
    },
    {
     "name": "stderr",
     "output_type": "stream",
     "text": [
      "Monitored metric val_loss did not improve in the last 10 records. Best score: 0.064. Signaling Trainer to stop.\n",
      "GPU available: True (cuda), used: True\n",
      "TPU available: False, using: 0 TPU cores\n",
      "HPU available: False, using: 0 HPUs\n",
      "LOCAL_RANK: 0 - CUDA_VISIBLE_DEVICES: [0]\n"
     ]
    },
    {
     "name": "stdout",
     "output_type": "stream",
     "text": [
      "Modelo carregado do checkpoint para trial 0\n"
     ]
    },
    {
     "name": "stderr",
     "output_type": "stream",
     "text": [
      "/home/eduardo/Documentos/Water-Cycle-Neural-Network/venv/lib/python3.12/site-packages/pytorch_lightning/trainer/connectors/data_connector.py:425: The 'predict_dataloader' does not have many workers which may be a bottleneck. Consider increasing the value of the `num_workers` argument` to `num_workers=11` in the `DataLoader` to improve performance.\n"
     ]
    },
    {
     "data": {
      "application/vnd.jupyter.widget-view+json": {
       "model_id": "2df66baab4894061a7b65a58a8266490",
       "version_major": 2,
       "version_minor": 0
      },
      "text/plain": [
       "Predicting: |          | 0/? [00:00<?, ?it/s]"
      ]
     },
     "metadata": {},
     "output_type": "display_data"
    },
    {
     "name": "stderr",
     "output_type": "stream",
     "text": [
      "[I 2025-05-14 12:32:20,487] Trial 0 finished with value: 113.57725945588305 and parameters: {'output_chunk_length': 51, 'input_chunk_length': 67, 'num_layers': 4, 'num_blocks': 4, 'num_stacks': 1, 'layer_widths': 178, 'activation': 'GELU', 'dropout': 0.10789878616487389, 'batch_size': 46, 'lr': 0.00047381332174476837, 'forecast_horizon': 4}. Best is trial 0 with value: 113.57725945588305.\n",
      "GPU available: True (cuda), used: True\n",
      "TPU available: False, using: 0 TPU cores\n",
      "HPU available: False, using: 0 HPUs\n",
      "LOCAL_RANK: 0 - CUDA_VISIBLE_DEVICES: [0]\n",
      "\n",
      "  | Name            | Type             | Params | Mode \n",
      "-------------------------------------------------------------\n",
      "0 | criterion       | HuberLoss        | 0      | train\n",
      "1 | train_criterion | HuberLoss        | 0      | train\n",
      "2 | val_criterion   | HuberLoss        | 0      | train\n",
      "3 | train_metrics   | MetricCollection | 0      | train\n",
      "4 | val_metrics     | MetricCollection | 0      | train\n",
      "5 | stacks          | ModuleList       | 98.5 K | train\n",
      "-------------------------------------------------------------\n",
      "90.9 K    Trainable params\n",
      "7.6 K     Non-trainable params\n",
      "98.5 K    Total params\n",
      "0.394     Total estimated model params size (MB)\n",
      "20        Modules in train mode\n",
      "0         Modules in eval mode\n"
     ]
    },
    {
     "name": "stdout",
     "output_type": "stream",
     "text": [
      "Iniciando a verificação das séries temporais para constância...\n",
      "\n",
      "Métricas de performance:\n",
      "                                    MSE         RMSE          MAE  \\\n",
      "Temperature                1.855497e+02    13.621664    13.490665   \n",
      "Precipitation_accumulated  5.079946e+04   225.387365   225.327582   \n",
      "Humidity                   7.141467e+02    26.723524    25.296020   \n",
      "Wind_Speed_kmh             1.233330e+01     3.511880     3.462897   \n",
      "Soil_Moisture              3.330038e+06  1824.839153  1777.664418   \n",
      "Soil_Temperature           3.404334e+02    18.450837    18.327667   \n",
      "Wind_Dir_Sin               1.738574e-01     0.416962     0.229296   \n",
      "Wind_Dir_Cos               7.810164e-01     0.883751     0.836925   \n",
      "\n",
      "                                     R2       SMAPE  \n",
      "Temperature                  -53.552853  103.104037  \n",
      "Precipitation_accumulated -53502.902397   64.978488  \n",
      "Humidity                      -9.981104   35.043393  \n",
      "Wind_Speed_kmh               -35.191044  187.285425  \n",
      "Soil_Moisture                 -3.494361   26.370552  \n",
      "Soil_Temperature             -59.699298  117.195599  \n",
      "Wind_Dir_Sin                  -0.080992  185.560324  \n",
      "Wind_Dir_Cos                  -1.717379  189.080258  \n",
      "O SMAPE desse fold foi 113.57725945588305\n",
      "Resultados do trial 0 salvos em optuna_iteration_metrics/trial_0.json\n",
      "Current value: 113.57725945588305, Current params: {'output_chunk_length': 51, 'input_chunk_length': 67, 'num_layers': 4, 'num_blocks': 4, 'num_stacks': 1, 'layer_widths': 178, 'activation': 'GELU', 'dropout': 0.10789878616487389, 'batch_size': 46, 'lr': 0.00047381332174476837, 'forecast_horizon': 4}\n",
      "Best value: 113.57725945588305, Best params: {'output_chunk_length': 51, 'input_chunk_length': 67, 'num_layers': 4, 'num_blocks': 4, 'num_stacks': 1, 'layer_widths': 178, 'activation': 'GELU', 'dropout': 0.10789878616487389, 'batch_size': 46, 'lr': 0.00047381332174476837, 'forecast_horizon': 4}\n",
      "\n",
      "Iniciando Trial 1\n",
      "Hiperparâmetros: {'output_chunk_length': 36, 'input_chunk_length': 39, 'num_layers': 3, 'num_blocks': 1, 'num_stacks': 1, 'layer_widths': 195, 'activation': 'GELU', 'dropout': 0.0055148882223194804, 'batch_size': 60, 'lr': 3.05387018401505e-05, 'forecast_horizon': 19}\n",
      "\n",
      "Treinando o modelo...\n",
      "Train set: 6647 samples\n",
      "Validation set: 1662 samples\n"
     ]
    },
    {
     "data": {
      "application/vnd.jupyter.widget-view+json": {
       "model_id": "076ed3f710a74ea58dddf85ad9fec082",
       "version_major": 2,
       "version_minor": 0
      },
      "text/plain": [
       "Sanity Checking: |          | 0/? [00:00<?, ?it/s]"
      ]
     },
     "metadata": {},
     "output_type": "display_data"
    },
    {
     "name": "stderr",
     "output_type": "stream",
     "text": [
      "/home/eduardo/Documentos/Water-Cycle-Neural-Network/venv/lib/python3.12/site-packages/pytorch_lightning/trainer/connectors/data_connector.py:425: The 'val_dataloader' does not have many workers which may be a bottleneck. Consider increasing the value of the `num_workers` argument` to `num_workers=11` in the `DataLoader` to improve performance.\n",
      "/home/eduardo/Documentos/Water-Cycle-Neural-Network/venv/lib/python3.12/site-packages/pytorch_lightning/trainer/connectors/data_connector.py:425: The 'train_dataloader' does not have many workers which may be a bottleneck. Consider increasing the value of the `num_workers` argument` to `num_workers=11` in the `DataLoader` to improve performance.\n"
     ]
    },
    {
     "data": {
      "application/vnd.jupyter.widget-view+json": {
       "model_id": "83f2cb14d3224cd9858e6cbadc455624",
       "version_major": 2,
       "version_minor": 0
      },
      "text/plain": [
       "Training: |          | 0/? [00:00<?, ?it/s]"
      ]
     },
     "metadata": {},
     "output_type": "display_data"
    },
    {
     "data": {
      "application/vnd.jupyter.widget-view+json": {
       "model_id": "db6100b5c9cf46edbdf69e31c80f36fc",
       "version_major": 2,
       "version_minor": 0
      },
      "text/plain": [
       "Validation: |          | 0/? [00:00<?, ?it/s]"
      ]
     },
     "metadata": {},
     "output_type": "display_data"
    },
    {
     "name": "stderr",
     "output_type": "stream",
     "text": [
      "Metric val_loss improved. New best score: 0.114\n"
     ]
    },
    {
     "data": {
      "application/vnd.jupyter.widget-view+json": {
       "model_id": "0a0abe37eb6b47d3a1d83adbcb18f507",
       "version_major": 2,
       "version_minor": 0
      },
      "text/plain": [
       "Validation: |          | 0/? [00:00<?, ?it/s]"
      ]
     },
     "metadata": {},
     "output_type": "display_data"
    },
    {
     "name": "stderr",
     "output_type": "stream",
     "text": [
      "Metric val_loss improved by 0.048 >= min_delta = 0.001. New best score: 0.066\n"
     ]
    },
    {
     "data": {
      "application/vnd.jupyter.widget-view+json": {
       "model_id": "2cb8b8c6f2a24d5da9d64b954a949ea2",
       "version_major": 2,
       "version_minor": 0
      },
      "text/plain": [
       "Validation: |          | 0/? [00:00<?, ?it/s]"
      ]
     },
     "metadata": {},
     "output_type": "display_data"
    },
    {
     "data": {
      "application/vnd.jupyter.widget-view+json": {
       "model_id": "f1ef54f07f4b407da1bc1bada8c3ab13",
       "version_major": 2,
       "version_minor": 0
      },
      "text/plain": [
       "Validation: |          | 0/? [00:00<?, ?it/s]"
      ]
     },
     "metadata": {},
     "output_type": "display_data"
    },
    {
     "data": {
      "application/vnd.jupyter.widget-view+json": {
       "model_id": "60f3a4d980c84af8bf35c44f598fc5f1",
       "version_major": 2,
       "version_minor": 0
      },
      "text/plain": [
       "Validation: |          | 0/? [00:00<?, ?it/s]"
      ]
     },
     "metadata": {},
     "output_type": "display_data"
    },
    {
     "data": {
      "application/vnd.jupyter.widget-view+json": {
       "model_id": "f7746037b13d4bc3aca9ea5e5b343d48",
       "version_major": 2,
       "version_minor": 0
      },
      "text/plain": [
       "Validation: |          | 0/? [00:00<?, ?it/s]"
      ]
     },
     "metadata": {},
     "output_type": "display_data"
    },
    {
     "data": {
      "application/vnd.jupyter.widget-view+json": {
       "model_id": "2e805b4b92d64288b1929f5aaf09a9c8",
       "version_major": 2,
       "version_minor": 0
      },
      "text/plain": [
       "Validation: |          | 0/? [00:00<?, ?it/s]"
      ]
     },
     "metadata": {},
     "output_type": "display_data"
    },
    {
     "data": {
      "application/vnd.jupyter.widget-view+json": {
       "model_id": "eabcbb68826140bd8b68dd7cbec4ba3a",
       "version_major": 2,
       "version_minor": 0
      },
      "text/plain": [
       "Validation: |          | 0/? [00:00<?, ?it/s]"
      ]
     },
     "metadata": {},
     "output_type": "display_data"
    },
    {
     "data": {
      "application/vnd.jupyter.widget-view+json": {
       "model_id": "59ae52526e8c4064818ceec0cffa7f7c",
       "version_major": 2,
       "version_minor": 0
      },
      "text/plain": [
       "Validation: |          | 0/? [00:00<?, ?it/s]"
      ]
     },
     "metadata": {},
     "output_type": "display_data"
    },
    {
     "data": {
      "application/vnd.jupyter.widget-view+json": {
       "model_id": "cff08d1cc6a74bc9853d5670b9772755",
       "version_major": 2,
       "version_minor": 0
      },
      "text/plain": [
       "Validation: |          | 0/? [00:00<?, ?it/s]"
      ]
     },
     "metadata": {},
     "output_type": "display_data"
    },
    {
     "data": {
      "application/vnd.jupyter.widget-view+json": {
       "model_id": "87883808226e40f18ca8f3a87808f92c",
       "version_major": 2,
       "version_minor": 0
      },
      "text/plain": [
       "Validation: |          | 0/? [00:00<?, ?it/s]"
      ]
     },
     "metadata": {},
     "output_type": "display_data"
    },
    {
     "data": {
      "application/vnd.jupyter.widget-view+json": {
       "model_id": "88c791897d1b4c798ed646eb514c82c9",
       "version_major": 2,
       "version_minor": 0
      },
      "text/plain": [
       "Validation: |          | 0/? [00:00<?, ?it/s]"
      ]
     },
     "metadata": {},
     "output_type": "display_data"
    },
    {
     "name": "stderr",
     "output_type": "stream",
     "text": [
      "Monitored metric val_loss did not improve in the last 10 records. Best score: 0.066. Signaling Trainer to stop.\n",
      "GPU available: True (cuda), used: True\n",
      "TPU available: False, using: 0 TPU cores\n",
      "HPU available: False, using: 0 HPUs\n",
      "LOCAL_RANK: 0 - CUDA_VISIBLE_DEVICES: [0]\n"
     ]
    },
    {
     "name": "stdout",
     "output_type": "stream",
     "text": [
      "Modelo carregado do checkpoint para trial 1\n"
     ]
    },
    {
     "name": "stderr",
     "output_type": "stream",
     "text": [
      "/home/eduardo/Documentos/Water-Cycle-Neural-Network/venv/lib/python3.12/site-packages/pytorch_lightning/trainer/connectors/data_connector.py:425: The 'predict_dataloader' does not have many workers which may be a bottleneck. Consider increasing the value of the `num_workers` argument` to `num_workers=11` in the `DataLoader` to improve performance.\n"
     ]
    },
    {
     "data": {
      "application/vnd.jupyter.widget-view+json": {
       "model_id": "497aa66faf1f4d538204f370167fa166",
       "version_major": 2,
       "version_minor": 0
      },
      "text/plain": [
       "Predicting: |          | 0/? [00:00<?, ?it/s]"
      ]
     },
     "metadata": {},
     "output_type": "display_data"
    },
    {
     "name": "stderr",
     "output_type": "stream",
     "text": [
      "[I 2025-05-14 12:32:29,762] Trial 1 finished with value: 113.72095466314819 and parameters: {'output_chunk_length': 36, 'input_chunk_length': 39, 'num_layers': 3, 'num_blocks': 1, 'num_stacks': 1, 'layer_widths': 195, 'activation': 'GELU', 'dropout': 0.0055148882223194804, 'batch_size': 60, 'lr': 3.05387018401505e-05, 'forecast_horizon': 19}. Best is trial 0 with value: 113.57725945588305.\n",
      "GPU available: True (cuda), used: True\n",
      "TPU available: False, using: 0 TPU cores\n",
      "HPU available: False, using: 0 HPUs\n",
      "LOCAL_RANK: 0 - CUDA_VISIBLE_DEVICES: [0]\n",
      "\n",
      "  | Name            | Type             | Params | Mode \n",
      "-------------------------------------------------------------\n",
      "0 | criterion       | HuberLoss        | 0      | train\n",
      "1 | train_criterion | HuberLoss        | 0      | train\n",
      "2 | val_criterion   | HuberLoss        | 0      | train\n",
      "3 | train_metrics   | MetricCollection | 0      | train\n",
      "4 | val_metrics     | MetricCollection | 0      | train\n",
      "5 | stacks          | ModuleList       | 1.6 M  | train\n",
      "-------------------------------------------------------------\n",
      "1.5 M     Trainable params\n",
      "63.6 K    Non-trainable params\n",
      "1.6 M     Total params\n",
      "6.207     Total estimated model params size (MB)\n",
      "228       Modules in train mode\n",
      "0         Modules in eval mode\n"
     ]
    },
    {
     "name": "stdout",
     "output_type": "stream",
     "text": [
      "Iniciando a verificação das séries temporais para constância...\n",
      "\n",
      "Métricas de performance:\n",
      "                                    MSE         RMSE          MAE  \\\n",
      "Temperature                1.452708e+02    12.052833    11.911828   \n",
      "Precipitation_accumulated  5.991693e+04   244.779347   244.777403   \n",
      "Humidity                   8.938413e+02    29.897178    28.787532   \n",
      "Wind_Speed_kmh             1.015299e+01     3.186376     3.141951   \n",
      "Soil_Moisture              2.689730e+06  1640.039605  1607.060255   \n",
      "Soil_Temperature           2.689117e+02    16.398528    16.227420   \n",
      "Wind_Dir_Sin               2.063834e-01     0.454294     0.281198   \n",
      "Wind_Dir_Cos               9.207705e-01     0.959568     0.900949   \n",
      "\n",
      "                                     R2       SMAPE  \n",
      "Temperature                  -41.990743   97.240331  \n",
      "Precipitation_accumulated -62956.949020   72.607982  \n",
      "Humidity                     -12.726216   41.022206  \n",
      "Wind_Speed_kmh               -28.481169  186.689625  \n",
      "Soil_Moisture                 -2.594072   24.151487  \n",
      "Soil_Temperature             -47.169960  111.481467  \n",
      "Wind_Dir_Sin                  -0.270504  190.063408  \n",
      "Wind_Dir_Cos                  -2.176679  186.511131  \n",
      "O SMAPE desse fold foi 113.72095466314819\n",
      "Resultados do trial 1 salvos em optuna_iteration_metrics/trial_1.json\n",
      "Current value: 113.72095466314819, Current params: {'output_chunk_length': 36, 'input_chunk_length': 39, 'num_layers': 3, 'num_blocks': 1, 'num_stacks': 1, 'layer_widths': 195, 'activation': 'GELU', 'dropout': 0.0055148882223194804, 'batch_size': 60, 'lr': 3.05387018401505e-05, 'forecast_horizon': 19}\n",
      "Best value: 113.57725945588305, Best params: {'output_chunk_length': 51, 'input_chunk_length': 67, 'num_layers': 4, 'num_blocks': 4, 'num_stacks': 1, 'layer_widths': 178, 'activation': 'GELU', 'dropout': 0.10789878616487389, 'batch_size': 46, 'lr': 0.00047381332174476837, 'forecast_horizon': 4}\n",
      "\n",
      "Iniciando Trial 2\n",
      "Hiperparâmetros: {'output_chunk_length': 17, 'input_chunk_length': 35, 'num_layers': 6, 'num_blocks': 4, 'num_stacks': 3, 'layer_widths': 100, 'activation': 'GELU', 'dropout': 0.06381830935359642, 'batch_size': 27, 'lr': 5.6099571884435206e-05, 'forecast_horizon': 22}\n",
      "\n",
      "Treinando o modelo...\n",
      "Train set: 6647 samples\n",
      "Validation set: 1662 samples\n"
     ]
    },
    {
     "data": {
      "application/vnd.jupyter.widget-view+json": {
       "model_id": "af0440a1ec8f4eefa7edf73e8906991b",
       "version_major": 2,
       "version_minor": 0
      },
      "text/plain": [
       "Sanity Checking: |          | 0/? [00:00<?, ?it/s]"
      ]
     },
     "metadata": {},
     "output_type": "display_data"
    },
    {
     "name": "stderr",
     "output_type": "stream",
     "text": [
      "/home/eduardo/Documentos/Water-Cycle-Neural-Network/venv/lib/python3.12/site-packages/pytorch_lightning/trainer/connectors/data_connector.py:425: The 'val_dataloader' does not have many workers which may be a bottleneck. Consider increasing the value of the `num_workers` argument` to `num_workers=11` in the `DataLoader` to improve performance.\n",
      "/home/eduardo/Documentos/Water-Cycle-Neural-Network/venv/lib/python3.12/site-packages/pytorch_lightning/trainer/connectors/data_connector.py:425: The 'train_dataloader' does not have many workers which may be a bottleneck. Consider increasing the value of the `num_workers` argument` to `num_workers=11` in the `DataLoader` to improve performance.\n"
     ]
    },
    {
     "data": {
      "application/vnd.jupyter.widget-view+json": {
       "model_id": "8557072a09ce4543b75996e21cab99dd",
       "version_major": 2,
       "version_minor": 0
      },
      "text/plain": [
       "Training: |          | 0/? [00:00<?, ?it/s]"
      ]
     },
     "metadata": {},
     "output_type": "display_data"
    },
    {
     "data": {
      "application/vnd.jupyter.widget-view+json": {
       "model_id": "031954391abd4f2db9c1308badf64408",
       "version_major": 2,
       "version_minor": 0
      },
      "text/plain": [
       "Validation: |          | 0/? [00:00<?, ?it/s]"
      ]
     },
     "metadata": {},
     "output_type": "display_data"
    },
    {
     "name": "stderr",
     "output_type": "stream",
     "text": [
      "Metric val_loss improved. New best score: 0.049\n"
     ]
    },
    {
     "data": {
      "application/vnd.jupyter.widget-view+json": {
       "model_id": "e1a59c296e754eefb7ddb0d10f11c40d",
       "version_major": 2,
       "version_minor": 0
      },
      "text/plain": [
       "Validation: |          | 0/? [00:00<?, ?it/s]"
      ]
     },
     "metadata": {},
     "output_type": "display_data"
    },
    {
     "data": {
      "application/vnd.jupyter.widget-view+json": {
       "model_id": "646469e6c1ab4de881d089c0e70a91d8",
       "version_major": 2,
       "version_minor": 0
      },
      "text/plain": [
       "Validation: |          | 0/? [00:00<?, ?it/s]"
      ]
     },
     "metadata": {},
     "output_type": "display_data"
    },
    {
     "name": "stderr",
     "output_type": "stream",
     "text": [
      "Metric val_loss improved by 0.002 >= min_delta = 0.001. New best score: 0.047\n"
     ]
    },
    {
     "data": {
      "application/vnd.jupyter.widget-view+json": {
       "model_id": "3da4c101bb6041219e862bc939b2c7a2",
       "version_major": 2,
       "version_minor": 0
      },
      "text/plain": [
       "Validation: |          | 0/? [00:00<?, ?it/s]"
      ]
     },
     "metadata": {},
     "output_type": "display_data"
    },
    {
     "name": "stderr",
     "output_type": "stream",
     "text": [
      "Metric val_loss improved by 0.009 >= min_delta = 0.001. New best score: 0.038\n"
     ]
    },
    {
     "data": {
      "application/vnd.jupyter.widget-view+json": {
       "model_id": "8d465b314bca425c942ac036df66e2df",
       "version_major": 2,
       "version_minor": 0
      },
      "text/plain": [
       "Validation: |          | 0/? [00:00<?, ?it/s]"
      ]
     },
     "metadata": {},
     "output_type": "display_data"
    },
    {
     "name": "stderr",
     "output_type": "stream",
     "text": [
      "Metric val_loss improved by 0.002 >= min_delta = 0.001. New best score: 0.036\n"
     ]
    },
    {
     "data": {
      "application/vnd.jupyter.widget-view+json": {
       "model_id": "b4a9e431ff0249319ea24fdea7e04945",
       "version_major": 2,
       "version_minor": 0
      },
      "text/plain": [
       "Validation: |          | 0/? [00:00<?, ?it/s]"
      ]
     },
     "metadata": {},
     "output_type": "display_data"
    },
    {
     "name": "stderr",
     "output_type": "stream",
     "text": [
      "Metric val_loss improved by 0.003 >= min_delta = 0.001. New best score: 0.033\n"
     ]
    },
    {
     "data": {
      "application/vnd.jupyter.widget-view+json": {
       "model_id": "ea99cfe954cc45a9ba6a1f64a9d36ca1",
       "version_major": 2,
       "version_minor": 0
      },
      "text/plain": [
       "Validation: |          | 0/? [00:00<?, ?it/s]"
      ]
     },
     "metadata": {},
     "output_type": "display_data"
    },
    {
     "data": {
      "application/vnd.jupyter.widget-view+json": {
       "model_id": "4354cef972db4ca58fc1175ecf6dcd29",
       "version_major": 2,
       "version_minor": 0
      },
      "text/plain": [
       "Validation: |          | 0/? [00:00<?, ?it/s]"
      ]
     },
     "metadata": {},
     "output_type": "display_data"
    },
    {
     "data": {
      "application/vnd.jupyter.widget-view+json": {
       "model_id": "2161ee48c48840a6ad9ab07a0365de80",
       "version_major": 2,
       "version_minor": 0
      },
      "text/plain": [
       "Validation: |          | 0/? [00:00<?, ?it/s]"
      ]
     },
     "metadata": {},
     "output_type": "display_data"
    },
    {
     "data": {
      "application/vnd.jupyter.widget-view+json": {
       "model_id": "2e336c60a2ec47d88b819ff12596bd59",
       "version_major": 2,
       "version_minor": 0
      },
      "text/plain": [
       "Validation: |          | 0/? [00:00<?, ?it/s]"
      ]
     },
     "metadata": {},
     "output_type": "display_data"
    },
    {
     "data": {
      "application/vnd.jupyter.widget-view+json": {
       "model_id": "ec6ca8d97c5848fdb88e532cd4d38ce2",
       "version_major": 2,
       "version_minor": 0
      },
      "text/plain": [
       "Validation: |          | 0/? [00:00<?, ?it/s]"
      ]
     },
     "metadata": {},
     "output_type": "display_data"
    },
    {
     "data": {
      "application/vnd.jupyter.widget-view+json": {
       "model_id": "8c5568f857b74847b4468489d165b760",
       "version_major": 2,
       "version_minor": 0
      },
      "text/plain": [
       "Validation: |          | 0/? [00:00<?, ?it/s]"
      ]
     },
     "metadata": {},
     "output_type": "display_data"
    },
    {
     "data": {
      "application/vnd.jupyter.widget-view+json": {
       "model_id": "f18017903615410abe1d2277bcad1e02",
       "version_major": 2,
       "version_minor": 0
      },
      "text/plain": [
       "Validation: |          | 0/? [00:00<?, ?it/s]"
      ]
     },
     "metadata": {},
     "output_type": "display_data"
    },
    {
     "data": {
      "application/vnd.jupyter.widget-view+json": {
       "model_id": "425f5e69173944e192b3c2f4028cddc6",
       "version_major": 2,
       "version_minor": 0
      },
      "text/plain": [
       "Validation: |          | 0/? [00:00<?, ?it/s]"
      ]
     },
     "metadata": {},
     "output_type": "display_data"
    },
    {
     "data": {
      "application/vnd.jupyter.widget-view+json": {
       "model_id": "7dc24de105fe45dab093fd29be41b60d",
       "version_major": 2,
       "version_minor": 0
      },
      "text/plain": [
       "Validation: |          | 0/? [00:00<?, ?it/s]"
      ]
     },
     "metadata": {},
     "output_type": "display_data"
    },
    {
     "data": {
      "application/vnd.jupyter.widget-view+json": {
       "model_id": "cfe6305932f644f6825b51760ea5da72",
       "version_major": 2,
       "version_minor": 0
      },
      "text/plain": [
       "Validation: |          | 0/? [00:00<?, ?it/s]"
      ]
     },
     "metadata": {},
     "output_type": "display_data"
    },
    {
     "name": "stderr",
     "output_type": "stream",
     "text": [
      "Monitored metric val_loss did not improve in the last 10 records. Best score: 0.033. Signaling Trainer to stop.\n",
      "`predict()` was called with `n > output_chunk_length`: using auto-regression to forecast the values after `output_chunk_length` points. The model will access `(n - output_chunk_length)` future values of your `past_covariates` (relative to the first predicted time step). To hide this warning, set `show_warnings=False`.\n",
      "GPU available: True (cuda), used: True\n",
      "TPU available: False, using: 0 TPU cores\n",
      "HPU available: False, using: 0 HPUs\n",
      "LOCAL_RANK: 0 - CUDA_VISIBLE_DEVICES: [0]\n"
     ]
    },
    {
     "name": "stdout",
     "output_type": "stream",
     "text": [
      "Modelo carregado do checkpoint para trial 2\n"
     ]
    },
    {
     "name": "stderr",
     "output_type": "stream",
     "text": [
      "/home/eduardo/Documentos/Water-Cycle-Neural-Network/venv/lib/python3.12/site-packages/pytorch_lightning/trainer/connectors/data_connector.py:425: The 'predict_dataloader' does not have many workers which may be a bottleneck. Consider increasing the value of the `num_workers` argument` to `num_workers=11` in the `DataLoader` to improve performance.\n"
     ]
    },
    {
     "data": {
      "application/vnd.jupyter.widget-view+json": {
       "model_id": "f6244e9dfe004f53bb1103a8540e3412",
       "version_major": 2,
       "version_minor": 0
      },
      "text/plain": [
       "Predicting: |          | 0/? [00:00<?, ?it/s]"
      ]
     },
     "metadata": {},
     "output_type": "display_data"
    },
    {
     "name": "stderr",
     "output_type": "stream",
     "text": [
      "[I 2025-05-14 12:34:03,273] Trial 2 finished with value: 55.940907314820535 and parameters: {'output_chunk_length': 17, 'input_chunk_length': 35, 'num_layers': 6, 'num_blocks': 4, 'num_stacks': 3, 'layer_widths': 100, 'activation': 'GELU', 'dropout': 0.06381830935359642, 'batch_size': 27, 'lr': 5.6099571884435206e-05, 'forecast_horizon': 22}. Best is trial 2 with value: 55.940907314820535.\n",
      "GPU available: True (cuda), used: True\n",
      "TPU available: False, using: 0 TPU cores\n",
      "HPU available: False, using: 0 HPUs\n",
      "LOCAL_RANK: 0 - CUDA_VISIBLE_DEVICES: [0]\n",
      "\n",
      "  | Name            | Type             | Params | Mode \n",
      "-------------------------------------------------------------\n",
      "0 | criterion       | HuberLoss        | 0      | train\n",
      "1 | train_criterion | HuberLoss        | 0      | train\n",
      "2 | val_criterion   | HuberLoss        | 0      | train\n",
      "3 | train_metrics   | MetricCollection | 0      | train\n",
      "4 | val_metrics     | MetricCollection | 0      | train\n",
      "5 | stacks          | ModuleList       | 508 K  | train\n",
      "-------------------------------------------------------------\n",
      "450 K     Trainable params\n",
      "58.8 K    Non-trainable params\n",
      "508 K     Total params\n",
      "2.036     Total estimated model params size (MB)\n",
      "58        Modules in train mode\n",
      "0         Modules in eval mode\n"
     ]
    },
    {
     "name": "stdout",
     "output_type": "stream",
     "text": [
      "Iniciando a verificação das séries temporais para constância...\n",
      "\n",
      "Métricas de performance:\n",
      "                                     MSE        RMSE         MAE          R2  \\\n",
      "Temperature                     2.130159    1.459506    1.103535    0.367898   \n",
      "Precipitation_accumulated     182.446507   13.507276   10.038538 -190.619545   \n",
      "Humidity                       37.985644    6.163250    5.206424    0.416346   \n",
      "Wind_Speed_kmh                  0.256843    0.506797    0.222143    0.255785   \n",
      "Soil_Moisture              269143.081838  518.790017  255.204614    0.641079   \n",
      "Soil_Temperature                2.657262    1.630111    1.097321    0.523401   \n",
      "Wind_Dir_Sin                    0.162614    0.403254    0.233726    0.000946   \n",
      "Wind_Dir_Cos                    0.156914    0.396124    0.275478    0.459559   \n",
      "\n",
      "                                SMAPE  \n",
      "Temperature                 18.977898  \n",
      "Precipitation_accumulated    2.180834  \n",
      "Humidity                     6.231164  \n",
      "Wind_Speed_kmh             176.303826  \n",
      "Soil_Moisture                3.917974  \n",
      "Soil_Temperature            24.622328  \n",
      "Wind_Dir_Sin               162.454253  \n",
      "Wind_Dir_Cos                52.838982  \n",
      "O SMAPE desse fold foi 55.940907314820535\n",
      "Resultados do trial 2 salvos em optuna_iteration_metrics/trial_2.json\n",
      "Current value: 55.940907314820535, Current params: {'output_chunk_length': 17, 'input_chunk_length': 35, 'num_layers': 6, 'num_blocks': 4, 'num_stacks': 3, 'layer_widths': 100, 'activation': 'GELU', 'dropout': 0.06381830935359642, 'batch_size': 27, 'lr': 5.6099571884435206e-05, 'forecast_horizon': 22}\n",
      "Best value: 55.940907314820535, Best params: {'output_chunk_length': 17, 'input_chunk_length': 35, 'num_layers': 6, 'num_blocks': 4, 'num_stacks': 3, 'layer_widths': 100, 'activation': 'GELU', 'dropout': 0.06381830935359642, 'batch_size': 27, 'lr': 5.6099571884435206e-05, 'forecast_horizon': 22}\n",
      "\n",
      "Iniciando Trial 3\n",
      "Hiperparâmetros: {'output_chunk_length': 27, 'input_chunk_length': 38, 'num_layers': 1, 'num_blocks': 3, 'num_stacks': 2, 'layer_widths': 85, 'activation': 'GELU', 'dropout': 0.18882539432465545, 'batch_size': 37, 'lr': 0.006016691509040486, 'forecast_horizon': 12}\n",
      "\n",
      "Treinando o modelo...\n",
      "Train set: 6647 samples\n",
      "Validation set: 1662 samples\n"
     ]
    },
    {
     "data": {
      "application/vnd.jupyter.widget-view+json": {
       "model_id": "88a1a8e250164bdba699c10cf49d0eb4",
       "version_major": 2,
       "version_minor": 0
      },
      "text/plain": [
       "Sanity Checking: |          | 0/? [00:00<?, ?it/s]"
      ]
     },
     "metadata": {},
     "output_type": "display_data"
    },
    {
     "name": "stderr",
     "output_type": "stream",
     "text": [
      "/home/eduardo/Documentos/Water-Cycle-Neural-Network/venv/lib/python3.12/site-packages/pytorch_lightning/trainer/connectors/data_connector.py:425: The 'val_dataloader' does not have many workers which may be a bottleneck. Consider increasing the value of the `num_workers` argument` to `num_workers=11` in the `DataLoader` to improve performance.\n",
      "/home/eduardo/Documentos/Water-Cycle-Neural-Network/venv/lib/python3.12/site-packages/pytorch_lightning/trainer/connectors/data_connector.py:425: The 'train_dataloader' does not have many workers which may be a bottleneck. Consider increasing the value of the `num_workers` argument` to `num_workers=11` in the `DataLoader` to improve performance.\n"
     ]
    },
    {
     "data": {
      "application/vnd.jupyter.widget-view+json": {
       "model_id": "076f56598f414e699b58811da87cb36f",
       "version_major": 2,
       "version_minor": 0
      },
      "text/plain": [
       "Training: |          | 0/? [00:00<?, ?it/s]"
      ]
     },
     "metadata": {},
     "output_type": "display_data"
    },
    {
     "data": {
      "application/vnd.jupyter.widget-view+json": {
       "model_id": "daac128b1fd4412f812a67d1c15f5fb4",
       "version_major": 2,
       "version_minor": 0
      },
      "text/plain": [
       "Validation: |          | 0/? [00:00<?, ?it/s]"
      ]
     },
     "metadata": {},
     "output_type": "display_data"
    },
    {
     "name": "stderr",
     "output_type": "stream",
     "text": [
      "Metric val_loss improved. New best score: 0.031\n"
     ]
    },
    {
     "data": {
      "application/vnd.jupyter.widget-view+json": {
       "model_id": "56e7e73acc7746509fcf7c678dd7ca35",
       "version_major": 2,
       "version_minor": 0
      },
      "text/plain": [
       "Validation: |          | 0/? [00:00<?, ?it/s]"
      ]
     },
     "metadata": {},
     "output_type": "display_data"
    },
    {
     "name": "stderr",
     "output_type": "stream",
     "text": [
      "Metric val_loss improved by 0.006 >= min_delta = 0.001. New best score: 0.025\n"
     ]
    },
    {
     "data": {
      "application/vnd.jupyter.widget-view+json": {
       "model_id": "4a7f5d7981cf4845b75503abce3da2ae",
       "version_major": 2,
       "version_minor": 0
      },
      "text/plain": [
       "Validation: |          | 0/? [00:00<?, ?it/s]"
      ]
     },
     "metadata": {},
     "output_type": "display_data"
    },
    {
     "data": {
      "application/vnd.jupyter.widget-view+json": {
       "model_id": "1c029d13b2fa46c2a545f1503fe86ee5",
       "version_major": 2,
       "version_minor": 0
      },
      "text/plain": [
       "Validation: |          | 0/? [00:00<?, ?it/s]"
      ]
     },
     "metadata": {},
     "output_type": "display_data"
    },
    {
     "data": {
      "application/vnd.jupyter.widget-view+json": {
       "model_id": "c4a54fb7b64c4e10ae2d8df5094bd274",
       "version_major": 2,
       "version_minor": 0
      },
      "text/plain": [
       "Validation: |          | 0/? [00:00<?, ?it/s]"
      ]
     },
     "metadata": {},
     "output_type": "display_data"
    },
    {
     "name": "stderr",
     "output_type": "stream",
     "text": [
      "Metric val_loss improved by 0.003 >= min_delta = 0.001. New best score: 0.023\n"
     ]
    },
    {
     "data": {
      "application/vnd.jupyter.widget-view+json": {
       "model_id": "135277d1ec3344f5b8ba9c6d6f6412c4",
       "version_major": 2,
       "version_minor": 0
      },
      "text/plain": [
       "Validation: |          | 0/? [00:00<?, ?it/s]"
      ]
     },
     "metadata": {},
     "output_type": "display_data"
    },
    {
     "data": {
      "application/vnd.jupyter.widget-view+json": {
       "model_id": "69001d348c2b4855a28356c4cf14f627",
       "version_major": 2,
       "version_minor": 0
      },
      "text/plain": [
       "Validation: |          | 0/? [00:00<?, ?it/s]"
      ]
     },
     "metadata": {},
     "output_type": "display_data"
    },
    {
     "data": {
      "application/vnd.jupyter.widget-view+json": {
       "model_id": "0ed9a084f2f942c58ef20a44ebb23edc",
       "version_major": 2,
       "version_minor": 0
      },
      "text/plain": [
       "Validation: |          | 0/? [00:00<?, ?it/s]"
      ]
     },
     "metadata": {},
     "output_type": "display_data"
    },
    {
     "data": {
      "application/vnd.jupyter.widget-view+json": {
       "model_id": "7cf4ebfed95942129fc772cc9b7edc64",
       "version_major": 2,
       "version_minor": 0
      },
      "text/plain": [
       "Validation: |          | 0/? [00:00<?, ?it/s]"
      ]
     },
     "metadata": {},
     "output_type": "display_data"
    },
    {
     "data": {
      "application/vnd.jupyter.widget-view+json": {
       "model_id": "10e2c6cce0454ee498341289e86a6574",
       "version_major": 2,
       "version_minor": 0
      },
      "text/plain": [
       "Validation: |          | 0/? [00:00<?, ?it/s]"
      ]
     },
     "metadata": {},
     "output_type": "display_data"
    },
    {
     "data": {
      "application/vnd.jupyter.widget-view+json": {
       "model_id": "9785266ddb6141199dff4c2407767ff9",
       "version_major": 2,
       "version_minor": 0
      },
      "text/plain": [
       "Validation: |          | 0/? [00:00<?, ?it/s]"
      ]
     },
     "metadata": {},
     "output_type": "display_data"
    },
    {
     "data": {
      "application/vnd.jupyter.widget-view+json": {
       "model_id": "c41d6b8969434a07bf32eb8d63231a36",
       "version_major": 2,
       "version_minor": 0
      },
      "text/plain": [
       "Validation: |          | 0/? [00:00<?, ?it/s]"
      ]
     },
     "metadata": {},
     "output_type": "display_data"
    },
    {
     "data": {
      "application/vnd.jupyter.widget-view+json": {
       "model_id": "9f3f81f0d2b84c8d838002079f2894f0",
       "version_major": 2,
       "version_minor": 0
      },
      "text/plain": [
       "Validation: |          | 0/? [00:00<?, ?it/s]"
      ]
     },
     "metadata": {},
     "output_type": "display_data"
    },
    {
     "data": {
      "application/vnd.jupyter.widget-view+json": {
       "model_id": "e95dd4f019f144af9c41fd048de565f0",
       "version_major": 2,
       "version_minor": 0
      },
      "text/plain": [
       "Validation: |          | 0/? [00:00<?, ?it/s]"
      ]
     },
     "metadata": {},
     "output_type": "display_data"
    },
    {
     "data": {
      "application/vnd.jupyter.widget-view+json": {
       "model_id": "b7cc7730654b4434ae8a85526a5e6f05",
       "version_major": 2,
       "version_minor": 0
      },
      "text/plain": [
       "Validation: |          | 0/? [00:00<?, ?it/s]"
      ]
     },
     "metadata": {},
     "output_type": "display_data"
    },
    {
     "name": "stderr",
     "output_type": "stream",
     "text": [
      "Monitored metric val_loss did not improve in the last 10 records. Best score: 0.023. Signaling Trainer to stop.\n",
      "GPU available: True (cuda), used: True\n",
      "TPU available: False, using: 0 TPU cores\n",
      "HPU available: False, using: 0 HPUs\n",
      "LOCAL_RANK: 0 - CUDA_VISIBLE_DEVICES: [0]\n"
     ]
    },
    {
     "name": "stdout",
     "output_type": "stream",
     "text": [
      "Modelo carregado do checkpoint para trial 3\n"
     ]
    },
    {
     "name": "stderr",
     "output_type": "stream",
     "text": [
      "/home/eduardo/Documentos/Water-Cycle-Neural-Network/venv/lib/python3.12/site-packages/pytorch_lightning/trainer/connectors/data_connector.py:425: The 'predict_dataloader' does not have many workers which may be a bottleneck. Consider increasing the value of the `num_workers` argument` to `num_workers=11` in the `DataLoader` to improve performance.\n"
     ]
    },
    {
     "data": {
      "application/vnd.jupyter.widget-view+json": {
       "model_id": "815d6fa779b94684b82cf47d2df5dbc5",
       "version_major": 2,
       "version_minor": 0
      },
      "text/plain": [
       "Predicting: |          | 0/? [00:00<?, ?it/s]"
      ]
     },
     "metadata": {},
     "output_type": "display_data"
    },
    {
     "name": "stderr",
     "output_type": "stream",
     "text": [
      "[I 2025-05-14 12:34:28,179] Trial 3 finished with value: 50.43235393618171 and parameters: {'output_chunk_length': 27, 'input_chunk_length': 38, 'num_layers': 1, 'num_blocks': 3, 'num_stacks': 2, 'layer_widths': 85, 'activation': 'GELU', 'dropout': 0.18882539432465545, 'batch_size': 37, 'lr': 0.006016691509040486, 'forecast_horizon': 12}. Best is trial 3 with value: 50.43235393618171.\n",
      "GPU available: True (cuda), used: True\n",
      "TPU available: False, using: 0 TPU cores\n",
      "HPU available: False, using: 0 HPUs\n",
      "LOCAL_RANK: 0 - CUDA_VISIBLE_DEVICES: [0]\n",
      "\n",
      "  | Name            | Type             | Params | Mode \n",
      "-------------------------------------------------------------\n",
      "0 | criterion       | HuberLoss        | 0      | train\n",
      "1 | train_criterion | HuberLoss        | 0      | train\n",
      "2 | val_criterion   | HuberLoss        | 0      | train\n",
      "3 | train_metrics   | MetricCollection | 0      | train\n",
      "4 | val_metrics     | MetricCollection | 0      | train\n",
      "5 | stacks          | ModuleList       | 491 K  | train\n",
      "-------------------------------------------------------------\n",
      "484 K     Trainable params\n",
      "6.3 K     Non-trainable params\n",
      "491 K     Total params\n",
      "1.964     Total estimated model params size (MB)\n",
      "72        Modules in train mode\n",
      "0         Modules in eval mode\n"
     ]
    },
    {
     "name": "stdout",
     "output_type": "stream",
     "text": [
      "Iniciando a verificação das séries temporais para constância...\n",
      "\n",
      "Métricas de performance:\n",
      "                                    MSE        RMSE         MAE          R2  \\\n",
      "Temperature                    1.086458    1.042333    0.724167    0.679802   \n",
      "Precipitation_accumulated    264.258383   16.256026   10.880648 -276.971208   \n",
      "Humidity                      14.960921    3.867935    3.096453    0.770212   \n",
      "Wind_Speed_kmh                 0.181268    0.425756    0.255833    0.471054   \n",
      "Soil_Moisture              80853.318762  284.347180  162.181185    0.891457   \n",
      "Soil_Temperature               1.183418    1.087850    0.772626    0.788489   \n",
      "Wind_Dir_Sin                   0.081924    0.286224    0.169385    0.493314   \n",
      "Wind_Dir_Cos                   0.092528    0.304185    0.176043    0.679512   \n",
      "\n",
      "                                SMAPE  \n",
      "Temperature                 12.388055  \n",
      "Precipitation_accumulated    2.406134  \n",
      "Humidity                     3.716990  \n",
      "Wind_Speed_kmh             168.588334  \n",
      "Soil_Moisture                2.563621  \n",
      "Soil_Temperature            20.047846  \n",
      "Wind_Dir_Sin               150.809587  \n",
      "Wind_Dir_Cos                42.938264  \n",
      "O SMAPE desse fold foi 50.43235393618171\n",
      "Resultados do trial 3 salvos em optuna_iteration_metrics/trial_3.json\n",
      "Current value: 50.43235393618171, Current params: {'output_chunk_length': 27, 'input_chunk_length': 38, 'num_layers': 1, 'num_blocks': 3, 'num_stacks': 2, 'layer_widths': 85, 'activation': 'GELU', 'dropout': 0.18882539432465545, 'batch_size': 37, 'lr': 0.006016691509040486, 'forecast_horizon': 12}\n",
      "Best value: 50.43235393618171, Best params: {'output_chunk_length': 27, 'input_chunk_length': 38, 'num_layers': 1, 'num_blocks': 3, 'num_stacks': 2, 'layer_widths': 85, 'activation': 'GELU', 'dropout': 0.18882539432465545, 'batch_size': 37, 'lr': 0.006016691509040486, 'forecast_horizon': 12}\n",
      "\n",
      "Iniciando Trial 4\n",
      "Hiperparâmetros: {'output_chunk_length': 28, 'input_chunk_length': 31, 'num_layers': 5, 'num_blocks': 4, 'num_stacks': 1, 'layer_widths': 161, 'activation': 'ReLU', 'dropout': 0.030376914835189426, 'batch_size': 56, 'lr': 0.0024193289581757762, 'forecast_horizon': 1}\n",
      "\n",
      "Treinando o modelo...\n",
      "Train set: 6647 samples\n",
      "Validation set: 1662 samples\n"
     ]
    },
    {
     "data": {
      "application/vnd.jupyter.widget-view+json": {
       "model_id": "a5cd66f6207344019ffe531e6808f2ef",
       "version_major": 2,
       "version_minor": 0
      },
      "text/plain": [
       "Sanity Checking: |          | 0/? [00:00<?, ?it/s]"
      ]
     },
     "metadata": {},
     "output_type": "display_data"
    },
    {
     "name": "stderr",
     "output_type": "stream",
     "text": [
      "/home/eduardo/Documentos/Water-Cycle-Neural-Network/venv/lib/python3.12/site-packages/pytorch_lightning/trainer/connectors/data_connector.py:425: The 'val_dataloader' does not have many workers which may be a bottleneck. Consider increasing the value of the `num_workers` argument` to `num_workers=11` in the `DataLoader` to improve performance.\n",
      "/home/eduardo/Documentos/Water-Cycle-Neural-Network/venv/lib/python3.12/site-packages/pytorch_lightning/trainer/connectors/data_connector.py:425: The 'train_dataloader' does not have many workers which may be a bottleneck. Consider increasing the value of the `num_workers` argument` to `num_workers=11` in the `DataLoader` to improve performance.\n"
     ]
    },
    {
     "data": {
      "application/vnd.jupyter.widget-view+json": {
       "model_id": "07ea0f73e5cd4dbb8ef244c19ddcc1f4",
       "version_major": 2,
       "version_minor": 0
      },
      "text/plain": [
       "Training: |          | 0/? [00:00<?, ?it/s]"
      ]
     },
     "metadata": {},
     "output_type": "display_data"
    },
    {
     "data": {
      "application/vnd.jupyter.widget-view+json": {
       "model_id": "6d9ce41340e24c46bfc7dc724b8157f1",
       "version_major": 2,
       "version_minor": 0
      },
      "text/plain": [
       "Validation: |          | 0/? [00:00<?, ?it/s]"
      ]
     },
     "metadata": {},
     "output_type": "display_data"
    },
    {
     "name": "stderr",
     "output_type": "stream",
     "text": [
      "Metric val_loss improved. New best score: 0.064\n"
     ]
    },
    {
     "data": {
      "application/vnd.jupyter.widget-view+json": {
       "model_id": "1a5206574990453799f24aae4c9a3bf8",
       "version_major": 2,
       "version_minor": 0
      },
      "text/plain": [
       "Validation: |          | 0/? [00:00<?, ?it/s]"
      ]
     },
     "metadata": {},
     "output_type": "display_data"
    },
    {
     "data": {
      "application/vnd.jupyter.widget-view+json": {
       "model_id": "6abfc8518e5b43e9a00f53f925713e2c",
       "version_major": 2,
       "version_minor": 0
      },
      "text/plain": [
       "Validation: |          | 0/? [00:00<?, ?it/s]"
      ]
     },
     "metadata": {},
     "output_type": "display_data"
    },
    {
     "data": {
      "application/vnd.jupyter.widget-view+json": {
       "model_id": "108a3702c42349e7b58f8a468d6290b9",
       "version_major": 2,
       "version_minor": 0
      },
      "text/plain": [
       "Validation: |          | 0/? [00:00<?, ?it/s]"
      ]
     },
     "metadata": {},
     "output_type": "display_data"
    },
    {
     "data": {
      "application/vnd.jupyter.widget-view+json": {
       "model_id": "3d3efd5a17d2455095c4553aab968734",
       "version_major": 2,
       "version_minor": 0
      },
      "text/plain": [
       "Validation: |          | 0/? [00:00<?, ?it/s]"
      ]
     },
     "metadata": {},
     "output_type": "display_data"
    },
    {
     "data": {
      "application/vnd.jupyter.widget-view+json": {
       "model_id": "2cf39cee3fdf4a39b2e519014342ae68",
       "version_major": 2,
       "version_minor": 0
      },
      "text/plain": [
       "Validation: |          | 0/? [00:00<?, ?it/s]"
      ]
     },
     "metadata": {},
     "output_type": "display_data"
    },
    {
     "data": {
      "application/vnd.jupyter.widget-view+json": {
       "model_id": "87bf5af1d0d84a08be61b539b19fe09d",
       "version_major": 2,
       "version_minor": 0
      },
      "text/plain": [
       "Validation: |          | 0/? [00:00<?, ?it/s]"
      ]
     },
     "metadata": {},
     "output_type": "display_data"
    },
    {
     "data": {
      "application/vnd.jupyter.widget-view+json": {
       "model_id": "f9b63d4f8e76451e8da77c285473259f",
       "version_major": 2,
       "version_minor": 0
      },
      "text/plain": [
       "Validation: |          | 0/? [00:00<?, ?it/s]"
      ]
     },
     "metadata": {},
     "output_type": "display_data"
    },
    {
     "data": {
      "application/vnd.jupyter.widget-view+json": {
       "model_id": "cef2dbc20db140f3bf562e2d92818bf9",
       "version_major": 2,
       "version_minor": 0
      },
      "text/plain": [
       "Validation: |          | 0/? [00:00<?, ?it/s]"
      ]
     },
     "metadata": {},
     "output_type": "display_data"
    },
    {
     "data": {
      "application/vnd.jupyter.widget-view+json": {
       "model_id": "e0d0127335f64063b4db1f9f8c7b4c0b",
       "version_major": 2,
       "version_minor": 0
      },
      "text/plain": [
       "Validation: |          | 0/? [00:00<?, ?it/s]"
      ]
     },
     "metadata": {},
     "output_type": "display_data"
    },
    {
     "data": {
      "application/vnd.jupyter.widget-view+json": {
       "model_id": "db32a267baf940cd93cb0c42fca97819",
       "version_major": 2,
       "version_minor": 0
      },
      "text/plain": [
       "Validation: |          | 0/? [00:00<?, ?it/s]"
      ]
     },
     "metadata": {},
     "output_type": "display_data"
    },
    {
     "name": "stderr",
     "output_type": "stream",
     "text": [
      "Monitored metric val_loss did not improve in the last 10 records. Best score: 0.064. Signaling Trainer to stop.\n",
      "GPU available: True (cuda), used: True\n",
      "TPU available: False, using: 0 TPU cores\n",
      "HPU available: False, using: 0 HPUs\n",
      "LOCAL_RANK: 0 - CUDA_VISIBLE_DEVICES: [0]\n"
     ]
    },
    {
     "name": "stdout",
     "output_type": "stream",
     "text": [
      "Modelo carregado do checkpoint para trial 4\n"
     ]
    },
    {
     "name": "stderr",
     "output_type": "stream",
     "text": [
      "/home/eduardo/Documentos/Water-Cycle-Neural-Network/venv/lib/python3.12/site-packages/pytorch_lightning/trainer/connectors/data_connector.py:425: The 'predict_dataloader' does not have many workers which may be a bottleneck. Consider increasing the value of the `num_workers` argument` to `num_workers=11` in the `DataLoader` to improve performance.\n"
     ]
    },
    {
     "data": {
      "application/vnd.jupyter.widget-view+json": {
       "model_id": "2b59f593faf246dfa7672c565bafb927",
       "version_major": 2,
       "version_minor": 0
      },
      "text/plain": [
       "Predicting: |          | 0/? [00:00<?, ?it/s]"
      ]
     },
     "metadata": {},
     "output_type": "display_data"
    },
    {
     "name": "stderr",
     "output_type": "stream",
     "text": [
      "[I 2025-05-14 12:34:43,665] Trial 4 finished with value: 113.22694743871614 and parameters: {'output_chunk_length': 28, 'input_chunk_length': 31, 'num_layers': 5, 'num_blocks': 4, 'num_stacks': 1, 'layer_widths': 161, 'activation': 'ReLU', 'dropout': 0.030376914835189426, 'batch_size': 56, 'lr': 0.0024193289581757762, 'forecast_horizon': 1}. Best is trial 3 with value: 50.43235393618171.\n",
      "GPU available: True (cuda), used: True\n",
      "TPU available: False, using: 0 TPU cores\n",
      "HPU available: False, using: 0 HPUs\n",
      "LOCAL_RANK: 0 - CUDA_VISIBLE_DEVICES: [0]\n",
      "\n",
      "  | Name            | Type             | Params | Mode \n",
      "-------------------------------------------------------------\n",
      "0 | criterion       | HuberLoss        | 0      | train\n",
      "1 | train_criterion | HuberLoss        | 0      | train\n",
      "2 | val_criterion   | HuberLoss        | 0      | train\n",
      "3 | train_metrics   | MetricCollection | 0      | train\n",
      "4 | val_metrics     | MetricCollection | 0      | train\n",
      "5 | stacks          | ModuleList       | 2.2 M  | train\n",
      "-------------------------------------------------------------\n",
      "2.1 M     Trainable params\n",
      "152 K     Non-trainable params\n",
      "2.2 M     Total params\n",
      "8.868     Total estimated model params size (MB)\n",
      "156       Modules in train mode\n",
      "0         Modules in eval mode\n"
     ]
    },
    {
     "name": "stdout",
     "output_type": "stream",
     "text": [
      "Iniciando a verificação das séries temporais para constância...\n",
      "\n",
      "Métricas de performance:\n",
      "                                    MSE         RMSE          MAE  \\\n",
      "Temperature                1.942796e+02    13.938422    13.823258   \n",
      "Precipitation_accumulated  4.902220e+04   221.409576   221.380408   \n",
      "Humidity                   6.736097e+02    25.953993    24.604552   \n",
      "Wind_Speed_kmh             1.274123e+01     3.569485     3.522710   \n",
      "Soil_Moisture              3.422269e+06  1849.937493  1795.227341   \n",
      "Soil_Temperature           3.543078e+02    18.823067    18.702410   \n",
      "Wind_Dir_Sin               1.724745e-01     0.415300     0.237313   \n",
      "Wind_Dir_Cos               7.653797e-01     0.874860     0.829116   \n",
      "\n",
      "                                     R2       SMAPE  \n",
      "Temperature                  -56.068078  104.305360  \n",
      "Precipitation_accumulated -51647.877779   63.471489  \n",
      "Humidity                      -9.358662   33.904221  \n",
      "Wind_Speed_kmh               -36.440270  187.509330  \n",
      "Soil_Moisture                 -3.624874   26.591637  \n",
      "Soil_Temperature             -62.131631  118.066397  \n",
      "Wind_Dir_Sin                  -0.073811  185.337106  \n",
      "Wind_Dir_Cos                  -1.665965  186.630039  \n",
      "O SMAPE desse fold foi 113.22694743871614\n",
      "Resultados do trial 4 salvos em optuna_iteration_metrics/trial_4.json\n",
      "Current value: 113.22694743871614, Current params: {'output_chunk_length': 28, 'input_chunk_length': 31, 'num_layers': 5, 'num_blocks': 4, 'num_stacks': 1, 'layer_widths': 161, 'activation': 'ReLU', 'dropout': 0.030376914835189426, 'batch_size': 56, 'lr': 0.0024193289581757762, 'forecast_horizon': 1}\n",
      "Best value: 50.43235393618171, Best params: {'output_chunk_length': 27, 'input_chunk_length': 38, 'num_layers': 1, 'num_blocks': 3, 'num_stacks': 2, 'layer_widths': 85, 'activation': 'GELU', 'dropout': 0.18882539432465545, 'batch_size': 37, 'lr': 0.006016691509040486, 'forecast_horizon': 12}\n",
      "\n",
      "Iniciando Trial 5\n",
      "Hiperparâmetros: {'output_chunk_length': 60, 'input_chunk_length': 66, 'num_layers': 5, 'num_blocks': 3, 'num_stacks': 3, 'layer_widths': 127, 'activation': 'GELU', 'dropout': 0.2955306914931916, 'batch_size': 31, 'lr': 0.004075277422793256, 'forecast_horizon': 2}\n",
      "\n",
      "Treinando o modelo...\n",
      "Train set: 6647 samples\n",
      "Validation set: 1662 samples\n"
     ]
    },
    {
     "data": {
      "application/vnd.jupyter.widget-view+json": {
       "model_id": "be041e86229f45488d2413f1674a5c57",
       "version_major": 2,
       "version_minor": 0
      },
      "text/plain": [
       "Sanity Checking: |          | 0/? [00:00<?, ?it/s]"
      ]
     },
     "metadata": {},
     "output_type": "display_data"
    },
    {
     "name": "stderr",
     "output_type": "stream",
     "text": [
      "/home/eduardo/Documentos/Water-Cycle-Neural-Network/venv/lib/python3.12/site-packages/pytorch_lightning/trainer/connectors/data_connector.py:425: The 'val_dataloader' does not have many workers which may be a bottleneck. Consider increasing the value of the `num_workers` argument` to `num_workers=11` in the `DataLoader` to improve performance.\n",
      "/home/eduardo/Documentos/Water-Cycle-Neural-Network/venv/lib/python3.12/site-packages/pytorch_lightning/trainer/connectors/data_connector.py:425: The 'train_dataloader' does not have many workers which may be a bottleneck. Consider increasing the value of the `num_workers` argument` to `num_workers=11` in the `DataLoader` to improve performance.\n"
     ]
    },
    {
     "data": {
      "application/vnd.jupyter.widget-view+json": {
       "model_id": "46f44ac905c54f9899bd2d5ad7ad4a2a",
       "version_major": 2,
       "version_minor": 0
      },
      "text/plain": [
       "Training: |          | 0/? [00:00<?, ?it/s]"
      ]
     },
     "metadata": {},
     "output_type": "display_data"
    },
    {
     "data": {
      "application/vnd.jupyter.widget-view+json": {
       "model_id": "4f8bf21b58a54049a587b07a24a7eb41",
       "version_major": 2,
       "version_minor": 0
      },
      "text/plain": [
       "Validation: |          | 0/? [00:00<?, ?it/s]"
      ]
     },
     "metadata": {},
     "output_type": "display_data"
    },
    {
     "name": "stderr",
     "output_type": "stream",
     "text": [
      "Metric val_loss improved. New best score: 0.031\n"
     ]
    },
    {
     "data": {
      "application/vnd.jupyter.widget-view+json": {
       "model_id": "54b904c20b344a1cb91cf5e5d83ae76c",
       "version_major": 2,
       "version_minor": 0
      },
      "text/plain": [
       "Validation: |          | 0/? [00:00<?, ?it/s]"
      ]
     },
     "metadata": {},
     "output_type": "display_data"
    },
    {
     "data": {
      "application/vnd.jupyter.widget-view+json": {
       "model_id": "b352827feb3c405b89c4e6fa5cf90731",
       "version_major": 2,
       "version_minor": 0
      },
      "text/plain": [
       "Validation: |          | 0/? [00:00<?, ?it/s]"
      ]
     },
     "metadata": {},
     "output_type": "display_data"
    },
    {
     "data": {
      "application/vnd.jupyter.widget-view+json": {
       "model_id": "98912f24312741fbb81ebf18bfbd800d",
       "version_major": 2,
       "version_minor": 0
      },
      "text/plain": [
       "Validation: |          | 0/? [00:00<?, ?it/s]"
      ]
     },
     "metadata": {},
     "output_type": "display_data"
    },
    {
     "data": {
      "application/vnd.jupyter.widget-view+json": {
       "model_id": "a338de8d2ccf43b7b816920cfafbe3d1",
       "version_major": 2,
       "version_minor": 0
      },
      "text/plain": [
       "Validation: |          | 0/? [00:00<?, ?it/s]"
      ]
     },
     "metadata": {},
     "output_type": "display_data"
    },
    {
     "data": {
      "application/vnd.jupyter.widget-view+json": {
       "model_id": "0cb424e7a2694e6da1ed4253eb537caf",
       "version_major": 2,
       "version_minor": 0
      },
      "text/plain": [
       "Validation: |          | 0/? [00:00<?, ?it/s]"
      ]
     },
     "metadata": {},
     "output_type": "display_data"
    },
    {
     "data": {
      "application/vnd.jupyter.widget-view+json": {
       "model_id": "9e58cca4b187491fa46bb72969144a65",
       "version_major": 2,
       "version_minor": 0
      },
      "text/plain": [
       "Validation: |          | 0/? [00:00<?, ?it/s]"
      ]
     },
     "metadata": {},
     "output_type": "display_data"
    },
    {
     "data": {
      "application/vnd.jupyter.widget-view+json": {
       "model_id": "05bce79bdf044eab810be3af129a1ce9",
       "version_major": 2,
       "version_minor": 0
      },
      "text/plain": [
       "Validation: |          | 0/? [00:00<?, ?it/s]"
      ]
     },
     "metadata": {},
     "output_type": "display_data"
    },
    {
     "data": {
      "application/vnd.jupyter.widget-view+json": {
       "model_id": "4c104f3463ba4eb99160d54a7663897e",
       "version_major": 2,
       "version_minor": 0
      },
      "text/plain": [
       "Validation: |          | 0/? [00:00<?, ?it/s]"
      ]
     },
     "metadata": {},
     "output_type": "display_data"
    },
    {
     "data": {
      "application/vnd.jupyter.widget-view+json": {
       "model_id": "73320a00b44f4b4794a9209ef7e7a3f5",
       "version_major": 2,
       "version_minor": 0
      },
      "text/plain": [
       "Validation: |          | 0/? [00:00<?, ?it/s]"
      ]
     },
     "metadata": {},
     "output_type": "display_data"
    },
    {
     "data": {
      "application/vnd.jupyter.widget-view+json": {
       "model_id": "25bee892c12d4e4693f91a5dd8789ebd",
       "version_major": 2,
       "version_minor": 0
      },
      "text/plain": [
       "Validation: |          | 0/? [00:00<?, ?it/s]"
      ]
     },
     "metadata": {},
     "output_type": "display_data"
    },
    {
     "name": "stderr",
     "output_type": "stream",
     "text": [
      "Monitored metric val_loss did not improve in the last 10 records. Best score: 0.031. Signaling Trainer to stop.\n",
      "GPU available: True (cuda), used: True\n",
      "TPU available: False, using: 0 TPU cores\n",
      "HPU available: False, using: 0 HPUs\n",
      "LOCAL_RANK: 0 - CUDA_VISIBLE_DEVICES: [0]\n"
     ]
    },
    {
     "name": "stdout",
     "output_type": "stream",
     "text": [
      "Modelo carregado do checkpoint para trial 5\n"
     ]
    },
    {
     "name": "stderr",
     "output_type": "stream",
     "text": [
      "/home/eduardo/Documentos/Water-Cycle-Neural-Network/venv/lib/python3.12/site-packages/pytorch_lightning/trainer/connectors/data_connector.py:425: The 'predict_dataloader' does not have many workers which may be a bottleneck. Consider increasing the value of the `num_workers` argument` to `num_workers=11` in the `DataLoader` to improve performance.\n"
     ]
    },
    {
     "data": {
      "application/vnd.jupyter.widget-view+json": {
       "model_id": "93639d244a7b4dce8327df91f722269e",
       "version_major": 2,
       "version_minor": 0
      },
      "text/plain": [
       "Predicting: |          | 0/? [00:00<?, ?it/s]"
      ]
     },
     "metadata": {},
     "output_type": "display_data"
    },
    {
     "name": "stderr",
     "output_type": "stream",
     "text": [
      "[I 2025-05-14 12:35:26,376] Trial 5 finished with value: 55.219383239941095 and parameters: {'output_chunk_length': 60, 'input_chunk_length': 66, 'num_layers': 5, 'num_blocks': 3, 'num_stacks': 3, 'layer_widths': 127, 'activation': 'GELU', 'dropout': 0.2955306914931916, 'batch_size': 31, 'lr': 0.004075277422793256, 'forecast_horizon': 2}. Best is trial 3 with value: 50.43235393618171.\n",
      "GPU available: True (cuda), used: True\n",
      "TPU available: False, using: 0 TPU cores\n",
      "HPU available: False, using: 0 HPUs\n",
      "LOCAL_RANK: 0 - CUDA_VISIBLE_DEVICES: [0]\n",
      "\n",
      "  | Name            | Type             | Params | Mode \n",
      "-------------------------------------------------------------\n",
      "0 | criterion       | HuberLoss        | 0      | train\n",
      "1 | train_criterion | HuberLoss        | 0      | train\n",
      "2 | val_criterion   | HuberLoss        | 0      | train\n",
      "3 | train_metrics   | MetricCollection | 0      | train\n",
      "4 | val_metrics     | MetricCollection | 0      | train\n",
      "5 | stacks          | ModuleList       | 2.5 M  | train\n",
      "-------------------------------------------------------------\n",
      "2.3 M     Trainable params\n",
      "150 K     Non-trainable params\n",
      "2.5 M     Total params\n",
      "9.961     Total estimated model params size (MB)\n",
      "134       Modules in train mode\n",
      "0         Modules in eval mode\n"
     ]
    },
    {
     "name": "stdout",
     "output_type": "stream",
     "text": [
      "Iniciando a verificação das séries temporais para constância...\n",
      "\n",
      "Métricas de performance:\n",
      "                                     MSE        RMSE         MAE          R2  \\\n",
      "Temperature                     3.268807    1.807984    1.323004    0.039814   \n",
      "Precipitation_accumulated     458.895638   21.421850   16.840396 -482.483901   \n",
      "Humidity                       26.135486    5.112288    4.270643    0.598093   \n",
      "Wind_Speed_kmh                  0.251758    0.501754    0.248494    0.260207   \n",
      "Soil_Moisture              256387.235505  506.346952  282.479035    0.653517   \n",
      "Soil_Temperature                1.379341    1.174453    0.987772    0.754225   \n",
      "Wind_Dir_Sin                    0.147014    0.383424    0.252005    0.084703   \n",
      "Wind_Dir_Cos                    0.175745    0.419219    0.243424    0.387847   \n",
      "\n",
      "                                SMAPE  \n",
      "Temperature                 23.296245  \n",
      "Precipitation_accumulated    3.666954  \n",
      "Humidity                     5.096232  \n",
      "Wind_Speed_kmh             172.722290  \n",
      "Soil_Moisture                4.240241  \n",
      "Soil_Temperature            25.983077  \n",
      "Wind_Dir_Sin               159.877506  \n",
      "Wind_Dir_Cos                46.872520  \n",
      "O SMAPE desse fold foi 55.219383239941095\n",
      "Resultados do trial 5 salvos em optuna_iteration_metrics/trial_5.json\n",
      "Current value: 55.219383239941095, Current params: {'output_chunk_length': 60, 'input_chunk_length': 66, 'num_layers': 5, 'num_blocks': 3, 'num_stacks': 3, 'layer_widths': 127, 'activation': 'GELU', 'dropout': 0.2955306914931916, 'batch_size': 31, 'lr': 0.004075277422793256, 'forecast_horizon': 2}\n",
      "Best value: 50.43235393618171, Best params: {'output_chunk_length': 27, 'input_chunk_length': 38, 'num_layers': 1, 'num_blocks': 3, 'num_stacks': 2, 'layer_widths': 85, 'activation': 'GELU', 'dropout': 0.18882539432465545, 'batch_size': 37, 'lr': 0.006016691509040486, 'forecast_horizon': 12}\n",
      "\n",
      "Iniciando Trial 6\n",
      "Hiperparâmetros: {'output_chunk_length': 44, 'input_chunk_length': 51, 'num_layers': 2, 'num_blocks': 3, 'num_stacks': 4, 'layer_widths': 163, 'activation': 'GELU', 'dropout': 0.15463762283946922, 'batch_size': 45, 'lr': 1.2080094919257038e-05, 'forecast_horizon': 2}\n",
      "\n",
      "Treinando o modelo...\n",
      "Train set: 6647 samples\n",
      "Validation set: 1662 samples\n"
     ]
    },
    {
     "data": {
      "application/vnd.jupyter.widget-view+json": {
       "model_id": "a2dae22d8ab546ddaed8b54e9b83e16f",
       "version_major": 2,
       "version_minor": 0
      },
      "text/plain": [
       "Sanity Checking: |          | 0/? [00:00<?, ?it/s]"
      ]
     },
     "metadata": {},
     "output_type": "display_data"
    },
    {
     "name": "stderr",
     "output_type": "stream",
     "text": [
      "/home/eduardo/Documentos/Water-Cycle-Neural-Network/venv/lib/python3.12/site-packages/pytorch_lightning/trainer/connectors/data_connector.py:425: The 'val_dataloader' does not have many workers which may be a bottleneck. Consider increasing the value of the `num_workers` argument` to `num_workers=11` in the `DataLoader` to improve performance.\n",
      "/home/eduardo/Documentos/Water-Cycle-Neural-Network/venv/lib/python3.12/site-packages/pytorch_lightning/trainer/connectors/data_connector.py:425: The 'train_dataloader' does not have many workers which may be a bottleneck. Consider increasing the value of the `num_workers` argument` to `num_workers=11` in the `DataLoader` to improve performance.\n"
     ]
    },
    {
     "data": {
      "application/vnd.jupyter.widget-view+json": {
       "model_id": "9a1e8bfaca934d03921aba77d4fd33b9",
       "version_major": 2,
       "version_minor": 0
      },
      "text/plain": [
       "Training: |          | 0/? [00:00<?, ?it/s]"
      ]
     },
     "metadata": {},
     "output_type": "display_data"
    },
    {
     "data": {
      "application/vnd.jupyter.widget-view+json": {
       "model_id": "e8355de5dcdf4187b0dec447a5eae216",
       "version_major": 2,
       "version_minor": 0
      },
      "text/plain": [
       "Validation: |          | 0/? [00:00<?, ?it/s]"
      ]
     },
     "metadata": {},
     "output_type": "display_data"
    },
    {
     "name": "stderr",
     "output_type": "stream",
     "text": [
      "Metric val_loss improved. New best score: 0.053\n"
     ]
    },
    {
     "data": {
      "application/vnd.jupyter.widget-view+json": {
       "model_id": "f08fdc1235604fb3b53cf181e07d8c51",
       "version_major": 2,
       "version_minor": 0
      },
      "text/plain": [
       "Validation: |          | 0/? [00:00<?, ?it/s]"
      ]
     },
     "metadata": {},
     "output_type": "display_data"
    },
    {
     "name": "stderr",
     "output_type": "stream",
     "text": [
      "Metric val_loss improved by 0.007 >= min_delta = 0.001. New best score: 0.046\n"
     ]
    },
    {
     "data": {
      "application/vnd.jupyter.widget-view+json": {
       "model_id": "e900dc7fac4f4d58b851eeaf7212e5d2",
       "version_major": 2,
       "version_minor": 0
      },
      "text/plain": [
       "Validation: |          | 0/? [00:00<?, ?it/s]"
      ]
     },
     "metadata": {},
     "output_type": "display_data"
    },
    {
     "name": "stderr",
     "output_type": "stream",
     "text": [
      "Metric val_loss improved by 0.001 >= min_delta = 0.001. New best score: 0.045\n"
     ]
    },
    {
     "data": {
      "application/vnd.jupyter.widget-view+json": {
       "model_id": "41017822308b410c83f87c39d01b0871",
       "version_major": 2,
       "version_minor": 0
      },
      "text/plain": [
       "Validation: |          | 0/? [00:00<?, ?it/s]"
      ]
     },
     "metadata": {},
     "output_type": "display_data"
    },
    {
     "name": "stderr",
     "output_type": "stream",
     "text": [
      "Metric val_loss improved by 0.002 >= min_delta = 0.001. New best score: 0.043\n"
     ]
    },
    {
     "data": {
      "application/vnd.jupyter.widget-view+json": {
       "model_id": "116ce1f93b20433aa38081aee74304ec",
       "version_major": 2,
       "version_minor": 0
      },
      "text/plain": [
       "Validation: |          | 0/? [00:00<?, ?it/s]"
      ]
     },
     "metadata": {},
     "output_type": "display_data"
    },
    {
     "name": "stderr",
     "output_type": "stream",
     "text": [
      "Metric val_loss improved by 0.002 >= min_delta = 0.001. New best score: 0.041\n"
     ]
    },
    {
     "data": {
      "application/vnd.jupyter.widget-view+json": {
       "model_id": "eb28804d189e4391b8d25734d70c8929",
       "version_major": 2,
       "version_minor": 0
      },
      "text/plain": [
       "Validation: |          | 0/? [00:00<?, ?it/s]"
      ]
     },
     "metadata": {},
     "output_type": "display_data"
    },
    {
     "name": "stderr",
     "output_type": "stream",
     "text": [
      "Metric val_loss improved by 0.002 >= min_delta = 0.001. New best score: 0.039\n"
     ]
    },
    {
     "data": {
      "application/vnd.jupyter.widget-view+json": {
       "model_id": "13bb7a237ae44f4f9bffb6103095bb2d",
       "version_major": 2,
       "version_minor": 0
      },
      "text/plain": [
       "Validation: |          | 0/? [00:00<?, ?it/s]"
      ]
     },
     "metadata": {},
     "output_type": "display_data"
    },
    {
     "name": "stderr",
     "output_type": "stream",
     "text": [
      "Metric val_loss improved by 0.001 >= min_delta = 0.001. New best score: 0.038\n"
     ]
    },
    {
     "data": {
      "application/vnd.jupyter.widget-view+json": {
       "model_id": "a931ea9138a144ba8cf8182b5c949969",
       "version_major": 2,
       "version_minor": 0
      },
      "text/plain": [
       "Validation: |          | 0/? [00:00<?, ?it/s]"
      ]
     },
     "metadata": {},
     "output_type": "display_data"
    },
    {
     "name": "stderr",
     "output_type": "stream",
     "text": [
      "Metric val_loss improved by 0.001 >= min_delta = 0.001. New best score: 0.037\n"
     ]
    },
    {
     "data": {
      "application/vnd.jupyter.widget-view+json": {
       "model_id": "9a9db4f4827442f0b507a63fe8511114",
       "version_major": 2,
       "version_minor": 0
      },
      "text/plain": [
       "Validation: |          | 0/? [00:00<?, ?it/s]"
      ]
     },
     "metadata": {},
     "output_type": "display_data"
    },
    {
     "name": "stderr",
     "output_type": "stream",
     "text": [
      "Metric val_loss improved by 0.001 >= min_delta = 0.001. New best score: 0.035\n"
     ]
    },
    {
     "data": {
      "application/vnd.jupyter.widget-view+json": {
       "model_id": "431d2aad28be422ab7744724e2488440",
       "version_major": 2,
       "version_minor": 0
      },
      "text/plain": [
       "Validation: |          | 0/? [00:00<?, ?it/s]"
      ]
     },
     "metadata": {},
     "output_type": "display_data"
    },
    {
     "name": "stderr",
     "output_type": "stream",
     "text": [
      "Metric val_loss improved by 0.001 >= min_delta = 0.001. New best score: 0.034\n"
     ]
    },
    {
     "data": {
      "application/vnd.jupyter.widget-view+json": {
       "model_id": "5bb05c261bde409595309e2c30786da1",
       "version_major": 2,
       "version_minor": 0
      },
      "text/plain": [
       "Validation: |          | 0/? [00:00<?, ?it/s]"
      ]
     },
     "metadata": {},
     "output_type": "display_data"
    },
    {
     "name": "stderr",
     "output_type": "stream",
     "text": [
      "Metric val_loss improved by 0.001 >= min_delta = 0.001. New best score: 0.033\n"
     ]
    },
    {
     "data": {
      "application/vnd.jupyter.widget-view+json": {
       "model_id": "c45a12a9bdae4529b6c1aeb10231b0c1",
       "version_major": 2,
       "version_minor": 0
      },
      "text/plain": [
       "Validation: |          | 0/? [00:00<?, ?it/s]"
      ]
     },
     "metadata": {},
     "output_type": "display_data"
    },
    {
     "name": "stderr",
     "output_type": "stream",
     "text": [
      "Metric val_loss improved by 0.001 >= min_delta = 0.001. New best score: 0.032\n"
     ]
    },
    {
     "data": {
      "application/vnd.jupyter.widget-view+json": {
       "model_id": "e3c14bf8bada47ad8e7c983828cc94dc",
       "version_major": 2,
       "version_minor": 0
      },
      "text/plain": [
       "Validation: |          | 0/? [00:00<?, ?it/s]"
      ]
     },
     "metadata": {},
     "output_type": "display_data"
    },
    {
     "name": "stderr",
     "output_type": "stream",
     "text": [
      "Metric val_loss improved by 0.001 >= min_delta = 0.001. New best score: 0.030\n"
     ]
    },
    {
     "data": {
      "application/vnd.jupyter.widget-view+json": {
       "model_id": "421a7f429e4844f7bc7f2a5082de9b4f",
       "version_major": 2,
       "version_minor": 0
      },
      "text/plain": [
       "Validation: |          | 0/? [00:00<?, ?it/s]"
      ]
     },
     "metadata": {},
     "output_type": "display_data"
    },
    {
     "name": "stderr",
     "output_type": "stream",
     "text": [
      "Metric val_loss improved by 0.001 >= min_delta = 0.001. New best score: 0.029\n"
     ]
    },
    {
     "data": {
      "application/vnd.jupyter.widget-view+json": {
       "model_id": "86ae973636a34c58923b38c9e25ba517",
       "version_major": 2,
       "version_minor": 0
      },
      "text/plain": [
       "Validation: |          | 0/? [00:00<?, ?it/s]"
      ]
     },
     "metadata": {},
     "output_type": "display_data"
    },
    {
     "name": "stderr",
     "output_type": "stream",
     "text": [
      "Metric val_loss improved by 0.001 >= min_delta = 0.001. New best score: 0.028\n"
     ]
    },
    {
     "data": {
      "application/vnd.jupyter.widget-view+json": {
       "model_id": "8949860ecd534562941aaca0a1cdb81e",
       "version_major": 2,
       "version_minor": 0
      },
      "text/plain": [
       "Validation: |          | 0/? [00:00<?, ?it/s]"
      ]
     },
     "metadata": {},
     "output_type": "display_data"
    },
    {
     "data": {
      "application/vnd.jupyter.widget-view+json": {
       "model_id": "82d5d30ea3114a06b3c455ecf30deb3b",
       "version_major": 2,
       "version_minor": 0
      },
      "text/plain": [
       "Validation: |          | 0/? [00:00<?, ?it/s]"
      ]
     },
     "metadata": {},
     "output_type": "display_data"
    },
    {
     "name": "stderr",
     "output_type": "stream",
     "text": [
      "Metric val_loss improved by 0.002 >= min_delta = 0.001. New best score: 0.027\n"
     ]
    },
    {
     "data": {
      "application/vnd.jupyter.widget-view+json": {
       "model_id": "9b413335dbe942698112823d8d189da3",
       "version_major": 2,
       "version_minor": 0
      },
      "text/plain": [
       "Validation: |          | 0/? [00:00<?, ?it/s]"
      ]
     },
     "metadata": {},
     "output_type": "display_data"
    },
    {
     "data": {
      "application/vnd.jupyter.widget-view+json": {
       "model_id": "b5c84e0e7c1a4c52b5a8f8c2578d2a84",
       "version_major": 2,
       "version_minor": 0
      },
      "text/plain": [
       "Validation: |          | 0/? [00:00<?, ?it/s]"
      ]
     },
     "metadata": {},
     "output_type": "display_data"
    },
    {
     "name": "stderr",
     "output_type": "stream",
     "text": [
      "Metric val_loss improved by 0.001 >= min_delta = 0.001. New best score: 0.025\n"
     ]
    },
    {
     "data": {
      "application/vnd.jupyter.widget-view+json": {
       "model_id": "d0b3e18dfdc545eba06a709fe9a81eab",
       "version_major": 2,
       "version_minor": 0
      },
      "text/plain": [
       "Validation: |          | 0/? [00:00<?, ?it/s]"
      ]
     },
     "metadata": {},
     "output_type": "display_data"
    },
    {
     "data": {
      "application/vnd.jupyter.widget-view+json": {
       "model_id": "92f6adf1b3904869a161fd6b0ab100fc",
       "version_major": 2,
       "version_minor": 0
      },
      "text/plain": [
       "Validation: |          | 0/? [00:00<?, ?it/s]"
      ]
     },
     "metadata": {},
     "output_type": "display_data"
    },
    {
     "name": "stderr",
     "output_type": "stream",
     "text": [
      "Metric val_loss improved by 0.001 >= min_delta = 0.001. New best score: 0.024\n"
     ]
    },
    {
     "data": {
      "application/vnd.jupyter.widget-view+json": {
       "model_id": "24a6202cc7514f9f88a568f32c009ef8",
       "version_major": 2,
       "version_minor": 0
      },
      "text/plain": [
       "Validation: |          | 0/? [00:00<?, ?it/s]"
      ]
     },
     "metadata": {},
     "output_type": "display_data"
    },
    {
     "data": {
      "application/vnd.jupyter.widget-view+json": {
       "model_id": "38b51caba011437b9d159e94c064480f",
       "version_major": 2,
       "version_minor": 0
      },
      "text/plain": [
       "Validation: |          | 0/? [00:00<?, ?it/s]"
      ]
     },
     "metadata": {},
     "output_type": "display_data"
    },
    {
     "data": {
      "application/vnd.jupyter.widget-view+json": {
       "model_id": "00425d44d55e4debb4cf62cb6e8ee58b",
       "version_major": 2,
       "version_minor": 0
      },
      "text/plain": [
       "Validation: |          | 0/? [00:00<?, ?it/s]"
      ]
     },
     "metadata": {},
     "output_type": "display_data"
    },
    {
     "data": {
      "application/vnd.jupyter.widget-view+json": {
       "model_id": "bff0b9a7cb594fd6b66295e0659f9b9c",
       "version_major": 2,
       "version_minor": 0
      },
      "text/plain": [
       "Validation: |          | 0/? [00:00<?, ?it/s]"
      ]
     },
     "metadata": {},
     "output_type": "display_data"
    },
    {
     "name": "stderr",
     "output_type": "stream",
     "text": [
      "Metric val_loss improved by 0.001 >= min_delta = 0.001. New best score: 0.023\n"
     ]
    },
    {
     "data": {
      "application/vnd.jupyter.widget-view+json": {
       "model_id": "e99a7ea819664bee86feca2456ff0cd4",
       "version_major": 2,
       "version_minor": 0
      },
      "text/plain": [
       "Validation: |          | 0/? [00:00<?, ?it/s]"
      ]
     },
     "metadata": {},
     "output_type": "display_data"
    },
    {
     "data": {
      "application/vnd.jupyter.widget-view+json": {
       "model_id": "f11338cfc35a4621ac588196326d700f",
       "version_major": 2,
       "version_minor": 0
      },
      "text/plain": [
       "Validation: |          | 0/? [00:00<?, ?it/s]"
      ]
     },
     "metadata": {},
     "output_type": "display_data"
    },
    {
     "data": {
      "application/vnd.jupyter.widget-view+json": {
       "model_id": "e7f5e44e2a0a475b866e176628d1e390",
       "version_major": 2,
       "version_minor": 0
      },
      "text/plain": [
       "Validation: |          | 0/? [00:00<?, ?it/s]"
      ]
     },
     "metadata": {},
     "output_type": "display_data"
    },
    {
     "data": {
      "application/vnd.jupyter.widget-view+json": {
       "model_id": "49c589cd6e87406396b5e246f27eb135",
       "version_major": 2,
       "version_minor": 0
      },
      "text/plain": [
       "Validation: |          | 0/? [00:00<?, ?it/s]"
      ]
     },
     "metadata": {},
     "output_type": "display_data"
    },
    {
     "data": {
      "application/vnd.jupyter.widget-view+json": {
       "model_id": "c932fbf113c64253a664fa5f4499acf8",
       "version_major": 2,
       "version_minor": 0
      },
      "text/plain": [
       "Validation: |          | 0/? [00:00<?, ?it/s]"
      ]
     },
     "metadata": {},
     "output_type": "display_data"
    },
    {
     "name": "stderr",
     "output_type": "stream",
     "text": [
      "`Trainer.fit` stopped: `max_epochs=30` reached.\n",
      "GPU available: True (cuda), used: True\n",
      "TPU available: False, using: 0 TPU cores\n",
      "HPU available: False, using: 0 HPUs\n",
      "LOCAL_RANK: 0 - CUDA_VISIBLE_DEVICES: [0]\n"
     ]
    },
    {
     "name": "stdout",
     "output_type": "stream",
     "text": [
      "Modelo carregado do checkpoint para trial 6\n"
     ]
    },
    {
     "name": "stderr",
     "output_type": "stream",
     "text": [
      "/home/eduardo/Documentos/Water-Cycle-Neural-Network/venv/lib/python3.12/site-packages/pytorch_lightning/trainer/connectors/data_connector.py:425: The 'predict_dataloader' does not have many workers which may be a bottleneck. Consider increasing the value of the `num_workers` argument` to `num_workers=11` in the `DataLoader` to improve performance.\n"
     ]
    },
    {
     "data": {
      "application/vnd.jupyter.widget-view+json": {
       "model_id": "358e30a6ed304de29cdf9efcba3c7240",
       "version_major": 2,
       "version_minor": 0
      },
      "text/plain": [
       "Predicting: |          | 0/? [00:00<?, ?it/s]"
      ]
     },
     "metadata": {},
     "output_type": "display_data"
    },
    {
     "name": "stderr",
     "output_type": "stream",
     "text": [
      "[I 2025-05-14 12:36:45,527] Trial 6 finished with value: 53.848551954403604 and parameters: {'output_chunk_length': 44, 'input_chunk_length': 51, 'num_layers': 2, 'num_blocks': 3, 'num_stacks': 4, 'layer_widths': 163, 'activation': 'GELU', 'dropout': 0.15463762283946922, 'batch_size': 45, 'lr': 1.2080094919257038e-05, 'forecast_horizon': 2}. Best is trial 3 with value: 50.43235393618171.\n",
      "GPU available: True (cuda), used: True\n",
      "TPU available: False, using: 0 TPU cores\n",
      "HPU available: False, using: 0 HPUs\n",
      "LOCAL_RANK: 0 - CUDA_VISIBLE_DEVICES: [0]\n",
      "\n",
      "  | Name            | Type             | Params | Mode \n",
      "-------------------------------------------------------------\n",
      "0 | criterion       | HuberLoss        | 0      | train\n",
      "1 | train_criterion | HuberLoss        | 0      | train\n",
      "2 | val_criterion   | HuberLoss        | 0      | train\n",
      "3 | train_metrics   | MetricCollection | 0      | train\n",
      "4 | val_metrics     | MetricCollection | 0      | train\n",
      "5 | stacks          | ModuleList       | 2.6 M  | train\n",
      "-------------------------------------------------------------\n",
      "2.5 M     Trainable params\n",
      "158 K     Non-trainable params\n",
      "2.6 M     Total params\n",
      "10.521    Total estimated model params size (MB)\n",
      "176       Modules in train mode\n",
      "0         Modules in eval mode\n"
     ]
    },
    {
     "name": "stdout",
     "output_type": "stream",
     "text": [
      "Iniciando a verificação das séries temporais para constância...\n",
      "\n",
      "Métricas de performance:\n",
      "                                     MSE        RMSE         MAE          R2  \\\n",
      "Temperature                     1.978532    1.406603    1.062656    0.418822   \n",
      "Precipitation_accumulated     182.780830   13.519646    8.832631 -191.574480   \n",
      "Humidity                       19.194708    4.381177    3.504821    0.704827   \n",
      "Wind_Speed_kmh                  0.257477    0.507422    0.307982    0.243401   \n",
      "Soil_Moisture              131814.435069  363.062577  181.513516    0.821865   \n",
      "Soil_Temperature                1.371525    1.171121    0.817532    0.755618   \n",
      "Wind_Dir_Sin                    0.128553    0.358543    0.203455    0.199638   \n",
      "Wind_Dir_Cos                    0.125846    0.354747    0.226679    0.561656   \n",
      "\n",
      "                                SMAPE  \n",
      "Temperature                 17.754749  \n",
      "Precipitation_accumulated    1.932377  \n",
      "Humidity                     4.157009  \n",
      "Wind_Speed_kmh             176.098668  \n",
      "Soil_Moisture                2.822183  \n",
      "Soil_Temperature            20.081284  \n",
      "Wind_Dir_Sin               156.753452  \n",
      "Wind_Dir_Cos                51.188694  \n",
      "O SMAPE desse fold foi 53.848551954403604\n",
      "Resultados do trial 6 salvos em optuna_iteration_metrics/trial_6.json\n",
      "Current value: 53.848551954403604, Current params: {'output_chunk_length': 44, 'input_chunk_length': 51, 'num_layers': 2, 'num_blocks': 3, 'num_stacks': 4, 'layer_widths': 163, 'activation': 'GELU', 'dropout': 0.15463762283946922, 'batch_size': 45, 'lr': 1.2080094919257038e-05, 'forecast_horizon': 2}\n",
      "Best value: 50.43235393618171, Best params: {'output_chunk_length': 27, 'input_chunk_length': 38, 'num_layers': 1, 'num_blocks': 3, 'num_stacks': 2, 'layer_widths': 85, 'activation': 'GELU', 'dropout': 0.18882539432465545, 'batch_size': 37, 'lr': 0.006016691509040486, 'forecast_horizon': 12}\n",
      "\n",
      "Iniciando Trial 7\n",
      "Hiperparâmetros: {'output_chunk_length': 39, 'input_chunk_length': 55, 'num_layers': 5, 'num_blocks': 2, 'num_stacks': 5, 'layer_widths': 159, 'activation': 'GELU', 'dropout': 0.19310423055425038, 'batch_size': 59, 'lr': 3.5788160821306606e-05, 'forecast_horizon': 18}\n",
      "\n",
      "Treinando o modelo...\n",
      "Train set: 6647 samples\n",
      "Validation set: 1662 samples\n"
     ]
    },
    {
     "data": {
      "application/vnd.jupyter.widget-view+json": {
       "model_id": "39be88ef9cc84422b2df4ff216ad0113",
       "version_major": 2,
       "version_minor": 0
      },
      "text/plain": [
       "Sanity Checking: |          | 0/? [00:00<?, ?it/s]"
      ]
     },
     "metadata": {},
     "output_type": "display_data"
    },
    {
     "name": "stderr",
     "output_type": "stream",
     "text": [
      "/home/eduardo/Documentos/Water-Cycle-Neural-Network/venv/lib/python3.12/site-packages/pytorch_lightning/trainer/connectors/data_connector.py:425: The 'val_dataloader' does not have many workers which may be a bottleneck. Consider increasing the value of the `num_workers` argument` to `num_workers=11` in the `DataLoader` to improve performance.\n",
      "/home/eduardo/Documentos/Water-Cycle-Neural-Network/venv/lib/python3.12/site-packages/pytorch_lightning/trainer/connectors/data_connector.py:425: The 'train_dataloader' does not have many workers which may be a bottleneck. Consider increasing the value of the `num_workers` argument` to `num_workers=11` in the `DataLoader` to improve performance.\n"
     ]
    },
    {
     "data": {
      "application/vnd.jupyter.widget-view+json": {
       "model_id": "c2d31cbdfdbf4e4ab03f19a794bc477c",
       "version_major": 2,
       "version_minor": 0
      },
      "text/plain": [
       "Training: |          | 0/? [00:00<?, ?it/s]"
      ]
     },
     "metadata": {},
     "output_type": "display_data"
    },
    {
     "data": {
      "application/vnd.jupyter.widget-view+json": {
       "model_id": "b9a1cae6382244b38a02e52bd2ca7829",
       "version_major": 2,
       "version_minor": 0
      },
      "text/plain": [
       "Validation: |          | 0/? [00:00<?, ?it/s]"
      ]
     },
     "metadata": {},
     "output_type": "display_data"
    },
    {
     "name": "stderr",
     "output_type": "stream",
     "text": [
      "Metric val_loss improved. New best score: 0.053\n"
     ]
    },
    {
     "data": {
      "application/vnd.jupyter.widget-view+json": {
       "model_id": "7f3a87528fde4f7e96f72f16368a081e",
       "version_major": 2,
       "version_minor": 0
      },
      "text/plain": [
       "Validation: |          | 0/? [00:00<?, ?it/s]"
      ]
     },
     "metadata": {},
     "output_type": "display_data"
    },
    {
     "name": "stderr",
     "output_type": "stream",
     "text": [
      "Metric val_loss improved by 0.002 >= min_delta = 0.001. New best score: 0.051\n"
     ]
    },
    {
     "data": {
      "application/vnd.jupyter.widget-view+json": {
       "model_id": "ee889cf5cd67492aa63286f86c308702",
       "version_major": 2,
       "version_minor": 0
      },
      "text/plain": [
       "Validation: |          | 0/? [00:00<?, ?it/s]"
      ]
     },
     "metadata": {},
     "output_type": "display_data"
    },
    {
     "name": "stderr",
     "output_type": "stream",
     "text": [
      "Metric val_loss improved by 0.002 >= min_delta = 0.001. New best score: 0.049\n"
     ]
    },
    {
     "data": {
      "application/vnd.jupyter.widget-view+json": {
       "model_id": "1d2e07b7d3b24963ab900f7d4d5d3e88",
       "version_major": 2,
       "version_minor": 0
      },
      "text/plain": [
       "Validation: |          | 0/? [00:00<?, ?it/s]"
      ]
     },
     "metadata": {},
     "output_type": "display_data"
    },
    {
     "data": {
      "application/vnd.jupyter.widget-view+json": {
       "model_id": "00686dc8bbaf402f8f6ae923c55c6b74",
       "version_major": 2,
       "version_minor": 0
      },
      "text/plain": [
       "Validation: |          | 0/? [00:00<?, ?it/s]"
      ]
     },
     "metadata": {},
     "output_type": "display_data"
    },
    {
     "data": {
      "application/vnd.jupyter.widget-view+json": {
       "model_id": "96cbab5ddd9e463cae7e73339ba1e2b3",
       "version_major": 2,
       "version_minor": 0
      },
      "text/plain": [
       "Validation: |          | 0/? [00:00<?, ?it/s]"
      ]
     },
     "metadata": {},
     "output_type": "display_data"
    },
    {
     "data": {
      "application/vnd.jupyter.widget-view+json": {
       "model_id": "789ff57f283049379e0699bef5ffbd96",
       "version_major": 2,
       "version_minor": 0
      },
      "text/plain": [
       "Validation: |          | 0/? [00:00<?, ?it/s]"
      ]
     },
     "metadata": {},
     "output_type": "display_data"
    },
    {
     "data": {
      "application/vnd.jupyter.widget-view+json": {
       "model_id": "e1e22bc0ad83439b99c71583dfabbd2c",
       "version_major": 2,
       "version_minor": 0
      },
      "text/plain": [
       "Validation: |          | 0/? [00:00<?, ?it/s]"
      ]
     },
     "metadata": {},
     "output_type": "display_data"
    },
    {
     "data": {
      "application/vnd.jupyter.widget-view+json": {
       "model_id": "a2f6b875813a4e47b882a4bae36a994c",
       "version_major": 2,
       "version_minor": 0
      },
      "text/plain": [
       "Validation: |          | 0/? [00:00<?, ?it/s]"
      ]
     },
     "metadata": {},
     "output_type": "display_data"
    },
    {
     "name": "stderr",
     "output_type": "stream",
     "text": [
      "Metric val_loss improved by 0.002 >= min_delta = 0.001. New best score: 0.046\n"
     ]
    },
    {
     "data": {
      "application/vnd.jupyter.widget-view+json": {
       "model_id": "b7e2eb69e9c14742851b50e7d5b3f2a7",
       "version_major": 2,
       "version_minor": 0
      },
      "text/plain": [
       "Validation: |          | 0/? [00:00<?, ?it/s]"
      ]
     },
     "metadata": {},
     "output_type": "display_data"
    },
    {
     "name": "stderr",
     "output_type": "stream",
     "text": [
      "Metric val_loss improved by 0.003 >= min_delta = 0.001. New best score: 0.043\n"
     ]
    },
    {
     "data": {
      "application/vnd.jupyter.widget-view+json": {
       "model_id": "0dd537095e57454cb85c7cb566df1082",
       "version_major": 2,
       "version_minor": 0
      },
      "text/plain": [
       "Validation: |          | 0/? [00:00<?, ?it/s]"
      ]
     },
     "metadata": {},
     "output_type": "display_data"
    },
    {
     "name": "stderr",
     "output_type": "stream",
     "text": [
      "Metric val_loss improved by 0.002 >= min_delta = 0.001. New best score: 0.041\n"
     ]
    },
    {
     "data": {
      "application/vnd.jupyter.widget-view+json": {
       "model_id": "a9f5e6883ea24e7da25bf64de983f145",
       "version_major": 2,
       "version_minor": 0
      },
      "text/plain": [
       "Validation: |          | 0/? [00:00<?, ?it/s]"
      ]
     },
     "metadata": {},
     "output_type": "display_data"
    },
    {
     "name": "stderr",
     "output_type": "stream",
     "text": [
      "Metric val_loss improved by 0.002 >= min_delta = 0.001. New best score: 0.039\n"
     ]
    },
    {
     "data": {
      "application/vnd.jupyter.widget-view+json": {
       "model_id": "701f894ba12e4a8cb26e6c93a69c6769",
       "version_major": 2,
       "version_minor": 0
      },
      "text/plain": [
       "Validation: |          | 0/? [00:00<?, ?it/s]"
      ]
     },
     "metadata": {},
     "output_type": "display_data"
    },
    {
     "name": "stderr",
     "output_type": "stream",
     "text": [
      "Metric val_loss improved by 0.002 >= min_delta = 0.001. New best score: 0.038\n"
     ]
    },
    {
     "data": {
      "application/vnd.jupyter.widget-view+json": {
       "model_id": "6e09aca69e3e4d1e9b536fedbb77dfcb",
       "version_major": 2,
       "version_minor": 0
      },
      "text/plain": [
       "Validation: |          | 0/? [00:00<?, ?it/s]"
      ]
     },
     "metadata": {},
     "output_type": "display_data"
    },
    {
     "name": "stderr",
     "output_type": "stream",
     "text": [
      "Metric val_loss improved by 0.002 >= min_delta = 0.001. New best score: 0.036\n"
     ]
    },
    {
     "data": {
      "application/vnd.jupyter.widget-view+json": {
       "model_id": "0bf4726a8a094136852e561a9dadc308",
       "version_major": 2,
       "version_minor": 0
      },
      "text/plain": [
       "Validation: |          | 0/? [00:00<?, ?it/s]"
      ]
     },
     "metadata": {},
     "output_type": "display_data"
    },
    {
     "name": "stderr",
     "output_type": "stream",
     "text": [
      "Metric val_loss improved by 0.002 >= min_delta = 0.001. New best score: 0.034\n"
     ]
    },
    {
     "data": {
      "application/vnd.jupyter.widget-view+json": {
       "model_id": "19d8b4ad812e4c0aa8ab781b01ecdb65",
       "version_major": 2,
       "version_minor": 0
      },
      "text/plain": [
       "Validation: |          | 0/? [00:00<?, ?it/s]"
      ]
     },
     "metadata": {},
     "output_type": "display_data"
    },
    {
     "data": {
      "application/vnd.jupyter.widget-view+json": {
       "model_id": "82fd044893d34bd19002cdbbdb07e526",
       "version_major": 2,
       "version_minor": 0
      },
      "text/plain": [
       "Validation: |          | 0/? [00:00<?, ?it/s]"
      ]
     },
     "metadata": {},
     "output_type": "display_data"
    },
    {
     "name": "stderr",
     "output_type": "stream",
     "text": [
      "Metric val_loss improved by 0.003 >= min_delta = 0.001. New best score: 0.031\n"
     ]
    },
    {
     "data": {
      "application/vnd.jupyter.widget-view+json": {
       "model_id": "9c6775015444491aa3b0323ca4f18b59",
       "version_major": 2,
       "version_minor": 0
      },
      "text/plain": [
       "Validation: |          | 0/? [00:00<?, ?it/s]"
      ]
     },
     "metadata": {},
     "output_type": "display_data"
    },
    {
     "name": "stderr",
     "output_type": "stream",
     "text": [
      "Metric val_loss improved by 0.001 >= min_delta = 0.001. New best score: 0.030\n"
     ]
    },
    {
     "data": {
      "application/vnd.jupyter.widget-view+json": {
       "model_id": "e1e1a39895264de1878835bed45c3a1d",
       "version_major": 2,
       "version_minor": 0
      },
      "text/plain": [
       "Validation: |          | 0/? [00:00<?, ?it/s]"
      ]
     },
     "metadata": {},
     "output_type": "display_data"
    },
    {
     "data": {
      "application/vnd.jupyter.widget-view+json": {
       "model_id": "6a0992ebe0984216bbe49249031ec227",
       "version_major": 2,
       "version_minor": 0
      },
      "text/plain": [
       "Validation: |          | 0/? [00:00<?, ?it/s]"
      ]
     },
     "metadata": {},
     "output_type": "display_data"
    },
    {
     "name": "stderr",
     "output_type": "stream",
     "text": [
      "Metric val_loss improved by 0.001 >= min_delta = 0.001. New best score: 0.029\n"
     ]
    },
    {
     "data": {
      "application/vnd.jupyter.widget-view+json": {
       "model_id": "851c2c00ea914a4e8594cd44f58212bd",
       "version_major": 2,
       "version_minor": 0
      },
      "text/plain": [
       "Validation: |          | 0/? [00:00<?, ?it/s]"
      ]
     },
     "metadata": {},
     "output_type": "display_data"
    },
    {
     "data": {
      "application/vnd.jupyter.widget-view+json": {
       "model_id": "f8cf0f7b8d324017a0a3e53ec7571311",
       "version_major": 2,
       "version_minor": 0
      },
      "text/plain": [
       "Validation: |          | 0/? [00:00<?, ?it/s]"
      ]
     },
     "metadata": {},
     "output_type": "display_data"
    },
    {
     "name": "stderr",
     "output_type": "stream",
     "text": [
      "Metric val_loss improved by 0.001 >= min_delta = 0.001. New best score: 0.027\n"
     ]
    },
    {
     "data": {
      "application/vnd.jupyter.widget-view+json": {
       "model_id": "44186f17bd4b40548399eb4b48b224df",
       "version_major": 2,
       "version_minor": 0
      },
      "text/plain": [
       "Validation: |          | 0/? [00:00<?, ?it/s]"
      ]
     },
     "metadata": {},
     "output_type": "display_data"
    },
    {
     "data": {
      "application/vnd.jupyter.widget-view+json": {
       "model_id": "b83550d4c61741c98c1b5e2bd51e228c",
       "version_major": 2,
       "version_minor": 0
      },
      "text/plain": [
       "Validation: |          | 0/? [00:00<?, ?it/s]"
      ]
     },
     "metadata": {},
     "output_type": "display_data"
    },
    {
     "data": {
      "application/vnd.jupyter.widget-view+json": {
       "model_id": "816738fd5cbd428882b4564a139a0d31",
       "version_major": 2,
       "version_minor": 0
      },
      "text/plain": [
       "Validation: |          | 0/? [00:00<?, ?it/s]"
      ]
     },
     "metadata": {},
     "output_type": "display_data"
    },
    {
     "data": {
      "application/vnd.jupyter.widget-view+json": {
       "model_id": "b113fb997508410283aaf191fe4d9ce3",
       "version_major": 2,
       "version_minor": 0
      },
      "text/plain": [
       "Validation: |          | 0/? [00:00<?, ?it/s]"
      ]
     },
     "metadata": {},
     "output_type": "display_data"
    },
    {
     "data": {
      "application/vnd.jupyter.widget-view+json": {
       "model_id": "3aaf2dedd76c40338486b9212d7ec46d",
       "version_major": 2,
       "version_minor": 0
      },
      "text/plain": [
       "Validation: |          | 0/? [00:00<?, ?it/s]"
      ]
     },
     "metadata": {},
     "output_type": "display_data"
    },
    {
     "data": {
      "application/vnd.jupyter.widget-view+json": {
       "model_id": "d5e9479d5eb747a58c8f9592cb6909b5",
       "version_major": 2,
       "version_minor": 0
      },
      "text/plain": [
       "Validation: |          | 0/? [00:00<?, ?it/s]"
      ]
     },
     "metadata": {},
     "output_type": "display_data"
    },
    {
     "data": {
      "application/vnd.jupyter.widget-view+json": {
       "model_id": "53f50d55f23d4296a8b8c27c606b6db6",
       "version_major": 2,
       "version_minor": 0
      },
      "text/plain": [
       "Validation: |          | 0/? [00:00<?, ?it/s]"
      ]
     },
     "metadata": {},
     "output_type": "display_data"
    },
    {
     "data": {
      "application/vnd.jupyter.widget-view+json": {
       "model_id": "6e55a85abfbb4b909a456e6da7d6fe0c",
       "version_major": 2,
       "version_minor": 0
      },
      "text/plain": [
       "Validation: |          | 0/? [00:00<?, ?it/s]"
      ]
     },
     "metadata": {},
     "output_type": "display_data"
    },
    {
     "name": "stderr",
     "output_type": "stream",
     "text": [
      "`Trainer.fit` stopped: `max_epochs=30` reached.\n",
      "GPU available: True (cuda), used: True\n",
      "TPU available: False, using: 0 TPU cores\n",
      "HPU available: False, using: 0 HPUs\n",
      "LOCAL_RANK: 0 - CUDA_VISIBLE_DEVICES: [0]\n"
     ]
    },
    {
     "name": "stdout",
     "output_type": "stream",
     "text": [
      "Modelo carregado do checkpoint para trial 7\n"
     ]
    },
    {
     "name": "stderr",
     "output_type": "stream",
     "text": [
      "/home/eduardo/Documentos/Water-Cycle-Neural-Network/venv/lib/python3.12/site-packages/pytorch_lightning/trainer/connectors/data_connector.py:425: The 'predict_dataloader' does not have many workers which may be a bottleneck. Consider increasing the value of the `num_workers` argument` to `num_workers=11` in the `DataLoader` to improve performance.\n"
     ]
    },
    {
     "data": {
      "application/vnd.jupyter.widget-view+json": {
       "model_id": "f184906e4a914fb78c2006bfb084c059",
       "version_major": 2,
       "version_minor": 0
      },
      "text/plain": [
       "Predicting: |          | 0/? [00:00<?, ?it/s]"
      ]
     },
     "metadata": {},
     "output_type": "display_data"
    },
    {
     "name": "stderr",
     "output_type": "stream",
     "text": [
      "[I 2025-05-14 12:37:59,584] Trial 7 finished with value: 54.65862214201847 and parameters: {'output_chunk_length': 39, 'input_chunk_length': 55, 'num_layers': 5, 'num_blocks': 2, 'num_stacks': 5, 'layer_widths': 159, 'activation': 'GELU', 'dropout': 0.19310423055425038, 'batch_size': 59, 'lr': 3.5788160821306606e-05, 'forecast_horizon': 18}. Best is trial 3 with value: 50.43235393618171.\n",
      "GPU available: True (cuda), used: True\n",
      "TPU available: False, using: 0 TPU cores\n",
      "HPU available: False, using: 0 HPUs\n",
      "LOCAL_RANK: 0 - CUDA_VISIBLE_DEVICES: [0]\n",
      "\n",
      "  | Name            | Type             | Params | Mode \n",
      "-------------------------------------------------------------\n",
      "0 | criterion       | HuberLoss        | 0      | train\n",
      "1 | train_criterion | HuberLoss        | 0      | train\n",
      "2 | val_criterion   | HuberLoss        | 0      | train\n",
      "3 | train_metrics   | MetricCollection | 0      | train\n",
      "4 | val_metrics     | MetricCollection | 0      | train\n",
      "5 | stacks          | ModuleList       | 1.2 M  | train\n",
      "-------------------------------------------------------------\n",
      "1.1 M     Trainable params\n",
      "72.9 K    Non-trainable params\n",
      "1.2 M     Total params\n",
      "4.887     Total estimated model params size (MB)\n",
      "226       Modules in train mode\n",
      "0         Modules in eval mode\n"
     ]
    },
    {
     "name": "stdout",
     "output_type": "stream",
     "text": [
      "Iniciando a verificação das séries temporais para constância...\n",
      "\n",
      "Métricas de performance:\n",
      "                                     MSE        RMSE         MAE          R2  \\\n",
      "Temperature                     2.174309    1.474554    1.096458    0.356981   \n",
      "Precipitation_accumulated     469.712922   21.672861   11.714041 -492.627963   \n",
      "Humidity                       23.302887    4.827306    3.690702    0.642171   \n",
      "Wind_Speed_kmh                  0.278616    0.527840    0.304356    0.190415   \n",
      "Soil_Moisture              179134.681123  423.243052  213.253626    0.760479   \n",
      "Soil_Temperature                1.661296    1.288913    0.808776    0.702523   \n",
      "Wind_Dir_Sin                    0.141535    0.376211    0.217302    0.128125   \n",
      "Wind_Dir_Cos                    0.135688    0.368358    0.244690    0.531610   \n",
      "\n",
      "                                SMAPE  \n",
      "Temperature                 18.501056  \n",
      "Precipitation_accumulated    2.628841  \n",
      "Humidity                     4.389238  \n",
      "Wind_Speed_kmh             177.730184  \n",
      "Soil_Moisture                3.322443  \n",
      "Soil_Temperature            20.436902  \n",
      "Wind_Dir_Sin               159.554100  \n",
      "Wind_Dir_Cos                50.706212  \n",
      "O SMAPE desse fold foi 54.65862214201847\n",
      "Resultados do trial 7 salvos em optuna_iteration_metrics/trial_7.json\n",
      "Current value: 54.65862214201847, Current params: {'output_chunk_length': 39, 'input_chunk_length': 55, 'num_layers': 5, 'num_blocks': 2, 'num_stacks': 5, 'layer_widths': 159, 'activation': 'GELU', 'dropout': 0.19310423055425038, 'batch_size': 59, 'lr': 3.5788160821306606e-05, 'forecast_horizon': 18}\n",
      "Best value: 50.43235393618171, Best params: {'output_chunk_length': 27, 'input_chunk_length': 38, 'num_layers': 1, 'num_blocks': 3, 'num_stacks': 2, 'layer_widths': 85, 'activation': 'GELU', 'dropout': 0.18882539432465545, 'batch_size': 37, 'lr': 0.006016691509040486, 'forecast_horizon': 12}\n",
      "\n",
      "Iniciando Trial 8\n",
      "Hiperparâmetros: {'output_chunk_length': 70, 'input_chunk_length': 81, 'num_layers': 4, 'num_blocks': 3, 'num_stacks': 5, 'layer_widths': 49, 'activation': 'ReLU', 'dropout': 0.03613561447813083, 'batch_size': 36, 'lr': 0.0026527315019695594, 'forecast_horizon': 12}\n",
      "\n",
      "Treinando o modelo...\n",
      "Train set: 6647 samples\n",
      "Validation set: 1662 samples\n"
     ]
    },
    {
     "data": {
      "application/vnd.jupyter.widget-view+json": {
       "model_id": "7098e7549b2a43a5bb04661123ce82e9",
       "version_major": 2,
       "version_minor": 0
      },
      "text/plain": [
       "Sanity Checking: |          | 0/? [00:00<?, ?it/s]"
      ]
     },
     "metadata": {},
     "output_type": "display_data"
    },
    {
     "name": "stderr",
     "output_type": "stream",
     "text": [
      "/home/eduardo/Documentos/Water-Cycle-Neural-Network/venv/lib/python3.12/site-packages/pytorch_lightning/trainer/connectors/data_connector.py:425: The 'val_dataloader' does not have many workers which may be a bottleneck. Consider increasing the value of the `num_workers` argument` to `num_workers=11` in the `DataLoader` to improve performance.\n",
      "/home/eduardo/Documentos/Water-Cycle-Neural-Network/venv/lib/python3.12/site-packages/pytorch_lightning/trainer/connectors/data_connector.py:425: The 'train_dataloader' does not have many workers which may be a bottleneck. Consider increasing the value of the `num_workers` argument` to `num_workers=11` in the `DataLoader` to improve performance.\n"
     ]
    },
    {
     "data": {
      "application/vnd.jupyter.widget-view+json": {
       "model_id": "512081c64ac94fbfb6dabb2c0dc35399",
       "version_major": 2,
       "version_minor": 0
      },
      "text/plain": [
       "Training: |          | 0/? [00:00<?, ?it/s]"
      ]
     },
     "metadata": {},
     "output_type": "display_data"
    },
    {
     "data": {
      "application/vnd.jupyter.widget-view+json": {
       "model_id": "b73c5b01dd474edb9e52f8076ec822c0",
       "version_major": 2,
       "version_minor": 0
      },
      "text/plain": [
       "Validation: |          | 0/? [00:00<?, ?it/s]"
      ]
     },
     "metadata": {},
     "output_type": "display_data"
    },
    {
     "name": "stderr",
     "output_type": "stream",
     "text": [
      "Metric val_loss improved. New best score: 0.032\n"
     ]
    },
    {
     "data": {
      "application/vnd.jupyter.widget-view+json": {
       "model_id": "8948654f34854a478d2e89e4cd428643",
       "version_major": 2,
       "version_minor": 0
      },
      "text/plain": [
       "Validation: |          | 0/? [00:00<?, ?it/s]"
      ]
     },
     "metadata": {},
     "output_type": "display_data"
    },
    {
     "data": {
      "application/vnd.jupyter.widget-view+json": {
       "model_id": "cd8d80345e0345fb8507d6e91ca85925",
       "version_major": 2,
       "version_minor": 0
      },
      "text/plain": [
       "Validation: |          | 0/? [00:00<?, ?it/s]"
      ]
     },
     "metadata": {},
     "output_type": "display_data"
    },
    {
     "data": {
      "application/vnd.jupyter.widget-view+json": {
       "model_id": "1bb719f651074a69a24c1b961e74c4fa",
       "version_major": 2,
       "version_minor": 0
      },
      "text/plain": [
       "Validation: |          | 0/? [00:00<?, ?it/s]"
      ]
     },
     "metadata": {},
     "output_type": "display_data"
    },
    {
     "data": {
      "application/vnd.jupyter.widget-view+json": {
       "model_id": "7253a99bb12542bcac5bb61ade92efc7",
       "version_major": 2,
       "version_minor": 0
      },
      "text/plain": [
       "Validation: |          | 0/? [00:00<?, ?it/s]"
      ]
     },
     "metadata": {},
     "output_type": "display_data"
    },
    {
     "data": {
      "application/vnd.jupyter.widget-view+json": {
       "model_id": "80ba32a451904ce0b235799393cb8a8b",
       "version_major": 2,
       "version_minor": 0
      },
      "text/plain": [
       "Validation: |          | 0/? [00:00<?, ?it/s]"
      ]
     },
     "metadata": {},
     "output_type": "display_data"
    },
    {
     "data": {
      "application/vnd.jupyter.widget-view+json": {
       "model_id": "1a388b79664e476ebdfcdfde8df43482",
       "version_major": 2,
       "version_minor": 0
      },
      "text/plain": [
       "Validation: |          | 0/? [00:00<?, ?it/s]"
      ]
     },
     "metadata": {},
     "output_type": "display_data"
    },
    {
     "data": {
      "application/vnd.jupyter.widget-view+json": {
       "model_id": "96838d3d5f694b4993cdf39b2b72d0eb",
       "version_major": 2,
       "version_minor": 0
      },
      "text/plain": [
       "Validation: |          | 0/? [00:00<?, ?it/s]"
      ]
     },
     "metadata": {},
     "output_type": "display_data"
    },
    {
     "data": {
      "application/vnd.jupyter.widget-view+json": {
       "model_id": "d75de4cc7fc340c9b5e351f2c7036aca",
       "version_major": 2,
       "version_minor": 0
      },
      "text/plain": [
       "Validation: |          | 0/? [00:00<?, ?it/s]"
      ]
     },
     "metadata": {},
     "output_type": "display_data"
    },
    {
     "data": {
      "application/vnd.jupyter.widget-view+json": {
       "model_id": "3b880cbac39644f794a7c0ede8662e29",
       "version_major": 2,
       "version_minor": 0
      },
      "text/plain": [
       "Validation: |          | 0/? [00:00<?, ?it/s]"
      ]
     },
     "metadata": {},
     "output_type": "display_data"
    },
    {
     "data": {
      "application/vnd.jupyter.widget-view+json": {
       "model_id": "3e311b71371245b59b7a622083adb018",
       "version_major": 2,
       "version_minor": 0
      },
      "text/plain": [
       "Validation: |          | 0/? [00:00<?, ?it/s]"
      ]
     },
     "metadata": {},
     "output_type": "display_data"
    },
    {
     "name": "stderr",
     "output_type": "stream",
     "text": [
      "Monitored metric val_loss did not improve in the last 10 records. Best score: 0.032. Signaling Trainer to stop.\n",
      "GPU available: True (cuda), used: True\n",
      "TPU available: False, using: 0 TPU cores\n",
      "HPU available: False, using: 0 HPUs\n",
      "LOCAL_RANK: 0 - CUDA_VISIBLE_DEVICES: [0]\n"
     ]
    },
    {
     "name": "stdout",
     "output_type": "stream",
     "text": [
      "Modelo carregado do checkpoint para trial 8\n"
     ]
    },
    {
     "name": "stderr",
     "output_type": "stream",
     "text": [
      "/home/eduardo/Documentos/Water-Cycle-Neural-Network/venv/lib/python3.12/site-packages/pytorch_lightning/trainer/connectors/data_connector.py:425: The 'predict_dataloader' does not have many workers which may be a bottleneck. Consider increasing the value of the `num_workers` argument` to `num_workers=11` in the `DataLoader` to improve performance.\n"
     ]
    },
    {
     "data": {
      "application/vnd.jupyter.widget-view+json": {
       "model_id": "13d5d2f2ffa64a0d9728e003a18bda5b",
       "version_major": 2,
       "version_minor": 0
      },
      "text/plain": [
       "Predicting: |          | 0/? [00:00<?, ?it/s]"
      ]
     },
     "metadata": {},
     "output_type": "display_data"
    },
    {
     "name": "stderr",
     "output_type": "stream",
     "text": [
      "[I 2025-05-14 12:38:48,891] Trial 8 finished with value: 57.18844396569119 and parameters: {'output_chunk_length': 70, 'input_chunk_length': 81, 'num_layers': 4, 'num_blocks': 3, 'num_stacks': 5, 'layer_widths': 49, 'activation': 'ReLU', 'dropout': 0.03613561447813083, 'batch_size': 36, 'lr': 0.0026527315019695594, 'forecast_horizon': 12}. Best is trial 3 with value: 50.43235393618171.\n",
      "GPU available: True (cuda), used: True\n",
      "TPU available: False, using: 0 TPU cores\n",
      "HPU available: False, using: 0 HPUs\n",
      "LOCAL_RANK: 0 - CUDA_VISIBLE_DEVICES: [0]\n",
      "\n",
      "  | Name            | Type             | Params | Mode \n",
      "-------------------------------------------------------------\n",
      "0 | criterion       | HuberLoss        | 0      | train\n",
      "1 | train_criterion | HuberLoss        | 0      | train\n",
      "2 | val_criterion   | HuberLoss        | 0      | train\n",
      "3 | train_metrics   | MetricCollection | 0      | train\n",
      "4 | val_metrics     | MetricCollection | 0      | train\n",
      "5 | stacks          | ModuleList       | 231 K  | train\n",
      "-------------------------------------------------------------\n",
      "222 K     Trainable params\n",
      "9.6 K     Non-trainable params\n",
      "231 K     Total params\n",
      "0.927     Total estimated model params size (MB)\n",
      "44        Modules in train mode\n",
      "0         Modules in eval mode\n"
     ]
    },
    {
     "name": "stdout",
     "output_type": "stream",
     "text": [
      "Iniciando a verificação das séries temporais para constância...\n",
      "\n",
      "Métricas de performance:\n",
      "                                     MSE        RMSE         MAE          R2  \\\n",
      "Temperature                     3.858127    1.964211    1.498407   -0.137055   \n",
      "Precipitation_accumulated     735.878719   27.127085   21.932995 -773.064741   \n",
      "Humidity                       36.132203    6.011007    4.515520    0.445037   \n",
      "Wind_Speed_kmh                  0.219475    0.468481    0.226164    0.359566   \n",
      "Soil_Moisture              145290.962786  381.170517  236.464655    0.804951   \n",
      "Soil_Temperature                3.656215    1.912123    1.282198    0.346529   \n",
      "Wind_Dir_Sin                    0.170203    0.412557    0.259482   -0.052675   \n",
      "Wind_Dir_Cos                    0.173398    0.416411    0.345853    0.399406   \n",
      "\n",
      "                                SMAPE  \n",
      "Temperature                 23.800291  \n",
      "Precipitation_accumulated    4.954250  \n",
      "Humidity                     5.297016  \n",
      "Wind_Speed_kmh             172.053696  \n",
      "Soil_Moisture                3.718160  \n",
      "Soil_Temperature            26.535416  \n",
      "Wind_Dir_Sin               158.266598  \n",
      "Wind_Dir_Cos                62.882125  \n",
      "O SMAPE desse fold foi 57.18844396569119\n",
      "Resultados do trial 8 salvos em optuna_iteration_metrics/trial_8.json\n",
      "Current value: 57.18844396569119, Current params: {'output_chunk_length': 70, 'input_chunk_length': 81, 'num_layers': 4, 'num_blocks': 3, 'num_stacks': 5, 'layer_widths': 49, 'activation': 'ReLU', 'dropout': 0.03613561447813083, 'batch_size': 36, 'lr': 0.0026527315019695594, 'forecast_horizon': 12}\n",
      "Best value: 50.43235393618171, Best params: {'output_chunk_length': 27, 'input_chunk_length': 38, 'num_layers': 1, 'num_blocks': 3, 'num_stacks': 2, 'layer_widths': 85, 'activation': 'GELU', 'dropout': 0.18882539432465545, 'batch_size': 37, 'lr': 0.006016691509040486, 'forecast_horizon': 12}\n",
      "\n",
      "Iniciando Trial 9\n",
      "Hiperparâmetros: {'output_chunk_length': 16, 'input_chunk_length': 31, 'num_layers': 6, 'num_blocks': 2, 'num_stacks': 1, 'layer_widths': 138, 'activation': 'ReLU', 'dropout': 0.288500883804605, 'batch_size': 45, 'lr': 0.0002935138983777014, 'forecast_horizon': 6}\n",
      "\n",
      "Treinando o modelo...\n",
      "Train set: 6647 samples\n",
      "Validation set: 1662 samples\n"
     ]
    },
    {
     "data": {
      "application/vnd.jupyter.widget-view+json": {
       "model_id": "e870d6df933349059666ce13540668d8",
       "version_major": 2,
       "version_minor": 0
      },
      "text/plain": [
       "Sanity Checking: |          | 0/? [00:00<?, ?it/s]"
      ]
     },
     "metadata": {},
     "output_type": "display_data"
    },
    {
     "name": "stderr",
     "output_type": "stream",
     "text": [
      "/home/eduardo/Documentos/Water-Cycle-Neural-Network/venv/lib/python3.12/site-packages/pytorch_lightning/trainer/connectors/data_connector.py:425: The 'val_dataloader' does not have many workers which may be a bottleneck. Consider increasing the value of the `num_workers` argument` to `num_workers=11` in the `DataLoader` to improve performance.\n",
      "/home/eduardo/Documentos/Water-Cycle-Neural-Network/venv/lib/python3.12/site-packages/pytorch_lightning/trainer/connectors/data_connector.py:425: The 'train_dataloader' does not have many workers which may be a bottleneck. Consider increasing the value of the `num_workers` argument` to `num_workers=11` in the `DataLoader` to improve performance.\n"
     ]
    },
    {
     "data": {
      "application/vnd.jupyter.widget-view+json": {
       "model_id": "e3305e17120a4bd9b71f948f7f310f8d",
       "version_major": 2,
       "version_minor": 0
      },
      "text/plain": [
       "Training: |          | 0/? [00:00<?, ?it/s]"
      ]
     },
     "metadata": {},
     "output_type": "display_data"
    },
    {
     "data": {
      "application/vnd.jupyter.widget-view+json": {
       "model_id": "e19c703a529c4e4b82f1d9889ab8ec42",
       "version_major": 2,
       "version_minor": 0
      },
      "text/plain": [
       "Validation: |          | 0/? [00:00<?, ?it/s]"
      ]
     },
     "metadata": {},
     "output_type": "display_data"
    },
    {
     "name": "stderr",
     "output_type": "stream",
     "text": [
      "Metric val_loss improved. New best score: 0.074\n"
     ]
    },
    {
     "data": {
      "application/vnd.jupyter.widget-view+json": {
       "model_id": "c1c661203fe447a39b937213ab8e4c34",
       "version_major": 2,
       "version_minor": 0
      },
      "text/plain": [
       "Validation: |          | 0/? [00:00<?, ?it/s]"
      ]
     },
     "metadata": {},
     "output_type": "display_data"
    },
    {
     "name": "stderr",
     "output_type": "stream",
     "text": [
      "Metric val_loss improved by 0.003 >= min_delta = 0.001. New best score: 0.071\n"
     ]
    },
    {
     "data": {
      "application/vnd.jupyter.widget-view+json": {
       "model_id": "8100e81874654a64ac67bd5bc2bba642",
       "version_major": 2,
       "version_minor": 0
      },
      "text/plain": [
       "Validation: |          | 0/? [00:00<?, ?it/s]"
      ]
     },
     "metadata": {},
     "output_type": "display_data"
    },
    {
     "data": {
      "application/vnd.jupyter.widget-view+json": {
       "model_id": "6d7551bd902b4386b09aac6f50108773",
       "version_major": 2,
       "version_minor": 0
      },
      "text/plain": [
       "Validation: |          | 0/? [00:00<?, ?it/s]"
      ]
     },
     "metadata": {},
     "output_type": "display_data"
    },
    {
     "data": {
      "application/vnd.jupyter.widget-view+json": {
       "model_id": "4406b4b56c3c4ee0b331b3575fa3788e",
       "version_major": 2,
       "version_minor": 0
      },
      "text/plain": [
       "Validation: |          | 0/? [00:00<?, ?it/s]"
      ]
     },
     "metadata": {},
     "output_type": "display_data"
    },
    {
     "data": {
      "application/vnd.jupyter.widget-view+json": {
       "model_id": "089e7c1a748f4afc8112713f8e41ebcd",
       "version_major": 2,
       "version_minor": 0
      },
      "text/plain": [
       "Validation: |          | 0/? [00:00<?, ?it/s]"
      ]
     },
     "metadata": {},
     "output_type": "display_data"
    },
    {
     "data": {
      "application/vnd.jupyter.widget-view+json": {
       "model_id": "1416b57c98514270a65faff6dc015141",
       "version_major": 2,
       "version_minor": 0
      },
      "text/plain": [
       "Validation: |          | 0/? [00:00<?, ?it/s]"
      ]
     },
     "metadata": {},
     "output_type": "display_data"
    },
    {
     "data": {
      "application/vnd.jupyter.widget-view+json": {
       "model_id": "a59a196a321c438bbe5e31fffbe3a074",
       "version_major": 2,
       "version_minor": 0
      },
      "text/plain": [
       "Validation: |          | 0/? [00:00<?, ?it/s]"
      ]
     },
     "metadata": {},
     "output_type": "display_data"
    },
    {
     "name": "stderr",
     "output_type": "stream",
     "text": [
      "Metric val_loss improved by 0.001 >= min_delta = 0.001. New best score: 0.070\n"
     ]
    },
    {
     "data": {
      "application/vnd.jupyter.widget-view+json": {
       "model_id": "474288bb45054daaaa207f09e1edc25f",
       "version_major": 2,
       "version_minor": 0
      },
      "text/plain": [
       "Validation: |          | 0/? [00:00<?, ?it/s]"
      ]
     },
     "metadata": {},
     "output_type": "display_data"
    },
    {
     "data": {
      "application/vnd.jupyter.widget-view+json": {
       "model_id": "16b17ef619d144a3b8ee8353df85c65e",
       "version_major": 2,
       "version_minor": 0
      },
      "text/plain": [
       "Validation: |          | 0/? [00:00<?, ?it/s]"
      ]
     },
     "metadata": {},
     "output_type": "display_data"
    },
    {
     "data": {
      "application/vnd.jupyter.widget-view+json": {
       "model_id": "0be4b9db8cd34a4e99e6536ef941d295",
       "version_major": 2,
       "version_minor": 0
      },
      "text/plain": [
       "Validation: |          | 0/? [00:00<?, ?it/s]"
      ]
     },
     "metadata": {},
     "output_type": "display_data"
    },
    {
     "data": {
      "application/vnd.jupyter.widget-view+json": {
       "model_id": "864e2ad768e2487bb40a4c5d1fe1cb8a",
       "version_major": 2,
       "version_minor": 0
      },
      "text/plain": [
       "Validation: |          | 0/? [00:00<?, ?it/s]"
      ]
     },
     "metadata": {},
     "output_type": "display_data"
    },
    {
     "data": {
      "application/vnd.jupyter.widget-view+json": {
       "model_id": "c86065ab9b214b298c4c2c60801fd7d7",
       "version_major": 2,
       "version_minor": 0
      },
      "text/plain": [
       "Validation: |          | 0/? [00:00<?, ?it/s]"
      ]
     },
     "metadata": {},
     "output_type": "display_data"
    },
    {
     "data": {
      "application/vnd.jupyter.widget-view+json": {
       "model_id": "f2a7ec7b93614f0c95433e9bf16854ae",
       "version_major": 2,
       "version_minor": 0
      },
      "text/plain": [
       "Validation: |          | 0/? [00:00<?, ?it/s]"
      ]
     },
     "metadata": {},
     "output_type": "display_data"
    },
    {
     "data": {
      "application/vnd.jupyter.widget-view+json": {
       "model_id": "a581eb181e6e45569dff616469b152b6",
       "version_major": 2,
       "version_minor": 0
      },
      "text/plain": [
       "Validation: |          | 0/? [00:00<?, ?it/s]"
      ]
     },
     "metadata": {},
     "output_type": "display_data"
    },
    {
     "data": {
      "application/vnd.jupyter.widget-view+json": {
       "model_id": "771f4c8162ee45c98699866906067ef8",
       "version_major": 2,
       "version_minor": 0
      },
      "text/plain": [
       "Validation: |          | 0/? [00:00<?, ?it/s]"
      ]
     },
     "metadata": {},
     "output_type": "display_data"
    },
    {
     "data": {
      "application/vnd.jupyter.widget-view+json": {
       "model_id": "0dc62a42adf943699a526567cca3def7",
       "version_major": 2,
       "version_minor": 0
      },
      "text/plain": [
       "Validation: |          | 0/? [00:00<?, ?it/s]"
      ]
     },
     "metadata": {},
     "output_type": "display_data"
    },
    {
     "data": {
      "application/vnd.jupyter.widget-view+json": {
       "model_id": "f59502e7f97445f5a9ebd448b704f85b",
       "version_major": 2,
       "version_minor": 0
      },
      "text/plain": [
       "Validation: |          | 0/? [00:00<?, ?it/s]"
      ]
     },
     "metadata": {},
     "output_type": "display_data"
    },
    {
     "name": "stderr",
     "output_type": "stream",
     "text": [
      "Monitored metric val_loss did not improve in the last 10 records. Best score: 0.070. Signaling Trainer to stop.\n",
      "GPU available: True (cuda), used: True\n",
      "TPU available: False, using: 0 TPU cores\n",
      "HPU available: False, using: 0 HPUs\n",
      "LOCAL_RANK: 0 - CUDA_VISIBLE_DEVICES: [0]\n"
     ]
    },
    {
     "name": "stdout",
     "output_type": "stream",
     "text": [
      "Modelo carregado do checkpoint para trial 9\n"
     ]
    },
    {
     "name": "stderr",
     "output_type": "stream",
     "text": [
      "/home/eduardo/Documentos/Water-Cycle-Neural-Network/venv/lib/python3.12/site-packages/pytorch_lightning/trainer/connectors/data_connector.py:425: The 'predict_dataloader' does not have many workers which may be a bottleneck. Consider increasing the value of the `num_workers` argument` to `num_workers=11` in the `DataLoader` to improve performance.\n"
     ]
    },
    {
     "data": {
      "application/vnd.jupyter.widget-view+json": {
       "model_id": "36002e2a60a848828cb5ad2a06c776a9",
       "version_major": 2,
       "version_minor": 0
      },
      "text/plain": [
       "Predicting: |          | 0/? [00:00<?, ?it/s]"
      ]
     },
     "metadata": {},
     "output_type": "display_data"
    },
    {
     "name": "stderr",
     "output_type": "stream",
     "text": [
      "[I 2025-05-14 12:39:11,559] Trial 9 finished with value: 116.11816949344663 and parameters: {'output_chunk_length': 16, 'input_chunk_length': 31, 'num_layers': 6, 'num_blocks': 2, 'num_stacks': 1, 'layer_widths': 138, 'activation': 'ReLU', 'dropout': 0.288500883804605, 'batch_size': 45, 'lr': 0.0002935138983777014, 'forecast_horizon': 6}. Best is trial 3 with value: 50.43235393618171.\n",
      "GPU available: True (cuda), used: True\n",
      "TPU available: False, using: 0 TPU cores\n",
      "HPU available: False, using: 0 HPUs\n",
      "LOCAL_RANK: 0 - CUDA_VISIBLE_DEVICES: [0]\n",
      "\n",
      "  | Name            | Type             | Params | Mode \n",
      "-------------------------------------------------------------\n",
      "0 | criterion       | HuberLoss        | 0      | train\n",
      "1 | train_criterion | HuberLoss        | 0      | train\n",
      "2 | val_criterion   | HuberLoss        | 0      | train\n",
      "3 | train_metrics   | MetricCollection | 0      | train\n",
      "4 | val_metrics     | MetricCollection | 0      | train\n",
      "5 | stacks          | ModuleList       | 510 K  | train\n",
      "-------------------------------------------------------------\n",
      "334 K     Trainable params\n",
      "176 K     Non-trainable params\n",
      "510 K     Total params\n",
      "2.043     Total estimated model params size (MB)\n",
      "26        Modules in train mode\n",
      "0         Modules in eval mode\n"
     ]
    },
    {
     "name": "stdout",
     "output_type": "stream",
     "text": [
      "Iniciando a verificação das séries temporais para constância...\n",
      "\n",
      "Métricas de performance:\n",
      "                                    MSE         RMSE          MAE  \\\n",
      "Temperature                2.191635e+02    14.804171    14.643893   \n",
      "Precipitation_accumulated  6.377433e+04   252.535790   252.474589   \n",
      "Humidity                   1.175025e+03    34.278632    33.327271   \n",
      "Wind_Speed_kmh             8.528241e+00     2.920315     2.873169   \n",
      "Soil_Moisture              2.508342e+06  1583.774720  1564.948235   \n",
      "Soil_Temperature           2.604543e+02    16.138595    16.023564   \n",
      "Wind_Dir_Sin               1.939940e-01     0.440447     0.245373   \n",
      "Wind_Dir_Cos               7.983907e-01     0.893527     0.843890   \n",
      "\n",
      "                                     R2       SMAPE  \n",
      "Temperature                  -63.485829  107.073244  \n",
      "Precipitation_accumulated -67146.771245   75.773150  \n",
      "Humidity                     -17.063817   49.144078  \n",
      "Wind_Speed_kmh               -23.990477  186.019976  \n",
      "Soil_Moisture                 -2.380883   23.603050  \n",
      "Soil_Temperature             -45.469793  111.114130  \n",
      "Wind_Dir_Sin                  -0.204600  187.753440  \n",
      "Wind_Dir_Cos                  -1.774712  188.464287  \n",
      "O SMAPE desse fold foi 116.11816949344663\n",
      "Resultados do trial 9 salvos em optuna_iteration_metrics/trial_9.json\n",
      "Current value: 116.11816949344663, Current params: {'output_chunk_length': 16, 'input_chunk_length': 31, 'num_layers': 6, 'num_blocks': 2, 'num_stacks': 1, 'layer_widths': 138, 'activation': 'ReLU', 'dropout': 0.288500883804605, 'batch_size': 45, 'lr': 0.0002935138983777014, 'forecast_horizon': 6}\n",
      "Best value: 50.43235393618171, Best params: {'output_chunk_length': 27, 'input_chunk_length': 38, 'num_layers': 1, 'num_blocks': 3, 'num_stacks': 2, 'layer_widths': 85, 'activation': 'GELU', 'dropout': 0.18882539432465545, 'batch_size': 37, 'lr': 0.006016691509040486, 'forecast_horizon': 12}\n",
      "\n",
      "Iniciando Trial 10\n",
      "Hiperparâmetros: {'output_chunk_length': 29, 'input_chunk_length': 40, 'num_layers': 1, 'num_blocks': 1, 'num_stacks': 2, 'layer_widths': 244, 'activation': 'ReLU', 'dropout': 0.22673143517330557, 'batch_size': 17, 'lr': 0.0006145315778052993, 'forecast_horizon': 11}\n",
      "\n",
      "Treinando o modelo...\n",
      "Train set: 6647 samples\n",
      "Validation set: 1662 samples\n"
     ]
    },
    {
     "data": {
      "application/vnd.jupyter.widget-view+json": {
       "model_id": "ee1d2755103d49098e7db131ddc21d10",
       "version_major": 2,
       "version_minor": 0
      },
      "text/plain": [
       "Sanity Checking: |          | 0/? [00:00<?, ?it/s]"
      ]
     },
     "metadata": {},
     "output_type": "display_data"
    },
    {
     "name": "stderr",
     "output_type": "stream",
     "text": [
      "/home/eduardo/Documentos/Water-Cycle-Neural-Network/venv/lib/python3.12/site-packages/pytorch_lightning/trainer/connectors/data_connector.py:425: The 'val_dataloader' does not have many workers which may be a bottleneck. Consider increasing the value of the `num_workers` argument` to `num_workers=11` in the `DataLoader` to improve performance.\n",
      "/home/eduardo/Documentos/Water-Cycle-Neural-Network/venv/lib/python3.12/site-packages/pytorch_lightning/trainer/connectors/data_connector.py:425: The 'train_dataloader' does not have many workers which may be a bottleneck. Consider increasing the value of the `num_workers` argument` to `num_workers=11` in the `DataLoader` to improve performance.\n"
     ]
    },
    {
     "data": {
      "application/vnd.jupyter.widget-view+json": {
       "model_id": "cdb24ff69a9a444e8a5944247b041067",
       "version_major": 2,
       "version_minor": 0
      },
      "text/plain": [
       "Training: |          | 0/? [00:00<?, ?it/s]"
      ]
     },
     "metadata": {},
     "output_type": "display_data"
    },
    {
     "data": {
      "application/vnd.jupyter.widget-view+json": {
       "model_id": "cdfad685c794493db8dddc57967a853f",
       "version_major": 2,
       "version_minor": 0
      },
      "text/plain": [
       "Validation: |          | 0/? [00:00<?, ?it/s]"
      ]
     },
     "metadata": {},
     "output_type": "display_data"
    },
    {
     "name": "stderr",
     "output_type": "stream",
     "text": [
      "Metric val_loss improved. New best score: 0.024\n"
     ]
    },
    {
     "data": {
      "application/vnd.jupyter.widget-view+json": {
       "model_id": "4194f8f44a3b4051aeb970ddca52a504",
       "version_major": 2,
       "version_minor": 0
      },
      "text/plain": [
       "Validation: |          | 0/? [00:00<?, ?it/s]"
      ]
     },
     "metadata": {},
     "output_type": "display_data"
    },
    {
     "data": {
      "application/vnd.jupyter.widget-view+json": {
       "model_id": "f7970b4a60264622b6936f9a86e2d98f",
       "version_major": 2,
       "version_minor": 0
      },
      "text/plain": [
       "Validation: |          | 0/? [00:00<?, ?it/s]"
      ]
     },
     "metadata": {},
     "output_type": "display_data"
    },
    {
     "data": {
      "application/vnd.jupyter.widget-view+json": {
       "model_id": "3199386755264cecb8c747906d7f0c10",
       "version_major": 2,
       "version_minor": 0
      },
      "text/plain": [
       "Validation: |          | 0/? [00:00<?, ?it/s]"
      ]
     },
     "metadata": {},
     "output_type": "display_data"
    },
    {
     "data": {
      "application/vnd.jupyter.widget-view+json": {
       "model_id": "745bbee5866d4ac988caf5acf95e8849",
       "version_major": 2,
       "version_minor": 0
      },
      "text/plain": [
       "Validation: |          | 0/? [00:00<?, ?it/s]"
      ]
     },
     "metadata": {},
     "output_type": "display_data"
    },
    {
     "data": {
      "application/vnd.jupyter.widget-view+json": {
       "model_id": "8317ac3b40f04ef084a96d5e2d2b7b33",
       "version_major": 2,
       "version_minor": 0
      },
      "text/plain": [
       "Validation: |          | 0/? [00:00<?, ?it/s]"
      ]
     },
     "metadata": {},
     "output_type": "display_data"
    },
    {
     "data": {
      "application/vnd.jupyter.widget-view+json": {
       "model_id": "e297e70f946840c9b7ad61d5778e30c7",
       "version_major": 2,
       "version_minor": 0
      },
      "text/plain": [
       "Validation: |          | 0/? [00:00<?, ?it/s]"
      ]
     },
     "metadata": {},
     "output_type": "display_data"
    },
    {
     "data": {
      "application/vnd.jupyter.widget-view+json": {
       "model_id": "5cc125659d354137bdb9feccfa3e3da5",
       "version_major": 2,
       "version_minor": 0
      },
      "text/plain": [
       "Validation: |          | 0/? [00:00<?, ?it/s]"
      ]
     },
     "metadata": {},
     "output_type": "display_data"
    },
    {
     "data": {
      "application/vnd.jupyter.widget-view+json": {
       "model_id": "e6819f89eed74c0d8998bfc7580639bc",
       "version_major": 2,
       "version_minor": 0
      },
      "text/plain": [
       "Validation: |          | 0/? [00:00<?, ?it/s]"
      ]
     },
     "metadata": {},
     "output_type": "display_data"
    },
    {
     "data": {
      "application/vnd.jupyter.widget-view+json": {
       "model_id": "c0e2e3ee44fe4473b832cc9aec327558",
       "version_major": 2,
       "version_minor": 0
      },
      "text/plain": [
       "Validation: |          | 0/? [00:00<?, ?it/s]"
      ]
     },
     "metadata": {},
     "output_type": "display_data"
    },
    {
     "data": {
      "application/vnd.jupyter.widget-view+json": {
       "model_id": "a022d30eb7114b42ae3bc11459d4a7df",
       "version_major": 2,
       "version_minor": 0
      },
      "text/plain": [
       "Validation: |          | 0/? [00:00<?, ?it/s]"
      ]
     },
     "metadata": {},
     "output_type": "display_data"
    },
    {
     "name": "stderr",
     "output_type": "stream",
     "text": [
      "Monitored metric val_loss did not improve in the last 10 records. Best score: 0.024. Signaling Trainer to stop.\n",
      "GPU available: True (cuda), used: True\n",
      "TPU available: False, using: 0 TPU cores\n",
      "HPU available: False, using: 0 HPUs\n",
      "LOCAL_RANK: 0 - CUDA_VISIBLE_DEVICES: [0]\n"
     ]
    },
    {
     "name": "stdout",
     "output_type": "stream",
     "text": [
      "Modelo carregado do checkpoint para trial 10\n"
     ]
    },
    {
     "name": "stderr",
     "output_type": "stream",
     "text": [
      "/home/eduardo/Documentos/Water-Cycle-Neural-Network/venv/lib/python3.12/site-packages/pytorch_lightning/trainer/connectors/data_connector.py:425: The 'predict_dataloader' does not have many workers which may be a bottleneck. Consider increasing the value of the `num_workers` argument` to `num_workers=11` in the `DataLoader` to improve performance.\n"
     ]
    },
    {
     "data": {
      "application/vnd.jupyter.widget-view+json": {
       "model_id": "7eb3044dd6b54913826e03550fb69b4c",
       "version_major": 2,
       "version_minor": 0
      },
      "text/plain": [
       "Predicting: |          | 0/? [00:00<?, ?it/s]"
      ]
     },
     "metadata": {},
     "output_type": "display_data"
    },
    {
     "name": "stderr",
     "output_type": "stream",
     "text": [
      "[I 2025-05-14 12:39:36,899] Trial 10 finished with value: 60.065859214082224 and parameters: {'output_chunk_length': 29, 'input_chunk_length': 40, 'num_layers': 1, 'num_blocks': 1, 'num_stacks': 2, 'layer_widths': 244, 'activation': 'ReLU', 'dropout': 0.22673143517330557, 'batch_size': 17, 'lr': 0.0006145315778052993, 'forecast_horizon': 11}. Best is trial 3 with value: 50.43235393618171.\n",
      "GPU available: True (cuda), used: True\n",
      "TPU available: False, using: 0 TPU cores\n",
      "HPU available: False, using: 0 HPUs\n",
      "LOCAL_RANK: 0 - CUDA_VISIBLE_DEVICES: [0]\n",
      "\n",
      "  | Name            | Type             | Params | Mode \n",
      "-------------------------------------------------------------\n",
      "0 | criterion       | HuberLoss        | 0      | train\n",
      "1 | train_criterion | HuberLoss        | 0      | train\n",
      "2 | val_criterion   | HuberLoss        | 0      | train\n",
      "3 | train_metrics   | MetricCollection | 0      | train\n",
      "4 | val_metrics     | MetricCollection | 0      | train\n",
      "5 | stacks          | ModuleList       | 914 K  | train\n",
      "-------------------------------------------------------------\n",
      "848 K     Trainable params\n",
      "66.1 K    Non-trainable params\n",
      "914 K     Total params\n",
      "3.657     Total estimated model params size (MB)\n",
      "110       Modules in train mode\n",
      "0         Modules in eval mode\n"
     ]
    },
    {
     "name": "stdout",
     "output_type": "stream",
     "text": [
      "Iniciando a verificação das séries temporais para constância...\n",
      "\n",
      "Métricas de performance:\n",
      "                                     MSE        RMSE         MAE           R2  \\\n",
      "Temperature                     6.414944    2.532774    2.068734    -0.890241   \n",
      "Precipitation_accumulated    1235.798478   35.153925   29.776041 -1299.130853   \n",
      "Humidity                       40.041706    6.327852    4.912294     0.384898   \n",
      "Wind_Speed_kmh                  0.299641    0.547395    0.375656     0.125024   \n",
      "Soil_Moisture              205342.545934  453.147378  272.406671     0.724149   \n",
      "Soil_Temperature                4.968320    2.228973    1.908159     0.112253   \n",
      "Wind_Dir_Sin                    0.127931    0.357675    0.212628     0.208244   \n",
      "Wind_Dir_Cos                    0.155769    0.394676    0.298290     0.460163   \n",
      "\n",
      "                                SMAPE  \n",
      "Temperature                 30.823211  \n",
      "Precipitation_accumulated    6.652469  \n",
      "Humidity                     5.896131  \n",
      "Wind_Speed_kmh             177.674833  \n",
      "Soil_Moisture                4.289859  \n",
      "Soil_Temperature            32.551660  \n",
      "Wind_Dir_Sin               163.704369  \n",
      "Wind_Dir_Cos                58.934342  \n",
      "O SMAPE desse fold foi 60.065859214082224\n",
      "Resultados do trial 10 salvos em optuna_iteration_metrics/trial_10.json\n",
      "Current value: 60.065859214082224, Current params: {'output_chunk_length': 29, 'input_chunk_length': 40, 'num_layers': 1, 'num_blocks': 1, 'num_stacks': 2, 'layer_widths': 244, 'activation': 'ReLU', 'dropout': 0.22673143517330557, 'batch_size': 17, 'lr': 0.0006145315778052993, 'forecast_horizon': 11}\n",
      "Best value: 50.43235393618171, Best params: {'output_chunk_length': 27, 'input_chunk_length': 38, 'num_layers': 1, 'num_blocks': 3, 'num_stacks': 2, 'layer_widths': 85, 'activation': 'GELU', 'dropout': 0.18882539432465545, 'batch_size': 37, 'lr': 0.006016691509040486, 'forecast_horizon': 12}\n",
      "\n",
      "Iniciando Trial 11\n",
      "Hiperparâmetros: {'output_chunk_length': 48, 'input_chunk_length': 54, 'num_layers': 1, 'num_blocks': 3, 'num_stacks': 4, 'layer_widths': 67, 'activation': 'GELU', 'dropout': 0.1625307524154568, 'batch_size': 47, 'lr': 1.2056908090743443e-05, 'forecast_horizon': 8}\n",
      "\n",
      "Treinando o modelo...\n",
      "Train set: 6647 samples\n",
      "Validation set: 1662 samples\n"
     ]
    },
    {
     "data": {
      "application/vnd.jupyter.widget-view+json": {
       "model_id": "acf400c99d7742a6bb8ec67c3c79f1d1",
       "version_major": 2,
       "version_minor": 0
      },
      "text/plain": [
       "Sanity Checking: |          | 0/? [00:00<?, ?it/s]"
      ]
     },
     "metadata": {},
     "output_type": "display_data"
    },
    {
     "name": "stderr",
     "output_type": "stream",
     "text": [
      "/home/eduardo/Documentos/Water-Cycle-Neural-Network/venv/lib/python3.12/site-packages/pytorch_lightning/trainer/connectors/data_connector.py:425: The 'val_dataloader' does not have many workers which may be a bottleneck. Consider increasing the value of the `num_workers` argument` to `num_workers=11` in the `DataLoader` to improve performance.\n",
      "/home/eduardo/Documentos/Water-Cycle-Neural-Network/venv/lib/python3.12/site-packages/pytorch_lightning/trainer/connectors/data_connector.py:425: The 'train_dataloader' does not have many workers which may be a bottleneck. Consider increasing the value of the `num_workers` argument` to `num_workers=11` in the `DataLoader` to improve performance.\n"
     ]
    },
    {
     "data": {
      "application/vnd.jupyter.widget-view+json": {
       "model_id": "318c5d2747db4abf861a4c74eb11fec7",
       "version_major": 2,
       "version_minor": 0
      },
      "text/plain": [
       "Training: |          | 0/? [00:00<?, ?it/s]"
      ]
     },
     "metadata": {},
     "output_type": "display_data"
    },
    {
     "data": {
      "application/vnd.jupyter.widget-view+json": {
       "model_id": "c35d2fc632c24b61b599bacbcda8ad89",
       "version_major": 2,
       "version_minor": 0
      },
      "text/plain": [
       "Validation: |          | 0/? [00:00<?, ?it/s]"
      ]
     },
     "metadata": {},
     "output_type": "display_data"
    },
    {
     "name": "stderr",
     "output_type": "stream",
     "text": [
      "Metric val_loss improved. New best score: 0.082\n"
     ]
    },
    {
     "data": {
      "application/vnd.jupyter.widget-view+json": {
       "model_id": "951d5ed1938843d593b3c9e2093c8038",
       "version_major": 2,
       "version_minor": 0
      },
      "text/plain": [
       "Validation: |          | 0/? [00:00<?, ?it/s]"
      ]
     },
     "metadata": {},
     "output_type": "display_data"
    },
    {
     "name": "stderr",
     "output_type": "stream",
     "text": [
      "Metric val_loss improved by 0.024 >= min_delta = 0.001. New best score: 0.058\n"
     ]
    },
    {
     "data": {
      "application/vnd.jupyter.widget-view+json": {
       "model_id": "aa3a60aab8a54a02921f4e3994708060",
       "version_major": 2,
       "version_minor": 0
      },
      "text/plain": [
       "Validation: |          | 0/? [00:00<?, ?it/s]"
      ]
     },
     "metadata": {},
     "output_type": "display_data"
    },
    {
     "name": "stderr",
     "output_type": "stream",
     "text": [
      "Metric val_loss improved by 0.006 >= min_delta = 0.001. New best score: 0.053\n"
     ]
    },
    {
     "data": {
      "application/vnd.jupyter.widget-view+json": {
       "model_id": "75a685871481482a93d8a02924b76490",
       "version_major": 2,
       "version_minor": 0
      },
      "text/plain": [
       "Validation: |          | 0/? [00:00<?, ?it/s]"
      ]
     },
     "metadata": {},
     "output_type": "display_data"
    },
    {
     "name": "stderr",
     "output_type": "stream",
     "text": [
      "Metric val_loss improved by 0.003 >= min_delta = 0.001. New best score: 0.050\n"
     ]
    },
    {
     "data": {
      "application/vnd.jupyter.widget-view+json": {
       "model_id": "0c36c1aab5ca43e3b57a05f85c7c3014",
       "version_major": 2,
       "version_minor": 0
      },
      "text/plain": [
       "Validation: |          | 0/? [00:00<?, ?it/s]"
      ]
     },
     "metadata": {},
     "output_type": "display_data"
    },
    {
     "name": "stderr",
     "output_type": "stream",
     "text": [
      "Metric val_loss improved by 0.002 >= min_delta = 0.001. New best score: 0.048\n"
     ]
    },
    {
     "data": {
      "application/vnd.jupyter.widget-view+json": {
       "model_id": "5dbff99187894444989e97da331f60c3",
       "version_major": 2,
       "version_minor": 0
      },
      "text/plain": [
       "Validation: |          | 0/? [00:00<?, ?it/s]"
      ]
     },
     "metadata": {},
     "output_type": "display_data"
    },
    {
     "name": "stderr",
     "output_type": "stream",
     "text": [
      "Metric val_loss improved by 0.002 >= min_delta = 0.001. New best score: 0.046\n"
     ]
    },
    {
     "data": {
      "application/vnd.jupyter.widget-view+json": {
       "model_id": "249446310ee7447f9b0f4b5d8d9b1c32",
       "version_major": 2,
       "version_minor": 0
      },
      "text/plain": [
       "Validation: |          | 0/? [00:00<?, ?it/s]"
      ]
     },
     "metadata": {},
     "output_type": "display_data"
    },
    {
     "name": "stderr",
     "output_type": "stream",
     "text": [
      "Metric val_loss improved by 0.001 >= min_delta = 0.001. New best score: 0.045\n"
     ]
    },
    {
     "data": {
      "application/vnd.jupyter.widget-view+json": {
       "model_id": "230963f89a1c4a8d8d6e313984937742",
       "version_major": 2,
       "version_minor": 0
      },
      "text/plain": [
       "Validation: |          | 0/? [00:00<?, ?it/s]"
      ]
     },
     "metadata": {},
     "output_type": "display_data"
    },
    {
     "name": "stderr",
     "output_type": "stream",
     "text": [
      "Metric val_loss improved by 0.001 >= min_delta = 0.001. New best score: 0.043\n"
     ]
    },
    {
     "data": {
      "application/vnd.jupyter.widget-view+json": {
       "model_id": "2443a9ad96b44efe95916174318f4058",
       "version_major": 2,
       "version_minor": 0
      },
      "text/plain": [
       "Validation: |          | 0/? [00:00<?, ?it/s]"
      ]
     },
     "metadata": {},
     "output_type": "display_data"
    },
    {
     "name": "stderr",
     "output_type": "stream",
     "text": [
      "Metric val_loss improved by 0.001 >= min_delta = 0.001. New best score: 0.042\n"
     ]
    },
    {
     "data": {
      "application/vnd.jupyter.widget-view+json": {
       "model_id": "be68c4169141443fa6fa72edf7cf4ac7",
       "version_major": 2,
       "version_minor": 0
      },
      "text/plain": [
       "Validation: |          | 0/? [00:00<?, ?it/s]"
      ]
     },
     "metadata": {},
     "output_type": "display_data"
    },
    {
     "data": {
      "application/vnd.jupyter.widget-view+json": {
       "model_id": "e64d0eb85a0c4106aeaf1f8607b972f8",
       "version_major": 2,
       "version_minor": 0
      },
      "text/plain": [
       "Validation: |          | 0/? [00:00<?, ?it/s]"
      ]
     },
     "metadata": {},
     "output_type": "display_data"
    },
    {
     "name": "stderr",
     "output_type": "stream",
     "text": [
      "Metric val_loss improved by 0.002 >= min_delta = 0.001. New best score: 0.040\n"
     ]
    },
    {
     "data": {
      "application/vnd.jupyter.widget-view+json": {
       "model_id": "50e96a04b1124107b0fa579935683dd5",
       "version_major": 2,
       "version_minor": 0
      },
      "text/plain": [
       "Validation: |          | 0/? [00:00<?, ?it/s]"
      ]
     },
     "metadata": {},
     "output_type": "display_data"
    },
    {
     "name": "stderr",
     "output_type": "stream",
     "text": [
      "Metric val_loss improved by 0.001 >= min_delta = 0.001. New best score: 0.039\n"
     ]
    },
    {
     "data": {
      "application/vnd.jupyter.widget-view+json": {
       "model_id": "d7d7bd1a2e174f6f9dcda536c2533ffe",
       "version_major": 2,
       "version_minor": 0
      },
      "text/plain": [
       "Validation: |          | 0/? [00:00<?, ?it/s]"
      ]
     },
     "metadata": {},
     "output_type": "display_data"
    },
    {
     "name": "stderr",
     "output_type": "stream",
     "text": [
      "Metric val_loss improved by 0.001 >= min_delta = 0.001. New best score: 0.038\n"
     ]
    },
    {
     "data": {
      "application/vnd.jupyter.widget-view+json": {
       "model_id": "b48103d13c654e41bce17ec1742d7cee",
       "version_major": 2,
       "version_minor": 0
      },
      "text/plain": [
       "Validation: |          | 0/? [00:00<?, ?it/s]"
      ]
     },
     "metadata": {},
     "output_type": "display_data"
    },
    {
     "data": {
      "application/vnd.jupyter.widget-view+json": {
       "model_id": "67d4ce5122b84cf0b2e6c8d60b30ba71",
       "version_major": 2,
       "version_minor": 0
      },
      "text/plain": [
       "Validation: |          | 0/? [00:00<?, ?it/s]"
      ]
     },
     "metadata": {},
     "output_type": "display_data"
    },
    {
     "name": "stderr",
     "output_type": "stream",
     "text": [
      "Metric val_loss improved by 0.002 >= min_delta = 0.001. New best score: 0.036\n"
     ]
    },
    {
     "data": {
      "application/vnd.jupyter.widget-view+json": {
       "model_id": "a7e0fae15da343578323e2ac8d412624",
       "version_major": 2,
       "version_minor": 0
      },
      "text/plain": [
       "Validation: |          | 0/? [00:00<?, ?it/s]"
      ]
     },
     "metadata": {},
     "output_type": "display_data"
    },
    {
     "data": {
      "application/vnd.jupyter.widget-view+json": {
       "model_id": "af2053074b24453aa124da4a1949859d",
       "version_major": 2,
       "version_minor": 0
      },
      "text/plain": [
       "Validation: |          | 0/? [00:00<?, ?it/s]"
      ]
     },
     "metadata": {},
     "output_type": "display_data"
    },
    {
     "name": "stderr",
     "output_type": "stream",
     "text": [
      "Metric val_loss improved by 0.002 >= min_delta = 0.001. New best score: 0.034\n"
     ]
    },
    {
     "data": {
      "application/vnd.jupyter.widget-view+json": {
       "model_id": "83f1ca73aeb8450399901488fd83689d",
       "version_major": 2,
       "version_minor": 0
      },
      "text/plain": [
       "Validation: |          | 0/? [00:00<?, ?it/s]"
      ]
     },
     "metadata": {},
     "output_type": "display_data"
    },
    {
     "data": {
      "application/vnd.jupyter.widget-view+json": {
       "model_id": "158b5157b80f4e3c84bc33dcf121d9d8",
       "version_major": 2,
       "version_minor": 0
      },
      "text/plain": [
       "Validation: |          | 0/? [00:00<?, ?it/s]"
      ]
     },
     "metadata": {},
     "output_type": "display_data"
    },
    {
     "name": "stderr",
     "output_type": "stream",
     "text": [
      "Metric val_loss improved by 0.001 >= min_delta = 0.001. New best score: 0.033\n"
     ]
    },
    {
     "data": {
      "application/vnd.jupyter.widget-view+json": {
       "model_id": "f4b39776ce6d47aba6564074a1604870",
       "version_major": 2,
       "version_minor": 0
      },
      "text/plain": [
       "Validation: |          | 0/? [00:00<?, ?it/s]"
      ]
     },
     "metadata": {},
     "output_type": "display_data"
    },
    {
     "data": {
      "application/vnd.jupyter.widget-view+json": {
       "model_id": "8cdf4ca6d08a42c69723169ff33c51a9",
       "version_major": 2,
       "version_minor": 0
      },
      "text/plain": [
       "Validation: |          | 0/? [00:00<?, ?it/s]"
      ]
     },
     "metadata": {},
     "output_type": "display_data"
    },
    {
     "name": "stderr",
     "output_type": "stream",
     "text": [
      "Metric val_loss improved by 0.002 >= min_delta = 0.001. New best score: 0.031\n"
     ]
    },
    {
     "data": {
      "application/vnd.jupyter.widget-view+json": {
       "model_id": "2fc55244587b42aa8ba1a8570f012dd0",
       "version_major": 2,
       "version_minor": 0
      },
      "text/plain": [
       "Validation: |          | 0/? [00:00<?, ?it/s]"
      ]
     },
     "metadata": {},
     "output_type": "display_data"
    },
    {
     "data": {
      "application/vnd.jupyter.widget-view+json": {
       "model_id": "de87a6aa41a24cdf87a2160161add360",
       "version_major": 2,
       "version_minor": 0
      },
      "text/plain": [
       "Validation: |          | 0/? [00:00<?, ?it/s]"
      ]
     },
     "metadata": {},
     "output_type": "display_data"
    },
    {
     "name": "stderr",
     "output_type": "stream",
     "text": [
      "Metric val_loss improved by 0.001 >= min_delta = 0.001. New best score: 0.030\n"
     ]
    },
    {
     "data": {
      "application/vnd.jupyter.widget-view+json": {
       "model_id": "3fa6de3c40dc487fa34f8aa6a51522e9",
       "version_major": 2,
       "version_minor": 0
      },
      "text/plain": [
       "Validation: |          | 0/? [00:00<?, ?it/s]"
      ]
     },
     "metadata": {},
     "output_type": "display_data"
    },
    {
     "data": {
      "application/vnd.jupyter.widget-view+json": {
       "model_id": "9c54b13b08f248a6967a2927d6cf8cc2",
       "version_major": 2,
       "version_minor": 0
      },
      "text/plain": [
       "Validation: |          | 0/? [00:00<?, ?it/s]"
      ]
     },
     "metadata": {},
     "output_type": "display_data"
    },
    {
     "name": "stderr",
     "output_type": "stream",
     "text": [
      "Metric val_loss improved by 0.001 >= min_delta = 0.001. New best score: 0.029\n"
     ]
    },
    {
     "data": {
      "application/vnd.jupyter.widget-view+json": {
       "model_id": "91838bac85c04999bbc6b5a6c8eb501e",
       "version_major": 2,
       "version_minor": 0
      },
      "text/plain": [
       "Validation: |          | 0/? [00:00<?, ?it/s]"
      ]
     },
     "metadata": {},
     "output_type": "display_data"
    },
    {
     "data": {
      "application/vnd.jupyter.widget-view+json": {
       "model_id": "70ddb6e45624434484429b465c427dac",
       "version_major": 2,
       "version_minor": 0
      },
      "text/plain": [
       "Validation: |          | 0/? [00:00<?, ?it/s]"
      ]
     },
     "metadata": {},
     "output_type": "display_data"
    },
    {
     "data": {
      "application/vnd.jupyter.widget-view+json": {
       "model_id": "f6fb56cd95dc4bad88699d92c86eb93d",
       "version_major": 2,
       "version_minor": 0
      },
      "text/plain": [
       "Validation: |          | 0/? [00:00<?, ?it/s]"
      ]
     },
     "metadata": {},
     "output_type": "display_data"
    },
    {
     "name": "stderr",
     "output_type": "stream",
     "text": [
      "Metric val_loss improved by 0.002 >= min_delta = 0.001. New best score: 0.027\n"
     ]
    },
    {
     "data": {
      "application/vnd.jupyter.widget-view+json": {
       "model_id": "abb4e906ff434b0d995f17efefe34ad0",
       "version_major": 2,
       "version_minor": 0
      },
      "text/plain": [
       "Validation: |          | 0/? [00:00<?, ?it/s]"
      ]
     },
     "metadata": {},
     "output_type": "display_data"
    },
    {
     "data": {
      "application/vnd.jupyter.widget-view+json": {
       "model_id": "a5b06ce11a3548fa9ab509454b3487af",
       "version_major": 2,
       "version_minor": 0
      },
      "text/plain": [
       "Validation: |          | 0/? [00:00<?, ?it/s]"
      ]
     },
     "metadata": {},
     "output_type": "display_data"
    },
    {
     "name": "stderr",
     "output_type": "stream",
     "text": [
      "`Trainer.fit` stopped: `max_epochs=30` reached.\n",
      "GPU available: True (cuda), used: True\n",
      "TPU available: False, using: 0 TPU cores\n",
      "HPU available: False, using: 0 HPUs\n",
      "LOCAL_RANK: 0 - CUDA_VISIBLE_DEVICES: [0]\n"
     ]
    },
    {
     "name": "stdout",
     "output_type": "stream",
     "text": [
      "Modelo carregado do checkpoint para trial 11\n"
     ]
    },
    {
     "name": "stderr",
     "output_type": "stream",
     "text": [
      "/home/eduardo/Documentos/Water-Cycle-Neural-Network/venv/lib/python3.12/site-packages/pytorch_lightning/trainer/connectors/data_connector.py:425: The 'predict_dataloader' does not have many workers which may be a bottleneck. Consider increasing the value of the `num_workers` argument` to `num_workers=11` in the `DataLoader` to improve performance.\n"
     ]
    },
    {
     "data": {
      "application/vnd.jupyter.widget-view+json": {
       "model_id": "4f8f196f925a4b0dad6a269548da7ea4",
       "version_major": 2,
       "version_minor": 0
      },
      "text/plain": [
       "Predicting: |          | 0/? [00:00<?, ?it/s]"
      ]
     },
     "metadata": {},
     "output_type": "display_data"
    },
    {
     "name": "stderr",
     "output_type": "stream",
     "text": [
      "[I 2025-05-14 12:40:44,020] Trial 11 finished with value: 59.14252846275559 and parameters: {'output_chunk_length': 48, 'input_chunk_length': 54, 'num_layers': 1, 'num_blocks': 3, 'num_stacks': 4, 'layer_widths': 67, 'activation': 'GELU', 'dropout': 0.1625307524154568, 'batch_size': 47, 'lr': 1.2056908090743443e-05, 'forecast_horizon': 8}. Best is trial 3 with value: 50.43235393618171.\n",
      "GPU available: True (cuda), used: True\n",
      "TPU available: False, using: 0 TPU cores\n",
      "HPU available: False, using: 0 HPUs\n",
      "LOCAL_RANK: 0 - CUDA_VISIBLE_DEVICES: [0]\n",
      "\n",
      "  | Name            | Type             | Params | Mode \n",
      "-------------------------------------------------------------\n",
      "0 | criterion       | HuberLoss        | 0      | train\n",
      "1 | train_criterion | HuberLoss        | 0      | train\n",
      "2 | val_criterion   | HuberLoss        | 0      | train\n",
      "3 | train_metrics   | MetricCollection | 0      | train\n",
      "4 | val_metrics     | MetricCollection | 0      | train\n",
      "5 | stacks          | ModuleList       | 824 K  | train\n",
      "-------------------------------------------------------------\n",
      "755 K     Trainable params\n",
      "68.6 K    Non-trainable params\n",
      "824 K     Total params\n",
      "3.296     Total estimated model params size (MB)\n",
      "102       Modules in train mode\n",
      "0         Modules in eval mode\n"
     ]
    },
    {
     "name": "stdout",
     "output_type": "stream",
     "text": [
      "Iniciando a verificação das séries temporais para constância...\n",
      "\n",
      "Métricas de performance:\n",
      "                                     MSE        RMSE         MAE          R2  \\\n",
      "Temperature                     7.717093    2.777966    2.085664   -1.272184   \n",
      "Precipitation_accumulated     768.174627   27.715963   16.091447 -807.548856   \n",
      "Humidity                       25.261665    5.026098    3.829239    0.611780   \n",
      "Wind_Speed_kmh                  0.245040    0.495015    0.257625    0.282958   \n",
      "Soil_Moisture              230695.705404  480.307928  290.227959    0.689469   \n",
      "Soil_Temperature                5.748200    2.397540    1.823853   -0.026201   \n",
      "Wind_Dir_Sin                    0.137123    0.370301    0.252275    0.149669   \n",
      "Wind_Dir_Cos                    0.150824    0.388361    0.273517    0.476417   \n",
      "\n",
      "                                SMAPE  \n",
      "Temperature                 41.535570  \n",
      "Precipitation_accumulated    3.690256  \n",
      "Humidity                     4.532191  \n",
      "Wind_Speed_kmh             166.525918  \n",
      "Soil_Moisture                4.560242  \n",
      "Soil_Temperature            32.421528  \n",
      "Wind_Dir_Sin               163.715522  \n",
      "Wind_Dir_Cos                56.159000  \n",
      "O SMAPE desse fold foi 59.14252846275559\n",
      "Resultados do trial 11 salvos em optuna_iteration_metrics/trial_11.json\n",
      "Current value: 59.14252846275559, Current params: {'output_chunk_length': 48, 'input_chunk_length': 54, 'num_layers': 1, 'num_blocks': 3, 'num_stacks': 4, 'layer_widths': 67, 'activation': 'GELU', 'dropout': 0.1625307524154568, 'batch_size': 47, 'lr': 1.2056908090743443e-05, 'forecast_horizon': 8}\n",
      "Best value: 50.43235393618171, Best params: {'output_chunk_length': 27, 'input_chunk_length': 38, 'num_layers': 1, 'num_blocks': 3, 'num_stacks': 2, 'layer_widths': 85, 'activation': 'GELU', 'dropout': 0.18882539432465545, 'batch_size': 37, 'lr': 0.006016691509040486, 'forecast_horizon': 12}\n",
      "\n",
      "Iniciando Trial 12\n",
      "Hiperparâmetros: {'output_chunk_length': 27, 'input_chunk_length': 41, 'num_layers': 2, 'num_blocks': 3, 'num_stacks': 3, 'layer_widths': 92, 'activation': 'GELU', 'dropout': 0.12895367440170238, 'batch_size': 37, 'lr': 0.008849638912463495, 'forecast_horizon': 16}\n",
      "\n",
      "Treinando o modelo...\n",
      "Train set: 6647 samples\n",
      "Validation set: 1662 samples\n"
     ]
    },
    {
     "data": {
      "application/vnd.jupyter.widget-view+json": {
       "model_id": "3300c514a52545f8a677ff3dfa77d12a",
       "version_major": 2,
       "version_minor": 0
      },
      "text/plain": [
       "Sanity Checking: |          | 0/? [00:00<?, ?it/s]"
      ]
     },
     "metadata": {},
     "output_type": "display_data"
    },
    {
     "name": "stderr",
     "output_type": "stream",
     "text": [
      "/home/eduardo/Documentos/Water-Cycle-Neural-Network/venv/lib/python3.12/site-packages/pytorch_lightning/trainer/connectors/data_connector.py:425: The 'val_dataloader' does not have many workers which may be a bottleneck. Consider increasing the value of the `num_workers` argument` to `num_workers=11` in the `DataLoader` to improve performance.\n",
      "/home/eduardo/Documentos/Water-Cycle-Neural-Network/venv/lib/python3.12/site-packages/pytorch_lightning/trainer/connectors/data_connector.py:425: The 'train_dataloader' does not have many workers which may be a bottleneck. Consider increasing the value of the `num_workers` argument` to `num_workers=11` in the `DataLoader` to improve performance.\n"
     ]
    },
    {
     "data": {
      "application/vnd.jupyter.widget-view+json": {
       "model_id": "fd916a0827c9449d84e927266a1caa07",
       "version_major": 2,
       "version_minor": 0
      },
      "text/plain": [
       "Training: |          | 0/? [00:00<?, ?it/s]"
      ]
     },
     "metadata": {},
     "output_type": "display_data"
    },
    {
     "data": {
      "application/vnd.jupyter.widget-view+json": {
       "model_id": "09b7e4b555a74926acd6c39f965a0178",
       "version_major": 2,
       "version_minor": 0
      },
      "text/plain": [
       "Validation: |          | 0/? [00:00<?, ?it/s]"
      ]
     },
     "metadata": {},
     "output_type": "display_data"
    },
    {
     "name": "stderr",
     "output_type": "stream",
     "text": [
      "Metric val_loss improved. New best score: 0.030\n"
     ]
    },
    {
     "data": {
      "application/vnd.jupyter.widget-view+json": {
       "model_id": "0ccdc0495bc447b7907c236fcfda00b5",
       "version_major": 2,
       "version_minor": 0
      },
      "text/plain": [
       "Validation: |          | 0/? [00:00<?, ?it/s]"
      ]
     },
     "metadata": {},
     "output_type": "display_data"
    },
    {
     "name": "stderr",
     "output_type": "stream",
     "text": [
      "Metric val_loss improved by 0.001 >= min_delta = 0.001. New best score: 0.028\n"
     ]
    },
    {
     "data": {
      "application/vnd.jupyter.widget-view+json": {
       "model_id": "af5d73831cc64f3ab0e958dcd9dced04",
       "version_major": 2,
       "version_minor": 0
      },
      "text/plain": [
       "Validation: |          | 0/? [00:00<?, ?it/s]"
      ]
     },
     "metadata": {},
     "output_type": "display_data"
    },
    {
     "name": "stderr",
     "output_type": "stream",
     "text": [
      "Metric val_loss improved by 0.002 >= min_delta = 0.001. New best score: 0.026\n"
     ]
    },
    {
     "data": {
      "application/vnd.jupyter.widget-view+json": {
       "model_id": "12d4972d5d1c4cf4ad31d0867bd68004",
       "version_major": 2,
       "version_minor": 0
      },
      "text/plain": [
       "Validation: |          | 0/? [00:00<?, ?it/s]"
      ]
     },
     "metadata": {},
     "output_type": "display_data"
    },
    {
     "data": {
      "application/vnd.jupyter.widget-view+json": {
       "model_id": "3d76b3bc7cf24494ab2e4054d2df966c",
       "version_major": 2,
       "version_minor": 0
      },
      "text/plain": [
       "Validation: |          | 0/? [00:00<?, ?it/s]"
      ]
     },
     "metadata": {},
     "output_type": "display_data"
    },
    {
     "data": {
      "application/vnd.jupyter.widget-view+json": {
       "model_id": "cec25299050d47f49df6a74456485272",
       "version_major": 2,
       "version_minor": 0
      },
      "text/plain": [
       "Validation: |          | 0/? [00:00<?, ?it/s]"
      ]
     },
     "metadata": {},
     "output_type": "display_data"
    },
    {
     "data": {
      "application/vnd.jupyter.widget-view+json": {
       "model_id": "0989a3e3b1b247d89ce077f3891c6d90",
       "version_major": 2,
       "version_minor": 0
      },
      "text/plain": [
       "Validation: |          | 0/? [00:00<?, ?it/s]"
      ]
     },
     "metadata": {},
     "output_type": "display_data"
    },
    {
     "data": {
      "application/vnd.jupyter.widget-view+json": {
       "model_id": "fa218feb648e43318b29bb95c92276f4",
       "version_major": 2,
       "version_minor": 0
      },
      "text/plain": [
       "Validation: |          | 0/? [00:00<?, ?it/s]"
      ]
     },
     "metadata": {},
     "output_type": "display_data"
    },
    {
     "data": {
      "application/vnd.jupyter.widget-view+json": {
       "model_id": "c56352f7b41e4a2492142ce1365a2f59",
       "version_major": 2,
       "version_minor": 0
      },
      "text/plain": [
       "Validation: |          | 0/? [00:00<?, ?it/s]"
      ]
     },
     "metadata": {},
     "output_type": "display_data"
    },
    {
     "data": {
      "application/vnd.jupyter.widget-view+json": {
       "model_id": "9d50469ca2b54a31b0a6801830c4fb27",
       "version_major": 2,
       "version_minor": 0
      },
      "text/plain": [
       "Validation: |          | 0/? [00:00<?, ?it/s]"
      ]
     },
     "metadata": {},
     "output_type": "display_data"
    },
    {
     "data": {
      "application/vnd.jupyter.widget-view+json": {
       "model_id": "90822ff4e633453aa067db2f9333cec4",
       "version_major": 2,
       "version_minor": 0
      },
      "text/plain": [
       "Validation: |          | 0/? [00:00<?, ?it/s]"
      ]
     },
     "metadata": {},
     "output_type": "display_data"
    },
    {
     "data": {
      "application/vnd.jupyter.widget-view+json": {
       "model_id": "65f09f06d10745ec88eaa4e4575b8281",
       "version_major": 2,
       "version_minor": 0
      },
      "text/plain": [
       "Validation: |          | 0/? [00:00<?, ?it/s]"
      ]
     },
     "metadata": {},
     "output_type": "display_data"
    },
    {
     "data": {
      "application/vnd.jupyter.widget-view+json": {
       "model_id": "3324467277f74eaaa5d1312657e3df5c",
       "version_major": 2,
       "version_minor": 0
      },
      "text/plain": [
       "Validation: |          | 0/? [00:00<?, ?it/s]"
      ]
     },
     "metadata": {},
     "output_type": "display_data"
    },
    {
     "name": "stderr",
     "output_type": "stream",
     "text": [
      "Monitored metric val_loss did not improve in the last 10 records. Best score: 0.026. Signaling Trainer to stop.\n",
      "GPU available: True (cuda), used: True\n",
      "TPU available: False, using: 0 TPU cores\n",
      "HPU available: False, using: 0 HPUs\n",
      "LOCAL_RANK: 0 - CUDA_VISIBLE_DEVICES: [0]\n"
     ]
    },
    {
     "name": "stdout",
     "output_type": "stream",
     "text": [
      "Modelo carregado do checkpoint para trial 12\n"
     ]
    },
    {
     "name": "stderr",
     "output_type": "stream",
     "text": [
      "/home/eduardo/Documentos/Water-Cycle-Neural-Network/venv/lib/python3.12/site-packages/pytorch_lightning/trainer/connectors/data_connector.py:425: The 'predict_dataloader' does not have many workers which may be a bottleneck. Consider increasing the value of the `num_workers` argument` to `num_workers=11` in the `DataLoader` to improve performance.\n"
     ]
    },
    {
     "data": {
      "application/vnd.jupyter.widget-view+json": {
       "model_id": "7d3b55b172644c8db3e53b846a587e90",
       "version_major": 2,
       "version_minor": 0
      },
      "text/plain": [
       "Predicting: |          | 0/? [00:00<?, ?it/s]"
      ]
     },
     "metadata": {},
     "output_type": "display_data"
    },
    {
     "name": "stderr",
     "output_type": "stream",
     "text": [
      "[I 2025-05-14 12:41:15,346] Trial 12 finished with value: 53.21237805197774 and parameters: {'output_chunk_length': 27, 'input_chunk_length': 41, 'num_layers': 2, 'num_blocks': 3, 'num_stacks': 3, 'layer_widths': 92, 'activation': 'GELU', 'dropout': 0.12895367440170238, 'batch_size': 37, 'lr': 0.008849638912463495, 'forecast_horizon': 16}. Best is trial 3 with value: 50.43235393618171.\n",
      "GPU available: True (cuda), used: True\n",
      "TPU available: False, using: 0 TPU cores\n",
      "HPU available: False, using: 0 HPUs\n",
      "LOCAL_RANK: 0 - CUDA_VISIBLE_DEVICES: [0]\n",
      "\n",
      "  | Name            | Type             | Params | Mode \n",
      "-------------------------------------------------------------\n",
      "0 | criterion       | HuberLoss        | 0      | train\n",
      "1 | train_criterion | HuberLoss        | 0      | train\n",
      "2 | val_criterion   | HuberLoss        | 0      | train\n",
      "3 | train_metrics   | MetricCollection | 0      | train\n",
      "4 | val_metrics     | MetricCollection | 0      | train\n",
      "5 | stacks          | ModuleList       | 433 K  | train\n",
      "-------------------------------------------------------------\n",
      "361 K     Trainable params\n",
      "71.3 K    Non-trainable params\n",
      "433 K     Total params\n",
      "1.732     Total estimated model params size (MB)\n",
      "50        Modules in train mode\n",
      "0         Modules in eval mode\n"
     ]
    },
    {
     "name": "stdout",
     "output_type": "stream",
     "text": [
      "Iniciando a verificação das séries temporais para constância...\n",
      "\n",
      "Métricas de performance:\n",
      "                                     MSE        RMSE         MAE         R2  \\\n",
      "Temperature                     1.594075    1.262567    1.025123   0.529488   \n",
      "Precipitation_accumulated      88.474714    9.406100    7.594931 -92.007888   \n",
      "Humidity                       25.885835    5.087812    4.040557   0.602609   \n",
      "Wind_Speed_kmh                  0.249552    0.499551    0.372543   0.273846   \n",
      "Soil_Moisture              197687.059055  444.620129  359.415439   0.735323   \n",
      "Soil_Temperature                1.755829    1.325077    1.108891   0.685850   \n",
      "Wind_Dir_Sin                    0.085926    0.293132    0.195667   0.469976   \n",
      "Wind_Dir_Cos                    0.110229    0.332007    0.187018   0.619064   \n",
      "\n",
      "                                SMAPE  \n",
      "Temperature                 16.516754  \n",
      "Precipitation_accumulated    1.654704  \n",
      "Humidity                     4.788942  \n",
      "Wind_Speed_kmh             175.463673  \n",
      "Soil_Moisture                5.769779  \n",
      "Soil_Temperature            23.564233  \n",
      "Wind_Dir_Sin               152.677106  \n",
      "Wind_Dir_Cos                45.263833  \n",
      "O SMAPE desse fold foi 53.21237805197774\n",
      "Resultados do trial 12 salvos em optuna_iteration_metrics/trial_12.json\n",
      "Current value: 53.21237805197774, Current params: {'output_chunk_length': 27, 'input_chunk_length': 41, 'num_layers': 2, 'num_blocks': 3, 'num_stacks': 3, 'layer_widths': 92, 'activation': 'GELU', 'dropout': 0.12895367440170238, 'batch_size': 37, 'lr': 0.008849638912463495, 'forecast_horizon': 16}\n",
      "Best value: 50.43235393618171, Best params: {'output_chunk_length': 27, 'input_chunk_length': 38, 'num_layers': 1, 'num_blocks': 3, 'num_stacks': 2, 'layer_widths': 85, 'activation': 'GELU', 'dropout': 0.18882539432465545, 'batch_size': 37, 'lr': 0.006016691509040486, 'forecast_horizon': 12}\n",
      "\n",
      "Iniciando Trial 13\n",
      "Hiperparâmetros: {'output_chunk_length': 29, 'input_chunk_length': 44, 'num_layers': 2, 'num_blocks': 2, 'num_stacks': 2, 'layer_widths': 89, 'activation': 'GELU', 'dropout': 0.10304544510036129, 'batch_size': 24, 'lr': 0.008317792240407748, 'forecast_horizon': 16}\n",
      "\n",
      "Treinando o modelo...\n",
      "Train set: 6647 samples\n",
      "Validation set: 1662 samples\n"
     ]
    },
    {
     "data": {
      "application/vnd.jupyter.widget-view+json": {
       "model_id": "1533fd6c4c4c4ede9ea32d3c407ae39a",
       "version_major": 2,
       "version_minor": 0
      },
      "text/plain": [
       "Sanity Checking: |          | 0/? [00:00<?, ?it/s]"
      ]
     },
     "metadata": {},
     "output_type": "display_data"
    },
    {
     "name": "stderr",
     "output_type": "stream",
     "text": [
      "/home/eduardo/Documentos/Water-Cycle-Neural-Network/venv/lib/python3.12/site-packages/pytorch_lightning/trainer/connectors/data_connector.py:425: The 'val_dataloader' does not have many workers which may be a bottleneck. Consider increasing the value of the `num_workers` argument` to `num_workers=11` in the `DataLoader` to improve performance.\n",
      "/home/eduardo/Documentos/Water-Cycle-Neural-Network/venv/lib/python3.12/site-packages/pytorch_lightning/trainer/connectors/data_connector.py:425: The 'train_dataloader' does not have many workers which may be a bottleneck. Consider increasing the value of the `num_workers` argument` to `num_workers=11` in the `DataLoader` to improve performance.\n"
     ]
    },
    {
     "data": {
      "application/vnd.jupyter.widget-view+json": {
       "model_id": "0165b9a235c84b3baf2e5a21a9b9986b",
       "version_major": 2,
       "version_minor": 0
      },
      "text/plain": [
       "Training: |          | 0/? [00:00<?, ?it/s]"
      ]
     },
     "metadata": {},
     "output_type": "display_data"
    },
    {
     "data": {
      "application/vnd.jupyter.widget-view+json": {
       "model_id": "66d947f9fa0b48d2a90975b5af02094a",
       "version_major": 2,
       "version_minor": 0
      },
      "text/plain": [
       "Validation: |          | 0/? [00:00<?, ?it/s]"
      ]
     },
     "metadata": {},
     "output_type": "display_data"
    },
    {
     "name": "stderr",
     "output_type": "stream",
     "text": [
      "Metric val_loss improved. New best score: 0.035\n"
     ]
    },
    {
     "data": {
      "application/vnd.jupyter.widget-view+json": {
       "model_id": "b31d0311f7f643c4a822b8885fdd7db0",
       "version_major": 2,
       "version_minor": 0
      },
      "text/plain": [
       "Validation: |          | 0/? [00:00<?, ?it/s]"
      ]
     },
     "metadata": {},
     "output_type": "display_data"
    },
    {
     "data": {
      "application/vnd.jupyter.widget-view+json": {
       "model_id": "93b75bc676cd478c8b81fd59751bd503",
       "version_major": 2,
       "version_minor": 0
      },
      "text/plain": [
       "Validation: |          | 0/? [00:00<?, ?it/s]"
      ]
     },
     "metadata": {},
     "output_type": "display_data"
    },
    {
     "name": "stderr",
     "output_type": "stream",
     "text": [
      "Metric val_loss improved by 0.002 >= min_delta = 0.001. New best score: 0.033\n"
     ]
    },
    {
     "data": {
      "application/vnd.jupyter.widget-view+json": {
       "model_id": "82b86c002f1343d389fcde1db02ab32d",
       "version_major": 2,
       "version_minor": 0
      },
      "text/plain": [
       "Validation: |          | 0/? [00:00<?, ?it/s]"
      ]
     },
     "metadata": {},
     "output_type": "display_data"
    },
    {
     "name": "stderr",
     "output_type": "stream",
     "text": [
      "Metric val_loss improved by 0.004 >= min_delta = 0.001. New best score: 0.029\n"
     ]
    },
    {
     "data": {
      "application/vnd.jupyter.widget-view+json": {
       "model_id": "8657337bc9a54d37b246ebc2222b3ccb",
       "version_major": 2,
       "version_minor": 0
      },
      "text/plain": [
       "Validation: |          | 0/? [00:00<?, ?it/s]"
      ]
     },
     "metadata": {},
     "output_type": "display_data"
    },
    {
     "data": {
      "application/vnd.jupyter.widget-view+json": {
       "model_id": "6f428d5d134d434dba3ab992640c9e81",
       "version_major": 2,
       "version_minor": 0
      },
      "text/plain": [
       "Validation: |          | 0/? [00:00<?, ?it/s]"
      ]
     },
     "metadata": {},
     "output_type": "display_data"
    },
    {
     "data": {
      "application/vnd.jupyter.widget-view+json": {
       "model_id": "bafcef0c9f4a45429f4f9cf8566c56a7",
       "version_major": 2,
       "version_minor": 0
      },
      "text/plain": [
       "Validation: |          | 0/? [00:00<?, ?it/s]"
      ]
     },
     "metadata": {},
     "output_type": "display_data"
    },
    {
     "data": {
      "application/vnd.jupyter.widget-view+json": {
       "model_id": "0522c6c39b9c4a43b02aa3768de341d6",
       "version_major": 2,
       "version_minor": 0
      },
      "text/plain": [
       "Validation: |          | 0/? [00:00<?, ?it/s]"
      ]
     },
     "metadata": {},
     "output_type": "display_data"
    },
    {
     "data": {
      "application/vnd.jupyter.widget-view+json": {
       "model_id": "c78b9728015940c48fb45cff4b956744",
       "version_major": 2,
       "version_minor": 0
      },
      "text/plain": [
       "Validation: |          | 0/? [00:00<?, ?it/s]"
      ]
     },
     "metadata": {},
     "output_type": "display_data"
    },
    {
     "data": {
      "application/vnd.jupyter.widget-view+json": {
       "model_id": "d042dfde4e4642588b272658275bc07b",
       "version_major": 2,
       "version_minor": 0
      },
      "text/plain": [
       "Validation: |          | 0/? [00:00<?, ?it/s]"
      ]
     },
     "metadata": {},
     "output_type": "display_data"
    },
    {
     "data": {
      "application/vnd.jupyter.widget-view+json": {
       "model_id": "2cf2f994a339427fab5ef46ccda01205",
       "version_major": 2,
       "version_minor": 0
      },
      "text/plain": [
       "Validation: |          | 0/? [00:00<?, ?it/s]"
      ]
     },
     "metadata": {},
     "output_type": "display_data"
    },
    {
     "name": "stderr",
     "output_type": "stream",
     "text": [
      "Metric val_loss improved by 0.005 >= min_delta = 0.001. New best score: 0.024\n"
     ]
    },
    {
     "data": {
      "application/vnd.jupyter.widget-view+json": {
       "model_id": "061d3b1fa1594d0f8e364ab995f5e035",
       "version_major": 2,
       "version_minor": 0
      },
      "text/plain": [
       "Validation: |          | 0/? [00:00<?, ?it/s]"
      ]
     },
     "metadata": {},
     "output_type": "display_data"
    },
    {
     "data": {
      "application/vnd.jupyter.widget-view+json": {
       "model_id": "521233255ae946ceaf2d53743474122b",
       "version_major": 2,
       "version_minor": 0
      },
      "text/plain": [
       "Validation: |          | 0/? [00:00<?, ?it/s]"
      ]
     },
     "metadata": {},
     "output_type": "display_data"
    },
    {
     "data": {
      "application/vnd.jupyter.widget-view+json": {
       "model_id": "037fcc81cdf94e179f03937763da64e9",
       "version_major": 2,
       "version_minor": 0
      },
      "text/plain": [
       "Validation: |          | 0/? [00:00<?, ?it/s]"
      ]
     },
     "metadata": {},
     "output_type": "display_data"
    },
    {
     "data": {
      "application/vnd.jupyter.widget-view+json": {
       "model_id": "af76f78aee084b17a5e402a21e30243e",
       "version_major": 2,
       "version_minor": 0
      },
      "text/plain": [
       "Validation: |          | 0/? [00:00<?, ?it/s]"
      ]
     },
     "metadata": {},
     "output_type": "display_data"
    },
    {
     "data": {
      "application/vnd.jupyter.widget-view+json": {
       "model_id": "0043fc9013e847119137b3510e76138c",
       "version_major": 2,
       "version_minor": 0
      },
      "text/plain": [
       "Validation: |          | 0/? [00:00<?, ?it/s]"
      ]
     },
     "metadata": {},
     "output_type": "display_data"
    },
    {
     "data": {
      "application/vnd.jupyter.widget-view+json": {
       "model_id": "92293564aaf8492c892efa0be9dfba2c",
       "version_major": 2,
       "version_minor": 0
      },
      "text/plain": [
       "Validation: |          | 0/? [00:00<?, ?it/s]"
      ]
     },
     "metadata": {},
     "output_type": "display_data"
    },
    {
     "data": {
      "application/vnd.jupyter.widget-view+json": {
       "model_id": "e62e1770f26b4915b8401d6f95878dda",
       "version_major": 2,
       "version_minor": 0
      },
      "text/plain": [
       "Validation: |          | 0/? [00:00<?, ?it/s]"
      ]
     },
     "metadata": {},
     "output_type": "display_data"
    },
    {
     "data": {
      "application/vnd.jupyter.widget-view+json": {
       "model_id": "9b43aa26a4db444d881b02e68a25bb52",
       "version_major": 2,
       "version_minor": 0
      },
      "text/plain": [
       "Validation: |          | 0/? [00:00<?, ?it/s]"
      ]
     },
     "metadata": {},
     "output_type": "display_data"
    },
    {
     "data": {
      "application/vnd.jupyter.widget-view+json": {
       "model_id": "c8841187e7ef4d24b4ff11a7afe9c1e4",
       "version_major": 2,
       "version_minor": 0
      },
      "text/plain": [
       "Validation: |          | 0/? [00:00<?, ?it/s]"
      ]
     },
     "metadata": {},
     "output_type": "display_data"
    },
    {
     "data": {
      "application/vnd.jupyter.widget-view+json": {
       "model_id": "8b890a36765a489389cef59db1d97ec4",
       "version_major": 2,
       "version_minor": 0
      },
      "text/plain": [
       "Validation: |          | 0/? [00:00<?, ?it/s]"
      ]
     },
     "metadata": {},
     "output_type": "display_data"
    },
    {
     "name": "stderr",
     "output_type": "stream",
     "text": [
      "Monitored metric val_loss did not improve in the last 10 records. Best score: 0.024. Signaling Trainer to stop.\n",
      "GPU available: True (cuda), used: True\n",
      "TPU available: False, using: 0 TPU cores\n",
      "HPU available: False, using: 0 HPUs\n",
      "LOCAL_RANK: 0 - CUDA_VISIBLE_DEVICES: [0]\n"
     ]
    },
    {
     "name": "stdout",
     "output_type": "stream",
     "text": [
      "Modelo carregado do checkpoint para trial 13\n"
     ]
    },
    {
     "name": "stderr",
     "output_type": "stream",
     "text": [
      "/home/eduardo/Documentos/Water-Cycle-Neural-Network/venv/lib/python3.12/site-packages/pytorch_lightning/trainer/connectors/data_connector.py:425: The 'predict_dataloader' does not have many workers which may be a bottleneck. Consider increasing the value of the `num_workers` argument` to `num_workers=11` in the `DataLoader` to improve performance.\n"
     ]
    },
    {
     "data": {
      "application/vnd.jupyter.widget-view+json": {
       "model_id": "12c47c3fc6cc4d6a8b7b295135d747b1",
       "version_major": 2,
       "version_minor": 0
      },
      "text/plain": [
       "Predicting: |          | 0/? [00:00<?, ?it/s]"
      ]
     },
     "metadata": {},
     "output_type": "display_data"
    },
    {
     "name": "stderr",
     "output_type": "stream",
     "text": [
      "[I 2025-05-14 12:42:03,481] Trial 13 finished with value: 59.69470147719956 and parameters: {'output_chunk_length': 29, 'input_chunk_length': 44, 'num_layers': 2, 'num_blocks': 2, 'num_stacks': 2, 'layer_widths': 89, 'activation': 'GELU', 'dropout': 0.10304544510036129, 'batch_size': 24, 'lr': 0.008317792240407748, 'forecast_horizon': 16}. Best is trial 3 with value: 50.43235393618171.\n",
      "GPU available: True (cuda), used: True\n",
      "TPU available: False, using: 0 TPU cores\n",
      "HPU available: False, using: 0 HPUs\n",
      "LOCAL_RANK: 0 - CUDA_VISIBLE_DEVICES: [0]\n",
      "\n",
      "  | Name            | Type             | Params | Mode \n",
      "-------------------------------------------------------------\n",
      "0 | criterion       | HuberLoss        | 0      | train\n",
      "1 | train_criterion | HuberLoss        | 0      | train\n",
      "2 | val_criterion   | HuberLoss        | 0      | train\n",
      "3 | train_metrics   | MetricCollection | 0      | train\n",
      "4 | val_metrics     | MetricCollection | 0      | train\n",
      "5 | stacks          | ModuleList       | 122 K  | train\n",
      "-------------------------------------------------------------\n",
      "111 K     Trainable params\n",
      "11.3 K    Non-trainable params\n",
      "122 K     Total params\n",
      "0.491     Total estimated model params size (MB)\n",
      "70        Modules in train mode\n",
      "0         Modules in eval mode\n"
     ]
    },
    {
     "name": "stdout",
     "output_type": "stream",
     "text": [
      "Iniciando a verificação das séries temporais para constância...\n",
      "\n",
      "Métricas de performance:\n",
      "                                     MSE        RMSE         MAE          R2  \\\n",
      "Temperature                     9.068328    3.011367    2.504006   -1.676634   \n",
      "Precipitation_accumulated     361.021790   19.000573   17.103600 -378.519444   \n",
      "Humidity                       82.456008    9.080529    7.861559   -0.265838   \n",
      "Wind_Speed_kmh                  0.294750    0.542909    0.265758    0.142324   \n",
      "Soil_Moisture              352219.792070  593.481080  424.116345    0.528424   \n",
      "Soil_Temperature                6.247148    2.499429    1.842981   -0.117729   \n",
      "Wind_Dir_Sin                    0.167016    0.408676    0.249677   -0.030218   \n",
      "Wind_Dir_Cos                    0.203325    0.450916    0.315989    0.297334   \n",
      "\n",
      "                                SMAPE  \n",
      "Temperature                 35.658651  \n",
      "Precipitation_accumulated    3.807988  \n",
      "Humidity                     9.311329  \n",
      "Wind_Speed_kmh             167.031380  \n",
      "Soil_Moisture                6.781018  \n",
      "Soil_Temperature            31.595238  \n",
      "Wind_Dir_Sin               169.771545  \n",
      "Wind_Dir_Cos                53.600463  \n",
      "O SMAPE desse fold foi 59.69470147719956\n",
      "Resultados do trial 13 salvos em optuna_iteration_metrics/trial_13.json\n",
      "Current value: 59.69470147719956, Current params: {'output_chunk_length': 29, 'input_chunk_length': 44, 'num_layers': 2, 'num_blocks': 2, 'num_stacks': 2, 'layer_widths': 89, 'activation': 'GELU', 'dropout': 0.10304544510036129, 'batch_size': 24, 'lr': 0.008317792240407748, 'forecast_horizon': 16}\n",
      "Best value: 50.43235393618171, Best params: {'output_chunk_length': 27, 'input_chunk_length': 38, 'num_layers': 1, 'num_blocks': 3, 'num_stacks': 2, 'layer_widths': 85, 'activation': 'GELU', 'dropout': 0.18882539432465545, 'batch_size': 37, 'lr': 0.006016691509040486, 'forecast_horizon': 12}\n",
      "\n",
      "Iniciando Trial 14\n",
      "Hiperparâmetros: {'output_chunk_length': 13, 'input_chunk_length': 15, 'num_layers': 2, 'num_blocks': 3, 'num_stacks': 2, 'layer_widths': 41, 'activation': 'GELU', 'dropout': 0.23814277822908658, 'batch_size': 37, 'lr': 0.009794318358156777, 'forecast_horizon': 15}\n",
      "\n",
      "Treinando o modelo...\n",
      "Train set: 6647 samples\n",
      "Validation set: 1662 samples\n"
     ]
    },
    {
     "data": {
      "application/vnd.jupyter.widget-view+json": {
       "model_id": "88a7e2aa04e2408b88a5890a4e9e1dba",
       "version_major": 2,
       "version_minor": 0
      },
      "text/plain": [
       "Sanity Checking: |          | 0/? [00:00<?, ?it/s]"
      ]
     },
     "metadata": {},
     "output_type": "display_data"
    },
    {
     "name": "stderr",
     "output_type": "stream",
     "text": [
      "/home/eduardo/Documentos/Water-Cycle-Neural-Network/venv/lib/python3.12/site-packages/pytorch_lightning/trainer/connectors/data_connector.py:425: The 'val_dataloader' does not have many workers which may be a bottleneck. Consider increasing the value of the `num_workers` argument` to `num_workers=11` in the `DataLoader` to improve performance.\n",
      "/home/eduardo/Documentos/Water-Cycle-Neural-Network/venv/lib/python3.12/site-packages/pytorch_lightning/trainer/connectors/data_connector.py:425: The 'train_dataloader' does not have many workers which may be a bottleneck. Consider increasing the value of the `num_workers` argument` to `num_workers=11` in the `DataLoader` to improve performance.\n"
     ]
    },
    {
     "data": {
      "application/vnd.jupyter.widget-view+json": {
       "model_id": "d4cb42f9aaec4a7eb1b5756db8ea51cd",
       "version_major": 2,
       "version_minor": 0
      },
      "text/plain": [
       "Training: |          | 0/? [00:00<?, ?it/s]"
      ]
     },
     "metadata": {},
     "output_type": "display_data"
    },
    {
     "data": {
      "application/vnd.jupyter.widget-view+json": {
       "model_id": "ccfd15b254fe4997a6de50024484d04d",
       "version_major": 2,
       "version_minor": 0
      },
      "text/plain": [
       "Validation: |          | 0/? [00:00<?, ?it/s]"
      ]
     },
     "metadata": {},
     "output_type": "display_data"
    },
    {
     "name": "stderr",
     "output_type": "stream",
     "text": [
      "Metric val_loss improved. New best score: 0.024\n"
     ]
    },
    {
     "data": {
      "application/vnd.jupyter.widget-view+json": {
       "model_id": "c1b7bcb90f304167a51001be95c29605",
       "version_major": 2,
       "version_minor": 0
      },
      "text/plain": [
       "Validation: |          | 0/? [00:00<?, ?it/s]"
      ]
     },
     "metadata": {},
     "output_type": "display_data"
    },
    {
     "name": "stderr",
     "output_type": "stream",
     "text": [
      "Metric val_loss improved by 0.002 >= min_delta = 0.001. New best score: 0.022\n"
     ]
    },
    {
     "data": {
      "application/vnd.jupyter.widget-view+json": {
       "model_id": "5a3db46045cb49bd8e460aaacbe0955a",
       "version_major": 2,
       "version_minor": 0
      },
      "text/plain": [
       "Validation: |          | 0/? [00:00<?, ?it/s]"
      ]
     },
     "metadata": {},
     "output_type": "display_data"
    },
    {
     "name": "stderr",
     "output_type": "stream",
     "text": [
      "Metric val_loss improved by 0.001 >= min_delta = 0.001. New best score: 0.020\n"
     ]
    },
    {
     "data": {
      "application/vnd.jupyter.widget-view+json": {
       "model_id": "33573abd21f045c79acf5e7ccf1c4e0f",
       "version_major": 2,
       "version_minor": 0
      },
      "text/plain": [
       "Validation: |          | 0/? [00:00<?, ?it/s]"
      ]
     },
     "metadata": {},
     "output_type": "display_data"
    },
    {
     "data": {
      "application/vnd.jupyter.widget-view+json": {
       "model_id": "ce8a2e831ac346509301de47961ca2e5",
       "version_major": 2,
       "version_minor": 0
      },
      "text/plain": [
       "Validation: |          | 0/? [00:00<?, ?it/s]"
      ]
     },
     "metadata": {},
     "output_type": "display_data"
    },
    {
     "data": {
      "application/vnd.jupyter.widget-view+json": {
       "model_id": "477eee947c1e4f13b6e7c8d532e7077c",
       "version_major": 2,
       "version_minor": 0
      },
      "text/plain": [
       "Validation: |          | 0/? [00:00<?, ?it/s]"
      ]
     },
     "metadata": {},
     "output_type": "display_data"
    },
    {
     "data": {
      "application/vnd.jupyter.widget-view+json": {
       "model_id": "d20a10ac88e1468687cb410b7c2bf134",
       "version_major": 2,
       "version_minor": 0
      },
      "text/plain": [
       "Validation: |          | 0/? [00:00<?, ?it/s]"
      ]
     },
     "metadata": {},
     "output_type": "display_data"
    },
    {
     "data": {
      "application/vnd.jupyter.widget-view+json": {
       "model_id": "761e68707af44762bc78bd9edbde24f4",
       "version_major": 2,
       "version_minor": 0
      },
      "text/plain": [
       "Validation: |          | 0/? [00:00<?, ?it/s]"
      ]
     },
     "metadata": {},
     "output_type": "display_data"
    },
    {
     "data": {
      "application/vnd.jupyter.widget-view+json": {
       "model_id": "7823659ad8304e1db8cb6511faf91e55",
       "version_major": 2,
       "version_minor": 0
      },
      "text/plain": [
       "Validation: |          | 0/? [00:00<?, ?it/s]"
      ]
     },
     "metadata": {},
     "output_type": "display_data"
    },
    {
     "data": {
      "application/vnd.jupyter.widget-view+json": {
       "model_id": "0fd5c3f6100c4b8c96fc84d6188cfa40",
       "version_major": 2,
       "version_minor": 0
      },
      "text/plain": [
       "Validation: |          | 0/? [00:00<?, ?it/s]"
      ]
     },
     "metadata": {},
     "output_type": "display_data"
    },
    {
     "data": {
      "application/vnd.jupyter.widget-view+json": {
       "model_id": "d82d0839bd9c4b82899f707ab72b85e0",
       "version_major": 2,
       "version_minor": 0
      },
      "text/plain": [
       "Validation: |          | 0/? [00:00<?, ?it/s]"
      ]
     },
     "metadata": {},
     "output_type": "display_data"
    },
    {
     "data": {
      "application/vnd.jupyter.widget-view+json": {
       "model_id": "5abd52d53a0c414894c0c2d53e64d1f9",
       "version_major": 2,
       "version_minor": 0
      },
      "text/plain": [
       "Validation: |          | 0/? [00:00<?, ?it/s]"
      ]
     },
     "metadata": {},
     "output_type": "display_data"
    },
    {
     "data": {
      "application/vnd.jupyter.widget-view+json": {
       "model_id": "32ac13b8575c4b64b6734b0882301435",
       "version_major": 2,
       "version_minor": 0
      },
      "text/plain": [
       "Validation: |          | 0/? [00:00<?, ?it/s]"
      ]
     },
     "metadata": {},
     "output_type": "display_data"
    },
    {
     "name": "stderr",
     "output_type": "stream",
     "text": [
      "Monitored metric val_loss did not improve in the last 10 records. Best score: 0.020. Signaling Trainer to stop.\n",
      "`predict()` was called with `n > output_chunk_length`: using auto-regression to forecast the values after `output_chunk_length` points. The model will access `(n - output_chunk_length)` future values of your `past_covariates` (relative to the first predicted time step). To hide this warning, set `show_warnings=False`.\n",
      "GPU available: True (cuda), used: True\n",
      "TPU available: False, using: 0 TPU cores\n",
      "HPU available: False, using: 0 HPUs\n",
      "LOCAL_RANK: 0 - CUDA_VISIBLE_DEVICES: [0]\n"
     ]
    },
    {
     "name": "stdout",
     "output_type": "stream",
     "text": [
      "Modelo carregado do checkpoint para trial 14\n"
     ]
    },
    {
     "name": "stderr",
     "output_type": "stream",
     "text": [
      "/home/eduardo/Documentos/Water-Cycle-Neural-Network/venv/lib/python3.12/site-packages/pytorch_lightning/trainer/connectors/data_connector.py:425: The 'predict_dataloader' does not have many workers which may be a bottleneck. Consider increasing the value of the `num_workers` argument` to `num_workers=11` in the `DataLoader` to improve performance.\n"
     ]
    },
    {
     "data": {
      "application/vnd.jupyter.widget-view+json": {
       "model_id": "15f2e611c5fe4b86b2e93f3c33f0d477",
       "version_major": 2,
       "version_minor": 0
      },
      "text/plain": [
       "Predicting: |          | 0/? [00:00<?, ?it/s]"
      ]
     },
     "metadata": {},
     "output_type": "display_data"
    },
    {
     "name": "stderr",
     "output_type": "stream",
     "text": [
      "[I 2025-05-14 12:42:27,798] Trial 14 finished with value: 60.49102251550417 and parameters: {'output_chunk_length': 13, 'input_chunk_length': 15, 'num_layers': 2, 'num_blocks': 3, 'num_stacks': 2, 'layer_widths': 41, 'activation': 'GELU', 'dropout': 0.23814277822908658, 'batch_size': 37, 'lr': 0.009794318358156777, 'forecast_horizon': 15}. Best is trial 3 with value: 50.43235393618171.\n",
      "GPU available: True (cuda), used: True\n",
      "TPU available: False, using: 0 TPU cores\n",
      "HPU available: False, using: 0 HPUs\n",
      "LOCAL_RANK: 0 - CUDA_VISIBLE_DEVICES: [0]\n",
      "\n",
      "  | Name            | Type             | Params | Mode \n",
      "-------------------------------------------------------------\n",
      "0 | criterion       | HuberLoss        | 0      | train\n",
      "1 | train_criterion | HuberLoss        | 0      | train\n",
      "2 | val_criterion   | HuberLoss        | 0      | train\n",
      "3 | train_metrics   | MetricCollection | 0      | train\n",
      "4 | val_metrics     | MetricCollection | 0      | train\n",
      "5 | stacks          | ModuleList       | 493 K  | train\n",
      "-------------------------------------------------------------\n",
      "425 K     Trainable params\n",
      "68.0 K    Non-trainable params\n",
      "493 K     Total params\n",
      "1.976     Total estimated model params size (MB)\n",
      "60        Modules in train mode\n",
      "0         Modules in eval mode\n"
     ]
    },
    {
     "name": "stdout",
     "output_type": "stream",
     "text": [
      "Iniciando a verificação das séries temporais para constância...\n",
      "\n",
      "Métricas de performance:\n",
      "                                     MSE        RMSE         MAE          R2  \\\n",
      "Temperature                     6.902965    2.627349    2.333906   -1.035218   \n",
      "Precipitation_accumulated     241.210994   15.530969   12.837240 -252.609117   \n",
      "Humidity                       38.901978    6.237145    4.511143    0.402876   \n",
      "Wind_Speed_kmh                  0.238374    0.488236    0.304205    0.305882   \n",
      "Soil_Moisture              189161.173042  434.926629  245.954655    0.746569   \n",
      "Soil_Temperature                4.696805    2.167211    1.664976    0.159930   \n",
      "Wind_Dir_Sin                    0.128787    0.358869    0.253877    0.205067   \n",
      "Wind_Dir_Cos                    0.195882    0.442586    0.389698    0.322675   \n",
      "\n",
      "                                SMAPE  \n",
      "Temperature                 33.413961  \n",
      "Precipitation_accumulated    2.806388  \n",
      "Humidity                     5.267106  \n",
      "Wind_Speed_kmh             170.278086  \n",
      "Soil_Moisture                3.850127  \n",
      "Soil_Temperature            30.027436  \n",
      "Wind_Dir_Sin               161.685096  \n",
      "Wind_Dir_Cos                76.599980  \n",
      "O SMAPE desse fold foi 60.49102251550417\n",
      "Resultados do trial 14 salvos em optuna_iteration_metrics/trial_14.json\n",
      "Current value: 60.49102251550417, Current params: {'output_chunk_length': 13, 'input_chunk_length': 15, 'num_layers': 2, 'num_blocks': 3, 'num_stacks': 2, 'layer_widths': 41, 'activation': 'GELU', 'dropout': 0.23814277822908658, 'batch_size': 37, 'lr': 0.009794318358156777, 'forecast_horizon': 15}\n",
      "Best value: 50.43235393618171, Best params: {'output_chunk_length': 27, 'input_chunk_length': 38, 'num_layers': 1, 'num_blocks': 3, 'num_stacks': 2, 'layer_widths': 85, 'activation': 'GELU', 'dropout': 0.18882539432465545, 'batch_size': 37, 'lr': 0.006016691509040486, 'forecast_horizon': 12}\n",
      "\n",
      "Iniciando Trial 15\n",
      "Hiperparâmetros: {'output_chunk_length': 23, 'input_chunk_length': 36, 'num_layers': 1, 'num_blocks': 2, 'num_stacks': 3, 'layer_widths': 104, 'activation': 'GELU', 'dropout': 0.1006476604414372, 'batch_size': 35, 'lr': 0.0012228313261165881, 'forecast_horizon': 9}\n",
      "\n",
      "Treinando o modelo...\n",
      "Train set: 6647 samples\n",
      "Validation set: 1662 samples\n"
     ]
    },
    {
     "data": {
      "application/vnd.jupyter.widget-view+json": {
       "model_id": "c9814c4e9e4b4efb92301b50cb14567a",
       "version_major": 2,
       "version_minor": 0
      },
      "text/plain": [
       "Sanity Checking: |          | 0/? [00:00<?, ?it/s]"
      ]
     },
     "metadata": {},
     "output_type": "display_data"
    },
    {
     "name": "stderr",
     "output_type": "stream",
     "text": [
      "/home/eduardo/Documentos/Water-Cycle-Neural-Network/venv/lib/python3.12/site-packages/pytorch_lightning/trainer/connectors/data_connector.py:425: The 'val_dataloader' does not have many workers which may be a bottleneck. Consider increasing the value of the `num_workers` argument` to `num_workers=11` in the `DataLoader` to improve performance.\n",
      "/home/eduardo/Documentos/Water-Cycle-Neural-Network/venv/lib/python3.12/site-packages/pytorch_lightning/trainer/connectors/data_connector.py:425: The 'train_dataloader' does not have many workers which may be a bottleneck. Consider increasing the value of the `num_workers` argument` to `num_workers=11` in the `DataLoader` to improve performance.\n"
     ]
    },
    {
     "data": {
      "application/vnd.jupyter.widget-view+json": {
       "model_id": "2ef6352339134d09b832bcc95de3e43d",
       "version_major": 2,
       "version_minor": 0
      },
      "text/plain": [
       "Training: |          | 0/? [00:00<?, ?it/s]"
      ]
     },
     "metadata": {},
     "output_type": "display_data"
    },
    {
     "data": {
      "application/vnd.jupyter.widget-view+json": {
       "model_id": "07eb92b89e394ab0b63f4777834da516",
       "version_major": 2,
       "version_minor": 0
      },
      "text/plain": [
       "Validation: |          | 0/? [00:00<?, ?it/s]"
      ]
     },
     "metadata": {},
     "output_type": "display_data"
    },
    {
     "name": "stderr",
     "output_type": "stream",
     "text": [
      "Metric val_loss improved. New best score: 0.021\n"
     ]
    },
    {
     "data": {
      "application/vnd.jupyter.widget-view+json": {
       "model_id": "1a055b92755b46f982a50c2da9f71cbc",
       "version_major": 2,
       "version_minor": 0
      },
      "text/plain": [
       "Validation: |          | 0/? [00:00<?, ?it/s]"
      ]
     },
     "metadata": {},
     "output_type": "display_data"
    },
    {
     "data": {
      "application/vnd.jupyter.widget-view+json": {
       "model_id": "a910a7adaeb44985a979e59efaa4cc9b",
       "version_major": 2,
       "version_minor": 0
      },
      "text/plain": [
       "Validation: |          | 0/? [00:00<?, ?it/s]"
      ]
     },
     "metadata": {},
     "output_type": "display_data"
    },
    {
     "data": {
      "application/vnd.jupyter.widget-view+json": {
       "model_id": "1dff19afbc5549939544e999ba5aa0d0",
       "version_major": 2,
       "version_minor": 0
      },
      "text/plain": [
       "Validation: |          | 0/? [00:00<?, ?it/s]"
      ]
     },
     "metadata": {},
     "output_type": "display_data"
    },
    {
     "data": {
      "application/vnd.jupyter.widget-view+json": {
       "model_id": "1e51e91e552040b18d9bf88232976994",
       "version_major": 2,
       "version_minor": 0
      },
      "text/plain": [
       "Validation: |          | 0/? [00:00<?, ?it/s]"
      ]
     },
     "metadata": {},
     "output_type": "display_data"
    },
    {
     "data": {
      "application/vnd.jupyter.widget-view+json": {
       "model_id": "eb8a36b149614c848a4b6cacf05a6547",
       "version_major": 2,
       "version_minor": 0
      },
      "text/plain": [
       "Validation: |          | 0/? [00:00<?, ?it/s]"
      ]
     },
     "metadata": {},
     "output_type": "display_data"
    },
    {
     "data": {
      "application/vnd.jupyter.widget-view+json": {
       "model_id": "71231b7fc1b04c78afd0865c1a224cd7",
       "version_major": 2,
       "version_minor": 0
      },
      "text/plain": [
       "Validation: |          | 0/? [00:00<?, ?it/s]"
      ]
     },
     "metadata": {},
     "output_type": "display_data"
    },
    {
     "data": {
      "application/vnd.jupyter.widget-view+json": {
       "model_id": "3ec2ac9129184308bccc4e41d26bd834",
       "version_major": 2,
       "version_minor": 0
      },
      "text/plain": [
       "Validation: |          | 0/? [00:00<?, ?it/s]"
      ]
     },
     "metadata": {},
     "output_type": "display_data"
    },
    {
     "data": {
      "application/vnd.jupyter.widget-view+json": {
       "model_id": "3802c181e402494b8f4b966eabfcc2b4",
       "version_major": 2,
       "version_minor": 0
      },
      "text/plain": [
       "Validation: |          | 0/? [00:00<?, ?it/s]"
      ]
     },
     "metadata": {},
     "output_type": "display_data"
    },
    {
     "data": {
      "application/vnd.jupyter.widget-view+json": {
       "model_id": "ffe06d04d9e34330bea64a18abaf7e3e",
       "version_major": 2,
       "version_minor": 0
      },
      "text/plain": [
       "Validation: |          | 0/? [00:00<?, ?it/s]"
      ]
     },
     "metadata": {},
     "output_type": "display_data"
    },
    {
     "data": {
      "application/vnd.jupyter.widget-view+json": {
       "model_id": "6bb9d67d14fd414897b440578c5dab86",
       "version_major": 2,
       "version_minor": 0
      },
      "text/plain": [
       "Validation: |          | 0/? [00:00<?, ?it/s]"
      ]
     },
     "metadata": {},
     "output_type": "display_data"
    },
    {
     "name": "stderr",
     "output_type": "stream",
     "text": [
      "Monitored metric val_loss did not improve in the last 10 records. Best score: 0.021. Signaling Trainer to stop.\n",
      "GPU available: True (cuda), used: True\n",
      "TPU available: False, using: 0 TPU cores\n",
      "HPU available: False, using: 0 HPUs\n",
      "LOCAL_RANK: 0 - CUDA_VISIBLE_DEVICES: [0]\n"
     ]
    },
    {
     "name": "stdout",
     "output_type": "stream",
     "text": [
      "Modelo carregado do checkpoint para trial 15\n"
     ]
    },
    {
     "name": "stderr",
     "output_type": "stream",
     "text": [
      "/home/eduardo/Documentos/Water-Cycle-Neural-Network/venv/lib/python3.12/site-packages/pytorch_lightning/trainer/connectors/data_connector.py:425: The 'predict_dataloader' does not have many workers which may be a bottleneck. Consider increasing the value of the `num_workers` argument` to `num_workers=11` in the `DataLoader` to improve performance.\n"
     ]
    },
    {
     "data": {
      "application/vnd.jupyter.widget-view+json": {
       "model_id": "12337b4e3aab4567b66b6f081a5eef7b",
       "version_major": 2,
       "version_minor": 0
      },
      "text/plain": [
       "Predicting: |          | 0/? [00:00<?, ?it/s]"
      ]
     },
     "metadata": {},
     "output_type": "display_data"
    },
    {
     "name": "stderr",
     "output_type": "stream",
     "text": [
      "[I 2025-05-14 12:42:47,084] Trial 15 finished with value: 53.27957604553511 and parameters: {'output_chunk_length': 23, 'input_chunk_length': 36, 'num_layers': 1, 'num_blocks': 2, 'num_stacks': 3, 'layer_widths': 104, 'activation': 'GELU', 'dropout': 0.1006476604414372, 'batch_size': 35, 'lr': 0.0012228313261165881, 'forecast_horizon': 9}. Best is trial 3 with value: 50.43235393618171.\n",
      "GPU available: True (cuda), used: True\n",
      "TPU available: False, using: 0 TPU cores\n",
      "HPU available: False, using: 0 HPUs\n",
      "LOCAL_RANK: 0 - CUDA_VISIBLE_DEVICES: [0]\n",
      "\n",
      "  | Name            | Type             | Params | Mode \n",
      "-------------------------------------------------------------\n",
      "0 | criterion       | HuberLoss        | 0      | train\n",
      "1 | train_criterion | HuberLoss        | 0      | train\n",
      "2 | val_criterion   | HuberLoss        | 0      | train\n",
      "3 | train_metrics   | MetricCollection | 0      | train\n",
      "4 | val_metrics     | MetricCollection | 0      | train\n",
      "5 | stacks          | ModuleList       | 1.3 M  | train\n",
      "-------------------------------------------------------------\n",
      "1.2 M     Trainable params\n",
      "59.4 K    Non-trainable params\n",
      "1.3 M     Total params\n",
      "5.206     Total estimated model params size (MB)\n",
      "206       Modules in train mode\n",
      "0         Modules in eval mode\n"
     ]
    },
    {
     "name": "stdout",
     "output_type": "stream",
     "text": [
      "Iniciando a verificação das séries temporais para constância...\n",
      "\n",
      "Métricas de performance:\n",
      "                                     MSE        RMSE         MAE          R2  \\\n",
      "Temperature                     1.859138    1.363502    1.090103    0.452424   \n",
      "Precipitation_accumulated     315.412581   17.759859   13.675250 -330.937299   \n",
      "Humidity                       19.920898    4.463283    3.512363    0.693903   \n",
      "Wind_Speed_kmh                  0.283361    0.532316    0.331450    0.171404   \n",
      "Soil_Moisture              121282.629492  348.256557  192.112109    0.836855   \n",
      "Soil_Temperature                1.358659    1.165615    0.741424    0.757371   \n",
      "Wind_Dir_Sin                    0.093937    0.306492    0.180494    0.417857   \n",
      "Wind_Dir_Cos                    0.101496    0.318584    0.185386    0.647858   \n",
      "\n",
      "                                SMAPE  \n",
      "Temperature                 17.781057  \n",
      "Precipitation_accumulated    2.917525  \n",
      "Humidity                     4.156923  \n",
      "Wind_Speed_kmh             175.492582  \n",
      "Soil_Moisture                3.012464  \n",
      "Soil_Temperature            20.539836  \n",
      "Wind_Dir_Sin               157.441237  \n",
      "Wind_Dir_Cos                44.894984  \n",
      "O SMAPE desse fold foi 53.27957604553511\n",
      "Resultados do trial 15 salvos em optuna_iteration_metrics/trial_15.json\n",
      "Current value: 53.27957604553511, Current params: {'output_chunk_length': 23, 'input_chunk_length': 36, 'num_layers': 1, 'num_blocks': 2, 'num_stacks': 3, 'layer_widths': 104, 'activation': 'GELU', 'dropout': 0.1006476604414372, 'batch_size': 35, 'lr': 0.0012228313261165881, 'forecast_horizon': 9}\n",
      "Best value: 50.43235393618171, Best params: {'output_chunk_length': 27, 'input_chunk_length': 38, 'num_layers': 1, 'num_blocks': 3, 'num_stacks': 2, 'layer_widths': 85, 'activation': 'GELU', 'dropout': 0.18882539432465545, 'batch_size': 37, 'lr': 0.006016691509040486, 'forecast_horizon': 12}\n",
      "\n",
      "Iniciando Trial 16\n",
      "Hiperparâmetros: {'output_chunk_length': 34, 'input_chunk_length': 44, 'num_layers': 3, 'num_blocks': 4, 'num_stacks': 4, 'layer_widths': 74, 'activation': 'GELU', 'dropout': 0.19582604968244233, 'batch_size': 54, 'lr': 0.0001683727880405751, 'forecast_horizon': 24}\n",
      "\n",
      "Treinando o modelo...\n",
      "Train set: 6647 samples\n",
      "Validation set: 1662 samples\n"
     ]
    },
    {
     "data": {
      "application/vnd.jupyter.widget-view+json": {
       "model_id": "b45babd8ec4c4cffa047d042b89db450",
       "version_major": 2,
       "version_minor": 0
      },
      "text/plain": [
       "Sanity Checking: |          | 0/? [00:00<?, ?it/s]"
      ]
     },
     "metadata": {},
     "output_type": "display_data"
    },
    {
     "name": "stderr",
     "output_type": "stream",
     "text": [
      "/home/eduardo/Documentos/Water-Cycle-Neural-Network/venv/lib/python3.12/site-packages/pytorch_lightning/trainer/connectors/data_connector.py:425: The 'val_dataloader' does not have many workers which may be a bottleneck. Consider increasing the value of the `num_workers` argument` to `num_workers=11` in the `DataLoader` to improve performance.\n",
      "/home/eduardo/Documentos/Water-Cycle-Neural-Network/venv/lib/python3.12/site-packages/pytorch_lightning/trainer/connectors/data_connector.py:425: The 'train_dataloader' does not have many workers which may be a bottleneck. Consider increasing the value of the `num_workers` argument` to `num_workers=11` in the `DataLoader` to improve performance.\n"
     ]
    },
    {
     "data": {
      "application/vnd.jupyter.widget-view+json": {
       "model_id": "f1715ce17bda498392beb1b8f5623897",
       "version_major": 2,
       "version_minor": 0
      },
      "text/plain": [
       "Training: |          | 0/? [00:00<?, ?it/s]"
      ]
     },
     "metadata": {},
     "output_type": "display_data"
    },
    {
     "data": {
      "application/vnd.jupyter.widget-view+json": {
       "model_id": "c8058af8dc5a4752bfea62e0b403ea3b",
       "version_major": 2,
       "version_minor": 0
      },
      "text/plain": [
       "Validation: |          | 0/? [00:00<?, ?it/s]"
      ]
     },
     "metadata": {},
     "output_type": "display_data"
    },
    {
     "name": "stderr",
     "output_type": "stream",
     "text": [
      "Metric val_loss improved. New best score: 0.044\n"
     ]
    },
    {
     "data": {
      "application/vnd.jupyter.widget-view+json": {
       "model_id": "3c198ee668b246a4b24d5f823cec2b8e",
       "version_major": 2,
       "version_minor": 0
      },
      "text/plain": [
       "Validation: |          | 0/? [00:00<?, ?it/s]"
      ]
     },
     "metadata": {},
     "output_type": "display_data"
    },
    {
     "name": "stderr",
     "output_type": "stream",
     "text": [
      "Metric val_loss improved by 0.007 >= min_delta = 0.001. New best score: 0.036\n"
     ]
    },
    {
     "data": {
      "application/vnd.jupyter.widget-view+json": {
       "model_id": "bc0830509e0b464b9fd6bf1722cd8b74",
       "version_major": 2,
       "version_minor": 0
      },
      "text/plain": [
       "Validation: |          | 0/? [00:00<?, ?it/s]"
      ]
     },
     "metadata": {},
     "output_type": "display_data"
    },
    {
     "name": "stderr",
     "output_type": "stream",
     "text": [
      "Metric val_loss improved by 0.006 >= min_delta = 0.001. New best score: 0.031\n"
     ]
    },
    {
     "data": {
      "application/vnd.jupyter.widget-view+json": {
       "model_id": "5061ac8e0c3d465c93ec966c4e7bd78c",
       "version_major": 2,
       "version_minor": 0
      },
      "text/plain": [
       "Validation: |          | 0/? [00:00<?, ?it/s]"
      ]
     },
     "metadata": {},
     "output_type": "display_data"
    },
    {
     "name": "stderr",
     "output_type": "stream",
     "text": [
      "Metric val_loss improved by 0.003 >= min_delta = 0.001. New best score: 0.027\n"
     ]
    },
    {
     "data": {
      "application/vnd.jupyter.widget-view+json": {
       "model_id": "1c014a83a09e40fc8e389cd93e2d28aa",
       "version_major": 2,
       "version_minor": 0
      },
      "text/plain": [
       "Validation: |          | 0/? [00:00<?, ?it/s]"
      ]
     },
     "metadata": {},
     "output_type": "display_data"
    },
    {
     "name": "stderr",
     "output_type": "stream",
     "text": [
      "Metric val_loss improved by 0.001 >= min_delta = 0.001. New best score: 0.026\n"
     ]
    },
    {
     "data": {
      "application/vnd.jupyter.widget-view+json": {
       "model_id": "a4d6f000285040688b77bea77534a7d3",
       "version_major": 2,
       "version_minor": 0
      },
      "text/plain": [
       "Validation: |          | 0/? [00:00<?, ?it/s]"
      ]
     },
     "metadata": {},
     "output_type": "display_data"
    },
    {
     "data": {
      "application/vnd.jupyter.widget-view+json": {
       "model_id": "74452e1530d04cc89f6849454e188e6d",
       "version_major": 2,
       "version_minor": 0
      },
      "text/plain": [
       "Validation: |          | 0/? [00:00<?, ?it/s]"
      ]
     },
     "metadata": {},
     "output_type": "display_data"
    },
    {
     "data": {
      "application/vnd.jupyter.widget-view+json": {
       "model_id": "176e3390bce447c2bbb93c572eb72ac7",
       "version_major": 2,
       "version_minor": 0
      },
      "text/plain": [
       "Validation: |          | 0/? [00:00<?, ?it/s]"
      ]
     },
     "metadata": {},
     "output_type": "display_data"
    },
    {
     "data": {
      "application/vnd.jupyter.widget-view+json": {
       "model_id": "b5be3d0a7582415aa2d03ed039755654",
       "version_major": 2,
       "version_minor": 0
      },
      "text/plain": [
       "Validation: |          | 0/? [00:00<?, ?it/s]"
      ]
     },
     "metadata": {},
     "output_type": "display_data"
    },
    {
     "name": "stderr",
     "output_type": "stream",
     "text": [
      "Metric val_loss improved by 0.001 >= min_delta = 0.001. New best score: 0.025\n"
     ]
    },
    {
     "data": {
      "application/vnd.jupyter.widget-view+json": {
       "model_id": "22cc97feaea84e24ae7da2bba5365503",
       "version_major": 2,
       "version_minor": 0
      },
      "text/plain": [
       "Validation: |          | 0/? [00:00<?, ?it/s]"
      ]
     },
     "metadata": {},
     "output_type": "display_data"
    },
    {
     "data": {
      "application/vnd.jupyter.widget-view+json": {
       "model_id": "a1e6678f6d0d4c77b335453135747f08",
       "version_major": 2,
       "version_minor": 0
      },
      "text/plain": [
       "Validation: |          | 0/? [00:00<?, ?it/s]"
      ]
     },
     "metadata": {},
     "output_type": "display_data"
    },
    {
     "data": {
      "application/vnd.jupyter.widget-view+json": {
       "model_id": "992377e9624c435990e6dbc2926c4b27",
       "version_major": 2,
       "version_minor": 0
      },
      "text/plain": [
       "Validation: |          | 0/? [00:00<?, ?it/s]"
      ]
     },
     "metadata": {},
     "output_type": "display_data"
    },
    {
     "data": {
      "application/vnd.jupyter.widget-view+json": {
       "model_id": "d4d010a2027c48849532dfe6e85fcd1b",
       "version_major": 2,
       "version_minor": 0
      },
      "text/plain": [
       "Validation: |          | 0/? [00:00<?, ?it/s]"
      ]
     },
     "metadata": {},
     "output_type": "display_data"
    },
    {
     "data": {
      "application/vnd.jupyter.widget-view+json": {
       "model_id": "71c7728087cd4a369ac7adfa7e5da912",
       "version_major": 2,
       "version_minor": 0
      },
      "text/plain": [
       "Validation: |          | 0/? [00:00<?, ?it/s]"
      ]
     },
     "metadata": {},
     "output_type": "display_data"
    },
    {
     "data": {
      "application/vnd.jupyter.widget-view+json": {
       "model_id": "ca7ebb2b3cd04c9c985f7ab4f324cf62",
       "version_major": 2,
       "version_minor": 0
      },
      "text/plain": [
       "Validation: |          | 0/? [00:00<?, ?it/s]"
      ]
     },
     "metadata": {},
     "output_type": "display_data"
    },
    {
     "data": {
      "application/vnd.jupyter.widget-view+json": {
       "model_id": "7ec4769c8aca4bb5ab9e3d0a727bec47",
       "version_major": 2,
       "version_minor": 0
      },
      "text/plain": [
       "Validation: |          | 0/? [00:00<?, ?it/s]"
      ]
     },
     "metadata": {},
     "output_type": "display_data"
    },
    {
     "data": {
      "application/vnd.jupyter.widget-view+json": {
       "model_id": "e07961bae1e84398bb6fa8ae8f928b13",
       "version_major": 2,
       "version_minor": 0
      },
      "text/plain": [
       "Validation: |          | 0/? [00:00<?, ?it/s]"
      ]
     },
     "metadata": {},
     "output_type": "display_data"
    },
    {
     "data": {
      "application/vnd.jupyter.widget-view+json": {
       "model_id": "cd87bd40c7d64ad8a0e4d6d72a521ecf",
       "version_major": 2,
       "version_minor": 0
      },
      "text/plain": [
       "Validation: |          | 0/? [00:00<?, ?it/s]"
      ]
     },
     "metadata": {},
     "output_type": "display_data"
    },
    {
     "data": {
      "application/vnd.jupyter.widget-view+json": {
       "model_id": "27a613ecae744f4cb00a4b888241d769",
       "version_major": 2,
       "version_minor": 0
      },
      "text/plain": [
       "Validation: |          | 0/? [00:00<?, ?it/s]"
      ]
     },
     "metadata": {},
     "output_type": "display_data"
    },
    {
     "name": "stderr",
     "output_type": "stream",
     "text": [
      "Monitored metric val_loss did not improve in the last 10 records. Best score: 0.025. Signaling Trainer to stop.\n",
      "GPU available: True (cuda), used: True\n",
      "TPU available: False, using: 0 TPU cores\n",
      "HPU available: False, using: 0 HPUs\n",
      "LOCAL_RANK: 0 - CUDA_VISIBLE_DEVICES: [0]\n"
     ]
    },
    {
     "name": "stdout",
     "output_type": "stream",
     "text": [
      "Modelo carregado do checkpoint para trial 16\n"
     ]
    },
    {
     "name": "stderr",
     "output_type": "stream",
     "text": [
      "/home/eduardo/Documentos/Water-Cycle-Neural-Network/venv/lib/python3.12/site-packages/pytorch_lightning/trainer/connectors/data_connector.py:425: The 'predict_dataloader' does not have many workers which may be a bottleneck. Consider increasing the value of the `num_workers` argument` to `num_workers=11` in the `DataLoader` to improve performance.\n"
     ]
    },
    {
     "data": {
      "application/vnd.jupyter.widget-view+json": {
       "model_id": "0a3712cf2c3f40b69b75a9d93a284a2b",
       "version_major": 2,
       "version_minor": 0
      },
      "text/plain": [
       "Predicting: |          | 0/? [00:00<?, ?it/s]"
      ]
     },
     "metadata": {},
     "output_type": "display_data"
    },
    {
     "name": "stderr",
     "output_type": "stream",
     "text": [
      "[I 2025-05-14 12:43:42,259] Trial 16 finished with value: 53.9993901433279 and parameters: {'output_chunk_length': 34, 'input_chunk_length': 44, 'num_layers': 3, 'num_blocks': 4, 'num_stacks': 4, 'layer_widths': 74, 'activation': 'GELU', 'dropout': 0.19582604968244233, 'batch_size': 54, 'lr': 0.0001683727880405751, 'forecast_horizon': 24}. Best is trial 3 with value: 50.43235393618171.\n",
      "GPU available: True (cuda), used: True\n",
      "TPU available: False, using: 0 TPU cores\n",
      "HPU available: False, using: 0 HPUs\n",
      "LOCAL_RANK: 0 - CUDA_VISIBLE_DEVICES: [0]\n",
      "\n",
      "  | Name            | Type             | Params | Mode \n",
      "-------------------------------------------------------------\n",
      "0 | criterion       | HuberLoss        | 0      | train\n",
      "1 | train_criterion | HuberLoss        | 0      | train\n",
      "2 | val_criterion   | HuberLoss        | 0      | train\n",
      "3 | train_metrics   | MetricCollection | 0      | train\n",
      "4 | val_metrics     | MetricCollection | 0      | train\n",
      "5 | stacks          | ModuleList       | 674 K  | train\n",
      "-------------------------------------------------------------\n",
      "607 K     Trainable params\n",
      "66.4 K    Non-trainable params\n",
      "674 K     Total params\n",
      "2.696     Total estimated model params size (MB)\n",
      "70        Modules in train mode\n",
      "0         Modules in eval mode\n"
     ]
    },
    {
     "name": "stdout",
     "output_type": "stream",
     "text": [
      "Iniciando a verificação das séries temporais para constância...\n",
      "\n",
      "Métricas de performance:\n",
      "                                     MSE        RMSE         MAE          R2  \\\n",
      "Temperature                     1.899481    1.378217    1.046074    0.435070   \n",
      "Precipitation_accumulated     343.581714   18.535957    9.743767 -359.748632   \n",
      "Humidity                       18.982249    4.356862    3.292116    0.708414   \n",
      "Wind_Speed_kmh                  0.231551    0.481197    0.238858    0.330018   \n",
      "Soil_Moisture              182416.654644  427.102628  189.938232    0.757057   \n",
      "Soil_Temperature                1.980089    1.407156    0.940054    0.644547   \n",
      "Wind_Dir_Sin                    0.113501    0.336899    0.196544    0.303616   \n",
      "Wind_Dir_Cos                    0.127198    0.356648    0.221926    0.562404   \n",
      "\n",
      "                                SMAPE  \n",
      "Temperature                 17.729078  \n",
      "Precipitation_accumulated    2.182709  \n",
      "Humidity                     3.889406  \n",
      "Wind_Speed_kmh             170.658528  \n",
      "Soil_Moisture                2.934827  \n",
      "Soil_Temperature            22.580810  \n",
      "Wind_Dir_Sin               160.924251  \n",
      "Wind_Dir_Cos                51.095512  \n",
      "O SMAPE desse fold foi 53.9993901433279\n",
      "Resultados do trial 16 salvos em optuna_iteration_metrics/trial_16.json\n",
      "Current value: 53.9993901433279, Current params: {'output_chunk_length': 34, 'input_chunk_length': 44, 'num_layers': 3, 'num_blocks': 4, 'num_stacks': 4, 'layer_widths': 74, 'activation': 'GELU', 'dropout': 0.19582604968244233, 'batch_size': 54, 'lr': 0.0001683727880405751, 'forecast_horizon': 24}\n",
      "Best value: 50.43235393618171, Best params: {'output_chunk_length': 27, 'input_chunk_length': 38, 'num_layers': 1, 'num_blocks': 3, 'num_stacks': 2, 'layer_widths': 85, 'activation': 'GELU', 'dropout': 0.18882539432465545, 'batch_size': 37, 'lr': 0.006016691509040486, 'forecast_horizon': 12}\n",
      "\n",
      "Iniciando Trial 17\n",
      "Hiperparâmetros: {'output_chunk_length': 23, 'input_chunk_length': 31, 'num_layers': 2, 'num_blocks': 3, 'num_stacks': 2, 'layer_widths': 118, 'activation': 'GELU', 'dropout': 0.13045584100289448, 'batch_size': 22, 'lr': 0.005280026511296435, 'forecast_horizon': 15}\n",
      "\n",
      "Treinando o modelo...\n",
      "Train set: 6647 samples\n",
      "Validation set: 1662 samples\n"
     ]
    },
    {
     "data": {
      "application/vnd.jupyter.widget-view+json": {
       "model_id": "99977f7108b844ec9a7533e49f14c558",
       "version_major": 2,
       "version_minor": 0
      },
      "text/plain": [
       "Sanity Checking: |          | 0/? [00:00<?, ?it/s]"
      ]
     },
     "metadata": {},
     "output_type": "display_data"
    },
    {
     "name": "stderr",
     "output_type": "stream",
     "text": [
      "/home/eduardo/Documentos/Water-Cycle-Neural-Network/venv/lib/python3.12/site-packages/pytorch_lightning/trainer/connectors/data_connector.py:425: The 'val_dataloader' does not have many workers which may be a bottleneck. Consider increasing the value of the `num_workers` argument` to `num_workers=11` in the `DataLoader` to improve performance.\n",
      "/home/eduardo/Documentos/Water-Cycle-Neural-Network/venv/lib/python3.12/site-packages/pytorch_lightning/trainer/connectors/data_connector.py:425: The 'train_dataloader' does not have many workers which may be a bottleneck. Consider increasing the value of the `num_workers` argument` to `num_workers=11` in the `DataLoader` to improve performance.\n"
     ]
    },
    {
     "data": {
      "application/vnd.jupyter.widget-view+json": {
       "model_id": "3171f96983d543bc8c4fe4667f194aaf",
       "version_major": 2,
       "version_minor": 0
      },
      "text/plain": [
       "Training: |          | 0/? [00:00<?, ?it/s]"
      ]
     },
     "metadata": {},
     "output_type": "display_data"
    },
    {
     "data": {
      "application/vnd.jupyter.widget-view+json": {
       "model_id": "90e98b59179847eabcc02f23e6079ada",
       "version_major": 2,
       "version_minor": 0
      },
      "text/plain": [
       "Validation: |          | 0/? [00:00<?, ?it/s]"
      ]
     },
     "metadata": {},
     "output_type": "display_data"
    },
    {
     "name": "stderr",
     "output_type": "stream",
     "text": [
      "Metric val_loss improved. New best score: 0.025\n"
     ]
    },
    {
     "data": {
      "application/vnd.jupyter.widget-view+json": {
       "model_id": "534e2c029cca4a35810d298eee6ab706",
       "version_major": 2,
       "version_minor": 0
      },
      "text/plain": [
       "Validation: |          | 0/? [00:00<?, ?it/s]"
      ]
     },
     "metadata": {},
     "output_type": "display_data"
    },
    {
     "name": "stderr",
     "output_type": "stream",
     "text": [
      "Metric val_loss improved by 0.003 >= min_delta = 0.001. New best score: 0.022\n"
     ]
    },
    {
     "data": {
      "application/vnd.jupyter.widget-view+json": {
       "model_id": "5c049b8a76874a5c8c9dfd81baff1121",
       "version_major": 2,
       "version_minor": 0
      },
      "text/plain": [
       "Validation: |          | 0/? [00:00<?, ?it/s]"
      ]
     },
     "metadata": {},
     "output_type": "display_data"
    },
    {
     "data": {
      "application/vnd.jupyter.widget-view+json": {
       "model_id": "93ad3f1f68324f21a23d068a3817bd26",
       "version_major": 2,
       "version_minor": 0
      },
      "text/plain": [
       "Validation: |          | 0/? [00:00<?, ?it/s]"
      ]
     },
     "metadata": {},
     "output_type": "display_data"
    },
    {
     "data": {
      "application/vnd.jupyter.widget-view+json": {
       "model_id": "c1572494c85649aaa8ca9de8c5b3c39b",
       "version_major": 2,
       "version_minor": 0
      },
      "text/plain": [
       "Validation: |          | 0/? [00:00<?, ?it/s]"
      ]
     },
     "metadata": {},
     "output_type": "display_data"
    },
    {
     "data": {
      "application/vnd.jupyter.widget-view+json": {
       "model_id": "f2980c163e594b1281d2045415ec85d3",
       "version_major": 2,
       "version_minor": 0
      },
      "text/plain": [
       "Validation: |          | 0/? [00:00<?, ?it/s]"
      ]
     },
     "metadata": {},
     "output_type": "display_data"
    },
    {
     "data": {
      "application/vnd.jupyter.widget-view+json": {
       "model_id": "bd872615b9ce42f390f1321d80514ad9",
       "version_major": 2,
       "version_minor": 0
      },
      "text/plain": [
       "Validation: |          | 0/? [00:00<?, ?it/s]"
      ]
     },
     "metadata": {},
     "output_type": "display_data"
    },
    {
     "data": {
      "application/vnd.jupyter.widget-view+json": {
       "model_id": "773fcc23ec2d4c2c80fc935a0bb7f6fc",
       "version_major": 2,
       "version_minor": 0
      },
      "text/plain": [
       "Validation: |          | 0/? [00:00<?, ?it/s]"
      ]
     },
     "metadata": {},
     "output_type": "display_data"
    },
    {
     "name": "stderr",
     "output_type": "stream",
     "text": [
      "Metric val_loss improved by 0.001 >= min_delta = 0.001. New best score: 0.021\n"
     ]
    },
    {
     "data": {
      "application/vnd.jupyter.widget-view+json": {
       "model_id": "3b62ef5b8c6043a796bfbe7e1eaa8409",
       "version_major": 2,
       "version_minor": 0
      },
      "text/plain": [
       "Validation: |          | 0/? [00:00<?, ?it/s]"
      ]
     },
     "metadata": {},
     "output_type": "display_data"
    },
    {
     "data": {
      "application/vnd.jupyter.widget-view+json": {
       "model_id": "64b6d61b8a13434abe95f515e9fa6700",
       "version_major": 2,
       "version_minor": 0
      },
      "text/plain": [
       "Validation: |          | 0/? [00:00<?, ?it/s]"
      ]
     },
     "metadata": {},
     "output_type": "display_data"
    },
    {
     "data": {
      "application/vnd.jupyter.widget-view+json": {
       "model_id": "ce72178ba5c24b35bffe5640731e2e3b",
       "version_major": 2,
       "version_minor": 0
      },
      "text/plain": [
       "Validation: |          | 0/? [00:00<?, ?it/s]"
      ]
     },
     "metadata": {},
     "output_type": "display_data"
    },
    {
     "data": {
      "application/vnd.jupyter.widget-view+json": {
       "model_id": "435a455a4a8c4e1b9b17819edb620468",
       "version_major": 2,
       "version_minor": 0
      },
      "text/plain": [
       "Validation: |          | 0/? [00:00<?, ?it/s]"
      ]
     },
     "metadata": {},
     "output_type": "display_data"
    },
    {
     "data": {
      "application/vnd.jupyter.widget-view+json": {
       "model_id": "e0fd5298bf664a8393b0b8fc5612e04f",
       "version_major": 2,
       "version_minor": 0
      },
      "text/plain": [
       "Validation: |          | 0/? [00:00<?, ?it/s]"
      ]
     },
     "metadata": {},
     "output_type": "display_data"
    },
    {
     "data": {
      "application/vnd.jupyter.widget-view+json": {
       "model_id": "205acdd9acfe4053aff9283647471fac",
       "version_major": 2,
       "version_minor": 0
      },
      "text/plain": [
       "Validation: |          | 0/? [00:00<?, ?it/s]"
      ]
     },
     "metadata": {},
     "output_type": "display_data"
    },
    {
     "data": {
      "application/vnd.jupyter.widget-view+json": {
       "model_id": "b619a7efcae94705986f5cf9ed677425",
       "version_major": 2,
       "version_minor": 0
      },
      "text/plain": [
       "Validation: |          | 0/? [00:00<?, ?it/s]"
      ]
     },
     "metadata": {},
     "output_type": "display_data"
    },
    {
     "data": {
      "application/vnd.jupyter.widget-view+json": {
       "model_id": "c71c28f918a54b39a78ca1b4d3afc60b",
       "version_major": 2,
       "version_minor": 0
      },
      "text/plain": [
       "Validation: |          | 0/? [00:00<?, ?it/s]"
      ]
     },
     "metadata": {},
     "output_type": "display_data"
    },
    {
     "data": {
      "application/vnd.jupyter.widget-view+json": {
       "model_id": "cbad1ce0a5ed433ca9f9bd1853e24e83",
       "version_major": 2,
       "version_minor": 0
      },
      "text/plain": [
       "Validation: |          | 0/? [00:00<?, ?it/s]"
      ]
     },
     "metadata": {},
     "output_type": "display_data"
    },
    {
     "data": {
      "application/vnd.jupyter.widget-view+json": {
       "model_id": "80d90e3e463f47a5819d7a91a075f22f",
       "version_major": 2,
       "version_minor": 0
      },
      "text/plain": [
       "Validation: |          | 0/? [00:00<?, ?it/s]"
      ]
     },
     "metadata": {},
     "output_type": "display_data"
    },
    {
     "name": "stderr",
     "output_type": "stream",
     "text": [
      "Monitored metric val_loss did not improve in the last 10 records. Best score: 0.021. Signaling Trainer to stop.\n",
      "GPU available: True (cuda), used: True\n",
      "TPU available: False, using: 0 TPU cores\n",
      "HPU available: False, using: 0 HPUs\n",
      "LOCAL_RANK: 0 - CUDA_VISIBLE_DEVICES: [0]\n"
     ]
    },
    {
     "name": "stdout",
     "output_type": "stream",
     "text": [
      "Modelo carregado do checkpoint para trial 17\n"
     ]
    },
    {
     "name": "stderr",
     "output_type": "stream",
     "text": [
      "/home/eduardo/Documentos/Water-Cycle-Neural-Network/venv/lib/python3.12/site-packages/pytorch_lightning/trainer/connectors/data_connector.py:425: The 'predict_dataloader' does not have many workers which may be a bottleneck. Consider increasing the value of the `num_workers` argument` to `num_workers=11` in the `DataLoader` to improve performance.\n"
     ]
    },
    {
     "data": {
      "application/vnd.jupyter.widget-view+json": {
       "model_id": "6abdd54f25144e6c9823cc9219655433",
       "version_major": 2,
       "version_minor": 0
      },
      "text/plain": [
       "Predicting: |          | 0/? [00:00<?, ?it/s]"
      ]
     },
     "metadata": {},
     "output_type": "display_data"
    },
    {
     "name": "stderr",
     "output_type": "stream",
     "text": [
      "[I 2025-05-14 12:44:35,313] Trial 17 finished with value: 52.73120851120651 and parameters: {'output_chunk_length': 23, 'input_chunk_length': 31, 'num_layers': 2, 'num_blocks': 3, 'num_stacks': 2, 'layer_widths': 118, 'activation': 'GELU', 'dropout': 0.13045584100289448, 'batch_size': 22, 'lr': 0.005280026511296435, 'forecast_horizon': 15}. Best is trial 3 with value: 50.43235393618171.\n",
      "GPU available: True (cuda), used: True\n",
      "TPU available: False, using: 0 TPU cores\n",
      "HPU available: False, using: 0 HPUs\n",
      "LOCAL_RANK: 0 - CUDA_VISIBLE_DEVICES: [0]\n",
      "\n",
      "  | Name            | Type             | Params | Mode \n",
      "-------------------------------------------------------------\n",
      "0 | criterion       | HuberLoss        | 0      | train\n",
      "1 | train_criterion | HuberLoss        | 0      | train\n",
      "2 | val_criterion   | HuberLoss        | 0      | train\n",
      "3 | train_metrics   | MetricCollection | 0      | train\n",
      "4 | val_metrics     | MetricCollection | 0      | train\n",
      "5 | stacks          | ModuleList       | 372 K  | train\n",
      "-------------------------------------------------------------\n",
      "312 K     Trainable params\n",
      "60.3 K    Non-trainable params\n",
      "372 K     Total params\n",
      "1.491     Total estimated model params size (MB)\n",
      "42        Modules in train mode\n",
      "0         Modules in eval mode\n"
     ]
    },
    {
     "name": "stdout",
     "output_type": "stream",
     "text": [
      "Iniciando a verificação das séries temporais para constância...\n",
      "\n",
      "Métricas de performance:\n",
      "                                     MSE        RMSE         MAE          R2  \\\n",
      "Temperature                     1.511796    1.229551    0.876173    0.554273   \n",
      "Precipitation_accumulated      98.984583    9.949100    6.745521 -103.072341   \n",
      "Humidity                       20.884937    4.570004    3.499875    0.679428   \n",
      "Wind_Speed_kmh                  0.241654    0.491584    0.215064    0.296330   \n",
      "Soil_Moisture              173496.677075  416.529323  240.757865    0.767556   \n",
      "Soil_Temperature                1.623970    1.274351    1.034991    0.709537   \n",
      "Wind_Dir_Sin                    0.111918    0.334541    0.199341    0.309190   \n",
      "Wind_Dir_Cos                    0.113760    0.337284    0.215281    0.606637   \n",
      "\n",
      "                                SMAPE  \n",
      "Temperature                 15.129324  \n",
      "Precipitation_accumulated    1.487117  \n",
      "Humidity                     4.157899  \n",
      "Wind_Speed_kmh             167.349962  \n",
      "Soil_Moisture                3.854757  \n",
      "Soil_Temperature            25.682928  \n",
      "Wind_Dir_Sin               155.726593  \n",
      "Wind_Dir_Cos                48.461088  \n",
      "O SMAPE desse fold foi 52.73120851120651\n",
      "Resultados do trial 17 salvos em optuna_iteration_metrics/trial_17.json\n",
      "Current value: 52.73120851120651, Current params: {'output_chunk_length': 23, 'input_chunk_length': 31, 'num_layers': 2, 'num_blocks': 3, 'num_stacks': 2, 'layer_widths': 118, 'activation': 'GELU', 'dropout': 0.13045584100289448, 'batch_size': 22, 'lr': 0.005280026511296435, 'forecast_horizon': 15}\n",
      "Best value: 50.43235393618171, Best params: {'output_chunk_length': 27, 'input_chunk_length': 38, 'num_layers': 1, 'num_blocks': 3, 'num_stacks': 2, 'layer_widths': 85, 'activation': 'GELU', 'dropout': 0.18882539432465545, 'batch_size': 37, 'lr': 0.006016691509040486, 'forecast_horizon': 12}\n",
      "\n",
      "Iniciando Trial 18\n",
      "Hiperparâmetros: {'output_chunk_length': 23, 'input_chunk_length': 27, 'num_layers': 1, 'num_blocks': 2, 'num_stacks': 2, 'layer_widths': 123, 'activation': 'ReLU', 'dropout': 0.18431981336473585, 'batch_size': 21, 'lr': 0.0012215993152856052, 'forecast_horizon': 13}\n",
      "\n",
      "Treinando o modelo...\n",
      "Train set: 6647 samples\n",
      "Validation set: 1662 samples\n"
     ]
    },
    {
     "data": {
      "application/vnd.jupyter.widget-view+json": {
       "model_id": "78ed7a2e7b024fb4b71d75b4db3bace5",
       "version_major": 2,
       "version_minor": 0
      },
      "text/plain": [
       "Sanity Checking: |          | 0/? [00:00<?, ?it/s]"
      ]
     },
     "metadata": {},
     "output_type": "display_data"
    },
    {
     "name": "stderr",
     "output_type": "stream",
     "text": [
      "/home/eduardo/Documentos/Water-Cycle-Neural-Network/venv/lib/python3.12/site-packages/pytorch_lightning/trainer/connectors/data_connector.py:425: The 'val_dataloader' does not have many workers which may be a bottleneck. Consider increasing the value of the `num_workers` argument` to `num_workers=11` in the `DataLoader` to improve performance.\n",
      "/home/eduardo/Documentos/Water-Cycle-Neural-Network/venv/lib/python3.12/site-packages/pytorch_lightning/trainer/connectors/data_connector.py:425: The 'train_dataloader' does not have many workers which may be a bottleneck. Consider increasing the value of the `num_workers` argument` to `num_workers=11` in the `DataLoader` to improve performance.\n"
     ]
    },
    {
     "data": {
      "application/vnd.jupyter.widget-view+json": {
       "model_id": "996720c69c664d19a5716b46c4a040a7",
       "version_major": 2,
       "version_minor": 0
      },
      "text/plain": [
       "Training: |          | 0/? [00:00<?, ?it/s]"
      ]
     },
     "metadata": {},
     "output_type": "display_data"
    },
    {
     "data": {
      "application/vnd.jupyter.widget-view+json": {
       "model_id": "e00fd265346947febfa8882b05a81325",
       "version_major": 2,
       "version_minor": 0
      },
      "text/plain": [
       "Validation: |          | 0/? [00:00<?, ?it/s]"
      ]
     },
     "metadata": {},
     "output_type": "display_data"
    },
    {
     "name": "stderr",
     "output_type": "stream",
     "text": [
      "Metric val_loss improved. New best score: 0.026\n"
     ]
    },
    {
     "data": {
      "application/vnd.jupyter.widget-view+json": {
       "model_id": "65945817f5304c198e22ef3300ec719a",
       "version_major": 2,
       "version_minor": 0
      },
      "text/plain": [
       "Validation: |          | 0/? [00:00<?, ?it/s]"
      ]
     },
     "metadata": {},
     "output_type": "display_data"
    },
    {
     "name": "stderr",
     "output_type": "stream",
     "text": [
      "Metric val_loss improved by 0.004 >= min_delta = 0.001. New best score: 0.023\n"
     ]
    },
    {
     "data": {
      "application/vnd.jupyter.widget-view+json": {
       "model_id": "23f90bdc4aab4be1a5577b9dc01c50dd",
       "version_major": 2,
       "version_minor": 0
      },
      "text/plain": [
       "Validation: |          | 0/? [00:00<?, ?it/s]"
      ]
     },
     "metadata": {},
     "output_type": "display_data"
    },
    {
     "data": {
      "application/vnd.jupyter.widget-view+json": {
       "model_id": "3a792a4a8bc746fba04fc75587f30ee0",
       "version_major": 2,
       "version_minor": 0
      },
      "text/plain": [
       "Validation: |          | 0/? [00:00<?, ?it/s]"
      ]
     },
     "metadata": {},
     "output_type": "display_data"
    },
    {
     "data": {
      "application/vnd.jupyter.widget-view+json": {
       "model_id": "111cd821e98f4bff9997af2eb0262e82",
       "version_major": 2,
       "version_minor": 0
      },
      "text/plain": [
       "Validation: |          | 0/? [00:00<?, ?it/s]"
      ]
     },
     "metadata": {},
     "output_type": "display_data"
    },
    {
     "data": {
      "application/vnd.jupyter.widget-view+json": {
       "model_id": "47c5d8896da54059ad10a242dca0cc2e",
       "version_major": 2,
       "version_minor": 0
      },
      "text/plain": [
       "Validation: |          | 0/? [00:00<?, ?it/s]"
      ]
     },
     "metadata": {},
     "output_type": "display_data"
    },
    {
     "data": {
      "application/vnd.jupyter.widget-view+json": {
       "model_id": "5f0eb26480a4452e98df98bf9777e549",
       "version_major": 2,
       "version_minor": 0
      },
      "text/plain": [
       "Validation: |          | 0/? [00:00<?, ?it/s]"
      ]
     },
     "metadata": {},
     "output_type": "display_data"
    },
    {
     "data": {
      "application/vnd.jupyter.widget-view+json": {
       "model_id": "e688714c428a44fc9c45c202e4744923",
       "version_major": 2,
       "version_minor": 0
      },
      "text/plain": [
       "Validation: |          | 0/? [00:00<?, ?it/s]"
      ]
     },
     "metadata": {},
     "output_type": "display_data"
    },
    {
     "data": {
      "application/vnd.jupyter.widget-view+json": {
       "model_id": "69d4c42fcbf74dfd93b5e9e20c6aed17",
       "version_major": 2,
       "version_minor": 0
      },
      "text/plain": [
       "Validation: |          | 0/? [00:00<?, ?it/s]"
      ]
     },
     "metadata": {},
     "output_type": "display_data"
    },
    {
     "data": {
      "application/vnd.jupyter.widget-view+json": {
       "model_id": "93a5a517c8df4acb86865b4e63c70a9c",
       "version_major": 2,
       "version_minor": 0
      },
      "text/plain": [
       "Validation: |          | 0/? [00:00<?, ?it/s]"
      ]
     },
     "metadata": {},
     "output_type": "display_data"
    },
    {
     "data": {
      "application/vnd.jupyter.widget-view+json": {
       "model_id": "ec4f098253a241b5aee697da04a9c440",
       "version_major": 2,
       "version_minor": 0
      },
      "text/plain": [
       "Validation: |          | 0/? [00:00<?, ?it/s]"
      ]
     },
     "metadata": {},
     "output_type": "display_data"
    },
    {
     "data": {
      "application/vnd.jupyter.widget-view+json": {
       "model_id": "0d9e42c0b1c4488c80bbf0429db16832",
       "version_major": 2,
       "version_minor": 0
      },
      "text/plain": [
       "Validation: |          | 0/? [00:00<?, ?it/s]"
      ]
     },
     "metadata": {},
     "output_type": "display_data"
    },
    {
     "name": "stderr",
     "output_type": "stream",
     "text": [
      "Monitored metric val_loss did not improve in the last 10 records. Best score: 0.023. Signaling Trainer to stop.\n",
      "GPU available: True (cuda), used: True\n",
      "TPU available: False, using: 0 TPU cores\n",
      "HPU available: False, using: 0 HPUs\n",
      "LOCAL_RANK: 0 - CUDA_VISIBLE_DEVICES: [0]\n"
     ]
    },
    {
     "name": "stdout",
     "output_type": "stream",
     "text": [
      "Modelo carregado do checkpoint para trial 18\n"
     ]
    },
    {
     "name": "stderr",
     "output_type": "stream",
     "text": [
      "/home/eduardo/Documentos/Water-Cycle-Neural-Network/venv/lib/python3.12/site-packages/pytorch_lightning/trainer/connectors/data_connector.py:425: The 'predict_dataloader' does not have many workers which may be a bottleneck. Consider increasing the value of the `num_workers` argument` to `num_workers=11` in the `DataLoader` to improve performance.\n"
     ]
    },
    {
     "data": {
      "application/vnd.jupyter.widget-view+json": {
       "model_id": "939bbedb9aff4f899fe90d242b9ab5fb",
       "version_major": 2,
       "version_minor": 0
      },
      "text/plain": [
       "Predicting: |          | 0/? [00:00<?, ?it/s]"
      ]
     },
     "metadata": {},
     "output_type": "display_data"
    },
    {
     "name": "stderr",
     "output_type": "stream",
     "text": [
      "[I 2025-05-14 12:45:02,425] Trial 18 finished with value: 54.98368714198038 and parameters: {'output_chunk_length': 23, 'input_chunk_length': 27, 'num_layers': 1, 'num_blocks': 2, 'num_stacks': 2, 'layer_widths': 123, 'activation': 'ReLU', 'dropout': 0.18431981336473585, 'batch_size': 21, 'lr': 0.0012215993152856052, 'forecast_horizon': 13}. Best is trial 3 with value: 50.43235393618171.\n",
      "GPU available: True (cuda), used: True\n",
      "TPU available: False, using: 0 TPU cores\n",
      "HPU available: False, using: 0 HPUs\n",
      "LOCAL_RANK: 0 - CUDA_VISIBLE_DEVICES: [0]\n",
      "\n",
      "  | Name            | Type             | Params | Mode \n",
      "-------------------------------------------------------------\n",
      "0 | criterion       | HuberLoss        | 0      | train\n",
      "1 | train_criterion | HuberLoss        | 0      | train\n",
      "2 | val_criterion   | HuberLoss        | 0      | train\n",
      "3 | train_metrics   | MetricCollection | 0      | train\n",
      "4 | val_metrics     | MetricCollection | 0      | train\n",
      "5 | stacks          | ModuleList       | 1.9 M  | train\n",
      "-------------------------------------------------------------\n",
      "1.8 M     Trainable params\n",
      "101 K     Non-trainable params\n",
      "1.9 M     Total params\n",
      "7.493     Total estimated model params size (MB)\n",
      "106       Modules in train mode\n",
      "0         Modules in eval mode\n"
     ]
    },
    {
     "name": "stdout",
     "output_type": "stream",
     "text": [
      "Iniciando a verificação das séries temporais para constância...\n",
      "\n",
      "Métricas de performance:\n",
      "                                     MSE        RMSE         MAE          R2  \\\n",
      "Temperature                     1.819373    1.348842    1.069130    0.463722   \n",
      "Precipitation_accumulated     580.307473   24.089572   21.738779 -609.324974   \n",
      "Humidity                       32.510189    5.701771    4.756627    0.500762   \n",
      "Wind_Speed_kmh                  0.227333    0.476795    0.253985    0.337100   \n",
      "Soil_Moisture              131500.570990  362.630075  207.037555    0.823583   \n",
      "Soil_Temperature                1.342939    1.158852    0.846946    0.759915   \n",
      "Wind_Dir_Sin                    0.106578    0.326463    0.199335    0.341271   \n",
      "Wind_Dir_Cos                    0.127346    0.356855    0.260687    0.559165   \n",
      "\n",
      "                                SMAPE  \n",
      "Temperature                 18.272384  \n",
      "Precipitation_accumulated    4.851543  \n",
      "Humidity                     5.586872  \n",
      "Wind_Speed_kmh             165.285880  \n",
      "Soil_Moisture                3.278825  \n",
      "Soil_Temperature            24.396603  \n",
      "Wind_Dir_Sin               161.683094  \n",
      "Wind_Dir_Cos                56.514297  \n",
      "O SMAPE desse fold foi 54.98368714198038\n",
      "Resultados do trial 18 salvos em optuna_iteration_metrics/trial_18.json\n",
      "Current value: 54.98368714198038, Current params: {'output_chunk_length': 23, 'input_chunk_length': 27, 'num_layers': 1, 'num_blocks': 2, 'num_stacks': 2, 'layer_widths': 123, 'activation': 'ReLU', 'dropout': 0.18431981336473585, 'batch_size': 21, 'lr': 0.0012215993152856052, 'forecast_horizon': 13}\n",
      "Best value: 50.43235393618171, Best params: {'output_chunk_length': 27, 'input_chunk_length': 38, 'num_layers': 1, 'num_blocks': 3, 'num_stacks': 2, 'layer_widths': 85, 'activation': 'GELU', 'dropout': 0.18882539432465545, 'batch_size': 37, 'lr': 0.006016691509040486, 'forecast_horizon': 12}\n",
      "\n",
      "Iniciando Trial 19\n",
      "Hiperparâmetros: {'output_chunk_length': 18, 'input_chunk_length': 27, 'num_layers': 3, 'num_blocks': 4, 'num_stacks': 2, 'layer_widths': 207, 'activation': 'GELU', 'dropout': 0.22846478446892227, 'batch_size': 16, 'lr': 0.003623216027283121, 'forecast_horizon': 19}\n",
      "\n",
      "Treinando o modelo...\n",
      "Train set: 6647 samples\n",
      "Validation set: 1662 samples\n"
     ]
    },
    {
     "data": {
      "application/vnd.jupyter.widget-view+json": {
       "model_id": "3e80b493bf12470f83611dc2f6c20789",
       "version_major": 2,
       "version_minor": 0
      },
      "text/plain": [
       "Sanity Checking: |          | 0/? [00:00<?, ?it/s]"
      ]
     },
     "metadata": {},
     "output_type": "display_data"
    },
    {
     "name": "stderr",
     "output_type": "stream",
     "text": [
      "/home/eduardo/Documentos/Water-Cycle-Neural-Network/venv/lib/python3.12/site-packages/pytorch_lightning/trainer/connectors/data_connector.py:425: The 'val_dataloader' does not have many workers which may be a bottleneck. Consider increasing the value of the `num_workers` argument` to `num_workers=11` in the `DataLoader` to improve performance.\n",
      "/home/eduardo/Documentos/Water-Cycle-Neural-Network/venv/lib/python3.12/site-packages/pytorch_lightning/trainer/connectors/data_connector.py:425: The 'train_dataloader' does not have many workers which may be a bottleneck. Consider increasing the value of the `num_workers` argument` to `num_workers=11` in the `DataLoader` to improve performance.\n"
     ]
    },
    {
     "data": {
      "application/vnd.jupyter.widget-view+json": {
       "model_id": "473e502072ad4af19b64cd204bf31e23",
       "version_major": 2,
       "version_minor": 0
      },
      "text/plain": [
       "Training: |          | 0/? [00:00<?, ?it/s]"
      ]
     },
     "metadata": {},
     "output_type": "display_data"
    },
    {
     "data": {
      "application/vnd.jupyter.widget-view+json": {
       "model_id": "ac0eaee21af6466184a227da0f167af9",
       "version_major": 2,
       "version_minor": 0
      },
      "text/plain": [
       "Validation: |          | 0/? [00:00<?, ?it/s]"
      ]
     },
     "metadata": {},
     "output_type": "display_data"
    },
    {
     "name": "stderr",
     "output_type": "stream",
     "text": [
      "Metric val_loss improved. New best score: 0.023\n"
     ]
    },
    {
     "data": {
      "application/vnd.jupyter.widget-view+json": {
       "model_id": "0e516163915045ca89791227fbd0c882",
       "version_major": 2,
       "version_minor": 0
      },
      "text/plain": [
       "Validation: |          | 0/? [00:00<?, ?it/s]"
      ]
     },
     "metadata": {},
     "output_type": "display_data"
    },
    {
     "data": {
      "application/vnd.jupyter.widget-view+json": {
       "model_id": "7d12012b86a74e38bf336ca1590b412c",
       "version_major": 2,
       "version_minor": 0
      },
      "text/plain": [
       "Validation: |          | 0/? [00:00<?, ?it/s]"
      ]
     },
     "metadata": {},
     "output_type": "display_data"
    },
    {
     "data": {
      "application/vnd.jupyter.widget-view+json": {
       "model_id": "8f8e5f330e8c421cb0468fc109e8a668",
       "version_major": 2,
       "version_minor": 0
      },
      "text/plain": [
       "Validation: |          | 0/? [00:00<?, ?it/s]"
      ]
     },
     "metadata": {},
     "output_type": "display_data"
    },
    {
     "data": {
      "application/vnd.jupyter.widget-view+json": {
       "model_id": "2563da5e1ea648b2ab207fdb759df122",
       "version_major": 2,
       "version_minor": 0
      },
      "text/plain": [
       "Validation: |          | 0/? [00:00<?, ?it/s]"
      ]
     },
     "metadata": {},
     "output_type": "display_data"
    },
    {
     "data": {
      "application/vnd.jupyter.widget-view+json": {
       "model_id": "31800a371acc48e5a66c7acdb4afd9b6",
       "version_major": 2,
       "version_minor": 0
      },
      "text/plain": [
       "Validation: |          | 0/? [00:00<?, ?it/s]"
      ]
     },
     "metadata": {},
     "output_type": "display_data"
    },
    {
     "data": {
      "application/vnd.jupyter.widget-view+json": {
       "model_id": "1c7521f439ae4e25b2dd06308a221ddf",
       "version_major": 2,
       "version_minor": 0
      },
      "text/plain": [
       "Validation: |          | 0/? [00:00<?, ?it/s]"
      ]
     },
     "metadata": {},
     "output_type": "display_data"
    },
    {
     "data": {
      "application/vnd.jupyter.widget-view+json": {
       "model_id": "2963a32a9d394e88a134c483f3363b06",
       "version_major": 2,
       "version_minor": 0
      },
      "text/plain": [
       "Validation: |          | 0/? [00:00<?, ?it/s]"
      ]
     },
     "metadata": {},
     "output_type": "display_data"
    },
    {
     "data": {
      "application/vnd.jupyter.widget-view+json": {
       "model_id": "25df2fc0fa1a4dc3ab51f6f375d45b03",
       "version_major": 2,
       "version_minor": 0
      },
      "text/plain": [
       "Validation: |          | 0/? [00:00<?, ?it/s]"
      ]
     },
     "metadata": {},
     "output_type": "display_data"
    },
    {
     "data": {
      "application/vnd.jupyter.widget-view+json": {
       "model_id": "6e56cb445f594603abb870856d304d3c",
       "version_major": 2,
       "version_minor": 0
      },
      "text/plain": [
       "Validation: |          | 0/? [00:00<?, ?it/s]"
      ]
     },
     "metadata": {},
     "output_type": "display_data"
    },
    {
     "data": {
      "application/vnd.jupyter.widget-view+json": {
       "model_id": "4906b1a1d455407795a30faa16f4f2d5",
       "version_major": 2,
       "version_minor": 0
      },
      "text/plain": [
       "Validation: |          | 0/? [00:00<?, ?it/s]"
      ]
     },
     "metadata": {},
     "output_type": "display_data"
    },
    {
     "name": "stderr",
     "output_type": "stream",
     "text": [
      "Monitored metric val_loss did not improve in the last 10 records. Best score: 0.023. Signaling Trainer to stop.\n",
      "`predict()` was called with `n > output_chunk_length`: using auto-regression to forecast the values after `output_chunk_length` points. The model will access `(n - output_chunk_length)` future values of your `past_covariates` (relative to the first predicted time step). To hide this warning, set `show_warnings=False`.\n",
      "GPU available: True (cuda), used: True\n",
      "TPU available: False, using: 0 TPU cores\n",
      "HPU available: False, using: 0 HPUs\n",
      "LOCAL_RANK: 0 - CUDA_VISIBLE_DEVICES: [0]\n",
      "/home/eduardo/Documentos/Water-Cycle-Neural-Network/venv/lib/python3.12/site-packages/pytorch_lightning/trainer/connectors/data_connector.py:425: The 'predict_dataloader' does not have many workers which may be a bottleneck. Consider increasing the value of the `num_workers` argument` to `num_workers=11` in the `DataLoader` to improve performance.\n"
     ]
    },
    {
     "name": "stdout",
     "output_type": "stream",
     "text": [
      "Modelo carregado do checkpoint para trial 19\n"
     ]
    },
    {
     "data": {
      "application/vnd.jupyter.widget-view+json": {
       "model_id": "4c8146dae42c49848c5a7c0bd5c1b3fd",
       "version_major": 2,
       "version_minor": 0
      },
      "text/plain": [
       "Predicting: |          | 0/? [00:00<?, ?it/s]"
      ]
     },
     "metadata": {},
     "output_type": "display_data"
    },
    {
     "name": "stderr",
     "output_type": "stream",
     "text": [
      "[I 2025-05-14 12:45:57,524] Trial 19 finished with value: 55.83777496274131 and parameters: {'output_chunk_length': 18, 'input_chunk_length': 27, 'num_layers': 3, 'num_blocks': 4, 'num_stacks': 2, 'layer_widths': 207, 'activation': 'GELU', 'dropout': 0.22846478446892227, 'batch_size': 16, 'lr': 0.003623216027283121, 'forecast_horizon': 19}. Best is trial 3 with value: 50.43235393618171.\n",
      "GPU available: True (cuda), used: True\n",
      "TPU available: False, using: 0 TPU cores\n",
      "HPU available: False, using: 0 HPUs\n",
      "LOCAL_RANK: 0 - CUDA_VISIBLE_DEVICES: [0]\n",
      "\n",
      "  | Name            | Type             | Params | Mode \n",
      "-------------------------------------------------------------\n",
      "0 | criterion       | HuberLoss        | 0      | train\n",
      "1 | train_criterion | HuberLoss        | 0      | train\n",
      "2 | val_criterion   | HuberLoss        | 0      | train\n",
      "3 | train_metrics   | MetricCollection | 0      | train\n",
      "4 | val_metrics     | MetricCollection | 0      | train\n",
      "5 | stacks          | ModuleList       | 616 K  | train\n",
      "-------------------------------------------------------------\n",
      "556 K     Trainable params\n",
      "60.0 K    Non-trainable params\n",
      "616 K     Total params\n",
      "2.465     Total estimated model params size (MB)\n",
      "70        Modules in train mode\n",
      "0         Modules in eval mode\n"
     ]
    },
    {
     "name": "stdout",
     "output_type": "stream",
     "text": [
      "Iniciando a verificação das séries temporais para constância...\n",
      "\n",
      "Métricas de performance:\n",
      "                                     MSE        RMSE         MAE          R2  \\\n",
      "Temperature                     2.395602    1.547773    1.215874    0.291057   \n",
      "Precipitation_accumulated     441.798224   21.018997   16.734658 -463.221224   \n",
      "Humidity                       67.136021    8.193657    7.105536   -0.030970   \n",
      "Wind_Speed_kmh                  0.215299    0.464003    0.240285    0.374838   \n",
      "Soil_Moisture              204697.199243  452.434746  243.745331    0.726479   \n",
      "Soil_Temperature                3.299093    1.816340    1.332245    0.409036   \n",
      "Wind_Dir_Sin                    0.141618    0.376321    0.224202    0.128196   \n",
      "Wind_Dir_Cos                    0.153455    0.391734    0.240638    0.470576   \n",
      "\n",
      "                                SMAPE  \n",
      "Temperature                 20.141919  \n",
      "Precipitation_accumulated    3.594996  \n",
      "Humidity                     8.397363  \n",
      "Wind_Speed_kmh             170.790511  \n",
      "Soil_Moisture                3.808760  \n",
      "Soil_Temperature            25.868067  \n",
      "Wind_Dir_Sin               166.989520  \n",
      "Wind_Dir_Cos                47.111064  \n",
      "O SMAPE desse fold foi 55.83777496274131\n",
      "Resultados do trial 19 salvos em optuna_iteration_metrics/trial_19.json\n",
      "Current value: 55.83777496274131, Current params: {'output_chunk_length': 18, 'input_chunk_length': 27, 'num_layers': 3, 'num_blocks': 4, 'num_stacks': 2, 'layer_widths': 207, 'activation': 'GELU', 'dropout': 0.22846478446892227, 'batch_size': 16, 'lr': 0.003623216027283121, 'forecast_horizon': 19}\n",
      "Best value: 50.43235393618171, Best params: {'output_chunk_length': 27, 'input_chunk_length': 38, 'num_layers': 1, 'num_blocks': 3, 'num_stacks': 2, 'layer_widths': 85, 'activation': 'GELU', 'dropout': 0.18882539432465545, 'batch_size': 37, 'lr': 0.006016691509040486, 'forecast_horizon': 12}\n",
      "\n",
      "Iniciando Trial 20\n",
      "Hiperparâmetros: {'output_chunk_length': 22, 'input_chunk_length': 29, 'num_layers': 2, 'num_blocks': 3, 'num_stacks': 2, 'layer_widths': 114, 'activation': 'GELU', 'dropout': 0.07629863386785646, 'batch_size': 31, 'lr': 0.0013770775959600662, 'forecast_horizon': 9}\n",
      "\n",
      "Treinando o modelo...\n",
      "Train set: 6647 samples\n",
      "Validation set: 1662 samples\n"
     ]
    },
    {
     "data": {
      "application/vnd.jupyter.widget-view+json": {
       "model_id": "0f6b57d3dfba45e5a7f90c6da84651c1",
       "version_major": 2,
       "version_minor": 0
      },
      "text/plain": [
       "Sanity Checking: |          | 0/? [00:00<?, ?it/s]"
      ]
     },
     "metadata": {},
     "output_type": "display_data"
    },
    {
     "name": "stderr",
     "output_type": "stream",
     "text": [
      "/home/eduardo/Documentos/Water-Cycle-Neural-Network/venv/lib/python3.12/site-packages/pytorch_lightning/trainer/connectors/data_connector.py:425: The 'val_dataloader' does not have many workers which may be a bottleneck. Consider increasing the value of the `num_workers` argument` to `num_workers=11` in the `DataLoader` to improve performance.\n",
      "/home/eduardo/Documentos/Water-Cycle-Neural-Network/venv/lib/python3.12/site-packages/pytorch_lightning/trainer/connectors/data_connector.py:425: The 'train_dataloader' does not have many workers which may be a bottleneck. Consider increasing the value of the `num_workers` argument` to `num_workers=11` in the `DataLoader` to improve performance.\n"
     ]
    },
    {
     "data": {
      "application/vnd.jupyter.widget-view+json": {
       "model_id": "824bc7917131490e85862138dcbdb922",
       "version_major": 2,
       "version_minor": 0
      },
      "text/plain": [
       "Training: |          | 0/? [00:00<?, ?it/s]"
      ]
     },
     "metadata": {},
     "output_type": "display_data"
    },
    {
     "data": {
      "application/vnd.jupyter.widget-view+json": {
       "model_id": "fa6ff38dca394dd392c0d586aa4bc11a",
       "version_major": 2,
       "version_minor": 0
      },
      "text/plain": [
       "Validation: |          | 0/? [00:00<?, ?it/s]"
      ]
     },
     "metadata": {},
     "output_type": "display_data"
    },
    {
     "name": "stderr",
     "output_type": "stream",
     "text": [
      "Metric val_loss improved. New best score: 0.022\n"
     ]
    },
    {
     "data": {
      "application/vnd.jupyter.widget-view+json": {
       "model_id": "a758db7f5c9f43098f51cc988120d60a",
       "version_major": 2,
       "version_minor": 0
      },
      "text/plain": [
       "Validation: |          | 0/? [00:00<?, ?it/s]"
      ]
     },
     "metadata": {},
     "output_type": "display_data"
    },
    {
     "name": "stderr",
     "output_type": "stream",
     "text": [
      "Metric val_loss improved by 0.001 >= min_delta = 0.001. New best score: 0.021\n"
     ]
    },
    {
     "data": {
      "application/vnd.jupyter.widget-view+json": {
       "model_id": "7cd41c47e9ad49379288fbeb11861140",
       "version_major": 2,
       "version_minor": 0
      },
      "text/plain": [
       "Validation: |          | 0/? [00:00<?, ?it/s]"
      ]
     },
     "metadata": {},
     "output_type": "display_data"
    },
    {
     "data": {
      "application/vnd.jupyter.widget-view+json": {
       "model_id": "0ed43674a5204e4e90b2a556b13d04cf",
       "version_major": 2,
       "version_minor": 0
      },
      "text/plain": [
       "Validation: |          | 0/? [00:00<?, ?it/s]"
      ]
     },
     "metadata": {},
     "output_type": "display_data"
    },
    {
     "data": {
      "application/vnd.jupyter.widget-view+json": {
       "model_id": "8ff22a06c5f944ff85809b2de4a892a5",
       "version_major": 2,
       "version_minor": 0
      },
      "text/plain": [
       "Validation: |          | 0/? [00:00<?, ?it/s]"
      ]
     },
     "metadata": {},
     "output_type": "display_data"
    },
    {
     "data": {
      "application/vnd.jupyter.widget-view+json": {
       "model_id": "49a22452cacc4d14be8cc0ca9871c391",
       "version_major": 2,
       "version_minor": 0
      },
      "text/plain": [
       "Validation: |          | 0/? [00:00<?, ?it/s]"
      ]
     },
     "metadata": {},
     "output_type": "display_data"
    },
    {
     "data": {
      "application/vnd.jupyter.widget-view+json": {
       "model_id": "2de0f75f77994e4a9a631b8c9a9c2f94",
       "version_major": 2,
       "version_minor": 0
      },
      "text/plain": [
       "Validation: |          | 0/? [00:00<?, ?it/s]"
      ]
     },
     "metadata": {},
     "output_type": "display_data"
    },
    {
     "data": {
      "application/vnd.jupyter.widget-view+json": {
       "model_id": "feb673c44dfb4d7fb95014ba06696240",
       "version_major": 2,
       "version_minor": 0
      },
      "text/plain": [
       "Validation: |          | 0/? [00:00<?, ?it/s]"
      ]
     },
     "metadata": {},
     "output_type": "display_data"
    },
    {
     "data": {
      "application/vnd.jupyter.widget-view+json": {
       "model_id": "fb65904051be426da1b8a543339f0d51",
       "version_major": 2,
       "version_minor": 0
      },
      "text/plain": [
       "Validation: |          | 0/? [00:00<?, ?it/s]"
      ]
     },
     "metadata": {},
     "output_type": "display_data"
    },
    {
     "data": {
      "application/vnd.jupyter.widget-view+json": {
       "model_id": "ac4a8f16aaa54edb8cd26bea98f5aabd",
       "version_major": 2,
       "version_minor": 0
      },
      "text/plain": [
       "Validation: |          | 0/? [00:00<?, ?it/s]"
      ]
     },
     "metadata": {},
     "output_type": "display_data"
    },
    {
     "data": {
      "application/vnd.jupyter.widget-view+json": {
       "model_id": "2e5266ca52844a9b99649a136a710a03",
       "version_major": 2,
       "version_minor": 0
      },
      "text/plain": [
       "Validation: |          | 0/? [00:00<?, ?it/s]"
      ]
     },
     "metadata": {},
     "output_type": "display_data"
    },
    {
     "data": {
      "application/vnd.jupyter.widget-view+json": {
       "model_id": "8c0b75d51d8f43e1bfd637ef364863b0",
       "version_major": 2,
       "version_minor": 0
      },
      "text/plain": [
       "Validation: |          | 0/? [00:00<?, ?it/s]"
      ]
     },
     "metadata": {},
     "output_type": "display_data"
    },
    {
     "name": "stderr",
     "output_type": "stream",
     "text": [
      "Monitored metric val_loss did not improve in the last 10 records. Best score: 0.021. Signaling Trainer to stop.\n",
      "GPU available: True (cuda), used: True\n",
      "TPU available: False, using: 0 TPU cores\n",
      "HPU available: False, using: 0 HPUs\n",
      "LOCAL_RANK: 0 - CUDA_VISIBLE_DEVICES: [0]\n"
     ]
    },
    {
     "name": "stdout",
     "output_type": "stream",
     "text": [
      "Modelo carregado do checkpoint para trial 20\n"
     ]
    },
    {
     "name": "stderr",
     "output_type": "stream",
     "text": [
      "/home/eduardo/Documentos/Water-Cycle-Neural-Network/venv/lib/python3.12/site-packages/pytorch_lightning/trainer/connectors/data_connector.py:425: The 'predict_dataloader' does not have many workers which may be a bottleneck. Consider increasing the value of the `num_workers` argument` to `num_workers=11` in the `DataLoader` to improve performance.\n"
     ]
    },
    {
     "data": {
      "application/vnd.jupyter.widget-view+json": {
       "model_id": "6b06455a0bbf4ae3bf7027db620089c9",
       "version_major": 2,
       "version_minor": 0
      },
      "text/plain": [
       "Predicting: |          | 0/? [00:00<?, ?it/s]"
      ]
     },
     "metadata": {},
     "output_type": "display_data"
    },
    {
     "name": "stderr",
     "output_type": "stream",
     "text": [
      "[I 2025-05-14 12:46:22,257] Trial 20 finished with value: 54.81226432436195 and parameters: {'output_chunk_length': 22, 'input_chunk_length': 29, 'num_layers': 2, 'num_blocks': 3, 'num_stacks': 2, 'layer_widths': 114, 'activation': 'GELU', 'dropout': 0.07629863386785646, 'batch_size': 31, 'lr': 0.0013770775959600662, 'forecast_horizon': 9}. Best is trial 3 with value: 50.43235393618171.\n",
      "GPU available: True (cuda), used: True\n",
      "TPU available: False, using: 0 TPU cores\n",
      "HPU available: False, using: 0 HPUs\n",
      "LOCAL_RANK: 0 - CUDA_VISIBLE_DEVICES: [0]\n",
      "\n",
      "  | Name            | Type             | Params | Mode \n",
      "-------------------------------------------------------------\n",
      "0 | criterion       | HuberLoss        | 0      | train\n",
      "1 | train_criterion | HuberLoss        | 0      | train\n",
      "2 | val_criterion   | HuberLoss        | 0      | train\n",
      "3 | train_metrics   | MetricCollection | 0      | train\n",
      "4 | val_metrics     | MetricCollection | 0      | train\n",
      "5 | stacks          | ModuleList       | 666 K  | train\n",
      "-------------------------------------------------------------\n",
      "610 K     Trainable params\n",
      "56.1 K    Non-trainable params\n",
      "666 K     Total params\n",
      "2.665     Total estimated model params size (MB)\n",
      "102       Modules in train mode\n",
      "0         Modules in eval mode\n"
     ]
    },
    {
     "name": "stdout",
     "output_type": "stream",
     "text": [
      "Iniciando a verificação das séries temporais para constância...\n",
      "\n",
      "Métricas de performance:\n",
      "                                     MSE        RMSE         MAE          R2  \\\n",
      "Temperature                     3.841150    1.959885    1.710413   -0.131343   \n",
      "Precipitation_accumulated     147.461942   12.143391    9.779044 -154.187591   \n",
      "Humidity                       21.233864    4.608022    3.610446    0.673728   \n",
      "Wind_Speed_kmh                  0.187754    0.433306    0.268271    0.450974   \n",
      "Soil_Moisture              127983.742819  357.748156  213.849235    0.827841   \n",
      "Soil_Temperature                4.171292    2.042374    1.628232    0.255092   \n",
      "Wind_Dir_Sin                    0.099942    0.316136    0.196038    0.380647   \n",
      "Wind_Dir_Cos                    0.129864    0.360367    0.199257    0.549432   \n",
      "\n",
      "                                SMAPE  \n",
      "Temperature                 26.010265  \n",
      "Precipitation_accumulated    2.131236  \n",
      "Humidity                     4.314052  \n",
      "Wind_Speed_kmh             170.410052  \n",
      "Soil_Moisture                3.337022  \n",
      "Soil_Temperature            30.082962  \n",
      "Wind_Dir_Sin               157.959530  \n",
      "Wind_Dir_Cos                44.252996  \n",
      "O SMAPE desse fold foi 54.81226432436195\n",
      "Resultados do trial 20 salvos em optuna_iteration_metrics/trial_20.json\n",
      "Current value: 54.81226432436195, Current params: {'output_chunk_length': 22, 'input_chunk_length': 29, 'num_layers': 2, 'num_blocks': 3, 'num_stacks': 2, 'layer_widths': 114, 'activation': 'GELU', 'dropout': 0.07629863386785646, 'batch_size': 31, 'lr': 0.0013770775959600662, 'forecast_horizon': 9}\n",
      "Best value: 50.43235393618171, Best params: {'output_chunk_length': 27, 'input_chunk_length': 38, 'num_layers': 1, 'num_blocks': 3, 'num_stacks': 2, 'layer_widths': 85, 'activation': 'GELU', 'dropout': 0.18882539432465545, 'batch_size': 37, 'lr': 0.006016691509040486, 'forecast_horizon': 12}\n",
      "\n",
      "Iniciando Trial 21\n",
      "Hiperparâmetros: {'output_chunk_length': 33, 'input_chunk_length': 41, 'num_layers': 2, 'num_blocks': 3, 'num_stacks': 3, 'layer_widths': 75, 'activation': 'GELU', 'dropout': 0.1269737890232637, 'batch_size': 41, 'lr': 0.00536411901901357, 'forecast_horizon': 15}\n",
      "\n",
      "Treinando o modelo...\n",
      "Train set: 6647 samples\n",
      "Validation set: 1662 samples\n"
     ]
    },
    {
     "data": {
      "application/vnd.jupyter.widget-view+json": {
       "model_id": "4181a9a81dc44c44938c2d9562241b6d",
       "version_major": 2,
       "version_minor": 0
      },
      "text/plain": [
       "Sanity Checking: |          | 0/? [00:00<?, ?it/s]"
      ]
     },
     "metadata": {},
     "output_type": "display_data"
    },
    {
     "name": "stderr",
     "output_type": "stream",
     "text": [
      "/home/eduardo/Documentos/Water-Cycle-Neural-Network/venv/lib/python3.12/site-packages/pytorch_lightning/trainer/connectors/data_connector.py:425: The 'val_dataloader' does not have many workers which may be a bottleneck. Consider increasing the value of the `num_workers` argument` to `num_workers=11` in the `DataLoader` to improve performance.\n",
      "/home/eduardo/Documentos/Water-Cycle-Neural-Network/venv/lib/python3.12/site-packages/pytorch_lightning/trainer/connectors/data_connector.py:425: The 'train_dataloader' does not have many workers which may be a bottleneck. Consider increasing the value of the `num_workers` argument` to `num_workers=11` in the `DataLoader` to improve performance.\n"
     ]
    },
    {
     "data": {
      "application/vnd.jupyter.widget-view+json": {
       "model_id": "2b67942e259b414f8be12d30b1641f75",
       "version_major": 2,
       "version_minor": 0
      },
      "text/plain": [
       "Training: |          | 0/? [00:00<?, ?it/s]"
      ]
     },
     "metadata": {},
     "output_type": "display_data"
    },
    {
     "data": {
      "application/vnd.jupyter.widget-view+json": {
       "model_id": "ac62852d02e44dda9b5d1b8f091526b6",
       "version_major": 2,
       "version_minor": 0
      },
      "text/plain": [
       "Validation: |          | 0/? [00:00<?, ?it/s]"
      ]
     },
     "metadata": {},
     "output_type": "display_data"
    },
    {
     "name": "stderr",
     "output_type": "stream",
     "text": [
      "Metric val_loss improved. New best score: 0.029\n"
     ]
    },
    {
     "data": {
      "application/vnd.jupyter.widget-view+json": {
       "model_id": "ad1c37a1ee8044749e8a31f183e0f383",
       "version_major": 2,
       "version_minor": 0
      },
      "text/plain": [
       "Validation: |          | 0/? [00:00<?, ?it/s]"
      ]
     },
     "metadata": {},
     "output_type": "display_data"
    },
    {
     "name": "stderr",
     "output_type": "stream",
     "text": [
      "Metric val_loss improved by 0.002 >= min_delta = 0.001. New best score: 0.027\n"
     ]
    },
    {
     "data": {
      "application/vnd.jupyter.widget-view+json": {
       "model_id": "f0d6b806fc034789b5646b98e58c3cdc",
       "version_major": 2,
       "version_minor": 0
      },
      "text/plain": [
       "Validation: |          | 0/? [00:00<?, ?it/s]"
      ]
     },
     "metadata": {},
     "output_type": "display_data"
    },
    {
     "name": "stderr",
     "output_type": "stream",
     "text": [
      "Metric val_loss improved by 0.001 >= min_delta = 0.001. New best score: 0.025\n"
     ]
    },
    {
     "data": {
      "application/vnd.jupyter.widget-view+json": {
       "model_id": "2c5e57062c494815bd0abc34740716db",
       "version_major": 2,
       "version_minor": 0
      },
      "text/plain": [
       "Validation: |          | 0/? [00:00<?, ?it/s]"
      ]
     },
     "metadata": {},
     "output_type": "display_data"
    },
    {
     "data": {
      "application/vnd.jupyter.widget-view+json": {
       "model_id": "b88ac413d91e4f35a003b265a57bc088",
       "version_major": 2,
       "version_minor": 0
      },
      "text/plain": [
       "Validation: |          | 0/? [00:00<?, ?it/s]"
      ]
     },
     "metadata": {},
     "output_type": "display_data"
    },
    {
     "data": {
      "application/vnd.jupyter.widget-view+json": {
       "model_id": "5356824b84a3400b812ee1aea73ccf2c",
       "version_major": 2,
       "version_minor": 0
      },
      "text/plain": [
       "Validation: |          | 0/? [00:00<?, ?it/s]"
      ]
     },
     "metadata": {},
     "output_type": "display_data"
    },
    {
     "data": {
      "application/vnd.jupyter.widget-view+json": {
       "model_id": "2d2dae01c9b3458f8c86736b2a78263c",
       "version_major": 2,
       "version_minor": 0
      },
      "text/plain": [
       "Validation: |          | 0/? [00:00<?, ?it/s]"
      ]
     },
     "metadata": {},
     "output_type": "display_data"
    },
    {
     "data": {
      "application/vnd.jupyter.widget-view+json": {
       "model_id": "ad0555ad856d4b5f9c63b0e5ce606bd9",
       "version_major": 2,
       "version_minor": 0
      },
      "text/plain": [
       "Validation: |          | 0/? [00:00<?, ?it/s]"
      ]
     },
     "metadata": {},
     "output_type": "display_data"
    },
    {
     "data": {
      "application/vnd.jupyter.widget-view+json": {
       "model_id": "df4bb58b401c4058b12a9f799653e45c",
       "version_major": 2,
       "version_minor": 0
      },
      "text/plain": [
       "Validation: |          | 0/? [00:00<?, ?it/s]"
      ]
     },
     "metadata": {},
     "output_type": "display_data"
    },
    {
     "data": {
      "application/vnd.jupyter.widget-view+json": {
       "model_id": "a90b0858538845409f87d4a38b8e8231",
       "version_major": 2,
       "version_minor": 0
      },
      "text/plain": [
       "Validation: |          | 0/? [00:00<?, ?it/s]"
      ]
     },
     "metadata": {},
     "output_type": "display_data"
    },
    {
     "data": {
      "application/vnd.jupyter.widget-view+json": {
       "model_id": "eac4e169db9f48afb6d57a6071575b74",
       "version_major": 2,
       "version_minor": 0
      },
      "text/plain": [
       "Validation: |          | 0/? [00:00<?, ?it/s]"
      ]
     },
     "metadata": {},
     "output_type": "display_data"
    },
    {
     "data": {
      "application/vnd.jupyter.widget-view+json": {
       "model_id": "1a9e6520daf9412cbae0867a1bc0a7c0",
       "version_major": 2,
       "version_minor": 0
      },
      "text/plain": [
       "Validation: |          | 0/? [00:00<?, ?it/s]"
      ]
     },
     "metadata": {},
     "output_type": "display_data"
    },
    {
     "data": {
      "application/vnd.jupyter.widget-view+json": {
       "model_id": "419ae8852dfa4708b4f4c0d6e7ce50aa",
       "version_major": 2,
       "version_minor": 0
      },
      "text/plain": [
       "Validation: |          | 0/? [00:00<?, ?it/s]"
      ]
     },
     "metadata": {},
     "output_type": "display_data"
    },
    {
     "name": "stderr",
     "output_type": "stream",
     "text": [
      "Monitored metric val_loss did not improve in the last 10 records. Best score: 0.025. Signaling Trainer to stop.\n",
      "GPU available: True (cuda), used: True\n",
      "TPU available: False, using: 0 TPU cores\n",
      "HPU available: False, using: 0 HPUs\n",
      "LOCAL_RANK: 0 - CUDA_VISIBLE_DEVICES: [0]\n"
     ]
    },
    {
     "name": "stdout",
     "output_type": "stream",
     "text": [
      "Modelo carregado do checkpoint para trial 21\n"
     ]
    },
    {
     "name": "stderr",
     "output_type": "stream",
     "text": [
      "/home/eduardo/Documentos/Water-Cycle-Neural-Network/venv/lib/python3.12/site-packages/pytorch_lightning/trainer/connectors/data_connector.py:425: The 'predict_dataloader' does not have many workers which may be a bottleneck. Consider increasing the value of the `num_workers` argument` to `num_workers=11` in the `DataLoader` to improve performance.\n"
     ]
    },
    {
     "data": {
      "application/vnd.jupyter.widget-view+json": {
       "model_id": "c08db165db334103832bf9cf4a8f0611",
       "version_major": 2,
       "version_minor": 0
      },
      "text/plain": [
       "Predicting: |          | 0/? [00:00<?, ?it/s]"
      ]
     },
     "metadata": {},
     "output_type": "display_data"
    },
    {
     "name": "stderr",
     "output_type": "stream",
     "text": [
      "[I 2025-05-14 12:46:48,718] Trial 21 finished with value: 53.20171777313874 and parameters: {'output_chunk_length': 33, 'input_chunk_length': 41, 'num_layers': 2, 'num_blocks': 3, 'num_stacks': 3, 'layer_widths': 75, 'activation': 'GELU', 'dropout': 0.1269737890232637, 'batch_size': 41, 'lr': 0.00536411901901357, 'forecast_horizon': 15}. Best is trial 3 with value: 50.43235393618171.\n",
      "GPU available: True (cuda), used: True\n",
      "TPU available: False, using: 0 TPU cores\n",
      "HPU available: False, using: 0 HPUs\n",
      "LOCAL_RANK: 0 - CUDA_VISIBLE_DEVICES: [0]\n",
      "\n",
      "  | Name            | Type             | Params | Mode \n",
      "-------------------------------------------------------------\n",
      "0 | criterion       | HuberLoss        | 0      | train\n",
      "1 | train_criterion | HuberLoss        | 0      | train\n",
      "2 | val_criterion   | HuberLoss        | 0      | train\n",
      "3 | train_metrics   | MetricCollection | 0      | train\n",
      "4 | val_metrics     | MetricCollection | 0      | train\n",
      "5 | stacks          | ModuleList       | 589 K  | train\n",
      "-------------------------------------------------------------\n",
      "535 K     Trainable params\n",
      "54.2 K    Non-trainable params\n",
      "589 K     Total params\n",
      "2.358     Total estimated model params size (MB)\n",
      "84        Modules in train mode\n",
      "0         Modules in eval mode\n"
     ]
    },
    {
     "name": "stdout",
     "output_type": "stream",
     "text": [
      "Iniciando a verificação das séries temporais para constância...\n",
      "\n",
      "Métricas de performance:\n",
      "                                     MSE        RMSE         MAE          R2  \\\n",
      "Temperature                     2.649006    1.627577    1.185718    0.218987   \n",
      "Precipitation_accumulated     291.418623   17.070988   14.557723 -305.397393   \n",
      "Humidity                       21.111569    4.594733    3.255940    0.675949   \n",
      "Wind_Speed_kmh                  0.202886    0.450428    0.262742    0.409220   \n",
      "Soil_Moisture              143328.942816  378.588091  237.875745    0.807974   \n",
      "Soil_Temperature                2.971943    1.723933    1.140806    0.468438   \n",
      "Wind_Dir_Sin                    0.097791    0.312716    0.182583    0.396387   \n",
      "Wind_Dir_Cos                    0.107878    0.328448    0.189393    0.626977   \n",
      "\n",
      "                                SMAPE  \n",
      "Temperature                 19.372532  \n",
      "Precipitation_accumulated    3.228982  \n",
      "Humidity                     3.854985  \n",
      "Wind_Speed_kmh             169.117438  \n",
      "Soil_Moisture                3.783964  \n",
      "Soil_Temperature            24.210098  \n",
      "Wind_Dir_Sin               157.863809  \n",
      "Wind_Dir_Cos                44.181935  \n",
      "O SMAPE desse fold foi 53.20171777313874\n",
      "Resultados do trial 21 salvos em optuna_iteration_metrics/trial_21.json\n",
      "Current value: 53.20171777313874, Current params: {'output_chunk_length': 33, 'input_chunk_length': 41, 'num_layers': 2, 'num_blocks': 3, 'num_stacks': 3, 'layer_widths': 75, 'activation': 'GELU', 'dropout': 0.1269737890232637, 'batch_size': 41, 'lr': 0.00536411901901357, 'forecast_horizon': 15}\n",
      "Best value: 50.43235393618171, Best params: {'output_chunk_length': 27, 'input_chunk_length': 38, 'num_layers': 1, 'num_blocks': 3, 'num_stacks': 2, 'layer_widths': 85, 'activation': 'GELU', 'dropout': 0.18882539432465545, 'batch_size': 37, 'lr': 0.006016691509040486, 'forecast_horizon': 12}\n",
      "\n",
      "Iniciando Trial 22\n",
      "Hiperparâmetros: {'output_chunk_length': 34, 'input_chunk_length': 43, 'num_layers': 1, 'num_blocks': 3, 'num_stacks': 3, 'layer_widths': 69, 'activation': 'GELU', 'dropout': 0.12769794107457055, 'batch_size': 41, 'lr': 0.004553981957236648, 'forecast_horizon': 15}\n",
      "\n",
      "Treinando o modelo...\n",
      "Train set: 6647 samples\n",
      "Validation set: 1662 samples\n"
     ]
    },
    {
     "data": {
      "application/vnd.jupyter.widget-view+json": {
       "model_id": "92a5382d71d14df694dc57288497fdf4",
       "version_major": 2,
       "version_minor": 0
      },
      "text/plain": [
       "Sanity Checking: |          | 0/? [00:00<?, ?it/s]"
      ]
     },
     "metadata": {},
     "output_type": "display_data"
    },
    {
     "name": "stderr",
     "output_type": "stream",
     "text": [
      "/home/eduardo/Documentos/Water-Cycle-Neural-Network/venv/lib/python3.12/site-packages/pytorch_lightning/trainer/connectors/data_connector.py:425: The 'val_dataloader' does not have many workers which may be a bottleneck. Consider increasing the value of the `num_workers` argument` to `num_workers=11` in the `DataLoader` to improve performance.\n",
      "/home/eduardo/Documentos/Water-Cycle-Neural-Network/venv/lib/python3.12/site-packages/pytorch_lightning/trainer/connectors/data_connector.py:425: The 'train_dataloader' does not have many workers which may be a bottleneck. Consider increasing the value of the `num_workers` argument` to `num_workers=11` in the `DataLoader` to improve performance.\n"
     ]
    },
    {
     "data": {
      "application/vnd.jupyter.widget-view+json": {
       "model_id": "c61bab6cb5474d05998f8f64a35dffe3",
       "version_major": 2,
       "version_minor": 0
      },
      "text/plain": [
       "Training: |          | 0/? [00:00<?, ?it/s]"
      ]
     },
     "metadata": {},
     "output_type": "display_data"
    },
    {
     "data": {
      "application/vnd.jupyter.widget-view+json": {
       "model_id": "efe592f60ac6427bb41da791f2efb66a",
       "version_major": 2,
       "version_minor": 0
      },
      "text/plain": [
       "Validation: |          | 0/? [00:00<?, ?it/s]"
      ]
     },
     "metadata": {},
     "output_type": "display_data"
    },
    {
     "name": "stderr",
     "output_type": "stream",
     "text": [
      "Metric val_loss improved. New best score: 0.025\n"
     ]
    },
    {
     "data": {
      "application/vnd.jupyter.widget-view+json": {
       "model_id": "185bac59553346a7bb074068e4401091",
       "version_major": 2,
       "version_minor": 0
      },
      "text/plain": [
       "Validation: |          | 0/? [00:00<?, ?it/s]"
      ]
     },
     "metadata": {},
     "output_type": "display_data"
    },
    {
     "data": {
      "application/vnd.jupyter.widget-view+json": {
       "model_id": "4dfbbbebffb74892aa4eaff3ccc9ce7d",
       "version_major": 2,
       "version_minor": 0
      },
      "text/plain": [
       "Validation: |          | 0/? [00:00<?, ?it/s]"
      ]
     },
     "metadata": {},
     "output_type": "display_data"
    },
    {
     "data": {
      "application/vnd.jupyter.widget-view+json": {
       "model_id": "b958a165af074839b0e84ba5a5a7cc6c",
       "version_major": 2,
       "version_minor": 0
      },
      "text/plain": [
       "Validation: |          | 0/? [00:00<?, ?it/s]"
      ]
     },
     "metadata": {},
     "output_type": "display_data"
    },
    {
     "data": {
      "application/vnd.jupyter.widget-view+json": {
       "model_id": "02d760c9251a4cc7a7ed2ee2391ebff1",
       "version_major": 2,
       "version_minor": 0
      },
      "text/plain": [
       "Validation: |          | 0/? [00:00<?, ?it/s]"
      ]
     },
     "metadata": {},
     "output_type": "display_data"
    },
    {
     "data": {
      "application/vnd.jupyter.widget-view+json": {
       "model_id": "e640d14201db45df8bccf5a5e9d4114c",
       "version_major": 2,
       "version_minor": 0
      },
      "text/plain": [
       "Validation: |          | 0/? [00:00<?, ?it/s]"
      ]
     },
     "metadata": {},
     "output_type": "display_data"
    },
    {
     "data": {
      "application/vnd.jupyter.widget-view+json": {
       "model_id": "6ecae96427454130a6f7fb2534eedec9",
       "version_major": 2,
       "version_minor": 0
      },
      "text/plain": [
       "Validation: |          | 0/? [00:00<?, ?it/s]"
      ]
     },
     "metadata": {},
     "output_type": "display_data"
    },
    {
     "data": {
      "application/vnd.jupyter.widget-view+json": {
       "model_id": "30fdfdd27efa4a6d8ee4663cb2f2d63c",
       "version_major": 2,
       "version_minor": 0
      },
      "text/plain": [
       "Validation: |          | 0/? [00:00<?, ?it/s]"
      ]
     },
     "metadata": {},
     "output_type": "display_data"
    },
    {
     "data": {
      "application/vnd.jupyter.widget-view+json": {
       "model_id": "3d9efc7243d048f3a4e9a5f4c78e5bea",
       "version_major": 2,
       "version_minor": 0
      },
      "text/plain": [
       "Validation: |          | 0/? [00:00<?, ?it/s]"
      ]
     },
     "metadata": {},
     "output_type": "display_data"
    },
    {
     "data": {
      "application/vnd.jupyter.widget-view+json": {
       "model_id": "df65df0988914fbea4e213197dcf0db4",
       "version_major": 2,
       "version_minor": 0
      },
      "text/plain": [
       "Validation: |          | 0/? [00:00<?, ?it/s]"
      ]
     },
     "metadata": {},
     "output_type": "display_data"
    },
    {
     "data": {
      "application/vnd.jupyter.widget-view+json": {
       "model_id": "f6eee043f4f24c4db4397db15cfdc114",
       "version_major": 2,
       "version_minor": 0
      },
      "text/plain": [
       "Validation: |          | 0/? [00:00<?, ?it/s]"
      ]
     },
     "metadata": {},
     "output_type": "display_data"
    },
    {
     "name": "stderr",
     "output_type": "stream",
     "text": [
      "Monitored metric val_loss did not improve in the last 10 records. Best score: 0.025. Signaling Trainer to stop.\n",
      "GPU available: True (cuda), used: True\n",
      "TPU available: False, using: 0 TPU cores\n",
      "HPU available: False, using: 0 HPUs\n",
      "LOCAL_RANK: 0 - CUDA_VISIBLE_DEVICES: [0]\n"
     ]
    },
    {
     "name": "stdout",
     "output_type": "stream",
     "text": [
      "Modelo carregado do checkpoint para trial 22\n"
     ]
    },
    {
     "name": "stderr",
     "output_type": "stream",
     "text": [
      "/home/eduardo/Documentos/Water-Cycle-Neural-Network/venv/lib/python3.12/site-packages/pytorch_lightning/trainer/connectors/data_connector.py:425: The 'predict_dataloader' does not have many workers which may be a bottleneck. Consider increasing the value of the `num_workers` argument` to `num_workers=11` in the `DataLoader` to improve performance.\n"
     ]
    },
    {
     "data": {
      "application/vnd.jupyter.widget-view+json": {
       "model_id": "a20d0852001f441a8f8d10243820213b",
       "version_major": 2,
       "version_minor": 0
      },
      "text/plain": [
       "Predicting: |          | 0/? [00:00<?, ?it/s]"
      ]
     },
     "metadata": {},
     "output_type": "display_data"
    },
    {
     "name": "stderr",
     "output_type": "stream",
     "text": [
      "[I 2025-05-14 12:47:09,286] Trial 22 finished with value: 55.28856193751653 and parameters: {'output_chunk_length': 34, 'input_chunk_length': 43, 'num_layers': 1, 'num_blocks': 3, 'num_stacks': 3, 'layer_widths': 69, 'activation': 'GELU', 'dropout': 0.12769794107457055, 'batch_size': 41, 'lr': 0.004553981957236648, 'forecast_horizon': 15}. Best is trial 3 with value: 50.43235393618171.\n",
      "GPU available: True (cuda), used: True\n",
      "TPU available: False, using: 0 TPU cores\n",
      "HPU available: False, using: 0 HPUs\n",
      "LOCAL_RANK: 0 - CUDA_VISIBLE_DEVICES: [0]\n",
      "\n",
      "  | Name            | Type             | Params | Mode \n",
      "-------------------------------------------------------------\n",
      "0 | criterion       | HuberLoss        | 0      | train\n",
      "1 | train_criterion | HuberLoss        | 0      | train\n",
      "2 | val_criterion   | HuberLoss        | 0      | train\n",
      "3 | train_metrics   | MetricCollection | 0      | train\n",
      "4 | val_metrics     | MetricCollection | 0      | train\n",
      "5 | stacks          | ModuleList       | 327 K  | train\n",
      "-------------------------------------------------------------\n",
      "298 K     Trainable params\n",
      "28.5 K    Non-trainable params\n",
      "327 K     Total params\n",
      "1.309     Total estimated model params size (MB)\n",
      "102       Modules in train mode\n",
      "0         Modules in eval mode\n"
     ]
    },
    {
     "name": "stdout",
     "output_type": "stream",
     "text": [
      "Iniciando a verificação das séries temporais para constância...\n",
      "\n",
      "Métricas de performance:\n",
      "                                     MSE        RMSE         MAE          R2  \\\n",
      "Temperature                     1.973732    1.404896    1.050815    0.418080   \n",
      "Precipitation_accumulated     538.347164   23.202309   20.347355 -565.017935   \n",
      "Humidity                       23.179792    4.814540    3.730040    0.644203   \n",
      "Wind_Speed_kmh                  0.209386    0.457587    0.292158    0.390292   \n",
      "Soil_Moisture              207271.123702  455.270385  255.033847    0.722306   \n",
      "Soil_Temperature                3.068286    1.751652    1.537494    0.451206   \n",
      "Wind_Dir_Sin                    0.113504    0.336903    0.191665    0.299401   \n",
      "Wind_Dir_Cos                    0.119013    0.344983    0.240438    0.588473   \n",
      "\n",
      "                                SMAPE  \n",
      "Temperature                 18.196794  \n",
      "Precipitation_accumulated    4.522702  \n",
      "Humidity                     4.396727  \n",
      "Wind_Speed_kmh             166.379788  \n",
      "Soil_Moisture                3.891143  \n",
      "Soil_Temperature            32.559118  \n",
      "Wind_Dir_Sin               159.786949  \n",
      "Wind_Dir_Cos                52.575275  \n",
      "O SMAPE desse fold foi 55.28856193751653\n",
      "Resultados do trial 22 salvos em optuna_iteration_metrics/trial_22.json\n",
      "Current value: 55.28856193751653, Current params: {'output_chunk_length': 34, 'input_chunk_length': 43, 'num_layers': 1, 'num_blocks': 3, 'num_stacks': 3, 'layer_widths': 69, 'activation': 'GELU', 'dropout': 0.12769794107457055, 'batch_size': 41, 'lr': 0.004553981957236648, 'forecast_horizon': 15}\n",
      "Best value: 50.43235393618171, Best params: {'output_chunk_length': 27, 'input_chunk_length': 38, 'num_layers': 1, 'num_blocks': 3, 'num_stacks': 2, 'layer_widths': 85, 'activation': 'GELU', 'dropout': 0.18882539432465545, 'batch_size': 37, 'lr': 0.006016691509040486, 'forecast_horizon': 12}\n",
      "\n",
      "Iniciando Trial 23\n",
      "Hiperparâmetros: {'output_chunk_length': 43, 'input_chunk_length': 48, 'num_layers': 2, 'num_blocks': 3, 'num_stacks': 3, 'layer_widths': 32, 'activation': 'GELU', 'dropout': 0.13788817911305112, 'batch_size': 50, 'lr': 0.005146100571124964, 'forecast_horizon': 13}\n",
      "\n",
      "Treinando o modelo...\n",
      "Train set: 6647 samples\n",
      "Validation set: 1662 samples\n"
     ]
    },
    {
     "data": {
      "application/vnd.jupyter.widget-view+json": {
       "model_id": "afc3641239eb474e95e6f7ef11b81ec7",
       "version_major": 2,
       "version_minor": 0
      },
      "text/plain": [
       "Sanity Checking: |          | 0/? [00:00<?, ?it/s]"
      ]
     },
     "metadata": {},
     "output_type": "display_data"
    },
    {
     "name": "stderr",
     "output_type": "stream",
     "text": [
      "/home/eduardo/Documentos/Water-Cycle-Neural-Network/venv/lib/python3.12/site-packages/pytorch_lightning/trainer/connectors/data_connector.py:425: The 'val_dataloader' does not have many workers which may be a bottleneck. Consider increasing the value of the `num_workers` argument` to `num_workers=11` in the `DataLoader` to improve performance.\n",
      "/home/eduardo/Documentos/Water-Cycle-Neural-Network/venv/lib/python3.12/site-packages/pytorch_lightning/trainer/connectors/data_connector.py:425: The 'train_dataloader' does not have many workers which may be a bottleneck. Consider increasing the value of the `num_workers` argument` to `num_workers=11` in the `DataLoader` to improve performance.\n"
     ]
    },
    {
     "data": {
      "application/vnd.jupyter.widget-view+json": {
       "model_id": "5c0ff745ef1949d68037be64308a5e70",
       "version_major": 2,
       "version_minor": 0
      },
      "text/plain": [
       "Training: |          | 0/? [00:00<?, ?it/s]"
      ]
     },
     "metadata": {},
     "output_type": "display_data"
    },
    {
     "data": {
      "application/vnd.jupyter.widget-view+json": {
       "model_id": "0ab82c989de94f9eb77a4e8829e96c7d",
       "version_major": 2,
       "version_minor": 0
      },
      "text/plain": [
       "Validation: |          | 0/? [00:00<?, ?it/s]"
      ]
     },
     "metadata": {},
     "output_type": "display_data"
    },
    {
     "name": "stderr",
     "output_type": "stream",
     "text": [
      "Metric val_loss improved. New best score: 0.029\n"
     ]
    },
    {
     "data": {
      "application/vnd.jupyter.widget-view+json": {
       "model_id": "1cd6d42270df40f4a6111dd6d48e8139",
       "version_major": 2,
       "version_minor": 0
      },
      "text/plain": [
       "Validation: |          | 0/? [00:00<?, ?it/s]"
      ]
     },
     "metadata": {},
     "output_type": "display_data"
    },
    {
     "name": "stderr",
     "output_type": "stream",
     "text": [
      "Metric val_loss improved by 0.003 >= min_delta = 0.001. New best score: 0.026\n"
     ]
    },
    {
     "data": {
      "application/vnd.jupyter.widget-view+json": {
       "model_id": "a0cf8206f63f456cbfc01cca301d8b86",
       "version_major": 2,
       "version_minor": 0
      },
      "text/plain": [
       "Validation: |          | 0/? [00:00<?, ?it/s]"
      ]
     },
     "metadata": {},
     "output_type": "display_data"
    },
    {
     "data": {
      "application/vnd.jupyter.widget-view+json": {
       "model_id": "f72e5e178a354e858f942d11f609cbdf",
       "version_major": 2,
       "version_minor": 0
      },
      "text/plain": [
       "Validation: |          | 0/? [00:00<?, ?it/s]"
      ]
     },
     "metadata": {},
     "output_type": "display_data"
    },
    {
     "data": {
      "application/vnd.jupyter.widget-view+json": {
       "model_id": "8b02d59666fc43ce82be05ecfff01ee6",
       "version_major": 2,
       "version_minor": 0
      },
      "text/plain": [
       "Validation: |          | 0/? [00:00<?, ?it/s]"
      ]
     },
     "metadata": {},
     "output_type": "display_data"
    },
    {
     "name": "stderr",
     "output_type": "stream",
     "text": [
      "Metric val_loss improved by 0.002 >= min_delta = 0.001. New best score: 0.025\n"
     ]
    },
    {
     "data": {
      "application/vnd.jupyter.widget-view+json": {
       "model_id": "090979ee2c4e4c83b7e1df87c3ec1547",
       "version_major": 2,
       "version_minor": 0
      },
      "text/plain": [
       "Validation: |          | 0/? [00:00<?, ?it/s]"
      ]
     },
     "metadata": {},
     "output_type": "display_data"
    },
    {
     "data": {
      "application/vnd.jupyter.widget-view+json": {
       "model_id": "1051c7225daf4be7a1570bc544755255",
       "version_major": 2,
       "version_minor": 0
      },
      "text/plain": [
       "Validation: |          | 0/? [00:00<?, ?it/s]"
      ]
     },
     "metadata": {},
     "output_type": "display_data"
    },
    {
     "data": {
      "application/vnd.jupyter.widget-view+json": {
       "model_id": "0bc818ebc1ab4655bce190eec79f8be9",
       "version_major": 2,
       "version_minor": 0
      },
      "text/plain": [
       "Validation: |          | 0/? [00:00<?, ?it/s]"
      ]
     },
     "metadata": {},
     "output_type": "display_data"
    },
    {
     "data": {
      "application/vnd.jupyter.widget-view+json": {
       "model_id": "ac441a9998cb42ab9afdf61a2c339e0e",
       "version_major": 2,
       "version_minor": 0
      },
      "text/plain": [
       "Validation: |          | 0/? [00:00<?, ?it/s]"
      ]
     },
     "metadata": {},
     "output_type": "display_data"
    },
    {
     "data": {
      "application/vnd.jupyter.widget-view+json": {
       "model_id": "7064fa34b363497a98c75971e183c59f",
       "version_major": 2,
       "version_minor": 0
      },
      "text/plain": [
       "Validation: |          | 0/? [00:00<?, ?it/s]"
      ]
     },
     "metadata": {},
     "output_type": "display_data"
    },
    {
     "data": {
      "application/vnd.jupyter.widget-view+json": {
       "model_id": "2a97a0030b954098a7f08e5737d5d989",
       "version_major": 2,
       "version_minor": 0
      },
      "text/plain": [
       "Validation: |          | 0/? [00:00<?, ?it/s]"
      ]
     },
     "metadata": {},
     "output_type": "display_data"
    },
    {
     "data": {
      "application/vnd.jupyter.widget-view+json": {
       "model_id": "0df2bbf33348469bb37d2492672e68a2",
       "version_major": 2,
       "version_minor": 0
      },
      "text/plain": [
       "Validation: |          | 0/? [00:00<?, ?it/s]"
      ]
     },
     "metadata": {},
     "output_type": "display_data"
    },
    {
     "data": {
      "application/vnd.jupyter.widget-view+json": {
       "model_id": "a04cc8f431254a6f80e1fde9839fd272",
       "version_major": 2,
       "version_minor": 0
      },
      "text/plain": [
       "Validation: |          | 0/? [00:00<?, ?it/s]"
      ]
     },
     "metadata": {},
     "output_type": "display_data"
    },
    {
     "data": {
      "application/vnd.jupyter.widget-view+json": {
       "model_id": "7505509a43734e15bec14ec4310f59f6",
       "version_major": 2,
       "version_minor": 0
      },
      "text/plain": [
       "Validation: |          | 0/? [00:00<?, ?it/s]"
      ]
     },
     "metadata": {},
     "output_type": "display_data"
    },
    {
     "data": {
      "application/vnd.jupyter.widget-view+json": {
       "model_id": "38038f56b00d47dab89aa4e7064d6bf1",
       "version_major": 2,
       "version_minor": 0
      },
      "text/plain": [
       "Validation: |          | 0/? [00:00<?, ?it/s]"
      ]
     },
     "metadata": {},
     "output_type": "display_data"
    },
    {
     "name": "stderr",
     "output_type": "stream",
     "text": [
      "Monitored metric val_loss did not improve in the last 10 records. Best score: 0.025. Signaling Trainer to stop.\n",
      "GPU available: True (cuda), used: True\n",
      "TPU available: False, using: 0 TPU cores\n",
      "HPU available: False, using: 0 HPUs\n",
      "LOCAL_RANK: 0 - CUDA_VISIBLE_DEVICES: [0]\n"
     ]
    },
    {
     "name": "stdout",
     "output_type": "stream",
     "text": [
      "Modelo carregado do checkpoint para trial 23\n"
     ]
    },
    {
     "name": "stderr",
     "output_type": "stream",
     "text": [
      "/home/eduardo/Documentos/Water-Cycle-Neural-Network/venv/lib/python3.12/site-packages/pytorch_lightning/trainer/connectors/data_connector.py:425: The 'predict_dataloader' does not have many workers which may be a bottleneck. Consider increasing the value of the `num_workers` argument` to `num_workers=11` in the `DataLoader` to improve performance.\n"
     ]
    },
    {
     "data": {
      "application/vnd.jupyter.widget-view+json": {
       "model_id": "c41e380ebc7e4db08431bb133d849410",
       "version_major": 2,
       "version_minor": 0
      },
      "text/plain": [
       "Predicting: |          | 0/? [00:00<?, ?it/s]"
      ]
     },
     "metadata": {},
     "output_type": "display_data"
    },
    {
     "name": "stderr",
     "output_type": "stream",
     "text": [
      "[I 2025-05-14 12:47:36,580] Trial 23 finished with value: 51.71388003946893 and parameters: {'output_chunk_length': 43, 'input_chunk_length': 48, 'num_layers': 2, 'num_blocks': 3, 'num_stacks': 3, 'layer_widths': 32, 'activation': 'GELU', 'dropout': 0.13788817911305112, 'batch_size': 50, 'lr': 0.005146100571124964, 'forecast_horizon': 13}. Best is trial 3 with value: 50.43235393618171.\n",
      "GPU available: True (cuda), used: True\n",
      "TPU available: False, using: 0 TPU cores\n",
      "HPU available: False, using: 0 HPUs\n",
      "LOCAL_RANK: 0 - CUDA_VISIBLE_DEVICES: [0]\n",
      "\n",
      "  | Name            | Type             | Params | Mode \n",
      "-------------------------------------------------------------\n",
      "0 | criterion       | HuberLoss        | 0      | train\n",
      "1 | train_criterion | HuberLoss        | 0      | train\n",
      "2 | val_criterion   | HuberLoss        | 0      | train\n",
      "3 | train_metrics   | MetricCollection | 0      | train\n",
      "4 | val_metrics     | MetricCollection | 0      | train\n",
      "5 | stacks          | ModuleList       | 299 K  | train\n",
      "-------------------------------------------------------------\n",
      "248 K     Trainable params\n",
      "50.5 K    Non-trainable params\n",
      "299 K     Total params\n",
      "1.197     Total estimated model params size (MB)\n",
      "58        Modules in train mode\n",
      "0         Modules in eval mode\n"
     ]
    },
    {
     "name": "stdout",
     "output_type": "stream",
     "text": [
      "Iniciando a verificação das séries temporais para constância...\n",
      "\n",
      "Métricas de performance:\n",
      "                                    MSE        RMSE         MAE          R2  \\\n",
      "Temperature                    2.020424    1.421416    1.014858    0.404461   \n",
      "Precipitation_accumulated    164.375848   12.820914    9.234365 -171.878499   \n",
      "Humidity                      31.243390    5.589579    4.328659    0.520216   \n",
      "Wind_Speed_kmh                 0.165076    0.406295    0.195456    0.518642   \n",
      "Soil_Moisture              93587.279557  305.920381  208.758329    0.874446   \n",
      "Soil_Temperature               0.960110    0.979852    0.711722    0.828355   \n",
      "Wind_Dir_Sin                   0.088197    0.296980    0.171400    0.454880   \n",
      "Wind_Dir_Cos                   0.096429    0.310530    0.187702    0.666191   \n",
      "\n",
      "                                SMAPE  \n",
      "Temperature                 17.651789  \n",
      "Precipitation_accumulated    2.046403  \n",
      "Humidity                     5.079207  \n",
      "Wind_Speed_kmh             159.822628  \n",
      "Soil_Moisture                3.253822  \n",
      "Soil_Temperature            24.800128  \n",
      "Wind_Dir_Sin               155.419244  \n",
      "Wind_Dir_Cos                45.637819  \n",
      "O SMAPE desse fold foi 51.71388003946893\n",
      "Resultados do trial 23 salvos em optuna_iteration_metrics/trial_23.json\n",
      "Current value: 51.71388003946893, Current params: {'output_chunk_length': 43, 'input_chunk_length': 48, 'num_layers': 2, 'num_blocks': 3, 'num_stacks': 3, 'layer_widths': 32, 'activation': 'GELU', 'dropout': 0.13788817911305112, 'batch_size': 50, 'lr': 0.005146100571124964, 'forecast_horizon': 13}\n",
      "Best value: 50.43235393618171, Best params: {'output_chunk_length': 27, 'input_chunk_length': 38, 'num_layers': 1, 'num_blocks': 3, 'num_stacks': 2, 'layer_widths': 85, 'activation': 'GELU', 'dropout': 0.18882539432465545, 'batch_size': 37, 'lr': 0.006016691509040486, 'forecast_horizon': 12}\n",
      "\n",
      "Iniciando Trial 24\n",
      "Hiperparâmetros: {'output_chunk_length': 56, 'input_chunk_length': 72, 'num_layers': 3, 'num_blocks': 2, 'num_stacks': 2, 'layer_widths': 38, 'activation': 'GELU', 'dropout': 0.18003816881848844, 'batch_size': 30, 'lr': 0.0018524068029730982, 'forecast_horizon': 12}\n",
      "\n",
      "Treinando o modelo...\n",
      "Train set: 6647 samples\n",
      "Validation set: 1662 samples\n"
     ]
    },
    {
     "data": {
      "application/vnd.jupyter.widget-view+json": {
       "model_id": "6c28a6d914764941a4725850252a1c22",
       "version_major": 2,
       "version_minor": 0
      },
      "text/plain": [
       "Sanity Checking: |          | 0/? [00:00<?, ?it/s]"
      ]
     },
     "metadata": {},
     "output_type": "display_data"
    },
    {
     "name": "stderr",
     "output_type": "stream",
     "text": [
      "/home/eduardo/Documentos/Water-Cycle-Neural-Network/venv/lib/python3.12/site-packages/pytorch_lightning/trainer/connectors/data_connector.py:425: The 'val_dataloader' does not have many workers which may be a bottleneck. Consider increasing the value of the `num_workers` argument` to `num_workers=11` in the `DataLoader` to improve performance.\n",
      "/home/eduardo/Documentos/Water-Cycle-Neural-Network/venv/lib/python3.12/site-packages/pytorch_lightning/trainer/connectors/data_connector.py:425: The 'train_dataloader' does not have many workers which may be a bottleneck. Consider increasing the value of the `num_workers` argument` to `num_workers=11` in the `DataLoader` to improve performance.\n"
     ]
    },
    {
     "data": {
      "application/vnd.jupyter.widget-view+json": {
       "model_id": "322c6aa697a24fe0b85f525e6b11a3de",
       "version_major": 2,
       "version_minor": 0
      },
      "text/plain": [
       "Training: |          | 0/? [00:00<?, ?it/s]"
      ]
     },
     "metadata": {},
     "output_type": "display_data"
    },
    {
     "data": {
      "application/vnd.jupyter.widget-view+json": {
       "model_id": "c1d42525cfcf4f6d805ae16b545615bc",
       "version_major": 2,
       "version_minor": 0
      },
      "text/plain": [
       "Validation: |          | 0/? [00:00<?, ?it/s]"
      ]
     },
     "metadata": {},
     "output_type": "display_data"
    },
    {
     "name": "stderr",
     "output_type": "stream",
     "text": [
      "Metric val_loss improved. New best score: 0.043\n"
     ]
    },
    {
     "data": {
      "application/vnd.jupyter.widget-view+json": {
       "model_id": "263c97f5e9274279b844f48c23956c86",
       "version_major": 2,
       "version_minor": 0
      },
      "text/plain": [
       "Validation: |          | 0/? [00:00<?, ?it/s]"
      ]
     },
     "metadata": {},
     "output_type": "display_data"
    },
    {
     "name": "stderr",
     "output_type": "stream",
     "text": [
      "Metric val_loss improved by 0.011 >= min_delta = 0.001. New best score: 0.032\n"
     ]
    },
    {
     "data": {
      "application/vnd.jupyter.widget-view+json": {
       "model_id": "737cb501d6754ad3ba3dedf975513d0c",
       "version_major": 2,
       "version_minor": 0
      },
      "text/plain": [
       "Validation: |          | 0/? [00:00<?, ?it/s]"
      ]
     },
     "metadata": {},
     "output_type": "display_data"
    },
    {
     "data": {
      "application/vnd.jupyter.widget-view+json": {
       "model_id": "5b54768683f742e3a8113ee4aec5b744",
       "version_major": 2,
       "version_minor": 0
      },
      "text/plain": [
       "Validation: |          | 0/? [00:00<?, ?it/s]"
      ]
     },
     "metadata": {},
     "output_type": "display_data"
    },
    {
     "data": {
      "application/vnd.jupyter.widget-view+json": {
       "model_id": "25cb3e72becf4b7f9e9ba58803bbc86b",
       "version_major": 2,
       "version_minor": 0
      },
      "text/plain": [
       "Validation: |          | 0/? [00:00<?, ?it/s]"
      ]
     },
     "metadata": {},
     "output_type": "display_data"
    },
    {
     "data": {
      "application/vnd.jupyter.widget-view+json": {
       "model_id": "6a522eea512a4b0196345d9d24e1558e",
       "version_major": 2,
       "version_minor": 0
      },
      "text/plain": [
       "Validation: |          | 0/? [00:00<?, ?it/s]"
      ]
     },
     "metadata": {},
     "output_type": "display_data"
    },
    {
     "data": {
      "application/vnd.jupyter.widget-view+json": {
       "model_id": "b7914b6bfc4d49c5bc1ec08d83ef526e",
       "version_major": 2,
       "version_minor": 0
      },
      "text/plain": [
       "Validation: |          | 0/? [00:00<?, ?it/s]"
      ]
     },
     "metadata": {},
     "output_type": "display_data"
    },
    {
     "name": "stderr",
     "output_type": "stream",
     "text": [
      "Metric val_loss improved by 0.003 >= min_delta = 0.001. New best score: 0.029\n"
     ]
    },
    {
     "data": {
      "application/vnd.jupyter.widget-view+json": {
       "model_id": "b0ef66ff935d421380520a5d7d18824b",
       "version_major": 2,
       "version_minor": 0
      },
      "text/plain": [
       "Validation: |          | 0/? [00:00<?, ?it/s]"
      ]
     },
     "metadata": {},
     "output_type": "display_data"
    },
    {
     "data": {
      "application/vnd.jupyter.widget-view+json": {
       "model_id": "60601b24126a4589a7718705f841e3ba",
       "version_major": 2,
       "version_minor": 0
      },
      "text/plain": [
       "Validation: |          | 0/? [00:00<?, ?it/s]"
      ]
     },
     "metadata": {},
     "output_type": "display_data"
    },
    {
     "name": "stderr",
     "output_type": "stream",
     "text": [
      "Metric val_loss improved by 0.005 >= min_delta = 0.001. New best score: 0.025\n"
     ]
    },
    {
     "data": {
      "application/vnd.jupyter.widget-view+json": {
       "model_id": "e52bf68029db48e0a98d6ff736f14cf5",
       "version_major": 2,
       "version_minor": 0
      },
      "text/plain": [
       "Validation: |          | 0/? [00:00<?, ?it/s]"
      ]
     },
     "metadata": {},
     "output_type": "display_data"
    },
    {
     "data": {
      "application/vnd.jupyter.widget-view+json": {
       "model_id": "3ee9e43c29e74eee9226847cc7beba52",
       "version_major": 2,
       "version_minor": 0
      },
      "text/plain": [
       "Validation: |          | 0/? [00:00<?, ?it/s]"
      ]
     },
     "metadata": {},
     "output_type": "display_data"
    },
    {
     "data": {
      "application/vnd.jupyter.widget-view+json": {
       "model_id": "0b9cc5ffec0746a19640249d17698fa8",
       "version_major": 2,
       "version_minor": 0
      },
      "text/plain": [
       "Validation: |          | 0/? [00:00<?, ?it/s]"
      ]
     },
     "metadata": {},
     "output_type": "display_data"
    },
    {
     "data": {
      "application/vnd.jupyter.widget-view+json": {
       "model_id": "0ab51ff744014680b1c11ef20ba977b2",
       "version_major": 2,
       "version_minor": 0
      },
      "text/plain": [
       "Validation: |          | 0/? [00:00<?, ?it/s]"
      ]
     },
     "metadata": {},
     "output_type": "display_data"
    },
    {
     "data": {
      "application/vnd.jupyter.widget-view+json": {
       "model_id": "55fd275f13bb46d3ba5d1db936d940b5",
       "version_major": 2,
       "version_minor": 0
      },
      "text/plain": [
       "Validation: |          | 0/? [00:00<?, ?it/s]"
      ]
     },
     "metadata": {},
     "output_type": "display_data"
    },
    {
     "data": {
      "application/vnd.jupyter.widget-view+json": {
       "model_id": "8d6529c23e4f49bc8cfbf5d041bd0550",
       "version_major": 2,
       "version_minor": 0
      },
      "text/plain": [
       "Validation: |          | 0/? [00:00<?, ?it/s]"
      ]
     },
     "metadata": {},
     "output_type": "display_data"
    },
    {
     "data": {
      "application/vnd.jupyter.widget-view+json": {
       "model_id": "42537eb2e6874d0fac082991af393f99",
       "version_major": 2,
       "version_minor": 0
      },
      "text/plain": [
       "Validation: |          | 0/? [00:00<?, ?it/s]"
      ]
     },
     "metadata": {},
     "output_type": "display_data"
    },
    {
     "data": {
      "application/vnd.jupyter.widget-view+json": {
       "model_id": "b388aa15a4584a29a9108009a382166f",
       "version_major": 2,
       "version_minor": 0
      },
      "text/plain": [
       "Validation: |          | 0/? [00:00<?, ?it/s]"
      ]
     },
     "metadata": {},
     "output_type": "display_data"
    },
    {
     "data": {
      "application/vnd.jupyter.widget-view+json": {
       "model_id": "52f25f44431248d8b38b276c9bc7ba2d",
       "version_major": 2,
       "version_minor": 0
      },
      "text/plain": [
       "Validation: |          | 0/? [00:00<?, ?it/s]"
      ]
     },
     "metadata": {},
     "output_type": "display_data"
    },
    {
     "data": {
      "application/vnd.jupyter.widget-view+json": {
       "model_id": "a324b8f7ed80477e935047fb4645fa35",
       "version_major": 2,
       "version_minor": 0
      },
      "text/plain": [
       "Validation: |          | 0/? [00:00<?, ?it/s]"
      ]
     },
     "metadata": {},
     "output_type": "display_data"
    },
    {
     "name": "stderr",
     "output_type": "stream",
     "text": [
      "Monitored metric val_loss did not improve in the last 10 records. Best score: 0.025. Signaling Trainer to stop.\n",
      "GPU available: True (cuda), used: True\n",
      "TPU available: False, using: 0 TPU cores\n",
      "HPU available: False, using: 0 HPUs\n",
      "LOCAL_RANK: 0 - CUDA_VISIBLE_DEVICES: [0]\n"
     ]
    },
    {
     "name": "stdout",
     "output_type": "stream",
     "text": [
      "Modelo carregado do checkpoint para trial 24\n"
     ]
    },
    {
     "name": "stderr",
     "output_type": "stream",
     "text": [
      "/home/eduardo/Documentos/Water-Cycle-Neural-Network/venv/lib/python3.12/site-packages/pytorch_lightning/trainer/connectors/data_connector.py:425: The 'predict_dataloader' does not have many workers which may be a bottleneck. Consider increasing the value of the `num_workers` argument` to `num_workers=11` in the `DataLoader` to improve performance.\n"
     ]
    },
    {
     "data": {
      "application/vnd.jupyter.widget-view+json": {
       "model_id": "35e0190a408a44b3be84d33cfc06babd",
       "version_major": 2,
       "version_minor": 0
      },
      "text/plain": [
       "Predicting: |          | 0/? [00:00<?, ?it/s]"
      ]
     },
     "metadata": {},
     "output_type": "display_data"
    },
    {
     "name": "stderr",
     "output_type": "stream",
     "text": [
      "[I 2025-05-14 12:48:11,679] Trial 24 finished with value: 53.6181903470596 and parameters: {'output_chunk_length': 56, 'input_chunk_length': 72, 'num_layers': 3, 'num_blocks': 2, 'num_stacks': 2, 'layer_widths': 38, 'activation': 'GELU', 'dropout': 0.18003816881848844, 'batch_size': 30, 'lr': 0.0018524068029730982, 'forecast_horizon': 12}. Best is trial 3 with value: 50.43235393618171.\n",
      "GPU available: True (cuda), used: True\n",
      "TPU available: False, using: 0 TPU cores\n",
      "HPU available: False, using: 0 HPUs\n",
      "LOCAL_RANK: 0 - CUDA_VISIBLE_DEVICES: [0]\n",
      "\n",
      "  | Name            | Type             | Params | Mode \n",
      "-------------------------------------------------------------\n",
      "0 | criterion       | HuberLoss        | 0      | train\n",
      "1 | train_criterion | HuberLoss        | 0      | train\n",
      "2 | val_criterion   | HuberLoss        | 0      | train\n",
      "3 | train_metrics   | MetricCollection | 0      | train\n",
      "4 | val_metrics     | MetricCollection | 0      | train\n",
      "5 | stacks          | ModuleList       | 710 K  | train\n",
      "-------------------------------------------------------------\n",
      "661 K     Trainable params\n",
      "49.2 K    Non-trainable params\n",
      "710 K     Total params\n",
      "2.843     Total estimated model params size (MB)\n",
      "110       Modules in train mode\n",
      "0         Modules in eval mode\n"
     ]
    },
    {
     "name": "stdout",
     "output_type": "stream",
     "text": [
      "Iniciando a verificação das séries temporais para constância...\n",
      "\n",
      "Métricas de performance:\n",
      "                                    MSE        RMSE         MAE          R2  \\\n",
      "Temperature                    2.388271    1.545403    1.030963    0.296136   \n",
      "Precipitation_accumulated    121.869220   11.039439    6.380647 -127.193225   \n",
      "Humidity                      16.815534    4.100675    2.923464    0.741726   \n",
      "Wind_Speed_kmh                 0.186041    0.431325    0.206222    0.457126   \n",
      "Soil_Moisture              87404.362192  295.642288  149.366815    0.882662   \n",
      "Soil_Temperature               0.990844    0.995411    0.691953    0.822908   \n",
      "Wind_Dir_Sin                   0.113973    0.337598    0.207996    0.295101   \n",
      "Wind_Dir_Cos                   0.125594    0.354392    0.218987    0.564984   \n",
      "\n",
      "                                SMAPE  \n",
      "Temperature                 17.819114  \n",
      "Precipitation_accumulated    1.412075  \n",
      "Humidity                     3.479037  \n",
      "Wind_Speed_kmh             168.450176  \n",
      "Soil_Moisture                2.366452  \n",
      "Soil_Temperature            24.117314  \n",
      "Wind_Dir_Sin               159.950051  \n",
      "Wind_Dir_Cos                51.351304  \n",
      "O SMAPE desse fold foi 53.6181903470596\n",
      "Resultados do trial 24 salvos em optuna_iteration_metrics/trial_24.json\n",
      "Current value: 53.6181903470596, Current params: {'output_chunk_length': 56, 'input_chunk_length': 72, 'num_layers': 3, 'num_blocks': 2, 'num_stacks': 2, 'layer_widths': 38, 'activation': 'GELU', 'dropout': 0.18003816881848844, 'batch_size': 30, 'lr': 0.0018524068029730982, 'forecast_horizon': 12}\n",
      "Best value: 50.43235393618171, Best params: {'output_chunk_length': 27, 'input_chunk_length': 38, 'num_layers': 1, 'num_blocks': 3, 'num_stacks': 2, 'layer_widths': 85, 'activation': 'GELU', 'dropout': 0.18882539432465545, 'batch_size': 37, 'lr': 0.006016691509040486, 'forecast_horizon': 12}\n",
      "\n",
      "Iniciando Trial 25\n",
      "Hiperparâmetros: {'output_chunk_length': 42, 'input_chunk_length': 48, 'num_layers': 1, 'num_blocks': 3, 'num_stacks': 4, 'layer_widths': 56, 'activation': 'GELU', 'dropout': 0.15065768725031875, 'batch_size': 51, 'lr': 0.005236032431598453, 'forecast_horizon': 10}\n",
      "\n",
      "Treinando o modelo...\n",
      "Train set: 6647 samples\n",
      "Validation set: 1662 samples\n"
     ]
    },
    {
     "data": {
      "application/vnd.jupyter.widget-view+json": {
       "model_id": "bb88992da75140a08bf10dca16b402c6",
       "version_major": 2,
       "version_minor": 0
      },
      "text/plain": [
       "Sanity Checking: |          | 0/? [00:00<?, ?it/s]"
      ]
     },
     "metadata": {},
     "output_type": "display_data"
    },
    {
     "name": "stderr",
     "output_type": "stream",
     "text": [
      "/home/eduardo/Documentos/Water-Cycle-Neural-Network/venv/lib/python3.12/site-packages/pytorch_lightning/trainer/connectors/data_connector.py:425: The 'val_dataloader' does not have many workers which may be a bottleneck. Consider increasing the value of the `num_workers` argument` to `num_workers=11` in the `DataLoader` to improve performance.\n",
      "/home/eduardo/Documentos/Water-Cycle-Neural-Network/venv/lib/python3.12/site-packages/pytorch_lightning/trainer/connectors/data_connector.py:425: The 'train_dataloader' does not have many workers which may be a bottleneck. Consider increasing the value of the `num_workers` argument` to `num_workers=11` in the `DataLoader` to improve performance.\n"
     ]
    },
    {
     "data": {
      "application/vnd.jupyter.widget-view+json": {
       "model_id": "c57bbe758aa84eedb2aa0ac41c3d2bfb",
       "version_major": 2,
       "version_minor": 0
      },
      "text/plain": [
       "Training: |          | 0/? [00:00<?, ?it/s]"
      ]
     },
     "metadata": {},
     "output_type": "display_data"
    },
    {
     "data": {
      "application/vnd.jupyter.widget-view+json": {
       "model_id": "f1065e772ad048f39068535c127a4170",
       "version_major": 2,
       "version_minor": 0
      },
      "text/plain": [
       "Validation: |          | 0/? [00:00<?, ?it/s]"
      ]
     },
     "metadata": {},
     "output_type": "display_data"
    },
    {
     "name": "stderr",
     "output_type": "stream",
     "text": [
      "Metric val_loss improved. New best score: 0.031\n"
     ]
    },
    {
     "data": {
      "application/vnd.jupyter.widget-view+json": {
       "model_id": "43455c2bb5b44ad08b1eb7b02ab0f5ba",
       "version_major": 2,
       "version_minor": 0
      },
      "text/plain": [
       "Validation: |          | 0/? [00:00<?, ?it/s]"
      ]
     },
     "metadata": {},
     "output_type": "display_data"
    },
    {
     "name": "stderr",
     "output_type": "stream",
     "text": [
      "Metric val_loss improved by 0.006 >= min_delta = 0.001. New best score: 0.025\n"
     ]
    },
    {
     "data": {
      "application/vnd.jupyter.widget-view+json": {
       "model_id": "a60e6a9cf87a42db87a411178f9dd148",
       "version_major": 2,
       "version_minor": 0
      },
      "text/plain": [
       "Validation: |          | 0/? [00:00<?, ?it/s]"
      ]
     },
     "metadata": {},
     "output_type": "display_data"
    },
    {
     "data": {
      "application/vnd.jupyter.widget-view+json": {
       "model_id": "238c7b8bafcf4b82b7043803f1084d33",
       "version_major": 2,
       "version_minor": 0
      },
      "text/plain": [
       "Validation: |          | 0/? [00:00<?, ?it/s]"
      ]
     },
     "metadata": {},
     "output_type": "display_data"
    },
    {
     "data": {
      "application/vnd.jupyter.widget-view+json": {
       "model_id": "1687c7f4d9104448bfb0515c8adc4107",
       "version_major": 2,
       "version_minor": 0
      },
      "text/plain": [
       "Validation: |          | 0/? [00:00<?, ?it/s]"
      ]
     },
     "metadata": {},
     "output_type": "display_data"
    },
    {
     "data": {
      "application/vnd.jupyter.widget-view+json": {
       "model_id": "76675e29a1e042d6a696d30197d56e86",
       "version_major": 2,
       "version_minor": 0
      },
      "text/plain": [
       "Validation: |          | 0/? [00:00<?, ?it/s]"
      ]
     },
     "metadata": {},
     "output_type": "display_data"
    },
    {
     "data": {
      "application/vnd.jupyter.widget-view+json": {
       "model_id": "deed7535687641eca169d6e42ecef4ab",
       "version_major": 2,
       "version_minor": 0
      },
      "text/plain": [
       "Validation: |          | 0/? [00:00<?, ?it/s]"
      ]
     },
     "metadata": {},
     "output_type": "display_data"
    },
    {
     "data": {
      "application/vnd.jupyter.widget-view+json": {
       "model_id": "928bf154a11f405e98d0ae473652e6c8",
       "version_major": 2,
       "version_minor": 0
      },
      "text/plain": [
       "Validation: |          | 0/? [00:00<?, ?it/s]"
      ]
     },
     "metadata": {},
     "output_type": "display_data"
    },
    {
     "data": {
      "application/vnd.jupyter.widget-view+json": {
       "model_id": "44830b0505a34a75a36d572312322863",
       "version_major": 2,
       "version_minor": 0
      },
      "text/plain": [
       "Validation: |          | 0/? [00:00<?, ?it/s]"
      ]
     },
     "metadata": {},
     "output_type": "display_data"
    },
    {
     "data": {
      "application/vnd.jupyter.widget-view+json": {
       "model_id": "8b4d092899f248d7b61ec84302e1ad70",
       "version_major": 2,
       "version_minor": 0
      },
      "text/plain": [
       "Validation: |          | 0/? [00:00<?, ?it/s]"
      ]
     },
     "metadata": {},
     "output_type": "display_data"
    },
    {
     "data": {
      "application/vnd.jupyter.widget-view+json": {
       "model_id": "211d7847ba0546dd8c9b13d7c1a74cf9",
       "version_major": 2,
       "version_minor": 0
      },
      "text/plain": [
       "Validation: |          | 0/? [00:00<?, ?it/s]"
      ]
     },
     "metadata": {},
     "output_type": "display_data"
    },
    {
     "data": {
      "application/vnd.jupyter.widget-view+json": {
       "model_id": "301cd5fdf628456d87a0f1754b22a57e",
       "version_major": 2,
       "version_minor": 0
      },
      "text/plain": [
       "Validation: |          | 0/? [00:00<?, ?it/s]"
      ]
     },
     "metadata": {},
     "output_type": "display_data"
    },
    {
     "name": "stderr",
     "output_type": "stream",
     "text": [
      "Monitored metric val_loss did not improve in the last 10 records. Best score: 0.025. Signaling Trainer to stop.\n",
      "GPU available: True (cuda), used: True\n",
      "TPU available: False, using: 0 TPU cores\n",
      "HPU available: False, using: 0 HPUs\n",
      "LOCAL_RANK: 0 - CUDA_VISIBLE_DEVICES: [0]\n"
     ]
    },
    {
     "name": "stdout",
     "output_type": "stream",
     "text": [
      "Modelo carregado do checkpoint para trial 25\n"
     ]
    },
    {
     "name": "stderr",
     "output_type": "stream",
     "text": [
      "/home/eduardo/Documentos/Water-Cycle-Neural-Network/venv/lib/python3.12/site-packages/pytorch_lightning/trainer/connectors/data_connector.py:425: The 'predict_dataloader' does not have many workers which may be a bottleneck. Consider increasing the value of the `num_workers` argument` to `num_workers=11` in the `DataLoader` to improve performance.\n"
     ]
    },
    {
     "data": {
      "application/vnd.jupyter.widget-view+json": {
       "model_id": "a0e63936a5dc4a129c08c53779aa07bd",
       "version_major": 2,
       "version_minor": 0
      },
      "text/plain": [
       "Predicting: |          | 0/? [00:00<?, ?it/s]"
      ]
     },
     "metadata": {},
     "output_type": "display_data"
    },
    {
     "name": "stderr",
     "output_type": "stream",
     "text": [
      "[I 2025-05-14 12:48:35,303] Trial 25 finished with value: 54.586178890688025 and parameters: {'output_chunk_length': 42, 'input_chunk_length': 48, 'num_layers': 1, 'num_blocks': 3, 'num_stacks': 4, 'layer_widths': 56, 'activation': 'GELU', 'dropout': 0.15065768725031875, 'batch_size': 51, 'lr': 0.005236032431598453, 'forecast_horizon': 10}. Best is trial 3 with value: 50.43235393618171.\n",
      "GPU available: True (cuda), used: True\n",
      "TPU available: False, using: 0 TPU cores\n",
      "HPU available: False, using: 0 HPUs\n",
      "LOCAL_RANK: 0 - CUDA_VISIBLE_DEVICES: [0]\n",
      "\n",
      "  | Name            | Type             | Params | Mode \n",
      "-------------------------------------------------------------\n",
      "0 | criterion       | HuberLoss        | 0      | train\n",
      "1 | train_criterion | HuberLoss        | 0      | train\n",
      "2 | val_criterion   | HuberLoss        | 0      | train\n",
      "3 | train_metrics   | MetricCollection | 0      | train\n",
      "4 | val_metrics     | MetricCollection | 0      | train\n",
      "5 | stacks          | ModuleList       | 359 K  | train\n",
      "-------------------------------------------------------------\n",
      "330 K     Trainable params\n",
      "29.1 K    Non-trainable params\n",
      "359 K     Total params\n",
      "1.439     Total estimated model params size (MB)\n",
      "90        Modules in train mode\n",
      "0         Modules in eval mode\n"
     ]
    },
    {
     "name": "stdout",
     "output_type": "stream",
     "text": [
      "Iniciando a verificação das séries temporais para constância...\n",
      "\n",
      "Métricas de performance:\n",
      "                                     MSE        RMSE         MAE          R2  \\\n",
      "Temperature                     3.356103    1.831967    1.590476    0.011269   \n",
      "Precipitation_accumulated     150.148932   12.253527   10.024435 -156.990263   \n",
      "Humidity                       17.031774    4.126957    2.911636    0.738324   \n",
      "Wind_Speed_kmh                  0.243825    0.493786    0.315171    0.287514   \n",
      "Soil_Moisture              200345.689561  447.599921  267.280395    0.730682   \n",
      "Soil_Temperature                3.685247    1.919700    1.445420    0.341692   \n",
      "Wind_Dir_Sin                    0.102203    0.319692    0.232848    0.367054   \n",
      "Wind_Dir_Cos                    0.111952    0.334592    0.227463    0.611799   \n",
      "\n",
      "                                SMAPE  \n",
      "Temperature                 24.605130  \n",
      "Precipitation_accumulated    2.191096  \n",
      "Humidity                     3.464681  \n",
      "Wind_Speed_kmh             169.228987  \n",
      "Soil_Moisture                4.203879  \n",
      "Soil_Temperature            27.906887  \n",
      "Wind_Dir_Sin               156.214811  \n",
      "Wind_Dir_Cos                48.873960  \n",
      "O SMAPE desse fold foi 54.586178890688025\n",
      "Resultados do trial 25 salvos em optuna_iteration_metrics/trial_25.json\n",
      "Current value: 54.586178890688025, Current params: {'output_chunk_length': 42, 'input_chunk_length': 48, 'num_layers': 1, 'num_blocks': 3, 'num_stacks': 4, 'layer_widths': 56, 'activation': 'GELU', 'dropout': 0.15065768725031875, 'batch_size': 51, 'lr': 0.005236032431598453, 'forecast_horizon': 10}\n",
      "Best value: 50.43235393618171, Best params: {'output_chunk_length': 27, 'input_chunk_length': 38, 'num_layers': 1, 'num_blocks': 3, 'num_stacks': 2, 'layer_widths': 85, 'activation': 'GELU', 'dropout': 0.18882539432465545, 'batch_size': 37, 'lr': 0.006016691509040486, 'forecast_horizon': 12}\n",
      "\n",
      "Iniciando Trial 26\n",
      "Hiperparâmetros: {'output_chunk_length': 45, 'input_chunk_length': 49, 'num_layers': 2, 'num_blocks': 4, 'num_stacks': 2, 'layer_widths': 32, 'activation': 'GELU', 'dropout': 0.25725927214094424, 'batch_size': 21, 'lr': 0.0009596921290405151, 'forecast_horizon': 13}\n",
      "\n",
      "Treinando o modelo...\n",
      "Train set: 6647 samples\n",
      "Validation set: 1662 samples\n"
     ]
    },
    {
     "data": {
      "application/vnd.jupyter.widget-view+json": {
       "model_id": "83c8643929fa4250afe8fe32d1267e04",
       "version_major": 2,
       "version_minor": 0
      },
      "text/plain": [
       "Sanity Checking: |          | 0/? [00:00<?, ?it/s]"
      ]
     },
     "metadata": {},
     "output_type": "display_data"
    },
    {
     "name": "stderr",
     "output_type": "stream",
     "text": [
      "/home/eduardo/Documentos/Water-Cycle-Neural-Network/venv/lib/python3.12/site-packages/pytorch_lightning/trainer/connectors/data_connector.py:425: The 'val_dataloader' does not have many workers which may be a bottleneck. Consider increasing the value of the `num_workers` argument` to `num_workers=11` in the `DataLoader` to improve performance.\n",
      "/home/eduardo/Documentos/Water-Cycle-Neural-Network/venv/lib/python3.12/site-packages/pytorch_lightning/trainer/connectors/data_connector.py:425: The 'train_dataloader' does not have many workers which may be a bottleneck. Consider increasing the value of the `num_workers` argument` to `num_workers=11` in the `DataLoader` to improve performance.\n"
     ]
    },
    {
     "data": {
      "application/vnd.jupyter.widget-view+json": {
       "model_id": "f9941e887d0a460f9a5837c776a0fd69",
       "version_major": 2,
       "version_minor": 0
      },
      "text/plain": [
       "Training: |          | 0/? [00:00<?, ?it/s]"
      ]
     },
     "metadata": {},
     "output_type": "display_data"
    },
    {
     "data": {
      "application/vnd.jupyter.widget-view+json": {
       "model_id": "153cc33a1c68492e83115cb11c5b7f52",
       "version_major": 2,
       "version_minor": 0
      },
      "text/plain": [
       "Validation: |          | 0/? [00:00<?, ?it/s]"
      ]
     },
     "metadata": {},
     "output_type": "display_data"
    },
    {
     "name": "stderr",
     "output_type": "stream",
     "text": [
      "Metric val_loss improved. New best score: 0.029\n"
     ]
    },
    {
     "data": {
      "application/vnd.jupyter.widget-view+json": {
       "model_id": "495864a6ff4748f0a26306cf7299ed35",
       "version_major": 2,
       "version_minor": 0
      },
      "text/plain": [
       "Validation: |          | 0/? [00:00<?, ?it/s]"
      ]
     },
     "metadata": {},
     "output_type": "display_data"
    },
    {
     "name": "stderr",
     "output_type": "stream",
     "text": [
      "Metric val_loss improved by 0.005 >= min_delta = 0.001. New best score: 0.025\n"
     ]
    },
    {
     "data": {
      "application/vnd.jupyter.widget-view+json": {
       "model_id": "db07794c50754814ac742955ad393627",
       "version_major": 2,
       "version_minor": 0
      },
      "text/plain": [
       "Validation: |          | 0/? [00:00<?, ?it/s]"
      ]
     },
     "metadata": {},
     "output_type": "display_data"
    },
    {
     "name": "stderr",
     "output_type": "stream",
     "text": [
      "Metric val_loss improved by 0.002 >= min_delta = 0.001. New best score: 0.022\n"
     ]
    },
    {
     "data": {
      "application/vnd.jupyter.widget-view+json": {
       "model_id": "f8b8e4e2199740058bc1914004d76cda",
       "version_major": 2,
       "version_minor": 0
      },
      "text/plain": [
       "Validation: |          | 0/? [00:00<?, ?it/s]"
      ]
     },
     "metadata": {},
     "output_type": "display_data"
    },
    {
     "data": {
      "application/vnd.jupyter.widget-view+json": {
       "model_id": "549fa754cc9d4d268366793d221c06c5",
       "version_major": 2,
       "version_minor": 0
      },
      "text/plain": [
       "Validation: |          | 0/? [00:00<?, ?it/s]"
      ]
     },
     "metadata": {},
     "output_type": "display_data"
    },
    {
     "data": {
      "application/vnd.jupyter.widget-view+json": {
       "model_id": "062321068eb749caa2d365e6568127ad",
       "version_major": 2,
       "version_minor": 0
      },
      "text/plain": [
       "Validation: |          | 0/? [00:00<?, ?it/s]"
      ]
     },
     "metadata": {},
     "output_type": "display_data"
    },
    {
     "data": {
      "application/vnd.jupyter.widget-view+json": {
       "model_id": "4957c8f876744b65866e0ab1d9edaf04",
       "version_major": 2,
       "version_minor": 0
      },
      "text/plain": [
       "Validation: |          | 0/? [00:00<?, ?it/s]"
      ]
     },
     "metadata": {},
     "output_type": "display_data"
    },
    {
     "data": {
      "application/vnd.jupyter.widget-view+json": {
       "model_id": "6720023d8cb745cc8177125d0fd4f40c",
       "version_major": 2,
       "version_minor": 0
      },
      "text/plain": [
       "Validation: |          | 0/? [00:00<?, ?it/s]"
      ]
     },
     "metadata": {},
     "output_type": "display_data"
    },
    {
     "data": {
      "application/vnd.jupyter.widget-view+json": {
       "model_id": "056688666e02469a8dd6cdd093e3032c",
       "version_major": 2,
       "version_minor": 0
      },
      "text/plain": [
       "Validation: |          | 0/? [00:00<?, ?it/s]"
      ]
     },
     "metadata": {},
     "output_type": "display_data"
    },
    {
     "data": {
      "application/vnd.jupyter.widget-view+json": {
       "model_id": "bb839d347f4443b28b8c94bc452710c7",
       "version_major": 2,
       "version_minor": 0
      },
      "text/plain": [
       "Validation: |          | 0/? [00:00<?, ?it/s]"
      ]
     },
     "metadata": {},
     "output_type": "display_data"
    },
    {
     "data": {
      "application/vnd.jupyter.widget-view+json": {
       "model_id": "87db1b57d7304282addd4bd985202d84",
       "version_major": 2,
       "version_minor": 0
      },
      "text/plain": [
       "Validation: |          | 0/? [00:00<?, ?it/s]"
      ]
     },
     "metadata": {},
     "output_type": "display_data"
    },
    {
     "data": {
      "application/vnd.jupyter.widget-view+json": {
       "model_id": "0e0ae536468e481d86909a84a8b970bd",
       "version_major": 2,
       "version_minor": 0
      },
      "text/plain": [
       "Validation: |          | 0/? [00:00<?, ?it/s]"
      ]
     },
     "metadata": {},
     "output_type": "display_data"
    },
    {
     "data": {
      "application/vnd.jupyter.widget-view+json": {
       "model_id": "f4f7f5501b6a44e3986db194e17e446c",
       "version_major": 2,
       "version_minor": 0
      },
      "text/plain": [
       "Validation: |          | 0/? [00:00<?, ?it/s]"
      ]
     },
     "metadata": {},
     "output_type": "display_data"
    },
    {
     "name": "stderr",
     "output_type": "stream",
     "text": [
      "Monitored metric val_loss did not improve in the last 10 records. Best score: 0.022. Signaling Trainer to stop.\n",
      "GPU available: True (cuda), used: True\n",
      "TPU available: False, using: 0 TPU cores\n",
      "HPU available: False, using: 0 HPUs\n",
      "LOCAL_RANK: 0 - CUDA_VISIBLE_DEVICES: [0]\n"
     ]
    },
    {
     "name": "stdout",
     "output_type": "stream",
     "text": [
      "Modelo carregado do checkpoint para trial 26\n"
     ]
    },
    {
     "name": "stderr",
     "output_type": "stream",
     "text": [
      "/home/eduardo/Documentos/Water-Cycle-Neural-Network/venv/lib/python3.12/site-packages/pytorch_lightning/trainer/connectors/data_connector.py:425: The 'predict_dataloader' does not have many workers which may be a bottleneck. Consider increasing the value of the `num_workers` argument` to `num_workers=11` in the `DataLoader` to improve performance.\n"
     ]
    },
    {
     "data": {
      "application/vnd.jupyter.widget-view+json": {
       "model_id": "ba0ed0837f294e3ea5735e67d8a1e49b",
       "version_major": 2,
       "version_minor": 0
      },
      "text/plain": [
       "Predicting: |          | 0/? [00:00<?, ?it/s]"
      ]
     },
     "metadata": {},
     "output_type": "display_data"
    },
    {
     "name": "stderr",
     "output_type": "stream",
     "text": [
      "[I 2025-05-14 12:49:19,658] Trial 26 finished with value: 54.42857378413443 and parameters: {'output_chunk_length': 45, 'input_chunk_length': 49, 'num_layers': 2, 'num_blocks': 4, 'num_stacks': 2, 'layer_widths': 32, 'activation': 'GELU', 'dropout': 0.25725927214094424, 'batch_size': 21, 'lr': 0.0009596921290405151, 'forecast_horizon': 13}. Best is trial 3 with value: 50.43235393618171.\n",
      "GPU available: True (cuda), used: True\n",
      "TPU available: False, using: 0 TPU cores\n",
      "HPU available: False, using: 0 HPUs\n",
      "LOCAL_RANK: 0 - CUDA_VISIBLE_DEVICES: [0]\n",
      "\n",
      "  | Name            | Type             | Params | Mode \n",
      "-------------------------------------------------------------\n",
      "0 | criterion       | HuberLoss        | 0      | train\n",
      "1 | train_criterion | HuberLoss        | 0      | train\n",
      "2 | val_criterion   | HuberLoss        | 0      | train\n",
      "3 | train_metrics   | MetricCollection | 0      | train\n",
      "4 | val_metrics     | MetricCollection | 0      | train\n",
      "5 | stacks          | ModuleList       | 163 K  | train\n",
      "-------------------------------------------------------------\n",
      "157 K     Trainable params\n",
      "6.0 K     Non-trainable params\n",
      "163 K     Total params\n",
      "0.653     Total estimated model params size (MB)\n",
      "44        Modules in train mode\n",
      "0         Modules in eval mode\n"
     ]
    },
    {
     "name": "stdout",
     "output_type": "stream",
     "text": [
      "Iniciando a verificação das séries temporais para constância...\n",
      "\n",
      "Métricas de performance:\n",
      "                                     MSE        RMSE         MAE         R2  \\\n",
      "Temperature                     2.596153    1.611258    1.346182   0.234759   \n",
      "Precipitation_accumulated      93.992116    9.694953    6.564546 -97.854036   \n",
      "Humidity                       29.402166    5.422376    4.203941   0.548490   \n",
      "Wind_Speed_kmh                  0.194860    0.441430    0.226667   0.431791   \n",
      "Soil_Moisture              149820.269429  387.066234  250.709959   0.799006   \n",
      "Soil_Temperature                1.870554    1.367682    1.109420   0.665589   \n",
      "Wind_Dir_Sin                    0.123246    0.351065    0.201210   0.238251   \n",
      "Wind_Dir_Cos                    0.131859    0.363124    0.235721   0.543542   \n",
      "\n",
      "                                SMAPE  \n",
      "Temperature                 21.330015  \n",
      "Precipitation_accumulated    1.417457  \n",
      "Humidity                     5.036419  \n",
      "Wind_Speed_kmh             169.831014  \n",
      "Soil_Moisture                4.027095  \n",
      "Soil_Temperature            23.795155  \n",
      "Wind_Dir_Sin               159.618052  \n",
      "Wind_Dir_Cos                50.373382  \n",
      "O SMAPE desse fold foi 54.42857378413443\n",
      "Resultados do trial 26 salvos em optuna_iteration_metrics/trial_26.json\n",
      "Current value: 54.42857378413443, Current params: {'output_chunk_length': 45, 'input_chunk_length': 49, 'num_layers': 2, 'num_blocks': 4, 'num_stacks': 2, 'layer_widths': 32, 'activation': 'GELU', 'dropout': 0.25725927214094424, 'batch_size': 21, 'lr': 0.0009596921290405151, 'forecast_horizon': 13}\n",
      "Best value: 50.43235393618171, Best params: {'output_chunk_length': 27, 'input_chunk_length': 38, 'num_layers': 1, 'num_blocks': 3, 'num_stacks': 2, 'layer_widths': 85, 'activation': 'GELU', 'dropout': 0.18882539432465545, 'batch_size': 37, 'lr': 0.006016691509040486, 'forecast_horizon': 12}\n",
      "\n",
      "Iniciando Trial 27\n",
      "Hiperparâmetros: {'output_chunk_length': 39, 'input_chunk_length': 46, 'num_layers': 3, 'num_blocks': 3, 'num_stacks': 1, 'layer_widths': 138, 'activation': 'ReLU', 'dropout': 0.20429436463305461, 'batch_size': 64, 'lr': 0.0024153801261616067, 'forecast_horizon': 7}\n",
      "\n",
      "Treinando o modelo...\n",
      "Train set: 6647 samples\n",
      "Validation set: 1662 samples\n"
     ]
    },
    {
     "data": {
      "application/vnd.jupyter.widget-view+json": {
       "model_id": "78487001009c423e917714a6548fb1be",
       "version_major": 2,
       "version_minor": 0
      },
      "text/plain": [
       "Sanity Checking: |          | 0/? [00:00<?, ?it/s]"
      ]
     },
     "metadata": {},
     "output_type": "display_data"
    },
    {
     "name": "stderr",
     "output_type": "stream",
     "text": [
      "/home/eduardo/Documentos/Water-Cycle-Neural-Network/venv/lib/python3.12/site-packages/pytorch_lightning/trainer/connectors/data_connector.py:425: The 'val_dataloader' does not have many workers which may be a bottleneck. Consider increasing the value of the `num_workers` argument` to `num_workers=11` in the `DataLoader` to improve performance.\n",
      "/home/eduardo/Documentos/Water-Cycle-Neural-Network/venv/lib/python3.12/site-packages/pytorch_lightning/trainer/connectors/data_connector.py:425: The 'train_dataloader' does not have many workers which may be a bottleneck. Consider increasing the value of the `num_workers` argument` to `num_workers=11` in the `DataLoader` to improve performance.\n"
     ]
    },
    {
     "data": {
      "application/vnd.jupyter.widget-view+json": {
       "model_id": "e9aea866104e45c08786f95e74d8bff5",
       "version_major": 2,
       "version_minor": 0
      },
      "text/plain": [
       "Training: |          | 0/? [00:00<?, ?it/s]"
      ]
     },
     "metadata": {},
     "output_type": "display_data"
    },
    {
     "data": {
      "application/vnd.jupyter.widget-view+json": {
       "model_id": "bcb982627d374ae48774fc290e845623",
       "version_major": 2,
       "version_minor": 0
      },
      "text/plain": [
       "Validation: |          | 0/? [00:00<?, ?it/s]"
      ]
     },
     "metadata": {},
     "output_type": "display_data"
    },
    {
     "name": "stderr",
     "output_type": "stream",
     "text": [
      "Metric val_loss improved. New best score: 0.064\n"
     ]
    },
    {
     "data": {
      "application/vnd.jupyter.widget-view+json": {
       "model_id": "8e1f7687fe554cbf97be2cd460d96314",
       "version_major": 2,
       "version_minor": 0
      },
      "text/plain": [
       "Validation: |          | 0/? [00:00<?, ?it/s]"
      ]
     },
     "metadata": {},
     "output_type": "display_data"
    },
    {
     "data": {
      "application/vnd.jupyter.widget-view+json": {
       "model_id": "7db339605e804e059d2118c18336452b",
       "version_major": 2,
       "version_minor": 0
      },
      "text/plain": [
       "Validation: |          | 0/? [00:00<?, ?it/s]"
      ]
     },
     "metadata": {},
     "output_type": "display_data"
    },
    {
     "data": {
      "application/vnd.jupyter.widget-view+json": {
       "model_id": "28e69c36e8414ba8ba9bdbfe749c6830",
       "version_major": 2,
       "version_minor": 0
      },
      "text/plain": [
       "Validation: |          | 0/? [00:00<?, ?it/s]"
      ]
     },
     "metadata": {},
     "output_type": "display_data"
    },
    {
     "data": {
      "application/vnd.jupyter.widget-view+json": {
       "model_id": "c6e62a30957f4ef98b9715e01c3bab49",
       "version_major": 2,
       "version_minor": 0
      },
      "text/plain": [
       "Validation: |          | 0/? [00:00<?, ?it/s]"
      ]
     },
     "metadata": {},
     "output_type": "display_data"
    },
    {
     "data": {
      "application/vnd.jupyter.widget-view+json": {
       "model_id": "bcdb621f813549a0bb18389fa2fafba9",
       "version_major": 2,
       "version_minor": 0
      },
      "text/plain": [
       "Validation: |          | 0/? [00:00<?, ?it/s]"
      ]
     },
     "metadata": {},
     "output_type": "display_data"
    },
    {
     "data": {
      "application/vnd.jupyter.widget-view+json": {
       "model_id": "0c4cdb9b74344e2d9360af3a099f092a",
       "version_major": 2,
       "version_minor": 0
      },
      "text/plain": [
       "Validation: |          | 0/? [00:00<?, ?it/s]"
      ]
     },
     "metadata": {},
     "output_type": "display_data"
    },
    {
     "data": {
      "application/vnd.jupyter.widget-view+json": {
       "model_id": "2d5a90d26b6846e9834cbf1ec6caab0a",
       "version_major": 2,
       "version_minor": 0
      },
      "text/plain": [
       "Validation: |          | 0/? [00:00<?, ?it/s]"
      ]
     },
     "metadata": {},
     "output_type": "display_data"
    },
    {
     "data": {
      "application/vnd.jupyter.widget-view+json": {
       "model_id": "0471930aae164f69bc609106a951767e",
       "version_major": 2,
       "version_minor": 0
      },
      "text/plain": [
       "Validation: |          | 0/? [00:00<?, ?it/s]"
      ]
     },
     "metadata": {},
     "output_type": "display_data"
    },
    {
     "data": {
      "application/vnd.jupyter.widget-view+json": {
       "model_id": "359f53323dad447395b2b26dde5945bc",
       "version_major": 2,
       "version_minor": 0
      },
      "text/plain": [
       "Validation: |          | 0/? [00:00<?, ?it/s]"
      ]
     },
     "metadata": {},
     "output_type": "display_data"
    },
    {
     "data": {
      "application/vnd.jupyter.widget-view+json": {
       "model_id": "fd513b49f1e0443f85ffa9617dc4c0b7",
       "version_major": 2,
       "version_minor": 0
      },
      "text/plain": [
       "Validation: |          | 0/? [00:00<?, ?it/s]"
      ]
     },
     "metadata": {},
     "output_type": "display_data"
    },
    {
     "name": "stderr",
     "output_type": "stream",
     "text": [
      "Monitored metric val_loss did not improve in the last 10 records. Best score: 0.064. Signaling Trainer to stop.\n",
      "GPU available: True (cuda), used: True\n",
      "TPU available: False, using: 0 TPU cores\n",
      "HPU available: False, using: 0 HPUs\n",
      "LOCAL_RANK: 0 - CUDA_VISIBLE_DEVICES: [0]\n"
     ]
    },
    {
     "name": "stdout",
     "output_type": "stream",
     "text": [
      "Modelo carregado do checkpoint para trial 27\n"
     ]
    },
    {
     "name": "stderr",
     "output_type": "stream",
     "text": [
      "/home/eduardo/Documentos/Water-Cycle-Neural-Network/venv/lib/python3.12/site-packages/pytorch_lightning/trainer/connectors/data_connector.py:425: The 'predict_dataloader' does not have many workers which may be a bottleneck. Consider increasing the value of the `num_workers` argument` to `num_workers=11` in the `DataLoader` to improve performance.\n"
     ]
    },
    {
     "data": {
      "application/vnd.jupyter.widget-view+json": {
       "model_id": "577bfb4921aa4011b798554e9575bf61",
       "version_major": 2,
       "version_minor": 0
      },
      "text/plain": [
       "Predicting: |          | 0/? [00:00<?, ?it/s]"
      ]
     },
     "metadata": {},
     "output_type": "display_data"
    },
    {
     "name": "stderr",
     "output_type": "stream",
     "text": [
      "[I 2025-05-14 12:49:29,755] Trial 27 finished with value: 113.99923664063614 and parameters: {'output_chunk_length': 39, 'input_chunk_length': 46, 'num_layers': 3, 'num_blocks': 3, 'num_stacks': 1, 'layer_widths': 138, 'activation': 'ReLU', 'dropout': 0.20429436463305461, 'batch_size': 64, 'lr': 0.0024153801261616067, 'forecast_horizon': 7}. Best is trial 3 with value: 50.43235393618171.\n",
      "GPU available: True (cuda), used: True\n",
      "TPU available: False, using: 0 TPU cores\n",
      "HPU available: False, using: 0 HPUs\n",
      "LOCAL_RANK: 0 - CUDA_VISIBLE_DEVICES: [0]\n",
      "\n",
      "  | Name            | Type             | Params | Mode \n",
      "-------------------------------------------------------------\n",
      "0 | criterion       | HuberLoss        | 0      | train\n",
      "1 | train_criterion | HuberLoss        | 0      | train\n",
      "2 | val_criterion   | HuberLoss        | 0      | train\n",
      "3 | train_metrics   | MetricCollection | 0      | train\n",
      "4 | val_metrics     | MetricCollection | 0      | train\n",
      "5 | stacks          | ModuleList       | 644 K  | train\n",
      "-------------------------------------------------------------\n",
      "553 K     Trainable params\n",
      "90.7 K    Non-trainable params\n",
      "644 K     Total params\n",
      "2.578     Total estimated model params size (MB)\n",
      "60        Modules in train mode\n",
      "0         Modules in eval mode\n"
     ]
    },
    {
     "name": "stdout",
     "output_type": "stream",
     "text": [
      "Iniciando a verificação das séries temporais para constância...\n",
      "\n",
      "Métricas de performance:\n",
      "                                    MSE         RMSE          MAE  \\\n",
      "Temperature                1.858455e+02    13.632515    13.515192   \n",
      "Precipitation_accumulated  5.064197e+04   225.037708   225.007203   \n",
      "Humidity                   7.027386e+02    26.509218    25.204207   \n",
      "Wind_Speed_kmh             1.236535e+01     3.516440     3.469463   \n",
      "Soil_Moisture              3.321918e+06  1822.612925  1771.465562   \n",
      "Soil_Temperature           3.433693e+02    18.530227    18.406751   \n",
      "Wind_Dir_Sin               1.764877e-01     0.420104     0.234728   \n",
      "Wind_Dir_Cos               7.770134e-01     0.881484     0.834159   \n",
      "\n",
      "                                     R2       SMAPE  \n",
      "Temperature                  -53.701454  103.274959  \n",
      "Precipitation_accumulated -53311.182720   64.848076  \n",
      "Humidity                      -9.801559   34.905833  \n",
      "Wind_Speed_kmh               -35.209113  187.357123  \n",
      "Soil_Moisture                 -3.474496   26.287700  \n",
      "Soil_Temperature             -60.281818  117.391388  \n",
      "Wind_Dir_Sin                  -0.095170  188.354528  \n",
      "Wind_Dir_Cos                  -1.698900  189.574285  \n",
      "O SMAPE desse fold foi 113.99923664063614\n",
      "Resultados do trial 27 salvos em optuna_iteration_metrics/trial_27.json\n",
      "Current value: 113.99923664063614, Current params: {'output_chunk_length': 39, 'input_chunk_length': 46, 'num_layers': 3, 'num_blocks': 3, 'num_stacks': 1, 'layer_widths': 138, 'activation': 'ReLU', 'dropout': 0.20429436463305461, 'batch_size': 64, 'lr': 0.0024153801261616067, 'forecast_horizon': 7}\n",
      "Best value: 50.43235393618171, Best params: {'output_chunk_length': 27, 'input_chunk_length': 38, 'num_layers': 1, 'num_blocks': 3, 'num_stacks': 2, 'layer_widths': 85, 'activation': 'GELU', 'dropout': 0.18882539432465545, 'batch_size': 37, 'lr': 0.006016691509040486, 'forecast_horizon': 12}\n",
      "\n",
      "Iniciando Trial 28\n",
      "Hiperparâmetros: {'output_chunk_length': 53, 'input_chunk_length': 60, 'num_layers': 1, 'num_blocks': 2, 'num_stacks': 3, 'layer_widths': 83, 'activation': 'GELU', 'dropout': 0.17098088812747628, 'batch_size': 51, 'lr': 0.006411002333264127, 'forecast_horizon': 18}\n",
      "\n",
      "Treinando o modelo...\n",
      "Train set: 6647 samples\n",
      "Validation set: 1662 samples\n"
     ]
    },
    {
     "data": {
      "application/vnd.jupyter.widget-view+json": {
       "model_id": "464e13efede74516ae077f850c4a7e51",
       "version_major": 2,
       "version_minor": 0
      },
      "text/plain": [
       "Sanity Checking: |          | 0/? [00:00<?, ?it/s]"
      ]
     },
     "metadata": {},
     "output_type": "display_data"
    },
    {
     "name": "stderr",
     "output_type": "stream",
     "text": [
      "/home/eduardo/Documentos/Water-Cycle-Neural-Network/venv/lib/python3.12/site-packages/pytorch_lightning/trainer/connectors/data_connector.py:425: The 'val_dataloader' does not have many workers which may be a bottleneck. Consider increasing the value of the `num_workers` argument` to `num_workers=11` in the `DataLoader` to improve performance.\n",
      "/home/eduardo/Documentos/Water-Cycle-Neural-Network/venv/lib/python3.12/site-packages/pytorch_lightning/trainer/connectors/data_connector.py:425: The 'train_dataloader' does not have many workers which may be a bottleneck. Consider increasing the value of the `num_workers` argument` to `num_workers=11` in the `DataLoader` to improve performance.\n"
     ]
    },
    {
     "data": {
      "application/vnd.jupyter.widget-view+json": {
       "model_id": "78c8c124634e45eb958e687175d0f934",
       "version_major": 2,
       "version_minor": 0
      },
      "text/plain": [
       "Training: |          | 0/? [00:00<?, ?it/s]"
      ]
     },
     "metadata": {},
     "output_type": "display_data"
    },
    {
     "data": {
      "application/vnd.jupyter.widget-view+json": {
       "model_id": "b6aa0419f953487faa5f937a6a1e5d35",
       "version_major": 2,
       "version_minor": 0
      },
      "text/plain": [
       "Validation: |          | 0/? [00:00<?, ?it/s]"
      ]
     },
     "metadata": {},
     "output_type": "display_data"
    },
    {
     "name": "stderr",
     "output_type": "stream",
     "text": [
      "Metric val_loss improved. New best score: 0.044\n"
     ]
    },
    {
     "data": {
      "application/vnd.jupyter.widget-view+json": {
       "model_id": "ea826ee8c4dd435db989d843e84bd827",
       "version_major": 2,
       "version_minor": 0
      },
      "text/plain": [
       "Validation: |          | 0/? [00:00<?, ?it/s]"
      ]
     },
     "metadata": {},
     "output_type": "display_data"
    },
    {
     "name": "stderr",
     "output_type": "stream",
     "text": [
      "Metric val_loss improved by 0.002 >= min_delta = 0.001. New best score: 0.042\n"
     ]
    },
    {
     "data": {
      "application/vnd.jupyter.widget-view+json": {
       "model_id": "3776f329dee64ac2a5ece5638de2a0fb",
       "version_major": 2,
       "version_minor": 0
      },
      "text/plain": [
       "Validation: |          | 0/? [00:00<?, ?it/s]"
      ]
     },
     "metadata": {},
     "output_type": "display_data"
    },
    {
     "name": "stderr",
     "output_type": "stream",
     "text": [
      "Metric val_loss improved by 0.002 >= min_delta = 0.001. New best score: 0.039\n"
     ]
    },
    {
     "data": {
      "application/vnd.jupyter.widget-view+json": {
       "model_id": "30b3ec85552440e2a08136aa10c1105b",
       "version_major": 2,
       "version_minor": 0
      },
      "text/plain": [
       "Validation: |          | 0/? [00:00<?, ?it/s]"
      ]
     },
     "metadata": {},
     "output_type": "display_data"
    },
    {
     "data": {
      "application/vnd.jupyter.widget-view+json": {
       "model_id": "2c342da681754cd28d3c0f91d2dd3212",
       "version_major": 2,
       "version_minor": 0
      },
      "text/plain": [
       "Validation: |          | 0/? [00:00<?, ?it/s]"
      ]
     },
     "metadata": {},
     "output_type": "display_data"
    },
    {
     "data": {
      "application/vnd.jupyter.widget-view+json": {
       "model_id": "5da8b21b0c9b4968b2b0c77c5d2d4cdb",
       "version_major": 2,
       "version_minor": 0
      },
      "text/plain": [
       "Validation: |          | 0/? [00:00<?, ?it/s]"
      ]
     },
     "metadata": {},
     "output_type": "display_data"
    },
    {
     "data": {
      "application/vnd.jupyter.widget-view+json": {
       "model_id": "e1d89ba02ba24abb844841fc0058e3e3",
       "version_major": 2,
       "version_minor": 0
      },
      "text/plain": [
       "Validation: |          | 0/? [00:00<?, ?it/s]"
      ]
     },
     "metadata": {},
     "output_type": "display_data"
    },
    {
     "name": "stderr",
     "output_type": "stream",
     "text": [
      "Metric val_loss improved by 0.005 >= min_delta = 0.001. New best score: 0.035\n"
     ]
    },
    {
     "data": {
      "application/vnd.jupyter.widget-view+json": {
       "model_id": "2d2a94de0152483cac8a3650af240798",
       "version_major": 2,
       "version_minor": 0
      },
      "text/plain": [
       "Validation: |          | 0/? [00:00<?, ?it/s]"
      ]
     },
     "metadata": {},
     "output_type": "display_data"
    },
    {
     "data": {
      "application/vnd.jupyter.widget-view+json": {
       "model_id": "2f34f5d34c1b404eafa73ab5771b0be7",
       "version_major": 2,
       "version_minor": 0
      },
      "text/plain": [
       "Validation: |          | 0/? [00:00<?, ?it/s]"
      ]
     },
     "metadata": {},
     "output_type": "display_data"
    },
    {
     "data": {
      "application/vnd.jupyter.widget-view+json": {
       "model_id": "c43032e9b556414994873a48163b8020",
       "version_major": 2,
       "version_minor": 0
      },
      "text/plain": [
       "Validation: |          | 0/? [00:00<?, ?it/s]"
      ]
     },
     "metadata": {},
     "output_type": "display_data"
    },
    {
     "data": {
      "application/vnd.jupyter.widget-view+json": {
       "model_id": "2c7f1274cda74fec9c39371368d45ad0",
       "version_major": 2,
       "version_minor": 0
      },
      "text/plain": [
       "Validation: |          | 0/? [00:00<?, ?it/s]"
      ]
     },
     "metadata": {},
     "output_type": "display_data"
    },
    {
     "name": "stderr",
     "output_type": "stream",
     "text": [
      "Metric val_loss improved by 0.001 >= min_delta = 0.001. New best score: 0.033\n"
     ]
    },
    {
     "data": {
      "application/vnd.jupyter.widget-view+json": {
       "model_id": "0481560ef7414e3c86c397d295fbb865",
       "version_major": 2,
       "version_minor": 0
      },
      "text/plain": [
       "Validation: |          | 0/? [00:00<?, ?it/s]"
      ]
     },
     "metadata": {},
     "output_type": "display_data"
    },
    {
     "data": {
      "application/vnd.jupyter.widget-view+json": {
       "model_id": "af9925c48484483ab7a04dd686c34727",
       "version_major": 2,
       "version_minor": 0
      },
      "text/plain": [
       "Validation: |          | 0/? [00:00<?, ?it/s]"
      ]
     },
     "metadata": {},
     "output_type": "display_data"
    },
    {
     "data": {
      "application/vnd.jupyter.widget-view+json": {
       "model_id": "774177949ed1413b8f0a65837cf675ba",
       "version_major": 2,
       "version_minor": 0
      },
      "text/plain": [
       "Validation: |          | 0/? [00:00<?, ?it/s]"
      ]
     },
     "metadata": {},
     "output_type": "display_data"
    },
    {
     "data": {
      "application/vnd.jupyter.widget-view+json": {
       "model_id": "a90b877407c64a75af4e1bd49f973e09",
       "version_major": 2,
       "version_minor": 0
      },
      "text/plain": [
       "Validation: |          | 0/? [00:00<?, ?it/s]"
      ]
     },
     "metadata": {},
     "output_type": "display_data"
    },
    {
     "data": {
      "application/vnd.jupyter.widget-view+json": {
       "model_id": "a8b4dd9e7acb44339e11749660f8ff58",
       "version_major": 2,
       "version_minor": 0
      },
      "text/plain": [
       "Validation: |          | 0/? [00:00<?, ?it/s]"
      ]
     },
     "metadata": {},
     "output_type": "display_data"
    },
    {
     "name": "stderr",
     "output_type": "stream",
     "text": [
      "Metric val_loss improved by 0.002 >= min_delta = 0.001. New best score: 0.032\n"
     ]
    },
    {
     "data": {
      "application/vnd.jupyter.widget-view+json": {
       "model_id": "c79081831f3941bcbbccfe3d657c8178",
       "version_major": 2,
       "version_minor": 0
      },
      "text/plain": [
       "Validation: |          | 0/? [00:00<?, ?it/s]"
      ]
     },
     "metadata": {},
     "output_type": "display_data"
    },
    {
     "data": {
      "application/vnd.jupyter.widget-view+json": {
       "model_id": "bc42880929384a5e894425069091959f",
       "version_major": 2,
       "version_minor": 0
      },
      "text/plain": [
       "Validation: |          | 0/? [00:00<?, ?it/s]"
      ]
     },
     "metadata": {},
     "output_type": "display_data"
    },
    {
     "data": {
      "application/vnd.jupyter.widget-view+json": {
       "model_id": "c6f4e90a7e0048839068d502eba05b7e",
       "version_major": 2,
       "version_minor": 0
      },
      "text/plain": [
       "Validation: |          | 0/? [00:00<?, ?it/s]"
      ]
     },
     "metadata": {},
     "output_type": "display_data"
    },
    {
     "data": {
      "application/vnd.jupyter.widget-view+json": {
       "model_id": "102626fa7fd8421da5c1e276c04689a9",
       "version_major": 2,
       "version_minor": 0
      },
      "text/plain": [
       "Validation: |          | 0/? [00:00<?, ?it/s]"
      ]
     },
     "metadata": {},
     "output_type": "display_data"
    },
    {
     "data": {
      "application/vnd.jupyter.widget-view+json": {
       "model_id": "4f98849021f148029a4d938ba0803bbf",
       "version_major": 2,
       "version_minor": 0
      },
      "text/plain": [
       "Validation: |          | 0/? [00:00<?, ?it/s]"
      ]
     },
     "metadata": {},
     "output_type": "display_data"
    },
    {
     "data": {
      "application/vnd.jupyter.widget-view+json": {
       "model_id": "5e16ed4caa6a42cfadc730c0980dcba7",
       "version_major": 2,
       "version_minor": 0
      },
      "text/plain": [
       "Validation: |          | 0/? [00:00<?, ?it/s]"
      ]
     },
     "metadata": {},
     "output_type": "display_data"
    },
    {
     "data": {
      "application/vnd.jupyter.widget-view+json": {
       "model_id": "cfb281bcfe0a41b1884884883e572d54",
       "version_major": 2,
       "version_minor": 0
      },
      "text/plain": [
       "Validation: |          | 0/? [00:00<?, ?it/s]"
      ]
     },
     "metadata": {},
     "output_type": "display_data"
    },
    {
     "data": {
      "application/vnd.jupyter.widget-view+json": {
       "model_id": "914ef282569b41139404134565b30685",
       "version_major": 2,
       "version_minor": 0
      },
      "text/plain": [
       "Validation: |          | 0/? [00:00<?, ?it/s]"
      ]
     },
     "metadata": {},
     "output_type": "display_data"
    },
    {
     "data": {
      "application/vnd.jupyter.widget-view+json": {
       "model_id": "c5cf3e19d601419da838eee09bf779e0",
       "version_major": 2,
       "version_minor": 0
      },
      "text/plain": [
       "Validation: |          | 0/? [00:00<?, ?it/s]"
      ]
     },
     "metadata": {},
     "output_type": "display_data"
    },
    {
     "data": {
      "application/vnd.jupyter.widget-view+json": {
       "model_id": "38113daf5157429c8e60aa8a125e8a5a",
       "version_major": 2,
       "version_minor": 0
      },
      "text/plain": [
       "Validation: |          | 0/? [00:00<?, ?it/s]"
      ]
     },
     "metadata": {},
     "output_type": "display_data"
    },
    {
     "name": "stderr",
     "output_type": "stream",
     "text": [
      "Metric val_loss improved by 0.002 >= min_delta = 0.001. New best score: 0.029\n"
     ]
    },
    {
     "data": {
      "application/vnd.jupyter.widget-view+json": {
       "model_id": "0481046208ab4c00b2f9abb404cafdc8",
       "version_major": 2,
       "version_minor": 0
      },
      "text/plain": [
       "Validation: |          | 0/? [00:00<?, ?it/s]"
      ]
     },
     "metadata": {},
     "output_type": "display_data"
    },
    {
     "data": {
      "application/vnd.jupyter.widget-view+json": {
       "model_id": "8d62eaad3575496ca53c268da1a41fe1",
       "version_major": 2,
       "version_minor": 0
      },
      "text/plain": [
       "Validation: |          | 0/? [00:00<?, ?it/s]"
      ]
     },
     "metadata": {},
     "output_type": "display_data"
    },
    {
     "data": {
      "application/vnd.jupyter.widget-view+json": {
       "model_id": "194456352829486baa4bf1564a571ed7",
       "version_major": 2,
       "version_minor": 0
      },
      "text/plain": [
       "Validation: |          | 0/? [00:00<?, ?it/s]"
      ]
     },
     "metadata": {},
     "output_type": "display_data"
    },
    {
     "data": {
      "application/vnd.jupyter.widget-view+json": {
       "model_id": "7679f73e166f4f7a9926c4de369eb3f6",
       "version_major": 2,
       "version_minor": 0
      },
      "text/plain": [
       "Validation: |          | 0/? [00:00<?, ?it/s]"
      ]
     },
     "metadata": {},
     "output_type": "display_data"
    },
    {
     "name": "stderr",
     "output_type": "stream",
     "text": [
      "`Trainer.fit` stopped: `max_epochs=30` reached.\n",
      "GPU available: True (cuda), used: True\n",
      "TPU available: False, using: 0 TPU cores\n",
      "HPU available: False, using: 0 HPUs\n",
      "LOCAL_RANK: 0 - CUDA_VISIBLE_DEVICES: [0]\n"
     ]
    },
    {
     "name": "stdout",
     "output_type": "stream",
     "text": [
      "Modelo carregado do checkpoint para trial 28\n"
     ]
    },
    {
     "name": "stderr",
     "output_type": "stream",
     "text": [
      "/home/eduardo/Documentos/Water-Cycle-Neural-Network/venv/lib/python3.12/site-packages/pytorch_lightning/trainer/connectors/data_connector.py:425: The 'predict_dataloader' does not have many workers which may be a bottleneck. Consider increasing the value of the `num_workers` argument` to `num_workers=11` in the `DataLoader` to improve performance.\n"
     ]
    },
    {
     "data": {
      "application/vnd.jupyter.widget-view+json": {
       "model_id": "630baff5dfd640a198edf285c2665ce1",
       "version_major": 2,
       "version_minor": 0
      },
      "text/plain": [
       "Predicting: |          | 0/? [00:00<?, ?it/s]"
      ]
     },
     "metadata": {},
     "output_type": "display_data"
    },
    {
     "name": "stderr",
     "output_type": "stream",
     "text": [
      "[I 2025-05-14 12:50:09,368] Trial 28 finished with value: 60.70033570001897 and parameters: {'output_chunk_length': 53, 'input_chunk_length': 60, 'num_layers': 1, 'num_blocks': 2, 'num_stacks': 3, 'layer_widths': 83, 'activation': 'GELU', 'dropout': 0.17098088812747628, 'batch_size': 51, 'lr': 0.006411002333264127, 'forecast_horizon': 18}. Best is trial 3 with value: 50.43235393618171.\n",
      "GPU available: True (cuda), used: True\n",
      "TPU available: False, using: 0 TPU cores\n",
      "HPU available: False, using: 0 HPUs\n",
      "LOCAL_RANK: 0 - CUDA_VISIBLE_DEVICES: [0]\n",
      "\n",
      "  | Name            | Type             | Params | Mode \n",
      "-------------------------------------------------------------\n",
      "0 | criterion       | HuberLoss        | 0      | train\n",
      "1 | train_criterion | HuberLoss        | 0      | train\n",
      "2 | val_criterion   | HuberLoss        | 0      | train\n",
      "3 | train_metrics   | MetricCollection | 0      | train\n",
      "4 | val_metrics     | MetricCollection | 0      | train\n",
      "5 | stacks          | ModuleList       | 39.5 K | train\n",
      "-------------------------------------------------------------\n",
      "36.8 K    Trainable params\n",
      "2.7 K     Non-trainable params\n",
      "39.5 K    Total params\n",
      "0.158     Total estimated model params size (MB)\n",
      "48        Modules in train mode\n",
      "0         Modules in eval mode\n"
     ]
    },
    {
     "name": "stdout",
     "output_type": "stream",
     "text": [
      "Iniciando a verificação das séries temporais para constância...\n",
      "\n",
      "Métricas de performance:\n",
      "                                     MSE        RMSE         MAE           R2  \\\n",
      "Temperature                     4.293648    2.072112    1.546947    -0.269782   \n",
      "Precipitation_accumulated    1503.781357   38.778620   37.571323 -1579.345128   \n",
      "Humidity                       36.664079    6.055087    4.918590     0.437003   \n",
      "Wind_Speed_kmh                  0.343827    0.586368    0.287270     0.000928   \n",
      "Soil_Moisture              460912.707441  678.905522  591.145385     0.383714   \n",
      "Soil_Temperature                9.669281    3.109547    2.241377    -0.731414   \n",
      "Wind_Dir_Sin                    0.134226    0.366369    0.232991     0.173148   \n",
      "Wind_Dir_Cos                    0.176572    0.420205    0.364177     0.390479   \n",
      "\n",
      "                                SMAPE  \n",
      "Temperature                 25.790802  \n",
      "Precipitation_accumulated    8.548016  \n",
      "Humidity                     5.822085  \n",
      "Wind_Speed_kmh             172.111278  \n",
      "Soil_Moisture                9.319911  \n",
      "Soil_Temperature            34.816463  \n",
      "Wind_Dir_Sin               163.263370  \n",
      "Wind_Dir_Cos                65.930761  \n",
      "O SMAPE desse fold foi 60.70033570001897\n",
      "Resultados do trial 28 salvos em optuna_iteration_metrics/trial_28.json\n",
      "Current value: 60.70033570001897, Current params: {'output_chunk_length': 53, 'input_chunk_length': 60, 'num_layers': 1, 'num_blocks': 2, 'num_stacks': 3, 'layer_widths': 83, 'activation': 'GELU', 'dropout': 0.17098088812747628, 'batch_size': 51, 'lr': 0.006411002333264127, 'forecast_horizon': 18}\n",
      "Best value: 50.43235393618171, Best params: {'output_chunk_length': 27, 'input_chunk_length': 38, 'num_layers': 1, 'num_blocks': 3, 'num_stacks': 2, 'layer_widths': 85, 'activation': 'GELU', 'dropout': 0.18882539432465545, 'batch_size': 37, 'lr': 0.006016691509040486, 'forecast_horizon': 12}\n",
      "\n",
      "Iniciando Trial 29\n",
      "Hiperparâmetros: {'output_chunk_length': 62, 'input_chunk_length': 83, 'num_layers': 2, 'num_blocks': 4, 'num_stacks': 1, 'layer_widths': 55, 'activation': 'GELU', 'dropout': 0.07689389368604588, 'batch_size': 48, 'lr': 0.0005181137854329396, 'forecast_horizon': 6}\n",
      "\n",
      "Treinando o modelo...\n",
      "Train set: 6647 samples\n",
      "Validation set: 1662 samples\n"
     ]
    },
    {
     "data": {
      "application/vnd.jupyter.widget-view+json": {
       "model_id": "a71e025819b0452b9ff3cc25ad641507",
       "version_major": 2,
       "version_minor": 0
      },
      "text/plain": [
       "Sanity Checking: |          | 0/? [00:00<?, ?it/s]"
      ]
     },
     "metadata": {},
     "output_type": "display_data"
    },
    {
     "name": "stderr",
     "output_type": "stream",
     "text": [
      "/home/eduardo/Documentos/Water-Cycle-Neural-Network/venv/lib/python3.12/site-packages/pytorch_lightning/trainer/connectors/data_connector.py:425: The 'val_dataloader' does not have many workers which may be a bottleneck. Consider increasing the value of the `num_workers` argument` to `num_workers=11` in the `DataLoader` to improve performance.\n",
      "/home/eduardo/Documentos/Water-Cycle-Neural-Network/venv/lib/python3.12/site-packages/pytorch_lightning/trainer/connectors/data_connector.py:425: The 'train_dataloader' does not have many workers which may be a bottleneck. Consider increasing the value of the `num_workers` argument` to `num_workers=11` in the `DataLoader` to improve performance.\n"
     ]
    },
    {
     "data": {
      "application/vnd.jupyter.widget-view+json": {
       "model_id": "9c1abd4c1d0f4a5591e7f95a533a1795",
       "version_major": 2,
       "version_minor": 0
      },
      "text/plain": [
       "Training: |          | 0/? [00:00<?, ?it/s]"
      ]
     },
     "metadata": {},
     "output_type": "display_data"
    },
    {
     "data": {
      "application/vnd.jupyter.widget-view+json": {
       "model_id": "07d8fb64636d42ba97bfb10f8e1dc2f3",
       "version_major": 2,
       "version_minor": 0
      },
      "text/plain": [
       "Validation: |          | 0/? [00:00<?, ?it/s]"
      ]
     },
     "metadata": {},
     "output_type": "display_data"
    },
    {
     "name": "stderr",
     "output_type": "stream",
     "text": [
      "Metric val_loss improved. New best score: 0.065\n"
     ]
    },
    {
     "data": {
      "application/vnd.jupyter.widget-view+json": {
       "model_id": "fe248fb6a97e4d5185895daa6cc1d52a",
       "version_major": 2,
       "version_minor": 0
      },
      "text/plain": [
       "Validation: |          | 0/? [00:00<?, ?it/s]"
      ]
     },
     "metadata": {},
     "output_type": "display_data"
    },
    {
     "data": {
      "application/vnd.jupyter.widget-view+json": {
       "model_id": "3b265dea13694812a324dc4087659a2f",
       "version_major": 2,
       "version_minor": 0
      },
      "text/plain": [
       "Validation: |          | 0/? [00:00<?, ?it/s]"
      ]
     },
     "metadata": {},
     "output_type": "display_data"
    },
    {
     "data": {
      "application/vnd.jupyter.widget-view+json": {
       "model_id": "7b9c16d77ff247feb2be5cfd3c041f1a",
       "version_major": 2,
       "version_minor": 0
      },
      "text/plain": [
       "Validation: |          | 0/? [00:00<?, ?it/s]"
      ]
     },
     "metadata": {},
     "output_type": "display_data"
    },
    {
     "name": "stderr",
     "output_type": "stream",
     "text": [
      "Metric val_loss improved by 0.001 >= min_delta = 0.001. New best score: 0.064\n"
     ]
    },
    {
     "data": {
      "application/vnd.jupyter.widget-view+json": {
       "model_id": "669d2362256049849b3e252e26151816",
       "version_major": 2,
       "version_minor": 0
      },
      "text/plain": [
       "Validation: |          | 0/? [00:00<?, ?it/s]"
      ]
     },
     "metadata": {},
     "output_type": "display_data"
    },
    {
     "data": {
      "application/vnd.jupyter.widget-view+json": {
       "model_id": "42ba6fe7793f438881b5b1287626e3f9",
       "version_major": 2,
       "version_minor": 0
      },
      "text/plain": [
       "Validation: |          | 0/? [00:00<?, ?it/s]"
      ]
     },
     "metadata": {},
     "output_type": "display_data"
    },
    {
     "data": {
      "application/vnd.jupyter.widget-view+json": {
       "model_id": "899c792cbc074361a195a7822244cf04",
       "version_major": 2,
       "version_minor": 0
      },
      "text/plain": [
       "Validation: |          | 0/? [00:00<?, ?it/s]"
      ]
     },
     "metadata": {},
     "output_type": "display_data"
    },
    {
     "data": {
      "application/vnd.jupyter.widget-view+json": {
       "model_id": "12b6921598b84d2d9937653571284ddb",
       "version_major": 2,
       "version_minor": 0
      },
      "text/plain": [
       "Validation: |          | 0/? [00:00<?, ?it/s]"
      ]
     },
     "metadata": {},
     "output_type": "display_data"
    },
    {
     "data": {
      "application/vnd.jupyter.widget-view+json": {
       "model_id": "8cb0a7e83b9d4337a9dfacde39d12bab",
       "version_major": 2,
       "version_minor": 0
      },
      "text/plain": [
       "Validation: |          | 0/? [00:00<?, ?it/s]"
      ]
     },
     "metadata": {},
     "output_type": "display_data"
    },
    {
     "data": {
      "application/vnd.jupyter.widget-view+json": {
       "model_id": "07d3094db922427892673b707c143114",
       "version_major": 2,
       "version_minor": 0
      },
      "text/plain": [
       "Validation: |          | 0/? [00:00<?, ?it/s]"
      ]
     },
     "metadata": {},
     "output_type": "display_data"
    },
    {
     "data": {
      "application/vnd.jupyter.widget-view+json": {
       "model_id": "b1abd6156a1642a3a1c77eabd5bc1cdf",
       "version_major": 2,
       "version_minor": 0
      },
      "text/plain": [
       "Validation: |          | 0/? [00:00<?, ?it/s]"
      ]
     },
     "metadata": {},
     "output_type": "display_data"
    },
    {
     "data": {
      "application/vnd.jupyter.widget-view+json": {
       "model_id": "f8588a5b01934ac58647a4fd1c1d0371",
       "version_major": 2,
       "version_minor": 0
      },
      "text/plain": [
       "Validation: |          | 0/? [00:00<?, ?it/s]"
      ]
     },
     "metadata": {},
     "output_type": "display_data"
    },
    {
     "data": {
      "application/vnd.jupyter.widget-view+json": {
       "model_id": "b063b13113844984afcea6ea6705c575",
       "version_major": 2,
       "version_minor": 0
      },
      "text/plain": [
       "Validation: |          | 0/? [00:00<?, ?it/s]"
      ]
     },
     "metadata": {},
     "output_type": "display_data"
    },
    {
     "data": {
      "application/vnd.jupyter.widget-view+json": {
       "model_id": "9d9ac0757ae3450a811b3a7f5908c49f",
       "version_major": 2,
       "version_minor": 0
      },
      "text/plain": [
       "Validation: |          | 0/? [00:00<?, ?it/s]"
      ]
     },
     "metadata": {},
     "output_type": "display_data"
    },
    {
     "name": "stderr",
     "output_type": "stream",
     "text": [
      "Monitored metric val_loss did not improve in the last 10 records. Best score: 0.064. Signaling Trainer to stop.\n",
      "GPU available: True (cuda), used: True\n",
      "TPU available: False, using: 0 TPU cores\n",
      "HPU available: False, using: 0 HPUs\n",
      "LOCAL_RANK: 0 - CUDA_VISIBLE_DEVICES: [0]\n"
     ]
    },
    {
     "name": "stdout",
     "output_type": "stream",
     "text": [
      "Modelo carregado do checkpoint para trial 29\n"
     ]
    },
    {
     "name": "stderr",
     "output_type": "stream",
     "text": [
      "/home/eduardo/Documentos/Water-Cycle-Neural-Network/venv/lib/python3.12/site-packages/pytorch_lightning/trainer/connectors/data_connector.py:425: The 'predict_dataloader' does not have many workers which may be a bottleneck. Consider increasing the value of the `num_workers` argument` to `num_workers=11` in the `DataLoader` to improve performance.\n"
     ]
    },
    {
     "data": {
      "application/vnd.jupyter.widget-view+json": {
       "model_id": "5748be19b92d4493b71ac1d31469da31",
       "version_major": 2,
       "version_minor": 0
      },
      "text/plain": [
       "Predicting: |          | 0/? [00:00<?, ?it/s]"
      ]
     },
     "metadata": {},
     "output_type": "display_data"
    },
    {
     "name": "stderr",
     "output_type": "stream",
     "text": [
      "[I 2025-05-14 12:50:26,768] Trial 29 finished with value: 113.8518045878848 and parameters: {'output_chunk_length': 62, 'input_chunk_length': 83, 'num_layers': 2, 'num_blocks': 4, 'num_stacks': 1, 'layer_widths': 55, 'activation': 'GELU', 'dropout': 0.07689389368604588, 'batch_size': 48, 'lr': 0.0005181137854329396, 'forecast_horizon': 6}. Best is trial 3 with value: 50.43235393618171.\n",
      "GPU available: True (cuda), used: True\n",
      "TPU available: False, using: 0 TPU cores\n",
      "HPU available: False, using: 0 HPUs\n",
      "LOCAL_RANK: 0 - CUDA_VISIBLE_DEVICES: [0]\n",
      "\n",
      "  | Name            | Type             | Params | Mode \n",
      "-------------------------------------------------------------\n",
      "0 | criterion       | HuberLoss        | 0      | train\n",
      "1 | train_criterion | HuberLoss        | 0      | train\n",
      "2 | val_criterion   | HuberLoss        | 0      | train\n",
      "3 | train_metrics   | MetricCollection | 0      | train\n",
      "4 | val_metrics     | MetricCollection | 0      | train\n",
      "5 | stacks          | ModuleList       | 1.6 M  | train\n",
      "-------------------------------------------------------------\n",
      "1.5 M     Trainable params\n",
      "105 K     Non-trainable params\n",
      "1.6 M     Total params\n",
      "6.253     Total estimated model params size (MB)\n",
      "122       Modules in train mode\n",
      "0         Modules in eval mode\n"
     ]
    },
    {
     "name": "stdout",
     "output_type": "stream",
     "text": [
      "Iniciando a verificação das séries temporais para constância...\n",
      "\n",
      "Métricas de performance:\n",
      "                                    MSE         RMSE          MAE  \\\n",
      "Temperature                1.848828e+02    13.597162    13.478284   \n",
      "Precipitation_accumulated  5.089405e+04   225.597098   225.518351   \n",
      "Humidity                   7.118968e+02    26.681395    25.319297   \n",
      "Wind_Speed_kmh             1.231239e+01     3.508901     3.458814   \n",
      "Soil_Moisture              3.329173e+06  1824.602094  1778.516896   \n",
      "Soil_Temperature           3.393687e+02    18.421962    18.312020   \n",
      "Wind_Dir_Sin               1.751786e-01     0.418543     0.233790   \n",
      "Wind_Dir_Cos               7.778308e-01     0.881947     0.834581   \n",
      "\n",
      "                                     R2       SMAPE  \n",
      "Temperature                  -53.399211  103.139451  \n",
      "Precipitation_accumulated -53585.173833   65.053771  \n",
      "Humidity                      -9.944089   35.095321  \n",
      "Wind_Speed_kmh               -35.079239  187.200611  \n",
      "Soil_Moisture                 -3.487244   26.381581  \n",
      "Soil_Temperature             -59.549566  117.237763  \n",
      "Wind_Dir_Sin                  -0.087766  187.864250  \n",
      "Wind_Dir_Cos                  -1.703258  188.841689  \n",
      "O SMAPE desse fold foi 113.8518045878848\n",
      "Resultados do trial 29 salvos em optuna_iteration_metrics/trial_29.json\n",
      "Current value: 113.8518045878848, Current params: {'output_chunk_length': 62, 'input_chunk_length': 83, 'num_layers': 2, 'num_blocks': 4, 'num_stacks': 1, 'layer_widths': 55, 'activation': 'GELU', 'dropout': 0.07689389368604588, 'batch_size': 48, 'lr': 0.0005181137854329396, 'forecast_horizon': 6}\n",
      "Best value: 50.43235393618171, Best params: {'output_chunk_length': 27, 'input_chunk_length': 38, 'num_layers': 1, 'num_blocks': 3, 'num_stacks': 2, 'layer_widths': 85, 'activation': 'GELU', 'dropout': 0.18882539432465545, 'batch_size': 37, 'lr': 0.006016691509040486, 'forecast_horizon': 12}\n",
      "\n",
      "Iniciando Trial 30\n",
      "Hiperparâmetros: {'output_chunk_length': 47, 'input_chunk_length': 53, 'num_layers': 4, 'num_blocks': 4, 'num_stacks': 2, 'layer_widths': 110, 'activation': 'GELU', 'dropout': 0.13839820699032934, 'batch_size': 27, 'lr': 0.00017014993785391646, 'forecast_horizon': 21}\n",
      "\n",
      "Treinando o modelo...\n",
      "Train set: 6647 samples\n",
      "Validation set: 1662 samples\n"
     ]
    },
    {
     "data": {
      "application/vnd.jupyter.widget-view+json": {
       "model_id": "60e076245921437a827137b420481db8",
       "version_major": 2,
       "version_minor": 0
      },
      "text/plain": [
       "Sanity Checking: |          | 0/? [00:00<?, ?it/s]"
      ]
     },
     "metadata": {},
     "output_type": "display_data"
    },
    {
     "name": "stderr",
     "output_type": "stream",
     "text": [
      "/home/eduardo/Documentos/Water-Cycle-Neural-Network/venv/lib/python3.12/site-packages/pytorch_lightning/trainer/connectors/data_connector.py:425: The 'val_dataloader' does not have many workers which may be a bottleneck. Consider increasing the value of the `num_workers` argument` to `num_workers=11` in the `DataLoader` to improve performance.\n",
      "/home/eduardo/Documentos/Water-Cycle-Neural-Network/venv/lib/python3.12/site-packages/pytorch_lightning/trainer/connectors/data_connector.py:425: The 'train_dataloader' does not have many workers which may be a bottleneck. Consider increasing the value of the `num_workers` argument` to `num_workers=11` in the `DataLoader` to improve performance.\n"
     ]
    },
    {
     "data": {
      "application/vnd.jupyter.widget-view+json": {
       "model_id": "c952602f0b0c4179b42918517740384c",
       "version_major": 2,
       "version_minor": 0
      },
      "text/plain": [
       "Training: |          | 0/? [00:00<?, ?it/s]"
      ]
     },
     "metadata": {},
     "output_type": "display_data"
    },
    {
     "data": {
      "application/vnd.jupyter.widget-view+json": {
       "model_id": "ca8b25df304744caa98697feb55ca27d",
       "version_major": 2,
       "version_minor": 0
      },
      "text/plain": [
       "Validation: |          | 0/? [00:00<?, ?it/s]"
      ]
     },
     "metadata": {},
     "output_type": "display_data"
    },
    {
     "name": "stderr",
     "output_type": "stream",
     "text": [
      "Metric val_loss improved. New best score: 0.040\n"
     ]
    },
    {
     "data": {
      "application/vnd.jupyter.widget-view+json": {
       "model_id": "d7fe481f86ed44f0bb3bd0b2cd4ce67c",
       "version_major": 2,
       "version_minor": 0
      },
      "text/plain": [
       "Validation: |          | 0/? [00:00<?, ?it/s]"
      ]
     },
     "metadata": {},
     "output_type": "display_data"
    },
    {
     "name": "stderr",
     "output_type": "stream",
     "text": [
      "Metric val_loss improved by 0.011 >= min_delta = 0.001. New best score: 0.029\n"
     ]
    },
    {
     "data": {
      "application/vnd.jupyter.widget-view+json": {
       "model_id": "b04d6e9489a742a8a567c3e0273a807e",
       "version_major": 2,
       "version_minor": 0
      },
      "text/plain": [
       "Validation: |          | 0/? [00:00<?, ?it/s]"
      ]
     },
     "metadata": {},
     "output_type": "display_data"
    },
    {
     "name": "stderr",
     "output_type": "stream",
     "text": [
      "Metric val_loss improved by 0.003 >= min_delta = 0.001. New best score: 0.026\n"
     ]
    },
    {
     "data": {
      "application/vnd.jupyter.widget-view+json": {
       "model_id": "932e93caf73d457f99814cf907ca916d",
       "version_major": 2,
       "version_minor": 0
      },
      "text/plain": [
       "Validation: |          | 0/? [00:00<?, ?it/s]"
      ]
     },
     "metadata": {},
     "output_type": "display_data"
    },
    {
     "data": {
      "application/vnd.jupyter.widget-view+json": {
       "model_id": "a8cfaec3f9814c16899f2175b09958e1",
       "version_major": 2,
       "version_minor": 0
      },
      "text/plain": [
       "Validation: |          | 0/? [00:00<?, ?it/s]"
      ]
     },
     "metadata": {},
     "output_type": "display_data"
    },
    {
     "data": {
      "application/vnd.jupyter.widget-view+json": {
       "model_id": "2fbaab658295462f8aee730d0633d1e2",
       "version_major": 2,
       "version_minor": 0
      },
      "text/plain": [
       "Validation: |          | 0/? [00:00<?, ?it/s]"
      ]
     },
     "metadata": {},
     "output_type": "display_data"
    },
    {
     "data": {
      "application/vnd.jupyter.widget-view+json": {
       "model_id": "ab414f1b6a1e4941adddc5c6a686a7ae",
       "version_major": 2,
       "version_minor": 0
      },
      "text/plain": [
       "Validation: |          | 0/? [00:00<?, ?it/s]"
      ]
     },
     "metadata": {},
     "output_type": "display_data"
    },
    {
     "data": {
      "application/vnd.jupyter.widget-view+json": {
       "model_id": "87d4fcd77a104b9b98b006408819c1f2",
       "version_major": 2,
       "version_minor": 0
      },
      "text/plain": [
       "Validation: |          | 0/? [00:00<?, ?it/s]"
      ]
     },
     "metadata": {},
     "output_type": "display_data"
    },
    {
     "data": {
      "application/vnd.jupyter.widget-view+json": {
       "model_id": "eb059be49a174971bcdd19af8f73db17",
       "version_major": 2,
       "version_minor": 0
      },
      "text/plain": [
       "Validation: |          | 0/? [00:00<?, ?it/s]"
      ]
     },
     "metadata": {},
     "output_type": "display_data"
    },
    {
     "data": {
      "application/vnd.jupyter.widget-view+json": {
       "model_id": "dafb029a4d46460a8f0378df98f514c3",
       "version_major": 2,
       "version_minor": 0
      },
      "text/plain": [
       "Validation: |          | 0/? [00:00<?, ?it/s]"
      ]
     },
     "metadata": {},
     "output_type": "display_data"
    },
    {
     "data": {
      "application/vnd.jupyter.widget-view+json": {
       "model_id": "0b8686ee1ff8464badaa6c083c15d5a0",
       "version_major": 2,
       "version_minor": 0
      },
      "text/plain": [
       "Validation: |          | 0/? [00:00<?, ?it/s]"
      ]
     },
     "metadata": {},
     "output_type": "display_data"
    },
    {
     "data": {
      "application/vnd.jupyter.widget-view+json": {
       "model_id": "86f488b0c49c4d4d9fc31779dc643b04",
       "version_major": 2,
       "version_minor": 0
      },
      "text/plain": [
       "Validation: |          | 0/? [00:00<?, ?it/s]"
      ]
     },
     "metadata": {},
     "output_type": "display_data"
    },
    {
     "data": {
      "application/vnd.jupyter.widget-view+json": {
       "model_id": "4ea6c60012e64ef390943f0c97710e28",
       "version_major": 2,
       "version_minor": 0
      },
      "text/plain": [
       "Validation: |          | 0/? [00:00<?, ?it/s]"
      ]
     },
     "metadata": {},
     "output_type": "display_data"
    },
    {
     "name": "stderr",
     "output_type": "stream",
     "text": [
      "Monitored metric val_loss did not improve in the last 10 records. Best score: 0.026. Signaling Trainer to stop.\n",
      "GPU available: True (cuda), used: True\n",
      "TPU available: False, using: 0 TPU cores\n",
      "HPU available: False, using: 0 HPUs\n",
      "LOCAL_RANK: 0 - CUDA_VISIBLE_DEVICES: [0]\n",
      "/home/eduardo/Documentos/Water-Cycle-Neural-Network/venv/lib/python3.12/site-packages/pytorch_lightning/trainer/connectors/data_connector.py:425: The 'predict_dataloader' does not have many workers which may be a bottleneck. Consider increasing the value of the `num_workers` argument` to `num_workers=11` in the `DataLoader` to improve performance.\n"
     ]
    },
    {
     "name": "stdout",
     "output_type": "stream",
     "text": [
      "Modelo carregado do checkpoint para trial 30\n"
     ]
    },
    {
     "data": {
      "application/vnd.jupyter.widget-view+json": {
       "model_id": "d48fb16fb37b49ed8e970333e57fd6b1",
       "version_major": 2,
       "version_minor": 0
      },
      "text/plain": [
       "Predicting: |          | 0/? [00:00<?, ?it/s]"
      ]
     },
     "metadata": {},
     "output_type": "display_data"
    },
    {
     "name": "stderr",
     "output_type": "stream",
     "text": [
      "[I 2025-05-14 12:51:11,209] Trial 30 finished with value: 53.61338512301579 and parameters: {'output_chunk_length': 47, 'input_chunk_length': 53, 'num_layers': 4, 'num_blocks': 4, 'num_stacks': 2, 'layer_widths': 110, 'activation': 'GELU', 'dropout': 0.13839820699032934, 'batch_size': 27, 'lr': 0.00017014993785391646, 'forecast_horizon': 21}. Best is trial 3 with value: 50.43235393618171.\n",
      "GPU available: True (cuda), used: True\n",
      "TPU available: False, using: 0 TPU cores\n",
      "HPU available: False, using: 0 HPUs\n",
      "LOCAL_RANK: 0 - CUDA_VISIBLE_DEVICES: [0]\n",
      "\n",
      "  | Name            | Type             | Params | Mode \n",
      "-------------------------------------------------------------\n",
      "0 | criterion       | HuberLoss        | 0      | train\n",
      "1 | train_criterion | HuberLoss        | 0      | train\n",
      "2 | val_criterion   | HuberLoss        | 0      | train\n",
      "3 | train_metrics   | MetricCollection | 0      | train\n",
      "4 | val_metrics     | MetricCollection | 0      | train\n",
      "5 | stacks          | ModuleList       | 672 K  | train\n",
      "-------------------------------------------------------------\n",
      "618 K     Trainable params\n",
      "54.6 K    Non-trainable params\n",
      "672 K     Total params\n",
      "2.691     Total estimated model params size (MB)\n",
      "102       Modules in train mode\n",
      "0         Modules in eval mode\n"
     ]
    },
    {
     "name": "stdout",
     "output_type": "stream",
     "text": [
      "Iniciando a verificação das séries temporais para constância...\n",
      "\n",
      "Métricas de performance:\n",
      "                                     MSE        RMSE         MAE          R2  \\\n",
      "Temperature                     1.681125    1.296582    0.901416    0.501574   \n",
      "Precipitation_accumulated     479.925058   21.907192   11.375436 -503.130478   \n",
      "Humidity                       27.459740    5.240204    4.351076    0.578045   \n",
      "Wind_Speed_kmh                  0.227838    0.477324    0.232400    0.339362   \n",
      "Soil_Moisture              194235.897203  440.722018  242.029269    0.740801   \n",
      "Soil_Temperature                1.775363    1.332427    0.784670    0.681712   \n",
      "Wind_Dir_Sin                    0.152401    0.390385    0.252537    0.063069   \n",
      "Wind_Dir_Cos                    0.148918    0.385898    0.273626    0.486811   \n",
      "\n",
      "                                SMAPE  \n",
      "Temperature                 15.700751  \n",
      "Precipitation_accumulated    2.585121  \n",
      "Humidity                     5.195774  \n",
      "Wind_Speed_kmh             168.779199  \n",
      "Soil_Moisture                3.787512  \n",
      "Soil_Temperature            20.228130  \n",
      "Wind_Dir_Sin               160.859933  \n",
      "Wind_Dir_Cos                51.770661  \n",
      "O SMAPE desse fold foi 53.61338512301579\n",
      "Resultados do trial 30 salvos em optuna_iteration_metrics/trial_30.json\n",
      "Current value: 53.61338512301579, Current params: {'output_chunk_length': 47, 'input_chunk_length': 53, 'num_layers': 4, 'num_blocks': 4, 'num_stacks': 2, 'layer_widths': 110, 'activation': 'GELU', 'dropout': 0.13839820699032934, 'batch_size': 27, 'lr': 0.00017014993785391646, 'forecast_horizon': 21}\n",
      "Best value: 50.43235393618171, Best params: {'output_chunk_length': 27, 'input_chunk_length': 38, 'num_layers': 1, 'num_blocks': 3, 'num_stacks': 2, 'layer_widths': 85, 'activation': 'GELU', 'dropout': 0.18882539432465545, 'batch_size': 37, 'lr': 0.006016691509040486, 'forecast_horizon': 12}\n",
      "\n",
      "Iniciando Trial 31\n",
      "Hiperparâmetros: {'output_chunk_length': 32, 'input_chunk_length': 37, 'num_layers': 2, 'num_blocks': 3, 'num_stacks': 3, 'layer_widths': 81, 'activation': 'GELU', 'dropout': 0.12054542391254756, 'batch_size': 42, 'lr': 0.003283083084846838, 'forecast_horizon': 14}\n",
      "\n",
      "Treinando o modelo...\n",
      "Train set: 6647 samples\n",
      "Validation set: 1662 samples\n"
     ]
    },
    {
     "data": {
      "application/vnd.jupyter.widget-view+json": {
       "model_id": "c941829e0cc643d99b1d432e4de68c65",
       "version_major": 2,
       "version_minor": 0
      },
      "text/plain": [
       "Sanity Checking: |          | 0/? [00:00<?, ?it/s]"
      ]
     },
     "metadata": {},
     "output_type": "display_data"
    },
    {
     "name": "stderr",
     "output_type": "stream",
     "text": [
      "/home/eduardo/Documentos/Water-Cycle-Neural-Network/venv/lib/python3.12/site-packages/pytorch_lightning/trainer/connectors/data_connector.py:425: The 'val_dataloader' does not have many workers which may be a bottleneck. Consider increasing the value of the `num_workers` argument` to `num_workers=11` in the `DataLoader` to improve performance.\n",
      "/home/eduardo/Documentos/Water-Cycle-Neural-Network/venv/lib/python3.12/site-packages/pytorch_lightning/trainer/connectors/data_connector.py:425: The 'train_dataloader' does not have many workers which may be a bottleneck. Consider increasing the value of the `num_workers` argument` to `num_workers=11` in the `DataLoader` to improve performance.\n"
     ]
    },
    {
     "data": {
      "application/vnd.jupyter.widget-view+json": {
       "model_id": "bead7034d102432ba715f97b5bfaf38a",
       "version_major": 2,
       "version_minor": 0
      },
      "text/plain": [
       "Training: |          | 0/? [00:00<?, ?it/s]"
      ]
     },
     "metadata": {},
     "output_type": "display_data"
    },
    {
     "data": {
      "application/vnd.jupyter.widget-view+json": {
       "model_id": "4cee7001f09049fab6f6cc728532e4a0",
       "version_major": 2,
       "version_minor": 0
      },
      "text/plain": [
       "Validation: |          | 0/? [00:00<?, ?it/s]"
      ]
     },
     "metadata": {},
     "output_type": "display_data"
    },
    {
     "name": "stderr",
     "output_type": "stream",
     "text": [
      "Metric val_loss improved. New best score: 0.026\n"
     ]
    },
    {
     "data": {
      "application/vnd.jupyter.widget-view+json": {
       "model_id": "fbe5759ce4e44ea595c98f9dbd2e9a9b",
       "version_major": 2,
       "version_minor": 0
      },
      "text/plain": [
       "Validation: |          | 0/? [00:00<?, ?it/s]"
      ]
     },
     "metadata": {},
     "output_type": "display_data"
    },
    {
     "data": {
      "application/vnd.jupyter.widget-view+json": {
       "model_id": "fc61df235ab3445095770eb57721274e",
       "version_major": 2,
       "version_minor": 0
      },
      "text/plain": [
       "Validation: |          | 0/? [00:00<?, ?it/s]"
      ]
     },
     "metadata": {},
     "output_type": "display_data"
    },
    {
     "name": "stderr",
     "output_type": "stream",
     "text": [
      "Metric val_loss improved by 0.002 >= min_delta = 0.001. New best score: 0.024\n"
     ]
    },
    {
     "data": {
      "application/vnd.jupyter.widget-view+json": {
       "model_id": "e4cca90fc7e5428e8e8986ef4886cf4b",
       "version_major": 2,
       "version_minor": 0
      },
      "text/plain": [
       "Validation: |          | 0/? [00:00<?, ?it/s]"
      ]
     },
     "metadata": {},
     "output_type": "display_data"
    },
    {
     "data": {
      "application/vnd.jupyter.widget-view+json": {
       "model_id": "7d52565c52f242eab3ca376bc4be435b",
       "version_major": 2,
       "version_minor": 0
      },
      "text/plain": [
       "Validation: |          | 0/? [00:00<?, ?it/s]"
      ]
     },
     "metadata": {},
     "output_type": "display_data"
    },
    {
     "data": {
      "application/vnd.jupyter.widget-view+json": {
       "model_id": "fe88e0d062c247f39c3d396fdfed0e3e",
       "version_major": 2,
       "version_minor": 0
      },
      "text/plain": [
       "Validation: |          | 0/? [00:00<?, ?it/s]"
      ]
     },
     "metadata": {},
     "output_type": "display_data"
    },
    {
     "data": {
      "application/vnd.jupyter.widget-view+json": {
       "model_id": "3a297cef5c8a4bac99e92c730ddb8392",
       "version_major": 2,
       "version_minor": 0
      },
      "text/plain": [
       "Validation: |          | 0/? [00:00<?, ?it/s]"
      ]
     },
     "metadata": {},
     "output_type": "display_data"
    },
    {
     "data": {
      "application/vnd.jupyter.widget-view+json": {
       "model_id": "020b15970648408591be9d88cf27acd4",
       "version_major": 2,
       "version_minor": 0
      },
      "text/plain": [
       "Validation: |          | 0/? [00:00<?, ?it/s]"
      ]
     },
     "metadata": {},
     "output_type": "display_data"
    },
    {
     "data": {
      "application/vnd.jupyter.widget-view+json": {
       "model_id": "38ae181f9e3f4c52b5e3522199c2d453",
       "version_major": 2,
       "version_minor": 0
      },
      "text/plain": [
       "Validation: |          | 0/? [00:00<?, ?it/s]"
      ]
     },
     "metadata": {},
     "output_type": "display_data"
    },
    {
     "data": {
      "application/vnd.jupyter.widget-view+json": {
       "model_id": "291783b408ca41189adbbe031eaa46d9",
       "version_major": 2,
       "version_minor": 0
      },
      "text/plain": [
       "Validation: |          | 0/? [00:00<?, ?it/s]"
      ]
     },
     "metadata": {},
     "output_type": "display_data"
    },
    {
     "data": {
      "application/vnd.jupyter.widget-view+json": {
       "model_id": "4e7457c7c4cb4a819f49ab15f5d1f92d",
       "version_major": 2,
       "version_minor": 0
      },
      "text/plain": [
       "Validation: |          | 0/? [00:00<?, ?it/s]"
      ]
     },
     "metadata": {},
     "output_type": "display_data"
    },
    {
     "data": {
      "application/vnd.jupyter.widget-view+json": {
       "model_id": "40c3b2b772bb49f7bfa8051dc6a3c8b2",
       "version_major": 2,
       "version_minor": 0
      },
      "text/plain": [
       "Validation: |          | 0/? [00:00<?, ?it/s]"
      ]
     },
     "metadata": {},
     "output_type": "display_data"
    },
    {
     "data": {
      "application/vnd.jupyter.widget-view+json": {
       "model_id": "bc0af9edf7ea43d29f6756079fe60867",
       "version_major": 2,
       "version_minor": 0
      },
      "text/plain": [
       "Validation: |          | 0/? [00:00<?, ?it/s]"
      ]
     },
     "metadata": {},
     "output_type": "display_data"
    },
    {
     "name": "stderr",
     "output_type": "stream",
     "text": [
      "Monitored metric val_loss did not improve in the last 10 records. Best score: 0.024. Signaling Trainer to stop.\n",
      "GPU available: True (cuda), used: True\n",
      "TPU available: False, using: 0 TPU cores\n",
      "HPU available: False, using: 0 HPUs\n",
      "LOCAL_RANK: 0 - CUDA_VISIBLE_DEVICES: [0]\n"
     ]
    },
    {
     "name": "stdout",
     "output_type": "stream",
     "text": [
      "Modelo carregado do checkpoint para trial 31\n"
     ]
    },
    {
     "name": "stderr",
     "output_type": "stream",
     "text": [
      "/home/eduardo/Documentos/Water-Cycle-Neural-Network/venv/lib/python3.12/site-packages/pytorch_lightning/trainer/connectors/data_connector.py:425: The 'predict_dataloader' does not have many workers which may be a bottleneck. Consider increasing the value of the `num_workers` argument` to `num_workers=11` in the `DataLoader` to improve performance.\n"
     ]
    },
    {
     "data": {
      "application/vnd.jupyter.widget-view+json": {
       "model_id": "a98a154a051e4f078fa39ec9cef8da2e",
       "version_major": 2,
       "version_minor": 0
      },
      "text/plain": [
       "Predicting: |          | 0/? [00:00<?, ?it/s]"
      ]
     },
     "metadata": {},
     "output_type": "display_data"
    },
    {
     "name": "stderr",
     "output_type": "stream",
     "text": [
      "[I 2025-05-14 12:51:37,581] Trial 31 finished with value: 52.96809260369791 and parameters: {'output_chunk_length': 32, 'input_chunk_length': 37, 'num_layers': 2, 'num_blocks': 3, 'num_stacks': 3, 'layer_widths': 81, 'activation': 'GELU', 'dropout': 0.12054542391254756, 'batch_size': 42, 'lr': 0.003283083084846838, 'forecast_horizon': 14}. Best is trial 3 with value: 50.43235393618171.\n",
      "GPU available: True (cuda), used: True\n",
      "TPU available: False, using: 0 TPU cores\n",
      "HPU available: False, using: 0 HPUs\n",
      "LOCAL_RANK: 0 - CUDA_VISIBLE_DEVICES: [0]\n",
      "\n",
      "  | Name            | Type             | Params | Mode \n",
      "-------------------------------------------------------------\n",
      "0 | criterion       | HuberLoss        | 0      | train\n",
      "1 | train_criterion | HuberLoss        | 0      | train\n",
      "2 | val_criterion   | HuberLoss        | 0      | train\n",
      "3 | train_metrics   | MetricCollection | 0      | train\n",
      "4 | val_metrics     | MetricCollection | 0      | train\n",
      "5 | stacks          | ModuleList       | 453 K  | train\n",
      "-------------------------------------------------------------\n",
      "416 K     Trainable params\n",
      "37.8 K    Non-trainable params\n",
      "453 K     Total params\n",
      "1.815     Total estimated model params size (MB)\n",
      "102       Modules in train mode\n",
      "0         Modules in eval mode\n"
     ]
    },
    {
     "name": "stdout",
     "output_type": "stream",
     "text": [
      "Iniciando a verificação das séries temporais para constância...\n",
      "\n",
      "Métricas de performance:\n",
      "                                    MSE        RMSE         MAE          R2  \\\n",
      "Temperature                    1.362663    1.167332    0.800433    0.598283   \n",
      "Precipitation_accumulated    488.742516   22.107522   19.578693 -512.943453   \n",
      "Humidity                      21.630813    4.650894    3.773096    0.667898   \n",
      "Wind_Speed_kmh                 0.196401    0.443171    0.253517    0.427702   \n",
      "Soil_Moisture              98168.706767  313.318858  195.551729    0.868388   \n",
      "Soil_Temperature               2.376218    1.541499    1.181364    0.575086   \n",
      "Wind_Dir_Sin                   0.081343    0.285207    0.179786    0.497576   \n",
      "Wind_Dir_Cos                   0.105404    0.324660    0.210822    0.635325   \n",
      "\n",
      "                                SMAPE  \n",
      "Temperature                 14.122076  \n",
      "Precipitation_accumulated    4.149963  \n",
      "Humidity                     4.528869  \n",
      "Wind_Speed_kmh             170.124468  \n",
      "Soil_Moisture                3.176064  \n",
      "Soil_Temperature            28.331694  \n",
      "Wind_Dir_Sin               153.099770  \n",
      "Wind_Dir_Cos                46.211836  \n",
      "O SMAPE desse fold foi 52.96809260369791\n",
      "Resultados do trial 31 salvos em optuna_iteration_metrics/trial_31.json\n",
      "Current value: 52.96809260369791, Current params: {'output_chunk_length': 32, 'input_chunk_length': 37, 'num_layers': 2, 'num_blocks': 3, 'num_stacks': 3, 'layer_widths': 81, 'activation': 'GELU', 'dropout': 0.12054542391254756, 'batch_size': 42, 'lr': 0.003283083084846838, 'forecast_horizon': 14}\n",
      "Best value: 50.43235393618171, Best params: {'output_chunk_length': 27, 'input_chunk_length': 38, 'num_layers': 1, 'num_blocks': 3, 'num_stacks': 2, 'layer_widths': 85, 'activation': 'GELU', 'dropout': 0.18882539432465545, 'batch_size': 37, 'lr': 0.006016691509040486, 'forecast_horizon': 12}\n",
      "\n",
      "Iniciando Trial 32\n",
      "Hiperparâmetros: {'output_chunk_length': 25, 'input_chunk_length': 35, 'num_layers': 2, 'num_blocks': 3, 'num_stacks': 3, 'layer_widths': 59, 'activation': 'GELU', 'dropout': 0.10731461566338185, 'batch_size': 42, 'lr': 0.003216028989026149, 'forecast_horizon': 14}\n",
      "\n",
      "Treinando o modelo...\n",
      "Train set: 6647 samples\n",
      "Validation set: 1662 samples\n"
     ]
    },
    {
     "data": {
      "application/vnd.jupyter.widget-view+json": {
       "model_id": "58950ab35ffe4142a29faafc01934a53",
       "version_major": 2,
       "version_minor": 0
      },
      "text/plain": [
       "Sanity Checking: |          | 0/? [00:00<?, ?it/s]"
      ]
     },
     "metadata": {},
     "output_type": "display_data"
    },
    {
     "name": "stderr",
     "output_type": "stream",
     "text": [
      "/home/eduardo/Documentos/Water-Cycle-Neural-Network/venv/lib/python3.12/site-packages/pytorch_lightning/trainer/connectors/data_connector.py:425: The 'val_dataloader' does not have many workers which may be a bottleneck. Consider increasing the value of the `num_workers` argument` to `num_workers=11` in the `DataLoader` to improve performance.\n",
      "/home/eduardo/Documentos/Water-Cycle-Neural-Network/venv/lib/python3.12/site-packages/pytorch_lightning/trainer/connectors/data_connector.py:425: The 'train_dataloader' does not have many workers which may be a bottleneck. Consider increasing the value of the `num_workers` argument` to `num_workers=11` in the `DataLoader` to improve performance.\n"
     ]
    },
    {
     "data": {
      "application/vnd.jupyter.widget-view+json": {
       "model_id": "0304645ee4e6487a9cd8755f2fdb4886",
       "version_major": 2,
       "version_minor": 0
      },
      "text/plain": [
       "Training: |          | 0/? [00:00<?, ?it/s]"
      ]
     },
     "metadata": {},
     "output_type": "display_data"
    },
    {
     "data": {
      "application/vnd.jupyter.widget-view+json": {
       "model_id": "e1d6ce1f13d54fc592900ecee0158b8c",
       "version_major": 2,
       "version_minor": 0
      },
      "text/plain": [
       "Validation: |          | 0/? [00:00<?, ?it/s]"
      ]
     },
     "metadata": {},
     "output_type": "display_data"
    },
    {
     "name": "stderr",
     "output_type": "stream",
     "text": [
      "Metric val_loss improved. New best score: 0.022\n"
     ]
    },
    {
     "data": {
      "application/vnd.jupyter.widget-view+json": {
       "model_id": "db2e32a3fff5411a9a0c2c12aad0c901",
       "version_major": 2,
       "version_minor": 0
      },
      "text/plain": [
       "Validation: |          | 0/? [00:00<?, ?it/s]"
      ]
     },
     "metadata": {},
     "output_type": "display_data"
    },
    {
     "data": {
      "application/vnd.jupyter.widget-view+json": {
       "model_id": "0aba4510aba54e82be119e1d8a743bd6",
       "version_major": 2,
       "version_minor": 0
      },
      "text/plain": [
       "Validation: |          | 0/? [00:00<?, ?it/s]"
      ]
     },
     "metadata": {},
     "output_type": "display_data"
    },
    {
     "data": {
      "application/vnd.jupyter.widget-view+json": {
       "model_id": "74d3360f53724a91a37fce067ed93dc4",
       "version_major": 2,
       "version_minor": 0
      },
      "text/plain": [
       "Validation: |          | 0/? [00:00<?, ?it/s]"
      ]
     },
     "metadata": {},
     "output_type": "display_data"
    },
    {
     "data": {
      "application/vnd.jupyter.widget-view+json": {
       "model_id": "1a30f4da5e0348a29680c1d1b9bcbf9b",
       "version_major": 2,
       "version_minor": 0
      },
      "text/plain": [
       "Validation: |          | 0/? [00:00<?, ?it/s]"
      ]
     },
     "metadata": {},
     "output_type": "display_data"
    },
    {
     "data": {
      "application/vnd.jupyter.widget-view+json": {
       "model_id": "078063efda41497aaff305591d99c9f6",
       "version_major": 2,
       "version_minor": 0
      },
      "text/plain": [
       "Validation: |          | 0/? [00:00<?, ?it/s]"
      ]
     },
     "metadata": {},
     "output_type": "display_data"
    },
    {
     "data": {
      "application/vnd.jupyter.widget-view+json": {
       "model_id": "1a6b6ac6cc604db2a1d4ad4c0b3e9797",
       "version_major": 2,
       "version_minor": 0
      },
      "text/plain": [
       "Validation: |          | 0/? [00:00<?, ?it/s]"
      ]
     },
     "metadata": {},
     "output_type": "display_data"
    },
    {
     "data": {
      "application/vnd.jupyter.widget-view+json": {
       "model_id": "e979405623da4a4bb3fb417b6710ca2b",
       "version_major": 2,
       "version_minor": 0
      },
      "text/plain": [
       "Validation: |          | 0/? [00:00<?, ?it/s]"
      ]
     },
     "metadata": {},
     "output_type": "display_data"
    },
    {
     "data": {
      "application/vnd.jupyter.widget-view+json": {
       "model_id": "051db5bd45b34a698ef45f923b40898a",
       "version_major": 2,
       "version_minor": 0
      },
      "text/plain": [
       "Validation: |          | 0/? [00:00<?, ?it/s]"
      ]
     },
     "metadata": {},
     "output_type": "display_data"
    },
    {
     "data": {
      "application/vnd.jupyter.widget-view+json": {
       "model_id": "e986712e35074b81a809ff11c81a43d2",
       "version_major": 2,
       "version_minor": 0
      },
      "text/plain": [
       "Validation: |          | 0/? [00:00<?, ?it/s]"
      ]
     },
     "metadata": {},
     "output_type": "display_data"
    },
    {
     "data": {
      "application/vnd.jupyter.widget-view+json": {
       "model_id": "26827a010cfc459fa4f79918d39694fd",
       "version_major": 2,
       "version_minor": 0
      },
      "text/plain": [
       "Validation: |          | 0/? [00:00<?, ?it/s]"
      ]
     },
     "metadata": {},
     "output_type": "display_data"
    },
    {
     "name": "stderr",
     "output_type": "stream",
     "text": [
      "Monitored metric val_loss did not improve in the last 10 records. Best score: 0.022. Signaling Trainer to stop.\n",
      "GPU available: True (cuda), used: True\n",
      "TPU available: False, using: 0 TPU cores\n",
      "HPU available: False, using: 0 HPUs\n",
      "LOCAL_RANK: 0 - CUDA_VISIBLE_DEVICES: [0]\n"
     ]
    },
    {
     "name": "stdout",
     "output_type": "stream",
     "text": [
      "Modelo carregado do checkpoint para trial 32\n"
     ]
    },
    {
     "name": "stderr",
     "output_type": "stream",
     "text": [
      "/home/eduardo/Documentos/Water-Cycle-Neural-Network/venv/lib/python3.12/site-packages/pytorch_lightning/trainer/connectors/data_connector.py:425: The 'predict_dataloader' does not have many workers which may be a bottleneck. Consider increasing the value of the `num_workers` argument` to `num_workers=11` in the `DataLoader` to improve performance.\n"
     ]
    },
    {
     "data": {
      "application/vnd.jupyter.widget-view+json": {
       "model_id": "a1ce3f34685c4092bf95e9af91703c36",
       "version_major": 2,
       "version_minor": 0
      },
      "text/plain": [
       "Predicting: |          | 0/? [00:00<?, ?it/s]"
      ]
     },
     "metadata": {},
     "output_type": "display_data"
    },
    {
     "name": "stderr",
     "output_type": "stream",
     "text": [
      "[I 2025-05-14 12:51:59,385] Trial 32 finished with value: 55.358488903230075 and parameters: {'output_chunk_length': 25, 'input_chunk_length': 35, 'num_layers': 2, 'num_blocks': 3, 'num_stacks': 3, 'layer_widths': 59, 'activation': 'GELU', 'dropout': 0.10731461566338185, 'batch_size': 42, 'lr': 0.003216028989026149, 'forecast_horizon': 14}. Best is trial 3 with value: 50.43235393618171.\n",
      "GPU available: True (cuda), used: True\n",
      "TPU available: False, using: 0 TPU cores\n",
      "HPU available: False, using: 0 HPUs\n",
      "LOCAL_RANK: 0 - CUDA_VISIBLE_DEVICES: [0]\n",
      "\n",
      "  | Name            | Type             | Params | Mode \n",
      "-------------------------------------------------------------\n",
      "0 | criterion       | HuberLoss        | 0      | train\n",
      "1 | train_criterion | HuberLoss        | 0      | train\n",
      "2 | val_criterion   | HuberLoss        | 0      | train\n",
      "3 | train_metrics   | MetricCollection | 0      | train\n",
      "4 | val_metrics     | MetricCollection | 0      | train\n",
      "5 | stacks          | ModuleList       | 1.1 M  | train\n",
      "-------------------------------------------------------------\n",
      "1.0 M     Trainable params\n",
      "77.0 K    Non-trainable params\n",
      "1.1 M     Total params\n",
      "4.423     Total estimated model params size (MB)\n",
      "110       Modules in train mode\n",
      "0         Modules in eval mode\n"
     ]
    },
    {
     "name": "stdout",
     "output_type": "stream",
     "text": [
      "Iniciando a verificação das séries temporais para constância...\n",
      "\n",
      "Métricas de performance:\n",
      "                                     MSE        RMSE         MAE          R2  \\\n",
      "Temperature                     1.883444    1.372386    1.087972    0.444755   \n",
      "Precipitation_accumulated     707.394211   26.596883   23.691982 -742.869444   \n",
      "Humidity                       25.861170    5.085388    3.757155    0.602949   \n",
      "Wind_Speed_kmh                  0.269644    0.519273    0.273450    0.214275   \n",
      "Soil_Moisture              176628.821607  420.272318  171.570189    0.763200   \n",
      "Soil_Temperature                1.918987    1.385275    0.953646    0.656848   \n",
      "Wind_Dir_Sin                    0.120342    0.346903    0.202171    0.256698   \n",
      "Wind_Dir_Cos                    0.121297    0.348277    0.226141    0.580340   \n",
      "\n",
      "                                SMAPE  \n",
      "Temperature                 17.855870  \n",
      "Precipitation_accumulated    5.329583  \n",
      "Humidity                     4.434226  \n",
      "Wind_Speed_kmh             173.897798  \n",
      "Soil_Moisture                2.655891  \n",
      "Soil_Temperature            27.317200  \n",
      "Wind_Dir_Sin               163.086311  \n",
      "Wind_Dir_Cos                48.291032  \n",
      "O SMAPE desse fold foi 55.358488903230075\n",
      "Resultados do trial 32 salvos em optuna_iteration_metrics/trial_32.json\n",
      "Current value: 55.358488903230075, Current params: {'output_chunk_length': 25, 'input_chunk_length': 35, 'num_layers': 2, 'num_blocks': 3, 'num_stacks': 3, 'layer_widths': 59, 'activation': 'GELU', 'dropout': 0.10731461566338185, 'batch_size': 42, 'lr': 0.003216028989026149, 'forecast_horizon': 14}\n",
      "Best value: 50.43235393618171, Best params: {'output_chunk_length': 27, 'input_chunk_length': 38, 'num_layers': 1, 'num_blocks': 3, 'num_stacks': 2, 'layer_widths': 85, 'activation': 'GELU', 'dropout': 0.18882539432465545, 'batch_size': 37, 'lr': 0.006016691509040486, 'forecast_horizon': 12}\n",
      "\n",
      "Iniciando Trial 33\n",
      "Hiperparâmetros: {'output_chunk_length': 39, 'input_chunk_length': 46, 'num_layers': 1, 'num_blocks': 3, 'num_stacks': 4, 'layer_widths': 92, 'activation': 'GELU', 'dropout': 0.08922125982913866, 'batch_size': 50, 'lr': 0.0018894404183620011, 'forecast_horizon': 17}\n",
      "\n",
      "Treinando o modelo...\n",
      "Train set: 6647 samples\n",
      "Validation set: 1662 samples\n"
     ]
    },
    {
     "data": {
      "application/vnd.jupyter.widget-view+json": {
       "model_id": "f02d3adea40b4424a544861326d00565",
       "version_major": 2,
       "version_minor": 0
      },
      "text/plain": [
       "Sanity Checking: |          | 0/? [00:00<?, ?it/s]"
      ]
     },
     "metadata": {},
     "output_type": "display_data"
    },
    {
     "name": "stderr",
     "output_type": "stream",
     "text": [
      "/home/eduardo/Documentos/Water-Cycle-Neural-Network/venv/lib/python3.12/site-packages/pytorch_lightning/trainer/connectors/data_connector.py:425: The 'val_dataloader' does not have many workers which may be a bottleneck. Consider increasing the value of the `num_workers` argument` to `num_workers=11` in the `DataLoader` to improve performance.\n",
      "/home/eduardo/Documentos/Water-Cycle-Neural-Network/venv/lib/python3.12/site-packages/pytorch_lightning/trainer/connectors/data_connector.py:425: The 'train_dataloader' does not have many workers which may be a bottleneck. Consider increasing the value of the `num_workers` argument` to `num_workers=11` in the `DataLoader` to improve performance.\n"
     ]
    },
    {
     "data": {
      "application/vnd.jupyter.widget-view+json": {
       "model_id": "5c3c9798f2ce4401a4b877a893234bea",
       "version_major": 2,
       "version_minor": 0
      },
      "text/plain": [
       "Training: |          | 0/? [00:00<?, ?it/s]"
      ]
     },
     "metadata": {},
     "output_type": "display_data"
    },
    {
     "data": {
      "application/vnd.jupyter.widget-view+json": {
       "model_id": "a252eb05cd3c4fbba5339c26b6dff9b3",
       "version_major": 2,
       "version_minor": 0
      },
      "text/plain": [
       "Validation: |          | 0/? [00:00<?, ?it/s]"
      ]
     },
     "metadata": {},
     "output_type": "display_data"
    },
    {
     "name": "stderr",
     "output_type": "stream",
     "text": [
      "Metric val_loss improved. New best score: 0.024\n"
     ]
    },
    {
     "data": {
      "application/vnd.jupyter.widget-view+json": {
       "model_id": "35cbb4a623a24749897c63ca17682a7f",
       "version_major": 2,
       "version_minor": 0
      },
      "text/plain": [
       "Validation: |          | 0/? [00:00<?, ?it/s]"
      ]
     },
     "metadata": {},
     "output_type": "display_data"
    },
    {
     "data": {
      "application/vnd.jupyter.widget-view+json": {
       "model_id": "209c7f2c1a674de4a62df41db9ebe3b6",
       "version_major": 2,
       "version_minor": 0
      },
      "text/plain": [
       "Validation: |          | 0/? [00:00<?, ?it/s]"
      ]
     },
     "metadata": {},
     "output_type": "display_data"
    },
    {
     "data": {
      "application/vnd.jupyter.widget-view+json": {
       "model_id": "88b12638a9084d54acd7e06a38653310",
       "version_major": 2,
       "version_minor": 0
      },
      "text/plain": [
       "Validation: |          | 0/? [00:00<?, ?it/s]"
      ]
     },
     "metadata": {},
     "output_type": "display_data"
    },
    {
     "data": {
      "application/vnd.jupyter.widget-view+json": {
       "model_id": "ea2a5ad273f84da79674d7b6e43a585e",
       "version_major": 2,
       "version_minor": 0
      },
      "text/plain": [
       "Validation: |          | 0/? [00:00<?, ?it/s]"
      ]
     },
     "metadata": {},
     "output_type": "display_data"
    },
    {
     "data": {
      "application/vnd.jupyter.widget-view+json": {
       "model_id": "870a89a2c3a1440480f4f25d201f1819",
       "version_major": 2,
       "version_minor": 0
      },
      "text/plain": [
       "Validation: |          | 0/? [00:00<?, ?it/s]"
      ]
     },
     "metadata": {},
     "output_type": "display_data"
    },
    {
     "data": {
      "application/vnd.jupyter.widget-view+json": {
       "model_id": "fb08be06ffa14eb7bd6d34cb2feaf2f2",
       "version_major": 2,
       "version_minor": 0
      },
      "text/plain": [
       "Validation: |          | 0/? [00:00<?, ?it/s]"
      ]
     },
     "metadata": {},
     "output_type": "display_data"
    },
    {
     "data": {
      "application/vnd.jupyter.widget-view+json": {
       "model_id": "7651ddd02d0c4b8d816cceab978359a6",
       "version_major": 2,
       "version_minor": 0
      },
      "text/plain": [
       "Validation: |          | 0/? [00:00<?, ?it/s]"
      ]
     },
     "metadata": {},
     "output_type": "display_data"
    },
    {
     "data": {
      "application/vnd.jupyter.widget-view+json": {
       "model_id": "7556e0e05957405290c1c74f49700a03",
       "version_major": 2,
       "version_minor": 0
      },
      "text/plain": [
       "Validation: |          | 0/? [00:00<?, ?it/s]"
      ]
     },
     "metadata": {},
     "output_type": "display_data"
    },
    {
     "data": {
      "application/vnd.jupyter.widget-view+json": {
       "model_id": "951b6724eb094b3595125de7bb916d96",
       "version_major": 2,
       "version_minor": 0
      },
      "text/plain": [
       "Validation: |          | 0/? [00:00<?, ?it/s]"
      ]
     },
     "metadata": {},
     "output_type": "display_data"
    },
    {
     "data": {
      "application/vnd.jupyter.widget-view+json": {
       "model_id": "a02ca082abc24abd99716499846df150",
       "version_major": 2,
       "version_minor": 0
      },
      "text/plain": [
       "Validation: |          | 0/? [00:00<?, ?it/s]"
      ]
     },
     "metadata": {},
     "output_type": "display_data"
    },
    {
     "name": "stderr",
     "output_type": "stream",
     "text": [
      "Monitored metric val_loss did not improve in the last 10 records. Best score: 0.024. Signaling Trainer to stop.\n",
      "GPU available: True (cuda), used: True\n",
      "TPU available: False, using: 0 TPU cores\n",
      "HPU available: False, using: 0 HPUs\n",
      "LOCAL_RANK: 0 - CUDA_VISIBLE_DEVICES: [0]\n"
     ]
    },
    {
     "name": "stdout",
     "output_type": "stream",
     "text": [
      "Modelo carregado do checkpoint para trial 33\n"
     ]
    },
    {
     "name": "stderr",
     "output_type": "stream",
     "text": [
      "/home/eduardo/Documentos/Water-Cycle-Neural-Network/venv/lib/python3.12/site-packages/pytorch_lightning/trainer/connectors/data_connector.py:425: The 'predict_dataloader' does not have many workers which may be a bottleneck. Consider increasing the value of the `num_workers` argument` to `num_workers=11` in the `DataLoader` to improve performance.\n"
     ]
    },
    {
     "data": {
      "application/vnd.jupyter.widget-view+json": {
       "model_id": "5f4fd84919224d9b9e81159f028e4c23",
       "version_major": 2,
       "version_minor": 0
      },
      "text/plain": [
       "Predicting: |          | 0/? [00:00<?, ?it/s]"
      ]
     },
     "metadata": {},
     "output_type": "display_data"
    },
    {
     "name": "stderr",
     "output_type": "stream",
     "text": [
      "[I 2025-05-14 12:52:21,570] Trial 33 finished with value: 57.75716744463582 and parameters: {'output_chunk_length': 39, 'input_chunk_length': 46, 'num_layers': 1, 'num_blocks': 3, 'num_stacks': 4, 'layer_widths': 92, 'activation': 'GELU', 'dropout': 0.08922125982913866, 'batch_size': 50, 'lr': 0.0018894404183620011, 'forecast_horizon': 17}. Best is trial 3 with value: 50.43235393618171.\n",
      "GPU available: True (cuda), used: True\n",
      "TPU available: False, using: 0 TPU cores\n",
      "HPU available: False, using: 0 HPUs\n",
      "LOCAL_RANK: 0 - CUDA_VISIBLE_DEVICES: [0]\n",
      "\n",
      "  | Name            | Type             | Params | Mode \n",
      "-------------------------------------------------------------\n",
      "0 | criterion       | HuberLoss        | 0      | train\n",
      "1 | train_criterion | HuberLoss        | 0      | train\n",
      "2 | val_criterion   | HuberLoss        | 0      | train\n",
      "3 | train_metrics   | MetricCollection | 0      | train\n",
      "4 | val_metrics     | MetricCollection | 0      | train\n",
      "5 | stacks          | ModuleList       | 1.2 M  | train\n",
      "-------------------------------------------------------------\n",
      "1.1 M     Trainable params\n",
      "79.9 K    Non-trainable params\n",
      "1.2 M     Total params\n",
      "4.742     Total estimated model params size (MB)\n",
      "120       Modules in train mode\n",
      "0         Modules in eval mode\n"
     ]
    },
    {
     "name": "stdout",
     "output_type": "stream",
     "text": [
      "Iniciando a verificação das séries temporais para constância...\n",
      "\n",
      "Métricas de performance:\n",
      "                                     MSE        RMSE         MAE          R2  \\\n",
      "Temperature                     3.316930    1.821244    1.369725    0.019787   \n",
      "Precipitation_accumulated     753.304714   27.446397   21.268995 -790.779878   \n",
      "Humidity                       34.021826    5.832823    4.321763    0.477570   \n",
      "Wind_Speed_kmh                  0.313196    0.559639    0.412883    0.089291   \n",
      "Soil_Moisture              237072.481283  486.900895  290.806783    0.682801   \n",
      "Soil_Temperature                1.929740    1.389151    1.035680    0.654592   \n",
      "Wind_Dir_Sin                    0.133064    0.364779    0.237865    0.179759   \n",
      "Wind_Dir_Cos                    0.153088    0.391265    0.306991    0.471245   \n",
      "\n",
      "                                SMAPE  \n",
      "Temperature                 25.346077  \n",
      "Precipitation_accumulated    4.678791  \n",
      "Humidity                     5.134603  \n",
      "Wind_Speed_kmh             173.505300  \n",
      "Soil_Moisture                4.623051  \n",
      "Soil_Temperature            25.795849  \n",
      "Wind_Dir_Sin               161.989036  \n",
      "Wind_Dir_Cos                60.984632  \n",
      "O SMAPE desse fold foi 57.75716744463582\n",
      "Resultados do trial 33 salvos em optuna_iteration_metrics/trial_33.json\n",
      "Current value: 57.75716744463582, Current params: {'output_chunk_length': 39, 'input_chunk_length': 46, 'num_layers': 1, 'num_blocks': 3, 'num_stacks': 4, 'layer_widths': 92, 'activation': 'GELU', 'dropout': 0.08922125982913866, 'batch_size': 50, 'lr': 0.0018894404183620011, 'forecast_horizon': 17}\n",
      "Best value: 50.43235393618171, Best params: {'output_chunk_length': 27, 'input_chunk_length': 38, 'num_layers': 1, 'num_blocks': 3, 'num_stacks': 2, 'layer_widths': 85, 'activation': 'GELU', 'dropout': 0.18882539432465545, 'batch_size': 37, 'lr': 0.006016691509040486, 'forecast_horizon': 12}\n",
      "\n",
      "Iniciando Trial 34\n",
      "Hiperparâmetros: {'output_chunk_length': 31, 'input_chunk_length': 37, 'num_layers': 3, 'num_blocks': 3, 'num_stacks': 3, 'layer_widths': 119, 'activation': 'GELU', 'dropout': 0.14578659650175874, 'batch_size': 44, 'lr': 0.006598112110208825, 'forecast_horizon': 11}\n",
      "\n",
      "Treinando o modelo...\n",
      "Train set: 6647 samples\n",
      "Validation set: 1662 samples\n"
     ]
    },
    {
     "data": {
      "application/vnd.jupyter.widget-view+json": {
       "model_id": "009645fb560c4dc79d5c6296dee1d03b",
       "version_major": 2,
       "version_minor": 0
      },
      "text/plain": [
       "Sanity Checking: |          | 0/? [00:00<?, ?it/s]"
      ]
     },
     "metadata": {},
     "output_type": "display_data"
    },
    {
     "name": "stderr",
     "output_type": "stream",
     "text": [
      "/home/eduardo/Documentos/Water-Cycle-Neural-Network/venv/lib/python3.12/site-packages/pytorch_lightning/trainer/connectors/data_connector.py:425: The 'val_dataloader' does not have many workers which may be a bottleneck. Consider increasing the value of the `num_workers` argument` to `num_workers=11` in the `DataLoader` to improve performance.\n",
      "/home/eduardo/Documentos/Water-Cycle-Neural-Network/venv/lib/python3.12/site-packages/pytorch_lightning/trainer/connectors/data_connector.py:425: The 'train_dataloader' does not have many workers which may be a bottleneck. Consider increasing the value of the `num_workers` argument` to `num_workers=11` in the `DataLoader` to improve performance.\n"
     ]
    },
    {
     "data": {
      "application/vnd.jupyter.widget-view+json": {
       "model_id": "772630e321af497ea4858468fb569a39",
       "version_major": 2,
       "version_minor": 0
      },
      "text/plain": [
       "Training: |          | 0/? [00:00<?, ?it/s]"
      ]
     },
     "metadata": {},
     "output_type": "display_data"
    },
    {
     "data": {
      "application/vnd.jupyter.widget-view+json": {
       "model_id": "ce1116cefad14121b617783894e04728",
       "version_major": 2,
       "version_minor": 0
      },
      "text/plain": [
       "Validation: |          | 0/? [00:00<?, ?it/s]"
      ]
     },
     "metadata": {},
     "output_type": "display_data"
    },
    {
     "name": "stderr",
     "output_type": "stream",
     "text": [
      "Metric val_loss improved. New best score: 0.026\n"
     ]
    },
    {
     "data": {
      "application/vnd.jupyter.widget-view+json": {
       "model_id": "171e6edcc36649528894f0dd3b5cd0b0",
       "version_major": 2,
       "version_minor": 0
      },
      "text/plain": [
       "Validation: |          | 0/? [00:00<?, ?it/s]"
      ]
     },
     "metadata": {},
     "output_type": "display_data"
    },
    {
     "data": {
      "application/vnd.jupyter.widget-view+json": {
       "model_id": "1109cafeeef4480684573c3cc34e1c23",
       "version_major": 2,
       "version_minor": 0
      },
      "text/plain": [
       "Validation: |          | 0/? [00:00<?, ?it/s]"
      ]
     },
     "metadata": {},
     "output_type": "display_data"
    },
    {
     "name": "stderr",
     "output_type": "stream",
     "text": [
      "Metric val_loss improved by 0.001 >= min_delta = 0.001. New best score: 0.025\n"
     ]
    },
    {
     "data": {
      "application/vnd.jupyter.widget-view+json": {
       "model_id": "ca5637066d6a46fe9b05d9f5287f564c",
       "version_major": 2,
       "version_minor": 0
      },
      "text/plain": [
       "Validation: |          | 0/? [00:00<?, ?it/s]"
      ]
     },
     "metadata": {},
     "output_type": "display_data"
    },
    {
     "data": {
      "application/vnd.jupyter.widget-view+json": {
       "model_id": "0761f33bf8274e1083d2e4f20c250395",
       "version_major": 2,
       "version_minor": 0
      },
      "text/plain": [
       "Validation: |          | 0/? [00:00<?, ?it/s]"
      ]
     },
     "metadata": {},
     "output_type": "display_data"
    },
    {
     "data": {
      "application/vnd.jupyter.widget-view+json": {
       "model_id": "c3291a0bc0234ca89b86fb745392214c",
       "version_major": 2,
       "version_minor": 0
      },
      "text/plain": [
       "Validation: |          | 0/? [00:00<?, ?it/s]"
      ]
     },
     "metadata": {},
     "output_type": "display_data"
    },
    {
     "data": {
      "application/vnd.jupyter.widget-view+json": {
       "model_id": "e3f69cc996e045f19be5bcd677116df4",
       "version_major": 2,
       "version_minor": 0
      },
      "text/plain": [
       "Validation: |          | 0/? [00:00<?, ?it/s]"
      ]
     },
     "metadata": {},
     "output_type": "display_data"
    },
    {
     "data": {
      "application/vnd.jupyter.widget-view+json": {
       "model_id": "bb5285c530284007abfa777afce7e95e",
       "version_major": 2,
       "version_minor": 0
      },
      "text/plain": [
       "Validation: |          | 0/? [00:00<?, ?it/s]"
      ]
     },
     "metadata": {},
     "output_type": "display_data"
    },
    {
     "data": {
      "application/vnd.jupyter.widget-view+json": {
       "model_id": "da705fa0d86a488d9031232ca3c380e1",
       "version_major": 2,
       "version_minor": 0
      },
      "text/plain": [
       "Validation: |          | 0/? [00:00<?, ?it/s]"
      ]
     },
     "metadata": {},
     "output_type": "display_data"
    },
    {
     "name": "stderr",
     "output_type": "stream",
     "text": [
      "Metric val_loss improved by 0.001 >= min_delta = 0.001. New best score: 0.023\n"
     ]
    },
    {
     "data": {
      "application/vnd.jupyter.widget-view+json": {
       "model_id": "7d09914376f140bfbf372e1b63538201",
       "version_major": 2,
       "version_minor": 0
      },
      "text/plain": [
       "Validation: |          | 0/? [00:00<?, ?it/s]"
      ]
     },
     "metadata": {},
     "output_type": "display_data"
    },
    {
     "data": {
      "application/vnd.jupyter.widget-view+json": {
       "model_id": "cd1a2424b404461e9560788a4f9a1385",
       "version_major": 2,
       "version_minor": 0
      },
      "text/plain": [
       "Validation: |          | 0/? [00:00<?, ?it/s]"
      ]
     },
     "metadata": {},
     "output_type": "display_data"
    },
    {
     "data": {
      "application/vnd.jupyter.widget-view+json": {
       "model_id": "363761a38652459dbed2f6c88b26306c",
       "version_major": 2,
       "version_minor": 0
      },
      "text/plain": [
       "Validation: |          | 0/? [00:00<?, ?it/s]"
      ]
     },
     "metadata": {},
     "output_type": "display_data"
    },
    {
     "data": {
      "application/vnd.jupyter.widget-view+json": {
       "model_id": "87f337f07f9b483f92145ab5ddc529f1",
       "version_major": 2,
       "version_minor": 0
      },
      "text/plain": [
       "Validation: |          | 0/? [00:00<?, ?it/s]"
      ]
     },
     "metadata": {},
     "output_type": "display_data"
    },
    {
     "data": {
      "application/vnd.jupyter.widget-view+json": {
       "model_id": "92b78f70ddc34ca298c91a4039588ed7",
       "version_major": 2,
       "version_minor": 0
      },
      "text/plain": [
       "Validation: |          | 0/? [00:00<?, ?it/s]"
      ]
     },
     "metadata": {},
     "output_type": "display_data"
    },
    {
     "data": {
      "application/vnd.jupyter.widget-view+json": {
       "model_id": "b3d884ca15dd4e6e938d90e1c925e6be",
       "version_major": 2,
       "version_minor": 0
      },
      "text/plain": [
       "Validation: |          | 0/? [00:00<?, ?it/s]"
      ]
     },
     "metadata": {},
     "output_type": "display_data"
    },
    {
     "data": {
      "application/vnd.jupyter.widget-view+json": {
       "model_id": "75b379cd0a1240eaabb25fef972f73db",
       "version_major": 2,
       "version_minor": 0
      },
      "text/plain": [
       "Validation: |          | 0/? [00:00<?, ?it/s]"
      ]
     },
     "metadata": {},
     "output_type": "display_data"
    },
    {
     "data": {
      "application/vnd.jupyter.widget-view+json": {
       "model_id": "b9359a6979354a34be4880d74c58b8d4",
       "version_major": 2,
       "version_minor": 0
      },
      "text/plain": [
       "Validation: |          | 0/? [00:00<?, ?it/s]"
      ]
     },
     "metadata": {},
     "output_type": "display_data"
    },
    {
     "data": {
      "application/vnd.jupyter.widget-view+json": {
       "model_id": "7c21cd7a95794686a215b20e944f4f3c",
       "version_major": 2,
       "version_minor": 0
      },
      "text/plain": [
       "Validation: |          | 0/? [00:00<?, ?it/s]"
      ]
     },
     "metadata": {},
     "output_type": "display_data"
    },
    {
     "data": {
      "application/vnd.jupyter.widget-view+json": {
       "model_id": "e834b679fdd444f5940b3066f53be4e0",
       "version_major": 2,
       "version_minor": 0
      },
      "text/plain": [
       "Validation: |          | 0/? [00:00<?, ?it/s]"
      ]
     },
     "metadata": {},
     "output_type": "display_data"
    },
    {
     "name": "stderr",
     "output_type": "stream",
     "text": [
      "Monitored metric val_loss did not improve in the last 10 records. Best score: 0.023. Signaling Trainer to stop.\n",
      "GPU available: True (cuda), used: True\n",
      "TPU available: False, using: 0 TPU cores\n",
      "HPU available: False, using: 0 HPUs\n",
      "LOCAL_RANK: 0 - CUDA_VISIBLE_DEVICES: [0]\n"
     ]
    },
    {
     "name": "stdout",
     "output_type": "stream",
     "text": [
      "Modelo carregado do checkpoint para trial 34\n"
     ]
    },
    {
     "name": "stderr",
     "output_type": "stream",
     "text": [
      "/home/eduardo/Documentos/Water-Cycle-Neural-Network/venv/lib/python3.12/site-packages/pytorch_lightning/trainer/connectors/data_connector.py:425: The 'predict_dataloader' does not have many workers which may be a bottleneck. Consider increasing the value of the `num_workers` argument` to `num_workers=11` in the `DataLoader` to improve performance.\n"
     ]
    },
    {
     "data": {
      "application/vnd.jupyter.widget-view+json": {
       "model_id": "11d6fba5b5f34efbbb202680de89ccb0",
       "version_major": 2,
       "version_minor": 0
      },
      "text/plain": [
       "Predicting: |          | 0/? [00:00<?, ?it/s]"
      ]
     },
     "metadata": {},
     "output_type": "display_data"
    },
    {
     "name": "stderr",
     "output_type": "stream",
     "text": [
      "[I 2025-05-14 12:53:02,306] Trial 34 finished with value: 53.97759372040709 and parameters: {'output_chunk_length': 31, 'input_chunk_length': 37, 'num_layers': 3, 'num_blocks': 3, 'num_stacks': 3, 'layer_widths': 119, 'activation': 'GELU', 'dropout': 0.14578659650175874, 'batch_size': 44, 'lr': 0.006598112110208825, 'forecast_horizon': 11}. Best is trial 3 with value: 50.43235393618171.\n",
      "GPU available: True (cuda), used: True\n",
      "TPU available: False, using: 0 TPU cores\n",
      "HPU available: False, using: 0 HPUs\n",
      "LOCAL_RANK: 0 - CUDA_VISIBLE_DEVICES: [0]\n",
      "\n",
      "  | Name            | Type             | Params | Mode \n",
      "-------------------------------------------------------------\n",
      "0 | criterion       | HuberLoss        | 0      | train\n",
      "1 | train_criterion | HuberLoss        | 0      | train\n",
      "2 | val_criterion   | HuberLoss        | 0      | train\n",
      "3 | train_metrics   | MetricCollection | 0      | train\n",
      "4 | val_metrics     | MetricCollection | 0      | train\n",
      "5 | stacks          | ModuleList       | 45.6 K | train\n",
      "-------------------------------------------------------------\n",
      "39.7 K    Trainable params\n",
      "5.9 K     Non-trainable params\n",
      "45.6 K    Total params\n",
      "0.182     Total estimated model params size (MB)\n",
      "22        Modules in train mode\n",
      "0         Modules in eval mode\n"
     ]
    },
    {
     "name": "stdout",
     "output_type": "stream",
     "text": [
      "Iniciando a verificação das séries temporais para constância...\n",
      "\n",
      "Métricas de performance:\n",
      "                                     MSE        RMSE         MAE         R2  \\\n",
      "Temperature                     2.796565    1.672293    1.225608   0.175958   \n",
      "Precipitation_accumulated      68.132424    8.254237    5.824287 -70.679217   \n",
      "Humidity                       16.621260    4.076918    3.016915   0.744672   \n",
      "Wind_Speed_kmh                  0.187855    0.433422    0.187314   0.451450   \n",
      "Soil_Moisture              150132.614329  387.469501  201.994412   0.798316   \n",
      "Soil_Temperature                1.250738    1.118364    0.798438   0.776516   \n",
      "Wind_Dir_Sin                    0.134016    0.366082    0.222359   0.170586   \n",
      "Wind_Dir_Cos                    0.140709    0.375112    0.244593   0.512355   \n",
      "\n",
      "                                SMAPE  \n",
      "Temperature                 20.529345  \n",
      "Precipitation_accumulated    1.264827  \n",
      "Humidity                     3.584993  \n",
      "Wind_Speed_kmh             167.954733  \n",
      "Soil_Moisture                3.199298  \n",
      "Soil_Temperature            20.774100  \n",
      "Wind_Dir_Sin               163.447234  \n",
      "Wind_Dir_Cos                51.066220  \n",
      "O SMAPE desse fold foi 53.97759372040709\n",
      "Resultados do trial 34 salvos em optuna_iteration_metrics/trial_34.json\n",
      "Current value: 53.97759372040709, Current params: {'output_chunk_length': 31, 'input_chunk_length': 37, 'num_layers': 3, 'num_blocks': 3, 'num_stacks': 3, 'layer_widths': 119, 'activation': 'GELU', 'dropout': 0.14578659650175874, 'batch_size': 44, 'lr': 0.006598112110208825, 'forecast_horizon': 11}\n",
      "Best value: 50.43235393618171, Best params: {'output_chunk_length': 27, 'input_chunk_length': 38, 'num_layers': 1, 'num_blocks': 3, 'num_stacks': 2, 'layer_widths': 85, 'activation': 'GELU', 'dropout': 0.18882539432465545, 'batch_size': 37, 'lr': 0.006016691509040486, 'forecast_horizon': 12}\n",
      "\n",
      "Iniciando Trial 35\n",
      "Hiperparâmetros: {'output_chunk_length': 20, 'input_chunk_length': 32, 'num_layers': 4, 'num_blocks': 1, 'num_stacks': 1, 'layer_widths': 103, 'activation': 'GELU', 'dropout': 0.05105203582453502, 'batch_size': 55, 'lr': 0.000770433373495763, 'forecast_horizon': 14}\n",
      "\n",
      "Treinando o modelo...\n",
      "Train set: 6647 samples\n",
      "Validation set: 1662 samples\n"
     ]
    },
    {
     "data": {
      "application/vnd.jupyter.widget-view+json": {
       "model_id": "04caf50a0afc4becaed8828f6cf9f1e9",
       "version_major": 2,
       "version_minor": 0
      },
      "text/plain": [
       "Sanity Checking: |          | 0/? [00:00<?, ?it/s]"
      ]
     },
     "metadata": {},
     "output_type": "display_data"
    },
    {
     "name": "stderr",
     "output_type": "stream",
     "text": [
      "/home/eduardo/Documentos/Water-Cycle-Neural-Network/venv/lib/python3.12/site-packages/pytorch_lightning/trainer/connectors/data_connector.py:425: The 'val_dataloader' does not have many workers which may be a bottleneck. Consider increasing the value of the `num_workers` argument` to `num_workers=11` in the `DataLoader` to improve performance.\n",
      "/home/eduardo/Documentos/Water-Cycle-Neural-Network/venv/lib/python3.12/site-packages/pytorch_lightning/trainer/connectors/data_connector.py:425: The 'train_dataloader' does not have many workers which may be a bottleneck. Consider increasing the value of the `num_workers` argument` to `num_workers=11` in the `DataLoader` to improve performance.\n"
     ]
    },
    {
     "data": {
      "application/vnd.jupyter.widget-view+json": {
       "model_id": "869bc98b64ed4daf99cb72faa83f0c22",
       "version_major": 2,
       "version_minor": 0
      },
      "text/plain": [
       "Training: |          | 0/? [00:00<?, ?it/s]"
      ]
     },
     "metadata": {},
     "output_type": "display_data"
    },
    {
     "data": {
      "application/vnd.jupyter.widget-view+json": {
       "model_id": "893e6628425348cb873d0b516b695e2d",
       "version_major": 2,
       "version_minor": 0
      },
      "text/plain": [
       "Validation: |          | 0/? [00:00<?, ?it/s]"
      ]
     },
     "metadata": {},
     "output_type": "display_data"
    },
    {
     "name": "stderr",
     "output_type": "stream",
     "text": [
      "Metric val_loss improved. New best score: 0.066\n"
     ]
    },
    {
     "data": {
      "application/vnd.jupyter.widget-view+json": {
       "model_id": "a479e63b90d749878a4f5c640102dbcd",
       "version_major": 2,
       "version_minor": 0
      },
      "text/plain": [
       "Validation: |          | 0/? [00:00<?, ?it/s]"
      ]
     },
     "metadata": {},
     "output_type": "display_data"
    },
    {
     "data": {
      "application/vnd.jupyter.widget-view+json": {
       "model_id": "502fc30feb4d4466bf7d150f8ce2973c",
       "version_major": 2,
       "version_minor": 0
      },
      "text/plain": [
       "Validation: |          | 0/? [00:00<?, ?it/s]"
      ]
     },
     "metadata": {},
     "output_type": "display_data"
    },
    {
     "data": {
      "application/vnd.jupyter.widget-view+json": {
       "model_id": "a65a1bba747441249a09dd79ca18f01b",
       "version_major": 2,
       "version_minor": 0
      },
      "text/plain": [
       "Validation: |          | 0/? [00:00<?, ?it/s]"
      ]
     },
     "metadata": {},
     "output_type": "display_data"
    },
    {
     "data": {
      "application/vnd.jupyter.widget-view+json": {
       "model_id": "abf462d87c5b4ec6a05c0d8cb0ec30da",
       "version_major": 2,
       "version_minor": 0
      },
      "text/plain": [
       "Validation: |          | 0/? [00:00<?, ?it/s]"
      ]
     },
     "metadata": {},
     "output_type": "display_data"
    },
    {
     "data": {
      "application/vnd.jupyter.widget-view+json": {
       "model_id": "c95df90ddbb34b2aae91ffa946dac300",
       "version_major": 2,
       "version_minor": 0
      },
      "text/plain": [
       "Validation: |          | 0/? [00:00<?, ?it/s]"
      ]
     },
     "metadata": {},
     "output_type": "display_data"
    },
    {
     "data": {
      "application/vnd.jupyter.widget-view+json": {
       "model_id": "a976de5e99924fd78a3da3815e968265",
       "version_major": 2,
       "version_minor": 0
      },
      "text/plain": [
       "Validation: |          | 0/? [00:00<?, ?it/s]"
      ]
     },
     "metadata": {},
     "output_type": "display_data"
    },
    {
     "data": {
      "application/vnd.jupyter.widget-view+json": {
       "model_id": "9ca4951052b647c299c365a268f5a858",
       "version_major": 2,
       "version_minor": 0
      },
      "text/plain": [
       "Validation: |          | 0/? [00:00<?, ?it/s]"
      ]
     },
     "metadata": {},
     "output_type": "display_data"
    },
    {
     "data": {
      "application/vnd.jupyter.widget-view+json": {
       "model_id": "dd5e0b6c0920496c963b229d111c989c",
       "version_major": 2,
       "version_minor": 0
      },
      "text/plain": [
       "Validation: |          | 0/? [00:00<?, ?it/s]"
      ]
     },
     "metadata": {},
     "output_type": "display_data"
    },
    {
     "data": {
      "application/vnd.jupyter.widget-view+json": {
       "model_id": "b45b8df14f3345f7af19fdd89ab8d12b",
       "version_major": 2,
       "version_minor": 0
      },
      "text/plain": [
       "Validation: |          | 0/? [00:00<?, ?it/s]"
      ]
     },
     "metadata": {},
     "output_type": "display_data"
    },
    {
     "data": {
      "application/vnd.jupyter.widget-view+json": {
       "model_id": "57030d9adfab490db00fba5fb5cd348e",
       "version_major": 2,
       "version_minor": 0
      },
      "text/plain": [
       "Validation: |          | 0/? [00:00<?, ?it/s]"
      ]
     },
     "metadata": {},
     "output_type": "display_data"
    },
    {
     "name": "stderr",
     "output_type": "stream",
     "text": [
      "Monitored metric val_loss did not improve in the last 10 records. Best score: 0.066. Signaling Trainer to stop.\n",
      "GPU available: True (cuda), used: True\n",
      "TPU available: False, using: 0 TPU cores\n",
      "HPU available: False, using: 0 HPUs\n",
      "LOCAL_RANK: 0 - CUDA_VISIBLE_DEVICES: [0]\n"
     ]
    },
    {
     "name": "stdout",
     "output_type": "stream",
     "text": [
      "Modelo carregado do checkpoint para trial 35\n"
     ]
    },
    {
     "name": "stderr",
     "output_type": "stream",
     "text": [
      "/home/eduardo/Documentos/Water-Cycle-Neural-Network/venv/lib/python3.12/site-packages/pytorch_lightning/trainer/connectors/data_connector.py:425: The 'predict_dataloader' does not have many workers which may be a bottleneck. Consider increasing the value of the `num_workers` argument` to `num_workers=11` in the `DataLoader` to improve performance.\n"
     ]
    },
    {
     "data": {
      "application/vnd.jupyter.widget-view+json": {
       "model_id": "24523d7447a94fac97e1814ee28f6aa2",
       "version_major": 2,
       "version_minor": 0
      },
      "text/plain": [
       "Predicting: |          | 0/? [00:00<?, ?it/s]"
      ]
     },
     "metadata": {},
     "output_type": "display_data"
    },
    {
     "name": "stderr",
     "output_type": "stream",
     "text": [
      "[I 2025-05-14 12:53:11,178] Trial 35 finished with value: 114.49956015767381 and parameters: {'output_chunk_length': 20, 'input_chunk_length': 32, 'num_layers': 4, 'num_blocks': 1, 'num_stacks': 1, 'layer_widths': 103, 'activation': 'GELU', 'dropout': 0.05105203582453502, 'batch_size': 55, 'lr': 0.000770433373495763, 'forecast_horizon': 14}. Best is trial 3 with value: 50.43235393618171.\n",
      "GPU available: True (cuda), used: True\n",
      "TPU available: False, using: 0 TPU cores\n",
      "HPU available: False, using: 0 HPUs\n",
      "LOCAL_RANK: 0 - CUDA_VISIBLE_DEVICES: [0]\n",
      "\n",
      "  | Name            | Type             | Params | Mode \n",
      "-------------------------------------------------------------\n",
      "0 | criterion       | HuberLoss        | 0      | train\n",
      "1 | train_criterion | HuberLoss        | 0      | train\n",
      "2 | val_criterion   | HuberLoss        | 0      | train\n",
      "3 | train_metrics   | MetricCollection | 0      | train\n",
      "4 | val_metrics     | MetricCollection | 0      | train\n",
      "5 | stacks          | ModuleList       | 813 K  | train\n",
      "-------------------------------------------------------------\n",
      "750 K     Trainable params\n",
      "62.7 K    Non-trainable params\n",
      "813 K     Total params\n",
      "3.253     Total estimated model params size (MB)\n",
      "90        Modules in train mode\n",
      "0         Modules in eval mode\n"
     ]
    },
    {
     "name": "stdout",
     "output_type": "stream",
     "text": [
      "Iniciando a verificação das séries temporais para constância...\n",
      "\n",
      "Métricas de performance:\n",
      "                                    MSE         RMSE          MAE  \\\n",
      "Temperature                1.458063e+02    12.075026    11.934418   \n",
      "Precipitation_accumulated  5.936841e+04   243.656345   243.654051   \n",
      "Humidity                   8.463136e+02    29.091469    27.954232   \n",
      "Wind_Speed_kmh             1.102888e+01     3.320976     3.276920   \n",
      "Soil_Moisture              3.029192e+06  1740.457329  1694.374599   \n",
      "Soil_Temperature           3.255652e+02    18.043427    17.888148   \n",
      "Wind_Dir_Sin               1.779907e-01     0.421889     0.229752   \n",
      "Wind_Dir_Cos               7.744476e-01     0.880027     0.833719   \n",
      "\n",
      "                                     R2       SMAPE  \n",
      "Temperature                  -41.984142   97.263099  \n",
      "Precipitation_accumulated -62428.616916   72.155246  \n",
      "Humidity                     -11.993613   39.562444  \n",
      "Wind_Speed_kmh               -31.137425  187.048069  \n",
      "Soil_Moisture                 -3.061137   25.292833  \n",
      "Soil_Temperature             -57.217395  115.993354  \n",
      "Wind_Dir_Sin                  -0.099375  190.954065  \n",
      "Wind_Dir_Cos                  -1.679411  187.727372  \n",
      "O SMAPE desse fold foi 114.49956015767381\n",
      "Resultados do trial 35 salvos em optuna_iteration_metrics/trial_35.json\n",
      "Current value: 114.49956015767381, Current params: {'output_chunk_length': 20, 'input_chunk_length': 32, 'num_layers': 4, 'num_blocks': 1, 'num_stacks': 1, 'layer_widths': 103, 'activation': 'GELU', 'dropout': 0.05105203582453502, 'batch_size': 55, 'lr': 0.000770433373495763, 'forecast_horizon': 14}\n",
      "Best value: 50.43235393618171, Best params: {'output_chunk_length': 27, 'input_chunk_length': 38, 'num_layers': 1, 'num_blocks': 3, 'num_stacks': 2, 'layer_widths': 85, 'activation': 'GELU', 'dropout': 0.18882539432465545, 'batch_size': 37, 'lr': 0.006016691509040486, 'forecast_horizon': 12}\n",
      "\n",
      "Iniciando Trial 36\n",
      "Hiperparâmetros: {'output_chunk_length': 37, 'input_chunk_length': 42, 'num_layers': 2, 'num_blocks': 4, 'num_stacks': 2, 'layer_widths': 82, 'activation': 'GELU', 'dropout': 0.12125437109227359, 'batch_size': 34, 'lr': 0.0041321969330765825, 'forecast_horizon': 20}\n",
      "\n",
      "Treinando o modelo...\n",
      "Train set: 6647 samples\n",
      "Validation set: 1662 samples\n"
     ]
    },
    {
     "data": {
      "application/vnd.jupyter.widget-view+json": {
       "model_id": "79e9a4579c83497ea633859f7dd743c3",
       "version_major": 2,
       "version_minor": 0
      },
      "text/plain": [
       "Sanity Checking: |          | 0/? [00:00<?, ?it/s]"
      ]
     },
     "metadata": {},
     "output_type": "display_data"
    },
    {
     "name": "stderr",
     "output_type": "stream",
     "text": [
      "/home/eduardo/Documentos/Water-Cycle-Neural-Network/venv/lib/python3.12/site-packages/pytorch_lightning/trainer/connectors/data_connector.py:425: The 'val_dataloader' does not have many workers which may be a bottleneck. Consider increasing the value of the `num_workers` argument` to `num_workers=11` in the `DataLoader` to improve performance.\n",
      "/home/eduardo/Documentos/Water-Cycle-Neural-Network/venv/lib/python3.12/site-packages/pytorch_lightning/trainer/connectors/data_connector.py:425: The 'train_dataloader' does not have many workers which may be a bottleneck. Consider increasing the value of the `num_workers` argument` to `num_workers=11` in the `DataLoader` to improve performance.\n"
     ]
    },
    {
     "data": {
      "application/vnd.jupyter.widget-view+json": {
       "model_id": "257ecafdd1fd443eaa5622540ba788f9",
       "version_major": 2,
       "version_minor": 0
      },
      "text/plain": [
       "Training: |          | 0/? [00:00<?, ?it/s]"
      ]
     },
     "metadata": {},
     "output_type": "display_data"
    },
    {
     "data": {
      "application/vnd.jupyter.widget-view+json": {
       "model_id": "728f91c3fc8f4e8894a3706976386ac9",
       "version_major": 2,
       "version_minor": 0
      },
      "text/plain": [
       "Validation: |          | 0/? [00:00<?, ?it/s]"
      ]
     },
     "metadata": {},
     "output_type": "display_data"
    },
    {
     "name": "stderr",
     "output_type": "stream",
     "text": [
      "Metric val_loss improved. New best score: 0.027\n"
     ]
    },
    {
     "data": {
      "application/vnd.jupyter.widget-view+json": {
       "model_id": "ac703e86d9c148e2bebe3216944b1b27",
       "version_major": 2,
       "version_minor": 0
      },
      "text/plain": [
       "Validation: |          | 0/? [00:00<?, ?it/s]"
      ]
     },
     "metadata": {},
     "output_type": "display_data"
    },
    {
     "data": {
      "application/vnd.jupyter.widget-view+json": {
       "model_id": "ab6f2cb2b91b428088d9ab59c64cb583",
       "version_major": 2,
       "version_minor": 0
      },
      "text/plain": [
       "Validation: |          | 0/? [00:00<?, ?it/s]"
      ]
     },
     "metadata": {},
     "output_type": "display_data"
    },
    {
     "data": {
      "application/vnd.jupyter.widget-view+json": {
       "model_id": "9962ba56d63443d0995da5782b4ff490",
       "version_major": 2,
       "version_minor": 0
      },
      "text/plain": [
       "Validation: |          | 0/? [00:00<?, ?it/s]"
      ]
     },
     "metadata": {},
     "output_type": "display_data"
    },
    {
     "data": {
      "application/vnd.jupyter.widget-view+json": {
       "model_id": "b7190685219a48cd85783da7ba98be7a",
       "version_major": 2,
       "version_minor": 0
      },
      "text/plain": [
       "Validation: |          | 0/? [00:00<?, ?it/s]"
      ]
     },
     "metadata": {},
     "output_type": "display_data"
    },
    {
     "data": {
      "application/vnd.jupyter.widget-view+json": {
       "model_id": "5eb7d33ddb9940ef99ffba142abda1cb",
       "version_major": 2,
       "version_minor": 0
      },
      "text/plain": [
       "Validation: |          | 0/? [00:00<?, ?it/s]"
      ]
     },
     "metadata": {},
     "output_type": "display_data"
    },
    {
     "data": {
      "application/vnd.jupyter.widget-view+json": {
       "model_id": "4e4a861d737745acb7fa12227447cb7e",
       "version_major": 2,
       "version_minor": 0
      },
      "text/plain": [
       "Validation: |          | 0/? [00:00<?, ?it/s]"
      ]
     },
     "metadata": {},
     "output_type": "display_data"
    },
    {
     "data": {
      "application/vnd.jupyter.widget-view+json": {
       "model_id": "26c336d9afe04c719bc2c9cbfc04e3c1",
       "version_major": 2,
       "version_minor": 0
      },
      "text/plain": [
       "Validation: |          | 0/? [00:00<?, ?it/s]"
      ]
     },
     "metadata": {},
     "output_type": "display_data"
    },
    {
     "data": {
      "application/vnd.jupyter.widget-view+json": {
       "model_id": "318003ba8ef34514a3023a245e55e928",
       "version_major": 2,
       "version_minor": 0
      },
      "text/plain": [
       "Validation: |          | 0/? [00:00<?, ?it/s]"
      ]
     },
     "metadata": {},
     "output_type": "display_data"
    },
    {
     "data": {
      "application/vnd.jupyter.widget-view+json": {
       "model_id": "2522e82172fd437c8f08084c7d120903",
       "version_major": 2,
       "version_minor": 0
      },
      "text/plain": [
       "Validation: |          | 0/? [00:00<?, ?it/s]"
      ]
     },
     "metadata": {},
     "output_type": "display_data"
    },
    {
     "data": {
      "application/vnd.jupyter.widget-view+json": {
       "model_id": "6fae956925674218adf8df7674f4a5ee",
       "version_major": 2,
       "version_minor": 0
      },
      "text/plain": [
       "Validation: |          | 0/? [00:00<?, ?it/s]"
      ]
     },
     "metadata": {},
     "output_type": "display_data"
    },
    {
     "name": "stderr",
     "output_type": "stream",
     "text": [
      "Monitored metric val_loss did not improve in the last 10 records. Best score: 0.027. Signaling Trainer to stop.\n",
      "GPU available: True (cuda), used: True\n",
      "TPU available: False, using: 0 TPU cores\n",
      "HPU available: False, using: 0 HPUs\n",
      "LOCAL_RANK: 0 - CUDA_VISIBLE_DEVICES: [0]\n"
     ]
    },
    {
     "name": "stdout",
     "output_type": "stream",
     "text": [
      "Modelo carregado do checkpoint para trial 36\n"
     ]
    },
    {
     "name": "stderr",
     "output_type": "stream",
     "text": [
      "/home/eduardo/Documentos/Water-Cycle-Neural-Network/venv/lib/python3.12/site-packages/pytorch_lightning/trainer/connectors/data_connector.py:425: The 'predict_dataloader' does not have many workers which may be a bottleneck. Consider increasing the value of the `num_workers` argument` to `num_workers=11` in the `DataLoader` to improve performance.\n"
     ]
    },
    {
     "data": {
      "application/vnd.jupyter.widget-view+json": {
       "model_id": "fbc7abe5cc494cc49e81cde9857d81b1",
       "version_major": 2,
       "version_minor": 0
      },
      "text/plain": [
       "Predicting: |          | 0/? [00:00<?, ?it/s]"
      ]
     },
     "metadata": {},
     "output_type": "display_data"
    },
    {
     "name": "stderr",
     "output_type": "stream",
     "text": [
      "[I 2025-05-14 12:53:36,705] Trial 36 finished with value: 51.55872599926276 and parameters: {'output_chunk_length': 37, 'input_chunk_length': 42, 'num_layers': 2, 'num_blocks': 4, 'num_stacks': 2, 'layer_widths': 82, 'activation': 'GELU', 'dropout': 0.12125437109227359, 'batch_size': 34, 'lr': 0.0041321969330765825, 'forecast_horizon': 20}. Best is trial 3 with value: 50.43235393618171.\n",
      "GPU available: True (cuda), used: True\n",
      "TPU available: False, using: 0 TPU cores\n",
      "HPU available: False, using: 0 HPUs\n",
      "LOCAL_RANK: 0 - CUDA_VISIBLE_DEVICES: [0]\n",
      "\n",
      "  | Name            | Type             | Params | Mode \n",
      "-------------------------------------------------------------\n",
      "0 | criterion       | HuberLoss        | 0      | train\n",
      "1 | train_criterion | HuberLoss        | 0      | train\n",
      "2 | val_criterion   | HuberLoss        | 0      | train\n",
      "3 | train_metrics   | MetricCollection | 0      | train\n",
      "4 | val_metrics     | MetricCollection | 0      | train\n",
      "5 | stacks          | ModuleList       | 1.7 M  | train\n",
      "-------------------------------------------------------------\n",
      "1.5 M     Trainable params\n",
      "138 K     Non-trainable params\n",
      "1.7 M     Total params\n",
      "6.748     Total estimated model params size (MB)\n",
      "74        Modules in train mode\n",
      "0         Modules in eval mode\n"
     ]
    },
    {
     "name": "stdout",
     "output_type": "stream",
     "text": [
      "Iniciando a verificação das séries temporais para constância...\n",
      "\n",
      "Métricas de performance:\n",
      "                                     MSE        RMSE         MAE          R2  \\\n",
      "Temperature                     1.662038    1.289200    0.975698    0.507672   \n",
      "Precipitation_accumulated     160.967174   12.687284   10.196439 -168.111226   \n",
      "Humidity                       20.043982    4.477051    3.472109    0.692028   \n",
      "Wind_Speed_kmh                  0.217463    0.466329    0.245768    0.369000   \n",
      "Soil_Moisture              126513.895512  355.687919  215.187279    0.831061   \n",
      "Soil_Temperature                1.272676    1.128129    0.771143    0.771931   \n",
      "Wind_Dir_Sin                    0.113915    0.337513    0.194710    0.299204   \n",
      "Wind_Dir_Cos                    0.140267    0.374523    0.205961    0.516348   \n",
      "\n",
      "                                SMAPE  \n",
      "Temperature                 16.772256  \n",
      "Precipitation_accumulated    2.192687  \n",
      "Humidity                     4.131616  \n",
      "Wind_Speed_kmh             164.923706  \n",
      "Soil_Moisture                3.445765  \n",
      "Soil_Temperature            21.135929  \n",
      "Wind_Dir_Sin               155.984776  \n",
      "Wind_Dir_Cos                43.883072  \n",
      "O SMAPE desse fold foi 51.55872599926276\n",
      "Resultados do trial 36 salvos em optuna_iteration_metrics/trial_36.json\n",
      "Current value: 51.55872599926276, Current params: {'output_chunk_length': 37, 'input_chunk_length': 42, 'num_layers': 2, 'num_blocks': 4, 'num_stacks': 2, 'layer_widths': 82, 'activation': 'GELU', 'dropout': 0.12125437109227359, 'batch_size': 34, 'lr': 0.0041321969330765825, 'forecast_horizon': 20}\n",
      "Best value: 50.43235393618171, Best params: {'output_chunk_length': 27, 'input_chunk_length': 38, 'num_layers': 1, 'num_blocks': 3, 'num_stacks': 2, 'layer_widths': 85, 'activation': 'GELU', 'dropout': 0.18882539432465545, 'batch_size': 37, 'lr': 0.006016691509040486, 'forecast_horizon': 12}\n",
      "\n",
      "Iniciando Trial 37\n",
      "Hiperparâmetros: {'output_chunk_length': 38, 'input_chunk_length': 42, 'num_layers': 1, 'num_blocks': 4, 'num_stacks': 2, 'layer_widths': 182, 'activation': 'ReLU', 'dropout': 0.21263137135618393, 'batch_size': 33, 'lr': 0.0018964343142612564, 'forecast_horizon': 20}\n",
      "\n",
      "Treinando o modelo...\n",
      "Train set: 6647 samples\n",
      "Validation set: 1662 samples\n"
     ]
    },
    {
     "data": {
      "application/vnd.jupyter.widget-view+json": {
       "model_id": "340267312c9a43a0a3b3552af5a362c4",
       "version_major": 2,
       "version_minor": 0
      },
      "text/plain": [
       "Sanity Checking: |          | 0/? [00:00<?, ?it/s]"
      ]
     },
     "metadata": {},
     "output_type": "display_data"
    },
    {
     "name": "stderr",
     "output_type": "stream",
     "text": [
      "/home/eduardo/Documentos/Water-Cycle-Neural-Network/venv/lib/python3.12/site-packages/pytorch_lightning/trainer/connectors/data_connector.py:425: The 'val_dataloader' does not have many workers which may be a bottleneck. Consider increasing the value of the `num_workers` argument` to `num_workers=11` in the `DataLoader` to improve performance.\n",
      "/home/eduardo/Documentos/Water-Cycle-Neural-Network/venv/lib/python3.12/site-packages/pytorch_lightning/trainer/connectors/data_connector.py:425: The 'train_dataloader' does not have many workers which may be a bottleneck. Consider increasing the value of the `num_workers` argument` to `num_workers=11` in the `DataLoader` to improve performance.\n"
     ]
    },
    {
     "data": {
      "application/vnd.jupyter.widget-view+json": {
       "model_id": "04e6b5fa6c3c47278dd2836040b06dbd",
       "version_major": 2,
       "version_minor": 0
      },
      "text/plain": [
       "Training: |          | 0/? [00:00<?, ?it/s]"
      ]
     },
     "metadata": {},
     "output_type": "display_data"
    },
    {
     "data": {
      "application/vnd.jupyter.widget-view+json": {
       "model_id": "0ced7081118445aaa5d06d0e4e9fec34",
       "version_major": 2,
       "version_minor": 0
      },
      "text/plain": [
       "Validation: |          | 0/? [00:00<?, ?it/s]"
      ]
     },
     "metadata": {},
     "output_type": "display_data"
    },
    {
     "name": "stderr",
     "output_type": "stream",
     "text": [
      "Metric val_loss improved. New best score: 0.034\n"
     ]
    },
    {
     "data": {
      "application/vnd.jupyter.widget-view+json": {
       "model_id": "8153d365e0e648bdb97c0334c3b1f448",
       "version_major": 2,
       "version_minor": 0
      },
      "text/plain": [
       "Validation: |          | 0/? [00:00<?, ?it/s]"
      ]
     },
     "metadata": {},
     "output_type": "display_data"
    },
    {
     "name": "stderr",
     "output_type": "stream",
     "text": [
      "Metric val_loss improved by 0.005 >= min_delta = 0.001. New best score: 0.029\n"
     ]
    },
    {
     "data": {
      "application/vnd.jupyter.widget-view+json": {
       "model_id": "00d46f1b5e0e48e6b6d4e13ec12c952c",
       "version_major": 2,
       "version_minor": 0
      },
      "text/plain": [
       "Validation: |          | 0/? [00:00<?, ?it/s]"
      ]
     },
     "metadata": {},
     "output_type": "display_data"
    },
    {
     "name": "stderr",
     "output_type": "stream",
     "text": [
      "Metric val_loss improved by 0.002 >= min_delta = 0.001. New best score: 0.027\n"
     ]
    },
    {
     "data": {
      "application/vnd.jupyter.widget-view+json": {
       "model_id": "8aeba66d470b464a9bc3700c2dec0140",
       "version_major": 2,
       "version_minor": 0
      },
      "text/plain": [
       "Validation: |          | 0/? [00:00<?, ?it/s]"
      ]
     },
     "metadata": {},
     "output_type": "display_data"
    },
    {
     "data": {
      "application/vnd.jupyter.widget-view+json": {
       "model_id": "3203961d452e4f36ab8d31cbe31e39db",
       "version_major": 2,
       "version_minor": 0
      },
      "text/plain": [
       "Validation: |          | 0/? [00:00<?, ?it/s]"
      ]
     },
     "metadata": {},
     "output_type": "display_data"
    },
    {
     "data": {
      "application/vnd.jupyter.widget-view+json": {
       "model_id": "cb32b715da9b4137bcccdc1b3b20aa57",
       "version_major": 2,
       "version_minor": 0
      },
      "text/plain": [
       "Validation: |          | 0/? [00:00<?, ?it/s]"
      ]
     },
     "metadata": {},
     "output_type": "display_data"
    },
    {
     "data": {
      "application/vnd.jupyter.widget-view+json": {
       "model_id": "c66c20f14c6642b49906f39a1873f5b5",
       "version_major": 2,
       "version_minor": 0
      },
      "text/plain": [
       "Validation: |          | 0/? [00:00<?, ?it/s]"
      ]
     },
     "metadata": {},
     "output_type": "display_data"
    },
    {
     "data": {
      "application/vnd.jupyter.widget-view+json": {
       "model_id": "2334e17006b04baab486cc14896cc9d8",
       "version_major": 2,
       "version_minor": 0
      },
      "text/plain": [
       "Validation: |          | 0/? [00:00<?, ?it/s]"
      ]
     },
     "metadata": {},
     "output_type": "display_data"
    },
    {
     "data": {
      "application/vnd.jupyter.widget-view+json": {
       "model_id": "263966a6c9034cf6bb1eaabbd9b990e0",
       "version_major": 2,
       "version_minor": 0
      },
      "text/plain": [
       "Validation: |          | 0/? [00:00<?, ?it/s]"
      ]
     },
     "metadata": {},
     "output_type": "display_data"
    },
    {
     "data": {
      "application/vnd.jupyter.widget-view+json": {
       "model_id": "fdf3ec33a5ea4d3f8e754c8295ec4d17",
       "version_major": 2,
       "version_minor": 0
      },
      "text/plain": [
       "Validation: |          | 0/? [00:00<?, ?it/s]"
      ]
     },
     "metadata": {},
     "output_type": "display_data"
    },
    {
     "data": {
      "application/vnd.jupyter.widget-view+json": {
       "model_id": "3ca3b59628774e0088ac79aa76589d24",
       "version_major": 2,
       "version_minor": 0
      },
      "text/plain": [
       "Validation: |          | 0/? [00:00<?, ?it/s]"
      ]
     },
     "metadata": {},
     "output_type": "display_data"
    },
    {
     "data": {
      "application/vnd.jupyter.widget-view+json": {
       "model_id": "408fce19358c46358867af3eb4eef0c3",
       "version_major": 2,
       "version_minor": 0
      },
      "text/plain": [
       "Validation: |          | 0/? [00:00<?, ?it/s]"
      ]
     },
     "metadata": {},
     "output_type": "display_data"
    },
    {
     "data": {
      "application/vnd.jupyter.widget-view+json": {
       "model_id": "df237adb34144896aeba53e8e853e7ab",
       "version_major": 2,
       "version_minor": 0
      },
      "text/plain": [
       "Validation: |          | 0/? [00:00<?, ?it/s]"
      ]
     },
     "metadata": {},
     "output_type": "display_data"
    },
    {
     "name": "stderr",
     "output_type": "stream",
     "text": [
      "Monitored metric val_loss did not improve in the last 10 records. Best score: 0.027. Signaling Trainer to stop.\n",
      "GPU available: True (cuda), used: True\n",
      "TPU available: False, using: 0 TPU cores\n",
      "HPU available: False, using: 0 HPUs\n",
      "LOCAL_RANK: 0 - CUDA_VISIBLE_DEVICES: [0]\n"
     ]
    },
    {
     "name": "stdout",
     "output_type": "stream",
     "text": [
      "Modelo carregado do checkpoint para trial 37\n"
     ]
    },
    {
     "name": "stderr",
     "output_type": "stream",
     "text": [
      "/home/eduardo/Documentos/Water-Cycle-Neural-Network/venv/lib/python3.12/site-packages/pytorch_lightning/trainer/connectors/data_connector.py:425: The 'predict_dataloader' does not have many workers which may be a bottleneck. Consider increasing the value of the `num_workers` argument` to `num_workers=11` in the `DataLoader` to improve performance.\n"
     ]
    },
    {
     "data": {
      "application/vnd.jupyter.widget-view+json": {
       "model_id": "5c037c21e5db422099a8b9ae13a7784d",
       "version_major": 2,
       "version_minor": 0
      },
      "text/plain": [
       "Predicting: |          | 0/? [00:00<?, ?it/s]"
      ]
     },
     "metadata": {},
     "output_type": "display_data"
    },
    {
     "name": "stderr",
     "output_type": "stream",
     "text": [
      "[I 2025-05-14 12:54:05,673] Trial 37 finished with value: 52.7553178701543 and parameters: {'output_chunk_length': 38, 'input_chunk_length': 42, 'num_layers': 1, 'num_blocks': 4, 'num_stacks': 2, 'layer_widths': 182, 'activation': 'ReLU', 'dropout': 0.21263137135618393, 'batch_size': 33, 'lr': 0.0018964343142612564, 'forecast_horizon': 20}. Best is trial 3 with value: 50.43235393618171.\n",
      "GPU available: True (cuda), used: True\n",
      "TPU available: False, using: 0 TPU cores\n",
      "HPU available: False, using: 0 HPUs\n",
      "LOCAL_RANK: 0 - CUDA_VISIBLE_DEVICES: [0]\n",
      "\n",
      "  | Name            | Type             | Params | Mode \n",
      "-------------------------------------------------------------\n",
      "0 | criterion       | HuberLoss        | 0      | train\n",
      "1 | train_criterion | HuberLoss        | 0      | train\n",
      "2 | val_criterion   | HuberLoss        | 0      | train\n",
      "3 | train_metrics   | MetricCollection | 0      | train\n",
      "4 | val_metrics     | MetricCollection | 0      | train\n",
      "5 | stacks          | ModuleList       | 164 K  | train\n",
      "-------------------------------------------------------------\n",
      "158 K     Trainable params\n",
      "6.3 K     Non-trainable params\n",
      "164 K     Total params\n",
      "0.660     Total estimated model params size (MB)\n",
      "48        Modules in train mode\n",
      "0         Modules in eval mode\n"
     ]
    },
    {
     "name": "stdout",
     "output_type": "stream",
     "text": [
      "Iniciando a verificação das séries temporais para constância...\n",
      "\n",
      "Métricas de performance:\n",
      "                                     MSE        RMSE         MAE          R2  \\\n",
      "Temperature                     2.051180    1.432194    1.169570    0.392400   \n",
      "Precipitation_accumulated     269.149172   16.405766   14.221470 -281.766638   \n",
      "Humidity                       14.314450    3.783444    2.862082    0.780062   \n",
      "Wind_Speed_kmh                  0.183652    0.428546    0.208975    0.467108   \n",
      "Soil_Moisture              100991.370733  317.791395  203.135191    0.865143   \n",
      "Soil_Temperature                1.872479    1.368386    1.054496    0.664443   \n",
      "Wind_Dir_Sin                    0.101451    0.318514    0.182332    0.375880   \n",
      "Wind_Dir_Cos                    0.113441    0.336811    0.244747    0.608846   \n",
      "\n",
      "                                SMAPE  \n",
      "Temperature                 19.239863  \n",
      "Precipitation_accumulated    3.157294  \n",
      "Humidity                     3.362382  \n",
      "Wind_Speed_kmh             162.539678  \n",
      "Soil_Moisture                3.259276  \n",
      "Soil_Temperature            22.921347  \n",
      "Wind_Dir_Sin               155.447505  \n",
      "Wind_Dir_Cos                52.115198  \n",
      "O SMAPE desse fold foi 52.7553178701543\n",
      "Resultados do trial 37 salvos em optuna_iteration_metrics/trial_37.json\n",
      "Current value: 52.7553178701543, Current params: {'output_chunk_length': 38, 'input_chunk_length': 42, 'num_layers': 1, 'num_blocks': 4, 'num_stacks': 2, 'layer_widths': 182, 'activation': 'ReLU', 'dropout': 0.21263137135618393, 'batch_size': 33, 'lr': 0.0018964343142612564, 'forecast_horizon': 20}\n",
      "Best value: 50.43235393618171, Best params: {'output_chunk_length': 27, 'input_chunk_length': 38, 'num_layers': 1, 'num_blocks': 3, 'num_stacks': 2, 'layer_widths': 85, 'activation': 'GELU', 'dropout': 0.18882539432465545, 'batch_size': 37, 'lr': 0.006016691509040486, 'forecast_horizon': 12}\n",
      "\n",
      "Iniciando Trial 38\n",
      "Hiperparâmetros: {'output_chunk_length': 50, 'input_chunk_length': 57, 'num_layers': 2, 'num_blocks': 4, 'num_stacks': 1, 'layer_widths': 153, 'activation': 'GELU', 'dropout': 0.17397580919410743, 'batch_size': 28, 'lr': 7.550568231125343e-05, 'forecast_horizon': 23}\n",
      "\n",
      "Treinando o modelo...\n",
      "Train set: 6647 samples\n",
      "Validation set: 1662 samples\n"
     ]
    },
    {
     "data": {
      "application/vnd.jupyter.widget-view+json": {
       "model_id": "512555f1ca934b3ba65fdf80702ed306",
       "version_major": 2,
       "version_minor": 0
      },
      "text/plain": [
       "Sanity Checking: |          | 0/? [00:00<?, ?it/s]"
      ]
     },
     "metadata": {},
     "output_type": "display_data"
    },
    {
     "name": "stderr",
     "output_type": "stream",
     "text": [
      "/home/eduardo/Documentos/Water-Cycle-Neural-Network/venv/lib/python3.12/site-packages/pytorch_lightning/trainer/connectors/data_connector.py:425: The 'val_dataloader' does not have many workers which may be a bottleneck. Consider increasing the value of the `num_workers` argument` to `num_workers=11` in the `DataLoader` to improve performance.\n",
      "/home/eduardo/Documentos/Water-Cycle-Neural-Network/venv/lib/python3.12/site-packages/pytorch_lightning/trainer/connectors/data_connector.py:425: The 'train_dataloader' does not have many workers which may be a bottleneck. Consider increasing the value of the `num_workers` argument` to `num_workers=11` in the `DataLoader` to improve performance.\n"
     ]
    },
    {
     "data": {
      "application/vnd.jupyter.widget-view+json": {
       "model_id": "8566d4366ac445f68f13d17bc72dbe27",
       "version_major": 2,
       "version_minor": 0
      },
      "text/plain": [
       "Training: |          | 0/? [00:00<?, ?it/s]"
      ]
     },
     "metadata": {},
     "output_type": "display_data"
    },
    {
     "data": {
      "application/vnd.jupyter.widget-view+json": {
       "model_id": "770bada015054d469f3a3daf07dd2694",
       "version_major": 2,
       "version_minor": 0
      },
      "text/plain": [
       "Validation: |          | 0/? [00:00<?, ?it/s]"
      ]
     },
     "metadata": {},
     "output_type": "display_data"
    },
    {
     "name": "stderr",
     "output_type": "stream",
     "text": [
      "Metric val_loss improved. New best score: 0.065\n"
     ]
    },
    {
     "data": {
      "application/vnd.jupyter.widget-view+json": {
       "model_id": "af7e5e9a02bd431389a558c0aa8934b3",
       "version_major": 2,
       "version_minor": 0
      },
      "text/plain": [
       "Validation: |          | 0/? [00:00<?, ?it/s]"
      ]
     },
     "metadata": {},
     "output_type": "display_data"
    },
    {
     "data": {
      "application/vnd.jupyter.widget-view+json": {
       "model_id": "452095f7cab34825876e73692748d7f1",
       "version_major": 2,
       "version_minor": 0
      },
      "text/plain": [
       "Validation: |          | 0/? [00:00<?, ?it/s]"
      ]
     },
     "metadata": {},
     "output_type": "display_data"
    },
    {
     "data": {
      "application/vnd.jupyter.widget-view+json": {
       "model_id": "73027b6a7f6e42a996ccf3692e0774df",
       "version_major": 2,
       "version_minor": 0
      },
      "text/plain": [
       "Validation: |          | 0/? [00:00<?, ?it/s]"
      ]
     },
     "metadata": {},
     "output_type": "display_data"
    },
    {
     "data": {
      "application/vnd.jupyter.widget-view+json": {
       "model_id": "4e1fa0d1cc934c919593e9dc69b4f446",
       "version_major": 2,
       "version_minor": 0
      },
      "text/plain": [
       "Validation: |          | 0/? [00:00<?, ?it/s]"
      ]
     },
     "metadata": {},
     "output_type": "display_data"
    },
    {
     "data": {
      "application/vnd.jupyter.widget-view+json": {
       "model_id": "6eb1d320bea446a78f31d6a28bdce8a0",
       "version_major": 2,
       "version_minor": 0
      },
      "text/plain": [
       "Validation: |          | 0/? [00:00<?, ?it/s]"
      ]
     },
     "metadata": {},
     "output_type": "display_data"
    },
    {
     "data": {
      "application/vnd.jupyter.widget-view+json": {
       "model_id": "825b6f0f10c94f4db27d785c3ae92784",
       "version_major": 2,
       "version_minor": 0
      },
      "text/plain": [
       "Validation: |          | 0/? [00:00<?, ?it/s]"
      ]
     },
     "metadata": {},
     "output_type": "display_data"
    },
    {
     "data": {
      "application/vnd.jupyter.widget-view+json": {
       "model_id": "341f25c6e18c46f18b477e5c93ace1ea",
       "version_major": 2,
       "version_minor": 0
      },
      "text/plain": [
       "Validation: |          | 0/? [00:00<?, ?it/s]"
      ]
     },
     "metadata": {},
     "output_type": "display_data"
    },
    {
     "data": {
      "application/vnd.jupyter.widget-view+json": {
       "model_id": "3d99bf5cb6674329a1f53608794e6eb8",
       "version_major": 2,
       "version_minor": 0
      },
      "text/plain": [
       "Validation: |          | 0/? [00:00<?, ?it/s]"
      ]
     },
     "metadata": {},
     "output_type": "display_data"
    },
    {
     "data": {
      "application/vnd.jupyter.widget-view+json": {
       "model_id": "70d8714ba5304af28a515b9de9cf1b78",
       "version_major": 2,
       "version_minor": 0
      },
      "text/plain": [
       "Validation: |          | 0/? [00:00<?, ?it/s]"
      ]
     },
     "metadata": {},
     "output_type": "display_data"
    },
    {
     "data": {
      "application/vnd.jupyter.widget-view+json": {
       "model_id": "f13130055ae54458aa7cca9dc52e693c",
       "version_major": 2,
       "version_minor": 0
      },
      "text/plain": [
       "Validation: |          | 0/? [00:00<?, ?it/s]"
      ]
     },
     "metadata": {},
     "output_type": "display_data"
    },
    {
     "name": "stderr",
     "output_type": "stream",
     "text": [
      "Monitored metric val_loss did not improve in the last 10 records. Best score: 0.065. Signaling Trainer to stop.\n",
      "GPU available: True (cuda), used: True\n",
      "TPU available: False, using: 0 TPU cores\n",
      "HPU available: False, using: 0 HPUs\n",
      "LOCAL_RANK: 0 - CUDA_VISIBLE_DEVICES: [0]\n"
     ]
    },
    {
     "name": "stdout",
     "output_type": "stream",
     "text": [
      "Modelo carregado do checkpoint para trial 38\n"
     ]
    },
    {
     "name": "stderr",
     "output_type": "stream",
     "text": [
      "/home/eduardo/Documentos/Water-Cycle-Neural-Network/venv/lib/python3.12/site-packages/pytorch_lightning/trainer/connectors/data_connector.py:425: The 'predict_dataloader' does not have many workers which may be a bottleneck. Consider increasing the value of the `num_workers` argument` to `num_workers=11` in the `DataLoader` to improve performance.\n"
     ]
    },
    {
     "data": {
      "application/vnd.jupyter.widget-view+json": {
       "model_id": "4cfeb6f12cee4a739d91ab01382d8c45",
       "version_major": 2,
       "version_minor": 0
      },
      "text/plain": [
       "Predicting: |          | 0/? [00:00<?, ?it/s]"
      ]
     },
     "metadata": {},
     "output_type": "display_data"
    },
    {
     "name": "stderr",
     "output_type": "stream",
     "text": [
      "[I 2025-05-14 12:54:25,791] Trial 38 finished with value: 114.30884012242385 and parameters: {'output_chunk_length': 50, 'input_chunk_length': 57, 'num_layers': 2, 'num_blocks': 4, 'num_stacks': 1, 'layer_widths': 153, 'activation': 'GELU', 'dropout': 0.17397580919410743, 'batch_size': 28, 'lr': 7.550568231125343e-05, 'forecast_horizon': 23}. Best is trial 3 with value: 50.43235393618171.\n",
      "GPU available: True (cuda), used: True\n",
      "TPU available: False, using: 0 TPU cores\n",
      "HPU available: False, using: 0 HPUs\n",
      "LOCAL_RANK: 0 - CUDA_VISIBLE_DEVICES: [0]\n",
      "\n",
      "  | Name            | Type             | Params | Mode \n",
      "-------------------------------------------------------------\n",
      "0 | criterion       | HuberLoss        | 0      | train\n",
      "1 | train_criterion | HuberLoss        | 0      | train\n",
      "2 | val_criterion   | HuberLoss        | 0      | train\n",
      "3 | train_metrics   | MetricCollection | 0      | train\n",
      "4 | val_metrics     | MetricCollection | 0      | train\n",
      "5 | stacks          | ModuleList       | 1.6 M  | train\n",
      "-------------------------------------------------------------\n",
      "1.5 M     Trainable params\n",
      "110 K     Non-trainable params\n",
      "1.6 M     Total params\n",
      "6.486     Total estimated model params size (MB)\n",
      "106       Modules in train mode\n",
      "0         Modules in eval mode\n"
     ]
    },
    {
     "name": "stdout",
     "output_type": "stream",
     "text": [
      "Iniciando a verificação das séries temporais para constância...\n",
      "\n",
      "Métricas de performance:\n",
      "                                    MSE         RMSE          MAE  \\\n",
      "Temperature                1.759897e+02    13.266110    13.159126   \n",
      "Precipitation_accumulated  5.294900e+04   230.106502   230.038886   \n",
      "Humidity                   7.467527e+02    27.326776    26.097276   \n",
      "Wind_Speed_kmh             1.172329e+01     3.423929     3.374458   \n",
      "Soil_Moisture              3.146391e+06  1773.806784  1730.907541   \n",
      "Soil_Temperature           3.185871e+02    17.849008    17.739413   \n",
      "Wind_Dir_Sin               1.871232e-01     0.432577     0.233603   \n",
      "Wind_Dir_Cos               8.171734e-01     0.903976     0.851963   \n",
      "\n",
      "                                     R2       SMAPE  \n",
      "Temperature                  -51.283233  102.251312  \n",
      "Precipitation_accumulated -55601.852531   66.787383  \n",
      "Humidity                     -10.472317   36.448533  \n",
      "Wind_Speed_kmh               -32.944793  186.911815  \n",
      "Soil_Moisture                 -3.193155   25.764553  \n",
      "Soil_Temperature             -56.165412  116.003702  \n",
      "Wind_Dir_Sin                  -0.148861  189.887631  \n",
      "Wind_Dir_Cos                  -1.812898  190.415792  \n",
      "O SMAPE desse fold foi 114.30884012242385\n",
      "Resultados do trial 38 salvos em optuna_iteration_metrics/trial_38.json\n",
      "Current value: 114.30884012242385, Current params: {'output_chunk_length': 50, 'input_chunk_length': 57, 'num_layers': 2, 'num_blocks': 4, 'num_stacks': 1, 'layer_widths': 153, 'activation': 'GELU', 'dropout': 0.17397580919410743, 'batch_size': 28, 'lr': 7.550568231125343e-05, 'forecast_horizon': 23}\n",
      "Best value: 50.43235393618171, Best params: {'output_chunk_length': 27, 'input_chunk_length': 38, 'num_layers': 1, 'num_blocks': 3, 'num_stacks': 2, 'layer_widths': 85, 'activation': 'GELU', 'dropout': 0.18882539432465545, 'batch_size': 37, 'lr': 0.006016691509040486, 'forecast_horizon': 12}\n",
      "\n",
      "Iniciando Trial 39\n",
      "Hiperparâmetros: {'output_chunk_length': 43, 'input_chunk_length': 47, 'num_layers': 3, 'num_blocks': 4, 'num_stacks': 2, 'layer_widths': 130, 'activation': 'GELU', 'dropout': 0.14361666628561767, 'batch_size': 39, 'lr': 0.006711685353836914, 'forecast_horizon': 21}\n",
      "\n",
      "Treinando o modelo...\n",
      "Train set: 6647 samples\n",
      "Validation set: 1662 samples\n"
     ]
    },
    {
     "data": {
      "application/vnd.jupyter.widget-view+json": {
       "model_id": "df016762b73d471c99a374e386e6b430",
       "version_major": 2,
       "version_minor": 0
      },
      "text/plain": [
       "Sanity Checking: |          | 0/? [00:00<?, ?it/s]"
      ]
     },
     "metadata": {},
     "output_type": "display_data"
    },
    {
     "name": "stderr",
     "output_type": "stream",
     "text": [
      "/home/eduardo/Documentos/Water-Cycle-Neural-Network/venv/lib/python3.12/site-packages/pytorch_lightning/trainer/connectors/data_connector.py:425: The 'val_dataloader' does not have many workers which may be a bottleneck. Consider increasing the value of the `num_workers` argument` to `num_workers=11` in the `DataLoader` to improve performance.\n",
      "/home/eduardo/Documentos/Water-Cycle-Neural-Network/venv/lib/python3.12/site-packages/pytorch_lightning/trainer/connectors/data_connector.py:425: The 'train_dataloader' does not have many workers which may be a bottleneck. Consider increasing the value of the `num_workers` argument` to `num_workers=11` in the `DataLoader` to improve performance.\n"
     ]
    },
    {
     "data": {
      "application/vnd.jupyter.widget-view+json": {
       "model_id": "0cd750d251af4c9fa11d93a91168c982",
       "version_major": 2,
       "version_minor": 0
      },
      "text/plain": [
       "Training: |          | 0/? [00:00<?, ?it/s]"
      ]
     },
     "metadata": {},
     "output_type": "display_data"
    },
    {
     "data": {
      "application/vnd.jupyter.widget-view+json": {
       "model_id": "28dc2e6d2030485789bd3762bef4e79d",
       "version_major": 2,
       "version_minor": 0
      },
      "text/plain": [
       "Validation: |          | 0/? [00:00<?, ?it/s]"
      ]
     },
     "metadata": {},
     "output_type": "display_data"
    },
    {
     "name": "stderr",
     "output_type": "stream",
     "text": [
      "Metric val_loss improved. New best score: 0.028\n"
     ]
    },
    {
     "data": {
      "application/vnd.jupyter.widget-view+json": {
       "model_id": "2e701bd49e5a493898e3651fd49c0d7c",
       "version_major": 2,
       "version_minor": 0
      },
      "text/plain": [
       "Validation: |          | 0/? [00:00<?, ?it/s]"
      ]
     },
     "metadata": {},
     "output_type": "display_data"
    },
    {
     "data": {
      "application/vnd.jupyter.widget-view+json": {
       "model_id": "8675b64bcba94eacb92953104cba5abc",
       "version_major": 2,
       "version_minor": 0
      },
      "text/plain": [
       "Validation: |          | 0/? [00:00<?, ?it/s]"
      ]
     },
     "metadata": {},
     "output_type": "display_data"
    },
    {
     "data": {
      "application/vnd.jupyter.widget-view+json": {
       "model_id": "6883561749ed4da793ca998f1ceaec73",
       "version_major": 2,
       "version_minor": 0
      },
      "text/plain": [
       "Validation: |          | 0/? [00:00<?, ?it/s]"
      ]
     },
     "metadata": {},
     "output_type": "display_data"
    },
    {
     "data": {
      "application/vnd.jupyter.widget-view+json": {
       "model_id": "c94121ff5d2c429ca9fad4df72ff6a4b",
       "version_major": 2,
       "version_minor": 0
      },
      "text/plain": [
       "Validation: |          | 0/? [00:00<?, ?it/s]"
      ]
     },
     "metadata": {},
     "output_type": "display_data"
    },
    {
     "data": {
      "application/vnd.jupyter.widget-view+json": {
       "model_id": "7c7587c08a4a41f6999cb385dc7a3461",
       "version_major": 2,
       "version_minor": 0
      },
      "text/plain": [
       "Validation: |          | 0/? [00:00<?, ?it/s]"
      ]
     },
     "metadata": {},
     "output_type": "display_data"
    },
    {
     "data": {
      "application/vnd.jupyter.widget-view+json": {
       "model_id": "705661e3da664227a0f1ff53aae79881",
       "version_major": 2,
       "version_minor": 0
      },
      "text/plain": [
       "Validation: |          | 0/? [00:00<?, ?it/s]"
      ]
     },
     "metadata": {},
     "output_type": "display_data"
    },
    {
     "data": {
      "application/vnd.jupyter.widget-view+json": {
       "model_id": "2cce9f9d5bb245cfa2d0723718e4746c",
       "version_major": 2,
       "version_minor": 0
      },
      "text/plain": [
       "Validation: |          | 0/? [00:00<?, ?it/s]"
      ]
     },
     "metadata": {},
     "output_type": "display_data"
    },
    {
     "data": {
      "application/vnd.jupyter.widget-view+json": {
       "model_id": "919bf000edaa4eefb30c2700221e3e8b",
       "version_major": 2,
       "version_minor": 0
      },
      "text/plain": [
       "Validation: |          | 0/? [00:00<?, ?it/s]"
      ]
     },
     "metadata": {},
     "output_type": "display_data"
    },
    {
     "data": {
      "application/vnd.jupyter.widget-view+json": {
       "model_id": "8927ed16c25c42c8b7d58436ecea56d4",
       "version_major": 2,
       "version_minor": 0
      },
      "text/plain": [
       "Validation: |          | 0/? [00:00<?, ?it/s]"
      ]
     },
     "metadata": {},
     "output_type": "display_data"
    },
    {
     "data": {
      "application/vnd.jupyter.widget-view+json": {
       "model_id": "aa0d780b8038497398efe2716dab7279",
       "version_major": 2,
       "version_minor": 0
      },
      "text/plain": [
       "Validation: |          | 0/? [00:00<?, ?it/s]"
      ]
     },
     "metadata": {},
     "output_type": "display_data"
    },
    {
     "name": "stderr",
     "output_type": "stream",
     "text": [
      "Monitored metric val_loss did not improve in the last 10 records. Best score: 0.028. Signaling Trainer to stop.\n",
      "GPU available: True (cuda), used: True\n",
      "TPU available: False, using: 0 TPU cores\n",
      "HPU available: False, using: 0 HPUs\n",
      "LOCAL_RANK: 0 - CUDA_VISIBLE_DEVICES: [0]\n"
     ]
    },
    {
     "name": "stdout",
     "output_type": "stream",
     "text": [
      "Modelo carregado do checkpoint para trial 39\n"
     ]
    },
    {
     "name": "stderr",
     "output_type": "stream",
     "text": [
      "/home/eduardo/Documentos/Water-Cycle-Neural-Network/venv/lib/python3.12/site-packages/pytorch_lightning/trainer/connectors/data_connector.py:425: The 'predict_dataloader' does not have many workers which may be a bottleneck. Consider increasing the value of the `num_workers` argument` to `num_workers=11` in the `DataLoader` to improve performance.\n"
     ]
    },
    {
     "data": {
      "application/vnd.jupyter.widget-view+json": {
       "model_id": "26782bf7b977411ead379ee66a39cb76",
       "version_major": 2,
       "version_minor": 0
      },
      "text/plain": [
       "Predicting: |          | 0/? [00:00<?, ?it/s]"
      ]
     },
     "metadata": {},
     "output_type": "display_data"
    },
    {
     "name": "stderr",
     "output_type": "stream",
     "text": [
      "[I 2025-05-14 12:54:52,772] Trial 39 finished with value: 60.980638551338274 and parameters: {'output_chunk_length': 43, 'input_chunk_length': 47, 'num_layers': 3, 'num_blocks': 4, 'num_stacks': 2, 'layer_widths': 130, 'activation': 'GELU', 'dropout': 0.14361666628561767, 'batch_size': 39, 'lr': 0.006711685353836914, 'forecast_horizon': 21}. Best is trial 3 with value: 50.43235393618171.\n",
      "GPU available: True (cuda), used: True\n",
      "TPU available: False, using: 0 TPU cores\n",
      "HPU available: False, using: 0 HPUs\n",
      "LOCAL_RANK: 0 - CUDA_VISIBLE_DEVICES: [0]\n",
      "\n",
      "  | Name            | Type             | Params | Mode \n",
      "-------------------------------------------------------------\n",
      "0 | criterion       | HuberLoss        | 0      | train\n",
      "1 | train_criterion | HuberLoss        | 0      | train\n",
      "2 | val_criterion   | HuberLoss        | 0      | train\n",
      "3 | train_metrics   | MetricCollection | 0      | train\n",
      "4 | val_metrics     | MetricCollection | 0      | train\n",
      "5 | stacks          | ModuleList       | 44.1 K | train\n",
      "-------------------------------------------------------------\n",
      "41.6 K    Trainable params\n",
      "2.5 K     Non-trainable params\n",
      "44.1 K    Total params\n",
      "0.176     Total estimated model params size (MB)\n",
      "56        Modules in train mode\n",
      "0         Modules in eval mode\n"
     ]
    },
    {
     "name": "stdout",
     "output_type": "stream",
     "text": [
      "Iniciando a verificação das séries temporais para constância...\n",
      "\n",
      "Métricas de performance:\n",
      "                                     MSE        RMSE         MAE          R2  \\\n",
      "Temperature                     4.552448    2.133647    1.767281   -0.349726   \n",
      "Precipitation_accumulated     367.782071   19.177645   12.756214 -385.331466   \n",
      "Humidity                       31.888577    5.646997    4.371396    0.509990   \n",
      "Wind_Speed_kmh                  0.240257    0.490160    0.264419    0.303352   \n",
      "Soil_Moisture              200612.179351  447.897510  265.477603    0.732292   \n",
      "Soil_Temperature                4.858033    2.204095    1.952992    0.129048   \n",
      "Wind_Dir_Sin                    0.129962    0.360503    0.251264    0.201015   \n",
      "Wind_Dir_Cos                    0.165197    0.406445    0.315768    0.430710   \n",
      "\n",
      "                                SMAPE  \n",
      "Temperature                 31.109937  \n",
      "Precipitation_accumulated    2.861621  \n",
      "Humidity                     5.159810  \n",
      "Wind_Speed_kmh             172.246876  \n",
      "Soil_Moisture                4.092973  \n",
      "Soil_Temperature            44.846691  \n",
      "Wind_Dir_Sin               162.189945  \n",
      "Wind_Dir_Cos                65.337255  \n",
      "O SMAPE desse fold foi 60.980638551338274\n",
      "Resultados do trial 39 salvos em optuna_iteration_metrics/trial_39.json\n",
      "Current value: 60.980638551338274, Current params: {'output_chunk_length': 43, 'input_chunk_length': 47, 'num_layers': 3, 'num_blocks': 4, 'num_stacks': 2, 'layer_widths': 130, 'activation': 'GELU', 'dropout': 0.14361666628561767, 'batch_size': 39, 'lr': 0.006711685353836914, 'forecast_horizon': 21}\n",
      "Best value: 50.43235393618171, Best params: {'output_chunk_length': 27, 'input_chunk_length': 38, 'num_layers': 1, 'num_blocks': 3, 'num_stacks': 2, 'layer_widths': 85, 'activation': 'GELU', 'dropout': 0.18882539432465545, 'batch_size': 37, 'lr': 0.006016691509040486, 'forecast_horizon': 12}\n",
      "\n",
      "Iniciando Trial 40\n",
      "Hiperparâmetros: {'output_chunk_length': 36, 'input_chunk_length': 50, 'num_layers': 3, 'num_blocks': 4, 'num_stacks': 1, 'layer_widths': 49, 'activation': 'ReLU', 'dropout': 0.1589119502617236, 'batch_size': 24, 'lr': 0.0003033835632976405, 'forecast_horizon': 4}\n",
      "\n",
      "Treinando o modelo...\n",
      "Train set: 6647 samples\n",
      "Validation set: 1662 samples\n"
     ]
    },
    {
     "data": {
      "application/vnd.jupyter.widget-view+json": {
       "model_id": "c7121dc34a1d4e48ab950ccabca37cfb",
       "version_major": 2,
       "version_minor": 0
      },
      "text/plain": [
       "Sanity Checking: |          | 0/? [00:00<?, ?it/s]"
      ]
     },
     "metadata": {},
     "output_type": "display_data"
    },
    {
     "name": "stderr",
     "output_type": "stream",
     "text": [
      "/home/eduardo/Documentos/Water-Cycle-Neural-Network/venv/lib/python3.12/site-packages/pytorch_lightning/trainer/connectors/data_connector.py:425: The 'val_dataloader' does not have many workers which may be a bottleneck. Consider increasing the value of the `num_workers` argument` to `num_workers=11` in the `DataLoader` to improve performance.\n",
      "/home/eduardo/Documentos/Water-Cycle-Neural-Network/venv/lib/python3.12/site-packages/pytorch_lightning/trainer/connectors/data_connector.py:425: The 'train_dataloader' does not have many workers which may be a bottleneck. Consider increasing the value of the `num_workers` argument` to `num_workers=11` in the `DataLoader` to improve performance.\n"
     ]
    },
    {
     "data": {
      "application/vnd.jupyter.widget-view+json": {
       "model_id": "d0ed30abb9da4776938c6ee927c7bd63",
       "version_major": 2,
       "version_minor": 0
      },
      "text/plain": [
       "Training: |          | 0/? [00:00<?, ?it/s]"
      ]
     },
     "metadata": {},
     "output_type": "display_data"
    },
    {
     "data": {
      "application/vnd.jupyter.widget-view+json": {
       "model_id": "91e80b2ca6564ee89e7ed0a3d88c010d",
       "version_major": 2,
       "version_minor": 0
      },
      "text/plain": [
       "Validation: |          | 0/? [00:00<?, ?it/s]"
      ]
     },
     "metadata": {},
     "output_type": "display_data"
    },
    {
     "name": "stderr",
     "output_type": "stream",
     "text": [
      "Metric val_loss improved. New best score: 0.065\n"
     ]
    },
    {
     "data": {
      "application/vnd.jupyter.widget-view+json": {
       "model_id": "f8a6a7119286454eaef38cddc0fd27b4",
       "version_major": 2,
       "version_minor": 0
      },
      "text/plain": [
       "Validation: |          | 0/? [00:00<?, ?it/s]"
      ]
     },
     "metadata": {},
     "output_type": "display_data"
    },
    {
     "data": {
      "application/vnd.jupyter.widget-view+json": {
       "model_id": "bedc8b246f0c4ec8b5536c3d17e83a84",
       "version_major": 2,
       "version_minor": 0
      },
      "text/plain": [
       "Validation: |          | 0/? [00:00<?, ?it/s]"
      ]
     },
     "metadata": {},
     "output_type": "display_data"
    },
    {
     "name": "stderr",
     "output_type": "stream",
     "text": [
      "Metric val_loss improved by 0.001 >= min_delta = 0.001. New best score: 0.064\n"
     ]
    },
    {
     "data": {
      "application/vnd.jupyter.widget-view+json": {
       "model_id": "55c86e81ae5b41b984c398b998190714",
       "version_major": 2,
       "version_minor": 0
      },
      "text/plain": [
       "Validation: |          | 0/? [00:00<?, ?it/s]"
      ]
     },
     "metadata": {},
     "output_type": "display_data"
    },
    {
     "data": {
      "application/vnd.jupyter.widget-view+json": {
       "model_id": "4e79228b8e504fb18e92d9a0c3a55af5",
       "version_major": 2,
       "version_minor": 0
      },
      "text/plain": [
       "Validation: |          | 0/? [00:00<?, ?it/s]"
      ]
     },
     "metadata": {},
     "output_type": "display_data"
    },
    {
     "data": {
      "application/vnd.jupyter.widget-view+json": {
       "model_id": "941aa450b2474a66887487fc8c5658e8",
       "version_major": 2,
       "version_minor": 0
      },
      "text/plain": [
       "Validation: |          | 0/? [00:00<?, ?it/s]"
      ]
     },
     "metadata": {},
     "output_type": "display_data"
    },
    {
     "data": {
      "application/vnd.jupyter.widget-view+json": {
       "model_id": "a0756e7f07d64997abaef874d5c558cc",
       "version_major": 2,
       "version_minor": 0
      },
      "text/plain": [
       "Validation: |          | 0/? [00:00<?, ?it/s]"
      ]
     },
     "metadata": {},
     "output_type": "display_data"
    },
    {
     "data": {
      "application/vnd.jupyter.widget-view+json": {
       "model_id": "9c59be0b805a46d8a44de371b3269d8d",
       "version_major": 2,
       "version_minor": 0
      },
      "text/plain": [
       "Validation: |          | 0/? [00:00<?, ?it/s]"
      ]
     },
     "metadata": {},
     "output_type": "display_data"
    },
    {
     "data": {
      "application/vnd.jupyter.widget-view+json": {
       "model_id": "2439b01913174e37b9ec2b84aac95da8",
       "version_major": 2,
       "version_minor": 0
      },
      "text/plain": [
       "Validation: |          | 0/? [00:00<?, ?it/s]"
      ]
     },
     "metadata": {},
     "output_type": "display_data"
    },
    {
     "data": {
      "application/vnd.jupyter.widget-view+json": {
       "model_id": "8aab9948b8e44576aa41b9c6ab26062d",
       "version_major": 2,
       "version_minor": 0
      },
      "text/plain": [
       "Validation: |          | 0/? [00:00<?, ?it/s]"
      ]
     },
     "metadata": {},
     "output_type": "display_data"
    },
    {
     "data": {
      "application/vnd.jupyter.widget-view+json": {
       "model_id": "91a5e3256a9c40228ba8d60c8ab88fe0",
       "version_major": 2,
       "version_minor": 0
      },
      "text/plain": [
       "Validation: |          | 0/? [00:00<?, ?it/s]"
      ]
     },
     "metadata": {},
     "output_type": "display_data"
    },
    {
     "data": {
      "application/vnd.jupyter.widget-view+json": {
       "model_id": "9dab3ad02fe948e8b1cfc56683aa714d",
       "version_major": 2,
       "version_minor": 0
      },
      "text/plain": [
       "Validation: |          | 0/? [00:00<?, ?it/s]"
      ]
     },
     "metadata": {},
     "output_type": "display_data"
    },
    {
     "data": {
      "application/vnd.jupyter.widget-view+json": {
       "model_id": "1f062c7f688c4766a7ced751cb9cb331",
       "version_major": 2,
       "version_minor": 0
      },
      "text/plain": [
       "Validation: |          | 0/? [00:00<?, ?it/s]"
      ]
     },
     "metadata": {},
     "output_type": "display_data"
    },
    {
     "name": "stderr",
     "output_type": "stream",
     "text": [
      "Monitored metric val_loss did not improve in the last 10 records. Best score: 0.064. Signaling Trainer to stop.\n",
      "GPU available: True (cuda), used: True\n",
      "TPU available: False, using: 0 TPU cores\n",
      "HPU available: False, using: 0 HPUs\n",
      "LOCAL_RANK: 0 - CUDA_VISIBLE_DEVICES: [0]\n"
     ]
    },
    {
     "name": "stdout",
     "output_type": "stream",
     "text": [
      "Modelo carregado do checkpoint para trial 40\n"
     ]
    },
    {
     "name": "stderr",
     "output_type": "stream",
     "text": [
      "/home/eduardo/Documentos/Water-Cycle-Neural-Network/venv/lib/python3.12/site-packages/pytorch_lightning/trainer/connectors/data_connector.py:425: The 'predict_dataloader' does not have many workers which may be a bottleneck. Consider increasing the value of the `num_workers` argument` to `num_workers=11` in the `DataLoader` to improve performance.\n"
     ]
    },
    {
     "data": {
      "application/vnd.jupyter.widget-view+json": {
       "model_id": "9c7e18a6c31c474696352571827cbe21",
       "version_major": 2,
       "version_minor": 0
      },
      "text/plain": [
       "Predicting: |          | 0/? [00:00<?, ?it/s]"
      ]
     },
     "metadata": {},
     "output_type": "display_data"
    },
    {
     "name": "stderr",
     "output_type": "stream",
     "text": [
      "[I 2025-05-14 12:55:22,320] Trial 40 finished with value: 114.70712203135747 and parameters: {'output_chunk_length': 36, 'input_chunk_length': 50, 'num_layers': 3, 'num_blocks': 4, 'num_stacks': 1, 'layer_widths': 49, 'activation': 'ReLU', 'dropout': 0.1589119502617236, 'batch_size': 24, 'lr': 0.0003033835632976405, 'forecast_horizon': 4}. Best is trial 3 with value: 50.43235393618171.\n",
      "GPU available: True (cuda), used: True\n",
      "TPU available: False, using: 0 TPU cores\n",
      "HPU available: False, using: 0 HPUs\n",
      "LOCAL_RANK: 0 - CUDA_VISIBLE_DEVICES: [0]\n",
      "\n",
      "  | Name            | Type             | Params | Mode \n",
      "-------------------------------------------------------------\n",
      "0 | criterion       | HuberLoss        | 0      | train\n",
      "1 | train_criterion | HuberLoss        | 0      | train\n",
      "2 | val_criterion   | HuberLoss        | 0      | train\n",
      "3 | train_metrics   | MetricCollection | 0      | train\n",
      "4 | val_metrics     | MetricCollection | 0      | train\n",
      "5 | stacks          | ModuleList       | 1.6 M  | train\n",
      "-------------------------------------------------------------\n",
      "1.5 M     Trainable params\n",
      "136 K     Non-trainable params\n",
      "1.6 M     Total params\n",
      "6.557     Total estimated model params size (MB)\n",
      "74        Modules in train mode\n",
      "0         Modules in eval mode\n"
     ]
    },
    {
     "name": "stdout",
     "output_type": "stream",
     "text": [
      "Iniciando a verificação das séries temporais para constância...\n",
      "\n",
      "Métricas de performance:\n",
      "                                    MSE         RMSE          MAE  \\\n",
      "Temperature                1.755375e+02    13.249057    13.108035   \n",
      "Precipitation_accumulated  5.284865e+04   229.888351   229.863544   \n",
      "Humidity                   7.523307e+02    27.428648    26.112692   \n",
      "Wind_Speed_kmh             1.179923e+01     3.435000     3.390278   \n",
      "Soil_Moisture              3.148610e+06  1774.432272  1726.834348   \n",
      "Soil_Temperature           3.253329e+02    18.036988    17.872577   \n",
      "Wind_Dir_Sin               1.788215e-01     0.422873     0.224728   \n",
      "Wind_Dir_Cos               8.154200e-01     0.903006     0.853032   \n",
      "\n",
      "                                     R2       SMAPE  \n",
      "Temperature                  -50.609195  101.662874  \n",
      "Precipitation_accumulated -55661.185599   66.717329  \n",
      "Humidity                     -10.568242   36.404709  \n",
      "Wind_Speed_kmh               -33.623854  187.358124  \n",
      "Soil_Moisture                 -3.249498   25.715134  \n",
      "Soil_Temperature             -57.006882  115.791746  \n",
      "Wind_Dir_Sin                  -0.111857  190.100626  \n",
      "Wind_Dir_Cos                  -1.837079  193.906434  \n",
      "O SMAPE desse fold foi 114.70712203135747\n",
      "Resultados do trial 40 salvos em optuna_iteration_metrics/trial_40.json\n",
      "Current value: 114.70712203135747, Current params: {'output_chunk_length': 36, 'input_chunk_length': 50, 'num_layers': 3, 'num_blocks': 4, 'num_stacks': 1, 'layer_widths': 49, 'activation': 'ReLU', 'dropout': 0.1589119502617236, 'batch_size': 24, 'lr': 0.0003033835632976405, 'forecast_horizon': 4}\n",
      "Best value: 50.43235393618171, Best params: {'output_chunk_length': 27, 'input_chunk_length': 38, 'num_layers': 1, 'num_blocks': 3, 'num_stacks': 2, 'layer_widths': 85, 'activation': 'GELU', 'dropout': 0.18882539432465545, 'batch_size': 37, 'lr': 0.006016691509040486, 'forecast_horizon': 12}\n",
      "\n",
      "Iniciando Trial 41\n",
      "Hiperparâmetros: {'output_chunk_length': 37, 'input_chunk_length': 43, 'num_layers': 1, 'num_blocks': 4, 'num_stacks': 2, 'layer_widths': 175, 'activation': 'ReLU', 'dropout': 0.25513139685899516, 'batch_size': 34, 'lr': 0.0018594500010574524, 'forecast_horizon': 20}\n",
      "\n",
      "Treinando o modelo...\n",
      "Train set: 6647 samples\n",
      "Validation set: 1662 samples\n"
     ]
    },
    {
     "data": {
      "application/vnd.jupyter.widget-view+json": {
       "model_id": "21c3bc5ae54f4ddc923a728af3ea6488",
       "version_major": 2,
       "version_minor": 0
      },
      "text/plain": [
       "Sanity Checking: |          | 0/? [00:00<?, ?it/s]"
      ]
     },
     "metadata": {},
     "output_type": "display_data"
    },
    {
     "name": "stderr",
     "output_type": "stream",
     "text": [
      "/home/eduardo/Documentos/Water-Cycle-Neural-Network/venv/lib/python3.12/site-packages/pytorch_lightning/trainer/connectors/data_connector.py:425: The 'val_dataloader' does not have many workers which may be a bottleneck. Consider increasing the value of the `num_workers` argument` to `num_workers=11` in the `DataLoader` to improve performance.\n",
      "/home/eduardo/Documentos/Water-Cycle-Neural-Network/venv/lib/python3.12/site-packages/pytorch_lightning/trainer/connectors/data_connector.py:425: The 'train_dataloader' does not have many workers which may be a bottleneck. Consider increasing the value of the `num_workers` argument` to `num_workers=11` in the `DataLoader` to improve performance.\n"
     ]
    },
    {
     "data": {
      "application/vnd.jupyter.widget-view+json": {
       "model_id": "1036296f015e477f87dbc7d8d7dfd97c",
       "version_major": 2,
       "version_minor": 0
      },
      "text/plain": [
       "Training: |          | 0/? [00:00<?, ?it/s]"
      ]
     },
     "metadata": {},
     "output_type": "display_data"
    },
    {
     "data": {
      "application/vnd.jupyter.widget-view+json": {
       "model_id": "621dbebfbc854a15aae8016809137406",
       "version_major": 2,
       "version_minor": 0
      },
      "text/plain": [
       "Validation: |          | 0/? [00:00<?, ?it/s]"
      ]
     },
     "metadata": {},
     "output_type": "display_data"
    },
    {
     "name": "stderr",
     "output_type": "stream",
     "text": [
      "Metric val_loss improved. New best score: 0.026\n"
     ]
    },
    {
     "data": {
      "application/vnd.jupyter.widget-view+json": {
       "model_id": "b6fd601c48b8416299553f2ecb38c227",
       "version_major": 2,
       "version_minor": 0
      },
      "text/plain": [
       "Validation: |          | 0/? [00:00<?, ?it/s]"
      ]
     },
     "metadata": {},
     "output_type": "display_data"
    },
    {
     "data": {
      "application/vnd.jupyter.widget-view+json": {
       "model_id": "751f3caf556445feb69309ebd43a2c66",
       "version_major": 2,
       "version_minor": 0
      },
      "text/plain": [
       "Validation: |          | 0/? [00:00<?, ?it/s]"
      ]
     },
     "metadata": {},
     "output_type": "display_data"
    },
    {
     "data": {
      "application/vnd.jupyter.widget-view+json": {
       "model_id": "5a091e99b26740ec95d6b8ad1a7a1fc3",
       "version_major": 2,
       "version_minor": 0
      },
      "text/plain": [
       "Validation: |          | 0/? [00:00<?, ?it/s]"
      ]
     },
     "metadata": {},
     "output_type": "display_data"
    },
    {
     "data": {
      "application/vnd.jupyter.widget-view+json": {
       "model_id": "e90fbeeda38b4d67a8363f984e13a653",
       "version_major": 2,
       "version_minor": 0
      },
      "text/plain": [
       "Validation: |          | 0/? [00:00<?, ?it/s]"
      ]
     },
     "metadata": {},
     "output_type": "display_data"
    },
    {
     "data": {
      "application/vnd.jupyter.widget-view+json": {
       "model_id": "71a6f07763734e608564dcafc05bf6d7",
       "version_major": 2,
       "version_minor": 0
      },
      "text/plain": [
       "Validation: |          | 0/? [00:00<?, ?it/s]"
      ]
     },
     "metadata": {},
     "output_type": "display_data"
    },
    {
     "data": {
      "application/vnd.jupyter.widget-view+json": {
       "model_id": "c0d0a05c0570444391fe934096eb0a09",
       "version_major": 2,
       "version_minor": 0
      },
      "text/plain": [
       "Validation: |          | 0/? [00:00<?, ?it/s]"
      ]
     },
     "metadata": {},
     "output_type": "display_data"
    },
    {
     "data": {
      "application/vnd.jupyter.widget-view+json": {
       "model_id": "e18c3b75c4d44cf2874ea11ab058129a",
       "version_major": 2,
       "version_minor": 0
      },
      "text/plain": [
       "Validation: |          | 0/? [00:00<?, ?it/s]"
      ]
     },
     "metadata": {},
     "output_type": "display_data"
    },
    {
     "data": {
      "application/vnd.jupyter.widget-view+json": {
       "model_id": "215695ffdcbe4b17998da718235e9d30",
       "version_major": 2,
       "version_minor": 0
      },
      "text/plain": [
       "Validation: |          | 0/? [00:00<?, ?it/s]"
      ]
     },
     "metadata": {},
     "output_type": "display_data"
    },
    {
     "data": {
      "application/vnd.jupyter.widget-view+json": {
       "model_id": "09685f0cd66546629d4befd795a9ba73",
       "version_major": 2,
       "version_minor": 0
      },
      "text/plain": [
       "Validation: |          | 0/? [00:00<?, ?it/s]"
      ]
     },
     "metadata": {},
     "output_type": "display_data"
    },
    {
     "data": {
      "application/vnd.jupyter.widget-view+json": {
       "model_id": "b3de22b17be84ff39d92d5f9253541c6",
       "version_major": 2,
       "version_minor": 0
      },
      "text/plain": [
       "Validation: |          | 0/? [00:00<?, ?it/s]"
      ]
     },
     "metadata": {},
     "output_type": "display_data"
    },
    {
     "name": "stderr",
     "output_type": "stream",
     "text": [
      "Monitored metric val_loss did not improve in the last 10 records. Best score: 0.026. Signaling Trainer to stop.\n",
      "GPU available: True (cuda), used: True\n",
      "TPU available: False, using: 0 TPU cores\n",
      "HPU available: False, using: 0 HPUs\n",
      "LOCAL_RANK: 0 - CUDA_VISIBLE_DEVICES: [0]\n"
     ]
    },
    {
     "name": "stdout",
     "output_type": "stream",
     "text": [
      "Modelo carregado do checkpoint para trial 41\n"
     ]
    },
    {
     "name": "stderr",
     "output_type": "stream",
     "text": [
      "/home/eduardo/Documentos/Water-Cycle-Neural-Network/venv/lib/python3.12/site-packages/pytorch_lightning/trainer/connectors/data_connector.py:425: The 'predict_dataloader' does not have many workers which may be a bottleneck. Consider increasing the value of the `num_workers` argument` to `num_workers=11` in the `DataLoader` to improve performance.\n"
     ]
    },
    {
     "data": {
      "application/vnd.jupyter.widget-view+json": {
       "model_id": "794cc63e117a41328f008bcb28fc4940",
       "version_major": 2,
       "version_minor": 0
      },
      "text/plain": [
       "Predicting: |          | 0/? [00:00<?, ?it/s]"
      ]
     },
     "metadata": {},
     "output_type": "display_data"
    },
    {
     "name": "stderr",
     "output_type": "stream",
     "text": [
      "[I 2025-05-14 12:55:45,979] Trial 41 finished with value: 57.11113050910456 and parameters: {'output_chunk_length': 37, 'input_chunk_length': 43, 'num_layers': 1, 'num_blocks': 4, 'num_stacks': 2, 'layer_widths': 175, 'activation': 'ReLU', 'dropout': 0.25513139685899516, 'batch_size': 34, 'lr': 0.0018594500010574524, 'forecast_horizon': 20}. Best is trial 3 with value: 50.43235393618171.\n",
      "GPU available: True (cuda), used: True\n",
      "TPU available: False, using: 0 TPU cores\n",
      "HPU available: False, using: 0 HPUs\n",
      "LOCAL_RANK: 0 - CUDA_VISIBLE_DEVICES: [0]\n",
      "\n",
      "  | Name            | Type             | Params | Mode \n",
      "-------------------------------------------------------------\n",
      "0 | criterion       | HuberLoss        | 0      | train\n",
      "1 | train_criterion | HuberLoss        | 0      | train\n",
      "2 | val_criterion   | HuberLoss        | 0      | train\n",
      "3 | train_metrics   | MetricCollection | 0      | train\n",
      "4 | val_metrics     | MetricCollection | 0      | train\n",
      "5 | stacks          | ModuleList       | 2.0 M  | train\n",
      "-------------------------------------------------------------\n",
      "1.8 M     Trainable params\n",
      "161 K     Non-trainable params\n",
      "2.0 M     Total params\n",
      "7.803     Total estimated model params size (MB)\n",
      "74        Modules in train mode\n",
      "0         Modules in eval mode\n"
     ]
    },
    {
     "name": "stdout",
     "output_type": "stream",
     "text": [
      "Iniciando a verificação das séries temporais para constância...\n",
      "\n",
      "Métricas de performance:\n",
      "                                     MSE        RMSE         MAE          R2  \\\n",
      "Temperature                     5.258047    2.293043    1.944821   -0.557536   \n",
      "Precipitation_accumulated     207.296640   14.397800   10.864815 -216.784709   \n",
      "Humidity                       33.447663    5.783395    4.301464    0.486084   \n",
      "Wind_Speed_kmh                  0.258486    0.508415    0.289079    0.249965   \n",
      "Soil_Moisture              232840.854012  482.535858  325.922497    0.689079   \n",
      "Soil_Temperature                4.309616    2.075961    1.409832    0.227696   \n",
      "Wind_Dir_Sin                    0.121379    0.348395    0.230747    0.253284   \n",
      "Wind_Dir_Cos                    0.128407    0.358340    0.272945    0.557242   \n",
      "\n",
      "                                SMAPE  \n",
      "Temperature                 29.276616  \n",
      "Precipitation_accumulated    2.367235  \n",
      "Humidity                     5.136032  \n",
      "Wind_Speed_kmh             173.330217  \n",
      "Soil_Moisture                5.146736  \n",
      "Soil_Temperature            26.713685  \n",
      "Wind_Dir_Sin               160.442476  \n",
      "Wind_Dir_Cos                54.476047  \n",
      "O SMAPE desse fold foi 57.11113050910456\n",
      "Resultados do trial 41 salvos em optuna_iteration_metrics/trial_41.json\n",
      "Current value: 57.11113050910456, Current params: {'output_chunk_length': 37, 'input_chunk_length': 43, 'num_layers': 1, 'num_blocks': 4, 'num_stacks': 2, 'layer_widths': 175, 'activation': 'ReLU', 'dropout': 0.25513139685899516, 'batch_size': 34, 'lr': 0.0018594500010574524, 'forecast_horizon': 20}\n",
      "Best value: 50.43235393618171, Best params: {'output_chunk_length': 27, 'input_chunk_length': 38, 'num_layers': 1, 'num_blocks': 3, 'num_stacks': 2, 'layer_widths': 85, 'activation': 'GELU', 'dropout': 0.18882539432465545, 'batch_size': 37, 'lr': 0.006016691509040486, 'forecast_horizon': 12}\n",
      "\n",
      "Iniciando Trial 42\n",
      "Hiperparâmetros: {'output_chunk_length': 40, 'input_chunk_length': 45, 'num_layers': 1, 'num_blocks': 4, 'num_stacks': 2, 'layer_widths': 198, 'activation': 'ReLU', 'dropout': 0.20922366126994302, 'batch_size': 34, 'lr': 0.0041531422956867575, 'forecast_horizon': 18}\n",
      "\n",
      "Treinando o modelo...\n",
      "Train set: 6647 samples\n",
      "Validation set: 1662 samples\n"
     ]
    },
    {
     "data": {
      "application/vnd.jupyter.widget-view+json": {
       "model_id": "1918091197d745a981e3a82240fa8803",
       "version_major": 2,
       "version_minor": 0
      },
      "text/plain": [
       "Sanity Checking: |          | 0/? [00:00<?, ?it/s]"
      ]
     },
     "metadata": {},
     "output_type": "display_data"
    },
    {
     "name": "stderr",
     "output_type": "stream",
     "text": [
      "/home/eduardo/Documentos/Water-Cycle-Neural-Network/venv/lib/python3.12/site-packages/pytorch_lightning/trainer/connectors/data_connector.py:425: The 'val_dataloader' does not have many workers which may be a bottleneck. Consider increasing the value of the `num_workers` argument` to `num_workers=11` in the `DataLoader` to improve performance.\n",
      "/home/eduardo/Documentos/Water-Cycle-Neural-Network/venv/lib/python3.12/site-packages/pytorch_lightning/trainer/connectors/data_connector.py:425: The 'train_dataloader' does not have many workers which may be a bottleneck. Consider increasing the value of the `num_workers` argument` to `num_workers=11` in the `DataLoader` to improve performance.\n"
     ]
    },
    {
     "data": {
      "application/vnd.jupyter.widget-view+json": {
       "model_id": "9a59454f2f6b46d69f7a991b5073b27a",
       "version_major": 2,
       "version_minor": 0
      },
      "text/plain": [
       "Training: |          | 0/? [00:00<?, ?it/s]"
      ]
     },
     "metadata": {},
     "output_type": "display_data"
    },
    {
     "data": {
      "application/vnd.jupyter.widget-view+json": {
       "model_id": "1626d18e35304c2da484cf810eabd71f",
       "version_major": 2,
       "version_minor": 0
      },
      "text/plain": [
       "Validation: |          | 0/? [00:00<?, ?it/s]"
      ]
     },
     "metadata": {},
     "output_type": "display_data"
    },
    {
     "name": "stderr",
     "output_type": "stream",
     "text": [
      "Metric val_loss improved. New best score: 0.030\n"
     ]
    },
    {
     "data": {
      "application/vnd.jupyter.widget-view+json": {
       "model_id": "714895e374f641f1baeebf42b0a36baa",
       "version_major": 2,
       "version_minor": 0
      },
      "text/plain": [
       "Validation: |          | 0/? [00:00<?, ?it/s]"
      ]
     },
     "metadata": {},
     "output_type": "display_data"
    },
    {
     "data": {
      "application/vnd.jupyter.widget-view+json": {
       "model_id": "2dda63e7c991420bbba2e66963d3f8b6",
       "version_major": 2,
       "version_minor": 0
      },
      "text/plain": [
       "Validation: |          | 0/? [00:00<?, ?it/s]"
      ]
     },
     "metadata": {},
     "output_type": "display_data"
    },
    {
     "name": "stderr",
     "output_type": "stream",
     "text": [
      "Metric val_loss improved by 0.002 >= min_delta = 0.001. New best score: 0.027\n"
     ]
    },
    {
     "data": {
      "application/vnd.jupyter.widget-view+json": {
       "model_id": "79b44e68ee304fa8ad3852e331e54136",
       "version_major": 2,
       "version_minor": 0
      },
      "text/plain": [
       "Validation: |          | 0/? [00:00<?, ?it/s]"
      ]
     },
     "metadata": {},
     "output_type": "display_data"
    },
    {
     "data": {
      "application/vnd.jupyter.widget-view+json": {
       "model_id": "fb373c7c774246d99d37a4eae62522fd",
       "version_major": 2,
       "version_minor": 0
      },
      "text/plain": [
       "Validation: |          | 0/? [00:00<?, ?it/s]"
      ]
     },
     "metadata": {},
     "output_type": "display_data"
    },
    {
     "data": {
      "application/vnd.jupyter.widget-view+json": {
       "model_id": "f2cfa2e171e04c1f8f78cca040cd53c3",
       "version_major": 2,
       "version_minor": 0
      },
      "text/plain": [
       "Validation: |          | 0/? [00:00<?, ?it/s]"
      ]
     },
     "metadata": {},
     "output_type": "display_data"
    },
    {
     "data": {
      "application/vnd.jupyter.widget-view+json": {
       "model_id": "23302c4d75ef4f4e8a1ed256999d3878",
       "version_major": 2,
       "version_minor": 0
      },
      "text/plain": [
       "Validation: |          | 0/? [00:00<?, ?it/s]"
      ]
     },
     "metadata": {},
     "output_type": "display_data"
    },
    {
     "data": {
      "application/vnd.jupyter.widget-view+json": {
       "model_id": "6eae066f4f7949d4bf060de0ba17ff1e",
       "version_major": 2,
       "version_minor": 0
      },
      "text/plain": [
       "Validation: |          | 0/? [00:00<?, ?it/s]"
      ]
     },
     "metadata": {},
     "output_type": "display_data"
    },
    {
     "data": {
      "application/vnd.jupyter.widget-view+json": {
       "model_id": "69e67620a8a4498ab7317d419e38ded0",
       "version_major": 2,
       "version_minor": 0
      },
      "text/plain": [
       "Validation: |          | 0/? [00:00<?, ?it/s]"
      ]
     },
     "metadata": {},
     "output_type": "display_data"
    },
    {
     "name": "stderr",
     "output_type": "stream",
     "text": [
      "Metric val_loss improved by 0.001 >= min_delta = 0.001. New best score: 0.026\n"
     ]
    },
    {
     "data": {
      "application/vnd.jupyter.widget-view+json": {
       "model_id": "2c8904897e99430d86b2d39d64d2c173",
       "version_major": 2,
       "version_minor": 0
      },
      "text/plain": [
       "Validation: |          | 0/? [00:00<?, ?it/s]"
      ]
     },
     "metadata": {},
     "output_type": "display_data"
    },
    {
     "data": {
      "application/vnd.jupyter.widget-view+json": {
       "model_id": "6cbe8d238cfb4865923b7d1b196b033c",
       "version_major": 2,
       "version_minor": 0
      },
      "text/plain": [
       "Validation: |          | 0/? [00:00<?, ?it/s]"
      ]
     },
     "metadata": {},
     "output_type": "display_data"
    },
    {
     "name": "stderr",
     "output_type": "stream",
     "text": [
      "Metric val_loss improved by 0.001 >= min_delta = 0.001. New best score: 0.025\n"
     ]
    },
    {
     "data": {
      "application/vnd.jupyter.widget-view+json": {
       "model_id": "bd76336b124b4bb897e1efcc84381b78",
       "version_major": 2,
       "version_minor": 0
      },
      "text/plain": [
       "Validation: |          | 0/? [00:00<?, ?it/s]"
      ]
     },
     "metadata": {},
     "output_type": "display_data"
    },
    {
     "data": {
      "application/vnd.jupyter.widget-view+json": {
       "model_id": "dfacb324124047b79b6a713a77bdce5e",
       "version_major": 2,
       "version_minor": 0
      },
      "text/plain": [
       "Validation: |          | 0/? [00:00<?, ?it/s]"
      ]
     },
     "metadata": {},
     "output_type": "display_data"
    },
    {
     "data": {
      "application/vnd.jupyter.widget-view+json": {
       "model_id": "93f1803aebdd4582b131f05dc9399688",
       "version_major": 2,
       "version_minor": 0
      },
      "text/plain": [
       "Validation: |          | 0/? [00:00<?, ?it/s]"
      ]
     },
     "metadata": {},
     "output_type": "display_data"
    },
    {
     "data": {
      "application/vnd.jupyter.widget-view+json": {
       "model_id": "ce7face259f74bedac47d7e4fb99025f",
       "version_major": 2,
       "version_minor": 0
      },
      "text/plain": [
       "Validation: |          | 0/? [00:00<?, ?it/s]"
      ]
     },
     "metadata": {},
     "output_type": "display_data"
    },
    {
     "data": {
      "application/vnd.jupyter.widget-view+json": {
       "model_id": "5228533ab7824e2da9581435a143cc4f",
       "version_major": 2,
       "version_minor": 0
      },
      "text/plain": [
       "Validation: |          | 0/? [00:00<?, ?it/s]"
      ]
     },
     "metadata": {},
     "output_type": "display_data"
    },
    {
     "data": {
      "application/vnd.jupyter.widget-view+json": {
       "model_id": "b39cbc2b7313485d8eeefa2d065a26df",
       "version_major": 2,
       "version_minor": 0
      },
      "text/plain": [
       "Validation: |          | 0/? [00:00<?, ?it/s]"
      ]
     },
     "metadata": {},
     "output_type": "display_data"
    },
    {
     "data": {
      "application/vnd.jupyter.widget-view+json": {
       "model_id": "2704883957934015abf1616e4f377239",
       "version_major": 2,
       "version_minor": 0
      },
      "text/plain": [
       "Validation: |          | 0/? [00:00<?, ?it/s]"
      ]
     },
     "metadata": {},
     "output_type": "display_data"
    },
    {
     "data": {
      "application/vnd.jupyter.widget-view+json": {
       "model_id": "7abef54a65c44f01b931ca5ce77f1d21",
       "version_major": 2,
       "version_minor": 0
      },
      "text/plain": [
       "Validation: |          | 0/? [00:00<?, ?it/s]"
      ]
     },
     "metadata": {},
     "output_type": "display_data"
    },
    {
     "data": {
      "application/vnd.jupyter.widget-view+json": {
       "model_id": "841da13fff8f4ee090bd3e6ca7ab8ee3",
       "version_major": 2,
       "version_minor": 0
      },
      "text/plain": [
       "Validation: |          | 0/? [00:00<?, ?it/s]"
      ]
     },
     "metadata": {},
     "output_type": "display_data"
    },
    {
     "data": {
      "application/vnd.jupyter.widget-view+json": {
       "model_id": "0b595bed3e8c4e75856c36cd24449d5a",
       "version_major": 2,
       "version_minor": 0
      },
      "text/plain": [
       "Validation: |          | 0/? [00:00<?, ?it/s]"
      ]
     },
     "metadata": {},
     "output_type": "display_data"
    },
    {
     "name": "stderr",
     "output_type": "stream",
     "text": [
      "Monitored metric val_loss did not improve in the last 10 records. Best score: 0.025. Signaling Trainer to stop.\n",
      "GPU available: True (cuda), used: True\n",
      "TPU available: False, using: 0 TPU cores\n",
      "HPU available: False, using: 0 HPUs\n",
      "LOCAL_RANK: 0 - CUDA_VISIBLE_DEVICES: [0]\n"
     ]
    },
    {
     "name": "stdout",
     "output_type": "stream",
     "text": [
      "Modelo carregado do checkpoint para trial 42\n"
     ]
    },
    {
     "name": "stderr",
     "output_type": "stream",
     "text": [
      "/home/eduardo/Documentos/Water-Cycle-Neural-Network/venv/lib/python3.12/site-packages/pytorch_lightning/trainer/connectors/data_connector.py:425: The 'predict_dataloader' does not have many workers which may be a bottleneck. Consider increasing the value of the `num_workers` argument` to `num_workers=11` in the `DataLoader` to improve performance.\n"
     ]
    },
    {
     "data": {
      "application/vnd.jupyter.widget-view+json": {
       "model_id": "0b6e9f6692234015af6d663cce88f3c9",
       "version_major": 2,
       "version_minor": 0
      },
      "text/plain": [
       "Predicting: |          | 0/? [00:00<?, ?it/s]"
      ]
     },
     "metadata": {},
     "output_type": "display_data"
    },
    {
     "name": "stderr",
     "output_type": "stream",
     "text": [
      "[I 2025-05-14 12:56:32,414] Trial 42 finished with value: 51.67843579274525 and parameters: {'output_chunk_length': 40, 'input_chunk_length': 45, 'num_layers': 1, 'num_blocks': 4, 'num_stacks': 2, 'layer_widths': 198, 'activation': 'ReLU', 'dropout': 0.20922366126994302, 'batch_size': 34, 'lr': 0.0041531422956867575, 'forecast_horizon': 18}. Best is trial 3 with value: 50.43235393618171.\n",
      "GPU available: True (cuda), used: True\n",
      "TPU available: False, using: 0 TPU cores\n",
      "HPU available: False, using: 0 HPUs\n",
      "LOCAL_RANK: 0 - CUDA_VISIBLE_DEVICES: [0]\n",
      "\n",
      "  | Name            | Type             | Params | Mode \n",
      "-------------------------------------------------------------\n",
      "0 | criterion       | HuberLoss        | 0      | train\n",
      "1 | train_criterion | HuberLoss        | 0      | train\n",
      "2 | val_criterion   | HuberLoss        | 0      | train\n",
      "3 | train_metrics   | MetricCollection | 0      | train\n",
      "4 | val_metrics     | MetricCollection | 0      | train\n",
      "5 | stacks          | ModuleList       | 2.3 M  | train\n",
      "-------------------------------------------------------------\n",
      "2.1 M     Trainable params\n",
      "186 K     Non-trainable params\n",
      "2.3 M     Total params\n",
      "9.087     Total estimated model params size (MB)\n",
      "74        Modules in train mode\n",
      "0         Modules in eval mode\n"
     ]
    },
    {
     "name": "stdout",
     "output_type": "stream",
     "text": [
      "Iniciando a verificação das séries temporais para constância...\n",
      "\n",
      "Métricas de performance:\n",
      "                                     MSE        RMSE         MAE         R2  \\\n",
      "Temperature                     2.614510    1.616945    1.359578   0.226798   \n",
      "Precipitation_accumulated      77.229135    8.788011    6.192579 -80.161192   \n",
      "Humidity                       16.016663    4.002082    3.084520   0.754055   \n",
      "Wind_Speed_kmh                  0.160450    0.400562    0.163551   0.533774   \n",
      "Soil_Moisture              130948.407886  361.867943  222.882933   0.824909   \n",
      "Soil_Temperature                2.219456    1.489784    1.165291   0.602577   \n",
      "Wind_Dir_Sin                    0.094932    0.308110    0.176905   0.415205   \n",
      "Wind_Dir_Cos                    0.123046    0.350780    0.202120   0.575247   \n",
      "\n",
      "                                SMAPE  \n",
      "Temperature                 21.712695  \n",
      "Precipitation_accumulated    1.356907  \n",
      "Humidity                     3.642392  \n",
      "Wind_Speed_kmh             159.696787  \n",
      "Soil_Moisture                3.409473  \n",
      "Soil_Temperature            24.431368  \n",
      "Wind_Dir_Sin               154.181302  \n",
      "Wind_Dir_Cos                44.996561  \n",
      "O SMAPE desse fold foi 51.67843579274525\n",
      "Resultados do trial 42 salvos em optuna_iteration_metrics/trial_42.json\n",
      "Current value: 51.67843579274525, Current params: {'output_chunk_length': 40, 'input_chunk_length': 45, 'num_layers': 1, 'num_blocks': 4, 'num_stacks': 2, 'layer_widths': 198, 'activation': 'ReLU', 'dropout': 0.20922366126994302, 'batch_size': 34, 'lr': 0.0041531422956867575, 'forecast_horizon': 18}\n",
      "Best value: 50.43235393618171, Best params: {'output_chunk_length': 27, 'input_chunk_length': 38, 'num_layers': 1, 'num_blocks': 3, 'num_stacks': 2, 'layer_widths': 85, 'activation': 'GELU', 'dropout': 0.18882539432465545, 'batch_size': 37, 'lr': 0.006016691509040486, 'forecast_horizon': 12}\n",
      "\n",
      "Iniciando Trial 43\n",
      "Hiperparâmetros: {'output_chunk_length': 41, 'input_chunk_length': 45, 'num_layers': 1, 'num_blocks': 4, 'num_stacks': 2, 'layer_widths': 229, 'activation': 'ReLU', 'dropout': 0.21257235206063316, 'batch_size': 39, 'lr': 0.004286353208202863, 'forecast_horizon': 18}\n",
      "\n",
      "Treinando o modelo...\n",
      "Train set: 6647 samples\n",
      "Validation set: 1662 samples\n"
     ]
    },
    {
     "data": {
      "application/vnd.jupyter.widget-view+json": {
       "model_id": "7ad4e8a36449441dbae774fa805d852b",
       "version_major": 2,
       "version_minor": 0
      },
      "text/plain": [
       "Sanity Checking: |          | 0/? [00:00<?, ?it/s]"
      ]
     },
     "metadata": {},
     "output_type": "display_data"
    },
    {
     "name": "stderr",
     "output_type": "stream",
     "text": [
      "/home/eduardo/Documentos/Water-Cycle-Neural-Network/venv/lib/python3.12/site-packages/pytorch_lightning/trainer/connectors/data_connector.py:425: The 'val_dataloader' does not have many workers which may be a bottleneck. Consider increasing the value of the `num_workers` argument` to `num_workers=11` in the `DataLoader` to improve performance.\n",
      "/home/eduardo/Documentos/Water-Cycle-Neural-Network/venv/lib/python3.12/site-packages/pytorch_lightning/trainer/connectors/data_connector.py:425: The 'train_dataloader' does not have many workers which may be a bottleneck. Consider increasing the value of the `num_workers` argument` to `num_workers=11` in the `DataLoader` to improve performance.\n"
     ]
    },
    {
     "data": {
      "application/vnd.jupyter.widget-view+json": {
       "model_id": "91ba951393e44c56b16d0b69d09b7518",
       "version_major": 2,
       "version_minor": 0
      },
      "text/plain": [
       "Training: |          | 0/? [00:00<?, ?it/s]"
      ]
     },
     "metadata": {},
     "output_type": "display_data"
    },
    {
     "data": {
      "application/vnd.jupyter.widget-view+json": {
       "model_id": "6c77a14dcf414c9dad6c02c4096d9eac",
       "version_major": 2,
       "version_minor": 0
      },
      "text/plain": [
       "Validation: |          | 0/? [00:00<?, ?it/s]"
      ]
     },
     "metadata": {},
     "output_type": "display_data"
    },
    {
     "name": "stderr",
     "output_type": "stream",
     "text": [
      "Metric val_loss improved. New best score: 0.030\n"
     ]
    },
    {
     "data": {
      "application/vnd.jupyter.widget-view+json": {
       "model_id": "5ac0e7a3b78d44858c77bded1b815b34",
       "version_major": 2,
       "version_minor": 0
      },
      "text/plain": [
       "Validation: |          | 0/? [00:00<?, ?it/s]"
      ]
     },
     "metadata": {},
     "output_type": "display_data"
    },
    {
     "data": {
      "application/vnd.jupyter.widget-view+json": {
       "model_id": "4ac5d5f37daf48579552e59401275704",
       "version_major": 2,
       "version_minor": 0
      },
      "text/plain": [
       "Validation: |          | 0/? [00:00<?, ?it/s]"
      ]
     },
     "metadata": {},
     "output_type": "display_data"
    },
    {
     "name": "stderr",
     "output_type": "stream",
     "text": [
      "Metric val_loss improved by 0.004 >= min_delta = 0.001. New best score: 0.026\n"
     ]
    },
    {
     "data": {
      "application/vnd.jupyter.widget-view+json": {
       "model_id": "32c5ce394a4c4c1787579731ae243623",
       "version_major": 2,
       "version_minor": 0
      },
      "text/plain": [
       "Validation: |          | 0/? [00:00<?, ?it/s]"
      ]
     },
     "metadata": {},
     "output_type": "display_data"
    },
    {
     "data": {
      "application/vnd.jupyter.widget-view+json": {
       "model_id": "97bf6aa6238847ac84735daed5cda04a",
       "version_major": 2,
       "version_minor": 0
      },
      "text/plain": [
       "Validation: |          | 0/? [00:00<?, ?it/s]"
      ]
     },
     "metadata": {},
     "output_type": "display_data"
    },
    {
     "data": {
      "application/vnd.jupyter.widget-view+json": {
       "model_id": "fe1c4f5d94e94f61a67f68554cdbbaed",
       "version_major": 2,
       "version_minor": 0
      },
      "text/plain": [
       "Validation: |          | 0/? [00:00<?, ?it/s]"
      ]
     },
     "metadata": {},
     "output_type": "display_data"
    },
    {
     "data": {
      "application/vnd.jupyter.widget-view+json": {
       "model_id": "6934d910423d4946ab29fda45481f599",
       "version_major": 2,
       "version_minor": 0
      },
      "text/plain": [
       "Validation: |          | 0/? [00:00<?, ?it/s]"
      ]
     },
     "metadata": {},
     "output_type": "display_data"
    },
    {
     "data": {
      "application/vnd.jupyter.widget-view+json": {
       "model_id": "0ec65ad3ce50421a80ae47f5924d9f09",
       "version_major": 2,
       "version_minor": 0
      },
      "text/plain": [
       "Validation: |          | 0/? [00:00<?, ?it/s]"
      ]
     },
     "metadata": {},
     "output_type": "display_data"
    },
    {
     "data": {
      "application/vnd.jupyter.widget-view+json": {
       "model_id": "1a11c0aeb1644d87a99bed1913c79dca",
       "version_major": 2,
       "version_minor": 0
      },
      "text/plain": [
       "Validation: |          | 0/? [00:00<?, ?it/s]"
      ]
     },
     "metadata": {},
     "output_type": "display_data"
    },
    {
     "data": {
      "application/vnd.jupyter.widget-view+json": {
       "model_id": "efc655685ae945b1bb0f68b3fc98ac8b",
       "version_major": 2,
       "version_minor": 0
      },
      "text/plain": [
       "Validation: |          | 0/? [00:00<?, ?it/s]"
      ]
     },
     "metadata": {},
     "output_type": "display_data"
    },
    {
     "data": {
      "application/vnd.jupyter.widget-view+json": {
       "model_id": "c20975eabe6543899e25b5867adf934a",
       "version_major": 2,
       "version_minor": 0
      },
      "text/plain": [
       "Validation: |          | 0/? [00:00<?, ?it/s]"
      ]
     },
     "metadata": {},
     "output_type": "display_data"
    },
    {
     "data": {
      "application/vnd.jupyter.widget-view+json": {
       "model_id": "c55b78c294a844bca6d75b8921880d8b",
       "version_major": 2,
       "version_minor": 0
      },
      "text/plain": [
       "Validation: |          | 0/? [00:00<?, ?it/s]"
      ]
     },
     "metadata": {},
     "output_type": "display_data"
    },
    {
     "data": {
      "application/vnd.jupyter.widget-view+json": {
       "model_id": "4ad52069aa7c4f6091a6b1eb42ad37b1",
       "version_major": 2,
       "version_minor": 0
      },
      "text/plain": [
       "Validation: |          | 0/? [00:00<?, ?it/s]"
      ]
     },
     "metadata": {},
     "output_type": "display_data"
    },
    {
     "name": "stderr",
     "output_type": "stream",
     "text": [
      "Monitored metric val_loss did not improve in the last 10 records. Best score: 0.026. Signaling Trainer to stop.\n",
      "GPU available: True (cuda), used: True\n",
      "TPU available: False, using: 0 TPU cores\n",
      "HPU available: False, using: 0 HPUs\n",
      "LOCAL_RANK: 0 - CUDA_VISIBLE_DEVICES: [0]\n"
     ]
    },
    {
     "name": "stdout",
     "output_type": "stream",
     "text": [
      "Modelo carregado do checkpoint para trial 43\n"
     ]
    },
    {
     "name": "stderr",
     "output_type": "stream",
     "text": [
      "/home/eduardo/Documentos/Water-Cycle-Neural-Network/venv/lib/python3.12/site-packages/pytorch_lightning/trainer/connectors/data_connector.py:425: The 'predict_dataloader' does not have many workers which may be a bottleneck. Consider increasing the value of the `num_workers` argument` to `num_workers=11` in the `DataLoader` to improve performance.\n"
     ]
    },
    {
     "data": {
      "application/vnd.jupyter.widget-view+json": {
       "model_id": "1763e38e84754a9f889a6b045cbe653b",
       "version_major": 2,
       "version_minor": 0
      },
      "text/plain": [
       "Predicting: |          | 0/? [00:00<?, ?it/s]"
      ]
     },
     "metadata": {},
     "output_type": "display_data"
    },
    {
     "name": "stderr",
     "output_type": "stream",
     "text": [
      "[I 2025-05-14 12:56:59,412] Trial 43 finished with value: 56.87127742434819 and parameters: {'output_chunk_length': 41, 'input_chunk_length': 45, 'num_layers': 1, 'num_blocks': 4, 'num_stacks': 2, 'layer_widths': 229, 'activation': 'ReLU', 'dropout': 0.21257235206063316, 'batch_size': 39, 'lr': 0.004286353208202863, 'forecast_horizon': 18}. Best is trial 3 with value: 50.43235393618171.\n",
      "GPU available: True (cuda), used: True\n",
      "TPU available: False, using: 0 TPU cores\n",
      "HPU available: False, using: 0 HPUs\n",
      "LOCAL_RANK: 0 - CUDA_VISIBLE_DEVICES: [0]\n",
      "\n",
      "  | Name            | Type             | Params | Mode \n",
      "-------------------------------------------------------------\n",
      "0 | criterion       | HuberLoss        | 0      | train\n",
      "1 | train_criterion | HuberLoss        | 0      | train\n",
      "2 | val_criterion   | HuberLoss        | 0      | train\n",
      "3 | train_metrics   | MetricCollection | 0      | train\n",
      "4 | val_metrics     | MetricCollection | 0      | train\n",
      "5 | stacks          | ModuleList       | 844 K  | train\n",
      "-------------------------------------------------------------\n",
      "786 K     Trainable params\n",
      "58.2 K    Non-trainable params\n",
      "844 K     Total params\n",
      "3.380     Total estimated model params size (MB)\n",
      "90        Modules in train mode\n",
      "0         Modules in eval mode\n"
     ]
    },
    {
     "name": "stdout",
     "output_type": "stream",
     "text": [
      "Iniciando a verificação das séries temporais para constância...\n",
      "\n",
      "Métricas de performance:\n",
      "                                     MSE        RMSE         MAE         R2  \\\n",
      "Temperature                     6.317595    2.513483    2.311198  -0.868335   \n",
      "Precipitation_accumulated      72.480408    8.513543    6.524285 -75.170687   \n",
      "Humidity                       16.925626    4.114077    3.316490   0.740098   \n",
      "Wind_Speed_kmh                  0.194153    0.440628    0.260365   0.435842   \n",
      "Soil_Moisture              193454.338263  439.834444  377.737923   0.741332   \n",
      "Soil_Temperature                2.696752    1.642179    1.531102   0.517110   \n",
      "Wind_Dir_Sin                    0.095538    0.309093    0.229772   0.411469   \n",
      "Wind_Dir_Cos                    0.114123    0.337821    0.258277   0.606050   \n",
      "\n",
      "                                SMAPE  \n",
      "Temperature                 32.671687  \n",
      "Precipitation_accumulated    1.416175  \n",
      "Humidity                     3.954895  \n",
      "Wind_Speed_kmh             174.674154  \n",
      "Soil_Moisture                6.164062  \n",
      "Soil_Temperature            28.671201  \n",
      "Wind_Dir_Sin               155.218000  \n",
      "Wind_Dir_Cos                52.200047  \n",
      "O SMAPE desse fold foi 56.87127742434819\n",
      "Resultados do trial 43 salvos em optuna_iteration_metrics/trial_43.json\n",
      "Current value: 56.87127742434819, Current params: {'output_chunk_length': 41, 'input_chunk_length': 45, 'num_layers': 1, 'num_blocks': 4, 'num_stacks': 2, 'layer_widths': 229, 'activation': 'ReLU', 'dropout': 0.21257235206063316, 'batch_size': 39, 'lr': 0.004286353208202863, 'forecast_horizon': 18}\n",
      "Best value: 50.43235393618171, Best params: {'output_chunk_length': 27, 'input_chunk_length': 38, 'num_layers': 1, 'num_blocks': 3, 'num_stacks': 2, 'layer_widths': 85, 'activation': 'GELU', 'dropout': 0.18882539432465545, 'batch_size': 37, 'lr': 0.006016691509040486, 'forecast_horizon': 12}\n",
      "\n",
      "Iniciando Trial 44\n",
      "Hiperparâmetros: {'output_chunk_length': 12, 'input_chunk_length': 22, 'num_layers': 2, 'num_blocks': 4, 'num_stacks': 2, 'layer_widths': 146, 'activation': 'ReLU', 'dropout': 0.11848023423737282, 'batch_size': 32, 'lr': 0.0028009702019300515, 'forecast_horizon': 17}\n",
      "\n",
      "Treinando o modelo...\n",
      "Train set: 6647 samples\n",
      "Validation set: 1662 samples\n"
     ]
    },
    {
     "data": {
      "application/vnd.jupyter.widget-view+json": {
       "model_id": "a159d2b57efe4ce0ba7211e20f6fa92e",
       "version_major": 2,
       "version_minor": 0
      },
      "text/plain": [
       "Sanity Checking: |          | 0/? [00:00<?, ?it/s]"
      ]
     },
     "metadata": {},
     "output_type": "display_data"
    },
    {
     "name": "stderr",
     "output_type": "stream",
     "text": [
      "/home/eduardo/Documentos/Water-Cycle-Neural-Network/venv/lib/python3.12/site-packages/pytorch_lightning/trainer/connectors/data_connector.py:425: The 'val_dataloader' does not have many workers which may be a bottleneck. Consider increasing the value of the `num_workers` argument` to `num_workers=11` in the `DataLoader` to improve performance.\n",
      "/home/eduardo/Documentos/Water-Cycle-Neural-Network/venv/lib/python3.12/site-packages/pytorch_lightning/trainer/connectors/data_connector.py:425: The 'train_dataloader' does not have many workers which may be a bottleneck. Consider increasing the value of the `num_workers` argument` to `num_workers=11` in the `DataLoader` to improve performance.\n"
     ]
    },
    {
     "data": {
      "application/vnd.jupyter.widget-view+json": {
       "model_id": "c9ae5711ebd348fa86e1b14a32a852d9",
       "version_major": 2,
       "version_minor": 0
      },
      "text/plain": [
       "Training: |          | 0/? [00:00<?, ?it/s]"
      ]
     },
     "metadata": {},
     "output_type": "display_data"
    },
    {
     "data": {
      "application/vnd.jupyter.widget-view+json": {
       "model_id": "5ad297ff71bf40b990824df5f84bb2e8",
       "version_major": 2,
       "version_minor": 0
      },
      "text/plain": [
       "Validation: |          | 0/? [00:00<?, ?it/s]"
      ]
     },
     "metadata": {},
     "output_type": "display_data"
    },
    {
     "name": "stderr",
     "output_type": "stream",
     "text": [
      "Metric val_loss improved. New best score: 0.025\n"
     ]
    },
    {
     "data": {
      "application/vnd.jupyter.widget-view+json": {
       "model_id": "cb1b8daafcc94e31984c0f6e01fa49bc",
       "version_major": 2,
       "version_minor": 0
      },
      "text/plain": [
       "Validation: |          | 0/? [00:00<?, ?it/s]"
      ]
     },
     "metadata": {},
     "output_type": "display_data"
    },
    {
     "data": {
      "application/vnd.jupyter.widget-view+json": {
       "model_id": "7af083a5582b45229bde41ed88116a6a",
       "version_major": 2,
       "version_minor": 0
      },
      "text/plain": [
       "Validation: |          | 0/? [00:00<?, ?it/s]"
      ]
     },
     "metadata": {},
     "output_type": "display_data"
    },
    {
     "data": {
      "application/vnd.jupyter.widget-view+json": {
       "model_id": "e4f1e6316f3a471799c5c81af2c073af",
       "version_major": 2,
       "version_minor": 0
      },
      "text/plain": [
       "Validation: |          | 0/? [00:00<?, ?it/s]"
      ]
     },
     "metadata": {},
     "output_type": "display_data"
    },
    {
     "data": {
      "application/vnd.jupyter.widget-view+json": {
       "model_id": "b4c60dbb8aae4f0f863c4f54be32324b",
       "version_major": 2,
       "version_minor": 0
      },
      "text/plain": [
       "Validation: |          | 0/? [00:00<?, ?it/s]"
      ]
     },
     "metadata": {},
     "output_type": "display_data"
    },
    {
     "name": "stderr",
     "output_type": "stream",
     "text": [
      "Metric val_loss improved by 0.001 >= min_delta = 0.001. New best score: 0.024\n"
     ]
    },
    {
     "data": {
      "application/vnd.jupyter.widget-view+json": {
       "model_id": "c622f68a201b43e78c6973b0395a962a",
       "version_major": 2,
       "version_minor": 0
      },
      "text/plain": [
       "Validation: |          | 0/? [00:00<?, ?it/s]"
      ]
     },
     "metadata": {},
     "output_type": "display_data"
    },
    {
     "data": {
      "application/vnd.jupyter.widget-view+json": {
       "model_id": "32d62e74f94d414f80342a38950de7e4",
       "version_major": 2,
       "version_minor": 0
      },
      "text/plain": [
       "Validation: |          | 0/? [00:00<?, ?it/s]"
      ]
     },
     "metadata": {},
     "output_type": "display_data"
    },
    {
     "data": {
      "application/vnd.jupyter.widget-view+json": {
       "model_id": "016f3b36142b4bc09c8fb6e67f6fd4dd",
       "version_major": 2,
       "version_minor": 0
      },
      "text/plain": [
       "Validation: |          | 0/? [00:00<?, ?it/s]"
      ]
     },
     "metadata": {},
     "output_type": "display_data"
    },
    {
     "data": {
      "application/vnd.jupyter.widget-view+json": {
       "model_id": "da6dfe17aa1f4cc586f39ba79ff68e86",
       "version_major": 2,
       "version_minor": 0
      },
      "text/plain": [
       "Validation: |          | 0/? [00:00<?, ?it/s]"
      ]
     },
     "metadata": {},
     "output_type": "display_data"
    },
    {
     "data": {
      "application/vnd.jupyter.widget-view+json": {
       "model_id": "6d750e5d31cb42b687b0f922e197f2d1",
       "version_major": 2,
       "version_minor": 0
      },
      "text/plain": [
       "Validation: |          | 0/? [00:00<?, ?it/s]"
      ]
     },
     "metadata": {},
     "output_type": "display_data"
    },
    {
     "data": {
      "application/vnd.jupyter.widget-view+json": {
       "model_id": "f84f558709134a90bb21601d7ed27c2a",
       "version_major": 2,
       "version_minor": 0
      },
      "text/plain": [
       "Validation: |          | 0/? [00:00<?, ?it/s]"
      ]
     },
     "metadata": {},
     "output_type": "display_data"
    },
    {
     "data": {
      "application/vnd.jupyter.widget-view+json": {
       "model_id": "ca0f5a6cb1564d748b544b36a49553fb",
       "version_major": 2,
       "version_minor": 0
      },
      "text/plain": [
       "Validation: |          | 0/? [00:00<?, ?it/s]"
      ]
     },
     "metadata": {},
     "output_type": "display_data"
    },
    {
     "data": {
      "application/vnd.jupyter.widget-view+json": {
       "model_id": "fead9cb0aa6d4de0bbc785bd80f4f2f4",
       "version_major": 2,
       "version_minor": 0
      },
      "text/plain": [
       "Validation: |          | 0/? [00:00<?, ?it/s]"
      ]
     },
     "metadata": {},
     "output_type": "display_data"
    },
    {
     "data": {
      "application/vnd.jupyter.widget-view+json": {
       "model_id": "d4425da2004141768ff11eaff47a25cf",
       "version_major": 2,
       "version_minor": 0
      },
      "text/plain": [
       "Validation: |          | 0/? [00:00<?, ?it/s]"
      ]
     },
     "metadata": {},
     "output_type": "display_data"
    },
    {
     "data": {
      "application/vnd.jupyter.widget-view+json": {
       "model_id": "ead3f21a63e941fb9cc7007684a231b8",
       "version_major": 2,
       "version_minor": 0
      },
      "text/plain": [
       "Validation: |          | 0/? [00:00<?, ?it/s]"
      ]
     },
     "metadata": {},
     "output_type": "display_data"
    },
    {
     "name": "stderr",
     "output_type": "stream",
     "text": [
      "Monitored metric val_loss did not improve in the last 10 records. Best score: 0.024. Signaling Trainer to stop.\n",
      "`predict()` was called with `n > output_chunk_length`: using auto-regression to forecast the values after `output_chunk_length` points. The model will access `(n - output_chunk_length)` future values of your `past_covariates` (relative to the first predicted time step). To hide this warning, set `show_warnings=False`.\n",
      "GPU available: True (cuda), used: True\n",
      "TPU available: False, using: 0 TPU cores\n",
      "HPU available: False, using: 0 HPUs\n",
      "LOCAL_RANK: 0 - CUDA_VISIBLE_DEVICES: [0]\n"
     ]
    },
    {
     "name": "stdout",
     "output_type": "stream",
     "text": [
      "Modelo carregado do checkpoint para trial 44\n"
     ]
    },
    {
     "name": "stderr",
     "output_type": "stream",
     "text": [
      "/home/eduardo/Documentos/Water-Cycle-Neural-Network/venv/lib/python3.12/site-packages/pytorch_lightning/trainer/connectors/data_connector.py:425: The 'predict_dataloader' does not have many workers which may be a bottleneck. Consider increasing the value of the `num_workers` argument` to `num_workers=11` in the `DataLoader` to improve performance.\n"
     ]
    },
    {
     "data": {
      "application/vnd.jupyter.widget-view+json": {
       "model_id": "d26f57b6673c47049f8c44f21a898f6b",
       "version_major": 2,
       "version_minor": 0
      },
      "text/plain": [
       "Predicting: |          | 0/? [00:00<?, ?it/s]"
      ]
     },
     "metadata": {},
     "output_type": "display_data"
    },
    {
     "name": "stderr",
     "output_type": "stream",
     "text": [
      "[I 2025-05-14 12:57:34,326] Trial 44 finished with value: 50.66696239694147 and parameters: {'output_chunk_length': 12, 'input_chunk_length': 22, 'num_layers': 2, 'num_blocks': 4, 'num_stacks': 2, 'layer_widths': 146, 'activation': 'ReLU', 'dropout': 0.11848023423737282, 'batch_size': 32, 'lr': 0.0028009702019300515, 'forecast_horizon': 17}. Best is trial 3 with value: 50.43235393618171.\n",
      "GPU available: True (cuda), used: True\n",
      "TPU available: False, using: 0 TPU cores\n",
      "HPU available: False, using: 0 HPUs\n",
      "LOCAL_RANK: 0 - CUDA_VISIBLE_DEVICES: [0]\n",
      "\n",
      "  | Name            | Type             | Params | Mode \n",
      "-------------------------------------------------------------\n",
      "0 | criterion       | HuberLoss        | 0      | train\n",
      "1 | train_criterion | HuberLoss        | 0      | train\n",
      "2 | val_criterion   | HuberLoss        | 0      | train\n",
      "3 | train_metrics   | MetricCollection | 0      | train\n",
      "4 | val_metrics     | MetricCollection | 0      | train\n",
      "5 | stacks          | ModuleList       | 117 K  | train\n",
      "-------------------------------------------------------------\n",
      "104 K     Trainable params\n",
      "13.4 K    Non-trainable params\n",
      "117 K     Total params\n",
      "0.470     Total estimated model params size (MB)\n",
      "40        Modules in train mode\n",
      "0         Modules in eval mode\n"
     ]
    },
    {
     "name": "stdout",
     "output_type": "stream",
     "text": [
      "Iniciando a verificação das séries temporais para constância...\n",
      "\n",
      "Métricas de performance:\n",
      "                                     MSE        RMSE         MAE          R2  \\\n",
      "Temperature                     1.181261    1.086858    0.869696    0.650916   \n",
      "Precipitation_accumulated     103.196026   10.158544    7.632612 -107.466780   \n",
      "Humidity                       16.270671    4.033692    2.858660    0.750152   \n",
      "Wind_Speed_kmh                  0.157533    0.396905    0.146689    0.541926   \n",
      "Soil_Moisture              116735.065836  341.665137  140.314680    0.843810   \n",
      "Soil_Temperature                1.075218    1.036927    0.764772    0.807544   \n",
      "Wind_Dir_Sin                    0.097469    0.312199    0.176049    0.399179   \n",
      "Wind_Dir_Cos                    0.116176    0.340846    0.196137    0.598738   \n",
      "\n",
      "                                SMAPE  \n",
      "Temperature                 14.901703  \n",
      "Precipitation_accumulated    1.667274  \n",
      "Humidity                     3.440640  \n",
      "Wind_Speed_kmh             163.231135  \n",
      "Soil_Moisture                2.201132  \n",
      "Soil_Temperature            18.073927  \n",
      "Wind_Dir_Sin               157.690974  \n",
      "Wind_Dir_Cos                44.128914  \n",
      "O SMAPE desse fold foi 50.66696239694147\n",
      "Resultados do trial 44 salvos em optuna_iteration_metrics/trial_44.json\n",
      "Current value: 50.66696239694147, Current params: {'output_chunk_length': 12, 'input_chunk_length': 22, 'num_layers': 2, 'num_blocks': 4, 'num_stacks': 2, 'layer_widths': 146, 'activation': 'ReLU', 'dropout': 0.11848023423737282, 'batch_size': 32, 'lr': 0.0028009702019300515, 'forecast_horizon': 17}\n",
      "Best value: 50.43235393618171, Best params: {'output_chunk_length': 27, 'input_chunk_length': 38, 'num_layers': 1, 'num_blocks': 3, 'num_stacks': 2, 'layer_widths': 85, 'activation': 'GELU', 'dropout': 0.18882539432465545, 'batch_size': 37, 'lr': 0.006016691509040486, 'forecast_horizon': 12}\n",
      "\n",
      "Iniciando Trial 45\n",
      "Hiperparâmetros: {'output_chunk_length': 12, 'input_chunk_length': 21, 'num_layers': 1, 'num_blocks': 4, 'num_stacks': 1, 'layer_widths': 212, 'activation': 'ReLU', 'dropout': 0.11262807222025778, 'batch_size': 33, 'lr': 0.0029078023490999305, 'forecast_horizon': 17}\n",
      "\n",
      "Treinando o modelo...\n",
      "Train set: 6647 samples\n",
      "Validation set: 1662 samples\n"
     ]
    },
    {
     "data": {
      "application/vnd.jupyter.widget-view+json": {
       "model_id": "04e37499fc724335ad98dcf8aa24ea24",
       "version_major": 2,
       "version_minor": 0
      },
      "text/plain": [
       "Sanity Checking: |          | 0/? [00:00<?, ?it/s]"
      ]
     },
     "metadata": {},
     "output_type": "display_data"
    },
    {
     "name": "stderr",
     "output_type": "stream",
     "text": [
      "/home/eduardo/Documentos/Water-Cycle-Neural-Network/venv/lib/python3.12/site-packages/pytorch_lightning/trainer/connectors/data_connector.py:425: The 'val_dataloader' does not have many workers which may be a bottleneck. Consider increasing the value of the `num_workers` argument` to `num_workers=11` in the `DataLoader` to improve performance.\n",
      "/home/eduardo/Documentos/Water-Cycle-Neural-Network/venv/lib/python3.12/site-packages/pytorch_lightning/trainer/connectors/data_connector.py:425: The 'train_dataloader' does not have many workers which may be a bottleneck. Consider increasing the value of the `num_workers` argument` to `num_workers=11` in the `DataLoader` to improve performance.\n"
     ]
    },
    {
     "data": {
      "application/vnd.jupyter.widget-view+json": {
       "model_id": "00e70e7305d547458001caee8b5fbf9b",
       "version_major": 2,
       "version_minor": 0
      },
      "text/plain": [
       "Training: |          | 0/? [00:00<?, ?it/s]"
      ]
     },
     "metadata": {},
     "output_type": "display_data"
    },
    {
     "data": {
      "application/vnd.jupyter.widget-view+json": {
       "model_id": "7f6e776e23e44d7193a343641887b481",
       "version_major": 2,
       "version_minor": 0
      },
      "text/plain": [
       "Validation: |          | 0/? [00:00<?, ?it/s]"
      ]
     },
     "metadata": {},
     "output_type": "display_data"
    },
    {
     "name": "stderr",
     "output_type": "stream",
     "text": [
      "Metric val_loss improved. New best score: 0.063\n"
     ]
    },
    {
     "data": {
      "application/vnd.jupyter.widget-view+json": {
       "model_id": "cbf670bd4b4f42d198b67cd416c75b15",
       "version_major": 2,
       "version_minor": 0
      },
      "text/plain": [
       "Validation: |          | 0/? [00:00<?, ?it/s]"
      ]
     },
     "metadata": {},
     "output_type": "display_data"
    },
    {
     "name": "stderr",
     "output_type": "stream",
     "text": [
      "Metric val_loss improved by 0.001 >= min_delta = 0.001. New best score: 0.061\n"
     ]
    },
    {
     "data": {
      "application/vnd.jupyter.widget-view+json": {
       "model_id": "671d144f21734008bd470d52c3a9c36d",
       "version_major": 2,
       "version_minor": 0
      },
      "text/plain": [
       "Validation: |          | 0/? [00:00<?, ?it/s]"
      ]
     },
     "metadata": {},
     "output_type": "display_data"
    },
    {
     "data": {
      "application/vnd.jupyter.widget-view+json": {
       "model_id": "2c68e7a06415467e8f8cecb307435962",
       "version_major": 2,
       "version_minor": 0
      },
      "text/plain": [
       "Validation: |          | 0/? [00:00<?, ?it/s]"
      ]
     },
     "metadata": {},
     "output_type": "display_data"
    },
    {
     "data": {
      "application/vnd.jupyter.widget-view+json": {
       "model_id": "1d186310138f4ded8573d0077cb8d01a",
       "version_major": 2,
       "version_minor": 0
      },
      "text/plain": [
       "Validation: |          | 0/? [00:00<?, ?it/s]"
      ]
     },
     "metadata": {},
     "output_type": "display_data"
    },
    {
     "data": {
      "application/vnd.jupyter.widget-view+json": {
       "model_id": "c0df77e7bbf04052bec2d6ba21f69052",
       "version_major": 2,
       "version_minor": 0
      },
      "text/plain": [
       "Validation: |          | 0/? [00:00<?, ?it/s]"
      ]
     },
     "metadata": {},
     "output_type": "display_data"
    },
    {
     "data": {
      "application/vnd.jupyter.widget-view+json": {
       "model_id": "879ada9baffa49a9bcb9a37a1bc5fcdd",
       "version_major": 2,
       "version_minor": 0
      },
      "text/plain": [
       "Validation: |          | 0/? [00:00<?, ?it/s]"
      ]
     },
     "metadata": {},
     "output_type": "display_data"
    },
    {
     "data": {
      "application/vnd.jupyter.widget-view+json": {
       "model_id": "e602148f5c62451eb0f65c9c7bd52a03",
       "version_major": 2,
       "version_minor": 0
      },
      "text/plain": [
       "Validation: |          | 0/? [00:00<?, ?it/s]"
      ]
     },
     "metadata": {},
     "output_type": "display_data"
    },
    {
     "data": {
      "application/vnd.jupyter.widget-view+json": {
       "model_id": "ebecf33ef74c4fda8a81888d59dbf75e",
       "version_major": 2,
       "version_minor": 0
      },
      "text/plain": [
       "Validation: |          | 0/? [00:00<?, ?it/s]"
      ]
     },
     "metadata": {},
     "output_type": "display_data"
    },
    {
     "data": {
      "application/vnd.jupyter.widget-view+json": {
       "model_id": "5dd109f766ad45c1adfbf15ba5d06bb8",
       "version_major": 2,
       "version_minor": 0
      },
      "text/plain": [
       "Validation: |          | 0/? [00:00<?, ?it/s]"
      ]
     },
     "metadata": {},
     "output_type": "display_data"
    },
    {
     "data": {
      "application/vnd.jupyter.widget-view+json": {
       "model_id": "409cc1a8c36d419ab1d3828a6d4fc6b2",
       "version_major": 2,
       "version_minor": 0
      },
      "text/plain": [
       "Validation: |          | 0/? [00:00<?, ?it/s]"
      ]
     },
     "metadata": {},
     "output_type": "display_data"
    },
    {
     "data": {
      "application/vnd.jupyter.widget-view+json": {
       "model_id": "9cff93288021454c9e736e540e038037",
       "version_major": 2,
       "version_minor": 0
      },
      "text/plain": [
       "Validation: |          | 0/? [00:00<?, ?it/s]"
      ]
     },
     "metadata": {},
     "output_type": "display_data"
    },
    {
     "name": "stderr",
     "output_type": "stream",
     "text": [
      "Monitored metric val_loss did not improve in the last 10 records. Best score: 0.061. Signaling Trainer to stop.\n",
      "`predict()` was called with `n > output_chunk_length`: using auto-regression to forecast the values after `output_chunk_length` points. The model will access `(n - output_chunk_length)` future values of your `past_covariates` (relative to the first predicted time step). To hide this warning, set `show_warnings=False`.\n",
      "GPU available: True (cuda), used: True\n",
      "TPU available: False, using: 0 TPU cores\n",
      "HPU available: False, using: 0 HPUs\n",
      "LOCAL_RANK: 0 - CUDA_VISIBLE_DEVICES: [0]\n"
     ]
    },
    {
     "name": "stdout",
     "output_type": "stream",
     "text": [
      "Modelo carregado do checkpoint para trial 45\n"
     ]
    },
    {
     "name": "stderr",
     "output_type": "stream",
     "text": [
      "/home/eduardo/Documentos/Water-Cycle-Neural-Network/venv/lib/python3.12/site-packages/pytorch_lightning/trainer/connectors/data_connector.py:425: The 'predict_dataloader' does not have many workers which may be a bottleneck. Consider increasing the value of the `num_workers` argument` to `num_workers=11` in the `DataLoader` to improve performance.\n"
     ]
    },
    {
     "data": {
      "application/vnd.jupyter.widget-view+json": {
       "model_id": "5798052b313b4d61aef06a3b9c6c9565",
       "version_major": 2,
       "version_minor": 0
      },
      "text/plain": [
       "Predicting: |          | 0/? [00:00<?, ?it/s]"
      ]
     },
     "metadata": {},
     "output_type": "display_data"
    },
    {
     "name": "stderr",
     "output_type": "stream",
     "text": [
      "[I 2025-05-14 12:57:51,830] Trial 45 finished with value: 112.22077382930655 and parameters: {'output_chunk_length': 12, 'input_chunk_length': 21, 'num_layers': 1, 'num_blocks': 4, 'num_stacks': 1, 'layer_widths': 212, 'activation': 'ReLU', 'dropout': 0.11262807222025778, 'batch_size': 33, 'lr': 0.0029078023490999305, 'forecast_horizon': 17}. Best is trial 3 with value: 50.43235393618171.\n",
      "GPU available: True (cuda), used: True\n",
      "TPU available: False, using: 0 TPU cores\n",
      "HPU available: False, using: 0 HPUs\n",
      "LOCAL_RANK: 0 - CUDA_VISIBLE_DEVICES: [0]\n",
      "\n",
      "  | Name            | Type             | Params | Mode \n",
      "-------------------------------------------------------------\n",
      "0 | criterion       | HuberLoss        | 0      | train\n",
      "1 | train_criterion | HuberLoss        | 0      | train\n",
      "2 | val_criterion   | HuberLoss        | 0      | train\n",
      "3 | train_metrics   | MetricCollection | 0      | train\n",
      "4 | val_metrics     | MetricCollection | 0      | train\n",
      "5 | stacks          | ModuleList       | 1.1 M  | train\n",
      "-------------------------------------------------------------\n",
      "985 K     Trainable params\n",
      "65.8 K    Non-trainable params\n",
      "1.1 M     Total params\n",
      "4.206     Total estimated model params size (MB)\n",
      "90        Modules in train mode\n",
      "0         Modules in eval mode\n"
     ]
    },
    {
     "name": "stdout",
     "output_type": "stream",
     "text": [
      "Iniciando a verificação das séries temporais para constância...\n",
      "\n",
      "Métricas de performance:\n",
      "                                    MSE         RMSE          MAE  \\\n",
      "Temperature                1.281766e+02    11.321511    11.235000   \n",
      "Precipitation_accumulated  8.094939e+04   284.516055   284.229079   \n",
      "Humidity                   1.781775e+03    42.211074    41.767562   \n",
      "Wind_Speed_kmh             4.035010e+00     2.008733     1.958196   \n",
      "Soil_Moisture              1.415471e+06  1189.735613  1170.439672   \n",
      "Soil_Temperature           2.035654e+02    14.267635    14.103919   \n",
      "Wind_Dir_Sin               2.037658e-01     0.451404     0.243776   \n",
      "Wind_Dir_Cos               6.164658e-01     0.785153     0.746629   \n",
      "\n",
      "                                     R2       SMAPE  \n",
      "Temperature                  -36.878508   94.698845  \n",
      "Precipitation_accumulated -85082.888861   89.666367  \n",
      "Humidity                     -26.360443   66.716841  \n",
      "Wind_Speed_kmh               -10.732958  186.011440  \n",
      "Soil_Moisture                 -0.893876   18.152475  \n",
      "Soil_Temperature             -35.436627  104.924412  \n",
      "Wind_Dir_Sin                  -0.256065  187.040231  \n",
      "Wind_Dir_Cos                  -1.129224  150.555581  \n",
      "O SMAPE desse fold foi 112.22077382930655\n",
      "Resultados do trial 45 salvos em optuna_iteration_metrics/trial_45.json\n",
      "Current value: 112.22077382930655, Current params: {'output_chunk_length': 12, 'input_chunk_length': 21, 'num_layers': 1, 'num_blocks': 4, 'num_stacks': 1, 'layer_widths': 212, 'activation': 'ReLU', 'dropout': 0.11262807222025778, 'batch_size': 33, 'lr': 0.0029078023490999305, 'forecast_horizon': 17}\n",
      "Best value: 50.43235393618171, Best params: {'output_chunk_length': 27, 'input_chunk_length': 38, 'num_layers': 1, 'num_blocks': 3, 'num_stacks': 2, 'layer_widths': 85, 'activation': 'GELU', 'dropout': 0.18882539432465545, 'batch_size': 37, 'lr': 0.006016691509040486, 'forecast_horizon': 12}\n",
      "\n",
      "Iniciando Trial 46\n",
      "Hiperparâmetros: {'output_chunk_length': 16, 'input_chunk_length': 21, 'num_layers': 2, 'num_blocks': 4, 'num_stacks': 2, 'layer_widths': 173, 'activation': 'ReLU', 'dropout': 0.007839080267648513, 'batch_size': 29, 'lr': 0.007964705377884603, 'forecast_horizon': 19}\n",
      "\n",
      "Treinando o modelo...\n",
      "Train set: 6647 samples\n",
      "Validation set: 1662 samples\n"
     ]
    },
    {
     "data": {
      "application/vnd.jupyter.widget-view+json": {
       "model_id": "77a62827d7554cff8e90417ece4d654c",
       "version_major": 2,
       "version_minor": 0
      },
      "text/plain": [
       "Sanity Checking: |          | 0/? [00:00<?, ?it/s]"
      ]
     },
     "metadata": {},
     "output_type": "display_data"
    },
    {
     "name": "stderr",
     "output_type": "stream",
     "text": [
      "/home/eduardo/Documentos/Water-Cycle-Neural-Network/venv/lib/python3.12/site-packages/pytorch_lightning/trainer/connectors/data_connector.py:425: The 'val_dataloader' does not have many workers which may be a bottleneck. Consider increasing the value of the `num_workers` argument` to `num_workers=11` in the `DataLoader` to improve performance.\n",
      "/home/eduardo/Documentos/Water-Cycle-Neural-Network/venv/lib/python3.12/site-packages/pytorch_lightning/trainer/connectors/data_connector.py:425: The 'train_dataloader' does not have many workers which may be a bottleneck. Consider increasing the value of the `num_workers` argument` to `num_workers=11` in the `DataLoader` to improve performance.\n"
     ]
    },
    {
     "data": {
      "application/vnd.jupyter.widget-view+json": {
       "model_id": "870d2feeb93947d58e6c5622dec308f1",
       "version_major": 2,
       "version_minor": 0
      },
      "text/plain": [
       "Training: |          | 0/? [00:00<?, ?it/s]"
      ]
     },
     "metadata": {},
     "output_type": "display_data"
    },
    {
     "data": {
      "application/vnd.jupyter.widget-view+json": {
       "model_id": "6a94e2fe5dc344d58c08398788daf03b",
       "version_major": 2,
       "version_minor": 0
      },
      "text/plain": [
       "Validation: |          | 0/? [00:00<?, ?it/s]"
      ]
     },
     "metadata": {},
     "output_type": "display_data"
    },
    {
     "name": "stderr",
     "output_type": "stream",
     "text": [
      "Metric val_loss improved. New best score: 0.031\n"
     ]
    },
    {
     "data": {
      "application/vnd.jupyter.widget-view+json": {
       "model_id": "ba015201ca74437d8a5e78282b42fb8c",
       "version_major": 2,
       "version_minor": 0
      },
      "text/plain": [
       "Validation: |          | 0/? [00:00<?, ?it/s]"
      ]
     },
     "metadata": {},
     "output_type": "display_data"
    },
    {
     "data": {
      "application/vnd.jupyter.widget-view+json": {
       "model_id": "8ffacbb9a2ec4be78e23c315068b96a3",
       "version_major": 2,
       "version_minor": 0
      },
      "text/plain": [
       "Validation: |          | 0/? [00:00<?, ?it/s]"
      ]
     },
     "metadata": {},
     "output_type": "display_data"
    },
    {
     "name": "stderr",
     "output_type": "stream",
     "text": [
      "Metric val_loss improved by 0.002 >= min_delta = 0.001. New best score: 0.029\n"
     ]
    },
    {
     "data": {
      "application/vnd.jupyter.widget-view+json": {
       "model_id": "0bfe188ba727479c8a6df9824f86f017",
       "version_major": 2,
       "version_minor": 0
      },
      "text/plain": [
       "Validation: |          | 0/? [00:00<?, ?it/s]"
      ]
     },
     "metadata": {},
     "output_type": "display_data"
    },
    {
     "data": {
      "application/vnd.jupyter.widget-view+json": {
       "model_id": "09372cd4e5d44dad926237ebacacf63d",
       "version_major": 2,
       "version_minor": 0
      },
      "text/plain": [
       "Validation: |          | 0/? [00:00<?, ?it/s]"
      ]
     },
     "metadata": {},
     "output_type": "display_data"
    },
    {
     "data": {
      "application/vnd.jupyter.widget-view+json": {
       "model_id": "a424ba6ea5764d7d8fa6dab7658019f5",
       "version_major": 2,
       "version_minor": 0
      },
      "text/plain": [
       "Validation: |          | 0/? [00:00<?, ?it/s]"
      ]
     },
     "metadata": {},
     "output_type": "display_data"
    },
    {
     "data": {
      "application/vnd.jupyter.widget-view+json": {
       "model_id": "a80bfcc844bd4ddbbcf1138f0fa34a9d",
       "version_major": 2,
       "version_minor": 0
      },
      "text/plain": [
       "Validation: |          | 0/? [00:00<?, ?it/s]"
      ]
     },
     "metadata": {},
     "output_type": "display_data"
    },
    {
     "name": "stderr",
     "output_type": "stream",
     "text": [
      "Metric val_loss improved by 0.002 >= min_delta = 0.001. New best score: 0.027\n"
     ]
    },
    {
     "data": {
      "application/vnd.jupyter.widget-view+json": {
       "model_id": "9907575130ae4d7db1711218254d3246",
       "version_major": 2,
       "version_minor": 0
      },
      "text/plain": [
       "Validation: |          | 0/? [00:00<?, ?it/s]"
      ]
     },
     "metadata": {},
     "output_type": "display_data"
    },
    {
     "data": {
      "application/vnd.jupyter.widget-view+json": {
       "model_id": "6821bd214ad7467b8edfef3eb6cc9591",
       "version_major": 2,
       "version_minor": 0
      },
      "text/plain": [
       "Validation: |          | 0/? [00:00<?, ?it/s]"
      ]
     },
     "metadata": {},
     "output_type": "display_data"
    },
    {
     "data": {
      "application/vnd.jupyter.widget-view+json": {
       "model_id": "048f7fe5276544f68ad6afb87f06b73f",
       "version_major": 2,
       "version_minor": 0
      },
      "text/plain": [
       "Validation: |          | 0/? [00:00<?, ?it/s]"
      ]
     },
     "metadata": {},
     "output_type": "display_data"
    },
    {
     "data": {
      "application/vnd.jupyter.widget-view+json": {
       "model_id": "e174fb9a134f4038acf2302fb0ebbc3f",
       "version_major": 2,
       "version_minor": 0
      },
      "text/plain": [
       "Validation: |          | 0/? [00:00<?, ?it/s]"
      ]
     },
     "metadata": {},
     "output_type": "display_data"
    },
    {
     "name": "stderr",
     "output_type": "stream",
     "text": [
      "Metric val_loss improved by 0.002 >= min_delta = 0.001. New best score: 0.025\n"
     ]
    },
    {
     "data": {
      "application/vnd.jupyter.widget-view+json": {
       "model_id": "456fa2d4299d439b9444b9d0ae6022c6",
       "version_major": 2,
       "version_minor": 0
      },
      "text/plain": [
       "Validation: |          | 0/? [00:00<?, ?it/s]"
      ]
     },
     "metadata": {},
     "output_type": "display_data"
    },
    {
     "data": {
      "application/vnd.jupyter.widget-view+json": {
       "model_id": "3e14310b8f9c40d0b9b48ff0c25b04e2",
       "version_major": 2,
       "version_minor": 0
      },
      "text/plain": [
       "Validation: |          | 0/? [00:00<?, ?it/s]"
      ]
     },
     "metadata": {},
     "output_type": "display_data"
    },
    {
     "data": {
      "application/vnd.jupyter.widget-view+json": {
       "model_id": "22d1ee1d94784f7695844f43425197f5",
       "version_major": 2,
       "version_minor": 0
      },
      "text/plain": [
       "Validation: |          | 0/? [00:00<?, ?it/s]"
      ]
     },
     "metadata": {},
     "output_type": "display_data"
    },
    {
     "data": {
      "application/vnd.jupyter.widget-view+json": {
       "model_id": "d04a68573f434be997ebfb391fc6e57d",
       "version_major": 2,
       "version_minor": 0
      },
      "text/plain": [
       "Validation: |          | 0/? [00:00<?, ?it/s]"
      ]
     },
     "metadata": {},
     "output_type": "display_data"
    },
    {
     "data": {
      "application/vnd.jupyter.widget-view+json": {
       "model_id": "93c15a2f55474f26959ef1b4773cdee7",
       "version_major": 2,
       "version_minor": 0
      },
      "text/plain": [
       "Validation: |          | 0/? [00:00<?, ?it/s]"
      ]
     },
     "metadata": {},
     "output_type": "display_data"
    },
    {
     "data": {
      "application/vnd.jupyter.widget-view+json": {
       "model_id": "6eac08461b4e43ebb51a9ea300694d07",
       "version_major": 2,
       "version_minor": 0
      },
      "text/plain": [
       "Validation: |          | 0/? [00:00<?, ?it/s]"
      ]
     },
     "metadata": {},
     "output_type": "display_data"
    },
    {
     "data": {
      "application/vnd.jupyter.widget-view+json": {
       "model_id": "fd37dd2e89c54506b6e6bdceec784683",
       "version_major": 2,
       "version_minor": 0
      },
      "text/plain": [
       "Validation: |          | 0/? [00:00<?, ?it/s]"
      ]
     },
     "metadata": {},
     "output_type": "display_data"
    },
    {
     "data": {
      "application/vnd.jupyter.widget-view+json": {
       "model_id": "17ca4197da6147009122a884e511a556",
       "version_major": 2,
       "version_minor": 0
      },
      "text/plain": [
       "Validation: |          | 0/? [00:00<?, ?it/s]"
      ]
     },
     "metadata": {},
     "output_type": "display_data"
    },
    {
     "data": {
      "application/vnd.jupyter.widget-view+json": {
       "model_id": "c67401dfba3f4cdbaa3e13d079698713",
       "version_major": 2,
       "version_minor": 0
      },
      "text/plain": [
       "Validation: |          | 0/? [00:00<?, ?it/s]"
      ]
     },
     "metadata": {},
     "output_type": "display_data"
    },
    {
     "data": {
      "application/vnd.jupyter.widget-view+json": {
       "model_id": "392ff2b903f1474db48c7a70c25057ea",
       "version_major": 2,
       "version_minor": 0
      },
      "text/plain": [
       "Validation: |          | 0/? [00:00<?, ?it/s]"
      ]
     },
     "metadata": {},
     "output_type": "display_data"
    },
    {
     "name": "stderr",
     "output_type": "stream",
     "text": [
      "Monitored metric val_loss did not improve in the last 10 records. Best score: 0.025. Signaling Trainer to stop.\n",
      "`predict()` was called with `n > output_chunk_length`: using auto-regression to forecast the values after `output_chunk_length` points. The model will access `(n - output_chunk_length)` future values of your `past_covariates` (relative to the first predicted time step). To hide this warning, set `show_warnings=False`.\n",
      "GPU available: True (cuda), used: True\n",
      "TPU available: False, using: 0 TPU cores\n",
      "HPU available: False, using: 0 HPUs\n",
      "LOCAL_RANK: 0 - CUDA_VISIBLE_DEVICES: [0]\n"
     ]
    },
    {
     "name": "stdout",
     "output_type": "stream",
     "text": [
      "Modelo carregado do checkpoint para trial 46\n"
     ]
    },
    {
     "name": "stderr",
     "output_type": "stream",
     "text": [
      "/home/eduardo/Documentos/Water-Cycle-Neural-Network/venv/lib/python3.12/site-packages/pytorch_lightning/trainer/connectors/data_connector.py:425: The 'predict_dataloader' does not have many workers which may be a bottleneck. Consider increasing the value of the `num_workers` argument` to `num_workers=11` in the `DataLoader` to improve performance.\n"
     ]
    },
    {
     "data": {
      "application/vnd.jupyter.widget-view+json": {
       "model_id": "0475673889db4d268c88a4cf302926b4",
       "version_major": 2,
       "version_minor": 0
      },
      "text/plain": [
       "Predicting: |          | 0/? [00:00<?, ?it/s]"
      ]
     },
     "metadata": {},
     "output_type": "display_data"
    },
    {
     "name": "stderr",
     "output_type": "stream",
     "text": [
      "[I 2025-05-14 12:58:45,129] Trial 46 finished with value: 52.44102626007107 and parameters: {'output_chunk_length': 16, 'input_chunk_length': 21, 'num_layers': 2, 'num_blocks': 4, 'num_stacks': 2, 'layer_widths': 173, 'activation': 'ReLU', 'dropout': 0.007839080267648513, 'batch_size': 29, 'lr': 0.007964705377884603, 'forecast_horizon': 19}. Best is trial 3 with value: 50.43235393618171.\n",
      "GPU available: True (cuda), used: True\n",
      "TPU available: False, using: 0 TPU cores\n",
      "HPU available: False, using: 0 HPUs\n",
      "LOCAL_RANK: 0 - CUDA_VISIBLE_DEVICES: [0]\n",
      "\n",
      "  | Name            | Type             | Params | Mode \n",
      "-------------------------------------------------------------\n",
      "0 | criterion       | HuberLoss        | 0      | train\n",
      "1 | train_criterion | HuberLoss        | 0      | train\n",
      "2 | val_criterion   | HuberLoss        | 0      | train\n",
      "3 | train_metrics   | MetricCollection | 0      | train\n",
      "4 | val_metrics     | MetricCollection | 0      | train\n",
      "5 | stacks          | ModuleList       | 3.9 M  | train\n",
      "-------------------------------------------------------------\n",
      "3.7 M     Trainable params\n",
      "179 K     Non-trainable params\n",
      "3.9 M     Total params\n",
      "15.412    Total estimated model params size (MB)\n",
      "176       Modules in train mode\n",
      "0         Modules in eval mode\n"
     ]
    },
    {
     "name": "stdout",
     "output_type": "stream",
     "text": [
      "Iniciando a verificação das séries temporais para constância...\n",
      "\n",
      "Métricas de performance:\n",
      "                                     MSE        RMSE         MAE          R2  \\\n",
      "Temperature                     1.776081    1.332697    0.996931    0.474395   \n",
      "Precipitation_accumulated     264.941219   16.277015   12.470642 -277.388029   \n",
      "Humidity                       21.258454    4.610689    3.028787    0.673546   \n",
      "Wind_Speed_kmh                  0.201689    0.449098    0.253918    0.414356   \n",
      "Soil_Moisture              148667.789341  385.574622  196.338011    0.801347   \n",
      "Soil_Temperature                2.095308    1.447518    0.727007    0.624669   \n",
      "Wind_Dir_Sin                    0.109261    0.330546    0.211835    0.327388   \n",
      "Wind_Dir_Cos                    0.153071    0.391242    0.285942    0.471903   \n",
      "\n",
      "                                SMAPE  \n",
      "Temperature                 16.257766  \n",
      "Precipitation_accumulated    2.744332  \n",
      "Humidity                     3.640867  \n",
      "Wind_Speed_kmh             163.899459  \n",
      "Soil_Moisture                3.060945  \n",
      "Soil_Temperature            19.392855  \n",
      "Wind_Dir_Sin               157.735297  \n",
      "Wind_Dir_Cos                52.796689  \n",
      "O SMAPE desse fold foi 52.44102626007107\n",
      "Resultados do trial 46 salvos em optuna_iteration_metrics/trial_46.json\n",
      "Current value: 52.44102626007107, Current params: {'output_chunk_length': 16, 'input_chunk_length': 21, 'num_layers': 2, 'num_blocks': 4, 'num_stacks': 2, 'layer_widths': 173, 'activation': 'ReLU', 'dropout': 0.007839080267648513, 'batch_size': 29, 'lr': 0.007964705377884603, 'forecast_horizon': 19}\n",
      "Best value: 50.43235393618171, Best params: {'output_chunk_length': 27, 'input_chunk_length': 38, 'num_layers': 1, 'num_blocks': 3, 'num_stacks': 2, 'layer_widths': 85, 'activation': 'GELU', 'dropout': 0.18882539432465545, 'batch_size': 37, 'lr': 0.006016691509040486, 'forecast_horizon': 12}\n",
      "\n",
      "Iniciando Trial 47\n",
      "Hiperparâmetros: {'output_chunk_length': 45, 'input_chunk_length': 52, 'num_layers': 1, 'num_blocks': 4, 'num_stacks': 5, 'layer_widths': 191, 'activation': 'ReLU', 'dropout': 0.1664798552508094, 'batch_size': 32, 'lr': 0.002635431147380802, 'forecast_horizon': 17}\n",
      "\n",
      "Treinando o modelo...\n",
      "Train set: 6647 samples\n",
      "Validation set: 1662 samples\n"
     ]
    },
    {
     "data": {
      "application/vnd.jupyter.widget-view+json": {
       "model_id": "095b7dee246544d8a993335233b46a5f",
       "version_major": 2,
       "version_minor": 0
      },
      "text/plain": [
       "Sanity Checking: |          | 0/? [00:00<?, ?it/s]"
      ]
     },
     "metadata": {},
     "output_type": "display_data"
    },
    {
     "name": "stderr",
     "output_type": "stream",
     "text": [
      "/home/eduardo/Documentos/Water-Cycle-Neural-Network/venv/lib/python3.12/site-packages/pytorch_lightning/trainer/connectors/data_connector.py:425: The 'val_dataloader' does not have many workers which may be a bottleneck. Consider increasing the value of the `num_workers` argument` to `num_workers=11` in the `DataLoader` to improve performance.\n",
      "/home/eduardo/Documentos/Water-Cycle-Neural-Network/venv/lib/python3.12/site-packages/pytorch_lightning/trainer/connectors/data_connector.py:425: The 'train_dataloader' does not have many workers which may be a bottleneck. Consider increasing the value of the `num_workers` argument` to `num_workers=11` in the `DataLoader` to improve performance.\n"
     ]
    },
    {
     "data": {
      "application/vnd.jupyter.widget-view+json": {
       "model_id": "5a45eef1c3af4701ae0b2bc689844ced",
       "version_major": 2,
       "version_minor": 0
      },
      "text/plain": [
       "Training: |          | 0/? [00:00<?, ?it/s]"
      ]
     },
     "metadata": {},
     "output_type": "display_data"
    },
    {
     "data": {
      "application/vnd.jupyter.widget-view+json": {
       "model_id": "5466644bb46543c7b739c312a8ad2d98",
       "version_major": 2,
       "version_minor": 0
      },
      "text/plain": [
       "Validation: |          | 0/? [00:00<?, ?it/s]"
      ]
     },
     "metadata": {},
     "output_type": "display_data"
    },
    {
     "name": "stderr",
     "output_type": "stream",
     "text": [
      "Metric val_loss improved. New best score: 0.025\n"
     ]
    },
    {
     "data": {
      "application/vnd.jupyter.widget-view+json": {
       "model_id": "3363153135054f94ae503e568b2a8c79",
       "version_major": 2,
       "version_minor": 0
      },
      "text/plain": [
       "Validation: |          | 0/? [00:00<?, ?it/s]"
      ]
     },
     "metadata": {},
     "output_type": "display_data"
    },
    {
     "data": {
      "application/vnd.jupyter.widget-view+json": {
       "model_id": "bcd35d64f7e4481b91a23636b8cd6385",
       "version_major": 2,
       "version_minor": 0
      },
      "text/plain": [
       "Validation: |          | 0/? [00:00<?, ?it/s]"
      ]
     },
     "metadata": {},
     "output_type": "display_data"
    },
    {
     "data": {
      "application/vnd.jupyter.widget-view+json": {
       "model_id": "5d841c381e954571901669907c64ae2f",
       "version_major": 2,
       "version_minor": 0
      },
      "text/plain": [
       "Validation: |          | 0/? [00:00<?, ?it/s]"
      ]
     },
     "metadata": {},
     "output_type": "display_data"
    },
    {
     "data": {
      "application/vnd.jupyter.widget-view+json": {
       "model_id": "e22289033a164bd98801aef35450c081",
       "version_major": 2,
       "version_minor": 0
      },
      "text/plain": [
       "Validation: |          | 0/? [00:00<?, ?it/s]"
      ]
     },
     "metadata": {},
     "output_type": "display_data"
    },
    {
     "data": {
      "application/vnd.jupyter.widget-view+json": {
       "model_id": "4613d281dc084b4eb803b9e33bfee350",
       "version_major": 2,
       "version_minor": 0
      },
      "text/plain": [
       "Validation: |          | 0/? [00:00<?, ?it/s]"
      ]
     },
     "metadata": {},
     "output_type": "display_data"
    },
    {
     "data": {
      "application/vnd.jupyter.widget-view+json": {
       "model_id": "737a229656e14a908666c8f7852171ff",
       "version_major": 2,
       "version_minor": 0
      },
      "text/plain": [
       "Validation: |          | 0/? [00:00<?, ?it/s]"
      ]
     },
     "metadata": {},
     "output_type": "display_data"
    },
    {
     "data": {
      "application/vnd.jupyter.widget-view+json": {
       "model_id": "cbebbd28d3da43dfa15480b0c2184e5d",
       "version_major": 2,
       "version_minor": 0
      },
      "text/plain": [
       "Validation: |          | 0/? [00:00<?, ?it/s]"
      ]
     },
     "metadata": {},
     "output_type": "display_data"
    },
    {
     "data": {
      "application/vnd.jupyter.widget-view+json": {
       "model_id": "8b093df47bc14eb98c921184e20fc48c",
       "version_major": 2,
       "version_minor": 0
      },
      "text/plain": [
       "Validation: |          | 0/? [00:00<?, ?it/s]"
      ]
     },
     "metadata": {},
     "output_type": "display_data"
    },
    {
     "data": {
      "application/vnd.jupyter.widget-view+json": {
       "model_id": "0cb3b3b7ae2348f098ff9adb64b7a7de",
       "version_major": 2,
       "version_minor": 0
      },
      "text/plain": [
       "Validation: |          | 0/? [00:00<?, ?it/s]"
      ]
     },
     "metadata": {},
     "output_type": "display_data"
    },
    {
     "data": {
      "application/vnd.jupyter.widget-view+json": {
       "model_id": "0c3d86a54f02415583749f61c0acdd91",
       "version_major": 2,
       "version_minor": 0
      },
      "text/plain": [
       "Validation: |          | 0/? [00:00<?, ?it/s]"
      ]
     },
     "metadata": {},
     "output_type": "display_data"
    },
    {
     "name": "stderr",
     "output_type": "stream",
     "text": [
      "Monitored metric val_loss did not improve in the last 10 records. Best score: 0.025. Signaling Trainer to stop.\n",
      "GPU available: True (cuda), used: True\n",
      "TPU available: False, using: 0 TPU cores\n",
      "HPU available: False, using: 0 HPUs\n",
      "LOCAL_RANK: 0 - CUDA_VISIBLE_DEVICES: [0]\n"
     ]
    },
    {
     "name": "stdout",
     "output_type": "stream",
     "text": [
      "Modelo carregado do checkpoint para trial 47\n"
     ]
    },
    {
     "name": "stderr",
     "output_type": "stream",
     "text": [
      "/home/eduardo/Documentos/Water-Cycle-Neural-Network/venv/lib/python3.12/site-packages/pytorch_lightning/trainer/connectors/data_connector.py:425: The 'predict_dataloader' does not have many workers which may be a bottleneck. Consider increasing the value of the `num_workers` argument` to `num_workers=11` in the `DataLoader` to improve performance.\n"
     ]
    },
    {
     "data": {
      "application/vnd.jupyter.widget-view+json": {
       "model_id": "fdbb3034200d430c895751569d39f518",
       "version_major": 2,
       "version_minor": 0
      },
      "text/plain": [
       "Predicting: |          | 0/? [00:00<?, ?it/s]"
      ]
     },
     "metadata": {},
     "output_type": "display_data"
    },
    {
     "name": "stderr",
     "output_type": "stream",
     "text": [
      "[I 2025-05-14 12:59:30,636] Trial 47 finished with value: 61.758662438256394 and parameters: {'output_chunk_length': 45, 'input_chunk_length': 52, 'num_layers': 1, 'num_blocks': 4, 'num_stacks': 5, 'layer_widths': 191, 'activation': 'ReLU', 'dropout': 0.1664798552508094, 'batch_size': 32, 'lr': 0.002635431147380802, 'forecast_horizon': 17}. Best is trial 3 with value: 50.43235393618171.\n",
      "GPU available: True (cuda), used: True\n",
      "TPU available: False, using: 0 TPU cores\n",
      "HPU available: False, using: 0 HPUs\n",
      "LOCAL_RANK: 0 - CUDA_VISIBLE_DEVICES: [0]\n",
      "\n",
      "  | Name            | Type             | Params | Mode \n",
      "-------------------------------------------------------------\n",
      "0 | criterion       | HuberLoss        | 0      | train\n",
      "1 | train_criterion | HuberLoss        | 0      | train\n",
      "2 | val_criterion   | HuberLoss        | 0      | train\n",
      "3 | train_metrics   | MetricCollection | 0      | train\n",
      "4 | val_metrics     | MetricCollection | 0      | train\n",
      "5 | stacks          | ModuleList       | 2.8 M  | train\n",
      "-------------------------------------------------------------\n",
      "2.6 M     Trainable params\n",
      "109 K     Non-trainable params\n",
      "2.8 M     Total params\n",
      "11.038    Total estimated model params size (MB)\n",
      "204       Modules in train mode\n",
      "0         Modules in eval mode\n"
     ]
    },
    {
     "name": "stdout",
     "output_type": "stream",
     "text": [
      "Iniciando a verificação das séries temporais para constância...\n",
      "\n",
      "Métricas de performance:\n",
      "                                     MSE        RMSE         MAE          R2  \\\n",
      "Temperature                     3.364313    1.834206    1.433395    0.005785   \n",
      "Precipitation_accumulated     539.300767   23.222850   20.316879 -565.845644   \n",
      "Humidity                       28.331104    5.322697    4.232540    0.564955   \n",
      "Wind_Speed_kmh                  0.267847    0.517539    0.310047    0.221157   \n",
      "Soil_Moisture              235987.779276  485.785734  268.889493    0.684252   \n",
      "Soil_Temperature                6.055138    2.460719    2.200355   -0.083823   \n",
      "Wind_Dir_Sin                    0.129723    0.360171    0.226952    0.200352   \n",
      "Wind_Dir_Cos                    0.154309    0.392822    0.330223    0.467029   \n",
      "\n",
      "                                SMAPE  \n",
      "Temperature                 25.800104  \n",
      "Precipitation_accumulated    4.501559  \n",
      "Humidity                     5.028008  \n",
      "Wind_Speed_kmh             176.142243  \n",
      "Soil_Moisture                4.178123  \n",
      "Soil_Temperature            50.797824  \n",
      "Wind_Dir_Sin               164.878726  \n",
      "Wind_Dir_Cos                62.742711  \n",
      "O SMAPE desse fold foi 61.758662438256394\n",
      "Resultados do trial 47 salvos em optuna_iteration_metrics/trial_47.json\n",
      "Current value: 61.758662438256394, Current params: {'output_chunk_length': 45, 'input_chunk_length': 52, 'num_layers': 1, 'num_blocks': 4, 'num_stacks': 5, 'layer_widths': 191, 'activation': 'ReLU', 'dropout': 0.1664798552508094, 'batch_size': 32, 'lr': 0.002635431147380802, 'forecast_horizon': 17}\n",
      "Best value: 50.43235393618171, Best params: {'output_chunk_length': 27, 'input_chunk_length': 38, 'num_layers': 1, 'num_blocks': 3, 'num_stacks': 2, 'layer_widths': 85, 'activation': 'GELU', 'dropout': 0.18882539432465545, 'batch_size': 37, 'lr': 0.006016691509040486, 'forecast_horizon': 12}\n",
      "\n",
      "Iniciando Trial 48\n",
      "Hiperparâmetros: {'output_chunk_length': 26, 'input_chunk_length': 39, 'num_layers': 5, 'num_blocks': 4, 'num_stacks': 3, 'layer_widths': 155, 'activation': 'ReLU', 'dropout': 0.0878221797118209, 'batch_size': 36, 'lr': 0.003952952844183064, 'forecast_horizon': 23}\n",
      "\n",
      "Treinando o modelo...\n",
      "Train set: 6647 samples\n",
      "Validation set: 1662 samples\n"
     ]
    },
    {
     "data": {
      "application/vnd.jupyter.widget-view+json": {
       "model_id": "040b65374a3444c0895ca947d59a961f",
       "version_major": 2,
       "version_minor": 0
      },
      "text/plain": [
       "Sanity Checking: |          | 0/? [00:00<?, ?it/s]"
      ]
     },
     "metadata": {},
     "output_type": "display_data"
    },
    {
     "name": "stderr",
     "output_type": "stream",
     "text": [
      "/home/eduardo/Documentos/Water-Cycle-Neural-Network/venv/lib/python3.12/site-packages/pytorch_lightning/trainer/connectors/data_connector.py:425: The 'val_dataloader' does not have many workers which may be a bottleneck. Consider increasing the value of the `num_workers` argument` to `num_workers=11` in the `DataLoader` to improve performance.\n",
      "/home/eduardo/Documentos/Water-Cycle-Neural-Network/venv/lib/python3.12/site-packages/pytorch_lightning/trainer/connectors/data_connector.py:425: The 'train_dataloader' does not have many workers which may be a bottleneck. Consider increasing the value of the `num_workers` argument` to `num_workers=11` in the `DataLoader` to improve performance.\n"
     ]
    },
    {
     "data": {
      "application/vnd.jupyter.widget-view+json": {
       "model_id": "91218a5f34ba4b36bc6115cf16c45f4a",
       "version_major": 2,
       "version_minor": 0
      },
      "text/plain": [
       "Training: |          | 0/? [00:00<?, ?it/s]"
      ]
     },
     "metadata": {},
     "output_type": "display_data"
    },
    {
     "data": {
      "application/vnd.jupyter.widget-view+json": {
       "model_id": "1f7b2d4db5644a04b9ecd5ff62aada63",
       "version_major": 2,
       "version_minor": 0
      },
      "text/plain": [
       "Validation: |          | 0/? [00:00<?, ?it/s]"
      ]
     },
     "metadata": {},
     "output_type": "display_data"
    },
    {
     "name": "stderr",
     "output_type": "stream",
     "text": [
      "Metric val_loss improved. New best score: 0.029\n"
     ]
    },
    {
     "data": {
      "application/vnd.jupyter.widget-view+json": {
       "model_id": "0ad840ae31b04fe3ac097f26596da71a",
       "version_major": 2,
       "version_minor": 0
      },
      "text/plain": [
       "Validation: |          | 0/? [00:00<?, ?it/s]"
      ]
     },
     "metadata": {},
     "output_type": "display_data"
    },
    {
     "name": "stderr",
     "output_type": "stream",
     "text": [
      "Metric val_loss improved by 0.003 >= min_delta = 0.001. New best score: 0.026\n"
     ]
    },
    {
     "data": {
      "application/vnd.jupyter.widget-view+json": {
       "model_id": "c622727906bd41fa92a7351670a275ef",
       "version_major": 2,
       "version_minor": 0
      },
      "text/plain": [
       "Validation: |          | 0/? [00:00<?, ?it/s]"
      ]
     },
     "metadata": {},
     "output_type": "display_data"
    },
    {
     "data": {
      "application/vnd.jupyter.widget-view+json": {
       "model_id": "e2b607f5ccef45cc98514d32998cf459",
       "version_major": 2,
       "version_minor": 0
      },
      "text/plain": [
       "Validation: |          | 0/? [00:00<?, ?it/s]"
      ]
     },
     "metadata": {},
     "output_type": "display_data"
    },
    {
     "data": {
      "application/vnd.jupyter.widget-view+json": {
       "model_id": "6852b5c01c9c449da88f4170ef927c74",
       "version_major": 2,
       "version_minor": 0
      },
      "text/plain": [
       "Validation: |          | 0/? [00:00<?, ?it/s]"
      ]
     },
     "metadata": {},
     "output_type": "display_data"
    },
    {
     "data": {
      "application/vnd.jupyter.widget-view+json": {
       "model_id": "6a750245e9f14427868111095848c8e1",
       "version_major": 2,
       "version_minor": 0
      },
      "text/plain": [
       "Validation: |          | 0/? [00:00<?, ?it/s]"
      ]
     },
     "metadata": {},
     "output_type": "display_data"
    },
    {
     "data": {
      "application/vnd.jupyter.widget-view+json": {
       "model_id": "8a431d5990bc4f329cb59b0912ae7d88",
       "version_major": 2,
       "version_minor": 0
      },
      "text/plain": [
       "Validation: |          | 0/? [00:00<?, ?it/s]"
      ]
     },
     "metadata": {},
     "output_type": "display_data"
    },
    {
     "data": {
      "application/vnd.jupyter.widget-view+json": {
       "model_id": "a5d66fc8a4494a19be7c2f6ef3e61894",
       "version_major": 2,
       "version_minor": 0
      },
      "text/plain": [
       "Validation: |          | 0/? [00:00<?, ?it/s]"
      ]
     },
     "metadata": {},
     "output_type": "display_data"
    },
    {
     "data": {
      "application/vnd.jupyter.widget-view+json": {
       "model_id": "918b18c3072a4056b994834eea958b1d",
       "version_major": 2,
       "version_minor": 0
      },
      "text/plain": [
       "Validation: |          | 0/? [00:00<?, ?it/s]"
      ]
     },
     "metadata": {},
     "output_type": "display_data"
    },
    {
     "data": {
      "application/vnd.jupyter.widget-view+json": {
       "model_id": "9868c2e591144f3db361bd5fe6003e2d",
       "version_major": 2,
       "version_minor": 0
      },
      "text/plain": [
       "Validation: |          | 0/? [00:00<?, ?it/s]"
      ]
     },
     "metadata": {},
     "output_type": "display_data"
    },
    {
     "data": {
      "application/vnd.jupyter.widget-view+json": {
       "model_id": "433da2fdab3e45f79f4cc9702994657b",
       "version_major": 2,
       "version_minor": 0
      },
      "text/plain": [
       "Validation: |          | 0/? [00:00<?, ?it/s]"
      ]
     },
     "metadata": {},
     "output_type": "display_data"
    },
    {
     "data": {
      "application/vnd.jupyter.widget-view+json": {
       "model_id": "cb1b6f81308a4c368eafab9a0d479cf5",
       "version_major": 2,
       "version_minor": 0
      },
      "text/plain": [
       "Validation: |          | 0/? [00:00<?, ?it/s]"
      ]
     },
     "metadata": {},
     "output_type": "display_data"
    },
    {
     "name": "stderr",
     "output_type": "stream",
     "text": [
      "Monitored metric val_loss did not improve in the last 10 records. Best score: 0.026. Signaling Trainer to stop.\n",
      "GPU available: True (cuda), used: True\n",
      "TPU available: False, using: 0 TPU cores\n",
      "HPU available: False, using: 0 HPUs\n",
      "LOCAL_RANK: 0 - CUDA_VISIBLE_DEVICES: [0]\n"
     ]
    },
    {
     "name": "stdout",
     "output_type": "stream",
     "text": [
      "Modelo carregado do checkpoint para trial 48\n"
     ]
    },
    {
     "name": "stderr",
     "output_type": "stream",
     "text": [
      "/home/eduardo/Documentos/Water-Cycle-Neural-Network/venv/lib/python3.12/site-packages/pytorch_lightning/trainer/connectors/data_connector.py:425: The 'predict_dataloader' does not have many workers which may be a bottleneck. Consider increasing the value of the `num_workers` argument` to `num_workers=11` in the `DataLoader` to improve performance.\n"
     ]
    },
    {
     "data": {
      "application/vnd.jupyter.widget-view+json": {
       "model_id": "9ff69e9576354360a3d616532a4e7392",
       "version_major": 2,
       "version_minor": 0
      },
      "text/plain": [
       "Predicting: |          | 0/? [00:00<?, ?it/s]"
      ]
     },
     "metadata": {},
     "output_type": "display_data"
    },
    {
     "name": "stderr",
     "output_type": "stream",
     "text": [
      "[I 2025-05-14 13:00:17,500] Trial 48 finished with value: 58.057307703548595 and parameters: {'output_chunk_length': 26, 'input_chunk_length': 39, 'num_layers': 5, 'num_blocks': 4, 'num_stacks': 3, 'layer_widths': 155, 'activation': 'ReLU', 'dropout': 0.0878221797118209, 'batch_size': 36, 'lr': 0.003952952844183064, 'forecast_horizon': 23}. Best is trial 3 with value: 50.43235393618171.\n",
      "GPU available: True (cuda), used: True\n",
      "TPU available: False, using: 0 TPU cores\n",
      "HPU available: False, using: 0 HPUs\n",
      "LOCAL_RANK: 0 - CUDA_VISIBLE_DEVICES: [0]\n",
      "\n",
      "  | Name            | Type             | Params | Mode \n",
      "-------------------------------------------------------------\n",
      "0 | criterion       | HuberLoss        | 0      | train\n",
      "1 | train_criterion | HuberLoss        | 0      | train\n",
      "2 | val_criterion   | HuberLoss        | 0      | train\n",
      "3 | train_metrics   | MetricCollection | 0      | train\n",
      "4 | val_metrics     | MetricCollection | 0      | train\n",
      "5 | stacks          | ModuleList       | 1.5 M  | train\n",
      "-------------------------------------------------------------\n",
      "1.4 M     Trainable params\n",
      "119 K     Non-trainable params\n",
      "1.5 M     Total params\n",
      "6.057     Total estimated model params size (MB)\n",
      "90        Modules in train mode\n",
      "0         Modules in eval mode\n"
     ]
    },
    {
     "name": "stdout",
     "output_type": "stream",
     "text": [
      "Iniciando a verificação das séries temporais para constância...\n",
      "\n",
      "Métricas de performance:\n",
      "                                     MSE        RMSE         MAE          R2  \\\n",
      "Temperature                     2.116956    1.454976    0.981954    0.371092   \n",
      "Precipitation_accumulated     254.313161   15.947199    9.999410 -266.059559   \n",
      "Humidity                       24.446372    4.944327    3.188376    0.624432   \n",
      "Wind_Speed_kmh                  0.263049    0.512883    0.328364    0.238342   \n",
      "Soil_Moisture              246558.361993  496.546435  357.921723    0.671415   \n",
      "Soil_Temperature                1.364118    1.167955    0.673751    0.755231   \n",
      "Wind_Dir_Sin                    0.132227    0.363630    0.248420    0.188179   \n",
      "Wind_Dir_Cos                    0.206358    0.454266    0.391276    0.289670   \n",
      "\n",
      "                                SMAPE  \n",
      "Temperature                 17.092362  \n",
      "Precipitation_accumulated    2.200083  \n",
      "Humidity                     3.770887  \n",
      "Wind_Speed_kmh             176.513559  \n",
      "Soil_Moisture                5.716094  \n",
      "Soil_Temperature            18.043115  \n",
      "Wind_Dir_Sin               166.118078  \n",
      "Wind_Dir_Cos                75.004284  \n",
      "O SMAPE desse fold foi 58.057307703548595\n",
      "Resultados do trial 48 salvos em optuna_iteration_metrics/trial_48.json\n",
      "Current value: 58.057307703548595, Current params: {'output_chunk_length': 26, 'input_chunk_length': 39, 'num_layers': 5, 'num_blocks': 4, 'num_stacks': 3, 'layer_widths': 155, 'activation': 'ReLU', 'dropout': 0.0878221797118209, 'batch_size': 36, 'lr': 0.003952952844183064, 'forecast_horizon': 23}\n",
      "Best value: 50.43235393618171, Best params: {'output_chunk_length': 27, 'input_chunk_length': 38, 'num_layers': 1, 'num_blocks': 3, 'num_stacks': 2, 'layer_widths': 85, 'activation': 'GELU', 'dropout': 0.18882539432465545, 'batch_size': 37, 'lr': 0.006016691509040486, 'forecast_horizon': 12}\n",
      "\n",
      "Iniciando Trial 49\n",
      "Hiperparâmetros: {'output_chunk_length': 30, 'input_chunk_length': 45, 'num_layers': 2, 'num_blocks': 4, 'num_stacks': 2, 'layer_widths': 146, 'activation': 'ReLU', 'dropout': 0.18980770884810852, 'batch_size': 37, 'lr': 0.009918862223348503, 'forecast_horizon': 11}\n",
      "\n",
      "Treinando o modelo...\n",
      "Train set: 6647 samples\n",
      "Validation set: 1662 samples\n"
     ]
    },
    {
     "data": {
      "application/vnd.jupyter.widget-view+json": {
       "model_id": "fb5efd58fecb4cbfbef556fe2b419048",
       "version_major": 2,
       "version_minor": 0
      },
      "text/plain": [
       "Sanity Checking: |          | 0/? [00:00<?, ?it/s]"
      ]
     },
     "metadata": {},
     "output_type": "display_data"
    },
    {
     "name": "stderr",
     "output_type": "stream",
     "text": [
      "/home/eduardo/Documentos/Water-Cycle-Neural-Network/venv/lib/python3.12/site-packages/pytorch_lightning/trainer/connectors/data_connector.py:425: The 'val_dataloader' does not have many workers which may be a bottleneck. Consider increasing the value of the `num_workers` argument` to `num_workers=11` in the `DataLoader` to improve performance.\n",
      "/home/eduardo/Documentos/Water-Cycle-Neural-Network/venv/lib/python3.12/site-packages/pytorch_lightning/trainer/connectors/data_connector.py:425: The 'train_dataloader' does not have many workers which may be a bottleneck. Consider increasing the value of the `num_workers` argument` to `num_workers=11` in the `DataLoader` to improve performance.\n"
     ]
    },
    {
     "data": {
      "application/vnd.jupyter.widget-view+json": {
       "model_id": "5d03a53e134943958d51d4ff0902fc2a",
       "version_major": 2,
       "version_minor": 0
      },
      "text/plain": [
       "Training: |          | 0/? [00:00<?, ?it/s]"
      ]
     },
     "metadata": {},
     "output_type": "display_data"
    },
    {
     "data": {
      "application/vnd.jupyter.widget-view+json": {
       "model_id": "ba56cb399cb1414cbd0273ec79ef4b8f",
       "version_major": 2,
       "version_minor": 0
      },
      "text/plain": [
       "Validation: |          | 0/? [00:00<?, ?it/s]"
      ]
     },
     "metadata": {},
     "output_type": "display_data"
    },
    {
     "name": "stderr",
     "output_type": "stream",
     "text": [
      "Metric val_loss improved. New best score: 0.033\n"
     ]
    },
    {
     "data": {
      "application/vnd.jupyter.widget-view+json": {
       "model_id": "4ff66d2788c04ff1bf6860096ec57825",
       "version_major": 2,
       "version_minor": 0
      },
      "text/plain": [
       "Validation: |          | 0/? [00:00<?, ?it/s]"
      ]
     },
     "metadata": {},
     "output_type": "display_data"
    },
    {
     "name": "stderr",
     "output_type": "stream",
     "text": [
      "Metric val_loss improved by 0.006 >= min_delta = 0.001. New best score: 0.026\n"
     ]
    },
    {
     "data": {
      "application/vnd.jupyter.widget-view+json": {
       "model_id": "dc684f463bcb4ced87e8f1379165cab3",
       "version_major": 2,
       "version_minor": 0
      },
      "text/plain": [
       "Validation: |          | 0/? [00:00<?, ?it/s]"
      ]
     },
     "metadata": {},
     "output_type": "display_data"
    },
    {
     "data": {
      "application/vnd.jupyter.widget-view+json": {
       "model_id": "b7110c220bde452095f481ae41caaf3c",
       "version_major": 2,
       "version_minor": 0
      },
      "text/plain": [
       "Validation: |          | 0/? [00:00<?, ?it/s]"
      ]
     },
     "metadata": {},
     "output_type": "display_data"
    },
    {
     "data": {
      "application/vnd.jupyter.widget-view+json": {
       "model_id": "d279f86b0eaf45ea9ea03bdf9e9bdc52",
       "version_major": 2,
       "version_minor": 0
      },
      "text/plain": [
       "Validation: |          | 0/? [00:00<?, ?it/s]"
      ]
     },
     "metadata": {},
     "output_type": "display_data"
    },
    {
     "data": {
      "application/vnd.jupyter.widget-view+json": {
       "model_id": "21561655a497405e986b4be786cf3687",
       "version_major": 2,
       "version_minor": 0
      },
      "text/plain": [
       "Validation: |          | 0/? [00:00<?, ?it/s]"
      ]
     },
     "metadata": {},
     "output_type": "display_data"
    },
    {
     "data": {
      "application/vnd.jupyter.widget-view+json": {
       "model_id": "d3569cef43ee41f0b797eb4ffa3d3a64",
       "version_major": 2,
       "version_minor": 0
      },
      "text/plain": [
       "Validation: |          | 0/? [00:00<?, ?it/s]"
      ]
     },
     "metadata": {},
     "output_type": "display_data"
    },
    {
     "data": {
      "application/vnd.jupyter.widget-view+json": {
       "model_id": "526691dc0d274ec8a7cbba19da71fa1b",
       "version_major": 2,
       "version_minor": 0
      },
      "text/plain": [
       "Validation: |          | 0/? [00:00<?, ?it/s]"
      ]
     },
     "metadata": {},
     "output_type": "display_data"
    },
    {
     "data": {
      "application/vnd.jupyter.widget-view+json": {
       "model_id": "fa95c61b2b0642998c5496978643a13b",
       "version_major": 2,
       "version_minor": 0
      },
      "text/plain": [
       "Validation: |          | 0/? [00:00<?, ?it/s]"
      ]
     },
     "metadata": {},
     "output_type": "display_data"
    },
    {
     "data": {
      "application/vnd.jupyter.widget-view+json": {
       "model_id": "4849f743f14145f3b7f8c76e705b1bae",
       "version_major": 2,
       "version_minor": 0
      },
      "text/plain": [
       "Validation: |          | 0/? [00:00<?, ?it/s]"
      ]
     },
     "metadata": {},
     "output_type": "display_data"
    },
    {
     "data": {
      "application/vnd.jupyter.widget-view+json": {
       "model_id": "e77c30e0c21348f2901e6a6a973a58b0",
       "version_major": 2,
       "version_minor": 0
      },
      "text/plain": [
       "Validation: |          | 0/? [00:00<?, ?it/s]"
      ]
     },
     "metadata": {},
     "output_type": "display_data"
    },
    {
     "data": {
      "application/vnd.jupyter.widget-view+json": {
       "model_id": "990a0cf34ecd4c9da12aa63c1bc0294e",
       "version_major": 2,
       "version_minor": 0
      },
      "text/plain": [
       "Validation: |          | 0/? [00:00<?, ?it/s]"
      ]
     },
     "metadata": {},
     "output_type": "display_data"
    },
    {
     "name": "stderr",
     "output_type": "stream",
     "text": [
      "Monitored metric val_loss did not improve in the last 10 records. Best score: 0.026. Signaling Trainer to stop.\n",
      "GPU available: True (cuda), used: True\n",
      "TPU available: False, using: 0 TPU cores\n",
      "HPU available: False, using: 0 HPUs\n",
      "LOCAL_RANK: 0 - CUDA_VISIBLE_DEVICES: [0]\n"
     ]
    },
    {
     "name": "stdout",
     "output_type": "stream",
     "text": [
      "Modelo carregado do checkpoint para trial 49\n"
     ]
    },
    {
     "name": "stderr",
     "output_type": "stream",
     "text": [
      "/home/eduardo/Documentos/Water-Cycle-Neural-Network/venv/lib/python3.12/site-packages/pytorch_lightning/trainer/connectors/data_connector.py:425: The 'predict_dataloader' does not have many workers which may be a bottleneck. Consider increasing the value of the `num_workers` argument` to `num_workers=11` in the `DataLoader` to improve performance.\n"
     ]
    },
    {
     "data": {
      "application/vnd.jupyter.widget-view+json": {
       "model_id": "1d936295e0af4c13b3c02d597377bd27",
       "version_major": 2,
       "version_minor": 0
      },
      "text/plain": [
       "Predicting: |          | 0/? [00:00<?, ?it/s]"
      ]
     },
     "metadata": {},
     "output_type": "display_data"
    },
    {
     "name": "stderr",
     "output_type": "stream",
     "text": [
      "[I 2025-05-14 13:00:43,355] Trial 49 finished with value: 55.74250564071785 and parameters: {'output_chunk_length': 30, 'input_chunk_length': 45, 'num_layers': 2, 'num_blocks': 4, 'num_stacks': 2, 'layer_widths': 146, 'activation': 'ReLU', 'dropout': 0.18980770884810852, 'batch_size': 37, 'lr': 0.009918862223348503, 'forecast_horizon': 11}. Best is trial 3 with value: 50.43235393618171.\n"
     ]
    },
    {
     "name": "stdout",
     "output_type": "stream",
     "text": [
      "Iniciando a verificação das séries temporais para constância...\n",
      "\n",
      "Métricas de performance:\n",
      "                                     MSE        RMSE         MAE          R2  \\\n",
      "Temperature                     2.855202    1.689734    1.314869    0.158680   \n",
      "Precipitation_accumulated     425.285489   20.622451   17.859720 -446.424718   \n",
      "Humidity                       27.592874    5.252892    4.527970    0.576131   \n",
      "Wind_Speed_kmh                  0.301958    0.549507    0.407463    0.118260   \n",
      "Soil_Moisture              249495.182682  499.494928  354.594316    0.664836   \n",
      "Soil_Temperature                2.554671    1.598334    1.167509    0.543528   \n",
      "Wind_Dir_Sin                    0.147993    0.384699    0.258313    0.084081   \n",
      "Wind_Dir_Cos                    0.145760    0.381785    0.246919    0.494851   \n",
      "\n",
      "                                SMAPE  \n",
      "Temperature                 21.039876  \n",
      "Precipitation_accumulated    3.802503  \n",
      "Humidity                     5.413970  \n",
      "Wind_Speed_kmh             176.372093  \n",
      "Soil_Moisture                5.696454  \n",
      "Soil_Temperature            23.661920  \n",
      "Wind_Dir_Sin               163.163135  \n",
      "Wind_Dir_Cos                46.790093  \n",
      "O SMAPE desse fold foi 55.74250564071785\n",
      "Resultados do trial 49 salvos em optuna_iteration_metrics/trial_49.json\n",
      "Current value: 55.74250564071785, Current params: {'output_chunk_length': 30, 'input_chunk_length': 45, 'num_layers': 2, 'num_blocks': 4, 'num_stacks': 2, 'layer_widths': 146, 'activation': 'ReLU', 'dropout': 0.18980770884810852, 'batch_size': 37, 'lr': 0.009918862223348503, 'forecast_horizon': 11}\n",
      "Best value: 50.43235393618171, Best params: {'output_chunk_length': 27, 'input_chunk_length': 38, 'num_layers': 1, 'num_blocks': 3, 'num_stacks': 2, 'layer_widths': 85, 'activation': 'GELU', 'dropout': 0.18882539432465545, 'batch_size': 37, 'lr': 0.006016691509040486, 'forecast_horizon': 12}\n"
     ]
    }
   ],
   "source": [
    "study = optuna.create_study(direction=\"minimize\")\n",
    "study.optimize(objective, n_trials=50, callbacks=[print_callback])"
   ]
  },
  {
   "cell_type": "code",
   "execution_count": 11,
   "id": "53a35c4e",
   "metadata": {},
   "outputs": [
    {
     "name": "stdout",
     "output_type": "stream",
     "text": [
      "Melhor Valor (Mínimo): 50.43235393618171\n",
      "Melhores Parâmetros: {'output_chunk_length': 27, 'input_chunk_length': 38, 'num_layers': 1, 'num_blocks': 3, 'num_stacks': 2, 'layer_widths': 85, 'activation': 'GELU', 'dropout': 0.18882539432465545, 'batch_size': 37, 'lr': 0.006016691509040486, 'forecast_horizon': 12}\n"
     ]
    }
   ],
   "source": [
    "print(f\"Melhor Valor (Mínimo): {study.best_value}\")\n",
    "print(f\"Melhores Parâmetros: {study.best_params}\")"
   ]
  },
  {
   "cell_type": "code",
   "execution_count": 12,
   "id": "83b68ec1",
   "metadata": {},
   "outputs": [
    {
     "name": "stdout",
     "output_type": "stream",
     "text": [
      "Melhores resultados salvos em optuna_iteration_metrics/best_trial.json\n"
     ]
    }
   ],
   "source": [
    "best_dict = {\n",
    "    \"best_value\": study.best_value,\n",
    "    \"best_params\": study.best_params,\n",
    "}\n",
    "json_path = os.path.join(results_output_dir, \"best_trial.json\")\n",
    "with open(json_path, 'w') as f:\n",
    "    json.dump(best_dict, f, indent=4)\n",
    "print(f\"Melhores resultados salvos em {json_path}\")"
   ]
  }
 ],
 "metadata": {
  "jupytext": {
   "cell_metadata_filter": "-all",
   "main_language": "python",
   "notebook_metadata_filter": "-all"
  },
  "kernelspec": {
   "display_name": "Python (TORCH)",
   "language": "python",
   "name": "torch"
  },
  "language_info": {
   "codemirror_mode": {
    "name": "ipython",
    "version": 3
   },
   "file_extension": ".py",
   "mimetype": "text/x-python",
   "name": "python",
   "nbconvert_exporter": "python",
   "pygments_lexer": "ipython3",
   "version": "3.12.3"
  }
 },
 "nbformat": 4,
 "nbformat_minor": 5
}
