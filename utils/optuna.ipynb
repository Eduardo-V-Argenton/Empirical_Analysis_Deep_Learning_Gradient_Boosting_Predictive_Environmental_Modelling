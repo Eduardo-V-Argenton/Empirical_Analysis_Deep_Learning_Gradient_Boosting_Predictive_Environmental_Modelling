{
 "cells": [
  {
   "cell_type": "code",
   "execution_count": 1,
   "id": "bfdde53ef19ea8f4",
   "metadata": {
    "ExecuteTime": {
     "end_time": "2025-06-05T19:05:40.700276Z",
     "start_time": "2025-06-05T19:05:40.697643Z"
    }
   },
   "outputs": [],
   "source": [
    "import matplotlib.pyplot as plt\n",
    "import numpy as np\n",
    "import pandas as pd\n",
    "from darts import TimeSeries\n",
    "from darts.models import TiDEModel\n",
    "from darts.metrics import wmape,mse, mae, smape,r2_score,rmse,mae\n",
    "from darts.dataprocessing.transformers import Scaler\n",
    "import torch\n",
    "from optuna.integration import PyTorchLightningPruningCallback\n",
    "from pytorch_lightning.callbacks import Callback, EarlyStopping\n",
    "import optuna\n",
    "import os\n",
    "import json\n",
    "\n",
    "# Visualization settings\n",
    "plt.style.use('ggplot')\n",
    "plt.rcParams['figure.figsize'] = (12, 6)\n",
    "torch.set_float32_matmul_precision('medium')"
   ]
  },
  {
   "cell_type": "code",
   "execution_count": 2,
   "id": "4a8c332b10d8be5e",
   "metadata": {
    "ExecuteTime": {
     "end_time": "2025-06-05T19:05:40.762080Z",
     "start_time": "2025-06-05T19:05:40.750357Z"
    }
   },
   "outputs": [],
   "source": [
    "target_columns = [\n",
    "    'Temperature','Precipitation_accumulated','Humidity', 'Wind_Speed_kmh',\n",
    "    'Soil_Moisture', 'Soil_Temperature', 'Wind_Dir_Sin', 'Wind_Dir_Cos'\n",
    "]\n",
    "\n",
    "DATA_FILE_PATH = \"../data/ground_station_clean.csv\"\n",
    "df = pd.read_csv(DATA_FILE_PATH)"
   ]
  },
  {
   "cell_type": "code",
   "execution_count": 3,
   "id": "7c4f7732f60d8511",
   "metadata": {
    "ExecuteTime": {
     "end_time": "2025-06-05T19:05:40.802223Z",
     "start_time": "2025-06-05T19:05:40.800123Z"
    }
   },
   "outputs": [],
   "source": [
    "encoders = {\n",
    "    \"cyclic\": {\n",
    "        \"past\": [\"month\", \"dayofyear\", \"day\", \"hour\", \"minute\"],\n",
    "        \"future\": [\"month\", \"dayofyear\", \"day\", \"hour\", \"minute\"]\n",
    "    },\n",
    "    \"transformer\": Scaler(),\n",
    "    \"datetime_attribute\": {\n",
    "        \"past\": [\"year\"],\n",
    "        \"future\": [\"year\"]\n",
    "    }\n",
    "}\n"
   ]
  },
  {
   "cell_type": "code",
   "execution_count": 4,
   "id": "3cc0a527e2e2a0a8",
   "metadata": {
    "ExecuteTime": {
     "end_time": "2025-06-05T19:05:40.852433Z",
     "start_time": "2025-06-05T19:05:40.850235Z"
    }
   },
   "outputs": [],
   "source": [
    "class PatchedPruningCallback(PyTorchLightningPruningCallback, Callback):\n",
    "    pass\n",
    "\n",
    "# Create directory to save iteration results\n",
    "results_output_dir = \"optuna_iteration_metrics\"\n",
    "os.makedirs(results_output_dir, exist_ok=True)"
   ]
  },
  {
   "cell_type": "code",
   "execution_count": 5,
   "id": "36495cef7ef43264",
   "metadata": {
    "ExecuteTime": {
     "end_time": "2025-06-05T19:05:40.906974Z",
     "start_time": "2025-06-05T19:05:40.899470Z"
    }
   },
   "outputs": [],
   "source": [
    "from sklearn.model_selection import TimeSeriesSplit\n",
    "\n",
    "def objective(trial):\n",
    "\n",
    "    input_chunk_length = trial.suggest_int(\"input_chunk_length\", 24, 168, step=12)\n",
    "    hidden_size = trial.suggest_int(\"hidden_size\", 32, 256, step=8)\n",
    "    dropout = trial.suggest_float(\"dropout\", 0.1, 0.5, step=0.05)\n",
    "    batch_size = trial.suggest_int(\"batch_size\", 64, 256, step=8)\n",
    "    lr = trial.suggest_float(\"lr\", 1e-6, 5e-3, log=True)\n",
    "    weight_decay = trial.suggest_float(\"weight_decay\", 1e-6, 1e-2, log=True)\n",
    "\n",
    "\n",
    "    num_encoder_layers = trial.suggest_int('num_encoder_layers', 1, 4)\n",
    "    num_decoder_layers = trial.suggest_int('num_decoder_layers', 1, 4)\n",
    "\n",
    "    temporal_width_past = trial.suggest_int(\"temporal_width_past\", 1, 5)\n",
    "    temporal_width_future = trial.suggest_int(\"temporal_width_future\", 1, 5)\n",
    "    use_reversible_instance_norm = trial.suggest_categorical(\"use_reversible_instance_norm\", [True, False])\n",
    "    temporal_hidden_size_past = trial.suggest_int(\"temporal_hidden_size_past\", 24, 168, step=12)\n",
    "    temporal_hidden_size_future = trial.suggest_int(\"temporal_hidden_size_future\", 24, 168, step=12)\n",
    "\n",
    "    early_stopper = EarlyStopping(\"val_loss\", min_delta=0.0005, patience=15, verbose=True)\n",
    "    prunner = PatchedPruningCallback(trial, monitor=\"val_loss\")\n",
    "    pl_trainer_kwargs = {\n",
    "        \"accelerator\": \"auto\",\n",
    "        \"callbacks\": [early_stopper, prunner],\n",
    "    }\n",
    "\n",
    "    n_splits = 3\n",
    "    tscv = TimeSeriesSplit(n_splits=n_splits)\n",
    "    overall_smape_list = []\n",
    "    metrics_per_fold = []\n",
    "    fold = 0\n",
    "\n",
    "    for train_index, val_index in tscv.split(df):\n",
    "        print(f\"\\nFold {fold+1}/{n_splits}\")\n",
    "        train_df_fold = df.iloc[train_index]\n",
    "        val_df_fold = df.iloc[val_index]\n",
    "        train_fold = TimeSeries.from_dataframe(train_df_fold, time_col=\"Timestamp\", value_cols=target_columns, freq='1h')\n",
    "        val_fold = TimeSeries.from_dataframe(val_df_fold, time_col=\"Timestamp\", value_cols=target_columns, freq='1h')\n",
    "\n",
    "        scaler = Scaler()\n",
    "        scaler = scaler.fit(train_fold)\n",
    "        train_scaled = scaler.transform(train_fold)\n",
    "        val_scaled = scaler.transform(val_fold)\n",
    "\n",
    "        opt_kwargs = {\"lr\": lr, \"weight_decay\": weight_decay}\n",
    "\n",
    "        model = TiDEModel(\n",
    "            model_name=f\"model_{fold+1}\",\n",
    "            work_dir=\"/home/eduardo/Documentos/Water-Cycle-Neural-Network/darts_logs\",\n",
    "            input_chunk_length=input_chunk_length,\n",
    "            output_chunk_length=24,\n",
    "            hidden_size=hidden_size,\n",
    "            n_epochs=30,\n",
    "            batch_size=batch_size,\n",
    "            dropout=dropout,\n",
    "            num_encoder_layers=num_encoder_layers,\n",
    "            num_decoder_layers=num_decoder_layers,\n",
    "            temporal_width_past=temporal_width_past,\n",
    "            temporal_width_future=temporal_width_future,\n",
    "            use_reversible_instance_norm=use_reversible_instance_norm,\n",
    "            temporal_hidden_size_past=temporal_hidden_size_past,\n",
    "            temporal_hidden_size_future=temporal_hidden_size_future,\n",
    "            pl_trainer_kwargs=pl_trainer_kwargs,\n",
    "            loss_fn=torch.nn.L1Loss(),\n",
    "            optimizer_cls=torch.optim.Adam,\n",
    "            lr_scheduler_cls=torch.optim.lr_scheduler.ReduceLROnPlateau,\n",
    "            lr_scheduler_kwargs={\"mode\": \"min\", \"factor\": 0.3, \"patience\": 7, \"min_lr\": 1e-7},\n",
    "            save_checkpoints=True,\n",
    "            force_reset=True,\n",
    "            random_state=42,\n",
    "            optimizer_kwargs=opt_kwargs,\n",
    "        )\n",
    "        model.fit(\n",
    "            series=train_scaled,\n",
    "            val_series=val_scaled,\n",
    "            verbose=False,\n",
    "            dataloader_kwargs={\"num_workers\": 11},\n",
    "        )\n",
    "\n",
    "        try:\n",
    "            loaded_model = model.load_from_checkpoint(f\"/home/eduardo/Documentos/Water-Cycle-Neural-Network/darts_logs/model_{fold+1}\", best=True)\n",
    "            print(f\"Model loaded from checkpoint for trial {trial.number}, fold {fold}\")\n",
    "        except FileNotFoundError:\n",
    "            print(f\"Checkpoint not found. Using the in-memory trained model.\")\n",
    "            loaded_model = model\n",
    "\n",
    "        forecasts = loaded_model.historical_forecasts(\n",
    "            val_scaled,\n",
    "            forecast_horizon=24,\n",
    "            stride=1,\n",
    "            retrain=False,\n",
    "            verbose=False\n",
    "        )\n",
    "\n",
    "\n",
    "        forecasts_t = scaler.inverse_transform(forecasts)\n",
    "        s = scaler.inverse_transform(val_scaled)\n",
    "\n",
    "        overall_smape_val = smape(s, forecasts_t)\n",
    "        print(f\"SMAPE fold {fold}: {overall_smape_val}\")\n",
    "        overall_smape_list.append(overall_smape_val)\n",
    "        \n",
    "        metrics = {}\n",
    "        for target in target_columns:\n",
    "            metrics[target] = {\n",
    "                'MSE': mse(s[target], forecasts_t[target]),\n",
    "                'RMSE': rmse(s[target], forecasts_t[target]),\n",
    "                'MAE': mae(s[target], forecasts_t[target]),\n",
    "                'R2': r2_score(s[target], forecasts_t[target]),\n",
    "                'SMAPE': smape(s[target], forecasts_t[target]),\n",
    "                'WAPE': wmape(s[target], forecasts_t[target]),\n",
    "            }\n",
    "        metrics_per_fold.append(metrics)\n",
    "        fold += 1\n",
    "\n",
    "    mean_smape = np.mean(overall_smape_list)\n",
    "    print(f\"Média dos SMAPE nos folds: {mean_smape}\")\n",
    "\n",
    "    trial_dict = {\n",
    "        \"trial_number\": trial.number,\n",
    "        \"fold_smape\": overall_smape_list,\n",
    "        \"mean_smape\": mean_smape,\n",
    "        \"hyperparameters\": trial.params,\n",
    "        \"metrics_per_fold\": metrics_per_fold\n",
    "    }\n",
    "    json_path = os.path.join(results_output_dir, f\"trial_{trial.number}.json\")\n",
    "    with open(json_path, 'w') as f:\n",
    "        json.dump(trial_dict, f, indent=4)\n",
    "    print(f\"Results of trial {trial.number} saved in {json_path}\")\n",
    "    return mean_smape if not np.isnan(mean_smape) else float(\"inf\")"
   ]
  },
  {
   "cell_type": "code",
   "execution_count": 6,
   "id": "b36084313658a946",
   "metadata": {
    "ExecuteTime": {
     "end_time": "2025-06-05T19:05:40.951388Z",
     "start_time": "2025-06-05T19:05:40.949280Z"
    }
   },
   "outputs": [],
   "source": [
    "def print_callback(study, trial):\n",
    "    print(f\"Current value: {trial.value}, Current params: {trial.params}\")\n",
    "    print(f\"Best value: {study.best_value}, Best params: {study.best_trial.params}\")"
   ]
  },
  {
   "cell_type": "code",
   "execution_count": 7,
   "id": "c016d2f3570996c0",
   "metadata": {
    "ExecuteTime": {
     "end_time": "2025-06-05T19:07:50.838576Z",
     "start_time": "2025-06-05T19:05:40.997387Z"
    }
   },
   "outputs": [
    {
     "name": "stderr",
     "output_type": "stream",
     "text": [
      "[I 2025-06-09 14:01:05,622] A new study created in memory with name: no-name-88a5e7cc-08f0-469e-a336-4ab979c51b31\n"
     ]
    },
    {
     "name": "stdout",
     "output_type": "stream",
     "text": [
      "\n",
      "Fold 1/3\n"
     ]
    },
    {
     "name": "stderr",
     "output_type": "stream",
     "text": [
      "GPU available: True (cuda), used: True\n",
      "TPU available: False, using: 0 TPU cores\n",
      "HPU available: False, using: 0 HPUs\n",
      "LOCAL_RANK: 0 - CUDA_VISIBLE_DEVICES: [0]\n",
      "Metric val_loss improved. New best score: 0.459\n",
      "Metric val_loss improved by 0.001 >= min_delta = 0.0005. New best score: 0.458\n",
      "Metric val_loss improved by 0.001 >= min_delta = 0.0005. New best score: 0.457\n",
      "Metric val_loss improved by 0.001 >= min_delta = 0.0005. New best score: 0.457\n",
      "Metric val_loss improved by 0.001 >= min_delta = 0.0005. New best score: 0.456\n",
      "Metric val_loss improved by 0.001 >= min_delta = 0.0005. New best score: 0.455\n",
      "Metric val_loss improved by 0.001 >= min_delta = 0.0005. New best score: 0.455\n",
      "Metric val_loss improved by 0.001 >= min_delta = 0.0005. New best score: 0.454\n",
      "Metric val_loss improved by 0.001 >= min_delta = 0.0005. New best score: 0.453\n",
      "Metric val_loss improved by 0.001 >= min_delta = 0.0005. New best score: 0.453\n",
      "`Trainer.fit` stopped: `max_epochs=30` reached.\n",
      "GPU available: True (cuda), used: True\n",
      "TPU available: False, using: 0 TPU cores\n",
      "HPU available: False, using: 0 HPUs\n",
      "LOCAL_RANK: 0 - CUDA_VISIBLE_DEVICES: [0]\n"
     ]
    },
    {
     "name": "stdout",
     "output_type": "stream",
     "text": [
      "Model loaded from checkpoint for trial 0, fold 0\n"
     ]
    },
    {
     "name": "stderr",
     "output_type": "stream",
     "text": [
      "GPU available: True (cuda), used: True\n",
      "TPU available: False, using: 0 TPU cores\n",
      "HPU available: False, using: 0 HPUs\n",
      "LOCAL_RANK: 0 - CUDA_VISIBLE_DEVICES: [0]\n"
     ]
    },
    {
     "name": "stdout",
     "output_type": "stream",
     "text": [
      "SMAPE fold 0: 57.06071592338574\n",
      "\n",
      "Fold 2/3\n"
     ]
    },
    {
     "name": "stderr",
     "output_type": "stream",
     "text": [
      "/home/eduardo/Documentos/Water-Cycle-Neural-Network/venv/lib/python3.12/site-packages/optuna/trial/_trial.py:497: UserWarning: The reported value is ignored because this `step` 0 is already reported.\n",
      "  warnings.warn(\n",
      "Metric val_loss improved by 0.436 >= min_delta = 0.0005. New best score: 0.016\n",
      "/home/eduardo/Documentos/Water-Cycle-Neural-Network/venv/lib/python3.12/site-packages/optuna/trial/_trial.py:497: UserWarning: The reported value is ignored because this `step` 1 is already reported.\n",
      "  warnings.warn(\n",
      "/home/eduardo/Documentos/Water-Cycle-Neural-Network/venv/lib/python3.12/site-packages/optuna/trial/_trial.py:497: UserWarning: The reported value is ignored because this `step` 2 is already reported.\n",
      "  warnings.warn(\n",
      "/home/eduardo/Documentos/Water-Cycle-Neural-Network/venv/lib/python3.12/site-packages/optuna/trial/_trial.py:497: UserWarning: The reported value is ignored because this `step` 3 is already reported.\n",
      "  warnings.warn(\n",
      "/home/eduardo/Documentos/Water-Cycle-Neural-Network/venv/lib/python3.12/site-packages/optuna/trial/_trial.py:497: UserWarning: The reported value is ignored because this `step` 4 is already reported.\n",
      "  warnings.warn(\n",
      "/home/eduardo/Documentos/Water-Cycle-Neural-Network/venv/lib/python3.12/site-packages/optuna/trial/_trial.py:497: UserWarning: The reported value is ignored because this `step` 5 is already reported.\n",
      "  warnings.warn(\n",
      "/home/eduardo/Documentos/Water-Cycle-Neural-Network/venv/lib/python3.12/site-packages/optuna/trial/_trial.py:497: UserWarning: The reported value is ignored because this `step` 6 is already reported.\n",
      "  warnings.warn(\n",
      "/home/eduardo/Documentos/Water-Cycle-Neural-Network/venv/lib/python3.12/site-packages/optuna/trial/_trial.py:497: UserWarning: The reported value is ignored because this `step` 7 is already reported.\n",
      "  warnings.warn(\n",
      "/home/eduardo/Documentos/Water-Cycle-Neural-Network/venv/lib/python3.12/site-packages/optuna/trial/_trial.py:497: UserWarning: The reported value is ignored because this `step` 8 is already reported.\n",
      "  warnings.warn(\n",
      "/home/eduardo/Documentos/Water-Cycle-Neural-Network/venv/lib/python3.12/site-packages/optuna/trial/_trial.py:497: UserWarning: The reported value is ignored because this `step` 9 is already reported.\n",
      "  warnings.warn(\n",
      "/home/eduardo/Documentos/Water-Cycle-Neural-Network/venv/lib/python3.12/site-packages/optuna/trial/_trial.py:497: UserWarning: The reported value is ignored because this `step` 10 is already reported.\n",
      "  warnings.warn(\n",
      "/home/eduardo/Documentos/Water-Cycle-Neural-Network/venv/lib/python3.12/site-packages/optuna/trial/_trial.py:497: UserWarning: The reported value is ignored because this `step` 11 is already reported.\n",
      "  warnings.warn(\n",
      "/home/eduardo/Documentos/Water-Cycle-Neural-Network/venv/lib/python3.12/site-packages/optuna/trial/_trial.py:497: UserWarning: The reported value is ignored because this `step` 12 is already reported.\n",
      "  warnings.warn(\n",
      "/home/eduardo/Documentos/Water-Cycle-Neural-Network/venv/lib/python3.12/site-packages/optuna/trial/_trial.py:497: UserWarning: The reported value is ignored because this `step` 13 is already reported.\n",
      "  warnings.warn(\n",
      "/home/eduardo/Documentos/Water-Cycle-Neural-Network/venv/lib/python3.12/site-packages/optuna/trial/_trial.py:497: UserWarning: The reported value is ignored because this `step` 14 is already reported.\n",
      "  warnings.warn(\n",
      "/home/eduardo/Documentos/Water-Cycle-Neural-Network/venv/lib/python3.12/site-packages/optuna/trial/_trial.py:497: UserWarning: The reported value is ignored because this `step` 15 is already reported.\n",
      "  warnings.warn(\n",
      "Monitored metric val_loss did not improve in the last 15 records. Best score: 0.016. Signaling Trainer to stop.\n",
      "GPU available: True (cuda), used: True\n",
      "TPU available: False, using: 0 TPU cores\n",
      "HPU available: False, using: 0 HPUs\n",
      "LOCAL_RANK: 0 - CUDA_VISIBLE_DEVICES: [0]\n"
     ]
    },
    {
     "name": "stdout",
     "output_type": "stream",
     "text": [
      "Model loaded from checkpoint for trial 0, fold 1\n"
     ]
    },
    {
     "name": "stderr",
     "output_type": "stream",
     "text": [
      "GPU available: True (cuda), used: True\n",
      "TPU available: False, using: 0 TPU cores\n",
      "HPU available: False, using: 0 HPUs\n",
      "LOCAL_RANK: 0 - CUDA_VISIBLE_DEVICES: [0]\n"
     ]
    },
    {
     "name": "stdout",
     "output_type": "stream",
     "text": [
      "SMAPE fold 1: 52.661226125608906\n",
      "\n",
      "Fold 3/3\n"
     ]
    },
    {
     "name": "stderr",
     "output_type": "stream",
     "text": [
      "/home/eduardo/Documentos/Water-Cycle-Neural-Network/venv/lib/python3.12/site-packages/optuna/trial/_trial.py:497: UserWarning: The reported value is ignored because this `step` 0 is already reported.\n",
      "  warnings.warn(\n",
      "Monitored metric val_loss did not improve in the last 16 records. Best score: 0.016. Signaling Trainer to stop.\n",
      "GPU available: True (cuda), used: True\n",
      "TPU available: False, using: 0 TPU cores\n",
      "HPU available: False, using: 0 HPUs\n",
      "LOCAL_RANK: 0 - CUDA_VISIBLE_DEVICES: [0]\n"
     ]
    },
    {
     "name": "stdout",
     "output_type": "stream",
     "text": [
      "Model loaded from checkpoint for trial 0, fold 2\n"
     ]
    },
    {
     "name": "stderr",
     "output_type": "stream",
     "text": [
      "[I 2025-06-09 14:01:57,638] Trial 0 finished with value: 56.4595431331245 and parameters: {'input_chunk_length': 132, 'hidden_size': 248, 'dropout': 0.35, 'batch_size': 248, 'lr': 3.97943962458924e-06, 'weight_decay': 0.0004524007583360882, 'num_encoder_layers': 3, 'num_decoder_layers': 4, 'temporal_width_past': 1, 'temporal_width_future': 5, 'use_reversible_instance_norm': True, 'temporal_hidden_size_past': 84, 'temporal_hidden_size_future': 60}. Best is trial 0 with value: 56.4595431331245.\n",
      "GPU available: True (cuda), used: True\n",
      "TPU available: False, using: 0 TPU cores\n",
      "HPU available: False, using: 0 HPUs\n",
      "LOCAL_RANK: 0 - CUDA_VISIBLE_DEVICES: [0]\n"
     ]
    },
    {
     "name": "stdout",
     "output_type": "stream",
     "text": [
      "SMAPE fold 2: 59.65668735037886\n",
      "Média dos SMAPE nos folds: 56.4595431331245\n",
      "Results of trial 0 saved in optuna_iteration_metrics/trial_0.json\n",
      "Current value: 56.4595431331245, Current params: {'input_chunk_length': 132, 'hidden_size': 248, 'dropout': 0.35, 'batch_size': 248, 'lr': 3.97943962458924e-06, 'weight_decay': 0.0004524007583360882, 'num_encoder_layers': 3, 'num_decoder_layers': 4, 'temporal_width_past': 1, 'temporal_width_future': 5, 'use_reversible_instance_norm': True, 'temporal_hidden_size_past': 84, 'temporal_hidden_size_future': 60}\n",
      "Best value: 56.4595431331245, Best params: {'input_chunk_length': 132, 'hidden_size': 248, 'dropout': 0.35, 'batch_size': 248, 'lr': 3.97943962458924e-06, 'weight_decay': 0.0004524007583360882, 'num_encoder_layers': 3, 'num_decoder_layers': 4, 'temporal_width_past': 1, 'temporal_width_future': 5, 'use_reversible_instance_norm': True, 'temporal_hidden_size_past': 84, 'temporal_hidden_size_future': 60}\n",
      "\n",
      "Fold 1/3\n"
     ]
    },
    {
     "name": "stderr",
     "output_type": "stream",
     "text": [
      "Metric val_loss improved. New best score: 0.543\n",
      "Metric val_loss improved by 0.001 >= min_delta = 0.0005. New best score: 0.542\n",
      "Metric val_loss improved by 0.001 >= min_delta = 0.0005. New best score: 0.541\n",
      "Metric val_loss improved by 0.001 >= min_delta = 0.0005. New best score: 0.540\n",
      "Metric val_loss improved by 0.001 >= min_delta = 0.0005. New best score: 0.539\n",
      "Metric val_loss improved by 0.001 >= min_delta = 0.0005. New best score: 0.539\n",
      "Metric val_loss improved by 0.001 >= min_delta = 0.0005. New best score: 0.538\n",
      "Metric val_loss improved by 0.001 >= min_delta = 0.0005. New best score: 0.537\n",
      "Metric val_loss improved by 0.001 >= min_delta = 0.0005. New best score: 0.536\n",
      "Metric val_loss improved by 0.001 >= min_delta = 0.0005. New best score: 0.535\n",
      "Metric val_loss improved by 0.001 >= min_delta = 0.0005. New best score: 0.534\n",
      "Metric val_loss improved by 0.001 >= min_delta = 0.0005. New best score: 0.534\n",
      "Metric val_loss improved by 0.001 >= min_delta = 0.0005. New best score: 0.533\n",
      "Metric val_loss improved by 0.001 >= min_delta = 0.0005. New best score: 0.532\n",
      "Metric val_loss improved by 0.001 >= min_delta = 0.0005. New best score: 0.531\n",
      "`Trainer.fit` stopped: `max_epochs=30` reached.\n",
      "GPU available: True (cuda), used: True\n",
      "TPU available: False, using: 0 TPU cores\n",
      "HPU available: False, using: 0 HPUs\n",
      "LOCAL_RANK: 0 - CUDA_VISIBLE_DEVICES: [0]\n"
     ]
    },
    {
     "name": "stdout",
     "output_type": "stream",
     "text": [
      "Model loaded from checkpoint for trial 1, fold 0\n"
     ]
    },
    {
     "name": "stderr",
     "output_type": "stream",
     "text": [
      "GPU available: True (cuda), used: True\n",
      "TPU available: False, using: 0 TPU cores\n",
      "HPU available: False, using: 0 HPUs\n",
      "LOCAL_RANK: 0 - CUDA_VISIBLE_DEVICES: [0]\n"
     ]
    },
    {
     "name": "stdout",
     "output_type": "stream",
     "text": [
      "SMAPE fold 0: 58.21819091243586\n",
      "\n",
      "Fold 2/3\n"
     ]
    },
    {
     "name": "stderr",
     "output_type": "stream",
     "text": [
      "/home/eduardo/Documentos/Water-Cycle-Neural-Network/venv/lib/python3.12/site-packages/optuna/trial/_trial.py:497: UserWarning: The reported value is ignored because this `step` 0 is already reported.\n",
      "  warnings.warn(\n",
      "Metric val_loss improved by 0.514 >= min_delta = 0.0005. New best score: 0.017\n",
      "/home/eduardo/Documentos/Water-Cycle-Neural-Network/venv/lib/python3.12/site-packages/optuna/trial/_trial.py:497: UserWarning: The reported value is ignored because this `step` 1 is already reported.\n",
      "  warnings.warn(\n",
      "/home/eduardo/Documentos/Water-Cycle-Neural-Network/venv/lib/python3.12/site-packages/optuna/trial/_trial.py:497: UserWarning: The reported value is ignored because this `step` 2 is already reported.\n",
      "  warnings.warn(\n",
      "/home/eduardo/Documentos/Water-Cycle-Neural-Network/venv/lib/python3.12/site-packages/optuna/trial/_trial.py:497: UserWarning: The reported value is ignored because this `step` 3 is already reported.\n",
      "  warnings.warn(\n",
      "/home/eduardo/Documentos/Water-Cycle-Neural-Network/venv/lib/python3.12/site-packages/optuna/trial/_trial.py:497: UserWarning: The reported value is ignored because this `step` 4 is already reported.\n",
      "  warnings.warn(\n",
      "/home/eduardo/Documentos/Water-Cycle-Neural-Network/venv/lib/python3.12/site-packages/optuna/trial/_trial.py:497: UserWarning: The reported value is ignored because this `step` 5 is already reported.\n",
      "  warnings.warn(\n",
      "/home/eduardo/Documentos/Water-Cycle-Neural-Network/venv/lib/python3.12/site-packages/optuna/trial/_trial.py:497: UserWarning: The reported value is ignored because this `step` 6 is already reported.\n",
      "  warnings.warn(\n",
      "/home/eduardo/Documentos/Water-Cycle-Neural-Network/venv/lib/python3.12/site-packages/optuna/trial/_trial.py:497: UserWarning: The reported value is ignored because this `step` 7 is already reported.\n",
      "  warnings.warn(\n",
      "/home/eduardo/Documentos/Water-Cycle-Neural-Network/venv/lib/python3.12/site-packages/optuna/trial/_trial.py:497: UserWarning: The reported value is ignored because this `step` 8 is already reported.\n",
      "  warnings.warn(\n",
      "/home/eduardo/Documentos/Water-Cycle-Neural-Network/venv/lib/python3.12/site-packages/optuna/trial/_trial.py:497: UserWarning: The reported value is ignored because this `step` 9 is already reported.\n",
      "  warnings.warn(\n",
      "/home/eduardo/Documentos/Water-Cycle-Neural-Network/venv/lib/python3.12/site-packages/optuna/trial/_trial.py:497: UserWarning: The reported value is ignored because this `step` 10 is already reported.\n",
      "  warnings.warn(\n",
      "/home/eduardo/Documentos/Water-Cycle-Neural-Network/venv/lib/python3.12/site-packages/optuna/trial/_trial.py:497: UserWarning: The reported value is ignored because this `step` 11 is already reported.\n",
      "  warnings.warn(\n",
      "/home/eduardo/Documentos/Water-Cycle-Neural-Network/venv/lib/python3.12/site-packages/optuna/trial/_trial.py:497: UserWarning: The reported value is ignored because this `step` 12 is already reported.\n",
      "  warnings.warn(\n",
      "/home/eduardo/Documentos/Water-Cycle-Neural-Network/venv/lib/python3.12/site-packages/optuna/trial/_trial.py:497: UserWarning: The reported value is ignored because this `step` 13 is already reported.\n",
      "  warnings.warn(\n",
      "/home/eduardo/Documentos/Water-Cycle-Neural-Network/venv/lib/python3.12/site-packages/optuna/trial/_trial.py:497: UserWarning: The reported value is ignored because this `step` 14 is already reported.\n",
      "  warnings.warn(\n",
      "/home/eduardo/Documentos/Water-Cycle-Neural-Network/venv/lib/python3.12/site-packages/optuna/trial/_trial.py:497: UserWarning: The reported value is ignored because this `step` 15 is already reported.\n",
      "  warnings.warn(\n",
      "Monitored metric val_loss did not improve in the last 15 records. Best score: 0.017. Signaling Trainer to stop.\n",
      "GPU available: True (cuda), used: True\n",
      "TPU available: False, using: 0 TPU cores\n",
      "HPU available: False, using: 0 HPUs\n",
      "LOCAL_RANK: 0 - CUDA_VISIBLE_DEVICES: [0]\n"
     ]
    },
    {
     "name": "stdout",
     "output_type": "stream",
     "text": [
      "Model loaded from checkpoint for trial 1, fold 1\n"
     ]
    },
    {
     "name": "stderr",
     "output_type": "stream",
     "text": [
      "GPU available: True (cuda), used: True\n",
      "TPU available: False, using: 0 TPU cores\n",
      "HPU available: False, using: 0 HPUs\n",
      "LOCAL_RANK: 0 - CUDA_VISIBLE_DEVICES: [0]\n"
     ]
    },
    {
     "name": "stdout",
     "output_type": "stream",
     "text": [
      "SMAPE fold 1: 53.630772265563856\n",
      "\n",
      "Fold 3/3\n"
     ]
    },
    {
     "name": "stderr",
     "output_type": "stream",
     "text": [
      "/home/eduardo/Documentos/Water-Cycle-Neural-Network/venv/lib/python3.12/site-packages/optuna/trial/_trial.py:497: UserWarning: The reported value is ignored because this `step` 0 is already reported.\n",
      "  warnings.warn(\n",
      "Monitored metric val_loss did not improve in the last 16 records. Best score: 0.017. Signaling Trainer to stop.\n",
      "GPU available: True (cuda), used: True\n",
      "TPU available: False, using: 0 TPU cores\n",
      "HPU available: False, using: 0 HPUs\n",
      "LOCAL_RANK: 0 - CUDA_VISIBLE_DEVICES: [0]\n"
     ]
    },
    {
     "name": "stdout",
     "output_type": "stream",
     "text": [
      "Model loaded from checkpoint for trial 1, fold 2\n"
     ]
    },
    {
     "name": "stderr",
     "output_type": "stream",
     "text": [
      "[I 2025-06-09 14:02:49,276] Trial 1 finished with value: 57.943236116666505 and parameters: {'input_chunk_length': 144, 'hidden_size': 208, 'dropout': 0.2, 'batch_size': 144, 'lr': 2.246504011355177e-06, 'weight_decay': 0.0009173852478711887, 'num_encoder_layers': 2, 'num_decoder_layers': 1, 'temporal_width_past': 2, 'temporal_width_future': 5, 'use_reversible_instance_norm': True, 'temporal_hidden_size_past': 84, 'temporal_hidden_size_future': 60}. Best is trial 0 with value: 56.4595431331245.\n",
      "GPU available: True (cuda), used: True\n",
      "TPU available: False, using: 0 TPU cores\n",
      "HPU available: False, using: 0 HPUs\n",
      "LOCAL_RANK: 0 - CUDA_VISIBLE_DEVICES: [0]\n"
     ]
    },
    {
     "name": "stdout",
     "output_type": "stream",
     "text": [
      "SMAPE fold 2: 61.980745171999814\n",
      "Média dos SMAPE nos folds: 57.943236116666505\n",
      "Results of trial 1 saved in optuna_iteration_metrics/trial_1.json\n",
      "Current value: 57.943236116666505, Current params: {'input_chunk_length': 144, 'hidden_size': 208, 'dropout': 0.2, 'batch_size': 144, 'lr': 2.246504011355177e-06, 'weight_decay': 0.0009173852478711887, 'num_encoder_layers': 2, 'num_decoder_layers': 1, 'temporal_width_past': 2, 'temporal_width_future': 5, 'use_reversible_instance_norm': True, 'temporal_hidden_size_past': 84, 'temporal_hidden_size_future': 60}\n",
      "Best value: 56.4595431331245, Best params: {'input_chunk_length': 132, 'hidden_size': 248, 'dropout': 0.35, 'batch_size': 248, 'lr': 3.97943962458924e-06, 'weight_decay': 0.0004524007583360882, 'num_encoder_layers': 3, 'num_decoder_layers': 4, 'temporal_width_past': 1, 'temporal_width_future': 5, 'use_reversible_instance_norm': True, 'temporal_hidden_size_past': 84, 'temporal_hidden_size_future': 60}\n",
      "\n",
      "Fold 1/3\n"
     ]
    },
    {
     "name": "stderr",
     "output_type": "stream",
     "text": [
      "Metric val_loss improved. New best score: 8.262\n",
      "Metric val_loss improved by 0.014 >= min_delta = 0.0005. New best score: 8.248\n",
      "Metric val_loss improved by 0.014 >= min_delta = 0.0005. New best score: 8.234\n",
      "Metric val_loss improved by 0.013 >= min_delta = 0.0005. New best score: 8.221\n",
      "Metric val_loss improved by 0.013 >= min_delta = 0.0005. New best score: 8.207\n",
      "Metric val_loss improved by 0.013 >= min_delta = 0.0005. New best score: 8.194\n",
      "Metric val_loss improved by 0.013 >= min_delta = 0.0005. New best score: 8.181\n",
      "Metric val_loss improved by 0.013 >= min_delta = 0.0005. New best score: 8.168\n",
      "Metric val_loss improved by 0.013 >= min_delta = 0.0005. New best score: 8.155\n",
      "Metric val_loss improved by 0.013 >= min_delta = 0.0005. New best score: 8.142\n",
      "Metric val_loss improved by 0.013 >= min_delta = 0.0005. New best score: 8.129\n",
      "Metric val_loss improved by 0.013 >= min_delta = 0.0005. New best score: 8.116\n",
      "Metric val_loss improved by 0.013 >= min_delta = 0.0005. New best score: 8.102\n",
      "Metric val_loss improved by 0.013 >= min_delta = 0.0005. New best score: 8.089\n",
      "Metric val_loss improved by 0.013 >= min_delta = 0.0005. New best score: 8.076\n",
      "Metric val_loss improved by 0.013 >= min_delta = 0.0005. New best score: 8.064\n",
      "Metric val_loss improved by 0.013 >= min_delta = 0.0005. New best score: 8.051\n",
      "Metric val_loss improved by 0.013 >= min_delta = 0.0005. New best score: 8.038\n",
      "Metric val_loss improved by 0.013 >= min_delta = 0.0005. New best score: 8.025\n",
      "Metric val_loss improved by 0.013 >= min_delta = 0.0005. New best score: 8.013\n",
      "Metric val_loss improved by 0.013 >= min_delta = 0.0005. New best score: 8.000\n",
      "Metric val_loss improved by 0.012 >= min_delta = 0.0005. New best score: 7.987\n",
      "Metric val_loss improved by 0.013 >= min_delta = 0.0005. New best score: 7.975\n",
      "Metric val_loss improved by 0.013 >= min_delta = 0.0005. New best score: 7.962\n",
      "Metric val_loss improved by 0.012 >= min_delta = 0.0005. New best score: 7.950\n",
      "Metric val_loss improved by 0.012 >= min_delta = 0.0005. New best score: 7.937\n",
      "Metric val_loss improved by 0.012 >= min_delta = 0.0005. New best score: 7.925\n",
      "Metric val_loss improved by 0.012 >= min_delta = 0.0005. New best score: 7.913\n",
      "Metric val_loss improved by 0.012 >= min_delta = 0.0005. New best score: 7.900\n",
      "Metric val_loss improved by 0.012 >= min_delta = 0.0005. New best score: 7.888\n",
      "`Trainer.fit` stopped: `max_epochs=30` reached.\n",
      "GPU available: True (cuda), used: True\n",
      "TPU available: False, using: 0 TPU cores\n",
      "HPU available: False, using: 0 HPUs\n",
      "LOCAL_RANK: 0 - CUDA_VISIBLE_DEVICES: [0]\n"
     ]
    },
    {
     "name": "stdout",
     "output_type": "stream",
     "text": [
      "Model loaded from checkpoint for trial 2, fold 0\n"
     ]
    },
    {
     "name": "stderr",
     "output_type": "stream",
     "text": [
      "GPU available: True (cuda), used: True\n",
      "TPU available: False, using: 0 TPU cores\n",
      "HPU available: False, using: 0 HPUs\n",
      "LOCAL_RANK: 0 - CUDA_VISIBLE_DEVICES: [0]\n"
     ]
    },
    {
     "name": "stdout",
     "output_type": "stream",
     "text": [
      "SMAPE fold 0: 138.76609908997068\n",
      "\n",
      "Fold 2/3\n"
     ]
    },
    {
     "name": "stderr",
     "output_type": "stream",
     "text": [
      "/home/eduardo/Documentos/Water-Cycle-Neural-Network/venv/lib/python3.12/site-packages/optuna/trial/_trial.py:497: UserWarning: The reported value is ignored because this `step` 0 is already reported.\n",
      "  warnings.warn(\n",
      "Metric val_loss improved by 7.467 >= min_delta = 0.0005. New best score: 0.421\n",
      "/home/eduardo/Documentos/Water-Cycle-Neural-Network/venv/lib/python3.12/site-packages/optuna/trial/_trial.py:497: UserWarning: The reported value is ignored because this `step` 1 is already reported.\n",
      "  warnings.warn(\n",
      "Metric val_loss improved by 0.002 >= min_delta = 0.0005. New best score: 0.419\n",
      "/home/eduardo/Documentos/Water-Cycle-Neural-Network/venv/lib/python3.12/site-packages/optuna/trial/_trial.py:497: UserWarning: The reported value is ignored because this `step` 2 is already reported.\n",
      "  warnings.warn(\n",
      "Metric val_loss improved by 0.002 >= min_delta = 0.0005. New best score: 0.417\n",
      "/home/eduardo/Documentos/Water-Cycle-Neural-Network/venv/lib/python3.12/site-packages/optuna/trial/_trial.py:497: UserWarning: The reported value is ignored because this `step` 3 is already reported.\n",
      "  warnings.warn(\n",
      "Metric val_loss improved by 0.002 >= min_delta = 0.0005. New best score: 0.415\n",
      "/home/eduardo/Documentos/Water-Cycle-Neural-Network/venv/lib/python3.12/site-packages/optuna/trial/_trial.py:497: UserWarning: The reported value is ignored because this `step` 4 is already reported.\n",
      "  warnings.warn(\n",
      "Metric val_loss improved by 0.002 >= min_delta = 0.0005. New best score: 0.413\n",
      "/home/eduardo/Documentos/Water-Cycle-Neural-Network/venv/lib/python3.12/site-packages/optuna/trial/_trial.py:497: UserWarning: The reported value is ignored because this `step` 5 is already reported.\n",
      "  warnings.warn(\n",
      "Metric val_loss improved by 0.002 >= min_delta = 0.0005. New best score: 0.412\n",
      "/home/eduardo/Documentos/Water-Cycle-Neural-Network/venv/lib/python3.12/site-packages/optuna/trial/_trial.py:497: UserWarning: The reported value is ignored because this `step` 6 is already reported.\n",
      "  warnings.warn(\n",
      "Metric val_loss improved by 0.002 >= min_delta = 0.0005. New best score: 0.410\n",
      "/home/eduardo/Documentos/Water-Cycle-Neural-Network/venv/lib/python3.12/site-packages/optuna/trial/_trial.py:497: UserWarning: The reported value is ignored because this `step` 7 is already reported.\n",
      "  warnings.warn(\n",
      "Metric val_loss improved by 0.002 >= min_delta = 0.0005. New best score: 0.408\n",
      "/home/eduardo/Documentos/Water-Cycle-Neural-Network/venv/lib/python3.12/site-packages/optuna/trial/_trial.py:497: UserWarning: The reported value is ignored because this `step` 8 is already reported.\n",
      "  warnings.warn(\n",
      "Metric val_loss improved by 0.002 >= min_delta = 0.0005. New best score: 0.406\n",
      "/home/eduardo/Documentos/Water-Cycle-Neural-Network/venv/lib/python3.12/site-packages/optuna/trial/_trial.py:497: UserWarning: The reported value is ignored because this `step` 9 is already reported.\n",
      "  warnings.warn(\n",
      "Metric val_loss improved by 0.002 >= min_delta = 0.0005. New best score: 0.404\n",
      "/home/eduardo/Documentos/Water-Cycle-Neural-Network/venv/lib/python3.12/site-packages/optuna/trial/_trial.py:497: UserWarning: The reported value is ignored because this `step` 10 is already reported.\n",
      "  warnings.warn(\n",
      "Metric val_loss improved by 0.002 >= min_delta = 0.0005. New best score: 0.402\n",
      "/home/eduardo/Documentos/Water-Cycle-Neural-Network/venv/lib/python3.12/site-packages/optuna/trial/_trial.py:497: UserWarning: The reported value is ignored because this `step` 11 is already reported.\n",
      "  warnings.warn(\n",
      "Metric val_loss improved by 0.002 >= min_delta = 0.0005. New best score: 0.400\n",
      "/home/eduardo/Documentos/Water-Cycle-Neural-Network/venv/lib/python3.12/site-packages/optuna/trial/_trial.py:497: UserWarning: The reported value is ignored because this `step` 12 is already reported.\n",
      "  warnings.warn(\n",
      "Metric val_loss improved by 0.002 >= min_delta = 0.0005. New best score: 0.398\n",
      "/home/eduardo/Documentos/Water-Cycle-Neural-Network/venv/lib/python3.12/site-packages/optuna/trial/_trial.py:497: UserWarning: The reported value is ignored because this `step` 13 is already reported.\n",
      "  warnings.warn(\n",
      "Metric val_loss improved by 0.002 >= min_delta = 0.0005. New best score: 0.396\n",
      "/home/eduardo/Documentos/Water-Cycle-Neural-Network/venv/lib/python3.12/site-packages/optuna/trial/_trial.py:497: UserWarning: The reported value is ignored because this `step` 14 is already reported.\n",
      "  warnings.warn(\n",
      "Metric val_loss improved by 0.002 >= min_delta = 0.0005. New best score: 0.395\n",
      "/home/eduardo/Documentos/Water-Cycle-Neural-Network/venv/lib/python3.12/site-packages/optuna/trial/_trial.py:497: UserWarning: The reported value is ignored because this `step` 15 is already reported.\n",
      "  warnings.warn(\n",
      "Metric val_loss improved by 0.002 >= min_delta = 0.0005. New best score: 0.393\n",
      "/home/eduardo/Documentos/Water-Cycle-Neural-Network/venv/lib/python3.12/site-packages/optuna/trial/_trial.py:497: UserWarning: The reported value is ignored because this `step` 16 is already reported.\n",
      "  warnings.warn(\n",
      "Metric val_loss improved by 0.002 >= min_delta = 0.0005. New best score: 0.391\n",
      "/home/eduardo/Documentos/Water-Cycle-Neural-Network/venv/lib/python3.12/site-packages/optuna/trial/_trial.py:497: UserWarning: The reported value is ignored because this `step` 17 is already reported.\n",
      "  warnings.warn(\n",
      "Metric val_loss improved by 0.002 >= min_delta = 0.0005. New best score: 0.389\n",
      "/home/eduardo/Documentos/Water-Cycle-Neural-Network/venv/lib/python3.12/site-packages/optuna/trial/_trial.py:497: UserWarning: The reported value is ignored because this `step` 18 is already reported.\n",
      "  warnings.warn(\n",
      "Metric val_loss improved by 0.002 >= min_delta = 0.0005. New best score: 0.387\n",
      "/home/eduardo/Documentos/Water-Cycle-Neural-Network/venv/lib/python3.12/site-packages/optuna/trial/_trial.py:497: UserWarning: The reported value is ignored because this `step` 19 is already reported.\n",
      "  warnings.warn(\n",
      "Metric val_loss improved by 0.002 >= min_delta = 0.0005. New best score: 0.385\n",
      "/home/eduardo/Documentos/Water-Cycle-Neural-Network/venv/lib/python3.12/site-packages/optuna/trial/_trial.py:497: UserWarning: The reported value is ignored because this `step` 20 is already reported.\n",
      "  warnings.warn(\n",
      "Metric val_loss improved by 0.002 >= min_delta = 0.0005. New best score: 0.383\n",
      "/home/eduardo/Documentos/Water-Cycle-Neural-Network/venv/lib/python3.12/site-packages/optuna/trial/_trial.py:497: UserWarning: The reported value is ignored because this `step` 21 is already reported.\n",
      "  warnings.warn(\n",
      "Metric val_loss improved by 0.002 >= min_delta = 0.0005. New best score: 0.381\n",
      "/home/eduardo/Documentos/Water-Cycle-Neural-Network/venv/lib/python3.12/site-packages/optuna/trial/_trial.py:497: UserWarning: The reported value is ignored because this `step` 22 is already reported.\n",
      "  warnings.warn(\n",
      "Metric val_loss improved by 0.002 >= min_delta = 0.0005. New best score: 0.379\n",
      "/home/eduardo/Documentos/Water-Cycle-Neural-Network/venv/lib/python3.12/site-packages/optuna/trial/_trial.py:497: UserWarning: The reported value is ignored because this `step` 23 is already reported.\n",
      "  warnings.warn(\n",
      "Metric val_loss improved by 0.002 >= min_delta = 0.0005. New best score: 0.377\n",
      "/home/eduardo/Documentos/Water-Cycle-Neural-Network/venv/lib/python3.12/site-packages/optuna/trial/_trial.py:497: UserWarning: The reported value is ignored because this `step` 24 is already reported.\n",
      "  warnings.warn(\n",
      "Metric val_loss improved by 0.002 >= min_delta = 0.0005. New best score: 0.375\n",
      "/home/eduardo/Documentos/Water-Cycle-Neural-Network/venv/lib/python3.12/site-packages/optuna/trial/_trial.py:497: UserWarning: The reported value is ignored because this `step` 25 is already reported.\n",
      "  warnings.warn(\n",
      "Metric val_loss improved by 0.002 >= min_delta = 0.0005. New best score: 0.373\n",
      "/home/eduardo/Documentos/Water-Cycle-Neural-Network/venv/lib/python3.12/site-packages/optuna/trial/_trial.py:497: UserWarning: The reported value is ignored because this `step` 26 is already reported.\n",
      "  warnings.warn(\n",
      "Metric val_loss improved by 0.002 >= min_delta = 0.0005. New best score: 0.371\n",
      "/home/eduardo/Documentos/Water-Cycle-Neural-Network/venv/lib/python3.12/site-packages/optuna/trial/_trial.py:497: UserWarning: The reported value is ignored because this `step` 27 is already reported.\n",
      "  warnings.warn(\n",
      "Metric val_loss improved by 0.002 >= min_delta = 0.0005. New best score: 0.369\n",
      "/home/eduardo/Documentos/Water-Cycle-Neural-Network/venv/lib/python3.12/site-packages/optuna/trial/_trial.py:497: UserWarning: The reported value is ignored because this `step` 28 is already reported.\n",
      "  warnings.warn(\n",
      "Metric val_loss improved by 0.002 >= min_delta = 0.0005. New best score: 0.367\n",
      "/home/eduardo/Documentos/Water-Cycle-Neural-Network/venv/lib/python3.12/site-packages/optuna/trial/_trial.py:497: UserWarning: The reported value is ignored because this `step` 29 is already reported.\n",
      "  warnings.warn(\n",
      "Metric val_loss improved by 0.002 >= min_delta = 0.0005. New best score: 0.365\n",
      "`Trainer.fit` stopped: `max_epochs=30` reached.\n",
      "GPU available: True (cuda), used: True\n",
      "TPU available: False, using: 0 TPU cores\n",
      "HPU available: False, using: 0 HPUs\n",
      "LOCAL_RANK: 0 - CUDA_VISIBLE_DEVICES: [0]\n"
     ]
    },
    {
     "name": "stdout",
     "output_type": "stream",
     "text": [
      "Model loaded from checkpoint for trial 2, fold 1\n"
     ]
    },
    {
     "name": "stderr",
     "output_type": "stream",
     "text": [
      "GPU available: True (cuda), used: True\n",
      "TPU available: False, using: 0 TPU cores\n",
      "HPU available: False, using: 0 HPUs\n",
      "LOCAL_RANK: 0 - CUDA_VISIBLE_DEVICES: [0]\n"
     ]
    },
    {
     "name": "stdout",
     "output_type": "stream",
     "text": [
      "SMAPE fold 1: 159.88336479273516\n",
      "\n",
      "Fold 3/3\n"
     ]
    },
    {
     "name": "stderr",
     "output_type": "stream",
     "text": [
      "/home/eduardo/Documentos/Water-Cycle-Neural-Network/venv/lib/python3.12/site-packages/optuna/trial/_trial.py:497: UserWarning: The reported value is ignored because this `step` 0 is already reported.\n",
      "  warnings.warn(\n",
      "/home/eduardo/Documentos/Water-Cycle-Neural-Network/venv/lib/python3.12/site-packages/optuna/trial/_trial.py:497: UserWarning: The reported value is ignored because this `step` 1 is already reported.\n",
      "  warnings.warn(\n",
      "/home/eduardo/Documentos/Water-Cycle-Neural-Network/venv/lib/python3.12/site-packages/optuna/trial/_trial.py:497: UserWarning: The reported value is ignored because this `step` 2 is already reported.\n",
      "  warnings.warn(\n",
      "/home/eduardo/Documentos/Water-Cycle-Neural-Network/venv/lib/python3.12/site-packages/optuna/trial/_trial.py:497: UserWarning: The reported value is ignored because this `step` 3 is already reported.\n",
      "  warnings.warn(\n",
      "/home/eduardo/Documentos/Water-Cycle-Neural-Network/venv/lib/python3.12/site-packages/optuna/trial/_trial.py:497: UserWarning: The reported value is ignored because this `step` 4 is already reported.\n",
      "  warnings.warn(\n",
      "/home/eduardo/Documentos/Water-Cycle-Neural-Network/venv/lib/python3.12/site-packages/optuna/trial/_trial.py:497: UserWarning: The reported value is ignored because this `step` 5 is already reported.\n",
      "  warnings.warn(\n",
      "/home/eduardo/Documentos/Water-Cycle-Neural-Network/venv/lib/python3.12/site-packages/optuna/trial/_trial.py:497: UserWarning: The reported value is ignored because this `step` 6 is already reported.\n",
      "  warnings.warn(\n",
      "/home/eduardo/Documentos/Water-Cycle-Neural-Network/venv/lib/python3.12/site-packages/optuna/trial/_trial.py:497: UserWarning: The reported value is ignored because this `step` 7 is already reported.\n",
      "  warnings.warn(\n",
      "/home/eduardo/Documentos/Water-Cycle-Neural-Network/venv/lib/python3.12/site-packages/optuna/trial/_trial.py:497: UserWarning: The reported value is ignored because this `step` 8 is already reported.\n",
      "  warnings.warn(\n",
      "/home/eduardo/Documentos/Water-Cycle-Neural-Network/venv/lib/python3.12/site-packages/optuna/trial/_trial.py:497: UserWarning: The reported value is ignored because this `step` 9 is already reported.\n",
      "  warnings.warn(\n",
      "/home/eduardo/Documentos/Water-Cycle-Neural-Network/venv/lib/python3.12/site-packages/optuna/trial/_trial.py:497: UserWarning: The reported value is ignored because this `step` 10 is already reported.\n",
      "  warnings.warn(\n",
      "/home/eduardo/Documentos/Water-Cycle-Neural-Network/venv/lib/python3.12/site-packages/optuna/trial/_trial.py:497: UserWarning: The reported value is ignored because this `step` 11 is already reported.\n",
      "  warnings.warn(\n",
      "/home/eduardo/Documentos/Water-Cycle-Neural-Network/venv/lib/python3.12/site-packages/optuna/trial/_trial.py:497: UserWarning: The reported value is ignored because this `step` 12 is already reported.\n",
      "  warnings.warn(\n",
      "/home/eduardo/Documentos/Water-Cycle-Neural-Network/venv/lib/python3.12/site-packages/optuna/trial/_trial.py:497: UserWarning: The reported value is ignored because this `step` 13 is already reported.\n",
      "  warnings.warn(\n",
      "/home/eduardo/Documentos/Water-Cycle-Neural-Network/venv/lib/python3.12/site-packages/optuna/trial/_trial.py:497: UserWarning: The reported value is ignored because this `step` 14 is already reported.\n",
      "  warnings.warn(\n",
      "Monitored metric val_loss did not improve in the last 15 records. Best score: 0.365. Signaling Trainer to stop.\n",
      "GPU available: True (cuda), used: True\n",
      "TPU available: False, using: 0 TPU cores\n",
      "HPU available: False, using: 0 HPUs\n",
      "LOCAL_RANK: 0 - CUDA_VISIBLE_DEVICES: [0]\n"
     ]
    },
    {
     "name": "stdout",
     "output_type": "stream",
     "text": [
      "Model loaded from checkpoint for trial 2, fold 2\n"
     ]
    },
    {
     "name": "stderr",
     "output_type": "stream",
     "text": [
      "[I 2025-06-09 14:04:14,548] Trial 2 finished with value: 147.9233781039197 and parameters: {'input_chunk_length': 96, 'hidden_size': 168, 'dropout': 0.4, 'batch_size': 192, 'lr': 1.6720804085773264e-06, 'weight_decay': 0.005372560507748014, 'num_encoder_layers': 2, 'num_decoder_layers': 4, 'temporal_width_past': 4, 'temporal_width_future': 1, 'use_reversible_instance_norm': False, 'temporal_hidden_size_past': 120, 'temporal_hidden_size_future': 72}. Best is trial 0 with value: 56.4595431331245.\n",
      "GPU available: True (cuda), used: True\n",
      "TPU available: False, using: 0 TPU cores\n",
      "HPU available: False, using: 0 HPUs\n",
      "LOCAL_RANK: 0 - CUDA_VISIBLE_DEVICES: [0]\n"
     ]
    },
    {
     "name": "stdout",
     "output_type": "stream",
     "text": [
      "SMAPE fold 2: 145.1206704290533\n",
      "Média dos SMAPE nos folds: 147.9233781039197\n",
      "Results of trial 2 saved in optuna_iteration_metrics/trial_2.json\n",
      "Current value: 147.9233781039197, Current params: {'input_chunk_length': 96, 'hidden_size': 168, 'dropout': 0.4, 'batch_size': 192, 'lr': 1.6720804085773264e-06, 'weight_decay': 0.005372560507748014, 'num_encoder_layers': 2, 'num_decoder_layers': 4, 'temporal_width_past': 4, 'temporal_width_future': 1, 'use_reversible_instance_norm': False, 'temporal_hidden_size_past': 120, 'temporal_hidden_size_future': 72}\n",
      "Best value: 56.4595431331245, Best params: {'input_chunk_length': 132, 'hidden_size': 248, 'dropout': 0.35, 'batch_size': 248, 'lr': 3.97943962458924e-06, 'weight_decay': 0.0004524007583360882, 'num_encoder_layers': 3, 'num_decoder_layers': 4, 'temporal_width_past': 1, 'temporal_width_future': 5, 'use_reversible_instance_norm': True, 'temporal_hidden_size_past': 84, 'temporal_hidden_size_future': 60}\n",
      "\n",
      "Fold 1/3\n"
     ]
    },
    {
     "name": "stderr",
     "output_type": "stream",
     "text": [
      "Metric val_loss improved. New best score: 11.073\n",
      "Metric val_loss improved by 0.130 >= min_delta = 0.0005. New best score: 10.943\n",
      "Metric val_loss improved by 0.081 >= min_delta = 0.0005. New best score: 10.862\n",
      "Metric val_loss improved by 0.033 >= min_delta = 0.0005. New best score: 10.828\n",
      "Metric val_loss improved by 0.003 >= min_delta = 0.0005. New best score: 10.825\n",
      "Monitored metric val_loss did not improve in the last 15 records. Best score: 10.825. Signaling Trainer to stop.\n",
      "GPU available: True (cuda), used: True\n",
      "TPU available: False, using: 0 TPU cores\n",
      "HPU available: False, using: 0 HPUs\n",
      "LOCAL_RANK: 0 - CUDA_VISIBLE_DEVICES: [0]\n"
     ]
    },
    {
     "name": "stdout",
     "output_type": "stream",
     "text": [
      "Model loaded from checkpoint for trial 3, fold 0\n"
     ]
    },
    {
     "name": "stderr",
     "output_type": "stream",
     "text": [
      "GPU available: True (cuda), used: True\n",
      "TPU available: False, using: 0 TPU cores\n",
      "HPU available: False, using: 0 HPUs\n",
      "LOCAL_RANK: 0 - CUDA_VISIBLE_DEVICES: [0]\n"
     ]
    },
    {
     "name": "stdout",
     "output_type": "stream",
     "text": [
      "SMAPE fold 0: 172.61923870665424\n",
      "\n",
      "Fold 2/3\n"
     ]
    },
    {
     "name": "stderr",
     "output_type": "stream",
     "text": [
      "/home/eduardo/Documentos/Water-Cycle-Neural-Network/venv/lib/python3.12/site-packages/optuna/trial/_trial.py:497: UserWarning: The reported value is ignored because this `step` 0 is already reported.\n",
      "  warnings.warn(\n",
      "Metric val_loss improved by 10.239 >= min_delta = 0.0005. New best score: 0.586\n",
      "/home/eduardo/Documentos/Water-Cycle-Neural-Network/venv/lib/python3.12/site-packages/optuna/trial/_trial.py:497: UserWarning: The reported value is ignored because this `step` 1 is already reported.\n",
      "  warnings.warn(\n",
      "Metric val_loss improved by 0.037 >= min_delta = 0.0005. New best score: 0.549\n",
      "/home/eduardo/Documentos/Water-Cycle-Neural-Network/venv/lib/python3.12/site-packages/optuna/trial/_trial.py:497: UserWarning: The reported value is ignored because this `step` 2 is already reported.\n",
      "  warnings.warn(\n",
      "Metric val_loss improved by 0.044 >= min_delta = 0.0005. New best score: 0.506\n",
      "/home/eduardo/Documentos/Water-Cycle-Neural-Network/venv/lib/python3.12/site-packages/optuna/trial/_trial.py:497: UserWarning: The reported value is ignored because this `step` 3 is already reported.\n",
      "  warnings.warn(\n",
      "Metric val_loss improved by 0.052 >= min_delta = 0.0005. New best score: 0.454\n",
      "/home/eduardo/Documentos/Water-Cycle-Neural-Network/venv/lib/python3.12/site-packages/optuna/trial/_trial.py:497: UserWarning: The reported value is ignored because this `step` 4 is already reported.\n",
      "  warnings.warn(\n",
      "Metric val_loss improved by 0.055 >= min_delta = 0.0005. New best score: 0.399\n",
      "/home/eduardo/Documentos/Water-Cycle-Neural-Network/venv/lib/python3.12/site-packages/optuna/trial/_trial.py:497: UserWarning: The reported value is ignored because this `step` 5 is already reported.\n",
      "  warnings.warn(\n",
      "Metric val_loss improved by 0.047 >= min_delta = 0.0005. New best score: 0.353\n",
      "/home/eduardo/Documentos/Water-Cycle-Neural-Network/venv/lib/python3.12/site-packages/optuna/trial/_trial.py:497: UserWarning: The reported value is ignored because this `step` 6 is already reported.\n",
      "  warnings.warn(\n",
      "Metric val_loss improved by 0.033 >= min_delta = 0.0005. New best score: 0.320\n",
      "/home/eduardo/Documentos/Water-Cycle-Neural-Network/venv/lib/python3.12/site-packages/optuna/trial/_trial.py:497: UserWarning: The reported value is ignored because this `step` 7 is already reported.\n",
      "  warnings.warn(\n",
      "Metric val_loss improved by 0.027 >= min_delta = 0.0005. New best score: 0.293\n",
      "/home/eduardo/Documentos/Water-Cycle-Neural-Network/venv/lib/python3.12/site-packages/optuna/trial/_trial.py:497: UserWarning: The reported value is ignored because this `step` 8 is already reported.\n",
      "  warnings.warn(\n",
      "Metric val_loss improved by 0.022 >= min_delta = 0.0005. New best score: 0.270\n",
      "/home/eduardo/Documentos/Water-Cycle-Neural-Network/venv/lib/python3.12/site-packages/optuna/trial/_trial.py:497: UserWarning: The reported value is ignored because this `step` 9 is already reported.\n",
      "  warnings.warn(\n",
      "Metric val_loss improved by 0.020 >= min_delta = 0.0005. New best score: 0.251\n",
      "/home/eduardo/Documentos/Water-Cycle-Neural-Network/venv/lib/python3.12/site-packages/optuna/trial/_trial.py:497: UserWarning: The reported value is ignored because this `step` 10 is already reported.\n",
      "  warnings.warn(\n",
      "Metric val_loss improved by 0.017 >= min_delta = 0.0005. New best score: 0.234\n",
      "/home/eduardo/Documentos/Water-Cycle-Neural-Network/venv/lib/python3.12/site-packages/optuna/trial/_trial.py:497: UserWarning: The reported value is ignored because this `step` 11 is already reported.\n",
      "  warnings.warn(\n",
      "Metric val_loss improved by 0.015 >= min_delta = 0.0005. New best score: 0.219\n",
      "/home/eduardo/Documentos/Water-Cycle-Neural-Network/venv/lib/python3.12/site-packages/optuna/trial/_trial.py:497: UserWarning: The reported value is ignored because this `step` 12 is already reported.\n",
      "  warnings.warn(\n",
      "Metric val_loss improved by 0.014 >= min_delta = 0.0005. New best score: 0.205\n",
      "/home/eduardo/Documentos/Water-Cycle-Neural-Network/venv/lib/python3.12/site-packages/optuna/trial/_trial.py:497: UserWarning: The reported value is ignored because this `step` 13 is already reported.\n",
      "  warnings.warn(\n",
      "Metric val_loss improved by 0.014 >= min_delta = 0.0005. New best score: 0.191\n",
      "/home/eduardo/Documentos/Water-Cycle-Neural-Network/venv/lib/python3.12/site-packages/optuna/trial/_trial.py:497: UserWarning: The reported value is ignored because this `step` 14 is already reported.\n",
      "  warnings.warn(\n",
      "Metric val_loss improved by 0.011 >= min_delta = 0.0005. New best score: 0.180\n",
      "/home/eduardo/Documentos/Water-Cycle-Neural-Network/venv/lib/python3.12/site-packages/optuna/trial/_trial.py:497: UserWarning: The reported value is ignored because this `step` 15 is already reported.\n",
      "  warnings.warn(\n",
      "Metric val_loss improved by 0.010 >= min_delta = 0.0005. New best score: 0.170\n",
      "/home/eduardo/Documentos/Water-Cycle-Neural-Network/venv/lib/python3.12/site-packages/optuna/trial/_trial.py:497: UserWarning: The reported value is ignored because this `step` 16 is already reported.\n",
      "  warnings.warn(\n",
      "Metric val_loss improved by 0.009 >= min_delta = 0.0005. New best score: 0.160\n",
      "/home/eduardo/Documentos/Water-Cycle-Neural-Network/venv/lib/python3.12/site-packages/optuna/trial/_trial.py:497: UserWarning: The reported value is ignored because this `step` 17 is already reported.\n",
      "  warnings.warn(\n",
      "Metric val_loss improved by 0.008 >= min_delta = 0.0005. New best score: 0.152\n",
      "/home/eduardo/Documentos/Water-Cycle-Neural-Network/venv/lib/python3.12/site-packages/optuna/trial/_trial.py:497: UserWarning: The reported value is ignored because this `step` 18 is already reported.\n",
      "  warnings.warn(\n",
      "Metric val_loss improved by 0.008 >= min_delta = 0.0005. New best score: 0.145\n",
      "/home/eduardo/Documentos/Water-Cycle-Neural-Network/venv/lib/python3.12/site-packages/optuna/trial/_trial.py:497: UserWarning: The reported value is ignored because this `step` 19 is already reported.\n",
      "  warnings.warn(\n",
      "Metric val_loss improved by 0.006 >= min_delta = 0.0005. New best score: 0.138\n",
      "Metric val_loss improved by 0.006 >= min_delta = 0.0005. New best score: 0.132\n",
      "Metric val_loss improved by 0.006 >= min_delta = 0.0005. New best score: 0.126\n",
      "Metric val_loss improved by 0.005 >= min_delta = 0.0005. New best score: 0.121\n",
      "Metric val_loss improved by 0.005 >= min_delta = 0.0005. New best score: 0.116\n",
      "Metric val_loss improved by 0.005 >= min_delta = 0.0005. New best score: 0.110\n",
      "Metric val_loss improved by 0.004 >= min_delta = 0.0005. New best score: 0.107\n",
      "Metric val_loss improved by 0.004 >= min_delta = 0.0005. New best score: 0.103\n",
      "Metric val_loss improved by 0.003 >= min_delta = 0.0005. New best score: 0.100\n",
      "Metric val_loss improved by 0.004 >= min_delta = 0.0005. New best score: 0.096\n",
      "Metric val_loss improved by 0.003 >= min_delta = 0.0005. New best score: 0.093\n",
      "`Trainer.fit` stopped: `max_epochs=30` reached.\n",
      "GPU available: True (cuda), used: True\n",
      "TPU available: False, using: 0 TPU cores\n",
      "HPU available: False, using: 0 HPUs\n",
      "LOCAL_RANK: 0 - CUDA_VISIBLE_DEVICES: [0]\n"
     ]
    },
    {
     "name": "stdout",
     "output_type": "stream",
     "text": [
      "Model loaded from checkpoint for trial 3, fold 1\n"
     ]
    },
    {
     "name": "stderr",
     "output_type": "stream",
     "text": [
      "GPU available: True (cuda), used: True\n",
      "TPU available: False, using: 0 TPU cores\n",
      "HPU available: False, using: 0 HPUs\n",
      "LOCAL_RANK: 0 - CUDA_VISIBLE_DEVICES: [0]\n"
     ]
    },
    {
     "name": "stdout",
     "output_type": "stream",
     "text": [
      "SMAPE fold 1: 77.93339209150565\n",
      "\n",
      "Fold 3/3\n"
     ]
    },
    {
     "name": "stderr",
     "output_type": "stream",
     "text": [
      "/home/eduardo/Documentos/Water-Cycle-Neural-Network/venv/lib/python3.12/site-packages/optuna/trial/_trial.py:497: UserWarning: The reported value is ignored because this `step` 0 is already reported.\n",
      "  warnings.warn(\n",
      "/home/eduardo/Documentos/Water-Cycle-Neural-Network/venv/lib/python3.12/site-packages/optuna/trial/_trial.py:497: UserWarning: The reported value is ignored because this `step` 1 is already reported.\n",
      "  warnings.warn(\n",
      "/home/eduardo/Documentos/Water-Cycle-Neural-Network/venv/lib/python3.12/site-packages/optuna/trial/_trial.py:497: UserWarning: The reported value is ignored because this `step` 2 is already reported.\n",
      "  warnings.warn(\n",
      "/home/eduardo/Documentos/Water-Cycle-Neural-Network/venv/lib/python3.12/site-packages/optuna/trial/_trial.py:497: UserWarning: The reported value is ignored because this `step` 3 is already reported.\n",
      "  warnings.warn(\n",
      "/home/eduardo/Documentos/Water-Cycle-Neural-Network/venv/lib/python3.12/site-packages/optuna/trial/_trial.py:497: UserWarning: The reported value is ignored because this `step` 4 is already reported.\n",
      "  warnings.warn(\n",
      "/home/eduardo/Documentos/Water-Cycle-Neural-Network/venv/lib/python3.12/site-packages/optuna/trial/_trial.py:497: UserWarning: The reported value is ignored because this `step` 5 is already reported.\n",
      "  warnings.warn(\n",
      "/home/eduardo/Documentos/Water-Cycle-Neural-Network/venv/lib/python3.12/site-packages/optuna/trial/_trial.py:497: UserWarning: The reported value is ignored because this `step` 6 is already reported.\n",
      "  warnings.warn(\n",
      "/home/eduardo/Documentos/Water-Cycle-Neural-Network/venv/lib/python3.12/site-packages/optuna/trial/_trial.py:497: UserWarning: The reported value is ignored because this `step` 7 is already reported.\n",
      "  warnings.warn(\n",
      "/home/eduardo/Documentos/Water-Cycle-Neural-Network/venv/lib/python3.12/site-packages/optuna/trial/_trial.py:497: UserWarning: The reported value is ignored because this `step` 8 is already reported.\n",
      "  warnings.warn(\n",
      "/home/eduardo/Documentos/Water-Cycle-Neural-Network/venv/lib/python3.12/site-packages/optuna/trial/_trial.py:497: UserWarning: The reported value is ignored because this `step` 9 is already reported.\n",
      "  warnings.warn(\n",
      "/home/eduardo/Documentos/Water-Cycle-Neural-Network/venv/lib/python3.12/site-packages/optuna/trial/_trial.py:497: UserWarning: The reported value is ignored because this `step` 10 is already reported.\n",
      "  warnings.warn(\n",
      "/home/eduardo/Documentos/Water-Cycle-Neural-Network/venv/lib/python3.12/site-packages/optuna/trial/_trial.py:497: UserWarning: The reported value is ignored because this `step` 11 is already reported.\n",
      "  warnings.warn(\n",
      "/home/eduardo/Documentos/Water-Cycle-Neural-Network/venv/lib/python3.12/site-packages/optuna/trial/_trial.py:497: UserWarning: The reported value is ignored because this `step` 12 is already reported.\n",
      "  warnings.warn(\n",
      "/home/eduardo/Documentos/Water-Cycle-Neural-Network/venv/lib/python3.12/site-packages/optuna/trial/_trial.py:497: UserWarning: The reported value is ignored because this `step` 13 is already reported.\n",
      "  warnings.warn(\n",
      "/home/eduardo/Documentos/Water-Cycle-Neural-Network/venv/lib/python3.12/site-packages/optuna/trial/_trial.py:497: UserWarning: The reported value is ignored because this `step` 14 is already reported.\n",
      "  warnings.warn(\n",
      "Monitored metric val_loss did not improve in the last 15 records. Best score: 0.093. Signaling Trainer to stop.\n",
      "GPU available: True (cuda), used: True\n",
      "TPU available: False, using: 0 TPU cores\n",
      "HPU available: False, using: 0 HPUs\n",
      "LOCAL_RANK: 0 - CUDA_VISIBLE_DEVICES: [0]\n"
     ]
    },
    {
     "name": "stdout",
     "output_type": "stream",
     "text": [
      "Model loaded from checkpoint for trial 3, fold 2\n"
     ]
    },
    {
     "name": "stderr",
     "output_type": "stream",
     "text": [
      "[I 2025-06-09 14:05:35,399] Trial 3 finished with value: 113.47534250127205 and parameters: {'input_chunk_length': 120, 'hidden_size': 224, 'dropout': 0.4, 'batch_size': 88, 'lr': 3.7368617361630236e-06, 'weight_decay': 0.00022132476452014978, 'num_encoder_layers': 3, 'num_decoder_layers': 1, 'temporal_width_past': 2, 'temporal_width_future': 4, 'use_reversible_instance_norm': False, 'temporal_hidden_size_past': 72, 'temporal_hidden_size_future': 48}. Best is trial 0 with value: 56.4595431331245.\n",
      "GPU available: True (cuda), used: True\n",
      "TPU available: False, using: 0 TPU cores\n",
      "HPU available: False, using: 0 HPUs\n",
      "LOCAL_RANK: 0 - CUDA_VISIBLE_DEVICES: [0]\n"
     ]
    },
    {
     "name": "stdout",
     "output_type": "stream",
     "text": [
      "SMAPE fold 2: 89.87339670565623\n",
      "Média dos SMAPE nos folds: 113.47534250127205\n",
      "Results of trial 3 saved in optuna_iteration_metrics/trial_3.json\n",
      "Current value: 113.47534250127205, Current params: {'input_chunk_length': 120, 'hidden_size': 224, 'dropout': 0.4, 'batch_size': 88, 'lr': 3.7368617361630236e-06, 'weight_decay': 0.00022132476452014978, 'num_encoder_layers': 3, 'num_decoder_layers': 1, 'temporal_width_past': 2, 'temporal_width_future': 4, 'use_reversible_instance_norm': False, 'temporal_hidden_size_past': 72, 'temporal_hidden_size_future': 48}\n",
      "Best value: 56.4595431331245, Best params: {'input_chunk_length': 132, 'hidden_size': 248, 'dropout': 0.35, 'batch_size': 248, 'lr': 3.97943962458924e-06, 'weight_decay': 0.0004524007583360882, 'num_encoder_layers': 3, 'num_decoder_layers': 4, 'temporal_width_past': 1, 'temporal_width_future': 5, 'use_reversible_instance_norm': True, 'temporal_hidden_size_past': 84, 'temporal_hidden_size_future': 60}\n",
      "\n",
      "Fold 1/3\n"
     ]
    },
    {
     "name": "stderr",
     "output_type": "stream",
     "text": [
      "Metric val_loss improved. New best score: 0.446\n",
      "Metric val_loss improved by 0.001 >= min_delta = 0.0005. New best score: 0.445\n",
      "Metric val_loss improved by 0.001 >= min_delta = 0.0005. New best score: 0.444\n",
      "Metric val_loss improved by 0.001 >= min_delta = 0.0005. New best score: 0.443\n",
      "Metric val_loss improved by 0.001 >= min_delta = 0.0005. New best score: 0.442\n",
      "Metric val_loss improved by 0.001 >= min_delta = 0.0005. New best score: 0.441\n",
      "Metric val_loss improved by 0.001 >= min_delta = 0.0005. New best score: 0.441\n",
      "Metric val_loss improved by 0.001 >= min_delta = 0.0005. New best score: 0.440\n",
      "Metric val_loss improved by 0.001 >= min_delta = 0.0005. New best score: 0.439\n",
      "Metric val_loss improved by 0.001 >= min_delta = 0.0005. New best score: 0.438\n",
      "Metric val_loss improved by 0.001 >= min_delta = 0.0005. New best score: 0.437\n",
      "Metric val_loss improved by 0.001 >= min_delta = 0.0005. New best score: 0.436\n",
      "Metric val_loss improved by 0.001 >= min_delta = 0.0005. New best score: 0.435\n",
      "Metric val_loss improved by 0.001 >= min_delta = 0.0005. New best score: 0.435\n",
      "Metric val_loss improved by 0.001 >= min_delta = 0.0005. New best score: 0.434\n",
      "Metric val_loss improved by 0.001 >= min_delta = 0.0005. New best score: 0.434\n",
      "Metric val_loss improved by 0.001 >= min_delta = 0.0005. New best score: 0.433\n",
      "Metric val_loss improved by 0.001 >= min_delta = 0.0005. New best score: 0.432\n",
      "`Trainer.fit` stopped: `max_epochs=30` reached.\n",
      "GPU available: True (cuda), used: True\n",
      "TPU available: False, using: 0 TPU cores\n",
      "HPU available: False, using: 0 HPUs\n",
      "LOCAL_RANK: 0 - CUDA_VISIBLE_DEVICES: [0]\n"
     ]
    },
    {
     "name": "stdout",
     "output_type": "stream",
     "text": [
      "Model loaded from checkpoint for trial 4, fold 0\n"
     ]
    },
    {
     "name": "stderr",
     "output_type": "stream",
     "text": [
      "GPU available: True (cuda), used: True\n",
      "TPU available: False, using: 0 TPU cores\n",
      "HPU available: False, using: 0 HPUs\n",
      "LOCAL_RANK: 0 - CUDA_VISIBLE_DEVICES: [0]\n"
     ]
    },
    {
     "name": "stdout",
     "output_type": "stream",
     "text": [
      "SMAPE fold 0: 53.284196227901944\n",
      "\n",
      "Fold 2/3\n"
     ]
    },
    {
     "name": "stderr",
     "output_type": "stream",
     "text": [
      "/home/eduardo/Documentos/Water-Cycle-Neural-Network/venv/lib/python3.12/site-packages/optuna/trial/_trial.py:497: UserWarning: The reported value is ignored because this `step` 0 is already reported.\n",
      "  warnings.warn(\n",
      "Metric val_loss improved by 0.415 >= min_delta = 0.0005. New best score: 0.017\n",
      "/home/eduardo/Documentos/Water-Cycle-Neural-Network/venv/lib/python3.12/site-packages/optuna/trial/_trial.py:497: UserWarning: The reported value is ignored because this `step` 1 is already reported.\n",
      "  warnings.warn(\n",
      "/home/eduardo/Documentos/Water-Cycle-Neural-Network/venv/lib/python3.12/site-packages/optuna/trial/_trial.py:497: UserWarning: The reported value is ignored because this `step` 2 is already reported.\n",
      "  warnings.warn(\n",
      "/home/eduardo/Documentos/Water-Cycle-Neural-Network/venv/lib/python3.12/site-packages/optuna/trial/_trial.py:497: UserWarning: The reported value is ignored because this `step` 3 is already reported.\n",
      "  warnings.warn(\n",
      "/home/eduardo/Documentos/Water-Cycle-Neural-Network/venv/lib/python3.12/site-packages/optuna/trial/_trial.py:497: UserWarning: The reported value is ignored because this `step` 4 is already reported.\n",
      "  warnings.warn(\n",
      "/home/eduardo/Documentos/Water-Cycle-Neural-Network/venv/lib/python3.12/site-packages/optuna/trial/_trial.py:497: UserWarning: The reported value is ignored because this `step` 5 is already reported.\n",
      "  warnings.warn(\n",
      "/home/eduardo/Documentos/Water-Cycle-Neural-Network/venv/lib/python3.12/site-packages/optuna/trial/_trial.py:497: UserWarning: The reported value is ignored because this `step` 6 is already reported.\n",
      "  warnings.warn(\n",
      "/home/eduardo/Documentos/Water-Cycle-Neural-Network/venv/lib/python3.12/site-packages/optuna/trial/_trial.py:497: UserWarning: The reported value is ignored because this `step` 7 is already reported.\n",
      "  warnings.warn(\n",
      "/home/eduardo/Documentos/Water-Cycle-Neural-Network/venv/lib/python3.12/site-packages/optuna/trial/_trial.py:497: UserWarning: The reported value is ignored because this `step` 8 is already reported.\n",
      "  warnings.warn(\n",
      "/home/eduardo/Documentos/Water-Cycle-Neural-Network/venv/lib/python3.12/site-packages/optuna/trial/_trial.py:497: UserWarning: The reported value is ignored because this `step` 9 is already reported.\n",
      "  warnings.warn(\n",
      "/home/eduardo/Documentos/Water-Cycle-Neural-Network/venv/lib/python3.12/site-packages/optuna/trial/_trial.py:497: UserWarning: The reported value is ignored because this `step` 10 is already reported.\n",
      "  warnings.warn(\n",
      "/home/eduardo/Documentos/Water-Cycle-Neural-Network/venv/lib/python3.12/site-packages/optuna/trial/_trial.py:497: UserWarning: The reported value is ignored because this `step` 11 is already reported.\n",
      "  warnings.warn(\n",
      "/home/eduardo/Documentos/Water-Cycle-Neural-Network/venv/lib/python3.12/site-packages/optuna/trial/_trial.py:497: UserWarning: The reported value is ignored because this `step` 12 is already reported.\n",
      "  warnings.warn(\n",
      "/home/eduardo/Documentos/Water-Cycle-Neural-Network/venv/lib/python3.12/site-packages/optuna/trial/_trial.py:497: UserWarning: The reported value is ignored because this `step` 13 is already reported.\n",
      "  warnings.warn(\n",
      "/home/eduardo/Documentos/Water-Cycle-Neural-Network/venv/lib/python3.12/site-packages/optuna/trial/_trial.py:497: UserWarning: The reported value is ignored because this `step` 14 is already reported.\n",
      "  warnings.warn(\n",
      "/home/eduardo/Documentos/Water-Cycle-Neural-Network/venv/lib/python3.12/site-packages/optuna/trial/_trial.py:497: UserWarning: The reported value is ignored because this `step` 15 is already reported.\n",
      "  warnings.warn(\n",
      "Monitored metric val_loss did not improve in the last 15 records. Best score: 0.017. Signaling Trainer to stop.\n",
      "GPU available: True (cuda), used: True\n",
      "TPU available: False, using: 0 TPU cores\n",
      "HPU available: False, using: 0 HPUs\n",
      "LOCAL_RANK: 0 - CUDA_VISIBLE_DEVICES: [0]\n"
     ]
    },
    {
     "name": "stdout",
     "output_type": "stream",
     "text": [
      "Model loaded from checkpoint for trial 4, fold 1\n"
     ]
    },
    {
     "name": "stderr",
     "output_type": "stream",
     "text": [
      "GPU available: True (cuda), used: True\n",
      "TPU available: False, using: 0 TPU cores\n",
      "HPU available: False, using: 0 HPUs\n",
      "LOCAL_RANK: 0 - CUDA_VISIBLE_DEVICES: [0]\n"
     ]
    },
    {
     "name": "stdout",
     "output_type": "stream",
     "text": [
      "SMAPE fold 1: 52.15664853588254\n",
      "\n",
      "Fold 3/3\n"
     ]
    },
    {
     "name": "stderr",
     "output_type": "stream",
     "text": [
      "/home/eduardo/Documentos/Water-Cycle-Neural-Network/venv/lib/python3.12/site-packages/optuna/trial/_trial.py:497: UserWarning: The reported value is ignored because this `step` 0 is already reported.\n",
      "  warnings.warn(\n",
      "Monitored metric val_loss did not improve in the last 16 records. Best score: 0.017. Signaling Trainer to stop.\n",
      "GPU available: True (cuda), used: True\n",
      "TPU available: False, using: 0 TPU cores\n",
      "HPU available: False, using: 0 HPUs\n",
      "LOCAL_RANK: 0 - CUDA_VISIBLE_DEVICES: [0]\n"
     ]
    },
    {
     "name": "stdout",
     "output_type": "stream",
     "text": [
      "Model loaded from checkpoint for trial 4, fold 2\n"
     ]
    },
    {
     "name": "stderr",
     "output_type": "stream",
     "text": [
      "[I 2025-06-09 14:06:40,381] Trial 4 finished with value: 53.96792846279889 and parameters: {'input_chunk_length': 144, 'hidden_size': 216, 'dropout': 0.30000000000000004, 'batch_size': 80, 'lr': 2.085209943151151e-06, 'weight_decay': 0.0016697193246129284, 'num_encoder_layers': 1, 'num_decoder_layers': 4, 'temporal_width_past': 1, 'temporal_width_future': 4, 'use_reversible_instance_norm': True, 'temporal_hidden_size_past': 48, 'temporal_hidden_size_future': 144}. Best is trial 4 with value: 53.96792846279889.\n",
      "GPU available: True (cuda), used: True\n",
      "TPU available: False, using: 0 TPU cores\n",
      "HPU available: False, using: 0 HPUs\n",
      "LOCAL_RANK: 0 - CUDA_VISIBLE_DEVICES: [0]\n"
     ]
    },
    {
     "name": "stdout",
     "output_type": "stream",
     "text": [
      "SMAPE fold 2: 56.46294062461217\n",
      "Média dos SMAPE nos folds: 53.96792846279889\n",
      "Results of trial 4 saved in optuna_iteration_metrics/trial_4.json\n",
      "Current value: 53.96792846279889, Current params: {'input_chunk_length': 144, 'hidden_size': 216, 'dropout': 0.30000000000000004, 'batch_size': 80, 'lr': 2.085209943151151e-06, 'weight_decay': 0.0016697193246129284, 'num_encoder_layers': 1, 'num_decoder_layers': 4, 'temporal_width_past': 1, 'temporal_width_future': 4, 'use_reversible_instance_norm': True, 'temporal_hidden_size_past': 48, 'temporal_hidden_size_future': 144}\n",
      "Best value: 53.96792846279889, Best params: {'input_chunk_length': 144, 'hidden_size': 216, 'dropout': 0.30000000000000004, 'batch_size': 80, 'lr': 2.085209943151151e-06, 'weight_decay': 0.0016697193246129284, 'num_encoder_layers': 1, 'num_decoder_layers': 4, 'temporal_width_past': 1, 'temporal_width_future': 4, 'use_reversible_instance_norm': True, 'temporal_hidden_size_past': 48, 'temporal_hidden_size_future': 144}\n",
      "\n",
      "Fold 1/3\n"
     ]
    },
    {
     "name": "stderr",
     "output_type": "stream",
     "text": [
      "Metric val_loss improved. New best score: 0.325\n",
      "Metric val_loss improved by 0.001 >= min_delta = 0.0005. New best score: 0.325\n",
      "Metric val_loss improved by 0.001 >= min_delta = 0.0005. New best score: 0.324\n",
      "Metric val_loss improved by 0.001 >= min_delta = 0.0005. New best score: 0.323\n",
      "Metric val_loss improved by 0.001 >= min_delta = 0.0005. New best score: 0.323\n",
      "Metric val_loss improved by 0.001 >= min_delta = 0.0005. New best score: 0.322\n",
      "Metric val_loss improved by 0.001 >= min_delta = 0.0005. New best score: 0.321\n",
      "Metric val_loss improved by 0.001 >= min_delta = 0.0005. New best score: 0.321\n",
      "Metric val_loss improved by 0.001 >= min_delta = 0.0005. New best score: 0.320\n",
      "Metric val_loss improved by 0.001 >= min_delta = 0.0005. New best score: 0.320\n",
      "Metric val_loss improved by 0.001 >= min_delta = 0.0005. New best score: 0.319\n",
      "Metric val_loss improved by 0.001 >= min_delta = 0.0005. New best score: 0.318\n",
      "Metric val_loss improved by 0.001 >= min_delta = 0.0005. New best score: 0.318\n",
      "Metric val_loss improved by 0.001 >= min_delta = 0.0005. New best score: 0.317\n",
      "Metric val_loss improved by 0.001 >= min_delta = 0.0005. New best score: 0.316\n",
      "`Trainer.fit` stopped: `max_epochs=30` reached.\n",
      "GPU available: True (cuda), used: True\n",
      "TPU available: False, using: 0 TPU cores\n",
      "HPU available: False, using: 0 HPUs\n",
      "LOCAL_RANK: 0 - CUDA_VISIBLE_DEVICES: [0]\n"
     ]
    },
    {
     "name": "stdout",
     "output_type": "stream",
     "text": [
      "Model loaded from checkpoint for trial 5, fold 0\n"
     ]
    },
    {
     "name": "stderr",
     "output_type": "stream",
     "text": [
      "GPU available: True (cuda), used: True\n",
      "TPU available: False, using: 0 TPU cores\n",
      "HPU available: False, using: 0 HPUs\n",
      "LOCAL_RANK: 0 - CUDA_VISIBLE_DEVICES: [0]\n"
     ]
    },
    {
     "name": "stdout",
     "output_type": "stream",
     "text": [
      "SMAPE fold 0: 54.08757779590361\n",
      "\n",
      "Fold 2/3\n"
     ]
    },
    {
     "name": "stderr",
     "output_type": "stream",
     "text": [
      "/home/eduardo/Documentos/Water-Cycle-Neural-Network/venv/lib/python3.12/site-packages/optuna/trial/_trial.py:497: UserWarning: The reported value is ignored because this `step` 0 is already reported.\n",
      "  warnings.warn(\n",
      "Metric val_loss improved by 0.301 >= min_delta = 0.0005. New best score: 0.015\n",
      "/home/eduardo/Documentos/Water-Cycle-Neural-Network/venv/lib/python3.12/site-packages/optuna/trial/_trial.py:497: UserWarning: The reported value is ignored because this `step` 1 is already reported.\n",
      "  warnings.warn(\n",
      "/home/eduardo/Documentos/Water-Cycle-Neural-Network/venv/lib/python3.12/site-packages/optuna/trial/_trial.py:497: UserWarning: The reported value is ignored because this `step` 2 is already reported.\n",
      "  warnings.warn(\n",
      "/home/eduardo/Documentos/Water-Cycle-Neural-Network/venv/lib/python3.12/site-packages/optuna/trial/_trial.py:497: UserWarning: The reported value is ignored because this `step` 3 is already reported.\n",
      "  warnings.warn(\n",
      "/home/eduardo/Documentos/Water-Cycle-Neural-Network/venv/lib/python3.12/site-packages/optuna/trial/_trial.py:497: UserWarning: The reported value is ignored because this `step` 4 is already reported.\n",
      "  warnings.warn(\n",
      "/home/eduardo/Documentos/Water-Cycle-Neural-Network/venv/lib/python3.12/site-packages/optuna/trial/_trial.py:497: UserWarning: The reported value is ignored because this `step` 5 is already reported.\n",
      "  warnings.warn(\n",
      "/home/eduardo/Documentos/Water-Cycle-Neural-Network/venv/lib/python3.12/site-packages/optuna/trial/_trial.py:497: UserWarning: The reported value is ignored because this `step` 6 is already reported.\n",
      "  warnings.warn(\n",
      "/home/eduardo/Documentos/Water-Cycle-Neural-Network/venv/lib/python3.12/site-packages/optuna/trial/_trial.py:497: UserWarning: The reported value is ignored because this `step` 7 is already reported.\n",
      "  warnings.warn(\n",
      "/home/eduardo/Documentos/Water-Cycle-Neural-Network/venv/lib/python3.12/site-packages/optuna/trial/_trial.py:497: UserWarning: The reported value is ignored because this `step` 8 is already reported.\n",
      "  warnings.warn(\n",
      "/home/eduardo/Documentos/Water-Cycle-Neural-Network/venv/lib/python3.12/site-packages/optuna/trial/_trial.py:497: UserWarning: The reported value is ignored because this `step` 9 is already reported.\n",
      "  warnings.warn(\n",
      "/home/eduardo/Documentos/Water-Cycle-Neural-Network/venv/lib/python3.12/site-packages/optuna/trial/_trial.py:497: UserWarning: The reported value is ignored because this `step` 10 is already reported.\n",
      "  warnings.warn(\n",
      "/home/eduardo/Documentos/Water-Cycle-Neural-Network/venv/lib/python3.12/site-packages/optuna/trial/_trial.py:497: UserWarning: The reported value is ignored because this `step` 11 is already reported.\n",
      "  warnings.warn(\n",
      "/home/eduardo/Documentos/Water-Cycle-Neural-Network/venv/lib/python3.12/site-packages/optuna/trial/_trial.py:497: UserWarning: The reported value is ignored because this `step` 12 is already reported.\n",
      "  warnings.warn(\n",
      "/home/eduardo/Documentos/Water-Cycle-Neural-Network/venv/lib/python3.12/site-packages/optuna/trial/_trial.py:497: UserWarning: The reported value is ignored because this `step` 13 is already reported.\n",
      "  warnings.warn(\n",
      "/home/eduardo/Documentos/Water-Cycle-Neural-Network/venv/lib/python3.12/site-packages/optuna/trial/_trial.py:497: UserWarning: The reported value is ignored because this `step` 14 is already reported.\n",
      "  warnings.warn(\n",
      "/home/eduardo/Documentos/Water-Cycle-Neural-Network/venv/lib/python3.12/site-packages/optuna/trial/_trial.py:497: UserWarning: The reported value is ignored because this `step` 15 is already reported.\n",
      "  warnings.warn(\n",
      "Monitored metric val_loss did not improve in the last 15 records. Best score: 0.015. Signaling Trainer to stop.\n",
      "GPU available: True (cuda), used: True\n",
      "TPU available: False, using: 0 TPU cores\n",
      "HPU available: False, using: 0 HPUs\n",
      "LOCAL_RANK: 0 - CUDA_VISIBLE_DEVICES: [0]\n"
     ]
    },
    {
     "name": "stdout",
     "output_type": "stream",
     "text": [
      "Model loaded from checkpoint for trial 5, fold 1\n"
     ]
    },
    {
     "name": "stderr",
     "output_type": "stream",
     "text": [
      "GPU available: True (cuda), used: True\n",
      "TPU available: False, using: 0 TPU cores\n",
      "HPU available: False, using: 0 HPUs\n",
      "LOCAL_RANK: 0 - CUDA_VISIBLE_DEVICES: [0]\n"
     ]
    },
    {
     "name": "stdout",
     "output_type": "stream",
     "text": [
      "SMAPE fold 1: 52.75932239213478\n",
      "\n",
      "Fold 3/3\n"
     ]
    },
    {
     "name": "stderr",
     "output_type": "stream",
     "text": [
      "/home/eduardo/Documentos/Water-Cycle-Neural-Network/venv/lib/python3.12/site-packages/optuna/trial/_trial.py:497: UserWarning: The reported value is ignored because this `step` 0 is already reported.\n",
      "  warnings.warn(\n",
      "Monitored metric val_loss did not improve in the last 16 records. Best score: 0.015. Signaling Trainer to stop.\n",
      "GPU available: True (cuda), used: True\n",
      "TPU available: False, using: 0 TPU cores\n",
      "HPU available: False, using: 0 HPUs\n",
      "LOCAL_RANK: 0 - CUDA_VISIBLE_DEVICES: [0]\n"
     ]
    },
    {
     "name": "stdout",
     "output_type": "stream",
     "text": [
      "Model loaded from checkpoint for trial 5, fold 2\n"
     ]
    },
    {
     "name": "stderr",
     "output_type": "stream",
     "text": [
      "[I 2025-06-09 14:07:47,271] Trial 5 finished with value: 54.94238528054217 and parameters: {'input_chunk_length': 96, 'hidden_size': 80, 'dropout': 0.4, 'batch_size': 80, 'lr': 2.567022094281526e-06, 'weight_decay': 2.0568426098537607e-06, 'num_encoder_layers': 4, 'num_decoder_layers': 3, 'temporal_width_past': 1, 'temporal_width_future': 3, 'use_reversible_instance_norm': True, 'temporal_hidden_size_past': 84, 'temporal_hidden_size_future': 48}. Best is trial 4 with value: 53.96792846279889.\n",
      "GPU available: True (cuda), used: True\n",
      "TPU available: False, using: 0 TPU cores\n",
      "HPU available: False, using: 0 HPUs\n",
      "LOCAL_RANK: 0 - CUDA_VISIBLE_DEVICES: [0]\n"
     ]
    },
    {
     "name": "stdout",
     "output_type": "stream",
     "text": [
      "SMAPE fold 2: 57.98025565358811\n",
      "Média dos SMAPE nos folds: 54.94238528054217\n",
      "Results of trial 5 saved in optuna_iteration_metrics/trial_5.json\n",
      "Current value: 54.94238528054217, Current params: {'input_chunk_length': 96, 'hidden_size': 80, 'dropout': 0.4, 'batch_size': 80, 'lr': 2.567022094281526e-06, 'weight_decay': 2.0568426098537607e-06, 'num_encoder_layers': 4, 'num_decoder_layers': 3, 'temporal_width_past': 1, 'temporal_width_future': 3, 'use_reversible_instance_norm': True, 'temporal_hidden_size_past': 84, 'temporal_hidden_size_future': 48}\n",
      "Best value: 53.96792846279889, Best params: {'input_chunk_length': 144, 'hidden_size': 216, 'dropout': 0.30000000000000004, 'batch_size': 80, 'lr': 2.085209943151151e-06, 'weight_decay': 0.0016697193246129284, 'num_encoder_layers': 1, 'num_decoder_layers': 4, 'temporal_width_past': 1, 'temporal_width_future': 4, 'use_reversible_instance_norm': True, 'temporal_hidden_size_past': 48, 'temporal_hidden_size_future': 144}\n",
      "\n",
      "Fold 1/3\n"
     ]
    },
    {
     "name": "stderr",
     "output_type": "stream",
     "text": [
      "[I 2025-06-09 14:07:49,267] Trial 6 pruned. Trial was pruned at epoch 0.\n",
      "GPU available: True (cuda), used: True\n",
      "TPU available: False, using: 0 TPU cores\n",
      "HPU available: False, using: 0 HPUs\n",
      "LOCAL_RANK: 0 - CUDA_VISIBLE_DEVICES: [0]\n"
     ]
    },
    {
     "name": "stdout",
     "output_type": "stream",
     "text": [
      "Current value: 1.3573253179669749, Current params: {'input_chunk_length': 168, 'hidden_size': 184, 'dropout': 0.45000000000000007, 'batch_size': 112, 'lr': 0.0023729870698287686, 'weight_decay': 0.0007103882421390553, 'num_encoder_layers': 4, 'num_decoder_layers': 3, 'temporal_width_past': 3, 'temporal_width_future': 2, 'use_reversible_instance_norm': False, 'temporal_hidden_size_past': 36, 'temporal_hidden_size_future': 24}\n",
      "Best value: 53.96792846279889, Best params: {'input_chunk_length': 144, 'hidden_size': 216, 'dropout': 0.30000000000000004, 'batch_size': 80, 'lr': 2.085209943151151e-06, 'weight_decay': 0.0016697193246129284, 'num_encoder_layers': 1, 'num_decoder_layers': 4, 'temporal_width_past': 1, 'temporal_width_future': 4, 'use_reversible_instance_norm': True, 'temporal_hidden_size_past': 48, 'temporal_hidden_size_future': 144}\n",
      "\n",
      "Fold 1/3\n"
     ]
    },
    {
     "name": "stderr",
     "output_type": "stream",
     "text": [
      "Metric val_loss improved. New best score: 0.347\n",
      "Metric val_loss improved by 0.009 >= min_delta = 0.0005. New best score: 0.338\n",
      "Metric val_loss improved by 0.009 >= min_delta = 0.0005. New best score: 0.329\n",
      "Metric val_loss improved by 0.010 >= min_delta = 0.0005. New best score: 0.319\n",
      "Metric val_loss improved by 0.011 >= min_delta = 0.0005. New best score: 0.308\n",
      "Metric val_loss improved by 0.011 >= min_delta = 0.0005. New best score: 0.298\n",
      "Metric val_loss improved by 0.011 >= min_delta = 0.0005. New best score: 0.286\n",
      "Metric val_loss improved by 0.011 >= min_delta = 0.0005. New best score: 0.275\n",
      "Metric val_loss improved by 0.011 >= min_delta = 0.0005. New best score: 0.265\n",
      "Metric val_loss improved by 0.011 >= min_delta = 0.0005. New best score: 0.254\n",
      "Metric val_loss improved by 0.010 >= min_delta = 0.0005. New best score: 0.244\n",
      "Metric val_loss improved by 0.009 >= min_delta = 0.0005. New best score: 0.234\n",
      "Metric val_loss improved by 0.009 >= min_delta = 0.0005. New best score: 0.225\n",
      "Metric val_loss improved by 0.008 >= min_delta = 0.0005. New best score: 0.217\n",
      "Metric val_loss improved by 0.007 >= min_delta = 0.0005. New best score: 0.210\n",
      "Metric val_loss improved by 0.006 >= min_delta = 0.0005. New best score: 0.204\n",
      "Metric val_loss improved by 0.006 >= min_delta = 0.0005. New best score: 0.198\n",
      "Metric val_loss improved by 0.005 >= min_delta = 0.0005. New best score: 0.193\n",
      "Metric val_loss improved by 0.004 >= min_delta = 0.0005. New best score: 0.188\n",
      "Metric val_loss improved by 0.004 >= min_delta = 0.0005. New best score: 0.185\n",
      "Metric val_loss improved by 0.003 >= min_delta = 0.0005. New best score: 0.181\n",
      "Metric val_loss improved by 0.003 >= min_delta = 0.0005. New best score: 0.178\n",
      "Metric val_loss improved by 0.003 >= min_delta = 0.0005. New best score: 0.176\n",
      "Metric val_loss improved by 0.002 >= min_delta = 0.0005. New best score: 0.174\n",
      "Metric val_loss improved by 0.002 >= min_delta = 0.0005. New best score: 0.171\n",
      "Metric val_loss improved by 0.002 >= min_delta = 0.0005. New best score: 0.170\n",
      "Metric val_loss improved by 0.002 >= min_delta = 0.0005. New best score: 0.168\n",
      "Metric val_loss improved by 0.001 >= min_delta = 0.0005. New best score: 0.167\n",
      "Metric val_loss improved by 0.001 >= min_delta = 0.0005. New best score: 0.165\n",
      "Metric val_loss improved by 0.001 >= min_delta = 0.0005. New best score: 0.164\n",
      "`Trainer.fit` stopped: `max_epochs=30` reached.\n",
      "GPU available: True (cuda), used: True\n",
      "TPU available: False, using: 0 TPU cores\n",
      "HPU available: False, using: 0 HPUs\n",
      "LOCAL_RANK: 0 - CUDA_VISIBLE_DEVICES: [0]\n"
     ]
    },
    {
     "name": "stdout",
     "output_type": "stream",
     "text": [
      "Model loaded from checkpoint for trial 7, fold 0\n"
     ]
    },
    {
     "name": "stderr",
     "output_type": "stream",
     "text": [
      "GPU available: True (cuda), used: True\n",
      "TPU available: False, using: 0 TPU cores\n",
      "HPU available: False, using: 0 HPUs\n",
      "LOCAL_RANK: 0 - CUDA_VISIBLE_DEVICES: [0]\n"
     ]
    },
    {
     "name": "stdout",
     "output_type": "stream",
     "text": [
      "SMAPE fold 0: 50.13620033074433\n",
      "\n",
      "Fold 2/3\n"
     ]
    },
    {
     "name": "stderr",
     "output_type": "stream",
     "text": [
      "/home/eduardo/Documentos/Water-Cycle-Neural-Network/venv/lib/python3.12/site-packages/optuna/trial/_trial.py:497: UserWarning: The reported value is ignored because this `step` 0 is already reported.\n",
      "  warnings.warn(\n",
      "Metric val_loss improved by 0.148 >= min_delta = 0.0005. New best score: 0.016\n",
      "/home/eduardo/Documentos/Water-Cycle-Neural-Network/venv/lib/python3.12/site-packages/optuna/trial/_trial.py:497: UserWarning: The reported value is ignored because this `step` 1 is already reported.\n",
      "  warnings.warn(\n",
      "Metric val_loss improved by 0.001 >= min_delta = 0.0005. New best score: 0.015\n",
      "/home/eduardo/Documentos/Water-Cycle-Neural-Network/venv/lib/python3.12/site-packages/optuna/trial/_trial.py:497: UserWarning: The reported value is ignored because this `step` 2 is already reported.\n",
      "  warnings.warn(\n",
      "Metric val_loss improved by 0.001 >= min_delta = 0.0005. New best score: 0.015\n",
      "/home/eduardo/Documentos/Water-Cycle-Neural-Network/venv/lib/python3.12/site-packages/optuna/trial/_trial.py:497: UserWarning: The reported value is ignored because this `step` 3 is already reported.\n",
      "  warnings.warn(\n",
      "Metric val_loss improved by 0.001 >= min_delta = 0.0005. New best score: 0.014\n",
      "/home/eduardo/Documentos/Water-Cycle-Neural-Network/venv/lib/python3.12/site-packages/optuna/trial/_trial.py:497: UserWarning: The reported value is ignored because this `step` 4 is already reported.\n",
      "  warnings.warn(\n",
      "Metric val_loss improved by 0.001 >= min_delta = 0.0005. New best score: 0.013\n",
      "/home/eduardo/Documentos/Water-Cycle-Neural-Network/venv/lib/python3.12/site-packages/optuna/trial/_trial.py:497: UserWarning: The reported value is ignored because this `step` 5 is already reported.\n",
      "  warnings.warn(\n",
      "Metric val_loss improved by 0.001 >= min_delta = 0.0005. New best score: 0.013\n",
      "/home/eduardo/Documentos/Water-Cycle-Neural-Network/venv/lib/python3.12/site-packages/optuna/trial/_trial.py:497: UserWarning: The reported value is ignored because this `step` 6 is already reported.\n",
      "  warnings.warn(\n",
      "/home/eduardo/Documentos/Water-Cycle-Neural-Network/venv/lib/python3.12/site-packages/optuna/trial/_trial.py:497: UserWarning: The reported value is ignored because this `step` 7 is already reported.\n",
      "  warnings.warn(\n",
      "Metric val_loss improved by 0.001 >= min_delta = 0.0005. New best score: 0.012\n",
      "/home/eduardo/Documentos/Water-Cycle-Neural-Network/venv/lib/python3.12/site-packages/optuna/trial/_trial.py:497: UserWarning: The reported value is ignored because this `step` 8 is already reported.\n",
      "  warnings.warn(\n",
      "/home/eduardo/Documentos/Water-Cycle-Neural-Network/venv/lib/python3.12/site-packages/optuna/trial/_trial.py:497: UserWarning: The reported value is ignored because this `step` 9 is already reported.\n",
      "  warnings.warn(\n",
      "Metric val_loss improved by 0.001 >= min_delta = 0.0005. New best score: 0.012\n",
      "/home/eduardo/Documentos/Water-Cycle-Neural-Network/venv/lib/python3.12/site-packages/optuna/trial/_trial.py:497: UserWarning: The reported value is ignored because this `step` 10 is already reported.\n",
      "  warnings.warn(\n",
      "/home/eduardo/Documentos/Water-Cycle-Neural-Network/venv/lib/python3.12/site-packages/optuna/trial/_trial.py:497: UserWarning: The reported value is ignored because this `step` 11 is already reported.\n",
      "  warnings.warn(\n",
      "/home/eduardo/Documentos/Water-Cycle-Neural-Network/venv/lib/python3.12/site-packages/optuna/trial/_trial.py:497: UserWarning: The reported value is ignored because this `step` 12 is already reported.\n",
      "  warnings.warn(\n",
      "Metric val_loss improved by 0.001 >= min_delta = 0.0005. New best score: 0.011\n",
      "/home/eduardo/Documentos/Water-Cycle-Neural-Network/venv/lib/python3.12/site-packages/optuna/trial/_trial.py:497: UserWarning: The reported value is ignored because this `step` 13 is already reported.\n",
      "  warnings.warn(\n",
      "/home/eduardo/Documentos/Water-Cycle-Neural-Network/venv/lib/python3.12/site-packages/optuna/trial/_trial.py:497: UserWarning: The reported value is ignored because this `step` 14 is already reported.\n",
      "  warnings.warn(\n",
      "/home/eduardo/Documentos/Water-Cycle-Neural-Network/venv/lib/python3.12/site-packages/optuna/trial/_trial.py:497: UserWarning: The reported value is ignored because this `step` 15 is already reported.\n",
      "  warnings.warn(\n",
      "/home/eduardo/Documentos/Water-Cycle-Neural-Network/venv/lib/python3.12/site-packages/optuna/trial/_trial.py:497: UserWarning: The reported value is ignored because this `step` 16 is already reported.\n",
      "  warnings.warn(\n",
      "/home/eduardo/Documentos/Water-Cycle-Neural-Network/venv/lib/python3.12/site-packages/optuna/trial/_trial.py:497: UserWarning: The reported value is ignored because this `step` 17 is already reported.\n",
      "  warnings.warn(\n",
      "Metric val_loss improved by 0.001 >= min_delta = 0.0005. New best score: 0.011\n",
      "/home/eduardo/Documentos/Water-Cycle-Neural-Network/venv/lib/python3.12/site-packages/optuna/trial/_trial.py:497: UserWarning: The reported value is ignored because this `step` 18 is already reported.\n",
      "  warnings.warn(\n",
      "/home/eduardo/Documentos/Water-Cycle-Neural-Network/venv/lib/python3.12/site-packages/optuna/trial/_trial.py:497: UserWarning: The reported value is ignored because this `step` 19 is already reported.\n",
      "  warnings.warn(\n",
      "/home/eduardo/Documentos/Water-Cycle-Neural-Network/venv/lib/python3.12/site-packages/optuna/trial/_trial.py:497: UserWarning: The reported value is ignored because this `step` 20 is already reported.\n",
      "  warnings.warn(\n",
      "/home/eduardo/Documentos/Water-Cycle-Neural-Network/venv/lib/python3.12/site-packages/optuna/trial/_trial.py:497: UserWarning: The reported value is ignored because this `step` 21 is already reported.\n",
      "  warnings.warn(\n",
      "/home/eduardo/Documentos/Water-Cycle-Neural-Network/venv/lib/python3.12/site-packages/optuna/trial/_trial.py:497: UserWarning: The reported value is ignored because this `step` 22 is already reported.\n",
      "  warnings.warn(\n",
      "/home/eduardo/Documentos/Water-Cycle-Neural-Network/venv/lib/python3.12/site-packages/optuna/trial/_trial.py:497: UserWarning: The reported value is ignored because this `step` 23 is already reported.\n",
      "  warnings.warn(\n",
      "/home/eduardo/Documentos/Water-Cycle-Neural-Network/venv/lib/python3.12/site-packages/optuna/trial/_trial.py:497: UserWarning: The reported value is ignored because this `step` 24 is already reported.\n",
      "  warnings.warn(\n",
      "/home/eduardo/Documentos/Water-Cycle-Neural-Network/venv/lib/python3.12/site-packages/optuna/trial/_trial.py:497: UserWarning: The reported value is ignored because this `step` 25 is already reported.\n",
      "  warnings.warn(\n",
      "/home/eduardo/Documentos/Water-Cycle-Neural-Network/venv/lib/python3.12/site-packages/optuna/trial/_trial.py:497: UserWarning: The reported value is ignored because this `step` 26 is already reported.\n",
      "  warnings.warn(\n",
      "/home/eduardo/Documentos/Water-Cycle-Neural-Network/venv/lib/python3.12/site-packages/optuna/trial/_trial.py:497: UserWarning: The reported value is ignored because this `step` 27 is already reported.\n",
      "  warnings.warn(\n",
      "Metric val_loss improved by 0.001 >= min_delta = 0.0005. New best score: 0.010\n",
      "/home/eduardo/Documentos/Water-Cycle-Neural-Network/venv/lib/python3.12/site-packages/optuna/trial/_trial.py:497: UserWarning: The reported value is ignored because this `step` 28 is already reported.\n",
      "  warnings.warn(\n",
      "/home/eduardo/Documentos/Water-Cycle-Neural-Network/venv/lib/python3.12/site-packages/optuna/trial/_trial.py:497: UserWarning: The reported value is ignored because this `step` 29 is already reported.\n",
      "  warnings.warn(\n",
      "`Trainer.fit` stopped: `max_epochs=30` reached.\n",
      "GPU available: True (cuda), used: True\n",
      "TPU available: False, using: 0 TPU cores\n",
      "HPU available: False, using: 0 HPUs\n",
      "LOCAL_RANK: 0 - CUDA_VISIBLE_DEVICES: [0]\n"
     ]
    },
    {
     "name": "stdout",
     "output_type": "stream",
     "text": [
      "Model loaded from checkpoint for trial 7, fold 1\n"
     ]
    },
    {
     "name": "stderr",
     "output_type": "stream",
     "text": [
      "GPU available: True (cuda), used: True\n",
      "TPU available: False, using: 0 TPU cores\n",
      "HPU available: False, using: 0 HPUs\n",
      "LOCAL_RANK: 0 - CUDA_VISIBLE_DEVICES: [0]\n"
     ]
    },
    {
     "name": "stdout",
     "output_type": "stream",
     "text": [
      "SMAPE fold 1: 51.3951391523246\n",
      "\n",
      "Fold 3/3\n"
     ]
    },
    {
     "name": "stderr",
     "output_type": "stream",
     "text": [
      "/home/eduardo/Documentos/Water-Cycle-Neural-Network/venv/lib/python3.12/site-packages/optuna/trial/_trial.py:497: UserWarning: The reported value is ignored because this `step` 0 is already reported.\n",
      "  warnings.warn(\n",
      "/home/eduardo/Documentos/Water-Cycle-Neural-Network/venv/lib/python3.12/site-packages/optuna/trial/_trial.py:497: UserWarning: The reported value is ignored because this `step` 1 is already reported.\n",
      "  warnings.warn(\n",
      "/home/eduardo/Documentos/Water-Cycle-Neural-Network/venv/lib/python3.12/site-packages/optuna/trial/_trial.py:497: UserWarning: The reported value is ignored because this `step` 2 is already reported.\n",
      "  warnings.warn(\n",
      "/home/eduardo/Documentos/Water-Cycle-Neural-Network/venv/lib/python3.12/site-packages/optuna/trial/_trial.py:497: UserWarning: The reported value is ignored because this `step` 3 is already reported.\n",
      "  warnings.warn(\n",
      "/home/eduardo/Documentos/Water-Cycle-Neural-Network/venv/lib/python3.12/site-packages/optuna/trial/_trial.py:497: UserWarning: The reported value is ignored because this `step` 4 is already reported.\n",
      "  warnings.warn(\n",
      "/home/eduardo/Documentos/Water-Cycle-Neural-Network/venv/lib/python3.12/site-packages/optuna/trial/_trial.py:497: UserWarning: The reported value is ignored because this `step` 5 is already reported.\n",
      "  warnings.warn(\n",
      "/home/eduardo/Documentos/Water-Cycle-Neural-Network/venv/lib/python3.12/site-packages/optuna/trial/_trial.py:497: UserWarning: The reported value is ignored because this `step` 6 is already reported.\n",
      "  warnings.warn(\n",
      "/home/eduardo/Documentos/Water-Cycle-Neural-Network/venv/lib/python3.12/site-packages/optuna/trial/_trial.py:497: UserWarning: The reported value is ignored because this `step` 7 is already reported.\n",
      "  warnings.warn(\n",
      "/home/eduardo/Documentos/Water-Cycle-Neural-Network/venv/lib/python3.12/site-packages/optuna/trial/_trial.py:497: UserWarning: The reported value is ignored because this `step` 8 is already reported.\n",
      "  warnings.warn(\n",
      "/home/eduardo/Documentos/Water-Cycle-Neural-Network/venv/lib/python3.12/site-packages/optuna/trial/_trial.py:497: UserWarning: The reported value is ignored because this `step` 9 is already reported.\n",
      "  warnings.warn(\n",
      "/home/eduardo/Documentos/Water-Cycle-Neural-Network/venv/lib/python3.12/site-packages/optuna/trial/_trial.py:497: UserWarning: The reported value is ignored because this `step` 10 is already reported.\n",
      "  warnings.warn(\n",
      "/home/eduardo/Documentos/Water-Cycle-Neural-Network/venv/lib/python3.12/site-packages/optuna/trial/_trial.py:497: UserWarning: The reported value is ignored because this `step` 11 is already reported.\n",
      "  warnings.warn(\n",
      "/home/eduardo/Documentos/Water-Cycle-Neural-Network/venv/lib/python3.12/site-packages/optuna/trial/_trial.py:497: UserWarning: The reported value is ignored because this `step` 12 is already reported.\n",
      "  warnings.warn(\n",
      "Monitored metric val_loss did not improve in the last 15 records. Best score: 0.010. Signaling Trainer to stop.\n",
      "GPU available: True (cuda), used: True\n",
      "TPU available: False, using: 0 TPU cores\n",
      "HPU available: False, using: 0 HPUs\n",
      "LOCAL_RANK: 0 - CUDA_VISIBLE_DEVICES: [0]\n"
     ]
    },
    {
     "name": "stdout",
     "output_type": "stream",
     "text": [
      "Model loaded from checkpoint for trial 7, fold 2\n"
     ]
    },
    {
     "name": "stderr",
     "output_type": "stream",
     "text": [
      "[I 2025-06-09 14:10:31,381] Trial 7 finished with value: 51.79348411607213 and parameters: {'input_chunk_length': 108, 'hidden_size': 200, 'dropout': 0.4, 'batch_size': 80, 'lr': 8.962976130859648e-05, 'weight_decay': 0.00508205212362534, 'num_encoder_layers': 3, 'num_decoder_layers': 3, 'temporal_width_past': 5, 'temporal_width_future': 1, 'use_reversible_instance_norm': True, 'temporal_hidden_size_past': 144, 'temporal_hidden_size_future': 120}. Best is trial 7 with value: 51.79348411607213.\n",
      "GPU available: True (cuda), used: True\n",
      "TPU available: False, using: 0 TPU cores\n",
      "HPU available: False, using: 0 HPUs\n",
      "LOCAL_RANK: 0 - CUDA_VISIBLE_DEVICES: [0]\n"
     ]
    },
    {
     "name": "stdout",
     "output_type": "stream",
     "text": [
      "SMAPE fold 2: 53.849112865147454\n",
      "Média dos SMAPE nos folds: 51.79348411607213\n",
      "Results of trial 7 saved in optuna_iteration_metrics/trial_7.json\n",
      "Current value: 51.79348411607213, Current params: {'input_chunk_length': 108, 'hidden_size': 200, 'dropout': 0.4, 'batch_size': 80, 'lr': 8.962976130859648e-05, 'weight_decay': 0.00508205212362534, 'num_encoder_layers': 3, 'num_decoder_layers': 3, 'temporal_width_past': 5, 'temporal_width_future': 1, 'use_reversible_instance_norm': True, 'temporal_hidden_size_past': 144, 'temporal_hidden_size_future': 120}\n",
      "Best value: 51.79348411607213, Best params: {'input_chunk_length': 108, 'hidden_size': 200, 'dropout': 0.4, 'batch_size': 80, 'lr': 8.962976130859648e-05, 'weight_decay': 0.00508205212362534, 'num_encoder_layers': 3, 'num_decoder_layers': 3, 'temporal_width_past': 5, 'temporal_width_future': 1, 'use_reversible_instance_norm': True, 'temporal_hidden_size_past': 144, 'temporal_hidden_size_future': 120}\n",
      "\n",
      "Fold 1/3\n"
     ]
    },
    {
     "name": "stderr",
     "output_type": "stream",
     "text": [
      "[I 2025-06-09 14:10:33,059] Trial 8 pruned. Trial was pruned at epoch 0.\n",
      "GPU available: True (cuda), used: True\n",
      "TPU available: False, using: 0 TPU cores\n",
      "HPU available: False, using: 0 HPUs\n",
      "LOCAL_RANK: 0 - CUDA_VISIBLE_DEVICES: [0]\n"
     ]
    },
    {
     "name": "stdout",
     "output_type": "stream",
     "text": [
      "Current value: 8.50306349568356, Current params: {'input_chunk_length': 108, 'hidden_size': 120, 'dropout': 0.1, 'batch_size': 176, 'lr': 0.0003711948943756773, 'weight_decay': 1.21732910103732e-06, 'num_encoder_layers': 2, 'num_decoder_layers': 1, 'temporal_width_past': 4, 'temporal_width_future': 1, 'use_reversible_instance_norm': False, 'temporal_hidden_size_past': 156, 'temporal_hidden_size_future': 48}\n",
      "Best value: 51.79348411607213, Best params: {'input_chunk_length': 108, 'hidden_size': 200, 'dropout': 0.4, 'batch_size': 80, 'lr': 8.962976130859648e-05, 'weight_decay': 0.00508205212362534, 'num_encoder_layers': 3, 'num_decoder_layers': 3, 'temporal_width_past': 5, 'temporal_width_future': 1, 'use_reversible_instance_norm': True, 'temporal_hidden_size_past': 144, 'temporal_hidden_size_future': 120}\n",
      "\n",
      "Fold 1/3\n"
     ]
    },
    {
     "name": "stderr",
     "output_type": "stream",
     "text": [
      "Metric val_loss improved. New best score: 0.153\n",
      "Metric val_loss improved by 0.001 >= min_delta = 0.0005. New best score: 0.152\n",
      "Metric val_loss improved by 0.001 >= min_delta = 0.0005. New best score: 0.152\n",
      "Metric val_loss improved by 0.001 >= min_delta = 0.0005. New best score: 0.151\n",
      "Metric val_loss improved by 0.001 >= min_delta = 0.0005. New best score: 0.150\n",
      "Metric val_loss improved by 0.002 >= min_delta = 0.0005. New best score: 0.147\n",
      "Metric val_loss improved by 0.002 >= min_delta = 0.0005. New best score: 0.145\n",
      "Metric val_loss improved by 0.001 >= min_delta = 0.0005. New best score: 0.144\n",
      "Metric val_loss improved by 0.001 >= min_delta = 0.0005. New best score: 0.143\n",
      "Metric val_loss improved by 0.001 >= min_delta = 0.0005. New best score: 0.142\n",
      "Metric val_loss improved by 0.001 >= min_delta = 0.0005. New best score: 0.141\n",
      "Metric val_loss improved by 0.001 >= min_delta = 0.0005. New best score: 0.140\n",
      "Metric val_loss improved by 0.001 >= min_delta = 0.0005. New best score: 0.140\n",
      "Metric val_loss improved by 0.001 >= min_delta = 0.0005. New best score: 0.139\n",
      "Metric val_loss improved by 0.001 >= min_delta = 0.0005. New best score: 0.138\n",
      "Metric val_loss improved by 0.001 >= min_delta = 0.0005. New best score: 0.138\n",
      "Metric val_loss improved by 0.001 >= min_delta = 0.0005. New best score: 0.137\n",
      "Metric val_loss improved by 0.001 >= min_delta = 0.0005. New best score: 0.136\n",
      "Metric val_loss improved by 0.001 >= min_delta = 0.0005. New best score: 0.135\n",
      "Metric val_loss improved by 0.001 >= min_delta = 0.0005. New best score: 0.135\n",
      "`Trainer.fit` stopped: `max_epochs=30` reached.\n",
      "GPU available: True (cuda), used: True\n",
      "TPU available: False, using: 0 TPU cores\n",
      "HPU available: False, using: 0 HPUs\n",
      "LOCAL_RANK: 0 - CUDA_VISIBLE_DEVICES: [0]\n"
     ]
    },
    {
     "name": "stdout",
     "output_type": "stream",
     "text": [
      "Model loaded from checkpoint for trial 9, fold 0\n"
     ]
    },
    {
     "name": "stderr",
     "output_type": "stream",
     "text": [
      "GPU available: True (cuda), used: True\n",
      "TPU available: False, using: 0 TPU cores\n",
      "HPU available: False, using: 0 HPUs\n",
      "LOCAL_RANK: 0 - CUDA_VISIBLE_DEVICES: [0]\n"
     ]
    },
    {
     "name": "stdout",
     "output_type": "stream",
     "text": [
      "SMAPE fold 0: 49.460943063730255\n",
      "\n",
      "Fold 2/3\n"
     ]
    },
    {
     "name": "stderr",
     "output_type": "stream",
     "text": [
      "/home/eduardo/Documentos/Water-Cycle-Neural-Network/venv/lib/python3.12/site-packages/optuna/trial/_trial.py:497: UserWarning: The reported value is ignored because this `step` 0 is already reported.\n",
      "  warnings.warn(\n",
      "Metric val_loss improved by 0.124 >= min_delta = 0.0005. New best score: 0.010\n",
      "/home/eduardo/Documentos/Water-Cycle-Neural-Network/venv/lib/python3.12/site-packages/optuna/trial/_trial.py:497: UserWarning: The reported value is ignored because this `step` 1 is already reported.\n",
      "  warnings.warn(\n",
      "/home/eduardo/Documentos/Water-Cycle-Neural-Network/venv/lib/python3.12/site-packages/optuna/trial/_trial.py:497: UserWarning: The reported value is ignored because this `step` 2 is already reported.\n",
      "  warnings.warn(\n",
      "/home/eduardo/Documentos/Water-Cycle-Neural-Network/venv/lib/python3.12/site-packages/optuna/trial/_trial.py:497: UserWarning: The reported value is ignored because this `step` 3 is already reported.\n",
      "  warnings.warn(\n",
      "/home/eduardo/Documentos/Water-Cycle-Neural-Network/venv/lib/python3.12/site-packages/optuna/trial/_trial.py:497: UserWarning: The reported value is ignored because this `step` 4 is already reported.\n",
      "  warnings.warn(\n",
      "/home/eduardo/Documentos/Water-Cycle-Neural-Network/venv/lib/python3.12/site-packages/optuna/trial/_trial.py:497: UserWarning: The reported value is ignored because this `step` 5 is already reported.\n",
      "  warnings.warn(\n",
      "/home/eduardo/Documentos/Water-Cycle-Neural-Network/venv/lib/python3.12/site-packages/optuna/trial/_trial.py:497: UserWarning: The reported value is ignored because this `step` 6 is already reported.\n",
      "  warnings.warn(\n",
      "/home/eduardo/Documentos/Water-Cycle-Neural-Network/venv/lib/python3.12/site-packages/optuna/trial/_trial.py:497: UserWarning: The reported value is ignored because this `step` 7 is already reported.\n",
      "  warnings.warn(\n",
      "/home/eduardo/Documentos/Water-Cycle-Neural-Network/venv/lib/python3.12/site-packages/optuna/trial/_trial.py:497: UserWarning: The reported value is ignored because this `step` 8 is already reported.\n",
      "  warnings.warn(\n",
      "/home/eduardo/Documentos/Water-Cycle-Neural-Network/venv/lib/python3.12/site-packages/optuna/trial/_trial.py:497: UserWarning: The reported value is ignored because this `step` 9 is already reported.\n",
      "  warnings.warn(\n",
      "/home/eduardo/Documentos/Water-Cycle-Neural-Network/venv/lib/python3.12/site-packages/optuna/trial/_trial.py:497: UserWarning: The reported value is ignored because this `step` 10 is already reported.\n",
      "  warnings.warn(\n",
      "/home/eduardo/Documentos/Water-Cycle-Neural-Network/venv/lib/python3.12/site-packages/optuna/trial/_trial.py:497: UserWarning: The reported value is ignored because this `step` 11 is already reported.\n",
      "  warnings.warn(\n",
      "/home/eduardo/Documentos/Water-Cycle-Neural-Network/venv/lib/python3.12/site-packages/optuna/trial/_trial.py:497: UserWarning: The reported value is ignored because this `step` 12 is already reported.\n",
      "  warnings.warn(\n",
      "/home/eduardo/Documentos/Water-Cycle-Neural-Network/venv/lib/python3.12/site-packages/optuna/trial/_trial.py:497: UserWarning: The reported value is ignored because this `step` 13 is already reported.\n",
      "  warnings.warn(\n",
      "/home/eduardo/Documentos/Water-Cycle-Neural-Network/venv/lib/python3.12/site-packages/optuna/trial/_trial.py:497: UserWarning: The reported value is ignored because this `step` 14 is already reported.\n",
      "  warnings.warn(\n",
      "/home/eduardo/Documentos/Water-Cycle-Neural-Network/venv/lib/python3.12/site-packages/optuna/trial/_trial.py:497: UserWarning: The reported value is ignored because this `step` 15 is already reported.\n",
      "  warnings.warn(\n",
      "Monitored metric val_loss did not improve in the last 15 records. Best score: 0.010. Signaling Trainer to stop.\n",
      "GPU available: True (cuda), used: True\n",
      "TPU available: False, using: 0 TPU cores\n",
      "HPU available: False, using: 0 HPUs\n",
      "LOCAL_RANK: 0 - CUDA_VISIBLE_DEVICES: [0]\n"
     ]
    },
    {
     "name": "stdout",
     "output_type": "stream",
     "text": [
      "Model loaded from checkpoint for trial 9, fold 1\n"
     ]
    },
    {
     "name": "stderr",
     "output_type": "stream",
     "text": [
      "GPU available: True (cuda), used: True\n",
      "TPU available: False, using: 0 TPU cores\n",
      "HPU available: False, using: 0 HPUs\n",
      "LOCAL_RANK: 0 - CUDA_VISIBLE_DEVICES: [0]\n"
     ]
    },
    {
     "name": "stdout",
     "output_type": "stream",
     "text": [
      "SMAPE fold 1: 51.192458935191304\n",
      "\n",
      "Fold 3/3\n"
     ]
    },
    {
     "name": "stderr",
     "output_type": "stream",
     "text": [
      "/home/eduardo/Documentos/Water-Cycle-Neural-Network/venv/lib/python3.12/site-packages/optuna/trial/_trial.py:497: UserWarning: The reported value is ignored because this `step` 0 is already reported.\n",
      "  warnings.warn(\n",
      "Monitored metric val_loss did not improve in the last 16 records. Best score: 0.010. Signaling Trainer to stop.\n",
      "GPU available: True (cuda), used: True\n",
      "TPU available: False, using: 0 TPU cores\n",
      "HPU available: False, using: 0 HPUs\n",
      "LOCAL_RANK: 0 - CUDA_VISIBLE_DEVICES: [0]\n"
     ]
    },
    {
     "name": "stdout",
     "output_type": "stream",
     "text": [
      "Model loaded from checkpoint for trial 9, fold 2\n"
     ]
    },
    {
     "name": "stderr",
     "output_type": "stream",
     "text": [
      "[I 2025-06-09 14:12:29,993] Trial 9 finished with value: 51.86354498240204 and parameters: {'input_chunk_length': 24, 'hidden_size': 120, 'dropout': 0.2, 'batch_size': 216, 'lr': 5.326501034289967e-05, 'weight_decay': 9.96967329121517e-05, 'num_encoder_layers': 2, 'num_decoder_layers': 4, 'temporal_width_past': 3, 'temporal_width_future': 4, 'use_reversible_instance_norm': True, 'temporal_hidden_size_past': 132, 'temporal_hidden_size_future': 60}. Best is trial 7 with value: 51.79348411607213.\n",
      "GPU available: True (cuda), used: True\n",
      "TPU available: False, using: 0 TPU cores\n",
      "HPU available: False, using: 0 HPUs\n",
      "LOCAL_RANK: 0 - CUDA_VISIBLE_DEVICES: [0]\n"
     ]
    },
    {
     "name": "stdout",
     "output_type": "stream",
     "text": [
      "SMAPE fold 2: 54.937232948284546\n",
      "Média dos SMAPE nos folds: 51.86354498240204\n",
      "Results of trial 9 saved in optuna_iteration_metrics/trial_9.json\n",
      "Current value: 51.86354498240204, Current params: {'input_chunk_length': 24, 'hidden_size': 120, 'dropout': 0.2, 'batch_size': 216, 'lr': 5.326501034289967e-05, 'weight_decay': 9.96967329121517e-05, 'num_encoder_layers': 2, 'num_decoder_layers': 4, 'temporal_width_past': 3, 'temporal_width_future': 4, 'use_reversible_instance_norm': True, 'temporal_hidden_size_past': 132, 'temporal_hidden_size_future': 60}\n",
      "Best value: 51.79348411607213, Best params: {'input_chunk_length': 108, 'hidden_size': 200, 'dropout': 0.4, 'batch_size': 80, 'lr': 8.962976130859648e-05, 'weight_decay': 0.00508205212362534, 'num_encoder_layers': 3, 'num_decoder_layers': 3, 'temporal_width_past': 5, 'temporal_width_future': 1, 'use_reversible_instance_norm': True, 'temporal_hidden_size_past': 144, 'temporal_hidden_size_future': 120}\n",
      "\n",
      "Fold 1/3\n"
     ]
    },
    {
     "name": "stderr",
     "output_type": "stream",
     "text": [
      "Metric val_loss improved. New best score: 0.274\n",
      "Metric val_loss improved by 0.002 >= min_delta = 0.0005. New best score: 0.272\n",
      "Metric val_loss improved by 0.002 >= min_delta = 0.0005. New best score: 0.270\n",
      "Metric val_loss improved by 0.002 >= min_delta = 0.0005. New best score: 0.268\n",
      "Metric val_loss improved by 0.003 >= min_delta = 0.0005. New best score: 0.265\n",
      "Metric val_loss improved by 0.003 >= min_delta = 0.0005. New best score: 0.263\n",
      "Metric val_loss improved by 0.003 >= min_delta = 0.0005. New best score: 0.260\n",
      "Metric val_loss improved by 0.003 >= min_delta = 0.0005. New best score: 0.257\n",
      "Metric val_loss improved by 0.003 >= min_delta = 0.0005. New best score: 0.254\n",
      "Metric val_loss improved by 0.003 >= min_delta = 0.0005. New best score: 0.251\n",
      "Metric val_loss improved by 0.003 >= min_delta = 0.0005. New best score: 0.248\n",
      "Metric val_loss improved by 0.003 >= min_delta = 0.0005. New best score: 0.245\n",
      "Metric val_loss improved by 0.003 >= min_delta = 0.0005. New best score: 0.242\n",
      "Metric val_loss improved by 0.003 >= min_delta = 0.0005. New best score: 0.239\n",
      "Metric val_loss improved by 0.003 >= min_delta = 0.0005. New best score: 0.236\n",
      "Metric val_loss improved by 0.003 >= min_delta = 0.0005. New best score: 0.234\n",
      "Metric val_loss improved by 0.003 >= min_delta = 0.0005. New best score: 0.231\n",
      "Metric val_loss improved by 0.003 >= min_delta = 0.0005. New best score: 0.228\n",
      "Metric val_loss improved by 0.002 >= min_delta = 0.0005. New best score: 0.226\n",
      "Metric val_loss improved by 0.002 >= min_delta = 0.0005. New best score: 0.223\n",
      "Metric val_loss improved by 0.002 >= min_delta = 0.0005. New best score: 0.221\n",
      "Metric val_loss improved by 0.002 >= min_delta = 0.0005. New best score: 0.218\n",
      "Metric val_loss improved by 0.002 >= min_delta = 0.0005. New best score: 0.216\n",
      "Metric val_loss improved by 0.002 >= min_delta = 0.0005. New best score: 0.214\n",
      "Metric val_loss improved by 0.002 >= min_delta = 0.0005. New best score: 0.212\n",
      "Metric val_loss improved by 0.002 >= min_delta = 0.0005. New best score: 0.210\n",
      "Metric val_loss improved by 0.002 >= min_delta = 0.0005. New best score: 0.208\n",
      "Metric val_loss improved by 0.002 >= min_delta = 0.0005. New best score: 0.206\n",
      "Metric val_loss improved by 0.002 >= min_delta = 0.0005. New best score: 0.204\n",
      "Metric val_loss improved by 0.002 >= min_delta = 0.0005. New best score: 0.203\n",
      "`Trainer.fit` stopped: `max_epochs=30` reached.\n",
      "GPU available: True (cuda), used: True\n",
      "TPU available: False, using: 0 TPU cores\n",
      "HPU available: False, using: 0 HPUs\n",
      "LOCAL_RANK: 0 - CUDA_VISIBLE_DEVICES: [0]\n"
     ]
    },
    {
     "name": "stdout",
     "output_type": "stream",
     "text": [
      "Model loaded from checkpoint for trial 10, fold 0\n"
     ]
    },
    {
     "name": "stderr",
     "output_type": "stream",
     "text": [
      "GPU available: True (cuda), used: True\n",
      "TPU available: False, using: 0 TPU cores\n",
      "HPU available: False, using: 0 HPUs\n",
      "LOCAL_RANK: 0 - CUDA_VISIBLE_DEVICES: [0]\n"
     ]
    },
    {
     "name": "stdout",
     "output_type": "stream",
     "text": [
      "SMAPE fold 0: 51.14486375401621\n",
      "\n",
      "Fold 2/3\n"
     ]
    },
    {
     "name": "stderr",
     "output_type": "stream",
     "text": [
      "/home/eduardo/Documentos/Water-Cycle-Neural-Network/venv/lib/python3.12/site-packages/optuna/trial/_trial.py:497: UserWarning: The reported value is ignored because this `step` 0 is already reported.\n",
      "  warnings.warn(\n",
      "Metric val_loss improved by 0.188 >= min_delta = 0.0005. New best score: 0.015\n",
      "/home/eduardo/Documentos/Water-Cycle-Neural-Network/venv/lib/python3.12/site-packages/optuna/trial/_trial.py:497: UserWarning: The reported value is ignored because this `step` 1 is already reported.\n",
      "  warnings.warn(\n",
      "/home/eduardo/Documentos/Water-Cycle-Neural-Network/venv/lib/python3.12/site-packages/optuna/trial/_trial.py:497: UserWarning: The reported value is ignored because this `step` 2 is already reported.\n",
      "  warnings.warn(\n",
      "/home/eduardo/Documentos/Water-Cycle-Neural-Network/venv/lib/python3.12/site-packages/optuna/trial/_trial.py:497: UserWarning: The reported value is ignored because this `step` 3 is already reported.\n",
      "  warnings.warn(\n",
      "/home/eduardo/Documentos/Water-Cycle-Neural-Network/venv/lib/python3.12/site-packages/optuna/trial/_trial.py:497: UserWarning: The reported value is ignored because this `step` 4 is already reported.\n",
      "  warnings.warn(\n",
      "Metric val_loss improved by 0.001 >= min_delta = 0.0005. New best score: 0.014\n",
      "/home/eduardo/Documentos/Water-Cycle-Neural-Network/venv/lib/python3.12/site-packages/optuna/trial/_trial.py:497: UserWarning: The reported value is ignored because this `step` 5 is already reported.\n",
      "  warnings.warn(\n",
      "/home/eduardo/Documentos/Water-Cycle-Neural-Network/venv/lib/python3.12/site-packages/optuna/trial/_trial.py:497: UserWarning: The reported value is ignored because this `step` 6 is already reported.\n",
      "  warnings.warn(\n",
      "/home/eduardo/Documentos/Water-Cycle-Neural-Network/venv/lib/python3.12/site-packages/optuna/trial/_trial.py:497: UserWarning: The reported value is ignored because this `step` 7 is already reported.\n",
      "  warnings.warn(\n",
      "Metric val_loss improved by 0.001 >= min_delta = 0.0005. New best score: 0.014\n",
      "/home/eduardo/Documentos/Water-Cycle-Neural-Network/venv/lib/python3.12/site-packages/optuna/trial/_trial.py:497: UserWarning: The reported value is ignored because this `step` 8 is already reported.\n",
      "  warnings.warn(\n",
      "/home/eduardo/Documentos/Water-Cycle-Neural-Network/venv/lib/python3.12/site-packages/optuna/trial/_trial.py:497: UserWarning: The reported value is ignored because this `step` 9 is already reported.\n",
      "  warnings.warn(\n",
      "/home/eduardo/Documentos/Water-Cycle-Neural-Network/venv/lib/python3.12/site-packages/optuna/trial/_trial.py:497: UserWarning: The reported value is ignored because this `step` 10 is already reported.\n",
      "  warnings.warn(\n",
      "Metric val_loss improved by 0.001 >= min_delta = 0.0005. New best score: 0.013\n",
      "/home/eduardo/Documentos/Water-Cycle-Neural-Network/venv/lib/python3.12/site-packages/optuna/trial/_trial.py:497: UserWarning: The reported value is ignored because this `step` 11 is already reported.\n",
      "  warnings.warn(\n",
      "/home/eduardo/Documentos/Water-Cycle-Neural-Network/venv/lib/python3.12/site-packages/optuna/trial/_trial.py:497: UserWarning: The reported value is ignored because this `step` 12 is already reported.\n",
      "  warnings.warn(\n",
      "/home/eduardo/Documentos/Water-Cycle-Neural-Network/venv/lib/python3.12/site-packages/optuna/trial/_trial.py:497: UserWarning: The reported value is ignored because this `step` 13 is already reported.\n",
      "  warnings.warn(\n",
      "Metric val_loss improved by 0.001 >= min_delta = 0.0005. New best score: 0.013\n",
      "/home/eduardo/Documentos/Water-Cycle-Neural-Network/venv/lib/python3.12/site-packages/optuna/trial/_trial.py:497: UserWarning: The reported value is ignored because this `step` 14 is already reported.\n",
      "  warnings.warn(\n",
      "/home/eduardo/Documentos/Water-Cycle-Neural-Network/venv/lib/python3.12/site-packages/optuna/trial/_trial.py:497: UserWarning: The reported value is ignored because this `step` 15 is already reported.\n",
      "  warnings.warn(\n",
      "/home/eduardo/Documentos/Water-Cycle-Neural-Network/venv/lib/python3.12/site-packages/optuna/trial/_trial.py:497: UserWarning: The reported value is ignored because this `step` 16 is already reported.\n",
      "  warnings.warn(\n",
      "/home/eduardo/Documentos/Water-Cycle-Neural-Network/venv/lib/python3.12/site-packages/optuna/trial/_trial.py:497: UserWarning: The reported value is ignored because this `step` 17 is already reported.\n",
      "  warnings.warn(\n",
      "Metric val_loss improved by 0.001 >= min_delta = 0.0005. New best score: 0.012\n",
      "/home/eduardo/Documentos/Water-Cycle-Neural-Network/venv/lib/python3.12/site-packages/optuna/trial/_trial.py:497: UserWarning: The reported value is ignored because this `step` 18 is already reported.\n",
      "  warnings.warn(\n",
      "/home/eduardo/Documentos/Water-Cycle-Neural-Network/venv/lib/python3.12/site-packages/optuna/trial/_trial.py:497: UserWarning: The reported value is ignored because this `step` 19 is already reported.\n",
      "  warnings.warn(\n",
      "/home/eduardo/Documentos/Water-Cycle-Neural-Network/venv/lib/python3.12/site-packages/optuna/trial/_trial.py:497: UserWarning: The reported value is ignored because this `step` 20 is already reported.\n",
      "  warnings.warn(\n",
      "/home/eduardo/Documentos/Water-Cycle-Neural-Network/venv/lib/python3.12/site-packages/optuna/trial/_trial.py:497: UserWarning: The reported value is ignored because this `step` 21 is already reported.\n",
      "  warnings.warn(\n",
      "/home/eduardo/Documentos/Water-Cycle-Neural-Network/venv/lib/python3.12/site-packages/optuna/trial/_trial.py:497: UserWarning: The reported value is ignored because this `step` 22 is already reported.\n",
      "  warnings.warn(\n",
      "Metric val_loss improved by 0.001 >= min_delta = 0.0005. New best score: 0.012\n",
      "/home/eduardo/Documentos/Water-Cycle-Neural-Network/venv/lib/python3.12/site-packages/optuna/trial/_trial.py:497: UserWarning: The reported value is ignored because this `step` 23 is already reported.\n",
      "  warnings.warn(\n",
      "/home/eduardo/Documentos/Water-Cycle-Neural-Network/venv/lib/python3.12/site-packages/optuna/trial/_trial.py:497: UserWarning: The reported value is ignored because this `step` 24 is already reported.\n",
      "  warnings.warn(\n",
      "/home/eduardo/Documentos/Water-Cycle-Neural-Network/venv/lib/python3.12/site-packages/optuna/trial/_trial.py:497: UserWarning: The reported value is ignored because this `step` 25 is already reported.\n",
      "  warnings.warn(\n",
      "/home/eduardo/Documentos/Water-Cycle-Neural-Network/venv/lib/python3.12/site-packages/optuna/trial/_trial.py:497: UserWarning: The reported value is ignored because this `step` 26 is already reported.\n",
      "  warnings.warn(\n",
      "/home/eduardo/Documentos/Water-Cycle-Neural-Network/venv/lib/python3.12/site-packages/optuna/trial/_trial.py:497: UserWarning: The reported value is ignored because this `step` 27 is already reported.\n",
      "  warnings.warn(\n",
      "/home/eduardo/Documentos/Water-Cycle-Neural-Network/venv/lib/python3.12/site-packages/optuna/trial/_trial.py:497: UserWarning: The reported value is ignored because this `step` 28 is already reported.\n",
      "  warnings.warn(\n",
      "/home/eduardo/Documentos/Water-Cycle-Neural-Network/venv/lib/python3.12/site-packages/optuna/trial/_trial.py:497: UserWarning: The reported value is ignored because this `step` 29 is already reported.\n",
      "  warnings.warn(\n",
      "Metric val_loss improved by 0.001 >= min_delta = 0.0005. New best score: 0.011\n",
      "`Trainer.fit` stopped: `max_epochs=30` reached.\n",
      "GPU available: True (cuda), used: True\n",
      "TPU available: False, using: 0 TPU cores\n",
      "HPU available: False, using: 0 HPUs\n",
      "LOCAL_RANK: 0 - CUDA_VISIBLE_DEVICES: [0]\n"
     ]
    },
    {
     "name": "stdout",
     "output_type": "stream",
     "text": [
      "Model loaded from checkpoint for trial 10, fold 1\n"
     ]
    },
    {
     "name": "stderr",
     "output_type": "stream",
     "text": [
      "GPU available: True (cuda), used: True\n",
      "TPU available: False, using: 0 TPU cores\n",
      "HPU available: False, using: 0 HPUs\n",
      "LOCAL_RANK: 0 - CUDA_VISIBLE_DEVICES: [0]\n"
     ]
    },
    {
     "name": "stdout",
     "output_type": "stream",
     "text": [
      "SMAPE fold 1: 51.478438663937496\n",
      "\n",
      "Fold 3/3\n"
     ]
    },
    {
     "name": "stderr",
     "output_type": "stream",
     "text": [
      "/home/eduardo/Documentos/Water-Cycle-Neural-Network/venv/lib/python3.12/site-packages/optuna/trial/_trial.py:497: UserWarning: The reported value is ignored because this `step` 0 is already reported.\n",
      "  warnings.warn(\n",
      "/home/eduardo/Documentos/Water-Cycle-Neural-Network/venv/lib/python3.12/site-packages/optuna/trial/_trial.py:497: UserWarning: The reported value is ignored because this `step` 1 is already reported.\n",
      "  warnings.warn(\n",
      "/home/eduardo/Documentos/Water-Cycle-Neural-Network/venv/lib/python3.12/site-packages/optuna/trial/_trial.py:497: UserWarning: The reported value is ignored because this `step` 2 is already reported.\n",
      "  warnings.warn(\n",
      "/home/eduardo/Documentos/Water-Cycle-Neural-Network/venv/lib/python3.12/site-packages/optuna/trial/_trial.py:497: UserWarning: The reported value is ignored because this `step` 3 is already reported.\n",
      "  warnings.warn(\n",
      "/home/eduardo/Documentos/Water-Cycle-Neural-Network/venv/lib/python3.12/site-packages/optuna/trial/_trial.py:497: UserWarning: The reported value is ignored because this `step` 4 is already reported.\n",
      "  warnings.warn(\n",
      "/home/eduardo/Documentos/Water-Cycle-Neural-Network/venv/lib/python3.12/site-packages/optuna/trial/_trial.py:497: UserWarning: The reported value is ignored because this `step` 5 is already reported.\n",
      "  warnings.warn(\n",
      "/home/eduardo/Documentos/Water-Cycle-Neural-Network/venv/lib/python3.12/site-packages/optuna/trial/_trial.py:497: UserWarning: The reported value is ignored because this `step` 6 is already reported.\n",
      "  warnings.warn(\n",
      "/home/eduardo/Documentos/Water-Cycle-Neural-Network/venv/lib/python3.12/site-packages/optuna/trial/_trial.py:497: UserWarning: The reported value is ignored because this `step` 7 is already reported.\n",
      "  warnings.warn(\n",
      "/home/eduardo/Documentos/Water-Cycle-Neural-Network/venv/lib/python3.12/site-packages/optuna/trial/_trial.py:497: UserWarning: The reported value is ignored because this `step` 8 is already reported.\n",
      "  warnings.warn(\n",
      "/home/eduardo/Documentos/Water-Cycle-Neural-Network/venv/lib/python3.12/site-packages/optuna/trial/_trial.py:497: UserWarning: The reported value is ignored because this `step` 9 is already reported.\n",
      "  warnings.warn(\n",
      "/home/eduardo/Documentos/Water-Cycle-Neural-Network/venv/lib/python3.12/site-packages/optuna/trial/_trial.py:497: UserWarning: The reported value is ignored because this `step` 10 is already reported.\n",
      "  warnings.warn(\n",
      "/home/eduardo/Documentos/Water-Cycle-Neural-Network/venv/lib/python3.12/site-packages/optuna/trial/_trial.py:497: UserWarning: The reported value is ignored because this `step` 11 is already reported.\n",
      "  warnings.warn(\n",
      "/home/eduardo/Documentos/Water-Cycle-Neural-Network/venv/lib/python3.12/site-packages/optuna/trial/_trial.py:497: UserWarning: The reported value is ignored because this `step` 12 is already reported.\n",
      "  warnings.warn(\n",
      "/home/eduardo/Documentos/Water-Cycle-Neural-Network/venv/lib/python3.12/site-packages/optuna/trial/_trial.py:497: UserWarning: The reported value is ignored because this `step` 13 is already reported.\n",
      "  warnings.warn(\n",
      "/home/eduardo/Documentos/Water-Cycle-Neural-Network/venv/lib/python3.12/site-packages/optuna/trial/_trial.py:497: UserWarning: The reported value is ignored because this `step` 14 is already reported.\n",
      "  warnings.warn(\n",
      "Monitored metric val_loss did not improve in the last 15 records. Best score: 0.011. Signaling Trainer to stop.\n",
      "GPU available: True (cuda), used: True\n",
      "TPU available: False, using: 0 TPU cores\n",
      "HPU available: False, using: 0 HPUs\n",
      "LOCAL_RANK: 0 - CUDA_VISIBLE_DEVICES: [0]\n"
     ]
    },
    {
     "name": "stdout",
     "output_type": "stream",
     "text": [
      "Model loaded from checkpoint for trial 10, fold 2\n"
     ]
    },
    {
     "name": "stderr",
     "output_type": "stream",
     "text": [
      "[I 2025-06-09 14:14:01,810] Trial 10 finished with value: 52.452781101217674 and parameters: {'input_chunk_length': 72, 'hidden_size': 32, 'dropout': 0.5, 'batch_size': 136, 'lr': 4.811218908322309e-05, 'weight_decay': 2.211935353793933e-05, 'num_encoder_layers': 1, 'num_decoder_layers': 2, 'temporal_width_past': 5, 'temporal_width_future': 2, 'use_reversible_instance_norm': True, 'temporal_hidden_size_past': 168, 'temporal_hidden_size_future': 132}. Best is trial 7 with value: 51.79348411607213.\n",
      "GPU available: True (cuda), used: True\n",
      "TPU available: False, using: 0 TPU cores\n",
      "HPU available: False, using: 0 HPUs\n",
      "LOCAL_RANK: 0 - CUDA_VISIBLE_DEVICES: [0]\n"
     ]
    },
    {
     "name": "stdout",
     "output_type": "stream",
     "text": [
      "SMAPE fold 2: 54.73504088569931\n",
      "Média dos SMAPE nos folds: 52.452781101217674\n",
      "Results of trial 10 saved in optuna_iteration_metrics/trial_10.json\n",
      "Current value: 52.452781101217674, Current params: {'input_chunk_length': 72, 'hidden_size': 32, 'dropout': 0.5, 'batch_size': 136, 'lr': 4.811218908322309e-05, 'weight_decay': 2.211935353793933e-05, 'num_encoder_layers': 1, 'num_decoder_layers': 2, 'temporal_width_past': 5, 'temporal_width_future': 2, 'use_reversible_instance_norm': True, 'temporal_hidden_size_past': 168, 'temporal_hidden_size_future': 132}\n",
      "Best value: 51.79348411607213, Best params: {'input_chunk_length': 108, 'hidden_size': 200, 'dropout': 0.4, 'batch_size': 80, 'lr': 8.962976130859648e-05, 'weight_decay': 0.00508205212362534, 'num_encoder_layers': 3, 'num_decoder_layers': 3, 'temporal_width_past': 5, 'temporal_width_future': 1, 'use_reversible_instance_norm': True, 'temporal_hidden_size_past': 144, 'temporal_hidden_size_future': 120}\n",
      "\n",
      "Fold 1/3\n"
     ]
    },
    {
     "name": "stderr",
     "output_type": "stream",
     "text": [
      "Metric val_loss improved. New best score: 0.162\n",
      "Metric val_loss improved by 0.001 >= min_delta = 0.0005. New best score: 0.161\n",
      "Metric val_loss improved by 0.001 >= min_delta = 0.0005. New best score: 0.160\n",
      "Metric val_loss improved by 0.001 >= min_delta = 0.0005. New best score: 0.160\n",
      "Metric val_loss improved by 0.001 >= min_delta = 0.0005. New best score: 0.159\n",
      "Metric val_loss improved by 0.001 >= min_delta = 0.0005. New best score: 0.158\n",
      "Metric val_loss improved by 0.001 >= min_delta = 0.0005. New best score: 0.157\n",
      "Metric val_loss improved by 0.001 >= min_delta = 0.0005. New best score: 0.156\n",
      "Metric val_loss improved by 0.001 >= min_delta = 0.0005. New best score: 0.156\n",
      "Metric val_loss improved by 0.001 >= min_delta = 0.0005. New best score: 0.155\n",
      "Metric val_loss improved by 0.001 >= min_delta = 0.0005. New best score: 0.154\n",
      "Metric val_loss improved by 0.001 >= min_delta = 0.0005. New best score: 0.153\n",
      "Metric val_loss improved by 0.001 >= min_delta = 0.0005. New best score: 0.152\n",
      "Metric val_loss improved by 0.001 >= min_delta = 0.0005. New best score: 0.152\n",
      "Metric val_loss improved by 0.001 >= min_delta = 0.0005. New best score: 0.151\n",
      "Metric val_loss improved by 0.001 >= min_delta = 0.0005. New best score: 0.150\n",
      "Metric val_loss improved by 0.001 >= min_delta = 0.0005. New best score: 0.150\n",
      "Metric val_loss improved by 0.001 >= min_delta = 0.0005. New best score: 0.149\n",
      "`Trainer.fit` stopped: `max_epochs=30` reached.\n",
      "GPU available: True (cuda), used: True\n",
      "TPU available: False, using: 0 TPU cores\n",
      "HPU available: False, using: 0 HPUs\n",
      "LOCAL_RANK: 0 - CUDA_VISIBLE_DEVICES: [0]\n"
     ]
    },
    {
     "name": "stdout",
     "output_type": "stream",
     "text": [
      "Model loaded from checkpoint for trial 11, fold 0\n"
     ]
    },
    {
     "name": "stderr",
     "output_type": "stream",
     "text": [
      "GPU available: True (cuda), used: True\n",
      "TPU available: False, using: 0 TPU cores\n",
      "HPU available: False, using: 0 HPUs\n",
      "LOCAL_RANK: 0 - CUDA_VISIBLE_DEVICES: [0]\n"
     ]
    },
    {
     "name": "stdout",
     "output_type": "stream",
     "text": [
      "SMAPE fold 0: 50.49146454706927\n",
      "\n",
      "Fold 2/3\n"
     ]
    },
    {
     "name": "stderr",
     "output_type": "stream",
     "text": [
      "/home/eduardo/Documentos/Water-Cycle-Neural-Network/venv/lib/python3.12/site-packages/optuna/trial/_trial.py:497: UserWarning: The reported value is ignored because this `step` 0 is already reported.\n",
      "  warnings.warn(\n",
      "Metric val_loss improved by 0.138 >= min_delta = 0.0005. New best score: 0.011\n",
      "/home/eduardo/Documentos/Water-Cycle-Neural-Network/venv/lib/python3.12/site-packages/optuna/trial/_trial.py:497: UserWarning: The reported value is ignored because this `step` 1 is already reported.\n",
      "  warnings.warn(\n",
      "/home/eduardo/Documentos/Water-Cycle-Neural-Network/venv/lib/python3.12/site-packages/optuna/trial/_trial.py:497: UserWarning: The reported value is ignored because this `step` 2 is already reported.\n",
      "  warnings.warn(\n",
      "/home/eduardo/Documentos/Water-Cycle-Neural-Network/venv/lib/python3.12/site-packages/optuna/trial/_trial.py:497: UserWarning: The reported value is ignored because this `step` 3 is already reported.\n",
      "  warnings.warn(\n",
      "/home/eduardo/Documentos/Water-Cycle-Neural-Network/venv/lib/python3.12/site-packages/optuna/trial/_trial.py:497: UserWarning: The reported value is ignored because this `step` 4 is already reported.\n",
      "  warnings.warn(\n",
      "/home/eduardo/Documentos/Water-Cycle-Neural-Network/venv/lib/python3.12/site-packages/optuna/trial/_trial.py:497: UserWarning: The reported value is ignored because this `step` 5 is already reported.\n",
      "  warnings.warn(\n",
      "/home/eduardo/Documentos/Water-Cycle-Neural-Network/venv/lib/python3.12/site-packages/optuna/trial/_trial.py:497: UserWarning: The reported value is ignored because this `step` 6 is already reported.\n",
      "  warnings.warn(\n",
      "/home/eduardo/Documentos/Water-Cycle-Neural-Network/venv/lib/python3.12/site-packages/optuna/trial/_trial.py:497: UserWarning: The reported value is ignored because this `step` 7 is already reported.\n",
      "  warnings.warn(\n",
      "/home/eduardo/Documentos/Water-Cycle-Neural-Network/venv/lib/python3.12/site-packages/optuna/trial/_trial.py:497: UserWarning: The reported value is ignored because this `step` 8 is already reported.\n",
      "  warnings.warn(\n",
      "/home/eduardo/Documentos/Water-Cycle-Neural-Network/venv/lib/python3.12/site-packages/optuna/trial/_trial.py:497: UserWarning: The reported value is ignored because this `step` 9 is already reported.\n",
      "  warnings.warn(\n",
      "/home/eduardo/Documentos/Water-Cycle-Neural-Network/venv/lib/python3.12/site-packages/optuna/trial/_trial.py:497: UserWarning: The reported value is ignored because this `step` 10 is already reported.\n",
      "  warnings.warn(\n",
      "/home/eduardo/Documentos/Water-Cycle-Neural-Network/venv/lib/python3.12/site-packages/optuna/trial/_trial.py:497: UserWarning: The reported value is ignored because this `step` 11 is already reported.\n",
      "  warnings.warn(\n",
      "/home/eduardo/Documentos/Water-Cycle-Neural-Network/venv/lib/python3.12/site-packages/optuna/trial/_trial.py:497: UserWarning: The reported value is ignored because this `step` 12 is already reported.\n",
      "  warnings.warn(\n",
      "/home/eduardo/Documentos/Water-Cycle-Neural-Network/venv/lib/python3.12/site-packages/optuna/trial/_trial.py:497: UserWarning: The reported value is ignored because this `step` 13 is already reported.\n",
      "  warnings.warn(\n",
      "/home/eduardo/Documentos/Water-Cycle-Neural-Network/venv/lib/python3.12/site-packages/optuna/trial/_trial.py:497: UserWarning: The reported value is ignored because this `step` 14 is already reported.\n",
      "  warnings.warn(\n",
      "/home/eduardo/Documentos/Water-Cycle-Neural-Network/venv/lib/python3.12/site-packages/optuna/trial/_trial.py:497: UserWarning: The reported value is ignored because this `step` 15 is already reported.\n",
      "  warnings.warn(\n",
      "Monitored metric val_loss did not improve in the last 15 records. Best score: 0.011. Signaling Trainer to stop.\n",
      "GPU available: True (cuda), used: True\n",
      "TPU available: False, using: 0 TPU cores\n",
      "HPU available: False, using: 0 HPUs\n",
      "LOCAL_RANK: 0 - CUDA_VISIBLE_DEVICES: [0]\n"
     ]
    },
    {
     "name": "stdout",
     "output_type": "stream",
     "text": [
      "Model loaded from checkpoint for trial 11, fold 1\n"
     ]
    },
    {
     "name": "stderr",
     "output_type": "stream",
     "text": [
      "GPU available: True (cuda), used: True\n",
      "TPU available: False, using: 0 TPU cores\n",
      "HPU available: False, using: 0 HPUs\n",
      "LOCAL_RANK: 0 - CUDA_VISIBLE_DEVICES: [0]\n"
     ]
    },
    {
     "name": "stdout",
     "output_type": "stream",
     "text": [
      "SMAPE fold 1: 51.34277284137809\n",
      "\n",
      "Fold 3/3\n"
     ]
    },
    {
     "name": "stderr",
     "output_type": "stream",
     "text": [
      "/home/eduardo/Documentos/Water-Cycle-Neural-Network/venv/lib/python3.12/site-packages/optuna/trial/_trial.py:497: UserWarning: The reported value is ignored because this `step` 0 is already reported.\n",
      "  warnings.warn(\n",
      "Monitored metric val_loss did not improve in the last 16 records. Best score: 0.011. Signaling Trainer to stop.\n",
      "GPU available: True (cuda), used: True\n",
      "TPU available: False, using: 0 TPU cores\n",
      "HPU available: False, using: 0 HPUs\n",
      "LOCAL_RANK: 0 - CUDA_VISIBLE_DEVICES: [0]\n"
     ]
    },
    {
     "name": "stdout",
     "output_type": "stream",
     "text": [
      "Model loaded from checkpoint for trial 11, fold 2\n"
     ]
    },
    {
     "name": "stderr",
     "output_type": "stream",
     "text": [
      "[I 2025-06-09 14:15:02,021] Trial 11 finished with value: 53.44224400143423 and parameters: {'input_chunk_length': 24, 'hidden_size': 128, 'dropout': 0.2, 'batch_size': 224, 'lr': 3.995779652778198e-05, 'weight_decay': 4.002586081822598e-05, 'num_encoder_layers': 3, 'num_decoder_layers': 3, 'temporal_width_past': 5, 'temporal_width_future': 3, 'use_reversible_instance_norm': True, 'temporal_hidden_size_past': 132, 'temporal_hidden_size_future': 108}. Best is trial 7 with value: 51.79348411607213.\n",
      "GPU available: True (cuda), used: True\n",
      "TPU available: False, using: 0 TPU cores\n",
      "HPU available: False, using: 0 HPUs\n",
      "LOCAL_RANK: 0 - CUDA_VISIBLE_DEVICES: [0]\n"
     ]
    },
    {
     "name": "stdout",
     "output_type": "stream",
     "text": [
      "SMAPE fold 2: 58.49249461585532\n",
      "Média dos SMAPE nos folds: 53.44224400143423\n",
      "Results of trial 11 saved in optuna_iteration_metrics/trial_11.json\n",
      "Current value: 53.44224400143423, Current params: {'input_chunk_length': 24, 'hidden_size': 128, 'dropout': 0.2, 'batch_size': 224, 'lr': 3.995779652778198e-05, 'weight_decay': 4.002586081822598e-05, 'num_encoder_layers': 3, 'num_decoder_layers': 3, 'temporal_width_past': 5, 'temporal_width_future': 3, 'use_reversible_instance_norm': True, 'temporal_hidden_size_past': 132, 'temporal_hidden_size_future': 108}\n",
      "Best value: 51.79348411607213, Best params: {'input_chunk_length': 108, 'hidden_size': 200, 'dropout': 0.4, 'batch_size': 80, 'lr': 8.962976130859648e-05, 'weight_decay': 0.00508205212362534, 'num_encoder_layers': 3, 'num_decoder_layers': 3, 'temporal_width_past': 5, 'temporal_width_future': 1, 'use_reversible_instance_norm': True, 'temporal_hidden_size_past': 144, 'temporal_hidden_size_future': 120}\n",
      "\n",
      "Fold 1/3\n"
     ]
    },
    {
     "name": "stderr",
     "output_type": "stream",
     "text": [
      "Metric val_loss improved. New best score: 0.153\n",
      "Metric val_loss improved by 0.001 >= min_delta = 0.0005. New best score: 0.152\n",
      "Metric val_loss improved by 0.001 >= min_delta = 0.0005. New best score: 0.151\n",
      "Metric val_loss improved by 0.001 >= min_delta = 0.0005. New best score: 0.150\n",
      "Metric val_loss improved by 0.001 >= min_delta = 0.0005. New best score: 0.150\n",
      "Metric val_loss improved by 0.001 >= min_delta = 0.0005. New best score: 0.149\n",
      "Metric val_loss improved by 0.001 >= min_delta = 0.0005. New best score: 0.148\n",
      "Metric val_loss improved by 0.001 >= min_delta = 0.0005. New best score: 0.148\n",
      "Metric val_loss improved by 0.001 >= min_delta = 0.0005. New best score: 0.147\n",
      "Metric val_loss improved by 0.001 >= min_delta = 0.0005. New best score: 0.146\n",
      "Metric val_loss improved by 0.001 >= min_delta = 0.0005. New best score: 0.146\n",
      "Metric val_loss improved by 0.001 >= min_delta = 0.0005. New best score: 0.145\n",
      "Metric val_loss improved by 0.001 >= min_delta = 0.0005. New best score: 0.145\n",
      "Metric val_loss improved by 0.001 >= min_delta = 0.0005. New best score: 0.144\n",
      "Metric val_loss improved by 0.001 >= min_delta = 0.0005. New best score: 0.144\n",
      "Metric val_loss improved by 0.001 >= min_delta = 0.0005. New best score: 0.143\n",
      "Metric val_loss improved by 0.001 >= min_delta = 0.0005. New best score: 0.143\n",
      "Metric val_loss improved by 0.001 >= min_delta = 0.0005. New best score: 0.142\n",
      "Metric val_loss improved by 0.001 >= min_delta = 0.0005. New best score: 0.141\n",
      "Metric val_loss improved by 0.001 >= min_delta = 0.0005. New best score: 0.140\n",
      "Metric val_loss improved by 0.001 >= min_delta = 0.0005. New best score: 0.139\n",
      "Metric val_loss improved by 0.001 >= min_delta = 0.0005. New best score: 0.138\n",
      "Metric val_loss improved by 0.001 >= min_delta = 0.0005. New best score: 0.137\n",
      "`Trainer.fit` stopped: `max_epochs=30` reached.\n",
      "GPU available: True (cuda), used: True\n",
      "TPU available: False, using: 0 TPU cores\n",
      "HPU available: False, using: 0 HPUs\n",
      "LOCAL_RANK: 0 - CUDA_VISIBLE_DEVICES: [0]\n"
     ]
    },
    {
     "name": "stdout",
     "output_type": "stream",
     "text": [
      "Model loaded from checkpoint for trial 12, fold 0\n"
     ]
    },
    {
     "name": "stderr",
     "output_type": "stream",
     "text": [
      "GPU available: True (cuda), used: True\n",
      "TPU available: False, using: 0 TPU cores\n",
      "HPU available: False, using: 0 HPUs\n",
      "LOCAL_RANK: 0 - CUDA_VISIBLE_DEVICES: [0]\n"
     ]
    },
    {
     "name": "stdout",
     "output_type": "stream",
     "text": [
      "SMAPE fold 0: 50.0996190485775\n",
      "\n",
      "Fold 2/3\n"
     ]
    },
    {
     "name": "stderr",
     "output_type": "stream",
     "text": [
      "/home/eduardo/Documentos/Water-Cycle-Neural-Network/venv/lib/python3.12/site-packages/optuna/trial/_trial.py:497: UserWarning: The reported value is ignored because this `step` 0 is already reported.\n",
      "  warnings.warn(\n",
      "Metric val_loss improved by 0.126 >= min_delta = 0.0005. New best score: 0.011\n",
      "/home/eduardo/Documentos/Water-Cycle-Neural-Network/venv/lib/python3.12/site-packages/optuna/trial/_trial.py:497: UserWarning: The reported value is ignored because this `step` 1 is already reported.\n",
      "  warnings.warn(\n",
      "/home/eduardo/Documentos/Water-Cycle-Neural-Network/venv/lib/python3.12/site-packages/optuna/trial/_trial.py:497: UserWarning: The reported value is ignored because this `step` 2 is already reported.\n",
      "  warnings.warn(\n",
      "/home/eduardo/Documentos/Water-Cycle-Neural-Network/venv/lib/python3.12/site-packages/optuna/trial/_trial.py:497: UserWarning: The reported value is ignored because this `step` 3 is already reported.\n",
      "  warnings.warn(\n",
      "/home/eduardo/Documentos/Water-Cycle-Neural-Network/venv/lib/python3.12/site-packages/optuna/trial/_trial.py:497: UserWarning: The reported value is ignored because this `step` 4 is already reported.\n",
      "  warnings.warn(\n",
      "/home/eduardo/Documentos/Water-Cycle-Neural-Network/venv/lib/python3.12/site-packages/optuna/trial/_trial.py:497: UserWarning: The reported value is ignored because this `step` 5 is already reported.\n",
      "  warnings.warn(\n",
      "/home/eduardo/Documentos/Water-Cycle-Neural-Network/venv/lib/python3.12/site-packages/optuna/trial/_trial.py:497: UserWarning: The reported value is ignored because this `step` 6 is already reported.\n",
      "  warnings.warn(\n",
      "/home/eduardo/Documentos/Water-Cycle-Neural-Network/venv/lib/python3.12/site-packages/optuna/trial/_trial.py:497: UserWarning: The reported value is ignored because this `step` 7 is already reported.\n",
      "  warnings.warn(\n",
      "/home/eduardo/Documentos/Water-Cycle-Neural-Network/venv/lib/python3.12/site-packages/optuna/trial/_trial.py:497: UserWarning: The reported value is ignored because this `step` 8 is already reported.\n",
      "  warnings.warn(\n",
      "Metric val_loss improved by 0.001 >= min_delta = 0.0005. New best score: 0.010\n",
      "/home/eduardo/Documentos/Water-Cycle-Neural-Network/venv/lib/python3.12/site-packages/optuna/trial/_trial.py:497: UserWarning: The reported value is ignored because this `step` 9 is already reported.\n",
      "  warnings.warn(\n",
      "/home/eduardo/Documentos/Water-Cycle-Neural-Network/venv/lib/python3.12/site-packages/optuna/trial/_trial.py:497: UserWarning: The reported value is ignored because this `step` 10 is already reported.\n",
      "  warnings.warn(\n",
      "/home/eduardo/Documentos/Water-Cycle-Neural-Network/venv/lib/python3.12/site-packages/optuna/trial/_trial.py:497: UserWarning: The reported value is ignored because this `step` 11 is already reported.\n",
      "  warnings.warn(\n",
      "/home/eduardo/Documentos/Water-Cycle-Neural-Network/venv/lib/python3.12/site-packages/optuna/trial/_trial.py:497: UserWarning: The reported value is ignored because this `step` 12 is already reported.\n",
      "  warnings.warn(\n",
      "/home/eduardo/Documentos/Water-Cycle-Neural-Network/venv/lib/python3.12/site-packages/optuna/trial/_trial.py:497: UserWarning: The reported value is ignored because this `step` 13 is already reported.\n",
      "  warnings.warn(\n",
      "/home/eduardo/Documentos/Water-Cycle-Neural-Network/venv/lib/python3.12/site-packages/optuna/trial/_trial.py:497: UserWarning: The reported value is ignored because this `step` 14 is already reported.\n",
      "  warnings.warn(\n",
      "/home/eduardo/Documentos/Water-Cycle-Neural-Network/venv/lib/python3.12/site-packages/optuna/trial/_trial.py:497: UserWarning: The reported value is ignored because this `step` 15 is already reported.\n",
      "  warnings.warn(\n",
      "/home/eduardo/Documentos/Water-Cycle-Neural-Network/venv/lib/python3.12/site-packages/optuna/trial/_trial.py:497: UserWarning: The reported value is ignored because this `step` 16 is already reported.\n",
      "  warnings.warn(\n",
      "/home/eduardo/Documentos/Water-Cycle-Neural-Network/venv/lib/python3.12/site-packages/optuna/trial/_trial.py:497: UserWarning: The reported value is ignored because this `step` 17 is already reported.\n",
      "  warnings.warn(\n",
      "/home/eduardo/Documentos/Water-Cycle-Neural-Network/venv/lib/python3.12/site-packages/optuna/trial/_trial.py:497: UserWarning: The reported value is ignored because this `step` 18 is already reported.\n",
      "  warnings.warn(\n",
      "/home/eduardo/Documentos/Water-Cycle-Neural-Network/venv/lib/python3.12/site-packages/optuna/trial/_trial.py:497: UserWarning: The reported value is ignored because this `step` 19 is already reported.\n",
      "  warnings.warn(\n",
      "/home/eduardo/Documentos/Water-Cycle-Neural-Network/venv/lib/python3.12/site-packages/optuna/trial/_trial.py:497: UserWarning: The reported value is ignored because this `step` 20 is already reported.\n",
      "  warnings.warn(\n",
      "/home/eduardo/Documentos/Water-Cycle-Neural-Network/venv/lib/python3.12/site-packages/optuna/trial/_trial.py:497: UserWarning: The reported value is ignored because this `step` 21 is already reported.\n",
      "  warnings.warn(\n",
      "/home/eduardo/Documentos/Water-Cycle-Neural-Network/venv/lib/python3.12/site-packages/optuna/trial/_trial.py:497: UserWarning: The reported value is ignored because this `step` 22 is already reported.\n",
      "  warnings.warn(\n",
      "/home/eduardo/Documentos/Water-Cycle-Neural-Network/venv/lib/python3.12/site-packages/optuna/trial/_trial.py:497: UserWarning: The reported value is ignored because this `step` 23 is already reported.\n",
      "  warnings.warn(\n",
      "Metric val_loss improved by 0.001 >= min_delta = 0.0005. New best score: 0.010\n",
      "/home/eduardo/Documentos/Water-Cycle-Neural-Network/venv/lib/python3.12/site-packages/optuna/trial/_trial.py:497: UserWarning: The reported value is ignored because this `step` 24 is already reported.\n",
      "  warnings.warn(\n",
      "/home/eduardo/Documentos/Water-Cycle-Neural-Network/venv/lib/python3.12/site-packages/optuna/trial/_trial.py:497: UserWarning: The reported value is ignored because this `step` 25 is already reported.\n",
      "  warnings.warn(\n",
      "/home/eduardo/Documentos/Water-Cycle-Neural-Network/venv/lib/python3.12/site-packages/optuna/trial/_trial.py:497: UserWarning: The reported value is ignored because this `step` 26 is already reported.\n",
      "  warnings.warn(\n",
      "/home/eduardo/Documentos/Water-Cycle-Neural-Network/venv/lib/python3.12/site-packages/optuna/trial/_trial.py:497: UserWarning: The reported value is ignored because this `step` 27 is already reported.\n",
      "  warnings.warn(\n",
      "/home/eduardo/Documentos/Water-Cycle-Neural-Network/venv/lib/python3.12/site-packages/optuna/trial/_trial.py:497: UserWarning: The reported value is ignored because this `step` 28 is already reported.\n",
      "  warnings.warn(\n",
      "/home/eduardo/Documentos/Water-Cycle-Neural-Network/venv/lib/python3.12/site-packages/optuna/trial/_trial.py:497: UserWarning: The reported value is ignored because this `step` 29 is already reported.\n",
      "  warnings.warn(\n",
      "`Trainer.fit` stopped: `max_epochs=30` reached.\n",
      "GPU available: True (cuda), used: True\n",
      "TPU available: False, using: 0 TPU cores\n",
      "HPU available: False, using: 0 HPUs\n",
      "LOCAL_RANK: 0 - CUDA_VISIBLE_DEVICES: [0]\n"
     ]
    },
    {
     "name": "stdout",
     "output_type": "stream",
     "text": [
      "Model loaded from checkpoint for trial 12, fold 1\n"
     ]
    },
    {
     "name": "stderr",
     "output_type": "stream",
     "text": [
      "GPU available: True (cuda), used: True\n",
      "TPU available: False, using: 0 TPU cores\n",
      "HPU available: False, using: 0 HPUs\n",
      "LOCAL_RANK: 0 - CUDA_VISIBLE_DEVICES: [0]\n"
     ]
    },
    {
     "name": "stdout",
     "output_type": "stream",
     "text": [
      "SMAPE fold 1: 51.230954236412984\n",
      "\n",
      "Fold 3/3\n"
     ]
    },
    {
     "name": "stderr",
     "output_type": "stream",
     "text": [
      "/home/eduardo/Documentos/Water-Cycle-Neural-Network/venv/lib/python3.12/site-packages/optuna/trial/_trial.py:497: UserWarning: The reported value is ignored because this `step` 0 is already reported.\n",
      "  warnings.warn(\n",
      "/home/eduardo/Documentos/Water-Cycle-Neural-Network/venv/lib/python3.12/site-packages/optuna/trial/_trial.py:497: UserWarning: The reported value is ignored because this `step` 1 is already reported.\n",
      "  warnings.warn(\n",
      "/home/eduardo/Documentos/Water-Cycle-Neural-Network/venv/lib/python3.12/site-packages/optuna/trial/_trial.py:497: UserWarning: The reported value is ignored because this `step` 2 is already reported.\n",
      "  warnings.warn(\n",
      "/home/eduardo/Documentos/Water-Cycle-Neural-Network/venv/lib/python3.12/site-packages/optuna/trial/_trial.py:497: UserWarning: The reported value is ignored because this `step` 3 is already reported.\n",
      "  warnings.warn(\n",
      "/home/eduardo/Documentos/Water-Cycle-Neural-Network/venv/lib/python3.12/site-packages/optuna/trial/_trial.py:497: UserWarning: The reported value is ignored because this `step` 4 is already reported.\n",
      "  warnings.warn(\n",
      "/home/eduardo/Documentos/Water-Cycle-Neural-Network/venv/lib/python3.12/site-packages/optuna/trial/_trial.py:497: UserWarning: The reported value is ignored because this `step` 5 is already reported.\n",
      "  warnings.warn(\n",
      "/home/eduardo/Documentos/Water-Cycle-Neural-Network/venv/lib/python3.12/site-packages/optuna/trial/_trial.py:497: UserWarning: The reported value is ignored because this `step` 6 is already reported.\n",
      "  warnings.warn(\n",
      "/home/eduardo/Documentos/Water-Cycle-Neural-Network/venv/lib/python3.12/site-packages/optuna/trial/_trial.py:497: UserWarning: The reported value is ignored because this `step` 7 is already reported.\n",
      "  warnings.warn(\n",
      "/home/eduardo/Documentos/Water-Cycle-Neural-Network/venv/lib/python3.12/site-packages/optuna/trial/_trial.py:497: UserWarning: The reported value is ignored because this `step` 8 is already reported.\n",
      "  warnings.warn(\n",
      "Monitored metric val_loss did not improve in the last 15 records. Best score: 0.010. Signaling Trainer to stop.\n",
      "GPU available: True (cuda), used: True\n",
      "TPU available: False, using: 0 TPU cores\n",
      "HPU available: False, using: 0 HPUs\n",
      "LOCAL_RANK: 0 - CUDA_VISIBLE_DEVICES: [0]\n"
     ]
    },
    {
     "name": "stdout",
     "output_type": "stream",
     "text": [
      "Model loaded from checkpoint for trial 12, fold 2\n"
     ]
    },
    {
     "name": "stderr",
     "output_type": "stream",
     "text": [
      "[I 2025-06-09 14:16:25,559] Trial 12 finished with value: 52.64205998885279 and parameters: {'input_chunk_length': 24, 'hidden_size': 88, 'dropout': 0.2, 'batch_size': 208, 'lr': 0.00019946598777564648, 'weight_decay': 0.008390254007967836, 'num_encoder_layers': 2, 'num_decoder_layers': 2, 'temporal_width_past': 3, 'temporal_width_future': 4, 'use_reversible_instance_norm': True, 'temporal_hidden_size_past': 132, 'temporal_hidden_size_future': 168}. Best is trial 7 with value: 51.79348411607213.\n",
      "GPU available: True (cuda), used: True\n",
      "TPU available: False, using: 0 TPU cores\n",
      "HPU available: False, using: 0 HPUs\n",
      "LOCAL_RANK: 0 - CUDA_VISIBLE_DEVICES: [0]\n"
     ]
    },
    {
     "name": "stdout",
     "output_type": "stream",
     "text": [
      "SMAPE fold 2: 56.59560668156787\n",
      "Média dos SMAPE nos folds: 52.64205998885279\n",
      "Results of trial 12 saved in optuna_iteration_metrics/trial_12.json\n",
      "Current value: 52.64205998885279, Current params: {'input_chunk_length': 24, 'hidden_size': 88, 'dropout': 0.2, 'batch_size': 208, 'lr': 0.00019946598777564648, 'weight_decay': 0.008390254007967836, 'num_encoder_layers': 2, 'num_decoder_layers': 2, 'temporal_width_past': 3, 'temporal_width_future': 4, 'use_reversible_instance_norm': True, 'temporal_hidden_size_past': 132, 'temporal_hidden_size_future': 168}\n",
      "Best value: 51.79348411607213, Best params: {'input_chunk_length': 108, 'hidden_size': 200, 'dropout': 0.4, 'batch_size': 80, 'lr': 8.962976130859648e-05, 'weight_decay': 0.00508205212362534, 'num_encoder_layers': 3, 'num_decoder_layers': 3, 'temporal_width_past': 5, 'temporal_width_future': 1, 'use_reversible_instance_norm': True, 'temporal_hidden_size_past': 144, 'temporal_hidden_size_future': 120}\n",
      "\n",
      "Fold 1/3\n"
     ]
    },
    {
     "name": "stderr",
     "output_type": "stream",
     "text": [
      "Metric val_loss improved. New best score: 0.231\n",
      "Metric val_loss improved by 0.001 >= min_delta = 0.0005. New best score: 0.230\n",
      "Metric val_loss improved by 0.001 >= min_delta = 0.0005. New best score: 0.229\n",
      "Metric val_loss improved by 0.001 >= min_delta = 0.0005. New best score: 0.228\n",
      "Metric val_loss improved by 0.001 >= min_delta = 0.0005. New best score: 0.228\n",
      "Metric val_loss improved by 0.001 >= min_delta = 0.0005. New best score: 0.227\n",
      "Metric val_loss improved by 0.001 >= min_delta = 0.0005. New best score: 0.227\n",
      "Metric val_loss improved by 0.001 >= min_delta = 0.0005. New best score: 0.226\n",
      "[I 2025-06-09 14:16:49,763] Trial 13 pruned. Trial was pruned at epoch 20.\n",
      "GPU available: True (cuda), used: True\n",
      "TPU available: False, using: 0 TPU cores\n",
      "HPU available: False, using: 0 HPUs\n",
      "LOCAL_RANK: 0 - CUDA_VISIBLE_DEVICES: [0]\n"
     ]
    },
    {
     "name": "stdout",
     "output_type": "stream",
     "text": [
      "Current value: 0.22574919939585353, Current params: {'input_chunk_length': 60, 'hidden_size': 160, 'dropout': 0.1, 'batch_size': 256, 'lr': 1.66943819723272e-05, 'weight_decay': 6.476848542654819e-05, 'num_encoder_layers': 3, 'num_decoder_layers': 4, 'temporal_width_past': 4, 'temporal_width_future': 3, 'use_reversible_instance_norm': True, 'temporal_hidden_size_past': 120, 'temporal_hidden_size_future': 96}\n",
      "Best value: 51.79348411607213, Best params: {'input_chunk_length': 108, 'hidden_size': 200, 'dropout': 0.4, 'batch_size': 80, 'lr': 8.962976130859648e-05, 'weight_decay': 0.00508205212362534, 'num_encoder_layers': 3, 'num_decoder_layers': 3, 'temporal_width_past': 5, 'temporal_width_future': 1, 'use_reversible_instance_norm': True, 'temporal_hidden_size_past': 144, 'temporal_hidden_size_future': 120}\n",
      "\n",
      "Fold 1/3\n"
     ]
    },
    {
     "name": "stderr",
     "output_type": "stream",
     "text": [
      "Metric val_loss improved. New best score: 0.230\n",
      "Metric val_loss improved by 0.014 >= min_delta = 0.0005. New best score: 0.216\n",
      "Metric val_loss improved by 0.012 >= min_delta = 0.0005. New best score: 0.205\n",
      "Metric val_loss improved by 0.009 >= min_delta = 0.0005. New best score: 0.196\n",
      "Metric val_loss improved by 0.008 >= min_delta = 0.0005. New best score: 0.188\n",
      "Metric val_loss improved by 0.005 >= min_delta = 0.0005. New best score: 0.182\n",
      "Metric val_loss improved by 0.005 >= min_delta = 0.0005. New best score: 0.178\n",
      "Metric val_loss improved by 0.004 >= min_delta = 0.0005. New best score: 0.174\n",
      "Metric val_loss improved by 0.003 >= min_delta = 0.0005. New best score: 0.171\n",
      "Metric val_loss improved by 0.003 >= min_delta = 0.0005. New best score: 0.168\n",
      "Metric val_loss improved by 0.002 >= min_delta = 0.0005. New best score: 0.167\n",
      "Metric val_loss improved by 0.002 >= min_delta = 0.0005. New best score: 0.165\n",
      "Metric val_loss improved by 0.001 >= min_delta = 0.0005. New best score: 0.164\n",
      "Metric val_loss improved by 0.001 >= min_delta = 0.0005. New best score: 0.163\n",
      "Metric val_loss improved by 0.002 >= min_delta = 0.0005. New best score: 0.161\n",
      "Metric val_loss improved by 0.001 >= min_delta = 0.0005. New best score: 0.161\n",
      "Metric val_loss improved by 0.002 >= min_delta = 0.0005. New best score: 0.158\n",
      "Metric val_loss improved by 0.002 >= min_delta = 0.0005. New best score: 0.157\n",
      "Metric val_loss improved by 0.001 >= min_delta = 0.0005. New best score: 0.156\n",
      "Metric val_loss improved by 0.002 >= min_delta = 0.0005. New best score: 0.154\n",
      "Metric val_loss improved by 0.001 >= min_delta = 0.0005. New best score: 0.153\n",
      "`Trainer.fit` stopped: `max_epochs=30` reached.\n",
      "GPU available: True (cuda), used: True\n",
      "TPU available: False, using: 0 TPU cores\n",
      "HPU available: False, using: 0 HPUs\n",
      "LOCAL_RANK: 0 - CUDA_VISIBLE_DEVICES: [0]\n"
     ]
    },
    {
     "name": "stdout",
     "output_type": "stream",
     "text": [
      "Model loaded from checkpoint for trial 14, fold 0\n"
     ]
    },
    {
     "name": "stderr",
     "output_type": "stream",
     "text": [
      "Exception ignored in: <function _ConnectionBase.__del__ at 0x7f7502b06700>\n",
      "Traceback (most recent call last):\n",
      "  File \"/usr/lib/python3.12/multiprocessing/connection.py\", line 133, in __del__\n",
      "    self._close()\n",
      "  File \"/usr/lib/python3.12/multiprocessing/connection.py\", line 377, in _close\n",
      "    _close(self._handle)\n",
      "OSError: [Errno 9] Bad file descriptor\n",
      "GPU available: True (cuda), used: True\n",
      "TPU available: False, using: 0 TPU cores\n",
      "HPU available: False, using: 0 HPUs\n",
      "LOCAL_RANK: 0 - CUDA_VISIBLE_DEVICES: [0]\n"
     ]
    },
    {
     "name": "stdout",
     "output_type": "stream",
     "text": [
      "SMAPE fold 0: 50.109767401966096\n",
      "\n",
      "Fold 2/3\n"
     ]
    },
    {
     "name": "stderr",
     "output_type": "stream",
     "text": [
      "/home/eduardo/Documentos/Water-Cycle-Neural-Network/venv/lib/python3.12/site-packages/optuna/trial/_trial.py:497: UserWarning: The reported value is ignored because this `step` 0 is already reported.\n",
      "  warnings.warn(\n",
      "Metric val_loss improved by 0.139 >= min_delta = 0.0005. New best score: 0.014\n",
      "/home/eduardo/Documentos/Water-Cycle-Neural-Network/venv/lib/python3.12/site-packages/optuna/trial/_trial.py:497: UserWarning: The reported value is ignored because this `step` 1 is already reported.\n",
      "  warnings.warn(\n",
      "Metric val_loss improved by 0.001 >= min_delta = 0.0005. New best score: 0.013\n",
      "/home/eduardo/Documentos/Water-Cycle-Neural-Network/venv/lib/python3.12/site-packages/optuna/trial/_trial.py:497: UserWarning: The reported value is ignored because this `step` 2 is already reported.\n",
      "  warnings.warn(\n",
      "Metric val_loss improved by 0.001 >= min_delta = 0.0005. New best score: 0.012\n",
      "/home/eduardo/Documentos/Water-Cycle-Neural-Network/venv/lib/python3.12/site-packages/optuna/trial/_trial.py:497: UserWarning: The reported value is ignored because this `step` 3 is already reported.\n",
      "  warnings.warn(\n",
      "/home/eduardo/Documentos/Water-Cycle-Neural-Network/venv/lib/python3.12/site-packages/optuna/trial/_trial.py:497: UserWarning: The reported value is ignored because this `step` 4 is already reported.\n",
      "  warnings.warn(\n",
      "Metric val_loss improved by 0.001 >= min_delta = 0.0005. New best score: 0.011\n",
      "/home/eduardo/Documentos/Water-Cycle-Neural-Network/venv/lib/python3.12/site-packages/optuna/trial/_trial.py:497: UserWarning: The reported value is ignored because this `step` 5 is already reported.\n",
      "  warnings.warn(\n",
      "/home/eduardo/Documentos/Water-Cycle-Neural-Network/venv/lib/python3.12/site-packages/optuna/trial/_trial.py:497: UserWarning: The reported value is ignored because this `step` 6 is already reported.\n",
      "  warnings.warn(\n",
      "Metric val_loss improved by 0.001 >= min_delta = 0.0005. New best score: 0.011\n",
      "/home/eduardo/Documentos/Water-Cycle-Neural-Network/venv/lib/python3.12/site-packages/optuna/trial/_trial.py:497: UserWarning: The reported value is ignored because this `step` 7 is already reported.\n",
      "  warnings.warn(\n",
      "/home/eduardo/Documentos/Water-Cycle-Neural-Network/venv/lib/python3.12/site-packages/optuna/trial/_trial.py:497: UserWarning: The reported value is ignored because this `step` 8 is already reported.\n",
      "  warnings.warn(\n",
      "/home/eduardo/Documentos/Water-Cycle-Neural-Network/venv/lib/python3.12/site-packages/optuna/trial/_trial.py:497: UserWarning: The reported value is ignored because this `step` 9 is already reported.\n",
      "  warnings.warn(\n",
      "Metric val_loss improved by 0.001 >= min_delta = 0.0005. New best score: 0.010\n",
      "/home/eduardo/Documentos/Water-Cycle-Neural-Network/venv/lib/python3.12/site-packages/optuna/trial/_trial.py:497: UserWarning: The reported value is ignored because this `step` 10 is already reported.\n",
      "  warnings.warn(\n",
      "/home/eduardo/Documentos/Water-Cycle-Neural-Network/venv/lib/python3.12/site-packages/optuna/trial/_trial.py:497: UserWarning: The reported value is ignored because this `step` 11 is already reported.\n",
      "  warnings.warn(\n",
      "/home/eduardo/Documentos/Water-Cycle-Neural-Network/venv/lib/python3.12/site-packages/optuna/trial/_trial.py:497: UserWarning: The reported value is ignored because this `step` 12 is already reported.\n",
      "  warnings.warn(\n",
      "/home/eduardo/Documentos/Water-Cycle-Neural-Network/venv/lib/python3.12/site-packages/optuna/trial/_trial.py:497: UserWarning: The reported value is ignored because this `step` 13 is already reported.\n",
      "  warnings.warn(\n",
      "/home/eduardo/Documentos/Water-Cycle-Neural-Network/venv/lib/python3.12/site-packages/optuna/trial/_trial.py:497: UserWarning: The reported value is ignored because this `step` 14 is already reported.\n",
      "  warnings.warn(\n",
      "/home/eduardo/Documentos/Water-Cycle-Neural-Network/venv/lib/python3.12/site-packages/optuna/trial/_trial.py:497: UserWarning: The reported value is ignored because this `step` 15 is already reported.\n",
      "  warnings.warn(\n",
      "/home/eduardo/Documentos/Water-Cycle-Neural-Network/venv/lib/python3.12/site-packages/optuna/trial/_trial.py:497: UserWarning: The reported value is ignored because this `step` 16 is already reported.\n",
      "  warnings.warn(\n",
      "/home/eduardo/Documentos/Water-Cycle-Neural-Network/venv/lib/python3.12/site-packages/optuna/trial/_trial.py:497: UserWarning: The reported value is ignored because this `step` 17 is already reported.\n",
      "  warnings.warn(\n",
      "/home/eduardo/Documentos/Water-Cycle-Neural-Network/venv/lib/python3.12/site-packages/optuna/trial/_trial.py:497: UserWarning: The reported value is ignored because this `step` 18 is already reported.\n",
      "  warnings.warn(\n",
      "/home/eduardo/Documentos/Water-Cycle-Neural-Network/venv/lib/python3.12/site-packages/optuna/trial/_trial.py:497: UserWarning: The reported value is ignored because this `step` 19 is already reported.\n",
      "  warnings.warn(\n",
      "/home/eduardo/Documentos/Water-Cycle-Neural-Network/venv/lib/python3.12/site-packages/optuna/trial/_trial.py:497: UserWarning: The reported value is ignored because this `step` 20 is already reported.\n",
      "  warnings.warn(\n",
      "/home/eduardo/Documentos/Water-Cycle-Neural-Network/venv/lib/python3.12/site-packages/optuna/trial/_trial.py:497: UserWarning: The reported value is ignored because this `step` 21 is already reported.\n",
      "  warnings.warn(\n",
      "/home/eduardo/Documentos/Water-Cycle-Neural-Network/venv/lib/python3.12/site-packages/optuna/trial/_trial.py:497: UserWarning: The reported value is ignored because this `step` 22 is already reported.\n",
      "  warnings.warn(\n",
      "/home/eduardo/Documentos/Water-Cycle-Neural-Network/venv/lib/python3.12/site-packages/optuna/trial/_trial.py:497: UserWarning: The reported value is ignored because this `step` 23 is already reported.\n",
      "  warnings.warn(\n",
      "/home/eduardo/Documentos/Water-Cycle-Neural-Network/venv/lib/python3.12/site-packages/optuna/trial/_trial.py:497: UserWarning: The reported value is ignored because this `step` 24 is already reported.\n",
      "  warnings.warn(\n",
      "Monitored metric val_loss did not improve in the last 15 records. Best score: 0.010. Signaling Trainer to stop.\n",
      "GPU available: True (cuda), used: True\n",
      "TPU available: False, using: 0 TPU cores\n",
      "HPU available: False, using: 0 HPUs\n",
      "LOCAL_RANK: 0 - CUDA_VISIBLE_DEVICES: [0]\n"
     ]
    },
    {
     "name": "stdout",
     "output_type": "stream",
     "text": [
      "Model loaded from checkpoint for trial 14, fold 1\n"
     ]
    },
    {
     "name": "stderr",
     "output_type": "stream",
     "text": [
      "GPU available: True (cuda), used: True\n",
      "TPU available: False, using: 0 TPU cores\n",
      "HPU available: False, using: 0 HPUs\n",
      "LOCAL_RANK: 0 - CUDA_VISIBLE_DEVICES: [0]\n"
     ]
    },
    {
     "name": "stdout",
     "output_type": "stream",
     "text": [
      "SMAPE fold 1: 51.13233745448353\n",
      "\n",
      "Fold 3/3\n"
     ]
    },
    {
     "name": "stderr",
     "output_type": "stream",
     "text": [
      "/home/eduardo/Documentos/Water-Cycle-Neural-Network/venv/lib/python3.12/site-packages/optuna/trial/_trial.py:497: UserWarning: The reported value is ignored because this `step` 0 is already reported.\n",
      "  warnings.warn(\n",
      "Monitored metric val_loss did not improve in the last 16 records. Best score: 0.010. Signaling Trainer to stop.\n",
      "GPU available: True (cuda), used: True\n",
      "TPU available: False, using: 0 TPU cores\n",
      "HPU available: False, using: 0 HPUs\n",
      "LOCAL_RANK: 0 - CUDA_VISIBLE_DEVICES: [0]\n"
     ]
    },
    {
     "name": "stdout",
     "output_type": "stream",
     "text": [
      "Model loaded from checkpoint for trial 14, fold 2\n"
     ]
    },
    {
     "name": "stderr",
     "output_type": "stream",
     "text": [
      "[I 2025-06-09 14:18:40,289] Trial 14 finished with value: 52.322166427005165 and parameters: {'input_chunk_length': 60, 'hidden_size': 104, 'dropout': 0.30000000000000004, 'batch_size': 160, 'lr': 0.00024316131900840076, 'weight_decay': 7.513432206087764e-06, 'num_encoder_layers': 1, 'num_decoder_layers': 3, 'temporal_width_past': 3, 'temporal_width_future': 2, 'use_reversible_instance_norm': True, 'temporal_hidden_size_past': 144, 'temporal_hidden_size_future': 96}. Best is trial 7 with value: 51.79348411607213.\n",
      "GPU available: True (cuda), used: True\n",
      "TPU available: False, using: 0 TPU cores\n",
      "HPU available: False, using: 0 HPUs\n",
      "LOCAL_RANK: 0 - CUDA_VISIBLE_DEVICES: [0]\n"
     ]
    },
    {
     "name": "stdout",
     "output_type": "stream",
     "text": [
      "SMAPE fold 2: 55.72439442456587\n",
      "Média dos SMAPE nos folds: 52.322166427005165\n",
      "Results of trial 14 saved in optuna_iteration_metrics/trial_14.json\n",
      "Current value: 52.322166427005165, Current params: {'input_chunk_length': 60, 'hidden_size': 104, 'dropout': 0.30000000000000004, 'batch_size': 160, 'lr': 0.00024316131900840076, 'weight_decay': 7.513432206087764e-06, 'num_encoder_layers': 1, 'num_decoder_layers': 3, 'temporal_width_past': 3, 'temporal_width_future': 2, 'use_reversible_instance_norm': True, 'temporal_hidden_size_past': 144, 'temporal_hidden_size_future': 96}\n",
      "Best value: 51.79348411607213, Best params: {'input_chunk_length': 108, 'hidden_size': 200, 'dropout': 0.4, 'batch_size': 80, 'lr': 8.962976130859648e-05, 'weight_decay': 0.00508205212362534, 'num_encoder_layers': 3, 'num_decoder_layers': 3, 'temporal_width_past': 5, 'temporal_width_future': 1, 'use_reversible_instance_norm': True, 'temporal_hidden_size_past': 144, 'temporal_hidden_size_future': 120}\n",
      "\n",
      "Fold 1/3\n"
     ]
    },
    {
     "name": "stderr",
     "output_type": "stream",
     "text": [
      "Metric val_loss improved. New best score: 0.207\n",
      "Metric val_loss improved by 0.042 >= min_delta = 0.0005. New best score: 0.165\n",
      "Metric val_loss improved by 0.009 >= min_delta = 0.0005. New best score: 0.156\n",
      "Metric val_loss improved by 0.006 >= min_delta = 0.0005. New best score: 0.151\n",
      "Monitored metric val_loss did not improve in the last 15 records. Best score: 0.151. Signaling Trainer to stop.\n",
      "GPU available: True (cuda), used: True\n",
      "TPU available: False, using: 0 TPU cores\n",
      "HPU available: False, using: 0 HPUs\n",
      "LOCAL_RANK: 0 - CUDA_VISIBLE_DEVICES: [0]\n"
     ]
    },
    {
     "name": "stdout",
     "output_type": "stream",
     "text": [
      "Model loaded from checkpoint for trial 15, fold 0\n"
     ]
    },
    {
     "name": "stderr",
     "output_type": "stream",
     "text": [
      "GPU available: True (cuda), used: True\n",
      "TPU available: False, using: 0 TPU cores\n",
      "HPU available: False, using: 0 HPUs\n",
      "LOCAL_RANK: 0 - CUDA_VISIBLE_DEVICES: [0]\n"
     ]
    },
    {
     "name": "stdout",
     "output_type": "stream",
     "text": [
      "SMAPE fold 0: 49.87101299166957\n",
      "\n",
      "Fold 2/3\n"
     ]
    },
    {
     "name": "stderr",
     "output_type": "stream",
     "text": [
      "/home/eduardo/Documentos/Water-Cycle-Neural-Network/venv/lib/python3.12/site-packages/optuna/trial/_trial.py:497: UserWarning: The reported value is ignored because this `step` 0 is already reported.\n",
      "  warnings.warn(\n",
      "Metric val_loss improved by 0.139 >= min_delta = 0.0005. New best score: 0.012\n",
      "/home/eduardo/Documentos/Water-Cycle-Neural-Network/venv/lib/python3.12/site-packages/optuna/trial/_trial.py:497: UserWarning: The reported value is ignored because this `step` 1 is already reported.\n",
      "  warnings.warn(\n",
      "Metric val_loss improved by 0.002 >= min_delta = 0.0005. New best score: 0.010\n",
      "/home/eduardo/Documentos/Water-Cycle-Neural-Network/venv/lib/python3.12/site-packages/optuna/trial/_trial.py:497: UserWarning: The reported value is ignored because this `step` 2 is already reported.\n",
      "  warnings.warn(\n",
      "/home/eduardo/Documentos/Water-Cycle-Neural-Network/venv/lib/python3.12/site-packages/optuna/trial/_trial.py:497: UserWarning: The reported value is ignored because this `step` 3 is already reported.\n",
      "  warnings.warn(\n",
      "/home/eduardo/Documentos/Water-Cycle-Neural-Network/venv/lib/python3.12/site-packages/optuna/trial/_trial.py:497: UserWarning: The reported value is ignored because this `step` 4 is already reported.\n",
      "  warnings.warn(\n",
      "/home/eduardo/Documentos/Water-Cycle-Neural-Network/venv/lib/python3.12/site-packages/optuna/trial/_trial.py:497: UserWarning: The reported value is ignored because this `step` 5 is already reported.\n",
      "  warnings.warn(\n",
      "Metric val_loss improved by 0.001 >= min_delta = 0.0005. New best score: 0.009\n",
      "/home/eduardo/Documentos/Water-Cycle-Neural-Network/venv/lib/python3.12/site-packages/optuna/trial/_trial.py:497: UserWarning: The reported value is ignored because this `step` 6 is already reported.\n",
      "  warnings.warn(\n",
      "/home/eduardo/Documentos/Water-Cycle-Neural-Network/venv/lib/python3.12/site-packages/optuna/trial/_trial.py:497: UserWarning: The reported value is ignored because this `step` 7 is already reported.\n",
      "  warnings.warn(\n",
      "/home/eduardo/Documentos/Water-Cycle-Neural-Network/venv/lib/python3.12/site-packages/optuna/trial/_trial.py:497: UserWarning: The reported value is ignored because this `step` 8 is already reported.\n",
      "  warnings.warn(\n",
      "/home/eduardo/Documentos/Water-Cycle-Neural-Network/venv/lib/python3.12/site-packages/optuna/trial/_trial.py:497: UserWarning: The reported value is ignored because this `step` 9 is already reported.\n",
      "  warnings.warn(\n",
      "/home/eduardo/Documentos/Water-Cycle-Neural-Network/venv/lib/python3.12/site-packages/optuna/trial/_trial.py:497: UserWarning: The reported value is ignored because this `step` 10 is already reported.\n",
      "  warnings.warn(\n",
      "/home/eduardo/Documentos/Water-Cycle-Neural-Network/venv/lib/python3.12/site-packages/optuna/trial/_trial.py:497: UserWarning: The reported value is ignored because this `step` 11 is already reported.\n",
      "  warnings.warn(\n",
      "/home/eduardo/Documentos/Water-Cycle-Neural-Network/venv/lib/python3.12/site-packages/optuna/trial/_trial.py:497: UserWarning: The reported value is ignored because this `step` 12 is already reported.\n",
      "  warnings.warn(\n",
      "/home/eduardo/Documentos/Water-Cycle-Neural-Network/venv/lib/python3.12/site-packages/optuna/trial/_trial.py:497: UserWarning: The reported value is ignored because this `step` 13 is already reported.\n",
      "  warnings.warn(\n",
      "/home/eduardo/Documentos/Water-Cycle-Neural-Network/venv/lib/python3.12/site-packages/optuna/trial/_trial.py:497: UserWarning: The reported value is ignored because this `step` 14 is already reported.\n",
      "  warnings.warn(\n",
      "/home/eduardo/Documentos/Water-Cycle-Neural-Network/venv/lib/python3.12/site-packages/optuna/trial/_trial.py:497: UserWarning: The reported value is ignored because this `step` 15 is already reported.\n",
      "  warnings.warn(\n",
      "/home/eduardo/Documentos/Water-Cycle-Neural-Network/venv/lib/python3.12/site-packages/optuna/trial/_trial.py:497: UserWarning: The reported value is ignored because this `step` 16 is already reported.\n",
      "  warnings.warn(\n",
      "/home/eduardo/Documentos/Water-Cycle-Neural-Network/venv/lib/python3.12/site-packages/optuna/trial/_trial.py:497: UserWarning: The reported value is ignored because this `step` 17 is already reported.\n",
      "  warnings.warn(\n",
      "/home/eduardo/Documentos/Water-Cycle-Neural-Network/venv/lib/python3.12/site-packages/optuna/trial/_trial.py:497: UserWarning: The reported value is ignored because this `step` 18 is already reported.\n",
      "  warnings.warn(\n",
      "Monitored metric val_loss did not improve in the last 15 records. Best score: 0.009. Signaling Trainer to stop.\n",
      "GPU available: True (cuda), used: True\n",
      "TPU available: False, using: 0 TPU cores\n",
      "HPU available: False, using: 0 HPUs\n",
      "LOCAL_RANK: 0 - CUDA_VISIBLE_DEVICES: [0]\n"
     ]
    },
    {
     "name": "stdout",
     "output_type": "stream",
     "text": [
      "Model loaded from checkpoint for trial 15, fold 1\n"
     ]
    },
    {
     "name": "stderr",
     "output_type": "stream",
     "text": [
      "GPU available: True (cuda), used: True\n",
      "TPU available: False, using: 0 TPU cores\n",
      "HPU available: False, using: 0 HPUs\n",
      "LOCAL_RANK: 0 - CUDA_VISIBLE_DEVICES: [0]\n"
     ]
    },
    {
     "name": "stdout",
     "output_type": "stream",
     "text": [
      "SMAPE fold 1: 51.393866814110496\n",
      "\n",
      "Fold 3/3\n"
     ]
    },
    {
     "name": "stderr",
     "output_type": "stream",
     "text": [
      "/home/eduardo/Documentos/Water-Cycle-Neural-Network/venv/lib/python3.12/site-packages/optuna/trial/_trial.py:497: UserWarning: The reported value is ignored because this `step` 0 is already reported.\n",
      "  warnings.warn(\n",
      "Monitored metric val_loss did not improve in the last 16 records. Best score: 0.009. Signaling Trainer to stop.\n",
      "GPU available: True (cuda), used: True\n",
      "TPU available: False, using: 0 TPU cores\n",
      "HPU available: False, using: 0 HPUs\n",
      "LOCAL_RANK: 0 - CUDA_VISIBLE_DEVICES: [0]\n"
     ]
    },
    {
     "name": "stdout",
     "output_type": "stream",
     "text": [
      "Model loaded from checkpoint for trial 15, fold 2\n"
     ]
    },
    {
     "name": "stderr",
     "output_type": "stream",
     "text": [
      "[I 2025-06-09 14:19:35,878] Trial 15 finished with value: 51.98463993110323 and parameters: {'input_chunk_length': 84, 'hidden_size': 56, 'dropout': 0.25, 'batch_size': 120, 'lr': 0.0010685358460437798, 'weight_decay': 0.0001503552302615658, 'num_encoder_layers': 4, 'num_decoder_layers': 2, 'temporal_width_past': 2, 'temporal_width_future': 1, 'use_reversible_instance_norm': True, 'temporal_hidden_size_past': 108, 'temporal_hidden_size_future': 120}. Best is trial 7 with value: 51.79348411607213.\n",
      "GPU available: True (cuda), used: True\n",
      "TPU available: False, using: 0 TPU cores\n",
      "HPU available: False, using: 0 HPUs\n",
      "LOCAL_RANK: 0 - CUDA_VISIBLE_DEVICES: [0]\n"
     ]
    },
    {
     "name": "stdout",
     "output_type": "stream",
     "text": [
      "SMAPE fold 2: 54.68903998752961\n",
      "Média dos SMAPE nos folds: 51.98463993110323\n",
      "Results of trial 15 saved in optuna_iteration_metrics/trial_15.json\n",
      "Current value: 51.98463993110323, Current params: {'input_chunk_length': 84, 'hidden_size': 56, 'dropout': 0.25, 'batch_size': 120, 'lr': 0.0010685358460437798, 'weight_decay': 0.0001503552302615658, 'num_encoder_layers': 4, 'num_decoder_layers': 2, 'temporal_width_past': 2, 'temporal_width_future': 1, 'use_reversible_instance_norm': True, 'temporal_hidden_size_past': 108, 'temporal_hidden_size_future': 120}\n",
      "Best value: 51.79348411607213, Best params: {'input_chunk_length': 108, 'hidden_size': 200, 'dropout': 0.4, 'batch_size': 80, 'lr': 8.962976130859648e-05, 'weight_decay': 0.00508205212362534, 'num_encoder_layers': 3, 'num_decoder_layers': 3, 'temporal_width_past': 5, 'temporal_width_future': 1, 'use_reversible_instance_norm': True, 'temporal_hidden_size_past': 144, 'temporal_hidden_size_future': 120}\n",
      "\n",
      "Fold 1/3\n"
     ]
    },
    {
     "name": "stderr",
     "output_type": "stream",
     "text": [
      "Metric val_loss improved. New best score: 0.195\n",
      "Metric val_loss improved by 0.001 >= min_delta = 0.0005. New best score: 0.194\n",
      "Metric val_loss improved by 0.001 >= min_delta = 0.0005. New best score: 0.193\n",
      "Metric val_loss improved by 0.001 >= min_delta = 0.0005. New best score: 0.193\n",
      "Metric val_loss improved by 0.001 >= min_delta = 0.0005. New best score: 0.192\n",
      "Metric val_loss improved by 0.001 >= min_delta = 0.0005. New best score: 0.191\n",
      "Metric val_loss improved by 0.001 >= min_delta = 0.0005. New best score: 0.190\n",
      "Metric val_loss improved by 0.001 >= min_delta = 0.0005. New best score: 0.189\n",
      "Metric val_loss improved by 0.001 >= min_delta = 0.0005. New best score: 0.188\n",
      "Metric val_loss improved by 0.001 >= min_delta = 0.0005. New best score: 0.188\n",
      "[I 2025-06-09 14:20:03,155] Trial 16 pruned. Trial was pruned at epoch 20.\n",
      "GPU available: True (cuda), used: True\n",
      "TPU available: False, using: 0 TPU cores\n",
      "HPU available: False, using: 0 HPUs\n",
      "LOCAL_RANK: 0 - CUDA_VISIBLE_DEVICES: [0]\n"
     ]
    },
    {
     "name": "stdout",
     "output_type": "stream",
     "text": [
      "Current value: 0.18680164681143982, Current params: {'input_chunk_length': 48, 'hidden_size': 144, 'dropout': 0.15000000000000002, 'batch_size': 64, 'lr': 1.4747317629871398e-05, 'weight_decay': 0.0031583768144008654, 'num_encoder_layers': 3, 'num_decoder_layers': 4, 'temporal_width_past': 5, 'temporal_width_future': 4, 'use_reversible_instance_norm': True, 'temporal_hidden_size_past': 156, 'temporal_hidden_size_future': 84}\n",
      "Best value: 51.79348411607213, Best params: {'input_chunk_length': 108, 'hidden_size': 200, 'dropout': 0.4, 'batch_size': 80, 'lr': 8.962976130859648e-05, 'weight_decay': 0.00508205212362534, 'num_encoder_layers': 3, 'num_decoder_layers': 3, 'temporal_width_past': 5, 'temporal_width_future': 1, 'use_reversible_instance_norm': True, 'temporal_hidden_size_past': 144, 'temporal_hidden_size_future': 120}\n",
      "\n",
      "Fold 1/3\n"
     ]
    },
    {
     "name": "stderr",
     "output_type": "stream",
     "text": [
      "Metric val_loss improved. New best score: 0.159\n",
      "Metric val_loss improved by 0.003 >= min_delta = 0.0005. New best score: 0.156\n",
      "Metric val_loss improved by 0.002 >= min_delta = 0.0005. New best score: 0.154\n",
      "Metric val_loss improved by 0.001 >= min_delta = 0.0005. New best score: 0.153\n",
      "Metric val_loss improved by 0.001 >= min_delta = 0.0005. New best score: 0.152\n",
      "Exception ignored in: <function _MultiProcessingDataLoaderIter.__del__ at 0x7f7433929ee0>\n",
      "Traceback (most recent call last):\n",
      "  File \"/home/eduardo/Documentos/Water-Cycle-Neural-Network/venv/lib/python3.12/site-packages/torch/utils/data/dataloader.py\", line 1663, in __del__\n",
      "    self._shutdown_workers()\n",
      "  File \"/home/eduardo/Documentos/Water-Cycle-Neural-Network/venv/lib/python3.12/site-packages/torch/utils/data/dataloader.py\", line 1646, in _shutdown_workers\n",
      "    if w.is_alive():\n",
      "       ^^^^^^^^^^^^\n",
      "  File \"/usr/lib/python3.12/multiprocessing/process.py\", line 160, in is_alive\n",
      "    assert self._parent_pid == os.getpid(), 'can only test a child process'\n",
      "           ^^^^^^^^^^^^^^^^^^^^^^^^^^^^^^^\n",
      "AssertionError: can only test a child process\n",
      "Metric val_loss improved by 0.001 >= min_delta = 0.0005. New best score: 0.151\n",
      "Metric val_loss improved by 0.001 >= min_delta = 0.0005. New best score: 0.150\n",
      "Metric val_loss improved by 0.001 >= min_delta = 0.0005. New best score: 0.149\n",
      "Metric val_loss improved by 0.001 >= min_delta = 0.0005. New best score: 0.148\n",
      "Metric val_loss improved by 0.001 >= min_delta = 0.0005. New best score: 0.147\n",
      "Metric val_loss improved by 0.001 >= min_delta = 0.0005. New best score: 0.146\n",
      "Metric val_loss improved by 0.001 >= min_delta = 0.0005. New best score: 0.145\n",
      "Metric val_loss improved by 0.001 >= min_delta = 0.0005. New best score: 0.144\n",
      "Metric val_loss improved by 0.001 >= min_delta = 0.0005. New best score: 0.143\n",
      "Metric val_loss improved by 0.001 >= min_delta = 0.0005. New best score: 0.143\n",
      "Metric val_loss improved by 0.001 >= min_delta = 0.0005. New best score: 0.142\n",
      "Metric val_loss improved by 0.001 >= min_delta = 0.0005. New best score: 0.140\n",
      "Metric val_loss improved by 0.001 >= min_delta = 0.0005. New best score: 0.139\n",
      "Metric val_loss improved by 0.001 >= min_delta = 0.0005. New best score: 0.138\n",
      "Metric val_loss improved by 0.001 >= min_delta = 0.0005. New best score: 0.138\n",
      "Metric val_loss improved by 0.001 >= min_delta = 0.0005. New best score: 0.137\n",
      "Metric val_loss improved by 0.001 >= min_delta = 0.0005. New best score: 0.136\n",
      "Metric val_loss improved by 0.001 >= min_delta = 0.0005. New best score: 0.136\n",
      "Metric val_loss improved by 0.001 >= min_delta = 0.0005. New best score: 0.135\n",
      "Metric val_loss improved by 0.001 >= min_delta = 0.0005. New best score: 0.134\n",
      "Metric val_loss improved by 0.001 >= min_delta = 0.0005. New best score: 0.133\n",
      "`Trainer.fit` stopped: `max_epochs=30` reached.\n",
      "GPU available: True (cuda), used: True\n",
      "TPU available: False, using: 0 TPU cores\n",
      "HPU available: False, using: 0 HPUs\n",
      "LOCAL_RANK: 0 - CUDA_VISIBLE_DEVICES: [0]\n"
     ]
    },
    {
     "name": "stdout",
     "output_type": "stream",
     "text": [
      "Model loaded from checkpoint for trial 17, fold 0\n"
     ]
    },
    {
     "name": "stderr",
     "output_type": "stream",
     "text": [
      "GPU available: True (cuda), used: True\n",
      "TPU available: False, using: 0 TPU cores\n",
      "HPU available: False, using: 0 HPUs\n",
      "LOCAL_RANK: 0 - CUDA_VISIBLE_DEVICES: [0]\n"
     ]
    },
    {
     "name": "stdout",
     "output_type": "stream",
     "text": [
      "SMAPE fold 0: 50.081531455713304\n",
      "\n",
      "Fold 2/3\n"
     ]
    },
    {
     "name": "stderr",
     "output_type": "stream",
     "text": [
      "/home/eduardo/Documentos/Water-Cycle-Neural-Network/venv/lib/python3.12/site-packages/optuna/trial/_trial.py:497: UserWarning: The reported value is ignored because this `step` 0 is already reported.\n",
      "  warnings.warn(\n",
      "Metric val_loss improved by 0.121 >= min_delta = 0.0005. New best score: 0.012\n",
      "/home/eduardo/Documentos/Water-Cycle-Neural-Network/venv/lib/python3.12/site-packages/optuna/trial/_trial.py:497: UserWarning: The reported value is ignored because this `step` 1 is already reported.\n",
      "  warnings.warn(\n",
      "/home/eduardo/Documentos/Water-Cycle-Neural-Network/venv/lib/python3.12/site-packages/optuna/trial/_trial.py:497: UserWarning: The reported value is ignored because this `step` 2 is already reported.\n",
      "  warnings.warn(\n",
      "/home/eduardo/Documentos/Water-Cycle-Neural-Network/venv/lib/python3.12/site-packages/optuna/trial/_trial.py:497: UserWarning: The reported value is ignored because this `step` 3 is already reported.\n",
      "  warnings.warn(\n",
      "Metric val_loss improved by 0.001 >= min_delta = 0.0005. New best score: 0.011\n",
      "/home/eduardo/Documentos/Water-Cycle-Neural-Network/venv/lib/python3.12/site-packages/optuna/trial/_trial.py:497: UserWarning: The reported value is ignored because this `step` 4 is already reported.\n",
      "  warnings.warn(\n",
      "/home/eduardo/Documentos/Water-Cycle-Neural-Network/venv/lib/python3.12/site-packages/optuna/trial/_trial.py:497: UserWarning: The reported value is ignored because this `step` 5 is already reported.\n",
      "  warnings.warn(\n",
      "/home/eduardo/Documentos/Water-Cycle-Neural-Network/venv/lib/python3.12/site-packages/optuna/trial/_trial.py:497: UserWarning: The reported value is ignored because this `step` 6 is already reported.\n",
      "  warnings.warn(\n",
      "/home/eduardo/Documentos/Water-Cycle-Neural-Network/venv/lib/python3.12/site-packages/optuna/trial/_trial.py:497: UserWarning: The reported value is ignored because this `step` 7 is already reported.\n",
      "  warnings.warn(\n",
      "Metric val_loss improved by 0.001 >= min_delta = 0.0005. New best score: 0.011\n",
      "/home/eduardo/Documentos/Water-Cycle-Neural-Network/venv/lib/python3.12/site-packages/optuna/trial/_trial.py:497: UserWarning: The reported value is ignored because this `step` 8 is already reported.\n",
      "  warnings.warn(\n",
      "/home/eduardo/Documentos/Water-Cycle-Neural-Network/venv/lib/python3.12/site-packages/optuna/trial/_trial.py:497: UserWarning: The reported value is ignored because this `step` 9 is already reported.\n",
      "  warnings.warn(\n",
      "/home/eduardo/Documentos/Water-Cycle-Neural-Network/venv/lib/python3.12/site-packages/optuna/trial/_trial.py:497: UserWarning: The reported value is ignored because this `step` 10 is already reported.\n",
      "  warnings.warn(\n",
      "/home/eduardo/Documentos/Water-Cycle-Neural-Network/venv/lib/python3.12/site-packages/optuna/trial/_trial.py:497: UserWarning: The reported value is ignored because this `step` 11 is already reported.\n",
      "  warnings.warn(\n",
      "/home/eduardo/Documentos/Water-Cycle-Neural-Network/venv/lib/python3.12/site-packages/optuna/trial/_trial.py:497: UserWarning: The reported value is ignored because this `step` 12 is already reported.\n",
      "  warnings.warn(\n",
      "Metric val_loss improved by 0.001 >= min_delta = 0.0005. New best score: 0.010\n",
      "/home/eduardo/Documentos/Water-Cycle-Neural-Network/venv/lib/python3.12/site-packages/optuna/trial/_trial.py:497: UserWarning: The reported value is ignored because this `step` 13 is already reported.\n",
      "  warnings.warn(\n",
      "/home/eduardo/Documentos/Water-Cycle-Neural-Network/venv/lib/python3.12/site-packages/optuna/trial/_trial.py:497: UserWarning: The reported value is ignored because this `step` 14 is already reported.\n",
      "  warnings.warn(\n",
      "/home/eduardo/Documentos/Water-Cycle-Neural-Network/venv/lib/python3.12/site-packages/optuna/trial/_trial.py:497: UserWarning: The reported value is ignored because this `step` 15 is already reported.\n",
      "  warnings.warn(\n",
      "/home/eduardo/Documentos/Water-Cycle-Neural-Network/venv/lib/python3.12/site-packages/optuna/trial/_trial.py:497: UserWarning: The reported value is ignored because this `step` 16 is already reported.\n",
      "  warnings.warn(\n",
      "/home/eduardo/Documentos/Water-Cycle-Neural-Network/venv/lib/python3.12/site-packages/optuna/trial/_trial.py:497: UserWarning: The reported value is ignored because this `step` 17 is already reported.\n",
      "  warnings.warn(\n",
      "/home/eduardo/Documentos/Water-Cycle-Neural-Network/venv/lib/python3.12/site-packages/optuna/trial/_trial.py:497: UserWarning: The reported value is ignored because this `step` 18 is already reported.\n",
      "  warnings.warn(\n",
      "/home/eduardo/Documentos/Water-Cycle-Neural-Network/venv/lib/python3.12/site-packages/optuna/trial/_trial.py:497: UserWarning: The reported value is ignored because this `step` 19 is already reported.\n",
      "  warnings.warn(\n",
      "/home/eduardo/Documentos/Water-Cycle-Neural-Network/venv/lib/python3.12/site-packages/optuna/trial/_trial.py:497: UserWarning: The reported value is ignored because this `step` 20 is already reported.\n",
      "  warnings.warn(\n",
      "/home/eduardo/Documentos/Water-Cycle-Neural-Network/venv/lib/python3.12/site-packages/optuna/trial/_trial.py:497: UserWarning: The reported value is ignored because this `step` 21 is already reported.\n",
      "  warnings.warn(\n",
      "Metric val_loss improved by 0.001 >= min_delta = 0.0005. New best score: 0.010\n",
      "/home/eduardo/Documentos/Water-Cycle-Neural-Network/venv/lib/python3.12/site-packages/optuna/trial/_trial.py:497: UserWarning: The reported value is ignored because this `step` 22 is already reported.\n",
      "  warnings.warn(\n",
      "/home/eduardo/Documentos/Water-Cycle-Neural-Network/venv/lib/python3.12/site-packages/optuna/trial/_trial.py:497: UserWarning: The reported value is ignored because this `step` 23 is already reported.\n",
      "  warnings.warn(\n",
      "/home/eduardo/Documentos/Water-Cycle-Neural-Network/venv/lib/python3.12/site-packages/optuna/trial/_trial.py:497: UserWarning: The reported value is ignored because this `step` 24 is already reported.\n",
      "  warnings.warn(\n",
      "/home/eduardo/Documentos/Water-Cycle-Neural-Network/venv/lib/python3.12/site-packages/optuna/trial/_trial.py:497: UserWarning: The reported value is ignored because this `step` 25 is already reported.\n",
      "  warnings.warn(\n",
      "/home/eduardo/Documentos/Water-Cycle-Neural-Network/venv/lib/python3.12/site-packages/optuna/trial/_trial.py:497: UserWarning: The reported value is ignored because this `step` 26 is already reported.\n",
      "  warnings.warn(\n",
      "/home/eduardo/Documentos/Water-Cycle-Neural-Network/venv/lib/python3.12/site-packages/optuna/trial/_trial.py:497: UserWarning: The reported value is ignored because this `step` 27 is already reported.\n",
      "  warnings.warn(\n",
      "/home/eduardo/Documentos/Water-Cycle-Neural-Network/venv/lib/python3.12/site-packages/optuna/trial/_trial.py:497: UserWarning: The reported value is ignored because this `step` 28 is already reported.\n",
      "  warnings.warn(\n",
      "/home/eduardo/Documentos/Water-Cycle-Neural-Network/venv/lib/python3.12/site-packages/optuna/trial/_trial.py:497: UserWarning: The reported value is ignored because this `step` 29 is already reported.\n",
      "  warnings.warn(\n",
      "`Trainer.fit` stopped: `max_epochs=30` reached.\n",
      "GPU available: True (cuda), used: True\n",
      "TPU available: False, using: 0 TPU cores\n",
      "HPU available: False, using: 0 HPUs\n",
      "LOCAL_RANK: 0 - CUDA_VISIBLE_DEVICES: [0]\n"
     ]
    },
    {
     "name": "stdout",
     "output_type": "stream",
     "text": [
      "Model loaded from checkpoint for trial 17, fold 1\n"
     ]
    },
    {
     "name": "stderr",
     "output_type": "stream",
     "text": [
      "GPU available: True (cuda), used: True\n",
      "TPU available: False, using: 0 TPU cores\n",
      "HPU available: False, using: 0 HPUs\n",
      "LOCAL_RANK: 0 - CUDA_VISIBLE_DEVICES: [0]\n"
     ]
    },
    {
     "name": "stdout",
     "output_type": "stream",
     "text": [
      "SMAPE fold 1: 51.155071501349624\n",
      "\n",
      "Fold 3/3\n"
     ]
    },
    {
     "name": "stderr",
     "output_type": "stream",
     "text": [
      "/home/eduardo/Documentos/Water-Cycle-Neural-Network/venv/lib/python3.12/site-packages/optuna/trial/_trial.py:497: UserWarning: The reported value is ignored because this `step` 0 is already reported.\n",
      "  warnings.warn(\n",
      "/home/eduardo/Documentos/Water-Cycle-Neural-Network/venv/lib/python3.12/site-packages/optuna/trial/_trial.py:497: UserWarning: The reported value is ignored because this `step` 1 is already reported.\n",
      "  warnings.warn(\n",
      "/home/eduardo/Documentos/Water-Cycle-Neural-Network/venv/lib/python3.12/site-packages/optuna/trial/_trial.py:497: UserWarning: The reported value is ignored because this `step` 2 is already reported.\n",
      "  warnings.warn(\n",
      "/home/eduardo/Documentos/Water-Cycle-Neural-Network/venv/lib/python3.12/site-packages/optuna/trial/_trial.py:497: UserWarning: The reported value is ignored because this `step` 3 is already reported.\n",
      "  warnings.warn(\n",
      "/home/eduardo/Documentos/Water-Cycle-Neural-Network/venv/lib/python3.12/site-packages/optuna/trial/_trial.py:497: UserWarning: The reported value is ignored because this `step` 4 is already reported.\n",
      "  warnings.warn(\n",
      "/home/eduardo/Documentos/Water-Cycle-Neural-Network/venv/lib/python3.12/site-packages/optuna/trial/_trial.py:497: UserWarning: The reported value is ignored because this `step` 5 is already reported.\n",
      "  warnings.warn(\n",
      "/home/eduardo/Documentos/Water-Cycle-Neural-Network/venv/lib/python3.12/site-packages/optuna/trial/_trial.py:497: UserWarning: The reported value is ignored because this `step` 6 is already reported.\n",
      "  warnings.warn(\n",
      "Monitored metric val_loss did not improve in the last 15 records. Best score: 0.010. Signaling Trainer to stop.\n",
      "GPU available: True (cuda), used: True\n",
      "TPU available: False, using: 0 TPU cores\n",
      "HPU available: False, using: 0 HPUs\n",
      "LOCAL_RANK: 0 - CUDA_VISIBLE_DEVICES: [0]\n"
     ]
    },
    {
     "name": "stdout",
     "output_type": "stream",
     "text": [
      "Model loaded from checkpoint for trial 17, fold 2\n"
     ]
    },
    {
     "name": "stderr",
     "output_type": "stream",
     "text": [
      "[I 2025-06-09 14:22:23,515] Trial 17 finished with value: 52.226521457549666 and parameters: {'input_chunk_length': 36, 'hidden_size': 192, 'dropout': 0.5, 'batch_size': 224, 'lr': 0.0001231163582532156, 'weight_decay': 1.0181522632410464e-05, 'num_encoder_layers': 2, 'num_decoder_layers': 3, 'temporal_width_past': 4, 'temporal_width_future': 3, 'use_reversible_instance_norm': True, 'temporal_hidden_size_past': 168, 'temporal_hidden_size_future': 24}. Best is trial 7 with value: 51.79348411607213.\n",
      "GPU available: True (cuda), used: True\n",
      "TPU available: False, using: 0 TPU cores\n",
      "HPU available: False, using: 0 HPUs\n",
      "LOCAL_RANK: 0 - CUDA_VISIBLE_DEVICES: [0]\n"
     ]
    },
    {
     "name": "stdout",
     "output_type": "stream",
     "text": [
      "SMAPE fold 2: 55.442961415586055\n",
      "Média dos SMAPE nos folds: 52.226521457549666\n",
      "Results of trial 17 saved in optuna_iteration_metrics/trial_17.json\n",
      "Current value: 52.226521457549666, Current params: {'input_chunk_length': 36, 'hidden_size': 192, 'dropout': 0.5, 'batch_size': 224, 'lr': 0.0001231163582532156, 'weight_decay': 1.0181522632410464e-05, 'num_encoder_layers': 2, 'num_decoder_layers': 3, 'temporal_width_past': 4, 'temporal_width_future': 3, 'use_reversible_instance_norm': True, 'temporal_hidden_size_past': 168, 'temporal_hidden_size_future': 24}\n",
      "Best value: 51.79348411607213, Best params: {'input_chunk_length': 108, 'hidden_size': 200, 'dropout': 0.4, 'batch_size': 80, 'lr': 8.962976130859648e-05, 'weight_decay': 0.00508205212362534, 'num_encoder_layers': 3, 'num_decoder_layers': 3, 'temporal_width_past': 5, 'temporal_width_future': 1, 'use_reversible_instance_norm': True, 'temporal_hidden_size_past': 144, 'temporal_hidden_size_future': 120}\n",
      "\n",
      "Fold 1/3\n"
     ]
    },
    {
     "name": "stderr",
     "output_type": "stream",
     "text": [
      "[I 2025-06-09 14:22:25,499] Trial 18 pruned. Trial was pruned at epoch 0.\n",
      "GPU available: True (cuda), used: True\n",
      "TPU available: False, using: 0 TPU cores\n",
      "HPU available: False, using: 0 HPUs\n",
      "LOCAL_RANK: 0 - CUDA_VISIBLE_DEVICES: [0]\n"
     ]
    },
    {
     "name": "stdout",
     "output_type": "stream",
     "text": [
      "Current value: 4.751566866651556, Current params: {'input_chunk_length': 168, 'hidden_size': 256, 'dropout': 0.25, 'batch_size': 184, 'lr': 0.0006261220872063687, 'weight_decay': 0.0002234057614601809, 'num_encoder_layers': 2, 'num_decoder_layers': 4, 'temporal_width_past': 4, 'temporal_width_future': 2, 'use_reversible_instance_norm': False, 'temporal_hidden_size_past': 108, 'temporal_hidden_size_future': 156}\n",
      "Best value: 51.79348411607213, Best params: {'input_chunk_length': 108, 'hidden_size': 200, 'dropout': 0.4, 'batch_size': 80, 'lr': 8.962976130859648e-05, 'weight_decay': 0.00508205212362534, 'num_encoder_layers': 3, 'num_decoder_layers': 3, 'temporal_width_past': 5, 'temporal_width_future': 1, 'use_reversible_instance_norm': True, 'temporal_hidden_size_past': 144, 'temporal_hidden_size_future': 120}\n",
      "\n",
      "Fold 1/3\n"
     ]
    },
    {
     "name": "stderr",
     "output_type": "stream",
     "text": [
      "Metric val_loss improved. New best score: 0.269\n",
      "Metric val_loss improved by 0.001 >= min_delta = 0.0005. New best score: 0.268\n",
      "Metric val_loss improved by 0.001 >= min_delta = 0.0005. New best score: 0.267\n",
      "Metric val_loss improved by 0.001 >= min_delta = 0.0005. New best score: 0.267\n",
      "Metric val_loss improved by 0.001 >= min_delta = 0.0005. New best score: 0.266\n",
      "Metric val_loss improved by 0.001 >= min_delta = 0.0005. New best score: 0.265\n",
      "Metric val_loss improved by 0.001 >= min_delta = 0.0005. New best score: 0.265\n",
      "Metric val_loss improved by 0.001 >= min_delta = 0.0005. New best score: 0.264\n",
      "[I 2025-06-09 14:22:37,324] Trial 19 pruned. Trial was pruned at epoch 8.\n",
      "GPU available: True (cuda), used: True\n",
      "TPU available: False, using: 0 TPU cores\n",
      "HPU available: False, using: 0 HPUs\n",
      "LOCAL_RANK: 0 - CUDA_VISIBLE_DEVICES: [0]\n"
     ]
    },
    {
     "name": "stdout",
     "output_type": "stream",
     "text": [
      "Current value: 0.2634665010257068, Current params: {'input_chunk_length': 84, 'hidden_size': 144, 'dropout': 0.35, 'batch_size': 104, 'lr': 1.3155049581670006e-05, 'weight_decay': 0.002122354268519519, 'num_encoder_layers': 3, 'num_decoder_layers': 3, 'temporal_width_past': 2, 'temporal_width_future': 4, 'use_reversible_instance_norm': True, 'temporal_hidden_size_past': 144, 'temporal_hidden_size_future': 120}\n",
      "Best value: 51.79348411607213, Best params: {'input_chunk_length': 108, 'hidden_size': 200, 'dropout': 0.4, 'batch_size': 80, 'lr': 8.962976130859648e-05, 'weight_decay': 0.00508205212362534, 'num_encoder_layers': 3, 'num_decoder_layers': 3, 'temporal_width_past': 5, 'temporal_width_future': 1, 'use_reversible_instance_norm': True, 'temporal_hidden_size_past': 144, 'temporal_hidden_size_future': 120}\n",
      "\n",
      "Fold 1/3\n"
     ]
    },
    {
     "name": "stderr",
     "output_type": "stream",
     "text": [
      "[I 2025-06-09 14:22:39,203] Trial 20 pruned. Trial was pruned at epoch 0.\n",
      "GPU available: True (cuda), used: True\n",
      "TPU available: False, using: 0 TPU cores\n",
      "HPU available: False, using: 0 HPUs\n",
      "LOCAL_RANK: 0 - CUDA_VISIBLE_DEVICES: [0]\n"
     ]
    },
    {
     "name": "stdout",
     "output_type": "stream",
     "text": [
      "Current value: 0.3642000236436594, Current params: {'input_chunk_length': 120, 'hidden_size': 176, 'dropout': 0.25, 'batch_size': 160, 'lr': 6.909610556259579e-05, 'weight_decay': 8.397671960192198e-05, 'num_encoder_layers': 4, 'num_decoder_layers': 2, 'temporal_width_past': 3, 'temporal_width_future': 5, 'use_reversible_instance_norm': True, 'temporal_hidden_size_past': 108, 'temporal_hidden_size_future': 84}\n",
      "Best value: 51.79348411607213, Best params: {'input_chunk_length': 108, 'hidden_size': 200, 'dropout': 0.4, 'batch_size': 80, 'lr': 8.962976130859648e-05, 'weight_decay': 0.00508205212362534, 'num_encoder_layers': 3, 'num_decoder_layers': 3, 'temporal_width_past': 5, 'temporal_width_future': 1, 'use_reversible_instance_norm': True, 'temporal_hidden_size_past': 144, 'temporal_hidden_size_future': 120}\n",
      "\n",
      "Fold 1/3\n"
     ]
    },
    {
     "name": "stderr",
     "output_type": "stream",
     "text": [
      "Metric val_loss improved. New best score: 0.200\n",
      "Metric val_loss improved by 0.047 >= min_delta = 0.0005. New best score: 0.153\n",
      "Metric val_loss improved by 0.014 >= min_delta = 0.0005. New best score: 0.139\n",
      "Metric val_loss improved by 0.006 >= min_delta = 0.0005. New best score: 0.133\n",
      "Metric val_loss improved by 0.003 >= min_delta = 0.0005. New best score: 0.130\n",
      "Metric val_loss improved by 0.002 >= min_delta = 0.0005. New best score: 0.128\n",
      "Metric val_loss improved by 0.001 >= min_delta = 0.0005. New best score: 0.126\n",
      "Metric val_loss improved by 0.002 >= min_delta = 0.0005. New best score: 0.125\n",
      "Monitored metric val_loss did not improve in the last 15 records. Best score: 0.125. Signaling Trainer to stop.\n",
      "GPU available: True (cuda), used: True\n",
      "TPU available: False, using: 0 TPU cores\n",
      "HPU available: False, using: 0 HPUs\n",
      "LOCAL_RANK: 0 - CUDA_VISIBLE_DEVICES: [0]\n"
     ]
    },
    {
     "name": "stdout",
     "output_type": "stream",
     "text": [
      "Model loaded from checkpoint for trial 21, fold 0\n"
     ]
    },
    {
     "name": "stderr",
     "output_type": "stream",
     "text": [
      "GPU available: True (cuda), used: True\n",
      "TPU available: False, using: 0 TPU cores\n",
      "HPU available: False, using: 0 HPUs\n",
      "LOCAL_RANK: 0 - CUDA_VISIBLE_DEVICES: [0]\n"
     ]
    },
    {
     "name": "stdout",
     "output_type": "stream",
     "text": [
      "SMAPE fold 0: 49.32600007746996\n",
      "\n",
      "Fold 2/3\n"
     ]
    },
    {
     "name": "stderr",
     "output_type": "stream",
     "text": [
      "/home/eduardo/Documentos/Water-Cycle-Neural-Network/venv/lib/python3.12/site-packages/optuna/trial/_trial.py:497: UserWarning: The reported value is ignored because this `step` 0 is already reported.\n",
      "  warnings.warn(\n",
      "Metric val_loss improved by 0.114 >= min_delta = 0.0005. New best score: 0.011\n",
      "/home/eduardo/Documentos/Water-Cycle-Neural-Network/venv/lib/python3.12/site-packages/optuna/trial/_trial.py:497: UserWarning: The reported value is ignored because this `step` 1 is already reported.\n",
      "  warnings.warn(\n",
      "Metric val_loss improved by 0.001 >= min_delta = 0.0005. New best score: 0.010\n",
      "/home/eduardo/Documentos/Water-Cycle-Neural-Network/venv/lib/python3.12/site-packages/optuna/trial/_trial.py:497: UserWarning: The reported value is ignored because this `step` 2 is already reported.\n",
      "  warnings.warn(\n",
      "/home/eduardo/Documentos/Water-Cycle-Neural-Network/venv/lib/python3.12/site-packages/optuna/trial/_trial.py:497: UserWarning: The reported value is ignored because this `step` 3 is already reported.\n",
      "  warnings.warn(\n",
      "Metric val_loss improved by 0.001 >= min_delta = 0.0005. New best score: 0.009\n",
      "/home/eduardo/Documentos/Water-Cycle-Neural-Network/venv/lib/python3.12/site-packages/optuna/trial/_trial.py:497: UserWarning: The reported value is ignored because this `step` 4 is already reported.\n",
      "  warnings.warn(\n",
      "/home/eduardo/Documentos/Water-Cycle-Neural-Network/venv/lib/python3.12/site-packages/optuna/trial/_trial.py:497: UserWarning: The reported value is ignored because this `step` 5 is already reported.\n",
      "  warnings.warn(\n",
      "/home/eduardo/Documentos/Water-Cycle-Neural-Network/venv/lib/python3.12/site-packages/optuna/trial/_trial.py:497: UserWarning: The reported value is ignored because this `step` 6 is already reported.\n",
      "  warnings.warn(\n",
      "/home/eduardo/Documentos/Water-Cycle-Neural-Network/venv/lib/python3.12/site-packages/optuna/trial/_trial.py:497: UserWarning: The reported value is ignored because this `step` 7 is already reported.\n",
      "  warnings.warn(\n",
      "/home/eduardo/Documentos/Water-Cycle-Neural-Network/venv/lib/python3.12/site-packages/optuna/trial/_trial.py:497: UserWarning: The reported value is ignored because this `step` 8 is already reported.\n",
      "  warnings.warn(\n",
      "/home/eduardo/Documentos/Water-Cycle-Neural-Network/venv/lib/python3.12/site-packages/optuna/trial/_trial.py:497: UserWarning: The reported value is ignored because this `step` 9 is already reported.\n",
      "  warnings.warn(\n",
      "/home/eduardo/Documentos/Water-Cycle-Neural-Network/venv/lib/python3.12/site-packages/optuna/trial/_trial.py:497: UserWarning: The reported value is ignored because this `step` 10 is already reported.\n",
      "  warnings.warn(\n",
      "/home/eduardo/Documentos/Water-Cycle-Neural-Network/venv/lib/python3.12/site-packages/optuna/trial/_trial.py:497: UserWarning: The reported value is ignored because this `step` 11 is already reported.\n",
      "  warnings.warn(\n",
      "/home/eduardo/Documentos/Water-Cycle-Neural-Network/venv/lib/python3.12/site-packages/optuna/trial/_trial.py:497: UserWarning: The reported value is ignored because this `step` 12 is already reported.\n",
      "  warnings.warn(\n",
      "/home/eduardo/Documentos/Water-Cycle-Neural-Network/venv/lib/python3.12/site-packages/optuna/trial/_trial.py:497: UserWarning: The reported value is ignored because this `step` 13 is already reported.\n",
      "  warnings.warn(\n",
      "/home/eduardo/Documentos/Water-Cycle-Neural-Network/venv/lib/python3.12/site-packages/optuna/trial/_trial.py:497: UserWarning: The reported value is ignored because this `step` 14 is already reported.\n",
      "  warnings.warn(\n",
      "/home/eduardo/Documentos/Water-Cycle-Neural-Network/venv/lib/python3.12/site-packages/optuna/trial/_trial.py:497: UserWarning: The reported value is ignored because this `step` 15 is already reported.\n",
      "  warnings.warn(\n",
      "/home/eduardo/Documentos/Water-Cycle-Neural-Network/venv/lib/python3.12/site-packages/optuna/trial/_trial.py:497: UserWarning: The reported value is ignored because this `step` 16 is already reported.\n",
      "  warnings.warn(\n",
      "/home/eduardo/Documentos/Water-Cycle-Neural-Network/venv/lib/python3.12/site-packages/optuna/trial/_trial.py:497: UserWarning: The reported value is ignored because this `step` 17 is already reported.\n",
      "  warnings.warn(\n",
      "/home/eduardo/Documentos/Water-Cycle-Neural-Network/venv/lib/python3.12/site-packages/optuna/trial/_trial.py:497: UserWarning: The reported value is ignored because this `step` 18 is already reported.\n",
      "  warnings.warn(\n",
      "Monitored metric val_loss did not improve in the last 15 records. Best score: 0.009. Signaling Trainer to stop.\n",
      "GPU available: True (cuda), used: True\n",
      "TPU available: False, using: 0 TPU cores\n",
      "HPU available: False, using: 0 HPUs\n",
      "LOCAL_RANK: 0 - CUDA_VISIBLE_DEVICES: [0]\n"
     ]
    },
    {
     "name": "stdout",
     "output_type": "stream",
     "text": [
      "Model loaded from checkpoint for trial 21, fold 1\n"
     ]
    },
    {
     "name": "stderr",
     "output_type": "stream",
     "text": [
      "GPU available: True (cuda), used: True\n",
      "TPU available: False, using: 0 TPU cores\n",
      "HPU available: False, using: 0 HPUs\n",
      "LOCAL_RANK: 0 - CUDA_VISIBLE_DEVICES: [0]\n"
     ]
    },
    {
     "name": "stdout",
     "output_type": "stream",
     "text": [
      "SMAPE fold 1: 51.04768169934294\n",
      "\n",
      "Fold 3/3\n"
     ]
    },
    {
     "name": "stderr",
     "output_type": "stream",
     "text": [
      "/home/eduardo/Documentos/Water-Cycle-Neural-Network/venv/lib/python3.12/site-packages/optuna/trial/_trial.py:497: UserWarning: The reported value is ignored because this `step` 0 is already reported.\n",
      "  warnings.warn(\n",
      "Monitored metric val_loss did not improve in the last 16 records. Best score: 0.009. Signaling Trainer to stop.\n",
      "GPU available: True (cuda), used: True\n",
      "TPU available: False, using: 0 TPU cores\n",
      "HPU available: False, using: 0 HPUs\n",
      "LOCAL_RANK: 0 - CUDA_VISIBLE_DEVICES: [0]\n"
     ]
    },
    {
     "name": "stdout",
     "output_type": "stream",
     "text": [
      "Model loaded from checkpoint for trial 21, fold 2\n"
     ]
    },
    {
     "name": "stderr",
     "output_type": "stream",
     "text": [
      "[I 2025-06-09 14:26:24,785] Trial 21 finished with value: 51.93329918374354 and parameters: {'input_chunk_length': 72, 'hidden_size': 48, 'dropout': 0.25, 'batch_size': 120, 'lr': 0.0013645428600587246, 'weight_decay': 0.0001994915444611346, 'num_encoder_layers': 4, 'num_decoder_layers': 2, 'temporal_width_past': 2, 'temporal_width_future': 1, 'use_reversible_instance_norm': True, 'temporal_hidden_size_past': 108, 'temporal_hidden_size_future': 120}. Best is trial 7 with value: 51.79348411607213.\n",
      "GPU available: True (cuda), used: True\n",
      "TPU available: False, using: 0 TPU cores\n",
      "HPU available: False, using: 0 HPUs\n",
      "LOCAL_RANK: 0 - CUDA_VISIBLE_DEVICES: [0]\n"
     ]
    },
    {
     "name": "stdout",
     "output_type": "stream",
     "text": [
      "SMAPE fold 2: 55.42621577441771\n",
      "Média dos SMAPE nos folds: 51.93329918374354\n",
      "Results of trial 21 saved in optuna_iteration_metrics/trial_21.json\n",
      "Current value: 51.93329918374354, Current params: {'input_chunk_length': 72, 'hidden_size': 48, 'dropout': 0.25, 'batch_size': 120, 'lr': 0.0013645428600587246, 'weight_decay': 0.0001994915444611346, 'num_encoder_layers': 4, 'num_decoder_layers': 2, 'temporal_width_past': 2, 'temporal_width_future': 1, 'use_reversible_instance_norm': True, 'temporal_hidden_size_past': 108, 'temporal_hidden_size_future': 120}\n",
      "Best value: 51.79348411607213, Best params: {'input_chunk_length': 108, 'hidden_size': 200, 'dropout': 0.4, 'batch_size': 80, 'lr': 8.962976130859648e-05, 'weight_decay': 0.00508205212362534, 'num_encoder_layers': 3, 'num_decoder_layers': 3, 'temporal_width_past': 5, 'temporal_width_future': 1, 'use_reversible_instance_norm': True, 'temporal_hidden_size_past': 144, 'temporal_hidden_size_future': 120}\n",
      "\n",
      "Fold 1/3\n"
     ]
    },
    {
     "name": "stderr",
     "output_type": "stream",
     "text": [
      "Metric val_loss improved. New best score: 0.142\n",
      "Metric val_loss improved by 0.023 >= min_delta = 0.0005. New best score: 0.118\n",
      "Metric val_loss improved by 0.004 >= min_delta = 0.0005. New best score: 0.115\n",
      "Metric val_loss improved by 0.002 >= min_delta = 0.0005. New best score: 0.112\n",
      "Metric val_loss improved by 0.001 >= min_delta = 0.0005. New best score: 0.111\n",
      "Metric val_loss improved by 0.001 >= min_delta = 0.0005. New best score: 0.111\n",
      "Metric val_loss improved by 0.001 >= min_delta = 0.0005. New best score: 0.110\n",
      "`Trainer.fit` stopped: `max_epochs=30` reached.\n",
      "GPU available: True (cuda), used: True\n",
      "TPU available: False, using: 0 TPU cores\n",
      "HPU available: False, using: 0 HPUs\n",
      "LOCAL_RANK: 0 - CUDA_VISIBLE_DEVICES: [0]\n"
     ]
    },
    {
     "name": "stdout",
     "output_type": "stream",
     "text": [
      "Model loaded from checkpoint for trial 22, fold 0\n"
     ]
    },
    {
     "name": "stderr",
     "output_type": "stream",
     "text": [
      "GPU available: True (cuda), used: True\n",
      "TPU available: False, using: 0 TPU cores\n",
      "HPU available: False, using: 0 HPUs\n",
      "LOCAL_RANK: 0 - CUDA_VISIBLE_DEVICES: [0]\n"
     ]
    },
    {
     "name": "stdout",
     "output_type": "stream",
     "text": [
      "SMAPE fold 0: 48.59257621405312\n",
      "\n",
      "Fold 2/3\n"
     ]
    },
    {
     "name": "stderr",
     "output_type": "stream",
     "text": [
      "/home/eduardo/Documentos/Water-Cycle-Neural-Network/venv/lib/python3.12/site-packages/optuna/trial/_trial.py:497: UserWarning: The reported value is ignored because this `step` 0 is already reported.\n",
      "  warnings.warn(\n",
      "Metric val_loss improved by 0.100 >= min_delta = 0.0005. New best score: 0.010\n",
      "/home/eduardo/Documentos/Water-Cycle-Neural-Network/venv/lib/python3.12/site-packages/optuna/trial/_trial.py:497: UserWarning: The reported value is ignored because this `step` 1 is already reported.\n",
      "  warnings.warn(\n",
      "/home/eduardo/Documentos/Water-Cycle-Neural-Network/venv/lib/python3.12/site-packages/optuna/trial/_trial.py:497: UserWarning: The reported value is ignored because this `step` 2 is already reported.\n",
      "  warnings.warn(\n",
      "Metric val_loss improved by 0.001 >= min_delta = 0.0005. New best score: 0.009\n",
      "/home/eduardo/Documentos/Water-Cycle-Neural-Network/venv/lib/python3.12/site-packages/optuna/trial/_trial.py:497: UserWarning: The reported value is ignored because this `step` 3 is already reported.\n",
      "  warnings.warn(\n",
      "/home/eduardo/Documentos/Water-Cycle-Neural-Network/venv/lib/python3.12/site-packages/optuna/trial/_trial.py:497: UserWarning: The reported value is ignored because this `step` 4 is already reported.\n",
      "  warnings.warn(\n",
      "/home/eduardo/Documentos/Water-Cycle-Neural-Network/venv/lib/python3.12/site-packages/optuna/trial/_trial.py:497: UserWarning: The reported value is ignored because this `step` 5 is already reported.\n",
      "  warnings.warn(\n",
      "/home/eduardo/Documentos/Water-Cycle-Neural-Network/venv/lib/python3.12/site-packages/optuna/trial/_trial.py:497: UserWarning: The reported value is ignored because this `step` 6 is already reported.\n",
      "  warnings.warn(\n",
      "/home/eduardo/Documentos/Water-Cycle-Neural-Network/venv/lib/python3.12/site-packages/optuna/trial/_trial.py:497: UserWarning: The reported value is ignored because this `step` 7 is already reported.\n",
      "  warnings.warn(\n",
      "/home/eduardo/Documentos/Water-Cycle-Neural-Network/venv/lib/python3.12/site-packages/optuna/trial/_trial.py:497: UserWarning: The reported value is ignored because this `step` 8 is already reported.\n",
      "  warnings.warn(\n",
      "/home/eduardo/Documentos/Water-Cycle-Neural-Network/venv/lib/python3.12/site-packages/optuna/trial/_trial.py:497: UserWarning: The reported value is ignored because this `step` 9 is already reported.\n",
      "  warnings.warn(\n",
      "/home/eduardo/Documentos/Water-Cycle-Neural-Network/venv/lib/python3.12/site-packages/optuna/trial/_trial.py:497: UserWarning: The reported value is ignored because this `step` 10 is already reported.\n",
      "  warnings.warn(\n",
      "/home/eduardo/Documentos/Water-Cycle-Neural-Network/venv/lib/python3.12/site-packages/optuna/trial/_trial.py:497: UserWarning: The reported value is ignored because this `step` 11 is already reported.\n",
      "  warnings.warn(\n",
      "/home/eduardo/Documentos/Water-Cycle-Neural-Network/venv/lib/python3.12/site-packages/optuna/trial/_trial.py:497: UserWarning: The reported value is ignored because this `step` 12 is already reported.\n",
      "  warnings.warn(\n",
      "/home/eduardo/Documentos/Water-Cycle-Neural-Network/venv/lib/python3.12/site-packages/optuna/trial/_trial.py:497: UserWarning: The reported value is ignored because this `step` 13 is already reported.\n",
      "  warnings.warn(\n",
      "/home/eduardo/Documentos/Water-Cycle-Neural-Network/venv/lib/python3.12/site-packages/optuna/trial/_trial.py:497: UserWarning: The reported value is ignored because this `step` 14 is already reported.\n",
      "  warnings.warn(\n",
      "/home/eduardo/Documentos/Water-Cycle-Neural-Network/venv/lib/python3.12/site-packages/optuna/trial/_trial.py:497: UserWarning: The reported value is ignored because this `step` 15 is already reported.\n",
      "  warnings.warn(\n",
      "/home/eduardo/Documentos/Water-Cycle-Neural-Network/venv/lib/python3.12/site-packages/optuna/trial/_trial.py:497: UserWarning: The reported value is ignored because this `step` 16 is already reported.\n",
      "  warnings.warn(\n",
      "/home/eduardo/Documentos/Water-Cycle-Neural-Network/venv/lib/python3.12/site-packages/optuna/trial/_trial.py:497: UserWarning: The reported value is ignored because this `step` 17 is already reported.\n",
      "  warnings.warn(\n",
      "Monitored metric val_loss did not improve in the last 15 records. Best score: 0.009. Signaling Trainer to stop.\n",
      "GPU available: True (cuda), used: True\n",
      "TPU available: False, using: 0 TPU cores\n",
      "HPU available: False, using: 0 HPUs\n",
      "LOCAL_RANK: 0 - CUDA_VISIBLE_DEVICES: [0]\n"
     ]
    },
    {
     "name": "stdout",
     "output_type": "stream",
     "text": [
      "Model loaded from checkpoint for trial 22, fold 1\n"
     ]
    },
    {
     "name": "stderr",
     "output_type": "stream",
     "text": [
      "GPU available: True (cuda), used: True\n",
      "TPU available: False, using: 0 TPU cores\n",
      "HPU available: False, using: 0 HPUs\n",
      "LOCAL_RANK: 0 - CUDA_VISIBLE_DEVICES: [0]\n"
     ]
    },
    {
     "name": "stdout",
     "output_type": "stream",
     "text": [
      "SMAPE fold 1: 50.95900202736691\n",
      "\n",
      "Fold 3/3\n"
     ]
    },
    {
     "name": "stderr",
     "output_type": "stream",
     "text": [
      "/home/eduardo/Documentos/Water-Cycle-Neural-Network/venv/lib/python3.12/site-packages/optuna/trial/_trial.py:497: UserWarning: The reported value is ignored because this `step` 0 is already reported.\n",
      "  warnings.warn(\n",
      "Monitored metric val_loss did not improve in the last 16 records. Best score: 0.009. Signaling Trainer to stop.\n",
      "GPU available: True (cuda), used: True\n",
      "TPU available: False, using: 0 TPU cores\n",
      "HPU available: False, using: 0 HPUs\n",
      "LOCAL_RANK: 0 - CUDA_VISIBLE_DEVICES: [0]\n"
     ]
    },
    {
     "name": "stdout",
     "output_type": "stream",
     "text": [
      "Model loaded from checkpoint for trial 22, fold 2\n"
     ]
    },
    {
     "name": "stderr",
     "output_type": "stream",
     "text": [
      "[I 2025-06-09 14:27:29,047] Trial 22 finished with value: 50.774799418712945 and parameters: {'input_chunk_length': 48, 'hidden_size': 56, 'dropout': 0.15000000000000002, 'batch_size': 136, 'lr': 0.004037485712715622, 'weight_decay': 0.00042665070953740137, 'num_encoder_layers': 4, 'num_decoder_layers': 2, 'temporal_width_past': 3, 'temporal_width_future': 1, 'use_reversible_instance_norm': True, 'temporal_hidden_size_past': 132, 'temporal_hidden_size_future': 132}. Best is trial 22 with value: 50.774799418712945.\n",
      "GPU available: True (cuda), used: True\n",
      "TPU available: False, using: 0 TPU cores\n",
      "HPU available: False, using: 0 HPUs\n",
      "LOCAL_RANK: 0 - CUDA_VISIBLE_DEVICES: [0]\n"
     ]
    },
    {
     "name": "stdout",
     "output_type": "stream",
     "text": [
      "SMAPE fold 2: 52.7728200147188\n",
      "Média dos SMAPE nos folds: 50.774799418712945\n",
      "Results of trial 22 saved in optuna_iteration_metrics/trial_22.json\n",
      "Current value: 50.774799418712945, Current params: {'input_chunk_length': 48, 'hidden_size': 56, 'dropout': 0.15000000000000002, 'batch_size': 136, 'lr': 0.004037485712715622, 'weight_decay': 0.00042665070953740137, 'num_encoder_layers': 4, 'num_decoder_layers': 2, 'temporal_width_past': 3, 'temporal_width_future': 1, 'use_reversible_instance_norm': True, 'temporal_hidden_size_past': 132, 'temporal_hidden_size_future': 132}\n",
      "Best value: 50.774799418712945, Best params: {'input_chunk_length': 48, 'hidden_size': 56, 'dropout': 0.15000000000000002, 'batch_size': 136, 'lr': 0.004037485712715622, 'weight_decay': 0.00042665070953740137, 'num_encoder_layers': 4, 'num_decoder_layers': 2, 'temporal_width_past': 3, 'temporal_width_future': 1, 'use_reversible_instance_norm': True, 'temporal_hidden_size_past': 132, 'temporal_hidden_size_future': 132}\n",
      "\n",
      "Fold 1/3\n"
     ]
    },
    {
     "name": "stderr",
     "output_type": "stream",
     "text": [
      "Metric val_loss improved. New best score: 0.127\n",
      "Metric val_loss improved by 0.013 >= min_delta = 0.0005. New best score: 0.113\n",
      "Metric val_loss improved by 0.003 >= min_delta = 0.0005. New best score: 0.110\n",
      "Metric val_loss improved by 0.002 >= min_delta = 0.0005. New best score: 0.108\n",
      "Metric val_loss improved by 0.001 >= min_delta = 0.0005. New best score: 0.107\n",
      "Monitored metric val_loss did not improve in the last 15 records. Best score: 0.107. Signaling Trainer to stop.\n",
      "GPU available: True (cuda), used: True\n",
      "TPU available: False, using: 0 TPU cores\n",
      "HPU available: False, using: 0 HPUs\n",
      "LOCAL_RANK: 0 - CUDA_VISIBLE_DEVICES: [0]\n"
     ]
    },
    {
     "name": "stdout",
     "output_type": "stream",
     "text": [
      "Model loaded from checkpoint for trial 23, fold 0\n"
     ]
    },
    {
     "name": "stderr",
     "output_type": "stream",
     "text": [
      "GPU available: True (cuda), used: True\n",
      "TPU available: False, using: 0 TPU cores\n",
      "HPU available: False, using: 0 HPUs\n",
      "LOCAL_RANK: 0 - CUDA_VISIBLE_DEVICES: [0]\n"
     ]
    },
    {
     "name": "stdout",
     "output_type": "stream",
     "text": [
      "SMAPE fold 0: 48.77390023106268\n",
      "\n",
      "Fold 2/3\n"
     ]
    },
    {
     "name": "stderr",
     "output_type": "stream",
     "text": [
      "/home/eduardo/Documentos/Water-Cycle-Neural-Network/venv/lib/python3.12/site-packages/optuna/trial/_trial.py:497: UserWarning: The reported value is ignored because this `step` 0 is already reported.\n",
      "  warnings.warn(\n",
      "Metric val_loss improved by 0.097 >= min_delta = 0.0005. New best score: 0.009\n",
      "/home/eduardo/Documentos/Water-Cycle-Neural-Network/venv/lib/python3.12/site-packages/optuna/trial/_trial.py:497: UserWarning: The reported value is ignored because this `step` 1 is already reported.\n",
      "  warnings.warn(\n",
      "/home/eduardo/Documentos/Water-Cycle-Neural-Network/venv/lib/python3.12/site-packages/optuna/trial/_trial.py:497: UserWarning: The reported value is ignored because this `step` 2 is already reported.\n",
      "  warnings.warn(\n",
      "/home/eduardo/Documentos/Water-Cycle-Neural-Network/venv/lib/python3.12/site-packages/optuna/trial/_trial.py:497: UserWarning: The reported value is ignored because this `step` 3 is already reported.\n",
      "  warnings.warn(\n",
      "Metric val_loss improved by 0.001 >= min_delta = 0.0005. New best score: 0.009\n",
      "/home/eduardo/Documentos/Water-Cycle-Neural-Network/venv/lib/python3.12/site-packages/optuna/trial/_trial.py:497: UserWarning: The reported value is ignored because this `step` 4 is already reported.\n",
      "  warnings.warn(\n",
      "/home/eduardo/Documentos/Water-Cycle-Neural-Network/venv/lib/python3.12/site-packages/optuna/trial/_trial.py:497: UserWarning: The reported value is ignored because this `step` 5 is already reported.\n",
      "  warnings.warn(\n",
      "/home/eduardo/Documentos/Water-Cycle-Neural-Network/venv/lib/python3.12/site-packages/optuna/trial/_trial.py:497: UserWarning: The reported value is ignored because this `step` 6 is already reported.\n",
      "  warnings.warn(\n",
      "/home/eduardo/Documentos/Water-Cycle-Neural-Network/venv/lib/python3.12/site-packages/optuna/trial/_trial.py:497: UserWarning: The reported value is ignored because this `step` 7 is already reported.\n",
      "  warnings.warn(\n",
      "/home/eduardo/Documentos/Water-Cycle-Neural-Network/venv/lib/python3.12/site-packages/optuna/trial/_trial.py:497: UserWarning: The reported value is ignored because this `step` 8 is already reported.\n",
      "  warnings.warn(\n",
      "/home/eduardo/Documentos/Water-Cycle-Neural-Network/venv/lib/python3.12/site-packages/optuna/trial/_trial.py:497: UserWarning: The reported value is ignored because this `step` 9 is already reported.\n",
      "  warnings.warn(\n",
      "/home/eduardo/Documentos/Water-Cycle-Neural-Network/venv/lib/python3.12/site-packages/optuna/trial/_trial.py:497: UserWarning: The reported value is ignored because this `step` 10 is already reported.\n",
      "  warnings.warn(\n",
      "/home/eduardo/Documentos/Water-Cycle-Neural-Network/venv/lib/python3.12/site-packages/optuna/trial/_trial.py:497: UserWarning: The reported value is ignored because this `step` 11 is already reported.\n",
      "  warnings.warn(\n",
      "/home/eduardo/Documentos/Water-Cycle-Neural-Network/venv/lib/python3.12/site-packages/optuna/trial/_trial.py:497: UserWarning: The reported value is ignored because this `step` 12 is already reported.\n",
      "  warnings.warn(\n",
      "/home/eduardo/Documentos/Water-Cycle-Neural-Network/venv/lib/python3.12/site-packages/optuna/trial/_trial.py:497: UserWarning: The reported value is ignored because this `step` 13 is already reported.\n",
      "  warnings.warn(\n",
      "/home/eduardo/Documentos/Water-Cycle-Neural-Network/venv/lib/python3.12/site-packages/optuna/trial/_trial.py:497: UserWarning: The reported value is ignored because this `step` 14 is already reported.\n",
      "  warnings.warn(\n",
      "/home/eduardo/Documentos/Water-Cycle-Neural-Network/venv/lib/python3.12/site-packages/optuna/trial/_trial.py:497: UserWarning: The reported value is ignored because this `step` 15 is already reported.\n",
      "  warnings.warn(\n",
      "/home/eduardo/Documentos/Water-Cycle-Neural-Network/venv/lib/python3.12/site-packages/optuna/trial/_trial.py:497: UserWarning: The reported value is ignored because this `step` 16 is already reported.\n",
      "  warnings.warn(\n",
      "/home/eduardo/Documentos/Water-Cycle-Neural-Network/venv/lib/python3.12/site-packages/optuna/trial/_trial.py:497: UserWarning: The reported value is ignored because this `step` 17 is already reported.\n",
      "  warnings.warn(\n",
      "/home/eduardo/Documentos/Water-Cycle-Neural-Network/venv/lib/python3.12/site-packages/optuna/trial/_trial.py:497: UserWarning: The reported value is ignored because this `step` 18 is already reported.\n",
      "  warnings.warn(\n",
      "Monitored metric val_loss did not improve in the last 15 records. Best score: 0.009. Signaling Trainer to stop.\n",
      "GPU available: True (cuda), used: True\n",
      "TPU available: False, using: 0 TPU cores\n",
      "HPU available: False, using: 0 HPUs\n",
      "LOCAL_RANK: 0 - CUDA_VISIBLE_DEVICES: [0]\n"
     ]
    },
    {
     "name": "stdout",
     "output_type": "stream",
     "text": [
      "Model loaded from checkpoint for trial 23, fold 1\n"
     ]
    },
    {
     "name": "stderr",
     "output_type": "stream",
     "text": [
      "GPU available: True (cuda), used: True\n",
      "TPU available: False, using: 0 TPU cores\n",
      "HPU available: False, using: 0 HPUs\n",
      "LOCAL_RANK: 0 - CUDA_VISIBLE_DEVICES: [0]\n"
     ]
    },
    {
     "name": "stdout",
     "output_type": "stream",
     "text": [
      "SMAPE fold 1: 50.917348393808794\n",
      "\n",
      "Fold 3/3\n"
     ]
    },
    {
     "name": "stderr",
     "output_type": "stream",
     "text": [
      "/home/eduardo/Documentos/Water-Cycle-Neural-Network/venv/lib/python3.12/site-packages/optuna/trial/_trial.py:497: UserWarning: The reported value is ignored because this `step` 0 is already reported.\n",
      "  warnings.warn(\n",
      "Monitored metric val_loss did not improve in the last 16 records. Best score: 0.009. Signaling Trainer to stop.\n",
      "GPU available: True (cuda), used: True\n",
      "TPU available: False, using: 0 TPU cores\n",
      "HPU available: False, using: 0 HPUs\n",
      "LOCAL_RANK: 0 - CUDA_VISIBLE_DEVICES: [0]\n"
     ]
    },
    {
     "name": "stdout",
     "output_type": "stream",
     "text": [
      "Model loaded from checkpoint for trial 23, fold 2\n"
     ]
    },
    {
     "name": "stderr",
     "output_type": "stream",
     "text": [
      "[I 2025-06-09 14:28:22,906] Trial 23 finished with value: 51.03911294250529 and parameters: {'input_chunk_length': 36, 'hidden_size': 72, 'dropout': 0.15000000000000002, 'batch_size': 144, 'lr': 0.004629813985388944, 'weight_decay': 0.0004307870755702792, 'num_encoder_layers': 4, 'num_decoder_layers': 2, 'temporal_width_past': 3, 'temporal_width_future': 1, 'use_reversible_instance_norm': True, 'temporal_hidden_size_past': 132, 'temporal_hidden_size_future': 144}. Best is trial 22 with value: 50.774799418712945.\n",
      "GPU available: True (cuda), used: True\n",
      "TPU available: False, using: 0 TPU cores\n",
      "HPU available: False, using: 0 HPUs\n",
      "LOCAL_RANK: 0 - CUDA_VISIBLE_DEVICES: [0]\n"
     ]
    },
    {
     "name": "stdout",
     "output_type": "stream",
     "text": [
      "SMAPE fold 2: 53.4260902026444\n",
      "Média dos SMAPE nos folds: 51.03911294250529\n",
      "Results of trial 23 saved in optuna_iteration_metrics/trial_23.json\n",
      "Current value: 51.03911294250529, Current params: {'input_chunk_length': 36, 'hidden_size': 72, 'dropout': 0.15000000000000002, 'batch_size': 144, 'lr': 0.004629813985388944, 'weight_decay': 0.0004307870755702792, 'num_encoder_layers': 4, 'num_decoder_layers': 2, 'temporal_width_past': 3, 'temporal_width_future': 1, 'use_reversible_instance_norm': True, 'temporal_hidden_size_past': 132, 'temporal_hidden_size_future': 144}\n",
      "Best value: 50.774799418712945, Best params: {'input_chunk_length': 48, 'hidden_size': 56, 'dropout': 0.15000000000000002, 'batch_size': 136, 'lr': 0.004037485712715622, 'weight_decay': 0.00042665070953740137, 'num_encoder_layers': 4, 'num_decoder_layers': 2, 'temporal_width_past': 3, 'temporal_width_future': 1, 'use_reversible_instance_norm': True, 'temporal_hidden_size_past': 132, 'temporal_hidden_size_future': 132}\n",
      "\n",
      "Fold 1/3\n"
     ]
    },
    {
     "name": "stderr",
     "output_type": "stream",
     "text": [
      "Metric val_loss improved. New best score: 0.150\n",
      "Metric val_loss improved by 0.030 >= min_delta = 0.0005. New best score: 0.120\n",
      "Metric val_loss improved by 0.006 >= min_delta = 0.0005. New best score: 0.115\n",
      "Metric val_loss improved by 0.001 >= min_delta = 0.0005. New best score: 0.113\n",
      "Monitored metric val_loss did not improve in the last 15 records. Best score: 0.113. Signaling Trainer to stop.\n",
      "GPU available: True (cuda), used: True\n",
      "TPU available: False, using: 0 TPU cores\n",
      "HPU available: False, using: 0 HPUs\n",
      "LOCAL_RANK: 0 - CUDA_VISIBLE_DEVICES: [0]\n"
     ]
    },
    {
     "name": "stdout",
     "output_type": "stream",
     "text": [
      "Model loaded from checkpoint for trial 24, fold 0\n"
     ]
    },
    {
     "name": "stderr",
     "output_type": "stream",
     "text": [
      "GPU available: True (cuda), used: True\n",
      "TPU available: False, using: 0 TPU cores\n",
      "HPU available: False, using: 0 HPUs\n",
      "LOCAL_RANK: 0 - CUDA_VISIBLE_DEVICES: [0]\n"
     ]
    },
    {
     "name": "stdout",
     "output_type": "stream",
     "text": [
      "SMAPE fold 0: 49.269408335874175\n",
      "\n",
      "Fold 2/3\n"
     ]
    },
    {
     "name": "stderr",
     "output_type": "stream",
     "text": [
      "/home/eduardo/Documentos/Water-Cycle-Neural-Network/venv/lib/python3.12/site-packages/optuna/trial/_trial.py:497: UserWarning: The reported value is ignored because this `step` 0 is already reported.\n",
      "  warnings.warn(\n",
      "Metric val_loss improved by 0.104 >= min_delta = 0.0005. New best score: 0.010\n",
      "/home/eduardo/Documentos/Water-Cycle-Neural-Network/venv/lib/python3.12/site-packages/optuna/trial/_trial.py:497: UserWarning: The reported value is ignored because this `step` 1 is already reported.\n",
      "  warnings.warn(\n",
      "/home/eduardo/Documentos/Water-Cycle-Neural-Network/venv/lib/python3.12/site-packages/optuna/trial/_trial.py:497: UserWarning: The reported value is ignored because this `step` 2 is already reported.\n",
      "  warnings.warn(\n",
      "Metric val_loss improved by 0.001 >= min_delta = 0.0005. New best score: 0.009\n",
      "/home/eduardo/Documentos/Water-Cycle-Neural-Network/venv/lib/python3.12/site-packages/optuna/trial/_trial.py:497: UserWarning: The reported value is ignored because this `step` 3 is already reported.\n",
      "  warnings.warn(\n",
      "/home/eduardo/Documentos/Water-Cycle-Neural-Network/venv/lib/python3.12/site-packages/optuna/trial/_trial.py:497: UserWarning: The reported value is ignored because this `step` 4 is already reported.\n",
      "  warnings.warn(\n",
      "/home/eduardo/Documentos/Water-Cycle-Neural-Network/venv/lib/python3.12/site-packages/optuna/trial/_trial.py:497: UserWarning: The reported value is ignored because this `step` 5 is already reported.\n",
      "  warnings.warn(\n",
      "/home/eduardo/Documentos/Water-Cycle-Neural-Network/venv/lib/python3.12/site-packages/optuna/trial/_trial.py:497: UserWarning: The reported value is ignored because this `step` 6 is already reported.\n",
      "  warnings.warn(\n",
      "/home/eduardo/Documentos/Water-Cycle-Neural-Network/venv/lib/python3.12/site-packages/optuna/trial/_trial.py:497: UserWarning: The reported value is ignored because this `step` 7 is already reported.\n",
      "  warnings.warn(\n",
      "/home/eduardo/Documentos/Water-Cycle-Neural-Network/venv/lib/python3.12/site-packages/optuna/trial/_trial.py:497: UserWarning: The reported value is ignored because this `step` 8 is already reported.\n",
      "  warnings.warn(\n",
      "/home/eduardo/Documentos/Water-Cycle-Neural-Network/venv/lib/python3.12/site-packages/optuna/trial/_trial.py:497: UserWarning: The reported value is ignored because this `step` 9 is already reported.\n",
      "  warnings.warn(\n",
      "/home/eduardo/Documentos/Water-Cycle-Neural-Network/venv/lib/python3.12/site-packages/optuna/trial/_trial.py:497: UserWarning: The reported value is ignored because this `step` 10 is already reported.\n",
      "  warnings.warn(\n",
      "/home/eduardo/Documentos/Water-Cycle-Neural-Network/venv/lib/python3.12/site-packages/optuna/trial/_trial.py:497: UserWarning: The reported value is ignored because this `step` 11 is already reported.\n",
      "  warnings.warn(\n",
      "/home/eduardo/Documentos/Water-Cycle-Neural-Network/venv/lib/python3.12/site-packages/optuna/trial/_trial.py:497: UserWarning: The reported value is ignored because this `step` 12 is already reported.\n",
      "  warnings.warn(\n",
      "/home/eduardo/Documentos/Water-Cycle-Neural-Network/venv/lib/python3.12/site-packages/optuna/trial/_trial.py:497: UserWarning: The reported value is ignored because this `step` 13 is already reported.\n",
      "  warnings.warn(\n",
      "/home/eduardo/Documentos/Water-Cycle-Neural-Network/venv/lib/python3.12/site-packages/optuna/trial/_trial.py:497: UserWarning: The reported value is ignored because this `step` 14 is already reported.\n",
      "  warnings.warn(\n",
      "/home/eduardo/Documentos/Water-Cycle-Neural-Network/venv/lib/python3.12/site-packages/optuna/trial/_trial.py:497: UserWarning: The reported value is ignored because this `step` 15 is already reported.\n",
      "  warnings.warn(\n",
      "/home/eduardo/Documentos/Water-Cycle-Neural-Network/venv/lib/python3.12/site-packages/optuna/trial/_trial.py:497: UserWarning: The reported value is ignored because this `step` 16 is already reported.\n",
      "  warnings.warn(\n",
      "/home/eduardo/Documentos/Water-Cycle-Neural-Network/venv/lib/python3.12/site-packages/optuna/trial/_trial.py:497: UserWarning: The reported value is ignored because this `step` 17 is already reported.\n",
      "  warnings.warn(\n",
      "Monitored metric val_loss did not improve in the last 15 records. Best score: 0.009. Signaling Trainer to stop.\n",
      "GPU available: True (cuda), used: True\n",
      "TPU available: False, using: 0 TPU cores\n",
      "HPU available: False, using: 0 HPUs\n",
      "LOCAL_RANK: 0 - CUDA_VISIBLE_DEVICES: [0]\n"
     ]
    },
    {
     "name": "stdout",
     "output_type": "stream",
     "text": [
      "Model loaded from checkpoint for trial 24, fold 1\n"
     ]
    },
    {
     "name": "stderr",
     "output_type": "stream",
     "text": [
      "GPU available: True (cuda), used: True\n",
      "TPU available: False, using: 0 TPU cores\n",
      "HPU available: False, using: 0 HPUs\n",
      "LOCAL_RANK: 0 - CUDA_VISIBLE_DEVICES: [0]\n"
     ]
    },
    {
     "name": "stdout",
     "output_type": "stream",
     "text": [
      "SMAPE fold 1: 50.89704872179195\n",
      "\n",
      "Fold 3/3\n"
     ]
    },
    {
     "name": "stderr",
     "output_type": "stream",
     "text": [
      "/home/eduardo/Documentos/Water-Cycle-Neural-Network/venv/lib/python3.12/site-packages/optuna/trial/_trial.py:497: UserWarning: The reported value is ignored because this `step` 0 is already reported.\n",
      "  warnings.warn(\n",
      "Monitored metric val_loss did not improve in the last 16 records. Best score: 0.009. Signaling Trainer to stop.\n",
      "GPU available: True (cuda), used: True\n",
      "TPU available: False, using: 0 TPU cores\n",
      "HPU available: False, using: 0 HPUs\n",
      "LOCAL_RANK: 0 - CUDA_VISIBLE_DEVICES: [0]\n"
     ]
    },
    {
     "name": "stdout",
     "output_type": "stream",
     "text": [
      "Model loaded from checkpoint for trial 24, fold 2\n"
     ]
    },
    {
     "name": "stderr",
     "output_type": "stream",
     "text": [
      "[I 2025-06-09 14:29:14,555] Trial 24 finished with value: 51.468709374182076 and parameters: {'input_chunk_length': 48, 'hidden_size': 64, 'dropout': 0.15000000000000002, 'batch_size': 136, 'lr': 0.0038422417199991793, 'weight_decay': 0.0004236959476115921, 'num_encoder_layers': 4, 'num_decoder_layers': 2, 'temporal_width_past': 4, 'temporal_width_future': 1, 'use_reversible_instance_norm': True, 'temporal_hidden_size_past': 144, 'temporal_hidden_size_future': 144}. Best is trial 22 with value: 50.774799418712945.\n",
      "GPU available: True (cuda), used: True\n",
      "TPU available: False, using: 0 TPU cores\n",
      "HPU available: False, using: 0 HPUs\n",
      "LOCAL_RANK: 0 - CUDA_VISIBLE_DEVICES: [0]\n"
     ]
    },
    {
     "name": "stdout",
     "output_type": "stream",
     "text": [
      "SMAPE fold 2: 54.2396710648801\n",
      "Média dos SMAPE nos folds: 51.468709374182076\n",
      "Results of trial 24 saved in optuna_iteration_metrics/trial_24.json\n",
      "Current value: 51.468709374182076, Current params: {'input_chunk_length': 48, 'hidden_size': 64, 'dropout': 0.15000000000000002, 'batch_size': 136, 'lr': 0.0038422417199991793, 'weight_decay': 0.0004236959476115921, 'num_encoder_layers': 4, 'num_decoder_layers': 2, 'temporal_width_past': 4, 'temporal_width_future': 1, 'use_reversible_instance_norm': True, 'temporal_hidden_size_past': 144, 'temporal_hidden_size_future': 144}\n",
      "Best value: 50.774799418712945, Best params: {'input_chunk_length': 48, 'hidden_size': 56, 'dropout': 0.15000000000000002, 'batch_size': 136, 'lr': 0.004037485712715622, 'weight_decay': 0.00042665070953740137, 'num_encoder_layers': 4, 'num_decoder_layers': 2, 'temporal_width_past': 3, 'temporal_width_future': 1, 'use_reversible_instance_norm': True, 'temporal_hidden_size_past': 132, 'temporal_hidden_size_future': 132}\n",
      "\n",
      "Fold 1/3\n"
     ]
    },
    {
     "name": "stderr",
     "output_type": "stream",
     "text": [
      "Metric val_loss improved. New best score: 0.152\n",
      "Metric val_loss improved by 0.031 >= min_delta = 0.0005. New best score: 0.120\n",
      "Metric val_loss improved by 0.006 >= min_delta = 0.0005. New best score: 0.114\n",
      "Metric val_loss improved by 0.002 >= min_delta = 0.0005. New best score: 0.112\n",
      "Metric val_loss improved by 0.001 >= min_delta = 0.0005. New best score: 0.111\n",
      "Metric val_loss improved by 0.001 >= min_delta = 0.0005. New best score: 0.111\n",
      "Metric val_loss improved by 0.001 >= min_delta = 0.0005. New best score: 0.110\n",
      "Monitored metric val_loss did not improve in the last 15 records. Best score: 0.110. Signaling Trainer to stop.\n",
      "GPU available: True (cuda), used: True\n",
      "TPU available: False, using: 0 TPU cores\n",
      "HPU available: False, using: 0 HPUs\n",
      "LOCAL_RANK: 0 - CUDA_VISIBLE_DEVICES: [0]\n"
     ]
    },
    {
     "name": "stdout",
     "output_type": "stream",
     "text": [
      "Model loaded from checkpoint for trial 25, fold 0\n"
     ]
    },
    {
     "name": "stderr",
     "output_type": "stream",
     "text": [
      "GPU available: True (cuda), used: True\n",
      "TPU available: False, using: 0 TPU cores\n",
      "HPU available: False, using: 0 HPUs\n",
      "LOCAL_RANK: 0 - CUDA_VISIBLE_DEVICES: [0]\n"
     ]
    },
    {
     "name": "stdout",
     "output_type": "stream",
     "text": [
      "SMAPE fold 0: 48.62117984122043\n",
      "\n",
      "Fold 2/3\n"
     ]
    },
    {
     "name": "stderr",
     "output_type": "stream",
     "text": [
      "/home/eduardo/Documentos/Water-Cycle-Neural-Network/venv/lib/python3.12/site-packages/optuna/trial/_trial.py:497: UserWarning: The reported value is ignored because this `step` 0 is already reported.\n",
      "  warnings.warn(\n",
      "Metric val_loss improved by 0.100 >= min_delta = 0.0005. New best score: 0.009\n",
      "/home/eduardo/Documentos/Water-Cycle-Neural-Network/venv/lib/python3.12/site-packages/optuna/trial/_trial.py:497: UserWarning: The reported value is ignored because this `step` 1 is already reported.\n",
      "  warnings.warn(\n",
      "/home/eduardo/Documentos/Water-Cycle-Neural-Network/venv/lib/python3.12/site-packages/optuna/trial/_trial.py:497: UserWarning: The reported value is ignored because this `step` 2 is already reported.\n",
      "  warnings.warn(\n",
      "/home/eduardo/Documentos/Water-Cycle-Neural-Network/venv/lib/python3.12/site-packages/optuna/trial/_trial.py:497: UserWarning: The reported value is ignored because this `step` 3 is already reported.\n",
      "  warnings.warn(\n",
      "/home/eduardo/Documentos/Water-Cycle-Neural-Network/venv/lib/python3.12/site-packages/optuna/trial/_trial.py:497: UserWarning: The reported value is ignored because this `step` 4 is already reported.\n",
      "  warnings.warn(\n",
      "/home/eduardo/Documentos/Water-Cycle-Neural-Network/venv/lib/python3.12/site-packages/optuna/trial/_trial.py:497: UserWarning: The reported value is ignored because this `step` 5 is already reported.\n",
      "  warnings.warn(\n",
      "/home/eduardo/Documentos/Water-Cycle-Neural-Network/venv/lib/python3.12/site-packages/optuna/trial/_trial.py:497: UserWarning: The reported value is ignored because this `step` 6 is already reported.\n",
      "  warnings.warn(\n",
      "/home/eduardo/Documentos/Water-Cycle-Neural-Network/venv/lib/python3.12/site-packages/optuna/trial/_trial.py:497: UserWarning: The reported value is ignored because this `step` 7 is already reported.\n",
      "  warnings.warn(\n",
      "/home/eduardo/Documentos/Water-Cycle-Neural-Network/venv/lib/python3.12/site-packages/optuna/trial/_trial.py:497: UserWarning: The reported value is ignored because this `step` 8 is already reported.\n",
      "  warnings.warn(\n",
      "/home/eduardo/Documentos/Water-Cycle-Neural-Network/venv/lib/python3.12/site-packages/optuna/trial/_trial.py:497: UserWarning: The reported value is ignored because this `step` 9 is already reported.\n",
      "  warnings.warn(\n",
      "/home/eduardo/Documentos/Water-Cycle-Neural-Network/venv/lib/python3.12/site-packages/optuna/trial/_trial.py:497: UserWarning: The reported value is ignored because this `step` 10 is already reported.\n",
      "  warnings.warn(\n",
      "/home/eduardo/Documentos/Water-Cycle-Neural-Network/venv/lib/python3.12/site-packages/optuna/trial/_trial.py:497: UserWarning: The reported value is ignored because this `step` 11 is already reported.\n",
      "  warnings.warn(\n",
      "/home/eduardo/Documentos/Water-Cycle-Neural-Network/venv/lib/python3.12/site-packages/optuna/trial/_trial.py:497: UserWarning: The reported value is ignored because this `step` 12 is already reported.\n",
      "  warnings.warn(\n",
      "/home/eduardo/Documentos/Water-Cycle-Neural-Network/venv/lib/python3.12/site-packages/optuna/trial/_trial.py:497: UserWarning: The reported value is ignored because this `step` 13 is already reported.\n",
      "  warnings.warn(\n",
      "/home/eduardo/Documentos/Water-Cycle-Neural-Network/venv/lib/python3.12/site-packages/optuna/trial/_trial.py:497: UserWarning: The reported value is ignored because this `step` 14 is already reported.\n",
      "  warnings.warn(\n",
      "/home/eduardo/Documentos/Water-Cycle-Neural-Network/venv/lib/python3.12/site-packages/optuna/trial/_trial.py:497: UserWarning: The reported value is ignored because this `step` 15 is already reported.\n",
      "  warnings.warn(\n",
      "Monitored metric val_loss did not improve in the last 15 records. Best score: 0.009. Signaling Trainer to stop.\n",
      "GPU available: True (cuda), used: True\n",
      "TPU available: False, using: 0 TPU cores\n",
      "HPU available: False, using: 0 HPUs\n",
      "LOCAL_RANK: 0 - CUDA_VISIBLE_DEVICES: [0]\n"
     ]
    },
    {
     "name": "stdout",
     "output_type": "stream",
     "text": [
      "Model loaded from checkpoint for trial 25, fold 1\n"
     ]
    },
    {
     "name": "stderr",
     "output_type": "stream",
     "text": [
      "GPU available: True (cuda), used: True\n",
      "TPU available: False, using: 0 TPU cores\n",
      "HPU available: False, using: 0 HPUs\n",
      "LOCAL_RANK: 0 - CUDA_VISIBLE_DEVICES: [0]\n"
     ]
    },
    {
     "name": "stdout",
     "output_type": "stream",
     "text": [
      "SMAPE fold 1: 50.95391476346623\n",
      "\n",
      "Fold 3/3\n"
     ]
    },
    {
     "name": "stderr",
     "output_type": "stream",
     "text": [
      "/home/eduardo/Documentos/Water-Cycle-Neural-Network/venv/lib/python3.12/site-packages/optuna/trial/_trial.py:497: UserWarning: The reported value is ignored because this `step` 0 is already reported.\n",
      "  warnings.warn(\n",
      "Monitored metric val_loss did not improve in the last 16 records. Best score: 0.009. Signaling Trainer to stop.\n",
      "GPU available: True (cuda), used: True\n",
      "TPU available: False, using: 0 TPU cores\n",
      "HPU available: False, using: 0 HPUs\n",
      "LOCAL_RANK: 0 - CUDA_VISIBLE_DEVICES: [0]\n"
     ]
    },
    {
     "name": "stdout",
     "output_type": "stream",
     "text": [
      "Model loaded from checkpoint for trial 25, fold 2\n"
     ]
    },
    {
     "name": "stderr",
     "output_type": "stream",
     "text": [
      "[I 2025-06-09 14:30:12,363] Trial 25 finished with value: 50.82711228676103 and parameters: {'input_chunk_length': 48, 'hidden_size': 72, 'dropout': 0.15000000000000002, 'batch_size': 144, 'lr': 0.0046984406855663996, 'weight_decay': 0.0004584087111761119, 'num_encoder_layers': 4, 'num_decoder_layers': 2, 'temporal_width_past': 3, 'temporal_width_future': 2, 'use_reversible_instance_norm': True, 'temporal_hidden_size_past': 156, 'temporal_hidden_size_future': 144}. Best is trial 22 with value: 50.774799418712945.\n",
      "GPU available: True (cuda), used: True\n",
      "TPU available: False, using: 0 TPU cores\n",
      "HPU available: False, using: 0 HPUs\n",
      "LOCAL_RANK: 0 - CUDA_VISIBLE_DEVICES: [0]\n"
     ]
    },
    {
     "name": "stdout",
     "output_type": "stream",
     "text": [
      "SMAPE fold 2: 52.90624225559641\n",
      "Média dos SMAPE nos folds: 50.82711228676103\n",
      "Results of trial 25 saved in optuna_iteration_metrics/trial_25.json\n",
      "Current value: 50.82711228676103, Current params: {'input_chunk_length': 48, 'hidden_size': 72, 'dropout': 0.15000000000000002, 'batch_size': 144, 'lr': 0.0046984406855663996, 'weight_decay': 0.0004584087111761119, 'num_encoder_layers': 4, 'num_decoder_layers': 2, 'temporal_width_past': 3, 'temporal_width_future': 2, 'use_reversible_instance_norm': True, 'temporal_hidden_size_past': 156, 'temporal_hidden_size_future': 144}\n",
      "Best value: 50.774799418712945, Best params: {'input_chunk_length': 48, 'hidden_size': 56, 'dropout': 0.15000000000000002, 'batch_size': 136, 'lr': 0.004037485712715622, 'weight_decay': 0.00042665070953740137, 'num_encoder_layers': 4, 'num_decoder_layers': 2, 'temporal_width_past': 3, 'temporal_width_future': 1, 'use_reversible_instance_norm': True, 'temporal_hidden_size_past': 132, 'temporal_hidden_size_future': 132}\n",
      "\n",
      "Fold 1/3\n"
     ]
    },
    {
     "name": "stderr",
     "output_type": "stream",
     "text": [
      "[I 2025-06-09 14:30:14,123] Trial 26 pruned. Trial was pruned at epoch 0.\n"
     ]
    },
    {
     "name": "stdout",
     "output_type": "stream",
     "text": [
      "Current value: 3.097025477208131, Current params: {'input_chunk_length': 48, 'hidden_size': 32, 'dropout': 0.15000000000000002, 'batch_size': 152, 'lr': 0.004879898672679617, 'weight_decay': 0.0009094946361900669, 'num_encoder_layers': 4, 'num_decoder_layers': 1, 'temporal_width_past': 3, 'temporal_width_future': 2, 'use_reversible_instance_norm': False, 'temporal_hidden_size_past': 156, 'temporal_hidden_size_future': 168}\n",
      "Best value: 50.774799418712945, Best params: {'input_chunk_length': 48, 'hidden_size': 56, 'dropout': 0.15000000000000002, 'batch_size': 136, 'lr': 0.004037485712715622, 'weight_decay': 0.00042665070953740137, 'num_encoder_layers': 4, 'num_decoder_layers': 2, 'temporal_width_past': 3, 'temporal_width_future': 1, 'use_reversible_instance_norm': True, 'temporal_hidden_size_past': 132, 'temporal_hidden_size_future': 132}\n",
      "\n",
      "Fold 1/3\n"
     ]
    },
    {
     "name": "stderr",
     "output_type": "stream",
     "text": [
      "GPU available: True (cuda), used: True\n",
      "TPU available: False, using: 0 TPU cores\n",
      "HPU available: False, using: 0 HPUs\n",
      "LOCAL_RANK: 0 - CUDA_VISIBLE_DEVICES: [0]\n",
      "Metric val_loss improved. New best score: 0.153\n",
      "Metric val_loss improved by 0.017 >= min_delta = 0.0005. New best score: 0.137\n",
      "Metric val_loss improved by 0.013 >= min_delta = 0.0005. New best score: 0.124\n",
      "Metric val_loss improved by 0.007 >= min_delta = 0.0005. New best score: 0.117\n",
      "Metric val_loss improved by 0.004 >= min_delta = 0.0005. New best score: 0.112\n",
      "Metric val_loss improved by 0.004 >= min_delta = 0.0005. New best score: 0.108\n",
      "Metric val_loss improved by 0.001 >= min_delta = 0.0005. New best score: 0.107\n",
      "Metric val_loss improved by 0.001 >= min_delta = 0.0005. New best score: 0.106\n",
      "Metric val_loss improved by 0.001 >= min_delta = 0.0005. New best score: 0.105\n",
      "Monitored metric val_loss did not improve in the last 15 records. Best score: 0.105. Signaling Trainer to stop.\n",
      "GPU available: True (cuda), used: True\n",
      "TPU available: False, using: 0 TPU cores\n",
      "HPU available: False, using: 0 HPUs\n",
      "LOCAL_RANK: 0 - CUDA_VISIBLE_DEVICES: [0]\n"
     ]
    },
    {
     "name": "stdout",
     "output_type": "stream",
     "text": [
      "Model loaded from checkpoint for trial 27, fold 0\n"
     ]
    },
    {
     "name": "stderr",
     "output_type": "stream",
     "text": [
      "GPU available: True (cuda), used: True\n",
      "TPU available: False, using: 0 TPU cores\n",
      "HPU available: False, using: 0 HPUs\n",
      "LOCAL_RANK: 0 - CUDA_VISIBLE_DEVICES: [0]\n"
     ]
    },
    {
     "name": "stdout",
     "output_type": "stream",
     "text": [
      "SMAPE fold 0: 48.74106226520634\n",
      "\n",
      "Fold 2/3\n"
     ]
    },
    {
     "name": "stderr",
     "output_type": "stream",
     "text": [
      "/home/eduardo/Documentos/Water-Cycle-Neural-Network/venv/lib/python3.12/site-packages/optuna/trial/_trial.py:497: UserWarning: The reported value is ignored because this `step` 0 is already reported.\n",
      "  warnings.warn(\n",
      "Metric val_loss improved by 0.095 >= min_delta = 0.0005. New best score: 0.011\n",
      "/home/eduardo/Documentos/Water-Cycle-Neural-Network/venv/lib/python3.12/site-packages/optuna/trial/_trial.py:497: UserWarning: The reported value is ignored because this `step` 1 is already reported.\n",
      "  warnings.warn(\n",
      "Metric val_loss improved by 0.001 >= min_delta = 0.0005. New best score: 0.010\n",
      "/home/eduardo/Documentos/Water-Cycle-Neural-Network/venv/lib/python3.12/site-packages/optuna/trial/_trial.py:497: UserWarning: The reported value is ignored because this `step` 2 is already reported.\n",
      "  warnings.warn(\n",
      "/home/eduardo/Documentos/Water-Cycle-Neural-Network/venv/lib/python3.12/site-packages/optuna/trial/_trial.py:497: UserWarning: The reported value is ignored because this `step` 3 is already reported.\n",
      "  warnings.warn(\n",
      "Metric val_loss improved by 0.001 >= min_delta = 0.0005. New best score: 0.009\n",
      "/home/eduardo/Documentos/Water-Cycle-Neural-Network/venv/lib/python3.12/site-packages/optuna/trial/_trial.py:497: UserWarning: The reported value is ignored because this `step` 4 is already reported.\n",
      "  warnings.warn(\n",
      "/home/eduardo/Documentos/Water-Cycle-Neural-Network/venv/lib/python3.12/site-packages/optuna/trial/_trial.py:497: UserWarning: The reported value is ignored because this `step` 5 is already reported.\n",
      "  warnings.warn(\n",
      "/home/eduardo/Documentos/Water-Cycle-Neural-Network/venv/lib/python3.12/site-packages/optuna/trial/_trial.py:497: UserWarning: The reported value is ignored because this `step` 6 is already reported.\n",
      "  warnings.warn(\n",
      "/home/eduardo/Documentos/Water-Cycle-Neural-Network/venv/lib/python3.12/site-packages/optuna/trial/_trial.py:497: UserWarning: The reported value is ignored because this `step` 7 is already reported.\n",
      "  warnings.warn(\n",
      "/home/eduardo/Documentos/Water-Cycle-Neural-Network/venv/lib/python3.12/site-packages/optuna/trial/_trial.py:497: UserWarning: The reported value is ignored because this `step` 8 is already reported.\n",
      "  warnings.warn(\n",
      "/home/eduardo/Documentos/Water-Cycle-Neural-Network/venv/lib/python3.12/site-packages/optuna/trial/_trial.py:497: UserWarning: The reported value is ignored because this `step` 9 is already reported.\n",
      "  warnings.warn(\n",
      "/home/eduardo/Documentos/Water-Cycle-Neural-Network/venv/lib/python3.12/site-packages/optuna/trial/_trial.py:497: UserWarning: The reported value is ignored because this `step` 10 is already reported.\n",
      "  warnings.warn(\n",
      "/home/eduardo/Documentos/Water-Cycle-Neural-Network/venv/lib/python3.12/site-packages/optuna/trial/_trial.py:497: UserWarning: The reported value is ignored because this `step` 11 is already reported.\n",
      "  warnings.warn(\n",
      "/home/eduardo/Documentos/Water-Cycle-Neural-Network/venv/lib/python3.12/site-packages/optuna/trial/_trial.py:497: UserWarning: The reported value is ignored because this `step` 12 is already reported.\n",
      "  warnings.warn(\n",
      "/home/eduardo/Documentos/Water-Cycle-Neural-Network/venv/lib/python3.12/site-packages/optuna/trial/_trial.py:497: UserWarning: The reported value is ignored because this `step` 13 is already reported.\n",
      "  warnings.warn(\n",
      "/home/eduardo/Documentos/Water-Cycle-Neural-Network/venv/lib/python3.12/site-packages/optuna/trial/_trial.py:497: UserWarning: The reported value is ignored because this `step` 14 is already reported.\n",
      "  warnings.warn(\n",
      "/home/eduardo/Documentos/Water-Cycle-Neural-Network/venv/lib/python3.12/site-packages/optuna/trial/_trial.py:497: UserWarning: The reported value is ignored because this `step` 15 is already reported.\n",
      "  warnings.warn(\n",
      "/home/eduardo/Documentos/Water-Cycle-Neural-Network/venv/lib/python3.12/site-packages/optuna/trial/_trial.py:497: UserWarning: The reported value is ignored because this `step` 16 is already reported.\n",
      "  warnings.warn(\n",
      "/home/eduardo/Documentos/Water-Cycle-Neural-Network/venv/lib/python3.12/site-packages/optuna/trial/_trial.py:497: UserWarning: The reported value is ignored because this `step` 17 is already reported.\n",
      "  warnings.warn(\n",
      "/home/eduardo/Documentos/Water-Cycle-Neural-Network/venv/lib/python3.12/site-packages/optuna/trial/_trial.py:497: UserWarning: The reported value is ignored because this `step` 18 is already reported.\n",
      "  warnings.warn(\n",
      "Monitored metric val_loss did not improve in the last 15 records. Best score: 0.009. Signaling Trainer to stop.\n",
      "GPU available: True (cuda), used: True\n",
      "TPU available: False, using: 0 TPU cores\n",
      "HPU available: False, using: 0 HPUs\n",
      "LOCAL_RANK: 0 - CUDA_VISIBLE_DEVICES: [0]\n"
     ]
    },
    {
     "name": "stdout",
     "output_type": "stream",
     "text": [
      "Model loaded from checkpoint for trial 27, fold 1\n"
     ]
    },
    {
     "name": "stderr",
     "output_type": "stream",
     "text": [
      "GPU available: True (cuda), used: True\n",
      "TPU available: False, using: 0 TPU cores\n",
      "HPU available: False, using: 0 HPUs\n",
      "LOCAL_RANK: 0 - CUDA_VISIBLE_DEVICES: [0]\n"
     ]
    },
    {
     "name": "stdout",
     "output_type": "stream",
     "text": [
      "SMAPE fold 1: 50.92717197959249\n",
      "\n",
      "Fold 3/3\n"
     ]
    },
    {
     "name": "stderr",
     "output_type": "stream",
     "text": [
      "/home/eduardo/Documentos/Water-Cycle-Neural-Network/venv/lib/python3.12/site-packages/optuna/trial/_trial.py:497: UserWarning: The reported value is ignored because this `step` 0 is already reported.\n",
      "  warnings.warn(\n",
      "Monitored metric val_loss did not improve in the last 16 records. Best score: 0.009. Signaling Trainer to stop.\n",
      "GPU available: True (cuda), used: True\n",
      "TPU available: False, using: 0 TPU cores\n",
      "HPU available: False, using: 0 HPUs\n",
      "LOCAL_RANK: 0 - CUDA_VISIBLE_DEVICES: [0]\n"
     ]
    },
    {
     "name": "stdout",
     "output_type": "stream",
     "text": [
      "Model loaded from checkpoint for trial 27, fold 2\n"
     ]
    },
    {
     "name": "stderr",
     "output_type": "stream",
     "text": [
      "[I 2025-06-09 14:32:13,681] Trial 27 finished with value: 51.286640249478246 and parameters: {'input_chunk_length': 36, 'hidden_size': 80, 'dropout': 0.1, 'batch_size': 144, 'lr': 0.0020496496891460494, 'weight_decay': 0.0004996991970143177, 'num_encoder_layers': 4, 'num_decoder_layers': 2, 'temporal_width_past': 3, 'temporal_width_future': 2, 'use_reversible_instance_norm': True, 'temporal_hidden_size_past': 168, 'temporal_hidden_size_future': 144}. Best is trial 22 with value: 50.774799418712945.\n",
      "GPU available: True (cuda), used: True\n",
      "TPU available: False, using: 0 TPU cores\n",
      "HPU available: False, using: 0 HPUs\n",
      "LOCAL_RANK: 0 - CUDA_VISIBLE_DEVICES: [0]\n"
     ]
    },
    {
     "name": "stdout",
     "output_type": "stream",
     "text": [
      "SMAPE fold 2: 54.19168650363593\n",
      "Média dos SMAPE nos folds: 51.286640249478246\n",
      "Results of trial 27 saved in optuna_iteration_metrics/trial_27.json\n",
      "Current value: 51.286640249478246, Current params: {'input_chunk_length': 36, 'hidden_size': 80, 'dropout': 0.1, 'batch_size': 144, 'lr': 0.0020496496891460494, 'weight_decay': 0.0004996991970143177, 'num_encoder_layers': 4, 'num_decoder_layers': 2, 'temporal_width_past': 3, 'temporal_width_future': 2, 'use_reversible_instance_norm': True, 'temporal_hidden_size_past': 168, 'temporal_hidden_size_future': 144}\n",
      "Best value: 50.774799418712945, Best params: {'input_chunk_length': 48, 'hidden_size': 56, 'dropout': 0.15000000000000002, 'batch_size': 136, 'lr': 0.004037485712715622, 'weight_decay': 0.00042665070953740137, 'num_encoder_layers': 4, 'num_decoder_layers': 2, 'temporal_width_past': 3, 'temporal_width_future': 1, 'use_reversible_instance_norm': True, 'temporal_hidden_size_past': 132, 'temporal_hidden_size_future': 132}\n",
      "\n",
      "Fold 1/3\n"
     ]
    },
    {
     "name": "stderr",
     "output_type": "stream",
     "text": [
      "Metric val_loss improved. New best score: 0.171\n",
      "Metric val_loss improved by 0.008 >= min_delta = 0.0005. New best score: 0.162\n",
      "Metric val_loss improved by 0.007 >= min_delta = 0.0005. New best score: 0.155\n",
      "Metric val_loss improved by 0.007 >= min_delta = 0.0005. New best score: 0.148\n",
      "Metric val_loss improved by 0.007 >= min_delta = 0.0005. New best score: 0.141\n",
      "Metric val_loss improved by 0.006 >= min_delta = 0.0005. New best score: 0.134\n",
      "Metric val_loss improved by 0.005 >= min_delta = 0.0005. New best score: 0.129\n",
      "Metric val_loss improved by 0.004 >= min_delta = 0.0005. New best score: 0.125\n",
      "Metric val_loss improved by 0.004 >= min_delta = 0.0005. New best score: 0.122\n",
      "Metric val_loss improved by 0.003 >= min_delta = 0.0005. New best score: 0.118\n",
      "Metric val_loss improved by 0.002 >= min_delta = 0.0005. New best score: 0.116\n",
      "Metric val_loss improved by 0.002 >= min_delta = 0.0005. New best score: 0.114\n",
      "Metric val_loss improved by 0.002 >= min_delta = 0.0005. New best score: 0.112\n",
      "Metric val_loss improved by 0.001 >= min_delta = 0.0005. New best score: 0.111\n",
      "Metric val_loss improved by 0.001 >= min_delta = 0.0005. New best score: 0.110\n",
      "Metric val_loss improved by 0.001 >= min_delta = 0.0005. New best score: 0.109\n",
      "Metric val_loss improved by 0.001 >= min_delta = 0.0005. New best score: 0.108\n",
      "Metric val_loss improved by 0.001 >= min_delta = 0.0005. New best score: 0.108\n",
      "`Trainer.fit` stopped: `max_epochs=30` reached.\n",
      "GPU available: True (cuda), used: True\n",
      "TPU available: False, using: 0 TPU cores\n",
      "HPU available: False, using: 0 HPUs\n",
      "LOCAL_RANK: 0 - CUDA_VISIBLE_DEVICES: [0]\n"
     ]
    },
    {
     "name": "stdout",
     "output_type": "stream",
     "text": [
      "Model loaded from checkpoint for trial 28, fold 0\n"
     ]
    },
    {
     "name": "stderr",
     "output_type": "stream",
     "text": [
      "GPU available: True (cuda), used: True\n",
      "TPU available: False, using: 0 TPU cores\n",
      "HPU available: False, using: 0 HPUs\n",
      "LOCAL_RANK: 0 - CUDA_VISIBLE_DEVICES: [0]\n"
     ]
    },
    {
     "name": "stdout",
     "output_type": "stream",
     "text": [
      "SMAPE fold 0: 48.7457557505696\n",
      "\n",
      "Fold 2/3\n"
     ]
    },
    {
     "name": "stderr",
     "output_type": "stream",
     "text": [
      "/home/eduardo/Documentos/Water-Cycle-Neural-Network/venv/lib/python3.12/site-packages/optuna/trial/_trial.py:497: UserWarning: The reported value is ignored because this `step` 0 is already reported.\n",
      "  warnings.warn(\n",
      "Metric val_loss improved by 0.096 >= min_delta = 0.0005. New best score: 0.012\n",
      "/home/eduardo/Documentos/Water-Cycle-Neural-Network/venv/lib/python3.12/site-packages/optuna/trial/_trial.py:497: UserWarning: The reported value is ignored because this `step` 1 is already reported.\n",
      "  warnings.warn(\n",
      "Metric val_loss improved by 0.001 >= min_delta = 0.0005. New best score: 0.011\n",
      "/home/eduardo/Documentos/Water-Cycle-Neural-Network/venv/lib/python3.12/site-packages/optuna/trial/_trial.py:497: UserWarning: The reported value is ignored because this `step` 2 is already reported.\n",
      "  warnings.warn(\n",
      "Metric val_loss improved by 0.001 >= min_delta = 0.0005. New best score: 0.010\n",
      "/home/eduardo/Documentos/Water-Cycle-Neural-Network/venv/lib/python3.12/site-packages/optuna/trial/_trial.py:497: UserWarning: The reported value is ignored because this `step` 3 is already reported.\n",
      "  warnings.warn(\n",
      "/home/eduardo/Documentos/Water-Cycle-Neural-Network/venv/lib/python3.12/site-packages/optuna/trial/_trial.py:497: UserWarning: The reported value is ignored because this `step` 4 is already reported.\n",
      "  warnings.warn(\n",
      "Metric val_loss improved by 0.001 >= min_delta = 0.0005. New best score: 0.010\n",
      "/home/eduardo/Documentos/Water-Cycle-Neural-Network/venv/lib/python3.12/site-packages/optuna/trial/_trial.py:497: UserWarning: The reported value is ignored because this `step` 5 is already reported.\n",
      "  warnings.warn(\n",
      "/home/eduardo/Documentos/Water-Cycle-Neural-Network/venv/lib/python3.12/site-packages/optuna/trial/_trial.py:497: UserWarning: The reported value is ignored because this `step` 6 is already reported.\n",
      "  warnings.warn(\n",
      "/home/eduardo/Documentos/Water-Cycle-Neural-Network/venv/lib/python3.12/site-packages/optuna/trial/_trial.py:497: UserWarning: The reported value is ignored because this `step` 7 is already reported.\n",
      "  warnings.warn(\n",
      "/home/eduardo/Documentos/Water-Cycle-Neural-Network/venv/lib/python3.12/site-packages/optuna/trial/_trial.py:497: UserWarning: The reported value is ignored because this `step` 8 is already reported.\n",
      "  warnings.warn(\n",
      "Metric val_loss improved by 0.001 >= min_delta = 0.0005. New best score: 0.009\n",
      "/home/eduardo/Documentos/Water-Cycle-Neural-Network/venv/lib/python3.12/site-packages/optuna/trial/_trial.py:497: UserWarning: The reported value is ignored because this `step` 9 is already reported.\n",
      "  warnings.warn(\n",
      "/home/eduardo/Documentos/Water-Cycle-Neural-Network/venv/lib/python3.12/site-packages/optuna/trial/_trial.py:497: UserWarning: The reported value is ignored because this `step` 10 is already reported.\n",
      "  warnings.warn(\n",
      "/home/eduardo/Documentos/Water-Cycle-Neural-Network/venv/lib/python3.12/site-packages/optuna/trial/_trial.py:497: UserWarning: The reported value is ignored because this `step` 11 is already reported.\n",
      "  warnings.warn(\n",
      "/home/eduardo/Documentos/Water-Cycle-Neural-Network/venv/lib/python3.12/site-packages/optuna/trial/_trial.py:497: UserWarning: The reported value is ignored because this `step` 12 is already reported.\n",
      "  warnings.warn(\n",
      "/home/eduardo/Documentos/Water-Cycle-Neural-Network/venv/lib/python3.12/site-packages/optuna/trial/_trial.py:497: UserWarning: The reported value is ignored because this `step` 13 is already reported.\n",
      "  warnings.warn(\n",
      "/home/eduardo/Documentos/Water-Cycle-Neural-Network/venv/lib/python3.12/site-packages/optuna/trial/_trial.py:497: UserWarning: The reported value is ignored because this `step` 14 is already reported.\n",
      "  warnings.warn(\n",
      "/home/eduardo/Documentos/Water-Cycle-Neural-Network/venv/lib/python3.12/site-packages/optuna/trial/_trial.py:497: UserWarning: The reported value is ignored because this `step` 15 is already reported.\n",
      "  warnings.warn(\n",
      "/home/eduardo/Documentos/Water-Cycle-Neural-Network/venv/lib/python3.12/site-packages/optuna/trial/_trial.py:497: UserWarning: The reported value is ignored because this `step` 16 is already reported.\n",
      "  warnings.warn(\n",
      "/home/eduardo/Documentos/Water-Cycle-Neural-Network/venv/lib/python3.12/site-packages/optuna/trial/_trial.py:497: UserWarning: The reported value is ignored because this `step` 17 is already reported.\n",
      "  warnings.warn(\n",
      "/home/eduardo/Documentos/Water-Cycle-Neural-Network/venv/lib/python3.12/site-packages/optuna/trial/_trial.py:497: UserWarning: The reported value is ignored because this `step` 18 is already reported.\n",
      "  warnings.warn(\n",
      "/home/eduardo/Documentos/Water-Cycle-Neural-Network/venv/lib/python3.12/site-packages/optuna/trial/_trial.py:497: UserWarning: The reported value is ignored because this `step` 19 is already reported.\n",
      "  warnings.warn(\n",
      "/home/eduardo/Documentos/Water-Cycle-Neural-Network/venv/lib/python3.12/site-packages/optuna/trial/_trial.py:497: UserWarning: The reported value is ignored because this `step` 20 is already reported.\n",
      "  warnings.warn(\n",
      "/home/eduardo/Documentos/Water-Cycle-Neural-Network/venv/lib/python3.12/site-packages/optuna/trial/_trial.py:497: UserWarning: The reported value is ignored because this `step` 21 is already reported.\n",
      "  warnings.warn(\n",
      "/home/eduardo/Documentos/Water-Cycle-Neural-Network/venv/lib/python3.12/site-packages/optuna/trial/_trial.py:497: UserWarning: The reported value is ignored because this `step` 22 is already reported.\n",
      "  warnings.warn(\n",
      "/home/eduardo/Documentos/Water-Cycle-Neural-Network/venv/lib/python3.12/site-packages/optuna/trial/_trial.py:497: UserWarning: The reported value is ignored because this `step` 23 is already reported.\n",
      "  warnings.warn(\n",
      "Monitored metric val_loss did not improve in the last 15 records. Best score: 0.009. Signaling Trainer to stop.\n",
      "GPU available: True (cuda), used: True\n",
      "TPU available: False, using: 0 TPU cores\n",
      "HPU available: False, using: 0 HPUs\n",
      "LOCAL_RANK: 0 - CUDA_VISIBLE_DEVICES: [0]\n"
     ]
    },
    {
     "name": "stdout",
     "output_type": "stream",
     "text": [
      "Model loaded from checkpoint for trial 28, fold 1\n"
     ]
    },
    {
     "name": "stderr",
     "output_type": "stream",
     "text": [
      "GPU available: True (cuda), used: True\n",
      "TPU available: False, using: 0 TPU cores\n",
      "HPU available: False, using: 0 HPUs\n",
      "LOCAL_RANK: 0 - CUDA_VISIBLE_DEVICES: [0]\n"
     ]
    },
    {
     "name": "stdout",
     "output_type": "stream",
     "text": [
      "SMAPE fold 1: 50.97381518853274\n",
      "\n",
      "Fold 3/3\n"
     ]
    },
    {
     "name": "stderr",
     "output_type": "stream",
     "text": [
      "/home/eduardo/Documentos/Water-Cycle-Neural-Network/venv/lib/python3.12/site-packages/optuna/trial/_trial.py:497: UserWarning: The reported value is ignored because this `step` 0 is already reported.\n",
      "  warnings.warn(\n",
      "Monitored metric val_loss did not improve in the last 16 records. Best score: 0.009. Signaling Trainer to stop.\n",
      "GPU available: True (cuda), used: True\n",
      "TPU available: False, using: 0 TPU cores\n",
      "HPU available: False, using: 0 HPUs\n",
      "LOCAL_RANK: 0 - CUDA_VISIBLE_DEVICES: [0]\n"
     ]
    },
    {
     "name": "stdout",
     "output_type": "stream",
     "text": [
      "Model loaded from checkpoint for trial 28, fold 2\n"
     ]
    },
    {
     "name": "stderr",
     "output_type": "stream",
     "text": [
      "[I 2025-06-09 14:33:24,827] Trial 28 finished with value: 51.461000053770476 and parameters: {'input_chunk_length': 36, 'hidden_size': 96, 'dropout': 0.15000000000000002, 'batch_size': 168, 'lr': 0.0009297909455263569, 'weight_decay': 0.001025978832591666, 'num_encoder_layers': 4, 'num_decoder_layers': 2, 'temporal_width_past': 3, 'temporal_width_future': 1, 'use_reversible_instance_norm': True, 'temporal_hidden_size_past': 120, 'temporal_hidden_size_future': 156}. Best is trial 22 with value: 50.774799418712945.\n",
      "GPU available: True (cuda), used: True\n",
      "TPU available: False, using: 0 TPU cores\n",
      "HPU available: False, using: 0 HPUs\n",
      "LOCAL_RANK: 0 - CUDA_VISIBLE_DEVICES: [0]\n"
     ]
    },
    {
     "name": "stdout",
     "output_type": "stream",
     "text": [
      "SMAPE fold 2: 54.663429222209075\n",
      "Média dos SMAPE nos folds: 51.461000053770476\n",
      "Results of trial 28 saved in optuna_iteration_metrics/trial_28.json\n",
      "Current value: 51.461000053770476, Current params: {'input_chunk_length': 36, 'hidden_size': 96, 'dropout': 0.15000000000000002, 'batch_size': 168, 'lr': 0.0009297909455263569, 'weight_decay': 0.001025978832591666, 'num_encoder_layers': 4, 'num_decoder_layers': 2, 'temporal_width_past': 3, 'temporal_width_future': 1, 'use_reversible_instance_norm': True, 'temporal_hidden_size_past': 120, 'temporal_hidden_size_future': 156}\n",
      "Best value: 50.774799418712945, Best params: {'input_chunk_length': 48, 'hidden_size': 56, 'dropout': 0.15000000000000002, 'batch_size': 136, 'lr': 0.004037485712715622, 'weight_decay': 0.00042665070953740137, 'num_encoder_layers': 4, 'num_decoder_layers': 2, 'temporal_width_past': 3, 'temporal_width_future': 1, 'use_reversible_instance_norm': True, 'temporal_hidden_size_past': 132, 'temporal_hidden_size_future': 132}\n",
      "\n",
      "Fold 1/3\n"
     ]
    },
    {
     "name": "stderr",
     "output_type": "stream",
     "text": [
      "Metric val_loss improved. New best score: 0.167\n",
      "Metric val_loss improved by 0.032 >= min_delta = 0.0005. New best score: 0.135\n",
      "Metric val_loss improved by 0.005 >= min_delta = 0.0005. New best score: 0.130\n",
      "Metric val_loss improved by 0.001 >= min_delta = 0.0005. New best score: 0.129\n",
      "Metric val_loss improved by 0.004 >= min_delta = 0.0005. New best score: 0.125\n",
      "Metric val_loss improved by 0.002 >= min_delta = 0.0005. New best score: 0.123\n",
      "Metric val_loss improved by 0.002 >= min_delta = 0.0005. New best score: 0.122\n",
      "Metric val_loss improved by 0.001 >= min_delta = 0.0005. New best score: 0.121\n",
      "Metric val_loss improved by 0.001 >= min_delta = 0.0005. New best score: 0.121\n",
      "Metric val_loss improved by 0.002 >= min_delta = 0.0005. New best score: 0.118\n",
      "`Trainer.fit` stopped: `max_epochs=30` reached.\n",
      "GPU available: True (cuda), used: True\n",
      "TPU available: False, using: 0 TPU cores\n",
      "HPU available: False, using: 0 HPUs\n",
      "LOCAL_RANK: 0 - CUDA_VISIBLE_DEVICES: [0]\n"
     ]
    },
    {
     "name": "stdout",
     "output_type": "stream",
     "text": [
      "Model loaded from checkpoint for trial 29, fold 0\n"
     ]
    },
    {
     "name": "stderr",
     "output_type": "stream",
     "text": [
      "GPU available: True (cuda), used: True\n",
      "TPU available: False, using: 0 TPU cores\n",
      "HPU available: False, using: 0 HPUs\n",
      "LOCAL_RANK: 0 - CUDA_VISIBLE_DEVICES: [0]\n"
     ]
    },
    {
     "name": "stdout",
     "output_type": "stream",
     "text": [
      "SMAPE fold 0: 48.900234244989335\n",
      "\n",
      "Fold 2/3\n"
     ]
    },
    {
     "name": "stderr",
     "output_type": "stream",
     "text": [
      "/home/eduardo/Documentos/Water-Cycle-Neural-Network/venv/lib/python3.12/site-packages/optuna/trial/_trial.py:497: UserWarning: The reported value is ignored because this `step` 0 is already reported.\n",
      "  warnings.warn(\n",
      "Metric val_loss improved by 0.109 >= min_delta = 0.0005. New best score: 0.010\n",
      "/home/eduardo/Documentos/Water-Cycle-Neural-Network/venv/lib/python3.12/site-packages/optuna/trial/_trial.py:497: UserWarning: The reported value is ignored because this `step` 1 is already reported.\n",
      "  warnings.warn(\n",
      "Metric val_loss improved by 0.001 >= min_delta = 0.0005. New best score: 0.009\n",
      "/home/eduardo/Documentos/Water-Cycle-Neural-Network/venv/lib/python3.12/site-packages/optuna/trial/_trial.py:497: UserWarning: The reported value is ignored because this `step` 2 is already reported.\n",
      "  warnings.warn(\n",
      "/home/eduardo/Documentos/Water-Cycle-Neural-Network/venv/lib/python3.12/site-packages/optuna/trial/_trial.py:497: UserWarning: The reported value is ignored because this `step` 3 is already reported.\n",
      "  warnings.warn(\n",
      "/home/eduardo/Documentos/Water-Cycle-Neural-Network/venv/lib/python3.12/site-packages/optuna/trial/_trial.py:497: UserWarning: The reported value is ignored because this `step` 4 is already reported.\n",
      "  warnings.warn(\n",
      "/home/eduardo/Documentos/Water-Cycle-Neural-Network/venv/lib/python3.12/site-packages/optuna/trial/_trial.py:497: UserWarning: The reported value is ignored because this `step` 5 is already reported.\n",
      "  warnings.warn(\n",
      "/home/eduardo/Documentos/Water-Cycle-Neural-Network/venv/lib/python3.12/site-packages/optuna/trial/_trial.py:497: UserWarning: The reported value is ignored because this `step` 6 is already reported.\n",
      "  warnings.warn(\n",
      "/home/eduardo/Documentos/Water-Cycle-Neural-Network/venv/lib/python3.12/site-packages/optuna/trial/_trial.py:497: UserWarning: The reported value is ignored because this `step` 7 is already reported.\n",
      "  warnings.warn(\n",
      "/home/eduardo/Documentos/Water-Cycle-Neural-Network/venv/lib/python3.12/site-packages/optuna/trial/_trial.py:497: UserWarning: The reported value is ignored because this `step` 8 is already reported.\n",
      "  warnings.warn(\n",
      "/home/eduardo/Documentos/Water-Cycle-Neural-Network/venv/lib/python3.12/site-packages/optuna/trial/_trial.py:497: UserWarning: The reported value is ignored because this `step` 9 is already reported.\n",
      "  warnings.warn(\n",
      "/home/eduardo/Documentos/Water-Cycle-Neural-Network/venv/lib/python3.12/site-packages/optuna/trial/_trial.py:497: UserWarning: The reported value is ignored because this `step` 10 is already reported.\n",
      "  warnings.warn(\n",
      "/home/eduardo/Documentos/Water-Cycle-Neural-Network/venv/lib/python3.12/site-packages/optuna/trial/_trial.py:497: UserWarning: The reported value is ignored because this `step` 11 is already reported.\n",
      "  warnings.warn(\n",
      "/home/eduardo/Documentos/Water-Cycle-Neural-Network/venv/lib/python3.12/site-packages/optuna/trial/_trial.py:497: UserWarning: The reported value is ignored because this `step` 12 is already reported.\n",
      "  warnings.warn(\n",
      "/home/eduardo/Documentos/Water-Cycle-Neural-Network/venv/lib/python3.12/site-packages/optuna/trial/_trial.py:497: UserWarning: The reported value is ignored because this `step` 13 is already reported.\n",
      "  warnings.warn(\n",
      "/home/eduardo/Documentos/Water-Cycle-Neural-Network/venv/lib/python3.12/site-packages/optuna/trial/_trial.py:497: UserWarning: The reported value is ignored because this `step` 14 is already reported.\n",
      "  warnings.warn(\n",
      "/home/eduardo/Documentos/Water-Cycle-Neural-Network/venv/lib/python3.12/site-packages/optuna/trial/_trial.py:497: UserWarning: The reported value is ignored because this `step` 15 is already reported.\n",
      "  warnings.warn(\n",
      "/home/eduardo/Documentos/Water-Cycle-Neural-Network/venv/lib/python3.12/site-packages/optuna/trial/_trial.py:497: UserWarning: The reported value is ignored because this `step` 16 is already reported.\n",
      "  warnings.warn(\n",
      "Monitored metric val_loss did not improve in the last 15 records. Best score: 0.009. Signaling Trainer to stop.\n",
      "GPU available: True (cuda), used: True\n",
      "TPU available: False, using: 0 TPU cores\n",
      "HPU available: False, using: 0 HPUs\n",
      "LOCAL_RANK: 0 - CUDA_VISIBLE_DEVICES: [0]\n"
     ]
    },
    {
     "name": "stdout",
     "output_type": "stream",
     "text": [
      "Model loaded from checkpoint for trial 29, fold 1\n"
     ]
    },
    {
     "name": "stderr",
     "output_type": "stream",
     "text": [
      "GPU available: True (cuda), used: True\n",
      "TPU available: False, using: 0 TPU cores\n",
      "HPU available: False, using: 0 HPUs\n",
      "LOCAL_RANK: 0 - CUDA_VISIBLE_DEVICES: [0]\n"
     ]
    },
    {
     "name": "stdout",
     "output_type": "stream",
     "text": [
      "SMAPE fold 1: 50.97960844570313\n",
      "\n",
      "Fold 3/3\n"
     ]
    },
    {
     "name": "stderr",
     "output_type": "stream",
     "text": [
      "/home/eduardo/Documentos/Water-Cycle-Neural-Network/venv/lib/python3.12/site-packages/optuna/trial/_trial.py:497: UserWarning: The reported value is ignored because this `step` 0 is already reported.\n",
      "  warnings.warn(\n",
      "Monitored metric val_loss did not improve in the last 16 records. Best score: 0.009. Signaling Trainer to stop.\n",
      "GPU available: True (cuda), used: True\n",
      "TPU available: False, using: 0 TPU cores\n",
      "HPU available: False, using: 0 HPUs\n",
      "LOCAL_RANK: 0 - CUDA_VISIBLE_DEVICES: [0]\n"
     ]
    },
    {
     "name": "stdout",
     "output_type": "stream",
     "text": [
      "Model loaded from checkpoint for trial 29, fold 2\n"
     ]
    },
    {
     "name": "stderr",
     "output_type": "stream",
     "text": [
      "[I 2025-06-09 14:34:28,062] Trial 29 finished with value: 51.17019555624242 and parameters: {'input_chunk_length': 60, 'hidden_size': 64, 'dropout': 0.1, 'batch_size': 128, 'lr': 0.002735024222347737, 'weight_decay': 0.00043053682338250223, 'num_encoder_layers': 4, 'num_decoder_layers': 1, 'temporal_width_past': 2, 'temporal_width_future': 2, 'use_reversible_instance_norm': True, 'temporal_hidden_size_past': 60, 'temporal_hidden_size_future': 132}. Best is trial 22 with value: 50.774799418712945.\n",
      "GPU available: True (cuda), used: True\n",
      "TPU available: False, using: 0 TPU cores\n",
      "HPU available: False, using: 0 HPUs\n",
      "LOCAL_RANK: 0 - CUDA_VISIBLE_DEVICES: [0]\n"
     ]
    },
    {
     "name": "stdout",
     "output_type": "stream",
     "text": [
      "SMAPE fold 2: 53.630743978034786\n",
      "Média dos SMAPE nos folds: 51.17019555624242\n",
      "Results of trial 29 saved in optuna_iteration_metrics/trial_29.json\n",
      "Current value: 51.17019555624242, Current params: {'input_chunk_length': 60, 'hidden_size': 64, 'dropout': 0.1, 'batch_size': 128, 'lr': 0.002735024222347737, 'weight_decay': 0.00043053682338250223, 'num_encoder_layers': 4, 'num_decoder_layers': 1, 'temporal_width_past': 2, 'temporal_width_future': 2, 'use_reversible_instance_norm': True, 'temporal_hidden_size_past': 60, 'temporal_hidden_size_future': 132}\n",
      "Best value: 50.774799418712945, Best params: {'input_chunk_length': 48, 'hidden_size': 56, 'dropout': 0.15000000000000002, 'batch_size': 136, 'lr': 0.004037485712715622, 'weight_decay': 0.00042665070953740137, 'num_encoder_layers': 4, 'num_decoder_layers': 2, 'temporal_width_past': 3, 'temporal_width_future': 1, 'use_reversible_instance_norm': True, 'temporal_hidden_size_past': 132, 'temporal_hidden_size_future': 132}\n",
      "\n",
      "Fold 1/3\n"
     ]
    },
    {
     "name": "stderr",
     "output_type": "stream",
     "text": [
      "[I 2025-06-09 14:34:29,891] Trial 30 pruned. Trial was pruned at epoch 0.\n",
      "GPU available: True (cuda), used: True\n",
      "TPU available: False, using: 0 TPU cores\n",
      "HPU available: False, using: 0 HPUs\n",
      "LOCAL_RANK: 0 - CUDA_VISIBLE_DEVICES: [0]\n"
     ]
    },
    {
     "name": "stdout",
     "output_type": "stream",
     "text": [
      "Current value: 0.22903362249918777, Current params: {'input_chunk_length': 72, 'hidden_size': 48, 'dropout': 0.15000000000000002, 'batch_size': 104, 'lr': 0.0005471901253331265, 'weight_decay': 0.0003180960378613072, 'num_encoder_layers': 4, 'num_decoder_layers': 2, 'temporal_width_past': 3, 'temporal_width_future': 1, 'use_reversible_instance_norm': True, 'temporal_hidden_size_past': 132, 'temporal_hidden_size_future': 156}\n",
      "Best value: 50.774799418712945, Best params: {'input_chunk_length': 48, 'hidden_size': 56, 'dropout': 0.15000000000000002, 'batch_size': 136, 'lr': 0.004037485712715622, 'weight_decay': 0.00042665070953740137, 'num_encoder_layers': 4, 'num_decoder_layers': 2, 'temporal_width_past': 3, 'temporal_width_future': 1, 'use_reversible_instance_norm': True, 'temporal_hidden_size_past': 132, 'temporal_hidden_size_future': 132}\n",
      "\n",
      "Fold 1/3\n"
     ]
    },
    {
     "name": "stderr",
     "output_type": "stream",
     "text": [
      "[I 2025-06-09 14:34:31,731] Trial 31 pruned. Trial was pruned at epoch 0.\n"
     ]
    },
    {
     "name": "stdout",
     "output_type": "stream",
     "text": [
      "Current value: 0.19390954343025282, Current params: {'input_chunk_length': 60, 'hidden_size': 72, 'dropout': 0.1, 'batch_size': 128, 'lr': 0.002842977279208892, 'weight_decay': 0.0016259590779085526, 'num_encoder_layers': 4, 'num_decoder_layers': 1, 'temporal_width_past': 2, 'temporal_width_future': 2, 'use_reversible_instance_norm': True, 'temporal_hidden_size_past': 48, 'temporal_hidden_size_future': 132}\n",
      "Best value: 50.774799418712945, Best params: {'input_chunk_length': 48, 'hidden_size': 56, 'dropout': 0.15000000000000002, 'batch_size': 136, 'lr': 0.004037485712715622, 'weight_decay': 0.00042665070953740137, 'num_encoder_layers': 4, 'num_decoder_layers': 2, 'temporal_width_past': 3, 'temporal_width_future': 1, 'use_reversible_instance_norm': True, 'temporal_hidden_size_past': 132, 'temporal_hidden_size_future': 132}\n",
      "\n",
      "Fold 1/3\n"
     ]
    },
    {
     "name": "stderr",
     "output_type": "stream",
     "text": [
      "GPU available: True (cuda), used: True\n",
      "TPU available: False, using: 0 TPU cores\n",
      "HPU available: False, using: 0 HPUs\n",
      "LOCAL_RANK: 0 - CUDA_VISIBLE_DEVICES: [0]\n",
      "Metric val_loss improved. New best score: 0.185\n",
      "Metric val_loss improved by 0.030 >= min_delta = 0.0005. New best score: 0.155\n",
      "Metric val_loss improved by 0.022 >= min_delta = 0.0005. New best score: 0.132\n",
      "Metric val_loss improved by 0.012 >= min_delta = 0.0005. New best score: 0.120\n",
      "Metric val_loss improved by 0.005 >= min_delta = 0.0005. New best score: 0.116\n",
      "Metric val_loss improved by 0.002 >= min_delta = 0.0005. New best score: 0.114\n",
      "Metric val_loss improved by 0.001 >= min_delta = 0.0005. New best score: 0.112\n",
      "Metric val_loss improved by 0.001 >= min_delta = 0.0005. New best score: 0.112\n",
      "Monitored metric val_loss did not improve in the last 15 records. Best score: 0.112. Signaling Trainer to stop.\n",
      "GPU available: True (cuda), used: True\n",
      "TPU available: False, using: 0 TPU cores\n",
      "HPU available: False, using: 0 HPUs\n",
      "LOCAL_RANK: 0 - CUDA_VISIBLE_DEVICES: [0]\n"
     ]
    },
    {
     "name": "stdout",
     "output_type": "stream",
     "text": [
      "Model loaded from checkpoint for trial 32, fold 0\n"
     ]
    },
    {
     "name": "stderr",
     "output_type": "stream",
     "text": [
      "GPU available: True (cuda), used: True\n",
      "TPU available: False, using: 0 TPU cores\n",
      "HPU available: False, using: 0 HPUs\n",
      "LOCAL_RANK: 0 - CUDA_VISIBLE_DEVICES: [0]\n"
     ]
    },
    {
     "name": "stdout",
     "output_type": "stream",
     "text": [
      "SMAPE fold 0: 48.72077913741308\n",
      "\n",
      "Fold 2/3\n"
     ]
    },
    {
     "name": "stderr",
     "output_type": "stream",
     "text": [
      "/home/eduardo/Documentos/Water-Cycle-Neural-Network/venv/lib/python3.12/site-packages/optuna/trial/_trial.py:497: UserWarning: The reported value is ignored because this `step` 0 is already reported.\n",
      "  warnings.warn(\n",
      "Metric val_loss improved by 0.101 >= min_delta = 0.0005. New best score: 0.011\n",
      "/home/eduardo/Documentos/Water-Cycle-Neural-Network/venv/lib/python3.12/site-packages/optuna/trial/_trial.py:497: UserWarning: The reported value is ignored because this `step` 1 is already reported.\n",
      "  warnings.warn(\n",
      "Metric val_loss improved by 0.001 >= min_delta = 0.0005. New best score: 0.010\n",
      "/home/eduardo/Documentos/Water-Cycle-Neural-Network/venv/lib/python3.12/site-packages/optuna/trial/_trial.py:497: UserWarning: The reported value is ignored because this `step` 2 is already reported.\n",
      "  warnings.warn(\n",
      "/home/eduardo/Documentos/Water-Cycle-Neural-Network/venv/lib/python3.12/site-packages/optuna/trial/_trial.py:497: UserWarning: The reported value is ignored because this `step` 3 is already reported.\n",
      "  warnings.warn(\n",
      "Metric val_loss improved by 0.001 >= min_delta = 0.0005. New best score: 0.009\n",
      "/home/eduardo/Documentos/Water-Cycle-Neural-Network/venv/lib/python3.12/site-packages/optuna/trial/_trial.py:497: UserWarning: The reported value is ignored because this `step` 4 is already reported.\n",
      "  warnings.warn(\n",
      "/home/eduardo/Documentos/Water-Cycle-Neural-Network/venv/lib/python3.12/site-packages/optuna/trial/_trial.py:497: UserWarning: The reported value is ignored because this `step` 5 is already reported.\n",
      "  warnings.warn(\n",
      "/home/eduardo/Documentos/Water-Cycle-Neural-Network/venv/lib/python3.12/site-packages/optuna/trial/_trial.py:497: UserWarning: The reported value is ignored because this `step` 6 is already reported.\n",
      "  warnings.warn(\n",
      "/home/eduardo/Documentos/Water-Cycle-Neural-Network/venv/lib/python3.12/site-packages/optuna/trial/_trial.py:497: UserWarning: The reported value is ignored because this `step` 7 is already reported.\n",
      "  warnings.warn(\n",
      "/home/eduardo/Documentos/Water-Cycle-Neural-Network/venv/lib/python3.12/site-packages/optuna/trial/_trial.py:497: UserWarning: The reported value is ignored because this `step` 8 is already reported.\n",
      "  warnings.warn(\n",
      "/home/eduardo/Documentos/Water-Cycle-Neural-Network/venv/lib/python3.12/site-packages/optuna/trial/_trial.py:497: UserWarning: The reported value is ignored because this `step` 9 is already reported.\n",
      "  warnings.warn(\n",
      "/home/eduardo/Documentos/Water-Cycle-Neural-Network/venv/lib/python3.12/site-packages/optuna/trial/_trial.py:497: UserWarning: The reported value is ignored because this `step` 10 is already reported.\n",
      "  warnings.warn(\n",
      "/home/eduardo/Documentos/Water-Cycle-Neural-Network/venv/lib/python3.12/site-packages/optuna/trial/_trial.py:497: UserWarning: The reported value is ignored because this `step` 11 is already reported.\n",
      "  warnings.warn(\n",
      "/home/eduardo/Documentos/Water-Cycle-Neural-Network/venv/lib/python3.12/site-packages/optuna/trial/_trial.py:497: UserWarning: The reported value is ignored because this `step` 12 is already reported.\n",
      "  warnings.warn(\n",
      "/home/eduardo/Documentos/Water-Cycle-Neural-Network/venv/lib/python3.12/site-packages/optuna/trial/_trial.py:497: UserWarning: The reported value is ignored because this `step` 13 is already reported.\n",
      "  warnings.warn(\n",
      "/home/eduardo/Documentos/Water-Cycle-Neural-Network/venv/lib/python3.12/site-packages/optuna/trial/_trial.py:497: UserWarning: The reported value is ignored because this `step` 14 is already reported.\n",
      "  warnings.warn(\n",
      "/home/eduardo/Documentos/Water-Cycle-Neural-Network/venv/lib/python3.12/site-packages/optuna/trial/_trial.py:497: UserWarning: The reported value is ignored because this `step` 15 is already reported.\n",
      "  warnings.warn(\n",
      "/home/eduardo/Documentos/Water-Cycle-Neural-Network/venv/lib/python3.12/site-packages/optuna/trial/_trial.py:497: UserWarning: The reported value is ignored because this `step` 16 is already reported.\n",
      "  warnings.warn(\n",
      "/home/eduardo/Documentos/Water-Cycle-Neural-Network/venv/lib/python3.12/site-packages/optuna/trial/_trial.py:497: UserWarning: The reported value is ignored because this `step` 17 is already reported.\n",
      "  warnings.warn(\n",
      "/home/eduardo/Documentos/Water-Cycle-Neural-Network/venv/lib/python3.12/site-packages/optuna/trial/_trial.py:497: UserWarning: The reported value is ignored because this `step` 18 is already reported.\n",
      "  warnings.warn(\n",
      "Monitored metric val_loss did not improve in the last 15 records. Best score: 0.009. Signaling Trainer to stop.\n",
      "GPU available: True (cuda), used: True\n",
      "TPU available: False, using: 0 TPU cores\n",
      "HPU available: False, using: 0 HPUs\n",
      "LOCAL_RANK: 0 - CUDA_VISIBLE_DEVICES: [0]\n"
     ]
    },
    {
     "name": "stdout",
     "output_type": "stream",
     "text": [
      "Model loaded from checkpoint for trial 32, fold 1\n"
     ]
    },
    {
     "name": "stderr",
     "output_type": "stream",
     "text": [
      "GPU available: True (cuda), used: True\n",
      "TPU available: False, using: 0 TPU cores\n",
      "HPU available: False, using: 0 HPUs\n",
      "LOCAL_RANK: 0 - CUDA_VISIBLE_DEVICES: [0]\n"
     ]
    },
    {
     "name": "stdout",
     "output_type": "stream",
     "text": [
      "SMAPE fold 1: 51.01346404964352\n",
      "\n",
      "Fold 3/3\n"
     ]
    },
    {
     "name": "stderr",
     "output_type": "stream",
     "text": [
      "/home/eduardo/Documentos/Water-Cycle-Neural-Network/venv/lib/python3.12/site-packages/optuna/trial/_trial.py:497: UserWarning: The reported value is ignored because this `step` 0 is already reported.\n",
      "  warnings.warn(\n",
      "Monitored metric val_loss did not improve in the last 16 records. Best score: 0.009. Signaling Trainer to stop.\n",
      "GPU available: True (cuda), used: True\n",
      "TPU available: False, using: 0 TPU cores\n",
      "HPU available: False, using: 0 HPUs\n",
      "LOCAL_RANK: 0 - CUDA_VISIBLE_DEVICES: [0]\n"
     ]
    },
    {
     "name": "stdout",
     "output_type": "stream",
     "text": [
      "Model loaded from checkpoint for trial 32, fold 2\n"
     ]
    },
    {
     "name": "stderr",
     "output_type": "stream",
     "text": [
      "[I 2025-06-09 14:37:23,034] Trial 32 finished with value: 51.1748436000399 and parameters: {'input_chunk_length': 48, 'hidden_size': 64, 'dropout': 0.1, 'batch_size': 144, 'lr': 0.0015965492627027782, 'weight_decay': 0.000489239481086489, 'num_encoder_layers': 4, 'num_decoder_layers': 1, 'temporal_width_past': 1, 'temporal_width_future': 2, 'use_reversible_instance_norm': True, 'temporal_hidden_size_past': 72, 'temporal_hidden_size_future': 132}. Best is trial 22 with value: 50.774799418712945.\n",
      "GPU available: True (cuda), used: True\n",
      "TPU available: False, using: 0 TPU cores\n",
      "HPU available: False, using: 0 HPUs\n",
      "LOCAL_RANK: 0 - CUDA_VISIBLE_DEVICES: [0]\n"
     ]
    },
    {
     "name": "stdout",
     "output_type": "stream",
     "text": [
      "SMAPE fold 2: 53.790287613063114\n",
      "Média dos SMAPE nos folds: 51.1748436000399\n",
      "Results of trial 32 saved in optuna_iteration_metrics/trial_32.json\n",
      "Current value: 51.1748436000399, Current params: {'input_chunk_length': 48, 'hidden_size': 64, 'dropout': 0.1, 'batch_size': 144, 'lr': 0.0015965492627027782, 'weight_decay': 0.000489239481086489, 'num_encoder_layers': 4, 'num_decoder_layers': 1, 'temporal_width_past': 1, 'temporal_width_future': 2, 'use_reversible_instance_norm': True, 'temporal_hidden_size_past': 72, 'temporal_hidden_size_future': 132}\n",
      "Best value: 50.774799418712945, Best params: {'input_chunk_length': 48, 'hidden_size': 56, 'dropout': 0.15000000000000002, 'batch_size': 136, 'lr': 0.004037485712715622, 'weight_decay': 0.00042665070953740137, 'num_encoder_layers': 4, 'num_decoder_layers': 2, 'temporal_width_past': 3, 'temporal_width_future': 1, 'use_reversible_instance_norm': True, 'temporal_hidden_size_past': 132, 'temporal_hidden_size_future': 132}\n",
      "\n",
      "Fold 1/3\n"
     ]
    },
    {
     "name": "stderr",
     "output_type": "stream",
     "text": [
      "Metric val_loss improved. New best score: 0.148\n",
      "Metric val_loss improved by 0.029 >= min_delta = 0.0005. New best score: 0.118\n",
      "Metric val_loss improved by 0.010 >= min_delta = 0.0005. New best score: 0.109\n",
      "Metric val_loss improved by 0.002 >= min_delta = 0.0005. New best score: 0.107\n",
      "Monitored metric val_loss did not improve in the last 15 records. Best score: 0.107. Signaling Trainer to stop.\n",
      "GPU available: True (cuda), used: True\n",
      "TPU available: False, using: 0 TPU cores\n",
      "HPU available: False, using: 0 HPUs\n",
      "LOCAL_RANK: 0 - CUDA_VISIBLE_DEVICES: [0]\n"
     ]
    },
    {
     "name": "stdout",
     "output_type": "stream",
     "text": [
      "Model loaded from checkpoint for trial 33, fold 0\n"
     ]
    },
    {
     "name": "stderr",
     "output_type": "stream",
     "text": [
      "GPU available: True (cuda), used: True\n",
      "TPU available: False, using: 0 TPU cores\n",
      "HPU available: False, using: 0 HPUs\n",
      "LOCAL_RANK: 0 - CUDA_VISIBLE_DEVICES: [0]\n"
     ]
    },
    {
     "name": "stdout",
     "output_type": "stream",
     "text": [
      "SMAPE fold 0: 48.88390002868518\n",
      "\n",
      "Fold 2/3\n"
     ]
    },
    {
     "name": "stderr",
     "output_type": "stream",
     "text": [
      "/home/eduardo/Documentos/Water-Cycle-Neural-Network/venv/lib/python3.12/site-packages/optuna/trial/_trial.py:497: UserWarning: The reported value is ignored because this `step` 0 is already reported.\n",
      "  warnings.warn(\n",
      "Metric val_loss improved by 0.098 >= min_delta = 0.0005. New best score: 0.009\n",
      "/home/eduardo/Documentos/Water-Cycle-Neural-Network/venv/lib/python3.12/site-packages/optuna/trial/_trial.py:497: UserWarning: The reported value is ignored because this `step` 1 is already reported.\n",
      "  warnings.warn(\n",
      "/home/eduardo/Documentos/Water-Cycle-Neural-Network/venv/lib/python3.12/site-packages/optuna/trial/_trial.py:497: UserWarning: The reported value is ignored because this `step` 2 is already reported.\n",
      "  warnings.warn(\n",
      "/home/eduardo/Documentos/Water-Cycle-Neural-Network/venv/lib/python3.12/site-packages/optuna/trial/_trial.py:497: UserWarning: The reported value is ignored because this `step` 3 is already reported.\n",
      "  warnings.warn(\n",
      "/home/eduardo/Documentos/Water-Cycle-Neural-Network/venv/lib/python3.12/site-packages/optuna/trial/_trial.py:497: UserWarning: The reported value is ignored because this `step` 4 is already reported.\n",
      "  warnings.warn(\n",
      "/home/eduardo/Documentos/Water-Cycle-Neural-Network/venv/lib/python3.12/site-packages/optuna/trial/_trial.py:497: UserWarning: The reported value is ignored because this `step` 5 is already reported.\n",
      "  warnings.warn(\n",
      "/home/eduardo/Documentos/Water-Cycle-Neural-Network/venv/lib/python3.12/site-packages/optuna/trial/_trial.py:497: UserWarning: The reported value is ignored because this `step` 6 is already reported.\n",
      "  warnings.warn(\n",
      "/home/eduardo/Documentos/Water-Cycle-Neural-Network/venv/lib/python3.12/site-packages/optuna/trial/_trial.py:497: UserWarning: The reported value is ignored because this `step` 7 is already reported.\n",
      "  warnings.warn(\n",
      "/home/eduardo/Documentos/Water-Cycle-Neural-Network/venv/lib/python3.12/site-packages/optuna/trial/_trial.py:497: UserWarning: The reported value is ignored because this `step` 8 is already reported.\n",
      "  warnings.warn(\n",
      "/home/eduardo/Documentos/Water-Cycle-Neural-Network/venv/lib/python3.12/site-packages/optuna/trial/_trial.py:497: UserWarning: The reported value is ignored because this `step` 9 is already reported.\n",
      "  warnings.warn(\n",
      "/home/eduardo/Documentos/Water-Cycle-Neural-Network/venv/lib/python3.12/site-packages/optuna/trial/_trial.py:497: UserWarning: The reported value is ignored because this `step` 10 is already reported.\n",
      "  warnings.warn(\n",
      "/home/eduardo/Documentos/Water-Cycle-Neural-Network/venv/lib/python3.12/site-packages/optuna/trial/_trial.py:497: UserWarning: The reported value is ignored because this `step` 11 is already reported.\n",
      "  warnings.warn(\n",
      "/home/eduardo/Documentos/Water-Cycle-Neural-Network/venv/lib/python3.12/site-packages/optuna/trial/_trial.py:497: UserWarning: The reported value is ignored because this `step` 12 is already reported.\n",
      "  warnings.warn(\n",
      "/home/eduardo/Documentos/Water-Cycle-Neural-Network/venv/lib/python3.12/site-packages/optuna/trial/_trial.py:497: UserWarning: The reported value is ignored because this `step` 13 is already reported.\n",
      "  warnings.warn(\n",
      "/home/eduardo/Documentos/Water-Cycle-Neural-Network/venv/lib/python3.12/site-packages/optuna/trial/_trial.py:497: UserWarning: The reported value is ignored because this `step` 14 is already reported.\n",
      "  warnings.warn(\n",
      "/home/eduardo/Documentos/Water-Cycle-Neural-Network/venv/lib/python3.12/site-packages/optuna/trial/_trial.py:497: UserWarning: The reported value is ignored because this `step` 15 is already reported.\n",
      "  warnings.warn(\n",
      "Monitored metric val_loss did not improve in the last 15 records. Best score: 0.009. Signaling Trainer to stop.\n",
      "GPU available: True (cuda), used: True\n",
      "TPU available: False, using: 0 TPU cores\n",
      "HPU available: False, using: 0 HPUs\n",
      "LOCAL_RANK: 0 - CUDA_VISIBLE_DEVICES: [0]\n"
     ]
    },
    {
     "name": "stdout",
     "output_type": "stream",
     "text": [
      "Model loaded from checkpoint for trial 33, fold 1\n"
     ]
    },
    {
     "name": "stderr",
     "output_type": "stream",
     "text": [
      "GPU available: True (cuda), used: True\n",
      "TPU available: False, using: 0 TPU cores\n",
      "HPU available: False, using: 0 HPUs\n",
      "LOCAL_RANK: 0 - CUDA_VISIBLE_DEVICES: [0]\n"
     ]
    },
    {
     "name": "stdout",
     "output_type": "stream",
     "text": [
      "SMAPE fold 1: 50.96521424716205\n",
      "\n",
      "Fold 3/3\n"
     ]
    },
    {
     "name": "stderr",
     "output_type": "stream",
     "text": [
      "/home/eduardo/Documentos/Water-Cycle-Neural-Network/venv/lib/python3.12/site-packages/optuna/trial/_trial.py:497: UserWarning: The reported value is ignored because this `step` 0 is already reported.\n",
      "  warnings.warn(\n",
      "Monitored metric val_loss did not improve in the last 16 records. Best score: 0.009. Signaling Trainer to stop.\n",
      "GPU available: True (cuda), used: True\n",
      "TPU available: False, using: 0 TPU cores\n",
      "HPU available: False, using: 0 HPUs\n",
      "LOCAL_RANK: 0 - CUDA_VISIBLE_DEVICES: [0]\n"
     ]
    },
    {
     "name": "stdout",
     "output_type": "stream",
     "text": [
      "Model loaded from checkpoint for trial 33, fold 2\n"
     ]
    },
    {
     "name": "stderr",
     "output_type": "stream",
     "text": [
      "[I 2025-06-09 14:38:12,936] Trial 33 finished with value: 51.18830224865453 and parameters: {'input_chunk_length': 36, 'hidden_size': 104, 'dropout': 0.15000000000000002, 'batch_size': 128, 'lr': 0.004487196848811977, 'weight_decay': 0.0006843396329131541, 'num_encoder_layers': 4, 'num_decoder_layers': 1, 'temporal_width_past': 2, 'temporal_width_future': 1, 'use_reversible_instance_norm': True, 'temporal_hidden_size_past': 24, 'temporal_hidden_size_future': 144}. Best is trial 22 with value: 50.774799418712945.\n",
      "GPU available: True (cuda), used: True\n",
      "TPU available: False, using: 0 TPU cores\n",
      "HPU available: False, using: 0 HPUs\n",
      "LOCAL_RANK: 0 - CUDA_VISIBLE_DEVICES: [0]\n"
     ]
    },
    {
     "name": "stdout",
     "output_type": "stream",
     "text": [
      "SMAPE fold 2: 53.71579247011635\n",
      "Média dos SMAPE nos folds: 51.18830224865453\n",
      "Results of trial 33 saved in optuna_iteration_metrics/trial_33.json\n",
      "Current value: 51.18830224865453, Current params: {'input_chunk_length': 36, 'hidden_size': 104, 'dropout': 0.15000000000000002, 'batch_size': 128, 'lr': 0.004487196848811977, 'weight_decay': 0.0006843396329131541, 'num_encoder_layers': 4, 'num_decoder_layers': 1, 'temporal_width_past': 2, 'temporal_width_future': 1, 'use_reversible_instance_norm': True, 'temporal_hidden_size_past': 24, 'temporal_hidden_size_future': 144}\n",
      "Best value: 50.774799418712945, Best params: {'input_chunk_length': 48, 'hidden_size': 56, 'dropout': 0.15000000000000002, 'batch_size': 136, 'lr': 0.004037485712715622, 'weight_decay': 0.00042665070953740137, 'num_encoder_layers': 4, 'num_decoder_layers': 2, 'temporal_width_past': 3, 'temporal_width_future': 1, 'use_reversible_instance_norm': True, 'temporal_hidden_size_past': 132, 'temporal_hidden_size_future': 132}\n",
      "\n",
      "Fold 1/3\n"
     ]
    },
    {
     "name": "stderr",
     "output_type": "stream",
     "text": [
      "Metric val_loss improved. New best score: 0.161\n",
      "Metric val_loss improved by 0.027 >= min_delta = 0.0005. New best score: 0.135\n",
      "Metric val_loss improved by 0.007 >= min_delta = 0.0005. New best score: 0.128\n",
      "Metric val_loss improved by 0.003 >= min_delta = 0.0005. New best score: 0.125\n",
      "Monitored metric val_loss did not improve in the last 15 records. Best score: 0.125. Signaling Trainer to stop.\n",
      "GPU available: True (cuda), used: True\n",
      "TPU available: False, using: 0 TPU cores\n",
      "HPU available: False, using: 0 HPUs\n",
      "LOCAL_RANK: 0 - CUDA_VISIBLE_DEVICES: [0]\n"
     ]
    },
    {
     "name": "stdout",
     "output_type": "stream",
     "text": [
      "Model loaded from checkpoint for trial 34, fold 0\n"
     ]
    },
    {
     "name": "stderr",
     "output_type": "stream",
     "text": [
      "GPU available: True (cuda), used: True\n",
      "TPU available: False, using: 0 TPU cores\n",
      "HPU available: False, using: 0 HPUs\n",
      "LOCAL_RANK: 0 - CUDA_VISIBLE_DEVICES: [0]\n"
     ]
    },
    {
     "name": "stdout",
     "output_type": "stream",
     "text": [
      "SMAPE fold 0: 49.07483613179612\n",
      "\n",
      "Fold 2/3\n"
     ]
    },
    {
     "name": "stderr",
     "output_type": "stream",
     "text": [
      "/home/eduardo/Documentos/Water-Cycle-Neural-Network/venv/lib/python3.12/site-packages/optuna/trial/_trial.py:497: UserWarning: The reported value is ignored because this `step` 0 is already reported.\n",
      "  warnings.warn(\n",
      "Metric val_loss improved by 0.115 >= min_delta = 0.0005. New best score: 0.010\n",
      "/home/eduardo/Documentos/Water-Cycle-Neural-Network/venv/lib/python3.12/site-packages/optuna/trial/_trial.py:497: UserWarning: The reported value is ignored because this `step` 1 is already reported.\n",
      "  warnings.warn(\n",
      "Metric val_loss improved by 0.001 >= min_delta = 0.0005. New best score: 0.009\n",
      "/home/eduardo/Documentos/Water-Cycle-Neural-Network/venv/lib/python3.12/site-packages/optuna/trial/_trial.py:497: UserWarning: The reported value is ignored because this `step` 2 is already reported.\n",
      "  warnings.warn(\n",
      "/home/eduardo/Documentos/Water-Cycle-Neural-Network/venv/lib/python3.12/site-packages/optuna/trial/_trial.py:497: UserWarning: The reported value is ignored because this `step` 3 is already reported.\n",
      "  warnings.warn(\n",
      "/home/eduardo/Documentos/Water-Cycle-Neural-Network/venv/lib/python3.12/site-packages/optuna/trial/_trial.py:497: UserWarning: The reported value is ignored because this `step` 4 is already reported.\n",
      "  warnings.warn(\n",
      "/home/eduardo/Documentos/Water-Cycle-Neural-Network/venv/lib/python3.12/site-packages/optuna/trial/_trial.py:497: UserWarning: The reported value is ignored because this `step` 5 is already reported.\n",
      "  warnings.warn(\n",
      "/home/eduardo/Documentos/Water-Cycle-Neural-Network/venv/lib/python3.12/site-packages/optuna/trial/_trial.py:497: UserWarning: The reported value is ignored because this `step` 6 is already reported.\n",
      "  warnings.warn(\n",
      "/home/eduardo/Documentos/Water-Cycle-Neural-Network/venv/lib/python3.12/site-packages/optuna/trial/_trial.py:497: UserWarning: The reported value is ignored because this `step` 7 is already reported.\n",
      "  warnings.warn(\n",
      "/home/eduardo/Documentos/Water-Cycle-Neural-Network/venv/lib/python3.12/site-packages/optuna/trial/_trial.py:497: UserWarning: The reported value is ignored because this `step` 8 is already reported.\n",
      "  warnings.warn(\n",
      "/home/eduardo/Documentos/Water-Cycle-Neural-Network/venv/lib/python3.12/site-packages/optuna/trial/_trial.py:497: UserWarning: The reported value is ignored because this `step` 9 is already reported.\n",
      "  warnings.warn(\n",
      "/home/eduardo/Documentos/Water-Cycle-Neural-Network/venv/lib/python3.12/site-packages/optuna/trial/_trial.py:497: UserWarning: The reported value is ignored because this `step` 10 is already reported.\n",
      "  warnings.warn(\n",
      "/home/eduardo/Documentos/Water-Cycle-Neural-Network/venv/lib/python3.12/site-packages/optuna/trial/_trial.py:497: UserWarning: The reported value is ignored because this `step` 11 is already reported.\n",
      "  warnings.warn(\n",
      "/home/eduardo/Documentos/Water-Cycle-Neural-Network/venv/lib/python3.12/site-packages/optuna/trial/_trial.py:497: UserWarning: The reported value is ignored because this `step` 12 is already reported.\n",
      "  warnings.warn(\n",
      "/home/eduardo/Documentos/Water-Cycle-Neural-Network/venv/lib/python3.12/site-packages/optuna/trial/_trial.py:497: UserWarning: The reported value is ignored because this `step` 13 is already reported.\n",
      "  warnings.warn(\n",
      "/home/eduardo/Documentos/Water-Cycle-Neural-Network/venv/lib/python3.12/site-packages/optuna/trial/_trial.py:497: UserWarning: The reported value is ignored because this `step` 14 is already reported.\n",
      "  warnings.warn(\n",
      "/home/eduardo/Documentos/Water-Cycle-Neural-Network/venv/lib/python3.12/site-packages/optuna/trial/_trial.py:497: UserWarning: The reported value is ignored because this `step` 15 is already reported.\n",
      "  warnings.warn(\n",
      "/home/eduardo/Documentos/Water-Cycle-Neural-Network/venv/lib/python3.12/site-packages/optuna/trial/_trial.py:497: UserWarning: The reported value is ignored because this `step` 16 is already reported.\n",
      "  warnings.warn(\n",
      "Monitored metric val_loss did not improve in the last 15 records. Best score: 0.009. Signaling Trainer to stop.\n",
      "GPU available: True (cuda), used: True\n",
      "TPU available: False, using: 0 TPU cores\n",
      "HPU available: False, using: 0 HPUs\n",
      "LOCAL_RANK: 0 - CUDA_VISIBLE_DEVICES: [0]\n"
     ]
    },
    {
     "name": "stdout",
     "output_type": "stream",
     "text": [
      "Model loaded from checkpoint for trial 34, fold 1\n"
     ]
    },
    {
     "name": "stderr",
     "output_type": "stream",
     "text": [
      "GPU available: True (cuda), used: True\n",
      "TPU available: False, using: 0 TPU cores\n",
      "HPU available: False, using: 0 HPUs\n",
      "LOCAL_RANK: 0 - CUDA_VISIBLE_DEVICES: [0]\n"
     ]
    },
    {
     "name": "stdout",
     "output_type": "stream",
     "text": [
      "SMAPE fold 1: 51.04507631102423\n",
      "\n",
      "Fold 3/3\n"
     ]
    },
    {
     "name": "stderr",
     "output_type": "stream",
     "text": [
      "/home/eduardo/Documentos/Water-Cycle-Neural-Network/venv/lib/python3.12/site-packages/optuna/trial/_trial.py:497: UserWarning: The reported value is ignored because this `step` 0 is already reported.\n",
      "  warnings.warn(\n",
      "Monitored metric val_loss did not improve in the last 16 records. Best score: 0.009. Signaling Trainer to stop.\n",
      "GPU available: True (cuda), used: True\n",
      "TPU available: False, using: 0 TPU cores\n",
      "HPU available: False, using: 0 HPUs\n",
      "LOCAL_RANK: 0 - CUDA_VISIBLE_DEVICES: [0]\n"
     ]
    },
    {
     "name": "stdout",
     "output_type": "stream",
     "text": [
      "Model loaded from checkpoint for trial 34, fold 2\n"
     ]
    },
    {
     "name": "stderr",
     "output_type": "stream",
     "text": [
      "[I 2025-06-09 14:39:01,217] Trial 34 finished with value: 51.38026593261325 and parameters: {'input_chunk_length': 60, 'hidden_size': 48, 'dropout': 0.2, 'batch_size': 192, 'lr': 0.0029164287671377305, 'weight_decay': 0.0003133238858408443, 'num_encoder_layers': 3, 'num_decoder_layers': 1, 'temporal_width_past': 2, 'temporal_width_future': 2, 'use_reversible_instance_norm': True, 'temporal_hidden_size_past': 84, 'temporal_hidden_size_future': 108}. Best is trial 22 with value: 50.774799418712945.\n",
      "GPU available: True (cuda), used: True\n",
      "TPU available: False, using: 0 TPU cores\n",
      "HPU available: False, using: 0 HPUs\n",
      "LOCAL_RANK: 0 - CUDA_VISIBLE_DEVICES: [0]\n"
     ]
    },
    {
     "name": "stdout",
     "output_type": "stream",
     "text": [
      "SMAPE fold 2: 54.02088535501939\n",
      "Média dos SMAPE nos folds: 51.38026593261325\n",
      "Results of trial 34 saved in optuna_iteration_metrics/trial_34.json\n",
      "Current value: 51.38026593261325, Current params: {'input_chunk_length': 60, 'hidden_size': 48, 'dropout': 0.2, 'batch_size': 192, 'lr': 0.0029164287671377305, 'weight_decay': 0.0003133238858408443, 'num_encoder_layers': 3, 'num_decoder_layers': 1, 'temporal_width_past': 2, 'temporal_width_future': 2, 'use_reversible_instance_norm': True, 'temporal_hidden_size_past': 84, 'temporal_hidden_size_future': 108}\n",
      "Best value: 50.774799418712945, Best params: {'input_chunk_length': 48, 'hidden_size': 56, 'dropout': 0.15000000000000002, 'batch_size': 136, 'lr': 0.004037485712715622, 'weight_decay': 0.00042665070953740137, 'num_encoder_layers': 4, 'num_decoder_layers': 2, 'temporal_width_past': 3, 'temporal_width_future': 1, 'use_reversible_instance_norm': True, 'temporal_hidden_size_past': 132, 'temporal_hidden_size_future': 132}\n",
      "\n",
      "Fold 1/3\n"
     ]
    },
    {
     "name": "stderr",
     "output_type": "stream",
     "text": [
      "[I 2025-06-09 14:39:03,292] Trial 35 pruned. Trial was pruned at epoch 0.\n",
      "GPU available: True (cuda), used: True\n",
      "TPU available: False, using: 0 TPU cores\n",
      "HPU available: False, using: 0 HPUs\n",
      "LOCAL_RANK: 0 - CUDA_VISIBLE_DEVICES: [0]\n"
     ]
    },
    {
     "name": "stdout",
     "output_type": "stream",
     "text": [
      "Current value: 7.0556494470628985, Current params: {'input_chunk_length': 36, 'hidden_size': 32, 'dropout': 0.1, 'batch_size': 96, 'lr': 0.0007969921141082201, 'weight_decay': 0.00013553915105865073, 'num_encoder_layers': 4, 'num_decoder_layers': 2, 'temporal_width_past': 3, 'temporal_width_future': 1, 'use_reversible_instance_norm': False, 'temporal_hidden_size_past': 60, 'temporal_hidden_size_future': 132}\n",
      "Best value: 50.774799418712945, Best params: {'input_chunk_length': 48, 'hidden_size': 56, 'dropout': 0.15000000000000002, 'batch_size': 136, 'lr': 0.004037485712715622, 'weight_decay': 0.00042665070953740137, 'num_encoder_layers': 4, 'num_decoder_layers': 2, 'temporal_width_past': 3, 'temporal_width_future': 1, 'use_reversible_instance_norm': True, 'temporal_hidden_size_past': 132, 'temporal_hidden_size_future': 132}\n",
      "\n",
      "Fold 1/3\n"
     ]
    },
    {
     "name": "stderr",
     "output_type": "stream",
     "text": [
      "Metric val_loss improved. New best score: 0.165\n",
      "Metric val_loss improved by 0.021 >= min_delta = 0.0005. New best score: 0.145\n",
      "Metric val_loss improved by 0.015 >= min_delta = 0.0005. New best score: 0.130\n",
      "Metric val_loss improved by 0.008 >= min_delta = 0.0005. New best score: 0.122\n",
      "Metric val_loss improved by 0.004 >= min_delta = 0.0005. New best score: 0.118\n",
      "Metric val_loss improved by 0.002 >= min_delta = 0.0005. New best score: 0.117\n",
      "Metric val_loss improved by 0.001 >= min_delta = 0.0005. New best score: 0.116\n",
      "Metric val_loss improved by 0.001 >= min_delta = 0.0005. New best score: 0.115\n",
      "Metric val_loss improved by 0.001 >= min_delta = 0.0005. New best score: 0.114\n",
      "Metric val_loss improved by 0.001 >= min_delta = 0.0005. New best score: 0.114\n",
      "Metric val_loss improved by 0.001 >= min_delta = 0.0005. New best score: 0.113\n",
      "Metric val_loss improved by 0.001 >= min_delta = 0.0005. New best score: 0.113\n",
      "Metric val_loss improved by 0.001 >= min_delta = 0.0005. New best score: 0.112\n",
      "`Trainer.fit` stopped: `max_epochs=30` reached.\n",
      "GPU available: True (cuda), used: True\n",
      "TPU available: False, using: 0 TPU cores\n",
      "HPU available: False, using: 0 HPUs\n",
      "LOCAL_RANK: 0 - CUDA_VISIBLE_DEVICES: [0]\n"
     ]
    },
    {
     "name": "stdout",
     "output_type": "stream",
     "text": [
      "Model loaded from checkpoint for trial 36, fold 0\n"
     ]
    },
    {
     "name": "stderr",
     "output_type": "stream",
     "text": [
      "GPU available: True (cuda), used: True\n",
      "TPU available: False, using: 0 TPU cores\n",
      "HPU available: False, using: 0 HPUs\n",
      "LOCAL_RANK: 0 - CUDA_VISIBLE_DEVICES: [0]\n"
     ]
    },
    {
     "name": "stdout",
     "output_type": "stream",
     "text": [
      "SMAPE fold 0: 48.77366484001851\n",
      "\n",
      "Fold 2/3\n"
     ]
    },
    {
     "name": "stderr",
     "output_type": "stream",
     "text": [
      "/home/eduardo/Documentos/Water-Cycle-Neural-Network/venv/lib/python3.12/site-packages/optuna/trial/_trial.py:497: UserWarning: The reported value is ignored because this `step` 0 is already reported.\n",
      "  warnings.warn(\n",
      "Metric val_loss improved by 0.101 >= min_delta = 0.0005. New best score: 0.011\n",
      "/home/eduardo/Documentos/Water-Cycle-Neural-Network/venv/lib/python3.12/site-packages/optuna/trial/_trial.py:497: UserWarning: The reported value is ignored because this `step` 1 is already reported.\n",
      "  warnings.warn(\n",
      "Metric val_loss improved by 0.001 >= min_delta = 0.0005. New best score: 0.010\n",
      "/home/eduardo/Documentos/Water-Cycle-Neural-Network/venv/lib/python3.12/site-packages/optuna/trial/_trial.py:497: UserWarning: The reported value is ignored because this `step` 2 is already reported.\n",
      "  warnings.warn(\n",
      "/home/eduardo/Documentos/Water-Cycle-Neural-Network/venv/lib/python3.12/site-packages/optuna/trial/_trial.py:497: UserWarning: The reported value is ignored because this `step` 3 is already reported.\n",
      "  warnings.warn(\n",
      "Metric val_loss improved by 0.001 >= min_delta = 0.0005. New best score: 0.009\n",
      "/home/eduardo/Documentos/Water-Cycle-Neural-Network/venv/lib/python3.12/site-packages/optuna/trial/_trial.py:497: UserWarning: The reported value is ignored because this `step` 4 is already reported.\n",
      "  warnings.warn(\n",
      "/home/eduardo/Documentos/Water-Cycle-Neural-Network/venv/lib/python3.12/site-packages/optuna/trial/_trial.py:497: UserWarning: The reported value is ignored because this `step` 5 is already reported.\n",
      "  warnings.warn(\n",
      "/home/eduardo/Documentos/Water-Cycle-Neural-Network/venv/lib/python3.12/site-packages/optuna/trial/_trial.py:497: UserWarning: The reported value is ignored because this `step` 6 is already reported.\n",
      "  warnings.warn(\n",
      "/home/eduardo/Documentos/Water-Cycle-Neural-Network/venv/lib/python3.12/site-packages/optuna/trial/_trial.py:497: UserWarning: The reported value is ignored because this `step` 7 is already reported.\n",
      "  warnings.warn(\n",
      "/home/eduardo/Documentos/Water-Cycle-Neural-Network/venv/lib/python3.12/site-packages/optuna/trial/_trial.py:497: UserWarning: The reported value is ignored because this `step` 8 is already reported.\n",
      "  warnings.warn(\n",
      "/home/eduardo/Documentos/Water-Cycle-Neural-Network/venv/lib/python3.12/site-packages/optuna/trial/_trial.py:497: UserWarning: The reported value is ignored because this `step` 9 is already reported.\n",
      "  warnings.warn(\n",
      "/home/eduardo/Documentos/Water-Cycle-Neural-Network/venv/lib/python3.12/site-packages/optuna/trial/_trial.py:497: UserWarning: The reported value is ignored because this `step` 10 is already reported.\n",
      "  warnings.warn(\n",
      "/home/eduardo/Documentos/Water-Cycle-Neural-Network/venv/lib/python3.12/site-packages/optuna/trial/_trial.py:497: UserWarning: The reported value is ignored because this `step` 11 is already reported.\n",
      "  warnings.warn(\n",
      "/home/eduardo/Documentos/Water-Cycle-Neural-Network/venv/lib/python3.12/site-packages/optuna/trial/_trial.py:497: UserWarning: The reported value is ignored because this `step` 12 is already reported.\n",
      "  warnings.warn(\n",
      "/home/eduardo/Documentos/Water-Cycle-Neural-Network/venv/lib/python3.12/site-packages/optuna/trial/_trial.py:497: UserWarning: The reported value is ignored because this `step` 13 is already reported.\n",
      "  warnings.warn(\n",
      "/home/eduardo/Documentos/Water-Cycle-Neural-Network/venv/lib/python3.12/site-packages/optuna/trial/_trial.py:497: UserWarning: The reported value is ignored because this `step` 14 is already reported.\n",
      "  warnings.warn(\n",
      "/home/eduardo/Documentos/Water-Cycle-Neural-Network/venv/lib/python3.12/site-packages/optuna/trial/_trial.py:497: UserWarning: The reported value is ignored because this `step` 15 is already reported.\n",
      "  warnings.warn(\n",
      "/home/eduardo/Documentos/Water-Cycle-Neural-Network/venv/lib/python3.12/site-packages/optuna/trial/_trial.py:497: UserWarning: The reported value is ignored because this `step` 16 is already reported.\n",
      "  warnings.warn(\n",
      "/home/eduardo/Documentos/Water-Cycle-Neural-Network/venv/lib/python3.12/site-packages/optuna/trial/_trial.py:497: UserWarning: The reported value is ignored because this `step` 17 is already reported.\n",
      "  warnings.warn(\n",
      "/home/eduardo/Documentos/Water-Cycle-Neural-Network/venv/lib/python3.12/site-packages/optuna/trial/_trial.py:497: UserWarning: The reported value is ignored because this `step` 18 is already reported.\n",
      "  warnings.warn(\n",
      "Monitored metric val_loss did not improve in the last 15 records. Best score: 0.009. Signaling Trainer to stop.\n",
      "GPU available: True (cuda), used: True\n",
      "TPU available: False, using: 0 TPU cores\n",
      "HPU available: False, using: 0 HPUs\n",
      "LOCAL_RANK: 0 - CUDA_VISIBLE_DEVICES: [0]\n"
     ]
    },
    {
     "name": "stdout",
     "output_type": "stream",
     "text": [
      "Model loaded from checkpoint for trial 36, fold 1\n"
     ]
    },
    {
     "name": "stderr",
     "output_type": "stream",
     "text": [
      "GPU available: True (cuda), used: True\n",
      "TPU available: False, using: 0 TPU cores\n",
      "HPU available: False, using: 0 HPUs\n",
      "LOCAL_RANK: 0 - CUDA_VISIBLE_DEVICES: [0]\n"
     ]
    },
    {
     "name": "stdout",
     "output_type": "stream",
     "text": [
      "SMAPE fold 1: 51.06435655661836\n",
      "\n",
      "Fold 3/3\n"
     ]
    },
    {
     "name": "stderr",
     "output_type": "stream",
     "text": [
      "/home/eduardo/Documentos/Water-Cycle-Neural-Network/venv/lib/python3.12/site-packages/optuna/trial/_trial.py:497: UserWarning: The reported value is ignored because this `step` 0 is already reported.\n",
      "  warnings.warn(\n",
      "Monitored metric val_loss did not improve in the last 16 records. Best score: 0.009. Signaling Trainer to stop.\n",
      "GPU available: True (cuda), used: True\n",
      "TPU available: False, using: 0 TPU cores\n",
      "HPU available: False, using: 0 HPUs\n",
      "LOCAL_RANK: 0 - CUDA_VISIBLE_DEVICES: [0]\n"
     ]
    },
    {
     "name": "stdout",
     "output_type": "stream",
     "text": [
      "Model loaded from checkpoint for trial 36, fold 2\n"
     ]
    },
    {
     "name": "stderr",
     "output_type": "stream",
     "text": [
      "[I 2025-06-09 14:41:03,721] Trial 36 finished with value: 51.8331669379437 and parameters: {'input_chunk_length': 48, 'hidden_size': 72, 'dropout': 0.2, 'batch_size': 152, 'lr': 0.001654259756065979, 'weight_decay': 0.0013488930549345774, 'num_encoder_layers': 3, 'num_decoder_layers': 1, 'temporal_width_past': 1, 'temporal_width_future': 2, 'use_reversible_instance_norm': True, 'temporal_hidden_size_past': 72, 'temporal_hidden_size_future': 156}. Best is trial 22 with value: 50.774799418712945.\n",
      "GPU available: True (cuda), used: True\n",
      "TPU available: False, using: 0 TPU cores\n",
      "HPU available: False, using: 0 HPUs\n",
      "LOCAL_RANK: 0 - CUDA_VISIBLE_DEVICES: [0]\n"
     ]
    },
    {
     "name": "stdout",
     "output_type": "stream",
     "text": [
      "SMAPE fold 2: 55.66147941719424\n",
      "Média dos SMAPE nos folds: 51.8331669379437\n",
      "Results of trial 36 saved in optuna_iteration_metrics/trial_36.json\n",
      "Current value: 51.8331669379437, Current params: {'input_chunk_length': 48, 'hidden_size': 72, 'dropout': 0.2, 'batch_size': 152, 'lr': 0.001654259756065979, 'weight_decay': 0.0013488930549345774, 'num_encoder_layers': 3, 'num_decoder_layers': 1, 'temporal_width_past': 1, 'temporal_width_future': 2, 'use_reversible_instance_norm': True, 'temporal_hidden_size_past': 72, 'temporal_hidden_size_future': 156}\n",
      "Best value: 50.774799418712945, Best params: {'input_chunk_length': 48, 'hidden_size': 56, 'dropout': 0.15000000000000002, 'batch_size': 136, 'lr': 0.004037485712715622, 'weight_decay': 0.00042665070953740137, 'num_encoder_layers': 4, 'num_decoder_layers': 2, 'temporal_width_past': 3, 'temporal_width_future': 1, 'use_reversible_instance_norm': True, 'temporal_hidden_size_past': 132, 'temporal_hidden_size_future': 132}\n",
      "\n",
      "Fold 1/3\n"
     ]
    },
    {
     "name": "stderr",
     "output_type": "stream",
     "text": [
      "[I 2025-06-09 14:41:05,627] Trial 37 pruned. Trial was pruned at epoch 0.\n"
     ]
    },
    {
     "name": "stdout",
     "output_type": "stream",
     "text": [
      "Current value: 0.21566581468657717, Current params: {'input_chunk_length': 84, 'hidden_size': 96, 'dropout': 0.15000000000000002, 'batch_size': 168, 'lr': 0.002547296848436995, 'weight_decay': 0.002759313871567684, 'num_encoder_layers': 4, 'num_decoder_layers': 2, 'temporal_width_past': 4, 'temporal_width_future': 1, 'use_reversible_instance_norm': True, 'temporal_hidden_size_past': 96, 'temporal_hidden_size_future': 108}\n",
      "Best value: 50.774799418712945, Best params: {'input_chunk_length': 48, 'hidden_size': 56, 'dropout': 0.15000000000000002, 'batch_size': 136, 'lr': 0.004037485712715622, 'weight_decay': 0.00042665070953740137, 'num_encoder_layers': 4, 'num_decoder_layers': 2, 'temporal_width_past': 3, 'temporal_width_future': 1, 'use_reversible_instance_norm': True, 'temporal_hidden_size_past': 132, 'temporal_hidden_size_future': 132}\n",
      "\n",
      "Fold 1/3\n"
     ]
    },
    {
     "name": "stderr",
     "output_type": "stream",
     "text": [
      "GPU available: True (cuda), used: True\n",
      "TPU available: False, using: 0 TPU cores\n",
      "HPU available: False, using: 0 HPUs\n",
      "LOCAL_RANK: 0 - CUDA_VISIBLE_DEVICES: [0]\n",
      "[I 2025-06-09 14:42:02,803] Trial 38 pruned. Trial was pruned at epoch 0.\n",
      "GPU available: True (cuda), used: True\n",
      "TPU available: False, using: 0 TPU cores\n",
      "HPU available: False, using: 0 HPUs\n",
      "LOCAL_RANK: 0 - CUDA_VISIBLE_DEVICES: [0]\n"
     ]
    },
    {
     "name": "stdout",
     "output_type": "stream",
     "text": [
      "Current value: 2.694997107658918, Current params: {'input_chunk_length': 24, 'hidden_size': 56, 'dropout': 0.1, 'batch_size': 120, 'lr': 0.004745691896285751, 'weight_decay': 0.00029379180599082064, 'num_encoder_layers': 4, 'num_decoder_layers': 2, 'temporal_width_past': 1, 'temporal_width_future': 3, 'use_reversible_instance_norm': False, 'temporal_hidden_size_past': 120, 'temporal_hidden_size_future': 144}\n",
      "Best value: 50.774799418712945, Best params: {'input_chunk_length': 48, 'hidden_size': 56, 'dropout': 0.15000000000000002, 'batch_size': 136, 'lr': 0.004037485712715622, 'weight_decay': 0.00042665070953740137, 'num_encoder_layers': 4, 'num_decoder_layers': 2, 'temporal_width_past': 3, 'temporal_width_future': 1, 'use_reversible_instance_norm': True, 'temporal_hidden_size_past': 132, 'temporal_hidden_size_future': 132}\n",
      "\n",
      "Fold 1/3\n"
     ]
    },
    {
     "name": "stderr",
     "output_type": "stream",
     "text": [
      "[I 2025-06-09 14:42:04,875] Trial 39 pruned. Trial was pruned at epoch 0.\n",
      "GPU available: True (cuda), used: True\n",
      "TPU available: False, using: 0 TPU cores\n",
      "HPU available: False, using: 0 HPUs\n",
      "LOCAL_RANK: 0 - CUDA_VISIBLE_DEVICES: [0]\n"
     ]
    },
    {
     "name": "stdout",
     "output_type": "stream",
     "text": [
      "Current value: 0.26689473974131317, Current params: {'input_chunk_length': 72, 'hidden_size': 240, 'dropout': 0.2, 'batch_size': 136, 'lr': 0.00040136854012440244, 'weight_decay': 5.048736243352893e-05, 'num_encoder_layers': 4, 'num_decoder_layers': 1, 'temporal_width_past': 2, 'temporal_width_future': 1, 'use_reversible_instance_norm': True, 'temporal_hidden_size_past': 96, 'temporal_hidden_size_future': 168}\n",
      "Best value: 50.774799418712945, Best params: {'input_chunk_length': 48, 'hidden_size': 56, 'dropout': 0.15000000000000002, 'batch_size': 136, 'lr': 0.004037485712715622, 'weight_decay': 0.00042665070953740137, 'num_encoder_layers': 4, 'num_decoder_layers': 2, 'temporal_width_past': 3, 'temporal_width_future': 1, 'use_reversible_instance_norm': True, 'temporal_hidden_size_past': 132, 'temporal_hidden_size_future': 132}\n",
      "\n",
      "Fold 1/3\n"
     ]
    },
    {
     "name": "stderr",
     "output_type": "stream",
     "text": [
      "Metric val_loss improved. New best score: 0.150\n",
      "Metric val_loss improved by 0.028 >= min_delta = 0.0005. New best score: 0.122\n",
      "Metric val_loss improved by 0.005 >= min_delta = 0.0005. New best score: 0.117\n",
      "Metric val_loss improved by 0.001 >= min_delta = 0.0005. New best score: 0.117\n",
      "Monitored metric val_loss did not improve in the last 15 records. Best score: 0.117. Signaling Trainer to stop.\n",
      "GPU available: True (cuda), used: True\n",
      "TPU available: False, using: 0 TPU cores\n",
      "HPU available: False, using: 0 HPUs\n",
      "LOCAL_RANK: 0 - CUDA_VISIBLE_DEVICES: [0]\n"
     ]
    },
    {
     "name": "stdout",
     "output_type": "stream",
     "text": [
      "Model loaded from checkpoint for trial 40, fold 0\n"
     ]
    },
    {
     "name": "stderr",
     "output_type": "stream",
     "text": [
      "GPU available: True (cuda), used: True\n",
      "TPU available: False, using: 0 TPU cores\n",
      "HPU available: False, using: 0 HPUs\n",
      "LOCAL_RANK: 0 - CUDA_VISIBLE_DEVICES: [0]\n"
     ]
    },
    {
     "name": "stdout",
     "output_type": "stream",
     "text": [
      "SMAPE fold 0: 49.124275742541286\n",
      "\n",
      "Fold 2/3\n"
     ]
    },
    {
     "name": "stderr",
     "output_type": "stream",
     "text": [
      "Exception ignored in: <function _MultiProcessingDataLoaderIter.__del__ at 0x7f7433929ee0>\n",
      "Traceback (most recent call last):\n",
      "  File \"/home/eduardo/Documentos/Water-Cycle-Neural-Network/venv/lib/python3.12/site-packages/torch/utils/data/dataloader.py\", line 1663, in __del__\n",
      "Exception ignored in: <function _MultiProcessingDataLoaderIter.__del__ at 0x7f7433929ee0>    self._shutdown_workers()\n",
      "\n",
      "Traceback (most recent call last):\n",
      "  File \"/home/eduardo/Documentos/Water-Cycle-Neural-Network/venv/lib/python3.12/site-packages/torch/utils/data/dataloader.py\", line 1646, in _shutdown_workers\n",
      "  File \"/home/eduardo/Documentos/Water-Cycle-Neural-Network/venv/lib/python3.12/site-packages/torch/utils/data/dataloader.py\", line 1663, in __del__\n",
      "    if w.is_alive():    \n",
      "self._shutdown_workers() \n",
      "    File \"/home/eduardo/Documentos/Water-Cycle-Neural-Network/venv/lib/python3.12/site-packages/torch/utils/data/dataloader.py\", line 1646, in _shutdown_workers\n",
      "      if w.is_alive(): \n",
      "  ^ ^ ^^ ^ ^ ^^ ^^^^^^^^\n",
      "^  File \"/usr/lib/python3.12/multiprocessing/process.py\", line 160, in is_alive\n",
      "^^    ^assert self._parent_pid == os.getpid(), 'can only test a child process'Exception ignored in: ^\n",
      "<function _MultiProcessingDataLoaderIter.__del__ at 0x7f7433929ee0>^ \n",
      "^ Traceback (most recent call last):\n",
      "^   File \"/home/eduardo/Documentos/Water-Cycle-Neural-Network/venv/lib/python3.12/site-packages/torch/utils/data/dataloader.py\", line 1663, in __del__\n",
      "\n",
      "    File \"/usr/lib/python3.12/multiprocessing/process.py\", line 160, in is_alive\n",
      "     self._shutdown_workers()     assert self._parent_pid == os.getpid(), 'can only test a child process' \n",
      "  \n",
      "     File \"/home/eduardo/Documentos/Water-Cycle-Neural-Network/venv/lib/python3.12/site-packages/torch/utils/data/dataloader.py\", line 1646, in _shutdown_workers\n",
      "^     ^ if w.is_alive(): ^ \n",
      "^  ^  ^  ^  ^  ^ ^^ ^^^^^^^^^^^^^^^^^^^^^^^^^^^^^^^^^^^^^^^\n",
      "^^  File \"/usr/lib/python3.12/multiprocessing/process.py\", line 160, in is_alive\n",
      "^^    ^^assert self._parent_pid == os.getpid(), 'can only test a child process'^^\n",
      "^^ ^^ ^^ ^\n",
      " ^AssertionError ^ : ^ can only test a child process^ \n",
      "^ ^^  Exception ignored in: ^^<function _MultiProcessingDataLoaderIter.__del__ at 0x7f7433929ee0>^\n",
      "^^Traceback (most recent call last):\n",
      "\n",
      "^  File \"/home/eduardo/Documentos/Water-Cycle-Neural-Network/venv/lib/python3.12/site-packages/torch/utils/data/dataloader.py\", line 1663, in __del__\n",
      "^AssertionError    : ^^can only test a child process^self._shutdown_workers()\n",
      "^\n",
      "^  File \"/home/eduardo/Documentos/Water-Cycle-Neural-Network/venv/lib/python3.12/site-packages/torch/utils/data/dataloader.py\", line 1646, in _shutdown_workers\n",
      "    ^^Exception ignored in: if w.is_alive():^<function _MultiProcessingDataLoaderIter.__del__ at 0x7f7433929ee0>\n",
      " ^\n",
      "^Traceback (most recent call last):\n",
      "   File \"/home/eduardo/Documentos/Water-Cycle-Neural-Network/venv/lib/python3.12/site-packages/torch/utils/data/dataloader.py\", line 1663, in __del__\n",
      "^ ^     ^self._shutdown_workers() \n",
      "^ ^ ^^  File \"/home/eduardo/Documentos/Water-Cycle-Neural-Network/venv/lib/python3.12/site-packages/torch/utils/data/dataloader.py\", line 1646, in _shutdown_workers\n",
      "^^^^    ^^if w.is_alive():^^\n",
      "^ ^^^ ^^ ^^ ^^^ ^\n",
      "^   File \"/usr/lib/python3.12/multiprocessing/process.py\", line 160, in is_alive\n",
      "\n",
      " AssertionError    ^^: assert self._parent_pid == os.getpid(), 'can only test a child process'^\n",
      "can only test a child process^\n",
      " ^ ^ ^ ^ ^Exception ignored in:  ^<function _MultiProcessingDataLoaderIter.__del__ at 0x7f7433929ee0> ^\n",
      " ^Traceback (most recent call last):\n",
      " \n",
      "  File \"/home/eduardo/Documentos/Water-Cycle-Neural-Network/venv/lib/python3.12/site-packages/torch/utils/data/dataloader.py\", line 1663, in __del__\n",
      "   File \"/usr/lib/python3.12/multiprocessing/process.py\", line 160, in is_alive\n",
      "         ^self._shutdown_workers()assert self._parent_pid == os.getpid(), 'can only test a child process'^\n",
      "^\n",
      "  File \"/home/eduardo/Documentos/Water-Cycle-Neural-Network/venv/lib/python3.12/site-packages/torch/utils/data/dataloader.py\", line 1646, in _shutdown_workers\n",
      "^ ^     ^ ^if w.is_alive():  ^\n",
      " ^  ^  ^  ^  ^ ^ ^^^^ ^^ ^^^^^^^^^^^^^^^^^^^^^^^^^^^^^^^^^^^^\n",
      "^^  File \"/usr/lib/python3.12/multiprocessing/process.py\", line 160, in is_alive\n",
      "^^    ^assert self._parent_pid == os.getpid(), 'can only test a child process'\n",
      "^\n",
      "AssertionError^:  ^can only test a child process^ ^ \n",
      "^ ^ ^ ^ ^ ^ ^^ \n",
      " AssertionError^: ^can only test a child process^\n",
      "^^^^^^^^^^^^^^^^^^^^^^^^^^^^\n",
      "AssertionError: can only test a child process\n",
      "Exception ignored in: <function _MultiProcessingDataLoaderIter.__del__ at 0x7f7433929ee0>\n",
      "Traceback (most recent call last):\n",
      "  File \"/home/eduardo/Documentos/Water-Cycle-Neural-Network/venv/lib/python3.12/site-packages/torch/utils/data/dataloader.py\", line 1663, in __del__\n",
      "    self._shutdown_workers()\n",
      "  File \"/home/eduardo/Documentos/Water-Cycle-Neural-Network/venv/lib/python3.12/site-packages/torch/utils/data/dataloader.py\", line 1646, in _shutdown_workers\n",
      "    if w.is_alive():\n",
      "       ^^^^^^^^^Exception ignored in: ^<function _MultiProcessingDataLoaderIter.__del__ at 0x7f7433929ee0>^\n",
      "^Traceback (most recent call last):\n",
      "\n",
      "  File \"/home/eduardo/Documentos/Water-Cycle-Neural-Network/venv/lib/python3.12/site-packages/torch/utils/data/dataloader.py\", line 1663, in __del__\n",
      "  File \"/usr/lib/python3.12/multiprocessing/process.py\", line 160, in is_alive\n",
      "        assert self._parent_pid == os.getpid(), 'can only test a child process'self._shutdown_workers()\n",
      "\n",
      "   File \"/home/eduardo/Documentos/Water-Cycle-Neural-Network/venv/lib/python3.12/site-packages/torch/utils/data/dataloader.py\", line 1646, in _shutdown_workers\n",
      "      if w.is_alive(): \n",
      "              ^^^^^^^^^^^^^^^^^^^^^^^^\n",
      "^  File \"/usr/lib/python3.12/multiprocessing/process.py\", line 160, in is_alive\n",
      "^    ^assert self._parent_pid == os.getpid(), 'can only test a child process'^\n",
      "^ ^  ^^ ^ ^ ^ ^ ^ ^ ^ ^^^^^^^\n",
      "^AssertionError^: can only test a child process^\n",
      "^^^^^Exception ignored in: ^<function _MultiProcessingDataLoaderIter.__del__ at 0x7f7433929ee0>^\n",
      "^Traceback (most recent call last):\n",
      "^  File \"/home/eduardo/Documentos/Water-Cycle-Neural-Network/venv/lib/python3.12/site-packages/torch/utils/data/dataloader.py\", line 1663, in __del__\n",
      "^^    ^self._shutdown_workers()^\n",
      "^  File \"/home/eduardo/Documentos/Water-Cycle-Neural-Network/venv/lib/python3.12/site-packages/torch/utils/data/dataloader.py\", line 1646, in _shutdown_workers\n",
      "^^    if w.is_alive():^\n",
      "^ ^ ^ ^^  ^ ^ ^^\n",
      "^AssertionError^: ^can only test a child process^\n",
      "^^^^^Exception ignored in: ^<function _MultiProcessingDataLoaderIter.__del__ at 0x7f7433929ee0>^\n",
      "\n",
      "  File \"/usr/lib/python3.12/multiprocessing/process.py\", line 160, in is_alive\n",
      "Traceback (most recent call last):\n",
      "  File \"/home/eduardo/Documentos/Water-Cycle-Neural-Network/venv/lib/python3.12/site-packages/torch/utils/data/dataloader.py\", line 1663, in __del__\n",
      "    assert self._parent_pid == os.getpid(), 'can only test a child process'    \n",
      "self._shutdown_workers() \n",
      "   File \"/home/eduardo/Documentos/Water-Cycle-Neural-Network/venv/lib/python3.12/site-packages/torch/utils/data/dataloader.py\", line 1646, in _shutdown_workers\n",
      "       if w.is_alive(): \n",
      "          ^ ^^ ^^^^^^^^^^^^^^^^^^^^^^^^^^\n",
      "  File \"/usr/lib/python3.12/multiprocessing/process.py\", line 160, in is_alive\n",
      "^    ^^assert self._parent_pid == os.getpid(), 'can only test a child process'^\n",
      "^ ^ ^ ^ ^ ^ ^ ^ ^ ^  \n",
      "^AssertionError^: ^can only test a child process^\n",
      "^^^^^^^^^^^^^^^^^^^^^^^^^^^\n",
      "AssertionError: can only test a child process\n",
      "/home/eduardo/Documentos/Water-Cycle-Neural-Network/venv/lib/python3.12/site-packages/optuna/trial/_trial.py:497: UserWarning: The reported value is ignored because this `step` 0 is already reported.\n",
      "  warnings.warn(\n",
      "Metric val_loss improved by 0.107 >= min_delta = 0.0005. New best score: 0.010\n",
      "/home/eduardo/Documentos/Water-Cycle-Neural-Network/venv/lib/python3.12/site-packages/optuna/trial/_trial.py:497: UserWarning: The reported value is ignored because this `step` 1 is already reported.\n",
      "  warnings.warn(\n",
      "/home/eduardo/Documentos/Water-Cycle-Neural-Network/venv/lib/python3.12/site-packages/optuna/trial/_trial.py:497: UserWarning: The reported value is ignored because this `step` 2 is already reported.\n",
      "  warnings.warn(\n",
      "Metric val_loss improved by 0.001 >= min_delta = 0.0005. New best score: 0.009\n",
      "/home/eduardo/Documentos/Water-Cycle-Neural-Network/venv/lib/python3.12/site-packages/optuna/trial/_trial.py:497: UserWarning: The reported value is ignored because this `step` 3 is already reported.\n",
      "  warnings.warn(\n",
      "/home/eduardo/Documentos/Water-Cycle-Neural-Network/venv/lib/python3.12/site-packages/optuna/trial/_trial.py:497: UserWarning: The reported value is ignored because this `step` 4 is already reported.\n",
      "  warnings.warn(\n",
      "/home/eduardo/Documentos/Water-Cycle-Neural-Network/venv/lib/python3.12/site-packages/optuna/trial/_trial.py:497: UserWarning: The reported value is ignored because this `step` 5 is already reported.\n",
      "  warnings.warn(\n",
      "/home/eduardo/Documentos/Water-Cycle-Neural-Network/venv/lib/python3.12/site-packages/optuna/trial/_trial.py:497: UserWarning: The reported value is ignored because this `step` 6 is already reported.\n",
      "  warnings.warn(\n",
      "/home/eduardo/Documentos/Water-Cycle-Neural-Network/venv/lib/python3.12/site-packages/optuna/trial/_trial.py:497: UserWarning: The reported value is ignored because this `step` 7 is already reported.\n",
      "  warnings.warn(\n",
      "/home/eduardo/Documentos/Water-Cycle-Neural-Network/venv/lib/python3.12/site-packages/optuna/trial/_trial.py:497: UserWarning: The reported value is ignored because this `step` 8 is already reported.\n",
      "  warnings.warn(\n",
      "/home/eduardo/Documentos/Water-Cycle-Neural-Network/venv/lib/python3.12/site-packages/optuna/trial/_trial.py:497: UserWarning: The reported value is ignored because this `step` 9 is already reported.\n",
      "  warnings.warn(\n",
      "/home/eduardo/Documentos/Water-Cycle-Neural-Network/venv/lib/python3.12/site-packages/optuna/trial/_trial.py:497: UserWarning: The reported value is ignored because this `step` 10 is already reported.\n",
      "  warnings.warn(\n",
      "/home/eduardo/Documentos/Water-Cycle-Neural-Network/venv/lib/python3.12/site-packages/optuna/trial/_trial.py:497: UserWarning: The reported value is ignored because this `step` 11 is already reported.\n",
      "  warnings.warn(\n",
      "/home/eduardo/Documentos/Water-Cycle-Neural-Network/venv/lib/python3.12/site-packages/optuna/trial/_trial.py:497: UserWarning: The reported value is ignored because this `step` 12 is already reported.\n",
      "  warnings.warn(\n",
      "/home/eduardo/Documentos/Water-Cycle-Neural-Network/venv/lib/python3.12/site-packages/optuna/trial/_trial.py:497: UserWarning: The reported value is ignored because this `step` 13 is already reported.\n",
      "  warnings.warn(\n",
      "/home/eduardo/Documentos/Water-Cycle-Neural-Network/venv/lib/python3.12/site-packages/optuna/trial/_trial.py:497: UserWarning: The reported value is ignored because this `step` 14 is already reported.\n",
      "  warnings.warn(\n",
      "/home/eduardo/Documentos/Water-Cycle-Neural-Network/venv/lib/python3.12/site-packages/optuna/trial/_trial.py:497: UserWarning: The reported value is ignored because this `step` 15 is already reported.\n",
      "  warnings.warn(\n",
      "/home/eduardo/Documentos/Water-Cycle-Neural-Network/venv/lib/python3.12/site-packages/optuna/trial/_trial.py:497: UserWarning: The reported value is ignored because this `step` 16 is already reported.\n",
      "  warnings.warn(\n",
      "/home/eduardo/Documentos/Water-Cycle-Neural-Network/venv/lib/python3.12/site-packages/optuna/trial/_trial.py:497: UserWarning: The reported value is ignored because this `step` 17 is already reported.\n",
      "  warnings.warn(\n",
      "Monitored metric val_loss did not improve in the last 15 records. Best score: 0.009. Signaling Trainer to stop.\n",
      "GPU available: True (cuda), used: True\n",
      "TPU available: False, using: 0 TPU cores\n",
      "HPU available: False, using: 0 HPUs\n",
      "LOCAL_RANK: 0 - CUDA_VISIBLE_DEVICES: [0]\n"
     ]
    },
    {
     "name": "stdout",
     "output_type": "stream",
     "text": [
      "Model loaded from checkpoint for trial 40, fold 1\n"
     ]
    },
    {
     "name": "stderr",
     "output_type": "stream",
     "text": [
      "GPU available: True (cuda), used: True\n",
      "TPU available: False, using: 0 TPU cores\n",
      "HPU available: False, using: 0 HPUs\n",
      "LOCAL_RANK: 0 - CUDA_VISIBLE_DEVICES: [0]\n"
     ]
    },
    {
     "name": "stdout",
     "output_type": "stream",
     "text": [
      "SMAPE fold 1: 50.99193945617732\n",
      "\n",
      "Fold 3/3\n"
     ]
    },
    {
     "name": "stderr",
     "output_type": "stream",
     "text": [
      "/home/eduardo/Documentos/Water-Cycle-Neural-Network/venv/lib/python3.12/site-packages/optuna/trial/_trial.py:497: UserWarning: The reported value is ignored because this `step` 0 is already reported.\n",
      "  warnings.warn(\n",
      "Monitored metric val_loss did not improve in the last 16 records. Best score: 0.009. Signaling Trainer to stop.\n",
      "GPU available: True (cuda), used: True\n",
      "TPU available: False, using: 0 TPU cores\n",
      "HPU available: False, using: 0 HPUs\n",
      "LOCAL_RANK: 0 - CUDA_VISIBLE_DEVICES: [0]\n"
     ]
    },
    {
     "name": "stdout",
     "output_type": "stream",
     "text": [
      "Model loaded from checkpoint for trial 40, fold 2\n"
     ]
    },
    {
     "name": "stderr",
     "output_type": "stream",
     "text": [
      "[I 2025-06-09 14:43:00,622] Trial 40 finished with value: 51.420082582849794 and parameters: {'input_chunk_length': 48, 'hidden_size': 80, 'dropout': 0.15000000000000002, 'batch_size': 112, 'lr': 0.0033305611663376634, 'weight_decay': 0.0005946771815489925, 'num_encoder_layers': 3, 'num_decoder_layers': 2, 'temporal_width_past': 3, 'temporal_width_future': 2, 'use_reversible_instance_norm': True, 'temporal_hidden_size_past': 156, 'temporal_hidden_size_future': 132}. Best is trial 22 with value: 50.774799418712945.\n",
      "GPU available: True (cuda), used: True\n",
      "TPU available: False, using: 0 TPU cores\n",
      "HPU available: False, using: 0 HPUs\n",
      "LOCAL_RANK: 0 - CUDA_VISIBLE_DEVICES: [0]\n"
     ]
    },
    {
     "name": "stdout",
     "output_type": "stream",
     "text": [
      "SMAPE fold 2: 54.14403254983076\n",
      "Média dos SMAPE nos folds: 51.420082582849794\n",
      "Results of trial 40 saved in optuna_iteration_metrics/trial_40.json\n",
      "Current value: 51.420082582849794, Current params: {'input_chunk_length': 48, 'hidden_size': 80, 'dropout': 0.15000000000000002, 'batch_size': 112, 'lr': 0.0033305611663376634, 'weight_decay': 0.0005946771815489925, 'num_encoder_layers': 3, 'num_decoder_layers': 2, 'temporal_width_past': 3, 'temporal_width_future': 2, 'use_reversible_instance_norm': True, 'temporal_hidden_size_past': 156, 'temporal_hidden_size_future': 132}\n",
      "Best value: 50.774799418712945, Best params: {'input_chunk_length': 48, 'hidden_size': 56, 'dropout': 0.15000000000000002, 'batch_size': 136, 'lr': 0.004037485712715622, 'weight_decay': 0.00042665070953740137, 'num_encoder_layers': 4, 'num_decoder_layers': 2, 'temporal_width_past': 3, 'temporal_width_future': 1, 'use_reversible_instance_norm': True, 'temporal_hidden_size_past': 132, 'temporal_hidden_size_future': 132}\n",
      "\n",
      "Fold 1/3\n"
     ]
    },
    {
     "name": "stderr",
     "output_type": "stream",
     "text": [
      "[I 2025-06-09 14:43:02,563] Trial 41 pruned. Trial was pruned at epoch 0.\n",
      "GPU available: True (cuda), used: True\n",
      "TPU available: False, using: 0 TPU cores\n",
      "HPU available: False, using: 0 HPUs\n",
      "LOCAL_RANK: 0 - CUDA_VISIBLE_DEVICES: [0]\n"
     ]
    },
    {
     "name": "stdout",
     "output_type": "stream",
     "text": [
      "Current value: 0.20379287352697245, Current params: {'input_chunk_length': 60, 'hidden_size': 64, 'dropout': 0.1, 'batch_size': 144, 'lr': 0.0016065402601771928, 'weight_decay': 0.0004136951912700557, 'num_encoder_layers': 4, 'num_decoder_layers': 1, 'temporal_width_past': 1, 'temporal_width_future': 2, 'use_reversible_instance_norm': True, 'temporal_hidden_size_past': 72, 'temporal_hidden_size_future': 132}\n",
      "Best value: 50.774799418712945, Best params: {'input_chunk_length': 48, 'hidden_size': 56, 'dropout': 0.15000000000000002, 'batch_size': 136, 'lr': 0.004037485712715622, 'weight_decay': 0.00042665070953740137, 'num_encoder_layers': 4, 'num_decoder_layers': 2, 'temporal_width_past': 3, 'temporal_width_future': 1, 'use_reversible_instance_norm': True, 'temporal_hidden_size_past': 132, 'temporal_hidden_size_future': 132}\n",
      "\n",
      "Fold 1/3\n"
     ]
    },
    {
     "name": "stderr",
     "output_type": "stream",
     "text": [
      "Metric val_loss improved. New best score: 0.163\n",
      "Metric val_loss improved by 0.017 >= min_delta = 0.0005. New best score: 0.147\n",
      "Metric val_loss improved by 0.013 >= min_delta = 0.0005. New best score: 0.133\n",
      "Metric val_loss improved by 0.009 >= min_delta = 0.0005. New best score: 0.124\n",
      "Metric val_loss improved by 0.005 >= min_delta = 0.0005. New best score: 0.119\n",
      "Exception ignored in: <function _MultiProcessingDataLoaderIter.__del__ at 0x7f7433929ee0>\n",
      "Traceback (most recent call last):\n",
      "  File \"/home/eduardo/Documentos/Water-Cycle-Neural-Network/venv/lib/python3.12/site-packages/torch/utils/data/dataloader.py\", line 1663, in __del__\n",
      "Exception ignored in:     <function _MultiProcessingDataLoaderIter.__del__ at 0x7f7433929ee0>\n",
      "self._shutdown_workers()Traceback (most recent call last):\n",
      "\n",
      "  File \"/home/eduardo/Documentos/Water-Cycle-Neural-Network/venv/lib/python3.12/site-packages/torch/utils/data/dataloader.py\", line 1663, in __del__\n",
      "  File \"/home/eduardo/Documentos/Water-Cycle-Neural-Network/venv/lib/python3.12/site-packages/torch/utils/data/dataloader.py\", line 1646, in _shutdown_workers\n",
      "        self._shutdown_workers()if w.is_alive():\n",
      "\n",
      "  File \"/home/eduardo/Documentos/Water-Cycle-Neural-Network/venv/lib/python3.12/site-packages/torch/utils/data/dataloader.py\", line 1646, in _shutdown_workers\n",
      "       if w.is_alive(): \n",
      " Exception ignored in:   <function _MultiProcessingDataLoaderIter.__del__ at 0x7f7433929ee0>  \n",
      " ^Traceback (most recent call last):\n",
      " ^  File \"/home/eduardo/Documentos/Water-Cycle-Neural-Network/venv/lib/python3.12/site-packages/torch/utils/data/dataloader.py\", line 1663, in __del__\n",
      " ^ ^     ^^self._shutdown_workers()^^\n",
      "^^^  File \"/home/eduardo/Documentos/Water-Cycle-Neural-Network/venv/lib/python3.12/site-packages/torch/utils/data/dataloader.py\", line 1646, in _shutdown_workers\n",
      "^^^^    ^^if w.is_alive():^^\n",
      "\n",
      "^ ^  File \"/usr/lib/python3.12/multiprocessing/process.py\", line 160, in is_alive\n",
      " ^     ^assert self._parent_pid == os.getpid(), 'can only test a child process' ^ \n",
      "\n",
      "    File \"/usr/lib/python3.12/multiprocessing/process.py\", line 160, in is_alive\n",
      "      ^ assert self._parent_pid == os.getpid(), 'can only test a child process'^ \n",
      "^  ^   ^  ^  ^  ^  ^^ ^^ ^^ ^^ \n",
      "^   File \"/usr/lib/python3.12/multiprocessing/process.py\", line 160, in is_alive\n",
      "^^    ^^assert self._parent_pid == os.getpid(), 'can only test a child process'^\n",
      "^^ ^^ ^^ ^^ ^^ ^^^^ ^^ ^^ ^ ^^ ^^ ^^^^^^^^^^^^^^^^^^^^^^^^^^^^^^^^^^^^^^^\n",
      "^^AssertionError^^: ^^can only test a child process^\n",
      "\n",
      "^AssertionError^: ^can only test a child process\n",
      "^^^^^^^^^^^\n",
      "AssertionError: can only test a child process\n",
      "Metric val_loss improved by 0.002 >= min_delta = 0.0005. New best score: 0.117\n",
      "Metric val_loss improved by 0.001 >= min_delta = 0.0005. New best score: 0.116\n",
      "Metric val_loss improved by 0.001 >= min_delta = 0.0005. New best score: 0.115\n",
      "Metric val_loss improved by 0.001 >= min_delta = 0.0005. New best score: 0.115\n",
      "Metric val_loss improved by 0.001 >= min_delta = 0.0005. New best score: 0.114\n",
      "Metric val_loss improved by 0.001 >= min_delta = 0.0005. New best score: 0.113\n",
      "Metric val_loss improved by 0.001 >= min_delta = 0.0005. New best score: 0.113\n",
      "Metric val_loss improved by 0.001 >= min_delta = 0.0005. New best score: 0.112\n",
      "Metric val_loss improved by 0.001 >= min_delta = 0.0005. New best score: 0.111\n",
      "`Trainer.fit` stopped: `max_epochs=30` reached.\n",
      "GPU available: True (cuda), used: True\n",
      "TPU available: False, using: 0 TPU cores\n",
      "HPU available: False, using: 0 HPUs\n",
      "LOCAL_RANK: 0 - CUDA_VISIBLE_DEVICES: [0]\n"
     ]
    },
    {
     "name": "stdout",
     "output_type": "stream",
     "text": [
      "Model loaded from checkpoint for trial 42, fold 0\n"
     ]
    },
    {
     "name": "stderr",
     "output_type": "stream",
     "text": [
      "GPU available: True (cuda), used: True\n",
      "TPU available: False, using: 0 TPU cores\n",
      "HPU available: False, using: 0 HPUs\n",
      "LOCAL_RANK: 0 - CUDA_VISIBLE_DEVICES: [0]\n"
     ]
    },
    {
     "name": "stdout",
     "output_type": "stream",
     "text": [
      "SMAPE fold 0: 48.796674450313446\n",
      "\n",
      "Fold 2/3\n"
     ]
    },
    {
     "name": "stderr",
     "output_type": "stream",
     "text": [
      "/home/eduardo/Documentos/Water-Cycle-Neural-Network/venv/lib/python3.12/site-packages/optuna/trial/_trial.py:497: UserWarning: The reported value is ignored because this `step` 0 is already reported.\n",
      "  warnings.warn(\n",
      "Metric val_loss improved by 0.100 >= min_delta = 0.0005. New best score: 0.012\n",
      "/home/eduardo/Documentos/Water-Cycle-Neural-Network/venv/lib/python3.12/site-packages/optuna/trial/_trial.py:497: UserWarning: The reported value is ignored because this `step` 1 is already reported.\n",
      "  warnings.warn(\n",
      "Metric val_loss improved by 0.001 >= min_delta = 0.0005. New best score: 0.010\n",
      "/home/eduardo/Documentos/Water-Cycle-Neural-Network/venv/lib/python3.12/site-packages/optuna/trial/_trial.py:497: UserWarning: The reported value is ignored because this `step` 2 is already reported.\n",
      "  warnings.warn(\n",
      "Metric val_loss improved by 0.001 >= min_delta = 0.0005. New best score: 0.010\n",
      "/home/eduardo/Documentos/Water-Cycle-Neural-Network/venv/lib/python3.12/site-packages/optuna/trial/_trial.py:497: UserWarning: The reported value is ignored because this `step` 3 is already reported.\n",
      "  warnings.warn(\n",
      "/home/eduardo/Documentos/Water-Cycle-Neural-Network/venv/lib/python3.12/site-packages/optuna/trial/_trial.py:497: UserWarning: The reported value is ignored because this `step` 4 is already reported.\n",
      "  warnings.warn(\n",
      "/home/eduardo/Documentos/Water-Cycle-Neural-Network/venv/lib/python3.12/site-packages/optuna/trial/_trial.py:497: UserWarning: The reported value is ignored because this `step` 5 is already reported.\n",
      "  warnings.warn(\n",
      "/home/eduardo/Documentos/Water-Cycle-Neural-Network/venv/lib/python3.12/site-packages/optuna/trial/_trial.py:497: UserWarning: The reported value is ignored because this `step` 6 is already reported.\n",
      "  warnings.warn(\n",
      "Metric val_loss improved by 0.001 >= min_delta = 0.0005. New best score: 0.009\n",
      "/home/eduardo/Documentos/Water-Cycle-Neural-Network/venv/lib/python3.12/site-packages/optuna/trial/_trial.py:497: UserWarning: The reported value is ignored because this `step` 7 is already reported.\n",
      "  warnings.warn(\n",
      "/home/eduardo/Documentos/Water-Cycle-Neural-Network/venv/lib/python3.12/site-packages/optuna/trial/_trial.py:497: UserWarning: The reported value is ignored because this `step` 8 is already reported.\n",
      "  warnings.warn(\n",
      "/home/eduardo/Documentos/Water-Cycle-Neural-Network/venv/lib/python3.12/site-packages/optuna/trial/_trial.py:497: UserWarning: The reported value is ignored because this `step` 9 is already reported.\n",
      "  warnings.warn(\n",
      "/home/eduardo/Documentos/Water-Cycle-Neural-Network/venv/lib/python3.12/site-packages/optuna/trial/_trial.py:497: UserWarning: The reported value is ignored because this `step` 10 is already reported.\n",
      "  warnings.warn(\n",
      "/home/eduardo/Documentos/Water-Cycle-Neural-Network/venv/lib/python3.12/site-packages/optuna/trial/_trial.py:497: UserWarning: The reported value is ignored because this `step` 11 is already reported.\n",
      "  warnings.warn(\n",
      "/home/eduardo/Documentos/Water-Cycle-Neural-Network/venv/lib/python3.12/site-packages/optuna/trial/_trial.py:497: UserWarning: The reported value is ignored because this `step` 12 is already reported.\n",
      "  warnings.warn(\n",
      "/home/eduardo/Documentos/Water-Cycle-Neural-Network/venv/lib/python3.12/site-packages/optuna/trial/_trial.py:497: UserWarning: The reported value is ignored because this `step` 13 is already reported.\n",
      "  warnings.warn(\n",
      "/home/eduardo/Documentos/Water-Cycle-Neural-Network/venv/lib/python3.12/site-packages/optuna/trial/_trial.py:497: UserWarning: The reported value is ignored because this `step` 14 is already reported.\n",
      "  warnings.warn(\n",
      "/home/eduardo/Documentos/Water-Cycle-Neural-Network/venv/lib/python3.12/site-packages/optuna/trial/_trial.py:497: UserWarning: The reported value is ignored because this `step` 15 is already reported.\n",
      "  warnings.warn(\n",
      "/home/eduardo/Documentos/Water-Cycle-Neural-Network/venv/lib/python3.12/site-packages/optuna/trial/_trial.py:497: UserWarning: The reported value is ignored because this `step` 16 is already reported.\n",
      "  warnings.warn(\n",
      "/home/eduardo/Documentos/Water-Cycle-Neural-Network/venv/lib/python3.12/site-packages/optuna/trial/_trial.py:497: UserWarning: The reported value is ignored because this `step` 17 is already reported.\n",
      "  warnings.warn(\n",
      "/home/eduardo/Documentos/Water-Cycle-Neural-Network/venv/lib/python3.12/site-packages/optuna/trial/_trial.py:497: UserWarning: The reported value is ignored because this `step` 18 is already reported.\n",
      "  warnings.warn(\n",
      "/home/eduardo/Documentos/Water-Cycle-Neural-Network/venv/lib/python3.12/site-packages/optuna/trial/_trial.py:497: UserWarning: The reported value is ignored because this `step` 19 is already reported.\n",
      "  warnings.warn(\n",
      "/home/eduardo/Documentos/Water-Cycle-Neural-Network/venv/lib/python3.12/site-packages/optuna/trial/_trial.py:497: UserWarning: The reported value is ignored because this `step` 20 is already reported.\n",
      "  warnings.warn(\n",
      "/home/eduardo/Documentos/Water-Cycle-Neural-Network/venv/lib/python3.12/site-packages/optuna/trial/_trial.py:497: UserWarning: The reported value is ignored because this `step` 21 is already reported.\n",
      "  warnings.warn(\n",
      "Monitored metric val_loss did not improve in the last 15 records. Best score: 0.009. Signaling Trainer to stop.\n",
      "GPU available: True (cuda), used: True\n",
      "TPU available: False, using: 0 TPU cores\n",
      "HPU available: False, using: 0 HPUs\n",
      "LOCAL_RANK: 0 - CUDA_VISIBLE_DEVICES: [0]\n"
     ]
    },
    {
     "name": "stdout",
     "output_type": "stream",
     "text": [
      "Model loaded from checkpoint for trial 42, fold 1\n"
     ]
    },
    {
     "name": "stderr",
     "output_type": "stream",
     "text": [
      "GPU available: True (cuda), used: True\n",
      "TPU available: False, using: 0 TPU cores\n",
      "HPU available: False, using: 0 HPUs\n",
      "LOCAL_RANK: 0 - CUDA_VISIBLE_DEVICES: [0]\n"
     ]
    },
    {
     "name": "stdout",
     "output_type": "stream",
     "text": [
      "SMAPE fold 1: 51.04031894196993\n",
      "\n",
      "Fold 3/3\n"
     ]
    },
    {
     "name": "stderr",
     "output_type": "stream",
     "text": [
      "/home/eduardo/Documentos/Water-Cycle-Neural-Network/venv/lib/python3.12/site-packages/optuna/trial/_trial.py:497: UserWarning: The reported value is ignored because this `step` 0 is already reported.\n",
      "  warnings.warn(\n",
      "Monitored metric val_loss did not improve in the last 16 records. Best score: 0.009. Signaling Trainer to stop.\n",
      "GPU available: True (cuda), used: True\n",
      "TPU available: False, using: 0 TPU cores\n",
      "HPU available: False, using: 0 HPUs\n",
      "LOCAL_RANK: 0 - CUDA_VISIBLE_DEVICES: [0]\n"
     ]
    },
    {
     "name": "stdout",
     "output_type": "stream",
     "text": [
      "Model loaded from checkpoint for trial 42, fold 2\n"
     ]
    },
    {
     "name": "stderr",
     "output_type": "stream",
     "text": [
      "[I 2025-06-09 14:45:06,302] Trial 42 finished with value: 51.87479810824939 and parameters: {'input_chunk_length': 48, 'hidden_size': 40, 'dropout': 0.1, 'batch_size': 152, 'lr': 0.0013488812600126732, 'weight_decay': 0.0010979862814154172, 'num_encoder_layers': 4, 'num_decoder_layers': 1, 'temporal_width_past': 1, 'temporal_width_future': 3, 'use_reversible_instance_norm': True, 'temporal_hidden_size_past': 60, 'temporal_hidden_size_future': 120}. Best is trial 22 with value: 50.774799418712945.\n",
      "GPU available: True (cuda), used: True\n",
      "TPU available: False, using: 0 TPU cores\n",
      "HPU available: False, using: 0 HPUs\n",
      "LOCAL_RANK: 0 - CUDA_VISIBLE_DEVICES: [0]\n"
     ]
    },
    {
     "name": "stdout",
     "output_type": "stream",
     "text": [
      "SMAPE fold 2: 55.78740093246476\n",
      "Média dos SMAPE nos folds: 51.87479810824939\n",
      "Results of trial 42 saved in optuna_iteration_metrics/trial_42.json\n",
      "Current value: 51.87479810824939, Current params: {'input_chunk_length': 48, 'hidden_size': 40, 'dropout': 0.1, 'batch_size': 152, 'lr': 0.0013488812600126732, 'weight_decay': 0.0010979862814154172, 'num_encoder_layers': 4, 'num_decoder_layers': 1, 'temporal_width_past': 1, 'temporal_width_future': 3, 'use_reversible_instance_norm': True, 'temporal_hidden_size_past': 60, 'temporal_hidden_size_future': 120}\n",
      "Best value: 50.774799418712945, Best params: {'input_chunk_length': 48, 'hidden_size': 56, 'dropout': 0.15000000000000002, 'batch_size': 136, 'lr': 0.004037485712715622, 'weight_decay': 0.00042665070953740137, 'num_encoder_layers': 4, 'num_decoder_layers': 2, 'temporal_width_past': 3, 'temporal_width_future': 1, 'use_reversible_instance_norm': True, 'temporal_hidden_size_past': 132, 'temporal_hidden_size_future': 132}\n",
      "\n",
      "Fold 1/3\n"
     ]
    },
    {
     "name": "stderr",
     "output_type": "stream",
     "text": [
      "[I 2025-06-09 14:45:08,147] Trial 43 pruned. Trial was pruned at epoch 0.\n"
     ]
    },
    {
     "name": "stdout",
     "output_type": "stream",
     "text": [
      "Current value: 0.21479635455786422, Current params: {'input_chunk_length': 144, 'hidden_size': 64, 'dropout': 0.1, 'batch_size': 144, 'lr': 0.002237537020064073, 'weight_decay': 0.00015334038584370108, 'num_encoder_layers': 4, 'num_decoder_layers': 1, 'temporal_width_past': 1, 'temporal_width_future': 2, 'use_reversible_instance_norm': True, 'temporal_hidden_size_past': 60, 'temporal_hidden_size_future': 132}\n",
      "Best value: 50.774799418712945, Best params: {'input_chunk_length': 48, 'hidden_size': 56, 'dropout': 0.15000000000000002, 'batch_size': 136, 'lr': 0.004037485712715622, 'weight_decay': 0.00042665070953740137, 'num_encoder_layers': 4, 'num_decoder_layers': 2, 'temporal_width_past': 3, 'temporal_width_future': 1, 'use_reversible_instance_norm': True, 'temporal_hidden_size_past': 132, 'temporal_hidden_size_future': 132}\n",
      "\n",
      "Fold 1/3\n"
     ]
    },
    {
     "name": "stderr",
     "output_type": "stream",
     "text": [
      "GPU available: True (cuda), used: True\n",
      "TPU available: False, using: 0 TPU cores\n",
      "HPU available: False, using: 0 HPUs\n",
      "LOCAL_RANK: 0 - CUDA_VISIBLE_DEVICES: [0]\n",
      "Metric val_loss improved. New best score: 0.146\n",
      "Metric val_loss improved by 0.022 >= min_delta = 0.0005. New best score: 0.124\n",
      "Metric val_loss improved by 0.011 >= min_delta = 0.0005. New best score: 0.113\n",
      "Metric val_loss improved by 0.004 >= min_delta = 0.0005. New best score: 0.109\n",
      "Metric val_loss improved by 0.001 >= min_delta = 0.0005. New best score: 0.108\n",
      "Metric val_loss improved by 0.001 >= min_delta = 0.0005. New best score: 0.107\n",
      "Monitored metric val_loss did not improve in the last 15 records. Best score: 0.107. Signaling Trainer to stop.\n",
      "GPU available: True (cuda), used: True\n",
      "TPU available: False, using: 0 TPU cores\n",
      "HPU available: False, using: 0 HPUs\n",
      "LOCAL_RANK: 0 - CUDA_VISIBLE_DEVICES: [0]\n"
     ]
    },
    {
     "name": "stdout",
     "output_type": "stream",
     "text": [
      "Model loaded from checkpoint for trial 44, fold 0\n"
     ]
    },
    {
     "name": "stderr",
     "output_type": "stream",
     "text": [
      "GPU available: True (cuda), used: True\n",
      "TPU available: False, using: 0 TPU cores\n",
      "HPU available: False, using: 0 HPUs\n",
      "LOCAL_RANK: 0 - CUDA_VISIBLE_DEVICES: [0]\n"
     ]
    },
    {
     "name": "stdout",
     "output_type": "stream",
     "text": [
      "SMAPE fold 0: 48.61954026712314\n",
      "\n",
      "Fold 2/3\n"
     ]
    },
    {
     "name": "stderr",
     "output_type": "stream",
     "text": [
      "/home/eduardo/Documentos/Water-Cycle-Neural-Network/venv/lib/python3.12/site-packages/optuna/trial/_trial.py:497: UserWarning: The reported value is ignored because this `step` 0 is already reported.\n",
      "  warnings.warn(\n",
      "Metric val_loss improved by 0.097 >= min_delta = 0.0005. New best score: 0.010\n",
      "/home/eduardo/Documentos/Water-Cycle-Neural-Network/venv/lib/python3.12/site-packages/optuna/trial/_trial.py:497: UserWarning: The reported value is ignored because this `step` 1 is already reported.\n",
      "  warnings.warn(\n",
      "Metric val_loss improved by 0.001 >= min_delta = 0.0005. New best score: 0.009\n",
      "/home/eduardo/Documentos/Water-Cycle-Neural-Network/venv/lib/python3.12/site-packages/optuna/trial/_trial.py:497: UserWarning: The reported value is ignored because this `step` 2 is already reported.\n",
      "  warnings.warn(\n",
      "/home/eduardo/Documentos/Water-Cycle-Neural-Network/venv/lib/python3.12/site-packages/optuna/trial/_trial.py:497: UserWarning: The reported value is ignored because this `step` 3 is already reported.\n",
      "  warnings.warn(\n",
      "/home/eduardo/Documentos/Water-Cycle-Neural-Network/venv/lib/python3.12/site-packages/optuna/trial/_trial.py:497: UserWarning: The reported value is ignored because this `step` 4 is already reported.\n",
      "  warnings.warn(\n",
      "/home/eduardo/Documentos/Water-Cycle-Neural-Network/venv/lib/python3.12/site-packages/optuna/trial/_trial.py:497: UserWarning: The reported value is ignored because this `step` 5 is already reported.\n",
      "  warnings.warn(\n",
      "/home/eduardo/Documentos/Water-Cycle-Neural-Network/venv/lib/python3.12/site-packages/optuna/trial/_trial.py:497: UserWarning: The reported value is ignored because this `step` 6 is already reported.\n",
      "  warnings.warn(\n",
      "/home/eduardo/Documentos/Water-Cycle-Neural-Network/venv/lib/python3.12/site-packages/optuna/trial/_trial.py:497: UserWarning: The reported value is ignored because this `step` 7 is already reported.\n",
      "  warnings.warn(\n",
      "/home/eduardo/Documentos/Water-Cycle-Neural-Network/venv/lib/python3.12/site-packages/optuna/trial/_trial.py:497: UserWarning: The reported value is ignored because this `step` 8 is already reported.\n",
      "  warnings.warn(\n",
      "/home/eduardo/Documentos/Water-Cycle-Neural-Network/venv/lib/python3.12/site-packages/optuna/trial/_trial.py:497: UserWarning: The reported value is ignored because this `step` 9 is already reported.\n",
      "  warnings.warn(\n",
      "/home/eduardo/Documentos/Water-Cycle-Neural-Network/venv/lib/python3.12/site-packages/optuna/trial/_trial.py:497: UserWarning: The reported value is ignored because this `step` 10 is already reported.\n",
      "  warnings.warn(\n",
      "/home/eduardo/Documentos/Water-Cycle-Neural-Network/venv/lib/python3.12/site-packages/optuna/trial/_trial.py:497: UserWarning: The reported value is ignored because this `step` 11 is already reported.\n",
      "  warnings.warn(\n",
      "/home/eduardo/Documentos/Water-Cycle-Neural-Network/venv/lib/python3.12/site-packages/optuna/trial/_trial.py:497: UserWarning: The reported value is ignored because this `step` 12 is already reported.\n",
      "  warnings.warn(\n",
      "/home/eduardo/Documentos/Water-Cycle-Neural-Network/venv/lib/python3.12/site-packages/optuna/trial/_trial.py:497: UserWarning: The reported value is ignored because this `step` 13 is already reported.\n",
      "  warnings.warn(\n",
      "/home/eduardo/Documentos/Water-Cycle-Neural-Network/venv/lib/python3.12/site-packages/optuna/trial/_trial.py:497: UserWarning: The reported value is ignored because this `step` 14 is already reported.\n",
      "  warnings.warn(\n",
      "/home/eduardo/Documentos/Water-Cycle-Neural-Network/venv/lib/python3.12/site-packages/optuna/trial/_trial.py:497: UserWarning: The reported value is ignored because this `step` 15 is already reported.\n",
      "  warnings.warn(\n",
      "/home/eduardo/Documentos/Water-Cycle-Neural-Network/venv/lib/python3.12/site-packages/optuna/trial/_trial.py:497: UserWarning: The reported value is ignored because this `step` 16 is already reported.\n",
      "  warnings.warn(\n",
      "Monitored metric val_loss did not improve in the last 15 records. Best score: 0.009. Signaling Trainer to stop.\n",
      "GPU available: True (cuda), used: True\n",
      "TPU available: False, using: 0 TPU cores\n",
      "HPU available: False, using: 0 HPUs\n",
      "LOCAL_RANK: 0 - CUDA_VISIBLE_DEVICES: [0]\n"
     ]
    },
    {
     "name": "stdout",
     "output_type": "stream",
     "text": [
      "Model loaded from checkpoint for trial 44, fold 1\n"
     ]
    },
    {
     "name": "stderr",
     "output_type": "stream",
     "text": [
      "GPU available: True (cuda), used: True\n",
      "TPU available: False, using: 0 TPU cores\n",
      "HPU available: False, using: 0 HPUs\n",
      "LOCAL_RANK: 0 - CUDA_VISIBLE_DEVICES: [0]\n"
     ]
    },
    {
     "name": "stdout",
     "output_type": "stream",
     "text": [
      "SMAPE fold 1: 50.91466955821424\n",
      "\n",
      "Fold 3/3\n"
     ]
    },
    {
     "name": "stderr",
     "output_type": "stream",
     "text": [
      "/home/eduardo/Documentos/Water-Cycle-Neural-Network/venv/lib/python3.12/site-packages/optuna/trial/_trial.py:497: UserWarning: The reported value is ignored because this `step` 0 is already reported.\n",
      "  warnings.warn(\n",
      "Monitored metric val_loss did not improve in the last 16 records. Best score: 0.009. Signaling Trainer to stop.\n",
      "GPU available: True (cuda), used: True\n",
      "TPU available: False, using: 0 TPU cores\n",
      "HPU available: False, using: 0 HPUs\n",
      "LOCAL_RANK: 0 - CUDA_VISIBLE_DEVICES: [0]\n"
     ]
    },
    {
     "name": "stdout",
     "output_type": "stream",
     "text": [
      "Model loaded from checkpoint for trial 44, fold 2\n"
     ]
    },
    {
     "name": "stderr",
     "output_type": "stream",
     "text": [
      "[I 2025-06-09 14:47:02,082] Trial 44 finished with value: 51.11153411228964 and parameters: {'input_chunk_length': 36, 'hidden_size': 88, 'dropout': 0.15000000000000002, 'batch_size': 128, 'lr': 0.0031339481418702917, 'weight_decay': 0.0008327782479226364, 'num_encoder_layers': 4, 'num_decoder_layers': 1, 'temporal_width_past': 2, 'temporal_width_future': 1, 'use_reversible_instance_norm': True, 'temporal_hidden_size_past': 72, 'temporal_hidden_size_future': 144}. Best is trial 22 with value: 50.774799418712945.\n",
      "GPU available: True (cuda), used: True\n",
      "TPU available: False, using: 0 TPU cores\n",
      "HPU available: False, using: 0 HPUs\n",
      "LOCAL_RANK: 0 - CUDA_VISIBLE_DEVICES: [0]\n"
     ]
    },
    {
     "name": "stdout",
     "output_type": "stream",
     "text": [
      "SMAPE fold 2: 53.80039251153154\n",
      "Média dos SMAPE nos folds: 51.11153411228964\n",
      "Results of trial 44 saved in optuna_iteration_metrics/trial_44.json\n",
      "Current value: 51.11153411228964, Current params: {'input_chunk_length': 36, 'hidden_size': 88, 'dropout': 0.15000000000000002, 'batch_size': 128, 'lr': 0.0031339481418702917, 'weight_decay': 0.0008327782479226364, 'num_encoder_layers': 4, 'num_decoder_layers': 1, 'temporal_width_past': 2, 'temporal_width_future': 1, 'use_reversible_instance_norm': True, 'temporal_hidden_size_past': 72, 'temporal_hidden_size_future': 144}\n",
      "Best value: 50.774799418712945, Best params: {'input_chunk_length': 48, 'hidden_size': 56, 'dropout': 0.15000000000000002, 'batch_size': 136, 'lr': 0.004037485712715622, 'weight_decay': 0.00042665070953740137, 'num_encoder_layers': 4, 'num_decoder_layers': 2, 'temporal_width_past': 3, 'temporal_width_future': 1, 'use_reversible_instance_norm': True, 'temporal_hidden_size_past': 132, 'temporal_hidden_size_future': 132}\n",
      "\n",
      "Fold 1/3\n"
     ]
    },
    {
     "name": "stderr",
     "output_type": "stream",
     "text": [
      "Metric val_loss improved. New best score: 0.125\n",
      "Metric val_loss improved by 0.003 >= min_delta = 0.0005. New best score: 0.122\n",
      "Metric val_loss improved by 0.003 >= min_delta = 0.0005. New best score: 0.119\n",
      "Metric val_loss improved by 0.001 >= min_delta = 0.0005. New best score: 0.118\n",
      "Metric val_loss improved by 0.002 >= min_delta = 0.0005. New best score: 0.116\n",
      "Metric val_loss improved by 0.001 >= min_delta = 0.0005. New best score: 0.115\n",
      "Metric val_loss improved by 0.002 >= min_delta = 0.0005. New best score: 0.113\n",
      "Metric val_loss improved by 0.002 >= min_delta = 0.0005. New best score: 0.111\n",
      "Metric val_loss improved by 0.001 >= min_delta = 0.0005. New best score: 0.110\n",
      "Metric val_loss improved by 0.001 >= min_delta = 0.0005. New best score: 0.109\n",
      "Metric val_loss improved by 0.001 >= min_delta = 0.0005. New best score: 0.108\n",
      "Metric val_loss improved by 0.001 >= min_delta = 0.0005. New best score: 0.107\n",
      "Metric val_loss improved by 0.001 >= min_delta = 0.0005. New best score: 0.106\n",
      "`Trainer.fit` stopped: `max_epochs=30` reached.\n",
      "GPU available: True (cuda), used: True\n",
      "TPU available: False, using: 0 TPU cores\n",
      "HPU available: False, using: 0 HPUs\n",
      "LOCAL_RANK: 0 - CUDA_VISIBLE_DEVICES: [0]\n"
     ]
    },
    {
     "name": "stdout",
     "output_type": "stream",
     "text": [
      "Model loaded from checkpoint for trial 45, fold 0\n"
     ]
    },
    {
     "name": "stderr",
     "output_type": "stream",
     "text": [
      "GPU available: True (cuda), used: True\n",
      "TPU available: False, using: 0 TPU cores\n",
      "HPU available: False, using: 0 HPUs\n",
      "LOCAL_RANK: 0 - CUDA_VISIBLE_DEVICES: [0]\n"
     ]
    },
    {
     "name": "stdout",
     "output_type": "stream",
     "text": [
      "SMAPE fold 0: 48.87292282647364\n",
      "\n",
      "Fold 2/3\n"
     ]
    },
    {
     "name": "stderr",
     "output_type": "stream",
     "text": [
      "/home/eduardo/Documentos/Water-Cycle-Neural-Network/venv/lib/python3.12/site-packages/optuna/trial/_trial.py:497: UserWarning: The reported value is ignored because this `step` 0 is already reported.\n",
      "  warnings.warn(\n",
      "Metric val_loss improved by 0.096 >= min_delta = 0.0005. New best score: 0.009\n",
      "/home/eduardo/Documentos/Water-Cycle-Neural-Network/venv/lib/python3.12/site-packages/optuna/trial/_trial.py:497: UserWarning: The reported value is ignored because this `step` 1 is already reported.\n",
      "  warnings.warn(\n",
      "/home/eduardo/Documentos/Water-Cycle-Neural-Network/venv/lib/python3.12/site-packages/optuna/trial/_trial.py:497: UserWarning: The reported value is ignored because this `step` 2 is already reported.\n",
      "  warnings.warn(\n",
      "/home/eduardo/Documentos/Water-Cycle-Neural-Network/venv/lib/python3.12/site-packages/optuna/trial/_trial.py:497: UserWarning: The reported value is ignored because this `step` 3 is already reported.\n",
      "  warnings.warn(\n",
      "/home/eduardo/Documentos/Water-Cycle-Neural-Network/venv/lib/python3.12/site-packages/optuna/trial/_trial.py:497: UserWarning: The reported value is ignored because this `step` 4 is already reported.\n",
      "  warnings.warn(\n",
      "/home/eduardo/Documentos/Water-Cycle-Neural-Network/venv/lib/python3.12/site-packages/optuna/trial/_trial.py:497: UserWarning: The reported value is ignored because this `step` 5 is already reported.\n",
      "  warnings.warn(\n",
      "/home/eduardo/Documentos/Water-Cycle-Neural-Network/venv/lib/python3.12/site-packages/optuna/trial/_trial.py:497: UserWarning: The reported value is ignored because this `step` 6 is already reported.\n",
      "  warnings.warn(\n",
      "/home/eduardo/Documentos/Water-Cycle-Neural-Network/venv/lib/python3.12/site-packages/optuna/trial/_trial.py:497: UserWarning: The reported value is ignored because this `step` 7 is already reported.\n",
      "  warnings.warn(\n",
      "/home/eduardo/Documentos/Water-Cycle-Neural-Network/venv/lib/python3.12/site-packages/optuna/trial/_trial.py:497: UserWarning: The reported value is ignored because this `step` 8 is already reported.\n",
      "  warnings.warn(\n",
      "/home/eduardo/Documentos/Water-Cycle-Neural-Network/venv/lib/python3.12/site-packages/optuna/trial/_trial.py:497: UserWarning: The reported value is ignored because this `step` 9 is already reported.\n",
      "  warnings.warn(\n",
      "/home/eduardo/Documentos/Water-Cycle-Neural-Network/venv/lib/python3.12/site-packages/optuna/trial/_trial.py:497: UserWarning: The reported value is ignored because this `step` 10 is already reported.\n",
      "  warnings.warn(\n",
      "/home/eduardo/Documentos/Water-Cycle-Neural-Network/venv/lib/python3.12/site-packages/optuna/trial/_trial.py:497: UserWarning: The reported value is ignored because this `step` 11 is already reported.\n",
      "  warnings.warn(\n",
      "/home/eduardo/Documentos/Water-Cycle-Neural-Network/venv/lib/python3.12/site-packages/optuna/trial/_trial.py:497: UserWarning: The reported value is ignored because this `step` 12 is already reported.\n",
      "  warnings.warn(\n",
      "/home/eduardo/Documentos/Water-Cycle-Neural-Network/venv/lib/python3.12/site-packages/optuna/trial/_trial.py:497: UserWarning: The reported value is ignored because this `step` 13 is already reported.\n",
      "  warnings.warn(\n",
      "/home/eduardo/Documentos/Water-Cycle-Neural-Network/venv/lib/python3.12/site-packages/optuna/trial/_trial.py:497: UserWarning: The reported value is ignored because this `step` 14 is already reported.\n",
      "  warnings.warn(\n",
      "/home/eduardo/Documentos/Water-Cycle-Neural-Network/venv/lib/python3.12/site-packages/optuna/trial/_trial.py:497: UserWarning: The reported value is ignored because this `step` 15 is already reported.\n",
      "  warnings.warn(\n",
      "Monitored metric val_loss did not improve in the last 15 records. Best score: 0.009. Signaling Trainer to stop.\n",
      "GPU available: True (cuda), used: True\n",
      "TPU available: False, using: 0 TPU cores\n",
      "HPU available: False, using: 0 HPUs\n",
      "LOCAL_RANK: 0 - CUDA_VISIBLE_DEVICES: [0]\n"
     ]
    },
    {
     "name": "stdout",
     "output_type": "stream",
     "text": [
      "Model loaded from checkpoint for trial 45, fold 1\n"
     ]
    },
    {
     "name": "stderr",
     "output_type": "stream",
     "text": [
      "GPU available: True (cuda), used: True\n",
      "TPU available: False, using: 0 TPU cores\n",
      "HPU available: False, using: 0 HPUs\n",
      "LOCAL_RANK: 0 - CUDA_VISIBLE_DEVICES: [0]\n"
     ]
    },
    {
     "name": "stdout",
     "output_type": "stream",
     "text": [
      "SMAPE fold 1: 51.116335491888435\n",
      "\n",
      "Fold 3/3\n"
     ]
    },
    {
     "name": "stderr",
     "output_type": "stream",
     "text": [
      "/home/eduardo/Documentos/Water-Cycle-Neural-Network/venv/lib/python3.12/site-packages/optuna/trial/_trial.py:497: UserWarning: The reported value is ignored because this `step` 0 is already reported.\n",
      "  warnings.warn(\n",
      "Monitored metric val_loss did not improve in the last 16 records. Best score: 0.009. Signaling Trainer to stop.\n",
      "GPU available: True (cuda), used: True\n",
      "TPU available: False, using: 0 TPU cores\n",
      "HPU available: False, using: 0 HPUs\n",
      "LOCAL_RANK: 0 - CUDA_VISIBLE_DEVICES: [0]\n"
     ]
    },
    {
     "name": "stdout",
     "output_type": "stream",
     "text": [
      "Model loaded from checkpoint for trial 45, fold 2\n"
     ]
    },
    {
     "name": "stderr",
     "output_type": "stream",
     "text": [
      "[I 2025-06-09 14:48:05,183] Trial 45 finished with value: 51.064035084621935 and parameters: {'input_chunk_length': 24, 'hidden_size': 88, 'dropout': 0.2, 'batch_size': 128, 'lr': 0.004982073857593194, 'weight_decay': 0.0050675075751496455, 'num_encoder_layers': 4, 'num_decoder_layers': 2, 'temporal_width_past': 2, 'temporal_width_future': 1, 'use_reversible_instance_norm': True, 'temporal_hidden_size_past': 48, 'temporal_hidden_size_future': 144}. Best is trial 22 with value: 50.774799418712945.\n",
      "GPU available: True (cuda), used: True\n",
      "TPU available: False, using: 0 TPU cores\n",
      "HPU available: False, using: 0 HPUs\n",
      "LOCAL_RANK: 0 - CUDA_VISIBLE_DEVICES: [0]\n"
     ]
    },
    {
     "name": "stdout",
     "output_type": "stream",
     "text": [
      "SMAPE fold 2: 53.202846935503715\n",
      "Média dos SMAPE nos folds: 51.064035084621935\n",
      "Results of trial 45 saved in optuna_iteration_metrics/trial_45.json\n",
      "Current value: 51.064035084621935, Current params: {'input_chunk_length': 24, 'hidden_size': 88, 'dropout': 0.2, 'batch_size': 128, 'lr': 0.004982073857593194, 'weight_decay': 0.0050675075751496455, 'num_encoder_layers': 4, 'num_decoder_layers': 2, 'temporal_width_past': 2, 'temporal_width_future': 1, 'use_reversible_instance_norm': True, 'temporal_hidden_size_past': 48, 'temporal_hidden_size_future': 144}\n",
      "Best value: 50.774799418712945, Best params: {'input_chunk_length': 48, 'hidden_size': 56, 'dropout': 0.15000000000000002, 'batch_size': 136, 'lr': 0.004037485712715622, 'weight_decay': 0.00042665070953740137, 'num_encoder_layers': 4, 'num_decoder_layers': 2, 'temporal_width_past': 3, 'temporal_width_future': 1, 'use_reversible_instance_norm': True, 'temporal_hidden_size_past': 132, 'temporal_hidden_size_future': 132}\n",
      "\n",
      "Fold 1/3\n"
     ]
    },
    {
     "name": "stderr",
     "output_type": "stream",
     "text": [
      "[I 2025-06-09 14:48:07,107] Trial 46 pruned. Trial was pruned at epoch 0.\n",
      "GPU available: True (cuda), used: True\n",
      "TPU available: False, using: 0 TPU cores\n",
      "HPU available: False, using: 0 HPUs\n",
      "LOCAL_RANK: 0 - CUDA_VISIBLE_DEVICES: [0]\n"
     ]
    },
    {
     "name": "stdout",
     "output_type": "stream",
     "text": [
      "Current value: 2.6078632624046505, Current params: {'input_chunk_length': 24, 'hidden_size': 112, 'dropout': 0.2, 'batch_size': 112, 'lr': 0.003448976265022876, 'weight_decay': 0.009617063976314877, 'num_encoder_layers': 3, 'num_decoder_layers': 3, 'temporal_width_past': 2, 'temporal_width_future': 1, 'use_reversible_instance_norm': False, 'temporal_hidden_size_past': 36, 'temporal_hidden_size_future': 156}\n",
      "Best value: 50.774799418712945, Best params: {'input_chunk_length': 48, 'hidden_size': 56, 'dropout': 0.15000000000000002, 'batch_size': 136, 'lr': 0.004037485712715622, 'weight_decay': 0.00042665070953740137, 'num_encoder_layers': 4, 'num_decoder_layers': 2, 'temporal_width_past': 3, 'temporal_width_future': 1, 'use_reversible_instance_norm': True, 'temporal_hidden_size_past': 132, 'temporal_hidden_size_future': 132}\n",
      "\n",
      "Fold 1/3\n"
     ]
    },
    {
     "name": "stderr",
     "output_type": "stream",
     "text": [
      "Metric val_loss improved. New best score: 0.126\n",
      "Metric val_loss improved by 0.008 >= min_delta = 0.0005. New best score: 0.118\n",
      "Metric val_loss improved by 0.002 >= min_delta = 0.0005. New best score: 0.116\n",
      "Metric val_loss improved by 0.002 >= min_delta = 0.0005. New best score: 0.114\n",
      "Metric val_loss improved by 0.002 >= min_delta = 0.0005. New best score: 0.111\n",
      "Metric val_loss improved by 0.002 >= min_delta = 0.0005. New best score: 0.109\n",
      "Metric val_loss improved by 0.002 >= min_delta = 0.0005. New best score: 0.107\n",
      "Monitored metric val_loss did not improve in the last 15 records. Best score: 0.107. Signaling Trainer to stop.\n",
      "GPU available: True (cuda), used: True\n",
      "TPU available: False, using: 0 TPU cores\n",
      "HPU available: False, using: 0 HPUs\n",
      "LOCAL_RANK: 0 - CUDA_VISIBLE_DEVICES: [0]\n"
     ]
    },
    {
     "name": "stdout",
     "output_type": "stream",
     "text": [
      "Model loaded from checkpoint for trial 47, fold 0\n"
     ]
    },
    {
     "name": "stderr",
     "output_type": "stream",
     "text": [
      "GPU available: True (cuda), used: True\n",
      "TPU available: False, using: 0 TPU cores\n",
      "HPU available: False, using: 0 HPUs\n",
      "LOCAL_RANK: 0 - CUDA_VISIBLE_DEVICES: [0]\n"
     ]
    },
    {
     "name": "stdout",
     "output_type": "stream",
     "text": [
      "SMAPE fold 0: 48.71289102691502\n",
      "\n",
      "Fold 2/3\n"
     ]
    },
    {
     "name": "stderr",
     "output_type": "stream",
     "text": [
      "/home/eduardo/Documentos/Water-Cycle-Neural-Network/venv/lib/python3.12/site-packages/optuna/trial/_trial.py:497: UserWarning: The reported value is ignored because this `step` 0 is already reported.\n",
      "  warnings.warn(\n",
      "Metric val_loss improved by 0.097 >= min_delta = 0.0005. New best score: 0.009\n",
      "/home/eduardo/Documentos/Water-Cycle-Neural-Network/venv/lib/python3.12/site-packages/optuna/trial/_trial.py:497: UserWarning: The reported value is ignored because this `step` 1 is already reported.\n",
      "  warnings.warn(\n",
      "/home/eduardo/Documentos/Water-Cycle-Neural-Network/venv/lib/python3.12/site-packages/optuna/trial/_trial.py:497: UserWarning: The reported value is ignored because this `step` 2 is already reported.\n",
      "  warnings.warn(\n",
      "/home/eduardo/Documentos/Water-Cycle-Neural-Network/venv/lib/python3.12/site-packages/optuna/trial/_trial.py:497: UserWarning: The reported value is ignored because this `step` 3 is already reported.\n",
      "  warnings.warn(\n",
      "/home/eduardo/Documentos/Water-Cycle-Neural-Network/venv/lib/python3.12/site-packages/optuna/trial/_trial.py:497: UserWarning: The reported value is ignored because this `step` 4 is already reported.\n",
      "  warnings.warn(\n",
      "/home/eduardo/Documentos/Water-Cycle-Neural-Network/venv/lib/python3.12/site-packages/optuna/trial/_trial.py:497: UserWarning: The reported value is ignored because this `step` 5 is already reported.\n",
      "  warnings.warn(\n",
      "/home/eduardo/Documentos/Water-Cycle-Neural-Network/venv/lib/python3.12/site-packages/optuna/trial/_trial.py:497: UserWarning: The reported value is ignored because this `step` 6 is already reported.\n",
      "  warnings.warn(\n",
      "/home/eduardo/Documentos/Water-Cycle-Neural-Network/venv/lib/python3.12/site-packages/optuna/trial/_trial.py:497: UserWarning: The reported value is ignored because this `step` 7 is already reported.\n",
      "  warnings.warn(\n",
      "/home/eduardo/Documentos/Water-Cycle-Neural-Network/venv/lib/python3.12/site-packages/optuna/trial/_trial.py:497: UserWarning: The reported value is ignored because this `step` 8 is already reported.\n",
      "  warnings.warn(\n",
      "/home/eduardo/Documentos/Water-Cycle-Neural-Network/venv/lib/python3.12/site-packages/optuna/trial/_trial.py:497: UserWarning: The reported value is ignored because this `step` 9 is already reported.\n",
      "  warnings.warn(\n",
      "/home/eduardo/Documentos/Water-Cycle-Neural-Network/venv/lib/python3.12/site-packages/optuna/trial/_trial.py:497: UserWarning: The reported value is ignored because this `step` 10 is already reported.\n",
      "  warnings.warn(\n",
      "/home/eduardo/Documentos/Water-Cycle-Neural-Network/venv/lib/python3.12/site-packages/optuna/trial/_trial.py:497: UserWarning: The reported value is ignored because this `step` 11 is already reported.\n",
      "  warnings.warn(\n",
      "/home/eduardo/Documentos/Water-Cycle-Neural-Network/venv/lib/python3.12/site-packages/optuna/trial/_trial.py:497: UserWarning: The reported value is ignored because this `step` 12 is already reported.\n",
      "  warnings.warn(\n",
      "/home/eduardo/Documentos/Water-Cycle-Neural-Network/venv/lib/python3.12/site-packages/optuna/trial/_trial.py:497: UserWarning: The reported value is ignored because this `step` 13 is already reported.\n",
      "  warnings.warn(\n",
      "/home/eduardo/Documentos/Water-Cycle-Neural-Network/venv/lib/python3.12/site-packages/optuna/trial/_trial.py:497: UserWarning: The reported value is ignored because this `step` 14 is already reported.\n",
      "  warnings.warn(\n",
      "/home/eduardo/Documentos/Water-Cycle-Neural-Network/venv/lib/python3.12/site-packages/optuna/trial/_trial.py:497: UserWarning: The reported value is ignored because this `step` 15 is already reported.\n",
      "  warnings.warn(\n",
      "Monitored metric val_loss did not improve in the last 15 records. Best score: 0.009. Signaling Trainer to stop.\n",
      "GPU available: True (cuda), used: True\n",
      "TPU available: False, using: 0 TPU cores\n",
      "HPU available: False, using: 0 HPUs\n",
      "LOCAL_RANK: 0 - CUDA_VISIBLE_DEVICES: [0]\n"
     ]
    },
    {
     "name": "stdout",
     "output_type": "stream",
     "text": [
      "Model loaded from checkpoint for trial 47, fold 1\n"
     ]
    },
    {
     "name": "stderr",
     "output_type": "stream",
     "text": [
      "GPU available: True (cuda), used: True\n",
      "TPU available: False, using: 0 TPU cores\n",
      "HPU available: False, using: 0 HPUs\n",
      "LOCAL_RANK: 0 - CUDA_VISIBLE_DEVICES: [0]\n"
     ]
    },
    {
     "name": "stdout",
     "output_type": "stream",
     "text": [
      "SMAPE fold 1: 51.049471764798156\n",
      "\n",
      "Fold 3/3\n"
     ]
    },
    {
     "name": "stderr",
     "output_type": "stream",
     "text": [
      "/home/eduardo/Documentos/Water-Cycle-Neural-Network/venv/lib/python3.12/site-packages/optuna/trial/_trial.py:497: UserWarning: The reported value is ignored because this `step` 0 is already reported.\n",
      "  warnings.warn(\n",
      "Monitored metric val_loss did not improve in the last 16 records. Best score: 0.009. Signaling Trainer to stop.\n",
      "GPU available: True (cuda), used: True\n",
      "TPU available: False, using: 0 TPU cores\n",
      "HPU available: False, using: 0 HPUs\n",
      "LOCAL_RANK: 0 - CUDA_VISIBLE_DEVICES: [0]\n"
     ]
    },
    {
     "name": "stdout",
     "output_type": "stream",
     "text": [
      "Model loaded from checkpoint for trial 47, fold 2\n"
     ]
    },
    {
     "name": "stderr",
     "output_type": "stream",
     "text": [
      "[I 2025-06-09 14:50:02,174] Trial 47 finished with value: 50.75775809776286 and parameters: {'input_chunk_length': 24, 'hidden_size': 128, 'dropout': 0.30000000000000004, 'batch_size': 88, 'lr': 0.004956395234150667, 'weight_decay': 0.0026094146411939495, 'num_encoder_layers': 4, 'num_decoder_layers': 2, 'temporal_width_past': 3, 'temporal_width_future': 1, 'use_reversible_instance_norm': True, 'temporal_hidden_size_past': 48, 'temporal_hidden_size_future': 144}. Best is trial 47 with value: 50.75775809776286.\n",
      "GPU available: True (cuda), used: True\n",
      "TPU available: False, using: 0 TPU cores\n",
      "HPU available: False, using: 0 HPUs\n",
      "LOCAL_RANK: 0 - CUDA_VISIBLE_DEVICES: [0]\n"
     ]
    },
    {
     "name": "stdout",
     "output_type": "stream",
     "text": [
      "SMAPE fold 2: 52.51091150157539\n",
      "Média dos SMAPE nos folds: 50.75775809776286\n",
      "Results of trial 47 saved in optuna_iteration_metrics/trial_47.json\n",
      "Current value: 50.75775809776286, Current params: {'input_chunk_length': 24, 'hidden_size': 128, 'dropout': 0.30000000000000004, 'batch_size': 88, 'lr': 0.004956395234150667, 'weight_decay': 0.0026094146411939495, 'num_encoder_layers': 4, 'num_decoder_layers': 2, 'temporal_width_past': 3, 'temporal_width_future': 1, 'use_reversible_instance_norm': True, 'temporal_hidden_size_past': 48, 'temporal_hidden_size_future': 144}\n",
      "Best value: 50.75775809776286, Best params: {'input_chunk_length': 24, 'hidden_size': 128, 'dropout': 0.30000000000000004, 'batch_size': 88, 'lr': 0.004956395234150667, 'weight_decay': 0.0026094146411939495, 'num_encoder_layers': 4, 'num_decoder_layers': 2, 'temporal_width_past': 3, 'temporal_width_future': 1, 'use_reversible_instance_norm': True, 'temporal_hidden_size_past': 48, 'temporal_hidden_size_future': 144}\n",
      "\n",
      "Fold 1/3\n"
     ]
    },
    {
     "name": "stderr",
     "output_type": "stream",
     "text": [
      "Metric val_loss improved. New best score: 0.125\n",
      "Metric val_loss improved by 0.005 >= min_delta = 0.0005. New best score: 0.120\n",
      "Metric val_loss improved by 0.003 >= min_delta = 0.0005. New best score: 0.117\n",
      "Metric val_loss improved by 0.002 >= min_delta = 0.0005. New best score: 0.115\n",
      "Metric val_loss improved by 0.003 >= min_delta = 0.0005. New best score: 0.112\n",
      "Metric val_loss improved by 0.002 >= min_delta = 0.0005. New best score: 0.110\n",
      "Metric val_loss improved by 0.001 >= min_delta = 0.0005. New best score: 0.110\n",
      "Metric val_loss improved by 0.003 >= min_delta = 0.0005. New best score: 0.106\n",
      "Metric val_loss improved by 0.001 >= min_delta = 0.0005. New best score: 0.106\n",
      "`Trainer.fit` stopped: `max_epochs=30` reached.\n",
      "GPU available: True (cuda), used: True\n",
      "TPU available: False, using: 0 TPU cores\n",
      "HPU available: False, using: 0 HPUs\n",
      "LOCAL_RANK: 0 - CUDA_VISIBLE_DEVICES: [0]\n"
     ]
    },
    {
     "name": "stdout",
     "output_type": "stream",
     "text": [
      "Model loaded from checkpoint for trial 48, fold 0\n",
      "SMAPE fold 0: 48.653656812909375\n",
      "\n",
      "Fold 2/3\n"
     ]
    },
    {
     "name": "stderr",
     "output_type": "stream",
     "text": [
      "GPU available: True (cuda), used: True\n",
      "TPU available: False, using: 0 TPU cores\n",
      "HPU available: False, using: 0 HPUs\n",
      "LOCAL_RANK: 0 - CUDA_VISIBLE_DEVICES: [0]\n",
      "/home/eduardo/Documentos/Water-Cycle-Neural-Network/venv/lib/python3.12/site-packages/optuna/trial/_trial.py:497: UserWarning: The reported value is ignored because this `step` 0 is already reported.\n",
      "  warnings.warn(\n",
      "Metric val_loss improved by 0.097 >= min_delta = 0.0005. New best score: 0.009\n",
      "/home/eduardo/Documentos/Water-Cycle-Neural-Network/venv/lib/python3.12/site-packages/optuna/trial/_trial.py:497: UserWarning: The reported value is ignored because this `step` 1 is already reported.\n",
      "  warnings.warn(\n",
      "/home/eduardo/Documentos/Water-Cycle-Neural-Network/venv/lib/python3.12/site-packages/optuna/trial/_trial.py:497: UserWarning: The reported value is ignored because this `step` 2 is already reported.\n",
      "  warnings.warn(\n",
      "/home/eduardo/Documentos/Water-Cycle-Neural-Network/venv/lib/python3.12/site-packages/optuna/trial/_trial.py:497: UserWarning: The reported value is ignored because this `step` 3 is already reported.\n",
      "  warnings.warn(\n",
      "/home/eduardo/Documentos/Water-Cycle-Neural-Network/venv/lib/python3.12/site-packages/optuna/trial/_trial.py:497: UserWarning: The reported value is ignored because this `step` 4 is already reported.\n",
      "  warnings.warn(\n",
      "/home/eduardo/Documentos/Water-Cycle-Neural-Network/venv/lib/python3.12/site-packages/optuna/trial/_trial.py:497: UserWarning: The reported value is ignored because this `step` 5 is already reported.\n",
      "  warnings.warn(\n",
      "/home/eduardo/Documentos/Water-Cycle-Neural-Network/venv/lib/python3.12/site-packages/optuna/trial/_trial.py:497: UserWarning: The reported value is ignored because this `step` 6 is already reported.\n",
      "  warnings.warn(\n",
      "/home/eduardo/Documentos/Water-Cycle-Neural-Network/venv/lib/python3.12/site-packages/optuna/trial/_trial.py:497: UserWarning: The reported value is ignored because this `step` 7 is already reported.\n",
      "  warnings.warn(\n",
      "/home/eduardo/Documentos/Water-Cycle-Neural-Network/venv/lib/python3.12/site-packages/optuna/trial/_trial.py:497: UserWarning: The reported value is ignored because this `step` 8 is already reported.\n",
      "  warnings.warn(\n",
      "/home/eduardo/Documentos/Water-Cycle-Neural-Network/venv/lib/python3.12/site-packages/optuna/trial/_trial.py:497: UserWarning: The reported value is ignored because this `step` 9 is already reported.\n",
      "  warnings.warn(\n",
      "/home/eduardo/Documentos/Water-Cycle-Neural-Network/venv/lib/python3.12/site-packages/optuna/trial/_trial.py:497: UserWarning: The reported value is ignored because this `step` 10 is already reported.\n",
      "  warnings.warn(\n",
      "/home/eduardo/Documentos/Water-Cycle-Neural-Network/venv/lib/python3.12/site-packages/optuna/trial/_trial.py:497: UserWarning: The reported value is ignored because this `step` 11 is already reported.\n",
      "  warnings.warn(\n",
      "/home/eduardo/Documentos/Water-Cycle-Neural-Network/venv/lib/python3.12/site-packages/optuna/trial/_trial.py:497: UserWarning: The reported value is ignored because this `step` 12 is already reported.\n",
      "  warnings.warn(\n",
      "/home/eduardo/Documentos/Water-Cycle-Neural-Network/venv/lib/python3.12/site-packages/optuna/trial/_trial.py:497: UserWarning: The reported value is ignored because this `step` 13 is already reported.\n",
      "  warnings.warn(\n",
      "/home/eduardo/Documentos/Water-Cycle-Neural-Network/venv/lib/python3.12/site-packages/optuna/trial/_trial.py:497: UserWarning: The reported value is ignored because this `step` 14 is already reported.\n",
      "  warnings.warn(\n",
      "/home/eduardo/Documentos/Water-Cycle-Neural-Network/venv/lib/python3.12/site-packages/optuna/trial/_trial.py:497: UserWarning: The reported value is ignored because this `step` 15 is already reported.\n",
      "  warnings.warn(\n",
      "Monitored metric val_loss did not improve in the last 15 records. Best score: 0.009. Signaling Trainer to stop.\n",
      "GPU available: True (cuda), used: True\n",
      "TPU available: False, using: 0 TPU cores\n",
      "HPU available: False, using: 0 HPUs\n",
      "LOCAL_RANK: 0 - CUDA_VISIBLE_DEVICES: [0]\n"
     ]
    },
    {
     "name": "stdout",
     "output_type": "stream",
     "text": [
      "Model loaded from checkpoint for trial 48, fold 1\n"
     ]
    },
    {
     "name": "stderr",
     "output_type": "stream",
     "text": [
      "GPU available: True (cuda), used: True\n",
      "TPU available: False, using: 0 TPU cores\n",
      "HPU available: False, using: 0 HPUs\n",
      "LOCAL_RANK: 0 - CUDA_VISIBLE_DEVICES: [0]\n"
     ]
    },
    {
     "name": "stdout",
     "output_type": "stream",
     "text": [
      "SMAPE fold 1: 51.08365794263541\n",
      "\n",
      "Fold 3/3\n"
     ]
    },
    {
     "name": "stderr",
     "output_type": "stream",
     "text": [
      "/home/eduardo/Documentos/Water-Cycle-Neural-Network/venv/lib/python3.12/site-packages/optuna/trial/_trial.py:497: UserWarning: The reported value is ignored because this `step` 0 is already reported.\n",
      "  warnings.warn(\n",
      "Monitored metric val_loss did not improve in the last 16 records. Best score: 0.009. Signaling Trainer to stop.\n",
      "GPU available: True (cuda), used: True\n",
      "TPU available: False, using: 0 TPU cores\n",
      "HPU available: False, using: 0 HPUs\n",
      "LOCAL_RANK: 0 - CUDA_VISIBLE_DEVICES: [0]\n"
     ]
    },
    {
     "name": "stdout",
     "output_type": "stream",
     "text": [
      "Model loaded from checkpoint for trial 48, fold 2\n"
     ]
    },
    {
     "name": "stderr",
     "output_type": "stream",
     "text": [
      "[I 2025-06-09 14:51:11,442] Trial 48 finished with value: 50.88405246710454 and parameters: {'input_chunk_length': 24, 'hidden_size': 128, 'dropout': 0.35, 'batch_size': 64, 'lr': 0.00462460683749393, 'weight_decay': 0.004792966478205099, 'num_encoder_layers': 3, 'num_decoder_layers': 2, 'temporal_width_past': 3, 'temporal_width_future': 1, 'use_reversible_instance_norm': True, 'temporal_hidden_size_past': 36, 'temporal_hidden_size_future': 168}. Best is trial 47 with value: 50.75775809776286.\n"
     ]
    },
    {
     "name": "stdout",
     "output_type": "stream",
     "text": [
      "SMAPE fold 2: 52.914842645768836\n",
      "Média dos SMAPE nos folds: 50.88405246710454\n",
      "Results of trial 48 saved in optuna_iteration_metrics/trial_48.json\n",
      "Current value: 50.88405246710454, Current params: {'input_chunk_length': 24, 'hidden_size': 128, 'dropout': 0.35, 'batch_size': 64, 'lr': 0.00462460683749393, 'weight_decay': 0.004792966478205099, 'num_encoder_layers': 3, 'num_decoder_layers': 2, 'temporal_width_past': 3, 'temporal_width_future': 1, 'use_reversible_instance_norm': True, 'temporal_hidden_size_past': 36, 'temporal_hidden_size_future': 168}\n",
      "Best value: 50.75775809776286, Best params: {'input_chunk_length': 24, 'hidden_size': 128, 'dropout': 0.30000000000000004, 'batch_size': 88, 'lr': 0.004956395234150667, 'weight_decay': 0.0026094146411939495, 'num_encoder_layers': 4, 'num_decoder_layers': 2, 'temporal_width_past': 3, 'temporal_width_future': 1, 'use_reversible_instance_norm': True, 'temporal_hidden_size_past': 48, 'temporal_hidden_size_future': 144}\n",
      "\n",
      "Fold 1/3\n"
     ]
    },
    {
     "name": "stderr",
     "output_type": "stream",
     "text": [
      "GPU available: True (cuda), used: True\n",
      "TPU available: False, using: 0 TPU cores\n",
      "HPU available: False, using: 0 HPUs\n",
      "LOCAL_RANK: 0 - CUDA_VISIBLE_DEVICES: [0]\n",
      "Metric val_loss improved. New best score: 0.139\n",
      "Metric val_loss improved by 0.010 >= min_delta = 0.0005. New best score: 0.129\n",
      "Metric val_loss improved by 0.005 >= min_delta = 0.0005. New best score: 0.124\n",
      "Metric val_loss improved by 0.002 >= min_delta = 0.0005. New best score: 0.121\n",
      "Metric val_loss improved by 0.002 >= min_delta = 0.0005. New best score: 0.119\n",
      "Metric val_loss improved by 0.002 >= min_delta = 0.0005. New best score: 0.118\n",
      "Metric val_loss improved by 0.001 >= min_delta = 0.0005. New best score: 0.117\n",
      "Metric val_loss improved by 0.002 >= min_delta = 0.0005. New best score: 0.115\n",
      "Metric val_loss improved by 0.002 >= min_delta = 0.0005. New best score: 0.113\n",
      "Metric val_loss improved by 0.001 >= min_delta = 0.0005. New best score: 0.113\n",
      "Metric val_loss improved by 0.001 >= min_delta = 0.0005. New best score: 0.112\n",
      "Metric val_loss improved by 0.001 >= min_delta = 0.0005. New best score: 0.111\n",
      "Metric val_loss improved by 0.001 >= min_delta = 0.0005. New best score: 0.110\n",
      "Metric val_loss improved by 0.001 >= min_delta = 0.0005. New best score: 0.109\n",
      "Metric val_loss improved by 0.001 >= min_delta = 0.0005. New best score: 0.108\n",
      "Metric val_loss improved by 0.001 >= min_delta = 0.0005. New best score: 0.107\n",
      "Metric val_loss improved by 0.001 >= min_delta = 0.0005. New best score: 0.106\n",
      "`Trainer.fit` stopped: `max_epochs=30` reached.\n",
      "GPU available: True (cuda), used: True\n",
      "TPU available: False, using: 0 TPU cores\n",
      "HPU available: False, using: 0 HPUs\n",
      "LOCAL_RANK: 0 - CUDA_VISIBLE_DEVICES: [0]\n"
     ]
    },
    {
     "name": "stdout",
     "output_type": "stream",
     "text": [
      "Model loaded from checkpoint for trial 49, fold 0\n"
     ]
    },
    {
     "name": "stderr",
     "output_type": "stream",
     "text": [
      "GPU available: True (cuda), used: True\n",
      "TPU available: False, using: 0 TPU cores\n",
      "HPU available: False, using: 0 HPUs\n",
      "LOCAL_RANK: 0 - CUDA_VISIBLE_DEVICES: [0]\n"
     ]
    },
    {
     "name": "stdout",
     "output_type": "stream",
     "text": [
      "SMAPE fold 0: 48.792976875023456\n",
      "\n",
      "Fold 2/3\n"
     ]
    },
    {
     "name": "stderr",
     "output_type": "stream",
     "text": [
      "/home/eduardo/Documentos/Water-Cycle-Neural-Network/venv/lib/python3.12/site-packages/optuna/trial/_trial.py:497: UserWarning: The reported value is ignored because this `step` 0 is already reported.\n",
      "  warnings.warn(\n",
      "Metric val_loss improved by 0.097 >= min_delta = 0.0005. New best score: 0.009\n",
      "/home/eduardo/Documentos/Water-Cycle-Neural-Network/venv/lib/python3.12/site-packages/optuna/trial/_trial.py:497: UserWarning: The reported value is ignored because this `step` 1 is already reported.\n",
      "  warnings.warn(\n",
      "/home/eduardo/Documentos/Water-Cycle-Neural-Network/venv/lib/python3.12/site-packages/optuna/trial/_trial.py:497: UserWarning: The reported value is ignored because this `step` 2 is already reported.\n",
      "  warnings.warn(\n",
      "/home/eduardo/Documentos/Water-Cycle-Neural-Network/venv/lib/python3.12/site-packages/optuna/trial/_trial.py:497: UserWarning: The reported value is ignored because this `step` 3 is already reported.\n",
      "  warnings.warn(\n",
      "/home/eduardo/Documentos/Water-Cycle-Neural-Network/venv/lib/python3.12/site-packages/optuna/trial/_trial.py:497: UserWarning: The reported value is ignored because this `step` 4 is already reported.\n",
      "  warnings.warn(\n",
      "/home/eduardo/Documentos/Water-Cycle-Neural-Network/venv/lib/python3.12/site-packages/optuna/trial/_trial.py:497: UserWarning: The reported value is ignored because this `step` 5 is already reported.\n",
      "  warnings.warn(\n",
      "/home/eduardo/Documentos/Water-Cycle-Neural-Network/venv/lib/python3.12/site-packages/optuna/trial/_trial.py:497: UserWarning: The reported value is ignored because this `step` 6 is already reported.\n",
      "  warnings.warn(\n",
      "/home/eduardo/Documentos/Water-Cycle-Neural-Network/venv/lib/python3.12/site-packages/optuna/trial/_trial.py:497: UserWarning: The reported value is ignored because this `step` 7 is already reported.\n",
      "  warnings.warn(\n",
      "/home/eduardo/Documentos/Water-Cycle-Neural-Network/venv/lib/python3.12/site-packages/optuna/trial/_trial.py:497: UserWarning: The reported value is ignored because this `step` 8 is already reported.\n",
      "  warnings.warn(\n",
      "/home/eduardo/Documentos/Water-Cycle-Neural-Network/venv/lib/python3.12/site-packages/optuna/trial/_trial.py:497: UserWarning: The reported value is ignored because this `step` 9 is already reported.\n",
      "  warnings.warn(\n",
      "/home/eduardo/Documentos/Water-Cycle-Neural-Network/venv/lib/python3.12/site-packages/optuna/trial/_trial.py:497: UserWarning: The reported value is ignored because this `step` 10 is already reported.\n",
      "  warnings.warn(\n",
      "/home/eduardo/Documentos/Water-Cycle-Neural-Network/venv/lib/python3.12/site-packages/optuna/trial/_trial.py:497: UserWarning: The reported value is ignored because this `step` 11 is already reported.\n",
      "  warnings.warn(\n",
      "/home/eduardo/Documentos/Water-Cycle-Neural-Network/venv/lib/python3.12/site-packages/optuna/trial/_trial.py:497: UserWarning: The reported value is ignored because this `step` 12 is already reported.\n",
      "  warnings.warn(\n",
      "/home/eduardo/Documentos/Water-Cycle-Neural-Network/venv/lib/python3.12/site-packages/optuna/trial/_trial.py:497: UserWarning: The reported value is ignored because this `step` 13 is already reported.\n",
      "  warnings.warn(\n",
      "/home/eduardo/Documentos/Water-Cycle-Neural-Network/venv/lib/python3.12/site-packages/optuna/trial/_trial.py:497: UserWarning: The reported value is ignored because this `step` 14 is already reported.\n",
      "  warnings.warn(\n",
      "/home/eduardo/Documentos/Water-Cycle-Neural-Network/venv/lib/python3.12/site-packages/optuna/trial/_trial.py:497: UserWarning: The reported value is ignored because this `step` 15 is already reported.\n",
      "  warnings.warn(\n",
      "Monitored metric val_loss did not improve in the last 15 records. Best score: 0.009. Signaling Trainer to stop.\n",
      "GPU available: True (cuda), used: True\n",
      "TPU available: False, using: 0 TPU cores\n",
      "HPU available: False, using: 0 HPUs\n",
      "LOCAL_RANK: 0 - CUDA_VISIBLE_DEVICES: [0]\n"
     ]
    },
    {
     "name": "stdout",
     "output_type": "stream",
     "text": [
      "Model loaded from checkpoint for trial 49, fold 1\n"
     ]
    },
    {
     "name": "stderr",
     "output_type": "stream",
     "text": [
      "GPU available: True (cuda), used: True\n",
      "TPU available: False, using: 0 TPU cores\n",
      "HPU available: False, using: 0 HPUs\n",
      "LOCAL_RANK: 0 - CUDA_VISIBLE_DEVICES: [0]\n"
     ]
    },
    {
     "name": "stdout",
     "output_type": "stream",
     "text": [
      "SMAPE fold 1: 51.076260016844756\n",
      "\n",
      "Fold 3/3\n"
     ]
    },
    {
     "name": "stderr",
     "output_type": "stream",
     "text": [
      "/home/eduardo/Documentos/Water-Cycle-Neural-Network/venv/lib/python3.12/site-packages/optuna/trial/_trial.py:497: UserWarning: The reported value is ignored because this `step` 0 is already reported.\n",
      "  warnings.warn(\n",
      "Monitored metric val_loss did not improve in the last 16 records. Best score: 0.009. Signaling Trainer to stop.\n",
      "GPU available: True (cuda), used: True\n",
      "TPU available: False, using: 0 TPU cores\n",
      "HPU available: False, using: 0 HPUs\n",
      "LOCAL_RANK: 0 - CUDA_VISIBLE_DEVICES: [0]\n"
     ]
    },
    {
     "name": "stdout",
     "output_type": "stream",
     "text": [
      "Model loaded from checkpoint for trial 49, fold 2\n"
     ]
    },
    {
     "name": "stderr",
     "output_type": "stream",
     "text": [
      "[I 2025-06-09 14:52:19,421] Trial 49 finished with value: 50.86905392278203 and parameters: {'input_chunk_length': 24, 'hidden_size': 128, 'dropout': 0.35, 'batch_size': 72, 'lr': 0.0019980175624282545, 'weight_decay': 0.0033173821818944065, 'num_encoder_layers': 3, 'num_decoder_layers': 2, 'temporal_width_past': 3, 'temporal_width_future': 1, 'use_reversible_instance_norm': True, 'temporal_hidden_size_past': 24, 'temporal_hidden_size_future': 168}. Best is trial 47 with value: 50.75775809776286.\n",
      "GPU available: True (cuda), used: True\n",
      "TPU available: False, using: 0 TPU cores\n",
      "HPU available: False, using: 0 HPUs\n",
      "LOCAL_RANK: 0 - CUDA_VISIBLE_DEVICES: [0]\n"
     ]
    },
    {
     "name": "stdout",
     "output_type": "stream",
     "text": [
      "SMAPE fold 2: 52.73792487647789\n",
      "Média dos SMAPE nos folds: 50.86905392278203\n",
      "Results of trial 49 saved in optuna_iteration_metrics/trial_49.json\n",
      "Current value: 50.86905392278203, Current params: {'input_chunk_length': 24, 'hidden_size': 128, 'dropout': 0.35, 'batch_size': 72, 'lr': 0.0019980175624282545, 'weight_decay': 0.0033173821818944065, 'num_encoder_layers': 3, 'num_decoder_layers': 2, 'temporal_width_past': 3, 'temporal_width_future': 1, 'use_reversible_instance_norm': True, 'temporal_hidden_size_past': 24, 'temporal_hidden_size_future': 168}\n",
      "Best value: 50.75775809776286, Best params: {'input_chunk_length': 24, 'hidden_size': 128, 'dropout': 0.30000000000000004, 'batch_size': 88, 'lr': 0.004956395234150667, 'weight_decay': 0.0026094146411939495, 'num_encoder_layers': 4, 'num_decoder_layers': 2, 'temporal_width_past': 3, 'temporal_width_future': 1, 'use_reversible_instance_norm': True, 'temporal_hidden_size_past': 48, 'temporal_hidden_size_future': 144}\n",
      "\n",
      "Fold 1/3\n"
     ]
    },
    {
     "name": "stderr",
     "output_type": "stream",
     "text": [
      "Metric val_loss improved. New best score: 0.136\n",
      "[I 2025-06-09 14:52:24,195] Trial 50 pruned. Trial was pruned at epoch 2.\n",
      "GPU available: True (cuda), used: True\n",
      "TPU available: False, using: 0 TPU cores\n",
      "HPU available: False, using: 0 HPUs\n",
      "LOCAL_RANK: 0 - CUDA_VISIBLE_DEVICES: [0]\n"
     ]
    },
    {
     "name": "stdout",
     "output_type": "stream",
     "text": [
      "Current value: 0.13585430246009791, Current params: {'input_chunk_length': 24, 'hidden_size': 136, 'dropout': 0.35, 'batch_size': 64, 'lr': 1.0248933270368211e-06, 'weight_decay': 0.004191530495923695, 'num_encoder_layers': 3, 'num_decoder_layers': 2, 'temporal_width_past': 3, 'temporal_width_future': 1, 'use_reversible_instance_norm': True, 'temporal_hidden_size_past': 24, 'temporal_hidden_size_future': 168}\n",
      "Best value: 50.75775809776286, Best params: {'input_chunk_length': 24, 'hidden_size': 128, 'dropout': 0.30000000000000004, 'batch_size': 88, 'lr': 0.004956395234150667, 'weight_decay': 0.0026094146411939495, 'num_encoder_layers': 4, 'num_decoder_layers': 2, 'temporal_width_past': 3, 'temporal_width_future': 1, 'use_reversible_instance_norm': True, 'temporal_hidden_size_past': 48, 'temporal_hidden_size_future': 144}\n",
      "\n",
      "Fold 1/3\n"
     ]
    },
    {
     "name": "stderr",
     "output_type": "stream",
     "text": [
      "Metric val_loss improved. New best score: 0.131\n",
      "Metric val_loss improved by 0.003 >= min_delta = 0.0005. New best score: 0.127\n",
      "Metric val_loss improved by 0.002 >= min_delta = 0.0005. New best score: 0.126\n",
      "Metric val_loss improved by 0.002 >= min_delta = 0.0005. New best score: 0.124\n",
      "Metric val_loss improved by 0.001 >= min_delta = 0.0005. New best score: 0.123\n",
      "Metric val_loss improved by 0.001 >= min_delta = 0.0005. New best score: 0.122\n",
      "Metric val_loss improved by 0.001 >= min_delta = 0.0005. New best score: 0.121\n",
      "Metric val_loss improved by 0.001 >= min_delta = 0.0005. New best score: 0.120\n",
      "Metric val_loss improved by 0.001 >= min_delta = 0.0005. New best score: 0.119\n",
      "Metric val_loss improved by 0.001 >= min_delta = 0.0005. New best score: 0.118\n",
      "Metric val_loss improved by 0.001 >= min_delta = 0.0005. New best score: 0.117\n",
      "Metric val_loss improved by 0.002 >= min_delta = 0.0005. New best score: 0.115\n",
      "Metric val_loss improved by 0.001 >= min_delta = 0.0005. New best score: 0.114\n",
      "Metric val_loss improved by 0.001 >= min_delta = 0.0005. New best score: 0.113\n",
      "Metric val_loss improved by 0.001 >= min_delta = 0.0005. New best score: 0.112\n",
      "Metric val_loss improved by 0.001 >= min_delta = 0.0005. New best score: 0.111\n",
      "Metric val_loss improved by 0.002 >= min_delta = 0.0005. New best score: 0.109\n",
      "Metric val_loss improved by 0.001 >= min_delta = 0.0005. New best score: 0.108\n",
      "Metric val_loss improved by 0.001 >= min_delta = 0.0005. New best score: 0.108\n",
      "Metric val_loss improved by 0.001 >= min_delta = 0.0005. New best score: 0.107\n",
      "Metric val_loss improved by 0.001 >= min_delta = 0.0005. New best score: 0.106\n",
      "`Trainer.fit` stopped: `max_epochs=30` reached.\n",
      "GPU available: True (cuda), used: True\n",
      "TPU available: False, using: 0 TPU cores\n",
      "HPU available: False, using: 0 HPUs\n",
      "LOCAL_RANK: 0 - CUDA_VISIBLE_DEVICES: [0]\n"
     ]
    },
    {
     "name": "stdout",
     "output_type": "stream",
     "text": [
      "Model loaded from checkpoint for trial 51, fold 0\n"
     ]
    },
    {
     "name": "stderr",
     "output_type": "stream",
     "text": [
      "GPU available: True (cuda), used: True\n",
      "TPU available: False, using: 0 TPU cores\n",
      "HPU available: False, using: 0 HPUs\n",
      "LOCAL_RANK: 0 - CUDA_VISIBLE_DEVICES: [0]\n"
     ]
    },
    {
     "name": "stdout",
     "output_type": "stream",
     "text": [
      "SMAPE fold 0: 48.99231034483165\n",
      "\n",
      "Fold 2/3\n"
     ]
    },
    {
     "name": "stderr",
     "output_type": "stream",
     "text": [
      "/home/eduardo/Documentos/Water-Cycle-Neural-Network/venv/lib/python3.12/site-packages/optuna/trial/_trial.py:497: UserWarning: The reported value is ignored because this `step` 0 is already reported.\n",
      "  warnings.warn(\n",
      "Metric val_loss improved by 0.096 >= min_delta = 0.0005. New best score: 0.010\n",
      "/home/eduardo/Documentos/Water-Cycle-Neural-Network/venv/lib/python3.12/site-packages/optuna/trial/_trial.py:497: UserWarning: The reported value is ignored because this `step` 1 is already reported.\n",
      "  warnings.warn(\n",
      "/home/eduardo/Documentos/Water-Cycle-Neural-Network/venv/lib/python3.12/site-packages/optuna/trial/_trial.py:497: UserWarning: The reported value is ignored because this `step` 2 is already reported.\n",
      "  warnings.warn(\n",
      "/home/eduardo/Documentos/Water-Cycle-Neural-Network/venv/lib/python3.12/site-packages/optuna/trial/_trial.py:497: UserWarning: The reported value is ignored because this `step` 3 is already reported.\n",
      "  warnings.warn(\n",
      "/home/eduardo/Documentos/Water-Cycle-Neural-Network/venv/lib/python3.12/site-packages/optuna/trial/_trial.py:497: UserWarning: The reported value is ignored because this `step` 4 is already reported.\n",
      "  warnings.warn(\n",
      "/home/eduardo/Documentos/Water-Cycle-Neural-Network/venv/lib/python3.12/site-packages/optuna/trial/_trial.py:497: UserWarning: The reported value is ignored because this `step` 5 is already reported.\n",
      "  warnings.warn(\n",
      "/home/eduardo/Documentos/Water-Cycle-Neural-Network/venv/lib/python3.12/site-packages/optuna/trial/_trial.py:497: UserWarning: The reported value is ignored because this `step` 6 is already reported.\n",
      "  warnings.warn(\n",
      "/home/eduardo/Documentos/Water-Cycle-Neural-Network/venv/lib/python3.12/site-packages/optuna/trial/_trial.py:497: UserWarning: The reported value is ignored because this `step` 7 is already reported.\n",
      "  warnings.warn(\n",
      "/home/eduardo/Documentos/Water-Cycle-Neural-Network/venv/lib/python3.12/site-packages/optuna/trial/_trial.py:497: UserWarning: The reported value is ignored because this `step` 8 is already reported.\n",
      "  warnings.warn(\n",
      "/home/eduardo/Documentos/Water-Cycle-Neural-Network/venv/lib/python3.12/site-packages/optuna/trial/_trial.py:497: UserWarning: The reported value is ignored because this `step` 9 is already reported.\n",
      "  warnings.warn(\n",
      "/home/eduardo/Documentos/Water-Cycle-Neural-Network/venv/lib/python3.12/site-packages/optuna/trial/_trial.py:497: UserWarning: The reported value is ignored because this `step` 10 is already reported.\n",
      "  warnings.warn(\n",
      "/home/eduardo/Documentos/Water-Cycle-Neural-Network/venv/lib/python3.12/site-packages/optuna/trial/_trial.py:497: UserWarning: The reported value is ignored because this `step` 11 is already reported.\n",
      "  warnings.warn(\n",
      "/home/eduardo/Documentos/Water-Cycle-Neural-Network/venv/lib/python3.12/site-packages/optuna/trial/_trial.py:497: UserWarning: The reported value is ignored because this `step` 12 is already reported.\n",
      "  warnings.warn(\n",
      "/home/eduardo/Documentos/Water-Cycle-Neural-Network/venv/lib/python3.12/site-packages/optuna/trial/_trial.py:497: UserWarning: The reported value is ignored because this `step` 13 is already reported.\n",
      "  warnings.warn(\n",
      "/home/eduardo/Documentos/Water-Cycle-Neural-Network/venv/lib/python3.12/site-packages/optuna/trial/_trial.py:497: UserWarning: The reported value is ignored because this `step` 14 is already reported.\n",
      "  warnings.warn(\n",
      "/home/eduardo/Documentos/Water-Cycle-Neural-Network/venv/lib/python3.12/site-packages/optuna/trial/_trial.py:497: UserWarning: The reported value is ignored because this `step` 15 is already reported.\n",
      "  warnings.warn(\n",
      "Monitored metric val_loss did not improve in the last 15 records. Best score: 0.010. Signaling Trainer to stop.\n",
      "GPU available: True (cuda), used: True\n",
      "TPU available: False, using: 0 TPU cores\n",
      "HPU available: False, using: 0 HPUs\n",
      "LOCAL_RANK: 0 - CUDA_VISIBLE_DEVICES: [0]\n"
     ]
    },
    {
     "name": "stdout",
     "output_type": "stream",
     "text": [
      "Model loaded from checkpoint for trial 51, fold 1\n"
     ]
    },
    {
     "name": "stderr",
     "output_type": "stream",
     "text": [
      "GPU available: True (cuda), used: True\n",
      "TPU available: False, using: 0 TPU cores\n",
      "HPU available: False, using: 0 HPUs\n",
      "LOCAL_RANK: 0 - CUDA_VISIBLE_DEVICES: [0]\n"
     ]
    },
    {
     "name": "stdout",
     "output_type": "stream",
     "text": [
      "SMAPE fold 1: 51.13043680191902\n",
      "\n",
      "Fold 3/3\n"
     ]
    },
    {
     "name": "stderr",
     "output_type": "stream",
     "text": [
      "/home/eduardo/Documentos/Water-Cycle-Neural-Network/venv/lib/python3.12/site-packages/optuna/trial/_trial.py:497: UserWarning: The reported value is ignored because this `step` 0 is already reported.\n",
      "  warnings.warn(\n",
      "Monitored metric val_loss did not improve in the last 16 records. Best score: 0.010. Signaling Trainer to stop.\n",
      "GPU available: True (cuda), used: True\n",
      "TPU available: False, using: 0 TPU cores\n",
      "HPU available: False, using: 0 HPUs\n",
      "LOCAL_RANK: 0 - CUDA_VISIBLE_DEVICES: [0]\n"
     ]
    },
    {
     "name": "stdout",
     "output_type": "stream",
     "text": [
      "Model loaded from checkpoint for trial 51, fold 2\n"
     ]
    },
    {
     "name": "stderr",
     "output_type": "stream",
     "text": [
      "[I 2025-06-09 14:54:28,267] Trial 51 finished with value: 51.4021566516596 and parameters: {'input_chunk_length': 24, 'hidden_size': 160, 'dropout': 0.30000000000000004, 'batch_size': 80, 'lr': 0.0020543369714829665, 'weight_decay': 0.006805321223641589, 'num_encoder_layers': 3, 'num_decoder_layers': 2, 'temporal_width_past': 3, 'temporal_width_future': 1, 'use_reversible_instance_norm': True, 'temporal_hidden_size_past': 36, 'temporal_hidden_size_future': 168}. Best is trial 47 with value: 50.75775809776286.\n",
      "GPU available: True (cuda), used: True\n",
      "TPU available: False, using: 0 TPU cores\n",
      "HPU available: False, using: 0 HPUs\n",
      "LOCAL_RANK: 0 - CUDA_VISIBLE_DEVICES: [0]\n"
     ]
    },
    {
     "name": "stdout",
     "output_type": "stream",
     "text": [
      "SMAPE fold 2: 54.083722808228146\n",
      "Média dos SMAPE nos folds: 51.4021566516596\n",
      "Results of trial 51 saved in optuna_iteration_metrics/trial_51.json\n",
      "Current value: 51.4021566516596, Current params: {'input_chunk_length': 24, 'hidden_size': 160, 'dropout': 0.30000000000000004, 'batch_size': 80, 'lr': 0.0020543369714829665, 'weight_decay': 0.006805321223641589, 'num_encoder_layers': 3, 'num_decoder_layers': 2, 'temporal_width_past': 3, 'temporal_width_future': 1, 'use_reversible_instance_norm': True, 'temporal_hidden_size_past': 36, 'temporal_hidden_size_future': 168}\n",
      "Best value: 50.75775809776286, Best params: {'input_chunk_length': 24, 'hidden_size': 128, 'dropout': 0.30000000000000004, 'batch_size': 88, 'lr': 0.004956395234150667, 'weight_decay': 0.0026094146411939495, 'num_encoder_layers': 4, 'num_decoder_layers': 2, 'temporal_width_past': 3, 'temporal_width_future': 1, 'use_reversible_instance_norm': True, 'temporal_hidden_size_past': 48, 'temporal_hidden_size_future': 144}\n",
      "\n",
      "Fold 1/3\n"
     ]
    },
    {
     "name": "stderr",
     "output_type": "stream",
     "text": [
      "Metric val_loss improved. New best score: 0.151\n",
      "Metric val_loss improved by 0.011 >= min_delta = 0.0005. New best score: 0.140\n",
      "Metric val_loss improved by 0.009 >= min_delta = 0.0005. New best score: 0.131\n",
      "Metric val_loss improved by 0.006 >= min_delta = 0.0005. New best score: 0.125\n",
      "Metric val_loss improved by 0.004 >= min_delta = 0.0005. New best score: 0.121\n",
      "Metric val_loss improved by 0.002 >= min_delta = 0.0005. New best score: 0.119\n",
      "Metric val_loss improved by 0.002 >= min_delta = 0.0005. New best score: 0.117\n",
      "Metric val_loss improved by 0.001 >= min_delta = 0.0005. New best score: 0.116\n",
      "Metric val_loss improved by 0.001 >= min_delta = 0.0005. New best score: 0.115\n",
      "Metric val_loss improved by 0.001 >= min_delta = 0.0005. New best score: 0.114\n",
      "Metric val_loss improved by 0.001 >= min_delta = 0.0005. New best score: 0.113\n",
      "Metric val_loss improved by 0.001 >= min_delta = 0.0005. New best score: 0.112\n",
      "Metric val_loss improved by 0.001 >= min_delta = 0.0005. New best score: 0.111\n",
      "Metric val_loss improved by 0.001 >= min_delta = 0.0005. New best score: 0.110\n",
      "Metric val_loss improved by 0.001 >= min_delta = 0.0005. New best score: 0.109\n",
      "`Trainer.fit` stopped: `max_epochs=30` reached.\n",
      "GPU available: True (cuda), used: True\n",
      "TPU available: False, using: 0 TPU cores\n",
      "HPU available: False, using: 0 HPUs\n",
      "LOCAL_RANK: 0 - CUDA_VISIBLE_DEVICES: [0]\n"
     ]
    },
    {
     "name": "stdout",
     "output_type": "stream",
     "text": [
      "Model loaded from checkpoint for trial 52, fold 0\n"
     ]
    },
    {
     "name": "stderr",
     "output_type": "stream",
     "text": [
      "GPU available: True (cuda), used: True\n",
      "TPU available: False, using: 0 TPU cores\n",
      "HPU available: False, using: 0 HPUs\n",
      "LOCAL_RANK: 0 - CUDA_VISIBLE_DEVICES: [0]\n"
     ]
    },
    {
     "name": "stdout",
     "output_type": "stream",
     "text": [
      "SMAPE fold 0: 48.78986103160196\n",
      "\n",
      "Fold 2/3\n"
     ]
    },
    {
     "name": "stderr",
     "output_type": "stream",
     "text": [
      "/home/eduardo/Documentos/Water-Cycle-Neural-Network/venv/lib/python3.12/site-packages/optuna/trial/_trial.py:497: UserWarning: The reported value is ignored because this `step` 0 is already reported.\n",
      "  warnings.warn(\n",
      "Metric val_loss improved by 0.099 >= min_delta = 0.0005. New best score: 0.011\n",
      "/home/eduardo/Documentos/Water-Cycle-Neural-Network/venv/lib/python3.12/site-packages/optuna/trial/_trial.py:497: UserWarning: The reported value is ignored because this `step` 1 is already reported.\n",
      "  warnings.warn(\n",
      "Metric val_loss improved by 0.001 >= min_delta = 0.0005. New best score: 0.010\n",
      "/home/eduardo/Documentos/Water-Cycle-Neural-Network/venv/lib/python3.12/site-packages/optuna/trial/_trial.py:497: UserWarning: The reported value is ignored because this `step` 2 is already reported.\n",
      "  warnings.warn(\n",
      "/home/eduardo/Documentos/Water-Cycle-Neural-Network/venv/lib/python3.12/site-packages/optuna/trial/_trial.py:497: UserWarning: The reported value is ignored because this `step` 3 is already reported.\n",
      "  warnings.warn(\n",
      "Metric val_loss improved by 0.001 >= min_delta = 0.0005. New best score: 0.009\n",
      "/home/eduardo/Documentos/Water-Cycle-Neural-Network/venv/lib/python3.12/site-packages/optuna/trial/_trial.py:497: UserWarning: The reported value is ignored because this `step` 4 is already reported.\n",
      "  warnings.warn(\n",
      "/home/eduardo/Documentos/Water-Cycle-Neural-Network/venv/lib/python3.12/site-packages/optuna/trial/_trial.py:497: UserWarning: The reported value is ignored because this `step` 5 is already reported.\n",
      "  warnings.warn(\n",
      "/home/eduardo/Documentos/Water-Cycle-Neural-Network/venv/lib/python3.12/site-packages/optuna/trial/_trial.py:497: UserWarning: The reported value is ignored because this `step` 6 is already reported.\n",
      "  warnings.warn(\n",
      "/home/eduardo/Documentos/Water-Cycle-Neural-Network/venv/lib/python3.12/site-packages/optuna/trial/_trial.py:497: UserWarning: The reported value is ignored because this `step` 7 is already reported.\n",
      "  warnings.warn(\n",
      "/home/eduardo/Documentos/Water-Cycle-Neural-Network/venv/lib/python3.12/site-packages/optuna/trial/_trial.py:497: UserWarning: The reported value is ignored because this `step` 8 is already reported.\n",
      "  warnings.warn(\n",
      "/home/eduardo/Documentos/Water-Cycle-Neural-Network/venv/lib/python3.12/site-packages/optuna/trial/_trial.py:497: UserWarning: The reported value is ignored because this `step` 9 is already reported.\n",
      "  warnings.warn(\n",
      "/home/eduardo/Documentos/Water-Cycle-Neural-Network/venv/lib/python3.12/site-packages/optuna/trial/_trial.py:497: UserWarning: The reported value is ignored because this `step` 10 is already reported.\n",
      "  warnings.warn(\n",
      "/home/eduardo/Documentos/Water-Cycle-Neural-Network/venv/lib/python3.12/site-packages/optuna/trial/_trial.py:497: UserWarning: The reported value is ignored because this `step` 11 is already reported.\n",
      "  warnings.warn(\n",
      "/home/eduardo/Documentos/Water-Cycle-Neural-Network/venv/lib/python3.12/site-packages/optuna/trial/_trial.py:497: UserWarning: The reported value is ignored because this `step` 12 is already reported.\n",
      "  warnings.warn(\n",
      "/home/eduardo/Documentos/Water-Cycle-Neural-Network/venv/lib/python3.12/site-packages/optuna/trial/_trial.py:497: UserWarning: The reported value is ignored because this `step` 13 is already reported.\n",
      "  warnings.warn(\n",
      "/home/eduardo/Documentos/Water-Cycle-Neural-Network/venv/lib/python3.12/site-packages/optuna/trial/_trial.py:497: UserWarning: The reported value is ignored because this `step` 14 is already reported.\n",
      "  warnings.warn(\n",
      "/home/eduardo/Documentos/Water-Cycle-Neural-Network/venv/lib/python3.12/site-packages/optuna/trial/_trial.py:497: UserWarning: The reported value is ignored because this `step` 15 is already reported.\n",
      "  warnings.warn(\n",
      "/home/eduardo/Documentos/Water-Cycle-Neural-Network/venv/lib/python3.12/site-packages/optuna/trial/_trial.py:497: UserWarning: The reported value is ignored because this `step` 16 is already reported.\n",
      "  warnings.warn(\n",
      "/home/eduardo/Documentos/Water-Cycle-Neural-Network/venv/lib/python3.12/site-packages/optuna/trial/_trial.py:497: UserWarning: The reported value is ignored because this `step` 17 is already reported.\n",
      "  warnings.warn(\n",
      "/home/eduardo/Documentos/Water-Cycle-Neural-Network/venv/lib/python3.12/site-packages/optuna/trial/_trial.py:497: UserWarning: The reported value is ignored because this `step` 18 is already reported.\n",
      "  warnings.warn(\n",
      "Monitored metric val_loss did not improve in the last 15 records. Best score: 0.009. Signaling Trainer to stop.\n",
      "GPU available: True (cuda), used: True\n",
      "TPU available: False, using: 0 TPU cores\n",
      "HPU available: False, using: 0 HPUs\n",
      "LOCAL_RANK: 0 - CUDA_VISIBLE_DEVICES: [0]\n"
     ]
    },
    {
     "name": "stdout",
     "output_type": "stream",
     "text": [
      "Model loaded from checkpoint for trial 52, fold 1\n"
     ]
    },
    {
     "name": "stderr",
     "output_type": "stream",
     "text": [
      "GPU available: True (cuda), used: True\n",
      "TPU available: False, using: 0 TPU cores\n",
      "HPU available: False, using: 0 HPUs\n",
      "LOCAL_RANK: 0 - CUDA_VISIBLE_DEVICES: [0]\n"
     ]
    },
    {
     "name": "stdout",
     "output_type": "stream",
     "text": [
      "SMAPE fold 1: 51.03440402679349\n",
      "\n",
      "Fold 3/3\n"
     ]
    },
    {
     "name": "stderr",
     "output_type": "stream",
     "text": [
      "/home/eduardo/Documentos/Water-Cycle-Neural-Network/venv/lib/python3.12/site-packages/optuna/trial/_trial.py:497: UserWarning: The reported value is ignored because this `step` 0 is already reported.\n",
      "  warnings.warn(\n",
      "Monitored metric val_loss did not improve in the last 16 records. Best score: 0.009. Signaling Trainer to stop.\n",
      "GPU available: True (cuda), used: True\n",
      "TPU available: False, using: 0 TPU cores\n",
      "HPU available: False, using: 0 HPUs\n",
      "LOCAL_RANK: 0 - CUDA_VISIBLE_DEVICES: [0]\n"
     ]
    },
    {
     "name": "stdout",
     "output_type": "stream",
     "text": [
      "Model loaded from checkpoint for trial 52, fold 2\n"
     ]
    },
    {
     "name": "stderr",
     "output_type": "stream",
     "text": [
      "[I 2025-06-09 14:55:38,575] Trial 52 finished with value: 51.097781294896315 and parameters: {'input_chunk_length': 36, 'hidden_size': 128, 'dropout': 0.4, 'batch_size': 88, 'lr': 0.0010543984344856612, 'weight_decay': 0.002158766723301606, 'num_encoder_layers': 3, 'num_decoder_layers': 2, 'temporal_width_past': 3, 'temporal_width_future': 1, 'use_reversible_instance_norm': True, 'temporal_hidden_size_past': 36, 'temporal_hidden_size_future': 156}. Best is trial 47 with value: 50.75775809776286.\n",
      "GPU available: True (cuda), used: True\n",
      "TPU available: False, using: 0 TPU cores\n",
      "HPU available: False, using: 0 HPUs\n",
      "LOCAL_RANK: 0 - CUDA_VISIBLE_DEVICES: [0]\n"
     ]
    },
    {
     "name": "stdout",
     "output_type": "stream",
     "text": [
      "SMAPE fold 2: 53.4690788262935\n",
      "Média dos SMAPE nos folds: 51.097781294896315\n",
      "Results of trial 52 saved in optuna_iteration_metrics/trial_52.json\n",
      "Current value: 51.097781294896315, Current params: {'input_chunk_length': 36, 'hidden_size': 128, 'dropout': 0.4, 'batch_size': 88, 'lr': 0.0010543984344856612, 'weight_decay': 0.002158766723301606, 'num_encoder_layers': 3, 'num_decoder_layers': 2, 'temporal_width_past': 3, 'temporal_width_future': 1, 'use_reversible_instance_norm': True, 'temporal_hidden_size_past': 36, 'temporal_hidden_size_future': 156}\n",
      "Best value: 50.75775809776286, Best params: {'input_chunk_length': 24, 'hidden_size': 128, 'dropout': 0.30000000000000004, 'batch_size': 88, 'lr': 0.004956395234150667, 'weight_decay': 0.0026094146411939495, 'num_encoder_layers': 4, 'num_decoder_layers': 2, 'temporal_width_past': 3, 'temporal_width_future': 1, 'use_reversible_instance_norm': True, 'temporal_hidden_size_past': 48, 'temporal_hidden_size_future': 144}\n",
      "\n",
      "Fold 1/3\n"
     ]
    },
    {
     "name": "stderr",
     "output_type": "stream",
     "text": [
      "Metric val_loss improved. New best score: 0.131\n",
      "Metric val_loss improved by 0.009 >= min_delta = 0.0005. New best score: 0.121\n",
      "Metric val_loss improved by 0.003 >= min_delta = 0.0005. New best score: 0.118\n",
      "Metric val_loss improved by 0.003 >= min_delta = 0.0005. New best score: 0.116\n",
      "Metric val_loss improved by 0.002 >= min_delta = 0.0005. New best score: 0.114\n",
      "Metric val_loss improved by 0.001 >= min_delta = 0.0005. New best score: 0.112\n",
      "Metric val_loss improved by 0.002 >= min_delta = 0.0005. New best score: 0.111\n",
      "Metric val_loss improved by 0.001 >= min_delta = 0.0005. New best score: 0.109\n",
      "Metric val_loss improved by 0.001 >= min_delta = 0.0005. New best score: 0.108\n",
      "Metric val_loss improved by 0.002 >= min_delta = 0.0005. New best score: 0.106\n",
      "Metric val_loss improved by 0.001 >= min_delta = 0.0005. New best score: 0.105\n",
      "`Trainer.fit` stopped: `max_epochs=30` reached.\n",
      "GPU available: True (cuda), used: True\n",
      "TPU available: False, using: 0 TPU cores\n",
      "HPU available: False, using: 0 HPUs\n",
      "LOCAL_RANK: 0 - CUDA_VISIBLE_DEVICES: [0]\n"
     ]
    },
    {
     "name": "stdout",
     "output_type": "stream",
     "text": [
      "Model loaded from checkpoint for trial 53, fold 0\n"
     ]
    },
    {
     "name": "stderr",
     "output_type": "stream",
     "text": [
      "GPU available: True (cuda), used: True\n",
      "TPU available: False, using: 0 TPU cores\n",
      "HPU available: False, using: 0 HPUs\n",
      "LOCAL_RANK: 0 - CUDA_VISIBLE_DEVICES: [0]\n"
     ]
    },
    {
     "name": "stdout",
     "output_type": "stream",
     "text": [
      "SMAPE fold 0: 48.76145160809614\n",
      "\n",
      "Fold 2/3\n"
     ]
    },
    {
     "name": "stderr",
     "output_type": "stream",
     "text": [
      "/home/eduardo/Documentos/Water-Cycle-Neural-Network/venv/lib/python3.12/site-packages/optuna/trial/_trial.py:497: UserWarning: The reported value is ignored because this `step` 0 is already reported.\n",
      "  warnings.warn(\n",
      "Metric val_loss improved by 0.096 >= min_delta = 0.0005. New best score: 0.009\n",
      "/home/eduardo/Documentos/Water-Cycle-Neural-Network/venv/lib/python3.12/site-packages/optuna/trial/_trial.py:497: UserWarning: The reported value is ignored because this `step` 1 is already reported.\n",
      "  warnings.warn(\n",
      "/home/eduardo/Documentos/Water-Cycle-Neural-Network/venv/lib/python3.12/site-packages/optuna/trial/_trial.py:497: UserWarning: The reported value is ignored because this `step` 2 is already reported.\n",
      "  warnings.warn(\n",
      "/home/eduardo/Documentos/Water-Cycle-Neural-Network/venv/lib/python3.12/site-packages/optuna/trial/_trial.py:497: UserWarning: The reported value is ignored because this `step` 3 is already reported.\n",
      "  warnings.warn(\n",
      "/home/eduardo/Documentos/Water-Cycle-Neural-Network/venv/lib/python3.12/site-packages/optuna/trial/_trial.py:497: UserWarning: The reported value is ignored because this `step` 4 is already reported.\n",
      "  warnings.warn(\n",
      "/home/eduardo/Documentos/Water-Cycle-Neural-Network/venv/lib/python3.12/site-packages/optuna/trial/_trial.py:497: UserWarning: The reported value is ignored because this `step` 5 is already reported.\n",
      "  warnings.warn(\n",
      "/home/eduardo/Documentos/Water-Cycle-Neural-Network/venv/lib/python3.12/site-packages/optuna/trial/_trial.py:497: UserWarning: The reported value is ignored because this `step` 6 is already reported.\n",
      "  warnings.warn(\n",
      "/home/eduardo/Documentos/Water-Cycle-Neural-Network/venv/lib/python3.12/site-packages/optuna/trial/_trial.py:497: UserWarning: The reported value is ignored because this `step` 7 is already reported.\n",
      "  warnings.warn(\n",
      "/home/eduardo/Documentos/Water-Cycle-Neural-Network/venv/lib/python3.12/site-packages/optuna/trial/_trial.py:497: UserWarning: The reported value is ignored because this `step` 8 is already reported.\n",
      "  warnings.warn(\n",
      "/home/eduardo/Documentos/Water-Cycle-Neural-Network/venv/lib/python3.12/site-packages/optuna/trial/_trial.py:497: UserWarning: The reported value is ignored because this `step` 9 is already reported.\n",
      "  warnings.warn(\n",
      "/home/eduardo/Documentos/Water-Cycle-Neural-Network/venv/lib/python3.12/site-packages/optuna/trial/_trial.py:497: UserWarning: The reported value is ignored because this `step` 10 is already reported.\n",
      "  warnings.warn(\n",
      "/home/eduardo/Documentos/Water-Cycle-Neural-Network/venv/lib/python3.12/site-packages/optuna/trial/_trial.py:497: UserWarning: The reported value is ignored because this `step` 11 is already reported.\n",
      "  warnings.warn(\n",
      "/home/eduardo/Documentos/Water-Cycle-Neural-Network/venv/lib/python3.12/site-packages/optuna/trial/_trial.py:497: UserWarning: The reported value is ignored because this `step` 12 is already reported.\n",
      "  warnings.warn(\n",
      "/home/eduardo/Documentos/Water-Cycle-Neural-Network/venv/lib/python3.12/site-packages/optuna/trial/_trial.py:497: UserWarning: The reported value is ignored because this `step` 13 is already reported.\n",
      "  warnings.warn(\n",
      "/home/eduardo/Documentos/Water-Cycle-Neural-Network/venv/lib/python3.12/site-packages/optuna/trial/_trial.py:497: UserWarning: The reported value is ignored because this `step` 14 is already reported.\n",
      "  warnings.warn(\n",
      "/home/eduardo/Documentos/Water-Cycle-Neural-Network/venv/lib/python3.12/site-packages/optuna/trial/_trial.py:497: UserWarning: The reported value is ignored because this `step` 15 is already reported.\n",
      "  warnings.warn(\n",
      "Monitored metric val_loss did not improve in the last 15 records. Best score: 0.009. Signaling Trainer to stop.\n",
      "GPU available: True (cuda), used: True\n",
      "TPU available: False, using: 0 TPU cores\n",
      "HPU available: False, using: 0 HPUs\n",
      "LOCAL_RANK: 0 - CUDA_VISIBLE_DEVICES: [0]\n"
     ]
    },
    {
     "name": "stdout",
     "output_type": "stream",
     "text": [
      "Model loaded from checkpoint for trial 53, fold 1\n"
     ]
    },
    {
     "name": "stderr",
     "output_type": "stream",
     "text": [
      "GPU available: True (cuda), used: True\n",
      "TPU available: False, using: 0 TPU cores\n",
      "HPU available: False, using: 0 HPUs\n",
      "LOCAL_RANK: 0 - CUDA_VISIBLE_DEVICES: [0]\n"
     ]
    },
    {
     "name": "stdout",
     "output_type": "stream",
     "text": [
      "SMAPE fold 1: 51.03383315622969\n",
      "\n",
      "Fold 3/3\n"
     ]
    },
    {
     "name": "stderr",
     "output_type": "stream",
     "text": [
      "/home/eduardo/Documentos/Water-Cycle-Neural-Network/venv/lib/python3.12/site-packages/optuna/trial/_trial.py:497: UserWarning: The reported value is ignored because this `step` 0 is already reported.\n",
      "  warnings.warn(\n",
      "Monitored metric val_loss did not improve in the last 16 records. Best score: 0.009. Signaling Trainer to stop.\n",
      "GPU available: True (cuda), used: True\n",
      "TPU available: False, using: 0 TPU cores\n",
      "HPU available: False, using: 0 HPUs\n",
      "LOCAL_RANK: 0 - CUDA_VISIBLE_DEVICES: [0]\n"
     ]
    },
    {
     "name": "stdout",
     "output_type": "stream",
     "text": [
      "Model loaded from checkpoint for trial 53, fold 2\n"
     ]
    },
    {
     "name": "stderr",
     "output_type": "stream",
     "text": [
      "[I 2025-06-09 14:56:47,050] Trial 53 finished with value: 50.88919397469048 and parameters: {'input_chunk_length': 24, 'hidden_size': 120, 'dropout': 0.35, 'batch_size': 72, 'lr': 0.0035057495457620183, 'weight_decay': 0.0030393272390399225, 'num_encoder_layers': 3, 'num_decoder_layers': 2, 'temporal_width_past': 3, 'temporal_width_future': 1, 'use_reversible_instance_norm': True, 'temporal_hidden_size_past': 24, 'temporal_hidden_size_future': 156}. Best is trial 47 with value: 50.75775809776286.\n",
      "GPU available: True (cuda), used: True\n",
      "TPU available: False, using: 0 TPU cores\n",
      "HPU available: False, using: 0 HPUs\n",
      "LOCAL_RANK: 0 - CUDA_VISIBLE_DEVICES: [0]\n"
     ]
    },
    {
     "name": "stdout",
     "output_type": "stream",
     "text": [
      "SMAPE fold 2: 52.8722971597456\n",
      "Média dos SMAPE nos folds: 50.88919397469048\n",
      "Results of trial 53 saved in optuna_iteration_metrics/trial_53.json\n",
      "Current value: 50.88919397469048, Current params: {'input_chunk_length': 24, 'hidden_size': 120, 'dropout': 0.35, 'batch_size': 72, 'lr': 0.0035057495457620183, 'weight_decay': 0.0030393272390399225, 'num_encoder_layers': 3, 'num_decoder_layers': 2, 'temporal_width_past': 3, 'temporal_width_future': 1, 'use_reversible_instance_norm': True, 'temporal_hidden_size_past': 24, 'temporal_hidden_size_future': 156}\n",
      "Best value: 50.75775809776286, Best params: {'input_chunk_length': 24, 'hidden_size': 128, 'dropout': 0.30000000000000004, 'batch_size': 88, 'lr': 0.004956395234150667, 'weight_decay': 0.0026094146411939495, 'num_encoder_layers': 4, 'num_decoder_layers': 2, 'temporal_width_past': 3, 'temporal_width_future': 1, 'use_reversible_instance_norm': True, 'temporal_hidden_size_past': 48, 'temporal_hidden_size_future': 144}\n",
      "\n",
      "Fold 1/3\n"
     ]
    },
    {
     "name": "stderr",
     "output_type": "stream",
     "text": [
      "Metric val_loss improved. New best score: 0.127\n",
      "Metric val_loss improved by 0.003 >= min_delta = 0.0005. New best score: 0.123\n",
      "Metric val_loss improved by 0.003 >= min_delta = 0.0005. New best score: 0.121\n",
      "Metric val_loss improved by 0.002 >= min_delta = 0.0005. New best score: 0.118\n",
      "Metric val_loss improved by 0.002 >= min_delta = 0.0005. New best score: 0.117\n",
      "Metric val_loss improved by 0.002 >= min_delta = 0.0005. New best score: 0.114\n",
      "Metric val_loss improved by 0.001 >= min_delta = 0.0005. New best score: 0.113\n",
      "Metric val_loss improved by 0.001 >= min_delta = 0.0005. New best score: 0.112\n",
      "Metric val_loss improved by 0.002 >= min_delta = 0.0005. New best score: 0.110\n",
      "Metric val_loss improved by 0.001 >= min_delta = 0.0005. New best score: 0.109\n",
      "Metric val_loss improved by 0.001 >= min_delta = 0.0005. New best score: 0.108\n",
      "Metric val_loss improved by 0.001 >= min_delta = 0.0005. New best score: 0.107\n",
      "Metric val_loss improved by 0.001 >= min_delta = 0.0005. New best score: 0.106\n",
      "`Trainer.fit` stopped: `max_epochs=30` reached.\n",
      "GPU available: True (cuda), used: True\n",
      "TPU available: False, using: 0 TPU cores\n",
      "HPU available: False, using: 0 HPUs\n",
      "LOCAL_RANK: 0 - CUDA_VISIBLE_DEVICES: [0]\n"
     ]
    },
    {
     "name": "stdout",
     "output_type": "stream",
     "text": [
      "Model loaded from checkpoint for trial 54, fold 0\n",
      "SMAPE fold 0: 48.78208647118743\n",
      "\n",
      "Fold 2/3\n"
     ]
    },
    {
     "name": "stderr",
     "output_type": "stream",
     "text": [
      "GPU available: True (cuda), used: True\n",
      "TPU available: False, using: 0 TPU cores\n",
      "HPU available: False, using: 0 HPUs\n",
      "LOCAL_RANK: 0 - CUDA_VISIBLE_DEVICES: [0]\n",
      "/home/eduardo/Documentos/Water-Cycle-Neural-Network/venv/lib/python3.12/site-packages/optuna/trial/_trial.py:497: UserWarning: The reported value is ignored because this `step` 0 is already reported.\n",
      "  warnings.warn(\n",
      "Metric val_loss improved by 0.097 >= min_delta = 0.0005. New best score: 0.010\n",
      "/home/eduardo/Documentos/Water-Cycle-Neural-Network/venv/lib/python3.12/site-packages/optuna/trial/_trial.py:497: UserWarning: The reported value is ignored because this `step` 1 is already reported.\n",
      "  warnings.warn(\n",
      "/home/eduardo/Documentos/Water-Cycle-Neural-Network/venv/lib/python3.12/site-packages/optuna/trial/_trial.py:497: UserWarning: The reported value is ignored because this `step` 2 is already reported.\n",
      "  warnings.warn(\n",
      "/home/eduardo/Documentos/Water-Cycle-Neural-Network/venv/lib/python3.12/site-packages/optuna/trial/_trial.py:497: UserWarning: The reported value is ignored because this `step` 3 is already reported.\n",
      "  warnings.warn(\n",
      "/home/eduardo/Documentos/Water-Cycle-Neural-Network/venv/lib/python3.12/site-packages/optuna/trial/_trial.py:497: UserWarning: The reported value is ignored because this `step` 4 is already reported.\n",
      "  warnings.warn(\n",
      "/home/eduardo/Documentos/Water-Cycle-Neural-Network/venv/lib/python3.12/site-packages/optuna/trial/_trial.py:497: UserWarning: The reported value is ignored because this `step` 5 is already reported.\n",
      "  warnings.warn(\n",
      "/home/eduardo/Documentos/Water-Cycle-Neural-Network/venv/lib/python3.12/site-packages/optuna/trial/_trial.py:497: UserWarning: The reported value is ignored because this `step` 6 is already reported.\n",
      "  warnings.warn(\n",
      "/home/eduardo/Documentos/Water-Cycle-Neural-Network/venv/lib/python3.12/site-packages/optuna/trial/_trial.py:497: UserWarning: The reported value is ignored because this `step` 7 is already reported.\n",
      "  warnings.warn(\n",
      "/home/eduardo/Documentos/Water-Cycle-Neural-Network/venv/lib/python3.12/site-packages/optuna/trial/_trial.py:497: UserWarning: The reported value is ignored because this `step` 8 is already reported.\n",
      "  warnings.warn(\n",
      "/home/eduardo/Documentos/Water-Cycle-Neural-Network/venv/lib/python3.12/site-packages/optuna/trial/_trial.py:497: UserWarning: The reported value is ignored because this `step` 9 is already reported.\n",
      "  warnings.warn(\n",
      "/home/eduardo/Documentos/Water-Cycle-Neural-Network/venv/lib/python3.12/site-packages/optuna/trial/_trial.py:497: UserWarning: The reported value is ignored because this `step` 10 is already reported.\n",
      "  warnings.warn(\n",
      "/home/eduardo/Documentos/Water-Cycle-Neural-Network/venv/lib/python3.12/site-packages/optuna/trial/_trial.py:497: UserWarning: The reported value is ignored because this `step` 11 is already reported.\n",
      "  warnings.warn(\n",
      "/home/eduardo/Documentos/Water-Cycle-Neural-Network/venv/lib/python3.12/site-packages/optuna/trial/_trial.py:497: UserWarning: The reported value is ignored because this `step` 12 is already reported.\n",
      "  warnings.warn(\n",
      "/home/eduardo/Documentos/Water-Cycle-Neural-Network/venv/lib/python3.12/site-packages/optuna/trial/_trial.py:497: UserWarning: The reported value is ignored because this `step` 13 is already reported.\n",
      "  warnings.warn(\n",
      "/home/eduardo/Documentos/Water-Cycle-Neural-Network/venv/lib/python3.12/site-packages/optuna/trial/_trial.py:497: UserWarning: The reported value is ignored because this `step` 14 is already reported.\n",
      "  warnings.warn(\n",
      "/home/eduardo/Documentos/Water-Cycle-Neural-Network/venv/lib/python3.12/site-packages/optuna/trial/_trial.py:497: UserWarning: The reported value is ignored because this `step` 15 is already reported.\n",
      "  warnings.warn(\n",
      "Monitored metric val_loss did not improve in the last 15 records. Best score: 0.010. Signaling Trainer to stop.\n",
      "GPU available: True (cuda), used: True\n",
      "TPU available: False, using: 0 TPU cores\n",
      "HPU available: False, using: 0 HPUs\n",
      "LOCAL_RANK: 0 - CUDA_VISIBLE_DEVICES: [0]\n"
     ]
    },
    {
     "name": "stdout",
     "output_type": "stream",
     "text": [
      "Model loaded from checkpoint for trial 54, fold 1\n"
     ]
    },
    {
     "name": "stderr",
     "output_type": "stream",
     "text": [
      "GPU available: True (cuda), used: True\n",
      "TPU available: False, using: 0 TPU cores\n",
      "HPU available: False, using: 0 HPUs\n",
      "LOCAL_RANK: 0 - CUDA_VISIBLE_DEVICES: [0]\n"
     ]
    },
    {
     "name": "stdout",
     "output_type": "stream",
     "text": [
      "SMAPE fold 1: 51.06086461636464\n",
      "\n",
      "Fold 3/3\n"
     ]
    },
    {
     "name": "stderr",
     "output_type": "stream",
     "text": [
      "/home/eduardo/Documentos/Water-Cycle-Neural-Network/venv/lib/python3.12/site-packages/optuna/trial/_trial.py:497: UserWarning: The reported value is ignored because this `step` 0 is already reported.\n",
      "  warnings.warn(\n",
      "Monitored metric val_loss did not improve in the last 16 records. Best score: 0.010. Signaling Trainer to stop.\n",
      "GPU available: True (cuda), used: True\n",
      "TPU available: False, using: 0 TPU cores\n",
      "HPU available: False, using: 0 HPUs\n",
      "LOCAL_RANK: 0 - CUDA_VISIBLE_DEVICES: [0]\n"
     ]
    },
    {
     "name": "stdout",
     "output_type": "stream",
     "text": [
      "Model loaded from checkpoint for trial 54, fold 2\n"
     ]
    },
    {
     "name": "stderr",
     "output_type": "stream",
     "text": [
      "[I 2025-06-09 14:57:55,376] Trial 54 finished with value: 50.85212902005088 and parameters: {'input_chunk_length': 24, 'hidden_size': 152, 'dropout': 0.35, 'batch_size': 72, 'lr': 0.002193965107356739, 'weight_decay': 0.003332831781808475, 'num_encoder_layers': 3, 'num_decoder_layers': 2, 'temporal_width_past': 4, 'temporal_width_future': 1, 'use_reversible_instance_norm': True, 'temporal_hidden_size_past': 24, 'temporal_hidden_size_future': 168}. Best is trial 47 with value: 50.75775809776286.\n",
      "GPU available: True (cuda), used: True\n",
      "TPU available: False, using: 0 TPU cores\n",
      "HPU available: False, using: 0 HPUs\n",
      "LOCAL_RANK: 0 - CUDA_VISIBLE_DEVICES: [0]\n"
     ]
    },
    {
     "name": "stdout",
     "output_type": "stream",
     "text": [
      "SMAPE fold 2: 52.71343597260058\n",
      "Média dos SMAPE nos folds: 50.85212902005088\n",
      "Results of trial 54 saved in optuna_iteration_metrics/trial_54.json\n",
      "Current value: 50.85212902005088, Current params: {'input_chunk_length': 24, 'hidden_size': 152, 'dropout': 0.35, 'batch_size': 72, 'lr': 0.002193965107356739, 'weight_decay': 0.003332831781808475, 'num_encoder_layers': 3, 'num_decoder_layers': 2, 'temporal_width_past': 4, 'temporal_width_future': 1, 'use_reversible_instance_norm': True, 'temporal_hidden_size_past': 24, 'temporal_hidden_size_future': 168}\n",
      "Best value: 50.75775809776286, Best params: {'input_chunk_length': 24, 'hidden_size': 128, 'dropout': 0.30000000000000004, 'batch_size': 88, 'lr': 0.004956395234150667, 'weight_decay': 0.0026094146411939495, 'num_encoder_layers': 4, 'num_decoder_layers': 2, 'temporal_width_past': 3, 'temporal_width_future': 1, 'use_reversible_instance_norm': True, 'temporal_hidden_size_past': 48, 'temporal_hidden_size_future': 144}\n",
      "\n",
      "Fold 1/3\n"
     ]
    },
    {
     "name": "stderr",
     "output_type": "stream",
     "text": [
      "Metric val_loss improved. New best score: 0.143\n",
      "[I 2025-06-09 14:58:00,171] Trial 55 pruned. Trial was pruned at epoch 2.\n",
      "GPU available: True (cuda), used: True\n",
      "TPU available: False, using: 0 TPU cores\n",
      "HPU available: False, using: 0 HPUs\n",
      "LOCAL_RANK: 0 - CUDA_VISIBLE_DEVICES: [0]\n"
     ]
    },
    {
     "name": "stdout",
     "output_type": "stream",
     "text": [
      "Current value: 0.14254895800328504, Current params: {'input_chunk_length': 24, 'hidden_size': 160, 'dropout': 0.35, 'batch_size': 72, 'lr': 8.846290223141937e-06, 'weight_decay': 0.004161219320161173, 'num_encoder_layers': 2, 'num_decoder_layers': 3, 'temporal_width_past': 4, 'temporal_width_future': 1, 'use_reversible_instance_norm': True, 'temporal_hidden_size_past': 24, 'temporal_hidden_size_future': 168}\n",
      "Best value: 50.75775809776286, Best params: {'input_chunk_length': 24, 'hidden_size': 128, 'dropout': 0.30000000000000004, 'batch_size': 88, 'lr': 0.004956395234150667, 'weight_decay': 0.0026094146411939495, 'num_encoder_layers': 4, 'num_decoder_layers': 2, 'temporal_width_past': 3, 'temporal_width_future': 1, 'use_reversible_instance_norm': True, 'temporal_hidden_size_past': 48, 'temporal_hidden_size_future': 144}\n",
      "\n",
      "Fold 1/3\n"
     ]
    },
    {
     "name": "stderr",
     "output_type": "stream",
     "text": [
      "[I 2025-06-09 14:58:02,220] Trial 56 pruned. Trial was pruned at epoch 0.\n",
      "GPU available: True (cuda), used: True\n",
      "TPU available: False, using: 0 TPU cores\n",
      "HPU available: False, using: 0 HPUs\n",
      "LOCAL_RANK: 0 - CUDA_VISIBLE_DEVICES: [0]\n"
     ]
    },
    {
     "name": "stdout",
     "output_type": "stream",
     "text": [
      "Current value: 0.171706573164007, Current params: {'input_chunk_length': 36, 'hidden_size': 152, 'dropout': 0.4, 'batch_size': 88, 'lr': 2.808924577310752e-05, 'weight_decay': 0.006566180974198421, 'num_encoder_layers': 3, 'num_decoder_layers': 2, 'temporal_width_past': 4, 'temporal_width_future': 5, 'use_reversible_instance_norm': True, 'temporal_hidden_size_past': 36, 'temporal_hidden_size_future': 168}\n",
      "Best value: 50.75775809776286, Best params: {'input_chunk_length': 24, 'hidden_size': 128, 'dropout': 0.30000000000000004, 'batch_size': 88, 'lr': 0.004956395234150667, 'weight_decay': 0.0026094146411939495, 'num_encoder_layers': 4, 'num_decoder_layers': 2, 'temporal_width_past': 3, 'temporal_width_future': 1, 'use_reversible_instance_norm': True, 'temporal_hidden_size_past': 48, 'temporal_hidden_size_future': 144}\n",
      "\n",
      "Fold 1/3\n"
     ]
    },
    {
     "name": "stderr",
     "output_type": "stream",
     "text": [
      "[I 2025-06-09 14:58:04,155] Trial 57 pruned. Trial was pruned at epoch 0.\n",
      "GPU available: True (cuda), used: True\n",
      "TPU available: False, using: 0 TPU cores\n",
      "HPU available: False, using: 0 HPUs\n",
      "LOCAL_RANK: 0 - CUDA_VISIBLE_DEVICES: [0]\n"
     ]
    },
    {
     "name": "stdout",
     "output_type": "stream",
     "text": [
      "Current value: 8.560442028503683, Current params: {'input_chunk_length': 24, 'hidden_size': 136, 'dropout': 0.30000000000000004, 'batch_size': 72, 'lr': 0.000698244982380025, 'weight_decay': 0.002106334465257303, 'num_encoder_layers': 2, 'num_decoder_layers': 2, 'temporal_width_past': 4, 'temporal_width_future': 1, 'use_reversible_instance_norm': False, 'temporal_hidden_size_past': 36, 'temporal_hidden_size_future': 156}\n",
      "Best value: 50.75775809776286, Best params: {'input_chunk_length': 24, 'hidden_size': 128, 'dropout': 0.30000000000000004, 'batch_size': 88, 'lr': 0.004956395234150667, 'weight_decay': 0.0026094146411939495, 'num_encoder_layers': 4, 'num_decoder_layers': 2, 'temporal_width_past': 3, 'temporal_width_future': 1, 'use_reversible_instance_norm': True, 'temporal_hidden_size_past': 48, 'temporal_hidden_size_future': 144}\n",
      "\n",
      "Fold 1/3\n"
     ]
    },
    {
     "name": "stderr",
     "output_type": "stream",
     "text": [
      "[I 2025-06-09 14:58:06,107] Trial 58 pruned. Trial was pruned at epoch 0.\n",
      "GPU available: True (cuda), used: True\n",
      "TPU available: False, using: 0 TPU cores\n",
      "HPU available: False, using: 0 HPUs\n",
      "LOCAL_RANK: 0 - CUDA_VISIBLE_DEVICES: [0]\n"
     ]
    },
    {
     "name": "stdout",
     "output_type": "stream",
     "text": [
      "Current value: 0.16921676860237705, Current params: {'input_chunk_length': 108, 'hidden_size': 184, 'dropout': 0.45000000000000007, 'batch_size': 64, 'lr': 0.0020412393789997828, 'weight_decay': 0.0014888836414026294, 'num_encoder_layers': 3, 'num_decoder_layers': 2, 'temporal_width_past': 3, 'temporal_width_future': 1, 'use_reversible_instance_norm': True, 'temporal_hidden_size_past': 48, 'temporal_hidden_size_future': 168}\n",
      "Best value: 50.75775809776286, Best params: {'input_chunk_length': 24, 'hidden_size': 128, 'dropout': 0.30000000000000004, 'batch_size': 88, 'lr': 0.004956395234150667, 'weight_decay': 0.0026094146411939495, 'num_encoder_layers': 4, 'num_decoder_layers': 2, 'temporal_width_past': 3, 'temporal_width_future': 1, 'use_reversible_instance_norm': True, 'temporal_hidden_size_past': 48, 'temporal_hidden_size_future': 144}\n",
      "\n",
      "Fold 1/3\n"
     ]
    },
    {
     "name": "stderr",
     "output_type": "stream",
     "text": [
      "[I 2025-06-09 14:58:08,060] Trial 59 pruned. Trial was pruned at epoch 0.\n",
      "GPU available: True (cuda), used: True\n",
      "TPU available: False, using: 0 TPU cores\n",
      "HPU available: False, using: 0 HPUs\n",
      "LOCAL_RANK: 0 - CUDA_VISIBLE_DEVICES: [0]\n"
     ]
    },
    {
     "name": "stdout",
     "output_type": "stream",
     "text": [
      "Current value: 0.1616259031931104, Current params: {'input_chunk_length': 36, 'hidden_size': 168, 'dropout': 0.35, 'batch_size': 88, 'lr': 0.00121549307092923, 'weight_decay': 0.003083096377068535, 'num_encoder_layers': 1, 'num_decoder_layers': 3, 'temporal_width_past': 3, 'temporal_width_future': 1, 'use_reversible_instance_norm': True, 'temporal_hidden_size_past': 24, 'temporal_hidden_size_future': 36}\n",
      "Best value: 50.75775809776286, Best params: {'input_chunk_length': 24, 'hidden_size': 128, 'dropout': 0.30000000000000004, 'batch_size': 88, 'lr': 0.004956395234150667, 'weight_decay': 0.0026094146411939495, 'num_encoder_layers': 4, 'num_decoder_layers': 2, 'temporal_width_past': 3, 'temporal_width_future': 1, 'use_reversible_instance_norm': True, 'temporal_hidden_size_past': 48, 'temporal_hidden_size_future': 144}\n",
      "\n",
      "Fold 1/3\n"
     ]
    },
    {
     "name": "stderr",
     "output_type": "stream",
     "text": [
      "[I 2025-06-09 14:58:10,035] Trial 60 pruned. Trial was pruned at epoch 0.\n",
      "GPU available: True (cuda), used: True\n",
      "TPU available: False, using: 0 TPU cores\n",
      "HPU available: False, using: 0 HPUs\n",
      "LOCAL_RANK: 0 - CUDA_VISIBLE_DEVICES: [0]\n"
     ]
    },
    {
     "name": "stdout",
     "output_type": "stream",
     "text": [
      "Current value: 0.25738006657462853, Current params: {'input_chunk_length': 96, 'hidden_size': 208, 'dropout': 0.30000000000000004, 'batch_size': 96, 'lr': 0.00016441385694785315, 'weight_decay': 0.004531570898774456, 'num_encoder_layers': 3, 'num_decoder_layers': 2, 'temporal_width_past': 5, 'temporal_width_future': 1, 'use_reversible_instance_norm': True, 'temporal_hidden_size_past': 24, 'temporal_hidden_size_future': 156}\n",
      "Best value: 50.75775809776286, Best params: {'input_chunk_length': 24, 'hidden_size': 128, 'dropout': 0.30000000000000004, 'batch_size': 88, 'lr': 0.004956395234150667, 'weight_decay': 0.0026094146411939495, 'num_encoder_layers': 4, 'num_decoder_layers': 2, 'temporal_width_past': 3, 'temporal_width_future': 1, 'use_reversible_instance_norm': True, 'temporal_hidden_size_past': 48, 'temporal_hidden_size_future': 144}\n",
      "\n",
      "Fold 1/3\n"
     ]
    },
    {
     "name": "stderr",
     "output_type": "stream",
     "text": [
      "Metric val_loss improved. New best score: 0.129\n",
      "Metric val_loss improved by 0.009 >= min_delta = 0.0005. New best score: 0.120\n",
      "Metric val_loss improved by 0.002 >= min_delta = 0.0005. New best score: 0.118\n",
      "Metric val_loss improved by 0.003 >= min_delta = 0.0005. New best score: 0.115\n",
      "Metric val_loss improved by 0.002 >= min_delta = 0.0005. New best score: 0.113\n",
      "Metric val_loss improved by 0.001 >= min_delta = 0.0005. New best score: 0.112\n",
      "Metric val_loss improved by 0.001 >= min_delta = 0.0005. New best score: 0.111\n",
      "Metric val_loss improved by 0.001 >= min_delta = 0.0005. New best score: 0.110\n",
      "Metric val_loss improved by 0.002 >= min_delta = 0.0005. New best score: 0.108\n",
      "Metric val_loss improved by 0.001 >= min_delta = 0.0005. New best score: 0.108\n",
      "Metric val_loss improved by 0.001 >= min_delta = 0.0005. New best score: 0.107\n",
      "Metric val_loss improved by 0.001 >= min_delta = 0.0005. New best score: 0.106\n",
      "Metric val_loss improved by 0.001 >= min_delta = 0.0005. New best score: 0.105\n",
      "`Trainer.fit` stopped: `max_epochs=30` reached.\n",
      "GPU available: True (cuda), used: True\n",
      "TPU available: False, using: 0 TPU cores\n",
      "HPU available: False, using: 0 HPUs\n",
      "LOCAL_RANK: 0 - CUDA_VISIBLE_DEVICES: [0]\n"
     ]
    },
    {
     "name": "stdout",
     "output_type": "stream",
     "text": [
      "Model loaded from checkpoint for trial 61, fold 0\n"
     ]
    },
    {
     "name": "stderr",
     "output_type": "stream",
     "text": [
      "GPU available: True (cuda), used: True\n",
      "TPU available: False, using: 0 TPU cores\n",
      "HPU available: False, using: 0 HPUs\n",
      "LOCAL_RANK: 0 - CUDA_VISIBLE_DEVICES: [0]\n"
     ]
    },
    {
     "name": "stdout",
     "output_type": "stream",
     "text": [
      "SMAPE fold 0: 48.75551074296487\n",
      "\n",
      "Fold 2/3\n"
     ]
    },
    {
     "name": "stderr",
     "output_type": "stream",
     "text": [
      "/home/eduardo/Documentos/Water-Cycle-Neural-Network/venv/lib/python3.12/site-packages/optuna/trial/_trial.py:497: UserWarning: The reported value is ignored because this `step` 0 is already reported.\n",
      "  warnings.warn(\n",
      "Metric val_loss improved by 0.096 >= min_delta = 0.0005. New best score: 0.009\n",
      "/home/eduardo/Documentos/Water-Cycle-Neural-Network/venv/lib/python3.12/site-packages/optuna/trial/_trial.py:497: UserWarning: The reported value is ignored because this `step` 1 is already reported.\n",
      "  warnings.warn(\n",
      "/home/eduardo/Documentos/Water-Cycle-Neural-Network/venv/lib/python3.12/site-packages/optuna/trial/_trial.py:497: UserWarning: The reported value is ignored because this `step` 2 is already reported.\n",
      "  warnings.warn(\n",
      "/home/eduardo/Documentos/Water-Cycle-Neural-Network/venv/lib/python3.12/site-packages/optuna/trial/_trial.py:497: UserWarning: The reported value is ignored because this `step` 3 is already reported.\n",
      "  warnings.warn(\n",
      "/home/eduardo/Documentos/Water-Cycle-Neural-Network/venv/lib/python3.12/site-packages/optuna/trial/_trial.py:497: UserWarning: The reported value is ignored because this `step` 4 is already reported.\n",
      "  warnings.warn(\n",
      "/home/eduardo/Documentos/Water-Cycle-Neural-Network/venv/lib/python3.12/site-packages/optuna/trial/_trial.py:497: UserWarning: The reported value is ignored because this `step` 5 is already reported.\n",
      "  warnings.warn(\n",
      "/home/eduardo/Documentos/Water-Cycle-Neural-Network/venv/lib/python3.12/site-packages/optuna/trial/_trial.py:497: UserWarning: The reported value is ignored because this `step` 6 is already reported.\n",
      "  warnings.warn(\n",
      "/home/eduardo/Documentos/Water-Cycle-Neural-Network/venv/lib/python3.12/site-packages/optuna/trial/_trial.py:497: UserWarning: The reported value is ignored because this `step` 7 is already reported.\n",
      "  warnings.warn(\n",
      "/home/eduardo/Documentos/Water-Cycle-Neural-Network/venv/lib/python3.12/site-packages/optuna/trial/_trial.py:497: UserWarning: The reported value is ignored because this `step` 8 is already reported.\n",
      "  warnings.warn(\n",
      "/home/eduardo/Documentos/Water-Cycle-Neural-Network/venv/lib/python3.12/site-packages/optuna/trial/_trial.py:497: UserWarning: The reported value is ignored because this `step` 9 is already reported.\n",
      "  warnings.warn(\n",
      "/home/eduardo/Documentos/Water-Cycle-Neural-Network/venv/lib/python3.12/site-packages/optuna/trial/_trial.py:497: UserWarning: The reported value is ignored because this `step` 10 is already reported.\n",
      "  warnings.warn(\n",
      "/home/eduardo/Documentos/Water-Cycle-Neural-Network/venv/lib/python3.12/site-packages/optuna/trial/_trial.py:497: UserWarning: The reported value is ignored because this `step` 11 is already reported.\n",
      "  warnings.warn(\n",
      "/home/eduardo/Documentos/Water-Cycle-Neural-Network/venv/lib/python3.12/site-packages/optuna/trial/_trial.py:497: UserWarning: The reported value is ignored because this `step` 12 is already reported.\n",
      "  warnings.warn(\n",
      "/home/eduardo/Documentos/Water-Cycle-Neural-Network/venv/lib/python3.12/site-packages/optuna/trial/_trial.py:497: UserWarning: The reported value is ignored because this `step` 13 is already reported.\n",
      "  warnings.warn(\n",
      "/home/eduardo/Documentos/Water-Cycle-Neural-Network/venv/lib/python3.12/site-packages/optuna/trial/_trial.py:497: UserWarning: The reported value is ignored because this `step` 14 is already reported.\n",
      "  warnings.warn(\n",
      "/home/eduardo/Documentos/Water-Cycle-Neural-Network/venv/lib/python3.12/site-packages/optuna/trial/_trial.py:497: UserWarning: The reported value is ignored because this `step` 15 is already reported.\n",
      "  warnings.warn(\n",
      "Monitored metric val_loss did not improve in the last 15 records. Best score: 0.009. Signaling Trainer to stop.\n",
      "GPU available: True (cuda), used: True\n",
      "TPU available: False, using: 0 TPU cores\n",
      "HPU available: False, using: 0 HPUs\n",
      "LOCAL_RANK: 0 - CUDA_VISIBLE_DEVICES: [0]\n"
     ]
    },
    {
     "name": "stdout",
     "output_type": "stream",
     "text": [
      "Model loaded from checkpoint for trial 61, fold 1\n"
     ]
    },
    {
     "name": "stderr",
     "output_type": "stream",
     "text": [
      "GPU available: True (cuda), used: True\n",
      "TPU available: False, using: 0 TPU cores\n",
      "HPU available: False, using: 0 HPUs\n",
      "LOCAL_RANK: 0 - CUDA_VISIBLE_DEVICES: [0]\n"
     ]
    },
    {
     "name": "stdout",
     "output_type": "stream",
     "text": [
      "SMAPE fold 1: 51.03714138790261\n",
      "\n",
      "Fold 3/3\n"
     ]
    },
    {
     "name": "stderr",
     "output_type": "stream",
     "text": [
      "/home/eduardo/Documentos/Water-Cycle-Neural-Network/venv/lib/python3.12/site-packages/optuna/trial/_trial.py:497: UserWarning: The reported value is ignored because this `step` 0 is already reported.\n",
      "  warnings.warn(\n",
      "Monitored metric val_loss did not improve in the last 16 records. Best score: 0.009. Signaling Trainer to stop.\n",
      "GPU available: True (cuda), used: True\n",
      "TPU available: False, using: 0 TPU cores\n",
      "HPU available: False, using: 0 HPUs\n",
      "LOCAL_RANK: 0 - CUDA_VISIBLE_DEVICES: [0]\n"
     ]
    },
    {
     "name": "stdout",
     "output_type": "stream",
     "text": [
      "Model loaded from checkpoint for trial 61, fold 2\n"
     ]
    },
    {
     "name": "stderr",
     "output_type": "stream",
     "text": [
      "[I 2025-06-09 15:04:54,479] Trial 61 finished with value: 50.9030023862351 and parameters: {'input_chunk_length': 24, 'hidden_size': 120, 'dropout': 0.35, 'batch_size': 72, 'lr': 0.003803123666808301, 'weight_decay': 0.0032545027770531977, 'num_encoder_layers': 3, 'num_decoder_layers': 2, 'temporal_width_past': 3, 'temporal_width_future': 1, 'use_reversible_instance_norm': True, 'temporal_hidden_size_past': 24, 'temporal_hidden_size_future': 156}. Best is trial 47 with value: 50.75775809776286.\n",
      "GPU available: True (cuda), used: True\n",
      "TPU available: False, using: 0 TPU cores\n",
      "HPU available: False, using: 0 HPUs\n",
      "LOCAL_RANK: 0 - CUDA_VISIBLE_DEVICES: [0]\n"
     ]
    },
    {
     "name": "stdout",
     "output_type": "stream",
     "text": [
      "SMAPE fold 2: 52.916355027837824\n",
      "Média dos SMAPE nos folds: 50.9030023862351\n",
      "Results of trial 61 saved in optuna_iteration_metrics/trial_61.json\n",
      "Current value: 50.9030023862351, Current params: {'input_chunk_length': 24, 'hidden_size': 120, 'dropout': 0.35, 'batch_size': 72, 'lr': 0.003803123666808301, 'weight_decay': 0.0032545027770531977, 'num_encoder_layers': 3, 'num_decoder_layers': 2, 'temporal_width_past': 3, 'temporal_width_future': 1, 'use_reversible_instance_norm': True, 'temporal_hidden_size_past': 24, 'temporal_hidden_size_future': 156}\n",
      "Best value: 50.75775809776286, Best params: {'input_chunk_length': 24, 'hidden_size': 128, 'dropout': 0.30000000000000004, 'batch_size': 88, 'lr': 0.004956395234150667, 'weight_decay': 0.0026094146411939495, 'num_encoder_layers': 4, 'num_decoder_layers': 2, 'temporal_width_past': 3, 'temporal_width_future': 1, 'use_reversible_instance_norm': True, 'temporal_hidden_size_past': 48, 'temporal_hidden_size_future': 144}\n",
      "\n",
      "Fold 1/3\n"
     ]
    },
    {
     "name": "stderr",
     "output_type": "stream",
     "text": [
      "Metric val_loss improved. New best score: 0.140\n",
      "Metric val_loss improved by 0.009 >= min_delta = 0.0005. New best score: 0.131\n",
      "Metric val_loss improved by 0.004 >= min_delta = 0.0005. New best score: 0.127\n",
      "[I 2025-06-09 15:05:00,291] Trial 62 pruned. Trial was pruned at epoch 3.\n",
      "GPU available: True (cuda), used: True\n",
      "TPU available: False, using: 0 TPU cores\n",
      "HPU available: False, using: 0 HPUs\n",
      "LOCAL_RANK: 0 - CUDA_VISIBLE_DEVICES: [0]\n"
     ]
    },
    {
     "name": "stdout",
     "output_type": "stream",
     "text": [
      "Current value: 0.12555387049836045, Current params: {'input_chunk_length': 24, 'hidden_size': 128, 'dropout': 0.30000000000000004, 'batch_size': 72, 'lr': 0.0019425996199309268, 'weight_decay': 0.006948359688736608, 'num_encoder_layers': 3, 'num_decoder_layers': 2, 'temporal_width_past': 3, 'temporal_width_future': 1, 'use_reversible_instance_norm': True, 'temporal_hidden_size_past': 36, 'temporal_hidden_size_future': 168}\n",
      "Best value: 50.75775809776286, Best params: {'input_chunk_length': 24, 'hidden_size': 128, 'dropout': 0.30000000000000004, 'batch_size': 88, 'lr': 0.004956395234150667, 'weight_decay': 0.0026094146411939495, 'num_encoder_layers': 4, 'num_decoder_layers': 2, 'temporal_width_past': 3, 'temporal_width_future': 1, 'use_reversible_instance_norm': True, 'temporal_hidden_size_past': 48, 'temporal_hidden_size_future': 144}\n",
      "\n",
      "Fold 1/3\n"
     ]
    },
    {
     "name": "stderr",
     "output_type": "stream",
     "text": [
      "Metric val_loss improved. New best score: 0.127\n",
      "Metric val_loss improved by 0.011 >= min_delta = 0.0005. New best score: 0.117\n",
      "Metric val_loss improved by 0.003 >= min_delta = 0.0005. New best score: 0.114\n",
      "Metric val_loss improved by 0.002 >= min_delta = 0.0005. New best score: 0.111\n",
      "Metric val_loss improved by 0.001 >= min_delta = 0.0005. New best score: 0.110\n",
      "Metric val_loss improved by 0.001 >= min_delta = 0.0005. New best score: 0.110\n",
      "Metric val_loss improved by 0.001 >= min_delta = 0.0005. New best score: 0.109\n",
      "Metric val_loss improved by 0.001 >= min_delta = 0.0005. New best score: 0.108\n",
      "Metric val_loss improved by 0.001 >= min_delta = 0.0005. New best score: 0.107\n",
      "Metric val_loss improved by 0.001 >= min_delta = 0.0005. New best score: 0.106\n",
      "`Trainer.fit` stopped: `max_epochs=30` reached.\n",
      "GPU available: True (cuda), used: True\n",
      "TPU available: False, using: 0 TPU cores\n",
      "HPU available: False, using: 0 HPUs\n",
      "LOCAL_RANK: 0 - CUDA_VISIBLE_DEVICES: [0]\n"
     ]
    },
    {
     "name": "stdout",
     "output_type": "stream",
     "text": [
      "Model loaded from checkpoint for trial 63, fold 0\n"
     ]
    },
    {
     "name": "stderr",
     "output_type": "stream",
     "text": [
      "GPU available: True (cuda), used: True\n",
      "TPU available: False, using: 0 TPU cores\n",
      "HPU available: False, using: 0 HPUs\n",
      "LOCAL_RANK: 0 - CUDA_VISIBLE_DEVICES: [0]\n"
     ]
    },
    {
     "name": "stdout",
     "output_type": "stream",
     "text": [
      "SMAPE fold 0: 48.648611048935166\n",
      "\n",
      "Fold 2/3\n"
     ]
    },
    {
     "name": "stderr",
     "output_type": "stream",
     "text": [
      "/home/eduardo/Documentos/Water-Cycle-Neural-Network/venv/lib/python3.12/site-packages/optuna/trial/_trial.py:497: UserWarning: The reported value is ignored because this `step` 0 is already reported.\n",
      "  warnings.warn(\n",
      "Metric val_loss improved by 0.097 >= min_delta = 0.0005. New best score: 0.009\n",
      "/home/eduardo/Documentos/Water-Cycle-Neural-Network/venv/lib/python3.12/site-packages/optuna/trial/_trial.py:497: UserWarning: The reported value is ignored because this `step` 1 is already reported.\n",
      "  warnings.warn(\n",
      "/home/eduardo/Documentos/Water-Cycle-Neural-Network/venv/lib/python3.12/site-packages/optuna/trial/_trial.py:497: UserWarning: The reported value is ignored because this `step` 2 is already reported.\n",
      "  warnings.warn(\n",
      "/home/eduardo/Documentos/Water-Cycle-Neural-Network/venv/lib/python3.12/site-packages/optuna/trial/_trial.py:497: UserWarning: The reported value is ignored because this `step` 3 is already reported.\n",
      "  warnings.warn(\n",
      "/home/eduardo/Documentos/Water-Cycle-Neural-Network/venv/lib/python3.12/site-packages/optuna/trial/_trial.py:497: UserWarning: The reported value is ignored because this `step` 4 is already reported.\n",
      "  warnings.warn(\n",
      "/home/eduardo/Documentos/Water-Cycle-Neural-Network/venv/lib/python3.12/site-packages/optuna/trial/_trial.py:497: UserWarning: The reported value is ignored because this `step` 5 is already reported.\n",
      "  warnings.warn(\n",
      "/home/eduardo/Documentos/Water-Cycle-Neural-Network/venv/lib/python3.12/site-packages/optuna/trial/_trial.py:497: UserWarning: The reported value is ignored because this `step` 6 is already reported.\n",
      "  warnings.warn(\n",
      "/home/eduardo/Documentos/Water-Cycle-Neural-Network/venv/lib/python3.12/site-packages/optuna/trial/_trial.py:497: UserWarning: The reported value is ignored because this `step` 7 is already reported.\n",
      "  warnings.warn(\n",
      "/home/eduardo/Documentos/Water-Cycle-Neural-Network/venv/lib/python3.12/site-packages/optuna/trial/_trial.py:497: UserWarning: The reported value is ignored because this `step` 8 is already reported.\n",
      "  warnings.warn(\n",
      "/home/eduardo/Documentos/Water-Cycle-Neural-Network/venv/lib/python3.12/site-packages/optuna/trial/_trial.py:497: UserWarning: The reported value is ignored because this `step` 9 is already reported.\n",
      "  warnings.warn(\n",
      "/home/eduardo/Documentos/Water-Cycle-Neural-Network/venv/lib/python3.12/site-packages/optuna/trial/_trial.py:497: UserWarning: The reported value is ignored because this `step` 10 is already reported.\n",
      "  warnings.warn(\n",
      "/home/eduardo/Documentos/Water-Cycle-Neural-Network/venv/lib/python3.12/site-packages/optuna/trial/_trial.py:497: UserWarning: The reported value is ignored because this `step` 11 is already reported.\n",
      "  warnings.warn(\n",
      "/home/eduardo/Documentos/Water-Cycle-Neural-Network/venv/lib/python3.12/site-packages/optuna/trial/_trial.py:497: UserWarning: The reported value is ignored because this `step` 12 is already reported.\n",
      "  warnings.warn(\n",
      "/home/eduardo/Documentos/Water-Cycle-Neural-Network/venv/lib/python3.12/site-packages/optuna/trial/_trial.py:497: UserWarning: The reported value is ignored because this `step` 13 is already reported.\n",
      "  warnings.warn(\n",
      "/home/eduardo/Documentos/Water-Cycle-Neural-Network/venv/lib/python3.12/site-packages/optuna/trial/_trial.py:497: UserWarning: The reported value is ignored because this `step` 14 is already reported.\n",
      "  warnings.warn(\n",
      "/home/eduardo/Documentos/Water-Cycle-Neural-Network/venv/lib/python3.12/site-packages/optuna/trial/_trial.py:497: UserWarning: The reported value is ignored because this `step` 15 is already reported.\n",
      "  warnings.warn(\n",
      "Monitored metric val_loss did not improve in the last 15 records. Best score: 0.009. Signaling Trainer to stop.\n",
      "GPU available: True (cuda), used: True\n",
      "TPU available: False, using: 0 TPU cores\n",
      "HPU available: False, using: 0 HPUs\n",
      "LOCAL_RANK: 0 - CUDA_VISIBLE_DEVICES: [0]\n"
     ]
    },
    {
     "name": "stdout",
     "output_type": "stream",
     "text": [
      "Model loaded from checkpoint for trial 63, fold 1\n"
     ]
    },
    {
     "name": "stderr",
     "output_type": "stream",
     "text": [
      "GPU available: True (cuda), used: True\n",
      "TPU available: False, using: 0 TPU cores\n",
      "HPU available: False, using: 0 HPUs\n",
      "LOCAL_RANK: 0 - CUDA_VISIBLE_DEVICES: [0]\n"
     ]
    },
    {
     "name": "stdout",
     "output_type": "stream",
     "text": [
      "SMAPE fold 1: 51.03025678913651\n",
      "\n",
      "Fold 3/3\n"
     ]
    },
    {
     "name": "stderr",
     "output_type": "stream",
     "text": [
      "/home/eduardo/Documentos/Water-Cycle-Neural-Network/venv/lib/python3.12/site-packages/optuna/trial/_trial.py:497: UserWarning: The reported value is ignored because this `step` 0 is already reported.\n",
      "  warnings.warn(\n",
      "Monitored metric val_loss did not improve in the last 16 records. Best score: 0.009. Signaling Trainer to stop.\n",
      "GPU available: True (cuda), used: True\n",
      "TPU available: False, using: 0 TPU cores\n",
      "HPU available: False, using: 0 HPUs\n",
      "LOCAL_RANK: 0 - CUDA_VISIBLE_DEVICES: [0]\n"
     ]
    },
    {
     "name": "stdout",
     "output_type": "stream",
     "text": [
      "Model loaded from checkpoint for trial 63, fold 2\n"
     ]
    },
    {
     "name": "stderr",
     "output_type": "stream",
     "text": [
      "[I 2025-06-09 15:07:06,276] Trial 63 finished with value: 50.753743763566554 and parameters: {'input_chunk_length': 24, 'hidden_size': 144, 'dropout': 0.4, 'batch_size': 64, 'lr': 0.003560456973215573, 'weight_decay': 0.0020805302303520522, 'num_encoder_layers': 3, 'num_decoder_layers': 2, 'temporal_width_past': 3, 'temporal_width_future': 1, 'use_reversible_instance_norm': True, 'temporal_hidden_size_past': 48, 'temporal_hidden_size_future': 144}. Best is trial 63 with value: 50.753743763566554.\n",
      "GPU available: True (cuda), used: True\n",
      "TPU available: False, using: 0 TPU cores\n",
      "HPU available: False, using: 0 HPUs\n",
      "LOCAL_RANK: 0 - CUDA_VISIBLE_DEVICES: [0]\n"
     ]
    },
    {
     "name": "stdout",
     "output_type": "stream",
     "text": [
      "SMAPE fold 2: 52.58236345262799\n",
      "Média dos SMAPE nos folds: 50.753743763566554\n",
      "Results of trial 63 saved in optuna_iteration_metrics/trial_63.json\n",
      "Current value: 50.753743763566554, Current params: {'input_chunk_length': 24, 'hidden_size': 144, 'dropout': 0.4, 'batch_size': 64, 'lr': 0.003560456973215573, 'weight_decay': 0.0020805302303520522, 'num_encoder_layers': 3, 'num_decoder_layers': 2, 'temporal_width_past': 3, 'temporal_width_future': 1, 'use_reversible_instance_norm': True, 'temporal_hidden_size_past': 48, 'temporal_hidden_size_future': 144}\n",
      "Best value: 50.753743763566554, Best params: {'input_chunk_length': 24, 'hidden_size': 144, 'dropout': 0.4, 'batch_size': 64, 'lr': 0.003560456973215573, 'weight_decay': 0.0020805302303520522, 'num_encoder_layers': 3, 'num_decoder_layers': 2, 'temporal_width_past': 3, 'temporal_width_future': 1, 'use_reversible_instance_norm': True, 'temporal_hidden_size_past': 48, 'temporal_hidden_size_future': 144}\n",
      "\n",
      "Fold 1/3\n"
     ]
    },
    {
     "name": "stderr",
     "output_type": "stream",
     "text": [
      "Metric val_loss improved. New best score: 0.139\n",
      "Metric val_loss improved by 0.021 >= min_delta = 0.0005. New best score: 0.119\n",
      "Metric val_loss improved by 0.003 >= min_delta = 0.0005. New best score: 0.116\n",
      "Metric val_loss improved by 0.001 >= min_delta = 0.0005. New best score: 0.114\n",
      "Metric val_loss improved by 0.001 >= min_delta = 0.0005. New best score: 0.113\n",
      "Metric val_loss improved by 0.001 >= min_delta = 0.0005. New best score: 0.112\n",
      "Metric val_loss improved by 0.001 >= min_delta = 0.0005. New best score: 0.112\n",
      "[I 2025-06-09 15:07:36,755] Trial 64 pruned. Trial was pruned at epoch 24.\n",
      "GPU available: True (cuda), used: True\n",
      "TPU available: False, using: 0 TPU cores\n",
      "HPU available: False, using: 0 HPUs\n",
      "LOCAL_RANK: 0 - CUDA_VISIBLE_DEVICES: [0]\n"
     ]
    },
    {
     "name": "stdout",
     "output_type": "stream",
     "text": [
      "Current value: 0.11322291525801362, Current params: {'input_chunk_length': 48, 'hidden_size': 144, 'dropout': 0.4, 'batch_size': 80, 'lr': 0.0025504340881931688, 'weight_decay': 0.002130860224161507, 'num_encoder_layers': 3, 'num_decoder_layers': 2, 'temporal_width_past': 3, 'temporal_width_future': 1, 'use_reversible_instance_norm': True, 'temporal_hidden_size_past': 48, 'temporal_hidden_size_future': 144}\n",
      "Best value: 50.753743763566554, Best params: {'input_chunk_length': 24, 'hidden_size': 144, 'dropout': 0.4, 'batch_size': 64, 'lr': 0.003560456973215573, 'weight_decay': 0.0020805302303520522, 'num_encoder_layers': 3, 'num_decoder_layers': 2, 'temporal_width_past': 3, 'temporal_width_future': 1, 'use_reversible_instance_norm': True, 'temporal_hidden_size_past': 48, 'temporal_hidden_size_future': 144}\n",
      "\n",
      "Fold 1/3\n"
     ]
    },
    {
     "name": "stderr",
     "output_type": "stream",
     "text": [
      "[I 2025-06-09 15:07:39,012] Trial 65 pruned. Trial was pruned at epoch 0.\n",
      "GPU available: True (cuda), used: True\n",
      "TPU available: False, using: 0 TPU cores\n",
      "HPU available: False, using: 0 HPUs\n",
      "LOCAL_RANK: 0 - CUDA_VISIBLE_DEVICES: [0]\n"
     ]
    },
    {
     "name": "stdout",
     "output_type": "stream",
     "text": [
      "Current value: 0.1791307800729117, Current params: {'input_chunk_length': 156, 'hidden_size': 152, 'dropout': 0.45000000000000007, 'batch_size': 64, 'lr': 0.003850557832629545, 'weight_decay': 2.4940341335936145e-05, 'num_encoder_layers': 2, 'num_decoder_layers': 2, 'temporal_width_past': 3, 'temporal_width_future': 1, 'use_reversible_instance_norm': True, 'temporal_hidden_size_past': 48, 'temporal_hidden_size_future': 144}\n",
      "Best value: 50.753743763566554, Best params: {'input_chunk_length': 24, 'hidden_size': 144, 'dropout': 0.4, 'batch_size': 64, 'lr': 0.003560456973215573, 'weight_decay': 0.0020805302303520522, 'num_encoder_layers': 3, 'num_decoder_layers': 2, 'temporal_width_past': 3, 'temporal_width_future': 1, 'use_reversible_instance_norm': True, 'temporal_hidden_size_past': 48, 'temporal_hidden_size_future': 144}\n",
      "\n",
      "Fold 1/3\n"
     ]
    },
    {
     "name": "stderr",
     "output_type": "stream",
     "text": [
      "Metric val_loss improved. New best score: 0.145\n",
      "Metric val_loss improved by 0.014 >= min_delta = 0.0005. New best score: 0.132\n",
      "Metric val_loss improved by 0.010 >= min_delta = 0.0005. New best score: 0.122\n",
      "Metric val_loss improved by 0.005 >= min_delta = 0.0005. New best score: 0.116\n",
      "Metric val_loss improved by 0.004 >= min_delta = 0.0005. New best score: 0.113\n",
      "Metric val_loss improved by 0.001 >= min_delta = 0.0005. New best score: 0.112\n",
      "Metric val_loss improved by 0.001 >= min_delta = 0.0005. New best score: 0.111\n",
      "Metric val_loss improved by 0.001 >= min_delta = 0.0005. New best score: 0.110\n",
      "Metric val_loss improved by 0.001 >= min_delta = 0.0005. New best score: 0.109\n",
      "Metric val_loss improved by 0.001 >= min_delta = 0.0005. New best score: 0.108\n",
      "Metric val_loss improved by 0.001 >= min_delta = 0.0005. New best score: 0.108\n",
      "`Trainer.fit` stopped: `max_epochs=30` reached.\n",
      "GPU available: True (cuda), used: True\n",
      "TPU available: False, using: 0 TPU cores\n",
      "HPU available: False, using: 0 HPUs\n",
      "LOCAL_RANK: 0 - CUDA_VISIBLE_DEVICES: [0]\n"
     ]
    },
    {
     "name": "stdout",
     "output_type": "stream",
     "text": [
      "Model loaded from checkpoint for trial 66, fold 0\n"
     ]
    },
    {
     "name": "stderr",
     "output_type": "stream",
     "text": [
      "GPU available: True (cuda), used: True\n",
      "TPU available: False, using: 0 TPU cores\n",
      "HPU available: False, using: 0 HPUs\n",
      "LOCAL_RANK: 0 - CUDA_VISIBLE_DEVICES: [0]\n"
     ]
    },
    {
     "name": "stdout",
     "output_type": "stream",
     "text": [
      "SMAPE fold 0: 48.68815623763879\n",
      "\n",
      "Fold 2/3\n"
     ]
    },
    {
     "name": "stderr",
     "output_type": "stream",
     "text": [
      "/home/eduardo/Documentos/Water-Cycle-Neural-Network/venv/lib/python3.12/site-packages/optuna/trial/_trial.py:497: UserWarning: The reported value is ignored because this `step` 0 is already reported.\n",
      "  warnings.warn(\n",
      "Metric val_loss improved by 0.097 >= min_delta = 0.0005. New best score: 0.010\n",
      "/home/eduardo/Documentos/Water-Cycle-Neural-Network/venv/lib/python3.12/site-packages/optuna/trial/_trial.py:497: UserWarning: The reported value is ignored because this `step` 1 is already reported.\n",
      "  warnings.warn(\n",
      "Metric val_loss improved by 0.001 >= min_delta = 0.0005. New best score: 0.010\n",
      "/home/eduardo/Documentos/Water-Cycle-Neural-Network/venv/lib/python3.12/site-packages/optuna/trial/_trial.py:497: UserWarning: The reported value is ignored because this `step` 2 is already reported.\n",
      "  warnings.warn(\n",
      "/home/eduardo/Documentos/Water-Cycle-Neural-Network/venv/lib/python3.12/site-packages/optuna/trial/_trial.py:497: UserWarning: The reported value is ignored because this `step` 3 is already reported.\n",
      "  warnings.warn(\n",
      "/home/eduardo/Documentos/Water-Cycle-Neural-Network/venv/lib/python3.12/site-packages/optuna/trial/_trial.py:497: UserWarning: The reported value is ignored because this `step` 4 is already reported.\n",
      "  warnings.warn(\n",
      "/home/eduardo/Documentos/Water-Cycle-Neural-Network/venv/lib/python3.12/site-packages/optuna/trial/_trial.py:497: UserWarning: The reported value is ignored because this `step` 5 is already reported.\n",
      "  warnings.warn(\n",
      "Metric val_loss improved by 0.001 >= min_delta = 0.0005. New best score: 0.009\n",
      "/home/eduardo/Documentos/Water-Cycle-Neural-Network/venv/lib/python3.12/site-packages/optuna/trial/_trial.py:497: UserWarning: The reported value is ignored because this `step` 6 is already reported.\n",
      "  warnings.warn(\n",
      "/home/eduardo/Documentos/Water-Cycle-Neural-Network/venv/lib/python3.12/site-packages/optuna/trial/_trial.py:497: UserWarning: The reported value is ignored because this `step` 7 is already reported.\n",
      "  warnings.warn(\n",
      "/home/eduardo/Documentos/Water-Cycle-Neural-Network/venv/lib/python3.12/site-packages/optuna/trial/_trial.py:497: UserWarning: The reported value is ignored because this `step` 8 is already reported.\n",
      "  warnings.warn(\n",
      "/home/eduardo/Documentos/Water-Cycle-Neural-Network/venv/lib/python3.12/site-packages/optuna/trial/_trial.py:497: UserWarning: The reported value is ignored because this `step` 9 is already reported.\n",
      "  warnings.warn(\n",
      "/home/eduardo/Documentos/Water-Cycle-Neural-Network/venv/lib/python3.12/site-packages/optuna/trial/_trial.py:497: UserWarning: The reported value is ignored because this `step` 10 is already reported.\n",
      "  warnings.warn(\n",
      "/home/eduardo/Documentos/Water-Cycle-Neural-Network/venv/lib/python3.12/site-packages/optuna/trial/_trial.py:497: UserWarning: The reported value is ignored because this `step` 11 is already reported.\n",
      "  warnings.warn(\n",
      "/home/eduardo/Documentos/Water-Cycle-Neural-Network/venv/lib/python3.12/site-packages/optuna/trial/_trial.py:497: UserWarning: The reported value is ignored because this `step` 12 is already reported.\n",
      "  warnings.warn(\n",
      "/home/eduardo/Documentos/Water-Cycle-Neural-Network/venv/lib/python3.12/site-packages/optuna/trial/_trial.py:497: UserWarning: The reported value is ignored because this `step` 13 is already reported.\n",
      "  warnings.warn(\n",
      "/home/eduardo/Documentos/Water-Cycle-Neural-Network/venv/lib/python3.12/site-packages/optuna/trial/_trial.py:497: UserWarning: The reported value is ignored because this `step` 14 is already reported.\n",
      "  warnings.warn(\n",
      "/home/eduardo/Documentos/Water-Cycle-Neural-Network/venv/lib/python3.12/site-packages/optuna/trial/_trial.py:497: UserWarning: The reported value is ignored because this `step` 15 is already reported.\n",
      "  warnings.warn(\n",
      "/home/eduardo/Documentos/Water-Cycle-Neural-Network/venv/lib/python3.12/site-packages/optuna/trial/_trial.py:497: UserWarning: The reported value is ignored because this `step` 16 is already reported.\n",
      "  warnings.warn(\n",
      "/home/eduardo/Documentos/Water-Cycle-Neural-Network/venv/lib/python3.12/site-packages/optuna/trial/_trial.py:497: UserWarning: The reported value is ignored because this `step` 17 is already reported.\n",
      "  warnings.warn(\n",
      "/home/eduardo/Documentos/Water-Cycle-Neural-Network/venv/lib/python3.12/site-packages/optuna/trial/_trial.py:497: UserWarning: The reported value is ignored because this `step` 18 is already reported.\n",
      "  warnings.warn(\n",
      "/home/eduardo/Documentos/Water-Cycle-Neural-Network/venv/lib/python3.12/site-packages/optuna/trial/_trial.py:497: UserWarning: The reported value is ignored because this `step` 19 is already reported.\n",
      "  warnings.warn(\n",
      "/home/eduardo/Documentos/Water-Cycle-Neural-Network/venv/lib/python3.12/site-packages/optuna/trial/_trial.py:497: UserWarning: The reported value is ignored because this `step` 20 is already reported.\n",
      "  warnings.warn(\n",
      "Monitored metric val_loss did not improve in the last 15 records. Best score: 0.009. Signaling Trainer to stop.\n",
      "GPU available: True (cuda), used: True\n",
      "TPU available: False, using: 0 TPU cores\n",
      "HPU available: False, using: 0 HPUs\n",
      "LOCAL_RANK: 0 - CUDA_VISIBLE_DEVICES: [0]\n"
     ]
    },
    {
     "name": "stdout",
     "output_type": "stream",
     "text": [
      "Model loaded from checkpoint for trial 66, fold 1\n"
     ]
    },
    {
     "name": "stderr",
     "output_type": "stream",
     "text": [
      "GPU available: True (cuda), used: True\n",
      "TPU available: False, using: 0 TPU cores\n",
      "HPU available: False, using: 0 HPUs\n",
      "LOCAL_RANK: 0 - CUDA_VISIBLE_DEVICES: [0]\n"
     ]
    },
    {
     "name": "stdout",
     "output_type": "stream",
     "text": [
      "SMAPE fold 1: 50.98164636630766\n",
      "\n",
      "Fold 3/3\n"
     ]
    },
    {
     "name": "stderr",
     "output_type": "stream",
     "text": [
      "/home/eduardo/Documentos/Water-Cycle-Neural-Network/venv/lib/python3.12/site-packages/optuna/trial/_trial.py:497: UserWarning: The reported value is ignored because this `step` 0 is already reported.\n",
      "  warnings.warn(\n",
      "Monitored metric val_loss did not improve in the last 16 records. Best score: 0.009. Signaling Trainer to stop.\n",
      "GPU available: True (cuda), used: True\n",
      "TPU available: False, using: 0 TPU cores\n",
      "HPU available: False, using: 0 HPUs\n",
      "LOCAL_RANK: 0 - CUDA_VISIBLE_DEVICES: [0]\n"
     ]
    },
    {
     "name": "stdout",
     "output_type": "stream",
     "text": [
      "Model loaded from checkpoint for trial 66, fold 2\n"
     ]
    },
    {
     "name": "stderr",
     "output_type": "stream",
     "text": [
      "[I 2025-06-09 15:10:41,730] Trial 66 finished with value: 51.04533533938666 and parameters: {'input_chunk_length': 36, 'hidden_size': 112, 'dropout': 0.4, 'batch_size': 96, 'lr': 0.00151990931357288, 'weight_decay': 0.001175886637278853, 'num_encoder_layers': 3, 'num_decoder_layers': 2, 'temporal_width_past': 4, 'temporal_width_future': 1, 'use_reversible_instance_norm': True, 'temporal_hidden_size_past': 48, 'temporal_hidden_size_future': 84}. Best is trial 63 with value: 50.753743763566554.\n",
      "GPU available: True (cuda), used: True\n",
      "TPU available: False, using: 0 TPU cores\n",
      "HPU available: False, using: 0 HPUs\n",
      "LOCAL_RANK: 0 - CUDA_VISIBLE_DEVICES: [0]\n"
     ]
    },
    {
     "name": "stdout",
     "output_type": "stream",
     "text": [
      "SMAPE fold 2: 53.466203414213524\n",
      "Média dos SMAPE nos folds: 51.04533533938666\n",
      "Results of trial 66 saved in optuna_iteration_metrics/trial_66.json\n",
      "Current value: 51.04533533938666, Current params: {'input_chunk_length': 36, 'hidden_size': 112, 'dropout': 0.4, 'batch_size': 96, 'lr': 0.00151990931357288, 'weight_decay': 0.001175886637278853, 'num_encoder_layers': 3, 'num_decoder_layers': 2, 'temporal_width_past': 4, 'temporal_width_future': 1, 'use_reversible_instance_norm': True, 'temporal_hidden_size_past': 48, 'temporal_hidden_size_future': 84}\n",
      "Best value: 50.753743763566554, Best params: {'input_chunk_length': 24, 'hidden_size': 144, 'dropout': 0.4, 'batch_size': 64, 'lr': 0.003560456973215573, 'weight_decay': 0.0020805302303520522, 'num_encoder_layers': 3, 'num_decoder_layers': 2, 'temporal_width_past': 3, 'temporal_width_future': 1, 'use_reversible_instance_norm': True, 'temporal_hidden_size_past': 48, 'temporal_hidden_size_future': 144}\n",
      "\n",
      "Fold 1/3\n"
     ]
    },
    {
     "name": "stderr",
     "output_type": "stream",
     "text": [
      "Metric val_loss improved. New best score: 0.128\n",
      "Metric val_loss improved by 0.005 >= min_delta = 0.0005. New best score: 0.123\n",
      "Metric val_loss improved by 0.004 >= min_delta = 0.0005. New best score: 0.120\n",
      "Metric val_loss improved by 0.002 >= min_delta = 0.0005. New best score: 0.118\n",
      "Metric val_loss improved by 0.001 >= min_delta = 0.0005. New best score: 0.116\n",
      "Metric val_loss improved by 0.001 >= min_delta = 0.0005. New best score: 0.115\n",
      "Metric val_loss improved by 0.001 >= min_delta = 0.0005. New best score: 0.114\n",
      "Metric val_loss improved by 0.001 >= min_delta = 0.0005. New best score: 0.113\n",
      "Metric val_loss improved by 0.001 >= min_delta = 0.0005. New best score: 0.112\n",
      "Metric val_loss improved by 0.001 >= min_delta = 0.0005. New best score: 0.111\n",
      "Metric val_loss improved by 0.001 >= min_delta = 0.0005. New best score: 0.111\n",
      "Metric val_loss improved by 0.001 >= min_delta = 0.0005. New best score: 0.110\n",
      "Metric val_loss improved by 0.001 >= min_delta = 0.0005. New best score: 0.109\n",
      "`Trainer.fit` stopped: `max_epochs=30` reached.\n",
      "GPU available: True (cuda), used: True\n",
      "TPU available: False, using: 0 TPU cores\n",
      "HPU available: False, using: 0 HPUs\n",
      "LOCAL_RANK: 0 - CUDA_VISIBLE_DEVICES: [0]\n"
     ]
    },
    {
     "name": "stdout",
     "output_type": "stream",
     "text": [
      "Model loaded from checkpoint for trial 67, fold 0\n"
     ]
    },
    {
     "name": "stderr",
     "output_type": "stream",
     "text": [
      "GPU available: True (cuda), used: True\n",
      "TPU available: False, using: 0 TPU cores\n",
      "HPU available: False, using: 0 HPUs\n",
      "LOCAL_RANK: 0 - CUDA_VISIBLE_DEVICES: [0]\n"
     ]
    },
    {
     "name": "stdout",
     "output_type": "stream",
     "text": [
      "SMAPE fold 0: 48.66455490304669\n",
      "\n",
      "Fold 2/3\n"
     ]
    },
    {
     "name": "stderr",
     "output_type": "stream",
     "text": [
      "/home/eduardo/Documentos/Water-Cycle-Neural-Network/venv/lib/python3.12/site-packages/optuna/trial/_trial.py:497: UserWarning: The reported value is ignored because this `step` 0 is already reported.\n",
      "  warnings.warn(\n",
      "Metric val_loss improved by 0.099 >= min_delta = 0.0005. New best score: 0.010\n",
      "/home/eduardo/Documentos/Water-Cycle-Neural-Network/venv/lib/python3.12/site-packages/optuna/trial/_trial.py:497: UserWarning: The reported value is ignored because this `step` 1 is already reported.\n",
      "  warnings.warn(\n",
      "/home/eduardo/Documentos/Water-Cycle-Neural-Network/venv/lib/python3.12/site-packages/optuna/trial/_trial.py:497: UserWarning: The reported value is ignored because this `step` 2 is already reported.\n",
      "  warnings.warn(\n",
      "/home/eduardo/Documentos/Water-Cycle-Neural-Network/venv/lib/python3.12/site-packages/optuna/trial/_trial.py:497: UserWarning: The reported value is ignored because this `step` 3 is already reported.\n",
      "  warnings.warn(\n",
      "Metric val_loss improved by 0.001 >= min_delta = 0.0005. New best score: 0.009\n",
      "/home/eduardo/Documentos/Water-Cycle-Neural-Network/venv/lib/python3.12/site-packages/optuna/trial/_trial.py:497: UserWarning: The reported value is ignored because this `step` 4 is already reported.\n",
      "  warnings.warn(\n",
      "/home/eduardo/Documentos/Water-Cycle-Neural-Network/venv/lib/python3.12/site-packages/optuna/trial/_trial.py:497: UserWarning: The reported value is ignored because this `step` 5 is already reported.\n",
      "  warnings.warn(\n",
      "/home/eduardo/Documentos/Water-Cycle-Neural-Network/venv/lib/python3.12/site-packages/optuna/trial/_trial.py:497: UserWarning: The reported value is ignored because this `step` 6 is already reported.\n",
      "  warnings.warn(\n",
      "/home/eduardo/Documentos/Water-Cycle-Neural-Network/venv/lib/python3.12/site-packages/optuna/trial/_trial.py:497: UserWarning: The reported value is ignored because this `step` 7 is already reported.\n",
      "  warnings.warn(\n",
      "/home/eduardo/Documentos/Water-Cycle-Neural-Network/venv/lib/python3.12/site-packages/optuna/trial/_trial.py:497: UserWarning: The reported value is ignored because this `step` 8 is already reported.\n",
      "  warnings.warn(\n",
      "/home/eduardo/Documentos/Water-Cycle-Neural-Network/venv/lib/python3.12/site-packages/optuna/trial/_trial.py:497: UserWarning: The reported value is ignored because this `step` 9 is already reported.\n",
      "  warnings.warn(\n",
      "/home/eduardo/Documentos/Water-Cycle-Neural-Network/venv/lib/python3.12/site-packages/optuna/trial/_trial.py:497: UserWarning: The reported value is ignored because this `step` 10 is already reported.\n",
      "  warnings.warn(\n",
      "/home/eduardo/Documentos/Water-Cycle-Neural-Network/venv/lib/python3.12/site-packages/optuna/trial/_trial.py:497: UserWarning: The reported value is ignored because this `step` 11 is already reported.\n",
      "  warnings.warn(\n",
      "/home/eduardo/Documentos/Water-Cycle-Neural-Network/venv/lib/python3.12/site-packages/optuna/trial/_trial.py:497: UserWarning: The reported value is ignored because this `step` 12 is already reported.\n",
      "  warnings.warn(\n",
      "/home/eduardo/Documentos/Water-Cycle-Neural-Network/venv/lib/python3.12/site-packages/optuna/trial/_trial.py:497: UserWarning: The reported value is ignored because this `step` 13 is already reported.\n",
      "  warnings.warn(\n",
      "/home/eduardo/Documentos/Water-Cycle-Neural-Network/venv/lib/python3.12/site-packages/optuna/trial/_trial.py:497: UserWarning: The reported value is ignored because this `step` 14 is already reported.\n",
      "  warnings.warn(\n",
      "/home/eduardo/Documentos/Water-Cycle-Neural-Network/venv/lib/python3.12/site-packages/optuna/trial/_trial.py:497: UserWarning: The reported value is ignored because this `step` 15 is already reported.\n",
      "  warnings.warn(\n",
      "/home/eduardo/Documentos/Water-Cycle-Neural-Network/venv/lib/python3.12/site-packages/optuna/trial/_trial.py:497: UserWarning: The reported value is ignored because this `step` 16 is already reported.\n",
      "  warnings.warn(\n",
      "/home/eduardo/Documentos/Water-Cycle-Neural-Network/venv/lib/python3.12/site-packages/optuna/trial/_trial.py:497: UserWarning: The reported value is ignored because this `step` 17 is already reported.\n",
      "  warnings.warn(\n",
      "/home/eduardo/Documentos/Water-Cycle-Neural-Network/venv/lib/python3.12/site-packages/optuna/trial/_trial.py:497: UserWarning: The reported value is ignored because this `step` 18 is already reported.\n",
      "  warnings.warn(\n",
      "Monitored metric val_loss did not improve in the last 15 records. Best score: 0.009. Signaling Trainer to stop.\n",
      "GPU available: True (cuda), used: True\n",
      "TPU available: False, using: 0 TPU cores\n",
      "HPU available: False, using: 0 HPUs\n",
      "LOCAL_RANK: 0 - CUDA_VISIBLE_DEVICES: [0]\n"
     ]
    },
    {
     "name": "stdout",
     "output_type": "stream",
     "text": [
      "Model loaded from checkpoint for trial 67, fold 1\n"
     ]
    },
    {
     "name": "stderr",
     "output_type": "stream",
     "text": [
      "GPU available: True (cuda), used: True\n",
      "TPU available: False, using: 0 TPU cores\n",
      "HPU available: False, using: 0 HPUs\n",
      "LOCAL_RANK: 0 - CUDA_VISIBLE_DEVICES: [0]\n"
     ]
    },
    {
     "name": "stdout",
     "output_type": "stream",
     "text": [
      "SMAPE fold 1: 51.01501231564865\n",
      "\n",
      "Fold 3/3\n"
     ]
    },
    {
     "name": "stderr",
     "output_type": "stream",
     "text": [
      "/home/eduardo/Documentos/Water-Cycle-Neural-Network/venv/lib/python3.12/site-packages/optuna/trial/_trial.py:497: UserWarning: The reported value is ignored because this `step` 0 is already reported.\n",
      "  warnings.warn(\n",
      "Monitored metric val_loss did not improve in the last 16 records. Best score: 0.009. Signaling Trainer to stop.\n",
      "GPU available: True (cuda), used: True\n",
      "TPU available: False, using: 0 TPU cores\n",
      "HPU available: False, using: 0 HPUs\n",
      "LOCAL_RANK: 0 - CUDA_VISIBLE_DEVICES: [0]\n"
     ]
    },
    {
     "name": "stdout",
     "output_type": "stream",
     "text": [
      "Model loaded from checkpoint for trial 67, fold 2\n"
     ]
    },
    {
     "name": "stderr",
     "output_type": "stream",
     "text": [
      "[I 2025-06-09 15:11:52,901] Trial 67 finished with value: 51.413270903059576 and parameters: {'input_chunk_length': 24, 'hidden_size': 136, 'dropout': 0.25, 'batch_size': 80, 'lr': 0.0009355885151724856, 'weight_decay': 0.0018368346632427353, 'num_encoder_layers': 3, 'num_decoder_layers': 2, 'temporal_width_past': 3, 'temporal_width_future': 2, 'use_reversible_instance_norm': True, 'temporal_hidden_size_past': 168, 'temporal_hidden_size_future': 156}. Best is trial 63 with value: 50.753743763566554.\n",
      "GPU available: True (cuda), used: True\n",
      "TPU available: False, using: 0 TPU cores\n",
      "HPU available: False, using: 0 HPUs\n",
      "LOCAL_RANK: 0 - CUDA_VISIBLE_DEVICES: [0]\n"
     ]
    },
    {
     "name": "stdout",
     "output_type": "stream",
     "text": [
      "SMAPE fold 2: 54.56024549048338\n",
      "Média dos SMAPE nos folds: 51.413270903059576\n",
      "Results of trial 67 saved in optuna_iteration_metrics/trial_67.json\n",
      "Current value: 51.413270903059576, Current params: {'input_chunk_length': 24, 'hidden_size': 136, 'dropout': 0.25, 'batch_size': 80, 'lr': 0.0009355885151724856, 'weight_decay': 0.0018368346632427353, 'num_encoder_layers': 3, 'num_decoder_layers': 2, 'temporal_width_past': 3, 'temporal_width_future': 2, 'use_reversible_instance_norm': True, 'temporal_hidden_size_past': 168, 'temporal_hidden_size_future': 156}\n",
      "Best value: 50.753743763566554, Best params: {'input_chunk_length': 24, 'hidden_size': 144, 'dropout': 0.4, 'batch_size': 64, 'lr': 0.003560456973215573, 'weight_decay': 0.0020805302303520522, 'num_encoder_layers': 3, 'num_decoder_layers': 2, 'temporal_width_past': 3, 'temporal_width_future': 1, 'use_reversible_instance_norm': True, 'temporal_hidden_size_past': 48, 'temporal_hidden_size_future': 144}\n",
      "\n",
      "Fold 1/3\n"
     ]
    },
    {
     "name": "stderr",
     "output_type": "stream",
     "text": [
      "[I 2025-06-09 15:11:54,859] Trial 68 pruned. Trial was pruned at epoch 0.\n",
      "GPU available: True (cuda), used: True\n",
      "TPU available: False, using: 0 TPU cores\n",
      "HPU available: False, using: 0 HPUs\n",
      "LOCAL_RANK: 0 - CUDA_VISIBLE_DEVICES: [0]\n"
     ]
    },
    {
     "name": "stdout",
     "output_type": "stream",
     "text": [
      "Current value: 0.17430709995179988, Current params: {'input_chunk_length': 36, 'hidden_size': 168, 'dropout': 0.35, 'batch_size': 64, 'lr': 0.0004355336127268917, 'weight_decay': 0.005811202606863031, 'num_encoder_layers': 3, 'num_decoder_layers': 2, 'temporal_width_past': 3, 'temporal_width_future': 1, 'use_reversible_instance_norm': True, 'temporal_hidden_size_past': 144, 'temporal_hidden_size_future': 108}\n",
      "Best value: 50.753743763566554, Best params: {'input_chunk_length': 24, 'hidden_size': 144, 'dropout': 0.4, 'batch_size': 64, 'lr': 0.003560456973215573, 'weight_decay': 0.0020805302303520522, 'num_encoder_layers': 3, 'num_decoder_layers': 2, 'temporal_width_past': 3, 'temporal_width_future': 1, 'use_reversible_instance_norm': True, 'temporal_hidden_size_past': 48, 'temporal_hidden_size_future': 144}\n",
      "\n",
      "Fold 1/3\n"
     ]
    },
    {
     "name": "stderr",
     "output_type": "stream",
     "text": [
      "[I 2025-06-09 15:11:56,939] Trial 69 pruned. Trial was pruned at epoch 0.\n",
      "GPU available: True (cuda), used: True\n",
      "TPU available: False, using: 0 TPU cores\n",
      "HPU available: False, using: 0 HPUs\n",
      "LOCAL_RANK: 0 - CUDA_VISIBLE_DEVICES: [0]\n"
     ]
    },
    {
     "name": "stdout",
     "output_type": "stream",
     "text": [
      "Current value: 2.118884128147761, Current params: {'input_chunk_length': 36, 'hidden_size': 112, 'dropout': 0.4, 'batch_size': 104, 'lr': 0.0025680183356658875, 'weight_decay': 0.008769996738921612, 'num_encoder_layers': 2, 'num_decoder_layers': 2, 'temporal_width_past': 4, 'temporal_width_future': 2, 'use_reversible_instance_norm': False, 'temporal_hidden_size_past': 36, 'temporal_hidden_size_future': 120}\n",
      "Best value: 50.753743763566554, Best params: {'input_chunk_length': 24, 'hidden_size': 144, 'dropout': 0.4, 'batch_size': 64, 'lr': 0.003560456973215573, 'weight_decay': 0.0020805302303520522, 'num_encoder_layers': 3, 'num_decoder_layers': 2, 'temporal_width_past': 3, 'temporal_width_future': 1, 'use_reversible_instance_norm': True, 'temporal_hidden_size_past': 48, 'temporal_hidden_size_future': 144}\n",
      "\n",
      "Fold 1/3\n"
     ]
    },
    {
     "name": "stderr",
     "output_type": "stream",
     "text": [
      "[I 2025-06-09 15:11:59,315] Trial 70 pruned. Trial was pruned at epoch 0.\n",
      "GPU available: True (cuda), used: True\n",
      "TPU available: False, using: 0 TPU cores\n",
      "HPU available: False, using: 0 HPUs\n",
      "LOCAL_RANK: 0 - CUDA_VISIBLE_DEVICES: [0]\n"
     ]
    },
    {
     "name": "stdout",
     "output_type": "stream",
     "text": [
      "Current value: 0.15939524037738528, Current params: {'input_chunk_length': 120, 'hidden_size': 152, 'dropout': 0.30000000000000004, 'batch_size': 88, 'lr': 0.0038548833124744156, 'weight_decay': 0.0037877602797585985, 'num_encoder_layers': 3, 'num_decoder_layers': 3, 'temporal_width_past': 3, 'temporal_width_future': 1, 'use_reversible_instance_norm': True, 'temporal_hidden_size_past': 24, 'temporal_hidden_size_future': 144}\n",
      "Best value: 50.753743763566554, Best params: {'input_chunk_length': 24, 'hidden_size': 144, 'dropout': 0.4, 'batch_size': 64, 'lr': 0.003560456973215573, 'weight_decay': 0.0020805302303520522, 'num_encoder_layers': 3, 'num_decoder_layers': 2, 'temporal_width_past': 3, 'temporal_width_future': 1, 'use_reversible_instance_norm': True, 'temporal_hidden_size_past': 48, 'temporal_hidden_size_future': 144}\n",
      "\n",
      "Fold 1/3\n"
     ]
    },
    {
     "name": "stderr",
     "output_type": "stream",
     "text": [
      "Metric val_loss improved. New best score: 0.131\n",
      "Metric val_loss improved by 0.010 >= min_delta = 0.0005. New best score: 0.122\n",
      "Metric val_loss improved by 0.003 >= min_delta = 0.0005. New best score: 0.118\n",
      "Metric val_loss improved by 0.003 >= min_delta = 0.0005. New best score: 0.115\n",
      "Metric val_loss improved by 0.002 >= min_delta = 0.0005. New best score: 0.114\n",
      "Metric val_loss improved by 0.001 >= min_delta = 0.0005. New best score: 0.112\n",
      "Metric val_loss improved by 0.002 >= min_delta = 0.0005. New best score: 0.110\n",
      "Metric val_loss improved by 0.001 >= min_delta = 0.0005. New best score: 0.110\n",
      "Metric val_loss improved by 0.001 >= min_delta = 0.0005. New best score: 0.109\n",
      "Metric val_loss improved by 0.001 >= min_delta = 0.0005. New best score: 0.108\n",
      "Metric val_loss improved by 0.002 >= min_delta = 0.0005. New best score: 0.106\n",
      "Metric val_loss improved by 0.001 >= min_delta = 0.0005. New best score: 0.106\n",
      "`Trainer.fit` stopped: `max_epochs=30` reached.\n",
      "GPU available: True (cuda), used: True\n",
      "TPU available: False, using: 0 TPU cores\n",
      "HPU available: False, using: 0 HPUs\n",
      "LOCAL_RANK: 0 - CUDA_VISIBLE_DEVICES: [0]\n"
     ]
    },
    {
     "name": "stdout",
     "output_type": "stream",
     "text": [
      "Model loaded from checkpoint for trial 71, fold 0\n"
     ]
    },
    {
     "name": "stderr",
     "output_type": "stream",
     "text": [
      "GPU available: True (cuda), used: True\n",
      "TPU available: False, using: 0 TPU cores\n",
      "HPU available: False, using: 0 HPUs\n",
      "LOCAL_RANK: 0 - CUDA_VISIBLE_DEVICES: [0]\n"
     ]
    },
    {
     "name": "stdout",
     "output_type": "stream",
     "text": [
      "SMAPE fold 0: 48.719376407653755\n",
      "\n",
      "Fold 2/3\n"
     ]
    },
    {
     "name": "stderr",
     "output_type": "stream",
     "text": [
      "/home/eduardo/Documentos/Water-Cycle-Neural-Network/venv/lib/python3.12/site-packages/optuna/trial/_trial.py:497: UserWarning: The reported value is ignored because this `step` 0 is already reported.\n",
      "  warnings.warn(\n",
      "Metric val_loss improved by 0.096 >= min_delta = 0.0005. New best score: 0.009\n",
      "/home/eduardo/Documentos/Water-Cycle-Neural-Network/venv/lib/python3.12/site-packages/optuna/trial/_trial.py:497: UserWarning: The reported value is ignored because this `step` 1 is already reported.\n",
      "  warnings.warn(\n",
      "/home/eduardo/Documentos/Water-Cycle-Neural-Network/venv/lib/python3.12/site-packages/optuna/trial/_trial.py:497: UserWarning: The reported value is ignored because this `step` 2 is already reported.\n",
      "  warnings.warn(\n",
      "/home/eduardo/Documentos/Water-Cycle-Neural-Network/venv/lib/python3.12/site-packages/optuna/trial/_trial.py:497: UserWarning: The reported value is ignored because this `step` 3 is already reported.\n",
      "  warnings.warn(\n",
      "/home/eduardo/Documentos/Water-Cycle-Neural-Network/venv/lib/python3.12/site-packages/optuna/trial/_trial.py:497: UserWarning: The reported value is ignored because this `step` 4 is already reported.\n",
      "  warnings.warn(\n",
      "/home/eduardo/Documentos/Water-Cycle-Neural-Network/venv/lib/python3.12/site-packages/optuna/trial/_trial.py:497: UserWarning: The reported value is ignored because this `step` 5 is already reported.\n",
      "  warnings.warn(\n",
      "/home/eduardo/Documentos/Water-Cycle-Neural-Network/venv/lib/python3.12/site-packages/optuna/trial/_trial.py:497: UserWarning: The reported value is ignored because this `step` 6 is already reported.\n",
      "  warnings.warn(\n",
      "/home/eduardo/Documentos/Water-Cycle-Neural-Network/venv/lib/python3.12/site-packages/optuna/trial/_trial.py:497: UserWarning: The reported value is ignored because this `step` 7 is already reported.\n",
      "  warnings.warn(\n",
      "/home/eduardo/Documentos/Water-Cycle-Neural-Network/venv/lib/python3.12/site-packages/optuna/trial/_trial.py:497: UserWarning: The reported value is ignored because this `step` 8 is already reported.\n",
      "  warnings.warn(\n",
      "/home/eduardo/Documentos/Water-Cycle-Neural-Network/venv/lib/python3.12/site-packages/optuna/trial/_trial.py:497: UserWarning: The reported value is ignored because this `step` 9 is already reported.\n",
      "  warnings.warn(\n",
      "/home/eduardo/Documentos/Water-Cycle-Neural-Network/venv/lib/python3.12/site-packages/optuna/trial/_trial.py:497: UserWarning: The reported value is ignored because this `step` 10 is already reported.\n",
      "  warnings.warn(\n",
      "/home/eduardo/Documentos/Water-Cycle-Neural-Network/venv/lib/python3.12/site-packages/optuna/trial/_trial.py:497: UserWarning: The reported value is ignored because this `step` 11 is already reported.\n",
      "  warnings.warn(\n",
      "/home/eduardo/Documentos/Water-Cycle-Neural-Network/venv/lib/python3.12/site-packages/optuna/trial/_trial.py:497: UserWarning: The reported value is ignored because this `step` 12 is already reported.\n",
      "  warnings.warn(\n",
      "/home/eduardo/Documentos/Water-Cycle-Neural-Network/venv/lib/python3.12/site-packages/optuna/trial/_trial.py:497: UserWarning: The reported value is ignored because this `step` 13 is already reported.\n",
      "  warnings.warn(\n",
      "/home/eduardo/Documentos/Water-Cycle-Neural-Network/venv/lib/python3.12/site-packages/optuna/trial/_trial.py:497: UserWarning: The reported value is ignored because this `step` 14 is already reported.\n",
      "  warnings.warn(\n",
      "/home/eduardo/Documentos/Water-Cycle-Neural-Network/venv/lib/python3.12/site-packages/optuna/trial/_trial.py:497: UserWarning: The reported value is ignored because this `step` 15 is already reported.\n",
      "  warnings.warn(\n",
      "Monitored metric val_loss did not improve in the last 15 records. Best score: 0.009. Signaling Trainer to stop.\n",
      "GPU available: True (cuda), used: True\n",
      "TPU available: False, using: 0 TPU cores\n",
      "HPU available: False, using: 0 HPUs\n",
      "LOCAL_RANK: 0 - CUDA_VISIBLE_DEVICES: [0]\n"
     ]
    },
    {
     "name": "stdout",
     "output_type": "stream",
     "text": [
      "Model loaded from checkpoint for trial 71, fold 1\n"
     ]
    },
    {
     "name": "stderr",
     "output_type": "stream",
     "text": [
      "GPU available: True (cuda), used: True\n",
      "TPU available: False, using: 0 TPU cores\n",
      "HPU available: False, using: 0 HPUs\n",
      "LOCAL_RANK: 0 - CUDA_VISIBLE_DEVICES: [0]\n"
     ]
    },
    {
     "name": "stdout",
     "output_type": "stream",
     "text": [
      "SMAPE fold 1: 51.025287980272296\n",
      "\n",
      "Fold 3/3\n"
     ]
    },
    {
     "name": "stderr",
     "output_type": "stream",
     "text": [
      "/home/eduardo/Documentos/Water-Cycle-Neural-Network/venv/lib/python3.12/site-packages/optuna/trial/_trial.py:497: UserWarning: The reported value is ignored because this `step` 0 is already reported.\n",
      "  warnings.warn(\n",
      "Monitored metric val_loss did not improve in the last 16 records. Best score: 0.009. Signaling Trainer to stop.\n",
      "GPU available: True (cuda), used: True\n",
      "TPU available: False, using: 0 TPU cores\n",
      "HPU available: False, using: 0 HPUs\n",
      "LOCAL_RANK: 0 - CUDA_VISIBLE_DEVICES: [0]\n"
     ]
    },
    {
     "name": "stdout",
     "output_type": "stream",
     "text": [
      "Model loaded from checkpoint for trial 71, fold 2\n"
     ]
    },
    {
     "name": "stderr",
     "output_type": "stream",
     "text": [
      "[I 2025-06-09 15:15:54,040] Trial 71 finished with value: 50.8557312840868 and parameters: {'input_chunk_length': 24, 'hidden_size': 120, 'dropout': 0.35, 'batch_size': 72, 'lr': 0.0033282476625675793, 'weight_decay': 0.00264411545351366, 'num_encoder_layers': 3, 'num_decoder_layers': 2, 'temporal_width_past': 3, 'temporal_width_future': 1, 'use_reversible_instance_norm': True, 'temporal_hidden_size_past': 24, 'temporal_hidden_size_future': 156}. Best is trial 63 with value: 50.753743763566554.\n",
      "GPU available: True (cuda), used: True\n",
      "TPU available: False, using: 0 TPU cores\n",
      "HPU available: False, using: 0 HPUs\n",
      "LOCAL_RANK: 0 - CUDA_VISIBLE_DEVICES: [0]\n"
     ]
    },
    {
     "name": "stdout",
     "output_type": "stream",
     "text": [
      "SMAPE fold 2: 52.82252946433436\n",
      "Média dos SMAPE nos folds: 50.8557312840868\n",
      "Results of trial 71 saved in optuna_iteration_metrics/trial_71.json\n",
      "Current value: 50.8557312840868, Current params: {'input_chunk_length': 24, 'hidden_size': 120, 'dropout': 0.35, 'batch_size': 72, 'lr': 0.0033282476625675793, 'weight_decay': 0.00264411545351366, 'num_encoder_layers': 3, 'num_decoder_layers': 2, 'temporal_width_past': 3, 'temporal_width_future': 1, 'use_reversible_instance_norm': True, 'temporal_hidden_size_past': 24, 'temporal_hidden_size_future': 156}\n",
      "Best value: 50.753743763566554, Best params: {'input_chunk_length': 24, 'hidden_size': 144, 'dropout': 0.4, 'batch_size': 64, 'lr': 0.003560456973215573, 'weight_decay': 0.0020805302303520522, 'num_encoder_layers': 3, 'num_decoder_layers': 2, 'temporal_width_past': 3, 'temporal_width_future': 1, 'use_reversible_instance_norm': True, 'temporal_hidden_size_past': 48, 'temporal_hidden_size_future': 144}\n",
      "\n",
      "Fold 1/3\n"
     ]
    },
    {
     "name": "stderr",
     "output_type": "stream",
     "text": [
      "Metric val_loss improved. New best score: 0.150\n",
      "[I 2025-06-09 15:15:57,203] Trial 72 pruned. Trial was pruned at epoch 1.\n",
      "GPU available: True (cuda), used: True\n",
      "TPU available: False, using: 0 TPU cores\n",
      "HPU available: False, using: 0 HPUs\n",
      "LOCAL_RANK: 0 - CUDA_VISIBLE_DEVICES: [0]\n"
     ]
    },
    {
     "name": "stdout",
     "output_type": "stream",
     "text": [
      "Current value: 0.14191572543983544, Current params: {'input_chunk_length': 132, 'hidden_size': 136, 'dropout': 0.35, 'batch_size': 72, 'lr': 0.003059524606649603, 'weight_decay': 0.002451024918091709, 'num_encoder_layers': 3, 'num_decoder_layers': 2, 'temporal_width_past': 3, 'temporal_width_future': 1, 'use_reversible_instance_norm': True, 'temporal_hidden_size_past': 36, 'temporal_hidden_size_future': 168}\n",
      "Best value: 50.753743763566554, Best params: {'input_chunk_length': 24, 'hidden_size': 144, 'dropout': 0.4, 'batch_size': 64, 'lr': 0.003560456973215573, 'weight_decay': 0.0020805302303520522, 'num_encoder_layers': 3, 'num_decoder_layers': 2, 'temporal_width_past': 3, 'temporal_width_future': 1, 'use_reversible_instance_norm': True, 'temporal_hidden_size_past': 48, 'temporal_hidden_size_future': 144}\n",
      "\n",
      "Fold 1/3\n"
     ]
    },
    {
     "name": "stderr",
     "output_type": "stream",
     "text": [
      "Metric val_loss improved. New best score: 0.125\n",
      "Metric val_loss improved by 0.008 >= min_delta = 0.0005. New best score: 0.117\n",
      "Metric val_loss improved by 0.005 >= min_delta = 0.0005. New best score: 0.113\n",
      "Metric val_loss improved by 0.001 >= min_delta = 0.0005. New best score: 0.111\n",
      "Metric val_loss improved by 0.001 >= min_delta = 0.0005. New best score: 0.110\n",
      "Metric val_loss improved by 0.001 >= min_delta = 0.0005. New best score: 0.110\n",
      "Metric val_loss improved by 0.001 >= min_delta = 0.0005. New best score: 0.109\n",
      "Metric val_loss improved by 0.001 >= min_delta = 0.0005. New best score: 0.108\n",
      "Metric val_loss improved by 0.001 >= min_delta = 0.0005. New best score: 0.107\n",
      "Metric val_loss improved by 0.001 >= min_delta = 0.0005. New best score: 0.107\n",
      "Metric val_loss improved by 0.001 >= min_delta = 0.0005. New best score: 0.106\n",
      "`Trainer.fit` stopped: `max_epochs=30` reached.\n",
      "GPU available: True (cuda), used: True\n",
      "TPU available: False, using: 0 TPU cores\n",
      "HPU available: False, using: 0 HPUs\n",
      "LOCAL_RANK: 0 - CUDA_VISIBLE_DEVICES: [0]\n"
     ]
    },
    {
     "name": "stdout",
     "output_type": "stream",
     "text": [
      "Model loaded from checkpoint for trial 73, fold 0\n"
     ]
    },
    {
     "name": "stderr",
     "output_type": "stream",
     "text": [
      "GPU available: True (cuda), used: True\n",
      "TPU available: False, using: 0 TPU cores\n",
      "HPU available: False, using: 0 HPUs\n",
      "LOCAL_RANK: 0 - CUDA_VISIBLE_DEVICES: [0]\n"
     ]
    },
    {
     "name": "stdout",
     "output_type": "stream",
     "text": [
      "SMAPE fold 0: 48.628533811810655\n",
      "\n",
      "Fold 2/3\n"
     ]
    },
    {
     "name": "stderr",
     "output_type": "stream",
     "text": [
      "/home/eduardo/Documentos/Water-Cycle-Neural-Network/venv/lib/python3.12/site-packages/optuna/trial/_trial.py:497: UserWarning: The reported value is ignored because this `step` 0 is already reported.\n",
      "  warnings.warn(\n",
      "Metric val_loss improved by 0.096 >= min_delta = 0.0005. New best score: 0.010\n",
      "/home/eduardo/Documentos/Water-Cycle-Neural-Network/venv/lib/python3.12/site-packages/optuna/trial/_trial.py:497: UserWarning: The reported value is ignored because this `step` 1 is already reported.\n",
      "  warnings.warn(\n",
      "/home/eduardo/Documentos/Water-Cycle-Neural-Network/venv/lib/python3.12/site-packages/optuna/trial/_trial.py:497: UserWarning: The reported value is ignored because this `step` 2 is already reported.\n",
      "  warnings.warn(\n",
      "/home/eduardo/Documentos/Water-Cycle-Neural-Network/venv/lib/python3.12/site-packages/optuna/trial/_trial.py:497: UserWarning: The reported value is ignored because this `step` 3 is already reported.\n",
      "  warnings.warn(\n",
      "Metric val_loss improved by 0.001 >= min_delta = 0.0005. New best score: 0.009\n",
      "/home/eduardo/Documentos/Water-Cycle-Neural-Network/venv/lib/python3.12/site-packages/optuna/trial/_trial.py:497: UserWarning: The reported value is ignored because this `step` 4 is already reported.\n",
      "  warnings.warn(\n",
      "/home/eduardo/Documentos/Water-Cycle-Neural-Network/venv/lib/python3.12/site-packages/optuna/trial/_trial.py:497: UserWarning: The reported value is ignored because this `step` 5 is already reported.\n",
      "  warnings.warn(\n",
      "/home/eduardo/Documentos/Water-Cycle-Neural-Network/venv/lib/python3.12/site-packages/optuna/trial/_trial.py:497: UserWarning: The reported value is ignored because this `step` 6 is already reported.\n",
      "  warnings.warn(\n",
      "/home/eduardo/Documentos/Water-Cycle-Neural-Network/venv/lib/python3.12/site-packages/optuna/trial/_trial.py:497: UserWarning: The reported value is ignored because this `step` 7 is already reported.\n",
      "  warnings.warn(\n",
      "/home/eduardo/Documentos/Water-Cycle-Neural-Network/venv/lib/python3.12/site-packages/optuna/trial/_trial.py:497: UserWarning: The reported value is ignored because this `step` 8 is already reported.\n",
      "  warnings.warn(\n",
      "/home/eduardo/Documentos/Water-Cycle-Neural-Network/venv/lib/python3.12/site-packages/optuna/trial/_trial.py:497: UserWarning: The reported value is ignored because this `step` 9 is already reported.\n",
      "  warnings.warn(\n",
      "/home/eduardo/Documentos/Water-Cycle-Neural-Network/venv/lib/python3.12/site-packages/optuna/trial/_trial.py:497: UserWarning: The reported value is ignored because this `step` 10 is already reported.\n",
      "  warnings.warn(\n",
      "/home/eduardo/Documentos/Water-Cycle-Neural-Network/venv/lib/python3.12/site-packages/optuna/trial/_trial.py:497: UserWarning: The reported value is ignored because this `step` 11 is already reported.\n",
      "  warnings.warn(\n",
      "/home/eduardo/Documentos/Water-Cycle-Neural-Network/venv/lib/python3.12/site-packages/optuna/trial/_trial.py:497: UserWarning: The reported value is ignored because this `step` 12 is already reported.\n",
      "  warnings.warn(\n",
      "/home/eduardo/Documentos/Water-Cycle-Neural-Network/venv/lib/python3.12/site-packages/optuna/trial/_trial.py:497: UserWarning: The reported value is ignored because this `step` 13 is already reported.\n",
      "  warnings.warn(\n",
      "/home/eduardo/Documentos/Water-Cycle-Neural-Network/venv/lib/python3.12/site-packages/optuna/trial/_trial.py:497: UserWarning: The reported value is ignored because this `step` 14 is already reported.\n",
      "  warnings.warn(\n",
      "/home/eduardo/Documentos/Water-Cycle-Neural-Network/venv/lib/python3.12/site-packages/optuna/trial/_trial.py:497: UserWarning: The reported value is ignored because this `step` 15 is already reported.\n",
      "  warnings.warn(\n",
      "/home/eduardo/Documentos/Water-Cycle-Neural-Network/venv/lib/python3.12/site-packages/optuna/trial/_trial.py:497: UserWarning: The reported value is ignored because this `step` 16 is already reported.\n",
      "  warnings.warn(\n",
      "/home/eduardo/Documentos/Water-Cycle-Neural-Network/venv/lib/python3.12/site-packages/optuna/trial/_trial.py:497: UserWarning: The reported value is ignored because this `step` 17 is already reported.\n",
      "  warnings.warn(\n",
      "/home/eduardo/Documentos/Water-Cycle-Neural-Network/venv/lib/python3.12/site-packages/optuna/trial/_trial.py:497: UserWarning: The reported value is ignored because this `step` 18 is already reported.\n",
      "  warnings.warn(\n",
      "Monitored metric val_loss did not improve in the last 15 records. Best score: 0.009. Signaling Trainer to stop.\n",
      "GPU available: True (cuda), used: True\n",
      "TPU available: False, using: 0 TPU cores\n",
      "HPU available: False, using: 0 HPUs\n",
      "LOCAL_RANK: 0 - CUDA_VISIBLE_DEVICES: [0]\n"
     ]
    },
    {
     "name": "stdout",
     "output_type": "stream",
     "text": [
      "Model loaded from checkpoint for trial 73, fold 1\n"
     ]
    },
    {
     "name": "stderr",
     "output_type": "stream",
     "text": [
      "GPU available: True (cuda), used: True\n",
      "TPU available: False, using: 0 TPU cores\n",
      "HPU available: False, using: 0 HPUs\n",
      "LOCAL_RANK: 0 - CUDA_VISIBLE_DEVICES: [0]\n"
     ]
    },
    {
     "name": "stdout",
     "output_type": "stream",
     "text": [
      "SMAPE fold 1: 50.99541768841081\n",
      "\n",
      "Fold 3/3\n"
     ]
    },
    {
     "name": "stderr",
     "output_type": "stream",
     "text": [
      "/home/eduardo/Documentos/Water-Cycle-Neural-Network/venv/lib/python3.12/site-packages/optuna/trial/_trial.py:497: UserWarning: The reported value is ignored because this `step` 0 is already reported.\n",
      "  warnings.warn(\n",
      "Monitored metric val_loss did not improve in the last 16 records. Best score: 0.009. Signaling Trainer to stop.\n",
      "GPU available: True (cuda), used: True\n",
      "TPU available: False, using: 0 TPU cores\n",
      "HPU available: False, using: 0 HPUs\n",
      "LOCAL_RANK: 0 - CUDA_VISIBLE_DEVICES: [0]\n"
     ]
    },
    {
     "name": "stdout",
     "output_type": "stream",
     "text": [
      "Model loaded from checkpoint for trial 73, fold 2\n"
     ]
    },
    {
     "name": "stderr",
     "output_type": "stream",
     "text": [
      "[I 2025-06-09 15:18:06,359] Trial 73 finished with value: 50.74974930991929 and parameters: {'input_chunk_length': 24, 'hidden_size': 104, 'dropout': 0.45000000000000007, 'batch_size': 64, 'lr': 0.0019236722208631487, 'weight_decay': 0.0015992894560815313, 'num_encoder_layers': 3, 'num_decoder_layers': 2, 'temporal_width_past': 3, 'temporal_width_future': 1, 'use_reversible_instance_norm': True, 'temporal_hidden_size_past': 24, 'temporal_hidden_size_future': 156}. Best is trial 73 with value: 50.74974930991929.\n",
      "GPU available: True (cuda), used: True\n",
      "TPU available: False, using: 0 TPU cores\n",
      "HPU available: False, using: 0 HPUs\n",
      "LOCAL_RANK: 0 - CUDA_VISIBLE_DEVICES: [0]\n"
     ]
    },
    {
     "name": "stdout",
     "output_type": "stream",
     "text": [
      "SMAPE fold 2: 52.62529642953642\n",
      "Média dos SMAPE nos folds: 50.74974930991929\n",
      "Results of trial 73 saved in optuna_iteration_metrics/trial_73.json\n",
      "Current value: 50.74974930991929, Current params: {'input_chunk_length': 24, 'hidden_size': 104, 'dropout': 0.45000000000000007, 'batch_size': 64, 'lr': 0.0019236722208631487, 'weight_decay': 0.0015992894560815313, 'num_encoder_layers': 3, 'num_decoder_layers': 2, 'temporal_width_past': 3, 'temporal_width_future': 1, 'use_reversible_instance_norm': True, 'temporal_hidden_size_past': 24, 'temporal_hidden_size_future': 156}\n",
      "Best value: 50.74974930991929, Best params: {'input_chunk_length': 24, 'hidden_size': 104, 'dropout': 0.45000000000000007, 'batch_size': 64, 'lr': 0.0019236722208631487, 'weight_decay': 0.0015992894560815313, 'num_encoder_layers': 3, 'num_decoder_layers': 2, 'temporal_width_past': 3, 'temporal_width_future': 1, 'use_reversible_instance_norm': True, 'temporal_hidden_size_past': 24, 'temporal_hidden_size_future': 156}\n",
      "\n",
      "Fold 1/3\n"
     ]
    },
    {
     "name": "stderr",
     "output_type": "stream",
     "text": [
      "Metric val_loss improved. New best score: 0.127\n",
      "Metric val_loss improved by 0.007 >= min_delta = 0.0005. New best score: 0.121\n",
      "Metric val_loss improved by 0.005 >= min_delta = 0.0005. New best score: 0.115\n",
      "Metric val_loss improved by 0.003 >= min_delta = 0.0005. New best score: 0.113\n",
      "Metric val_loss improved by 0.002 >= min_delta = 0.0005. New best score: 0.110\n",
      "Metric val_loss improved by 0.001 >= min_delta = 0.0005. New best score: 0.110\n",
      "Metric val_loss improved by 0.001 >= min_delta = 0.0005. New best score: 0.108\n",
      "Metric val_loss improved by 0.001 >= min_delta = 0.0005. New best score: 0.108\n",
      "Metric val_loss improved by 0.001 >= min_delta = 0.0005. New best score: 0.107\n",
      "`Trainer.fit` stopped: `max_epochs=30` reached.\n",
      "GPU available: True (cuda), used: True\n",
      "TPU available: False, using: 0 TPU cores\n",
      "HPU available: False, using: 0 HPUs\n",
      "LOCAL_RANK: 0 - CUDA_VISIBLE_DEVICES: [0]\n"
     ]
    },
    {
     "name": "stdout",
     "output_type": "stream",
     "text": [
      "Model loaded from checkpoint for trial 74, fold 0\n"
     ]
    },
    {
     "name": "stderr",
     "output_type": "stream",
     "text": [
      "GPU available: True (cuda), used: True\n",
      "TPU available: False, using: 0 TPU cores\n",
      "HPU available: False, using: 0 HPUs\n",
      "LOCAL_RANK: 0 - CUDA_VISIBLE_DEVICES: [0]\n"
     ]
    },
    {
     "name": "stdout",
     "output_type": "stream",
     "text": [
      "SMAPE fold 0: 48.617808651033755\n",
      "\n",
      "Fold 2/3\n"
     ]
    },
    {
     "name": "stderr",
     "output_type": "stream",
     "text": [
      "/home/eduardo/Documentos/Water-Cycle-Neural-Network/venv/lib/python3.12/site-packages/optuna/trial/_trial.py:497: UserWarning: The reported value is ignored because this `step` 0 is already reported.\n",
      "  warnings.warn(\n",
      "Metric val_loss improved by 0.097 >= min_delta = 0.0005. New best score: 0.010\n",
      "/home/eduardo/Documentos/Water-Cycle-Neural-Network/venv/lib/python3.12/site-packages/optuna/trial/_trial.py:497: UserWarning: The reported value is ignored because this `step` 1 is already reported.\n",
      "  warnings.warn(\n",
      "/home/eduardo/Documentos/Water-Cycle-Neural-Network/venv/lib/python3.12/site-packages/optuna/trial/_trial.py:497: UserWarning: The reported value is ignored because this `step` 2 is already reported.\n",
      "  warnings.warn(\n",
      "Metric val_loss improved by 0.001 >= min_delta = 0.0005. New best score: 0.009\n",
      "/home/eduardo/Documentos/Water-Cycle-Neural-Network/venv/lib/python3.12/site-packages/optuna/trial/_trial.py:497: UserWarning: The reported value is ignored because this `step` 3 is already reported.\n",
      "  warnings.warn(\n",
      "/home/eduardo/Documentos/Water-Cycle-Neural-Network/venv/lib/python3.12/site-packages/optuna/trial/_trial.py:497: UserWarning: The reported value is ignored because this `step` 4 is already reported.\n",
      "  warnings.warn(\n",
      "/home/eduardo/Documentos/Water-Cycle-Neural-Network/venv/lib/python3.12/site-packages/optuna/trial/_trial.py:497: UserWarning: The reported value is ignored because this `step` 5 is already reported.\n",
      "  warnings.warn(\n",
      "/home/eduardo/Documentos/Water-Cycle-Neural-Network/venv/lib/python3.12/site-packages/optuna/trial/_trial.py:497: UserWarning: The reported value is ignored because this `step` 6 is already reported.\n",
      "  warnings.warn(\n",
      "/home/eduardo/Documentos/Water-Cycle-Neural-Network/venv/lib/python3.12/site-packages/optuna/trial/_trial.py:497: UserWarning: The reported value is ignored because this `step` 7 is already reported.\n",
      "  warnings.warn(\n",
      "/home/eduardo/Documentos/Water-Cycle-Neural-Network/venv/lib/python3.12/site-packages/optuna/trial/_trial.py:497: UserWarning: The reported value is ignored because this `step` 8 is already reported.\n",
      "  warnings.warn(\n",
      "/home/eduardo/Documentos/Water-Cycle-Neural-Network/venv/lib/python3.12/site-packages/optuna/trial/_trial.py:497: UserWarning: The reported value is ignored because this `step` 9 is already reported.\n",
      "  warnings.warn(\n",
      "/home/eduardo/Documentos/Water-Cycle-Neural-Network/venv/lib/python3.12/site-packages/optuna/trial/_trial.py:497: UserWarning: The reported value is ignored because this `step` 10 is already reported.\n",
      "  warnings.warn(\n",
      "/home/eduardo/Documentos/Water-Cycle-Neural-Network/venv/lib/python3.12/site-packages/optuna/trial/_trial.py:497: UserWarning: The reported value is ignored because this `step` 11 is already reported.\n",
      "  warnings.warn(\n",
      "/home/eduardo/Documentos/Water-Cycle-Neural-Network/venv/lib/python3.12/site-packages/optuna/trial/_trial.py:497: UserWarning: The reported value is ignored because this `step` 12 is already reported.\n",
      "  warnings.warn(\n",
      "/home/eduardo/Documentos/Water-Cycle-Neural-Network/venv/lib/python3.12/site-packages/optuna/trial/_trial.py:497: UserWarning: The reported value is ignored because this `step` 13 is already reported.\n",
      "  warnings.warn(\n",
      "/home/eduardo/Documentos/Water-Cycle-Neural-Network/venv/lib/python3.12/site-packages/optuna/trial/_trial.py:497: UserWarning: The reported value is ignored because this `step` 14 is already reported.\n",
      "  warnings.warn(\n",
      "/home/eduardo/Documentos/Water-Cycle-Neural-Network/venv/lib/python3.12/site-packages/optuna/trial/_trial.py:497: UserWarning: The reported value is ignored because this `step` 15 is already reported.\n",
      "  warnings.warn(\n",
      "/home/eduardo/Documentos/Water-Cycle-Neural-Network/venv/lib/python3.12/site-packages/optuna/trial/_trial.py:497: UserWarning: The reported value is ignored because this `step` 16 is already reported.\n",
      "  warnings.warn(\n",
      "/home/eduardo/Documentos/Water-Cycle-Neural-Network/venv/lib/python3.12/site-packages/optuna/trial/_trial.py:497: UserWarning: The reported value is ignored because this `step` 17 is already reported.\n",
      "  warnings.warn(\n",
      "Monitored metric val_loss did not improve in the last 15 records. Best score: 0.009. Signaling Trainer to stop.\n",
      "GPU available: True (cuda), used: True\n",
      "TPU available: False, using: 0 TPU cores\n",
      "HPU available: False, using: 0 HPUs\n",
      "LOCAL_RANK: 0 - CUDA_VISIBLE_DEVICES: [0]\n"
     ]
    },
    {
     "name": "stdout",
     "output_type": "stream",
     "text": [
      "Model loaded from checkpoint for trial 74, fold 1\n"
     ]
    },
    {
     "name": "stderr",
     "output_type": "stream",
     "text": [
      "GPU available: True (cuda), used: True\n",
      "TPU available: False, using: 0 TPU cores\n",
      "HPU available: False, using: 0 HPUs\n",
      "LOCAL_RANK: 0 - CUDA_VISIBLE_DEVICES: [0]\n"
     ]
    },
    {
     "name": "stdout",
     "output_type": "stream",
     "text": [
      "SMAPE fold 1: 50.998810254164\n",
      "\n",
      "Fold 3/3\n"
     ]
    },
    {
     "name": "stderr",
     "output_type": "stream",
     "text": [
      "/home/eduardo/Documentos/Water-Cycle-Neural-Network/venv/lib/python3.12/site-packages/optuna/trial/_trial.py:497: UserWarning: The reported value is ignored because this `step` 0 is already reported.\n",
      "  warnings.warn(\n",
      "Monitored metric val_loss did not improve in the last 16 records. Best score: 0.009. Signaling Trainer to stop.\n",
      "GPU available: True (cuda), used: True\n",
      "TPU available: False, using: 0 TPU cores\n",
      "HPU available: False, using: 0 HPUs\n",
      "LOCAL_RANK: 0 - CUDA_VISIBLE_DEVICES: [0]\n"
     ]
    },
    {
     "name": "stdout",
     "output_type": "stream",
     "text": [
      "Model loaded from checkpoint for trial 74, fold 2\n"
     ]
    },
    {
     "name": "stderr",
     "output_type": "stream",
     "text": [
      "[I 2025-06-09 15:19:14,914] Trial 74 finished with value: 50.85336184841889 and parameters: {'input_chunk_length': 24, 'hidden_size': 104, 'dropout': 0.45000000000000007, 'batch_size': 80, 'lr': 0.0017522248073888974, 'weight_decay': 0.0015235975625444605, 'num_encoder_layers': 3, 'num_decoder_layers': 2, 'temporal_width_past': 3, 'temporal_width_future': 1, 'use_reversible_instance_norm': True, 'temporal_hidden_size_past': 24, 'temporal_hidden_size_future': 156}. Best is trial 73 with value: 50.74974930991929.\n",
      "GPU available: True (cuda), used: True\n",
      "TPU available: False, using: 0 TPU cores\n",
      "HPU available: False, using: 0 HPUs\n",
      "LOCAL_RANK: 0 - CUDA_VISIBLE_DEVICES: [0]\n"
     ]
    },
    {
     "name": "stdout",
     "output_type": "stream",
     "text": [
      "SMAPE fold 2: 52.94346664005891\n",
      "Média dos SMAPE nos folds: 50.85336184841889\n",
      "Results of trial 74 saved in optuna_iteration_metrics/trial_74.json\n",
      "Current value: 50.85336184841889, Current params: {'input_chunk_length': 24, 'hidden_size': 104, 'dropout': 0.45000000000000007, 'batch_size': 80, 'lr': 0.0017522248073888974, 'weight_decay': 0.0015235975625444605, 'num_encoder_layers': 3, 'num_decoder_layers': 2, 'temporal_width_past': 3, 'temporal_width_future': 1, 'use_reversible_instance_norm': True, 'temporal_hidden_size_past': 24, 'temporal_hidden_size_future': 156}\n",
      "Best value: 50.74974930991929, Best params: {'input_chunk_length': 24, 'hidden_size': 104, 'dropout': 0.45000000000000007, 'batch_size': 64, 'lr': 0.0019236722208631487, 'weight_decay': 0.0015992894560815313, 'num_encoder_layers': 3, 'num_decoder_layers': 2, 'temporal_width_past': 3, 'temporal_width_future': 1, 'use_reversible_instance_norm': True, 'temporal_hidden_size_past': 24, 'temporal_hidden_size_future': 156}\n",
      "\n",
      "Fold 1/3\n"
     ]
    },
    {
     "name": "stderr",
     "output_type": "stream",
     "text": [
      "[I 2025-06-09 15:19:16,803] Trial 75 pruned. Trial was pruned at epoch 0.\n",
      "GPU available: True (cuda), used: True\n",
      "TPU available: False, using: 0 TPU cores\n",
      "HPU available: False, using: 0 HPUs\n",
      "LOCAL_RANK: 0 - CUDA_VISIBLE_DEVICES: [0]\n"
     ]
    },
    {
     "name": "stdout",
     "output_type": "stream",
     "text": [
      "Current value: 0.1888419783249554, Current params: {'input_chunk_length': 36, 'hidden_size': 104, 'dropout': 0.45000000000000007, 'batch_size': 80, 'lr': 0.0002855841591328462, 'weight_decay': 0.001471671282941363, 'num_encoder_layers': 4, 'num_decoder_layers': 2, 'temporal_width_past': 3, 'temporal_width_future': 1, 'use_reversible_instance_norm': True, 'temporal_hidden_size_past': 96, 'temporal_hidden_size_future': 156}\n",
      "Best value: 50.74974930991929, Best params: {'input_chunk_length': 24, 'hidden_size': 104, 'dropout': 0.45000000000000007, 'batch_size': 64, 'lr': 0.0019236722208631487, 'weight_decay': 0.0015992894560815313, 'num_encoder_layers': 3, 'num_decoder_layers': 2, 'temporal_width_past': 3, 'temporal_width_future': 1, 'use_reversible_instance_norm': True, 'temporal_hidden_size_past': 24, 'temporal_hidden_size_future': 156}\n",
      "\n",
      "Fold 1/3\n"
     ]
    },
    {
     "name": "stderr",
     "output_type": "stream",
     "text": [
      "[I 2025-06-09 15:19:18,939] Trial 76 pruned. Trial was pruned at epoch 0.\n",
      "GPU available: True (cuda), used: True\n",
      "TPU available: False, using: 0 TPU cores\n",
      "HPU available: False, using: 0 HPUs\n",
      "LOCAL_RANK: 0 - CUDA_VISIBLE_DEVICES: [0]\n"
     ]
    },
    {
     "name": "stdout",
     "output_type": "stream",
     "text": [
      "Current value: 0.17432592551520035, Current params: {'input_chunk_length': 48, 'hidden_size': 96, 'dropout': 0.45000000000000007, 'batch_size': 96, 'lr': 0.0012107837305095999, 'weight_decay': 0.0007223069688757005, 'num_encoder_layers': 4, 'num_decoder_layers': 2, 'temporal_width_past': 3, 'temporal_width_future': 4, 'use_reversible_instance_norm': True, 'temporal_hidden_size_past': 24, 'temporal_hidden_size_future': 144}\n",
      "Best value: 50.74974930991929, Best params: {'input_chunk_length': 24, 'hidden_size': 104, 'dropout': 0.45000000000000007, 'batch_size': 64, 'lr': 0.0019236722208631487, 'weight_decay': 0.0015992894560815313, 'num_encoder_layers': 3, 'num_decoder_layers': 2, 'temporal_width_past': 3, 'temporal_width_future': 1, 'use_reversible_instance_norm': True, 'temporal_hidden_size_past': 24, 'temporal_hidden_size_future': 156}\n",
      "\n",
      "Fold 1/3\n"
     ]
    },
    {
     "name": "stderr",
     "output_type": "stream",
     "text": [
      "Metric val_loss improved. New best score: 0.133\n",
      "Metric val_loss improved by 0.018 >= min_delta = 0.0005. New best score: 0.116\n",
      "Metric val_loss improved by 0.006 >= min_delta = 0.0005. New best score: 0.110\n",
      "Metric val_loss improved by 0.002 >= min_delta = 0.0005. New best score: 0.108\n",
      "Metric val_loss improved by 0.001 >= min_delta = 0.0005. New best score: 0.108\n",
      "Metric val_loss improved by 0.001 >= min_delta = 0.0005. New best score: 0.107\n",
      "`Trainer.fit` stopped: `max_epochs=30` reached.\n",
      "GPU available: True (cuda), used: True\n",
      "TPU available: False, using: 0 TPU cores\n",
      "HPU available: False, using: 0 HPUs\n",
      "LOCAL_RANK: 0 - CUDA_VISIBLE_DEVICES: [0]\n"
     ]
    },
    {
     "name": "stdout",
     "output_type": "stream",
     "text": [
      "Model loaded from checkpoint for trial 77, fold 0\n"
     ]
    },
    {
     "name": "stderr",
     "output_type": "stream",
     "text": [
      "GPU available: True (cuda), used: True\n",
      "TPU available: False, using: 0 TPU cores\n",
      "HPU available: False, using: 0 HPUs\n",
      "LOCAL_RANK: 0 - CUDA_VISIBLE_DEVICES: [0]\n"
     ]
    },
    {
     "name": "stdout",
     "output_type": "stream",
     "text": [
      "SMAPE fold 0: 48.70268783234999\n",
      "\n",
      "Fold 2/3\n"
     ]
    },
    {
     "name": "stderr",
     "output_type": "stream",
     "text": [
      "/home/eduardo/Documentos/Water-Cycle-Neural-Network/venv/lib/python3.12/site-packages/optuna/trial/_trial.py:497: UserWarning: The reported value is ignored because this `step` 0 is already reported.\n",
      "  warnings.warn(\n",
      "Metric val_loss improved by 0.097 >= min_delta = 0.0005. New best score: 0.010\n",
      "/home/eduardo/Documentos/Water-Cycle-Neural-Network/venv/lib/python3.12/site-packages/optuna/trial/_trial.py:497: UserWarning: The reported value is ignored because this `step` 1 is already reported.\n",
      "  warnings.warn(\n",
      "Metric val_loss improved by 0.001 >= min_delta = 0.0005. New best score: 0.009\n",
      "/home/eduardo/Documentos/Water-Cycle-Neural-Network/venv/lib/python3.12/site-packages/optuna/trial/_trial.py:497: UserWarning: The reported value is ignored because this `step` 2 is already reported.\n",
      "  warnings.warn(\n",
      "/home/eduardo/Documentos/Water-Cycle-Neural-Network/venv/lib/python3.12/site-packages/optuna/trial/_trial.py:497: UserWarning: The reported value is ignored because this `step` 3 is already reported.\n",
      "  warnings.warn(\n",
      "/home/eduardo/Documentos/Water-Cycle-Neural-Network/venv/lib/python3.12/site-packages/optuna/trial/_trial.py:497: UserWarning: The reported value is ignored because this `step` 4 is already reported.\n",
      "  warnings.warn(\n",
      "/home/eduardo/Documentos/Water-Cycle-Neural-Network/venv/lib/python3.12/site-packages/optuna/trial/_trial.py:497: UserWarning: The reported value is ignored because this `step` 5 is already reported.\n",
      "  warnings.warn(\n",
      "/home/eduardo/Documentos/Water-Cycle-Neural-Network/venv/lib/python3.12/site-packages/optuna/trial/_trial.py:497: UserWarning: The reported value is ignored because this `step` 6 is already reported.\n",
      "  warnings.warn(\n",
      "/home/eduardo/Documentos/Water-Cycle-Neural-Network/venv/lib/python3.12/site-packages/optuna/trial/_trial.py:497: UserWarning: The reported value is ignored because this `step` 7 is already reported.\n",
      "  warnings.warn(\n",
      "/home/eduardo/Documentos/Water-Cycle-Neural-Network/venv/lib/python3.12/site-packages/optuna/trial/_trial.py:497: UserWarning: The reported value is ignored because this `step` 8 is already reported.\n",
      "  warnings.warn(\n",
      "/home/eduardo/Documentos/Water-Cycle-Neural-Network/venv/lib/python3.12/site-packages/optuna/trial/_trial.py:497: UserWarning: The reported value is ignored because this `step` 9 is already reported.\n",
      "  warnings.warn(\n",
      "/home/eduardo/Documentos/Water-Cycle-Neural-Network/venv/lib/python3.12/site-packages/optuna/trial/_trial.py:497: UserWarning: The reported value is ignored because this `step` 10 is already reported.\n",
      "  warnings.warn(\n",
      "/home/eduardo/Documentos/Water-Cycle-Neural-Network/venv/lib/python3.12/site-packages/optuna/trial/_trial.py:497: UserWarning: The reported value is ignored because this `step` 11 is already reported.\n",
      "  warnings.warn(\n",
      "/home/eduardo/Documentos/Water-Cycle-Neural-Network/venv/lib/python3.12/site-packages/optuna/trial/_trial.py:497: UserWarning: The reported value is ignored because this `step` 12 is already reported.\n",
      "  warnings.warn(\n",
      "/home/eduardo/Documentos/Water-Cycle-Neural-Network/venv/lib/python3.12/site-packages/optuna/trial/_trial.py:497: UserWarning: The reported value is ignored because this `step` 13 is already reported.\n",
      "  warnings.warn(\n",
      "/home/eduardo/Documentos/Water-Cycle-Neural-Network/venv/lib/python3.12/site-packages/optuna/trial/_trial.py:497: UserWarning: The reported value is ignored because this `step` 14 is already reported.\n",
      "  warnings.warn(\n",
      "/home/eduardo/Documentos/Water-Cycle-Neural-Network/venv/lib/python3.12/site-packages/optuna/trial/_trial.py:497: UserWarning: The reported value is ignored because this `step` 15 is already reported.\n",
      "  warnings.warn(\n",
      "/home/eduardo/Documentos/Water-Cycle-Neural-Network/venv/lib/python3.12/site-packages/optuna/trial/_trial.py:497: UserWarning: The reported value is ignored because this `step` 16 is already reported.\n",
      "  warnings.warn(\n",
      "Monitored metric val_loss did not improve in the last 15 records. Best score: 0.009. Signaling Trainer to stop.\n",
      "GPU available: True (cuda), used: True\n",
      "TPU available: False, using: 0 TPU cores\n",
      "HPU available: False, using: 0 HPUs\n",
      "LOCAL_RANK: 0 - CUDA_VISIBLE_DEVICES: [0]\n"
     ]
    },
    {
     "name": "stdout",
     "output_type": "stream",
     "text": [
      "Model loaded from checkpoint for trial 77, fold 1\n"
     ]
    },
    {
     "name": "stderr",
     "output_type": "stream",
     "text": [
      "GPU available: True (cuda), used: True\n",
      "TPU available: False, using: 0 TPU cores\n",
      "HPU available: False, using: 0 HPUs\n",
      "LOCAL_RANK: 0 - CUDA_VISIBLE_DEVICES: [0]\n"
     ]
    },
    {
     "name": "stdout",
     "output_type": "stream",
     "text": [
      "SMAPE fold 1: 50.969071173320785\n",
      "\n",
      "Fold 3/3\n"
     ]
    },
    {
     "name": "stderr",
     "output_type": "stream",
     "text": [
      "/home/eduardo/Documentos/Water-Cycle-Neural-Network/venv/lib/python3.12/site-packages/optuna/trial/_trial.py:497: UserWarning: The reported value is ignored because this `step` 0 is already reported.\n",
      "  warnings.warn(\n",
      "Monitored metric val_loss did not improve in the last 16 records. Best score: 0.009. Signaling Trainer to stop.\n",
      "GPU available: True (cuda), used: True\n",
      "TPU available: False, using: 0 TPU cores\n",
      "HPU available: False, using: 0 HPUs\n",
      "LOCAL_RANK: 0 - CUDA_VISIBLE_DEVICES: [0]\n"
     ]
    },
    {
     "name": "stdout",
     "output_type": "stream",
     "text": [
      "Model loaded from checkpoint for trial 77, fold 2\n"
     ]
    },
    {
     "name": "stderr",
     "output_type": "stream",
     "text": [
      "[I 2025-06-09 15:22:19,043] Trial 77 finished with value: 51.24452505295957 and parameters: {'input_chunk_length': 36, 'hidden_size': 80, 'dropout': 0.5, 'batch_size': 80, 'lr': 0.0017989501457456696, 'weight_decay': 0.0010260400346335302, 'num_encoder_layers': 3, 'num_decoder_layers': 2, 'temporal_width_past': 3, 'temporal_width_future': 2, 'use_reversible_instance_norm': True, 'temporal_hidden_size_past': 156, 'temporal_hidden_size_future': 132}. Best is trial 73 with value: 50.74974930991929.\n",
      "GPU available: True (cuda), used: True\n",
      "TPU available: False, using: 0 TPU cores\n",
      "HPU available: False, using: 0 HPUs\n",
      "LOCAL_RANK: 0 - CUDA_VISIBLE_DEVICES: [0]\n"
     ]
    },
    {
     "name": "stdout",
     "output_type": "stream",
     "text": [
      "SMAPE fold 2: 54.06181615320794\n",
      "Média dos SMAPE nos folds: 51.24452505295957\n",
      "Results of trial 77 saved in optuna_iteration_metrics/trial_77.json\n",
      "Current value: 51.24452505295957, Current params: {'input_chunk_length': 36, 'hidden_size': 80, 'dropout': 0.5, 'batch_size': 80, 'lr': 0.0017989501457456696, 'weight_decay': 0.0010260400346335302, 'num_encoder_layers': 3, 'num_decoder_layers': 2, 'temporal_width_past': 3, 'temporal_width_future': 2, 'use_reversible_instance_norm': True, 'temporal_hidden_size_past': 156, 'temporal_hidden_size_future': 132}\n",
      "Best value: 50.74974930991929, Best params: {'input_chunk_length': 24, 'hidden_size': 104, 'dropout': 0.45000000000000007, 'batch_size': 64, 'lr': 0.0019236722208631487, 'weight_decay': 0.0015992894560815313, 'num_encoder_layers': 3, 'num_decoder_layers': 2, 'temporal_width_past': 3, 'temporal_width_future': 1, 'use_reversible_instance_norm': True, 'temporal_hidden_size_past': 24, 'temporal_hidden_size_future': 156}\n",
      "\n",
      "Fold 1/3\n"
     ]
    },
    {
     "name": "stderr",
     "output_type": "stream",
     "text": [
      "Metric val_loss improved. New best score: 0.131\n",
      "Metric val_loss improved by 0.009 >= min_delta = 0.0005. New best score: 0.122\n",
      "Metric val_loss improved by 0.007 >= min_delta = 0.0005. New best score: 0.115\n",
      "Metric val_loss improved by 0.005 >= min_delta = 0.0005. New best score: 0.110\n",
      "Metric val_loss improved by 0.004 >= min_delta = 0.0005. New best score: 0.107\n",
      "Metric val_loss improved by 0.002 >= min_delta = 0.0005. New best score: 0.105\n",
      "Monitored metric val_loss did not improve in the last 15 records. Best score: 0.105. Signaling Trainer to stop.\n",
      "GPU available: True (cuda), used: True\n",
      "TPU available: False, using: 0 TPU cores\n",
      "HPU available: False, using: 0 HPUs\n",
      "LOCAL_RANK: 0 - CUDA_VISIBLE_DEVICES: [0]\n"
     ]
    },
    {
     "name": "stdout",
     "output_type": "stream",
     "text": [
      "Model loaded from checkpoint for trial 78, fold 0\n"
     ]
    },
    {
     "name": "stderr",
     "output_type": "stream",
     "text": [
      "GPU available: True (cuda), used: True\n",
      "TPU available: False, using: 0 TPU cores\n",
      "HPU available: False, using: 0 HPUs\n",
      "LOCAL_RANK: 0 - CUDA_VISIBLE_DEVICES: [0]\n"
     ]
    },
    {
     "name": "stdout",
     "output_type": "stream",
     "text": [
      "SMAPE fold 0: 49.0330741897468\n",
      "\n",
      "Fold 2/3\n"
     ]
    },
    {
     "name": "stderr",
     "output_type": "stream",
     "text": [
      "/home/eduardo/Documentos/Water-Cycle-Neural-Network/venv/lib/python3.12/site-packages/optuna/trial/_trial.py:497: UserWarning: The reported value is ignored because this `step` 0 is already reported.\n",
      "  warnings.warn(\n",
      "Metric val_loss improved by 0.095 >= min_delta = 0.0005. New best score: 0.010\n",
      "/home/eduardo/Documentos/Water-Cycle-Neural-Network/venv/lib/python3.12/site-packages/optuna/trial/_trial.py:497: UserWarning: The reported value is ignored because this `step` 1 is already reported.\n",
      "  warnings.warn(\n",
      "/home/eduardo/Documentos/Water-Cycle-Neural-Network/venv/lib/python3.12/site-packages/optuna/trial/_trial.py:497: UserWarning: The reported value is ignored because this `step` 2 is already reported.\n",
      "  warnings.warn(\n",
      "Metric val_loss improved by 0.001 >= min_delta = 0.0005. New best score: 0.009\n",
      "/home/eduardo/Documentos/Water-Cycle-Neural-Network/venv/lib/python3.12/site-packages/optuna/trial/_trial.py:497: UserWarning: The reported value is ignored because this `step` 3 is already reported.\n",
      "  warnings.warn(\n",
      "/home/eduardo/Documentos/Water-Cycle-Neural-Network/venv/lib/python3.12/site-packages/optuna/trial/_trial.py:497: UserWarning: The reported value is ignored because this `step` 4 is already reported.\n",
      "  warnings.warn(\n",
      "/home/eduardo/Documentos/Water-Cycle-Neural-Network/venv/lib/python3.12/site-packages/optuna/trial/_trial.py:497: UserWarning: The reported value is ignored because this `step` 5 is already reported.\n",
      "  warnings.warn(\n",
      "/home/eduardo/Documentos/Water-Cycle-Neural-Network/venv/lib/python3.12/site-packages/optuna/trial/_trial.py:497: UserWarning: The reported value is ignored because this `step` 6 is already reported.\n",
      "  warnings.warn(\n",
      "/home/eduardo/Documentos/Water-Cycle-Neural-Network/venv/lib/python3.12/site-packages/optuna/trial/_trial.py:497: UserWarning: The reported value is ignored because this `step` 7 is already reported.\n",
      "  warnings.warn(\n",
      "/home/eduardo/Documentos/Water-Cycle-Neural-Network/venv/lib/python3.12/site-packages/optuna/trial/_trial.py:497: UserWarning: The reported value is ignored because this `step` 8 is already reported.\n",
      "  warnings.warn(\n",
      "/home/eduardo/Documentos/Water-Cycle-Neural-Network/venv/lib/python3.12/site-packages/optuna/trial/_trial.py:497: UserWarning: The reported value is ignored because this `step` 9 is already reported.\n",
      "  warnings.warn(\n",
      "/home/eduardo/Documentos/Water-Cycle-Neural-Network/venv/lib/python3.12/site-packages/optuna/trial/_trial.py:497: UserWarning: The reported value is ignored because this `step` 10 is already reported.\n",
      "  warnings.warn(\n",
      "/home/eduardo/Documentos/Water-Cycle-Neural-Network/venv/lib/python3.12/site-packages/optuna/trial/_trial.py:497: UserWarning: The reported value is ignored because this `step` 11 is already reported.\n",
      "  warnings.warn(\n",
      "/home/eduardo/Documentos/Water-Cycle-Neural-Network/venv/lib/python3.12/site-packages/optuna/trial/_trial.py:497: UserWarning: The reported value is ignored because this `step` 12 is already reported.\n",
      "  warnings.warn(\n",
      "/home/eduardo/Documentos/Water-Cycle-Neural-Network/venv/lib/python3.12/site-packages/optuna/trial/_trial.py:497: UserWarning: The reported value is ignored because this `step` 13 is already reported.\n",
      "  warnings.warn(\n",
      "/home/eduardo/Documentos/Water-Cycle-Neural-Network/venv/lib/python3.12/site-packages/optuna/trial/_trial.py:497: UserWarning: The reported value is ignored because this `step` 14 is already reported.\n",
      "  warnings.warn(\n",
      "/home/eduardo/Documentos/Water-Cycle-Neural-Network/venv/lib/python3.12/site-packages/optuna/trial/_trial.py:497: UserWarning: The reported value is ignored because this `step` 15 is already reported.\n",
      "  warnings.warn(\n",
      "/home/eduardo/Documentos/Water-Cycle-Neural-Network/venv/lib/python3.12/site-packages/optuna/trial/_trial.py:497: UserWarning: The reported value is ignored because this `step` 16 is already reported.\n",
      "  warnings.warn(\n",
      "/home/eduardo/Documentos/Water-Cycle-Neural-Network/venv/lib/python3.12/site-packages/optuna/trial/_trial.py:497: UserWarning: The reported value is ignored because this `step` 17 is already reported.\n",
      "  warnings.warn(\n",
      "Monitored metric val_loss did not improve in the last 15 records. Best score: 0.009. Signaling Trainer to stop.\n",
      "GPU available: True (cuda), used: True\n",
      "TPU available: False, using: 0 TPU cores\n",
      "HPU available: False, using: 0 HPUs\n",
      "LOCAL_RANK: 0 - CUDA_VISIBLE_DEVICES: [0]\n"
     ]
    },
    {
     "name": "stdout",
     "output_type": "stream",
     "text": [
      "Model loaded from checkpoint for trial 78, fold 1\n"
     ]
    },
    {
     "name": "stderr",
     "output_type": "stream",
     "text": [
      "GPU available: True (cuda), used: True\n",
      "TPU available: False, using: 0 TPU cores\n",
      "HPU available: False, using: 0 HPUs\n",
      "LOCAL_RANK: 0 - CUDA_VISIBLE_DEVICES: [0]\n"
     ]
    },
    {
     "name": "stdout",
     "output_type": "stream",
     "text": [
      "SMAPE fold 1: 50.859467603992385\n",
      "\n",
      "Fold 3/3\n"
     ]
    },
    {
     "name": "stderr",
     "output_type": "stream",
     "text": [
      "/home/eduardo/Documentos/Water-Cycle-Neural-Network/venv/lib/python3.12/site-packages/optuna/trial/_trial.py:497: UserWarning: The reported value is ignored because this `step` 0 is already reported.\n",
      "  warnings.warn(\n",
      "Monitored metric val_loss did not improve in the last 16 records. Best score: 0.009. Signaling Trainer to stop.\n",
      "GPU available: True (cuda), used: True\n",
      "TPU available: False, using: 0 TPU cores\n",
      "HPU available: False, using: 0 HPUs\n",
      "LOCAL_RANK: 0 - CUDA_VISIBLE_DEVICES: [0]\n"
     ]
    },
    {
     "name": "stdout",
     "output_type": "stream",
     "text": [
      "Model loaded from checkpoint for trial 78, fold 2\n"
     ]
    },
    {
     "name": "stderr",
     "output_type": "stream",
     "text": [
      "[I 2025-06-09 15:23:13,933] Trial 78 finished with value: 51.0269983867872 and parameters: {'input_chunk_length': 24, 'hidden_size': 104, 'dropout': 0.5, 'batch_size': 240, 'lr': 0.0024896254571053975, 'weight_decay': 4.671768351629282e-06, 'num_encoder_layers': 4, 'num_decoder_layers': 2, 'temporal_width_past': 4, 'temporal_width_future': 1, 'use_reversible_instance_norm': True, 'temporal_hidden_size_past': 144, 'temporal_hidden_size_future': 156}. Best is trial 73 with value: 50.74974930991929.\n",
      "GPU available: True (cuda), used: True\n",
      "TPU available: False, using: 0 TPU cores\n",
      "HPU available: False, using: 0 HPUs\n",
      "LOCAL_RANK: 0 - CUDA_VISIBLE_DEVICES: [0]\n"
     ]
    },
    {
     "name": "stdout",
     "output_type": "stream",
     "text": [
      "SMAPE fold 2: 53.18845336662242\n",
      "Média dos SMAPE nos folds: 51.0269983867872\n",
      "Results of trial 78 saved in optuna_iteration_metrics/trial_78.json\n",
      "Current value: 51.0269983867872, Current params: {'input_chunk_length': 24, 'hidden_size': 104, 'dropout': 0.5, 'batch_size': 240, 'lr': 0.0024896254571053975, 'weight_decay': 4.671768351629282e-06, 'num_encoder_layers': 4, 'num_decoder_layers': 2, 'temporal_width_past': 4, 'temporal_width_future': 1, 'use_reversible_instance_norm': True, 'temporal_hidden_size_past': 144, 'temporal_hidden_size_future': 156}\n",
      "Best value: 50.74974930991929, Best params: {'input_chunk_length': 24, 'hidden_size': 104, 'dropout': 0.45000000000000007, 'batch_size': 64, 'lr': 0.0019236722208631487, 'weight_decay': 0.0015992894560815313, 'num_encoder_layers': 3, 'num_decoder_layers': 2, 'temporal_width_past': 3, 'temporal_width_future': 1, 'use_reversible_instance_norm': True, 'temporal_hidden_size_past': 24, 'temporal_hidden_size_future': 156}\n",
      "\n",
      "Fold 1/3\n"
     ]
    },
    {
     "name": "stderr",
     "output_type": "stream",
     "text": [
      "[I 2025-06-09 15:23:16,036] Trial 79 pruned. Trial was pruned at epoch 0.\n",
      "GPU available: True (cuda), used: True\n",
      "TPU available: False, using: 0 TPU cores\n",
      "HPU available: False, using: 0 HPUs\n",
      "LOCAL_RANK: 0 - CUDA_VISIBLE_DEVICES: [0]\n"
     ]
    },
    {
     "name": "stdout",
     "output_type": "stream",
     "text": [
      "Current value: 0.2190877964600298, Current params: {'input_chunk_length': 48, 'hidden_size': 112, 'dropout': 0.45000000000000007, 'batch_size': 200, 'lr': 0.000880544270938139, 'weight_decay': 0.0017043223295990374, 'num_encoder_layers': 1, 'num_decoder_layers': 2, 'temporal_width_past': 3, 'temporal_width_future': 1, 'use_reversible_instance_norm': True, 'temporal_hidden_size_past': 24, 'temporal_hidden_size_future': 60}\n",
      "Best value: 50.74974930991929, Best params: {'input_chunk_length': 24, 'hidden_size': 104, 'dropout': 0.45000000000000007, 'batch_size': 64, 'lr': 0.0019236722208631487, 'weight_decay': 0.0015992894560815313, 'num_encoder_layers': 3, 'num_decoder_layers': 2, 'temporal_width_past': 3, 'temporal_width_future': 1, 'use_reversible_instance_norm': True, 'temporal_hidden_size_past': 24, 'temporal_hidden_size_future': 156}\n",
      "\n",
      "Fold 1/3\n"
     ]
    },
    {
     "name": "stderr",
     "output_type": "stream",
     "text": [
      "Exception ignored in: <function _MultiProcessingDataLoaderIter.__del__ at 0x7f7433929ee0>\n",
      "Traceback (most recent call last):\n",
      "  File \"/home/eduardo/Documentos/Water-Cycle-Neural-Network/venv/lib/python3.12/site-packages/torch/utils/data/dataloader.py\", line 1663, in __del__\n",
      "    self._shutdown_workers()\n",
      "  File \"/home/eduardo/Documentos/Water-Cycle-Neural-Network/venv/lib/python3.12/site-packages/torch/utils/data/dataloader.py\", line 1646, in _shutdown_workers\n",
      "    if w.is_alive():\n",
      "      Exception ignored in:  ^<function _MultiProcessingDataLoaderIter.__del__ at 0x7f7433929ee0>\n",
      "^Traceback (most recent call last):\n",
      "^  File \"/home/eduardo/Documentos/Water-Cycle-Neural-Network/venv/lib/python3.12/site-packages/torch/utils/data/dataloader.py\", line 1663, in __del__\n",
      "^^    self._shutdown_workers()\n",
      "^^  File \"/home/eduardo/Documentos/Water-Cycle-Neural-Network/venv/lib/python3.12/site-packages/torch/utils/data/dataloader.py\", line 1646, in _shutdown_workers\n",
      "^    ^if w.is_alive():\n",
      "^ ^ ^ \n",
      "   File \"/usr/lib/python3.12/multiprocessing/process.py\", line 160, in is_alive\n",
      "      assert self._parent_pid == os.getpid(), 'can only test a child process' \n",
      "^ ^ ^ ^ ^ ^ ^ ^ ^ ^ ^^ \n",
      "^  File \"/usr/lib/python3.12/multiprocessing/process.py\", line 160, in is_alive\n",
      "^    ^^assert self._parent_pid == os.getpid(), 'can only test a child process'^^^^\n",
      "^ ^ ^ ^^^ ^ ^ Exception ignored in: ^ <function _MultiProcessingDataLoaderIter.__del__ at 0x7f7433929ee0>^ \n",
      "^ Traceback (most recent call last):\n",
      "^   File \"/home/eduardo/Documentos/Water-Cycle-Neural-Network/venv/lib/python3.12/site-packages/torch/utils/data/dataloader.py\", line 1663, in __del__\n",
      "^ ^    ^^self._shutdown_workers()^\n",
      "^^  File \"/home/eduardo/Documentos/Water-Cycle-Neural-Network/venv/lib/python3.12/site-packages/torch/utils/data/dataloader.py\", line 1646, in _shutdown_workers\n",
      "^^^    ^^if w.is_alive():^^\n",
      "^^ ^^ ^^ ^^ ^\n",
      " ^AssertionError ^:  ^can only test a child process^^\n",
      "^^^^^^^^^^^^^^^^^^^^^\n",
      "^  File \"/usr/lib/python3.12/multiprocessing/process.py\", line 160, in is_alive\n",
      "^    ^assert self._parent_pid == os.getpid(), 'can only test a child process'\n",
      "^ ^ \n",
      " AssertionError :   can only test a child process \n",
      "    ^^^^^^^^^^^^^^^^^^^^^^^^^^^^^^^\n",
      "AssertionError: can only test a child process\n",
      "Exception ignored in: <function _MultiProcessingDataLoaderIter.__del__ at 0x7f7433929ee0>\n",
      "Traceback (most recent call last):\n",
      "  File \"/home/eduardo/Documentos/Water-Cycle-Neural-Network/venv/lib/python3.12/site-packages/torch/utils/data/dataloader.py\", line 1663, in __del__\n",
      "    Exception ignored in: self._shutdown_workers()<function _MultiProcessingDataLoaderIter.__del__ at 0x7f7433929ee0>\n",
      "\n",
      "  File \"/home/eduardo/Documentos/Water-Cycle-Neural-Network/venv/lib/python3.12/site-packages/torch/utils/data/dataloader.py\", line 1646, in _shutdown_workers\n",
      "Traceback (most recent call last):\n",
      "  File \"/home/eduardo/Documentos/Water-Cycle-Neural-Network/venv/lib/python3.12/site-packages/torch/utils/data/dataloader.py\", line 1663, in __del__\n",
      "        if w.is_alive():self._shutdown_workers()\n",
      "\n",
      "  File \"/home/eduardo/Documentos/Water-Cycle-Neural-Network/venv/lib/python3.12/site-packages/torch/utils/data/dataloader.py\", line 1646, in _shutdown_workers\n",
      "       if w.is_alive(): \n",
      "       ^ ^ ^ ^^^^^^^^^^^^^^^^^^\n",
      "^  File \"/usr/lib/python3.12/multiprocessing/process.py\", line 160, in is_alive\n",
      "^    ^assert self._parent_pid == os.getpid(), 'can only test a child process'\n",
      "\n",
      "  File \"/usr/lib/python3.12/multiprocessing/process.py\", line 160, in is_alive\n",
      "      assert self._parent_pid == os.getpid(), 'can only test a child process' \n",
      "                ^ ^ ^ ^^^^^^^^^^^^^^^^^^^^^^^^^^^^^^^^^^^^^^^^^^^^^^^^^^^^^^^^^\n",
      "^AssertionError^: \n",
      "can only test a child process\n",
      "AssertionError: can only test a child process\n",
      "[I 2025-06-09 15:23:18,588] Trial 80 pruned. Trial was pruned at epoch 0.\n",
      "GPU available: True (cuda), used: True\n",
      "TPU available: False, using: 0 TPU cores\n",
      "HPU available: False, using: 0 HPUs\n",
      "LOCAL_RANK: 0 - CUDA_VISIBLE_DEVICES: [0]\n"
     ]
    },
    {
     "name": "stdout",
     "output_type": "stream",
     "text": [
      "Current value: 0.1522412246040994, Current params: {'input_chunk_length': 24, 'hidden_size': 96, 'dropout': 0.45000000000000007, 'batch_size': 104, 'lr': 5.6312748711334845e-06, 'weight_decay': 0.000820011472534647, 'num_encoder_layers': 3, 'num_decoder_layers': 3, 'temporal_width_past': 3, 'temporal_width_future': 3, 'use_reversible_instance_norm': True, 'temporal_hidden_size_past': 120, 'temporal_hidden_size_future': 144}\n",
      "Best value: 50.74974930991929, Best params: {'input_chunk_length': 24, 'hidden_size': 104, 'dropout': 0.45000000000000007, 'batch_size': 64, 'lr': 0.0019236722208631487, 'weight_decay': 0.0015992894560815313, 'num_encoder_layers': 3, 'num_decoder_layers': 2, 'temporal_width_past': 3, 'temporal_width_future': 1, 'use_reversible_instance_norm': True, 'temporal_hidden_size_past': 24, 'temporal_hidden_size_future': 156}\n",
      "\n",
      "Fold 1/3\n"
     ]
    },
    {
     "name": "stderr",
     "output_type": "stream",
     "text": [
      "Metric val_loss improved. New best score: 0.136\n",
      "Metric val_loss improved by 0.010 >= min_delta = 0.0005. New best score: 0.126\n",
      "Metric val_loss improved by 0.004 >= min_delta = 0.0005. New best score: 0.122\n",
      "Metric val_loss improved by 0.003 >= min_delta = 0.0005. New best score: 0.119\n",
      "Metric val_loss improved by 0.002 >= min_delta = 0.0005. New best score: 0.117\n",
      "Metric val_loss improved by 0.002 >= min_delta = 0.0005. New best score: 0.115\n",
      "Metric val_loss improved by 0.002 >= min_delta = 0.0005. New best score: 0.113\n",
      "Metric val_loss improved by 0.001 >= min_delta = 0.0005. New best score: 0.112\n",
      "Metric val_loss improved by 0.002 >= min_delta = 0.0005. New best score: 0.110\n",
      "Metric val_loss improved by 0.001 >= min_delta = 0.0005. New best score: 0.109\n",
      "Metric val_loss improved by 0.001 >= min_delta = 0.0005. New best score: 0.108\n",
      "Metric val_loss improved by 0.001 >= min_delta = 0.0005. New best score: 0.107\n",
      "Metric val_loss improved by 0.001 >= min_delta = 0.0005. New best score: 0.106\n",
      "`Trainer.fit` stopped: `max_epochs=30` reached.\n",
      "GPU available: True (cuda), used: True\n",
      "TPU available: False, using: 0 TPU cores\n",
      "HPU available: False, using: 0 HPUs\n",
      "LOCAL_RANK: 0 - CUDA_VISIBLE_DEVICES: [0]\n"
     ]
    },
    {
     "name": "stdout",
     "output_type": "stream",
     "text": [
      "Model loaded from checkpoint for trial 81, fold 0\n"
     ]
    },
    {
     "name": "stderr",
     "output_type": "stream",
     "text": [
      "GPU available: True (cuda), used: True\n",
      "TPU available: False, using: 0 TPU cores\n",
      "HPU available: False, using: 0 HPUs\n",
      "LOCAL_RANK: 0 - CUDA_VISIBLE_DEVICES: [0]\n"
     ]
    },
    {
     "name": "stdout",
     "output_type": "stream",
     "text": [
      "SMAPE fold 0: 48.720423154125506\n",
      "\n",
      "Fold 2/3\n"
     ]
    },
    {
     "name": "stderr",
     "output_type": "stream",
     "text": [
      "/home/eduardo/Documentos/Water-Cycle-Neural-Network/venv/lib/python3.12/site-packages/optuna/trial/_trial.py:497: UserWarning: The reported value is ignored because this `step` 0 is already reported.\n",
      "  warnings.warn(\n",
      "Metric val_loss improved by 0.096 >= min_delta = 0.0005. New best score: 0.009\n",
      "/home/eduardo/Documentos/Water-Cycle-Neural-Network/venv/lib/python3.12/site-packages/optuna/trial/_trial.py:497: UserWarning: The reported value is ignored because this `step` 1 is already reported.\n",
      "  warnings.warn(\n",
      "/home/eduardo/Documentos/Water-Cycle-Neural-Network/venv/lib/python3.12/site-packages/optuna/trial/_trial.py:497: UserWarning: The reported value is ignored because this `step` 2 is already reported.\n",
      "  warnings.warn(\n",
      "/home/eduardo/Documentos/Water-Cycle-Neural-Network/venv/lib/python3.12/site-packages/optuna/trial/_trial.py:497: UserWarning: The reported value is ignored because this `step` 3 is already reported.\n",
      "  warnings.warn(\n",
      "/home/eduardo/Documentos/Water-Cycle-Neural-Network/venv/lib/python3.12/site-packages/optuna/trial/_trial.py:497: UserWarning: The reported value is ignored because this `step` 4 is already reported.\n",
      "  warnings.warn(\n",
      "/home/eduardo/Documentos/Water-Cycle-Neural-Network/venv/lib/python3.12/site-packages/optuna/trial/_trial.py:497: UserWarning: The reported value is ignored because this `step` 5 is already reported.\n",
      "  warnings.warn(\n",
      "/home/eduardo/Documentos/Water-Cycle-Neural-Network/venv/lib/python3.12/site-packages/optuna/trial/_trial.py:497: UserWarning: The reported value is ignored because this `step` 6 is already reported.\n",
      "  warnings.warn(\n",
      "/home/eduardo/Documentos/Water-Cycle-Neural-Network/venv/lib/python3.12/site-packages/optuna/trial/_trial.py:497: UserWarning: The reported value is ignored because this `step` 7 is already reported.\n",
      "  warnings.warn(\n",
      "/home/eduardo/Documentos/Water-Cycle-Neural-Network/venv/lib/python3.12/site-packages/optuna/trial/_trial.py:497: UserWarning: The reported value is ignored because this `step` 8 is already reported.\n",
      "  warnings.warn(\n",
      "/home/eduardo/Documentos/Water-Cycle-Neural-Network/venv/lib/python3.12/site-packages/optuna/trial/_trial.py:497: UserWarning: The reported value is ignored because this `step` 9 is already reported.\n",
      "  warnings.warn(\n",
      "/home/eduardo/Documentos/Water-Cycle-Neural-Network/venv/lib/python3.12/site-packages/optuna/trial/_trial.py:497: UserWarning: The reported value is ignored because this `step` 10 is already reported.\n",
      "  warnings.warn(\n",
      "/home/eduardo/Documentos/Water-Cycle-Neural-Network/venv/lib/python3.12/site-packages/optuna/trial/_trial.py:497: UserWarning: The reported value is ignored because this `step` 11 is already reported.\n",
      "  warnings.warn(\n",
      "/home/eduardo/Documentos/Water-Cycle-Neural-Network/venv/lib/python3.12/site-packages/optuna/trial/_trial.py:497: UserWarning: The reported value is ignored because this `step` 12 is already reported.\n",
      "  warnings.warn(\n",
      "/home/eduardo/Documentos/Water-Cycle-Neural-Network/venv/lib/python3.12/site-packages/optuna/trial/_trial.py:497: UserWarning: The reported value is ignored because this `step` 13 is already reported.\n",
      "  warnings.warn(\n",
      "/home/eduardo/Documentos/Water-Cycle-Neural-Network/venv/lib/python3.12/site-packages/optuna/trial/_trial.py:497: UserWarning: The reported value is ignored because this `step` 14 is already reported.\n",
      "  warnings.warn(\n",
      "/home/eduardo/Documentos/Water-Cycle-Neural-Network/venv/lib/python3.12/site-packages/optuna/trial/_trial.py:497: UserWarning: The reported value is ignored because this `step` 15 is already reported.\n",
      "  warnings.warn(\n",
      "Monitored metric val_loss did not improve in the last 15 records. Best score: 0.009. Signaling Trainer to stop.\n",
      "GPU available: True (cuda), used: True\n",
      "TPU available: False, using: 0 TPU cores\n",
      "HPU available: False, using: 0 HPUs\n",
      "LOCAL_RANK: 0 - CUDA_VISIBLE_DEVICES: [0]\n"
     ]
    },
    {
     "name": "stdout",
     "output_type": "stream",
     "text": [
      "Model loaded from checkpoint for trial 81, fold 1\n"
     ]
    },
    {
     "name": "stderr",
     "output_type": "stream",
     "text": [
      "GPU available: True (cuda), used: True\n",
      "TPU available: False, using: 0 TPU cores\n",
      "HPU available: False, using: 0 HPUs\n",
      "LOCAL_RANK: 0 - CUDA_VISIBLE_DEVICES: [0]\n"
     ]
    },
    {
     "name": "stdout",
     "output_type": "stream",
     "text": [
      "SMAPE fold 1: 51.060215733957364\n",
      "\n",
      "Fold 3/3\n"
     ]
    },
    {
     "name": "stderr",
     "output_type": "stream",
     "text": [
      "/home/eduardo/Documentos/Water-Cycle-Neural-Network/venv/lib/python3.12/site-packages/optuna/trial/_trial.py:497: UserWarning: The reported value is ignored because this `step` 0 is already reported.\n",
      "  warnings.warn(\n",
      "Monitored metric val_loss did not improve in the last 16 records. Best score: 0.009. Signaling Trainer to stop.\n",
      "GPU available: True (cuda), used: True\n",
      "TPU available: False, using: 0 TPU cores\n",
      "HPU available: False, using: 0 HPUs\n",
      "LOCAL_RANK: 0 - CUDA_VISIBLE_DEVICES: [0]\n"
     ]
    },
    {
     "name": "stdout",
     "output_type": "stream",
     "text": [
      "Model loaded from checkpoint for trial 81, fold 2\n"
     ]
    },
    {
     "name": "stderr",
     "output_type": "stream",
     "text": [
      "[I 2025-06-09 15:25:23,717] Trial 81 finished with value: 50.957178568331415 and parameters: {'input_chunk_length': 24, 'hidden_size': 120, 'dropout': 0.4, 'batch_size': 72, 'lr': 0.0023189168581566498, 'weight_decay': 0.0025516117643734665, 'num_encoder_layers': 3, 'num_decoder_layers': 2, 'temporal_width_past': 3, 'temporal_width_future': 1, 'use_reversible_instance_norm': True, 'temporal_hidden_size_past': 24, 'temporal_hidden_size_future': 156}. Best is trial 73 with value: 50.74974930991929.\n",
      "GPU available: True (cuda), used: True\n",
      "TPU available: False, using: 0 TPU cores\n",
      "HPU available: False, using: 0 HPUs\n",
      "LOCAL_RANK: 0 - CUDA_VISIBLE_DEVICES: [0]\n"
     ]
    },
    {
     "name": "stdout",
     "output_type": "stream",
     "text": [
      "SMAPE fold 2: 53.09089681691137\n",
      "Média dos SMAPE nos folds: 50.957178568331415\n",
      "Results of trial 81 saved in optuna_iteration_metrics/trial_81.json\n",
      "Current value: 50.957178568331415, Current params: {'input_chunk_length': 24, 'hidden_size': 120, 'dropout': 0.4, 'batch_size': 72, 'lr': 0.0023189168581566498, 'weight_decay': 0.0025516117643734665, 'num_encoder_layers': 3, 'num_decoder_layers': 2, 'temporal_width_past': 3, 'temporal_width_future': 1, 'use_reversible_instance_norm': True, 'temporal_hidden_size_past': 24, 'temporal_hidden_size_future': 156}\n",
      "Best value: 50.74974930991929, Best params: {'input_chunk_length': 24, 'hidden_size': 104, 'dropout': 0.45000000000000007, 'batch_size': 64, 'lr': 0.0019236722208631487, 'weight_decay': 0.0015992894560815313, 'num_encoder_layers': 3, 'num_decoder_layers': 2, 'temporal_width_past': 3, 'temporal_width_future': 1, 'use_reversible_instance_norm': True, 'temporal_hidden_size_past': 24, 'temporal_hidden_size_future': 156}\n",
      "\n",
      "Fold 1/3\n"
     ]
    },
    {
     "name": "stderr",
     "output_type": "stream",
     "text": [
      "Metric val_loss improved. New best score: 0.122\n",
      "Metric val_loss improved by 0.009 >= min_delta = 0.0005. New best score: 0.113\n",
      "Metric val_loss improved by 0.002 >= min_delta = 0.0005. New best score: 0.110\n",
      "Metric val_loss improved by 0.002 >= min_delta = 0.0005. New best score: 0.109\n",
      "Metric val_loss improved by 0.002 >= min_delta = 0.0005. New best score: 0.107\n",
      "Metric val_loss improved by 0.001 >= min_delta = 0.0005. New best score: 0.106\n",
      "`Trainer.fit` stopped: `max_epochs=30` reached.\n",
      "GPU available: True (cuda), used: True\n",
      "TPU available: False, using: 0 TPU cores\n",
      "HPU available: False, using: 0 HPUs\n",
      "LOCAL_RANK: 0 - CUDA_VISIBLE_DEVICES: [0]\n"
     ]
    },
    {
     "name": "stdout",
     "output_type": "stream",
     "text": [
      "Model loaded from checkpoint for trial 82, fold 0\n"
     ]
    },
    {
     "name": "stderr",
     "output_type": "stream",
     "text": [
      "GPU available: True (cuda), used: True\n",
      "TPU available: False, using: 0 TPU cores\n",
      "HPU available: False, using: 0 HPUs\n",
      "LOCAL_RANK: 0 - CUDA_VISIBLE_DEVICES: [0]\n"
     ]
    },
    {
     "name": "stdout",
     "output_type": "stream",
     "text": [
      "SMAPE fold 0: 48.56026154394188\n",
      "\n",
      "Fold 2/3\n"
     ]
    },
    {
     "name": "stderr",
     "output_type": "stream",
     "text": [
      "/home/eduardo/Documentos/Water-Cycle-Neural-Network/venv/lib/python3.12/site-packages/optuna/trial/_trial.py:497: UserWarning: The reported value is ignored because this `step` 0 is already reported.\n",
      "  warnings.warn(\n",
      "Metric val_loss improved by 0.097 >= min_delta = 0.0005. New best score: 0.009\n",
      "/home/eduardo/Documentos/Water-Cycle-Neural-Network/venv/lib/python3.12/site-packages/optuna/trial/_trial.py:497: UserWarning: The reported value is ignored because this `step` 1 is already reported.\n",
      "  warnings.warn(\n",
      "/home/eduardo/Documentos/Water-Cycle-Neural-Network/venv/lib/python3.12/site-packages/optuna/trial/_trial.py:497: UserWarning: The reported value is ignored because this `step` 2 is already reported.\n",
      "  warnings.warn(\n",
      "/home/eduardo/Documentos/Water-Cycle-Neural-Network/venv/lib/python3.12/site-packages/optuna/trial/_trial.py:497: UserWarning: The reported value is ignored because this `step` 3 is already reported.\n",
      "  warnings.warn(\n",
      "/home/eduardo/Documentos/Water-Cycle-Neural-Network/venv/lib/python3.12/site-packages/optuna/trial/_trial.py:497: UserWarning: The reported value is ignored because this `step` 4 is already reported.\n",
      "  warnings.warn(\n",
      "/home/eduardo/Documentos/Water-Cycle-Neural-Network/venv/lib/python3.12/site-packages/optuna/trial/_trial.py:497: UserWarning: The reported value is ignored because this `step` 5 is already reported.\n",
      "  warnings.warn(\n",
      "/home/eduardo/Documentos/Water-Cycle-Neural-Network/venv/lib/python3.12/site-packages/optuna/trial/_trial.py:497: UserWarning: The reported value is ignored because this `step` 6 is already reported.\n",
      "  warnings.warn(\n",
      "/home/eduardo/Documentos/Water-Cycle-Neural-Network/venv/lib/python3.12/site-packages/optuna/trial/_trial.py:497: UserWarning: The reported value is ignored because this `step` 7 is already reported.\n",
      "  warnings.warn(\n",
      "/home/eduardo/Documentos/Water-Cycle-Neural-Network/venv/lib/python3.12/site-packages/optuna/trial/_trial.py:497: UserWarning: The reported value is ignored because this `step` 8 is already reported.\n",
      "  warnings.warn(\n",
      "/home/eduardo/Documentos/Water-Cycle-Neural-Network/venv/lib/python3.12/site-packages/optuna/trial/_trial.py:497: UserWarning: The reported value is ignored because this `step` 9 is already reported.\n",
      "  warnings.warn(\n",
      "/home/eduardo/Documentos/Water-Cycle-Neural-Network/venv/lib/python3.12/site-packages/optuna/trial/_trial.py:497: UserWarning: The reported value is ignored because this `step` 10 is already reported.\n",
      "  warnings.warn(\n",
      "/home/eduardo/Documentos/Water-Cycle-Neural-Network/venv/lib/python3.12/site-packages/optuna/trial/_trial.py:497: UserWarning: The reported value is ignored because this `step` 11 is already reported.\n",
      "  warnings.warn(\n",
      "/home/eduardo/Documentos/Water-Cycle-Neural-Network/venv/lib/python3.12/site-packages/optuna/trial/_trial.py:497: UserWarning: The reported value is ignored because this `step` 12 is already reported.\n",
      "  warnings.warn(\n",
      "/home/eduardo/Documentos/Water-Cycle-Neural-Network/venv/lib/python3.12/site-packages/optuna/trial/_trial.py:497: UserWarning: The reported value is ignored because this `step` 13 is already reported.\n",
      "  warnings.warn(\n",
      "/home/eduardo/Documentos/Water-Cycle-Neural-Network/venv/lib/python3.12/site-packages/optuna/trial/_trial.py:497: UserWarning: The reported value is ignored because this `step` 14 is already reported.\n",
      "  warnings.warn(\n",
      "/home/eduardo/Documentos/Water-Cycle-Neural-Network/venv/lib/python3.12/site-packages/optuna/trial/_trial.py:497: UserWarning: The reported value is ignored because this `step` 15 is already reported.\n",
      "  warnings.warn(\n",
      "Monitored metric val_loss did not improve in the last 15 records. Best score: 0.009. Signaling Trainer to stop.\n",
      "GPU available: True (cuda), used: True\n",
      "TPU available: False, using: 0 TPU cores\n",
      "HPU available: False, using: 0 HPUs\n",
      "LOCAL_RANK: 0 - CUDA_VISIBLE_DEVICES: [0]\n"
     ]
    },
    {
     "name": "stdout",
     "output_type": "stream",
     "text": [
      "Model loaded from checkpoint for trial 82, fold 1\n"
     ]
    },
    {
     "name": "stderr",
     "output_type": "stream",
     "text": [
      "GPU available: True (cuda), used: True\n",
      "TPU available: False, using: 0 TPU cores\n",
      "HPU available: False, using: 0 HPUs\n",
      "LOCAL_RANK: 0 - CUDA_VISIBLE_DEVICES: [0]\n"
     ]
    },
    {
     "name": "stdout",
     "output_type": "stream",
     "text": [
      "SMAPE fold 1: 50.97737881490937\n",
      "\n",
      "Fold 3/3\n"
     ]
    },
    {
     "name": "stderr",
     "output_type": "stream",
     "text": [
      "/home/eduardo/Documentos/Water-Cycle-Neural-Network/venv/lib/python3.12/site-packages/optuna/trial/_trial.py:497: UserWarning: The reported value is ignored because this `step` 0 is already reported.\n",
      "  warnings.warn(\n",
      "Monitored metric val_loss did not improve in the last 16 records. Best score: 0.009. Signaling Trainer to stop.\n",
      "GPU available: True (cuda), used: True\n",
      "TPU available: False, using: 0 TPU cores\n",
      "HPU available: False, using: 0 HPUs\n",
      "LOCAL_RANK: 0 - CUDA_VISIBLE_DEVICES: [0]\n"
     ]
    },
    {
     "name": "stdout",
     "output_type": "stream",
     "text": [
      "Model loaded from checkpoint for trial 82, fold 2\n"
     ]
    },
    {
     "name": "stderr",
     "output_type": "stream",
     "text": [
      "[I 2025-06-09 15:26:34,246] Trial 82 finished with value: 50.57312882294932 and parameters: {'input_chunk_length': 24, 'hidden_size': 144, 'dropout': 0.4, 'batch_size': 64, 'lr': 0.004149646453870474, 'weight_decay': 0.001234370270520789, 'num_encoder_layers': 3, 'num_decoder_layers': 2, 'temporal_width_past': 3, 'temporal_width_future': 1, 'use_reversible_instance_norm': True, 'temporal_hidden_size_past': 36, 'temporal_hidden_size_future': 144}. Best is trial 82 with value: 50.57312882294932.\n",
      "GPU available: True (cuda), used: True\n",
      "TPU available: False, using: 0 TPU cores\n",
      "HPU available: False, using: 0 HPUs\n",
      "LOCAL_RANK: 0 - CUDA_VISIBLE_DEVICES: [0]\n"
     ]
    },
    {
     "name": "stdout",
     "output_type": "stream",
     "text": [
      "SMAPE fold 2: 52.18174610999674\n",
      "Média dos SMAPE nos folds: 50.57312882294932\n",
      "Results of trial 82 saved in optuna_iteration_metrics/trial_82.json\n",
      "Current value: 50.57312882294932, Current params: {'input_chunk_length': 24, 'hidden_size': 144, 'dropout': 0.4, 'batch_size': 64, 'lr': 0.004149646453870474, 'weight_decay': 0.001234370270520789, 'num_encoder_layers': 3, 'num_decoder_layers': 2, 'temporal_width_past': 3, 'temporal_width_future': 1, 'use_reversible_instance_norm': True, 'temporal_hidden_size_past': 36, 'temporal_hidden_size_future': 144}\n",
      "Best value: 50.57312882294932, Best params: {'input_chunk_length': 24, 'hidden_size': 144, 'dropout': 0.4, 'batch_size': 64, 'lr': 0.004149646453870474, 'weight_decay': 0.001234370270520789, 'num_encoder_layers': 3, 'num_decoder_layers': 2, 'temporal_width_past': 3, 'temporal_width_future': 1, 'use_reversible_instance_norm': True, 'temporal_hidden_size_past': 36, 'temporal_hidden_size_future': 144}\n",
      "\n",
      "Fold 1/3\n"
     ]
    },
    {
     "name": "stderr",
     "output_type": "stream",
     "text": [
      "Metric val_loss improved. New best score: 0.118\n",
      "Metric val_loss improved by 0.007 >= min_delta = 0.0005. New best score: 0.111\n",
      "Metric val_loss improved by 0.001 >= min_delta = 0.0005. New best score: 0.110\n",
      "Metric val_loss improved by 0.002 >= min_delta = 0.0005. New best score: 0.108\n",
      "Metric val_loss improved by 0.001 >= min_delta = 0.0005. New best score: 0.108\n",
      "Monitored metric val_loss did not improve in the last 15 records. Best score: 0.108. Signaling Trainer to stop.\n",
      "GPU available: True (cuda), used: True\n",
      "TPU available: False, using: 0 TPU cores\n",
      "HPU available: False, using: 0 HPUs\n",
      "LOCAL_RANK: 0 - CUDA_VISIBLE_DEVICES: [0]\n"
     ]
    },
    {
     "name": "stdout",
     "output_type": "stream",
     "text": [
      "Model loaded from checkpoint for trial 83, fold 0\n"
     ]
    },
    {
     "name": "stderr",
     "output_type": "stream",
     "text": [
      "GPU available: True (cuda), used: True\n",
      "TPU available: False, using: 0 TPU cores\n",
      "HPU available: False, using: 0 HPUs\n",
      "LOCAL_RANK: 0 - CUDA_VISIBLE_DEVICES: [0]\n"
     ]
    },
    {
     "name": "stdout",
     "output_type": "stream",
     "text": [
      "SMAPE fold 0: 48.72910641492243\n",
      "\n",
      "Fold 2/3\n"
     ]
    },
    {
     "name": "stderr",
     "output_type": "stream",
     "text": [
      "/home/eduardo/Documentos/Water-Cycle-Neural-Network/venv/lib/python3.12/site-packages/optuna/trial/_trial.py:497: UserWarning: The reported value is ignored because this `step` 0 is already reported.\n",
      "  warnings.warn(\n",
      "Metric val_loss improved by 0.099 >= min_delta = 0.0005. New best score: 0.009\n",
      "/home/eduardo/Documentos/Water-Cycle-Neural-Network/venv/lib/python3.12/site-packages/optuna/trial/_trial.py:497: UserWarning: The reported value is ignored because this `step` 1 is already reported.\n",
      "  warnings.warn(\n",
      "/home/eduardo/Documentos/Water-Cycle-Neural-Network/venv/lib/python3.12/site-packages/optuna/trial/_trial.py:497: UserWarning: The reported value is ignored because this `step` 2 is already reported.\n",
      "  warnings.warn(\n",
      "/home/eduardo/Documentos/Water-Cycle-Neural-Network/venv/lib/python3.12/site-packages/optuna/trial/_trial.py:497: UserWarning: The reported value is ignored because this `step` 3 is already reported.\n",
      "  warnings.warn(\n",
      "/home/eduardo/Documentos/Water-Cycle-Neural-Network/venv/lib/python3.12/site-packages/optuna/trial/_trial.py:497: UserWarning: The reported value is ignored because this `step` 4 is already reported.\n",
      "  warnings.warn(\n",
      "/home/eduardo/Documentos/Water-Cycle-Neural-Network/venv/lib/python3.12/site-packages/optuna/trial/_trial.py:497: UserWarning: The reported value is ignored because this `step` 5 is already reported.\n",
      "  warnings.warn(\n",
      "/home/eduardo/Documentos/Water-Cycle-Neural-Network/venv/lib/python3.12/site-packages/optuna/trial/_trial.py:497: UserWarning: The reported value is ignored because this `step` 6 is already reported.\n",
      "  warnings.warn(\n",
      "/home/eduardo/Documentos/Water-Cycle-Neural-Network/venv/lib/python3.12/site-packages/optuna/trial/_trial.py:497: UserWarning: The reported value is ignored because this `step` 7 is already reported.\n",
      "  warnings.warn(\n",
      "/home/eduardo/Documentos/Water-Cycle-Neural-Network/venv/lib/python3.12/site-packages/optuna/trial/_trial.py:497: UserWarning: The reported value is ignored because this `step` 8 is already reported.\n",
      "  warnings.warn(\n",
      "/home/eduardo/Documentos/Water-Cycle-Neural-Network/venv/lib/python3.12/site-packages/optuna/trial/_trial.py:497: UserWarning: The reported value is ignored because this `step` 9 is already reported.\n",
      "  warnings.warn(\n",
      "/home/eduardo/Documentos/Water-Cycle-Neural-Network/venv/lib/python3.12/site-packages/optuna/trial/_trial.py:497: UserWarning: The reported value is ignored because this `step` 10 is already reported.\n",
      "  warnings.warn(\n",
      "/home/eduardo/Documentos/Water-Cycle-Neural-Network/venv/lib/python3.12/site-packages/optuna/trial/_trial.py:497: UserWarning: The reported value is ignored because this `step` 11 is already reported.\n",
      "  warnings.warn(\n",
      "/home/eduardo/Documentos/Water-Cycle-Neural-Network/venv/lib/python3.12/site-packages/optuna/trial/_trial.py:497: UserWarning: The reported value is ignored because this `step` 12 is already reported.\n",
      "  warnings.warn(\n",
      "/home/eduardo/Documentos/Water-Cycle-Neural-Network/venv/lib/python3.12/site-packages/optuna/trial/_trial.py:497: UserWarning: The reported value is ignored because this `step` 13 is already reported.\n",
      "  warnings.warn(\n",
      "/home/eduardo/Documentos/Water-Cycle-Neural-Network/venv/lib/python3.12/site-packages/optuna/trial/_trial.py:497: UserWarning: The reported value is ignored because this `step` 14 is already reported.\n",
      "  warnings.warn(\n",
      "/home/eduardo/Documentos/Water-Cycle-Neural-Network/venv/lib/python3.12/site-packages/optuna/trial/_trial.py:497: UserWarning: The reported value is ignored because this `step` 15 is already reported.\n",
      "  warnings.warn(\n",
      "Monitored metric val_loss did not improve in the last 15 records. Best score: 0.009. Signaling Trainer to stop.\n",
      "GPU available: True (cuda), used: True\n",
      "TPU available: False, using: 0 TPU cores\n",
      "HPU available: False, using: 0 HPUs\n",
      "LOCAL_RANK: 0 - CUDA_VISIBLE_DEVICES: [0]\n"
     ]
    },
    {
     "name": "stdout",
     "output_type": "stream",
     "text": [
      "Model loaded from checkpoint for trial 83, fold 1\n"
     ]
    },
    {
     "name": "stderr",
     "output_type": "stream",
     "text": [
      "GPU available: True (cuda), used: True\n",
      "TPU available: False, using: 0 TPU cores\n",
      "HPU available: False, using: 0 HPUs\n",
      "LOCAL_RANK: 0 - CUDA_VISIBLE_DEVICES: [0]\n"
     ]
    },
    {
     "name": "stdout",
     "output_type": "stream",
     "text": [
      "SMAPE fold 1: 50.89769550114578\n",
      "\n",
      "Fold 3/3\n"
     ]
    },
    {
     "name": "stderr",
     "output_type": "stream",
     "text": [
      "/home/eduardo/Documentos/Water-Cycle-Neural-Network/venv/lib/python3.12/site-packages/optuna/trial/_trial.py:497: UserWarning: The reported value is ignored because this `step` 0 is already reported.\n",
      "  warnings.warn(\n",
      "Monitored metric val_loss did not improve in the last 16 records. Best score: 0.009. Signaling Trainer to stop.\n",
      "GPU available: True (cuda), used: True\n",
      "TPU available: False, using: 0 TPU cores\n",
      "HPU available: False, using: 0 HPUs\n",
      "LOCAL_RANK: 0 - CUDA_VISIBLE_DEVICES: [0]\n"
     ]
    },
    {
     "name": "stdout",
     "output_type": "stream",
     "text": [
      "Model loaded from checkpoint for trial 83, fold 2\n"
     ]
    },
    {
     "name": "stderr",
     "output_type": "stream",
     "text": [
      "[I 2025-06-09 15:27:33,499] Trial 83 finished with value: 50.81232532662369 and parameters: {'input_chunk_length': 36, 'hidden_size': 144, 'dropout': 0.45000000000000007, 'batch_size': 64, 'lr': 0.0040459676822691805, 'weight_decay': 0.0012840173374100887, 'num_encoder_layers': 3, 'num_decoder_layers': 2, 'temporal_width_past': 3, 'temporal_width_future': 1, 'use_reversible_instance_norm': True, 'temporal_hidden_size_past': 36, 'temporal_hidden_size_future': 132}. Best is trial 82 with value: 50.57312882294932.\n",
      "GPU available: True (cuda), used: True\n",
      "TPU available: False, using: 0 TPU cores\n",
      "HPU available: False, using: 0 HPUs\n",
      "LOCAL_RANK: 0 - CUDA_VISIBLE_DEVICES: [0]\n"
     ]
    },
    {
     "name": "stdout",
     "output_type": "stream",
     "text": [
      "SMAPE fold 2: 52.81017406380285\n",
      "Média dos SMAPE nos folds: 50.81232532662369\n",
      "Results of trial 83 saved in optuna_iteration_metrics/trial_83.json\n",
      "Current value: 50.81232532662369, Current params: {'input_chunk_length': 36, 'hidden_size': 144, 'dropout': 0.45000000000000007, 'batch_size': 64, 'lr': 0.0040459676822691805, 'weight_decay': 0.0012840173374100887, 'num_encoder_layers': 3, 'num_decoder_layers': 2, 'temporal_width_past': 3, 'temporal_width_future': 1, 'use_reversible_instance_norm': True, 'temporal_hidden_size_past': 36, 'temporal_hidden_size_future': 132}\n",
      "Best value: 50.57312882294932, Best params: {'input_chunk_length': 24, 'hidden_size': 144, 'dropout': 0.4, 'batch_size': 64, 'lr': 0.004149646453870474, 'weight_decay': 0.001234370270520789, 'num_encoder_layers': 3, 'num_decoder_layers': 2, 'temporal_width_past': 3, 'temporal_width_future': 1, 'use_reversible_instance_norm': True, 'temporal_hidden_size_past': 36, 'temporal_hidden_size_future': 144}\n",
      "\n",
      "Fold 1/3\n"
     ]
    },
    {
     "name": "stderr",
     "output_type": "stream",
     "text": [
      "Metric val_loss improved. New best score: 0.113\n",
      "Metric val_loss improved by 0.006 >= min_delta = 0.0005. New best score: 0.107\n",
      "Monitored metric val_loss did not improve in the last 15 records. Best score: 0.107. Signaling Trainer to stop.\n",
      "GPU available: True (cuda), used: True\n",
      "TPU available: False, using: 0 TPU cores\n",
      "HPU available: False, using: 0 HPUs\n",
      "LOCAL_RANK: 0 - CUDA_VISIBLE_DEVICES: [0]\n"
     ]
    },
    {
     "name": "stdout",
     "output_type": "stream",
     "text": [
      "Model loaded from checkpoint for trial 84, fold 0\n"
     ]
    },
    {
     "name": "stderr",
     "output_type": "stream",
     "text": [
      "GPU available: True (cuda), used: True\n",
      "TPU available: False, using: 0 TPU cores\n",
      "HPU available: False, using: 0 HPUs\n",
      "LOCAL_RANK: 0 - CUDA_VISIBLE_DEVICES: [0]\n"
     ]
    },
    {
     "name": "stdout",
     "output_type": "stream",
     "text": [
      "SMAPE fold 0: 48.61817363236152\n",
      "\n",
      "Fold 2/3\n"
     ]
    },
    {
     "name": "stderr",
     "output_type": "stream",
     "text": [
      "/home/eduardo/Documentos/Water-Cycle-Neural-Network/venv/lib/python3.12/site-packages/optuna/trial/_trial.py:497: UserWarning: The reported value is ignored because this `step` 0 is already reported.\n",
      "  warnings.warn(\n",
      "Metric val_loss improved by 0.098 >= min_delta = 0.0005. New best score: 0.009\n",
      "/home/eduardo/Documentos/Water-Cycle-Neural-Network/venv/lib/python3.12/site-packages/optuna/trial/_trial.py:497: UserWarning: The reported value is ignored because this `step` 1 is already reported.\n",
      "  warnings.warn(\n",
      "/home/eduardo/Documentos/Water-Cycle-Neural-Network/venv/lib/python3.12/site-packages/optuna/trial/_trial.py:497: UserWarning: The reported value is ignored because this `step` 2 is already reported.\n",
      "  warnings.warn(\n",
      "/home/eduardo/Documentos/Water-Cycle-Neural-Network/venv/lib/python3.12/site-packages/optuna/trial/_trial.py:497: UserWarning: The reported value is ignored because this `step` 3 is already reported.\n",
      "  warnings.warn(\n",
      "/home/eduardo/Documentos/Water-Cycle-Neural-Network/venv/lib/python3.12/site-packages/optuna/trial/_trial.py:497: UserWarning: The reported value is ignored because this `step` 4 is already reported.\n",
      "  warnings.warn(\n",
      "/home/eduardo/Documentos/Water-Cycle-Neural-Network/venv/lib/python3.12/site-packages/optuna/trial/_trial.py:497: UserWarning: The reported value is ignored because this `step` 5 is already reported.\n",
      "  warnings.warn(\n",
      "/home/eduardo/Documentos/Water-Cycle-Neural-Network/venv/lib/python3.12/site-packages/optuna/trial/_trial.py:497: UserWarning: The reported value is ignored because this `step` 6 is already reported.\n",
      "  warnings.warn(\n",
      "/home/eduardo/Documentos/Water-Cycle-Neural-Network/venv/lib/python3.12/site-packages/optuna/trial/_trial.py:497: UserWarning: The reported value is ignored because this `step` 7 is already reported.\n",
      "  warnings.warn(\n",
      "/home/eduardo/Documentos/Water-Cycle-Neural-Network/venv/lib/python3.12/site-packages/optuna/trial/_trial.py:497: UserWarning: The reported value is ignored because this `step` 8 is already reported.\n",
      "  warnings.warn(\n",
      "/home/eduardo/Documentos/Water-Cycle-Neural-Network/venv/lib/python3.12/site-packages/optuna/trial/_trial.py:497: UserWarning: The reported value is ignored because this `step` 9 is already reported.\n",
      "  warnings.warn(\n",
      "/home/eduardo/Documentos/Water-Cycle-Neural-Network/venv/lib/python3.12/site-packages/optuna/trial/_trial.py:497: UserWarning: The reported value is ignored because this `step` 10 is already reported.\n",
      "  warnings.warn(\n",
      "/home/eduardo/Documentos/Water-Cycle-Neural-Network/venv/lib/python3.12/site-packages/optuna/trial/_trial.py:497: UserWarning: The reported value is ignored because this `step` 11 is already reported.\n",
      "  warnings.warn(\n",
      "/home/eduardo/Documentos/Water-Cycle-Neural-Network/venv/lib/python3.12/site-packages/optuna/trial/_trial.py:497: UserWarning: The reported value is ignored because this `step` 12 is already reported.\n",
      "  warnings.warn(\n",
      "/home/eduardo/Documentos/Water-Cycle-Neural-Network/venv/lib/python3.12/site-packages/optuna/trial/_trial.py:497: UserWarning: The reported value is ignored because this `step` 13 is already reported.\n",
      "  warnings.warn(\n",
      "/home/eduardo/Documentos/Water-Cycle-Neural-Network/venv/lib/python3.12/site-packages/optuna/trial/_trial.py:497: UserWarning: The reported value is ignored because this `step` 14 is already reported.\n",
      "  warnings.warn(\n",
      "/home/eduardo/Documentos/Water-Cycle-Neural-Network/venv/lib/python3.12/site-packages/optuna/trial/_trial.py:497: UserWarning: The reported value is ignored because this `step` 15 is already reported.\n",
      "  warnings.warn(\n",
      "Monitored metric val_loss did not improve in the last 15 records. Best score: 0.009. Signaling Trainer to stop.\n",
      "GPU available: True (cuda), used: True\n",
      "TPU available: False, using: 0 TPU cores\n",
      "HPU available: False, using: 0 HPUs\n",
      "LOCAL_RANK: 0 - CUDA_VISIBLE_DEVICES: [0]\n"
     ]
    },
    {
     "name": "stdout",
     "output_type": "stream",
     "text": [
      "Model loaded from checkpoint for trial 84, fold 1\n"
     ]
    },
    {
     "name": "stderr",
     "output_type": "stream",
     "text": [
      "GPU available: True (cuda), used: True\n",
      "TPU available: False, using: 0 TPU cores\n",
      "HPU available: False, using: 0 HPUs\n",
      "LOCAL_RANK: 0 - CUDA_VISIBLE_DEVICES: [0]\n"
     ]
    },
    {
     "name": "stdout",
     "output_type": "stream",
     "text": [
      "SMAPE fold 1: 50.8133886388244\n",
      "\n",
      "Fold 3/3\n"
     ]
    },
    {
     "name": "stderr",
     "output_type": "stream",
     "text": [
      "/home/eduardo/Documentos/Water-Cycle-Neural-Network/venv/lib/python3.12/site-packages/optuna/trial/_trial.py:497: UserWarning: The reported value is ignored because this `step` 0 is already reported.\n",
      "  warnings.warn(\n",
      "Monitored metric val_loss did not improve in the last 16 records. Best score: 0.009. Signaling Trainer to stop.\n",
      "GPU available: True (cuda), used: True\n",
      "TPU available: False, using: 0 TPU cores\n",
      "HPU available: False, using: 0 HPUs\n",
      "LOCAL_RANK: 0 - CUDA_VISIBLE_DEVICES: [0]\n"
     ]
    },
    {
     "name": "stdout",
     "output_type": "stream",
     "text": [
      "Model loaded from checkpoint for trial 84, fold 2\n"
     ]
    },
    {
     "name": "stderr",
     "output_type": "stream",
     "text": [
      "[I 2025-06-09 15:28:27,936] Trial 84 finished with value: 50.7067114690342 and parameters: {'input_chunk_length': 36, 'hidden_size': 144, 'dropout': 0.45000000000000007, 'batch_size': 64, 'lr': 0.004199891631935404, 'weight_decay': 0.0006060336563660212, 'num_encoder_layers': 3, 'num_decoder_layers': 2, 'temporal_width_past': 3, 'temporal_width_future': 1, 'use_reversible_instance_norm': True, 'temporal_hidden_size_past': 48, 'temporal_hidden_size_future': 132}. Best is trial 82 with value: 50.57312882294932.\n",
      "GPU available: True (cuda), used: True\n",
      "TPU available: False, using: 0 TPU cores\n",
      "HPU available: False, using: 0 HPUs\n",
      "LOCAL_RANK: 0 - CUDA_VISIBLE_DEVICES: [0]\n"
     ]
    },
    {
     "name": "stdout",
     "output_type": "stream",
     "text": [
      "SMAPE fold 2: 52.688572135916665\n",
      "Média dos SMAPE nos folds: 50.7067114690342\n",
      "Results of trial 84 saved in optuna_iteration_metrics/trial_84.json\n",
      "Current value: 50.7067114690342, Current params: {'input_chunk_length': 36, 'hidden_size': 144, 'dropout': 0.45000000000000007, 'batch_size': 64, 'lr': 0.004199891631935404, 'weight_decay': 0.0006060336563660212, 'num_encoder_layers': 3, 'num_decoder_layers': 2, 'temporal_width_past': 3, 'temporal_width_future': 1, 'use_reversible_instance_norm': True, 'temporal_hidden_size_past': 48, 'temporal_hidden_size_future': 132}\n",
      "Best value: 50.57312882294932, Best params: {'input_chunk_length': 24, 'hidden_size': 144, 'dropout': 0.4, 'batch_size': 64, 'lr': 0.004149646453870474, 'weight_decay': 0.001234370270520789, 'num_encoder_layers': 3, 'num_decoder_layers': 2, 'temporal_width_past': 3, 'temporal_width_future': 1, 'use_reversible_instance_norm': True, 'temporal_hidden_size_past': 36, 'temporal_hidden_size_future': 144}\n",
      "\n",
      "Fold 1/3\n"
     ]
    },
    {
     "name": "stderr",
     "output_type": "stream",
     "text": [
      "Metric val_loss improved. New best score: 0.115\n",
      "Metric val_loss improved by 0.006 >= min_delta = 0.0005. New best score: 0.109\n",
      "Metric val_loss improved by 0.001 >= min_delta = 0.0005. New best score: 0.108\n",
      "Monitored metric val_loss did not improve in the last 15 records. Best score: 0.108. Signaling Trainer to stop.\n",
      "GPU available: True (cuda), used: True\n",
      "TPU available: False, using: 0 TPU cores\n",
      "HPU available: False, using: 0 HPUs\n",
      "LOCAL_RANK: 0 - CUDA_VISIBLE_DEVICES: [0]\n"
     ]
    },
    {
     "name": "stdout",
     "output_type": "stream",
     "text": [
      "Model loaded from checkpoint for trial 85, fold 0\n"
     ]
    },
    {
     "name": "stderr",
     "output_type": "stream",
     "text": [
      "GPU available: True (cuda), used: True\n",
      "TPU available: False, using: 0 TPU cores\n",
      "HPU available: False, using: 0 HPUs\n",
      "LOCAL_RANK: 0 - CUDA_VISIBLE_DEVICES: [0]\n"
     ]
    },
    {
     "name": "stdout",
     "output_type": "stream",
     "text": [
      "SMAPE fold 0: 48.5997575766805\n",
      "\n",
      "Fold 2/3\n"
     ]
    },
    {
     "name": "stderr",
     "output_type": "stream",
     "text": [
      "/home/eduardo/Documentos/Water-Cycle-Neural-Network/venv/lib/python3.12/site-packages/optuna/trial/_trial.py:497: UserWarning: The reported value is ignored because this `step` 0 is already reported.\n",
      "  warnings.warn(\n",
      "Metric val_loss improved by 0.099 >= min_delta = 0.0005. New best score: 0.009\n",
      "/home/eduardo/Documentos/Water-Cycle-Neural-Network/venv/lib/python3.12/site-packages/optuna/trial/_trial.py:497: UserWarning: The reported value is ignored because this `step` 1 is already reported.\n",
      "  warnings.warn(\n",
      "/home/eduardo/Documentos/Water-Cycle-Neural-Network/venv/lib/python3.12/site-packages/optuna/trial/_trial.py:497: UserWarning: The reported value is ignored because this `step` 2 is already reported.\n",
      "  warnings.warn(\n",
      "/home/eduardo/Documentos/Water-Cycle-Neural-Network/venv/lib/python3.12/site-packages/optuna/trial/_trial.py:497: UserWarning: The reported value is ignored because this `step` 3 is already reported.\n",
      "  warnings.warn(\n",
      "/home/eduardo/Documentos/Water-Cycle-Neural-Network/venv/lib/python3.12/site-packages/optuna/trial/_trial.py:497: UserWarning: The reported value is ignored because this `step` 4 is already reported.\n",
      "  warnings.warn(\n",
      "/home/eduardo/Documentos/Water-Cycle-Neural-Network/venv/lib/python3.12/site-packages/optuna/trial/_trial.py:497: UserWarning: The reported value is ignored because this `step` 5 is already reported.\n",
      "  warnings.warn(\n",
      "/home/eduardo/Documentos/Water-Cycle-Neural-Network/venv/lib/python3.12/site-packages/optuna/trial/_trial.py:497: UserWarning: The reported value is ignored because this `step` 6 is already reported.\n",
      "  warnings.warn(\n",
      "/home/eduardo/Documentos/Water-Cycle-Neural-Network/venv/lib/python3.12/site-packages/optuna/trial/_trial.py:497: UserWarning: The reported value is ignored because this `step` 7 is already reported.\n",
      "  warnings.warn(\n",
      "/home/eduardo/Documentos/Water-Cycle-Neural-Network/venv/lib/python3.12/site-packages/optuna/trial/_trial.py:497: UserWarning: The reported value is ignored because this `step` 8 is already reported.\n",
      "  warnings.warn(\n",
      "/home/eduardo/Documentos/Water-Cycle-Neural-Network/venv/lib/python3.12/site-packages/optuna/trial/_trial.py:497: UserWarning: The reported value is ignored because this `step` 9 is already reported.\n",
      "  warnings.warn(\n",
      "/home/eduardo/Documentos/Water-Cycle-Neural-Network/venv/lib/python3.12/site-packages/optuna/trial/_trial.py:497: UserWarning: The reported value is ignored because this `step` 10 is already reported.\n",
      "  warnings.warn(\n",
      "/home/eduardo/Documentos/Water-Cycle-Neural-Network/venv/lib/python3.12/site-packages/optuna/trial/_trial.py:497: UserWarning: The reported value is ignored because this `step` 11 is already reported.\n",
      "  warnings.warn(\n",
      "/home/eduardo/Documentos/Water-Cycle-Neural-Network/venv/lib/python3.12/site-packages/optuna/trial/_trial.py:497: UserWarning: The reported value is ignored because this `step` 12 is already reported.\n",
      "  warnings.warn(\n",
      "/home/eduardo/Documentos/Water-Cycle-Neural-Network/venv/lib/python3.12/site-packages/optuna/trial/_trial.py:497: UserWarning: The reported value is ignored because this `step` 13 is already reported.\n",
      "  warnings.warn(\n",
      "/home/eduardo/Documentos/Water-Cycle-Neural-Network/venv/lib/python3.12/site-packages/optuna/trial/_trial.py:497: UserWarning: The reported value is ignored because this `step` 14 is already reported.\n",
      "  warnings.warn(\n",
      "/home/eduardo/Documentos/Water-Cycle-Neural-Network/venv/lib/python3.12/site-packages/optuna/trial/_trial.py:497: UserWarning: The reported value is ignored because this `step` 15 is already reported.\n",
      "  warnings.warn(\n",
      "Monitored metric val_loss did not improve in the last 15 records. Best score: 0.009. Signaling Trainer to stop.\n",
      "GPU available: True (cuda), used: True\n",
      "TPU available: False, using: 0 TPU cores\n",
      "HPU available: False, using: 0 HPUs\n",
      "LOCAL_RANK: 0 - CUDA_VISIBLE_DEVICES: [0]\n"
     ]
    },
    {
     "name": "stdout",
     "output_type": "stream",
     "text": [
      "Model loaded from checkpoint for trial 85, fold 1\n"
     ]
    },
    {
     "name": "stderr",
     "output_type": "stream",
     "text": [
      "GPU available: True (cuda), used: True\n",
      "TPU available: False, using: 0 TPU cores\n",
      "HPU available: False, using: 0 HPUs\n",
      "LOCAL_RANK: 0 - CUDA_VISIBLE_DEVICES: [0]\n"
     ]
    },
    {
     "name": "stdout",
     "output_type": "stream",
     "text": [
      "SMAPE fold 1: 50.898261928537536\n",
      "\n",
      "Fold 3/3\n"
     ]
    },
    {
     "name": "stderr",
     "output_type": "stream",
     "text": [
      "/home/eduardo/Documentos/Water-Cycle-Neural-Network/venv/lib/python3.12/site-packages/optuna/trial/_trial.py:497: UserWarning: The reported value is ignored because this `step` 0 is already reported.\n",
      "  warnings.warn(\n",
      "Monitored metric val_loss did not improve in the last 16 records. Best score: 0.009. Signaling Trainer to stop.\n",
      "GPU available: True (cuda), used: True\n",
      "TPU available: False, using: 0 TPU cores\n",
      "HPU available: False, using: 0 HPUs\n",
      "LOCAL_RANK: 0 - CUDA_VISIBLE_DEVICES: [0]\n"
     ]
    },
    {
     "name": "stdout",
     "output_type": "stream",
     "text": [
      "Model loaded from checkpoint for trial 85, fold 2\n"
     ]
    },
    {
     "name": "stderr",
     "output_type": "stream",
     "text": [
      "[I 2025-06-09 15:29:24,781] Trial 85 finished with value: 50.665239718400095 and parameters: {'input_chunk_length': 36, 'hidden_size': 152, 'dropout': 0.4, 'batch_size': 64, 'lr': 0.004954369188160855, 'weight_decay': 0.0006378550597828199, 'num_encoder_layers': 3, 'num_decoder_layers': 2, 'temporal_width_past': 5, 'temporal_width_future': 1, 'use_reversible_instance_norm': True, 'temporal_hidden_size_past': 48, 'temporal_hidden_size_future': 132}. Best is trial 82 with value: 50.57312882294932.\n",
      "GPU available: True (cuda), used: True\n",
      "TPU available: False, using: 0 TPU cores\n",
      "HPU available: False, using: 0 HPUs\n",
      "LOCAL_RANK: 0 - CUDA_VISIBLE_DEVICES: [0]\n"
     ]
    },
    {
     "name": "stdout",
     "output_type": "stream",
     "text": [
      "SMAPE fold 2: 52.49769964998223\n",
      "Média dos SMAPE nos folds: 50.665239718400095\n",
      "Results of trial 85 saved in optuna_iteration_metrics/trial_85.json\n",
      "Current value: 50.665239718400095, Current params: {'input_chunk_length': 36, 'hidden_size': 152, 'dropout': 0.4, 'batch_size': 64, 'lr': 0.004954369188160855, 'weight_decay': 0.0006378550597828199, 'num_encoder_layers': 3, 'num_decoder_layers': 2, 'temporal_width_past': 5, 'temporal_width_future': 1, 'use_reversible_instance_norm': True, 'temporal_hidden_size_past': 48, 'temporal_hidden_size_future': 132}\n",
      "Best value: 50.57312882294932, Best params: {'input_chunk_length': 24, 'hidden_size': 144, 'dropout': 0.4, 'batch_size': 64, 'lr': 0.004149646453870474, 'weight_decay': 0.001234370270520789, 'num_encoder_layers': 3, 'num_decoder_layers': 2, 'temporal_width_past': 3, 'temporal_width_future': 1, 'use_reversible_instance_norm': True, 'temporal_hidden_size_past': 36, 'temporal_hidden_size_future': 144}\n",
      "\n",
      "Fold 1/3\n"
     ]
    },
    {
     "name": "stderr",
     "output_type": "stream",
     "text": [
      "[I 2025-06-09 15:29:26,899] Trial 86 pruned. Trial was pruned at epoch 0.\n",
      "GPU available: True (cuda), used: True\n",
      "TPU available: False, using: 0 TPU cores\n",
      "HPU available: False, using: 0 HPUs\n",
      "LOCAL_RANK: 0 - CUDA_VISIBLE_DEVICES: [0]\n"
     ]
    },
    {
     "name": "stdout",
     "output_type": "stream",
     "text": [
      "Current value: 1.3751797555641667, Current params: {'input_chunk_length': 60, 'hidden_size': 168, 'dropout': 0.4, 'batch_size': 64, 'lr': 0.004216598796159528, 'weight_decay': 0.0005375679579045093, 'num_encoder_layers': 4, 'num_decoder_layers': 2, 'temporal_width_past': 5, 'temporal_width_future': 1, 'use_reversible_instance_norm': False, 'temporal_hidden_size_past': 60, 'temporal_hidden_size_future': 132}\n",
      "Best value: 50.57312882294932, Best params: {'input_chunk_length': 24, 'hidden_size': 144, 'dropout': 0.4, 'batch_size': 64, 'lr': 0.004149646453870474, 'weight_decay': 0.001234370270520789, 'num_encoder_layers': 3, 'num_decoder_layers': 2, 'temporal_width_past': 3, 'temporal_width_future': 1, 'use_reversible_instance_norm': True, 'temporal_hidden_size_past': 36, 'temporal_hidden_size_future': 144}\n",
      "\n",
      "Fold 1/3\n"
     ]
    },
    {
     "name": "stderr",
     "output_type": "stream",
     "text": [
      "Metric val_loss improved. New best score: 0.112\n",
      "Metric val_loss improved by 0.004 >= min_delta = 0.0005. New best score: 0.108\n",
      "Monitored metric val_loss did not improve in the last 15 records. Best score: 0.108. Signaling Trainer to stop.\n",
      "GPU available: True (cuda), used: True\n",
      "TPU available: False, using: 0 TPU cores\n",
      "HPU available: False, using: 0 HPUs\n",
      "LOCAL_RANK: 0 - CUDA_VISIBLE_DEVICES: [0]\n"
     ]
    },
    {
     "name": "stdout",
     "output_type": "stream",
     "text": [
      "Model loaded from checkpoint for trial 87, fold 0\n"
     ]
    },
    {
     "name": "stderr",
     "output_type": "stream",
     "text": [
      "GPU available: True (cuda), used: True\n",
      "TPU available: False, using: 0 TPU cores\n",
      "HPU available: False, using: 0 HPUs\n",
      "LOCAL_RANK: 0 - CUDA_VISIBLE_DEVICES: [0]\n"
     ]
    },
    {
     "name": "stdout",
     "output_type": "stream",
     "text": [
      "SMAPE fold 0: 48.741488831669045\n",
      "\n",
      "Fold 2/3\n"
     ]
    },
    {
     "name": "stderr",
     "output_type": "stream",
     "text": [
      "/home/eduardo/Documentos/Water-Cycle-Neural-Network/venv/lib/python3.12/site-packages/optuna/trial/_trial.py:497: UserWarning: The reported value is ignored because this `step` 0 is already reported.\n",
      "  warnings.warn(\n",
      "Metric val_loss improved by 0.099 >= min_delta = 0.0005. New best score: 0.009\n",
      "/home/eduardo/Documentos/Water-Cycle-Neural-Network/venv/lib/python3.12/site-packages/optuna/trial/_trial.py:497: UserWarning: The reported value is ignored because this `step` 1 is already reported.\n",
      "  warnings.warn(\n",
      "/home/eduardo/Documentos/Water-Cycle-Neural-Network/venv/lib/python3.12/site-packages/optuna/trial/_trial.py:497: UserWarning: The reported value is ignored because this `step` 2 is already reported.\n",
      "  warnings.warn(\n",
      "/home/eduardo/Documentos/Water-Cycle-Neural-Network/venv/lib/python3.12/site-packages/optuna/trial/_trial.py:497: UserWarning: The reported value is ignored because this `step` 3 is already reported.\n",
      "  warnings.warn(\n",
      "/home/eduardo/Documentos/Water-Cycle-Neural-Network/venv/lib/python3.12/site-packages/optuna/trial/_trial.py:497: UserWarning: The reported value is ignored because this `step` 4 is already reported.\n",
      "  warnings.warn(\n",
      "/home/eduardo/Documentos/Water-Cycle-Neural-Network/venv/lib/python3.12/site-packages/optuna/trial/_trial.py:497: UserWarning: The reported value is ignored because this `step` 5 is already reported.\n",
      "  warnings.warn(\n",
      "/home/eduardo/Documentos/Water-Cycle-Neural-Network/venv/lib/python3.12/site-packages/optuna/trial/_trial.py:497: UserWarning: The reported value is ignored because this `step` 6 is already reported.\n",
      "  warnings.warn(\n",
      "/home/eduardo/Documentos/Water-Cycle-Neural-Network/venv/lib/python3.12/site-packages/optuna/trial/_trial.py:497: UserWarning: The reported value is ignored because this `step` 7 is already reported.\n",
      "  warnings.warn(\n",
      "/home/eduardo/Documentos/Water-Cycle-Neural-Network/venv/lib/python3.12/site-packages/optuna/trial/_trial.py:497: UserWarning: The reported value is ignored because this `step` 8 is already reported.\n",
      "  warnings.warn(\n",
      "/home/eduardo/Documentos/Water-Cycle-Neural-Network/venv/lib/python3.12/site-packages/optuna/trial/_trial.py:497: UserWarning: The reported value is ignored because this `step` 9 is already reported.\n",
      "  warnings.warn(\n",
      "/home/eduardo/Documentos/Water-Cycle-Neural-Network/venv/lib/python3.12/site-packages/optuna/trial/_trial.py:497: UserWarning: The reported value is ignored because this `step` 10 is already reported.\n",
      "  warnings.warn(\n",
      "/home/eduardo/Documentos/Water-Cycle-Neural-Network/venv/lib/python3.12/site-packages/optuna/trial/_trial.py:497: UserWarning: The reported value is ignored because this `step` 11 is already reported.\n",
      "  warnings.warn(\n",
      "/home/eduardo/Documentos/Water-Cycle-Neural-Network/venv/lib/python3.12/site-packages/optuna/trial/_trial.py:497: UserWarning: The reported value is ignored because this `step` 12 is already reported.\n",
      "  warnings.warn(\n",
      "/home/eduardo/Documentos/Water-Cycle-Neural-Network/venv/lib/python3.12/site-packages/optuna/trial/_trial.py:497: UserWarning: The reported value is ignored because this `step` 13 is already reported.\n",
      "  warnings.warn(\n",
      "/home/eduardo/Documentos/Water-Cycle-Neural-Network/venv/lib/python3.12/site-packages/optuna/trial/_trial.py:497: UserWarning: The reported value is ignored because this `step` 14 is already reported.\n",
      "  warnings.warn(\n",
      "/home/eduardo/Documentos/Water-Cycle-Neural-Network/venv/lib/python3.12/site-packages/optuna/trial/_trial.py:497: UserWarning: The reported value is ignored because this `step` 15 is already reported.\n",
      "  warnings.warn(\n",
      "Monitored metric val_loss did not improve in the last 15 records. Best score: 0.009. Signaling Trainer to stop.\n",
      "GPU available: True (cuda), used: True\n",
      "TPU available: False, using: 0 TPU cores\n",
      "HPU available: False, using: 0 HPUs\n",
      "LOCAL_RANK: 0 - CUDA_VISIBLE_DEVICES: [0]\n"
     ]
    },
    {
     "name": "stdout",
     "output_type": "stream",
     "text": [
      "Model loaded from checkpoint for trial 87, fold 1\n"
     ]
    },
    {
     "name": "stderr",
     "output_type": "stream",
     "text": [
      "GPU available: True (cuda), used: True\n",
      "TPU available: False, using: 0 TPU cores\n",
      "HPU available: False, using: 0 HPUs\n",
      "LOCAL_RANK: 0 - CUDA_VISIBLE_DEVICES: [0]\n"
     ]
    },
    {
     "name": "stdout",
     "output_type": "stream",
     "text": [
      "SMAPE fold 1: 50.93875313880526\n",
      "\n",
      "Fold 3/3\n"
     ]
    },
    {
     "name": "stderr",
     "output_type": "stream",
     "text": [
      "/home/eduardo/Documentos/Water-Cycle-Neural-Network/venv/lib/python3.12/site-packages/optuna/trial/_trial.py:497: UserWarning: The reported value is ignored because this `step` 0 is already reported.\n",
      "  warnings.warn(\n",
      "Monitored metric val_loss did not improve in the last 16 records. Best score: 0.009. Signaling Trainer to stop.\n",
      "GPU available: True (cuda), used: True\n",
      "TPU available: False, using: 0 TPU cores\n",
      "HPU available: False, using: 0 HPUs\n",
      "LOCAL_RANK: 0 - CUDA_VISIBLE_DEVICES: [0]\n"
     ]
    },
    {
     "name": "stdout",
     "output_type": "stream",
     "text": [
      "Model loaded from checkpoint for trial 87, fold 2\n"
     ]
    },
    {
     "name": "stderr",
     "output_type": "stream",
     "text": [
      "[I 2025-06-09 15:31:17,841] Trial 87 finished with value: 50.751888457590894 and parameters: {'input_chunk_length': 36, 'hidden_size': 144, 'dropout': 0.5, 'batch_size': 64, 'lr': 0.004593977745064824, 'weight_decay': 0.00022361966975693087, 'num_encoder_layers': 3, 'num_decoder_layers': 2, 'temporal_width_past': 3, 'temporal_width_future': 1, 'use_reversible_instance_norm': True, 'temporal_hidden_size_past': 48, 'temporal_hidden_size_future': 120}. Best is trial 82 with value: 50.57312882294932.\n",
      "GPU available: True (cuda), used: True\n",
      "TPU available: False, using: 0 TPU cores\n",
      "HPU available: False, using: 0 HPUs\n",
      "LOCAL_RANK: 0 - CUDA_VISIBLE_DEVICES: [0]\n"
     ]
    },
    {
     "name": "stdout",
     "output_type": "stream",
     "text": [
      "SMAPE fold 2: 52.5754234022984\n",
      "Média dos SMAPE nos folds: 50.751888457590894\n",
      "Results of trial 87 saved in optuna_iteration_metrics/trial_87.json\n",
      "Current value: 50.751888457590894, Current params: {'input_chunk_length': 36, 'hidden_size': 144, 'dropout': 0.5, 'batch_size': 64, 'lr': 0.004593977745064824, 'weight_decay': 0.00022361966975693087, 'num_encoder_layers': 3, 'num_decoder_layers': 2, 'temporal_width_past': 3, 'temporal_width_future': 1, 'use_reversible_instance_norm': True, 'temporal_hidden_size_past': 48, 'temporal_hidden_size_future': 120}\n",
      "Best value: 50.57312882294932, Best params: {'input_chunk_length': 24, 'hidden_size': 144, 'dropout': 0.4, 'batch_size': 64, 'lr': 0.004149646453870474, 'weight_decay': 0.001234370270520789, 'num_encoder_layers': 3, 'num_decoder_layers': 2, 'temporal_width_past': 3, 'temporal_width_future': 1, 'use_reversible_instance_norm': True, 'temporal_hidden_size_past': 36, 'temporal_hidden_size_future': 144}\n",
      "\n",
      "Fold 1/3\n"
     ]
    },
    {
     "name": "stderr",
     "output_type": "stream",
     "text": [
      "Metric val_loss improved. New best score: 0.112\n",
      "Metric val_loss improved by 0.004 >= min_delta = 0.0005. New best score: 0.108\n",
      "Monitored metric val_loss did not improve in the last 15 records. Best score: 0.108. Signaling Trainer to stop.\n",
      "GPU available: True (cuda), used: True\n",
      "TPU available: False, using: 0 TPU cores\n",
      "HPU available: False, using: 0 HPUs\n",
      "LOCAL_RANK: 0 - CUDA_VISIBLE_DEVICES: [0]\n"
     ]
    },
    {
     "name": "stdout",
     "output_type": "stream",
     "text": [
      "Model loaded from checkpoint for trial 88, fold 0\n"
     ]
    },
    {
     "name": "stderr",
     "output_type": "stream",
     "text": [
      "GPU available: True (cuda), used: True\n",
      "TPU available: False, using: 0 TPU cores\n",
      "HPU available: False, using: 0 HPUs\n",
      "LOCAL_RANK: 0 - CUDA_VISIBLE_DEVICES: [0]\n"
     ]
    },
    {
     "name": "stdout",
     "output_type": "stream",
     "text": [
      "SMAPE fold 0: 48.72504578788303\n",
      "\n",
      "Fold 2/3\n"
     ]
    },
    {
     "name": "stderr",
     "output_type": "stream",
     "text": [
      "/home/eduardo/Documentos/Water-Cycle-Neural-Network/venv/lib/python3.12/site-packages/optuna/trial/_trial.py:497: UserWarning: The reported value is ignored because this `step` 0 is already reported.\n",
      "  warnings.warn(\n",
      "Metric val_loss improved by 0.099 >= min_delta = 0.0005. New best score: 0.009\n",
      "/home/eduardo/Documentos/Water-Cycle-Neural-Network/venv/lib/python3.12/site-packages/optuna/trial/_trial.py:497: UserWarning: The reported value is ignored because this `step` 1 is already reported.\n",
      "  warnings.warn(\n",
      "/home/eduardo/Documentos/Water-Cycle-Neural-Network/venv/lib/python3.12/site-packages/optuna/trial/_trial.py:497: UserWarning: The reported value is ignored because this `step` 2 is already reported.\n",
      "  warnings.warn(\n",
      "/home/eduardo/Documentos/Water-Cycle-Neural-Network/venv/lib/python3.12/site-packages/optuna/trial/_trial.py:497: UserWarning: The reported value is ignored because this `step` 3 is already reported.\n",
      "  warnings.warn(\n",
      "/home/eduardo/Documentos/Water-Cycle-Neural-Network/venv/lib/python3.12/site-packages/optuna/trial/_trial.py:497: UserWarning: The reported value is ignored because this `step` 4 is already reported.\n",
      "  warnings.warn(\n",
      "/home/eduardo/Documentos/Water-Cycle-Neural-Network/venv/lib/python3.12/site-packages/optuna/trial/_trial.py:497: UserWarning: The reported value is ignored because this `step` 5 is already reported.\n",
      "  warnings.warn(\n",
      "/home/eduardo/Documentos/Water-Cycle-Neural-Network/venv/lib/python3.12/site-packages/optuna/trial/_trial.py:497: UserWarning: The reported value is ignored because this `step` 6 is already reported.\n",
      "  warnings.warn(\n",
      "/home/eduardo/Documentos/Water-Cycle-Neural-Network/venv/lib/python3.12/site-packages/optuna/trial/_trial.py:497: UserWarning: The reported value is ignored because this `step` 7 is already reported.\n",
      "  warnings.warn(\n",
      "/home/eduardo/Documentos/Water-Cycle-Neural-Network/venv/lib/python3.12/site-packages/optuna/trial/_trial.py:497: UserWarning: The reported value is ignored because this `step` 8 is already reported.\n",
      "  warnings.warn(\n",
      "/home/eduardo/Documentos/Water-Cycle-Neural-Network/venv/lib/python3.12/site-packages/optuna/trial/_trial.py:497: UserWarning: The reported value is ignored because this `step` 9 is already reported.\n",
      "  warnings.warn(\n",
      "/home/eduardo/Documentos/Water-Cycle-Neural-Network/venv/lib/python3.12/site-packages/optuna/trial/_trial.py:497: UserWarning: The reported value is ignored because this `step` 10 is already reported.\n",
      "  warnings.warn(\n",
      "/home/eduardo/Documentos/Water-Cycle-Neural-Network/venv/lib/python3.12/site-packages/optuna/trial/_trial.py:497: UserWarning: The reported value is ignored because this `step` 11 is already reported.\n",
      "  warnings.warn(\n",
      "/home/eduardo/Documentos/Water-Cycle-Neural-Network/venv/lib/python3.12/site-packages/optuna/trial/_trial.py:497: UserWarning: The reported value is ignored because this `step` 12 is already reported.\n",
      "  warnings.warn(\n",
      "/home/eduardo/Documentos/Water-Cycle-Neural-Network/venv/lib/python3.12/site-packages/optuna/trial/_trial.py:497: UserWarning: The reported value is ignored because this `step` 13 is already reported.\n",
      "  warnings.warn(\n",
      "/home/eduardo/Documentos/Water-Cycle-Neural-Network/venv/lib/python3.12/site-packages/optuna/trial/_trial.py:497: UserWarning: The reported value is ignored because this `step` 14 is already reported.\n",
      "  warnings.warn(\n",
      "/home/eduardo/Documentos/Water-Cycle-Neural-Network/venv/lib/python3.12/site-packages/optuna/trial/_trial.py:497: UserWarning: The reported value is ignored because this `step` 15 is already reported.\n",
      "  warnings.warn(\n",
      "Monitored metric val_loss did not improve in the last 15 records. Best score: 0.009. Signaling Trainer to stop.\n",
      "GPU available: True (cuda), used: True\n",
      "TPU available: False, using: 0 TPU cores\n",
      "HPU available: False, using: 0 HPUs\n",
      "LOCAL_RANK: 0 - CUDA_VISIBLE_DEVICES: [0]\n"
     ]
    },
    {
     "name": "stdout",
     "output_type": "stream",
     "text": [
      "Model loaded from checkpoint for trial 88, fold 1\n"
     ]
    },
    {
     "name": "stderr",
     "output_type": "stream",
     "text": [
      "GPU available: True (cuda), used: True\n",
      "TPU available: False, using: 0 TPU cores\n",
      "HPU available: False, using: 0 HPUs\n",
      "LOCAL_RANK: 0 - CUDA_VISIBLE_DEVICES: [0]\n"
     ]
    },
    {
     "name": "stdout",
     "output_type": "stream",
     "text": [
      "SMAPE fold 1: 50.943833240802206\n",
      "\n",
      "Fold 3/3\n"
     ]
    },
    {
     "name": "stderr",
     "output_type": "stream",
     "text": [
      "/home/eduardo/Documentos/Water-Cycle-Neural-Network/venv/lib/python3.12/site-packages/optuna/trial/_trial.py:497: UserWarning: The reported value is ignored because this `step` 0 is already reported.\n",
      "  warnings.warn(\n",
      "Monitored metric val_loss did not improve in the last 16 records. Best score: 0.009. Signaling Trainer to stop.\n",
      "GPU available: True (cuda), used: True\n",
      "TPU available: False, using: 0 TPU cores\n",
      "HPU available: False, using: 0 HPUs\n",
      "LOCAL_RANK: 0 - CUDA_VISIBLE_DEVICES: [0]\n"
     ]
    },
    {
     "name": "stdout",
     "output_type": "stream",
     "text": [
      "Model loaded from checkpoint for trial 88, fold 2\n"
     ]
    },
    {
     "name": "stderr",
     "output_type": "stream",
     "text": [
      "[I 2025-06-09 15:32:12,795] Trial 88 finished with value: 50.74294470553434 and parameters: {'input_chunk_length': 36, 'hidden_size': 144, 'dropout': 0.5, 'batch_size': 64, 'lr': 0.004895489656683197, 'weight_decay': 0.00023771183692238376, 'num_encoder_layers': 3, 'num_decoder_layers': 2, 'temporal_width_past': 3, 'temporal_width_future': 1, 'use_reversible_instance_norm': True, 'temporal_hidden_size_past': 60, 'temporal_hidden_size_future': 120}. Best is trial 82 with value: 50.57312882294932.\n",
      "GPU available: True (cuda), used: True\n",
      "TPU available: False, using: 0 TPU cores\n",
      "HPU available: False, using: 0 HPUs\n",
      "LOCAL_RANK: 0 - CUDA_VISIBLE_DEVICES: [0]\n"
     ]
    },
    {
     "name": "stdout",
     "output_type": "stream",
     "text": [
      "SMAPE fold 2: 52.559955087917785\n",
      "Média dos SMAPE nos folds: 50.74294470553434\n",
      "Results of trial 88 saved in optuna_iteration_metrics/trial_88.json\n",
      "Current value: 50.74294470553434, Current params: {'input_chunk_length': 36, 'hidden_size': 144, 'dropout': 0.5, 'batch_size': 64, 'lr': 0.004895489656683197, 'weight_decay': 0.00023771183692238376, 'num_encoder_layers': 3, 'num_decoder_layers': 2, 'temporal_width_past': 3, 'temporal_width_future': 1, 'use_reversible_instance_norm': True, 'temporal_hidden_size_past': 60, 'temporal_hidden_size_future': 120}\n",
      "Best value: 50.57312882294932, Best params: {'input_chunk_length': 24, 'hidden_size': 144, 'dropout': 0.4, 'batch_size': 64, 'lr': 0.004149646453870474, 'weight_decay': 0.001234370270520789, 'num_encoder_layers': 3, 'num_decoder_layers': 2, 'temporal_width_past': 3, 'temporal_width_future': 1, 'use_reversible_instance_norm': True, 'temporal_hidden_size_past': 36, 'temporal_hidden_size_future': 144}\n",
      "\n",
      "Fold 1/3\n"
     ]
    },
    {
     "name": "stderr",
     "output_type": "stream",
     "text": [
      "Metric val_loss improved. New best score: 0.134\n",
      "Metric val_loss improved by 0.008 >= min_delta = 0.0005. New best score: 0.126\n",
      "[I 2025-06-09 15:32:17,571] Trial 89 pruned. Trial was pruned at epoch 2.\n",
      "GPU available: True (cuda), used: True\n",
      "TPU available: False, using: 0 TPU cores\n",
      "HPU available: False, using: 0 HPUs\n",
      "LOCAL_RANK: 0 - CUDA_VISIBLE_DEVICES: [0]\n"
     ]
    },
    {
     "name": "stdout",
     "output_type": "stream",
     "text": [
      "Current value: 0.12754773133055042, Current params: {'input_chunk_length': 48, 'hidden_size': 176, 'dropout': 0.5, 'batch_size': 64, 'lr': 0.0030334382255583353, 'weight_decay': 0.0002453754482789672, 'num_encoder_layers': 3, 'num_decoder_layers': 2, 'temporal_width_past': 3, 'temporal_width_future': 1, 'use_reversible_instance_norm': True, 'temporal_hidden_size_past': 48, 'temporal_hidden_size_future': 120}\n",
      "Best value: 50.57312882294932, Best params: {'input_chunk_length': 24, 'hidden_size': 144, 'dropout': 0.4, 'batch_size': 64, 'lr': 0.004149646453870474, 'weight_decay': 0.001234370270520789, 'num_encoder_layers': 3, 'num_decoder_layers': 2, 'temporal_width_past': 3, 'temporal_width_future': 1, 'use_reversible_instance_norm': True, 'temporal_hidden_size_past': 36, 'temporal_hidden_size_future': 144}\n",
      "\n",
      "Fold 1/3\n"
     ]
    },
    {
     "name": "stderr",
     "output_type": "stream",
     "text": [
      "Metric val_loss improved. New best score: 0.119\n",
      "[I 2025-06-09 15:32:23,475] Trial 90 pruned. Trial was pruned at epoch 3.\n"
     ]
    },
    {
     "name": "stdout",
     "output_type": "stream",
     "text": [
      "Current value: 0.11932357315655234, Current params: {'input_chunk_length': 36, 'hidden_size': 160, 'dropout': 0.5, 'batch_size': 64, 'lr': 0.004418983870105616, 'weight_decay': 0.00018203284789481823, 'num_encoder_layers': 3, 'num_decoder_layers': 2, 'temporal_width_past': 2, 'temporal_width_future': 1, 'use_reversible_instance_norm': True, 'temporal_hidden_size_past': 60, 'temporal_hidden_size_future': 120}\n",
      "Best value: 50.57312882294932, Best params: {'input_chunk_length': 24, 'hidden_size': 144, 'dropout': 0.4, 'batch_size': 64, 'lr': 0.004149646453870474, 'weight_decay': 0.001234370270520789, 'num_encoder_layers': 3, 'num_decoder_layers': 2, 'temporal_width_past': 3, 'temporal_width_future': 1, 'use_reversible_instance_norm': True, 'temporal_hidden_size_past': 36, 'temporal_hidden_size_future': 144}\n"
     ]
    }
   ],
   "source": [
    "study = optuna.create_study(direction=\"minimize\")\n",
    "num_hyperparams = 13\n",
    "n_trials = 7 * num_hyperparams\n",
    "study.optimize(objective, n_trials=n_trials, callbacks=[print_callback])"
   ]
  },
  {
   "cell_type": "code",
   "execution_count": 8,
   "id": "d37bce4e436d5fb4",
   "metadata": {},
   "outputs": [
    {
     "name": "stdout",
     "output_type": "stream",
     "text": [
      "Best MASE Value (Minimum): 50.57312882294932\n",
      "Best Parameters: {'input_chunk_length': 24, 'hidden_size': 144, 'dropout': 0.4, 'batch_size': 64, 'lr': 0.004149646453870474, 'weight_decay': 0.001234370270520789, 'num_encoder_layers': 3, 'num_decoder_layers': 2, 'temporal_width_past': 3, 'temporal_width_future': 1, 'use_reversible_instance_norm': True, 'temporal_hidden_size_past': 36, 'temporal_hidden_size_future': 144}\n"
     ]
    }
   ],
   "source": [
    "print(f\"Best MASE Value (Minimum): {study.best_value}\")\n",
    "print(f\"Best Parameters: {study.best_params}\")"
   ]
  },
  {
   "cell_type": "code",
   "execution_count": 9,
   "id": "de912349146bf8df",
   "metadata": {},
   "outputs": [
    {
     "name": "stdout",
     "output_type": "stream",
     "text": [
      "Best results saved in optuna_iteration_metrics/best_trial.json\n"
     ]
    }
   ],
   "source": [
    "best_dict = {\n",
    "    \"best_value\": study.best_value,\n",
    "    \"best_params\": study.best_params,\n",
    "}\n",
    "json_path = os.path.join(results_output_dir, \"best_trial.json\")\n",
    "with open(json_path, 'w') as f:\n",
    "    json.dump(best_dict, f, indent=4)\n",
    "print(f\"Best results saved in {json_path}\")\n"
   ]
  }
 ],
 "metadata": {
  "jupytext": {
   "cell_metadata_filter": "-all",
   "main_language": "python",
   "notebook_metadata_filter": "-all"
  },
  "kernelspec": {
   "display_name": "venv",
   "language": "python",
   "name": "python3"
  },
  "language_info": {
   "codemirror_mode": {
    "name": "ipython",
    "version": 3
   },
   "file_extension": ".py",
   "mimetype": "text/x-python",
   "name": "python",
   "nbconvert_exporter": "python",
   "pygments_lexer": "ipython3",
   "version": "3.12.3"
  }
 },
 "nbformat": 4,
 "nbformat_minor": 5
}
