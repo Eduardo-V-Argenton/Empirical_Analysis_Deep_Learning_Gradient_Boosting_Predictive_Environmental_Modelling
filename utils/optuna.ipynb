{
 "cells": [
  {
   "metadata": {
    "ExecuteTime": {
     "end_time": "2025-05-27T11:34:49.201441Z",
     "start_time": "2025-05-27T11:34:42.665510Z"
    }
   },
   "cell_type": "code",
   "source": [
    "import matplotlib.pyplot as plt\n",
    "import numpy as np\n",
    "import pandas as pd\n",
    "from darts import TimeSeries\n",
    "from darts.models import TSMixerModel\n",
    "from darts.metrics import mse, rmse, r2_score, mae, smape\n",
    "from darts.dataprocessing.transformers import Scaler\n",
    "import torch\n",
    "from optuna.integration import PyTorchLightningPruningCallback\n",
    "from pytorch_lightning.callbacks import Callback, EarlyStopping\n",
    "import optuna\n",
    "import os\n",
    "import json\n",
    "\n",
    "# Visualization settings\n",
    "plt.style.use('ggplot')\n",
    "plt.rcParams['figure.figsize'] = (12, 6)\n",
    "torch.set_float32_matmul_precision('medium')"
   ],
   "id": "e1308c9d9e950ee0",
   "outputs": [],
   "execution_count": 1
  },
  {
   "metadata": {
    "ExecuteTime": {
     "end_time": "2025-05-27T11:34:49.275267Z",
     "start_time": "2025-05-27T11:34:49.260056Z"
    }
   },
   "cell_type": "code",
   "source": [
    "target_columns = [\n",
    "    'Temperature','Precipitation_accumulated','Humidity', 'Wind_Speed_kmh',\n",
    "    'Soil_Moisture', 'Soil_Temperature', 'Wind_Dir_Sin', 'Wind_Dir_Cos'\n",
    "]\n",
    "\n",
    "DATA_FILE_PATH = \"../data/ground_station_clean.csv\"\n",
    "df = pd.read_csv(DATA_FILE_PATH)"
   ],
   "id": "ec23a01324da1b8",
   "outputs": [],
   "execution_count": 2
  },
  {
   "metadata": {
    "ExecuteTime": {
     "end_time": "2025-05-27T11:34:49.339687Z",
     "start_time": "2025-05-27T11:34:49.337734Z"
    }
   },
   "cell_type": "code",
   "source": [
    "encoders = {\n",
    "    \"cyclic\": {\n",
    "        \"past\": [\"month\", \"dayofyear\", \"day\", \"hour\", \"minute\"],\n",
    "        \"future\": [\"month\", \"dayofyear\", \"day\", \"hour\", \"minute\"]\n",
    "    },\n",
    "    \"transformer\": Scaler(),\n",
    "    \"datetime_attribute\": {\n",
    "        \"past\": [\"year\"],\n",
    "        \"future\": [\"year\"]\n",
    "    }\n",
    "}\n"
   ],
   "id": "f10cf40cbefd1b5b",
   "outputs": [],
   "execution_count": 3
  },
  {
   "metadata": {
    "ExecuteTime": {
     "end_time": "2025-05-27T11:34:49.385327Z",
     "start_time": "2025-05-27T11:34:49.383262Z"
    }
   },
   "cell_type": "code",
   "source": [
    "class PatchedPruningCallback(PyTorchLightningPruningCallback, Callback):\n",
    "    pass\n",
    "\n",
    "# Create directory to save iteration results\n",
    "results_output_dir = \"optuna_iteration_metrics\"\n",
    "os.makedirs(results_output_dir, exist_ok=True)"
   ],
   "id": "7db1ea2bc89fa74",
   "outputs": [],
   "execution_count": 4
  },
  {
   "metadata": {
    "ExecuteTime": {
     "end_time": "2025-05-27T11:34:49.499755Z",
     "start_time": "2025-05-27T11:34:49.483308Z"
    }
   },
   "cell_type": "code",
   "source": [
    "def objective(trial):\n",
    "    input_chunk_length = trial.suggest_int(\"input_chunk_length\", 24, 72)\n",
    "    output_chunk_length = trial.suggest_int(\"output_chunk_length\", 1, 24)\n",
    "    dropout = trial.suggest_float(\"dropout\", 0.1, 0.5)\n",
    "    batch_size = trial.suggest_int(\"batch_size\", 64, 256)\n",
    "    lr = trial.suggest_float(\"lr\", 1e-6, 5e-3, log=True)\n",
    "    weight_decay = trial.suggest_float(\"weight_decay\", 1e-6, 1e-2, log=True)\n",
    "\n",
    "    hidden_size = trial.suggest_categorical('hidden_size', [32, 64, 128])\n",
    "    ff_size = trial.suggest_int('ff_size', hidden_size, hidden_size * 4)\n",
    "    num_blocks = trial.suggest_int('num_blocks', 1, 4)\n",
    "    activation = trial.suggest_categorical('activation', ['ReLU', 'GELU'])\n",
    "    norm_type = trial.suggest_categorical('norm_type', ['LayerNormNoBias', 'LayerNorm', 'TimeBatchNorm2d'])\n",
    "    normalize_before = trial.suggest_categorical('normalize_before', [True, False])\n",
    "\n",
    "    # Try different loss functions\n",
    "    loss_functions = {\n",
    "        'mse': torch.nn.MSELoss(),\n",
    "        'mae': torch.nn.L1Loss(),\n",
    "        'huber': torch.nn.HuberLoss(delta=1.0),\n",
    "        'smoothl1': torch.nn.SmoothL1Loss()\n",
    "    }\n",
    "    loss_name = trial.suggest_categorical(\"loss_fn\", list(loss_functions.keys()))\n",
    "\n",
    "    # Try different optimizers\n",
    "    optimizer_names = ['Adam', 'AdamW', 'RMSprop', 'SGD']\n",
    "    optimizer_name = trial.suggest_categorical(\"optimizer\", optimizer_names)\n",
    "    optimizer_dict = {\n",
    "        'Adam': torch.optim.Adam,\n",
    "        'AdamW': torch.optim.AdamW,\n",
    "        'RMSprop': torch.optim.RMSprop,\n",
    "        'SGD': torch.optim.SGD\n",
    "    }\n",
    "\n",
    "    early_stopper = EarlyStopping(\"val_loss\", min_delta=0.0005, patience=15, verbose=True)\n",
    "    prunner = PatchedPruningCallback(trial, monitor=\"val_loss\")\n",
    "    pl_trainer_kwargs = {\n",
    "        \"accelerator\": \"auto\",\n",
    "        \"callbacks\": [early_stopper, prunner],\n",
    "    }\n",
    "    n = int(len(df) * 0.8)\n",
    "    train_df_fold, val_df_fold = df.iloc[:n], df.iloc[n:]\n",
    "    train_fold = TimeSeries.from_dataframe(train_df_fold, time_col=\"Timestamp\", value_cols=target_columns, freq='1h')\n",
    "    val_fold = TimeSeries.from_dataframe(val_df_fold, time_col=\"Timestamp\", value_cols=target_columns, freq='1h')\n",
    "\n",
    "    print(f\"\\nStarting Trial {trial.number}\")\n",
    "    print(f\"Hyperparameters: {trial.params}\")\n",
    "    print(\"\\nTraining the model...\")\n",
    "    print(f\"Train set: {len(train_fold)} samples\")\n",
    "    print(f\"Validation set: {len(val_fold)} samples\")\n",
    "\n",
    "    scaler = Scaler()\n",
    "    scaler = scaler.fit(train_fold)\n",
    "    train_scaled = scaler.transform(train_fold)\n",
    "    val_scaled = scaler.transform(val_fold)\n",
    "\n",
    "    _work_dir = \"/home/eduardo/Documentos/Water-Cycle-Neural-Network/darts_logs/\"\n",
    "    _model_name = \"model_optuna_temp\"\n",
    "    os.makedirs(_work_dir, exist_ok=True)\n",
    "\n",
    "    # Additional optimizer kwargs based on optimizer type\n",
    "    opt_kwargs = {\"lr\": lr, \"weight_decay\": weight_decay}\n",
    "    if optimizer_name == 'SGD':\n",
    "        opt_kwargs['momentum'] = 0.9\n",
    "\n",
    "    model = TSMixerModel(\n",
    "        model_name=_model_name,\n",
    "        work_dir=_work_dir,\n",
    "        input_chunk_length=input_chunk_length,\n",
    "        output_chunk_length=output_chunk_length,\n",
    "        hidden_size=hidden_size,\n",
    "        activation=activation,\n",
    "        num_blocks=num_blocks,\n",
    "        norm_type=norm_type,\n",
    "        ff_size=ff_size,\n",
    "        normalize_before=normalize_before,\n",
    "        n_epochs=30,\n",
    "        batch_size=batch_size,\n",
    "        dropout=dropout,\n",
    "        add_encoders=encoders,\n",
    "        pl_trainer_kwargs=pl_trainer_kwargs,\n",
    "        loss_fn=loss_functions[loss_name],\n",
    "        optimizer_cls=optimizer_dict[optimizer_name],\n",
    "        lr_scheduler_cls=torch.optim.lr_scheduler.ReduceLROnPlateau,\n",
    "        lr_scheduler_kwargs={\"mode\": \"min\", \"factor\": 0.3, \"patience\": 5, \"min_lr\": 1e-7},\n",
    "        save_checkpoints=True,\n",
    "        show_warnings=True,\n",
    "        force_reset=True,\n",
    "        optimizer_kwargs=opt_kwargs,\n",
    "    )\n",
    "    model.fit(\n",
    "        series=train_scaled,\n",
    "        val_series=val_scaled,\n",
    "        verbose=False,\n",
    "        dataloader_kwargs={\"num_workers\": 9},\n",
    "    )\n",
    "\n",
    "    try:\n",
    "        loaded_model = TSMixerModel.load_from_checkpoint(model_name=_model_name, work_dir=_work_dir, best=True)\n",
    "        print(f\"Model loaded from checkpoint for trial {trial.number}\")\n",
    "    except FileNotFoundError:\n",
    "        print(f\"Checkpoint not found for {_model_name} in {_work_dir}. Using the in-memory trained model.\")\n",
    "        loaded_model = model\n",
    "\n",
    "    forecasts = loaded_model.historical_forecasts(\n",
    "        val_scaled,\n",
    "        forecast_horizon=output_chunk_length,\n",
    "        stride=1,\n",
    "        retrain=False,\n",
    "        verbose=False\n",
    "    )\n",
    "\n",
    "    forecasts_t = scaler.inverse_transform(forecasts)\n",
    "    s = scaler.inverse_transform(val_scaled)\n",
    "    metrics = {}\n",
    "    print(\"Starting time series verification for consistency...\")\n",
    "    try:\n",
    "        for target in target_columns:\n",
    "            metrics[target] = {\n",
    "                'MSE': mse(s[target], forecasts_t[target]),\n",
    "                'RMSE': rmse(s[target], forecasts_t[target]),\n",
    "                'MAE': mae(s[target], forecasts_t[target]),\n",
    "                'R2': r2_score(s[target], forecasts_t[target]),\n",
    "                'SMAPE': smape(s[target], forecasts_t[target]),\n",
    "            }\n",
    "        metrics_df = pd.DataFrame(metrics).T\n",
    "        print(\"\\nPerformance metrics:\")\n",
    "        print(metrics_df)\n",
    "    except Exception as e:\n",
    "        print(e)\n",
    "\n",
    "    overall_mae_val = mae(val_scaled, forecasts)\n",
    "    print(f\"The MAE for this fold was {overall_mae_val}\")\n",
    "\n",
    "    trial_dict = {\n",
    "        \"trial_number\": trial.number,\n",
    "        \"input_chunk_length\": input_chunk_length,\n",
    "        \"output_chunk_length\": output_chunk_length,\n",
    "        \"hidden_size\": hidden_size,\n",
    "        \"num_blocks\": num_blocks,\n",
    "        \"ff_size\": ff_size,\n",
    "        \"norm_type\": norm_type,\n",
    "        \"normalize_before\": normalize_before,\n",
    "        \"activation\": activation,\n",
    "        \"dropout\": dropout,\n",
    "        \"batch_size\": batch_size,\n",
    "        \"lr\": lr,\n",
    "        \"loss_function\": loss_name,\n",
    "        \"optimizer\": optimizer_name,\n",
    "        \"overall_mae_val\": overall_mae_val,\n",
    "        \"metrics\": metrics_df.to_dict(),\n",
    "    }\n",
    "    json_path = os.path.join(results_output_dir, f\"trial_{trial.number}.json\")\n",
    "    with open(json_path, 'w') as f:\n",
    "        json.dump(trial_dict, f, indent=4)\n",
    "    print(f\"Results of trial {trial.number} saved in {json_path}\")\n",
    "    return overall_mae_val if not np.isnan(overall_mae_val) else float(\"inf\")\n"
   ],
   "id": "19f7e785bbf07c41",
   "outputs": [],
   "execution_count": 5
  },
  {
   "cell_type": "code",
   "id": "bb9eb36ea7edea",
   "metadata": {
    "ExecuteTime": {
     "end_time": "2025-05-27T11:34:49.545088Z",
     "start_time": "2025-05-27T11:34:49.542541Z"
    }
   },
   "source": [
    "def print_callback(study, trial):\n",
    "    print(f\"Current value: {trial.value}, Current params: {trial.params}\")\n",
    "    print(f\"Best value: {study.best_value}, Best params: {study.best_trial.params}\")"
   ],
   "outputs": [],
   "execution_count": 6
  },
  {
   "cell_type": "code",
   "id": "51d771ffa210c7f5",
   "metadata": {
    "ExecuteTime": {
     "end_time": "2025-05-27T12:40:32.232671Z",
     "start_time": "2025-05-27T11:34:49.591978Z"
    }
   },
   "source": [
    "study = optuna.create_study(direction=\"minimize\")\n",
    "num_hyperparams = 14\n",
    "n_trials = 7 * num_hyperparams\n",
    "study.optimize(objective, n_trials=n_trials, callbacks=[print_callback])"
   ],
   "outputs": [
    {
     "name": "stderr",
     "output_type": "stream",
     "text": [
      "[I 2025-05-27 08:34:49,593] A new study created in memory with name: no-name-b7eb1a4a-1739-4790-9fdf-1888f50f4343\n"
     ]
    },
    {
     "name": "stdout",
     "output_type": "stream",
     "text": [
      "\n",
      "Starting Trial 0\n",
      "Hyperparameters: {'input_chunk_length': 30, 'output_chunk_length': 9, 'dropout': 0.37326395152584924, 'batch_size': 164, 'lr': 3.0032112604548485e-05, 'weight_decay': 0.0008016232760992192, 'hidden_size': 32, 'ff_size': 39, 'num_blocks': 2, 'activation': 'GELU', 'norm_type': 'LayerNormNoBias', 'normalize_before': True, 'loss_fn': 'mae', 'optimizer': 'SGD'}\n",
      "\n",
      "Training the model...\n",
      "Train set: 6647 samples\n",
      "Validation set: 1662 samples\n"
     ]
    },
    {
     "name": "stderr",
     "output_type": "stream",
     "text": [
      "GPU available: True (cuda), used: True\n",
      "TPU available: False, using: 0 TPU cores\n",
      "HPU available: False, using: 0 HPUs\n",
      "LOCAL_RANK: 0 - CUDA_VISIBLE_DEVICES: [0]\n",
      "Metric val_loss improved. New best score: 0.644\n",
      "Metric val_loss improved by 0.009 >= min_delta = 0.0005. New best score: 0.635\n",
      "Metric val_loss improved by 0.009 >= min_delta = 0.0005. New best score: 0.626\n",
      "Metric val_loss improved by 0.009 >= min_delta = 0.0005. New best score: 0.618\n",
      "Metric val_loss improved by 0.009 >= min_delta = 0.0005. New best score: 0.609\n",
      "Metric val_loss improved by 0.008 >= min_delta = 0.0005. New best score: 0.601\n",
      "Metric val_loss improved by 0.008 >= min_delta = 0.0005. New best score: 0.592\n",
      "Metric val_loss improved by 0.008 >= min_delta = 0.0005. New best score: 0.584\n",
      "Metric val_loss improved by 0.008 >= min_delta = 0.0005. New best score: 0.576\n",
      "Metric val_loss improved by 0.008 >= min_delta = 0.0005. New best score: 0.568\n",
      "Metric val_loss improved by 0.008 >= min_delta = 0.0005. New best score: 0.561\n",
      "Metric val_loss improved by 0.008 >= min_delta = 0.0005. New best score: 0.553\n",
      "Metric val_loss improved by 0.008 >= min_delta = 0.0005. New best score: 0.545\n",
      "Metric val_loss improved by 0.007 >= min_delta = 0.0005. New best score: 0.538\n",
      "Metric val_loss improved by 0.007 >= min_delta = 0.0005. New best score: 0.531\n",
      "Metric val_loss improved by 0.007 >= min_delta = 0.0005. New best score: 0.524\n",
      "Metric val_loss improved by 0.007 >= min_delta = 0.0005. New best score: 0.517\n",
      "Metric val_loss improved by 0.007 >= min_delta = 0.0005. New best score: 0.510\n",
      "Metric val_loss improved by 0.006 >= min_delta = 0.0005. New best score: 0.504\n",
      "Metric val_loss improved by 0.006 >= min_delta = 0.0005. New best score: 0.498\n",
      "Metric val_loss improved by 0.006 >= min_delta = 0.0005. New best score: 0.491\n",
      "Metric val_loss improved by 0.006 >= min_delta = 0.0005. New best score: 0.486\n",
      "Metric val_loss improved by 0.006 >= min_delta = 0.0005. New best score: 0.480\n",
      "Metric val_loss improved by 0.005 >= min_delta = 0.0005. New best score: 0.475\n",
      "Metric val_loss improved by 0.005 >= min_delta = 0.0005. New best score: 0.469\n",
      "Metric val_loss improved by 0.005 >= min_delta = 0.0005. New best score: 0.464\n",
      "Metric val_loss improved by 0.005 >= min_delta = 0.0005. New best score: 0.460\n",
      "Metric val_loss improved by 0.005 >= min_delta = 0.0005. New best score: 0.455\n",
      "Metric val_loss improved by 0.004 >= min_delta = 0.0005. New best score: 0.450\n",
      "Metric val_loss improved by 0.004 >= min_delta = 0.0005. New best score: 0.446\n",
      "`Trainer.fit` stopped: `max_epochs=30` reached.\n",
      "GPU available: True (cuda), used: True\n",
      "TPU available: False, using: 0 TPU cores\n",
      "HPU available: False, using: 0 HPUs\n",
      "LOCAL_RANK: 0 - CUDA_VISIBLE_DEVICES: [0]\n"
     ]
    },
    {
     "name": "stdout",
     "output_type": "stream",
     "text": [
      "Model loaded from checkpoint for trial 0\n"
     ]
    },
    {
     "name": "stderr",
     "output_type": "stream",
     "text": [
      "/home/eduardo/Documentos/Water-Cycle-Neural-Network/venv/lib/python3.12/site-packages/pytorch_lightning/trainer/connectors/data_connector.py:425: The 'predict_dataloader' does not have many workers which may be a bottleneck. Consider increasing the value of the `num_workers` argument` to `num_workers=11` in the `DataLoader` to improve performance.\n",
      "[I 2025-05-27 08:35:18,227] Trial 0 finished with value: 0.4158687948094733 and parameters: {'input_chunk_length': 30, 'output_chunk_length': 9, 'dropout': 0.37326395152584924, 'batch_size': 164, 'lr': 3.0032112604548485e-05, 'weight_decay': 0.0008016232760992192, 'hidden_size': 32, 'ff_size': 39, 'num_blocks': 2, 'activation': 'GELU', 'norm_type': 'LayerNormNoBias', 'normalize_before': True, 'loss_fn': 'mae', 'optimizer': 'SGD'}. Best is trial 0 with value: 0.4158687948094733.\n",
      "GPU available: True (cuda), used: True\n",
      "TPU available: False, using: 0 TPU cores\n",
      "HPU available: False, using: 0 HPUs\n",
      "LOCAL_RANK: 0 - CUDA_VISIBLE_DEVICES: [0]\n"
     ]
    },
    {
     "name": "stdout",
     "output_type": "stream",
     "text": [
      "Starting time series verification for consistency...\n",
      "\n",
      "Performance metrics:\n",
      "                                    MSE         RMSE          MAE  \\\n",
      "Temperature                3.986267e+02    19.965639    18.450759   \n",
      "Precipitation_accumulated  3.548270e+04   188.368518   176.314801   \n",
      "Humidity                   2.787633e+03    52.798038    50.091267   \n",
      "Wind_Speed_kmh             1.213549e+01     3.483604     3.166987   \n",
      "Soil_Moisture              2.216136e+06  1488.669323  1312.841789   \n",
      "Soil_Temperature           5.328585e+01     7.299716     6.023787   \n",
      "Wind_Dir_Sin               6.619345e-01     0.813594     0.729618   \n",
      "Wind_Dir_Cos               2.312046e+00     1.520541     1.345930   \n",
      "\n",
      "                                     R2       SMAPE  \n",
      "Temperature                  -12.043893  106.468944  \n",
      "Precipitation_accumulated -10482.842081   48.809440  \n",
      "Humidity                     -17.995210   84.343748  \n",
      "Wind_Speed_kmh                -7.995063  197.027619  \n",
      "Soil_Moisture                -39.268018   16.840993  \n",
      "Soil_Temperature              -2.304004  100.363984  \n",
      "Wind_Dir_Sin                  -0.201199  157.173957  \n",
      "Wind_Dir_Cos                  -5.307455  159.689391  \n",
      "The MAE for this fold was 0.4158687948094733\n",
      "Results of trial 0 saved in optuna_iteration_metrics/trial_0.json\n",
      "Current value: 0.4158687948094733, Current params: {'input_chunk_length': 30, 'output_chunk_length': 9, 'dropout': 0.37326395152584924, 'batch_size': 164, 'lr': 3.0032112604548485e-05, 'weight_decay': 0.0008016232760992192, 'hidden_size': 32, 'ff_size': 39, 'num_blocks': 2, 'activation': 'GELU', 'norm_type': 'LayerNormNoBias', 'normalize_before': True, 'loss_fn': 'mae', 'optimizer': 'SGD'}\n",
      "Best value: 0.4158687948094733, Best params: {'input_chunk_length': 30, 'output_chunk_length': 9, 'dropout': 0.37326395152584924, 'batch_size': 164, 'lr': 3.0032112604548485e-05, 'weight_decay': 0.0008016232760992192, 'hidden_size': 32, 'ff_size': 39, 'num_blocks': 2, 'activation': 'GELU', 'norm_type': 'LayerNormNoBias', 'normalize_before': True, 'loss_fn': 'mae', 'optimizer': 'SGD'}\n",
      "\n",
      "Starting Trial 1\n",
      "Hyperparameters: {'input_chunk_length': 66, 'output_chunk_length': 12, 'dropout': 0.24600048441317526, 'batch_size': 245, 'lr': 1.6261016431188903e-06, 'weight_decay': 6.748043406805002e-05, 'hidden_size': 128, 'ff_size': 198, 'num_blocks': 3, 'activation': 'GELU', 'norm_type': 'TimeBatchNorm2d', 'normalize_before': True, 'loss_fn': 'huber', 'optimizer': 'Adam'}\n",
      "\n",
      "Training the model...\n",
      "Train set: 6647 samples\n",
      "Validation set: 1662 samples\n"
     ]
    },
    {
     "name": "stderr",
     "output_type": "stream",
     "text": [
      "Metric val_loss improved. New best score: 0.284\n",
      "Metric val_loss improved by 0.008 >= min_delta = 0.0005. New best score: 0.276\n",
      "Metric val_loss improved by 0.013 >= min_delta = 0.0005. New best score: 0.263\n",
      "Metric val_loss improved by 0.012 >= min_delta = 0.0005. New best score: 0.251\n",
      "Metric val_loss improved by 0.012 >= min_delta = 0.0005. New best score: 0.240\n",
      "Metric val_loss improved by 0.011 >= min_delta = 0.0005. New best score: 0.229\n",
      "Metric val_loss improved by 0.010 >= min_delta = 0.0005. New best score: 0.219\n",
      "Metric val_loss improved by 0.010 >= min_delta = 0.0005. New best score: 0.209\n",
      "Metric val_loss improved by 0.009 >= min_delta = 0.0005. New best score: 0.199\n",
      "Metric val_loss improved by 0.009 >= min_delta = 0.0005. New best score: 0.191\n",
      "Metric val_loss improved by 0.008 >= min_delta = 0.0005. New best score: 0.183\n",
      "Metric val_loss improved by 0.008 >= min_delta = 0.0005. New best score: 0.175\n",
      "Metric val_loss improved by 0.007 >= min_delta = 0.0005. New best score: 0.167\n",
      "Metric val_loss improved by 0.007 >= min_delta = 0.0005. New best score: 0.161\n",
      "Metric val_loss improved by 0.006 >= min_delta = 0.0005. New best score: 0.154\n",
      "Metric val_loss improved by 0.006 >= min_delta = 0.0005. New best score: 0.148\n",
      "Metric val_loss improved by 0.005 >= min_delta = 0.0005. New best score: 0.143\n",
      "Metric val_loss improved by 0.005 >= min_delta = 0.0005. New best score: 0.138\n",
      "Metric val_loss improved by 0.005 >= min_delta = 0.0005. New best score: 0.133\n",
      "Metric val_loss improved by 0.004 >= min_delta = 0.0005. New best score: 0.129\n",
      "Metric val_loss improved by 0.004 >= min_delta = 0.0005. New best score: 0.125\n",
      "Metric val_loss improved by 0.004 >= min_delta = 0.0005. New best score: 0.121\n",
      "Metric val_loss improved by 0.003 >= min_delta = 0.0005. New best score: 0.118\n",
      "Metric val_loss improved by 0.003 >= min_delta = 0.0005. New best score: 0.115\n",
      "Metric val_loss improved by 0.003 >= min_delta = 0.0005. New best score: 0.112\n",
      "Metric val_loss improved by 0.003 >= min_delta = 0.0005. New best score: 0.109\n",
      "Metric val_loss improved by 0.002 >= min_delta = 0.0005. New best score: 0.107\n",
      "Metric val_loss improved by 0.002 >= min_delta = 0.0005. New best score: 0.105\n",
      "Metric val_loss improved by 0.002 >= min_delta = 0.0005. New best score: 0.103\n",
      "`Trainer.fit` stopped: `max_epochs=30` reached.\n",
      "GPU available: True (cuda), used: True\n",
      "TPU available: False, using: 0 TPU cores\n",
      "HPU available: False, using: 0 HPUs\n",
      "LOCAL_RANK: 0 - CUDA_VISIBLE_DEVICES: [0]\n"
     ]
    },
    {
     "name": "stdout",
     "output_type": "stream",
     "text": [
      "Model loaded from checkpoint for trial 1\n"
     ]
    },
    {
     "name": "stderr",
     "output_type": "stream",
     "text": [
      "/home/eduardo/Documentos/Water-Cycle-Neural-Network/venv/lib/python3.12/site-packages/pytorch_lightning/trainer/connectors/data_connector.py:425: The 'predict_dataloader' does not have many workers which may be a bottleneck. Consider increasing the value of the `num_workers` argument` to `num_workers=11` in the `DataLoader` to improve performance.\n",
      "[I 2025-05-27 08:35:59,183] Trial 1 finished with value: 0.3890325107237964 and parameters: {'input_chunk_length': 66, 'output_chunk_length': 12, 'dropout': 0.24600048441317526, 'batch_size': 245, 'lr': 1.6261016431188903e-06, 'weight_decay': 6.748043406805002e-05, 'hidden_size': 128, 'ff_size': 198, 'num_blocks': 3, 'activation': 'GELU', 'norm_type': 'TimeBatchNorm2d', 'normalize_before': True, 'loss_fn': 'huber', 'optimizer': 'Adam'}. Best is trial 1 with value: 0.3890325107237964.\n",
      "GPU available: True (cuda), used: True\n",
      "TPU available: False, using: 0 TPU cores\n",
      "HPU available: False, using: 0 HPUs\n",
      "LOCAL_RANK: 0 - CUDA_VISIBLE_DEVICES: [0]\n"
     ]
    },
    {
     "name": "stdout",
     "output_type": "stream",
     "text": [
      "Starting time series verification for consistency...\n",
      "\n",
      "Performance metrics:\n",
      "                                    MSE         RMSE          MAE  \\\n",
      "Temperature                5.704794e+01     7.553009     6.393534   \n",
      "Precipitation_accumulated  1.207172e+05   347.443779   343.594078   \n",
      "Humidity                   3.083124e+03    55.525883    54.050975   \n",
      "Wind_Speed_kmh             2.626178e+00     1.620549     1.260586   \n",
      "Soil_Moisture              6.148830e+06  2479.683520  2463.429329   \n",
      "Soil_Temperature           7.354674e+01     8.575939     7.574698   \n",
      "Wind_Dir_Sin               8.544437e-01     0.924361     0.828887   \n",
      "Wind_Dir_Cos               4.537586e-01     0.673616     0.560527   \n",
      "\n",
      "                                     R2       SMAPE  \n",
      "Temperature                   -0.885016  117.175118  \n",
      "Precipitation_accumulated -38143.816521  119.550480  \n",
      "Humidity                     -19.978735   89.890302  \n",
      "Wind_Speed_kmh                -0.943497  116.820909  \n",
      "Soil_Moisture               -132.355983   33.524324  \n",
      "Soil_Temperature              -3.627076  143.321797  \n",
      "Wind_Dir_Sin                  -0.558732  157.736653  \n",
      "Wind_Dir_Cos                  -0.235476  132.201767  \n",
      "The MAE for this fold was 0.3890325107237964\n",
      "Results of trial 1 saved in optuna_iteration_metrics/trial_1.json\n",
      "Current value: 0.3890325107237964, Current params: {'input_chunk_length': 66, 'output_chunk_length': 12, 'dropout': 0.24600048441317526, 'batch_size': 245, 'lr': 1.6261016431188903e-06, 'weight_decay': 6.748043406805002e-05, 'hidden_size': 128, 'ff_size': 198, 'num_blocks': 3, 'activation': 'GELU', 'norm_type': 'TimeBatchNorm2d', 'normalize_before': True, 'loss_fn': 'huber', 'optimizer': 'Adam'}\n",
      "Best value: 0.3890325107237964, Best params: {'input_chunk_length': 66, 'output_chunk_length': 12, 'dropout': 0.24600048441317526, 'batch_size': 245, 'lr': 1.6261016431188903e-06, 'weight_decay': 6.748043406805002e-05, 'hidden_size': 128, 'ff_size': 198, 'num_blocks': 3, 'activation': 'GELU', 'norm_type': 'TimeBatchNorm2d', 'normalize_before': True, 'loss_fn': 'huber', 'optimizer': 'Adam'}\n",
      "\n",
      "Starting Trial 2\n",
      "Hyperparameters: {'input_chunk_length': 29, 'output_chunk_length': 4, 'dropout': 0.43791304560428956, 'batch_size': 99, 'lr': 0.0001780130315046721, 'weight_decay': 0.00011127718275059222, 'hidden_size': 32, 'ff_size': 128, 'num_blocks': 2, 'activation': 'ReLU', 'norm_type': 'LayerNorm', 'normalize_before': True, 'loss_fn': 'huber', 'optimizer': 'AdamW'}\n",
      "\n",
      "Training the model...\n",
      "Train set: 6647 samples\n",
      "Validation set: 1662 samples\n"
     ]
    },
    {
     "name": "stderr",
     "output_type": "stream",
     "text": [
      "Metric val_loss improved. New best score: 0.055\n",
      "Metric val_loss improved by 0.004 >= min_delta = 0.0005. New best score: 0.051\n",
      "Metric val_loss improved by 0.001 >= min_delta = 0.0005. New best score: 0.049\n",
      "Metric val_loss improved by 0.004 >= min_delta = 0.0005. New best score: 0.045\n",
      "Metric val_loss improved by 0.003 >= min_delta = 0.0005. New best score: 0.043\n",
      "Metric val_loss improved by 0.003 >= min_delta = 0.0005. New best score: 0.040\n",
      "Metric val_loss improved by 0.001 >= min_delta = 0.0005. New best score: 0.038\n",
      "Metric val_loss improved by 0.002 >= min_delta = 0.0005. New best score: 0.036\n",
      "Metric val_loss improved by 0.001 >= min_delta = 0.0005. New best score: 0.035\n",
      "Metric val_loss improved by 0.001 >= min_delta = 0.0005. New best score: 0.034\n",
      "Metric val_loss improved by 0.002 >= min_delta = 0.0005. New best score: 0.032\n",
      "Metric val_loss improved by 0.002 >= min_delta = 0.0005. New best score: 0.030\n",
      "Metric val_loss improved by 0.001 >= min_delta = 0.0005. New best score: 0.029\n",
      "Metric val_loss improved by 0.001 >= min_delta = 0.0005. New best score: 0.028\n",
      "Metric val_loss improved by 0.001 >= min_delta = 0.0005. New best score: 0.027\n",
      "Metric val_loss improved by 0.001 >= min_delta = 0.0005. New best score: 0.026\n",
      "Metric val_loss improved by 0.001 >= min_delta = 0.0005. New best score: 0.025\n",
      "Metric val_loss improved by 0.001 >= min_delta = 0.0005. New best score: 0.025\n",
      "`Trainer.fit` stopped: `max_epochs=30` reached.\n",
      "GPU available: True (cuda), used: True\n",
      "TPU available: False, using: 0 TPU cores\n",
      "HPU available: False, using: 0 HPUs\n",
      "LOCAL_RANK: 0 - CUDA_VISIBLE_DEVICES: [0]\n"
     ]
    },
    {
     "name": "stdout",
     "output_type": "stream",
     "text": [
      "Model loaded from checkpoint for trial 2\n"
     ]
    },
    {
     "name": "stderr",
     "output_type": "stream",
     "text": [
      "/home/eduardo/Documentos/Water-Cycle-Neural-Network/venv/lib/python3.12/site-packages/pytorch_lightning/trainer/connectors/data_connector.py:425: The 'predict_dataloader' does not have many workers which may be a bottleneck. Consider increasing the value of the `num_workers` argument` to `num_workers=11` in the `DataLoader` to improve performance.\n",
      "[I 2025-05-27 08:36:27,504] Trial 2 finished with value: 0.16617127755701994 and parameters: {'input_chunk_length': 29, 'output_chunk_length': 4, 'dropout': 0.43791304560428956, 'batch_size': 99, 'lr': 0.0001780130315046721, 'weight_decay': 0.00011127718275059222, 'hidden_size': 32, 'ff_size': 128, 'num_blocks': 2, 'activation': 'ReLU', 'norm_type': 'LayerNorm', 'normalize_before': True, 'loss_fn': 'huber', 'optimizer': 'AdamW'}. Best is trial 2 with value: 0.16617127755701994.\n",
      "GPU available: True (cuda), used: True\n",
      "TPU available: False, using: 0 TPU cores\n",
      "HPU available: False, using: 0 HPUs\n",
      "LOCAL_RANK: 0 - CUDA_VISIBLE_DEVICES: [0]\n"
     ]
    },
    {
     "name": "stdout",
     "output_type": "stream",
     "text": [
      "Starting time series verification for consistency...\n",
      "\n",
      "Performance metrics:\n",
      "                                     MSE        RMSE         MAE           R2  \\\n",
      "Temperature                     8.792763    2.965259    2.351592     0.711453   \n",
      "Precipitation_accumulated   14072.097045  118.625870  114.157004 -4118.292939   \n",
      "Humidity                       89.660958    9.468947    7.614994     0.388009   \n",
      "Wind_Speed_kmh                  1.288922    1.135307    0.897981     0.043585   \n",
      "Soil_Moisture              674740.750260  821.426047  789.712860   -10.930771   \n",
      "Soil_Temperature                8.406922    2.899469    2.383002     0.477680   \n",
      "Wind_Dir_Sin                    0.639627    0.799767    0.653353    -0.161650   \n",
      "Wind_Dir_Cos                    0.364526    0.603760    0.523428     0.005384   \n",
      "\n",
      "                                SMAPE  \n",
      "Temperature                 37.168017  \n",
      "Precipitation_accumulated   28.343931  \n",
      "Humidity                     8.971990  \n",
      "Wind_Speed_kmh              74.549989  \n",
      "Soil_Moisture                9.660076  \n",
      "Soil_Temperature            35.735660  \n",
      "Wind_Dir_Sin               114.690323  \n",
      "Wind_Dir_Cos               139.019317  \n",
      "The MAE for this fold was 0.16617127755701994\n",
      "Results of trial 2 saved in optuna_iteration_metrics/trial_2.json\n",
      "Current value: 0.16617127755701994, Current params: {'input_chunk_length': 29, 'output_chunk_length': 4, 'dropout': 0.43791304560428956, 'batch_size': 99, 'lr': 0.0001780130315046721, 'weight_decay': 0.00011127718275059222, 'hidden_size': 32, 'ff_size': 128, 'num_blocks': 2, 'activation': 'ReLU', 'norm_type': 'LayerNorm', 'normalize_before': True, 'loss_fn': 'huber', 'optimizer': 'AdamW'}\n",
      "Best value: 0.16617127755701994, Best params: {'input_chunk_length': 29, 'output_chunk_length': 4, 'dropout': 0.43791304560428956, 'batch_size': 99, 'lr': 0.0001780130315046721, 'weight_decay': 0.00011127718275059222, 'hidden_size': 32, 'ff_size': 128, 'num_blocks': 2, 'activation': 'ReLU', 'norm_type': 'LayerNorm', 'normalize_before': True, 'loss_fn': 'huber', 'optimizer': 'AdamW'}\n",
      "\n",
      "Starting Trial 3\n",
      "Hyperparameters: {'input_chunk_length': 62, 'output_chunk_length': 8, 'dropout': 0.1645143685751721, 'batch_size': 77, 'lr': 0.000224030660747854, 'weight_decay': 2.7840899925507565e-05, 'hidden_size': 128, 'ff_size': 198, 'num_blocks': 2, 'activation': 'GELU', 'norm_type': 'LayerNormNoBias', 'normalize_before': True, 'loss_fn': 'mse', 'optimizer': 'Adam'}\n",
      "\n",
      "Training the model...\n",
      "Train set: 6647 samples\n",
      "Validation set: 1662 samples\n"
     ]
    },
    {
     "name": "stderr",
     "output_type": "stream",
     "text": [
      "Metric val_loss improved. New best score: 0.079\n",
      "Metric val_loss improved by 0.015 >= min_delta = 0.0005. New best score: 0.063\n",
      "Metric val_loss improved by 0.005 >= min_delta = 0.0005. New best score: 0.059\n",
      "Metric val_loss improved by 0.002 >= min_delta = 0.0005. New best score: 0.056\n",
      "Monitored metric val_loss did not improve in the last 15 records. Best score: 0.056. Signaling Trainer to stop.\n",
      "GPU available: True (cuda), used: True\n",
      "TPU available: False, using: 0 TPU cores\n",
      "HPU available: False, using: 0 HPUs\n",
      "LOCAL_RANK: 0 - CUDA_VISIBLE_DEVICES: [0]\n"
     ]
    },
    {
     "name": "stdout",
     "output_type": "stream",
     "text": [
      "Model loaded from checkpoint for trial 3\n"
     ]
    },
    {
     "name": "stderr",
     "output_type": "stream",
     "text": [
      "/home/eduardo/Documentos/Water-Cycle-Neural-Network/venv/lib/python3.12/site-packages/pytorch_lightning/trainer/connectors/data_connector.py:425: The 'predict_dataloader' does not have many workers which may be a bottleneck. Consider increasing the value of the `num_workers` argument` to `num_workers=11` in the `DataLoader` to improve performance.\n",
      "[I 2025-05-27 08:36:52,880] Trial 3 finished with value: 0.18124861734397027 and parameters: {'input_chunk_length': 62, 'output_chunk_length': 8, 'dropout': 0.1645143685751721, 'batch_size': 77, 'lr': 0.000224030660747854, 'weight_decay': 2.7840899925507565e-05, 'hidden_size': 128, 'ff_size': 198, 'num_blocks': 2, 'activation': 'GELU', 'norm_type': 'LayerNormNoBias', 'normalize_before': True, 'loss_fn': 'mse', 'optimizer': 'Adam'}. Best is trial 2 with value: 0.16617127755701994.\n",
      "GPU available: True (cuda), used: True\n",
      "TPU available: False, using: 0 TPU cores\n",
      "HPU available: False, using: 0 HPUs\n",
      "LOCAL_RANK: 0 - CUDA_VISIBLE_DEVICES: [0]\n"
     ]
    },
    {
     "name": "stdout",
     "output_type": "stream",
     "text": [
      "Starting time series verification for consistency...\n",
      "\n",
      "Performance metrics:\n",
      "                                     MSE        RMSE         MAE           R2  \\\n",
      "Temperature                    13.590627    3.686547    2.921479     0.554595   \n",
      "Precipitation_accumulated   19494.475411  139.622618  124.366089 -6068.496567   \n",
      "Humidity                      229.609279   15.152864   12.501257    -0.561062   \n",
      "Wind_Speed_kmh                  1.664818    1.290278    1.033697    -0.234101   \n",
      "Soil_Moisture              813954.777144  902.194423  738.435493   -15.951516   \n",
      "Soil_Temperature                8.762149    2.960093    2.420504     0.453482   \n",
      "Wind_Dir_Sin                    0.596473    0.772316    0.677884    -0.089962   \n",
      "Wind_Dir_Cos                    0.429108    0.655064    0.535608    -0.164202   \n",
      "\n",
      "                                SMAPE  \n",
      "Temperature                 42.739470  \n",
      "Precipitation_accumulated   32.336262  \n",
      "Humidity                    15.092235  \n",
      "Wind_Speed_kmh              77.273432  \n",
      "Soil_Moisture                9.198476  \n",
      "Soil_Temperature            42.707474  \n",
      "Wind_Dir_Sin               140.056472  \n",
      "Wind_Dir_Cos               124.831495  \n",
      "The MAE for this fold was 0.18124861734397027\n",
      "Results of trial 3 saved in optuna_iteration_metrics/trial_3.json\n",
      "Current value: 0.18124861734397027, Current params: {'input_chunk_length': 62, 'output_chunk_length': 8, 'dropout': 0.1645143685751721, 'batch_size': 77, 'lr': 0.000224030660747854, 'weight_decay': 2.7840899925507565e-05, 'hidden_size': 128, 'ff_size': 198, 'num_blocks': 2, 'activation': 'GELU', 'norm_type': 'LayerNormNoBias', 'normalize_before': True, 'loss_fn': 'mse', 'optimizer': 'Adam'}\n",
      "Best value: 0.16617127755701994, Best params: {'input_chunk_length': 29, 'output_chunk_length': 4, 'dropout': 0.43791304560428956, 'batch_size': 99, 'lr': 0.0001780130315046721, 'weight_decay': 0.00011127718275059222, 'hidden_size': 32, 'ff_size': 128, 'num_blocks': 2, 'activation': 'ReLU', 'norm_type': 'LayerNorm', 'normalize_before': True, 'loss_fn': 'huber', 'optimizer': 'AdamW'}\n",
      "\n",
      "Starting Trial 4\n",
      "Hyperparameters: {'input_chunk_length': 60, 'output_chunk_length': 11, 'dropout': 0.19999869615585114, 'batch_size': 172, 'lr': 0.0011916996157333045, 'weight_decay': 0.0002807939227286464, 'hidden_size': 64, 'ff_size': 102, 'num_blocks': 3, 'activation': 'GELU', 'norm_type': 'LayerNorm', 'normalize_before': True, 'loss_fn': 'smoothl1', 'optimizer': 'RMSprop'}\n",
      "\n",
      "Training the model...\n",
      "Train set: 6647 samples\n",
      "Validation set: 1662 samples\n"
     ]
    },
    {
     "name": "stderr",
     "output_type": "stream",
     "text": [
      "Metric val_loss improved. New best score: 0.041\n",
      "Metric val_loss improved by 0.006 >= min_delta = 0.0005. New best score: 0.035\n",
      "Metric val_loss improved by 0.004 >= min_delta = 0.0005. New best score: 0.031\n",
      "Metric val_loss improved by 0.004 >= min_delta = 0.0005. New best score: 0.027\n",
      "Metric val_loss improved by 0.002 >= min_delta = 0.0005. New best score: 0.024\n",
      "Metric val_loss improved by 0.002 >= min_delta = 0.0005. New best score: 0.022\n",
      "Metric val_loss improved by 0.001 >= min_delta = 0.0005. New best score: 0.022\n",
      "Metric val_loss improved by 0.001 >= min_delta = 0.0005. New best score: 0.020\n",
      "Metric val_loss improved by 0.002 >= min_delta = 0.0005. New best score: 0.019\n",
      "`Trainer.fit` stopped: `max_epochs=30` reached.\n",
      "GPU available: True (cuda), used: True\n",
      "TPU available: False, using: 0 TPU cores\n",
      "HPU available: False, using: 0 HPUs\n",
      "LOCAL_RANK: 0 - CUDA_VISIBLE_DEVICES: [0]\n"
     ]
    },
    {
     "name": "stdout",
     "output_type": "stream",
     "text": [
      "Model loaded from checkpoint for trial 4\n"
     ]
    },
    {
     "name": "stderr",
     "output_type": "stream",
     "text": [
      "/home/eduardo/Documentos/Water-Cycle-Neural-Network/venv/lib/python3.12/site-packages/pytorch_lightning/trainer/connectors/data_connector.py:425: The 'predict_dataloader' does not have many workers which may be a bottleneck. Consider increasing the value of the `num_workers` argument` to `num_workers=11` in the `DataLoader` to improve performance.\n",
      "[I 2025-05-27 08:37:22,584] Trial 4 finished with value: 0.13105093591135022 and parameters: {'input_chunk_length': 60, 'output_chunk_length': 11, 'dropout': 0.19999869615585114, 'batch_size': 172, 'lr': 0.0011916996157333045, 'weight_decay': 0.0002807939227286464, 'hidden_size': 64, 'ff_size': 102, 'num_blocks': 3, 'activation': 'GELU', 'norm_type': 'LayerNorm', 'normalize_before': True, 'loss_fn': 'smoothl1', 'optimizer': 'RMSprop'}. Best is trial 4 with value: 0.13105093591135022.\n",
      "GPU available: True (cuda), used: True\n",
      "TPU available: False, using: 0 TPU cores\n",
      "HPU available: False, using: 0 HPUs\n",
      "LOCAL_RANK: 0 - CUDA_VISIBLE_DEVICES: [0]\n"
     ]
    },
    {
     "name": "stdout",
     "output_type": "stream",
     "text": [
      "Starting time series verification for consistency...\n",
      "\n",
      "Performance metrics:\n",
      "                                     MSE        RMSE         MAE          R2  \\\n",
      "Temperature                     9.114465    3.019017    2.439796    0.701095   \n",
      "Precipitation_accumulated    1224.497998   34.992828   33.462550 -380.934574   \n",
      "Humidity                       84.890754    9.213618    7.307449    0.422789   \n",
      "Wind_Speed_kmh                  1.345208    1.159831    0.940496    0.003427   \n",
      "Soil_Moisture              119124.252956  345.143815  304.708070   -1.492092   \n",
      "Soil_Temperature                4.499775    2.121267    1.670898    0.719138   \n",
      "Wind_Dir_Sin                    0.582899    0.763478    0.656836   -0.064853   \n",
      "Wind_Dir_Cos                    0.390556    0.624944    0.543072   -0.060369   \n",
      "\n",
      "                                SMAPE  \n",
      "Temperature                 37.745807  \n",
      "Precipitation_accumulated    7.494411  \n",
      "Humidity                     8.690335  \n",
      "Wind_Speed_kmh              74.984563  \n",
      "Soil_Moisture                3.613895  \n",
      "Soil_Temperature            28.204072  \n",
      "Wind_Dir_Sin               128.381929  \n",
      "Wind_Dir_Cos               150.531817  \n",
      "The MAE for this fold was 0.13105093591135022\n",
      "Results of trial 4 saved in optuna_iteration_metrics/trial_4.json\n",
      "Current value: 0.13105093591135022, Current params: {'input_chunk_length': 60, 'output_chunk_length': 11, 'dropout': 0.19999869615585114, 'batch_size': 172, 'lr': 0.0011916996157333045, 'weight_decay': 0.0002807939227286464, 'hidden_size': 64, 'ff_size': 102, 'num_blocks': 3, 'activation': 'GELU', 'norm_type': 'LayerNorm', 'normalize_before': True, 'loss_fn': 'smoothl1', 'optimizer': 'RMSprop'}\n",
      "Best value: 0.13105093591135022, Best params: {'input_chunk_length': 60, 'output_chunk_length': 11, 'dropout': 0.19999869615585114, 'batch_size': 172, 'lr': 0.0011916996157333045, 'weight_decay': 0.0002807939227286464, 'hidden_size': 64, 'ff_size': 102, 'num_blocks': 3, 'activation': 'GELU', 'norm_type': 'LayerNorm', 'normalize_before': True, 'loss_fn': 'smoothl1', 'optimizer': 'RMSprop'}\n",
      "\n",
      "Starting Trial 5\n",
      "Hyperparameters: {'input_chunk_length': 38, 'output_chunk_length': 23, 'dropout': 0.4594180987245875, 'batch_size': 136, 'lr': 0.00012257779172760661, 'weight_decay': 0.00888096509782047, 'hidden_size': 32, 'ff_size': 76, 'num_blocks': 4, 'activation': 'ReLU', 'norm_type': 'LayerNorm', 'normalize_before': True, 'loss_fn': 'mae', 'optimizer': 'Adam'}\n",
      "\n",
      "Training the model...\n",
      "Train set: 6647 samples\n",
      "Validation set: 1662 samples\n"
     ]
    },
    {
     "name": "stderr",
     "output_type": "stream",
     "text": [
      "[I 2025-05-27 08:37:24,220] Trial 5 pruned. Trial was pruned at epoch 0.\n",
      "GPU available: True (cuda), used: True\n",
      "TPU available: False, using: 0 TPU cores\n",
      "HPU available: False, using: 0 HPUs\n",
      "LOCAL_RANK: 0 - CUDA_VISIBLE_DEVICES: [0]\n"
     ]
    },
    {
     "name": "stdout",
     "output_type": "stream",
     "text": [
      "Current value: 0.36519305914821504, Current params: {'input_chunk_length': 38, 'output_chunk_length': 23, 'dropout': 0.4594180987245875, 'batch_size': 136, 'lr': 0.00012257779172760661, 'weight_decay': 0.00888096509782047, 'hidden_size': 32, 'ff_size': 76, 'num_blocks': 4, 'activation': 'ReLU', 'norm_type': 'LayerNorm', 'normalize_before': True, 'loss_fn': 'mae', 'optimizer': 'Adam'}\n",
      "Best value: 0.13105093591135022, Best params: {'input_chunk_length': 60, 'output_chunk_length': 11, 'dropout': 0.19999869615585114, 'batch_size': 172, 'lr': 0.0011916996157333045, 'weight_decay': 0.0002807939227286464, 'hidden_size': 64, 'ff_size': 102, 'num_blocks': 3, 'activation': 'GELU', 'norm_type': 'LayerNorm', 'normalize_before': True, 'loss_fn': 'smoothl1', 'optimizer': 'RMSprop'}\n",
      "\n",
      "Starting Trial 6\n",
      "Hyperparameters: {'input_chunk_length': 35, 'output_chunk_length': 17, 'dropout': 0.45791807306649834, 'batch_size': 253, 'lr': 0.0034697576656838765, 'weight_decay': 3.7328033884722536e-06, 'hidden_size': 32, 'ff_size': 116, 'num_blocks': 3, 'activation': 'GELU', 'norm_type': 'TimeBatchNorm2d', 'normalize_before': True, 'loss_fn': 'huber', 'optimizer': 'AdamW'}\n",
      "\n",
      "Training the model...\n",
      "Train set: 6647 samples\n",
      "Validation set: 1662 samples\n"
     ]
    },
    {
     "name": "stderr",
     "output_type": "stream",
     "text": [
      "Metric val_loss improved. New best score: 0.040\n",
      "Metric val_loss improved by 0.008 >= min_delta = 0.0005. New best score: 0.032\n",
      "Metric val_loss improved by 0.005 >= min_delta = 0.0005. New best score: 0.028\n",
      "Metric val_loss improved by 0.005 >= min_delta = 0.0005. New best score: 0.023\n",
      "Metric val_loss improved by 0.001 >= min_delta = 0.0005. New best score: 0.023\n",
      "Metric val_loss improved by 0.001 >= min_delta = 0.0005. New best score: 0.022\n",
      "Metric val_loss improved by 0.001 >= min_delta = 0.0005. New best score: 0.021\n",
      "Metric val_loss improved by 0.001 >= min_delta = 0.0005. New best score: 0.020\n",
      "Metric val_loss improved by 0.001 >= min_delta = 0.0005. New best score: 0.019\n",
      "Metric val_loss improved by 0.001 >= min_delta = 0.0005. New best score: 0.019\n",
      "Monitored metric val_loss did not improve in the last 15 records. Best score: 0.019. Signaling Trainer to stop.\n",
      "GPU available: True (cuda), used: True\n",
      "TPU available: False, using: 0 TPU cores\n",
      "HPU available: False, using: 0 HPUs\n",
      "LOCAL_RANK: 0 - CUDA_VISIBLE_DEVICES: [0]\n"
     ]
    },
    {
     "name": "stdout",
     "output_type": "stream",
     "text": [
      "Model loaded from checkpoint for trial 6\n"
     ]
    },
    {
     "name": "stderr",
     "output_type": "stream",
     "text": [
      "/home/eduardo/Documentos/Water-Cycle-Neural-Network/venv/lib/python3.12/site-packages/pytorch_lightning/trainer/connectors/data_connector.py:425: The 'predict_dataloader' does not have many workers which may be a bottleneck. Consider increasing the value of the `num_workers` argument` to `num_workers=11` in the `DataLoader` to improve performance.\n",
      "[I 2025-05-27 08:37:50,035] Trial 6 finished with value: 0.12389559438069492 and parameters: {'input_chunk_length': 35, 'output_chunk_length': 17, 'dropout': 0.45791807306649834, 'batch_size': 253, 'lr': 0.0034697576656838765, 'weight_decay': 3.7328033884722536e-06, 'hidden_size': 32, 'ff_size': 116, 'num_blocks': 3, 'activation': 'GELU', 'norm_type': 'TimeBatchNorm2d', 'normalize_before': True, 'loss_fn': 'huber', 'optimizer': 'AdamW'}. Best is trial 6 with value: 0.12389559438069492.\n",
      "GPU available: True (cuda), used: True\n",
      "TPU available: False, using: 0 TPU cores\n",
      "HPU available: False, using: 0 HPUs\n",
      "LOCAL_RANK: 0 - CUDA_VISIBLE_DEVICES: [0]\n"
     ]
    },
    {
     "name": "stdout",
     "output_type": "stream",
     "text": [
      "Starting time series verification for consistency...\n",
      "\n",
      "Performance metrics:\n",
      "                                    MSE        RMSE         MAE         R2  \\\n",
      "Temperature                    7.722195    2.778884    2.245222   0.746455   \n",
      "Precipitation_accumulated    229.612294   15.152963   13.404691 -68.284896   \n",
      "Humidity                      99.895779    9.994788    7.904186   0.318552   \n",
      "Wind_Speed_kmh                 1.276929    1.130013    0.913351   0.050640   \n",
      "Soil_Moisture              63936.749539  252.857172  205.143847  -0.219398   \n",
      "Soil_Temperature               6.446588    2.539013    2.122524   0.598946   \n",
      "Wind_Dir_Sin                   0.615725    0.784682    0.676476  -0.117386   \n",
      "Wind_Dir_Cos                   0.388076    0.622958    0.525103  -0.058250   \n",
      "\n",
      "                                SMAPE  \n",
      "Temperature                 35.494904  \n",
      "Precipitation_accumulated    2.934499  \n",
      "Humidity                     9.329770  \n",
      "Wind_Speed_kmh              73.402411  \n",
      "Soil_Moisture                2.428326  \n",
      "Soil_Temperature            47.110230  \n",
      "Wind_Dir_Sin               133.615173  \n",
      "Wind_Dir_Cos               123.798647  \n",
      "The MAE for this fold was 0.12389559438069492\n",
      "Results of trial 6 saved in optuna_iteration_metrics/trial_6.json\n",
      "Current value: 0.12389559438069492, Current params: {'input_chunk_length': 35, 'output_chunk_length': 17, 'dropout': 0.45791807306649834, 'batch_size': 253, 'lr': 0.0034697576656838765, 'weight_decay': 3.7328033884722536e-06, 'hidden_size': 32, 'ff_size': 116, 'num_blocks': 3, 'activation': 'GELU', 'norm_type': 'TimeBatchNorm2d', 'normalize_before': True, 'loss_fn': 'huber', 'optimizer': 'AdamW'}\n",
      "Best value: 0.12389559438069492, Best params: {'input_chunk_length': 35, 'output_chunk_length': 17, 'dropout': 0.45791807306649834, 'batch_size': 253, 'lr': 0.0034697576656838765, 'weight_decay': 3.7328033884722536e-06, 'hidden_size': 32, 'ff_size': 116, 'num_blocks': 3, 'activation': 'GELU', 'norm_type': 'TimeBatchNorm2d', 'normalize_before': True, 'loss_fn': 'huber', 'optimizer': 'AdamW'}\n",
      "\n",
      "Starting Trial 7\n",
      "Hyperparameters: {'input_chunk_length': 70, 'output_chunk_length': 2, 'dropout': 0.34408077866616393, 'batch_size': 220, 'lr': 0.0005959801771348672, 'weight_decay': 0.0026000987838615502, 'hidden_size': 32, 'ff_size': 92, 'num_blocks': 1, 'activation': 'ReLU', 'norm_type': 'LayerNormNoBias', 'normalize_before': True, 'loss_fn': 'smoothl1', 'optimizer': 'Adam'}\n",
      "\n",
      "Training the model...\n",
      "Train set: 6647 samples\n",
      "Validation set: 1662 samples\n"
     ]
    },
    {
     "name": "stderr",
     "output_type": "stream",
     "text": [
      "Metric val_loss improved. New best score: 0.050\n",
      "Metric val_loss improved by 0.001 >= min_delta = 0.0005. New best score: 0.048\n",
      "Metric val_loss improved by 0.002 >= min_delta = 0.0005. New best score: 0.046\n",
      "Metric val_loss improved by 0.002 >= min_delta = 0.0005. New best score: 0.044\n",
      "Metric val_loss improved by 0.003 >= min_delta = 0.0005. New best score: 0.041\n",
      "Metric val_loss improved by 0.002 >= min_delta = 0.0005. New best score: 0.039\n",
      "Metric val_loss improved by 0.002 >= min_delta = 0.0005. New best score: 0.037\n",
      "Metric val_loss improved by 0.002 >= min_delta = 0.0005. New best score: 0.035\n",
      "Metric val_loss improved by 0.002 >= min_delta = 0.0005. New best score: 0.034\n",
      "Metric val_loss improved by 0.001 >= min_delta = 0.0005. New best score: 0.032\n",
      "Metric val_loss improved by 0.001 >= min_delta = 0.0005. New best score: 0.032\n",
      "Metric val_loss improved by 0.001 >= min_delta = 0.0005. New best score: 0.030\n",
      "Metric val_loss improved by 0.001 >= min_delta = 0.0005. New best score: 0.029\n",
      "Metric val_loss improved by 0.001 >= min_delta = 0.0005. New best score: 0.028\n",
      "Metric val_loss improved by 0.001 >= min_delta = 0.0005. New best score: 0.027\n",
      "Metric val_loss improved by 0.001 >= min_delta = 0.0005. New best score: 0.026\n",
      "Metric val_loss improved by 0.001 >= min_delta = 0.0005. New best score: 0.025\n",
      "Metric val_loss improved by 0.001 >= min_delta = 0.0005. New best score: 0.024\n",
      "`Trainer.fit` stopped: `max_epochs=30` reached.\n",
      "GPU available: True (cuda), used: True\n",
      "TPU available: False, using: 0 TPU cores\n",
      "HPU available: False, using: 0 HPUs\n",
      "LOCAL_RANK: 0 - CUDA_VISIBLE_DEVICES: [0]\n"
     ]
    },
    {
     "name": "stdout",
     "output_type": "stream",
     "text": [
      "Model loaded from checkpoint for trial 7\n"
     ]
    },
    {
     "name": "stderr",
     "output_type": "stream",
     "text": [
      "/home/eduardo/Documentos/Water-Cycle-Neural-Network/venv/lib/python3.12/site-packages/pytorch_lightning/trainer/connectors/data_connector.py:425: The 'predict_dataloader' does not have many workers which may be a bottleneck. Consider increasing the value of the `num_workers` argument` to `num_workers=11` in the `DataLoader` to improve performance.\n",
      "[I 2025-05-27 08:38:57,982] Trial 7 finished with value: 0.17375637312499753 and parameters: {'input_chunk_length': 70, 'output_chunk_length': 2, 'dropout': 0.34408077866616393, 'batch_size': 220, 'lr': 0.0005959801771348672, 'weight_decay': 0.0026000987838615502, 'hidden_size': 32, 'ff_size': 92, 'num_blocks': 1, 'activation': 'ReLU', 'norm_type': 'LayerNormNoBias', 'normalize_before': True, 'loss_fn': 'smoothl1', 'optimizer': 'Adam'}. Best is trial 6 with value: 0.12389559438069492.\n",
      "GPU available: True (cuda), used: True\n",
      "TPU available: False, using: 0 TPU cores\n",
      "HPU available: False, using: 0 HPUs\n",
      "LOCAL_RANK: 0 - CUDA_VISIBLE_DEVICES: [0]\n"
     ]
    },
    {
     "name": "stdout",
     "output_type": "stream",
     "text": [
      "Starting time series verification for consistency...\n",
      "\n",
      "Performance metrics:\n",
      "                                     MSE        RMSE         MAE           R2  \\\n",
      "Temperature                    14.932866    3.864307    3.024392     0.509879   \n",
      "Precipitation_accumulated   13296.625279  115.310994  112.967915 -4153.950709   \n",
      "Humidity                       99.467793    9.973354    8.482497     0.323604   \n",
      "Wind_Speed_kmh                  1.532330    1.237873    0.960769    -0.134514   \n",
      "Soil_Moisture              825165.664943  908.386297  897.099645   -16.345672   \n",
      "Soil_Temperature                6.905513    2.627834    2.124448     0.568618   \n",
      "Wind_Dir_Sin                    0.567200    0.753127    0.654744    -0.035862   \n",
      "Wind_Dir_Cos                    0.377891    0.614729    0.539056    -0.026769   \n",
      "\n",
      "                                SMAPE  \n",
      "Temperature                 42.782433  \n",
      "Precipitation_accumulated   27.837854  \n",
      "Humidity                    10.040931  \n",
      "Wind_Speed_kmh              79.504284  \n",
      "Soil_Moisture               11.015420  \n",
      "Soil_Temperature            33.024448  \n",
      "Wind_Dir_Sin               127.066549  \n",
      "Wind_Dir_Cos               158.541555  \n",
      "The MAE for this fold was 0.17375637312499753\n",
      "Results of trial 7 saved in optuna_iteration_metrics/trial_7.json\n",
      "Current value: 0.17375637312499753, Current params: {'input_chunk_length': 70, 'output_chunk_length': 2, 'dropout': 0.34408077866616393, 'batch_size': 220, 'lr': 0.0005959801771348672, 'weight_decay': 0.0026000987838615502, 'hidden_size': 32, 'ff_size': 92, 'num_blocks': 1, 'activation': 'ReLU', 'norm_type': 'LayerNormNoBias', 'normalize_before': True, 'loss_fn': 'smoothl1', 'optimizer': 'Adam'}\n",
      "Best value: 0.12389559438069492, Best params: {'input_chunk_length': 35, 'output_chunk_length': 17, 'dropout': 0.45791807306649834, 'batch_size': 253, 'lr': 0.0034697576656838765, 'weight_decay': 3.7328033884722536e-06, 'hidden_size': 32, 'ff_size': 116, 'num_blocks': 3, 'activation': 'GELU', 'norm_type': 'TimeBatchNorm2d', 'normalize_before': True, 'loss_fn': 'huber', 'optimizer': 'AdamW'}\n",
      "\n",
      "Starting Trial 8\n",
      "Hyperparameters: {'input_chunk_length': 56, 'output_chunk_length': 6, 'dropout': 0.4796414321422423, 'batch_size': 177, 'lr': 8.4506986454651e-06, 'weight_decay': 4.905935151183571e-06, 'hidden_size': 64, 'ff_size': 144, 'num_blocks': 3, 'activation': 'GELU', 'norm_type': 'LayerNorm', 'normalize_before': False, 'loss_fn': 'smoothl1', 'optimizer': 'AdamW'}\n",
      "\n",
      "Training the model...\n",
      "Train set: 6647 samples\n",
      "Validation set: 1662 samples\n"
     ]
    },
    {
     "name": "stderr",
     "output_type": "stream",
     "text": [
      "[I 2025-05-27 08:38:59,300] Trial 8 pruned. Trial was pruned at epoch 0.\n",
      "GPU available: True (cuda), used: True\n",
      "TPU available: False, using: 0 TPU cores\n",
      "HPU available: False, using: 0 HPUs\n",
      "LOCAL_RANK: 0 - CUDA_VISIBLE_DEVICES: [0]\n"
     ]
    },
    {
     "name": "stdout",
     "output_type": "stream",
     "text": [
      "Current value: 0.2512421420185155, Current params: {'input_chunk_length': 56, 'output_chunk_length': 6, 'dropout': 0.4796414321422423, 'batch_size': 177, 'lr': 8.4506986454651e-06, 'weight_decay': 4.905935151183571e-06, 'hidden_size': 64, 'ff_size': 144, 'num_blocks': 3, 'activation': 'GELU', 'norm_type': 'LayerNorm', 'normalize_before': False, 'loss_fn': 'smoothl1', 'optimizer': 'AdamW'}\n",
      "Best value: 0.12389559438069492, Best params: {'input_chunk_length': 35, 'output_chunk_length': 17, 'dropout': 0.45791807306649834, 'batch_size': 253, 'lr': 0.0034697576656838765, 'weight_decay': 3.7328033884722536e-06, 'hidden_size': 32, 'ff_size': 116, 'num_blocks': 3, 'activation': 'GELU', 'norm_type': 'TimeBatchNorm2d', 'normalize_before': True, 'loss_fn': 'huber', 'optimizer': 'AdamW'}\n",
      "\n",
      "Starting Trial 9\n",
      "Hyperparameters: {'input_chunk_length': 62, 'output_chunk_length': 10, 'dropout': 0.339246444233681, 'batch_size': 81, 'lr': 0.00018247405227329278, 'weight_decay': 0.0001324963825531905, 'hidden_size': 64, 'ff_size': 160, 'num_blocks': 1, 'activation': 'GELU', 'norm_type': 'TimeBatchNorm2d', 'normalize_before': False, 'loss_fn': 'mse', 'optimizer': 'RMSprop'}\n",
      "\n",
      "Training the model...\n",
      "Train set: 6647 samples\n",
      "Validation set: 1662 samples\n"
     ]
    },
    {
     "name": "stderr",
     "output_type": "stream",
     "text": [
      "[I 2025-05-27 08:39:00,750] Trial 9 pruned. Trial was pruned at epoch 0.\n"
     ]
    },
    {
     "name": "stdout",
     "output_type": "stream",
     "text": [
      "Current value: 0.08144067932915561, Current params: {'input_chunk_length': 62, 'output_chunk_length': 10, 'dropout': 0.339246444233681, 'batch_size': 81, 'lr': 0.00018247405227329278, 'weight_decay': 0.0001324963825531905, 'hidden_size': 64, 'ff_size': 160, 'num_blocks': 1, 'activation': 'GELU', 'norm_type': 'TimeBatchNorm2d', 'normalize_before': False, 'loss_fn': 'mse', 'optimizer': 'RMSprop'}\n",
      "Best value: 0.12389559438069492, Best params: {'input_chunk_length': 35, 'output_chunk_length': 17, 'dropout': 0.45791807306649834, 'batch_size': 253, 'lr': 0.0034697576656838765, 'weight_decay': 3.7328033884722536e-06, 'hidden_size': 32, 'ff_size': 116, 'num_blocks': 3, 'activation': 'GELU', 'norm_type': 'TimeBatchNorm2d', 'normalize_before': True, 'loss_fn': 'huber', 'optimizer': 'AdamW'}\n",
      "\n",
      "Starting Trial 10\n",
      "Hyperparameters: {'input_chunk_length': 43, 'output_chunk_length': 19, 'dropout': 0.11903588351489278, 'batch_size': 213, 'lr': 0.003973044487169618, 'weight_decay': 1.7981150912352674e-06, 'hidden_size': 32, 'ff_size': 58, 'num_blocks': 4, 'activation': 'ReLU', 'norm_type': 'TimeBatchNorm2d', 'normalize_before': False, 'loss_fn': 'huber', 'optimizer': 'AdamW'}\n",
      "\n",
      "Training the model...\n",
      "Train set: 6647 samples\n",
      "Validation set: 1662 samples\n"
     ]
    },
    {
     "name": "stderr",
     "output_type": "stream",
     "text": [
      "GPU available: True (cuda), used: True\n",
      "TPU available: False, using: 0 TPU cores\n",
      "HPU available: False, using: 0 HPUs\n",
      "LOCAL_RANK: 0 - CUDA_VISIBLE_DEVICES: [0]\n",
      "Metric val_loss improved. New best score: 0.037\n",
      "Metric val_loss improved by 0.001 >= min_delta = 0.0005. New best score: 0.036\n",
      "Metric val_loss improved by 0.002 >= min_delta = 0.0005. New best score: 0.033\n",
      "Metric val_loss improved by 0.002 >= min_delta = 0.0005. New best score: 0.031\n",
      "Metric val_loss improved by 0.001 >= min_delta = 0.0005. New best score: 0.030\n",
      "Metric val_loss improved by 0.001 >= min_delta = 0.0005. New best score: 0.029\n",
      "[I 2025-05-27 08:40:06,541] Trial 10 pruned. Trial was pruned at epoch 20.\n",
      "GPU available: True (cuda), used: True\n",
      "TPU available: False, using: 0 TPU cores\n",
      "HPU available: False, using: 0 HPUs\n",
      "LOCAL_RANK: 0 - CUDA_VISIBLE_DEVICES: [0]\n"
     ]
    },
    {
     "name": "stdout",
     "output_type": "stream",
     "text": [
      "Current value: 0.029587235293926404, Current params: {'input_chunk_length': 43, 'output_chunk_length': 19, 'dropout': 0.11903588351489278, 'batch_size': 213, 'lr': 0.003973044487169618, 'weight_decay': 1.7981150912352674e-06, 'hidden_size': 32, 'ff_size': 58, 'num_blocks': 4, 'activation': 'ReLU', 'norm_type': 'TimeBatchNorm2d', 'normalize_before': False, 'loss_fn': 'huber', 'optimizer': 'AdamW'}\n",
      "Best value: 0.12389559438069492, Best params: {'input_chunk_length': 35, 'output_chunk_length': 17, 'dropout': 0.45791807306649834, 'batch_size': 253, 'lr': 0.0034697576656838765, 'weight_decay': 3.7328033884722536e-06, 'hidden_size': 32, 'ff_size': 116, 'num_blocks': 3, 'activation': 'GELU', 'norm_type': 'TimeBatchNorm2d', 'normalize_before': True, 'loss_fn': 'huber', 'optimizer': 'AdamW'}\n",
      "\n",
      "Starting Trial 11\n",
      "Hyperparameters: {'input_chunk_length': 51, 'output_chunk_length': 17, 'dropout': 0.22393287568971945, 'batch_size': 252, 'lr': 0.003121200589560004, 'weight_decay': 1.653082187899698e-05, 'hidden_size': 64, 'ff_size': 110, 'num_blocks': 3, 'activation': 'GELU', 'norm_type': 'LayerNorm', 'normalize_before': True, 'loss_fn': 'smoothl1', 'optimizer': 'RMSprop'}\n",
      "\n",
      "Training the model...\n",
      "Train set: 6647 samples\n",
      "Validation set: 1662 samples\n"
     ]
    },
    {
     "name": "stderr",
     "output_type": "stream",
     "text": [
      "Metric val_loss improved. New best score: 0.051\n",
      "Metric val_loss improved by 0.004 >= min_delta = 0.0005. New best score: 0.047\n",
      "Metric val_loss improved by 0.005 >= min_delta = 0.0005. New best score: 0.042\n",
      "Metric val_loss improved by 0.001 >= min_delta = 0.0005. New best score: 0.041\n",
      "Metric val_loss improved by 0.004 >= min_delta = 0.0005. New best score: 0.037\n",
      "Metric val_loss improved by 0.002 >= min_delta = 0.0005. New best score: 0.035\n",
      "Metric val_loss improved by 0.002 >= min_delta = 0.0005. New best score: 0.033\n",
      "Metric val_loss improved by 0.002 >= min_delta = 0.0005. New best score: 0.031\n",
      "Metric val_loss improved by 0.004 >= min_delta = 0.0005. New best score: 0.027\n",
      "[I 2025-05-27 08:40:27,094] Trial 11 pruned. Trial was pruned at epoch 20.\n",
      "GPU available: True (cuda), used: True\n",
      "TPU available: False, using: 0 TPU cores\n",
      "HPU available: False, using: 0 HPUs\n",
      "LOCAL_RANK: 0 - CUDA_VISIBLE_DEVICES: [0]\n"
     ]
    },
    {
     "name": "stdout",
     "output_type": "stream",
     "text": [
      "Current value: 0.04006880801828774, Current params: {'input_chunk_length': 51, 'output_chunk_length': 17, 'dropout': 0.22393287568971945, 'batch_size': 252, 'lr': 0.003121200589560004, 'weight_decay': 1.653082187899698e-05, 'hidden_size': 64, 'ff_size': 110, 'num_blocks': 3, 'activation': 'GELU', 'norm_type': 'LayerNorm', 'normalize_before': True, 'loss_fn': 'smoothl1', 'optimizer': 'RMSprop'}\n",
      "Best value: 0.12389559438069492, Best params: {'input_chunk_length': 35, 'output_chunk_length': 17, 'dropout': 0.45791807306649834, 'batch_size': 253, 'lr': 0.0034697576656838765, 'weight_decay': 3.7328033884722536e-06, 'hidden_size': 32, 'ff_size': 116, 'num_blocks': 3, 'activation': 'GELU', 'norm_type': 'TimeBatchNorm2d', 'normalize_before': True, 'loss_fn': 'huber', 'optimizer': 'AdamW'}\n",
      "\n",
      "Starting Trial 12\n",
      "Hyperparameters: {'input_chunk_length': 41, 'output_chunk_length': 14, 'dropout': 0.2632239161334062, 'batch_size': 195, 'lr': 0.0011831655400137012, 'weight_decay': 0.0005852256330711618, 'hidden_size': 64, 'ff_size': 233, 'num_blocks': 3, 'activation': 'GELU', 'norm_type': 'TimeBatchNorm2d', 'normalize_before': True, 'loss_fn': 'huber', 'optimizer': 'RMSprop'}\n",
      "\n",
      "Training the model...\n",
      "Train set: 6647 samples\n",
      "Validation set: 1662 samples\n"
     ]
    },
    {
     "name": "stderr",
     "output_type": "stream",
     "text": [
      "[I 2025-05-27 08:40:28,725] Trial 12 pruned. Trial was pruned at epoch 0.\n",
      "GPU available: True (cuda), used: True\n",
      "TPU available: False, using: 0 TPU cores\n",
      "HPU available: False, using: 0 HPUs\n",
      "LOCAL_RANK: 0 - CUDA_VISIBLE_DEVICES: [0]\n"
     ]
    },
    {
     "name": "stdout",
     "output_type": "stream",
     "text": [
      "Current value: 0.06543058704178759, Current params: {'input_chunk_length': 41, 'output_chunk_length': 14, 'dropout': 0.2632239161334062, 'batch_size': 195, 'lr': 0.0011831655400137012, 'weight_decay': 0.0005852256330711618, 'hidden_size': 64, 'ff_size': 233, 'num_blocks': 3, 'activation': 'GELU', 'norm_type': 'TimeBatchNorm2d', 'normalize_before': True, 'loss_fn': 'huber', 'optimizer': 'RMSprop'}\n",
      "Best value: 0.12389559438069492, Best params: {'input_chunk_length': 35, 'output_chunk_length': 17, 'dropout': 0.45791807306649834, 'batch_size': 253, 'lr': 0.0034697576656838765, 'weight_decay': 3.7328033884722536e-06, 'hidden_size': 32, 'ff_size': 116, 'num_blocks': 3, 'activation': 'GELU', 'norm_type': 'TimeBatchNorm2d', 'normalize_before': True, 'loss_fn': 'huber', 'optimizer': 'AdamW'}\n",
      "\n",
      "Starting Trial 13\n",
      "Hyperparameters: {'input_chunk_length': 24, 'output_chunk_length': 16, 'dropout': 0.18023053152145638, 'batch_size': 128, 'lr': 0.0009557630544579569, 'weight_decay': 1.1751456490697441e-06, 'hidden_size': 64, 'ff_size': 113, 'num_blocks': 4, 'activation': 'GELU', 'norm_type': 'LayerNorm', 'normalize_before': True, 'loss_fn': 'smoothl1', 'optimizer': 'SGD'}\n",
      "\n",
      "Training the model...\n",
      "Train set: 6647 samples\n",
      "Validation set: 1662 samples\n"
     ]
    },
    {
     "name": "stderr",
     "output_type": "stream",
     "text": [
      "[I 2025-05-27 08:40:30,342] Trial 13 pruned. Trial was pruned at epoch 0.\n",
      "GPU available: True (cuda), used: True\n",
      "TPU available: False, using: 0 TPU cores\n",
      "HPU available: False, using: 0 HPUs\n",
      "LOCAL_RANK: 0 - CUDA_VISIBLE_DEVICES: [0]\n"
     ]
    },
    {
     "name": "stdout",
     "output_type": "stream",
     "text": [
      "Current value: 0.17496741033648483, Current params: {'input_chunk_length': 24, 'output_chunk_length': 16, 'dropout': 0.18023053152145638, 'batch_size': 128, 'lr': 0.0009557630544579569, 'weight_decay': 1.1751456490697441e-06, 'hidden_size': 64, 'ff_size': 113, 'num_blocks': 4, 'activation': 'GELU', 'norm_type': 'LayerNorm', 'normalize_before': True, 'loss_fn': 'smoothl1', 'optimizer': 'SGD'}\n",
      "Best value: 0.12389559438069492, Best params: {'input_chunk_length': 35, 'output_chunk_length': 17, 'dropout': 0.45791807306649834, 'batch_size': 253, 'lr': 0.0034697576656838765, 'weight_decay': 3.7328033884722536e-06, 'hidden_size': 32, 'ff_size': 116, 'num_blocks': 3, 'activation': 'GELU', 'norm_type': 'TimeBatchNorm2d', 'normalize_before': True, 'loss_fn': 'huber', 'optimizer': 'AdamW'}\n",
      "\n",
      "Starting Trial 14\n",
      "Hyperparameters: {'input_chunk_length': 51, 'output_chunk_length': 21, 'dropout': 0.4144468601661472, 'batch_size': 133, 'lr': 0.004147020666679463, 'weight_decay': 0.00041054969075309764, 'hidden_size': 128, 'ff_size': 457, 'num_blocks': 3, 'activation': 'GELU', 'norm_type': 'TimeBatchNorm2d', 'normalize_before': False, 'loss_fn': 'smoothl1', 'optimizer': 'AdamW'}\n",
      "\n",
      "Training the model...\n",
      "Train set: 6647 samples\n",
      "Validation set: 1662 samples\n"
     ]
    },
    {
     "name": "stderr",
     "output_type": "stream",
     "text": [
      "Metric val_loss improved. New best score: 0.048\n",
      "Metric val_loss improved by 0.003 >= min_delta = 0.0005. New best score: 0.045\n",
      "Metric val_loss improved by 0.002 >= min_delta = 0.0005. New best score: 0.043\n",
      "Metric val_loss improved by 0.004 >= min_delta = 0.0005. New best score: 0.039\n",
      "Metric val_loss improved by 0.001 >= min_delta = 0.0005. New best score: 0.038\n",
      "[I 2025-05-27 08:40:58,588] Trial 14 pruned. Trial was pruned at epoch 12.\n",
      "GPU available: True (cuda), used: True\n",
      "TPU available: False, using: 0 TPU cores\n",
      "HPU available: False, using: 0 HPUs\n",
      "LOCAL_RANK: 0 - CUDA_VISIBLE_DEVICES: [0]\n"
     ]
    },
    {
     "name": "stdout",
     "output_type": "stream",
     "text": [
      "Current value: 0.03860264135953949, Current params: {'input_chunk_length': 51, 'output_chunk_length': 21, 'dropout': 0.4144468601661472, 'batch_size': 133, 'lr': 0.004147020666679463, 'weight_decay': 0.00041054969075309764, 'hidden_size': 128, 'ff_size': 457, 'num_blocks': 3, 'activation': 'GELU', 'norm_type': 'TimeBatchNorm2d', 'normalize_before': False, 'loss_fn': 'smoothl1', 'optimizer': 'AdamW'}\n",
      "Best value: 0.12389559438069492, Best params: {'input_chunk_length': 35, 'output_chunk_length': 17, 'dropout': 0.45791807306649834, 'batch_size': 253, 'lr': 0.0034697576656838765, 'weight_decay': 3.7328033884722536e-06, 'hidden_size': 32, 'ff_size': 116, 'num_blocks': 3, 'activation': 'GELU', 'norm_type': 'TimeBatchNorm2d', 'normalize_before': True, 'loss_fn': 'huber', 'optimizer': 'AdamW'}\n",
      "\n",
      "Starting Trial 15\n",
      "Hyperparameters: {'input_chunk_length': 35, 'output_chunk_length': 13, 'dropout': 0.2951141843642233, 'batch_size': 223, 'lr': 3.9025471287159004e-05, 'weight_decay': 7.679638599064891e-06, 'hidden_size': 32, 'ff_size': 93, 'num_blocks': 2, 'activation': 'GELU', 'norm_type': 'TimeBatchNorm2d', 'normalize_before': True, 'loss_fn': 'huber', 'optimizer': 'RMSprop'}\n",
      "\n",
      "Training the model...\n",
      "Train set: 6647 samples\n",
      "Validation set: 1662 samples\n"
     ]
    },
    {
     "name": "stderr",
     "output_type": "stream",
     "text": [
      "[I 2025-05-27 08:40:59,908] Trial 15 pruned. Trial was pruned at epoch 0.\n",
      "GPU available: True (cuda), used: True\n",
      "TPU available: False, using: 0 TPU cores\n",
      "HPU available: False, using: 0 HPUs\n",
      "LOCAL_RANK: 0 - CUDA_VISIBLE_DEVICES: [0]\n"
     ]
    },
    {
     "name": "stdout",
     "output_type": "stream",
     "text": [
      "Current value: 0.1190007301365402, Current params: {'input_chunk_length': 35, 'output_chunk_length': 13, 'dropout': 0.2951141843642233, 'batch_size': 223, 'lr': 3.9025471287159004e-05, 'weight_decay': 7.679638599064891e-06, 'hidden_size': 32, 'ff_size': 93, 'num_blocks': 2, 'activation': 'GELU', 'norm_type': 'TimeBatchNorm2d', 'normalize_before': True, 'loss_fn': 'huber', 'optimizer': 'RMSprop'}\n",
      "Best value: 0.12389559438069492, Best params: {'input_chunk_length': 35, 'output_chunk_length': 17, 'dropout': 0.45791807306649834, 'batch_size': 253, 'lr': 0.0034697576656838765, 'weight_decay': 3.7328033884722536e-06, 'hidden_size': 32, 'ff_size': 116, 'num_blocks': 3, 'activation': 'GELU', 'norm_type': 'TimeBatchNorm2d', 'normalize_before': True, 'loss_fn': 'huber', 'optimizer': 'AdamW'}\n",
      "\n",
      "Starting Trial 16\n",
      "Hyperparameters: {'input_chunk_length': 47, 'output_chunk_length': 17, 'dropout': 0.19282431734976485, 'batch_size': 179, 'lr': 0.0006437004551982021, 'weight_decay': 3.206686222190099e-05, 'hidden_size': 64, 'ff_size': 163, 'num_blocks': 4, 'activation': 'GELU', 'norm_type': 'LayerNorm', 'normalize_before': True, 'loss_fn': 'mse', 'optimizer': 'AdamW'}\n",
      "\n",
      "Training the model...\n",
      "Train set: 6647 samples\n",
      "Validation set: 1662 samples\n"
     ]
    },
    {
     "name": "stderr",
     "output_type": "stream",
     "text": [
      "[I 2025-05-27 08:41:01,500] Trial 16 pruned. Trial was pruned at epoch 0.\n",
      "GPU available: True (cuda), used: True\n",
      "TPU available: False, using: 0 TPU cores\n",
      "HPU available: False, using: 0 HPUs\n",
      "LOCAL_RANK: 0 - CUDA_VISIBLE_DEVICES: [0]\n"
     ]
    },
    {
     "name": "stdout",
     "output_type": "stream",
     "text": [
      "Current value: 0.09097649093425812, Current params: {'input_chunk_length': 47, 'output_chunk_length': 17, 'dropout': 0.19282431734976485, 'batch_size': 179, 'lr': 0.0006437004551982021, 'weight_decay': 3.206686222190099e-05, 'hidden_size': 64, 'ff_size': 163, 'num_blocks': 4, 'activation': 'GELU', 'norm_type': 'LayerNorm', 'normalize_before': True, 'loss_fn': 'mse', 'optimizer': 'AdamW'}\n",
      "Best value: 0.12389559438069492, Best params: {'input_chunk_length': 35, 'output_chunk_length': 17, 'dropout': 0.45791807306649834, 'batch_size': 253, 'lr': 0.0034697576656838765, 'weight_decay': 3.7328033884722536e-06, 'hidden_size': 32, 'ff_size': 116, 'num_blocks': 3, 'activation': 'GELU', 'norm_type': 'TimeBatchNorm2d', 'normalize_before': True, 'loss_fn': 'huber', 'optimizer': 'AdamW'}\n",
      "\n",
      "Starting Trial 17\n",
      "Hyperparameters: {'input_chunk_length': 57, 'output_chunk_length': 24, 'dropout': 0.49927458514883555, 'batch_size': 204, 'lr': 0.0020866598427308016, 'weight_decay': 0.000301486787112442, 'hidden_size': 64, 'ff_size': 135, 'num_blocks': 3, 'activation': 'GELU', 'norm_type': 'TimeBatchNorm2d', 'normalize_before': True, 'loss_fn': 'mae', 'optimizer': 'RMSprop'}\n",
      "\n",
      "Training the model...\n",
      "Train set: 6647 samples\n",
      "Validation set: 1662 samples\n"
     ]
    },
    {
     "name": "stderr",
     "output_type": "stream",
     "text": [
      "[I 2025-05-27 08:41:03,236] Trial 17 pruned. Trial was pruned at epoch 0.\n",
      "GPU available: True (cuda), used: True\n",
      "TPU available: False, using: 0 TPU cores\n",
      "HPU available: False, using: 0 HPUs\n",
      "LOCAL_RANK: 0 - CUDA_VISIBLE_DEVICES: [0]\n"
     ]
    },
    {
     "name": "stdout",
     "output_type": "stream",
     "text": [
      "Current value: 0.2840112641704018, Current params: {'input_chunk_length': 57, 'output_chunk_length': 24, 'dropout': 0.49927458514883555, 'batch_size': 204, 'lr': 0.0020866598427308016, 'weight_decay': 0.000301486787112442, 'hidden_size': 64, 'ff_size': 135, 'num_blocks': 3, 'activation': 'GELU', 'norm_type': 'TimeBatchNorm2d', 'normalize_before': True, 'loss_fn': 'mae', 'optimizer': 'RMSprop'}\n",
      "Best value: 0.12389559438069492, Best params: {'input_chunk_length': 35, 'output_chunk_length': 17, 'dropout': 0.45791807306649834, 'batch_size': 253, 'lr': 0.0034697576656838765, 'weight_decay': 3.7328033884722536e-06, 'hidden_size': 32, 'ff_size': 116, 'num_blocks': 3, 'activation': 'GELU', 'norm_type': 'TimeBatchNorm2d', 'normalize_before': True, 'loss_fn': 'huber', 'optimizer': 'AdamW'}\n",
      "\n",
      "Starting Trial 18\n",
      "Hyperparameters: {'input_chunk_length': 33, 'output_chunk_length': 11, 'dropout': 0.10031862539868276, 'batch_size': 234, 'lr': 0.00036613771407160035, 'weight_decay': 0.002558987958892039, 'hidden_size': 32, 'ff_size': 87, 'num_blocks': 2, 'activation': 'ReLU', 'norm_type': 'LayerNorm', 'normalize_before': False, 'loss_fn': 'smoothl1', 'optimizer': 'SGD'}\n",
      "\n",
      "Training the model...\n",
      "Train set: 6647 samples\n",
      "Validation set: 1662 samples\n"
     ]
    },
    {
     "name": "stderr",
     "output_type": "stream",
     "text": [
      "[I 2025-05-27 08:41:04,500] Trial 18 pruned. Trial was pruned at epoch 0.\n"
     ]
    },
    {
     "name": "stdout",
     "output_type": "stream",
     "text": [
      "Current value: 0.24597818207376262, Current params: {'input_chunk_length': 33, 'output_chunk_length': 11, 'dropout': 0.10031862539868276, 'batch_size': 234, 'lr': 0.00036613771407160035, 'weight_decay': 0.002558987958892039, 'hidden_size': 32, 'ff_size': 87, 'num_blocks': 2, 'activation': 'ReLU', 'norm_type': 'LayerNorm', 'normalize_before': False, 'loss_fn': 'smoothl1', 'optimizer': 'SGD'}\n",
      "Best value: 0.12389559438069492, Best params: {'input_chunk_length': 35, 'output_chunk_length': 17, 'dropout': 0.45791807306649834, 'batch_size': 253, 'lr': 0.0034697576656838765, 'weight_decay': 3.7328033884722536e-06, 'hidden_size': 32, 'ff_size': 116, 'num_blocks': 3, 'activation': 'GELU', 'norm_type': 'TimeBatchNorm2d', 'normalize_before': True, 'loss_fn': 'huber', 'optimizer': 'AdamW'}\n",
      "\n",
      "Starting Trial 19\n",
      "Hyperparameters: {'input_chunk_length': 46, 'output_chunk_length': 15, 'dropout': 0.3910815214535142, 'batch_size': 107, 'lr': 0.0017268141782715632, 'weight_decay': 3.1334440777232586e-06, 'hidden_size': 128, 'ff_size': 315, 'num_blocks': 4, 'activation': 'GELU', 'norm_type': 'LayerNormNoBias', 'normalize_before': True, 'loss_fn': 'huber', 'optimizer': 'RMSprop'}\n",
      "\n",
      "Training the model...\n",
      "Train set: 6647 samples\n",
      "Validation set: 1662 samples\n"
     ]
    },
    {
     "name": "stderr",
     "output_type": "stream",
     "text": [
      "GPU available: True (cuda), used: True\n",
      "TPU available: False, using: 0 TPU cores\n",
      "HPU available: False, using: 0 HPUs\n",
      "LOCAL_RANK: 0 - CUDA_VISIBLE_DEVICES: [0]\n",
      "Metric val_loss improved. New best score: 0.044\n",
      "Metric val_loss improved by 0.010 >= min_delta = 0.0005. New best score: 0.033\n",
      "Metric val_loss improved by 0.003 >= min_delta = 0.0005. New best score: 0.030\n",
      "Metric val_loss improved by 0.002 >= min_delta = 0.0005. New best score: 0.028\n",
      "[I 2025-05-27 08:42:25,092] Trial 19 pruned. Trial was pruned at epoch 20.\n",
      "GPU available: True (cuda), used: True\n",
      "TPU available: False, using: 0 TPU cores\n",
      "HPU available: False, using: 0 HPUs\n",
      "LOCAL_RANK: 0 - CUDA_VISIBLE_DEVICES: [0]\n"
     ]
    },
    {
     "name": "stdout",
     "output_type": "stream",
     "text": [
      "Current value: 0.03677121922351539, Current params: {'input_chunk_length': 46, 'output_chunk_length': 15, 'dropout': 0.3910815214535142, 'batch_size': 107, 'lr': 0.0017268141782715632, 'weight_decay': 3.1334440777232586e-06, 'hidden_size': 128, 'ff_size': 315, 'num_blocks': 4, 'activation': 'GELU', 'norm_type': 'LayerNormNoBias', 'normalize_before': True, 'loss_fn': 'huber', 'optimizer': 'RMSprop'}\n",
      "Best value: 0.12389559438069492, Best params: {'input_chunk_length': 35, 'output_chunk_length': 17, 'dropout': 0.45791807306649834, 'batch_size': 253, 'lr': 0.0034697576656838765, 'weight_decay': 3.7328033884722536e-06, 'hidden_size': 32, 'ff_size': 116, 'num_blocks': 3, 'activation': 'GELU', 'norm_type': 'TimeBatchNorm2d', 'normalize_before': True, 'loss_fn': 'huber', 'optimizer': 'AdamW'}\n",
      "\n",
      "Starting Trial 20\n",
      "Hyperparameters: {'input_chunk_length': 57, 'output_chunk_length': 19, 'dropout': 0.3025886110303129, 'batch_size': 157, 'lr': 6.609597820170895e-05, 'weight_decay': 0.0016634727616572146, 'hidden_size': 32, 'ff_size': 103, 'num_blocks': 3, 'activation': 'GELU', 'norm_type': 'TimeBatchNorm2d', 'normalize_before': True, 'loss_fn': 'huber', 'optimizer': 'AdamW'}\n",
      "\n",
      "Training the model...\n",
      "Train set: 6647 samples\n",
      "Validation set: 1662 samples\n"
     ]
    },
    {
     "name": "stderr",
     "output_type": "stream",
     "text": [
      "[I 2025-05-27 08:42:27,121] Trial 20 pruned. Trial was pruned at epoch 0.\n",
      "GPU available: True (cuda), used: True\n",
      "TPU available: False, using: 0 TPU cores\n",
      "HPU available: False, using: 0 HPUs\n",
      "LOCAL_RANK: 0 - CUDA_VISIBLE_DEVICES: [0]\n"
     ]
    },
    {
     "name": "stdout",
     "output_type": "stream",
     "text": [
      "Current value: 0.15092308581653135, Current params: {'input_chunk_length': 57, 'output_chunk_length': 19, 'dropout': 0.3025886110303129, 'batch_size': 157, 'lr': 6.609597820170895e-05, 'weight_decay': 0.0016634727616572146, 'hidden_size': 32, 'ff_size': 103, 'num_blocks': 3, 'activation': 'GELU', 'norm_type': 'TimeBatchNorm2d', 'normalize_before': True, 'loss_fn': 'huber', 'optimizer': 'AdamW'}\n",
      "Best value: 0.12389559438069492, Best params: {'input_chunk_length': 35, 'output_chunk_length': 17, 'dropout': 0.45791807306649834, 'batch_size': 253, 'lr': 0.0034697576656838765, 'weight_decay': 3.7328033884722536e-06, 'hidden_size': 32, 'ff_size': 116, 'num_blocks': 3, 'activation': 'GELU', 'norm_type': 'TimeBatchNorm2d', 'normalize_before': True, 'loss_fn': 'huber', 'optimizer': 'AdamW'}\n",
      "\n",
      "Starting Trial 21\n",
      "Hyperparameters: {'input_chunk_length': 26, 'output_chunk_length': 3, 'dropout': 0.44142565512702464, 'batch_size': 69, 'lr': 0.0004335038677431737, 'weight_decay': 0.0001245987940396786, 'hidden_size': 32, 'ff_size': 105, 'num_blocks': 2, 'activation': 'ReLU', 'norm_type': 'LayerNorm', 'normalize_before': True, 'loss_fn': 'huber', 'optimizer': 'AdamW'}\n",
      "\n",
      "Training the model...\n",
      "Train set: 6647 samples\n",
      "Validation set: 1662 samples\n"
     ]
    },
    {
     "name": "stderr",
     "output_type": "stream",
     "text": [
      "[I 2025-05-27 08:42:28,781] Trial 21 pruned. Trial was pruned at epoch 0.\n",
      "GPU available: True (cuda), used: True\n",
      "TPU available: False, using: 0 TPU cores\n",
      "HPU available: False, using: 0 HPUs\n",
      "LOCAL_RANK: 0 - CUDA_VISIBLE_DEVICES: [0]\n"
     ]
    },
    {
     "name": "stdout",
     "output_type": "stream",
     "text": [
      "Current value: 0.061230704321614156, Current params: {'input_chunk_length': 26, 'output_chunk_length': 3, 'dropout': 0.44142565512702464, 'batch_size': 69, 'lr': 0.0004335038677431737, 'weight_decay': 0.0001245987940396786, 'hidden_size': 32, 'ff_size': 105, 'num_blocks': 2, 'activation': 'ReLU', 'norm_type': 'LayerNorm', 'normalize_before': True, 'loss_fn': 'huber', 'optimizer': 'AdamW'}\n",
      "Best value: 0.12389559438069492, Best params: {'input_chunk_length': 35, 'output_chunk_length': 17, 'dropout': 0.45791807306649834, 'batch_size': 253, 'lr': 0.0034697576656838765, 'weight_decay': 3.7328033884722536e-06, 'hidden_size': 32, 'ff_size': 116, 'num_blocks': 3, 'activation': 'GELU', 'norm_type': 'TimeBatchNorm2d', 'normalize_before': True, 'loss_fn': 'huber', 'optimizer': 'AdamW'}\n",
      "\n",
      "Starting Trial 22\n",
      "Hyperparameters: {'input_chunk_length': 31, 'output_chunk_length': 6, 'dropout': 0.4252533744219655, 'batch_size': 99, 'lr': 0.0010405950686716075, 'weight_decay': 6.075658398729636e-05, 'hidden_size': 32, 'ff_size': 118, 'num_blocks': 1, 'activation': 'ReLU', 'norm_type': 'LayerNorm', 'normalize_before': True, 'loss_fn': 'huber', 'optimizer': 'AdamW'}\n",
      "\n",
      "Training the model...\n",
      "Train set: 6647 samples\n",
      "Validation set: 1662 samples\n"
     ]
    },
    {
     "name": "stderr",
     "output_type": "stream",
     "text": [
      "Metric val_loss improved. New best score: 0.051\n",
      "Metric val_loss improved by 0.011 >= min_delta = 0.0005. New best score: 0.040\n",
      "Metric val_loss improved by 0.008 >= min_delta = 0.0005. New best score: 0.032\n",
      "Metric val_loss improved by 0.008 >= min_delta = 0.0005. New best score: 0.023\n",
      "Metric val_loss improved by 0.001 >= min_delta = 0.0005. New best score: 0.022\n",
      "Metric val_loss improved by 0.002 >= min_delta = 0.0005. New best score: 0.020\n",
      "Metric val_loss improved by 0.001 >= min_delta = 0.0005. New best score: 0.019\n",
      "Metric val_loss improved by 0.001 >= min_delta = 0.0005. New best score: 0.019\n",
      "Metric val_loss improved by 0.001 >= min_delta = 0.0005. New best score: 0.018\n",
      "Metric val_loss improved by 0.001 >= min_delta = 0.0005. New best score: 0.018\n",
      "Metric val_loss improved by 0.001 >= min_delta = 0.0005. New best score: 0.017\n",
      "`Trainer.fit` stopped: `max_epochs=30` reached.\n",
      "GPU available: True (cuda), used: True\n",
      "TPU available: False, using: 0 TPU cores\n",
      "HPU available: False, using: 0 HPUs\n",
      "LOCAL_RANK: 0 - CUDA_VISIBLE_DEVICES: [0]\n"
     ]
    },
    {
     "name": "stdout",
     "output_type": "stream",
     "text": [
      "Model loaded from checkpoint for trial 22\n"
     ]
    },
    {
     "name": "stderr",
     "output_type": "stream",
     "text": [
      "/home/eduardo/Documentos/Water-Cycle-Neural-Network/venv/lib/python3.12/site-packages/pytorch_lightning/trainer/connectors/data_connector.py:425: The 'predict_dataloader' does not have many workers which may be a bottleneck. Consider increasing the value of the `num_workers` argument` to `num_workers=11` in the `DataLoader` to improve performance.\n",
      "[I 2025-05-27 08:51:59,909] Trial 22 finished with value: 0.11843764954409104 and parameters: {'input_chunk_length': 31, 'output_chunk_length': 6, 'dropout': 0.4252533744219655, 'batch_size': 99, 'lr': 0.0010405950686716075, 'weight_decay': 6.075658398729636e-05, 'hidden_size': 32, 'ff_size': 118, 'num_blocks': 1, 'activation': 'ReLU', 'norm_type': 'LayerNorm', 'normalize_before': True, 'loss_fn': 'huber', 'optimizer': 'AdamW'}. Best is trial 22 with value: 0.11843764954409104.\n",
      "GPU available: True (cuda), used: True\n",
      "TPU available: False, using: 0 TPU cores\n",
      "HPU available: False, using: 0 HPUs\n",
      "LOCAL_RANK: 0 - CUDA_VISIBLE_DEVICES: [0]\n"
     ]
    },
    {
     "name": "stdout",
     "output_type": "stream",
     "text": [
      "Starting time series verification for consistency...\n",
      "\n",
      "Performance metrics:\n",
      "                                    MSE        RMSE         MAE         R2  \\\n",
      "Temperature                    6.253294    2.500659    1.938464   0.795253   \n",
      "Precipitation_accumulated     87.237900    9.340123    8.104149 -24.695096   \n",
      "Humidity                      65.752360    8.108783    6.365485   0.552026   \n",
      "Wind_Speed_kmh                 1.220897    1.104942    0.879536   0.094277   \n",
      "Soil_Moisture              60105.613774  245.164463  221.052968  -0.082331   \n",
      "Soil_Temperature               6.752823    2.598619    2.157633   0.581026   \n",
      "Wind_Dir_Sin                   0.622292    0.788855    0.662165  -0.129939   \n",
      "Wind_Dir_Cos                   0.392393    0.626412    0.528056  -0.070027   \n",
      "\n",
      "                                SMAPE  \n",
      "Temperature                 31.327011  \n",
      "Precipitation_accumulated    1.762931  \n",
      "Humidity                     7.549091  \n",
      "Wind_Speed_kmh              72.675534  \n",
      "Soil_Moisture                2.609835  \n",
      "Soil_Temperature            41.008799  \n",
      "Wind_Dir_Sin               130.401327  \n",
      "Wind_Dir_Cos               130.842696  \n",
      "The MAE for this fold was 0.11843764954409104\n",
      "Results of trial 22 saved in optuna_iteration_metrics/trial_22.json\n",
      "Current value: 0.11843764954409104, Current params: {'input_chunk_length': 31, 'output_chunk_length': 6, 'dropout': 0.4252533744219655, 'batch_size': 99, 'lr': 0.0010405950686716075, 'weight_decay': 6.075658398729636e-05, 'hidden_size': 32, 'ff_size': 118, 'num_blocks': 1, 'activation': 'ReLU', 'norm_type': 'LayerNorm', 'normalize_before': True, 'loss_fn': 'huber', 'optimizer': 'AdamW'}\n",
      "Best value: 0.11843764954409104, Best params: {'input_chunk_length': 31, 'output_chunk_length': 6, 'dropout': 0.4252533744219655, 'batch_size': 99, 'lr': 0.0010405950686716075, 'weight_decay': 6.075658398729636e-05, 'hidden_size': 32, 'ff_size': 118, 'num_blocks': 1, 'activation': 'ReLU', 'norm_type': 'LayerNorm', 'normalize_before': True, 'loss_fn': 'huber', 'optimizer': 'AdamW'}\n",
      "\n",
      "Starting Trial 23\n",
      "Hyperparameters: {'input_chunk_length': 37, 'output_chunk_length': 8, 'dropout': 0.40471472185520035, 'batch_size': 113, 'lr': 0.0017657318337414875, 'weight_decay': 1.3934443339565387e-05, 'hidden_size': 32, 'ff_size': 77, 'num_blocks': 1, 'activation': 'ReLU', 'norm_type': 'LayerNorm', 'normalize_before': True, 'loss_fn': 'huber', 'optimizer': 'AdamW'}\n",
      "\n",
      "Training the model...\n",
      "Train set: 6647 samples\n",
      "Validation set: 1662 samples\n"
     ]
    },
    {
     "name": "stderr",
     "output_type": "stream",
     "text": [
      "Metric val_loss improved. New best score: 0.045\n",
      "Metric val_loss improved by 0.007 >= min_delta = 0.0005. New best score: 0.038\n",
      "Metric val_loss improved by 0.008 >= min_delta = 0.0005. New best score: 0.030\n",
      "Metric val_loss improved by 0.005 >= min_delta = 0.0005. New best score: 0.025\n",
      "Metric val_loss improved by 0.003 >= min_delta = 0.0005. New best score: 0.022\n",
      "Metric val_loss improved by 0.001 >= min_delta = 0.0005. New best score: 0.021\n",
      "Metric val_loss improved by 0.001 >= min_delta = 0.0005. New best score: 0.020\n",
      "Metric val_loss improved by 0.001 >= min_delta = 0.0005. New best score: 0.019\n",
      "Metric val_loss improved by 0.001 >= min_delta = 0.0005. New best score: 0.019\n",
      "Metric val_loss improved by 0.001 >= min_delta = 0.0005. New best score: 0.018\n",
      "Metric val_loss improved by 0.001 >= min_delta = 0.0005. New best score: 0.017\n",
      "Monitored metric val_loss did not improve in the last 15 records. Best score: 0.017. Signaling Trainer to stop.\n",
      "`Trainer.fit` stopped: `max_epochs=30` reached.\n",
      "GPU available: True (cuda), used: True\n",
      "TPU available: False, using: 0 TPU cores\n",
      "HPU available: False, using: 0 HPUs\n",
      "LOCAL_RANK: 0 - CUDA_VISIBLE_DEVICES: [0]\n"
     ]
    },
    {
     "name": "stdout",
     "output_type": "stream",
     "text": [
      "Model loaded from checkpoint for trial 23\n"
     ]
    },
    {
     "name": "stderr",
     "output_type": "stream",
     "text": [
      "/home/eduardo/Documentos/Water-Cycle-Neural-Network/venv/lib/python3.12/site-packages/pytorch_lightning/trainer/connectors/data_connector.py:425: The 'predict_dataloader' does not have many workers which may be a bottleneck. Consider increasing the value of the `num_workers` argument` to `num_workers=11` in the `DataLoader` to improve performance.\n",
      "[I 2025-05-27 08:52:27,754] Trial 23 finished with value: 0.12332669421730759 and parameters: {'input_chunk_length': 37, 'output_chunk_length': 8, 'dropout': 0.40471472185520035, 'batch_size': 113, 'lr': 0.0017657318337414875, 'weight_decay': 1.3934443339565387e-05, 'hidden_size': 32, 'ff_size': 77, 'num_blocks': 1, 'activation': 'ReLU', 'norm_type': 'LayerNorm', 'normalize_before': True, 'loss_fn': 'huber', 'optimizer': 'AdamW'}. Best is trial 22 with value: 0.11843764954409104.\n",
      "GPU available: True (cuda), used: True\n",
      "TPU available: False, using: 0 TPU cores\n",
      "HPU available: False, using: 0 HPUs\n",
      "LOCAL_RANK: 0 - CUDA_VISIBLE_DEVICES: [0]\n"
     ]
    },
    {
     "name": "stdout",
     "output_type": "stream",
     "text": [
      "Starting time series verification for consistency...\n",
      "\n",
      "Performance metrics:\n",
      "                                    MSE        RMSE         MAE         R2  \\\n",
      "Temperature                    7.321540    2.705834    2.103253   0.760245   \n",
      "Precipitation_accumulated    169.255841   13.009836   11.687842 -49.489197   \n",
      "Humidity                      80.283173    8.960088    7.037921   0.452676   \n",
      "Wind_Speed_kmh                 1.237650    1.112497    0.891074   0.081317   \n",
      "Soil_Moisture              66061.413736  257.024150  214.004584  -0.227851   \n",
      "Soil_Temperature               9.614110    3.100663    2.640888   0.403702   \n",
      "Wind_Dir_Sin                   0.620705    0.787849    0.685064  -0.125352   \n",
      "Wind_Dir_Cos                   0.370703    0.608854    0.523891  -0.011439   \n",
      "\n",
      "                                SMAPE  \n",
      "Temperature                 34.554917  \n",
      "Precipitation_accumulated    2.555498  \n",
      "Humidity                     8.386682  \n",
      "Wind_Speed_kmh              72.668799  \n",
      "Soil_Moisture                2.535798  \n",
      "Soil_Temperature            51.047574  \n",
      "Wind_Dir_Sin               141.271893  \n",
      "Wind_Dir_Cos               136.553491  \n",
      "The MAE for this fold was 0.12332669421730759\n",
      "Results of trial 23 saved in optuna_iteration_metrics/trial_23.json\n",
      "Current value: 0.12332669421730759, Current params: {'input_chunk_length': 37, 'output_chunk_length': 8, 'dropout': 0.40471472185520035, 'batch_size': 113, 'lr': 0.0017657318337414875, 'weight_decay': 1.3934443339565387e-05, 'hidden_size': 32, 'ff_size': 77, 'num_blocks': 1, 'activation': 'ReLU', 'norm_type': 'LayerNorm', 'normalize_before': True, 'loss_fn': 'huber', 'optimizer': 'AdamW'}\n",
      "Best value: 0.11843764954409104, Best params: {'input_chunk_length': 31, 'output_chunk_length': 6, 'dropout': 0.4252533744219655, 'batch_size': 99, 'lr': 0.0010405950686716075, 'weight_decay': 6.075658398729636e-05, 'hidden_size': 32, 'ff_size': 118, 'num_blocks': 1, 'activation': 'ReLU', 'norm_type': 'LayerNorm', 'normalize_before': True, 'loss_fn': 'huber', 'optimizer': 'AdamW'}\n",
      "\n",
      "Starting Trial 24\n",
      "Hyperparameters: {'input_chunk_length': 35, 'output_chunk_length': 6, 'dropout': 0.40343578486753445, 'batch_size': 100, 'lr': 0.0022702219748416998, 'weight_decay': 1.062491223914797e-05, 'hidden_size': 32, 'ff_size': 69, 'num_blocks': 1, 'activation': 'ReLU', 'norm_type': 'LayerNorm', 'normalize_before': True, 'loss_fn': 'huber', 'optimizer': 'AdamW'}\n",
      "\n",
      "Training the model...\n",
      "Train set: 6647 samples\n",
      "Validation set: 1662 samples\n"
     ]
    },
    {
     "name": "stderr",
     "output_type": "stream",
     "text": [
      "Metric val_loss improved. New best score: 0.034\n",
      "Metric val_loss improved by 0.011 >= min_delta = 0.0005. New best score: 0.023\n",
      "Metric val_loss improved by 0.002 >= min_delta = 0.0005. New best score: 0.021\n",
      "Metric val_loss improved by 0.001 >= min_delta = 0.0005. New best score: 0.020\n",
      "Metric val_loss improved by 0.002 >= min_delta = 0.0005. New best score: 0.018\n",
      "Metric val_loss improved by 0.001 >= min_delta = 0.0005. New best score: 0.018\n",
      "Metric val_loss improved by 0.001 >= min_delta = 0.0005. New best score: 0.017\n",
      "Monitored metric val_loss did not improve in the last 15 records. Best score: 0.017. Signaling Trainer to stop.\n",
      "GPU available: True (cuda), used: True\n",
      "TPU available: False, using: 0 TPU cores\n",
      "HPU available: False, using: 0 HPUs\n",
      "LOCAL_RANK: 0 - CUDA_VISIBLE_DEVICES: [0]\n"
     ]
    },
    {
     "name": "stdout",
     "output_type": "stream",
     "text": [
      "Model loaded from checkpoint for trial 24\n"
     ]
    },
    {
     "name": "stderr",
     "output_type": "stream",
     "text": [
      "/home/eduardo/Documentos/Water-Cycle-Neural-Network/venv/lib/python3.12/site-packages/pytorch_lightning/trainer/connectors/data_connector.py:425: The 'predict_dataloader' does not have many workers which may be a bottleneck. Consider increasing the value of the `num_workers` argument` to `num_workers=11` in the `DataLoader` to improve performance.\n",
      "[I 2025-05-27 08:52:52,000] Trial 24 finished with value: 0.11609817373134607 and parameters: {'input_chunk_length': 35, 'output_chunk_length': 6, 'dropout': 0.40343578486753445, 'batch_size': 100, 'lr': 0.0022702219748416998, 'weight_decay': 1.062491223914797e-05, 'hidden_size': 32, 'ff_size': 69, 'num_blocks': 1, 'activation': 'ReLU', 'norm_type': 'LayerNorm', 'normalize_before': True, 'loss_fn': 'huber', 'optimizer': 'AdamW'}. Best is trial 24 with value: 0.11609817373134607.\n",
      "GPU available: True (cuda), used: True\n",
      "TPU available: False, using: 0 TPU cores\n",
      "HPU available: False, using: 0 HPUs\n",
      "LOCAL_RANK: 0 - CUDA_VISIBLE_DEVICES: [0]\n"
     ]
    },
    {
     "name": "stdout",
     "output_type": "stream",
     "text": [
      "Starting time series verification for consistency...\n",
      "\n",
      "Performance metrics:\n",
      "                                    MSE        RMSE         MAE         R2  \\\n",
      "Temperature                    6.453530    2.540380    1.986014   0.788861   \n",
      "Precipitation_accumulated     55.537852    7.452372    6.021061 -15.461296   \n",
      "Humidity                      65.658244    8.102977    6.275436   0.552527   \n",
      "Wind_Speed_kmh                 1.249925    1.118000    0.888595   0.072817   \n",
      "Soil_Moisture              36423.196638  190.848622  157.309584   0.332638   \n",
      "Soil_Temperature               5.029086    2.242562    1.895936   0.688268   \n",
      "Wind_Dir_Sin                   0.606266    0.778631    0.667101  -0.098839   \n",
      "Wind_Dir_Cos                   0.387492    0.622489    0.530755  -0.057783   \n",
      "\n",
      "                                SMAPE  \n",
      "Temperature                 31.897107  \n",
      "Precipitation_accumulated    1.305774  \n",
      "Humidity                     7.468490  \n",
      "Wind_Speed_kmh              72.980654  \n",
      "Soil_Moisture                1.846326  \n",
      "Soil_Temperature            38.798095  \n",
      "Wind_Dir_Sin               135.605574  \n",
      "Wind_Dir_Cos               135.695222  \n",
      "The MAE for this fold was 0.11609817373134607\n",
      "Results of trial 24 saved in optuna_iteration_metrics/trial_24.json\n",
      "Current value: 0.11609817373134607, Current params: {'input_chunk_length': 35, 'output_chunk_length': 6, 'dropout': 0.40343578486753445, 'batch_size': 100, 'lr': 0.0022702219748416998, 'weight_decay': 1.062491223914797e-05, 'hidden_size': 32, 'ff_size': 69, 'num_blocks': 1, 'activation': 'ReLU', 'norm_type': 'LayerNorm', 'normalize_before': True, 'loss_fn': 'huber', 'optimizer': 'AdamW'}\n",
      "Best value: 0.11609817373134607, Best params: {'input_chunk_length': 35, 'output_chunk_length': 6, 'dropout': 0.40343578486753445, 'batch_size': 100, 'lr': 0.0022702219748416998, 'weight_decay': 1.062491223914797e-05, 'hidden_size': 32, 'ff_size': 69, 'num_blocks': 1, 'activation': 'ReLU', 'norm_type': 'LayerNorm', 'normalize_before': True, 'loss_fn': 'huber', 'optimizer': 'AdamW'}\n",
      "\n",
      "Starting Trial 25\n",
      "Hyperparameters: {'input_chunk_length': 39, 'output_chunk_length': 6, 'dropout': 0.40374505748384903, 'batch_size': 98, 'lr': 0.0018546984121753428, 'weight_decay': 1.2487964538465055e-05, 'hidden_size': 32, 'ff_size': 67, 'num_blocks': 1, 'activation': 'ReLU', 'norm_type': 'LayerNorm', 'normalize_before': True, 'loss_fn': 'huber', 'optimizer': 'AdamW'}\n",
      "\n",
      "Training the model...\n",
      "Train set: 6647 samples\n",
      "Validation set: 1662 samples\n"
     ]
    },
    {
     "name": "stderr",
     "output_type": "stream",
     "text": [
      "Metric val_loss improved. New best score: 0.049\n",
      "Metric val_loss improved by 0.018 >= min_delta = 0.0005. New best score: 0.031\n",
      "Metric val_loss improved by 0.006 >= min_delta = 0.0005. New best score: 0.025\n",
      "Metric val_loss improved by 0.003 >= min_delta = 0.0005. New best score: 0.022\n",
      "Metric val_loss improved by 0.002 >= min_delta = 0.0005. New best score: 0.020\n",
      "Metric val_loss improved by 0.001 >= min_delta = 0.0005. New best score: 0.019\n",
      "Metric val_loss improved by 0.001 >= min_delta = 0.0005. New best score: 0.018\n",
      "Metric val_loss improved by 0.001 >= min_delta = 0.0005. New best score: 0.018\n",
      "Metric val_loss improved by 0.001 >= min_delta = 0.0005. New best score: 0.017\n",
      "Metric val_loss improved by 0.001 >= min_delta = 0.0005. New best score: 0.016\n",
      "`Trainer.fit` stopped: `max_epochs=30` reached.\n",
      "GPU available: True (cuda), used: True\n",
      "TPU available: False, using: 0 TPU cores\n",
      "HPU available: False, using: 0 HPUs\n",
      "LOCAL_RANK: 0 - CUDA_VISIBLE_DEVICES: [0]\n"
     ]
    },
    {
     "name": "stdout",
     "output_type": "stream",
     "text": [
      "Model loaded from checkpoint for trial 25\n"
     ]
    },
    {
     "name": "stderr",
     "output_type": "stream",
     "text": [
      "/home/eduardo/Documentos/Water-Cycle-Neural-Network/venv/lib/python3.12/site-packages/pytorch_lightning/trainer/connectors/data_connector.py:425: The 'predict_dataloader' does not have many workers which may be a bottleneck. Consider increasing the value of the `num_workers` argument` to `num_workers=11` in the `DataLoader` to improve performance.\n",
      "[I 2025-05-27 08:53:21,022] Trial 25 finished with value: 0.11820305332418918 and parameters: {'input_chunk_length': 39, 'output_chunk_length': 6, 'dropout': 0.40374505748384903, 'batch_size': 98, 'lr': 0.0018546984121753428, 'weight_decay': 1.2487964538465055e-05, 'hidden_size': 32, 'ff_size': 67, 'num_blocks': 1, 'activation': 'ReLU', 'norm_type': 'LayerNorm', 'normalize_before': True, 'loss_fn': 'huber', 'optimizer': 'AdamW'}. Best is trial 24 with value: 0.11609817373134607.\n",
      "GPU available: True (cuda), used: True\n",
      "TPU available: False, using: 0 TPU cores\n",
      "HPU available: False, using: 0 HPUs\n",
      "LOCAL_RANK: 0 - CUDA_VISIBLE_DEVICES: [0]\n"
     ]
    },
    {
     "name": "stdout",
     "output_type": "stream",
     "text": [
      "Starting time series verification for consistency...\n",
      "\n",
      "Performance metrics:\n",
      "                                    MSE        RMSE         MAE         R2  \\\n",
      "Temperature                    6.441812    2.538073    1.928211   0.789053   \n",
      "Precipitation_accumulated    130.760310   11.435047   10.558528 -38.005939   \n",
      "Humidity                      69.692511    8.348204    6.393813   0.524877   \n",
      "Wind_Speed_kmh                 1.240882    1.113949    0.889908   0.078918   \n",
      "Soil_Moisture              32352.183455  179.867127  148.889466   0.398686   \n",
      "Soil_Temperature               8.812814    2.968638    2.408354   0.453401   \n",
      "Wind_Dir_Sin                   0.601691    0.775687    0.667380  -0.090878   \n",
      "Wind_Dir_Cos                   0.391791    0.625932    0.527429  -0.068974   \n",
      "\n",
      "                                SMAPE  \n",
      "Temperature                 31.272141  \n",
      "Precipitation_accumulated    2.303154  \n",
      "Humidity                     7.633724  \n",
      "Wind_Speed_kmh              72.323200  \n",
      "Soil_Moisture                1.752886  \n",
      "Soil_Temperature            44.882439  \n",
      "Wind_Dir_Sin               137.281209  \n",
      "Wind_Dir_Cos               131.452364  \n",
      "The MAE for this fold was 0.11820305332418918\n",
      "Results of trial 25 saved in optuna_iteration_metrics/trial_25.json\n",
      "Current value: 0.11820305332418918, Current params: {'input_chunk_length': 39, 'output_chunk_length': 6, 'dropout': 0.40374505748384903, 'batch_size': 98, 'lr': 0.0018546984121753428, 'weight_decay': 1.2487964538465055e-05, 'hidden_size': 32, 'ff_size': 67, 'num_blocks': 1, 'activation': 'ReLU', 'norm_type': 'LayerNorm', 'normalize_before': True, 'loss_fn': 'huber', 'optimizer': 'AdamW'}\n",
      "Best value: 0.11609817373134607, Best params: {'input_chunk_length': 35, 'output_chunk_length': 6, 'dropout': 0.40343578486753445, 'batch_size': 100, 'lr': 0.0022702219748416998, 'weight_decay': 1.062491223914797e-05, 'hidden_size': 32, 'ff_size': 69, 'num_blocks': 1, 'activation': 'ReLU', 'norm_type': 'LayerNorm', 'normalize_before': True, 'loss_fn': 'huber', 'optimizer': 'AdamW'}\n",
      "\n",
      "Starting Trial 26\n",
      "Hyperparameters: {'input_chunk_length': 40, 'output_chunk_length': 5, 'dropout': 0.364123921195744, 'batch_size': 90, 'lr': 0.0007312479094783981, 'weight_decay': 3.549362000746251e-05, 'hidden_size': 32, 'ff_size': 66, 'num_blocks': 1, 'activation': 'ReLU', 'norm_type': 'LayerNorm', 'normalize_before': False, 'loss_fn': 'huber', 'optimizer': 'AdamW'}\n",
      "\n",
      "Training the model...\n",
      "Train set: 6647 samples\n",
      "Validation set: 1662 samples\n"
     ]
    },
    {
     "name": "stderr",
     "output_type": "stream",
     "text": [
      "[I 2025-05-27 08:53:22,381] Trial 26 pruned. Trial was pruned at epoch 0.\n",
      "GPU available: True (cuda), used: True\n",
      "TPU available: False, using: 0 TPU cores\n",
      "HPU available: False, using: 0 HPUs\n",
      "LOCAL_RANK: 0 - CUDA_VISIBLE_DEVICES: [0]\n"
     ]
    },
    {
     "name": "stdout",
     "output_type": "stream",
     "text": [
      "Current value: 0.05038763250884261, Current params: {'input_chunk_length': 40, 'output_chunk_length': 5, 'dropout': 0.364123921195744, 'batch_size': 90, 'lr': 0.0007312479094783981, 'weight_decay': 3.549362000746251e-05, 'hidden_size': 32, 'ff_size': 66, 'num_blocks': 1, 'activation': 'ReLU', 'norm_type': 'LayerNorm', 'normalize_before': False, 'loss_fn': 'huber', 'optimizer': 'AdamW'}\n",
      "Best value: 0.11609817373134607, Best params: {'input_chunk_length': 35, 'output_chunk_length': 6, 'dropout': 0.40343578486753445, 'batch_size': 100, 'lr': 0.0022702219748416998, 'weight_decay': 1.062491223914797e-05, 'hidden_size': 32, 'ff_size': 69, 'num_blocks': 1, 'activation': 'ReLU', 'norm_type': 'LayerNorm', 'normalize_before': True, 'loss_fn': 'huber', 'optimizer': 'AdamW'}\n",
      "\n",
      "Starting Trial 27\n",
      "Hyperparameters: {'input_chunk_length': 31, 'output_chunk_length': 1, 'dropout': 0.41708145323619283, 'batch_size': 116, 'lr': 1.3376300953926555e-05, 'weight_decay': 9.377286524589164e-06, 'hidden_size': 32, 'ff_size': 53, 'num_blocks': 1, 'activation': 'ReLU', 'norm_type': 'LayerNorm', 'normalize_before': True, 'loss_fn': 'huber', 'optimizer': 'AdamW'}\n",
      "\n",
      "Training the model...\n",
      "Train set: 6647 samples\n",
      "Validation set: 1662 samples\n"
     ]
    },
    {
     "name": "stderr",
     "output_type": "stream",
     "text": [
      "[I 2025-05-27 08:53:23,676] Trial 27 pruned. Trial was pruned at epoch 0.\n",
      "GPU available: True (cuda), used: True\n",
      "TPU available: False, using: 0 TPU cores\n",
      "HPU available: False, using: 0 HPUs\n",
      "LOCAL_RANK: 0 - CUDA_VISIBLE_DEVICES: [0]\n"
     ]
    },
    {
     "name": "stdout",
     "output_type": "stream",
     "text": [
      "Current value: 0.1502614599433654, Current params: {'input_chunk_length': 31, 'output_chunk_length': 1, 'dropout': 0.41708145323619283, 'batch_size': 116, 'lr': 1.3376300953926555e-05, 'weight_decay': 9.377286524589164e-06, 'hidden_size': 32, 'ff_size': 53, 'num_blocks': 1, 'activation': 'ReLU', 'norm_type': 'LayerNorm', 'normalize_before': True, 'loss_fn': 'huber', 'optimizer': 'AdamW'}\n",
      "Best value: 0.11609817373134607, Best params: {'input_chunk_length': 35, 'output_chunk_length': 6, 'dropout': 0.40343578486753445, 'batch_size': 100, 'lr': 0.0022702219748416998, 'weight_decay': 1.062491223914797e-05, 'hidden_size': 32, 'ff_size': 69, 'num_blocks': 1, 'activation': 'ReLU', 'norm_type': 'LayerNorm', 'normalize_before': True, 'loss_fn': 'huber', 'optimizer': 'AdamW'}\n",
      "\n",
      "Starting Trial 28\n",
      "Hyperparameters: {'input_chunk_length': 42, 'output_chunk_length': 6, 'dropout': 0.3373181112783429, 'batch_size': 149, 'lr': 0.00028414097636348165, 'weight_decay': 5.896841831636601e-05, 'hidden_size': 32, 'ff_size': 67, 'num_blocks': 1, 'activation': 'ReLU', 'norm_type': 'LayerNorm', 'normalize_before': True, 'loss_fn': 'huber', 'optimizer': 'AdamW'}\n",
      "\n",
      "Training the model...\n",
      "Train set: 6647 samples\n",
      "Validation set: 1662 samples\n"
     ]
    },
    {
     "name": "stderr",
     "output_type": "stream",
     "text": [
      "[I 2025-05-27 08:53:25,005] Trial 28 pruned. Trial was pruned at epoch 0.\n"
     ]
    },
    {
     "name": "stdout",
     "output_type": "stream",
     "text": [
      "Current value: 0.05504726436492752, Current params: {'input_chunk_length': 42, 'output_chunk_length': 6, 'dropout': 0.3373181112783429, 'batch_size': 149, 'lr': 0.00028414097636348165, 'weight_decay': 5.896841831636601e-05, 'hidden_size': 32, 'ff_size': 67, 'num_blocks': 1, 'activation': 'ReLU', 'norm_type': 'LayerNorm', 'normalize_before': True, 'loss_fn': 'huber', 'optimizer': 'AdamW'}\n",
      "Best value: 0.11609817373134607, Best params: {'input_chunk_length': 35, 'output_chunk_length': 6, 'dropout': 0.40343578486753445, 'batch_size': 100, 'lr': 0.0022702219748416998, 'weight_decay': 1.062491223914797e-05, 'hidden_size': 32, 'ff_size': 69, 'num_blocks': 1, 'activation': 'ReLU', 'norm_type': 'LayerNorm', 'normalize_before': True, 'loss_fn': 'huber', 'optimizer': 'AdamW'}\n",
      "\n",
      "Starting Trial 29\n",
      "Hyperparameters: {'input_chunk_length': 31, 'output_chunk_length': 8, 'dropout': 0.37348617433497044, 'batch_size': 93, 'lr': 0.004909618343985121, 'weight_decay': 1.9190830940617218e-05, 'hidden_size': 32, 'ff_size': 41, 'num_blocks': 1, 'activation': 'ReLU', 'norm_type': 'LayerNormNoBias', 'normalize_before': True, 'loss_fn': 'mae', 'optimizer': 'SGD'}\n",
      "\n",
      "Training the model...\n",
      "Train set: 6647 samples\n",
      "Validation set: 1662 samples\n"
     ]
    },
    {
     "name": "stderr",
     "output_type": "stream",
     "text": [
      "GPU available: True (cuda), used: True\n",
      "TPU available: False, using: 0 TPU cores\n",
      "HPU available: False, using: 0 HPUs\n",
      "LOCAL_RANK: 0 - CUDA_VISIBLE_DEVICES: [0]\n",
      "[I 2025-05-27 08:54:11,452] Trial 29 pruned. Trial was pruned at epoch 0.\n",
      "GPU available: True (cuda), used: True\n",
      "TPU available: False, using: 0 TPU cores\n",
      "HPU available: False, using: 0 HPUs\n",
      "LOCAL_RANK: 0 - CUDA_VISIBLE_DEVICES: [0]\n"
     ]
    },
    {
     "name": "stdout",
     "output_type": "stream",
     "text": [
      "Current value: 0.25003761441583733, Current params: {'input_chunk_length': 31, 'output_chunk_length': 8, 'dropout': 0.37348617433497044, 'batch_size': 93, 'lr': 0.004909618343985121, 'weight_decay': 1.9190830940617218e-05, 'hidden_size': 32, 'ff_size': 41, 'num_blocks': 1, 'activation': 'ReLU', 'norm_type': 'LayerNormNoBias', 'normalize_before': True, 'loss_fn': 'mae', 'optimizer': 'SGD'}\n",
      "Best value: 0.11609817373134607, Best params: {'input_chunk_length': 35, 'output_chunk_length': 6, 'dropout': 0.40343578486753445, 'batch_size': 100, 'lr': 0.0022702219748416998, 'weight_decay': 1.062491223914797e-05, 'hidden_size': 32, 'ff_size': 69, 'num_blocks': 1, 'activation': 'ReLU', 'norm_type': 'LayerNorm', 'normalize_before': True, 'loss_fn': 'huber', 'optimizer': 'AdamW'}\n",
      "\n",
      "Starting Trial 30\n",
      "Hyperparameters: {'input_chunk_length': 27, 'output_chunk_length': 6, 'dropout': 0.31044574036320133, 'batch_size': 118, 'lr': 0.002006516959165244, 'weight_decay': 7.253672411774259e-06, 'hidden_size': 32, 'ff_size': 45, 'num_blocks': 1, 'activation': 'ReLU', 'norm_type': 'LayerNorm', 'normalize_before': True, 'loss_fn': 'huber', 'optimizer': 'AdamW'}\n",
      "\n",
      "Training the model...\n",
      "Train set: 6647 samples\n",
      "Validation set: 1662 samples\n"
     ]
    },
    {
     "name": "stderr",
     "output_type": "stream",
     "text": [
      "Metric val_loss improved. New best score: 0.046\n",
      "Metric val_loss improved by 0.014 >= min_delta = 0.0005. New best score: 0.032\n",
      "Metric val_loss improved by 0.007 >= min_delta = 0.0005. New best score: 0.025\n",
      "Metric val_loss improved by 0.003 >= min_delta = 0.0005. New best score: 0.021\n",
      "Metric val_loss improved by 0.002 >= min_delta = 0.0005. New best score: 0.019\n",
      "Metric val_loss improved by 0.001 >= min_delta = 0.0005. New best score: 0.018\n",
      "Metric val_loss improved by 0.001 >= min_delta = 0.0005. New best score: 0.017\n",
      "Metric val_loss improved by 0.001 >= min_delta = 0.0005. New best score: 0.016\n",
      "`Trainer.fit` stopped: `max_epochs=30` reached.\n",
      "GPU available: True (cuda), used: True\n",
      "TPU available: False, using: 0 TPU cores\n",
      "HPU available: False, using: 0 HPUs\n",
      "LOCAL_RANK: 0 - CUDA_VISIBLE_DEVICES: [0]\n"
     ]
    },
    {
     "name": "stdout",
     "output_type": "stream",
     "text": [
      "Model loaded from checkpoint for trial 30\n"
     ]
    },
    {
     "name": "stderr",
     "output_type": "stream",
     "text": [
      "/home/eduardo/Documentos/Water-Cycle-Neural-Network/venv/lib/python3.12/site-packages/pytorch_lightning/trainer/connectors/data_connector.py:425: The 'predict_dataloader' does not have many workers which may be a bottleneck. Consider increasing the value of the `num_workers` argument` to `num_workers=11` in the `DataLoader` to improve performance.\n",
      "[I 2025-05-27 08:56:55,722] Trial 30 finished with value: 0.11378436171707063 and parameters: {'input_chunk_length': 27, 'output_chunk_length': 6, 'dropout': 0.31044574036320133, 'batch_size': 118, 'lr': 0.002006516959165244, 'weight_decay': 7.253672411774259e-06, 'hidden_size': 32, 'ff_size': 45, 'num_blocks': 1, 'activation': 'ReLU', 'norm_type': 'LayerNorm', 'normalize_before': True, 'loss_fn': 'huber', 'optimizer': 'AdamW'}. Best is trial 30 with value: 0.11378436171707063.\n",
      "GPU available: True (cuda), used: True\n",
      "TPU available: False, using: 0 TPU cores\n",
      "HPU available: False, using: 0 HPUs\n",
      "LOCAL_RANK: 0 - CUDA_VISIBLE_DEVICES: [0]\n"
     ]
    },
    {
     "name": "stdout",
     "output_type": "stream",
     "text": [
      "Starting time series verification for consistency...\n",
      "\n",
      "Performance metrics:\n",
      "                                    MSE        RMSE         MAE         R2  \\\n",
      "Temperature                    6.081039    2.465976    1.949665   0.800442   \n",
      "Precipitation_accumulated     86.532665    9.302294    8.895617 -24.330510   \n",
      "Humidity                      60.717945    7.792172    6.047947   0.585563   \n",
      "Wind_Speed_kmh                 1.270570    1.127196    0.881419   0.057203   \n",
      "Soil_Moisture              19815.207008  140.766498  105.983535   0.649627   \n",
      "Soil_Temperature               4.464059    2.112832    1.725450   0.722649   \n",
      "Wind_Dir_Sin                   0.602386    0.776135    0.661109  -0.094017   \n",
      "Wind_Dir_Cos                   0.399260    0.631871    0.526045  -0.089389   \n",
      "\n",
      "                                SMAPE  \n",
      "Temperature                 31.633518  \n",
      "Precipitation_accumulated    1.934176  \n",
      "Humidity                     7.151360  \n",
      "Wind_Speed_kmh              73.463250  \n",
      "Soil_Moisture                1.240734  \n",
      "Soil_Temperature            34.047831  \n",
      "Wind_Dir_Sin               133.783445  \n",
      "Wind_Dir_Cos               128.230857  \n",
      "The MAE for this fold was 0.11378436171707063\n",
      "Results of trial 30 saved in optuna_iteration_metrics/trial_30.json\n",
      "Current value: 0.11378436171707063, Current params: {'input_chunk_length': 27, 'output_chunk_length': 6, 'dropout': 0.31044574036320133, 'batch_size': 118, 'lr': 0.002006516959165244, 'weight_decay': 7.253672411774259e-06, 'hidden_size': 32, 'ff_size': 45, 'num_blocks': 1, 'activation': 'ReLU', 'norm_type': 'LayerNorm', 'normalize_before': True, 'loss_fn': 'huber', 'optimizer': 'AdamW'}\n",
      "Best value: 0.11378436171707063, Best params: {'input_chunk_length': 27, 'output_chunk_length': 6, 'dropout': 0.31044574036320133, 'batch_size': 118, 'lr': 0.002006516959165244, 'weight_decay': 7.253672411774259e-06, 'hidden_size': 32, 'ff_size': 45, 'num_blocks': 1, 'activation': 'ReLU', 'norm_type': 'LayerNorm', 'normalize_before': True, 'loss_fn': 'huber', 'optimizer': 'AdamW'}\n",
      "\n",
      "Starting Trial 31\n",
      "Hyperparameters: {'input_chunk_length': 28, 'output_chunk_length': 6, 'dropout': 0.3813867799490145, 'batch_size': 123, 'lr': 0.00225144641395415, 'weight_decay': 7.276521829892213e-06, 'hidden_size': 32, 'ff_size': 35, 'num_blocks': 1, 'activation': 'ReLU', 'norm_type': 'LayerNorm', 'normalize_before': True, 'loss_fn': 'huber', 'optimizer': 'AdamW'}\n",
      "\n",
      "Training the model...\n",
      "Train set: 6647 samples\n",
      "Validation set: 1662 samples\n"
     ]
    },
    {
     "name": "stderr",
     "output_type": "stream",
     "text": [
      "Metric val_loss improved. New best score: 0.043\n",
      "Metric val_loss improved by 0.014 >= min_delta = 0.0005. New best score: 0.029\n",
      "Metric val_loss improved by 0.006 >= min_delta = 0.0005. New best score: 0.023\n",
      "Metric val_loss improved by 0.002 >= min_delta = 0.0005. New best score: 0.021\n",
      "Metric val_loss improved by 0.001 >= min_delta = 0.0005. New best score: 0.020\n",
      "Metric val_loss improved by 0.001 >= min_delta = 0.0005. New best score: 0.019\n",
      "Metric val_loss improved by 0.001 >= min_delta = 0.0005. New best score: 0.018\n",
      "Metric val_loss improved by 0.001 >= min_delta = 0.0005. New best score: 0.018\n",
      "Metric val_loss improved by 0.001 >= min_delta = 0.0005. New best score: 0.017\n",
      "Metric val_loss improved by 0.001 >= min_delta = 0.0005. New best score: 0.016\n",
      "Monitored metric val_loss did not improve in the last 15 records. Best score: 0.016. Signaling Trainer to stop.\n",
      "GPU available: True (cuda), used: True\n",
      "TPU available: False, using: 0 TPU cores\n",
      "HPU available: False, using: 0 HPUs\n",
      "LOCAL_RANK: 0 - CUDA_VISIBLE_DEVICES: [0]\n"
     ]
    },
    {
     "name": "stdout",
     "output_type": "stream",
     "text": [
      "Model loaded from checkpoint for trial 31\n"
     ]
    },
    {
     "name": "stderr",
     "output_type": "stream",
     "text": [
      "/home/eduardo/Documentos/Water-Cycle-Neural-Network/venv/lib/python3.12/site-packages/pytorch_lightning/trainer/connectors/data_connector.py:425: The 'predict_dataloader' does not have many workers which may be a bottleneck. Consider increasing the value of the `num_workers` argument` to `num_workers=11` in the `DataLoader` to improve performance.\n",
      "[I 2025-05-27 08:57:20,918] Trial 31 finished with value: 0.11228232615122136 and parameters: {'input_chunk_length': 28, 'output_chunk_length': 6, 'dropout': 0.3813867799490145, 'batch_size': 123, 'lr': 0.00225144641395415, 'weight_decay': 7.276521829892213e-06, 'hidden_size': 32, 'ff_size': 35, 'num_blocks': 1, 'activation': 'ReLU', 'norm_type': 'LayerNorm', 'normalize_before': True, 'loss_fn': 'huber', 'optimizer': 'AdamW'}. Best is trial 31 with value: 0.11228232615122136.\n",
      "GPU available: True (cuda), used: True\n",
      "TPU available: False, using: 0 TPU cores\n",
      "HPU available: False, using: 0 HPUs\n",
      "LOCAL_RANK: 0 - CUDA_VISIBLE_DEVICES: [0]\n"
     ]
    },
    {
     "name": "stdout",
     "output_type": "stream",
     "text": [
      "Starting time series verification for consistency...\n",
      "\n",
      "Performance metrics:\n",
      "                                    MSE        RMSE        MAE        R2  \\\n",
      "Temperature                    6.058973    2.461498   1.957305  0.801283   \n",
      "Precipitation_accumulated     30.323879    5.506712   4.624457 -7.890259   \n",
      "Humidity                      58.415476    7.643002   5.835435  0.601519   \n",
      "Wind_Speed_kmh                 1.275757    1.129494   0.886341  0.052693   \n",
      "Soil_Moisture              10033.253107  100.166128  73.508665  0.821835   \n",
      "Soil_Temperature               5.412626    2.326505   1.942250  0.663768   \n",
      "Wind_Dir_Sin                   0.582234    0.763043   0.658590 -0.057512   \n",
      "Wind_Dir_Cos                   0.393583    0.627362   0.532046 -0.073576   \n",
      "\n",
      "                                SMAPE  \n",
      "Temperature                 31.987952  \n",
      "Precipitation_accumulated    0.998482  \n",
      "Humidity                     6.913206  \n",
      "Wind_Speed_kmh              74.098754  \n",
      "Soil_Moisture                0.856892  \n",
      "Soil_Temperature            40.375386  \n",
      "Wind_Dir_Sin               136.699609  \n",
      "Wind_Dir_Cos               135.587019  \n",
      "The MAE for this fold was 0.11228232615122136\n",
      "Results of trial 31 saved in optuna_iteration_metrics/trial_31.json\n",
      "Current value: 0.11228232615122136, Current params: {'input_chunk_length': 28, 'output_chunk_length': 6, 'dropout': 0.3813867799490145, 'batch_size': 123, 'lr': 0.00225144641395415, 'weight_decay': 7.276521829892213e-06, 'hidden_size': 32, 'ff_size': 35, 'num_blocks': 1, 'activation': 'ReLU', 'norm_type': 'LayerNorm', 'normalize_before': True, 'loss_fn': 'huber', 'optimizer': 'AdamW'}\n",
      "Best value: 0.11228232615122136, Best params: {'input_chunk_length': 28, 'output_chunk_length': 6, 'dropout': 0.3813867799490145, 'batch_size': 123, 'lr': 0.00225144641395415, 'weight_decay': 7.276521829892213e-06, 'hidden_size': 32, 'ff_size': 35, 'num_blocks': 1, 'activation': 'ReLU', 'norm_type': 'LayerNorm', 'normalize_before': True, 'loss_fn': 'huber', 'optimizer': 'AdamW'}\n",
      "\n",
      "Starting Trial 32\n",
      "Hyperparameters: {'input_chunk_length': 27, 'output_chunk_length': 4, 'dropout': 0.3130583250962657, 'batch_size': 125, 'lr': 0.0021940793684251773, 'weight_decay': 7.020550065312273e-06, 'hidden_size': 32, 'ff_size': 37, 'num_blocks': 1, 'activation': 'ReLU', 'norm_type': 'LayerNorm', 'normalize_before': True, 'loss_fn': 'huber', 'optimizer': 'AdamW'}\n",
      "\n",
      "Training the model...\n",
      "Train set: 6647 samples\n",
      "Validation set: 1662 samples\n"
     ]
    },
    {
     "name": "stderr",
     "output_type": "stream",
     "text": [
      "[I 2025-05-27 08:57:22,180] Trial 32 pruned. Trial was pruned at epoch 0.\n"
     ]
    },
    {
     "name": "stdout",
     "output_type": "stream",
     "text": [
      "Current value: 0.049146094242677636, Current params: {'input_chunk_length': 27, 'output_chunk_length': 4, 'dropout': 0.3130583250962657, 'batch_size': 125, 'lr': 0.0021940793684251773, 'weight_decay': 7.020550065312273e-06, 'hidden_size': 32, 'ff_size': 37, 'num_blocks': 1, 'activation': 'ReLU', 'norm_type': 'LayerNorm', 'normalize_before': True, 'loss_fn': 'huber', 'optimizer': 'AdamW'}\n",
      "Best value: 0.11228232615122136, Best params: {'input_chunk_length': 28, 'output_chunk_length': 6, 'dropout': 0.3813867799490145, 'batch_size': 123, 'lr': 0.00225144641395415, 'weight_decay': 7.276521829892213e-06, 'hidden_size': 32, 'ff_size': 35, 'num_blocks': 1, 'activation': 'ReLU', 'norm_type': 'LayerNorm', 'normalize_before': True, 'loss_fn': 'huber', 'optimizer': 'AdamW'}\n",
      "\n",
      "Starting Trial 33\n",
      "Hyperparameters: {'input_chunk_length': 27, 'output_chunk_length': 9, 'dropout': 0.38113244092802495, 'batch_size': 116, 'lr': 0.0023275182551398777, 'weight_decay': 2.383779579040263e-06, 'hidden_size': 32, 'ff_size': 32, 'num_blocks': 1, 'activation': 'ReLU', 'norm_type': 'LayerNorm', 'normalize_before': True, 'loss_fn': 'huber', 'optimizer': 'AdamW'}\n",
      "\n",
      "Training the model...\n",
      "Train set: 6647 samples\n",
      "Validation set: 1662 samples\n"
     ]
    },
    {
     "name": "stderr",
     "output_type": "stream",
     "text": [
      "GPU available: True (cuda), used: True\n",
      "TPU available: False, using: 0 TPU cores\n",
      "HPU available: False, using: 0 HPUs\n",
      "LOCAL_RANK: 0 - CUDA_VISIBLE_DEVICES: [0]\n",
      "Metric val_loss improved. New best score: 0.044\n",
      "Metric val_loss improved by 0.016 >= min_delta = 0.0005. New best score: 0.027\n",
      "Metric val_loss improved by 0.004 >= min_delta = 0.0005. New best score: 0.023\n",
      "Metric val_loss improved by 0.002 >= min_delta = 0.0005. New best score: 0.021\n",
      "Metric val_loss improved by 0.002 >= min_delta = 0.0005. New best score: 0.019\n",
      "Metric val_loss improved by 0.001 >= min_delta = 0.0005. New best score: 0.018\n",
      "Metric val_loss improved by 0.001 >= min_delta = 0.0005. New best score: 0.017\n",
      "Metric val_loss improved by 0.001 >= min_delta = 0.0005. New best score: 0.017\n",
      "Monitored metric val_loss did not improve in the last 15 records. Best score: 0.017. Signaling Trainer to stop.\n",
      "GPU available: True (cuda), used: True\n",
      "TPU available: False, using: 0 TPU cores\n",
      "HPU available: False, using: 0 HPUs\n",
      "LOCAL_RANK: 0 - CUDA_VISIBLE_DEVICES: [0]\n"
     ]
    },
    {
     "name": "stdout",
     "output_type": "stream",
     "text": [
      "Model loaded from checkpoint for trial 33\n"
     ]
    },
    {
     "name": "stderr",
     "output_type": "stream",
     "text": [
      "/home/eduardo/Documentos/Water-Cycle-Neural-Network/venv/lib/python3.12/site-packages/pytorch_lightning/trainer/connectors/data_connector.py:425: The 'predict_dataloader' does not have many workers which may be a bottleneck. Consider increasing the value of the `num_workers` argument` to `num_workers=11` in the `DataLoader` to improve performance.\n",
      "[I 2025-05-27 08:58:33,690] Trial 33 finished with value: 0.11938319620548304 and parameters: {'input_chunk_length': 27, 'output_chunk_length': 9, 'dropout': 0.38113244092802495, 'batch_size': 116, 'lr': 0.0023275182551398777, 'weight_decay': 2.383779579040263e-06, 'hidden_size': 32, 'ff_size': 32, 'num_blocks': 1, 'activation': 'ReLU', 'norm_type': 'LayerNorm', 'normalize_before': True, 'loss_fn': 'huber', 'optimizer': 'AdamW'}. Best is trial 31 with value: 0.11228232615122136.\n",
      "GPU available: True (cuda), used: True\n",
      "TPU available: False, using: 0 TPU cores\n",
      "HPU available: False, using: 0 HPUs\n",
      "LOCAL_RANK: 0 - CUDA_VISIBLE_DEVICES: [0]\n"
     ]
    },
    {
     "name": "stdout",
     "output_type": "stream",
     "text": [
      "Starting time series verification for consistency...\n",
      "\n",
      "Performance metrics:\n",
      "                                    MSE        RMSE         MAE        R2  \\\n",
      "Temperature                    6.679147    2.584405    2.043073  0.781205   \n",
      "Precipitation_accumulated     12.507681    3.536620    2.622573 -2.678299   \n",
      "Humidity                      92.652182    9.625600    7.565202  0.368534   \n",
      "Wind_Speed_kmh                 1.314367    1.146458    0.905119  0.024395   \n",
      "Soil_Moisture              32057.938756  179.047309  148.799512  0.425443   \n",
      "Soil_Temperature               7.280576    2.698254    2.266103  0.548103   \n",
      "Wind_Dir_Sin                   0.605597    0.778201    0.687866 -0.099802   \n",
      "Wind_Dir_Cos                   0.388241    0.623090    0.528250 -0.058565   \n",
      "\n",
      "                                SMAPE  \n",
      "Temperature                 33.195085  \n",
      "Precipitation_accumulated    0.563602  \n",
      "Humidity                     9.022020  \n",
      "Wind_Speed_kmh              74.241417  \n",
      "Soil_Moisture                1.743966  \n",
      "Soil_Temperature            44.955123  \n",
      "Wind_Dir_Sin               147.582921  \n",
      "Wind_Dir_Cos               131.710531  \n",
      "The MAE for this fold was 0.11938319620548304\n",
      "Results of trial 33 saved in optuna_iteration_metrics/trial_33.json\n",
      "Current value: 0.11938319620548304, Current params: {'input_chunk_length': 27, 'output_chunk_length': 9, 'dropout': 0.38113244092802495, 'batch_size': 116, 'lr': 0.0023275182551398777, 'weight_decay': 2.383779579040263e-06, 'hidden_size': 32, 'ff_size': 32, 'num_blocks': 1, 'activation': 'ReLU', 'norm_type': 'LayerNorm', 'normalize_before': True, 'loss_fn': 'huber', 'optimizer': 'AdamW'}\n",
      "Best value: 0.11228232615122136, Best params: {'input_chunk_length': 28, 'output_chunk_length': 6, 'dropout': 0.3813867799490145, 'batch_size': 123, 'lr': 0.00225144641395415, 'weight_decay': 7.276521829892213e-06, 'hidden_size': 32, 'ff_size': 35, 'num_blocks': 1, 'activation': 'ReLU', 'norm_type': 'LayerNorm', 'normalize_before': True, 'loss_fn': 'huber', 'optimizer': 'AdamW'}\n",
      "\n",
      "Starting Trial 34\n",
      "Hyperparameters: {'input_chunk_length': 24, 'output_chunk_length': 7, 'dropout': 0.26874695063953746, 'batch_size': 145, 'lr': 5.85542282001198e-06, 'weight_decay': 1.2186969968068044e-05, 'hidden_size': 128, 'ff_size': 178, 'num_blocks': 2, 'activation': 'ReLU', 'norm_type': 'LayerNorm', 'normalize_before': True, 'loss_fn': 'huber', 'optimizer': 'AdamW'}\n",
      "\n",
      "Training the model...\n",
      "Train set: 6647 samples\n",
      "Validation set: 1662 samples\n"
     ]
    },
    {
     "name": "stderr",
     "output_type": "stream",
     "text": [
      "[I 2025-05-27 08:58:35,165] Trial 34 pruned. Trial was pruned at epoch 0.\n",
      "GPU available: True (cuda), used: True\n",
      "TPU available: False, using: 0 TPU cores\n",
      "HPU available: False, using: 0 HPUs\n",
      "LOCAL_RANK: 0 - CUDA_VISIBLE_DEVICES: [0]\n"
     ]
    },
    {
     "name": "stdout",
     "output_type": "stream",
     "text": [
      "Current value: 0.20357879353274339, Current params: {'input_chunk_length': 24, 'output_chunk_length': 7, 'dropout': 0.26874695063953746, 'batch_size': 145, 'lr': 5.85542282001198e-06, 'weight_decay': 1.2186969968068044e-05, 'hidden_size': 128, 'ff_size': 178, 'num_blocks': 2, 'activation': 'ReLU', 'norm_type': 'LayerNorm', 'normalize_before': True, 'loss_fn': 'huber', 'optimizer': 'AdamW'}\n",
      "Best value: 0.11228232615122136, Best params: {'input_chunk_length': 28, 'output_chunk_length': 6, 'dropout': 0.3813867799490145, 'batch_size': 123, 'lr': 0.00225144641395415, 'weight_decay': 7.276521829892213e-06, 'hidden_size': 32, 'ff_size': 35, 'num_blocks': 1, 'activation': 'ReLU', 'norm_type': 'LayerNorm', 'normalize_before': True, 'loss_fn': 'huber', 'optimizer': 'AdamW'}\n",
      "\n",
      "Starting Trial 35\n",
      "Hyperparameters: {'input_chunk_length': 29, 'output_chunk_length': 4, 'dropout': 0.3586662374382377, 'batch_size': 66, 'lr': 3.059879515303515e-06, 'weight_decay': 5.7372600402590235e-06, 'hidden_size': 32, 'ff_size': 47, 'num_blocks': 1, 'activation': 'ReLU', 'norm_type': 'LayerNorm', 'normalize_before': True, 'loss_fn': 'mse', 'optimizer': 'AdamW'}\n",
      "\n",
      "Training the model...\n",
      "Train set: 6647 samples\n",
      "Validation set: 1662 samples\n"
     ]
    },
    {
     "name": "stderr",
     "output_type": "stream",
     "text": [
      "[I 2025-05-27 08:58:36,684] Trial 35 pruned. Trial was pruned at epoch 0.\n",
      "GPU available: True (cuda), used: True\n",
      "TPU available: False, using: 0 TPU cores\n",
      "HPU available: False, using: 0 HPUs\n",
      "LOCAL_RANK: 0 - CUDA_VISIBLE_DEVICES: [0]\n"
     ]
    },
    {
     "name": "stdout",
     "output_type": "stream",
     "text": [
      "Current value: 0.3964970190078022, Current params: {'input_chunk_length': 29, 'output_chunk_length': 4, 'dropout': 0.3586662374382377, 'batch_size': 66, 'lr': 3.059879515303515e-06, 'weight_decay': 5.7372600402590235e-06, 'hidden_size': 32, 'ff_size': 47, 'num_blocks': 1, 'activation': 'ReLU', 'norm_type': 'LayerNorm', 'normalize_before': True, 'loss_fn': 'mse', 'optimizer': 'AdamW'}\n",
      "Best value: 0.11228232615122136, Best params: {'input_chunk_length': 28, 'output_chunk_length': 6, 'dropout': 0.3813867799490145, 'batch_size': 123, 'lr': 0.00225144641395415, 'weight_decay': 7.276521829892213e-06, 'hidden_size': 32, 'ff_size': 35, 'num_blocks': 1, 'activation': 'ReLU', 'norm_type': 'LayerNorm', 'normalize_before': True, 'loss_fn': 'huber', 'optimizer': 'AdamW'}\n",
      "\n",
      "Starting Trial 36\n",
      "Hyperparameters: {'input_chunk_length': 34, 'output_chunk_length': 1, 'dropout': 0.3959005862882695, 'batch_size': 83, 'lr': 1.093213818531834e-06, 'weight_decay': 1.1168707593262938e-06, 'hidden_size': 32, 'ff_size': 63, 'num_blocks': 2, 'activation': 'ReLU', 'norm_type': 'LayerNorm', 'normalize_before': True, 'loss_fn': 'huber', 'optimizer': 'Adam'}\n",
      "\n",
      "Training the model...\n",
      "Train set: 6647 samples\n",
      "Validation set: 1662 samples\n"
     ]
    },
    {
     "name": "stderr",
     "output_type": "stream",
     "text": [
      "[I 2025-05-27 08:58:38,173] Trial 36 pruned. Trial was pruned at epoch 0.\n",
      "GPU available: True (cuda), used: True\n",
      "TPU available: False, using: 0 TPU cores\n",
      "HPU available: False, using: 0 HPUs\n",
      "LOCAL_RANK: 0 - CUDA_VISIBLE_DEVICES: [0]\n"
     ]
    },
    {
     "name": "stdout",
     "output_type": "stream",
     "text": [
      "Current value: 0.23097306024341702, Current params: {'input_chunk_length': 34, 'output_chunk_length': 1, 'dropout': 0.3959005862882695, 'batch_size': 83, 'lr': 1.093213818531834e-06, 'weight_decay': 1.1168707593262938e-06, 'hidden_size': 32, 'ff_size': 63, 'num_blocks': 2, 'activation': 'ReLU', 'norm_type': 'LayerNorm', 'normalize_before': True, 'loss_fn': 'huber', 'optimizer': 'Adam'}\n",
      "Best value: 0.11228232615122136, Best params: {'input_chunk_length': 28, 'output_chunk_length': 6, 'dropout': 0.3813867799490145, 'batch_size': 123, 'lr': 0.00225144641395415, 'weight_decay': 7.276521829892213e-06, 'hidden_size': 32, 'ff_size': 35, 'num_blocks': 1, 'activation': 'ReLU', 'norm_type': 'LayerNorm', 'normalize_before': True, 'loss_fn': 'huber', 'optimizer': 'AdamW'}\n",
      "\n",
      "Starting Trial 37\n",
      "Hyperparameters: {'input_chunk_length': 37, 'output_chunk_length': 10, 'dropout': 0.32888755083137083, 'batch_size': 107, 'lr': 0.0014544638513091313, 'weight_decay': 2.7648742614081766e-05, 'hidden_size': 32, 'ff_size': 48, 'num_blocks': 1, 'activation': 'ReLU', 'norm_type': 'LayerNormNoBias', 'normalize_before': True, 'loss_fn': 'mae', 'optimizer': 'AdamW'}\n",
      "\n",
      "Training the model...\n",
      "Train set: 6647 samples\n",
      "Validation set: 1662 samples\n"
     ]
    },
    {
     "name": "stderr",
     "output_type": "stream",
     "text": [
      "[I 2025-05-27 08:58:39,533] Trial 37 pruned. Trial was pruned at epoch 0.\n",
      "GPU available: True (cuda), used: True\n",
      "TPU available: False, using: 0 TPU cores\n",
      "HPU available: False, using: 0 HPUs\n",
      "LOCAL_RANK: 0 - CUDA_VISIBLE_DEVICES: [0]\n"
     ]
    },
    {
     "name": "stdout",
     "output_type": "stream",
     "text": [
      "Current value: 0.22867227150092068, Current params: {'input_chunk_length': 37, 'output_chunk_length': 10, 'dropout': 0.32888755083137083, 'batch_size': 107, 'lr': 0.0014544638513091313, 'weight_decay': 2.7648742614081766e-05, 'hidden_size': 32, 'ff_size': 48, 'num_blocks': 1, 'activation': 'ReLU', 'norm_type': 'LayerNormNoBias', 'normalize_before': True, 'loss_fn': 'mae', 'optimizer': 'AdamW'}\n",
      "Best value: 0.11228232615122136, Best params: {'input_chunk_length': 28, 'output_chunk_length': 6, 'dropout': 0.3813867799490145, 'batch_size': 123, 'lr': 0.00225144641395415, 'weight_decay': 7.276521829892213e-06, 'hidden_size': 32, 'ff_size': 35, 'num_blocks': 1, 'activation': 'ReLU', 'norm_type': 'LayerNorm', 'normalize_before': True, 'loss_fn': 'huber', 'optimizer': 'AdamW'}\n",
      "\n",
      "Starting Trial 38\n",
      "Hyperparameters: {'input_chunk_length': 33, 'output_chunk_length': 3, 'dropout': 0.4398316596376667, 'batch_size': 141, 'lr': 0.0005172282180441683, 'weight_decay': 4.034668097568136e-06, 'hidden_size': 128, 'ff_size': 216, 'num_blocks': 1, 'activation': 'ReLU', 'norm_type': 'LayerNorm', 'normalize_before': True, 'loss_fn': 'huber', 'optimizer': 'SGD'}\n",
      "\n",
      "Training the model...\n",
      "Train set: 6647 samples\n",
      "Validation set: 1662 samples\n"
     ]
    },
    {
     "name": "stderr",
     "output_type": "stream",
     "text": [
      "[I 2025-05-27 08:58:40,900] Trial 38 pruned. Trial was pruned at epoch 0.\n"
     ]
    },
    {
     "name": "stdout",
     "output_type": "stream",
     "text": [
      "Current value: 0.10299364922908284, Current params: {'input_chunk_length': 33, 'output_chunk_length': 3, 'dropout': 0.4398316596376667, 'batch_size': 141, 'lr': 0.0005172282180441683, 'weight_decay': 4.034668097568136e-06, 'hidden_size': 128, 'ff_size': 216, 'num_blocks': 1, 'activation': 'ReLU', 'norm_type': 'LayerNorm', 'normalize_before': True, 'loss_fn': 'huber', 'optimizer': 'SGD'}\n",
      "Best value: 0.11228232615122136, Best params: {'input_chunk_length': 28, 'output_chunk_length': 6, 'dropout': 0.3813867799490145, 'batch_size': 123, 'lr': 0.00225144641395415, 'weight_decay': 7.276521829892213e-06, 'hidden_size': 32, 'ff_size': 35, 'num_blocks': 1, 'activation': 'ReLU', 'norm_type': 'LayerNorm', 'normalize_before': True, 'loss_fn': 'huber', 'optimizer': 'AdamW'}\n",
      "\n",
      "Starting Trial 39\n",
      "Hyperparameters: {'input_chunk_length': 39, 'output_chunk_length': 7, 'dropout': 0.2893526444299803, 'batch_size': 98, 'lr': 0.002878713305581485, 'weight_decay': 2.309566013261152e-06, 'hidden_size': 32, 'ff_size': 70, 'num_blocks': 2, 'activation': 'ReLU', 'norm_type': 'LayerNorm', 'normalize_before': True, 'loss_fn': 'huber', 'optimizer': 'Adam'}\n",
      "\n",
      "Training the model...\n",
      "Train set: 6647 samples\n",
      "Validation set: 1662 samples\n"
     ]
    },
    {
     "name": "stderr",
     "output_type": "stream",
     "text": [
      "GPU available: True (cuda), used: True\n",
      "TPU available: False, using: 0 TPU cores\n",
      "HPU available: False, using: 0 HPUs\n",
      "LOCAL_RANK: 0 - CUDA_VISIBLE_DEVICES: [0]\n",
      "Metric val_loss improved. New best score: 0.045\n",
      "Metric val_loss improved by 0.008 >= min_delta = 0.0005. New best score: 0.036\n",
      "[I 2025-05-27 08:59:29,268] Trial 39 pruned. Trial was pruned at epoch 2.\n",
      "GPU available: True (cuda), used: True\n",
      "TPU available: False, using: 0 TPU cores\n",
      "HPU available: False, using: 0 HPUs\n",
      "LOCAL_RANK: 0 - CUDA_VISIBLE_DEVICES: [0]\n"
     ]
    },
    {
     "name": "stdout",
     "output_type": "stream",
     "text": [
      "Current value: 0.031645599217287025, Current params: {'input_chunk_length': 39, 'output_chunk_length': 7, 'dropout': 0.2893526444299803, 'batch_size': 98, 'lr': 0.002878713305581485, 'weight_decay': 2.309566013261152e-06, 'hidden_size': 32, 'ff_size': 70, 'num_blocks': 2, 'activation': 'ReLU', 'norm_type': 'LayerNorm', 'normalize_before': True, 'loss_fn': 'huber', 'optimizer': 'Adam'}\n",
      "Best value: 0.11228232615122136, Best params: {'input_chunk_length': 28, 'output_chunk_length': 6, 'dropout': 0.3813867799490145, 'batch_size': 123, 'lr': 0.00225144641395415, 'weight_decay': 7.276521829892213e-06, 'hidden_size': 32, 'ff_size': 35, 'num_blocks': 1, 'activation': 'ReLU', 'norm_type': 'LayerNorm', 'normalize_before': True, 'loss_fn': 'huber', 'optimizer': 'AdamW'}\n",
      "\n",
      "Starting Trial 40\n",
      "Hyperparameters: {'input_chunk_length': 44, 'output_chunk_length': 12, 'dropout': 0.4611788612120248, 'batch_size': 124, 'lr': 9.20079535383527e-05, 'weight_decay': 1.0145041707952401e-05, 'hidden_size': 32, 'ff_size': 56, 'num_blocks': 1, 'activation': 'ReLU', 'norm_type': 'LayerNorm', 'normalize_before': False, 'loss_fn': 'mse', 'optimizer': 'AdamW'}\n",
      "\n",
      "Training the model...\n",
      "Train set: 6647 samples\n",
      "Validation set: 1662 samples\n"
     ]
    },
    {
     "name": "stderr",
     "output_type": "stream",
     "text": [
      "[I 2025-05-27 08:59:30,604] Trial 40 pruned. Trial was pruned at epoch 0.\n",
      "GPU available: True (cuda), used: True\n",
      "TPU available: False, using: 0 TPU cores\n",
      "HPU available: False, using: 0 HPUs\n",
      "LOCAL_RANK: 0 - CUDA_VISIBLE_DEVICES: [0]\n"
     ]
    },
    {
     "name": "stdout",
     "output_type": "stream",
     "text": [
      "Current value: 0.264393166864246, Current params: {'input_chunk_length': 44, 'output_chunk_length': 12, 'dropout': 0.4611788612120248, 'batch_size': 124, 'lr': 9.20079535383527e-05, 'weight_decay': 1.0145041707952401e-05, 'hidden_size': 32, 'ff_size': 56, 'num_blocks': 1, 'activation': 'ReLU', 'norm_type': 'LayerNorm', 'normalize_before': False, 'loss_fn': 'mse', 'optimizer': 'AdamW'}\n",
      "Best value: 0.11228232615122136, Best params: {'input_chunk_length': 28, 'output_chunk_length': 6, 'dropout': 0.3813867799490145, 'batch_size': 123, 'lr': 0.00225144641395415, 'weight_decay': 7.276521829892213e-06, 'hidden_size': 32, 'ff_size': 35, 'num_blocks': 1, 'activation': 'ReLU', 'norm_type': 'LayerNorm', 'normalize_before': True, 'loss_fn': 'huber', 'optimizer': 'AdamW'}\n",
      "\n",
      "Starting Trial 41\n",
      "Hyperparameters: {'input_chunk_length': 30, 'output_chunk_length': 6, 'dropout': 0.4215515266475184, 'batch_size': 101, 'lr': 0.0009861291530383453, 'weight_decay': 7.123211963665379e-05, 'hidden_size': 32, 'ff_size': 44, 'num_blocks': 1, 'activation': 'ReLU', 'norm_type': 'LayerNorm', 'normalize_before': True, 'loss_fn': 'huber', 'optimizer': 'AdamW'}\n",
      "\n",
      "Training the model...\n",
      "Train set: 6647 samples\n",
      "Validation set: 1662 samples\n"
     ]
    },
    {
     "name": "stderr",
     "output_type": "stream",
     "text": [
      "[I 2025-05-27 08:59:32,085] Trial 41 pruned. Trial was pruned at epoch 0.\n"
     ]
    },
    {
     "name": "stdout",
     "output_type": "stream",
     "text": [
      "Current value: 0.055593998658585775, Current params: {'input_chunk_length': 30, 'output_chunk_length': 6, 'dropout': 0.4215515266475184, 'batch_size': 101, 'lr': 0.0009861291530383453, 'weight_decay': 7.123211963665379e-05, 'hidden_size': 32, 'ff_size': 44, 'num_blocks': 1, 'activation': 'ReLU', 'norm_type': 'LayerNorm', 'normalize_before': True, 'loss_fn': 'huber', 'optimizer': 'AdamW'}\n",
      "Best value: 0.11228232615122136, Best params: {'input_chunk_length': 28, 'output_chunk_length': 6, 'dropout': 0.3813867799490145, 'batch_size': 123, 'lr': 0.00225144641395415, 'weight_decay': 7.276521829892213e-06, 'hidden_size': 32, 'ff_size': 35, 'num_blocks': 1, 'activation': 'ReLU', 'norm_type': 'LayerNorm', 'normalize_before': True, 'loss_fn': 'huber', 'optimizer': 'AdamW'}\n",
      "\n",
      "Starting Trial 42\n",
      "Hyperparameters: {'input_chunk_length': 28, 'output_chunk_length': 5, 'dropout': 0.4320730010615355, 'batch_size': 88, 'lr': 0.0008437989449713036, 'weight_decay': 2.5069814062305704e-05, 'hidden_size': 32, 'ff_size': 34, 'num_blocks': 1, 'activation': 'ReLU', 'norm_type': 'LayerNorm', 'normalize_before': True, 'loss_fn': 'huber', 'optimizer': 'AdamW'}\n",
      "\n",
      "Training the model...\n",
      "Train set: 6647 samples\n",
      "Validation set: 1662 samples\n"
     ]
    },
    {
     "name": "stderr",
     "output_type": "stream",
     "text": [
      "GPU available: True (cuda), used: True\n",
      "TPU available: False, using: 0 TPU cores\n",
      "HPU available: False, using: 0 HPUs\n",
      "LOCAL_RANK: 0 - CUDA_VISIBLE_DEVICES: [0]\n",
      "[I 2025-05-27 09:00:18,588] Trial 42 pruned. Trial was pruned at epoch 0.\n",
      "GPU available: True (cuda), used: True\n",
      "TPU available: False, using: 0 TPU cores\n",
      "HPU available: False, using: 0 HPUs\n",
      "LOCAL_RANK: 0 - CUDA_VISIBLE_DEVICES: [0]\n"
     ]
    },
    {
     "name": "stdout",
     "output_type": "stream",
     "text": [
      "Current value: 0.047706693105378326, Current params: {'input_chunk_length': 28, 'output_chunk_length': 5, 'dropout': 0.4320730010615355, 'batch_size': 88, 'lr': 0.0008437989449713036, 'weight_decay': 2.5069814062305704e-05, 'hidden_size': 32, 'ff_size': 34, 'num_blocks': 1, 'activation': 'ReLU', 'norm_type': 'LayerNorm', 'normalize_before': True, 'loss_fn': 'huber', 'optimizer': 'AdamW'}\n",
      "Best value: 0.11228232615122136, Best params: {'input_chunk_length': 28, 'output_chunk_length': 6, 'dropout': 0.3813867799490145, 'batch_size': 123, 'lr': 0.00225144641395415, 'weight_decay': 7.276521829892213e-06, 'hidden_size': 32, 'ff_size': 35, 'num_blocks': 1, 'activation': 'ReLU', 'norm_type': 'LayerNorm', 'normalize_before': True, 'loss_fn': 'huber', 'optimizer': 'AdamW'}\n",
      "\n",
      "Starting Trial 43\n",
      "Hyperparameters: {'input_chunk_length': 32, 'output_chunk_length': 9, 'dropout': 0.47434147227888535, 'batch_size': 77, 'lr': 0.0013334412648070416, 'weight_decay': 4.5657542028775155e-05, 'hidden_size': 32, 'ff_size': 85, 'num_blocks': 1, 'activation': 'ReLU', 'norm_type': 'LayerNorm', 'normalize_before': True, 'loss_fn': 'huber', 'optimizer': 'AdamW'}\n",
      "\n",
      "Training the model...\n",
      "Train set: 6647 samples\n",
      "Validation set: 1662 samples\n"
     ]
    },
    {
     "name": "stderr",
     "output_type": "stream",
     "text": [
      "[I 2025-05-27 09:00:20,036] Trial 43 pruned. Trial was pruned at epoch 0.\n",
      "GPU available: True (cuda), used: True\n",
      "TPU available: False, using: 0 TPU cores\n",
      "HPU available: False, using: 0 HPUs\n",
      "LOCAL_RANK: 0 - CUDA_VISIBLE_DEVICES: [0]\n"
     ]
    },
    {
     "name": "stdout",
     "output_type": "stream",
     "text": [
      "Current value: 0.048791300546599276, Current params: {'input_chunk_length': 32, 'output_chunk_length': 9, 'dropout': 0.47434147227888535, 'batch_size': 77, 'lr': 0.0013334412648070416, 'weight_decay': 4.5657542028775155e-05, 'hidden_size': 32, 'ff_size': 85, 'num_blocks': 1, 'activation': 'ReLU', 'norm_type': 'LayerNorm', 'normalize_before': True, 'loss_fn': 'huber', 'optimizer': 'AdamW'}\n",
      "Best value: 0.11228232615122136, Best params: {'input_chunk_length': 28, 'output_chunk_length': 6, 'dropout': 0.3813867799490145, 'batch_size': 123, 'lr': 0.00225144641395415, 'weight_decay': 7.276521829892213e-06, 'hidden_size': 32, 'ff_size': 35, 'num_blocks': 1, 'activation': 'ReLU', 'norm_type': 'LayerNorm', 'normalize_before': True, 'loss_fn': 'huber', 'optimizer': 'AdamW'}\n",
      "\n",
      "Starting Trial 44\n",
      "Hyperparameters: {'input_chunk_length': 36, 'output_chunk_length': 7, 'dropout': 0.35626333101101293, 'batch_size': 102, 'lr': 0.0026092915194160854, 'weight_decay': 0.00017709477570727482, 'hidden_size': 32, 'ff_size': 71, 'num_blocks': 1, 'activation': 'ReLU', 'norm_type': 'LayerNorm', 'normalize_before': True, 'loss_fn': 'huber', 'optimizer': 'AdamW'}\n",
      "\n",
      "Training the model...\n",
      "Train set: 6647 samples\n",
      "Validation set: 1662 samples\n"
     ]
    },
    {
     "name": "stderr",
     "output_type": "stream",
     "text": [
      "Metric val_loss improved. New best score: 0.041\n",
      "Metric val_loss improved by 0.014 >= min_delta = 0.0005. New best score: 0.026\n",
      "Metric val_loss improved by 0.004 >= min_delta = 0.0005. New best score: 0.022\n",
      "Metric val_loss improved by 0.001 >= min_delta = 0.0005. New best score: 0.021\n",
      "Metric val_loss improved by 0.002 >= min_delta = 0.0005. New best score: 0.019\n",
      "Metric val_loss improved by 0.001 >= min_delta = 0.0005. New best score: 0.019\n",
      "Metric val_loss improved by 0.001 >= min_delta = 0.0005. New best score: 0.018\n",
      "Metric val_loss improved by 0.001 >= min_delta = 0.0005. New best score: 0.018\n",
      "Monitored metric val_loss did not improve in the last 15 records. Best score: 0.018. Signaling Trainer to stop.\n",
      "GPU available: True (cuda), used: True\n",
      "TPU available: False, using: 0 TPU cores\n",
      "HPU available: False, using: 0 HPUs\n",
      "LOCAL_RANK: 0 - CUDA_VISIBLE_DEVICES: [0]\n"
     ]
    },
    {
     "name": "stdout",
     "output_type": "stream",
     "text": [
      "Model loaded from checkpoint for trial 44\n"
     ]
    },
    {
     "name": "stderr",
     "output_type": "stream",
     "text": [
      "/home/eduardo/Documentos/Water-Cycle-Neural-Network/venv/lib/python3.12/site-packages/pytorch_lightning/trainer/connectors/data_connector.py:425: The 'predict_dataloader' does not have many workers which may be a bottleneck. Consider increasing the value of the `num_workers` argument` to `num_workers=11` in the `DataLoader` to improve performance.\n",
      "[I 2025-05-27 09:00:47,653] Trial 44 finished with value: 0.121282355770081 and parameters: {'input_chunk_length': 36, 'output_chunk_length': 7, 'dropout': 0.35626333101101293, 'batch_size': 102, 'lr': 0.0026092915194160854, 'weight_decay': 0.00017709477570727482, 'hidden_size': 32, 'ff_size': 71, 'num_blocks': 1, 'activation': 'ReLU', 'norm_type': 'LayerNorm', 'normalize_before': True, 'loss_fn': 'huber', 'optimizer': 'AdamW'}. Best is trial 31 with value: 0.11228232615122136.\n",
      "GPU available: True (cuda), used: True\n",
      "TPU available: False, using: 0 TPU cores\n",
      "HPU available: False, using: 0 HPUs\n",
      "LOCAL_RANK: 0 - CUDA_VISIBLE_DEVICES: [0]\n"
     ]
    },
    {
     "name": "stdout",
     "output_type": "stream",
     "text": [
      "Starting time series verification for consistency...\n",
      "\n",
      "Performance metrics:\n",
      "                                    MSE        RMSE         MAE         R2  \\\n",
      "Temperature                    6.860978    2.619347    2.007305   0.775465   \n",
      "Precipitation_accumulated     85.058603    9.222722    7.937993 -24.291629   \n",
      "Humidity                      71.018138    8.427226    6.494544   0.515920   \n",
      "Wind_Speed_kmh                 1.331823    1.154047    0.900143   0.011317   \n",
      "Soil_Moisture              24237.291873  155.683306  119.721148   0.552556   \n",
      "Soil_Temperature              13.181999    3.630702    3.182753   0.182811   \n",
      "Wind_Dir_Sin                   0.637488    0.798429    0.690250  -0.154140   \n",
      "Wind_Dir_Cos                   0.399041    0.631697    0.537691  -0.089753   \n",
      "\n",
      "                                SMAPE  \n",
      "Temperature                 35.526884  \n",
      "Precipitation_accumulated    1.727618  \n",
      "Humidity                     7.756553  \n",
      "Wind_Speed_kmh              75.220265  \n",
      "Soil_Moisture                1.404354  \n",
      "Soil_Temperature            71.719934  \n",
      "Wind_Dir_Sin               141.200254  \n",
      "Wind_Dir_Cos               135.508165  \n",
      "The MAE for this fold was 0.121282355770081\n",
      "Results of trial 44 saved in optuna_iteration_metrics/trial_44.json\n",
      "Current value: 0.121282355770081, Current params: {'input_chunk_length': 36, 'output_chunk_length': 7, 'dropout': 0.35626333101101293, 'batch_size': 102, 'lr': 0.0026092915194160854, 'weight_decay': 0.00017709477570727482, 'hidden_size': 32, 'ff_size': 71, 'num_blocks': 1, 'activation': 'ReLU', 'norm_type': 'LayerNorm', 'normalize_before': True, 'loss_fn': 'huber', 'optimizer': 'AdamW'}\n",
      "Best value: 0.11228232615122136, Best params: {'input_chunk_length': 28, 'output_chunk_length': 6, 'dropout': 0.3813867799490145, 'batch_size': 123, 'lr': 0.00225144641395415, 'weight_decay': 7.276521829892213e-06, 'hidden_size': 32, 'ff_size': 35, 'num_blocks': 1, 'activation': 'ReLU', 'norm_type': 'LayerNorm', 'normalize_before': True, 'loss_fn': 'huber', 'optimizer': 'AdamW'}\n",
      "\n",
      "Starting Trial 45\n",
      "Hyperparameters: {'input_chunk_length': 26, 'output_chunk_length': 5, 'dropout': 0.3965368292975228, 'batch_size': 119, 'lr': 0.00030059660298160153, 'weight_decay': 1.714218887655921e-05, 'hidden_size': 32, 'ff_size': 60, 'num_blocks': 2, 'activation': 'ReLU', 'norm_type': 'LayerNorm', 'normalize_before': True, 'loss_fn': 'huber', 'optimizer': 'AdamW'}\n",
      "\n",
      "Training the model...\n",
      "Train set: 6647 samples\n",
      "Validation set: 1662 samples\n"
     ]
    },
    {
     "name": "stderr",
     "output_type": "stream",
     "text": [
      "[I 2025-05-27 09:00:49,053] Trial 45 pruned. Trial was pruned at epoch 0.\n"
     ]
    },
    {
     "name": "stdout",
     "output_type": "stream",
     "text": [
      "Current value: 0.053819625633037285, Current params: {'input_chunk_length': 26, 'output_chunk_length': 5, 'dropout': 0.3965368292975228, 'batch_size': 119, 'lr': 0.00030059660298160153, 'weight_decay': 1.714218887655921e-05, 'hidden_size': 32, 'ff_size': 60, 'num_blocks': 2, 'activation': 'ReLU', 'norm_type': 'LayerNorm', 'normalize_before': True, 'loss_fn': 'huber', 'optimizer': 'AdamW'}\n",
      "Best value: 0.11228232615122136, Best params: {'input_chunk_length': 28, 'output_chunk_length': 6, 'dropout': 0.3813867799490145, 'batch_size': 123, 'lr': 0.00225144641395415, 'weight_decay': 7.276521829892213e-06, 'hidden_size': 32, 'ff_size': 35, 'num_blocks': 1, 'activation': 'ReLU', 'norm_type': 'LayerNorm', 'normalize_before': True, 'loss_fn': 'huber', 'optimizer': 'AdamW'}\n",
      "\n",
      "Starting Trial 46\n",
      "Hyperparameters: {'input_chunk_length': 29, 'output_chunk_length': 3, 'dropout': 0.3229037379504522, 'batch_size': 108, 'lr': 0.004488696156577068, 'weight_decay': 5.187902529562509e-06, 'hidden_size': 32, 'ff_size': 51, 'num_blocks': 1, 'activation': 'ReLU', 'norm_type': 'LayerNormNoBias', 'normalize_before': True, 'loss_fn': 'mae', 'optimizer': 'Adam'}\n",
      "\n",
      "Training the model...\n",
      "Train set: 6647 samples\n",
      "Validation set: 1662 samples\n"
     ]
    },
    {
     "name": "stderr",
     "output_type": "stream",
     "text": [
      "GPU available: True (cuda), used: True\n",
      "TPU available: False, using: 0 TPU cores\n",
      "HPU available: False, using: 0 HPUs\n",
      "LOCAL_RANK: 0 - CUDA_VISIBLE_DEVICES: [0]\n",
      "[I 2025-05-27 09:01:35,500] Trial 46 pruned. Trial was pruned at epoch 0.\n",
      "GPU available: True (cuda), used: True\n",
      "TPU available: False, using: 0 TPU cores\n",
      "HPU available: False, using: 0 HPUs\n",
      "LOCAL_RANK: 0 - CUDA_VISIBLE_DEVICES: [0]\n"
     ]
    },
    {
     "name": "stdout",
     "output_type": "stream",
     "text": [
      "Current value: 0.20778408945605062, Current params: {'input_chunk_length': 29, 'output_chunk_length': 3, 'dropout': 0.3229037379504522, 'batch_size': 108, 'lr': 0.004488696156577068, 'weight_decay': 5.187902529562509e-06, 'hidden_size': 32, 'ff_size': 51, 'num_blocks': 1, 'activation': 'ReLU', 'norm_type': 'LayerNormNoBias', 'normalize_before': True, 'loss_fn': 'mae', 'optimizer': 'Adam'}\n",
      "Best value: 0.11228232615122136, Best params: {'input_chunk_length': 28, 'output_chunk_length': 6, 'dropout': 0.3813867799490145, 'batch_size': 123, 'lr': 0.00225144641395415, 'weight_decay': 7.276521829892213e-06, 'hidden_size': 32, 'ff_size': 35, 'num_blocks': 1, 'activation': 'ReLU', 'norm_type': 'LayerNorm', 'normalize_before': True, 'loss_fn': 'huber', 'optimizer': 'AdamW'}\n",
      "\n",
      "Starting Trial 47\n",
      "Hyperparameters: {'input_chunk_length': 39, 'output_chunk_length': 8, 'dropout': 0.2337285964673647, 'batch_size': 133, 'lr': 0.001291164673357162, 'weight_decay': 2.119503212854721e-05, 'hidden_size': 32, 'ff_size': 39, 'num_blocks': 1, 'activation': 'ReLU', 'norm_type': 'LayerNorm', 'normalize_before': True, 'loss_fn': 'huber', 'optimizer': 'AdamW'}\n",
      "\n",
      "Training the model...\n",
      "Train set: 6647 samples\n",
      "Validation set: 1662 samples\n"
     ]
    },
    {
     "name": "stderr",
     "output_type": "stream",
     "text": [
      "Metric val_loss improved. New best score: 0.043\n",
      "Metric val_loss improved by 0.013 >= min_delta = 0.0005. New best score: 0.031\n",
      "Metric val_loss improved by 0.006 >= min_delta = 0.0005. New best score: 0.025\n",
      "Metric val_loss improved by 0.002 >= min_delta = 0.0005. New best score: 0.023\n",
      "Metric val_loss improved by 0.001 >= min_delta = 0.0005. New best score: 0.022\n",
      "Metric val_loss improved by 0.001 >= min_delta = 0.0005. New best score: 0.021\n",
      "[I 2025-05-27 09:01:42,012] Trial 47 pruned. Trial was pruned at epoch 6.\n",
      "GPU available: True (cuda), used: True\n",
      "TPU available: False, using: 0 TPU cores\n",
      "HPU available: False, using: 0 HPUs\n",
      "LOCAL_RANK: 0 - CUDA_VISIBLE_DEVICES: [0]\n"
     ]
    },
    {
     "name": "stdout",
     "output_type": "stream",
     "text": [
      "Current value: 0.020777083444335605, Current params: {'input_chunk_length': 39, 'output_chunk_length': 8, 'dropout': 0.2337285964673647, 'batch_size': 133, 'lr': 0.001291164673357162, 'weight_decay': 2.119503212854721e-05, 'hidden_size': 32, 'ff_size': 39, 'num_blocks': 1, 'activation': 'ReLU', 'norm_type': 'LayerNorm', 'normalize_before': True, 'loss_fn': 'huber', 'optimizer': 'AdamW'}\n",
      "Best value: 0.11228232615122136, Best params: {'input_chunk_length': 28, 'output_chunk_length': 6, 'dropout': 0.3813867799490145, 'batch_size': 123, 'lr': 0.00225144641395415, 'weight_decay': 7.276521829892213e-06, 'hidden_size': 32, 'ff_size': 35, 'num_blocks': 1, 'activation': 'ReLU', 'norm_type': 'LayerNorm', 'normalize_before': True, 'loss_fn': 'huber', 'optimizer': 'AdamW'}\n",
      "\n",
      "Starting Trial 48\n",
      "Hyperparameters: {'input_chunk_length': 24, 'output_chunk_length': 10, 'dropout': 0.4566305449023386, 'batch_size': 73, 'lr': 0.00015609955653041044, 'weight_decay': 9.271389800376766e-05, 'hidden_size': 128, 'ff_size': 143, 'num_blocks': 1, 'activation': 'ReLU', 'norm_type': 'LayerNorm', 'normalize_before': False, 'loss_fn': 'huber', 'optimizer': 'AdamW'}\n",
      "\n",
      "Training the model...\n",
      "Train set: 6647 samples\n",
      "Validation set: 1662 samples\n"
     ]
    },
    {
     "name": "stderr",
     "output_type": "stream",
     "text": [
      "[I 2025-05-27 09:01:44,004] Trial 48 pruned. Trial was pruned at epoch 0.\n",
      "GPU available: True (cuda), used: True\n",
      "TPU available: False, using: 0 TPU cores\n",
      "HPU available: False, using: 0 HPUs\n",
      "LOCAL_RANK: 0 - CUDA_VISIBLE_DEVICES: [0]\n"
     ]
    },
    {
     "name": "stdout",
     "output_type": "stream",
     "text": [
      "Current value: 0.04689253352388226, Current params: {'input_chunk_length': 24, 'output_chunk_length': 10, 'dropout': 0.4566305449023386, 'batch_size': 73, 'lr': 0.00015609955653041044, 'weight_decay': 9.271389800376766e-05, 'hidden_size': 128, 'ff_size': 143, 'num_blocks': 1, 'activation': 'ReLU', 'norm_type': 'LayerNorm', 'normalize_before': False, 'loss_fn': 'huber', 'optimizer': 'AdamW'}\n",
      "Best value: 0.11228232615122136, Best params: {'input_chunk_length': 28, 'output_chunk_length': 6, 'dropout': 0.3813867799490145, 'batch_size': 123, 'lr': 0.00225144641395415, 'weight_decay': 7.276521829892213e-06, 'hidden_size': 32, 'ff_size': 35, 'num_blocks': 1, 'activation': 'ReLU', 'norm_type': 'LayerNorm', 'normalize_before': True, 'loss_fn': 'huber', 'optimizer': 'AdamW'}\n",
      "\n",
      "Starting Trial 49\n",
      "Hyperparameters: {'input_chunk_length': 71, 'output_chunk_length': 4, 'dropout': 0.3767190206159575, 'batch_size': 94, 'lr': 0.0030970938265770923, 'weight_decay': 8.573547323696208e-06, 'hidden_size': 32, 'ff_size': 81, 'num_blocks': 2, 'activation': 'ReLU', 'norm_type': 'LayerNorm', 'normalize_before': True, 'loss_fn': 'mse', 'optimizer': 'AdamW'}\n",
      "\n",
      "Training the model...\n",
      "Train set: 6647 samples\n",
      "Validation set: 1662 samples\n"
     ]
    },
    {
     "name": "stderr",
     "output_type": "stream",
     "text": [
      "[I 2025-05-27 09:01:45,485] Trial 49 pruned. Trial was pruned at epoch 0.\n",
      "GPU available: True (cuda), used: True\n",
      "TPU available: False, using: 0 TPU cores\n",
      "HPU available: False, using: 0 HPUs\n",
      "LOCAL_RANK: 0 - CUDA_VISIBLE_DEVICES: [0]\n"
     ]
    },
    {
     "name": "stdout",
     "output_type": "stream",
     "text": [
      "Current value: 0.06224543313976049, Current params: {'input_chunk_length': 71, 'output_chunk_length': 4, 'dropout': 0.3767190206159575, 'batch_size': 94, 'lr': 0.0030970938265770923, 'weight_decay': 8.573547323696208e-06, 'hidden_size': 32, 'ff_size': 81, 'num_blocks': 2, 'activation': 'ReLU', 'norm_type': 'LayerNorm', 'normalize_before': True, 'loss_fn': 'mse', 'optimizer': 'AdamW'}\n",
      "Best value: 0.11228232615122136, Best params: {'input_chunk_length': 28, 'output_chunk_length': 6, 'dropout': 0.3813867799490145, 'batch_size': 123, 'lr': 0.00225144641395415, 'weight_decay': 7.276521829892213e-06, 'hidden_size': 32, 'ff_size': 35, 'num_blocks': 1, 'activation': 'ReLU', 'norm_type': 'LayerNorm', 'normalize_before': True, 'loss_fn': 'huber', 'optimizer': 'AdamW'}\n",
      "\n",
      "Starting Trial 50\n",
      "Hyperparameters: {'input_chunk_length': 34, 'output_chunk_length': 2, 'dropout': 0.41498502961101097, 'batch_size': 123, 'lr': 0.0006322583818820562, 'weight_decay': 1.8115322390868064e-06, 'hidden_size': 32, 'ff_size': 73, 'num_blocks': 1, 'activation': 'ReLU', 'norm_type': 'LayerNorm', 'normalize_before': True, 'loss_fn': 'huber', 'optimizer': 'SGD'}\n",
      "\n",
      "Training the model...\n",
      "Train set: 6647 samples\n",
      "Validation set: 1662 samples\n"
     ]
    },
    {
     "name": "stderr",
     "output_type": "stream",
     "text": [
      "[I 2025-05-27 09:01:46,869] Trial 50 pruned. Trial was pruned at epoch 0.\n",
      "GPU available: True (cuda), used: True\n",
      "TPU available: False, using: 0 TPU cores\n",
      "HPU available: False, using: 0 HPUs\n",
      "LOCAL_RANK: 0 - CUDA_VISIBLE_DEVICES: [0]\n"
     ]
    },
    {
     "name": "stdout",
     "output_type": "stream",
     "text": [
      "Current value: 0.0993044977099989, Current params: {'input_chunk_length': 34, 'output_chunk_length': 2, 'dropout': 0.41498502961101097, 'batch_size': 123, 'lr': 0.0006322583818820562, 'weight_decay': 1.8115322390868064e-06, 'hidden_size': 32, 'ff_size': 73, 'num_blocks': 1, 'activation': 'ReLU', 'norm_type': 'LayerNorm', 'normalize_before': True, 'loss_fn': 'huber', 'optimizer': 'SGD'}\n",
      "Best value: 0.11228232615122136, Best params: {'input_chunk_length': 28, 'output_chunk_length': 6, 'dropout': 0.3813867799490145, 'batch_size': 123, 'lr': 0.00225144641395415, 'weight_decay': 7.276521829892213e-06, 'hidden_size': 32, 'ff_size': 35, 'num_blocks': 1, 'activation': 'ReLU', 'norm_type': 'LayerNorm', 'normalize_before': True, 'loss_fn': 'huber', 'optimizer': 'AdamW'}\n",
      "\n",
      "Starting Trial 51\n",
      "Hyperparameters: {'input_chunk_length': 27, 'output_chunk_length': 9, 'dropout': 0.3731483191583715, 'batch_size': 113, 'lr': 0.0023608036065220456, 'weight_decay': 2.3103215091877454e-06, 'hidden_size': 32, 'ff_size': 32, 'num_blocks': 1, 'activation': 'ReLU', 'norm_type': 'LayerNorm', 'normalize_before': True, 'loss_fn': 'huber', 'optimizer': 'AdamW'}\n",
      "\n",
      "Training the model...\n",
      "Train set: 6647 samples\n",
      "Validation set: 1662 samples\n"
     ]
    },
    {
     "name": "stderr",
     "output_type": "stream",
     "text": [
      "Metric val_loss improved. New best score: 0.037\n",
      "Metric val_loss improved by 0.013 >= min_delta = 0.0005. New best score: 0.023\n",
      "Metric val_loss improved by 0.004 >= min_delta = 0.0005. New best score: 0.020\n",
      "Metric val_loss improved by 0.002 >= min_delta = 0.0005. New best score: 0.018\n",
      "Metric val_loss improved by 0.001 >= min_delta = 0.0005. New best score: 0.018\n",
      "Metric val_loss improved by 0.001 >= min_delta = 0.0005. New best score: 0.017\n",
      "Monitored metric val_loss did not improve in the last 15 records. Best score: 0.017. Signaling Trainer to stop.\n",
      "GPU available: True (cuda), used: True\n",
      "TPU available: False, using: 0 TPU cores\n",
      "HPU available: False, using: 0 HPUs\n",
      "LOCAL_RANK: 0 - CUDA_VISIBLE_DEVICES: [0]\n"
     ]
    },
    {
     "name": "stdout",
     "output_type": "stream",
     "text": [
      "Model loaded from checkpoint for trial 51\n"
     ]
    },
    {
     "name": "stderr",
     "output_type": "stream",
     "text": [
      "/home/eduardo/Documentos/Water-Cycle-Neural-Network/venv/lib/python3.12/site-packages/pytorch_lightning/trainer/connectors/data_connector.py:425: The 'predict_dataloader' does not have many workers which may be a bottleneck. Consider increasing the value of the `num_workers` argument` to `num_workers=11` in the `DataLoader` to improve performance.\n",
      "[I 2025-05-27 09:11:59,051] Trial 51 finished with value: 0.12005196842422029 and parameters: {'input_chunk_length': 27, 'output_chunk_length': 9, 'dropout': 0.3731483191583715, 'batch_size': 113, 'lr': 0.0023608036065220456, 'weight_decay': 2.3103215091877454e-06, 'hidden_size': 32, 'ff_size': 32, 'num_blocks': 1, 'activation': 'ReLU', 'norm_type': 'LayerNorm', 'normalize_before': True, 'loss_fn': 'huber', 'optimizer': 'AdamW'}. Best is trial 31 with value: 0.11228232615122136.\n",
      "GPU available: True (cuda), used: True\n",
      "TPU available: False, using: 0 TPU cores\n",
      "HPU available: False, using: 0 HPUs\n",
      "LOCAL_RANK: 0 - CUDA_VISIBLE_DEVICES: [0]\n"
     ]
    },
    {
     "name": "stdout",
     "output_type": "stream",
     "text": [
      "Starting time series verification for consistency...\n",
      "\n",
      "Performance metrics:\n",
      "                                    MSE        RMSE         MAE        R2  \\\n",
      "Temperature                    6.624976    2.573903    2.034818  0.782980   \n",
      "Precipitation_accumulated     33.132089    5.756048    4.872302 -8.743591   \n",
      "Humidity                      71.018550    8.427250    6.490192  0.515977   \n",
      "Wind_Speed_kmh                 1.360545    1.166424    0.922520 -0.009881   \n",
      "Soil_Moisture              33631.370910  183.388579  152.613779  0.397244   \n",
      "Soil_Temperature               7.790474    2.791142    2.368671  0.516454   \n",
      "Wind_Dir_Sin                   0.612371    0.782541    0.688965 -0.112104   \n",
      "Wind_Dir_Cos                   0.402190    0.634185    0.543560 -0.096598   \n",
      "\n",
      "                                SMAPE  \n",
      "Temperature                 33.096394  \n",
      "Precipitation_accumulated    1.053703  \n",
      "Humidity                     7.714454  \n",
      "Wind_Speed_kmh              73.763275  \n",
      "Soil_Moisture                1.793750  \n",
      "Soil_Temperature            50.570852  \n",
      "Wind_Dir_Sin               145.654659  \n",
      "Wind_Dir_Cos               139.857926  \n",
      "The MAE for this fold was 0.12005196842422029\n",
      "Results of trial 51 saved in optuna_iteration_metrics/trial_51.json\n",
      "Current value: 0.12005196842422029, Current params: {'input_chunk_length': 27, 'output_chunk_length': 9, 'dropout': 0.3731483191583715, 'batch_size': 113, 'lr': 0.0023608036065220456, 'weight_decay': 2.3103215091877454e-06, 'hidden_size': 32, 'ff_size': 32, 'num_blocks': 1, 'activation': 'ReLU', 'norm_type': 'LayerNorm', 'normalize_before': True, 'loss_fn': 'huber', 'optimizer': 'AdamW'}\n",
      "Best value: 0.11228232615122136, Best params: {'input_chunk_length': 28, 'output_chunk_length': 6, 'dropout': 0.3813867799490145, 'batch_size': 123, 'lr': 0.00225144641395415, 'weight_decay': 7.276521829892213e-06, 'hidden_size': 32, 'ff_size': 35, 'num_blocks': 1, 'activation': 'ReLU', 'norm_type': 'LayerNorm', 'normalize_before': True, 'loss_fn': 'huber', 'optimizer': 'AdamW'}\n",
      "\n",
      "Starting Trial 52\n",
      "Hyperparameters: {'input_chunk_length': 31, 'output_chunk_length': 6, 'dropout': 0.3875161975891802, 'batch_size': 84, 'lr': 0.0015991369996567059, 'weight_decay': 3.203829339481875e-06, 'hidden_size': 32, 'ff_size': 43, 'num_blocks': 1, 'activation': 'ReLU', 'norm_type': 'LayerNorm', 'normalize_before': True, 'loss_fn': 'huber', 'optimizer': 'AdamW'}\n",
      "\n",
      "Training the model...\n",
      "Train set: 6647 samples\n",
      "Validation set: 1662 samples\n"
     ]
    },
    {
     "name": "stderr",
     "output_type": "stream",
     "text": [
      "Metric val_loss improved. New best score: 0.040\n",
      "Metric val_loss improved by 0.010 >= min_delta = 0.0005. New best score: 0.030\n",
      "Metric val_loss improved by 0.005 >= min_delta = 0.0005. New best score: 0.025\n",
      "[I 2025-05-27 09:12:03,468] Trial 52 pruned. Trial was pruned at epoch 3.\n",
      "GPU available: True (cuda), used: True\n",
      "TPU available: False, using: 0 TPU cores\n",
      "HPU available: False, using: 0 HPUs\n",
      "LOCAL_RANK: 0 - CUDA_VISIBLE_DEVICES: [0]\n"
     ]
    },
    {
     "name": "stdout",
     "output_type": "stream",
     "text": [
      "Current value: 0.023571018173348703, Current params: {'input_chunk_length': 31, 'output_chunk_length': 6, 'dropout': 0.3875161975891802, 'batch_size': 84, 'lr': 0.0015991369996567059, 'weight_decay': 3.203829339481875e-06, 'hidden_size': 32, 'ff_size': 43, 'num_blocks': 1, 'activation': 'ReLU', 'norm_type': 'LayerNorm', 'normalize_before': True, 'loss_fn': 'huber', 'optimizer': 'AdamW'}\n",
      "Best value: 0.11228232615122136, Best params: {'input_chunk_length': 28, 'output_chunk_length': 6, 'dropout': 0.3813867799490145, 'batch_size': 123, 'lr': 0.00225144641395415, 'weight_decay': 7.276521829892213e-06, 'hidden_size': 32, 'ff_size': 35, 'num_blocks': 1, 'activation': 'ReLU', 'norm_type': 'LayerNorm', 'normalize_before': True, 'loss_fn': 'huber', 'optimizer': 'AdamW'}\n",
      "\n",
      "Starting Trial 53\n",
      "Hyperparameters: {'input_chunk_length': 29, 'output_chunk_length': 7, 'dropout': 0.4289643833254515, 'batch_size': 156, 'lr': 0.0031993742604830284, 'weight_decay': 4.618963274202959e-06, 'hidden_size': 32, 'ff_size': 35, 'num_blocks': 1, 'activation': 'ReLU', 'norm_type': 'LayerNorm', 'normalize_before': True, 'loss_fn': 'huber', 'optimizer': 'AdamW'}\n",
      "\n",
      "Training the model...\n",
      "Train set: 6647 samples\n",
      "Validation set: 1662 samples\n"
     ]
    },
    {
     "name": "stderr",
     "output_type": "stream",
     "text": [
      "Metric val_loss improved. New best score: 0.036\n",
      "Metric val_loss improved by 0.005 >= min_delta = 0.0005. New best score: 0.031\n",
      "Metric val_loss improved by 0.007 >= min_delta = 0.0005. New best score: 0.024\n",
      "Metric val_loss improved by 0.002 >= min_delta = 0.0005. New best score: 0.022\n",
      "Metric val_loss improved by 0.003 >= min_delta = 0.0005. New best score: 0.019\n",
      "Metric val_loss improved by 0.001 >= min_delta = 0.0005. New best score: 0.018\n",
      "Metric val_loss improved by 0.001 >= min_delta = 0.0005. New best score: 0.018\n",
      "Metric val_loss improved by 0.001 >= min_delta = 0.0005. New best score: 0.017\n",
      "Metric val_loss improved by 0.001 >= min_delta = 0.0005. New best score: 0.017\n",
      "`Trainer.fit` stopped: `max_epochs=30` reached.\n",
      "GPU available: True (cuda), used: True\n",
      "TPU available: False, using: 0 TPU cores\n",
      "HPU available: False, using: 0 HPUs\n",
      "LOCAL_RANK: 0 - CUDA_VISIBLE_DEVICES: [0]\n"
     ]
    },
    {
     "name": "stdout",
     "output_type": "stream",
     "text": [
      "Model loaded from checkpoint for trial 53\n"
     ]
    },
    {
     "name": "stderr",
     "output_type": "stream",
     "text": [
      "/home/eduardo/Documentos/Water-Cycle-Neural-Network/venv/lib/python3.12/site-packages/pytorch_lightning/trainer/connectors/data_connector.py:425: The 'predict_dataloader' does not have many workers which may be a bottleneck. Consider increasing the value of the `num_workers` argument` to `num_workers=11` in the `DataLoader` to improve performance.\n",
      "[I 2025-05-27 09:12:29,018] Trial 53 finished with value: 0.11645918035947536 and parameters: {'input_chunk_length': 29, 'output_chunk_length': 7, 'dropout': 0.4289643833254515, 'batch_size': 156, 'lr': 0.0031993742604830284, 'weight_decay': 4.618963274202959e-06, 'hidden_size': 32, 'ff_size': 35, 'num_blocks': 1, 'activation': 'ReLU', 'norm_type': 'LayerNorm', 'normalize_before': True, 'loss_fn': 'huber', 'optimizer': 'AdamW'}. Best is trial 31 with value: 0.11228232615122136.\n",
      "GPU available: True (cuda), used: True\n",
      "TPU available: False, using: 0 TPU cores\n",
      "HPU available: False, using: 0 HPUs\n",
      "LOCAL_RANK: 0 - CUDA_VISIBLE_DEVICES: [0]\n"
     ]
    },
    {
     "name": "stdout",
     "output_type": "stream",
     "text": [
      "Starting time series verification for consistency...\n",
      "\n",
      "Performance metrics:\n",
      "                                    MSE        RMSE         MAE         R2  \\\n",
      "Temperature                    6.559205    2.561094    2.004062   0.785134   \n",
      "Precipitation_accumulated     72.260163    8.500598    7.131818 -20.250500   \n",
      "Humidity                      65.181472    8.073504    6.100282   0.555759   \n",
      "Wind_Speed_kmh                 1.292911    1.137063    0.903398   0.040321   \n",
      "Soil_Moisture              27365.875238  165.426344  131.679045   0.509537   \n",
      "Soil_Temperature               5.866655    2.422118    1.935054   0.635863   \n",
      "Wind_Dir_Sin                   0.609444    0.780669    0.678790  -0.106789   \n",
      "Wind_Dir_Cos                   0.396578    0.629744    0.529089  -0.081296   \n",
      "\n",
      "                                SMAPE  \n",
      "Temperature                 32.371041  \n",
      "Precipitation_accumulated    1.519075  \n",
      "Humidity                     7.264096  \n",
      "Wind_Speed_kmh              73.615592  \n",
      "Soil_Moisture                1.531687  \n",
      "Soil_Temperature            36.298336  \n",
      "Wind_Dir_Sin               141.218190  \n",
      "Wind_Dir_Cos               129.911796  \n",
      "The MAE for this fold was 0.11645918035947536\n",
      "Results of trial 53 saved in optuna_iteration_metrics/trial_53.json\n",
      "Current value: 0.11645918035947536, Current params: {'input_chunk_length': 29, 'output_chunk_length': 7, 'dropout': 0.4289643833254515, 'batch_size': 156, 'lr': 0.0031993742604830284, 'weight_decay': 4.618963274202959e-06, 'hidden_size': 32, 'ff_size': 35, 'num_blocks': 1, 'activation': 'ReLU', 'norm_type': 'LayerNorm', 'normalize_before': True, 'loss_fn': 'huber', 'optimizer': 'AdamW'}\n",
      "Best value: 0.11228232615122136, Best params: {'input_chunk_length': 28, 'output_chunk_length': 6, 'dropout': 0.3813867799490145, 'batch_size': 123, 'lr': 0.00225144641395415, 'weight_decay': 7.276521829892213e-06, 'hidden_size': 32, 'ff_size': 35, 'num_blocks': 1, 'activation': 'ReLU', 'norm_type': 'LayerNorm', 'normalize_before': True, 'loss_fn': 'huber', 'optimizer': 'AdamW'}\n",
      "\n",
      "Starting Trial 54\n",
      "Hyperparameters: {'input_chunk_length': 50, 'output_chunk_length': 7, 'dropout': 0.4335085842043475, 'batch_size': 155, 'lr': 0.003578320027640315, 'weight_decay': 5.6618757889349946e-06, 'hidden_size': 32, 'ff_size': 36, 'num_blocks': 1, 'activation': 'ReLU', 'norm_type': 'LayerNorm', 'normalize_before': True, 'loss_fn': 'huber', 'optimizer': 'AdamW'}\n",
      "\n",
      "Training the model...\n",
      "Train set: 6647 samples\n",
      "Validation set: 1662 samples\n"
     ]
    },
    {
     "name": "stderr",
     "output_type": "stream",
     "text": [
      "Metric val_loss improved. New best score: 0.038\n",
      "Metric val_loss improved by 0.012 >= min_delta = 0.0005. New best score: 0.026\n",
      "Metric val_loss improved by 0.003 >= min_delta = 0.0005. New best score: 0.023\n",
      "Metric val_loss improved by 0.002 >= min_delta = 0.0005. New best score: 0.021\n",
      "Metric val_loss improved by 0.001 >= min_delta = 0.0005. New best score: 0.019\n",
      "Metric val_loss improved by 0.001 >= min_delta = 0.0005. New best score: 0.018\n",
      "Metric val_loss improved by 0.001 >= min_delta = 0.0005. New best score: 0.018\n",
      "Metric val_loss improved by 0.001 >= min_delta = 0.0005. New best score: 0.017\n",
      "Metric val_loss improved by 0.001 >= min_delta = 0.0005. New best score: 0.016\n",
      "Monitored metric val_loss did not improve in the last 15 records. Best score: 0.016. Signaling Trainer to stop.\n",
      "GPU available: True (cuda), used: True\n",
      "TPU available: False, using: 0 TPU cores\n",
      "HPU available: False, using: 0 HPUs\n",
      "LOCAL_RANK: 0 - CUDA_VISIBLE_DEVICES: [0]\n"
     ]
    },
    {
     "name": "stdout",
     "output_type": "stream",
     "text": [
      "Model loaded from checkpoint for trial 54\n"
     ]
    },
    {
     "name": "stderr",
     "output_type": "stream",
     "text": [
      "/home/eduardo/Documentos/Water-Cycle-Neural-Network/venv/lib/python3.12/site-packages/pytorch_lightning/trainer/connectors/data_connector.py:425: The 'predict_dataloader' does not have many workers which may be a bottleneck. Consider increasing the value of the `num_workers` argument` to `num_workers=11` in the `DataLoader` to improve performance.\n",
      "[I 2025-05-27 09:13:39,227] Trial 54 finished with value: 0.11318917956519378 and parameters: {'input_chunk_length': 50, 'output_chunk_length': 7, 'dropout': 0.4335085842043475, 'batch_size': 155, 'lr': 0.003578320027640315, 'weight_decay': 5.6618757889349946e-06, 'hidden_size': 32, 'ff_size': 36, 'num_blocks': 1, 'activation': 'ReLU', 'norm_type': 'LayerNorm', 'normalize_before': True, 'loss_fn': 'huber', 'optimizer': 'AdamW'}. Best is trial 31 with value: 0.11228232615122136.\n"
     ]
    },
    {
     "name": "stdout",
     "output_type": "stream",
     "text": [
      "Starting time series verification for consistency...\n",
      "\n",
      "Performance metrics:\n",
      "                                    MSE        RMSE        MAE        R2  \\\n",
      "Temperature                    7.036910    2.652717   2.116883  0.768745   \n",
      "Precipitation_accumulated     14.741151    3.839421   3.017521 -3.485780   \n",
      "Humidity                      69.210347    8.319276   6.349079  0.527655   \n",
      "Wind_Speed_kmh                 1.345276    1.159860   0.904997 -0.000293   \n",
      "Soil_Moisture              15977.335443  126.401485  94.323121  0.688374   \n",
      "Soil_Temperature               5.256915    2.292796   1.805676  0.672272   \n",
      "Wind_Dir_Sin                   0.576711    0.759415   0.653579 -0.046484   \n",
      "Wind_Dir_Cos                   0.391424    0.625639   0.529372 -0.066467   \n",
      "\n",
      "                                SMAPE  \n",
      "Temperature                 34.012906  \n",
      "Precipitation_accumulated    0.649252  \n",
      "Humidity                     7.529897  \n",
      "Wind_Speed_kmh              73.372110  \n",
      "Soil_Moisture                1.101848  \n",
      "Soil_Temperature            33.104404  \n",
      "Wind_Dir_Sin               135.252704  \n",
      "Wind_Dir_Cos               132.819506  \n",
      "The MAE for this fold was 0.11318917956519378\n",
      "Results of trial 54 saved in optuna_iteration_metrics/trial_54.json\n",
      "Current value: 0.11318917956519378, Current params: {'input_chunk_length': 50, 'output_chunk_length': 7, 'dropout': 0.4335085842043475, 'batch_size': 155, 'lr': 0.003578320027640315, 'weight_decay': 5.6618757889349946e-06, 'hidden_size': 32, 'ff_size': 36, 'num_blocks': 1, 'activation': 'ReLU', 'norm_type': 'LayerNorm', 'normalize_before': True, 'loss_fn': 'huber', 'optimizer': 'AdamW'}\n",
      "Best value: 0.11228232615122136, Best params: {'input_chunk_length': 28, 'output_chunk_length': 6, 'dropout': 0.3813867799490145, 'batch_size': 123, 'lr': 0.00225144641395415, 'weight_decay': 7.276521829892213e-06, 'hidden_size': 32, 'ff_size': 35, 'num_blocks': 1, 'activation': 'ReLU', 'norm_type': 'LayerNorm', 'normalize_before': True, 'loss_fn': 'huber', 'optimizer': 'AdamW'}\n",
      "\n",
      "Starting Trial 55\n",
      "Hyperparameters: {'input_chunk_length': 52, 'output_chunk_length': 7, 'dropout': 0.4993846900155764, 'batch_size': 159, 'lr': 0.0035059281933931727, 'weight_decay': 4.684378612280639e-06, 'hidden_size': 64, 'ff_size': 95, 'num_blocks': 1, 'activation': 'ReLU', 'norm_type': 'LayerNorm', 'normalize_before': True, 'loss_fn': 'smoothl1', 'optimizer': 'AdamW'}\n",
      "\n",
      "Training the model...\n",
      "Train set: 6647 samples\n",
      "Validation set: 1662 samples\n"
     ]
    },
    {
     "name": "stderr",
     "output_type": "stream",
     "text": [
      "GPU available: True (cuda), used: True\n",
      "TPU available: False, using: 0 TPU cores\n",
      "HPU available: False, using: 0 HPUs\n",
      "LOCAL_RANK: 0 - CUDA_VISIBLE_DEVICES: [0]\n",
      "[I 2025-05-27 09:13:40,532] Trial 55 pruned. Trial was pruned at epoch 0.\n",
      "GPU available: True (cuda), used: True\n",
      "TPU available: False, using: 0 TPU cores\n",
      "HPU available: False, using: 0 HPUs\n",
      "LOCAL_RANK: 0 - CUDA_VISIBLE_DEVICES: [0]\n"
     ]
    },
    {
     "name": "stdout",
     "output_type": "stream",
     "text": [
      "Current value: 0.047353530686434095, Current params: {'input_chunk_length': 52, 'output_chunk_length': 7, 'dropout': 0.4993846900155764, 'batch_size': 159, 'lr': 0.0035059281933931727, 'weight_decay': 4.684378612280639e-06, 'hidden_size': 64, 'ff_size': 95, 'num_blocks': 1, 'activation': 'ReLU', 'norm_type': 'LayerNorm', 'normalize_before': True, 'loss_fn': 'smoothl1', 'optimizer': 'AdamW'}\n",
      "Best value: 0.11228232615122136, Best params: {'input_chunk_length': 28, 'output_chunk_length': 6, 'dropout': 0.3813867799490145, 'batch_size': 123, 'lr': 0.00225144641395415, 'weight_decay': 7.276521829892213e-06, 'hidden_size': 32, 'ff_size': 35, 'num_blocks': 1, 'activation': 'ReLU', 'norm_type': 'LayerNorm', 'normalize_before': True, 'loss_fn': 'huber', 'optimizer': 'AdamW'}\n",
      "\n",
      "Starting Trial 56\n",
      "Hyperparameters: {'input_chunk_length': 54, 'output_chunk_length': 11, 'dropout': 0.4532508852268472, 'batch_size': 171, 'lr': 0.004788564512420797, 'weight_decay': 6.673197671605217e-06, 'hidden_size': 32, 'ff_size': 38, 'num_blocks': 2, 'activation': 'ReLU', 'norm_type': 'LayerNormNoBias', 'normalize_before': True, 'loss_fn': 'huber', 'optimizer': 'AdamW'}\n",
      "\n",
      "Training the model...\n",
      "Train set: 6647 samples\n",
      "Validation set: 1662 samples\n"
     ]
    },
    {
     "name": "stderr",
     "output_type": "stream",
     "text": [
      "Metric val_loss improved. New best score: 0.038\n",
      "Metric val_loss improved by 0.015 >= min_delta = 0.0005. New best score: 0.023\n",
      "Metric val_loss improved by 0.003 >= min_delta = 0.0005. New best score: 0.021\n",
      "Metric val_loss improved by 0.002 >= min_delta = 0.0005. New best score: 0.019\n",
      "Metric val_loss improved by 0.001 >= min_delta = 0.0005. New best score: 0.018\n",
      "[I 2025-05-27 09:13:50,964] Trial 56 pruned. Trial was pruned at epoch 11.\n",
      "GPU available: True (cuda), used: True\n",
      "TPU available: False, using: 0 TPU cores\n",
      "HPU available: False, using: 0 HPUs\n",
      "LOCAL_RANK: 0 - CUDA_VISIBLE_DEVICES: [0]\n"
     ]
    },
    {
     "name": "stdout",
     "output_type": "stream",
     "text": [
      "Current value: 0.01804739824245723, Current params: {'input_chunk_length': 54, 'output_chunk_length': 11, 'dropout': 0.4532508852268472, 'batch_size': 171, 'lr': 0.004788564512420797, 'weight_decay': 6.673197671605217e-06, 'hidden_size': 32, 'ff_size': 38, 'num_blocks': 2, 'activation': 'ReLU', 'norm_type': 'LayerNormNoBias', 'normalize_before': True, 'loss_fn': 'huber', 'optimizer': 'AdamW'}\n",
      "Best value: 0.11228232615122136, Best params: {'input_chunk_length': 28, 'output_chunk_length': 6, 'dropout': 0.3813867799490145, 'batch_size': 123, 'lr': 0.00225144641395415, 'weight_decay': 7.276521829892213e-06, 'hidden_size': 32, 'ff_size': 35, 'num_blocks': 1, 'activation': 'ReLU', 'norm_type': 'LayerNorm', 'normalize_before': True, 'loss_fn': 'huber', 'optimizer': 'AdamW'}\n",
      "\n",
      "Starting Trial 57\n",
      "Hyperparameters: {'input_chunk_length': 49, 'output_chunk_length': 5, 'dropout': 0.4741745740593068, 'batch_size': 150, 'lr': 0.0030113915350897663, 'weight_decay': 1.3048382840317895e-05, 'hidden_size': 32, 'ff_size': 35, 'num_blocks': 1, 'activation': 'ReLU', 'norm_type': 'TimeBatchNorm2d', 'normalize_before': False, 'loss_fn': 'huber', 'optimizer': 'RMSprop'}\n",
      "\n",
      "Training the model...\n",
      "Train set: 6647 samples\n",
      "Validation set: 1662 samples\n"
     ]
    },
    {
     "name": "stderr",
     "output_type": "stream",
     "text": [
      "Metric val_loss improved. New best score: 0.040\n",
      "[I 2025-05-27 09:13:53,044] Trial 57 pruned. Trial was pruned at epoch 1.\n",
      "GPU available: True (cuda), used: True\n",
      "TPU available: False, using: 0 TPU cores\n",
      "HPU available: False, using: 0 HPUs\n",
      "LOCAL_RANK: 0 - CUDA_VISIBLE_DEVICES: [0]\n"
     ]
    },
    {
     "name": "stdout",
     "output_type": "stream",
     "text": [
      "Current value: 0.03595051618355926, Current params: {'input_chunk_length': 49, 'output_chunk_length': 5, 'dropout': 0.4741745740593068, 'batch_size': 150, 'lr': 0.0030113915350897663, 'weight_decay': 1.3048382840317895e-05, 'hidden_size': 32, 'ff_size': 35, 'num_blocks': 1, 'activation': 'ReLU', 'norm_type': 'TimeBatchNorm2d', 'normalize_before': False, 'loss_fn': 'huber', 'optimizer': 'RMSprop'}\n",
      "Best value: 0.11228232615122136, Best params: {'input_chunk_length': 28, 'output_chunk_length': 6, 'dropout': 0.3813867799490145, 'batch_size': 123, 'lr': 0.00225144641395415, 'weight_decay': 7.276521829892213e-06, 'hidden_size': 32, 'ff_size': 35, 'num_blocks': 1, 'activation': 'ReLU', 'norm_type': 'LayerNorm', 'normalize_before': True, 'loss_fn': 'huber', 'optimizer': 'AdamW'}\n",
      "\n",
      "Starting Trial 58\n",
      "Hyperparameters: {'input_chunk_length': 44, 'output_chunk_length': 7, 'dropout': 0.3464718795677742, 'batch_size': 190, 'lr': 0.0018861535567258631, 'weight_decay': 3.7982856177931955e-06, 'hidden_size': 128, 'ff_size': 151, 'num_blocks': 1, 'activation': 'ReLU', 'norm_type': 'LayerNorm', 'normalize_before': True, 'loss_fn': 'huber', 'optimizer': 'Adam'}\n",
      "\n",
      "Training the model...\n",
      "Train set: 6647 samples\n",
      "Validation set: 1662 samples\n"
     ]
    },
    {
     "name": "stderr",
     "output_type": "stream",
     "text": [
      "[I 2025-05-27 09:13:54,437] Trial 58 pruned. Trial was pruned at epoch 0.\n",
      "GPU available: True (cuda), used: True\n",
      "TPU available: False, using: 0 TPU cores\n",
      "HPU available: False, using: 0 HPUs\n",
      "LOCAL_RANK: 0 - CUDA_VISIBLE_DEVICES: [0]\n"
     ]
    },
    {
     "name": "stdout",
     "output_type": "stream",
     "text": [
      "Current value: 0.047378006763417774, Current params: {'input_chunk_length': 44, 'output_chunk_length': 7, 'dropout': 0.3464718795677742, 'batch_size': 190, 'lr': 0.0018861535567258631, 'weight_decay': 3.7982856177931955e-06, 'hidden_size': 128, 'ff_size': 151, 'num_blocks': 1, 'activation': 'ReLU', 'norm_type': 'LayerNorm', 'normalize_before': True, 'loss_fn': 'huber', 'optimizer': 'Adam'}\n",
      "Best value: 0.11228232615122136, Best params: {'input_chunk_length': 28, 'output_chunk_length': 6, 'dropout': 0.3813867799490145, 'batch_size': 123, 'lr': 0.00225144641395415, 'weight_decay': 7.276521829892213e-06, 'hidden_size': 32, 'ff_size': 35, 'num_blocks': 1, 'activation': 'ReLU', 'norm_type': 'LayerNorm', 'normalize_before': True, 'loss_fn': 'huber', 'optimizer': 'AdamW'}\n",
      "\n",
      "Starting Trial 59\n",
      "Hyperparameters: {'input_chunk_length': 68, 'output_chunk_length': 8, 'dropout': 0.15058744801381677, 'batch_size': 166, 'lr': 0.0036636661803202803, 'weight_decay': 1.5104506795929075e-06, 'hidden_size': 64, 'ff_size': 79, 'num_blocks': 1, 'activation': 'ReLU', 'norm_type': 'LayerNorm', 'normalize_before': True, 'loss_fn': 'mae', 'optimizer': 'AdamW'}\n",
      "\n",
      "Training the model...\n",
      "Train set: 6647 samples\n",
      "Validation set: 1662 samples\n"
     ]
    },
    {
     "name": "stderr",
     "output_type": "stream",
     "text": [
      "[I 2025-05-27 09:13:55,796] Trial 59 pruned. Trial was pruned at epoch 0.\n",
      "GPU available: True (cuda), used: True\n",
      "TPU available: False, using: 0 TPU cores\n",
      "HPU available: False, using: 0 HPUs\n",
      "LOCAL_RANK: 0 - CUDA_VISIBLE_DEVICES: [0]\n"
     ]
    },
    {
     "name": "stdout",
     "output_type": "stream",
     "text": [
      "Current value: 0.20589768875814787, Current params: {'input_chunk_length': 68, 'output_chunk_length': 8, 'dropout': 0.15058744801381677, 'batch_size': 166, 'lr': 0.0036636661803202803, 'weight_decay': 1.5104506795929075e-06, 'hidden_size': 64, 'ff_size': 79, 'num_blocks': 1, 'activation': 'ReLU', 'norm_type': 'LayerNorm', 'normalize_before': True, 'loss_fn': 'mae', 'optimizer': 'AdamW'}\n",
      "Best value: 0.11228232615122136, Best params: {'input_chunk_length': 28, 'output_chunk_length': 6, 'dropout': 0.3813867799490145, 'batch_size': 123, 'lr': 0.00225144641395415, 'weight_decay': 7.276521829892213e-06, 'hidden_size': 32, 'ff_size': 35, 'num_blocks': 1, 'activation': 'ReLU', 'norm_type': 'LayerNorm', 'normalize_before': True, 'loss_fn': 'huber', 'optimizer': 'AdamW'}\n",
      "\n",
      "Starting Trial 60\n",
      "Hyperparameters: {'input_chunk_length': 35, 'output_chunk_length': 13, 'dropout': 0.40480207480493113, 'batch_size': 137, 'lr': 1.881127081409223e-05, 'weight_decay': 9.610819985633145e-06, 'hidden_size': 32, 'ff_size': 47, 'num_blocks': 1, 'activation': 'ReLU', 'norm_type': 'LayerNorm', 'normalize_before': True, 'loss_fn': 'smoothl1', 'optimizer': 'AdamW'}\n",
      "\n",
      "Training the model...\n",
      "Train set: 6647 samples\n",
      "Validation set: 1662 samples\n"
     ]
    },
    {
     "name": "stderr",
     "output_type": "stream",
     "text": [
      "[I 2025-05-27 09:13:57,164] Trial 60 pruned. Trial was pruned at epoch 0.\n",
      "GPU available: True (cuda), used: True\n",
      "TPU available: False, using: 0 TPU cores\n",
      "HPU available: False, using: 0 HPUs\n",
      "LOCAL_RANK: 0 - CUDA_VISIBLE_DEVICES: [0]\n"
     ]
    },
    {
     "name": "stdout",
     "output_type": "stream",
     "text": [
      "Current value: 0.2831988202574494, Current params: {'input_chunk_length': 35, 'output_chunk_length': 13, 'dropout': 0.40480207480493113, 'batch_size': 137, 'lr': 1.881127081409223e-05, 'weight_decay': 9.610819985633145e-06, 'hidden_size': 32, 'ff_size': 47, 'num_blocks': 1, 'activation': 'ReLU', 'norm_type': 'LayerNorm', 'normalize_before': True, 'loss_fn': 'smoothl1', 'optimizer': 'AdamW'}\n",
      "Best value: 0.11228232615122136, Best params: {'input_chunk_length': 28, 'output_chunk_length': 6, 'dropout': 0.3813867799490145, 'batch_size': 123, 'lr': 0.00225144641395415, 'weight_decay': 7.276521829892213e-06, 'hidden_size': 32, 'ff_size': 35, 'num_blocks': 1, 'activation': 'ReLU', 'norm_type': 'LayerNorm', 'normalize_before': True, 'loss_fn': 'huber', 'optimizer': 'AdamW'}\n",
      "\n",
      "Starting Trial 61\n",
      "Hyperparameters: {'input_chunk_length': 30, 'output_chunk_length': 6, 'dropout': 0.4454965096216417, 'batch_size': 130, 'lr': 0.0010506158211670696, 'weight_decay': 6.4599260070007155e-06, 'hidden_size': 32, 'ff_size': 42, 'num_blocks': 1, 'activation': 'ReLU', 'norm_type': 'LayerNorm', 'normalize_before': True, 'loss_fn': 'huber', 'optimizer': 'AdamW'}\n",
      "\n",
      "Training the model...\n",
      "Train set: 6647 samples\n",
      "Validation set: 1662 samples\n"
     ]
    },
    {
     "name": "stderr",
     "output_type": "stream",
     "text": [
      "[I 2025-05-27 09:13:58,485] Trial 61 pruned. Trial was pruned at epoch 0.\n",
      "GPU available: True (cuda), used: True\n",
      "TPU available: False, using: 0 TPU cores\n",
      "HPU available: False, using: 0 HPUs\n",
      "LOCAL_RANK: 0 - CUDA_VISIBLE_DEVICES: [0]\n"
     ]
    },
    {
     "name": "stdout",
     "output_type": "stream",
     "text": [
      "Current value: 0.046457590761326405, Current params: {'input_chunk_length': 30, 'output_chunk_length': 6, 'dropout': 0.4454965096216417, 'batch_size': 130, 'lr': 0.0010506158211670696, 'weight_decay': 6.4599260070007155e-06, 'hidden_size': 32, 'ff_size': 42, 'num_blocks': 1, 'activation': 'ReLU', 'norm_type': 'LayerNorm', 'normalize_before': True, 'loss_fn': 'huber', 'optimizer': 'AdamW'}\n",
      "Best value: 0.11228232615122136, Best params: {'input_chunk_length': 28, 'output_chunk_length': 6, 'dropout': 0.3813867799490145, 'batch_size': 123, 'lr': 0.00225144641395415, 'weight_decay': 7.276521829892213e-06, 'hidden_size': 32, 'ff_size': 35, 'num_blocks': 1, 'activation': 'ReLU', 'norm_type': 'LayerNorm', 'normalize_before': True, 'loss_fn': 'huber', 'optimizer': 'AdamW'}\n",
      "\n",
      "Starting Trial 62\n",
      "Hyperparameters: {'input_chunk_length': 48, 'output_chunk_length': 5, 'dropout': 0.4203183088256396, 'batch_size': 103, 'lr': 0.00195382002941054, 'weight_decay': 0.0084580592478075, 'hidden_size': 32, 'ff_size': 52, 'num_blocks': 1, 'activation': 'ReLU', 'norm_type': 'LayerNorm', 'normalize_before': True, 'loss_fn': 'huber', 'optimizer': 'AdamW'}\n",
      "\n",
      "Training the model...\n",
      "Train set: 6647 samples\n",
      "Validation set: 1662 samples\n"
     ]
    },
    {
     "name": "stderr",
     "output_type": "stream",
     "text": [
      "[I 2025-05-27 09:13:59,868] Trial 62 pruned. Trial was pruned at epoch 0.\n",
      "GPU available: True (cuda), used: True\n",
      "TPU available: False, using: 0 TPU cores\n",
      "HPU available: False, using: 0 HPUs\n",
      "LOCAL_RANK: 0 - CUDA_VISIBLE_DEVICES: [0]\n"
     ]
    },
    {
     "name": "stdout",
     "output_type": "stream",
     "text": [
      "Current value: 0.05348500230820165, Current params: {'input_chunk_length': 48, 'output_chunk_length': 5, 'dropout': 0.4203183088256396, 'batch_size': 103, 'lr': 0.00195382002941054, 'weight_decay': 0.0084580592478075, 'hidden_size': 32, 'ff_size': 52, 'num_blocks': 1, 'activation': 'ReLU', 'norm_type': 'LayerNorm', 'normalize_before': True, 'loss_fn': 'huber', 'optimizer': 'AdamW'}\n",
      "Best value: 0.11228232615122136, Best params: {'input_chunk_length': 28, 'output_chunk_length': 6, 'dropout': 0.3813867799490145, 'batch_size': 123, 'lr': 0.00225144641395415, 'weight_decay': 7.276521829892213e-06, 'hidden_size': 32, 'ff_size': 35, 'num_blocks': 1, 'activation': 'ReLU', 'norm_type': 'LayerNorm', 'normalize_before': True, 'loss_fn': 'huber', 'optimizer': 'AdamW'}\n",
      "\n",
      "Starting Trial 63\n",
      "Hyperparameters: {'input_chunk_length': 25, 'output_chunk_length': 4, 'dropout': 0.4260236764633004, 'batch_size': 180, 'lr': 0.0008629544401785961, 'weight_decay': 1.3772850254769882e-05, 'hidden_size': 32, 'ff_size': 38, 'num_blocks': 1, 'activation': 'ReLU', 'norm_type': 'LayerNorm', 'normalize_before': True, 'loss_fn': 'huber', 'optimizer': 'AdamW'}\n",
      "\n",
      "Training the model...\n",
      "Train set: 6647 samples\n",
      "Validation set: 1662 samples\n"
     ]
    },
    {
     "name": "stderr",
     "output_type": "stream",
     "text": [
      "[I 2025-05-27 09:14:01,124] Trial 63 pruned. Trial was pruned at epoch 0.\n",
      "GPU available: True (cuda), used: True\n",
      "TPU available: False, using: 0 TPU cores\n",
      "HPU available: False, using: 0 HPUs\n",
      "LOCAL_RANK: 0 - CUDA_VISIBLE_DEVICES: [0]\n"
     ]
    },
    {
     "name": "stdout",
     "output_type": "stream",
     "text": [
      "Current value: 0.05106636887254395, Current params: {'input_chunk_length': 25, 'output_chunk_length': 4, 'dropout': 0.4260236764633004, 'batch_size': 180, 'lr': 0.0008629544401785961, 'weight_decay': 1.3772850254769882e-05, 'hidden_size': 32, 'ff_size': 38, 'num_blocks': 1, 'activation': 'ReLU', 'norm_type': 'LayerNorm', 'normalize_before': True, 'loss_fn': 'huber', 'optimizer': 'AdamW'}\n",
      "Best value: 0.11228232615122136, Best params: {'input_chunk_length': 28, 'output_chunk_length': 6, 'dropout': 0.3813867799490145, 'batch_size': 123, 'lr': 0.00225144641395415, 'weight_decay': 7.276521829892213e-06, 'hidden_size': 32, 'ff_size': 35, 'num_blocks': 1, 'activation': 'ReLU', 'norm_type': 'LayerNorm', 'normalize_before': True, 'loss_fn': 'huber', 'optimizer': 'AdamW'}\n",
      "\n",
      "Starting Trial 64\n",
      "Hyperparameters: {'input_chunk_length': 32, 'output_chunk_length': 9, 'dropout': 0.4098071885013304, 'batch_size': 149, 'lr': 0.0012633499752750614, 'weight_decay': 2.9852831239676436e-06, 'hidden_size': 32, 'ff_size': 60, 'num_blocks': 1, 'activation': 'ReLU', 'norm_type': 'LayerNorm', 'normalize_before': True, 'loss_fn': 'huber', 'optimizer': 'AdamW'}\n",
      "\n",
      "Training the model...\n",
      "Train set: 6647 samples\n",
      "Validation set: 1662 samples\n"
     ]
    },
    {
     "name": "stderr",
     "output_type": "stream",
     "text": [
      "[I 2025-05-27 09:14:02,628] Trial 64 pruned. Trial was pruned at epoch 0.\n",
      "GPU available: True (cuda), used: True\n",
      "TPU available: False, using: 0 TPU cores\n",
      "HPU available: False, using: 0 HPUs\n",
      "LOCAL_RANK: 0 - CUDA_VISIBLE_DEVICES: [0]\n"
     ]
    },
    {
     "name": "stdout",
     "output_type": "stream",
     "text": [
      "Current value: 0.04561010501793665, Current params: {'input_chunk_length': 32, 'output_chunk_length': 9, 'dropout': 0.4098071885013304, 'batch_size': 149, 'lr': 0.0012633499752750614, 'weight_decay': 2.9852831239676436e-06, 'hidden_size': 32, 'ff_size': 60, 'num_blocks': 1, 'activation': 'ReLU', 'norm_type': 'LayerNorm', 'normalize_before': True, 'loss_fn': 'huber', 'optimizer': 'AdamW'}\n",
      "Best value: 0.11228232615122136, Best params: {'input_chunk_length': 28, 'output_chunk_length': 6, 'dropout': 0.3813867799490145, 'batch_size': 123, 'lr': 0.00225144641395415, 'weight_decay': 7.276521829892213e-06, 'hidden_size': 32, 'ff_size': 35, 'num_blocks': 1, 'activation': 'ReLU', 'norm_type': 'LayerNorm', 'normalize_before': True, 'loss_fn': 'huber', 'optimizer': 'AdamW'}\n",
      "\n",
      "Starting Trial 65\n",
      "Hyperparameters: {'input_chunk_length': 37, 'output_chunk_length': 6, 'dropout': 0.4010897800642069, 'batch_size': 110, 'lr': 0.0017534081611910372, 'weight_decay': 3.9395620932969096e-05, 'hidden_size': 32, 'ff_size': 35, 'num_blocks': 1, 'activation': 'ReLU', 'norm_type': 'LayerNorm', 'normalize_before': True, 'loss_fn': 'huber', 'optimizer': 'AdamW'}\n",
      "\n",
      "Training the model...\n",
      "Train set: 6647 samples\n",
      "Validation set: 1662 samples\n"
     ]
    },
    {
     "name": "stderr",
     "output_type": "stream",
     "text": [
      "Metric val_loss improved. New best score: 0.039\n",
      "Metric val_loss improved by 0.012 >= min_delta = 0.0005. New best score: 0.027\n",
      "Metric val_loss improved by 0.005 >= min_delta = 0.0005. New best score: 0.022\n",
      "Metric val_loss improved by 0.002 >= min_delta = 0.0005. New best score: 0.020\n",
      "Metric val_loss improved by 0.001 >= min_delta = 0.0005. New best score: 0.019\n",
      "Metric val_loss improved by 0.002 >= min_delta = 0.0005. New best score: 0.018\n",
      "Metric val_loss improved by 0.001 >= min_delta = 0.0005. New best score: 0.017\n",
      "Metric val_loss improved by 0.001 >= min_delta = 0.0005. New best score: 0.016\n",
      "`Trainer.fit` stopped: `max_epochs=30` reached.\n",
      "GPU available: True (cuda), used: True\n",
      "TPU available: False, using: 0 TPU cores\n",
      "HPU available: False, using: 0 HPUs\n",
      "LOCAL_RANK: 0 - CUDA_VISIBLE_DEVICES: [0]\n"
     ]
    },
    {
     "name": "stdout",
     "output_type": "stream",
     "text": [
      "Model loaded from checkpoint for trial 65\n"
     ]
    },
    {
     "name": "stderr",
     "output_type": "stream",
     "text": [
      "/home/eduardo/Documentos/Water-Cycle-Neural-Network/venv/lib/python3.12/site-packages/pytorch_lightning/trainer/connectors/data_connector.py:425: The 'predict_dataloader' does not have many workers which may be a bottleneck. Consider increasing the value of the `num_workers` argument` to `num_workers=11` in the `DataLoader` to improve performance.\n",
      "[I 2025-05-27 09:22:02,182] Trial 65 finished with value: 0.11328956420370587 and parameters: {'input_chunk_length': 37, 'output_chunk_length': 6, 'dropout': 0.4010897800642069, 'batch_size': 110, 'lr': 0.0017534081611910372, 'weight_decay': 3.9395620932969096e-05, 'hidden_size': 32, 'ff_size': 35, 'num_blocks': 1, 'activation': 'ReLU', 'norm_type': 'LayerNorm', 'normalize_before': True, 'loss_fn': 'huber', 'optimizer': 'AdamW'}. Best is trial 31 with value: 0.11228232615122136.\n"
     ]
    },
    {
     "name": "stdout",
     "output_type": "stream",
     "text": [
      "Starting time series verification for consistency...\n",
      "\n",
      "Performance metrics:\n",
      "                                    MSE        RMSE         MAE        R2  \\\n",
      "Temperature                    6.656008    2.579924    2.074277  0.782172   \n",
      "Precipitation_accumulated     18.687409    4.322894    3.531800 -4.556581   \n",
      "Humidity                      58.687679    7.660788    5.902920  0.599968   \n",
      "Wind_Speed_kmh                 1.338357    1.156874    0.920191  0.006467   \n",
      "Soil_Moisture              17596.471892  132.651694  104.643672  0.675152   \n",
      "Soil_Temperature               3.912228    1.977935    1.546940  0.757470   \n",
      "Wind_Dir_Sin                   0.585830    0.765396    0.661525 -0.060616   \n",
      "Wind_Dir_Cos                   0.399581    0.632125    0.535430 -0.091228   \n",
      "\n",
      "                                SMAPE  \n",
      "Temperature                 33.707707  \n",
      "Precipitation_accumulated    0.763174  \n",
      "Humidity                     6.989787  \n",
      "Wind_Speed_kmh              74.729084  \n",
      "Soil_Moisture                1.226774  \n",
      "Soil_Temperature            27.994129  \n",
      "Wind_Dir_Sin               137.796347  \n",
      "Wind_Dir_Cos               135.418403  \n",
      "The MAE for this fold was 0.11328956420370587\n",
      "Results of trial 65 saved in optuna_iteration_metrics/trial_65.json\n",
      "Current value: 0.11328956420370587, Current params: {'input_chunk_length': 37, 'output_chunk_length': 6, 'dropout': 0.4010897800642069, 'batch_size': 110, 'lr': 0.0017534081611910372, 'weight_decay': 3.9395620932969096e-05, 'hidden_size': 32, 'ff_size': 35, 'num_blocks': 1, 'activation': 'ReLU', 'norm_type': 'LayerNorm', 'normalize_before': True, 'loss_fn': 'huber', 'optimizer': 'AdamW'}\n",
      "Best value: 0.11228232615122136, Best params: {'input_chunk_length': 28, 'output_chunk_length': 6, 'dropout': 0.3813867799490145, 'batch_size': 123, 'lr': 0.00225144641395415, 'weight_decay': 7.276521829892213e-06, 'hidden_size': 32, 'ff_size': 35, 'num_blocks': 1, 'activation': 'ReLU', 'norm_type': 'LayerNorm', 'normalize_before': True, 'loss_fn': 'huber', 'optimizer': 'AdamW'}\n",
      "\n",
      "Starting Trial 66\n",
      "Hyperparameters: {'input_chunk_length': 41, 'output_chunk_length': 2, 'dropout': 0.3986059888183425, 'batch_size': 155, 'lr': 0.003717326913037766, 'weight_decay': 4.526962913340617e-05, 'hidden_size': 32, 'ff_size': 36, 'num_blocks': 1, 'activation': 'GELU', 'norm_type': 'TimeBatchNorm2d', 'normalize_before': True, 'loss_fn': 'huber', 'optimizer': 'RMSprop'}\n",
      "\n",
      "Training the model...\n",
      "Train set: 6647 samples\n",
      "Validation set: 1662 samples\n"
     ]
    },
    {
     "name": "stderr",
     "output_type": "stream",
     "text": [
      "GPU available: True (cuda), used: True\n",
      "TPU available: False, using: 0 TPU cores\n",
      "HPU available: False, using: 0 HPUs\n",
      "LOCAL_RANK: 0 - CUDA_VISIBLE_DEVICES: [0]\n",
      "[I 2025-05-27 09:22:03,429] Trial 66 pruned. Trial was pruned at epoch 0.\n",
      "GPU available: True (cuda), used: True\n",
      "TPU available: False, using: 0 TPU cores\n",
      "HPU available: False, using: 0 HPUs\n",
      "LOCAL_RANK: 0 - CUDA_VISIBLE_DEVICES: [0]\n"
     ]
    },
    {
     "name": "stdout",
     "output_type": "stream",
     "text": [
      "Current value: 0.05046033152519403, Current params: {'input_chunk_length': 41, 'output_chunk_length': 2, 'dropout': 0.3986059888183425, 'batch_size': 155, 'lr': 0.003717326913037766, 'weight_decay': 4.526962913340617e-05, 'hidden_size': 32, 'ff_size': 36, 'num_blocks': 1, 'activation': 'GELU', 'norm_type': 'TimeBatchNorm2d', 'normalize_before': True, 'loss_fn': 'huber', 'optimizer': 'RMSprop'}\n",
      "Best value: 0.11228232615122136, Best params: {'input_chunk_length': 28, 'output_chunk_length': 6, 'dropout': 0.3813867799490145, 'batch_size': 123, 'lr': 0.00225144641395415, 'weight_decay': 7.276521829892213e-06, 'hidden_size': 32, 'ff_size': 35, 'num_blocks': 1, 'activation': 'ReLU', 'norm_type': 'LayerNorm', 'normalize_before': True, 'loss_fn': 'huber', 'optimizer': 'AdamW'}\n",
      "\n",
      "Starting Trial 67\n",
      "Hyperparameters: {'input_chunk_length': 46, 'output_chunk_length': 8, 'dropout': 0.28198978885971604, 'batch_size': 141, 'lr': 0.0015832053537799273, 'weight_decay': 2.0667961191799128e-05, 'hidden_size': 32, 'ff_size': 45, 'num_blocks': 1, 'activation': 'ReLU', 'norm_type': 'LayerNorm', 'normalize_before': False, 'loss_fn': 'huber', 'optimizer': 'AdamW'}\n",
      "\n",
      "Training the model...\n",
      "Train set: 6647 samples\n",
      "Validation set: 1662 samples\n"
     ]
    },
    {
     "name": "stderr",
     "output_type": "stream",
     "text": [
      "[I 2025-05-27 09:22:04,716] Trial 67 pruned. Trial was pruned at epoch 0.\n",
      "GPU available: True (cuda), used: True\n",
      "TPU available: False, using: 0 TPU cores\n",
      "HPU available: False, using: 0 HPUs\n",
      "LOCAL_RANK: 0 - CUDA_VISIBLE_DEVICES: [0]\n"
     ]
    },
    {
     "name": "stdout",
     "output_type": "stream",
     "text": [
      "Current value: 0.044322552189473036, Current params: {'input_chunk_length': 46, 'output_chunk_length': 8, 'dropout': 0.28198978885971604, 'batch_size': 141, 'lr': 0.0015832053537799273, 'weight_decay': 2.0667961191799128e-05, 'hidden_size': 32, 'ff_size': 45, 'num_blocks': 1, 'activation': 'ReLU', 'norm_type': 'LayerNorm', 'normalize_before': False, 'loss_fn': 'huber', 'optimizer': 'AdamW'}\n",
      "Best value: 0.11228232615122136, Best params: {'input_chunk_length': 28, 'output_chunk_length': 6, 'dropout': 0.3813867799490145, 'batch_size': 123, 'lr': 0.00225144641395415, 'weight_decay': 7.276521829892213e-06, 'hidden_size': 32, 'ff_size': 35, 'num_blocks': 1, 'activation': 'ReLU', 'norm_type': 'LayerNorm', 'normalize_before': True, 'loss_fn': 'huber', 'optimizer': 'AdamW'}\n",
      "\n",
      "Starting Trial 68\n",
      "Hyperparameters: {'input_chunk_length': 63, 'output_chunk_length': 7, 'dropout': 0.4879347741969538, 'batch_size': 164, 'lr': 0.0023982516297023546, 'weight_decay': 3.682964736644552e-05, 'hidden_size': 32, 'ff_size': 40, 'num_blocks': 2, 'activation': 'ReLU', 'norm_type': 'LayerNorm', 'normalize_before': True, 'loss_fn': 'huber', 'optimizer': 'SGD'}\n",
      "\n",
      "Training the model...\n",
      "Train set: 6647 samples\n",
      "Validation set: 1662 samples\n"
     ]
    },
    {
     "name": "stderr",
     "output_type": "stream",
     "text": [
      "[I 2025-05-27 09:22:06,068] Trial 68 pruned. Trial was pruned at epoch 0.\n",
      "GPU available: True (cuda), used: True\n",
      "TPU available: False, using: 0 TPU cores\n",
      "HPU available: False, using: 0 HPUs\n",
      "LOCAL_RANK: 0 - CUDA_VISIBLE_DEVICES: [0]\n"
     ]
    },
    {
     "name": "stdout",
     "output_type": "stream",
     "text": [
      "Current value: 0.10763812959454265, Current params: {'input_chunk_length': 63, 'output_chunk_length': 7, 'dropout': 0.4879347741969538, 'batch_size': 164, 'lr': 0.0023982516297023546, 'weight_decay': 3.682964736644552e-05, 'hidden_size': 32, 'ff_size': 40, 'num_blocks': 2, 'activation': 'ReLU', 'norm_type': 'LayerNorm', 'normalize_before': True, 'loss_fn': 'huber', 'optimizer': 'SGD'}\n",
      "Best value: 0.11228232615122136, Best params: {'input_chunk_length': 28, 'output_chunk_length': 6, 'dropout': 0.3813867799490145, 'batch_size': 123, 'lr': 0.00225144641395415, 'weight_decay': 7.276521829892213e-06, 'hidden_size': 32, 'ff_size': 35, 'num_blocks': 1, 'activation': 'ReLU', 'norm_type': 'LayerNorm', 'normalize_before': True, 'loss_fn': 'huber', 'optimizer': 'AdamW'}\n",
      "\n",
      "Starting Trial 69\n",
      "Hyperparameters: {'input_chunk_length': 38, 'output_chunk_length': 3, 'dropout': 0.4376435069541015, 'batch_size': 109, 'lr': 0.00048228720048845215, 'weight_decay': 1.1038425867684233e-05, 'hidden_size': 64, 'ff_size': 68, 'num_blocks': 1, 'activation': 'ReLU', 'norm_type': 'LayerNormNoBias', 'normalize_before': True, 'loss_fn': 'mse', 'optimizer': 'AdamW'}\n",
      "\n",
      "Training the model...\n",
      "Train set: 6647 samples\n",
      "Validation set: 1662 samples\n"
     ]
    },
    {
     "name": "stderr",
     "output_type": "stream",
     "text": [
      "[I 2025-05-27 09:22:07,476] Trial 69 pruned. Trial was pruned at epoch 0.\n",
      "GPU available: True (cuda), used: True\n",
      "TPU available: False, using: 0 TPU cores\n",
      "HPU available: False, using: 0 HPUs\n",
      "LOCAL_RANK: 0 - CUDA_VISIBLE_DEVICES: [0]\n"
     ]
    },
    {
     "name": "stdout",
     "output_type": "stream",
     "text": [
      "Current value: 0.0970671965462772, Current params: {'input_chunk_length': 38, 'output_chunk_length': 3, 'dropout': 0.4376435069541015, 'batch_size': 109, 'lr': 0.00048228720048845215, 'weight_decay': 1.1038425867684233e-05, 'hidden_size': 64, 'ff_size': 68, 'num_blocks': 1, 'activation': 'ReLU', 'norm_type': 'LayerNormNoBias', 'normalize_before': True, 'loss_fn': 'mse', 'optimizer': 'AdamW'}\n",
      "Best value: 0.11228232615122136, Best params: {'input_chunk_length': 28, 'output_chunk_length': 6, 'dropout': 0.3813867799490145, 'batch_size': 123, 'lr': 0.00225144641395415, 'weight_decay': 7.276521829892213e-06, 'hidden_size': 32, 'ff_size': 35, 'num_blocks': 1, 'activation': 'ReLU', 'norm_type': 'LayerNorm', 'normalize_before': True, 'loss_fn': 'huber', 'optimizer': 'AdamW'}\n",
      "\n",
      "Starting Trial 70\n",
      "Hyperparameters: {'input_chunk_length': 36, 'output_chunk_length': 6, 'dropout': 0.3628546312426679, 'batch_size': 121, 'lr': 4.1995781309657393e-05, 'weight_decay': 7.83246249494324e-06, 'hidden_size': 32, 'ff_size': 32, 'num_blocks': 1, 'activation': 'GELU', 'norm_type': 'LayerNorm', 'normalize_before': True, 'loss_fn': 'huber', 'optimizer': 'AdamW'}\n",
      "\n",
      "Training the model...\n",
      "Train set: 6647 samples\n",
      "Validation set: 1662 samples\n"
     ]
    },
    {
     "name": "stderr",
     "output_type": "stream",
     "text": [
      "[I 2025-05-27 09:22:08,828] Trial 70 pruned. Trial was pruned at epoch 0.\n",
      "GPU available: True (cuda), used: True\n",
      "TPU available: False, using: 0 TPU cores\n",
      "HPU available: False, using: 0 HPUs\n",
      "LOCAL_RANK: 0 - CUDA_VISIBLE_DEVICES: [0]\n"
     ]
    },
    {
     "name": "stdout",
     "output_type": "stream",
     "text": [
      "Current value: 0.24722576704133858, Current params: {'input_chunk_length': 36, 'output_chunk_length': 6, 'dropout': 0.3628546312426679, 'batch_size': 121, 'lr': 4.1995781309657393e-05, 'weight_decay': 7.83246249494324e-06, 'hidden_size': 32, 'ff_size': 32, 'num_blocks': 1, 'activation': 'GELU', 'norm_type': 'LayerNorm', 'normalize_before': True, 'loss_fn': 'huber', 'optimizer': 'AdamW'}\n",
      "Best value: 0.11228232615122136, Best params: {'input_chunk_length': 28, 'output_chunk_length': 6, 'dropout': 0.3813867799490145, 'batch_size': 123, 'lr': 0.00225144641395415, 'weight_decay': 7.276521829892213e-06, 'hidden_size': 32, 'ff_size': 35, 'num_blocks': 1, 'activation': 'ReLU', 'norm_type': 'LayerNorm', 'normalize_before': True, 'loss_fn': 'huber', 'optimizer': 'AdamW'}\n",
      "\n",
      "Starting Trial 71\n",
      "Hyperparameters: {'input_chunk_length': 28, 'output_chunk_length': 5, 'dropout': 0.42598727245858437, 'batch_size': 87, 'lr': 0.0019738804554241935, 'weight_decay': 8.896958203284324e-05, 'hidden_size': 32, 'ff_size': 34, 'num_blocks': 1, 'activation': 'ReLU', 'norm_type': 'LayerNorm', 'normalize_before': True, 'loss_fn': 'huber', 'optimizer': 'AdamW'}\n",
      "\n",
      "Training the model...\n",
      "Train set: 6647 samples\n",
      "Validation set: 1662 samples\n"
     ]
    },
    {
     "name": "stderr",
     "output_type": "stream",
     "text": [
      "Metric val_loss improved. New best score: 0.035\n",
      "Metric val_loss improved by 0.011 >= min_delta = 0.0005. New best score: 0.024\n",
      "Metric val_loss improved by 0.003 >= min_delta = 0.0005. New best score: 0.021\n",
      "Metric val_loss improved by 0.001 >= min_delta = 0.0005. New best score: 0.020\n",
      "Metric val_loss improved by 0.001 >= min_delta = 0.0005. New best score: 0.019\n",
      "Metric val_loss improved by 0.001 >= min_delta = 0.0005. New best score: 0.018\n",
      "Metric val_loss improved by 0.001 >= min_delta = 0.0005. New best score: 0.017\n",
      "Metric val_loss improved by 0.001 >= min_delta = 0.0005. New best score: 0.016\n",
      "Metric val_loss improved by 0.001 >= min_delta = 0.0005. New best score: 0.016\n",
      "Monitored metric val_loss did not improve in the last 15 records. Best score: 0.016. Signaling Trainer to stop.\n",
      "GPU available: True (cuda), used: True\n",
      "TPU available: False, using: 0 TPU cores\n",
      "HPU available: False, using: 0 HPUs\n",
      "LOCAL_RANK: 0 - CUDA_VISIBLE_DEVICES: [0]\n"
     ]
    },
    {
     "name": "stdout",
     "output_type": "stream",
     "text": [
      "Model loaded from checkpoint for trial 71\n"
     ]
    },
    {
     "name": "stderr",
     "output_type": "stream",
     "text": [
      "/home/eduardo/Documentos/Water-Cycle-Neural-Network/venv/lib/python3.12/site-packages/pytorch_lightning/trainer/connectors/data_connector.py:425: The 'predict_dataloader' does not have many workers which may be a bottleneck. Consider increasing the value of the `num_workers` argument` to `num_workers=11` in the `DataLoader` to improve performance.\n",
      "[I 2025-05-27 09:22:38,267] Trial 71 finished with value: 0.11000951152720584 and parameters: {'input_chunk_length': 28, 'output_chunk_length': 5, 'dropout': 0.42598727245858437, 'batch_size': 87, 'lr': 0.0019738804554241935, 'weight_decay': 8.896958203284324e-05, 'hidden_size': 32, 'ff_size': 34, 'num_blocks': 1, 'activation': 'ReLU', 'norm_type': 'LayerNorm', 'normalize_before': True, 'loss_fn': 'huber', 'optimizer': 'AdamW'}. Best is trial 71 with value: 0.11000951152720584.\n"
     ]
    },
    {
     "name": "stdout",
     "output_type": "stream",
     "text": [
      "Starting time series verification for consistency...\n",
      "\n",
      "Performance metrics:\n",
      "                                    MSE        RMSE        MAE        R2  \\\n",
      "Temperature                    6.275935    2.505182   1.991942  0.794046   \n",
      "Precipitation_accumulated      8.304382    2.881732   2.267076 -1.430923   \n",
      "Humidity                      58.409792    7.642630   5.774209  0.601317   \n",
      "Wind_Speed_kmh                 1.232631    1.110239   0.873665  0.085355   \n",
      "Soil_Moisture              13106.316923  114.482824  85.350784  0.768254   \n",
      "Soil_Temperature               4.342868    2.083955   1.734841  0.730179   \n",
      "Wind_Dir_Sin                   0.578329    0.760479   0.644560 -0.050325   \n",
      "Wind_Dir_Cos                   0.399617    0.632153   0.526039 -0.090362   \n",
      "\n",
      "                                SMAPE  \n",
      "Temperature                 32.148614  \n",
      "Precipitation_accumulated    0.488400  \n",
      "Humidity                     6.821143  \n",
      "Wind_Speed_kmh              72.066078  \n",
      "Soil_Moisture                0.996486  \n",
      "Soil_Temperature            34.220160  \n",
      "Wind_Dir_Sin               130.405799  \n",
      "Wind_Dir_Cos               130.338654  \n",
      "The MAE for this fold was 0.11000951152720584\n",
      "Results of trial 71 saved in optuna_iteration_metrics/trial_71.json\n",
      "Current value: 0.11000951152720584, Current params: {'input_chunk_length': 28, 'output_chunk_length': 5, 'dropout': 0.42598727245858437, 'batch_size': 87, 'lr': 0.0019738804554241935, 'weight_decay': 8.896958203284324e-05, 'hidden_size': 32, 'ff_size': 34, 'num_blocks': 1, 'activation': 'ReLU', 'norm_type': 'LayerNorm', 'normalize_before': True, 'loss_fn': 'huber', 'optimizer': 'AdamW'}\n",
      "Best value: 0.11000951152720584, Best params: {'input_chunk_length': 28, 'output_chunk_length': 5, 'dropout': 0.42598727245858437, 'batch_size': 87, 'lr': 0.0019738804554241935, 'weight_decay': 8.896958203284324e-05, 'hidden_size': 32, 'ff_size': 34, 'num_blocks': 1, 'activation': 'ReLU', 'norm_type': 'LayerNorm', 'normalize_before': True, 'loss_fn': 'huber', 'optimizer': 'AdamW'}\n",
      "\n",
      "Starting Trial 72\n",
      "Hyperparameters: {'input_chunk_length': 29, 'output_chunk_length': 4, 'dropout': 0.3811989834744114, 'batch_size': 88, 'lr': 0.0021107294510689955, 'weight_decay': 4.461588044589405e-06, 'hidden_size': 32, 'ff_size': 35, 'num_blocks': 1, 'activation': 'ReLU', 'norm_type': 'LayerNorm', 'normalize_before': True, 'loss_fn': 'huber', 'optimizer': 'AdamW'}\n",
      "\n",
      "Training the model...\n",
      "Train set: 6647 samples\n",
      "Validation set: 1662 samples\n"
     ]
    },
    {
     "name": "stderr",
     "output_type": "stream",
     "text": [
      "GPU available: True (cuda), used: True\n",
      "TPU available: False, using: 0 TPU cores\n",
      "HPU available: False, using: 0 HPUs\n",
      "LOCAL_RANK: 0 - CUDA_VISIBLE_DEVICES: [0]\n",
      "[I 2025-05-27 09:26:25,165] Trial 72 pruned. Trial was pruned at epoch 0.\n",
      "GPU available: True (cuda), used: True\n",
      "TPU available: False, using: 0 TPU cores\n",
      "HPU available: False, using: 0 HPUs\n",
      "LOCAL_RANK: 0 - CUDA_VISIBLE_DEVICES: [0]\n"
     ]
    },
    {
     "name": "stdout",
     "output_type": "stream",
     "text": [
      "Current value: 0.05271379363953319, Current params: {'input_chunk_length': 29, 'output_chunk_length': 4, 'dropout': 0.3811989834744114, 'batch_size': 88, 'lr': 0.0021107294510689955, 'weight_decay': 4.461588044589405e-06, 'hidden_size': 32, 'ff_size': 35, 'num_blocks': 1, 'activation': 'ReLU', 'norm_type': 'LayerNorm', 'normalize_before': True, 'loss_fn': 'huber', 'optimizer': 'AdamW'}\n",
      "Best value: 0.11000951152720584, Best params: {'input_chunk_length': 28, 'output_chunk_length': 5, 'dropout': 0.42598727245858437, 'batch_size': 87, 'lr': 0.0019738804554241935, 'weight_decay': 8.896958203284324e-05, 'hidden_size': 32, 'ff_size': 34, 'num_blocks': 1, 'activation': 'ReLU', 'norm_type': 'LayerNorm', 'normalize_before': True, 'loss_fn': 'huber', 'optimizer': 'AdamW'}\n",
      "\n",
      "Starting Trial 73\n",
      "Hyperparameters: {'input_chunk_length': 26, 'output_chunk_length': 5, 'dropout': 0.4667377214085099, 'batch_size': 96, 'lr': 0.003342319042850284, 'weight_decay': 0.00017937024799312412, 'hidden_size': 32, 'ff_size': 45, 'num_blocks': 1, 'activation': 'ReLU', 'norm_type': 'LayerNorm', 'normalize_before': True, 'loss_fn': 'huber', 'optimizer': 'AdamW'}\n",
      "\n",
      "Training the model...\n",
      "Train set: 6647 samples\n",
      "Validation set: 1662 samples\n"
     ]
    },
    {
     "name": "stderr",
     "output_type": "stream",
     "text": [
      "Metric val_loss improved. New best score: 0.035\n",
      "Metric val_loss improved by 0.011 >= min_delta = 0.0005. New best score: 0.024\n",
      "Metric val_loss improved by 0.003 >= min_delta = 0.0005. New best score: 0.022\n",
      "Metric val_loss improved by 0.002 >= min_delta = 0.0005. New best score: 0.019\n",
      "Metric val_loss improved by 0.002 >= min_delta = 0.0005. New best score: 0.018\n",
      "Metric val_loss improved by 0.001 >= min_delta = 0.0005. New best score: 0.016\n",
      "Metric val_loss improved by 0.001 >= min_delta = 0.0005. New best score: 0.016\n",
      "Monitored metric val_loss did not improve in the last 15 records. Best score: 0.016. Signaling Trainer to stop.\n",
      "GPU available: True (cuda), used: True\n",
      "TPU available: False, using: 0 TPU cores\n",
      "HPU available: False, using: 0 HPUs\n",
      "LOCAL_RANK: 0 - CUDA_VISIBLE_DEVICES: [0]\n"
     ]
    },
    {
     "name": "stdout",
     "output_type": "stream",
     "text": [
      "Model loaded from checkpoint for trial 73\n"
     ]
    },
    {
     "name": "stderr",
     "output_type": "stream",
     "text": [
      "/home/eduardo/Documentos/Water-Cycle-Neural-Network/venv/lib/python3.12/site-packages/pytorch_lightning/trainer/connectors/data_connector.py:425: The 'predict_dataloader' does not have many workers which may be a bottleneck. Consider increasing the value of the `num_workers` argument` to `num_workers=11` in the `DataLoader` to improve performance.\n",
      "[I 2025-05-27 09:26:49,333] Trial 73 finished with value: 0.11101651209385441 and parameters: {'input_chunk_length': 26, 'output_chunk_length': 5, 'dropout': 0.4667377214085099, 'batch_size': 96, 'lr': 0.003342319042850284, 'weight_decay': 0.00017937024799312412, 'hidden_size': 32, 'ff_size': 45, 'num_blocks': 1, 'activation': 'ReLU', 'norm_type': 'LayerNorm', 'normalize_before': True, 'loss_fn': 'huber', 'optimizer': 'AdamW'}. Best is trial 71 with value: 0.11000951152720584.\n"
     ]
    },
    {
     "name": "stdout",
     "output_type": "stream",
     "text": [
      "Starting time series verification for consistency...\n",
      "\n",
      "Performance metrics:\n",
      "                                    MSE        RMSE        MAE        R2  \\\n",
      "Temperature                    5.822950    2.413079   1.897279  0.808752   \n",
      "Precipitation_accumulated     17.239541    4.152053   3.365746 -4.030856   \n",
      "Humidity                      54.541389    7.385214   5.541356  0.627758   \n",
      "Wind_Speed_kmh                 1.228073    1.108184   0.873301  0.089785   \n",
      "Soil_Moisture              11283.665151  106.224598  81.679425  0.802049   \n",
      "Soil_Temperature               4.959502    2.226994   1.872725  0.692094   \n",
      "Wind_Dir_Sin                   0.578875    0.760838   0.660192 -0.051259   \n",
      "Wind_Dir_Cos                   0.397939    0.630824   0.528388 -0.085998   \n",
      "\n",
      "                                SMAPE  \n",
      "Temperature                 30.868847  \n",
      "Precipitation_accumulated    0.725086  \n",
      "Humidity                     6.551850  \n",
      "Wind_Speed_kmh              71.777205  \n",
      "Soil_Moisture                0.952649  \n",
      "Soil_Temperature            39.505414  \n",
      "Wind_Dir_Sin               138.387823  \n",
      "Wind_Dir_Cos               132.574369  \n",
      "The MAE for this fold was 0.11101651209385441\n",
      "Results of trial 73 saved in optuna_iteration_metrics/trial_73.json\n",
      "Current value: 0.11101651209385441, Current params: {'input_chunk_length': 26, 'output_chunk_length': 5, 'dropout': 0.4667377214085099, 'batch_size': 96, 'lr': 0.003342319042850284, 'weight_decay': 0.00017937024799312412, 'hidden_size': 32, 'ff_size': 45, 'num_blocks': 1, 'activation': 'ReLU', 'norm_type': 'LayerNorm', 'normalize_before': True, 'loss_fn': 'huber', 'optimizer': 'AdamW'}\n",
      "Best value: 0.11000951152720584, Best params: {'input_chunk_length': 28, 'output_chunk_length': 5, 'dropout': 0.42598727245858437, 'batch_size': 87, 'lr': 0.0019738804554241935, 'weight_decay': 8.896958203284324e-05, 'hidden_size': 32, 'ff_size': 34, 'num_blocks': 1, 'activation': 'ReLU', 'norm_type': 'LayerNorm', 'normalize_before': True, 'loss_fn': 'huber', 'optimizer': 'AdamW'}\n",
      "\n",
      "Starting Trial 74\n",
      "Hyperparameters: {'input_chunk_length': 26, 'output_chunk_length': 5, 'dropout': 0.46650054082917636, 'batch_size': 94, 'lr': 0.003275162013781381, 'weight_decay': 0.00021030063279235407, 'hidden_size': 32, 'ff_size': 41, 'num_blocks': 1, 'activation': 'ReLU', 'norm_type': 'LayerNorm', 'normalize_before': True, 'loss_fn': 'huber', 'optimizer': 'AdamW'}\n",
      "\n",
      "Training the model...\n",
      "Train set: 6647 samples\n",
      "Validation set: 1662 samples\n"
     ]
    },
    {
     "name": "stderr",
     "output_type": "stream",
     "text": [
      "GPU available: True (cuda), used: True\n",
      "TPU available: False, using: 0 TPU cores\n",
      "HPU available: False, using: 0 HPUs\n",
      "LOCAL_RANK: 0 - CUDA_VISIBLE_DEVICES: [0]\n",
      "[I 2025-05-27 09:26:50,709] Trial 74 pruned. Trial was pruned at epoch 0.\n",
      "GPU available: True (cuda), used: True\n",
      "TPU available: False, using: 0 TPU cores\n",
      "HPU available: False, using: 0 HPUs\n",
      "LOCAL_RANK: 0 - CUDA_VISIBLE_DEVICES: [0]\n"
     ]
    },
    {
     "name": "stdout",
     "output_type": "stream",
     "text": [
      "Current value: 0.04790655622351305, Current params: {'input_chunk_length': 26, 'output_chunk_length': 5, 'dropout': 0.46650054082917636, 'batch_size': 94, 'lr': 0.003275162013781381, 'weight_decay': 0.00021030063279235407, 'hidden_size': 32, 'ff_size': 41, 'num_blocks': 1, 'activation': 'ReLU', 'norm_type': 'LayerNorm', 'normalize_before': True, 'loss_fn': 'huber', 'optimizer': 'AdamW'}\n",
      "Best value: 0.11000951152720584, Best params: {'input_chunk_length': 28, 'output_chunk_length': 5, 'dropout': 0.42598727245858437, 'batch_size': 87, 'lr': 0.0019738804554241935, 'weight_decay': 8.896958203284324e-05, 'hidden_size': 32, 'ff_size': 34, 'num_blocks': 1, 'activation': 'ReLU', 'norm_type': 'LayerNorm', 'normalize_before': True, 'loss_fn': 'huber', 'optimizer': 'AdamW'}\n",
      "\n",
      "Starting Trial 75\n",
      "Hyperparameters: {'input_chunk_length': 28, 'output_chunk_length': 2, 'dropout': 0.43196593253839216, 'batch_size': 80, 'lr': 0.004754721469167949, 'weight_decay': 0.00037508452245656074, 'hidden_size': 32, 'ff_size': 49, 'num_blocks': 1, 'activation': 'ReLU', 'norm_type': 'LayerNorm', 'normalize_before': True, 'loss_fn': 'huber', 'optimizer': 'AdamW'}\n",
      "\n",
      "Training the model...\n",
      "Train set: 6647 samples\n",
      "Validation set: 1662 samples\n"
     ]
    },
    {
     "name": "stderr",
     "output_type": "stream",
     "text": [
      "Metric val_loss improved. New best score: 0.028\n",
      "Metric val_loss improved by 0.005 >= min_delta = 0.0005. New best score: 0.023\n",
      "Metric val_loss improved by 0.004 >= min_delta = 0.0005. New best score: 0.019\n",
      "Metric val_loss improved by 0.002 >= min_delta = 0.0005. New best score: 0.017\n",
      "Metric val_loss improved by 0.001 >= min_delta = 0.0005. New best score: 0.015\n",
      "Metric val_loss improved by 0.001 >= min_delta = 0.0005. New best score: 0.014\n",
      "Metric val_loss improved by 0.001 >= min_delta = 0.0005. New best score: 0.014\n",
      "Metric val_loss improved by 0.001 >= min_delta = 0.0005. New best score: 0.013\n",
      "`Trainer.fit` stopped: `max_epochs=30` reached.\n",
      "GPU available: True (cuda), used: True\n",
      "TPU available: False, using: 0 TPU cores\n",
      "HPU available: False, using: 0 HPUs\n",
      "LOCAL_RANK: 0 - CUDA_VISIBLE_DEVICES: [0]\n"
     ]
    },
    {
     "name": "stdout",
     "output_type": "stream",
     "text": [
      "Model loaded from checkpoint for trial 75\n"
     ]
    },
    {
     "name": "stderr",
     "output_type": "stream",
     "text": [
      "/home/eduardo/Documentos/Water-Cycle-Neural-Network/venv/lib/python3.12/site-packages/pytorch_lightning/trainer/connectors/data_connector.py:425: The 'predict_dataloader' does not have many workers which may be a bottleneck. Consider increasing the value of the `num_workers` argument` to `num_workers=11` in the `DataLoader` to improve performance.\n",
      "[I 2025-05-27 09:28:51,700] Trial 75 finished with value: 0.09477280302542021 and parameters: {'input_chunk_length': 28, 'output_chunk_length': 2, 'dropout': 0.43196593253839216, 'batch_size': 80, 'lr': 0.004754721469167949, 'weight_decay': 0.00037508452245656074, 'hidden_size': 32, 'ff_size': 49, 'num_blocks': 1, 'activation': 'ReLU', 'norm_type': 'LayerNorm', 'normalize_before': True, 'loss_fn': 'huber', 'optimizer': 'AdamW'}. Best is trial 75 with value: 0.09477280302542021.\n"
     ]
    },
    {
     "name": "stdout",
     "output_type": "stream",
     "text": [
      "Starting time series verification for consistency...\n",
      "\n",
      "Performance metrics:\n",
      "                                   MSE       RMSE        MAE         R2  \\\n",
      "Temperature                   3.567920   1.888894   1.531987   0.882816   \n",
      "Precipitation_accumulated    61.579050   7.847232   6.683564 -16.942369   \n",
      "Humidity                     23.223910   4.819119   3.566593   0.841510   \n",
      "Wind_Speed_kmh                0.884493   0.940475   0.705563   0.344663   \n",
      "Soil_Moisture              3664.198207  60.532621  42.388142   0.935958   \n",
      "Soil_Temperature              2.107748   1.451809   1.235544   0.869241   \n",
      "Wind_Dir_Sin                  0.469148   0.684944   0.576710   0.147797   \n",
      "Wind_Dir_Cos                  0.356264   0.596878   0.490892   0.028386   \n",
      "\n",
      "                                SMAPE  \n",
      "Temperature                 27.586410  \n",
      "Precipitation_accumulated    1.451532  \n",
      "Humidity                     4.246861  \n",
      "Wind_Speed_kmh              66.869288  \n",
      "Soil_Moisture                0.494368  \n",
      "Soil_Temperature            28.965139  \n",
      "Wind_Dir_Sin               118.772153  \n",
      "Wind_Dir_Cos               120.020883  \n",
      "The MAE for this fold was 0.09477280302542021\n",
      "Results of trial 75 saved in optuna_iteration_metrics/trial_75.json\n",
      "Current value: 0.09477280302542021, Current params: {'input_chunk_length': 28, 'output_chunk_length': 2, 'dropout': 0.43196593253839216, 'batch_size': 80, 'lr': 0.004754721469167949, 'weight_decay': 0.00037508452245656074, 'hidden_size': 32, 'ff_size': 49, 'num_blocks': 1, 'activation': 'ReLU', 'norm_type': 'LayerNorm', 'normalize_before': True, 'loss_fn': 'huber', 'optimizer': 'AdamW'}\n",
      "Best value: 0.09477280302542021, Best params: {'input_chunk_length': 28, 'output_chunk_length': 2, 'dropout': 0.43196593253839216, 'batch_size': 80, 'lr': 0.004754721469167949, 'weight_decay': 0.00037508452245656074, 'hidden_size': 32, 'ff_size': 49, 'num_blocks': 1, 'activation': 'ReLU', 'norm_type': 'LayerNorm', 'normalize_before': True, 'loss_fn': 'huber', 'optimizer': 'AdamW'}\n",
      "\n",
      "Starting Trial 76\n",
      "Hyperparameters: {'input_chunk_length': 25, 'output_chunk_length': 2, 'dropout': 0.44569216759185654, 'batch_size': 77, 'lr': 0.004267115052181662, 'weight_decay': 0.0005575788102925045, 'hidden_size': 32, 'ff_size': 49, 'num_blocks': 1, 'activation': 'ReLU', 'norm_type': 'LayerNorm', 'normalize_before': True, 'loss_fn': 'huber', 'optimizer': 'AdamW'}\n",
      "\n",
      "Training the model...\n",
      "Train set: 6647 samples\n",
      "Validation set: 1662 samples\n"
     ]
    },
    {
     "name": "stderr",
     "output_type": "stream",
     "text": [
      "GPU available: True (cuda), used: True\n",
      "TPU available: False, using: 0 TPU cores\n",
      "HPU available: False, using: 0 HPUs\n",
      "LOCAL_RANK: 0 - CUDA_VISIBLE_DEVICES: [0]\n",
      "Metric val_loss improved. New best score: 0.032\n",
      "Metric val_loss improved by 0.012 >= min_delta = 0.0005. New best score: 0.021\n",
      "Metric val_loss improved by 0.004 >= min_delta = 0.0005. New best score: 0.017\n",
      "Metric val_loss improved by 0.001 >= min_delta = 0.0005. New best score: 0.015\n",
      "Metric val_loss improved by 0.001 >= min_delta = 0.0005. New best score: 0.014\n",
      "Metric val_loss improved by 0.001 >= min_delta = 0.0005. New best score: 0.013\n",
      "Monitored metric val_loss did not improve in the last 15 records. Best score: 0.013. Signaling Trainer to stop.\n",
      "GPU available: True (cuda), used: True\n",
      "TPU available: False, using: 0 TPU cores\n",
      "HPU available: False, using: 0 HPUs\n",
      "LOCAL_RANK: 0 - CUDA_VISIBLE_DEVICES: [0]\n"
     ]
    },
    {
     "name": "stdout",
     "output_type": "stream",
     "text": [
      "Model loaded from checkpoint for trial 76\n"
     ]
    },
    {
     "name": "stderr",
     "output_type": "stream",
     "text": [
      "/home/eduardo/Documentos/Water-Cycle-Neural-Network/venv/lib/python3.12/site-packages/pytorch_lightning/trainer/connectors/data_connector.py:425: The 'predict_dataloader' does not have many workers which may be a bottleneck. Consider increasing the value of the `num_workers` argument` to `num_workers=11` in the `DataLoader` to improve performance.\n",
      "[I 2025-05-27 09:29:16,074] Trial 76 finished with value: 0.09678247225493576 and parameters: {'input_chunk_length': 25, 'output_chunk_length': 2, 'dropout': 0.44569216759185654, 'batch_size': 77, 'lr': 0.004267115052181662, 'weight_decay': 0.0005575788102925045, 'hidden_size': 32, 'ff_size': 49, 'num_blocks': 1, 'activation': 'ReLU', 'norm_type': 'LayerNorm', 'normalize_before': True, 'loss_fn': 'huber', 'optimizer': 'AdamW'}. Best is trial 75 with value: 0.09477280302542021.\n",
      "GPU available: True (cuda), used: True\n",
      "TPU available: False, using: 0 TPU cores\n"
     ]
    },
    {
     "name": "stdout",
     "output_type": "stream",
     "text": [
      "Starting time series verification for consistency...\n",
      "\n",
      "Performance metrics:\n",
      "                                   MSE       RMSE        MAE         R2  \\\n",
      "Temperature                   3.999664   1.999916   1.538990   0.868856   \n",
      "Precipitation_accumulated    51.075121   7.146686   6.477661 -13.813785   \n",
      "Humidity                     27.197485   5.215121   3.921588   0.814433   \n",
      "Wind_Speed_kmh                0.864972   0.930039   0.705699   0.359554   \n",
      "Soil_Moisture              3250.991488  57.017467  35.762525   0.943747   \n",
      "Soil_Temperature              4.557751   2.134889   1.815354   0.717935   \n",
      "Wind_Dir_Sin                  0.465880   0.682554   0.571870   0.152864   \n",
      "Wind_Dir_Cos                  0.363467   0.602882   0.499547   0.011443   \n",
      "\n",
      "                                SMAPE  \n",
      "Temperature                 26.261198  \n",
      "Precipitation_accumulated    1.381817  \n",
      "Humidity                     4.710216  \n",
      "Wind_Speed_kmh              65.759435  \n",
      "Soil_Moisture                0.417705  \n",
      "Soil_Temperature            47.066694  \n",
      "Wind_Dir_Sin               115.985059  \n",
      "Wind_Dir_Cos               123.360579  \n",
      "The MAE for this fold was 0.09678247225493576\n",
      "Results of trial 76 saved in optuna_iteration_metrics/trial_76.json\n",
      "Current value: 0.09678247225493576, Current params: {'input_chunk_length': 25, 'output_chunk_length': 2, 'dropout': 0.44569216759185654, 'batch_size': 77, 'lr': 0.004267115052181662, 'weight_decay': 0.0005575788102925045, 'hidden_size': 32, 'ff_size': 49, 'num_blocks': 1, 'activation': 'ReLU', 'norm_type': 'LayerNorm', 'normalize_before': True, 'loss_fn': 'huber', 'optimizer': 'AdamW'}\n",
      "Best value: 0.09477280302542021, Best params: {'input_chunk_length': 28, 'output_chunk_length': 2, 'dropout': 0.43196593253839216, 'batch_size': 80, 'lr': 0.004754721469167949, 'weight_decay': 0.00037508452245656074, 'hidden_size': 32, 'ff_size': 49, 'num_blocks': 1, 'activation': 'ReLU', 'norm_type': 'LayerNorm', 'normalize_before': True, 'loss_fn': 'huber', 'optimizer': 'AdamW'}\n",
      "\n",
      "Starting Trial 77\n",
      "Hyperparameters: {'input_chunk_length': 25, 'output_chunk_length': 2, 'dropout': 0.4856515924926047, 'batch_size': 68, 'lr': 0.004995233016855562, 'weight_decay': 0.0004177557641305028, 'hidden_size': 128, 'ff_size': 136, 'num_blocks': 1, 'activation': 'ReLU', 'norm_type': 'LayerNorm', 'normalize_before': True, 'loss_fn': 'smoothl1', 'optimizer': 'AdamW'}\n",
      "\n",
      "Training the model...\n",
      "Train set: 6647 samples\n",
      "Validation set: 1662 samples\n"
     ]
    },
    {
     "name": "stderr",
     "output_type": "stream",
     "text": [
      "HPU available: False, using: 0 HPUs\n",
      "LOCAL_RANK: 0 - CUDA_VISIBLE_DEVICES: [0]\n",
      "Metric val_loss improved. New best score: 0.024\n",
      "Metric val_loss improved by 0.004 >= min_delta = 0.0005. New best score: 0.020\n",
      "Metric val_loss improved by 0.001 >= min_delta = 0.0005. New best score: 0.018\n",
      "Metric val_loss improved by 0.002 >= min_delta = 0.0005. New best score: 0.016\n",
      "Metric val_loss improved by 0.002 >= min_delta = 0.0005. New best score: 0.014\n",
      "Metric val_loss improved by 0.001 >= min_delta = 0.0005. New best score: 0.014\n",
      "Monitored metric val_loss did not improve in the last 15 records. Best score: 0.014. Signaling Trainer to stop.\n",
      "GPU available: True (cuda), used: True\n",
      "TPU available: False, using: 0 TPU cores\n",
      "HPU available: False, using: 0 HPUs\n",
      "LOCAL_RANK: 0 - CUDA_VISIBLE_DEVICES: [0]\n"
     ]
    },
    {
     "name": "stdout",
     "output_type": "stream",
     "text": [
      "Model loaded from checkpoint for trial 77\n"
     ]
    },
    {
     "name": "stderr",
     "output_type": "stream",
     "text": [
      "/home/eduardo/Documentos/Water-Cycle-Neural-Network/venv/lib/python3.12/site-packages/pytorch_lightning/trainer/connectors/data_connector.py:425: The 'predict_dataloader' does not have many workers which may be a bottleneck. Consider increasing the value of the `num_workers` argument` to `num_workers=11` in the `DataLoader` to improve performance.\n",
      "[I 2025-05-27 09:29:43,331] Trial 77 finished with value: 0.09858671778819356 and parameters: {'input_chunk_length': 25, 'output_chunk_length': 2, 'dropout': 0.4856515924926047, 'batch_size': 68, 'lr': 0.004995233016855562, 'weight_decay': 0.0004177557641305028, 'hidden_size': 128, 'ff_size': 136, 'num_blocks': 1, 'activation': 'ReLU', 'norm_type': 'LayerNorm', 'normalize_before': True, 'loss_fn': 'smoothl1', 'optimizer': 'AdamW'}. Best is trial 75 with value: 0.09477280302542021.\n"
     ]
    },
    {
     "name": "stdout",
     "output_type": "stream",
     "text": [
      "Starting time series verification for consistency...\n",
      "\n",
      "Performance metrics:\n",
      "                                    MSE        RMSE         MAE         R2  \\\n",
      "Temperature                    3.733266    1.932166    1.552723   0.877591   \n",
      "Precipitation_accumulated    168.893878   12.995918   10.515189 -47.985838   \n",
      "Humidity                      26.025342    5.101504    4.029752   0.822431   \n",
      "Wind_Speed_kmh                 0.862172    0.928532    0.693046   0.361627   \n",
      "Soil_Moisture              22605.392769  150.350899  123.588705   0.608850   \n",
      "Soil_Temperature               2.625243    1.620260    1.305013   0.837532   \n",
      "Wind_Dir_Sin                   0.478563    0.691783    0.570331   0.129802   \n",
      "Wind_Dir_Cos                   0.359849    0.599874    0.494158   0.021283   \n",
      "\n",
      "                                SMAPE  \n",
      "Temperature                 27.314694  \n",
      "Precipitation_accumulated    2.300680  \n",
      "Humidity                     4.676145  \n",
      "Wind_Speed_kmh              65.857340  \n",
      "Soil_Moisture                1.453130  \n",
      "Soil_Temperature            20.736943  \n",
      "Wind_Dir_Sin               114.528506  \n",
      "Wind_Dir_Cos               120.595359  \n",
      "The MAE for this fold was 0.09858671778819356\n",
      "Results of trial 77 saved in optuna_iteration_metrics/trial_77.json\n",
      "Current value: 0.09858671778819356, Current params: {'input_chunk_length': 25, 'output_chunk_length': 2, 'dropout': 0.4856515924926047, 'batch_size': 68, 'lr': 0.004995233016855562, 'weight_decay': 0.0004177557641305028, 'hidden_size': 128, 'ff_size': 136, 'num_blocks': 1, 'activation': 'ReLU', 'norm_type': 'LayerNorm', 'normalize_before': True, 'loss_fn': 'smoothl1', 'optimizer': 'AdamW'}\n",
      "Best value: 0.09477280302542021, Best params: {'input_chunk_length': 28, 'output_chunk_length': 2, 'dropout': 0.43196593253839216, 'batch_size': 80, 'lr': 0.004754721469167949, 'weight_decay': 0.00037508452245656074, 'hidden_size': 32, 'ff_size': 49, 'num_blocks': 1, 'activation': 'ReLU', 'norm_type': 'LayerNorm', 'normalize_before': True, 'loss_fn': 'huber', 'optimizer': 'AdamW'}\n",
      "\n",
      "Starting Trial 78\n",
      "Hyperparameters: {'input_chunk_length': 25, 'output_chunk_length': 2, 'dropout': 0.44826596848757316, 'batch_size': 64, 'lr': 0.004634914364407272, 'weight_decay': 0.0006466725379847949, 'hidden_size': 128, 'ff_size': 136, 'num_blocks': 1, 'activation': 'ReLU', 'norm_type': 'TimeBatchNorm2d', 'normalize_before': True, 'loss_fn': 'smoothl1', 'optimizer': 'AdamW'}\n",
      "\n",
      "Training the model...\n",
      "Train set: 6647 samples\n",
      "Validation set: 1662 samples\n"
     ]
    },
    {
     "name": "stderr",
     "output_type": "stream",
     "text": [
      "GPU available: True (cuda), used: True\n",
      "TPU available: False, using: 0 TPU cores\n",
      "HPU available: False, using: 0 HPUs\n",
      "LOCAL_RANK: 0 - CUDA_VISIBLE_DEVICES: [0]\n",
      "Metric val_loss improved. New best score: 0.024\n",
      "Metric val_loss improved by 0.006 >= min_delta = 0.0005. New best score: 0.018\n",
      "Metric val_loss improved by 0.002 >= min_delta = 0.0005. New best score: 0.015\n",
      "Metric val_loss improved by 0.001 >= min_delta = 0.0005. New best score: 0.015\n",
      "Metric val_loss improved by 0.001 >= min_delta = 0.0005. New best score: 0.014\n",
      "Metric val_loss improved by 0.001 >= min_delta = 0.0005. New best score: 0.013\n",
      "Metric val_loss improved by 0.001 >= min_delta = 0.0005. New best score: 0.013\n",
      "`Trainer.fit` stopped: `max_epochs=30` reached.\n",
      "GPU available: True (cuda), used: True\n",
      "TPU available: False, using: 0 TPU cores\n",
      "HPU available: False, using: 0 HPUs\n",
      "LOCAL_RANK: 0 - CUDA_VISIBLE_DEVICES: [0]\n"
     ]
    },
    {
     "name": "stdout",
     "output_type": "stream",
     "text": [
      "Model loaded from checkpoint for trial 78\n"
     ]
    },
    {
     "name": "stderr",
     "output_type": "stream",
     "text": [
      "/home/eduardo/Documentos/Water-Cycle-Neural-Network/venv/lib/python3.12/site-packages/pytorch_lightning/trainer/connectors/data_connector.py:425: The 'predict_dataloader' does not have many workers which may be a bottleneck. Consider increasing the value of the `num_workers` argument` to `num_workers=11` in the `DataLoader` to improve performance.\n",
      "[I 2025-05-27 09:30:18,367] Trial 78 finished with value: 0.09557731012917083 and parameters: {'input_chunk_length': 25, 'output_chunk_length': 2, 'dropout': 0.44826596848757316, 'batch_size': 64, 'lr': 0.004634914364407272, 'weight_decay': 0.0006466725379847949, 'hidden_size': 128, 'ff_size': 136, 'num_blocks': 1, 'activation': 'ReLU', 'norm_type': 'TimeBatchNorm2d', 'normalize_before': True, 'loss_fn': 'smoothl1', 'optimizer': 'AdamW'}. Best is trial 75 with value: 0.09477280302542021.\n"
     ]
    },
    {
     "name": "stdout",
     "output_type": "stream",
     "text": [
      "Starting time series verification for consistency...\n",
      "\n",
      "Performance metrics:\n",
      "                                   MSE       RMSE        MAE         R2  \\\n",
      "Temperature                   4.058473   2.014565   1.640949   0.866928   \n",
      "Precipitation_accumulated    39.275961   6.267054   5.131043 -10.391567   \n",
      "Humidity                     24.576476   4.957467   3.749770   0.832316   \n",
      "Wind_Speed_kmh                0.857743   0.926144   0.715397   0.364906   \n",
      "Soil_Moisture              7411.278320  86.088782  68.978065   0.871760   \n",
      "Soil_Temperature              2.215536   1.488468   1.203706   0.862888   \n",
      "Wind_Dir_Sin                  0.461731   0.679508   0.568990   0.160408   \n",
      "Wind_Dir_Cos                  0.356462   0.597045   0.495084   0.030493   \n",
      "\n",
      "                                SMAPE  \n",
      "Temperature                 28.854073  \n",
      "Precipitation_accumulated    1.107723  \n",
      "Humidity                     4.522372  \n",
      "Wind_Speed_kmh              65.390188  \n",
      "Soil_Moisture                0.802070  \n",
      "Soil_Temperature            29.245829  \n",
      "Wind_Dir_Sin               115.504413  \n",
      "Wind_Dir_Cos               123.694786  \n",
      "The MAE for this fold was 0.09557731012917083\n",
      "Results of trial 78 saved in optuna_iteration_metrics/trial_78.json\n",
      "Current value: 0.09557731012917083, Current params: {'input_chunk_length': 25, 'output_chunk_length': 2, 'dropout': 0.44826596848757316, 'batch_size': 64, 'lr': 0.004634914364407272, 'weight_decay': 0.0006466725379847949, 'hidden_size': 128, 'ff_size': 136, 'num_blocks': 1, 'activation': 'ReLU', 'norm_type': 'TimeBatchNorm2d', 'normalize_before': True, 'loss_fn': 'smoothl1', 'optimizer': 'AdamW'}\n",
      "Best value: 0.09477280302542021, Best params: {'input_chunk_length': 28, 'output_chunk_length': 2, 'dropout': 0.43196593253839216, 'batch_size': 80, 'lr': 0.004754721469167949, 'weight_decay': 0.00037508452245656074, 'hidden_size': 32, 'ff_size': 49, 'num_blocks': 1, 'activation': 'ReLU', 'norm_type': 'LayerNorm', 'normalize_before': True, 'loss_fn': 'huber', 'optimizer': 'AdamW'}\n",
      "\n",
      "Starting Trial 79\n",
      "Hyperparameters: {'input_chunk_length': 25, 'output_chunk_length': 2, 'dropout': 0.48039237976218985, 'batch_size': 65, 'lr': 0.004685360698961579, 'weight_decay': 0.0007885483858010635, 'hidden_size': 128, 'ff_size': 134, 'num_blocks': 1, 'activation': 'ReLU', 'norm_type': 'TimeBatchNorm2d', 'normalize_before': True, 'loss_fn': 'smoothl1', 'optimizer': 'RMSprop'}\n",
      "\n",
      "Training the model...\n",
      "Train set: 6647 samples\n",
      "Validation set: 1662 samples\n"
     ]
    },
    {
     "name": "stderr",
     "output_type": "stream",
     "text": [
      "GPU available: True (cuda), used: True\n",
      "TPU available: False, using: 0 TPU cores\n",
      "HPU available: False, using: 0 HPUs\n",
      "LOCAL_RANK: 0 - CUDA_VISIBLE_DEVICES: [0]\n",
      "[I 2025-05-27 09:30:19,885] Trial 79 pruned. Trial was pruned at epoch 0.\n",
      "GPU available: True (cuda), used: True\n",
      "TPU available: False, using: 0 TPU cores\n",
      "HPU available: False, using: 0 HPUs\n",
      "LOCAL_RANK: 0 - CUDA_VISIBLE_DEVICES: [0]\n"
     ]
    },
    {
     "name": "stdout",
     "output_type": "stream",
     "text": [
      "Current value: 0.09158999201094227, Current params: {'input_chunk_length': 25, 'output_chunk_length': 2, 'dropout': 0.48039237976218985, 'batch_size': 65, 'lr': 0.004685360698961579, 'weight_decay': 0.0007885483858010635, 'hidden_size': 128, 'ff_size': 134, 'num_blocks': 1, 'activation': 'ReLU', 'norm_type': 'TimeBatchNorm2d', 'normalize_before': True, 'loss_fn': 'smoothl1', 'optimizer': 'RMSprop'}\n",
      "Best value: 0.09477280302542021, Best params: {'input_chunk_length': 28, 'output_chunk_length': 2, 'dropout': 0.43196593253839216, 'batch_size': 80, 'lr': 0.004754721469167949, 'weight_decay': 0.00037508452245656074, 'hidden_size': 32, 'ff_size': 49, 'num_blocks': 1, 'activation': 'ReLU', 'norm_type': 'LayerNorm', 'normalize_before': True, 'loss_fn': 'huber', 'optimizer': 'AdamW'}\n",
      "\n",
      "Starting Trial 80\n",
      "Hyperparameters: {'input_chunk_length': 24, 'output_chunk_length': 1, 'dropout': 0.48855813207998156, 'batch_size': 73, 'lr': 0.003988030487277712, 'weight_decay': 0.00045981466774117335, 'hidden_size': 128, 'ff_size': 138, 'num_blocks': 3, 'activation': 'ReLU', 'norm_type': 'TimeBatchNorm2d', 'normalize_before': False, 'loss_fn': 'smoothl1', 'optimizer': 'Adam'}\n",
      "\n",
      "Training the model...\n",
      "Train set: 6647 samples\n",
      "Validation set: 1662 samples\n"
     ]
    },
    {
     "name": "stderr",
     "output_type": "stream",
     "text": [
      "Metric val_loss improved. New best score: 0.040\n",
      "[I 2025-05-27 09:30:22,869] Trial 80 pruned. Trial was pruned at epoch 1.\n",
      "GPU available: True (cuda), used: True\n",
      "TPU available: False, using: 0 TPU cores\n",
      "HPU available: False, using: 0 HPUs\n",
      "LOCAL_RANK: 0 - CUDA_VISIBLE_DEVICES: [0]\n"
     ]
    },
    {
     "name": "stdout",
     "output_type": "stream",
     "text": [
      "Current value: 0.03541188388040394, Current params: {'input_chunk_length': 24, 'output_chunk_length': 1, 'dropout': 0.48855813207998156, 'batch_size': 73, 'lr': 0.003988030487277712, 'weight_decay': 0.00045981466774117335, 'hidden_size': 128, 'ff_size': 138, 'num_blocks': 3, 'activation': 'ReLU', 'norm_type': 'TimeBatchNorm2d', 'normalize_before': False, 'loss_fn': 'smoothl1', 'optimizer': 'Adam'}\n",
      "Best value: 0.09477280302542021, Best params: {'input_chunk_length': 28, 'output_chunk_length': 2, 'dropout': 0.43196593253839216, 'batch_size': 80, 'lr': 0.004754721469167949, 'weight_decay': 0.00037508452245656074, 'hidden_size': 32, 'ff_size': 49, 'num_blocks': 1, 'activation': 'ReLU', 'norm_type': 'LayerNorm', 'normalize_before': True, 'loss_fn': 'huber', 'optimizer': 'AdamW'}\n",
      "\n",
      "Starting Trial 81\n",
      "Hyperparameters: {'input_chunk_length': 26, 'output_chunk_length': 2, 'dropout': 0.44555830334452207, 'batch_size': 78, 'lr': 0.00271577916996654, 'weight_decay': 0.0013510949172575858, 'hidden_size': 128, 'ff_size': 254, 'num_blocks': 1, 'activation': 'ReLU', 'norm_type': 'TimeBatchNorm2d', 'normalize_before': True, 'loss_fn': 'smoothl1', 'optimizer': 'AdamW'}\n",
      "\n",
      "Training the model...\n",
      "Train set: 6647 samples\n",
      "Validation set: 1662 samples\n"
     ]
    },
    {
     "name": "stderr",
     "output_type": "stream",
     "text": [
      "Metric val_loss improved. New best score: 0.035\n",
      "[I 2025-05-27 09:30:25,429] Trial 81 pruned. Trial was pruned at epoch 1.\n",
      "GPU available: True (cuda), used: True\n",
      "TPU available: False, using: 0 TPU cores\n",
      "HPU available: False, using: 0 HPUs\n",
      "LOCAL_RANK: 0 - CUDA_VISIBLE_DEVICES: [0]\n"
     ]
    },
    {
     "name": "stdout",
     "output_type": "stream",
     "text": [
      "Current value: 0.03124667973153835, Current params: {'input_chunk_length': 26, 'output_chunk_length': 2, 'dropout': 0.44555830334452207, 'batch_size': 78, 'lr': 0.00271577916996654, 'weight_decay': 0.0013510949172575858, 'hidden_size': 128, 'ff_size': 254, 'num_blocks': 1, 'activation': 'ReLU', 'norm_type': 'TimeBatchNorm2d', 'normalize_before': True, 'loss_fn': 'smoothl1', 'optimizer': 'AdamW'}\n",
      "Best value: 0.09477280302542021, Best params: {'input_chunk_length': 28, 'output_chunk_length': 2, 'dropout': 0.43196593253839216, 'batch_size': 80, 'lr': 0.004754721469167949, 'weight_decay': 0.00037508452245656074, 'hidden_size': 32, 'ff_size': 49, 'num_blocks': 1, 'activation': 'ReLU', 'norm_type': 'LayerNorm', 'normalize_before': True, 'loss_fn': 'huber', 'optimizer': 'AdamW'}\n",
      "\n",
      "Starting Trial 82\n",
      "Hyperparameters: {'input_chunk_length': 28, 'output_chunk_length': 3, 'dropout': 0.4665064537745976, 'batch_size': 71, 'lr': 0.003979331991629496, 'weight_decay': 0.0002885326901103127, 'hidden_size': 128, 'ff_size': 133, 'num_blocks': 1, 'activation': 'ReLU', 'norm_type': 'TimeBatchNorm2d', 'normalize_before': True, 'loss_fn': 'smoothl1', 'optimizer': 'AdamW'}\n",
      "\n",
      "Training the model...\n",
      "Train set: 6647 samples\n",
      "Validation set: 1662 samples\n"
     ]
    },
    {
     "name": "stderr",
     "output_type": "stream",
     "text": [
      "Metric val_loss improved. New best score: 0.026\n",
      "Metric val_loss improved by 0.007 >= min_delta = 0.0005. New best score: 0.019\n",
      "Metric val_loss improved by 0.002 >= min_delta = 0.0005. New best score: 0.018\n",
      "Metric val_loss improved by 0.001 >= min_delta = 0.0005. New best score: 0.017\n",
      "Metric val_loss improved by 0.001 >= min_delta = 0.0005. New best score: 0.016\n",
      "Metric val_loss improved by 0.001 >= min_delta = 0.0005. New best score: 0.015\n",
      "Metric val_loss improved by 0.001 >= min_delta = 0.0005. New best score: 0.014\n",
      "`Trainer.fit` stopped: `max_epochs=30` reached.\n",
      "GPU available: True (cuda), used: True\n",
      "TPU available: False, using: 0 TPU cores\n",
      "HPU available: False, using: 0 HPUs\n",
      "LOCAL_RANK: 0 - CUDA_VISIBLE_DEVICES: [0]\n"
     ]
    },
    {
     "name": "stdout",
     "output_type": "stream",
     "text": [
      "Model loaded from checkpoint for trial 82\n"
     ]
    },
    {
     "name": "stderr",
     "output_type": "stream",
     "text": [
      "/home/eduardo/Documentos/Water-Cycle-Neural-Network/venv/lib/python3.12/site-packages/pytorch_lightning/trainer/connectors/data_connector.py:425: The 'predict_dataloader' does not have many workers which may be a bottleneck. Consider increasing the value of the `num_workers` argument` to `num_workers=11` in the `DataLoader` to improve performance.\n",
      "[I 2025-05-27 09:33:15,123] Trial 82 finished with value: 0.10267424539567921 and parameters: {'input_chunk_length': 28, 'output_chunk_length': 3, 'dropout': 0.4665064537745976, 'batch_size': 71, 'lr': 0.003979331991629496, 'weight_decay': 0.0002885326901103127, 'hidden_size': 128, 'ff_size': 133, 'num_blocks': 1, 'activation': 'ReLU', 'norm_type': 'TimeBatchNorm2d', 'normalize_before': True, 'loss_fn': 'smoothl1', 'optimizer': 'AdamW'}. Best is trial 75 with value: 0.09477280302542021.\n"
     ]
    },
    {
     "name": "stdout",
     "output_type": "stream",
     "text": [
      "Starting time series verification for consistency...\n",
      "\n",
      "Performance metrics:\n",
      "                                   MSE       RMSE        MAE         R2  \\\n",
      "Temperature                   3.888646   1.971965   1.611049   0.872282   \n",
      "Precipitation_accumulated    50.036920   7.073678   5.545749 -13.601810   \n",
      "Humidity                     31.832327   5.642014   4.204768   0.782746   \n",
      "Wind_Speed_kmh                1.045184   1.022343   0.773762   0.225337   \n",
      "Soil_Moisture              9232.432381  96.085547  73.514114   0.838034   \n",
      "Soil_Temperature              3.164645   1.778945   1.469042   0.803526   \n",
      "Wind_Dir_Sin                  0.548406   0.740544   0.627300   0.004075   \n",
      "Wind_Dir_Cos                  0.371850   0.609795   0.511179  -0.014800   \n",
      "\n",
      "                                SMAPE  \n",
      "Temperature                 28.518234  \n",
      "Precipitation_accumulated    1.195848  \n",
      "Humidity                     4.949295  \n",
      "Wind_Speed_kmh              71.169081  \n",
      "Soil_Moisture                0.856442  \n",
      "Soil_Temperature            28.749287  \n",
      "Wind_Dir_Sin               128.524988  \n",
      "Wind_Dir_Cos               127.117767  \n",
      "The MAE for this fold was 0.10267424539567921\n",
      "Results of trial 82 saved in optuna_iteration_metrics/trial_82.json\n",
      "Current value: 0.10267424539567921, Current params: {'input_chunk_length': 28, 'output_chunk_length': 3, 'dropout': 0.4665064537745976, 'batch_size': 71, 'lr': 0.003979331991629496, 'weight_decay': 0.0002885326901103127, 'hidden_size': 128, 'ff_size': 133, 'num_blocks': 1, 'activation': 'ReLU', 'norm_type': 'TimeBatchNorm2d', 'normalize_before': True, 'loss_fn': 'smoothl1', 'optimizer': 'AdamW'}\n",
      "Best value: 0.09477280302542021, Best params: {'input_chunk_length': 28, 'output_chunk_length': 2, 'dropout': 0.43196593253839216, 'batch_size': 80, 'lr': 0.004754721469167949, 'weight_decay': 0.00037508452245656074, 'hidden_size': 32, 'ff_size': 49, 'num_blocks': 1, 'activation': 'ReLU', 'norm_type': 'LayerNorm', 'normalize_before': True, 'loss_fn': 'huber', 'optimizer': 'AdamW'}\n",
      "\n",
      "Starting Trial 83\n",
      "Hyperparameters: {'input_chunk_length': 27, 'output_chunk_length': 1, 'dropout': 0.45087323478159125, 'batch_size': 67, 'lr': 0.004216838508548973, 'weight_decay': 0.000358724351349336, 'hidden_size': 128, 'ff_size': 132, 'num_blocks': 1, 'activation': 'ReLU', 'norm_type': 'TimeBatchNorm2d', 'normalize_before': True, 'loss_fn': 'smoothl1', 'optimizer': 'AdamW'}\n",
      "\n",
      "Training the model...\n",
      "Train set: 6647 samples\n",
      "Validation set: 1662 samples\n"
     ]
    },
    {
     "name": "stderr",
     "output_type": "stream",
     "text": [
      "GPU available: True (cuda), used: True\n",
      "TPU available: False, using: 0 TPU cores\n",
      "HPU available: False, using: 0 HPUs\n",
      "LOCAL_RANK: 0 - CUDA_VISIBLE_DEVICES: [0]\n",
      "Metric val_loss improved. New best score: 0.022\n",
      "Metric val_loss improved by 0.007 >= min_delta = 0.0005. New best score: 0.016\n",
      "Metric val_loss improved by 0.002 >= min_delta = 0.0005. New best score: 0.014\n",
      "Metric val_loss improved by 0.001 >= min_delta = 0.0005. New best score: 0.013\n",
      "Metric val_loss improved by 0.001 >= min_delta = 0.0005. New best score: 0.012\n",
      "Monitored metric val_loss did not improve in the last 15 records. Best score: 0.012. Signaling Trainer to stop.\n",
      "GPU available: True (cuda), used: True\n",
      "TPU available: False, using: 0 TPU cores\n",
      "HPU available: False, using: 0 HPUs\n",
      "LOCAL_RANK: 0 - CUDA_VISIBLE_DEVICES: [0]\n"
     ]
    },
    {
     "name": "stdout",
     "output_type": "stream",
     "text": [
      "Model loaded from checkpoint for trial 83\n"
     ]
    },
    {
     "name": "stderr",
     "output_type": "stream",
     "text": [
      "/home/eduardo/Documentos/Water-Cycle-Neural-Network/venv/lib/python3.12/site-packages/pytorch_lightning/trainer/connectors/data_connector.py:425: The 'predict_dataloader' does not have many workers which may be a bottleneck. Consider increasing the value of the `num_workers` argument` to `num_workers=11` in the `DataLoader` to improve performance.\n",
      "[I 2025-05-27 09:33:41,591] Trial 83 finished with value: 0.07853027585428113 and parameters: {'input_chunk_length': 27, 'output_chunk_length': 1, 'dropout': 0.45087323478159125, 'batch_size': 67, 'lr': 0.004216838508548973, 'weight_decay': 0.000358724351349336, 'hidden_size': 128, 'ff_size': 132, 'num_blocks': 1, 'activation': 'ReLU', 'norm_type': 'TimeBatchNorm2d', 'normalize_before': True, 'loss_fn': 'smoothl1', 'optimizer': 'AdamW'}. Best is trial 83 with value: 0.07853027585428113.\n"
     ]
    },
    {
     "name": "stdout",
     "output_type": "stream",
     "text": [
      "Starting time series verification for consistency...\n",
      "\n",
      "Performance metrics:\n",
      "                                   MSE       RMSE        MAE        R2  \\\n",
      "Temperature                   1.977839   1.406357   1.147859  0.935114   \n",
      "Precipitation_accumulated    12.476225   3.532170   2.800698 -2.624101   \n",
      "Humidity                     10.560184   3.249644   2.383099  0.927943   \n",
      "Wind_Speed_kmh                0.534696   0.731229   0.552637  0.604337   \n",
      "Soil_Moisture              1453.432056  38.123904  25.067966  0.974768   \n",
      "Soil_Temperature              1.371912   1.171286   0.961329  0.915034   \n",
      "Wind_Dir_Sin                  0.362171   0.601806   0.484899  0.341671   \n",
      "Wind_Dir_Cos                  0.314496   0.560799   0.446956  0.143857   \n",
      "\n",
      "                                SMAPE  \n",
      "Temperature                 23.290378  \n",
      "Precipitation_accumulated    0.602089  \n",
      "Humidity                     2.791953  \n",
      "Wind_Speed_kmh              57.415683  \n",
      "Soil_Moisture                0.292017  \n",
      "Soil_Temperature            18.088971  \n",
      "Wind_Dir_Sin                96.390328  \n",
      "Wind_Dir_Cos               109.072674  \n",
      "The MAE for this fold was 0.07853027585428113\n",
      "Results of trial 83 saved in optuna_iteration_metrics/trial_83.json\n",
      "Current value: 0.07853027585428113, Current params: {'input_chunk_length': 27, 'output_chunk_length': 1, 'dropout': 0.45087323478159125, 'batch_size': 67, 'lr': 0.004216838508548973, 'weight_decay': 0.000358724351349336, 'hidden_size': 128, 'ff_size': 132, 'num_blocks': 1, 'activation': 'ReLU', 'norm_type': 'TimeBatchNorm2d', 'normalize_before': True, 'loss_fn': 'smoothl1', 'optimizer': 'AdamW'}\n",
      "Best value: 0.07853027585428113, Best params: {'input_chunk_length': 27, 'output_chunk_length': 1, 'dropout': 0.45087323478159125, 'batch_size': 67, 'lr': 0.004216838508548973, 'weight_decay': 0.000358724351349336, 'hidden_size': 128, 'ff_size': 132, 'num_blocks': 1, 'activation': 'ReLU', 'norm_type': 'TimeBatchNorm2d', 'normalize_before': True, 'loss_fn': 'smoothl1', 'optimizer': 'AdamW'}\n",
      "\n",
      "Starting Trial 84\n",
      "Hyperparameters: {'input_chunk_length': 28, 'output_chunk_length': 1, 'dropout': 0.4677130374690211, 'batch_size': 70, 'lr': 0.003963844326132475, 'weight_decay': 0.00031735365549970447, 'hidden_size': 128, 'ff_size': 173, 'num_blocks': 1, 'activation': 'ReLU', 'norm_type': 'TimeBatchNorm2d', 'normalize_before': True, 'loss_fn': 'smoothl1', 'optimizer': 'AdamW'}\n",
      "\n",
      "Training the model...\n",
      "Train set: 6647 samples\n",
      "Validation set: 1662 samples\n"
     ]
    },
    {
     "name": "stderr",
     "output_type": "stream",
     "text": [
      "GPU available: True (cuda), used: True\n",
      "TPU available: False, using: 0 TPU cores\n",
      "HPU available: False, using: 0 HPUs\n",
      "LOCAL_RANK: 0 - CUDA_VISIBLE_DEVICES: [0]\n",
      "Metric val_loss improved. New best score: 0.023\n",
      "Metric val_loss improved by 0.003 >= min_delta = 0.0005. New best score: 0.020\n",
      "Metric val_loss improved by 0.001 >= min_delta = 0.0005. New best score: 0.019\n",
      "Metric val_loss improved by 0.002 >= min_delta = 0.0005. New best score: 0.017\n",
      "Metric val_loss improved by 0.003 >= min_delta = 0.0005. New best score: 0.014\n",
      "Metric val_loss improved by 0.001 >= min_delta = 0.0005. New best score: 0.013\n",
      "Metric val_loss improved by 0.001 >= min_delta = 0.0005. New best score: 0.013\n",
      "Metric val_loss improved by 0.001 >= min_delta = 0.0005. New best score: 0.012\n",
      "Metric val_loss improved by 0.001 >= min_delta = 0.0005. New best score: 0.012\n",
      "`Trainer.fit` stopped: `max_epochs=30` reached.\n",
      "GPU available: True (cuda), used: True\n",
      "TPU available: False, using: 0 TPU cores\n",
      "HPU available: False, using: 0 HPUs\n",
      "LOCAL_RANK: 0 - CUDA_VISIBLE_DEVICES: [0]\n"
     ]
    },
    {
     "name": "stdout",
     "output_type": "stream",
     "text": [
      "Model loaded from checkpoint for trial 84\n"
     ]
    },
    {
     "name": "stderr",
     "output_type": "stream",
     "text": [
      "/home/eduardo/Documentos/Water-Cycle-Neural-Network/venv/lib/python3.12/site-packages/pytorch_lightning/trainer/connectors/data_connector.py:425: The 'predict_dataloader' does not have many workers which may be a bottleneck. Consider increasing the value of the `num_workers` argument` to `num_workers=11` in the `DataLoader` to improve performance.\n",
      "[I 2025-05-27 09:34:14,905] Trial 84 finished with value: 0.08186091878938309 and parameters: {'input_chunk_length': 28, 'output_chunk_length': 1, 'dropout': 0.4677130374690211, 'batch_size': 70, 'lr': 0.003963844326132475, 'weight_decay': 0.00031735365549970447, 'hidden_size': 128, 'ff_size': 173, 'num_blocks': 1, 'activation': 'ReLU', 'norm_type': 'TimeBatchNorm2d', 'normalize_before': True, 'loss_fn': 'smoothl1', 'optimizer': 'AdamW'}. Best is trial 83 with value: 0.07853027585428113.\n"
     ]
    },
    {
     "name": "stdout",
     "output_type": "stream",
     "text": [
      "Starting time series verification for consistency...\n",
      "\n",
      "Performance metrics:\n",
      "                                    MSE        RMSE        MAE        R2  \\\n",
      "Temperature                    1.999124    1.413904   1.175176  0.934372   \n",
      "Precipitation_accumulated     30.193003    5.494816   4.826069 -7.783887   \n",
      "Humidity                      10.194217    3.192838   2.340572  0.930435   \n",
      "Wind_Speed_kmh                 0.538447    0.733789   0.552039  0.601078   \n",
      "Soil_Moisture              11584.117545  107.629538  98.330411  0.798226   \n",
      "Soil_Temperature               0.882010    0.939154   0.740243  0.945330   \n",
      "Wind_Dir_Sin                   0.370993    0.609092   0.500098  0.325845   \n",
      "Wind_Dir_Cos                   0.318155    0.564053   0.452451  0.133175   \n",
      "\n",
      "                                SMAPE  \n",
      "Temperature                 24.204949  \n",
      "Precipitation_accumulated    1.045789  \n",
      "Humidity                     2.772503  \n",
      "Wind_Speed_kmh              57.811063  \n",
      "Soil_Moisture                1.143483  \n",
      "Soil_Temperature            13.033170  \n",
      "Wind_Dir_Sin               100.745658  \n",
      "Wind_Dir_Cos               110.702996  \n",
      "The MAE for this fold was 0.08186091878938309\n",
      "Results of trial 84 saved in optuna_iteration_metrics/trial_84.json\n",
      "Current value: 0.08186091878938309, Current params: {'input_chunk_length': 28, 'output_chunk_length': 1, 'dropout': 0.4677130374690211, 'batch_size': 70, 'lr': 0.003963844326132475, 'weight_decay': 0.00031735365549970447, 'hidden_size': 128, 'ff_size': 173, 'num_blocks': 1, 'activation': 'ReLU', 'norm_type': 'TimeBatchNorm2d', 'normalize_before': True, 'loss_fn': 'smoothl1', 'optimizer': 'AdamW'}\n",
      "Best value: 0.07853027585428113, Best params: {'input_chunk_length': 27, 'output_chunk_length': 1, 'dropout': 0.45087323478159125, 'batch_size': 67, 'lr': 0.004216838508548973, 'weight_decay': 0.000358724351349336, 'hidden_size': 128, 'ff_size': 132, 'num_blocks': 1, 'activation': 'ReLU', 'norm_type': 'TimeBatchNorm2d', 'normalize_before': True, 'loss_fn': 'smoothl1', 'optimizer': 'AdamW'}\n",
      "\n",
      "Starting Trial 85\n",
      "Hyperparameters: {'input_chunk_length': 28, 'output_chunk_length': 1, 'dropout': 0.4666715738938398, 'batch_size': 71, 'lr': 0.004631291344783938, 'weight_decay': 0.00025479625042026596, 'hidden_size': 128, 'ff_size': 174, 'num_blocks': 1, 'activation': 'ReLU', 'norm_type': 'TimeBatchNorm2d', 'normalize_before': True, 'loss_fn': 'smoothl1', 'optimizer': 'AdamW'}\n",
      "\n",
      "Training the model...\n",
      "Train set: 6647 samples\n",
      "Validation set: 1662 samples\n"
     ]
    },
    {
     "name": "stderr",
     "output_type": "stream",
     "text": [
      "GPU available: True (cuda), used: True\n",
      "TPU available: False, using: 0 TPU cores\n",
      "HPU available: False, using: 0 HPUs\n",
      "LOCAL_RANK: 0 - CUDA_VISIBLE_DEVICES: [0]\n",
      "Metric val_loss improved. New best score: 0.029\n",
      "[I 2025-05-27 09:34:17,637] Trial 85 pruned. Trial was pruned at epoch 1.\n",
      "GPU available: True (cuda), used: True\n",
      "TPU available: False, using: 0 TPU cores\n",
      "HPU available: False, using: 0 HPUs\n",
      "LOCAL_RANK: 0 - CUDA_VISIBLE_DEVICES: [0]\n"
     ]
    },
    {
     "name": "stdout",
     "output_type": "stream",
     "text": [
      "Current value: 0.027875210298223325, Current params: {'input_chunk_length': 28, 'output_chunk_length': 1, 'dropout': 0.4666715738938398, 'batch_size': 71, 'lr': 0.004631291344783938, 'weight_decay': 0.00025479625042026596, 'hidden_size': 128, 'ff_size': 174, 'num_blocks': 1, 'activation': 'ReLU', 'norm_type': 'TimeBatchNorm2d', 'normalize_before': True, 'loss_fn': 'smoothl1', 'optimizer': 'AdamW'}\n",
      "Best value: 0.07853027585428113, Best params: {'input_chunk_length': 27, 'output_chunk_length': 1, 'dropout': 0.45087323478159125, 'batch_size': 67, 'lr': 0.004216838508548973, 'weight_decay': 0.000358724351349336, 'hidden_size': 128, 'ff_size': 132, 'num_blocks': 1, 'activation': 'ReLU', 'norm_type': 'TimeBatchNorm2d', 'normalize_before': True, 'loss_fn': 'smoothl1', 'optimizer': 'AdamW'}\n",
      "\n",
      "Starting Trial 86\n",
      "Hyperparameters: {'input_chunk_length': 25, 'output_chunk_length': 1, 'dropout': 0.47953549361011144, 'batch_size': 78, 'lr': 0.0047764590017168535, 'weight_decay': 0.0003517587559098534, 'hidden_size': 128, 'ff_size': 160, 'num_blocks': 1, 'activation': 'GELU', 'norm_type': 'TimeBatchNorm2d', 'normalize_before': True, 'loss_fn': 'smoothl1', 'optimizer': 'AdamW'}\n",
      "\n",
      "Training the model...\n",
      "Train set: 6647 samples\n",
      "Validation set: 1662 samples\n"
     ]
    },
    {
     "name": "stderr",
     "output_type": "stream",
     "text": [
      "Metric val_loss improved. New best score: 0.037\n",
      "Metric val_loss improved by 0.016 >= min_delta = 0.0005. New best score: 0.021\n",
      "Metric val_loss improved by 0.002 >= min_delta = 0.0005. New best score: 0.019\n",
      "Metric val_loss improved by 0.002 >= min_delta = 0.0005. New best score: 0.016\n",
      "Metric val_loss improved by 0.001 >= min_delta = 0.0005. New best score: 0.015\n",
      "Metric val_loss improved by 0.001 >= min_delta = 0.0005. New best score: 0.014\n",
      "Metric val_loss improved by 0.001 >= min_delta = 0.0005. New best score: 0.013\n",
      "Metric val_loss improved by 0.001 >= min_delta = 0.0005. New best score: 0.012\n",
      "Monitored metric val_loss did not improve in the last 15 records. Best score: 0.012. Signaling Trainer to stop.\n",
      "GPU available: True (cuda), used: True\n",
      "TPU available: False, using: 0 TPU cores\n",
      "HPU available: False, using: 0 HPUs\n",
      "LOCAL_RANK: 0 - CUDA_VISIBLE_DEVICES: [0]\n"
     ]
    },
    {
     "name": "stdout",
     "output_type": "stream",
     "text": [
      "Model loaded from checkpoint for trial 86\n"
     ]
    },
    {
     "name": "stderr",
     "output_type": "stream",
     "text": [
      "/home/eduardo/Documentos/Water-Cycle-Neural-Network/venv/lib/python3.12/site-packages/pytorch_lightning/trainer/connectors/data_connector.py:425: The 'predict_dataloader' does not have many workers which may be a bottleneck. Consider increasing the value of the `num_workers` argument` to `num_workers=11` in the `DataLoader` to improve performance.\n",
      "[I 2025-05-27 09:34:46,810] Trial 86 finished with value: 0.08358354901717624 and parameters: {'input_chunk_length': 25, 'output_chunk_length': 1, 'dropout': 0.47953549361011144, 'batch_size': 78, 'lr': 0.0047764590017168535, 'weight_decay': 0.0003517587559098534, 'hidden_size': 128, 'ff_size': 160, 'num_blocks': 1, 'activation': 'GELU', 'norm_type': 'TimeBatchNorm2d', 'normalize_before': True, 'loss_fn': 'smoothl1', 'optimizer': 'AdamW'}. Best is trial 83 with value: 0.07853027585428113.\n"
     ]
    },
    {
     "name": "stdout",
     "output_type": "stream",
     "text": [
      "Starting time series verification for consistency...\n",
      "\n",
      "Performance metrics:\n",
      "                                    MSE        RMSE        MAE        R2  \\\n",
      "Temperature                    2.101747    1.449740   1.162264  0.931128   \n",
      "Precipitation_accumulated     37.362800    6.112512   5.111136 -9.820282   \n",
      "Humidity                      13.987094    3.739932   2.926110  0.904574   \n",
      "Wind_Speed_kmh                 0.529690    0.727798   0.550558  0.607736   \n",
      "Soil_Moisture              10548.483062  102.705808  92.264268  0.818032   \n",
      "Soil_Temperature               3.001364    1.732445   1.481969  0.814378   \n",
      "Wind_Dir_Sin                   0.358771    0.598975   0.486393  0.347538   \n",
      "Wind_Dir_Cos                   0.309979    0.556757   0.452487  0.157218   \n",
      "\n",
      "                                SMAPE  \n",
      "Temperature                 22.676736  \n",
      "Precipitation_accumulated    1.109585  \n",
      "Humidity                     3.363501  \n",
      "Wind_Speed_kmh              57.095385  \n",
      "Soil_Moisture                1.081999  \n",
      "Soil_Temperature            38.658318  \n",
      "Wind_Dir_Sin                97.437874  \n",
      "Wind_Dir_Cos               111.812885  \n",
      "The MAE for this fold was 0.08358354901717624\n",
      "Results of trial 86 saved in optuna_iteration_metrics/trial_86.json\n",
      "Current value: 0.08358354901717624, Current params: {'input_chunk_length': 25, 'output_chunk_length': 1, 'dropout': 0.47953549361011144, 'batch_size': 78, 'lr': 0.0047764590017168535, 'weight_decay': 0.0003517587559098534, 'hidden_size': 128, 'ff_size': 160, 'num_blocks': 1, 'activation': 'GELU', 'norm_type': 'TimeBatchNorm2d', 'normalize_before': True, 'loss_fn': 'smoothl1', 'optimizer': 'AdamW'}\n",
      "Best value: 0.07853027585428113, Best params: {'input_chunk_length': 27, 'output_chunk_length': 1, 'dropout': 0.45087323478159125, 'batch_size': 67, 'lr': 0.004216838508548973, 'weight_decay': 0.000358724351349336, 'hidden_size': 128, 'ff_size': 132, 'num_blocks': 1, 'activation': 'ReLU', 'norm_type': 'TimeBatchNorm2d', 'normalize_before': True, 'loss_fn': 'smoothl1', 'optimizer': 'AdamW'}\n",
      "\n",
      "Starting Trial 87\n",
      "Hyperparameters: {'input_chunk_length': 25, 'output_chunk_length': 1, 'dropout': 0.4875374299354577, 'batch_size': 77, 'lr': 0.004756286923612152, 'weight_decay': 0.0003765776112384779, 'hidden_size': 128, 'ff_size': 157, 'num_blocks': 4, 'activation': 'GELU', 'norm_type': 'TimeBatchNorm2d', 'normalize_before': True, 'loss_fn': 'smoothl1', 'optimizer': 'SGD'}\n",
      "\n",
      "Training the model...\n",
      "Train set: 6647 samples\n",
      "Validation set: 1662 samples\n"
     ]
    },
    {
     "name": "stderr",
     "output_type": "stream",
     "text": [
      "GPU available: True (cuda), used: True\n",
      "TPU available: False, using: 0 TPU cores\n",
      "HPU available: False, using: 0 HPUs\n",
      "LOCAL_RANK: 0 - CUDA_VISIBLE_DEVICES: [0]\n",
      "[I 2025-05-27 09:34:48,748] Trial 87 pruned. Trial was pruned at epoch 0.\n",
      "GPU available: True (cuda), used: True\n",
      "TPU available: False, using: 0 TPU cores\n",
      "HPU available: False, using: 0 HPUs\n",
      "LOCAL_RANK: 0 - CUDA_VISIBLE_DEVICES: [0]\n"
     ]
    },
    {
     "name": "stdout",
     "output_type": "stream",
     "text": [
      "Current value: 0.0786525919204514, Current params: {'input_chunk_length': 25, 'output_chunk_length': 1, 'dropout': 0.4875374299354577, 'batch_size': 77, 'lr': 0.004756286923612152, 'weight_decay': 0.0003765776112384779, 'hidden_size': 128, 'ff_size': 157, 'num_blocks': 4, 'activation': 'GELU', 'norm_type': 'TimeBatchNorm2d', 'normalize_before': True, 'loss_fn': 'smoothl1', 'optimizer': 'SGD'}\n",
      "Best value: 0.07853027585428113, Best params: {'input_chunk_length': 27, 'output_chunk_length': 1, 'dropout': 0.45087323478159125, 'batch_size': 67, 'lr': 0.004216838508548973, 'weight_decay': 0.000358724351349336, 'hidden_size': 128, 'ff_size': 132, 'num_blocks': 1, 'activation': 'ReLU', 'norm_type': 'TimeBatchNorm2d', 'normalize_before': True, 'loss_fn': 'smoothl1', 'optimizer': 'AdamW'}\n",
      "\n",
      "Starting Trial 88\n",
      "Hyperparameters: {'input_chunk_length': 28, 'output_chunk_length': 3, 'dropout': 0.45366131897958695, 'batch_size': 68, 'lr': 0.003920908399962886, 'weight_decay': 0.0007104382774768567, 'hidden_size': 128, 'ff_size': 194, 'num_blocks': 1, 'activation': 'GELU', 'norm_type': 'TimeBatchNorm2d', 'normalize_before': True, 'loss_fn': 'smoothl1', 'optimizer': 'AdamW'}\n",
      "\n",
      "Training the model...\n",
      "Train set: 6647 samples\n",
      "Validation set: 1662 samples\n"
     ]
    },
    {
     "name": "stderr",
     "output_type": "stream",
     "text": [
      "Metric val_loss improved. New best score: 0.024\n",
      "Metric val_loss improved by 0.003 >= min_delta = 0.0005. New best score: 0.021\n",
      "Metric val_loss improved by 0.001 >= min_delta = 0.0005. New best score: 0.020\n",
      "Metric val_loss improved by 0.002 >= min_delta = 0.0005. New best score: 0.019\n",
      "Metric val_loss improved by 0.001 >= min_delta = 0.0005. New best score: 0.018\n",
      "Metric val_loss improved by 0.001 >= min_delta = 0.0005. New best score: 0.017\n",
      "Metric val_loss improved by 0.001 >= min_delta = 0.0005. New best score: 0.016\n",
      "Metric val_loss improved by 0.001 >= min_delta = 0.0005. New best score: 0.015\n",
      "Metric val_loss improved by 0.001 >= min_delta = 0.0005. New best score: 0.015\n",
      "Monitored metric val_loss did not improve in the last 15 records. Best score: 0.015. Signaling Trainer to stop.\n",
      "`Trainer.fit` stopped: `max_epochs=30` reached.\n",
      "GPU available: True (cuda), used: True\n",
      "TPU available: False, using: 0 TPU cores\n",
      "HPU available: False, using: 0 HPUs\n",
      "LOCAL_RANK: 0 - CUDA_VISIBLE_DEVICES: [0]\n"
     ]
    },
    {
     "name": "stdout",
     "output_type": "stream",
     "text": [
      "Model loaded from checkpoint for trial 88\n"
     ]
    },
    {
     "name": "stderr",
     "output_type": "stream",
     "text": [
      "/home/eduardo/Documentos/Water-Cycle-Neural-Network/venv/lib/python3.12/site-packages/pytorch_lightning/trainer/connectors/data_connector.py:425: The 'predict_dataloader' does not have many workers which may be a bottleneck. Consider increasing the value of the `num_workers` argument` to `num_workers=11` in the `DataLoader` to improve performance.\n",
      "[I 2025-05-27 09:36:53,878] Trial 88 finished with value: 0.1018469773314678 and parameters: {'input_chunk_length': 28, 'output_chunk_length': 3, 'dropout': 0.45366131897958695, 'batch_size': 68, 'lr': 0.003920908399962886, 'weight_decay': 0.0007104382774768567, 'hidden_size': 128, 'ff_size': 194, 'num_blocks': 1, 'activation': 'GELU', 'norm_type': 'TimeBatchNorm2d', 'normalize_before': True, 'loss_fn': 'smoothl1', 'optimizer': 'AdamW'}. Best is trial 83 with value: 0.07853027585428113.\n"
     ]
    },
    {
     "name": "stdout",
     "output_type": "stream",
     "text": [
      "Starting time series verification for consistency...\n",
      "\n",
      "Performance metrics:\n",
      "                                   MSE       RMSE        MAE        R2  \\\n",
      "Temperature                   3.592624   1.895422   1.476855  0.882005   \n",
      "Precipitation_accumulated    13.877584   3.725263   3.015129 -3.049767   \n",
      "Humidity                     34.743220   5.894338   4.483037  0.762879   \n",
      "Wind_Speed_kmh                1.042613   1.021084   0.779281  0.227242   \n",
      "Soil_Moisture              5208.084712  72.167061  50.439570  0.908634   \n",
      "Soil_Temperature              4.433742   2.105645   1.754774  0.724736   \n",
      "Wind_Dir_Sin                  0.545786   0.738774   0.624497  0.008831   \n",
      "Wind_Dir_Cos                  0.362895   0.602408   0.509406  0.009638   \n",
      "\n",
      "                                SMAPE  \n",
      "Temperature                 26.019386  \n",
      "Precipitation_accumulated    0.648423  \n",
      "Humidity                     5.289049  \n",
      "Wind_Speed_kmh              70.286002  \n",
      "Soil_Moisture                0.587732  \n",
      "Soil_Temperature            35.892010  \n",
      "Wind_Dir_Sin               128.329832  \n",
      "Wind_Dir_Cos               127.164726  \n",
      "The MAE for this fold was 0.1018469773314678\n",
      "Results of trial 88 saved in optuna_iteration_metrics/trial_88.json\n",
      "Current value: 0.1018469773314678, Current params: {'input_chunk_length': 28, 'output_chunk_length': 3, 'dropout': 0.45366131897958695, 'batch_size': 68, 'lr': 0.003920908399962886, 'weight_decay': 0.0007104382774768567, 'hidden_size': 128, 'ff_size': 194, 'num_blocks': 1, 'activation': 'GELU', 'norm_type': 'TimeBatchNorm2d', 'normalize_before': True, 'loss_fn': 'smoothl1', 'optimizer': 'AdamW'}\n",
      "Best value: 0.07853027585428113, Best params: {'input_chunk_length': 27, 'output_chunk_length': 1, 'dropout': 0.45087323478159125, 'batch_size': 67, 'lr': 0.004216838508548973, 'weight_decay': 0.000358724351349336, 'hidden_size': 128, 'ff_size': 132, 'num_blocks': 1, 'activation': 'ReLU', 'norm_type': 'TimeBatchNorm2d', 'normalize_before': True, 'loss_fn': 'smoothl1', 'optimizer': 'AdamW'}\n",
      "\n",
      "Starting Trial 89\n",
      "Hyperparameters: {'input_chunk_length': 24, 'output_chunk_length': 3, 'dropout': 0.45170597395122186, 'batch_size': 64, 'lr': 0.0027319987621253553, 'weight_decay': 0.0006319340674622278, 'hidden_size': 128, 'ff_size': 194, 'num_blocks': 1, 'activation': 'GELU', 'norm_type': 'TimeBatchNorm2d', 'normalize_before': True, 'loss_fn': 'smoothl1', 'optimizer': 'AdamW'}\n",
      "\n",
      "Training the model...\n",
      "Train set: 6647 samples\n",
      "Validation set: 1662 samples\n"
     ]
    },
    {
     "name": "stderr",
     "output_type": "stream",
     "text": [
      "GPU available: True (cuda), used: True\n",
      "TPU available: False, using: 0 TPU cores\n",
      "HPU available: False, using: 0 HPUs\n",
      "LOCAL_RANK: 0 - CUDA_VISIBLE_DEVICES: [0]\n",
      "Metric val_loss improved. New best score: 0.029\n",
      "Metric val_loss improved by 0.004 >= min_delta = 0.0005. New best score: 0.025\n",
      "[I 2025-05-27 09:36:57,638] Trial 89 pruned. Trial was pruned at epoch 2.\n",
      "GPU available: True (cuda), used: True\n",
      "TPU available: False, using: 0 TPU cores\n",
      "HPU available: False, using: 0 HPUs\n",
      "LOCAL_RANK: 0 - CUDA_VISIBLE_DEVICES: [0]\n"
     ]
    },
    {
     "name": "stdout",
     "output_type": "stream",
     "text": [
      "Current value: 0.0235313184798814, Current params: {'input_chunk_length': 24, 'output_chunk_length': 3, 'dropout': 0.45170597395122186, 'batch_size': 64, 'lr': 0.0027319987621253553, 'weight_decay': 0.0006319340674622278, 'hidden_size': 128, 'ff_size': 194, 'num_blocks': 1, 'activation': 'GELU', 'norm_type': 'TimeBatchNorm2d', 'normalize_before': True, 'loss_fn': 'smoothl1', 'optimizer': 'AdamW'}\n",
      "Best value: 0.07853027585428113, Best params: {'input_chunk_length': 27, 'output_chunk_length': 1, 'dropout': 0.45087323478159125, 'batch_size': 67, 'lr': 0.004216838508548973, 'weight_decay': 0.000358724351349336, 'hidden_size': 128, 'ff_size': 132, 'num_blocks': 1, 'activation': 'ReLU', 'norm_type': 'TimeBatchNorm2d', 'normalize_before': True, 'loss_fn': 'smoothl1', 'optimizer': 'AdamW'}\n",
      "\n",
      "Starting Trial 90\n",
      "Hyperparameters: {'input_chunk_length': 30, 'output_chunk_length': 2, 'dropout': 0.4774875746436183, 'batch_size': 70, 'lr': 0.0039960819290334295, 'weight_decay': 0.001095550632108657, 'hidden_size': 128, 'ff_size': 172, 'num_blocks': 2, 'activation': 'GELU', 'norm_type': 'TimeBatchNorm2d', 'normalize_before': True, 'loss_fn': 'smoothl1', 'optimizer': 'AdamW'}\n",
      "\n",
      "Training the model...\n",
      "Train set: 6647 samples\n",
      "Validation set: 1662 samples\n"
     ]
    },
    {
     "name": "stderr",
     "output_type": "stream",
     "text": [
      "Metric val_loss improved. New best score: 0.028\n",
      "Metric val_loss improved by 0.009 >= min_delta = 0.0005. New best score: 0.020\n",
      "Metric val_loss improved by 0.001 >= min_delta = 0.0005. New best score: 0.019\n",
      "Metric val_loss improved by 0.002 >= min_delta = 0.0005. New best score: 0.017\n",
      "Metric val_loss improved by 0.001 >= min_delta = 0.0005. New best score: 0.016\n",
      "Metric val_loss improved by 0.001 >= min_delta = 0.0005. New best score: 0.014\n",
      "Metric val_loss improved by 0.001 >= min_delta = 0.0005. New best score: 0.014\n",
      "`Trainer.fit` stopped: `max_epochs=30` reached.\n",
      "GPU available: True (cuda), used: True\n",
      "TPU available: False, using: 0 TPU cores\n",
      "HPU available: False, using: 0 HPUs\n",
      "LOCAL_RANK: 0 - CUDA_VISIBLE_DEVICES: [0]\n"
     ]
    },
    {
     "name": "stdout",
     "output_type": "stream",
     "text": [
      "Model loaded from checkpoint for trial 90\n"
     ]
    },
    {
     "name": "stderr",
     "output_type": "stream",
     "text": [
      "/home/eduardo/Documentos/Water-Cycle-Neural-Network/venv/lib/python3.12/site-packages/pytorch_lightning/trainer/connectors/data_connector.py:425: The 'predict_dataloader' does not have many workers which may be a bottleneck. Consider increasing the value of the `num_workers` argument` to `num_workers=11` in the `DataLoader` to improve performance.\n",
      "[I 2025-05-27 09:37:35,837] Trial 90 finished with value: 0.09733631279565169 and parameters: {'input_chunk_length': 30, 'output_chunk_length': 2, 'dropout': 0.4774875746436183, 'batch_size': 70, 'lr': 0.0039960819290334295, 'weight_decay': 0.001095550632108657, 'hidden_size': 128, 'ff_size': 172, 'num_blocks': 2, 'activation': 'GELU', 'norm_type': 'TimeBatchNorm2d', 'normalize_before': True, 'loss_fn': 'smoothl1', 'optimizer': 'AdamW'}. Best is trial 83 with value: 0.07853027585428113.\n"
     ]
    },
    {
     "name": "stdout",
     "output_type": "stream",
     "text": [
      "Starting time series verification for consistency...\n",
      "\n",
      "Performance metrics:\n",
      "                                    MSE        RMSE        MAE         R2  \\\n",
      "Temperature                    4.487719    2.118424   1.753810   0.852646   \n",
      "Precipitation_accumulated    114.053799   10.679597   9.038419 -32.334830   \n",
      "Humidity                      25.887542    5.087980   3.845258   0.823305   \n",
      "Wind_Speed_kmh                 1.000510    1.000255   0.741420   0.258179   \n",
      "Soil_Moisture              14248.530609  119.367209  94.628716   0.749087   \n",
      "Soil_Temperature               1.836019    1.354998   1.035312   0.885952   \n",
      "Wind_Dir_Sin                   0.470424    0.685875   0.567369   0.145700   \n",
      "Wind_Dir_Cos                   0.348800    0.590593   0.488269   0.048091   \n",
      "\n",
      "                                SMAPE  \n",
      "Temperature                 31.109056  \n",
      "Precipitation_accumulated    1.922826  \n",
      "Humidity                     4.497845  \n",
      "Wind_Speed_kmh              73.213093  \n",
      "Soil_Moisture                1.103413  \n",
      "Soil_Temperature            17.059798  \n",
      "Wind_Dir_Sin               116.272806  \n",
      "Wind_Dir_Cos               116.289503  \n",
      "The MAE for this fold was 0.09733631279565169\n",
      "Results of trial 90 saved in optuna_iteration_metrics/trial_90.json\n",
      "Current value: 0.09733631279565169, Current params: {'input_chunk_length': 30, 'output_chunk_length': 2, 'dropout': 0.4774875746436183, 'batch_size': 70, 'lr': 0.0039960819290334295, 'weight_decay': 0.001095550632108657, 'hidden_size': 128, 'ff_size': 172, 'num_blocks': 2, 'activation': 'GELU', 'norm_type': 'TimeBatchNorm2d', 'normalize_before': True, 'loss_fn': 'smoothl1', 'optimizer': 'AdamW'}\n",
      "Best value: 0.07853027585428113, Best params: {'input_chunk_length': 27, 'output_chunk_length': 1, 'dropout': 0.45087323478159125, 'batch_size': 67, 'lr': 0.004216838508548973, 'weight_decay': 0.000358724351349336, 'hidden_size': 128, 'ff_size': 132, 'num_blocks': 1, 'activation': 'ReLU', 'norm_type': 'TimeBatchNorm2d', 'normalize_before': True, 'loss_fn': 'smoothl1', 'optimizer': 'AdamW'}\n",
      "\n",
      "Starting Trial 91\n",
      "Hyperparameters: {'input_chunk_length': 30, 'output_chunk_length': 2, 'dropout': 0.4840327928214867, 'batch_size': 68, 'lr': 0.0042594690366220414, 'weight_decay': 0.001190629277661627, 'hidden_size': 128, 'ff_size': 175, 'num_blocks': 2, 'activation': 'GELU', 'norm_type': 'TimeBatchNorm2d', 'normalize_before': True, 'loss_fn': 'smoothl1', 'optimizer': 'AdamW'}\n",
      "\n",
      "Training the model...\n",
      "Train set: 6647 samples\n",
      "Validation set: 1662 samples\n"
     ]
    },
    {
     "name": "stderr",
     "output_type": "stream",
     "text": [
      "GPU available: True (cuda), used: True\n",
      "TPU available: False, using: 0 TPU cores\n",
      "HPU available: False, using: 0 HPUs\n",
      "LOCAL_RANK: 0 - CUDA_VISIBLE_DEVICES: [0]\n",
      "Metric val_loss improved. New best score: 0.032\n",
      "Metric val_loss improved by 0.006 >= min_delta = 0.0005. New best score: 0.026\n",
      "[I 2025-05-27 09:37:39,892] Trial 91 pruned. Trial was pruned at epoch 2.\n",
      "GPU available: True (cuda), used: True\n",
      "TPU available: False, using: 0 TPU cores\n",
      "HPU available: False, using: 0 HPUs\n",
      "LOCAL_RANK: 0 - CUDA_VISIBLE_DEVICES: [0]\n"
     ]
    },
    {
     "name": "stdout",
     "output_type": "stream",
     "text": [
      "Current value: 0.02290279149965831, Current params: {'input_chunk_length': 30, 'output_chunk_length': 2, 'dropout': 0.4840327928214867, 'batch_size': 68, 'lr': 0.0042594690366220414, 'weight_decay': 0.001190629277661627, 'hidden_size': 128, 'ff_size': 175, 'num_blocks': 2, 'activation': 'GELU', 'norm_type': 'TimeBatchNorm2d', 'normalize_before': True, 'loss_fn': 'smoothl1', 'optimizer': 'AdamW'}\n",
      "Best value: 0.07853027585428113, Best params: {'input_chunk_length': 27, 'output_chunk_length': 1, 'dropout': 0.45087323478159125, 'batch_size': 67, 'lr': 0.004216838508548973, 'weight_decay': 0.000358724351349336, 'hidden_size': 128, 'ff_size': 132, 'num_blocks': 1, 'activation': 'ReLU', 'norm_type': 'TimeBatchNorm2d', 'normalize_before': True, 'loss_fn': 'smoothl1', 'optimizer': 'AdamW'}\n",
      "\n",
      "Starting Trial 92\n",
      "Hyperparameters: {'input_chunk_length': 27, 'output_chunk_length': 3, 'dropout': 0.4767414085305475, 'batch_size': 81, 'lr': 0.003945747145065635, 'weight_decay': 0.0005090468639983414, 'hidden_size': 128, 'ff_size': 190, 'num_blocks': 1, 'activation': 'GELU', 'norm_type': 'TimeBatchNorm2d', 'normalize_before': True, 'loss_fn': 'smoothl1', 'optimizer': 'AdamW'}\n",
      "\n",
      "Training the model...\n",
      "Train set: 6647 samples\n",
      "Validation set: 1662 samples\n"
     ]
    },
    {
     "name": "stderr",
     "output_type": "stream",
     "text": [
      "Metric val_loss improved. New best score: 0.027\n",
      "Metric val_loss improved by 0.005 >= min_delta = 0.0005. New best score: 0.022\n",
      "Metric val_loss improved by 0.003 >= min_delta = 0.0005. New best score: 0.019\n",
      "Metric val_loss improved by 0.002 >= min_delta = 0.0005. New best score: 0.017\n",
      "Metric val_loss improved by 0.001 >= min_delta = 0.0005. New best score: 0.016\n",
      "Metric val_loss improved by 0.001 >= min_delta = 0.0005. New best score: 0.015\n",
      "Metric val_loss improved by 0.001 >= min_delta = 0.0005. New best score: 0.015\n",
      "Metric val_loss improved by 0.001 >= min_delta = 0.0005. New best score: 0.014\n",
      "`Trainer.fit` stopped: `max_epochs=30` reached.\n",
      "GPU available: True (cuda), used: True\n",
      "TPU available: False, using: 0 TPU cores\n",
      "HPU available: False, using: 0 HPUs\n",
      "LOCAL_RANK: 0 - CUDA_VISIBLE_DEVICES: [0]\n"
     ]
    },
    {
     "name": "stdout",
     "output_type": "stream",
     "text": [
      "Model loaded from checkpoint for trial 92\n"
     ]
    },
    {
     "name": "stderr",
     "output_type": "stream",
     "text": [
      "/home/eduardo/Documentos/Water-Cycle-Neural-Network/venv/lib/python3.12/site-packages/pytorch_lightning/trainer/connectors/data_connector.py:425: The 'predict_dataloader' does not have many workers which may be a bottleneck. Consider increasing the value of the `num_workers` argument` to `num_workers=11` in the `DataLoader` to improve performance.\n",
      "[I 2025-05-27 09:39:43,263] Trial 92 finished with value: 0.10182373479252937 and parameters: {'input_chunk_length': 27, 'output_chunk_length': 3, 'dropout': 0.4767414085305475, 'batch_size': 81, 'lr': 0.003945747145065635, 'weight_decay': 0.0005090468639983414, 'hidden_size': 128, 'ff_size': 190, 'num_blocks': 1, 'activation': 'GELU', 'norm_type': 'TimeBatchNorm2d', 'normalize_before': True, 'loss_fn': 'smoothl1', 'optimizer': 'AdamW'}. Best is trial 83 with value: 0.07853027585428113.\n"
     ]
    },
    {
     "name": "stdout",
     "output_type": "stream",
     "text": [
      "Starting time series verification for consistency...\n",
      "\n",
      "Performance metrics:\n",
      "                                    MSE        RMSE        MAE        R2  \\\n",
      "Temperature                    3.845779    1.961066   1.559140  0.873690   \n",
      "Precipitation_accumulated     28.011698    5.292608   4.349525 -7.161805   \n",
      "Humidity                      32.473312    5.698536   4.284522  0.778388   \n",
      "Wind_Speed_kmh                 1.112605    1.054801   0.791010  0.175651   \n",
      "Soil_Moisture              13052.145419  114.245986  90.664509  0.771877   \n",
      "Soil_Temperature               2.330812    1.526700   1.240660  0.855403   \n",
      "Wind_Dir_Sin                   0.524955    0.724538   0.625090  0.046425   \n",
      "Wind_Dir_Cos                   0.365185    0.604305   0.502839  0.004057   \n",
      "\n",
      "                                SMAPE  \n",
      "Temperature                 27.299936  \n",
      "Precipitation_accumulated    0.937589  \n",
      "Humidity                     5.039074  \n",
      "Wind_Speed_kmh              74.947057  \n",
      "Soil_Moisture                1.063057  \n",
      "Soil_Temperature            27.778151  \n",
      "Wind_Dir_Sin               133.027755  \n",
      "Wind_Dir_Cos               122.720870  \n",
      "The MAE for this fold was 0.10182373479252937\n",
      "Results of trial 92 saved in optuna_iteration_metrics/trial_92.json\n",
      "Current value: 0.10182373479252937, Current params: {'input_chunk_length': 27, 'output_chunk_length': 3, 'dropout': 0.4767414085305475, 'batch_size': 81, 'lr': 0.003945747145065635, 'weight_decay': 0.0005090468639983414, 'hidden_size': 128, 'ff_size': 190, 'num_blocks': 1, 'activation': 'GELU', 'norm_type': 'TimeBatchNorm2d', 'normalize_before': True, 'loss_fn': 'smoothl1', 'optimizer': 'AdamW'}\n",
      "Best value: 0.07853027585428113, Best params: {'input_chunk_length': 27, 'output_chunk_length': 1, 'dropout': 0.45087323478159125, 'batch_size': 67, 'lr': 0.004216838508548973, 'weight_decay': 0.000358724351349336, 'hidden_size': 128, 'ff_size': 132, 'num_blocks': 1, 'activation': 'ReLU', 'norm_type': 'TimeBatchNorm2d', 'normalize_before': True, 'loss_fn': 'smoothl1', 'optimizer': 'AdamW'}\n",
      "\n",
      "Starting Trial 93\n",
      "Hyperparameters: {'input_chunk_length': 27, 'output_chunk_length': 1, 'dropout': 0.4999234506529301, 'batch_size': 81, 'lr': 0.0026416826240088817, 'weight_decay': 0.0005316723582311191, 'hidden_size': 128, 'ff_size': 200, 'num_blocks': 2, 'activation': 'GELU', 'norm_type': 'TimeBatchNorm2d', 'normalize_before': True, 'loss_fn': 'smoothl1', 'optimizer': 'AdamW'}\n",
      "\n",
      "Training the model...\n",
      "Train set: 6647 samples\n",
      "Validation set: 1662 samples\n"
     ]
    },
    {
     "name": "stderr",
     "output_type": "stream",
     "text": [
      "GPU available: True (cuda), used: True\n",
      "TPU available: False, using: 0 TPU cores\n",
      "HPU available: False, using: 0 HPUs\n",
      "LOCAL_RANK: 0 - CUDA_VISIBLE_DEVICES: [0]\n",
      "Metric val_loss improved. New best score: 0.025\n",
      "Metric val_loss improved by 0.002 >= min_delta = 0.0005. New best score: 0.022\n",
      "Metric val_loss improved by 0.003 >= min_delta = 0.0005. New best score: 0.020\n",
      "Metric val_loss improved by 0.001 >= min_delta = 0.0005. New best score: 0.019\n",
      "Metric val_loss improved by 0.001 >= min_delta = 0.0005. New best score: 0.018\n",
      "Metric val_loss improved by 0.002 >= min_delta = 0.0005. New best score: 0.016\n",
      "Metric val_loss improved by 0.002 >= min_delta = 0.0005. New best score: 0.014\n",
      "Metric val_loss improved by 0.001 >= min_delta = 0.0005. New best score: 0.014\n",
      "Metric val_loss improved by 0.001 >= min_delta = 0.0005. New best score: 0.013\n",
      "Metric val_loss improved by 0.001 >= min_delta = 0.0005. New best score: 0.012\n",
      "`Trainer.fit` stopped: `max_epochs=30` reached.\n",
      "GPU available: True (cuda), used: True\n",
      "TPU available: False, using: 0 TPU cores\n",
      "HPU available: False, using: 0 HPUs\n",
      "LOCAL_RANK: 0 - CUDA_VISIBLE_DEVICES: [0]\n"
     ]
    },
    {
     "name": "stdout",
     "output_type": "stream",
     "text": [
      "Model loaded from checkpoint for trial 93\n"
     ]
    },
    {
     "name": "stderr",
     "output_type": "stream",
     "text": [
      "/home/eduardo/Documentos/Water-Cycle-Neural-Network/venv/lib/python3.12/site-packages/pytorch_lightning/trainer/connectors/data_connector.py:425: The 'predict_dataloader' does not have many workers which may be a bottleneck. Consider increasing the value of the `num_workers` argument` to `num_workers=11` in the `DataLoader` to improve performance.\n",
      "[I 2025-05-27 09:40:18,794] Trial 93 finished with value: 0.08903317250647241 and parameters: {'input_chunk_length': 27, 'output_chunk_length': 1, 'dropout': 0.4999234506529301, 'batch_size': 81, 'lr': 0.0026416826240088817, 'weight_decay': 0.0005316723582311191, 'hidden_size': 128, 'ff_size': 200, 'num_blocks': 2, 'activation': 'GELU', 'norm_type': 'TimeBatchNorm2d', 'normalize_before': True, 'loss_fn': 'smoothl1', 'optimizer': 'AdamW'}. Best is trial 83 with value: 0.07853027585428113.\n"
     ]
    },
    {
     "name": "stdout",
     "output_type": "stream",
     "text": [
      "Starting time series verification for consistency...\n",
      "\n",
      "Performance metrics:\n",
      "                                    MSE        RMSE        MAE         R2  \\\n",
      "Temperature                    2.825305    1.680864   1.419152   0.907312   \n",
      "Precipitation_accumulated    281.715584   16.784385  14.896093 -80.832899   \n",
      "Humidity                      16.821143    4.101359   3.329468   0.885222   \n",
      "Wind_Speed_kmh                 0.614773    0.784074   0.626575   0.545083   \n",
      "Soil_Moisture              14632.668701  120.965568  97.572229   0.745969   \n",
      "Soil_Temperature               2.239703    1.496564   1.257224   0.861290   \n",
      "Wind_Dir_Sin                   0.367536    0.606248   0.492264   0.331917   \n",
      "Wind_Dir_Cos                   0.319025    0.564823   0.454963   0.131527   \n",
      "\n",
      "                                SMAPE  \n",
      "Temperature                 27.934425  \n",
      "Precipitation_accumulated    3.268575  \n",
      "Humidity                     3.810242  \n",
      "Wind_Speed_kmh              60.240748  \n",
      "Soil_Moisture                1.129382  \n",
      "Soil_Temperature            27.081045  \n",
      "Wind_Dir_Sin                99.190324  \n",
      "Wind_Dir_Cos               109.026242  \n",
      "The MAE for this fold was 0.08903317250647241\n",
      "Results of trial 93 saved in optuna_iteration_metrics/trial_93.json\n",
      "Current value: 0.08903317250647241, Current params: {'input_chunk_length': 27, 'output_chunk_length': 1, 'dropout': 0.4999234506529301, 'batch_size': 81, 'lr': 0.0026416826240088817, 'weight_decay': 0.0005316723582311191, 'hidden_size': 128, 'ff_size': 200, 'num_blocks': 2, 'activation': 'GELU', 'norm_type': 'TimeBatchNorm2d', 'normalize_before': True, 'loss_fn': 'smoothl1', 'optimizer': 'AdamW'}\n",
      "Best value: 0.07853027585428113, Best params: {'input_chunk_length': 27, 'output_chunk_length': 1, 'dropout': 0.45087323478159125, 'batch_size': 67, 'lr': 0.004216838508548973, 'weight_decay': 0.000358724351349336, 'hidden_size': 128, 'ff_size': 132, 'num_blocks': 1, 'activation': 'ReLU', 'norm_type': 'TimeBatchNorm2d', 'normalize_before': True, 'loss_fn': 'smoothl1', 'optimizer': 'AdamW'}\n",
      "\n",
      "Starting Trial 94\n",
      "Hyperparameters: {'input_chunk_length': 25, 'output_chunk_length': 1, 'dropout': 0.49299540275606557, 'batch_size': 80, 'lr': 0.004978638439421392, 'weight_decay': 0.0010326055346717503, 'hidden_size': 128, 'ff_size': 223, 'num_blocks': 2, 'activation': 'GELU', 'norm_type': 'TimeBatchNorm2d', 'normalize_before': True, 'loss_fn': 'smoothl1', 'optimizer': 'AdamW'}\n",
      "\n",
      "Training the model...\n",
      "Train set: 6647 samples\n",
      "Validation set: 1662 samples\n"
     ]
    },
    {
     "name": "stderr",
     "output_type": "stream",
     "text": [
      "GPU available: True (cuda), used: True\n",
      "TPU available: False, using: 0 TPU cores\n",
      "HPU available: False, using: 0 HPUs\n",
      "LOCAL_RANK: 0 - CUDA_VISIBLE_DEVICES: [0]\n",
      "Metric val_loss improved. New best score: 0.026\n",
      "Metric val_loss improved by 0.003 >= min_delta = 0.0005. New best score: 0.024\n",
      "Metric val_loss improved by 0.003 >= min_delta = 0.0005. New best score: 0.020\n",
      "Metric val_loss improved by 0.001 >= min_delta = 0.0005. New best score: 0.019\n",
      "[I 2025-05-27 09:40:24,797] Trial 94 pruned. Trial was pruned at epoch 4.\n",
      "GPU available: True (cuda), used: True\n",
      "TPU available: False, using: 0 TPU cores\n",
      "HPU available: False, using: 0 HPUs\n",
      "LOCAL_RANK: 0 - CUDA_VISIBLE_DEVICES: [0]\n"
     ]
    },
    {
     "name": "stdout",
     "output_type": "stream",
     "text": [
      "Current value: 0.01964418509985134, Current params: {'input_chunk_length': 25, 'output_chunk_length': 1, 'dropout': 0.49299540275606557, 'batch_size': 80, 'lr': 0.004978638439421392, 'weight_decay': 0.0010326055346717503, 'hidden_size': 128, 'ff_size': 223, 'num_blocks': 2, 'activation': 'GELU', 'norm_type': 'TimeBatchNorm2d', 'normalize_before': True, 'loss_fn': 'smoothl1', 'optimizer': 'AdamW'}\n",
      "Best value: 0.07853027585428113, Best params: {'input_chunk_length': 27, 'output_chunk_length': 1, 'dropout': 0.45087323478159125, 'batch_size': 67, 'lr': 0.004216838508548973, 'weight_decay': 0.000358724351349336, 'hidden_size': 128, 'ff_size': 132, 'num_blocks': 1, 'activation': 'ReLU', 'norm_type': 'TimeBatchNorm2d', 'normalize_before': True, 'loss_fn': 'smoothl1', 'optimizer': 'AdamW'}\n",
      "\n",
      "Starting Trial 95\n",
      "Hyperparameters: {'input_chunk_length': 27, 'output_chunk_length': 2, 'dropout': 0.474292277444898, 'batch_size': 74, 'lr': 0.002837743466978628, 'weight_decay': 0.0005059426937479169, 'hidden_size': 128, 'ff_size': 186, 'num_blocks': 2, 'activation': 'GELU', 'norm_type': 'TimeBatchNorm2d', 'normalize_before': True, 'loss_fn': 'smoothl1', 'optimizer': 'AdamW'}\n",
      "\n",
      "Training the model...\n",
      "Train set: 6647 samples\n",
      "Validation set: 1662 samples\n"
     ]
    },
    {
     "name": "stderr",
     "output_type": "stream",
     "text": [
      "Metric val_loss improved. New best score: 0.033\n",
      "[I 2025-05-27 09:40:27,708] Trial 95 pruned. Trial was pruned at epoch 1.\n",
      "GPU available: True (cuda), used: True\n",
      "TPU available: False, using: 0 TPU cores\n",
      "HPU available: False, using: 0 HPUs\n",
      "LOCAL_RANK: 0 - CUDA_VISIBLE_DEVICES: [0]\n"
     ]
    },
    {
     "name": "stdout",
     "output_type": "stream",
     "text": [
      "Current value: 0.031796957961971344, Current params: {'input_chunk_length': 27, 'output_chunk_length': 2, 'dropout': 0.474292277444898, 'batch_size': 74, 'lr': 0.002837743466978628, 'weight_decay': 0.0005059426937479169, 'hidden_size': 128, 'ff_size': 186, 'num_blocks': 2, 'activation': 'GELU', 'norm_type': 'TimeBatchNorm2d', 'normalize_before': True, 'loss_fn': 'smoothl1', 'optimizer': 'AdamW'}\n",
      "Best value: 0.07853027585428113, Best params: {'input_chunk_length': 27, 'output_chunk_length': 1, 'dropout': 0.45087323478159125, 'batch_size': 67, 'lr': 0.004216838508548973, 'weight_decay': 0.000358724351349336, 'hidden_size': 128, 'ff_size': 132, 'num_blocks': 1, 'activation': 'ReLU', 'norm_type': 'TimeBatchNorm2d', 'normalize_before': True, 'loss_fn': 'smoothl1', 'optimizer': 'AdamW'}\n",
      "\n",
      "Starting Trial 96\n",
      "Hyperparameters: {'input_chunk_length': 30, 'output_chunk_length': 1, 'dropout': 0.4995583955569816, 'batch_size': 83, 'lr': 0.0025941638835990837, 'weight_decay': 0.0003504290638404204, 'hidden_size': 128, 'ff_size': 205, 'num_blocks': 3, 'activation': 'GELU', 'norm_type': 'TimeBatchNorm2d', 'normalize_before': True, 'loss_fn': 'smoothl1', 'optimizer': 'AdamW'}\n",
      "\n",
      "Training the model...\n",
      "Train set: 6647 samples\n",
      "Validation set: 1662 samples\n"
     ]
    },
    {
     "name": "stderr",
     "output_type": "stream",
     "text": [
      "[I 2025-05-27 09:40:29,452] Trial 96 pruned. Trial was pruned at epoch 0.\n",
      "GPU available: True (cuda), used: True\n",
      "TPU available: False, using: 0 TPU cores\n",
      "HPU available: False, using: 0 HPUs\n",
      "LOCAL_RANK: 0 - CUDA_VISIBLE_DEVICES: [0]\n"
     ]
    },
    {
     "name": "stdout",
     "output_type": "stream",
     "text": [
      "Current value: 0.037128406052418135, Current params: {'input_chunk_length': 30, 'output_chunk_length': 1, 'dropout': 0.4995583955569816, 'batch_size': 83, 'lr': 0.0025941638835990837, 'weight_decay': 0.0003504290638404204, 'hidden_size': 128, 'ff_size': 205, 'num_blocks': 3, 'activation': 'GELU', 'norm_type': 'TimeBatchNorm2d', 'normalize_before': True, 'loss_fn': 'smoothl1', 'optimizer': 'AdamW'}\n",
      "Best value: 0.07853027585428113, Best params: {'input_chunk_length': 27, 'output_chunk_length': 1, 'dropout': 0.45087323478159125, 'batch_size': 67, 'lr': 0.004216838508548973, 'weight_decay': 0.000358724351349336, 'hidden_size': 128, 'ff_size': 132, 'num_blocks': 1, 'activation': 'ReLU', 'norm_type': 'TimeBatchNorm2d', 'normalize_before': True, 'loss_fn': 'smoothl1', 'optimizer': 'AdamW'}\n",
      "\n",
      "Starting Trial 97\n",
      "Hyperparameters: {'input_chunk_length': 32, 'output_chunk_length': 2, 'dropout': 0.4784606331079146, 'batch_size': 82, 'lr': 0.003285156538232187, 'weight_decay': 0.0018932135041158096, 'hidden_size': 128, 'ff_size': 165, 'num_blocks': 2, 'activation': 'GELU', 'norm_type': 'TimeBatchNorm2d', 'normalize_before': True, 'loss_fn': 'smoothl1', 'optimizer': 'AdamW'}\n",
      "\n",
      "Training the model...\n",
      "Train set: 6647 samples\n",
      "Validation set: 1662 samples\n"
     ]
    },
    {
     "name": "stderr",
     "output_type": "stream",
     "text": [
      "Metric val_loss improved. New best score: 0.033\n",
      "[I 2025-05-27 09:40:32,229] Trial 97 pruned. Trial was pruned at epoch 1.\n"
     ]
    },
    {
     "name": "stdout",
     "output_type": "stream",
     "text": [
      "Current value: 0.025987424300693285, Current params: {'input_chunk_length': 32, 'output_chunk_length': 2, 'dropout': 0.4784606331079146, 'batch_size': 82, 'lr': 0.003285156538232187, 'weight_decay': 0.0018932135041158096, 'hidden_size': 128, 'ff_size': 165, 'num_blocks': 2, 'activation': 'GELU', 'norm_type': 'TimeBatchNorm2d', 'normalize_before': True, 'loss_fn': 'smoothl1', 'optimizer': 'AdamW'}\n",
      "Best value: 0.07853027585428113, Best params: {'input_chunk_length': 27, 'output_chunk_length': 1, 'dropout': 0.45087323478159125, 'batch_size': 67, 'lr': 0.004216838508548973, 'weight_decay': 0.000358724351349336, 'hidden_size': 128, 'ff_size': 132, 'num_blocks': 1, 'activation': 'ReLU', 'norm_type': 'TimeBatchNorm2d', 'normalize_before': True, 'loss_fn': 'smoothl1', 'optimizer': 'AdamW'}\n"
     ]
    }
   ],
   "execution_count": 7
  },
  {
   "cell_type": "code",
   "id": "6d067f70903d0a12",
   "metadata": {
    "ExecuteTime": {
     "end_time": "2025-05-27T12:40:32.391688Z",
     "start_time": "2025-05-27T12:40:32.388025Z"
    }
   },
   "source": [
    "print(f\"Best Value (Minimum): {study.best_value}\")\n",
    "print(f\"Best Parameters: {study.best_params}\")"
   ],
   "outputs": [
    {
     "name": "stdout",
     "output_type": "stream",
     "text": [
      "Best Value (Minimum): 0.07853027585428113\n",
      "Best Parameters: {'input_chunk_length': 27, 'output_chunk_length': 1, 'dropout': 0.45087323478159125, 'batch_size': 67, 'lr': 0.004216838508548973, 'weight_decay': 0.000358724351349336, 'hidden_size': 128, 'ff_size': 132, 'num_blocks': 1, 'activation': 'ReLU', 'norm_type': 'TimeBatchNorm2d', 'normalize_before': True, 'loss_fn': 'smoothl1', 'optimizer': 'AdamW'}\n"
     ]
    }
   ],
   "execution_count": 8
  },
  {
   "cell_type": "code",
   "id": "2116824c79bf39cb",
   "metadata": {
    "ExecuteTime": {
     "end_time": "2025-05-27T12:40:32.440994Z",
     "start_time": "2025-05-27T12:40:32.437714Z"
    }
   },
   "source": [
    "best_dict = {\n",
    "    \"best_value\": study.best_value,\n",
    "    \"best_params\": study.best_params,\n",
    "}\n",
    "json_path = os.path.join(results_output_dir, \"best_trial.json\")\n",
    "with open(json_path, 'w') as f:\n",
    "    json.dump(best_dict, f, indent=4)\n",
    "print(f\"Best results saved in {json_path}\")\n"
   ],
   "outputs": [
    {
     "name": "stdout",
     "output_type": "stream",
     "text": [
      "Best results saved in optuna_iteration_metrics/best_trial.json\n"
     ]
    }
   ],
   "execution_count": 9
  }
 ],
 "metadata": {
  "jupytext": {
   "cell_metadata_filter": "-all",
   "main_language": "python",
   "notebook_metadata_filter": "-all"
  },
  "kernelspec": {
   "display_name": "venv",
   "language": "python",
   "name": "python3"
  },
  "language_info": {
   "codemirror_mode": {
    "name": "ipython",
    "version": 3
   },
   "file_extension": ".py",
   "mimetype": "text/x-python",
   "name": "python",
   "nbconvert_exporter": "python",
   "pygments_lexer": "ipython3",
   "version": "3.12.3"
  }
 },
 "nbformat": 4,
 "nbformat_minor": 5
}
