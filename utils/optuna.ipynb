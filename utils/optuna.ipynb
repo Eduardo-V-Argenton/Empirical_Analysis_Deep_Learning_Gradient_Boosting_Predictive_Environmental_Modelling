{
 "cells": [
  {
   "metadata": {
    "ExecuteTime": {
     "end_time": "2025-05-20T01:23:09.108694Z",
     "start_time": "2025-05-20T01:23:09.105567Z"
    }
   },
   "cell_type": "code",
   "source": [
    "import matplotlib.pyplot as plt\n",
    "import numpy as np\n",
    "import pandas as pd\n",
    "from darts import TimeSeries\n",
    "from darts.models import TSMixerModel\n",
    "from darts.metrics import mse, rmse, r2_score, mae, smape\n",
    "from darts.dataprocessing.transformers import Scaler\n",
    "import torch\n",
    "from optuna.integration import PyTorchLightningPruningCallback\n",
    "from pytorch_lightning.callbacks import Callback, EarlyStopping\n",
    "import optuna\n",
    "import os\n",
    "import json\n",
    "\n",
    "# Visualization settings\n",
    "plt.style.use('ggplot')\n",
    "plt.rcParams['figure.figsize'] = (12, 6)  # Set the default figure size\n",
    "torch.set_float32_matmul_precision('medium')  # Set precision for matrix multiplication"
   ],
   "id": "5e8fef79436652ba",
   "outputs": [],
   "execution_count": 10
  },
  {
   "metadata": {
    "ExecuteTime": {
     "end_time": "2025-05-20T01:23:09.171272Z",
     "start_time": "2025-05-20T01:23:09.153618Z"
    }
   },
   "cell_type": "code",
   "source": [
    "# Define target columns for time series forecasting\n",
    "target_columns = [\n",
    "    'Temperature','Precipitation_accumulated','Humidity', 'Wind_Speed_kmh',\n",
    "    'Soil_Moisture', 'Soil_Temperature', 'Wind_Dir_Sin', 'Wind_Dir_Cos'\n",
    "]\n",
    "\n",
    "# Load the cleaned ground station data\n",
    "df = pd.read_csv(\"../data/ground_station_clean.csv\")"
   ],
   "id": "c853f14eebeee07a",
   "outputs": [],
   "execution_count": 11
  },
  {
   "metadata": {
    "ExecuteTime": {
     "end_time": "2025-05-20T01:23:09.202832Z",
     "start_time": "2025-05-20T01:23:09.200760Z"
    }
   },
   "cell_type": "code",
   "source": [
    "# Configure encoders for time features and data transformation\n",
    "encoders = {\n",
    "    \"cyclic\":{  # Cyclic features for time components\n",
    "        \"past\":[\"month\",\"dayofyear\",\"day\",\"hour\",\"minute\"],\n",
    "        \"future\":[\"month\",\"dayofyear\",\"day\",\"hour\",\"minute\"],\n",
    "    },\n",
    "    \"transformer\": Scaler()  # Data scaling transformer\n",
    "}"
   ],
   "id": "ad31539f4f25b5a2",
   "outputs": [],
   "execution_count": 12
  },
  {
   "metadata": {
    "ExecuteTime": {
     "end_time": "2025-05-20T01:23:09.249959Z",
     "start_time": "2025-05-20T01:23:09.247932Z"
    }
   },
   "cell_type": "code",
   "source": [
    "# Custom callback class that combines PyTorch Lightning pruning with a standard callback\n",
    "class PatchedPruningCallback(PyTorchLightningPruningCallback, Callback):\n",
    "    pass\n",
    "\n",
    "# Create a directory to save iteration results\n",
    "results_output_dir = \"optuna_iteration_metrics\"\n",
    "os.makedirs(results_output_dir, exist_ok=True)  # Create if it doesn't exist"
   ],
   "id": "5241bec8b24786f",
   "outputs": [],
   "execution_count": 13
  },
  {
   "metadata": {
    "ExecuteTime": {
     "end_time": "2025-05-20T01:23:09.308795Z",
     "start_time": "2025-05-20T01:23:09.295840Z"
    }
   },
   "cell_type": "code",
   "source": [
    "def objective(trial):\n",
    "    \"\"\"\n",
    "    Objective function for Optuna optimization that trains and evaluates a model with given hyperparameters.\n",
    "    \"\"\"\n",
    "    # Define hyperparameters to be optimized\n",
    "    input_chunk_length = trial.suggest_int(\"input_chunk_length\",1, 72)\n",
    "    hidden_size = trial.suggest_categorical('hidden_size', [32, 64, 128])\n",
    "    ff_size = trial.suggest_int('ff_size', hidden_size, hidden_size * 4) # Pode ser dependente\n",
    "    num_blocks = trial.suggest_int('num_blocks', 1, 4)\n",
    "    dropout = trial.suggest_float('dropout', 0.0, 0.3, step=0.05)\n",
    "    activation = trial.suggest_categorical('activation', ['ReLU', 'GELU'])\n",
    "    norm_type = trial.suggest_categorical('norm_type', ['LayerNormNoBias', 'LayerNorm', 'TimeBatchNorm2d'])\n",
    "    normalize_before = trial.suggest_categorical('normalize_before', [True, False])\n",
    "    batch_size = trial.suggest_int(\"batch_size\", 16, 64)\n",
    "    lr = trial.suggest_float(\"lr\", 1e-5, 1e-2, log=True)\n",
    "\n",
    "    prunner = PatchedPruningCallback(trial, monitor=\"val_loss\")\n",
    "    # Configure early stopping\n",
    "    early_stopper = EarlyStopping(\"val_loss\", min_delta=0.001, patience=10, verbose=True)\n",
    "    pl_trainer_kwargs = {\n",
    "            \"accelerator\": \"auto\",\n",
    "            \"callbacks\": [early_stopper, prunner],\n",
    "    }\n",
    "\n",
    "    # Split data into training and validation sets (80/20)\n",
    "    n = int(len(df)*0.8)\n",
    "    train_df_fold, val_df_fold = df.iloc[:n], df.iloc[n:]\n",
    "\n",
    "    # Convert dataframes to TimeSeries objects\n",
    "    train_fold = TimeSeries.from_dataframe(train_df_fold, time_col=\"Timestamp\", value_cols=target_columns, freq='1h')\n",
    "    val_fold = TimeSeries.from_dataframe(val_df_fold, time_col=\"Timestamp\", value_cols=target_columns, freq='1h')\n",
    "\n",
    "    # Print trial information\n",
    "    print(f\"\\nStarting Trial {trial.number}\")\n",
    "    print(f\"Hyperparameters: {trial.params}\")\n",
    "    print(\"\\nTraining the model...\")\n",
    "    print(f\"Train set: {len(train_fold)} samples\")  # Use len() for TimeSeries objects\n",
    "    print(f\"Validation set: {len(val_fold)} samples\")  # Use len() for TimeSeries objects\n",
    "\n",
    "    # Scale the data using only training data statistics\n",
    "    scaler = Scaler()\n",
    "    scaler = scaler.fit(train_fold)\n",
    "    train_scaled = scaler.transform(train_fold)\n",
    "    val_scaled = scaler.transform(val_fold)\n",
    "\n",
    "    # Define working directory and model name for consistency\n",
    "    _work_dir = \"/home/eduardo/Documentos/Water-Cycle-Neural-Network/darts_logs/\"  # Ensure this path exists and is writable\n",
    "    _model_name = \"model_optuna_temp\"  # Temporary model name for each trial\n",
    "\n",
    "    # Create the working directory if it doesn't exist\n",
    "    os.makedirs(_work_dir, exist_ok=True)\n",
    "\n",
    "    # Configure the RNN model with trial hyperparameters\n",
    "    model = TSMixerModel(\n",
    "        model_name=_model_name,\n",
    "        work_dir=_work_dir,\n",
    "        input_chunk_length=input_chunk_length,\n",
    "        output_chunk_length=1,\n",
    "        hidden_size=hidden_size,\n",
    "        ff_size=ff_size,\n",
    "        n_epochs=30,\n",
    "        batch_size=batch_size,\n",
    "        norm_type=norm_type,\n",
    "        normalize_before=normalize_before,\n",
    "        num_blocks=num_blocks,\n",
    "        activation=activation,\n",
    "        dropout=dropout,\n",
    "        add_encoders=encoders,\n",
    "        pl_trainer_kwargs=pl_trainer_kwargs,\n",
    "        loss_fn=torch.nn.HuberLoss(),\n",
    "        lr_scheduler_cls=torch.optim.lr_scheduler.ReduceLROnPlateau,\n",
    "        lr_scheduler_kwargs={\"mode\":\"min\", \"factor\":0.5, \"patience\":4, \"min_lr\":1e-6},\n",
    "        save_checkpoints=True,\n",
    "        show_warnings=True,\n",
    "        force_reset=True, # Importante para que cada iteração treine do zero com este model_name\n",
    "        optimizer_kwargs={\"lr\": lr, \"weight_decay\": 1e-5},\n",
    "    )\n",
    "    # Train the model\n",
    "    model.fit(\n",
    "        series=train_scaled,\n",
    "        val_series=val_scaled,\n",
    "        dataloader_kwargs={\"num_workers\": 11}\n",
    "    )\n",
    "\n",
    "    # Try to load the best model from checkpoint\n",
    "    try:\n",
    "        loaded_model = TSMixerModel.load_from_checkpoint(model_name=_model_name, work_dir=_work_dir, best=True)\n",
    "        print(f\"Model loaded from checkpoint for trial {trial.number}\")\n",
    "    except FileNotFoundError:\n",
    "        print(f\"Checkpoint not found for {_model_name} in {_work_dir}. Using in-memory trained model.\")\n",
    "        loaded_model = model  # Use the trained model if loading fails (fallback)\n",
    "\n",
    "    # Generate historical forecasts to evaluate model performance\n",
    "    forecasts = loaded_model.historical_forecasts(\n",
    "        train_scaled,  # Use training data\n",
    "        start=0.8,  # Start forecasting at 80% of the training data\n",
    "        forecast_horizon=1,  # Forecast one step ahead\n",
    "        stride=1,  # Generate a forecast at each possible time point\n",
    "        retrain=False,  # Don't retrain the model for each forecast\n",
    "    )\n",
    "\n",
    "    # Inverse transform forecasts and actual values back to an original scale\n",
    "    forecasts_t = scaler.inverse_transform(forecasts)\n",
    "    s = scaler.inverse_transform(train_scaled).split_after(0.8)[1]  # Get the actual values for comparison\n",
    "\n",
    "    # Calculate performance metrics for each target variable\n",
    "    metrics = {}\n",
    "    print(\"Starting time series consistency verification...\")\n",
    "    try:\n",
    "        for target in target_columns:\n",
    "            # Calculate multiple error metrics for comprehensive evaluation\n",
    "            metrics[target] = {\n",
    "                'MSE': mse(s[target], forecasts_t[target]),  # Mean Squared Error\n",
    "                'RMSE': rmse(s[target], forecasts_t[target]),  # Root Mean Squared Error\n",
    "                'MAE': mae(s[target], forecasts_t[target]),  # Mean Absolute Error\n",
    "                'R2': r2_score(s[target], forecasts_t[target]),  # R-squared score\n",
    "                'SMAPE': smape(s[target], forecasts_t[target]),  # Symmetric Mean Absolute Percentage Error\n",
    "            }\n",
    "        # Create a DataFrame for better visualization of metrics\n",
    "        metrics_df = pd.DataFrame(metrics).T\n",
    "        print(\"\\nPerformance metrics:\")\n",
    "        print(metrics_df)\n",
    "    except Exception as e:\n",
    "        print(e)\n",
    "\n",
    "    # Calculate overall SMAPE across all variables (optimization target)\n",
    "    overall_smape_val = smape(s, forecasts_t)\n",
    "    print(f\"The SMAPE for this fold was {overall_smape_val}\")\n",
    "\n",
    "    # Store trial results in a dictionary\n",
    "    trial_dict = {\n",
    "            \"trial_number\": trial.number,\n",
    "            \"input_chunk_length\": input_chunk_length,\n",
    "            \"num_blocks\": num_blocks,\n",
    "            \"hidden_size\": hidden_size,\n",
    "            \"ff_size\": ff_size,\n",
    "            \"norm_type\": norm_type,\n",
    "            \"normalize_before\": normalize_before,\n",
    "            \"activation\": activation,\n",
    "            \"dropout\": dropout,\n",
    "            \"batch_size\": batch_size,\n",
    "            \"lr\": lr,\n",
    "            \"overall_smape_val\": overall_smape_val,\n",
    "            \"metrics\": metrics_df.to_dict(),\n",
    "        }    # Save trial results to a JSON file\n",
    "    json_path = os.path.join(results_output_dir, f\"trial_{trial.number}.json\")\n",
    "    with open(json_path, 'w') as f:\n",
    "        json.dump(trial_dict, f, indent=4)\n",
    "    print(f\"Results for trial {trial.number} saved to {json_path}\")\n",
    "\n",
    "    # Return the optimization metric (SMAPE), or infinity if NaN (to be minimized)\n",
    "    return overall_smape_val if not np.isnan(overall_smape_val) else float(\"inf\")"
   ],
   "id": "87fa7f94b90b1bc6",
   "outputs": [],
   "execution_count": 14
  },
  {
   "metadata": {
    "ExecuteTime": {
     "end_time": "2025-05-20T01:23:09.355136Z",
     "start_time": "2025-05-20T01:23:09.352990Z"
    }
   },
   "cell_type": "code",
   "source": [
    "# Callback function to print trial progress information\n",
    "def print_callback(study, trial):\n",
    "    \"\"\"Print current trial results and best results so far.\"\"\"\n",
    "    print(f\"Current value: {trial.value}, Current params: {trial.params}\")\n",
    "    print(f\"Best value: {study.best_value}, Best params: {study.best_trial.params}\")"
   ],
   "id": "e190bc18e240a1b5",
   "outputs": [],
   "execution_count": 15
  },
  {
   "metadata": {
    "jupyter": {
     "is_executing": true
    },
    "ExecuteTime": {
     "start_time": "2025-05-20T01:23:09.425871Z"
    }
   },
   "cell_type": "code",
   "source": [
    "# Create and run the optimization study\n",
    "study = optuna.create_study(direction=\"minimize\")  # We want to minimize SMAPE\n",
    "study.optimize(objective, n_trials=50, callbacks=[print_callback])"
   ],
   "id": "30fe1feec8393f1c",
   "outputs": [
    {
     "name": "stderr",
     "output_type": "stream",
     "text": [
      "[I 2025-05-19 22:23:09,426] A new study created in memory with name: no-name-082491bf-f3f0-4c77-9301-772a5d252411\n"
     ]
    },
    {
     "name": "stdout",
     "output_type": "stream",
     "text": [
      "\n",
      "Starting Trial 0\n",
      "Hyperparameters: {'input_chunk_length': 22, 'hidden_size': 128, 'ff_size': 506, 'num_blocks': 1, 'dropout': 0.25, 'activation': 'GELU', 'norm_type': 'LayerNorm', 'normalize_before': False, 'batch_size': 45, 'lr': 2.860274958073652e-05}\n",
      "\n",
      "Training the model...\n",
      "Train set: 6647 samples\n",
      "Validation set: 1662 samples\n"
     ]
    },
    {
     "name": "stderr",
     "output_type": "stream",
     "text": [
      "GPU available: True (cuda), used: True\n",
      "TPU available: False, using: 0 TPU cores\n",
      "HPU available: False, using: 0 HPUs\n",
      "LOCAL_RANK: 0 - CUDA_VISIBLE_DEVICES: [0]\n",
      "\n",
      "  | Name                  | Type             | Params | Mode \n",
      "-------------------------------------------------------------------\n",
      "0 | criterion             | HuberLoss        | 0      | train\n",
      "1 | train_criterion       | HuberLoss        | 0      | train\n",
      "2 | val_criterion         | HuberLoss        | 0      | train\n",
      "3 | train_metrics         | MetricCollection | 0      | train\n",
      "4 | val_metrics           | MetricCollection | 0      | train\n",
      "5 | fc_hist               | Linear           | 23     | train\n",
      "6 | feature_mixing_hist   | _FeatureMixing   | 83.5 K | train\n",
      "7 | feature_mixing_future | _FeatureMixing   | 72.1 K | train\n",
      "8 | conditional_mixer     | ModuleList       | 228 K  | train\n",
      "9 | fc_out                | Linear           | 1.0 K  | train\n",
      "-------------------------------------------------------------------\n",
      "385 K     Trainable params\n",
      "0         Non-trainable params\n",
      "385 K     Total params\n",
      "1.541     Total estimated model params size (MB)\n",
      "39        Modules in train mode\n",
      "0         Modules in eval mode\n"
     ]
    },
    {
     "data": {
      "text/plain": [
       "Sanity Checking: |          | 0/? [00:00<?, ?it/s]"
      ],
      "application/vnd.jupyter.widget-view+json": {
       "version_major": 2,
       "version_minor": 0,
       "model_id": "2d73ffa67a05427d93012eabea7aa001"
      }
     },
     "metadata": {},
     "output_type": "display_data"
    },
    {
     "data": {
      "text/plain": [
       "Training: |          | 0/? [00:00<?, ?it/s]"
      ],
      "application/vnd.jupyter.widget-view+json": {
       "version_major": 2,
       "version_minor": 0,
       "model_id": "c78c92517f914ff385dd2477ba4944fa"
      }
     },
     "metadata": {},
     "output_type": "display_data"
    },
    {
     "data": {
      "text/plain": [
       "Validation: |          | 0/? [00:00<?, ?it/s]"
      ],
      "application/vnd.jupyter.widget-view+json": {
       "version_major": 2,
       "version_minor": 0,
       "model_id": "170957e5860e463db97e7fe677485e6a"
      }
     },
     "metadata": {},
     "output_type": "display_data"
    },
    {
     "name": "stderr",
     "output_type": "stream",
     "text": [
      "Metric val_loss improved. New best score: 0.038\n"
     ]
    },
    {
     "data": {
      "text/plain": [
       "Validation: |          | 0/? [00:00<?, ?it/s]"
      ],
      "application/vnd.jupyter.widget-view+json": {
       "version_major": 2,
       "version_minor": 0,
       "model_id": "4da7748fcf454bb4abee85f53d0685e5"
      }
     },
     "metadata": {},
     "output_type": "display_data"
    },
    {
     "name": "stderr",
     "output_type": "stream",
     "text": [
      "Metric val_loss improved by 0.006 >= min_delta = 0.001. New best score: 0.032\n"
     ]
    },
    {
     "data": {
      "text/plain": [
       "Validation: |          | 0/? [00:00<?, ?it/s]"
      ],
      "application/vnd.jupyter.widget-view+json": {
       "version_major": 2,
       "version_minor": 0,
       "model_id": "0c603be1b3df42cb84242c13a4118ef3"
      }
     },
     "metadata": {},
     "output_type": "display_data"
    },
    {
     "name": "stderr",
     "output_type": "stream",
     "text": [
      "Metric val_loss improved by 0.004 >= min_delta = 0.001. New best score: 0.028\n"
     ]
    },
    {
     "data": {
      "text/plain": [
       "Validation: |          | 0/? [00:00<?, ?it/s]"
      ],
      "application/vnd.jupyter.widget-view+json": {
       "version_major": 2,
       "version_minor": 0,
       "model_id": "705423e0aaa047dfbc55d3d79bf0ba2a"
      }
     },
     "metadata": {},
     "output_type": "display_data"
    },
    {
     "name": "stderr",
     "output_type": "stream",
     "text": [
      "Metric val_loss improved by 0.003 >= min_delta = 0.001. New best score: 0.024\n"
     ]
    },
    {
     "data": {
      "text/plain": [
       "Validation: |          | 0/? [00:00<?, ?it/s]"
      ],
      "application/vnd.jupyter.widget-view+json": {
       "version_major": 2,
       "version_minor": 0,
       "model_id": "df3336efc6ed41f58196824e0c251ee1"
      }
     },
     "metadata": {},
     "output_type": "display_data"
    },
    {
     "name": "stderr",
     "output_type": "stream",
     "text": [
      "Metric val_loss improved by 0.002 >= min_delta = 0.001. New best score: 0.023\n"
     ]
    },
    {
     "data": {
      "text/plain": [
       "Validation: |          | 0/? [00:00<?, ?it/s]"
      ],
      "application/vnd.jupyter.widget-view+json": {
       "version_major": 2,
       "version_minor": 0,
       "model_id": "288d56017e164d2f9da647f8b31a39f8"
      }
     },
     "metadata": {},
     "output_type": "display_data"
    },
    {
     "data": {
      "text/plain": [
       "Validation: |          | 0/? [00:00<?, ?it/s]"
      ],
      "application/vnd.jupyter.widget-view+json": {
       "version_major": 2,
       "version_minor": 0,
       "model_id": "2b5ec4342362482191477231b27692d6"
      }
     },
     "metadata": {},
     "output_type": "display_data"
    },
    {
     "data": {
      "text/plain": [
       "Validation: |          | 0/? [00:00<?, ?it/s]"
      ],
      "application/vnd.jupyter.widget-view+json": {
       "version_major": 2,
       "version_minor": 0,
       "model_id": "6dbfc4006a534a44987d97a25619d611"
      }
     },
     "metadata": {},
     "output_type": "display_data"
    },
    {
     "name": "stderr",
     "output_type": "stream",
     "text": [
      "Metric val_loss improved by 0.001 >= min_delta = 0.001. New best score: 0.022\n"
     ]
    },
    {
     "data": {
      "text/plain": [
       "Validation: |          | 0/? [00:00<?, ?it/s]"
      ],
      "application/vnd.jupyter.widget-view+json": {
       "version_major": 2,
       "version_minor": 0,
       "model_id": "b13bbc51f9404927b0be214c5ba5526d"
      }
     },
     "metadata": {},
     "output_type": "display_data"
    },
    {
     "name": "stderr",
     "output_type": "stream",
     "text": [
      "Metric val_loss improved by 0.001 >= min_delta = 0.001. New best score: 0.020\n"
     ]
    },
    {
     "data": {
      "text/plain": [
       "Validation: |          | 0/? [00:00<?, ?it/s]"
      ],
      "application/vnd.jupyter.widget-view+json": {
       "version_major": 2,
       "version_minor": 0,
       "model_id": "c8601bb210ae4c00afa1d4a9e2f5ad4d"
      }
     },
     "metadata": {},
     "output_type": "display_data"
    },
    {
     "data": {
      "text/plain": [
       "Validation: |          | 0/? [00:00<?, ?it/s]"
      ],
      "application/vnd.jupyter.widget-view+json": {
       "version_major": 2,
       "version_minor": 0,
       "model_id": "1a35689e8e994e56a132fe60f0308283"
      }
     },
     "metadata": {},
     "output_type": "display_data"
    },
    {
     "data": {
      "text/plain": [
       "Validation: |          | 0/? [00:00<?, ?it/s]"
      ],
      "application/vnd.jupyter.widget-view+json": {
       "version_major": 2,
       "version_minor": 0,
       "model_id": "fae2400a3be847da8e04c84515b98e07"
      }
     },
     "metadata": {},
     "output_type": "display_data"
    },
    {
     "data": {
      "text/plain": [
       "Validation: |          | 0/? [00:00<?, ?it/s]"
      ],
      "application/vnd.jupyter.widget-view+json": {
       "version_major": 2,
       "version_minor": 0,
       "model_id": "2f1517da0178450e901987eb60dfd55e"
      }
     },
     "metadata": {},
     "output_type": "display_data"
    },
    {
     "data": {
      "text/plain": [
       "Validation: |          | 0/? [00:00<?, ?it/s]"
      ],
      "application/vnd.jupyter.widget-view+json": {
       "version_major": 2,
       "version_minor": 0,
       "model_id": "0bc407b985d24d47b329567ef6c8bcac"
      }
     },
     "metadata": {},
     "output_type": "display_data"
    },
    {
     "data": {
      "text/plain": [
       "Validation: |          | 0/? [00:00<?, ?it/s]"
      ],
      "application/vnd.jupyter.widget-view+json": {
       "version_major": 2,
       "version_minor": 0,
       "model_id": "1fbb1b49c8cc4df7b6fd04237e23520c"
      }
     },
     "metadata": {},
     "output_type": "display_data"
    },
    {
     "data": {
      "text/plain": [
       "Validation: |          | 0/? [00:00<?, ?it/s]"
      ],
      "application/vnd.jupyter.widget-view+json": {
       "version_major": 2,
       "version_minor": 0,
       "model_id": "95fdedec5f3649c08df3b642bf6d3d07"
      }
     },
     "metadata": {},
     "output_type": "display_data"
    },
    {
     "name": "stderr",
     "output_type": "stream",
     "text": [
      "Metric val_loss improved by 0.001 >= min_delta = 0.001. New best score: 0.019\n"
     ]
    },
    {
     "data": {
      "text/plain": [
       "Validation: |          | 0/? [00:00<?, ?it/s]"
      ],
      "application/vnd.jupyter.widget-view+json": {
       "version_major": 2,
       "version_minor": 0,
       "model_id": "968eb73b56014150ac6b9347cf3901cb"
      }
     },
     "metadata": {},
     "output_type": "display_data"
    },
    {
     "data": {
      "text/plain": [
       "Validation: |          | 0/? [00:00<?, ?it/s]"
      ],
      "application/vnd.jupyter.widget-view+json": {
       "version_major": 2,
       "version_minor": 0,
       "model_id": "4964eb02d01f477c85618836fe6434e8"
      }
     },
     "metadata": {},
     "output_type": "display_data"
    },
    {
     "data": {
      "text/plain": [
       "Validation: |          | 0/? [00:00<?, ?it/s]"
      ],
      "application/vnd.jupyter.widget-view+json": {
       "version_major": 2,
       "version_minor": 0,
       "model_id": "0466b1b599bf45f18f68cef1066a77ac"
      }
     },
     "metadata": {},
     "output_type": "display_data"
    },
    {
     "data": {
      "text/plain": [
       "Validation: |          | 0/? [00:00<?, ?it/s]"
      ],
      "application/vnd.jupyter.widget-view+json": {
       "version_major": 2,
       "version_minor": 0,
       "model_id": "6836048ebee84f80a5e368f1de5f3531"
      }
     },
     "metadata": {},
     "output_type": "display_data"
    },
    {
     "data": {
      "text/plain": [
       "Validation: |          | 0/? [00:00<?, ?it/s]"
      ],
      "application/vnd.jupyter.widget-view+json": {
       "version_major": 2,
       "version_minor": 0,
       "model_id": "dd69bbebf3494b6da5975df1dddbe3d5"
      }
     },
     "metadata": {},
     "output_type": "display_data"
    },
    {
     "data": {
      "text/plain": [
       "Validation: |          | 0/? [00:00<?, ?it/s]"
      ],
      "application/vnd.jupyter.widget-view+json": {
       "version_major": 2,
       "version_minor": 0,
       "model_id": "07080a7bfd054de3a5ea681c156619c5"
      }
     },
     "metadata": {},
     "output_type": "display_data"
    },
    {
     "data": {
      "text/plain": [
       "Validation: |          | 0/? [00:00<?, ?it/s]"
      ],
      "application/vnd.jupyter.widget-view+json": {
       "version_major": 2,
       "version_minor": 0,
       "model_id": "a2bc5dca5b8a4678bb56cd0ee3dba54d"
      }
     },
     "metadata": {},
     "output_type": "display_data"
    },
    {
     "data": {
      "text/plain": [
       "Validation: |          | 0/? [00:00<?, ?it/s]"
      ],
      "application/vnd.jupyter.widget-view+json": {
       "version_major": 2,
       "version_minor": 0,
       "model_id": "c59cef099e1f4baa9e38dbab9613a8a8"
      }
     },
     "metadata": {},
     "output_type": "display_data"
    },
    {
     "data": {
      "text/plain": [
       "Validation: |          | 0/? [00:00<?, ?it/s]"
      ],
      "application/vnd.jupyter.widget-view+json": {
       "version_major": 2,
       "version_minor": 0,
       "model_id": "7dff199e91d34761a731200bc6f7eea9"
      }
     },
     "metadata": {},
     "output_type": "display_data"
    },
    {
     "data": {
      "text/plain": [
       "Validation: |          | 0/? [00:00<?, ?it/s]"
      ],
      "application/vnd.jupyter.widget-view+json": {
       "version_major": 2,
       "version_minor": 0,
       "model_id": "37eb319bf8c94564a410d4da7af7bf27"
      }
     },
     "metadata": {},
     "output_type": "display_data"
    },
    {
     "name": "stderr",
     "output_type": "stream",
     "text": [
      "Monitored metric val_loss did not improve in the last 10 records. Best score: 0.019. Signaling Trainer to stop.\n",
      "GPU available: True (cuda), used: True\n",
      "TPU available: False, using: 0 TPU cores\n",
      "HPU available: False, using: 0 HPUs\n",
      "LOCAL_RANK: 0 - CUDA_VISIBLE_DEVICES: [0]\n"
     ]
    },
    {
     "name": "stdout",
     "output_type": "stream",
     "text": [
      "Model loaded from checkpoint for trial 0\n"
     ]
    },
    {
     "name": "stderr",
     "output_type": "stream",
     "text": [
      "/home/eduardo/Documentos/Water-Cycle-Neural-Network/venv/lib/python3.12/site-packages/pytorch_lightning/trainer/connectors/data_connector.py:425: The 'predict_dataloader' does not have many workers which may be a bottleneck. Consider increasing the value of the `num_workers` argument` to `num_workers=11` in the `DataLoader` to improve performance.\n",
      "[I 2025-05-19 22:23:54,009] Trial 0 finished with value: 51.39527030621663 and parameters: {'input_chunk_length': 22, 'hidden_size': 128, 'ff_size': 506, 'num_blocks': 1, 'dropout': 0.25, 'activation': 'GELU', 'norm_type': 'LayerNorm', 'normalize_before': False, 'batch_size': 45, 'lr': 2.860274958073652e-05}. Best is trial 0 with value: 51.39527030621663.\n",
      "GPU available: True (cuda), used: True\n",
      "TPU available: False, using: 0 TPU cores\n",
      "HPU available: False, using: 0 HPUs\n",
      "LOCAL_RANK: 0 - CUDA_VISIBLE_DEVICES: [0]\n",
      "\n",
      "  | Name                  | Type             | Params | Mode \n",
      "-------------------------------------------------------------------\n",
      "0 | criterion             | HuberLoss        | 0      | train\n",
      "1 | train_criterion       | HuberLoss        | 0      | train\n",
      "2 | val_criterion         | HuberLoss        | 0      | train\n",
      "3 | train_metrics         | MetricCollection | 0      | train\n",
      "4 | val_metrics           | MetricCollection | 0      | train\n",
      "5 | fc_hist               | Linear           | 45     | train\n",
      "6 | feature_mixing_hist   | _FeatureMixing   | 65.9 K | train\n",
      "7 | feature_mixing_future | _FeatureMixing   | 56.4 K | train\n",
      "8 | conditional_mixer     | ModuleList       | 185 K  | train\n",
      "9 | fc_out                | Linear           | 1.0 K  | train\n",
      "-------------------------------------------------------------------\n",
      "308 K     Trainable params\n",
      "0         Non-trainable params\n",
      "308 K     Total params\n",
      "1.234     Total estimated model params size (MB)\n",
      "39        Modules in train mode\n",
      "0         Modules in eval mode\n"
     ]
    },
    {
     "name": "stdout",
     "output_type": "stream",
     "text": [
      "Starting time series consistency verification...\n",
      "\n",
      "Performance metrics:\n",
      "                                    MSE        RMSE         MAE         R2  \\\n",
      "Temperature                    1.384115    1.176484    0.887705   0.593427   \n",
      "Precipitation_accumulated     82.614444    9.089249    6.862650 -86.041041   \n",
      "Humidity                      12.809706    3.579065    2.823070   0.803014   \n",
      "Wind_Speed_kmh                 0.167527    0.409301    0.229433   0.507720   \n",
      "Soil_Moisture              84068.380859  289.945479  146.303534   0.886389   \n",
      "Soil_Temperature               1.188450    1.090160    0.814463   0.788238   \n",
      "Wind_Dir_Sin                   0.090504    0.300839    0.193692   0.436531   \n",
      "Wind_Dir_Cos                   0.090954    0.301586    0.172626   0.683189   \n",
      "\n",
      "                                SMAPE  \n",
      "Temperature                 14.846278  \n",
      "Precipitation_accumulated    1.486381  \n",
      "Humidity                     3.347929  \n",
      "Wind_Speed_kmh             168.278765  \n",
      "Soil_Moisture                2.257121  \n",
      "Soil_Temperature            19.873020  \n",
      "Wind_Dir_Sin               157.097287  \n",
      "Wind_Dir_Cos                43.975381  \n",
      "The SMAPE for this fold was 51.39527030621663\n",
      "Results for trial 0 saved to optuna_iteration_metrics/trial_0.json\n",
      "Current value: 51.39527030621663, Current params: {'input_chunk_length': 22, 'hidden_size': 128, 'ff_size': 506, 'num_blocks': 1, 'dropout': 0.25, 'activation': 'GELU', 'norm_type': 'LayerNorm', 'normalize_before': False, 'batch_size': 45, 'lr': 2.860274958073652e-05}\n",
      "Best value: 51.39527030621663, Best params: {'input_chunk_length': 22, 'hidden_size': 128, 'ff_size': 506, 'num_blocks': 1, 'dropout': 0.25, 'activation': 'GELU', 'norm_type': 'LayerNorm', 'normalize_before': False, 'batch_size': 45, 'lr': 2.860274958073652e-05}\n",
      "\n",
      "Starting Trial 1\n",
      "Hyperparameters: {'input_chunk_length': 44, 'hidden_size': 128, 'ff_size': 395, 'num_blocks': 1, 'dropout': 0.0, 'activation': 'GELU', 'norm_type': 'TimeBatchNorm2d', 'normalize_before': False, 'batch_size': 39, 'lr': 0.00039763824041444645}\n",
      "\n",
      "Training the model...\n",
      "Train set: 6647 samples\n",
      "Validation set: 1662 samples\n"
     ]
    },
    {
     "data": {
      "text/plain": [
       "Sanity Checking: |          | 0/? [00:00<?, ?it/s]"
      ],
      "application/vnd.jupyter.widget-view+json": {
       "version_major": 2,
       "version_minor": 0,
       "model_id": "8d86ff401af94b408124347babf01845"
      }
     },
     "metadata": {},
     "output_type": "display_data"
    },
    {
     "data": {
      "text/plain": [
       "Training: |          | 0/? [00:00<?, ?it/s]"
      ],
      "application/vnd.jupyter.widget-view+json": {
       "version_major": 2,
       "version_minor": 0,
       "model_id": "5737fe32e7514560a5d337a64f43e8cd"
      }
     },
     "metadata": {},
     "output_type": "display_data"
    },
    {
     "data": {
      "text/plain": [
       "Validation: |          | 0/? [00:00<?, ?it/s]"
      ],
      "application/vnd.jupyter.widget-view+json": {
       "version_major": 2,
       "version_minor": 0,
       "model_id": "b69d536918dd47ef815cfc74cf671084"
      }
     },
     "metadata": {},
     "output_type": "display_data"
    },
    {
     "name": "stderr",
     "output_type": "stream",
     "text": [
      "Metric val_loss improved. New best score: 0.023\n"
     ]
    }
   ],
   "execution_count": null
  },
  {
   "metadata": {
    "ExecuteTime": {
     "end_time": "2025-05-20T01:23:09.000283Z",
     "start_time": "2025-05-20T01:23:08.997771Z"
    }
   },
   "cell_type": "code",
   "source": [
    "# Print the best results from the optimization\n",
    "print(f\"Best Value (Minimum): {study.best_value}\")\n",
    "print(f\"Best Parameters: {study.best_params}\")"
   ],
   "id": "2ce51ec310c052dc",
   "outputs": [
    {
     "name": "stdout",
     "output_type": "stream",
     "text": [
      "Best Value (Minimum): 43.56352294806756\n",
      "Best Parameters: {'input_chunk_length': 61, 'hidden_size': 128, 'ff_size': 153, 'num_blocks': 3, 'dropout': 0.15000000000000002, 'activation': 'GELU', 'norm_type': 'TimeBatchNorm2d', 'normalize_before': False, 'batch_size': 22, 'lr': 0.0004332871234178122}\n"
     ]
    }
   ],
   "execution_count": 8
  },
  {
   "metadata": {
    "ExecuteTime": {
     "end_time": "2025-05-20T01:23:09.055778Z",
     "start_time": "2025-05-20T01:23:09.052927Z"
    }
   },
   "cell_type": "code",
   "source": [
    "# Save the best trial results to a separate file\n",
    "best_dict = {\n",
    "    \"best_value\": study.best_value,\n",
    "    \"best_params\": study.best_params,\n",
    "}\n",
    "json_path = os.path.join(results_output_dir, \"best_trial.json\")\n",
    "with open(json_path, 'w') as f:\n",
    "    json.dump(best_dict, f, indent=4)\n",
    "print(f\"Best results saved to {json_path}\")\n"
   ],
   "id": "4dafb05a6dcd472",
   "outputs": [
    {
     "name": "stdout",
     "output_type": "stream",
     "text": [
      "Best results saved to optuna_iteration_metrics/best_trial.json\n"
     ]
    }
   ],
   "execution_count": 9
  }
 ],
 "metadata": {
  "jupytext": {
   "cell_metadata_filter": "-all",
   "main_language": "python",
   "notebook_metadata_filter": "-all"
  },
  "kernelspec": {
   "display_name": "Python (TORCH)",
   "language": "python",
   "name": "torch"
  },
  "language_info": {
   "codemirror_mode": {
    "name": "ipython",
    "version": 3
   },
   "file_extension": ".py",
   "mimetype": "text/x-python",
   "name": "python",
   "nbconvert_exporter": "python",
   "pygments_lexer": "ipython3",
   "version": "3.12.3"
  }
 },
 "nbformat": 4,
 "nbformat_minor": 5
}
