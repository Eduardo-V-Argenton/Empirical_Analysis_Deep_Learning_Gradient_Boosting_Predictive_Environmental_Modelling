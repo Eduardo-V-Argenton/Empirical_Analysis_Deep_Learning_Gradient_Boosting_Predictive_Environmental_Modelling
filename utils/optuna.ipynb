{
 "cells": [
  {
   "cell_type": "code",
   "id": "5e8fef79436652ba",
   "metadata": {
    "ExecuteTime": {
     "end_time": "2025-05-19T17:30:39.769456Z",
     "start_time": "2025-05-19T17:30:36.172953Z"
    }
   },
   "source": [
    "import matplotlib.pyplot as plt\n",
    "import numpy as np\n",
    "import pandas as pd\n",
    "from darts import TimeSeries\n",
    "from darts.models import TransformerModel\n",
    "from darts.metrics import mse, rmse, r2_score, mae, smape\n",
    "from darts.dataprocessing.transformers import Scaler\n",
    "import torch\n",
    "from optuna.integration import PyTorchLightningPruningCallback\n",
    "from pytorch_lightning.callbacks import Callback, EarlyStopping\n",
    "import optuna\n",
    "import os\n",
    "import json\n",
    "\n",
    "# Visualization settings\n",
    "plt.style.use('ggplot')\n",
    "plt.rcParams['figure.figsize'] = (12, 6)  # Set the default figure size\n",
    "torch.set_float32_matmul_precision('medium')  # Set precision for matrix multiplication"
   ],
   "outputs": [],
   "execution_count": 1
  },
  {
   "cell_type": "code",
   "id": "c853f14eebeee07a",
   "metadata": {
    "ExecuteTime": {
     "end_time": "2025-05-19T17:30:39.828059Z",
     "start_time": "2025-05-19T17:30:39.816228Z"
    }
   },
   "source": [
    "# Define target columns for time series forecasting\n",
    "target_columns = [\n",
    "    'Temperature','Precipitation_accumulated','Humidity', 'Wind_Speed_kmh',\n",
    "    'Soil_Moisture', 'Soil_Temperature', 'Wind_Dir_Sin', 'Wind_Dir_Cos'\n",
    "]\n",
    "\n",
    "# Load the cleaned ground station data\n",
    "df = pd.read_csv(\"../data/ground_station_clean.csv\")"
   ],
   "outputs": [],
   "execution_count": 2
  },
  {
   "cell_type": "code",
   "id": "ad31539f4f25b5a2",
   "metadata": {
    "ExecuteTime": {
     "end_time": "2025-05-19T17:30:39.869060Z",
     "start_time": "2025-05-19T17:30:39.867020Z"
    }
   },
   "source": [
    "# Configure encoders for time features and data transformation\n",
    "encoders = {\n",
    "    \"cyclic\":{  # Cyclic features for time components\n",
    "        \"past\":[\"month\",\"dayofyear\",\"day\",\"hour\",\"minute\"],\n",
    "        \"future\":[\"month\",\"dayofyear\",\"day\",\"hour\",\"minute\"],\n",
    "    },\n",
    "    \"transformer\": Scaler()  # Data scaling transformer\n",
    "}"
   ],
   "outputs": [],
   "execution_count": 3
  },
  {
   "cell_type": "code",
   "id": "5241bec8b24786f",
   "metadata": {
    "ExecuteTime": {
     "end_time": "2025-05-19T17:30:39.933532Z",
     "start_time": "2025-05-19T17:30:39.931119Z"
    }
   },
   "source": [
    "# Custom callback class that combines PyTorch Lightning pruning with a standard callback\n",
    "class PatchedPruningCallback(PyTorchLightningPruningCallback, Callback):\n",
    "    pass\n",
    "\n",
    "# Create a directory to save iteration results\n",
    "results_output_dir = \"optuna_iteration_metrics\"\n",
    "os.makedirs(results_output_dir, exist_ok=True)  # Create if it doesn't exist"
   ],
   "outputs": [],
   "execution_count": 4
  },
  {
   "cell_type": "code",
   "id": "87fa7f94b90b1bc6",
   "metadata": {
    "ExecuteTime": {
     "end_time": "2025-05-19T17:30:39.989023Z",
     "start_time": "2025-05-19T17:30:39.981001Z"
    }
   },
   "source": [
    "def objective(trial):\n",
    "    \"\"\"\n",
    "    Objective function for Optuna optimization that trains and evaluates a model with given hyperparameters.\n",
    "    \"\"\"\n",
    "    # Define hyperparameters to be optimized\n",
    "    input_chunk_length = trial.suggest_int(\"input_chunk_length\",12,72)\n",
    "    d_model = trial.suggest_categorical('d_model', [64, 128, 256])\n",
    "    num_encoder_layers = trial.suggest_int('num_encoder_layers', 1, 4)\n",
    "    num_decoder_layers = trial.suggest_int('num_decoder_layers', 1, 4)\n",
    "    activation = trial.suggest_categorical('activation', [\"GLU\", \"Bilinear\", \"ReGLU\", \"GEGLU\", \"SwiGLU\", \"ReLU\", \"GELU\"])\n",
    "    dropout = trial.suggest_float('dropout', 0.0, 0.3)\n",
    "    batch_size = trial.suggest_int(\"batch_size\", 16, 64)\n",
    "    lr = trial.suggest_float(\"lr\", 1e-5, 1e-2, log=True)\n",
    "    prunner = PatchedPruningCallback(trial, monitor=\"val_loss\")\n",
    "    # Configure early stopping\n",
    "    early_stopper = EarlyStopping(\"val_loss\", min_delta=0.001, patience=10, verbose=True)\n",
    "    pl_trainer_kwargs = {\n",
    "            \"accelerator\": \"auto\",\n",
    "            \"callbacks\": [early_stopper,prunner],\n",
    "    }\n",
    "\n",
    "    # Split data into training and validation sets (80/20)\n",
    "    n = int(len(df)*0.8)\n",
    "    train_df_fold, val_df_fold = df.iloc[:n], df.iloc[n:]\n",
    "\n",
    "    # Convert dataframes to TimeSeries objects\n",
    "    train_fold = TimeSeries.from_dataframe(train_df_fold, time_col=\"Timestamp\", value_cols=target_columns, freq='1h')\n",
    "    val_fold = TimeSeries.from_dataframe(val_df_fold, time_col=\"Timestamp\", value_cols=target_columns, freq='1h')\n",
    "\n",
    "    # Print trial information\n",
    "    print(f\"\\nStarting Trial {trial.number}\")\n",
    "    print(f\"Hyperparameters: {trial.params}\")\n",
    "    print(\"\\nTraining the model...\")\n",
    "    print(f\"Train set: {len(train_fold)} samples\")  # Use len() for TimeSeries objects\n",
    "    print(f\"Validation set: {len(val_fold)} samples\")  # Use len() for TimeSeries objects\n",
    "\n",
    "    # Scale the data using only training data statistics\n",
    "    scaler = Scaler()\n",
    "    scaler = scaler.fit(train_fold)\n",
    "    train_scaled = scaler.transform(train_fold)\n",
    "    val_scaled = scaler.transform(val_fold)\n",
    "\n",
    "    # Define working directory and model name for consistency\n",
    "    _work_dir = \"/home/eduardo/Documentos/Water-Cycle-Neural-Network/darts_logs/\"  # Ensure this path exists and is writable\n",
    "    _model_name = \"model_optuna_temp\"  # Temporary model name for each trial\n",
    "\n",
    "    # Create the working directory if it doesn't exist\n",
    "    os.makedirs(_work_dir, exist_ok=True)\n",
    "\n",
    "    # Configure the RNN model with trial hyperparameters\n",
    "    model = TransformerModel(\n",
    "        model_name=_model_name,\n",
    "        work_dir=_work_dir,\n",
    "        input_chunk_length=input_chunk_length,\n",
    "        output_chunk_length=1,\n",
    "        n_epochs=30,\n",
    "        batch_size=batch_size,\n",
    "        d_model=d_model,\n",
    "        num_encoder_layers=num_encoder_layers,\n",
    "        num_decoder_layers=num_decoder_layers,\n",
    "        activation=activation,\n",
    "        dropout=dropout,\n",
    "        add_encoders=encoders,\n",
    "        pl_trainer_kwargs=pl_trainer_kwargs,\n",
    "        loss_fn=torch.nn.HuberLoss(),\n",
    "        lr_scheduler_cls=torch.optim.lr_scheduler.ReduceLROnPlateau,\n",
    "        lr_scheduler_kwargs={\"mode\":\"min\", \"factor\":0.5, \"patience\":4, \"min_lr\":1e-6},\n",
    "        save_checkpoints=True,\n",
    "        show_warnings=True,\n",
    "        force_reset=True, # Importante para que cada iteração treine do zero com este model_name\n",
    "        optimizer_kwargs={\"lr\": lr, \"weight_decay\": 1e-5},\n",
    "    )\n",
    "    # Train the model\n",
    "    model.fit(\n",
    "        series=train_scaled,\n",
    "        val_series=val_scaled,\n",
    "        dataloader_kwargs={\"num_workers\": 11}\n",
    "    )\n",
    "\n",
    "    # Try to load the best model from checkpoint\n",
    "    try:\n",
    "        loaded_model = TransformerModel.load_from_checkpoint(model_name=_model_name, work_dir=_work_dir, best=True)\n",
    "        print(f\"Model loaded from checkpoint for trial {trial.number}\")\n",
    "    except FileNotFoundError:\n",
    "        print(f\"Checkpoint not found for {_model_name} in {_work_dir}. Using in-memory trained model.\")\n",
    "        loaded_model = model  # Use the trained model if loading fails (fallback)\n",
    "\n",
    "    # Generate historical forecasts to evaluate model performance\n",
    "    forecasts = loaded_model.historical_forecasts(\n",
    "        train_scaled,  # Use training data\n",
    "        start=0.8,  # Start forecasting at 80% of the training data\n",
    "        forecast_horizon=1,  # Forecast one step ahead\n",
    "        stride=1,  # Generate a forecast at each possible time point\n",
    "        retrain=False,  # Don't retrain the model for each forecast\n",
    "    )\n",
    "\n",
    "    # Inverse transform forecasts and actual values back to an original scale\n",
    "    forecasts_t = scaler.inverse_transform(forecasts)\n",
    "    s = scaler.inverse_transform(train_scaled).split_after(0.8)[1]  # Get the actual values for comparison\n",
    "\n",
    "    # Calculate performance metrics for each target variable\n",
    "    metrics = {}\n",
    "    print(\"Starting time series consistency verification...\")\n",
    "    try:\n",
    "        for target in target_columns:\n",
    "            # Calculate multiple error metrics for comprehensive evaluation\n",
    "            metrics[target] = {\n",
    "                'MSE': mse(s[target], forecasts_t[target]),  # Mean Squared Error\n",
    "                'RMSE': rmse(s[target], forecasts_t[target]),  # Root Mean Squared Error\n",
    "                'MAE': mae(s[target], forecasts_t[target]),  # Mean Absolute Error\n",
    "                'R2': r2_score(s[target], forecasts_t[target]),  # R-squared score\n",
    "                'SMAPE': smape(s[target], forecasts_t[target]),  # Symmetric Mean Absolute Percentage Error\n",
    "            }\n",
    "        # Create a DataFrame for better visualization of metrics\n",
    "        metrics_df = pd.DataFrame(metrics).T\n",
    "        print(\"\\nPerformance metrics:\")\n",
    "        print(metrics_df)\n",
    "    except Exception as e:\n",
    "        print(e)\n",
    "\n",
    "    # Calculate overall SMAPE across all variables (optimization target)\n",
    "    overall_smape_val = smape(s, forecasts_t)\n",
    "    print(f\"The SMAPE for this fold was {overall_smape_val}\")\n",
    "\n",
    "    # Store trial results in a dictionary\n",
    "    trial_dict = {\n",
    "        \"trial_number\": trial.number,\n",
    "        \"input_chunk_length\": input_chunk_length,\n",
    "        \"d_model\": d_model,\n",
    "        \"num_encoder_layers\": num_encoder_layers,\n",
    "        \"num_decoder_layers\": num_decoder_layers,\n",
    "        \"activation\": activation,\n",
    "        \"dropout\": dropout,\n",
    "        \"batch_size\": batch_size,\n",
    "        \"lr\": lr,\n",
    "        \"overall_smape_val\": overall_smape_val,\n",
    "        \"metrics\": metrics_df.to_dict(),\n",
    "    }\n",
    "\n",
    "    # Save trial results to a JSON file\n",
    "    json_path = os.path.join(results_output_dir, f\"trial_{trial.number}.json\")\n",
    "    with open(json_path, 'w') as f:\n",
    "        json.dump(trial_dict, f, indent=4)\n",
    "    print(f\"Results for trial {trial.number} saved to {json_path}\")\n",
    "\n",
    "    # Return the optimization metric (SMAPE), or infinity if NaN (to be minimized)\n",
    "    return overall_smape_val if not np.isnan(overall_smape_val) else float(\"inf\")"
   ],
   "outputs": [],
   "execution_count": 5
  },
  {
   "cell_type": "code",
   "id": "e190bc18e240a1b5",
   "metadata": {
    "ExecuteTime": {
     "end_time": "2025-05-19T17:30:40.033049Z",
     "start_time": "2025-05-19T17:30:40.031154Z"
    }
   },
   "source": [
    "# Callback function to print trial progress information\n",
    "def print_callback(study, trial):\n",
    "    \"\"\"Print current trial results and best results so far.\"\"\"\n",
    "    print(f\"Current value: {trial.value}, Current params: {trial.params}\")\n",
    "    print(f\"Best value: {study.best_value}, Best params: {study.best_trial.params}\")"
   ],
   "outputs": [],
   "execution_count": 6
  },
  {
   "cell_type": "code",
   "id": "30fe1feec8393f1c",
   "metadata": {
    "ExecuteTime": {
     "end_time": "2025-05-19T18:38:04.757585Z",
     "start_time": "2025-05-19T17:30:40.080452Z"
    }
   },
   "source": [
    "# Create and run the optimization study\n",
    "study = optuna.create_study(direction=\"minimize\")  # We want to minimize SMAPE\n",
    "study.optimize(objective, n_trials=50, callbacks=[print_callback])"
   ],
   "outputs": [
    {
     "name": "stderr",
     "output_type": "stream",
     "text": [
      "[I 2025-05-19 14:30:40,081] A new study created in memory with name: no-name-7d204d19-c613-4630-914b-955f33baf993\n"
     ]
    },
    {
     "name": "stdout",
     "output_type": "stream",
     "text": [
      "\n",
      "Starting Trial 0\n",
      "Hyperparameters: {'input_chunk_length': 55, 'd_model': 128, 'num_encoder_layers': 1, 'num_decoder_layers': 4, 'activation': 'ReLU', 'dropout': 0.15894644208184508, 'batch_size': 26, 'lr': 0.0022706930878686033}\n",
      "\n",
      "Training the model...\n",
      "Train set: 6647 samples\n",
      "Validation set: 1662 samples\n"
     ]
    },
    {
     "name": "stderr",
     "output_type": "stream",
     "text": [
      "Specified future encoders in `add_encoders` at model creation but model does not accept future covariates. future encoders will be ignored.\n",
      "/home/eduardo/Documentos/Water-Cycle-Neural-Network/venv/lib/python3.12/site-packages/torch/nn/modules/transformer.py:382: UserWarning: enable_nested_tensor is True, but self.use_nested_tensor is False because encoder_layer.self_attn.batch_first was not True(use batch_first for better inference performance)\n",
      "  warnings.warn(\n",
      "GPU available: True (cuda), used: True\n",
      "TPU available: False, using: 0 TPU cores\n",
      "HPU available: False, using: 0 HPUs\n",
      "LOCAL_RANK: 0 - CUDA_VISIBLE_DEVICES: [0]\n",
      "\n",
      "  | Name                | Type                | Params | Mode \n",
      "--------------------------------------------------------------------\n",
      "0 | criterion           | HuberLoss           | 0      | train\n",
      "1 | train_criterion     | HuberLoss           | 0      | train\n",
      "2 | val_criterion       | HuberLoss           | 0      | train\n",
      "3 | train_metrics       | MetricCollection    | 0      | train\n",
      "4 | val_metrics         | MetricCollection    | 0      | train\n",
      "5 | encoder             | Linear              | 2.4 K  | train\n",
      "6 | positional_encoding | _PositionalEncoding | 0      | train\n",
      "7 | transformer         | Transformer         | 1.9 M  | train\n",
      "8 | decoder             | Linear              | 1.0 K  | train\n",
      "--------------------------------------------------------------------\n",
      "1.9 M     Trainable params\n",
      "0         Non-trainable params\n",
      "1.9 M     Total params\n",
      "7.676     Total estimated model params size (MB)\n",
      "112       Modules in train mode\n",
      "0         Modules in eval mode\n"
     ]
    },
    {
     "data": {
      "text/plain": [
       "Sanity Checking: |          | 0/? [00:00<?, ?it/s]"
      ],
      "application/vnd.jupyter.widget-view+json": {
       "version_major": 2,
       "version_minor": 0,
       "model_id": "cec856e39c4a40499e25188eca7f4407"
      }
     },
     "metadata": {},
     "output_type": "display_data"
    },
    {
     "data": {
      "text/plain": [
       "Training: |          | 0/? [00:00<?, ?it/s]"
      ],
      "application/vnd.jupyter.widget-view+json": {
       "version_major": 2,
       "version_minor": 0,
       "model_id": "e16fcc98bb964099ae48aac00c42a467"
      }
     },
     "metadata": {},
     "output_type": "display_data"
    },
    {
     "data": {
      "text/plain": [
       "Validation: |          | 0/? [00:00<?, ?it/s]"
      ],
      "application/vnd.jupyter.widget-view+json": {
       "version_major": 2,
       "version_minor": 0,
       "model_id": "43bdfc77a3f04f4a91a2d57e9cfb0310"
      }
     },
     "metadata": {},
     "output_type": "display_data"
    },
    {
     "name": "stderr",
     "output_type": "stream",
     "text": [
      "Metric val_loss improved. New best score: 0.027\n"
     ]
    },
    {
     "data": {
      "text/plain": [
       "Validation: |          | 0/? [00:00<?, ?it/s]"
      ],
      "application/vnd.jupyter.widget-view+json": {
       "version_major": 2,
       "version_minor": 0,
       "model_id": "d278361191134a528f8ea6a1f18ef174"
      }
     },
     "metadata": {},
     "output_type": "display_data"
    },
    {
     "name": "stderr",
     "output_type": "stream",
     "text": [
      "Metric val_loss improved by 0.005 >= min_delta = 0.001. New best score: 0.022\n"
     ]
    },
    {
     "data": {
      "text/plain": [
       "Validation: |          | 0/? [00:00<?, ?it/s]"
      ],
      "application/vnd.jupyter.widget-view+json": {
       "version_major": 2,
       "version_minor": 0,
       "model_id": "ace15e6530e44abbae13e98961cd61f6"
      }
     },
     "metadata": {},
     "output_type": "display_data"
    },
    {
     "data": {
      "text/plain": [
       "Validation: |          | 0/? [00:00<?, ?it/s]"
      ],
      "application/vnd.jupyter.widget-view+json": {
       "version_major": 2,
       "version_minor": 0,
       "model_id": "d4794bb36b7b427c82bd3d8999558c23"
      }
     },
     "metadata": {},
     "output_type": "display_data"
    },
    {
     "name": "stderr",
     "output_type": "stream",
     "text": [
      "Metric val_loss improved by 0.003 >= min_delta = 0.001. New best score: 0.019\n"
     ]
    },
    {
     "data": {
      "text/plain": [
       "Validation: |          | 0/? [00:00<?, ?it/s]"
      ],
      "application/vnd.jupyter.widget-view+json": {
       "version_major": 2,
       "version_minor": 0,
       "model_id": "95f8f28e6df4446dbae049b587875ef4"
      }
     },
     "metadata": {},
     "output_type": "display_data"
    },
    {
     "name": "stderr",
     "output_type": "stream",
     "text": [
      "Metric val_loss improved by 0.005 >= min_delta = 0.001. New best score: 0.014\n"
     ]
    },
    {
     "data": {
      "text/plain": [
       "Validation: |          | 0/? [00:00<?, ?it/s]"
      ],
      "application/vnd.jupyter.widget-view+json": {
       "version_major": 2,
       "version_minor": 0,
       "model_id": "8450a88565a74cf984de949cdb061772"
      }
     },
     "metadata": {},
     "output_type": "display_data"
    },
    {
     "data": {
      "text/plain": [
       "Validation: |          | 0/? [00:00<?, ?it/s]"
      ],
      "application/vnd.jupyter.widget-view+json": {
       "version_major": 2,
       "version_minor": 0,
       "model_id": "1dd0d72e311e434eb6dccfc0b36b667e"
      }
     },
     "metadata": {},
     "output_type": "display_data"
    },
    {
     "data": {
      "text/plain": [
       "Validation: |          | 0/? [00:00<?, ?it/s]"
      ],
      "application/vnd.jupyter.widget-view+json": {
       "version_major": 2,
       "version_minor": 0,
       "model_id": "b4134524114a43e288dafde1f066e42a"
      }
     },
     "metadata": {},
     "output_type": "display_data"
    },
    {
     "data": {
      "text/plain": [
       "Validation: |          | 0/? [00:00<?, ?it/s]"
      ],
      "application/vnd.jupyter.widget-view+json": {
       "version_major": 2,
       "version_minor": 0,
       "model_id": "29f051bcf208475a81ccf39ea3c15b31"
      }
     },
     "metadata": {},
     "output_type": "display_data"
    },
    {
     "data": {
      "text/plain": [
       "Validation: |          | 0/? [00:00<?, ?it/s]"
      ],
      "application/vnd.jupyter.widget-view+json": {
       "version_major": 2,
       "version_minor": 0,
       "model_id": "e409bd882de24c90b899864e7e5a4146"
      }
     },
     "metadata": {},
     "output_type": "display_data"
    },
    {
     "data": {
      "text/plain": [
       "Validation: |          | 0/? [00:00<?, ?it/s]"
      ],
      "application/vnd.jupyter.widget-view+json": {
       "version_major": 2,
       "version_minor": 0,
       "model_id": "1a376ef9832d4382a37b320940583546"
      }
     },
     "metadata": {},
     "output_type": "display_data"
    },
    {
     "data": {
      "text/plain": [
       "Validation: |          | 0/? [00:00<?, ?it/s]"
      ],
      "application/vnd.jupyter.widget-view+json": {
       "version_major": 2,
       "version_minor": 0,
       "model_id": "484d56ec85814f978e4305a267941761"
      }
     },
     "metadata": {},
     "output_type": "display_data"
    },
    {
     "data": {
      "text/plain": [
       "Validation: |          | 0/? [00:00<?, ?it/s]"
      ],
      "application/vnd.jupyter.widget-view+json": {
       "version_major": 2,
       "version_minor": 0,
       "model_id": "41fff14e8b7f4a83999958db443e82ca"
      }
     },
     "metadata": {},
     "output_type": "display_data"
    },
    {
     "data": {
      "text/plain": [
       "Validation: |          | 0/? [00:00<?, ?it/s]"
      ],
      "application/vnd.jupyter.widget-view+json": {
       "version_major": 2,
       "version_minor": 0,
       "model_id": "accfc3a34c614ac08fe35a9e2db1b5b8"
      }
     },
     "metadata": {},
     "output_type": "display_data"
    },
    {
     "name": "stderr",
     "output_type": "stream",
     "text": [
      "Metric val_loss improved by 0.001 >= min_delta = 0.001. New best score: 0.013\n"
     ]
    },
    {
     "data": {
      "text/plain": [
       "Validation: |          | 0/? [00:00<?, ?it/s]"
      ],
      "application/vnd.jupyter.widget-view+json": {
       "version_major": 2,
       "version_minor": 0,
       "model_id": "7683e2e5fe9f4faab32622c56fc85c28"
      }
     },
     "metadata": {},
     "output_type": "display_data"
    },
    {
     "data": {
      "text/plain": [
       "Validation: |          | 0/? [00:00<?, ?it/s]"
      ],
      "application/vnd.jupyter.widget-view+json": {
       "version_major": 2,
       "version_minor": 0,
       "model_id": "8f246ac6a80949c5a5c0b0d9e1181e3b"
      }
     },
     "metadata": {},
     "output_type": "display_data"
    },
    {
     "data": {
      "text/plain": [
       "Validation: |          | 0/? [00:00<?, ?it/s]"
      ],
      "application/vnd.jupyter.widget-view+json": {
       "version_major": 2,
       "version_minor": 0,
       "model_id": "19d02c9512b44a948267e69af7bc6326"
      }
     },
     "metadata": {},
     "output_type": "display_data"
    },
    {
     "data": {
      "text/plain": [
       "Validation: |          | 0/? [00:00<?, ?it/s]"
      ],
      "application/vnd.jupyter.widget-view+json": {
       "version_major": 2,
       "version_minor": 0,
       "model_id": "2859b2f62e164d658345b466b0a91e08"
      }
     },
     "metadata": {},
     "output_type": "display_data"
    },
    {
     "data": {
      "text/plain": [
       "Validation: |          | 0/? [00:00<?, ?it/s]"
      ],
      "application/vnd.jupyter.widget-view+json": {
       "version_major": 2,
       "version_minor": 0,
       "model_id": "cc815fad7cde4096b33ab057f210344c"
      }
     },
     "metadata": {},
     "output_type": "display_data"
    },
    {
     "data": {
      "text/plain": [
       "Validation: |          | 0/? [00:00<?, ?it/s]"
      ],
      "application/vnd.jupyter.widget-view+json": {
       "version_major": 2,
       "version_minor": 0,
       "model_id": "f40c2f23bb5343bbbcf5e0d8daf81978"
      }
     },
     "metadata": {},
     "output_type": "display_data"
    },
    {
     "data": {
      "text/plain": [
       "Validation: |          | 0/? [00:00<?, ?it/s]"
      ],
      "application/vnd.jupyter.widget-view+json": {
       "version_major": 2,
       "version_minor": 0,
       "model_id": "2802fdd8534d446ca500ff1c606916a0"
      }
     },
     "metadata": {},
     "output_type": "display_data"
    },
    {
     "data": {
      "text/plain": [
       "Validation: |          | 0/? [00:00<?, ?it/s]"
      ],
      "application/vnd.jupyter.widget-view+json": {
       "version_major": 2,
       "version_minor": 0,
       "model_id": "1524606a54494dfcb449008b3f1b2e9f"
      }
     },
     "metadata": {},
     "output_type": "display_data"
    },
    {
     "data": {
      "text/plain": [
       "Validation: |          | 0/? [00:00<?, ?it/s]"
      ],
      "application/vnd.jupyter.widget-view+json": {
       "version_major": 2,
       "version_minor": 0,
       "model_id": "c00950964711441fb499caa3b6e22f6e"
      }
     },
     "metadata": {},
     "output_type": "display_data"
    },
    {
     "data": {
      "text/plain": [
       "Validation: |          | 0/? [00:00<?, ?it/s]"
      ],
      "application/vnd.jupyter.widget-view+json": {
       "version_major": 2,
       "version_minor": 0,
       "model_id": "35c993db85d24b81a0c68b88490f9429"
      }
     },
     "metadata": {},
     "output_type": "display_data"
    },
    {
     "name": "stderr",
     "output_type": "stream",
     "text": [
      "Monitored metric val_loss did not improve in the last 10 records. Best score: 0.013. Signaling Trainer to stop.\n",
      "/home/eduardo/Documentos/Water-Cycle-Neural-Network/venv/lib/python3.12/site-packages/torch/nn/modules/transformer.py:382: UserWarning: enable_nested_tensor is True, but self.use_nested_tensor is False because encoder_layer.self_attn.batch_first was not True(use batch_first for better inference performance)\n",
      "  warnings.warn(\n",
      "GPU available: True (cuda), used: True\n",
      "TPU available: False, using: 0 TPU cores\n",
      "HPU available: False, using: 0 HPUs\n",
      "LOCAL_RANK: 0 - CUDA_VISIBLE_DEVICES: [0]\n",
      "/home/eduardo/Documentos/Water-Cycle-Neural-Network/venv/lib/python3.12/site-packages/pytorch_lightning/trainer/connectors/data_connector.py:425: The 'predict_dataloader' does not have many workers which may be a bottleneck. Consider increasing the value of the `num_workers` argument` to `num_workers=11` in the `DataLoader` to improve performance.\n"
     ]
    },
    {
     "name": "stdout",
     "output_type": "stream",
     "text": [
      "Model loaded from checkpoint for trial 0\n"
     ]
    },
    {
     "name": "stderr",
     "output_type": "stream",
     "text": [
      "[I 2025-05-19 14:32:53,772] Trial 0 finished with value: 45.938261511203436 and parameters: {'input_chunk_length': 55, 'd_model': 128, 'num_encoder_layers': 1, 'num_decoder_layers': 4, 'activation': 'ReLU', 'dropout': 0.15894644208184508, 'batch_size': 26, 'lr': 0.0022706930878686033}. Best is trial 0 with value: 45.938261511203436.\n",
      "Specified future encoders in `add_encoders` at model creation but model does not accept future covariates. future encoders will be ignored.\n"
     ]
    },
    {
     "name": "stdout",
     "output_type": "stream",
     "text": [
      "Starting time series consistency verification...\n",
      "\n",
      "Performance metrics:\n",
      "                                    MSE        RMSE        MAE         R2  \\\n",
      "Temperature                    1.326943    1.151930   0.793925   0.610221   \n",
      "Precipitation_accumulated     46.060020    6.786753   4.681746 -47.527980   \n",
      "Humidity                       5.317670    2.306007   1.716892   0.918226   \n",
      "Wind_Speed_kmh                 0.073520    0.271146   0.117736   0.783960   \n",
      "Soil_Moisture              14589.717026  120.787901  55.968510   0.980283   \n",
      "Soil_Temperature               0.809949    0.899972   0.753504   0.855681   \n",
      "Wind_Dir_Sin                   0.047366    0.217637   0.132199   0.705103   \n",
      "Wind_Dir_Cos                   0.040891    0.202215   0.075902   0.857569   \n",
      "\n",
      "                                SMAPE  \n",
      "Temperature                 14.697531  \n",
      "Precipitation_accumulated    1.008312  \n",
      "Humidity                     2.078836  \n",
      "Wind_Speed_kmh             162.737266  \n",
      "Soil_Moisture                0.873469  \n",
      "Soil_Temperature            19.531635  \n",
      "Wind_Dir_Sin               140.342279  \n",
      "Wind_Dir_Cos                26.236764  \n",
      "The SMAPE for this fold was 45.938261511203436\n",
      "Results for trial 0 saved to optuna_iteration_metrics/trial_0.json\n",
      "Current value: 45.938261511203436, Current params: {'input_chunk_length': 55, 'd_model': 128, 'num_encoder_layers': 1, 'num_decoder_layers': 4, 'activation': 'ReLU', 'dropout': 0.15894644208184508, 'batch_size': 26, 'lr': 0.0022706930878686033}\n",
      "Best value: 45.938261511203436, Best params: {'input_chunk_length': 55, 'd_model': 128, 'num_encoder_layers': 1, 'num_decoder_layers': 4, 'activation': 'ReLU', 'dropout': 0.15894644208184508, 'batch_size': 26, 'lr': 0.0022706930878686033}\n",
      "\n",
      "Starting Trial 1\n",
      "Hyperparameters: {'input_chunk_length': 12, 'd_model': 128, 'num_encoder_layers': 4, 'num_decoder_layers': 4, 'activation': 'GLU', 'dropout': 0.05047981796646199, 'batch_size': 56, 'lr': 4.246877824914423e-05}\n",
      "\n",
      "Training the model...\n",
      "Train set: 6647 samples\n",
      "Validation set: 1662 samples\n"
     ]
    },
    {
     "name": "stderr",
     "output_type": "stream",
     "text": [
      "/home/eduardo/Documentos/Water-Cycle-Neural-Network/venv/lib/python3.12/site-packages/torch/nn/modules/transformer.py:382: UserWarning: enable_nested_tensor is True, but self.use_nested_tensor is False because encoder_layer.self_attn.batch_first was not True(use batch_first for better inference performance)\n",
      "  warnings.warn(\n",
      "GPU available: True (cuda), used: True\n",
      "TPU available: False, using: 0 TPU cores\n",
      "HPU available: False, using: 0 HPUs\n",
      "LOCAL_RANK: 0 - CUDA_VISIBLE_DEVICES: [0]\n",
      "\n",
      "  | Name                | Type                | Params | Mode \n",
      "--------------------------------------------------------------------\n",
      "0 | criterion           | HuberLoss           | 0      | train\n",
      "1 | train_criterion     | HuberLoss           | 0      | train\n",
      "2 | val_criterion       | HuberLoss           | 0      | train\n",
      "3 | train_metrics       | MetricCollection    | 0      | train\n",
      "4 | val_metrics         | MetricCollection    | 0      | train\n",
      "5 | encoder             | Linear              | 2.4 K  | train\n",
      "6 | positional_encoding | _PositionalEncoding | 0      | train\n",
      "7 | transformer         | Transformer         | 3.4 M  | train\n",
      "8 | decoder             | Linear              | 1.0 K  | train\n",
      "--------------------------------------------------------------------\n",
      "3.4 M     Trainable params\n",
      "0         Non-trainable params\n",
      "3.4 M     Total params\n",
      "13.713    Total estimated model params size (MB)\n",
      "168       Modules in train mode\n",
      "0         Modules in eval mode\n"
     ]
    },
    {
     "data": {
      "text/plain": [
       "Sanity Checking: |          | 0/? [00:00<?, ?it/s]"
      ],
      "application/vnd.jupyter.widget-view+json": {
       "version_major": 2,
       "version_minor": 0,
       "model_id": "02f6ab041b514b45b620b345e3fd7fa2"
      }
     },
     "metadata": {},
     "output_type": "display_data"
    },
    {
     "data": {
      "text/plain": [
       "Training: |          | 0/? [00:00<?, ?it/s]"
      ],
      "application/vnd.jupyter.widget-view+json": {
       "version_major": 2,
       "version_minor": 0,
       "model_id": "aea1db6f0dc04a9e93e1c8f0a64d4d4b"
      }
     },
     "metadata": {},
     "output_type": "display_data"
    },
    {
     "data": {
      "text/plain": [
       "Validation: |          | 0/? [00:00<?, ?it/s]"
      ],
      "application/vnd.jupyter.widget-view+json": {
       "version_major": 2,
       "version_minor": 0,
       "model_id": "ef11dce2b3584e979c6119b2b0d5f6b5"
      }
     },
     "metadata": {},
     "output_type": "display_data"
    },
    {
     "name": "stderr",
     "output_type": "stream",
     "text": [
      "Metric val_loss improved. New best score: 0.029\n"
     ]
    },
    {
     "data": {
      "text/plain": [
       "Validation: |          | 0/? [00:00<?, ?it/s]"
      ],
      "application/vnd.jupyter.widget-view+json": {
       "version_major": 2,
       "version_minor": 0,
       "model_id": "eabc980d94fe4ac7b08e2bce4c153b84"
      }
     },
     "metadata": {},
     "output_type": "display_data"
    },
    {
     "name": "stderr",
     "output_type": "stream",
     "text": [
      "Metric val_loss improved by 0.006 >= min_delta = 0.001. New best score: 0.022\n"
     ]
    },
    {
     "data": {
      "text/plain": [
       "Validation: |          | 0/? [00:00<?, ?it/s]"
      ],
      "application/vnd.jupyter.widget-view+json": {
       "version_major": 2,
       "version_minor": 0,
       "model_id": "1d65705cc62243cd8ff74f8943dbf597"
      }
     },
     "metadata": {},
     "output_type": "display_data"
    },
    {
     "name": "stderr",
     "output_type": "stream",
     "text": [
      "Metric val_loss improved by 0.001 >= min_delta = 0.001. New best score: 0.021\n"
     ]
    },
    {
     "data": {
      "text/plain": [
       "Validation: |          | 0/? [00:00<?, ?it/s]"
      ],
      "application/vnd.jupyter.widget-view+json": {
       "version_major": 2,
       "version_minor": 0,
       "model_id": "6433adc546b64c678e4c6deac018c401"
      }
     },
     "metadata": {},
     "output_type": "display_data"
    },
    {
     "name": "stderr",
     "output_type": "stream",
     "text": [
      "Metric val_loss improved by 0.002 >= min_delta = 0.001. New best score: 0.019\n"
     ]
    },
    {
     "data": {
      "text/plain": [
       "Validation: |          | 0/? [00:00<?, ?it/s]"
      ],
      "application/vnd.jupyter.widget-view+json": {
       "version_major": 2,
       "version_minor": 0,
       "model_id": "9673cacd5fa947d185a2072a641d449f"
      }
     },
     "metadata": {},
     "output_type": "display_data"
    },
    {
     "name": "stderr",
     "output_type": "stream",
     "text": [
      "Metric val_loss improved by 0.001 >= min_delta = 0.001. New best score: 0.017\n"
     ]
    },
    {
     "data": {
      "text/plain": [
       "Validation: |          | 0/? [00:00<?, ?it/s]"
      ],
      "application/vnd.jupyter.widget-view+json": {
       "version_major": 2,
       "version_minor": 0,
       "model_id": "68c1c5e3a4b6451cb5e000da0192c22a"
      }
     },
     "metadata": {},
     "output_type": "display_data"
    },
    {
     "data": {
      "text/plain": [
       "Validation: |          | 0/? [00:00<?, ?it/s]"
      ],
      "application/vnd.jupyter.widget-view+json": {
       "version_major": 2,
       "version_minor": 0,
       "model_id": "36414530f41d48038e189ac7af1a5099"
      }
     },
     "metadata": {},
     "output_type": "display_data"
    },
    {
     "name": "stderr",
     "output_type": "stream",
     "text": [
      "Metric val_loss improved by 0.001 >= min_delta = 0.001. New best score: 0.016\n"
     ]
    },
    {
     "data": {
      "text/plain": [
       "Validation: |          | 0/? [00:00<?, ?it/s]"
      ],
      "application/vnd.jupyter.widget-view+json": {
       "version_major": 2,
       "version_minor": 0,
       "model_id": "8c54f0b4399f49d2a26d45af4b4ce346"
      }
     },
     "metadata": {},
     "output_type": "display_data"
    },
    {
     "data": {
      "text/plain": [
       "Validation: |          | 0/? [00:00<?, ?it/s]"
      ],
      "application/vnd.jupyter.widget-view+json": {
       "version_major": 2,
       "version_minor": 0,
       "model_id": "2c766423c3714223baf7d29b0b91d7e5"
      }
     },
     "metadata": {},
     "output_type": "display_data"
    },
    {
     "name": "stderr",
     "output_type": "stream",
     "text": [
      "Metric val_loss improved by 0.001 >= min_delta = 0.001. New best score: 0.015\n"
     ]
    },
    {
     "data": {
      "text/plain": [
       "Validation: |          | 0/? [00:00<?, ?it/s]"
      ],
      "application/vnd.jupyter.widget-view+json": {
       "version_major": 2,
       "version_minor": 0,
       "model_id": "0d8fd8dbf7914929b84b458c93ed0dc3"
      }
     },
     "metadata": {},
     "output_type": "display_data"
    },
    {
     "data": {
      "text/plain": [
       "Validation: |          | 0/? [00:00<?, ?it/s]"
      ],
      "application/vnd.jupyter.widget-view+json": {
       "version_major": 2,
       "version_minor": 0,
       "model_id": "7427731abe30452f96fad31678065786"
      }
     },
     "metadata": {},
     "output_type": "display_data"
    },
    {
     "data": {
      "text/plain": [
       "Validation: |          | 0/? [00:00<?, ?it/s]"
      ],
      "application/vnd.jupyter.widget-view+json": {
       "version_major": 2,
       "version_minor": 0,
       "model_id": "d82abcab8b97412b849f391bc03d57db"
      }
     },
     "metadata": {},
     "output_type": "display_data"
    },
    {
     "data": {
      "text/plain": [
       "Validation: |          | 0/? [00:00<?, ?it/s]"
      ],
      "application/vnd.jupyter.widget-view+json": {
       "version_major": 2,
       "version_minor": 0,
       "model_id": "3ab59cf22a5f4702b204f3de7b01eff1"
      }
     },
     "metadata": {},
     "output_type": "display_data"
    },
    {
     "data": {
      "text/plain": [
       "Validation: |          | 0/? [00:00<?, ?it/s]"
      ],
      "application/vnd.jupyter.widget-view+json": {
       "version_major": 2,
       "version_minor": 0,
       "model_id": "868dde0df88c4527b546a088ef0c9fe1"
      }
     },
     "metadata": {},
     "output_type": "display_data"
    },
    {
     "data": {
      "text/plain": [
       "Validation: |          | 0/? [00:00<?, ?it/s]"
      ],
      "application/vnd.jupyter.widget-view+json": {
       "version_major": 2,
       "version_minor": 0,
       "model_id": "b0f6fc2d6bfe47d492bd72a72d81d582"
      }
     },
     "metadata": {},
     "output_type": "display_data"
    },
    {
     "data": {
      "text/plain": [
       "Validation: |          | 0/? [00:00<?, ?it/s]"
      ],
      "application/vnd.jupyter.widget-view+json": {
       "version_major": 2,
       "version_minor": 0,
       "model_id": "2282fbad921944bf918c9127110c927e"
      }
     },
     "metadata": {},
     "output_type": "display_data"
    },
    {
     "data": {
      "text/plain": [
       "Validation: |          | 0/? [00:00<?, ?it/s]"
      ],
      "application/vnd.jupyter.widget-view+json": {
       "version_major": 2,
       "version_minor": 0,
       "model_id": "893a8827cf3243ae9f67a09e234f4e87"
      }
     },
     "metadata": {},
     "output_type": "display_data"
    },
    {
     "name": "stderr",
     "output_type": "stream",
     "text": [
      "Metric val_loss improved by 0.001 >= min_delta = 0.001. New best score: 0.014\n"
     ]
    },
    {
     "data": {
      "text/plain": [
       "Validation: |          | 0/? [00:00<?, ?it/s]"
      ],
      "application/vnd.jupyter.widget-view+json": {
       "version_major": 2,
       "version_minor": 0,
       "model_id": "ed2e13e4bc4248b4856e1eaf2a0f4108"
      }
     },
     "metadata": {},
     "output_type": "display_data"
    },
    {
     "data": {
      "text/plain": [
       "Validation: |          | 0/? [00:00<?, ?it/s]"
      ],
      "application/vnd.jupyter.widget-view+json": {
       "version_major": 2,
       "version_minor": 0,
       "model_id": "bf6e1a7e3dcc472fafa2bcbe4341182d"
      }
     },
     "metadata": {},
     "output_type": "display_data"
    },
    {
     "data": {
      "text/plain": [
       "Validation: |          | 0/? [00:00<?, ?it/s]"
      ],
      "application/vnd.jupyter.widget-view+json": {
       "version_major": 2,
       "version_minor": 0,
       "model_id": "ff3a11085b554c2c83245c147d298afb"
      }
     },
     "metadata": {},
     "output_type": "display_data"
    },
    {
     "data": {
      "text/plain": [
       "Validation: |          | 0/? [00:00<?, ?it/s]"
      ],
      "application/vnd.jupyter.widget-view+json": {
       "version_major": 2,
       "version_minor": 0,
       "model_id": "75931ab88c75441d82bbe758b9a81f58"
      }
     },
     "metadata": {},
     "output_type": "display_data"
    },
    {
     "data": {
      "text/plain": [
       "Validation: |          | 0/? [00:00<?, ?it/s]"
      ],
      "application/vnd.jupyter.widget-view+json": {
       "version_major": 2,
       "version_minor": 0,
       "model_id": "37b348dceda64c7caf5e99fe51c45a77"
      }
     },
     "metadata": {},
     "output_type": "display_data"
    },
    {
     "data": {
      "text/plain": [
       "Validation: |          | 0/? [00:00<?, ?it/s]"
      ],
      "application/vnd.jupyter.widget-view+json": {
       "version_major": 2,
       "version_minor": 0,
       "model_id": "0979726641c44854948549275155ab6a"
      }
     },
     "metadata": {},
     "output_type": "display_data"
    },
    {
     "data": {
      "text/plain": [
       "Validation: |          | 0/? [00:00<?, ?it/s]"
      ],
      "application/vnd.jupyter.widget-view+json": {
       "version_major": 2,
       "version_minor": 0,
       "model_id": "8e74287b93164a82afa29397489fa4a4"
      }
     },
     "metadata": {},
     "output_type": "display_data"
    },
    {
     "data": {
      "text/plain": [
       "Validation: |          | 0/? [00:00<?, ?it/s]"
      ],
      "application/vnd.jupyter.widget-view+json": {
       "version_major": 2,
       "version_minor": 0,
       "model_id": "4025c5d20ba147a6863958762bd48e1b"
      }
     },
     "metadata": {},
     "output_type": "display_data"
    },
    {
     "data": {
      "text/plain": [
       "Validation: |          | 0/? [00:00<?, ?it/s]"
      ],
      "application/vnd.jupyter.widget-view+json": {
       "version_major": 2,
       "version_minor": 0,
       "model_id": "542a1417d9bf4ef29758efb11e641da0"
      }
     },
     "metadata": {},
     "output_type": "display_data"
    },
    {
     "data": {
      "text/plain": [
       "Validation: |          | 0/? [00:00<?, ?it/s]"
      ],
      "application/vnd.jupyter.widget-view+json": {
       "version_major": 2,
       "version_minor": 0,
       "model_id": "8e6012b6c80d456185af5627a96368c2"
      }
     },
     "metadata": {},
     "output_type": "display_data"
    },
    {
     "name": "stderr",
     "output_type": "stream",
     "text": [
      "Monitored metric val_loss did not improve in the last 10 records. Best score: 0.014. Signaling Trainer to stop.\n",
      "/home/eduardo/Documentos/Water-Cycle-Neural-Network/venv/lib/python3.12/site-packages/torch/nn/modules/transformer.py:382: UserWarning: enable_nested_tensor is True, but self.use_nested_tensor is False because encoder_layer.self_attn.batch_first was not True(use batch_first for better inference performance)\n",
      "  warnings.warn(\n",
      "GPU available: True (cuda), used: True\n",
      "TPU available: False, using: 0 TPU cores\n",
      "HPU available: False, using: 0 HPUs\n",
      "LOCAL_RANK: 0 - CUDA_VISIBLE_DEVICES: [0]\n",
      "/home/eduardo/Documentos/Water-Cycle-Neural-Network/venv/lib/python3.12/site-packages/pytorch_lightning/trainer/connectors/data_connector.py:425: The 'predict_dataloader' does not have many workers which may be a bottleneck. Consider increasing the value of the `num_workers` argument` to `num_workers=11` in the `DataLoader` to improve performance.\n"
     ]
    },
    {
     "name": "stdout",
     "output_type": "stream",
     "text": [
      "Model loaded from checkpoint for trial 1\n"
     ]
    },
    {
     "name": "stderr",
     "output_type": "stream",
     "text": [
      "[I 2025-05-19 14:34:38,486] Trial 1 finished with value: 47.51853580702027 and parameters: {'input_chunk_length': 12, 'd_model': 128, 'num_encoder_layers': 4, 'num_decoder_layers': 4, 'activation': 'GLU', 'dropout': 0.05047981796646199, 'batch_size': 56, 'lr': 4.246877824914423e-05}. Best is trial 0 with value: 45.938261511203436.\n",
      "Specified future encoders in `add_encoders` at model creation but model does not accept future covariates. future encoders will be ignored.\n",
      "/home/eduardo/Documentos/Water-Cycle-Neural-Network/venv/lib/python3.12/site-packages/torch/nn/modules/transformer.py:382: UserWarning: enable_nested_tensor is True, but self.use_nested_tensor is False because encoder_layer.self_attn.batch_first was not True(use batch_first for better inference performance)\n",
      "  warnings.warn(\n",
      "GPU available: True (cuda), used: True\n",
      "TPU available: False, using: 0 TPU cores\n",
      "HPU available: False, using: 0 HPUs\n",
      "LOCAL_RANK: 0 - CUDA_VISIBLE_DEVICES: [0]\n",
      "\n",
      "  | Name                | Type                | Params | Mode \n",
      "--------------------------------------------------------------------\n",
      "0 | criterion           | HuberLoss           | 0      | train\n",
      "1 | train_criterion     | HuberLoss           | 0      | train\n",
      "2 | val_criterion       | HuberLoss           | 0      | train\n",
      "3 | train_metrics       | MetricCollection    | 0      | train\n",
      "4 | val_metrics         | MetricCollection    | 0      | train\n",
      "5 | encoder             | Linear              | 4.9 K  | train\n",
      "6 | positional_encoding | _PositionalEncoding | 0      | train\n",
      "7 | transformer         | Transformer         | 2.1 M  | train\n",
      "8 | decoder             | Linear              | 2.1 K  | train\n",
      "--------------------------------------------------------------------\n",
      "2.1 M     Trainable params\n",
      "0         Non-trainable params\n",
      "2.1 M     Total params\n",
      "8.449     Total estimated model params size (MB)\n",
      "54        Modules in train mode\n",
      "0         Modules in eval mode\n"
     ]
    },
    {
     "name": "stdout",
     "output_type": "stream",
     "text": [
      "Starting time series consistency verification...\n",
      "\n",
      "Performance metrics:\n",
      "                                    MSE        RMSE        MAE          R2  \\\n",
      "Temperature                    1.172994    1.083048   0.828658    0.655443   \n",
      "Precipitation_accumulated     98.758475    9.937730   8.922197 -103.050091   \n",
      "Humidity                      10.278455    3.206003   2.607098    0.841940   \n",
      "Wind_Speed_kmh                 0.111096    0.333311   0.182058    0.673543   \n",
      "Soil_Moisture              31537.646888  177.588420  85.759921    0.957380   \n",
      "Soil_Temperature               0.400151    0.632575   0.491464    0.928700   \n",
      "Wind_Dir_Sin                   0.052925    0.230054   0.113141    0.670494   \n",
      "Wind_Dir_Cos                   0.054585    0.233635   0.133688    0.809869   \n",
      "\n",
      "                                SMAPE  \n",
      "Temperature                 13.902837  \n",
      "Precipitation_accumulated    1.918543  \n",
      "Humidity                     3.140991  \n",
      "Wind_Speed_kmh             161.908035  \n",
      "Soil_Moisture                1.347509  \n",
      "Soil_Temperature            13.711868  \n",
      "Wind_Dir_Sin               146.474564  \n",
      "Wind_Dir_Cos                37.743939  \n",
      "The SMAPE for this fold was 47.51853580702027\n",
      "Results for trial 1 saved to optuna_iteration_metrics/trial_1.json\n",
      "Current value: 47.51853580702027, Current params: {'input_chunk_length': 12, 'd_model': 128, 'num_encoder_layers': 4, 'num_decoder_layers': 4, 'activation': 'GLU', 'dropout': 0.05047981796646199, 'batch_size': 56, 'lr': 4.246877824914423e-05}\n",
      "Best value: 45.938261511203436, Best params: {'input_chunk_length': 55, 'd_model': 128, 'num_encoder_layers': 1, 'num_decoder_layers': 4, 'activation': 'ReLU', 'dropout': 0.15894644208184508, 'batch_size': 26, 'lr': 0.0022706930878686033}\n",
      "\n",
      "Starting Trial 2\n",
      "Hyperparameters: {'input_chunk_length': 16, 'd_model': 256, 'num_encoder_layers': 1, 'num_decoder_layers': 1, 'activation': 'GLU', 'dropout': 0.14725994883862273, 'batch_size': 35, 'lr': 0.004896094498421687}\n",
      "\n",
      "Training the model...\n",
      "Train set: 6647 samples\n",
      "Validation set: 1662 samples\n"
     ]
    },
    {
     "data": {
      "text/plain": [
       "Sanity Checking: |          | 0/? [00:00<?, ?it/s]"
      ],
      "application/vnd.jupyter.widget-view+json": {
       "version_major": 2,
       "version_minor": 0,
       "model_id": "33077b08f1f44ae88bb17598fa6a65e8"
      }
     },
     "metadata": {},
     "output_type": "display_data"
    },
    {
     "data": {
      "text/plain": [
       "Training: |          | 0/? [00:00<?, ?it/s]"
      ],
      "application/vnd.jupyter.widget-view+json": {
       "version_major": 2,
       "version_minor": 0,
       "model_id": "42966cfc5aab48af82f5258a4a4d32dc"
      }
     },
     "metadata": {},
     "output_type": "display_data"
    },
    {
     "data": {
      "text/plain": [
       "Validation: |          | 0/? [00:00<?, ?it/s]"
      ],
      "application/vnd.jupyter.widget-view+json": {
       "version_major": 2,
       "version_minor": 0,
       "model_id": "b92d3156b772499e864363068ac30134"
      }
     },
     "metadata": {},
     "output_type": "display_data"
    },
    {
     "name": "stderr",
     "output_type": "stream",
     "text": [
      "Metric val_loss improved. New best score: 0.046\n"
     ]
    },
    {
     "data": {
      "text/plain": [
       "Validation: |          | 0/? [00:00<?, ?it/s]"
      ],
      "application/vnd.jupyter.widget-view+json": {
       "version_major": 2,
       "version_minor": 0,
       "model_id": "9d52c27067674838a5eeb0ae3caa7e3c"
      }
     },
     "metadata": {},
     "output_type": "display_data"
    },
    {
     "data": {
      "text/plain": [
       "Validation: |          | 0/? [00:00<?, ?it/s]"
      ],
      "application/vnd.jupyter.widget-view+json": {
       "version_major": 2,
       "version_minor": 0,
       "model_id": "5e2a3ea8422e4ba19e2c3e4f129f63eb"
      }
     },
     "metadata": {},
     "output_type": "display_data"
    },
    {
     "data": {
      "text/plain": [
       "Validation: |          | 0/? [00:00<?, ?it/s]"
      ],
      "application/vnd.jupyter.widget-view+json": {
       "version_major": 2,
       "version_minor": 0,
       "model_id": "5e7ce5bf44214279b3cbcd1b4b54ec84"
      }
     },
     "metadata": {},
     "output_type": "display_data"
    },
    {
     "name": "stderr",
     "output_type": "stream",
     "text": [
      "Metric val_loss improved by 0.003 >= min_delta = 0.001. New best score: 0.043\n"
     ]
    },
    {
     "data": {
      "text/plain": [
       "Validation: |          | 0/? [00:00<?, ?it/s]"
      ],
      "application/vnd.jupyter.widget-view+json": {
       "version_major": 2,
       "version_minor": 0,
       "model_id": "e0f7243365dd43c38be3c7d941cee209"
      }
     },
     "metadata": {},
     "output_type": "display_data"
    },
    {
     "data": {
      "text/plain": [
       "Validation: |          | 0/? [00:00<?, ?it/s]"
      ],
      "application/vnd.jupyter.widget-view+json": {
       "version_major": 2,
       "version_minor": 0,
       "model_id": "d853c06c15bc4edfad8a93dab04138c5"
      }
     },
     "metadata": {},
     "output_type": "display_data"
    },
    {
     "name": "stderr",
     "output_type": "stream",
     "text": [
      "Metric val_loss improved by 0.021 >= min_delta = 0.001. New best score: 0.022\n"
     ]
    },
    {
     "data": {
      "text/plain": [
       "Validation: |          | 0/? [00:00<?, ?it/s]"
      ],
      "application/vnd.jupyter.widget-view+json": {
       "version_major": 2,
       "version_minor": 0,
       "model_id": "e4032d8dac134be69a44eb0ed082e01c"
      }
     },
     "metadata": {},
     "output_type": "display_data"
    },
    {
     "name": "stderr",
     "output_type": "stream",
     "text": [
      "Metric val_loss improved by 0.002 >= min_delta = 0.001. New best score: 0.020\n"
     ]
    },
    {
     "data": {
      "text/plain": [
       "Validation: |          | 0/? [00:00<?, ?it/s]"
      ],
      "application/vnd.jupyter.widget-view+json": {
       "version_major": 2,
       "version_minor": 0,
       "model_id": "d167503368cf4dc2aec87d3435da0b31"
      }
     },
     "metadata": {},
     "output_type": "display_data"
    },
    {
     "name": "stderr",
     "output_type": "stream",
     "text": [
      "Metric val_loss improved by 0.003 >= min_delta = 0.001. New best score: 0.017\n"
     ]
    },
    {
     "data": {
      "text/plain": [
       "Validation: |          | 0/? [00:00<?, ?it/s]"
      ],
      "application/vnd.jupyter.widget-view+json": {
       "version_major": 2,
       "version_minor": 0,
       "model_id": "ecacae33a54d4f0c979d3ec530db8b0e"
      }
     },
     "metadata": {},
     "output_type": "display_data"
    },
    {
     "name": "stderr",
     "output_type": "stream",
     "text": [
      "Metric val_loss improved by 0.003 >= min_delta = 0.001. New best score: 0.014\n"
     ]
    },
    {
     "data": {
      "text/plain": [
       "Validation: |          | 0/? [00:00<?, ?it/s]"
      ],
      "application/vnd.jupyter.widget-view+json": {
       "version_major": 2,
       "version_minor": 0,
       "model_id": "d6d59c8df7084af4aadd721bdb59ada9"
      }
     },
     "metadata": {},
     "output_type": "display_data"
    },
    {
     "data": {
      "text/plain": [
       "Validation: |          | 0/? [00:00<?, ?it/s]"
      ],
      "application/vnd.jupyter.widget-view+json": {
       "version_major": 2,
       "version_minor": 0,
       "model_id": "d7922b58a06b421da2deac5ad9f35288"
      }
     },
     "metadata": {},
     "output_type": "display_data"
    },
    {
     "data": {
      "text/plain": [
       "Validation: |          | 0/? [00:00<?, ?it/s]"
      ],
      "application/vnd.jupyter.widget-view+json": {
       "version_major": 2,
       "version_minor": 0,
       "model_id": "0a3de626896146cc823d8b4ec8ae8c80"
      }
     },
     "metadata": {},
     "output_type": "display_data"
    },
    {
     "data": {
      "text/plain": [
       "Validation: |          | 0/? [00:00<?, ?it/s]"
      ],
      "application/vnd.jupyter.widget-view+json": {
       "version_major": 2,
       "version_minor": 0,
       "model_id": "67b8d914b50243d19fd89d8718a53be0"
      }
     },
     "metadata": {},
     "output_type": "display_data"
    },
    {
     "name": "stderr",
     "output_type": "stream",
     "text": [
      "Metric val_loss improved by 0.001 >= min_delta = 0.001. New best score: 0.013\n"
     ]
    },
    {
     "data": {
      "text/plain": [
       "Validation: |          | 0/? [00:00<?, ?it/s]"
      ],
      "application/vnd.jupyter.widget-view+json": {
       "version_major": 2,
       "version_minor": 0,
       "model_id": "7c99b20603734feb954fdbc2fa1fa983"
      }
     },
     "metadata": {},
     "output_type": "display_data"
    },
    {
     "name": "stderr",
     "output_type": "stream",
     "text": [
      "Metric val_loss improved by 0.001 >= min_delta = 0.001. New best score: 0.012\n"
     ]
    },
    {
     "data": {
      "text/plain": [
       "Validation: |          | 0/? [00:00<?, ?it/s]"
      ],
      "application/vnd.jupyter.widget-view+json": {
       "version_major": 2,
       "version_minor": 0,
       "model_id": "b293effd81cb4e27982ca6363c22dfae"
      }
     },
     "metadata": {},
     "output_type": "display_data"
    },
    {
     "data": {
      "text/plain": [
       "Validation: |          | 0/? [00:00<?, ?it/s]"
      ],
      "application/vnd.jupyter.widget-view+json": {
       "version_major": 2,
       "version_minor": 0,
       "model_id": "131bc96417b742d1a5275dca6764360f"
      }
     },
     "metadata": {},
     "output_type": "display_data"
    },
    {
     "data": {
      "text/plain": [
       "Validation: |          | 0/? [00:00<?, ?it/s]"
      ],
      "application/vnd.jupyter.widget-view+json": {
       "version_major": 2,
       "version_minor": 0,
       "model_id": "955928aca9be4b48aeff53f4d8645b5c"
      }
     },
     "metadata": {},
     "output_type": "display_data"
    },
    {
     "data": {
      "text/plain": [
       "Validation: |          | 0/? [00:00<?, ?it/s]"
      ],
      "application/vnd.jupyter.widget-view+json": {
       "version_major": 2,
       "version_minor": 0,
       "model_id": "47bbd3b3a7b044d99ce64355dc6d12a7"
      }
     },
     "metadata": {},
     "output_type": "display_data"
    },
    {
     "data": {
      "text/plain": [
       "Validation: |          | 0/? [00:00<?, ?it/s]"
      ],
      "application/vnd.jupyter.widget-view+json": {
       "version_major": 2,
       "version_minor": 0,
       "model_id": "a37a4d9e8aa04ecba5f306d0d76776bd"
      }
     },
     "metadata": {},
     "output_type": "display_data"
    },
    {
     "data": {
      "text/plain": [
       "Validation: |          | 0/? [00:00<?, ?it/s]"
      ],
      "application/vnd.jupyter.widget-view+json": {
       "version_major": 2,
       "version_minor": 0,
       "model_id": "4811dae2774c447fab8207d9f2050443"
      }
     },
     "metadata": {},
     "output_type": "display_data"
    },
    {
     "data": {
      "text/plain": [
       "Validation: |          | 0/? [00:00<?, ?it/s]"
      ],
      "application/vnd.jupyter.widget-view+json": {
       "version_major": 2,
       "version_minor": 0,
       "model_id": "c8019c36c5d44fad9847fc46f6225b3d"
      }
     },
     "metadata": {},
     "output_type": "display_data"
    },
    {
     "data": {
      "text/plain": [
       "Validation: |          | 0/? [00:00<?, ?it/s]"
      ],
      "application/vnd.jupyter.widget-view+json": {
       "version_major": 2,
       "version_minor": 0,
       "model_id": "429b26c62ede4b5cbcde6ec80b29be1d"
      }
     },
     "metadata": {},
     "output_type": "display_data"
    },
    {
     "data": {
      "text/plain": [
       "Validation: |          | 0/? [00:00<?, ?it/s]"
      ],
      "application/vnd.jupyter.widget-view+json": {
       "version_major": 2,
       "version_minor": 0,
       "model_id": "112530df4eb64c95961a241d0c1a846f"
      }
     },
     "metadata": {},
     "output_type": "display_data"
    },
    {
     "data": {
      "text/plain": [
       "Validation: |          | 0/? [00:00<?, ?it/s]"
      ],
      "application/vnd.jupyter.widget-view+json": {
       "version_major": 2,
       "version_minor": 0,
       "model_id": "1ab96b1fcaf44745987a5e05b7199f8b"
      }
     },
     "metadata": {},
     "output_type": "display_data"
    },
    {
     "name": "stderr",
     "output_type": "stream",
     "text": [
      "Monitored metric val_loss did not improve in the last 10 records. Best score: 0.012. Signaling Trainer to stop.\n",
      "/home/eduardo/Documentos/Water-Cycle-Neural-Network/venv/lib/python3.12/site-packages/torch/nn/modules/transformer.py:382: UserWarning: enable_nested_tensor is True, but self.use_nested_tensor is False because encoder_layer.self_attn.batch_first was not True(use batch_first for better inference performance)\n",
      "  warnings.warn(\n",
      "GPU available: True (cuda), used: True\n",
      "TPU available: False, using: 0 TPU cores\n",
      "HPU available: False, using: 0 HPUs\n",
      "LOCAL_RANK: 0 - CUDA_VISIBLE_DEVICES: [0]\n",
      "/home/eduardo/Documentos/Water-Cycle-Neural-Network/venv/lib/python3.12/site-packages/pytorch_lightning/trainer/connectors/data_connector.py:425: The 'predict_dataloader' does not have many workers which may be a bottleneck. Consider increasing the value of the `num_workers` argument` to `num_workers=11` in the `DataLoader` to improve performance.\n"
     ]
    },
    {
     "name": "stdout",
     "output_type": "stream",
     "text": [
      "Model loaded from checkpoint for trial 2\n"
     ]
    },
    {
     "name": "stderr",
     "output_type": "stream",
     "text": [
      "[I 2025-05-19 14:35:47,703] Trial 2 finished with value: 45.48933237480024 and parameters: {'input_chunk_length': 16, 'd_model': 256, 'num_encoder_layers': 1, 'num_decoder_layers': 1, 'activation': 'GLU', 'dropout': 0.14725994883862273, 'batch_size': 35, 'lr': 0.004896094498421687}. Best is trial 2 with value: 45.48933237480024.\n",
      "Specified future encoders in `add_encoders` at model creation but model does not accept future covariates. future encoders will be ignored.\n"
     ]
    },
    {
     "name": "stdout",
     "output_type": "stream",
     "text": [
      "Starting time series consistency verification...\n",
      "\n",
      "Performance metrics:\n",
      "                                    MSE        RMSE         MAE         R2  \\\n",
      "Temperature                    0.846040    0.919804    0.640225   0.751482   \n",
      "Precipitation_accumulated     51.682122    7.189028    5.206169 -53.451322   \n",
      "Humidity                       3.640944    1.908126    1.366176   0.944010   \n",
      "Wind_Speed_kmh                 0.086359    0.293870    0.197783   0.746232   \n",
      "Soil_Moisture              39968.003918  199.919994  168.059801   0.945987   \n",
      "Soil_Temperature               0.704040    0.839071    0.665508   0.874552   \n",
      "Wind_Dir_Sin                   0.045647    0.213652    0.098007   0.715804   \n",
      "Wind_Dir_Cos                   0.041767    0.204370    0.087853   0.854517   \n",
      "\n",
      "                                SMAPE  \n",
      "Temperature                 10.666192  \n",
      "Precipitation_accumulated    1.129981  \n",
      "Humidity                     1.666501  \n",
      "Wind_Speed_kmh             160.608827  \n",
      "Soil_Moisture                2.864929  \n",
      "Soil_Temperature            18.787643  \n",
      "Wind_Dir_Sin               140.283272  \n",
      "Wind_Dir_Cos                27.907314  \n",
      "The SMAPE for this fold was 45.48933237480024\n",
      "Results for trial 2 saved to optuna_iteration_metrics/trial_2.json\n",
      "Current value: 45.48933237480024, Current params: {'input_chunk_length': 16, 'd_model': 256, 'num_encoder_layers': 1, 'num_decoder_layers': 1, 'activation': 'GLU', 'dropout': 0.14725994883862273, 'batch_size': 35, 'lr': 0.004896094498421687}\n",
      "Best value: 45.48933237480024, Best params: {'input_chunk_length': 16, 'd_model': 256, 'num_encoder_layers': 1, 'num_decoder_layers': 1, 'activation': 'GLU', 'dropout': 0.14725994883862273, 'batch_size': 35, 'lr': 0.004896094498421687}\n",
      "\n",
      "Starting Trial 3\n",
      "Hyperparameters: {'input_chunk_length': 13, 'd_model': 128, 'num_encoder_layers': 1, 'num_decoder_layers': 4, 'activation': 'ReGLU', 'dropout': 0.2852511718561028, 'batch_size': 19, 'lr': 0.00022087337191132757}\n",
      "\n",
      "Training the model...\n",
      "Train set: 6647 samples\n",
      "Validation set: 1662 samples\n"
     ]
    },
    {
     "name": "stderr",
     "output_type": "stream",
     "text": [
      "/home/eduardo/Documentos/Water-Cycle-Neural-Network/venv/lib/python3.12/site-packages/torch/nn/modules/transformer.py:382: UserWarning: enable_nested_tensor is True, but self.use_nested_tensor is False because encoder_layer.self_attn.batch_first was not True(use batch_first for better inference performance)\n",
      "  warnings.warn(\n",
      "GPU available: True (cuda), used: True\n",
      "TPU available: False, using: 0 TPU cores\n",
      "HPU available: False, using: 0 HPUs\n",
      "LOCAL_RANK: 0 - CUDA_VISIBLE_DEVICES: [0]\n",
      "\n",
      "  | Name                | Type                | Params | Mode \n",
      "--------------------------------------------------------------------\n",
      "0 | criterion           | HuberLoss           | 0      | train\n",
      "1 | train_criterion     | HuberLoss           | 0      | train\n",
      "2 | val_criterion       | HuberLoss           | 0      | train\n",
      "3 | train_metrics       | MetricCollection    | 0      | train\n",
      "4 | val_metrics         | MetricCollection    | 0      | train\n",
      "5 | encoder             | Linear              | 2.4 K  | train\n",
      "6 | positional_encoding | _PositionalEncoding | 0      | train\n",
      "7 | transformer         | Transformer         | 2.2 M  | train\n",
      "8 | decoder             | Linear              | 1.0 K  | train\n",
      "--------------------------------------------------------------------\n",
      "2.2 M     Trainable params\n",
      "0         Non-trainable params\n",
      "2.2 M     Total params\n",
      "8.974     Total estimated model params size (MB)\n",
      "117       Modules in train mode\n",
      "0         Modules in eval mode\n"
     ]
    },
    {
     "data": {
      "text/plain": [
       "Sanity Checking: |          | 0/? [00:00<?, ?it/s]"
      ],
      "application/vnd.jupyter.widget-view+json": {
       "version_major": 2,
       "version_minor": 0,
       "model_id": "ae8d85f430a44cbbb13f82493bc3d774"
      }
     },
     "metadata": {},
     "output_type": "display_data"
    },
    {
     "data": {
      "text/plain": [
       "Training: |          | 0/? [00:00<?, ?it/s]"
      ],
      "application/vnd.jupyter.widget-view+json": {
       "version_major": 2,
       "version_minor": 0,
       "model_id": "b212ddbc435049b7b27dd262519dd124"
      }
     },
     "metadata": {},
     "output_type": "display_data"
    },
    {
     "data": {
      "text/plain": [
       "Validation: |          | 0/? [00:00<?, ?it/s]"
      ],
      "application/vnd.jupyter.widget-view+json": {
       "version_major": 2,
       "version_minor": 0,
       "model_id": "99d54ff495134a9ea0a5e51128959855"
      }
     },
     "metadata": {},
     "output_type": "display_data"
    },
    {
     "name": "stderr",
     "output_type": "stream",
     "text": [
      "Metric val_loss improved. New best score: 0.023\n"
     ]
    },
    {
     "data": {
      "text/plain": [
       "Validation: |          | 0/? [00:00<?, ?it/s]"
      ],
      "application/vnd.jupyter.widget-view+json": {
       "version_major": 2,
       "version_minor": 0,
       "model_id": "d8a5d3f3422340188f135b2dd7d936a1"
      }
     },
     "metadata": {},
     "output_type": "display_data"
    },
    {
     "name": "stderr",
     "output_type": "stream",
     "text": [
      "Metric val_loss improved by 0.003 >= min_delta = 0.001. New best score: 0.020\n"
     ]
    },
    {
     "data": {
      "text/plain": [
       "Validation: |          | 0/? [00:00<?, ?it/s]"
      ],
      "application/vnd.jupyter.widget-view+json": {
       "version_major": 2,
       "version_minor": 0,
       "model_id": "a8aecbf6599b4bc6b74a04abd0dfa804"
      }
     },
     "metadata": {},
     "output_type": "display_data"
    },
    {
     "data": {
      "text/plain": [
       "Validation: |          | 0/? [00:00<?, ?it/s]"
      ],
      "application/vnd.jupyter.widget-view+json": {
       "version_major": 2,
       "version_minor": 0,
       "model_id": "2b12873537364fc1a07f4c3fe206e93c"
      }
     },
     "metadata": {},
     "output_type": "display_data"
    },
    {
     "data": {
      "text/plain": [
       "Validation: |          | 0/? [00:00<?, ?it/s]"
      ],
      "application/vnd.jupyter.widget-view+json": {
       "version_major": 2,
       "version_minor": 0,
       "model_id": "eb9672d21d944fddbfbb28d65479d04b"
      }
     },
     "metadata": {},
     "output_type": "display_data"
    },
    {
     "data": {
      "text/plain": [
       "Validation: |          | 0/? [00:00<?, ?it/s]"
      ],
      "application/vnd.jupyter.widget-view+json": {
       "version_major": 2,
       "version_minor": 0,
       "model_id": "9689a38091f44070b4a5bc117615c60e"
      }
     },
     "metadata": {},
     "output_type": "display_data"
    },
    {
     "data": {
      "text/plain": [
       "Validation: |          | 0/? [00:00<?, ?it/s]"
      ],
      "application/vnd.jupyter.widget-view+json": {
       "version_major": 2,
       "version_minor": 0,
       "model_id": "7697f92ee6c245f28d879869f11e5cde"
      }
     },
     "metadata": {},
     "output_type": "display_data"
    },
    {
     "data": {
      "text/plain": [
       "Validation: |          | 0/? [00:00<?, ?it/s]"
      ],
      "application/vnd.jupyter.widget-view+json": {
       "version_major": 2,
       "version_minor": 0,
       "model_id": "80174eab89824ea0972c7aa4a92c7cff"
      }
     },
     "metadata": {},
     "output_type": "display_data"
    },
    {
     "data": {
      "text/plain": [
       "Validation: |          | 0/? [00:00<?, ?it/s]"
      ],
      "application/vnd.jupyter.widget-view+json": {
       "version_major": 2,
       "version_minor": 0,
       "model_id": "91639dff8c594e6483a3af3dd5732d75"
      }
     },
     "metadata": {},
     "output_type": "display_data"
    },
    {
     "data": {
      "text/plain": [
       "Validation: |          | 0/? [00:00<?, ?it/s]"
      ],
      "application/vnd.jupyter.widget-view+json": {
       "version_major": 2,
       "version_minor": 0,
       "model_id": "efb633fbe5ce480eb06a83facbb6a2df"
      }
     },
     "metadata": {},
     "output_type": "display_data"
    },
    {
     "data": {
      "text/plain": [
       "Validation: |          | 0/? [00:00<?, ?it/s]"
      ],
      "application/vnd.jupyter.widget-view+json": {
       "version_major": 2,
       "version_minor": 0,
       "model_id": "4add57bd5107445a8a98103eb293c62a"
      }
     },
     "metadata": {},
     "output_type": "display_data"
    },
    {
     "data": {
      "text/plain": [
       "Validation: |          | 0/? [00:00<?, ?it/s]"
      ],
      "application/vnd.jupyter.widget-view+json": {
       "version_major": 2,
       "version_minor": 0,
       "model_id": "986af965cda6478fb1dc8a47aa63337a"
      }
     },
     "metadata": {},
     "output_type": "display_data"
    },
    {
     "name": "stderr",
     "output_type": "stream",
     "text": [
      "Monitored metric val_loss did not improve in the last 10 records. Best score: 0.020. Signaling Trainer to stop.\n",
      "/home/eduardo/Documentos/Water-Cycle-Neural-Network/venv/lib/python3.12/site-packages/torch/nn/modules/transformer.py:382: UserWarning: enable_nested_tensor is True, but self.use_nested_tensor is False because encoder_layer.self_attn.batch_first was not True(use batch_first for better inference performance)\n",
      "  warnings.warn(\n",
      "GPU available: True (cuda), used: True\n",
      "TPU available: False, using: 0 TPU cores\n",
      "HPU available: False, using: 0 HPUs\n",
      "LOCAL_RANK: 0 - CUDA_VISIBLE_DEVICES: [0]\n",
      "/home/eduardo/Documentos/Water-Cycle-Neural-Network/venv/lib/python3.12/site-packages/pytorch_lightning/trainer/connectors/data_connector.py:425: The 'predict_dataloader' does not have many workers which may be a bottleneck. Consider increasing the value of the `num_workers` argument` to `num_workers=11` in the `DataLoader` to improve performance.\n"
     ]
    },
    {
     "name": "stdout",
     "output_type": "stream",
     "text": [
      "Model loaded from checkpoint for trial 3\n"
     ]
    },
    {
     "name": "stderr",
     "output_type": "stream",
     "text": [
      "[I 2025-05-19 14:37:19,213] Trial 3 finished with value: 47.764255497966275 and parameters: {'input_chunk_length': 13, 'd_model': 128, 'num_encoder_layers': 1, 'num_decoder_layers': 4, 'activation': 'ReGLU', 'dropout': 0.2852511718561028, 'batch_size': 19, 'lr': 0.00022087337191132757}. Best is trial 2 with value: 45.48933237480024.\n",
      "Specified future encoders in `add_encoders` at model creation but model does not accept future covariates. future encoders will be ignored.\n",
      "/home/eduardo/Documentos/Water-Cycle-Neural-Network/venv/lib/python3.12/site-packages/torch/nn/modules/transformer.py:382: UserWarning: enable_nested_tensor is True, but self.use_nested_tensor is False because encoder_layer.self_attn.batch_first was not True(use batch_first for better inference performance)\n",
      "  warnings.warn(\n",
      "GPU available: True (cuda), used: True\n",
      "TPU available: False, using: 0 TPU cores\n",
      "HPU available: False, using: 0 HPUs\n",
      "LOCAL_RANK: 0 - CUDA_VISIBLE_DEVICES: [0]\n",
      "\n",
      "  | Name                | Type                | Params | Mode \n",
      "--------------------------------------------------------------------\n",
      "0 | criterion           | HuberLoss           | 0      | train\n",
      "1 | train_criterion     | HuberLoss           | 0      | train\n",
      "2 | val_criterion       | HuberLoss           | 0      | train\n",
      "3 | train_metrics       | MetricCollection    | 0      | train\n",
      "4 | val_metrics         | MetricCollection    | 0      | train\n",
      "5 | encoder             | Linear              | 1.2 K  | train\n",
      "6 | positional_encoding | _PositionalEncoding | 0      | train\n",
      "7 | transformer         | Transformer         | 560 K  | train\n",
      "8 | decoder             | Linear              | 520    | train\n",
      "--------------------------------------------------------------------\n",
      "562 K     Trainable params\n",
      "0         Non-trainable params\n",
      "562 K     Total params\n",
      "2.251     Total estimated model params size (MB)\n",
      "71        Modules in train mode\n",
      "0         Modules in eval mode\n"
     ]
    },
    {
     "name": "stdout",
     "output_type": "stream",
     "text": [
      "Starting time series consistency verification...\n",
      "\n",
      "Performance metrics:\n",
      "                                    MSE        RMSE        MAE          R2  \\\n",
      "Temperature                    1.290334    1.135929   0.844895    0.620975   \n",
      "Precipitation_accumulated    152.004331   12.329004   9.815753 -159.148933   \n",
      "Humidity                      11.784136    3.432803   2.550042    0.818785   \n",
      "Wind_Speed_kmh                 0.095332    0.308759   0.143774    0.719866   \n",
      "Soil_Moisture              32559.706498  180.443084  98.112532    0.955999   \n",
      "Soil_Temperature               1.006854    1.003421   0.783580    0.820596   \n",
      "Wind_Dir_Sin                   0.047774    0.218573   0.108148    0.702561   \n",
      "Wind_Dir_Cos                   0.045801    0.214012   0.120396    0.840466   \n",
      "\n",
      "                                SMAPE  \n",
      "Temperature                 15.641465  \n",
      "Precipitation_accumulated    2.099777  \n",
      "Humidity                     2.967926  \n",
      "Wind_Speed_kmh             159.229597  \n",
      "Soil_Moisture                1.524960  \n",
      "Soil_Temperature            25.860146  \n",
      "Wind_Dir_Sin               146.979353  \n",
      "Wind_Dir_Cos                27.810820  \n",
      "The SMAPE for this fold was 47.764255497966275\n",
      "Results for trial 3 saved to optuna_iteration_metrics/trial_3.json\n",
      "Current value: 47.764255497966275, Current params: {'input_chunk_length': 13, 'd_model': 128, 'num_encoder_layers': 1, 'num_decoder_layers': 4, 'activation': 'ReGLU', 'dropout': 0.2852511718561028, 'batch_size': 19, 'lr': 0.00022087337191132757}\n",
      "Best value: 45.48933237480024, Best params: {'input_chunk_length': 16, 'd_model': 256, 'num_encoder_layers': 1, 'num_decoder_layers': 1, 'activation': 'GLU', 'dropout': 0.14725994883862273, 'batch_size': 35, 'lr': 0.004896094498421687}\n",
      "\n",
      "Starting Trial 4\n",
      "Hyperparameters: {'input_chunk_length': 14, 'd_model': 64, 'num_encoder_layers': 2, 'num_decoder_layers': 1, 'activation': 'SwiGLU', 'dropout': 0.22899250479854744, 'batch_size': 20, 'lr': 0.0021602192762411035}\n",
      "\n",
      "Training the model...\n",
      "Train set: 6647 samples\n",
      "Validation set: 1662 samples\n"
     ]
    },
    {
     "data": {
      "text/plain": [
       "Sanity Checking: |          | 0/? [00:00<?, ?it/s]"
      ],
      "application/vnd.jupyter.widget-view+json": {
       "version_major": 2,
       "version_minor": 0,
       "model_id": "78207b11572b4b878b47d05d8771c994"
      }
     },
     "metadata": {},
     "output_type": "display_data"
    },
    {
     "data": {
      "text/plain": [
       "Training: |          | 0/? [00:00<?, ?it/s]"
      ],
      "application/vnd.jupyter.widget-view+json": {
       "version_major": 2,
       "version_minor": 0,
       "model_id": "fc691d6f58bf4175b44e4dd64a999a87"
      }
     },
     "metadata": {},
     "output_type": "display_data"
    },
    {
     "data": {
      "text/plain": [
       "Validation: |          | 0/? [00:00<?, ?it/s]"
      ],
      "application/vnd.jupyter.widget-view+json": {
       "version_major": 2,
       "version_minor": 0,
       "model_id": "f0de8ab9904b4124806942da13028192"
      }
     },
     "metadata": {},
     "output_type": "display_data"
    },
    {
     "name": "stderr",
     "output_type": "stream",
     "text": [
      "Metric val_loss improved. New best score: 0.027\n"
     ]
    },
    {
     "data": {
      "text/plain": [
       "Validation: |          | 0/? [00:00<?, ?it/s]"
      ],
      "application/vnd.jupyter.widget-view+json": {
       "version_major": 2,
       "version_minor": 0,
       "model_id": "a04fdffafa314a6fb5b02d86a5e91300"
      }
     },
     "metadata": {},
     "output_type": "display_data"
    },
    {
     "data": {
      "text/plain": [
       "Validation: |          | 0/? [00:00<?, ?it/s]"
      ],
      "application/vnd.jupyter.widget-view+json": {
       "version_major": 2,
       "version_minor": 0,
       "model_id": "b604975892db4766b7265fd8d392e336"
      }
     },
     "metadata": {},
     "output_type": "display_data"
    },
    {
     "name": "stderr",
     "output_type": "stream",
     "text": [
      "Metric val_loss improved by 0.008 >= min_delta = 0.001. New best score: 0.019\n"
     ]
    },
    {
     "data": {
      "text/plain": [
       "Validation: |          | 0/? [00:00<?, ?it/s]"
      ],
      "application/vnd.jupyter.widget-view+json": {
       "version_major": 2,
       "version_minor": 0,
       "model_id": "b98695b4ff7a4ca5bc77d8d223924add"
      }
     },
     "metadata": {},
     "output_type": "display_data"
    },
    {
     "data": {
      "text/plain": [
       "Validation: |          | 0/? [00:00<?, ?it/s]"
      ],
      "application/vnd.jupyter.widget-view+json": {
       "version_major": 2,
       "version_minor": 0,
       "model_id": "92d5b6d827d94f0e8b55ab45cebe4501"
      }
     },
     "metadata": {},
     "output_type": "display_data"
    },
    {
     "name": "stderr",
     "output_type": "stream",
     "text": [
      "Metric val_loss improved by 0.002 >= min_delta = 0.001. New best score: 0.017\n"
     ]
    },
    {
     "data": {
      "text/plain": [
       "Validation: |          | 0/? [00:00<?, ?it/s]"
      ],
      "application/vnd.jupyter.widget-view+json": {
       "version_major": 2,
       "version_minor": 0,
       "model_id": "f729c7ebe3c34abbb2e0162ccd70bddc"
      }
     },
     "metadata": {},
     "output_type": "display_data"
    },
    {
     "name": "stderr",
     "output_type": "stream",
     "text": [
      "Metric val_loss improved by 0.002 >= min_delta = 0.001. New best score: 0.015\n"
     ]
    },
    {
     "data": {
      "text/plain": [
       "Validation: |          | 0/? [00:00<?, ?it/s]"
      ],
      "application/vnd.jupyter.widget-view+json": {
       "version_major": 2,
       "version_minor": 0,
       "model_id": "2425229c4cfb4b7da1b38f73e94b24a8"
      }
     },
     "metadata": {},
     "output_type": "display_data"
    },
    {
     "data": {
      "text/plain": [
       "Validation: |          | 0/? [00:00<?, ?it/s]"
      ],
      "application/vnd.jupyter.widget-view+json": {
       "version_major": 2,
       "version_minor": 0,
       "model_id": "0cb57b2b3e6f4ab79906cba666537349"
      }
     },
     "metadata": {},
     "output_type": "display_data"
    },
    {
     "name": "stderr",
     "output_type": "stream",
     "text": [
      "Metric val_loss improved by 0.002 >= min_delta = 0.001. New best score: 0.013\n"
     ]
    },
    {
     "data": {
      "text/plain": [
       "Validation: |          | 0/? [00:00<?, ?it/s]"
      ],
      "application/vnd.jupyter.widget-view+json": {
       "version_major": 2,
       "version_minor": 0,
       "model_id": "24365724fdc742e9a673a7c6392c04a9"
      }
     },
     "metadata": {},
     "output_type": "display_data"
    },
    {
     "data": {
      "text/plain": [
       "Validation: |          | 0/? [00:00<?, ?it/s]"
      ],
      "application/vnd.jupyter.widget-view+json": {
       "version_major": 2,
       "version_minor": 0,
       "model_id": "112b91c4f5534245bf590c982dc58f77"
      }
     },
     "metadata": {},
     "output_type": "display_data"
    },
    {
     "data": {
      "text/plain": [
       "Validation: |          | 0/? [00:00<?, ?it/s]"
      ],
      "application/vnd.jupyter.widget-view+json": {
       "version_major": 2,
       "version_minor": 0,
       "model_id": "c6e9168b1e3b4a73babe26d4eade164c"
      }
     },
     "metadata": {},
     "output_type": "display_data"
    },
    {
     "data": {
      "text/plain": [
       "Validation: |          | 0/? [00:00<?, ?it/s]"
      ],
      "application/vnd.jupyter.widget-view+json": {
       "version_major": 2,
       "version_minor": 0,
       "model_id": "42ada47338d5496abdb552fd56b92f63"
      }
     },
     "metadata": {},
     "output_type": "display_data"
    },
    {
     "data": {
      "text/plain": [
       "Validation: |          | 0/? [00:00<?, ?it/s]"
      ],
      "application/vnd.jupyter.widget-view+json": {
       "version_major": 2,
       "version_minor": 0,
       "model_id": "b8f5dcba6e57442d9a2c8d3edfea0929"
      }
     },
     "metadata": {},
     "output_type": "display_data"
    },
    {
     "data": {
      "text/plain": [
       "Validation: |          | 0/? [00:00<?, ?it/s]"
      ],
      "application/vnd.jupyter.widget-view+json": {
       "version_major": 2,
       "version_minor": 0,
       "model_id": "4ca3e10c4a054c3296e655f12f246d5b"
      }
     },
     "metadata": {},
     "output_type": "display_data"
    },
    {
     "data": {
      "text/plain": [
       "Validation: |          | 0/? [00:00<?, ?it/s]"
      ],
      "application/vnd.jupyter.widget-view+json": {
       "version_major": 2,
       "version_minor": 0,
       "model_id": "d0f412b6cfbe49fd8074fb2a72f96612"
      }
     },
     "metadata": {},
     "output_type": "display_data"
    },
    {
     "data": {
      "text/plain": [
       "Validation: |          | 0/? [00:00<?, ?it/s]"
      ],
      "application/vnd.jupyter.widget-view+json": {
       "version_major": 2,
       "version_minor": 0,
       "model_id": "becdf6e797824879905a98d242a3dabe"
      }
     },
     "metadata": {},
     "output_type": "display_data"
    },
    {
     "data": {
      "text/plain": [
       "Validation: |          | 0/? [00:00<?, ?it/s]"
      ],
      "application/vnd.jupyter.widget-view+json": {
       "version_major": 2,
       "version_minor": 0,
       "model_id": "f5f77b8fa4ab4b9fb5138fd5361a882f"
      }
     },
     "metadata": {},
     "output_type": "display_data"
    },
    {
     "data": {
      "text/plain": [
       "Validation: |          | 0/? [00:00<?, ?it/s]"
      ],
      "application/vnd.jupyter.widget-view+json": {
       "version_major": 2,
       "version_minor": 0,
       "model_id": "3c792620353d4fa0876db41be7a16bf8"
      }
     },
     "metadata": {},
     "output_type": "display_data"
    },
    {
     "name": "stderr",
     "output_type": "stream",
     "text": [
      "Monitored metric val_loss did not improve in the last 10 records. Best score: 0.013. Signaling Trainer to stop.\n",
      "/home/eduardo/Documentos/Water-Cycle-Neural-Network/venv/lib/python3.12/site-packages/torch/nn/modules/transformer.py:382: UserWarning: enable_nested_tensor is True, but self.use_nested_tensor is False because encoder_layer.self_attn.batch_first was not True(use batch_first for better inference performance)\n",
      "  warnings.warn(\n",
      "GPU available: True (cuda), used: True\n",
      "TPU available: False, using: 0 TPU cores\n",
      "HPU available: False, using: 0 HPUs\n",
      "LOCAL_RANK: 0 - CUDA_VISIBLE_DEVICES: [0]\n",
      "/home/eduardo/Documentos/Water-Cycle-Neural-Network/venv/lib/python3.12/site-packages/pytorch_lightning/trainer/connectors/data_connector.py:425: The 'predict_dataloader' does not have many workers which may be a bottleneck. Consider increasing the value of the `num_workers` argument` to `num_workers=11` in the `DataLoader` to improve performance.\n"
     ]
    },
    {
     "name": "stdout",
     "output_type": "stream",
     "text": [
      "Model loaded from checkpoint for trial 4\n"
     ]
    },
    {
     "name": "stderr",
     "output_type": "stream",
     "text": [
      "[I 2025-05-19 14:38:42,349] Trial 4 finished with value: 46.987072894350234 and parameters: {'input_chunk_length': 14, 'd_model': 64, 'num_encoder_layers': 2, 'num_decoder_layers': 1, 'activation': 'SwiGLU', 'dropout': 0.22899250479854744, 'batch_size': 20, 'lr': 0.0021602192762411035}. Best is trial 2 with value: 45.48933237480024.\n",
      "Specified future encoders in `add_encoders` at model creation but model does not accept future covariates. future encoders will be ignored.\n",
      "/home/eduardo/Documentos/Water-Cycle-Neural-Network/venv/lib/python3.12/site-packages/torch/nn/modules/transformer.py:382: UserWarning: enable_nested_tensor is True, but self.use_nested_tensor is False because encoder_layer.self_attn.batch_first was not True(use batch_first for better inference performance)\n",
      "  warnings.warn(\n",
      "GPU available: True (cuda), used: True\n",
      "TPU available: False, using: 0 TPU cores\n",
      "HPU available: False, using: 0 HPUs\n",
      "LOCAL_RANK: 0 - CUDA_VISIBLE_DEVICES: [0]\n",
      "\n",
      "  | Name                | Type                | Params | Mode \n",
      "--------------------------------------------------------------------\n",
      "0 | criterion           | HuberLoss           | 0      | train\n",
      "1 | train_criterion     | HuberLoss           | 0      | train\n",
      "2 | val_criterion       | HuberLoss           | 0      | train\n",
      "3 | train_metrics       | MetricCollection    | 0      | train\n",
      "4 | val_metrics         | MetricCollection    | 0      | train\n",
      "5 | encoder             | Linear              | 2.4 K  | train\n",
      "6 | positional_encoding | _PositionalEncoding | 0      | train\n",
      "7 | transformer         | Transformer         | 1.8 M  | train\n",
      "8 | decoder             | Linear              | 1.0 K  | train\n",
      "--------------------------------------------------------------------\n",
      "1.8 M     Trainable params\n",
      "0         Non-trainable params\n",
      "1.8 M     Total params\n",
      "7.130     Total estimated model params size (MB)\n",
      "96        Modules in train mode\n",
      "0         Modules in eval mode\n"
     ]
    },
    {
     "name": "stdout",
     "output_type": "stream",
     "text": [
      "Starting time series consistency verification...\n",
      "\n",
      "Performance metrics:\n",
      "                                    MSE        RMSE        MAE          R2  \\\n",
      "Temperature                    1.007831    1.003908   0.758008    0.703958   \n",
      "Precipitation_accumulated    203.686914   14.271892  10.594828 -213.600741   \n",
      "Humidity                       3.702814    1.924270   1.324327    0.943059   \n",
      "Wind_Speed_kmh                 0.098017    0.313076   0.230063    0.711977   \n",
      "Soil_Moisture              20361.485969  142.693679  89.452242    0.972483   \n",
      "Soil_Temperature               0.550864    0.742202   0.494617    0.901845   \n",
      "Wind_Dir_Sin                   0.047564    0.218093   0.110549    0.703868   \n",
      "Wind_Dir_Cos                   0.042955    0.207255   0.098201    0.850381   \n",
      "\n",
      "                                SMAPE  \n",
      "Temperature                 12.988847  \n",
      "Precipitation_accumulated    2.280490  \n",
      "Humidity                     1.546667  \n",
      "Wind_Speed_kmh             166.127435  \n",
      "Soil_Moisture                1.459714  \n",
      "Soil_Temperature            16.069294  \n",
      "Wind_Dir_Sin               150.588556  \n",
      "Wind_Dir_Cos                24.835579  \n",
      "The SMAPE for this fold was 46.987072894350234\n",
      "Results for trial 4 saved to optuna_iteration_metrics/trial_4.json\n",
      "Current value: 46.987072894350234, Current params: {'input_chunk_length': 14, 'd_model': 64, 'num_encoder_layers': 2, 'num_decoder_layers': 1, 'activation': 'SwiGLU', 'dropout': 0.22899250479854744, 'batch_size': 20, 'lr': 0.0021602192762411035}\n",
      "Best value: 45.48933237480024, Best params: {'input_chunk_length': 16, 'd_model': 256, 'num_encoder_layers': 1, 'num_decoder_layers': 1, 'activation': 'GLU', 'dropout': 0.14725994883862273, 'batch_size': 35, 'lr': 0.004896094498421687}\n",
      "\n",
      "Starting Trial 5\n",
      "Hyperparameters: {'input_chunk_length': 23, 'd_model': 128, 'num_encoder_layers': 1, 'num_decoder_layers': 3, 'activation': 'GLU', 'dropout': 0.01904956827241625, 'batch_size': 26, 'lr': 0.0001978269625447899}\n",
      "\n",
      "Training the model...\n",
      "Train set: 6647 samples\n",
      "Validation set: 1662 samples\n"
     ]
    },
    {
     "data": {
      "text/plain": [
       "Sanity Checking: |          | 0/? [00:00<?, ?it/s]"
      ],
      "application/vnd.jupyter.widget-view+json": {
       "version_major": 2,
       "version_minor": 0,
       "model_id": "257ac4973d2e484f96b4c3e674850f24"
      }
     },
     "metadata": {},
     "output_type": "display_data"
    },
    {
     "data": {
      "text/plain": [
       "Training: |          | 0/? [00:00<?, ?it/s]"
      ],
      "application/vnd.jupyter.widget-view+json": {
       "version_major": 2,
       "version_minor": 0,
       "model_id": "d6bd3bb9459e483d9ff0cef55f24f16b"
      }
     },
     "metadata": {},
     "output_type": "display_data"
    },
    {
     "data": {
      "text/plain": [
       "Validation: |          | 0/? [00:00<?, ?it/s]"
      ],
      "application/vnd.jupyter.widget-view+json": {
       "version_major": 2,
       "version_minor": 0,
       "model_id": "844b6316f6164685baca6a83ea65c5cd"
      }
     },
     "metadata": {},
     "output_type": "display_data"
    },
    {
     "name": "stderr",
     "output_type": "stream",
     "text": [
      "Metric val_loss improved. New best score: 0.020\n"
     ]
    },
    {
     "data": {
      "text/plain": [
       "Validation: |          | 0/? [00:00<?, ?it/s]"
      ],
      "application/vnd.jupyter.widget-view+json": {
       "version_major": 2,
       "version_minor": 0,
       "model_id": "254b73a135b84cb28a0d2cc1690b5c43"
      }
     },
     "metadata": {},
     "output_type": "display_data"
    },
    {
     "name": "stderr",
     "output_type": "stream",
     "text": [
      "Metric val_loss improved by 0.004 >= min_delta = 0.001. New best score: 0.016\n"
     ]
    },
    {
     "data": {
      "text/plain": [
       "Validation: |          | 0/? [00:00<?, ?it/s]"
      ],
      "application/vnd.jupyter.widget-view+json": {
       "version_major": 2,
       "version_minor": 0,
       "model_id": "c35a327cdcf548ca8e26d2ec4cc0e258"
      }
     },
     "metadata": {},
     "output_type": "display_data"
    },
    {
     "name": "stderr",
     "output_type": "stream",
     "text": [
      "Metric val_loss improved by 0.002 >= min_delta = 0.001. New best score: 0.015\n"
     ]
    },
    {
     "data": {
      "text/plain": [
       "Validation: |          | 0/? [00:00<?, ?it/s]"
      ],
      "application/vnd.jupyter.widget-view+json": {
       "version_major": 2,
       "version_minor": 0,
       "model_id": "71d4c79334244cad9a4aec742022c6ec"
      }
     },
     "metadata": {},
     "output_type": "display_data"
    },
    {
     "data": {
      "text/plain": [
       "Validation: |          | 0/? [00:00<?, ?it/s]"
      ],
      "application/vnd.jupyter.widget-view+json": {
       "version_major": 2,
       "version_minor": 0,
       "model_id": "700fc74ad6c447a8ba1388dee3162887"
      }
     },
     "metadata": {},
     "output_type": "display_data"
    },
    {
     "name": "stderr",
     "output_type": "stream",
     "text": [
      "Metric val_loss improved by 0.001 >= min_delta = 0.001. New best score: 0.013\n"
     ]
    },
    {
     "data": {
      "text/plain": [
       "Validation: |          | 0/? [00:00<?, ?it/s]"
      ],
      "application/vnd.jupyter.widget-view+json": {
       "version_major": 2,
       "version_minor": 0,
       "model_id": "b3855b2a62f44223ab201f3dacbc31f2"
      }
     },
     "metadata": {},
     "output_type": "display_data"
    },
    {
     "data": {
      "text/plain": [
       "Validation: |          | 0/? [00:00<?, ?it/s]"
      ],
      "application/vnd.jupyter.widget-view+json": {
       "version_major": 2,
       "version_minor": 0,
       "model_id": "6ff043fe3ab94e4b8dbfefb23b209322"
      }
     },
     "metadata": {},
     "output_type": "display_data"
    },
    {
     "data": {
      "text/plain": [
       "Validation: |          | 0/? [00:00<?, ?it/s]"
      ],
      "application/vnd.jupyter.widget-view+json": {
       "version_major": 2,
       "version_minor": 0,
       "model_id": "5d57993703a446578e8afaa1e7883998"
      }
     },
     "metadata": {},
     "output_type": "display_data"
    },
    {
     "data": {
      "text/plain": [
       "Validation: |          | 0/? [00:00<?, ?it/s]"
      ],
      "application/vnd.jupyter.widget-view+json": {
       "version_major": 2,
       "version_minor": 0,
       "model_id": "980f5eb8dda34b19954ebb84a61b5646"
      }
     },
     "metadata": {},
     "output_type": "display_data"
    },
    {
     "data": {
      "text/plain": [
       "Validation: |          | 0/? [00:00<?, ?it/s]"
      ],
      "application/vnd.jupyter.widget-view+json": {
       "version_major": 2,
       "version_minor": 0,
       "model_id": "0265f7b680c84a08afa7b7301eaeee37"
      }
     },
     "metadata": {},
     "output_type": "display_data"
    },
    {
     "data": {
      "text/plain": [
       "Validation: |          | 0/? [00:00<?, ?it/s]"
      ],
      "application/vnd.jupyter.widget-view+json": {
       "version_major": 2,
       "version_minor": 0,
       "model_id": "d7806fbe817e41319b759059425b72e8"
      }
     },
     "metadata": {},
     "output_type": "display_data"
    },
    {
     "data": {
      "text/plain": [
       "Validation: |          | 0/? [00:00<?, ?it/s]"
      ],
      "application/vnd.jupyter.widget-view+json": {
       "version_major": 2,
       "version_minor": 0,
       "model_id": "53a6c272c28644f9aae11ed7f448608f"
      }
     },
     "metadata": {},
     "output_type": "display_data"
    },
    {
     "data": {
      "text/plain": [
       "Validation: |          | 0/? [00:00<?, ?it/s]"
      ],
      "application/vnd.jupyter.widget-view+json": {
       "version_major": 2,
       "version_minor": 0,
       "model_id": "89d81a445a284b8c9cb337e02a82e398"
      }
     },
     "metadata": {},
     "output_type": "display_data"
    },
    {
     "data": {
      "text/plain": [
       "Validation: |          | 0/? [00:00<?, ?it/s]"
      ],
      "application/vnd.jupyter.widget-view+json": {
       "version_major": 2,
       "version_minor": 0,
       "model_id": "f9ba56a50fdb495291f3ac7980eef755"
      }
     },
     "metadata": {},
     "output_type": "display_data"
    },
    {
     "data": {
      "text/plain": [
       "Validation: |          | 0/? [00:00<?, ?it/s]"
      ],
      "application/vnd.jupyter.widget-view+json": {
       "version_major": 2,
       "version_minor": 0,
       "model_id": "f7e97277318449f592ec5191a00f8641"
      }
     },
     "metadata": {},
     "output_type": "display_data"
    },
    {
     "name": "stderr",
     "output_type": "stream",
     "text": [
      "Monitored metric val_loss did not improve in the last 10 records. Best score: 0.013. Signaling Trainer to stop.\n",
      "/home/eduardo/Documentos/Water-Cycle-Neural-Network/venv/lib/python3.12/site-packages/torch/nn/modules/transformer.py:382: UserWarning: enable_nested_tensor is True, but self.use_nested_tensor is False because encoder_layer.self_attn.batch_first was not True(use batch_first for better inference performance)\n",
      "  warnings.warn(\n",
      "GPU available: True (cuda), used: True\n",
      "TPU available: False, using: 0 TPU cores\n",
      "HPU available: False, using: 0 HPUs\n",
      "LOCAL_RANK: 0 - CUDA_VISIBLE_DEVICES: [0]\n",
      "/home/eduardo/Documentos/Water-Cycle-Neural-Network/venv/lib/python3.12/site-packages/pytorch_lightning/trainer/connectors/data_connector.py:425: The 'predict_dataloader' does not have many workers which may be a bottleneck. Consider increasing the value of the `num_workers` argument` to `num_workers=11` in the `DataLoader` to improve performance.\n"
     ]
    },
    {
     "name": "stdout",
     "output_type": "stream",
     "text": [
      "Model loaded from checkpoint for trial 5\n"
     ]
    },
    {
     "name": "stderr",
     "output_type": "stream",
     "text": [
      "[I 2025-05-19 14:39:54,866] Trial 5 finished with value: 47.3208351171511 and parameters: {'input_chunk_length': 23, 'd_model': 128, 'num_encoder_layers': 1, 'num_decoder_layers': 3, 'activation': 'GLU', 'dropout': 0.01904956827241625, 'batch_size': 26, 'lr': 0.0001978269625447899}. Best is trial 2 with value: 45.48933237480024.\n",
      "Specified future encoders in `add_encoders` at model creation but model does not accept future covariates. future encoders will be ignored.\n",
      "/home/eduardo/Documentos/Water-Cycle-Neural-Network/venv/lib/python3.12/site-packages/torch/nn/modules/transformer.py:382: UserWarning: enable_nested_tensor is True, but self.use_nested_tensor is False because encoder_layer.self_attn.batch_first was not True(use batch_first for better inference performance)\n",
      "  warnings.warn(\n",
      "GPU available: True (cuda), used: True\n",
      "TPU available: False, using: 0 TPU cores\n",
      "HPU available: False, using: 0 HPUs\n",
      "LOCAL_RANK: 0 - CUDA_VISIBLE_DEVICES: [0]\n",
      "\n",
      "  | Name                | Type                | Params | Mode \n",
      "--------------------------------------------------------------------\n",
      "0 | criterion           | HuberLoss           | 0      | train\n",
      "1 | train_criterion     | HuberLoss           | 0      | train\n",
      "2 | val_criterion       | HuberLoss           | 0      | train\n",
      "3 | train_metrics       | MetricCollection    | 0      | train\n",
      "4 | val_metrics         | MetricCollection    | 0      | train\n",
      "5 | encoder             | Linear              | 4.9 K  | train\n",
      "6 | positional_encoding | _PositionalEncoding | 0      | train\n",
      "7 | transformer         | Transformer         | 3.0 M  | train\n",
      "8 | decoder             | Linear              | 2.1 K  | train\n",
      "--------------------------------------------------------------------\n",
      "3.0 M     Trainable params\n",
      "0         Non-trainable params\n",
      "3.0 M     Total params\n",
      "12.130    Total estimated model params size (MB)\n",
      "71        Modules in train mode\n",
      "0         Modules in eval mode\n"
     ]
    },
    {
     "name": "stdout",
     "output_type": "stream",
     "text": [
      "Starting time series consistency verification...\n",
      "\n",
      "Performance metrics:\n",
      "                                    MSE        RMSE         MAE          R2  \\\n",
      "Temperature                    0.907307    0.952527    0.662691    0.733486   \n",
      "Precipitation_accumulated    146.574351   12.106789   10.770326 -153.428008   \n",
      "Humidity                       5.790657    2.406378    1.848706    0.910952   \n",
      "Wind_Speed_kmh                 0.091460    0.302423    0.148836    0.731244   \n",
      "Soil_Moisture              31655.521990  177.919988  109.220929    0.957221   \n",
      "Soil_Temperature               0.374336    0.611830    0.451912    0.933300   \n",
      "Wind_Dir_Sin                   0.052040    0.228122    0.144903    0.676005   \n",
      "Wind_Dir_Cos                   0.052501    0.229131    0.138807    0.817128   \n",
      "\n",
      "                                SMAPE  \n",
      "Temperature                 11.008816  \n",
      "Precipitation_accumulated    2.312493  \n",
      "Humidity                     2.245144  \n",
      "Wind_Speed_kmh             163.952029  \n",
      "Soil_Moisture                1.770001  \n",
      "Soil_Temperature            14.769042  \n",
      "Wind_Dir_Sin               145.123686  \n",
      "Wind_Dir_Cos                37.385471  \n",
      "The SMAPE for this fold was 47.3208351171511\n",
      "Results for trial 5 saved to optuna_iteration_metrics/trial_5.json\n",
      "Current value: 47.3208351171511, Current params: {'input_chunk_length': 23, 'd_model': 128, 'num_encoder_layers': 1, 'num_decoder_layers': 3, 'activation': 'GLU', 'dropout': 0.01904956827241625, 'batch_size': 26, 'lr': 0.0001978269625447899}\n",
      "Best value: 45.48933237480024, Best params: {'input_chunk_length': 16, 'd_model': 256, 'num_encoder_layers': 1, 'num_decoder_layers': 1, 'activation': 'GLU', 'dropout': 0.14725994883862273, 'batch_size': 35, 'lr': 0.004896094498421687}\n",
      "\n",
      "Starting Trial 6\n",
      "Hyperparameters: {'input_chunk_length': 51, 'd_model': 256, 'num_encoder_layers': 2, 'num_decoder_layers': 1, 'activation': 'SwiGLU', 'dropout': 0.22392159891923438, 'batch_size': 28, 'lr': 0.00198288952491209}\n",
      "\n",
      "Training the model...\n",
      "Train set: 6647 samples\n",
      "Validation set: 1662 samples\n"
     ]
    },
    {
     "data": {
      "text/plain": [
       "Sanity Checking: |          | 0/? [00:00<?, ?it/s]"
      ],
      "application/vnd.jupyter.widget-view+json": {
       "version_major": 2,
       "version_minor": 0,
       "model_id": "db3a4d47e89742ef9c59e9e05c1c3cd5"
      }
     },
     "metadata": {},
     "output_type": "display_data"
    },
    {
     "data": {
      "text/plain": [
       "Training: |          | 0/? [00:00<?, ?it/s]"
      ],
      "application/vnd.jupyter.widget-view+json": {
       "version_major": 2,
       "version_minor": 0,
       "model_id": "686603c28ee74994a1c7de7432057b30"
      }
     },
     "metadata": {},
     "output_type": "display_data"
    },
    {
     "data": {
      "text/plain": [
       "Validation: |          | 0/? [00:00<?, ?it/s]"
      ],
      "application/vnd.jupyter.widget-view+json": {
       "version_major": 2,
       "version_minor": 0,
       "model_id": "300c0d0049e74c778b86dfcf3606ea66"
      }
     },
     "metadata": {},
     "output_type": "display_data"
    },
    {
     "name": "stderr",
     "output_type": "stream",
     "text": [
      "[I 2025-05-19 14:40:02,442] Trial 6 pruned. Trial was pruned at epoch 0.\n"
     ]
    },
    {
     "name": "stdout",
     "output_type": "stream",
     "text": [
      "Current value: 0.033243631402060804, Current params: {'input_chunk_length': 51, 'd_model': 256, 'num_encoder_layers': 2, 'num_decoder_layers': 1, 'activation': 'SwiGLU', 'dropout': 0.22392159891923438, 'batch_size': 28, 'lr': 0.00198288952491209}\n",
      "Best value: 45.48933237480024, Best params: {'input_chunk_length': 16, 'd_model': 256, 'num_encoder_layers': 1, 'num_decoder_layers': 1, 'activation': 'GLU', 'dropout': 0.14725994883862273, 'batch_size': 35, 'lr': 0.004896094498421687}\n",
      "\n",
      "Starting Trial 7\n",
      "Hyperparameters: {'input_chunk_length': 67, 'd_model': 64, 'num_encoder_layers': 4, 'num_decoder_layers': 3, 'activation': 'ReLU', 'dropout': 0.14118318945498265, 'batch_size': 51, 'lr': 0.0023994003685760563}\n",
      "\n",
      "Training the model...\n",
      "Train set: 6647 samples\n",
      "Validation set: 1662 samples\n"
     ]
    },
    {
     "name": "stderr",
     "output_type": "stream",
     "text": [
      "Specified future encoders in `add_encoders` at model creation but model does not accept future covariates. future encoders will be ignored.\n",
      "/home/eduardo/Documentos/Water-Cycle-Neural-Network/venv/lib/python3.12/site-packages/torch/nn/modules/transformer.py:382: UserWarning: enable_nested_tensor is True, but self.use_nested_tensor is False because encoder_layer.self_attn.batch_first was not True(use batch_first for better inference performance)\n",
      "  warnings.warn(\n",
      "GPU available: True (cuda), used: True\n",
      "TPU available: False, using: 0 TPU cores\n",
      "HPU available: False, using: 0 HPUs\n",
      "LOCAL_RANK: 0 - CUDA_VISIBLE_DEVICES: [0]\n",
      "\n",
      "  | Name                | Type                | Params | Mode \n",
      "--------------------------------------------------------------------\n",
      "0 | criterion           | HuberLoss           | 0      | train\n",
      "1 | train_criterion     | HuberLoss           | 0      | train\n",
      "2 | val_criterion       | HuberLoss           | 0      | train\n",
      "3 | train_metrics       | MetricCollection    | 0      | train\n",
      "4 | val_metrics         | MetricCollection    | 0      | train\n",
      "5 | encoder             | Linear              | 1.2 K  | train\n",
      "6 | positional_encoding | _PositionalEncoding | 0      | train\n",
      "7 | transformer         | Transformer         | 1.1 M  | train\n",
      "8 | decoder             | Linear              | 520    | train\n",
      "--------------------------------------------------------------------\n",
      "1.1 M     Trainable params\n",
      "0         Non-trainable params\n",
      "1.1 M     Total params\n",
      "4.385     Total estimated model params size (MB)\n",
      "140       Modules in train mode\n",
      "0         Modules in eval mode\n"
     ]
    },
    {
     "data": {
      "text/plain": [
       "Sanity Checking: |          | 0/? [00:00<?, ?it/s]"
      ],
      "application/vnd.jupyter.widget-view+json": {
       "version_major": 2,
       "version_minor": 0,
       "model_id": "aea43760053e4ad8bf50185b68f0f7d4"
      }
     },
     "metadata": {},
     "output_type": "display_data"
    },
    {
     "data": {
      "text/plain": [
       "Training: |          | 0/? [00:00<?, ?it/s]"
      ],
      "application/vnd.jupyter.widget-view+json": {
       "version_major": 2,
       "version_minor": 0,
       "model_id": "4b012edcfc1d416a8da2c67830991672"
      }
     },
     "metadata": {},
     "output_type": "display_data"
    },
    {
     "data": {
      "text/plain": [
       "Validation: |          | 0/? [00:00<?, ?it/s]"
      ],
      "application/vnd.jupyter.widget-view+json": {
       "version_major": 2,
       "version_minor": 0,
       "model_id": "f02583e0feb846fc97429f894feead7f"
      }
     },
     "metadata": {},
     "output_type": "display_data"
    },
    {
     "name": "stderr",
     "output_type": "stream",
     "text": [
      "[I 2025-05-19 14:41:02,787] Trial 7 pruned. Trial was pruned at epoch 0.\n",
      "Specified future encoders in `add_encoders` at model creation but model does not accept future covariates. future encoders will be ignored.\n",
      "/home/eduardo/Documentos/Water-Cycle-Neural-Network/venv/lib/python3.12/site-packages/torch/nn/modules/transformer.py:382: UserWarning: enable_nested_tensor is True, but self.use_nested_tensor is False because encoder_layer.self_attn.batch_first was not True(use batch_first for better inference performance)\n",
      "  warnings.warn(\n",
      "GPU available: True (cuda), used: True\n",
      "TPU available: False, using: 0 TPU cores\n",
      "HPU available: False, using: 0 HPUs\n",
      "LOCAL_RANK: 0 - CUDA_VISIBLE_DEVICES: [0]\n",
      "\n",
      "  | Name                | Type                | Params | Mode \n",
      "--------------------------------------------------------------------\n",
      "0 | criterion           | HuberLoss           | 0      | train\n",
      "1 | train_criterion     | HuberLoss           | 0      | train\n",
      "2 | val_criterion       | HuberLoss           | 0      | train\n",
      "3 | train_metrics       | MetricCollection    | 0      | train\n",
      "4 | val_metrics         | MetricCollection    | 0      | train\n",
      "5 | encoder             | Linear              | 1.2 K  | train\n",
      "6 | positional_encoding | _PositionalEncoding | 0      | train\n",
      "7 | transformer         | Transformer         | 962 K  | train\n",
      "8 | decoder             | Linear              | 520    | train\n",
      "--------------------------------------------------------------------\n",
      "963 K     Trainable params\n",
      "0         Non-trainable params\n",
      "963 K     Total params\n",
      "3.855     Total estimated model params size (MB)\n",
      "128       Modules in train mode\n",
      "0         Modules in eval mode\n"
     ]
    },
    {
     "name": "stdout",
     "output_type": "stream",
     "text": [
      "Current value: 0.045061139277984115, Current params: {'input_chunk_length': 67, 'd_model': 64, 'num_encoder_layers': 4, 'num_decoder_layers': 3, 'activation': 'ReLU', 'dropout': 0.14118318945498265, 'batch_size': 51, 'lr': 0.0023994003685760563}\n",
      "Best value: 45.48933237480024, Best params: {'input_chunk_length': 16, 'd_model': 256, 'num_encoder_layers': 1, 'num_decoder_layers': 1, 'activation': 'GLU', 'dropout': 0.14725994883862273, 'batch_size': 35, 'lr': 0.004896094498421687}\n",
      "\n",
      "Starting Trial 8\n",
      "Hyperparameters: {'input_chunk_length': 13, 'd_model': 64, 'num_encoder_layers': 2, 'num_decoder_layers': 4, 'activation': 'ReLU', 'dropout': 0.04596753758554196, 'batch_size': 35, 'lr': 0.0001741564829190202}\n",
      "\n",
      "Training the model...\n",
      "Train set: 6647 samples\n",
      "Validation set: 1662 samples\n"
     ]
    },
    {
     "data": {
      "text/plain": [
       "Sanity Checking: |          | 0/? [00:00<?, ?it/s]"
      ],
      "application/vnd.jupyter.widget-view+json": {
       "version_major": 2,
       "version_minor": 0,
       "model_id": "6befbe2b460b40d7b64f5e3280c80b9e"
      }
     },
     "metadata": {},
     "output_type": "display_data"
    },
    {
     "data": {
      "text/plain": [
       "Training: |          | 0/? [00:00<?, ?it/s]"
      ],
      "application/vnd.jupyter.widget-view+json": {
       "version_major": 2,
       "version_minor": 0,
       "model_id": "1bcb359ed3d841979f9f91aa1f06d269"
      }
     },
     "metadata": {},
     "output_type": "display_data"
    },
    {
     "data": {
      "text/plain": [
       "Validation: |          | 0/? [00:00<?, ?it/s]"
      ],
      "application/vnd.jupyter.widget-view+json": {
       "version_major": 2,
       "version_minor": 0,
       "model_id": "493c292031f64d7eb82e1036e4ed09c8"
      }
     },
     "metadata": {},
     "output_type": "display_data"
    },
    {
     "name": "stderr",
     "output_type": "stream",
     "text": [
      "Metric val_loss improved. New best score: 0.025\n"
     ]
    },
    {
     "data": {
      "text/plain": [
       "Validation: |          | 0/? [00:00<?, ?it/s]"
      ],
      "application/vnd.jupyter.widget-view+json": {
       "version_major": 2,
       "version_minor": 0,
       "model_id": "57b10f8923e9475dac653e890bd8eb4d"
      }
     },
     "metadata": {},
     "output_type": "display_data"
    },
    {
     "name": "stderr",
     "output_type": "stream",
     "text": [
      "Metric val_loss improved by 0.004 >= min_delta = 0.001. New best score: 0.021\n"
     ]
    },
    {
     "data": {
      "text/plain": [
       "Validation: |          | 0/? [00:00<?, ?it/s]"
      ],
      "application/vnd.jupyter.widget-view+json": {
       "version_major": 2,
       "version_minor": 0,
       "model_id": "9f57f314ca2f45778e3045cca2e38073"
      }
     },
     "metadata": {},
     "output_type": "display_data"
    },
    {
     "name": "stderr",
     "output_type": "stream",
     "text": [
      "[I 2025-05-19 14:41:16,323] Trial 8 pruned. Trial was pruned at epoch 2.\n",
      "Specified future encoders in `add_encoders` at model creation but model does not accept future covariates. future encoders will be ignored.\n",
      "/home/eduardo/Documentos/Water-Cycle-Neural-Network/venv/lib/python3.12/site-packages/torch/nn/modules/transformer.py:382: UserWarning: enable_nested_tensor is True, but self.use_nested_tensor is False because encoder_layer.self_attn.batch_first was not True(use batch_first for better inference performance)\n",
      "  warnings.warn(\n",
      "GPU available: True (cuda), used: True\n",
      "TPU available: False, using: 0 TPU cores\n",
      "HPU available: False, using: 0 HPUs\n",
      "LOCAL_RANK: 0 - CUDA_VISIBLE_DEVICES: [0]\n",
      "\n",
      "  | Name                | Type                | Params | Mode \n",
      "--------------------------------------------------------------------\n",
      "0 | criterion           | HuberLoss           | 0      | train\n",
      "1 | train_criterion     | HuberLoss           | 0      | train\n",
      "2 | val_criterion       | HuberLoss           | 0      | train\n",
      "3 | train_metrics       | MetricCollection    | 0      | train\n",
      "4 | val_metrics         | MetricCollection    | 0      | train\n",
      "5 | encoder             | Linear              | 2.4 K  | train\n",
      "6 | positional_encoding | _PositionalEncoding | 0      | train\n",
      "7 | transformer         | Transformer         | 3.0 M  | train\n",
      "8 | decoder             | Linear              | 1.0 K  | train\n",
      "--------------------------------------------------------------------\n",
      "3.0 M     Trainable params\n",
      "0         Non-trainable params\n",
      "3.0 M     Total params\n",
      "11.868    Total estimated model params size (MB)\n",
      "147       Modules in train mode\n",
      "0         Modules in eval mode\n"
     ]
    },
    {
     "name": "stdout",
     "output_type": "stream",
     "text": [
      "Current value: 0.021730530603308294, Current params: {'input_chunk_length': 13, 'd_model': 64, 'num_encoder_layers': 2, 'num_decoder_layers': 4, 'activation': 'ReLU', 'dropout': 0.04596753758554196, 'batch_size': 35, 'lr': 0.0001741564829190202}\n",
      "Best value: 45.48933237480024, Best params: {'input_chunk_length': 16, 'd_model': 256, 'num_encoder_layers': 1, 'num_decoder_layers': 1, 'activation': 'GLU', 'dropout': 0.14725994883862273, 'batch_size': 35, 'lr': 0.004896094498421687}\n",
      "\n",
      "Starting Trial 9\n",
      "Hyperparameters: {'input_chunk_length': 63, 'd_model': 128, 'num_encoder_layers': 4, 'num_decoder_layers': 3, 'activation': 'Bilinear', 'dropout': 0.0751387763993134, 'batch_size': 43, 'lr': 0.00012071739989523919}\n",
      "\n",
      "Training the model...\n",
      "Train set: 6647 samples\n",
      "Validation set: 1662 samples\n"
     ]
    },
    {
     "data": {
      "text/plain": [
       "Sanity Checking: |          | 0/? [00:00<?, ?it/s]"
      ],
      "application/vnd.jupyter.widget-view+json": {
       "version_major": 2,
       "version_minor": 0,
       "model_id": "59b676570712422e8a25eff7a783e058"
      }
     },
     "metadata": {},
     "output_type": "display_data"
    },
    {
     "data": {
      "text/plain": [
       "Training: |          | 0/? [00:00<?, ?it/s]"
      ],
      "application/vnd.jupyter.widget-view+json": {
       "version_major": 2,
       "version_minor": 0,
       "model_id": "419a683700084102870fce6e1ab24ad6"
      }
     },
     "metadata": {},
     "output_type": "display_data"
    },
    {
     "data": {
      "text/plain": [
       "Validation: |          | 0/? [00:00<?, ?it/s]"
      ],
      "application/vnd.jupyter.widget-view+json": {
       "version_major": 2,
       "version_minor": 0,
       "model_id": "c715d14e63fa44b8832675ba2b972fdb"
      }
     },
     "metadata": {},
     "output_type": "display_data"
    },
    {
     "name": "stderr",
     "output_type": "stream",
     "text": [
      "Metric val_loss improved. New best score: 0.022\n"
     ]
    },
    {
     "data": {
      "text/plain": [
       "Validation: |          | 0/? [00:00<?, ?it/s]"
      ],
      "application/vnd.jupyter.widget-view+json": {
       "version_major": 2,
       "version_minor": 0,
       "model_id": "476184abf1514bdfbb15c92124751b69"
      }
     },
     "metadata": {},
     "output_type": "display_data"
    },
    {
     "data": {
      "text/plain": [
       "Validation: |          | 0/? [00:00<?, ?it/s]"
      ],
      "application/vnd.jupyter.widget-view+json": {
       "version_major": 2,
       "version_minor": 0,
       "model_id": "1203508f17994da4916bdd6bb52d6caf"
      }
     },
     "metadata": {},
     "output_type": "display_data"
    },
    {
     "name": "stderr",
     "output_type": "stream",
     "text": [
      "[I 2025-05-19 14:41:40,819] Trial 9 pruned. Trial was pruned at epoch 2.\n",
      "Specified future encoders in `add_encoders` at model creation but model does not accept future covariates. future encoders will be ignored.\n",
      "/home/eduardo/Documentos/Water-Cycle-Neural-Network/venv/lib/python3.12/site-packages/torch/nn/modules/transformer.py:382: UserWarning: enable_nested_tensor is True, but self.use_nested_tensor is False because encoder_layer.self_attn.batch_first was not True(use batch_first for better inference performance)\n",
      "  warnings.warn(\n",
      "GPU available: True (cuda), used: True\n",
      "TPU available: False, using: 0 TPU cores\n",
      "HPU available: False, using: 0 HPUs\n",
      "LOCAL_RANK: 0 - CUDA_VISIBLE_DEVICES: [0]\n"
     ]
    },
    {
     "name": "stdout",
     "output_type": "stream",
     "text": [
      "Current value: 0.029392499924503945, Current params: {'input_chunk_length': 63, 'd_model': 128, 'num_encoder_layers': 4, 'num_decoder_layers': 3, 'activation': 'Bilinear', 'dropout': 0.0751387763993134, 'batch_size': 43, 'lr': 0.00012071739989523919}\n",
      "Best value: 45.48933237480024, Best params: {'input_chunk_length': 16, 'd_model': 256, 'num_encoder_layers': 1, 'num_decoder_layers': 1, 'activation': 'GLU', 'dropout': 0.14725994883862273, 'batch_size': 35, 'lr': 0.004896094498421687}\n",
      "\n",
      "Starting Trial 10\n",
      "Hyperparameters: {'input_chunk_length': 33, 'd_model': 256, 'num_encoder_layers': 3, 'num_decoder_layers': 2, 'activation': 'GELU', 'dropout': 0.11727962109863621, 'batch_size': 63, 'lr': 0.009195526130190767}\n",
      "\n",
      "Training the model...\n",
      "Train set: 6647 samples\n",
      "Validation set: 1662 samples\n"
     ]
    },
    {
     "name": "stderr",
     "output_type": "stream",
     "text": [
      "\n",
      "  | Name                | Type                | Params | Mode \n",
      "--------------------------------------------------------------------\n",
      "0 | criterion           | HuberLoss           | 0      | train\n",
      "1 | train_criterion     | HuberLoss           | 0      | train\n",
      "2 | val_criterion       | HuberLoss           | 0      | train\n",
      "3 | train_metrics       | MetricCollection    | 0      | train\n",
      "4 | val_metrics         | MetricCollection    | 0      | train\n",
      "5 | encoder             | Linear              | 4.9 K  | train\n",
      "6 | positional_encoding | _PositionalEncoding | 0      | train\n",
      "7 | transformer         | Transformer         | 4.5 M  | train\n",
      "8 | decoder             | Linear              | 2.1 K  | train\n",
      "--------------------------------------------------------------------\n",
      "4.5 M     Trainable params\n",
      "0         Non-trainable params\n",
      "4.5 M     Total params\n",
      "17.942    Total estimated model params size (MB)\n",
      "104       Modules in train mode\n",
      "0         Modules in eval mode\n"
     ]
    },
    {
     "data": {
      "text/plain": [
       "Sanity Checking: |          | 0/? [00:00<?, ?it/s]"
      ],
      "application/vnd.jupyter.widget-view+json": {
       "version_major": 2,
       "version_minor": 0,
       "model_id": "98b7a5d918fd46b790cb4055e7c64fbe"
      }
     },
     "metadata": {},
     "output_type": "display_data"
    },
    {
     "data": {
      "text/plain": [
       "Training: |          | 0/? [00:00<?, ?it/s]"
      ],
      "application/vnd.jupyter.widget-view+json": {
       "version_major": 2,
       "version_minor": 0,
       "model_id": "6df4395ee59a4d8f87e8008b94f00510"
      }
     },
     "metadata": {},
     "output_type": "display_data"
    },
    {
     "data": {
      "text/plain": [
       "Validation: |          | 0/? [00:00<?, ?it/s]"
      ],
      "application/vnd.jupyter.widget-view+json": {
       "version_major": 2,
       "version_minor": 0,
       "model_id": "7e0fe2530f1342fa8b6242ba0ae2c196"
      }
     },
     "metadata": {},
     "output_type": "display_data"
    },
    {
     "name": "stderr",
     "output_type": "stream",
     "text": [
      "[I 2025-05-19 14:41:47,659] Trial 10 pruned. Trial was pruned at epoch 0.\n",
      "Specified future encoders in `add_encoders` at model creation but model does not accept future covariates. future encoders will be ignored.\n",
      "/home/eduardo/Documentos/Water-Cycle-Neural-Network/venv/lib/python3.12/site-packages/torch/nn/modules/transformer.py:382: UserWarning: enable_nested_tensor is True, but self.use_nested_tensor is False because encoder_layer.self_attn.batch_first was not True(use batch_first for better inference performance)\n",
      "  warnings.warn(\n",
      "GPU available: True (cuda), used: True\n",
      "TPU available: False, using: 0 TPU cores\n",
      "HPU available: False, using: 0 HPUs\n",
      "LOCAL_RANK: 0 - CUDA_VISIBLE_DEVICES: [0]\n",
      "\n",
      "  | Name                | Type                | Params | Mode \n",
      "--------------------------------------------------------------------\n",
      "0 | criterion           | HuberLoss           | 0      | train\n",
      "1 | train_criterion     | HuberLoss           | 0      | train\n",
      "2 | val_criterion       | HuberLoss           | 0      | train\n",
      "3 | train_metrics       | MetricCollection    | 0      | train\n",
      "4 | val_metrics         | MetricCollection    | 0      | train\n",
      "5 | encoder             | Linear              | 4.9 K  | train\n",
      "6 | positional_encoding | _PositionalEncoding | 0      | train\n",
      "7 | transformer         | Transformer         | 3.3 M  | train\n",
      "8 | decoder             | Linear              | 2.1 K  | train\n",
      "--------------------------------------------------------------------\n",
      "3.3 M     Trainable params\n",
      "0         Non-trainable params\n",
      "3.3 M     Total params\n",
      "13.185    Total estimated model params size (MB)\n",
      "75        Modules in train mode\n",
      "0         Modules in eval mode\n"
     ]
    },
    {
     "name": "stdout",
     "output_type": "stream",
     "text": [
      "Current value: 0.05018085602256508, Current params: {'input_chunk_length': 33, 'd_model': 256, 'num_encoder_layers': 3, 'num_decoder_layers': 2, 'activation': 'GELU', 'dropout': 0.11727962109863621, 'batch_size': 63, 'lr': 0.009195526130190767}\n",
      "Best value: 45.48933237480024, Best params: {'input_chunk_length': 16, 'd_model': 256, 'num_encoder_layers': 1, 'num_decoder_layers': 1, 'activation': 'GLU', 'dropout': 0.14725994883862273, 'batch_size': 35, 'lr': 0.004896094498421687}\n",
      "\n",
      "Starting Trial 11\n",
      "Hyperparameters: {'input_chunk_length': 46, 'd_model': 256, 'num_encoder_layers': 1, 'num_decoder_layers': 2, 'activation': 'GLU', 'dropout': 0.1881760761357728, 'batch_size': 35, 'lr': 0.007855412245349356}\n",
      "\n",
      "Training the model...\n",
      "Train set: 6647 samples\n",
      "Validation set: 1662 samples\n"
     ]
    },
    {
     "data": {
      "text/plain": [
       "Sanity Checking: |          | 0/? [00:00<?, ?it/s]"
      ],
      "application/vnd.jupyter.widget-view+json": {
       "version_major": 2,
       "version_minor": 0,
       "model_id": "087a51b86c704947b7d311ec60d20507"
      }
     },
     "metadata": {},
     "output_type": "display_data"
    },
    {
     "data": {
      "text/plain": [
       "Training: |          | 0/? [00:00<?, ?it/s]"
      ],
      "application/vnd.jupyter.widget-view+json": {
       "version_major": 2,
       "version_minor": 0,
       "model_id": "010216c2a36f46e0af5b1359410e759e"
      }
     },
     "metadata": {},
     "output_type": "display_data"
    },
    {
     "data": {
      "text/plain": [
       "Validation: |          | 0/? [00:00<?, ?it/s]"
      ],
      "application/vnd.jupyter.widget-view+json": {
       "version_major": 2,
       "version_minor": 0,
       "model_id": "5ac237e4474f487fb17e27938e6899c7"
      }
     },
     "metadata": {},
     "output_type": "display_data"
    },
    {
     "name": "stderr",
     "output_type": "stream",
     "text": [
      "[I 2025-05-19 14:41:53,779] Trial 11 pruned. Trial was pruned at epoch 0.\n",
      "Specified future encoders in `add_encoders` at model creation but model does not accept future covariates. future encoders will be ignored.\n",
      "/home/eduardo/Documentos/Water-Cycle-Neural-Network/venv/lib/python3.12/site-packages/torch/nn/modules/transformer.py:382: UserWarning: enable_nested_tensor is True, but self.use_nested_tensor is False because encoder_layer.self_attn.batch_first was not True(use batch_first for better inference performance)\n",
      "  warnings.warn(\n",
      "GPU available: True (cuda), used: True\n",
      "TPU available: False, using: 0 TPU cores\n",
      "HPU available: False, using: 0 HPUs\n",
      "LOCAL_RANK: 0 - CUDA_VISIBLE_DEVICES: [0]\n",
      "\n",
      "  | Name                | Type                | Params | Mode \n",
      "--------------------------------------------------------------------\n",
      "0 | criterion           | HuberLoss           | 0      | train\n",
      "1 | train_criterion     | HuberLoss           | 0      | train\n",
      "2 | val_criterion       | HuberLoss           | 0      | train\n",
      "3 | train_metrics       | MetricCollection    | 0      | train\n",
      "4 | val_metrics         | MetricCollection    | 0      | train\n",
      "5 | encoder             | Linear              | 4.9 K  | train\n",
      "6 | positional_encoding | _PositionalEncoding | 0      | train\n",
      "7 | transformer         | Transformer         | 3.3 M  | train\n",
      "8 | decoder             | Linear              | 2.1 K  | train\n",
      "--------------------------------------------------------------------\n",
      "3.3 M     Trainable params\n",
      "0         Non-trainable params\n",
      "3.3 M     Total params\n",
      "13.185    Total estimated model params size (MB)\n",
      "75        Modules in train mode\n",
      "0         Modules in eval mode\n"
     ]
    },
    {
     "name": "stdout",
     "output_type": "stream",
     "text": [
      "Current value: 0.043036925246973334, Current params: {'input_chunk_length': 46, 'd_model': 256, 'num_encoder_layers': 1, 'num_decoder_layers': 2, 'activation': 'GLU', 'dropout': 0.1881760761357728, 'batch_size': 35, 'lr': 0.007855412245349356}\n",
      "Best value: 45.48933237480024, Best params: {'input_chunk_length': 16, 'd_model': 256, 'num_encoder_layers': 1, 'num_decoder_layers': 1, 'activation': 'GLU', 'dropout': 0.14725994883862273, 'batch_size': 35, 'lr': 0.004896094498421687}\n",
      "\n",
      "Starting Trial 12\n",
      "Hyperparameters: {'input_chunk_length': 54, 'd_model': 256, 'num_encoder_layers': 1, 'num_decoder_layers': 2, 'activation': 'GEGLU', 'dropout': 0.1050930257006423, 'batch_size': 40, 'lr': 0.000774548934897711}\n",
      "\n",
      "Training the model...\n",
      "Train set: 6647 samples\n",
      "Validation set: 1662 samples\n"
     ]
    },
    {
     "data": {
      "text/plain": [
       "Sanity Checking: |          | 0/? [00:00<?, ?it/s]"
      ],
      "application/vnd.jupyter.widget-view+json": {
       "version_major": 2,
       "version_minor": 0,
       "model_id": "c1c4ff4f7f91485f8a460beb2a1327f7"
      }
     },
     "metadata": {},
     "output_type": "display_data"
    },
    {
     "data": {
      "text/plain": [
       "Training: |          | 0/? [00:00<?, ?it/s]"
      ],
      "application/vnd.jupyter.widget-view+json": {
       "version_major": 2,
       "version_minor": 0,
       "model_id": "7b4e704e62a14bbfb5fc083cc33b8bf5"
      }
     },
     "metadata": {},
     "output_type": "display_data"
    },
    {
     "data": {
      "text/plain": [
       "Validation: |          | 0/? [00:00<?, ?it/s]"
      ],
      "application/vnd.jupyter.widget-view+json": {
       "version_major": 2,
       "version_minor": 0,
       "model_id": "55a4b259a5484b9092d1d2695883c399"
      }
     },
     "metadata": {},
     "output_type": "display_data"
    },
    {
     "name": "stderr",
     "output_type": "stream",
     "text": [
      "Metric val_loss improved. New best score: 0.021\n"
     ]
    },
    {
     "data": {
      "text/plain": [
       "Validation: |          | 0/? [00:00<?, ?it/s]"
      ],
      "application/vnd.jupyter.widget-view+json": {
       "version_major": 2,
       "version_minor": 0,
       "model_id": "e3ff1b6be9a64d478ba94c46b90ccf4e"
      }
     },
     "metadata": {},
     "output_type": "display_data"
    },
    {
     "name": "stderr",
     "output_type": "stream",
     "text": [
      "Metric val_loss improved by 0.003 >= min_delta = 0.001. New best score: 0.018\n"
     ]
    },
    {
     "data": {
      "text/plain": [
       "Validation: |          | 0/? [00:00<?, ?it/s]"
      ],
      "application/vnd.jupyter.widget-view+json": {
       "version_major": 2,
       "version_minor": 0,
       "model_id": "ae1fedf60d8b4af79ad59e2e1458d734"
      }
     },
     "metadata": {},
     "output_type": "display_data"
    },
    {
     "name": "stderr",
     "output_type": "stream",
     "text": [
      "Metric val_loss improved by 0.002 >= min_delta = 0.001. New best score: 0.016\n"
     ]
    },
    {
     "data": {
      "text/plain": [
       "Validation: |          | 0/? [00:00<?, ?it/s]"
      ],
      "application/vnd.jupyter.widget-view+json": {
       "version_major": 2,
       "version_minor": 0,
       "model_id": "6ba568eb2eac452d91ddafa48a5be921"
      }
     },
     "metadata": {},
     "output_type": "display_data"
    },
    {
     "data": {
      "text/plain": [
       "Validation: |          | 0/? [00:00<?, ?it/s]"
      ],
      "application/vnd.jupyter.widget-view+json": {
       "version_major": 2,
       "version_minor": 0,
       "model_id": "563b5911461d419183bcb2c8c9a5c216"
      }
     },
     "metadata": {},
     "output_type": "display_data"
    },
    {
     "data": {
      "text/plain": [
       "Validation: |          | 0/? [00:00<?, ?it/s]"
      ],
      "application/vnd.jupyter.widget-view+json": {
       "version_major": 2,
       "version_minor": 0,
       "model_id": "ac74c88a4e0245a1a443c73de9c4f251"
      }
     },
     "metadata": {},
     "output_type": "display_data"
    },
    {
     "data": {
      "text/plain": [
       "Validation: |          | 0/? [00:00<?, ?it/s]"
      ],
      "application/vnd.jupyter.widget-view+json": {
       "version_major": 2,
       "version_minor": 0,
       "model_id": "40074f51e1244627a38dc88f43bd44c9"
      }
     },
     "metadata": {},
     "output_type": "display_data"
    },
    {
     "name": "stderr",
     "output_type": "stream",
     "text": [
      "[I 2025-05-19 14:42:35,651] Trial 12 pruned. Trial was pruned at epoch 6.\n",
      "Specified future encoders in `add_encoders` at model creation but model does not accept future covariates. future encoders will be ignored.\n",
      "/home/eduardo/Documentos/Water-Cycle-Neural-Network/venv/lib/python3.12/site-packages/torch/nn/modules/transformer.py:382: UserWarning: enable_nested_tensor is True, but self.use_nested_tensor is False because encoder_layer.self_attn.batch_first was not True(use batch_first for better inference performance)\n",
      "  warnings.warn(\n",
      "GPU available: True (cuda), used: True\n",
      "TPU available: False, using: 0 TPU cores\n",
      "HPU available: False, using: 0 HPUs\n",
      "LOCAL_RANK: 0 - CUDA_VISIBLE_DEVICES: [0]\n",
      "\n",
      "  | Name                | Type                | Params | Mode \n",
      "--------------------------------------------------------------------\n",
      "0 | criterion           | HuberLoss           | 0      | train\n",
      "1 | train_criterion     | HuberLoss           | 0      | train\n",
      "2 | val_criterion       | HuberLoss           | 0      | train\n",
      "3 | train_metrics       | MetricCollection    | 0      | train\n",
      "4 | val_metrics         | MetricCollection    | 0      | train\n",
      "5 | encoder             | Linear              | 2.4 K  | train\n",
      "6 | positional_encoding | _PositionalEncoding | 0      | train\n",
      "7 | transformer         | Transformer         | 1.4 M  | train\n",
      "8 | decoder             | Linear              | 1.0 K  | train\n",
      "--------------------------------------------------------------------\n",
      "1.4 M     Trainable params\n",
      "0         Non-trainable params\n",
      "1.4 M     Total params\n",
      "5.561     Total estimated model params size (MB)\n",
      "84        Modules in train mode\n",
      "0         Modules in eval mode\n"
     ]
    },
    {
     "name": "stdout",
     "output_type": "stream",
     "text": [
      "Current value: 0.015663841102630055, Current params: {'input_chunk_length': 54, 'd_model': 256, 'num_encoder_layers': 1, 'num_decoder_layers': 2, 'activation': 'GEGLU', 'dropout': 0.1050930257006423, 'batch_size': 40, 'lr': 0.000774548934897711}\n",
      "Best value: 45.48933237480024, Best params: {'input_chunk_length': 16, 'd_model': 256, 'num_encoder_layers': 1, 'num_decoder_layers': 1, 'activation': 'GLU', 'dropout': 0.14725994883862273, 'batch_size': 35, 'lr': 0.004896094498421687}\n",
      "\n",
      "Starting Trial 13\n",
      "Hyperparameters: {'input_chunk_length': 36, 'd_model': 128, 'num_encoder_layers': 3, 'num_decoder_layers': 1, 'activation': 'ReLU', 'dropout': 0.16633076727577975, 'batch_size': 28, 'lr': 0.0007644167973763729}\n",
      "\n",
      "Training the model...\n",
      "Train set: 6647 samples\n",
      "Validation set: 1662 samples\n"
     ]
    },
    {
     "data": {
      "text/plain": [
       "Sanity Checking: |          | 0/? [00:00<?, ?it/s]"
      ],
      "application/vnd.jupyter.widget-view+json": {
       "version_major": 2,
       "version_minor": 0,
       "model_id": "325b9df482af4c988aa0fd3fedac4180"
      }
     },
     "metadata": {},
     "output_type": "display_data"
    },
    {
     "data": {
      "text/plain": [
       "Training: |          | 0/? [00:00<?, ?it/s]"
      ],
      "application/vnd.jupyter.widget-view+json": {
       "version_major": 2,
       "version_minor": 0,
       "model_id": "315638cee5b24d669025d39b1407b0df"
      }
     },
     "metadata": {},
     "output_type": "display_data"
    },
    {
     "data": {
      "text/plain": [
       "Validation: |          | 0/? [00:00<?, ?it/s]"
      ],
      "application/vnd.jupyter.widget-view+json": {
       "version_major": 2,
       "version_minor": 0,
       "model_id": "f53ea846c582484f940a16278b496714"
      }
     },
     "metadata": {},
     "output_type": "display_data"
    },
    {
     "name": "stderr",
     "output_type": "stream",
     "text": [
      "[I 2025-05-19 14:42:41,195] Trial 13 pruned. Trial was pruned at epoch 0.\n",
      "Specified future encoders in `add_encoders` at model creation but model does not accept future covariates. future encoders will be ignored.\n",
      "/home/eduardo/Documentos/Water-Cycle-Neural-Network/venv/lib/python3.12/site-packages/torch/nn/modules/transformer.py:382: UserWarning: enable_nested_tensor is True, but self.use_nested_tensor is False because encoder_layer.self_attn.batch_first was not True(use batch_first for better inference performance)\n",
      "  warnings.warn(\n",
      "GPU available: True (cuda), used: True\n",
      "TPU available: False, using: 0 TPU cores\n",
      "HPU available: False, using: 0 HPUs\n",
      "LOCAL_RANK: 0 - CUDA_VISIBLE_DEVICES: [0]\n",
      "\n",
      "  | Name                | Type                | Params | Mode \n",
      "--------------------------------------------------------------------\n",
      "0 | criterion           | HuberLoss           | 0      | train\n",
      "1 | train_criterion     | HuberLoss           | 0      | train\n",
      "2 | val_criterion       | HuberLoss           | 0      | train\n",
      "3 | train_metrics       | MetricCollection    | 0      | train\n",
      "4 | val_metrics         | MetricCollection    | 0      | train\n",
      "5 | encoder             | Linear              | 4.9 K  | train\n",
      "6 | positional_encoding | _PositionalEncoding | 0      | train\n",
      "7 | transformer         | Transformer         | 3.7 M  | train\n",
      "8 | decoder             | Linear              | 2.1 K  | train\n",
      "--------------------------------------------------------------------\n",
      "3.7 M     Trainable params\n",
      "0         Non-trainable params\n",
      "3.7 M     Total params\n",
      "14.781    Total estimated model params size (MB)\n",
      "88        Modules in train mode\n",
      "0         Modules in eval mode\n"
     ]
    },
    {
     "name": "stdout",
     "output_type": "stream",
     "text": [
      "Current value: 0.027094773143759368, Current params: {'input_chunk_length': 36, 'd_model': 128, 'num_encoder_layers': 3, 'num_decoder_layers': 1, 'activation': 'ReLU', 'dropout': 0.16633076727577975, 'batch_size': 28, 'lr': 0.0007644167973763729}\n",
      "Best value: 45.48933237480024, Best params: {'input_chunk_length': 16, 'd_model': 256, 'num_encoder_layers': 1, 'num_decoder_layers': 1, 'activation': 'GLU', 'dropout': 0.14725994883862273, 'batch_size': 35, 'lr': 0.004896094498421687}\n",
      "\n",
      "Starting Trial 14\n",
      "Hyperparameters: {'input_chunk_length': 59, 'd_model': 256, 'num_encoder_layers': 2, 'num_decoder_layers': 2, 'activation': 'GELU', 'dropout': 0.19756033056081918, 'batch_size': 45, 'lr': 0.004574280875551523}\n",
      "\n",
      "Training the model...\n",
      "Train set: 6647 samples\n",
      "Validation set: 1662 samples\n"
     ]
    },
    {
     "data": {
      "text/plain": [
       "Sanity Checking: |          | 0/? [00:00<?, ?it/s]"
      ],
      "application/vnd.jupyter.widget-view+json": {
       "version_major": 2,
       "version_minor": 0,
       "model_id": "0c6fc17686ee4f1cb45876d36c6173f0"
      }
     },
     "metadata": {},
     "output_type": "display_data"
    },
    {
     "data": {
      "text/plain": [
       "Training: |          | 0/? [00:00<?, ?it/s]"
      ],
      "application/vnd.jupyter.widget-view+json": {
       "version_major": 2,
       "version_minor": 0,
       "model_id": "d3ea4973673544348b0af20695a8f3f3"
      }
     },
     "metadata": {},
     "output_type": "display_data"
    },
    {
     "data": {
      "text/plain": [
       "Validation: |          | 0/? [00:00<?, ?it/s]"
      ],
      "application/vnd.jupyter.widget-view+json": {
       "version_major": 2,
       "version_minor": 0,
       "model_id": "2b494311b5284616a7eddbc8bdea49b8"
      }
     },
     "metadata": {},
     "output_type": "display_data"
    },
    {
     "name": "stderr",
     "output_type": "stream",
     "text": [
      "[I 2025-05-19 14:42:49,987] Trial 14 pruned. Trial was pruned at epoch 0.\n",
      "Specified future encoders in `add_encoders` at model creation but model does not accept future covariates. future encoders will be ignored.\n",
      "/home/eduardo/Documentos/Water-Cycle-Neural-Network/venv/lib/python3.12/site-packages/torch/nn/modules/transformer.py:382: UserWarning: enable_nested_tensor is True, but self.use_nested_tensor is False because encoder_layer.self_attn.batch_first was not True(use batch_first for better inference performance)\n",
      "  warnings.warn(\n",
      "GPU available: True (cuda), used: True\n",
      "TPU available: False, using: 0 TPU cores\n",
      "HPU available: False, using: 0 HPUs\n",
      "LOCAL_RANK: 0 - CUDA_VISIBLE_DEVICES: [0]\n",
      "\n",
      "  | Name                | Type                | Params | Mode \n",
      "--------------------------------------------------------------------\n",
      "0 | criterion           | HuberLoss           | 0      | train\n",
      "1 | train_criterion     | HuberLoss           | 0      | train\n",
      "2 | val_criterion       | HuberLoss           | 0      | train\n",
      "3 | train_metrics       | MetricCollection    | 0      | train\n",
      "4 | val_metrics         | MetricCollection    | 0      | train\n",
      "5 | encoder             | Linear              | 2.4 K  | train\n",
      "6 | positional_encoding | _PositionalEncoding | 0      | train\n",
      "7 | transformer         | Transformer         | 1.8 M  | train\n",
      "8 | decoder             | Linear              | 1.0 K  | train\n",
      "--------------------------------------------------------------------\n",
      "1.8 M     Trainable params\n",
      "0         Non-trainable params\n",
      "1.8 M     Total params\n",
      "7.130     Total estimated model params size (MB)\n",
      "96        Modules in train mode\n",
      "0         Modules in eval mode\n"
     ]
    },
    {
     "name": "stdout",
     "output_type": "stream",
     "text": [
      "Current value: 0.03665562537761634, Current params: {'input_chunk_length': 59, 'd_model': 256, 'num_encoder_layers': 2, 'num_decoder_layers': 2, 'activation': 'GELU', 'dropout': 0.19756033056081918, 'batch_size': 45, 'lr': 0.004574280875551523}\n",
      "Best value: 45.48933237480024, Best params: {'input_chunk_length': 16, 'd_model': 256, 'num_encoder_layers': 1, 'num_decoder_layers': 1, 'activation': 'GLU', 'dropout': 0.14725994883862273, 'batch_size': 35, 'lr': 0.004896094498421687}\n",
      "\n",
      "Starting Trial 15\n",
      "Hyperparameters: {'input_chunk_length': 28, 'd_model': 128, 'num_encoder_layers': 1, 'num_decoder_layers': 3, 'activation': 'GEGLU', 'dropout': 0.12661390232922096, 'batch_size': 36, 'lr': 1.5094078689464964e-05}\n",
      "\n",
      "Training the model...\n",
      "Train set: 6647 samples\n",
      "Validation set: 1662 samples\n"
     ]
    },
    {
     "data": {
      "text/plain": [
       "Sanity Checking: |          | 0/? [00:00<?, ?it/s]"
      ],
      "application/vnd.jupyter.widget-view+json": {
       "version_major": 2,
       "version_minor": 0,
       "model_id": "cda3ed97194f4744bfb92f39d7b11181"
      }
     },
     "metadata": {},
     "output_type": "display_data"
    },
    {
     "data": {
      "text/plain": [
       "Training: |          | 0/? [00:00<?, ?it/s]"
      ],
      "application/vnd.jupyter.widget-view+json": {
       "version_major": 2,
       "version_minor": 0,
       "model_id": "aa1e41245cee4afa81b63d8155e5216f"
      }
     },
     "metadata": {},
     "output_type": "display_data"
    },
    {
     "data": {
      "text/plain": [
       "Validation: |          | 0/? [00:00<?, ?it/s]"
      ],
      "application/vnd.jupyter.widget-view+json": {
       "version_major": 2,
       "version_minor": 0,
       "model_id": "8e2f9854a6e5431dbc130d321393f078"
      }
     },
     "metadata": {},
     "output_type": "display_data"
    },
    {
     "name": "stderr",
     "output_type": "stream",
     "text": [
      "[I 2025-05-19 14:42:55,563] Trial 15 pruned. Trial was pruned at epoch 0.\n",
      "Specified future encoders in `add_encoders` at model creation but model does not accept future covariates. future encoders will be ignored.\n",
      "/home/eduardo/Documentos/Water-Cycle-Neural-Network/venv/lib/python3.12/site-packages/torch/nn/modules/transformer.py:382: UserWarning: enable_nested_tensor is True, but self.use_nested_tensor is False because encoder_layer.self_attn.batch_first was not True(use batch_first for better inference performance)\n",
      "  warnings.warn(\n",
      "GPU available: True (cuda), used: True\n",
      "TPU available: False, using: 0 TPU cores\n",
      "HPU available: False, using: 0 HPUs\n",
      "LOCAL_RANK: 0 - CUDA_VISIBLE_DEVICES: [0]\n"
     ]
    },
    {
     "name": "stdout",
     "output_type": "stream",
     "text": [
      "Current value: 0.03456200834918797, Current params: {'input_chunk_length': 28, 'd_model': 128, 'num_encoder_layers': 1, 'num_decoder_layers': 3, 'activation': 'GEGLU', 'dropout': 0.12661390232922096, 'batch_size': 36, 'lr': 1.5094078689464964e-05}\n",
      "Best value: 45.48933237480024, Best params: {'input_chunk_length': 16, 'd_model': 256, 'num_encoder_layers': 1, 'num_decoder_layers': 1, 'activation': 'GLU', 'dropout': 0.14725994883862273, 'batch_size': 35, 'lr': 0.004896094498421687}\n",
      "\n",
      "Starting Trial 16\n",
      "Hyperparameters: {'input_chunk_length': 72, 'd_model': 256, 'num_encoder_layers': 1, 'num_decoder_layers': 4, 'activation': 'Bilinear', 'dropout': 0.27762690790724914, 'batch_size': 16, 'lr': 0.0007079237064836974}\n",
      "\n",
      "Training the model...\n",
      "Train set: 6647 samples\n",
      "Validation set: 1662 samples\n"
     ]
    },
    {
     "name": "stderr",
     "output_type": "stream",
     "text": [
      "\n",
      "  | Name                | Type                | Params | Mode \n",
      "--------------------------------------------------------------------\n",
      "0 | criterion           | HuberLoss           | 0      | train\n",
      "1 | train_criterion     | HuberLoss           | 0      | train\n",
      "2 | val_criterion       | HuberLoss           | 0      | train\n",
      "3 | train_metrics       | MetricCollection    | 0      | train\n",
      "4 | val_metrics         | MetricCollection    | 0      | train\n",
      "5 | encoder             | Linear              | 4.9 K  | train\n",
      "6 | positional_encoding | _PositionalEncoding | 0      | train\n",
      "7 | transformer         | Transformer         | 5.7 M  | train\n",
      "8 | decoder             | Linear              | 2.1 K  | train\n",
      "--------------------------------------------------------------------\n",
      "5.7 M     Trainable params\n",
      "0         Non-trainable params\n",
      "5.7 M     Total params\n",
      "22.657    Total estimated model params size (MB)\n",
      "117       Modules in train mode\n",
      "0         Modules in eval mode\n"
     ]
    },
    {
     "data": {
      "text/plain": [
       "Sanity Checking: |          | 0/? [00:00<?, ?it/s]"
      ],
      "application/vnd.jupyter.widget-view+json": {
       "version_major": 2,
       "version_minor": 0,
       "model_id": "2e5c772834c646a3b8219f4c0977b6c1"
      }
     },
     "metadata": {},
     "output_type": "display_data"
    },
    {
     "data": {
      "text/plain": [
       "Training: |          | 0/? [00:00<?, ?it/s]"
      ],
      "application/vnd.jupyter.widget-view+json": {
       "version_major": 2,
       "version_minor": 0,
       "model_id": "5f39d55ebc3e4fe28bcb0bdeab2f4f89"
      }
     },
     "metadata": {},
     "output_type": "display_data"
    },
    {
     "data": {
      "text/plain": [
       "Validation: |          | 0/? [00:00<?, ?it/s]"
      ],
      "application/vnd.jupyter.widget-view+json": {
       "version_major": 2,
       "version_minor": 0,
       "model_id": "9f588bba7e4f43119b944f242f8d47e0"
      }
     },
     "metadata": {},
     "output_type": "display_data"
    },
    {
     "name": "stderr",
     "output_type": "stream",
     "text": [
      "[I 2025-05-19 14:43:09,390] Trial 16 pruned. Trial was pruned at epoch 0.\n",
      "Specified future encoders in `add_encoders` at model creation but model does not accept future covariates. future encoders will be ignored.\n",
      "/home/eduardo/Documentos/Water-Cycle-Neural-Network/venv/lib/python3.12/site-packages/torch/nn/modules/transformer.py:382: UserWarning: enable_nested_tensor is True, but self.use_nested_tensor is False because encoder_layer.self_attn.batch_first was not True(use batch_first for better inference performance)\n",
      "  warnings.warn(\n",
      "GPU available: True (cuda), used: True\n",
      "TPU available: False, using: 0 TPU cores\n",
      "HPU available: False, using: 0 HPUs\n",
      "LOCAL_RANK: 0 - CUDA_VISIBLE_DEVICES: [0]\n"
     ]
    },
    {
     "name": "stdout",
     "output_type": "stream",
     "text": [
      "Current value: 0.028273069101795726, Current params: {'input_chunk_length': 72, 'd_model': 256, 'num_encoder_layers': 1, 'num_decoder_layers': 4, 'activation': 'Bilinear', 'dropout': 0.27762690790724914, 'batch_size': 16, 'lr': 0.0007079237064836974}\n",
      "Best value: 45.48933237480024, Best params: {'input_chunk_length': 16, 'd_model': 256, 'num_encoder_layers': 1, 'num_decoder_layers': 1, 'activation': 'GLU', 'dropout': 0.14725994883862273, 'batch_size': 35, 'lr': 0.004896094498421687}\n",
      "\n",
      "Starting Trial 17\n",
      "Hyperparameters: {'input_chunk_length': 42, 'd_model': 256, 'num_encoder_layers': 3, 'num_decoder_layers': 1, 'activation': 'ReGLU', 'dropout': 0.16605782474539854, 'batch_size': 25, 'lr': 0.0038409350644442383}\n",
      "\n",
      "Training the model...\n",
      "Train set: 6647 samples\n",
      "Validation set: 1662 samples\n"
     ]
    },
    {
     "name": "stderr",
     "output_type": "stream",
     "text": [
      "\n",
      "  | Name                | Type                | Params | Mode \n",
      "--------------------------------------------------------------------\n",
      "0 | criterion           | HuberLoss           | 0      | train\n",
      "1 | train_criterion     | HuberLoss           | 0      | train\n",
      "2 | val_criterion       | HuberLoss           | 0      | train\n",
      "3 | train_metrics       | MetricCollection    | 0      | train\n",
      "4 | val_metrics         | MetricCollection    | 0      | train\n",
      "5 | encoder             | Linear              | 4.9 K  | train\n",
      "6 | positional_encoding | _PositionalEncoding | 0      | train\n",
      "7 | transformer         | Transformer         | 3.9 M  | train\n",
      "8 | decoder             | Linear              | 2.1 K  | train\n",
      "--------------------------------------------------------------------\n",
      "4.0 M     Trainable params\n",
      "0         Non-trainable params\n",
      "4.0 M     Total params\n",
      "15.812    Total estimated model params size (MB)\n",
      "88        Modules in train mode\n",
      "0         Modules in eval mode\n"
     ]
    },
    {
     "data": {
      "text/plain": [
       "Sanity Checking: |          | 0/? [00:00<?, ?it/s]"
      ],
      "application/vnd.jupyter.widget-view+json": {
       "version_major": 2,
       "version_minor": 0,
       "model_id": "71b6609410994b56b702e63c82f2f870"
      }
     },
     "metadata": {},
     "output_type": "display_data"
    },
    {
     "data": {
      "text/plain": [
       "Training: |          | 0/? [00:00<?, ?it/s]"
      ],
      "application/vnd.jupyter.widget-view+json": {
       "version_major": 2,
       "version_minor": 0,
       "model_id": "6550813b4c5144be834b74b37b5ef1a1"
      }
     },
     "metadata": {},
     "output_type": "display_data"
    },
    {
     "data": {
      "text/plain": [
       "Validation: |          | 0/? [00:00<?, ?it/s]"
      ],
      "application/vnd.jupyter.widget-view+json": {
       "version_major": 2,
       "version_minor": 0,
       "model_id": "48a0c84b608f4458a930461cbc2bd85e"
      }
     },
     "metadata": {},
     "output_type": "display_data"
    },
    {
     "name": "stderr",
     "output_type": "stream",
     "text": [
      "[I 2025-05-19 14:43:20,278] Trial 17 pruned. Trial was pruned at epoch 0.\n",
      "Specified future encoders in `add_encoders` at model creation but model does not accept future covariates. future encoders will be ignored.\n"
     ]
    },
    {
     "name": "stdout",
     "output_type": "stream",
     "text": [
      "Current value: 0.035908915978728535, Current params: {'input_chunk_length': 42, 'd_model': 256, 'num_encoder_layers': 3, 'num_decoder_layers': 1, 'activation': 'ReGLU', 'dropout': 0.16605782474539854, 'batch_size': 25, 'lr': 0.0038409350644442383}\n",
      "Best value: 45.48933237480024, Best params: {'input_chunk_length': 16, 'd_model': 256, 'num_encoder_layers': 1, 'num_decoder_layers': 1, 'activation': 'GLU', 'dropout': 0.14725994883862273, 'batch_size': 35, 'lr': 0.004896094498421687}\n",
      "\n",
      "Starting Trial 18\n",
      "Hyperparameters: {'input_chunk_length': 44, 'd_model': 128, 'num_encoder_layers': 2, 'num_decoder_layers': 2, 'activation': 'GLU', 'dropout': 0.09672992984707846, 'batch_size': 31, 'lr': 0.0011075466705451314}\n",
      "\n",
      "Training the model...\n",
      "Train set: 6647 samples\n",
      "Validation set: 1662 samples\n"
     ]
    },
    {
     "name": "stderr",
     "output_type": "stream",
     "text": [
      "/home/eduardo/Documentos/Water-Cycle-Neural-Network/venv/lib/python3.12/site-packages/torch/nn/modules/transformer.py:382: UserWarning: enable_nested_tensor is True, but self.use_nested_tensor is False because encoder_layer.self_attn.batch_first was not True(use batch_first for better inference performance)\n",
      "  warnings.warn(\n",
      "GPU available: True (cuda), used: True\n",
      "TPU available: False, using: 0 TPU cores\n",
      "HPU available: False, using: 0 HPUs\n",
      "LOCAL_RANK: 0 - CUDA_VISIBLE_DEVICES: [0]\n",
      "\n",
      "  | Name                | Type                | Params | Mode \n",
      "--------------------------------------------------------------------\n",
      "0 | criterion           | HuberLoss           | 0      | train\n",
      "1 | train_criterion     | HuberLoss           | 0      | train\n",
      "2 | val_criterion       | HuberLoss           | 0      | train\n",
      "3 | train_metrics       | MetricCollection    | 0      | train\n",
      "4 | val_metrics         | MetricCollection    | 0      | train\n",
      "5 | encoder             | Linear              | 2.4 K  | train\n",
      "6 | positional_encoding | _PositionalEncoding | 0      | train\n",
      "7 | transformer         | Transformer         | 1.7 M  | train\n",
      "8 | decoder             | Linear              | 1.0 K  | train\n",
      "--------------------------------------------------------------------\n",
      "1.7 M     Trainable params\n",
      "0         Non-trainable params\n",
      "1.7 M     Total params\n",
      "6.864     Total estimated model params size (MB)\n",
      "92        Modules in train mode\n",
      "0         Modules in eval mode\n"
     ]
    },
    {
     "data": {
      "text/plain": [
       "Sanity Checking: |          | 0/? [00:00<?, ?it/s]"
      ],
      "application/vnd.jupyter.widget-view+json": {
       "version_major": 2,
       "version_minor": 0,
       "model_id": "0112fccb54a94ec59bf471d99b49d5aa"
      }
     },
     "metadata": {},
     "output_type": "display_data"
    },
    {
     "data": {
      "text/plain": [
       "Training: |          | 0/? [00:00<?, ?it/s]"
      ],
      "application/vnd.jupyter.widget-view+json": {
       "version_major": 2,
       "version_minor": 0,
       "model_id": "92277dd51e34466b9fff4cd03118c5ed"
      }
     },
     "metadata": {},
     "output_type": "display_data"
    },
    {
     "data": {
      "text/plain": [
       "Validation: |          | 0/? [00:00<?, ?it/s]"
      ],
      "application/vnd.jupyter.widget-view+json": {
       "version_major": 2,
       "version_minor": 0,
       "model_id": "f6810f5eecf84c6f9aa973a30bf74a9a"
      }
     },
     "metadata": {},
     "output_type": "display_data"
    },
    {
     "name": "stderr",
     "output_type": "stream",
     "text": [
      "Metric val_loss improved. New best score: 0.024\n"
     ]
    },
    {
     "data": {
      "text/plain": [
       "Validation: |          | 0/? [00:00<?, ?it/s]"
      ],
      "application/vnd.jupyter.widget-view+json": {
       "version_major": 2,
       "version_minor": 0,
       "model_id": "3ac4d1d178dc440fbbaaeb0429e0ebf2"
      }
     },
     "metadata": {},
     "output_type": "display_data"
    },
    {
     "name": "stderr",
     "output_type": "stream",
     "text": [
      "Metric val_loss improved by 0.004 >= min_delta = 0.001. New best score: 0.019\n"
     ]
    },
    {
     "data": {
      "text/plain": [
       "Validation: |          | 0/? [00:00<?, ?it/s]"
      ],
      "application/vnd.jupyter.widget-view+json": {
       "version_major": 2,
       "version_minor": 0,
       "model_id": "d3f598f7ce244245b6cbcfd5b6ec55d2"
      }
     },
     "metadata": {},
     "output_type": "display_data"
    },
    {
     "name": "stderr",
     "output_type": "stream",
     "text": [
      "Metric val_loss improved by 0.002 >= min_delta = 0.001. New best score: 0.018\n"
     ]
    },
    {
     "data": {
      "text/plain": [
       "Validation: |          | 0/? [00:00<?, ?it/s]"
      ],
      "application/vnd.jupyter.widget-view+json": {
       "version_major": 2,
       "version_minor": 0,
       "model_id": "8d8b5ead6cfd44b4a431ac3b705b51a4"
      }
     },
     "metadata": {},
     "output_type": "display_data"
    },
    {
     "name": "stderr",
     "output_type": "stream",
     "text": [
      "Metric val_loss improved by 0.002 >= min_delta = 0.001. New best score: 0.015\n"
     ]
    },
    {
     "data": {
      "text/plain": [
       "Validation: |          | 0/? [00:00<?, ?it/s]"
      ],
      "application/vnd.jupyter.widget-view+json": {
       "version_major": 2,
       "version_minor": 0,
       "model_id": "12100426a4fb4e3b961b0d7f51f884dd"
      }
     },
     "metadata": {},
     "output_type": "display_data"
    },
    {
     "name": "stderr",
     "output_type": "stream",
     "text": [
      "Metric val_loss improved by 0.002 >= min_delta = 0.001. New best score: 0.014\n"
     ]
    },
    {
     "data": {
      "text/plain": [
       "Validation: |          | 0/? [00:00<?, ?it/s]"
      ],
      "application/vnd.jupyter.widget-view+json": {
       "version_major": 2,
       "version_minor": 0,
       "model_id": "37e45e79fae341439776b161bf4db6ce"
      }
     },
     "metadata": {},
     "output_type": "display_data"
    },
    {
     "data": {
      "text/plain": [
       "Validation: |          | 0/? [00:00<?, ?it/s]"
      ],
      "application/vnd.jupyter.widget-view+json": {
       "version_major": 2,
       "version_minor": 0,
       "model_id": "e083676c62c44a288b34ef0793b03a14"
      }
     },
     "metadata": {},
     "output_type": "display_data"
    },
    {
     "data": {
      "text/plain": [
       "Validation: |          | 0/? [00:00<?, ?it/s]"
      ],
      "application/vnd.jupyter.widget-view+json": {
       "version_major": 2,
       "version_minor": 0,
       "model_id": "249c33f59eb341a098eb0d1ccbecf401"
      }
     },
     "metadata": {},
     "output_type": "display_data"
    },
    {
     "data": {
      "text/plain": [
       "Validation: |          | 0/? [00:00<?, ?it/s]"
      ],
      "application/vnd.jupyter.widget-view+json": {
       "version_major": 2,
       "version_minor": 0,
       "model_id": "16673fb0701b4bfe919cdc62e45f1dfa"
      }
     },
     "metadata": {},
     "output_type": "display_data"
    },
    {
     "data": {
      "text/plain": [
       "Validation: |          | 0/? [00:00<?, ?it/s]"
      ],
      "application/vnd.jupyter.widget-view+json": {
       "version_major": 2,
       "version_minor": 0,
       "model_id": "5f85972ded39443d8072e9e919087aa6"
      }
     },
     "metadata": {},
     "output_type": "display_data"
    },
    {
     "data": {
      "text/plain": [
       "Validation: |          | 0/? [00:00<?, ?it/s]"
      ],
      "application/vnd.jupyter.widget-view+json": {
       "version_major": 2,
       "version_minor": 0,
       "model_id": "e0d9e4ce95554e4583bc116dc8fd76e4"
      }
     },
     "metadata": {},
     "output_type": "display_data"
    },
    {
     "name": "stderr",
     "output_type": "stream",
     "text": [
      "Metric val_loss improved by 0.002 >= min_delta = 0.001. New best score: 0.012\n"
     ]
    },
    {
     "data": {
      "text/plain": [
       "Validation: |          | 0/? [00:00<?, ?it/s]"
      ],
      "application/vnd.jupyter.widget-view+json": {
       "version_major": 2,
       "version_minor": 0,
       "model_id": "937ee3ab824d4ea4985a6b6d52e8bbbb"
      }
     },
     "metadata": {},
     "output_type": "display_data"
    },
    {
     "data": {
      "text/plain": [
       "Validation: |          | 0/? [00:00<?, ?it/s]"
      ],
      "application/vnd.jupyter.widget-view+json": {
       "version_major": 2,
       "version_minor": 0,
       "model_id": "e694b3e8e09e47428330bc407908c6e5"
      }
     },
     "metadata": {},
     "output_type": "display_data"
    },
    {
     "data": {
      "text/plain": [
       "Validation: |          | 0/? [00:00<?, ?it/s]"
      ],
      "application/vnd.jupyter.widget-view+json": {
       "version_major": 2,
       "version_minor": 0,
       "model_id": "5e8d292baf3049469bb4b0be813efa37"
      }
     },
     "metadata": {},
     "output_type": "display_data"
    },
    {
     "data": {
      "text/plain": [
       "Validation: |          | 0/? [00:00<?, ?it/s]"
      ],
      "application/vnd.jupyter.widget-view+json": {
       "version_major": 2,
       "version_minor": 0,
       "model_id": "106a17a7dd3c437697aa260f0264e236"
      }
     },
     "metadata": {},
     "output_type": "display_data"
    },
    {
     "data": {
      "text/plain": [
       "Validation: |          | 0/? [00:00<?, ?it/s]"
      ],
      "application/vnd.jupyter.widget-view+json": {
       "version_major": 2,
       "version_minor": 0,
       "model_id": "d16b1689b1144ddb97645f21d4e739fe"
      }
     },
     "metadata": {},
     "output_type": "display_data"
    },
    {
     "data": {
      "text/plain": [
       "Validation: |          | 0/? [00:00<?, ?it/s]"
      ],
      "application/vnd.jupyter.widget-view+json": {
       "version_major": 2,
       "version_minor": 0,
       "model_id": "ffe2c3a990c74f45b1da1904b9305da5"
      }
     },
     "metadata": {},
     "output_type": "display_data"
    },
    {
     "data": {
      "text/plain": [
       "Validation: |          | 0/? [00:00<?, ?it/s]"
      ],
      "application/vnd.jupyter.widget-view+json": {
       "version_major": 2,
       "version_minor": 0,
       "model_id": "5535120c695c4843871f1abec7510f95"
      }
     },
     "metadata": {},
     "output_type": "display_data"
    },
    {
     "data": {
      "text/plain": [
       "Validation: |          | 0/? [00:00<?, ?it/s]"
      ],
      "application/vnd.jupyter.widget-view+json": {
       "version_major": 2,
       "version_minor": 0,
       "model_id": "4bc0d40d4cd4489dba393ae4415b0951"
      }
     },
     "metadata": {},
     "output_type": "display_data"
    },
    {
     "data": {
      "text/plain": [
       "Validation: |          | 0/? [00:00<?, ?it/s]"
      ],
      "application/vnd.jupyter.widget-view+json": {
       "version_major": 2,
       "version_minor": 0,
       "model_id": "c8edbd0d8bf14177b451e0496e4c04fe"
      }
     },
     "metadata": {},
     "output_type": "display_data"
    },
    {
     "data": {
      "text/plain": [
       "Validation: |          | 0/? [00:00<?, ?it/s]"
      ],
      "application/vnd.jupyter.widget-view+json": {
       "version_major": 2,
       "version_minor": 0,
       "model_id": "7dceca29125a428486f58baa5326f4b1"
      }
     },
     "metadata": {},
     "output_type": "display_data"
    },
    {
     "name": "stderr",
     "output_type": "stream",
     "text": [
      "Monitored metric val_loss did not improve in the last 10 records. Best score: 0.012. Signaling Trainer to stop.\n",
      "/home/eduardo/Documentos/Water-Cycle-Neural-Network/venv/lib/python3.12/site-packages/torch/nn/modules/transformer.py:382: UserWarning: enable_nested_tensor is True, but self.use_nested_tensor is False because encoder_layer.self_attn.batch_first was not True(use batch_first for better inference performance)\n",
      "  warnings.warn(\n",
      "GPU available: True (cuda), used: True\n",
      "TPU available: False, using: 0 TPU cores\n",
      "HPU available: False, using: 0 HPUs\n",
      "LOCAL_RANK: 0 - CUDA_VISIBLE_DEVICES: [0]\n",
      "/home/eduardo/Documentos/Water-Cycle-Neural-Network/venv/lib/python3.12/site-packages/pytorch_lightning/trainer/connectors/data_connector.py:425: The 'predict_dataloader' does not have many workers which may be a bottleneck. Consider increasing the value of the `num_workers` argument` to `num_workers=11` in the `DataLoader` to improve performance.\n"
     ]
    },
    {
     "name": "stdout",
     "output_type": "stream",
     "text": [
      "Model loaded from checkpoint for trial 18\n"
     ]
    },
    {
     "name": "stderr",
     "output_type": "stream",
     "text": [
      "[I 2025-05-19 14:55:22,065] Trial 18 finished with value: 44.97204086773107 and parameters: {'input_chunk_length': 44, 'd_model': 128, 'num_encoder_layers': 2, 'num_decoder_layers': 2, 'activation': 'GLU', 'dropout': 0.09672992984707846, 'batch_size': 31, 'lr': 0.0011075466705451314}. Best is trial 18 with value: 44.97204086773107.\n",
      "Specified future encoders in `add_encoders` at model creation but model does not accept future covariates. future encoders will be ignored.\n",
      "/home/eduardo/Documentos/Water-Cycle-Neural-Network/venv/lib/python3.12/site-packages/torch/nn/modules/transformer.py:382: UserWarning: enable_nested_tensor is True, but self.use_nested_tensor is False because encoder_layer.self_attn.batch_first was not True(use batch_first for better inference performance)\n",
      "  warnings.warn(\n",
      "GPU available: True (cuda), used: True\n",
      "TPU available: False, using: 0 TPU cores\n",
      "HPU available: False, using: 0 HPUs\n",
      "LOCAL_RANK: 0 - CUDA_VISIBLE_DEVICES: [0]\n",
      "\n",
      "  | Name                | Type                | Params | Mode \n",
      "--------------------------------------------------------------------\n",
      "0 | criterion           | HuberLoss           | 0      | train\n",
      "1 | train_criterion     | HuberLoss           | 0      | train\n",
      "2 | val_criterion       | HuberLoss           | 0      | train\n",
      "3 | train_metrics       | MetricCollection    | 0      | train\n",
      "4 | val_metrics         | MetricCollection    | 0      | train\n",
      "5 | encoder             | Linear              | 1.2 K  | train\n",
      "6 | positional_encoding | _PositionalEncoding | 0      | train\n",
      "7 | transformer         | Transformer         | 560 K  | train\n",
      "8 | decoder             | Linear              | 520    | train\n",
      "--------------------------------------------------------------------\n",
      "562 K     Trainable params\n",
      "0         Non-trainable params\n",
      "562 K     Total params\n",
      "2.251     Total estimated model params size (MB)\n",
      "71        Modules in train mode\n",
      "0         Modules in eval mode\n"
     ]
    },
    {
     "name": "stdout",
     "output_type": "stream",
     "text": [
      "Starting time series consistency verification...\n",
      "\n",
      "Performance metrics:\n",
      "                                    MSE        RMSE        MAE         R2  \\\n",
      "Temperature                    0.737171    0.858586   0.614249   0.783462   \n",
      "Precipitation_accumulated     37.786650    6.147085   4.564099 -38.811311   \n",
      "Humidity                       6.856047    2.618405   2.219306   0.894569   \n",
      "Wind_Speed_kmh                 0.083379    0.288753   0.171770   0.754991   \n",
      "Soil_Moisture              15425.482221  124.199365  68.884878   0.979154   \n",
      "Soil_Temperature               0.752600    0.867525   0.773297   0.865900   \n",
      "Wind_Dir_Sin                   0.045509    0.213329   0.095011   0.716663   \n",
      "Wind_Dir_Cos                   0.040505    0.201259   0.081409   0.858912   \n",
      "\n",
      "                                SMAPE  \n",
      "Temperature                 10.776694  \n",
      "Precipitation_accumulated    0.985466  \n",
      "Humidity                     2.640428  \n",
      "Wind_Speed_kmh             161.167415  \n",
      "Soil_Moisture                1.093719  \n",
      "Soil_Temperature            19.041589  \n",
      "Wind_Dir_Sin               141.390400  \n",
      "Wind_Dir_Cos                22.680615  \n",
      "The SMAPE for this fold was 44.97204086773107\n",
      "Results for trial 18 saved to optuna_iteration_metrics/trial_18.json\n",
      "Current value: 44.97204086773107, Current params: {'input_chunk_length': 44, 'd_model': 128, 'num_encoder_layers': 2, 'num_decoder_layers': 2, 'activation': 'GLU', 'dropout': 0.09672992984707846, 'batch_size': 31, 'lr': 0.0011075466705451314}\n",
      "Best value: 44.97204086773107, Best params: {'input_chunk_length': 44, 'd_model': 128, 'num_encoder_layers': 2, 'num_decoder_layers': 2, 'activation': 'GLU', 'dropout': 0.09672992984707846, 'batch_size': 31, 'lr': 0.0011075466705451314}\n",
      "\n",
      "Starting Trial 19\n",
      "Hyperparameters: {'input_chunk_length': 22, 'd_model': 64, 'num_encoder_layers': 2, 'num_decoder_layers': 1, 'activation': 'GLU', 'dropout': 0.0894823476002126, 'batch_size': 49, 'lr': 0.00046174962939748103}\n",
      "\n",
      "Training the model...\n",
      "Train set: 6647 samples\n",
      "Validation set: 1662 samples\n"
     ]
    },
    {
     "data": {
      "text/plain": [
       "Sanity Checking: |          | 0/? [00:00<?, ?it/s]"
      ],
      "application/vnd.jupyter.widget-view+json": {
       "version_major": 2,
       "version_minor": 0,
       "model_id": "61fd24cbdc0d43c8a7a88a406c35173a"
      }
     },
     "metadata": {},
     "output_type": "display_data"
    },
    {
     "data": {
      "text/plain": [
       "Training: |          | 0/? [00:00<?, ?it/s]"
      ],
      "application/vnd.jupyter.widget-view+json": {
       "version_major": 2,
       "version_minor": 0,
       "model_id": "3907a16d24f140d58363667f068a5302"
      }
     },
     "metadata": {},
     "output_type": "display_data"
    },
    {
     "data": {
      "text/plain": [
       "Validation: |          | 0/? [00:00<?, ?it/s]"
      ],
      "application/vnd.jupyter.widget-view+json": {
       "version_major": 2,
       "version_minor": 0,
       "model_id": "c6c36f18e94f429c99976b57d449ef43"
      }
     },
     "metadata": {},
     "output_type": "display_data"
    },
    {
     "name": "stderr",
     "output_type": "stream",
     "text": [
      "Metric val_loss improved. New best score: 0.021\n"
     ]
    },
    {
     "data": {
      "text/plain": [
       "Validation: |          | 0/? [00:00<?, ?it/s]"
      ],
      "application/vnd.jupyter.widget-view+json": {
       "version_major": 2,
       "version_minor": 0,
       "model_id": "b8c26493d22b403e869739e9a4275d1e"
      }
     },
     "metadata": {},
     "output_type": "display_data"
    },
    {
     "name": "stderr",
     "output_type": "stream",
     "text": [
      "Metric val_loss improved by 0.004 >= min_delta = 0.001. New best score: 0.017\n"
     ]
    },
    {
     "data": {
      "text/plain": [
       "Validation: |          | 0/? [00:00<?, ?it/s]"
      ],
      "application/vnd.jupyter.widget-view+json": {
       "version_major": 2,
       "version_minor": 0,
       "model_id": "be7c2c7a24254ccc8e3f27366ba74bbb"
      }
     },
     "metadata": {},
     "output_type": "display_data"
    },
    {
     "name": "stderr",
     "output_type": "stream",
     "text": [
      "Metric val_loss improved by 0.001 >= min_delta = 0.001. New best score: 0.016\n"
     ]
    },
    {
     "data": {
      "text/plain": [
       "Validation: |          | 0/? [00:00<?, ?it/s]"
      ],
      "application/vnd.jupyter.widget-view+json": {
       "version_major": 2,
       "version_minor": 0,
       "model_id": "9ed8414070ad4aed9f2b9412014b8b13"
      }
     },
     "metadata": {},
     "output_type": "display_data"
    },
    {
     "data": {
      "text/plain": [
       "Validation: |          | 0/? [00:00<?, ?it/s]"
      ],
      "application/vnd.jupyter.widget-view+json": {
       "version_major": 2,
       "version_minor": 0,
       "model_id": "ce068a1485a74807a6ce6437eea74f27"
      }
     },
     "metadata": {},
     "output_type": "display_data"
    },
    {
     "name": "stderr",
     "output_type": "stream",
     "text": [
      "Metric val_loss improved by 0.001 >= min_delta = 0.001. New best score: 0.014\n"
     ]
    },
    {
     "data": {
      "text/plain": [
       "Validation: |          | 0/? [00:00<?, ?it/s]"
      ],
      "application/vnd.jupyter.widget-view+json": {
       "version_major": 2,
       "version_minor": 0,
       "model_id": "dd5d0bdb23574e578276183db516704e"
      }
     },
     "metadata": {},
     "output_type": "display_data"
    },
    {
     "data": {
      "text/plain": [
       "Validation: |          | 0/? [00:00<?, ?it/s]"
      ],
      "application/vnd.jupyter.widget-view+json": {
       "version_major": 2,
       "version_minor": 0,
       "model_id": "4b581489d0be401b959e7aa5c858dca5"
      }
     },
     "metadata": {},
     "output_type": "display_data"
    },
    {
     "data": {
      "text/plain": [
       "Validation: |          | 0/? [00:00<?, ?it/s]"
      ],
      "application/vnd.jupyter.widget-view+json": {
       "version_major": 2,
       "version_minor": 0,
       "model_id": "83f6c5ebe59b484d90c7548aa9b612ab"
      }
     },
     "metadata": {},
     "output_type": "display_data"
    },
    {
     "data": {
      "text/plain": [
       "Validation: |          | 0/? [00:00<?, ?it/s]"
      ],
      "application/vnd.jupyter.widget-view+json": {
       "version_major": 2,
       "version_minor": 0,
       "model_id": "e0cd89dc8b6a4263bc0449c0703af692"
      }
     },
     "metadata": {},
     "output_type": "display_data"
    },
    {
     "data": {
      "text/plain": [
       "Validation: |          | 0/? [00:00<?, ?it/s]"
      ],
      "application/vnd.jupyter.widget-view+json": {
       "version_major": 2,
       "version_minor": 0,
       "model_id": "8a0ef1cd636840a0b0ebff44b7331da2"
      }
     },
     "metadata": {},
     "output_type": "display_data"
    },
    {
     "data": {
      "text/plain": [
       "Validation: |          | 0/? [00:00<?, ?it/s]"
      ],
      "application/vnd.jupyter.widget-view+json": {
       "version_major": 2,
       "version_minor": 0,
       "model_id": "05d832fca218479dab7fee678325a2ea"
      }
     },
     "metadata": {},
     "output_type": "display_data"
    },
    {
     "data": {
      "text/plain": [
       "Validation: |          | 0/? [00:00<?, ?it/s]"
      ],
      "application/vnd.jupyter.widget-view+json": {
       "version_major": 2,
       "version_minor": 0,
       "model_id": "ca527dbdb1c14d08a69eee43a339f2cb"
      }
     },
     "metadata": {},
     "output_type": "display_data"
    },
    {
     "data": {
      "text/plain": [
       "Validation: |          | 0/? [00:00<?, ?it/s]"
      ],
      "application/vnd.jupyter.widget-view+json": {
       "version_major": 2,
       "version_minor": 0,
       "model_id": "f7a858c7134148a8865edf68ca84fece"
      }
     },
     "metadata": {},
     "output_type": "display_data"
    },
    {
     "name": "stderr",
     "output_type": "stream",
     "text": [
      "[I 2025-05-19 14:56:01,283] Trial 19 pruned. Trial was pruned at epoch 12.\n",
      "Specified future encoders in `add_encoders` at model creation but model does not accept future covariates. future encoders will be ignored.\n",
      "/home/eduardo/Documentos/Water-Cycle-Neural-Network/venv/lib/python3.12/site-packages/torch/nn/modules/transformer.py:382: UserWarning: enable_nested_tensor is True, but self.use_nested_tensor is False because encoder_layer.self_attn.batch_first was not True(use batch_first for better inference performance)\n",
      "  warnings.warn(\n",
      "GPU available: True (cuda), used: True\n",
      "TPU available: False, using: 0 TPU cores\n",
      "HPU available: False, using: 0 HPUs\n",
      "LOCAL_RANK: 0 - CUDA_VISIBLE_DEVICES: [0]\n",
      "\n",
      "  | Name                | Type                | Params | Mode \n",
      "--------------------------------------------------------------------\n",
      "0 | criterion           | HuberLoss           | 0      | train\n",
      "1 | train_criterion     | HuberLoss           | 0      | train\n",
      "2 | val_criterion       | HuberLoss           | 0      | train\n",
      "3 | train_metrics       | MetricCollection    | 0      | train\n",
      "4 | val_metrics         | MetricCollection    | 0      | train\n",
      "5 | encoder             | Linear              | 4.9 K  | train\n",
      "6 | positional_encoding | _PositionalEncoding | 0      | train\n",
      "7 | transformer         | Transformer         | 4.2 M  | train\n",
      "8 | decoder             | Linear              | 2.1 K  | train\n",
      "--------------------------------------------------------------------\n",
      "4.2 M     Trainable params\n",
      "0         Non-trainable params\n",
      "4.2 M     Total params\n",
      "16.866    Total estimated model params size (MB)\n",
      "92        Modules in train mode\n",
      "0         Modules in eval mode\n"
     ]
    },
    {
     "name": "stdout",
     "output_type": "stream",
     "text": [
      "Current value: 0.013122052621527398, Current params: {'input_chunk_length': 22, 'd_model': 64, 'num_encoder_layers': 2, 'num_decoder_layers': 1, 'activation': 'GLU', 'dropout': 0.0894823476002126, 'batch_size': 49, 'lr': 0.00046174962939748103}\n",
      "Best value: 44.97204086773107, Best params: {'input_chunk_length': 44, 'd_model': 128, 'num_encoder_layers': 2, 'num_decoder_layers': 2, 'activation': 'GLU', 'dropout': 0.09672992984707846, 'batch_size': 31, 'lr': 0.0011075466705451314}\n",
      "\n",
      "Starting Trial 20\n",
      "Hyperparameters: {'input_chunk_length': 41, 'd_model': 256, 'num_encoder_layers': 2, 'num_decoder_layers': 2, 'activation': 'GLU', 'dropout': 0.009579201306342988, 'batch_size': 31, 'lr': 0.0013396643899117944}\n",
      "\n",
      "Training the model...\n",
      "Train set: 6647 samples\n",
      "Validation set: 1662 samples\n"
     ]
    },
    {
     "data": {
      "text/plain": [
       "Sanity Checking: |          | 0/? [00:00<?, ?it/s]"
      ],
      "application/vnd.jupyter.widget-view+json": {
       "version_major": 2,
       "version_minor": 0,
       "model_id": "f9afe08a68d84a3092ac9f0a08144926"
      }
     },
     "metadata": {},
     "output_type": "display_data"
    },
    {
     "data": {
      "text/plain": [
       "Training: |          | 0/? [00:00<?, ?it/s]"
      ],
      "application/vnd.jupyter.widget-view+json": {
       "version_major": 2,
       "version_minor": 0,
       "model_id": "65c38462d3fd4652981cafefca665652"
      }
     },
     "metadata": {},
     "output_type": "display_data"
    },
    {
     "data": {
      "text/plain": [
       "Validation: |          | 0/? [00:00<?, ?it/s]"
      ],
      "application/vnd.jupyter.widget-view+json": {
       "version_major": 2,
       "version_minor": 0,
       "model_id": "fe322f23e0fc4bf5a5f669a8bed2d4fa"
      }
     },
     "metadata": {},
     "output_type": "display_data"
    },
    {
     "name": "stderr",
     "output_type": "stream",
     "text": [
      "[I 2025-05-19 14:56:09,890] Trial 20 pruned. Trial was pruned at epoch 0.\n",
      "Specified future encoders in `add_encoders` at model creation but model does not accept future covariates. future encoders will be ignored.\n",
      "/home/eduardo/Documentos/Water-Cycle-Neural-Network/venv/lib/python3.12/site-packages/torch/nn/modules/transformer.py:382: UserWarning: enable_nested_tensor is True, but self.use_nested_tensor is False because encoder_layer.self_attn.batch_first was not True(use batch_first for better inference performance)\n",
      "  warnings.warn(\n",
      "GPU available: True (cuda), used: True\n",
      "TPU available: False, using: 0 TPU cores\n",
      "HPU available: False, using: 0 HPUs\n",
      "LOCAL_RANK: 0 - CUDA_VISIBLE_DEVICES: [0]\n",
      "\n",
      "  | Name                | Type                | Params | Mode \n",
      "--------------------------------------------------------------------\n",
      "0 | criterion           | HuberLoss           | 0      | train\n",
      "1 | train_criterion     | HuberLoss           | 0      | train\n",
      "2 | val_criterion       | HuberLoss           | 0      | train\n",
      "3 | train_metrics       | MetricCollection    | 0      | train\n",
      "4 | val_metrics         | MetricCollection    | 0      | train\n",
      "5 | encoder             | Linear              | 2.4 K  | train\n",
      "6 | positional_encoding | _PositionalEncoding | 0      | train\n",
      "7 | transformer         | Transformer         | 1.1 M  | train\n",
      "8 | decoder             | Linear              | 1.0 K  | train\n",
      "--------------------------------------------------------------------\n",
      "1.1 M     Trainable params\n",
      "0         Non-trainable params\n",
      "1.1 M     Total params\n",
      "4.506     Total estimated model params size (MB)\n",
      "72        Modules in train mode\n",
      "0         Modules in eval mode\n"
     ]
    },
    {
     "name": "stdout",
     "output_type": "stream",
     "text": [
      "Current value: 0.027593681417273308, Current params: {'input_chunk_length': 41, 'd_model': 256, 'num_encoder_layers': 2, 'num_decoder_layers': 2, 'activation': 'GLU', 'dropout': 0.009579201306342988, 'batch_size': 31, 'lr': 0.0013396643899117944}\n",
      "Best value: 44.97204086773107, Best params: {'input_chunk_length': 44, 'd_model': 128, 'num_encoder_layers': 2, 'num_decoder_layers': 2, 'activation': 'GLU', 'dropout': 0.09672992984707846, 'batch_size': 31, 'lr': 0.0011075466705451314}\n",
      "\n",
      "Starting Trial 21\n",
      "Hyperparameters: {'input_chunk_length': 50, 'd_model': 128, 'num_encoder_layers': 1, 'num_decoder_layers': 2, 'activation': 'ReLU', 'dropout': 0.15251217436072792, 'batch_size': 32, 'lr': 0.004462598333888252}\n",
      "\n",
      "Training the model...\n",
      "Train set: 6647 samples\n",
      "Validation set: 1662 samples\n"
     ]
    },
    {
     "data": {
      "text/plain": [
       "Sanity Checking: |          | 0/? [00:00<?, ?it/s]"
      ],
      "application/vnd.jupyter.widget-view+json": {
       "version_major": 2,
       "version_minor": 0,
       "model_id": "5d667929316647ccbdffc1aedeb5c3b0"
      }
     },
     "metadata": {},
     "output_type": "display_data"
    },
    {
     "data": {
      "text/plain": [
       "Training: |          | 0/? [00:00<?, ?it/s]"
      ],
      "application/vnd.jupyter.widget-view+json": {
       "version_major": 2,
       "version_minor": 0,
       "model_id": "a1b2871d695d47ac860aebeb79e9d11b"
      }
     },
     "metadata": {},
     "output_type": "display_data"
    },
    {
     "data": {
      "text/plain": [
       "Validation: |          | 0/? [00:00<?, ?it/s]"
      ],
      "application/vnd.jupyter.widget-view+json": {
       "version_major": 2,
       "version_minor": 0,
       "model_id": "3279f23fb9624962af01442f30a1060b"
      }
     },
     "metadata": {},
     "output_type": "display_data"
    },
    {
     "name": "stderr",
     "output_type": "stream",
     "text": [
      "[I 2025-05-19 14:56:15,307] Trial 21 pruned. Trial was pruned at epoch 0.\n",
      "Specified future encoders in `add_encoders` at model creation but model does not accept future covariates. future encoders will be ignored.\n",
      "/home/eduardo/Documentos/Water-Cycle-Neural-Network/venv/lib/python3.12/site-packages/torch/nn/modules/transformer.py:382: UserWarning: enable_nested_tensor is True, but self.use_nested_tensor is False because encoder_layer.self_attn.batch_first was not True(use batch_first for better inference performance)\n",
      "  warnings.warn(\n",
      "GPU available: True (cuda), used: True\n",
      "TPU available: False, using: 0 TPU cores\n",
      "HPU available: False, using: 0 HPUs\n",
      "LOCAL_RANK: 0 - CUDA_VISIBLE_DEVICES: [0]\n",
      "\n",
      "  | Name                | Type                | Params | Mode \n",
      "--------------------------------------------------------------------\n",
      "0 | criterion           | HuberLoss           | 0      | train\n",
      "1 | train_criterion     | HuberLoss           | 0      | train\n",
      "2 | val_criterion       | HuberLoss           | 0      | train\n",
      "3 | train_metrics       | MetricCollection    | 0      | train\n",
      "4 | val_metrics         | MetricCollection    | 0      | train\n",
      "5 | encoder             | Linear              | 2.4 K  | train\n",
      "6 | positional_encoding | _PositionalEncoding | 0      | train\n",
      "7 | transformer         | Transformer         | 1.8 M  | train\n",
      "8 | decoder             | Linear              | 1.0 K  | train\n",
      "--------------------------------------------------------------------\n",
      "1.8 M     Trainable params\n",
      "0         Non-trainable params\n",
      "1.8 M     Total params\n",
      "7.130     Total estimated model params size (MB)\n",
      "96        Modules in train mode\n",
      "0         Modules in eval mode\n"
     ]
    },
    {
     "name": "stdout",
     "output_type": "stream",
     "text": [
      "Current value: 0.059577254214924734, Current params: {'input_chunk_length': 50, 'd_model': 128, 'num_encoder_layers': 1, 'num_decoder_layers': 2, 'activation': 'ReLU', 'dropout': 0.15251217436072792, 'batch_size': 32, 'lr': 0.004462598333888252}\n",
      "Best value: 44.97204086773107, Best params: {'input_chunk_length': 44, 'd_model': 128, 'num_encoder_layers': 2, 'num_decoder_layers': 2, 'activation': 'GLU', 'dropout': 0.09672992984707846, 'batch_size': 31, 'lr': 0.0011075466705451314}\n",
      "\n",
      "Starting Trial 22\n",
      "Hyperparameters: {'input_chunk_length': 57, 'd_model': 128, 'num_encoder_layers': 1, 'num_decoder_layers': 3, 'activation': 'GLU', 'dropout': 0.07703325789526706, 'batch_size': 24, 'lr': 0.0012200442601871598}\n",
      "\n",
      "Training the model...\n",
      "Train set: 6647 samples\n",
      "Validation set: 1662 samples\n"
     ]
    },
    {
     "data": {
      "text/plain": [
       "Sanity Checking: |          | 0/? [00:00<?, ?it/s]"
      ],
      "application/vnd.jupyter.widget-view+json": {
       "version_major": 2,
       "version_minor": 0,
       "model_id": "7290fcfdf0da45a7ac541c7e63ea08d0"
      }
     },
     "metadata": {},
     "output_type": "display_data"
    },
    {
     "data": {
      "text/plain": [
       "Training: |          | 0/? [00:00<?, ?it/s]"
      ],
      "application/vnd.jupyter.widget-view+json": {
       "version_major": 2,
       "version_minor": 0,
       "model_id": "4182448a67754772b6a2e73c4806491d"
      }
     },
     "metadata": {},
     "output_type": "display_data"
    },
    {
     "data": {
      "text/plain": [
       "Validation: |          | 0/? [00:00<?, ?it/s]"
      ],
      "application/vnd.jupyter.widget-view+json": {
       "version_major": 2,
       "version_minor": 0,
       "model_id": "4820c62be40a4e65b49a63d8b2c7f71a"
      }
     },
     "metadata": {},
     "output_type": "display_data"
    },
    {
     "name": "stderr",
     "output_type": "stream",
     "text": [
      "Metric val_loss improved. New best score: 0.019\n"
     ]
    },
    {
     "data": {
      "text/plain": [
       "Validation: |          | 0/? [00:00<?, ?it/s]"
      ],
      "application/vnd.jupyter.widget-view+json": {
       "version_major": 2,
       "version_minor": 0,
       "model_id": "21cf5ac1bb5f40dda7f91e30a833c26d"
      }
     },
     "metadata": {},
     "output_type": "display_data"
    },
    {
     "name": "stderr",
     "output_type": "stream",
     "text": [
      "Metric val_loss improved by 0.005 >= min_delta = 0.001. New best score: 0.014\n"
     ]
    },
    {
     "data": {
      "text/plain": [
       "Validation: |          | 0/? [00:00<?, ?it/s]"
      ],
      "application/vnd.jupyter.widget-view+json": {
       "version_major": 2,
       "version_minor": 0,
       "model_id": "5c82c75d7a2e4e3b9c10ac11e5487002"
      }
     },
     "metadata": {},
     "output_type": "display_data"
    },
    {
     "data": {
      "text/plain": [
       "Validation: |          | 0/? [00:00<?, ?it/s]"
      ],
      "application/vnd.jupyter.widget-view+json": {
       "version_major": 2,
       "version_minor": 0,
       "model_id": "e78f5ce54ed4481e8728534a06c2e60b"
      }
     },
     "metadata": {},
     "output_type": "display_data"
    },
    {
     "data": {
      "text/plain": [
       "Validation: |          | 0/? [00:00<?, ?it/s]"
      ],
      "application/vnd.jupyter.widget-view+json": {
       "version_major": 2,
       "version_minor": 0,
       "model_id": "91baa3650ca24db6ab841c2334d033ac"
      }
     },
     "metadata": {},
     "output_type": "display_data"
    },
    {
     "data": {
      "text/plain": [
       "Validation: |          | 0/? [00:00<?, ?it/s]"
      ],
      "application/vnd.jupyter.widget-view+json": {
       "version_major": 2,
       "version_minor": 0,
       "model_id": "352e4c1a07c942ccb84a87106b8fe07e"
      }
     },
     "metadata": {},
     "output_type": "display_data"
    },
    {
     "name": "stderr",
     "output_type": "stream",
     "text": [
      "Metric val_loss improved by 0.001 >= min_delta = 0.001. New best score: 0.013\n"
     ]
    },
    {
     "data": {
      "text/plain": [
       "Validation: |          | 0/? [00:00<?, ?it/s]"
      ],
      "application/vnd.jupyter.widget-view+json": {
       "version_major": 2,
       "version_minor": 0,
       "model_id": "1bda401b8b6548199e11132dff140534"
      }
     },
     "metadata": {},
     "output_type": "display_data"
    },
    {
     "data": {
      "text/plain": [
       "Validation: |          | 0/? [00:00<?, ?it/s]"
      ],
      "application/vnd.jupyter.widget-view+json": {
       "version_major": 2,
       "version_minor": 0,
       "model_id": "c5cb0431629f4f18b438474815f85947"
      }
     },
     "metadata": {},
     "output_type": "display_data"
    },
    {
     "data": {
      "text/plain": [
       "Validation: |          | 0/? [00:00<?, ?it/s]"
      ],
      "application/vnd.jupyter.widget-view+json": {
       "version_major": 2,
       "version_minor": 0,
       "model_id": "219b64d7b55f4f599edda8185c11e5f1"
      }
     },
     "metadata": {},
     "output_type": "display_data"
    },
    {
     "data": {
      "text/plain": [
       "Validation: |          | 0/? [00:00<?, ?it/s]"
      ],
      "application/vnd.jupyter.widget-view+json": {
       "version_major": 2,
       "version_minor": 0,
       "model_id": "87c0b571527f40f9a18e465ac23c2f68"
      }
     },
     "metadata": {},
     "output_type": "display_data"
    },
    {
     "data": {
      "text/plain": [
       "Validation: |          | 0/? [00:00<?, ?it/s]"
      ],
      "application/vnd.jupyter.widget-view+json": {
       "version_major": 2,
       "version_minor": 0,
       "model_id": "a89484998c2644a7acba7f6619f3ff14"
      }
     },
     "metadata": {},
     "output_type": "display_data"
    },
    {
     "data": {
      "text/plain": [
       "Validation: |          | 0/? [00:00<?, ?it/s]"
      ],
      "application/vnd.jupyter.widget-view+json": {
       "version_major": 2,
       "version_minor": 0,
       "model_id": "5792008e8c914e39931c5f6658f7a448"
      }
     },
     "metadata": {},
     "output_type": "display_data"
    },
    {
     "data": {
      "text/plain": [
       "Validation: |          | 0/? [00:00<?, ?it/s]"
      ],
      "application/vnd.jupyter.widget-view+json": {
       "version_major": 2,
       "version_minor": 0,
       "model_id": "9b298540acb64c999185272c42ec5772"
      }
     },
     "metadata": {},
     "output_type": "display_data"
    },
    {
     "name": "stderr",
     "output_type": "stream",
     "text": [
      "Metric val_loss improved by 0.001 >= min_delta = 0.001. New best score: 0.012\n"
     ]
    },
    {
     "data": {
      "text/plain": [
       "Validation: |          | 0/? [00:00<?, ?it/s]"
      ],
      "application/vnd.jupyter.widget-view+json": {
       "version_major": 2,
       "version_minor": 0,
       "model_id": "df7459d466b9486d9d84e9eb6e13c79e"
      }
     },
     "metadata": {},
     "output_type": "display_data"
    },
    {
     "data": {
      "text/plain": [
       "Validation: |          | 0/? [00:00<?, ?it/s]"
      ],
      "application/vnd.jupyter.widget-view+json": {
       "version_major": 2,
       "version_minor": 0,
       "model_id": "38cfa432f4c64a03b5e996553c50771d"
      }
     },
     "metadata": {},
     "output_type": "display_data"
    },
    {
     "data": {
      "text/plain": [
       "Validation: |          | 0/? [00:00<?, ?it/s]"
      ],
      "application/vnd.jupyter.widget-view+json": {
       "version_major": 2,
       "version_minor": 0,
       "model_id": "36348bbee7194be3a738249d01eacaf5"
      }
     },
     "metadata": {},
     "output_type": "display_data"
    },
    {
     "data": {
      "text/plain": [
       "Validation: |          | 0/? [00:00<?, ?it/s]"
      ],
      "application/vnd.jupyter.widget-view+json": {
       "version_major": 2,
       "version_minor": 0,
       "model_id": "fab509b152204d30a3ab560b069bd61a"
      }
     },
     "metadata": {},
     "output_type": "display_data"
    },
    {
     "data": {
      "text/plain": [
       "Validation: |          | 0/? [00:00<?, ?it/s]"
      ],
      "application/vnd.jupyter.widget-view+json": {
       "version_major": 2,
       "version_minor": 0,
       "model_id": "ebb98e418be24f71873b095cc501eb69"
      }
     },
     "metadata": {},
     "output_type": "display_data"
    },
    {
     "data": {
      "text/plain": [
       "Validation: |          | 0/? [00:00<?, ?it/s]"
      ],
      "application/vnd.jupyter.widget-view+json": {
       "version_major": 2,
       "version_minor": 0,
       "model_id": "ac5463a49cd548158e8d95f9ac649dba"
      }
     },
     "metadata": {},
     "output_type": "display_data"
    },
    {
     "data": {
      "text/plain": [
       "Validation: |          | 0/? [00:00<?, ?it/s]"
      ],
      "application/vnd.jupyter.widget-view+json": {
       "version_major": 2,
       "version_minor": 0,
       "model_id": "820736d44bbe469188e3f9a2cdb9b448"
      }
     },
     "metadata": {},
     "output_type": "display_data"
    },
    {
     "data": {
      "text/plain": [
       "Validation: |          | 0/? [00:00<?, ?it/s]"
      ],
      "application/vnd.jupyter.widget-view+json": {
       "version_major": 2,
       "version_minor": 0,
       "model_id": "8fafbac2235944ca932ff6e33616b8e5"
      }
     },
     "metadata": {},
     "output_type": "display_data"
    },
    {
     "data": {
      "text/plain": [
       "Validation: |          | 0/? [00:00<?, ?it/s]"
      ],
      "application/vnd.jupyter.widget-view+json": {
       "version_major": 2,
       "version_minor": 0,
       "model_id": "143780ce705a4b41b280b7edd55a2764"
      }
     },
     "metadata": {},
     "output_type": "display_data"
    },
    {
     "data": {
      "text/plain": [
       "Validation: |          | 0/? [00:00<?, ?it/s]"
      ],
      "application/vnd.jupyter.widget-view+json": {
       "version_major": 2,
       "version_minor": 0,
       "model_id": "7107b52bc32f4f52a6caf9522bb9f8e3"
      }
     },
     "metadata": {},
     "output_type": "display_data"
    },
    {
     "name": "stderr",
     "output_type": "stream",
     "text": [
      "Monitored metric val_loss did not improve in the last 10 records. Best score: 0.012. Signaling Trainer to stop.\n",
      "/home/eduardo/Documentos/Water-Cycle-Neural-Network/venv/lib/python3.12/site-packages/torch/nn/modules/transformer.py:382: UserWarning: enable_nested_tensor is True, but self.use_nested_tensor is False because encoder_layer.self_attn.batch_first was not True(use batch_first for better inference performance)\n",
      "  warnings.warn(\n",
      "GPU available: True (cuda), used: True\n",
      "TPU available: False, using: 0 TPU cores\n",
      "HPU available: False, using: 0 HPUs\n",
      "LOCAL_RANK: 0 - CUDA_VISIBLE_DEVICES: [0]\n",
      "/home/eduardo/Documentos/Water-Cycle-Neural-Network/venv/lib/python3.12/site-packages/pytorch_lightning/trainer/connectors/data_connector.py:425: The 'predict_dataloader' does not have many workers which may be a bottleneck. Consider increasing the value of the `num_workers` argument` to `num_workers=11` in the `DataLoader` to improve performance.\n"
     ]
    },
    {
     "name": "stdout",
     "output_type": "stream",
     "text": [
      "Model loaded from checkpoint for trial 22\n"
     ]
    },
    {
     "name": "stderr",
     "output_type": "stream",
     "text": [
      "[I 2025-05-19 14:58:32,997] Trial 22 finished with value: 44.35035491565953 and parameters: {'input_chunk_length': 57, 'd_model': 128, 'num_encoder_layers': 1, 'num_decoder_layers': 3, 'activation': 'GLU', 'dropout': 0.07703325789526706, 'batch_size': 24, 'lr': 0.0012200442601871598}. Best is trial 22 with value: 44.35035491565953.\n",
      "Specified future encoders in `add_encoders` at model creation but model does not accept future covariates. future encoders will be ignored.\n",
      "/home/eduardo/Documentos/Water-Cycle-Neural-Network/venv/lib/python3.12/site-packages/torch/nn/modules/transformer.py:382: UserWarning: enable_nested_tensor is True, but self.use_nested_tensor is False because encoder_layer.self_attn.batch_first was not True(use batch_first for better inference performance)\n",
      "  warnings.warn(\n",
      "GPU available: True (cuda), used: True\n",
      "TPU available: False, using: 0 TPU cores\n",
      "HPU available: False, using: 0 HPUs\n",
      "LOCAL_RANK: 0 - CUDA_VISIBLE_DEVICES: [0]\n"
     ]
    },
    {
     "name": "stdout",
     "output_type": "stream",
     "text": [
      "Starting time series consistency verification...\n",
      "\n",
      "Performance metrics:\n",
      "                                    MSE        RMSE        MAE         R2  \\\n",
      "Temperature                    0.678211    0.823535   0.556461   0.800781   \n",
      "Precipitation_accumulated     22.979331    4.793676   3.147626 -23.210595   \n",
      "Humidity                       3.214109    1.792794   1.188086   0.950574   \n",
      "Wind_Speed_kmh                 0.078256    0.279743   0.148453   0.770043   \n",
      "Soil_Moisture              16433.262347  128.192287  64.897773   0.977792   \n",
      "Soil_Temperature               0.606909    0.779044   0.510487   0.891859   \n",
      "Wind_Dir_Sin                   0.048932    0.221205   0.105515   0.695355   \n",
      "Wind_Dir_Cos                   0.040312    0.200778   0.091854   0.859587   \n",
      "\n",
      "                                SMAPE  \n",
      "Temperature                  9.964110  \n",
      "Precipitation_accumulated    0.681980  \n",
      "Humidity                     1.426895  \n",
      "Wind_Speed_kmh             156.717790  \n",
      "Soil_Moisture                1.054629  \n",
      "Soil_Temperature            17.858915  \n",
      "Wind_Dir_Sin               141.072439  \n",
      "Wind_Dir_Cos                26.026081  \n",
      "The SMAPE for this fold was 44.35035491565953\n",
      "Results for trial 22 saved to optuna_iteration_metrics/trial_22.json\n",
      "Current value: 44.35035491565953, Current params: {'input_chunk_length': 57, 'd_model': 128, 'num_encoder_layers': 1, 'num_decoder_layers': 3, 'activation': 'GLU', 'dropout': 0.07703325789526706, 'batch_size': 24, 'lr': 0.0012200442601871598}\n",
      "Best value: 44.35035491565953, Best params: {'input_chunk_length': 57, 'd_model': 128, 'num_encoder_layers': 1, 'num_decoder_layers': 3, 'activation': 'GLU', 'dropout': 0.07703325789526706, 'batch_size': 24, 'lr': 0.0012200442601871598}\n",
      "\n",
      "Starting Trial 23\n",
      "Hyperparameters: {'input_chunk_length': 45, 'd_model': 128, 'num_encoder_layers': 2, 'num_decoder_layers': 3, 'activation': 'GLU', 'dropout': 0.07343676357537336, 'batch_size': 22, 'lr': 0.0009670394062353177}\n",
      "\n",
      "Training the model...\n",
      "Train set: 6647 samples\n",
      "Validation set: 1662 samples\n"
     ]
    },
    {
     "name": "stderr",
     "output_type": "stream",
     "text": [
      "\n",
      "  | Name                | Type                | Params | Mode \n",
      "--------------------------------------------------------------------\n",
      "0 | criterion           | HuberLoss           | 0      | train\n",
      "1 | train_criterion     | HuberLoss           | 0      | train\n",
      "2 | val_criterion       | HuberLoss           | 0      | train\n",
      "3 | train_metrics       | MetricCollection    | 0      | train\n",
      "4 | val_metrics         | MetricCollection    | 0      | train\n",
      "5 | encoder             | Linear              | 2.4 K  | train\n",
      "6 | positional_encoding | _PositionalEncoding | 0      | train\n",
      "7 | transformer         | Transformer         | 2.2 M  | train\n",
      "8 | decoder             | Linear              | 1.0 K  | train\n",
      "--------------------------------------------------------------------\n",
      "2.2 M     Trainable params\n",
      "0         Non-trainable params\n",
      "2.2 M     Total params\n",
      "8.709     Total estimated model params size (MB)\n",
      "113       Modules in train mode\n",
      "0         Modules in eval mode\n"
     ]
    },
    {
     "data": {
      "text/plain": [
       "Sanity Checking: |          | 0/? [00:00<?, ?it/s]"
      ],
      "application/vnd.jupyter.widget-view+json": {
       "version_major": 2,
       "version_minor": 0,
       "model_id": "6fcc29ac911240ada209901b58ee3979"
      }
     },
     "metadata": {},
     "output_type": "display_data"
    },
    {
     "data": {
      "text/plain": [
       "Training: |          | 0/? [00:00<?, ?it/s]"
      ],
      "application/vnd.jupyter.widget-view+json": {
       "version_major": 2,
       "version_minor": 0,
       "model_id": "7d156a7158f04d7fab70f16b19376aab"
      }
     },
     "metadata": {},
     "output_type": "display_data"
    },
    {
     "data": {
      "text/plain": [
       "Validation: |          | 0/? [00:00<?, ?it/s]"
      ],
      "application/vnd.jupyter.widget-view+json": {
       "version_major": 2,
       "version_minor": 0,
       "model_id": "279cd751d96b46ab95a10b87a251d6ad"
      }
     },
     "metadata": {},
     "output_type": "display_data"
    },
    {
     "name": "stderr",
     "output_type": "stream",
     "text": [
      "Metric val_loss improved. New best score: 0.025\n"
     ]
    },
    {
     "data": {
      "text/plain": [
       "Validation: |          | 0/? [00:00<?, ?it/s]"
      ],
      "application/vnd.jupyter.widget-view+json": {
       "version_major": 2,
       "version_minor": 0,
       "model_id": "656996a66cbe414e8ca88a651e652fd6"
      }
     },
     "metadata": {},
     "output_type": "display_data"
    },
    {
     "name": "stderr",
     "output_type": "stream",
     "text": [
      "Metric val_loss improved by 0.008 >= min_delta = 0.001. New best score: 0.017\n"
     ]
    },
    {
     "data": {
      "text/plain": [
       "Validation: |          | 0/? [00:00<?, ?it/s]"
      ],
      "application/vnd.jupyter.widget-view+json": {
       "version_major": 2,
       "version_minor": 0,
       "model_id": "3b0bd34330374b2ab4fb2340ef5f5b78"
      }
     },
     "metadata": {},
     "output_type": "display_data"
    },
    {
     "data": {
      "text/plain": [
       "Validation: |          | 0/? [00:00<?, ?it/s]"
      ],
      "application/vnd.jupyter.widget-view+json": {
       "version_major": 2,
       "version_minor": 0,
       "model_id": "8ce3a1a2f3994bd6bc2673146768a2bf"
      }
     },
     "metadata": {},
     "output_type": "display_data"
    },
    {
     "data": {
      "text/plain": [
       "Validation: |          | 0/? [00:00<?, ?it/s]"
      ],
      "application/vnd.jupyter.widget-view+json": {
       "version_major": 2,
       "version_minor": 0,
       "model_id": "21cd7411d8c24481b5fa6d542ad0f4c3"
      }
     },
     "metadata": {},
     "output_type": "display_data"
    },
    {
     "name": "stderr",
     "output_type": "stream",
     "text": [
      "Metric val_loss improved by 0.003 >= min_delta = 0.001. New best score: 0.013\n"
     ]
    },
    {
     "data": {
      "text/plain": [
       "Validation: |          | 0/? [00:00<?, ?it/s]"
      ],
      "application/vnd.jupyter.widget-view+json": {
       "version_major": 2,
       "version_minor": 0,
       "model_id": "9cd09cbebd09453ab488f63a93f2dff2"
      }
     },
     "metadata": {},
     "output_type": "display_data"
    },
    {
     "data": {
      "text/plain": [
       "Validation: |          | 0/? [00:00<?, ?it/s]"
      ],
      "application/vnd.jupyter.widget-view+json": {
       "version_major": 2,
       "version_minor": 0,
       "model_id": "b35fe94c54ca462481ad81988919d2a1"
      }
     },
     "metadata": {},
     "output_type": "display_data"
    },
    {
     "data": {
      "text/plain": [
       "Validation: |          | 0/? [00:00<?, ?it/s]"
      ],
      "application/vnd.jupyter.widget-view+json": {
       "version_major": 2,
       "version_minor": 0,
       "model_id": "5b02fa8b72194799a037b922d33d0685"
      }
     },
     "metadata": {},
     "output_type": "display_data"
    },
    {
     "data": {
      "text/plain": [
       "Validation: |          | 0/? [00:00<?, ?it/s]"
      ],
      "application/vnd.jupyter.widget-view+json": {
       "version_major": 2,
       "version_minor": 0,
       "model_id": "5a0028f4144f4a4198a042a21a31cb19"
      }
     },
     "metadata": {},
     "output_type": "display_data"
    },
    {
     "data": {
      "text/plain": [
       "Validation: |          | 0/? [00:00<?, ?it/s]"
      ],
      "application/vnd.jupyter.widget-view+json": {
       "version_major": 2,
       "version_minor": 0,
       "model_id": "e5485272a92d4b5dbf2a4e9fcd0a6c41"
      }
     },
     "metadata": {},
     "output_type": "display_data"
    },
    {
     "data": {
      "text/plain": [
       "Validation: |          | 0/? [00:00<?, ?it/s]"
      ],
      "application/vnd.jupyter.widget-view+json": {
       "version_major": 2,
       "version_minor": 0,
       "model_id": "2b7d216d1db7424b87895ade37d39906"
      }
     },
     "metadata": {},
     "output_type": "display_data"
    },
    {
     "data": {
      "text/plain": [
       "Validation: |          | 0/? [00:00<?, ?it/s]"
      ],
      "application/vnd.jupyter.widget-view+json": {
       "version_major": 2,
       "version_minor": 0,
       "model_id": "954c9fcf2b764294b480ba19cbdad50e"
      }
     },
     "metadata": {},
     "output_type": "display_data"
    },
    {
     "data": {
      "text/plain": [
       "Validation: |          | 0/? [00:00<?, ?it/s]"
      ],
      "application/vnd.jupyter.widget-view+json": {
       "version_major": 2,
       "version_minor": 0,
       "model_id": "8c67288878364238b8a10b2a5b5d9387"
      }
     },
     "metadata": {},
     "output_type": "display_data"
    },
    {
     "data": {
      "text/plain": [
       "Validation: |          | 0/? [00:00<?, ?it/s]"
      ],
      "application/vnd.jupyter.widget-view+json": {
       "version_major": 2,
       "version_minor": 0,
       "model_id": "427cd7b803b34015a9b538b7cdfbe5ba"
      }
     },
     "metadata": {},
     "output_type": "display_data"
    },
    {
     "name": "stderr",
     "output_type": "stream",
     "text": [
      "Metric val_loss improved by 0.001 >= min_delta = 0.001. New best score: 0.012\n"
     ]
    },
    {
     "data": {
      "text/plain": [
       "Validation: |          | 0/? [00:00<?, ?it/s]"
      ],
      "application/vnd.jupyter.widget-view+json": {
       "version_major": 2,
       "version_minor": 0,
       "model_id": "ea585424a79841908e7eddae0a736756"
      }
     },
     "metadata": {},
     "output_type": "display_data"
    },
    {
     "data": {
      "text/plain": [
       "Validation: |          | 0/? [00:00<?, ?it/s]"
      ],
      "application/vnd.jupyter.widget-view+json": {
       "version_major": 2,
       "version_minor": 0,
       "model_id": "39c379d3c6c4452a8bea8fa60d1d7cfe"
      }
     },
     "metadata": {},
     "output_type": "display_data"
    },
    {
     "data": {
      "text/plain": [
       "Validation: |          | 0/? [00:00<?, ?it/s]"
      ],
      "application/vnd.jupyter.widget-view+json": {
       "version_major": 2,
       "version_minor": 0,
       "model_id": "3780100141fc488e8a37c5ad5049cb55"
      }
     },
     "metadata": {},
     "output_type": "display_data"
    },
    {
     "data": {
      "text/plain": [
       "Validation: |          | 0/? [00:00<?, ?it/s]"
      ],
      "application/vnd.jupyter.widget-view+json": {
       "version_major": 2,
       "version_minor": 0,
       "model_id": "84a3bd210a1d4578991c1a7aa351c99e"
      }
     },
     "metadata": {},
     "output_type": "display_data"
    },
    {
     "data": {
      "text/plain": [
       "Validation: |          | 0/? [00:00<?, ?it/s]"
      ],
      "application/vnd.jupyter.widget-view+json": {
       "version_major": 2,
       "version_minor": 0,
       "model_id": "a7442325d7a9483e8586e19e3d91d9b9"
      }
     },
     "metadata": {},
     "output_type": "display_data"
    },
    {
     "data": {
      "text/plain": [
       "Validation: |          | 0/? [00:00<?, ?it/s]"
      ],
      "application/vnd.jupyter.widget-view+json": {
       "version_major": 2,
       "version_minor": 0,
       "model_id": "cc2ec6fdf2974329b1cfbe92b12295c4"
      }
     },
     "metadata": {},
     "output_type": "display_data"
    },
    {
     "data": {
      "text/plain": [
       "Validation: |          | 0/? [00:00<?, ?it/s]"
      ],
      "application/vnd.jupyter.widget-view+json": {
       "version_major": 2,
       "version_minor": 0,
       "model_id": "104d1cde88cb44789bd20e80abf7866c"
      }
     },
     "metadata": {},
     "output_type": "display_data"
    },
    {
     "data": {
      "text/plain": [
       "Validation: |          | 0/? [00:00<?, ?it/s]"
      ],
      "application/vnd.jupyter.widget-view+json": {
       "version_major": 2,
       "version_minor": 0,
       "model_id": "01dfbbffa0144a7d9e0c8020e36dbeb6"
      }
     },
     "metadata": {},
     "output_type": "display_data"
    },
    {
     "data": {
      "text/plain": [
       "Validation: |          | 0/? [00:00<?, ?it/s]"
      ],
      "application/vnd.jupyter.widget-view+json": {
       "version_major": 2,
       "version_minor": 0,
       "model_id": "442c5f4fa04d4996b871e1e1554f4ba6"
      }
     },
     "metadata": {},
     "output_type": "display_data"
    },
    {
     "data": {
      "text/plain": [
       "Validation: |          | 0/? [00:00<?, ?it/s]"
      ],
      "application/vnd.jupyter.widget-view+json": {
       "version_major": 2,
       "version_minor": 0,
       "model_id": "60659cf46fa448a197c7797b969d4c50"
      }
     },
     "metadata": {},
     "output_type": "display_data"
    },
    {
     "name": "stderr",
     "output_type": "stream",
     "text": [
      "Monitored metric val_loss did not improve in the last 10 records. Best score: 0.012. Signaling Trainer to stop.\n",
      "/home/eduardo/Documentos/Water-Cycle-Neural-Network/venv/lib/python3.12/site-packages/torch/nn/modules/transformer.py:382: UserWarning: enable_nested_tensor is True, but self.use_nested_tensor is False because encoder_layer.self_attn.batch_first was not True(use batch_first for better inference performance)\n",
      "  warnings.warn(\n",
      "GPU available: True (cuda), used: True\n",
      "TPU available: False, using: 0 TPU cores\n",
      "HPU available: False, using: 0 HPUs\n",
      "LOCAL_RANK: 0 - CUDA_VISIBLE_DEVICES: [0]\n",
      "/home/eduardo/Documentos/Water-Cycle-Neural-Network/venv/lib/python3.12/site-packages/pytorch_lightning/trainer/connectors/data_connector.py:425: The 'predict_dataloader' does not have many workers which may be a bottleneck. Consider increasing the value of the `num_workers` argument` to `num_workers=11` in the `DataLoader` to improve performance.\n"
     ]
    },
    {
     "name": "stdout",
     "output_type": "stream",
     "text": [
      "Model loaded from checkpoint for trial 23\n"
     ]
    },
    {
     "name": "stderr",
     "output_type": "stream",
     "text": [
      "[I 2025-05-19 15:04:11,242] Trial 23 finished with value: 44.79159624309895 and parameters: {'input_chunk_length': 45, 'd_model': 128, 'num_encoder_layers': 2, 'num_decoder_layers': 3, 'activation': 'GLU', 'dropout': 0.07343676357537336, 'batch_size': 22, 'lr': 0.0009670394062353177}. Best is trial 22 with value: 44.35035491565953.\n",
      "Specified future encoders in `add_encoders` at model creation but model does not accept future covariates. future encoders will be ignored.\n",
      "/home/eduardo/Documentos/Water-Cycle-Neural-Network/venv/lib/python3.12/site-packages/torch/nn/modules/transformer.py:382: UserWarning: enable_nested_tensor is True, but self.use_nested_tensor is False because encoder_layer.self_attn.batch_first was not True(use batch_first for better inference performance)\n",
      "  warnings.warn(\n",
      "GPU available: True (cuda), used: True\n",
      "TPU available: False, using: 0 TPU cores\n",
      "HPU available: False, using: 0 HPUs\n",
      "LOCAL_RANK: 0 - CUDA_VISIBLE_DEVICES: [0]\n",
      "\n",
      "  | Name                | Type                | Params | Mode \n",
      "--------------------------------------------------------------------\n",
      "0 | criterion           | HuberLoss           | 0      | train\n",
      "1 | train_criterion     | HuberLoss           | 0      | train\n",
      "2 | val_criterion       | HuberLoss           | 0      | train\n",
      "3 | train_metrics       | MetricCollection    | 0      | train\n",
      "4 | val_metrics         | MetricCollection    | 0      | train\n",
      "5 | encoder             | Linear              | 2.4 K  | train\n",
      "6 | positional_encoding | _PositionalEncoding | 0      | train\n",
      "7 | transformer         | Transformer         | 2.6 M  | train\n",
      "8 | decoder             | Linear              | 1.0 K  | train\n",
      "--------------------------------------------------------------------\n",
      "2.6 M     Trainable params\n",
      "0         Non-trainable params\n",
      "2.6 M     Total params\n",
      "10.289    Total estimated model params size (MB)\n",
      "130       Modules in train mode\n",
      "0         Modules in eval mode\n"
     ]
    },
    {
     "name": "stdout",
     "output_type": "stream",
     "text": [
      "Starting time series consistency verification...\n",
      "\n",
      "Performance metrics:\n",
      "                                    MSE        RMSE         MAE         R2  \\\n",
      "Temperature                    0.720513    0.848830    0.621208   0.788355   \n",
      "Precipitation_accumulated     95.417577    9.768192    8.890910 -99.530183   \n",
      "Humidity                       5.692159    2.385825    1.905601   0.912467   \n",
      "Wind_Speed_kmh                 0.069707    0.264022    0.119800   0.795164   \n",
      "Soil_Moisture              31259.555157  176.803719  143.935809   0.957756   \n",
      "Soil_Temperature               0.521803    0.722359    0.549374   0.907024   \n",
      "Wind_Dir_Sin                   0.042797    0.206874    0.089803   0.733551   \n",
      "Wind_Dir_Cos                   0.041379    0.203418    0.084744   0.855870   \n",
      "\n",
      "                                SMAPE  \n",
      "Temperature                 10.514729  \n",
      "Precipitation_accumulated    1.921318  \n",
      "Humidity                     2.284231  \n",
      "Wind_Speed_kmh             159.622065  \n",
      "Soil_Moisture                2.442685  \n",
      "Soil_Temperature            17.041125  \n",
      "Wind_Dir_Sin               141.671333  \n",
      "Wind_Dir_Cos                22.835283  \n",
      "The SMAPE for this fold was 44.79159624309895\n",
      "Results for trial 23 saved to optuna_iteration_metrics/trial_23.json\n",
      "Current value: 44.79159624309895, Current params: {'input_chunk_length': 45, 'd_model': 128, 'num_encoder_layers': 2, 'num_decoder_layers': 3, 'activation': 'GLU', 'dropout': 0.07343676357537336, 'batch_size': 22, 'lr': 0.0009670394062353177}\n",
      "Best value: 44.35035491565953, Best params: {'input_chunk_length': 57, 'd_model': 128, 'num_encoder_layers': 1, 'num_decoder_layers': 3, 'activation': 'GLU', 'dropout': 0.07703325789526706, 'batch_size': 24, 'lr': 0.0012200442601871598}\n",
      "\n",
      "Starting Trial 24\n",
      "Hyperparameters: {'input_chunk_length': 47, 'd_model': 128, 'num_encoder_layers': 3, 'num_decoder_layers': 3, 'activation': 'GLU', 'dropout': 0.07099900352560677, 'batch_size': 21, 'lr': 0.0004052556040423689}\n",
      "\n",
      "Training the model...\n",
      "Train set: 6647 samples\n",
      "Validation set: 1662 samples\n"
     ]
    },
    {
     "data": {
      "text/plain": [
       "Sanity Checking: |          | 0/? [00:00<?, ?it/s]"
      ],
      "application/vnd.jupyter.widget-view+json": {
       "version_major": 2,
       "version_minor": 0,
       "model_id": "62997a212bf4415d8838f6ab7aab2a22"
      }
     },
     "metadata": {},
     "output_type": "display_data"
    },
    {
     "data": {
      "text/plain": [
       "Training: |          | 0/? [00:00<?, ?it/s]"
      ],
      "application/vnd.jupyter.widget-view+json": {
       "version_major": 2,
       "version_minor": 0,
       "model_id": "9e5155af4cc94fdb9cc18493a7f5a922"
      }
     },
     "metadata": {},
     "output_type": "display_data"
    },
    {
     "data": {
      "text/plain": [
       "Validation: |          | 0/? [00:00<?, ?it/s]"
      ],
      "application/vnd.jupyter.widget-view+json": {
       "version_major": 2,
       "version_minor": 0,
       "model_id": "82347aa90bf541df825a9e7767c106ac"
      }
     },
     "metadata": {},
     "output_type": "display_data"
    },
    {
     "name": "stderr",
     "output_type": "stream",
     "text": [
      "Metric val_loss improved. New best score: 0.023\n"
     ]
    },
    {
     "data": {
      "text/plain": [
       "Validation: |          | 0/? [00:00<?, ?it/s]"
      ],
      "application/vnd.jupyter.widget-view+json": {
       "version_major": 2,
       "version_minor": 0,
       "model_id": "2110447ac1e9492091121a88b19bc7b0"
      }
     },
     "metadata": {},
     "output_type": "display_data"
    },
    {
     "name": "stderr",
     "output_type": "stream",
     "text": [
      "Metric val_loss improved by 0.004 >= min_delta = 0.001. New best score: 0.019\n"
     ]
    },
    {
     "data": {
      "text/plain": [
       "Validation: |          | 0/? [00:00<?, ?it/s]"
      ],
      "application/vnd.jupyter.widget-view+json": {
       "version_major": 2,
       "version_minor": 0,
       "model_id": "ed422ca694074ae2a26472e9355395e6"
      }
     },
     "metadata": {},
     "output_type": "display_data"
    },
    {
     "name": "stderr",
     "output_type": "stream",
     "text": [
      "Metric val_loss improved by 0.003 >= min_delta = 0.001. New best score: 0.016\n"
     ]
    },
    {
     "data": {
      "text/plain": [
       "Validation: |          | 0/? [00:00<?, ?it/s]"
      ],
      "application/vnd.jupyter.widget-view+json": {
       "version_major": 2,
       "version_minor": 0,
       "model_id": "92ace7d171994116ad672c52ccbf95a9"
      }
     },
     "metadata": {},
     "output_type": "display_data"
    },
    {
     "name": "stderr",
     "output_type": "stream",
     "text": [
      "Metric val_loss improved by 0.001 >= min_delta = 0.001. New best score: 0.015\n"
     ]
    },
    {
     "data": {
      "text/plain": [
       "Validation: |          | 0/? [00:00<?, ?it/s]"
      ],
      "application/vnd.jupyter.widget-view+json": {
       "version_major": 2,
       "version_minor": 0,
       "model_id": "15e9c1c0b77f44799e5554435eca7191"
      }
     },
     "metadata": {},
     "output_type": "display_data"
    },
    {
     "data": {
      "text/plain": [
       "Validation: |          | 0/? [00:00<?, ?it/s]"
      ],
      "application/vnd.jupyter.widget-view+json": {
       "version_major": 2,
       "version_minor": 0,
       "model_id": "abc5e9b9783b4a329e5c77ceca42e555"
      }
     },
     "metadata": {},
     "output_type": "display_data"
    },
    {
     "name": "stderr",
     "output_type": "stream",
     "text": [
      "[I 2025-05-19 15:05:05,275] Trial 24 pruned. Trial was pruned at epoch 5.\n",
      "Specified future encoders in `add_encoders` at model creation but model does not accept future covariates. future encoders will be ignored.\n",
      "/home/eduardo/Documentos/Water-Cycle-Neural-Network/venv/lib/python3.12/site-packages/torch/nn/modules/transformer.py:382: UserWarning: enable_nested_tensor is True, but self.use_nested_tensor is False because encoder_layer.self_attn.batch_first was not True(use batch_first for better inference performance)\n",
      "  warnings.warn(\n",
      "GPU available: True (cuda), used: True\n",
      "TPU available: False, using: 0 TPU cores\n",
      "HPU available: False, using: 0 HPUs\n",
      "LOCAL_RANK: 0 - CUDA_VISIBLE_DEVICES: [0]\n",
      "\n",
      "  | Name                | Type                | Params | Mode \n",
      "--------------------------------------------------------------------\n",
      "0 | criterion           | HuberLoss           | 0      | train\n",
      "1 | train_criterion     | HuberLoss           | 0      | train\n",
      "2 | val_criterion       | HuberLoss           | 0      | train\n",
      "3 | train_metrics       | MetricCollection    | 0      | train\n",
      "4 | val_metrics         | MetricCollection    | 0      | train\n",
      "5 | encoder             | Linear              | 2.4 K  | train\n",
      "6 | positional_encoding | _PositionalEncoding | 0      | train\n",
      "7 | transformer         | Transformer         | 2.2 M  | train\n",
      "8 | decoder             | Linear              | 1.0 K  | train\n",
      "--------------------------------------------------------------------\n",
      "2.2 M     Trainable params\n",
      "0         Non-trainable params\n",
      "2.2 M     Total params\n",
      "8.709     Total estimated model params size (MB)\n",
      "113       Modules in train mode\n",
      "0         Modules in eval mode\n"
     ]
    },
    {
     "name": "stdout",
     "output_type": "stream",
     "text": [
      "Current value: 0.015555478782978633, Current params: {'input_chunk_length': 47, 'd_model': 128, 'num_encoder_layers': 3, 'num_decoder_layers': 3, 'activation': 'GLU', 'dropout': 0.07099900352560677, 'batch_size': 21, 'lr': 0.0004052556040423689}\n",
      "Best value: 44.35035491565953, Best params: {'input_chunk_length': 57, 'd_model': 128, 'num_encoder_layers': 1, 'num_decoder_layers': 3, 'activation': 'GLU', 'dropout': 0.07703325789526706, 'batch_size': 24, 'lr': 0.0012200442601871598}\n",
      "\n",
      "Starting Trial 25\n",
      "Hyperparameters: {'input_chunk_length': 59, 'd_model': 128, 'num_encoder_layers': 2, 'num_decoder_layers': 3, 'activation': 'GLU', 'dropout': 0.04287065640281087, 'batch_size': 23, 'lr': 0.0014074193545399662}\n",
      "\n",
      "Training the model...\n",
      "Train set: 6647 samples\n",
      "Validation set: 1662 samples\n"
     ]
    },
    {
     "data": {
      "text/plain": [
       "Sanity Checking: |          | 0/? [00:00<?, ?it/s]"
      ],
      "application/vnd.jupyter.widget-view+json": {
       "version_major": 2,
       "version_minor": 0,
       "model_id": "2e8bca0237b14002821fb397b4ce5e3a"
      }
     },
     "metadata": {},
     "output_type": "display_data"
    },
    {
     "data": {
      "text/plain": [
       "Training: |          | 0/? [00:00<?, ?it/s]"
      ],
      "application/vnd.jupyter.widget-view+json": {
       "version_major": 2,
       "version_minor": 0,
       "model_id": "934d37d003c844fd8c58d24ee412f47e"
      }
     },
     "metadata": {},
     "output_type": "display_data"
    },
    {
     "data": {
      "text/plain": [
       "Validation: |          | 0/? [00:00<?, ?it/s]"
      ],
      "application/vnd.jupyter.widget-view+json": {
       "version_major": 2,
       "version_minor": 0,
       "model_id": "cf34accc1122420bb30ba4f51641144d"
      }
     },
     "metadata": {},
     "output_type": "display_data"
    },
    {
     "name": "stderr",
     "output_type": "stream",
     "text": [
      "Metric val_loss improved. New best score: 0.024\n"
     ]
    },
    {
     "data": {
      "text/plain": [
       "Validation: |          | 0/? [00:00<?, ?it/s]"
      ],
      "application/vnd.jupyter.widget-view+json": {
       "version_major": 2,
       "version_minor": 0,
       "model_id": "348e2b26ebcf4e97bfc6bad7e7b8b408"
      }
     },
     "metadata": {},
     "output_type": "display_data"
    },
    {
     "name": "stderr",
     "output_type": "stream",
     "text": [
      "Metric val_loss improved by 0.005 >= min_delta = 0.001. New best score: 0.019\n"
     ]
    },
    {
     "data": {
      "text/plain": [
       "Validation: |          | 0/? [00:00<?, ?it/s]"
      ],
      "application/vnd.jupyter.widget-view+json": {
       "version_major": 2,
       "version_minor": 0,
       "model_id": "9da0d01415f24f5888f8ec2a76c32abe"
      }
     },
     "metadata": {},
     "output_type": "display_data"
    },
    {
     "name": "stderr",
     "output_type": "stream",
     "text": [
      "Metric val_loss improved by 0.003 >= min_delta = 0.001. New best score: 0.017\n"
     ]
    },
    {
     "data": {
      "text/plain": [
       "Validation: |          | 0/? [00:00<?, ?it/s]"
      ],
      "application/vnd.jupyter.widget-view+json": {
       "version_major": 2,
       "version_minor": 0,
       "model_id": "ce47b4f629a04bb28cc1c1b64e40d431"
      }
     },
     "metadata": {},
     "output_type": "display_data"
    },
    {
     "data": {
      "text/plain": [
       "Validation: |          | 0/? [00:00<?, ?it/s]"
      ],
      "application/vnd.jupyter.widget-view+json": {
       "version_major": 2,
       "version_minor": 0,
       "model_id": "1b0e91b99e5c4f33a7d8fab33cd437bd"
      }
     },
     "metadata": {},
     "output_type": "display_data"
    },
    {
     "name": "stderr",
     "output_type": "stream",
     "text": [
      "Metric val_loss improved by 0.002 >= min_delta = 0.001. New best score: 0.015\n"
     ]
    },
    {
     "data": {
      "text/plain": [
       "Validation: |          | 0/? [00:00<?, ?it/s]"
      ],
      "application/vnd.jupyter.widget-view+json": {
       "version_major": 2,
       "version_minor": 0,
       "model_id": "d3f946c0d84d4d2bb10e067e20a50c3f"
      }
     },
     "metadata": {},
     "output_type": "display_data"
    },
    {
     "data": {
      "text/plain": [
       "Validation: |          | 0/? [00:00<?, ?it/s]"
      ],
      "application/vnd.jupyter.widget-view+json": {
       "version_major": 2,
       "version_minor": 0,
       "model_id": "c7e502196bc64c90a9cbbe929df9abb6"
      }
     },
     "metadata": {},
     "output_type": "display_data"
    },
    {
     "name": "stderr",
     "output_type": "stream",
     "text": [
      "Metric val_loss improved by 0.002 >= min_delta = 0.001. New best score: 0.012\n"
     ]
    },
    {
     "data": {
      "text/plain": [
       "Validation: |          | 0/? [00:00<?, ?it/s]"
      ],
      "application/vnd.jupyter.widget-view+json": {
       "version_major": 2,
       "version_minor": 0,
       "model_id": "8de2bbe1b2e843e18e48ba4d0e6ec0f0"
      }
     },
     "metadata": {},
     "output_type": "display_data"
    },
    {
     "data": {
      "text/plain": [
       "Validation: |          | 0/? [00:00<?, ?it/s]"
      ],
      "application/vnd.jupyter.widget-view+json": {
       "version_major": 2,
       "version_minor": 0,
       "model_id": "7e965403109543dbbaf374ed01427fb6"
      }
     },
     "metadata": {},
     "output_type": "display_data"
    },
    {
     "data": {
      "text/plain": [
       "Validation: |          | 0/? [00:00<?, ?it/s]"
      ],
      "application/vnd.jupyter.widget-view+json": {
       "version_major": 2,
       "version_minor": 0,
       "model_id": "cddad95280e2478cb762ed8a65d240ee"
      }
     },
     "metadata": {},
     "output_type": "display_data"
    },
    {
     "data": {
      "text/plain": [
       "Validation: |          | 0/? [00:00<?, ?it/s]"
      ],
      "application/vnd.jupyter.widget-view+json": {
       "version_major": 2,
       "version_minor": 0,
       "model_id": "c0fa08987784455d9e23e34eee56be63"
      }
     },
     "metadata": {},
     "output_type": "display_data"
    },
    {
     "data": {
      "text/plain": [
       "Validation: |          | 0/? [00:00<?, ?it/s]"
      ],
      "application/vnd.jupyter.widget-view+json": {
       "version_major": 2,
       "version_minor": 0,
       "model_id": "5252487b139a4ca08e3051f001539ad4"
      }
     },
     "metadata": {},
     "output_type": "display_data"
    },
    {
     "data": {
      "text/plain": [
       "Validation: |          | 0/? [00:00<?, ?it/s]"
      ],
      "application/vnd.jupyter.widget-view+json": {
       "version_major": 2,
       "version_minor": 0,
       "model_id": "b2dc25fafea9408c9fc316c03d585521"
      }
     },
     "metadata": {},
     "output_type": "display_data"
    },
    {
     "data": {
      "text/plain": [
       "Validation: |          | 0/? [00:00<?, ?it/s]"
      ],
      "application/vnd.jupyter.widget-view+json": {
       "version_major": 2,
       "version_minor": 0,
       "model_id": "5fd66e83e2184860b2a4f49248d094d0"
      }
     },
     "metadata": {},
     "output_type": "display_data"
    },
    {
     "data": {
      "text/plain": [
       "Validation: |          | 0/? [00:00<?, ?it/s]"
      ],
      "application/vnd.jupyter.widget-view+json": {
       "version_major": 2,
       "version_minor": 0,
       "model_id": "49b228f7b5694e3a981e23931420fea2"
      }
     },
     "metadata": {},
     "output_type": "display_data"
    },
    {
     "data": {
      "text/plain": [
       "Validation: |          | 0/? [00:00<?, ?it/s]"
      ],
      "application/vnd.jupyter.widget-view+json": {
       "version_major": 2,
       "version_minor": 0,
       "model_id": "c557a9da58224659a8081ce89d025dd7"
      }
     },
     "metadata": {},
     "output_type": "display_data"
    },
    {
     "data": {
      "text/plain": [
       "Validation: |          | 0/? [00:00<?, ?it/s]"
      ],
      "application/vnd.jupyter.widget-view+json": {
       "version_major": 2,
       "version_minor": 0,
       "model_id": "d1f052fdd9634778b8b4d882bd27cc1d"
      }
     },
     "metadata": {},
     "output_type": "display_data"
    },
    {
     "name": "stderr",
     "output_type": "stream",
     "text": [
      "Monitored metric val_loss did not improve in the last 10 records. Best score: 0.012. Signaling Trainer to stop.\n",
      "/home/eduardo/Documentos/Water-Cycle-Neural-Network/venv/lib/python3.12/site-packages/torch/nn/modules/transformer.py:382: UserWarning: enable_nested_tensor is True, but self.use_nested_tensor is False because encoder_layer.self_attn.batch_first was not True(use batch_first for better inference performance)\n",
      "  warnings.warn(\n",
      "GPU available: True (cuda), used: True\n",
      "TPU available: False, using: 0 TPU cores\n",
      "HPU available: False, using: 0 HPUs\n",
      "LOCAL_RANK: 0 - CUDA_VISIBLE_DEVICES: [0]\n",
      "/home/eduardo/Documentos/Water-Cycle-Neural-Network/venv/lib/python3.12/site-packages/pytorch_lightning/trainer/connectors/data_connector.py:425: The 'predict_dataloader' does not have many workers which may be a bottleneck. Consider increasing the value of the `num_workers` argument` to `num_workers=11` in the `DataLoader` to improve performance.\n"
     ]
    },
    {
     "name": "stdout",
     "output_type": "stream",
     "text": [
      "Model loaded from checkpoint for trial 25\n"
     ]
    },
    {
     "name": "stderr",
     "output_type": "stream",
     "text": [
      "[I 2025-05-19 15:07:12,336] Trial 25 finished with value: 49.330140929506385 and parameters: {'input_chunk_length': 59, 'd_model': 128, 'num_encoder_layers': 2, 'num_decoder_layers': 3, 'activation': 'GLU', 'dropout': 0.04287065640281087, 'batch_size': 23, 'lr': 0.0014074193545399662}. Best is trial 22 with value: 44.35035491565953.\n",
      "Specified future encoders in `add_encoders` at model creation but model does not accept future covariates. future encoders will be ignored.\n",
      "/home/eduardo/Documentos/Water-Cycle-Neural-Network/venv/lib/python3.12/site-packages/torch/nn/modules/transformer.py:382: UserWarning: enable_nested_tensor is True, but self.use_nested_tensor is False because encoder_layer.self_attn.batch_first was not True(use batch_first for better inference performance)\n",
      "  warnings.warn(\n",
      "GPU available: True (cuda), used: True\n",
      "TPU available: False, using: 0 TPU cores\n",
      "HPU available: False, using: 0 HPUs\n",
      "LOCAL_RANK: 0 - CUDA_VISIBLE_DEVICES: [0]\n"
     ]
    },
    {
     "name": "stdout",
     "output_type": "stream",
     "text": [
      "Starting time series consistency verification...\n",
      "\n",
      "Performance metrics:\n",
      "                                    MSE        RMSE         MAE         R2  \\\n",
      "Temperature                    1.632940    1.277866    1.012358   0.520337   \n",
      "Precipitation_accumulated     30.312155    5.505648    4.105953 -30.936323   \n",
      "Humidity                       8.069752    2.840731    2.426281   0.875905   \n",
      "Wind_Speed_kmh                 0.073097    0.270365    0.133544   0.785203   \n",
      "Soil_Moisture              24519.944830  156.588457  107.868691   0.966864   \n",
      "Soil_Temperature               1.728291    1.314645    1.144124   0.692048   \n",
      "Wind_Dir_Sin                   0.046236    0.215026    0.101996   0.712138   \n",
      "Wind_Dir_Cos                   0.040383    0.200954    0.106572   0.859340   \n",
      "\n",
      "                                SMAPE  \n",
      "Temperature                 21.186390  \n",
      "Precipitation_accumulated    0.888614  \n",
      "Humidity                     2.860825  \n",
      "Wind_Speed_kmh             168.557587  \n",
      "Soil_Moisture                1.816199  \n",
      "Soil_Temperature            29.933459  \n",
      "Wind_Dir_Sin               141.520379  \n",
      "Wind_Dir_Cos                27.877675  \n",
      "The SMAPE for this fold was 49.330140929506385\n",
      "Results for trial 25 saved to optuna_iteration_metrics/trial_25.json\n",
      "Current value: 49.330140929506385, Current params: {'input_chunk_length': 59, 'd_model': 128, 'num_encoder_layers': 2, 'num_decoder_layers': 3, 'activation': 'GLU', 'dropout': 0.04287065640281087, 'batch_size': 23, 'lr': 0.0014074193545399662}\n",
      "Best value: 44.35035491565953, Best params: {'input_chunk_length': 57, 'd_model': 128, 'num_encoder_layers': 1, 'num_decoder_layers': 3, 'activation': 'GLU', 'dropout': 0.07703325789526706, 'batch_size': 24, 'lr': 0.0012200442601871598}\n",
      "\n",
      "Starting Trial 26\n",
      "Hyperparameters: {'input_chunk_length': 37, 'd_model': 128, 'num_encoder_layers': 2, 'num_decoder_layers': 3, 'activation': 'GLU', 'dropout': 0.10300963105944776, 'batch_size': 16, 'lr': 0.00010264319709499545}\n",
      "\n",
      "Training the model...\n",
      "Train set: 6647 samples\n",
      "Validation set: 1662 samples\n"
     ]
    },
    {
     "name": "stderr",
     "output_type": "stream",
     "text": [
      "\n",
      "  | Name                | Type                | Params | Mode \n",
      "--------------------------------------------------------------------\n",
      "0 | criterion           | HuberLoss           | 0      | train\n",
      "1 | train_criterion     | HuberLoss           | 0      | train\n",
      "2 | val_criterion       | HuberLoss           | 0      | train\n",
      "3 | train_metrics       | MetricCollection    | 0      | train\n",
      "4 | val_metrics         | MetricCollection    | 0      | train\n",
      "5 | encoder             | Linear              | 2.4 K  | train\n",
      "6 | positional_encoding | _PositionalEncoding | 0      | train\n",
      "7 | transformer         | Transformer         | 2.2 M  | train\n",
      "8 | decoder             | Linear              | 1.0 K  | train\n",
      "--------------------------------------------------------------------\n",
      "2.2 M     Trainable params\n",
      "0         Non-trainable params\n",
      "2.2 M     Total params\n",
      "8.709     Total estimated model params size (MB)\n",
      "113       Modules in train mode\n",
      "0         Modules in eval mode\n"
     ]
    },
    {
     "data": {
      "text/plain": [
       "Sanity Checking: |          | 0/? [00:00<?, ?it/s]"
      ],
      "application/vnd.jupyter.widget-view+json": {
       "version_major": 2,
       "version_minor": 0,
       "model_id": "693bd40f1d8d44ffab3c761bf50aa472"
      }
     },
     "metadata": {},
     "output_type": "display_data"
    },
    {
     "data": {
      "text/plain": [
       "Training: |          | 0/? [00:00<?, ?it/s]"
      ],
      "application/vnd.jupyter.widget-view+json": {
       "version_major": 2,
       "version_minor": 0,
       "model_id": "a01ba8da75f644bf8d95f2faaa12fa0f"
      }
     },
     "metadata": {},
     "output_type": "display_data"
    },
    {
     "data": {
      "text/plain": [
       "Validation: |          | 0/? [00:00<?, ?it/s]"
      ],
      "application/vnd.jupyter.widget-view+json": {
       "version_major": 2,
       "version_minor": 0,
       "model_id": "1176ac87f4b34e30a98dcf608cd11098"
      }
     },
     "metadata": {},
     "output_type": "display_data"
    },
    {
     "name": "stderr",
     "output_type": "stream",
     "text": [
      "Metric val_loss improved. New best score: 0.022\n"
     ]
    },
    {
     "data": {
      "text/plain": [
       "Validation: |          | 0/? [00:00<?, ?it/s]"
      ],
      "application/vnd.jupyter.widget-view+json": {
       "version_major": 2,
       "version_minor": 0,
       "model_id": "88d3e057ff87483c99a089e07736b5f5"
      }
     },
     "metadata": {},
     "output_type": "display_data"
    },
    {
     "name": "stderr",
     "output_type": "stream",
     "text": [
      "[I 2025-05-19 15:07:30,988] Trial 26 pruned. Trial was pruned at epoch 1.\n",
      "Specified future encoders in `add_encoders` at model creation but model does not accept future covariates. future encoders will be ignored.\n",
      "/home/eduardo/Documentos/Water-Cycle-Neural-Network/venv/lib/python3.12/site-packages/torch/nn/modules/transformer.py:382: UserWarning: enable_nested_tensor is True, but self.use_nested_tensor is False because encoder_layer.self_attn.batch_first was not True(use batch_first for better inference performance)\n",
      "  warnings.warn(\n",
      "GPU available: True (cuda), used: True\n",
      "TPU available: False, using: 0 TPU cores\n",
      "HPU available: False, using: 0 HPUs\n",
      "LOCAL_RANK: 0 - CUDA_VISIBLE_DEVICES: [0]\n",
      "\n",
      "  | Name                | Type                | Params | Mode \n",
      "--------------------------------------------------------------------\n",
      "0 | criterion           | HuberLoss           | 0      | train\n",
      "1 | train_criterion     | HuberLoss           | 0      | train\n",
      "2 | val_criterion       | HuberLoss           | 0      | train\n",
      "3 | train_metrics       | MetricCollection    | 0      | train\n",
      "4 | val_metrics         | MetricCollection    | 0      | train\n",
      "5 | encoder             | Linear              | 2.4 K  | train\n",
      "6 | positional_encoding | _PositionalEncoding | 0      | train\n",
      "7 | transformer         | Transformer         | 2.6 M  | train\n",
      "8 | decoder             | Linear              | 1.0 K  | train\n",
      "--------------------------------------------------------------------\n",
      "2.6 M     Trainable params\n",
      "0         Non-trainable params\n",
      "2.6 M     Total params\n",
      "10.289    Total estimated model params size (MB)\n",
      "130       Modules in train mode\n",
      "0         Modules in eval mode\n"
     ]
    },
    {
     "name": "stdout",
     "output_type": "stream",
     "text": [
      "Current value: 0.01972737849984258, Current params: {'input_chunk_length': 37, 'd_model': 128, 'num_encoder_layers': 2, 'num_decoder_layers': 3, 'activation': 'GLU', 'dropout': 0.10300963105944776, 'batch_size': 16, 'lr': 0.00010264319709499545}\n",
      "Best value: 44.35035491565953, Best params: {'input_chunk_length': 57, 'd_model': 128, 'num_encoder_layers': 1, 'num_decoder_layers': 3, 'activation': 'GLU', 'dropout': 0.07703325789526706, 'batch_size': 24, 'lr': 0.0012200442601871598}\n",
      "\n",
      "Starting Trial 27\n",
      "Hyperparameters: {'input_chunk_length': 46, 'd_model': 128, 'num_encoder_layers': 3, 'num_decoder_layers': 3, 'activation': 'GLU', 'dropout': 0.0724744255431177, 'batch_size': 30, 'lr': 0.001196623800378753}\n",
      "\n",
      "Training the model...\n",
      "Train set: 6647 samples\n",
      "Validation set: 1662 samples\n"
     ]
    },
    {
     "data": {
      "text/plain": [
       "Sanity Checking: |          | 0/? [00:00<?, ?it/s]"
      ],
      "application/vnd.jupyter.widget-view+json": {
       "version_major": 2,
       "version_minor": 0,
       "model_id": "8662fa6670c44e319aff7ac8cf406f32"
      }
     },
     "metadata": {},
     "output_type": "display_data"
    },
    {
     "data": {
      "text/plain": [
       "Training: |          | 0/? [00:00<?, ?it/s]"
      ],
      "application/vnd.jupyter.widget-view+json": {
       "version_major": 2,
       "version_minor": 0,
       "model_id": "1df1183e92054b0ca7d3b6f258643d5a"
      }
     },
     "metadata": {},
     "output_type": "display_data"
    },
    {
     "data": {
      "text/plain": [
       "Validation: |          | 0/? [00:00<?, ?it/s]"
      ],
      "application/vnd.jupyter.widget-view+json": {
       "version_major": 2,
       "version_minor": 0,
       "model_id": "c6257bad41984f3798e1e0e15aeed9b7"
      }
     },
     "metadata": {},
     "output_type": "display_data"
    },
    {
     "name": "stderr",
     "output_type": "stream",
     "text": [
      "Metric val_loss improved. New best score: 0.023\n"
     ]
    },
    {
     "data": {
      "text/plain": [
       "Validation: |          | 0/? [00:00<?, ?it/s]"
      ],
      "application/vnd.jupyter.widget-view+json": {
       "version_major": 2,
       "version_minor": 0,
       "model_id": "ecf76f921cbe480e9237e561b7d36e54"
      }
     },
     "metadata": {},
     "output_type": "display_data"
    },
    {
     "name": "stderr",
     "output_type": "stream",
     "text": [
      "Metric val_loss improved by 0.004 >= min_delta = 0.001. New best score: 0.019\n"
     ]
    },
    {
     "data": {
      "text/plain": [
       "Validation: |          | 0/? [00:00<?, ?it/s]"
      ],
      "application/vnd.jupyter.widget-view+json": {
       "version_major": 2,
       "version_minor": 0,
       "model_id": "72cdc9c7438544828466045022fbb37c"
      }
     },
     "metadata": {},
     "output_type": "display_data"
    },
    {
     "data": {
      "text/plain": [
       "Validation: |          | 0/? [00:00<?, ?it/s]"
      ],
      "application/vnd.jupyter.widget-view+json": {
       "version_major": 2,
       "version_minor": 0,
       "model_id": "a75445d216394274875d0bf917cd4cb6"
      }
     },
     "metadata": {},
     "output_type": "display_data"
    },
    {
     "name": "stderr",
     "output_type": "stream",
     "text": [
      "Metric val_loss improved by 0.003 >= min_delta = 0.001. New best score: 0.016\n"
     ]
    },
    {
     "data": {
      "text/plain": [
       "Validation: |          | 0/? [00:00<?, ?it/s]"
      ],
      "application/vnd.jupyter.widget-view+json": {
       "version_major": 2,
       "version_minor": 0,
       "model_id": "352aad21faa9481fae70a5a25fd6db72"
      }
     },
     "metadata": {},
     "output_type": "display_data"
    },
    {
     "name": "stderr",
     "output_type": "stream",
     "text": [
      "[I 2025-05-19 15:08:07,019] Trial 27 pruned. Trial was pruned at epoch 4.\n",
      "Specified future encoders in `add_encoders` at model creation but model does not accept future covariates. future encoders will be ignored.\n",
      "/home/eduardo/Documentos/Water-Cycle-Neural-Network/venv/lib/python3.12/site-packages/torch/nn/modules/transformer.py:382: UserWarning: enable_nested_tensor is True, but self.use_nested_tensor is False because encoder_layer.self_attn.batch_first was not True(use batch_first for better inference performance)\n",
      "  warnings.warn(\n",
      "GPU available: True (cuda), used: True\n",
      "TPU available: False, using: 0 TPU cores\n",
      "HPU available: False, using: 0 HPUs\n",
      "LOCAL_RANK: 0 - CUDA_VISIBLE_DEVICES: [0]\n",
      "\n",
      "  | Name                | Type                | Params | Mode \n",
      "--------------------------------------------------------------------\n",
      "0 | criterion           | HuberLoss           | 0      | train\n",
      "1 | train_criterion     | HuberLoss           | 0      | train\n",
      "2 | val_criterion       | HuberLoss           | 0      | train\n",
      "3 | train_metrics       | MetricCollection    | 0      | train\n",
      "4 | val_metrics         | MetricCollection    | 0      | train\n",
      "5 | encoder             | Linear              | 2.4 K  | train\n",
      "6 | positional_encoding | _PositionalEncoding | 0      | train\n",
      "7 | transformer         | Transformer         | 1.7 M  | train\n",
      "8 | decoder             | Linear              | 1.0 K  | train\n",
      "--------------------------------------------------------------------\n",
      "1.7 M     Trainable params\n",
      "0         Non-trainable params\n",
      "1.7 M     Total params\n",
      "6.864     Total estimated model params size (MB)\n",
      "92        Modules in train mode\n",
      "0         Modules in eval mode\n"
     ]
    },
    {
     "name": "stdout",
     "output_type": "stream",
     "text": [
      "Current value: 0.014790478110519806, Current params: {'input_chunk_length': 46, 'd_model': 128, 'num_encoder_layers': 3, 'num_decoder_layers': 3, 'activation': 'GLU', 'dropout': 0.0724744255431177, 'batch_size': 30, 'lr': 0.001196623800378753}\n",
      "Best value: 44.35035491565953, Best params: {'input_chunk_length': 57, 'd_model': 128, 'num_encoder_layers': 1, 'num_decoder_layers': 3, 'activation': 'GLU', 'dropout': 0.07703325789526706, 'batch_size': 24, 'lr': 0.0012200442601871598}\n",
      "\n",
      "Starting Trial 28\n",
      "Hyperparameters: {'input_chunk_length': 39, 'd_model': 128, 'num_encoder_layers': 2, 'num_decoder_layers': 2, 'activation': 'GLU', 'dropout': 0.03101850827190166, 'batch_size': 23, 'lr': 0.000547428385772428}\n",
      "\n",
      "Training the model...\n",
      "Train set: 6647 samples\n",
      "Validation set: 1662 samples\n"
     ]
    },
    {
     "data": {
      "text/plain": [
       "Sanity Checking: |          | 0/? [00:00<?, ?it/s]"
      ],
      "application/vnd.jupyter.widget-view+json": {
       "version_major": 2,
       "version_minor": 0,
       "model_id": "8b0abc32e9b54965866be32aba900382"
      }
     },
     "metadata": {},
     "output_type": "display_data"
    },
    {
     "data": {
      "text/plain": [
       "Training: |          | 0/? [00:00<?, ?it/s]"
      ],
      "application/vnd.jupyter.widget-view+json": {
       "version_major": 2,
       "version_minor": 0,
       "model_id": "fab831c003e34b8abc3ba242ab5ed69d"
      }
     },
     "metadata": {},
     "output_type": "display_data"
    },
    {
     "data": {
      "text/plain": [
       "Validation: |          | 0/? [00:00<?, ?it/s]"
      ],
      "application/vnd.jupyter.widget-view+json": {
       "version_major": 2,
       "version_minor": 0,
       "model_id": "543ab4dd33bc40caa0225de1130c31fb"
      }
     },
     "metadata": {},
     "output_type": "display_data"
    },
    {
     "name": "stderr",
     "output_type": "stream",
     "text": [
      "Metric val_loss improved. New best score: 0.020\n"
     ]
    },
    {
     "data": {
      "text/plain": [
       "Validation: |          | 0/? [00:00<?, ?it/s]"
      ],
      "application/vnd.jupyter.widget-view+json": {
       "version_major": 2,
       "version_minor": 0,
       "model_id": "8fe9692196fe4e41b7cbb419038b5484"
      }
     },
     "metadata": {},
     "output_type": "display_data"
    },
    {
     "name": "stderr",
     "output_type": "stream",
     "text": [
      "Metric val_loss improved by 0.006 >= min_delta = 0.001. New best score: 0.014\n"
     ]
    },
    {
     "data": {
      "text/plain": [
       "Validation: |          | 0/? [00:00<?, ?it/s]"
      ],
      "application/vnd.jupyter.widget-view+json": {
       "version_major": 2,
       "version_minor": 0,
       "model_id": "3bcdb139437e4f9a993edfe1faf4cb46"
      }
     },
     "metadata": {},
     "output_type": "display_data"
    },
    {
     "data": {
      "text/plain": [
       "Validation: |          | 0/? [00:00<?, ?it/s]"
      ],
      "application/vnd.jupyter.widget-view+json": {
       "version_major": 2,
       "version_minor": 0,
       "model_id": "f270d92593ae4cb79588020a5ae1fc0b"
      }
     },
     "metadata": {},
     "output_type": "display_data"
    },
    {
     "data": {
      "text/plain": [
       "Validation: |          | 0/? [00:00<?, ?it/s]"
      ],
      "application/vnd.jupyter.widget-view+json": {
       "version_major": 2,
       "version_minor": 0,
       "model_id": "820c001956b4480babfdeb0432446a8c"
      }
     },
     "metadata": {},
     "output_type": "display_data"
    },
    {
     "data": {
      "text/plain": [
       "Validation: |          | 0/? [00:00<?, ?it/s]"
      ],
      "application/vnd.jupyter.widget-view+json": {
       "version_major": 2,
       "version_minor": 0,
       "model_id": "ef1ae6772eaa4402a9924005065ded36"
      }
     },
     "metadata": {},
     "output_type": "display_data"
    },
    {
     "data": {
      "text/plain": [
       "Validation: |          | 0/? [00:00<?, ?it/s]"
      ],
      "application/vnd.jupyter.widget-view+json": {
       "version_major": 2,
       "version_minor": 0,
       "model_id": "cd4ba867a3ab427aaa83a629f6f99d87"
      }
     },
     "metadata": {},
     "output_type": "display_data"
    },
    {
     "data": {
      "text/plain": [
       "Validation: |          | 0/? [00:00<?, ?it/s]"
      ],
      "application/vnd.jupyter.widget-view+json": {
       "version_major": 2,
       "version_minor": 0,
       "model_id": "03ea985260dc45ccaa9bcc735fa312f6"
      }
     },
     "metadata": {},
     "output_type": "display_data"
    },
    {
     "data": {
      "text/plain": [
       "Validation: |          | 0/? [00:00<?, ?it/s]"
      ],
      "application/vnd.jupyter.widget-view+json": {
       "version_major": 2,
       "version_minor": 0,
       "model_id": "8390971eeed249a5b3b6e41dd1eb1e64"
      }
     },
     "metadata": {},
     "output_type": "display_data"
    },
    {
     "name": "stderr",
     "output_type": "stream",
     "text": [
      "Metric val_loss improved by 0.002 >= min_delta = 0.001. New best score: 0.013\n"
     ]
    },
    {
     "data": {
      "text/plain": [
       "Validation: |          | 0/? [00:00<?, ?it/s]"
      ],
      "application/vnd.jupyter.widget-view+json": {
       "version_major": 2,
       "version_minor": 0,
       "model_id": "6e84ea1a920e4c298cc05a2ddebb26cc"
      }
     },
     "metadata": {},
     "output_type": "display_data"
    },
    {
     "data": {
      "text/plain": [
       "Validation: |          | 0/? [00:00<?, ?it/s]"
      ],
      "application/vnd.jupyter.widget-view+json": {
       "version_major": 2,
       "version_minor": 0,
       "model_id": "85524d95616a462f8bea2df541587823"
      }
     },
     "metadata": {},
     "output_type": "display_data"
    },
    {
     "data": {
      "text/plain": [
       "Validation: |          | 0/? [00:00<?, ?it/s]"
      ],
      "application/vnd.jupyter.widget-view+json": {
       "version_major": 2,
       "version_minor": 0,
       "model_id": "91df7eee64614b0abebcb28c79faa072"
      }
     },
     "metadata": {},
     "output_type": "display_data"
    },
    {
     "data": {
      "text/plain": [
       "Validation: |          | 0/? [00:00<?, ?it/s]"
      ],
      "application/vnd.jupyter.widget-view+json": {
       "version_major": 2,
       "version_minor": 0,
       "model_id": "d3713770ada24610818c59b70386b03e"
      }
     },
     "metadata": {},
     "output_type": "display_data"
    },
    {
     "data": {
      "text/plain": [
       "Validation: |          | 0/? [00:00<?, ?it/s]"
      ],
      "application/vnd.jupyter.widget-view+json": {
       "version_major": 2,
       "version_minor": 0,
       "model_id": "06f8c87889f34c658d6052b95e283e4e"
      }
     },
     "metadata": {},
     "output_type": "display_data"
    },
    {
     "data": {
      "text/plain": [
       "Validation: |          | 0/? [00:00<?, ?it/s]"
      ],
      "application/vnd.jupyter.widget-view+json": {
       "version_major": 2,
       "version_minor": 0,
       "model_id": "3564c8bb679f40428fb31b251329ee45"
      }
     },
     "metadata": {},
     "output_type": "display_data"
    },
    {
     "data": {
      "text/plain": [
       "Validation: |          | 0/? [00:00<?, ?it/s]"
      ],
      "application/vnd.jupyter.widget-view+json": {
       "version_major": 2,
       "version_minor": 0,
       "model_id": "7fb0c38d02e743b4b63c298e450bbbd2"
      }
     },
     "metadata": {},
     "output_type": "display_data"
    },
    {
     "data": {
      "text/plain": [
       "Validation: |          | 0/? [00:00<?, ?it/s]"
      ],
      "application/vnd.jupyter.widget-view+json": {
       "version_major": 2,
       "version_minor": 0,
       "model_id": "a70bf6e8b21b4e3f919862a07cfe8b8a"
      }
     },
     "metadata": {},
     "output_type": "display_data"
    },
    {
     "data": {
      "text/plain": [
       "Validation: |          | 0/? [00:00<?, ?it/s]"
      ],
      "application/vnd.jupyter.widget-view+json": {
       "version_major": 2,
       "version_minor": 0,
       "model_id": "3afbe24d5bdc44f08d1eb2d5aa91aa69"
      }
     },
     "metadata": {},
     "output_type": "display_data"
    },
    {
     "data": {
      "text/plain": [
       "Validation: |          | 0/? [00:00<?, ?it/s]"
      ],
      "application/vnd.jupyter.widget-view+json": {
       "version_major": 2,
       "version_minor": 0,
       "model_id": "3c5ca4103ee34130ba752c6acffee2c0"
      }
     },
     "metadata": {},
     "output_type": "display_data"
    },
    {
     "name": "stderr",
     "output_type": "stream",
     "text": [
      "Monitored metric val_loss did not improve in the last 10 records. Best score: 0.013. Signaling Trainer to stop.\n",
      "/home/eduardo/Documentos/Water-Cycle-Neural-Network/venv/lib/python3.12/site-packages/torch/nn/modules/transformer.py:382: UserWarning: enable_nested_tensor is True, but self.use_nested_tensor is False because encoder_layer.self_attn.batch_first was not True(use batch_first for better inference performance)\n",
      "  warnings.warn(\n",
      "GPU available: True (cuda), used: True\n",
      "TPU available: False, using: 0 TPU cores\n",
      "HPU available: False, using: 0 HPUs\n",
      "LOCAL_RANK: 0 - CUDA_VISIBLE_DEVICES: [0]\n",
      "/home/eduardo/Documentos/Water-Cycle-Neural-Network/venv/lib/python3.12/site-packages/pytorch_lightning/trainer/connectors/data_connector.py:425: The 'predict_dataloader' does not have many workers which may be a bottleneck. Consider increasing the value of the `num_workers` argument` to `num_workers=11` in the `DataLoader` to improve performance.\n"
     ]
    },
    {
     "name": "stdout",
     "output_type": "stream",
     "text": [
      "Model loaded from checkpoint for trial 28\n"
     ]
    },
    {
     "name": "stderr",
     "output_type": "stream",
     "text": [
      "[I 2025-05-19 15:12:53,160] Trial 28 finished with value: 46.26678654489868 and parameters: {'input_chunk_length': 39, 'd_model': 128, 'num_encoder_layers': 2, 'num_decoder_layers': 2, 'activation': 'GLU', 'dropout': 0.03101850827190166, 'batch_size': 23, 'lr': 0.000547428385772428}. Best is trial 22 with value: 44.35035491565953.\n",
      "Specified future encoders in `add_encoders` at model creation but model does not accept future covariates. future encoders will be ignored.\n",
      "/home/eduardo/Documentos/Water-Cycle-Neural-Network/venv/lib/python3.12/site-packages/torch/nn/modules/transformer.py:382: UserWarning: enable_nested_tensor is True, but self.use_nested_tensor is False because encoder_layer.self_attn.batch_first was not True(use batch_first for better inference performance)\n",
      "  warnings.warn(\n",
      "GPU available: True (cuda), used: True\n",
      "TPU available: False, using: 0 TPU cores\n",
      "HPU available: False, using: 0 HPUs\n",
      "LOCAL_RANK: 0 - CUDA_VISIBLE_DEVICES: [0]\n",
      "\n",
      "  | Name                | Type                | Params | Mode \n",
      "--------------------------------------------------------------------\n",
      "0 | criterion           | HuberLoss           | 0      | train\n",
      "1 | train_criterion     | HuberLoss           | 0      | train\n",
      "2 | val_criterion       | HuberLoss           | 0      | train\n",
      "3 | train_metrics       | MetricCollection    | 0      | train\n",
      "4 | val_metrics         | MetricCollection    | 0      | train\n",
      "5 | encoder             | Linear              | 2.4 K  | train\n",
      "6 | positional_encoding | _PositionalEncoding | 0      | train\n",
      "7 | transformer         | Transformer         | 2.2 M  | train\n",
      "8 | decoder             | Linear              | 1.0 K  | train\n",
      "--------------------------------------------------------------------\n",
      "2.2 M     Trainable params\n",
      "0         Non-trainable params\n",
      "2.2 M     Total params\n",
      "8.709     Total estimated model params size (MB)\n",
      "113       Modules in train mode\n",
      "0         Modules in eval mode\n"
     ]
    },
    {
     "name": "stdout",
     "output_type": "stream",
     "text": [
      "Starting time series consistency verification...\n",
      "\n",
      "Performance metrics:\n",
      "                                    MSE        RMSE        MAE          R2  \\\n",
      "Temperature                    1.373604    1.172009   1.055396    0.596515   \n",
      "Precipitation_accumulated    155.274710   12.460927   9.952472 -162.594544   \n",
      "Humidity                       6.595560    2.568182   2.088595    0.898575   \n",
      "Wind_Speed_kmh                 0.089418    0.299029   0.148712    0.737243   \n",
      "Soil_Moisture              16689.539414  129.188000  77.028199    0.977446   \n",
      "Soil_Temperature               0.448637    0.669803   0.443487    0.920061   \n",
      "Wind_Dir_Sin                   0.048909    0.221154   0.116569    0.695496   \n",
      "Wind_Dir_Cos                   0.041032    0.202563   0.088665    0.857078   \n",
      "\n",
      "                                SMAPE  \n",
      "Temperature                 16.970597  \n",
      "Precipitation_accumulated    2.129234  \n",
      "Humidity                     2.529742  \n",
      "Wind_Speed_kmh             158.751684  \n",
      "Soil_Moisture                1.248544  \n",
      "Soil_Temperature            14.721158  \n",
      "Wind_Dir_Sin               145.370275  \n",
      "Wind_Dir_Cos                28.413059  \n",
      "The SMAPE for this fold was 46.26678654489868\n",
      "Results for trial 28 saved to optuna_iteration_metrics/trial_28.json\n",
      "Current value: 46.26678654489868, Current params: {'input_chunk_length': 39, 'd_model': 128, 'num_encoder_layers': 2, 'num_decoder_layers': 2, 'activation': 'GLU', 'dropout': 0.03101850827190166, 'batch_size': 23, 'lr': 0.000547428385772428}\n",
      "Best value: 44.35035491565953, Best params: {'input_chunk_length': 57, 'd_model': 128, 'num_encoder_layers': 1, 'num_decoder_layers': 3, 'activation': 'GLU', 'dropout': 0.07703325789526706, 'batch_size': 24, 'lr': 0.0012200442601871598}\n",
      "\n",
      "Starting Trial 29\n",
      "Hyperparameters: {'input_chunk_length': 57, 'd_model': 128, 'num_encoder_layers': 2, 'num_decoder_layers': 3, 'activation': 'Bilinear', 'dropout': 0.09093074559593914, 'batch_size': 24, 'lr': 0.0002680330832097531}\n",
      "\n",
      "Training the model...\n",
      "Train set: 6647 samples\n",
      "Validation set: 1662 samples\n"
     ]
    },
    {
     "data": {
      "text/plain": [
       "Sanity Checking: |          | 0/? [00:00<?, ?it/s]"
      ],
      "application/vnd.jupyter.widget-view+json": {
       "version_major": 2,
       "version_minor": 0,
       "model_id": "e409b88a21e3416590f48ca39069be2c"
      }
     },
     "metadata": {},
     "output_type": "display_data"
    },
    {
     "data": {
      "text/plain": [
       "Training: |          | 0/? [00:00<?, ?it/s]"
      ],
      "application/vnd.jupyter.widget-view+json": {
       "version_major": 2,
       "version_minor": 0,
       "model_id": "130920492b43436da3126ebfa5226488"
      }
     },
     "metadata": {},
     "output_type": "display_data"
    },
    {
     "data": {
      "text/plain": [
       "Validation: |          | 0/? [00:00<?, ?it/s]"
      ],
      "application/vnd.jupyter.widget-view+json": {
       "version_major": 2,
       "version_minor": 0,
       "model_id": "ffabfed1cfb54680a83c1e446f125e68"
      }
     },
     "metadata": {},
     "output_type": "display_data"
    },
    {
     "name": "stderr",
     "output_type": "stream",
     "text": [
      "Metric val_loss improved. New best score: 0.022\n"
     ]
    },
    {
     "data": {
      "text/plain": [
       "Validation: |          | 0/? [00:00<?, ?it/s]"
      ],
      "application/vnd.jupyter.widget-view+json": {
       "version_major": 2,
       "version_minor": 0,
       "model_id": "1eab4d4daac8458da1257c8dc1bd4357"
      }
     },
     "metadata": {},
     "output_type": "display_data"
    },
    {
     "name": "stderr",
     "output_type": "stream",
     "text": [
      "[I 2025-05-19 15:13:09,811] Trial 29 pruned. Trial was pruned at epoch 1.\n",
      "Specified future encoders in `add_encoders` at model creation but model does not accept future covariates. future encoders will be ignored.\n",
      "/home/eduardo/Documentos/Water-Cycle-Neural-Network/venv/lib/python3.12/site-packages/torch/nn/modules/transformer.py:382: UserWarning: enable_nested_tensor is True, but self.use_nested_tensor is False because encoder_layer.self_attn.batch_first was not True(use batch_first for better inference performance)\n",
      "  warnings.warn(\n"
     ]
    },
    {
     "name": "stdout",
     "output_type": "stream",
     "text": [
      "Current value: 0.0247180079038506, Current params: {'input_chunk_length': 57, 'd_model': 128, 'num_encoder_layers': 2, 'num_decoder_layers': 3, 'activation': 'Bilinear', 'dropout': 0.09093074559593914, 'batch_size': 24, 'lr': 0.0002680330832097531}\n",
      "Best value: 44.35035491565953, Best params: {'input_chunk_length': 57, 'd_model': 128, 'num_encoder_layers': 1, 'num_decoder_layers': 3, 'activation': 'GLU', 'dropout': 0.07703325789526706, 'batch_size': 24, 'lr': 0.0012200442601871598}\n",
      "\n",
      "Starting Trial 30\n",
      "Hyperparameters: {'input_chunk_length': 31, 'd_model': 128, 'num_encoder_layers': 3, 'num_decoder_layers': 4, 'activation': 'GEGLU', 'dropout': 0.0555977841032378, 'batch_size': 28, 'lr': 0.0010907081054399711}\n",
      "\n",
      "Training the model...\n",
      "Train set: 6647 samples\n",
      "Validation set: 1662 samples\n"
     ]
    },
    {
     "name": "stderr",
     "output_type": "stream",
     "text": [
      "GPU available: True (cuda), used: True\n",
      "TPU available: False, using: 0 TPU cores\n",
      "HPU available: False, using: 0 HPUs\n",
      "LOCAL_RANK: 0 - CUDA_VISIBLE_DEVICES: [0]\n",
      "\n",
      "  | Name                | Type                | Params | Mode \n",
      "--------------------------------------------------------------------\n",
      "0 | criterion           | HuberLoss           | 0      | train\n",
      "1 | train_criterion     | HuberLoss           | 0      | train\n",
      "2 | val_criterion       | HuberLoss           | 0      | train\n",
      "3 | train_metrics       | MetricCollection    | 0      | train\n",
      "4 | val_metrics         | MetricCollection    | 0      | train\n",
      "5 | encoder             | Linear              | 2.4 K  | train\n",
      "6 | positional_encoding | _PositionalEncoding | 0      | train\n",
      "7 | transformer         | Transformer         | 3.0 M  | train\n",
      "8 | decoder             | Linear              | 1.0 K  | train\n",
      "--------------------------------------------------------------------\n",
      "3.0 M     Trainable params\n",
      "0         Non-trainable params\n",
      "3.0 M     Total params\n",
      "12.133    Total estimated model params size (MB)\n",
      "151       Modules in train mode\n",
      "0         Modules in eval mode\n"
     ]
    },
    {
     "data": {
      "text/plain": [
       "Sanity Checking: |          | 0/? [00:00<?, ?it/s]"
      ],
      "application/vnd.jupyter.widget-view+json": {
       "version_major": 2,
       "version_minor": 0,
       "model_id": "e8a727d96316447d9e0100721443ae56"
      }
     },
     "metadata": {},
     "output_type": "display_data"
    },
    {
     "data": {
      "text/plain": [
       "Training: |          | 0/? [00:00<?, ?it/s]"
      ],
      "application/vnd.jupyter.widget-view+json": {
       "version_major": 2,
       "version_minor": 0,
       "model_id": "1130b9c409ad44c6b0cce5971dfa2782"
      }
     },
     "metadata": {},
     "output_type": "display_data"
    },
    {
     "data": {
      "text/plain": [
       "Validation: |          | 0/? [00:00<?, ?it/s]"
      ],
      "application/vnd.jupyter.widget-view+json": {
       "version_major": 2,
       "version_minor": 0,
       "model_id": "15186aea385a4c939bf2c05ac0cb0ade"
      }
     },
     "metadata": {},
     "output_type": "display_data"
    },
    {
     "name": "stderr",
     "output_type": "stream",
     "text": [
      "[I 2025-05-19 15:13:19,108] Trial 30 pruned. Trial was pruned at epoch 0.\n",
      "Specified future encoders in `add_encoders` at model creation but model does not accept future covariates. future encoders will be ignored.\n",
      "/home/eduardo/Documentos/Water-Cycle-Neural-Network/venv/lib/python3.12/site-packages/torch/nn/modules/transformer.py:382: UserWarning: enable_nested_tensor is True, but self.use_nested_tensor is False because encoder_layer.self_attn.batch_first was not True(use batch_first for better inference performance)\n",
      "  warnings.warn(\n",
      "GPU available: True (cuda), used: True\n",
      "TPU available: False, using: 0 TPU cores\n",
      "HPU available: False, using: 0 HPUs\n",
      "LOCAL_RANK: 0 - CUDA_VISIBLE_DEVICES: [0]\n",
      "\n",
      "  | Name                | Type                | Params | Mode \n",
      "--------------------------------------------------------------------\n",
      "0 | criterion           | HuberLoss           | 0      | train\n",
      "1 | train_criterion     | HuberLoss           | 0      | train\n",
      "2 | val_criterion       | HuberLoss           | 0      | train\n",
      "3 | train_metrics       | MetricCollection    | 0      | train\n",
      "4 | val_metrics         | MetricCollection    | 0      | train\n",
      "5 | encoder             | Linear              | 2.4 K  | train\n",
      "6 | positional_encoding | _PositionalEncoding | 0      | train\n",
      "7 | transformer         | Transformer         | 856 K  | train\n",
      "8 | decoder             | Linear              | 1.0 K  | train\n",
      "--------------------------------------------------------------------\n",
      "860 K     Trainable params\n",
      "0         Non-trainable params\n",
      "860 K     Total params\n",
      "3.440     Total estimated model params size (MB)\n",
      "54        Modules in train mode\n",
      "0         Modules in eval mode\n"
     ]
    },
    {
     "name": "stdout",
     "output_type": "stream",
     "text": [
      "Current value: 0.035603877796555536, Current params: {'input_chunk_length': 31, 'd_model': 128, 'num_encoder_layers': 3, 'num_decoder_layers': 4, 'activation': 'GEGLU', 'dropout': 0.0555977841032378, 'batch_size': 28, 'lr': 0.0010907081054399711}\n",
      "Best value: 44.35035491565953, Best params: {'input_chunk_length': 57, 'd_model': 128, 'num_encoder_layers': 1, 'num_decoder_layers': 3, 'activation': 'GLU', 'dropout': 0.07703325789526706, 'batch_size': 24, 'lr': 0.0012200442601871598}\n",
      "\n",
      "Starting Trial 31\n",
      "Hyperparameters: {'input_chunk_length': 53, 'd_model': 128, 'num_encoder_layers': 1, 'num_decoder_layers': 1, 'activation': 'GLU', 'dropout': 0.1423148914201085, 'batch_size': 38, 'lr': 0.00283644586881751}\n",
      "\n",
      "Training the model...\n",
      "Train set: 6647 samples\n",
      "Validation set: 1662 samples\n"
     ]
    },
    {
     "data": {
      "text/plain": [
       "Sanity Checking: |          | 0/? [00:00<?, ?it/s]"
      ],
      "application/vnd.jupyter.widget-view+json": {
       "version_major": 2,
       "version_minor": 0,
       "model_id": "a4d5035628c245a68a5dad370f240968"
      }
     },
     "metadata": {},
     "output_type": "display_data"
    },
    {
     "data": {
      "text/plain": [
       "Training: |          | 0/? [00:00<?, ?it/s]"
      ],
      "application/vnd.jupyter.widget-view+json": {
       "version_major": 2,
       "version_minor": 0,
       "model_id": "04fb4e46c4fc4bf0ada4850e46541e0d"
      }
     },
     "metadata": {},
     "output_type": "display_data"
    },
    {
     "data": {
      "text/plain": [
       "Validation: |          | 0/? [00:00<?, ?it/s]"
      ],
      "application/vnd.jupyter.widget-view+json": {
       "version_major": 2,
       "version_minor": 0,
       "model_id": "2fa7b2f9f5884f929265e39280c3eea1"
      }
     },
     "metadata": {},
     "output_type": "display_data"
    },
    {
     "name": "stderr",
     "output_type": "stream",
     "text": [
      "Metric val_loss improved. New best score: 0.023\n"
     ]
    },
    {
     "data": {
      "text/plain": [
       "Validation: |          | 0/? [00:00<?, ?it/s]"
      ],
      "application/vnd.jupyter.widget-view+json": {
       "version_major": 2,
       "version_minor": 0,
       "model_id": "70e139d56efd4b7fb6373c9054e73f90"
      }
     },
     "metadata": {},
     "output_type": "display_data"
    },
    {
     "name": "stderr",
     "output_type": "stream",
     "text": [
      "[I 2025-05-19 15:13:28,211] Trial 31 pruned. Trial was pruned at epoch 1.\n",
      "Specified future encoders in `add_encoders` at model creation but model does not accept future covariates. future encoders will be ignored.\n",
      "/home/eduardo/Documentos/Water-Cycle-Neural-Network/venv/lib/python3.12/site-packages/torch/nn/modules/transformer.py:382: UserWarning: enable_nested_tensor is True, but self.use_nested_tensor is False because encoder_layer.self_attn.batch_first was not True(use batch_first for better inference performance)\n",
      "  warnings.warn(\n",
      "GPU available: True (cuda), used: True\n",
      "TPU available: False, using: 0 TPU cores\n",
      "HPU available: False, using: 0 HPUs\n",
      "LOCAL_RANK: 0 - CUDA_VISIBLE_DEVICES: [0]\n",
      "\n",
      "  | Name                | Type                | Params | Mode \n",
      "--------------------------------------------------------------------\n",
      "0 | criterion           | HuberLoss           | 0      | train\n",
      "1 | train_criterion     | HuberLoss           | 0      | train\n",
      "2 | val_criterion       | HuberLoss           | 0      | train\n",
      "3 | train_metrics       | MetricCollection    | 0      | train\n",
      "4 | val_metrics         | MetricCollection    | 0      | train\n",
      "5 | encoder             | Linear              | 2.4 K  | train\n",
      "6 | positional_encoding | _PositionalEncoding | 0      | train\n",
      "7 | transformer         | Transformer         | 1.3 M  | train\n",
      "8 | decoder             | Linear              | 1.0 K  | train\n",
      "--------------------------------------------------------------------\n",
      "1.3 M     Trainable params\n",
      "0         Non-trainable params\n",
      "1.3 M     Total params\n",
      "5.285     Total estimated model params size (MB)\n",
      "75        Modules in train mode\n",
      "0         Modules in eval mode\n"
     ]
    },
    {
     "name": "stdout",
     "output_type": "stream",
     "text": [
      "Current value: 0.024296157786658255, Current params: {'input_chunk_length': 53, 'd_model': 128, 'num_encoder_layers': 1, 'num_decoder_layers': 1, 'activation': 'GLU', 'dropout': 0.1423148914201085, 'batch_size': 38, 'lr': 0.00283644586881751}\n",
      "Best value: 44.35035491565953, Best params: {'input_chunk_length': 57, 'd_model': 128, 'num_encoder_layers': 1, 'num_decoder_layers': 3, 'activation': 'GLU', 'dropout': 0.07703325789526706, 'batch_size': 24, 'lr': 0.0012200442601871598}\n",
      "\n",
      "Starting Trial 32\n",
      "Hyperparameters: {'input_chunk_length': 43, 'd_model': 128, 'num_encoder_layers': 1, 'num_decoder_layers': 2, 'activation': 'GLU', 'dropout': 0.12206725459879988, 'batch_size': 34, 'lr': 0.0016388280636511453}\n",
      "\n",
      "Training the model...\n",
      "Train set: 6647 samples\n",
      "Validation set: 1662 samples\n"
     ]
    },
    {
     "data": {
      "text/plain": [
       "Sanity Checking: |          | 0/? [00:00<?, ?it/s]"
      ],
      "application/vnd.jupyter.widget-view+json": {
       "version_major": 2,
       "version_minor": 0,
       "model_id": "78f53ead52ee4b8b8d1cf5c40396dd58"
      }
     },
     "metadata": {},
     "output_type": "display_data"
    },
    {
     "data": {
      "text/plain": [
       "Training: |          | 0/? [00:00<?, ?it/s]"
      ],
      "application/vnd.jupyter.widget-view+json": {
       "version_major": 2,
       "version_minor": 0,
       "model_id": "e99151599f014fb8a7b08eb95859d31e"
      }
     },
     "metadata": {},
     "output_type": "display_data"
    },
    {
     "data": {
      "text/plain": [
       "Validation: |          | 0/? [00:00<?, ?it/s]"
      ],
      "application/vnd.jupyter.widget-view+json": {
       "version_major": 2,
       "version_minor": 0,
       "model_id": "ac1593e376dc488ca7ede31c6d05711f"
      }
     },
     "metadata": {},
     "output_type": "display_data"
    },
    {
     "name": "stderr",
     "output_type": "stream",
     "text": [
      "[I 2025-05-19 15:13:33,420] Trial 32 pruned. Trial was pruned at epoch 0.\n"
     ]
    },
    {
     "name": "stdout",
     "output_type": "stream",
     "text": [
      "Current value: 0.025135706667142592, Current params: {'input_chunk_length': 43, 'd_model': 128, 'num_encoder_layers': 1, 'num_decoder_layers': 2, 'activation': 'GLU', 'dropout': 0.12206725459879988, 'batch_size': 34, 'lr': 0.0016388280636511453}\n",
      "Best value: 44.35035491565953, Best params: {'input_chunk_length': 57, 'd_model': 128, 'num_encoder_layers': 1, 'num_decoder_layers': 3, 'activation': 'GLU', 'dropout': 0.07703325789526706, 'batch_size': 24, 'lr': 0.0012200442601871598}\n",
      "\n",
      "Starting Trial 33\n",
      "Hyperparameters: {'input_chunk_length': 24, 'd_model': 128, 'num_encoder_layers': 1, 'num_decoder_layers': 3, 'activation': 'GLU', 'dropout': 0.08927786877775433, 'batch_size': 42, 'lr': 0.005984393886936722}\n",
      "\n",
      "Training the model...\n",
      "Train set: 6647 samples\n",
      "Validation set: 1662 samples\n"
     ]
    },
    {
     "name": "stderr",
     "output_type": "stream",
     "text": [
      "Specified future encoders in `add_encoders` at model creation but model does not accept future covariates. future encoders will be ignored.\n",
      "/home/eduardo/Documentos/Water-Cycle-Neural-Network/venv/lib/python3.12/site-packages/torch/nn/modules/transformer.py:382: UserWarning: enable_nested_tensor is True, but self.use_nested_tensor is False because encoder_layer.self_attn.batch_first was not True(use batch_first for better inference performance)\n",
      "  warnings.warn(\n",
      "GPU available: True (cuda), used: True\n",
      "TPU available: False, using: 0 TPU cores\n",
      "HPU available: False, using: 0 HPUs\n",
      "LOCAL_RANK: 0 - CUDA_VISIBLE_DEVICES: [0]\n",
      "\n",
      "  | Name                | Type                | Params | Mode \n",
      "--------------------------------------------------------------------\n",
      "0 | criterion           | HuberLoss           | 0      | train\n",
      "1 | train_criterion     | HuberLoss           | 0      | train\n",
      "2 | val_criterion       | HuberLoss           | 0      | train\n",
      "3 | train_metrics       | MetricCollection    | 0      | train\n",
      "4 | val_metrics         | MetricCollection    | 0      | train\n",
      "5 | encoder             | Linear              | 2.4 K  | train\n",
      "6 | positional_encoding | _PositionalEncoding | 0      | train\n",
      "7 | transformer         | Transformer         | 1.8 M  | train\n",
      "8 | decoder             | Linear              | 1.0 K  | train\n",
      "--------------------------------------------------------------------\n",
      "1.8 M     Trainable params\n",
      "0         Non-trainable params\n",
      "1.8 M     Total params\n",
      "7.130     Total estimated model params size (MB)\n",
      "96        Modules in train mode\n",
      "0         Modules in eval mode\n"
     ]
    },
    {
     "data": {
      "text/plain": [
       "Sanity Checking: |          | 0/? [00:00<?, ?it/s]"
      ],
      "application/vnd.jupyter.widget-view+json": {
       "version_major": 2,
       "version_minor": 0,
       "model_id": "f1e32f776907411b82ef1cb92d1c1840"
      }
     },
     "metadata": {},
     "output_type": "display_data"
    },
    {
     "data": {
      "text/plain": [
       "Training: |          | 0/? [00:00<?, ?it/s]"
      ],
      "application/vnd.jupyter.widget-view+json": {
       "version_major": 2,
       "version_minor": 0,
       "model_id": "d7d992956d2b403780f0708b4220cbcc"
      }
     },
     "metadata": {},
     "output_type": "display_data"
    },
    {
     "data": {
      "text/plain": [
       "Validation: |          | 0/? [00:00<?, ?it/s]"
      ],
      "application/vnd.jupyter.widget-view+json": {
       "version_major": 2,
       "version_minor": 0,
       "model_id": "ac168a2d580f4ae98ff6fc58548acdaa"
      }
     },
     "metadata": {},
     "output_type": "display_data"
    },
    {
     "name": "stderr",
     "output_type": "stream",
     "text": [
      "[I 2025-05-19 15:14:33,924] Trial 33 pruned. Trial was pruned at epoch 0.\n",
      "Specified future encoders in `add_encoders` at model creation but model does not accept future covariates. future encoders will be ignored.\n",
      "/home/eduardo/Documentos/Water-Cycle-Neural-Network/venv/lib/python3.12/site-packages/torch/nn/modules/transformer.py:382: UserWarning: enable_nested_tensor is True, but self.use_nested_tensor is False because encoder_layer.self_attn.batch_first was not True(use batch_first for better inference performance)\n",
      "  warnings.warn(\n",
      "GPU available: True (cuda), used: True\n",
      "TPU available: False, using: 0 TPU cores\n",
      "HPU available: False, using: 0 HPUs\n",
      "LOCAL_RANK: 0 - CUDA_VISIBLE_DEVICES: [0]\n",
      "\n",
      "  | Name                | Type                | Params | Mode \n",
      "--------------------------------------------------------------------\n",
      "0 | criterion           | HuberLoss           | 0      | train\n",
      "1 | train_criterion     | HuberLoss           | 0      | train\n",
      "2 | val_criterion       | HuberLoss           | 0      | train\n",
      "3 | train_metrics       | MetricCollection    | 0      | train\n",
      "4 | val_metrics         | MetricCollection    | 0      | train\n",
      "5 | encoder             | Linear              | 1.2 K  | train\n",
      "6 | positional_encoding | _PositionalEncoding | 0      | train\n",
      "7 | transformer         | Transformer         | 973 K  | train\n",
      "8 | decoder             | Linear              | 520    | train\n",
      "--------------------------------------------------------------------\n",
      "975 K     Trainable params\n",
      "0         Non-trainable params\n",
      "975 K     Total params\n",
      "3.902     Total estimated model params size (MB)\n",
      "117       Modules in train mode\n",
      "0         Modules in eval mode\n"
     ]
    },
    {
     "name": "stdout",
     "output_type": "stream",
     "text": [
      "Current value: 0.06087174965159073, Current params: {'input_chunk_length': 24, 'd_model': 128, 'num_encoder_layers': 1, 'num_decoder_layers': 3, 'activation': 'GLU', 'dropout': 0.08927786877775433, 'batch_size': 42, 'lr': 0.005984393886936722}\n",
      "Best value: 44.35035491565953, Best params: {'input_chunk_length': 57, 'd_model': 128, 'num_encoder_layers': 1, 'num_decoder_layers': 3, 'activation': 'GLU', 'dropout': 0.07703325789526706, 'batch_size': 24, 'lr': 0.0012200442601871598}\n",
      "\n",
      "Starting Trial 34\n",
      "Hyperparameters: {'input_chunk_length': 19, 'd_model': 64, 'num_encoder_layers': 1, 'num_decoder_layers': 4, 'activation': 'ReGLU', 'dropout': 0.05952062159239754, 'batch_size': 20, 'lr': 0.0030179222644282364}\n",
      "\n",
      "Training the model...\n",
      "Train set: 6647 samples\n",
      "Validation set: 1662 samples\n"
     ]
    },
    {
     "data": {
      "text/plain": [
       "Sanity Checking: |          | 0/? [00:00<?, ?it/s]"
      ],
      "application/vnd.jupyter.widget-view+json": {
       "version_major": 2,
       "version_minor": 0,
       "model_id": "7484f1f916d04d18a3709c09ac5b5f5a"
      }
     },
     "metadata": {},
     "output_type": "display_data"
    },
    {
     "data": {
      "text/plain": [
       "Training: |          | 0/? [00:00<?, ?it/s]"
      ],
      "application/vnd.jupyter.widget-view+json": {
       "version_major": 2,
       "version_minor": 0,
       "model_id": "62ca4c0af5e542928556e8639666517c"
      }
     },
     "metadata": {},
     "output_type": "display_data"
    },
    {
     "data": {
      "text/plain": [
       "Validation: |          | 0/? [00:00<?, ?it/s]"
      ],
      "application/vnd.jupyter.widget-view+json": {
       "version_major": 2,
       "version_minor": 0,
       "model_id": "1480d93601e346769a4cae7fcd4d1cf2"
      }
     },
     "metadata": {},
     "output_type": "display_data"
    },
    {
     "name": "stderr",
     "output_type": "stream",
     "text": [
      "Metric val_loss improved. New best score: 0.022\n"
     ]
    },
    {
     "data": {
      "text/plain": [
       "Validation: |          | 0/? [00:00<?, ?it/s]"
      ],
      "application/vnd.jupyter.widget-view+json": {
       "version_major": 2,
       "version_minor": 0,
       "model_id": "9497c2eeeaab49768386c0bc61aeafa0"
      }
     },
     "metadata": {},
     "output_type": "display_data"
    },
    {
     "name": "stderr",
     "output_type": "stream",
     "text": [
      "[I 2025-05-19 15:14:52,829] Trial 34 pruned. Trial was pruned at epoch 1.\n",
      "Specified future encoders in `add_encoders` at model creation but model does not accept future covariates. future encoders will be ignored.\n",
      "/home/eduardo/Documentos/Water-Cycle-Neural-Network/venv/lib/python3.12/site-packages/torch/nn/modules/transformer.py:382: UserWarning: enable_nested_tensor is True, but self.use_nested_tensor is False because encoder_layer.self_attn.batch_first was not True(use batch_first for better inference performance)\n",
      "  warnings.warn(\n"
     ]
    },
    {
     "name": "stdout",
     "output_type": "stream",
     "text": [
      "Current value: 0.021580250243291455, Current params: {'input_chunk_length': 19, 'd_model': 64, 'num_encoder_layers': 1, 'num_decoder_layers': 4, 'activation': 'ReGLU', 'dropout': 0.05952062159239754, 'batch_size': 20, 'lr': 0.0030179222644282364}\n",
      "Best value: 44.35035491565953, Best params: {'input_chunk_length': 57, 'd_model': 128, 'num_encoder_layers': 1, 'num_decoder_layers': 3, 'activation': 'GLU', 'dropout': 0.07703325789526706, 'batch_size': 24, 'lr': 0.0012200442601871598}\n",
      "\n",
      "Starting Trial 35\n",
      "Hyperparameters: {'input_chunk_length': 49, 'd_model': 128, 'num_encoder_layers': 2, 'num_decoder_layers': 1, 'activation': 'SwiGLU', 'dropout': 0.10645362881904226, 'batch_size': 30, 'lr': 0.0009010312090284504}\n",
      "\n",
      "Training the model...\n",
      "Train set: 6647 samples\n",
      "Validation set: 1662 samples\n"
     ]
    },
    {
     "name": "stderr",
     "output_type": "stream",
     "text": [
      "GPU available: True (cuda), used: True\n",
      "TPU available: False, using: 0 TPU cores\n",
      "HPU available: False, using: 0 HPUs\n",
      "LOCAL_RANK: 0 - CUDA_VISIBLE_DEVICES: [0]\n",
      "\n",
      "  | Name                | Type                | Params | Mode \n",
      "--------------------------------------------------------------------\n",
      "0 | criterion           | HuberLoss           | 0      | train\n",
      "1 | train_criterion     | HuberLoss           | 0      | train\n",
      "2 | val_criterion       | HuberLoss           | 0      | train\n",
      "3 | train_metrics       | MetricCollection    | 0      | train\n",
      "4 | val_metrics         | MetricCollection    | 0      | train\n",
      "5 | encoder             | Linear              | 2.4 K  | train\n",
      "6 | positional_encoding | _PositionalEncoding | 0      | train\n",
      "7 | transformer         | Transformer         | 1.3 M  | train\n",
      "8 | decoder             | Linear              | 1.0 K  | train\n",
      "--------------------------------------------------------------------\n",
      "1.3 M     Trainable params\n",
      "0         Non-trainable params\n",
      "1.3 M     Total params\n",
      "5.020     Total estimated model params size (MB)\n",
      "71        Modules in train mode\n",
      "0         Modules in eval mode\n"
     ]
    },
    {
     "data": {
      "text/plain": [
       "Sanity Checking: |          | 0/? [00:00<?, ?it/s]"
      ],
      "application/vnd.jupyter.widget-view+json": {
       "version_major": 2,
       "version_minor": 0,
       "model_id": "7f354b85a767433ca7d5a7fdd7956969"
      }
     },
     "metadata": {},
     "output_type": "display_data"
    },
    {
     "data": {
      "text/plain": [
       "Training: |          | 0/? [00:00<?, ?it/s]"
      ],
      "application/vnd.jupyter.widget-view+json": {
       "version_major": 2,
       "version_minor": 0,
       "model_id": "e7fe8910a7a84df98d8be077f035face"
      }
     },
     "metadata": {},
     "output_type": "display_data"
    },
    {
     "data": {
      "text/plain": [
       "Validation: |          | 0/? [00:00<?, ?it/s]"
      ],
      "application/vnd.jupyter.widget-view+json": {
       "version_major": 2,
       "version_minor": 0,
       "model_id": "0b1d6bb328a14841999db100f896ed83"
      }
     },
     "metadata": {},
     "output_type": "display_data"
    },
    {
     "name": "stderr",
     "output_type": "stream",
     "text": [
      "[I 2025-05-19 15:14:59,539] Trial 35 pruned. Trial was pruned at epoch 0.\n"
     ]
    },
    {
     "name": "stdout",
     "output_type": "stream",
     "text": [
      "Current value: 0.026614903171449954, Current params: {'input_chunk_length': 49, 'd_model': 128, 'num_encoder_layers': 2, 'num_decoder_layers': 1, 'activation': 'SwiGLU', 'dropout': 0.10645362881904226, 'batch_size': 30, 'lr': 0.0009010312090284504}\n",
      "Best value: 44.35035491565953, Best params: {'input_chunk_length': 57, 'd_model': 128, 'num_encoder_layers': 1, 'num_decoder_layers': 3, 'activation': 'GLU', 'dropout': 0.07703325789526706, 'batch_size': 24, 'lr': 0.0012200442601871598}\n",
      "\n",
      "Starting Trial 36\n",
      "Hyperparameters: {'input_chunk_length': 63, 'd_model': 256, 'num_encoder_layers': 1, 'num_decoder_layers': 2, 'activation': 'GLU', 'dropout': 0.18387124303057417, 'batch_size': 18, 'lr': 0.00035756397043218354}\n",
      "\n",
      "Training the model...\n",
      "Train set: 6647 samples\n",
      "Validation set: 1662 samples\n"
     ]
    },
    {
     "name": "stderr",
     "output_type": "stream",
     "text": [
      "Specified future encoders in `add_encoders` at model creation but model does not accept future covariates. future encoders will be ignored.\n",
      "/home/eduardo/Documentos/Water-Cycle-Neural-Network/venv/lib/python3.12/site-packages/torch/nn/modules/transformer.py:382: UserWarning: enable_nested_tensor is True, but self.use_nested_tensor is False because encoder_layer.self_attn.batch_first was not True(use batch_first for better inference performance)\n",
      "  warnings.warn(\n",
      "GPU available: True (cuda), used: True\n",
      "TPU available: False, using: 0 TPU cores\n",
      "HPU available: False, using: 0 HPUs\n",
      "LOCAL_RANK: 0 - CUDA_VISIBLE_DEVICES: [0]\n",
      "\n",
      "  | Name                | Type                | Params | Mode \n",
      "--------------------------------------------------------------------\n",
      "0 | criterion           | HuberLoss           | 0      | train\n",
      "1 | train_criterion     | HuberLoss           | 0      | train\n",
      "2 | val_criterion       | HuberLoss           | 0      | train\n",
      "3 | train_metrics       | MetricCollection    | 0      | train\n",
      "4 | val_metrics         | MetricCollection    | 0      | train\n",
      "5 | encoder             | Linear              | 4.9 K  | train\n",
      "6 | positional_encoding | _PositionalEncoding | 0      | train\n",
      "7 | transformer         | Transformer         | 3.3 M  | train\n",
      "8 | decoder             | Linear              | 2.1 K  | train\n",
      "--------------------------------------------------------------------\n",
      "3.3 M     Trainable params\n",
      "0         Non-trainable params\n",
      "3.3 M     Total params\n",
      "13.185    Total estimated model params size (MB)\n",
      "75        Modules in train mode\n",
      "0         Modules in eval mode\n"
     ]
    },
    {
     "data": {
      "text/plain": [
       "Sanity Checking: |          | 0/? [00:00<?, ?it/s]"
      ],
      "application/vnd.jupyter.widget-view+json": {
       "version_major": 2,
       "version_minor": 0,
       "model_id": "9ec62aff68a64e3397870617b5f13540"
      }
     },
     "metadata": {},
     "output_type": "display_data"
    },
    {
     "data": {
      "text/plain": [
       "Training: |          | 0/? [00:00<?, ?it/s]"
      ],
      "application/vnd.jupyter.widget-view+json": {
       "version_major": 2,
       "version_minor": 0,
       "model_id": "f9b9dce464784e0490d55bd6603c2268"
      }
     },
     "metadata": {},
     "output_type": "display_data"
    },
    {
     "data": {
      "text/plain": [
       "Validation: |          | 0/? [00:00<?, ?it/s]"
      ],
      "application/vnd.jupyter.widget-view+json": {
       "version_major": 2,
       "version_minor": 0,
       "model_id": "0a0dc04c30b248848817fc6744827b80"
      }
     },
     "metadata": {},
     "output_type": "display_data"
    },
    {
     "name": "stderr",
     "output_type": "stream",
     "text": [
      "Metric val_loss improved. New best score: 0.018\n"
     ]
    },
    {
     "data": {
      "text/plain": [
       "Validation: |          | 0/? [00:00<?, ?it/s]"
      ],
      "application/vnd.jupyter.widget-view+json": {
       "version_major": 2,
       "version_minor": 0,
       "model_id": "2414b126b87a49e2ba411ada0a949e5f"
      }
     },
     "metadata": {},
     "output_type": "display_data"
    },
    {
     "name": "stderr",
     "output_type": "stream",
     "text": [
      "Metric val_loss improved by 0.003 >= min_delta = 0.001. New best score: 0.015\n"
     ]
    },
    {
     "data": {
      "text/plain": [
       "Validation: |          | 0/? [00:00<?, ?it/s]"
      ],
      "application/vnd.jupyter.widget-view+json": {
       "version_major": 2,
       "version_minor": 0,
       "model_id": "e2fc3ad1aa2043bfb3b84fa1e93b6d83"
      }
     },
     "metadata": {},
     "output_type": "display_data"
    },
    {
     "data": {
      "text/plain": [
       "Validation: |          | 0/? [00:00<?, ?it/s]"
      ],
      "application/vnd.jupyter.widget-view+json": {
       "version_major": 2,
       "version_minor": 0,
       "model_id": "2e516e2cf2c440d6ad288f4ec716499f"
      }
     },
     "metadata": {},
     "output_type": "display_data"
    },
    {
     "data": {
      "text/plain": [
       "Validation: |          | 0/? [00:00<?, ?it/s]"
      ],
      "application/vnd.jupyter.widget-view+json": {
       "version_major": 2,
       "version_minor": 0,
       "model_id": "0ca1eb3137c5417190c9560918816033"
      }
     },
     "metadata": {},
     "output_type": "display_data"
    },
    {
     "data": {
      "text/plain": [
       "Validation: |          | 0/? [00:00<?, ?it/s]"
      ],
      "application/vnd.jupyter.widget-view+json": {
       "version_major": 2,
       "version_minor": 0,
       "model_id": "639d8d24fefc4f7c94c750e3d4aad1ff"
      }
     },
     "metadata": {},
     "output_type": "display_data"
    },
    {
     "name": "stderr",
     "output_type": "stream",
     "text": [
      "Metric val_loss improved by 0.002 >= min_delta = 0.001. New best score: 0.013\n"
     ]
    },
    {
     "data": {
      "text/plain": [
       "Validation: |          | 0/? [00:00<?, ?it/s]"
      ],
      "application/vnd.jupyter.widget-view+json": {
       "version_major": 2,
       "version_minor": 0,
       "model_id": "4280ce294cee4fa4853ce94cefb7bdc1"
      }
     },
     "metadata": {},
     "output_type": "display_data"
    },
    {
     "data": {
      "text/plain": [
       "Validation: |          | 0/? [00:00<?, ?it/s]"
      ],
      "application/vnd.jupyter.widget-view+json": {
       "version_major": 2,
       "version_minor": 0,
       "model_id": "31100edece53441fb44fa057c7c243a9"
      }
     },
     "metadata": {},
     "output_type": "display_data"
    },
    {
     "data": {
      "text/plain": [
       "Validation: |          | 0/? [00:00<?, ?it/s]"
      ],
      "application/vnd.jupyter.widget-view+json": {
       "version_major": 2,
       "version_minor": 0,
       "model_id": "9c3b2dfee8da4a6eade60c0b159ab581"
      }
     },
     "metadata": {},
     "output_type": "display_data"
    },
    {
     "data": {
      "text/plain": [
       "Validation: |          | 0/? [00:00<?, ?it/s]"
      ],
      "application/vnd.jupyter.widget-view+json": {
       "version_major": 2,
       "version_minor": 0,
       "model_id": "5068e61fd8d84b5aba3e57549010d613"
      }
     },
     "metadata": {},
     "output_type": "display_data"
    },
    {
     "data": {
      "text/plain": [
       "Validation: |          | 0/? [00:00<?, ?it/s]"
      ],
      "application/vnd.jupyter.widget-view+json": {
       "version_major": 2,
       "version_minor": 0,
       "model_id": "42b9a4ef1c014a4193ee5e74eacd192c"
      }
     },
     "metadata": {},
     "output_type": "display_data"
    },
    {
     "data": {
      "text/plain": [
       "Validation: |          | 0/? [00:00<?, ?it/s]"
      ],
      "application/vnd.jupyter.widget-view+json": {
       "version_major": 2,
       "version_minor": 0,
       "model_id": "ec6f83466c5743f2ae0ffc4c0ea08062"
      }
     },
     "metadata": {},
     "output_type": "display_data"
    },
    {
     "data": {
      "text/plain": [
       "Validation: |          | 0/? [00:00<?, ?it/s]"
      ],
      "application/vnd.jupyter.widget-view+json": {
       "version_major": 2,
       "version_minor": 0,
       "model_id": "bbcdb062771f45fba3a704f0929aa2ad"
      }
     },
     "metadata": {},
     "output_type": "display_data"
    },
    {
     "data": {
      "text/plain": [
       "Validation: |          | 0/? [00:00<?, ?it/s]"
      ],
      "application/vnd.jupyter.widget-view+json": {
       "version_major": 2,
       "version_minor": 0,
       "model_id": "3a903f07825a4387bce588f86f2b3c4b"
      }
     },
     "metadata": {},
     "output_type": "display_data"
    },
    {
     "data": {
      "text/plain": [
       "Validation: |          | 0/? [00:00<?, ?it/s]"
      ],
      "application/vnd.jupyter.widget-view+json": {
       "version_major": 2,
       "version_minor": 0,
       "model_id": "7e1773b9c01347df8a87d4925684c75e"
      }
     },
     "metadata": {},
     "output_type": "display_data"
    },
    {
     "data": {
      "text/plain": [
       "Validation: |          | 0/? [00:00<?, ?it/s]"
      ],
      "application/vnd.jupyter.widget-view+json": {
       "version_major": 2,
       "version_minor": 0,
       "model_id": "db7163f90ea14b559fc90fd1a7bc35b0"
      }
     },
     "metadata": {},
     "output_type": "display_data"
    },
    {
     "name": "stderr",
     "output_type": "stream",
     "text": [
      "Monitored metric val_loss did not improve in the last 10 records. Best score: 0.013. Signaling Trainer to stop.\n",
      "/home/eduardo/Documentos/Water-Cycle-Neural-Network/venv/lib/python3.12/site-packages/torch/nn/modules/transformer.py:382: UserWarning: enable_nested_tensor is True, but self.use_nested_tensor is False because encoder_layer.self_attn.batch_first was not True(use batch_first for better inference performance)\n",
      "  warnings.warn(\n",
      "GPU available: True (cuda), used: True\n",
      "TPU available: False, using: 0 TPU cores\n",
      "HPU available: False, using: 0 HPUs\n",
      "LOCAL_RANK: 0 - CUDA_VISIBLE_DEVICES: [0]\n",
      "/home/eduardo/Documentos/Water-Cycle-Neural-Network/venv/lib/python3.12/site-packages/pytorch_lightning/trainer/connectors/data_connector.py:425: The 'predict_dataloader' does not have many workers which may be a bottleneck. Consider increasing the value of the `num_workers` argument` to `num_workers=11` in the `DataLoader` to improve performance.\n"
     ]
    },
    {
     "name": "stdout",
     "output_type": "stream",
     "text": [
      "Model loaded from checkpoint for trial 36\n"
     ]
    },
    {
     "name": "stderr",
     "output_type": "stream",
     "text": [
      "[I 2025-05-19 15:18:02,769] Trial 36 finished with value: 45.62732608421195 and parameters: {'input_chunk_length': 63, 'd_model': 256, 'num_encoder_layers': 1, 'num_decoder_layers': 2, 'activation': 'GLU', 'dropout': 0.18387124303057417, 'batch_size': 18, 'lr': 0.00035756397043218354}. Best is trial 22 with value: 44.35035491565953.\n"
     ]
    },
    {
     "name": "stdout",
     "output_type": "stream",
     "text": [
      "Starting time series consistency verification...\n",
      "\n",
      "Performance metrics:\n",
      "                                    MSE        RMSE        MAE          R2  \\\n",
      "Temperature                    0.542673    0.736664   0.510039    0.840594   \n",
      "Precipitation_accumulated    307.462354   17.534604  15.913428 -322.936613   \n",
      "Humidity                       7.604722    2.757666   2.225416    0.883056   \n",
      "Wind_Speed_kmh                 0.079824    0.282532   0.156940    0.765436   \n",
      "Soil_Moisture              17639.403322  132.813415  63.575696    0.976162   \n",
      "Soil_Temperature               0.736377    0.858124   0.691000    0.868790   \n",
      "Wind_Dir_Sin                   0.047674    0.218344   0.105636    0.703184   \n",
      "Wind_Dir_Cos                   0.039796    0.199489   0.079100    0.861384   \n",
      "\n",
      "                                SMAPE  \n",
      "Temperature                  8.917243  \n",
      "Precipitation_accumulated    3.392022  \n",
      "Humidity                     2.692598  \n",
      "Wind_Speed_kmh             164.525204  \n",
      "Soil_Moisture                0.997784  \n",
      "Soil_Temperature            17.595683  \n",
      "Wind_Dir_Sin               143.927743  \n",
      "Wind_Dir_Cos                22.970331  \n",
      "The SMAPE for this fold was 45.62732608421195\n",
      "Results for trial 36 saved to optuna_iteration_metrics/trial_36.json\n",
      "Current value: 45.62732608421195, Current params: {'input_chunk_length': 63, 'd_model': 256, 'num_encoder_layers': 1, 'num_decoder_layers': 2, 'activation': 'GLU', 'dropout': 0.18387124303057417, 'batch_size': 18, 'lr': 0.00035756397043218354}\n",
      "Best value: 44.35035491565953, Best params: {'input_chunk_length': 57, 'd_model': 128, 'num_encoder_layers': 1, 'num_decoder_layers': 3, 'activation': 'GLU', 'dropout': 0.07703325789526706, 'batch_size': 24, 'lr': 0.0012200442601871598}\n",
      "\n",
      "Starting Trial 37\n",
      "Hyperparameters: {'input_chunk_length': 33, 'd_model': 128, 'num_encoder_layers': 1, 'num_decoder_layers': 3, 'activation': 'GELU', 'dropout': 0.029090246410552925, 'batch_size': 27, 'lr': 4.5148396556711265e-05}\n",
      "\n",
      "Training the model...\n",
      "Train set: 6647 samples\n",
      "Validation set: 1662 samples\n"
     ]
    },
    {
     "name": "stderr",
     "output_type": "stream",
     "text": [
      "Specified future encoders in `add_encoders` at model creation but model does not accept future covariates. future encoders will be ignored.\n",
      "/home/eduardo/Documentos/Water-Cycle-Neural-Network/venv/lib/python3.12/site-packages/torch/nn/modules/transformer.py:382: UserWarning: enable_nested_tensor is True, but self.use_nested_tensor is False because encoder_layer.self_attn.batch_first was not True(use batch_first for better inference performance)\n",
      "  warnings.warn(\n",
      "GPU available: True (cuda), used: True\n",
      "TPU available: False, using: 0 TPU cores\n",
      "HPU available: False, using: 0 HPUs\n",
      "LOCAL_RANK: 0 - CUDA_VISIBLE_DEVICES: [0]\n",
      "\n",
      "  | Name                | Type                | Params | Mode \n",
      "--------------------------------------------------------------------\n",
      "0 | criterion           | HuberLoss           | 0      | train\n",
      "1 | train_criterion     | HuberLoss           | 0      | train\n",
      "2 | val_criterion       | HuberLoss           | 0      | train\n",
      "3 | train_metrics       | MetricCollection    | 0      | train\n",
      "4 | val_metrics         | MetricCollection    | 0      | train\n",
      "5 | encoder             | Linear              | 2.4 K  | train\n",
      "6 | positional_encoding | _PositionalEncoding | 0      | train\n",
      "7 | transformer         | Transformer         | 1.5 M  | train\n",
      "8 | decoder             | Linear              | 1.0 K  | train\n",
      "--------------------------------------------------------------------\n",
      "1.5 M     Trainable params\n",
      "0         Non-trainable params\n",
      "1.5 M     Total params\n",
      "6.091     Total estimated model params size (MB)\n",
      "92        Modules in train mode\n",
      "0         Modules in eval mode\n"
     ]
    },
    {
     "data": {
      "text/plain": [
       "Sanity Checking: |          | 0/? [00:00<?, ?it/s]"
      ],
      "application/vnd.jupyter.widget-view+json": {
       "version_major": 2,
       "version_minor": 0,
       "model_id": "777cea59513749ff858512be1d4fe459"
      }
     },
     "metadata": {},
     "output_type": "display_data"
    },
    {
     "data": {
      "text/plain": [
       "Training: |          | 0/? [00:00<?, ?it/s]"
      ],
      "application/vnd.jupyter.widget-view+json": {
       "version_major": 2,
       "version_minor": 0,
       "model_id": "d86eb72156304799a3b4a8b6ebbb8d13"
      }
     },
     "metadata": {},
     "output_type": "display_data"
    },
    {
     "data": {
      "text/plain": [
       "Validation: |          | 0/? [00:00<?, ?it/s]"
      ],
      "application/vnd.jupyter.widget-view+json": {
       "version_major": 2,
       "version_minor": 0,
       "model_id": "e3686c606f1944448fbb35883a4672da"
      }
     },
     "metadata": {},
     "output_type": "display_data"
    },
    {
     "name": "stderr",
     "output_type": "stream",
     "text": [
      "[I 2025-05-19 15:22:44,291] Trial 37 pruned. Trial was pruned at epoch 0.\n",
      "Specified future encoders in `add_encoders` at model creation but model does not accept future covariates. future encoders will be ignored.\n",
      "/home/eduardo/Documentos/Water-Cycle-Neural-Network/venv/lib/python3.12/site-packages/torch/nn/modules/transformer.py:382: UserWarning: enable_nested_tensor is True, but self.use_nested_tensor is False because encoder_layer.self_attn.batch_first was not True(use batch_first for better inference performance)\n",
      "  warnings.warn(\n",
      "GPU available: True (cuda), used: True\n",
      "TPU available: False, using: 0 TPU cores\n",
      "HPU available: False, using: 0 HPUs\n",
      "LOCAL_RANK: 0 - CUDA_VISIBLE_DEVICES: [0]\n",
      "\n",
      "  | Name                | Type                | Params | Mode \n",
      "--------------------------------------------------------------------\n",
      "0 | criterion           | HuberLoss           | 0      | train\n",
      "1 | train_criterion     | HuberLoss           | 0      | train\n",
      "2 | val_criterion       | HuberLoss           | 0      | train\n",
      "3 | train_metrics       | MetricCollection    | 0      | train\n",
      "4 | val_metrics         | MetricCollection    | 0      | train\n",
      "5 | encoder             | Linear              | 1.2 K  | train\n",
      "6 | positional_encoding | _PositionalEncoding | 0      | train\n",
      "7 | transformer         | Transformer         | 560 K  | train\n",
      "8 | decoder             | Linear              | 520    | train\n",
      "--------------------------------------------------------------------\n",
      "562 K     Trainable params\n",
      "0         Non-trainable params\n",
      "562 K     Total params\n",
      "2.251     Total estimated model params size (MB)\n",
      "71        Modules in train mode\n",
      "0         Modules in eval mode\n"
     ]
    },
    {
     "name": "stdout",
     "output_type": "stream",
     "text": [
      "Current value: 0.0260535458986766, Current params: {'input_chunk_length': 33, 'd_model': 128, 'num_encoder_layers': 1, 'num_decoder_layers': 3, 'activation': 'GELU', 'dropout': 0.029090246410552925, 'batch_size': 27, 'lr': 4.5148396556711265e-05}\n",
      "Best value: 44.35035491565953, Best params: {'input_chunk_length': 57, 'd_model': 128, 'num_encoder_layers': 1, 'num_decoder_layers': 3, 'activation': 'GLU', 'dropout': 0.07703325789526706, 'batch_size': 24, 'lr': 0.0012200442601871598}\n",
      "\n",
      "Starting Trial 38\n",
      "Hyperparameters: {'input_chunk_length': 44, 'd_model': 64, 'num_encoder_layers': 2, 'num_decoder_layers': 1, 'activation': 'GLU', 'dropout': 0.13288970829118074, 'batch_size': 33, 'lr': 0.0019167375741632798}\n",
      "\n",
      "Training the model...\n",
      "Train set: 6647 samples\n",
      "Validation set: 1662 samples\n"
     ]
    },
    {
     "data": {
      "text/plain": [
       "Sanity Checking: |          | 0/? [00:00<?, ?it/s]"
      ],
      "application/vnd.jupyter.widget-view+json": {
       "version_major": 2,
       "version_minor": 0,
       "model_id": "b587242e9376495a8263d7ab02d85c6f"
      }
     },
     "metadata": {},
     "output_type": "display_data"
    },
    {
     "data": {
      "text/plain": [
       "Training: |          | 0/? [00:00<?, ?it/s]"
      ],
      "application/vnd.jupyter.widget-view+json": {
       "version_major": 2,
       "version_minor": 0,
       "model_id": "96be1eb486f34da19c8e1a2fb14aa6b1"
      }
     },
     "metadata": {},
     "output_type": "display_data"
    },
    {
     "data": {
      "text/plain": [
       "Validation: |          | 0/? [00:00<?, ?it/s]"
      ],
      "application/vnd.jupyter.widget-view+json": {
       "version_major": 2,
       "version_minor": 0,
       "model_id": "07837e196aab4ac2be9067e8d2298009"
      }
     },
     "metadata": {},
     "output_type": "display_data"
    },
    {
     "name": "stderr",
     "output_type": "stream",
     "text": [
      "Metric val_loss improved. New best score: 0.022\n"
     ]
    },
    {
     "data": {
      "text/plain": [
       "Validation: |          | 0/? [00:00<?, ?it/s]"
      ],
      "application/vnd.jupyter.widget-view+json": {
       "version_major": 2,
       "version_minor": 0,
       "model_id": "64ebbb094eef40479972c400a399fa89"
      }
     },
     "metadata": {},
     "output_type": "display_data"
    },
    {
     "name": "stderr",
     "output_type": "stream",
     "text": [
      "[I 2025-05-19 15:22:53,003] Trial 38 pruned. Trial was pruned at epoch 1.\n",
      "Specified future encoders in `add_encoders` at model creation but model does not accept future covariates. future encoders will be ignored.\n",
      "/home/eduardo/Documentos/Water-Cycle-Neural-Network/venv/lib/python3.12/site-packages/torch/nn/modules/transformer.py:382: UserWarning: enable_nested_tensor is True, but self.use_nested_tensor is False because encoder_layer.self_attn.batch_first was not True(use batch_first for better inference performance)\n",
      "  warnings.warn(\n",
      "GPU available: True (cuda), used: True\n",
      "TPU available: False, using: 0 TPU cores\n",
      "HPU available: False, using: 0 HPUs\n",
      "LOCAL_RANK: 0 - CUDA_VISIBLE_DEVICES: [0]\n",
      "\n",
      "  | Name                | Type                | Params | Mode \n",
      "--------------------------------------------------------------------\n",
      "0 | criterion           | HuberLoss           | 0      | train\n",
      "1 | train_criterion     | HuberLoss           | 0      | train\n",
      "2 | val_criterion       | HuberLoss           | 0      | train\n",
      "3 | train_metrics       | MetricCollection    | 0      | train\n",
      "4 | val_metrics         | MetricCollection    | 0      | train\n",
      "5 | encoder             | Linear              | 2.4 K  | train\n",
      "6 | positional_encoding | _PositionalEncoding | 0      | train\n",
      "7 | transformer         | Transformer         | 2.6 M  | train\n",
      "8 | decoder             | Linear              | 1.0 K  | train\n",
      "--------------------------------------------------------------------\n",
      "2.6 M     Trainable params\n",
      "0         Non-trainable params\n",
      "2.6 M     Total params\n",
      "10.554    Total estimated model params size (MB)\n",
      "134       Modules in train mode\n",
      "0         Modules in eval mode\n"
     ]
    },
    {
     "name": "stdout",
     "output_type": "stream",
     "text": [
      "Current value: 0.02299631233393341, Current params: {'input_chunk_length': 44, 'd_model': 64, 'num_encoder_layers': 2, 'num_decoder_layers': 1, 'activation': 'GLU', 'dropout': 0.13288970829118074, 'batch_size': 33, 'lr': 0.0019167375741632798}\n",
      "Best value: 44.35035491565953, Best params: {'input_chunk_length': 57, 'd_model': 128, 'num_encoder_layers': 1, 'num_decoder_layers': 3, 'activation': 'GLU', 'dropout': 0.07703325789526706, 'batch_size': 24, 'lr': 0.0012200442601871598}\n",
      "\n",
      "Starting Trial 39\n",
      "Hyperparameters: {'input_chunk_length': 27, 'd_model': 128, 'num_encoder_layers': 2, 'num_decoder_layers': 4, 'activation': 'SwiGLU', 'dropout': 0.0815217148433121, 'batch_size': 38, 'lr': 0.0005302285508676065}\n",
      "\n",
      "Training the model...\n",
      "Train set: 6647 samples\n",
      "Validation set: 1662 samples\n"
     ]
    },
    {
     "data": {
      "text/plain": [
       "Sanity Checking: |          | 0/? [00:00<?, ?it/s]"
      ],
      "application/vnd.jupyter.widget-view+json": {
       "version_major": 2,
       "version_minor": 0,
       "model_id": "b7c904acc0b8478b9ef135c65152f532"
      }
     },
     "metadata": {},
     "output_type": "display_data"
    },
    {
     "data": {
      "text/plain": [
       "Training: |          | 0/? [00:00<?, ?it/s]"
      ],
      "application/vnd.jupyter.widget-view+json": {
       "version_major": 2,
       "version_minor": 0,
       "model_id": "75e4eac2e968442b955289ba0a5eff8e"
      }
     },
     "metadata": {},
     "output_type": "display_data"
    },
    {
     "data": {
      "text/plain": [
       "Validation: |          | 0/? [00:00<?, ?it/s]"
      ],
      "application/vnd.jupyter.widget-view+json": {
       "version_major": 2,
       "version_minor": 0,
       "model_id": "f6d14a5a6b6d4b7fa24546d43e3a710e"
      }
     },
     "metadata": {},
     "output_type": "display_data"
    },
    {
     "name": "stderr",
     "output_type": "stream",
     "text": [
      "[I 2025-05-19 15:22:59,298] Trial 39 pruned. Trial was pruned at epoch 0.\n",
      "Specified future encoders in `add_encoders` at model creation but model does not accept future covariates. future encoders will be ignored.\n",
      "/home/eduardo/Documentos/Water-Cycle-Neural-Network/venv/lib/python3.12/site-packages/torch/nn/modules/transformer.py:382: UserWarning: enable_nested_tensor is True, but self.use_nested_tensor is False because encoder_layer.self_attn.batch_first was not True(use batch_first for better inference performance)\n",
      "  warnings.warn(\n",
      "GPU available: True (cuda), used: True\n",
      "TPU available: False, using: 0 TPU cores\n",
      "HPU available: False, using: 0 HPUs\n",
      "LOCAL_RANK: 0 - CUDA_VISIBLE_DEVICES: [0]\n",
      "\n",
      "  | Name                | Type                | Params | Mode \n",
      "--------------------------------------------------------------------\n",
      "0 | criterion           | HuberLoss           | 0      | train\n",
      "1 | train_criterion     | HuberLoss           | 0      | train\n",
      "2 | val_criterion       | HuberLoss           | 0      | train\n",
      "3 | train_metrics       | MetricCollection    | 0      | train\n",
      "4 | val_metrics         | MetricCollection    | 0      | train\n",
      "5 | encoder             | Linear              | 4.9 K  | train\n",
      "6 | positional_encoding | _PositionalEncoding | 0      | train\n",
      "7 | transformer         | Transformer         | 4.5 M  | train\n",
      "8 | decoder             | Linear              | 2.1 K  | train\n",
      "--------------------------------------------------------------------\n",
      "4.5 M     Trainable params\n",
      "0         Non-trainable params\n",
      "4.5 M     Total params\n",
      "17.921    Total estimated model params size (MB)\n",
      "96        Modules in train mode\n",
      "0         Modules in eval mode\n"
     ]
    },
    {
     "name": "stdout",
     "output_type": "stream",
     "text": [
      "Current value: 0.02452287711206308, Current params: {'input_chunk_length': 27, 'd_model': 128, 'num_encoder_layers': 2, 'num_decoder_layers': 4, 'activation': 'SwiGLU', 'dropout': 0.0815217148433121, 'batch_size': 38, 'lr': 0.0005302285508676065}\n",
      "Best value: 44.35035491565953, Best params: {'input_chunk_length': 57, 'd_model': 128, 'num_encoder_layers': 1, 'num_decoder_layers': 3, 'activation': 'GLU', 'dropout': 0.07703325789526706, 'batch_size': 24, 'lr': 0.0012200442601871598}\n",
      "\n",
      "Starting Trial 40\n",
      "Hyperparameters: {'input_chunk_length': 66, 'd_model': 256, 'num_encoder_layers': 1, 'num_decoder_layers': 3, 'activation': 'ReGLU', 'dropout': 0.0005113124924908674, 'batch_size': 22, 'lr': 0.0028062230107753733}\n",
      "\n",
      "Training the model...\n",
      "Train set: 6647 samples\n",
      "Validation set: 1662 samples\n"
     ]
    },
    {
     "data": {
      "text/plain": [
       "Sanity Checking: |          | 0/? [00:00<?, ?it/s]"
      ],
      "application/vnd.jupyter.widget-view+json": {
       "version_major": 2,
       "version_minor": 0,
       "model_id": "3fc09016181045ab98037f6977615b50"
      }
     },
     "metadata": {},
     "output_type": "display_data"
    },
    {
     "data": {
      "text/plain": [
       "Training: |          | 0/? [00:00<?, ?it/s]"
      ],
      "application/vnd.jupyter.widget-view+json": {
       "version_major": 2,
       "version_minor": 0,
       "model_id": "a052ce3c55d1432a95fddb27a9e01605"
      }
     },
     "metadata": {},
     "output_type": "display_data"
    },
    {
     "data": {
      "text/plain": [
       "Validation: |          | 0/? [00:00<?, ?it/s]"
      ],
      "application/vnd.jupyter.widget-view+json": {
       "version_major": 2,
       "version_minor": 0,
       "model_id": "45e37c65e076484c86d93b2d5fc88ad2"
      }
     },
     "metadata": {},
     "output_type": "display_data"
    },
    {
     "name": "stderr",
     "output_type": "stream",
     "text": [
      "[I 2025-05-19 15:23:09,308] Trial 40 pruned. Trial was pruned at epoch 0.\n",
      "Specified future encoders in `add_encoders` at model creation but model does not accept future covariates. future encoders will be ignored.\n",
      "/home/eduardo/Documentos/Water-Cycle-Neural-Network/venv/lib/python3.12/site-packages/torch/nn/modules/transformer.py:382: UserWarning: enable_nested_tensor is True, but self.use_nested_tensor is False because encoder_layer.self_attn.batch_first was not True(use batch_first for better inference performance)\n",
      "  warnings.warn(\n",
      "GPU available: True (cuda), used: True\n",
      "TPU available: False, using: 0 TPU cores\n",
      "HPU available: False, using: 0 HPUs\n",
      "LOCAL_RANK: 0 - CUDA_VISIBLE_DEVICES: [0]\n",
      "\n",
      "  | Name                | Type                | Params | Mode \n",
      "--------------------------------------------------------------------\n",
      "0 | criterion           | HuberLoss           | 0      | train\n",
      "1 | train_criterion     | HuberLoss           | 0      | train\n",
      "2 | val_criterion       | HuberLoss           | 0      | train\n",
      "3 | train_metrics       | MetricCollection    | 0      | train\n",
      "4 | val_metrics         | MetricCollection    | 0      | train\n",
      "5 | encoder             | Linear              | 4.9 K  | train\n",
      "6 | positional_encoding | _PositionalEncoding | 0      | train\n",
      "7 | transformer         | Transformer         | 3.3 M  | train\n",
      "8 | decoder             | Linear              | 2.1 K  | train\n",
      "--------------------------------------------------------------------\n",
      "3.3 M     Trainable params\n",
      "0         Non-trainable params\n",
      "3.3 M     Total params\n",
      "13.185    Total estimated model params size (MB)\n",
      "75        Modules in train mode\n",
      "0         Modules in eval mode\n"
     ]
    },
    {
     "name": "stdout",
     "output_type": "stream",
     "text": [
      "Current value: 0.08033391285912088, Current params: {'input_chunk_length': 66, 'd_model': 256, 'num_encoder_layers': 1, 'num_decoder_layers': 3, 'activation': 'ReGLU', 'dropout': 0.0005113124924908674, 'batch_size': 22, 'lr': 0.0028062230107753733}\n",
      "Best value: 44.35035491565953, Best params: {'input_chunk_length': 57, 'd_model': 128, 'num_encoder_layers': 1, 'num_decoder_layers': 3, 'activation': 'GLU', 'dropout': 0.07703325789526706, 'batch_size': 24, 'lr': 0.0012200442601871598}\n",
      "\n",
      "Starting Trial 41\n",
      "Hyperparameters: {'input_chunk_length': 63, 'd_model': 256, 'num_encoder_layers': 1, 'num_decoder_layers': 2, 'activation': 'GLU', 'dropout': 0.1842684499381242, 'batch_size': 18, 'lr': 0.0003910036284950811}\n",
      "\n",
      "Training the model...\n",
      "Train set: 6647 samples\n",
      "Validation set: 1662 samples\n"
     ]
    },
    {
     "data": {
      "text/plain": [
       "Sanity Checking: |          | 0/? [00:00<?, ?it/s]"
      ],
      "application/vnd.jupyter.widget-view+json": {
       "version_major": 2,
       "version_minor": 0,
       "model_id": "5983d9ac48714c9aa9c3b4a6e6898af1"
      }
     },
     "metadata": {},
     "output_type": "display_data"
    },
    {
     "data": {
      "text/plain": [
       "Training: |          | 0/? [00:00<?, ?it/s]"
      ],
      "application/vnd.jupyter.widget-view+json": {
       "version_major": 2,
       "version_minor": 0,
       "model_id": "a0ac5d18f02d41e091eed198cbf73847"
      }
     },
     "metadata": {},
     "output_type": "display_data"
    },
    {
     "data": {
      "text/plain": [
       "Validation: |          | 0/? [00:00<?, ?it/s]"
      ],
      "application/vnd.jupyter.widget-view+json": {
       "version_major": 2,
       "version_minor": 0,
       "model_id": "6adee95a42b7475f9c2f3cce9aae27b5"
      }
     },
     "metadata": {},
     "output_type": "display_data"
    },
    {
     "name": "stderr",
     "output_type": "stream",
     "text": [
      "Metric val_loss improved. New best score: 0.019\n"
     ]
    },
    {
     "data": {
      "text/plain": [
       "Validation: |          | 0/? [00:00<?, ?it/s]"
      ],
      "application/vnd.jupyter.widget-view+json": {
       "version_major": 2,
       "version_minor": 0,
       "model_id": "a5accaad3c0449d69a23f55e557d5573"
      }
     },
     "metadata": {},
     "output_type": "display_data"
    },
    {
     "name": "stderr",
     "output_type": "stream",
     "text": [
      "Metric val_loss improved by 0.004 >= min_delta = 0.001. New best score: 0.015\n"
     ]
    },
    {
     "data": {
      "text/plain": [
       "Validation: |          | 0/? [00:00<?, ?it/s]"
      ],
      "application/vnd.jupyter.widget-view+json": {
       "version_major": 2,
       "version_minor": 0,
       "model_id": "2d154277c64246689294f1b259f73257"
      }
     },
     "metadata": {},
     "output_type": "display_data"
    },
    {
     "data": {
      "text/plain": [
       "Validation: |          | 0/? [00:00<?, ?it/s]"
      ],
      "application/vnd.jupyter.widget-view+json": {
       "version_major": 2,
       "version_minor": 0,
       "model_id": "ca9d94c82eea4ba497f1001d7964f2dd"
      }
     },
     "metadata": {},
     "output_type": "display_data"
    },
    {
     "name": "stderr",
     "output_type": "stream",
     "text": [
      "Metric val_loss improved by 0.002 >= min_delta = 0.001. New best score: 0.013\n"
     ]
    },
    {
     "data": {
      "text/plain": [
       "Validation: |          | 0/? [00:00<?, ?it/s]"
      ],
      "application/vnd.jupyter.widget-view+json": {
       "version_major": 2,
       "version_minor": 0,
       "model_id": "b7f8e3ed89cb4ab9805bace2d275ebc3"
      }
     },
     "metadata": {},
     "output_type": "display_data"
    },
    {
     "data": {
      "text/plain": [
       "Validation: |          | 0/? [00:00<?, ?it/s]"
      ],
      "application/vnd.jupyter.widget-view+json": {
       "version_major": 2,
       "version_minor": 0,
       "model_id": "d71e916d22c5490a8ac43360f3250744"
      }
     },
     "metadata": {},
     "output_type": "display_data"
    },
    {
     "data": {
      "text/plain": [
       "Validation: |          | 0/? [00:00<?, ?it/s]"
      ],
      "application/vnd.jupyter.widget-view+json": {
       "version_major": 2,
       "version_minor": 0,
       "model_id": "74197f18db844d839b15457dc7de78c6"
      }
     },
     "metadata": {},
     "output_type": "display_data"
    },
    {
     "data": {
      "text/plain": [
       "Validation: |          | 0/? [00:00<?, ?it/s]"
      ],
      "application/vnd.jupyter.widget-view+json": {
       "version_major": 2,
       "version_minor": 0,
       "model_id": "cdbc5fd6c879445b9deef304a8cdd6a9"
      }
     },
     "metadata": {},
     "output_type": "display_data"
    },
    {
     "data": {
      "text/plain": [
       "Validation: |          | 0/? [00:00<?, ?it/s]"
      ],
      "application/vnd.jupyter.widget-view+json": {
       "version_major": 2,
       "version_minor": 0,
       "model_id": "58b3cb8e38e643b484f7f4f314351fdf"
      }
     },
     "metadata": {},
     "output_type": "display_data"
    },
    {
     "data": {
      "text/plain": [
       "Validation: |          | 0/? [00:00<?, ?it/s]"
      ],
      "application/vnd.jupyter.widget-view+json": {
       "version_major": 2,
       "version_minor": 0,
       "model_id": "8605f45422dc4d57b4b17daecce54ca7"
      }
     },
     "metadata": {},
     "output_type": "display_data"
    },
    {
     "data": {
      "text/plain": [
       "Validation: |          | 0/? [00:00<?, ?it/s]"
      ],
      "application/vnd.jupyter.widget-view+json": {
       "version_major": 2,
       "version_minor": 0,
       "model_id": "664149d14fd546e0bda6980634394f05"
      }
     },
     "metadata": {},
     "output_type": "display_data"
    },
    {
     "data": {
      "text/plain": [
       "Validation: |          | 0/? [00:00<?, ?it/s]"
      ],
      "application/vnd.jupyter.widget-view+json": {
       "version_major": 2,
       "version_minor": 0,
       "model_id": "00563a972c6e422b9831f8cff63893c5"
      }
     },
     "metadata": {},
     "output_type": "display_data"
    },
    {
     "data": {
      "text/plain": [
       "Validation: |          | 0/? [00:00<?, ?it/s]"
      ],
      "application/vnd.jupyter.widget-view+json": {
       "version_major": 2,
       "version_minor": 0,
       "model_id": "e7e4db5ee5994db493c36d255ad47b38"
      }
     },
     "metadata": {},
     "output_type": "display_data"
    },
    {
     "data": {
      "text/plain": [
       "Validation: |          | 0/? [00:00<?, ?it/s]"
      ],
      "application/vnd.jupyter.widget-view+json": {
       "version_major": 2,
       "version_minor": 0,
       "model_id": "f520b9ab17794f308529d1d9ddb4f692"
      }
     },
     "metadata": {},
     "output_type": "display_data"
    },
    {
     "name": "stderr",
     "output_type": "stream",
     "text": [
      "Monitored metric val_loss did not improve in the last 10 records. Best score: 0.013. Signaling Trainer to stop.\n",
      "/home/eduardo/Documentos/Water-Cycle-Neural-Network/venv/lib/python3.12/site-packages/torch/nn/modules/transformer.py:382: UserWarning: enable_nested_tensor is True, but self.use_nested_tensor is False because encoder_layer.self_attn.batch_first was not True(use batch_first for better inference performance)\n",
      "  warnings.warn(\n",
      "GPU available: True (cuda), used: True\n",
      "TPU available: False, using: 0 TPU cores\n",
      "HPU available: False, using: 0 HPUs\n",
      "LOCAL_RANK: 0 - CUDA_VISIBLE_DEVICES: [0]\n",
      "/home/eduardo/Documentos/Water-Cycle-Neural-Network/venv/lib/python3.12/site-packages/pytorch_lightning/trainer/connectors/data_connector.py:425: The 'predict_dataloader' does not have many workers which may be a bottleneck. Consider increasing the value of the `num_workers` argument` to `num_workers=11` in the `DataLoader` to improve performance.\n"
     ]
    },
    {
     "name": "stdout",
     "output_type": "stream",
     "text": [
      "Model loaded from checkpoint for trial 41\n"
     ]
    },
    {
     "name": "stderr",
     "output_type": "stream",
     "text": [
      "[I 2025-05-19 15:25:03,484] Trial 41 finished with value: 45.9844708875693 and parameters: {'input_chunk_length': 63, 'd_model': 256, 'num_encoder_layers': 1, 'num_decoder_layers': 2, 'activation': 'GLU', 'dropout': 0.1842684499381242, 'batch_size': 18, 'lr': 0.0003910036284950811}. Best is trial 22 with value: 44.35035491565953.\n",
      "Specified future encoders in `add_encoders` at model creation but model does not accept future covariates. future encoders will be ignored.\n"
     ]
    },
    {
     "name": "stdout",
     "output_type": "stream",
     "text": [
      "Starting time series consistency verification...\n",
      "\n",
      "Performance metrics:\n",
      "                                    MSE        RMSE        MAE          R2  \\\n",
      "Temperature                    1.183502    1.087889   0.918904    0.652356   \n",
      "Precipitation_accumulated    116.696774   10.802628   8.449658 -121.949549   \n",
      "Humidity                       7.439428    2.727531   2.025974    0.885598   \n",
      "Wind_Speed_kmh                 0.068395    0.261525   0.119048    0.799019   \n",
      "Soil_Moisture              17572.756931  132.562276  67.104180    0.976252   \n",
      "Soil_Temperature               0.631190    0.794475   0.539892    0.887533   \n",
      "Wind_Dir_Sin                   0.044046    0.209872   0.101962    0.725773   \n",
      "Wind_Dir_Cos                   0.042263    0.205579   0.093225    0.852791   \n",
      "\n",
      "                                SMAPE  \n",
      "Temperature                 14.979030  \n",
      "Precipitation_accumulated    1.811343  \n",
      "Humidity                     2.366730  \n",
      "Wind_Speed_kmh             158.955144  \n",
      "Soil_Moisture                1.058491  \n",
      "Soil_Temperature            15.896399  \n",
      "Wind_Dir_Sin               142.250625  \n",
      "Wind_Dir_Cos                30.558006  \n",
      "The SMAPE for this fold was 45.9844708875693\n",
      "Results for trial 41 saved to optuna_iteration_metrics/trial_41.json\n",
      "Current value: 45.9844708875693, Current params: {'input_chunk_length': 63, 'd_model': 256, 'num_encoder_layers': 1, 'num_decoder_layers': 2, 'activation': 'GLU', 'dropout': 0.1842684499381242, 'batch_size': 18, 'lr': 0.0003910036284950811}\n",
      "Best value: 44.35035491565953, Best params: {'input_chunk_length': 57, 'd_model': 128, 'num_encoder_layers': 1, 'num_decoder_layers': 3, 'activation': 'GLU', 'dropout': 0.07703325789526706, 'batch_size': 24, 'lr': 0.0012200442601871598}\n",
      "\n",
      "Starting Trial 42\n",
      "Hyperparameters: {'input_chunk_length': 70, 'd_model': 256, 'num_encoder_layers': 1, 'num_decoder_layers': 2, 'activation': 'GLU', 'dropout': 0.23041921198025445, 'batch_size': 19, 'lr': 0.00016850461937020715}\n",
      "\n",
      "Training the model...\n",
      "Train set: 6647 samples\n",
      "Validation set: 1662 samples\n"
     ]
    },
    {
     "name": "stderr",
     "output_type": "stream",
     "text": [
      "/home/eduardo/Documentos/Water-Cycle-Neural-Network/venv/lib/python3.12/site-packages/torch/nn/modules/transformer.py:382: UserWarning: enable_nested_tensor is True, but self.use_nested_tensor is False because encoder_layer.self_attn.batch_first was not True(use batch_first for better inference performance)\n",
      "  warnings.warn(\n",
      "GPU available: True (cuda), used: True\n",
      "TPU available: False, using: 0 TPU cores\n",
      "HPU available: False, using: 0 HPUs\n",
      "LOCAL_RANK: 0 - CUDA_VISIBLE_DEVICES: [0]\n",
      "\n",
      "  | Name                | Type                | Params | Mode \n",
      "--------------------------------------------------------------------\n",
      "0 | criterion           | HuberLoss           | 0      | train\n",
      "1 | train_criterion     | HuberLoss           | 0      | train\n",
      "2 | val_criterion       | HuberLoss           | 0      | train\n",
      "3 | train_metrics       | MetricCollection    | 0      | train\n",
      "4 | val_metrics         | MetricCollection    | 0      | train\n",
      "5 | encoder             | Linear              | 4.9 K  | train\n",
      "6 | positional_encoding | _PositionalEncoding | 0      | train\n",
      "7 | transformer         | Transformer         | 3.3 M  | train\n",
      "8 | decoder             | Linear              | 2.1 K  | train\n",
      "--------------------------------------------------------------------\n",
      "3.3 M     Trainable params\n",
      "0         Non-trainable params\n",
      "3.3 M     Total params\n",
      "13.185    Total estimated model params size (MB)\n",
      "75        Modules in train mode\n",
      "0         Modules in eval mode\n"
     ]
    },
    {
     "data": {
      "text/plain": [
       "Sanity Checking: |          | 0/? [00:00<?, ?it/s]"
      ],
      "application/vnd.jupyter.widget-view+json": {
       "version_major": 2,
       "version_minor": 0,
       "model_id": "c3b8d28589dd4ad0805fe5579c154641"
      }
     },
     "metadata": {},
     "output_type": "display_data"
    },
    {
     "data": {
      "text/plain": [
       "Training: |          | 0/? [00:00<?, ?it/s]"
      ],
      "application/vnd.jupyter.widget-view+json": {
       "version_major": 2,
       "version_minor": 0,
       "model_id": "cef7e8d78fc94eeb8eb0848795016e02"
      }
     },
     "metadata": {},
     "output_type": "display_data"
    },
    {
     "data": {
      "text/plain": [
       "Validation: |          | 0/? [00:00<?, ?it/s]"
      ],
      "application/vnd.jupyter.widget-view+json": {
       "version_major": 2,
       "version_minor": 0,
       "model_id": "7d1d8aefc04446feb765a38fd5f0f5dc"
      }
     },
     "metadata": {},
     "output_type": "display_data"
    },
    {
     "name": "stderr",
     "output_type": "stream",
     "text": [
      "Metric val_loss improved. New best score: 0.020\n"
     ]
    },
    {
     "data": {
      "text/plain": [
       "Validation: |          | 0/? [00:00<?, ?it/s]"
      ],
      "application/vnd.jupyter.widget-view+json": {
       "version_major": 2,
       "version_minor": 0,
       "model_id": "10112b6de15343fc871f5d72b8cd7bfb"
      }
     },
     "metadata": {},
     "output_type": "display_data"
    },
    {
     "name": "stderr",
     "output_type": "stream",
     "text": [
      "Metric val_loss improved by 0.003 >= min_delta = 0.001. New best score: 0.017\n"
     ]
    },
    {
     "data": {
      "text/plain": [
       "Validation: |          | 0/? [00:00<?, ?it/s]"
      ],
      "application/vnd.jupyter.widget-view+json": {
       "version_major": 2,
       "version_minor": 0,
       "model_id": "0e0f7aeaf9fe4b24a853f7805a1af297"
      }
     },
     "metadata": {},
     "output_type": "display_data"
    },
    {
     "data": {
      "text/plain": [
       "Validation: |          | 0/? [00:00<?, ?it/s]"
      ],
      "application/vnd.jupyter.widget-view+json": {
       "version_major": 2,
       "version_minor": 0,
       "model_id": "379b4c3efb3f49d48912a2a623602929"
      }
     },
     "metadata": {},
     "output_type": "display_data"
    },
    {
     "name": "stderr",
     "output_type": "stream",
     "text": [
      "Metric val_loss improved by 0.002 >= min_delta = 0.001. New best score: 0.015\n"
     ]
    },
    {
     "data": {
      "text/plain": [
       "Validation: |          | 0/? [00:00<?, ?it/s]"
      ],
      "application/vnd.jupyter.widget-view+json": {
       "version_major": 2,
       "version_minor": 0,
       "model_id": "4c4fbe7310ba4b6d8999edb989fd8b1a"
      }
     },
     "metadata": {},
     "output_type": "display_data"
    },
    {
     "name": "stderr",
     "output_type": "stream",
     "text": [
      "[I 2025-05-19 15:25:47,362] Trial 42 pruned. Trial was pruned at epoch 4.\n",
      "Specified future encoders in `add_encoders` at model creation but model does not accept future covariates. future encoders will be ignored.\n",
      "/home/eduardo/Documentos/Water-Cycle-Neural-Network/venv/lib/python3.12/site-packages/torch/nn/modules/transformer.py:382: UserWarning: enable_nested_tensor is True, but self.use_nested_tensor is False because encoder_layer.self_attn.batch_first was not True(use batch_first for better inference performance)\n",
      "  warnings.warn(\n",
      "GPU available: True (cuda), used: True\n",
      "TPU available: False, using: 0 TPU cores\n",
      "HPU available: False, using: 0 HPUs\n",
      "LOCAL_RANK: 0 - CUDA_VISIBLE_DEVICES: [0]\n",
      "\n",
      "  | Name                | Type                | Params | Mode \n",
      "--------------------------------------------------------------------\n",
      "0 | criterion           | HuberLoss           | 0      | train\n",
      "1 | train_criterion     | HuberLoss           | 0      | train\n",
      "2 | val_criterion       | HuberLoss           | 0      | train\n",
      "3 | train_metrics       | MetricCollection    | 0      | train\n",
      "4 | val_metrics         | MetricCollection    | 0      | train\n",
      "5 | encoder             | Linear              | 4.9 K  | train\n",
      "6 | positional_encoding | _PositionalEncoding | 0      | train\n",
      "7 | transformer         | Transformer         | 3.3 M  | train\n",
      "8 | decoder             | Linear              | 2.1 K  | train\n",
      "--------------------------------------------------------------------\n",
      "3.3 M     Trainable params\n",
      "0         Non-trainable params\n",
      "3.3 M     Total params\n",
      "13.185    Total estimated model params size (MB)\n",
      "75        Modules in train mode\n",
      "0         Modules in eval mode\n"
     ]
    },
    {
     "name": "stdout",
     "output_type": "stream",
     "text": [
      "Current value: 0.014593857525933998, Current params: {'input_chunk_length': 70, 'd_model': 256, 'num_encoder_layers': 1, 'num_decoder_layers': 2, 'activation': 'GLU', 'dropout': 0.23041921198025445, 'batch_size': 19, 'lr': 0.00016850461937020715}\n",
      "Best value: 44.35035491565953, Best params: {'input_chunk_length': 57, 'd_model': 128, 'num_encoder_layers': 1, 'num_decoder_layers': 3, 'activation': 'GLU', 'dropout': 0.07703325789526706, 'batch_size': 24, 'lr': 0.0012200442601871598}\n",
      "\n",
      "Starting Trial 43\n",
      "Hyperparameters: {'input_chunk_length': 63, 'd_model': 256, 'num_encoder_layers': 1, 'num_decoder_layers': 2, 'activation': 'GLU', 'dropout': 0.2126989990858198, 'batch_size': 25, 'lr': 0.00029411221103789323}\n",
      "\n",
      "Training the model...\n",
      "Train set: 6647 samples\n",
      "Validation set: 1662 samples\n"
     ]
    },
    {
     "data": {
      "text/plain": [
       "Sanity Checking: |          | 0/? [00:00<?, ?it/s]"
      ],
      "application/vnd.jupyter.widget-view+json": {
       "version_major": 2,
       "version_minor": 0,
       "model_id": "38a6297ff0f644e6a075844651c5aff9"
      }
     },
     "metadata": {},
     "output_type": "display_data"
    },
    {
     "data": {
      "text/plain": [
       "Training: |          | 0/? [00:00<?, ?it/s]"
      ],
      "application/vnd.jupyter.widget-view+json": {
       "version_major": 2,
       "version_minor": 0,
       "model_id": "9562b7b190a24eb58299fa08f00ffcfb"
      }
     },
     "metadata": {},
     "output_type": "display_data"
    },
    {
     "data": {
      "text/plain": [
       "Validation: |          | 0/? [00:00<?, ?it/s]"
      ],
      "application/vnd.jupyter.widget-view+json": {
       "version_major": 2,
       "version_minor": 0,
       "model_id": "f62653ab66ac40679f55a9b165e2a75c"
      }
     },
     "metadata": {},
     "output_type": "display_data"
    },
    {
     "name": "stderr",
     "output_type": "stream",
     "text": [
      "Metric val_loss improved. New best score: 0.020\n"
     ]
    },
    {
     "data": {
      "text/plain": [
       "Validation: |          | 0/? [00:00<?, ?it/s]"
      ],
      "application/vnd.jupyter.widget-view+json": {
       "version_major": 2,
       "version_minor": 0,
       "model_id": "087114b8cc0048acbe0a2f2f01e48730"
      }
     },
     "metadata": {},
     "output_type": "display_data"
    },
    {
     "name": "stderr",
     "output_type": "stream",
     "text": [
      "Metric val_loss improved by 0.003 >= min_delta = 0.001. New best score: 0.017\n"
     ]
    },
    {
     "data": {
      "text/plain": [
       "Validation: |          | 0/? [00:00<?, ?it/s]"
      ],
      "application/vnd.jupyter.widget-view+json": {
       "version_major": 2,
       "version_minor": 0,
       "model_id": "1ce45da16bdf456db0d47171be4dcc44"
      }
     },
     "metadata": {},
     "output_type": "display_data"
    },
    {
     "name": "stderr",
     "output_type": "stream",
     "text": [
      "Metric val_loss improved by 0.002 >= min_delta = 0.001. New best score: 0.015\n"
     ]
    },
    {
     "data": {
      "text/plain": [
       "Validation: |          | 0/? [00:00<?, ?it/s]"
      ],
      "application/vnd.jupyter.widget-view+json": {
       "version_major": 2,
       "version_minor": 0,
       "model_id": "47d68e329ff7498e8a91dd523c27b496"
      }
     },
     "metadata": {},
     "output_type": "display_data"
    },
    {
     "name": "stderr",
     "output_type": "stream",
     "text": [
      "Metric val_loss improved by 0.002 >= min_delta = 0.001. New best score: 0.013\n"
     ]
    },
    {
     "data": {
      "text/plain": [
       "Validation: |          | 0/? [00:00<?, ?it/s]"
      ],
      "application/vnd.jupyter.widget-view+json": {
       "version_major": 2,
       "version_minor": 0,
       "model_id": "dcfd171136f44fa9a92ff0214a858f78"
      }
     },
     "metadata": {},
     "output_type": "display_data"
    },
    {
     "data": {
      "text/plain": [
       "Validation: |          | 0/? [00:00<?, ?it/s]"
      ],
      "application/vnd.jupyter.widget-view+json": {
       "version_major": 2,
       "version_minor": 0,
       "model_id": "481a042c33dd496a8942a43a754f13d9"
      }
     },
     "metadata": {},
     "output_type": "display_data"
    },
    {
     "data": {
      "text/plain": [
       "Validation: |          | 0/? [00:00<?, ?it/s]"
      ],
      "application/vnd.jupyter.widget-view+json": {
       "version_major": 2,
       "version_minor": 0,
       "model_id": "2db9d27d902f4bc2895aa3c197e8169f"
      }
     },
     "metadata": {},
     "output_type": "display_data"
    },
    {
     "data": {
      "text/plain": [
       "Validation: |          | 0/? [00:00<?, ?it/s]"
      ],
      "application/vnd.jupyter.widget-view+json": {
       "version_major": 2,
       "version_minor": 0,
       "model_id": "95793d0074424944a57288ebef6a433e"
      }
     },
     "metadata": {},
     "output_type": "display_data"
    },
    {
     "data": {
      "text/plain": [
       "Validation: |          | 0/? [00:00<?, ?it/s]"
      ],
      "application/vnd.jupyter.widget-view+json": {
       "version_major": 2,
       "version_minor": 0,
       "model_id": "028b931cbeda4f018cf588a5529d5555"
      }
     },
     "metadata": {},
     "output_type": "display_data"
    },
    {
     "data": {
      "text/plain": [
       "Validation: |          | 0/? [00:00<?, ?it/s]"
      ],
      "application/vnd.jupyter.widget-view+json": {
       "version_major": 2,
       "version_minor": 0,
       "model_id": "fa734ee0d95b469c850e6f1971649558"
      }
     },
     "metadata": {},
     "output_type": "display_data"
    },
    {
     "data": {
      "text/plain": [
       "Validation: |          | 0/? [00:00<?, ?it/s]"
      ],
      "application/vnd.jupyter.widget-view+json": {
       "version_major": 2,
       "version_minor": 0,
       "model_id": "6a8d4e40cf08404d9248d61f8476db42"
      }
     },
     "metadata": {},
     "output_type": "display_data"
    },
    {
     "data": {
      "text/plain": [
       "Validation: |          | 0/? [00:00<?, ?it/s]"
      ],
      "application/vnd.jupyter.widget-view+json": {
       "version_major": 2,
       "version_minor": 0,
       "model_id": "7655a740e511453ca4007df8b3d5937c"
      }
     },
     "metadata": {},
     "output_type": "display_data"
    },
    {
     "data": {
      "text/plain": [
       "Validation: |          | 0/? [00:00<?, ?it/s]"
      ],
      "application/vnd.jupyter.widget-view+json": {
       "version_major": 2,
       "version_minor": 0,
       "model_id": "5d36b45ecef0417e98efb35988bae617"
      }
     },
     "metadata": {},
     "output_type": "display_data"
    },
    {
     "name": "stderr",
     "output_type": "stream",
     "text": [
      "[I 2025-05-19 15:27:26,532] Trial 43 pruned. Trial was pruned at epoch 12.\n",
      "Specified future encoders in `add_encoders` at model creation but model does not accept future covariates. future encoders will be ignored.\n",
      "/home/eduardo/Documentos/Water-Cycle-Neural-Network/venv/lib/python3.12/site-packages/torch/nn/modules/transformer.py:382: UserWarning: enable_nested_tensor is True, but self.use_nested_tensor is False because encoder_layer.self_attn.batch_first was not True(use batch_first for better inference performance)\n",
      "  warnings.warn(\n",
      "GPU available: True (cuda), used: True\n",
      "TPU available: False, using: 0 TPU cores\n",
      "HPU available: False, using: 0 HPUs\n",
      "LOCAL_RANK: 0 - CUDA_VISIBLE_DEVICES: [0]\n",
      "\n",
      "  | Name                | Type                | Params | Mode \n",
      "--------------------------------------------------------------------\n",
      "0 | criterion           | HuberLoss           | 0      | train\n",
      "1 | train_criterion     | HuberLoss           | 0      | train\n",
      "2 | val_criterion       | HuberLoss           | 0      | train\n",
      "3 | train_metrics       | MetricCollection    | 0      | train\n",
      "4 | val_metrics         | MetricCollection    | 0      | train\n",
      "5 | encoder             | Linear              | 4.9 K  | train\n",
      "6 | positional_encoding | _PositionalEncoding | 0      | train\n",
      "7 | transformer         | Transformer         | 3.3 M  | train\n",
      "8 | decoder             | Linear              | 2.1 K  | train\n",
      "--------------------------------------------------------------------\n",
      "3.3 M     Trainable params\n",
      "0         Non-trainable params\n",
      "3.3 M     Total params\n",
      "13.185    Total estimated model params size (MB)\n",
      "75        Modules in train mode\n",
      "0         Modules in eval mode\n"
     ]
    },
    {
     "name": "stdout",
     "output_type": "stream",
     "text": [
      "Current value: 0.013292264500198776, Current params: {'input_chunk_length': 63, 'd_model': 256, 'num_encoder_layers': 1, 'num_decoder_layers': 2, 'activation': 'GLU', 'dropout': 0.2126989990858198, 'batch_size': 25, 'lr': 0.00029411221103789323}\n",
      "Best value: 44.35035491565953, Best params: {'input_chunk_length': 57, 'd_model': 128, 'num_encoder_layers': 1, 'num_decoder_layers': 3, 'activation': 'GLU', 'dropout': 0.07703325789526706, 'batch_size': 24, 'lr': 0.0012200442601871598}\n",
      "\n",
      "Starting Trial 44\n",
      "Hyperparameters: {'input_chunk_length': 57, 'd_model': 256, 'num_encoder_layers': 1, 'num_decoder_layers': 2, 'activation': 'GLU', 'dropout': 0.24061172810259834, 'batch_size': 18, 'lr': 0.000642790162862183}\n",
      "\n",
      "Training the model...\n",
      "Train set: 6647 samples\n",
      "Validation set: 1662 samples\n"
     ]
    },
    {
     "data": {
      "text/plain": [
       "Sanity Checking: |          | 0/? [00:00<?, ?it/s]"
      ],
      "application/vnd.jupyter.widget-view+json": {
       "version_major": 2,
       "version_minor": 0,
       "model_id": "2afcb441118a4571be12d12ab2f3989c"
      }
     },
     "metadata": {},
     "output_type": "display_data"
    },
    {
     "data": {
      "text/plain": [
       "Training: |          | 0/? [00:00<?, ?it/s]"
      ],
      "application/vnd.jupyter.widget-view+json": {
       "version_major": 2,
       "version_minor": 0,
       "model_id": "8ad68e2add74489e95fe33ec33d2cd64"
      }
     },
     "metadata": {},
     "output_type": "display_data"
    },
    {
     "data": {
      "text/plain": [
       "Validation: |          | 0/? [00:00<?, ?it/s]"
      ],
      "application/vnd.jupyter.widget-view+json": {
       "version_major": 2,
       "version_minor": 0,
       "model_id": "3732a42b4b814d63be1bae7dc4468f5a"
      }
     },
     "metadata": {},
     "output_type": "display_data"
    },
    {
     "name": "stderr",
     "output_type": "stream",
     "text": [
      "Metric val_loss improved. New best score: 0.019\n"
     ]
    },
    {
     "data": {
      "text/plain": [
       "Validation: |          | 0/? [00:00<?, ?it/s]"
      ],
      "application/vnd.jupyter.widget-view+json": {
       "version_major": 2,
       "version_minor": 0,
       "model_id": "1378d1d548db475bb11df6d3f0c4a8c2"
      }
     },
     "metadata": {},
     "output_type": "display_data"
    },
    {
     "data": {
      "text/plain": [
       "Validation: |          | 0/? [00:00<?, ?it/s]"
      ],
      "application/vnd.jupyter.widget-view+json": {
       "version_major": 2,
       "version_minor": 0,
       "model_id": "d1db63c4b038409ea9a4e44a5488424e"
      }
     },
     "metadata": {},
     "output_type": "display_data"
    },
    {
     "name": "stderr",
     "output_type": "stream",
     "text": [
      "Metric val_loss improved by 0.002 >= min_delta = 0.001. New best score: 0.016\n"
     ]
    },
    {
     "data": {
      "text/plain": [
       "Validation: |          | 0/? [00:00<?, ?it/s]"
      ],
      "application/vnd.jupyter.widget-view+json": {
       "version_major": 2,
       "version_minor": 0,
       "model_id": "f0dbbe9eb0e145b99d6ccd250e9206e6"
      }
     },
     "metadata": {},
     "output_type": "display_data"
    },
    {
     "data": {
      "text/plain": [
       "Validation: |          | 0/? [00:00<?, ?it/s]"
      ],
      "application/vnd.jupyter.widget-view+json": {
       "version_major": 2,
       "version_minor": 0,
       "model_id": "fb7b2f30e1c046faaac069a210879367"
      }
     },
     "metadata": {},
     "output_type": "display_data"
    },
    {
     "name": "stderr",
     "output_type": "stream",
     "text": [
      "Metric val_loss improved by 0.002 >= min_delta = 0.001. New best score: 0.014\n"
     ]
    },
    {
     "data": {
      "text/plain": [
       "Validation: |          | 0/? [00:00<?, ?it/s]"
      ],
      "application/vnd.jupyter.widget-view+json": {
       "version_major": 2,
       "version_minor": 0,
       "model_id": "d3d775b170044e6cbc7d5cf30d4211cb"
      }
     },
     "metadata": {},
     "output_type": "display_data"
    },
    {
     "name": "stderr",
     "output_type": "stream",
     "text": [
      "[I 2025-05-19 15:28:15,524] Trial 44 pruned. Trial was pruned at epoch 5.\n",
      "Specified future encoders in `add_encoders` at model creation but model does not accept future covariates. future encoders will be ignored.\n",
      "/home/eduardo/Documentos/Water-Cycle-Neural-Network/venv/lib/python3.12/site-packages/torch/nn/modules/transformer.py:382: UserWarning: enable_nested_tensor is True, but self.use_nested_tensor is False because encoder_layer.self_attn.batch_first was not True(use batch_first for better inference performance)\n",
      "  warnings.warn(\n",
      "GPU available: True (cuda), used: True\n",
      "TPU available: False, using: 0 TPU cores\n",
      "HPU available: False, using: 0 HPUs\n",
      "LOCAL_RANK: 0 - CUDA_VISIBLE_DEVICES: [0]\n",
      "\n",
      "  | Name                | Type                | Params | Mode \n",
      "--------------------------------------------------------------------\n",
      "0 | criterion           | HuberLoss           | 0      | train\n",
      "1 | train_criterion     | HuberLoss           | 0      | train\n",
      "2 | val_criterion       | HuberLoss           | 0      | train\n",
      "3 | train_metrics       | MetricCollection    | 0      | train\n",
      "4 | val_metrics         | MetricCollection    | 0      | train\n",
      "5 | encoder             | Linear              | 4.9 K  | train\n",
      "6 | positional_encoding | _PositionalEncoding | 0      | train\n",
      "7 | transformer         | Transformer         | 7.2 M  | train\n",
      "8 | decoder             | Linear              | 2.1 K  | train\n",
      "--------------------------------------------------------------------\n",
      "7.2 M     Trainable params\n",
      "0         Non-trainable params\n",
      "7.2 M     Total params\n",
      "28.965    Total estimated model params size (MB)\n",
      "147       Modules in train mode\n",
      "0         Modules in eval mode\n"
     ]
    },
    {
     "name": "stdout",
     "output_type": "stream",
     "text": [
      "Current value: 0.015127498854400503, Current params: {'input_chunk_length': 57, 'd_model': 256, 'num_encoder_layers': 1, 'num_decoder_layers': 2, 'activation': 'GLU', 'dropout': 0.24061172810259834, 'batch_size': 18, 'lr': 0.000642790162862183}\n",
      "Best value: 44.35035491565953, Best params: {'input_chunk_length': 57, 'd_model': 128, 'num_encoder_layers': 1, 'num_decoder_layers': 3, 'activation': 'GLU', 'dropout': 0.07703325789526706, 'batch_size': 24, 'lr': 0.0012200442601871598}\n",
      "\n",
      "Starting Trial 45\n",
      "Hyperparameters: {'input_chunk_length': 16, 'd_model': 256, 'num_encoder_layers': 4, 'num_decoder_layers': 3, 'activation': 'GLU', 'dropout': 0.18432024766597524, 'batch_size': 29, 'lr': 0.006522404660341474}\n",
      "\n",
      "Training the model...\n",
      "Train set: 6647 samples\n",
      "Validation set: 1662 samples\n"
     ]
    },
    {
     "data": {
      "text/plain": [
       "Sanity Checking: |          | 0/? [00:00<?, ?it/s]"
      ],
      "application/vnd.jupyter.widget-view+json": {
       "version_major": 2,
       "version_minor": 0,
       "model_id": "027258c047ae4c85b51b18c901a50da2"
      }
     },
     "metadata": {},
     "output_type": "display_data"
    },
    {
     "data": {
      "text/plain": [
       "Training: |          | 0/? [00:00<?, ?it/s]"
      ],
      "application/vnd.jupyter.widget-view+json": {
       "version_major": 2,
       "version_minor": 0,
       "model_id": "431c13b182c94e5eb840d6c6845e1560"
      }
     },
     "metadata": {},
     "output_type": "display_data"
    },
    {
     "data": {
      "text/plain": [
       "Validation: |          | 0/? [00:00<?, ?it/s]"
      ],
      "application/vnd.jupyter.widget-view+json": {
       "version_major": 2,
       "version_minor": 0,
       "model_id": "06538b1f1acd46e28db5670f4d93ac67"
      }
     },
     "metadata": {},
     "output_type": "display_data"
    },
    {
     "name": "stderr",
     "output_type": "stream",
     "text": [
      "[I 2025-05-19 15:28:24,715] Trial 45 pruned. Trial was pruned at epoch 0.\n",
      "Specified future encoders in `add_encoders` at model creation but model does not accept future covariates. future encoders will be ignored.\n",
      "/home/eduardo/Documentos/Water-Cycle-Neural-Network/venv/lib/python3.12/site-packages/torch/nn/modules/transformer.py:382: UserWarning: enable_nested_tensor is True, but self.use_nested_tensor is False because encoder_layer.self_attn.batch_first was not True(use batch_first for better inference performance)\n",
      "  warnings.warn(\n",
      "GPU available: True (cuda), used: True\n",
      "TPU available: False, using: 0 TPU cores\n",
      "HPU available: False, using: 0 HPUs\n",
      "LOCAL_RANK: 0 - CUDA_VISIBLE_DEVICES: [0]\n",
      "\n",
      "  | Name                | Type                | Params | Mode \n",
      "--------------------------------------------------------------------\n",
      "0 | criterion           | HuberLoss           | 0      | train\n",
      "1 | train_criterion     | HuberLoss           | 0      | train\n",
      "2 | val_criterion       | HuberLoss           | 0      | train\n",
      "3 | train_metrics       | MetricCollection    | 0      | train\n",
      "4 | val_metrics         | MetricCollection    | 0      | train\n",
      "5 | encoder             | Linear              | 1.2 K  | train\n",
      "6 | positional_encoding | _PositionalEncoding | 0      | train\n",
      "7 | transformer         | Transformer         | 560 K  | train\n",
      "8 | decoder             | Linear              | 520    | train\n",
      "--------------------------------------------------------------------\n",
      "562 K     Trainable params\n",
      "0         Non-trainable params\n",
      "562 K     Total params\n",
      "2.251     Total estimated model params size (MB)\n",
      "71        Modules in train mode\n",
      "0         Modules in eval mode\n"
     ]
    },
    {
     "name": "stdout",
     "output_type": "stream",
     "text": [
      "Current value: 0.038605768616417714, Current params: {'input_chunk_length': 16, 'd_model': 256, 'num_encoder_layers': 4, 'num_decoder_layers': 3, 'activation': 'GLU', 'dropout': 0.18432024766597524, 'batch_size': 29, 'lr': 0.006522404660341474}\n",
      "Best value: 44.35035491565953, Best params: {'input_chunk_length': 57, 'd_model': 128, 'num_encoder_layers': 1, 'num_decoder_layers': 3, 'activation': 'GLU', 'dropout': 0.07703325789526706, 'batch_size': 24, 'lr': 0.0012200442601871598}\n",
      "\n",
      "Starting Trial 46\n",
      "Hyperparameters: {'input_chunk_length': 53, 'd_model': 64, 'num_encoder_layers': 2, 'num_decoder_layers': 1, 'activation': 'GLU', 'dropout': 0.157999403012732, 'batch_size': 26, 'lr': 0.00205293837561449}\n",
      "\n",
      "Training the model...\n",
      "Train set: 6647 samples\n",
      "Validation set: 1662 samples\n"
     ]
    },
    {
     "data": {
      "text/plain": [
       "Sanity Checking: |          | 0/? [00:00<?, ?it/s]"
      ],
      "application/vnd.jupyter.widget-view+json": {
       "version_major": 2,
       "version_minor": 0,
       "model_id": "b1f40f36a6424324afbca76be84aa5e7"
      }
     },
     "metadata": {},
     "output_type": "display_data"
    },
    {
     "data": {
      "text/plain": [
       "Training: |          | 0/? [00:00<?, ?it/s]"
      ],
      "application/vnd.jupyter.widget-view+json": {
       "version_major": 2,
       "version_minor": 0,
       "model_id": "6549d7bc8bd74b4d9b7aca0a0ad07103"
      }
     },
     "metadata": {},
     "output_type": "display_data"
    },
    {
     "data": {
      "text/plain": [
       "Validation: |          | 0/? [00:00<?, ?it/s]"
      ],
      "application/vnd.jupyter.widget-view+json": {
       "version_major": 2,
       "version_minor": 0,
       "model_id": "2da1539d95d84d29805b30ddea0394cb"
      }
     },
     "metadata": {},
     "output_type": "display_data"
    },
    {
     "name": "stderr",
     "output_type": "stream",
     "text": [
      "Metric val_loss improved. New best score: 0.019\n"
     ]
    },
    {
     "data": {
      "text/plain": [
       "Validation: |          | 0/? [00:00<?, ?it/s]"
      ],
      "application/vnd.jupyter.widget-view+json": {
       "version_major": 2,
       "version_minor": 0,
       "model_id": "f4fc3a563531445491a6c6516922d847"
      }
     },
     "metadata": {},
     "output_type": "display_data"
    },
    {
     "name": "stderr",
     "output_type": "stream",
     "text": [
      "Metric val_loss improved by 0.002 >= min_delta = 0.001. New best score: 0.017\n"
     ]
    },
    {
     "data": {
      "text/plain": [
       "Validation: |          | 0/? [00:00<?, ?it/s]"
      ],
      "application/vnd.jupyter.widget-view+json": {
       "version_major": 2,
       "version_minor": 0,
       "model_id": "fb8e043bb4004303873e7438c9a14949"
      }
     },
     "metadata": {},
     "output_type": "display_data"
    },
    {
     "name": "stderr",
     "output_type": "stream",
     "text": [
      "Metric val_loss improved by 0.002 >= min_delta = 0.001. New best score: 0.015\n"
     ]
    },
    {
     "data": {
      "text/plain": [
       "Validation: |          | 0/? [00:00<?, ?it/s]"
      ],
      "application/vnd.jupyter.widget-view+json": {
       "version_major": 2,
       "version_minor": 0,
       "model_id": "fb76bba53d134ed1b1974f1f8235752d"
      }
     },
     "metadata": {},
     "output_type": "display_data"
    },
    {
     "data": {
      "text/plain": [
       "Validation: |          | 0/? [00:00<?, ?it/s]"
      ],
      "application/vnd.jupyter.widget-view+json": {
       "version_major": 2,
       "version_minor": 0,
       "model_id": "cdb5ebcda93f48e08510ea8c52ff0b91"
      }
     },
     "metadata": {},
     "output_type": "display_data"
    },
    {
     "name": "stderr",
     "output_type": "stream",
     "text": [
      "Metric val_loss improved by 0.002 >= min_delta = 0.001. New best score: 0.013\n"
     ]
    },
    {
     "data": {
      "text/plain": [
       "Validation: |          | 0/? [00:00<?, ?it/s]"
      ],
      "application/vnd.jupyter.widget-view+json": {
       "version_major": 2,
       "version_minor": 0,
       "model_id": "852389918b8446fc83180db69f0de78a"
      }
     },
     "metadata": {},
     "output_type": "display_data"
    },
    {
     "data": {
      "text/plain": [
       "Validation: |          | 0/? [00:00<?, ?it/s]"
      ],
      "application/vnd.jupyter.widget-view+json": {
       "version_major": 2,
       "version_minor": 0,
       "model_id": "f703d3f69e0049998d59b8054b94cf12"
      }
     },
     "metadata": {},
     "output_type": "display_data"
    },
    {
     "data": {
      "text/plain": [
       "Validation: |          | 0/? [00:00<?, ?it/s]"
      ],
      "application/vnd.jupyter.widget-view+json": {
       "version_major": 2,
       "version_minor": 0,
       "model_id": "cbd633055b5349e8b688f8ead235813f"
      }
     },
     "metadata": {},
     "output_type": "display_data"
    },
    {
     "data": {
      "text/plain": [
       "Validation: |          | 0/? [00:00<?, ?it/s]"
      ],
      "application/vnd.jupyter.widget-view+json": {
       "version_major": 2,
       "version_minor": 0,
       "model_id": "523762607b7c429da7da32bd64299fc0"
      }
     },
     "metadata": {},
     "output_type": "display_data"
    },
    {
     "data": {
      "text/plain": [
       "Validation: |          | 0/? [00:00<?, ?it/s]"
      ],
      "application/vnd.jupyter.widget-view+json": {
       "version_major": 2,
       "version_minor": 0,
       "model_id": "d36531dbb31c47e1a7f18d6fe833cf3a"
      }
     },
     "metadata": {},
     "output_type": "display_data"
    },
    {
     "data": {
      "text/plain": [
       "Validation: |          | 0/? [00:00<?, ?it/s]"
      ],
      "application/vnd.jupyter.widget-view+json": {
       "version_major": 2,
       "version_minor": 0,
       "model_id": "c69096324189448b88d784d17de9f1f5"
      }
     },
     "metadata": {},
     "output_type": "display_data"
    },
    {
     "data": {
      "text/plain": [
       "Validation: |          | 0/? [00:00<?, ?it/s]"
      ],
      "application/vnd.jupyter.widget-view+json": {
       "version_major": 2,
       "version_minor": 0,
       "model_id": "9d2007f5835a423bb8d7c115fc9a9bf4"
      }
     },
     "metadata": {},
     "output_type": "display_data"
    },
    {
     "data": {
      "text/plain": [
       "Validation: |          | 0/? [00:00<?, ?it/s]"
      ],
      "application/vnd.jupyter.widget-view+json": {
       "version_major": 2,
       "version_minor": 0,
       "model_id": "0230d0a7ef9e497e9e353fb0db249236"
      }
     },
     "metadata": {},
     "output_type": "display_data"
    },
    {
     "name": "stderr",
     "output_type": "stream",
     "text": [
      "Metric val_loss improved by 0.001 >= min_delta = 0.001. New best score: 0.012\n"
     ]
    },
    {
     "data": {
      "text/plain": [
       "Validation: |          | 0/? [00:00<?, ?it/s]"
      ],
      "application/vnd.jupyter.widget-view+json": {
       "version_major": 2,
       "version_minor": 0,
       "model_id": "a0d57c3ff02f436fa8287a77e266431c"
      }
     },
     "metadata": {},
     "output_type": "display_data"
    },
    {
     "data": {
      "text/plain": [
       "Validation: |          | 0/? [00:00<?, ?it/s]"
      ],
      "application/vnd.jupyter.widget-view+json": {
       "version_major": 2,
       "version_minor": 0,
       "model_id": "78e36eef65ac4ed6bb117c7c04328a0c"
      }
     },
     "metadata": {},
     "output_type": "display_data"
    },
    {
     "data": {
      "text/plain": [
       "Validation: |          | 0/? [00:00<?, ?it/s]"
      ],
      "application/vnd.jupyter.widget-view+json": {
       "version_major": 2,
       "version_minor": 0,
       "model_id": "0c6fc8bfd7064919afd9ee2538d33d22"
      }
     },
     "metadata": {},
     "output_type": "display_data"
    },
    {
     "data": {
      "text/plain": [
       "Validation: |          | 0/? [00:00<?, ?it/s]"
      ],
      "application/vnd.jupyter.widget-view+json": {
       "version_major": 2,
       "version_minor": 0,
       "model_id": "7d4e0091d0da4734a19336b2aacf7633"
      }
     },
     "metadata": {},
     "output_type": "display_data"
    },
    {
     "data": {
      "text/plain": [
       "Validation: |          | 0/? [00:00<?, ?it/s]"
      ],
      "application/vnd.jupyter.widget-view+json": {
       "version_major": 2,
       "version_minor": 0,
       "model_id": "b15c234925294d58b4aab97f4d5a8fea"
      }
     },
     "metadata": {},
     "output_type": "display_data"
    },
    {
     "data": {
      "text/plain": [
       "Validation: |          | 0/? [00:00<?, ?it/s]"
      ],
      "application/vnd.jupyter.widget-view+json": {
       "version_major": 2,
       "version_minor": 0,
       "model_id": "18a3cfb49f81425abe83adf378ce3807"
      }
     },
     "metadata": {},
     "output_type": "display_data"
    },
    {
     "data": {
      "text/plain": [
       "Validation: |          | 0/? [00:00<?, ?it/s]"
      ],
      "application/vnd.jupyter.widget-view+json": {
       "version_major": 2,
       "version_minor": 0,
       "model_id": "45acfdbdc645477fb4b733b1cacd655a"
      }
     },
     "metadata": {},
     "output_type": "display_data"
    },
    {
     "data": {
      "text/plain": [
       "Validation: |          | 0/? [00:00<?, ?it/s]"
      ],
      "application/vnd.jupyter.widget-view+json": {
       "version_major": 2,
       "version_minor": 0,
       "model_id": "1b4f6fd1a4074daeb620a7077a2d214b"
      }
     },
     "metadata": {},
     "output_type": "display_data"
    },
    {
     "data": {
      "text/plain": [
       "Validation: |          | 0/? [00:00<?, ?it/s]"
      ],
      "application/vnd.jupyter.widget-view+json": {
       "version_major": 2,
       "version_minor": 0,
       "model_id": "b5bec14b51274aacb3da433f7fbbf48c"
      }
     },
     "metadata": {},
     "output_type": "display_data"
    },
    {
     "data": {
      "text/plain": [
       "Validation: |          | 0/? [00:00<?, ?it/s]"
      ],
      "application/vnd.jupyter.widget-view+json": {
       "version_major": 2,
       "version_minor": 0,
       "model_id": "1640536e640544e484786385527bfa4e"
      }
     },
     "metadata": {},
     "output_type": "display_data"
    },
    {
     "name": "stderr",
     "output_type": "stream",
     "text": [
      "Monitored metric val_loss did not improve in the last 10 records. Best score: 0.012. Signaling Trainer to stop.\n",
      "/home/eduardo/Documentos/Water-Cycle-Neural-Network/venv/lib/python3.12/site-packages/torch/nn/modules/transformer.py:382: UserWarning: enable_nested_tensor is True, but self.use_nested_tensor is False because encoder_layer.self_attn.batch_first was not True(use batch_first for better inference performance)\n",
      "  warnings.warn(\n",
      "GPU available: True (cuda), used: True\n",
      "TPU available: False, using: 0 TPU cores\n",
      "HPU available: False, using: 0 HPUs\n",
      "LOCAL_RANK: 0 - CUDA_VISIBLE_DEVICES: [0]\n",
      "/home/eduardo/Documentos/Water-Cycle-Neural-Network/venv/lib/python3.12/site-packages/pytorch_lightning/trainer/connectors/data_connector.py:425: The 'predict_dataloader' does not have many workers which may be a bottleneck. Consider increasing the value of the `num_workers` argument` to `num_workers=11` in the `DataLoader` to improve performance.\n"
     ]
    },
    {
     "name": "stdout",
     "output_type": "stream",
     "text": [
      "Model loaded from checkpoint for trial 46\n"
     ]
    },
    {
     "name": "stderr",
     "output_type": "stream",
     "text": [
      "[I 2025-05-19 15:37:42,528] Trial 46 finished with value: 44.93652869387965 and parameters: {'input_chunk_length': 53, 'd_model': 64, 'num_encoder_layers': 2, 'num_decoder_layers': 1, 'activation': 'GLU', 'dropout': 0.157999403012732, 'batch_size': 26, 'lr': 0.00205293837561449}. Best is trial 22 with value: 44.35035491565953.\n",
      "Specified future encoders in `add_encoders` at model creation but model does not accept future covariates. future encoders will be ignored.\n",
      "/home/eduardo/Documentos/Water-Cycle-Neural-Network/venv/lib/python3.12/site-packages/torch/nn/modules/transformer.py:382: UserWarning: enable_nested_tensor is True, but self.use_nested_tensor is False because encoder_layer.self_attn.batch_first was not True(use batch_first for better inference performance)\n",
      "  warnings.warn(\n",
      "GPU available: True (cuda), used: True\n",
      "TPU available: False, using: 0 TPU cores\n",
      "HPU available: False, using: 0 HPUs\n",
      "LOCAL_RANK: 0 - CUDA_VISIBLE_DEVICES: [0]\n",
      "\n",
      "  | Name                | Type                | Params | Mode \n",
      "--------------------------------------------------------------------\n",
      "0 | criterion           | HuberLoss           | 0      | train\n",
      "1 | train_criterion     | HuberLoss           | 0      | train\n",
      "2 | val_criterion       | HuberLoss           | 0      | train\n",
      "3 | train_metrics       | MetricCollection    | 0      | train\n",
      "4 | val_metrics         | MetricCollection    | 0      | train\n",
      "5 | encoder             | Linear              | 1.2 K  | train\n",
      "6 | positional_encoding | _PositionalEncoding | 0      | train\n",
      "7 | transformer         | Transformer         | 464 K  | train\n",
      "8 | decoder             | Linear              | 520    | train\n",
      "--------------------------------------------------------------------\n",
      "466 K     Trainable params\n",
      "0         Non-trainable params\n",
      "466 K     Total params\n",
      "1.864     Total estimated model params size (MB)\n",
      "68        Modules in train mode\n",
      "0         Modules in eval mode\n"
     ]
    },
    {
     "name": "stdout",
     "output_type": "stream",
     "text": [
      "Starting time series consistency verification...\n",
      "\n",
      "Performance metrics:\n",
      "                                    MSE        RMSE        MAE          R2  \\\n",
      "Temperature                    1.564261    1.250704   0.866400    0.540511   \n",
      "Precipitation_accumulated    197.728098   14.061582  13.182132 -207.322643   \n",
      "Humidity                       3.265276    1.807007   1.193893    0.949787   \n",
      "Wind_Speed_kmh                 0.068437    0.261605   0.129743    0.798896   \n",
      "Soil_Moisture              19010.205138  137.877500  83.361330    0.974309   \n",
      "Soil_Temperature               0.720429    0.848781   0.612919    0.871632   \n",
      "Wind_Dir_Sin                   0.045176    0.212547   0.097300    0.718737   \n",
      "Wind_Dir_Cos                   0.043444    0.208433   0.108348    0.848675   \n",
      "\n",
      "                                SMAPE  \n",
      "Temperature                 17.367286  \n",
      "Precipitation_accumulated    2.824046  \n",
      "Humidity                     1.421750  \n",
      "Wind_Speed_kmh             152.084999  \n",
      "Soil_Moisture                1.370518  \n",
      "Soil_Temperature            18.548191  \n",
      "Wind_Dir_Sin               140.573709  \n",
      "Wind_Dir_Cos                25.301730  \n",
      "The SMAPE for this fold was 44.93652869387965\n",
      "Results for trial 46 saved to optuna_iteration_metrics/trial_46.json\n",
      "Current value: 44.93652869387965, Current params: {'input_chunk_length': 53, 'd_model': 64, 'num_encoder_layers': 2, 'num_decoder_layers': 1, 'activation': 'GLU', 'dropout': 0.157999403012732, 'batch_size': 26, 'lr': 0.00205293837561449}\n",
      "Best value: 44.35035491565953, Best params: {'input_chunk_length': 57, 'd_model': 128, 'num_encoder_layers': 1, 'num_decoder_layers': 3, 'activation': 'GLU', 'dropout': 0.07703325789526706, 'batch_size': 24, 'lr': 0.0012200442601871598}\n",
      "\n",
      "Starting Trial 47\n",
      "Hyperparameters: {'input_chunk_length': 51, 'd_model': 64, 'num_encoder_layers': 2, 'num_decoder_layers': 1, 'activation': 'GELU', 'dropout': 0.11569617033796253, 'batch_size': 62, 'lr': 0.00208186477367061}\n",
      "\n",
      "Training the model...\n",
      "Train set: 6647 samples\n",
      "Validation set: 1662 samples\n"
     ]
    },
    {
     "data": {
      "text/plain": [
       "Sanity Checking: |          | 0/? [00:00<?, ?it/s]"
      ],
      "application/vnd.jupyter.widget-view+json": {
       "version_major": 2,
       "version_minor": 0,
       "model_id": "cb892f4fb8b84ee2941fa6b948adfb99"
      }
     },
     "metadata": {},
     "output_type": "display_data"
    },
    {
     "data": {
      "text/plain": [
       "Training: |          | 0/? [00:00<?, ?it/s]"
      ],
      "application/vnd.jupyter.widget-view+json": {
       "version_major": 2,
       "version_minor": 0,
       "model_id": "e08ed5760e7b4298b4d7fb1129512a0d"
      }
     },
     "metadata": {},
     "output_type": "display_data"
    },
    {
     "data": {
      "text/plain": [
       "Validation: |          | 0/? [00:00<?, ?it/s]"
      ],
      "application/vnd.jupyter.widget-view+json": {
       "version_major": 2,
       "version_minor": 0,
       "model_id": "fb5bcf6dbe6c4cd881c8213477bfc31c"
      }
     },
     "metadata": {},
     "output_type": "display_data"
    },
    {
     "name": "stderr",
     "output_type": "stream",
     "text": [
      "[I 2025-05-19 15:37:47,579] Trial 47 pruned. Trial was pruned at epoch 0.\n",
      "Specified future encoders in `add_encoders` at model creation but model does not accept future covariates. future encoders will be ignored.\n",
      "/home/eduardo/Documentos/Water-Cycle-Neural-Network/venv/lib/python3.12/site-packages/torch/nn/modules/transformer.py:382: UserWarning: enable_nested_tensor is True, but self.use_nested_tensor is False because encoder_layer.self_attn.batch_first was not True(use batch_first for better inference performance)\n",
      "  warnings.warn(\n",
      "GPU available: True (cuda), used: True\n",
      "TPU available: False, using: 0 TPU cores\n",
      "HPU available: False, using: 0 HPUs\n",
      "LOCAL_RANK: 0 - CUDA_VISIBLE_DEVICES: [0]\n",
      "\n",
      "  | Name                | Type                | Params | Mode \n",
      "--------------------------------------------------------------------\n",
      "0 | criterion           | HuberLoss           | 0      | train\n",
      "1 | train_criterion     | HuberLoss           | 0      | train\n",
      "2 | val_criterion       | HuberLoss           | 0      | train\n",
      "3 | train_metrics       | MetricCollection    | 0      | train\n",
      "4 | val_metrics         | MetricCollection    | 0      | train\n",
      "5 | encoder             | Linear              | 1.2 K  | train\n",
      "6 | positional_encoding | _PositionalEncoding | 0      | train\n",
      "7 | transformer         | Transformer         | 560 K  | train\n",
      "8 | decoder             | Linear              | 520    | train\n",
      "--------------------------------------------------------------------\n",
      "562 K     Trainable params\n",
      "0         Non-trainable params\n",
      "562 K     Total params\n",
      "2.251     Total estimated model params size (MB)\n",
      "71        Modules in train mode\n",
      "0         Modules in eval mode\n"
     ]
    },
    {
     "name": "stdout",
     "output_type": "stream",
     "text": [
      "Current value: 0.023441530778377285, Current params: {'input_chunk_length': 51, 'd_model': 64, 'num_encoder_layers': 2, 'num_decoder_layers': 1, 'activation': 'GELU', 'dropout': 0.11569617033796253, 'batch_size': 62, 'lr': 0.00208186477367061}\n",
      "Best value: 44.35035491565953, Best params: {'input_chunk_length': 57, 'd_model': 128, 'num_encoder_layers': 1, 'num_decoder_layers': 3, 'activation': 'GLU', 'dropout': 0.07703325789526706, 'batch_size': 24, 'lr': 0.0012200442601871598}\n",
      "\n",
      "Starting Trial 48\n",
      "Hyperparameters: {'input_chunk_length': 54, 'd_model': 64, 'num_encoder_layers': 2, 'num_decoder_layers': 1, 'activation': 'GEGLU', 'dropout': 0.13691263400806936, 'batch_size': 26, 'lr': 0.000986547079941438}\n",
      "\n",
      "Training the model...\n",
      "Train set: 6647 samples\n",
      "Validation set: 1662 samples\n"
     ]
    },
    {
     "data": {
      "text/plain": [
       "Sanity Checking: |          | 0/? [00:00<?, ?it/s]"
      ],
      "application/vnd.jupyter.widget-view+json": {
       "version_major": 2,
       "version_minor": 0,
       "model_id": "56d67ee9e93d47909e04bac65264184a"
      }
     },
     "metadata": {},
     "output_type": "display_data"
    },
    {
     "data": {
      "text/plain": [
       "Training: |          | 0/? [00:00<?, ?it/s]"
      ],
      "application/vnd.jupyter.widget-view+json": {
       "version_major": 2,
       "version_minor": 0,
       "model_id": "a43a35970c4d446f8ef4ff2a3871ca62"
      }
     },
     "metadata": {},
     "output_type": "display_data"
    },
    {
     "data": {
      "text/plain": [
       "Validation: |          | 0/? [00:00<?, ?it/s]"
      ],
      "application/vnd.jupyter.widget-view+json": {
       "version_major": 2,
       "version_minor": 0,
       "model_id": "22e2db3001b54ad0a41b2dd3b68c96e9"
      }
     },
     "metadata": {},
     "output_type": "display_data"
    },
    {
     "name": "stderr",
     "output_type": "stream",
     "text": [
      "[I 2025-05-19 15:37:54,187] Trial 48 pruned. Trial was pruned at epoch 0.\n",
      "Specified future encoders in `add_encoders` at model creation but model does not accept future covariates. future encoders will be ignored.\n",
      "/home/eduardo/Documentos/Water-Cycle-Neural-Network/venv/lib/python3.12/site-packages/torch/nn/modules/transformer.py:382: UserWarning: enable_nested_tensor is True, but self.use_nested_tensor is False because encoder_layer.self_attn.batch_first was not True(use batch_first for better inference performance)\n",
      "  warnings.warn(\n",
      "GPU available: True (cuda), used: True\n",
      "TPU available: False, using: 0 TPU cores\n",
      "HPU available: False, using: 0 HPUs\n",
      "LOCAL_RANK: 0 - CUDA_VISIBLE_DEVICES: [0]\n",
      "\n",
      "  | Name                | Type                | Params | Mode \n",
      "--------------------------------------------------------------------\n",
      "0 | criterion           | HuberLoss           | 0      | train\n",
      "1 | train_criterion     | HuberLoss           | 0      | train\n",
      "2 | val_criterion       | HuberLoss           | 0      | train\n",
      "3 | train_metrics       | MetricCollection    | 0      | train\n",
      "4 | val_metrics         | MetricCollection    | 0      | train\n",
      "5 | encoder             | Linear              | 1.2 K  | train\n",
      "6 | positional_encoding | _PositionalEncoding | 0      | train\n",
      "7 | transformer         | Transformer         | 560 K  | train\n",
      "8 | decoder             | Linear              | 520    | train\n",
      "--------------------------------------------------------------------\n",
      "562 K     Trainable params\n",
      "0         Non-trainable params\n",
      "562 K     Total params\n",
      "2.251     Total estimated model params size (MB)\n",
      "71        Modules in train mode\n",
      "0         Modules in eval mode\n"
     ]
    },
    {
     "name": "stdout",
     "output_type": "stream",
     "text": [
      "Current value: 0.02894822445773574, Current params: {'input_chunk_length': 54, 'd_model': 64, 'num_encoder_layers': 2, 'num_decoder_layers': 1, 'activation': 'GEGLU', 'dropout': 0.13691263400806936, 'batch_size': 26, 'lr': 0.000986547079941438}\n",
      "Best value: 44.35035491565953, Best params: {'input_chunk_length': 57, 'd_model': 128, 'num_encoder_layers': 1, 'num_decoder_layers': 3, 'activation': 'GLU', 'dropout': 0.07703325789526706, 'batch_size': 24, 'lr': 0.0012200442601871598}\n",
      "\n",
      "Starting Trial 49\n",
      "Hyperparameters: {'input_chunk_length': 48, 'd_model': 64, 'num_encoder_layers': 2, 'num_decoder_layers': 1, 'activation': 'Bilinear', 'dropout': 0.1571594024866987, 'batch_size': 36, 'lr': 0.003842103391772684}\n",
      "\n",
      "Training the model...\n",
      "Train set: 6647 samples\n",
      "Validation set: 1662 samples\n"
     ]
    },
    {
     "data": {
      "text/plain": [
       "Sanity Checking: |          | 0/? [00:00<?, ?it/s]"
      ],
      "application/vnd.jupyter.widget-view+json": {
       "version_major": 2,
       "version_minor": 0,
       "model_id": "f09cba0d402e41e7aaa0f179a4e7cdad"
      }
     },
     "metadata": {},
     "output_type": "display_data"
    },
    {
     "data": {
      "text/plain": [
       "Training: |          | 0/? [00:00<?, ?it/s]"
      ],
      "application/vnd.jupyter.widget-view+json": {
       "version_major": 2,
       "version_minor": 0,
       "model_id": "66046ca2c4dc416eaa38a7a67e92439f"
      }
     },
     "metadata": {},
     "output_type": "display_data"
    },
    {
     "data": {
      "text/plain": [
       "Validation: |          | 0/? [00:00<?, ?it/s]"
      ],
      "application/vnd.jupyter.widget-view+json": {
       "version_major": 2,
       "version_minor": 0,
       "model_id": "e9bb27de72ed4d65b9cb427d2d8dd7d6"
      }
     },
     "metadata": {},
     "output_type": "display_data"
    },
    {
     "name": "stderr",
     "output_type": "stream",
     "text": [
      "Metric val_loss improved. New best score: 0.020\n"
     ]
    },
    {
     "data": {
      "text/plain": [
       "Validation: |          | 0/? [00:00<?, ?it/s]"
      ],
      "application/vnd.jupyter.widget-view+json": {
       "version_major": 2,
       "version_minor": 0,
       "model_id": "474d235fa6dd4d12bf5c46998c325bd8"
      }
     },
     "metadata": {},
     "output_type": "display_data"
    },
    {
     "name": "stderr",
     "output_type": "stream",
     "text": [
      "[I 2025-05-19 15:38:04,754] Trial 49 pruned. Trial was pruned at epoch 1.\n"
     ]
    },
    {
     "name": "stdout",
     "output_type": "stream",
     "text": [
      "Current value: 0.020369307069101658, Current params: {'input_chunk_length': 48, 'd_model': 64, 'num_encoder_layers': 2, 'num_decoder_layers': 1, 'activation': 'Bilinear', 'dropout': 0.1571594024866987, 'batch_size': 36, 'lr': 0.003842103391772684}\n",
      "Best value: 44.35035491565953, Best params: {'input_chunk_length': 57, 'd_model': 128, 'num_encoder_layers': 1, 'num_decoder_layers': 3, 'activation': 'GLU', 'dropout': 0.07703325789526706, 'batch_size': 24, 'lr': 0.0012200442601871598}\n"
     ]
    }
   ],
   "execution_count": 7
  },
  {
   "cell_type": "code",
   "id": "2ce51ec310c052dc",
   "metadata": {
    "ExecuteTime": {
     "end_time": "2025-05-19T18:47:09.875958Z",
     "start_time": "2025-05-19T18:47:09.873282Z"
    }
   },
   "source": [
    "# Print the best results from the optimization\n",
    "print(f\"Best Value (Minimum): {study.best_value}\")\n",
    "print(f\"Best Parameters: {study.best_params}\")"
   ],
   "outputs": [
    {
     "name": "stdout",
     "output_type": "stream",
     "text": [
      "Best Value (Minimum): 44.35035491565953\n",
      "Best Parameters: {'input_chunk_length': 57, 'd_model': 128, 'num_encoder_layers': 1, 'num_decoder_layers': 3, 'activation': 'GLU', 'dropout': 0.07703325789526706, 'batch_size': 24, 'lr': 0.0012200442601871598}\n"
     ]
    }
   ],
   "execution_count": 10
  },
  {
   "cell_type": "code",
   "id": "4dafb05a6dcd472",
   "metadata": {
    "ExecuteTime": {
     "end_time": "2025-05-19T18:47:11.329115Z",
     "start_time": "2025-05-19T18:47:11.325294Z"
    }
   },
   "source": [
    "# Save the best trial results to a separate file\n",
    "best_dict = {\n",
    "    \"best_value\": study.best_value,\n",
    "    \"best_params\": study.best_params,\n",
    "}\n",
    "json_path = os.path.join(results_output_dir, \"best_trial.json\")\n",
    "with open(json_path, 'w') as f:\n",
    "    json.dump(best_dict, f, indent=4)\n",
    "print(f\"Best results saved to {json_path}\")\n"
   ],
   "outputs": [
    {
     "name": "stdout",
     "output_type": "stream",
     "text": [
      "Best results saved to optuna_iteration_metrics/best_trial.json\n"
     ]
    }
   ],
   "execution_count": 11
  }
 ],
 "metadata": {
  "jupytext": {
   "cell_metadata_filter": "-all",
   "main_language": "python",
   "notebook_metadata_filter": "-all"
  },
  "kernelspec": {
   "display_name": "Python (TORCH)",
   "language": "python",
   "name": "torch"
  },
  "language_info": {
   "codemirror_mode": {
    "name": "ipython",
    "version": 3
   },
   "file_extension": ".py",
   "mimetype": "text/x-python",
   "name": "python",
   "nbconvert_exporter": "python",
   "pygments_lexer": "ipython3",
   "version": "3.12.3"
  }
 },
 "nbformat": 4,
 "nbformat_minor": 5
}
