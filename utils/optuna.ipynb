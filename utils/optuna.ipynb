{
 "cells": [
  {
   "metadata": {
    "ExecuteTime": {
     "end_time": "2025-05-26T20:21:43.332306Z",
     "start_time": "2025-05-26T20:21:38.626722Z"
    }
   },
   "cell_type": "code",
   "source": [
    "import matplotlib.pyplot as plt\n",
    "import numpy as np\n",
    "import pandas as pd\n",
    "from darts import TimeSeries\n",
    "from darts.models import NHiTSModel\n",
    "from darts.metrics import mse, rmse, r2_score, mae, smape\n",
    "from darts.dataprocessing.transformers import Scaler\n",
    "import torch\n",
    "from optuna.integration import PyTorchLightningPruningCallback\n",
    "from pytorch_lightning.callbacks import Callback, EarlyStopping\n",
    "import optuna\n",
    "import os\n",
    "import json\n",
    "\n",
    "# Visualization settings\n",
    "plt.style.use('ggplot')\n",
    "plt.rcParams['figure.figsize'] = (12, 6)\n",
    "torch.set_float32_matmul_precision('medium')"
   ],
   "id": "e1308c9d9e950ee0",
   "outputs": [],
   "execution_count": 1
  },
  {
   "metadata": {
    "ExecuteTime": {
     "end_time": "2025-05-26T20:21:43.357055Z",
     "start_time": "2025-05-26T20:21:43.341451Z"
    }
   },
   "cell_type": "code",
   "source": [
    "target_columns = [\n",
    "    'Temperature','Precipitation_accumulated','Humidity', 'Wind_Speed_kmh',\n",
    "    'Soil_Moisture', 'Soil_Temperature', 'Wind_Dir_Sin', 'Wind_Dir_Cos'\n",
    "]\n",
    "\n",
    "DATA_FILE_PATH = \"../data/ground_station_clean.csv\"\n",
    "df = pd.read_csv(DATA_FILE_PATH)"
   ],
   "id": "ec23a01324da1b8",
   "outputs": [],
   "execution_count": 2
  },
  {
   "metadata": {
    "ExecuteTime": {
     "end_time": "2025-05-26T20:21:43.426295Z",
     "start_time": "2025-05-26T20:21:43.423703Z"
    }
   },
   "cell_type": "code",
   "source": [
    "encoders = {\n",
    "    \"cyclic\": {\n",
    "        \"past\": [\"month\", \"dayofyear\", \"day\", \"hour\", \"minute\"],\n",
    "        \"future\": [\"month\", \"dayofyear\", \"day\", \"hour\", \"minute\"]\n",
    "    },\n",
    "    \"transformer\": Scaler(),\n",
    "    \"datetime_attribute\": {\n",
    "        \"past\": [\"year\"],\n",
    "        \"future\": [\"year\"]\n",
    "    }\n",
    "}\n"
   ],
   "id": "f10cf40cbefd1b5b",
   "outputs": [],
   "execution_count": 3
  },
  {
   "metadata": {
    "ExecuteTime": {
     "end_time": "2025-05-26T20:21:43.523250Z",
     "start_time": "2025-05-26T20:21:43.517913Z"
    }
   },
   "cell_type": "code",
   "source": [
    "class PatchedPruningCallback(PyTorchLightningPruningCallback, Callback):\n",
    "    pass\n",
    "\n",
    "# Create directory to save iteration results\n",
    "results_output_dir = \"optuna_iteration_metrics\"\n",
    "os.makedirs(results_output_dir, exist_ok=True)"
   ],
   "id": "7db1ea2bc89fa74",
   "outputs": [],
   "execution_count": 4
  },
  {
   "metadata": {
    "ExecuteTime": {
     "end_time": "2025-05-26T20:21:43.588410Z",
     "start_time": "2025-05-26T20:21:43.574920Z"
    }
   },
   "cell_type": "code",
   "source": [
    "def objective(trial):\n",
    "    input_chunk_length = trial.suggest_int(\"input_chunk_length\", 24, 72)\n",
    "    output_chunk_length = trial.suggest_int(\"output_chunk_length\", 1, 24)\n",
    "    dropout = trial.suggest_float(\"dropout\", 0.1, 0.5)\n",
    "    batch_size = trial.suggest_int(\"batch_size\", 64, 256)\n",
    "    lr = trial.suggest_float(\"lr\", 1e-6, 5e-3, log=True)\n",
    "    weight_decay = trial.suggest_float(\"weight_decay\", 1e-6, 1e-2, log=True)\n",
    "\n",
    "    num_layers    = trial.suggest_int(\"num_layers\", 1, 6)\n",
    "    num_blocks    = trial.suggest_int(\"num_blocks\", 1, 4)\n",
    "    num_stacks    = trial.suggest_int(\"num_stacks\", 1, 5)\n",
    "    layer_widths    = trial.suggest_int(\"layer_widths\", 32, 256)\n",
    "    activation = trial.suggest_categorical(\"activation\", [\"ReLU\", \"GELU\"])\n",
    "\n",
    "    # Try different loss functions\n",
    "    loss_functions = {\n",
    "        'mse': torch.nn.MSELoss(),\n",
    "        'mae': torch.nn.L1Loss(),\n",
    "        'huber': torch.nn.HuberLoss(delta=1.0),\n",
    "        'smoothl1': torch.nn.SmoothL1Loss()\n",
    "    }\n",
    "    loss_name = trial.suggest_categorical(\"loss_fn\", list(loss_functions.keys()))\n",
    "\n",
    "    # Try different optimizers\n",
    "    optimizer_names = ['Adam', 'AdamW', 'RMSprop', 'SGD']\n",
    "    optimizer_name = trial.suggest_categorical(\"optimizer\", optimizer_names)\n",
    "    optimizer_dict = {\n",
    "        'Adam': torch.optim.Adam,\n",
    "        'AdamW': torch.optim.AdamW,\n",
    "        'RMSprop': torch.optim.RMSprop,\n",
    "        'SGD': torch.optim.SGD\n",
    "    }\n",
    "\n",
    "    early_stopper = EarlyStopping(\"val_loss\", min_delta=0.0005, patience=15, verbose=True)\n",
    "    prunner = PatchedPruningCallback(trial, monitor=\"val_loss\")\n",
    "    pl_trainer_kwargs = {\n",
    "        \"accelerator\": \"auto\",\n",
    "        \"callbacks\": [early_stopper, prunner],\n",
    "    }\n",
    "    n = int(len(df) * 0.8)\n",
    "    train_df_fold, val_df_fold = df.iloc[:n], df.iloc[n:]\n",
    "    train_fold = TimeSeries.from_dataframe(train_df_fold, time_col=\"Timestamp\", value_cols=target_columns, freq='1h')\n",
    "    val_fold = TimeSeries.from_dataframe(val_df_fold, time_col=\"Timestamp\", value_cols=target_columns, freq='1h')\n",
    "\n",
    "    print(f\"\\nStarting Trial {trial.number}\")\n",
    "    print(f\"Hyperparameters: {trial.params}\")\n",
    "    print(\"\\nTraining the model...\")\n",
    "    print(f\"Train set: {len(train_fold)} samples\")\n",
    "    print(f\"Validation set: {len(val_fold)} samples\")\n",
    "\n",
    "    scaler = Scaler()\n",
    "    scaler = scaler.fit(train_fold)\n",
    "    train_scaled = scaler.transform(train_fold)\n",
    "    val_scaled = scaler.transform(val_fold)\n",
    "\n",
    "    _work_dir = \"/home/eduardo/Documentos/Water-Cycle-Neural-Network/darts_logs/\"\n",
    "    _model_name = \"model_optuna_temp\"\n",
    "    os.makedirs(_work_dir, exist_ok=True)\n",
    "\n",
    "    # Additional optimizer kwargs based on optimizer type\n",
    "    opt_kwargs = {\"lr\": lr, \"weight_decay\": weight_decay}\n",
    "    if optimizer_name == 'SGD':\n",
    "        opt_kwargs['momentum'] = 0.9\n",
    "\n",
    "    model = NHiTSModel(\n",
    "        model_name=_model_name,\n",
    "        work_dir=_work_dir,\n",
    "        input_chunk_length=input_chunk_length,\n",
    "        output_chunk_length=output_chunk_length,\n",
    "        activation=activation,\n",
    "        num_layers=num_layers,\n",
    "        num_blocks=num_blocks,\n",
    "        num_stacks=num_stacks,\n",
    "        layer_widths=layer_widths,\n",
    "        n_epochs=30,\n",
    "        batch_size=batch_size,\n",
    "        dropout=dropout,\n",
    "        add_encoders=encoders,\n",
    "        pl_trainer_kwargs=pl_trainer_kwargs,\n",
    "        loss_fn=loss_functions[loss_name],\n",
    "        optimizer_cls=optimizer_dict[optimizer_name],\n",
    "        lr_scheduler_cls=torch.optim.lr_scheduler.ReduceLROnPlateau,\n",
    "        lr_scheduler_kwargs={\"mode\": \"min\", \"factor\": 0.3, \"patience\": 5, \"min_lr\": 1e-7},\n",
    "        save_checkpoints=True,\n",
    "        show_warnings=True,\n",
    "        force_reset=True,\n",
    "        optimizer_kwargs=opt_kwargs,\n",
    "    )\n",
    "    model.fit(\n",
    "        series=train_scaled,\n",
    "        val_series=val_scaled,\n",
    "        verbose=False,\n",
    "        dataloader_kwargs={\"num_workers\": 9},\n",
    "    )\n",
    "\n",
    "    try:\n",
    "        loaded_model = NHiTSModel.load_from_checkpoint(model_name=_model_name, work_dir=_work_dir, best=True)\n",
    "        print(f\"Model loaded from checkpoint for trial {trial.number}\")\n",
    "    except FileNotFoundError:\n",
    "        print(f\"Checkpoint not found for {_model_name} in {_work_dir}. Using the in-memory trained model.\")\n",
    "        loaded_model = model\n",
    "\n",
    "    forecasts = loaded_model.historical_forecasts(\n",
    "        val_scaled,\n",
    "        forecast_horizon=output_chunk_length,\n",
    "        stride=1,\n",
    "        retrain=False,\n",
    "        verbose=False\n",
    "    )\n",
    "\n",
    "    forecasts_t = scaler.inverse_transform(forecasts)\n",
    "    s = scaler.inverse_transform(val_scaled)\n",
    "    metrics = {}\n",
    "    print(\"Starting time series verification for consistency...\")\n",
    "    try:\n",
    "        for target in target_columns:\n",
    "            metrics[target] = {\n",
    "                'MSE': mse(s[target], forecasts_t[target]),\n",
    "                'RMSE': rmse(s[target], forecasts_t[target]),\n",
    "                'MAE': mae(s[target], forecasts_t[target]),\n",
    "                'R2': r2_score(s[target], forecasts_t[target]),\n",
    "                'SMAPE': smape(s[target], forecasts_t[target]),\n",
    "            }\n",
    "        metrics_df = pd.DataFrame(metrics).T\n",
    "        print(\"\\nPerformance metrics:\")\n",
    "        print(metrics_df)\n",
    "    except Exception as e:\n",
    "        print(e)\n",
    "\n",
    "    overall_mae_val = mae(val_scaled, forecasts)\n",
    "    print(f\"The MAE for this fold was {overall_mae_val}\")\n",
    "\n",
    "    trial_dict = {\n",
    "        \"trial_number\": trial.number,\n",
    "        \"input_chunk_length\": input_chunk_length,\n",
    "        \"output_chunk_length\": output_chunk_length,\n",
    "        \"num_layers\": num_layers,\n",
    "        \"num_blocks\": num_blocks,\n",
    "        \"num_stacks\": num_stacks,\n",
    "        \"layer_widths\": layer_widths,\n",
    "        \"activation\": activation,\n",
    "        \"dropout\": dropout,\n",
    "        \"batch_size\": batch_size,\n",
    "        \"lr\": lr,\n",
    "        \"loss_function\": loss_name,\n",
    "        \"optimizer\": optimizer_name,\n",
    "        \"overall_mae_val\": overall_mae_val,\n",
    "        \"metrics\": metrics_df.to_dict(),\n",
    "    }\n",
    "    json_path = os.path.join(results_output_dir, f\"trial_{trial.number}.json\")\n",
    "    with open(json_path, 'w') as f:\n",
    "        json.dump(trial_dict, f, indent=4)\n",
    "    print(f\"Results of trial {trial.number} saved in {json_path}\")\n",
    "    return overall_mae_val if not np.isnan(overall_mae_val) else float(\"inf\")\n"
   ],
   "id": "19f7e785bbf07c41",
   "outputs": [],
   "execution_count": 5
  },
  {
   "cell_type": "code",
   "id": "bb9eb36ea7edea",
   "metadata": {
    "ExecuteTime": {
     "end_time": "2025-05-26T20:21:43.628710Z",
     "start_time": "2025-05-26T20:21:43.626233Z"
    }
   },
   "source": [
    "def print_callback(study, trial):\n",
    "    print(f\"Current value: {trial.value}, Current params: {trial.params}\")\n",
    "    print(f\"Best value: {study.best_value}, Best params: {study.best_trial.params}\")"
   ],
   "outputs": [],
   "execution_count": 6
  },
  {
   "cell_type": "code",
   "id": "51d771ffa210c7f5",
   "metadata": {
    "ExecuteTime": {
     "end_time": "2025-05-26T21:56:11.032920Z",
     "start_time": "2025-05-26T20:21:43.679249Z"
    }
   },
   "source": [
    "study = optuna.create_study(direction=\"minimize\")\n",
    "num_hyperparams = 13\n",
    "n_trials = 7 * num_hyperparams\n",
    "study.optimize(objective, n_trials=n_trials, callbacks=[print_callback])"
   ],
   "outputs": [
    {
     "name": "stderr",
     "output_type": "stream",
     "text": [
      "[I 2025-05-26 17:21:43,680] A new study created in memory with name: no-name-8cd29167-70aa-46ba-a1de-82deecc63e0b\n"
     ]
    },
    {
     "name": "stdout",
     "output_type": "stream",
     "text": [
      "\n",
      "Starting Trial 0\n",
      "Hyperparameters: {'input_chunk_length': 57, 'output_chunk_length': 15, 'dropout': 0.3726858529535757, 'batch_size': 228, 'lr': 9.748201585551697e-05, 'weight_decay': 0.00044728672549721653, 'num_layers': 3, 'num_blocks': 1, 'num_stacks': 4, 'layer_widths': 131, 'activation': 'ReLU', 'loss_fn': 'mae', 'optimizer': 'SGD'}\n",
      "\n",
      "Training the model...\n",
      "Train set: 6647 samples\n",
      "Validation set: 1662 samples\n"
     ]
    },
    {
     "name": "stderr",
     "output_type": "stream",
     "text": [
      "Specified future encoders in `add_encoders` at model creation but model does not accept future covariates. future encoders will be ignored.\n",
      "GPU available: True (cuda), used: True\n",
      "TPU available: False, using: 0 TPU cores\n",
      "HPU available: False, using: 0 HPUs\n",
      "LOCAL_RANK: 0 - CUDA_VISIBLE_DEVICES: [0]\n",
      "Metric val_loss improved. New best score: 0.510\n",
      "Metric val_loss improved by 0.004 >= min_delta = 0.0005. New best score: 0.505\n",
      "Metric val_loss improved by 0.004 >= min_delta = 0.0005. New best score: 0.501\n",
      "Metric val_loss improved by 0.004 >= min_delta = 0.0005. New best score: 0.497\n",
      "Metric val_loss improved by 0.004 >= min_delta = 0.0005. New best score: 0.493\n",
      "Metric val_loss improved by 0.004 >= min_delta = 0.0005. New best score: 0.489\n",
      "Metric val_loss improved by 0.004 >= min_delta = 0.0005. New best score: 0.486\n",
      "Metric val_loss improved by 0.004 >= min_delta = 0.0005. New best score: 0.482\n",
      "Metric val_loss improved by 0.004 >= min_delta = 0.0005. New best score: 0.478\n",
      "Metric val_loss improved by 0.004 >= min_delta = 0.0005. New best score: 0.474\n",
      "Metric val_loss improved by 0.004 >= min_delta = 0.0005. New best score: 0.471\n",
      "Metric val_loss improved by 0.004 >= min_delta = 0.0005. New best score: 0.467\n",
      "Metric val_loss improved by 0.003 >= min_delta = 0.0005. New best score: 0.464\n",
      "Metric val_loss improved by 0.003 >= min_delta = 0.0005. New best score: 0.460\n",
      "Metric val_loss improved by 0.003 >= min_delta = 0.0005. New best score: 0.457\n",
      "Metric val_loss improved by 0.003 >= min_delta = 0.0005. New best score: 0.454\n",
      "Metric val_loss improved by 0.003 >= min_delta = 0.0005. New best score: 0.450\n",
      "Metric val_loss improved by 0.003 >= min_delta = 0.0005. New best score: 0.447\n",
      "Metric val_loss improved by 0.003 >= min_delta = 0.0005. New best score: 0.444\n",
      "Metric val_loss improved by 0.003 >= min_delta = 0.0005. New best score: 0.441\n",
      "Metric val_loss improved by 0.003 >= min_delta = 0.0005. New best score: 0.438\n",
      "Metric val_loss improved by 0.003 >= min_delta = 0.0005. New best score: 0.435\n",
      "Metric val_loss improved by 0.003 >= min_delta = 0.0005. New best score: 0.432\n",
      "Metric val_loss improved by 0.003 >= min_delta = 0.0005. New best score: 0.429\n",
      "Metric val_loss improved by 0.003 >= min_delta = 0.0005. New best score: 0.426\n",
      "Metric val_loss improved by 0.003 >= min_delta = 0.0005. New best score: 0.424\n",
      "Metric val_loss improved by 0.003 >= min_delta = 0.0005. New best score: 0.421\n",
      "Metric val_loss improved by 0.003 >= min_delta = 0.0005. New best score: 0.418\n",
      "Metric val_loss improved by 0.003 >= min_delta = 0.0005. New best score: 0.416\n",
      "Metric val_loss improved by 0.003 >= min_delta = 0.0005. New best score: 0.413\n",
      "`Trainer.fit` stopped: `max_epochs=30` reached.\n",
      "GPU available: True (cuda), used: True\n",
      "TPU available: False, using: 0 TPU cores\n",
      "HPU available: False, using: 0 HPUs\n",
      "LOCAL_RANK: 0 - CUDA_VISIBLE_DEVICES: [0]\n"
     ]
    },
    {
     "name": "stdout",
     "output_type": "stream",
     "text": [
      "Model loaded from checkpoint for trial 0\n"
     ]
    },
    {
     "name": "stderr",
     "output_type": "stream",
     "text": [
      "/home/eduardo/Documentos/Water-Cycle-Neural-Network/venv/lib/python3.12/site-packages/pytorch_lightning/trainer/connectors/data_connector.py:425: The 'predict_dataloader' does not have many workers which may be a bottleneck. Consider increasing the value of the `num_workers` argument` to `num_workers=11` in the `DataLoader` to improve performance.\n",
      "[I 2025-05-26 17:22:12,458] Trial 0 finished with value: 0.35848179197382507 and parameters: {'input_chunk_length': 57, 'output_chunk_length': 15, 'dropout': 0.3726858529535757, 'batch_size': 228, 'lr': 9.748201585551697e-05, 'weight_decay': 0.00044728672549721653, 'num_layers': 3, 'num_blocks': 1, 'num_stacks': 4, 'layer_widths': 131, 'activation': 'ReLU', 'loss_fn': 'mae', 'optimizer': 'SGD'}. Best is trial 0 with value: 0.35848179197382507.\n",
      "Specified future encoders in `add_encoders` at model creation but model does not accept future covariates. future encoders will be ignored.\n",
      "GPU available: True (cuda), used: True\n",
      "TPU available: False, using: 0 TPU cores\n",
      "HPU available: False, using: 0 HPUs\n",
      "LOCAL_RANK: 0 - CUDA_VISIBLE_DEVICES: [0]\n"
     ]
    },
    {
     "name": "stdout",
     "output_type": "stream",
     "text": [
      "Starting time series verification for consistency...\n",
      "\n",
      "Performance metrics:\n",
      "                                    MSE         RMSE          MAE  \\\n",
      "Temperature                4.184899e+01     6.469079     4.967683   \n",
      "Precipitation_accumulated  7.373463e+04   271.541220   271.480609   \n",
      "Humidity                   1.910287e+03    43.706831    41.948921   \n",
      "Wind_Speed_kmh             1.722256e+00     1.312348     1.035280   \n",
      "Soil_Moisture              7.012201e+06  2648.056045  2636.450112   \n",
      "Soil_Temperature           2.696786e+01     5.193059     4.372531   \n",
      "Wind_Dir_Sin               1.115187e+00     1.056024     0.913890   \n",
      "Wind_Dir_Cos               9.607624e-01     0.980185     0.772748   \n",
      "\n",
      "                                     R2       SMAPE  \n",
      "Temperature                   -0.373552   65.097170  \n",
      "Precipitation_accumulated -23039.716308   82.579298  \n",
      "Humidity                     -11.990240   62.389386  \n",
      "Wind_Speed_kmh                -0.275132   85.544351  \n",
      "Soil_Moisture               -146.402324   36.206915  \n",
      "Soil_Temperature              -0.684661   54.145186  \n",
      "Wind_Dir_Sin                  -1.036636  145.269802  \n",
      "Wind_Dir_Cos                  -1.610487  109.208326  \n",
      "The MAE for this fold was 0.35848179197382507\n",
      "Results of trial 0 saved in optuna_iteration_metrics/trial_0.json\n",
      "Current value: 0.35848179197382507, Current params: {'input_chunk_length': 57, 'output_chunk_length': 15, 'dropout': 0.3726858529535757, 'batch_size': 228, 'lr': 9.748201585551697e-05, 'weight_decay': 0.00044728672549721653, 'num_layers': 3, 'num_blocks': 1, 'num_stacks': 4, 'layer_widths': 131, 'activation': 'ReLU', 'loss_fn': 'mae', 'optimizer': 'SGD'}\n",
      "Best value: 0.35848179197382507, Best params: {'input_chunk_length': 57, 'output_chunk_length': 15, 'dropout': 0.3726858529535757, 'batch_size': 228, 'lr': 9.748201585551697e-05, 'weight_decay': 0.00044728672549721653, 'num_layers': 3, 'num_blocks': 1, 'num_stacks': 4, 'layer_widths': 131, 'activation': 'ReLU', 'loss_fn': 'mae', 'optimizer': 'SGD'}\n",
      "\n",
      "Starting Trial 1\n",
      "Hyperparameters: {'input_chunk_length': 29, 'output_chunk_length': 18, 'dropout': 0.42626081420066686, 'batch_size': 114, 'lr': 0.0010991405682640421, 'weight_decay': 0.00010248018631308227, 'num_layers': 6, 'num_blocks': 2, 'num_stacks': 5, 'layer_widths': 220, 'activation': 'GELU', 'loss_fn': 'mse', 'optimizer': 'AdamW'}\n",
      "\n",
      "Training the model...\n",
      "Train set: 6647 samples\n",
      "Validation set: 1662 samples\n"
     ]
    },
    {
     "name": "stderr",
     "output_type": "stream",
     "text": [
      "Metric val_loss improved. New best score: 0.087\n",
      "Metric val_loss improved by 0.034 >= min_delta = 0.0005. New best score: 0.054\n",
      "Metric val_loss improved by 0.007 >= min_delta = 0.0005. New best score: 0.046\n",
      "Metric val_loss improved by 0.001 >= min_delta = 0.0005. New best score: 0.045\n",
      "Metric val_loss improved by 0.002 >= min_delta = 0.0005. New best score: 0.043\n",
      "Monitored metric val_loss did not improve in the last 15 records. Best score: 0.043. Signaling Trainer to stop.\n",
      "GPU available: True (cuda), used: True\n",
      "TPU available: False, using: 0 TPU cores\n",
      "HPU available: False, using: 0 HPUs\n",
      "LOCAL_RANK: 0 - CUDA_VISIBLE_DEVICES: [0]\n"
     ]
    },
    {
     "name": "stdout",
     "output_type": "stream",
     "text": [
      "Model loaded from checkpoint for trial 1\n"
     ]
    },
    {
     "name": "stderr",
     "output_type": "stream",
     "text": [
      "/home/eduardo/Documentos/Water-Cycle-Neural-Network/venv/lib/python3.12/site-packages/pytorch_lightning/trainer/connectors/data_connector.py:425: The 'predict_dataloader' does not have many workers which may be a bottleneck. Consider increasing the value of the `num_workers` argument` to `num_workers=11` in the `DataLoader` to improve performance.\n",
      "[I 2025-05-26 17:23:08,188] Trial 1 finished with value: 0.15637968088214926 and parameters: {'input_chunk_length': 29, 'output_chunk_length': 18, 'dropout': 0.42626081420066686, 'batch_size': 114, 'lr': 0.0010991405682640421, 'weight_decay': 0.00010248018631308227, 'num_layers': 6, 'num_blocks': 2, 'num_stacks': 5, 'layer_widths': 220, 'activation': 'GELU', 'loss_fn': 'mse', 'optimizer': 'AdamW'}. Best is trial 1 with value: 0.15637968088214926.\n",
      "Specified future encoders in `add_encoders` at model creation but model does not accept future covariates. future encoders will be ignored.\n",
      "GPU available: True (cuda), used: True\n",
      "TPU available: False, using: 0 TPU cores\n",
      "HPU available: False, using: 0 HPUs\n",
      "LOCAL_RANK: 0 - CUDA_VISIBLE_DEVICES: [0]\n"
     ]
    },
    {
     "name": "stdout",
     "output_type": "stream",
     "text": [
      "Starting time series verification for consistency...\n",
      "\n",
      "Performance metrics:\n",
      "                                     MSE        RMSE         MAE           R2  \\\n",
      "Temperature                    20.031987    4.475711    3.456450     0.343686   \n",
      "Precipitation_accumulated    5961.910341   77.213408   61.549646 -1783.223564   \n",
      "Humidity                      114.808459   10.714871    8.952759     0.217170   \n",
      "Wind_Speed_kmh                  1.371303    1.171026    0.946465    -0.018330   \n",
      "Soil_Moisture              294971.015511  543.112342  458.186590    -4.520516   \n",
      "Soil_Temperature               18.676637    4.321647    3.622960    -0.159232   \n",
      "Wind_Dir_Sin                    0.625205    0.790699    0.720994    -0.135599   \n",
      "Wind_Dir_Cos                    0.370527    0.608709    0.521962    -0.009789   \n",
      "\n",
      "                                SMAPE  \n",
      "Temperature                 47.956616  \n",
      "Precipitation_accumulated   14.769078  \n",
      "Humidity                    10.569601  \n",
      "Wind_Speed_kmh              76.815675  \n",
      "Soil_Moisture                5.517938  \n",
      "Soil_Temperature            67.278932  \n",
      "Wind_Dir_Sin               165.463120  \n",
      "Wind_Dir_Cos               127.048958  \n",
      "The MAE for this fold was 0.15637968088214926\n",
      "Results of trial 1 saved in optuna_iteration_metrics/trial_1.json\n",
      "Current value: 0.15637968088214926, Current params: {'input_chunk_length': 29, 'output_chunk_length': 18, 'dropout': 0.42626081420066686, 'batch_size': 114, 'lr': 0.0010991405682640421, 'weight_decay': 0.00010248018631308227, 'num_layers': 6, 'num_blocks': 2, 'num_stacks': 5, 'layer_widths': 220, 'activation': 'GELU', 'loss_fn': 'mse', 'optimizer': 'AdamW'}\n",
      "Best value: 0.15637968088214926, Best params: {'input_chunk_length': 29, 'output_chunk_length': 18, 'dropout': 0.42626081420066686, 'batch_size': 114, 'lr': 0.0010991405682640421, 'weight_decay': 0.00010248018631308227, 'num_layers': 6, 'num_blocks': 2, 'num_stacks': 5, 'layer_widths': 220, 'activation': 'GELU', 'loss_fn': 'mse', 'optimizer': 'AdamW'}\n",
      "\n",
      "Starting Trial 2\n",
      "Hyperparameters: {'input_chunk_length': 25, 'output_chunk_length': 23, 'dropout': 0.11399361867662355, 'batch_size': 144, 'lr': 0.0015584888783016278, 'weight_decay': 2.4303912012338233e-05, 'num_layers': 4, 'num_blocks': 2, 'num_stacks': 2, 'layer_widths': 87, 'activation': 'GELU', 'loss_fn': 'mse', 'optimizer': 'Adam'}\n",
      "\n",
      "Training the model...\n",
      "Train set: 6647 samples\n",
      "Validation set: 1662 samples\n"
     ]
    },
    {
     "name": "stderr",
     "output_type": "stream",
     "text": [
      "Metric val_loss improved. New best score: 0.099\n",
      "Metric val_loss improved by 0.018 >= min_delta = 0.0005. New best score: 0.080\n",
      "Metric val_loss improved by 0.023 >= min_delta = 0.0005. New best score: 0.057\n",
      "Metric val_loss improved by 0.004 >= min_delta = 0.0005. New best score: 0.053\n",
      "Monitored metric val_loss did not improve in the last 15 records. Best score: 0.053. Signaling Trainer to stop.\n",
      "GPU available: True (cuda), used: True\n",
      "TPU available: False, using: 0 TPU cores\n",
      "HPU available: False, using: 0 HPUs\n",
      "LOCAL_RANK: 0 - CUDA_VISIBLE_DEVICES: [0]\n"
     ]
    },
    {
     "name": "stdout",
     "output_type": "stream",
     "text": [
      "Model loaded from checkpoint for trial 2\n"
     ]
    },
    {
     "name": "stderr",
     "output_type": "stream",
     "text": [
      "/home/eduardo/Documentos/Water-Cycle-Neural-Network/venv/lib/python3.12/site-packages/pytorch_lightning/trainer/connectors/data_connector.py:425: The 'predict_dataloader' does not have many workers which may be a bottleneck. Consider increasing the value of the `num_workers` argument` to `num_workers=11` in the `DataLoader` to improve performance.\n",
      "[I 2025-05-26 17:23:29,346] Trial 2 finished with value: 0.17129541057370862 and parameters: {'input_chunk_length': 25, 'output_chunk_length': 23, 'dropout': 0.11399361867662355, 'batch_size': 144, 'lr': 0.0015584888783016278, 'weight_decay': 2.4303912012338233e-05, 'num_layers': 4, 'num_blocks': 2, 'num_stacks': 2, 'layer_widths': 87, 'activation': 'GELU', 'loss_fn': 'mse', 'optimizer': 'Adam'}. Best is trial 1 with value: 0.15637968088214926.\n",
      "Specified future encoders in `add_encoders` at model creation but model does not accept future covariates. future encoders will be ignored.\n"
     ]
    },
    {
     "name": "stdout",
     "output_type": "stream",
     "text": [
      "Starting time series verification for consistency...\n",
      "\n",
      "Performance metrics:\n",
      "                                     MSE        RMSE         MAE           R2  \\\n",
      "Temperature                    20.823920    4.563323    3.554314     0.317540   \n",
      "Precipitation_accumulated   23476.008974  153.218827  142.524781 -7036.160567   \n",
      "Humidity                       97.662191    9.882418    8.166751     0.334026   \n",
      "Wind_Speed_kmh                  1.466969    1.211185    0.948239    -0.089355   \n",
      "Soil_Moisture              243954.842602  493.917850  429.390573    -3.582364   \n",
      "Soil_Temperature                9.199053    3.032994    2.478899     0.428798   \n",
      "Wind_Dir_Sin                    0.570397    0.755246    0.685482    -0.036860   \n",
      "Wind_Dir_Cos                    0.391431    0.625644    0.516679    -0.066135   \n",
      "\n",
      "                                SMAPE  \n",
      "Temperature                 48.350248  \n",
      "Precipitation_accumulated   37.397955  \n",
      "Humidity                     9.669496  \n",
      "Wind_Speed_kmh              78.774232  \n",
      "Soil_Moisture                5.170968  \n",
      "Soil_Temperature            39.161157  \n",
      "Wind_Dir_Sin               156.861164  \n",
      "Wind_Dir_Cos               115.628608  \n",
      "The MAE for this fold was 0.17129541057370862\n",
      "Results of trial 2 saved in optuna_iteration_metrics/trial_2.json\n",
      "Current value: 0.17129541057370862, Current params: {'input_chunk_length': 25, 'output_chunk_length': 23, 'dropout': 0.11399361867662355, 'batch_size': 144, 'lr': 0.0015584888783016278, 'weight_decay': 2.4303912012338233e-05, 'num_layers': 4, 'num_blocks': 2, 'num_stacks': 2, 'layer_widths': 87, 'activation': 'GELU', 'loss_fn': 'mse', 'optimizer': 'Adam'}\n",
      "Best value: 0.15637968088214926, Best params: {'input_chunk_length': 29, 'output_chunk_length': 18, 'dropout': 0.42626081420066686, 'batch_size': 114, 'lr': 0.0010991405682640421, 'weight_decay': 0.00010248018631308227, 'num_layers': 6, 'num_blocks': 2, 'num_stacks': 5, 'layer_widths': 220, 'activation': 'GELU', 'loss_fn': 'mse', 'optimizer': 'AdamW'}\n",
      "\n",
      "Starting Trial 3\n",
      "Hyperparameters: {'input_chunk_length': 65, 'output_chunk_length': 14, 'dropout': 0.2684607356458514, 'batch_size': 140, 'lr': 0.0024371926879879855, 'weight_decay': 1.026965158913362e-05, 'num_layers': 6, 'num_blocks': 4, 'num_stacks': 3, 'layer_widths': 46, 'activation': 'ReLU', 'loss_fn': 'mse', 'optimizer': 'Adam'}\n",
      "\n",
      "Training the model...\n",
      "Train set: 6647 samples\n",
      "Validation set: 1662 samples\n"
     ]
    },
    {
     "name": "stderr",
     "output_type": "stream",
     "text": [
      "GPU available: True (cuda), used: True\n",
      "TPU available: False, using: 0 TPU cores\n",
      "HPU available: False, using: 0 HPUs\n",
      "LOCAL_RANK: 0 - CUDA_VISIBLE_DEVICES: [0]\n",
      "Metric val_loss improved. New best score: 0.106\n",
      "Metric val_loss improved by 0.010 >= min_delta = 0.0005. New best score: 0.095\n",
      "Metric val_loss improved by 0.005 >= min_delta = 0.0005. New best score: 0.090\n",
      "Metric val_loss improved by 0.016 >= min_delta = 0.0005. New best score: 0.074\n",
      "Metric val_loss improved by 0.008 >= min_delta = 0.0005. New best score: 0.066\n",
      "Metric val_loss improved by 0.007 >= min_delta = 0.0005. New best score: 0.059\n",
      "Monitored metric val_loss did not improve in the last 15 records. Best score: 0.059. Signaling Trainer to stop.\n",
      "GPU available: True (cuda), used: True\n",
      "TPU available: False, using: 0 TPU cores\n",
      "HPU available: False, using: 0 HPUs\n",
      "LOCAL_RANK: 0 - CUDA_VISIBLE_DEVICES: [0]\n"
     ]
    },
    {
     "name": "stdout",
     "output_type": "stream",
     "text": [
      "Model loaded from checkpoint for trial 3\n"
     ]
    },
    {
     "name": "stderr",
     "output_type": "stream",
     "text": [
      "/home/eduardo/Documentos/Water-Cycle-Neural-Network/venv/lib/python3.12/site-packages/pytorch_lightning/trainer/connectors/data_connector.py:425: The 'predict_dataloader' does not have many workers which may be a bottleneck. Consider increasing the value of the `num_workers` argument` to `num_workers=11` in the `DataLoader` to improve performance.\n",
      "[I 2025-05-26 17:24:08,059] Trial 3 finished with value: 0.18954866564983272 and parameters: {'input_chunk_length': 65, 'output_chunk_length': 14, 'dropout': 0.2684607356458514, 'batch_size': 140, 'lr': 0.0024371926879879855, 'weight_decay': 1.026965158913362e-05, 'num_layers': 6, 'num_blocks': 4, 'num_stacks': 3, 'layer_widths': 46, 'activation': 'ReLU', 'loss_fn': 'mse', 'optimizer': 'Adam'}. Best is trial 1 with value: 0.15637968088214926.\n",
      "Specified future encoders in `add_encoders` at model creation but model does not accept future covariates. future encoders will be ignored.\n",
      "GPU available: True (cuda), used: True\n",
      "TPU available: False, using: 0 TPU cores\n",
      "HPU available: False, using: 0 HPUs\n",
      "LOCAL_RANK: 0 - CUDA_VISIBLE_DEVICES: [0]\n"
     ]
    },
    {
     "name": "stdout",
     "output_type": "stream",
     "text": [
      "Starting time series verification for consistency...\n",
      "\n",
      "Performance metrics:\n",
      "                                     MSE        RMSE         MAE           R2  \\\n",
      "Temperature                    22.548870    4.748565    3.776869     0.254694   \n",
      "Precipitation_accumulated   30333.347597  174.164714  167.586214 -9602.012269   \n",
      "Humidity                      159.182352   12.616749   10.819316    -0.082903   \n",
      "Wind_Speed_kmh                  1.563773    1.250509    0.988149    -0.156774   \n",
      "Soil_Moisture              503394.837263  709.503233  672.319798    -9.980424   \n",
      "Soil_Temperature               11.211305    3.348329    2.748633     0.293824   \n",
      "Wind_Dir_Sin                    0.586696    0.765961    0.658136    -0.069724   \n",
      "Wind_Dir_Cos                    0.401100    0.633325    0.523848    -0.092542   \n",
      "\n",
      "                                SMAPE  \n",
      "Temperature                 49.585261  \n",
      "Precipitation_accumulated   44.938191  \n",
      "Humidity                    12.748762  \n",
      "Wind_Speed_kmh              80.896997  \n",
      "Soil_Moisture                8.139287  \n",
      "Soil_Temperature            41.726316  \n",
      "Wind_Dir_Sin               125.024901  \n",
      "Wind_Dir_Cos               114.765131  \n",
      "The MAE for this fold was 0.18954866564983272\n",
      "Results of trial 3 saved in optuna_iteration_metrics/trial_3.json\n",
      "Current value: 0.18954866564983272, Current params: {'input_chunk_length': 65, 'output_chunk_length': 14, 'dropout': 0.2684607356458514, 'batch_size': 140, 'lr': 0.0024371926879879855, 'weight_decay': 1.026965158913362e-05, 'num_layers': 6, 'num_blocks': 4, 'num_stacks': 3, 'layer_widths': 46, 'activation': 'ReLU', 'loss_fn': 'mse', 'optimizer': 'Adam'}\n",
      "Best value: 0.15637968088214926, Best params: {'input_chunk_length': 29, 'output_chunk_length': 18, 'dropout': 0.42626081420066686, 'batch_size': 114, 'lr': 0.0010991405682640421, 'weight_decay': 0.00010248018631308227, 'num_layers': 6, 'num_blocks': 2, 'num_stacks': 5, 'layer_widths': 220, 'activation': 'GELU', 'loss_fn': 'mse', 'optimizer': 'AdamW'}\n",
      "\n",
      "Starting Trial 4\n",
      "Hyperparameters: {'input_chunk_length': 67, 'output_chunk_length': 22, 'dropout': 0.24735429173431323, 'batch_size': 78, 'lr': 1.3778098529332987e-06, 'weight_decay': 0.0007751420330117056, 'num_layers': 3, 'num_blocks': 3, 'num_stacks': 3, 'layer_widths': 111, 'activation': 'ReLU', 'loss_fn': 'smoothl1', 'optimizer': 'AdamW'}\n",
      "\n",
      "Training the model...\n",
      "Train set: 6647 samples\n",
      "Validation set: 1662 samples\n"
     ]
    },
    {
     "name": "stderr",
     "output_type": "stream",
     "text": [
      "Metric val_loss improved. New best score: 0.204\n",
      "Metric val_loss improved by 0.009 >= min_delta = 0.0005. New best score: 0.194\n",
      "Metric val_loss improved by 0.009 >= min_delta = 0.0005. New best score: 0.185\n",
      "Metric val_loss improved by 0.009 >= min_delta = 0.0005. New best score: 0.176\n",
      "Metric val_loss improved by 0.009 >= min_delta = 0.0005. New best score: 0.167\n",
      "Metric val_loss improved by 0.009 >= min_delta = 0.0005. New best score: 0.158\n",
      "Metric val_loss improved by 0.009 >= min_delta = 0.0005. New best score: 0.148\n",
      "Metric val_loss improved by 0.009 >= min_delta = 0.0005. New best score: 0.139\n",
      "Metric val_loss improved by 0.009 >= min_delta = 0.0005. New best score: 0.130\n",
      "Metric val_loss improved by 0.009 >= min_delta = 0.0005. New best score: 0.121\n",
      "Metric val_loss improved by 0.009 >= min_delta = 0.0005. New best score: 0.112\n",
      "Metric val_loss improved by 0.008 >= min_delta = 0.0005. New best score: 0.104\n",
      "Metric val_loss improved by 0.007 >= min_delta = 0.0005. New best score: 0.097\n",
      "Metric val_loss improved by 0.006 >= min_delta = 0.0005. New best score: 0.091\n",
      "Metric val_loss improved by 0.005 >= min_delta = 0.0005. New best score: 0.085\n",
      "Metric val_loss improved by 0.005 >= min_delta = 0.0005. New best score: 0.081\n",
      "Metric val_loss improved by 0.004 >= min_delta = 0.0005. New best score: 0.077\n",
      "Metric val_loss improved by 0.003 >= min_delta = 0.0005. New best score: 0.074\n",
      "Metric val_loss improved by 0.003 >= min_delta = 0.0005. New best score: 0.071\n",
      "Metric val_loss improved by 0.002 >= min_delta = 0.0005. New best score: 0.069\n",
      "Metric val_loss improved by 0.002 >= min_delta = 0.0005. New best score: 0.066\n",
      "Metric val_loss improved by 0.002 >= min_delta = 0.0005. New best score: 0.065\n",
      "Metric val_loss improved by 0.002 >= min_delta = 0.0005. New best score: 0.063\n",
      "Metric val_loss improved by 0.001 >= min_delta = 0.0005. New best score: 0.062\n",
      "Metric val_loss improved by 0.001 >= min_delta = 0.0005. New best score: 0.061\n",
      "Metric val_loss improved by 0.001 >= min_delta = 0.0005. New best score: 0.060\n",
      "Metric val_loss improved by 0.001 >= min_delta = 0.0005. New best score: 0.059\n",
      "Metric val_loss improved by 0.001 >= min_delta = 0.0005. New best score: 0.058\n",
      "Metric val_loss improved by 0.001 >= min_delta = 0.0005. New best score: 0.057\n",
      "`Trainer.fit` stopped: `max_epochs=30` reached.\n",
      "GPU available: True (cuda), used: True\n",
      "TPU available: False, using: 0 TPU cores\n",
      "HPU available: False, using: 0 HPUs\n",
      "LOCAL_RANK: 0 - CUDA_VISIBLE_DEVICES: [0]\n"
     ]
    },
    {
     "name": "stdout",
     "output_type": "stream",
     "text": [
      "Model loaded from checkpoint for trial 4\n"
     ]
    },
    {
     "name": "stderr",
     "output_type": "stream",
     "text": [
      "/home/eduardo/Documentos/Water-Cycle-Neural-Network/venv/lib/python3.12/site-packages/pytorch_lightning/trainer/connectors/data_connector.py:425: The 'predict_dataloader' does not have many workers which may be a bottleneck. Consider increasing the value of the `num_workers` argument` to `num_workers=11` in the `DataLoader` to improve performance.\n",
      "[I 2025-05-26 17:25:02,595] Trial 4 finished with value: 0.30536997809306754 and parameters: {'input_chunk_length': 67, 'output_chunk_length': 22, 'dropout': 0.24735429173431323, 'batch_size': 78, 'lr': 1.3778098529332987e-06, 'weight_decay': 0.0007751420330117056, 'num_layers': 3, 'num_blocks': 3, 'num_stacks': 3, 'layer_widths': 111, 'activation': 'ReLU', 'loss_fn': 'smoothl1', 'optimizer': 'AdamW'}. Best is trial 1 with value: 0.15637968088214926.\n",
      "Specified future encoders in `add_encoders` at model creation but model does not accept future covariates. future encoders will be ignored.\n",
      "GPU available: True (cuda), used: True\n",
      "TPU available: False, using: 0 TPU cores\n",
      "HPU available: False, using: 0 HPUs\n",
      "LOCAL_RANK: 0 - CUDA_VISIBLE_DEVICES: [0]\n"
     ]
    },
    {
     "name": "stdout",
     "output_type": "stream",
     "text": [
      "Starting time series verification for consistency...\n",
      "\n",
      "Performance metrics:\n",
      "                                    MSE         RMSE          MAE  \\\n",
      "Temperature                9.931439e+01     9.965660     8.921336   \n",
      "Precipitation_accumulated  1.232416e+05   351.057815   350.594308   \n",
      "Humidity                   5.141957e+02    22.675883    19.929025   \n",
      "Wind_Speed_kmh             1.614227e+00     1.270522     0.986681   \n",
      "Soil_Moisture              1.566402e+06  1251.559842  1237.298626   \n",
      "Soil_Temperature           5.255939e+01     7.249785     6.380059   \n",
      "Wind_Dir_Sin               7.709523e-01     0.878039     0.798131   \n",
      "Wind_Dir_Cos               4.057542e-01     0.636988     0.561951   \n",
      "\n",
      "                                     R2       SMAPE  \n",
      "Temperature                   -2.267723   77.587520  \n",
      "Precipitation_accumulated -39779.927356  121.436727  \n",
      "Humidity                      -2.482221   24.864197  \n",
      "Wind_Speed_kmh                -0.195010   82.717006  \n",
      "Soil_Moisture                -35.424672   15.475210  \n",
      "Soil_Temperature              -2.314008   66.633743  \n",
      "Wind_Dir_Sin                  -0.405550  159.807935  \n",
      "Wind_Dir_Cos                  -0.104602  158.543884  \n",
      "The MAE for this fold was 0.30536997809306754\n",
      "Results of trial 4 saved in optuna_iteration_metrics/trial_4.json\n",
      "Current value: 0.30536997809306754, Current params: {'input_chunk_length': 67, 'output_chunk_length': 22, 'dropout': 0.24735429173431323, 'batch_size': 78, 'lr': 1.3778098529332987e-06, 'weight_decay': 0.0007751420330117056, 'num_layers': 3, 'num_blocks': 3, 'num_stacks': 3, 'layer_widths': 111, 'activation': 'ReLU', 'loss_fn': 'smoothl1', 'optimizer': 'AdamW'}\n",
      "Best value: 0.15637968088214926, Best params: {'input_chunk_length': 29, 'output_chunk_length': 18, 'dropout': 0.42626081420066686, 'batch_size': 114, 'lr': 0.0010991405682640421, 'weight_decay': 0.00010248018631308227, 'num_layers': 6, 'num_blocks': 2, 'num_stacks': 5, 'layer_widths': 220, 'activation': 'GELU', 'loss_fn': 'mse', 'optimizer': 'AdamW'}\n",
      "\n",
      "Starting Trial 5\n",
      "Hyperparameters: {'input_chunk_length': 33, 'output_chunk_length': 23, 'dropout': 0.4905571111070791, 'batch_size': 210, 'lr': 0.00037872510530249497, 'weight_decay': 7.458214256296936e-06, 'num_layers': 6, 'num_blocks': 3, 'num_stacks': 1, 'layer_widths': 153, 'activation': 'GELU', 'loss_fn': 'smoothl1', 'optimizer': 'Adam'}\n",
      "\n",
      "Training the model...\n",
      "Train set: 6647 samples\n",
      "Validation set: 1662 samples\n"
     ]
    },
    {
     "name": "stderr",
     "output_type": "stream",
     "text": [
      "Metric val_loss improved. New best score: 0.072\n",
      "Metric val_loss improved by 0.006 >= min_delta = 0.0005. New best score: 0.066\n",
      "Metric val_loss improved by 0.001 >= min_delta = 0.0005. New best score: 0.066\n",
      "[I 2025-05-26 17:25:08,846] Trial 5 pruned. Trial was pruned at epoch 6.\n",
      "Specified future encoders in `add_encoders` at model creation but model does not accept future covariates. future encoders will be ignored.\n",
      "GPU available: True (cuda), used: True\n",
      "TPU available: False, using: 0 TPU cores\n",
      "HPU available: False, using: 0 HPUs\n",
      "LOCAL_RANK: 0 - CUDA_VISIBLE_DEVICES: [0]\n"
     ]
    },
    {
     "name": "stdout",
     "output_type": "stream",
     "text": [
      "Current value: 0.06547153622178495, Current params: {'input_chunk_length': 33, 'output_chunk_length': 23, 'dropout': 0.4905571111070791, 'batch_size': 210, 'lr': 0.00037872510530249497, 'weight_decay': 7.458214256296936e-06, 'num_layers': 6, 'num_blocks': 3, 'num_stacks': 1, 'layer_widths': 153, 'activation': 'GELU', 'loss_fn': 'smoothl1', 'optimizer': 'Adam'}\n",
      "Best value: 0.15637968088214926, Best params: {'input_chunk_length': 29, 'output_chunk_length': 18, 'dropout': 0.42626081420066686, 'batch_size': 114, 'lr': 0.0010991405682640421, 'weight_decay': 0.00010248018631308227, 'num_layers': 6, 'num_blocks': 2, 'num_stacks': 5, 'layer_widths': 220, 'activation': 'GELU', 'loss_fn': 'mse', 'optimizer': 'AdamW'}\n",
      "\n",
      "Starting Trial 6\n",
      "Hyperparameters: {'input_chunk_length': 48, 'output_chunk_length': 21, 'dropout': 0.4895664042935651, 'batch_size': 77, 'lr': 4.427619253802894e-05, 'weight_decay': 4.011338975553578e-06, 'num_layers': 4, 'num_blocks': 4, 'num_stacks': 3, 'layer_widths': 61, 'activation': 'GELU', 'loss_fn': 'mae', 'optimizer': 'Adam'}\n",
      "\n",
      "Training the model...\n",
      "Train set: 6647 samples\n",
      "Validation set: 1662 samples\n"
     ]
    },
    {
     "name": "stderr",
     "output_type": "stream",
     "text": [
      "[I 2025-05-26 17:25:11,285] Trial 6 pruned. Trial was pruned at epoch 0.\n",
      "Specified future encoders in `add_encoders` at model creation but model does not accept future covariates. future encoders will be ignored.\n",
      "GPU available: True (cuda), used: True\n",
      "TPU available: False, using: 0 TPU cores\n",
      "HPU available: False, using: 0 HPUs\n",
      "LOCAL_RANK: 0 - CUDA_VISIBLE_DEVICES: [0]\n"
     ]
    },
    {
     "name": "stdout",
     "output_type": "stream",
     "text": [
      "Current value: 0.4203942029633012, Current params: {'input_chunk_length': 48, 'output_chunk_length': 21, 'dropout': 0.4895664042935651, 'batch_size': 77, 'lr': 4.427619253802894e-05, 'weight_decay': 4.011338975553578e-06, 'num_layers': 4, 'num_blocks': 4, 'num_stacks': 3, 'layer_widths': 61, 'activation': 'GELU', 'loss_fn': 'mae', 'optimizer': 'Adam'}\n",
      "Best value: 0.15637968088214926, Best params: {'input_chunk_length': 29, 'output_chunk_length': 18, 'dropout': 0.42626081420066686, 'batch_size': 114, 'lr': 0.0010991405682640421, 'weight_decay': 0.00010248018631308227, 'num_layers': 6, 'num_blocks': 2, 'num_stacks': 5, 'layer_widths': 220, 'activation': 'GELU', 'loss_fn': 'mse', 'optimizer': 'AdamW'}\n",
      "\n",
      "Starting Trial 7\n",
      "Hyperparameters: {'input_chunk_length': 63, 'output_chunk_length': 22, 'dropout': 0.45813749137671433, 'batch_size': 254, 'lr': 0.00048741768559091957, 'weight_decay': 4.1056231403533286e-05, 'num_layers': 5, 'num_blocks': 1, 'num_stacks': 4, 'layer_widths': 128, 'activation': 'ReLU', 'loss_fn': 'smoothl1', 'optimizer': 'SGD'}\n",
      "\n",
      "Training the model...\n",
      "Train set: 6647 samples\n",
      "Validation set: 1662 samples\n"
     ]
    },
    {
     "name": "stderr",
     "output_type": "stream",
     "text": [
      "[I 2025-05-26 17:25:12,589] Trial 7 pruned. Trial was pruned at epoch 0.\n"
     ]
    },
    {
     "name": "stdout",
     "output_type": "stream",
     "text": [
      "Current value: 0.20488845660846408, Current params: {'input_chunk_length': 63, 'output_chunk_length': 22, 'dropout': 0.45813749137671433, 'batch_size': 254, 'lr': 0.00048741768559091957, 'weight_decay': 4.1056231403533286e-05, 'num_layers': 5, 'num_blocks': 1, 'num_stacks': 4, 'layer_widths': 128, 'activation': 'ReLU', 'loss_fn': 'smoothl1', 'optimizer': 'SGD'}\n",
      "Best value: 0.15637968088214926, Best params: {'input_chunk_length': 29, 'output_chunk_length': 18, 'dropout': 0.42626081420066686, 'batch_size': 114, 'lr': 0.0010991405682640421, 'weight_decay': 0.00010248018631308227, 'num_layers': 6, 'num_blocks': 2, 'num_stacks': 5, 'layer_widths': 220, 'activation': 'GELU', 'loss_fn': 'mse', 'optimizer': 'AdamW'}\n",
      "\n",
      "Starting Trial 8\n",
      "Hyperparameters: {'input_chunk_length': 42, 'output_chunk_length': 23, 'dropout': 0.30048384988556986, 'batch_size': 167, 'lr': 0.0003978414308269263, 'weight_decay': 0.00488529858793396, 'num_layers': 5, 'num_blocks': 2, 'num_stacks': 5, 'layer_widths': 49, 'activation': 'GELU', 'loss_fn': 'smoothl1', 'optimizer': 'AdamW'}\n",
      "\n",
      "Training the model...\n",
      "Train set: 6647 samples\n",
      "Validation set: 1662 samples\n"
     ]
    },
    {
     "name": "stderr",
     "output_type": "stream",
     "text": [
      "Specified future encoders in `add_encoders` at model creation but model does not accept future covariates. future encoders will be ignored.\n",
      "GPU available: True (cuda), used: True\n",
      "TPU available: False, using: 0 TPU cores\n",
      "HPU available: False, using: 0 HPUs\n",
      "LOCAL_RANK: 0 - CUDA_VISIBLE_DEVICES: [0]\n",
      "Metric val_loss improved. New best score: 0.051\n",
      "Metric val_loss improved by 0.003 >= min_delta = 0.0005. New best score: 0.048\n",
      "Metric val_loss improved by 0.002 >= min_delta = 0.0005. New best score: 0.046\n",
      "Metric val_loss improved by 0.001 >= min_delta = 0.0005. New best score: 0.046\n",
      "Metric val_loss improved by 0.002 >= min_delta = 0.0005. New best score: 0.044\n",
      "Metric val_loss improved by 0.003 >= min_delta = 0.0005. New best score: 0.040\n",
      "Metric val_loss improved by 0.003 >= min_delta = 0.0005. New best score: 0.037\n",
      "Metric val_loss improved by 0.003 >= min_delta = 0.0005. New best score: 0.034\n",
      "Metric val_loss improved by 0.002 >= min_delta = 0.0005. New best score: 0.032\n",
      "Metric val_loss improved by 0.001 >= min_delta = 0.0005. New best score: 0.031\n",
      "Metric val_loss improved by 0.001 >= min_delta = 0.0005. New best score: 0.030\n",
      "Metric val_loss improved by 0.001 >= min_delta = 0.0005. New best score: 0.029\n",
      "Metric val_loss improved by 0.001 >= min_delta = 0.0005. New best score: 0.029\n",
      "Metric val_loss improved by 0.001 >= min_delta = 0.0005. New best score: 0.028\n",
      "Metric val_loss improved by 0.001 >= min_delta = 0.0005. New best score: 0.027\n",
      "`Trainer.fit` stopped: `max_epochs=30` reached.\n",
      "GPU available: True (cuda), used: True\n",
      "TPU available: False, using: 0 TPU cores\n",
      "HPU available: False, using: 0 HPUs\n",
      "LOCAL_RANK: 0 - CUDA_VISIBLE_DEVICES: [0]\n"
     ]
    },
    {
     "name": "stdout",
     "output_type": "stream",
     "text": [
      "Model loaded from checkpoint for trial 8\n"
     ]
    },
    {
     "name": "stderr",
     "output_type": "stream",
     "text": [
      "/home/eduardo/Documentos/Water-Cycle-Neural-Network/venv/lib/python3.12/site-packages/pytorch_lightning/trainer/connectors/data_connector.py:425: The 'predict_dataloader' does not have many workers which may be a bottleneck. Consider increasing the value of the `num_workers` argument` to `num_workers=11` in the `DataLoader` to improve performance.\n",
      "[I 2025-05-26 17:28:13,053] Trial 8 finished with value: 0.18282043685234542 and parameters: {'input_chunk_length': 42, 'output_chunk_length': 23, 'dropout': 0.30048384988556986, 'batch_size': 167, 'lr': 0.0003978414308269263, 'weight_decay': 0.00488529858793396, 'num_layers': 5, 'num_blocks': 2, 'num_stacks': 5, 'layer_widths': 49, 'activation': 'GELU', 'loss_fn': 'smoothl1', 'optimizer': 'AdamW'}. Best is trial 1 with value: 0.15637968088214926.\n",
      "Specified future encoders in `add_encoders` at model creation but model does not accept future covariates. future encoders will be ignored.\n",
      "GPU available: True (cuda), used: True\n",
      "TPU available: False, using: 0 TPU cores\n",
      "HPU available: False, using: 0 HPUs\n",
      "LOCAL_RANK: 0 - CUDA_VISIBLE_DEVICES: [0]\n"
     ]
    },
    {
     "name": "stdout",
     "output_type": "stream",
     "text": [
      "Starting time series verification for consistency...\n",
      "\n",
      "Performance metrics:\n",
      "                                     MSE        RMSE         MAE           R2  \\\n",
      "Temperature                    35.247762    5.936983    4.658518    -0.153725   \n",
      "Precipitation_accumulated   15105.979477  122.906385  119.877324 -4660.190851   \n",
      "Humidity                      136.505259   11.683547    9.492831     0.071666   \n",
      "Wind_Speed_kmh                  1.627418    1.275703    0.988782    -0.208006   \n",
      "Soil_Moisture              705943.631425  840.204518  776.436805   -13.363212   \n",
      "Soil_Temperature               18.893184    4.346629    3.641145    -0.176388   \n",
      "Wind_Dir_Sin                    0.569072    0.754368    0.668494    -0.038803   \n",
      "Wind_Dir_Cos                    0.358612    0.598842    0.515882     0.026551   \n",
      "\n",
      "                                SMAPE  \n",
      "Temperature                 65.623402  \n",
      "Precipitation_accumulated   29.852147  \n",
      "Humidity                    11.157531  \n",
      "Wind_Speed_kmh              82.925899  \n",
      "Soil_Moisture                9.516790  \n",
      "Soil_Temperature            58.383693  \n",
      "Wind_Dir_Sin               138.847348  \n",
      "Wind_Dir_Cos               127.756563  \n",
      "The MAE for this fold was 0.18282043685234542\n",
      "Results of trial 8 saved in optuna_iteration_metrics/trial_8.json\n",
      "Current value: 0.18282043685234542, Current params: {'input_chunk_length': 42, 'output_chunk_length': 23, 'dropout': 0.30048384988556986, 'batch_size': 167, 'lr': 0.0003978414308269263, 'weight_decay': 0.00488529858793396, 'num_layers': 5, 'num_blocks': 2, 'num_stacks': 5, 'layer_widths': 49, 'activation': 'GELU', 'loss_fn': 'smoothl1', 'optimizer': 'AdamW'}\n",
      "Best value: 0.15637968088214926, Best params: {'input_chunk_length': 29, 'output_chunk_length': 18, 'dropout': 0.42626081420066686, 'batch_size': 114, 'lr': 0.0010991405682640421, 'weight_decay': 0.00010248018631308227, 'num_layers': 6, 'num_blocks': 2, 'num_stacks': 5, 'layer_widths': 220, 'activation': 'GELU', 'loss_fn': 'mse', 'optimizer': 'AdamW'}\n",
      "\n",
      "Starting Trial 9\n",
      "Hyperparameters: {'input_chunk_length': 71, 'output_chunk_length': 4, 'dropout': 0.41193363784925563, 'batch_size': 71, 'lr': 0.00011699096118017473, 'weight_decay': 0.0036457624100779194, 'num_layers': 3, 'num_blocks': 4, 'num_stacks': 2, 'layer_widths': 130, 'activation': 'GELU', 'loss_fn': 'smoothl1', 'optimizer': 'Adam'}\n",
      "\n",
      "Training the model...\n",
      "Train set: 6647 samples\n",
      "Validation set: 1662 samples\n"
     ]
    },
    {
     "name": "stderr",
     "output_type": "stream",
     "text": [
      "Metric val_loss improved. New best score: 0.051\n",
      "Metric val_loss improved by 0.003 >= min_delta = 0.0005. New best score: 0.047\n",
      "Metric val_loss improved by 0.001 >= min_delta = 0.0005. New best score: 0.046\n",
      "Metric val_loss improved by 0.001 >= min_delta = 0.0005. New best score: 0.045\n",
      "Monitored metric val_loss did not improve in the last 15 records. Best score: 0.045. Signaling Trainer to stop.\n",
      "GPU available: True (cuda), used: True\n",
      "TPU available: False, using: 0 TPU cores\n",
      "HPU available: False, using: 0 HPUs\n",
      "LOCAL_RANK: 0 - CUDA_VISIBLE_DEVICES: [0]\n"
     ]
    },
    {
     "name": "stdout",
     "output_type": "stream",
     "text": [
      "Model loaded from checkpoint for trial 9\n"
     ]
    },
    {
     "name": "stderr",
     "output_type": "stream",
     "text": [
      "/home/eduardo/Documentos/Water-Cycle-Neural-Network/venv/lib/python3.12/site-packages/pytorch_lightning/trainer/connectors/data_connector.py:425: The 'predict_dataloader' does not have many workers which may be a bottleneck. Consider increasing the value of the `num_workers` argument` to `num_workers=11` in the `DataLoader` to improve performance.\n",
      "[I 2025-05-26 17:28:49,521] Trial 9 finished with value: 0.25039486727357907 and parameters: {'input_chunk_length': 71, 'output_chunk_length': 4, 'dropout': 0.41193363784925563, 'batch_size': 71, 'lr': 0.00011699096118017473, 'weight_decay': 0.0036457624100779194, 'num_layers': 3, 'num_blocks': 4, 'num_stacks': 2, 'layer_widths': 130, 'activation': 'GELU', 'loss_fn': 'smoothl1', 'optimizer': 'Adam'}. Best is trial 1 with value: 0.15637968088214926.\n",
      "Specified future encoders in `add_encoders` at model creation but model does not accept future covariates. future encoders will be ignored.\n",
      "GPU available: True (cuda), used: True\n",
      "TPU available: False, using: 0 TPU cores\n",
      "HPU available: False, using: 0 HPUs\n",
      "LOCAL_RANK: 0 - CUDA_VISIBLE_DEVICES: [0]\n"
     ]
    },
    {
     "name": "stdout",
     "output_type": "stream",
     "text": [
      "Starting time series verification for consistency...\n",
      "\n",
      "Performance metrics:\n",
      "                                    MSE         RMSE          MAE  \\\n",
      "Temperature                3.136010e+01     5.600009     4.751926   \n",
      "Precipitation_accumulated  5.004183e+04   223.700313   219.642779   \n",
      "Humidity                   3.416090e+02    18.482666    15.842240   \n",
      "Wind_Speed_kmh             1.972521e+00     1.404465     1.061910   \n",
      "Soil_Moisture              2.162637e+06  1470.590588  1446.662631   \n",
      "Soil_Temperature           2.701015e+01     5.197129     4.644152   \n",
      "Wind_Dir_Sin               6.052011e-01     0.777947     0.722838   \n",
      "Wind_Dir_Cos               4.830824e-01     0.695041     0.597985   \n",
      "\n",
      "                                     R2       SMAPE  \n",
      "Temperature                   -0.032574   56.286381  \n",
      "Precipitation_accumulated -15722.933140   62.771521  \n",
      "Humidity                      -1.323685   19.156100  \n",
      "Wind_Speed_kmh                -0.458846   91.143020  \n",
      "Soil_Moisture                -45.149688   18.458256  \n",
      "Soil_Temperature              -0.692816   56.456264  \n",
      "Wind_Dir_Sin                  -0.104911  188.454813  \n",
      "Wind_Dir_Cos                  -0.313736  163.261453  \n",
      "The MAE for this fold was 0.25039486727357907\n",
      "Results of trial 9 saved in optuna_iteration_metrics/trial_9.json\n",
      "Current value: 0.25039486727357907, Current params: {'input_chunk_length': 71, 'output_chunk_length': 4, 'dropout': 0.41193363784925563, 'batch_size': 71, 'lr': 0.00011699096118017473, 'weight_decay': 0.0036457624100779194, 'num_layers': 3, 'num_blocks': 4, 'num_stacks': 2, 'layer_widths': 130, 'activation': 'GELU', 'loss_fn': 'smoothl1', 'optimizer': 'Adam'}\n",
      "Best value: 0.15637968088214926, Best params: {'input_chunk_length': 29, 'output_chunk_length': 18, 'dropout': 0.42626081420066686, 'batch_size': 114, 'lr': 0.0010991405682640421, 'weight_decay': 0.00010248018631308227, 'num_layers': 6, 'num_blocks': 2, 'num_stacks': 5, 'layer_widths': 220, 'activation': 'GELU', 'loss_fn': 'mse', 'optimizer': 'AdamW'}\n",
      "\n",
      "Starting Trial 10\n",
      "Hyperparameters: {'input_chunk_length': 24, 'output_chunk_length': 6, 'dropout': 0.3477471193676586, 'batch_size': 112, 'lr': 0.003006714128529498, 'weight_decay': 0.0001663110111581782, 'num_layers': 1, 'num_blocks': 2, 'num_stacks': 5, 'layer_widths': 233, 'activation': 'GELU', 'loss_fn': 'huber', 'optimizer': 'RMSprop'}\n",
      "\n",
      "Training the model...\n",
      "Train set: 6647 samples\n",
      "Validation set: 1662 samples\n"
     ]
    },
    {
     "name": "stderr",
     "output_type": "stream",
     "text": [
      "[I 2025-05-26 17:28:51,245] Trial 10 pruned. Trial was pruned at epoch 0.\n",
      "Specified future encoders in `add_encoders` at model creation but model does not accept future covariates. future encoders will be ignored.\n",
      "GPU available: True (cuda), used: True\n",
      "TPU available: False, using: 0 TPU cores\n",
      "HPU available: False, using: 0 HPUs\n",
      "LOCAL_RANK: 0 - CUDA_VISIBLE_DEVICES: [0]\n"
     ]
    },
    {
     "name": "stdout",
     "output_type": "stream",
     "text": [
      "Current value: 568.9949044629534, Current params: {'input_chunk_length': 24, 'output_chunk_length': 6, 'dropout': 0.3477471193676586, 'batch_size': 112, 'lr': 0.003006714128529498, 'weight_decay': 0.0001663110111581782, 'num_layers': 1, 'num_blocks': 2, 'num_stacks': 5, 'layer_widths': 233, 'activation': 'GELU', 'loss_fn': 'huber', 'optimizer': 'RMSprop'}\n",
      "Best value: 0.15637968088214926, Best params: {'input_chunk_length': 29, 'output_chunk_length': 18, 'dropout': 0.42626081420066686, 'batch_size': 114, 'lr': 0.0010991405682640421, 'weight_decay': 0.00010248018631308227, 'num_layers': 6, 'num_blocks': 2, 'num_stacks': 5, 'layer_widths': 220, 'activation': 'GELU', 'loss_fn': 'mse', 'optimizer': 'AdamW'}\n",
      "\n",
      "Starting Trial 11\n",
      "Hyperparameters: {'input_chunk_length': 24, 'output_chunk_length': 17, 'dropout': 0.10322180846832309, 'batch_size': 155, 'lr': 0.00480134254706005, 'weight_decay': 4.155819078945359e-05, 'num_layers': 1, 'num_blocks': 2, 'num_stacks': 1, 'layer_widths': 246, 'activation': 'GELU', 'loss_fn': 'mse', 'optimizer': 'AdamW'}\n",
      "\n",
      "Training the model...\n",
      "Train set: 6647 samples\n",
      "Validation set: 1662 samples\n"
     ]
    },
    {
     "name": "stderr",
     "output_type": "stream",
     "text": [
      "[I 2025-05-26 17:28:52,637] Trial 11 pruned. Trial was pruned at epoch 0.\n",
      "Specified future encoders in `add_encoders` at model creation but model does not accept future covariates. future encoders will be ignored.\n",
      "GPU available: True (cuda), used: True\n",
      "TPU available: False, using: 0 TPU cores\n",
      "HPU available: False, using: 0 HPUs\n",
      "LOCAL_RANK: 0 - CUDA_VISIBLE_DEVICES: [0]\n"
     ]
    },
    {
     "name": "stdout",
     "output_type": "stream",
     "text": [
      "Current value: 0.13859624759278083, Current params: {'input_chunk_length': 24, 'output_chunk_length': 17, 'dropout': 0.10322180846832309, 'batch_size': 155, 'lr': 0.00480134254706005, 'weight_decay': 4.155819078945359e-05, 'num_layers': 1, 'num_blocks': 2, 'num_stacks': 1, 'layer_widths': 246, 'activation': 'GELU', 'loss_fn': 'mse', 'optimizer': 'AdamW'}\n",
      "Best value: 0.15637968088214926, Best params: {'input_chunk_length': 29, 'output_chunk_length': 18, 'dropout': 0.42626081420066686, 'batch_size': 114, 'lr': 0.0010991405682640421, 'weight_decay': 0.00010248018631308227, 'num_layers': 6, 'num_blocks': 2, 'num_stacks': 5, 'layer_widths': 220, 'activation': 'GELU', 'loss_fn': 'mse', 'optimizer': 'AdamW'}\n",
      "\n",
      "Starting Trial 12\n",
      "Hyperparameters: {'input_chunk_length': 36, 'output_chunk_length': 9, 'dropout': 0.10230276263199645, 'batch_size': 111, 'lr': 6.811622947294888e-06, 'weight_decay': 1.4739546260171468e-06, 'num_layers': 5, 'num_blocks': 2, 'num_stacks': 2, 'layer_widths': 194, 'activation': 'GELU', 'loss_fn': 'mse', 'optimizer': 'RMSprop'}\n",
      "\n",
      "Training the model...\n",
      "Train set: 6647 samples\n",
      "Validation set: 1662 samples\n"
     ]
    },
    {
     "name": "stderr",
     "output_type": "stream",
     "text": [
      "[I 2025-05-26 17:28:54,397] Trial 12 pruned. Trial was pruned at epoch 0.\n",
      "Specified future encoders in `add_encoders` at model creation but model does not accept future covariates. future encoders will be ignored.\n"
     ]
    },
    {
     "name": "stdout",
     "output_type": "stream",
     "text": [
      "Current value: 0.3583632671568283, Current params: {'input_chunk_length': 36, 'output_chunk_length': 9, 'dropout': 0.10230276263199645, 'batch_size': 111, 'lr': 6.811622947294888e-06, 'weight_decay': 1.4739546260171468e-06, 'num_layers': 5, 'num_blocks': 2, 'num_stacks': 2, 'layer_widths': 194, 'activation': 'GELU', 'loss_fn': 'mse', 'optimizer': 'RMSprop'}\n",
      "Best value: 0.15637968088214926, Best params: {'input_chunk_length': 29, 'output_chunk_length': 18, 'dropout': 0.42626081420066686, 'batch_size': 114, 'lr': 0.0010991405682640421, 'weight_decay': 0.00010248018631308227, 'num_layers': 6, 'num_blocks': 2, 'num_stacks': 5, 'layer_widths': 220, 'activation': 'GELU', 'loss_fn': 'mse', 'optimizer': 'AdamW'}\n",
      "\n",
      "Starting Trial 13\n",
      "Hyperparameters: {'input_chunk_length': 31, 'output_chunk_length': 19, 'dropout': 0.16994950820197038, 'batch_size': 182, 'lr': 0.0011416366150294945, 'weight_decay': 4.07271814040584e-05, 'num_layers': 4, 'num_blocks': 1, 'num_stacks': 2, 'layer_widths': 87, 'activation': 'GELU', 'loss_fn': 'mse', 'optimizer': 'AdamW'}\n",
      "\n",
      "Training the model...\n",
      "Train set: 6647 samples\n",
      "Validation set: 1662 samples\n"
     ]
    },
    {
     "name": "stderr",
     "output_type": "stream",
     "text": [
      "GPU available: True (cuda), used: True\n",
      "TPU available: False, using: 0 TPU cores\n",
      "HPU available: False, using: 0 HPUs\n",
      "LOCAL_RANK: 0 - CUDA_VISIBLE_DEVICES: [0]\n",
      "[I 2025-05-26 17:29:41,079] Trial 13 pruned. Trial was pruned at epoch 0.\n",
      "Specified future encoders in `add_encoders` at model creation but model does not accept future covariates. future encoders will be ignored.\n",
      "GPU available: True (cuda), used: True\n",
      "TPU available: False, using: 0 TPU cores\n",
      "HPU available: False, using: 0 HPUs\n",
      "LOCAL_RANK: 0 - CUDA_VISIBLE_DEVICES: [0]\n"
     ]
    },
    {
     "name": "stdout",
     "output_type": "stream",
     "text": [
      "Current value: 0.10601005139985531, Current params: {'input_chunk_length': 31, 'output_chunk_length': 19, 'dropout': 0.16994950820197038, 'batch_size': 182, 'lr': 0.0011416366150294945, 'weight_decay': 4.07271814040584e-05, 'num_layers': 4, 'num_blocks': 1, 'num_stacks': 2, 'layer_widths': 87, 'activation': 'GELU', 'loss_fn': 'mse', 'optimizer': 'AdamW'}\n",
      "Best value: 0.15637968088214926, Best params: {'input_chunk_length': 29, 'output_chunk_length': 18, 'dropout': 0.42626081420066686, 'batch_size': 114, 'lr': 0.0010991405682640421, 'weight_decay': 0.00010248018631308227, 'num_layers': 6, 'num_blocks': 2, 'num_stacks': 5, 'layer_widths': 220, 'activation': 'GELU', 'loss_fn': 'mse', 'optimizer': 'AdamW'}\n",
      "\n",
      "Starting Trial 14\n",
      "Hyperparameters: {'input_chunk_length': 40, 'output_chunk_length': 11, 'dropout': 0.17882614735322236, 'batch_size': 121, 'lr': 0.000933717216523603, 'weight_decay': 0.00018661838225421246, 'num_layers': 2, 'num_blocks': 3, 'num_stacks': 4, 'layer_widths': 178, 'activation': 'GELU', 'loss_fn': 'mse', 'optimizer': 'Adam'}\n",
      "\n",
      "Training the model...\n",
      "Train set: 6647 samples\n",
      "Validation set: 1662 samples\n"
     ]
    },
    {
     "name": "stderr",
     "output_type": "stream",
     "text": [
      "Metric val_loss improved. New best score: 0.046\n",
      "Metric val_loss improved by 0.005 >= min_delta = 0.0005. New best score: 0.040\n",
      "Metric val_loss improved by 0.002 >= min_delta = 0.0005. New best score: 0.038\n",
      "Monitored metric val_loss did not improve in the last 15 records. Best score: 0.038. Signaling Trainer to stop.\n",
      "GPU available: True (cuda), used: True\n",
      "TPU available: False, using: 0 TPU cores\n",
      "HPU available: False, using: 0 HPUs\n",
      "LOCAL_RANK: 0 - CUDA_VISIBLE_DEVICES: [0]\n"
     ]
    },
    {
     "name": "stdout",
     "output_type": "stream",
     "text": [
      "Model loaded from checkpoint for trial 14\n"
     ]
    },
    {
     "name": "stderr",
     "output_type": "stream",
     "text": [
      "/home/eduardo/Documentos/Water-Cycle-Neural-Network/venv/lib/python3.12/site-packages/pytorch_lightning/trainer/connectors/data_connector.py:425: The 'predict_dataloader' does not have many workers which may be a bottleneck. Consider increasing the value of the `num_workers` argument` to `num_workers=11` in the `DataLoader` to improve performance.\n",
      "[I 2025-05-26 17:32:33,792] Trial 14 finished with value: 0.13506264897140663 and parameters: {'input_chunk_length': 40, 'output_chunk_length': 11, 'dropout': 0.17882614735322236, 'batch_size': 121, 'lr': 0.000933717216523603, 'weight_decay': 0.00018661838225421246, 'num_layers': 2, 'num_blocks': 3, 'num_stacks': 4, 'layer_widths': 178, 'activation': 'GELU', 'loss_fn': 'mse', 'optimizer': 'Adam'}. Best is trial 14 with value: 0.13506264897140663.\n",
      "Specified future encoders in `add_encoders` at model creation but model does not accept future covariates. future encoders will be ignored.\n",
      "GPU available: True (cuda), used: True\n",
      "TPU available: False, using: 0 TPU cores\n",
      "HPU available: False, using: 0 HPUs\n",
      "LOCAL_RANK: 0 - CUDA_VISIBLE_DEVICES: [0]\n"
     ]
    },
    {
     "name": "stdout",
     "output_type": "stream",
     "text": [
      "Starting time series verification for consistency...\n",
      "\n",
      "Performance metrics:\n",
      "                                     MSE        RMSE         MAE          R2  \\\n",
      "Temperature                    11.196731    3.346152    2.653833    0.632547   \n",
      "Precipitation_accumulated    1942.022235   44.068381   37.134875 -584.025924   \n",
      "Humidity                       89.257737    9.447631    8.028919    0.391176   \n",
      "Wind_Speed_kmh                  1.367281    1.169308    0.948823   -0.016207   \n",
      "Soil_Moisture              138769.315460  372.517537  304.203405   -1.635971   \n",
      "Soil_Temperature                7.732367    2.780713    2.275954    0.519200   \n",
      "Wind_Dir_Sin                    0.618633    0.786532    0.672372   -0.123237   \n",
      "Wind_Dir_Cos                    0.372764    0.610544    0.521153   -0.016093   \n",
      "\n",
      "                                SMAPE  \n",
      "Temperature                 39.438677  \n",
      "Precipitation_accumulated    8.460328  \n",
      "Humidity                     9.459097  \n",
      "Wind_Speed_kmh              75.173157  \n",
      "Soil_Moisture                3.633454  \n",
      "Soil_Temperature            38.280003  \n",
      "Wind_Dir_Sin               130.056337  \n",
      "Wind_Dir_Cos               126.384995  \n",
      "The MAE for this fold was 0.13506264897140663\n",
      "Results of trial 14 saved in optuna_iteration_metrics/trial_14.json\n",
      "Current value: 0.13506264897140663, Current params: {'input_chunk_length': 40, 'output_chunk_length': 11, 'dropout': 0.17882614735322236, 'batch_size': 121, 'lr': 0.000933717216523603, 'weight_decay': 0.00018661838225421246, 'num_layers': 2, 'num_blocks': 3, 'num_stacks': 4, 'layer_widths': 178, 'activation': 'GELU', 'loss_fn': 'mse', 'optimizer': 'Adam'}\n",
      "Best value: 0.13506264897140663, Best params: {'input_chunk_length': 40, 'output_chunk_length': 11, 'dropout': 0.17882614735322236, 'batch_size': 121, 'lr': 0.000933717216523603, 'weight_decay': 0.00018661838225421246, 'num_layers': 2, 'num_blocks': 3, 'num_stacks': 4, 'layer_widths': 178, 'activation': 'GELU', 'loss_fn': 'mse', 'optimizer': 'Adam'}\n",
      "\n",
      "Starting Trial 15\n",
      "Hyperparameters: {'input_chunk_length': 41, 'output_chunk_length': 10, 'dropout': 0.19517458584627614, 'batch_size': 112, 'lr': 3.529215465403913e-05, 'weight_decay': 0.0003230348401964013, 'num_layers': 2, 'num_blocks': 3, 'num_stacks': 4, 'layer_widths': 192, 'activation': 'GELU', 'loss_fn': 'huber', 'optimizer': 'AdamW'}\n",
      "\n",
      "Training the model...\n",
      "Train set: 6647 samples\n",
      "Validation set: 1662 samples\n"
     ]
    },
    {
     "name": "stderr",
     "output_type": "stream",
     "text": [
      "Metric val_loss improved. New best score: 0.042\n",
      "Metric val_loss improved by 0.003 >= min_delta = 0.0005. New best score: 0.039\n",
      "Metric val_loss improved by 0.003 >= min_delta = 0.0005. New best score: 0.035\n",
      "Metric val_loss improved by 0.003 >= min_delta = 0.0005. New best score: 0.032\n",
      "Metric val_loss improved by 0.002 >= min_delta = 0.0005. New best score: 0.030\n",
      "Metric val_loss improved by 0.002 >= min_delta = 0.0005. New best score: 0.028\n",
      "Metric val_loss improved by 0.002 >= min_delta = 0.0005. New best score: 0.027\n",
      "Metric val_loss improved by 0.001 >= min_delta = 0.0005. New best score: 0.025\n",
      "Metric val_loss improved by 0.001 >= min_delta = 0.0005. New best score: 0.024\n",
      "Metric val_loss improved by 0.001 >= min_delta = 0.0005. New best score: 0.023\n",
      "Metric val_loss improved by 0.001 >= min_delta = 0.0005. New best score: 0.022\n",
      "Metric val_loss improved by 0.001 >= min_delta = 0.0005. New best score: 0.022\n",
      "Metric val_loss improved by 0.001 >= min_delta = 0.0005. New best score: 0.021\n",
      "Metric val_loss improved by 0.001 >= min_delta = 0.0005. New best score: 0.020\n",
      "Metric val_loss improved by 0.001 >= min_delta = 0.0005. New best score: 0.020\n",
      "Metric val_loss improved by 0.001 >= min_delta = 0.0005. New best score: 0.019\n",
      "`Trainer.fit` stopped: `max_epochs=30` reached.\n",
      "GPU available: True (cuda), used: True\n",
      "TPU available: False, using: 0 TPU cores\n",
      "HPU available: False, using: 0 HPUs\n",
      "LOCAL_RANK: 0 - CUDA_VISIBLE_DEVICES: [0]\n"
     ]
    },
    {
     "name": "stdout",
     "output_type": "stream",
     "text": [
      "Model loaded from checkpoint for trial 15\n"
     ]
    },
    {
     "name": "stderr",
     "output_type": "stream",
     "text": [
      "/home/eduardo/Documentos/Water-Cycle-Neural-Network/venv/lib/python3.12/site-packages/pytorch_lightning/trainer/connectors/data_connector.py:425: The 'predict_dataloader' does not have many workers which may be a bottleneck. Consider increasing the value of the `num_workers` argument` to `num_workers=11` in the `DataLoader` to improve performance.\n",
      "[I 2025-05-26 17:33:31,911] Trial 15 finished with value: 0.13062905454413115 and parameters: {'input_chunk_length': 41, 'output_chunk_length': 10, 'dropout': 0.19517458584627614, 'batch_size': 112, 'lr': 3.529215465403913e-05, 'weight_decay': 0.0003230348401964013, 'num_layers': 2, 'num_blocks': 3, 'num_stacks': 4, 'layer_widths': 192, 'activation': 'GELU', 'loss_fn': 'huber', 'optimizer': 'AdamW'}. Best is trial 15 with value: 0.13062905454413115.\n",
      "Specified future encoders in `add_encoders` at model creation but model does not accept future covariates. future encoders will be ignored.\n",
      "GPU available: True (cuda), used: True\n",
      "TPU available: False, using: 0 TPU cores\n",
      "HPU available: False, using: 0 HPUs\n",
      "LOCAL_RANK: 0 - CUDA_VISIBLE_DEVICES: [0]\n"
     ]
    },
    {
     "name": "stdout",
     "output_type": "stream",
     "text": [
      "Starting time series verification for consistency...\n",
      "\n",
      "Performance metrics:\n",
      "                                     MSE        RMSE         MAE          R2  \\\n",
      "Temperature                    10.508659    3.241706    2.531571    0.655129   \n",
      "Precipitation_accumulated     518.651668   22.773925   17.895288 -155.241605   \n",
      "Humidity                       84.593606    9.197478    7.674662    0.422990   \n",
      "Wind_Speed_kmh                  1.297109    1.138907    0.919501    0.035947   \n",
      "Soil_Moisture              173255.821771  416.240101  376.149263   -2.291054   \n",
      "Soil_Temperature                7.641361    2.764301    2.301932    0.524858   \n",
      "Wind_Dir_Sin                    0.607772    0.779597    0.668471   -0.103517   \n",
      "Wind_Dir_Cos                    0.395377    0.628790    0.527214   -0.077733   \n",
      "\n",
      "                                SMAPE  \n",
      "Temperature                 38.180937  \n",
      "Precipitation_accumulated    3.967467  \n",
      "Humidity                     9.066505  \n",
      "Wind_Speed_kmh              73.873676  \n",
      "Soil_Moisture                4.487125  \n",
      "Soil_Temperature            41.572240  \n",
      "Wind_Dir_Sin               128.773765  \n",
      "Wind_Dir_Cos               117.904367  \n",
      "The MAE for this fold was 0.13062905454413115\n",
      "Results of trial 15 saved in optuna_iteration_metrics/trial_15.json\n",
      "Current value: 0.13062905454413115, Current params: {'input_chunk_length': 41, 'output_chunk_length': 10, 'dropout': 0.19517458584627614, 'batch_size': 112, 'lr': 3.529215465403913e-05, 'weight_decay': 0.0003230348401964013, 'num_layers': 2, 'num_blocks': 3, 'num_stacks': 4, 'layer_widths': 192, 'activation': 'GELU', 'loss_fn': 'huber', 'optimizer': 'AdamW'}\n",
      "Best value: 0.13062905454413115, Best params: {'input_chunk_length': 41, 'output_chunk_length': 10, 'dropout': 0.19517458584627614, 'batch_size': 112, 'lr': 3.529215465403913e-05, 'weight_decay': 0.0003230348401964013, 'num_layers': 2, 'num_blocks': 3, 'num_stacks': 4, 'layer_widths': 192, 'activation': 'GELU', 'loss_fn': 'huber', 'optimizer': 'AdamW'}\n",
      "\n",
      "Starting Trial 16\n",
      "Hyperparameters: {'input_chunk_length': 43, 'output_chunk_length': 10, 'dropout': 0.19508028942195227, 'batch_size': 100, 'lr': 1.8225356625630342e-05, 'weight_decay': 0.0009724249847116703, 'num_layers': 2, 'num_blocks': 3, 'num_stacks': 4, 'layer_widths': 176, 'activation': 'GELU', 'loss_fn': 'huber', 'optimizer': 'RMSprop'}\n",
      "\n",
      "Training the model...\n",
      "Train set: 6647 samples\n",
      "Validation set: 1662 samples\n"
     ]
    },
    {
     "name": "stderr",
     "output_type": "stream",
     "text": [
      "Metric val_loss improved. New best score: 0.040\n",
      "Metric val_loss improved by 0.001 >= min_delta = 0.0005. New best score: 0.039\n",
      "Metric val_loss improved by 0.002 >= min_delta = 0.0005. New best score: 0.037\n",
      "Metric val_loss improved by 0.001 >= min_delta = 0.0005. New best score: 0.037\n",
      "Metric val_loss improved by 0.001 >= min_delta = 0.0005. New best score: 0.036\n",
      "Metric val_loss improved by 0.001 >= min_delta = 0.0005. New best score: 0.035\n",
      "Metric val_loss improved by 0.001 >= min_delta = 0.0005. New best score: 0.034\n",
      "Metric val_loss improved by 0.001 >= min_delta = 0.0005. New best score: 0.033\n",
      "Metric val_loss improved by 0.001 >= min_delta = 0.0005. New best score: 0.033\n",
      "Metric val_loss improved by 0.001 >= min_delta = 0.0005. New best score: 0.032\n",
      "Metric val_loss improved by 0.001 >= min_delta = 0.0005. New best score: 0.031\n",
      "Metric val_loss improved by 0.001 >= min_delta = 0.0005. New best score: 0.031\n",
      "Metric val_loss improved by 0.001 >= min_delta = 0.0005. New best score: 0.030\n",
      "Metric val_loss improved by 0.001 >= min_delta = 0.0005. New best score: 0.029\n",
      "Metric val_loss improved by 0.001 >= min_delta = 0.0005. New best score: 0.029\n",
      "`Trainer.fit` stopped: `max_epochs=30` reached.\n",
      "GPU available: True (cuda), used: True\n",
      "TPU available: False, using: 0 TPU cores\n",
      "HPU available: False, using: 0 HPUs\n",
      "LOCAL_RANK: 0 - CUDA_VISIBLE_DEVICES: [0]\n"
     ]
    },
    {
     "name": "stdout",
     "output_type": "stream",
     "text": [
      "Model loaded from checkpoint for trial 16\n"
     ]
    },
    {
     "name": "stderr",
     "output_type": "stream",
     "text": [
      "/home/eduardo/Documentos/Water-Cycle-Neural-Network/venv/lib/python3.12/site-packages/pytorch_lightning/trainer/connectors/data_connector.py:425: The 'predict_dataloader' does not have many workers which may be a bottleneck. Consider increasing the value of the `num_workers` argument` to `num_workers=11` in the `DataLoader` to improve performance.\n",
      "[I 2025-05-26 17:34:30,669] Trial 16 finished with value: 0.19406970607816643 and parameters: {'input_chunk_length': 43, 'output_chunk_length': 10, 'dropout': 0.19508028942195227, 'batch_size': 100, 'lr': 1.8225356625630342e-05, 'weight_decay': 0.0009724249847116703, 'num_layers': 2, 'num_blocks': 3, 'num_stacks': 4, 'layer_widths': 176, 'activation': 'GELU', 'loss_fn': 'huber', 'optimizer': 'RMSprop'}. Best is trial 15 with value: 0.13062905454413115.\n",
      "Specified future encoders in `add_encoders` at model creation but model does not accept future covariates. future encoders will be ignored.\n",
      "GPU available: True (cuda), used: True\n",
      "TPU available: False, using: 0 TPU cores\n",
      "HPU available: False, using: 0 HPUs\n",
      "LOCAL_RANK: 0 - CUDA_VISIBLE_DEVICES: [0]\n"
     ]
    },
    {
     "name": "stdout",
     "output_type": "stream",
     "text": [
      "Starting time series verification for consistency...\n",
      "\n",
      "Performance metrics:\n",
      "                                    MSE         RMSE          MAE  \\\n",
      "Temperature                1.338759e+01     3.658905     2.866230   \n",
      "Precipitation_accumulated  1.982033e+04   140.784683   137.053102   \n",
      "Humidity                   1.157300e+02    10.757786     9.171134   \n",
      "Wind_Speed_kmh             1.580076e+00     1.257011     0.970950   \n",
      "Soil_Moisture              1.428437e+06  1195.172396  1177.671253   \n",
      "Soil_Temperature           8.026072e+00     2.833032     2.274051   \n",
      "Wind_Dir_Sin               5.647650e-01     0.751508     0.676478   \n",
      "Wind_Dir_Cos               4.694365e-01     0.685154     0.596801   \n",
      "\n",
      "                                    R2       SMAPE  \n",
      "Temperature                   0.560220   41.313657  \n",
      "Precipitation_accumulated -5989.734957   34.959804  \n",
      "Humidity                      0.210466   10.750249  \n",
      "Wind_Speed_kmh               -0.175200   81.413215  \n",
      "Soil_Moisture               -26.357521   14.765345  \n",
      "Soil_Temperature              0.500417   35.394548  \n",
      "Wind_Dir_Sin                 -0.024534  144.381080  \n",
      "Wind_Dir_Cos                 -0.279925  165.433436  \n",
      "The MAE for this fold was 0.19406970607816643\n",
      "Results of trial 16 saved in optuna_iteration_metrics/trial_16.json\n",
      "Current value: 0.19406970607816643, Current params: {'input_chunk_length': 43, 'output_chunk_length': 10, 'dropout': 0.19508028942195227, 'batch_size': 100, 'lr': 1.8225356625630342e-05, 'weight_decay': 0.0009724249847116703, 'num_layers': 2, 'num_blocks': 3, 'num_stacks': 4, 'layer_widths': 176, 'activation': 'GELU', 'loss_fn': 'huber', 'optimizer': 'RMSprop'}\n",
      "Best value: 0.13062905454413115, Best params: {'input_chunk_length': 41, 'output_chunk_length': 10, 'dropout': 0.19517458584627614, 'batch_size': 112, 'lr': 3.529215465403913e-05, 'weight_decay': 0.0003230348401964013, 'num_layers': 2, 'num_blocks': 3, 'num_stacks': 4, 'layer_widths': 192, 'activation': 'GELU', 'loss_fn': 'huber', 'optimizer': 'AdamW'}\n",
      "\n",
      "Starting Trial 17\n",
      "Hyperparameters: {'input_chunk_length': 53, 'output_chunk_length': 1, 'dropout': 0.21179629062206345, 'batch_size': 132, 'lr': 7.430434723650095e-06, 'weight_decay': 0.00028023644612713784, 'num_layers': 2, 'num_blocks': 3, 'num_stacks': 4, 'layer_widths': 196, 'activation': 'GELU', 'loss_fn': 'huber', 'optimizer': 'SGD'}\n",
      "\n",
      "Training the model...\n",
      "Train set: 6647 samples\n",
      "Validation set: 1662 samples\n"
     ]
    },
    {
     "name": "stderr",
     "output_type": "stream",
     "text": [
      "[I 2025-05-26 17:34:33,156] Trial 17 pruned. Trial was pruned at epoch 0.\n",
      "Specified future encoders in `add_encoders` at model creation but model does not accept future covariates. future encoders will be ignored.\n",
      "GPU available: True (cuda), used: True\n",
      "TPU available: False, using: 0 TPU cores\n",
      "HPU available: False, using: 0 HPUs\n",
      "LOCAL_RANK: 0 - CUDA_VISIBLE_DEVICES: [0]\n"
     ]
    },
    {
     "name": "stdout",
     "output_type": "stream",
     "text": [
      "Current value: 0.23717236280149984, Current params: {'input_chunk_length': 53, 'output_chunk_length': 1, 'dropout': 0.21179629062206345, 'batch_size': 132, 'lr': 7.430434723650095e-06, 'weight_decay': 0.00028023644612713784, 'num_layers': 2, 'num_blocks': 3, 'num_stacks': 4, 'layer_widths': 196, 'activation': 'GELU', 'loss_fn': 'huber', 'optimizer': 'SGD'}\n",
      "Best value: 0.13062905454413115, Best params: {'input_chunk_length': 41, 'output_chunk_length': 10, 'dropout': 0.19517458584627614, 'batch_size': 112, 'lr': 3.529215465403913e-05, 'weight_decay': 0.0003230348401964013, 'num_layers': 2, 'num_blocks': 3, 'num_stacks': 4, 'layer_widths': 192, 'activation': 'GELU', 'loss_fn': 'huber', 'optimizer': 'AdamW'}\n",
      "\n",
      "Starting Trial 18\n",
      "Hyperparameters: {'input_chunk_length': 39, 'output_chunk_length': 12, 'dropout': 0.15390701330470777, 'batch_size': 179, 'lr': 4.124054900836958e-05, 'weight_decay': 0.001611491336779205, 'num_layers': 2, 'num_blocks': 3, 'num_stacks': 4, 'layer_widths': 165, 'activation': 'ReLU', 'loss_fn': 'huber', 'optimizer': 'AdamW'}\n",
      "\n",
      "Training the model...\n",
      "Train set: 6647 samples\n",
      "Validation set: 1662 samples\n"
     ]
    },
    {
     "name": "stderr",
     "output_type": "stream",
     "text": [
      "Metric val_loss improved. New best score: 0.046\n",
      "Metric val_loss improved by 0.003 >= min_delta = 0.0005. New best score: 0.043\n",
      "Metric val_loss improved by 0.002 >= min_delta = 0.0005. New best score: 0.041\n",
      "Metric val_loss improved by 0.002 >= min_delta = 0.0005. New best score: 0.039\n",
      "Metric val_loss improved by 0.002 >= min_delta = 0.0005. New best score: 0.037\n",
      "Metric val_loss improved by 0.002 >= min_delta = 0.0005. New best score: 0.035\n",
      "Metric val_loss improved by 0.002 >= min_delta = 0.0005. New best score: 0.033\n",
      "Metric val_loss improved by 0.002 >= min_delta = 0.0005. New best score: 0.031\n",
      "Metric val_loss improved by 0.001 >= min_delta = 0.0005. New best score: 0.030\n",
      "Metric val_loss improved by 0.001 >= min_delta = 0.0005. New best score: 0.028\n",
      "Metric val_loss improved by 0.001 >= min_delta = 0.0005. New best score: 0.027\n",
      "Metric val_loss improved by 0.001 >= min_delta = 0.0005. New best score: 0.026\n",
      "Metric val_loss improved by 0.001 >= min_delta = 0.0005. New best score: 0.026\n",
      "Metric val_loss improved by 0.001 >= min_delta = 0.0005. New best score: 0.025\n",
      "Metric val_loss improved by 0.001 >= min_delta = 0.0005. New best score: 0.024\n",
      "Metric val_loss improved by 0.001 >= min_delta = 0.0005. New best score: 0.024\n",
      "Metric val_loss improved by 0.001 >= min_delta = 0.0005. New best score: 0.023\n",
      "Metric val_loss improved by 0.001 >= min_delta = 0.0005. New best score: 0.023\n",
      "`Trainer.fit` stopped: `max_epochs=30` reached.\n",
      "GPU available: True (cuda), used: True\n",
      "TPU available: False, using: 0 TPU cores\n",
      "HPU available: False, using: 0 HPUs\n",
      "LOCAL_RANK: 0 - CUDA_VISIBLE_DEVICES: [0]\n"
     ]
    },
    {
     "name": "stdout",
     "output_type": "stream",
     "text": [
      "Model loaded from checkpoint for trial 18\n"
     ]
    },
    {
     "name": "stderr",
     "output_type": "stream",
     "text": [
      "/home/eduardo/Documentos/Water-Cycle-Neural-Network/venv/lib/python3.12/site-packages/pytorch_lightning/trainer/connectors/data_connector.py:425: The 'predict_dataloader' does not have many workers which may be a bottleneck. Consider increasing the value of the `num_workers` argument` to `num_workers=11` in the `DataLoader` to improve performance.\n",
      "[I 2025-05-26 17:35:31,218] Trial 18 finished with value: 0.16236607705343087 and parameters: {'input_chunk_length': 39, 'output_chunk_length': 12, 'dropout': 0.15390701330470777, 'batch_size': 179, 'lr': 4.124054900836958e-05, 'weight_decay': 0.001611491336779205, 'num_layers': 2, 'num_blocks': 3, 'num_stacks': 4, 'layer_widths': 165, 'activation': 'ReLU', 'loss_fn': 'huber', 'optimizer': 'AdamW'}. Best is trial 15 with value: 0.13062905454413115.\n",
      "Specified future encoders in `add_encoders` at model creation but model does not accept future covariates. future encoders will be ignored.\n",
      "GPU available: True (cuda), used: True\n",
      "TPU available: False, using: 0 TPU cores\n",
      "HPU available: False, using: 0 HPUs\n",
      "LOCAL_RANK: 0 - CUDA_VISIBLE_DEVICES: [0]\n"
     ]
    },
    {
     "name": "stdout",
     "output_type": "stream",
     "text": [
      "Starting time series verification for consistency...\n",
      "\n",
      "Performance metrics:\n",
      "                                     MSE        RMSE         MAE           R2  \\\n",
      "Temperature                    25.435586    5.043371    3.879268     0.165259   \n",
      "Precipitation_accumulated    5045.866871   71.034265   62.091447 -1519.045895   \n",
      "Humidity                      127.578225   11.295053    9.325082     0.129793   \n",
      "Wind_Speed_kmh                  1.482815    1.217709    0.999031    -0.102076   \n",
      "Soil_Moisture              227051.424809  476.499134  404.773874    -3.312919   \n",
      "Soil_Temperature               50.153119    7.081887    6.297046    -2.118532   \n",
      "Wind_Dir_Sin                    0.602789    0.776395    0.682087    -0.094470   \n",
      "Wind_Dir_Cos                    0.400305    0.632697    0.525401    -0.091166   \n",
      "\n",
      "                                SMAPE  \n",
      "Temperature                 53.669434  \n",
      "Precipitation_accumulated   14.643566  \n",
      "Humidity                    10.884654  \n",
      "Wind_Speed_kmh              75.311784  \n",
      "Soil_Moisture                4.872498  \n",
      "Soil_Temperature           135.062833  \n",
      "Wind_Dir_Sin               142.576942  \n",
      "Wind_Dir_Cos               114.761440  \n",
      "The MAE for this fold was 0.16236607705343087\n",
      "Results of trial 18 saved in optuna_iteration_metrics/trial_18.json\n",
      "Current value: 0.16236607705343087, Current params: {'input_chunk_length': 39, 'output_chunk_length': 12, 'dropout': 0.15390701330470777, 'batch_size': 179, 'lr': 4.124054900836958e-05, 'weight_decay': 0.001611491336779205, 'num_layers': 2, 'num_blocks': 3, 'num_stacks': 4, 'layer_widths': 165, 'activation': 'ReLU', 'loss_fn': 'huber', 'optimizer': 'AdamW'}\n",
      "Best value: 0.13062905454413115, Best params: {'input_chunk_length': 41, 'output_chunk_length': 10, 'dropout': 0.19517458584627614, 'batch_size': 112, 'lr': 3.529215465403913e-05, 'weight_decay': 0.0003230348401964013, 'num_layers': 2, 'num_blocks': 3, 'num_stacks': 4, 'layer_widths': 192, 'activation': 'GELU', 'loss_fn': 'huber', 'optimizer': 'AdamW'}\n",
      "\n",
      "Starting Trial 19\n",
      "Hyperparameters: {'input_chunk_length': 47, 'output_chunk_length': 8, 'dropout': 0.23181374349316408, 'batch_size': 95, 'lr': 0.00014029762282105434, 'weight_decay': 0.00026391671909781086, 'num_layers': 1, 'num_blocks': 4, 'num_stacks': 5, 'layer_widths': 208, 'activation': 'GELU', 'loss_fn': 'huber', 'optimizer': 'Adam'}\n",
      "\n",
      "Training the model...\n",
      "Train set: 6647 samples\n",
      "Validation set: 1662 samples\n"
     ]
    },
    {
     "name": "stderr",
     "output_type": "stream",
     "text": [
      "Metric val_loss improved. New best score: 0.030\n",
      "Metric val_loss improved by 0.005 >= min_delta = 0.0005. New best score: 0.025\n",
      "Metric val_loss improved by 0.003 >= min_delta = 0.0005. New best score: 0.022\n",
      "Metric val_loss improved by 0.001 >= min_delta = 0.0005. New best score: 0.021\n",
      "Metric val_loss improved by 0.001 >= min_delta = 0.0005. New best score: 0.020\n",
      "Metric val_loss improved by 0.001 >= min_delta = 0.0005. New best score: 0.019\n",
      "Metric val_loss improved by 0.001 >= min_delta = 0.0005. New best score: 0.018\n",
      "Metric val_loss improved by 0.001 >= min_delta = 0.0005. New best score: 0.018\n",
      "Metric val_loss improved by 0.001 >= min_delta = 0.0005. New best score: 0.017\n",
      "`Trainer.fit` stopped: `max_epochs=30` reached.\n",
      "GPU available: True (cuda), used: True\n",
      "TPU available: False, using: 0 TPU cores\n",
      "HPU available: False, using: 0 HPUs\n",
      "LOCAL_RANK: 0 - CUDA_VISIBLE_DEVICES: [0]\n"
     ]
    },
    {
     "name": "stdout",
     "output_type": "stream",
     "text": [
      "Model loaded from checkpoint for trial 19\n"
     ]
    },
    {
     "name": "stderr",
     "output_type": "stream",
     "text": [
      "/home/eduardo/Documentos/Water-Cycle-Neural-Network/venv/lib/python3.12/site-packages/pytorch_lightning/trainer/connectors/data_connector.py:425: The 'predict_dataloader' does not have many workers which may be a bottleneck. Consider increasing the value of the `num_workers` argument` to `num_workers=11` in the `DataLoader` to improve performance.\n",
      "[I 2025-05-26 17:37:38,567] Trial 19 finished with value: 0.12769361641241558 and parameters: {'input_chunk_length': 47, 'output_chunk_length': 8, 'dropout': 0.23181374349316408, 'batch_size': 95, 'lr': 0.00014029762282105434, 'weight_decay': 0.00026391671909781086, 'num_layers': 1, 'num_blocks': 4, 'num_stacks': 5, 'layer_widths': 208, 'activation': 'GELU', 'loss_fn': 'huber', 'optimizer': 'Adam'}. Best is trial 19 with value: 0.12769361641241558.\n",
      "Specified future encoders in `add_encoders` at model creation but model does not accept future covariates. future encoders will be ignored.\n",
      "GPU available: True (cuda), used: True\n",
      "TPU available: False, using: 0 TPU cores\n",
      "HPU available: False, using: 0 HPUs\n",
      "LOCAL_RANK: 0 - CUDA_VISIBLE_DEVICES: [0]\n"
     ]
    },
    {
     "name": "stdout",
     "output_type": "stream",
     "text": [
      "Starting time series verification for consistency...\n",
      "\n",
      "Performance metrics:\n",
      "                                    MSE        RMSE         MAE          R2  \\\n",
      "Temperature                   10.062673    3.172172    2.468519    0.669240   \n",
      "Precipitation_accumulated    401.684421   20.042066   16.692399 -120.819300   \n",
      "Humidity                      80.568877    8.976017    7.398878    0.450240   \n",
      "Wind_Speed_kmh                 1.307900    1.143635    0.923662    0.026567   \n",
      "Soil_Moisture              77144.837911  277.749596  232.811434   -0.490421   \n",
      "Soil_Temperature              11.642146    3.412059    2.881907    0.274618   \n",
      "Wind_Dir_Sin                   0.587446    0.766450    0.669287   -0.064616   \n",
      "Wind_Dir_Cos                   0.374928    0.612313    0.533510   -0.022513   \n",
      "\n",
      "                                SMAPE  \n",
      "Temperature                 37.403972  \n",
      "Precipitation_accumulated    3.684046  \n",
      "Humidity                     8.788803  \n",
      "Wind_Speed_kmh              73.626375  \n",
      "Soil_Moisture                2.754155  \n",
      "Soil_Temperature            57.404329  \n",
      "Wind_Dir_Sin               136.197003  \n",
      "Wind_Dir_Cos               141.806555  \n",
      "The MAE for this fold was 0.12769361641241558\n",
      "Results of trial 19 saved in optuna_iteration_metrics/trial_19.json\n",
      "Current value: 0.12769361641241558, Current params: {'input_chunk_length': 47, 'output_chunk_length': 8, 'dropout': 0.23181374349316408, 'batch_size': 95, 'lr': 0.00014029762282105434, 'weight_decay': 0.00026391671909781086, 'num_layers': 1, 'num_blocks': 4, 'num_stacks': 5, 'layer_widths': 208, 'activation': 'GELU', 'loss_fn': 'huber', 'optimizer': 'Adam'}\n",
      "Best value: 0.12769361641241558, Best params: {'input_chunk_length': 47, 'output_chunk_length': 8, 'dropout': 0.23181374349316408, 'batch_size': 95, 'lr': 0.00014029762282105434, 'weight_decay': 0.00026391671909781086, 'num_layers': 1, 'num_blocks': 4, 'num_stacks': 5, 'layer_widths': 208, 'activation': 'GELU', 'loss_fn': 'huber', 'optimizer': 'Adam'}\n",
      "\n",
      "Starting Trial 20\n",
      "Hyperparameters: {'input_chunk_length': 46, 'output_chunk_length': 7, 'dropout': 0.2411933800711742, 'batch_size': 85, 'lr': 0.00017119569297255883, 'weight_decay': 0.0022911852047944677, 'num_layers': 1, 'num_blocks': 4, 'num_stacks': 5, 'layer_widths': 212, 'activation': 'GELU', 'loss_fn': 'huber', 'optimizer': 'Adam'}\n",
      "\n",
      "Training the model...\n",
      "Train set: 6647 samples\n",
      "Validation set: 1662 samples\n"
     ]
    },
    {
     "name": "stderr",
     "output_type": "stream",
     "text": [
      "Metric val_loss improved. New best score: 0.031\n",
      "Metric val_loss improved by 0.005 >= min_delta = 0.0005. New best score: 0.026\n",
      "Metric val_loss improved by 0.001 >= min_delta = 0.0005. New best score: 0.025\n",
      "Metric val_loss improved by 0.001 >= min_delta = 0.0005. New best score: 0.023\n",
      "Monitored metric val_loss did not improve in the last 15 records. Best score: 0.023. Signaling Trainer to stop.\n",
      "GPU available: True (cuda), used: True\n",
      "TPU available: False, using: 0 TPU cores\n",
      "HPU available: False, using: 0 HPUs\n",
      "LOCAL_RANK: 0 - CUDA_VISIBLE_DEVICES: [0]\n"
     ]
    },
    {
     "name": "stdout",
     "output_type": "stream",
     "text": [
      "Model loaded from checkpoint for trial 20\n"
     ]
    },
    {
     "name": "stderr",
     "output_type": "stream",
     "text": [
      "/home/eduardo/Documentos/Water-Cycle-Neural-Network/venv/lib/python3.12/site-packages/pytorch_lightning/trainer/connectors/data_connector.py:425: The 'predict_dataloader' does not have many workers which may be a bottleneck. Consider increasing the value of the `num_workers` argument` to `num_workers=11` in the `DataLoader` to improve performance.\n",
      "[I 2025-05-26 17:38:34,420] Trial 20 finished with value: 0.16038981212082778 and parameters: {'input_chunk_length': 46, 'output_chunk_length': 7, 'dropout': 0.2411933800711742, 'batch_size': 85, 'lr': 0.00017119569297255883, 'weight_decay': 0.0022911852047944677, 'num_layers': 1, 'num_blocks': 4, 'num_stacks': 5, 'layer_widths': 212, 'activation': 'GELU', 'loss_fn': 'huber', 'optimizer': 'Adam'}. Best is trial 19 with value: 0.12769361641241558.\n",
      "Specified future encoders in `add_encoders` at model creation but model does not accept future covariates. future encoders will be ignored.\n",
      "GPU available: True (cuda), used: True\n"
     ]
    },
    {
     "name": "stdout",
     "output_type": "stream",
     "text": [
      "Starting time series verification for consistency...\n",
      "\n",
      "Performance metrics:\n",
      "                                     MSE        RMSE         MAE           R2  \\\n",
      "Temperature                    11.085876    3.329546    2.625262     0.635831   \n",
      "Precipitation_accumulated    6776.691584   82.320663   77.741960 -2047.269084   \n",
      "Humidity                       89.096048    9.439070    7.881318     0.392168   \n",
      "Wind_Speed_kmh                  1.296668    1.138713    0.915433     0.035588   \n",
      "Soil_Moisture              579606.530494  761.318941  742.078049   -10.100663   \n",
      "Soil_Temperature               10.525752    3.244342    2.609566     0.344825   \n",
      "Wind_Dir_Sin                    0.567376    0.753243    0.679363    -0.029270   \n",
      "Wind_Dir_Cos                    0.394347    0.627970    0.549639    -0.075191   \n",
      "\n",
      "                                SMAPE  \n",
      "Temperature                 39.279250  \n",
      "Precipitation_accumulated   18.461389  \n",
      "Humidity                     9.298760  \n",
      "Wind_Speed_kmh              74.067035  \n",
      "Soil_Moisture                9.052729  \n",
      "Soil_Temperature            38.125306  \n",
      "Wind_Dir_Sin               149.340660  \n",
      "Wind_Dir_Cos               163.117426  \n",
      "The MAE for this fold was 0.16038981212082778\n",
      "Results of trial 20 saved in optuna_iteration_metrics/trial_20.json\n",
      "Current value: 0.16038981212082778, Current params: {'input_chunk_length': 46, 'output_chunk_length': 7, 'dropout': 0.2411933800711742, 'batch_size': 85, 'lr': 0.00017119569297255883, 'weight_decay': 0.0022911852047944677, 'num_layers': 1, 'num_blocks': 4, 'num_stacks': 5, 'layer_widths': 212, 'activation': 'GELU', 'loss_fn': 'huber', 'optimizer': 'Adam'}\n",
      "Best value: 0.12769361641241558, Best params: {'input_chunk_length': 47, 'output_chunk_length': 8, 'dropout': 0.23181374349316408, 'batch_size': 95, 'lr': 0.00014029762282105434, 'weight_decay': 0.00026391671909781086, 'num_layers': 1, 'num_blocks': 4, 'num_stacks': 5, 'layer_widths': 208, 'activation': 'GELU', 'loss_fn': 'huber', 'optimizer': 'Adam'}\n",
      "\n",
      "Starting Trial 21\n",
      "Hyperparameters: {'input_chunk_length': 53, 'output_chunk_length': 11, 'dropout': 0.16133566778823846, 'batch_size': 126, 'lr': 0.0002064428939001044, 'weight_decay': 0.009894409762993127, 'num_layers': 2, 'num_blocks': 4, 'num_stacks': 5, 'layer_widths': 186, 'activation': 'GELU', 'loss_fn': 'huber', 'optimizer': 'Adam'}\n",
      "\n",
      "Training the model...\n",
      "Train set: 6647 samples\n",
      "Validation set: 1662 samples\n"
     ]
    },
    {
     "name": "stderr",
     "output_type": "stream",
     "text": [
      "TPU available: False, using: 0 TPU cores\n",
      "HPU available: False, using: 0 HPUs\n",
      "LOCAL_RANK: 0 - CUDA_VISIBLE_DEVICES: [0]\n",
      "Metric val_loss improved. New best score: 0.042\n",
      "[I 2025-05-26 17:38:53,445] Trial 21 pruned. Trial was pruned at epoch 5.\n",
      "Specified future encoders in `add_encoders` at model creation but model does not accept future covariates. future encoders will be ignored.\n",
      "GPU available: True (cuda), used: True\n",
      "TPU available: False, using: 0 TPU cores\n",
      "HPU available: False, using: 0 HPUs\n",
      "LOCAL_RANK: 0 - CUDA_VISIBLE_DEVICES: [0]\n"
     ]
    },
    {
     "name": "stdout",
     "output_type": "stream",
     "text": [
      "Current value: 0.04833971110642914, Current params: {'input_chunk_length': 53, 'output_chunk_length': 11, 'dropout': 0.16133566778823846, 'batch_size': 126, 'lr': 0.0002064428939001044, 'weight_decay': 0.009894409762993127, 'num_layers': 2, 'num_blocks': 4, 'num_stacks': 5, 'layer_widths': 186, 'activation': 'GELU', 'loss_fn': 'huber', 'optimizer': 'Adam'}\n",
      "Best value: 0.12769361641241558, Best params: {'input_chunk_length': 47, 'output_chunk_length': 8, 'dropout': 0.23181374349316408, 'batch_size': 95, 'lr': 0.00014029762282105434, 'weight_decay': 0.00026391671909781086, 'num_layers': 1, 'num_blocks': 4, 'num_stacks': 5, 'layer_widths': 208, 'activation': 'GELU', 'loss_fn': 'huber', 'optimizer': 'Adam'}\n",
      "\n",
      "Starting Trial 22\n",
      "Hyperparameters: {'input_chunk_length': 39, 'output_chunk_length': 8, 'dropout': 0.29726814647699645, 'batch_size': 95, 'lr': 1.5624585920388692e-05, 'weight_decay': 0.00028508007017399444, 'num_layers': 1, 'num_blocks': 3, 'num_stacks': 4, 'layer_widths': 214, 'activation': 'GELU', 'loss_fn': 'huber', 'optimizer': 'Adam'}\n",
      "\n",
      "Training the model...\n",
      "Train set: 6647 samples\n",
      "Validation set: 1662 samples\n"
     ]
    },
    {
     "name": "stderr",
     "output_type": "stream",
     "text": [
      "[I 2025-05-26 17:38:56,829] Trial 22 pruned. Trial was pruned at epoch 0.\n",
      "Specified future encoders in `add_encoders` at model creation but model does not accept future covariates. future encoders will be ignored.\n",
      "GPU available: True (cuda), used: True\n",
      "TPU available: False, using: 0 TPU cores\n",
      "HPU available: False, using: 0 HPUs\n",
      "LOCAL_RANK: 0 - CUDA_VISIBLE_DEVICES: [0]\n"
     ]
    },
    {
     "name": "stdout",
     "output_type": "stream",
     "text": [
      "Current value: 0.057174083438471274, Current params: {'input_chunk_length': 39, 'output_chunk_length': 8, 'dropout': 0.29726814647699645, 'batch_size': 95, 'lr': 1.5624585920388692e-05, 'weight_decay': 0.00028508007017399444, 'num_layers': 1, 'num_blocks': 3, 'num_stacks': 4, 'layer_widths': 214, 'activation': 'GELU', 'loss_fn': 'huber', 'optimizer': 'Adam'}\n",
      "Best value: 0.12769361641241558, Best params: {'input_chunk_length': 47, 'output_chunk_length': 8, 'dropout': 0.23181374349316408, 'batch_size': 95, 'lr': 0.00014029762282105434, 'weight_decay': 0.00026391671909781086, 'num_layers': 1, 'num_blocks': 4, 'num_stacks': 5, 'layer_widths': 208, 'activation': 'GELU', 'loss_fn': 'huber', 'optimizer': 'Adam'}\n",
      "\n",
      "Starting Trial 23\n",
      "Hyperparameters: {'input_chunk_length': 48, 'output_chunk_length': 5, 'dropout': 0.21932712949388572, 'batch_size': 98, 'lr': 6.401539451177546e-05, 'weight_decay': 0.00010808723611808026, 'num_layers': 2, 'num_blocks': 4, 'num_stacks': 4, 'layer_widths': 251, 'activation': 'GELU', 'loss_fn': 'huber', 'optimizer': 'Adam'}\n",
      "\n",
      "Training the model...\n",
      "Train set: 6647 samples\n",
      "Validation set: 1662 samples\n"
     ]
    },
    {
     "name": "stderr",
     "output_type": "stream",
     "text": [
      "Metric val_loss improved. New best score: 0.034\n",
      "Metric val_loss improved by 0.006 >= min_delta = 0.0005. New best score: 0.027\n",
      "Metric val_loss improved by 0.004 >= min_delta = 0.0005. New best score: 0.024\n",
      "Metric val_loss improved by 0.002 >= min_delta = 0.0005. New best score: 0.022\n",
      "Metric val_loss improved by 0.001 >= min_delta = 0.0005. New best score: 0.021\n",
      "Metric val_loss improved by 0.001 >= min_delta = 0.0005. New best score: 0.019\n",
      "Metric val_loss improved by 0.001 >= min_delta = 0.0005. New best score: 0.018\n",
      "Metric val_loss improved by 0.001 >= min_delta = 0.0005. New best score: 0.018\n",
      "Metric val_loss improved by 0.001 >= min_delta = 0.0005. New best score: 0.017\n",
      "`Trainer.fit` stopped: `max_epochs=30` reached.\n",
      "GPU available: True (cuda), used: True\n",
      "TPU available: False, using: 0 TPU cores\n",
      "HPU available: False, using: 0 HPUs\n",
      "LOCAL_RANK: 0 - CUDA_VISIBLE_DEVICES: [0]\n"
     ]
    },
    {
     "name": "stdout",
     "output_type": "stream",
     "text": [
      "Model loaded from checkpoint for trial 23\n"
     ]
    },
    {
     "name": "stderr",
     "output_type": "stream",
     "text": [
      "/home/eduardo/Documentos/Water-Cycle-Neural-Network/venv/lib/python3.12/site-packages/pytorch_lightning/trainer/connectors/data_connector.py:425: The 'predict_dataloader' does not have many workers which may be a bottleneck. Consider increasing the value of the `num_workers` argument` to `num_workers=11` in the `DataLoader` to improve performance.\n",
      "[I 2025-05-26 17:40:33,498] Trial 23 finished with value: 0.12954992044886923 and parameters: {'input_chunk_length': 48, 'output_chunk_length': 5, 'dropout': 0.21932712949388572, 'batch_size': 98, 'lr': 6.401539451177546e-05, 'weight_decay': 0.00010808723611808026, 'num_layers': 2, 'num_blocks': 4, 'num_stacks': 4, 'layer_widths': 251, 'activation': 'GELU', 'loss_fn': 'huber', 'optimizer': 'Adam'}. Best is trial 19 with value: 0.12769361641241558.\n",
      "Specified future encoders in `add_encoders` at model creation but model does not accept future covariates. future encoders will be ignored.\n"
     ]
    },
    {
     "name": "stdout",
     "output_type": "stream",
     "text": [
      "Starting time series verification for consistency...\n",
      "\n",
      "Performance metrics:\n",
      "                                     MSE        RMSE         MAE          R2  \\\n",
      "Temperature                    10.240191    3.200030    2.496097    0.663612   \n",
      "Precipitation_accumulated     669.511025   25.874911   22.165806 -201.361096   \n",
      "Humidity                       77.244469    8.788883    7.272272    0.473022   \n",
      "Wind_Speed_kmh                  1.297944    1.139273    0.908590    0.034639   \n",
      "Soil_Moisture              143776.438329  379.178636  331.990626   -1.753616   \n",
      "Soil_Temperature                6.783272    2.604471    2.152790    0.577776   \n",
      "Wind_Dir_Sin                    0.572980    0.756955    0.662967   -0.039437   \n",
      "Wind_Dir_Cos                    0.378584    0.615292    0.536765   -0.032215   \n",
      "\n",
      "                                SMAPE  \n",
      "Temperature                 37.520625  \n",
      "Precipitation_accumulated    4.926190  \n",
      "Humidity                     8.647162  \n",
      "Wind_Speed_kmh              73.932105  \n",
      "Soil_Moisture                3.962510  \n",
      "Soil_Temperature            36.643631  \n",
      "Wind_Dir_Sin               138.733302  \n",
      "Wind_Dir_Cos               149.936088  \n",
      "The MAE for this fold was 0.12954992044886923\n",
      "Results of trial 23 saved in optuna_iteration_metrics/trial_23.json\n",
      "Current value: 0.12954992044886923, Current params: {'input_chunk_length': 48, 'output_chunk_length': 5, 'dropout': 0.21932712949388572, 'batch_size': 98, 'lr': 6.401539451177546e-05, 'weight_decay': 0.00010808723611808026, 'num_layers': 2, 'num_blocks': 4, 'num_stacks': 4, 'layer_widths': 251, 'activation': 'GELU', 'loss_fn': 'huber', 'optimizer': 'Adam'}\n",
      "Best value: 0.12769361641241558, Best params: {'input_chunk_length': 47, 'output_chunk_length': 8, 'dropout': 0.23181374349316408, 'batch_size': 95, 'lr': 0.00014029762282105434, 'weight_decay': 0.00026391671909781086, 'num_layers': 1, 'num_blocks': 4, 'num_stacks': 5, 'layer_widths': 208, 'activation': 'GELU', 'loss_fn': 'huber', 'optimizer': 'Adam'}\n",
      "\n",
      "Starting Trial 24\n",
      "Hyperparameters: {'input_chunk_length': 49, 'output_chunk_length': 3, 'dropout': 0.21950524399401244, 'batch_size': 97, 'lr': 4.935590967645346e-05, 'weight_decay': 7.188913975608541e-05, 'num_layers': 1, 'num_blocks': 4, 'num_stacks': 5, 'layer_widths': 255, 'activation': 'GELU', 'loss_fn': 'huber', 'optimizer': 'Adam'}\n",
      "\n",
      "Training the model...\n",
      "Train set: 6647 samples\n",
      "Validation set: 1662 samples\n"
     ]
    },
    {
     "name": "stderr",
     "output_type": "stream",
     "text": [
      "GPU available: True (cuda), used: True\n",
      "TPU available: False, using: 0 TPU cores\n",
      "HPU available: False, using: 0 HPUs\n",
      "LOCAL_RANK: 0 - CUDA_VISIBLE_DEVICES: [0]\n",
      "Metric val_loss improved. New best score: 0.044\n",
      "Metric val_loss improved by 0.009 >= min_delta = 0.0005. New best score: 0.035\n",
      "Metric val_loss improved by 0.007 >= min_delta = 0.0005. New best score: 0.028\n",
      "Metric val_loss improved by 0.001 >= min_delta = 0.0005. New best score: 0.027\n",
      "Metric val_loss improved by 0.001 >= min_delta = 0.0005. New best score: 0.026\n",
      "Metric val_loss improved by 0.002 >= min_delta = 0.0005. New best score: 0.024\n",
      "Metric val_loss improved by 0.001 >= min_delta = 0.0005. New best score: 0.023\n",
      "Metric val_loss improved by 0.001 >= min_delta = 0.0005. New best score: 0.023\n",
      "Metric val_loss improved by 0.001 >= min_delta = 0.0005. New best score: 0.022\n",
      "Metric val_loss improved by 0.001 >= min_delta = 0.0005. New best score: 0.021\n",
      "Metric val_loss improved by 0.001 >= min_delta = 0.0005. New best score: 0.020\n",
      "Metric val_loss improved by 0.001 >= min_delta = 0.0005. New best score: 0.019\n",
      "Metric val_loss improved by 0.001 >= min_delta = 0.0005. New best score: 0.019\n",
      "Metric val_loss improved by 0.001 >= min_delta = 0.0005. New best score: 0.018\n",
      "Metric val_loss improved by 0.001 >= min_delta = 0.0005. New best score: 0.017\n",
      "`Trainer.fit` stopped: `max_epochs=30` reached.\n",
      "GPU available: True (cuda), used: True\n",
      "TPU available: False, using: 0 TPU cores\n",
      "HPU available: False, using: 0 HPUs\n",
      "LOCAL_RANK: 0 - CUDA_VISIBLE_DEVICES: [0]\n"
     ]
    },
    {
     "name": "stdout",
     "output_type": "stream",
     "text": [
      "Model loaded from checkpoint for trial 24\n"
     ]
    },
    {
     "name": "stderr",
     "output_type": "stream",
     "text": [
      "/home/eduardo/Documentos/Water-Cycle-Neural-Network/venv/lib/python3.12/site-packages/pytorch_lightning/trainer/connectors/data_connector.py:425: The 'predict_dataloader' does not have many workers which may be a bottleneck. Consider increasing the value of the `num_workers` argument` to `num_workers=11` in the `DataLoader` to improve performance.\n",
      "[I 2025-05-26 17:43:55,481] Trial 24 finished with value: 0.13302419396467505 and parameters: {'input_chunk_length': 49, 'output_chunk_length': 3, 'dropout': 0.21950524399401244, 'batch_size': 97, 'lr': 4.935590967645346e-05, 'weight_decay': 7.188913975608541e-05, 'num_layers': 1, 'num_blocks': 4, 'num_stacks': 5, 'layer_widths': 255, 'activation': 'GELU', 'loss_fn': 'huber', 'optimizer': 'Adam'}. Best is trial 19 with value: 0.12769361641241558.\n",
      "Specified future encoders in `add_encoders` at model creation but model does not accept future covariates. future encoders will be ignored.\n"
     ]
    },
    {
     "name": "stdout",
     "output_type": "stream",
     "text": [
      "Starting time series verification for consistency...\n",
      "\n",
      "Performance metrics:\n",
      "                                    MSE        RMSE         MAE          R2  \\\n",
      "Temperature                   11.774402    3.431385    2.752382    0.613407   \n",
      "Precipitation_accumulated   2109.030754   45.924185   42.303125 -635.394391   \n",
      "Humidity                      68.989625    8.305999    6.700941    0.529381   \n",
      "Wind_Speed_kmh                 1.294044    1.137560    0.922537    0.037916   \n",
      "Soil_Moisture              75928.865375  275.551929  219.518108   -0.448111   \n",
      "Soil_Temperature              10.783531    3.283829    2.657412    0.329137   \n",
      "Wind_Dir_Sin                   0.560816    0.748876    0.674934   -0.017739   \n",
      "Wind_Dir_Cos                   0.375187    0.612525    0.518949   -0.023102   \n",
      "\n",
      "                                SMAPE  \n",
      "Temperature                 40.533789  \n",
      "Precipitation_accumulated    9.622067  \n",
      "Humidity                     7.890090  \n",
      "Wind_Speed_kmh              73.834321  \n",
      "Soil_Moisture                2.592566  \n",
      "Soil_Temperature            56.153188  \n",
      "Wind_Dir_Sin               152.070409  \n",
      "Wind_Dir_Cos               126.065235  \n",
      "The MAE for this fold was 0.13302419396467505\n",
      "Results of trial 24 saved in optuna_iteration_metrics/trial_24.json\n",
      "Current value: 0.13302419396467505, Current params: {'input_chunk_length': 49, 'output_chunk_length': 3, 'dropout': 0.21950524399401244, 'batch_size': 97, 'lr': 4.935590967645346e-05, 'weight_decay': 7.188913975608541e-05, 'num_layers': 1, 'num_blocks': 4, 'num_stacks': 5, 'layer_widths': 255, 'activation': 'GELU', 'loss_fn': 'huber', 'optimizer': 'Adam'}\n",
      "Best value: 0.12769361641241558, Best params: {'input_chunk_length': 47, 'output_chunk_length': 8, 'dropout': 0.23181374349316408, 'batch_size': 95, 'lr': 0.00014029762282105434, 'weight_decay': 0.00026391671909781086, 'num_layers': 1, 'num_blocks': 4, 'num_stacks': 5, 'layer_widths': 208, 'activation': 'GELU', 'loss_fn': 'huber', 'optimizer': 'Adam'}\n",
      "\n",
      "Starting Trial 25\n",
      "Hyperparameters: {'input_chunk_length': 57, 'output_chunk_length': 6, 'dropout': 0.28147983857694153, 'batch_size': 66, 'lr': 2.1160830160054744e-05, 'weight_decay': 0.0004911259690195365, 'num_layers': 2, 'num_blocks': 4, 'num_stacks': 3, 'layer_widths': 234, 'activation': 'GELU', 'loss_fn': 'huber', 'optimizer': 'AdamW'}\n",
      "\n",
      "Training the model...\n",
      "Train set: 6647 samples\n",
      "Validation set: 1662 samples\n"
     ]
    },
    {
     "name": "stderr",
     "output_type": "stream",
     "text": [
      "GPU available: True (cuda), used: True\n",
      "TPU available: False, using: 0 TPU cores\n",
      "HPU available: False, using: 0 HPUs\n",
      "LOCAL_RANK: 0 - CUDA_VISIBLE_DEVICES: [0]\n",
      "Metric val_loss improved. New best score: 0.039\n",
      "Metric val_loss improved by 0.004 >= min_delta = 0.0005. New best score: 0.036\n",
      "Metric val_loss improved by 0.003 >= min_delta = 0.0005. New best score: 0.033\n",
      "Metric val_loss improved by 0.003 >= min_delta = 0.0005. New best score: 0.030\n",
      "Metric val_loss improved by 0.002 >= min_delta = 0.0005. New best score: 0.027\n",
      "Metric val_loss improved by 0.002 >= min_delta = 0.0005. New best score: 0.026\n",
      "Metric val_loss improved by 0.002 >= min_delta = 0.0005. New best score: 0.024\n",
      "Metric val_loss improved by 0.001 >= min_delta = 0.0005. New best score: 0.023\n",
      "Metric val_loss improved by 0.001 >= min_delta = 0.0005. New best score: 0.022\n",
      "Metric val_loss improved by 0.001 >= min_delta = 0.0005. New best score: 0.021\n",
      "Metric val_loss improved by 0.001 >= min_delta = 0.0005. New best score: 0.021\n",
      "Metric val_loss improved by 0.001 >= min_delta = 0.0005. New best score: 0.020\n",
      "Metric val_loss improved by 0.001 >= min_delta = 0.0005. New best score: 0.020\n",
      "Metric val_loss improved by 0.001 >= min_delta = 0.0005. New best score: 0.019\n",
      "Metric val_loss improved by 0.001 >= min_delta = 0.0005. New best score: 0.019\n",
      "Metric val_loss improved by 0.001 >= min_delta = 0.0005. New best score: 0.018\n",
      "`Trainer.fit` stopped: `max_epochs=30` reached.\n",
      "GPU available: True (cuda), used: True\n",
      "TPU available: False, using: 0 TPU cores\n",
      "HPU available: False, using: 0 HPUs\n",
      "LOCAL_RANK: 0 - CUDA_VISIBLE_DEVICES: [0]\n"
     ]
    },
    {
     "name": "stdout",
     "output_type": "stream",
     "text": [
      "Model loaded from checkpoint for trial 25\n"
     ]
    },
    {
     "name": "stderr",
     "output_type": "stream",
     "text": [
      "/home/eduardo/Documentos/Water-Cycle-Neural-Network/venv/lib/python3.12/site-packages/pytorch_lightning/trainer/connectors/data_connector.py:425: The 'predict_dataloader' does not have many workers which may be a bottleneck. Consider increasing the value of the `num_workers` argument` to `num_workers=11` in the `DataLoader` to improve performance.\n",
      "[I 2025-05-26 17:45:59,012] Trial 25 finished with value: 0.12973004419688472 and parameters: {'input_chunk_length': 57, 'output_chunk_length': 6, 'dropout': 0.28147983857694153, 'batch_size': 66, 'lr': 2.1160830160054744e-05, 'weight_decay': 0.0004911259690195365, 'num_layers': 2, 'num_blocks': 4, 'num_stacks': 3, 'layer_widths': 234, 'activation': 'GELU', 'loss_fn': 'huber', 'optimizer': 'AdamW'}. Best is trial 19 with value: 0.12769361641241558.\n",
      "Specified future encoders in `add_encoders` at model creation but model does not accept future covariates. future encoders will be ignored.\n"
     ]
    },
    {
     "name": "stdout",
     "output_type": "stream",
     "text": [
      "Starting time series verification for consistency...\n",
      "\n",
      "Performance metrics:\n",
      "                                     MSE        RMSE         MAE         R2  \\\n",
      "Temperature                     8.521953    2.919238    2.344499   0.720896   \n",
      "Precipitation_accumulated     293.294057   17.125830   14.421972 -89.181942   \n",
      "Humidity                       86.636133    9.307853    7.804892   0.410382   \n",
      "Wind_Speed_kmh                  1.279885    1.131320    0.901659   0.050711   \n",
      "Soil_Moisture              252301.487208  502.296215  455.407448  -4.080584   \n",
      "Soil_Temperature                4.892798    2.211967    1.837020   0.695293   \n",
      "Wind_Dir_Sin                    0.590359    0.768348    0.664448  -0.075518   \n",
      "Wind_Dir_Cos                    0.380553    0.616890    0.526963  -0.034136   \n",
      "\n",
      "                                SMAPE  \n",
      "Temperature                 36.326181  \n",
      "Precipitation_accumulated    3.169374  \n",
      "Humidity                     9.164088  \n",
      "Wind_Speed_kmh              73.327478  \n",
      "Soil_Moisture                5.455135  \n",
      "Soil_Temperature            36.738812  \n",
      "Wind_Dir_Sin               133.522530  \n",
      "Wind_Dir_Cos               128.685940  \n",
      "The MAE for this fold was 0.12973004419688472\n",
      "Results of trial 25 saved in optuna_iteration_metrics/trial_25.json\n",
      "Current value: 0.12973004419688472, Current params: {'input_chunk_length': 57, 'output_chunk_length': 6, 'dropout': 0.28147983857694153, 'batch_size': 66, 'lr': 2.1160830160054744e-05, 'weight_decay': 0.0004911259690195365, 'num_layers': 2, 'num_blocks': 4, 'num_stacks': 3, 'layer_widths': 234, 'activation': 'GELU', 'loss_fn': 'huber', 'optimizer': 'AdamW'}\n",
      "Best value: 0.12769361641241558, Best params: {'input_chunk_length': 47, 'output_chunk_length': 8, 'dropout': 0.23181374349316408, 'batch_size': 95, 'lr': 0.00014029762282105434, 'weight_decay': 0.00026391671909781086, 'num_layers': 1, 'num_blocks': 4, 'num_stacks': 5, 'layer_widths': 208, 'activation': 'GELU', 'loss_fn': 'huber', 'optimizer': 'Adam'}\n",
      "\n",
      "Starting Trial 26\n",
      "Hyperparameters: {'input_chunk_length': 59, 'output_chunk_length': 4, 'dropout': 0.30762102807701225, 'batch_size': 64, 'lr': 2.787503689679549e-06, 'weight_decay': 0.0008235161955677686, 'num_layers': 3, 'num_blocks': 4, 'num_stacks': 3, 'layer_widths': 239, 'activation': 'ReLU', 'loss_fn': 'huber', 'optimizer': 'RMSprop'}\n",
      "\n",
      "Training the model...\n",
      "Train set: 6647 samples\n",
      "Validation set: 1662 samples\n"
     ]
    },
    {
     "name": "stderr",
     "output_type": "stream",
     "text": [
      "GPU available: True (cuda), used: True\n",
      "TPU available: False, using: 0 TPU cores\n",
      "HPU available: False, using: 0 HPUs\n",
      "LOCAL_RANK: 0 - CUDA_VISIBLE_DEVICES: [0]\n",
      "[I 2025-05-26 17:46:04,750] Trial 26 pruned. Trial was pruned at epoch 0.\n",
      "Specified future encoders in `add_encoders` at model creation but model does not accept future covariates. future encoders will be ignored.\n"
     ]
    },
    {
     "name": "stdout",
     "output_type": "stream",
     "text": [
      "Current value: 0.06193338226542096, Current params: {'input_chunk_length': 59, 'output_chunk_length': 4, 'dropout': 0.30762102807701225, 'batch_size': 64, 'lr': 2.787503689679549e-06, 'weight_decay': 0.0008235161955677686, 'num_layers': 3, 'num_blocks': 4, 'num_stacks': 3, 'layer_widths': 239, 'activation': 'ReLU', 'loss_fn': 'huber', 'optimizer': 'RMSprop'}\n",
      "Best value: 0.12769361641241558, Best params: {'input_chunk_length': 47, 'output_chunk_length': 8, 'dropout': 0.23181374349316408, 'batch_size': 95, 'lr': 0.00014029762282105434, 'weight_decay': 0.00026391671909781086, 'num_layers': 1, 'num_blocks': 4, 'num_stacks': 5, 'layer_widths': 208, 'activation': 'GELU', 'loss_fn': 'huber', 'optimizer': 'Adam'}\n",
      "\n",
      "Starting Trial 27\n",
      "Hyperparameters: {'input_chunk_length': 55, 'output_chunk_length': 5, 'dropout': 0.33758546953408064, 'batch_size': 91, 'lr': 1.877904686049376e-05, 'weight_decay': 9.320524334966335e-05, 'num_layers': 1, 'num_blocks': 4, 'num_stacks': 3, 'layer_widths': 228, 'activation': 'GELU', 'loss_fn': 'mae', 'optimizer': 'SGD'}\n",
      "\n",
      "Training the model...\n",
      "Train set: 6647 samples\n",
      "Validation set: 1662 samples\n"
     ]
    },
    {
     "name": "stderr",
     "output_type": "stream",
     "text": [
      "GPU available: True (cuda), used: True\n",
      "TPU available: False, using: 0 TPU cores\n",
      "HPU available: False, using: 0 HPUs\n",
      "LOCAL_RANK: 0 - CUDA_VISIBLE_DEVICES: [0]\n",
      "[I 2025-05-26 17:46:54,134] Trial 27 pruned. Trial was pruned at epoch 0.\n",
      "Specified future encoders in `add_encoders` at model creation but model does not accept future covariates. future encoders will be ignored.\n",
      "GPU available: True (cuda), used: True\n",
      "TPU available: False, using: 0 TPU cores\n",
      "HPU available: False, using: 0 HPUs\n",
      "LOCAL_RANK: 0 - CUDA_VISIBLE_DEVICES: [0]\n"
     ]
    },
    {
     "name": "stdout",
     "output_type": "stream",
     "text": [
      "Current value: 0.6844062935863487, Current params: {'input_chunk_length': 55, 'output_chunk_length': 5, 'dropout': 0.33758546953408064, 'batch_size': 91, 'lr': 1.877904686049376e-05, 'weight_decay': 9.320524334966335e-05, 'num_layers': 1, 'num_blocks': 4, 'num_stacks': 3, 'layer_widths': 228, 'activation': 'GELU', 'loss_fn': 'mae', 'optimizer': 'SGD'}\n",
      "Best value: 0.12769361641241558, Best params: {'input_chunk_length': 47, 'output_chunk_length': 8, 'dropout': 0.23181374349316408, 'batch_size': 95, 'lr': 0.00014029762282105434, 'weight_decay': 0.00026391671909781086, 'num_layers': 1, 'num_blocks': 4, 'num_stacks': 5, 'layer_widths': 208, 'activation': 'GELU', 'loss_fn': 'huber', 'optimizer': 'Adam'}\n",
      "\n",
      "Starting Trial 28\n",
      "Hyperparameters: {'input_chunk_length': 61, 'output_chunk_length': 2, 'dropout': 0.27322389829197846, 'batch_size': 64, 'lr': 0.00018646832458683673, 'weight_decay': 0.00048721423041666055, 'num_layers': 2, 'num_blocks': 4, 'num_stacks': 3, 'layer_widths': 254, 'activation': 'GELU', 'loss_fn': 'huber', 'optimizer': 'Adam'}\n",
      "\n",
      "Training the model...\n",
      "Train set: 6647 samples\n",
      "Validation set: 1662 samples\n"
     ]
    },
    {
     "name": "stderr",
     "output_type": "stream",
     "text": [
      "Metric val_loss improved. New best score: 0.023\n",
      "Metric val_loss improved by 0.002 >= min_delta = 0.0005. New best score: 0.021\n",
      "Metric val_loss improved by 0.001 >= min_delta = 0.0005. New best score: 0.020\n",
      "Monitored metric val_loss did not improve in the last 15 records. Best score: 0.020. Signaling Trainer to stop.\n",
      "GPU available: True (cuda), used: True\n",
      "TPU available: False, using: 0 TPU cores\n",
      "HPU available: False, using: 0 HPUs\n",
      "LOCAL_RANK: 0 - CUDA_VISIBLE_DEVICES: [0]\n"
     ]
    },
    {
     "name": "stdout",
     "output_type": "stream",
     "text": [
      "Model loaded from checkpoint for trial 28\n"
     ]
    },
    {
     "name": "stderr",
     "output_type": "stream",
     "text": [
      "/home/eduardo/Documentos/Water-Cycle-Neural-Network/venv/lib/python3.12/site-packages/pytorch_lightning/trainer/connectors/data_connector.py:425: The 'predict_dataloader' does not have many workers which may be a bottleneck. Consider increasing the value of the `num_workers` argument` to `num_workers=11` in the `DataLoader` to improve performance.\n",
      "[I 2025-05-26 17:48:05,236] Trial 28 finished with value: 0.1453750382452951 and parameters: {'input_chunk_length': 61, 'output_chunk_length': 2, 'dropout': 0.27322389829197846, 'batch_size': 64, 'lr': 0.00018646832458683673, 'weight_decay': 0.00048721423041666055, 'num_layers': 2, 'num_blocks': 4, 'num_stacks': 3, 'layer_widths': 254, 'activation': 'GELU', 'loss_fn': 'huber', 'optimizer': 'Adam'}. Best is trial 19 with value: 0.12769361641241558.\n",
      "Specified future encoders in `add_encoders` at model creation but model does not accept future covariates. future encoders will be ignored.\n"
     ]
    },
    {
     "name": "stdout",
     "output_type": "stream",
     "text": [
      "Starting time series verification for consistency...\n",
      "\n",
      "Performance metrics:\n",
      "                                     MSE        RMSE         MAE           R2  \\\n",
      "Temperature                     9.544232    3.089374    2.478561     0.687415   \n",
      "Precipitation_accumulated    3401.177516   58.319615   55.627803 -1044.792732   \n",
      "Humidity                       80.539681    8.974390    7.494283     0.451872   \n",
      "Wind_Speed_kmh                  1.294525    1.137772    0.913315     0.039853   \n",
      "Soil_Moisture              461809.974327  679.566019  654.616008    -8.299447   \n",
      "Soil_Temperature                5.417504    2.327553    1.919307     0.662616   \n",
      "Wind_Dir_Sin                    0.574610    0.758031    0.644382    -0.046827   \n",
      "Wind_Dir_Cos                    0.358783    0.598985    0.524277     0.025023   \n",
      "\n",
      "                                SMAPE  \n",
      "Temperature                 37.908075  \n",
      "Precipitation_accumulated   12.812136  \n",
      "Humidity                     8.860938  \n",
      "Wind_Speed_kmh              73.797801  \n",
      "Soil_Moisture                7.934975  \n",
      "Soil_Temperature            31.285870  \n",
      "Wind_Dir_Sin               122.949178  \n",
      "Wind_Dir_Cos               147.019601  \n",
      "The MAE for this fold was 0.1453750382452951\n",
      "Results of trial 28 saved in optuna_iteration_metrics/trial_28.json\n",
      "Current value: 0.1453750382452951, Current params: {'input_chunk_length': 61, 'output_chunk_length': 2, 'dropout': 0.27322389829197846, 'batch_size': 64, 'lr': 0.00018646832458683673, 'weight_decay': 0.00048721423041666055, 'num_layers': 2, 'num_blocks': 4, 'num_stacks': 3, 'layer_widths': 254, 'activation': 'GELU', 'loss_fn': 'huber', 'optimizer': 'Adam'}\n",
      "Best value: 0.12769361641241558, Best params: {'input_chunk_length': 47, 'output_chunk_length': 8, 'dropout': 0.23181374349316408, 'batch_size': 95, 'lr': 0.00014029762282105434, 'weight_decay': 0.00026391671909781086, 'num_layers': 1, 'num_blocks': 4, 'num_stacks': 5, 'layer_widths': 208, 'activation': 'GELU', 'loss_fn': 'huber', 'optimizer': 'Adam'}\n",
      "\n",
      "Starting Trial 29\n",
      "Hyperparameters: {'input_chunk_length': 57, 'output_chunk_length': 7, 'dropout': 0.23963378657443182, 'batch_size': 89, 'lr': 8.69386236863958e-05, 'weight_decay': 0.0005295838417646176, 'num_layers': 3, 'num_blocks': 4, 'num_stacks': 4, 'layer_widths': 206, 'activation': 'ReLU', 'loss_fn': 'mae', 'optimizer': 'SGD'}\n",
      "\n",
      "Training the model...\n",
      "Train set: 6647 samples\n",
      "Validation set: 1662 samples\n"
     ]
    },
    {
     "name": "stderr",
     "output_type": "stream",
     "text": [
      "GPU available: True (cuda), used: True\n",
      "TPU available: False, using: 0 TPU cores\n",
      "HPU available: False, using: 0 HPUs\n",
      "LOCAL_RANK: 0 - CUDA_VISIBLE_DEVICES: [0]\n",
      "[I 2025-05-26 17:48:10,174] Trial 29 pruned. Trial was pruned at epoch 0.\n",
      "Specified future encoders in `add_encoders` at model creation but model does not accept future covariates. future encoders will be ignored.\n",
      "GPU available: True (cuda), used: True\n",
      "TPU available: False, using: 0 TPU cores\n",
      "HPU available: False, using: 0 HPUs\n",
      "LOCAL_RANK: 0 - CUDA_VISIBLE_DEVICES: [0]\n"
     ]
    },
    {
     "name": "stdout",
     "output_type": "stream",
     "text": [
      "Current value: 0.45733766597139336, Current params: {'input_chunk_length': 57, 'output_chunk_length': 7, 'dropout': 0.23963378657443182, 'batch_size': 89, 'lr': 8.69386236863958e-05, 'weight_decay': 0.0005295838417646176, 'num_layers': 3, 'num_blocks': 4, 'num_stacks': 4, 'layer_widths': 206, 'activation': 'ReLU', 'loss_fn': 'mae', 'optimizer': 'SGD'}\n",
      "Best value: 0.12769361641241558, Best params: {'input_chunk_length': 47, 'output_chunk_length': 8, 'dropout': 0.23181374349316408, 'batch_size': 95, 'lr': 0.00014029762282105434, 'weight_decay': 0.00026391671909781086, 'num_layers': 1, 'num_blocks': 4, 'num_stacks': 5, 'layer_widths': 208, 'activation': 'GELU', 'loss_fn': 'huber', 'optimizer': 'Adam'}\n",
      "\n",
      "Starting Trial 30\n",
      "Hyperparameters: {'input_chunk_length': 51, 'output_chunk_length': 14, 'dropout': 0.3748931379449556, 'batch_size': 104, 'lr': 1.1166134947418541e-05, 'weight_decay': 2.1173365572488302e-05, 'num_layers': 1, 'num_blocks': 4, 'num_stacks': 5, 'layer_widths': 228, 'activation': 'GELU', 'loss_fn': 'huber', 'optimizer': 'AdamW'}\n",
      "\n",
      "Training the model...\n",
      "Train set: 6647 samples\n",
      "Validation set: 1662 samples\n"
     ]
    },
    {
     "name": "stderr",
     "output_type": "stream",
     "text": [
      "[I 2025-05-26 17:48:15,261] Trial 30 pruned. Trial was pruned at epoch 0.\n",
      "Specified future encoders in `add_encoders` at model creation but model does not accept future covariates. future encoders will be ignored.\n",
      "GPU available: True (cuda), used: True\n",
      "TPU available: False, using: 0 TPU cores\n",
      "HPU available: False, using: 0 HPUs\n",
      "LOCAL_RANK: 0 - CUDA_VISIBLE_DEVICES: [0]\n"
     ]
    },
    {
     "name": "stdout",
     "output_type": "stream",
     "text": [
      "Current value: 0.07356947792775567, Current params: {'input_chunk_length': 51, 'output_chunk_length': 14, 'dropout': 0.3748931379449556, 'batch_size': 104, 'lr': 1.1166134947418541e-05, 'weight_decay': 2.1173365572488302e-05, 'num_layers': 1, 'num_blocks': 4, 'num_stacks': 5, 'layer_widths': 228, 'activation': 'GELU', 'loss_fn': 'huber', 'optimizer': 'AdamW'}\n",
      "Best value: 0.12769361641241558, Best params: {'input_chunk_length': 47, 'output_chunk_length': 8, 'dropout': 0.23181374349316408, 'batch_size': 95, 'lr': 0.00014029762282105434, 'weight_decay': 0.00026391671909781086, 'num_layers': 1, 'num_blocks': 4, 'num_stacks': 5, 'layer_widths': 208, 'activation': 'GELU', 'loss_fn': 'huber', 'optimizer': 'Adam'}\n",
      "\n",
      "Starting Trial 31\n",
      "Hyperparameters: {'input_chunk_length': 45, 'output_chunk_length': 9, 'dropout': 0.20877238817417482, 'batch_size': 82, 'lr': 2.647157510793993e-05, 'weight_decay': 0.00024154532556352502, 'num_layers': 2, 'num_blocks': 4, 'num_stacks': 4, 'layer_widths': 203, 'activation': 'GELU', 'loss_fn': 'huber', 'optimizer': 'AdamW'}\n",
      "\n",
      "Training the model...\n",
      "Train set: 6647 samples\n",
      "Validation set: 1662 samples\n"
     ]
    },
    {
     "name": "stderr",
     "output_type": "stream",
     "text": [
      "Metric val_loss improved. New best score: 0.041\n",
      "Metric val_loss improved by 0.004 >= min_delta = 0.0005. New best score: 0.037\n",
      "Metric val_loss improved by 0.004 >= min_delta = 0.0005. New best score: 0.033\n",
      "Metric val_loss improved by 0.003 >= min_delta = 0.0005. New best score: 0.030\n",
      "Metric val_loss improved by 0.003 >= min_delta = 0.0005. New best score: 0.027\n",
      "Metric val_loss improved by 0.002 >= min_delta = 0.0005. New best score: 0.026\n",
      "Metric val_loss improved by 0.001 >= min_delta = 0.0005. New best score: 0.024\n",
      "Metric val_loss improved by 0.001 >= min_delta = 0.0005. New best score: 0.023\n",
      "Metric val_loss improved by 0.001 >= min_delta = 0.0005. New best score: 0.021\n",
      "Metric val_loss improved by 0.001 >= min_delta = 0.0005. New best score: 0.021\n",
      "Metric val_loss improved by 0.001 >= min_delta = 0.0005. New best score: 0.020\n",
      "Metric val_loss improved by 0.001 >= min_delta = 0.0005. New best score: 0.019\n",
      "Metric val_loss improved by 0.001 >= min_delta = 0.0005. New best score: 0.019\n",
      "`Trainer.fit` stopped: `max_epochs=30` reached.\n",
      "GPU available: True (cuda), used: True\n",
      "TPU available: False, using: 0 TPU cores\n",
      "HPU available: False, using: 0 HPUs\n",
      "LOCAL_RANK: 0 - CUDA_VISIBLE_DEVICES: [0]\n"
     ]
    },
    {
     "name": "stdout",
     "output_type": "stream",
     "text": [
      "Model loaded from checkpoint for trial 31\n"
     ]
    },
    {
     "name": "stderr",
     "output_type": "stream",
     "text": [
      "/home/eduardo/Documentos/Water-Cycle-Neural-Network/venv/lib/python3.12/site-packages/pytorch_lightning/trainer/connectors/data_connector.py:425: The 'predict_dataloader' does not have many workers which may be a bottleneck. Consider increasing the value of the `num_workers` argument` to `num_workers=11` in the `DataLoader` to improve performance.\n",
      "[I 2025-05-26 17:52:32,931] Trial 31 finished with value: 0.1300062366967204 and parameters: {'input_chunk_length': 45, 'output_chunk_length': 9, 'dropout': 0.20877238817417482, 'batch_size': 82, 'lr': 2.647157510793993e-05, 'weight_decay': 0.00024154532556352502, 'num_layers': 2, 'num_blocks': 4, 'num_stacks': 4, 'layer_widths': 203, 'activation': 'GELU', 'loss_fn': 'huber', 'optimizer': 'AdamW'}. Best is trial 19 with value: 0.12769361641241558.\n",
      "Specified future encoders in `add_encoders` at model creation but model does not accept future covariates. future encoders will be ignored.\n",
      "GPU available: True (cuda), used: True\n",
      "TPU available: False, using: 0 TPU cores\n",
      "HPU available: False, using: 0 HPUs\n",
      "LOCAL_RANK: 0 - CUDA_VISIBLE_DEVICES: [0]\n"
     ]
    },
    {
     "name": "stdout",
     "output_type": "stream",
     "text": [
      "Starting time series verification for consistency...\n",
      "\n",
      "Performance metrics:\n",
      "                                     MSE        RMSE         MAE          R2  \\\n",
      "Temperature                    11.420983    3.379494    2.628842    0.624675   \n",
      "Precipitation_accumulated     396.198611   19.904738   16.302702 -118.953095   \n",
      "Humidity                       88.873251    9.427261    7.778966    0.393632   \n",
      "Wind_Speed_kmh                  1.316408    1.147348    0.930886    0.020537   \n",
      "Soil_Moisture              124991.245790  353.541010  311.107068   -1.404064   \n",
      "Soil_Temperature                8.050410    2.837324    2.355084    0.498640   \n",
      "Wind_Dir_Sin                    0.599524    0.774289    0.678726   -0.087180   \n",
      "Wind_Dir_Cos                    0.400259    0.632660    0.530004   -0.091175   \n",
      "\n",
      "                                SMAPE  \n",
      "Temperature                 39.064461  \n",
      "Precipitation_accumulated    3.578151  \n",
      "Humidity                     9.229181  \n",
      "Wind_Speed_kmh              73.551881  \n",
      "Soil_Moisture                3.693211  \n",
      "Soil_Temperature            42.973897  \n",
      "Wind_Dir_Sin               140.822721  \n",
      "Wind_Dir_Cos               118.764902  \n",
      "The MAE for this fold was 0.1300062366967204\n",
      "Results of trial 31 saved in optuna_iteration_metrics/trial_31.json\n",
      "Current value: 0.1300062366967204, Current params: {'input_chunk_length': 45, 'output_chunk_length': 9, 'dropout': 0.20877238817417482, 'batch_size': 82, 'lr': 2.647157510793993e-05, 'weight_decay': 0.00024154532556352502, 'num_layers': 2, 'num_blocks': 4, 'num_stacks': 4, 'layer_widths': 203, 'activation': 'GELU', 'loss_fn': 'huber', 'optimizer': 'AdamW'}\n",
      "Best value: 0.12769361641241558, Best params: {'input_chunk_length': 47, 'output_chunk_length': 8, 'dropout': 0.23181374349316408, 'batch_size': 95, 'lr': 0.00014029762282105434, 'weight_decay': 0.00026391671909781086, 'num_layers': 1, 'num_blocks': 4, 'num_stacks': 5, 'layer_widths': 208, 'activation': 'GELU', 'loss_fn': 'huber', 'optimizer': 'Adam'}\n",
      "\n",
      "Starting Trial 32\n",
      "Hyperparameters: {'input_chunk_length': 45, 'output_chunk_length': 6, 'dropout': 0.1387291971256598, 'batch_size': 80, 'lr': 2.5926244483609487e-05, 'weight_decay': 0.00015835267532352223, 'num_layers': 2, 'num_blocks': 4, 'num_stacks': 3, 'layer_widths': 240, 'activation': 'GELU', 'loss_fn': 'huber', 'optimizer': 'AdamW'}\n",
      "\n",
      "Training the model...\n",
      "Train set: 6647 samples\n",
      "Validation set: 1662 samples\n"
     ]
    },
    {
     "name": "stderr",
     "output_type": "stream",
     "text": [
      "Metric val_loss improved. New best score: 0.038\n",
      "Metric val_loss improved by 0.004 >= min_delta = 0.0005. New best score: 0.035\n",
      "Metric val_loss improved by 0.004 >= min_delta = 0.0005. New best score: 0.031\n",
      "Metric val_loss improved by 0.004 >= min_delta = 0.0005. New best score: 0.027\n",
      "Metric val_loss improved by 0.002 >= min_delta = 0.0005. New best score: 0.025\n",
      "Metric val_loss improved by 0.002 >= min_delta = 0.0005. New best score: 0.023\n",
      "Metric val_loss improved by 0.001 >= min_delta = 0.0005. New best score: 0.022\n",
      "Metric val_loss improved by 0.001 >= min_delta = 0.0005. New best score: 0.021\n",
      "Metric val_loss improved by 0.001 >= min_delta = 0.0005. New best score: 0.021\n",
      "Metric val_loss improved by 0.001 >= min_delta = 0.0005. New best score: 0.020\n",
      "Metric val_loss improved by 0.001 >= min_delta = 0.0005. New best score: 0.019\n",
      "Metric val_loss improved by 0.001 >= min_delta = 0.0005. New best score: 0.019\n",
      "Metric val_loss improved by 0.001 >= min_delta = 0.0005. New best score: 0.018\n",
      "Metric val_loss improved by 0.001 >= min_delta = 0.0005. New best score: 0.017\n",
      "`Trainer.fit` stopped: `max_epochs=30` reached.\n",
      "GPU available: True (cuda), used: True\n",
      "TPU available: False, using: 0 TPU cores\n",
      "HPU available: False, using: 0 HPUs\n",
      "LOCAL_RANK: 0 - CUDA_VISIBLE_DEVICES: [0]\n"
     ]
    },
    {
     "name": "stdout",
     "output_type": "stream",
     "text": [
      "Model loaded from checkpoint for trial 32\n"
     ]
    },
    {
     "name": "stderr",
     "output_type": "stream",
     "text": [
      "/home/eduardo/Documentos/Water-Cycle-Neural-Network/venv/lib/python3.12/site-packages/pytorch_lightning/trainer/connectors/data_connector.py:425: The 'predict_dataloader' does not have many workers which may be a bottleneck. Consider increasing the value of the `num_workers` argument` to `num_workers=11` in the `DataLoader` to improve performance.\n",
      "[I 2025-05-26 17:54:30,707] Trial 32 finished with value: 0.12656543807392978 and parameters: {'input_chunk_length': 45, 'output_chunk_length': 6, 'dropout': 0.1387291971256598, 'batch_size': 80, 'lr': 2.5926244483609487e-05, 'weight_decay': 0.00015835267532352223, 'num_layers': 2, 'num_blocks': 4, 'num_stacks': 3, 'layer_widths': 240, 'activation': 'GELU', 'loss_fn': 'huber', 'optimizer': 'AdamW'}. Best is trial 32 with value: 0.12656543807392978.\n",
      "Specified future encoders in `add_encoders` at model creation but model does not accept future covariates. future encoders will be ignored.\n",
      "GPU available: True (cuda), used: True\n",
      "TPU available: False, using: 0 TPU cores\n",
      "HPU available: False, using: 0 HPUs\n",
      "LOCAL_RANK: 0 - CUDA_VISIBLE_DEVICES: [0]\n"
     ]
    },
    {
     "name": "stdout",
     "output_type": "stream",
     "text": [
      "Starting time series verification for consistency...\n",
      "\n",
      "Performance metrics:\n",
      "                                     MSE        RMSE         MAE         R2  \\\n",
      "Temperature                     8.216684    2.866476    2.256125   0.730346   \n",
      "Precipitation_accumulated     252.597164   15.893306   13.377291 -75.093819   \n",
      "Humidity                       75.574204    8.693343    7.037864   0.484511   \n",
      "Wind_Speed_kmh                  1.316451    1.147367    0.908668   0.021571   \n",
      "Soil_Moisture              141781.124861  376.538344  328.201525  -1.693181   \n",
      "Soil_Temperature                7.468838    2.732918    2.305143   0.535586   \n",
      "Wind_Dir_Sin                    0.589324    0.767675    0.672105  -0.070022   \n",
      "Wind_Dir_Cos                    0.387371    0.622391    0.531631  -0.055909   \n",
      "\n",
      "                                SMAPE  \n",
      "Temperature                 35.102675  \n",
      "Precipitation_accumulated    2.926615  \n",
      "Humidity                     8.293725  \n",
      "Wind_Speed_kmh              74.007218  \n",
      "Soil_Moisture                3.901488  \n",
      "Soil_Temperature            47.621059  \n",
      "Wind_Dir_Sin               140.340554  \n",
      "Wind_Dir_Cos               130.068771  \n",
      "The MAE for this fold was 0.12656543807392978\n",
      "Results of trial 32 saved in optuna_iteration_metrics/trial_32.json\n",
      "Current value: 0.12656543807392978, Current params: {'input_chunk_length': 45, 'output_chunk_length': 6, 'dropout': 0.1387291971256598, 'batch_size': 80, 'lr': 2.5926244483609487e-05, 'weight_decay': 0.00015835267532352223, 'num_layers': 2, 'num_blocks': 4, 'num_stacks': 3, 'layer_widths': 240, 'activation': 'GELU', 'loss_fn': 'huber', 'optimizer': 'AdamW'}\n",
      "Best value: 0.12656543807392978, Best params: {'input_chunk_length': 45, 'output_chunk_length': 6, 'dropout': 0.1387291971256598, 'batch_size': 80, 'lr': 2.5926244483609487e-05, 'weight_decay': 0.00015835267532352223, 'num_layers': 2, 'num_blocks': 4, 'num_stacks': 3, 'layer_widths': 240, 'activation': 'GELU', 'loss_fn': 'huber', 'optimizer': 'AdamW'}\n",
      "\n",
      "Starting Trial 33\n",
      "Hyperparameters: {'input_chunk_length': 49, 'output_chunk_length': 6, 'dropout': 0.12760059033834878, 'batch_size': 70, 'lr': 7.775953872775765e-05, 'weight_decay': 0.00011542877896340035, 'num_layers': 2, 'num_blocks': 4, 'num_stacks': 3, 'layer_widths': 242, 'activation': 'GELU', 'loss_fn': 'huber', 'optimizer': 'AdamW'}\n",
      "\n",
      "Training the model...\n",
      "Train set: 6647 samples\n",
      "Validation set: 1662 samples\n"
     ]
    },
    {
     "name": "stderr",
     "output_type": "stream",
     "text": [
      "Metric val_loss improved. New best score: 0.032\n",
      "Metric val_loss improved by 0.008 >= min_delta = 0.0005. New best score: 0.024\n",
      "Metric val_loss improved by 0.002 >= min_delta = 0.0005. New best score: 0.022\n",
      "Metric val_loss improved by 0.001 >= min_delta = 0.0005. New best score: 0.020\n",
      "Metric val_loss improved by 0.001 >= min_delta = 0.0005. New best score: 0.019\n",
      "Metric val_loss improved by 0.001 >= min_delta = 0.0005. New best score: 0.018\n",
      "Metric val_loss improved by 0.001 >= min_delta = 0.0005. New best score: 0.018\n",
      "Monitored metric val_loss did not improve in the last 15 records. Best score: 0.018. Signaling Trainer to stop.\n",
      "GPU available: True (cuda), used: True\n",
      "TPU available: False, using: 0 TPU cores\n",
      "HPU available: False, using: 0 HPUs\n",
      "LOCAL_RANK: 0 - CUDA_VISIBLE_DEVICES: [0]\n"
     ]
    },
    {
     "name": "stdout",
     "output_type": "stream",
     "text": [
      "Model loaded from checkpoint for trial 33\n"
     ]
    },
    {
     "name": "stderr",
     "output_type": "stream",
     "text": [
      "/home/eduardo/Documentos/Water-Cycle-Neural-Network/venv/lib/python3.12/site-packages/pytorch_lightning/trainer/connectors/data_connector.py:425: The 'predict_dataloader' does not have many workers which may be a bottleneck. Consider increasing the value of the `num_workers` argument` to `num_workers=11` in the `DataLoader` to improve performance.\n",
      "[I 2025-05-26 17:56:06,803] Trial 33 finished with value: 0.1251374640308459 and parameters: {'input_chunk_length': 49, 'output_chunk_length': 6, 'dropout': 0.12760059033834878, 'batch_size': 70, 'lr': 7.775953872775765e-05, 'weight_decay': 0.00011542877896340035, 'num_layers': 2, 'num_blocks': 4, 'num_stacks': 3, 'layer_widths': 242, 'activation': 'GELU', 'loss_fn': 'huber', 'optimizer': 'AdamW'}. Best is trial 33 with value: 0.1251374640308459.\n",
      "Specified future encoders in `add_encoders` at model creation but model does not accept future covariates. future encoders will be ignored.\n",
      "GPU available: True (cuda), used: True\n",
      "TPU available: False, using: 0 TPU cores\n",
      "HPU available: False, using: 0 HPUs\n",
      "LOCAL_RANK: 0 - CUDA_VISIBLE_DEVICES: [0]\n"
     ]
    },
    {
     "name": "stdout",
     "output_type": "stream",
     "text": [
      "Starting time series verification for consistency...\n",
      "\n",
      "Performance metrics:\n",
      "                                     MSE        RMSE         MAE         R2  \\\n",
      "Temperature                     8.384477    2.895596    2.269568   0.724402   \n",
      "Precipitation_accumulated     179.307727   13.390584   10.536297 -53.378862   \n",
      "Humidity                       71.010385    8.426766    6.874921   0.515462   \n",
      "Wind_Speed_kmh                  1.391699    1.179703    0.940587  -0.035802   \n",
      "Soil_Moisture              101680.989880  318.874568  260.973785  -0.964454   \n",
      "Soil_Temperature                6.374070    2.524692    2.121744   0.602853   \n",
      "Wind_Dir_Sin                    0.598372    0.773545    0.691752  -0.084418   \n",
      "Wind_Dir_Cos                    0.389611    0.624188    0.533344  -0.062557   \n",
      "\n",
      "                                SMAPE  \n",
      "Temperature                 35.658084  \n",
      "Precipitation_accumulated    2.274541  \n",
      "Humidity                     8.114351  \n",
      "Wind_Speed_kmh              74.565286  \n",
      "Soil_Moisture                3.100554  \n",
      "Soil_Temperature            41.682308  \n",
      "Wind_Dir_Sin               151.091008  \n",
      "Wind_Dir_Cos               132.369032  \n",
      "The MAE for this fold was 0.1251374640308459\n",
      "Results of trial 33 saved in optuna_iteration_metrics/trial_33.json\n",
      "Current value: 0.1251374640308459, Current params: {'input_chunk_length': 49, 'output_chunk_length': 6, 'dropout': 0.12760059033834878, 'batch_size': 70, 'lr': 7.775953872775765e-05, 'weight_decay': 0.00011542877896340035, 'num_layers': 2, 'num_blocks': 4, 'num_stacks': 3, 'layer_widths': 242, 'activation': 'GELU', 'loss_fn': 'huber', 'optimizer': 'AdamW'}\n",
      "Best value: 0.1251374640308459, Best params: {'input_chunk_length': 49, 'output_chunk_length': 6, 'dropout': 0.12760059033834878, 'batch_size': 70, 'lr': 7.775953872775765e-05, 'weight_decay': 0.00011542877896340035, 'num_layers': 2, 'num_blocks': 4, 'num_stacks': 3, 'layer_widths': 242, 'activation': 'GELU', 'loss_fn': 'huber', 'optimizer': 'AdamW'}\n",
      "\n",
      "Starting Trial 34\n",
      "Hyperparameters: {'input_chunk_length': 48, 'output_chunk_length': 5, 'dropout': 0.13830154687222643, 'batch_size': 80, 'lr': 6.67945676325155e-05, 'weight_decay': 0.0001270570031537118, 'num_layers': 3, 'num_blocks': 4, 'num_stacks': 2, 'layer_widths': 221, 'activation': 'GELU', 'loss_fn': 'huber', 'optimizer': 'AdamW'}\n",
      "\n",
      "Training the model...\n",
      "Train set: 6647 samples\n",
      "Validation set: 1662 samples\n"
     ]
    },
    {
     "name": "stderr",
     "output_type": "stream",
     "text": [
      "Metric val_loss improved. New best score: 0.040\n",
      "Metric val_loss improved by 0.010 >= min_delta = 0.0005. New best score: 0.030\n",
      "Metric val_loss improved by 0.007 >= min_delta = 0.0005. New best score: 0.024\n",
      "Metric val_loss improved by 0.002 >= min_delta = 0.0005. New best score: 0.021\n",
      "Metric val_loss improved by 0.001 >= min_delta = 0.0005. New best score: 0.021\n",
      "Metric val_loss improved by 0.001 >= min_delta = 0.0005. New best score: 0.020\n",
      "Metric val_loss improved by 0.001 >= min_delta = 0.0005. New best score: 0.019\n",
      "Metric val_loss improved by 0.001 >= min_delta = 0.0005. New best score: 0.019\n",
      "Monitored metric val_loss did not improve in the last 15 records. Best score: 0.019. Signaling Trainer to stop.\n",
      "GPU available: True (cuda), used: True\n",
      "TPU available: False, using: 0 TPU cores\n",
      "HPU available: False, using: 0 HPUs\n",
      "LOCAL_RANK: 0 - CUDA_VISIBLE_DEVICES: [0]\n"
     ]
    },
    {
     "name": "stdout",
     "output_type": "stream",
     "text": [
      "Model loaded from checkpoint for trial 34\n"
     ]
    },
    {
     "name": "stderr",
     "output_type": "stream",
     "text": [
      "/home/eduardo/Documentos/Water-Cycle-Neural-Network/venv/lib/python3.12/site-packages/pytorch_lightning/trainer/connectors/data_connector.py:425: The 'predict_dataloader' does not have many workers which may be a bottleneck. Consider increasing the value of the `num_workers` argument` to `num_workers=11` in the `DataLoader` to improve performance.\n",
      "[I 2025-05-26 17:57:46,039] Trial 34 finished with value: 0.1326863468021402 and parameters: {'input_chunk_length': 48, 'output_chunk_length': 5, 'dropout': 0.13830154687222643, 'batch_size': 80, 'lr': 6.67945676325155e-05, 'weight_decay': 0.0001270570031537118, 'num_layers': 3, 'num_blocks': 4, 'num_stacks': 2, 'layer_widths': 221, 'activation': 'GELU', 'loss_fn': 'huber', 'optimizer': 'AdamW'}. Best is trial 33 with value: 0.1251374640308459.\n",
      "Specified future encoders in `add_encoders` at model creation but model does not accept future covariates. future encoders will be ignored.\n",
      "GPU available: True (cuda), used: True\n",
      "TPU available: False, using: 0 TPU cores\n",
      "HPU available: False, using: 0 HPUs\n",
      "LOCAL_RANK: 0 - CUDA_VISIBLE_DEVICES: [0]\n"
     ]
    },
    {
     "name": "stdout",
     "output_type": "stream",
     "text": [
      "Starting time series verification for consistency...\n",
      "\n",
      "Performance metrics:\n",
      "                                    MSE        RMSE         MAE          R2  \\\n",
      "Temperature                    8.665768    2.943768    2.324282    0.715331   \n",
      "Precipitation_accumulated   1729.901741   41.592087   36.361104 -521.866388   \n",
      "Humidity                      90.553143    9.515942    7.936672    0.382227   \n",
      "Wind_Speed_kmh                 1.304838    1.142295    0.899510    0.029512   \n",
      "Soil_Moisture              94492.235227  307.395893  244.872229   -0.809722   \n",
      "Soil_Temperature               9.133102    3.022102    2.517007    0.431510   \n",
      "Wind_Dir_Sin                   0.582969    0.763524    0.670276   -0.057557   \n",
      "Wind_Dir_Cos                   0.421171    0.648977    0.537623   -0.148328   \n",
      "\n",
      "                                SMAPE  \n",
      "Temperature                 36.206947  \n",
      "Precipitation_accumulated    8.237674  \n",
      "Humidity                     9.362792  \n",
      "Wind_Speed_kmh              73.850474  \n",
      "Soil_Moisture                2.903545  \n",
      "Soil_Temperature            45.738169  \n",
      "Wind_Dir_Sin               139.301721  \n",
      "Wind_Dir_Cos               117.073755  \n",
      "The MAE for this fold was 0.1326863468021402\n",
      "Results of trial 34 saved in optuna_iteration_metrics/trial_34.json\n",
      "Current value: 0.1326863468021402, Current params: {'input_chunk_length': 48, 'output_chunk_length': 5, 'dropout': 0.13830154687222643, 'batch_size': 80, 'lr': 6.67945676325155e-05, 'weight_decay': 0.0001270570031537118, 'num_layers': 3, 'num_blocks': 4, 'num_stacks': 2, 'layer_widths': 221, 'activation': 'GELU', 'loss_fn': 'huber', 'optimizer': 'AdamW'}\n",
      "Best value: 0.1251374640308459, Best params: {'input_chunk_length': 49, 'output_chunk_length': 6, 'dropout': 0.12760059033834878, 'batch_size': 70, 'lr': 7.775953872775765e-05, 'weight_decay': 0.00011542877896340035, 'num_layers': 2, 'num_blocks': 4, 'num_stacks': 3, 'layer_widths': 242, 'activation': 'GELU', 'loss_fn': 'huber', 'optimizer': 'AdamW'}\n",
      "\n",
      "Starting Trial 35\n",
      "Hyperparameters: {'input_chunk_length': 45, 'output_chunk_length': 1, 'dropout': 0.1300946376042601, 'batch_size': 104, 'lr': 0.00011494227662736073, 'weight_decay': 8.444384638688174e-05, 'num_layers': 1, 'num_blocks': 4, 'num_stacks': 3, 'layer_widths': 243, 'activation': 'GELU', 'loss_fn': 'huber', 'optimizer': 'AdamW'}\n",
      "\n",
      "Training the model...\n",
      "Train set: 6647 samples\n",
      "Validation set: 1662 samples\n"
     ]
    },
    {
     "name": "stderr",
     "output_type": "stream",
     "text": [
      "Metric val_loss improved. New best score: 0.026\n",
      "Metric val_loss improved by 0.005 >= min_delta = 0.0005. New best score: 0.021\n",
      "Metric val_loss improved by 0.002 >= min_delta = 0.0005. New best score: 0.019\n",
      "Metric val_loss improved by 0.001 >= min_delta = 0.0005. New best score: 0.017\n",
      "Metric val_loss improved by 0.001 >= min_delta = 0.0005. New best score: 0.016\n",
      "Metric val_loss improved by 0.001 >= min_delta = 0.0005. New best score: 0.015\n",
      "Metric val_loss improved by 0.001 >= min_delta = 0.0005. New best score: 0.014\n",
      "Metric val_loss improved by 0.001 >= min_delta = 0.0005. New best score: 0.014\n",
      "`Trainer.fit` stopped: `max_epochs=30` reached.\n",
      "GPU available: True (cuda), used: True\n",
      "TPU available: False, using: 0 TPU cores\n",
      "HPU available: False, using: 0 HPUs\n",
      "LOCAL_RANK: 0 - CUDA_VISIBLE_DEVICES: [0]\n"
     ]
    },
    {
     "name": "stdout",
     "output_type": "stream",
     "text": [
      "Model loaded from checkpoint for trial 35\n"
     ]
    },
    {
     "name": "stderr",
     "output_type": "stream",
     "text": [
      "/home/eduardo/Documentos/Water-Cycle-Neural-Network/venv/lib/python3.12/site-packages/pytorch_lightning/trainer/connectors/data_connector.py:425: The 'predict_dataloader' does not have many workers which may be a bottleneck. Consider increasing the value of the `num_workers` argument` to `num_workers=11` in the `DataLoader` to improve performance.\n",
      "[I 2025-05-26 17:59:27,130] Trial 35 finished with value: 0.10596477232492901 and parameters: {'input_chunk_length': 45, 'output_chunk_length': 1, 'dropout': 0.1300946376042601, 'batch_size': 104, 'lr': 0.00011494227662736073, 'weight_decay': 8.444384638688174e-05, 'num_layers': 1, 'num_blocks': 4, 'num_stacks': 3, 'layer_widths': 243, 'activation': 'GELU', 'loss_fn': 'huber', 'optimizer': 'AdamW'}. Best is trial 35 with value: 0.10596477232492901.\n",
      "Specified future encoders in `add_encoders` at model creation but model does not accept future covariates. future encoders will be ignored.\n",
      "GPU available: True (cuda), used: True\n",
      "TPU available: False, using: 0 TPU cores\n",
      "HPU available: False, using: 0 HPUs\n",
      "LOCAL_RANK: 0 - CUDA_VISIBLE_DEVICES: [0]\n"
     ]
    },
    {
     "name": "stdout",
     "output_type": "stream",
     "text": [
      "Starting time series verification for consistency...\n",
      "\n",
      "Performance metrics:\n",
      "                                    MSE        RMSE         MAE         R2  \\\n",
      "Temperature                    9.477904    3.078620    2.529357   0.689550   \n",
      "Precipitation_accumulated    265.881438   16.305871   13.083155 -78.441187   \n",
      "Humidity                      47.645683    6.902585    5.460048   0.675152   \n",
      "Wind_Speed_kmh                 0.828809    0.910389    0.696370   0.384549   \n",
      "Soil_Moisture              29738.888936  172.449671  135.836109   0.445380   \n",
      "Soil_Temperature               7.564245    2.750317    2.252633   0.530677   \n",
      "Wind_Dir_Sin                   0.408070    0.638804    0.558087   0.259453   \n",
      "Wind_Dir_Cos                   0.328009    0.572721    0.483864   0.105530   \n",
      "\n",
      "                                SMAPE  \n",
      "Temperature                 38.863551  \n",
      "Precipitation_accumulated    2.833230  \n",
      "Humidity                     6.430232  \n",
      "Wind_Speed_kmh              65.895586  \n",
      "Soil_Moisture                1.581133  \n",
      "Soil_Temperature            42.536258  \n",
      "Wind_Dir_Sin               119.297419  \n",
      "Wind_Dir_Cos               126.740010  \n",
      "The MAE for this fold was 0.10596477232492901\n",
      "Results of trial 35 saved in optuna_iteration_metrics/trial_35.json\n",
      "Current value: 0.10596477232492901, Current params: {'input_chunk_length': 45, 'output_chunk_length': 1, 'dropout': 0.1300946376042601, 'batch_size': 104, 'lr': 0.00011494227662736073, 'weight_decay': 8.444384638688174e-05, 'num_layers': 1, 'num_blocks': 4, 'num_stacks': 3, 'layer_widths': 243, 'activation': 'GELU', 'loss_fn': 'huber', 'optimizer': 'AdamW'}\n",
      "Best value: 0.10596477232492901, Best params: {'input_chunk_length': 45, 'output_chunk_length': 1, 'dropout': 0.1300946376042601, 'batch_size': 104, 'lr': 0.00011494227662736073, 'weight_decay': 8.444384638688174e-05, 'num_layers': 1, 'num_blocks': 4, 'num_stacks': 3, 'layer_widths': 243, 'activation': 'GELU', 'loss_fn': 'huber', 'optimizer': 'AdamW'}\n",
      "\n",
      "Starting Trial 36\n",
      "Hyperparameters: {'input_chunk_length': 44, 'output_chunk_length': 1, 'dropout': 0.13935607454375976, 'batch_size': 130, 'lr': 0.00026137513582092736, 'weight_decay': 1.8174493925877635e-05, 'num_layers': 1, 'num_blocks': 3, 'num_stacks': 2, 'layer_widths': 241, 'activation': 'ReLU', 'loss_fn': 'huber', 'optimizer': 'AdamW'}\n",
      "\n",
      "Training the model...\n",
      "Train set: 6647 samples\n",
      "Validation set: 1662 samples\n"
     ]
    },
    {
     "name": "stderr",
     "output_type": "stream",
     "text": [
      "Metric val_loss improved. New best score: 0.024\n",
      "Metric val_loss improved by 0.002 >= min_delta = 0.0005. New best score: 0.022\n",
      "Metric val_loss improved by 0.001 >= min_delta = 0.0005. New best score: 0.021\n",
      "Metric val_loss improved by 0.002 >= min_delta = 0.0005. New best score: 0.018\n",
      "Metric val_loss improved by 0.001 >= min_delta = 0.0005. New best score: 0.017\n",
      "Metric val_loss improved by 0.001 >= min_delta = 0.0005. New best score: 0.016\n",
      "Metric val_loss improved by 0.001 >= min_delta = 0.0005. New best score: 0.016\n",
      "Metric val_loss improved by 0.001 >= min_delta = 0.0005. New best score: 0.015\n",
      "`Trainer.fit` stopped: `max_epochs=30` reached.\n",
      "GPU available: True (cuda), used: True\n",
      "TPU available: False, using: 0 TPU cores\n",
      "HPU available: False, using: 0 HPUs\n",
      "LOCAL_RANK: 0 - CUDA_VISIBLE_DEVICES: [0]\n"
     ]
    },
    {
     "name": "stdout",
     "output_type": "stream",
     "text": [
      "Model loaded from checkpoint for trial 36\n"
     ]
    },
    {
     "name": "stderr",
     "output_type": "stream",
     "text": [
      "/home/eduardo/Documentos/Water-Cycle-Neural-Network/venv/lib/python3.12/site-packages/pytorch_lightning/trainer/connectors/data_connector.py:425: The 'predict_dataloader' does not have many workers which may be a bottleneck. Consider increasing the value of the `num_workers` argument` to `num_workers=11` in the `DataLoader` to improve performance.\n",
      "[I 2025-05-26 18:00:53,880] Trial 36 finished with value: 0.11598708719544254 and parameters: {'input_chunk_length': 44, 'output_chunk_length': 1, 'dropout': 0.13935607454375976, 'batch_size': 130, 'lr': 0.00026137513582092736, 'weight_decay': 1.8174493925877635e-05, 'num_layers': 1, 'num_blocks': 3, 'num_stacks': 2, 'layer_widths': 241, 'activation': 'ReLU', 'loss_fn': 'huber', 'optimizer': 'AdamW'}. Best is trial 35 with value: 0.10596477232492901.\n",
      "Specified future encoders in `add_encoders` at model creation but model does not accept future covariates. future encoders will be ignored.\n",
      "GPU available: True (cuda), used: True\n",
      "TPU available: False, using: 0 TPU cores\n",
      "HPU available: False, using: 0 HPUs\n",
      "LOCAL_RANK: 0 - CUDA_VISIBLE_DEVICES: [0]\n"
     ]
    },
    {
     "name": "stdout",
     "output_type": "stream",
     "text": [
      "Starting time series verification for consistency...\n",
      "\n",
      "Performance metrics:\n",
      "                                     MSE        RMSE         MAE          R2  \\\n",
      "Temperature                     7.846934    2.801238    2.207524    0.743040   \n",
      "Precipitation_accumulated    1291.538529   35.937982   30.721595 -384.267313   \n",
      "Humidity                       47.427017    6.886728    5.561527    0.676670   \n",
      "Wind_Speed_kmh                  1.192678    1.092098    0.859027    0.114699   \n",
      "Soil_Moisture              115582.129150  339.973718  265.450215   -1.148268   \n",
      "Soil_Temperature               11.285412    3.359377    2.777689    0.300043   \n",
      "Wind_Dir_Sin                    0.442532    0.665231    0.552433    0.197680   \n",
      "Wind_Dir_Cos                    0.311180    0.557835    0.466199    0.150968   \n",
      "\n",
      "                                SMAPE  \n",
      "Temperature                 36.349761  \n",
      "Precipitation_accumulated    6.917340  \n",
      "Humidity                     6.614287  \n",
      "Wind_Speed_kmh              70.807313  \n",
      "Soil_Moisture                3.050576  \n",
      "Soil_Temperature            56.986010  \n",
      "Wind_Dir_Sin               114.448076  \n",
      "Wind_Dir_Cos               118.485023  \n",
      "The MAE for this fold was 0.11598708719544254\n",
      "Results of trial 36 saved in optuna_iteration_metrics/trial_36.json\n",
      "Current value: 0.11598708719544254, Current params: {'input_chunk_length': 44, 'output_chunk_length': 1, 'dropout': 0.13935607454375976, 'batch_size': 130, 'lr': 0.00026137513582092736, 'weight_decay': 1.8174493925877635e-05, 'num_layers': 1, 'num_blocks': 3, 'num_stacks': 2, 'layer_widths': 241, 'activation': 'ReLU', 'loss_fn': 'huber', 'optimizer': 'AdamW'}\n",
      "Best value: 0.10596477232492901, Best params: {'input_chunk_length': 45, 'output_chunk_length': 1, 'dropout': 0.1300946376042601, 'batch_size': 104, 'lr': 0.00011494227662736073, 'weight_decay': 8.444384638688174e-05, 'num_layers': 1, 'num_blocks': 4, 'num_stacks': 3, 'layer_widths': 243, 'activation': 'GELU', 'loss_fn': 'huber', 'optimizer': 'AdamW'}\n",
      "\n",
      "Starting Trial 37\n",
      "Hyperparameters: {'input_chunk_length': 36, 'output_chunk_length': 1, 'dropout': 0.13194447614846078, 'batch_size': 135, 'lr': 0.0004253158965833567, 'weight_decay': 1.0479938132497744e-05, 'num_layers': 1, 'num_blocks': 3, 'num_stacks': 2, 'layer_widths': 241, 'activation': 'ReLU', 'loss_fn': 'mae', 'optimizer': 'AdamW'}\n",
      "\n",
      "Training the model...\n",
      "Train set: 6647 samples\n",
      "Validation set: 1662 samples\n"
     ]
    },
    {
     "name": "stderr",
     "output_type": "stream",
     "text": [
      "[I 2025-05-26 18:00:58,085] Trial 37 pruned. Trial was pruned at epoch 0.\n"
     ]
    },
    {
     "name": "stdout",
     "output_type": "stream",
     "text": [
      "Current value: 0.17062995912052686, Current params: {'input_chunk_length': 36, 'output_chunk_length': 1, 'dropout': 0.13194447614846078, 'batch_size': 135, 'lr': 0.0004253158965833567, 'weight_decay': 1.0479938132497744e-05, 'num_layers': 1, 'num_blocks': 3, 'num_stacks': 2, 'layer_widths': 241, 'activation': 'ReLU', 'loss_fn': 'mae', 'optimizer': 'AdamW'}\n",
      "Best value: 0.10596477232492901, Best params: {'input_chunk_length': 45, 'output_chunk_length': 1, 'dropout': 0.1300946376042601, 'batch_size': 104, 'lr': 0.00011494227662736073, 'weight_decay': 8.444384638688174e-05, 'num_layers': 1, 'num_blocks': 4, 'num_stacks': 3, 'layer_widths': 243, 'activation': 'GELU', 'loss_fn': 'huber', 'optimizer': 'AdamW'}\n",
      "\n",
      "Starting Trial 38\n",
      "Hyperparameters: {'input_chunk_length': 36, 'output_chunk_length': 3, 'dropout': 0.12907638292934617, 'batch_size': 154, 'lr': 0.000256669242079679, 'weight_decay': 2.0712546382680315e-05, 'num_layers': 1, 'num_blocks': 3, 'num_stacks': 1, 'layer_widths': 221, 'activation': 'ReLU', 'loss_fn': 'huber', 'optimizer': 'AdamW'}\n",
      "\n",
      "Training the model...\n",
      "Train set: 6647 samples\n",
      "Validation set: 1662 samples\n"
     ]
    },
    {
     "name": "stderr",
     "output_type": "stream",
     "text": [
      "Specified future encoders in `add_encoders` at model creation but model does not accept future covariates. future encoders will be ignored.\n",
      "GPU available: True (cuda), used: True\n",
      "TPU available: False, using: 0 TPU cores\n",
      "HPU available: False, using: 0 HPUs\n",
      "LOCAL_RANK: 0 - CUDA_VISIBLE_DEVICES: [0]\n",
      "[I 2025-05-26 18:01:47,389] Trial 38 pruned. Trial was pruned at epoch 0.\n",
      "Specified future encoders in `add_encoders` at model creation but model does not accept future covariates. future encoders will be ignored.\n",
      "GPU available: True (cuda), used: True\n",
      "TPU available: False, using: 0 TPU cores\n",
      "HPU available: False, using: 0 HPUs\n",
      "LOCAL_RANK: 0 - CUDA_VISIBLE_DEVICES: [0]\n"
     ]
    },
    {
     "name": "stdout",
     "output_type": "stream",
     "text": [
      "Current value: 0.04156118100321558, Current params: {'input_chunk_length': 36, 'output_chunk_length': 3, 'dropout': 0.12907638292934617, 'batch_size': 154, 'lr': 0.000256669242079679, 'weight_decay': 2.0712546382680315e-05, 'num_layers': 1, 'num_blocks': 3, 'num_stacks': 1, 'layer_widths': 221, 'activation': 'ReLU', 'loss_fn': 'huber', 'optimizer': 'AdamW'}\n",
      "Best value: 0.10596477232492901, Best params: {'input_chunk_length': 45, 'output_chunk_length': 1, 'dropout': 0.1300946376042601, 'batch_size': 104, 'lr': 0.00011494227662736073, 'weight_decay': 8.444384638688174e-05, 'num_layers': 1, 'num_blocks': 4, 'num_stacks': 3, 'layer_widths': 243, 'activation': 'GELU', 'loss_fn': 'huber', 'optimizer': 'AdamW'}\n",
      "\n",
      "Starting Trial 39\n",
      "Hyperparameters: {'input_chunk_length': 45, 'output_chunk_length': 2, 'dropout': 0.14599785047052277, 'batch_size': 147, 'lr': 0.00010275425665844759, 'weight_decay': 6.709937140101322e-05, 'num_layers': 3, 'num_blocks': 3, 'num_stacks': 3, 'layer_widths': 147, 'activation': 'ReLU', 'loss_fn': 'huber', 'optimizer': 'AdamW'}\n",
      "\n",
      "Training the model...\n",
      "Train set: 6647 samples\n",
      "Validation set: 1662 samples\n"
     ]
    },
    {
     "name": "stderr",
     "output_type": "stream",
     "text": [
      "[I 2025-05-26 18:01:51,869] Trial 39 pruned. Trial was pruned at epoch 0.\n",
      "Specified future encoders in `add_encoders` at model creation but model does not accept future covariates. future encoders will be ignored.\n",
      "GPU available: True (cuda), used: True\n",
      "TPU available: False, using: 0 TPU cores\n",
      "HPU available: False, using: 0 HPUs\n",
      "LOCAL_RANK: 0 - CUDA_VISIBLE_DEVICES: [0]\n"
     ]
    },
    {
     "name": "stdout",
     "output_type": "stream",
     "text": [
      "Current value: 0.04447747618975284, Current params: {'input_chunk_length': 45, 'output_chunk_length': 2, 'dropout': 0.14599785047052277, 'batch_size': 147, 'lr': 0.00010275425665844759, 'weight_decay': 6.709937140101322e-05, 'num_layers': 3, 'num_blocks': 3, 'num_stacks': 3, 'layer_widths': 147, 'activation': 'ReLU', 'loss_fn': 'huber', 'optimizer': 'AdamW'}\n",
      "Best value: 0.10596477232492901, Best params: {'input_chunk_length': 45, 'output_chunk_length': 1, 'dropout': 0.1300946376042601, 'batch_size': 104, 'lr': 0.00011494227662736073, 'weight_decay': 8.444384638688174e-05, 'num_layers': 1, 'num_blocks': 4, 'num_stacks': 3, 'layer_widths': 243, 'activation': 'GELU', 'loss_fn': 'huber', 'optimizer': 'AdamW'}\n",
      "\n",
      "Starting Trial 40\n",
      "Hyperparameters: {'input_chunk_length': 51, 'output_chunk_length': 3, 'dropout': 0.11936879691684535, 'batch_size': 122, 'lr': 0.0007713440158224191, 'weight_decay': 6.271555256879919e-06, 'num_layers': 1, 'num_blocks': 1, 'num_stacks': 2, 'layer_widths': 243, 'activation': 'ReLU', 'loss_fn': 'smoothl1', 'optimizer': 'AdamW'}\n",
      "\n",
      "Training the model...\n",
      "Train set: 6647 samples\n",
      "Validation set: 1662 samples\n"
     ]
    },
    {
     "name": "stderr",
     "output_type": "stream",
     "text": [
      "Metric val_loss improved. New best score: 0.028\n",
      "Metric val_loss improved by 0.008 >= min_delta = 0.0005. New best score: 0.021\n",
      "Metric val_loss improved by 0.002 >= min_delta = 0.0005. New best score: 0.019\n",
      "Metric val_loss improved by 0.001 >= min_delta = 0.0005. New best score: 0.018\n",
      "Monitored metric val_loss did not improve in the last 15 records. Best score: 0.018. Signaling Trainer to stop.\n",
      "GPU available: True (cuda), used: True\n",
      "TPU available: False, using: 0 TPU cores\n",
      "HPU available: False, using: 0 HPUs\n",
      "LOCAL_RANK: 0 - CUDA_VISIBLE_DEVICES: [0]\n"
     ]
    },
    {
     "name": "stdout",
     "output_type": "stream",
     "text": [
      "Model loaded from checkpoint for trial 40\n"
     ]
    },
    {
     "name": "stderr",
     "output_type": "stream",
     "text": [
      "/home/eduardo/Documentos/Water-Cycle-Neural-Network/venv/lib/python3.12/site-packages/pytorch_lightning/trainer/connectors/data_connector.py:425: The 'predict_dataloader' does not have many workers which may be a bottleneck. Consider increasing the value of the `num_workers` argument` to `num_workers=11` in the `DataLoader` to improve performance.\n",
      "[I 2025-05-26 18:02:51,225] Trial 40 finished with value: 0.13999653496243697 and parameters: {'input_chunk_length': 51, 'output_chunk_length': 3, 'dropout': 0.11936879691684535, 'batch_size': 122, 'lr': 0.0007713440158224191, 'weight_decay': 6.271555256879919e-06, 'num_layers': 1, 'num_blocks': 1, 'num_stacks': 2, 'layer_widths': 243, 'activation': 'ReLU', 'loss_fn': 'smoothl1', 'optimizer': 'AdamW'}. Best is trial 35 with value: 0.10596477232492901.\n",
      "Specified future encoders in `add_encoders` at model creation but model does not accept future covariates. future encoders will be ignored.\n",
      "GPU available: True (cuda), used: True\n",
      "TPU available: False, using: 0 TPU cores\n",
      "HPU available: False, using: 0 HPUs\n",
      "LOCAL_RANK: 0 - CUDA_VISIBLE_DEVICES: [0]\n"
     ]
    },
    {
     "name": "stdout",
     "output_type": "stream",
     "text": [
      "Starting time series verification for consistency...\n",
      "\n",
      "Performance metrics:\n",
      "                                     MSE        RMSE         MAE          R2  \\\n",
      "Temperature                    12.437958    3.526749    2.742538    0.591255   \n",
      "Precipitation_accumulated    1203.608465   34.693061   27.977371 -363.404509   \n",
      "Humidity                      112.495597   10.606394    8.580245    0.232460   \n",
      "Wind_Speed_kmh                  1.339007    1.157155    0.900050    0.003723   \n",
      "Soil_Moisture              329719.312872  574.211906  508.732219   -5.341776   \n",
      "Soil_Temperature               16.053923    4.006735    3.381523    0.000201   \n",
      "Wind_Dir_Sin                    0.540346    0.735082    0.649756    0.020134   \n",
      "Wind_Dir_Cos                    0.385821    0.621145    0.522507   -0.051815   \n",
      "\n",
      "                                SMAPE  \n",
      "Temperature                 39.587034  \n",
      "Precipitation_accumulated    6.251753  \n",
      "Humidity                    10.030426  \n",
      "Wind_Speed_kmh              75.653785  \n",
      "Soil_Moisture                6.108636  \n",
      "Soil_Temperature            61.279439  \n",
      "Wind_Dir_Sin               141.300405  \n",
      "Wind_Dir_Cos               128.563566  \n",
      "The MAE for this fold was 0.13999653496243697\n",
      "Results of trial 40 saved in optuna_iteration_metrics/trial_40.json\n",
      "Current value: 0.13999653496243697, Current params: {'input_chunk_length': 51, 'output_chunk_length': 3, 'dropout': 0.11936879691684535, 'batch_size': 122, 'lr': 0.0007713440158224191, 'weight_decay': 6.271555256879919e-06, 'num_layers': 1, 'num_blocks': 1, 'num_stacks': 2, 'layer_widths': 243, 'activation': 'ReLU', 'loss_fn': 'smoothl1', 'optimizer': 'AdamW'}\n",
      "Best value: 0.10596477232492901, Best params: {'input_chunk_length': 45, 'output_chunk_length': 1, 'dropout': 0.1300946376042601, 'batch_size': 104, 'lr': 0.00011494227662736073, 'weight_decay': 8.444384638688174e-05, 'num_layers': 1, 'num_blocks': 4, 'num_stacks': 3, 'layer_widths': 243, 'activation': 'GELU', 'loss_fn': 'huber', 'optimizer': 'AdamW'}\n",
      "\n",
      "Starting Trial 41\n",
      "Hyperparameters: {'input_chunk_length': 44, 'output_chunk_length': 1, 'dropout': 0.18095756367968596, 'batch_size': 79, 'lr': 0.00011840180641434239, 'weight_decay': 5.599064880573156e-05, 'num_layers': 1, 'num_blocks': 4, 'num_stacks': 3, 'layer_widths': 221, 'activation': 'ReLU', 'loss_fn': 'huber', 'optimizer': 'AdamW'}\n",
      "\n",
      "Training the model...\n",
      "Train set: 6647 samples\n",
      "Validation set: 1662 samples\n"
     ]
    },
    {
     "name": "stderr",
     "output_type": "stream",
     "text": [
      "Metric val_loss improved. New best score: 0.024\n",
      "Metric val_loss improved by 0.002 >= min_delta = 0.0005. New best score: 0.022\n",
      "Metric val_loss improved by 0.001 >= min_delta = 0.0005. New best score: 0.021\n",
      "Metric val_loss improved by 0.002 >= min_delta = 0.0005. New best score: 0.020\n",
      "Metric val_loss improved by 0.002 >= min_delta = 0.0005. New best score: 0.018\n",
      "Metric val_loss improved by 0.001 >= min_delta = 0.0005. New best score: 0.017\n",
      "Metric val_loss improved by 0.001 >= min_delta = 0.0005. New best score: 0.017\n",
      "Metric val_loss improved by 0.001 >= min_delta = 0.0005. New best score: 0.015\n",
      "`Trainer.fit` stopped: `max_epochs=30` reached.\n",
      "GPU available: True (cuda), used: True\n",
      "TPU available: False, using: 0 TPU cores\n",
      "HPU available: False, using: 0 HPUs\n",
      "LOCAL_RANK: 0 - CUDA_VISIBLE_DEVICES: [0]\n"
     ]
    },
    {
     "name": "stdout",
     "output_type": "stream",
     "text": [
      "Model loaded from checkpoint for trial 41\n"
     ]
    },
    {
     "name": "stderr",
     "output_type": "stream",
     "text": [
      "/home/eduardo/Documentos/Water-Cycle-Neural-Network/venv/lib/python3.12/site-packages/pytorch_lightning/trainer/connectors/data_connector.py:425: The 'predict_dataloader' does not have many workers which may be a bottleneck. Consider increasing the value of the `num_workers` argument` to `num_workers=11` in the `DataLoader` to improve performance.\n",
      "[I 2025-05-26 18:06:06,257] Trial 41 finished with value: 0.11837825881270783 and parameters: {'input_chunk_length': 44, 'output_chunk_length': 1, 'dropout': 0.18095756367968596, 'batch_size': 79, 'lr': 0.00011840180641434239, 'weight_decay': 5.599064880573156e-05, 'num_layers': 1, 'num_blocks': 4, 'num_stacks': 3, 'layer_widths': 221, 'activation': 'ReLU', 'loss_fn': 'huber', 'optimizer': 'AdamW'}. Best is trial 35 with value: 0.10596477232492901.\n",
      "Specified future encoders in `add_encoders` at model creation but model does not accept future covariates. future encoders will be ignored.\n",
      "GPU available: True (cuda), used: True\n",
      "TPU available: False, using: 0 TPU cores\n",
      "HPU available: False, using: 0 HPUs\n",
      "LOCAL_RANK: 0 - CUDA_VISIBLE_DEVICES: [0]\n"
     ]
    },
    {
     "name": "stdout",
     "output_type": "stream",
     "text": [
      "Starting time series verification for consistency...\n",
      "\n",
      "Performance metrics:\n",
      "                                     MSE        RMSE         MAE          R2  \\\n",
      "Temperature                    10.476331    3.236716    2.596071    0.656937   \n",
      "Precipitation_accumulated    1560.029988   39.497215   31.669670 -464.358599   \n",
      "Humidity                       57.781690    7.601427    5.906450    0.606078   \n",
      "Wind_Speed_kmh                  1.224734    1.106677    0.871267    0.090904   \n",
      "Soil_Moisture              110682.778651  332.690214  266.201893   -1.057206   \n",
      "Soil_Temperature                5.807314    2.409837    1.937846    0.639812   \n",
      "Wind_Dir_Sin                    0.426356    0.652959    0.560616    0.227007   \n",
      "Wind_Dir_Cos                    0.342697    0.585403    0.493927    0.064975   \n",
      "\n",
      "                                SMAPE  \n",
      "Temperature                 48.498342  \n",
      "Precipitation_accumulated    7.178047  \n",
      "Humidity                     7.002248  \n",
      "Wind_Speed_kmh              73.068917  \n",
      "Soil_Moisture                3.114055  \n",
      "Soil_Temperature            34.546748  \n",
      "Wind_Dir_Sin               118.723631  \n",
      "Wind_Dir_Cos               127.454459  \n",
      "The MAE for this fold was 0.11837825881270783\n",
      "Results of trial 41 saved in optuna_iteration_metrics/trial_41.json\n",
      "Current value: 0.11837825881270783, Current params: {'input_chunk_length': 44, 'output_chunk_length': 1, 'dropout': 0.18095756367968596, 'batch_size': 79, 'lr': 0.00011840180641434239, 'weight_decay': 5.599064880573156e-05, 'num_layers': 1, 'num_blocks': 4, 'num_stacks': 3, 'layer_widths': 221, 'activation': 'ReLU', 'loss_fn': 'huber', 'optimizer': 'AdamW'}\n",
      "Best value: 0.10596477232492901, Best params: {'input_chunk_length': 45, 'output_chunk_length': 1, 'dropout': 0.1300946376042601, 'batch_size': 104, 'lr': 0.00011494227662736073, 'weight_decay': 8.444384638688174e-05, 'num_layers': 1, 'num_blocks': 4, 'num_stacks': 3, 'layer_widths': 243, 'activation': 'GELU', 'loss_fn': 'huber', 'optimizer': 'AdamW'}\n",
      "\n",
      "Starting Trial 42\n",
      "Hyperparameters: {'input_chunk_length': 43, 'output_chunk_length': 1, 'dropout': 0.1811076338274949, 'batch_size': 80, 'lr': 0.0002690380285600805, 'weight_decay': 5.4392643629753807e-05, 'num_layers': 1, 'num_blocks': 4, 'num_stacks': 3, 'layer_widths': 224, 'activation': 'ReLU', 'loss_fn': 'huber', 'optimizer': 'AdamW'}\n",
      "\n",
      "Training the model...\n",
      "Train set: 6647 samples\n",
      "Validation set: 1662 samples\n"
     ]
    },
    {
     "name": "stderr",
     "output_type": "stream",
     "text": [
      "Metric val_loss improved. New best score: 0.029\n",
      "Metric val_loss improved by 0.004 >= min_delta = 0.0005. New best score: 0.025\n",
      "Metric val_loss improved by 0.001 >= min_delta = 0.0005. New best score: 0.023\n",
      "Metric val_loss improved by 0.001 >= min_delta = 0.0005. New best score: 0.022\n",
      "Metric val_loss improved by 0.003 >= min_delta = 0.0005. New best score: 0.020\n",
      "Metric val_loss improved by 0.001 >= min_delta = 0.0005. New best score: 0.019\n",
      "Metric val_loss improved by 0.001 >= min_delta = 0.0005. New best score: 0.018\n",
      "Metric val_loss improved by 0.001 >= min_delta = 0.0005. New best score: 0.017\n",
      "Metric val_loss improved by 0.001 >= min_delta = 0.0005. New best score: 0.016\n",
      "Metric val_loss improved by 0.001 >= min_delta = 0.0005. New best score: 0.015\n",
      "`Trainer.fit` stopped: `max_epochs=30` reached.\n",
      "GPU available: True (cuda), used: True\n",
      "TPU available: False, using: 0 TPU cores\n",
      "HPU available: False, using: 0 HPUs\n",
      "LOCAL_RANK: 0 - CUDA_VISIBLE_DEVICES: [0]\n"
     ]
    },
    {
     "name": "stdout",
     "output_type": "stream",
     "text": [
      "Model loaded from checkpoint for trial 42\n"
     ]
    },
    {
     "name": "stderr",
     "output_type": "stream",
     "text": [
      "/home/eduardo/Documentos/Water-Cycle-Neural-Network/venv/lib/python3.12/site-packages/pytorch_lightning/trainer/connectors/data_connector.py:425: The 'predict_dataloader' does not have many workers which may be a bottleneck. Consider increasing the value of the `num_workers` argument` to `num_workers=11` in the `DataLoader` to improve performance.\n",
      "[I 2025-05-26 18:07:49,469] Trial 42 finished with value: 0.11902782619681163 and parameters: {'input_chunk_length': 43, 'output_chunk_length': 1, 'dropout': 0.1811076338274949, 'batch_size': 80, 'lr': 0.0002690380285600805, 'weight_decay': 5.4392643629753807e-05, 'num_layers': 1, 'num_blocks': 4, 'num_stacks': 3, 'layer_widths': 224, 'activation': 'ReLU', 'loss_fn': 'huber', 'optimizer': 'AdamW'}. Best is trial 35 with value: 0.10596477232492901.\n",
      "Specified future encoders in `add_encoders` at model creation but model does not accept future covariates. future encoders will be ignored.\n",
      "GPU available: True (cuda), used: True\n",
      "TPU available: False, using: 0 TPU cores\n",
      "HPU available: False, using: 0 HPUs\n",
      "LOCAL_RANK: 0 - CUDA_VISIBLE_DEVICES: [0]\n"
     ]
    },
    {
     "name": "stdout",
     "output_type": "stream",
     "text": [
      "Starting time series verification for consistency...\n",
      "\n",
      "Performance metrics:\n",
      "                                     MSE        RMSE         MAE          R2  \\\n",
      "Temperature                     7.821231    2.796646    2.210192    0.743980   \n",
      "Precipitation_accumulated    1597.022729   39.962767   33.100634 -474.626654   \n",
      "Humidity                       55.848076    7.473157    5.892169    0.619292   \n",
      "Wind_Speed_kmh                  1.234275    1.110979    0.918036    0.084182   \n",
      "Soil_Moisture              102277.232652  319.808118  259.541530   -0.894681   \n",
      "Soil_Temperature                7.974235    2.823869    2.296044    0.505559   \n",
      "Wind_Dir_Sin                    0.435911    0.660235    0.561680    0.210435   \n",
      "Wind_Dir_Cos                    0.351195    0.592617    0.493725    0.041273   \n",
      "\n",
      "                                SMAPE  \n",
      "Temperature                 36.355465  \n",
      "Precipitation_accumulated    7.496185  \n",
      "Humidity                     7.000864  \n",
      "Wind_Speed_kmh              71.909564  \n",
      "Soil_Moisture                3.059589  \n",
      "Soil_Temperature            46.922574  \n",
      "Wind_Dir_Sin               118.553476  \n",
      "Wind_Dir_Cos               118.340039  \n",
      "The MAE for this fold was 0.11902782619681163\n",
      "Results of trial 42 saved in optuna_iteration_metrics/trial_42.json\n",
      "Current value: 0.11902782619681163, Current params: {'input_chunk_length': 43, 'output_chunk_length': 1, 'dropout': 0.1811076338274949, 'batch_size': 80, 'lr': 0.0002690380285600805, 'weight_decay': 5.4392643629753807e-05, 'num_layers': 1, 'num_blocks': 4, 'num_stacks': 3, 'layer_widths': 224, 'activation': 'ReLU', 'loss_fn': 'huber', 'optimizer': 'AdamW'}\n",
      "Best value: 0.10596477232492901, Best params: {'input_chunk_length': 45, 'output_chunk_length': 1, 'dropout': 0.1300946376042601, 'batch_size': 104, 'lr': 0.00011494227662736073, 'weight_decay': 8.444384638688174e-05, 'num_layers': 1, 'num_blocks': 4, 'num_stacks': 3, 'layer_widths': 243, 'activation': 'GELU', 'loss_fn': 'huber', 'optimizer': 'AdamW'}\n",
      "\n",
      "Starting Trial 43\n",
      "Hyperparameters: {'input_chunk_length': 43, 'output_chunk_length': 1, 'dropout': 0.1781160490560954, 'batch_size': 73, 'lr': 0.00027700178569844736, 'weight_decay': 1.6462531167727664e-05, 'num_layers': 1, 'num_blocks': 4, 'num_stacks': 3, 'layer_widths': 225, 'activation': 'ReLU', 'loss_fn': 'huber', 'optimizer': 'AdamW'}\n",
      "\n",
      "Training the model...\n",
      "Train set: 6647 samples\n",
      "Validation set: 1662 samples\n"
     ]
    },
    {
     "name": "stderr",
     "output_type": "stream",
     "text": [
      "Metric val_loss improved. New best score: 0.025\n",
      "Metric val_loss improved by 0.004 >= min_delta = 0.0005. New best score: 0.021\n",
      "Metric val_loss improved by 0.001 >= min_delta = 0.0005. New best score: 0.020\n",
      "Metric val_loss improved by 0.001 >= min_delta = 0.0005. New best score: 0.019\n",
      "Metric val_loss improved by 0.001 >= min_delta = 0.0005. New best score: 0.019\n",
      "Metric val_loss improved by 0.002 >= min_delta = 0.0005. New best score: 0.017\n",
      "Metric val_loss improved by 0.001 >= min_delta = 0.0005. New best score: 0.016\n",
      "Metric val_loss improved by 0.001 >= min_delta = 0.0005. New best score: 0.016\n",
      "Metric val_loss improved by 0.001 >= min_delta = 0.0005. New best score: 0.015\n",
      "`Trainer.fit` stopped: `max_epochs=30` reached.\n",
      "GPU available: True (cuda), used: True\n",
      "TPU available: False, using: 0 TPU cores\n",
      "HPU available: False, using: 0 HPUs\n",
      "LOCAL_RANK: 0 - CUDA_VISIBLE_DEVICES: [0]\n"
     ]
    },
    {
     "name": "stdout",
     "output_type": "stream",
     "text": [
      "Model loaded from checkpoint for trial 43\n"
     ]
    },
    {
     "name": "stderr",
     "output_type": "stream",
     "text": [
      "/home/eduardo/Documentos/Water-Cycle-Neural-Network/venv/lib/python3.12/site-packages/pytorch_lightning/trainer/connectors/data_connector.py:425: The 'predict_dataloader' does not have many workers which may be a bottleneck. Consider increasing the value of the `num_workers` argument` to `num_workers=11` in the `DataLoader` to improve performance.\n",
      "[I 2025-05-26 18:09:33,728] Trial 43 finished with value: 0.11230746261049787 and parameters: {'input_chunk_length': 43, 'output_chunk_length': 1, 'dropout': 0.1781160490560954, 'batch_size': 73, 'lr': 0.00027700178569844736, 'weight_decay': 1.6462531167727664e-05, 'num_layers': 1, 'num_blocks': 4, 'num_stacks': 3, 'layer_widths': 225, 'activation': 'ReLU', 'loss_fn': 'huber', 'optimizer': 'AdamW'}. Best is trial 35 with value: 0.10596477232492901.\n",
      "Specified future encoders in `add_encoders` at model creation but model does not accept future covariates. future encoders will be ignored.\n",
      "GPU available: True (cuda), used: True\n",
      "TPU available: False, using: 0 TPU cores\n",
      "HPU available: False, using: 0 HPUs\n",
      "LOCAL_RANK: 0 - CUDA_VISIBLE_DEVICES: [0]\n"
     ]
    },
    {
     "name": "stdout",
     "output_type": "stream",
     "text": [
      "Starting time series verification for consistency...\n",
      "\n",
      "Performance metrics:\n",
      "                                    MSE        RMSE         MAE          R2  \\\n",
      "Temperature                    6.712394    2.590829    2.057133    0.780277   \n",
      "Precipitation_accumulated    770.665071   27.760855   22.903978 -228.520121   \n",
      "Humidity                      55.475877    7.448213    6.009411    0.621830   \n",
      "Wind_Speed_kmh                 0.922841    0.960646    0.760119    0.315262   \n",
      "Soil_Moisture              80821.197135  284.290691  235.510501   -0.497209   \n",
      "Soil_Temperature               5.197357    2.279771    1.842640    0.677739   \n",
      "Wind_Dir_Sin                   0.462719    0.680234    0.578238    0.161878   \n",
      "Wind_Dir_Cos                   0.341752    0.584595    0.489784    0.067054   \n",
      "\n",
      "                                SMAPE  \n",
      "Temperature                 35.732240  \n",
      "Precipitation_accumulated    5.103989  \n",
      "Humidity                     7.157334  \n",
      "Wind_Speed_kmh              66.575579  \n",
      "Soil_Moisture                2.781425  \n",
      "Soil_Temperature            31.381482  \n",
      "Wind_Dir_Sin               121.215174  \n",
      "Wind_Dir_Cos               128.328936  \n",
      "The MAE for this fold was 0.11230746261049787\n",
      "Results of trial 43 saved in optuna_iteration_metrics/trial_43.json\n",
      "Current value: 0.11230746261049787, Current params: {'input_chunk_length': 43, 'output_chunk_length': 1, 'dropout': 0.1781160490560954, 'batch_size': 73, 'lr': 0.00027700178569844736, 'weight_decay': 1.6462531167727664e-05, 'num_layers': 1, 'num_blocks': 4, 'num_stacks': 3, 'layer_widths': 225, 'activation': 'ReLU', 'loss_fn': 'huber', 'optimizer': 'AdamW'}\n",
      "Best value: 0.10596477232492901, Best params: {'input_chunk_length': 45, 'output_chunk_length': 1, 'dropout': 0.1300946376042601, 'batch_size': 104, 'lr': 0.00011494227662736073, 'weight_decay': 8.444384638688174e-05, 'num_layers': 1, 'num_blocks': 4, 'num_stacks': 3, 'layer_widths': 243, 'activation': 'GELU', 'loss_fn': 'huber', 'optimizer': 'AdamW'}\n",
      "\n",
      "Starting Trial 44\n",
      "Hyperparameters: {'input_chunk_length': 43, 'output_chunk_length': 1, 'dropout': 0.17939300968825872, 'batch_size': 106, 'lr': 0.0006678374366482668, 'weight_decay': 1.2924537581093492e-05, 'num_layers': 1, 'num_blocks': 4, 'num_stacks': 3, 'layer_widths': 221, 'activation': 'ReLU', 'loss_fn': 'huber', 'optimizer': 'AdamW'}\n",
      "\n",
      "Training the model...\n",
      "Train set: 6647 samples\n",
      "Validation set: 1662 samples\n"
     ]
    },
    {
     "name": "stderr",
     "output_type": "stream",
     "text": [
      "Metric val_loss improved. New best score: 0.027\n",
      "Metric val_loss improved by 0.002 >= min_delta = 0.0005. New best score: 0.025\n",
      "Metric val_loss improved by 0.003 >= min_delta = 0.0005. New best score: 0.022\n",
      "Metric val_loss improved by 0.001 >= min_delta = 0.0005. New best score: 0.021\n",
      "Metric val_loss improved by 0.001 >= min_delta = 0.0005. New best score: 0.020\n",
      "Metric val_loss improved by 0.001 >= min_delta = 0.0005. New best score: 0.019\n",
      "Metric val_loss improved by 0.001 >= min_delta = 0.0005. New best score: 0.018\n",
      "Metric val_loss improved by 0.001 >= min_delta = 0.0005. New best score: 0.017\n",
      "Metric val_loss improved by 0.001 >= min_delta = 0.0005. New best score: 0.017\n",
      "`Trainer.fit` stopped: `max_epochs=30` reached.\n",
      "GPU available: True (cuda), used: True\n",
      "TPU available: False, using: 0 TPU cores\n",
      "HPU available: False, using: 0 HPUs\n",
      "LOCAL_RANK: 0 - CUDA_VISIBLE_DEVICES: [0]\n"
     ]
    },
    {
     "name": "stdout",
     "output_type": "stream",
     "text": [
      "Model loaded from checkpoint for trial 44\n"
     ]
    },
    {
     "name": "stderr",
     "output_type": "stream",
     "text": [
      "/home/eduardo/Documentos/Water-Cycle-Neural-Network/venv/lib/python3.12/site-packages/pytorch_lightning/trainer/connectors/data_connector.py:425: The 'predict_dataloader' does not have many workers which may be a bottleneck. Consider increasing the value of the `num_workers` argument` to `num_workers=11` in the `DataLoader` to improve performance.\n",
      "[I 2025-05-26 18:11:09,899] Trial 44 finished with value: 0.1303070187256992 and parameters: {'input_chunk_length': 43, 'output_chunk_length': 1, 'dropout': 0.17939300968825872, 'batch_size': 106, 'lr': 0.0006678374366482668, 'weight_decay': 1.2924537581093492e-05, 'num_layers': 1, 'num_blocks': 4, 'num_stacks': 3, 'layer_widths': 221, 'activation': 'ReLU', 'loss_fn': 'huber', 'optimizer': 'AdamW'}. Best is trial 35 with value: 0.10596477232492901.\n",
      "Specified future encoders in `add_encoders` at model creation but model does not accept future covariates. future encoders will be ignored.\n",
      "GPU available: True (cuda), used: True\n",
      "TPU available: False, using: 0 TPU cores\n",
      "HPU available: False, using: 0 HPUs\n",
      "LOCAL_RANK: 0 - CUDA_VISIBLE_DEVICES: [0]\n"
     ]
    },
    {
     "name": "stdout",
     "output_type": "stream",
     "text": [
      "Starting time series verification for consistency...\n",
      "\n",
      "Performance metrics:\n",
      "                                     MSE        RMSE         MAE          R2  \\\n",
      "Temperature                     7.792905    2.791577    2.244045    0.744907   \n",
      "Precipitation_accumulated    2975.907543   54.551879   48.870655 -885.287291   \n",
      "Humidity                       83.301420    9.126961    7.514853    0.432147   \n",
      "Wind_Speed_kmh                  1.138124    1.066829    0.847647    0.155525   \n",
      "Soil_Moisture              248987.176191  498.986148  415.880582   -3.612477   \n",
      "Soil_Temperature               10.723499    3.274675    2.718193    0.335092   \n",
      "Wind_Dir_Sin                    0.453832    0.673671    0.567050    0.177974   \n",
      "Wind_Dir_Cos                    0.345926    0.588155    0.492555    0.055658   \n",
      "\n",
      "                                SMAPE  \n",
      "Temperature                 36.338082  \n",
      "Precipitation_accumulated   11.248073  \n",
      "Humidity                     8.767964  \n",
      "Wind_Speed_kmh              70.652641  \n",
      "Soil_Moisture                4.831005  \n",
      "Soil_Temperature            50.858746  \n",
      "Wind_Dir_Sin               118.009055  \n",
      "Wind_Dir_Cos               122.561606  \n",
      "The MAE for this fold was 0.1303070187256992\n",
      "Results of trial 44 saved in optuna_iteration_metrics/trial_44.json\n",
      "Current value: 0.1303070187256992, Current params: {'input_chunk_length': 43, 'output_chunk_length': 1, 'dropout': 0.17939300968825872, 'batch_size': 106, 'lr': 0.0006678374366482668, 'weight_decay': 1.2924537581093492e-05, 'num_layers': 1, 'num_blocks': 4, 'num_stacks': 3, 'layer_widths': 221, 'activation': 'ReLU', 'loss_fn': 'huber', 'optimizer': 'AdamW'}\n",
      "Best value: 0.10596477232492901, Best params: {'input_chunk_length': 45, 'output_chunk_length': 1, 'dropout': 0.1300946376042601, 'batch_size': 104, 'lr': 0.00011494227662736073, 'weight_decay': 8.444384638688174e-05, 'num_layers': 1, 'num_blocks': 4, 'num_stacks': 3, 'layer_widths': 243, 'activation': 'GELU', 'loss_fn': 'huber', 'optimizer': 'AdamW'}\n",
      "\n",
      "Starting Trial 45\n",
      "Hyperparameters: {'input_chunk_length': 28, 'output_chunk_length': 2, 'dropout': 0.186924102285974, 'batch_size': 72, 'lr': 0.000288601183100204, 'weight_decay': 3.229834069725303e-05, 'num_layers': 1, 'num_blocks': 4, 'num_stacks': 2, 'layer_widths': 114, 'activation': 'ReLU', 'loss_fn': 'smoothl1', 'optimizer': 'AdamW'}\n",
      "\n",
      "Training the model...\n",
      "Train set: 6647 samples\n",
      "Validation set: 1662 samples\n"
     ]
    },
    {
     "name": "stderr",
     "output_type": "stream",
     "text": [
      "Metric val_loss improved. New best score: 0.028\n",
      "Metric val_loss improved by 0.005 >= min_delta = 0.0005. New best score: 0.023\n",
      "Metric val_loss improved by 0.002 >= min_delta = 0.0005. New best score: 0.021\n",
      "Metric val_loss improved by 0.002 >= min_delta = 0.0005. New best score: 0.019\n",
      "Metric val_loss improved by 0.001 >= min_delta = 0.0005. New best score: 0.019\n",
      "Metric val_loss improved by 0.001 >= min_delta = 0.0005. New best score: 0.018\n",
      "Metric val_loss improved by 0.001 >= min_delta = 0.0005. New best score: 0.017\n",
      "Monitored metric val_loss did not improve in the last 15 records. Best score: 0.017. Signaling Trainer to stop.\n",
      "GPU available: True (cuda), used: True\n",
      "TPU available: False, using: 0 TPU cores\n",
      "HPU available: False, using: 0 HPUs\n",
      "LOCAL_RANK: 0 - CUDA_VISIBLE_DEVICES: [0]\n"
     ]
    },
    {
     "name": "stdout",
     "output_type": "stream",
     "text": [
      "Model loaded from checkpoint for trial 45\n"
     ]
    },
    {
     "name": "stderr",
     "output_type": "stream",
     "text": [
      "/home/eduardo/Documentos/Water-Cycle-Neural-Network/venv/lib/python3.12/site-packages/pytorch_lightning/trainer/connectors/data_connector.py:425: The 'predict_dataloader' does not have many workers which may be a bottleneck. Consider increasing the value of the `num_workers` argument` to `num_workers=11` in the `DataLoader` to improve performance.\n",
      "[I 2025-05-26 18:12:30,188] Trial 45 finished with value: 0.12220493139639828 and parameters: {'input_chunk_length': 28, 'output_chunk_length': 2, 'dropout': 0.186924102285974, 'batch_size': 72, 'lr': 0.000288601183100204, 'weight_decay': 3.229834069725303e-05, 'num_layers': 1, 'num_blocks': 4, 'num_stacks': 2, 'layer_widths': 114, 'activation': 'ReLU', 'loss_fn': 'smoothl1', 'optimizer': 'AdamW'}. Best is trial 35 with value: 0.10596477232492901.\n",
      "Specified future encoders in `add_encoders` at model creation but model does not accept future covariates. future encoders will be ignored.\n",
      "GPU available: True (cuda), used: True\n",
      "TPU available: False, using: 0 TPU cores\n",
      "HPU available: False, using: 0 HPUs\n",
      "LOCAL_RANK: 0 - CUDA_VISIBLE_DEVICES: [0]\n"
     ]
    },
    {
     "name": "stdout",
     "output_type": "stream",
     "text": [
      "Starting time series verification for consistency...\n",
      "\n",
      "Performance metrics:\n",
      "                                    MSE        RMSE         MAE          R2  \\\n",
      "Temperature                    8.785115    2.963969    2.366366    0.711463   \n",
      "Precipitation_accumulated   1304.247332   36.114365   29.886464 -379.020264   \n",
      "Humidity                      62.059287    7.877772    6.435736    0.576480   \n",
      "Wind_Speed_kmh                 1.173276    1.083179    0.875224    0.130699   \n",
      "Soil_Moisture              63955.218945  252.893691  200.791532   -0.117798   \n",
      "Soil_Temperature               8.016030    2.831260    2.240184    0.502709   \n",
      "Wind_Dir_Sin                   0.535971    0.732101    0.649358    0.026413   \n",
      "Wind_Dir_Cos                   0.358589    0.598823    0.489377    0.022045   \n",
      "\n",
      "                                SMAPE  \n",
      "Temperature                 36.733700  \n",
      "Precipitation_accumulated    6.736360  \n",
      "Humidity                     7.613264  \n",
      "Wind_Speed_kmh              72.037397  \n",
      "Soil_Moisture                2.373576  \n",
      "Soil_Temperature            37.846723  \n",
      "Wind_Dir_Sin               140.946191  \n",
      "Wind_Dir_Cos               115.272880  \n",
      "The MAE for this fold was 0.12220493139639828\n",
      "Results of trial 45 saved in optuna_iteration_metrics/trial_45.json\n",
      "Current value: 0.12220493139639828, Current params: {'input_chunk_length': 28, 'output_chunk_length': 2, 'dropout': 0.186924102285974, 'batch_size': 72, 'lr': 0.000288601183100204, 'weight_decay': 3.229834069725303e-05, 'num_layers': 1, 'num_blocks': 4, 'num_stacks': 2, 'layer_widths': 114, 'activation': 'ReLU', 'loss_fn': 'smoothl1', 'optimizer': 'AdamW'}\n",
      "Best value: 0.10596477232492901, Best params: {'input_chunk_length': 45, 'output_chunk_length': 1, 'dropout': 0.1300946376042601, 'batch_size': 104, 'lr': 0.00011494227662736073, 'weight_decay': 8.444384638688174e-05, 'num_layers': 1, 'num_blocks': 4, 'num_stacks': 3, 'layer_widths': 243, 'activation': 'GELU', 'loss_fn': 'huber', 'optimizer': 'AdamW'}\n",
      "\n",
      "Starting Trial 46\n",
      "Hyperparameters: {'input_chunk_length': 38, 'output_chunk_length': 1, 'dropout': 0.16075280144390278, 'batch_size': 213, 'lr': 0.0017008524339276261, 'weight_decay': 3.0833158603037186e-06, 'num_layers': 1, 'num_blocks': 3, 'num_stacks': 3, 'layer_widths': 167, 'activation': 'ReLU', 'loss_fn': 'mae', 'optimizer': 'AdamW'}\n",
      "\n",
      "Training the model...\n",
      "Train set: 6647 samples\n",
      "Validation set: 1662 samples\n"
     ]
    },
    {
     "name": "stderr",
     "output_type": "stream",
     "text": [
      "[I 2025-05-26 18:12:34,273] Trial 46 pruned. Trial was pruned at epoch 0.\n",
      "Specified future encoders in `add_encoders` at model creation but model does not accept future covariates. future encoders will be ignored.\n",
      "GPU available: True (cuda), used: True\n",
      "TPU available: False, using: 0 TPU cores\n",
      "HPU available: False, using: 0 HPUs\n",
      "LOCAL_RANK: 0 - CUDA_VISIBLE_DEVICES: [0]\n"
     ]
    },
    {
     "name": "stdout",
     "output_type": "stream",
     "text": [
      "Current value: 0.1958016377373479, Current params: {'input_chunk_length': 38, 'output_chunk_length': 1, 'dropout': 0.16075280144390278, 'batch_size': 213, 'lr': 0.0017008524339276261, 'weight_decay': 3.0833158603037186e-06, 'num_layers': 1, 'num_blocks': 3, 'num_stacks': 3, 'layer_widths': 167, 'activation': 'ReLU', 'loss_fn': 'mae', 'optimizer': 'AdamW'}\n",
      "Best value: 0.10596477232492901, Best params: {'input_chunk_length': 45, 'output_chunk_length': 1, 'dropout': 0.1300946376042601, 'batch_size': 104, 'lr': 0.00011494227662736073, 'weight_decay': 8.444384638688174e-05, 'num_layers': 1, 'num_blocks': 4, 'num_stacks': 3, 'layer_widths': 243, 'activation': 'GELU', 'loss_fn': 'huber', 'optimizer': 'AdamW'}\n",
      "\n",
      "Starting Trial 47\n",
      "Hyperparameters: {'input_chunk_length': 34, 'output_chunk_length': 4, 'dropout': 0.10309331925822617, 'batch_size': 116, 'lr': 0.0005601456943448555, 'weight_decay': 5.5664124637463695e-05, 'num_layers': 1, 'num_blocks': 4, 'num_stacks': 1, 'layer_widths': 231, 'activation': 'ReLU', 'loss_fn': 'huber', 'optimizer': 'AdamW'}\n",
      "\n",
      "Training the model...\n",
      "Train set: 6647 samples\n",
      "Validation set: 1662 samples\n"
     ]
    },
    {
     "name": "stderr",
     "output_type": "stream",
     "text": [
      "[I 2025-05-26 18:12:38,484] Trial 47 pruned. Trial was pruned at epoch 0.\n"
     ]
    },
    {
     "name": "stdout",
     "output_type": "stream",
     "text": [
      "Current value: 0.052564559842410596, Current params: {'input_chunk_length': 34, 'output_chunk_length': 4, 'dropout': 0.10309331925822617, 'batch_size': 116, 'lr': 0.0005601456943448555, 'weight_decay': 5.5664124637463695e-05, 'num_layers': 1, 'num_blocks': 4, 'num_stacks': 1, 'layer_widths': 231, 'activation': 'ReLU', 'loss_fn': 'huber', 'optimizer': 'AdamW'}\n",
      "Best value: 0.10596477232492901, Best params: {'input_chunk_length': 45, 'output_chunk_length': 1, 'dropout': 0.1300946376042601, 'batch_size': 104, 'lr': 0.00011494227662736073, 'weight_decay': 8.444384638688174e-05, 'num_layers': 1, 'num_blocks': 4, 'num_stacks': 3, 'layer_widths': 243, 'activation': 'GELU', 'loss_fn': 'huber', 'optimizer': 'AdamW'}\n",
      "\n",
      "Starting Trial 48\n",
      "Hyperparameters: {'input_chunk_length': 42, 'output_chunk_length': 2, 'dropout': 0.1717733896781341, 'batch_size': 75, 'lr': 0.0003316446571318079, 'weight_decay': 1.3866191623367021e-05, 'num_layers': 1, 'num_blocks': 2, 'num_stacks': 2, 'layer_widths': 200, 'activation': 'ReLU', 'loss_fn': 'mse', 'optimizer': 'AdamW'}\n",
      "\n",
      "Training the model...\n",
      "Train set: 6647 samples\n",
      "Validation set: 1662 samples\n"
     ]
    },
    {
     "name": "stderr",
     "output_type": "stream",
     "text": [
      "Specified future encoders in `add_encoders` at model creation but model does not accept future covariates. future encoders will be ignored.\n",
      "GPU available: True (cuda), used: True\n",
      "TPU available: False, using: 0 TPU cores\n",
      "HPU available: False, using: 0 HPUs\n",
      "LOCAL_RANK: 0 - CUDA_VISIBLE_DEVICES: [0]\n",
      "[I 2025-05-26 18:13:27,846] Trial 48 pruned. Trial was pruned at epoch 0.\n",
      "Specified future encoders in `add_encoders` at model creation but model does not accept future covariates. future encoders will be ignored.\n",
      "GPU available: True (cuda), used: True\n",
      "TPU available: False, using: 0 TPU cores\n",
      "HPU available: False, using: 0 HPUs\n",
      "LOCAL_RANK: 0 - CUDA_VISIBLE_DEVICES: [0]\n"
     ]
    },
    {
     "name": "stdout",
     "output_type": "stream",
     "text": [
      "Current value: 0.05132914469446778, Current params: {'input_chunk_length': 42, 'output_chunk_length': 2, 'dropout': 0.1717733896781341, 'batch_size': 75, 'lr': 0.0003316446571318079, 'weight_decay': 1.3866191623367021e-05, 'num_layers': 1, 'num_blocks': 2, 'num_stacks': 2, 'layer_widths': 200, 'activation': 'ReLU', 'loss_fn': 'mse', 'optimizer': 'AdamW'}\n",
      "Best value: 0.10596477232492901, Best params: {'input_chunk_length': 45, 'output_chunk_length': 1, 'dropout': 0.1300946376042601, 'batch_size': 104, 'lr': 0.00011494227662736073, 'weight_decay': 8.444384638688174e-05, 'num_layers': 1, 'num_blocks': 4, 'num_stacks': 3, 'layer_widths': 243, 'activation': 'GELU', 'loss_fn': 'huber', 'optimizer': 'AdamW'}\n",
      "\n",
      "Starting Trial 49\n",
      "Hyperparameters: {'input_chunk_length': 42, 'output_chunk_length': 3, 'dropout': 0.25981701785318395, 'batch_size': 168, 'lr': 0.0001273476336890337, 'weight_decay': 2.8237224962216042e-05, 'num_layers': 6, 'num_blocks': 4, 'num_stacks': 3, 'layer_widths': 78, 'activation': 'ReLU', 'loss_fn': 'huber', 'optimizer': 'AdamW'}\n",
      "\n",
      "Training the model...\n",
      "Train set: 6647 samples\n",
      "Validation set: 1662 samples\n"
     ]
    },
    {
     "name": "stderr",
     "output_type": "stream",
     "text": [
      "[I 2025-05-26 18:13:32,636] Trial 49 pruned. Trial was pruned at epoch 0.\n",
      "Specified future encoders in `add_encoders` at model creation but model does not accept future covariates. future encoders will be ignored.\n",
      "GPU available: True (cuda), used: True\n",
      "TPU available: False, using: 0 TPU cores\n",
      "HPU available: False, using: 0 HPUs\n",
      "LOCAL_RANK: 0 - CUDA_VISIBLE_DEVICES: [0]\n"
     ]
    },
    {
     "name": "stdout",
     "output_type": "stream",
     "text": [
      "Current value: 0.052883943791441526, Current params: {'input_chunk_length': 42, 'output_chunk_length': 3, 'dropout': 0.25981701785318395, 'batch_size': 168, 'lr': 0.0001273476336890337, 'weight_decay': 2.8237224962216042e-05, 'num_layers': 6, 'num_blocks': 4, 'num_stacks': 3, 'layer_widths': 78, 'activation': 'ReLU', 'loss_fn': 'huber', 'optimizer': 'AdamW'}\n",
      "Best value: 0.10596477232492901, Best params: {'input_chunk_length': 45, 'output_chunk_length': 1, 'dropout': 0.1300946376042601, 'batch_size': 104, 'lr': 0.00011494227662736073, 'weight_decay': 8.444384638688174e-05, 'num_layers': 1, 'num_blocks': 4, 'num_stacks': 3, 'layer_widths': 243, 'activation': 'GELU', 'loss_fn': 'huber', 'optimizer': 'AdamW'}\n",
      "\n",
      "Starting Trial 50\n",
      "Hyperparameters: {'input_chunk_length': 32, 'output_chunk_length': 1, 'dropout': 0.1531064137537213, 'batch_size': 89, 'lr': 0.0002714190661480697, 'weight_decay': 5.982262418795724e-06, 'num_layers': 1, 'num_blocks': 3, 'num_stacks': 2, 'layer_widths': 214, 'activation': 'ReLU', 'loss_fn': 'huber', 'optimizer': 'RMSprop'}\n",
      "\n",
      "Training the model...\n",
      "Train set: 6647 samples\n",
      "Validation set: 1662 samples\n"
     ]
    },
    {
     "name": "stderr",
     "output_type": "stream",
     "text": [
      "Metric val_loss improved. New best score: 0.024\n",
      "Metric val_loss improved by 0.001 >= min_delta = 0.0005. New best score: 0.023\n",
      "Metric val_loss improved by 0.001 >= min_delta = 0.0005. New best score: 0.022\n",
      "Metric val_loss improved by 0.002 >= min_delta = 0.0005. New best score: 0.020\n",
      "Metric val_loss improved by 0.003 >= min_delta = 0.0005. New best score: 0.017\n",
      "Metric val_loss improved by 0.001 >= min_delta = 0.0005. New best score: 0.017\n",
      "Metric val_loss improved by 0.001 >= min_delta = 0.0005. New best score: 0.016\n",
      "Metric val_loss improved by 0.001 >= min_delta = 0.0005. New best score: 0.015\n",
      "`Trainer.fit` stopped: `max_epochs=30` reached.\n",
      "GPU available: True (cuda), used: True\n",
      "TPU available: False, using: 0 TPU cores\n",
      "HPU available: False, using: 0 HPUs\n",
      "LOCAL_RANK: 0 - CUDA_VISIBLE_DEVICES: [0]\n"
     ]
    },
    {
     "name": "stdout",
     "output_type": "stream",
     "text": [
      "Model loaded from checkpoint for trial 50\n"
     ]
    },
    {
     "name": "stderr",
     "output_type": "stream",
     "text": [
      "/home/eduardo/Documentos/Water-Cycle-Neural-Network/venv/lib/python3.12/site-packages/pytorch_lightning/trainer/connectors/data_connector.py:425: The 'predict_dataloader' does not have many workers which may be a bottleneck. Consider increasing the value of the `num_workers` argument` to `num_workers=11` in the `DataLoader` to improve performance.\n",
      "[I 2025-05-26 18:15:01,480] Trial 50 finished with value: 0.12112410361989094 and parameters: {'input_chunk_length': 32, 'output_chunk_length': 1, 'dropout': 0.1531064137537213, 'batch_size': 89, 'lr': 0.0002714190661480697, 'weight_decay': 5.982262418795724e-06, 'num_layers': 1, 'num_blocks': 3, 'num_stacks': 2, 'layer_widths': 214, 'activation': 'ReLU', 'loss_fn': 'huber', 'optimizer': 'RMSprop'}. Best is trial 35 with value: 0.10596477232492901.\n",
      "Specified future encoders in `add_encoders` at model creation but model does not accept future covariates. future encoders will be ignored.\n",
      "GPU available: True (cuda), used: True\n",
      "TPU available: False, using: 0 TPU cores\n",
      "HPU available: False, using: 0 HPUs\n",
      "LOCAL_RANK: 0 - CUDA_VISIBLE_DEVICES: [0]\n"
     ]
    },
    {
     "name": "stdout",
     "output_type": "stream",
     "text": [
      "Starting time series verification for consistency...\n",
      "\n",
      "Performance metrics:\n",
      "                                     MSE        RMSE         MAE          R2  \\\n",
      "Temperature                     6.334156    2.516775    2.000542    0.792136   \n",
      "Precipitation_accumulated    2497.950500   49.979501   44.695519 -730.219364   \n",
      "Humidity                       54.880856    7.408161    6.049936    0.625404   \n",
      "Wind_Speed_kmh                  1.077668    1.038108    0.824812    0.200342   \n",
      "Soil_Moisture              211751.405708  460.164542  386.233777   -2.744190   \n",
      "Soil_Temperature                7.543749    2.746589    2.302731    0.531309   \n",
      "Wind_Dir_Sin                    0.439071    0.662624    0.546464    0.202587   \n",
      "Wind_Dir_Cos                    0.323278    0.568576    0.467671    0.117929   \n",
      "\n",
      "                                SMAPE  \n",
      "Temperature                 33.298059  \n",
      "Precipitation_accumulated   10.228422  \n",
      "Humidity                     7.110392  \n",
      "Wind_Speed_kmh              70.029797  \n",
      "Soil_Moisture                4.630151  \n",
      "Soil_Temperature            42.385273  \n",
      "Wind_Dir_Sin               111.502702  \n",
      "Wind_Dir_Cos               114.185705  \n",
      "The MAE for this fold was 0.12112410361989094\n",
      "Results of trial 50 saved in optuna_iteration_metrics/trial_50.json\n",
      "Current value: 0.12112410361989094, Current params: {'input_chunk_length': 32, 'output_chunk_length': 1, 'dropout': 0.1531064137537213, 'batch_size': 89, 'lr': 0.0002714190661480697, 'weight_decay': 5.982262418795724e-06, 'num_layers': 1, 'num_blocks': 3, 'num_stacks': 2, 'layer_widths': 214, 'activation': 'ReLU', 'loss_fn': 'huber', 'optimizer': 'RMSprop'}\n",
      "Best value: 0.10596477232492901, Best params: {'input_chunk_length': 45, 'output_chunk_length': 1, 'dropout': 0.1300946376042601, 'batch_size': 104, 'lr': 0.00011494227662736073, 'weight_decay': 8.444384638688174e-05, 'num_layers': 1, 'num_blocks': 4, 'num_stacks': 3, 'layer_widths': 243, 'activation': 'GELU', 'loss_fn': 'huber', 'optimizer': 'AdamW'}\n",
      "\n",
      "Starting Trial 51\n",
      "Hyperparameters: {'input_chunk_length': 29, 'output_chunk_length': 1, 'dropout': 0.15116875582920267, 'batch_size': 90, 'lr': 0.00021258616769685885, 'weight_decay': 4.4262273031719465e-06, 'num_layers': 1, 'num_blocks': 3, 'num_stacks': 2, 'layer_widths': 215, 'activation': 'ReLU', 'loss_fn': 'huber', 'optimizer': 'RMSprop'}\n",
      "\n",
      "Training the model...\n",
      "Train set: 6647 samples\n",
      "Validation set: 1662 samples\n"
     ]
    },
    {
     "name": "stderr",
     "output_type": "stream",
     "text": [
      "Metric val_loss improved. New best score: 0.023\n",
      "Metric val_loss improved by 0.002 >= min_delta = 0.0005. New best score: 0.021\n",
      "Metric val_loss improved by 0.001 >= min_delta = 0.0005. New best score: 0.020\n",
      "Metric val_loss improved by 0.001 >= min_delta = 0.0005. New best score: 0.019\n",
      "Metric val_loss improved by 0.002 >= min_delta = 0.0005. New best score: 0.017\n",
      "Metric val_loss improved by 0.001 >= min_delta = 0.0005. New best score: 0.016\n",
      "Metric val_loss improved by 0.001 >= min_delta = 0.0005. New best score: 0.016\n",
      "`Trainer.fit` stopped: `max_epochs=30` reached.\n",
      "GPU available: True (cuda), used: True\n",
      "TPU available: False, using: 0 TPU cores\n",
      "HPU available: False, using: 0 HPUs\n",
      "LOCAL_RANK: 0 - CUDA_VISIBLE_DEVICES: [0]\n"
     ]
    },
    {
     "name": "stdout",
     "output_type": "stream",
     "text": [
      "Model loaded from checkpoint for trial 51\n"
     ]
    },
    {
     "name": "stderr",
     "output_type": "stream",
     "text": [
      "/home/eduardo/Documentos/Water-Cycle-Neural-Network/venv/lib/python3.12/site-packages/pytorch_lightning/trainer/connectors/data_connector.py:425: The 'predict_dataloader' does not have many workers which may be a bottleneck. Consider increasing the value of the `num_workers` argument` to `num_workers=11` in the `DataLoader` to improve performance.\n",
      "[I 2025-05-26 18:18:41,911] Trial 51 finished with value: 0.12320702574058112 and parameters: {'input_chunk_length': 29, 'output_chunk_length': 1, 'dropout': 0.15116875582920267, 'batch_size': 90, 'lr': 0.00021258616769685885, 'weight_decay': 4.4262273031719465e-06, 'num_layers': 1, 'num_blocks': 3, 'num_stacks': 2, 'layer_widths': 215, 'activation': 'ReLU', 'loss_fn': 'huber', 'optimizer': 'RMSprop'}. Best is trial 35 with value: 0.10596477232492901.\n",
      "Specified future encoders in `add_encoders` at model creation but model does not accept future covariates. future encoders will be ignored.\n",
      "GPU available: True (cuda), used: True\n",
      "TPU available: False, using: 0 TPU cores\n",
      "HPU available: False, using: 0 HPUs\n",
      "LOCAL_RANK: 0 - CUDA_VISIBLE_DEVICES: [0]\n"
     ]
    },
    {
     "name": "stdout",
     "output_type": "stream",
     "text": [
      "Starting time series verification for consistency...\n",
      "\n",
      "Performance metrics:\n",
      "                                     MSE        RMSE         MAE           R2  \\\n",
      "Temperature                     6.759145    2.599836    2.070818     0.778004   \n",
      "Precipitation_accumulated    4414.379890   66.440800   58.742752 -1285.223686   \n",
      "Humidity                       66.309007    8.143034    6.602701     0.547478   \n",
      "Wind_Speed_kmh                  1.217589    1.103444    0.828304     0.097866   \n",
      "Soil_Moisture              125960.774612  354.909530  292.757483    -1.201520   \n",
      "Soil_Temperature                8.280949    2.877664    2.396483     0.486274   \n",
      "Wind_Dir_Sin                    0.425859    0.652579    0.536421     0.226431   \n",
      "Wind_Dir_Cos                    0.326816    0.571678    0.470034     0.108698   \n",
      "\n",
      "                                SMAPE  \n",
      "Temperature                 33.880775  \n",
      "Precipitation_accumulated   13.746041  \n",
      "Humidity                     7.815577  \n",
      "Wind_Speed_kmh              81.145044  \n",
      "Soil_Moisture                3.449024  \n",
      "Soil_Temperature            43.744216  \n",
      "Wind_Dir_Sin               110.666249  \n",
      "Wind_Dir_Cos               116.457025  \n",
      "The MAE for this fold was 0.12320702574058112\n",
      "Results of trial 51 saved in optuna_iteration_metrics/trial_51.json\n",
      "Current value: 0.12320702574058112, Current params: {'input_chunk_length': 29, 'output_chunk_length': 1, 'dropout': 0.15116875582920267, 'batch_size': 90, 'lr': 0.00021258616769685885, 'weight_decay': 4.4262273031719465e-06, 'num_layers': 1, 'num_blocks': 3, 'num_stacks': 2, 'layer_widths': 215, 'activation': 'ReLU', 'loss_fn': 'huber', 'optimizer': 'RMSprop'}\n",
      "Best value: 0.10596477232492901, Best params: {'input_chunk_length': 45, 'output_chunk_length': 1, 'dropout': 0.1300946376042601, 'batch_size': 104, 'lr': 0.00011494227662736073, 'weight_decay': 8.444384638688174e-05, 'num_layers': 1, 'num_blocks': 4, 'num_stacks': 3, 'layer_widths': 243, 'activation': 'GELU', 'loss_fn': 'huber', 'optimizer': 'AdamW'}\n",
      "\n",
      "Starting Trial 52\n",
      "Hyperparameters: {'input_chunk_length': 31, 'output_chunk_length': 2, 'dropout': 0.11924470648953146, 'batch_size': 85, 'lr': 0.0004153170982929256, 'weight_decay': 1.7021771961379046e-06, 'num_layers': 1, 'num_blocks': 3, 'num_stacks': 2, 'layer_widths': 227, 'activation': 'ReLU', 'loss_fn': 'huber', 'optimizer': 'RMSprop'}\n",
      "\n",
      "Training the model...\n",
      "Train set: 6647 samples\n",
      "Validation set: 1662 samples\n"
     ]
    },
    {
     "name": "stderr",
     "output_type": "stream",
     "text": [
      "Metric val_loss improved. New best score: 0.025\n",
      "Metric val_loss improved by 0.003 >= min_delta = 0.0005. New best score: 0.022\n",
      "Metric val_loss improved by 0.001 >= min_delta = 0.0005. New best score: 0.020\n",
      "Metric val_loss improved by 0.001 >= min_delta = 0.0005. New best score: 0.019\n",
      "Metric val_loss improved by 0.001 >= min_delta = 0.0005. New best score: 0.019\n",
      "Metric val_loss improved by 0.001 >= min_delta = 0.0005. New best score: 0.018\n",
      "Metric val_loss improved by 0.001 >= min_delta = 0.0005. New best score: 0.018\n",
      "[I 2025-05-26 18:19:59,941] Trial 52 pruned. Trial was pruned at epoch 27.\n",
      "Specified future encoders in `add_encoders` at model creation but model does not accept future covariates. future encoders will be ignored.\n",
      "GPU available: True (cuda), used: True\n",
      "TPU available: False, using: 0 TPU cores\n",
      "HPU available: False, using: 0 HPUs\n",
      "LOCAL_RANK: 0 - CUDA_VISIBLE_DEVICES: [0]\n"
     ]
    },
    {
     "name": "stdout",
     "output_type": "stream",
     "text": [
      "Current value: 0.019052906732190112, Current params: {'input_chunk_length': 31, 'output_chunk_length': 2, 'dropout': 0.11924470648953146, 'batch_size': 85, 'lr': 0.0004153170982929256, 'weight_decay': 1.7021771961379046e-06, 'num_layers': 1, 'num_blocks': 3, 'num_stacks': 2, 'layer_widths': 227, 'activation': 'ReLU', 'loss_fn': 'huber', 'optimizer': 'RMSprop'}\n",
      "Best value: 0.10596477232492901, Best params: {'input_chunk_length': 45, 'output_chunk_length': 1, 'dropout': 0.1300946376042601, 'batch_size': 104, 'lr': 0.00011494227662736073, 'weight_decay': 8.444384638688174e-05, 'num_layers': 1, 'num_blocks': 4, 'num_stacks': 3, 'layer_widths': 243, 'activation': 'GELU', 'loss_fn': 'huber', 'optimizer': 'AdamW'}\n",
      "\n",
      "Starting Trial 53\n",
      "Hyperparameters: {'input_chunk_length': 38, 'output_chunk_length': 3, 'dropout': 0.19781948816714912, 'batch_size': 109, 'lr': 0.00013425420578136335, 'weight_decay': 7.1485756703939555e-06, 'num_layers': 5, 'num_blocks': 2, 'num_stacks': 3, 'layer_widths': 183, 'activation': 'ReLU', 'loss_fn': 'huber', 'optimizer': 'RMSprop'}\n",
      "\n",
      "Training the model...\n",
      "Train set: 6647 samples\n",
      "Validation set: 1662 samples\n"
     ]
    },
    {
     "name": "stderr",
     "output_type": "stream",
     "text": [
      "Metric val_loss improved. New best score: 0.038\n",
      "[I 2025-05-26 18:20:07,388] Trial 53 pruned. Trial was pruned at epoch 1.\n",
      "Specified future encoders in `add_encoders` at model creation but model does not accept future covariates. future encoders will be ignored.\n",
      "GPU available: True (cuda), used: True\n",
      "TPU available: False, using: 0 TPU cores\n",
      "HPU available: False, using: 0 HPUs\n",
      "LOCAL_RANK: 0 - CUDA_VISIBLE_DEVICES: [0]\n"
     ]
    },
    {
     "name": "stdout",
     "output_type": "stream",
     "text": [
      "Current value: 0.03277624410463777, Current params: {'input_chunk_length': 38, 'output_chunk_length': 3, 'dropout': 0.19781948816714912, 'batch_size': 109, 'lr': 0.00013425420578136335, 'weight_decay': 7.1485756703939555e-06, 'num_layers': 5, 'num_blocks': 2, 'num_stacks': 3, 'layer_widths': 183, 'activation': 'ReLU', 'loss_fn': 'huber', 'optimizer': 'RMSprop'}\n",
      "Best value: 0.10596477232492901, Best params: {'input_chunk_length': 45, 'output_chunk_length': 1, 'dropout': 0.1300946376042601, 'batch_size': 104, 'lr': 0.00011494227662736073, 'weight_decay': 8.444384638688174e-05, 'num_layers': 1, 'num_blocks': 4, 'num_stacks': 3, 'layer_widths': 243, 'activation': 'GELU', 'loss_fn': 'huber', 'optimizer': 'AdamW'}\n",
      "\n",
      "Starting Trial 54\n",
      "Hyperparameters: {'input_chunk_length': 26, 'output_chunk_length': 1, 'dropout': 0.16809837734798874, 'batch_size': 78, 'lr': 0.00026691540087709595, 'weight_decay': 1.633803096177457e-05, 'num_layers': 1, 'num_blocks': 3, 'num_stacks': 1, 'layer_widths': 248, 'activation': 'ReLU', 'loss_fn': 'huber', 'optimizer': 'RMSprop'}\n",
      "\n",
      "Training the model...\n",
      "Train set: 6647 samples\n",
      "Validation set: 1662 samples\n"
     ]
    },
    {
     "name": "stderr",
     "output_type": "stream",
     "text": [
      "Metric val_loss improved. New best score: 0.025\n",
      "Metric val_loss improved by 0.005 >= min_delta = 0.0005. New best score: 0.020\n",
      "Metric val_loss improved by 0.002 >= min_delta = 0.0005. New best score: 0.018\n",
      "Metric val_loss improved by 0.001 >= min_delta = 0.0005. New best score: 0.018\n",
      "Metric val_loss improved by 0.002 >= min_delta = 0.0005. New best score: 0.016\n",
      "Metric val_loss improved by 0.001 >= min_delta = 0.0005. New best score: 0.015\n",
      "Metric val_loss improved by 0.001 >= min_delta = 0.0005. New best score: 0.014\n",
      "`Trainer.fit` stopped: `max_epochs=30` reached.\n",
      "GPU available: True (cuda), used: True\n",
      "TPU available: False, using: 0 TPU cores\n",
      "HPU available: False, using: 0 HPUs\n",
      "LOCAL_RANK: 0 - CUDA_VISIBLE_DEVICES: [0]\n"
     ]
    },
    {
     "name": "stdout",
     "output_type": "stream",
     "text": [
      "Model loaded from checkpoint for trial 54\n"
     ]
    },
    {
     "name": "stderr",
     "output_type": "stream",
     "text": [
      "/home/eduardo/Documentos/Water-Cycle-Neural-Network/venv/lib/python3.12/site-packages/pytorch_lightning/trainer/connectors/data_connector.py:425: The 'predict_dataloader' does not have many workers which may be a bottleneck. Consider increasing the value of the `num_workers` argument` to `num_workers=11` in the `DataLoader` to improve performance.\n",
      "[I 2025-05-26 18:22:59,656] Trial 54 finished with value: 0.1133761894305275 and parameters: {'input_chunk_length': 26, 'output_chunk_length': 1, 'dropout': 0.16809837734798874, 'batch_size': 78, 'lr': 0.00026691540087709595, 'weight_decay': 1.633803096177457e-05, 'num_layers': 1, 'num_blocks': 3, 'num_stacks': 1, 'layer_widths': 248, 'activation': 'ReLU', 'loss_fn': 'huber', 'optimizer': 'RMSprop'}. Best is trial 35 with value: 0.10596477232492901.\n",
      "Specified future encoders in `add_encoders` at model creation but model does not accept future covariates. future encoders will be ignored.\n",
      "GPU available: True (cuda), used: True\n",
      "TPU available: False, using: 0 TPU cores\n",
      "HPU available: False, using: 0 HPUs\n",
      "LOCAL_RANK: 0 - CUDA_VISIBLE_DEVICES: [0]\n"
     ]
    },
    {
     "name": "stdout",
     "output_type": "stream",
     "text": [
      "Starting time series verification for consistency...\n",
      "\n",
      "Performance metrics:\n",
      "                                    MSE        RMSE         MAE          R2  \\\n",
      "Temperature                   18.033330    4.246567    3.332965    0.408709   \n",
      "Precipitation_accumulated    510.825241   22.601443   18.953428 -147.159324   \n",
      "Humidity                      43.045906    6.560938    4.971939    0.706301   \n",
      "Wind_Speed_kmh                 1.269828    1.126866    0.901088    0.059788   \n",
      "Soil_Moisture              70278.725488  265.101349  212.177496   -0.216062   \n",
      "Soil_Temperature              14.353980    3.788665    2.988075    0.111678   \n",
      "Wind_Dir_Sin                   0.379410    0.615963    0.533056    0.310098   \n",
      "Wind_Dir_Cos                   0.321046    0.566609    0.453946    0.126818   \n",
      "\n",
      "                                SMAPE  \n",
      "Temperature                 46.099692  \n",
      "Precipitation_accumulated    4.190729  \n",
      "Humidity                     6.116968  \n",
      "Wind_Speed_kmh              74.140950  \n",
      "Soil_Moisture                2.498443  \n",
      "Soil_Temperature            49.763308  \n",
      "Wind_Dir_Sin               109.531414  \n",
      "Wind_Dir_Cos               109.095436  \n",
      "The MAE for this fold was 0.1133761894305275\n",
      "Results of trial 54 saved in optuna_iteration_metrics/trial_54.json\n",
      "Current value: 0.1133761894305275, Current params: {'input_chunk_length': 26, 'output_chunk_length': 1, 'dropout': 0.16809837734798874, 'batch_size': 78, 'lr': 0.00026691540087709595, 'weight_decay': 1.633803096177457e-05, 'num_layers': 1, 'num_blocks': 3, 'num_stacks': 1, 'layer_widths': 248, 'activation': 'ReLU', 'loss_fn': 'huber', 'optimizer': 'RMSprop'}\n",
      "Best value: 0.10596477232492901, Best params: {'input_chunk_length': 45, 'output_chunk_length': 1, 'dropout': 0.1300946376042601, 'batch_size': 104, 'lr': 0.00011494227662736073, 'weight_decay': 8.444384638688174e-05, 'num_layers': 1, 'num_blocks': 4, 'num_stacks': 3, 'layer_widths': 243, 'activation': 'GELU', 'loss_fn': 'huber', 'optimizer': 'AdamW'}\n",
      "\n",
      "Starting Trial 55\n",
      "Hyperparameters: {'input_chunk_length': 44, 'output_chunk_length': 4, 'dropout': 0.17088354511208229, 'batch_size': 79, 'lr': 0.0005472902506543896, 'weight_decay': 4.566079697945031e-05, 'num_layers': 4, 'num_blocks': 3, 'num_stacks': 1, 'layer_widths': 256, 'activation': 'ReLU', 'loss_fn': 'smoothl1', 'optimizer': 'AdamW'}\n",
      "\n",
      "Training the model...\n",
      "Train set: 6647 samples\n",
      "Validation set: 1662 samples\n"
     ]
    },
    {
     "name": "stderr",
     "output_type": "stream",
     "text": [
      "[I 2025-05-26 18:23:03,942] Trial 55 pruned. Trial was pruned at epoch 0.\n",
      "Specified future encoders in `add_encoders` at model creation but model does not accept future covariates. future encoders will be ignored.\n",
      "GPU available: True (cuda), used: True\n",
      "TPU available: False, using: 0 TPU cores\n",
      "HPU available: False, using: 0 HPUs\n",
      "LOCAL_RANK: 0 - CUDA_VISIBLE_DEVICES: [0]\n"
     ]
    },
    {
     "name": "stdout",
     "output_type": "stream",
     "text": [
      "Current value: 0.061266107015528606, Current params: {'input_chunk_length': 44, 'output_chunk_length': 4, 'dropout': 0.17088354511208229, 'batch_size': 79, 'lr': 0.0005472902506543896, 'weight_decay': 4.566079697945031e-05, 'num_layers': 4, 'num_blocks': 3, 'num_stacks': 1, 'layer_widths': 256, 'activation': 'ReLU', 'loss_fn': 'smoothl1', 'optimizer': 'AdamW'}\n",
      "Best value: 0.10596477232492901, Best params: {'input_chunk_length': 45, 'output_chunk_length': 1, 'dropout': 0.1300946376042601, 'batch_size': 104, 'lr': 0.00011494227662736073, 'weight_decay': 8.444384638688174e-05, 'num_layers': 1, 'num_blocks': 4, 'num_stacks': 3, 'layer_widths': 243, 'activation': 'GELU', 'loss_fn': 'huber', 'optimizer': 'AdamW'}\n",
      "\n",
      "Starting Trial 56\n",
      "Hyperparameters: {'input_chunk_length': 51, 'output_chunk_length': 17, 'dropout': 0.19615746842339593, 'batch_size': 238, 'lr': 0.001198614578331442, 'weight_decay': 1.438139546148601e-05, 'num_layers': 1, 'num_blocks': 4, 'num_stacks': 1, 'layer_widths': 249, 'activation': 'ReLU', 'loss_fn': 'mse', 'optimizer': 'SGD'}\n",
      "\n",
      "Training the model...\n",
      "Train set: 6647 samples\n",
      "Validation set: 1662 samples\n"
     ]
    },
    {
     "name": "stderr",
     "output_type": "stream",
     "text": [
      "[I 2025-05-26 18:23:08,053] Trial 56 pruned. Trial was pruned at epoch 0.\n"
     ]
    },
    {
     "name": "stdout",
     "output_type": "stream",
     "text": [
      "Current value: 0.1373031279337637, Current params: {'input_chunk_length': 51, 'output_chunk_length': 17, 'dropout': 0.19615746842339593, 'batch_size': 238, 'lr': 0.001198614578331442, 'weight_decay': 1.438139546148601e-05, 'num_layers': 1, 'num_blocks': 4, 'num_stacks': 1, 'layer_widths': 249, 'activation': 'ReLU', 'loss_fn': 'mse', 'optimizer': 'SGD'}\n",
      "Best value: 0.10596477232492901, Best params: {'input_chunk_length': 45, 'output_chunk_length': 1, 'dropout': 0.1300946376042601, 'batch_size': 104, 'lr': 0.00011494227662736073, 'weight_decay': 8.444384638688174e-05, 'num_layers': 1, 'num_blocks': 4, 'num_stacks': 3, 'layer_widths': 243, 'activation': 'GELU', 'loss_fn': 'huber', 'optimizer': 'AdamW'}\n",
      "\n",
      "Starting Trial 57\n",
      "Hyperparameters: {'input_chunk_length': 27, 'output_chunk_length': 2, 'dropout': 0.11043681100132118, 'batch_size': 104, 'lr': 0.00015675725075890492, 'weight_decay': 3.219261244442266e-05, 'num_layers': 2, 'num_blocks': 3, 'num_stacks': 1, 'layer_widths': 235, 'activation': 'ReLU', 'loss_fn': 'huber', 'optimizer': 'AdamW'}\n",
      "\n",
      "Training the model...\n",
      "Train set: 6647 samples\n",
      "Validation set: 1662 samples\n"
     ]
    },
    {
     "name": "stderr",
     "output_type": "stream",
     "text": [
      "Specified future encoders in `add_encoders` at model creation but model does not accept future covariates. future encoders will be ignored.\n",
      "GPU available: True (cuda), used: True\n",
      "TPU available: False, using: 0 TPU cores\n",
      "HPU available: False, using: 0 HPUs\n",
      "LOCAL_RANK: 0 - CUDA_VISIBLE_DEVICES: [0]\n",
      "[I 2025-05-26 18:23:57,349] Trial 57 pruned. Trial was pruned at epoch 0.\n",
      "Specified future encoders in `add_encoders` at model creation but model does not accept future covariates. future encoders will be ignored.\n",
      "GPU available: True (cuda), used: True\n",
      "TPU available: False, using: 0 TPU cores\n",
      "HPU available: False, using: 0 HPUs\n",
      "LOCAL_RANK: 0 - CUDA_VISIBLE_DEVICES: [0]\n"
     ]
    },
    {
     "name": "stdout",
     "output_type": "stream",
     "text": [
      "Current value: 0.042640289041726315, Current params: {'input_chunk_length': 27, 'output_chunk_length': 2, 'dropout': 0.11043681100132118, 'batch_size': 104, 'lr': 0.00015675725075890492, 'weight_decay': 3.219261244442266e-05, 'num_layers': 2, 'num_blocks': 3, 'num_stacks': 1, 'layer_widths': 235, 'activation': 'ReLU', 'loss_fn': 'huber', 'optimizer': 'AdamW'}\n",
      "Best value: 0.10596477232492901, Best params: {'input_chunk_length': 45, 'output_chunk_length': 1, 'dropout': 0.1300946376042601, 'batch_size': 104, 'lr': 0.00011494227662736073, 'weight_decay': 8.444384638688174e-05, 'num_layers': 1, 'num_blocks': 4, 'num_stacks': 3, 'layer_widths': 243, 'activation': 'GELU', 'loss_fn': 'huber', 'optimizer': 'AdamW'}\n",
      "\n",
      "Starting Trial 58\n",
      "Hyperparameters: {'input_chunk_length': 68, 'output_chunk_length': 4, 'dropout': 0.22569985196207565, 'batch_size': 74, 'lr': 0.0002143444416647933, 'weight_decay': 1.9045712551029968e-05, 'num_layers': 1, 'num_blocks': 4, 'num_stacks': 3, 'layer_widths': 35, 'activation': 'ReLU', 'loss_fn': 'huber', 'optimizer': 'RMSprop'}\n",
      "\n",
      "Training the model...\n",
      "Train set: 6647 samples\n",
      "Validation set: 1662 samples\n"
     ]
    },
    {
     "name": "stderr",
     "output_type": "stream",
     "text": [
      "Metric val_loss improved. New best score: 0.035\n",
      "[I 2025-05-26 18:24:05,044] Trial 58 pruned. Trial was pruned at epoch 1.\n",
      "Specified future encoders in `add_encoders` at model creation but model does not accept future covariates. future encoders will be ignored.\n",
      "GPU available: True (cuda), used: True\n",
      "TPU available: False, using: 0 TPU cores\n",
      "HPU available: False, using: 0 HPUs\n",
      "LOCAL_RANK: 0 - CUDA_VISIBLE_DEVICES: [0]\n"
     ]
    },
    {
     "name": "stdout",
     "output_type": "stream",
     "text": [
      "Current value: 0.03098670318440865, Current params: {'input_chunk_length': 68, 'output_chunk_length': 4, 'dropout': 0.22569985196207565, 'batch_size': 74, 'lr': 0.0002143444416647933, 'weight_decay': 1.9045712551029968e-05, 'num_layers': 1, 'num_blocks': 4, 'num_stacks': 3, 'layer_widths': 35, 'activation': 'ReLU', 'loss_fn': 'huber', 'optimizer': 'RMSprop'}\n",
      "Best value: 0.10596477232492901, Best params: {'input_chunk_length': 45, 'output_chunk_length': 1, 'dropout': 0.1300946376042601, 'batch_size': 104, 'lr': 0.00011494227662736073, 'weight_decay': 8.444384638688174e-05, 'num_layers': 1, 'num_blocks': 4, 'num_stacks': 3, 'layer_widths': 243, 'activation': 'GELU', 'loss_fn': 'huber', 'optimizer': 'AdamW'}\n",
      "\n",
      "Starting Trial 59\n",
      "Hyperparameters: {'input_chunk_length': 40, 'output_chunk_length': 1, 'dropout': 0.18443870919148292, 'batch_size': 129, 'lr': 5.3595806100394555e-05, 'weight_decay': 6.546854649929804e-05, 'num_layers': 1, 'num_blocks': 2, 'num_stacks': 3, 'layer_widths': 248, 'activation': 'ReLU', 'loss_fn': 'huber', 'optimizer': 'AdamW'}\n",
      "\n",
      "Training the model...\n",
      "Train set: 6647 samples\n",
      "Validation set: 1662 samples\n"
     ]
    },
    {
     "name": "stderr",
     "output_type": "stream",
     "text": [
      "[I 2025-05-26 18:24:09,317] Trial 59 pruned. Trial was pruned at epoch 0.\n",
      "Specified future encoders in `add_encoders` at model creation but model does not accept future covariates. future encoders will be ignored.\n",
      "GPU available: True (cuda), used: True\n",
      "TPU available: False, using: 0 TPU cores\n",
      "HPU available: False, using: 0 HPUs\n",
      "LOCAL_RANK: 0 - CUDA_VISIBLE_DEVICES: [0]\n"
     ]
    },
    {
     "name": "stdout",
     "output_type": "stream",
     "text": [
      "Current value: 0.04189495380983816, Current params: {'input_chunk_length': 40, 'output_chunk_length': 1, 'dropout': 0.18443870919148292, 'batch_size': 129, 'lr': 5.3595806100394555e-05, 'weight_decay': 6.546854649929804e-05, 'num_layers': 1, 'num_blocks': 2, 'num_stacks': 3, 'layer_widths': 248, 'activation': 'ReLU', 'loss_fn': 'huber', 'optimizer': 'AdamW'}\n",
      "Best value: 0.10596477232492901, Best params: {'input_chunk_length': 45, 'output_chunk_length': 1, 'dropout': 0.1300946376042601, 'batch_size': 104, 'lr': 0.00011494227662736073, 'weight_decay': 8.444384638688174e-05, 'num_layers': 1, 'num_blocks': 4, 'num_stacks': 3, 'layer_widths': 243, 'activation': 'GELU', 'loss_fn': 'huber', 'optimizer': 'AdamW'}\n",
      "\n",
      "Starting Trial 60\n",
      "Hyperparameters: {'input_chunk_length': 47, 'output_chunk_length': 3, 'dropout': 0.20518263732508427, 'batch_size': 118, 'lr': 9.030706438369776e-05, 'weight_decay': 8.865301079110948e-06, 'num_layers': 2, 'num_blocks': 4, 'num_stacks': 3, 'layer_widths': 224, 'activation': 'ReLU', 'loss_fn': 'huber', 'optimizer': 'AdamW'}\n",
      "\n",
      "Training the model...\n",
      "Train set: 6647 samples\n",
      "Validation set: 1662 samples\n"
     ]
    },
    {
     "name": "stderr",
     "output_type": "stream",
     "text": [
      "Metric val_loss improved. New best score: 0.034\n",
      "Metric val_loss improved by 0.007 >= min_delta = 0.0005. New best score: 0.027\n",
      "[I 2025-05-26 18:24:21,385] Trial 60 pruned. Trial was pruned at epoch 2.\n",
      "Specified future encoders in `add_encoders` at model creation but model does not accept future covariates. future encoders will be ignored.\n",
      "GPU available: True (cuda), used: True\n",
      "TPU available: False, using: 0 TPU cores\n",
      "HPU available: False, using: 0 HPUs\n",
      "LOCAL_RANK: 0 - CUDA_VISIBLE_DEVICES: [0]\n"
     ]
    },
    {
     "name": "stdout",
     "output_type": "stream",
     "text": [
      "Current value: 0.025046015466019658, Current params: {'input_chunk_length': 47, 'output_chunk_length': 3, 'dropout': 0.20518263732508427, 'batch_size': 118, 'lr': 9.030706438369776e-05, 'weight_decay': 8.865301079110948e-06, 'num_layers': 2, 'num_blocks': 4, 'num_stacks': 3, 'layer_widths': 224, 'activation': 'ReLU', 'loss_fn': 'huber', 'optimizer': 'AdamW'}\n",
      "Best value: 0.10596477232492901, Best params: {'input_chunk_length': 45, 'output_chunk_length': 1, 'dropout': 0.1300946376042601, 'batch_size': 104, 'lr': 0.00011494227662736073, 'weight_decay': 8.444384638688174e-05, 'num_layers': 1, 'num_blocks': 4, 'num_stacks': 3, 'layer_widths': 243, 'activation': 'GELU', 'loss_fn': 'huber', 'optimizer': 'AdamW'}\n",
      "\n",
      "Starting Trial 61\n",
      "Hyperparameters: {'input_chunk_length': 26, 'output_chunk_length': 1, 'dropout': 0.159930782548818, 'batch_size': 90, 'lr': 0.0002776577897662931, 'weight_decay': 2.795351851235235e-06, 'num_layers': 1, 'num_blocks': 3, 'num_stacks': 2, 'layer_widths': 214, 'activation': 'ReLU', 'loss_fn': 'huber', 'optimizer': 'RMSprop'}\n",
      "\n",
      "Training the model...\n",
      "Train set: 6647 samples\n",
      "Validation set: 1662 samples\n"
     ]
    },
    {
     "name": "stderr",
     "output_type": "stream",
     "text": [
      "Metric val_loss improved. New best score: 0.024\n",
      "Metric val_loss improved by 0.002 >= min_delta = 0.0005. New best score: 0.021\n",
      "Metric val_loss improved by 0.002 >= min_delta = 0.0005. New best score: 0.020\n",
      "Metric val_loss improved by 0.001 >= min_delta = 0.0005. New best score: 0.019\n",
      "Metric val_loss improved by 0.001 >= min_delta = 0.0005. New best score: 0.017\n",
      "Metric val_loss improved by 0.001 >= min_delta = 0.0005. New best score: 0.017\n",
      "Metric val_loss improved by 0.001 >= min_delta = 0.0005. New best score: 0.016\n",
      "`Trainer.fit` stopped: `max_epochs=30` reached.\n",
      "GPU available: True (cuda), used: True\n",
      "TPU available: False, using: 0 TPU cores\n",
      "HPU available: False, using: 0 HPUs\n",
      "LOCAL_RANK: 0 - CUDA_VISIBLE_DEVICES: [0]\n"
     ]
    },
    {
     "name": "stdout",
     "output_type": "stream",
     "text": [
      "Model loaded from checkpoint for trial 61\n"
     ]
    },
    {
     "name": "stderr",
     "output_type": "stream",
     "text": [
      "/home/eduardo/Documentos/Water-Cycle-Neural-Network/venv/lib/python3.12/site-packages/pytorch_lightning/trainer/connectors/data_connector.py:425: The 'predict_dataloader' does not have many workers which may be a bottleneck. Consider increasing the value of the `num_workers` argument` to `num_workers=11` in the `DataLoader` to improve performance.\n",
      "[I 2025-05-26 18:25:54,119] Trial 61 finished with value: 0.1188363115493753 and parameters: {'input_chunk_length': 26, 'output_chunk_length': 1, 'dropout': 0.159930782548818, 'batch_size': 90, 'lr': 0.0002776577897662931, 'weight_decay': 2.795351851235235e-06, 'num_layers': 1, 'num_blocks': 3, 'num_stacks': 2, 'layer_widths': 214, 'activation': 'ReLU', 'loss_fn': 'huber', 'optimizer': 'RMSprop'}. Best is trial 35 with value: 0.10596477232492901.\n",
      "Specified future encoders in `add_encoders` at model creation but model does not accept future covariates. future encoders will be ignored.\n",
      "GPU available: True (cuda), used: True\n",
      "TPU available: False, using: 0 TPU cores\n",
      "HPU available: False, using: 0 HPUs\n",
      "LOCAL_RANK: 0 - CUDA_VISIBLE_DEVICES: [0]\n"
     ]
    },
    {
     "name": "stdout",
     "output_type": "stream",
     "text": [
      "Starting time series verification for consistency...\n",
      "\n",
      "Performance metrics:\n",
      "                                     MSE        RMSE         MAE          R2  \\\n",
      "Temperature                     6.623146    2.573547    2.048139    0.782835   \n",
      "Precipitation_accumulated    1380.122907   37.150005   31.114394 -399.289689   \n",
      "Humidity                       93.515245    9.670328    7.805205    0.361951   \n",
      "Wind_Speed_kmh                  1.019182    1.009545    0.795042    0.245373   \n",
      "Soil_Moisture              124933.667947  353.459570  282.562698   -1.161779   \n",
      "Soil_Temperature                9.142029    3.023579    2.488047    0.434229   \n",
      "Wind_Dir_Sin                    0.473427    0.688061    0.555685    0.139141   \n",
      "Wind_Dir_Cos                    0.335193    0.578959    0.483036    0.088340   \n",
      "\n",
      "                                SMAPE  \n",
      "Temperature                 33.625312  \n",
      "Precipitation_accumulated    7.019035  \n",
      "Humidity                     9.144438  \n",
      "Wind_Speed_kmh              68.271858  \n",
      "Soil_Moisture                3.380842  \n",
      "Soil_Temperature            41.168010  \n",
      "Wind_Dir_Sin               111.467504  \n",
      "Wind_Dir_Cos               123.785707  \n",
      "The MAE for this fold was 0.1188363115493753\n",
      "Results of trial 61 saved in optuna_iteration_metrics/trial_61.json\n",
      "Current value: 0.1188363115493753, Current params: {'input_chunk_length': 26, 'output_chunk_length': 1, 'dropout': 0.159930782548818, 'batch_size': 90, 'lr': 0.0002776577897662931, 'weight_decay': 2.795351851235235e-06, 'num_layers': 1, 'num_blocks': 3, 'num_stacks': 2, 'layer_widths': 214, 'activation': 'ReLU', 'loss_fn': 'huber', 'optimizer': 'RMSprop'}\n",
      "Best value: 0.10596477232492901, Best params: {'input_chunk_length': 45, 'output_chunk_length': 1, 'dropout': 0.1300946376042601, 'batch_size': 104, 'lr': 0.00011494227662736073, 'weight_decay': 8.444384638688174e-05, 'num_layers': 1, 'num_blocks': 4, 'num_stacks': 3, 'layer_widths': 243, 'activation': 'GELU', 'loss_fn': 'huber', 'optimizer': 'AdamW'}\n",
      "\n",
      "Starting Trial 62\n",
      "Hyperparameters: {'input_chunk_length': 26, 'output_chunk_length': 2, 'dropout': 0.16913042875585815, 'batch_size': 101, 'lr': 0.0002974039506401345, 'weight_decay': 2.477062762210834e-06, 'num_layers': 1, 'num_blocks': 3, 'num_stacks': 1, 'layer_widths': 234, 'activation': 'ReLU', 'loss_fn': 'huber', 'optimizer': 'RMSprop'}\n",
      "\n",
      "Training the model...\n",
      "Train set: 6647 samples\n",
      "Validation set: 1662 samples\n"
     ]
    },
    {
     "name": "stderr",
     "output_type": "stream",
     "text": [
      "Metric val_loss improved. New best score: 0.027\n",
      "Metric val_loss improved by 0.002 >= min_delta = 0.0005. New best score: 0.026\n",
      "Metric val_loss improved by 0.004 >= min_delta = 0.0005. New best score: 0.021\n",
      "Metric val_loss improved by 0.001 >= min_delta = 0.0005. New best score: 0.020\n",
      "[I 2025-05-26 18:26:16,268] Trial 62 pruned. Trial was pruned at epoch 7.\n",
      "Specified future encoders in `add_encoders` at model creation but model does not accept future covariates. future encoders will be ignored.\n",
      "GPU available: True (cuda), used: True\n",
      "TPU available: False, using: 0 TPU cores\n",
      "HPU available: False, using: 0 HPUs\n",
      "LOCAL_RANK: 0 - CUDA_VISIBLE_DEVICES: [0]\n"
     ]
    },
    {
     "name": "stdout",
     "output_type": "stream",
     "text": [
      "Current value: 0.021703571977736855, Current params: {'input_chunk_length': 26, 'output_chunk_length': 2, 'dropout': 0.16913042875585815, 'batch_size': 101, 'lr': 0.0002974039506401345, 'weight_decay': 2.477062762210834e-06, 'num_layers': 1, 'num_blocks': 3, 'num_stacks': 1, 'layer_widths': 234, 'activation': 'ReLU', 'loss_fn': 'huber', 'optimizer': 'RMSprop'}\n",
      "Best value: 0.10596477232492901, Best params: {'input_chunk_length': 45, 'output_chunk_length': 1, 'dropout': 0.1300946376042601, 'batch_size': 104, 'lr': 0.00011494227662736073, 'weight_decay': 8.444384638688174e-05, 'num_layers': 1, 'num_blocks': 4, 'num_stacks': 3, 'layer_widths': 243, 'activation': 'GELU', 'loss_fn': 'huber', 'optimizer': 'AdamW'}\n",
      "\n",
      "Starting Trial 63\n",
      "Hyperparameters: {'input_chunk_length': 24, 'output_chunk_length': 1, 'dropout': 0.14431556304432144, 'batch_size': 70, 'lr': 0.0001122887899241439, 'weight_decay': 4.870250849993938e-05, 'num_layers': 1, 'num_blocks': 3, 'num_stacks': 2, 'layer_widths': 192, 'activation': 'ReLU', 'loss_fn': 'huber', 'optimizer': 'RMSprop'}\n",
      "\n",
      "Training the model...\n",
      "Train set: 6647 samples\n",
      "Validation set: 1662 samples\n"
     ]
    },
    {
     "name": "stderr",
     "output_type": "stream",
     "text": [
      "Metric val_loss improved. New best score: 0.024\n",
      "Metric val_loss improved by 0.004 >= min_delta = 0.0005. New best score: 0.020\n",
      "Metric val_loss improved by 0.001 >= min_delta = 0.0005. New best score: 0.020\n",
      "Metric val_loss improved by 0.003 >= min_delta = 0.0005. New best score: 0.016\n",
      "Metric val_loss improved by 0.001 >= min_delta = 0.0005. New best score: 0.016\n",
      "Metric val_loss improved by 0.001 >= min_delta = 0.0005. New best score: 0.015\n",
      "Metric val_loss improved by 0.001 >= min_delta = 0.0005. New best score: 0.014\n",
      "`Trainer.fit` stopped: `max_epochs=30` reached.\n",
      "GPU available: True (cuda), used: True\n",
      "TPU available: False, using: 0 TPU cores\n",
      "HPU available: False, using: 0 HPUs\n",
      "LOCAL_RANK: 0 - CUDA_VISIBLE_DEVICES: [0]\n"
     ]
    },
    {
     "name": "stdout",
     "output_type": "stream",
     "text": [
      "Model loaded from checkpoint for trial 63\n"
     ]
    },
    {
     "name": "stderr",
     "output_type": "stream",
     "text": [
      "/home/eduardo/Documentos/Water-Cycle-Neural-Network/venv/lib/python3.12/site-packages/pytorch_lightning/trainer/connectors/data_connector.py:425: The 'predict_dataloader' does not have many workers which may be a bottleneck. Consider increasing the value of the `num_workers` argument` to `num_workers=11` in the `DataLoader` to improve performance.\n",
      "[I 2025-05-26 18:32:21,208] Trial 63 finished with value: 0.10804047202106296 and parameters: {'input_chunk_length': 24, 'output_chunk_length': 1, 'dropout': 0.14431556304432144, 'batch_size': 70, 'lr': 0.0001122887899241439, 'weight_decay': 4.870250849993938e-05, 'num_layers': 1, 'num_blocks': 3, 'num_stacks': 2, 'layer_widths': 192, 'activation': 'ReLU', 'loss_fn': 'huber', 'optimizer': 'RMSprop'}. Best is trial 35 with value: 0.10596477232492901.\n",
      "Specified future encoders in `add_encoders` at model creation but model does not accept future covariates. future encoders will be ignored.\n",
      "GPU available: True (cuda), used: True\n",
      "TPU available: False, using: 0 TPU cores\n",
      "HPU available: False, using: 0 HPUs\n",
      "LOCAL_RANK: 0 - CUDA_VISIBLE_DEVICES: [0]\n"
     ]
    },
    {
     "name": "stdout",
     "output_type": "stream",
     "text": [
      "Starting time series verification for consistency...\n",
      "\n",
      "Performance metrics:\n",
      "                                     MSE        RMSE         MAE          R2  \\\n",
      "Temperature                     6.144067    2.478723    1.954057    0.798771   \n",
      "Precipitation_accumulated     862.253486   29.364153   23.627389 -248.332868   \n",
      "Humidity                       52.281851    7.230619    5.907340    0.643335   \n",
      "Wind_Speed_kmh                  0.939943    0.969507    0.755285    0.304236   \n",
      "Soil_Moisture              116841.377518  341.820680  277.002055   -1.009469   \n",
      "Soil_Temperature                4.142276    2.035258    1.648071    0.743959   \n",
      "Wind_Dir_Sin                    0.415189    0.644352    0.526691    0.244642   \n",
      "Wind_Dir_Cos                    0.315754    0.561919    0.468467    0.142397   \n",
      "\n",
      "                                SMAPE  \n",
      "Temperature                 34.459989  \n",
      "Precipitation_accumulated    5.274786  \n",
      "Humidity                     6.992133  \n",
      "Wind_Speed_kmh              66.582207  \n",
      "Soil_Moisture                3.307777  \n",
      "Soil_Temperature            34.371872  \n",
      "Wind_Dir_Sin               108.534570  \n",
      "Wind_Dir_Cos               119.301351  \n",
      "The MAE for this fold was 0.10804047202106296\n",
      "Results of trial 63 saved in optuna_iteration_metrics/trial_63.json\n",
      "Current value: 0.10804047202106296, Current params: {'input_chunk_length': 24, 'output_chunk_length': 1, 'dropout': 0.14431556304432144, 'batch_size': 70, 'lr': 0.0001122887899241439, 'weight_decay': 4.870250849993938e-05, 'num_layers': 1, 'num_blocks': 3, 'num_stacks': 2, 'layer_widths': 192, 'activation': 'ReLU', 'loss_fn': 'huber', 'optimizer': 'RMSprop'}\n",
      "Best value: 0.10596477232492901, Best params: {'input_chunk_length': 45, 'output_chunk_length': 1, 'dropout': 0.1300946376042601, 'batch_size': 104, 'lr': 0.00011494227662736073, 'weight_decay': 8.444384638688174e-05, 'num_layers': 1, 'num_blocks': 4, 'num_stacks': 3, 'layer_widths': 243, 'activation': 'GELU', 'loss_fn': 'huber', 'optimizer': 'AdamW'}\n",
      "\n",
      "Starting Trial 64\n",
      "Hyperparameters: {'input_chunk_length': 25, 'output_chunk_length': 2, 'dropout': 0.14290443015166981, 'batch_size': 69, 'lr': 0.00010752291545568433, 'weight_decay': 8.973179834685495e-05, 'num_layers': 1, 'num_blocks': 3, 'num_stacks': 2, 'layer_widths': 192, 'activation': 'ReLU', 'loss_fn': 'huber', 'optimizer': 'RMSprop'}\n",
      "\n",
      "Training the model...\n",
      "Train set: 6647 samples\n",
      "Validation set: 1662 samples\n"
     ]
    },
    {
     "name": "stderr",
     "output_type": "stream",
     "text": [
      "Metric val_loss improved. New best score: 0.027\n",
      "Metric val_loss improved by 0.004 >= min_delta = 0.0005. New best score: 0.023\n",
      "Metric val_loss improved by 0.001 >= min_delta = 0.0005. New best score: 0.022\n",
      "Metric val_loss improved by 0.002 >= min_delta = 0.0005. New best score: 0.020\n",
      "Metric val_loss improved by 0.001 >= min_delta = 0.0005. New best score: 0.019\n",
      "Metric val_loss improved by 0.001 >= min_delta = 0.0005. New best score: 0.018\n",
      "Metric val_loss improved by 0.001 >= min_delta = 0.0005. New best score: 0.017\n",
      "Metric val_loss improved by 0.001 >= min_delta = 0.0005. New best score: 0.016\n",
      "Monitored metric val_loss did not improve in the last 15 records. Best score: 0.016. Signaling Trainer to stop.\n",
      "GPU available: True (cuda), used: True\n",
      "TPU available: False, using: 0 TPU cores\n",
      "HPU available: False, using: 0 HPUs\n",
      "LOCAL_RANK: 0 - CUDA_VISIBLE_DEVICES: [0]\n"
     ]
    },
    {
     "name": "stdout",
     "output_type": "stream",
     "text": [
      "Model loaded from checkpoint for trial 64\n"
     ]
    },
    {
     "name": "stderr",
     "output_type": "stream",
     "text": [
      "/home/eduardo/Documentos/Water-Cycle-Neural-Network/venv/lib/python3.12/site-packages/pytorch_lightning/trainer/connectors/data_connector.py:425: The 'predict_dataloader' does not have many workers which may be a bottleneck. Consider increasing the value of the `num_workers` argument` to `num_workers=11` in the `DataLoader` to improve performance.\n",
      "[I 2025-05-26 18:33:43,969] Trial 64 finished with value: 0.11960765710089494 and parameters: {'input_chunk_length': 25, 'output_chunk_length': 2, 'dropout': 0.14290443015166981, 'batch_size': 69, 'lr': 0.00010752291545568433, 'weight_decay': 8.973179834685495e-05, 'num_layers': 1, 'num_blocks': 3, 'num_stacks': 2, 'layer_widths': 192, 'activation': 'ReLU', 'loss_fn': 'huber', 'optimizer': 'RMSprop'}. Best is trial 35 with value: 0.10596477232492901.\n",
      "Specified future encoders in `add_encoders` at model creation but model does not accept future covariates. future encoders will be ignored.\n",
      "GPU available: True (cuda), used: True\n",
      "TPU available: False, using: 0 TPU cores\n",
      "HPU available: False, using: 0 HPUs\n",
      "LOCAL_RANK: 0 - CUDA_VISIBLE_DEVICES: [0]\n"
     ]
    },
    {
     "name": "stdout",
     "output_type": "stream",
     "text": [
      "Starting time series verification for consistency...\n",
      "\n",
      "Performance metrics:\n",
      "                                    MSE        RMSE         MAE          R2  \\\n",
      "Temperature                    6.687961    2.586109    2.083161    0.780710   \n",
      "Precipitation_accumulated   1365.533998   36.953132   30.706258 -395.058334   \n",
      "Humidity                      65.389875    8.086401    6.506201    0.553849   \n",
      "Wind_Speed_kmh                 1.213388    1.101539    0.833636    0.101578   \n",
      "Soil_Moisture              79210.313792  281.443269  221.212781   -0.370609   \n",
      "Soil_Temperature               7.971818    2.823441    2.369526    0.506650   \n",
      "Wind_Dir_Sin                   0.519834    0.720995    0.607687    0.054757   \n",
      "Wind_Dir_Cos                   0.348930    0.590703    0.495825    0.050980   \n",
      "\n",
      "                                SMAPE  \n",
      "Temperature                 33.863255  \n",
      "Precipitation_accumulated    6.928948  \n",
      "Humidity                     7.768168  \n",
      "Wind_Speed_kmh              75.058369  \n",
      "Soil_Moisture                2.631649  \n",
      "Soil_Temperature            45.839356  \n",
      "Wind_Dir_Sin               125.056454  \n",
      "Wind_Dir_Cos               122.935967  \n",
      "The MAE for this fold was 0.11960765710089494\n",
      "Results of trial 64 saved in optuna_iteration_metrics/trial_64.json\n",
      "Current value: 0.11960765710089494, Current params: {'input_chunk_length': 25, 'output_chunk_length': 2, 'dropout': 0.14290443015166981, 'batch_size': 69, 'lr': 0.00010752291545568433, 'weight_decay': 8.973179834685495e-05, 'num_layers': 1, 'num_blocks': 3, 'num_stacks': 2, 'layer_widths': 192, 'activation': 'ReLU', 'loss_fn': 'huber', 'optimizer': 'RMSprop'}\n",
      "Best value: 0.10596477232492901, Best params: {'input_chunk_length': 45, 'output_chunk_length': 1, 'dropout': 0.1300946376042601, 'batch_size': 104, 'lr': 0.00011494227662736073, 'weight_decay': 8.444384638688174e-05, 'num_layers': 1, 'num_blocks': 4, 'num_stacks': 3, 'layer_widths': 243, 'activation': 'GELU', 'loss_fn': 'huber', 'optimizer': 'AdamW'}\n",
      "\n",
      "Starting Trial 65\n",
      "Hyperparameters: {'input_chunk_length': 24, 'output_chunk_length': 4, 'dropout': 0.16128055611324862, 'batch_size': 93, 'lr': 0.0001736447027835426, 'weight_decay': 4.101032056984475e-05, 'num_layers': 1, 'num_blocks': 3, 'num_stacks': 2, 'layer_widths': 207, 'activation': 'ReLU', 'loss_fn': 'huber', 'optimizer': 'RMSprop'}\n",
      "\n",
      "Training the model...\n",
      "Train set: 6647 samples\n",
      "Validation set: 1662 samples\n"
     ]
    },
    {
     "name": "stderr",
     "output_type": "stream",
     "text": [
      "Metric val_loss improved. New best score: 0.025\n",
      "Metric val_loss improved by 0.001 >= min_delta = 0.0005. New best score: 0.024\n",
      "Metric val_loss improved by 0.001 >= min_delta = 0.0005. New best score: 0.023\n",
      "Metric val_loss improved by 0.001 >= min_delta = 0.0005. New best score: 0.022\n",
      "Metric val_loss improved by 0.002 >= min_delta = 0.0005. New best score: 0.020\n",
      "[I 2025-05-26 18:34:03,974] Trial 65 pruned. Trial was pruned at epoch 6.\n",
      "Specified future encoders in `add_encoders` at model creation but model does not accept future covariates. future encoders will be ignored.\n",
      "GPU available: True (cuda), used: True\n",
      "TPU available: False, using: 0 TPU cores\n",
      "HPU available: False, using: 0 HPUs\n",
      "LOCAL_RANK: 0 - CUDA_VISIBLE_DEVICES: [0]\n"
     ]
    },
    {
     "name": "stdout",
     "output_type": "stream",
     "text": [
      "Current value: 0.021927598499409288, Current params: {'input_chunk_length': 24, 'output_chunk_length': 4, 'dropout': 0.16128055611324862, 'batch_size': 93, 'lr': 0.0001736447027835426, 'weight_decay': 4.101032056984475e-05, 'num_layers': 1, 'num_blocks': 3, 'num_stacks': 2, 'layer_widths': 207, 'activation': 'ReLU', 'loss_fn': 'huber', 'optimizer': 'RMSprop'}\n",
      "Best value: 0.10596477232492901, Best params: {'input_chunk_length': 45, 'output_chunk_length': 1, 'dropout': 0.1300946376042601, 'batch_size': 104, 'lr': 0.00011494227662736073, 'weight_decay': 8.444384638688174e-05, 'num_layers': 1, 'num_blocks': 4, 'num_stacks': 3, 'layer_widths': 243, 'activation': 'GELU', 'loss_fn': 'huber', 'optimizer': 'AdamW'}\n",
      "\n",
      "Starting Trial 66\n",
      "Hyperparameters: {'input_chunk_length': 30, 'output_chunk_length': 5, 'dropout': 0.1192812758672282, 'batch_size': 85, 'lr': 0.00038748661926000795, 'weight_decay': 1.665023155552513e-05, 'num_layers': 2, 'num_blocks': 3, 'num_stacks': 2, 'layer_widths': 215, 'activation': 'ReLU', 'loss_fn': 'mse', 'optimizer': 'RMSprop'}\n",
      "\n",
      "Training the model...\n",
      "Train set: 6647 samples\n",
      "Validation set: 1662 samples\n"
     ]
    },
    {
     "name": "stderr",
     "output_type": "stream",
     "text": [
      "[I 2025-05-26 18:34:08,493] Trial 66 pruned. Trial was pruned at epoch 0.\n",
      "Specified future encoders in `add_encoders` at model creation but model does not accept future covariates. future encoders will be ignored.\n",
      "GPU available: True (cuda), used: True\n",
      "TPU available: False, using: 0 TPU cores\n",
      "HPU available: False, using: 0 HPUs\n",
      "LOCAL_RANK: 0 - CUDA_VISIBLE_DEVICES: [0]\n"
     ]
    },
    {
     "name": "stdout",
     "output_type": "stream",
     "text": [
      "Current value: 0.05623545320066878, Current params: {'input_chunk_length': 30, 'output_chunk_length': 5, 'dropout': 0.1192812758672282, 'batch_size': 85, 'lr': 0.00038748661926000795, 'weight_decay': 1.665023155552513e-05, 'num_layers': 2, 'num_blocks': 3, 'num_stacks': 2, 'layer_widths': 215, 'activation': 'ReLU', 'loss_fn': 'mse', 'optimizer': 'RMSprop'}\n",
      "Best value: 0.10596477232492901, Best params: {'input_chunk_length': 45, 'output_chunk_length': 1, 'dropout': 0.1300946376042601, 'batch_size': 104, 'lr': 0.00011494227662736073, 'weight_decay': 8.444384638688174e-05, 'num_layers': 1, 'num_blocks': 4, 'num_stacks': 3, 'layer_widths': 243, 'activation': 'GELU', 'loss_fn': 'huber', 'optimizer': 'AdamW'}\n",
      "\n",
      "Starting Trial 67\n",
      "Hyperparameters: {'input_chunk_length': 34, 'output_chunk_length': 21, 'dropout': 0.44078004404669446, 'batch_size': 74, 'lr': 0.000140703027416129, 'weight_decay': 2.851700290000123e-05, 'num_layers': 1, 'num_blocks': 2, 'num_stacks': 1, 'layer_widths': 247, 'activation': 'ReLU', 'loss_fn': 'huber', 'optimizer': 'RMSprop'}\n",
      "\n",
      "Training the model...\n",
      "Train set: 6647 samples\n",
      "Validation set: 1662 samples\n"
     ]
    },
    {
     "name": "stderr",
     "output_type": "stream",
     "text": [
      "[I 2025-05-26 18:34:12,765] Trial 67 pruned. Trial was pruned at epoch 0.\n",
      "Specified future encoders in `add_encoders` at model creation but model does not accept future covariates. future encoders will be ignored.\n",
      "GPU available: True (cuda), used: True\n",
      "TPU available: False, using: 0 TPU cores\n",
      "HPU available: False, using: 0 HPUs\n",
      "LOCAL_RANK: 0 - CUDA_VISIBLE_DEVICES: [0]\n"
     ]
    },
    {
     "name": "stdout",
     "output_type": "stream",
     "text": [
      "Current value: 0.06610522715939508, Current params: {'input_chunk_length': 34, 'output_chunk_length': 21, 'dropout': 0.44078004404669446, 'batch_size': 74, 'lr': 0.000140703027416129, 'weight_decay': 2.851700290000123e-05, 'num_layers': 1, 'num_blocks': 2, 'num_stacks': 1, 'layer_widths': 247, 'activation': 'ReLU', 'loss_fn': 'huber', 'optimizer': 'RMSprop'}\n",
      "Best value: 0.10596477232492901, Best params: {'input_chunk_length': 45, 'output_chunk_length': 1, 'dropout': 0.1300946376042601, 'batch_size': 104, 'lr': 0.00011494227662736073, 'weight_decay': 8.444384638688174e-05, 'num_layers': 1, 'num_blocks': 4, 'num_stacks': 3, 'layer_widths': 243, 'activation': 'GELU', 'loss_fn': 'huber', 'optimizer': 'AdamW'}\n",
      "\n",
      "Starting Trial 68\n",
      "Hyperparameters: {'input_chunk_length': 26, 'output_chunk_length': 3, 'dropout': 0.14926229915701336, 'batch_size': 97, 'lr': 3.596837845465862e-05, 'weight_decay': 4.884053276436349e-06, 'num_layers': 1, 'num_blocks': 3, 'num_stacks': 2, 'layer_widths': 200, 'activation': 'ReLU', 'loss_fn': 'huber', 'optimizer': 'RMSprop'}\n",
      "\n",
      "Training the model...\n",
      "Train set: 6647 samples\n",
      "Validation set: 1662 samples\n"
     ]
    },
    {
     "name": "stderr",
     "output_type": "stream",
     "text": [
      "[I 2025-05-26 18:34:17,070] Trial 68 pruned. Trial was pruned at epoch 0.\n",
      "Specified future encoders in `add_encoders` at model creation but model does not accept future covariates. future encoders will be ignored.\n",
      "GPU available: True (cuda), used: True\n",
      "TPU available: False, using: 0 TPU cores\n",
      "HPU available: False, using: 0 HPUs\n",
      "LOCAL_RANK: 0 - CUDA_VISIBLE_DEVICES: [0]\n"
     ]
    },
    {
     "name": "stdout",
     "output_type": "stream",
     "text": [
      "Current value: 0.036582991835383695, Current params: {'input_chunk_length': 26, 'output_chunk_length': 3, 'dropout': 0.14926229915701336, 'batch_size': 97, 'lr': 3.596837845465862e-05, 'weight_decay': 4.884053276436349e-06, 'num_layers': 1, 'num_blocks': 3, 'num_stacks': 2, 'layer_widths': 200, 'activation': 'ReLU', 'loss_fn': 'huber', 'optimizer': 'RMSprop'}\n",
      "Best value: 0.10596477232492901, Best params: {'input_chunk_length': 45, 'output_chunk_length': 1, 'dropout': 0.1300946376042601, 'batch_size': 104, 'lr': 0.00011494227662736073, 'weight_decay': 8.444384638688174e-05, 'num_layers': 1, 'num_blocks': 4, 'num_stacks': 3, 'layer_widths': 243, 'activation': 'GELU', 'loss_fn': 'huber', 'optimizer': 'AdamW'}\n",
      "\n",
      "Starting Trial 69\n",
      "Hyperparameters: {'input_chunk_length': 29, 'output_chunk_length': 1, 'dropout': 0.13348639071854643, 'batch_size': 65, 'lr': 1.0232844386190029e-06, 'weight_decay': 9.35770168813464e-06, 'num_layers': 2, 'num_blocks': 1, 'num_stacks': 2, 'layer_widths': 171, 'activation': 'ReLU', 'loss_fn': 'mae', 'optimizer': 'RMSprop'}\n",
      "\n",
      "Training the model...\n",
      "Train set: 6647 samples\n",
      "Validation set: 1662 samples\n"
     ]
    },
    {
     "name": "stderr",
     "output_type": "stream",
     "text": [
      "[I 2025-05-26 18:34:21,372] Trial 69 pruned. Trial was pruned at epoch 0.\n"
     ]
    },
    {
     "name": "stdout",
     "output_type": "stream",
     "text": [
      "Current value: 0.48625419488335586, Current params: {'input_chunk_length': 29, 'output_chunk_length': 1, 'dropout': 0.13348639071854643, 'batch_size': 65, 'lr': 1.0232844386190029e-06, 'weight_decay': 9.35770168813464e-06, 'num_layers': 2, 'num_blocks': 1, 'num_stacks': 2, 'layer_widths': 171, 'activation': 'ReLU', 'loss_fn': 'mae', 'optimizer': 'RMSprop'}\n",
      "Best value: 0.10596477232492901, Best params: {'input_chunk_length': 45, 'output_chunk_length': 1, 'dropout': 0.1300946376042601, 'batch_size': 104, 'lr': 0.00011494227662736073, 'weight_decay': 8.444384638688174e-05, 'num_layers': 1, 'num_blocks': 4, 'num_stacks': 3, 'layer_widths': 243, 'activation': 'GELU', 'loss_fn': 'huber', 'optimizer': 'AdamW'}\n",
      "\n",
      "Starting Trial 70\n",
      "Hyperparameters: {'input_chunk_length': 27, 'output_chunk_length': 24, 'dropout': 0.16183059549587486, 'batch_size': 86, 'lr': 6.28594774806635e-05, 'weight_decay': 1.2390665811474599e-06, 'num_layers': 1, 'num_blocks': 3, 'num_stacks': 1, 'layer_widths': 236, 'activation': 'ReLU', 'loss_fn': 'huber', 'optimizer': 'SGD'}\n",
      "\n",
      "Training the model...\n",
      "Train set: 6647 samples\n",
      "Validation set: 1662 samples\n"
     ]
    },
    {
     "name": "stderr",
     "output_type": "stream",
     "text": [
      "Specified future encoders in `add_encoders` at model creation but model does not accept future covariates. future encoders will be ignored.\n",
      "GPU available: True (cuda), used: True\n",
      "TPU available: False, using: 0 TPU cores\n",
      "HPU available: False, using: 0 HPUs\n",
      "LOCAL_RANK: 0 - CUDA_VISIBLE_DEVICES: [0]\n",
      "[I 2025-05-26 18:35:10,533] Trial 70 pruned. Trial was pruned at epoch 0.\n",
      "Specified future encoders in `add_encoders` at model creation but model does not accept future covariates. future encoders will be ignored.\n",
      "GPU available: True (cuda), used: True\n",
      "TPU available: False, using: 0 TPU cores\n",
      "HPU available: False, using: 0 HPUs\n",
      "LOCAL_RANK: 0 - CUDA_VISIBLE_DEVICES: [0]\n"
     ]
    },
    {
     "name": "stdout",
     "output_type": "stream",
     "text": [
      "Current value: 0.20245402473679822, Current params: {'input_chunk_length': 27, 'output_chunk_length': 24, 'dropout': 0.16183059549587486, 'batch_size': 86, 'lr': 6.28594774806635e-05, 'weight_decay': 1.2390665811474599e-06, 'num_layers': 1, 'num_blocks': 3, 'num_stacks': 1, 'layer_widths': 236, 'activation': 'ReLU', 'loss_fn': 'huber', 'optimizer': 'SGD'}\n",
      "Best value: 0.10596477232492901, Best params: {'input_chunk_length': 45, 'output_chunk_length': 1, 'dropout': 0.1300946376042601, 'batch_size': 104, 'lr': 0.00011494227662736073, 'weight_decay': 8.444384638688174e-05, 'num_layers': 1, 'num_blocks': 4, 'num_stacks': 3, 'layer_widths': 243, 'activation': 'GELU', 'loss_fn': 'huber', 'optimizer': 'AdamW'}\n",
      "\n",
      "Starting Trial 71\n",
      "Hyperparameters: {'input_chunk_length': 41, 'output_chunk_length': 1, 'dropout': 0.18612612582454918, 'batch_size': 77, 'lr': 0.0002358187294992504, 'weight_decay': 5.216583511000947e-05, 'num_layers': 1, 'num_blocks': 4, 'num_stacks': 3, 'layer_widths': 229, 'activation': 'ReLU', 'loss_fn': 'huber', 'optimizer': 'RMSprop'}\n",
      "\n",
      "Training the model...\n",
      "Train set: 6647 samples\n",
      "Validation set: 1662 samples\n"
     ]
    },
    {
     "name": "stderr",
     "output_type": "stream",
     "text": [
      "Metric val_loss improved. New best score: 0.025\n",
      "Metric val_loss improved by 0.002 >= min_delta = 0.0005. New best score: 0.023\n",
      "[I 2025-05-26 18:35:28,102] Trial 71 pruned. Trial was pruned at epoch 4.\n"
     ]
    },
    {
     "name": "stdout",
     "output_type": "stream",
     "text": [
      "Current value: 0.02884611732521116, Current params: {'input_chunk_length': 41, 'output_chunk_length': 1, 'dropout': 0.18612612582454918, 'batch_size': 77, 'lr': 0.0002358187294992504, 'weight_decay': 5.216583511000947e-05, 'num_layers': 1, 'num_blocks': 4, 'num_stacks': 3, 'layer_widths': 229, 'activation': 'ReLU', 'loss_fn': 'huber', 'optimizer': 'RMSprop'}\n",
      "Best value: 0.10596477232492901, Best params: {'input_chunk_length': 45, 'output_chunk_length': 1, 'dropout': 0.1300946376042601, 'batch_size': 104, 'lr': 0.00011494227662736073, 'weight_decay': 8.444384638688174e-05, 'num_layers': 1, 'num_blocks': 4, 'num_stacks': 3, 'layer_widths': 243, 'activation': 'GELU', 'loss_fn': 'huber', 'optimizer': 'AdamW'}\n",
      "\n",
      "Starting Trial 72\n",
      "Hyperparameters: {'input_chunk_length': 44, 'output_chunk_length': 1, 'dropout': 0.1766783912934549, 'batch_size': 82, 'lr': 0.0003356541360470208, 'weight_decay': 7.982651890602002e-05, 'num_layers': 1, 'num_blocks': 4, 'num_stacks': 3, 'layer_widths': 156, 'activation': 'ReLU', 'loss_fn': 'huber', 'optimizer': 'AdamW'}\n",
      "\n",
      "Training the model...\n",
      "Train set: 6647 samples\n",
      "Validation set: 1662 samples\n"
     ]
    },
    {
     "name": "stderr",
     "output_type": "stream",
     "text": [
      "Specified future encoders in `add_encoders` at model creation but model does not accept future covariates. future encoders will be ignored.\n",
      "GPU available: True (cuda), used: True\n",
      "TPU available: False, using: 0 TPU cores\n",
      "HPU available: False, using: 0 HPUs\n",
      "LOCAL_RANK: 0 - CUDA_VISIBLE_DEVICES: [0]\n",
      "Metric val_loss improved. New best score: 0.025\n",
      "Metric val_loss improved by 0.001 >= min_delta = 0.0005. New best score: 0.024\n",
      "Metric val_loss improved by 0.001 >= min_delta = 0.0005. New best score: 0.023\n",
      "Metric val_loss improved by 0.003 >= min_delta = 0.0005. New best score: 0.020\n",
      "Metric val_loss improved by 0.001 >= min_delta = 0.0005. New best score: 0.019\n",
      "Metric val_loss improved by 0.002 >= min_delta = 0.0005. New best score: 0.017\n",
      "Metric val_loss improved by 0.001 >= min_delta = 0.0005. New best score: 0.017\n",
      "Metric val_loss improved by 0.001 >= min_delta = 0.0005. New best score: 0.016\n",
      "Metric val_loss improved by 0.001 >= min_delta = 0.0005. New best score: 0.015\n",
      "`Trainer.fit` stopped: `max_epochs=30` reached.\n",
      "GPU available: True (cuda), used: True\n",
      "TPU available: False, using: 0 TPU cores\n",
      "HPU available: False, using: 0 HPUs\n",
      "LOCAL_RANK: 0 - CUDA_VISIBLE_DEVICES: [0]\n"
     ]
    },
    {
     "name": "stdout",
     "output_type": "stream",
     "text": [
      "Model loaded from checkpoint for trial 72\n"
     ]
    },
    {
     "name": "stderr",
     "output_type": "stream",
     "text": [
      "/home/eduardo/Documentos/Water-Cycle-Neural-Network/venv/lib/python3.12/site-packages/pytorch_lightning/trainer/connectors/data_connector.py:425: The 'predict_dataloader' does not have many workers which may be a bottleneck. Consider increasing the value of the `num_workers` argument` to `num_workers=11` in the `DataLoader` to improve performance.\n",
      "[I 2025-05-26 18:41:39,520] Trial 72 finished with value: 0.11389226839971019 and parameters: {'input_chunk_length': 44, 'output_chunk_length': 1, 'dropout': 0.1766783912934549, 'batch_size': 82, 'lr': 0.0003356541360470208, 'weight_decay': 7.982651890602002e-05, 'num_layers': 1, 'num_blocks': 4, 'num_stacks': 3, 'layer_widths': 156, 'activation': 'ReLU', 'loss_fn': 'huber', 'optimizer': 'AdamW'}. Best is trial 35 with value: 0.10596477232492901.\n",
      "Specified future encoders in `add_encoders` at model creation but model does not accept future covariates. future encoders will be ignored.\n",
      "GPU available: True (cuda), used: True\n",
      "TPU available: False, using: 0 TPU cores\n",
      "HPU available: False, using: 0 HPUs\n",
      "LOCAL_RANK: 0 - CUDA_VISIBLE_DEVICES: [0]\n"
     ]
    },
    {
     "name": "stdout",
     "output_type": "stream",
     "text": [
      "Starting time series verification for consistency...\n",
      "\n",
      "Performance metrics:\n",
      "                                    MSE        RMSE         MAE          R2  \\\n",
      "Temperature                    6.874963    2.622015    2.074318    0.774869   \n",
      "Precipitation_accumulated   1103.444852   33.218140   26.737958 -328.158769   \n",
      "Humidity                      59.502633    7.713795    6.073073    0.594346   \n",
      "Wind_Speed_kmh                 1.071490    1.035128    0.822807    0.204654   \n",
      "Soil_Moisture              98544.098079  313.917343  255.599371   -0.831590   \n",
      "Soil_Temperature               8.472941    2.910832    2.395220    0.474481   \n",
      "Wind_Dir_Sin                   0.469074    0.684890    0.558317    0.149558   \n",
      "Wind_Dir_Cos                   0.314037    0.560390    0.468283    0.143173   \n",
      "\n",
      "                                SMAPE  \n",
      "Temperature                 34.367771  \n",
      "Precipitation_accumulated    6.002657  \n",
      "Humidity                     7.206858  \n",
      "Wind_Speed_kmh              69.060832  \n",
      "Soil_Moisture                3.034693  \n",
      "Soil_Temperature            49.254620  \n",
      "Wind_Dir_Sin               112.966879  \n",
      "Wind_Dir_Cos               119.121560  \n",
      "The MAE for this fold was 0.11389226839971019\n",
      "Results of trial 72 saved in optuna_iteration_metrics/trial_72.json\n",
      "Current value: 0.11389226839971019, Current params: {'input_chunk_length': 44, 'output_chunk_length': 1, 'dropout': 0.1766783912934549, 'batch_size': 82, 'lr': 0.0003356541360470208, 'weight_decay': 7.982651890602002e-05, 'num_layers': 1, 'num_blocks': 4, 'num_stacks': 3, 'layer_widths': 156, 'activation': 'ReLU', 'loss_fn': 'huber', 'optimizer': 'AdamW'}\n",
      "Best value: 0.10596477232492901, Best params: {'input_chunk_length': 45, 'output_chunk_length': 1, 'dropout': 0.1300946376042601, 'batch_size': 104, 'lr': 0.00011494227662736073, 'weight_decay': 8.444384638688174e-05, 'num_layers': 1, 'num_blocks': 4, 'num_stacks': 3, 'layer_widths': 243, 'activation': 'GELU', 'loss_fn': 'huber', 'optimizer': 'AdamW'}\n",
      "\n",
      "Starting Trial 73\n",
      "Hyperparameters: {'input_chunk_length': 24, 'output_chunk_length': 2, 'dropout': 0.11266494690818046, 'batch_size': 138, 'lr': 0.0008208570937204943, 'weight_decay': 9.233960320589749e-05, 'num_layers': 1, 'num_blocks': 4, 'num_stacks': 3, 'layer_widths': 162, 'activation': 'ReLU', 'loss_fn': 'huber', 'optimizer': 'AdamW'}\n",
      "\n",
      "Training the model...\n",
      "Train set: 6647 samples\n",
      "Validation set: 1662 samples\n"
     ]
    },
    {
     "name": "stderr",
     "output_type": "stream",
     "text": [
      "Metric val_loss improved. New best score: 0.027\n",
      "[I 2025-05-26 18:41:46,429] Trial 73 pruned. Trial was pruned at epoch 1.\n",
      "Specified future encoders in `add_encoders` at model creation but model does not accept future covariates. future encoders will be ignored.\n",
      "GPU available: True (cuda), used: True\n",
      "TPU available: False, using: 0 TPU cores\n",
      "HPU available: False, using: 0 HPUs\n",
      "LOCAL_RANK: 0 - CUDA_VISIBLE_DEVICES: [0]\n"
     ]
    },
    {
     "name": "stdout",
     "output_type": "stream",
     "text": [
      "Current value: 0.02684643306306138, Current params: {'input_chunk_length': 24, 'output_chunk_length': 2, 'dropout': 0.11266494690818046, 'batch_size': 138, 'lr': 0.0008208570937204943, 'weight_decay': 9.233960320589749e-05, 'num_layers': 1, 'num_blocks': 4, 'num_stacks': 3, 'layer_widths': 162, 'activation': 'ReLU', 'loss_fn': 'huber', 'optimizer': 'AdamW'}\n",
      "Best value: 0.10596477232492901, Best params: {'input_chunk_length': 45, 'output_chunk_length': 1, 'dropout': 0.1300946376042601, 'batch_size': 104, 'lr': 0.00011494227662736073, 'weight_decay': 8.444384638688174e-05, 'num_layers': 1, 'num_blocks': 4, 'num_stacks': 3, 'layer_widths': 243, 'activation': 'GELU', 'loss_fn': 'huber', 'optimizer': 'AdamW'}\n",
      "\n",
      "Starting Trial 74\n",
      "Hyperparameters: {'input_chunk_length': 46, 'output_chunk_length': 3, 'dropout': 0.210943397614613, 'batch_size': 69, 'lr': 0.0005294484552783101, 'weight_decay': 0.00019410824802185427, 'num_layers': 1, 'num_blocks': 3, 'num_stacks': 3, 'layer_widths': 155, 'activation': 'ReLU', 'loss_fn': 'huber', 'optimizer': 'RMSprop'}\n",
      "\n",
      "Training the model...\n",
      "Train set: 6647 samples\n",
      "Validation set: 1662 samples\n"
     ]
    },
    {
     "name": "stderr",
     "output_type": "stream",
     "text": [
      "Metric val_loss improved. New best score: 0.031\n",
      "Metric val_loss improved by 0.008 >= min_delta = 0.0005. New best score: 0.023\n",
      "Metric val_loss improved by 0.002 >= min_delta = 0.0005. New best score: 0.021\n",
      "[I 2025-05-26 18:42:10,206] Trial 74 pruned. Trial was pruned at epoch 6.\n",
      "Specified future encoders in `add_encoders` at model creation but model does not accept future covariates. future encoders will be ignored.\n",
      "GPU available: True (cuda), used: True\n",
      "TPU available: False, using: 0 TPU cores\n",
      "HPU available: False, using: 0 HPUs\n",
      "LOCAL_RANK: 0 - CUDA_VISIBLE_DEVICES: [0]\n"
     ]
    },
    {
     "name": "stdout",
     "output_type": "stream",
     "text": [
      "Current value: 0.022117155257356032, Current params: {'input_chunk_length': 46, 'output_chunk_length': 3, 'dropout': 0.210943397614613, 'batch_size': 69, 'lr': 0.0005294484552783101, 'weight_decay': 0.00019410824802185427, 'num_layers': 1, 'num_blocks': 3, 'num_stacks': 3, 'layer_widths': 155, 'activation': 'ReLU', 'loss_fn': 'huber', 'optimizer': 'RMSprop'}\n",
      "Best value: 0.10596477232492901, Best params: {'input_chunk_length': 45, 'output_chunk_length': 1, 'dropout': 0.1300946376042601, 'batch_size': 104, 'lr': 0.00011494227662736073, 'weight_decay': 8.444384638688174e-05, 'num_layers': 1, 'num_blocks': 4, 'num_stacks': 3, 'layer_widths': 243, 'activation': 'GELU', 'loss_fn': 'huber', 'optimizer': 'AdamW'}\n",
      "\n",
      "Starting Trial 75\n",
      "Hyperparameters: {'input_chunk_length': 49, 'output_chunk_length': 2, 'dropout': 0.1709394430922811, 'batch_size': 95, 'lr': 0.000186169185565385, 'weight_decay': 2.369025086716743e-05, 'num_layers': 1, 'num_blocks': 4, 'num_stacks': 2, 'layer_widths': 141, 'activation': 'ReLU', 'loss_fn': 'huber', 'optimizer': 'AdamW'}\n",
      "\n",
      "Training the model...\n",
      "Train set: 6647 samples\n",
      "Validation set: 1662 samples\n"
     ]
    },
    {
     "name": "stderr",
     "output_type": "stream",
     "text": [
      "Metric val_loss improved. New best score: 0.027\n",
      "Metric val_loss improved by 0.005 >= min_delta = 0.0005. New best score: 0.022\n",
      "Metric val_loss improved by 0.001 >= min_delta = 0.0005. New best score: 0.021\n",
      "Metric val_loss improved by 0.001 >= min_delta = 0.0005. New best score: 0.020\n",
      "Metric val_loss improved by 0.001 >= min_delta = 0.0005. New best score: 0.019\n",
      "Metric val_loss improved by 0.001 >= min_delta = 0.0005. New best score: 0.019\n",
      "Metric val_loss improved by 0.001 >= min_delta = 0.0005. New best score: 0.018\n",
      "Metric val_loss improved by 0.001 >= min_delta = 0.0005. New best score: 0.017\n",
      "`Trainer.fit` stopped: `max_epochs=30` reached.\n",
      "GPU available: True (cuda), used: True\n",
      "TPU available: False, using: 0 TPU cores\n",
      "HPU available: False, using: 0 HPUs\n",
      "LOCAL_RANK: 0 - CUDA_VISIBLE_DEVICES: [0]\n"
     ]
    },
    {
     "name": "stdout",
     "output_type": "stream",
     "text": [
      "Model loaded from checkpoint for trial 75\n"
     ]
    },
    {
     "name": "stderr",
     "output_type": "stream",
     "text": [
      "/home/eduardo/Documentos/Water-Cycle-Neural-Network/venv/lib/python3.12/site-packages/pytorch_lightning/trainer/connectors/data_connector.py:425: The 'predict_dataloader' does not have many workers which may be a bottleneck. Consider increasing the value of the `num_workers` argument` to `num_workers=11` in the `DataLoader` to improve performance.\n",
      "[I 2025-05-26 18:45:10,846] Trial 75 finished with value: 0.12733733956151133 and parameters: {'input_chunk_length': 49, 'output_chunk_length': 2, 'dropout': 0.1709394430922811, 'batch_size': 95, 'lr': 0.000186169185565385, 'weight_decay': 2.369025086716743e-05, 'num_layers': 1, 'num_blocks': 4, 'num_stacks': 2, 'layer_widths': 141, 'activation': 'ReLU', 'loss_fn': 'huber', 'optimizer': 'AdamW'}. Best is trial 35 with value: 0.10596477232492901.\n",
      "Specified future encoders in `add_encoders` at model creation but model does not accept future covariates. future encoders will be ignored.\n",
      "GPU available: True (cuda), used: True\n",
      "TPU available: False, using: 0 TPU cores\n",
      "HPU available: False, using: 0 HPUs\n",
      "LOCAL_RANK: 0 - CUDA_VISIBLE_DEVICES: [0]\n"
     ]
    },
    {
     "name": "stdout",
     "output_type": "stream",
     "text": [
      "Starting time series verification for consistency...\n",
      "\n",
      "Performance metrics:\n",
      "                                     MSE        RMSE         MAE          R2  \\\n",
      "Temperature                    11.052965    3.324600    2.745690    0.637266   \n",
      "Precipitation_accumulated    1416.054826   37.630504   32.314438 -425.580483   \n",
      "Humidity                       63.934603    7.995912    6.573744    0.563904   \n",
      "Wind_Speed_kmh                  1.396974    1.181936    0.903175   -0.038276   \n",
      "Soil_Moisture              109714.831812  331.232293  253.047884   -1.084071   \n",
      "Soil_Temperature                9.401982    3.066265    2.497583    0.415383   \n",
      "Wind_Dir_Sin                    0.542263    0.736385    0.620102    0.015427   \n",
      "Wind_Dir_Cos                    0.402088    0.634104    0.526198   -0.096027   \n",
      "\n",
      "                                SMAPE  \n",
      "Temperature                 41.073319  \n",
      "Precipitation_accumulated    7.283397  \n",
      "Humidity                     7.716577  \n",
      "Wind_Speed_kmh              79.758769  \n",
      "Soil_Moisture                2.926853  \n",
      "Soil_Temperature            43.676488  \n",
      "Wind_Dir_Sin               125.738253  \n",
      "Wind_Dir_Cos               124.558926  \n",
      "The MAE for this fold was 0.12733733956151133\n",
      "Results of trial 75 saved in optuna_iteration_metrics/trial_75.json\n",
      "Current value: 0.12733733956151133, Current params: {'input_chunk_length': 49, 'output_chunk_length': 2, 'dropout': 0.1709394430922811, 'batch_size': 95, 'lr': 0.000186169185565385, 'weight_decay': 2.369025086716743e-05, 'num_layers': 1, 'num_blocks': 4, 'num_stacks': 2, 'layer_widths': 141, 'activation': 'ReLU', 'loss_fn': 'huber', 'optimizer': 'AdamW'}\n",
      "Best value: 0.10596477232492901, Best params: {'input_chunk_length': 45, 'output_chunk_length': 1, 'dropout': 0.1300946376042601, 'batch_size': 104, 'lr': 0.00011494227662736073, 'weight_decay': 8.444384638688174e-05, 'num_layers': 1, 'num_blocks': 4, 'num_stacks': 3, 'layer_widths': 243, 'activation': 'GELU', 'loss_fn': 'huber', 'optimizer': 'AdamW'}\n",
      "\n",
      "Starting Trial 76\n",
      "Hyperparameters: {'input_chunk_length': 53, 'output_chunk_length': 1, 'dropout': 0.1400348191089289, 'batch_size': 111, 'lr': 8.368070040198097e-05, 'weight_decay': 7.287097688875012e-05, 'num_layers': 2, 'num_blocks': 3, 'num_stacks': 4, 'layer_widths': 192, 'activation': 'ReLU', 'loss_fn': 'smoothl1', 'optimizer': 'AdamW'}\n",
      "\n",
      "Training the model...\n",
      "Train set: 6647 samples\n",
      "Validation set: 1662 samples\n"
     ]
    },
    {
     "name": "stderr",
     "output_type": "stream",
     "text": [
      "Metric val_loss improved. New best score: 0.027\n",
      "Metric val_loss improved by 0.004 >= min_delta = 0.0005. New best score: 0.023\n",
      "Metric val_loss improved by 0.001 >= min_delta = 0.0005. New best score: 0.023\n",
      "[I 2025-05-26 18:45:28,694] Trial 76 pruned. Trial was pruned at epoch 4.\n",
      "Specified future encoders in `add_encoders` at model creation but model does not accept future covariates. future encoders will be ignored.\n",
      "GPU available: True (cuda), used: True\n",
      "TPU available: False, using: 0 TPU cores\n",
      "HPU available: False, using: 0 HPUs\n",
      "LOCAL_RANK: 0 - CUDA_VISIBLE_DEVICES: [0]\n"
     ]
    },
    {
     "name": "stdout",
     "output_type": "stream",
     "text": [
      "Current value: 0.022963858245825853, Current params: {'input_chunk_length': 53, 'output_chunk_length': 1, 'dropout': 0.1400348191089289, 'batch_size': 111, 'lr': 8.368070040198097e-05, 'weight_decay': 7.287097688875012e-05, 'num_layers': 2, 'num_blocks': 3, 'num_stacks': 4, 'layer_widths': 192, 'activation': 'ReLU', 'loss_fn': 'smoothl1', 'optimizer': 'AdamW'}\n",
      "Best value: 0.10596477232492901, Best params: {'input_chunk_length': 45, 'output_chunk_length': 1, 'dropout': 0.1300946376042601, 'batch_size': 104, 'lr': 0.00011494227662736073, 'weight_decay': 8.444384638688174e-05, 'num_layers': 1, 'num_blocks': 4, 'num_stacks': 3, 'layer_widths': 243, 'activation': 'GELU', 'loss_fn': 'huber', 'optimizer': 'AdamW'}\n",
      "\n",
      "Starting Trial 77\n",
      "Hyperparameters: {'input_chunk_length': 44, 'output_chunk_length': 3, 'dropout': 0.12687748575519944, 'batch_size': 84, 'lr': 0.00035282852098868884, 'weight_decay': 0.0001494149113314248, 'num_layers': 1, 'num_blocks': 4, 'num_stacks': 3, 'layer_widths': 116, 'activation': 'ReLU', 'loss_fn': 'huber', 'optimizer': 'AdamW'}\n",
      "\n",
      "Training the model...\n",
      "Train set: 6647 samples\n",
      "Validation set: 1662 samples\n"
     ]
    },
    {
     "name": "stderr",
     "output_type": "stream",
     "text": [
      "Metric val_loss improved. New best score: 0.027\n",
      "Metric val_loss improved by 0.002 >= min_delta = 0.0005. New best score: 0.025\n",
      "Metric val_loss improved by 0.004 >= min_delta = 0.0005. New best score: 0.021\n",
      "Metric val_loss improved by 0.001 >= min_delta = 0.0005. New best score: 0.020\n",
      "[I 2025-05-26 18:45:53,381] Trial 77 pruned. Trial was pruned at epoch 6.\n",
      "Specified future encoders in `add_encoders` at model creation but model does not accept future covariates. future encoders will be ignored.\n",
      "GPU available: True (cuda), used: True\n",
      "TPU available: False, using: 0 TPU cores\n",
      "HPU available: False, using: 0 HPUs\n",
      "LOCAL_RANK: 0 - CUDA_VISIBLE_DEVICES: [0]\n"
     ]
    },
    {
     "name": "stdout",
     "output_type": "stream",
     "text": [
      "Current value: 0.020156707382432533, Current params: {'input_chunk_length': 44, 'output_chunk_length': 3, 'dropout': 0.12687748575519944, 'batch_size': 84, 'lr': 0.00035282852098868884, 'weight_decay': 0.0001494149113314248, 'num_layers': 1, 'num_blocks': 4, 'num_stacks': 3, 'layer_widths': 116, 'activation': 'ReLU', 'loss_fn': 'huber', 'optimizer': 'AdamW'}\n",
      "Best value: 0.10596477232492901, Best params: {'input_chunk_length': 45, 'output_chunk_length': 1, 'dropout': 0.1300946376042601, 'batch_size': 104, 'lr': 0.00011494227662736073, 'weight_decay': 8.444384638688174e-05, 'num_layers': 1, 'num_blocks': 4, 'num_stacks': 3, 'layer_widths': 243, 'activation': 'GELU', 'loss_fn': 'huber', 'optimizer': 'AdamW'}\n",
      "\n",
      "Starting Trial 78\n",
      "Hyperparameters: {'input_chunk_length': 37, 'output_chunk_length': 14, 'dropout': 0.25006928645949167, 'batch_size': 101, 'lr': 0.00011530046552137611, 'weight_decay': 0.0003652960013768339, 'num_layers': 1, 'num_blocks': 3, 'num_stacks': 2, 'layer_widths': 186, 'activation': 'ReLU', 'loss_fn': 'huber', 'optimizer': 'SGD'}\n",
      "\n",
      "Training the model...\n",
      "Train set: 6647 samples\n",
      "Validation set: 1662 samples\n"
     ]
    },
    {
     "name": "stderr",
     "output_type": "stream",
     "text": [
      "[I 2025-05-26 18:45:57,604] Trial 78 pruned. Trial was pruned at epoch 0.\n",
      "Specified future encoders in `add_encoders` at model creation but model does not accept future covariates. future encoders will be ignored.\n",
      "GPU available: True (cuda), used: True\n",
      "TPU available: False, using: 0 TPU cores\n",
      "HPU available: False, using: 0 HPUs\n",
      "LOCAL_RANK: 0 - CUDA_VISIBLE_DEVICES: [0]\n"
     ]
    },
    {
     "name": "stdout",
     "output_type": "stream",
     "text": [
      "Current value: 0.16423708566146675, Current params: {'input_chunk_length': 37, 'output_chunk_length': 14, 'dropout': 0.25006928645949167, 'batch_size': 101, 'lr': 0.00011530046552137611, 'weight_decay': 0.0003652960013768339, 'num_layers': 1, 'num_blocks': 3, 'num_stacks': 2, 'layer_widths': 186, 'activation': 'ReLU', 'loss_fn': 'huber', 'optimizer': 'SGD'}\n",
      "Best value: 0.10596477232492901, Best params: {'input_chunk_length': 45, 'output_chunk_length': 1, 'dropout': 0.1300946376042601, 'batch_size': 104, 'lr': 0.00011494227662736073, 'weight_decay': 8.444384638688174e-05, 'num_layers': 1, 'num_blocks': 4, 'num_stacks': 3, 'layer_widths': 243, 'activation': 'GELU', 'loss_fn': 'huber', 'optimizer': 'AdamW'}\n",
      "\n",
      "Starting Trial 79\n",
      "Hyperparameters: {'input_chunk_length': 47, 'output_chunk_length': 1, 'dropout': 0.15932311290193166, 'batch_size': 76, 'lr': 0.0001693790894585615, 'weight_decay': 3.6519757102881155e-05, 'num_layers': 1, 'num_blocks': 4, 'num_stacks': 3, 'layer_widths': 209, 'activation': 'ReLU', 'loss_fn': 'huber', 'optimizer': 'RMSprop'}\n",
      "\n",
      "Training the model...\n",
      "Train set: 6647 samples\n",
      "Validation set: 1662 samples\n"
     ]
    },
    {
     "name": "stderr",
     "output_type": "stream",
     "text": [
      "Metric val_loss improved. New best score: 0.026\n",
      "Metric val_loss improved by 0.002 >= min_delta = 0.0005. New best score: 0.024\n",
      "[I 2025-05-26 18:46:09,237] Trial 79 pruned. Trial was pruned at epoch 2.\n",
      "Specified future encoders in `add_encoders` at model creation but model does not accept future covariates. future encoders will be ignored.\n",
      "GPU available: True (cuda), used: True\n",
      "TPU available: False, using: 0 TPU cores\n",
      "HPU available: False, using: 0 HPUs\n",
      "LOCAL_RANK: 0 - CUDA_VISIBLE_DEVICES: [0]\n"
     ]
    },
    {
     "name": "stdout",
     "output_type": "stream",
     "text": [
      "Current value: 0.02457506652044913, Current params: {'input_chunk_length': 47, 'output_chunk_length': 1, 'dropout': 0.15932311290193166, 'batch_size': 76, 'lr': 0.0001693790894585615, 'weight_decay': 3.6519757102881155e-05, 'num_layers': 1, 'num_blocks': 4, 'num_stacks': 3, 'layer_widths': 209, 'activation': 'ReLU', 'loss_fn': 'huber', 'optimizer': 'RMSprop'}\n",
      "Best value: 0.10596477232492901, Best params: {'input_chunk_length': 45, 'output_chunk_length': 1, 'dropout': 0.1300946376042601, 'batch_size': 104, 'lr': 0.00011494227662736073, 'weight_decay': 8.444384638688174e-05, 'num_layers': 1, 'num_blocks': 4, 'num_stacks': 3, 'layer_widths': 243, 'activation': 'GELU', 'loss_fn': 'huber', 'optimizer': 'AdamW'}\n",
      "\n",
      "Starting Trial 80\n",
      "Hyperparameters: {'input_chunk_length': 40, 'output_chunk_length': 4, 'dropout': 0.20217901399830301, 'batch_size': 192, 'lr': 0.00041945019343214376, 'weight_decay': 1.1723104142037871e-05, 'num_layers': 5, 'num_blocks': 3, 'num_stacks': 4, 'layer_widths': 241, 'activation': 'ReLU', 'loss_fn': 'huber', 'optimizer': 'AdamW'}\n",
      "\n",
      "Training the model...\n",
      "Train set: 6647 samples\n",
      "Validation set: 1662 samples\n"
     ]
    },
    {
     "name": "stderr",
     "output_type": "stream",
     "text": [
      "[I 2025-05-26 18:46:13,925] Trial 80 pruned. Trial was pruned at epoch 0.\n",
      "Specified future encoders in `add_encoders` at model creation but model does not accept future covariates. future encoders will be ignored.\n",
      "GPU available: True (cuda), used: True\n",
      "TPU available: False, using: 0 TPU cores\n",
      "HPU available: False, using: 0 HPUs\n",
      "LOCAL_RANK: 0 - CUDA_VISIBLE_DEVICES: [0]\n"
     ]
    },
    {
     "name": "stdout",
     "output_type": "stream",
     "text": [
      "Current value: 0.05453824829088084, Current params: {'input_chunk_length': 40, 'output_chunk_length': 4, 'dropout': 0.20217901399830301, 'batch_size': 192, 'lr': 0.00041945019343214376, 'weight_decay': 1.1723104142037871e-05, 'num_layers': 5, 'num_blocks': 3, 'num_stacks': 4, 'layer_widths': 241, 'activation': 'ReLU', 'loss_fn': 'huber', 'optimizer': 'AdamW'}\n",
      "Best value: 0.10596477232492901, Best params: {'input_chunk_length': 45, 'output_chunk_length': 1, 'dropout': 0.1300946376042601, 'batch_size': 104, 'lr': 0.00011494227662736073, 'weight_decay': 8.444384638688174e-05, 'num_layers': 1, 'num_blocks': 4, 'num_stacks': 3, 'layer_widths': 243, 'activation': 'GELU', 'loss_fn': 'huber', 'optimizer': 'AdamW'}\n",
      "\n",
      "Starting Trial 81\n",
      "Hyperparameters: {'input_chunk_length': 43, 'output_chunk_length': 1, 'dropout': 0.17960698321661894, 'batch_size': 90, 'lr': 0.0002464997807157843, 'weight_decay': 5.4600856820983513e-05, 'num_layers': 1, 'num_blocks': 4, 'num_stacks': 3, 'layer_widths': 222, 'activation': 'ReLU', 'loss_fn': 'huber', 'optimizer': 'AdamW'}\n",
      "\n",
      "Training the model...\n",
      "Train set: 6647 samples\n",
      "Validation set: 1662 samples\n"
     ]
    },
    {
     "name": "stderr",
     "output_type": "stream",
     "text": [
      "Metric val_loss improved. New best score: 0.024\n",
      "Metric val_loss improved by 0.001 >= min_delta = 0.0005. New best score: 0.022\n",
      "Metric val_loss improved by 0.002 >= min_delta = 0.0005. New best score: 0.021\n",
      "Metric val_loss improved by 0.001 >= min_delta = 0.0005. New best score: 0.019\n",
      "Metric val_loss improved by 0.001 >= min_delta = 0.0005. New best score: 0.018\n",
      "Metric val_loss improved by 0.001 >= min_delta = 0.0005. New best score: 0.017\n",
      "Metric val_loss improved by 0.001 >= min_delta = 0.0005. New best score: 0.017\n",
      "Monitored metric val_loss did not improve in the last 15 records. Best score: 0.017. Signaling Trainer to stop.\n",
      "`Trainer.fit` stopped: `max_epochs=30` reached.\n",
      "GPU available: True (cuda), used: True\n",
      "TPU available: False, using: 0 TPU cores\n",
      "HPU available: False, using: 0 HPUs\n",
      "LOCAL_RANK: 0 - CUDA_VISIBLE_DEVICES: [0]\n"
     ]
    },
    {
     "name": "stdout",
     "output_type": "stream",
     "text": [
      "Model loaded from checkpoint for trial 81\n"
     ]
    },
    {
     "name": "stderr",
     "output_type": "stream",
     "text": [
      "/home/eduardo/Documentos/Water-Cycle-Neural-Network/venv/lib/python3.12/site-packages/pytorch_lightning/trainer/connectors/data_connector.py:425: The 'predict_dataloader' does not have many workers which may be a bottleneck. Consider increasing the value of the `num_workers` argument` to `num_workers=11` in the `DataLoader` to improve performance.\n",
      "[I 2025-05-26 18:51:47,768] Trial 81 finished with value: 0.12333175367945846 and parameters: {'input_chunk_length': 43, 'output_chunk_length': 1, 'dropout': 0.17960698321661894, 'batch_size': 90, 'lr': 0.0002464997807157843, 'weight_decay': 5.4600856820983513e-05, 'num_layers': 1, 'num_blocks': 4, 'num_stacks': 3, 'layer_widths': 222, 'activation': 'ReLU', 'loss_fn': 'huber', 'optimizer': 'AdamW'}. Best is trial 35 with value: 0.10596477232492901.\n",
      "Specified future encoders in `add_encoders` at model creation but model does not accept future covariates. future encoders will be ignored.\n",
      "GPU available: True (cuda), used: True\n"
     ]
    },
    {
     "name": "stdout",
     "output_type": "stream",
     "text": [
      "Starting time series verification for consistency...\n",
      "\n",
      "Performance metrics:\n",
      "                                     MSE        RMSE         MAE          R2  \\\n",
      "Temperature                    10.564813    3.250356    2.522928    0.654172   \n",
      "Precipitation_accumulated    1611.689403   40.145852   33.430665 -478.994695   \n",
      "Humidity                       55.994158    7.482924    6.094361    0.618296   \n",
      "Wind_Speed_kmh                  1.033225    1.016477    0.778132    0.233359   \n",
      "Soil_Moisture              170166.384590  412.512284  332.468344   -2.152325   \n",
      "Soil_Temperature               15.258841    3.906257    3.391357    0.053879   \n",
      "Wind_Dir_Sin                    0.492421    0.701727    0.577773    0.108079   \n",
      "Wind_Dir_Cos                    0.339543    0.582703    0.484487    0.073083   \n",
      "\n",
      "                                SMAPE  \n",
      "Temperature                 40.746123  \n",
      "Precipitation_accumulated    7.576637  \n",
      "Humidity                     7.230253  \n",
      "Wind_Speed_kmh              71.479253  \n",
      "Soil_Moisture                3.950903  \n",
      "Soil_Temperature            78.914598  \n",
      "Wind_Dir_Sin               115.768315  \n",
      "Wind_Dir_Cos               118.654818  \n",
      "The MAE for this fold was 0.12333175367945846\n",
      "Results of trial 81 saved in optuna_iteration_metrics/trial_81.json\n",
      "Current value: 0.12333175367945846, Current params: {'input_chunk_length': 43, 'output_chunk_length': 1, 'dropout': 0.17960698321661894, 'batch_size': 90, 'lr': 0.0002464997807157843, 'weight_decay': 5.4600856820983513e-05, 'num_layers': 1, 'num_blocks': 4, 'num_stacks': 3, 'layer_widths': 222, 'activation': 'ReLU', 'loss_fn': 'huber', 'optimizer': 'AdamW'}\n",
      "Best value: 0.10596477232492901, Best params: {'input_chunk_length': 45, 'output_chunk_length': 1, 'dropout': 0.1300946376042601, 'batch_size': 104, 'lr': 0.00011494227662736073, 'weight_decay': 8.444384638688174e-05, 'num_layers': 1, 'num_blocks': 4, 'num_stacks': 3, 'layer_widths': 243, 'activation': 'GELU', 'loss_fn': 'huber', 'optimizer': 'AdamW'}\n",
      "\n",
      "Starting Trial 82\n",
      "Hyperparameters: {'input_chunk_length': 44, 'output_chunk_length': 2, 'dropout': 0.1475903454937003, 'batch_size': 81, 'lr': 0.0002879253945427169, 'weight_decay': 2.589268752522587e-05, 'num_layers': 1, 'num_blocks': 4, 'num_stacks': 3, 'layer_widths': 232, 'activation': 'ReLU', 'loss_fn': 'huber', 'optimizer': 'AdamW'}\n",
      "\n",
      "Training the model...\n",
      "Train set: 6647 samples\n",
      "Validation set: 1662 samples\n"
     ]
    },
    {
     "name": "stderr",
     "output_type": "stream",
     "text": [
      "TPU available: False, using: 0 TPU cores\n",
      "HPU available: False, using: 0 HPUs\n",
      "LOCAL_RANK: 0 - CUDA_VISIBLE_DEVICES: [0]\n",
      "Metric val_loss improved. New best score: 0.025\n",
      "Metric val_loss improved by 0.002 >= min_delta = 0.0005. New best score: 0.023\n",
      "Metric val_loss improved by 0.001 >= min_delta = 0.0005. New best score: 0.023\n",
      "Metric val_loss improved by 0.002 >= min_delta = 0.0005. New best score: 0.020\n",
      "Metric val_loss improved by 0.001 >= min_delta = 0.0005. New best score: 0.019\n",
      "Metric val_loss improved by 0.001 >= min_delta = 0.0005. New best score: 0.018\n",
      "Metric val_loss improved by 0.001 >= min_delta = 0.0005. New best score: 0.018\n",
      "[I 2025-05-26 18:53:13,358] Trial 82 pruned. Trial was pruned at epoch 22.\n",
      "Specified future encoders in `add_encoders` at model creation but model does not accept future covariates. future encoders will be ignored.\n",
      "GPU available: True (cuda), used: True\n",
      "TPU available: False, using: 0 TPU cores\n",
      "HPU available: False, using: 0 HPUs\n",
      "LOCAL_RANK: 0 - CUDA_VISIBLE_DEVICES: [0]\n"
     ]
    },
    {
     "name": "stdout",
     "output_type": "stream",
     "text": [
      "Current value: 0.01884318284619389, Current params: {'input_chunk_length': 44, 'output_chunk_length': 2, 'dropout': 0.1475903454937003, 'batch_size': 81, 'lr': 0.0002879253945427169, 'weight_decay': 2.589268752522587e-05, 'num_layers': 1, 'num_blocks': 4, 'num_stacks': 3, 'layer_widths': 232, 'activation': 'ReLU', 'loss_fn': 'huber', 'optimizer': 'AdamW'}\n",
      "Best value: 0.10596477232492901, Best params: {'input_chunk_length': 45, 'output_chunk_length': 1, 'dropout': 0.1300946376042601, 'batch_size': 104, 'lr': 0.00011494227662736073, 'weight_decay': 8.444384638688174e-05, 'num_layers': 1, 'num_blocks': 4, 'num_stacks': 3, 'layer_widths': 243, 'activation': 'GELU', 'loss_fn': 'huber', 'optimizer': 'AdamW'}\n",
      "\n",
      "Starting Trial 83\n",
      "Hyperparameters: {'input_chunk_length': 42, 'output_chunk_length': 1, 'dropout': 0.39649383347752315, 'batch_size': 72, 'lr': 0.0006828562724098162, 'weight_decay': 8.189187488245716e-05, 'num_layers': 1, 'num_blocks': 4, 'num_stacks': 3, 'layer_widths': 215, 'activation': 'ReLU', 'loss_fn': 'huber', 'optimizer': 'AdamW'}\n",
      "\n",
      "Training the model...\n",
      "Train set: 6647 samples\n",
      "Validation set: 1662 samples\n"
     ]
    },
    {
     "name": "stderr",
     "output_type": "stream",
     "text": [
      "Metric val_loss improved. New best score: 0.027\n",
      "Metric val_loss improved by 0.004 >= min_delta = 0.0005. New best score: 0.024\n",
      "Metric val_loss improved by 0.002 >= min_delta = 0.0005. New best score: 0.022\n",
      "Metric val_loss improved by 0.001 >= min_delta = 0.0005. New best score: 0.021\n",
      "Metric val_loss improved by 0.001 >= min_delta = 0.0005. New best score: 0.019\n",
      "Metric val_loss improved by 0.001 >= min_delta = 0.0005. New best score: 0.018\n",
      "Metric val_loss improved by 0.001 >= min_delta = 0.0005. New best score: 0.018\n",
      "Metric val_loss improved by 0.001 >= min_delta = 0.0005. New best score: 0.017\n",
      "Metric val_loss improved by 0.001 >= min_delta = 0.0005. New best score: 0.016\n",
      "Metric val_loss improved by 0.001 >= min_delta = 0.0005. New best score: 0.015\n",
      "`Trainer.fit` stopped: `max_epochs=30` reached.\n",
      "GPU available: True (cuda), used: True\n",
      "TPU available: False, using: 0 TPU cores\n",
      "HPU available: False, using: 0 HPUs\n",
      "LOCAL_RANK: 0 - CUDA_VISIBLE_DEVICES: [0]\n"
     ]
    },
    {
     "name": "stdout",
     "output_type": "stream",
     "text": [
      "Model loaded from checkpoint for trial 83\n"
     ]
    },
    {
     "name": "stderr",
     "output_type": "stream",
     "text": [
      "/home/eduardo/Documentos/Water-Cycle-Neural-Network/venv/lib/python3.12/site-packages/pytorch_lightning/trainer/connectors/data_connector.py:425: The 'predict_dataloader' does not have many workers which may be a bottleneck. Consider increasing the value of the `num_workers` argument` to `num_workers=11` in the `DataLoader` to improve performance.\n",
      "[I 2025-05-26 18:55:09,896] Trial 83 finished with value: 0.11965380679406812 and parameters: {'input_chunk_length': 42, 'output_chunk_length': 1, 'dropout': 0.39649383347752315, 'batch_size': 72, 'lr': 0.0006828562724098162, 'weight_decay': 8.189187488245716e-05, 'num_layers': 1, 'num_blocks': 4, 'num_stacks': 3, 'layer_widths': 215, 'activation': 'ReLU', 'loss_fn': 'huber', 'optimizer': 'AdamW'}. Best is trial 35 with value: 0.10596477232492901.\n",
      "Specified future encoders in `add_encoders` at model creation but model does not accept future covariates. future encoders will be ignored.\n"
     ]
    },
    {
     "name": "stdout",
     "output_type": "stream",
     "text": [
      "Starting time series verification for consistency...\n",
      "\n",
      "Performance metrics:\n",
      "                                     MSE        RMSE         MAE          R2  \\\n",
      "Temperature                     6.943594    2.635070    2.135618    0.772761   \n",
      "Precipitation_accumulated    1412.620392   37.584843   33.249662 -419.033595   \n",
      "Humidity                       56.359920    7.507324    6.096354    0.615835   \n",
      "Wind_Speed_kmh                  1.189551    1.090666    0.861276    0.116933   \n",
      "Soil_Moisture              192394.758576  438.628269  370.229755   -2.551798   \n",
      "Soil_Temperature                8.271665    2.876050    2.395804    0.487216   \n",
      "Wind_Dir_Sin                    0.450770    0.671394    0.555709    0.183905   \n",
      "Wind_Dir_Cos                    0.313568    0.559971    0.470091    0.143668   \n",
      "\n",
      "                                SMAPE  \n",
      "Temperature                 34.909615  \n",
      "Precipitation_accumulated    7.495587  \n",
      "Humidity                     7.224864  \n",
      "Wind_Speed_kmh              71.967825  \n",
      "Soil_Moisture                4.421192  \n",
      "Soil_Temperature            44.167932  \n",
      "Wind_Dir_Sin               113.274229  \n",
      "Wind_Dir_Cos               118.451363  \n",
      "The MAE for this fold was 0.11965380679406812\n",
      "Results of trial 83 saved in optuna_iteration_metrics/trial_83.json\n",
      "Current value: 0.11965380679406812, Current params: {'input_chunk_length': 42, 'output_chunk_length': 1, 'dropout': 0.39649383347752315, 'batch_size': 72, 'lr': 0.0006828562724098162, 'weight_decay': 8.189187488245716e-05, 'num_layers': 1, 'num_blocks': 4, 'num_stacks': 3, 'layer_widths': 215, 'activation': 'ReLU', 'loss_fn': 'huber', 'optimizer': 'AdamW'}\n",
      "Best value: 0.10596477232492901, Best params: {'input_chunk_length': 45, 'output_chunk_length': 1, 'dropout': 0.1300946376042601, 'batch_size': 104, 'lr': 0.00011494227662736073, 'weight_decay': 8.444384638688174e-05, 'num_layers': 1, 'num_blocks': 4, 'num_stacks': 3, 'layer_widths': 243, 'activation': 'GELU', 'loss_fn': 'huber', 'optimizer': 'AdamW'}\n",
      "\n",
      "Starting Trial 84\n",
      "Hyperparameters: {'input_chunk_length': 46, 'output_chunk_length': 2, 'dropout': 0.4811207527903224, 'batch_size': 64, 'lr': 0.00033049770714826184, 'weight_decay': 0.0001283389227016068, 'num_layers': 2, 'num_blocks': 4, 'num_stacks': 3, 'layer_widths': 251, 'activation': 'ReLU', 'loss_fn': 'huber', 'optimizer': 'AdamW'}\n",
      "\n",
      "Training the model...\n",
      "Train set: 6647 samples\n",
      "Validation set: 1662 samples\n"
     ]
    },
    {
     "name": "stderr",
     "output_type": "stream",
     "text": [
      "GPU available: True (cuda), used: True\n",
      "TPU available: False, using: 0 TPU cores\n",
      "HPU available: False, using: 0 HPUs\n",
      "LOCAL_RANK: 0 - CUDA_VISIBLE_DEVICES: [0]\n",
      "[I 2025-05-26 18:55:15,781] Trial 84 pruned. Trial was pruned at epoch 0.\n",
      "Specified future encoders in `add_encoders` at model creation but model does not accept future covariates. future encoders will be ignored.\n",
      "GPU available: True (cuda), used: True\n",
      "TPU available: False, using: 0 TPU cores\n",
      "HPU available: False, using: 0 HPUs\n",
      "LOCAL_RANK: 0 - CUDA_VISIBLE_DEVICES: [0]\n"
     ]
    },
    {
     "name": "stdout",
     "output_type": "stream",
     "text": [
      "Current value: 0.038389620804921525, Current params: {'input_chunk_length': 46, 'output_chunk_length': 2, 'dropout': 0.4811207527903224, 'batch_size': 64, 'lr': 0.00033049770714826184, 'weight_decay': 0.0001283389227016068, 'num_layers': 2, 'num_blocks': 4, 'num_stacks': 3, 'layer_widths': 251, 'activation': 'ReLU', 'loss_fn': 'huber', 'optimizer': 'AdamW'}\n",
      "Best value: 0.10596477232492901, Best params: {'input_chunk_length': 45, 'output_chunk_length': 1, 'dropout': 0.1300946376042601, 'batch_size': 104, 'lr': 0.00011494227662736073, 'weight_decay': 8.444384638688174e-05, 'num_layers': 1, 'num_blocks': 4, 'num_stacks': 3, 'layer_widths': 243, 'activation': 'GELU', 'loss_fn': 'huber', 'optimizer': 'AdamW'}\n",
      "\n",
      "Starting Trial 85\n",
      "Hyperparameters: {'input_chunk_length': 41, 'output_chunk_length': 1, 'dropout': 0.22185188545383805, 'batch_size': 80, 'lr': 0.00014668124937360124, 'weight_decay': 1.674183014366383e-05, 'num_layers': 1, 'num_blocks': 4, 'num_stacks': 3, 'layer_widths': 243, 'activation': 'ReLU', 'loss_fn': 'mae', 'optimizer': 'AdamW'}\n",
      "\n",
      "Training the model...\n",
      "Train set: 6647 samples\n",
      "Validation set: 1662 samples\n"
     ]
    },
    {
     "name": "stderr",
     "output_type": "stream",
     "text": [
      "[I 2025-05-26 18:55:21,478] Trial 85 pruned. Trial was pruned at epoch 0.\n",
      "Specified future encoders in `add_encoders` at model creation but model does not accept future covariates. future encoders will be ignored.\n",
      "GPU available: True (cuda), used: True\n",
      "TPU available: False, using: 0 TPU cores\n",
      "HPU available: False, using: 0 HPUs\n",
      "LOCAL_RANK: 0 - CUDA_VISIBLE_DEVICES: [0]\n"
     ]
    },
    {
     "name": "stdout",
     "output_type": "stream",
     "text": [
      "Current value: 0.20347611925921116, Current params: {'input_chunk_length': 41, 'output_chunk_length': 1, 'dropout': 0.22185188545383805, 'batch_size': 80, 'lr': 0.00014668124937360124, 'weight_decay': 1.674183014366383e-05, 'num_layers': 1, 'num_blocks': 4, 'num_stacks': 3, 'layer_widths': 243, 'activation': 'ReLU', 'loss_fn': 'mae', 'optimizer': 'AdamW'}\n",
      "Best value: 0.10596477232492901, Best params: {'input_chunk_length': 45, 'output_chunk_length': 1, 'dropout': 0.1300946376042601, 'batch_size': 104, 'lr': 0.00011494227662736073, 'weight_decay': 8.444384638688174e-05, 'num_layers': 1, 'num_blocks': 4, 'num_stacks': 3, 'layer_widths': 243, 'activation': 'GELU', 'loss_fn': 'huber', 'optimizer': 'AdamW'}\n",
      "\n",
      "Starting Trial 86\n",
      "Hyperparameters: {'input_chunk_length': 39, 'output_chunk_length': 2, 'dropout': 0.1897640114784097, 'batch_size': 144, 'lr': 9.982981649576054e-05, 'weight_decay': 5.987487216613033e-05, 'num_layers': 1, 'num_blocks': 4, 'num_stacks': 3, 'layer_widths': 136, 'activation': 'ReLU', 'loss_fn': 'huber', 'optimizer': 'AdamW'}\n",
      "\n",
      "Training the model...\n",
      "Train set: 6647 samples\n",
      "Validation set: 1662 samples\n"
     ]
    },
    {
     "name": "stderr",
     "output_type": "stream",
     "text": [
      "[I 2025-05-26 18:55:26,533] Trial 86 pruned. Trial was pruned at epoch 0.\n",
      "Specified future encoders in `add_encoders` at model creation but model does not accept future covariates. future encoders will be ignored.\n",
      "GPU available: True (cuda), used: True\n",
      "TPU available: False, using: 0 TPU cores\n",
      "HPU available: False, using: 0 HPUs\n",
      "LOCAL_RANK: 0 - CUDA_VISIBLE_DEVICES: [0]\n"
     ]
    },
    {
     "name": "stdout",
     "output_type": "stream",
     "text": [
      "Current value: 0.048312091530511525, Current params: {'input_chunk_length': 39, 'output_chunk_length': 2, 'dropout': 0.1897640114784097, 'batch_size': 144, 'lr': 9.982981649576054e-05, 'weight_decay': 5.987487216613033e-05, 'num_layers': 1, 'num_blocks': 4, 'num_stacks': 3, 'layer_widths': 136, 'activation': 'ReLU', 'loss_fn': 'huber', 'optimizer': 'AdamW'}\n",
      "Best value: 0.10596477232492901, Best params: {'input_chunk_length': 45, 'output_chunk_length': 1, 'dropout': 0.1300946376042601, 'batch_size': 104, 'lr': 0.00011494227662736073, 'weight_decay': 8.444384638688174e-05, 'num_layers': 1, 'num_blocks': 4, 'num_stacks': 3, 'layer_widths': 243, 'activation': 'GELU', 'loss_fn': 'huber', 'optimizer': 'AdamW'}\n",
      "\n",
      "Starting Trial 87\n",
      "Hyperparameters: {'input_chunk_length': 28, 'output_chunk_length': 3, 'dropout': 0.17655529226977215, 'batch_size': 87, 'lr': 0.00020717594165830486, 'weight_decay': 4.4194096270267797e-05, 'num_layers': 1, 'num_blocks': 4, 'num_stacks': 2, 'layer_widths': 102, 'activation': 'GELU', 'loss_fn': 'mse', 'optimizer': 'Adam'}\n",
      "\n",
      "Training the model...\n",
      "Train set: 6647 samples\n",
      "Validation set: 1662 samples\n"
     ]
    },
    {
     "name": "stderr",
     "output_type": "stream",
     "text": [
      "[I 2025-05-26 18:55:31,516] Trial 87 pruned. Trial was pruned at epoch 0.\n",
      "Specified future encoders in `add_encoders` at model creation but model does not accept future covariates. future encoders will be ignored.\n",
      "GPU available: True (cuda), used: True\n",
      "TPU available: False, using: 0 TPU cores\n",
      "HPU available: False, using: 0 HPUs\n",
      "LOCAL_RANK: 0 - CUDA_VISIBLE_DEVICES: [0]\n"
     ]
    },
    {
     "name": "stdout",
     "output_type": "stream",
     "text": [
      "Current value: 0.05686589359706301, Current params: {'input_chunk_length': 28, 'output_chunk_length': 3, 'dropout': 0.17655529226977215, 'batch_size': 87, 'lr': 0.00020717594165830486, 'weight_decay': 4.4194096270267797e-05, 'num_layers': 1, 'num_blocks': 4, 'num_stacks': 2, 'layer_widths': 102, 'activation': 'GELU', 'loss_fn': 'mse', 'optimizer': 'Adam'}\n",
      "Best value: 0.10596477232492901, Best params: {'input_chunk_length': 45, 'output_chunk_length': 1, 'dropout': 0.1300946376042601, 'batch_size': 104, 'lr': 0.00011494227662736073, 'weight_decay': 8.444384638688174e-05, 'num_layers': 1, 'num_blocks': 4, 'num_stacks': 3, 'layer_widths': 243, 'activation': 'GELU', 'loss_fn': 'huber', 'optimizer': 'AdamW'}\n",
      "\n",
      "Starting Trial 88\n",
      "Hyperparameters: {'input_chunk_length': 35, 'output_chunk_length': 5, 'dropout': 0.1251552477475921, 'batch_size': 69, 'lr': 0.0004688683813510609, 'weight_decay': 2.1265746592638615e-06, 'num_layers': 1, 'num_blocks': 3, 'num_stacks': 4, 'layer_widths': 123, 'activation': 'ReLU', 'loss_fn': 'huber', 'optimizer': 'AdamW'}\n",
      "\n",
      "Training the model...\n",
      "Train set: 6647 samples\n",
      "Validation set: 1662 samples\n"
     ]
    },
    {
     "name": "stderr",
     "output_type": "stream",
     "text": [
      "Metric val_loss improved. New best score: 0.028\n",
      "Metric val_loss improved by 0.003 >= min_delta = 0.0005. New best score: 0.025\n",
      "Metric val_loss improved by 0.001 >= min_delta = 0.0005. New best score: 0.023\n",
      "[I 2025-05-26 18:55:53,476] Trial 88 pruned. Trial was pruned at epoch 4.\n",
      "Specified future encoders in `add_encoders` at model creation but model does not accept future covariates. future encoders will be ignored.\n",
      "GPU available: True (cuda), used: True\n",
      "TPU available: False, using: 0 TPU cores\n",
      "HPU available: False, using: 0 HPUs\n",
      "LOCAL_RANK: 0 - CUDA_VISIBLE_DEVICES: [0]\n"
     ]
    },
    {
     "name": "stdout",
     "output_type": "stream",
     "text": [
      "Current value: 0.02277054085767889, Current params: {'input_chunk_length': 35, 'output_chunk_length': 5, 'dropout': 0.1251552477475921, 'batch_size': 69, 'lr': 0.0004688683813510609, 'weight_decay': 2.1265746592638615e-06, 'num_layers': 1, 'num_blocks': 3, 'num_stacks': 4, 'layer_widths': 123, 'activation': 'ReLU', 'loss_fn': 'huber', 'optimizer': 'AdamW'}\n",
      "Best value: 0.10596477232492901, Best params: {'input_chunk_length': 45, 'output_chunk_length': 1, 'dropout': 0.1300946376042601, 'batch_size': 104, 'lr': 0.00011494227662736073, 'weight_decay': 8.444384638688174e-05, 'num_layers': 1, 'num_blocks': 4, 'num_stacks': 3, 'layer_widths': 243, 'activation': 'GELU', 'loss_fn': 'huber', 'optimizer': 'AdamW'}\n",
      "\n",
      "Starting Trial 89\n",
      "Hyperparameters: {'input_chunk_length': 50, 'output_chunk_length': 1, 'dropout': 0.31869398458514314, 'batch_size': 94, 'lr': 0.0006249171047127408, 'weight_decay': 0.00019548992894327885, 'num_layers': 1, 'num_blocks': 4, 'num_stacks': 3, 'layer_widths': 226, 'activation': 'ReLU', 'loss_fn': 'huber', 'optimizer': 'RMSprop'}\n",
      "\n",
      "Training the model...\n",
      "Train set: 6647 samples\n",
      "Validation set: 1662 samples\n"
     ]
    },
    {
     "name": "stderr",
     "output_type": "stream",
     "text": [
      "Metric val_loss improved. New best score: 0.029\n",
      "[I 2025-05-26 18:56:04,093] Trial 89 pruned. Trial was pruned at epoch 1.\n",
      "Specified future encoders in `add_encoders` at model creation but model does not accept future covariates. future encoders will be ignored.\n",
      "GPU available: True (cuda), used: True\n",
      "TPU available: False, using: 0 TPU cores\n",
      "HPU available: False, using: 0 HPUs\n",
      "LOCAL_RANK: 0 - CUDA_VISIBLE_DEVICES: [0]\n"
     ]
    },
    {
     "name": "stdout",
     "output_type": "stream",
     "text": [
      "Current value: 0.0263846387528189, Current params: {'input_chunk_length': 50, 'output_chunk_length': 1, 'dropout': 0.31869398458514314, 'batch_size': 94, 'lr': 0.0006249171047127408, 'weight_decay': 0.00019548992894327885, 'num_layers': 1, 'num_blocks': 4, 'num_stacks': 3, 'layer_widths': 226, 'activation': 'ReLU', 'loss_fn': 'huber', 'optimizer': 'RMSprop'}\n",
      "Best value: 0.10596477232492901, Best params: {'input_chunk_length': 45, 'output_chunk_length': 1, 'dropout': 0.1300946376042601, 'batch_size': 104, 'lr': 0.00011494227662736073, 'weight_decay': 8.444384638688174e-05, 'num_layers': 1, 'num_blocks': 4, 'num_stacks': 3, 'layer_widths': 243, 'activation': 'GELU', 'loss_fn': 'huber', 'optimizer': 'AdamW'}\n",
      "\n",
      "Starting Trial 90\n",
      "Hyperparameters: {'input_chunk_length': 45, 'output_chunk_length': 3, 'dropout': 0.156471208337238, 'batch_size': 107, 'lr': 7.224017135386038e-05, 'weight_decay': 3.384214730445324e-05, 'num_layers': 2, 'num_blocks': 3, 'num_stacks': 2, 'layer_widths': 218, 'activation': 'ReLU', 'loss_fn': 'smoothl1', 'optimizer': 'AdamW'}\n",
      "\n",
      "Training the model...\n",
      "Train set: 6647 samples\n",
      "Validation set: 1662 samples\n"
     ]
    },
    {
     "name": "stderr",
     "output_type": "stream",
     "text": [
      "[I 2025-05-26 18:56:11,030] Trial 90 pruned. Trial was pruned at epoch 0.\n"
     ]
    },
    {
     "name": "stdout",
     "output_type": "stream",
     "text": [
      "Current value: 0.04007860238876095, Current params: {'input_chunk_length': 45, 'output_chunk_length': 3, 'dropout': 0.156471208337238, 'batch_size': 107, 'lr': 7.224017135386038e-05, 'weight_decay': 3.384214730445324e-05, 'num_layers': 2, 'num_blocks': 3, 'num_stacks': 2, 'layer_widths': 218, 'activation': 'ReLU', 'loss_fn': 'smoothl1', 'optimizer': 'AdamW'}\n",
      "Best value: 0.10596477232492901, Best params: {'input_chunk_length': 45, 'output_chunk_length': 1, 'dropout': 0.1300946376042601, 'batch_size': 104, 'lr': 0.00011494227662736073, 'weight_decay': 8.444384638688174e-05, 'num_layers': 1, 'num_blocks': 4, 'num_stacks': 3, 'layer_widths': 243, 'activation': 'GELU', 'loss_fn': 'huber', 'optimizer': 'AdamW'}\n"
     ]
    }
   ],
   "execution_count": 7
  },
  {
   "cell_type": "code",
   "id": "6d067f70903d0a12",
   "metadata": {
    "ExecuteTime": {
     "end_time": "2025-05-26T21:56:11.133647Z",
     "start_time": "2025-05-26T21:56:11.130587Z"
    }
   },
   "source": [
    "print(f\"Best Value (Minimum): {study.best_value}\")\n",
    "print(f\"Best Parameters: {study.best_params}\")"
   ],
   "outputs": [
    {
     "name": "stdout",
     "output_type": "stream",
     "text": [
      "Best Value (Minimum): 0.10596477232492901\n",
      "Best Parameters: {'input_chunk_length': 45, 'output_chunk_length': 1, 'dropout': 0.1300946376042601, 'batch_size': 104, 'lr': 0.00011494227662736073, 'weight_decay': 8.444384638688174e-05, 'num_layers': 1, 'num_blocks': 4, 'num_stacks': 3, 'layer_widths': 243, 'activation': 'GELU', 'loss_fn': 'huber', 'optimizer': 'AdamW'}\n"
     ]
    }
   ],
   "execution_count": 8
  },
  {
   "cell_type": "code",
   "id": "2116824c79bf39cb",
   "metadata": {
    "ExecuteTime": {
     "end_time": "2025-05-26T21:56:11.200398Z",
     "start_time": "2025-05-26T21:56:11.195697Z"
    }
   },
   "source": [
    "best_dict = {\n",
    "    \"best_value\": study.best_value,\n",
    "    \"best_params\": study.best_params,\n",
    "}\n",
    "json_path = os.path.join(results_output_dir, \"best_trial.json\")\n",
    "with open(json_path, 'w') as f:\n",
    "    json.dump(best_dict, f, indent=4)\n",
    "print(f\"Best results saved in {json_path}\")\n"
   ],
   "outputs": [
    {
     "name": "stdout",
     "output_type": "stream",
     "text": [
      "Best results saved in optuna_iteration_metrics/best_trial.json\n"
     ]
    }
   ],
   "execution_count": 9
  }
 ],
 "metadata": {
  "jupytext": {
   "cell_metadata_filter": "-all",
   "main_language": "python",
   "notebook_metadata_filter": "-all"
  },
  "kernelspec": {
   "display_name": "venv",
   "language": "python",
   "name": "python3"
  },
  "language_info": {
   "codemirror_mode": {
    "name": "ipython",
    "version": 3
   },
   "file_extension": ".py",
   "mimetype": "text/x-python",
   "name": "python",
   "nbconvert_exporter": "python",
   "pygments_lexer": "ipython3",
   "version": "3.12.3"
  }
 },
 "nbformat": 4,
 "nbformat_minor": 5
}
