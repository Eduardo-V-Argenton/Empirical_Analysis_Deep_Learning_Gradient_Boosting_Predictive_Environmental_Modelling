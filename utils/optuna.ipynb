{
 "cells": [
  {
   "cell_type": "code",
   "execution_count": 1,
   "id": "9d09c575",
   "metadata": {},
   "outputs": [],
   "source": [
    "import matplotlib.pyplot as plt\n",
    "import numpy as np\n",
    "import pandas as pd\n",
    "from darts import TimeSeries\n",
    "from darts.models import BlockRNNModel\n",
    "from darts.metrics import smape\n",
    "from darts.dataprocessing.transformers import Scaler\n",
    "import torch\n",
    "from pytorch_lightning.callbacks import Callback, EarlyStopping\n",
    "from optuna.integration import PyTorchLightningPruningCallback\n",
    "from pytorch_lightning.callbacks import Callback, EarlyStopping\n",
    "import optuna\n",
    "import os\n",
    "import json\n",
    "\n",
    "# Configurações de visualização\n",
    "plt.style.use('ggplot')\n",
    "plt.rcParams['figure.figsize'] = (12, 6)\n",
    "torch.set_float32_matmul_precision('medium')"
   ]
  },
  {
   "cell_type": "code",
   "execution_count": 2,
   "id": "7ebe2896",
   "metadata": {},
   "outputs": [],
   "source": [
    "target_columns = [\n",
    "    'Temperature','Precipitation_accumulated','Humidity',\n",
    "    'Soil_Moisture', 'Soil_Temperature'\n",
    "]\n",
    "\n",
    "DATA_FILE_PATH = \"../data/ground_station_clean.csv\"\n",
    "df = pd.read_csv(DATA_FILE_PATH)"
   ]
  },
  {
   "cell_type": "code",
   "execution_count": 3,
   "id": "5a26b25f",
   "metadata": {
    "lines_to_next_cell": 0
   },
   "outputs": [],
   "source": [
    "encoders = {\n",
    "    \"cyclic\": {\n",
    "        \"past\": [\"month\", \"dayofyear\", \"day\", \"hour\", \"minute\"],\n",
    "        \"future\": [\"month\", \"dayofyear\", \"day\", \"hour\", \"minute\"]\n",
    "    },\n",
    "    \"transformer\": Scaler(),\n",
    "    \"datetime_attribute\": {\n",
    "        \"past\": [\"year\"],\n",
    "        \"future\": [\"year\"]\n",
    "    }\n",
    "}\n"
   ]
  },
  {
   "cell_type": "code",
   "execution_count": 4,
   "id": "34b598af",
   "metadata": {},
   "outputs": [],
   "source": [
    "class PatchedPruningCallback(PyTorchLightningPruningCallback, Callback):\n",
    "    pass\n",
    "\n",
    "# Create directory to save iteration results\n",
    "results_output_dir = \"optuna_iteration_metrics\"\n",
    "os.makedirs(results_output_dir, exist_ok=True)"
   ]
  },
  {
   "cell_type": "code",
   "execution_count": 5,
   "id": "8018b905",
   "metadata": {},
   "outputs": [],
   "source": [
    "from sklearn.model_selection import TimeSeriesSplit\n",
    "\n",
    "def objective(trial):\n",
    "    input_chunk_length = trial.suggest_int(\"input_chunk_length\", 24, 168, step=12)\n",
    "    hidden_size = trial.suggest_int(\"hidden_size\", 32, 256, step=8)\n",
    "    layer_size = trial.suggest_int(\"layer_size\", 1, 3)\n",
    "    dropout = trial.suggest_float(\"dropout\", 0.1, 0.5, step=0.05)\n",
    "    batch_size = trial.suggest_int(\"batch_size\", 64, 256, step=8)\n",
    "    lr = trial.suggest_float(\"lr\", 1e-6, 5e-3, log=True)\n",
    "    weight_decay = trial.suggest_float(\"weight_decay\", 1e-6, 1e-2, log=True)\n",
    "\n",
    "    early_stopper = EarlyStopping(\"val_loss\", min_delta=0.0005, patience=15, verbose=True)\n",
    "    prunner = PatchedPruningCallback(trial, monitor=\"val_loss\")\n",
    "    pl_trainer_kwargs = {\n",
    "        \"accelerator\": \"auto\",\n",
    "        \"callbacks\": [early_stopper, prunner],\n",
    "    }\n",
    "\n",
    "    n_splits = 3\n",
    "    tscv = TimeSeriesSplit(n_splits=n_splits)\n",
    "    overall_smape_list = []\n",
    "    fold = 0\n",
    "\n",
    "    for train_index, val_index in tscv.split(df):\n",
    "        print(f\"\\nFold {fold+1}/{n_splits}\")\n",
    "        train_df_fold = df.iloc[train_index]\n",
    "        val_df_fold = df.iloc[val_index]\n",
    "        train_fold = TimeSeries.from_dataframe(train_df_fold, time_col=\"Timestamp\", value_cols=target_columns, freq='1h')\n",
    "        val_fold = TimeSeries.from_dataframe(val_df_fold, time_col=\"Timestamp\", value_cols=target_columns, freq='1h')\n",
    "\n",
    "        scaler = Scaler()\n",
    "        scaler = scaler.fit(train_fold)\n",
    "        train_scaled = scaler.transform(train_fold)\n",
    "        val_scaled = scaler.transform(val_fold)\n",
    "\n",
    "        opt_kwargs = {\"lr\": lr, \"weight_decay\": weight_decay}\n",
    "\n",
    "        model = BlockRNNModel(\n",
    "            model=\"GRU\",\n",
    "            model_name=f\"model_{fold+1}\",\n",
    "            work_dir=\"/home/eduardo/Documentos/Water-Cycle-Neural-Network/darts_logs\",\n",
    "            input_chunk_length=input_chunk_length,\n",
    "            output_chunk_length=24,\n",
    "            hidden_dim=hidden_size,\n",
    "            n_rnn_layers=layer_size,\n",
    "            n_epochs=30,\n",
    "            batch_size=batch_size,\n",
    "            dropout=dropout,\n",
    "            add_encoders=encoders,\n",
    "            pl_trainer_kwargs=pl_trainer_kwargs,\n",
    "            loss_fn=torch.nn.L1Loss(),\n",
    "            optimizer_cls=torch.optim.Adam,\n",
    "            lr_scheduler_cls=torch.optim.lr_scheduler.ReduceLROnPlateau,\n",
    "            lr_scheduler_kwargs={\"mode\": \"min\", \"factor\": 0.3, \"patience\": 7, \"min_lr\": 1e-7},\n",
    "            save_checkpoints=True,\n",
    "            force_reset=True,\n",
    "            random_state=42,\n",
    "            optimizer_kwargs=opt_kwargs,\n",
    "        )\n",
    "        model.fit(\n",
    "            series=train_scaled,\n",
    "            val_series=val_scaled,\n",
    "            verbose=False,\n",
    "            dataloader_kwargs={\"num_workers\": 11},\n",
    "        )\n",
    "\n",
    "        try:\n",
    "            loaded_model = model.load_from_checkpoint(f\"/home/eduardo/Documentos/Water-Cycle-Neural-Network/darts_logs/model_{fold+1}\", best=True)\n",
    "            print(f\"Model loaded from checkpoint for trial {trial.number}, fold {fold}\")\n",
    "        except FileNotFoundError:\n",
    "            print(f\"Checkpoint not found. Using the in-memory trained model.\")\n",
    "            loaded_model = model\n",
    "\n",
    "        forecasts = loaded_model.historical_forecasts(\n",
    "            val_scaled,\n",
    "            forecast_horizon=24,\n",
    "            stride=1,\n",
    "            retrain=False,\n",
    "            verbose=False\n",
    "        )\n",
    "\n",
    "        overall_smape_val = smape(val_scaled, forecasts)\n",
    "        print(f\"SMAPE fold {fold}: {overall_smape_val}\")\n",
    "        overall_smape_list.append(overall_smape_val)\n",
    "        fold += 1\n",
    "\n",
    "    mean_smape = np.mean(overall_smape_list)\n",
    "    print(f\"Média dos SMAPE nos folds: {mean_smape}\")\n",
    "\n",
    "    trial_dict = {\n",
    "        \"trial_number\": trial.number,\n",
    "        \"fold_smape\": overall_smape_list,\n",
    "        \"mean_smape\": mean_smape,\n",
    "        \"hyperparameters\": trial.params\n",
    "    }\n",
    "    json_path = os.path.join(results_output_dir, f\"trial_{trial.number}.json\")\n",
    "    with open(json_path, 'w') as f:\n",
    "        json.dump(trial_dict, f, indent=4)\n",
    "    print(f\"Results of trial {trial.number} saved in {json_path}\")\n",
    "    return mean_smape if not np.isnan(mean_smape) else float(\"inf\")"
   ]
  },
  {
   "cell_type": "code",
   "execution_count": 6,
   "id": "71ed8384",
   "metadata": {},
   "outputs": [],
   "source": [
    "def print_callback(study, trial):\n",
    "    print(f\"Current value: {trial.value}, Current params: {trial.params}\")\n",
    "    print(f\"Best value: {study.best_value}, Best params: {study.best_trial.params}\")"
   ]
  },
  {
   "cell_type": "code",
   "execution_count": 7,
   "id": "c016d2f3570996c0",
   "metadata": {
    "ExecuteTime": {
     "end_time": "2025-06-05T19:07:50.838576Z",
     "start_time": "2025-06-05T19:05:40.997387Z"
    }
   },
   "outputs": [
    {
     "name": "stderr",
     "output_type": "stream",
     "text": [
      "[I 2025-06-10 21:47:07,499] A new study created in memory with name: no-name-68981ada-55e8-468e-8d68-9a4549d8855f\n"
     ]
    },
    {
     "name": "stdout",
     "output_type": "stream",
     "text": [
      "\n",
      "Fold 1/3\n"
     ]
    },
    {
     "name": "stderr",
     "output_type": "stream",
     "text": [
      "Specified future encoders in `add_encoders` at model creation but model does not accept future covariates. future encoders will be ignored.\n",
      "GPU available: True (cuda), used: True\n",
      "TPU available: False, using: 0 TPU cores\n",
      "HPU available: False, using: 0 HPUs\n",
      "LOCAL_RANK: 0 - CUDA_VISIBLE_DEVICES: [0]\n",
      "Metric val_loss improved. New best score: 12.943\n",
      "Metric val_loss improved by 0.099 >= min_delta = 0.0005. New best score: 12.843\n",
      "Metric val_loss improved by 0.004 >= min_delta = 0.0005. New best score: 12.839\n",
      "Metric val_loss improved by 0.065 >= min_delta = 0.0005. New best score: 12.774\n",
      "Metric val_loss improved by 0.029 >= min_delta = 0.0005. New best score: 12.745\n",
      "Metric val_loss improved by 0.001 >= min_delta = 0.0005. New best score: 12.743\n",
      "Metric val_loss improved by 0.015 >= min_delta = 0.0005. New best score: 12.728\n",
      "Metric val_loss improved by 0.008 >= min_delta = 0.0005. New best score: 12.721\n",
      "`Trainer.fit` stopped: `max_epochs=30` reached.\n",
      "GPU available: True (cuda), used: True\n",
      "TPU available: False, using: 0 TPU cores\n",
      "HPU available: False, using: 0 HPUs\n",
      "LOCAL_RANK: 0 - CUDA_VISIBLE_DEVICES: [0]\n"
     ]
    },
    {
     "name": "stdout",
     "output_type": "stream",
     "text": [
      "Model loaded from checkpoint for trial 0, fold 0\n"
     ]
    },
    {
     "name": "stderr",
     "output_type": "stream",
     "text": [
      "Specified future encoders in `add_encoders` at model creation but model does not accept future covariates. future encoders will be ignored.\n",
      "GPU available: True (cuda), used: True\n",
      "TPU available: False, using: 0 TPU cores\n",
      "HPU available: False, using: 0 HPUs\n",
      "LOCAL_RANK: 0 - CUDA_VISIBLE_DEVICES: [0]\n"
     ]
    },
    {
     "name": "stdout",
     "output_type": "stream",
     "text": [
      "SMAPE fold 0: 147.91254177957103\n",
      "\n",
      "Fold 2/3\n"
     ]
    },
    {
     "name": "stderr",
     "output_type": "stream",
     "text": [
      "/home/eduardo/Documentos/Water-Cycle-Neural-Network/venv/lib/python3.12/site-packages/optuna/trial/_trial.py:497: UserWarning: The reported value is ignored because this `step` 0 is already reported.\n",
      "  warnings.warn(\n",
      "Metric val_loss improved by 12.623 >= min_delta = 0.0005. New best score: 0.098\n",
      "/home/eduardo/Documentos/Water-Cycle-Neural-Network/venv/lib/python3.12/site-packages/optuna/trial/_trial.py:497: UserWarning: The reported value is ignored because this `step` 1 is already reported.\n",
      "  warnings.warn(\n",
      "Metric val_loss improved by 0.042 >= min_delta = 0.0005. New best score: 0.056\n",
      "/home/eduardo/Documentos/Water-Cycle-Neural-Network/venv/lib/python3.12/site-packages/optuna/trial/_trial.py:497: UserWarning: The reported value is ignored because this `step` 2 is already reported.\n",
      "  warnings.warn(\n",
      "/home/eduardo/Documentos/Water-Cycle-Neural-Network/venv/lib/python3.12/site-packages/optuna/trial/_trial.py:497: UserWarning: The reported value is ignored because this `step` 3 is already reported.\n",
      "  warnings.warn(\n",
      "/home/eduardo/Documentos/Water-Cycle-Neural-Network/venv/lib/python3.12/site-packages/optuna/trial/_trial.py:497: UserWarning: The reported value is ignored because this `step` 4 is already reported.\n",
      "  warnings.warn(\n",
      "Metric val_loss improved by 0.007 >= min_delta = 0.0005. New best score: 0.049\n",
      "/home/eduardo/Documentos/Water-Cycle-Neural-Network/venv/lib/python3.12/site-packages/optuna/trial/_trial.py:497: UserWarning: The reported value is ignored because this `step` 5 is already reported.\n",
      "  warnings.warn(\n",
      "Metric val_loss improved by 0.006 >= min_delta = 0.0005. New best score: 0.043\n",
      "/home/eduardo/Documentos/Water-Cycle-Neural-Network/venv/lib/python3.12/site-packages/optuna/trial/_trial.py:497: UserWarning: The reported value is ignored because this `step` 6 is already reported.\n",
      "  warnings.warn(\n",
      "/home/eduardo/Documentos/Water-Cycle-Neural-Network/venv/lib/python3.12/site-packages/optuna/trial/_trial.py:497: UserWarning: The reported value is ignored because this `step` 7 is already reported.\n",
      "  warnings.warn(\n",
      "/home/eduardo/Documentos/Water-Cycle-Neural-Network/venv/lib/python3.12/site-packages/optuna/trial/_trial.py:497: UserWarning: The reported value is ignored because this `step` 8 is already reported.\n",
      "  warnings.warn(\n",
      "/home/eduardo/Documentos/Water-Cycle-Neural-Network/venv/lib/python3.12/site-packages/optuna/trial/_trial.py:497: UserWarning: The reported value is ignored because this `step` 9 is already reported.\n",
      "  warnings.warn(\n",
      "Metric val_loss improved by 0.005 >= min_delta = 0.0005. New best score: 0.039\n",
      "/home/eduardo/Documentos/Water-Cycle-Neural-Network/venv/lib/python3.12/site-packages/optuna/trial/_trial.py:497: UserWarning: The reported value is ignored because this `step` 10 is already reported.\n",
      "  warnings.warn(\n",
      "/home/eduardo/Documentos/Water-Cycle-Neural-Network/venv/lib/python3.12/site-packages/optuna/trial/_trial.py:497: UserWarning: The reported value is ignored because this `step` 11 is already reported.\n",
      "  warnings.warn(\n",
      "Metric val_loss improved by 0.003 >= min_delta = 0.0005. New best score: 0.036\n",
      "/home/eduardo/Documentos/Water-Cycle-Neural-Network/venv/lib/python3.12/site-packages/optuna/trial/_trial.py:497: UserWarning: The reported value is ignored because this `step` 12 is already reported.\n",
      "  warnings.warn(\n",
      "/home/eduardo/Documentos/Water-Cycle-Neural-Network/venv/lib/python3.12/site-packages/optuna/trial/_trial.py:497: UserWarning: The reported value is ignored because this `step` 13 is already reported.\n",
      "  warnings.warn(\n",
      "Metric val_loss improved by 0.004 >= min_delta = 0.0005. New best score: 0.032\n",
      "/home/eduardo/Documentos/Water-Cycle-Neural-Network/venv/lib/python3.12/site-packages/optuna/trial/_trial.py:497: UserWarning: The reported value is ignored because this `step` 14 is already reported.\n",
      "  warnings.warn(\n",
      "/home/eduardo/Documentos/Water-Cycle-Neural-Network/venv/lib/python3.12/site-packages/optuna/trial/_trial.py:497: UserWarning: The reported value is ignored because this `step` 15 is already reported.\n",
      "  warnings.warn(\n",
      "/home/eduardo/Documentos/Water-Cycle-Neural-Network/venv/lib/python3.12/site-packages/optuna/trial/_trial.py:497: UserWarning: The reported value is ignored because this `step` 16 is already reported.\n",
      "  warnings.warn(\n",
      "/home/eduardo/Documentos/Water-Cycle-Neural-Network/venv/lib/python3.12/site-packages/optuna/trial/_trial.py:497: UserWarning: The reported value is ignored because this `step` 17 is already reported.\n",
      "  warnings.warn(\n",
      "/home/eduardo/Documentos/Water-Cycle-Neural-Network/venv/lib/python3.12/site-packages/optuna/trial/_trial.py:497: UserWarning: The reported value is ignored because this `step` 18 is already reported.\n",
      "  warnings.warn(\n",
      "/home/eduardo/Documentos/Water-Cycle-Neural-Network/venv/lib/python3.12/site-packages/optuna/trial/_trial.py:497: UserWarning: The reported value is ignored because this `step` 19 is already reported.\n",
      "  warnings.warn(\n",
      "/home/eduardo/Documentos/Water-Cycle-Neural-Network/venv/lib/python3.12/site-packages/optuna/trial/_trial.py:497: UserWarning: The reported value is ignored because this `step` 20 is already reported.\n",
      "  warnings.warn(\n",
      "/home/eduardo/Documentos/Water-Cycle-Neural-Network/venv/lib/python3.12/site-packages/optuna/trial/_trial.py:497: UserWarning: The reported value is ignored because this `step` 21 is already reported.\n",
      "  warnings.warn(\n",
      "/home/eduardo/Documentos/Water-Cycle-Neural-Network/venv/lib/python3.12/site-packages/optuna/trial/_trial.py:497: UserWarning: The reported value is ignored because this `step` 22 is already reported.\n",
      "  warnings.warn(\n",
      "Metric val_loss improved by 0.001 >= min_delta = 0.0005. New best score: 0.031\n",
      "/home/eduardo/Documentos/Water-Cycle-Neural-Network/venv/lib/python3.12/site-packages/optuna/trial/_trial.py:497: UserWarning: The reported value is ignored because this `step` 23 is already reported.\n",
      "  warnings.warn(\n",
      "/home/eduardo/Documentos/Water-Cycle-Neural-Network/venv/lib/python3.12/site-packages/optuna/trial/_trial.py:497: UserWarning: The reported value is ignored because this `step` 24 is already reported.\n",
      "  warnings.warn(\n",
      "/home/eduardo/Documentos/Water-Cycle-Neural-Network/venv/lib/python3.12/site-packages/optuna/trial/_trial.py:497: UserWarning: The reported value is ignored because this `step` 25 is already reported.\n",
      "  warnings.warn(\n",
      "/home/eduardo/Documentos/Water-Cycle-Neural-Network/venv/lib/python3.12/site-packages/optuna/trial/_trial.py:497: UserWarning: The reported value is ignored because this `step` 26 is already reported.\n",
      "  warnings.warn(\n",
      "Metric val_loss improved by 0.001 >= min_delta = 0.0005. New best score: 0.031\n",
      "/home/eduardo/Documentos/Water-Cycle-Neural-Network/venv/lib/python3.12/site-packages/optuna/trial/_trial.py:497: UserWarning: The reported value is ignored because this `step` 27 is already reported.\n",
      "  warnings.warn(\n",
      "/home/eduardo/Documentos/Water-Cycle-Neural-Network/venv/lib/python3.12/site-packages/optuna/trial/_trial.py:497: UserWarning: The reported value is ignored because this `step` 28 is already reported.\n",
      "  warnings.warn(\n",
      "/home/eduardo/Documentos/Water-Cycle-Neural-Network/venv/lib/python3.12/site-packages/optuna/trial/_trial.py:497: UserWarning: The reported value is ignored because this `step` 29 is already reported.\n",
      "  warnings.warn(\n",
      "`Trainer.fit` stopped: `max_epochs=30` reached.\n",
      "GPU available: True (cuda), used: True\n",
      "TPU available: False, using: 0 TPU cores\n",
      "HPU available: False, using: 0 HPUs\n",
      "LOCAL_RANK: 0 - CUDA_VISIBLE_DEVICES: [0]\n"
     ]
    },
    {
     "name": "stdout",
     "output_type": "stream",
     "text": [
      "Model loaded from checkpoint for trial 0, fold 1\n"
     ]
    },
    {
     "name": "stderr",
     "output_type": "stream",
     "text": [
      "Specified future encoders in `add_encoders` at model creation but model does not accept future covariates. future encoders will be ignored.\n",
      "GPU available: True (cuda), used: True\n",
      "TPU available: False, using: 0 TPU cores\n",
      "HPU available: False, using: 0 HPUs\n",
      "LOCAL_RANK: 0 - CUDA_VISIBLE_DEVICES: [0]\n"
     ]
    },
    {
     "name": "stdout",
     "output_type": "stream",
     "text": [
      "SMAPE fold 1: 35.42702573578963\n",
      "\n",
      "Fold 3/3\n"
     ]
    },
    {
     "name": "stderr",
     "output_type": "stream",
     "text": [
      "/home/eduardo/Documentos/Water-Cycle-Neural-Network/venv/lib/python3.12/site-packages/optuna/trial/_trial.py:497: UserWarning: The reported value is ignored because this `step` 0 is already reported.\n",
      "  warnings.warn(\n",
      "/home/eduardo/Documentos/Water-Cycle-Neural-Network/venv/lib/python3.12/site-packages/optuna/trial/_trial.py:497: UserWarning: The reported value is ignored because this `step` 1 is already reported.\n",
      "  warnings.warn(\n",
      "/home/eduardo/Documentos/Water-Cycle-Neural-Network/venv/lib/python3.12/site-packages/optuna/trial/_trial.py:497: UserWarning: The reported value is ignored because this `step` 2 is already reported.\n",
      "  warnings.warn(\n",
      "/home/eduardo/Documentos/Water-Cycle-Neural-Network/venv/lib/python3.12/site-packages/optuna/trial/_trial.py:497: UserWarning: The reported value is ignored because this `step` 3 is already reported.\n",
      "  warnings.warn(\n",
      "/home/eduardo/Documentos/Water-Cycle-Neural-Network/venv/lib/python3.12/site-packages/optuna/trial/_trial.py:497: UserWarning: The reported value is ignored because this `step` 4 is already reported.\n",
      "  warnings.warn(\n",
      "/home/eduardo/Documentos/Water-Cycle-Neural-Network/venv/lib/python3.12/site-packages/optuna/trial/_trial.py:497: UserWarning: The reported value is ignored because this `step` 5 is already reported.\n",
      "  warnings.warn(\n",
      "/home/eduardo/Documentos/Water-Cycle-Neural-Network/venv/lib/python3.12/site-packages/optuna/trial/_trial.py:497: UserWarning: The reported value is ignored because this `step` 6 is already reported.\n",
      "  warnings.warn(\n",
      "/home/eduardo/Documentos/Water-Cycle-Neural-Network/venv/lib/python3.12/site-packages/optuna/trial/_trial.py:497: UserWarning: The reported value is ignored because this `step` 7 is already reported.\n",
      "  warnings.warn(\n",
      "/home/eduardo/Documentos/Water-Cycle-Neural-Network/venv/lib/python3.12/site-packages/optuna/trial/_trial.py:497: UserWarning: The reported value is ignored because this `step` 8 is already reported.\n",
      "  warnings.warn(\n",
      "/home/eduardo/Documentos/Water-Cycle-Neural-Network/venv/lib/python3.12/site-packages/optuna/trial/_trial.py:497: UserWarning: The reported value is ignored because this `step` 9 is already reported.\n",
      "  warnings.warn(\n",
      "/home/eduardo/Documentos/Water-Cycle-Neural-Network/venv/lib/python3.12/site-packages/optuna/trial/_trial.py:497: UserWarning: The reported value is ignored because this `step` 10 is already reported.\n",
      "  warnings.warn(\n",
      "/home/eduardo/Documentos/Water-Cycle-Neural-Network/venv/lib/python3.12/site-packages/optuna/trial/_trial.py:497: UserWarning: The reported value is ignored because this `step` 11 is already reported.\n",
      "  warnings.warn(\n",
      "Monitored metric val_loss did not improve in the last 15 records. Best score: 0.031. Signaling Trainer to stop.\n",
      "GPU available: True (cuda), used: True\n",
      "TPU available: False, using: 0 TPU cores\n",
      "HPU available: False, using: 0 HPUs\n",
      "LOCAL_RANK: 0 - CUDA_VISIBLE_DEVICES: [0]\n"
     ]
    },
    {
     "name": "stdout",
     "output_type": "stream",
     "text": [
      "Model loaded from checkpoint for trial 0, fold 2\n"
     ]
    },
    {
     "name": "stderr",
     "output_type": "stream",
     "text": [
      "[I 2025-06-10 21:58:22,481] Trial 0 finished with value: 71.98135265861924 and parameters: {'input_chunk_length': 156, 'hidden_size': 248, 'layer_size': 3, 'dropout': 0.35, 'batch_size': 112, 'lr': 0.002492740916010985, 'weight_decay': 0.00041606773278479785}. Best is trial 0 with value: 71.98135265861924.\n",
      "Specified future encoders in `add_encoders` at model creation but model does not accept future covariates. future encoders will be ignored.\n",
      "GPU available: True (cuda), used: True\n",
      "TPU available: False, using: 0 TPU cores\n",
      "HPU available: False, using: 0 HPUs\n",
      "LOCAL_RANK: 0 - CUDA_VISIBLE_DEVICES: [0]\n"
     ]
    },
    {
     "name": "stdout",
     "output_type": "stream",
     "text": [
      "SMAPE fold 2: 32.60449046049707\n",
      "Média dos SMAPE nos folds: 71.98135265861924\n",
      "Results of trial 0 saved in optuna_iteration_metrics/trial_0.json\n",
      "Current value: 71.98135265861924, Current params: {'input_chunk_length': 156, 'hidden_size': 248, 'layer_size': 3, 'dropout': 0.35, 'batch_size': 112, 'lr': 0.002492740916010985, 'weight_decay': 0.00041606773278479785}\n",
      "Best value: 71.98135265861924, Best params: {'input_chunk_length': 156, 'hidden_size': 248, 'layer_size': 3, 'dropout': 0.35, 'batch_size': 112, 'lr': 0.002492740916010985, 'weight_decay': 0.00041606773278479785}\n",
      "\n",
      "Fold 1/3\n"
     ]
    },
    {
     "name": "stderr",
     "output_type": "stream",
     "text": [
      "Metric val_loss improved. New best score: 12.897\n",
      "Metric val_loss improved by 0.001 >= min_delta = 0.0005. New best score: 12.896\n",
      "Metric val_loss improved by 0.001 >= min_delta = 0.0005. New best score: 12.895\n",
      "Metric val_loss improved by 0.001 >= min_delta = 0.0005. New best score: 12.894\n",
      "Metric val_loss improved by 0.001 >= min_delta = 0.0005. New best score: 12.893\n",
      "Metric val_loss improved by 0.001 >= min_delta = 0.0005. New best score: 12.892\n",
      "Metric val_loss improved by 0.001 >= min_delta = 0.0005. New best score: 12.891\n",
      "Metric val_loss improved by 0.001 >= min_delta = 0.0005. New best score: 12.891\n",
      "Metric val_loss improved by 0.001 >= min_delta = 0.0005. New best score: 12.890\n",
      "Metric val_loss improved by 0.001 >= min_delta = 0.0005. New best score: 12.889\n",
      "Metric val_loss improved by 0.001 >= min_delta = 0.0005. New best score: 12.888\n",
      "Metric val_loss improved by 0.001 >= min_delta = 0.0005. New best score: 12.887\n",
      "Metric val_loss improved by 0.001 >= min_delta = 0.0005. New best score: 12.886\n",
      "Metric val_loss improved by 0.001 >= min_delta = 0.0005. New best score: 12.885\n",
      "Metric val_loss improved by 0.001 >= min_delta = 0.0005. New best score: 12.884\n",
      "`Trainer.fit` stopped: `max_epochs=30` reached.\n",
      "GPU available: True (cuda), used: True\n",
      "TPU available: False, using: 0 TPU cores\n",
      "HPU available: False, using: 0 HPUs\n",
      "LOCAL_RANK: 0 - CUDA_VISIBLE_DEVICES: [0]\n"
     ]
    },
    {
     "name": "stdout",
     "output_type": "stream",
     "text": [
      "Model loaded from checkpoint for trial 1, fold 0\n"
     ]
    },
    {
     "name": "stderr",
     "output_type": "stream",
     "text": [
      "Specified future encoders in `add_encoders` at model creation but model does not accept future covariates. future encoders will be ignored.\n",
      "GPU available: True (cuda), used: True\n",
      "TPU available: False, using: 0 TPU cores\n",
      "HPU available: False, using: 0 HPUs\n",
      "LOCAL_RANK: 0 - CUDA_VISIBLE_DEVICES: [0]\n"
     ]
    },
    {
     "name": "stdout",
     "output_type": "stream",
     "text": [
      "SMAPE fold 0: 158.97652468709083\n",
      "\n",
      "Fold 2/3\n"
     ]
    },
    {
     "name": "stderr",
     "output_type": "stream",
     "text": [
      "/home/eduardo/Documentos/Water-Cycle-Neural-Network/venv/lib/python3.12/site-packages/optuna/trial/_trial.py:497: UserWarning: The reported value is ignored because this `step` 0 is already reported.\n",
      "  warnings.warn(\n",
      "Metric val_loss improved by 12.431 >= min_delta = 0.0005. New best score: 0.453\n",
      "/home/eduardo/Documentos/Water-Cycle-Neural-Network/venv/lib/python3.12/site-packages/optuna/trial/_trial.py:497: UserWarning: The reported value is ignored because this `step` 1 is already reported.\n",
      "  warnings.warn(\n",
      "Metric val_loss improved by 0.001 >= min_delta = 0.0005. New best score: 0.452\n",
      "/home/eduardo/Documentos/Water-Cycle-Neural-Network/venv/lib/python3.12/site-packages/optuna/trial/_trial.py:497: UserWarning: The reported value is ignored because this `step` 2 is already reported.\n",
      "  warnings.warn(\n",
      "Metric val_loss improved by 0.001 >= min_delta = 0.0005. New best score: 0.451\n",
      "/home/eduardo/Documentos/Water-Cycle-Neural-Network/venv/lib/python3.12/site-packages/optuna/trial/_trial.py:497: UserWarning: The reported value is ignored because this `step` 3 is already reported.\n",
      "  warnings.warn(\n",
      "Metric val_loss improved by 0.001 >= min_delta = 0.0005. New best score: 0.451\n",
      "/home/eduardo/Documentos/Water-Cycle-Neural-Network/venv/lib/python3.12/site-packages/optuna/trial/_trial.py:497: UserWarning: The reported value is ignored because this `step` 4 is already reported.\n",
      "  warnings.warn(\n",
      "Metric val_loss improved by 0.001 >= min_delta = 0.0005. New best score: 0.450\n",
      "/home/eduardo/Documentos/Water-Cycle-Neural-Network/venv/lib/python3.12/site-packages/optuna/trial/_trial.py:497: UserWarning: The reported value is ignored because this `step` 5 is already reported.\n",
      "  warnings.warn(\n",
      "Metric val_loss improved by 0.001 >= min_delta = 0.0005. New best score: 0.449\n",
      "/home/eduardo/Documentos/Water-Cycle-Neural-Network/venv/lib/python3.12/site-packages/optuna/trial/_trial.py:497: UserWarning: The reported value is ignored because this `step` 6 is already reported.\n",
      "  warnings.warn(\n",
      "Metric val_loss improved by 0.001 >= min_delta = 0.0005. New best score: 0.449\n",
      "/home/eduardo/Documentos/Water-Cycle-Neural-Network/venv/lib/python3.12/site-packages/optuna/trial/_trial.py:497: UserWarning: The reported value is ignored because this `step` 7 is already reported.\n",
      "  warnings.warn(\n",
      "Metric val_loss improved by 0.001 >= min_delta = 0.0005. New best score: 0.448\n",
      "/home/eduardo/Documentos/Water-Cycle-Neural-Network/venv/lib/python3.12/site-packages/optuna/trial/_trial.py:497: UserWarning: The reported value is ignored because this `step` 8 is already reported.\n",
      "  warnings.warn(\n",
      "Metric val_loss improved by 0.001 >= min_delta = 0.0005. New best score: 0.447\n",
      "/home/eduardo/Documentos/Water-Cycle-Neural-Network/venv/lib/python3.12/site-packages/optuna/trial/_trial.py:497: UserWarning: The reported value is ignored because this `step` 9 is already reported.\n",
      "  warnings.warn(\n",
      "Metric val_loss improved by 0.001 >= min_delta = 0.0005. New best score: 0.447\n",
      "/home/eduardo/Documentos/Water-Cycle-Neural-Network/venv/lib/python3.12/site-packages/optuna/trial/_trial.py:497: UserWarning: The reported value is ignored because this `step` 10 is already reported.\n",
      "  warnings.warn(\n",
      "Metric val_loss improved by 0.001 >= min_delta = 0.0005. New best score: 0.446\n",
      "/home/eduardo/Documentos/Water-Cycle-Neural-Network/venv/lib/python3.12/site-packages/optuna/trial/_trial.py:497: UserWarning: The reported value is ignored because this `step` 11 is already reported.\n",
      "  warnings.warn(\n",
      "Metric val_loss improved by 0.001 >= min_delta = 0.0005. New best score: 0.445\n",
      "/home/eduardo/Documentos/Water-Cycle-Neural-Network/venv/lib/python3.12/site-packages/optuna/trial/_trial.py:497: UserWarning: The reported value is ignored because this `step` 12 is already reported.\n",
      "  warnings.warn(\n",
      "Metric val_loss improved by 0.001 >= min_delta = 0.0005. New best score: 0.445\n",
      "/home/eduardo/Documentos/Water-Cycle-Neural-Network/venv/lib/python3.12/site-packages/optuna/trial/_trial.py:497: UserWarning: The reported value is ignored because this `step` 13 is already reported.\n",
      "  warnings.warn(\n",
      "Metric val_loss improved by 0.001 >= min_delta = 0.0005. New best score: 0.444\n",
      "/home/eduardo/Documentos/Water-Cycle-Neural-Network/venv/lib/python3.12/site-packages/optuna/trial/_trial.py:497: UserWarning: The reported value is ignored because this `step` 14 is already reported.\n",
      "  warnings.warn(\n",
      "Metric val_loss improved by 0.001 >= min_delta = 0.0005. New best score: 0.443\n",
      "/home/eduardo/Documentos/Water-Cycle-Neural-Network/venv/lib/python3.12/site-packages/optuna/trial/_trial.py:497: UserWarning: The reported value is ignored because this `step` 15 is already reported.\n",
      "  warnings.warn(\n",
      "Metric val_loss improved by 0.001 >= min_delta = 0.0005. New best score: 0.442\n",
      "/home/eduardo/Documentos/Water-Cycle-Neural-Network/venv/lib/python3.12/site-packages/optuna/trial/_trial.py:497: UserWarning: The reported value is ignored because this `step` 16 is already reported.\n",
      "  warnings.warn(\n",
      "Metric val_loss improved by 0.001 >= min_delta = 0.0005. New best score: 0.442\n",
      "/home/eduardo/Documentos/Water-Cycle-Neural-Network/venv/lib/python3.12/site-packages/optuna/trial/_trial.py:497: UserWarning: The reported value is ignored because this `step` 17 is already reported.\n",
      "  warnings.warn(\n",
      "Metric val_loss improved by 0.001 >= min_delta = 0.0005. New best score: 0.441\n",
      "/home/eduardo/Documentos/Water-Cycle-Neural-Network/venv/lib/python3.12/site-packages/optuna/trial/_trial.py:497: UserWarning: The reported value is ignored because this `step` 18 is already reported.\n",
      "  warnings.warn(\n",
      "Metric val_loss improved by 0.001 >= min_delta = 0.0005. New best score: 0.440\n",
      "/home/eduardo/Documentos/Water-Cycle-Neural-Network/venv/lib/python3.12/site-packages/optuna/trial/_trial.py:497: UserWarning: The reported value is ignored because this `step` 19 is already reported.\n",
      "  warnings.warn(\n",
      "Metric val_loss improved by 0.001 >= min_delta = 0.0005. New best score: 0.439\n",
      "/home/eduardo/Documentos/Water-Cycle-Neural-Network/venv/lib/python3.12/site-packages/optuna/trial/_trial.py:497: UserWarning: The reported value is ignored because this `step` 20 is already reported.\n",
      "  warnings.warn(\n",
      "Metric val_loss improved by 0.001 >= min_delta = 0.0005. New best score: 0.439\n",
      "/home/eduardo/Documentos/Water-Cycle-Neural-Network/venv/lib/python3.12/site-packages/optuna/trial/_trial.py:497: UserWarning: The reported value is ignored because this `step` 21 is already reported.\n",
      "  warnings.warn(\n",
      "Metric val_loss improved by 0.001 >= min_delta = 0.0005. New best score: 0.438\n",
      "/home/eduardo/Documentos/Water-Cycle-Neural-Network/venv/lib/python3.12/site-packages/optuna/trial/_trial.py:497: UserWarning: The reported value is ignored because this `step` 22 is already reported.\n",
      "  warnings.warn(\n",
      "Metric val_loss improved by 0.001 >= min_delta = 0.0005. New best score: 0.437\n",
      "/home/eduardo/Documentos/Water-Cycle-Neural-Network/venv/lib/python3.12/site-packages/optuna/trial/_trial.py:497: UserWarning: The reported value is ignored because this `step` 23 is already reported.\n",
      "  warnings.warn(\n",
      "Metric val_loss improved by 0.001 >= min_delta = 0.0005. New best score: 0.436\n",
      "/home/eduardo/Documentos/Water-Cycle-Neural-Network/venv/lib/python3.12/site-packages/optuna/trial/_trial.py:497: UserWarning: The reported value is ignored because this `step` 24 is already reported.\n",
      "  warnings.warn(\n",
      "Metric val_loss improved by 0.001 >= min_delta = 0.0005. New best score: 0.435\n",
      "/home/eduardo/Documentos/Water-Cycle-Neural-Network/venv/lib/python3.12/site-packages/optuna/trial/_trial.py:497: UserWarning: The reported value is ignored because this `step` 25 is already reported.\n",
      "  warnings.warn(\n",
      "Metric val_loss improved by 0.001 >= min_delta = 0.0005. New best score: 0.434\n",
      "/home/eduardo/Documentos/Water-Cycle-Neural-Network/venv/lib/python3.12/site-packages/optuna/trial/_trial.py:497: UserWarning: The reported value is ignored because this `step` 26 is already reported.\n",
      "  warnings.warn(\n",
      "Metric val_loss improved by 0.001 >= min_delta = 0.0005. New best score: 0.433\n",
      "/home/eduardo/Documentos/Water-Cycle-Neural-Network/venv/lib/python3.12/site-packages/optuna/trial/_trial.py:497: UserWarning: The reported value is ignored because this `step` 27 is already reported.\n",
      "  warnings.warn(\n",
      "Metric val_loss improved by 0.001 >= min_delta = 0.0005. New best score: 0.432\n",
      "/home/eduardo/Documentos/Water-Cycle-Neural-Network/venv/lib/python3.12/site-packages/optuna/trial/_trial.py:497: UserWarning: The reported value is ignored because this `step` 28 is already reported.\n",
      "  warnings.warn(\n",
      "Metric val_loss improved by 0.001 >= min_delta = 0.0005. New best score: 0.432\n",
      "/home/eduardo/Documentos/Water-Cycle-Neural-Network/venv/lib/python3.12/site-packages/optuna/trial/_trial.py:497: UserWarning: The reported value is ignored because this `step` 29 is already reported.\n",
      "  warnings.warn(\n",
      "Metric val_loss improved by 0.001 >= min_delta = 0.0005. New best score: 0.431\n",
      "`Trainer.fit` stopped: `max_epochs=30` reached.\n",
      "GPU available: True (cuda), used: True\n",
      "TPU available: False, using: 0 TPU cores\n",
      "HPU available: False, using: 0 HPUs\n",
      "LOCAL_RANK: 0 - CUDA_VISIBLE_DEVICES: [0]\n"
     ]
    },
    {
     "name": "stdout",
     "output_type": "stream",
     "text": [
      "Model loaded from checkpoint for trial 1, fold 1\n"
     ]
    },
    {
     "name": "stderr",
     "output_type": "stream",
     "text": [
      "Specified future encoders in `add_encoders` at model creation but model does not accept future covariates. future encoders will be ignored.\n",
      "GPU available: True (cuda), used: True\n",
      "TPU available: False, using: 0 TPU cores\n",
      "HPU available: False, using: 0 HPUs\n",
      "LOCAL_RANK: 0 - CUDA_VISIBLE_DEVICES: [0]\n"
     ]
    },
    {
     "name": "stdout",
     "output_type": "stream",
     "text": [
      "SMAPE fold 1: 127.34172778040531\n",
      "\n",
      "Fold 3/3\n"
     ]
    },
    {
     "name": "stderr",
     "output_type": "stream",
     "text": [
      "/home/eduardo/Documentos/Water-Cycle-Neural-Network/venv/lib/python3.12/site-packages/optuna/trial/_trial.py:497: UserWarning: The reported value is ignored because this `step` 0 is already reported.\n",
      "  warnings.warn(\n",
      "/home/eduardo/Documentos/Water-Cycle-Neural-Network/venv/lib/python3.12/site-packages/optuna/trial/_trial.py:497: UserWarning: The reported value is ignored because this `step` 1 is already reported.\n",
      "  warnings.warn(\n",
      "/home/eduardo/Documentos/Water-Cycle-Neural-Network/venv/lib/python3.12/site-packages/optuna/trial/_trial.py:497: UserWarning: The reported value is ignored because this `step` 2 is already reported.\n",
      "  warnings.warn(\n",
      "/home/eduardo/Documentos/Water-Cycle-Neural-Network/venv/lib/python3.12/site-packages/optuna/trial/_trial.py:497: UserWarning: The reported value is ignored because this `step` 3 is already reported.\n",
      "  warnings.warn(\n",
      "/home/eduardo/Documentos/Water-Cycle-Neural-Network/venv/lib/python3.12/site-packages/optuna/trial/_trial.py:497: UserWarning: The reported value is ignored because this `step` 4 is already reported.\n",
      "  warnings.warn(\n",
      "/home/eduardo/Documentos/Water-Cycle-Neural-Network/venv/lib/python3.12/site-packages/optuna/trial/_trial.py:497: UserWarning: The reported value is ignored because this `step` 5 is already reported.\n",
      "  warnings.warn(\n",
      "/home/eduardo/Documentos/Water-Cycle-Neural-Network/venv/lib/python3.12/site-packages/optuna/trial/_trial.py:497: UserWarning: The reported value is ignored because this `step` 6 is already reported.\n",
      "  warnings.warn(\n",
      "/home/eduardo/Documentos/Water-Cycle-Neural-Network/venv/lib/python3.12/site-packages/optuna/trial/_trial.py:497: UserWarning: The reported value is ignored because this `step` 7 is already reported.\n",
      "  warnings.warn(\n",
      "/home/eduardo/Documentos/Water-Cycle-Neural-Network/venv/lib/python3.12/site-packages/optuna/trial/_trial.py:497: UserWarning: The reported value is ignored because this `step` 8 is already reported.\n",
      "  warnings.warn(\n",
      "/home/eduardo/Documentos/Water-Cycle-Neural-Network/venv/lib/python3.12/site-packages/optuna/trial/_trial.py:497: UserWarning: The reported value is ignored because this `step` 9 is already reported.\n",
      "  warnings.warn(\n",
      "/home/eduardo/Documentos/Water-Cycle-Neural-Network/venv/lib/python3.12/site-packages/optuna/trial/_trial.py:497: UserWarning: The reported value is ignored because this `step` 10 is already reported.\n",
      "  warnings.warn(\n",
      "/home/eduardo/Documentos/Water-Cycle-Neural-Network/venv/lib/python3.12/site-packages/optuna/trial/_trial.py:497: UserWarning: The reported value is ignored because this `step` 11 is already reported.\n",
      "  warnings.warn(\n",
      "/home/eduardo/Documentos/Water-Cycle-Neural-Network/venv/lib/python3.12/site-packages/optuna/trial/_trial.py:497: UserWarning: The reported value is ignored because this `step` 12 is already reported.\n",
      "  warnings.warn(\n",
      "/home/eduardo/Documentos/Water-Cycle-Neural-Network/venv/lib/python3.12/site-packages/optuna/trial/_trial.py:497: UserWarning: The reported value is ignored because this `step` 13 is already reported.\n",
      "  warnings.warn(\n",
      "/home/eduardo/Documentos/Water-Cycle-Neural-Network/venv/lib/python3.12/site-packages/optuna/trial/_trial.py:497: UserWarning: The reported value is ignored because this `step` 14 is already reported.\n",
      "  warnings.warn(\n",
      "Monitored metric val_loss did not improve in the last 15 records. Best score: 0.431. Signaling Trainer to stop.\n",
      "GPU available: True (cuda), used: True\n",
      "TPU available: False, using: 0 TPU cores\n",
      "HPU available: False, using: 0 HPUs\n",
      "LOCAL_RANK: 0 - CUDA_VISIBLE_DEVICES: [0]\n"
     ]
    },
    {
     "name": "stdout",
     "output_type": "stream",
     "text": [
      "Model loaded from checkpoint for trial 1, fold 2\n"
     ]
    },
    {
     "name": "stderr",
     "output_type": "stream",
     "text": [
      "[I 2025-06-10 22:02:36,889] Trial 1 finished with value: 140.40753229644858 and parameters: {'input_chunk_length': 120, 'hidden_size': 192, 'layer_size': 2, 'dropout': 0.25, 'batch_size': 240, 'lr': 2.7168303423623752e-06, 'weight_decay': 0.001973512695468249}. Best is trial 0 with value: 71.98135265861924.\n",
      "Specified future encoders in `add_encoders` at model creation but model does not accept future covariates. future encoders will be ignored.\n",
      "/home/eduardo/Documentos/Water-Cycle-Neural-Network/venv/lib/python3.12/site-packages/torch/nn/modules/rnn.py:123: UserWarning: dropout option adds dropout after all but last recurrent layer, so non-zero dropout expects num_layers greater than 1, but got dropout=0.4 and num_layers=1\n",
      "  warnings.warn(\n",
      "GPU available: True (cuda), used: True\n",
      "TPU available: False, using: 0 TPU cores\n",
      "HPU available: False, using: 0 HPUs\n",
      "LOCAL_RANK: 0 - CUDA_VISIBLE_DEVICES: [0]\n"
     ]
    },
    {
     "name": "stdout",
     "output_type": "stream",
     "text": [
      "SMAPE fold 2: 134.90434442184957\n",
      "Média dos SMAPE nos folds: 140.40753229644858\n",
      "Results of trial 1 saved in optuna_iteration_metrics/trial_1.json\n",
      "Current value: 140.40753229644858, Current params: {'input_chunk_length': 120, 'hidden_size': 192, 'layer_size': 2, 'dropout': 0.25, 'batch_size': 240, 'lr': 2.7168303423623752e-06, 'weight_decay': 0.001973512695468249}\n",
      "Best value: 71.98135265861924, Best params: {'input_chunk_length': 156, 'hidden_size': 248, 'layer_size': 3, 'dropout': 0.35, 'batch_size': 112, 'lr': 0.002492740916010985, 'weight_decay': 0.00041606773278479785}\n",
      "\n",
      "Fold 1/3\n"
     ]
    },
    {
     "name": "stderr",
     "output_type": "stream",
     "text": [
      "Metric val_loss improved. New best score: 12.760\n",
      "Metric val_loss improved by 0.001 >= min_delta = 0.0005. New best score: 12.759\n",
      "Metric val_loss improved by 0.001 >= min_delta = 0.0005. New best score: 12.758\n",
      "Metric val_loss improved by 0.001 >= min_delta = 0.0005. New best score: 12.758\n",
      "Metric val_loss improved by 0.001 >= min_delta = 0.0005. New best score: 12.757\n",
      "Metric val_loss improved by 0.001 >= min_delta = 0.0005. New best score: 12.756\n",
      "Metric val_loss improved by 0.001 >= min_delta = 0.0005. New best score: 12.755\n",
      "Metric val_loss improved by 0.001 >= min_delta = 0.0005. New best score: 12.754\n",
      "Metric val_loss improved by 0.001 >= min_delta = 0.0005. New best score: 12.753\n",
      "Metric val_loss improved by 0.001 >= min_delta = 0.0005. New best score: 12.752\n",
      "Metric val_loss improved by 0.001 >= min_delta = 0.0005. New best score: 12.751\n",
      "Metric val_loss improved by 0.001 >= min_delta = 0.0005. New best score: 12.750\n",
      "Metric val_loss improved by 0.001 >= min_delta = 0.0005. New best score: 12.750\n",
      "Metric val_loss improved by 0.001 >= min_delta = 0.0005. New best score: 12.749\n",
      "Metric val_loss improved by 0.001 >= min_delta = 0.0005. New best score: 12.748\n",
      "`Trainer.fit` stopped: `max_epochs=30` reached.\n",
      "/home/eduardo/Documentos/Water-Cycle-Neural-Network/venv/lib/python3.12/site-packages/torch/nn/modules/rnn.py:123: UserWarning: dropout option adds dropout after all but last recurrent layer, so non-zero dropout expects num_layers greater than 1, but got dropout=0.4 and num_layers=1\n",
      "  warnings.warn(\n",
      "GPU available: True (cuda), used: True\n",
      "TPU available: False, using: 0 TPU cores\n",
      "HPU available: False, using: 0 HPUs\n",
      "LOCAL_RANK: 0 - CUDA_VISIBLE_DEVICES: [0]\n"
     ]
    },
    {
     "name": "stdout",
     "output_type": "stream",
     "text": [
      "Model loaded from checkpoint for trial 2, fold 0\n"
     ]
    },
    {
     "name": "stderr",
     "output_type": "stream",
     "text": [
      "Specified future encoders in `add_encoders` at model creation but model does not accept future covariates. future encoders will be ignored.\n",
      "/home/eduardo/Documentos/Water-Cycle-Neural-Network/venv/lib/python3.12/site-packages/torch/nn/modules/rnn.py:123: UserWarning: dropout option adds dropout after all but last recurrent layer, so non-zero dropout expects num_layers greater than 1, but got dropout=0.4 and num_layers=1\n",
      "  warnings.warn(\n",
      "GPU available: True (cuda), used: True\n",
      "TPU available: False, using: 0 TPU cores\n",
      "HPU available: False, using: 0 HPUs\n",
      "LOCAL_RANK: 0 - CUDA_VISIBLE_DEVICES: [0]\n"
     ]
    },
    {
     "name": "stdout",
     "output_type": "stream",
     "text": [
      "SMAPE fold 0: 134.14415718773517\n",
      "\n",
      "Fold 2/3\n"
     ]
    },
    {
     "name": "stderr",
     "output_type": "stream",
     "text": [
      "/home/eduardo/Documentos/Water-Cycle-Neural-Network/venv/lib/python3.12/site-packages/optuna/trial/_trial.py:497: UserWarning: The reported value is ignored because this `step` 0 is already reported.\n",
      "  warnings.warn(\n",
      "Metric val_loss improved by 12.286 >= min_delta = 0.0005. New best score: 0.461\n",
      "/home/eduardo/Documentos/Water-Cycle-Neural-Network/venv/lib/python3.12/site-packages/optuna/trial/_trial.py:497: UserWarning: The reported value is ignored because this `step` 1 is already reported.\n",
      "  warnings.warn(\n",
      "Metric val_loss improved by 0.001 >= min_delta = 0.0005. New best score: 0.460\n",
      "/home/eduardo/Documentos/Water-Cycle-Neural-Network/venv/lib/python3.12/site-packages/optuna/trial/_trial.py:497: UserWarning: The reported value is ignored because this `step` 2 is already reported.\n",
      "  warnings.warn(\n",
      "Metric val_loss improved by 0.001 >= min_delta = 0.0005. New best score: 0.460\n",
      "/home/eduardo/Documentos/Water-Cycle-Neural-Network/venv/lib/python3.12/site-packages/optuna/trial/_trial.py:497: UserWarning: The reported value is ignored because this `step` 3 is already reported.\n",
      "  warnings.warn(\n",
      "Metric val_loss improved by 0.001 >= min_delta = 0.0005. New best score: 0.459\n",
      "/home/eduardo/Documentos/Water-Cycle-Neural-Network/venv/lib/python3.12/site-packages/optuna/trial/_trial.py:497: UserWarning: The reported value is ignored because this `step` 4 is already reported.\n",
      "  warnings.warn(\n",
      "Metric val_loss improved by 0.001 >= min_delta = 0.0005. New best score: 0.458\n",
      "/home/eduardo/Documentos/Water-Cycle-Neural-Network/venv/lib/python3.12/site-packages/optuna/trial/_trial.py:497: UserWarning: The reported value is ignored because this `step` 5 is already reported.\n",
      "  warnings.warn(\n",
      "Metric val_loss improved by 0.001 >= min_delta = 0.0005. New best score: 0.457\n",
      "/home/eduardo/Documentos/Water-Cycle-Neural-Network/venv/lib/python3.12/site-packages/optuna/trial/_trial.py:497: UserWarning: The reported value is ignored because this `step` 6 is already reported.\n",
      "  warnings.warn(\n",
      "Metric val_loss improved by 0.001 >= min_delta = 0.0005. New best score: 0.456\n",
      "/home/eduardo/Documentos/Water-Cycle-Neural-Network/venv/lib/python3.12/site-packages/optuna/trial/_trial.py:497: UserWarning: The reported value is ignored because this `step` 7 is already reported.\n",
      "  warnings.warn(\n",
      "Metric val_loss improved by 0.001 >= min_delta = 0.0005. New best score: 0.455\n",
      "/home/eduardo/Documentos/Water-Cycle-Neural-Network/venv/lib/python3.12/site-packages/optuna/trial/_trial.py:497: UserWarning: The reported value is ignored because this `step` 8 is already reported.\n",
      "  warnings.warn(\n",
      "Metric val_loss improved by 0.001 >= min_delta = 0.0005. New best score: 0.454\n",
      "/home/eduardo/Documentos/Water-Cycle-Neural-Network/venv/lib/python3.12/site-packages/optuna/trial/_trial.py:497: UserWarning: The reported value is ignored because this `step` 9 is already reported.\n",
      "  warnings.warn(\n",
      "Metric val_loss improved by 0.001 >= min_delta = 0.0005. New best score: 0.453\n",
      "/home/eduardo/Documentos/Water-Cycle-Neural-Network/venv/lib/python3.12/site-packages/optuna/trial/_trial.py:497: UserWarning: The reported value is ignored because this `step` 10 is already reported.\n",
      "  warnings.warn(\n",
      "Metric val_loss improved by 0.001 >= min_delta = 0.0005. New best score: 0.452\n",
      "/home/eduardo/Documentos/Water-Cycle-Neural-Network/venv/lib/python3.12/site-packages/optuna/trial/_trial.py:497: UserWarning: The reported value is ignored because this `step` 11 is already reported.\n",
      "  warnings.warn(\n",
      "Metric val_loss improved by 0.001 >= min_delta = 0.0005. New best score: 0.451\n",
      "/home/eduardo/Documentos/Water-Cycle-Neural-Network/venv/lib/python3.12/site-packages/optuna/trial/_trial.py:497: UserWarning: The reported value is ignored because this `step` 12 is already reported.\n",
      "  warnings.warn(\n",
      "Metric val_loss improved by 0.001 >= min_delta = 0.0005. New best score: 0.451\n",
      "/home/eduardo/Documentos/Water-Cycle-Neural-Network/venv/lib/python3.12/site-packages/optuna/trial/_trial.py:497: UserWarning: The reported value is ignored because this `step` 13 is already reported.\n",
      "  warnings.warn(\n",
      "Metric val_loss improved by 0.001 >= min_delta = 0.0005. New best score: 0.450\n",
      "/home/eduardo/Documentos/Water-Cycle-Neural-Network/venv/lib/python3.12/site-packages/optuna/trial/_trial.py:497: UserWarning: The reported value is ignored because this `step` 14 is already reported.\n",
      "  warnings.warn(\n",
      "Metric val_loss improved by 0.001 >= min_delta = 0.0005. New best score: 0.449\n",
      "/home/eduardo/Documentos/Water-Cycle-Neural-Network/venv/lib/python3.12/site-packages/optuna/trial/_trial.py:497: UserWarning: The reported value is ignored because this `step` 15 is already reported.\n",
      "  warnings.warn(\n",
      "Metric val_loss improved by 0.001 >= min_delta = 0.0005. New best score: 0.448\n",
      "/home/eduardo/Documentos/Water-Cycle-Neural-Network/venv/lib/python3.12/site-packages/optuna/trial/_trial.py:497: UserWarning: The reported value is ignored because this `step` 16 is already reported.\n",
      "  warnings.warn(\n",
      "Metric val_loss improved by 0.001 >= min_delta = 0.0005. New best score: 0.447\n",
      "/home/eduardo/Documentos/Water-Cycle-Neural-Network/venv/lib/python3.12/site-packages/optuna/trial/_trial.py:497: UserWarning: The reported value is ignored because this `step` 17 is already reported.\n",
      "  warnings.warn(\n",
      "Metric val_loss improved by 0.001 >= min_delta = 0.0005. New best score: 0.446\n",
      "/home/eduardo/Documentos/Water-Cycle-Neural-Network/venv/lib/python3.12/site-packages/optuna/trial/_trial.py:497: UserWarning: The reported value is ignored because this `step` 18 is already reported.\n",
      "  warnings.warn(\n",
      "Metric val_loss improved by 0.001 >= min_delta = 0.0005. New best score: 0.445\n",
      "/home/eduardo/Documentos/Water-Cycle-Neural-Network/venv/lib/python3.12/site-packages/optuna/trial/_trial.py:497: UserWarning: The reported value is ignored because this `step` 19 is already reported.\n",
      "  warnings.warn(\n",
      "Metric val_loss improved by 0.001 >= min_delta = 0.0005. New best score: 0.444\n",
      "/home/eduardo/Documentos/Water-Cycle-Neural-Network/venv/lib/python3.12/site-packages/optuna/trial/_trial.py:497: UserWarning: The reported value is ignored because this `step` 20 is already reported.\n",
      "  warnings.warn(\n",
      "Metric val_loss improved by 0.001 >= min_delta = 0.0005. New best score: 0.444\n",
      "/home/eduardo/Documentos/Water-Cycle-Neural-Network/venv/lib/python3.12/site-packages/optuna/trial/_trial.py:497: UserWarning: The reported value is ignored because this `step` 21 is already reported.\n",
      "  warnings.warn(\n",
      "Metric val_loss improved by 0.001 >= min_delta = 0.0005. New best score: 0.443\n",
      "/home/eduardo/Documentos/Water-Cycle-Neural-Network/venv/lib/python3.12/site-packages/optuna/trial/_trial.py:497: UserWarning: The reported value is ignored because this `step` 22 is already reported.\n",
      "  warnings.warn(\n",
      "Metric val_loss improved by 0.001 >= min_delta = 0.0005. New best score: 0.442\n",
      "/home/eduardo/Documentos/Water-Cycle-Neural-Network/venv/lib/python3.12/site-packages/optuna/trial/_trial.py:497: UserWarning: The reported value is ignored because this `step` 23 is already reported.\n",
      "  warnings.warn(\n",
      "Metric val_loss improved by 0.001 >= min_delta = 0.0005. New best score: 0.441\n",
      "/home/eduardo/Documentos/Water-Cycle-Neural-Network/venv/lib/python3.12/site-packages/optuna/trial/_trial.py:497: UserWarning: The reported value is ignored because this `step` 24 is already reported.\n",
      "  warnings.warn(\n",
      "Metric val_loss improved by 0.001 >= min_delta = 0.0005. New best score: 0.440\n",
      "/home/eduardo/Documentos/Water-Cycle-Neural-Network/venv/lib/python3.12/site-packages/optuna/trial/_trial.py:497: UserWarning: The reported value is ignored because this `step` 25 is already reported.\n",
      "  warnings.warn(\n",
      "Metric val_loss improved by 0.001 >= min_delta = 0.0005. New best score: 0.439\n",
      "/home/eduardo/Documentos/Water-Cycle-Neural-Network/venv/lib/python3.12/site-packages/optuna/trial/_trial.py:497: UserWarning: The reported value is ignored because this `step` 26 is already reported.\n",
      "  warnings.warn(\n",
      "Metric val_loss improved by 0.001 >= min_delta = 0.0005. New best score: 0.438\n",
      "/home/eduardo/Documentos/Water-Cycle-Neural-Network/venv/lib/python3.12/site-packages/optuna/trial/_trial.py:497: UserWarning: The reported value is ignored because this `step` 27 is already reported.\n",
      "  warnings.warn(\n",
      "Metric val_loss improved by 0.001 >= min_delta = 0.0005. New best score: 0.437\n",
      "/home/eduardo/Documentos/Water-Cycle-Neural-Network/venv/lib/python3.12/site-packages/optuna/trial/_trial.py:497: UserWarning: The reported value is ignored because this `step` 28 is already reported.\n",
      "  warnings.warn(\n",
      "Metric val_loss improved by 0.001 >= min_delta = 0.0005. New best score: 0.436\n",
      "/home/eduardo/Documentos/Water-Cycle-Neural-Network/venv/lib/python3.12/site-packages/optuna/trial/_trial.py:497: UserWarning: The reported value is ignored because this `step` 29 is already reported.\n",
      "  warnings.warn(\n",
      "Metric val_loss improved by 0.001 >= min_delta = 0.0005. New best score: 0.435\n",
      "`Trainer.fit` stopped: `max_epochs=30` reached.\n",
      "/home/eduardo/Documentos/Water-Cycle-Neural-Network/venv/lib/python3.12/site-packages/torch/nn/modules/rnn.py:123: UserWarning: dropout option adds dropout after all but last recurrent layer, so non-zero dropout expects num_layers greater than 1, but got dropout=0.4 and num_layers=1\n",
      "  warnings.warn(\n",
      "GPU available: True (cuda), used: True\n",
      "TPU available: False, using: 0 TPU cores\n",
      "HPU available: False, using: 0 HPUs\n",
      "LOCAL_RANK: 0 - CUDA_VISIBLE_DEVICES: [0]\n"
     ]
    },
    {
     "name": "stdout",
     "output_type": "stream",
     "text": [
      "Model loaded from checkpoint for trial 2, fold 1\n"
     ]
    },
    {
     "name": "stderr",
     "output_type": "stream",
     "text": [
      "Specified future encoders in `add_encoders` at model creation but model does not accept future covariates. future encoders will be ignored.\n",
      "/home/eduardo/Documentos/Water-Cycle-Neural-Network/venv/lib/python3.12/site-packages/torch/nn/modules/rnn.py:123: UserWarning: dropout option adds dropout after all but last recurrent layer, so non-zero dropout expects num_layers greater than 1, but got dropout=0.4 and num_layers=1\n",
      "  warnings.warn(\n",
      "GPU available: True (cuda), used: True\n",
      "TPU available: False, using: 0 TPU cores\n",
      "HPU available: False, using: 0 HPUs\n",
      "LOCAL_RANK: 0 - CUDA_VISIBLE_DEVICES: [0]\n"
     ]
    },
    {
     "name": "stdout",
     "output_type": "stream",
     "text": [
      "SMAPE fold 1: 148.2659151438097\n",
      "\n",
      "Fold 3/3\n"
     ]
    },
    {
     "name": "stderr",
     "output_type": "stream",
     "text": [
      "/home/eduardo/Documentos/Water-Cycle-Neural-Network/venv/lib/python3.12/site-packages/optuna/trial/_trial.py:497: UserWarning: The reported value is ignored because this `step` 0 is already reported.\n",
      "  warnings.warn(\n",
      "/home/eduardo/Documentos/Water-Cycle-Neural-Network/venv/lib/python3.12/site-packages/optuna/trial/_trial.py:497: UserWarning: The reported value is ignored because this `step` 1 is already reported.\n",
      "  warnings.warn(\n",
      "/home/eduardo/Documentos/Water-Cycle-Neural-Network/venv/lib/python3.12/site-packages/optuna/trial/_trial.py:497: UserWarning: The reported value is ignored because this `step` 2 is already reported.\n",
      "  warnings.warn(\n",
      "/home/eduardo/Documentos/Water-Cycle-Neural-Network/venv/lib/python3.12/site-packages/optuna/trial/_trial.py:497: UserWarning: The reported value is ignored because this `step` 3 is already reported.\n",
      "  warnings.warn(\n",
      "/home/eduardo/Documentos/Water-Cycle-Neural-Network/venv/lib/python3.12/site-packages/optuna/trial/_trial.py:497: UserWarning: The reported value is ignored because this `step` 4 is already reported.\n",
      "  warnings.warn(\n",
      "/home/eduardo/Documentos/Water-Cycle-Neural-Network/venv/lib/python3.12/site-packages/optuna/trial/_trial.py:497: UserWarning: The reported value is ignored because this `step` 5 is already reported.\n",
      "  warnings.warn(\n",
      "/home/eduardo/Documentos/Water-Cycle-Neural-Network/venv/lib/python3.12/site-packages/optuna/trial/_trial.py:497: UserWarning: The reported value is ignored because this `step` 6 is already reported.\n",
      "  warnings.warn(\n",
      "/home/eduardo/Documentos/Water-Cycle-Neural-Network/venv/lib/python3.12/site-packages/optuna/trial/_trial.py:497: UserWarning: The reported value is ignored because this `step` 7 is already reported.\n",
      "  warnings.warn(\n",
      "/home/eduardo/Documentos/Water-Cycle-Neural-Network/venv/lib/python3.12/site-packages/optuna/trial/_trial.py:497: UserWarning: The reported value is ignored because this `step` 8 is already reported.\n",
      "  warnings.warn(\n",
      "/home/eduardo/Documentos/Water-Cycle-Neural-Network/venv/lib/python3.12/site-packages/optuna/trial/_trial.py:497: UserWarning: The reported value is ignored because this `step` 9 is already reported.\n",
      "  warnings.warn(\n",
      "/home/eduardo/Documentos/Water-Cycle-Neural-Network/venv/lib/python3.12/site-packages/optuna/trial/_trial.py:497: UserWarning: The reported value is ignored because this `step` 10 is already reported.\n",
      "  warnings.warn(\n",
      "/home/eduardo/Documentos/Water-Cycle-Neural-Network/venv/lib/python3.12/site-packages/optuna/trial/_trial.py:497: UserWarning: The reported value is ignored because this `step` 11 is already reported.\n",
      "  warnings.warn(\n",
      "/home/eduardo/Documentos/Water-Cycle-Neural-Network/venv/lib/python3.12/site-packages/optuna/trial/_trial.py:497: UserWarning: The reported value is ignored because this `step` 12 is already reported.\n",
      "  warnings.warn(\n",
      "/home/eduardo/Documentos/Water-Cycle-Neural-Network/venv/lib/python3.12/site-packages/optuna/trial/_trial.py:497: UserWarning: The reported value is ignored because this `step` 13 is already reported.\n",
      "  warnings.warn(\n",
      "/home/eduardo/Documentos/Water-Cycle-Neural-Network/venv/lib/python3.12/site-packages/optuna/trial/_trial.py:497: UserWarning: The reported value is ignored because this `step` 14 is already reported.\n",
      "  warnings.warn(\n",
      "Monitored metric val_loss did not improve in the last 15 records. Best score: 0.435. Signaling Trainer to stop.\n",
      "/home/eduardo/Documentos/Water-Cycle-Neural-Network/venv/lib/python3.12/site-packages/torch/nn/modules/rnn.py:123: UserWarning: dropout option adds dropout after all but last recurrent layer, so non-zero dropout expects num_layers greater than 1, but got dropout=0.4 and num_layers=1\n",
      "  warnings.warn(\n",
      "GPU available: True (cuda), used: True\n",
      "TPU available: False, using: 0 TPU cores\n",
      "HPU available: False, using: 0 HPUs\n",
      "LOCAL_RANK: 0 - CUDA_VISIBLE_DEVICES: [0]\n"
     ]
    },
    {
     "name": "stdout",
     "output_type": "stream",
     "text": [
      "Model loaded from checkpoint for trial 2, fold 2\n"
     ]
    },
    {
     "name": "stderr",
     "output_type": "stream",
     "text": [
      "[I 2025-06-10 22:04:15,895] Trial 2 finished with value: 149.94268033043707 and parameters: {'input_chunk_length': 96, 'hidden_size': 72, 'layer_size': 1, 'dropout': 0.4, 'batch_size': 248, 'lr': 6.899629588771733e-06, 'weight_decay': 6.091265758014019e-05}. Best is trial 0 with value: 71.98135265861924.\n",
      "Specified future encoders in `add_encoders` at model creation but model does not accept future covariates. future encoders will be ignored.\n",
      "GPU available: True (cuda), used: True\n",
      "TPU available: False, using: 0 TPU cores\n",
      "HPU available: False, using: 0 HPUs\n",
      "LOCAL_RANK: 0 - CUDA_VISIBLE_DEVICES: [0]\n"
     ]
    },
    {
     "name": "stdout",
     "output_type": "stream",
     "text": [
      "SMAPE fold 2: 167.41796865976636\n",
      "Média dos SMAPE nos folds: 149.94268033043707\n",
      "Results of trial 2 saved in optuna_iteration_metrics/trial_2.json\n",
      "Current value: 149.94268033043707, Current params: {'input_chunk_length': 96, 'hidden_size': 72, 'layer_size': 1, 'dropout': 0.4, 'batch_size': 248, 'lr': 6.899629588771733e-06, 'weight_decay': 6.091265758014019e-05}\n",
      "Best value: 71.98135265861924, Best params: {'input_chunk_length': 156, 'hidden_size': 248, 'layer_size': 3, 'dropout': 0.35, 'batch_size': 112, 'lr': 0.002492740916010985, 'weight_decay': 0.00041606773278479785}\n",
      "\n",
      "Fold 1/3\n"
     ]
    },
    {
     "name": "stderr",
     "output_type": "stream",
     "text": [
      "Metric val_loss improved. New best score: 12.647\n",
      "Metric val_loss improved by 0.083 >= min_delta = 0.0005. New best score: 12.564\n",
      "Metric val_loss improved by 0.008 >= min_delta = 0.0005. New best score: 12.556\n",
      "Metric val_loss improved by 0.019 >= min_delta = 0.0005. New best score: 12.538\n",
      "Monitored metric val_loss did not improve in the last 15 records. Best score: 12.538. Signaling Trainer to stop.\n",
      "GPU available: True (cuda), used: True\n",
      "TPU available: False, using: 0 TPU cores\n",
      "HPU available: False, using: 0 HPUs\n",
      "LOCAL_RANK: 0 - CUDA_VISIBLE_DEVICES: [0]\n"
     ]
    },
    {
     "name": "stdout",
     "output_type": "stream",
     "text": [
      "Model loaded from checkpoint for trial 3, fold 0\n"
     ]
    },
    {
     "name": "stderr",
     "output_type": "stream",
     "text": [
      "Specified future encoders in `add_encoders` at model creation but model does not accept future covariates. future encoders will be ignored.\n",
      "GPU available: True (cuda), used: True\n",
      "TPU available: False, using: 0 TPU cores\n",
      "HPU available: False, using: 0 HPUs\n",
      "LOCAL_RANK: 0 - CUDA_VISIBLE_DEVICES: [0]\n"
     ]
    },
    {
     "name": "stdout",
     "output_type": "stream",
     "text": [
      "SMAPE fold 0: 88.44249661797336\n",
      "\n",
      "Fold 2/3\n"
     ]
    },
    {
     "name": "stderr",
     "output_type": "stream",
     "text": [
      "/home/eduardo/Documentos/Water-Cycle-Neural-Network/venv/lib/python3.12/site-packages/optuna/trial/_trial.py:497: UserWarning: The reported value is ignored because this `step` 0 is already reported.\n",
      "  warnings.warn(\n",
      "Metric val_loss improved by 12.152 >= min_delta = 0.0005. New best score: 0.386\n",
      "/home/eduardo/Documentos/Water-Cycle-Neural-Network/venv/lib/python3.12/site-packages/optuna/trial/_trial.py:497: UserWarning: The reported value is ignored because this `step` 1 is already reported.\n",
      "  warnings.warn(\n",
      "Metric val_loss improved by 0.043 >= min_delta = 0.0005. New best score: 0.343\n",
      "/home/eduardo/Documentos/Water-Cycle-Neural-Network/venv/lib/python3.12/site-packages/optuna/trial/_trial.py:497: UserWarning: The reported value is ignored because this `step` 2 is already reported.\n",
      "  warnings.warn(\n",
      "Metric val_loss improved by 0.017 >= min_delta = 0.0005. New best score: 0.326\n",
      "/home/eduardo/Documentos/Water-Cycle-Neural-Network/venv/lib/python3.12/site-packages/optuna/trial/_trial.py:497: UserWarning: The reported value is ignored because this `step` 3 is already reported.\n",
      "  warnings.warn(\n",
      "Metric val_loss improved by 0.151 >= min_delta = 0.0005. New best score: 0.174\n",
      "/home/eduardo/Documentos/Water-Cycle-Neural-Network/venv/lib/python3.12/site-packages/optuna/trial/_trial.py:497: UserWarning: The reported value is ignored because this `step` 4 is already reported.\n",
      "  warnings.warn(\n",
      "Metric val_loss improved by 0.074 >= min_delta = 0.0005. New best score: 0.100\n",
      "/home/eduardo/Documentos/Water-Cycle-Neural-Network/venv/lib/python3.12/site-packages/optuna/trial/_trial.py:497: UserWarning: The reported value is ignored because this `step` 5 is already reported.\n",
      "  warnings.warn(\n",
      "Metric val_loss improved by 0.004 >= min_delta = 0.0005. New best score: 0.096\n",
      "/home/eduardo/Documentos/Water-Cycle-Neural-Network/venv/lib/python3.12/site-packages/optuna/trial/_trial.py:497: UserWarning: The reported value is ignored because this `step` 6 is already reported.\n",
      "  warnings.warn(\n",
      "/home/eduardo/Documentos/Water-Cycle-Neural-Network/venv/lib/python3.12/site-packages/optuna/trial/_trial.py:497: UserWarning: The reported value is ignored because this `step` 7 is already reported.\n",
      "  warnings.warn(\n",
      "/home/eduardo/Documentos/Water-Cycle-Neural-Network/venv/lib/python3.12/site-packages/optuna/trial/_trial.py:497: UserWarning: The reported value is ignored because this `step` 8 is already reported.\n",
      "  warnings.warn(\n",
      "/home/eduardo/Documentos/Water-Cycle-Neural-Network/venv/lib/python3.12/site-packages/optuna/trial/_trial.py:497: UserWarning: The reported value is ignored because this `step` 9 is already reported.\n",
      "  warnings.warn(\n",
      "/home/eduardo/Documentos/Water-Cycle-Neural-Network/venv/lib/python3.12/site-packages/optuna/trial/_trial.py:497: UserWarning: The reported value is ignored because this `step` 10 is already reported.\n",
      "  warnings.warn(\n",
      "/home/eduardo/Documentos/Water-Cycle-Neural-Network/venv/lib/python3.12/site-packages/optuna/trial/_trial.py:497: UserWarning: The reported value is ignored because this `step` 11 is already reported.\n",
      "  warnings.warn(\n",
      "/home/eduardo/Documentos/Water-Cycle-Neural-Network/venv/lib/python3.12/site-packages/optuna/trial/_trial.py:497: UserWarning: The reported value is ignored because this `step` 12 is already reported.\n",
      "  warnings.warn(\n",
      "/home/eduardo/Documentos/Water-Cycle-Neural-Network/venv/lib/python3.12/site-packages/optuna/trial/_trial.py:497: UserWarning: The reported value is ignored because this `step` 13 is already reported.\n",
      "  warnings.warn(\n",
      "/home/eduardo/Documentos/Water-Cycle-Neural-Network/venv/lib/python3.12/site-packages/optuna/trial/_trial.py:497: UserWarning: The reported value is ignored because this `step` 14 is already reported.\n",
      "  warnings.warn(\n",
      "/home/eduardo/Documentos/Water-Cycle-Neural-Network/venv/lib/python3.12/site-packages/optuna/trial/_trial.py:497: UserWarning: The reported value is ignored because this `step` 15 is already reported.\n",
      "  warnings.warn(\n",
      "/home/eduardo/Documentos/Water-Cycle-Neural-Network/venv/lib/python3.12/site-packages/optuna/trial/_trial.py:497: UserWarning: The reported value is ignored because this `step` 16 is already reported.\n",
      "  warnings.warn(\n",
      "Metric val_loss improved by 0.003 >= min_delta = 0.0005. New best score: 0.093\n",
      "/home/eduardo/Documentos/Water-Cycle-Neural-Network/venv/lib/python3.12/site-packages/optuna/trial/_trial.py:497: UserWarning: The reported value is ignored because this `step` 17 is already reported.\n",
      "  warnings.warn(\n",
      "/home/eduardo/Documentos/Water-Cycle-Neural-Network/venv/lib/python3.12/site-packages/optuna/trial/_trial.py:497: UserWarning: The reported value is ignored because this `step` 18 is already reported.\n",
      "  warnings.warn(\n",
      "`Trainer.fit` stopped: `max_epochs=30` reached.\n",
      "GPU available: True (cuda), used: True\n",
      "TPU available: False, using: 0 TPU cores\n",
      "HPU available: False, using: 0 HPUs\n",
      "LOCAL_RANK: 0 - CUDA_VISIBLE_DEVICES: [0]\n"
     ]
    },
    {
     "name": "stdout",
     "output_type": "stream",
     "text": [
      "Model loaded from checkpoint for trial 3, fold 1\n"
     ]
    },
    {
     "name": "stderr",
     "output_type": "stream",
     "text": [
      "Specified future encoders in `add_encoders` at model creation but model does not accept future covariates. future encoders will be ignored.\n",
      "GPU available: True (cuda), used: True\n",
      "TPU available: False, using: 0 TPU cores\n",
      "HPU available: False, using: 0 HPUs\n",
      "LOCAL_RANK: 0 - CUDA_VISIBLE_DEVICES: [0]\n"
     ]
    },
    {
     "name": "stdout",
     "output_type": "stream",
     "text": [
      "SMAPE fold 1: 64.0795999575786\n",
      "\n",
      "Fold 3/3\n"
     ]
    },
    {
     "name": "stderr",
     "output_type": "stream",
     "text": [
      "/home/eduardo/Documentos/Water-Cycle-Neural-Network/venv/lib/python3.12/site-packages/optuna/trial/_trial.py:497: UserWarning: The reported value is ignored because this `step` 0 is already reported.\n",
      "  warnings.warn(\n",
      "/home/eduardo/Documentos/Water-Cycle-Neural-Network/venv/lib/python3.12/site-packages/optuna/trial/_trial.py:497: UserWarning: The reported value is ignored because this `step` 1 is already reported.\n",
      "  warnings.warn(\n",
      "Monitored metric val_loss did not improve in the last 15 records. Best score: 0.093. Signaling Trainer to stop.\n",
      "GPU available: True (cuda), used: True\n",
      "TPU available: False, using: 0 TPU cores\n",
      "HPU available: False, using: 0 HPUs\n",
      "LOCAL_RANK: 0 - CUDA_VISIBLE_DEVICES: [0]\n"
     ]
    },
    {
     "name": "stdout",
     "output_type": "stream",
     "text": [
      "Model loaded from checkpoint for trial 3, fold 2\n"
     ]
    },
    {
     "name": "stderr",
     "output_type": "stream",
     "text": [
      "[I 2025-06-10 22:08:34,855] Trial 3 finished with value: 71.84043850775616 and parameters: {'input_chunk_length': 96, 'hidden_size': 240, 'layer_size': 3, 'dropout': 0.4, 'batch_size': 224, 'lr': 0.00015954181001810058, 'weight_decay': 0.002178271713401385}. Best is trial 3 with value: 71.84043850775616.\n",
      "Specified future encoders in `add_encoders` at model creation but model does not accept future covariates. future encoders will be ignored.\n",
      "GPU available: True (cuda), used: True\n",
      "TPU available: False, using: 0 TPU cores\n",
      "HPU available: False, using: 0 HPUs\n",
      "LOCAL_RANK: 0 - CUDA_VISIBLE_DEVICES: [0]\n"
     ]
    },
    {
     "name": "stdout",
     "output_type": "stream",
     "text": [
      "SMAPE fold 2: 62.99921894771653\n",
      "Média dos SMAPE nos folds: 71.84043850775616\n",
      "Results of trial 3 saved in optuna_iteration_metrics/trial_3.json\n",
      "Current value: 71.84043850775616, Current params: {'input_chunk_length': 96, 'hidden_size': 240, 'layer_size': 3, 'dropout': 0.4, 'batch_size': 224, 'lr': 0.00015954181001810058, 'weight_decay': 0.002178271713401385}\n",
      "Best value: 71.84043850775616, Best params: {'input_chunk_length': 96, 'hidden_size': 240, 'layer_size': 3, 'dropout': 0.4, 'batch_size': 224, 'lr': 0.00015954181001810058, 'weight_decay': 0.002178271713401385}\n",
      "\n",
      "Fold 1/3\n"
     ]
    },
    {
     "name": "stderr",
     "output_type": "stream",
     "text": [
      "Metric val_loss improved. New best score: 12.415\n",
      "Metric val_loss improved by 0.080 >= min_delta = 0.0005. New best score: 12.336\n",
      "Metric val_loss improved by 0.033 >= min_delta = 0.0005. New best score: 12.303\n",
      "Metric val_loss improved by 0.017 >= min_delta = 0.0005. New best score: 12.286\n",
      "Metric val_loss improved by 0.007 >= min_delta = 0.0005. New best score: 12.279\n",
      "Metric val_loss improved by 0.011 >= min_delta = 0.0005. New best score: 12.268\n",
      "Metric val_loss improved by 0.034 >= min_delta = 0.0005. New best score: 12.235\n",
      "Metric val_loss improved by 0.001 >= min_delta = 0.0005. New best score: 12.234\n",
      "Monitored metric val_loss did not improve in the last 15 records. Best score: 12.234. Signaling Trainer to stop.\n",
      "GPU available: True (cuda), used: True\n",
      "TPU available: False, using: 0 TPU cores\n",
      "HPU available: False, using: 0 HPUs\n",
      "LOCAL_RANK: 0 - CUDA_VISIBLE_DEVICES: [0]\n"
     ]
    },
    {
     "name": "stdout",
     "output_type": "stream",
     "text": [
      "Model loaded from checkpoint for trial 4, fold 0\n"
     ]
    },
    {
     "name": "stderr",
     "output_type": "stream",
     "text": [
      "Specified future encoders in `add_encoders` at model creation but model does not accept future covariates. future encoders will be ignored.\n",
      "GPU available: True (cuda), used: True\n",
      "TPU available: False, using: 0 TPU cores\n",
      "HPU available: False, using: 0 HPUs\n",
      "LOCAL_RANK: 0 - CUDA_VISIBLE_DEVICES: [0]\n"
     ]
    },
    {
     "name": "stdout",
     "output_type": "stream",
     "text": [
      "SMAPE fold 0: 90.69812464215761\n",
      "\n",
      "Fold 2/3\n"
     ]
    },
    {
     "name": "stderr",
     "output_type": "stream",
     "text": [
      "/home/eduardo/Documentos/Water-Cycle-Neural-Network/venv/lib/python3.12/site-packages/optuna/trial/_trial.py:497: UserWarning: The reported value is ignored because this `step` 0 is already reported.\n",
      "  warnings.warn(\n",
      "Metric val_loss improved by 12.101 >= min_delta = 0.0005. New best score: 0.133\n",
      "/home/eduardo/Documentos/Water-Cycle-Neural-Network/venv/lib/python3.12/site-packages/optuna/trial/_trial.py:497: UserWarning: The reported value is ignored because this `step` 1 is already reported.\n",
      "  warnings.warn(\n",
      "Metric val_loss improved by 0.065 >= min_delta = 0.0005. New best score: 0.068\n",
      "/home/eduardo/Documentos/Water-Cycle-Neural-Network/venv/lib/python3.12/site-packages/optuna/trial/_trial.py:497: UserWarning: The reported value is ignored because this `step` 2 is already reported.\n",
      "  warnings.warn(\n",
      "Metric val_loss improved by 0.022 >= min_delta = 0.0005. New best score: 0.046\n",
      "/home/eduardo/Documentos/Water-Cycle-Neural-Network/venv/lib/python3.12/site-packages/optuna/trial/_trial.py:497: UserWarning: The reported value is ignored because this `step` 3 is already reported.\n",
      "  warnings.warn(\n",
      "Metric val_loss improved by 0.005 >= min_delta = 0.0005. New best score: 0.041\n",
      "/home/eduardo/Documentos/Water-Cycle-Neural-Network/venv/lib/python3.12/site-packages/optuna/trial/_trial.py:497: UserWarning: The reported value is ignored because this `step` 4 is already reported.\n",
      "  warnings.warn(\n",
      "Metric val_loss improved by 0.011 >= min_delta = 0.0005. New best score: 0.030\n",
      "/home/eduardo/Documentos/Water-Cycle-Neural-Network/venv/lib/python3.12/site-packages/optuna/trial/_trial.py:497: UserWarning: The reported value is ignored because this `step` 5 is already reported.\n",
      "  warnings.warn(\n",
      "/home/eduardo/Documentos/Water-Cycle-Neural-Network/venv/lib/python3.12/site-packages/optuna/trial/_trial.py:497: UserWarning: The reported value is ignored because this `step` 6 is already reported.\n",
      "  warnings.warn(\n",
      "/home/eduardo/Documentos/Water-Cycle-Neural-Network/venv/lib/python3.12/site-packages/optuna/trial/_trial.py:497: UserWarning: The reported value is ignored because this `step` 7 is already reported.\n",
      "  warnings.warn(\n",
      "/home/eduardo/Documentos/Water-Cycle-Neural-Network/venv/lib/python3.12/site-packages/optuna/trial/_trial.py:497: UserWarning: The reported value is ignored because this `step` 8 is already reported.\n",
      "  warnings.warn(\n",
      "/home/eduardo/Documentos/Water-Cycle-Neural-Network/venv/lib/python3.12/site-packages/optuna/trial/_trial.py:497: UserWarning: The reported value is ignored because this `step` 9 is already reported.\n",
      "  warnings.warn(\n",
      "/home/eduardo/Documentos/Water-Cycle-Neural-Network/venv/lib/python3.12/site-packages/optuna/trial/_trial.py:497: UserWarning: The reported value is ignored because this `step` 10 is already reported.\n",
      "  warnings.warn(\n",
      "/home/eduardo/Documentos/Water-Cycle-Neural-Network/venv/lib/python3.12/site-packages/optuna/trial/_trial.py:497: UserWarning: The reported value is ignored because this `step` 11 is already reported.\n",
      "  warnings.warn(\n",
      "/home/eduardo/Documentos/Water-Cycle-Neural-Network/venv/lib/python3.12/site-packages/optuna/trial/_trial.py:497: UserWarning: The reported value is ignored because this `step` 12 is already reported.\n",
      "  warnings.warn(\n",
      "/home/eduardo/Documentos/Water-Cycle-Neural-Network/venv/lib/python3.12/site-packages/optuna/trial/_trial.py:497: UserWarning: The reported value is ignored because this `step` 13 is already reported.\n",
      "  warnings.warn(\n",
      "/home/eduardo/Documentos/Water-Cycle-Neural-Network/venv/lib/python3.12/site-packages/optuna/trial/_trial.py:497: UserWarning: The reported value is ignored because this `step` 14 is already reported.\n",
      "  warnings.warn(\n",
      "/home/eduardo/Documentos/Water-Cycle-Neural-Network/venv/lib/python3.12/site-packages/optuna/trial/_trial.py:497: UserWarning: The reported value is ignored because this `step` 15 is already reported.\n",
      "  warnings.warn(\n",
      "/home/eduardo/Documentos/Water-Cycle-Neural-Network/venv/lib/python3.12/site-packages/optuna/trial/_trial.py:497: UserWarning: The reported value is ignored because this `step` 16 is already reported.\n",
      "  warnings.warn(\n",
      "/home/eduardo/Documentos/Water-Cycle-Neural-Network/venv/lib/python3.12/site-packages/optuna/trial/_trial.py:497: UserWarning: The reported value is ignored because this `step` 17 is already reported.\n",
      "  warnings.warn(\n",
      "/home/eduardo/Documentos/Water-Cycle-Neural-Network/venv/lib/python3.12/site-packages/optuna/trial/_trial.py:497: UserWarning: The reported value is ignored because this `step` 18 is already reported.\n",
      "  warnings.warn(\n",
      "/home/eduardo/Documentos/Water-Cycle-Neural-Network/venv/lib/python3.12/site-packages/optuna/trial/_trial.py:497: UserWarning: The reported value is ignored because this `step` 19 is already reported.\n",
      "  warnings.warn(\n",
      "Monitored metric val_loss did not improve in the last 15 records. Best score: 0.030. Signaling Trainer to stop.\n",
      "GPU available: True (cuda), used: True\n",
      "TPU available: False, using: 0 TPU cores\n",
      "HPU available: False, using: 0 HPUs\n",
      "LOCAL_RANK: 0 - CUDA_VISIBLE_DEVICES: [0]\n"
     ]
    },
    {
     "name": "stdout",
     "output_type": "stream",
     "text": [
      "Model loaded from checkpoint for trial 4, fold 1\n"
     ]
    },
    {
     "name": "stderr",
     "output_type": "stream",
     "text": [
      "Specified future encoders in `add_encoders` at model creation but model does not accept future covariates. future encoders will be ignored.\n",
      "GPU available: True (cuda), used: True\n",
      "TPU available: False, using: 0 TPU cores\n",
      "HPU available: False, using: 0 HPUs\n",
      "LOCAL_RANK: 0 - CUDA_VISIBLE_DEVICES: [0]\n"
     ]
    },
    {
     "name": "stdout",
     "output_type": "stream",
     "text": [
      "SMAPE fold 1: 28.403896828619235\n",
      "\n",
      "Fold 3/3\n"
     ]
    },
    {
     "name": "stderr",
     "output_type": "stream",
     "text": [
      "/home/eduardo/Documentos/Water-Cycle-Neural-Network/venv/lib/python3.12/site-packages/optuna/trial/_trial.py:497: UserWarning: The reported value is ignored because this `step` 0 is already reported.\n",
      "  warnings.warn(\n",
      "Monitored metric val_loss did not improve in the last 16 records. Best score: 0.030. Signaling Trainer to stop.\n",
      "GPU available: True (cuda), used: True\n",
      "TPU available: False, using: 0 TPU cores\n",
      "HPU available: False, using: 0 HPUs\n",
      "LOCAL_RANK: 0 - CUDA_VISIBLE_DEVICES: [0]\n"
     ]
    },
    {
     "name": "stdout",
     "output_type": "stream",
     "text": [
      "Model loaded from checkpoint for trial 4, fold 2\n"
     ]
    },
    {
     "name": "stderr",
     "output_type": "stream",
     "text": [
      "[I 2025-06-10 22:10:46,962] Trial 4 finished with value: 56.746995125078605 and parameters: {'input_chunk_length': 72, 'hidden_size': 192, 'layer_size': 2, 'dropout': 0.1, 'batch_size': 120, 'lr': 0.0015946669352095357, 'weight_decay': 1.4990212709784245e-06}. Best is trial 4 with value: 56.746995125078605.\n",
      "Specified future encoders in `add_encoders` at model creation but model does not accept future covariates. future encoders will be ignored.\n",
      "/home/eduardo/Documentos/Water-Cycle-Neural-Network/venv/lib/python3.12/site-packages/torch/nn/modules/rnn.py:123: UserWarning: dropout option adds dropout after all but last recurrent layer, so non-zero dropout expects num_layers greater than 1, but got dropout=0.5 and num_layers=1\n",
      "  warnings.warn(\n",
      "GPU available: True (cuda), used: True\n",
      "TPU available: False, using: 0 TPU cores\n",
      "HPU available: False, using: 0 HPUs\n",
      "LOCAL_RANK: 0 - CUDA_VISIBLE_DEVICES: [0]\n"
     ]
    },
    {
     "name": "stdout",
     "output_type": "stream",
     "text": [
      "SMAPE fold 2: 51.138963904458976\n",
      "Média dos SMAPE nos folds: 56.746995125078605\n",
      "Results of trial 4 saved in optuna_iteration_metrics/trial_4.json\n",
      "Current value: 56.746995125078605, Current params: {'input_chunk_length': 72, 'hidden_size': 192, 'layer_size': 2, 'dropout': 0.1, 'batch_size': 120, 'lr': 0.0015946669352095357, 'weight_decay': 1.4990212709784245e-06}\n",
      "Best value: 56.746995125078605, Best params: {'input_chunk_length': 72, 'hidden_size': 192, 'layer_size': 2, 'dropout': 0.1, 'batch_size': 120, 'lr': 0.0015946669352095357, 'weight_decay': 1.4990212709784245e-06}\n",
      "\n",
      "Fold 1/3\n"
     ]
    },
    {
     "name": "stderr",
     "output_type": "stream",
     "text": [
      "Metric val_loss improved. New best score: 12.575\n",
      "Metric val_loss improved by 0.002 >= min_delta = 0.0005. New best score: 12.573\n",
      "Metric val_loss improved by 0.002 >= min_delta = 0.0005. New best score: 12.571\n",
      "Metric val_loss improved by 0.002 >= min_delta = 0.0005. New best score: 12.569\n",
      "Metric val_loss improved by 0.002 >= min_delta = 0.0005. New best score: 12.567\n",
      "Metric val_loss improved by 0.002 >= min_delta = 0.0005. New best score: 12.565\n",
      "Metric val_loss improved by 0.002 >= min_delta = 0.0005. New best score: 12.563\n",
      "Metric val_loss improved by 0.002 >= min_delta = 0.0005. New best score: 12.561\n",
      "Metric val_loss improved by 0.002 >= min_delta = 0.0005. New best score: 12.558\n",
      "Metric val_loss improved by 0.003 >= min_delta = 0.0005. New best score: 12.556\n",
      "Metric val_loss improved by 0.003 >= min_delta = 0.0005. New best score: 12.553\n",
      "Metric val_loss improved by 0.003 >= min_delta = 0.0005. New best score: 12.550\n",
      "Metric val_loss improved by 0.003 >= min_delta = 0.0005. New best score: 12.547\n",
      "Metric val_loss improved by 0.003 >= min_delta = 0.0005. New best score: 12.544\n",
      "Metric val_loss improved by 0.003 >= min_delta = 0.0005. New best score: 12.541\n",
      "Metric val_loss improved by 0.003 >= min_delta = 0.0005. New best score: 12.537\n",
      "Metric val_loss improved by 0.004 >= min_delta = 0.0005. New best score: 12.534\n",
      "Metric val_loss improved by 0.004 >= min_delta = 0.0005. New best score: 12.530\n",
      "Metric val_loss improved by 0.004 >= min_delta = 0.0005. New best score: 12.526\n",
      "Metric val_loss improved by 0.004 >= min_delta = 0.0005. New best score: 12.522\n",
      "Metric val_loss improved by 0.004 >= min_delta = 0.0005. New best score: 12.517\n",
      "Metric val_loss improved by 0.005 >= min_delta = 0.0005. New best score: 12.513\n",
      "Metric val_loss improved by 0.005 >= min_delta = 0.0005. New best score: 12.508\n",
      "Metric val_loss improved by 0.005 >= min_delta = 0.0005. New best score: 12.503\n",
      "Metric val_loss improved by 0.005 >= min_delta = 0.0005. New best score: 12.497\n",
      "Metric val_loss improved by 0.005 >= min_delta = 0.0005. New best score: 12.492\n",
      "Metric val_loss improved by 0.006 >= min_delta = 0.0005. New best score: 12.486\n",
      "Metric val_loss improved by 0.005 >= min_delta = 0.0005. New best score: 12.481\n",
      "Metric val_loss improved by 0.005 >= min_delta = 0.0005. New best score: 12.476\n",
      "Metric val_loss improved by 0.005 >= min_delta = 0.0005. New best score: 12.471\n",
      "`Trainer.fit` stopped: `max_epochs=30` reached.\n",
      "/home/eduardo/Documentos/Water-Cycle-Neural-Network/venv/lib/python3.12/site-packages/torch/nn/modules/rnn.py:123: UserWarning: dropout option adds dropout after all but last recurrent layer, so non-zero dropout expects num_layers greater than 1, but got dropout=0.5 and num_layers=1\n",
      "  warnings.warn(\n",
      "GPU available: True (cuda), used: True\n",
      "TPU available: False, using: 0 TPU cores\n",
      "HPU available: False, using: 0 HPUs\n",
      "LOCAL_RANK: 0 - CUDA_VISIBLE_DEVICES: [0]\n"
     ]
    },
    {
     "name": "stdout",
     "output_type": "stream",
     "text": [
      "Model loaded from checkpoint for trial 5, fold 0\n"
     ]
    },
    {
     "name": "stderr",
     "output_type": "stream",
     "text": [
      "Specified future encoders in `add_encoders` at model creation but model does not accept future covariates. future encoders will be ignored.\n",
      "/home/eduardo/Documentos/Water-Cycle-Neural-Network/venv/lib/python3.12/site-packages/torch/nn/modules/rnn.py:123: UserWarning: dropout option adds dropout after all but last recurrent layer, so non-zero dropout expects num_layers greater than 1, but got dropout=0.5 and num_layers=1\n",
      "  warnings.warn(\n",
      "GPU available: True (cuda), used: True\n",
      "TPU available: False, using: 0 TPU cores\n",
      "HPU available: False, using: 0 HPUs\n",
      "LOCAL_RANK: 0 - CUDA_VISIBLE_DEVICES: [0]\n"
     ]
    },
    {
     "name": "stdout",
     "output_type": "stream",
     "text": [
      "SMAPE fold 0: 159.83511670872753\n",
      "\n",
      "Fold 2/3\n"
     ]
    },
    {
     "name": "stderr",
     "output_type": "stream",
     "text": [
      "/home/eduardo/Documentos/Water-Cycle-Neural-Network/venv/lib/python3.12/site-packages/optuna/trial/_trial.py:497: UserWarning: The reported value is ignored because this `step` 0 is already reported.\n",
      "  warnings.warn(\n",
      "Metric val_loss improved by 12.013 >= min_delta = 0.0005. New best score: 0.458\n",
      "/home/eduardo/Documentos/Water-Cycle-Neural-Network/venv/lib/python3.12/site-packages/optuna/trial/_trial.py:497: UserWarning: The reported value is ignored because this `step` 1 is already reported.\n",
      "  warnings.warn(\n",
      "Metric val_loss improved by 0.003 >= min_delta = 0.0005. New best score: 0.455\n",
      "/home/eduardo/Documentos/Water-Cycle-Neural-Network/venv/lib/python3.12/site-packages/optuna/trial/_trial.py:497: UserWarning: The reported value is ignored because this `step` 2 is already reported.\n",
      "  warnings.warn(\n",
      "Metric val_loss improved by 0.003 >= min_delta = 0.0005. New best score: 0.452\n",
      "/home/eduardo/Documentos/Water-Cycle-Neural-Network/venv/lib/python3.12/site-packages/optuna/trial/_trial.py:497: UserWarning: The reported value is ignored because this `step` 3 is already reported.\n",
      "  warnings.warn(\n",
      "Metric val_loss improved by 0.003 >= min_delta = 0.0005. New best score: 0.449\n",
      "/home/eduardo/Documentos/Water-Cycle-Neural-Network/venv/lib/python3.12/site-packages/optuna/trial/_trial.py:497: UserWarning: The reported value is ignored because this `step` 4 is already reported.\n",
      "  warnings.warn(\n",
      "Metric val_loss improved by 0.003 >= min_delta = 0.0005. New best score: 0.445\n",
      "/home/eduardo/Documentos/Water-Cycle-Neural-Network/venv/lib/python3.12/site-packages/optuna/trial/_trial.py:497: UserWarning: The reported value is ignored because this `step` 5 is already reported.\n",
      "  warnings.warn(\n",
      "Metric val_loss improved by 0.003 >= min_delta = 0.0005. New best score: 0.442\n",
      "/home/eduardo/Documentos/Water-Cycle-Neural-Network/venv/lib/python3.12/site-packages/optuna/trial/_trial.py:497: UserWarning: The reported value is ignored because this `step` 6 is already reported.\n",
      "  warnings.warn(\n",
      "Metric val_loss improved by 0.004 >= min_delta = 0.0005. New best score: 0.438\n",
      "/home/eduardo/Documentos/Water-Cycle-Neural-Network/venv/lib/python3.12/site-packages/optuna/trial/_trial.py:497: UserWarning: The reported value is ignored because this `step` 7 is already reported.\n",
      "  warnings.warn(\n",
      "Metric val_loss improved by 0.004 >= min_delta = 0.0005. New best score: 0.434\n",
      "/home/eduardo/Documentos/Water-Cycle-Neural-Network/venv/lib/python3.12/site-packages/optuna/trial/_trial.py:497: UserWarning: The reported value is ignored because this `step` 8 is already reported.\n",
      "  warnings.warn(\n",
      "Metric val_loss improved by 0.004 >= min_delta = 0.0005. New best score: 0.430\n",
      "/home/eduardo/Documentos/Water-Cycle-Neural-Network/venv/lib/python3.12/site-packages/optuna/trial/_trial.py:497: UserWarning: The reported value is ignored because this `step` 9 is already reported.\n",
      "  warnings.warn(\n",
      "Metric val_loss improved by 0.005 >= min_delta = 0.0005. New best score: 0.425\n",
      "/home/eduardo/Documentos/Water-Cycle-Neural-Network/venv/lib/python3.12/site-packages/optuna/trial/_trial.py:497: UserWarning: The reported value is ignored because this `step` 10 is already reported.\n",
      "  warnings.warn(\n",
      "Metric val_loss improved by 0.005 >= min_delta = 0.0005. New best score: 0.419\n",
      "/home/eduardo/Documentos/Water-Cycle-Neural-Network/venv/lib/python3.12/site-packages/optuna/trial/_trial.py:497: UserWarning: The reported value is ignored because this `step` 11 is already reported.\n",
      "  warnings.warn(\n",
      "Metric val_loss improved by 0.006 >= min_delta = 0.0005. New best score: 0.413\n",
      "/home/eduardo/Documentos/Water-Cycle-Neural-Network/venv/lib/python3.12/site-packages/optuna/trial/_trial.py:497: UserWarning: The reported value is ignored because this `step` 12 is already reported.\n",
      "  warnings.warn(\n",
      "Metric val_loss improved by 0.007 >= min_delta = 0.0005. New best score: 0.406\n",
      "/home/eduardo/Documentos/Water-Cycle-Neural-Network/venv/lib/python3.12/site-packages/optuna/trial/_trial.py:497: UserWarning: The reported value is ignored because this `step` 13 is already reported.\n",
      "  warnings.warn(\n",
      "Metric val_loss improved by 0.008 >= min_delta = 0.0005. New best score: 0.398\n",
      "/home/eduardo/Documentos/Water-Cycle-Neural-Network/venv/lib/python3.12/site-packages/optuna/trial/_trial.py:497: UserWarning: The reported value is ignored because this `step` 14 is already reported.\n",
      "  warnings.warn(\n",
      "Metric val_loss improved by 0.008 >= min_delta = 0.0005. New best score: 0.390\n",
      "/home/eduardo/Documentos/Water-Cycle-Neural-Network/venv/lib/python3.12/site-packages/optuna/trial/_trial.py:497: UserWarning: The reported value is ignored because this `step` 15 is already reported.\n",
      "  warnings.warn(\n",
      "Metric val_loss improved by 0.008 >= min_delta = 0.0005. New best score: 0.382\n",
      "/home/eduardo/Documentos/Water-Cycle-Neural-Network/venv/lib/python3.12/site-packages/optuna/trial/_trial.py:497: UserWarning: The reported value is ignored because this `step` 16 is already reported.\n",
      "  warnings.warn(\n",
      "Metric val_loss improved by 0.006 >= min_delta = 0.0005. New best score: 0.376\n",
      "/home/eduardo/Documentos/Water-Cycle-Neural-Network/venv/lib/python3.12/site-packages/optuna/trial/_trial.py:497: UserWarning: The reported value is ignored because this `step` 17 is already reported.\n",
      "  warnings.warn(\n",
      "Metric val_loss improved by 0.006 >= min_delta = 0.0005. New best score: 0.371\n",
      "/home/eduardo/Documentos/Water-Cycle-Neural-Network/venv/lib/python3.12/site-packages/optuna/trial/_trial.py:497: UserWarning: The reported value is ignored because this `step` 18 is already reported.\n",
      "  warnings.warn(\n",
      "Metric val_loss improved by 0.005 >= min_delta = 0.0005. New best score: 0.366\n",
      "/home/eduardo/Documentos/Water-Cycle-Neural-Network/venv/lib/python3.12/site-packages/optuna/trial/_trial.py:497: UserWarning: The reported value is ignored because this `step` 19 is already reported.\n",
      "  warnings.warn(\n",
      "Metric val_loss improved by 0.004 >= min_delta = 0.0005. New best score: 0.361\n",
      "/home/eduardo/Documentos/Water-Cycle-Neural-Network/venv/lib/python3.12/site-packages/optuna/trial/_trial.py:497: UserWarning: The reported value is ignored because this `step` 20 is already reported.\n",
      "  warnings.warn(\n",
      "Metric val_loss improved by 0.004 >= min_delta = 0.0005. New best score: 0.358\n",
      "/home/eduardo/Documentos/Water-Cycle-Neural-Network/venv/lib/python3.12/site-packages/optuna/trial/_trial.py:497: UserWarning: The reported value is ignored because this `step` 21 is already reported.\n",
      "  warnings.warn(\n",
      "Metric val_loss improved by 0.003 >= min_delta = 0.0005. New best score: 0.355\n",
      "/home/eduardo/Documentos/Water-Cycle-Neural-Network/venv/lib/python3.12/site-packages/optuna/trial/_trial.py:497: UserWarning: The reported value is ignored because this `step` 22 is already reported.\n",
      "  warnings.warn(\n",
      "Metric val_loss improved by 0.003 >= min_delta = 0.0005. New best score: 0.352\n",
      "/home/eduardo/Documentos/Water-Cycle-Neural-Network/venv/lib/python3.12/site-packages/optuna/trial/_trial.py:497: UserWarning: The reported value is ignored because this `step` 23 is already reported.\n",
      "  warnings.warn(\n",
      "Metric val_loss improved by 0.003 >= min_delta = 0.0005. New best score: 0.349\n",
      "/home/eduardo/Documentos/Water-Cycle-Neural-Network/venv/lib/python3.12/site-packages/optuna/trial/_trial.py:497: UserWarning: The reported value is ignored because this `step` 24 is already reported.\n",
      "  warnings.warn(\n",
      "Metric val_loss improved by 0.003 >= min_delta = 0.0005. New best score: 0.346\n",
      "/home/eduardo/Documentos/Water-Cycle-Neural-Network/venv/lib/python3.12/site-packages/optuna/trial/_trial.py:497: UserWarning: The reported value is ignored because this `step` 25 is already reported.\n",
      "  warnings.warn(\n",
      "Metric val_loss improved by 0.002 >= min_delta = 0.0005. New best score: 0.343\n",
      "/home/eduardo/Documentos/Water-Cycle-Neural-Network/venv/lib/python3.12/site-packages/optuna/trial/_trial.py:497: UserWarning: The reported value is ignored because this `step` 26 is already reported.\n",
      "  warnings.warn(\n",
      "Metric val_loss improved by 0.003 >= min_delta = 0.0005. New best score: 0.341\n",
      "/home/eduardo/Documentos/Water-Cycle-Neural-Network/venv/lib/python3.12/site-packages/optuna/trial/_trial.py:497: UserWarning: The reported value is ignored because this `step` 27 is already reported.\n",
      "  warnings.warn(\n",
      "Metric val_loss improved by 0.003 >= min_delta = 0.0005. New best score: 0.338\n",
      "/home/eduardo/Documentos/Water-Cycle-Neural-Network/venv/lib/python3.12/site-packages/optuna/trial/_trial.py:497: UserWarning: The reported value is ignored because this `step` 28 is already reported.\n",
      "  warnings.warn(\n",
      "Metric val_loss improved by 0.003 >= min_delta = 0.0005. New best score: 0.335\n",
      "/home/eduardo/Documentos/Water-Cycle-Neural-Network/venv/lib/python3.12/site-packages/optuna/trial/_trial.py:497: UserWarning: The reported value is ignored because this `step` 29 is already reported.\n",
      "  warnings.warn(\n",
      "Metric val_loss improved by 0.003 >= min_delta = 0.0005. New best score: 0.332\n",
      "`Trainer.fit` stopped: `max_epochs=30` reached.\n",
      "/home/eduardo/Documentos/Water-Cycle-Neural-Network/venv/lib/python3.12/site-packages/torch/nn/modules/rnn.py:123: UserWarning: dropout option adds dropout after all but last recurrent layer, so non-zero dropout expects num_layers greater than 1, but got dropout=0.5 and num_layers=1\n",
      "  warnings.warn(\n",
      "GPU available: True (cuda), used: True\n",
      "TPU available: False, using: 0 TPU cores\n",
      "HPU available: False, using: 0 HPUs\n",
      "LOCAL_RANK: 0 - CUDA_VISIBLE_DEVICES: [0]\n"
     ]
    },
    {
     "name": "stdout",
     "output_type": "stream",
     "text": [
      "Model loaded from checkpoint for trial 5, fold 1\n"
     ]
    },
    {
     "name": "stderr",
     "output_type": "stream",
     "text": [
      "Specified future encoders in `add_encoders` at model creation but model does not accept future covariates. future encoders will be ignored.\n",
      "/home/eduardo/Documentos/Water-Cycle-Neural-Network/venv/lib/python3.12/site-packages/torch/nn/modules/rnn.py:123: UserWarning: dropout option adds dropout after all but last recurrent layer, so non-zero dropout expects num_layers greater than 1, but got dropout=0.5 and num_layers=1\n",
      "  warnings.warn(\n",
      "GPU available: True (cuda), used: True\n",
      "TPU available: False, using: 0 TPU cores\n",
      "HPU available: False, using: 0 HPUs\n",
      "LOCAL_RANK: 0 - CUDA_VISIBLE_DEVICES: [0]\n"
     ]
    },
    {
     "name": "stdout",
     "output_type": "stream",
     "text": [
      "SMAPE fold 1: 103.46206928799825\n",
      "\n",
      "Fold 3/3\n"
     ]
    },
    {
     "name": "stderr",
     "output_type": "stream",
     "text": [
      "/home/eduardo/Documentos/Water-Cycle-Neural-Network/venv/lib/python3.12/site-packages/optuna/trial/_trial.py:497: UserWarning: The reported value is ignored because this `step` 0 is already reported.\n",
      "  warnings.warn(\n",
      "/home/eduardo/Documentos/Water-Cycle-Neural-Network/venv/lib/python3.12/site-packages/optuna/trial/_trial.py:497: UserWarning: The reported value is ignored because this `step` 1 is already reported.\n",
      "  warnings.warn(\n",
      "/home/eduardo/Documentos/Water-Cycle-Neural-Network/venv/lib/python3.12/site-packages/optuna/trial/_trial.py:497: UserWarning: The reported value is ignored because this `step` 2 is already reported.\n",
      "  warnings.warn(\n",
      "/home/eduardo/Documentos/Water-Cycle-Neural-Network/venv/lib/python3.12/site-packages/optuna/trial/_trial.py:497: UserWarning: The reported value is ignored because this `step` 3 is already reported.\n",
      "  warnings.warn(\n",
      "/home/eduardo/Documentos/Water-Cycle-Neural-Network/venv/lib/python3.12/site-packages/optuna/trial/_trial.py:497: UserWarning: The reported value is ignored because this `step` 4 is already reported.\n",
      "  warnings.warn(\n",
      "/home/eduardo/Documentos/Water-Cycle-Neural-Network/venv/lib/python3.12/site-packages/optuna/trial/_trial.py:497: UserWarning: The reported value is ignored because this `step` 5 is already reported.\n",
      "  warnings.warn(\n",
      "/home/eduardo/Documentos/Water-Cycle-Neural-Network/venv/lib/python3.12/site-packages/optuna/trial/_trial.py:497: UserWarning: The reported value is ignored because this `step` 6 is already reported.\n",
      "  warnings.warn(\n",
      "/home/eduardo/Documentos/Water-Cycle-Neural-Network/venv/lib/python3.12/site-packages/optuna/trial/_trial.py:497: UserWarning: The reported value is ignored because this `step` 7 is already reported.\n",
      "  warnings.warn(\n",
      "/home/eduardo/Documentos/Water-Cycle-Neural-Network/venv/lib/python3.12/site-packages/optuna/trial/_trial.py:497: UserWarning: The reported value is ignored because this `step` 8 is already reported.\n",
      "  warnings.warn(\n",
      "/home/eduardo/Documentos/Water-Cycle-Neural-Network/venv/lib/python3.12/site-packages/optuna/trial/_trial.py:497: UserWarning: The reported value is ignored because this `step` 9 is already reported.\n",
      "  warnings.warn(\n",
      "/home/eduardo/Documentos/Water-Cycle-Neural-Network/venv/lib/python3.12/site-packages/optuna/trial/_trial.py:497: UserWarning: The reported value is ignored because this `step` 10 is already reported.\n",
      "  warnings.warn(\n",
      "/home/eduardo/Documentos/Water-Cycle-Neural-Network/venv/lib/python3.12/site-packages/optuna/trial/_trial.py:497: UserWarning: The reported value is ignored because this `step` 11 is already reported.\n",
      "  warnings.warn(\n",
      "/home/eduardo/Documentos/Water-Cycle-Neural-Network/venv/lib/python3.12/site-packages/optuna/trial/_trial.py:497: UserWarning: The reported value is ignored because this `step` 12 is already reported.\n",
      "  warnings.warn(\n",
      "/home/eduardo/Documentos/Water-Cycle-Neural-Network/venv/lib/python3.12/site-packages/optuna/trial/_trial.py:497: UserWarning: The reported value is ignored because this `step` 13 is already reported.\n",
      "  warnings.warn(\n",
      "Metric val_loss improved by 0.003 >= min_delta = 0.0005. New best score: 0.328\n",
      "/home/eduardo/Documentos/Water-Cycle-Neural-Network/venv/lib/python3.12/site-packages/optuna/trial/_trial.py:497: UserWarning: The reported value is ignored because this `step` 14 is already reported.\n",
      "  warnings.warn(\n",
      "Metric val_loss improved by 0.033 >= min_delta = 0.0005. New best score: 0.295\n",
      "/home/eduardo/Documentos/Water-Cycle-Neural-Network/venv/lib/python3.12/site-packages/optuna/trial/_trial.py:497: UserWarning: The reported value is ignored because this `step` 15 is already reported.\n",
      "  warnings.warn(\n",
      "Metric val_loss improved by 0.026 >= min_delta = 0.0005. New best score: 0.269\n",
      "/home/eduardo/Documentos/Water-Cycle-Neural-Network/venv/lib/python3.12/site-packages/optuna/trial/_trial.py:497: UserWarning: The reported value is ignored because this `step` 16 is already reported.\n",
      "  warnings.warn(\n",
      "Metric val_loss improved by 0.020 >= min_delta = 0.0005. New best score: 0.248\n",
      "/home/eduardo/Documentos/Water-Cycle-Neural-Network/venv/lib/python3.12/site-packages/optuna/trial/_trial.py:497: UserWarning: The reported value is ignored because this `step` 17 is already reported.\n",
      "  warnings.warn(\n",
      "Metric val_loss improved by 0.014 >= min_delta = 0.0005. New best score: 0.235\n",
      "/home/eduardo/Documentos/Water-Cycle-Neural-Network/venv/lib/python3.12/site-packages/optuna/trial/_trial.py:497: UserWarning: The reported value is ignored because this `step` 18 is already reported.\n",
      "  warnings.warn(\n",
      "Metric val_loss improved by 0.009 >= min_delta = 0.0005. New best score: 0.226\n",
      "/home/eduardo/Documentos/Water-Cycle-Neural-Network/venv/lib/python3.12/site-packages/optuna/trial/_trial.py:497: UserWarning: The reported value is ignored because this `step` 19 is already reported.\n",
      "  warnings.warn(\n",
      "Metric val_loss improved by 0.005 >= min_delta = 0.0005. New best score: 0.221\n",
      "/home/eduardo/Documentos/Water-Cycle-Neural-Network/venv/lib/python3.12/site-packages/optuna/trial/_trial.py:497: UserWarning: The reported value is ignored because this `step` 20 is already reported.\n",
      "  warnings.warn(\n",
      "Metric val_loss improved by 0.003 >= min_delta = 0.0005. New best score: 0.219\n",
      "/home/eduardo/Documentos/Water-Cycle-Neural-Network/venv/lib/python3.12/site-packages/optuna/trial/_trial.py:497: UserWarning: The reported value is ignored because this `step` 21 is already reported.\n",
      "  warnings.warn(\n",
      "/home/eduardo/Documentos/Water-Cycle-Neural-Network/venv/lib/python3.12/site-packages/optuna/trial/_trial.py:497: UserWarning: The reported value is ignored because this `step` 22 is already reported.\n",
      "  warnings.warn(\n",
      "/home/eduardo/Documentos/Water-Cycle-Neural-Network/venv/lib/python3.12/site-packages/optuna/trial/_trial.py:497: UserWarning: The reported value is ignored because this `step` 23 is already reported.\n",
      "  warnings.warn(\n",
      "/home/eduardo/Documentos/Water-Cycle-Neural-Network/venv/lib/python3.12/site-packages/optuna/trial/_trial.py:497: UserWarning: The reported value is ignored because this `step` 24 is already reported.\n",
      "  warnings.warn(\n",
      "/home/eduardo/Documentos/Water-Cycle-Neural-Network/venv/lib/python3.12/site-packages/optuna/trial/_trial.py:497: UserWarning: The reported value is ignored because this `step` 25 is already reported.\n",
      "  warnings.warn(\n",
      "/home/eduardo/Documentos/Water-Cycle-Neural-Network/venv/lib/python3.12/site-packages/optuna/trial/_trial.py:497: UserWarning: The reported value is ignored because this `step` 26 is already reported.\n",
      "  warnings.warn(\n",
      "/home/eduardo/Documentos/Water-Cycle-Neural-Network/venv/lib/python3.12/site-packages/optuna/trial/_trial.py:497: UserWarning: The reported value is ignored because this `step` 27 is already reported.\n",
      "  warnings.warn(\n",
      "/home/eduardo/Documentos/Water-Cycle-Neural-Network/venv/lib/python3.12/site-packages/optuna/trial/_trial.py:497: UserWarning: The reported value is ignored because this `step` 28 is already reported.\n",
      "  warnings.warn(\n",
      "Metric val_loss improved by 0.003 >= min_delta = 0.0005. New best score: 0.215\n",
      "/home/eduardo/Documentos/Water-Cycle-Neural-Network/venv/lib/python3.12/site-packages/optuna/trial/_trial.py:497: UserWarning: The reported value is ignored because this `step` 29 is already reported.\n",
      "  warnings.warn(\n",
      "Metric val_loss improved by 0.002 >= min_delta = 0.0005. New best score: 0.213\n",
      "`Trainer.fit` stopped: `max_epochs=30` reached.\n",
      "/home/eduardo/Documentos/Water-Cycle-Neural-Network/venv/lib/python3.12/site-packages/torch/nn/modules/rnn.py:123: UserWarning: dropout option adds dropout after all but last recurrent layer, so non-zero dropout expects num_layers greater than 1, but got dropout=0.5 and num_layers=1\n",
      "  warnings.warn(\n",
      "GPU available: True (cuda), used: True\n",
      "TPU available: False, using: 0 TPU cores\n",
      "HPU available: False, using: 0 HPUs\n",
      "LOCAL_RANK: 0 - CUDA_VISIBLE_DEVICES: [0]\n"
     ]
    },
    {
     "name": "stdout",
     "output_type": "stream",
     "text": [
      "Model loaded from checkpoint for trial 5, fold 2\n"
     ]
    },
    {
     "name": "stderr",
     "output_type": "stream",
     "text": [
      "[I 2025-06-10 22:13:32,377] Trial 5 finished with value: 107.54665846154147 and parameters: {'input_chunk_length': 60, 'hidden_size': 232, 'layer_size': 1, 'dropout': 0.5, 'batch_size': 144, 'lr': 9.093639452960446e-06, 'weight_decay': 0.0008786764939710157}. Best is trial 4 with value: 56.746995125078605.\n",
      "Specified future encoders in `add_encoders` at model creation but model does not accept future covariates. future encoders will be ignored.\n",
      "GPU available: True (cuda), used: True\n",
      "TPU available: False, using: 0 TPU cores\n",
      "HPU available: False, using: 0 HPUs\n",
      "LOCAL_RANK: 0 - CUDA_VISIBLE_DEVICES: [0]\n"
     ]
    },
    {
     "name": "stdout",
     "output_type": "stream",
     "text": [
      "SMAPE fold 2: 59.3427893878986\n",
      "Média dos SMAPE nos folds: 107.54665846154147\n",
      "Results of trial 5 saved in optuna_iteration_metrics/trial_5.json\n",
      "Current value: 107.54665846154147, Current params: {'input_chunk_length': 60, 'hidden_size': 232, 'layer_size': 1, 'dropout': 0.5, 'batch_size': 144, 'lr': 9.093639452960446e-06, 'weight_decay': 0.0008786764939710157}\n",
      "Best value: 56.746995125078605, Best params: {'input_chunk_length': 72, 'hidden_size': 192, 'layer_size': 2, 'dropout': 0.1, 'batch_size': 120, 'lr': 0.0015946669352095357, 'weight_decay': 1.4990212709784245e-06}\n",
      "\n",
      "Fold 1/3\n"
     ]
    },
    {
     "name": "stderr",
     "output_type": "stream",
     "text": [
      "Metric val_loss improved. New best score: 12.592\n",
      "Metric val_loss improved by 0.048 >= min_delta = 0.0005. New best score: 12.544\n",
      "Metric val_loss improved by 0.019 >= min_delta = 0.0005. New best score: 12.524\n",
      "Metric val_loss improved by 0.027 >= min_delta = 0.0005. New best score: 12.498\n",
      "Metric val_loss improved by 0.029 >= min_delta = 0.0005. New best score: 12.469\n",
      "Metric val_loss improved by 0.027 >= min_delta = 0.0005. New best score: 12.442\n",
      "Metric val_loss improved by 0.018 >= min_delta = 0.0005. New best score: 12.425\n",
      "Metric val_loss improved by 0.017 >= min_delta = 0.0005. New best score: 12.408\n",
      "Metric val_loss improved by 0.007 >= min_delta = 0.0005. New best score: 12.401\n",
      "Monitored metric val_loss did not improve in the last 15 records. Best score: 12.401. Signaling Trainer to stop.\n",
      "GPU available: True (cuda), used: True\n",
      "TPU available: False, using: 0 TPU cores\n",
      "HPU available: False, using: 0 HPUs\n",
      "LOCAL_RANK: 0 - CUDA_VISIBLE_DEVICES: [0]\n"
     ]
    },
    {
     "name": "stdout",
     "output_type": "stream",
     "text": [
      "Model loaded from checkpoint for trial 6, fold 0\n"
     ]
    },
    {
     "name": "stderr",
     "output_type": "stream",
     "text": [
      "Specified future encoders in `add_encoders` at model creation but model does not accept future covariates. future encoders will be ignored.\n",
      "GPU available: True (cuda), used: True\n",
      "TPU available: False, using: 0 TPU cores\n",
      "HPU available: False, using: 0 HPUs\n",
      "LOCAL_RANK: 0 - CUDA_VISIBLE_DEVICES: [0]\n"
     ]
    },
    {
     "name": "stdout",
     "output_type": "stream",
     "text": [
      "SMAPE fold 0: 90.81964173650499\n",
      "\n",
      "Fold 2/3\n"
     ]
    },
    {
     "name": "stderr",
     "output_type": "stream",
     "text": [
      "/home/eduardo/Documentos/Water-Cycle-Neural-Network/venv/lib/python3.12/site-packages/optuna/trial/_trial.py:497: UserWarning: The reported value is ignored because this `step` 0 is already reported.\n",
      "  warnings.warn(\n",
      "Metric val_loss improved by 12.156 >= min_delta = 0.0005. New best score: 0.244\n",
      "/home/eduardo/Documentos/Water-Cycle-Neural-Network/venv/lib/python3.12/site-packages/optuna/trial/_trial.py:497: UserWarning: The reported value is ignored because this `step` 1 is already reported.\n",
      "  warnings.warn(\n",
      "Metric val_loss improved by 0.141 >= min_delta = 0.0005. New best score: 0.103\n",
      "/home/eduardo/Documentos/Water-Cycle-Neural-Network/venv/lib/python3.12/site-packages/optuna/trial/_trial.py:497: UserWarning: The reported value is ignored because this `step` 2 is already reported.\n",
      "  warnings.warn(\n",
      "Metric val_loss improved by 0.008 >= min_delta = 0.0005. New best score: 0.096\n",
      "/home/eduardo/Documentos/Water-Cycle-Neural-Network/venv/lib/python3.12/site-packages/optuna/trial/_trial.py:497: UserWarning: The reported value is ignored because this `step` 3 is already reported.\n",
      "  warnings.warn(\n",
      "Metric val_loss improved by 0.010 >= min_delta = 0.0005. New best score: 0.085\n",
      "/home/eduardo/Documentos/Water-Cycle-Neural-Network/venv/lib/python3.12/site-packages/optuna/trial/_trial.py:497: UserWarning: The reported value is ignored because this `step` 4 is already reported.\n",
      "  warnings.warn(\n",
      "Metric val_loss improved by 0.017 >= min_delta = 0.0005. New best score: 0.069\n",
      "/home/eduardo/Documentos/Water-Cycle-Neural-Network/venv/lib/python3.12/site-packages/optuna/trial/_trial.py:497: UserWarning: The reported value is ignored because this `step` 5 is already reported.\n",
      "  warnings.warn(\n",
      "Metric val_loss improved by 0.007 >= min_delta = 0.0005. New best score: 0.062\n",
      "/home/eduardo/Documentos/Water-Cycle-Neural-Network/venv/lib/python3.12/site-packages/optuna/trial/_trial.py:497: UserWarning: The reported value is ignored because this `step` 6 is already reported.\n",
      "  warnings.warn(\n",
      "Metric val_loss improved by 0.003 >= min_delta = 0.0005. New best score: 0.059\n",
      "/home/eduardo/Documentos/Water-Cycle-Neural-Network/venv/lib/python3.12/site-packages/optuna/trial/_trial.py:497: UserWarning: The reported value is ignored because this `step` 7 is already reported.\n",
      "  warnings.warn(\n",
      "/home/eduardo/Documentos/Water-Cycle-Neural-Network/venv/lib/python3.12/site-packages/optuna/trial/_trial.py:497: UserWarning: The reported value is ignored because this `step` 8 is already reported.\n",
      "  warnings.warn(\n",
      "Metric val_loss improved by 0.008 >= min_delta = 0.0005. New best score: 0.051\n",
      "/home/eduardo/Documentos/Water-Cycle-Neural-Network/venv/lib/python3.12/site-packages/optuna/trial/_trial.py:497: UserWarning: The reported value is ignored because this `step` 9 is already reported.\n",
      "  warnings.warn(\n",
      "Metric val_loss improved by 0.005 >= min_delta = 0.0005. New best score: 0.046\n",
      "/home/eduardo/Documentos/Water-Cycle-Neural-Network/venv/lib/python3.12/site-packages/optuna/trial/_trial.py:497: UserWarning: The reported value is ignored because this `step` 10 is already reported.\n",
      "  warnings.warn(\n",
      "/home/eduardo/Documentos/Water-Cycle-Neural-Network/venv/lib/python3.12/site-packages/optuna/trial/_trial.py:497: UserWarning: The reported value is ignored because this `step` 11 is already reported.\n",
      "  warnings.warn(\n",
      "/home/eduardo/Documentos/Water-Cycle-Neural-Network/venv/lib/python3.12/site-packages/optuna/trial/_trial.py:497: UserWarning: The reported value is ignored because this `step` 12 is already reported.\n",
      "  warnings.warn(\n",
      "Metric val_loss improved by 0.001 >= min_delta = 0.0005. New best score: 0.045\n",
      "/home/eduardo/Documentos/Water-Cycle-Neural-Network/venv/lib/python3.12/site-packages/optuna/trial/_trial.py:497: UserWarning: The reported value is ignored because this `step` 13 is already reported.\n",
      "  warnings.warn(\n",
      "/home/eduardo/Documentos/Water-Cycle-Neural-Network/venv/lib/python3.12/site-packages/optuna/trial/_trial.py:497: UserWarning: The reported value is ignored because this `step` 14 is already reported.\n",
      "  warnings.warn(\n",
      "/home/eduardo/Documentos/Water-Cycle-Neural-Network/venv/lib/python3.12/site-packages/optuna/trial/_trial.py:497: UserWarning: The reported value is ignored because this `step` 15 is already reported.\n",
      "  warnings.warn(\n",
      "/home/eduardo/Documentos/Water-Cycle-Neural-Network/venv/lib/python3.12/site-packages/optuna/trial/_trial.py:497: UserWarning: The reported value is ignored because this `step` 16 is already reported.\n",
      "  warnings.warn(\n",
      "/home/eduardo/Documentos/Water-Cycle-Neural-Network/venv/lib/python3.12/site-packages/optuna/trial/_trial.py:497: UserWarning: The reported value is ignored because this `step` 17 is already reported.\n",
      "  warnings.warn(\n",
      "Metric val_loss improved by 0.001 >= min_delta = 0.0005. New best score: 0.045\n",
      "/home/eduardo/Documentos/Water-Cycle-Neural-Network/venv/lib/python3.12/site-packages/optuna/trial/_trial.py:497: UserWarning: The reported value is ignored because this `step` 18 is already reported.\n",
      "  warnings.warn(\n",
      "/home/eduardo/Documentos/Water-Cycle-Neural-Network/venv/lib/python3.12/site-packages/optuna/trial/_trial.py:497: UserWarning: The reported value is ignored because this `step` 19 is already reported.\n",
      "  warnings.warn(\n",
      "/home/eduardo/Documentos/Water-Cycle-Neural-Network/venv/lib/python3.12/site-packages/optuna/trial/_trial.py:497: UserWarning: The reported value is ignored because this `step` 20 is already reported.\n",
      "  warnings.warn(\n",
      "Metric val_loss improved by 0.002 >= min_delta = 0.0005. New best score: 0.043\n",
      "/home/eduardo/Documentos/Water-Cycle-Neural-Network/venv/lib/python3.12/site-packages/optuna/trial/_trial.py:497: UserWarning: The reported value is ignored because this `step` 21 is already reported.\n",
      "  warnings.warn(\n",
      "/home/eduardo/Documentos/Water-Cycle-Neural-Network/venv/lib/python3.12/site-packages/optuna/trial/_trial.py:497: UserWarning: The reported value is ignored because this `step` 22 is already reported.\n",
      "  warnings.warn(\n",
      "/home/eduardo/Documentos/Water-Cycle-Neural-Network/venv/lib/python3.12/site-packages/optuna/trial/_trial.py:497: UserWarning: The reported value is ignored because this `step` 23 is already reported.\n",
      "  warnings.warn(\n",
      "Metric val_loss improved by 0.001 >= min_delta = 0.0005. New best score: 0.042\n",
      "`Trainer.fit` stopped: `max_epochs=30` reached.\n",
      "GPU available: True (cuda), used: True\n",
      "TPU available: False, using: 0 TPU cores\n",
      "HPU available: False, using: 0 HPUs\n",
      "LOCAL_RANK: 0 - CUDA_VISIBLE_DEVICES: [0]\n"
     ]
    },
    {
     "name": "stdout",
     "output_type": "stream",
     "text": [
      "Model loaded from checkpoint for trial 6, fold 1\n"
     ]
    },
    {
     "name": "stderr",
     "output_type": "stream",
     "text": [
      "Specified future encoders in `add_encoders` at model creation but model does not accept future covariates. future encoders will be ignored.\n",
      "GPU available: True (cuda), used: True\n",
      "TPU available: False, using: 0 TPU cores\n",
      "HPU available: False, using: 0 HPUs\n",
      "LOCAL_RANK: 0 - CUDA_VISIBLE_DEVICES: [0]\n"
     ]
    },
    {
     "name": "stdout",
     "output_type": "stream",
     "text": [
      "SMAPE fold 1: 47.018498801677914\n",
      "\n",
      "Fold 3/3\n"
     ]
    },
    {
     "name": "stderr",
     "output_type": "stream",
     "text": [
      "/home/eduardo/Documentos/Water-Cycle-Neural-Network/venv/lib/python3.12/site-packages/optuna/trial/_trial.py:497: UserWarning: The reported value is ignored because this `step` 0 is already reported.\n",
      "  warnings.warn(\n",
      "/home/eduardo/Documentos/Water-Cycle-Neural-Network/venv/lib/python3.12/site-packages/optuna/trial/_trial.py:497: UserWarning: The reported value is ignored because this `step` 1 is already reported.\n",
      "  warnings.warn(\n",
      "/home/eduardo/Documentos/Water-Cycle-Neural-Network/venv/lib/python3.12/site-packages/optuna/trial/_trial.py:497: UserWarning: The reported value is ignored because this `step` 2 is already reported.\n",
      "  warnings.warn(\n",
      "/home/eduardo/Documentos/Water-Cycle-Neural-Network/venv/lib/python3.12/site-packages/optuna/trial/_trial.py:497: UserWarning: The reported value is ignored because this `step` 3 is already reported.\n",
      "  warnings.warn(\n",
      "/home/eduardo/Documentos/Water-Cycle-Neural-Network/venv/lib/python3.12/site-packages/optuna/trial/_trial.py:497: UserWarning: The reported value is ignored because this `step` 4 is already reported.\n",
      "  warnings.warn(\n",
      "/home/eduardo/Documentos/Water-Cycle-Neural-Network/venv/lib/python3.12/site-packages/optuna/trial/_trial.py:497: UserWarning: The reported value is ignored because this `step` 5 is already reported.\n",
      "  warnings.warn(\n",
      "/home/eduardo/Documentos/Water-Cycle-Neural-Network/venv/lib/python3.12/site-packages/optuna/trial/_trial.py:497: UserWarning: The reported value is ignored because this `step` 6 is already reported.\n",
      "  warnings.warn(\n",
      "/home/eduardo/Documentos/Water-Cycle-Neural-Network/venv/lib/python3.12/site-packages/optuna/trial/_trial.py:497: UserWarning: The reported value is ignored because this `step` 7 is already reported.\n",
      "  warnings.warn(\n",
      "/home/eduardo/Documentos/Water-Cycle-Neural-Network/venv/lib/python3.12/site-packages/optuna/trial/_trial.py:497: UserWarning: The reported value is ignored because this `step` 8 is already reported.\n",
      "  warnings.warn(\n",
      "/home/eduardo/Documentos/Water-Cycle-Neural-Network/venv/lib/python3.12/site-packages/optuna/trial/_trial.py:497: UserWarning: The reported value is ignored because this `step` 9 is already reported.\n",
      "  warnings.warn(\n",
      "/home/eduardo/Documentos/Water-Cycle-Neural-Network/venv/lib/python3.12/site-packages/optuna/trial/_trial.py:497: UserWarning: The reported value is ignored because this `step` 10 is already reported.\n",
      "  warnings.warn(\n",
      "Monitored metric val_loss did not improve in the last 15 records. Best score: 0.042. Signaling Trainer to stop.\n",
      "GPU available: True (cuda), used: True\n",
      "TPU available: False, using: 0 TPU cores\n",
      "HPU available: False, using: 0 HPUs\n",
      "LOCAL_RANK: 0 - CUDA_VISIBLE_DEVICES: [0]\n"
     ]
    },
    {
     "name": "stdout",
     "output_type": "stream",
     "text": [
      "Model loaded from checkpoint for trial 6, fold 2\n"
     ]
    },
    {
     "name": "stderr",
     "output_type": "stream",
     "text": [
      "[I 2025-06-10 22:17:23,541] Trial 6 finished with value: 62.16420227702118 and parameters: {'input_chunk_length': 96, 'hidden_size': 144, 'layer_size': 2, 'dropout': 0.35, 'batch_size': 72, 'lr': 0.00026864356644607933, 'weight_decay': 0.0014788412164616178}. Best is trial 4 with value: 56.746995125078605.\n",
      "Specified future encoders in `add_encoders` at model creation but model does not accept future covariates. future encoders will be ignored.\n",
      "/home/eduardo/Documentos/Water-Cycle-Neural-Network/venv/lib/python3.12/site-packages/torch/nn/modules/rnn.py:123: UserWarning: dropout option adds dropout after all but last recurrent layer, so non-zero dropout expects num_layers greater than 1, but got dropout=0.35 and num_layers=1\n",
      "  warnings.warn(\n",
      "GPU available: True (cuda), used: True\n",
      "TPU available: False, using: 0 TPU cores\n",
      "HPU available: False, using: 0 HPUs\n",
      "LOCAL_RANK: 0 - CUDA_VISIBLE_DEVICES: [0]\n"
     ]
    },
    {
     "name": "stdout",
     "output_type": "stream",
     "text": [
      "SMAPE fold 2: 48.654466292880635\n",
      "Média dos SMAPE nos folds: 62.16420227702118\n",
      "Results of trial 6 saved in optuna_iteration_metrics/trial_6.json\n",
      "Current value: 62.16420227702118, Current params: {'input_chunk_length': 96, 'hidden_size': 144, 'layer_size': 2, 'dropout': 0.35, 'batch_size': 72, 'lr': 0.00026864356644607933, 'weight_decay': 0.0014788412164616178}\n",
      "Best value: 56.746995125078605, Best params: {'input_chunk_length': 72, 'hidden_size': 192, 'layer_size': 2, 'dropout': 0.1, 'batch_size': 120, 'lr': 0.0015946669352095357, 'weight_decay': 1.4990212709784245e-06}\n",
      "\n",
      "Fold 1/3\n"
     ]
    },
    {
     "name": "stderr",
     "output_type": "stream",
     "text": [
      "[I 2025-06-10 22:17:25,978] Trial 7 pruned. Trial was pruned at epoch 0.\n",
      "Specified future encoders in `add_encoders` at model creation but model does not accept future covariates. future encoders will be ignored.\n",
      "GPU available: True (cuda), used: True\n",
      "TPU available: False, using: 0 TPU cores\n",
      "HPU available: False, using: 0 HPUs\n",
      "LOCAL_RANK: 0 - CUDA_VISIBLE_DEVICES: [0]\n"
     ]
    },
    {
     "name": "stdout",
     "output_type": "stream",
     "text": [
      "Current value: 12.85253590151325, Current params: {'input_chunk_length': 132, 'hidden_size': 72, 'layer_size': 1, 'dropout': 0.35, 'batch_size': 80, 'lr': 0.0011415974105516095, 'weight_decay': 9.363914025599232e-05}\n",
      "Best value: 56.746995125078605, Best params: {'input_chunk_length': 72, 'hidden_size': 192, 'layer_size': 2, 'dropout': 0.1, 'batch_size': 120, 'lr': 0.0015946669352095357, 'weight_decay': 1.4990212709784245e-06}\n",
      "\n",
      "Fold 1/3\n"
     ]
    },
    {
     "name": "stderr",
     "output_type": "stream",
     "text": [
      "Metric val_loss improved. New best score: 12.361\n",
      "Metric val_loss improved by 0.054 >= min_delta = 0.0005. New best score: 12.307\n",
      "Metric val_loss improved by 0.011 >= min_delta = 0.0005. New best score: 12.296\n",
      "Metric val_loss improved by 0.012 >= min_delta = 0.0005. New best score: 12.284\n",
      "Metric val_loss improved by 0.011 >= min_delta = 0.0005. New best score: 12.274\n",
      "Metric val_loss improved by 0.018 >= min_delta = 0.0005. New best score: 12.255\n",
      "Metric val_loss improved by 0.004 >= min_delta = 0.0005. New best score: 12.252\n",
      "Metric val_loss improved by 0.004 >= min_delta = 0.0005. New best score: 12.247\n",
      "Metric val_loss improved by 0.009 >= min_delta = 0.0005. New best score: 12.239\n",
      "Metric val_loss improved by 0.008 >= min_delta = 0.0005. New best score: 12.231\n",
      "Monitored metric val_loss did not improve in the last 15 records. Best score: 12.231. Signaling Trainer to stop.\n",
      "GPU available: True (cuda), used: True\n",
      "TPU available: False, using: 0 TPU cores\n",
      "HPU available: False, using: 0 HPUs\n",
      "LOCAL_RANK: 0 - CUDA_VISIBLE_DEVICES: [0]\n"
     ]
    },
    {
     "name": "stdout",
     "output_type": "stream",
     "text": [
      "Model loaded from checkpoint for trial 8, fold 0\n"
     ]
    },
    {
     "name": "stderr",
     "output_type": "stream",
     "text": [
      "Specified future encoders in `add_encoders` at model creation but model does not accept future covariates. future encoders will be ignored.\n",
      "GPU available: True (cuda), used: True\n",
      "TPU available: False, using: 0 TPU cores\n",
      "HPU available: False, using: 0 HPUs\n",
      "LOCAL_RANK: 0 - CUDA_VISIBLE_DEVICES: [0]\n"
     ]
    },
    {
     "name": "stdout",
     "output_type": "stream",
     "text": [
      "SMAPE fold 0: 85.27055017275265\n",
      "\n",
      "Fold 2/3\n"
     ]
    },
    {
     "name": "stderr",
     "output_type": "stream",
     "text": [
      "/home/eduardo/Documentos/Water-Cycle-Neural-Network/venv/lib/python3.12/site-packages/optuna/trial/_trial.py:497: UserWarning: The reported value is ignored because this `step` 0 is already reported.\n",
      "  warnings.warn(\n",
      "Metric val_loss improved by 11.894 >= min_delta = 0.0005. New best score: 0.337\n",
      "/home/eduardo/Documentos/Water-Cycle-Neural-Network/venv/lib/python3.12/site-packages/optuna/trial/_trial.py:497: UserWarning: The reported value is ignored because this `step` 1 is already reported.\n",
      "  warnings.warn(\n",
      "Metric val_loss improved by 0.219 >= min_delta = 0.0005. New best score: 0.117\n",
      "/home/eduardo/Documentos/Water-Cycle-Neural-Network/venv/lib/python3.12/site-packages/optuna/trial/_trial.py:497: UserWarning: The reported value is ignored because this `step` 2 is already reported.\n",
      "  warnings.warn(\n",
      "Metric val_loss improved by 0.007 >= min_delta = 0.0005. New best score: 0.111\n",
      "/home/eduardo/Documentos/Water-Cycle-Neural-Network/venv/lib/python3.12/site-packages/optuna/trial/_trial.py:497: UserWarning: The reported value is ignored because this `step` 3 is already reported.\n",
      "  warnings.warn(\n",
      "Metric val_loss improved by 0.004 >= min_delta = 0.0005. New best score: 0.107\n",
      "/home/eduardo/Documentos/Water-Cycle-Neural-Network/venv/lib/python3.12/site-packages/optuna/trial/_trial.py:497: UserWarning: The reported value is ignored because this `step` 4 is already reported.\n",
      "  warnings.warn(\n",
      "Metric val_loss improved by 0.007 >= min_delta = 0.0005. New best score: 0.100\n",
      "/home/eduardo/Documentos/Water-Cycle-Neural-Network/venv/lib/python3.12/site-packages/optuna/trial/_trial.py:497: UserWarning: The reported value is ignored because this `step` 5 is already reported.\n",
      "  warnings.warn(\n",
      "Metric val_loss improved by 0.012 >= min_delta = 0.0005. New best score: 0.088\n",
      "/home/eduardo/Documentos/Water-Cycle-Neural-Network/venv/lib/python3.12/site-packages/optuna/trial/_trial.py:497: UserWarning: The reported value is ignored because this `step` 6 is already reported.\n",
      "  warnings.warn(\n",
      "Metric val_loss improved by 0.017 >= min_delta = 0.0005. New best score: 0.071\n",
      "/home/eduardo/Documentos/Water-Cycle-Neural-Network/venv/lib/python3.12/site-packages/optuna/trial/_trial.py:497: UserWarning: The reported value is ignored because this `step` 7 is already reported.\n",
      "  warnings.warn(\n",
      "Metric val_loss improved by 0.021 >= min_delta = 0.0005. New best score: 0.050\n",
      "/home/eduardo/Documentos/Water-Cycle-Neural-Network/venv/lib/python3.12/site-packages/optuna/trial/_trial.py:497: UserWarning: The reported value is ignored because this `step` 8 is already reported.\n",
      "  warnings.warn(\n",
      "/home/eduardo/Documentos/Water-Cycle-Neural-Network/venv/lib/python3.12/site-packages/optuna/trial/_trial.py:497: UserWarning: The reported value is ignored because this `step` 9 is already reported.\n",
      "  warnings.warn(\n",
      "Metric val_loss improved by 0.002 >= min_delta = 0.0005. New best score: 0.048\n",
      "/home/eduardo/Documentos/Water-Cycle-Neural-Network/venv/lib/python3.12/site-packages/optuna/trial/_trial.py:497: UserWarning: The reported value is ignored because this `step` 10 is already reported.\n",
      "  warnings.warn(\n",
      "Metric val_loss improved by 0.004 >= min_delta = 0.0005. New best score: 0.043\n",
      "/home/eduardo/Documentos/Water-Cycle-Neural-Network/venv/lib/python3.12/site-packages/optuna/trial/_trial.py:497: UserWarning: The reported value is ignored because this `step` 11 is already reported.\n",
      "  warnings.warn(\n",
      "/home/eduardo/Documentos/Water-Cycle-Neural-Network/venv/lib/python3.12/site-packages/optuna/trial/_trial.py:497: UserWarning: The reported value is ignored because this `step` 12 is already reported.\n",
      "  warnings.warn(\n",
      "/home/eduardo/Documentos/Water-Cycle-Neural-Network/venv/lib/python3.12/site-packages/optuna/trial/_trial.py:497: UserWarning: The reported value is ignored because this `step` 13 is already reported.\n",
      "  warnings.warn(\n",
      "Metric val_loss improved by 0.002 >= min_delta = 0.0005. New best score: 0.041\n",
      "/home/eduardo/Documentos/Water-Cycle-Neural-Network/venv/lib/python3.12/site-packages/optuna/trial/_trial.py:497: UserWarning: The reported value is ignored because this `step` 14 is already reported.\n",
      "  warnings.warn(\n",
      "/home/eduardo/Documentos/Water-Cycle-Neural-Network/venv/lib/python3.12/site-packages/optuna/trial/_trial.py:497: UserWarning: The reported value is ignored because this `step` 15 is already reported.\n",
      "  warnings.warn(\n",
      "/home/eduardo/Documentos/Water-Cycle-Neural-Network/venv/lib/python3.12/site-packages/optuna/trial/_trial.py:497: UserWarning: The reported value is ignored because this `step` 16 is already reported.\n",
      "  warnings.warn(\n",
      "Metric val_loss improved by 0.002 >= min_delta = 0.0005. New best score: 0.039\n",
      "/home/eduardo/Documentos/Water-Cycle-Neural-Network/venv/lib/python3.12/site-packages/optuna/trial/_trial.py:497: UserWarning: The reported value is ignored because this `step` 17 is already reported.\n",
      "  warnings.warn(\n",
      "/home/eduardo/Documentos/Water-Cycle-Neural-Network/venv/lib/python3.12/site-packages/optuna/trial/_trial.py:497: UserWarning: The reported value is ignored because this `step` 18 is already reported.\n",
      "  warnings.warn(\n",
      "/home/eduardo/Documentos/Water-Cycle-Neural-Network/venv/lib/python3.12/site-packages/optuna/trial/_trial.py:497: UserWarning: The reported value is ignored because this `step` 19 is already reported.\n",
      "  warnings.warn(\n",
      "/home/eduardo/Documentos/Water-Cycle-Neural-Network/venv/lib/python3.12/site-packages/optuna/trial/_trial.py:497: UserWarning: The reported value is ignored because this `step` 20 is already reported.\n",
      "  warnings.warn(\n",
      "/home/eduardo/Documentos/Water-Cycle-Neural-Network/venv/lib/python3.12/site-packages/optuna/trial/_trial.py:497: UserWarning: The reported value is ignored because this `step` 21 is already reported.\n",
      "  warnings.warn(\n",
      "/home/eduardo/Documentos/Water-Cycle-Neural-Network/venv/lib/python3.12/site-packages/optuna/trial/_trial.py:497: UserWarning: The reported value is ignored because this `step` 22 is already reported.\n",
      "  warnings.warn(\n",
      "/home/eduardo/Documentos/Water-Cycle-Neural-Network/venv/lib/python3.12/site-packages/optuna/trial/_trial.py:497: UserWarning: The reported value is ignored because this `step` 23 is already reported.\n",
      "  warnings.warn(\n",
      "/home/eduardo/Documentos/Water-Cycle-Neural-Network/venv/lib/python3.12/site-packages/optuna/trial/_trial.py:497: UserWarning: The reported value is ignored because this `step` 24 is already reported.\n",
      "  warnings.warn(\n",
      "/home/eduardo/Documentos/Water-Cycle-Neural-Network/venv/lib/python3.12/site-packages/optuna/trial/_trial.py:497: UserWarning: The reported value is ignored because this `step` 25 is already reported.\n",
      "  warnings.warn(\n",
      "/home/eduardo/Documentos/Water-Cycle-Neural-Network/venv/lib/python3.12/site-packages/optuna/trial/_trial.py:497: UserWarning: The reported value is ignored because this `step` 26 is already reported.\n",
      "  warnings.warn(\n",
      "/home/eduardo/Documentos/Water-Cycle-Neural-Network/venv/lib/python3.12/site-packages/optuna/trial/_trial.py:497: UserWarning: The reported value is ignored because this `step` 27 is already reported.\n",
      "  warnings.warn(\n",
      "`Trainer.fit` stopped: `max_epochs=30` reached.\n",
      "GPU available: True (cuda), used: True\n",
      "TPU available: False, using: 0 TPU cores\n",
      "HPU available: False, using: 0 HPUs\n",
      "LOCAL_RANK: 0 - CUDA_VISIBLE_DEVICES: [0]\n"
     ]
    },
    {
     "name": "stdout",
     "output_type": "stream",
     "text": [
      "Model loaded from checkpoint for trial 8, fold 1\n"
     ]
    },
    {
     "name": "stderr",
     "output_type": "stream",
     "text": [
      "Specified future encoders in `add_encoders` at model creation but model does not accept future covariates. future encoders will be ignored.\n",
      "GPU available: True (cuda), used: True\n",
      "TPU available: False, using: 0 TPU cores\n",
      "HPU available: False, using: 0 HPUs\n",
      "LOCAL_RANK: 0 - CUDA_VISIBLE_DEVICES: [0]\n"
     ]
    },
    {
     "name": "stdout",
     "output_type": "stream",
     "text": [
      "SMAPE fold 1: 46.01858563581571\n",
      "\n",
      "Fold 3/3\n"
     ]
    },
    {
     "name": "stderr",
     "output_type": "stream",
     "text": [
      "/home/eduardo/Documentos/Water-Cycle-Neural-Network/venv/lib/python3.12/site-packages/optuna/trial/_trial.py:497: UserWarning: The reported value is ignored because this `step` 0 is already reported.\n",
      "  warnings.warn(\n",
      "/home/eduardo/Documentos/Water-Cycle-Neural-Network/venv/lib/python3.12/site-packages/optuna/trial/_trial.py:497: UserWarning: The reported value is ignored because this `step` 1 is already reported.\n",
      "  warnings.warn(\n",
      "Monitored metric val_loss did not improve in the last 15 records. Best score: 0.039. Signaling Trainer to stop.\n",
      "GPU available: True (cuda), used: True\n",
      "TPU available: False, using: 0 TPU cores\n",
      "HPU available: False, using: 0 HPUs\n",
      "LOCAL_RANK: 0 - CUDA_VISIBLE_DEVICES: [0]\n"
     ]
    },
    {
     "name": "stdout",
     "output_type": "stream",
     "text": [
      "Model loaded from checkpoint for trial 8, fold 2\n"
     ]
    },
    {
     "name": "stderr",
     "output_type": "stream",
     "text": [
      "[I 2025-06-10 22:22:50,855] Trial 8 finished with value: 62.15622021729654 and parameters: {'input_chunk_length': 60, 'hidden_size': 256, 'layer_size': 3, 'dropout': 0.1, 'batch_size': 104, 'lr': 0.00011279874068660528, 'weight_decay': 3.7684629277554347e-06}. Best is trial 4 with value: 56.746995125078605.\n",
      "Specified future encoders in `add_encoders` at model creation but model does not accept future covariates. future encoders will be ignored.\n",
      "/home/eduardo/Documentos/Water-Cycle-Neural-Network/venv/lib/python3.12/site-packages/torch/nn/modules/rnn.py:123: UserWarning: dropout option adds dropout after all but last recurrent layer, so non-zero dropout expects num_layers greater than 1, but got dropout=0.25 and num_layers=1\n",
      "  warnings.warn(\n",
      "GPU available: True (cuda), used: True\n",
      "TPU available: False, using: 0 TPU cores\n",
      "HPU available: False, using: 0 HPUs\n",
      "LOCAL_RANK: 0 - CUDA_VISIBLE_DEVICES: [0]\n"
     ]
    },
    {
     "name": "stdout",
     "output_type": "stream",
     "text": [
      "SMAPE fold 2: 55.17952484332127\n",
      "Média dos SMAPE nos folds: 62.15622021729654\n",
      "Results of trial 8 saved in optuna_iteration_metrics/trial_8.json\n",
      "Current value: 62.15622021729654, Current params: {'input_chunk_length': 60, 'hidden_size': 256, 'layer_size': 3, 'dropout': 0.1, 'batch_size': 104, 'lr': 0.00011279874068660528, 'weight_decay': 3.7684629277554347e-06}\n",
      "Best value: 56.746995125078605, Best params: {'input_chunk_length': 72, 'hidden_size': 192, 'layer_size': 2, 'dropout': 0.1, 'batch_size': 120, 'lr': 0.0015946669352095357, 'weight_decay': 1.4990212709784245e-06}\n",
      "\n",
      "Fold 1/3\n"
     ]
    },
    {
     "name": "stderr",
     "output_type": "stream",
     "text": [
      "[I 2025-06-10 22:22:53,266] Trial 9 pruned. Trial was pruned at epoch 0.\n",
      "Specified future encoders in `add_encoders` at model creation but model does not accept future covariates. future encoders will be ignored.\n",
      "GPU available: True (cuda), used: True\n",
      "TPU available: False, using: 0 TPU cores\n",
      "HPU available: False, using: 0 HPUs\n",
      "LOCAL_RANK: 0 - CUDA_VISIBLE_DEVICES: [0]\n"
     ]
    },
    {
     "name": "stdout",
     "output_type": "stream",
     "text": [
      "Current value: 12.643291188097521, Current params: {'input_chunk_length': 72, 'hidden_size': 112, 'layer_size': 1, 'dropout': 0.25, 'batch_size': 128, 'lr': 5.304074398659714e-06, 'weight_decay': 0.00014351508100562084}\n",
      "Best value: 56.746995125078605, Best params: {'input_chunk_length': 72, 'hidden_size': 192, 'layer_size': 2, 'dropout': 0.1, 'batch_size': 120, 'lr': 0.0015946669352095357, 'weight_decay': 1.4990212709784245e-06}\n",
      "\n",
      "Fold 1/3\n"
     ]
    },
    {
     "name": "stderr",
     "output_type": "stream",
     "text": [
      "Metric val_loss improved. New best score: 12.101\n",
      "Metric val_loss improved by 0.024 >= min_delta = 0.0005. New best score: 12.077\n",
      "Metric val_loss improved by 0.037 >= min_delta = 0.0005. New best score: 12.039\n",
      "Metric val_loss improved by 0.042 >= min_delta = 0.0005. New best score: 11.997\n",
      "Metric val_loss improved by 0.014 >= min_delta = 0.0005. New best score: 11.983\n",
      "Metric val_loss improved by 0.027 >= min_delta = 0.0005. New best score: 11.956\n",
      "Metric val_loss improved by 0.001 >= min_delta = 0.0005. New best score: 11.955\n",
      "Monitored metric val_loss did not improve in the last 15 records. Best score: 11.955. Signaling Trainer to stop.\n",
      "GPU available: True (cuda), used: True\n",
      "TPU available: False, using: 0 TPU cores\n",
      "HPU available: False, using: 0 HPUs\n",
      "LOCAL_RANK: 0 - CUDA_VISIBLE_DEVICES: [0]\n"
     ]
    },
    {
     "name": "stdout",
     "output_type": "stream",
     "text": [
      "Model loaded from checkpoint for trial 10, fold 0\n"
     ]
    },
    {
     "name": "stderr",
     "output_type": "stream",
     "text": [
      "Specified future encoders in `add_encoders` at model creation but model does not accept future covariates. future encoders will be ignored.\n",
      "GPU available: True (cuda), used: True\n",
      "TPU available: False, using: 0 TPU cores\n",
      "HPU available: False, using: 0 HPUs\n",
      "LOCAL_RANK: 0 - CUDA_VISIBLE_DEVICES: [0]\n"
     ]
    },
    {
     "name": "stdout",
     "output_type": "stream",
     "text": [
      "SMAPE fold 0: 97.13005804754962\n",
      "\n",
      "Fold 2/3\n"
     ]
    },
    {
     "name": "stderr",
     "output_type": "stream",
     "text": [
      "/home/eduardo/Documentos/Water-Cycle-Neural-Network/venv/lib/python3.12/site-packages/optuna/trial/_trial.py:497: UserWarning: The reported value is ignored because this `step` 0 is already reported.\n",
      "  warnings.warn(\n",
      "Metric val_loss improved by 11.786 >= min_delta = 0.0005. New best score: 0.169\n",
      "/home/eduardo/Documentos/Water-Cycle-Neural-Network/venv/lib/python3.12/site-packages/optuna/trial/_trial.py:497: UserWarning: The reported value is ignored because this `step` 1 is already reported.\n",
      "  warnings.warn(\n",
      "Metric val_loss improved by 0.076 >= min_delta = 0.0005. New best score: 0.092\n",
      "/home/eduardo/Documentos/Water-Cycle-Neural-Network/venv/lib/python3.12/site-packages/optuna/trial/_trial.py:497: UserWarning: The reported value is ignored because this `step` 2 is already reported.\n",
      "  warnings.warn(\n",
      "/home/eduardo/Documentos/Water-Cycle-Neural-Network/venv/lib/python3.12/site-packages/optuna/trial/_trial.py:497: UserWarning: The reported value is ignored because this `step` 3 is already reported.\n",
      "  warnings.warn(\n",
      "Metric val_loss improved by 0.015 >= min_delta = 0.0005. New best score: 0.077\n",
      "/home/eduardo/Documentos/Water-Cycle-Neural-Network/venv/lib/python3.12/site-packages/optuna/trial/_trial.py:497: UserWarning: The reported value is ignored because this `step` 4 is already reported.\n",
      "  warnings.warn(\n",
      "Metric val_loss improved by 0.016 >= min_delta = 0.0005. New best score: 0.061\n",
      "/home/eduardo/Documentos/Water-Cycle-Neural-Network/venv/lib/python3.12/site-packages/optuna/trial/_trial.py:497: UserWarning: The reported value is ignored because this `step` 5 is already reported.\n",
      "  warnings.warn(\n",
      "Metric val_loss improved by 0.012 >= min_delta = 0.0005. New best score: 0.049\n",
      "/home/eduardo/Documentos/Water-Cycle-Neural-Network/venv/lib/python3.12/site-packages/optuna/trial/_trial.py:497: UserWarning: The reported value is ignored because this `step` 6 is already reported.\n",
      "  warnings.warn(\n",
      "Metric val_loss improved by 0.002 >= min_delta = 0.0005. New best score: 0.047\n",
      "/home/eduardo/Documentos/Water-Cycle-Neural-Network/venv/lib/python3.12/site-packages/optuna/trial/_trial.py:497: UserWarning: The reported value is ignored because this `step` 7 is already reported.\n",
      "  warnings.warn(\n",
      "Metric val_loss improved by 0.001 >= min_delta = 0.0005. New best score: 0.047\n",
      "/home/eduardo/Documentos/Water-Cycle-Neural-Network/venv/lib/python3.12/site-packages/optuna/trial/_trial.py:497: UserWarning: The reported value is ignored because this `step` 8 is already reported.\n",
      "  warnings.warn(\n",
      "Metric val_loss improved by 0.002 >= min_delta = 0.0005. New best score: 0.045\n",
      "/home/eduardo/Documentos/Water-Cycle-Neural-Network/venv/lib/python3.12/site-packages/optuna/trial/_trial.py:497: UserWarning: The reported value is ignored because this `step` 9 is already reported.\n",
      "  warnings.warn(\n",
      "Metric val_loss improved by 0.004 >= min_delta = 0.0005. New best score: 0.041\n",
      "/home/eduardo/Documentos/Water-Cycle-Neural-Network/venv/lib/python3.12/site-packages/optuna/trial/_trial.py:497: UserWarning: The reported value is ignored because this `step` 10 is already reported.\n",
      "  warnings.warn(\n",
      "/home/eduardo/Documentos/Water-Cycle-Neural-Network/venv/lib/python3.12/site-packages/optuna/trial/_trial.py:497: UserWarning: The reported value is ignored because this `step` 11 is already reported.\n",
      "  warnings.warn(\n",
      "Metric val_loss improved by 0.002 >= min_delta = 0.0005. New best score: 0.039\n",
      "/home/eduardo/Documentos/Water-Cycle-Neural-Network/venv/lib/python3.12/site-packages/optuna/trial/_trial.py:497: UserWarning: The reported value is ignored because this `step` 12 is already reported.\n",
      "  warnings.warn(\n",
      "/home/eduardo/Documentos/Water-Cycle-Neural-Network/venv/lib/python3.12/site-packages/optuna/trial/_trial.py:497: UserWarning: The reported value is ignored because this `step` 13 is already reported.\n",
      "  warnings.warn(\n",
      "/home/eduardo/Documentos/Water-Cycle-Neural-Network/venv/lib/python3.12/site-packages/optuna/trial/_trial.py:497: UserWarning: The reported value is ignored because this `step` 14 is already reported.\n",
      "  warnings.warn(\n",
      "Metric val_loss improved by 0.002 >= min_delta = 0.0005. New best score: 0.037\n",
      "/home/eduardo/Documentos/Water-Cycle-Neural-Network/venv/lib/python3.12/site-packages/optuna/trial/_trial.py:497: UserWarning: The reported value is ignored because this `step` 15 is already reported.\n",
      "  warnings.warn(\n",
      "/home/eduardo/Documentos/Water-Cycle-Neural-Network/venv/lib/python3.12/site-packages/optuna/trial/_trial.py:497: UserWarning: The reported value is ignored because this `step` 16 is already reported.\n",
      "  warnings.warn(\n",
      "/home/eduardo/Documentos/Water-Cycle-Neural-Network/venv/lib/python3.12/site-packages/optuna/trial/_trial.py:497: UserWarning: The reported value is ignored because this `step` 17 is already reported.\n",
      "  warnings.warn(\n",
      "/home/eduardo/Documentos/Water-Cycle-Neural-Network/venv/lib/python3.12/site-packages/optuna/trial/_trial.py:497: UserWarning: The reported value is ignored because this `step` 18 is already reported.\n",
      "  warnings.warn(\n",
      "/home/eduardo/Documentos/Water-Cycle-Neural-Network/venv/lib/python3.12/site-packages/optuna/trial/_trial.py:497: UserWarning: The reported value is ignored because this `step` 19 is already reported.\n",
      "  warnings.warn(\n",
      "/home/eduardo/Documentos/Water-Cycle-Neural-Network/venv/lib/python3.12/site-packages/optuna/trial/_trial.py:497: UserWarning: The reported value is ignored because this `step` 20 is already reported.\n",
      "  warnings.warn(\n",
      "/home/eduardo/Documentos/Water-Cycle-Neural-Network/venv/lib/python3.12/site-packages/optuna/trial/_trial.py:497: UserWarning: The reported value is ignored because this `step` 21 is already reported.\n",
      "  warnings.warn(\n",
      "/home/eduardo/Documentos/Water-Cycle-Neural-Network/venv/lib/python3.12/site-packages/optuna/trial/_trial.py:497: UserWarning: The reported value is ignored because this `step` 22 is already reported.\n",
      "  warnings.warn(\n",
      "Monitored metric val_loss did not improve in the last 15 records. Best score: 0.037. Signaling Trainer to stop.\n",
      "`Trainer.fit` stopped: `max_epochs=30` reached.\n",
      "GPU available: True (cuda), used: True\n",
      "TPU available: False, using: 0 TPU cores\n",
      "HPU available: False, using: 0 HPUs\n",
      "LOCAL_RANK: 0 - CUDA_VISIBLE_DEVICES: [0]\n"
     ]
    },
    {
     "name": "stdout",
     "output_type": "stream",
     "text": [
      "Model loaded from checkpoint for trial 10, fold 1\n"
     ]
    },
    {
     "name": "stderr",
     "output_type": "stream",
     "text": [
      "Specified future encoders in `add_encoders` at model creation but model does not accept future covariates. future encoders will be ignored.\n",
      "GPU available: True (cuda), used: True\n",
      "TPU available: False, using: 0 TPU cores\n",
      "HPU available: False, using: 0 HPUs\n",
      "LOCAL_RANK: 0 - CUDA_VISIBLE_DEVICES: [0]\n"
     ]
    },
    {
     "name": "stdout",
     "output_type": "stream",
     "text": [
      "SMAPE fold 1: 45.18336042069306\n",
      "\n",
      "Fold 3/3\n"
     ]
    },
    {
     "name": "stderr",
     "output_type": "stream",
     "text": [
      "/home/eduardo/Documentos/Water-Cycle-Neural-Network/venv/lib/python3.12/site-packages/optuna/trial/_trial.py:497: UserWarning: The reported value is ignored because this `step` 0 is already reported.\n",
      "  warnings.warn(\n",
      "Monitored metric val_loss did not improve in the last 16 records. Best score: 0.037. Signaling Trainer to stop.\n",
      "GPU available: True (cuda), used: True\n",
      "TPU available: False, using: 0 TPU cores\n",
      "HPU available: False, using: 0 HPUs\n",
      "LOCAL_RANK: 0 - CUDA_VISIBLE_DEVICES: [0]\n"
     ]
    },
    {
     "name": "stdout",
     "output_type": "stream",
     "text": [
      "Model loaded from checkpoint for trial 10, fold 2\n"
     ]
    },
    {
     "name": "stderr",
     "output_type": "stream",
     "text": [
      "[I 2025-06-10 22:25:25,587] Trial 10 finished with value: 66.75414665850445 and parameters: {'input_chunk_length': 24, 'hidden_size': 184, 'layer_size': 2, 'dropout': 0.1, 'batch_size': 184, 'lr': 0.0005859441624668537, 'weight_decay': 1.1328074896042097e-06}. Best is trial 4 with value: 56.746995125078605.\n",
      "Specified future encoders in `add_encoders` at model creation but model does not accept future covariates. future encoders will be ignored.\n",
      "GPU available: True (cuda), used: True\n",
      "TPU available: False, using: 0 TPU cores\n",
      "HPU available: False, using: 0 HPUs\n",
      "LOCAL_RANK: 0 - CUDA_VISIBLE_DEVICES: [0]\n"
     ]
    },
    {
     "name": "stdout",
     "output_type": "stream",
     "text": [
      "SMAPE fold 2: 57.9490215072707\n",
      "Média dos SMAPE nos folds: 66.75414665850445\n",
      "Results of trial 10 saved in optuna_iteration_metrics/trial_10.json\n",
      "Current value: 66.75414665850445, Current params: {'input_chunk_length': 24, 'hidden_size': 184, 'layer_size': 2, 'dropout': 0.1, 'batch_size': 184, 'lr': 0.0005859441624668537, 'weight_decay': 1.1328074896042097e-06}\n",
      "Best value: 56.746995125078605, Best params: {'input_chunk_length': 72, 'hidden_size': 192, 'layer_size': 2, 'dropout': 0.1, 'batch_size': 120, 'lr': 0.0015946669352095357, 'weight_decay': 1.4990212709784245e-06}\n",
      "\n",
      "Fold 1/3\n"
     ]
    },
    {
     "name": "stderr",
     "output_type": "stream",
     "text": [
      "Metric val_loss improved. New best score: 12.400\n",
      "Metric val_loss improved by 0.044 >= min_delta = 0.0005. New best score: 12.355\n",
      "Metric val_loss improved by 0.074 >= min_delta = 0.0005. New best score: 12.281\n",
      "Metric val_loss improved by 0.013 >= min_delta = 0.0005. New best score: 12.269\n",
      "Metric val_loss improved by 0.014 >= min_delta = 0.0005. New best score: 12.254\n",
      "Metric val_loss improved by 0.002 >= min_delta = 0.0005. New best score: 12.252\n",
      "Metric val_loss improved by 0.002 >= min_delta = 0.0005. New best score: 12.250\n",
      "Metric val_loss improved by 0.002 >= min_delta = 0.0005. New best score: 12.248\n",
      "Metric val_loss improved by 0.001 >= min_delta = 0.0005. New best score: 12.247\n",
      "Metric val_loss improved by 0.002 >= min_delta = 0.0005. New best score: 12.245\n",
      "Metric val_loss improved by 0.004 >= min_delta = 0.0005. New best score: 12.241\n",
      "Metric val_loss improved by 0.004 >= min_delta = 0.0005. New best score: 12.236\n",
      "Metric val_loss improved by 0.006 >= min_delta = 0.0005. New best score: 12.230\n",
      "Metric val_loss improved by 0.009 >= min_delta = 0.0005. New best score: 12.221\n",
      "Metric val_loss improved by 0.010 >= min_delta = 0.0005. New best score: 12.210\n",
      "Metric val_loss improved by 0.007 >= min_delta = 0.0005. New best score: 12.203\n",
      "Metric val_loss improved by 0.008 >= min_delta = 0.0005. New best score: 12.195\n",
      "Metric val_loss improved by 0.003 >= min_delta = 0.0005. New best score: 12.192\n",
      "Metric val_loss improved by 0.001 >= min_delta = 0.0005. New best score: 12.191\n",
      "Metric val_loss improved by 0.003 >= min_delta = 0.0005. New best score: 12.188\n",
      "Metric val_loss improved by 0.004 >= min_delta = 0.0005. New best score: 12.185\n",
      "Metric val_loss improved by 0.003 >= min_delta = 0.0005. New best score: 12.182\n",
      "Metric val_loss improved by 0.007 >= min_delta = 0.0005. New best score: 12.175\n",
      "Metric val_loss improved by 0.005 >= min_delta = 0.0005. New best score: 12.170\n",
      "Metric val_loss improved by 0.012 >= min_delta = 0.0005. New best score: 12.159\n",
      "Metric val_loss improved by 0.003 >= min_delta = 0.0005. New best score: 12.156\n",
      "Metric val_loss improved by 0.009 >= min_delta = 0.0005. New best score: 12.147\n",
      "Metric val_loss improved by 0.002 >= min_delta = 0.0005. New best score: 12.145\n",
      "[I 2025-06-10 22:26:38,402] Trial 11 pruned. Trial was pruned at epoch 28.\n",
      "Specified future encoders in `add_encoders` at model creation but model does not accept future covariates. future encoders will be ignored.\n",
      "GPU available: True (cuda), used: True\n",
      "TPU available: False, using: 0 TPU cores\n",
      "HPU available: False, using: 0 HPUs\n",
      "LOCAL_RANK: 0 - CUDA_VISIBLE_DEVICES: [0]\n"
     ]
    },
    {
     "name": "stdout",
     "output_type": "stream",
     "text": [
      "Current value: 12.139353368950115, Current params: {'input_chunk_length': 48, 'hidden_size': 192, 'layer_size': 3, 'dropout': 0.1, 'batch_size': 104, 'lr': 5.59556946013824e-05, 'weight_decay': 1.1976178884245652e-06}\n",
      "Best value: 56.746995125078605, Best params: {'input_chunk_length': 72, 'hidden_size': 192, 'layer_size': 2, 'dropout': 0.1, 'batch_size': 120, 'lr': 0.0015946669352095357, 'weight_decay': 1.4990212709784245e-06}\n",
      "\n",
      "Fold 1/3\n"
     ]
    },
    {
     "name": "stderr",
     "output_type": "stream",
     "text": [
      "Metric val_loss improved. New best score: 12.309\n",
      "Metric val_loss improved by 0.023 >= min_delta = 0.0005. New best score: 12.286\n",
      "Metric val_loss improved by 0.028 >= min_delta = 0.0005. New best score: 12.258\n",
      "Metric val_loss improved by 0.042 >= min_delta = 0.0005. New best score: 12.216\n",
      "Metric val_loss improved by 0.047 >= min_delta = 0.0005. New best score: 12.169\n",
      "Metric val_loss improved by 0.013 >= min_delta = 0.0005. New best score: 12.156\n",
      "Metric val_loss improved by 0.005 >= min_delta = 0.0005. New best score: 12.151\n",
      "Metric val_loss improved by 0.005 >= min_delta = 0.0005. New best score: 12.145\n",
      "Metric val_loss improved by 0.004 >= min_delta = 0.0005. New best score: 12.141\n",
      "Metric val_loss improved by 0.003 >= min_delta = 0.0005. New best score: 12.138\n",
      "Metric val_loss improved by 0.004 >= min_delta = 0.0005. New best score: 12.135\n",
      "Metric val_loss improved by 0.005 >= min_delta = 0.0005. New best score: 12.130\n",
      "Metric val_loss improved by 0.005 >= min_delta = 0.0005. New best score: 12.125\n",
      "Metric val_loss improved by 0.005 >= min_delta = 0.0005. New best score: 12.120\n",
      "Metric val_loss improved by 0.006 >= min_delta = 0.0005. New best score: 12.114\n",
      "Metric val_loss improved by 0.006 >= min_delta = 0.0005. New best score: 12.108\n",
      "Metric val_loss improved by 0.008 >= min_delta = 0.0005. New best score: 12.100\n",
      "Metric val_loss improved by 0.007 >= min_delta = 0.0005. New best score: 12.093\n",
      "Metric val_loss improved by 0.007 >= min_delta = 0.0005. New best score: 12.087\n",
      "Metric val_loss improved by 0.007 >= min_delta = 0.0005. New best score: 12.080\n",
      "Metric val_loss improved by 0.007 >= min_delta = 0.0005. New best score: 12.073\n",
      "Metric val_loss improved by 0.006 >= min_delta = 0.0005. New best score: 12.066\n",
      "Metric val_loss improved by 0.005 >= min_delta = 0.0005. New best score: 12.062\n",
      "Metric val_loss improved by 0.004 >= min_delta = 0.0005. New best score: 12.057\n",
      "Metric val_loss improved by 0.004 >= min_delta = 0.0005. New best score: 12.053\n",
      "Metric val_loss improved by 0.004 >= min_delta = 0.0005. New best score: 12.049\n",
      "Metric val_loss improved by 0.002 >= min_delta = 0.0005. New best score: 12.047\n",
      "Metric val_loss improved by 0.004 >= min_delta = 0.0005. New best score: 12.043\n",
      "[I 2025-06-10 22:27:26,050] Trial 12 pruned. Trial was pruned at epoch 28.\n",
      "Specified future encoders in `add_encoders` at model creation but model does not accept future covariates. future encoders will be ignored.\n",
      "GPU available: True (cuda), used: True\n",
      "TPU available: False, using: 0 TPU cores\n",
      "HPU available: False, using: 0 HPUs\n",
      "LOCAL_RANK: 0 - CUDA_VISIBLE_DEVICES: [0]\n"
     ]
    },
    {
     "name": "stdout",
     "output_type": "stream",
     "text": [
      "Current value: 12.04082232903288, Current params: {'input_chunk_length': 24, 'hidden_size': 208, 'layer_size': 2, 'dropout': 0.15000000000000002, 'batch_size': 168, 'lr': 5.567264518520834e-05, 'weight_decay': 8.288065492147732e-06}\n",
      "Best value: 56.746995125078605, Best params: {'input_chunk_length': 72, 'hidden_size': 192, 'layer_size': 2, 'dropout': 0.1, 'batch_size': 120, 'lr': 0.0015946669352095357, 'weight_decay': 1.4990212709784245e-06}\n",
      "\n",
      "Fold 1/3\n"
     ]
    },
    {
     "name": "stderr",
     "output_type": "stream",
     "text": [
      "Metric val_loss improved. New best score: 12.334\n",
      "Metric val_loss improved by 0.016 >= min_delta = 0.0005. New best score: 12.318\n",
      "Metric val_loss improved by 0.050 >= min_delta = 0.0005. New best score: 12.268\n",
      "Metric val_loss improved by 0.036 >= min_delta = 0.0005. New best score: 12.232\n",
      "Metric val_loss improved by 0.023 >= min_delta = 0.0005. New best score: 12.209\n",
      "Metric val_loss improved by 0.015 >= min_delta = 0.0005. New best score: 12.194\n",
      "Monitored metric val_loss did not improve in the last 15 records. Best score: 12.194. Signaling Trainer to stop.\n",
      "GPU available: True (cuda), used: True\n",
      "TPU available: False, using: 0 TPU cores\n",
      "HPU available: False, using: 0 HPUs\n",
      "LOCAL_RANK: 0 - CUDA_VISIBLE_DEVICES: [0]\n"
     ]
    },
    {
     "name": "stdout",
     "output_type": "stream",
     "text": [
      "Model loaded from checkpoint for trial 13, fold 0\n"
     ]
    },
    {
     "name": "stderr",
     "output_type": "stream",
     "text": [
      "Specified future encoders in `add_encoders` at model creation but model does not accept future covariates. future encoders will be ignored.\n",
      "GPU available: True (cuda), used: True\n",
      "TPU available: False, using: 0 TPU cores\n",
      "HPU available: False, using: 0 HPUs\n",
      "LOCAL_RANK: 0 - CUDA_VISIBLE_DEVICES: [0]\n"
     ]
    },
    {
     "name": "stdout",
     "output_type": "stream",
     "text": [
      "SMAPE fold 0: 103.62930818200068\n",
      "\n",
      "Fold 2/3\n"
     ]
    },
    {
     "name": "stderr",
     "output_type": "stream",
     "text": [
      "/home/eduardo/Documentos/Water-Cycle-Neural-Network/venv/lib/python3.12/site-packages/optuna/trial/_trial.py:497: UserWarning: The reported value is ignored because this `step` 0 is already reported.\n",
      "  warnings.warn(\n",
      "Metric val_loss improved by 12.133 >= min_delta = 0.0005. New best score: 0.061\n",
      "/home/eduardo/Documentos/Water-Cycle-Neural-Network/venv/lib/python3.12/site-packages/optuna/trial/_trial.py:497: UserWarning: The reported value is ignored because this `step` 1 is already reported.\n",
      "  warnings.warn(\n",
      "Metric val_loss improved by 0.016 >= min_delta = 0.0005. New best score: 0.045\n",
      "/home/eduardo/Documentos/Water-Cycle-Neural-Network/venv/lib/python3.12/site-packages/optuna/trial/_trial.py:497: UserWarning: The reported value is ignored because this `step` 2 is already reported.\n",
      "  warnings.warn(\n",
      "/home/eduardo/Documentos/Water-Cycle-Neural-Network/venv/lib/python3.12/site-packages/optuna/trial/_trial.py:497: UserWarning: The reported value is ignored because this `step` 3 is already reported.\n",
      "  warnings.warn(\n",
      "Metric val_loss improved by 0.001 >= min_delta = 0.0005. New best score: 0.044\n",
      "/home/eduardo/Documentos/Water-Cycle-Neural-Network/venv/lib/python3.12/site-packages/optuna/trial/_trial.py:497: UserWarning: The reported value is ignored because this `step` 4 is already reported.\n",
      "  warnings.warn(\n",
      "/home/eduardo/Documentos/Water-Cycle-Neural-Network/venv/lib/python3.12/site-packages/optuna/trial/_trial.py:497: UserWarning: The reported value is ignored because this `step` 5 is already reported.\n",
      "  warnings.warn(\n",
      "Metric val_loss improved by 0.008 >= min_delta = 0.0005. New best score: 0.035\n",
      "/home/eduardo/Documentos/Water-Cycle-Neural-Network/venv/lib/python3.12/site-packages/optuna/trial/_trial.py:497: UserWarning: The reported value is ignored because this `step` 6 is already reported.\n",
      "  warnings.warn(\n",
      "/home/eduardo/Documentos/Water-Cycle-Neural-Network/venv/lib/python3.12/site-packages/optuna/trial/_trial.py:497: UserWarning: The reported value is ignored because this `step` 7 is already reported.\n",
      "  warnings.warn(\n",
      "/home/eduardo/Documentos/Water-Cycle-Neural-Network/venv/lib/python3.12/site-packages/optuna/trial/_trial.py:497: UserWarning: The reported value is ignored because this `step` 8 is already reported.\n",
      "  warnings.warn(\n",
      "/home/eduardo/Documentos/Water-Cycle-Neural-Network/venv/lib/python3.12/site-packages/optuna/trial/_trial.py:497: UserWarning: The reported value is ignored because this `step` 9 is already reported.\n",
      "  warnings.warn(\n",
      "/home/eduardo/Documentos/Water-Cycle-Neural-Network/venv/lib/python3.12/site-packages/optuna/trial/_trial.py:497: UserWarning: The reported value is ignored because this `step` 10 is already reported.\n",
      "  warnings.warn(\n",
      "/home/eduardo/Documentos/Water-Cycle-Neural-Network/venv/lib/python3.12/site-packages/optuna/trial/_trial.py:497: UserWarning: The reported value is ignored because this `step` 11 is already reported.\n",
      "  warnings.warn(\n",
      "/home/eduardo/Documentos/Water-Cycle-Neural-Network/venv/lib/python3.12/site-packages/optuna/trial/_trial.py:497: UserWarning: The reported value is ignored because this `step` 12 is already reported.\n",
      "  warnings.warn(\n",
      "/home/eduardo/Documentos/Water-Cycle-Neural-Network/venv/lib/python3.12/site-packages/optuna/trial/_trial.py:497: UserWarning: The reported value is ignored because this `step` 13 is already reported.\n",
      "  warnings.warn(\n",
      "/home/eduardo/Documentos/Water-Cycle-Neural-Network/venv/lib/python3.12/site-packages/optuna/trial/_trial.py:497: UserWarning: The reported value is ignored because this `step` 14 is already reported.\n",
      "  warnings.warn(\n",
      "/home/eduardo/Documentos/Water-Cycle-Neural-Network/venv/lib/python3.12/site-packages/optuna/trial/_trial.py:497: UserWarning: The reported value is ignored because this `step` 15 is already reported.\n",
      "  warnings.warn(\n",
      "/home/eduardo/Documentos/Water-Cycle-Neural-Network/venv/lib/python3.12/site-packages/optuna/trial/_trial.py:497: UserWarning: The reported value is ignored because this `step` 16 is already reported.\n",
      "  warnings.warn(\n",
      "/home/eduardo/Documentos/Water-Cycle-Neural-Network/venv/lib/python3.12/site-packages/optuna/trial/_trial.py:497: UserWarning: The reported value is ignored because this `step` 17 is already reported.\n",
      "  warnings.warn(\n",
      "/home/eduardo/Documentos/Water-Cycle-Neural-Network/venv/lib/python3.12/site-packages/optuna/trial/_trial.py:497: UserWarning: The reported value is ignored because this `step` 18 is already reported.\n",
      "  warnings.warn(\n",
      "/home/eduardo/Documentos/Water-Cycle-Neural-Network/venv/lib/python3.12/site-packages/optuna/trial/_trial.py:497: UserWarning: The reported value is ignored because this `step` 19 is already reported.\n",
      "  warnings.warn(\n",
      "/home/eduardo/Documentos/Water-Cycle-Neural-Network/venv/lib/python3.12/site-packages/optuna/trial/_trial.py:497: UserWarning: The reported value is ignored because this `step` 20 is already reported.\n",
      "  warnings.warn(\n",
      "Monitored metric val_loss did not improve in the last 15 records. Best score: 0.035. Signaling Trainer to stop.\n",
      "GPU available: True (cuda), used: True\n",
      "TPU available: False, using: 0 TPU cores\n",
      "HPU available: False, using: 0 HPUs\n",
      "LOCAL_RANK: 0 - CUDA_VISIBLE_DEVICES: [0]\n"
     ]
    },
    {
     "name": "stdout",
     "output_type": "stream",
     "text": [
      "Model loaded from checkpoint for trial 13, fold 1\n"
     ]
    },
    {
     "name": "stderr",
     "output_type": "stream",
     "text": [
      "Specified future encoders in `add_encoders` at model creation but model does not accept future covariates. future encoders will be ignored.\n",
      "GPU available: True (cuda), used: True\n",
      "TPU available: False, using: 0 TPU cores\n",
      "HPU available: False, using: 0 HPUs\n",
      "LOCAL_RANK: 0 - CUDA_VISIBLE_DEVICES: [0]\n"
     ]
    },
    {
     "name": "stdout",
     "output_type": "stream",
     "text": [
      "SMAPE fold 1: 43.47959350292761\n",
      "\n",
      "Fold 3/3\n"
     ]
    },
    {
     "name": "stderr",
     "output_type": "stream",
     "text": [
      "/home/eduardo/Documentos/Water-Cycle-Neural-Network/venv/lib/python3.12/site-packages/optuna/trial/_trial.py:497: UserWarning: The reported value is ignored because this `step` 0 is already reported.\n",
      "  warnings.warn(\n",
      "Monitored metric val_loss did not improve in the last 16 records. Best score: 0.035. Signaling Trainer to stop.\n",
      "GPU available: True (cuda), used: True\n",
      "TPU available: False, using: 0 TPU cores\n",
      "HPU available: False, using: 0 HPUs\n",
      "LOCAL_RANK: 0 - CUDA_VISIBLE_DEVICES: [0]\n"
     ]
    },
    {
     "name": "stdout",
     "output_type": "stream",
     "text": [
      "Model loaded from checkpoint for trial 13, fold 2\n"
     ]
    },
    {
     "name": "stderr",
     "output_type": "stream",
     "text": [
      "[I 2025-06-10 22:31:49,562] Trial 13 finished with value: 64.84364350765024 and parameters: {'input_chunk_length': 72, 'hidden_size': 152, 'layer_size': 3, 'dropout': 0.2, 'batch_size': 96, 'lr': 0.0034102334000890543, 'weight_decay': 7.1199141329368e-06}. Best is trial 4 with value: 56.746995125078605.\n"
     ]
    },
    {
     "name": "stdout",
     "output_type": "stream",
     "text": [
      "SMAPE fold 2: 47.42202883802241\n",
      "Média dos SMAPE nos folds: 64.84364350765024\n",
      "Results of trial 13 saved in optuna_iteration_metrics/trial_13.json\n",
      "Current value: 64.84364350765024, Current params: {'input_chunk_length': 72, 'hidden_size': 152, 'layer_size': 3, 'dropout': 0.2, 'batch_size': 96, 'lr': 0.0034102334000890543, 'weight_decay': 7.1199141329368e-06}\n",
      "Best value: 56.746995125078605, Best params: {'input_chunk_length': 72, 'hidden_size': 192, 'layer_size': 2, 'dropout': 0.1, 'batch_size': 120, 'lr': 0.0015946669352095357, 'weight_decay': 1.4990212709784245e-06}\n",
      "\n",
      "Fold 1/3\n"
     ]
    },
    {
     "name": "stderr",
     "output_type": "stream",
     "text": [
      "Specified future encoders in `add_encoders` at model creation but model does not accept future covariates. future encoders will be ignored.\n",
      "GPU available: True (cuda), used: True\n",
      "TPU available: False, using: 0 TPU cores\n",
      "HPU available: False, using: 0 HPUs\n",
      "LOCAL_RANK: 0 - CUDA_VISIBLE_DEVICES: [0]\n",
      "Metric val_loss improved. New best score: 12.431\n",
      "Metric val_loss improved by 0.004 >= min_delta = 0.0005. New best score: 12.427\n",
      "Metric val_loss improved by 0.003 >= min_delta = 0.0005. New best score: 12.424\n",
      "Metric val_loss improved by 0.003 >= min_delta = 0.0005. New best score: 12.420\n",
      "Metric val_loss improved by 0.003 >= min_delta = 0.0005. New best score: 12.417\n",
      "Metric val_loss improved by 0.004 >= min_delta = 0.0005. New best score: 12.413\n",
      "Metric val_loss improved by 0.004 >= min_delta = 0.0005. New best score: 12.409\n",
      "Metric val_loss improved by 0.004 >= min_delta = 0.0005. New best score: 12.405\n",
      "Metric val_loss improved by 0.004 >= min_delta = 0.0005. New best score: 12.401\n",
      "Metric val_loss improved by 0.005 >= min_delta = 0.0005. New best score: 12.396\n",
      "Metric val_loss improved by 0.006 >= min_delta = 0.0005. New best score: 12.390\n",
      "Metric val_loss improved by 0.007 >= min_delta = 0.0005. New best score: 12.383\n",
      "Metric val_loss improved by 0.008 >= min_delta = 0.0005. New best score: 12.376\n",
      "Metric val_loss improved by 0.009 >= min_delta = 0.0005. New best score: 12.367\n",
      "Metric val_loss improved by 0.010 >= min_delta = 0.0005. New best score: 12.357\n",
      "Metric val_loss improved by 0.010 >= min_delta = 0.0005. New best score: 12.347\n",
      "Metric val_loss improved by 0.011 >= min_delta = 0.0005. New best score: 12.336\n",
      "Metric val_loss improved by 0.010 >= min_delta = 0.0005. New best score: 12.327\n",
      "Metric val_loss improved by 0.008 >= min_delta = 0.0005. New best score: 12.319\n",
      "Metric val_loss improved by 0.006 >= min_delta = 0.0005. New best score: 12.313\n",
      "Metric val_loss improved by 0.005 >= min_delta = 0.0005. New best score: 12.308\n",
      "Metric val_loss improved by 0.004 >= min_delta = 0.0005. New best score: 12.303\n",
      "Metric val_loss improved by 0.004 >= min_delta = 0.0005. New best score: 12.299\n",
      "Metric val_loss improved by 0.004 >= min_delta = 0.0005. New best score: 12.295\n",
      "[I 2025-06-10 22:32:31,122] Trial 14 pruned. Trial was pruned at epoch 24.\n",
      "Specified future encoders in `add_encoders` at model creation but model does not accept future covariates. future encoders will be ignored.\n",
      "GPU available: True (cuda), used: True\n",
      "TPU available: False, using: 0 TPU cores\n",
      "HPU available: False, using: 0 HPUs\n",
      "LOCAL_RANK: 0 - CUDA_VISIBLE_DEVICES: [0]\n"
     ]
    },
    {
     "name": "stdout",
     "output_type": "stream",
     "text": [
      "Current value: 12.291513351593759, Current params: {'input_chunk_length': 48, 'hidden_size': 144, 'layer_size': 2, 'dropout': 0.15000000000000002, 'batch_size': 192, 'lr': 2.190346512720929e-05, 'weight_decay': 6.9779321676934e-06}\n",
      "Best value: 56.746995125078605, Best params: {'input_chunk_length': 72, 'hidden_size': 192, 'layer_size': 2, 'dropout': 0.1, 'batch_size': 120, 'lr': 0.0015946669352095357, 'weight_decay': 1.4990212709784245e-06}\n",
      "\n",
      "Fold 1/3\n"
     ]
    },
    {
     "name": "stderr",
     "output_type": "stream",
     "text": [
      "[I 2025-06-10 22:32:35,922] Trial 15 pruned. Trial was pruned at epoch 0.\n",
      "Specified future encoders in `add_encoders` at model creation but model does not accept future covariates. future encoders will be ignored.\n",
      "GPU available: True (cuda), used: True\n",
      "TPU available: False, using: 0 TPU cores\n",
      "HPU available: False, using: 0 HPUs\n",
      "LOCAL_RANK: 0 - CUDA_VISIBLE_DEVICES: [0]\n"
     ]
    },
    {
     "name": "stdout",
     "output_type": "stream",
     "text": [
      "Current value: 12.635821461866046, Current params: {'input_chunk_length': 84, 'hidden_size': 256, 'layer_size': 3, 'dropout': 0.1, 'batch_size': 136, 'lr': 1.1502260895177246e-06, 'weight_decay': 2.7054132929786623e-05}\n",
      "Best value: 56.746995125078605, Best params: {'input_chunk_length': 72, 'hidden_size': 192, 'layer_size': 2, 'dropout': 0.1, 'batch_size': 120, 'lr': 0.0015946669352095357, 'weight_decay': 1.4990212709784245e-06}\n",
      "\n",
      "Fold 1/3\n"
     ]
    },
    {
     "name": "stderr",
     "output_type": "stream",
     "text": [
      "Metric val_loss improved. New best score: 12.236\n",
      "Metric val_loss improved by 0.033 >= min_delta = 0.0005. New best score: 12.203\n",
      "Metric val_loss improved by 0.029 >= min_delta = 0.0005. New best score: 12.174\n",
      "Metric val_loss improved by 0.022 >= min_delta = 0.0005. New best score: 12.152\n",
      "Monitored metric val_loss did not improve in the last 15 records. Best score: 12.152. Signaling Trainer to stop.\n",
      "GPU available: True (cuda), used: True\n",
      "TPU available: False, using: 0 TPU cores\n",
      "HPU available: False, using: 0 HPUs\n",
      "LOCAL_RANK: 0 - CUDA_VISIBLE_DEVICES: [0]\n"
     ]
    },
    {
     "name": "stdout",
     "output_type": "stream",
     "text": [
      "Model loaded from checkpoint for trial 16, fold 0\n"
     ]
    },
    {
     "name": "stderr",
     "output_type": "stream",
     "text": [
      "Specified future encoders in `add_encoders` at model creation but model does not accept future covariates. future encoders will be ignored.\n",
      "GPU available: True (cuda), used: True\n",
      "TPU available: False, using: 0 TPU cores\n",
      "HPU available: False, using: 0 HPUs\n",
      "LOCAL_RANK: 0 - CUDA_VISIBLE_DEVICES: [0]\n"
     ]
    },
    {
     "name": "stdout",
     "output_type": "stream",
     "text": [
      "SMAPE fold 0: 106.85340416434808\n",
      "\n",
      "Fold 2/3\n"
     ]
    },
    {
     "name": "stderr",
     "output_type": "stream",
     "text": [
      "/home/eduardo/Documentos/Water-Cycle-Neural-Network/venv/lib/python3.12/site-packages/optuna/trial/_trial.py:497: UserWarning: The reported value is ignored because this `step` 0 is already reported.\n",
      "  warnings.warn(\n",
      "Metric val_loss improved by 12.052 >= min_delta = 0.0005. New best score: 0.100\n",
      "/home/eduardo/Documentos/Water-Cycle-Neural-Network/venv/lib/python3.12/site-packages/optuna/trial/_trial.py:497: UserWarning: The reported value is ignored because this `step` 1 is already reported.\n",
      "  warnings.warn(\n",
      "Metric val_loss improved by 0.005 >= min_delta = 0.0005. New best score: 0.095\n",
      "/home/eduardo/Documentos/Water-Cycle-Neural-Network/venv/lib/python3.12/site-packages/optuna/trial/_trial.py:497: UserWarning: The reported value is ignored because this `step` 2 is already reported.\n",
      "  warnings.warn(\n",
      "Metric val_loss improved by 0.018 >= min_delta = 0.0005. New best score: 0.077\n",
      "/home/eduardo/Documentos/Water-Cycle-Neural-Network/venv/lib/python3.12/site-packages/optuna/trial/_trial.py:497: UserWarning: The reported value is ignored because this `step` 3 is already reported.\n",
      "  warnings.warn(\n",
      "/home/eduardo/Documentos/Water-Cycle-Neural-Network/venv/lib/python3.12/site-packages/optuna/trial/_trial.py:497: UserWarning: The reported value is ignored because this `step` 4 is already reported.\n",
      "  warnings.warn(\n",
      "/home/eduardo/Documentos/Water-Cycle-Neural-Network/venv/lib/python3.12/site-packages/optuna/trial/_trial.py:497: UserWarning: The reported value is ignored because this `step` 5 is already reported.\n",
      "  warnings.warn(\n",
      "/home/eduardo/Documentos/Water-Cycle-Neural-Network/venv/lib/python3.12/site-packages/optuna/trial/_trial.py:497: UserWarning: The reported value is ignored because this `step` 6 is already reported.\n",
      "  warnings.warn(\n",
      "/home/eduardo/Documentos/Water-Cycle-Neural-Network/venv/lib/python3.12/site-packages/optuna/trial/_trial.py:497: UserWarning: The reported value is ignored because this `step` 7 is already reported.\n",
      "  warnings.warn(\n",
      "/home/eduardo/Documentos/Water-Cycle-Neural-Network/venv/lib/python3.12/site-packages/optuna/trial/_trial.py:497: UserWarning: The reported value is ignored because this `step` 8 is already reported.\n",
      "  warnings.warn(\n",
      "/home/eduardo/Documentos/Water-Cycle-Neural-Network/venv/lib/python3.12/site-packages/optuna/trial/_trial.py:497: UserWarning: The reported value is ignored because this `step` 9 is already reported.\n",
      "  warnings.warn(\n",
      "/home/eduardo/Documentos/Water-Cycle-Neural-Network/venv/lib/python3.12/site-packages/optuna/trial/_trial.py:497: UserWarning: The reported value is ignored because this `step` 10 is already reported.\n",
      "  warnings.warn(\n",
      "/home/eduardo/Documentos/Water-Cycle-Neural-Network/venv/lib/python3.12/site-packages/optuna/trial/_trial.py:497: UserWarning: The reported value is ignored because this `step` 11 is already reported.\n",
      "  warnings.warn(\n",
      "/home/eduardo/Documentos/Water-Cycle-Neural-Network/venv/lib/python3.12/site-packages/optuna/trial/_trial.py:497: UserWarning: The reported value is ignored because this `step` 12 is already reported.\n",
      "  warnings.warn(\n",
      "/home/eduardo/Documentos/Water-Cycle-Neural-Network/venv/lib/python3.12/site-packages/optuna/trial/_trial.py:497: UserWarning: The reported value is ignored because this `step` 13 is already reported.\n",
      "  warnings.warn(\n",
      "/home/eduardo/Documentos/Water-Cycle-Neural-Network/venv/lib/python3.12/site-packages/optuna/trial/_trial.py:497: UserWarning: The reported value is ignored because this `step` 14 is already reported.\n",
      "  warnings.warn(\n",
      "/home/eduardo/Documentos/Water-Cycle-Neural-Network/venv/lib/python3.12/site-packages/optuna/trial/_trial.py:497: UserWarning: The reported value is ignored because this `step` 15 is already reported.\n",
      "  warnings.warn(\n",
      "/home/eduardo/Documentos/Water-Cycle-Neural-Network/venv/lib/python3.12/site-packages/optuna/trial/_trial.py:497: UserWarning: The reported value is ignored because this `step` 16 is already reported.\n",
      "  warnings.warn(\n",
      "/home/eduardo/Documentos/Water-Cycle-Neural-Network/venv/lib/python3.12/site-packages/optuna/trial/_trial.py:497: UserWarning: The reported value is ignored because this `step` 17 is already reported.\n",
      "  warnings.warn(\n",
      "Monitored metric val_loss did not improve in the last 15 records. Best score: 0.077. Signaling Trainer to stop.\n",
      "GPU available: True (cuda), used: True\n",
      "TPU available: False, using: 0 TPU cores\n",
      "HPU available: False, using: 0 HPUs\n",
      "LOCAL_RANK: 0 - CUDA_VISIBLE_DEVICES: [0]\n"
     ]
    },
    {
     "name": "stdout",
     "output_type": "stream",
     "text": [
      "Model loaded from checkpoint for trial 16, fold 1\n"
     ]
    },
    {
     "name": "stderr",
     "output_type": "stream",
     "text": [
      "Specified future encoders in `add_encoders` at model creation but model does not accept future covariates. future encoders will be ignored.\n",
      "GPU available: True (cuda), used: True\n",
      "TPU available: False, using: 0 TPU cores\n",
      "HPU available: False, using: 0 HPUs\n",
      "LOCAL_RANK: 0 - CUDA_VISIBLE_DEVICES: [0]\n"
     ]
    },
    {
     "name": "stdout",
     "output_type": "stream",
     "text": [
      "SMAPE fold 1: 54.46569941249455\n",
      "\n",
      "Fold 3/3\n"
     ]
    },
    {
     "name": "stderr",
     "output_type": "stream",
     "text": [
      "/home/eduardo/Documentos/Water-Cycle-Neural-Network/venv/lib/python3.12/site-packages/optuna/trial/_trial.py:497: UserWarning: The reported value is ignored because this `step` 0 is already reported.\n",
      "  warnings.warn(\n",
      "Monitored metric val_loss did not improve in the last 16 records. Best score: 0.077. Signaling Trainer to stop.\n",
      "GPU available: True (cuda), used: True\n",
      "TPU available: False, using: 0 TPU cores\n",
      "HPU available: False, using: 0 HPUs\n",
      "LOCAL_RANK: 0 - CUDA_VISIBLE_DEVICES: [0]\n"
     ]
    },
    {
     "name": "stdout",
     "output_type": "stream",
     "text": [
      "Model loaded from checkpoint for trial 16, fold 2\n"
     ]
    },
    {
     "name": "stderr",
     "output_type": "stream",
     "text": [
      "[I 2025-06-10 22:36:28,967] Trial 16 finished with value: 73.20499319083841 and parameters: {'input_chunk_length': 48, 'hidden_size': 216, 'layer_size': 2, 'dropout': 0.2, 'batch_size': 64, 'lr': 0.0005548442579208637, 'weight_decay': 0.00878671173053707}. Best is trial 4 with value: 56.746995125078605.\n",
      "Specified future encoders in `add_encoders` at model creation but model does not accept future covariates. future encoders will be ignored.\n",
      "GPU available: True (cuda), used: True\n",
      "TPU available: False, using: 0 TPU cores\n",
      "HPU available: False, using: 0 HPUs\n",
      "LOCAL_RANK: 0 - CUDA_VISIBLE_DEVICES: [0]\n"
     ]
    },
    {
     "name": "stdout",
     "output_type": "stream",
     "text": [
      "SMAPE fold 2: 58.295875995672624\n",
      "Média dos SMAPE nos folds: 73.20499319083841\n",
      "Results of trial 16 saved in optuna_iteration_metrics/trial_16.json\n",
      "Current value: 73.20499319083841, Current params: {'input_chunk_length': 48, 'hidden_size': 216, 'layer_size': 2, 'dropout': 0.2, 'batch_size': 64, 'lr': 0.0005548442579208637, 'weight_decay': 0.00878671173053707}\n",
      "Best value: 56.746995125078605, Best params: {'input_chunk_length': 72, 'hidden_size': 192, 'layer_size': 2, 'dropout': 0.1, 'batch_size': 120, 'lr': 0.0015946669352095357, 'weight_decay': 1.4990212709784245e-06}\n",
      "\n",
      "Fold 1/3\n"
     ]
    },
    {
     "name": "stderr",
     "output_type": "stream",
     "text": [
      "[I 2025-06-10 22:36:32,642] Trial 17 pruned. Trial was pruned at epoch 0.\n",
      "Specified future encoders in `add_encoders` at model creation but model does not accept future covariates. future encoders will be ignored.\n",
      "GPU available: True (cuda), used: True\n",
      "TPU available: False, using: 0 TPU cores\n",
      "HPU available: False, using: 0 HPUs\n",
      "LOCAL_RANK: 0 - CUDA_VISIBLE_DEVICES: [0]\n"
     ]
    },
    {
     "name": "stdout",
     "output_type": "stream",
     "text": [
      "Current value: 13.16310681461087, Current params: {'input_chunk_length': 168, 'hidden_size': 160, 'layer_size': 2, 'dropout': 0.15000000000000002, 'batch_size': 160, 'lr': 0.00013463628537500644, 'weight_decay': 3.229889704565527e-06}\n",
      "Best value: 56.746995125078605, Best params: {'input_chunk_length': 72, 'hidden_size': 192, 'layer_size': 2, 'dropout': 0.1, 'batch_size': 120, 'lr': 0.0015946669352095357, 'weight_decay': 1.4990212709784245e-06}\n",
      "\n",
      "Fold 1/3\n"
     ]
    },
    {
     "name": "stderr",
     "output_type": "stream",
     "text": [
      "[I 2025-06-10 22:36:35,858] Trial 18 pruned. Trial was pruned at epoch 0.\n",
      "Specified future encoders in `add_encoders` at model creation but model does not accept future covariates. future encoders will be ignored.\n",
      "GPU available: True (cuda), used: True\n",
      "TPU available: False, using: 0 TPU cores\n",
      "HPU available: False, using: 0 HPUs\n",
      "LOCAL_RANK: 0 - CUDA_VISIBLE_DEVICES: [0]\n"
     ]
    },
    {
     "name": "stdout",
     "output_type": "stream",
     "text": [
      "Current value: 12.853219498605057, Current params: {'input_chunk_length': 120, 'hidden_size': 40, 'layer_size': 3, 'dropout': 0.25, 'batch_size': 120, 'lr': 2.22640070017654e-05, 'weight_decay': 1.9010589743789677e-05}\n",
      "Best value: 56.746995125078605, Best params: {'input_chunk_length': 72, 'hidden_size': 192, 'layer_size': 2, 'dropout': 0.1, 'batch_size': 120, 'lr': 0.0015946669352095357, 'weight_decay': 1.4990212709784245e-06}\n",
      "\n",
      "Fold 1/3\n"
     ]
    },
    {
     "name": "stderr",
     "output_type": "stream",
     "text": [
      "Metric val_loss improved. New best score: 12.381\n",
      "Monitored metric val_loss did not improve in the last 15 records. Best score: 12.381. Signaling Trainer to stop.\n",
      "GPU available: True (cuda), used: True\n",
      "TPU available: False, using: 0 TPU cores\n",
      "HPU available: False, using: 0 HPUs\n",
      "LOCAL_RANK: 0 - CUDA_VISIBLE_DEVICES: [0]\n"
     ]
    },
    {
     "name": "stdout",
     "output_type": "stream",
     "text": [
      "Model loaded from checkpoint for trial 19, fold 0\n"
     ]
    },
    {
     "name": "stderr",
     "output_type": "stream",
     "text": [
      "Specified future encoders in `add_encoders` at model creation but model does not accept future covariates. future encoders will be ignored.\n",
      "GPU available: True (cuda), used: True\n",
      "TPU available: False, using: 0 TPU cores\n",
      "HPU available: False, using: 0 HPUs\n",
      "LOCAL_RANK: 0 - CUDA_VISIBLE_DEVICES: [0]\n"
     ]
    },
    {
     "name": "stdout",
     "output_type": "stream",
     "text": [
      "SMAPE fold 0: 90.50149268494269\n",
      "\n",
      "Fold 2/3\n"
     ]
    },
    {
     "name": "stderr",
     "output_type": "stream",
     "text": [
      "/home/eduardo/Documentos/Water-Cycle-Neural-Network/venv/lib/python3.12/site-packages/optuna/trial/_trial.py:497: UserWarning: The reported value is ignored because this `step` 0 is already reported.\n",
      "  warnings.warn(\n",
      "Metric val_loss improved by 12.258 >= min_delta = 0.0005. New best score: 0.122\n",
      "/home/eduardo/Documentos/Water-Cycle-Neural-Network/venv/lib/python3.12/site-packages/optuna/trial/_trial.py:497: UserWarning: The reported value is ignored because this `step` 1 is already reported.\n",
      "  warnings.warn(\n",
      "Metric val_loss improved by 0.074 >= min_delta = 0.0005. New best score: 0.049\n",
      "/home/eduardo/Documentos/Water-Cycle-Neural-Network/venv/lib/python3.12/site-packages/optuna/trial/_trial.py:497: UserWarning: The reported value is ignored because this `step` 2 is already reported.\n",
      "  warnings.warn(\n",
      "Metric val_loss improved by 0.010 >= min_delta = 0.0005. New best score: 0.039\n",
      "/home/eduardo/Documentos/Water-Cycle-Neural-Network/venv/lib/python3.12/site-packages/optuna/trial/_trial.py:497: UserWarning: The reported value is ignored because this `step` 3 is already reported.\n",
      "  warnings.warn(\n",
      "/home/eduardo/Documentos/Water-Cycle-Neural-Network/venv/lib/python3.12/site-packages/optuna/trial/_trial.py:497: UserWarning: The reported value is ignored because this `step` 4 is already reported.\n",
      "  warnings.warn(\n",
      "/home/eduardo/Documentos/Water-Cycle-Neural-Network/venv/lib/python3.12/site-packages/optuna/trial/_trial.py:497: UserWarning: The reported value is ignored because this `step` 5 is already reported.\n",
      "  warnings.warn(\n",
      "Metric val_loss improved by 0.008 >= min_delta = 0.0005. New best score: 0.031\n",
      "/home/eduardo/Documentos/Water-Cycle-Neural-Network/venv/lib/python3.12/site-packages/optuna/trial/_trial.py:497: UserWarning: The reported value is ignored because this `step` 6 is already reported.\n",
      "  warnings.warn(\n",
      "/home/eduardo/Documentos/Water-Cycle-Neural-Network/venv/lib/python3.12/site-packages/optuna/trial/_trial.py:497: UserWarning: The reported value is ignored because this `step` 7 is already reported.\n",
      "  warnings.warn(\n",
      "/home/eduardo/Documentos/Water-Cycle-Neural-Network/venv/lib/python3.12/site-packages/optuna/trial/_trial.py:497: UserWarning: The reported value is ignored because this `step` 8 is already reported.\n",
      "  warnings.warn(\n",
      "/home/eduardo/Documentos/Water-Cycle-Neural-Network/venv/lib/python3.12/site-packages/optuna/trial/_trial.py:497: UserWarning: The reported value is ignored because this `step` 9 is already reported.\n",
      "  warnings.warn(\n",
      "/home/eduardo/Documentos/Water-Cycle-Neural-Network/venv/lib/python3.12/site-packages/optuna/trial/_trial.py:497: UserWarning: The reported value is ignored because this `step` 10 is already reported.\n",
      "  warnings.warn(\n",
      "/home/eduardo/Documentos/Water-Cycle-Neural-Network/venv/lib/python3.12/site-packages/optuna/trial/_trial.py:497: UserWarning: The reported value is ignored because this `step` 11 is already reported.\n",
      "  warnings.warn(\n",
      "/home/eduardo/Documentos/Water-Cycle-Neural-Network/venv/lib/python3.12/site-packages/optuna/trial/_trial.py:497: UserWarning: The reported value is ignored because this `step` 12 is already reported.\n",
      "  warnings.warn(\n",
      "/home/eduardo/Documentos/Water-Cycle-Neural-Network/venv/lib/python3.12/site-packages/optuna/trial/_trial.py:497: UserWarning: The reported value is ignored because this `step` 13 is already reported.\n",
      "  warnings.warn(\n",
      "/home/eduardo/Documentos/Water-Cycle-Neural-Network/venv/lib/python3.12/site-packages/optuna/trial/_trial.py:497: UserWarning: The reported value is ignored because this `step` 14 is already reported.\n",
      "  warnings.warn(\n",
      "/home/eduardo/Documentos/Water-Cycle-Neural-Network/venv/lib/python3.12/site-packages/optuna/trial/_trial.py:497: UserWarning: The reported value is ignored because this `step` 15 is already reported.\n",
      "  warnings.warn(\n",
      "Monitored metric val_loss did not improve in the last 15 records. Best score: 0.031. Signaling Trainer to stop.\n",
      "GPU available: True (cuda), used: True\n",
      "TPU available: False, using: 0 TPU cores\n",
      "HPU available: False, using: 0 HPUs\n",
      "LOCAL_RANK: 0 - CUDA_VISIBLE_DEVICES: [0]\n"
     ]
    },
    {
     "name": "stdout",
     "output_type": "stream",
     "text": [
      "Model loaded from checkpoint for trial 19, fold 1\n"
     ]
    },
    {
     "name": "stderr",
     "output_type": "stream",
     "text": [
      "Specified future encoders in `add_encoders` at model creation but model does not accept future covariates. future encoders will be ignored.\n",
      "GPU available: True (cuda), used: True\n",
      "TPU available: False, using: 0 TPU cores\n",
      "HPU available: False, using: 0 HPUs\n",
      "LOCAL_RANK: 0 - CUDA_VISIBLE_DEVICES: [0]\n"
     ]
    },
    {
     "name": "stdout",
     "output_type": "stream",
     "text": [
      "SMAPE fold 1: 24.861999732346394\n",
      "\n",
      "Fold 3/3\n"
     ]
    },
    {
     "name": "stderr",
     "output_type": "stream",
     "text": [
      "/home/eduardo/Documentos/Water-Cycle-Neural-Network/venv/lib/python3.12/site-packages/optuna/trial/_trial.py:497: UserWarning: The reported value is ignored because this `step` 0 is already reported.\n",
      "  warnings.warn(\n",
      "Monitored metric val_loss did not improve in the last 16 records. Best score: 0.031. Signaling Trainer to stop.\n",
      "GPU available: True (cuda), used: True\n",
      "TPU available: False, using: 0 TPU cores\n",
      "HPU available: False, using: 0 HPUs\n",
      "LOCAL_RANK: 0 - CUDA_VISIBLE_DEVICES: [0]\n"
     ]
    },
    {
     "name": "stdout",
     "output_type": "stream",
     "text": [
      "Model loaded from checkpoint for trial 19, fold 2\n"
     ]
    },
    {
     "name": "stderr",
     "output_type": "stream",
     "text": [
      "[I 2025-06-10 22:41:36,841] Trial 19 finished with value: 55.19662140548929 and parameters: {'input_chunk_length': 72, 'hidden_size': 224, 'layer_size': 3, 'dropout': 0.2, 'batch_size': 96, 'lr': 0.001210853477491263, 'weight_decay': 3.398501349467249e-06}. Best is trial 19 with value: 55.19662140548929.\n",
      "Specified future encoders in `add_encoders` at model creation but model does not accept future covariates. future encoders will be ignored.\n",
      "GPU available: True (cuda), used: True\n",
      "TPU available: False, using: 0 TPU cores\n",
      "HPU available: False, using: 0 HPUs\n",
      "LOCAL_RANK: 0 - CUDA_VISIBLE_DEVICES: [0]\n"
     ]
    },
    {
     "name": "stdout",
     "output_type": "stream",
     "text": [
      "SMAPE fold 2: 50.226371799178786\n",
      "Média dos SMAPE nos folds: 55.19662140548929\n",
      "Results of trial 19 saved in optuna_iteration_metrics/trial_19.json\n",
      "Current value: 55.19662140548929, Current params: {'input_chunk_length': 72, 'hidden_size': 224, 'layer_size': 3, 'dropout': 0.2, 'batch_size': 96, 'lr': 0.001210853477491263, 'weight_decay': 3.398501349467249e-06}\n",
      "Best value: 55.19662140548929, Best params: {'input_chunk_length': 72, 'hidden_size': 224, 'layer_size': 3, 'dropout': 0.2, 'batch_size': 96, 'lr': 0.001210853477491263, 'weight_decay': 3.398501349467249e-06}\n",
      "\n",
      "Fold 1/3\n"
     ]
    },
    {
     "name": "stderr",
     "output_type": "stream",
     "text": [
      "[I 2025-06-10 22:41:40,922] Trial 20 pruned. Trial was pruned at epoch 0.\n",
      "Specified future encoders in `add_encoders` at model creation but model does not accept future covariates. future encoders will be ignored.\n",
      "GPU available: True (cuda), used: True\n",
      "TPU available: False, using: 0 TPU cores\n",
      "HPU available: False, using: 0 HPUs\n",
      "LOCAL_RANK: 0 - CUDA_VISIBLE_DEVICES: [0]\n"
     ]
    },
    {
     "name": "stdout",
     "output_type": "stream",
     "text": [
      "Current value: 12.770400018639226, Current params: {'input_chunk_length': 132, 'hidden_size': 176, 'layer_size': 2, 'dropout': 0.2, 'batch_size': 88, 'lr': 0.001418479382217723, 'weight_decay': 2.268383647454713e-06}\n",
      "Best value: 55.19662140548929, Best params: {'input_chunk_length': 72, 'hidden_size': 224, 'layer_size': 3, 'dropout': 0.2, 'batch_size': 96, 'lr': 0.001210853477491263, 'weight_decay': 3.398501349467249e-06}\n",
      "\n",
      "Fold 1/3\n"
     ]
    },
    {
     "name": "stderr",
     "output_type": "stream",
     "text": [
      "Metric val_loss improved. New best score: 12.354\n",
      "Metric val_loss improved by 0.047 >= min_delta = 0.0005. New best score: 12.307\n",
      "Monitored metric val_loss did not improve in the last 15 records. Best score: 12.307. Signaling Trainer to stop.\n",
      "GPU available: True (cuda), used: True\n",
      "TPU available: False, using: 0 TPU cores\n",
      "HPU available: False, using: 0 HPUs\n",
      "LOCAL_RANK: 0 - CUDA_VISIBLE_DEVICES: [0]\n"
     ]
    },
    {
     "name": "stdout",
     "output_type": "stream",
     "text": [
      "Model loaded from checkpoint for trial 21, fold 0\n"
     ]
    },
    {
     "name": "stderr",
     "output_type": "stream",
     "text": [
      "Specified future encoders in `add_encoders` at model creation but model does not accept future covariates. future encoders will be ignored.\n",
      "GPU available: True (cuda), used: True\n",
      "TPU available: False, using: 0 TPU cores\n",
      "HPU available: False, using: 0 HPUs\n",
      "LOCAL_RANK: 0 - CUDA_VISIBLE_DEVICES: [0]\n"
     ]
    },
    {
     "name": "stdout",
     "output_type": "stream",
     "text": [
      "SMAPE fold 0: 97.74418675917086\n",
      "\n",
      "Fold 2/3\n"
     ]
    },
    {
     "name": "stderr",
     "output_type": "stream",
     "text": [
      "/home/eduardo/Documentos/Water-Cycle-Neural-Network/venv/lib/python3.12/site-packages/optuna/trial/_trial.py:497: UserWarning: The reported value is ignored because this `step` 0 is already reported.\n",
      "  warnings.warn(\n",
      "Metric val_loss improved by 12.211 >= min_delta = 0.0005. New best score: 0.096\n",
      "/home/eduardo/Documentos/Water-Cycle-Neural-Network/venv/lib/python3.12/site-packages/optuna/trial/_trial.py:497: UserWarning: The reported value is ignored because this `step` 1 is already reported.\n",
      "  warnings.warn(\n",
      "Metric val_loss improved by 0.038 >= min_delta = 0.0005. New best score: 0.058\n",
      "/home/eduardo/Documentos/Water-Cycle-Neural-Network/venv/lib/python3.12/site-packages/optuna/trial/_trial.py:497: UserWarning: The reported value is ignored because this `step` 2 is already reported.\n",
      "  warnings.warn(\n",
      "Metric val_loss improved by 0.021 >= min_delta = 0.0005. New best score: 0.037\n",
      "/home/eduardo/Documentos/Water-Cycle-Neural-Network/venv/lib/python3.12/site-packages/optuna/trial/_trial.py:497: UserWarning: The reported value is ignored because this `step` 3 is already reported.\n",
      "  warnings.warn(\n",
      "/home/eduardo/Documentos/Water-Cycle-Neural-Network/venv/lib/python3.12/site-packages/optuna/trial/_trial.py:497: UserWarning: The reported value is ignored because this `step` 4 is already reported.\n",
      "  warnings.warn(\n",
      "/home/eduardo/Documentos/Water-Cycle-Neural-Network/venv/lib/python3.12/site-packages/optuna/trial/_trial.py:497: UserWarning: The reported value is ignored because this `step` 5 is already reported.\n",
      "  warnings.warn(\n",
      "/home/eduardo/Documentos/Water-Cycle-Neural-Network/venv/lib/python3.12/site-packages/optuna/trial/_trial.py:497: UserWarning: The reported value is ignored because this `step` 6 is already reported.\n",
      "  warnings.warn(\n",
      "/home/eduardo/Documentos/Water-Cycle-Neural-Network/venv/lib/python3.12/site-packages/optuna/trial/_trial.py:497: UserWarning: The reported value is ignored because this `step` 7 is already reported.\n",
      "  warnings.warn(\n",
      "/home/eduardo/Documentos/Water-Cycle-Neural-Network/venv/lib/python3.12/site-packages/optuna/trial/_trial.py:497: UserWarning: The reported value is ignored because this `step` 8 is already reported.\n",
      "  warnings.warn(\n",
      "/home/eduardo/Documentos/Water-Cycle-Neural-Network/venv/lib/python3.12/site-packages/optuna/trial/_trial.py:497: UserWarning: The reported value is ignored because this `step` 9 is already reported.\n",
      "  warnings.warn(\n",
      "/home/eduardo/Documentos/Water-Cycle-Neural-Network/venv/lib/python3.12/site-packages/optuna/trial/_trial.py:497: UserWarning: The reported value is ignored because this `step` 10 is already reported.\n",
      "  warnings.warn(\n",
      "/home/eduardo/Documentos/Water-Cycle-Neural-Network/venv/lib/python3.12/site-packages/optuna/trial/_trial.py:497: UserWarning: The reported value is ignored because this `step` 11 is already reported.\n",
      "  warnings.warn(\n",
      "/home/eduardo/Documentos/Water-Cycle-Neural-Network/venv/lib/python3.12/site-packages/optuna/trial/_trial.py:497: UserWarning: The reported value is ignored because this `step` 12 is already reported.\n",
      "  warnings.warn(\n",
      "/home/eduardo/Documentos/Water-Cycle-Neural-Network/venv/lib/python3.12/site-packages/optuna/trial/_trial.py:497: UserWarning: The reported value is ignored because this `step` 13 is already reported.\n",
      "  warnings.warn(\n",
      "/home/eduardo/Documentos/Water-Cycle-Neural-Network/venv/lib/python3.12/site-packages/optuna/trial/_trial.py:497: UserWarning: The reported value is ignored because this `step` 14 is already reported.\n",
      "  warnings.warn(\n",
      "/home/eduardo/Documentos/Water-Cycle-Neural-Network/venv/lib/python3.12/site-packages/optuna/trial/_trial.py:497: UserWarning: The reported value is ignored because this `step` 15 is already reported.\n",
      "  warnings.warn(\n",
      "/home/eduardo/Documentos/Water-Cycle-Neural-Network/venv/lib/python3.12/site-packages/optuna/trial/_trial.py:497: UserWarning: The reported value is ignored because this `step` 16 is already reported.\n",
      "  warnings.warn(\n",
      "Monitored metric val_loss did not improve in the last 15 records. Best score: 0.037. Signaling Trainer to stop.\n",
      "GPU available: True (cuda), used: True\n",
      "TPU available: False, using: 0 TPU cores\n",
      "HPU available: False, using: 0 HPUs\n",
      "LOCAL_RANK: 0 - CUDA_VISIBLE_DEVICES: [0]\n"
     ]
    },
    {
     "name": "stdout",
     "output_type": "stream",
     "text": [
      "Model loaded from checkpoint for trial 21, fold 1\n"
     ]
    },
    {
     "name": "stderr",
     "output_type": "stream",
     "text": [
      "Specified future encoders in `add_encoders` at model creation but model does not accept future covariates. future encoders will be ignored.\n",
      "GPU available: True (cuda), used: True\n",
      "TPU available: False, using: 0 TPU cores\n",
      "HPU available: False, using: 0 HPUs\n",
      "LOCAL_RANK: 0 - CUDA_VISIBLE_DEVICES: [0]\n"
     ]
    },
    {
     "name": "stdout",
     "output_type": "stream",
     "text": [
      "SMAPE fold 1: 29.64798156042614\n",
      "\n",
      "Fold 3/3\n"
     ]
    },
    {
     "name": "stderr",
     "output_type": "stream",
     "text": [
      "/home/eduardo/Documentos/Water-Cycle-Neural-Network/venv/lib/python3.12/site-packages/optuna/trial/_trial.py:497: UserWarning: The reported value is ignored because this `step` 0 is already reported.\n",
      "  warnings.warn(\n",
      "Monitored metric val_loss did not improve in the last 16 records. Best score: 0.037. Signaling Trainer to stop.\n",
      "GPU available: True (cuda), used: True\n",
      "TPU available: False, using: 0 TPU cores\n",
      "HPU available: False, using: 0 HPUs\n",
      "LOCAL_RANK: 0 - CUDA_VISIBLE_DEVICES: [0]\n"
     ]
    },
    {
     "name": "stdout",
     "output_type": "stream",
     "text": [
      "Model loaded from checkpoint for trial 21, fold 2\n"
     ]
    },
    {
     "name": "stderr",
     "output_type": "stream",
     "text": [
      "[I 2025-06-10 22:45:20,723] Trial 21 finished with value: 59.11453690892256 and parameters: {'input_chunk_length': 72, 'hidden_size': 224, 'layer_size': 3, 'dropout': 0.1, 'batch_size': 120, 'lr': 0.00484079818072818, 'weight_decay': 3.0849374597840767e-06}. Best is trial 19 with value: 55.19662140548929.\n",
      "Specified future encoders in `add_encoders` at model creation but model does not accept future covariates. future encoders will be ignored.\n",
      "GPU available: True (cuda), used: True\n",
      "TPU available: False, using: 0 TPU cores\n",
      "HPU available: False, using: 0 HPUs\n",
      "LOCAL_RANK: 0 - CUDA_VISIBLE_DEVICES: [0]\n"
     ]
    },
    {
     "name": "stdout",
     "output_type": "stream",
     "text": [
      "SMAPE fold 2: 49.95144240717066\n",
      "Média dos SMAPE nos folds: 59.11453690892256\n",
      "Results of trial 21 saved in optuna_iteration_metrics/trial_21.json\n",
      "Current value: 59.11453690892256, Current params: {'input_chunk_length': 72, 'hidden_size': 224, 'layer_size': 3, 'dropout': 0.1, 'batch_size': 120, 'lr': 0.00484079818072818, 'weight_decay': 3.0849374597840767e-06}\n",
      "Best value: 55.19662140548929, Best params: {'input_chunk_length': 72, 'hidden_size': 224, 'layer_size': 3, 'dropout': 0.2, 'batch_size': 96, 'lr': 0.001210853477491263, 'weight_decay': 3.398501349467249e-06}\n",
      "\n",
      "Fold 1/3\n"
     ]
    },
    {
     "name": "stderr",
     "output_type": "stream",
     "text": [
      "Metric val_loss improved. New best score: 12.356\n",
      "Metric val_loss improved by 0.028 >= min_delta = 0.0005. New best score: 12.328\n",
      "[I 2025-06-10 22:46:18,682] Trial 22 pruned. Trial was pruned at epoch 17.\n",
      "Specified future encoders in `add_encoders` at model creation but model does not accept future covariates. future encoders will be ignored.\n",
      "GPU available: True (cuda), used: True\n",
      "TPU available: False, using: 0 TPU cores\n",
      "HPU available: False, using: 0 HPUs\n",
      "LOCAL_RANK: 0 - CUDA_VISIBLE_DEVICES: [0]\n"
     ]
    },
    {
     "name": "stdout",
     "output_type": "stream",
     "text": [
      "Current value: 12.398698551067003, Current params: {'input_chunk_length': 72, 'hidden_size': 216, 'layer_size': 3, 'dropout': 0.15000000000000002, 'batch_size': 144, 'lr': 0.00443693303898011, 'weight_decay': 1.6603462596923282e-05}\n",
      "Best value: 55.19662140548929, Best params: {'input_chunk_length': 72, 'hidden_size': 224, 'layer_size': 3, 'dropout': 0.2, 'batch_size': 96, 'lr': 0.001210853477491263, 'weight_decay': 3.398501349467249e-06}\n",
      "\n",
      "Fold 1/3\n"
     ]
    },
    {
     "name": "stderr",
     "output_type": "stream",
     "text": [
      "[I 2025-06-10 22:46:23,370] Trial 23 pruned. Trial was pruned at epoch 0.\n",
      "Specified future encoders in `add_encoders` at model creation but model does not accept future covariates. future encoders will be ignored.\n",
      "GPU available: True (cuda), used: True\n",
      "TPU available: False, using: 0 TPU cores\n",
      "HPU available: False, using: 0 HPUs\n",
      "LOCAL_RANK: 0 - CUDA_VISIBLE_DEVICES: [0]\n"
     ]
    },
    {
     "name": "stdout",
     "output_type": "stream",
     "text": [
      "Current value: 12.440681404805606, Current params: {'input_chunk_length': 84, 'hidden_size': 216, 'layer_size': 3, 'dropout': 0.2, 'batch_size': 120, 'lr': 0.0015426122128066704, 'weight_decay': 1.657109442404781e-06}\n",
      "Best value: 55.19662140548929, Best params: {'input_chunk_length': 72, 'hidden_size': 224, 'layer_size': 3, 'dropout': 0.2, 'batch_size': 96, 'lr': 0.001210853477491263, 'weight_decay': 3.398501349467249e-06}\n",
      "\n",
      "Fold 1/3\n"
     ]
    },
    {
     "name": "stderr",
     "output_type": "stream",
     "text": [
      "Metric val_loss improved. New best score: 12.180\n",
      "Metric val_loss improved by 0.056 >= min_delta = 0.0005. New best score: 12.124\n",
      "Metric val_loss improved by 0.001 >= min_delta = 0.0005. New best score: 12.123\n",
      "Metric val_loss improved by 0.007 >= min_delta = 0.0005. New best score: 12.115\n",
      "Metric val_loss improved by 0.005 >= min_delta = 0.0005. New best score: 12.111\n",
      "Metric val_loss improved by 0.001 >= min_delta = 0.0005. New best score: 12.110\n",
      "[I 2025-06-10 22:49:30,330] Trial 24 pruned. Trial was pruned at epoch 28.\n",
      "Specified future encoders in `add_encoders` at model creation but model does not accept future covariates. future encoders will be ignored.\n",
      "GPU available: True (cuda), used: True\n",
      "TPU available: False, using: 0 TPU cores\n",
      "HPU available: False, using: 0 HPUs\n",
      "LOCAL_RANK: 0 - CUDA_VISIBLE_DEVICES: [0]\n"
     ]
    },
    {
     "name": "stdout",
     "output_type": "stream",
     "text": [
      "Current value: 12.12008251582232, Current params: {'input_chunk_length': 36, 'hidden_size': 232, 'layer_size': 3, 'dropout': 0.15000000000000002, 'batch_size': 88, 'lr': 0.0005463937445142354, 'weight_decay': 4.429957946201667e-06}\n",
      "Best value: 55.19662140548929, Best params: {'input_chunk_length': 72, 'hidden_size': 224, 'layer_size': 3, 'dropout': 0.2, 'batch_size': 96, 'lr': 0.001210853477491263, 'weight_decay': 3.398501349467249e-06}\n",
      "\n",
      "Fold 1/3\n"
     ]
    },
    {
     "name": "stderr",
     "output_type": "stream",
     "text": [
      "[I 2025-06-10 22:49:34,114] Trial 25 pruned. Trial was pruned at epoch 0.\n",
      "Specified future encoders in `add_encoders` at model creation but model does not accept future covariates. future encoders will be ignored.\n",
      "GPU available: True (cuda), used: True\n",
      "TPU available: False, using: 0 TPU cores\n",
      "HPU available: False, using: 0 HPUs\n",
      "LOCAL_RANK: 0 - CUDA_VISIBLE_DEVICES: [0]\n"
     ]
    },
    {
     "name": "stdout",
     "output_type": "stream",
     "text": [
      "Current value: 12.608446509263391, Current params: {'input_chunk_length': 108, 'hidden_size': 200, 'layer_size': 2, 'dropout': 0.1, 'batch_size': 160, 'lr': 0.002469107671076344, 'weight_decay': 1.1919614236887294e-05}\n",
      "Best value: 55.19662140548929, Best params: {'input_chunk_length': 72, 'hidden_size': 224, 'layer_size': 3, 'dropout': 0.2, 'batch_size': 96, 'lr': 0.001210853477491263, 'weight_decay': 3.398501349467249e-06}\n",
      "\n",
      "Fold 1/3\n"
     ]
    },
    {
     "name": "stderr",
     "output_type": "stream",
     "text": [
      "Metric val_loss improved. New best score: 12.404\n",
      "Metric val_loss improved by 0.063 >= min_delta = 0.0005. New best score: 12.341\n",
      "Metric val_loss improved by 0.015 >= min_delta = 0.0005. New best score: 12.326\n",
      "Metric val_loss improved by 0.076 >= min_delta = 0.0005. New best score: 12.250\n",
      "Monitored metric val_loss did not improve in the last 15 records. Best score: 12.250. Signaling Trainer to stop.\n",
      "GPU available: True (cuda), used: True\n",
      "TPU available: False, using: 0 TPU cores\n",
      "HPU available: False, using: 0 HPUs\n",
      "LOCAL_RANK: 0 - CUDA_VISIBLE_DEVICES: [0]\n"
     ]
    },
    {
     "name": "stdout",
     "output_type": "stream",
     "text": [
      "Model loaded from checkpoint for trial 26, fold 0\n"
     ]
    },
    {
     "name": "stderr",
     "output_type": "stream",
     "text": [
      "Specified future encoders in `add_encoders` at model creation but model does not accept future covariates. future encoders will be ignored.\n",
      "GPU available: True (cuda), used: True\n",
      "TPU available: False, using: 0 TPU cores\n",
      "HPU available: False, using: 0 HPUs\n",
      "LOCAL_RANK: 0 - CUDA_VISIBLE_DEVICES: [0]\n"
     ]
    },
    {
     "name": "stdout",
     "output_type": "stream",
     "text": [
      "SMAPE fold 0: 84.73905896106902\n",
      "\n",
      "Fold 2/3\n"
     ]
    },
    {
     "name": "stderr",
     "output_type": "stream",
     "text": [
      "/home/eduardo/Documentos/Water-Cycle-Neural-Network/venv/lib/python3.12/site-packages/optuna/trial/_trial.py:497: UserWarning: The reported value is ignored because this `step` 0 is already reported.\n",
      "  warnings.warn(\n",
      "Metric val_loss improved by 12.151 >= min_delta = 0.0005. New best score: 0.099\n",
      "/home/eduardo/Documentos/Water-Cycle-Neural-Network/venv/lib/python3.12/site-packages/optuna/trial/_trial.py:497: UserWarning: The reported value is ignored because this `step` 1 is already reported.\n",
      "  warnings.warn(\n",
      "Metric val_loss improved by 0.046 >= min_delta = 0.0005. New best score: 0.054\n",
      "/home/eduardo/Documentos/Water-Cycle-Neural-Network/venv/lib/python3.12/site-packages/optuna/trial/_trial.py:497: UserWarning: The reported value is ignored because this `step` 2 is already reported.\n",
      "  warnings.warn(\n",
      "Metric val_loss improved by 0.014 >= min_delta = 0.0005. New best score: 0.039\n",
      "/home/eduardo/Documentos/Water-Cycle-Neural-Network/venv/lib/python3.12/site-packages/optuna/trial/_trial.py:497: UserWarning: The reported value is ignored because this `step` 3 is already reported.\n",
      "  warnings.warn(\n",
      "Metric val_loss improved by 0.002 >= min_delta = 0.0005. New best score: 0.038\n",
      "/home/eduardo/Documentos/Water-Cycle-Neural-Network/venv/lib/python3.12/site-packages/optuna/trial/_trial.py:497: UserWarning: The reported value is ignored because this `step` 4 is already reported.\n",
      "  warnings.warn(\n",
      "/home/eduardo/Documentos/Water-Cycle-Neural-Network/venv/lib/python3.12/site-packages/optuna/trial/_trial.py:497: UserWarning: The reported value is ignored because this `step` 5 is already reported.\n",
      "  warnings.warn(\n",
      "/home/eduardo/Documentos/Water-Cycle-Neural-Network/venv/lib/python3.12/site-packages/optuna/trial/_trial.py:497: UserWarning: The reported value is ignored because this `step` 6 is already reported.\n",
      "  warnings.warn(\n",
      "/home/eduardo/Documentos/Water-Cycle-Neural-Network/venv/lib/python3.12/site-packages/optuna/trial/_trial.py:497: UserWarning: The reported value is ignored because this `step` 7 is already reported.\n",
      "  warnings.warn(\n",
      "/home/eduardo/Documentos/Water-Cycle-Neural-Network/venv/lib/python3.12/site-packages/optuna/trial/_trial.py:497: UserWarning: The reported value is ignored because this `step` 8 is already reported.\n",
      "  warnings.warn(\n",
      "/home/eduardo/Documentos/Water-Cycle-Neural-Network/venv/lib/python3.12/site-packages/optuna/trial/_trial.py:497: UserWarning: The reported value is ignored because this `step` 9 is already reported.\n",
      "  warnings.warn(\n",
      "/home/eduardo/Documentos/Water-Cycle-Neural-Network/venv/lib/python3.12/site-packages/optuna/trial/_trial.py:497: UserWarning: The reported value is ignored because this `step` 10 is already reported.\n",
      "  warnings.warn(\n",
      "/home/eduardo/Documentos/Water-Cycle-Neural-Network/venv/lib/python3.12/site-packages/optuna/trial/_trial.py:497: UserWarning: The reported value is ignored because this `step` 11 is already reported.\n",
      "  warnings.warn(\n",
      "/home/eduardo/Documentos/Water-Cycle-Neural-Network/venv/lib/python3.12/site-packages/optuna/trial/_trial.py:497: UserWarning: The reported value is ignored because this `step` 12 is already reported.\n",
      "  warnings.warn(\n",
      "/home/eduardo/Documentos/Water-Cycle-Neural-Network/venv/lib/python3.12/site-packages/optuna/trial/_trial.py:497: UserWarning: The reported value is ignored because this `step` 13 is already reported.\n",
      "  warnings.warn(\n",
      "/home/eduardo/Documentos/Water-Cycle-Neural-Network/venv/lib/python3.12/site-packages/optuna/trial/_trial.py:497: UserWarning: The reported value is ignored because this `step` 14 is already reported.\n",
      "  warnings.warn(\n",
      "/home/eduardo/Documentos/Water-Cycle-Neural-Network/venv/lib/python3.12/site-packages/optuna/trial/_trial.py:497: UserWarning: The reported value is ignored because this `step` 15 is already reported.\n",
      "  warnings.warn(\n",
      "/home/eduardo/Documentos/Water-Cycle-Neural-Network/venv/lib/python3.12/site-packages/optuna/trial/_trial.py:497: UserWarning: The reported value is ignored because this `step` 16 is already reported.\n",
      "  warnings.warn(\n",
      "/home/eduardo/Documentos/Water-Cycle-Neural-Network/venv/lib/python3.12/site-packages/optuna/trial/_trial.py:497: UserWarning: The reported value is ignored because this `step` 17 is already reported.\n",
      "  warnings.warn(\n",
      "/home/eduardo/Documentos/Water-Cycle-Neural-Network/venv/lib/python3.12/site-packages/optuna/trial/_trial.py:497: UserWarning: The reported value is ignored because this `step` 18 is already reported.\n",
      "  warnings.warn(\n",
      "Monitored metric val_loss did not improve in the last 15 records. Best score: 0.038. Signaling Trainer to stop.\n",
      "GPU available: True (cuda), used: True\n",
      "TPU available: False, using: 0 TPU cores\n",
      "HPU available: False, using: 0 HPUs\n",
      "LOCAL_RANK: 0 - CUDA_VISIBLE_DEVICES: [0]\n"
     ]
    },
    {
     "name": "stdout",
     "output_type": "stream",
     "text": [
      "Model loaded from checkpoint for trial 26, fold 1\n"
     ]
    },
    {
     "name": "stderr",
     "output_type": "stream",
     "text": [
      "Specified future encoders in `add_encoders` at model creation but model does not accept future covariates. future encoders will be ignored.\n",
      "GPU available: True (cuda), used: True\n",
      "TPU available: False, using: 0 TPU cores\n",
      "HPU available: False, using: 0 HPUs\n",
      "LOCAL_RANK: 0 - CUDA_VISIBLE_DEVICES: [0]\n"
     ]
    },
    {
     "name": "stdout",
     "output_type": "stream",
     "text": [
      "SMAPE fold 1: 35.15562843266881\n",
      "\n",
      "Fold 3/3\n"
     ]
    },
    {
     "name": "stderr",
     "output_type": "stream",
     "text": [
      "/home/eduardo/Documentos/Water-Cycle-Neural-Network/venv/lib/python3.12/site-packages/optuna/trial/_trial.py:497: UserWarning: The reported value is ignored because this `step` 0 is already reported.\n",
      "  warnings.warn(\n",
      "Monitored metric val_loss did not improve in the last 16 records. Best score: 0.038. Signaling Trainer to stop.\n",
      "GPU available: True (cuda), used: True\n",
      "TPU available: False, using: 0 TPU cores\n",
      "HPU available: False, using: 0 HPUs\n",
      "LOCAL_RANK: 0 - CUDA_VISIBLE_DEVICES: [0]\n"
     ]
    },
    {
     "name": "stdout",
     "output_type": "stream",
     "text": [
      "Model loaded from checkpoint for trial 26, fold 2\n"
     ]
    },
    {
     "name": "stderr",
     "output_type": "stream",
     "text": [
      "[I 2025-06-10 22:53:59,418] Trial 26 finished with value: 58.18093818839615 and parameters: {'input_chunk_length': 84, 'hidden_size': 168, 'layer_size': 3, 'dropout': 0.30000000000000004, 'batch_size': 136, 'lr': 0.00466162780204402, 'weight_decay': 2.7637405986424516e-06}. Best is trial 19 with value: 55.19662140548929.\n",
      "Specified future encoders in `add_encoders` at model creation but model does not accept future covariates. future encoders will be ignored.\n",
      "GPU available: True (cuda), used: True\n",
      "TPU available: False, using: 0 TPU cores\n",
      "HPU available: False, using: 0 HPUs\n",
      "LOCAL_RANK: 0 - CUDA_VISIBLE_DEVICES: [0]\n"
     ]
    },
    {
     "name": "stdout",
     "output_type": "stream",
     "text": [
      "SMAPE fold 2: 54.64812717145062\n",
      "Média dos SMAPE nos folds: 58.18093818839615\n",
      "Results of trial 26 saved in optuna_iteration_metrics/trial_26.json\n",
      "Current value: 58.18093818839615, Current params: {'input_chunk_length': 84, 'hidden_size': 168, 'layer_size': 3, 'dropout': 0.30000000000000004, 'batch_size': 136, 'lr': 0.00466162780204402, 'weight_decay': 2.7637405986424516e-06}\n",
      "Best value: 55.19662140548929, Best params: {'input_chunk_length': 72, 'hidden_size': 224, 'layer_size': 3, 'dropout': 0.2, 'batch_size': 96, 'lr': 0.001210853477491263, 'weight_decay': 3.398501349467249e-06}\n",
      "\n",
      "Fold 1/3\n"
     ]
    },
    {
     "name": "stderr",
     "output_type": "stream",
     "text": [
      "[I 2025-06-10 22:54:02,474] Trial 27 pruned. Trial was pruned at epoch 0.\n",
      "Specified future encoders in `add_encoders` at model creation but model does not accept future covariates. future encoders will be ignored.\n"
     ]
    },
    {
     "name": "stdout",
     "output_type": "stream",
     "text": [
      "Current value: 12.476871134954436, Current params: {'input_chunk_length': 84, 'hidden_size': 168, 'layer_size': 2, 'dropout': 0.30000000000000004, 'batch_size': 184, 'lr': 0.000670338206849359, 'weight_decay': 2.830218649717694e-05}\n",
      "Best value: 55.19662140548929, Best params: {'input_chunk_length': 72, 'hidden_size': 224, 'layer_size': 3, 'dropout': 0.2, 'batch_size': 96, 'lr': 0.001210853477491263, 'weight_decay': 3.398501349467249e-06}\n",
      "\n",
      "Fold 1/3\n"
     ]
    },
    {
     "name": "stderr",
     "output_type": "stream",
     "text": [
      "GPU available: True (cuda), used: True\n",
      "TPU available: False, using: 0 TPU cores\n",
      "HPU available: False, using: 0 HPUs\n",
      "LOCAL_RANK: 0 - CUDA_VISIBLE_DEVICES: [0]\n",
      "Metric val_loss improved. New best score: 12.398\n",
      "Metric val_loss improved by 0.064 >= min_delta = 0.0005. New best score: 12.334\n",
      "Metric val_loss improved by 0.021 >= min_delta = 0.0005. New best score: 12.313\n",
      "Metric val_loss improved by 0.011 >= min_delta = 0.0005. New best score: 12.302\n",
      "Metric val_loss improved by 0.015 >= min_delta = 0.0005. New best score: 12.287\n",
      "Metric val_loss improved by 0.016 >= min_delta = 0.0005. New best score: 12.270\n",
      "Metric val_loss improved by 0.018 >= min_delta = 0.0005. New best score: 12.252\n",
      "Metric val_loss improved by 0.007 >= min_delta = 0.0005. New best score: 12.245\n",
      "Metric val_loss improved by 0.003 >= min_delta = 0.0005. New best score: 12.242\n",
      "Metric val_loss improved by 0.015 >= min_delta = 0.0005. New best score: 12.226\n",
      "Metric val_loss improved by 0.003 >= min_delta = 0.0005. New best score: 12.223\n",
      "Metric val_loss improved by 0.004 >= min_delta = 0.0005. New best score: 12.219\n",
      "Metric val_loss improved by 0.001 >= min_delta = 0.0005. New best score: 12.218\n",
      "Monitored metric val_loss did not improve in the last 15 records. Best score: 12.218. Signaling Trainer to stop.\n",
      "GPU available: True (cuda), used: True\n",
      "TPU available: False, using: 0 TPU cores\n",
      "HPU available: False, using: 0 HPUs\n",
      "LOCAL_RANK: 0 - CUDA_VISIBLE_DEVICES: [0]\n"
     ]
    },
    {
     "name": "stdout",
     "output_type": "stream",
     "text": [
      "Model loaded from checkpoint for trial 28, fold 0\n"
     ]
    },
    {
     "name": "stderr",
     "output_type": "stream",
     "text": [
      "Specified future encoders in `add_encoders` at model creation but model does not accept future covariates. future encoders will be ignored.\n",
      "GPU available: True (cuda), used: True\n",
      "TPU available: False, using: 0 TPU cores\n",
      "HPU available: False, using: 0 HPUs\n",
      "LOCAL_RANK: 0 - CUDA_VISIBLE_DEVICES: [0]\n"
     ]
    },
    {
     "name": "stdout",
     "output_type": "stream",
     "text": [
      "SMAPE fold 0: 85.609184328055\n",
      "\n",
      "Fold 2/3\n"
     ]
    },
    {
     "name": "stderr",
     "output_type": "stream",
     "text": [
      "/home/eduardo/Documentos/Water-Cycle-Neural-Network/venv/lib/python3.12/site-packages/optuna/trial/_trial.py:497: UserWarning: The reported value is ignored because this `step` 0 is already reported.\n",
      "  warnings.warn(\n",
      "Metric val_loss improved by 11.865 >= min_delta = 0.0005. New best score: 0.353\n",
      "/home/eduardo/Documentos/Water-Cycle-Neural-Network/venv/lib/python3.12/site-packages/optuna/trial/_trial.py:497: UserWarning: The reported value is ignored because this `step` 1 is already reported.\n",
      "  warnings.warn(\n",
      "Metric val_loss improved by 0.217 >= min_delta = 0.0005. New best score: 0.136\n",
      "/home/eduardo/Documentos/Water-Cycle-Neural-Network/venv/lib/python3.12/site-packages/optuna/trial/_trial.py:497: UserWarning: The reported value is ignored because this `step` 2 is already reported.\n",
      "  warnings.warn(\n",
      "Metric val_loss improved by 0.012 >= min_delta = 0.0005. New best score: 0.123\n",
      "/home/eduardo/Documentos/Water-Cycle-Neural-Network/venv/lib/python3.12/site-packages/optuna/trial/_trial.py:497: UserWarning: The reported value is ignored because this `step` 3 is already reported.\n",
      "  warnings.warn(\n",
      "Metric val_loss improved by 0.015 >= min_delta = 0.0005. New best score: 0.108\n",
      "/home/eduardo/Documentos/Water-Cycle-Neural-Network/venv/lib/python3.12/site-packages/optuna/trial/_trial.py:497: UserWarning: The reported value is ignored because this `step` 4 is already reported.\n",
      "  warnings.warn(\n",
      "Metric val_loss improved by 0.007 >= min_delta = 0.0005. New best score: 0.101\n",
      "/home/eduardo/Documentos/Water-Cycle-Neural-Network/venv/lib/python3.12/site-packages/optuna/trial/_trial.py:497: UserWarning: The reported value is ignored because this `step` 5 is already reported.\n",
      "  warnings.warn(\n",
      "Metric val_loss improved by 0.020 >= min_delta = 0.0005. New best score: 0.080\n",
      "/home/eduardo/Documentos/Water-Cycle-Neural-Network/venv/lib/python3.12/site-packages/optuna/trial/_trial.py:497: UserWarning: The reported value is ignored because this `step` 6 is already reported.\n",
      "  warnings.warn(\n",
      "Metric val_loss improved by 0.025 >= min_delta = 0.0005. New best score: 0.055\n",
      "/home/eduardo/Documentos/Water-Cycle-Neural-Network/venv/lib/python3.12/site-packages/optuna/trial/_trial.py:497: UserWarning: The reported value is ignored because this `step` 7 is already reported.\n",
      "  warnings.warn(\n",
      "Metric val_loss improved by 0.005 >= min_delta = 0.0005. New best score: 0.050\n",
      "/home/eduardo/Documentos/Water-Cycle-Neural-Network/venv/lib/python3.12/site-packages/optuna/trial/_trial.py:497: UserWarning: The reported value is ignored because this `step` 8 is already reported.\n",
      "  warnings.warn(\n",
      "Metric val_loss improved by 0.002 >= min_delta = 0.0005. New best score: 0.049\n",
      "/home/eduardo/Documentos/Water-Cycle-Neural-Network/venv/lib/python3.12/site-packages/optuna/trial/_trial.py:497: UserWarning: The reported value is ignored because this `step` 9 is already reported.\n",
      "  warnings.warn(\n",
      "/home/eduardo/Documentos/Water-Cycle-Neural-Network/venv/lib/python3.12/site-packages/optuna/trial/_trial.py:497: UserWarning: The reported value is ignored because this `step` 10 is already reported.\n",
      "  warnings.warn(\n",
      "Metric val_loss improved by 0.003 >= min_delta = 0.0005. New best score: 0.046\n",
      "/home/eduardo/Documentos/Water-Cycle-Neural-Network/venv/lib/python3.12/site-packages/optuna/trial/_trial.py:497: UserWarning: The reported value is ignored because this `step` 11 is already reported.\n",
      "  warnings.warn(\n",
      "Metric val_loss improved by 0.005 >= min_delta = 0.0005. New best score: 0.041\n",
      "/home/eduardo/Documentos/Water-Cycle-Neural-Network/venv/lib/python3.12/site-packages/optuna/trial/_trial.py:497: UserWarning: The reported value is ignored because this `step` 12 is already reported.\n",
      "  warnings.warn(\n",
      "/home/eduardo/Documentos/Water-Cycle-Neural-Network/venv/lib/python3.12/site-packages/optuna/trial/_trial.py:497: UserWarning: The reported value is ignored because this `step` 13 is already reported.\n",
      "  warnings.warn(\n",
      "/home/eduardo/Documentos/Water-Cycle-Neural-Network/venv/lib/python3.12/site-packages/optuna/trial/_trial.py:497: UserWarning: The reported value is ignored because this `step` 14 is already reported.\n",
      "  warnings.warn(\n",
      "/home/eduardo/Documentos/Water-Cycle-Neural-Network/venv/lib/python3.12/site-packages/optuna/trial/_trial.py:497: UserWarning: The reported value is ignored because this `step` 15 is already reported.\n",
      "  warnings.warn(\n",
      "/home/eduardo/Documentos/Water-Cycle-Neural-Network/venv/lib/python3.12/site-packages/optuna/trial/_trial.py:497: UserWarning: The reported value is ignored because this `step` 16 is already reported.\n",
      "  warnings.warn(\n",
      "/home/eduardo/Documentos/Water-Cycle-Neural-Network/venv/lib/python3.12/site-packages/optuna/trial/_trial.py:497: UserWarning: The reported value is ignored because this `step` 17 is already reported.\n",
      "  warnings.warn(\n",
      "/home/eduardo/Documentos/Water-Cycle-Neural-Network/venv/lib/python3.12/site-packages/optuna/trial/_trial.py:497: UserWarning: The reported value is ignored because this `step` 18 is already reported.\n",
      "  warnings.warn(\n",
      "/home/eduardo/Documentos/Water-Cycle-Neural-Network/venv/lib/python3.12/site-packages/optuna/trial/_trial.py:497: UserWarning: The reported value is ignored because this `step` 19 is already reported.\n",
      "  warnings.warn(\n",
      "/home/eduardo/Documentos/Water-Cycle-Neural-Network/venv/lib/python3.12/site-packages/optuna/trial/_trial.py:497: UserWarning: The reported value is ignored because this `step` 20 is already reported.\n",
      "  warnings.warn(\n",
      "/home/eduardo/Documentos/Water-Cycle-Neural-Network/venv/lib/python3.12/site-packages/optuna/trial/_trial.py:497: UserWarning: The reported value is ignored because this `step` 21 is already reported.\n",
      "  warnings.warn(\n",
      "/home/eduardo/Documentos/Water-Cycle-Neural-Network/venv/lib/python3.12/site-packages/optuna/trial/_trial.py:497: UserWarning: The reported value is ignored because this `step` 22 is already reported.\n",
      "  warnings.warn(\n",
      "/home/eduardo/Documentos/Water-Cycle-Neural-Network/venv/lib/python3.12/site-packages/optuna/trial/_trial.py:497: UserWarning: The reported value is ignored because this `step` 23 is already reported.\n",
      "  warnings.warn(\n",
      "/home/eduardo/Documentos/Water-Cycle-Neural-Network/venv/lib/python3.12/site-packages/optuna/trial/_trial.py:497: UserWarning: The reported value is ignored because this `step` 24 is already reported.\n",
      "  warnings.warn(\n",
      "/home/eduardo/Documentos/Water-Cycle-Neural-Network/venv/lib/python3.12/site-packages/optuna/trial/_trial.py:497: UserWarning: The reported value is ignored because this `step` 25 is already reported.\n",
      "  warnings.warn(\n",
      "/home/eduardo/Documentos/Water-Cycle-Neural-Network/venv/lib/python3.12/site-packages/optuna/trial/_trial.py:497: UserWarning: The reported value is ignored because this `step` 26 is already reported.\n",
      "  warnings.warn(\n",
      "Monitored metric val_loss did not improve in the last 15 records. Best score: 0.041. Signaling Trainer to stop.\n",
      "GPU available: True (cuda), used: True\n",
      "TPU available: False, using: 0 TPU cores\n",
      "HPU available: False, using: 0 HPUs\n",
      "LOCAL_RANK: 0 - CUDA_VISIBLE_DEVICES: [0]\n"
     ]
    },
    {
     "name": "stdout",
     "output_type": "stream",
     "text": [
      "Model loaded from checkpoint for trial 28, fold 1\n"
     ]
    },
    {
     "name": "stderr",
     "output_type": "stream",
     "text": [
      "Specified future encoders in `add_encoders` at model creation but model does not accept future covariates. future encoders will be ignored.\n",
      "GPU available: True (cuda), used: True\n",
      "TPU available: False, using: 0 TPU cores\n",
      "HPU available: False, using: 0 HPUs\n",
      "LOCAL_RANK: 0 - CUDA_VISIBLE_DEVICES: [0]\n"
     ]
    },
    {
     "name": "stdout",
     "output_type": "stream",
     "text": [
      "SMAPE fold 1: 45.27450140248843\n",
      "\n",
      "Fold 3/3\n"
     ]
    },
    {
     "name": "stderr",
     "output_type": "stream",
     "text": [
      "/home/eduardo/Documentos/Water-Cycle-Neural-Network/venv/lib/python3.12/site-packages/optuna/trial/_trial.py:497: UserWarning: The reported value is ignored because this `step` 0 is already reported.\n",
      "  warnings.warn(\n",
      "Monitored metric val_loss did not improve in the last 16 records. Best score: 0.041. Signaling Trainer to stop.\n",
      "GPU available: True (cuda), used: True\n",
      "TPU available: False, using: 0 TPU cores\n",
      "HPU available: False, using: 0 HPUs\n",
      "LOCAL_RANK: 0 - CUDA_VISIBLE_DEVICES: [0]\n"
     ]
    },
    {
     "name": "stdout",
     "output_type": "stream",
     "text": [
      "Model loaded from checkpoint for trial 28, fold 2\n"
     ]
    },
    {
     "name": "stderr",
     "output_type": "stream",
     "text": [
      "[I 2025-06-10 22:57:19,104] Trial 28 finished with value: 66.95151754032308 and parameters: {'input_chunk_length': 60, 'hidden_size': 128, 'layer_size': 3, 'dropout': 0.25, 'batch_size': 136, 'lr': 0.00033120605506763964, 'weight_decay': 1.0491319102445862e-06}. Best is trial 19 with value: 55.19662140548929.\n",
      "Specified future encoders in `add_encoders` at model creation but model does not accept future covariates. future encoders will be ignored.\n",
      "GPU available: True (cuda), used: True\n",
      "TPU available: False, using: 0 TPU cores\n",
      "HPU available: False, using: 0 HPUs\n",
      "LOCAL_RANK: 0 - CUDA_VISIBLE_DEVICES: [0]\n"
     ]
    },
    {
     "name": "stdout",
     "output_type": "stream",
     "text": [
      "SMAPE fold 2: 69.97086689042584\n",
      "Média dos SMAPE nos folds: 66.95151754032308\n",
      "Results of trial 28 saved in optuna_iteration_metrics/trial_28.json\n",
      "Current value: 66.95151754032308, Current params: {'input_chunk_length': 60, 'hidden_size': 128, 'layer_size': 3, 'dropout': 0.25, 'batch_size': 136, 'lr': 0.00033120605506763964, 'weight_decay': 1.0491319102445862e-06}\n",
      "Best value: 55.19662140548929, Best params: {'input_chunk_length': 72, 'hidden_size': 224, 'layer_size': 3, 'dropout': 0.2, 'batch_size': 96, 'lr': 0.001210853477491263, 'weight_decay': 3.398501349467249e-06}\n",
      "\n",
      "Fold 1/3\n"
     ]
    },
    {
     "name": "stderr",
     "output_type": "stream",
     "text": [
      "[I 2025-06-10 22:57:22,538] Trial 29 pruned. Trial was pruned at epoch 0.\n",
      "Specified future encoders in `add_encoders` at model creation but model does not accept future covariates. future encoders will be ignored.\n",
      "GPU available: True (cuda), used: True\n",
      "TPU available: False, using: 0 TPU cores\n",
      "HPU available: False, using: 0 HPUs\n",
      "LOCAL_RANK: 0 - CUDA_VISIBLE_DEVICES: [0]\n"
     ]
    },
    {
     "name": "stdout",
     "output_type": "stream",
     "text": [
      "Current value: 12.624032873341076, Current params: {'input_chunk_length': 108, 'hidden_size': 120, 'layer_size': 2, 'dropout': 0.30000000000000004, 'batch_size': 104, 'lr': 0.0019161683350390282, 'weight_decay': 0.00020587345848553757}\n",
      "Best value: 55.19662140548929, Best params: {'input_chunk_length': 72, 'hidden_size': 224, 'layer_size': 3, 'dropout': 0.2, 'batch_size': 96, 'lr': 0.001210853477491263, 'weight_decay': 3.398501349467249e-06}\n",
      "\n",
      "Fold 1/3\n"
     ]
    },
    {
     "name": "stderr",
     "output_type": "stream",
     "text": [
      "[I 2025-06-10 22:57:27,578] Trial 30 pruned. Trial was pruned at epoch 0.\n"
     ]
    },
    {
     "name": "stdout",
     "output_type": "stream",
     "text": [
      "Current value: 12.84322725992236, Current params: {'input_chunk_length': 144, 'hidden_size': 176, 'layer_size': 3, 'dropout': 0.35, 'batch_size': 208, 'lr': 0.0009591813851288559, 'weight_decay': 4.929124541930304e-05}\n",
      "Best value: 55.19662140548929, Best params: {'input_chunk_length': 72, 'hidden_size': 224, 'layer_size': 3, 'dropout': 0.2, 'batch_size': 96, 'lr': 0.001210853477491263, 'weight_decay': 3.398501349467249e-06}\n",
      "\n",
      "Fold 1/3\n"
     ]
    },
    {
     "name": "stderr",
     "output_type": "stream",
     "text": [
      "Exception in thread QueueFeederThread:\n",
      "Traceback (most recent call last):\n",
      "  File \"/usr/lib/python3.12/multiprocessing/queues.py\", line 259, in _feed\n",
      "    reader_close()\n",
      "  File \"/usr/lib/python3.12/multiprocessing/connection.py\", line 178, in close\n",
      "    self._close()\n",
      "  File \"/usr/lib/python3.12/multiprocessing/connection.py\", line 377, in _close\n",
      "    _close(self._handle)\n",
      "OSError: [Errno 9] Bad file descriptor\n",
      "\n",
      "During handling of the above exception, another exception occurred:\n",
      "\n",
      "Traceback (most recent call last):\n",
      "  File \"/usr/lib/python3.12/threading.py\", line 1073, in _bootstrap_inner\n",
      "    self.run()\n",
      "  File \"/home/eduardo/Documentos/Water-Cycle-Neural-Network/venv/lib/python3.12/site-packages/ipykernel/ipkernel.py\", line 766, in run_closure\n",
      "    _threading_Thread_run(self)\n",
      "  File \"/usr/lib/python3.12/threading.py\", line 1010, in run\n",
      "    self._target(*self._args, **self._kwargs)\n",
      "  File \"/usr/lib/python3.12/multiprocessing/queues.py\", line 291, in _feed\n",
      "    queue_sem.release()\n",
      "ValueError: semaphore or lock released too many times\n",
      "Specified future encoders in `add_encoders` at model creation but model does not accept future covariates. future encoders will be ignored.\n",
      "GPU available: True (cuda), used: True\n",
      "TPU available: False, using: 0 TPU cores\n",
      "HPU available: False, using: 0 HPUs\n",
      "LOCAL_RANK: 0 - CUDA_VISIBLE_DEVICES: [0]\n",
      "Metric val_loss improved. New best score: 12.368\n",
      "[I 2025-06-10 22:58:26,251] Trial 31 pruned. Trial was pruned at epoch 1.\n",
      "Specified future encoders in `add_encoders` at model creation but model does not accept future covariates. future encoders will be ignored.\n",
      "GPU available: True (cuda), used: True\n",
      "TPU available: False, using: 0 TPU cores\n",
      "HPU available: False, using: 0 HPUs\n",
      "LOCAL_RANK: 0 - CUDA_VISIBLE_DEVICES: [0]\n"
     ]
    },
    {
     "name": "stdout",
     "output_type": "stream",
     "text": [
      "Current value: 12.438110609423228, Current params: {'input_chunk_length': 72, 'hidden_size': 232, 'layer_size': 3, 'dropout': 0.30000000000000004, 'batch_size': 120, 'lr': 0.004997195259750472, 'weight_decay': 2.395005328748368e-06}\n",
      "Best value: 55.19662140548929, Best params: {'input_chunk_length': 72, 'hidden_size': 224, 'layer_size': 3, 'dropout': 0.2, 'batch_size': 96, 'lr': 0.001210853477491263, 'weight_decay': 3.398501349467249e-06}\n",
      "\n",
      "Fold 1/3\n"
     ]
    },
    {
     "name": "stderr",
     "output_type": "stream",
     "text": [
      "[I 2025-06-10 22:58:31,050] Trial 32 pruned. Trial was pruned at epoch 0.\n",
      "Specified future encoders in `add_encoders` at model creation but model does not accept future covariates. future encoders will be ignored.\n",
      "GPU available: True (cuda), used: True\n",
      "TPU available: False, using: 0 TPU cores\n",
      "HPU available: False, using: 0 HPUs\n",
      "LOCAL_RANK: 0 - CUDA_VISIBLE_DEVICES: [0]\n"
     ]
    },
    {
     "name": "stdout",
     "output_type": "stream",
     "text": [
      "Current value: 12.415956815821056, Current params: {'input_chunk_length': 84, 'hidden_size': 192, 'layer_size': 3, 'dropout': 0.2, 'batch_size': 112, 'lr': 0.002717137260416251, 'weight_decay': 4.915800551915126e-06}\n",
      "Best value: 55.19662140548929, Best params: {'input_chunk_length': 72, 'hidden_size': 224, 'layer_size': 3, 'dropout': 0.2, 'batch_size': 96, 'lr': 0.001210853477491263, 'weight_decay': 3.398501349467249e-06}\n",
      "\n",
      "Fold 1/3\n"
     ]
    },
    {
     "name": "stderr",
     "output_type": "stream",
     "text": [
      "[I 2025-06-10 22:58:36,339] Trial 33 pruned. Trial was pruned at epoch 0.\n",
      "Specified future encoders in `add_encoders` at model creation but model does not accept future covariates. future encoders will be ignored.\n",
      "GPU available: True (cuda), used: True\n",
      "TPU available: False, using: 0 TPU cores\n",
      "HPU available: False, using: 0 HPUs\n",
      "LOCAL_RANK: 0 - CUDA_VISIBLE_DEVICES: [0]\n"
     ]
    },
    {
     "name": "stdout",
     "output_type": "stream",
     "text": [
      "Current value: 12.571605909347433, Current params: {'input_chunk_length': 108, 'hidden_size': 208, 'layer_size': 3, 'dropout': 0.15000000000000002, 'batch_size': 144, 'lr': 0.0027434367202846055, 'weight_decay': 1.989098326956095e-06}\n",
      "Best value: 55.19662140548929, Best params: {'input_chunk_length': 72, 'hidden_size': 224, 'layer_size': 3, 'dropout': 0.2, 'batch_size': 96, 'lr': 0.001210853477491263, 'weight_decay': 3.398501349467249e-06}\n",
      "\n",
      "Fold 1/3\n"
     ]
    },
    {
     "name": "stderr",
     "output_type": "stream",
     "text": [
      "Metric val_loss improved. New best score: 12.336\n",
      "Metric val_loss improved by 0.016 >= min_delta = 0.0005. New best score: 12.320\n",
      "Metric val_loss improved by 0.018 >= min_delta = 0.0005. New best score: 12.302\n",
      "Metric val_loss improved by 0.009 >= min_delta = 0.0005. New best score: 12.292\n",
      "Metric val_loss improved by 0.006 >= min_delta = 0.0005. New best score: 12.286\n",
      "Metric val_loss improved by 0.005 >= min_delta = 0.0005. New best score: 12.282\n",
      "Metric val_loss improved by 0.021 >= min_delta = 0.0005. New best score: 12.260\n",
      "Metric val_loss improved by 0.009 >= min_delta = 0.0005. New best score: 12.251\n",
      "Monitored metric val_loss did not improve in the last 15 records. Best score: 12.251. Signaling Trainer to stop.\n",
      "GPU available: True (cuda), used: True\n",
      "TPU available: False, using: 0 TPU cores\n",
      "HPU available: False, using: 0 HPUs\n",
      "LOCAL_RANK: 0 - CUDA_VISIBLE_DEVICES: [0]\n"
     ]
    },
    {
     "name": "stdout",
     "output_type": "stream",
     "text": [
      "Model loaded from checkpoint for trial 34, fold 0\n"
     ]
    },
    {
     "name": "stderr",
     "output_type": "stream",
     "text": [
      "Specified future encoders in `add_encoders` at model creation but model does not accept future covariates. future encoders will be ignored.\n",
      "GPU available: True (cuda), used: True\n",
      "TPU available: False, using: 0 TPU cores\n",
      "HPU available: False, using: 0 HPUs\n",
      "LOCAL_RANK: 0 - CUDA_VISIBLE_DEVICES: [0]\n"
     ]
    },
    {
     "name": "stdout",
     "output_type": "stream",
     "text": [
      "SMAPE fold 0: 99.0407456474611\n",
      "\n",
      "Fold 2/3\n"
     ]
    },
    {
     "name": "stderr",
     "output_type": "stream",
     "text": [
      "/home/eduardo/Documentos/Water-Cycle-Neural-Network/venv/lib/python3.12/site-packages/optuna/trial/_trial.py:497: UserWarning: The reported value is ignored because this `step` 0 is already reported.\n",
      "  warnings.warn(\n",
      "Metric val_loss improved by 12.115 >= min_delta = 0.0005. New best score: 0.136\n",
      "/home/eduardo/Documentos/Water-Cycle-Neural-Network/venv/lib/python3.12/site-packages/optuna/trial/_trial.py:497: UserWarning: The reported value is ignored because this `step` 1 is already reported.\n",
      "  warnings.warn(\n",
      "Metric val_loss improved by 0.059 >= min_delta = 0.0005. New best score: 0.078\n",
      "/home/eduardo/Documentos/Water-Cycle-Neural-Network/venv/lib/python3.12/site-packages/optuna/trial/_trial.py:497: UserWarning: The reported value is ignored because this `step` 2 is already reported.\n",
      "  warnings.warn(\n",
      "Metric val_loss improved by 0.020 >= min_delta = 0.0005. New best score: 0.057\n",
      "/home/eduardo/Documentos/Water-Cycle-Neural-Network/venv/lib/python3.12/site-packages/optuna/trial/_trial.py:497: UserWarning: The reported value is ignored because this `step` 3 is already reported.\n",
      "  warnings.warn(\n",
      "Metric val_loss improved by 0.014 >= min_delta = 0.0005. New best score: 0.043\n",
      "/home/eduardo/Documentos/Water-Cycle-Neural-Network/venv/lib/python3.12/site-packages/optuna/trial/_trial.py:497: UserWarning: The reported value is ignored because this `step` 4 is already reported.\n",
      "  warnings.warn(\n",
      "Metric val_loss improved by 0.009 >= min_delta = 0.0005. New best score: 0.035\n",
      "/home/eduardo/Documentos/Water-Cycle-Neural-Network/venv/lib/python3.12/site-packages/optuna/trial/_trial.py:497: UserWarning: The reported value is ignored because this `step` 5 is already reported.\n",
      "  warnings.warn(\n",
      "/home/eduardo/Documentos/Water-Cycle-Neural-Network/venv/lib/python3.12/site-packages/optuna/trial/_trial.py:497: UserWarning: The reported value is ignored because this `step` 6 is already reported.\n",
      "  warnings.warn(\n",
      "/home/eduardo/Documentos/Water-Cycle-Neural-Network/venv/lib/python3.12/site-packages/optuna/trial/_trial.py:497: UserWarning: The reported value is ignored because this `step` 7 is already reported.\n",
      "  warnings.warn(\n",
      "/home/eduardo/Documentos/Water-Cycle-Neural-Network/venv/lib/python3.12/site-packages/optuna/trial/_trial.py:497: UserWarning: The reported value is ignored because this `step` 8 is already reported.\n",
      "  warnings.warn(\n",
      "/home/eduardo/Documentos/Water-Cycle-Neural-Network/venv/lib/python3.12/site-packages/optuna/trial/_trial.py:497: UserWarning: The reported value is ignored because this `step` 9 is already reported.\n",
      "  warnings.warn(\n",
      "/home/eduardo/Documentos/Water-Cycle-Neural-Network/venv/lib/python3.12/site-packages/optuna/trial/_trial.py:497: UserWarning: The reported value is ignored because this `step` 10 is already reported.\n",
      "  warnings.warn(\n",
      "/home/eduardo/Documentos/Water-Cycle-Neural-Network/venv/lib/python3.12/site-packages/optuna/trial/_trial.py:497: UserWarning: The reported value is ignored because this `step` 11 is already reported.\n",
      "  warnings.warn(\n",
      "/home/eduardo/Documentos/Water-Cycle-Neural-Network/venv/lib/python3.12/site-packages/optuna/trial/_trial.py:497: UserWarning: The reported value is ignored because this `step` 12 is already reported.\n",
      "  warnings.warn(\n",
      "/home/eduardo/Documentos/Water-Cycle-Neural-Network/venv/lib/python3.12/site-packages/optuna/trial/_trial.py:497: UserWarning: The reported value is ignored because this `step` 13 is already reported.\n",
      "  warnings.warn(\n",
      "/home/eduardo/Documentos/Water-Cycle-Neural-Network/venv/lib/python3.12/site-packages/optuna/trial/_trial.py:497: UserWarning: The reported value is ignored because this `step` 14 is already reported.\n",
      "  warnings.warn(\n",
      "Metric val_loss improved by 0.001 >= min_delta = 0.0005. New best score: 0.033\n",
      "/home/eduardo/Documentos/Water-Cycle-Neural-Network/venv/lib/python3.12/site-packages/optuna/trial/_trial.py:497: UserWarning: The reported value is ignored because this `step` 15 is already reported.\n",
      "  warnings.warn(\n",
      "/home/eduardo/Documentos/Water-Cycle-Neural-Network/venv/lib/python3.12/site-packages/optuna/trial/_trial.py:497: UserWarning: The reported value is ignored because this `step` 16 is already reported.\n",
      "  warnings.warn(\n",
      "/home/eduardo/Documentos/Water-Cycle-Neural-Network/venv/lib/python3.12/site-packages/optuna/trial/_trial.py:497: UserWarning: The reported value is ignored because this `step` 17 is already reported.\n",
      "  warnings.warn(\n",
      "/home/eduardo/Documentos/Water-Cycle-Neural-Network/venv/lib/python3.12/site-packages/optuna/trial/_trial.py:497: UserWarning: The reported value is ignored because this `step` 18 is already reported.\n",
      "  warnings.warn(\n",
      "/home/eduardo/Documentos/Water-Cycle-Neural-Network/venv/lib/python3.12/site-packages/optuna/trial/_trial.py:497: UserWarning: The reported value is ignored because this `step` 19 is already reported.\n",
      "  warnings.warn(\n",
      "/home/eduardo/Documentos/Water-Cycle-Neural-Network/venv/lib/python3.12/site-packages/optuna/trial/_trial.py:497: UserWarning: The reported value is ignored because this `step` 20 is already reported.\n",
      "  warnings.warn(\n",
      "/home/eduardo/Documentos/Water-Cycle-Neural-Network/venv/lib/python3.12/site-packages/optuna/trial/_trial.py:497: UserWarning: The reported value is ignored because this `step` 21 is already reported.\n",
      "  warnings.warn(\n",
      "/home/eduardo/Documentos/Water-Cycle-Neural-Network/venv/lib/python3.12/site-packages/optuna/trial/_trial.py:497: UserWarning: The reported value is ignored because this `step` 22 is already reported.\n",
      "  warnings.warn(\n",
      "/home/eduardo/Documentos/Water-Cycle-Neural-Network/venv/lib/python3.12/site-packages/optuna/trial/_trial.py:497: UserWarning: The reported value is ignored because this `step` 23 is already reported.\n",
      "  warnings.warn(\n",
      "/home/eduardo/Documentos/Water-Cycle-Neural-Network/venv/lib/python3.12/site-packages/optuna/trial/_trial.py:497: UserWarning: The reported value is ignored because this `step` 24 is already reported.\n",
      "  warnings.warn(\n",
      "/home/eduardo/Documentos/Water-Cycle-Neural-Network/venv/lib/python3.12/site-packages/optuna/trial/_trial.py:497: UserWarning: The reported value is ignored because this `step` 25 is already reported.\n",
      "  warnings.warn(\n",
      "/home/eduardo/Documentos/Water-Cycle-Neural-Network/venv/lib/python3.12/site-packages/optuna/trial/_trial.py:497: UserWarning: The reported value is ignored because this `step` 26 is already reported.\n",
      "  warnings.warn(\n",
      "/home/eduardo/Documentos/Water-Cycle-Neural-Network/venv/lib/python3.12/site-packages/optuna/trial/_trial.py:497: UserWarning: The reported value is ignored because this `step` 27 is already reported.\n",
      "  warnings.warn(\n",
      "Monitored metric val_loss did not improve in the last 15 records. Best score: 0.033. Signaling Trainer to stop.\n",
      "`Trainer.fit` stopped: `max_epochs=30` reached.\n",
      "GPU available: True (cuda), used: True\n",
      "TPU available: False, using: 0 TPU cores\n",
      "HPU available: False, using: 0 HPUs\n",
      "LOCAL_RANK: 0 - CUDA_VISIBLE_DEVICES: [0]\n"
     ]
    },
    {
     "name": "stdout",
     "output_type": "stream",
     "text": [
      "Model loaded from checkpoint for trial 34, fold 1\n"
     ]
    },
    {
     "name": "stderr",
     "output_type": "stream",
     "text": [
      "Specified future encoders in `add_encoders` at model creation but model does not accept future covariates. future encoders will be ignored.\n",
      "GPU available: True (cuda), used: True\n",
      "TPU available: False, using: 0 TPU cores\n",
      "HPU available: False, using: 0 HPUs\n",
      "LOCAL_RANK: 0 - CUDA_VISIBLE_DEVICES: [0]\n"
     ]
    },
    {
     "name": "stdout",
     "output_type": "stream",
     "text": [
      "SMAPE fold 1: 40.96992859618432\n",
      "\n",
      "Fold 3/3\n"
     ]
    },
    {
     "name": "stderr",
     "output_type": "stream",
     "text": [
      "/home/eduardo/Documentos/Water-Cycle-Neural-Network/venv/lib/python3.12/site-packages/optuna/trial/_trial.py:497: UserWarning: The reported value is ignored because this `step` 0 is already reported.\n",
      "  warnings.warn(\n",
      "Monitored metric val_loss did not improve in the last 16 records. Best score: 0.033. Signaling Trainer to stop.\n",
      "GPU available: True (cuda), used: True\n",
      "TPU available: False, using: 0 TPU cores\n",
      "HPU available: False, using: 0 HPUs\n",
      "LOCAL_RANK: 0 - CUDA_VISIBLE_DEVICES: [0]\n"
     ]
    },
    {
     "name": "stdout",
     "output_type": "stream",
     "text": [
      "Model loaded from checkpoint for trial 34, fold 2\n"
     ]
    },
    {
     "name": "stderr",
     "output_type": "stream",
     "text": [
      "[I 2025-06-10 23:06:23,246] Trial 34 finished with value: 63.57750961948606 and parameters: {'input_chunk_length': 60, 'hidden_size': 240, 'layer_size': 3, 'dropout': 0.4, 'batch_size': 128, 'lr': 0.0009406161742412083, 'weight_decay': 1.1777476798677103e-05}. Best is trial 19 with value: 55.19662140548929.\n",
      "Specified future encoders in `add_encoders` at model creation but model does not accept future covariates. future encoders will be ignored.\n",
      "GPU available: True (cuda), used: True\n",
      "TPU available: False, using: 0 TPU cores\n",
      "HPU available: False, using: 0 HPUs\n",
      "LOCAL_RANK: 0 - CUDA_VISIBLE_DEVICES: [0]\n"
     ]
    },
    {
     "name": "stdout",
     "output_type": "stream",
     "text": [
      "SMAPE fold 2: 50.721854614812784\n",
      "Média dos SMAPE nos folds: 63.57750961948606\n",
      "Results of trial 34 saved in optuna_iteration_metrics/trial_34.json\n",
      "Current value: 63.57750961948606, Current params: {'input_chunk_length': 60, 'hidden_size': 240, 'layer_size': 3, 'dropout': 0.4, 'batch_size': 128, 'lr': 0.0009406161742412083, 'weight_decay': 1.1777476798677103e-05}\n",
      "Best value: 55.19662140548929, Best params: {'input_chunk_length': 72, 'hidden_size': 224, 'layer_size': 3, 'dropout': 0.2, 'batch_size': 96, 'lr': 0.001210853477491263, 'weight_decay': 3.398501349467249e-06}\n",
      "\n",
      "Fold 1/3\n"
     ]
    },
    {
     "name": "stderr",
     "output_type": "stream",
     "text": [
      "[I 2025-06-10 23:06:28,242] Trial 35 pruned. Trial was pruned at epoch 0.\n",
      "Specified future encoders in `add_encoders` at model creation but model does not accept future covariates. future encoders will be ignored.\n",
      "/home/eduardo/Documentos/Water-Cycle-Neural-Network/venv/lib/python3.12/site-packages/torch/nn/modules/rnn.py:123: UserWarning: dropout option adds dropout after all but last recurrent layer, so non-zero dropout expects num_layers greater than 1, but got dropout=0.25 and num_layers=1\n",
      "  warnings.warn(\n"
     ]
    },
    {
     "name": "stdout",
     "output_type": "stream",
     "text": [
      "Current value: 12.520185737270207, Current params: {'input_chunk_length': 96, 'hidden_size': 224, 'layer_size': 3, 'dropout': 0.45000000000000007, 'batch_size': 152, 'lr': 0.004180468191126481, 'weight_decay': 3.0303651463376695e-06}\n",
      "Best value: 55.19662140548929, Best params: {'input_chunk_length': 72, 'hidden_size': 224, 'layer_size': 3, 'dropout': 0.2, 'batch_size': 96, 'lr': 0.001210853477491263, 'weight_decay': 3.398501349467249e-06}\n",
      "\n",
      "Fold 1/3\n"
     ]
    },
    {
     "name": "stderr",
     "output_type": "stream",
     "text": [
      "GPU available: True (cuda), used: True\n",
      "TPU available: False, using: 0 TPU cores\n",
      "HPU available: False, using: 0 HPUs\n",
      "LOCAL_RANK: 0 - CUDA_VISIBLE_DEVICES: [0]\n",
      "[I 2025-06-10 23:07:26,250] Trial 36 pruned. Trial was pruned at epoch 0.\n",
      "Specified future encoders in `add_encoders` at model creation but model does not accept future covariates. future encoders will be ignored.\n",
      "GPU available: True (cuda), used: True\n",
      "TPU available: False, using: 0 TPU cores\n",
      "HPU available: False, using: 0 HPUs\n",
      "LOCAL_RANK: 0 - CUDA_VISIBLE_DEVICES: [0]\n"
     ]
    },
    {
     "name": "stdout",
     "output_type": "stream",
     "text": [
      "Current value: 12.536088824593767, Current params: {'input_chunk_length': 72, 'hidden_size': 200, 'layer_size': 1, 'dropout': 0.25, 'batch_size': 88, 'lr': 0.0002754448517152981, 'weight_decay': 5.328389478555115e-06}\n",
      "Best value: 55.19662140548929, Best params: {'input_chunk_length': 72, 'hidden_size': 224, 'layer_size': 3, 'dropout': 0.2, 'batch_size': 96, 'lr': 0.001210853477491263, 'weight_decay': 3.398501349467249e-06}\n",
      "\n",
      "Fold 1/3\n"
     ]
    },
    {
     "name": "stderr",
     "output_type": "stream",
     "text": [
      "Metric val_loss improved. New best score: 12.136\n",
      "Metric val_loss improved by 0.023 >= min_delta = 0.0005. New best score: 12.114\n",
      "Metric val_loss improved by 0.002 >= min_delta = 0.0005. New best score: 12.112\n",
      "Metric val_loss improved by 0.012 >= min_delta = 0.0005. New best score: 12.100\n",
      "Metric val_loss improved by 0.008 >= min_delta = 0.0005. New best score: 12.092\n",
      "Monitored metric val_loss did not improve in the last 15 records. Best score: 12.092. Signaling Trainer to stop.\n",
      "GPU available: True (cuda), used: True\n",
      "TPU available: False, using: 0 TPU cores\n",
      "HPU available: False, using: 0 HPUs\n",
      "LOCAL_RANK: 0 - CUDA_VISIBLE_DEVICES: [0]\n"
     ]
    },
    {
     "name": "stdout",
     "output_type": "stream",
     "text": [
      "Model loaded from checkpoint for trial 37, fold 0\n"
     ]
    },
    {
     "name": "stderr",
     "output_type": "stream",
     "text": [
      "Specified future encoders in `add_encoders` at model creation but model does not accept future covariates. future encoders will be ignored.\n",
      "GPU available: True (cuda), used: True\n",
      "TPU available: False, using: 0 TPU cores\n",
      "HPU available: False, using: 0 HPUs\n",
      "LOCAL_RANK: 0 - CUDA_VISIBLE_DEVICES: [0]\n"
     ]
    },
    {
     "name": "stdout",
     "output_type": "stream",
     "text": [
      "SMAPE fold 0: 88.80960024271276\n",
      "\n",
      "Fold 2/3\n"
     ]
    },
    {
     "name": "stderr",
     "output_type": "stream",
     "text": [
      "/home/eduardo/Documentos/Water-Cycle-Neural-Network/venv/lib/python3.12/site-packages/optuna/trial/_trial.py:497: UserWarning: The reported value is ignored because this `step` 0 is already reported.\n",
      "  warnings.warn(\n",
      "Metric val_loss improved by 11.990 >= min_delta = 0.0005. New best score: 0.102\n",
      "/home/eduardo/Documentos/Water-Cycle-Neural-Network/venv/lib/python3.12/site-packages/optuna/trial/_trial.py:497: UserWarning: The reported value is ignored because this `step` 1 is already reported.\n",
      "  warnings.warn(\n",
      "Metric val_loss improved by 0.054 >= min_delta = 0.0005. New best score: 0.048\n",
      "/home/eduardo/Documentos/Water-Cycle-Neural-Network/venv/lib/python3.12/site-packages/optuna/trial/_trial.py:497: UserWarning: The reported value is ignored because this `step` 2 is already reported.\n",
      "  warnings.warn(\n",
      "Metric val_loss improved by 0.007 >= min_delta = 0.0005. New best score: 0.042\n",
      "/home/eduardo/Documentos/Water-Cycle-Neural-Network/venv/lib/python3.12/site-packages/optuna/trial/_trial.py:497: UserWarning: The reported value is ignored because this `step` 3 is already reported.\n",
      "  warnings.warn(\n",
      "/home/eduardo/Documentos/Water-Cycle-Neural-Network/venv/lib/python3.12/site-packages/optuna/trial/_trial.py:497: UserWarning: The reported value is ignored because this `step` 4 is already reported.\n",
      "  warnings.warn(\n",
      "/home/eduardo/Documentos/Water-Cycle-Neural-Network/venv/lib/python3.12/site-packages/optuna/trial/_trial.py:497: UserWarning: The reported value is ignored because this `step` 5 is already reported.\n",
      "  warnings.warn(\n",
      "/home/eduardo/Documentos/Water-Cycle-Neural-Network/venv/lib/python3.12/site-packages/optuna/trial/_trial.py:497: UserWarning: The reported value is ignored because this `step` 6 is already reported.\n",
      "  warnings.warn(\n",
      "/home/eduardo/Documentos/Water-Cycle-Neural-Network/venv/lib/python3.12/site-packages/optuna/trial/_trial.py:497: UserWarning: The reported value is ignored because this `step` 7 is already reported.\n",
      "  warnings.warn(\n",
      "Metric val_loss improved by 0.002 >= min_delta = 0.0005. New best score: 0.040\n",
      "/home/eduardo/Documentos/Water-Cycle-Neural-Network/venv/lib/python3.12/site-packages/optuna/trial/_trial.py:497: UserWarning: The reported value is ignored because this `step` 8 is already reported.\n",
      "  warnings.warn(\n",
      "/home/eduardo/Documentos/Water-Cycle-Neural-Network/venv/lib/python3.12/site-packages/optuna/trial/_trial.py:497: UserWarning: The reported value is ignored because this `step` 9 is already reported.\n",
      "  warnings.warn(\n",
      "/home/eduardo/Documentos/Water-Cycle-Neural-Network/venv/lib/python3.12/site-packages/optuna/trial/_trial.py:497: UserWarning: The reported value is ignored because this `step` 10 is already reported.\n",
      "  warnings.warn(\n",
      "/home/eduardo/Documentos/Water-Cycle-Neural-Network/venv/lib/python3.12/site-packages/optuna/trial/_trial.py:497: UserWarning: The reported value is ignored because this `step` 11 is already reported.\n",
      "  warnings.warn(\n",
      "/home/eduardo/Documentos/Water-Cycle-Neural-Network/venv/lib/python3.12/site-packages/optuna/trial/_trial.py:497: UserWarning: The reported value is ignored because this `step` 12 is already reported.\n",
      "  warnings.warn(\n",
      "/home/eduardo/Documentos/Water-Cycle-Neural-Network/venv/lib/python3.12/site-packages/optuna/trial/_trial.py:497: UserWarning: The reported value is ignored because this `step` 13 is already reported.\n",
      "  warnings.warn(\n",
      "/home/eduardo/Documentos/Water-Cycle-Neural-Network/venv/lib/python3.12/site-packages/optuna/trial/_trial.py:497: UserWarning: The reported value is ignored because this `step` 14 is already reported.\n",
      "  warnings.warn(\n",
      "/home/eduardo/Documentos/Water-Cycle-Neural-Network/venv/lib/python3.12/site-packages/optuna/trial/_trial.py:497: UserWarning: The reported value is ignored because this `step` 15 is already reported.\n",
      "  warnings.warn(\n",
      "/home/eduardo/Documentos/Water-Cycle-Neural-Network/venv/lib/python3.12/site-packages/optuna/trial/_trial.py:497: UserWarning: The reported value is ignored because this `step` 16 is already reported.\n",
      "  warnings.warn(\n",
      "/home/eduardo/Documentos/Water-Cycle-Neural-Network/venv/lib/python3.12/site-packages/optuna/trial/_trial.py:497: UserWarning: The reported value is ignored because this `step` 17 is already reported.\n",
      "  warnings.warn(\n",
      "/home/eduardo/Documentos/Water-Cycle-Neural-Network/venv/lib/python3.12/site-packages/optuna/trial/_trial.py:497: UserWarning: The reported value is ignored because this `step` 18 is already reported.\n",
      "  warnings.warn(\n",
      "/home/eduardo/Documentos/Water-Cycle-Neural-Network/venv/lib/python3.12/site-packages/optuna/trial/_trial.py:497: UserWarning: The reported value is ignored because this `step` 19 is already reported.\n",
      "  warnings.warn(\n",
      "/home/eduardo/Documentos/Water-Cycle-Neural-Network/venv/lib/python3.12/site-packages/optuna/trial/_trial.py:497: UserWarning: The reported value is ignored because this `step` 20 is already reported.\n",
      "  warnings.warn(\n",
      "/home/eduardo/Documentos/Water-Cycle-Neural-Network/venv/lib/python3.12/site-packages/optuna/trial/_trial.py:497: UserWarning: The reported value is ignored because this `step` 21 is already reported.\n",
      "  warnings.warn(\n",
      "/home/eduardo/Documentos/Water-Cycle-Neural-Network/venv/lib/python3.12/site-packages/optuna/trial/_trial.py:497: UserWarning: The reported value is ignored because this `step` 22 is already reported.\n",
      "  warnings.warn(\n",
      "Monitored metric val_loss did not improve in the last 15 records. Best score: 0.040. Signaling Trainer to stop.\n",
      "GPU available: True (cuda), used: True\n",
      "TPU available: False, using: 0 TPU cores\n",
      "HPU available: False, using: 0 HPUs\n",
      "LOCAL_RANK: 0 - CUDA_VISIBLE_DEVICES: [0]\n"
     ]
    },
    {
     "name": "stdout",
     "output_type": "stream",
     "text": [
      "Model loaded from checkpoint for trial 37, fold 1\n"
     ]
    },
    {
     "name": "stderr",
     "output_type": "stream",
     "text": [
      "Specified future encoders in `add_encoders` at model creation but model does not accept future covariates. future encoders will be ignored.\n",
      "GPU available: True (cuda), used: True\n",
      "TPU available: False, using: 0 TPU cores\n",
      "HPU available: False, using: 0 HPUs\n",
      "LOCAL_RANK: 0 - CUDA_VISIBLE_DEVICES: [0]\n"
     ]
    },
    {
     "name": "stdout",
     "output_type": "stream",
     "text": [
      "SMAPE fold 1: 41.381575839556604\n",
      "\n",
      "Fold 3/3\n"
     ]
    },
    {
     "name": "stderr",
     "output_type": "stream",
     "text": [
      "/home/eduardo/Documentos/Water-Cycle-Neural-Network/venv/lib/python3.12/site-packages/optuna/trial/_trial.py:497: UserWarning: The reported value is ignored because this `step` 0 is already reported.\n",
      "  warnings.warn(\n",
      "Monitored metric val_loss did not improve in the last 16 records. Best score: 0.040. Signaling Trainer to stop.\n",
      "GPU available: True (cuda), used: True\n",
      "TPU available: False, using: 0 TPU cores\n",
      "HPU available: False, using: 0 HPUs\n",
      "LOCAL_RANK: 0 - CUDA_VISIBLE_DEVICES: [0]\n"
     ]
    },
    {
     "name": "stdout",
     "output_type": "stream",
     "text": [
      "Model loaded from checkpoint for trial 37, fold 2\n"
     ]
    },
    {
     "name": "stderr",
     "output_type": "stream",
     "text": [
      "[I 2025-06-10 23:10:21,767] Trial 37 finished with value: 60.711255895930826 and parameters: {'input_chunk_length': 36, 'hidden_size': 96, 'layer_size': 3, 'dropout': 0.1, 'batch_size': 72, 'lr': 0.001854026985433222, 'weight_decay': 2.0121681299486793e-06}. Best is trial 19 with value: 55.19662140548929.\n",
      "Specified future encoders in `add_encoders` at model creation but model does not accept future covariates. future encoders will be ignored.\n",
      "GPU available: True (cuda), used: True\n",
      "TPU available: False, using: 0 TPU cores\n",
      "HPU available: False, using: 0 HPUs\n",
      "LOCAL_RANK: 0 - CUDA_VISIBLE_DEVICES: [0]\n"
     ]
    },
    {
     "name": "stdout",
     "output_type": "stream",
     "text": [
      "SMAPE fold 2: 51.94259160552313\n",
      "Média dos SMAPE nos folds: 60.711255895930826\n",
      "Results of trial 37 saved in optuna_iteration_metrics/trial_37.json\n",
      "Current value: 60.711255895930826, Current params: {'input_chunk_length': 36, 'hidden_size': 96, 'layer_size': 3, 'dropout': 0.1, 'batch_size': 72, 'lr': 0.001854026985433222, 'weight_decay': 2.0121681299486793e-06}\n",
      "Best value: 55.19662140548929, Best params: {'input_chunk_length': 72, 'hidden_size': 224, 'layer_size': 3, 'dropout': 0.2, 'batch_size': 96, 'lr': 0.001210853477491263, 'weight_decay': 3.398501349467249e-06}\n",
      "\n",
      "Fold 1/3\n"
     ]
    },
    {
     "name": "stderr",
     "output_type": "stream",
     "text": [
      "[I 2025-06-10 23:10:25,834] Trial 38 pruned. Trial was pruned at epoch 0.\n",
      "Specified future encoders in `add_encoders` at model creation but model does not accept future covariates. future encoders will be ignored.\n",
      "/home/eduardo/Documentos/Water-Cycle-Neural-Network/venv/lib/python3.12/site-packages/torch/nn/modules/rnn.py:123: UserWarning: dropout option adds dropout after all but last recurrent layer, so non-zero dropout expects num_layers greater than 1, but got dropout=0.30000000000000004 and num_layers=1\n",
      "  warnings.warn(\n",
      "GPU available: True (cuda), used: True\n",
      "TPU available: False, using: 0 TPU cores\n",
      "HPU available: False, using: 0 HPUs\n",
      "LOCAL_RANK: 0 - CUDA_VISIBLE_DEVICES: [0]\n"
     ]
    },
    {
     "name": "stdout",
     "output_type": "stream",
     "text": [
      "Current value: 12.418842402486636, Current params: {'input_chunk_length': 84, 'hidden_size': 248, 'layer_size': 2, 'dropout': 0.2, 'batch_size': 112, 'lr': 0.002108808355860159, 'weight_decay': 0.0003137147810953259}\n",
      "Best value: 55.19662140548929, Best params: {'input_chunk_length': 72, 'hidden_size': 224, 'layer_size': 3, 'dropout': 0.2, 'batch_size': 96, 'lr': 0.001210853477491263, 'weight_decay': 3.398501349467249e-06}\n",
      "\n",
      "Fold 1/3\n"
     ]
    },
    {
     "name": "stderr",
     "output_type": "stream",
     "text": [
      "[I 2025-06-10 23:10:28,818] Trial 39 pruned. Trial was pruned at epoch 0.\n",
      "Specified future encoders in `add_encoders` at model creation but model does not accept future covariates. future encoders will be ignored.\n"
     ]
    },
    {
     "name": "stdout",
     "output_type": "stream",
     "text": [
      "Current value: 12.654642458525833, Current params: {'input_chunk_length': 96, 'hidden_size': 184, 'layer_size': 1, 'dropout': 0.30000000000000004, 'batch_size': 128, 'lr': 0.0009913563064478136, 'weight_decay': 0.0006073921682584185}\n",
      "Best value: 55.19662140548929, Best params: {'input_chunk_length': 72, 'hidden_size': 224, 'layer_size': 3, 'dropout': 0.2, 'batch_size': 96, 'lr': 0.001210853477491263, 'weight_decay': 3.398501349467249e-06}\n",
      "\n",
      "Fold 1/3\n"
     ]
    },
    {
     "name": "stderr",
     "output_type": "stream",
     "text": [
      "GPU available: True (cuda), used: True\n",
      "TPU available: False, using: 0 TPU cores\n",
      "HPU available: False, using: 0 HPUs\n",
      "LOCAL_RANK: 0 - CUDA_VISIBLE_DEVICES: [0]\n",
      "[I 2025-06-10 23:11:26,978] Trial 40 pruned. Trial was pruned at epoch 0.\n",
      "Specified future encoders in `add_encoders` at model creation but model does not accept future covariates. future encoders will be ignored.\n",
      "GPU available: True (cuda), used: True\n",
      "TPU available: False, using: 0 TPU cores\n",
      "HPU available: False, using: 0 HPUs\n",
      "LOCAL_RANK: 0 - CUDA_VISIBLE_DEVICES: [0]\n"
     ]
    },
    {
     "name": "stdout",
     "output_type": "stream",
     "text": [
      "Current value: 12.458698300100384, Current params: {'input_chunk_length': 60, 'hidden_size': 160, 'layer_size': 2, 'dropout': 0.45000000000000007, 'batch_size': 248, 'lr': 0.00034763253536236306, 'weight_decay': 1.5408998050431953e-06}\n",
      "Best value: 55.19662140548929, Best params: {'input_chunk_length': 72, 'hidden_size': 224, 'layer_size': 3, 'dropout': 0.2, 'batch_size': 96, 'lr': 0.001210853477491263, 'weight_decay': 3.398501349467249e-06}\n",
      "\n",
      "Fold 1/3\n"
     ]
    },
    {
     "name": "stderr",
     "output_type": "stream",
     "text": [
      "Metric val_loss improved. New best score: 12.163\n",
      "Metric val_loss improved by 0.060 >= min_delta = 0.0005. New best score: 12.104\n",
      "Metric val_loss improved by 0.007 >= min_delta = 0.0005. New best score: 12.097\n",
      "Metric val_loss improved by 0.023 >= min_delta = 0.0005. New best score: 12.074\n",
      "Metric val_loss improved by 0.014 >= min_delta = 0.0005. New best score: 12.060\n",
      "Metric val_loss improved by 0.014 >= min_delta = 0.0005. New best score: 12.046\n",
      "Metric val_loss improved by 0.007 >= min_delta = 0.0005. New best score: 12.039\n",
      "Metric val_loss improved by 0.005 >= min_delta = 0.0005. New best score: 12.034\n",
      "Monitored metric val_loss did not improve in the last 15 records. Best score: 12.034. Signaling Trainer to stop.\n",
      "GPU available: True (cuda), used: True\n",
      "TPU available: False, using: 0 TPU cores\n",
      "HPU available: False, using: 0 HPUs\n",
      "LOCAL_RANK: 0 - CUDA_VISIBLE_DEVICES: [0]\n"
     ]
    },
    {
     "name": "stdout",
     "output_type": "stream",
     "text": [
      "Model loaded from checkpoint for trial 41, fold 0\n"
     ]
    },
    {
     "name": "stderr",
     "output_type": "stream",
     "text": [
      "Specified future encoders in `add_encoders` at model creation but model does not accept future covariates. future encoders will be ignored.\n",
      "GPU available: True (cuda), used: True\n",
      "TPU available: False, using: 0 TPU cores\n",
      "HPU available: False, using: 0 HPUs\n",
      "LOCAL_RANK: 0 - CUDA_VISIBLE_DEVICES: [0]\n"
     ]
    },
    {
     "name": "stdout",
     "output_type": "stream",
     "text": [
      "SMAPE fold 0: 133.41484233314642\n",
      "\n",
      "Fold 2/3\n"
     ]
    },
    {
     "name": "stderr",
     "output_type": "stream",
     "text": [
      "/home/eduardo/Documentos/Water-Cycle-Neural-Network/venv/lib/python3.12/site-packages/optuna/trial/_trial.py:497: UserWarning: The reported value is ignored because this `step` 0 is already reported.\n",
      "  warnings.warn(\n",
      "Metric val_loss improved by 11.939 >= min_delta = 0.0005. New best score: 0.096\n",
      "/home/eduardo/Documentos/Water-Cycle-Neural-Network/venv/lib/python3.12/site-packages/optuna/trial/_trial.py:497: UserWarning: The reported value is ignored because this `step` 1 is already reported.\n",
      "  warnings.warn(\n",
      "Metric val_loss improved by 0.039 >= min_delta = 0.0005. New best score: 0.057\n",
      "/home/eduardo/Documentos/Water-Cycle-Neural-Network/venv/lib/python3.12/site-packages/optuna/trial/_trial.py:497: UserWarning: The reported value is ignored because this `step` 2 is already reported.\n",
      "  warnings.warn(\n",
      "Metric val_loss improved by 0.008 >= min_delta = 0.0005. New best score: 0.049\n",
      "/home/eduardo/Documentos/Water-Cycle-Neural-Network/venv/lib/python3.12/site-packages/optuna/trial/_trial.py:497: UserWarning: The reported value is ignored because this `step` 3 is already reported.\n",
      "  warnings.warn(\n",
      "/home/eduardo/Documentos/Water-Cycle-Neural-Network/venv/lib/python3.12/site-packages/optuna/trial/_trial.py:497: UserWarning: The reported value is ignored because this `step` 4 is already reported.\n",
      "  warnings.warn(\n",
      "Metric val_loss improved by 0.004 >= min_delta = 0.0005. New best score: 0.044\n",
      "/home/eduardo/Documentos/Water-Cycle-Neural-Network/venv/lib/python3.12/site-packages/optuna/trial/_trial.py:497: UserWarning: The reported value is ignored because this `step` 5 is already reported.\n",
      "  warnings.warn(\n",
      "/home/eduardo/Documentos/Water-Cycle-Neural-Network/venv/lib/python3.12/site-packages/optuna/trial/_trial.py:497: UserWarning: The reported value is ignored because this `step` 6 is already reported.\n",
      "  warnings.warn(\n",
      "/home/eduardo/Documentos/Water-Cycle-Neural-Network/venv/lib/python3.12/site-packages/optuna/trial/_trial.py:497: UserWarning: The reported value is ignored because this `step` 7 is already reported.\n",
      "  warnings.warn(\n",
      "/home/eduardo/Documentos/Water-Cycle-Neural-Network/venv/lib/python3.12/site-packages/optuna/trial/_trial.py:497: UserWarning: The reported value is ignored because this `step` 8 is already reported.\n",
      "  warnings.warn(\n",
      "/home/eduardo/Documentos/Water-Cycle-Neural-Network/venv/lib/python3.12/site-packages/optuna/trial/_trial.py:497: UserWarning: The reported value is ignored because this `step` 9 is already reported.\n",
      "  warnings.warn(\n",
      "/home/eduardo/Documentos/Water-Cycle-Neural-Network/venv/lib/python3.12/site-packages/optuna/trial/_trial.py:497: UserWarning: The reported value is ignored because this `step` 10 is already reported.\n",
      "  warnings.warn(\n",
      "/home/eduardo/Documentos/Water-Cycle-Neural-Network/venv/lib/python3.12/site-packages/optuna/trial/_trial.py:497: UserWarning: The reported value is ignored because this `step` 11 is already reported.\n",
      "  warnings.warn(\n",
      "/home/eduardo/Documentos/Water-Cycle-Neural-Network/venv/lib/python3.12/site-packages/optuna/trial/_trial.py:497: UserWarning: The reported value is ignored because this `step` 12 is already reported.\n",
      "  warnings.warn(\n",
      "/home/eduardo/Documentos/Water-Cycle-Neural-Network/venv/lib/python3.12/site-packages/optuna/trial/_trial.py:497: UserWarning: The reported value is ignored because this `step` 13 is already reported.\n",
      "  warnings.warn(\n",
      "/home/eduardo/Documentos/Water-Cycle-Neural-Network/venv/lib/python3.12/site-packages/optuna/trial/_trial.py:497: UserWarning: The reported value is ignored because this `step` 14 is already reported.\n",
      "  warnings.warn(\n",
      "/home/eduardo/Documentos/Water-Cycle-Neural-Network/venv/lib/python3.12/site-packages/optuna/trial/_trial.py:497: UserWarning: The reported value is ignored because this `step` 15 is already reported.\n",
      "  warnings.warn(\n",
      "/home/eduardo/Documentos/Water-Cycle-Neural-Network/venv/lib/python3.12/site-packages/optuna/trial/_trial.py:497: UserWarning: The reported value is ignored because this `step` 16 is already reported.\n",
      "  warnings.warn(\n",
      "/home/eduardo/Documentos/Water-Cycle-Neural-Network/venv/lib/python3.12/site-packages/optuna/trial/_trial.py:497: UserWarning: The reported value is ignored because this `step` 17 is already reported.\n",
      "  warnings.warn(\n",
      "/home/eduardo/Documentos/Water-Cycle-Neural-Network/venv/lib/python3.12/site-packages/optuna/trial/_trial.py:497: UserWarning: The reported value is ignored because this `step` 18 is already reported.\n",
      "  warnings.warn(\n",
      "/home/eduardo/Documentos/Water-Cycle-Neural-Network/venv/lib/python3.12/site-packages/optuna/trial/_trial.py:497: UserWarning: The reported value is ignored because this `step` 19 is already reported.\n",
      "  warnings.warn(\n",
      "Metric val_loss improved by 0.002 >= min_delta = 0.0005. New best score: 0.042\n",
      "/home/eduardo/Documentos/Water-Cycle-Neural-Network/venv/lib/python3.12/site-packages/optuna/trial/_trial.py:497: UserWarning: The reported value is ignored because this `step` 20 is already reported.\n",
      "  warnings.warn(\n",
      "/home/eduardo/Documentos/Water-Cycle-Neural-Network/venv/lib/python3.12/site-packages/optuna/trial/_trial.py:497: UserWarning: The reported value is ignored because this `step` 21 is already reported.\n",
      "  warnings.warn(\n",
      "/home/eduardo/Documentos/Water-Cycle-Neural-Network/venv/lib/python3.12/site-packages/optuna/trial/_trial.py:497: UserWarning: The reported value is ignored because this `step` 22 is already reported.\n",
      "  warnings.warn(\n",
      "Metric val_loss improved by 0.001 >= min_delta = 0.0005. New best score: 0.041\n",
      "`Trainer.fit` stopped: `max_epochs=30` reached.\n",
      "GPU available: True (cuda), used: True\n",
      "TPU available: False, using: 0 TPU cores\n",
      "HPU available: False, using: 0 HPUs\n",
      "LOCAL_RANK: 0 - CUDA_VISIBLE_DEVICES: [0]\n"
     ]
    },
    {
     "name": "stdout",
     "output_type": "stream",
     "text": [
      "Model loaded from checkpoint for trial 41, fold 1\n"
     ]
    },
    {
     "name": "stderr",
     "output_type": "stream",
     "text": [
      "Specified future encoders in `add_encoders` at model creation but model does not accept future covariates. future encoders will be ignored.\n",
      "GPU available: True (cuda), used: True\n",
      "TPU available: False, using: 0 TPU cores\n",
      "HPU available: False, using: 0 HPUs\n",
      "LOCAL_RANK: 0 - CUDA_VISIBLE_DEVICES: [0]\n"
     ]
    },
    {
     "name": "stdout",
     "output_type": "stream",
     "text": [
      "SMAPE fold 1: 45.34625267349707\n",
      "\n",
      "Fold 3/3\n"
     ]
    },
    {
     "name": "stderr",
     "output_type": "stream",
     "text": [
      "/home/eduardo/Documentos/Water-Cycle-Neural-Network/venv/lib/python3.12/site-packages/optuna/trial/_trial.py:497: UserWarning: The reported value is ignored because this `step` 0 is already reported.\n",
      "  warnings.warn(\n",
      "/home/eduardo/Documentos/Water-Cycle-Neural-Network/venv/lib/python3.12/site-packages/optuna/trial/_trial.py:497: UserWarning: The reported value is ignored because this `step` 1 is already reported.\n",
      "  warnings.warn(\n",
      "/home/eduardo/Documentos/Water-Cycle-Neural-Network/venv/lib/python3.12/site-packages/optuna/trial/_trial.py:497: UserWarning: The reported value is ignored because this `step` 2 is already reported.\n",
      "  warnings.warn(\n",
      "/home/eduardo/Documentos/Water-Cycle-Neural-Network/venv/lib/python3.12/site-packages/optuna/trial/_trial.py:497: UserWarning: The reported value is ignored because this `step` 3 is already reported.\n",
      "  warnings.warn(\n",
      "/home/eduardo/Documentos/Water-Cycle-Neural-Network/venv/lib/python3.12/site-packages/optuna/trial/_trial.py:497: UserWarning: The reported value is ignored because this `step` 4 is already reported.\n",
      "  warnings.warn(\n",
      "/home/eduardo/Documentos/Water-Cycle-Neural-Network/venv/lib/python3.12/site-packages/optuna/trial/_trial.py:497: UserWarning: The reported value is ignored because this `step` 5 is already reported.\n",
      "  warnings.warn(\n",
      "/home/eduardo/Documentos/Water-Cycle-Neural-Network/venv/lib/python3.12/site-packages/optuna/trial/_trial.py:497: UserWarning: The reported value is ignored because this `step` 6 is already reported.\n",
      "  warnings.warn(\n",
      "/home/eduardo/Documentos/Water-Cycle-Neural-Network/venv/lib/python3.12/site-packages/optuna/trial/_trial.py:497: UserWarning: The reported value is ignored because this `step` 7 is already reported.\n",
      "  warnings.warn(\n",
      "Monitored metric val_loss did not improve in the last 15 records. Best score: 0.041. Signaling Trainer to stop.\n",
      "GPU available: True (cuda), used: True\n",
      "TPU available: False, using: 0 TPU cores\n",
      "HPU available: False, using: 0 HPUs\n",
      "LOCAL_RANK: 0 - CUDA_VISIBLE_DEVICES: [0]\n"
     ]
    },
    {
     "name": "stdout",
     "output_type": "stream",
     "text": [
      "Model loaded from checkpoint for trial 41, fold 2\n"
     ]
    },
    {
     "name": "stderr",
     "output_type": "stream",
     "text": [
      "[I 2025-06-10 23:15:56,140] Trial 41 finished with value: 75.60414322414351 and parameters: {'input_chunk_length': 36, 'hidden_size': 72, 'layer_size': 3, 'dropout': 0.1, 'batch_size': 64, 'lr': 0.0016204188223214425, 'weight_decay': 3.466447758684771e-06}. Best is trial 19 with value: 55.19662140548929.\n",
      "Specified future encoders in `add_encoders` at model creation but model does not accept future covariates. future encoders will be ignored.\n",
      "GPU available: True (cuda), used: True\n",
      "TPU available: False, using: 0 TPU cores\n",
      "HPU available: False, using: 0 HPUs\n",
      "LOCAL_RANK: 0 - CUDA_VISIBLE_DEVICES: [0]\n"
     ]
    },
    {
     "name": "stdout",
     "output_type": "stream",
     "text": [
      "SMAPE fold 2: 48.051334665787046\n",
      "Média dos SMAPE nos folds: 75.60414322414351\n",
      "Results of trial 41 saved in optuna_iteration_metrics/trial_41.json\n",
      "Current value: 75.60414322414351, Current params: {'input_chunk_length': 36, 'hidden_size': 72, 'layer_size': 3, 'dropout': 0.1, 'batch_size': 64, 'lr': 0.0016204188223214425, 'weight_decay': 3.466447758684771e-06}\n",
      "Best value: 55.19662140548929, Best params: {'input_chunk_length': 72, 'hidden_size': 224, 'layer_size': 3, 'dropout': 0.2, 'batch_size': 96, 'lr': 0.001210853477491263, 'weight_decay': 3.398501349467249e-06}\n",
      "\n",
      "Fold 1/3\n"
     ]
    },
    {
     "name": "stderr",
     "output_type": "stream",
     "text": [
      "Metric val_loss improved. New best score: 12.107\n",
      "Metric val_loss improved by 0.024 >= min_delta = 0.0005. New best score: 12.083\n",
      "Monitored metric val_loss did not improve in the last 15 records. Best score: 12.083. Signaling Trainer to stop.\n",
      "GPU available: True (cuda), used: True\n",
      "TPU available: False, using: 0 TPU cores\n",
      "HPU available: False, using: 0 HPUs\n",
      "LOCAL_RANK: 0 - CUDA_VISIBLE_DEVICES: [0]\n"
     ]
    },
    {
     "name": "stdout",
     "output_type": "stream",
     "text": [
      "Model loaded from checkpoint for trial 42, fold 0\n"
     ]
    },
    {
     "name": "stderr",
     "output_type": "stream",
     "text": [
      "Specified future encoders in `add_encoders` at model creation but model does not accept future covariates. future encoders will be ignored.\n",
      "GPU available: True (cuda), used: True\n",
      "TPU available: False, using: 0 TPU cores\n",
      "HPU available: False, using: 0 HPUs\n",
      "LOCAL_RANK: 0 - CUDA_VISIBLE_DEVICES: [0]\n"
     ]
    },
    {
     "name": "stdout",
     "output_type": "stream",
     "text": [
      "SMAPE fold 0: 91.97934463684719\n",
      "\n",
      "Fold 2/3\n"
     ]
    },
    {
     "name": "stderr",
     "output_type": "stream",
     "text": [
      "/home/eduardo/Documentos/Water-Cycle-Neural-Network/venv/lib/python3.12/site-packages/optuna/trial/_trial.py:497: UserWarning: The reported value is ignored because this `step` 0 is already reported.\n",
      "  warnings.warn(\n",
      "Metric val_loss improved by 11.994 >= min_delta = 0.0005. New best score: 0.089\n",
      "/home/eduardo/Documentos/Water-Cycle-Neural-Network/venv/lib/python3.12/site-packages/optuna/trial/_trial.py:497: UserWarning: The reported value is ignored because this `step` 1 is already reported.\n",
      "  warnings.warn(\n",
      "Metric val_loss improved by 0.046 >= min_delta = 0.0005. New best score: 0.043\n",
      "/home/eduardo/Documentos/Water-Cycle-Neural-Network/venv/lib/python3.12/site-packages/optuna/trial/_trial.py:497: UserWarning: The reported value is ignored because this `step` 2 is already reported.\n",
      "  warnings.warn(\n",
      "/home/eduardo/Documentos/Water-Cycle-Neural-Network/venv/lib/python3.12/site-packages/optuna/trial/_trial.py:497: UserWarning: The reported value is ignored because this `step` 3 is already reported.\n",
      "  warnings.warn(\n",
      "/home/eduardo/Documentos/Water-Cycle-Neural-Network/venv/lib/python3.12/site-packages/optuna/trial/_trial.py:497: UserWarning: The reported value is ignored because this `step` 4 is already reported.\n",
      "  warnings.warn(\n",
      "Metric val_loss improved by 0.001 >= min_delta = 0.0005. New best score: 0.042\n",
      "/home/eduardo/Documentos/Water-Cycle-Neural-Network/venv/lib/python3.12/site-packages/optuna/trial/_trial.py:497: UserWarning: The reported value is ignored because this `step` 5 is already reported.\n",
      "  warnings.warn(\n",
      "Metric val_loss improved by 0.001 >= min_delta = 0.0005. New best score: 0.041\n",
      "/home/eduardo/Documentos/Water-Cycle-Neural-Network/venv/lib/python3.12/site-packages/optuna/trial/_trial.py:497: UserWarning: The reported value is ignored because this `step` 6 is already reported.\n",
      "  warnings.warn(\n",
      "/home/eduardo/Documentos/Water-Cycle-Neural-Network/venv/lib/python3.12/site-packages/optuna/trial/_trial.py:497: UserWarning: The reported value is ignored because this `step` 7 is already reported.\n",
      "  warnings.warn(\n",
      "/home/eduardo/Documentos/Water-Cycle-Neural-Network/venv/lib/python3.12/site-packages/optuna/trial/_trial.py:497: UserWarning: The reported value is ignored because this `step` 8 is already reported.\n",
      "  warnings.warn(\n",
      "/home/eduardo/Documentos/Water-Cycle-Neural-Network/venv/lib/python3.12/site-packages/optuna/trial/_trial.py:497: UserWarning: The reported value is ignored because this `step` 9 is already reported.\n",
      "  warnings.warn(\n",
      "/home/eduardo/Documentos/Water-Cycle-Neural-Network/venv/lib/python3.12/site-packages/optuna/trial/_trial.py:497: UserWarning: The reported value is ignored because this `step` 10 is already reported.\n",
      "  warnings.warn(\n",
      "/home/eduardo/Documentos/Water-Cycle-Neural-Network/venv/lib/python3.12/site-packages/optuna/trial/_trial.py:497: UserWarning: The reported value is ignored because this `step` 11 is already reported.\n",
      "  warnings.warn(\n",
      "/home/eduardo/Documentos/Water-Cycle-Neural-Network/venv/lib/python3.12/site-packages/optuna/trial/_trial.py:497: UserWarning: The reported value is ignored because this `step` 12 is already reported.\n",
      "  warnings.warn(\n",
      "Metric val_loss improved by 0.004 >= min_delta = 0.0005. New best score: 0.037\n",
      "/home/eduardo/Documentos/Water-Cycle-Neural-Network/venv/lib/python3.12/site-packages/optuna/trial/_trial.py:497: UserWarning: The reported value is ignored because this `step` 13 is already reported.\n",
      "  warnings.warn(\n",
      "/home/eduardo/Documentos/Water-Cycle-Neural-Network/venv/lib/python3.12/site-packages/optuna/trial/_trial.py:497: UserWarning: The reported value is ignored because this `step` 14 is already reported.\n",
      "  warnings.warn(\n",
      "/home/eduardo/Documentos/Water-Cycle-Neural-Network/venv/lib/python3.12/site-packages/optuna/trial/_trial.py:497: UserWarning: The reported value is ignored because this `step` 15 is already reported.\n",
      "  warnings.warn(\n",
      "/home/eduardo/Documentos/Water-Cycle-Neural-Network/venv/lib/python3.12/site-packages/optuna/trial/_trial.py:497: UserWarning: The reported value is ignored because this `step` 16 is already reported.\n",
      "  warnings.warn(\n",
      "Monitored metric val_loss did not improve in the last 15 records. Best score: 0.037. Signaling Trainer to stop.\n",
      "GPU available: True (cuda), used: True\n",
      "TPU available: False, using: 0 TPU cores\n",
      "HPU available: False, using: 0 HPUs\n",
      "LOCAL_RANK: 0 - CUDA_VISIBLE_DEVICES: [0]\n"
     ]
    },
    {
     "name": "stdout",
     "output_type": "stream",
     "text": [
      "Model loaded from checkpoint for trial 42, fold 1\n"
     ]
    },
    {
     "name": "stderr",
     "output_type": "stream",
     "text": [
      "Specified future encoders in `add_encoders` at model creation but model does not accept future covariates. future encoders will be ignored.\n",
      "GPU available: True (cuda), used: True\n",
      "TPU available: False, using: 0 TPU cores\n",
      "HPU available: False, using: 0 HPUs\n",
      "LOCAL_RANK: 0 - CUDA_VISIBLE_DEVICES: [0]\n"
     ]
    },
    {
     "name": "stdout",
     "output_type": "stream",
     "text": [
      "SMAPE fold 1: 38.87982513862611\n",
      "\n",
      "Fold 3/3\n"
     ]
    },
    {
     "name": "stderr",
     "output_type": "stream",
     "text": [
      "/home/eduardo/Documentos/Water-Cycle-Neural-Network/venv/lib/python3.12/site-packages/optuna/trial/_trial.py:497: UserWarning: The reported value is ignored because this `step` 0 is already reported.\n",
      "  warnings.warn(\n",
      "Monitored metric val_loss did not improve in the last 16 records. Best score: 0.037. Signaling Trainer to stop.\n",
      "GPU available: True (cuda), used: True\n",
      "TPU available: False, using: 0 TPU cores\n",
      "HPU available: False, using: 0 HPUs\n",
      "LOCAL_RANK: 0 - CUDA_VISIBLE_DEVICES: [0]\n"
     ]
    },
    {
     "name": "stdout",
     "output_type": "stream",
     "text": [
      "Model loaded from checkpoint for trial 42, fold 2\n"
     ]
    },
    {
     "name": "stderr",
     "output_type": "stream",
     "text": [
      "[I 2025-06-10 23:17:49,045] Trial 42 finished with value: 60.592632930264074 and parameters: {'input_chunk_length': 36, 'hidden_size': 96, 'layer_size': 3, 'dropout': 0.1, 'batch_size': 80, 'lr': 0.002894841611231144, 'weight_decay': 1.8206427741528218e-06}. Best is trial 19 with value: 55.19662140548929.\n",
      "Specified future encoders in `add_encoders` at model creation but model does not accept future covariates. future encoders will be ignored.\n",
      "GPU available: True (cuda), used: True\n",
      "TPU available: False, using: 0 TPU cores\n",
      "HPU available: False, using: 0 HPUs\n",
      "LOCAL_RANK: 0 - CUDA_VISIBLE_DEVICES: [0]\n"
     ]
    },
    {
     "name": "stdout",
     "output_type": "stream",
     "text": [
      "SMAPE fold 2: 50.918729015318924\n",
      "Média dos SMAPE nos folds: 60.592632930264074\n",
      "Results of trial 42 saved in optuna_iteration_metrics/trial_42.json\n",
      "Current value: 60.592632930264074, Current params: {'input_chunk_length': 36, 'hidden_size': 96, 'layer_size': 3, 'dropout': 0.1, 'batch_size': 80, 'lr': 0.002894841611231144, 'weight_decay': 1.8206427741528218e-06}\n",
      "Best value: 55.19662140548929, Best params: {'input_chunk_length': 72, 'hidden_size': 224, 'layer_size': 3, 'dropout': 0.2, 'batch_size': 96, 'lr': 0.001210853477491263, 'weight_decay': 3.398501349467249e-06}\n",
      "\n",
      "Fold 1/3\n"
     ]
    },
    {
     "name": "stderr",
     "output_type": "stream",
     "text": [
      "Metric val_loss improved. New best score: 12.208\n",
      "Metric val_loss improved by 0.041 >= min_delta = 0.0005. New best score: 12.167\n",
      "Metric val_loss improved by 0.005 >= min_delta = 0.0005. New best score: 12.162\n",
      "Monitored metric val_loss did not improve in the last 15 records. Best score: 12.162. Signaling Trainer to stop.\n",
      "GPU available: True (cuda), used: True\n",
      "TPU available: False, using: 0 TPU cores\n",
      "HPU available: False, using: 0 HPUs\n",
      "LOCAL_RANK: 0 - CUDA_VISIBLE_DEVICES: [0]\n"
     ]
    },
    {
     "name": "stdout",
     "output_type": "stream",
     "text": [
      "Model loaded from checkpoint for trial 43, fold 0\n"
     ]
    },
    {
     "name": "stderr",
     "output_type": "stream",
     "text": [
      "Specified future encoders in `add_encoders` at model creation but model does not accept future covariates. future encoders will be ignored.\n",
      "GPU available: True (cuda), used: True\n",
      "TPU available: False, using: 0 TPU cores\n",
      "HPU available: False, using: 0 HPUs\n",
      "LOCAL_RANK: 0 - CUDA_VISIBLE_DEVICES: [0]\n"
     ]
    },
    {
     "name": "stdout",
     "output_type": "stream",
     "text": [
      "SMAPE fold 0: 90.50038811616972\n",
      "\n",
      "Fold 2/3\n"
     ]
    },
    {
     "name": "stderr",
     "output_type": "stream",
     "text": [
      "/home/eduardo/Documentos/Water-Cycle-Neural-Network/venv/lib/python3.12/site-packages/optuna/trial/_trial.py:497: UserWarning: The reported value is ignored because this `step` 0 is already reported.\n",
      "  warnings.warn(\n",
      "Metric val_loss improved by 12.079 >= min_delta = 0.0005. New best score: 0.083\n",
      "/home/eduardo/Documentos/Water-Cycle-Neural-Network/venv/lib/python3.12/site-packages/optuna/trial/_trial.py:497: UserWarning: The reported value is ignored because this `step` 1 is already reported.\n",
      "  warnings.warn(\n",
      "Metric val_loss improved by 0.034 >= min_delta = 0.0005. New best score: 0.049\n",
      "/home/eduardo/Documentos/Water-Cycle-Neural-Network/venv/lib/python3.12/site-packages/optuna/trial/_trial.py:497: UserWarning: The reported value is ignored because this `step` 2 is already reported.\n",
      "  warnings.warn(\n",
      "Metric val_loss improved by 0.005 >= min_delta = 0.0005. New best score: 0.044\n",
      "/home/eduardo/Documentos/Water-Cycle-Neural-Network/venv/lib/python3.12/site-packages/optuna/trial/_trial.py:497: UserWarning: The reported value is ignored because this `step` 3 is already reported.\n",
      "  warnings.warn(\n",
      "Metric val_loss improved by 0.008 >= min_delta = 0.0005. New best score: 0.036\n",
      "/home/eduardo/Documentos/Water-Cycle-Neural-Network/venv/lib/python3.12/site-packages/optuna/trial/_trial.py:497: UserWarning: The reported value is ignored because this `step` 4 is already reported.\n",
      "  warnings.warn(\n",
      "/home/eduardo/Documentos/Water-Cycle-Neural-Network/venv/lib/python3.12/site-packages/optuna/trial/_trial.py:497: UserWarning: The reported value is ignored because this `step` 5 is already reported.\n",
      "  warnings.warn(\n",
      "/home/eduardo/Documentos/Water-Cycle-Neural-Network/venv/lib/python3.12/site-packages/optuna/trial/_trial.py:497: UserWarning: The reported value is ignored because this `step` 6 is already reported.\n",
      "  warnings.warn(\n",
      "/home/eduardo/Documentos/Water-Cycle-Neural-Network/venv/lib/python3.12/site-packages/optuna/trial/_trial.py:497: UserWarning: The reported value is ignored because this `step` 7 is already reported.\n",
      "  warnings.warn(\n",
      "/home/eduardo/Documentos/Water-Cycle-Neural-Network/venv/lib/python3.12/site-packages/optuna/trial/_trial.py:497: UserWarning: The reported value is ignored because this `step` 8 is already reported.\n",
      "  warnings.warn(\n",
      "/home/eduardo/Documentos/Water-Cycle-Neural-Network/venv/lib/python3.12/site-packages/optuna/trial/_trial.py:497: UserWarning: The reported value is ignored because this `step` 9 is already reported.\n",
      "  warnings.warn(\n",
      "/home/eduardo/Documentos/Water-Cycle-Neural-Network/venv/lib/python3.12/site-packages/optuna/trial/_trial.py:497: UserWarning: The reported value is ignored because this `step` 10 is already reported.\n",
      "  warnings.warn(\n",
      "/home/eduardo/Documentos/Water-Cycle-Neural-Network/venv/lib/python3.12/site-packages/optuna/trial/_trial.py:497: UserWarning: The reported value is ignored because this `step` 11 is already reported.\n",
      "  warnings.warn(\n",
      "/home/eduardo/Documentos/Water-Cycle-Neural-Network/venv/lib/python3.12/site-packages/optuna/trial/_trial.py:497: UserWarning: The reported value is ignored because this `step` 12 is already reported.\n",
      "  warnings.warn(\n",
      "/home/eduardo/Documentos/Water-Cycle-Neural-Network/venv/lib/python3.12/site-packages/optuna/trial/_trial.py:497: UserWarning: The reported value is ignored because this `step` 13 is already reported.\n",
      "  warnings.warn(\n",
      "/home/eduardo/Documentos/Water-Cycle-Neural-Network/venv/lib/python3.12/site-packages/optuna/trial/_trial.py:497: UserWarning: The reported value is ignored because this `step` 14 is already reported.\n",
      "  warnings.warn(\n",
      "/home/eduardo/Documentos/Water-Cycle-Neural-Network/venv/lib/python3.12/site-packages/optuna/trial/_trial.py:497: UserWarning: The reported value is ignored because this `step` 15 is already reported.\n",
      "  warnings.warn(\n",
      "/home/eduardo/Documentos/Water-Cycle-Neural-Network/venv/lib/python3.12/site-packages/optuna/trial/_trial.py:497: UserWarning: The reported value is ignored because this `step` 16 is already reported.\n",
      "  warnings.warn(\n",
      "/home/eduardo/Documentos/Water-Cycle-Neural-Network/venv/lib/python3.12/site-packages/optuna/trial/_trial.py:497: UserWarning: The reported value is ignored because this `step` 17 is already reported.\n",
      "  warnings.warn(\n",
      "/home/eduardo/Documentos/Water-Cycle-Neural-Network/venv/lib/python3.12/site-packages/optuna/trial/_trial.py:497: UserWarning: The reported value is ignored because this `step` 18 is already reported.\n",
      "  warnings.warn(\n",
      "Monitored metric val_loss did not improve in the last 15 records. Best score: 0.036. Signaling Trainer to stop.\n",
      "GPU available: True (cuda), used: True\n",
      "TPU available: False, using: 0 TPU cores\n",
      "HPU available: False, using: 0 HPUs\n",
      "LOCAL_RANK: 0 - CUDA_VISIBLE_DEVICES: [0]\n"
     ]
    },
    {
     "name": "stdout",
     "output_type": "stream",
     "text": [
      "Model loaded from checkpoint for trial 43, fold 1\n"
     ]
    },
    {
     "name": "stderr",
     "output_type": "stream",
     "text": [
      "Specified future encoders in `add_encoders` at model creation but model does not accept future covariates. future encoders will be ignored.\n",
      "GPU available: True (cuda), used: True\n",
      "TPU available: False, using: 0 TPU cores\n",
      "HPU available: False, using: 0 HPUs\n",
      "LOCAL_RANK: 0 - CUDA_VISIBLE_DEVICES: [0]\n"
     ]
    },
    {
     "name": "stdout",
     "output_type": "stream",
     "text": [
      "SMAPE fold 1: 39.31884998577617\n",
      "\n",
      "Fold 3/3\n"
     ]
    },
    {
     "name": "stderr",
     "output_type": "stream",
     "text": [
      "/home/eduardo/Documentos/Water-Cycle-Neural-Network/venv/lib/python3.12/site-packages/optuna/trial/_trial.py:497: UserWarning: The reported value is ignored because this `step` 0 is already reported.\n",
      "  warnings.warn(\n",
      "Monitored metric val_loss did not improve in the last 16 records. Best score: 0.036. Signaling Trainer to stop.\n",
      "GPU available: True (cuda), used: True\n",
      "TPU available: False, using: 0 TPU cores\n",
      "HPU available: False, using: 0 HPUs\n",
      "LOCAL_RANK: 0 - CUDA_VISIBLE_DEVICES: [0]\n"
     ]
    },
    {
     "name": "stdout",
     "output_type": "stream",
     "text": [
      "Model loaded from checkpoint for trial 43, fold 2\n"
     ]
    },
    {
     "name": "stderr",
     "output_type": "stream",
     "text": [
      "[I 2025-06-10 23:19:30,949] Trial 43 finished with value: 60.69744590754049 and parameters: {'input_chunk_length': 48, 'hidden_size': 96, 'layer_size': 3, 'dropout': 0.1, 'batch_size': 96, 'lr': 0.003145250330807861, 'weight_decay': 1.0244144261292078e-06}. Best is trial 19 with value: 55.19662140548929.\n",
      "Specified future encoders in `add_encoders` at model creation but model does not accept future covariates. future encoders will be ignored.\n",
      "GPU available: True (cuda), used: True\n",
      "TPU available: False, using: 0 TPU cores\n",
      "HPU available: False, using: 0 HPUs\n",
      "LOCAL_RANK: 0 - CUDA_VISIBLE_DEVICES: [0]\n"
     ]
    },
    {
     "name": "stdout",
     "output_type": "stream",
     "text": [
      "SMAPE fold 2: 52.27309962067559\n",
      "Média dos SMAPE nos folds: 60.69744590754049\n",
      "Results of trial 43 saved in optuna_iteration_metrics/trial_43.json\n",
      "Current value: 60.69744590754049, Current params: {'input_chunk_length': 48, 'hidden_size': 96, 'layer_size': 3, 'dropout': 0.1, 'batch_size': 96, 'lr': 0.003145250330807861, 'weight_decay': 1.0244144261292078e-06}\n",
      "Best value: 55.19662140548929, Best params: {'input_chunk_length': 72, 'hidden_size': 224, 'layer_size': 3, 'dropout': 0.2, 'batch_size': 96, 'lr': 0.001210853477491263, 'weight_decay': 3.398501349467249e-06}\n",
      "\n",
      "Fold 1/3\n"
     ]
    },
    {
     "name": "stderr",
     "output_type": "stream",
     "text": [
      "Metric val_loss improved. New best score: 12.364\n",
      "[I 2025-06-10 23:19:36,251] Trial 44 pruned. Trial was pruned at epoch 1.\n",
      "Specified future encoders in `add_encoders` at model creation but model does not accept future covariates. future encoders will be ignored.\n",
      "GPU available: True (cuda), used: True\n",
      "TPU available: False, using: 0 TPU cores\n",
      "HPU available: False, using: 0 HPUs\n",
      "LOCAL_RANK: 0 - CUDA_VISIBLE_DEVICES: [0]\n"
     ]
    },
    {
     "name": "stdout",
     "output_type": "stream",
     "text": [
      "Current value: 12.335741646455869, Current params: {'input_chunk_length': 60, 'hidden_size': 32, 'layer_size': 3, 'dropout': 0.15000000000000002, 'batch_size': 80, 'lr': 0.004493294824931886, 'weight_decay': 8.3698654763069e-06}\n",
      "Best value: 55.19662140548929, Best params: {'input_chunk_length': 72, 'hidden_size': 224, 'layer_size': 3, 'dropout': 0.2, 'batch_size': 96, 'lr': 0.001210853477491263, 'weight_decay': 3.398501349467249e-06}\n",
      "\n",
      "Fold 1/3\n"
     ]
    },
    {
     "name": "stderr",
     "output_type": "stream",
     "text": [
      "[I 2025-06-10 23:19:39,475] Trial 45 pruned. Trial was pruned at epoch 0.\n",
      "Specified future encoders in `add_encoders` at model creation but model does not accept future covariates. future encoders will be ignored.\n"
     ]
    },
    {
     "name": "stdout",
     "output_type": "stream",
     "text": [
      "Current value: 12.38658406629509, Current params: {'input_chunk_length': 72, 'hidden_size': 88, 'layer_size': 3, 'dropout': 0.1, 'batch_size': 104, 'lr': 0.0012240306494996171, 'weight_decay': 1.558655349810533e-06}\n",
      "Best value: 55.19662140548929, Best params: {'input_chunk_length': 72, 'hidden_size': 224, 'layer_size': 3, 'dropout': 0.2, 'batch_size': 96, 'lr': 0.001210853477491263, 'weight_decay': 3.398501349467249e-06}\n",
      "\n",
      "Fold 1/3\n"
     ]
    },
    {
     "name": "stderr",
     "output_type": "stream",
     "text": [
      "GPU available: True (cuda), used: True\n",
      "TPU available: False, using: 0 TPU cores\n",
      "HPU available: False, using: 0 HPUs\n",
      "LOCAL_RANK: 0 - CUDA_VISIBLE_DEVICES: [0]\n",
      "[I 2025-06-10 23:20:38,562] Trial 46 pruned. Trial was pruned at epoch 0.\n",
      "Specified future encoders in `add_encoders` at model creation but model does not accept future covariates. future encoders will be ignored.\n",
      "GPU available: True (cuda), used: True\n",
      "TPU available: False, using: 0 TPU cores\n",
      "HPU available: False, using: 0 HPUs\n",
      "LOCAL_RANK: 0 - CUDA_VISIBLE_DEVICES: [0]\n"
     ]
    },
    {
     "name": "stdout",
     "output_type": "stream",
     "text": [
      "Current value: 12.512081603953797, Current params: {'input_chunk_length': 96, 'hidden_size': 136, 'layer_size': 3, 'dropout': 0.15000000000000002, 'batch_size': 112, 'lr': 0.0032165363680837548, 'weight_decay': 5.8892512525656624e-06}\n",
      "Best value: 55.19662140548929, Best params: {'input_chunk_length': 72, 'hidden_size': 224, 'layer_size': 3, 'dropout': 0.2, 'batch_size': 96, 'lr': 0.001210853477491263, 'weight_decay': 3.398501349467249e-06}\n",
      "\n",
      "Fold 1/3\n"
     ]
    },
    {
     "name": "stderr",
     "output_type": "stream",
     "text": [
      "Metric val_loss improved. New best score: 12.081\n",
      "Metric val_loss improved by 0.067 >= min_delta = 0.0005. New best score: 12.015\n",
      "Metric val_loss improved by 0.046 >= min_delta = 0.0005. New best score: 11.968\n",
      "Monitored metric val_loss did not improve in the last 15 records. Best score: 11.968. Signaling Trainer to stop.\n",
      "GPU available: True (cuda), used: True\n",
      "TPU available: False, using: 0 TPU cores\n",
      "HPU available: False, using: 0 HPUs\n",
      "LOCAL_RANK: 0 - CUDA_VISIBLE_DEVICES: [0]\n"
     ]
    },
    {
     "name": "stdout",
     "output_type": "stream",
     "text": [
      "Model loaded from checkpoint for trial 47, fold 0\n"
     ]
    },
    {
     "name": "stderr",
     "output_type": "stream",
     "text": [
      "Specified future encoders in `add_encoders` at model creation but model does not accept future covariates. future encoders will be ignored.\n",
      "GPU available: True (cuda), used: True\n",
      "TPU available: False, using: 0 TPU cores\n",
      "HPU available: False, using: 0 HPUs\n",
      "LOCAL_RANK: 0 - CUDA_VISIBLE_DEVICES: [0]\n"
     ]
    },
    {
     "name": "stdout",
     "output_type": "stream",
     "text": [
      "SMAPE fold 0: 95.76770862612292\n",
      "\n",
      "Fold 2/3\n"
     ]
    },
    {
     "name": "stderr",
     "output_type": "stream",
     "text": [
      "/home/eduardo/Documentos/Water-Cycle-Neural-Network/venv/lib/python3.12/site-packages/optuna/trial/_trial.py:497: UserWarning: The reported value is ignored because this `step` 0 is already reported.\n",
      "  warnings.warn(\n",
      "Metric val_loss improved by 11.825 >= min_delta = 0.0005. New best score: 0.143\n",
      "/home/eduardo/Documentos/Water-Cycle-Neural-Network/venv/lib/python3.12/site-packages/optuna/trial/_trial.py:497: UserWarning: The reported value is ignored because this `step` 1 is already reported.\n",
      "  warnings.warn(\n",
      "Metric val_loss improved by 0.065 >= min_delta = 0.0005. New best score: 0.078\n",
      "/home/eduardo/Documentos/Water-Cycle-Neural-Network/venv/lib/python3.12/site-packages/optuna/trial/_trial.py:497: UserWarning: The reported value is ignored because this `step` 2 is already reported.\n",
      "  warnings.warn(\n",
      "Metric val_loss improved by 0.030 >= min_delta = 0.0005. New best score: 0.048\n",
      "/home/eduardo/Documentos/Water-Cycle-Neural-Network/venv/lib/python3.12/site-packages/optuna/trial/_trial.py:497: UserWarning: The reported value is ignored because this `step` 3 is already reported.\n",
      "  warnings.warn(\n",
      "Metric val_loss improved by 0.011 >= min_delta = 0.0005. New best score: 0.037\n",
      "/home/eduardo/Documentos/Water-Cycle-Neural-Network/venv/lib/python3.12/site-packages/optuna/trial/_trial.py:497: UserWarning: The reported value is ignored because this `step` 4 is already reported.\n",
      "  warnings.warn(\n",
      "/home/eduardo/Documentos/Water-Cycle-Neural-Network/venv/lib/python3.12/site-packages/optuna/trial/_trial.py:497: UserWarning: The reported value is ignored because this `step` 5 is already reported.\n",
      "  warnings.warn(\n",
      "/home/eduardo/Documentos/Water-Cycle-Neural-Network/venv/lib/python3.12/site-packages/optuna/trial/_trial.py:497: UserWarning: The reported value is ignored because this `step` 6 is already reported.\n",
      "  warnings.warn(\n",
      "Metric val_loss improved by 0.001 >= min_delta = 0.0005. New best score: 0.036\n",
      "/home/eduardo/Documentos/Water-Cycle-Neural-Network/venv/lib/python3.12/site-packages/optuna/trial/_trial.py:497: UserWarning: The reported value is ignored because this `step` 7 is already reported.\n",
      "  warnings.warn(\n",
      "/home/eduardo/Documentos/Water-Cycle-Neural-Network/venv/lib/python3.12/site-packages/optuna/trial/_trial.py:497: UserWarning: The reported value is ignored because this `step` 8 is already reported.\n",
      "  warnings.warn(\n",
      "/home/eduardo/Documentos/Water-Cycle-Neural-Network/venv/lib/python3.12/site-packages/optuna/trial/_trial.py:497: UserWarning: The reported value is ignored because this `step` 9 is already reported.\n",
      "  warnings.warn(\n",
      "/home/eduardo/Documentos/Water-Cycle-Neural-Network/venv/lib/python3.12/site-packages/optuna/trial/_trial.py:497: UserWarning: The reported value is ignored because this `step` 10 is already reported.\n",
      "  warnings.warn(\n",
      "/home/eduardo/Documentos/Water-Cycle-Neural-Network/venv/lib/python3.12/site-packages/optuna/trial/_trial.py:497: UserWarning: The reported value is ignored because this `step` 11 is already reported.\n",
      "  warnings.warn(\n",
      "/home/eduardo/Documentos/Water-Cycle-Neural-Network/venv/lib/python3.12/site-packages/optuna/trial/_trial.py:497: UserWarning: The reported value is ignored because this `step` 12 is already reported.\n",
      "  warnings.warn(\n",
      "/home/eduardo/Documentos/Water-Cycle-Neural-Network/venv/lib/python3.12/site-packages/optuna/trial/_trial.py:497: UserWarning: The reported value is ignored because this `step` 13 is already reported.\n",
      "  warnings.warn(\n",
      "/home/eduardo/Documentos/Water-Cycle-Neural-Network/venv/lib/python3.12/site-packages/optuna/trial/_trial.py:497: UserWarning: The reported value is ignored because this `step` 14 is already reported.\n",
      "  warnings.warn(\n",
      "/home/eduardo/Documentos/Water-Cycle-Neural-Network/venv/lib/python3.12/site-packages/optuna/trial/_trial.py:497: UserWarning: The reported value is ignored because this `step` 15 is already reported.\n",
      "  warnings.warn(\n",
      "/home/eduardo/Documentos/Water-Cycle-Neural-Network/venv/lib/python3.12/site-packages/optuna/trial/_trial.py:497: UserWarning: The reported value is ignored because this `step` 16 is already reported.\n",
      "  warnings.warn(\n",
      "/home/eduardo/Documentos/Water-Cycle-Neural-Network/venv/lib/python3.12/site-packages/optuna/trial/_trial.py:497: UserWarning: The reported value is ignored because this `step` 17 is already reported.\n",
      "  warnings.warn(\n",
      "Monitored metric val_loss did not improve in the last 15 records. Best score: 0.036. Signaling Trainer to stop.\n",
      "GPU available: True (cuda), used: True\n",
      "TPU available: False, using: 0 TPU cores\n",
      "HPU available: False, using: 0 HPUs\n",
      "LOCAL_RANK: 0 - CUDA_VISIBLE_DEVICES: [0]\n"
     ]
    },
    {
     "name": "stdout",
     "output_type": "stream",
     "text": [
      "Model loaded from checkpoint for trial 47, fold 1\n"
     ]
    },
    {
     "name": "stderr",
     "output_type": "stream",
     "text": [
      "Specified future encoders in `add_encoders` at model creation but model does not accept future covariates. future encoders will be ignored.\n",
      "GPU available: True (cuda), used: True\n",
      "TPU available: False, using: 0 TPU cores\n",
      "HPU available: False, using: 0 HPUs\n",
      "LOCAL_RANK: 0 - CUDA_VISIBLE_DEVICES: [0]\n"
     ]
    },
    {
     "name": "stdout",
     "output_type": "stream",
     "text": [
      "SMAPE fold 1: 42.4559058491524\n",
      "\n",
      "Fold 3/3\n"
     ]
    },
    {
     "name": "stderr",
     "output_type": "stream",
     "text": [
      "/home/eduardo/Documentos/Water-Cycle-Neural-Network/venv/lib/python3.12/site-packages/optuna/trial/_trial.py:497: UserWarning: The reported value is ignored because this `step` 0 is already reported.\n",
      "  warnings.warn(\n",
      "Monitored metric val_loss did not improve in the last 16 records. Best score: 0.036. Signaling Trainer to stop.\n",
      "GPU available: True (cuda), used: True\n",
      "TPU available: False, using: 0 TPU cores\n",
      "HPU available: False, using: 0 HPUs\n",
      "LOCAL_RANK: 0 - CUDA_VISIBLE_DEVICES: [0]\n"
     ]
    },
    {
     "name": "stdout",
     "output_type": "stream",
     "text": [
      "Model loaded from checkpoint for trial 47, fold 2\n"
     ]
    },
    {
     "name": "stderr",
     "output_type": "stream",
     "text": [
      "[I 2025-06-10 23:24:12,826] Trial 47 finished with value: 64.17008805586507 and parameters: {'input_chunk_length': 24, 'hidden_size': 200, 'layer_size': 3, 'dropout': 0.1, 'batch_size': 96, 'lr': 0.0007096247724107608, 'weight_decay': 2.648030848740088e-06}. Best is trial 19 with value: 55.19662140548929.\n",
      "Specified future encoders in `add_encoders` at model creation but model does not accept future covariates. future encoders will be ignored.\n",
      "GPU available: True (cuda), used: True\n",
      "TPU available: False, using: 0 TPU cores\n",
      "HPU available: False, using: 0 HPUs\n",
      "LOCAL_RANK: 0 - CUDA_VISIBLE_DEVICES: [0]\n"
     ]
    },
    {
     "name": "stdout",
     "output_type": "stream",
     "text": [
      "SMAPE fold 2: 54.286649692319884\n",
      "Média dos SMAPE nos folds: 64.17008805586507\n",
      "Results of trial 47 saved in optuna_iteration_metrics/trial_47.json\n",
      "Current value: 64.17008805586507, Current params: {'input_chunk_length': 24, 'hidden_size': 200, 'layer_size': 3, 'dropout': 0.1, 'batch_size': 96, 'lr': 0.0007096247724107608, 'weight_decay': 2.648030848740088e-06}\n",
      "Best value: 55.19662140548929, Best params: {'input_chunk_length': 72, 'hidden_size': 224, 'layer_size': 3, 'dropout': 0.2, 'batch_size': 96, 'lr': 0.001210853477491263, 'weight_decay': 3.398501349467249e-06}\n",
      "\n",
      "Fold 1/3\n"
     ]
    },
    {
     "name": "stderr",
     "output_type": "stream",
     "text": [
      "Metric val_loss improved. New best score: 12.269\n",
      "Metric val_loss improved by 0.037 >= min_delta = 0.0005. New best score: 12.231\n",
      "Metric val_loss improved by 0.018 >= min_delta = 0.0005. New best score: 12.213\n",
      "Metric val_loss improved by 0.011 >= min_delta = 0.0005. New best score: 12.202\n",
      "Metric val_loss improved by 0.004 >= min_delta = 0.0005. New best score: 12.199\n",
      "Metric val_loss improved by 0.006 >= min_delta = 0.0005. New best score: 12.193\n",
      "Metric val_loss improved by 0.012 >= min_delta = 0.0005. New best score: 12.181\n",
      "Metric val_loss improved by 0.001 >= min_delta = 0.0005. New best score: 12.180\n",
      "Metric val_loss improved by 0.003 >= min_delta = 0.0005. New best score: 12.177\n",
      "[I 2025-06-10 23:24:57,682] Trial 48 pruned. Trial was pruned at epoch 28.\n"
     ]
    },
    {
     "name": "stdout",
     "output_type": "stream",
     "text": [
      "Current value: 12.175447421794264, Current params: {'input_chunk_length': 48, 'hidden_size': 56, 'layer_size': 3, 'dropout': 0.25, 'batch_size': 232, 'lr': 0.002172943867877094, 'weight_decay': 6.771126426047524e-05}\n",
      "Best value: 55.19662140548929, Best params: {'input_chunk_length': 72, 'hidden_size': 224, 'layer_size': 3, 'dropout': 0.2, 'batch_size': 96, 'lr': 0.001210853477491263, 'weight_decay': 3.398501349467249e-06}\n"
     ]
    }
   ],
   "source": [
    "study = optuna.create_study(direction=\"minimize\")\n",
    "num_hyperparams = 7\n",
    "n_trials = 7 * num_hyperparams\n",
    "study.optimize(objective, n_trials=n_trials, callbacks=[print_callback])"
   ]
  },
  {
   "cell_type": "code",
   "execution_count": 8,
   "id": "d37bce4e436d5fb4",
   "metadata": {},
   "outputs": [
    {
     "name": "stdout",
     "output_type": "stream",
     "text": [
      "Best MASE Value (Minimum): 55.19662140548929\n",
      "Best Parameters: {'input_chunk_length': 72, 'hidden_size': 224, 'layer_size': 3, 'dropout': 0.2, 'batch_size': 96, 'lr': 0.001210853477491263, 'weight_decay': 3.398501349467249e-06}\n"
     ]
    }
   ],
   "source": [
    "print(f\"Best MASE Value (Minimum): {study.best_value}\")\n",
    "print(f\"Best Parameters: {study.best_params}\")"
   ]
  },
  {
   "cell_type": "code",
   "execution_count": 9,
   "id": "83b68ec1",
   "metadata": {},
   "outputs": [
    {
     "name": "stdout",
     "output_type": "stream",
     "text": [
      "Best results saved in optuna_iteration_metrics/best_trial.json\n"
     ]
    }
   ],
   "source": [
    "best_dict = {\n",
    "    \"best_value\": study.best_value,\n",
    "    \"best_params\": study.best_params,\n",
    "}\n",
    "json_path = os.path.join(results_output_dir, \"best_trial.json\")\n",
    "with open(json_path, 'w') as f:\n",
    "    json.dump(best_dict, f, indent=4)\n",
    "print(f\"Best results saved in {json_path}\")\n"
   ]
  }
 ],
 "metadata": {
  "jupytext": {
   "cell_metadata_filter": "-all",
   "main_language": "python",
   "notebook_metadata_filter": "-all"
  },
  "kernelspec": {
   "display_name": "Torch",
   "language": "python",
   "name": "torch"
  },
  "language_info": {
   "codemirror_mode": {
    "name": "ipython",
    "version": 3
   },
   "file_extension": ".py",
   "mimetype": "text/x-python",
   "name": "python",
   "nbconvert_exporter": "python",
   "pygments_lexer": "ipython3",
   "version": "3.12.3"
  }
 },
 "nbformat": 4,
 "nbformat_minor": 5
}
