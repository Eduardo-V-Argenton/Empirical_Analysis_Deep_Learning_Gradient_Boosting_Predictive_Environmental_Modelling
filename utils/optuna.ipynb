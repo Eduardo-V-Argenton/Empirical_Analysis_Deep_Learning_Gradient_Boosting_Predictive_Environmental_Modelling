{
 "cells": [
  {
   "metadata": {
    "ExecuteTime": {
     "end_time": "2025-05-25T22:27:44.719554Z",
     "start_time": "2025-05-25T22:27:38.548686Z"
    }
   },
   "cell_type": "code",
   "source": [
    "import matplotlib.pyplot as plt\n",
    "import numpy as np\n",
    "import pandas as pd\n",
    "from darts import TimeSeries\n",
    "from darts.models import BlockRNNModel\n",
    "from darts.metrics import mse, rmse, r2_score, mae, smape\n",
    "from darts.dataprocessing.transformers import Scaler\n",
    "import torch\n",
    "from optuna.integration import PyTorchLightningPruningCallback\n",
    "from pytorch_lightning.callbacks import Callback, EarlyStopping\n",
    "import optuna\n",
    "import os\n",
    "import json\n",
    "\n",
    "# Visualization settings\n",
    "plt.style.use('ggplot')\n",
    "plt.rcParams['figure.figsize'] = (12, 6)\n",
    "torch.set_float32_matmul_precision('medium')"
   ],
   "id": "681348aab4cd9f9e",
   "outputs": [],
   "execution_count": 1
  },
  {
   "metadata": {
    "ExecuteTime": {
     "end_time": "2025-05-25T22:27:44.746410Z",
     "start_time": "2025-05-25T22:27:44.732096Z"
    }
   },
   "cell_type": "code",
   "source": [
    "target_columns = [\n",
    "    'Temperature','Precipitation_accumulated','Humidity', 'Wind_Speed_kmh',\n",
    "    'Soil_Moisture', 'Soil_Temperature', 'Wind_Dir_Sin', 'Wind_Dir_Cos'\n",
    "]\n",
    "\n",
    "DATA_FILE_PATH = \"../data/ground_station_clean.csv\"\n",
    "df = pd.read_csv(DATA_FILE_PATH)"
   ],
   "id": "1aeae5fb20a9461e",
   "outputs": [],
   "execution_count": 2
  },
  {
   "metadata": {
    "ExecuteTime": {
     "end_time": "2025-05-25T22:27:44.809522Z",
     "start_time": "2025-05-25T22:27:44.807619Z"
    }
   },
   "cell_type": "code",
   "source": [
    "encoders = {\n",
    "    \"cyclic\": {\n",
    "        \"past\": [\"month\", \"dayofyear\", \"day\", \"hour\", \"minute\"],\n",
    "        \"future\": [\"month\", \"dayofyear\", \"day\", \"hour\", \"minute\"]\n",
    "    },\n",
    "    \"transformer\": Scaler(),\n",
    "    \"datetime_attribute\": {\n",
    "        \"past\": [\"year\"],\n",
    "        \"future\": [\"year\"]\n",
    "    }\n",
    "}\n"
   ],
   "id": "def2c882f0e74f35",
   "outputs": [],
   "execution_count": 3
  },
  {
   "metadata": {
    "ExecuteTime": {
     "end_time": "2025-05-25T22:27:44.854998Z",
     "start_time": "2025-05-25T22:27:44.852931Z"
    }
   },
   "cell_type": "code",
   "source": [
    "class PatchedPruningCallback(PyTorchLightningPruningCallback, Callback):\n",
    "    pass\n",
    "\n",
    "# Create directory to save iteration results\n",
    "results_output_dir = \"optuna_iteration_metrics\"\n",
    "os.makedirs(results_output_dir, exist_ok=True)"
   ],
   "id": "69a1e0daa0e77178",
   "outputs": [],
   "execution_count": 4
  },
  {
   "metadata": {
    "ExecuteTime": {
     "end_time": "2025-05-25T22:27:44.980586Z",
     "start_time": "2025-05-25T22:27:44.971100Z"
    }
   },
   "cell_type": "code",
   "source": [
    "def objective(trial):\n",
    "    input_chunk_length = trial.suggest_int(\"input_chunk_length\", 24, 72)\n",
    "    output_chunk_length = trial.suggest_int(\"output_chunk_length\", 1, 24)\n",
    "    hidden_size = trial.suggest_int(\"hidden_size\", 32, 256)\n",
    "    layer_size = trial.suggest_int(\"layer_size\", 1, 3)\n",
    "    dropout = trial.suggest_float(\"dropout\", 0.1, 0.5)\n",
    "    batch_size = trial.suggest_int(\"batch_size\", 64, 256)\n",
    "    lr = trial.suggest_float(\"lr\", 1e-6, 5e-3, log=True)\n",
    "    weight_decay = trial.suggest_float(\"weight_decay\", 1e-6, 1e-2, log=True)\n",
    "\n",
    "    # Try different loss functions\n",
    "    loss_functions = {\n",
    "        'mse': torch.nn.MSELoss(),\n",
    "        'mae': torch.nn.L1Loss(),\n",
    "        'huber': torch.nn.HuberLoss(delta=1.0),\n",
    "        'smoothl1': torch.nn.SmoothL1Loss()\n",
    "    }\n",
    "    loss_name = trial.suggest_categorical(\"loss_fn\", list(loss_functions.keys()))\n",
    "\n",
    "    # Try different optimizers\n",
    "    optimizer_names = ['Adam', 'AdamW', 'RMSprop', 'SGD']\n",
    "    optimizer_name = trial.suggest_categorical(\"optimizer\", optimizer_names)\n",
    "    optimizer_dict = {\n",
    "        'Adam': torch.optim.Adam,\n",
    "        'AdamW': torch.optim.AdamW,\n",
    "        'RMSprop': torch.optim.RMSprop,\n",
    "        'SGD': torch.optim.SGD\n",
    "    }\n",
    "\n",
    "    early_stopper = EarlyStopping(\"val_loss\", min_delta=0.0005, patience=15, verbose=True)\n",
    "    prunner = PatchedPruningCallback(trial, monitor=\"val_loss\")\n",
    "    pl_trainer_kwargs = {\n",
    "        \"accelerator\": \"auto\",\n",
    "        \"callbacks\": [early_stopper, prunner],\n",
    "    }\n",
    "    n = int(len(df) * 0.8)\n",
    "    train_df_fold, val_df_fold = df.iloc[:n], df.iloc[n:]\n",
    "    train_fold = TimeSeries.from_dataframe(train_df_fold, time_col=\"Timestamp\", value_cols=target_columns, freq='1h')\n",
    "    val_fold = TimeSeries.from_dataframe(val_df_fold, time_col=\"Timestamp\", value_cols=target_columns, freq='1h')\n",
    "\n",
    "    print(f\"\\nStarting Trial {trial.number}\")\n",
    "    print(f\"Hyperparameters: {trial.params}\")\n",
    "    print(\"\\nTraining the model...\")\n",
    "    print(f\"Train set: {len(train_fold)} samples\")\n",
    "    print(f\"Validation set: {len(val_fold)} samples\")\n",
    "\n",
    "    scaler = Scaler()\n",
    "    scaler = scaler.fit(train_fold)\n",
    "    train_scaled = scaler.transform(train_fold)\n",
    "    val_scaled = scaler.transform(val_fold)\n",
    "\n",
    "    _work_dir = \"/home/eduardo/Documentos/Water-Cycle-Neural-Network/darts_logs/\"\n",
    "    _model_name = \"model_optuna_temp\"\n",
    "    os.makedirs(_work_dir, exist_ok=True)\n",
    "\n",
    "    # Additional optimizer kwargs based on optimizer type\n",
    "    opt_kwargs = {\"lr\": lr, \"weight_decay\": weight_decay}\n",
    "    if optimizer_name == 'SGD':\n",
    "        opt_kwargs['momentum'] = 0.9\n",
    "\n",
    "    model = BlockRNNModel(\n",
    "        model=\"LSTM\",\n",
    "        model_name=_model_name,\n",
    "        work_dir=_work_dir,\n",
    "        input_chunk_length=input_chunk_length,\n",
    "        output_chunk_length=output_chunk_length,\n",
    "        hidden_dim=hidden_size,\n",
    "        n_rnn_layers=layer_size,\n",
    "        n_epochs=30,\n",
    "        batch_size=batch_size,\n",
    "        dropout=dropout,\n",
    "        add_encoders=encoders,\n",
    "        pl_trainer_kwargs=pl_trainer_kwargs,\n",
    "        loss_fn=loss_functions[loss_name],\n",
    "        optimizer_cls=optimizer_dict[optimizer_name],\n",
    "        lr_scheduler_cls=torch.optim.lr_scheduler.ReduceLROnPlateau,\n",
    "        lr_scheduler_kwargs={\"mode\": \"min\", \"factor\": 0.3, \"patience\": 5, \"min_lr\": 1e-7},\n",
    "        save_checkpoints=True,\n",
    "        show_warnings=True,\n",
    "        force_reset=True,\n",
    "        optimizer_kwargs=opt_kwargs,\n",
    "    )\n",
    "    model.fit(\n",
    "        series=train_scaled,\n",
    "        val_series=val_scaled,\n",
    "        verbose=False,\n",
    "        dataloader_kwargs={\"num_workers\": 11},\n",
    "    )\n",
    "\n",
    "    try:\n",
    "        loaded_model = BlockRNNModel.load_from_checkpoint(model_name=_model_name, work_dir=_work_dir, best=True)\n",
    "        print(f\"Model loaded from checkpoint for trial {trial.number}\")\n",
    "    except FileNotFoundError:\n",
    "        print(f\"Checkpoint not found for {_model_name} in {_work_dir}. Using the in-memory trained model.\")\n",
    "        loaded_model = model\n",
    "\n",
    "    forecasts = loaded_model.historical_forecasts(\n",
    "        val_scaled,\n",
    "        forecast_horizon=output_chunk_length,\n",
    "        stride=1,\n",
    "        retrain=False,\n",
    "        verbose=False\n",
    "    )\n",
    "\n",
    "    forecasts_t = scaler.inverse_transform(forecasts)\n",
    "    s = scaler.inverse_transform(val_scaled)\n",
    "    metrics = {}\n",
    "    print(\"Starting time series verification for consistency...\")\n",
    "    try:\n",
    "        for target in target_columns:\n",
    "            metrics[target] = {\n",
    "                'MSE': mse(s[target], forecasts_t[target]),\n",
    "                'RMSE': rmse(s[target], forecasts_t[target]),\n",
    "                'MAE': mae(s[target], forecasts_t[target]),\n",
    "                'R2': r2_score(s[target], forecasts_t[target]),\n",
    "                'SMAPE': smape(s[target], forecasts_t[target]),\n",
    "            }\n",
    "        metrics_df = pd.DataFrame(metrics).T\n",
    "        print(\"\\nPerformance metrics:\")\n",
    "        print(metrics_df)\n",
    "    except Exception as e:\n",
    "        print(e)\n",
    "\n",
    "    overall_mae_val = mae(val_scaled, forecasts)\n",
    "    print(f\"The MAE for this fold was {overall_mae_val}\")\n",
    "\n",
    "    trial_dict = {\n",
    "        \"trial_number\": trial.number,\n",
    "        \"input_chunk_length\": input_chunk_length,\n",
    "        \"output_chunk_length\": output_chunk_length,\n",
    "        \"hidden_size\": hidden_size,\n",
    "        \"layer_size\": layer_size,\n",
    "        \"dropout\": dropout,\n",
    "        \"batch_size\": batch_size,\n",
    "        \"lr\": lr,\n",
    "        \"loss_function\": loss_name,\n",
    "        \"optimizer\": optimizer_name,\n",
    "        \"overall_mae_val\": overall_mae_val,\n",
    "        \"metrics\": metrics_df.to_dict(),\n",
    "    }\n",
    "    json_path = os.path.join(results_output_dir, f\"trial_{trial.number}.json\")\n",
    "    with open(json_path, 'w') as f:\n",
    "        json.dump(trial_dict, f, indent=4)\n",
    "    print(f\"Results of trial {trial.number} saved in {json_path}\")\n",
    "    return overall_mae_val if not np.isnan(overall_mae_val) else float(\"inf\")\n"
   ],
   "id": "ee06f7d60beca5aa",
   "outputs": [],
   "execution_count": 5
  },
  {
   "metadata": {
    "ExecuteTime": {
     "end_time": "2025-05-25T22:27:45.035852Z",
     "start_time": "2025-05-25T22:27:45.033642Z"
    }
   },
   "cell_type": "code",
   "source": [
    "def print_callback(study, trial):\n",
    "    print(f\"Current value: {trial.value}, Current params: {trial.params}\")\n",
    "    print(f\"Best value: {study.best_value}, Best params: {study.best_trial.params}\")"
   ],
   "id": "d602a9025856ed67",
   "outputs": [],
   "execution_count": 6
  },
  {
   "metadata": {
    "ExecuteTime": {
     "end_time": "2025-05-25T23:26:07.996165Z",
     "start_time": "2025-05-25T22:27:45.085354Z"
    }
   },
   "cell_type": "code",
   "source": [
    "study = optuna.create_study(direction=\"minimize\")\n",
    "num_hyperparams = 10\n",
    "n_trials = 7 * num_hyperparams\n",
    "study.optimize(objective, n_trials=n_trials, callbacks=[print_callback])"
   ],
   "id": "fde1e338d432369f",
   "outputs": [
    {
     "name": "stderr",
     "output_type": "stream",
     "text": [
      "[I 2025-05-25 19:27:45,086] A new study created in memory with name: no-name-00f07aba-ea9e-43dc-b8ca-2164c83bc14b\n"
     ]
    },
    {
     "name": "stdout",
     "output_type": "stream",
     "text": [
      "\n",
      "Starting Trial 0\n",
      "Hyperparameters: {'input_chunk_length': 68, 'output_chunk_length': 21, 'hidden_size': 118, 'layer_size': 3, 'dropout': 0.14342683499491835, 'batch_size': 235, 'lr': 2.4531424786697702e-05, 'weight_decay': 0.0019753419298811463, 'loss_fn': 'huber', 'optimizer': 'SGD'}\n",
      "\n",
      "Training the model...\n",
      "Train set: 6647 samples\n",
      "Validation set: 1662 samples\n"
     ]
    },
    {
     "name": "stderr",
     "output_type": "stream",
     "text": [
      "Specified future encoders in `add_encoders` at model creation but model does not accept future covariates. future encoders will be ignored.\n",
      "GPU available: True (cuda), used: True\n",
      "TPU available: False, using: 0 TPU cores\n",
      "HPU available: False, using: 0 HPUs\n",
      "LOCAL_RANK: 0 - CUDA_VISIBLE_DEVICES: [0]\n",
      "Metric val_loss improved. New best score: 0.199\n",
      "Monitored metric val_loss did not improve in the last 15 records. Best score: 0.199. Signaling Trainer to stop.\n",
      "GPU available: True (cuda), used: True\n",
      "TPU available: False, using: 0 TPU cores\n",
      "HPU available: False, using: 0 HPUs\n",
      "LOCAL_RANK: 0 - CUDA_VISIBLE_DEVICES: [0]\n"
     ]
    },
    {
     "name": "stdout",
     "output_type": "stream",
     "text": [
      "Model loaded from checkpoint for trial 0\n"
     ]
    },
    {
     "name": "stderr",
     "output_type": "stream",
     "text": [
      "/home/eduardo/Documentos/Water-Cycle-Neural-Network/venv/lib/python3.12/site-packages/pytorch_lightning/trainer/connectors/data_connector.py:425: The 'predict_dataloader' does not have many workers which may be a bottleneck. Consider increasing the value of the `num_workers` argument` to `num_workers=11` in the `DataLoader` to improve performance.\n",
      "[I 2025-05-25 19:28:35,106] Trial 0 finished with value: 0.5348403913380586 and parameters: {'input_chunk_length': 68, 'output_chunk_length': 21, 'hidden_size': 118, 'layer_size': 3, 'dropout': 0.14342683499491835, 'batch_size': 235, 'lr': 2.4531424786697702e-05, 'weight_decay': 0.0019753419298811463, 'loss_fn': 'huber', 'optimizer': 'SGD'}. Best is trial 0 with value: 0.5348403913380586.\n",
      "Specified future encoders in `add_encoders` at model creation but model does not accept future covariates. future encoders will be ignored.\n",
      "GPU available: True (cuda), used: True\n",
      "TPU available: False, using: 0 TPU cores\n",
      "HPU available: False, using: 0 HPUs\n",
      "LOCAL_RANK: 0 - CUDA_VISIBLE_DEVICES: [0]\n"
     ]
    },
    {
     "name": "stdout",
     "output_type": "stream",
     "text": [
      "Starting time series verification for consistency...\n",
      "\n",
      "Performance metrics:\n",
      "                                    MSE         RMSE          MAE  \\\n",
      "Temperature                1.245549e+02    11.160418     9.705552   \n",
      "Precipitation_accumulated  2.219089e+05   471.072057   471.070504   \n",
      "Humidity                   5.046419e+03    71.038154    69.989882   \n",
      "Wind_Speed_kmh             2.948933e+00     1.717246     1.311738   \n",
      "Soil_Moisture              8.492054e+06  2914.112897  2906.996199   \n",
      "Soil_Temperature           1.825527e+02    13.511208    12.894192   \n",
      "Wind_Dir_Sin               2.271946e+00     1.507298     1.312872   \n",
      "Wind_Dir_Cos               1.143837e+00     1.069503     0.881329   \n",
      "\n",
      "                                     R2       SMAPE  \n",
      "Temperature                   -3.098207  198.171365  \n",
      "Precipitation_accumulated -71628.562730  200.000000  \n",
      "Humidity                     -33.175211  133.960635  \n",
      "Wind_Speed_kmh                -1.183090  130.340854  \n",
      "Soil_Moisture               -196.471830   40.641227  \n",
      "Soil_Temperature             -10.510434  200.000000  \n",
      "Wind_Dir_Sin                  -3.142064  145.942389  \n",
      "Wind_Dir_Cos                  -2.113915  114.239340  \n",
      "The MAE for this fold was 0.5348403913380586\n",
      "Results of trial 0 saved in optuna_iteration_metrics/trial_0.json\n",
      "Current value: 0.5348403913380586, Current params: {'input_chunk_length': 68, 'output_chunk_length': 21, 'hidden_size': 118, 'layer_size': 3, 'dropout': 0.14342683499491835, 'batch_size': 235, 'lr': 2.4531424786697702e-05, 'weight_decay': 0.0019753419298811463, 'loss_fn': 'huber', 'optimizer': 'SGD'}\n",
      "Best value: 0.5348403913380586, Best params: {'input_chunk_length': 68, 'output_chunk_length': 21, 'hidden_size': 118, 'layer_size': 3, 'dropout': 0.14342683499491835, 'batch_size': 235, 'lr': 2.4531424786697702e-05, 'weight_decay': 0.0019753419298811463, 'loss_fn': 'huber', 'optimizer': 'SGD'}\n",
      "\n",
      "Starting Trial 1\n",
      "Hyperparameters: {'input_chunk_length': 71, 'output_chunk_length': 4, 'hidden_size': 97, 'layer_size': 3, 'dropout': 0.1962231045587549, 'batch_size': 196, 'lr': 0.00040411815160186276, 'weight_decay': 6.888380150984048e-05, 'loss_fn': 'huber', 'optimizer': 'SGD'}\n",
      "\n",
      "Training the model...\n",
      "Train set: 6647 samples\n",
      "Validation set: 1662 samples\n"
     ]
    },
    {
     "name": "stderr",
     "output_type": "stream",
     "text": [
      "Metric val_loss improved. New best score: 0.200\n",
      "Metric val_loss improved by 0.002 >= min_delta = 0.0005. New best score: 0.199\n",
      "Metric val_loss improved by 0.002 >= min_delta = 0.0005. New best score: 0.197\n",
      "Metric val_loss improved by 0.002 >= min_delta = 0.0005. New best score: 0.195\n",
      "Metric val_loss improved by 0.002 >= min_delta = 0.0005. New best score: 0.193\n",
      "Metric val_loss improved by 0.002 >= min_delta = 0.0005. New best score: 0.192\n",
      "Metric val_loss improved by 0.002 >= min_delta = 0.0005. New best score: 0.190\n",
      "Metric val_loss improved by 0.002 >= min_delta = 0.0005. New best score: 0.188\n",
      "Metric val_loss improved by 0.002 >= min_delta = 0.0005. New best score: 0.187\n",
      "Metric val_loss improved by 0.002 >= min_delta = 0.0005. New best score: 0.185\n",
      "Metric val_loss improved by 0.002 >= min_delta = 0.0005. New best score: 0.183\n",
      "Metric val_loss improved by 0.002 >= min_delta = 0.0005. New best score: 0.182\n",
      "Metric val_loss improved by 0.002 >= min_delta = 0.0005. New best score: 0.180\n",
      "Metric val_loss improved by 0.002 >= min_delta = 0.0005. New best score: 0.179\n",
      "Metric val_loss improved by 0.002 >= min_delta = 0.0005. New best score: 0.177\n",
      "Metric val_loss improved by 0.002 >= min_delta = 0.0005. New best score: 0.176\n",
      "Metric val_loss improved by 0.002 >= min_delta = 0.0005. New best score: 0.174\n",
      "Metric val_loss improved by 0.002 >= min_delta = 0.0005. New best score: 0.173\n",
      "Metric val_loss improved by 0.002 >= min_delta = 0.0005. New best score: 0.171\n",
      "Metric val_loss improved by 0.001 >= min_delta = 0.0005. New best score: 0.170\n",
      "Metric val_loss improved by 0.001 >= min_delta = 0.0005. New best score: 0.168\n",
      "Metric val_loss improved by 0.001 >= min_delta = 0.0005. New best score: 0.167\n",
      "Metric val_loss improved by 0.001 >= min_delta = 0.0005. New best score: 0.165\n",
      "Metric val_loss improved by 0.001 >= min_delta = 0.0005. New best score: 0.164\n",
      "Metric val_loss improved by 0.001 >= min_delta = 0.0005. New best score: 0.162\n",
      "Metric val_loss improved by 0.001 >= min_delta = 0.0005. New best score: 0.161\n",
      "Metric val_loss improved by 0.001 >= min_delta = 0.0005. New best score: 0.160\n",
      "Metric val_loss improved by 0.001 >= min_delta = 0.0005. New best score: 0.158\n",
      "Metric val_loss improved by 0.001 >= min_delta = 0.0005. New best score: 0.157\n",
      "Metric val_loss improved by 0.001 >= min_delta = 0.0005. New best score: 0.155\n",
      "`Trainer.fit` stopped: `max_epochs=30` reached.\n",
      "GPU available: True (cuda), used: True\n",
      "TPU available: False, using: 0 TPU cores\n",
      "HPU available: False, using: 0 HPUs\n",
      "LOCAL_RANK: 0 - CUDA_VISIBLE_DEVICES: [0]\n"
     ]
    },
    {
     "name": "stdout",
     "output_type": "stream",
     "text": [
      "Model loaded from checkpoint for trial 1\n"
     ]
    },
    {
     "name": "stderr",
     "output_type": "stream",
     "text": [
      "/home/eduardo/Documentos/Water-Cycle-Neural-Network/venv/lib/python3.12/site-packages/pytorch_lightning/trainer/connectors/data_connector.py:425: The 'predict_dataloader' does not have many workers which may be a bottleneck. Consider increasing the value of the `num_workers` argument` to `num_workers=11` in the `DataLoader` to improve performance.\n",
      "[I 2025-05-25 19:30:00,834] Trial 1 finished with value: 0.4616154969174884 and parameters: {'input_chunk_length': 71, 'output_chunk_length': 4, 'hidden_size': 97, 'layer_size': 3, 'dropout': 0.1962231045587549, 'batch_size': 196, 'lr': 0.00040411815160186276, 'weight_decay': 6.888380150984048e-05, 'loss_fn': 'huber', 'optimizer': 'SGD'}. Best is trial 1 with value: 0.4616154969174884.\n",
      "Specified future encoders in `add_encoders` at model creation but model does not accept future covariates. future encoders will be ignored.\n",
      "GPU available: True (cuda), used: True\n",
      "TPU available: False, using: 0 TPU cores\n",
      "HPU available: False, using: 0 HPUs\n",
      "LOCAL_RANK: 0 - CUDA_VISIBLE_DEVICES: [0]\n"
     ]
    },
    {
     "name": "stdout",
     "output_type": "stream",
     "text": [
      "Starting time series verification for consistency...\n",
      "\n",
      "Performance metrics:\n",
      "                                    MSE         RMSE          MAE  \\\n",
      "Temperature                9.319432e+01     9.653720     8.011153   \n",
      "Precipitation_accumulated  1.632678e+05   404.064067   404.056624   \n",
      "Humidity                   4.834506e+03    69.530614    68.462952   \n",
      "Wind_Speed_kmh             2.622996e+00     1.619567     1.227193   \n",
      "Soil_Moisture              8.923860e+06  2987.283030  2979.505283   \n",
      "Soil_Temperature           6.605913e+01     8.127677     7.054709   \n",
      "Wind_Dir_Sin               1.321124e+00     1.149402     0.976048   \n",
      "Wind_Dir_Cos               7.965848e-01     0.892516     0.687578   \n",
      "\n",
      "                                     R2       SMAPE  \n",
      "Temperature                   -2.068549  143.254019  \n",
      "Precipitation_accumulated -51300.311273  153.901986  \n",
      "Humidity                     -31.885167  128.994591  \n",
      "Wind_Speed_kmh                -0.939927  113.980444  \n",
      "Soil_Moisture               -189.431132   41.901019  \n",
      "Soil_Temperature              -3.140146  154.359219  \n",
      "Wind_Dir_Sin                  -1.411966  142.066091  \n",
      "Wind_Dir_Cos                  -1.166302  105.773121  \n",
      "The MAE for this fold was 0.4616154969174884\n",
      "Results of trial 1 saved in optuna_iteration_metrics/trial_1.json\n",
      "Current value: 0.4616154969174884, Current params: {'input_chunk_length': 71, 'output_chunk_length': 4, 'hidden_size': 97, 'layer_size': 3, 'dropout': 0.1962231045587549, 'batch_size': 196, 'lr': 0.00040411815160186276, 'weight_decay': 6.888380150984048e-05, 'loss_fn': 'huber', 'optimizer': 'SGD'}\n",
      "Best value: 0.4616154969174884, Best params: {'input_chunk_length': 71, 'output_chunk_length': 4, 'hidden_size': 97, 'layer_size': 3, 'dropout': 0.1962231045587549, 'batch_size': 196, 'lr': 0.00040411815160186276, 'weight_decay': 6.888380150984048e-05, 'loss_fn': 'huber', 'optimizer': 'SGD'}\n",
      "\n",
      "Starting Trial 2\n",
      "Hyperparameters: {'input_chunk_length': 34, 'output_chunk_length': 6, 'hidden_size': 67, 'layer_size': 3, 'dropout': 0.46908284970822356, 'batch_size': 130, 'lr': 0.0003186798209404841, 'weight_decay': 0.000910556415951322, 'loss_fn': 'smoothl1', 'optimizer': 'RMSprop'}\n",
      "\n",
      "Training the model...\n",
      "Train set: 6647 samples\n",
      "Validation set: 1662 samples\n"
     ]
    },
    {
     "name": "stderr",
     "output_type": "stream",
     "text": [
      "Metric val_loss improved. New best score: 0.047\n",
      "Monitored metric val_loss did not improve in the last 15 records. Best score: 0.047. Signaling Trainer to stop.\n",
      "GPU available: True (cuda), used: True\n",
      "TPU available: False, using: 0 TPU cores\n",
      "HPU available: False, using: 0 HPUs\n",
      "LOCAL_RANK: 0 - CUDA_VISIBLE_DEVICES: [0]\n"
     ]
    },
    {
     "name": "stdout",
     "output_type": "stream",
     "text": [
      "Model loaded from checkpoint for trial 2\n"
     ]
    },
    {
     "name": "stderr",
     "output_type": "stream",
     "text": [
      "/home/eduardo/Documentos/Water-Cycle-Neural-Network/venv/lib/python3.12/site-packages/pytorch_lightning/trainer/connectors/data_connector.py:425: The 'predict_dataloader' does not have many workers which may be a bottleneck. Consider increasing the value of the `num_workers` argument` to `num_workers=11` in the `DataLoader` to improve performance.\n",
      "[I 2025-05-25 19:30:26,935] Trial 2 finished with value: 0.24270686693622803 and parameters: {'input_chunk_length': 34, 'output_chunk_length': 6, 'hidden_size': 67, 'layer_size': 3, 'dropout': 0.46908284970822356, 'batch_size': 130, 'lr': 0.0003186798209404841, 'weight_decay': 0.000910556415951322, 'loss_fn': 'smoothl1', 'optimizer': 'RMSprop'}. Best is trial 2 with value: 0.24270686693622803.\n",
      "Specified future encoders in `add_encoders` at model creation but model does not accept future covariates. future encoders will be ignored.\n",
      "/home/eduardo/Documentos/Water-Cycle-Neural-Network/venv/lib/python3.12/site-packages/torch/nn/modules/rnn.py:123: UserWarning: dropout option adds dropout after all but last recurrent layer, so non-zero dropout expects num_layers greater than 1, but got dropout=0.23708812138257668 and num_layers=1\n",
      "  warnings.warn(\n",
      "GPU available: True (cuda), used: True\n",
      "TPU available: False, using: 0 TPU cores\n",
      "HPU available: False, using: 0 HPUs\n",
      "LOCAL_RANK: 0 - CUDA_VISIBLE_DEVICES: [0]\n"
     ]
    },
    {
     "name": "stdout",
     "output_type": "stream",
     "text": [
      "Starting time series verification for consistency...\n",
      "\n",
      "Performance metrics:\n",
      "                                    MSE         RMSE          MAE  \\\n",
      "Temperature                3.366931e+01     5.802526     4.935554   \n",
      "Precipitation_accumulated  1.291453e+04   113.642130   100.880606   \n",
      "Humidity                   1.325774e+02    11.514228     9.915889   \n",
      "Wind_Speed_kmh             2.700724e+00     1.643388     1.246686   \n",
      "Soil_Moisture              3.531466e+06  1879.219638  1861.038589   \n",
      "Soil_Temperature           3.966374e+01     6.297916     5.478074   \n",
      "Wind_Dir_Sin               5.956475e-01     0.771782     0.713393   \n",
      "Wind_Dir_Cos               1.038089e+00     1.018867     0.864426   \n",
      "\n",
      "                                    R2       SMAPE  \n",
      "Temperature                  -0.101522   58.289960  \n",
      "Precipitation_accumulated -3820.787769   25.246424  \n",
      "Humidity                      0.096533   11.681788  \n",
      "Wind_Speed_kmh               -1.002599  130.566321  \n",
      "Soil_Moisture               -63.448958   24.383037  \n",
      "Soil_Temperature             -1.458824   62.477785  \n",
      "Wind_Dir_Sin                 -0.080251  179.522623  \n",
      "Wind_Dir_Cos                 -1.832892  151.053595  \n",
      "The MAE for this fold was 0.24270686693622803\n",
      "Results of trial 2 saved in optuna_iteration_metrics/trial_2.json\n",
      "Current value: 0.24270686693622803, Current params: {'input_chunk_length': 34, 'output_chunk_length': 6, 'hidden_size': 67, 'layer_size': 3, 'dropout': 0.46908284970822356, 'batch_size': 130, 'lr': 0.0003186798209404841, 'weight_decay': 0.000910556415951322, 'loss_fn': 'smoothl1', 'optimizer': 'RMSprop'}\n",
      "Best value: 0.24270686693622803, Best params: {'input_chunk_length': 34, 'output_chunk_length': 6, 'hidden_size': 67, 'layer_size': 3, 'dropout': 0.46908284970822356, 'batch_size': 130, 'lr': 0.0003186798209404841, 'weight_decay': 0.000910556415951322, 'loss_fn': 'smoothl1', 'optimizer': 'RMSprop'}\n",
      "\n",
      "Starting Trial 3\n",
      "Hyperparameters: {'input_chunk_length': 42, 'output_chunk_length': 23, 'hidden_size': 253, 'layer_size': 1, 'dropout': 0.23708812138257668, 'batch_size': 87, 'lr': 5.320101152610614e-06, 'weight_decay': 2.4198803488995493e-05, 'loss_fn': 'huber', 'optimizer': 'RMSprop'}\n",
      "\n",
      "Training the model...\n",
      "Train set: 6647 samples\n",
      "Validation set: 1662 samples\n"
     ]
    },
    {
     "name": "stderr",
     "output_type": "stream",
     "text": [
      "Metric val_loss improved. New best score: 0.195\n",
      "Metric val_loss improved by 0.004 >= min_delta = 0.0005. New best score: 0.191\n",
      "Metric val_loss improved by 0.004 >= min_delta = 0.0005. New best score: 0.187\n",
      "Metric val_loss improved by 0.005 >= min_delta = 0.0005. New best score: 0.181\n",
      "Metric val_loss improved by 0.007 >= min_delta = 0.0005. New best score: 0.174\n",
      "Metric val_loss improved by 0.011 >= min_delta = 0.0005. New best score: 0.163\n",
      "Metric val_loss improved by 0.020 >= min_delta = 0.0005. New best score: 0.143\n",
      "Metric val_loss improved by 0.046 >= min_delta = 0.0005. New best score: 0.097\n",
      "Metric val_loss improved by 0.029 >= min_delta = 0.0005. New best score: 0.068\n",
      "Metric val_loss improved by 0.009 >= min_delta = 0.0005. New best score: 0.059\n",
      "Metric val_loss improved by 0.005 >= min_delta = 0.0005. New best score: 0.053\n",
      "Metric val_loss improved by 0.004 >= min_delta = 0.0005. New best score: 0.050\n",
      "Metric val_loss improved by 0.003 >= min_delta = 0.0005. New best score: 0.047\n",
      "Metric val_loss improved by 0.002 >= min_delta = 0.0005. New best score: 0.045\n",
      "Metric val_loss improved by 0.001 >= min_delta = 0.0005. New best score: 0.044\n",
      "Metric val_loss improved by 0.001 >= min_delta = 0.0005. New best score: 0.044\n",
      "`Trainer.fit` stopped: `max_epochs=30` reached.\n",
      "/home/eduardo/Documentos/Water-Cycle-Neural-Network/venv/lib/python3.12/site-packages/torch/nn/modules/rnn.py:123: UserWarning: dropout option adds dropout after all but last recurrent layer, so non-zero dropout expects num_layers greater than 1, but got dropout=0.23708812138257668 and num_layers=1\n",
      "  warnings.warn(\n",
      "GPU available: True (cuda), used: True\n",
      "TPU available: False, using: 0 TPU cores\n",
      "HPU available: False, using: 0 HPUs\n",
      "LOCAL_RANK: 0 - CUDA_VISIBLE_DEVICES: [0]\n",
      "/home/eduardo/Documentos/Water-Cycle-Neural-Network/venv/lib/python3.12/site-packages/pytorch_lightning/trainer/connectors/data_connector.py:425: The 'predict_dataloader' does not have many workers which may be a bottleneck. Consider increasing the value of the `num_workers` argument` to `num_workers=11` in the `DataLoader` to improve performance.\n"
     ]
    },
    {
     "name": "stdout",
     "output_type": "stream",
     "text": [
      "Model loaded from checkpoint for trial 3\n"
     ]
    },
    {
     "name": "stderr",
     "output_type": "stream",
     "text": [
      "[I 2025-05-25 19:31:26,810] Trial 3 finished with value: 0.23952003042062833 and parameters: {'input_chunk_length': 42, 'output_chunk_length': 23, 'hidden_size': 253, 'layer_size': 1, 'dropout': 0.23708812138257668, 'batch_size': 87, 'lr': 5.320101152610614e-06, 'weight_decay': 2.4198803488995493e-05, 'loss_fn': 'huber', 'optimizer': 'RMSprop'}. Best is trial 3 with value: 0.23952003042062833.\n",
      "Specified future encoders in `add_encoders` at model creation but model does not accept future covariates. future encoders will be ignored.\n",
      "/home/eduardo/Documentos/Water-Cycle-Neural-Network/venv/lib/python3.12/site-packages/torch/nn/modules/rnn.py:123: UserWarning: dropout option adds dropout after all but last recurrent layer, so non-zero dropout expects num_layers greater than 1, but got dropout=0.4738175703824876 and num_layers=1\n",
      "  warnings.warn(\n",
      "GPU available: True (cuda), used: True\n",
      "TPU available: False, using: 0 TPU cores\n",
      "HPU available: False, using: 0 HPUs\n",
      "LOCAL_RANK: 0 - CUDA_VISIBLE_DEVICES: [0]\n"
     ]
    },
    {
     "name": "stdout",
     "output_type": "stream",
     "text": [
      "Starting time series verification for consistency...\n",
      "\n",
      "Performance metrics:\n",
      "                                    MSE         RMSE          MAE  \\\n",
      "Temperature                6.773785e+01     8.230301     7.207663   \n",
      "Precipitation_accumulated  1.177784e+04   108.525738   105.269822   \n",
      "Humidity                   1.412570e+02    11.885158    10.366888   \n",
      "Wind_Speed_kmh             2.202186e+00     1.483976     1.116334   \n",
      "Soil_Moisture              2.376813e+06  1541.691516  1527.146111   \n",
      "Soil_Temperature           3.430861e+01     5.857355     5.177678   \n",
      "Wind_Dir_Sin               5.878121e-01     0.766689     0.711321   \n",
      "Wind_Dir_Cos               1.038897e+00     1.019263     0.861402   \n",
      "\n",
      "                                    R2       SMAPE  \n",
      "Temperature                  -1.217186   70.461424  \n",
      "Precipitation_accumulated -3633.239066   25.763562  \n",
      "Humidity                      0.039350   12.169321  \n",
      "Wind_Speed_kmh               -0.634647   98.790513  \n",
      "Soil_Moisture               -47.358912   19.480264  \n",
      "Soil_Temperature             -1.136233   60.171846  \n",
      "Wind_Dir_Sin                 -0.073013  186.225884  \n",
      "Wind_Dir_Cos                 -1.820075  148.359647  \n",
      "The MAE for this fold was 0.23952003042062833\n",
      "Results of trial 3 saved in optuna_iteration_metrics/trial_3.json\n",
      "Current value: 0.23952003042062833, Current params: {'input_chunk_length': 42, 'output_chunk_length': 23, 'hidden_size': 253, 'layer_size': 1, 'dropout': 0.23708812138257668, 'batch_size': 87, 'lr': 5.320101152610614e-06, 'weight_decay': 2.4198803488995493e-05, 'loss_fn': 'huber', 'optimizer': 'RMSprop'}\n",
      "Best value: 0.23952003042062833, Best params: {'input_chunk_length': 42, 'output_chunk_length': 23, 'hidden_size': 253, 'layer_size': 1, 'dropout': 0.23708812138257668, 'batch_size': 87, 'lr': 5.320101152610614e-06, 'weight_decay': 2.4198803488995493e-05, 'loss_fn': 'huber', 'optimizer': 'RMSprop'}\n",
      "\n",
      "Starting Trial 4\n",
      "Hyperparameters: {'input_chunk_length': 55, 'output_chunk_length': 18, 'hidden_size': 208, 'layer_size': 1, 'dropout': 0.4738175703824876, 'batch_size': 161, 'lr': 2.806197412119607e-06, 'weight_decay': 4.195251139231159e-06, 'loss_fn': 'huber', 'optimizer': 'AdamW'}\n",
      "\n",
      "Training the model...\n",
      "Train set: 6647 samples\n",
      "Validation set: 1662 samples\n"
     ]
    },
    {
     "name": "stderr",
     "output_type": "stream",
     "text": [
      "Metric val_loss improved. New best score: 0.198\n",
      "Metric val_loss improved by 0.001 >= min_delta = 0.0005. New best score: 0.198\n",
      "Metric val_loss improved by 0.001 >= min_delta = 0.0005. New best score: 0.197\n",
      "Metric val_loss improved by 0.001 >= min_delta = 0.0005. New best score: 0.196\n",
      "Metric val_loss improved by 0.001 >= min_delta = 0.0005. New best score: 0.195\n",
      "Metric val_loss improved by 0.001 >= min_delta = 0.0005. New best score: 0.195\n",
      "Metric val_loss improved by 0.001 >= min_delta = 0.0005. New best score: 0.194\n",
      "Metric val_loss improved by 0.001 >= min_delta = 0.0005. New best score: 0.193\n",
      "Metric val_loss improved by 0.001 >= min_delta = 0.0005. New best score: 0.192\n",
      "Metric val_loss improved by 0.001 >= min_delta = 0.0005. New best score: 0.192\n",
      "Metric val_loss improved by 0.001 >= min_delta = 0.0005. New best score: 0.191\n",
      "Metric val_loss improved by 0.001 >= min_delta = 0.0005. New best score: 0.190\n",
      "Metric val_loss improved by 0.001 >= min_delta = 0.0005. New best score: 0.189\n",
      "Metric val_loss improved by 0.001 >= min_delta = 0.0005. New best score: 0.188\n",
      "Metric val_loss improved by 0.001 >= min_delta = 0.0005. New best score: 0.187\n",
      "Metric val_loss improved by 0.001 >= min_delta = 0.0005. New best score: 0.186\n",
      "Metric val_loss improved by 0.001 >= min_delta = 0.0005. New best score: 0.185\n",
      "Metric val_loss improved by 0.001 >= min_delta = 0.0005. New best score: 0.184\n",
      "Metric val_loss improved by 0.001 >= min_delta = 0.0005. New best score: 0.182\n",
      "Metric val_loss improved by 0.001 >= min_delta = 0.0005. New best score: 0.181\n",
      "Metric val_loss improved by 0.002 >= min_delta = 0.0005. New best score: 0.179\n",
      "Metric val_loss improved by 0.002 >= min_delta = 0.0005. New best score: 0.178\n",
      "Metric val_loss improved by 0.002 >= min_delta = 0.0005. New best score: 0.176\n",
      "Metric val_loss improved by 0.002 >= min_delta = 0.0005. New best score: 0.174\n",
      "Metric val_loss improved by 0.002 >= min_delta = 0.0005. New best score: 0.171\n",
      "Metric val_loss improved by 0.003 >= min_delta = 0.0005. New best score: 0.169\n",
      "Metric val_loss improved by 0.003 >= min_delta = 0.0005. New best score: 0.166\n",
      "Metric val_loss improved by 0.004 >= min_delta = 0.0005. New best score: 0.162\n",
      "Metric val_loss improved by 0.004 >= min_delta = 0.0005. New best score: 0.158\n",
      "Metric val_loss improved by 0.005 >= min_delta = 0.0005. New best score: 0.152\n",
      "`Trainer.fit` stopped: `max_epochs=30` reached.\n",
      "/home/eduardo/Documentos/Water-Cycle-Neural-Network/venv/lib/python3.12/site-packages/torch/nn/modules/rnn.py:123: UserWarning: dropout option adds dropout after all but last recurrent layer, so non-zero dropout expects num_layers greater than 1, but got dropout=0.4738175703824876 and num_layers=1\n",
      "  warnings.warn(\n",
      "GPU available: True (cuda), used: True\n",
      "TPU available: False, using: 0 TPU cores\n",
      "HPU available: False, using: 0 HPUs\n",
      "LOCAL_RANK: 0 - CUDA_VISIBLE_DEVICES: [0]\n",
      "/home/eduardo/Documentos/Water-Cycle-Neural-Network/venv/lib/python3.12/site-packages/pytorch_lightning/trainer/connectors/data_connector.py:425: The 'predict_dataloader' does not have many workers which may be a bottleneck. Consider increasing the value of the `num_workers` argument` to `num_workers=11` in the `DataLoader` to improve performance.\n"
     ]
    },
    {
     "name": "stdout",
     "output_type": "stream",
     "text": [
      "Model loaded from checkpoint for trial 4\n"
     ]
    },
    {
     "name": "stderr",
     "output_type": "stream",
     "text": [
      "[I 2025-05-25 19:32:21,405] Trial 4 finished with value: 0.4496219557895804 and parameters: {'input_chunk_length': 55, 'output_chunk_length': 18, 'hidden_size': 208, 'layer_size': 1, 'dropout': 0.4738175703824876, 'batch_size': 161, 'lr': 2.806197412119607e-06, 'weight_decay': 4.195251139231159e-06, 'loss_fn': 'huber', 'optimizer': 'AdamW'}. Best is trial 3 with value: 0.23952003042062833.\n",
      "Specified future encoders in `add_encoders` at model creation but model does not accept future covariates. future encoders will be ignored.\n",
      "GPU available: True (cuda), used: True\n",
      "TPU available: False, using: 0 TPU cores\n",
      "HPU available: False, using: 0 HPUs\n",
      "LOCAL_RANK: 0 - CUDA_VISIBLE_DEVICES: [0]\n"
     ]
    },
    {
     "name": "stdout",
     "output_type": "stream",
     "text": [
      "Starting time series verification for consistency...\n",
      "\n",
      "Performance metrics:\n",
      "                                    MSE         RMSE          MAE  \\\n",
      "Temperature                5.789746e+01     7.609038     6.009960   \n",
      "Precipitation_accumulated  1.928301e+05   439.124257   439.048975   \n",
      "Humidity                   3.050710e+03    55.233235    53.914771   \n",
      "Wind_Speed_kmh             5.870377e+00     2.422886     2.135946   \n",
      "Soil_Moisture              9.417507e+06  3068.795672  3059.858641   \n",
      "Soil_Temperature           2.908787e+01     5.393318     4.584327   \n",
      "Wind_Dir_Sin               1.104009e+00     1.050718     0.910637   \n",
      "Wind_Dir_Cos               7.839631e-01     0.885417     0.682119   \n",
      "\n",
      "                                     R2       SMAPE  \n",
      "Temperature                   -0.902122   84.492330  \n",
      "Precipitation_accumulated -60365.591379  179.243869  \n",
      "Humidity                     -19.747110   88.931232  \n",
      "Wind_Speed_kmh                -3.345245  200.000000  \n",
      "Soil_Moisture               -197.960818   43.293794  \n",
      "Soil_Temperature              -0.818863   55.681854  \n",
      "Wind_Dir_Sin                  -1.015567  145.684274  \n",
      "Wind_Dir_Cos                  -1.131878  105.589404  \n",
      "The MAE for this fold was 0.4496219557895804\n",
      "Results of trial 4 saved in optuna_iteration_metrics/trial_4.json\n",
      "Current value: 0.4496219557895804, Current params: {'input_chunk_length': 55, 'output_chunk_length': 18, 'hidden_size': 208, 'layer_size': 1, 'dropout': 0.4738175703824876, 'batch_size': 161, 'lr': 2.806197412119607e-06, 'weight_decay': 4.195251139231159e-06, 'loss_fn': 'huber', 'optimizer': 'AdamW'}\n",
      "Best value: 0.23952003042062833, Best params: {'input_chunk_length': 42, 'output_chunk_length': 23, 'hidden_size': 253, 'layer_size': 1, 'dropout': 0.23708812138257668, 'batch_size': 87, 'lr': 5.320101152610614e-06, 'weight_decay': 2.4198803488995493e-05, 'loss_fn': 'huber', 'optimizer': 'RMSprop'}\n",
      "\n",
      "Starting Trial 5\n",
      "Hyperparameters: {'input_chunk_length': 28, 'output_chunk_length': 18, 'hidden_size': 92, 'layer_size': 2, 'dropout': 0.35460130349283014, 'batch_size': 161, 'lr': 1.6374078142066677e-06, 'weight_decay': 2.380658944323909e-06, 'loss_fn': 'mse', 'optimizer': 'RMSprop'}\n",
      "\n",
      "Training the model...\n",
      "Train set: 6647 samples\n",
      "Validation set: 1662 samples\n"
     ]
    },
    {
     "name": "stderr",
     "output_type": "stream",
     "text": [
      "[I 2025-05-25 19:32:22,953] Trial 5 pruned. Trial was pruned at epoch 0.\n",
      "Specified future encoders in `add_encoders` at model creation but model does not accept future covariates. future encoders will be ignored.\n",
      "GPU available: True (cuda), used: True\n",
      "TPU available: False, using: 0 TPU cores\n",
      "HPU available: False, using: 0 HPUs\n",
      "LOCAL_RANK: 0 - CUDA_VISIBLE_DEVICES: [0]\n"
     ]
    },
    {
     "name": "stdout",
     "output_type": "stream",
     "text": [
      "Current value: 0.40776453602843354, Current params: {'input_chunk_length': 28, 'output_chunk_length': 18, 'hidden_size': 92, 'layer_size': 2, 'dropout': 0.35460130349283014, 'batch_size': 161, 'lr': 1.6374078142066677e-06, 'weight_decay': 2.380658944323909e-06, 'loss_fn': 'mse', 'optimizer': 'RMSprop'}\n",
      "Best value: 0.23952003042062833, Best params: {'input_chunk_length': 42, 'output_chunk_length': 23, 'hidden_size': 253, 'layer_size': 1, 'dropout': 0.23708812138257668, 'batch_size': 87, 'lr': 5.320101152610614e-06, 'weight_decay': 2.4198803488995493e-05, 'loss_fn': 'huber', 'optimizer': 'RMSprop'}\n",
      "\n",
      "Starting Trial 6\n",
      "Hyperparameters: {'input_chunk_length': 54, 'output_chunk_length': 14, 'hidden_size': 116, 'layer_size': 2, 'dropout': 0.42726663320879255, 'batch_size': 247, 'lr': 0.002315488838747749, 'weight_decay': 0.0020040201514218065, 'loss_fn': 'mae', 'optimizer': 'Adam'}\n",
      "\n",
      "Training the model...\n",
      "Train set: 6647 samples\n",
      "Validation set: 1662 samples\n"
     ]
    },
    {
     "name": "stderr",
     "output_type": "stream",
     "text": [
      "Exception ignored in: <function _MultiProcessingDataLoaderIter.__del__ at 0x7f46529a1260>\n",
      "Traceback (most recent call last):\n",
      "  File \"/home/eduardo/Documentos/Water-Cycle-Neural-Network/venv/lib/python3.12/site-packages/torch/utils/data/dataloader.py\", line 1663, in __del__\n",
      "Exception ignored in: <function _MultiProcessingDataLoaderIter.__del__ at 0x7f46529a1260>    \n",
      "self._shutdown_workers()Traceback (most recent call last):\n",
      "\n",
      "  File \"/home/eduardo/Documentos/Water-Cycle-Neural-Network/venv/lib/python3.12/site-packages/torch/utils/data/dataloader.py\", line 1663, in __del__\n",
      "  File \"/home/eduardo/Documentos/Water-Cycle-Neural-Network/venv/lib/python3.12/site-packages/torch/utils/data/dataloader.py\", line 1646, in _shutdown_workers\n",
      "        if w.is_alive():self._shutdown_workers()\n",
      "\n",
      "   File \"/home/eduardo/Documentos/Water-Cycle-Neural-Network/venv/lib/python3.12/site-packages/torch/utils/data/dataloader.py\", line 1646, in _shutdown_workers\n",
      "       if w.is_alive(): \n",
      "Exception ignored in:  <function _MultiProcessingDataLoaderIter.__del__ at 0x7f46529a1260>  \n",
      "  Traceback (most recent call last):\n",
      "^  File \"/home/eduardo/Documentos/Water-Cycle-Neural-Network/venv/lib/python3.12/site-packages/torch/utils/data/dataloader.py\", line 1663, in __del__\n",
      " ^^     ^ self._shutdown_workers()\n",
      " ^  File \"/home/eduardo/Documentos/Water-Cycle-Neural-Network/venv/lib/python3.12/site-packages/torch/utils/data/dataloader.py\", line 1646, in _shutdown_workers\n",
      "^^    ^^^if w.is_alive():\n",
      "^^^ ^^^^ ^ \n",
      " ^  File \"/usr/lib/python3.12/multiprocessing/process.py\", line 160, in is_alive\n",
      " ^     ^assert self._parent_pid == os.getpid(), 'can only test a child process' ^\n",
      "^^^^^ \n",
      "^   File \"/usr/lib/python3.12/multiprocessing/process.py\", line 160, in is_alive\n",
      "^     ^ assert self._parent_pid == os.getpid(), 'can only test a child process'^ \n",
      "^  ^  ^  ^  ^  \n",
      "    File \"/usr/lib/python3.12/multiprocessing/process.py\", line 160, in is_alive\n",
      " ^^      assert self._parent_pid == os.getpid(), 'can only test a child process'^ \n",
      "^  ^^ ^^ ^^ ^^ ^^  ^^ ^^ ^ ^^ ^^^^^^^^^^^^^^^^^^^^^^^^^^^^^^^^^^^^^^^^^^^^^^^^^^^^^^^^\n",
      "^^AssertionError^^: ^^\n",
      "can only test a child process^AssertionError\n",
      "^: ^can only test a child process^\n",
      "^^^^^^\n",
      "AssertionError: can only test a child process\n",
      "[I 2025-05-25 19:32:25,073] Trial 6 pruned. Trial was pruned at epoch 0.\n",
      "Specified future encoders in `add_encoders` at model creation but model does not accept future covariates. future encoders will be ignored.\n",
      "GPU available: True (cuda), used: True\n",
      "TPU available: False, using: 0 TPU cores\n",
      "HPU available: False, using: 0 HPUs\n",
      "LOCAL_RANK: 0 - CUDA_VISIBLE_DEVICES: [0]\n"
     ]
    },
    {
     "name": "stdout",
     "output_type": "stream",
     "text": [
      "Current value: 0.29392247786690373, Current params: {'input_chunk_length': 54, 'output_chunk_length': 14, 'hidden_size': 116, 'layer_size': 2, 'dropout': 0.42726663320879255, 'batch_size': 247, 'lr': 0.002315488838747749, 'weight_decay': 0.0020040201514218065, 'loss_fn': 'mae', 'optimizer': 'Adam'}\n",
      "Best value: 0.23952003042062833, Best params: {'input_chunk_length': 42, 'output_chunk_length': 23, 'hidden_size': 253, 'layer_size': 1, 'dropout': 0.23708812138257668, 'batch_size': 87, 'lr': 5.320101152610614e-06, 'weight_decay': 2.4198803488995493e-05, 'loss_fn': 'huber', 'optimizer': 'RMSprop'}\n",
      "\n",
      "Starting Trial 7\n",
      "Hyperparameters: {'input_chunk_length': 49, 'output_chunk_length': 3, 'hidden_size': 186, 'layer_size': 2, 'dropout': 0.12642253943555481, 'batch_size': 253, 'lr': 6.154902743251224e-05, 'weight_decay': 0.004321561656070653, 'loss_fn': 'mse', 'optimizer': 'Adam'}\n",
      "\n",
      "Training the model...\n",
      "Train set: 6647 samples\n",
      "Validation set: 1662 samples\n"
     ]
    },
    {
     "name": "stderr",
     "output_type": "stream",
     "text": [
      "[I 2025-05-25 19:32:27,945] Trial 7 pruned. Trial was pruned at epoch 0.\n",
      "Specified future encoders in `add_encoders` at model creation but model does not accept future covariates. future encoders will be ignored.\n",
      "GPU available: True (cuda), used: True\n",
      "TPU available: False, using: 0 TPU cores\n",
      "HPU available: False, using: 0 HPUs\n",
      "LOCAL_RANK: 0 - CUDA_VISIBLE_DEVICES: [0]\n"
     ]
    },
    {
     "name": "stdout",
     "output_type": "stream",
     "text": [
      "Current value: 0.38181311391346545, Current params: {'input_chunk_length': 49, 'output_chunk_length': 3, 'hidden_size': 186, 'layer_size': 2, 'dropout': 0.12642253943555481, 'batch_size': 253, 'lr': 6.154902743251224e-05, 'weight_decay': 0.004321561656070653, 'loss_fn': 'mse', 'optimizer': 'Adam'}\n",
      "Best value: 0.23952003042062833, Best params: {'input_chunk_length': 42, 'output_chunk_length': 23, 'hidden_size': 253, 'layer_size': 1, 'dropout': 0.23708812138257668, 'batch_size': 87, 'lr': 5.320101152610614e-06, 'weight_decay': 2.4198803488995493e-05, 'loss_fn': 'huber', 'optimizer': 'RMSprop'}\n",
      "\n",
      "Starting Trial 8\n",
      "Hyperparameters: {'input_chunk_length': 57, 'output_chunk_length': 1, 'hidden_size': 227, 'layer_size': 2, 'dropout': 0.4901350771743196, 'batch_size': 133, 'lr': 9.408184093834857e-06, 'weight_decay': 1.1847153972149853e-05, 'loss_fn': 'mse', 'optimizer': 'SGD'}\n",
      "\n",
      "Training the model...\n",
      "Train set: 6647 samples\n",
      "Validation set: 1662 samples\n"
     ]
    },
    {
     "name": "stderr",
     "output_type": "stream",
     "text": [
      "Exception ignored in: <function _MultiProcessingDataLoaderIter.__del__ at 0x7f46529a1260>\n",
      "Traceback (most recent call last):\n",
      "  File \"/home/eduardo/Documentos/Water-Cycle-Neural-Network/venv/lib/python3.12/site-packages/torch/utils/data/dataloader.py\", line 1663, in __del__\n",
      "    self._shutdown_workers()\n",
      "  File \"/home/eduardo/Documentos/Water-Cycle-Neural-Network/venv/lib/python3.12/site-packages/torch/utils/data/dataloader.py\", line 1646, in _shutdown_workers\n",
      "    if w.is_alive():\n",
      "   Exception ignored in:  <function _MultiProcessingDataLoaderIter.__del__ at 0x7f46529a1260> \n",
      " Traceback (most recent call last):\n",
      "  File \"/home/eduardo/Documentos/Water-Cycle-Neural-Network/venv/lib/python3.12/site-packages/torch/utils/data/dataloader.py\", line 1663, in __del__\n",
      " ^    self._shutdown_workers()^\n",
      "^  File \"/home/eduardo/Documentos/Water-Cycle-Neural-Network/venv/lib/python3.12/site-packages/torch/utils/data/dataloader.py\", line 1646, in _shutdown_workers\n",
      "^    ^if w.is_alive():^\n",
      "^ ^ ^ ^ ^ ^\n",
      "    File \"/usr/lib/python3.12/multiprocessing/process.py\", line 160, in is_alive\n",
      "^    assert self._parent_pid == os.getpid(), 'can only test a child process'^\n",
      "^  ^^  ^^ ^  ^^ ^ ^ \n",
      "   File \"/usr/lib/python3.12/multiprocessing/process.py\", line 160, in is_alive\n",
      "^    ^assert self._parent_pid == os.getpid(), 'can only test a child process'^\n",
      "^^ ^ ^ ^ ^ ^ ^ ^ ^ ^ ^ ^^^^^^^^^^^^^^^^^^^^^^^^^^^^^^^\n",
      "^AssertionError^: ^can only test a child process^\n",
      "^^^^^^^^^^^^\n",
      "AssertionError: can only test a child process\n",
      "[I 2025-05-25 19:32:32,546] Trial 8 pruned. Trial was pruned at epoch 0.\n",
      "Specified future encoders in `add_encoders` at model creation but model does not accept future covariates. future encoders will be ignored.\n",
      "GPU available: True (cuda), used: True\n",
      "TPU available: False, using: 0 TPU cores\n",
      "HPU available: False, using: 0 HPUs\n",
      "LOCAL_RANK: 0 - CUDA_VISIBLE_DEVICES: [0]\n"
     ]
    },
    {
     "name": "stdout",
     "output_type": "stream",
     "text": [
      "Current value: 0.38871458949465854, Current params: {'input_chunk_length': 57, 'output_chunk_length': 1, 'hidden_size': 227, 'layer_size': 2, 'dropout': 0.4901350771743196, 'batch_size': 133, 'lr': 9.408184093834857e-06, 'weight_decay': 1.1847153972149853e-05, 'loss_fn': 'mse', 'optimizer': 'SGD'}\n",
      "Best value: 0.23952003042062833, Best params: {'input_chunk_length': 42, 'output_chunk_length': 23, 'hidden_size': 253, 'layer_size': 1, 'dropout': 0.23708812138257668, 'batch_size': 87, 'lr': 5.320101152610614e-06, 'weight_decay': 2.4198803488995493e-05, 'loss_fn': 'huber', 'optimizer': 'RMSprop'}\n",
      "\n",
      "Starting Trial 9\n",
      "Hyperparameters: {'input_chunk_length': 42, 'output_chunk_length': 5, 'hidden_size': 63, 'layer_size': 3, 'dropout': 0.4673537489226619, 'batch_size': 189, 'lr': 9.375361969310023e-05, 'weight_decay': 0.00020466710001561283, 'loss_fn': 'huber', 'optimizer': 'Adam'}\n",
      "\n",
      "Training the model...\n",
      "Train set: 6647 samples\n",
      "Validation set: 1662 samples\n"
     ]
    },
    {
     "name": "stderr",
     "output_type": "stream",
     "text": [
      "Metric val_loss improved. New best score: 0.179\n",
      "Metric val_loss improved by 0.024 >= min_delta = 0.0005. New best score: 0.155\n",
      "Metric val_loss improved by 0.071 >= min_delta = 0.0005. New best score: 0.084\n",
      "Metric val_loss improved by 0.033 >= min_delta = 0.0005. New best score: 0.051\n",
      "Metric val_loss improved by 0.005 >= min_delta = 0.0005. New best score: 0.046\n",
      "Metric val_loss improved by 0.001 >= min_delta = 0.0005. New best score: 0.045\n",
      "Monitored metric val_loss did not improve in the last 15 records. Best score: 0.045. Signaling Trainer to stop.\n",
      "GPU available: True (cuda), used: True\n",
      "TPU available: False, using: 0 TPU cores\n",
      "HPU available: False, using: 0 HPUs\n",
      "LOCAL_RANK: 0 - CUDA_VISIBLE_DEVICES: [0]\n"
     ]
    },
    {
     "name": "stdout",
     "output_type": "stream",
     "text": [
      "Model loaded from checkpoint for trial 9\n"
     ]
    },
    {
     "name": "stderr",
     "output_type": "stream",
     "text": [
      "/home/eduardo/Documentos/Water-Cycle-Neural-Network/venv/lib/python3.12/site-packages/pytorch_lightning/trainer/connectors/data_connector.py:425: The 'predict_dataloader' does not have many workers which may be a bottleneck. Consider increasing the value of the `num_workers` argument` to `num_workers=11` in the `DataLoader` to improve performance.\n",
      "[I 2025-05-25 19:34:58,435] Trial 9 finished with value: 0.23062671517740468 and parameters: {'input_chunk_length': 42, 'output_chunk_length': 5, 'hidden_size': 63, 'layer_size': 3, 'dropout': 0.4673537489226619, 'batch_size': 189, 'lr': 9.375361969310023e-05, 'weight_decay': 0.00020466710001561283, 'loss_fn': 'huber', 'optimizer': 'Adam'}. Best is trial 9 with value: 0.23062671517740468.\n",
      "Specified future encoders in `add_encoders` at model creation but model does not accept future covariates. future encoders will be ignored.\n",
      "GPU available: True (cuda), used: True\n",
      "TPU available: False, using: 0 TPU cores\n",
      "HPU available: False, using: 0 HPUs\n",
      "LOCAL_RANK: 0 - CUDA_VISIBLE_DEVICES: [0]\n"
     ]
    },
    {
     "name": "stdout",
     "output_type": "stream",
     "text": [
      "Starting time series verification for consistency...\n",
      "\n",
      "Performance metrics:\n",
      "                                    MSE         RMSE          MAE  \\\n",
      "Temperature                4.275075e+01     6.538406     5.526402   \n",
      "Precipitation_accumulated  3.379778e+04   183.841739   148.620734   \n",
      "Humidity                   1.359341e+02    11.659078    10.125930   \n",
      "Wind_Speed_kmh             2.293882e+00     1.514557     1.144139   \n",
      "Soil_Moisture              1.745678e+06  1321.241161  1148.609810   \n",
      "Soil_Temperature           4.915523e+01     7.011079     6.597130   \n",
      "Wind_Dir_Sin               5.810696e-01     0.762279     0.706487   \n",
      "Wind_Dir_Cos               7.863985e-01     0.886791     0.732664   \n",
      "\n",
      "                                     R2       SMAPE  \n",
      "Temperature                   -0.400655   61.591097  \n",
      "Precipitation_accumulated -10113.678133   42.907552  \n",
      "Humidity                       0.073123   11.881561  \n",
      "Wind_Speed_kmh                -0.703438  107.385281  \n",
      "Soil_Moisture                -31.671155   14.799244  \n",
      "Soil_Temperature              -2.050995   69.686071  \n",
      "Wind_Dir_Sin                  -0.055432  184.502556  \n",
      "Wind_Dir_Cos                  -1.143156  147.770178  \n",
      "The MAE for this fold was 0.23062671517740468\n",
      "Results of trial 9 saved in optuna_iteration_metrics/trial_9.json\n",
      "Current value: 0.23062671517740468, Current params: {'input_chunk_length': 42, 'output_chunk_length': 5, 'hidden_size': 63, 'layer_size': 3, 'dropout': 0.4673537489226619, 'batch_size': 189, 'lr': 9.375361969310023e-05, 'weight_decay': 0.00020466710001561283, 'loss_fn': 'huber', 'optimizer': 'Adam'}\n",
      "Best value: 0.23062671517740468, Best params: {'input_chunk_length': 42, 'output_chunk_length': 5, 'hidden_size': 63, 'layer_size': 3, 'dropout': 0.4673537489226619, 'batch_size': 189, 'lr': 9.375361969310023e-05, 'weight_decay': 0.00020466710001561283, 'loss_fn': 'huber', 'optimizer': 'Adam'}\n",
      "\n",
      "Starting Trial 10\n",
      "Hyperparameters: {'input_chunk_length': 39, 'output_chunk_length': 10, 'hidden_size': 32, 'layer_size': 3, 'dropout': 0.3436834316745124, 'batch_size': 204, 'lr': 0.0002826089272812303, 'weight_decay': 0.0003983605046779942, 'loss_fn': 'smoothl1', 'optimizer': 'Adam'}\n",
      "\n",
      "Training the model...\n",
      "Train set: 6647 samples\n",
      "Validation set: 1662 samples\n"
     ]
    },
    {
     "name": "stderr",
     "output_type": "stream",
     "text": [
      "Metric val_loss improved. New best score: 0.184\n",
      "Metric val_loss improved by 0.050 >= min_delta = 0.0005. New best score: 0.133\n",
      "Metric val_loss improved by 0.069 >= min_delta = 0.0005. New best score: 0.064\n",
      "Metric val_loss improved by 0.018 >= min_delta = 0.0005. New best score: 0.046\n",
      "Metric val_loss improved by 0.001 >= min_delta = 0.0005. New best score: 0.045\n",
      "Monitored metric val_loss did not improve in the last 15 records. Best score: 0.045. Signaling Trainer to stop.\n",
      "GPU available: True (cuda), used: True\n",
      "TPU available: False, using: 0 TPU cores\n",
      "HPU available: False, using: 0 HPUs\n",
      "LOCAL_RANK: 0 - CUDA_VISIBLE_DEVICES: [0]\n"
     ]
    },
    {
     "name": "stdout",
     "output_type": "stream",
     "text": [
      "Model loaded from checkpoint for trial 10\n"
     ]
    },
    {
     "name": "stderr",
     "output_type": "stream",
     "text": [
      "/home/eduardo/Documentos/Water-Cycle-Neural-Network/venv/lib/python3.12/site-packages/pytorch_lightning/trainer/connectors/data_connector.py:425: The 'predict_dataloader' does not have many workers which may be a bottleneck. Consider increasing the value of the `num_workers` argument` to `num_workers=11` in the `DataLoader` to improve performance.\n",
      "[I 2025-05-25 19:35:26,823] Trial 10 finished with value: 0.24823720382754477 and parameters: {'input_chunk_length': 39, 'output_chunk_length': 10, 'hidden_size': 32, 'layer_size': 3, 'dropout': 0.3436834316745124, 'batch_size': 204, 'lr': 0.0002826089272812303, 'weight_decay': 0.0003983605046779942, 'loss_fn': 'smoothl1', 'optimizer': 'Adam'}. Best is trial 9 with value: 0.23062671517740468.\n",
      "Specified future encoders in `add_encoders` at model creation but model does not accept future covariates. future encoders will be ignored.\n",
      "/home/eduardo/Documentos/Water-Cycle-Neural-Network/venv/lib/python3.12/site-packages/torch/nn/modules/rnn.py:123: UserWarning: dropout option adds dropout after all but last recurrent layer, so non-zero dropout expects num_layers greater than 1, but got dropout=0.24582908364627326 and num_layers=1\n",
      "  warnings.warn(\n",
      "GPU available: True (cuda), used: True\n",
      "TPU available: False, using: 0 TPU cores\n",
      "HPU available: False, using: 0 HPUs\n",
      "LOCAL_RANK: 0 - CUDA_VISIBLE_DEVICES: [0]\n"
     ]
    },
    {
     "name": "stdout",
     "output_type": "stream",
     "text": [
      "Starting time series verification for consistency...\n",
      "\n",
      "Performance metrics:\n",
      "                                    MSE         RMSE          MAE  \\\n",
      "Temperature                5.027392e+01     7.090410     6.002855   \n",
      "Precipitation_accumulated  2.451179e+04   156.562416   149.875836   \n",
      "Humidity                   1.625462e+02    12.749361    11.074759   \n",
      "Wind_Speed_kmh             2.211183e+00     1.487005     1.117449   \n",
      "Soil_Moisture              2.941887e+06  1715.192850  1679.805122   \n",
      "Soil_Temperature           4.372424e+01     6.612431     5.718189   \n",
      "Wind_Dir_Sin               5.898959e-01     0.768047     0.712031   \n",
      "Wind_Dir_Cos               8.179005e-01     0.904379     0.763209   \n",
      "\n",
      "                                    R2       SMAPE  \n",
      "Temperature                  -0.648377   64.186818  \n",
      "Precipitation_accumulated -7358.712411   39.227216  \n",
      "Humidity                     -0.108526   13.017158  \n",
      "Wind_Speed_kmh               -0.642363  100.877368  \n",
      "Soil_Moisture               -54.459961   21.672029  \n",
      "Soil_Temperature             -1.716188   63.610439  \n",
      "Wind_Dir_Sin                 -0.072303  185.262585  \n",
      "Wind_Dir_Cos                 -1.227740  148.828207  \n",
      "The MAE for this fold was 0.24823720382754477\n",
      "Results of trial 10 saved in optuna_iteration_metrics/trial_10.json\n",
      "Current value: 0.24823720382754477, Current params: {'input_chunk_length': 39, 'output_chunk_length': 10, 'hidden_size': 32, 'layer_size': 3, 'dropout': 0.3436834316745124, 'batch_size': 204, 'lr': 0.0002826089272812303, 'weight_decay': 0.0003983605046779942, 'loss_fn': 'smoothl1', 'optimizer': 'Adam'}\n",
      "Best value: 0.23062671517740468, Best params: {'input_chunk_length': 42, 'output_chunk_length': 5, 'hidden_size': 63, 'layer_size': 3, 'dropout': 0.4673537489226619, 'batch_size': 189, 'lr': 9.375361969310023e-05, 'weight_decay': 0.00020466710001561283, 'loss_fn': 'huber', 'optimizer': 'Adam'}\n",
      "\n",
      "Starting Trial 11\n",
      "Hyperparameters: {'input_chunk_length': 41, 'output_chunk_length': 10, 'hidden_size': 164, 'layer_size': 1, 'dropout': 0.24582908364627326, 'batch_size': 71, 'lr': 1.1191318013616578e-05, 'weight_decay': 5.7397096964109586e-05, 'loss_fn': 'huber', 'optimizer': 'RMSprop'}\n",
      "\n",
      "Training the model...\n",
      "Train set: 6647 samples\n",
      "Validation set: 1662 samples\n"
     ]
    },
    {
     "name": "stderr",
     "output_type": "stream",
     "text": [
      "Metric val_loss improved. New best score: 0.179\n",
      "Metric val_loss improved by 0.015 >= min_delta = 0.0005. New best score: 0.163\n",
      "Metric val_loss improved by 0.025 >= min_delta = 0.0005. New best score: 0.138\n",
      "Metric val_loss improved by 0.054 >= min_delta = 0.0005. New best score: 0.085\n",
      "Metric val_loss improved by 0.028 >= min_delta = 0.0005. New best score: 0.056\n",
      "Metric val_loss improved by 0.006 >= min_delta = 0.0005. New best score: 0.050\n",
      "Metric val_loss improved by 0.003 >= min_delta = 0.0005. New best score: 0.047\n",
      "Metric val_loss improved by 0.002 >= min_delta = 0.0005. New best score: 0.045\n",
      "Metric val_loss improved by 0.001 >= min_delta = 0.0005. New best score: 0.044\n",
      "Metric val_loss improved by 0.001 >= min_delta = 0.0005. New best score: 0.044\n",
      "Metric val_loss improved by 0.001 >= min_delta = 0.0005. New best score: 0.043\n",
      "Metric val_loss improved by 0.001 >= min_delta = 0.0005. New best score: 0.042\n",
      "Metric val_loss improved by 0.001 >= min_delta = 0.0005. New best score: 0.041\n",
      "Metric val_loss improved by 0.001 >= min_delta = 0.0005. New best score: 0.040\n",
      "Metric val_loss improved by 0.001 >= min_delta = 0.0005. New best score: 0.039\n",
      "Metric val_loss improved by 0.001 >= min_delta = 0.0005. New best score: 0.038\n",
      "Metric val_loss improved by 0.002 >= min_delta = 0.0005. New best score: 0.036\n",
      "Metric val_loss improved by 0.002 >= min_delta = 0.0005. New best score: 0.034\n",
      "Metric val_loss improved by 0.001 >= min_delta = 0.0005. New best score: 0.033\n",
      "Metric val_loss improved by 0.002 >= min_delta = 0.0005. New best score: 0.031\n",
      "Metric val_loss improved by 0.001 >= min_delta = 0.0005. New best score: 0.030\n",
      "Metric val_loss improved by 0.001 >= min_delta = 0.0005. New best score: 0.029\n",
      "Metric val_loss improved by 0.001 >= min_delta = 0.0005. New best score: 0.028\n",
      "Metric val_loss improved by 0.001 >= min_delta = 0.0005. New best score: 0.027\n",
      "Metric val_loss improved by 0.001 >= min_delta = 0.0005. New best score: 0.027\n",
      "`Trainer.fit` stopped: `max_epochs=30` reached.\n",
      "/home/eduardo/Documentos/Water-Cycle-Neural-Network/venv/lib/python3.12/site-packages/torch/nn/modules/rnn.py:123: UserWarning: dropout option adds dropout after all but last recurrent layer, so non-zero dropout expects num_layers greater than 1, but got dropout=0.24582908364627326 and num_layers=1\n",
      "  warnings.warn(\n",
      "GPU available: True (cuda), used: True\n",
      "TPU available: False, using: 0 TPU cores\n",
      "HPU available: False, using: 0 HPUs\n",
      "LOCAL_RANK: 0 - CUDA_VISIBLE_DEVICES: [0]\n",
      "/home/eduardo/Documentos/Water-Cycle-Neural-Network/venv/lib/python3.12/site-packages/pytorch_lightning/trainer/connectors/data_connector.py:425: The 'predict_dataloader' does not have many workers which may be a bottleneck. Consider increasing the value of the `num_workers` argument` to `num_workers=11` in the `DataLoader` to improve performance.\n"
     ]
    },
    {
     "name": "stdout",
     "output_type": "stream",
     "text": [
      "Model loaded from checkpoint for trial 11\n"
     ]
    },
    {
     "name": "stderr",
     "output_type": "stream",
     "text": [
      "[I 2025-05-25 19:36:16,320] Trial 11 finished with value: 0.1701429642030727 and parameters: {'input_chunk_length': 41, 'output_chunk_length': 10, 'hidden_size': 164, 'layer_size': 1, 'dropout': 0.24582908364627326, 'batch_size': 71, 'lr': 1.1191318013616578e-05, 'weight_decay': 5.7397096964109586e-05, 'loss_fn': 'huber', 'optimizer': 'RMSprop'}. Best is trial 11 with value: 0.1701429642030727.\n"
     ]
    },
    {
     "name": "stdout",
     "output_type": "stream",
     "text": [
      "Starting time series verification for consistency...\n",
      "\n",
      "Performance metrics:\n",
      "                                     MSE        RMSE         MAE           R2  \\\n",
      "Temperature                    17.444504    4.176662    3.504816     0.427509   \n",
      "Precipitation_accumulated   20009.597483  141.455284  134.668325 -6026.805984   \n",
      "Humidity                      131.681664   11.475263    9.971852     0.101803   \n",
      "Wind_Speed_kmh                  1.538952    1.240545    1.031566    -0.143799   \n",
      "Soil_Moisture              103554.643489  321.799073  261.775600    -0.967056   \n",
      "Soil_Temperature               17.741107    4.212019    3.642697    -0.103146   \n",
      "Wind_Dir_Sin                    0.764926    0.874600    0.661512    -0.388857   \n",
      "Wind_Dir_Cos                    0.399541    0.632093    0.521460    -0.089084   \n",
      "\n",
      "                                SMAPE  \n",
      "Temperature                 47.860743  \n",
      "Precipitation_accumulated   34.532936  \n",
      "Humidity                    11.701485  \n",
      "Wind_Speed_kmh              76.680593  \n",
      "Soil_Moisture                3.005765  \n",
      "Soil_Temperature            47.945913  \n",
      "Wind_Dir_Sin               101.745218  \n",
      "Wind_Dir_Cos               116.901340  \n",
      "The MAE for this fold was 0.1701429642030727\n",
      "Results of trial 11 saved in optuna_iteration_metrics/trial_11.json\n",
      "Current value: 0.1701429642030727, Current params: {'input_chunk_length': 41, 'output_chunk_length': 10, 'hidden_size': 164, 'layer_size': 1, 'dropout': 0.24582908364627326, 'batch_size': 71, 'lr': 1.1191318013616578e-05, 'weight_decay': 5.7397096964109586e-05, 'loss_fn': 'huber', 'optimizer': 'RMSprop'}\n",
      "Best value: 0.1701429642030727, Best params: {'input_chunk_length': 41, 'output_chunk_length': 10, 'hidden_size': 164, 'layer_size': 1, 'dropout': 0.24582908364627326, 'batch_size': 71, 'lr': 1.1191318013616578e-05, 'weight_decay': 5.7397096964109586e-05, 'loss_fn': 'huber', 'optimizer': 'RMSprop'}\n",
      "\n",
      "Starting Trial 12\n",
      "Hyperparameters: {'input_chunk_length': 24, 'output_chunk_length': 9, 'hidden_size': 163, 'layer_size': 1, 'dropout': 0.2667590230042204, 'batch_size': 72, 'lr': 2.9032939975406324e-05, 'weight_decay': 0.0001793907057005586, 'loss_fn': 'huber', 'optimizer': 'AdamW'}\n",
      "\n",
      "Training the model...\n",
      "Train set: 6647 samples\n",
      "Validation set: 1662 samples\n"
     ]
    },
    {
     "name": "stderr",
     "output_type": "stream",
     "text": [
      "Specified future encoders in `add_encoders` at model creation but model does not accept future covariates. future encoders will be ignored.\n",
      "/home/eduardo/Documentos/Water-Cycle-Neural-Network/venv/lib/python3.12/site-packages/torch/nn/modules/rnn.py:123: UserWarning: dropout option adds dropout after all but last recurrent layer, so non-zero dropout expects num_layers greater than 1, but got dropout=0.2667590230042204 and num_layers=1\n",
      "  warnings.warn(\n",
      "GPU available: True (cuda), used: True\n",
      "TPU available: False, using: 0 TPU cores\n",
      "HPU available: False, using: 0 HPUs\n",
      "LOCAL_RANK: 0 - CUDA_VISIBLE_DEVICES: [0]\n",
      "Metric val_loss improved. New best score: 0.181\n",
      "Metric val_loss improved by 0.070 >= min_delta = 0.0005. New best score: 0.111\n",
      "Metric val_loss improved by 0.063 >= min_delta = 0.0005. New best score: 0.048\n",
      "Metric val_loss improved by 0.003 >= min_delta = 0.0005. New best score: 0.045\n",
      "Monitored metric val_loss did not improve in the last 15 records. Best score: 0.045. Signaling Trainer to stop.\n",
      "/home/eduardo/Documentos/Water-Cycle-Neural-Network/venv/lib/python3.12/site-packages/torch/nn/modules/rnn.py:123: UserWarning: dropout option adds dropout after all but last recurrent layer, so non-zero dropout expects num_layers greater than 1, but got dropout=0.2667590230042204 and num_layers=1\n",
      "  warnings.warn(\n",
      "GPU available: True (cuda), used: True\n",
      "TPU available: False, using: 0 TPU cores\n",
      "HPU available: False, using: 0 HPUs\n",
      "LOCAL_RANK: 0 - CUDA_VISIBLE_DEVICES: [0]\n",
      "/home/eduardo/Documentos/Water-Cycle-Neural-Network/venv/lib/python3.12/site-packages/pytorch_lightning/trainer/connectors/data_connector.py:425: The 'predict_dataloader' does not have many workers which may be a bottleneck. Consider increasing the value of the `num_workers` argument` to `num_workers=11` in the `DataLoader` to improve performance.\n"
     ]
    },
    {
     "name": "stdout",
     "output_type": "stream",
     "text": [
      "Model loaded from checkpoint for trial 12\n"
     ]
    },
    {
     "name": "stderr",
     "output_type": "stream",
     "text": [
      "[I 2025-05-25 19:36:41,698] Trial 12 finished with value: 0.2489841853294702 and parameters: {'input_chunk_length': 24, 'output_chunk_length': 9, 'hidden_size': 163, 'layer_size': 1, 'dropout': 0.2667590230042204, 'batch_size': 72, 'lr': 2.9032939975406324e-05, 'weight_decay': 0.0001793907057005586, 'loss_fn': 'huber', 'optimizer': 'AdamW'}. Best is trial 11 with value: 0.1701429642030727.\n",
      "Specified future encoders in `add_encoders` at model creation but model does not accept future covariates. future encoders will be ignored.\n",
      "/home/eduardo/Documentos/Water-Cycle-Neural-Network/venv/lib/python3.12/site-packages/torch/nn/modules/rnn.py:123: UserWarning: dropout option adds dropout after all but last recurrent layer, so non-zero dropout expects num_layers greater than 1, but got dropout=0.328375920848436 and num_layers=1\n",
      "  warnings.warn(\n",
      "GPU available: True (cuda), used: True\n",
      "TPU available: False, using: 0 TPU cores\n",
      "HPU available: False, using: 0 HPUs\n",
      "LOCAL_RANK: 0 - CUDA_VISIBLE_DEVICES: [0]\n"
     ]
    },
    {
     "name": "stdout",
     "output_type": "stream",
     "text": [
      "Starting time series verification for consistency...\n",
      "\n",
      "Performance metrics:\n",
      "                                    MSE         RMSE          MAE  \\\n",
      "Temperature                4.296559e+01     6.554814     5.574766   \n",
      "Precipitation_accumulated  4.068590e+04   201.707450   196.560452   \n",
      "Humidity                   1.685942e+02    12.984383    11.409242   \n",
      "Wind_Speed_kmh             2.819242e+00     1.679060     1.276707   \n",
      "Soil_Moisture              1.707075e+06  1306.550711  1288.561374   \n",
      "Soil_Temperature           4.781609e+01     6.914918     6.471793   \n",
      "Wind_Dir_Sin               5.714579e-01     0.755948     0.699106   \n",
      "Wind_Dir_Cos               6.869139e-01     0.828803     0.700844   \n",
      "\n",
      "                                     R2       SMAPE  \n",
      "Temperature                   -0.409977   62.208156  \n",
      "Precipitation_accumulated -11908.889521   54.562736  \n",
      "Humidity                      -0.150759   13.406554  \n",
      "Wind_Speed_kmh                -1.091952  128.851753  \n",
      "Soil_Moisture                -29.184508   16.255063  \n",
      "Soil_Temperature              -1.970800   69.177170  \n",
      "Wind_Dir_Sin                  -0.037847  181.802118  \n",
      "Wind_Dir_Cos                  -0.874256  154.103276  \n",
      "The MAE for this fold was 0.2489841853294702\n",
      "Results of trial 12 saved in optuna_iteration_metrics/trial_12.json\n",
      "Current value: 0.2489841853294702, Current params: {'input_chunk_length': 24, 'output_chunk_length': 9, 'hidden_size': 163, 'layer_size': 1, 'dropout': 0.2667590230042204, 'batch_size': 72, 'lr': 2.9032939975406324e-05, 'weight_decay': 0.0001793907057005586, 'loss_fn': 'huber', 'optimizer': 'AdamW'}\n",
      "Best value: 0.1701429642030727, Best params: {'input_chunk_length': 41, 'output_chunk_length': 10, 'hidden_size': 164, 'layer_size': 1, 'dropout': 0.24582908364627326, 'batch_size': 71, 'lr': 1.1191318013616578e-05, 'weight_decay': 5.7397096964109586e-05, 'loss_fn': 'huber', 'optimizer': 'RMSprop'}\n",
      "\n",
      "Starting Trial 13\n",
      "Hyperparameters: {'input_chunk_length': 43, 'output_chunk_length': 7, 'hidden_size': 32, 'layer_size': 1, 'dropout': 0.328375920848436, 'batch_size': 96, 'lr': 0.00010923577746071791, 'weight_decay': 7.002844317664545e-05, 'loss_fn': 'mae', 'optimizer': 'RMSprop'}\n",
      "\n",
      "Training the model...\n",
      "Train set: 6647 samples\n",
      "Validation set: 1662 samples\n"
     ]
    },
    {
     "name": "stderr",
     "output_type": "stream",
     "text": [
      "[I 2025-05-25 19:36:43,345] Trial 13 pruned. Trial was pruned at epoch 0.\n",
      "Specified future encoders in `add_encoders` at model creation but model does not accept future covariates. future encoders will be ignored.\n"
     ]
    },
    {
     "name": "stdout",
     "output_type": "stream",
     "text": [
      "Current value: 0.44502351070904816, Current params: {'input_chunk_length': 43, 'output_chunk_length': 7, 'hidden_size': 32, 'layer_size': 1, 'dropout': 0.328375920848436, 'batch_size': 96, 'lr': 0.00010923577746071791, 'weight_decay': 7.002844317664545e-05, 'loss_fn': 'mae', 'optimizer': 'RMSprop'}\n",
      "Best value: 0.1701429642030727, Best params: {'input_chunk_length': 41, 'output_chunk_length': 10, 'hidden_size': 164, 'layer_size': 1, 'dropout': 0.24582908364627326, 'batch_size': 71, 'lr': 1.1191318013616578e-05, 'weight_decay': 5.7397096964109586e-05, 'loss_fn': 'huber', 'optimizer': 'RMSprop'}\n",
      "\n",
      "Starting Trial 14\n",
      "Hyperparameters: {'input_chunk_length': 35, 'output_chunk_length': 13, 'hidden_size': 148, 'layer_size': 2, 'dropout': 0.39695300772498543, 'batch_size': 192, 'lr': 0.0021849855786574214, 'weight_decay': 0.00023033269188934644, 'loss_fn': 'huber', 'optimizer': 'Adam'}\n",
      "\n",
      "Training the model...\n",
      "Train set: 6647 samples\n",
      "Validation set: 1662 samples\n"
     ]
    },
    {
     "name": "stderr",
     "output_type": "stream",
     "text": [
      "GPU available: True (cuda), used: True\n",
      "TPU available: False, using: 0 TPU cores\n",
      "HPU available: False, using: 0 HPUs\n",
      "LOCAL_RANK: 0 - CUDA_VISIBLE_DEVICES: [0]\n",
      "Metric val_loss improved. New best score: 0.044\n",
      "Metric val_loss improved by 0.002 >= min_delta = 0.0005. New best score: 0.042\n",
      "Metric val_loss improved by 0.012 >= min_delta = 0.0005. New best score: 0.031\n",
      "Metric val_loss improved by 0.003 >= min_delta = 0.0005. New best score: 0.028\n",
      "Metric val_loss improved by 0.004 >= min_delta = 0.0005. New best score: 0.023\n",
      "Metric val_loss improved by 0.002 >= min_delta = 0.0005. New best score: 0.021\n",
      "Metric val_loss improved by 0.001 >= min_delta = 0.0005. New best score: 0.020\n",
      "Monitored metric val_loss did not improve in the last 15 records. Best score: 0.020. Signaling Trainer to stop.\n",
      "GPU available: True (cuda), used: True\n",
      "TPU available: False, using: 0 TPU cores\n",
      "HPU available: False, using: 0 HPUs\n",
      "LOCAL_RANK: 0 - CUDA_VISIBLE_DEVICES: [0]\n"
     ]
    },
    {
     "name": "stdout",
     "output_type": "stream",
     "text": [
      "Model loaded from checkpoint for trial 14\n"
     ]
    },
    {
     "name": "stderr",
     "output_type": "stream",
     "text": [
      "/home/eduardo/Documentos/Water-Cycle-Neural-Network/venv/lib/python3.12/site-packages/pytorch_lightning/trainer/connectors/data_connector.py:425: The 'predict_dataloader' does not have many workers which may be a bottleneck. Consider increasing the value of the `num_workers` argument` to `num_workers=11` in the `DataLoader` to improve performance.\n",
      "[I 2025-05-25 19:38:23,199] Trial 14 finished with value: 0.14865769505310367 and parameters: {'input_chunk_length': 35, 'output_chunk_length': 13, 'hidden_size': 148, 'layer_size': 2, 'dropout': 0.39695300772498543, 'batch_size': 192, 'lr': 0.0021849855786574214, 'weight_decay': 0.00023033269188934644, 'loss_fn': 'huber', 'optimizer': 'Adam'}. Best is trial 14 with value: 0.14865769505310367.\n",
      "Specified future encoders in `add_encoders` at model creation but model does not accept future covariates. future encoders will be ignored.\n",
      "GPU available: True (cuda), used: True\n",
      "TPU available: False, using: 0 TPU cores\n",
      "HPU available: False, using: 0 HPUs\n",
      "LOCAL_RANK: 0 - CUDA_VISIBLE_DEVICES: [0]\n"
     ]
    },
    {
     "name": "stdout",
     "output_type": "stream",
     "text": [
      "Starting time series verification for consistency...\n",
      "\n",
      "Performance metrics:\n",
      "                                    MSE        RMSE         MAE          R2  \\\n",
      "Temperature                   21.018689    4.584614    3.600112    0.311157   \n",
      "Precipitation_accumulated   1294.664221   35.981443   33.424666 -387.088112   \n",
      "Humidity                     315.302887   17.756770   14.354097   -1.150101   \n",
      "Wind_Speed_kmh                 1.572175    1.253864    0.974901   -0.167480   \n",
      "Soil_Moisture              45746.783828  213.884978  202.128370    0.140708   \n",
      "Soil_Temperature              19.749024    4.443987    3.575393   -0.226288   \n",
      "Wind_Dir_Sin                   0.558838    0.747555    0.677737   -0.015849   \n",
      "Wind_Dir_Cos                   0.370541    0.608721    0.536065   -0.009239   \n",
      "\n",
      "                                SMAPE  \n",
      "Temperature                 48.553353  \n",
      "Precipitation_accumulated    7.499972  \n",
      "Humidity                    16.123270  \n",
      "Wind_Speed_kmh              81.809361  \n",
      "Soil_Moisture                2.380300  \n",
      "Soil_Temperature            56.391245  \n",
      "Wind_Dir_Sin               148.468817  \n",
      "Wind_Dir_Cos               152.452759  \n",
      "The MAE for this fold was 0.14865769505310367\n",
      "Results of trial 14 saved in optuna_iteration_metrics/trial_14.json\n",
      "Current value: 0.14865769505310367, Current params: {'input_chunk_length': 35, 'output_chunk_length': 13, 'hidden_size': 148, 'layer_size': 2, 'dropout': 0.39695300772498543, 'batch_size': 192, 'lr': 0.0021849855786574214, 'weight_decay': 0.00023033269188934644, 'loss_fn': 'huber', 'optimizer': 'Adam'}\n",
      "Best value: 0.14865769505310367, Best params: {'input_chunk_length': 35, 'output_chunk_length': 13, 'hidden_size': 148, 'layer_size': 2, 'dropout': 0.39695300772498543, 'batch_size': 192, 'lr': 0.0021849855786574214, 'weight_decay': 0.00023033269188934644, 'loss_fn': 'huber', 'optimizer': 'Adam'}\n",
      "\n",
      "Starting Trial 15\n",
      "Hyperparameters: {'input_chunk_length': 35, 'output_chunk_length': 12, 'hidden_size': 155, 'layer_size': 2, 'dropout': 0.3978593037284437, 'batch_size': 116, 'lr': 0.004990955350038824, 'weight_decay': 3.231310092205005e-05, 'loss_fn': 'huber', 'optimizer': 'Adam'}\n",
      "\n",
      "Training the model...\n",
      "Train set: 6647 samples\n",
      "Validation set: 1662 samples\n"
     ]
    },
    {
     "name": "stderr",
     "output_type": "stream",
     "text": [
      "Metric val_loss improved. New best score: 0.047\n",
      "Metric val_loss improved by 0.018 >= min_delta = 0.0005. New best score: 0.028\n",
      "Metric val_loss improved by 0.003 >= min_delta = 0.0005. New best score: 0.025\n",
      "Metric val_loss improved by 0.002 >= min_delta = 0.0005. New best score: 0.024\n",
      "Metric val_loss improved by 0.003 >= min_delta = 0.0005. New best score: 0.021\n",
      "Metric val_loss improved by 0.001 >= min_delta = 0.0005. New best score: 0.020\n",
      "Monitored metric val_loss did not improve in the last 15 records. Best score: 0.020. Signaling Trainer to stop.\n",
      "GPU available: True (cuda), used: True\n",
      "TPU available: False, using: 0 TPU cores\n",
      "HPU available: False, using: 0 HPUs\n",
      "LOCAL_RANK: 0 - CUDA_VISIBLE_DEVICES: [0]\n"
     ]
    },
    {
     "name": "stdout",
     "output_type": "stream",
     "text": [
      "Model loaded from checkpoint for trial 15\n"
     ]
    },
    {
     "name": "stderr",
     "output_type": "stream",
     "text": [
      "/home/eduardo/Documentos/Water-Cycle-Neural-Network/venv/lib/python3.12/site-packages/pytorch_lightning/trainer/connectors/data_connector.py:425: The 'predict_dataloader' does not have many workers which may be a bottleneck. Consider increasing the value of the `num_workers` argument` to `num_workers=11` in the `DataLoader` to improve performance.\n",
      "[I 2025-05-25 19:39:19,156] Trial 15 finished with value: 0.14711962189950123 and parameters: {'input_chunk_length': 35, 'output_chunk_length': 12, 'hidden_size': 155, 'layer_size': 2, 'dropout': 0.3978593037284437, 'batch_size': 116, 'lr': 0.004990955350038824, 'weight_decay': 3.231310092205005e-05, 'loss_fn': 'huber', 'optimizer': 'Adam'}. Best is trial 15 with value: 0.14711962189950123.\n",
      "Specified future encoders in `add_encoders` at model creation but model does not accept future covariates. future encoders will be ignored.\n",
      "GPU available: True (cuda), used: True\n",
      "TPU available: False, using: 0 TPU cores\n",
      "HPU available: False, using: 0 HPUs\n",
      "LOCAL_RANK: 0 - CUDA_VISIBLE_DEVICES: [0]\n"
     ]
    },
    {
     "name": "stdout",
     "output_type": "stream",
     "text": [
      "Starting time series verification for consistency...\n",
      "\n",
      "Performance metrics:\n",
      "                                     MSE        RMSE         MAE          R2  \\\n",
      "Temperature                    24.986393    4.998639    3.864391    0.181364   \n",
      "Precipitation_accumulated    1738.175513   41.691432   26.770771 -519.184560   \n",
      "Humidity                       99.613593    9.980661    8.229830    0.320777   \n",
      "Wind_Speed_kmh                  1.411251    1.187961    0.935109   -0.047996   \n",
      "Soil_Moisture              307322.430584  554.366693  511.493117   -4.751678   \n",
      "Soil_Temperature               21.743176    4.662958    3.846852   -0.349568   \n",
      "Wind_Dir_Sin                    0.568733    0.754144    0.693746   -0.033024   \n",
      "Wind_Dir_Cos                    0.357916    0.598261    0.518094    0.024579   \n",
      "\n",
      "                                SMAPE  \n",
      "Temperature                 52.039474  \n",
      "Precipitation_accumulated    6.225638  \n",
      "Humidity                     9.758603  \n",
      "Wind_Speed_kmh              76.639580  \n",
      "Soil_Moisture                6.134034  \n",
      "Soil_Temperature            61.775244  \n",
      "Wind_Dir_Sin               169.861641  \n",
      "Wind_Dir_Cos               131.796722  \n",
      "The MAE for this fold was 0.14711962189950123\n",
      "Results of trial 15 saved in optuna_iteration_metrics/trial_15.json\n",
      "Current value: 0.14711962189950123, Current params: {'input_chunk_length': 35, 'output_chunk_length': 12, 'hidden_size': 155, 'layer_size': 2, 'dropout': 0.3978593037284437, 'batch_size': 116, 'lr': 0.004990955350038824, 'weight_decay': 3.231310092205005e-05, 'loss_fn': 'huber', 'optimizer': 'Adam'}\n",
      "Best value: 0.14711962189950123, Best params: {'input_chunk_length': 35, 'output_chunk_length': 12, 'hidden_size': 155, 'layer_size': 2, 'dropout': 0.3978593037284437, 'batch_size': 116, 'lr': 0.004990955350038824, 'weight_decay': 3.231310092205005e-05, 'loss_fn': 'huber', 'optimizer': 'Adam'}\n",
      "\n",
      "Starting Trial 16\n",
      "Hyperparameters: {'input_chunk_length': 33, 'output_chunk_length': 14, 'hidden_size': 145, 'layer_size': 2, 'dropout': 0.39637916239102483, 'batch_size': 123, 'lr': 0.003925081648342779, 'weight_decay': 1.1570347065729191e-05, 'loss_fn': 'huber', 'optimizer': 'Adam'}\n",
      "\n",
      "Training the model...\n",
      "Train set: 6647 samples\n",
      "Validation set: 1662 samples\n"
     ]
    },
    {
     "name": "stderr",
     "output_type": "stream",
     "text": [
      "Metric val_loss improved. New best score: 0.048\n",
      "Metric val_loss improved by 0.020 >= min_delta = 0.0005. New best score: 0.028\n",
      "Monitored metric val_loss did not improve in the last 15 records. Best score: 0.028. Signaling Trainer to stop.\n",
      "GPU available: True (cuda), used: True\n",
      "TPU available: False, using: 0 TPU cores\n",
      "HPU available: False, using: 0 HPUs\n",
      "LOCAL_RANK: 0 - CUDA_VISIBLE_DEVICES: [0]\n"
     ]
    },
    {
     "name": "stdout",
     "output_type": "stream",
     "text": [
      "Model loaded from checkpoint for trial 16\n"
     ]
    },
    {
     "name": "stderr",
     "output_type": "stream",
     "text": [
      "/home/eduardo/Documentos/Water-Cycle-Neural-Network/venv/lib/python3.12/site-packages/pytorch_lightning/trainer/connectors/data_connector.py:425: The 'predict_dataloader' does not have many workers which may be a bottleneck. Consider increasing the value of the `num_workers` argument` to `num_workers=11` in the `DataLoader` to improve performance.\n",
      "[I 2025-05-25 19:39:49,969] Trial 16 finished with value: 0.16832548181976634 and parameters: {'input_chunk_length': 33, 'output_chunk_length': 14, 'hidden_size': 145, 'layer_size': 2, 'dropout': 0.39637916239102483, 'batch_size': 123, 'lr': 0.003925081648342779, 'weight_decay': 1.1570347065729191e-05, 'loss_fn': 'huber', 'optimizer': 'Adam'}. Best is trial 15 with value: 0.14711962189950123.\n",
      "Specified future encoders in `add_encoders` at model creation but model does not accept future covariates. future encoders will be ignored.\n",
      "GPU available: True (cuda), used: True\n",
      "TPU available: False, using: 0 TPU cores\n",
      "HPU available: False, using: 0 HPUs\n",
      "LOCAL_RANK: 0 - CUDA_VISIBLE_DEVICES: [0]\n"
     ]
    },
    {
     "name": "stdout",
     "output_type": "stream",
     "text": [
      "Starting time series verification for consistency...\n",
      "\n",
      "Performance metrics:\n",
      "                                     MSE        RMSE         MAE           R2  \\\n",
      "Temperature                    17.291854    4.158348    3.244994     0.433462   \n",
      "Precipitation_accumulated   20729.337420  143.976864  114.062069 -6202.678047   \n",
      "Humidity                       96.502530    9.823570    8.322942     0.341990   \n",
      "Wind_Speed_kmh                  1.352179    1.162832    0.948882    -0.004129   \n",
      "Soil_Moisture              318243.379447  564.130640  483.899648    -4.956068   \n",
      "Soil_Temperature               15.124172    3.888981    3.165165     0.061264   \n",
      "Wind_Dir_Sin                    0.609273    0.780560    0.675633    -0.106660   \n",
      "Wind_Dir_Cos                    0.504316    0.710152    0.563018    -0.374403   \n",
      "\n",
      "                                SMAPE  \n",
      "Temperature                 45.695146  \n",
      "Precipitation_accumulated   30.832635  \n",
      "Humidity                     9.810400  \n",
      "Wind_Speed_kmh              75.117702  \n",
      "Soil_Moisture                5.870955  \n",
      "Soil_Temperature            56.161504  \n",
      "Wind_Dir_Sin               134.150838  \n",
      "Wind_Dir_Cos               106.851300  \n",
      "The MAE for this fold was 0.16832548181976634\n",
      "Results of trial 16 saved in optuna_iteration_metrics/trial_16.json\n",
      "Current value: 0.16832548181976634, Current params: {'input_chunk_length': 33, 'output_chunk_length': 14, 'hidden_size': 145, 'layer_size': 2, 'dropout': 0.39637916239102483, 'batch_size': 123, 'lr': 0.003925081648342779, 'weight_decay': 1.1570347065729191e-05, 'loss_fn': 'huber', 'optimizer': 'Adam'}\n",
      "Best value: 0.14711962189950123, Best params: {'input_chunk_length': 35, 'output_chunk_length': 12, 'hidden_size': 155, 'layer_size': 2, 'dropout': 0.3978593037284437, 'batch_size': 116, 'lr': 0.004990955350038824, 'weight_decay': 3.231310092205005e-05, 'loss_fn': 'huber', 'optimizer': 'Adam'}\n",
      "\n",
      "Starting Trial 17\n",
      "Hyperparameters: {'input_chunk_length': 33, 'output_chunk_length': 16, 'hidden_size': 189, 'layer_size': 2, 'dropout': 0.3872819462771056, 'batch_size': 213, 'lr': 0.0012719969610558767, 'weight_decay': 0.00040025939466631794, 'loss_fn': 'mae', 'optimizer': 'Adam'}\n",
      "\n",
      "Training the model...\n",
      "Train set: 6647 samples\n",
      "Validation set: 1662 samples\n"
     ]
    },
    {
     "name": "stderr",
     "output_type": "stream",
     "text": [
      "[I 2025-05-25 19:39:52,370] Trial 17 pruned. Trial was pruned at epoch 0.\n",
      "Specified future encoders in `add_encoders` at model creation but model does not accept future covariates. future encoders will be ignored.\n",
      "GPU available: True (cuda), used: True\n",
      "TPU available: False, using: 0 TPU cores\n",
      "HPU available: False, using: 0 HPUs\n",
      "LOCAL_RANK: 0 - CUDA_VISIBLE_DEVICES: [0]\n"
     ]
    },
    {
     "name": "stdout",
     "output_type": "stream",
     "text": [
      "Current value: 0.2655883293247125, Current params: {'input_chunk_length': 33, 'output_chunk_length': 16, 'hidden_size': 189, 'layer_size': 2, 'dropout': 0.3872819462771056, 'batch_size': 213, 'lr': 0.0012719969610558767, 'weight_decay': 0.00040025939466631794, 'loss_fn': 'mae', 'optimizer': 'Adam'}\n",
      "Best value: 0.14711962189950123, Best params: {'input_chunk_length': 35, 'output_chunk_length': 12, 'hidden_size': 155, 'layer_size': 2, 'dropout': 0.3978593037284437, 'batch_size': 116, 'lr': 0.004990955350038824, 'weight_decay': 3.231310092205005e-05, 'loss_fn': 'huber', 'optimizer': 'Adam'}\n",
      "\n",
      "Starting Trial 18\n",
      "Hyperparameters: {'input_chunk_length': 28, 'output_chunk_length': 12, 'hidden_size': 139, 'layer_size': 2, 'dropout': 0.41825853664932866, 'batch_size': 175, 'lr': 0.0010529937924516448, 'weight_decay': 0.008658287650346765, 'loss_fn': 'smoothl1', 'optimizer': 'Adam'}\n",
      "\n",
      "Training the model...\n",
      "Train set: 6647 samples\n",
      "Validation set: 1662 samples\n"
     ]
    },
    {
     "name": "stderr",
     "output_type": "stream",
     "text": [
      "Metric val_loss improved. New best score: 0.043\n",
      "Monitored metric val_loss did not improve in the last 15 records. Best score: 0.043. Signaling Trainer to stop.\n",
      "GPU available: True (cuda), used: True\n",
      "TPU available: False, using: 0 TPU cores\n",
      "HPU available: False, using: 0 HPUs\n",
      "LOCAL_RANK: 0 - CUDA_VISIBLE_DEVICES: [0]\n"
     ]
    },
    {
     "name": "stdout",
     "output_type": "stream",
     "text": [
      "Model loaded from checkpoint for trial 18\n"
     ]
    },
    {
     "name": "stderr",
     "output_type": "stream",
     "text": [
      "/home/eduardo/Documentos/Water-Cycle-Neural-Network/venv/lib/python3.12/site-packages/pytorch_lightning/trainer/connectors/data_connector.py:425: The 'predict_dataloader' does not have many workers which may be a bottleneck. Consider increasing the value of the `num_workers` argument` to `num_workers=11` in the `DataLoader` to improve performance.\n",
      "[I 2025-05-25 19:41:13,386] Trial 18 finished with value: 0.2474213362059984 and parameters: {'input_chunk_length': 28, 'output_chunk_length': 12, 'hidden_size': 139, 'layer_size': 2, 'dropout': 0.41825853664932866, 'batch_size': 175, 'lr': 0.0010529937924516448, 'weight_decay': 0.008658287650346765, 'loss_fn': 'smoothl1', 'optimizer': 'Adam'}. Best is trial 15 with value: 0.14711962189950123.\n",
      "Specified future encoders in `add_encoders` at model creation but model does not accept future covariates. future encoders will be ignored.\n",
      "GPU available: True (cuda), used: True\n",
      "TPU available: False, using: 0 TPU cores\n",
      "HPU available: False, using: 0 HPUs\n",
      "LOCAL_RANK: 0 - CUDA_VISIBLE_DEVICES: [0]\n"
     ]
    },
    {
     "name": "stdout",
     "output_type": "stream",
     "text": [
      "Starting time series verification for consistency...\n",
      "\n",
      "Performance metrics:\n",
      "                                    MSE         RMSE          MAE  \\\n",
      "Temperature                4.722655e+01     6.872157     5.824669   \n",
      "Precipitation_accumulated  2.305880e+04   151.851251   151.588046   \n",
      "Humidity                   1.972856e+02    14.045839    12.186307   \n",
      "Wind_Speed_kmh             2.636365e+00     1.623689     1.227269   \n",
      "Soil_Moisture              2.536140e+06  1592.526434  1572.994516   \n",
      "Soil_Temperature           4.758336e+01     6.898069     5.979089   \n",
      "Wind_Dir_Sin               5.956603e-01     0.771790     0.716514   \n",
      "Wind_Dir_Cos               7.328251e-01     0.856052     0.728997   \n",
      "\n",
      "                                    R2       SMAPE  \n",
      "Temperature                  -0.545059   63.441636  \n",
      "Precipitation_accumulated -6822.773254   39.018909  \n",
      "Humidity                     -0.344430   14.344299  \n",
      "Wind_Speed_kmh               -0.954877  116.650304  \n",
      "Soil_Moisture               -45.284344   20.141711  \n",
      "Soil_Temperature             -1.949775   65.334164  \n",
      "Wind_Dir_Sin                 -0.080274  192.166501  \n",
      "Wind_Dir_Cos                 -0.999842  150.162982  \n",
      "The MAE for this fold was 0.2474213362059984\n",
      "Results of trial 18 saved in optuna_iteration_metrics/trial_18.json\n",
      "Current value: 0.2474213362059984, Current params: {'input_chunk_length': 28, 'output_chunk_length': 12, 'hidden_size': 139, 'layer_size': 2, 'dropout': 0.41825853664932866, 'batch_size': 175, 'lr': 0.0010529937924516448, 'weight_decay': 0.008658287650346765, 'loss_fn': 'smoothl1', 'optimizer': 'Adam'}\n",
      "Best value: 0.14711962189950123, Best params: {'input_chunk_length': 35, 'output_chunk_length': 12, 'hidden_size': 155, 'layer_size': 2, 'dropout': 0.3978593037284437, 'batch_size': 116, 'lr': 0.004990955350038824, 'weight_decay': 3.231310092205005e-05, 'loss_fn': 'huber', 'optimizer': 'Adam'}\n",
      "\n",
      "Starting Trial 19\n",
      "Hyperparameters: {'input_chunk_length': 47, 'output_chunk_length': 13, 'hidden_size': 166, 'layer_size': 2, 'dropout': 0.3089230971095161, 'batch_size': 109, 'lr': 0.003894034109450216, 'weight_decay': 1.6541640985786045e-05, 'loss_fn': 'huber', 'optimizer': 'Adam'}\n",
      "\n",
      "Training the model...\n",
      "Train set: 6647 samples\n",
      "Validation set: 1662 samples\n"
     ]
    },
    {
     "name": "stderr",
     "output_type": "stream",
     "text": [
      "Metric val_loss improved. New best score: 0.057\n",
      "Metric val_loss improved by 0.023 >= min_delta = 0.0005. New best score: 0.034\n",
      "Metric val_loss improved by 0.005 >= min_delta = 0.0005. New best score: 0.029\n",
      "Monitored metric val_loss did not improve in the last 15 records. Best score: 0.029. Signaling Trainer to stop.\n",
      "GPU available: True (cuda), used: True\n",
      "TPU available: False, using: 0 TPU cores\n",
      "HPU available: False, using: 0 HPUs\n",
      "LOCAL_RANK: 0 - CUDA_VISIBLE_DEVICES: [0]\n"
     ]
    },
    {
     "name": "stdout",
     "output_type": "stream",
     "text": [
      "Model loaded from checkpoint for trial 19\n"
     ]
    },
    {
     "name": "stderr",
     "output_type": "stream",
     "text": [
      "/home/eduardo/Documentos/Water-Cycle-Neural-Network/venv/lib/python3.12/site-packages/pytorch_lightning/trainer/connectors/data_connector.py:425: The 'predict_dataloader' does not have many workers which may be a bottleneck. Consider increasing the value of the `num_workers` argument` to `num_workers=11` in the `DataLoader` to improve performance.\n",
      "[I 2025-05-25 19:42:07,051] Trial 19 finished with value: 0.16823617975488536 and parameters: {'input_chunk_length': 47, 'output_chunk_length': 13, 'hidden_size': 166, 'layer_size': 2, 'dropout': 0.3089230971095161, 'batch_size': 109, 'lr': 0.003894034109450216, 'weight_decay': 1.6541640985786045e-05, 'loss_fn': 'huber', 'optimizer': 'Adam'}. Best is trial 15 with value: 0.14711962189950123.\n",
      "Specified future encoders in `add_encoders` at model creation but model does not accept future covariates. future encoders will be ignored.\n",
      "GPU available: True (cuda), used: True\n",
      "TPU available: False, using: 0 TPU cores\n",
      "HPU available: False, using: 0 HPUs\n",
      "LOCAL_RANK: 0 - CUDA_VISIBLE_DEVICES: [0]\n"
     ]
    },
    {
     "name": "stdout",
     "output_type": "stream",
     "text": [
      "Starting time series verification for consistency...\n",
      "\n",
      "Performance metrics:\n",
      "                                     MSE        RMSE         MAE  \\\n",
      "Temperature                    14.257962    3.775972    3.013437   \n",
      "Precipitation_accumulated   35021.312792  187.139822  144.794639   \n",
      "Humidity                       97.437455    9.871041    8.058353   \n",
      "Wind_Speed_kmh                  1.394187    1.180757    0.975530   \n",
      "Soil_Moisture              150755.711626  388.272728  294.256050   \n",
      "Soil_Temperature                7.688241    2.772768    2.261465   \n",
      "Wind_Dir_Sin                    0.594884    0.771287    0.693473   \n",
      "Wind_Dir_Cos                    0.450803    0.671418    0.542155   \n",
      "\n",
      "                                     R2       SMAPE  \n",
      "Temperature                    0.532192   44.140697  \n",
      "Precipitation_accumulated -10711.184447   43.219778  \n",
      "Humidity                       0.335655    9.509070  \n",
      "Wind_Speed_kmh                -0.035124   74.510452  \n",
      "Soil_Moisture                 -1.985140    3.524367  \n",
      "Soil_Temperature               0.520820   32.711530  \n",
      "Wind_Dir_Sin                  -0.081512  154.978601  \n",
      "Wind_Dir_Cos                  -0.226683  109.778171  \n",
      "The MAE for this fold was 0.16823617975488536\n",
      "Results of trial 19 saved in optuna_iteration_metrics/trial_19.json\n",
      "Current value: 0.16823617975488536, Current params: {'input_chunk_length': 47, 'output_chunk_length': 13, 'hidden_size': 166, 'layer_size': 2, 'dropout': 0.3089230971095161, 'batch_size': 109, 'lr': 0.003894034109450216, 'weight_decay': 1.6541640985786045e-05, 'loss_fn': 'huber', 'optimizer': 'Adam'}\n",
      "Best value: 0.14711962189950123, Best params: {'input_chunk_length': 35, 'output_chunk_length': 12, 'hidden_size': 155, 'layer_size': 2, 'dropout': 0.3978593037284437, 'batch_size': 116, 'lr': 0.004990955350038824, 'weight_decay': 3.231310092205005e-05, 'loss_fn': 'huber', 'optimizer': 'Adam'}\n",
      "\n",
      "Starting Trial 20\n",
      "Hyperparameters: {'input_chunk_length': 37, 'output_chunk_length': 17, 'hidden_size': 132, 'layer_size': 2, 'dropout': 0.3744235620551301, 'batch_size': 148, 'lr': 0.0009005818904931906, 'weight_decay': 1.075747240219602e-06, 'loss_fn': 'huber', 'optimizer': 'AdamW'}\n",
      "\n",
      "Training the model...\n",
      "Train set: 6647 samples\n",
      "Validation set: 1662 samples\n"
     ]
    },
    {
     "name": "stderr",
     "output_type": "stream",
     "text": [
      "Metric val_loss improved. New best score: 0.050\n",
      "Metric val_loss improved by 0.001 >= min_delta = 0.0005. New best score: 0.050\n",
      "Metric val_loss improved by 0.006 >= min_delta = 0.0005. New best score: 0.043\n",
      "Metric val_loss improved by 0.008 >= min_delta = 0.0005. New best score: 0.035\n",
      "Metric val_loss improved by 0.005 >= min_delta = 0.0005. New best score: 0.030\n",
      "Metric val_loss improved by 0.003 >= min_delta = 0.0005. New best score: 0.027\n",
      "Metric val_loss improved by 0.001 >= min_delta = 0.0005. New best score: 0.027\n",
      "Metric val_loss improved by 0.003 >= min_delta = 0.0005. New best score: 0.024\n",
      "Monitored metric val_loss did not improve in the last 15 records. Best score: 0.024. Signaling Trainer to stop.\n",
      "GPU available: True (cuda), used: True\n",
      "TPU available: False, using: 0 TPU cores\n",
      "HPU available: False, using: 0 HPUs\n",
      "LOCAL_RANK: 0 - CUDA_VISIBLE_DEVICES: [0]\n"
     ]
    },
    {
     "name": "stdout",
     "output_type": "stream",
     "text": [
      "Model loaded from checkpoint for trial 20\n"
     ]
    },
    {
     "name": "stderr",
     "output_type": "stream",
     "text": [
      "/home/eduardo/Documentos/Water-Cycle-Neural-Network/venv/lib/python3.12/site-packages/pytorch_lightning/trainer/connectors/data_connector.py:425: The 'predict_dataloader' does not have many workers which may be a bottleneck. Consider increasing the value of the `num_workers` argument` to `num_workers=11` in the `DataLoader` to improve performance.\n",
      "[I 2025-05-25 19:42:57,400] Trial 20 finished with value: 0.1567708172696124 and parameters: {'input_chunk_length': 37, 'output_chunk_length': 17, 'hidden_size': 132, 'layer_size': 2, 'dropout': 0.3744235620551301, 'batch_size': 148, 'lr': 0.0009005818904931906, 'weight_decay': 1.075747240219602e-06, 'loss_fn': 'huber', 'optimizer': 'AdamW'}. Best is trial 15 with value: 0.14711962189950123.\n",
      "Specified future encoders in `add_encoders` at model creation but model does not accept future covariates. future encoders will be ignored.\n",
      "GPU available: True (cuda), used: True\n",
      "TPU available: False, using: 0 TPU cores\n",
      "HPU available: False, using: 0 HPUs\n",
      "LOCAL_RANK: 0 - CUDA_VISIBLE_DEVICES: [0]\n"
     ]
    },
    {
     "name": "stdout",
     "output_type": "stream",
     "text": [
      "Starting time series verification for consistency...\n",
      "\n",
      "Performance metrics:\n",
      "                                     MSE        RMSE         MAE           R2  \\\n",
      "Temperature                    12.956222    3.599475    2.864621     0.574223   \n",
      "Precipitation_accumulated   10764.814262  103.753623   69.158493 -3258.155258   \n",
      "Humidity                      108.927099   10.436815    8.511742     0.256808   \n",
      "Wind_Speed_kmh                  1.474707    1.214375    0.959436    -0.097244   \n",
      "Soil_Moisture              166577.863736  408.139515  323.066739    -2.203936   \n",
      "Soil_Temperature               40.352884    6.352392    5.533440    -1.513079   \n",
      "Wind_Dir_Sin                    0.614110    0.783652    0.720822    -0.113630   \n",
      "Wind_Dir_Cos                    0.379873    0.616338    0.516249    -0.035599   \n",
      "\n",
      "                                SMAPE  \n",
      "Temperature                 41.870256  \n",
      "Precipitation_accumulated   18.088398  \n",
      "Humidity                    10.038899  \n",
      "Wind_Speed_kmh              77.346261  \n",
      "Soil_Moisture                3.856369  \n",
      "Soil_Temperature           120.827970  \n",
      "Wind_Dir_Sin               173.943793  \n",
      "Wind_Dir_Cos               120.335013  \n",
      "The MAE for this fold was 0.1567708172696124\n",
      "Results of trial 20 saved in optuna_iteration_metrics/trial_20.json\n",
      "Current value: 0.1567708172696124, Current params: {'input_chunk_length': 37, 'output_chunk_length': 17, 'hidden_size': 132, 'layer_size': 2, 'dropout': 0.3744235620551301, 'batch_size': 148, 'lr': 0.0009005818904931906, 'weight_decay': 1.075747240219602e-06, 'loss_fn': 'huber', 'optimizer': 'AdamW'}\n",
      "Best value: 0.14711962189950123, Best params: {'input_chunk_length': 35, 'output_chunk_length': 12, 'hidden_size': 155, 'layer_size': 2, 'dropout': 0.3978593037284437, 'batch_size': 116, 'lr': 0.004990955350038824, 'weight_decay': 3.231310092205005e-05, 'loss_fn': 'huber', 'optimizer': 'Adam'}\n",
      "\n",
      "Starting Trial 21\n",
      "Hyperparameters: {'input_chunk_length': 36, 'output_chunk_length': 18, 'hidden_size': 129, 'layer_size': 2, 'dropout': 0.3711562726577638, 'batch_size': 143, 'lr': 0.0009652609379424096, 'weight_decay': 1.3866536022183376e-06, 'loss_fn': 'huber', 'optimizer': 'AdamW'}\n",
      "\n",
      "Training the model...\n",
      "Train set: 6647 samples\n",
      "Validation set: 1662 samples\n"
     ]
    },
    {
     "name": "stderr",
     "output_type": "stream",
     "text": [
      "Metric val_loss improved. New best score: 0.055\n",
      "[I 2025-05-25 19:43:03,186] Trial 21 pruned. Trial was pruned at epoch 2.\n",
      "Specified future encoders in `add_encoders` at model creation but model does not accept future covariates. future encoders will be ignored.\n",
      "GPU available: True (cuda), used: True\n",
      "TPU available: False, using: 0 TPU cores\n",
      "HPU available: False, using: 0 HPUs\n",
      "LOCAL_RANK: 0 - CUDA_VISIBLE_DEVICES: [0]\n"
     ]
    },
    {
     "name": "stdout",
     "output_type": "stream",
     "text": [
      "Current value: 0.05371191091343029, Current params: {'input_chunk_length': 36, 'output_chunk_length': 18, 'hidden_size': 129, 'layer_size': 2, 'dropout': 0.3711562726577638, 'batch_size': 143, 'lr': 0.0009652609379424096, 'weight_decay': 1.3866536022183376e-06, 'loss_fn': 'huber', 'optimizer': 'AdamW'}\n",
      "Best value: 0.14711962189950123, Best params: {'input_chunk_length': 35, 'output_chunk_length': 12, 'hidden_size': 155, 'layer_size': 2, 'dropout': 0.3978593037284437, 'batch_size': 116, 'lr': 0.004990955350038824, 'weight_decay': 3.231310092205005e-05, 'loss_fn': 'huber', 'optimizer': 'Adam'}\n",
      "\n",
      "Starting Trial 22\n",
      "Hyperparameters: {'input_chunk_length': 28, 'output_chunk_length': 16, 'hidden_size': 146, 'layer_size': 2, 'dropout': 0.4311751699244772, 'batch_size': 149, 'lr': 0.004784261050473258, 'weight_decay': 1.1427123609913293e-06, 'loss_fn': 'huber', 'optimizer': 'AdamW'}\n",
      "\n",
      "Training the model...\n",
      "Train set: 6647 samples\n",
      "Validation set: 1662 samples\n"
     ]
    },
    {
     "name": "stderr",
     "output_type": "stream",
     "text": [
      "Metric val_loss improved. New best score: 0.048\n",
      "Metric val_loss improved by 0.003 >= min_delta = 0.0005. New best score: 0.045\n",
      "Metric val_loss improved by 0.012 >= min_delta = 0.0005. New best score: 0.033\n",
      "Metric val_loss improved by 0.004 >= min_delta = 0.0005. New best score: 0.029\n",
      "Monitored metric val_loss did not improve in the last 15 records. Best score: 0.029. Signaling Trainer to stop.\n",
      "GPU available: True (cuda), used: True\n",
      "TPU available: False, using: 0 TPU cores\n",
      "HPU available: False, using: 0 HPUs\n",
      "LOCAL_RANK: 0 - CUDA_VISIBLE_DEVICES: [0]\n"
     ]
    },
    {
     "name": "stdout",
     "output_type": "stream",
     "text": [
      "Model loaded from checkpoint for trial 22\n"
     ]
    },
    {
     "name": "stderr",
     "output_type": "stream",
     "text": [
      "/home/eduardo/Documentos/Water-Cycle-Neural-Network/venv/lib/python3.12/site-packages/pytorch_lightning/trainer/connectors/data_connector.py:425: The 'predict_dataloader' does not have many workers which may be a bottleneck. Consider increasing the value of the `num_workers` argument` to `num_workers=11` in the `DataLoader` to improve performance.\n",
      "[I 2025-05-25 19:43:35,659] Trial 22 finished with value: 0.16803520998928623 and parameters: {'input_chunk_length': 28, 'output_chunk_length': 16, 'hidden_size': 146, 'layer_size': 2, 'dropout': 0.4311751699244772, 'batch_size': 149, 'lr': 0.004784261050473258, 'weight_decay': 1.1427123609913293e-06, 'loss_fn': 'huber', 'optimizer': 'AdamW'}. Best is trial 15 with value: 0.14711962189950123.\n",
      "Specified future encoders in `add_encoders` at model creation but model does not accept future covariates. future encoders will be ignored.\n",
      "GPU available: True (cuda), used: True\n",
      "TPU available: False, using: 0 TPU cores\n",
      "HPU available: False, using: 0 HPUs\n",
      "LOCAL_RANK: 0 - CUDA_VISIBLE_DEVICES: [0]\n"
     ]
    },
    {
     "name": "stdout",
     "output_type": "stream",
     "text": [
      "Starting time series verification for consistency...\n",
      "\n",
      "Performance metrics:\n",
      "                                     MSE        RMSE         MAE           R2  \\\n",
      "Temperature                    24.517251    4.951490    3.863457     0.197453   \n",
      "Precipitation_accumulated   25766.789655  160.520371  106.872485 -7672.886995   \n",
      "Humidity                      119.376432   10.925952    8.518931     0.186229   \n",
      "Wind_Speed_kmh                  1.441614    1.200672    0.950960    -0.069662   \n",
      "Soil_Moisture              290013.417132  538.528938  416.096825    -4.372486   \n",
      "Soil_Temperature                7.474720    2.733994    2.139148     0.536531   \n",
      "Wind_Dir_Sin                    0.629373    0.793331    0.724590    -0.139983   \n",
      "Wind_Dir_Cos                    0.515242    0.717804    0.574431    -0.406558   \n",
      "\n",
      "                                SMAPE  \n",
      "Temperature                 52.751070  \n",
      "Precipitation_accumulated   31.971181  \n",
      "Humidity                    10.048855  \n",
      "Wind_Speed_kmh              77.353972  \n",
      "Soil_Moisture                5.025754  \n",
      "Soil_Temperature            34.450276  \n",
      "Wind_Dir_Sin               170.784991  \n",
      "Wind_Dir_Cos               108.704765  \n",
      "The MAE for this fold was 0.16803520998928623\n",
      "Results of trial 22 saved in optuna_iteration_metrics/trial_22.json\n",
      "Current value: 0.16803520998928623, Current params: {'input_chunk_length': 28, 'output_chunk_length': 16, 'hidden_size': 146, 'layer_size': 2, 'dropout': 0.4311751699244772, 'batch_size': 149, 'lr': 0.004784261050473258, 'weight_decay': 1.1427123609913293e-06, 'loss_fn': 'huber', 'optimizer': 'AdamW'}\n",
      "Best value: 0.14711962189950123, Best params: {'input_chunk_length': 35, 'output_chunk_length': 12, 'hidden_size': 155, 'layer_size': 2, 'dropout': 0.3978593037284437, 'batch_size': 116, 'lr': 0.004990955350038824, 'weight_decay': 3.231310092205005e-05, 'loss_fn': 'huber', 'optimizer': 'Adam'}\n",
      "\n",
      "Starting Trial 23\n",
      "Hyperparameters: {'input_chunk_length': 47, 'output_chunk_length': 20, 'hidden_size': 184, 'layer_size': 2, 'dropout': 0.29631945980806346, 'batch_size': 177, 'lr': 0.0019708457825320163, 'weight_decay': 4.281515502454999e-06, 'loss_fn': 'huber', 'optimizer': 'AdamW'}\n",
      "\n",
      "Training the model...\n",
      "Train set: 6647 samples\n",
      "Validation set: 1662 samples\n"
     ]
    },
    {
     "name": "stderr",
     "output_type": "stream",
     "text": [
      "Metric val_loss improved. New best score: 0.045\n",
      "Metric val_loss improved by 0.004 >= min_delta = 0.0005. New best score: 0.041\n",
      "Metric val_loss improved by 0.015 >= min_delta = 0.0005. New best score: 0.027\n",
      "Metric val_loss improved by 0.001 >= min_delta = 0.0005. New best score: 0.026\n",
      "Metric val_loss improved by 0.001 >= min_delta = 0.0005. New best score: 0.025\n",
      "Metric val_loss improved by 0.003 >= min_delta = 0.0005. New best score: 0.022\n",
      "Monitored metric val_loss did not improve in the last 15 records. Best score: 0.022. Signaling Trainer to stop.\n",
      "GPU available: True (cuda), used: True\n",
      "TPU available: False, using: 0 TPU cores\n",
      "HPU available: False, using: 0 HPUs\n",
      "LOCAL_RANK: 0 - CUDA_VISIBLE_DEVICES: [0]\n"
     ]
    },
    {
     "name": "stdout",
     "output_type": "stream",
     "text": [
      "Model loaded from checkpoint for trial 23\n"
     ]
    },
    {
     "name": "stderr",
     "output_type": "stream",
     "text": [
      "/home/eduardo/Documentos/Water-Cycle-Neural-Network/venv/lib/python3.12/site-packages/pytorch_lightning/trainer/connectors/data_connector.py:425: The 'predict_dataloader' does not have many workers which may be a bottleneck. Consider increasing the value of the `num_workers` argument` to `num_workers=11` in the `DataLoader` to improve performance.\n",
      "[I 2025-05-25 19:45:30,669] Trial 23 finished with value: 0.1554949930845772 and parameters: {'input_chunk_length': 47, 'output_chunk_length': 20, 'hidden_size': 184, 'layer_size': 2, 'dropout': 0.29631945980806346, 'batch_size': 177, 'lr': 0.0019708457825320163, 'weight_decay': 4.281515502454999e-06, 'loss_fn': 'huber', 'optimizer': 'AdamW'}. Best is trial 15 with value: 0.14711962189950123.\n",
      "Specified future encoders in `add_encoders` at model creation but model does not accept future covariates. future encoders will be ignored.\n",
      "GPU available: True (cuda), used: True\n",
      "TPU available: False, using: 0 TPU cores\n",
      "HPU available: False, using: 0 HPUs\n",
      "LOCAL_RANK: 0 - CUDA_VISIBLE_DEVICES: [0]\n"
     ]
    },
    {
     "name": "stdout",
     "output_type": "stream",
     "text": [
      "Starting time series verification for consistency...\n",
      "\n",
      "Performance metrics:\n",
      "                                     MSE        RMSE         MAE           R2  \\\n",
      "Temperature                    17.270030    4.155723    3.257019     0.434701   \n",
      "Precipitation_accumulated    4238.903418   65.106862   49.896807 -1311.646273   \n",
      "Humidity                      136.672851   11.690716    9.577302     0.070749   \n",
      "Wind_Speed_kmh                  1.327961    1.152372    0.897643     0.014382   \n",
      "Soil_Moisture              367648.724321  606.340436  479.531767    -6.552953   \n",
      "Soil_Temperature               36.738286    6.061212    5.263589    -1.288225   \n",
      "Wind_Dir_Sin                    0.589074    0.767512    0.691930    -0.077256   \n",
      "Wind_Dir_Cos                    0.376970    0.613978    0.520435    -0.022132   \n",
      "\n",
      "                                SMAPE  \n",
      "Temperature                 47.421445  \n",
      "Precipitation_accumulated   11.739454  \n",
      "Humidity                    11.273819  \n",
      "Wind_Speed_kmh              74.476256  \n",
      "Soil_Moisture                5.868227  \n",
      "Soil_Temperature           113.119858  \n",
      "Wind_Dir_Sin               157.136915  \n",
      "Wind_Dir_Cos               128.964194  \n",
      "The MAE for this fold was 0.1554949930845772\n",
      "Results of trial 23 saved in optuna_iteration_metrics/trial_23.json\n",
      "Current value: 0.1554949930845772, Current params: {'input_chunk_length': 47, 'output_chunk_length': 20, 'hidden_size': 184, 'layer_size': 2, 'dropout': 0.29631945980806346, 'batch_size': 177, 'lr': 0.0019708457825320163, 'weight_decay': 4.281515502454999e-06, 'loss_fn': 'huber', 'optimizer': 'AdamW'}\n",
      "Best value: 0.14711962189950123, Best params: {'input_chunk_length': 35, 'output_chunk_length': 12, 'hidden_size': 155, 'layer_size': 2, 'dropout': 0.3978593037284437, 'batch_size': 116, 'lr': 0.004990955350038824, 'weight_decay': 3.231310092205005e-05, 'loss_fn': 'huber', 'optimizer': 'Adam'}\n",
      "\n",
      "Starting Trial 24\n",
      "Hyperparameters: {'input_chunk_length': 63, 'output_chunk_length': 21, 'hidden_size': 209, 'layer_size': 2, 'dropout': 0.28231992758318647, 'batch_size': 221, 'lr': 0.0015415021845295333, 'weight_decay': 6.052947868163831e-06, 'loss_fn': 'huber', 'optimizer': 'AdamW'}\n",
      "\n",
      "Training the model...\n",
      "Train set: 6647 samples\n",
      "Validation set: 1662 samples\n"
     ]
    },
    {
     "name": "stderr",
     "output_type": "stream",
     "text": [
      "Metric val_loss improved. New best score: 0.050\n",
      "Metric val_loss improved by 0.004 >= min_delta = 0.0005. New best score: 0.047\n",
      "Metric val_loss improved by 0.017 >= min_delta = 0.0005. New best score: 0.029\n",
      "Metric val_loss improved by 0.002 >= min_delta = 0.0005. New best score: 0.027\n",
      "Monitored metric val_loss did not improve in the last 15 records. Best score: 0.027. Signaling Trainer to stop.\n",
      "GPU available: True (cuda), used: True\n",
      "TPU available: False, using: 0 TPU cores\n",
      "HPU available: False, using: 0 HPUs\n",
      "LOCAL_RANK: 0 - CUDA_VISIBLE_DEVICES: [0]\n"
     ]
    },
    {
     "name": "stdout",
     "output_type": "stream",
     "text": [
      "Model loaded from checkpoint for trial 24\n"
     ]
    },
    {
     "name": "stderr",
     "output_type": "stream",
     "text": [
      "/home/eduardo/Documentos/Water-Cycle-Neural-Network/venv/lib/python3.12/site-packages/pytorch_lightning/trainer/connectors/data_connector.py:425: The 'predict_dataloader' does not have many workers which may be a bottleneck. Consider increasing the value of the `num_workers` argument` to `num_workers=11` in the `DataLoader` to improve performance.\n",
      "[I 2025-05-25 19:46:44,485] Trial 24 finished with value: 0.1592917949862308 and parameters: {'input_chunk_length': 63, 'output_chunk_length': 21, 'hidden_size': 209, 'layer_size': 2, 'dropout': 0.28231992758318647, 'batch_size': 221, 'lr': 0.0015415021845295333, 'weight_decay': 6.052947868163831e-06, 'loss_fn': 'huber', 'optimizer': 'AdamW'}. Best is trial 15 with value: 0.14711962189950123.\n",
      "Specified future encoders in `add_encoders` at model creation but model does not accept future covariates. future encoders will be ignored.\n",
      "GPU available: True (cuda), used: True\n",
      "TPU available: False, using: 0 TPU cores\n",
      "HPU available: False, using: 0 HPUs\n",
      "LOCAL_RANK: 0 - CUDA_VISIBLE_DEVICES: [0]\n"
     ]
    },
    {
     "name": "stdout",
     "output_type": "stream",
     "text": [
      "Starting time series verification for consistency...\n",
      "\n",
      "Performance metrics:\n",
      "                                     MSE        RMSE         MAE           R2  \\\n",
      "Temperature                    22.096090    4.700648    3.675913     0.270826   \n",
      "Precipitation_accumulated   17820.636080  133.493955  107.172326 -5695.053689   \n",
      "Humidity                      119.637472   10.937892    9.280178     0.187730   \n",
      "Wind_Speed_kmh                  1.381264    1.175272    0.937657    -0.021646   \n",
      "Soil_Moisture              172477.601764  415.304228  321.612418    -2.884059   \n",
      "Soil_Temperature               10.264177    3.203775    2.613291     0.352253   \n",
      "Wind_Dir_Sin                    0.602637    0.776297    0.654311    -0.099022   \n",
      "Wind_Dir_Cos                    0.395010    0.628499    0.521566    -0.074924   \n",
      "\n",
      "                                SMAPE  \n",
      "Temperature                 48.860159  \n",
      "Precipitation_accumulated   28.201337  \n",
      "Humidity                    10.970651  \n",
      "Wind_Speed_kmh              75.535581  \n",
      "Soil_Moisture                3.811314  \n",
      "Soil_Temperature            41.235656  \n",
      "Wind_Dir_Sin               120.937588  \n",
      "Wind_Dir_Cos               115.014612  \n",
      "The MAE for this fold was 0.1592917949862308\n",
      "Results of trial 24 saved in optuna_iteration_metrics/trial_24.json\n",
      "Current value: 0.1592917949862308, Current params: {'input_chunk_length': 63, 'output_chunk_length': 21, 'hidden_size': 209, 'layer_size': 2, 'dropout': 0.28231992758318647, 'batch_size': 221, 'lr': 0.0015415021845295333, 'weight_decay': 6.052947868163831e-06, 'loss_fn': 'huber', 'optimizer': 'AdamW'}\n",
      "Best value: 0.14711962189950123, Best params: {'input_chunk_length': 35, 'output_chunk_length': 12, 'hidden_size': 155, 'layer_size': 2, 'dropout': 0.3978593037284437, 'batch_size': 116, 'lr': 0.004990955350038824, 'weight_decay': 3.231310092205005e-05, 'loss_fn': 'huber', 'optimizer': 'Adam'}\n",
      "\n",
      "Starting Trial 25\n",
      "Hyperparameters: {'input_chunk_length': 49, 'output_chunk_length': 21, 'hidden_size': 187, 'layer_size': 2, 'dropout': 0.3122971523073942, 'batch_size': 178, 'lr': 0.0024243952161254645, 'weight_decay': 3.8390934010736995e-05, 'loss_fn': 'huber', 'optimizer': 'Adam'}\n",
      "\n",
      "Training the model...\n",
      "Train set: 6647 samples\n",
      "Validation set: 1662 samples\n"
     ]
    },
    {
     "name": "stderr",
     "output_type": "stream",
     "text": [
      "Metric val_loss improved. New best score: 0.049\n",
      "Metric val_loss improved by 0.013 >= min_delta = 0.0005. New best score: 0.036\n",
      "Metric val_loss improved by 0.003 >= min_delta = 0.0005. New best score: 0.033\n",
      "Metric val_loss improved by 0.002 >= min_delta = 0.0005. New best score: 0.032\n",
      "Metric val_loss improved by 0.001 >= min_delta = 0.0005. New best score: 0.031\n",
      "Metric val_loss improved by 0.002 >= min_delta = 0.0005. New best score: 0.028\n",
      "Monitored metric val_loss did not improve in the last 15 records. Best score: 0.028. Signaling Trainer to stop.\n",
      "GPU available: True (cuda), used: True\n",
      "TPU available: False, using: 0 TPU cores\n",
      "HPU available: False, using: 0 HPUs\n",
      "LOCAL_RANK: 0 - CUDA_VISIBLE_DEVICES: [0]\n"
     ]
    },
    {
     "name": "stdout",
     "output_type": "stream",
     "text": [
      "Model loaded from checkpoint for trial 25\n"
     ]
    },
    {
     "name": "stderr",
     "output_type": "stream",
     "text": [
      "/home/eduardo/Documentos/Water-Cycle-Neural-Network/venv/lib/python3.12/site-packages/pytorch_lightning/trainer/connectors/data_connector.py:425: The 'predict_dataloader' does not have many workers which may be a bottleneck. Consider increasing the value of the `num_workers` argument` to `num_workers=11` in the `DataLoader` to improve performance.\n",
      "[I 2025-05-25 19:47:45,723] Trial 25 finished with value: 0.16693544668399973 and parameters: {'input_chunk_length': 49, 'output_chunk_length': 21, 'hidden_size': 187, 'layer_size': 2, 'dropout': 0.3122971523073942, 'batch_size': 178, 'lr': 0.0024243952161254645, 'weight_decay': 3.8390934010736995e-05, 'loss_fn': 'huber', 'optimizer': 'Adam'}. Best is trial 15 with value: 0.14711962189950123.\n",
      "Specified future encoders in `add_encoders` at model creation but model does not accept future covariates. future encoders will be ignored.\n",
      "/home/eduardo/Documentos/Water-Cycle-Neural-Network/venv/lib/python3.12/site-packages/torch/nn/modules/rnn.py:123: UserWarning: dropout option adds dropout after all but last recurrent layer, so non-zero dropout expects num_layers greater than 1, but got dropout=0.19740438815681485 and num_layers=1\n",
      "  warnings.warn(\n",
      "GPU available: True (cuda), used: True\n",
      "TPU available: False, using: 0 TPU cores\n",
      "HPU available: False, using: 0 HPUs\n",
      "LOCAL_RANK: 0 - CUDA_VISIBLE_DEVICES: [0]\n"
     ]
    },
    {
     "name": "stdout",
     "output_type": "stream",
     "text": [
      "Starting time series verification for consistency...\n",
      "\n",
      "Performance metrics:\n",
      "                                    MSE        RMSE         MAE           R2  \\\n",
      "Temperature                   25.550717    5.054772    4.021014     0.162627   \n",
      "Precipitation_accumulated  24469.386401  156.426936  106.762147 -7617.407452   \n",
      "Humidity                      99.776631    9.988825    8.117617     0.321641   \n",
      "Wind_Speed_kmh                 1.543162    1.242241    0.978873    -0.143920   \n",
      "Soil_Moisture              88017.582122  296.677573  233.930289    -0.833064   \n",
      "Soil_Temperature              29.047713    5.389593    4.673192    -0.811783   \n",
      "Wind_Dir_Sin                   0.618140    0.786219    0.725753    -0.129556   \n",
      "Wind_Dir_Cos                   0.417910    0.646460    0.528644    -0.133819   \n",
      "\n",
      "                                SMAPE  \n",
      "Temperature                 56.356055  \n",
      "Precipitation_accumulated   31.332317  \n",
      "Humidity                     9.641218  \n",
      "Wind_Speed_kmh              78.996447  \n",
      "Soil_Moisture                2.749480  \n",
      "Soil_Temperature            95.595045  \n",
      "Wind_Dir_Sin               177.937696  \n",
      "Wind_Dir_Cos               112.180579  \n",
      "The MAE for this fold was 0.16693544668399973\n",
      "Results of trial 25 saved in optuna_iteration_metrics/trial_25.json\n",
      "Current value: 0.16693544668399973, Current params: {'input_chunk_length': 49, 'output_chunk_length': 21, 'hidden_size': 187, 'layer_size': 2, 'dropout': 0.3122971523073942, 'batch_size': 178, 'lr': 0.0024243952161254645, 'weight_decay': 3.8390934010736995e-05, 'loss_fn': 'huber', 'optimizer': 'Adam'}\n",
      "Best value: 0.14711962189950123, Best params: {'input_chunk_length': 35, 'output_chunk_length': 12, 'hidden_size': 155, 'layer_size': 2, 'dropout': 0.3978593037284437, 'batch_size': 116, 'lr': 0.004990955350038824, 'weight_decay': 3.231310092205005e-05, 'loss_fn': 'huber', 'optimizer': 'Adam'}\n",
      "\n",
      "Starting Trial 26\n",
      "Hyperparameters: {'input_chunk_length': 60, 'output_chunk_length': 12, 'hidden_size': 173, 'layer_size': 1, 'dropout': 0.19740438815681485, 'batch_size': 175, 'lr': 0.0005869608412238964, 'weight_decay': 5.551016212420851e-06, 'loss_fn': 'smoothl1', 'optimizer': 'Adam'}\n",
      "\n",
      "Training the model...\n",
      "Train set: 6647 samples\n",
      "Validation set: 1662 samples\n"
     ]
    },
    {
     "name": "stderr",
     "output_type": "stream",
     "text": [
      "Metric val_loss improved. New best score: 0.050\n",
      "Metric val_loss improved by 0.001 >= min_delta = 0.0005. New best score: 0.049\n",
      "Metric val_loss improved by 0.002 >= min_delta = 0.0005. New best score: 0.047\n",
      "Metric val_loss improved by 0.003 >= min_delta = 0.0005. New best score: 0.044\n",
      "Metric val_loss improved by 0.009 >= min_delta = 0.0005. New best score: 0.034\n",
      "Metric val_loss improved by 0.005 >= min_delta = 0.0005. New best score: 0.029\n",
      "Metric val_loss improved by 0.001 >= min_delta = 0.0005. New best score: 0.028\n",
      "Metric val_loss improved by 0.002 >= min_delta = 0.0005. New best score: 0.027\n",
      "Metric val_loss improved by 0.002 >= min_delta = 0.0005. New best score: 0.025\n",
      "Metric val_loss improved by 0.001 >= min_delta = 0.0005. New best score: 0.023\n",
      "Metric val_loss improved by 0.001 >= min_delta = 0.0005. New best score: 0.023\n",
      "Metric val_loss improved by 0.001 >= min_delta = 0.0005. New best score: 0.022\n",
      "Metric val_loss improved by 0.001 >= min_delta = 0.0005. New best score: 0.021\n",
      "Metric val_loss improved by 0.001 >= min_delta = 0.0005. New best score: 0.021\n",
      "`Trainer.fit` stopped: `max_epochs=30` reached.\n",
      "/home/eduardo/Documentos/Water-Cycle-Neural-Network/venv/lib/python3.12/site-packages/torch/nn/modules/rnn.py:123: UserWarning: dropout option adds dropout after all but last recurrent layer, so non-zero dropout expects num_layers greater than 1, but got dropout=0.19740438815681485 and num_layers=1\n",
      "  warnings.warn(\n",
      "GPU available: True (cuda), used: True\n",
      "TPU available: False, using: 0 TPU cores\n",
      "HPU available: False, using: 0 HPUs\n",
      "LOCAL_RANK: 0 - CUDA_VISIBLE_DEVICES: [0]\n",
      "/home/eduardo/Documentos/Water-Cycle-Neural-Network/venv/lib/python3.12/site-packages/pytorch_lightning/trainer/connectors/data_connector.py:425: The 'predict_dataloader' does not have many workers which may be a bottleneck. Consider increasing the value of the `num_workers` argument` to `num_workers=11` in the `DataLoader` to improve performance.\n"
     ]
    },
    {
     "name": "stdout",
     "output_type": "stream",
     "text": [
      "Model loaded from checkpoint for trial 26\n"
     ]
    },
    {
     "name": "stderr",
     "output_type": "stream",
     "text": [
      "[I 2025-05-25 19:48:33,774] Trial 26 finished with value: 0.14852933653850126 and parameters: {'input_chunk_length': 60, 'output_chunk_length': 12, 'hidden_size': 173, 'layer_size': 1, 'dropout': 0.19740438815681485, 'batch_size': 175, 'lr': 0.0005869608412238964, 'weight_decay': 5.551016212420851e-06, 'loss_fn': 'smoothl1', 'optimizer': 'Adam'}. Best is trial 15 with value: 0.14711962189950123.\n",
      "Specified future encoders in `add_encoders` at model creation but model does not accept future covariates. future encoders will be ignored.\n",
      "/home/eduardo/Documentos/Water-Cycle-Neural-Network/venv/lib/python3.12/site-packages/torch/nn/modules/rnn.py:123: UserWarning: dropout option adds dropout after all but last recurrent layer, so non-zero dropout expects num_layers greater than 1, but got dropout=0.18311146930988745 and num_layers=1\n",
      "  warnings.warn(\n",
      "GPU available: True (cuda), used: True\n",
      "TPU available: False, using: 0 TPU cores\n",
      "HPU available: False, using: 0 HPUs\n",
      "LOCAL_RANK: 0 - CUDA_VISIBLE_DEVICES: [0]\n"
     ]
    },
    {
     "name": "stdout",
     "output_type": "stream",
     "text": [
      "Starting time series verification for consistency...\n",
      "\n",
      "Performance metrics:\n",
      "                                    MSE        RMSE         MAE           R2  \\\n",
      "Temperature                   10.170511    3.189124    2.604715     0.666187   \n",
      "Precipitation_accumulated   4657.816643   68.248199   54.302214 -1454.481986   \n",
      "Humidity                     113.931679   10.673878    8.758261     0.225247   \n",
      "Wind_Speed_kmh                 1.774473    1.332093    1.089257    -0.313792   \n",
      "Soil_Moisture              71974.148513  268.279982  222.260325    -0.512957   \n",
      "Soil_Temperature              20.552968    4.533538    3.849074    -0.283928   \n",
      "Wind_Dir_Sin                   0.634767    0.796723    0.727756    -0.159258   \n",
      "Wind_Dir_Cos                   0.397431    0.630421    0.527836    -0.079859   \n",
      "\n",
      "                                SMAPE  \n",
      "Temperature                 39.422603  \n",
      "Precipitation_accumulated   12.861982  \n",
      "Humidity                    10.363345  \n",
      "Wind_Speed_kmh              77.858975  \n",
      "Soil_Moisture                2.599458  \n",
      "Soil_Temperature            80.180292  \n",
      "Wind_Dir_Sin               169.280322  \n",
      "Wind_Dir_Cos               117.825359  \n",
      "The MAE for this fold was 0.14852933653850126\n",
      "Results of trial 26 saved in optuna_iteration_metrics/trial_26.json\n",
      "Current value: 0.14852933653850126, Current params: {'input_chunk_length': 60, 'output_chunk_length': 12, 'hidden_size': 173, 'layer_size': 1, 'dropout': 0.19740438815681485, 'batch_size': 175, 'lr': 0.0005869608412238964, 'weight_decay': 5.551016212420851e-06, 'loss_fn': 'smoothl1', 'optimizer': 'Adam'}\n",
      "Best value: 0.14711962189950123, Best params: {'input_chunk_length': 35, 'output_chunk_length': 12, 'hidden_size': 155, 'layer_size': 2, 'dropout': 0.3978593037284437, 'batch_size': 116, 'lr': 0.004990955350038824, 'weight_decay': 3.231310092205005e-05, 'loss_fn': 'huber', 'optimizer': 'Adam'}\n",
      "\n",
      "Starting Trial 27\n",
      "Hyperparameters: {'input_chunk_length': 62, 'output_chunk_length': 12, 'hidden_size': 159, 'layer_size': 1, 'dropout': 0.18311146930988745, 'batch_size': 110, 'lr': 0.000561489084794622, 'weight_decay': 0.00014826627925241102, 'loss_fn': 'smoothl1', 'optimizer': 'Adam'}\n",
      "\n",
      "Training the model...\n",
      "Train set: 6647 samples\n",
      "Validation set: 1662 samples\n"
     ]
    },
    {
     "name": "stderr",
     "output_type": "stream",
     "text": [
      "Metric val_loss improved. New best score: 0.048\n",
      "Metric val_loss improved by 0.006 >= min_delta = 0.0005. New best score: 0.041\n",
      "Metric val_loss improved by 0.004 >= min_delta = 0.0005. New best score: 0.037\n",
      "Metric val_loss improved by 0.011 >= min_delta = 0.0005. New best score: 0.026\n",
      "Metric val_loss improved by 0.004 >= min_delta = 0.0005. New best score: 0.022\n",
      "Metric val_loss improved by 0.001 >= min_delta = 0.0005. New best score: 0.021\n",
      "Metric val_loss improved by 0.001 >= min_delta = 0.0005. New best score: 0.020\n",
      "Metric val_loss improved by 0.001 >= min_delta = 0.0005. New best score: 0.019\n",
      "Monitored metric val_loss did not improve in the last 15 records. Best score: 0.019. Signaling Trainer to stop.\n",
      "/home/eduardo/Documentos/Water-Cycle-Neural-Network/venv/lib/python3.12/site-packages/torch/nn/modules/rnn.py:123: UserWarning: dropout option adds dropout after all but last recurrent layer, so non-zero dropout expects num_layers greater than 1, but got dropout=0.18311146930988745 and num_layers=1\n",
      "  warnings.warn(\n",
      "GPU available: True (cuda), used: True\n",
      "TPU available: False, using: 0 TPU cores\n",
      "HPU available: False, using: 0 HPUs\n",
      "LOCAL_RANK: 0 - CUDA_VISIBLE_DEVICES: [0]\n",
      "/home/eduardo/Documentos/Water-Cycle-Neural-Network/venv/lib/python3.12/site-packages/pytorch_lightning/trainer/connectors/data_connector.py:425: The 'predict_dataloader' does not have many workers which may be a bottleneck. Consider increasing the value of the `num_workers` argument` to `num_workers=11` in the `DataLoader` to improve performance.\n"
     ]
    },
    {
     "name": "stdout",
     "output_type": "stream",
     "text": [
      "Model loaded from checkpoint for trial 27\n"
     ]
    },
    {
     "name": "stderr",
     "output_type": "stream",
     "text": [
      "[I 2025-05-25 19:49:16,295] Trial 27 finished with value: 0.1343739263857888 and parameters: {'input_chunk_length': 62, 'output_chunk_length': 12, 'hidden_size': 159, 'layer_size': 1, 'dropout': 0.18311146930988745, 'batch_size': 110, 'lr': 0.000561489084794622, 'weight_decay': 0.00014826627925241102, 'loss_fn': 'smoothl1', 'optimizer': 'Adam'}. Best is trial 27 with value: 0.1343739263857888.\n",
      "Specified future encoders in `add_encoders` at model creation but model does not accept future covariates. future encoders will be ignored.\n",
      "/home/eduardo/Documentos/Water-Cycle-Neural-Network/venv/lib/python3.12/site-packages/torch/nn/modules/rnn.py:123: UserWarning: dropout option adds dropout after all but last recurrent layer, so non-zero dropout expects num_layers greater than 1, but got dropout=0.17275247036891583 and num_layers=1\n",
      "  warnings.warn(\n",
      "GPU available: True (cuda), used: True\n",
      "TPU available: False, using: 0 TPU cores\n",
      "HPU available: False, using: 0 HPUs\n",
      "LOCAL_RANK: 0 - CUDA_VISIBLE_DEVICES: [0]\n"
     ]
    },
    {
     "name": "stdout",
     "output_type": "stream",
     "text": [
      "Starting time series verification for consistency...\n",
      "\n",
      "Performance metrics:\n",
      "                                    MSE        RMSE         MAE          R2  \\\n",
      "Temperature                   10.822443    3.289748    2.595409    0.644051   \n",
      "Precipitation_accumulated   1855.965424   43.080917   38.038296 -581.093643   \n",
      "Humidity                     117.057868   10.819328    8.784302    0.203836   \n",
      "Wind_Speed_kmh                 1.346112    1.160221    0.937837    0.004148   \n",
      "Soil_Moisture              52702.470465  229.570186  191.573788   -0.118899   \n",
      "Soil_Temperature              12.062573    3.473122    2.811054    0.244892   \n",
      "Wind_Dir_Sin                   0.582691    0.763342    0.680334   -0.063577   \n",
      "Wind_Dir_Cos                   0.378520    0.615240    0.514658   -0.029538   \n",
      "\n",
      "                                SMAPE  \n",
      "Temperature                 39.004752  \n",
      "Precipitation_accumulated    8.631293  \n",
      "Humidity                    10.409232  \n",
      "Wind_Speed_kmh              74.558531  \n",
      "Soil_Moisture                2.258503  \n",
      "Soil_Temperature            59.639041  \n",
      "Wind_Dir_Sin               148.186101  \n",
      "Wind_Dir_Cos               117.208018  \n",
      "The MAE for this fold was 0.1343739263857888\n",
      "Results of trial 27 saved in optuna_iteration_metrics/trial_27.json\n",
      "Current value: 0.1343739263857888, Current params: {'input_chunk_length': 62, 'output_chunk_length': 12, 'hidden_size': 159, 'layer_size': 1, 'dropout': 0.18311146930988745, 'batch_size': 110, 'lr': 0.000561489084794622, 'weight_decay': 0.00014826627925241102, 'loss_fn': 'smoothl1', 'optimizer': 'Adam'}\n",
      "Best value: 0.1343739263857888, Best params: {'input_chunk_length': 62, 'output_chunk_length': 12, 'hidden_size': 159, 'layer_size': 1, 'dropout': 0.18311146930988745, 'batch_size': 110, 'lr': 0.000561489084794622, 'weight_decay': 0.00014826627925241102, 'loss_fn': 'smoothl1', 'optimizer': 'Adam'}\n",
      "\n",
      "Starting Trial 28\n",
      "Hyperparameters: {'input_chunk_length': 63, 'output_chunk_length': 9, 'hidden_size': 214, 'layer_size': 1, 'dropout': 0.17275247036891583, 'batch_size': 113, 'lr': 0.000587883290197764, 'weight_decay': 2.8628399981245086e-05, 'loss_fn': 'smoothl1', 'optimizer': 'Adam'}\n",
      "\n",
      "Training the model...\n",
      "Train set: 6647 samples\n",
      "Validation set: 1662 samples\n"
     ]
    },
    {
     "name": "stderr",
     "output_type": "stream",
     "text": [
      "Metric val_loss improved. New best score: 0.046\n",
      "Metric val_loss improved by 0.008 >= min_delta = 0.0005. New best score: 0.038\n",
      "Metric val_loss improved by 0.003 >= min_delta = 0.0005. New best score: 0.036\n",
      "Metric val_loss improved by 0.007 >= min_delta = 0.0005. New best score: 0.029\n",
      "Metric val_loss improved by 0.003 >= min_delta = 0.0005. New best score: 0.026\n",
      "Metric val_loss improved by 0.003 >= min_delta = 0.0005. New best score: 0.023\n",
      "Metric val_loss improved by 0.002 >= min_delta = 0.0005. New best score: 0.021\n",
      "Metric val_loss improved by 0.001 >= min_delta = 0.0005. New best score: 0.021\n",
      "Metric val_loss improved by 0.001 >= min_delta = 0.0005. New best score: 0.020\n",
      "Monitored metric val_loss did not improve in the last 15 records. Best score: 0.020. Signaling Trainer to stop.\n",
      "/home/eduardo/Documentos/Water-Cycle-Neural-Network/venv/lib/python3.12/site-packages/torch/nn/modules/rnn.py:123: UserWarning: dropout option adds dropout after all but last recurrent layer, so non-zero dropout expects num_layers greater than 1, but got dropout=0.17275247036891583 and num_layers=1\n",
      "  warnings.warn(\n",
      "GPU available: True (cuda), used: True\n",
      "TPU available: False, using: 0 TPU cores\n",
      "HPU available: False, using: 0 HPUs\n",
      "LOCAL_RANK: 0 - CUDA_VISIBLE_DEVICES: [0]\n",
      "/home/eduardo/Documentos/Water-Cycle-Neural-Network/venv/lib/python3.12/site-packages/pytorch_lightning/trainer/connectors/data_connector.py:425: The 'predict_dataloader' does not have many workers which may be a bottleneck. Consider increasing the value of the `num_workers` argument` to `num_workers=11` in the `DataLoader` to improve performance.\n"
     ]
    },
    {
     "name": "stdout",
     "output_type": "stream",
     "text": [
      "Model loaded from checkpoint for trial 28\n"
     ]
    },
    {
     "name": "stderr",
     "output_type": "stream",
     "text": [
      "[I 2025-05-25 19:50:09,890] Trial 28 finished with value: 0.14045167413333415 and parameters: {'input_chunk_length': 63, 'output_chunk_length': 9, 'hidden_size': 214, 'layer_size': 1, 'dropout': 0.17275247036891583, 'batch_size': 113, 'lr': 0.000587883290197764, 'weight_decay': 2.8628399981245086e-05, 'loss_fn': 'smoothl1', 'optimizer': 'Adam'}. Best is trial 27 with value: 0.1343739263857888.\n",
      "Specified future encoders in `add_encoders` at model creation but model does not accept future covariates. future encoders will be ignored.\n",
      "/home/eduardo/Documentos/Water-Cycle-Neural-Network/venv/lib/python3.12/site-packages/torch/nn/modules/rnn.py:123: UserWarning: dropout option adds dropout after all but last recurrent layer, so non-zero dropout expects num_layers greater than 1, but got dropout=0.1607133315519486 and num_layers=1\n",
      "  warnings.warn(\n",
      "GPU available: True (cuda), used: True\n",
      "TPU available: False, using: 0 TPU cores\n",
      "HPU available: False, using: 0 HPUs\n",
      "LOCAL_RANK: 0 - CUDA_VISIBLE_DEVICES: [0]\n"
     ]
    },
    {
     "name": "stdout",
     "output_type": "stream",
     "text": [
      "Starting time series verification for consistency...\n",
      "\n",
      "Performance metrics:\n",
      "                                     MSE        RMSE         MAE          R2  \\\n",
      "Temperature                    14.353643    3.788620    2.962557    0.528890   \n",
      "Precipitation_accumulated    2732.249242   52.270922   43.882492 -852.777608   \n",
      "Humidity                      102.117548   10.105323    8.406993    0.305585   \n",
      "Wind_Speed_kmh                  1.275753    1.129492    0.915921    0.055452   \n",
      "Soil_Moisture              112694.396079  335.699860  268.447579   -1.368930   \n",
      "Soil_Temperature               22.407107    4.733615    3.876082   -0.399754   \n",
      "Wind_Dir_Sin                    0.582388    0.763144    0.669191   -0.063600   \n",
      "Wind_Dir_Cos                    0.371808    0.609760    0.516260   -0.010239   \n",
      "\n",
      "                                SMAPE  \n",
      "Temperature                 43.314049  \n",
      "Precipitation_accumulated   10.074038  \n",
      "Humidity                     9.952273  \n",
      "Wind_Speed_kmh              72.888772  \n",
      "Soil_Moisture                3.191384  \n",
      "Soil_Temperature            83.161078  \n",
      "Wind_Dir_Sin               138.608923  \n",
      "Wind_Dir_Cos               118.619450  \n",
      "The MAE for this fold was 0.14045167413333415\n",
      "Results of trial 28 saved in optuna_iteration_metrics/trial_28.json\n",
      "Current value: 0.14045167413333415, Current params: {'input_chunk_length': 63, 'output_chunk_length': 9, 'hidden_size': 214, 'layer_size': 1, 'dropout': 0.17275247036891583, 'batch_size': 113, 'lr': 0.000587883290197764, 'weight_decay': 2.8628399981245086e-05, 'loss_fn': 'smoothl1', 'optimizer': 'Adam'}\n",
      "Best value: 0.1343739263857888, Best params: {'input_chunk_length': 62, 'output_chunk_length': 12, 'hidden_size': 159, 'layer_size': 1, 'dropout': 0.18311146930988745, 'batch_size': 110, 'lr': 0.000561489084794622, 'weight_decay': 0.00014826627925241102, 'loss_fn': 'smoothl1', 'optimizer': 'Adam'}\n",
      "\n",
      "Starting Trial 29\n",
      "Hyperparameters: {'input_chunk_length': 66, 'output_chunk_length': 8, 'hidden_size': 249, 'layer_size': 1, 'dropout': 0.1607133315519486, 'batch_size': 110, 'lr': 0.0002023385319686495, 'weight_decay': 3.071302381197626e-05, 'loss_fn': 'smoothl1', 'optimizer': 'SGD'}\n",
      "\n",
      "Training the model...\n",
      "Train set: 6647 samples\n",
      "Validation set: 1662 samples\n"
     ]
    },
    {
     "name": "stderr",
     "output_type": "stream",
     "text": [
      "[I 2025-05-25 19:50:12,962] Trial 29 pruned. Trial was pruned at epoch 0.\n",
      "Specified future encoders in `add_encoders` at model creation but model does not accept future covariates. future encoders will be ignored.\n",
      "/home/eduardo/Documentos/Water-Cycle-Neural-Network/venv/lib/python3.12/site-packages/torch/nn/modules/rnn.py:123: UserWarning: dropout option adds dropout after all but last recurrent layer, so non-zero dropout expects num_layers greater than 1, but got dropout=0.10324735599579962 and num_layers=1\n",
      "  warnings.warn(\n",
      "GPU available: True (cuda), used: True\n",
      "TPU available: False, using: 0 TPU cores\n",
      "HPU available: False, using: 0 HPUs\n",
      "LOCAL_RANK: 0 - CUDA_VISIBLE_DEVICES: [0]\n"
     ]
    },
    {
     "name": "stdout",
     "output_type": "stream",
     "text": [
      "Current value: 0.19586654667521594, Current params: {'input_chunk_length': 66, 'output_chunk_length': 8, 'hidden_size': 249, 'layer_size': 1, 'dropout': 0.1607133315519486, 'batch_size': 110, 'lr': 0.0002023385319686495, 'weight_decay': 3.071302381197626e-05, 'loss_fn': 'smoothl1', 'optimizer': 'SGD'}\n",
      "Best value: 0.1343739263857888, Best params: {'input_chunk_length': 62, 'output_chunk_length': 12, 'hidden_size': 159, 'layer_size': 1, 'dropout': 0.18311146930988745, 'batch_size': 110, 'lr': 0.000561489084794622, 'weight_decay': 0.00014826627925241102, 'loss_fn': 'smoothl1', 'optimizer': 'Adam'}\n",
      "\n",
      "Starting Trial 30\n",
      "Hyperparameters: {'input_chunk_length': 67, 'output_chunk_length': 10, 'hidden_size': 212, 'layer_size': 1, 'dropout': 0.10324735599579962, 'batch_size': 95, 'lr': 0.0005717137039948098, 'weight_decay': 0.00012375402782618754, 'loss_fn': 'smoothl1', 'optimizer': 'Adam'}\n",
      "\n",
      "Training the model...\n",
      "Train set: 6647 samples\n",
      "Validation set: 1662 samples\n"
     ]
    },
    {
     "name": "stderr",
     "output_type": "stream",
     "text": [
      "Metric val_loss improved. New best score: 0.043\n",
      "Metric val_loss improved by 0.006 >= min_delta = 0.0005. New best score: 0.037\n",
      "Metric val_loss improved by 0.012 >= min_delta = 0.0005. New best score: 0.026\n",
      "Metric val_loss improved by 0.002 >= min_delta = 0.0005. New best score: 0.023\n",
      "Metric val_loss improved by 0.001 >= min_delta = 0.0005. New best score: 0.023\n",
      "Metric val_loss improved by 0.001 >= min_delta = 0.0005. New best score: 0.022\n",
      "Metric val_loss improved by 0.001 >= min_delta = 0.0005. New best score: 0.021\n",
      "Metric val_loss improved by 0.001 >= min_delta = 0.0005. New best score: 0.020\n",
      "Metric val_loss improved by 0.001 >= min_delta = 0.0005. New best score: 0.019\n",
      "Monitored metric val_loss did not improve in the last 15 records. Best score: 0.019. Signaling Trainer to stop.\n",
      "`Trainer.fit` stopped: `max_epochs=30` reached.\n",
      "/home/eduardo/Documentos/Water-Cycle-Neural-Network/venv/lib/python3.12/site-packages/torch/nn/modules/rnn.py:123: UserWarning: dropout option adds dropout after all but last recurrent layer, so non-zero dropout expects num_layers greater than 1, but got dropout=0.10324735599579962 and num_layers=1\n",
      "  warnings.warn(\n",
      "GPU available: True (cuda), used: True\n",
      "TPU available: False, using: 0 TPU cores\n",
      "HPU available: False, using: 0 HPUs\n",
      "LOCAL_RANK: 0 - CUDA_VISIBLE_DEVICES: [0]\n",
      "/home/eduardo/Documentos/Water-Cycle-Neural-Network/venv/lib/python3.12/site-packages/pytorch_lightning/trainer/connectors/data_connector.py:425: The 'predict_dataloader' does not have many workers which may be a bottleneck. Consider increasing the value of the `num_workers` argument` to `num_workers=11` in the `DataLoader` to improve performance.\n"
     ]
    },
    {
     "name": "stdout",
     "output_type": "stream",
     "text": [
      "Model loaded from checkpoint for trial 30\n"
     ]
    },
    {
     "name": "stderr",
     "output_type": "stream",
     "text": [
      "[I 2025-05-25 19:51:24,870] Trial 30 finished with value: 0.13372060011324843 and parameters: {'input_chunk_length': 67, 'output_chunk_length': 10, 'hidden_size': 212, 'layer_size': 1, 'dropout': 0.10324735599579962, 'batch_size': 95, 'lr': 0.0005717137039948098, 'weight_decay': 0.00012375402782618754, 'loss_fn': 'smoothl1', 'optimizer': 'Adam'}. Best is trial 30 with value: 0.13372060011324843.\n",
      "Specified future encoders in `add_encoders` at model creation but model does not accept future covariates. future encoders will be ignored.\n",
      "/home/eduardo/Documentos/Water-Cycle-Neural-Network/venv/lib/python3.12/site-packages/torch/nn/modules/rnn.py:123: UserWarning: dropout option adds dropout after all but last recurrent layer, so non-zero dropout expects num_layers greater than 1, but got dropout=0.1594972634996285 and num_layers=1\n",
      "  warnings.warn(\n",
      "GPU available: True (cuda), used: True\n",
      "TPU available: False, using: 0 TPU cores\n",
      "HPU available: False, using: 0 HPUs\n",
      "LOCAL_RANK: 0 - CUDA_VISIBLE_DEVICES: [0]\n"
     ]
    },
    {
     "name": "stdout",
     "output_type": "stream",
     "text": [
      "Starting time series verification for consistency...\n",
      "\n",
      "Performance metrics:\n",
      "                                    MSE        RMSE         MAE          R2  \\\n",
      "Temperature                   13.224740    3.636584    2.829388    0.563387   \n",
      "Precipitation_accumulated   1262.679650   35.534204   27.445122 -397.238182   \n",
      "Humidity                     160.884058   12.684008    9.972382   -0.094597   \n",
      "Wind_Speed_kmh                 1.379507    1.174524    0.945847   -0.020472   \n",
      "Soil_Moisture              55443.535650  235.464510  191.206831   -0.195731   \n",
      "Soil_Temperature              11.791395    3.433860    2.829171    0.259105   \n",
      "Wind_Dir_Sin                   0.567928    0.753610    0.673039   -0.036389   \n",
      "Wind_Dir_Cos                   0.357046    0.597533    0.514393    0.028664   \n",
      "\n",
      "                                SMAPE  \n",
      "Temperature                 40.439024  \n",
      "Precipitation_accumulated    6.187359  \n",
      "Humidity                    11.731204  \n",
      "Wind_Speed_kmh              75.094882  \n",
      "Soil_Moisture                2.212693  \n",
      "Soil_Temperature            49.301528  \n",
      "Wind_Dir_Sin               143.172786  \n",
      "Wind_Dir_Cos               127.014285  \n",
      "The MAE for this fold was 0.13372060011324843\n",
      "Results of trial 30 saved in optuna_iteration_metrics/trial_30.json\n",
      "Current value: 0.13372060011324843, Current params: {'input_chunk_length': 67, 'output_chunk_length': 10, 'hidden_size': 212, 'layer_size': 1, 'dropout': 0.10324735599579962, 'batch_size': 95, 'lr': 0.0005717137039948098, 'weight_decay': 0.00012375402782618754, 'loss_fn': 'smoothl1', 'optimizer': 'Adam'}\n",
      "Best value: 0.13372060011324843, Best params: {'input_chunk_length': 67, 'output_chunk_length': 10, 'hidden_size': 212, 'layer_size': 1, 'dropout': 0.10324735599579962, 'batch_size': 95, 'lr': 0.0005717137039948098, 'weight_decay': 0.00012375402782618754, 'loss_fn': 'smoothl1', 'optimizer': 'Adam'}\n",
      "\n",
      "Starting Trial 31\n",
      "Hyperparameters: {'input_chunk_length': 72, 'output_chunk_length': 11, 'hidden_size': 224, 'layer_size': 1, 'dropout': 0.1594972634996285, 'batch_size': 89, 'lr': 0.0005680713865347532, 'weight_decay': 0.0001133026574573795, 'loss_fn': 'smoothl1', 'optimizer': 'Adam'}\n",
      "\n",
      "Training the model...\n",
      "Train set: 6647 samples\n",
      "Validation set: 1662 samples\n"
     ]
    },
    {
     "name": "stderr",
     "output_type": "stream",
     "text": [
      "Metric val_loss improved. New best score: 0.045\n",
      "Metric val_loss improved by 0.005 >= min_delta = 0.0005. New best score: 0.040\n",
      "Metric val_loss improved by 0.013 >= min_delta = 0.0005. New best score: 0.027\n",
      "Metric val_loss improved by 0.001 >= min_delta = 0.0005. New best score: 0.026\n",
      "Metric val_loss improved by 0.001 >= min_delta = 0.0005. New best score: 0.025\n",
      "Metric val_loss improved by 0.004 >= min_delta = 0.0005. New best score: 0.021\n",
      "Metric val_loss improved by 0.002 >= min_delta = 0.0005. New best score: 0.019\n",
      "Monitored metric val_loss did not improve in the last 15 records. Best score: 0.019. Signaling Trainer to stop.\n",
      "/home/eduardo/Documentos/Water-Cycle-Neural-Network/venv/lib/python3.12/site-packages/torch/nn/modules/rnn.py:123: UserWarning: dropout option adds dropout after all but last recurrent layer, so non-zero dropout expects num_layers greater than 1, but got dropout=0.1594972634996285 and num_layers=1\n",
      "  warnings.warn(\n",
      "GPU available: True (cuda), used: True\n",
      "TPU available: False, using: 0 TPU cores\n",
      "HPU available: False, using: 0 HPUs\n",
      "LOCAL_RANK: 0 - CUDA_VISIBLE_DEVICES: [0]\n",
      "/home/eduardo/Documentos/Water-Cycle-Neural-Network/venv/lib/python3.12/site-packages/pytorch_lightning/trainer/connectors/data_connector.py:425: The 'predict_dataloader' does not have many workers which may be a bottleneck. Consider increasing the value of the `num_workers` argument` to `num_workers=11` in the `DataLoader` to improve performance.\n"
     ]
    },
    {
     "name": "stdout",
     "output_type": "stream",
     "text": [
      "Model loaded from checkpoint for trial 31\n"
     ]
    },
    {
     "name": "stderr",
     "output_type": "stream",
     "text": [
      "[I 2025-05-25 19:53:24,399] Trial 31 finished with value: 0.13542004249542802 and parameters: {'input_chunk_length': 72, 'output_chunk_length': 11, 'hidden_size': 224, 'layer_size': 1, 'dropout': 0.1594972634996285, 'batch_size': 89, 'lr': 0.0005680713865347532, 'weight_decay': 0.0001133026574573795, 'loss_fn': 'smoothl1', 'optimizer': 'Adam'}. Best is trial 30 with value: 0.13372060011324843.\n",
      "Specified future encoders in `add_encoders` at model creation but model does not accept future covariates. future encoders will be ignored.\n",
      "/home/eduardo/Documentos/Water-Cycle-Neural-Network/venv/lib/python3.12/site-packages/torch/nn/modules/rnn.py:123: UserWarning: dropout option adds dropout after all but last recurrent layer, so non-zero dropout expects num_layers greater than 1, but got dropout=0.10998909776274331 and num_layers=1\n",
      "  warnings.warn(\n",
      "GPU available: True (cuda), used: True\n",
      "TPU available: False, using: 0 TPU cores\n",
      "HPU available: False, using: 0 HPUs\n",
      "LOCAL_RANK: 0 - CUDA_VISIBLE_DEVICES: [0]\n"
     ]
    },
    {
     "name": "stdout",
     "output_type": "stream",
     "text": [
      "Starting time series verification for consistency...\n",
      "\n",
      "Performance metrics:\n",
      "                                    MSE        RMSE         MAE          R2  \\\n",
      "Temperature                   12.615401    3.551817    2.832757    0.583427   \n",
      "Precipitation_accumulated   3079.812257   55.496056   46.860459 -981.503806   \n",
      "Humidity                     109.562192   10.467196    8.705747    0.255709   \n",
      "Wind_Speed_kmh                 1.388324    1.178271    0.962282   -0.025989   \n",
      "Soil_Moisture              58097.757231  241.034764  183.950473   -0.299663   \n",
      "Soil_Temperature               7.097544    2.664122    2.172194    0.552045   \n",
      "Wind_Dir_Sin                   0.592657    0.769842    0.665107   -0.080828   \n",
      "Wind_Dir_Cos                   0.381950    0.618021    0.520439   -0.039411   \n",
      "\n",
      "                                SMAPE  \n",
      "Temperature                 40.536545  \n",
      "Precipitation_accumulated   10.844224  \n",
      "Humidity                    10.323745  \n",
      "Wind_Speed_kmh              74.636911  \n",
      "Soil_Moisture                2.174104  \n",
      "Soil_Temperature            35.777459  \n",
      "Wind_Dir_Sin               130.137328  \n",
      "Wind_Dir_Cos               117.584640  \n",
      "The MAE for this fold was 0.13542004249542802\n",
      "Results of trial 31 saved in optuna_iteration_metrics/trial_31.json\n",
      "Current value: 0.13542004249542802, Current params: {'input_chunk_length': 72, 'output_chunk_length': 11, 'hidden_size': 224, 'layer_size': 1, 'dropout': 0.1594972634996285, 'batch_size': 89, 'lr': 0.0005680713865347532, 'weight_decay': 0.0001133026574573795, 'loss_fn': 'smoothl1', 'optimizer': 'Adam'}\n",
      "Best value: 0.13372060011324843, Best params: {'input_chunk_length': 67, 'output_chunk_length': 10, 'hidden_size': 212, 'layer_size': 1, 'dropout': 0.10324735599579962, 'batch_size': 95, 'lr': 0.0005717137039948098, 'weight_decay': 0.00012375402782618754, 'loss_fn': 'smoothl1', 'optimizer': 'Adam'}\n",
      "\n",
      "Starting Trial 32\n",
      "Hyperparameters: {'input_chunk_length': 72, 'output_chunk_length': 10, 'hidden_size': 230, 'layer_size': 1, 'dropout': 0.10998909776274331, 'batch_size': 95, 'lr': 0.00016063185861406765, 'weight_decay': 0.0001149311924084686, 'loss_fn': 'smoothl1', 'optimizer': 'Adam'}\n",
      "\n",
      "Training the model...\n",
      "Train set: 6647 samples\n",
      "Validation set: 1662 samples\n"
     ]
    },
    {
     "name": "stderr",
     "output_type": "stream",
     "text": [
      "Metric val_loss improved. New best score: 0.048\n",
      "[I 2025-05-25 19:53:32,865] Trial 32 pruned. Trial was pruned at epoch 2.\n",
      "Specified future encoders in `add_encoders` at model creation but model does not accept future covariates. future encoders will be ignored.\n",
      "/home/eduardo/Documentos/Water-Cycle-Neural-Network/venv/lib/python3.12/site-packages/torch/nn/modules/rnn.py:123: UserWarning: dropout option adds dropout after all but last recurrent layer, so non-zero dropout expects num_layers greater than 1, but got dropout=0.16727096410153403 and num_layers=1\n",
      "  warnings.warn(\n",
      "GPU available: True (cuda), used: True\n",
      "TPU available: False, using: 0 TPU cores\n",
      "HPU available: False, using: 0 HPUs\n",
      "LOCAL_RANK: 0 - CUDA_VISIBLE_DEVICES: [0]\n"
     ]
    },
    {
     "name": "stdout",
     "output_type": "stream",
     "text": [
      "Current value: 0.052229350916407825, Current params: {'input_chunk_length': 72, 'output_chunk_length': 10, 'hidden_size': 230, 'layer_size': 1, 'dropout': 0.10998909776274331, 'batch_size': 95, 'lr': 0.00016063185861406765, 'weight_decay': 0.0001149311924084686, 'loss_fn': 'smoothl1', 'optimizer': 'Adam'}\n",
      "Best value: 0.13372060011324843, Best params: {'input_chunk_length': 67, 'output_chunk_length': 10, 'hidden_size': 212, 'layer_size': 1, 'dropout': 0.10324735599579962, 'batch_size': 95, 'lr': 0.0005717137039948098, 'weight_decay': 0.00012375402782618754, 'loss_fn': 'smoothl1', 'optimizer': 'Adam'}\n",
      "\n",
      "Starting Trial 33\n",
      "Hyperparameters: {'input_chunk_length': 67, 'output_chunk_length': 8, 'hidden_size': 211, 'layer_size': 1, 'dropout': 0.16727096410153403, 'batch_size': 85, 'lr': 0.00048174855642340756, 'weight_decay': 0.0006740576407863642, 'loss_fn': 'smoothl1', 'optimizer': 'Adam'}\n",
      "\n",
      "Training the model...\n",
      "Train set: 6647 samples\n",
      "Validation set: 1662 samples\n"
     ]
    },
    {
     "name": "stderr",
     "output_type": "stream",
     "text": [
      "Metric val_loss improved. New best score: 0.045\n",
      "Metric val_loss improved by 0.004 >= min_delta = 0.0005. New best score: 0.041\n",
      "Metric val_loss improved by 0.003 >= min_delta = 0.0005. New best score: 0.038\n",
      "Metric val_loss improved by 0.005 >= min_delta = 0.0005. New best score: 0.033\n",
      "Metric val_loss improved by 0.009 >= min_delta = 0.0005. New best score: 0.024\n",
      "Metric val_loss improved by 0.001 >= min_delta = 0.0005. New best score: 0.023\n",
      "Metric val_loss improved by 0.001 >= min_delta = 0.0005. New best score: 0.022\n",
      "Metric val_loss improved by 0.001 >= min_delta = 0.0005. New best score: 0.021\n",
      "Metric val_loss improved by 0.001 >= min_delta = 0.0005. New best score: 0.020\n",
      "Metric val_loss improved by 0.001 >= min_delta = 0.0005. New best score: 0.020\n",
      "`Trainer.fit` stopped: `max_epochs=30` reached.\n",
      "/home/eduardo/Documentos/Water-Cycle-Neural-Network/venv/lib/python3.12/site-packages/torch/nn/modules/rnn.py:123: UserWarning: dropout option adds dropout after all but last recurrent layer, so non-zero dropout expects num_layers greater than 1, but got dropout=0.16727096410153403 and num_layers=1\n",
      "  warnings.warn(\n",
      "GPU available: True (cuda), used: True\n",
      "TPU available: False, using: 0 TPU cores\n",
      "HPU available: False, using: 0 HPUs\n",
      "LOCAL_RANK: 0 - CUDA_VISIBLE_DEVICES: [0]\n",
      "/home/eduardo/Documentos/Water-Cycle-Neural-Network/venv/lib/python3.12/site-packages/pytorch_lightning/trainer/connectors/data_connector.py:425: The 'predict_dataloader' does not have many workers which may be a bottleneck. Consider increasing the value of the `num_workers` argument` to `num_workers=11` in the `DataLoader` to improve performance.\n"
     ]
    },
    {
     "name": "stdout",
     "output_type": "stream",
     "text": [
      "Model loaded from checkpoint for trial 33\n"
     ]
    },
    {
     "name": "stderr",
     "output_type": "stream",
     "text": [
      "[I 2025-05-25 19:54:49,524] Trial 33 finished with value: 0.14164953693263935 and parameters: {'input_chunk_length': 67, 'output_chunk_length': 8, 'hidden_size': 211, 'layer_size': 1, 'dropout': 0.16727096410153403, 'batch_size': 85, 'lr': 0.00048174855642340756, 'weight_decay': 0.0006740576407863642, 'loss_fn': 'smoothl1', 'optimizer': 'Adam'}. Best is trial 30 with value: 0.13372060011324843.\n",
      "Specified future encoders in `add_encoders` at model creation but model does not accept future covariates. future encoders will be ignored.\n",
      "/home/eduardo/Documentos/Water-Cycle-Neural-Network/venv/lib/python3.12/site-packages/torch/nn/modules/rnn.py:123: UserWarning: dropout option adds dropout after all but last recurrent layer, so non-zero dropout expects num_layers greater than 1, but got dropout=0.20932224784102216 and num_layers=1\n",
      "  warnings.warn(\n",
      "GPU available: True (cuda), used: True\n",
      "TPU available: False, using: 0 TPU cores\n",
      "HPU available: False, using: 0 HPUs\n",
      "LOCAL_RANK: 0 - CUDA_VISIBLE_DEVICES: [0]\n"
     ]
    },
    {
     "name": "stdout",
     "output_type": "stream",
     "text": [
      "Starting time series verification for consistency...\n",
      "\n",
      "Performance metrics:\n",
      "                                    MSE        RMSE         MAE           R2  \\\n",
      "Temperature                   17.132442    4.139135    3.325159     0.435891   \n",
      "Precipitation_accumulated   4233.138150   65.062571   58.033327 -1329.118842   \n",
      "Humidity                     104.977933   10.245874    8.392713     0.285922   \n",
      "Wind_Speed_kmh                 1.447542    1.203139    0.960426    -0.070580   \n",
      "Soil_Moisture              88256.507224  297.079968  268.432453    -0.883354   \n",
      "Soil_Temperature               6.033523    2.456323    1.968026     0.621859   \n",
      "Wind_Dir_Sin                   0.558373    0.747244    0.667098    -0.019417   \n",
      "Wind_Dir_Cos                   0.374362    0.611851    0.522594    -0.018071   \n",
      "\n",
      "                                SMAPE  \n",
      "Temperature                 45.224252  \n",
      "Precipitation_accumulated   13.551203  \n",
      "Humidity                     9.937996  \n",
      "Wind_Speed_kmh              77.026312  \n",
      "Soil_Moisture                3.171599  \n",
      "Soil_Temperature            30.784576  \n",
      "Wind_Dir_Sin               137.835174  \n",
      "Wind_Dir_Cos               123.135980  \n",
      "The MAE for this fold was 0.14164953693263935\n",
      "Results of trial 33 saved in optuna_iteration_metrics/trial_33.json\n",
      "Current value: 0.14164953693263935, Current params: {'input_chunk_length': 67, 'output_chunk_length': 8, 'hidden_size': 211, 'layer_size': 1, 'dropout': 0.16727096410153403, 'batch_size': 85, 'lr': 0.00048174855642340756, 'weight_decay': 0.0006740576407863642, 'loss_fn': 'smoothl1', 'optimizer': 'Adam'}\n",
      "Best value: 0.13372060011324843, Best params: {'input_chunk_length': 67, 'output_chunk_length': 10, 'hidden_size': 212, 'layer_size': 1, 'dropout': 0.10324735599579962, 'batch_size': 95, 'lr': 0.0005717137039948098, 'weight_decay': 0.00012375402782618754, 'loss_fn': 'smoothl1', 'optimizer': 'Adam'}\n",
      "\n",
      "Starting Trial 34\n",
      "Hyperparameters: {'input_chunk_length': 69, 'output_chunk_length': 11, 'hidden_size': 234, 'layer_size': 1, 'dropout': 0.20932224784102216, 'batch_size': 64, 'lr': 0.000682705891725686, 'weight_decay': 0.00010896719942294633, 'loss_fn': 'smoothl1', 'optimizer': 'SGD'}\n",
      "\n",
      "Training the model...\n",
      "Train set: 6647 samples\n",
      "Validation set: 1662 samples\n"
     ]
    },
    {
     "name": "stderr",
     "output_type": "stream",
     "text": [
      "[I 2025-05-25 19:54:52,977] Trial 34 pruned. Trial was pruned at epoch 0.\n",
      "Specified future encoders in `add_encoders` at model creation but model does not accept future covariates. future encoders will be ignored.\n",
      "/home/eduardo/Documentos/Water-Cycle-Neural-Network/venv/lib/python3.12/site-packages/torch/nn/modules/rnn.py:123: UserWarning: dropout option adds dropout after all but last recurrent layer, so non-zero dropout expects num_layers greater than 1, but got dropout=0.14513243453491123 and num_layers=1\n",
      "  warnings.warn(\n",
      "GPU available: True (cuda), used: True\n",
      "TPU available: False, using: 0 TPU cores\n",
      "HPU available: False, using: 0 HPUs\n",
      "LOCAL_RANK: 0 - CUDA_VISIBLE_DEVICES: [0]\n"
     ]
    },
    {
     "name": "stdout",
     "output_type": "stream",
     "text": [
      "Current value: 0.19887925950298863, Current params: {'input_chunk_length': 69, 'output_chunk_length': 11, 'hidden_size': 234, 'layer_size': 1, 'dropout': 0.20932224784102216, 'batch_size': 64, 'lr': 0.000682705891725686, 'weight_decay': 0.00010896719942294633, 'loss_fn': 'smoothl1', 'optimizer': 'SGD'}\n",
      "Best value: 0.13372060011324843, Best params: {'input_chunk_length': 67, 'output_chunk_length': 10, 'hidden_size': 212, 'layer_size': 1, 'dropout': 0.10324735599579962, 'batch_size': 95, 'lr': 0.0005717137039948098, 'weight_decay': 0.00012375402782618754, 'loss_fn': 'smoothl1', 'optimizer': 'Adam'}\n",
      "\n",
      "Starting Trial 35\n",
      "Hyperparameters: {'input_chunk_length': 63, 'output_chunk_length': 6, 'hidden_size': 221, 'layer_size': 1, 'dropout': 0.14513243453491123, 'batch_size': 101, 'lr': 0.00033529665467683673, 'weight_decay': 5.76557084121844e-05, 'loss_fn': 'smoothl1', 'optimizer': 'Adam'}\n",
      "\n",
      "Training the model...\n",
      "Train set: 6647 samples\n",
      "Validation set: 1662 samples\n"
     ]
    },
    {
     "name": "stderr",
     "output_type": "stream",
     "text": [
      "Metric val_loss improved. New best score: 0.045\n",
      "Metric val_loss improved by 0.002 >= min_delta = 0.0005. New best score: 0.043\n",
      "Exception ignored in: <function _MultiProcessingDataLoaderIter.__del__ at 0x7f46529a1260>\n",
      "Traceback (most recent call last):\n",
      "  File \"/home/eduardo/Documentos/Water-Cycle-Neural-Network/venv/lib/python3.12/site-packages/torch/utils/data/dataloader.py\", line 1663, in __del__\n",
      "    self._shutdown_workers()\n",
      "  File \"/home/eduardo/Documentos/Water-Cycle-Neural-Network/venv/lib/python3.12/site-packages/torch/utils/data/dataloader.py\", line 1646, in _shutdown_workers\n",
      "    if w.is_alive():\n",
      "       ^^^^^^^^^^^^\n",
      "  File \"/usr/lib/python3.12/multiprocessing/process.py\", line 160, in is_alive\n",
      "    assert self._parent_pid == os.getpid(), 'can only test a child process'\n",
      "           ^^^^^^^^^^^^^^^^^^^^^^^^^^^^^^^\n",
      "AssertionError: can only test a child process\n",
      "Exception ignored in: <function _MultiProcessingDataLoaderIter.__del__ at 0x7f46529a1260>\n",
      "Traceback (most recent call last):\n",
      "  File \"/home/eduardo/Documentos/Water-Cycle-Neural-Network/venv/lib/python3.12/site-packages/torch/utils/data/dataloader.py\", line 1663, in __del__\n",
      "    self._shutdown_workers()\n",
      "  File \"/home/eduardo/Documentos/Water-Cycle-Neural-Network/venv/lib/python3.12/site-packages/torch/utils/data/dataloader.py\", line 1646, in _shutdown_workers\n",
      "    if w.is_alive():\n",
      "       ^^^^^^^^^^^^\n",
      "  File \"/usr/lib/python3.12/multiprocessing/process.py\", line 160, in is_alive\n",
      "    assert self._parent_pid == os.getpid(), 'can only test a child process'\n",
      "           ^^^^^^^^^^^^^^^^^^^^^^^^^^^^^^^\n",
      "AssertionError: can only test a child process\n",
      "Metric val_loss improved by 0.005 >= min_delta = 0.0005. New best score: 0.038\n",
      "Metric val_loss improved by 0.009 >= min_delta = 0.0005. New best score: 0.028\n",
      "Metric val_loss improved by 0.002 >= min_delta = 0.0005. New best score: 0.026\n",
      "Metric val_loss improved by 0.001 >= min_delta = 0.0005. New best score: 0.025\n",
      "Metric val_loss improved by 0.002 >= min_delta = 0.0005. New best score: 0.023\n",
      "Metric val_loss improved by 0.002 >= min_delta = 0.0005. New best score: 0.021\n",
      "Metric val_loss improved by 0.001 >= min_delta = 0.0005. New best score: 0.020\n",
      "Metric val_loss improved by 0.001 >= min_delta = 0.0005. New best score: 0.019\n",
      "`Trainer.fit` stopped: `max_epochs=30` reached.\n",
      "/home/eduardo/Documentos/Water-Cycle-Neural-Network/venv/lib/python3.12/site-packages/torch/nn/modules/rnn.py:123: UserWarning: dropout option adds dropout after all but last recurrent layer, so non-zero dropout expects num_layers greater than 1, but got dropout=0.14513243453491123 and num_layers=1\n",
      "  warnings.warn(\n",
      "GPU available: True (cuda), used: True\n",
      "TPU available: False, using: 0 TPU cores\n",
      "HPU available: False, using: 0 HPUs\n",
      "LOCAL_RANK: 0 - CUDA_VISIBLE_DEVICES: [0]\n",
      "/home/eduardo/Documentos/Water-Cycle-Neural-Network/venv/lib/python3.12/site-packages/pytorch_lightning/trainer/connectors/data_connector.py:425: The 'predict_dataloader' does not have many workers which may be a bottleneck. Consider increasing the value of the `num_workers` argument` to `num_workers=11` in the `DataLoader` to improve performance.\n"
     ]
    },
    {
     "name": "stdout",
     "output_type": "stream",
     "text": [
      "Model loaded from checkpoint for trial 35\n"
     ]
    },
    {
     "name": "stderr",
     "output_type": "stream",
     "text": [
      "[I 2025-05-25 19:57:54,553] Trial 35 finished with value: 0.13939937659095852 and parameters: {'input_chunk_length': 63, 'output_chunk_length': 6, 'hidden_size': 221, 'layer_size': 1, 'dropout': 0.14513243453491123, 'batch_size': 101, 'lr': 0.00033529665467683673, 'weight_decay': 5.76557084121844e-05, 'loss_fn': 'smoothl1', 'optimizer': 'Adam'}. Best is trial 30 with value: 0.13372060011324843.\n",
      "Specified future encoders in `add_encoders` at model creation but model does not accept future covariates. future encoders will be ignored.\n",
      "/home/eduardo/Documentos/Water-Cycle-Neural-Network/venv/lib/python3.12/site-packages/torch/nn/modules/rnn.py:123: UserWarning: dropout option adds dropout after all but last recurrent layer, so non-zero dropout expects num_layers greater than 1, but got dropout=0.10551908504677063 and num_layers=1\n",
      "  warnings.warn(\n",
      "GPU available: True (cuda), used: True\n",
      "TPU available: False, using: 0 TPU cores\n",
      "HPU available: False, using: 0 HPUs\n",
      "LOCAL_RANK: 0 - CUDA_VISIBLE_DEVICES: [0]\n"
     ]
    },
    {
     "name": "stdout",
     "output_type": "stream",
     "text": [
      "Starting time series verification for consistency...\n",
      "\n",
      "Performance metrics:\n",
      "                                     MSE        RMSE         MAE          R2  \\\n",
      "Temperature                     9.731478    3.119532    2.454525    0.681266   \n",
      "Precipitation_accumulated    2427.377961   49.268428   40.440062 -753.384045   \n",
      "Humidity                       85.413143    9.241923    7.850918    0.419353   \n",
      "Wind_Speed_kmh                  1.373715    1.172056    0.931772   -0.018592   \n",
      "Soil_Moisture              231685.027459  481.336709  361.723344   -3.803680   \n",
      "Soil_Temperature               14.419396    3.797288    3.158719    0.101150   \n",
      "Wind_Dir_Sin                    0.612037    0.782328    0.682191   -0.118759   \n",
      "Wind_Dir_Cos                    0.396062    0.629335    0.524493   -0.073686   \n",
      "\n",
      "                                SMAPE  \n",
      "Temperature                 37.332744  \n",
      "Precipitation_accumulated    9.280534  \n",
      "Humidity                     9.243566  \n",
      "Wind_Speed_kmh              74.387156  \n",
      "Soil_Moisture                4.382658  \n",
      "Soil_Temperature            59.411974  \n",
      "Wind_Dir_Sin               143.177983  \n",
      "Wind_Dir_Cos               121.252107  \n",
      "The MAE for this fold was 0.13939937659095852\n",
      "Results of trial 35 saved in optuna_iteration_metrics/trial_35.json\n",
      "Current value: 0.13939937659095852, Current params: {'input_chunk_length': 63, 'output_chunk_length': 6, 'hidden_size': 221, 'layer_size': 1, 'dropout': 0.14513243453491123, 'batch_size': 101, 'lr': 0.00033529665467683673, 'weight_decay': 5.76557084121844e-05, 'loss_fn': 'smoothl1', 'optimizer': 'Adam'}\n",
      "Best value: 0.13372060011324843, Best params: {'input_chunk_length': 67, 'output_chunk_length': 10, 'hidden_size': 212, 'layer_size': 1, 'dropout': 0.10324735599579962, 'batch_size': 95, 'lr': 0.0005717137039948098, 'weight_decay': 0.00012375402782618754, 'loss_fn': 'smoothl1', 'optimizer': 'Adam'}\n",
      "\n",
      "Starting Trial 36\n",
      "Hyperparameters: {'input_chunk_length': 64, 'output_chunk_length': 6, 'hidden_size': 243, 'layer_size': 1, 'dropout': 0.10551908504677063, 'batch_size': 100, 'lr': 0.0002953316564067783, 'weight_decay': 0.0003583561185279649, 'loss_fn': 'smoothl1', 'optimizer': 'Adam'}\n",
      "\n",
      "Training the model...\n",
      "Train set: 6647 samples\n",
      "Validation set: 1662 samples\n"
     ]
    },
    {
     "name": "stderr",
     "output_type": "stream",
     "text": [
      "Metric val_loss improved. New best score: 0.047\n",
      "Metric val_loss improved by 0.004 >= min_delta = 0.0005. New best score: 0.042\n",
      "Metric val_loss improved by 0.004 >= min_delta = 0.0005. New best score: 0.038\n",
      "Metric val_loss improved by 0.007 >= min_delta = 0.0005. New best score: 0.031\n",
      "Metric val_loss improved by 0.006 >= min_delta = 0.0005. New best score: 0.025\n",
      "Metric val_loss improved by 0.002 >= min_delta = 0.0005. New best score: 0.023\n",
      "Metric val_loss improved by 0.001 >= min_delta = 0.0005. New best score: 0.022\n",
      "Metric val_loss improved by 0.001 >= min_delta = 0.0005. New best score: 0.021\n",
      "Metric val_loss improved by 0.001 >= min_delta = 0.0005. New best score: 0.020\n",
      "Metric val_loss improved by 0.001 >= min_delta = 0.0005. New best score: 0.020\n",
      "Metric val_loss improved by 0.001 >= min_delta = 0.0005. New best score: 0.019\n",
      "Metric val_loss improved by 0.001 >= min_delta = 0.0005. New best score: 0.018\n",
      "`Trainer.fit` stopped: `max_epochs=30` reached.\n",
      "/home/eduardo/Documentos/Water-Cycle-Neural-Network/venv/lib/python3.12/site-packages/torch/nn/modules/rnn.py:123: UserWarning: dropout option adds dropout after all but last recurrent layer, so non-zero dropout expects num_layers greater than 1, but got dropout=0.10551908504677063 and num_layers=1\n",
      "  warnings.warn(\n",
      "GPU available: True (cuda), used: True\n",
      "TPU available: False, using: 0 TPU cores\n",
      "HPU available: False, using: 0 HPUs\n",
      "LOCAL_RANK: 0 - CUDA_VISIBLE_DEVICES: [0]\n",
      "/home/eduardo/Documentos/Water-Cycle-Neural-Network/venv/lib/python3.12/site-packages/pytorch_lightning/trainer/connectors/data_connector.py:425: The 'predict_dataloader' does not have many workers which may be a bottleneck. Consider increasing the value of the `num_workers` argument` to `num_workers=11` in the `DataLoader` to improve performance.\n"
     ]
    },
    {
     "name": "stdout",
     "output_type": "stream",
     "text": [
      "Model loaded from checkpoint for trial 36\n"
     ]
    },
    {
     "name": "stderr",
     "output_type": "stream",
     "text": [
      "[I 2025-05-25 19:59:12,766] Trial 36 finished with value: 0.13527956743242903 and parameters: {'input_chunk_length': 64, 'output_chunk_length': 6, 'hidden_size': 243, 'layer_size': 1, 'dropout': 0.10551908504677063, 'batch_size': 100, 'lr': 0.0002953316564067783, 'weight_decay': 0.0003583561185279649, 'loss_fn': 'smoothl1', 'optimizer': 'Adam'}. Best is trial 30 with value: 0.13372060011324843.\n",
      "Specified future encoders in `add_encoders` at model creation but model does not accept future covariates. future encoders will be ignored.\n",
      "/home/eduardo/Documentos/Water-Cycle-Neural-Network/venv/lib/python3.12/site-packages/torch/nn/modules/rnn.py:123: UserWarning: dropout option adds dropout after all but last recurrent layer, so non-zero dropout expects num_layers greater than 1, but got dropout=0.10229418046564785 and num_layers=1\n",
      "  warnings.warn(\n",
      "GPU available: True (cuda), used: True\n",
      "TPU available: False, using: 0 TPU cores\n",
      "HPU available: False, using: 0 HPUs\n",
      "LOCAL_RANK: 0 - CUDA_VISIBLE_DEVICES: [0]\n"
     ]
    },
    {
     "name": "stdout",
     "output_type": "stream",
     "text": [
      "Starting time series verification for consistency...\n",
      "\n",
      "Performance metrics:\n",
      "                                    MSE        RMSE         MAE          R2  \\\n",
      "Temperature                   18.250074    4.272011    3.310505    0.401891   \n",
      "Precipitation_accumulated   1429.650198   37.810715   33.556941 -444.113643   \n",
      "Humidity                     119.176768   10.916811    8.654503    0.189744   \n",
      "Wind_Speed_kmh                 1.397429    1.182129    0.952583   -0.035890   \n",
      "Soil_Moisture              43821.731597  209.336408  160.101223    0.087364   \n",
      "Soil_Temperature              13.762844    3.709831    3.067722    0.141575   \n",
      "Wind_Dir_Sin                   0.567892    0.753586    0.679338   -0.037734   \n",
      "Wind_Dir_Cos                   0.357679    0.598063    0.514954    0.029592   \n",
      "\n",
      "                                SMAPE  \n",
      "Temperature                 45.675496  \n",
      "Precipitation_accumulated    7.560641  \n",
      "Humidity                    10.298399  \n",
      "Wind_Speed_kmh              75.600920  \n",
      "Soil_Moisture                1.889025  \n",
      "Soil_Temperature            50.275384  \n",
      "Wind_Dir_Sin               151.028546  \n",
      "Wind_Dir_Cos               128.093504  \n",
      "The MAE for this fold was 0.13527956743242903\n",
      "Results of trial 36 saved in optuna_iteration_metrics/trial_36.json\n",
      "Current value: 0.13527956743242903, Current params: {'input_chunk_length': 64, 'output_chunk_length': 6, 'hidden_size': 243, 'layer_size': 1, 'dropout': 0.10551908504677063, 'batch_size': 100, 'lr': 0.0002953316564067783, 'weight_decay': 0.0003583561185279649, 'loss_fn': 'smoothl1', 'optimizer': 'Adam'}\n",
      "Best value: 0.13372060011324843, Best params: {'input_chunk_length': 67, 'output_chunk_length': 10, 'hidden_size': 212, 'layer_size': 1, 'dropout': 0.10324735599579962, 'batch_size': 95, 'lr': 0.0005717137039948098, 'weight_decay': 0.00012375402782618754, 'loss_fn': 'smoothl1', 'optimizer': 'Adam'}\n",
      "\n",
      "Starting Trial 37\n",
      "Hyperparameters: {'input_chunk_length': 70, 'output_chunk_length': 3, 'hidden_size': 245, 'layer_size': 1, 'dropout': 0.10229418046564785, 'batch_size': 84, 'lr': 3.7968870458126693e-05, 'weight_decay': 0.0011938854421654716, 'loss_fn': 'smoothl1', 'optimizer': 'Adam'}\n",
      "\n",
      "Training the model...\n",
      "Train set: 6647 samples\n",
      "Validation set: 1662 samples\n"
     ]
    },
    {
     "name": "stderr",
     "output_type": "stream",
     "text": [
      "[I 2025-05-25 19:59:16,113] Trial 37 pruned. Trial was pruned at epoch 0.\n",
      "Specified future encoders in `add_encoders` at model creation but model does not accept future covariates. future encoders will be ignored.\n",
      "/home/eduardo/Documentos/Water-Cycle-Neural-Network/venv/lib/python3.12/site-packages/torch/nn/modules/rnn.py:123: UserWarning: dropout option adds dropout after all but last recurrent layer, so non-zero dropout expects num_layers greater than 1, but got dropout=0.1331220412855775 and num_layers=1\n",
      "  warnings.warn(\n",
      "GPU available: True (cuda), used: True\n",
      "TPU available: False, using: 0 TPU cores\n",
      "HPU available: False, using: 0 HPUs\n",
      "LOCAL_RANK: 0 - CUDA_VISIBLE_DEVICES: [0]\n"
     ]
    },
    {
     "name": "stdout",
     "output_type": "stream",
     "text": [
      "Current value: 0.16433529474064698, Current params: {'input_chunk_length': 70, 'output_chunk_length': 3, 'hidden_size': 245, 'layer_size': 1, 'dropout': 0.10229418046564785, 'batch_size': 84, 'lr': 3.7968870458126693e-05, 'weight_decay': 0.0011938854421654716, 'loss_fn': 'smoothl1', 'optimizer': 'Adam'}\n",
      "Best value: 0.13372060011324843, Best params: {'input_chunk_length': 67, 'output_chunk_length': 10, 'hidden_size': 212, 'layer_size': 1, 'dropout': 0.10324735599579962, 'batch_size': 95, 'lr': 0.0005717137039948098, 'weight_decay': 0.00012375402782618754, 'loss_fn': 'smoothl1', 'optimizer': 'Adam'}\n",
      "\n",
      "Starting Trial 38\n",
      "Hyperparameters: {'input_chunk_length': 66, 'output_chunk_length': 6, 'hidden_size': 198, 'layer_size': 1, 'dropout': 0.1331220412855775, 'batch_size': 79, 'lr': 0.00022334498383422315, 'weight_decay': 0.0003796533991936794, 'loss_fn': 'smoothl1', 'optimizer': 'Adam'}\n",
      "\n",
      "Training the model...\n",
      "Train set: 6647 samples\n",
      "Validation set: 1662 samples\n"
     ]
    },
    {
     "name": "stderr",
     "output_type": "stream",
     "text": [
      "Metric val_loss improved. New best score: 0.046\n",
      "Metric val_loss improved by 0.002 >= min_delta = 0.0005. New best score: 0.044\n",
      "Metric val_loss improved by 0.003 >= min_delta = 0.0005. New best score: 0.041\n",
      "Exception ignored in: <function _MultiProcessingDataLoaderIter.__del__ at 0x7f46529a1260>\n",
      "Traceback (most recent call last):\n",
      "  File \"/home/eduardo/Documentos/Water-Cycle-Neural-Network/venv/lib/python3.12/site-packages/torch/utils/data/dataloader.py\", line 1663, in __del__\n",
      "    self._shutdown_workers()\n",
      "  File \"/home/eduardo/Documentos/Water-Cycle-Neural-Network/venv/lib/python3.12/site-packages/torch/utils/data/dataloader.py\", line 1646, in _shutdown_workers\n",
      "    if w.is_alive():\n",
      "       ^^^^^^^^^^^^\n",
      "  File \"/usr/lib/python3.12/multiprocessing/process.py\", line 160, in is_alive\n",
      "    assert self._parent_pid == os.getpid(), 'can only test a child process'\n",
      "           ^^^^^^^^^^^^^^^^^^^^^^^^^^^^^^^\n",
      "AssertionError: can only test a child process\n",
      "Exception ignored in: <function _MultiProcessingDataLoaderIter.__del__ at 0x7f46529a1260>\n",
      "Traceback (most recent call last):\n",
      "  File \"/home/eduardo/Documentos/Water-Cycle-Neural-Network/venv/lib/python3.12/site-packages/torch/utils/data/dataloader.py\", line 1663, in __del__\n",
      "    self._shutdown_workers()\n",
      "  File \"/home/eduardo/Documentos/Water-Cycle-Neural-Network/venv/lib/python3.12/site-packages/torch/utils/data/dataloader.py\", line 1646, in _shutdown_workers\n",
      "    if w.is_alive():\n",
      "       ^^^^^^^^^^^^\n",
      "  File \"/usr/lib/python3.12/multiprocessing/process.py\", line 160, in is_alive\n",
      "    assert self._parent_pid == os.getpid(), 'can only test a child process'\n",
      "           ^^^^^^^^^^^^^^^^^^^^^^^^^^^^^^^\n",
      "AssertionError: can only test a child process\n",
      "[I 2025-05-25 20:00:21,594] Trial 38 pruned. Trial was pruned at epoch 3.\n",
      "Specified future encoders in `add_encoders` at model creation but model does not accept future covariates. future encoders will be ignored.\n",
      "/home/eduardo/Documentos/Water-Cycle-Neural-Network/venv/lib/python3.12/site-packages/torch/nn/modules/rnn.py:123: UserWarning: dropout option adds dropout after all but last recurrent layer, so non-zero dropout expects num_layers greater than 1, but got dropout=0.21126728905832481 and num_layers=1\n",
      "  warnings.warn(\n",
      "GPU available: True (cuda), used: True\n",
      "TPU available: False, using: 0 TPU cores\n",
      "HPU available: False, using: 0 HPUs\n",
      "LOCAL_RANK: 0 - CUDA_VISIBLE_DEVICES: [0]\n"
     ]
    },
    {
     "name": "stdout",
     "output_type": "stream",
     "text": [
      "Current value: 0.0357026654535618, Current params: {'input_chunk_length': 66, 'output_chunk_length': 6, 'hidden_size': 198, 'layer_size': 1, 'dropout': 0.1331220412855775, 'batch_size': 79, 'lr': 0.00022334498383422315, 'weight_decay': 0.0003796533991936794, 'loss_fn': 'smoothl1', 'optimizer': 'Adam'}\n",
      "Best value: 0.13372060011324843, Best params: {'input_chunk_length': 67, 'output_chunk_length': 10, 'hidden_size': 212, 'layer_size': 1, 'dropout': 0.10324735599579962, 'batch_size': 95, 'lr': 0.0005717137039948098, 'weight_decay': 0.00012375402782618754, 'loss_fn': 'smoothl1', 'optimizer': 'Adam'}\n",
      "\n",
      "Starting Trial 39\n",
      "Hyperparameters: {'input_chunk_length': 58, 'output_chunk_length': 15, 'hidden_size': 247, 'layer_size': 1, 'dropout': 0.21126728905832481, 'batch_size': 132, 'lr': 0.00012489636948198924, 'weight_decay': 0.0006641397854313797, 'loss_fn': 'smoothl1', 'optimizer': 'SGD'}\n",
      "\n",
      "Training the model...\n",
      "Train set: 6647 samples\n",
      "Validation set: 1662 samples\n"
     ]
    },
    {
     "name": "stderr",
     "output_type": "stream",
     "text": [
      "[I 2025-05-25 20:00:24,305] Trial 39 pruned. Trial was pruned at epoch 0.\n",
      "Specified future encoders in `add_encoders` at model creation but model does not accept future covariates. future encoders will be ignored.\n",
      "/home/eduardo/Documentos/Water-Cycle-Neural-Network/venv/lib/python3.12/site-packages/torch/nn/modules/rnn.py:123: UserWarning: dropout option adds dropout after all but last recurrent layer, so non-zero dropout expects num_layers greater than 1, but got dropout=0.11678718487084036 and num_layers=1\n",
      "  warnings.warn(\n",
      "GPU available: True (cuda), used: True\n",
      "TPU available: False, using: 0 TPU cores\n",
      "HPU available: False, using: 0 HPUs\n",
      "LOCAL_RANK: 0 - CUDA_VISIBLE_DEVICES: [0]\n"
     ]
    },
    {
     "name": "stdout",
     "output_type": "stream",
     "text": [
      "Current value: 0.19833260454662172, Current params: {'input_chunk_length': 58, 'output_chunk_length': 15, 'hidden_size': 247, 'layer_size': 1, 'dropout': 0.21126728905832481, 'batch_size': 132, 'lr': 0.00012489636948198924, 'weight_decay': 0.0006641397854313797, 'loss_fn': 'smoothl1', 'optimizer': 'SGD'}\n",
      "Best value: 0.13372060011324843, Best params: {'input_chunk_length': 67, 'output_chunk_length': 10, 'hidden_size': 212, 'layer_size': 1, 'dropout': 0.10324735599579962, 'batch_size': 95, 'lr': 0.0005717137039948098, 'weight_decay': 0.00012375402782618754, 'loss_fn': 'smoothl1', 'optimizer': 'Adam'}\n",
      "\n",
      "Starting Trial 40\n",
      "Hyperparameters: {'input_chunk_length': 53, 'output_chunk_length': 4, 'hidden_size': 256, 'layer_size': 1, 'dropout': 0.11678718487084036, 'batch_size': 94, 'lr': 5.762271486832233e-05, 'weight_decay': 0.0023289809985206217, 'loss_fn': 'mse', 'optimizer': 'RMSprop'}\n",
      "\n",
      "Training the model...\n",
      "Train set: 6647 samples\n",
      "Validation set: 1662 samples\n"
     ]
    },
    {
     "name": "stderr",
     "output_type": "stream",
     "text": [
      "[I 2025-05-25 20:00:27,041] Trial 40 pruned. Trial was pruned at epoch 0.\n"
     ]
    },
    {
     "name": "stdout",
     "output_type": "stream",
     "text": [
      "Current value: 0.09087529139611557, Current params: {'input_chunk_length': 53, 'output_chunk_length': 4, 'hidden_size': 256, 'layer_size': 1, 'dropout': 0.11678718487084036, 'batch_size': 94, 'lr': 5.762271486832233e-05, 'weight_decay': 0.0023289809985206217, 'loss_fn': 'mse', 'optimizer': 'RMSprop'}\n",
      "Best value: 0.13372060011324843, Best params: {'input_chunk_length': 67, 'output_chunk_length': 10, 'hidden_size': 212, 'layer_size': 1, 'dropout': 0.10324735599579962, 'batch_size': 95, 'lr': 0.0005717137039948098, 'weight_decay': 0.00012375402782618754, 'loss_fn': 'smoothl1', 'optimizer': 'Adam'}\n",
      "\n",
      "Starting Trial 41\n",
      "Hyperparameters: {'input_chunk_length': 63, 'output_chunk_length': 7, 'hidden_size': 224, 'layer_size': 1, 'dropout': 0.1499054050057207, 'batch_size': 102, 'lr': 0.00036115844866056447, 'weight_decay': 6.408384149016144e-05, 'loss_fn': 'smoothl1', 'optimizer': 'Adam'}\n",
      "\n",
      "Training the model...\n",
      "Train set: 6647 samples\n",
      "Validation set: 1662 samples\n"
     ]
    },
    {
     "name": "stderr",
     "output_type": "stream",
     "text": [
      "Specified future encoders in `add_encoders` at model creation but model does not accept future covariates. future encoders will be ignored.\n",
      "/home/eduardo/Documentos/Water-Cycle-Neural-Network/venv/lib/python3.12/site-packages/torch/nn/modules/rnn.py:123: UserWarning: dropout option adds dropout after all but last recurrent layer, so non-zero dropout expects num_layers greater than 1, but got dropout=0.1499054050057207 and num_layers=1\n",
      "  warnings.warn(\n",
      "GPU available: True (cuda), used: True\n",
      "TPU available: False, using: 0 TPU cores\n",
      "HPU available: False, using: 0 HPUs\n",
      "LOCAL_RANK: 0 - CUDA_VISIBLE_DEVICES: [0]\n",
      "Metric val_loss improved. New best score: 0.048\n",
      "Metric val_loss improved by 0.006 >= min_delta = 0.0005. New best score: 0.043\n",
      "Metric val_loss improved by 0.002 >= min_delta = 0.0005. New best score: 0.040\n",
      "[I 2025-05-25 20:01:32,145] Trial 41 pruned. Trial was pruned at epoch 3.\n",
      "Specified future encoders in `add_encoders` at model creation but model does not accept future covariates. future encoders will be ignored.\n",
      "/home/eduardo/Documentos/Water-Cycle-Neural-Network/venv/lib/python3.12/site-packages/torch/nn/modules/rnn.py:123: UserWarning: dropout option adds dropout after all but last recurrent layer, so non-zero dropout expects num_layers greater than 1, but got dropout=0.13961741792700083 and num_layers=1\n",
      "  warnings.warn(\n",
      "GPU available: True (cuda), used: True\n",
      "TPU available: False, using: 0 TPU cores\n",
      "HPU available: False, using: 0 HPUs\n",
      "LOCAL_RANK: 0 - CUDA_VISIBLE_DEVICES: [0]\n"
     ]
    },
    {
     "name": "stdout",
     "output_type": "stream",
     "text": [
      "Current value: 0.033884098298855365, Current params: {'input_chunk_length': 63, 'output_chunk_length': 7, 'hidden_size': 224, 'layer_size': 1, 'dropout': 0.1499054050057207, 'batch_size': 102, 'lr': 0.00036115844866056447, 'weight_decay': 6.408384149016144e-05, 'loss_fn': 'smoothl1', 'optimizer': 'Adam'}\n",
      "Best value: 0.13372060011324843, Best params: {'input_chunk_length': 67, 'output_chunk_length': 10, 'hidden_size': 212, 'layer_size': 1, 'dropout': 0.10324735599579962, 'batch_size': 95, 'lr': 0.0005717137039948098, 'weight_decay': 0.00012375402782618754, 'loss_fn': 'smoothl1', 'optimizer': 'Adam'}\n",
      "\n",
      "Starting Trial 42\n",
      "Hyperparameters: {'input_chunk_length': 61, 'output_chunk_length': 1, 'hidden_size': 236, 'layer_size': 1, 'dropout': 0.13961741792700083, 'batch_size': 99, 'lr': 0.0003347901155526305, 'weight_decay': 0.00013192997976271012, 'loss_fn': 'smoothl1', 'optimizer': 'Adam'}\n",
      "\n",
      "Training the model...\n",
      "Train set: 6647 samples\n",
      "Validation set: 1662 samples\n"
     ]
    },
    {
     "name": "stderr",
     "output_type": "stream",
     "text": [
      "Metric val_loss improved. New best score: 0.040\n",
      "Metric val_loss improved by 0.008 >= min_delta = 0.0005. New best score: 0.032\n",
      "Metric val_loss improved by 0.010 >= min_delta = 0.0005. New best score: 0.023\n",
      "Metric val_loss improved by 0.001 >= min_delta = 0.0005. New best score: 0.021\n",
      "Metric val_loss improved by 0.001 >= min_delta = 0.0005. New best score: 0.020\n",
      "Metric val_loss improved by 0.001 >= min_delta = 0.0005. New best score: 0.019\n",
      "Metric val_loss improved by 0.002 >= min_delta = 0.0005. New best score: 0.016\n",
      "Metric val_loss improved by 0.001 >= min_delta = 0.0005. New best score: 0.016\n",
      "Metric val_loss improved by 0.001 >= min_delta = 0.0005. New best score: 0.015\n",
      "Metric val_loss improved by 0.001 >= min_delta = 0.0005. New best score: 0.014\n",
      "Metric val_loss improved by 0.001 >= min_delta = 0.0005. New best score: 0.013\n",
      "`Trainer.fit` stopped: `max_epochs=30` reached.\n",
      "/home/eduardo/Documentos/Water-Cycle-Neural-Network/venv/lib/python3.12/site-packages/torch/nn/modules/rnn.py:123: UserWarning: dropout option adds dropout after all but last recurrent layer, so non-zero dropout expects num_layers greater than 1, but got dropout=0.13961741792700083 and num_layers=1\n",
      "  warnings.warn(\n",
      "GPU available: True (cuda), used: True\n",
      "TPU available: False, using: 0 TPU cores\n",
      "HPU available: False, using: 0 HPUs\n",
      "LOCAL_RANK: 0 - CUDA_VISIBLE_DEVICES: [0]\n",
      "/home/eduardo/Documentos/Water-Cycle-Neural-Network/venv/lib/python3.12/site-packages/pytorch_lightning/trainer/connectors/data_connector.py:425: The 'predict_dataloader' does not have many workers which may be a bottleneck. Consider increasing the value of the `num_workers` argument` to `num_workers=11` in the `DataLoader` to improve performance.\n"
     ]
    },
    {
     "name": "stdout",
     "output_type": "stream",
     "text": [
      "Model loaded from checkpoint for trial 42\n"
     ]
    },
    {
     "name": "stderr",
     "output_type": "stream",
     "text": [
      "[I 2025-05-25 20:02:46,849] Trial 42 finished with value: 0.10469268623092738 and parameters: {'input_chunk_length': 61, 'output_chunk_length': 1, 'hidden_size': 236, 'layer_size': 1, 'dropout': 0.13961741792700083, 'batch_size': 99, 'lr': 0.0003347901155526305, 'weight_decay': 0.00013192997976271012, 'loss_fn': 'smoothl1', 'optimizer': 'Adam'}. Best is trial 42 with value: 0.10469268623092738.\n",
      "Specified future encoders in `add_encoders` at model creation but model does not accept future covariates. future encoders will be ignored.\n",
      "/home/eduardo/Documentos/Water-Cycle-Neural-Network/venv/lib/python3.12/site-packages/torch/nn/modules/rnn.py:123: UserWarning: dropout option adds dropout after all but last recurrent layer, so non-zero dropout expects num_layers greater than 1, but got dropout=0.18347489943500706 and num_layers=1\n",
      "  warnings.warn(\n",
      "GPU available: True (cuda), used: True\n",
      "TPU available: False, using: 0 TPU cores\n",
      "HPU available: False, using: 0 HPUs\n",
      "LOCAL_RANK: 0 - CUDA_VISIBLE_DEVICES: [0]\n"
     ]
    },
    {
     "name": "stdout",
     "output_type": "stream",
     "text": [
      "Starting time series verification for consistency...\n",
      "\n",
      "Performance metrics:\n",
      "                                    MSE        RMSE         MAE          R2  \\\n",
      "Temperature                    5.269841    2.295613    1.801840    0.827308   \n",
      "Precipitation_accumulated    919.367083   30.321067   24.788510 -281.192078   \n",
      "Humidity                      49.790620    7.056247    5.662607    0.660942   \n",
      "Wind_Speed_kmh                 0.788033    0.887713    0.711247    0.415518   \n",
      "Soil_Moisture              45859.418207  214.148122  172.481014    0.081656   \n",
      "Soil_Temperature               4.928302    2.219978    1.847466    0.693006   \n",
      "Wind_Dir_Sin                   0.410126    0.640411    0.536038    0.253546   \n",
      "Wind_Dir_Cos                   0.308241    0.555195    0.464191    0.161849   \n",
      "\n",
      "                                SMAPE  \n",
      "Temperature                 29.547710  \n",
      "Precipitation_accumulated    5.544353  \n",
      "Humidity                     6.846482  \n",
      "Wind_Speed_kmh              63.728240  \n",
      "Soil_Moisture                2.022767  \n",
      "Soil_Temperature            39.897255  \n",
      "Wind_Dir_Sin               111.550425  \n",
      "Wind_Dir_Cos               119.451434  \n",
      "The MAE for this fold was 0.10469268623092738\n",
      "Results of trial 42 saved in optuna_iteration_metrics/trial_42.json\n",
      "Current value: 0.10469268623092738, Current params: {'input_chunk_length': 61, 'output_chunk_length': 1, 'hidden_size': 236, 'layer_size': 1, 'dropout': 0.13961741792700083, 'batch_size': 99, 'lr': 0.0003347901155526305, 'weight_decay': 0.00013192997976271012, 'loss_fn': 'smoothl1', 'optimizer': 'Adam'}\n",
      "Best value: 0.10469268623092738, Best params: {'input_chunk_length': 61, 'output_chunk_length': 1, 'hidden_size': 236, 'layer_size': 1, 'dropout': 0.13961741792700083, 'batch_size': 99, 'lr': 0.0003347901155526305, 'weight_decay': 0.00013192997976271012, 'loss_fn': 'smoothl1', 'optimizer': 'Adam'}\n",
      "\n",
      "Starting Trial 43\n",
      "Hyperparameters: {'input_chunk_length': 72, 'output_chunk_length': 1, 'hidden_size': 240, 'layer_size': 1, 'dropout': 0.18347489943500706, 'batch_size': 118, 'lr': 0.0002582236551224487, 'weight_decay': 0.00014854031058580828, 'loss_fn': 'smoothl1', 'optimizer': 'Adam'}\n",
      "\n",
      "Training the model...\n",
      "Train set: 6647 samples\n",
      "Validation set: 1662 samples\n"
     ]
    },
    {
     "name": "stderr",
     "output_type": "stream",
     "text": [
      "[I 2025-05-25 20:02:49,889] Trial 43 pruned. Trial was pruned at epoch 0.\n",
      "Specified future encoders in `add_encoders` at model creation but model does not accept future covariates. future encoders will be ignored.\n",
      "/home/eduardo/Documentos/Water-Cycle-Neural-Network/venv/lib/python3.12/site-packages/torch/nn/modules/rnn.py:123: UserWarning: dropout option adds dropout after all but last recurrent layer, so non-zero dropout expects num_layers greater than 1, but got dropout=0.12818491060176804 and num_layers=1\n",
      "  warnings.warn(\n",
      "GPU available: True (cuda), used: True\n",
      "TPU available: False, using: 0 TPU cores\n",
      "HPU available: False, using: 0 HPUs\n",
      "LOCAL_RANK: 0 - CUDA_VISIBLE_DEVICES: [0]\n"
     ]
    },
    {
     "name": "stdout",
     "output_type": "stream",
     "text": [
      "Current value: 0.048049895701037154, Current params: {'input_chunk_length': 72, 'output_chunk_length': 1, 'hidden_size': 240, 'layer_size': 1, 'dropout': 0.18347489943500706, 'batch_size': 118, 'lr': 0.0002582236551224487, 'weight_decay': 0.00014854031058580828, 'loss_fn': 'smoothl1', 'optimizer': 'Adam'}\n",
      "Best value: 0.10469268623092738, Best params: {'input_chunk_length': 61, 'output_chunk_length': 1, 'hidden_size': 236, 'layer_size': 1, 'dropout': 0.13961741792700083, 'batch_size': 99, 'lr': 0.0003347901155526305, 'weight_decay': 0.00013192997976271012, 'loss_fn': 'smoothl1', 'optimizer': 'Adam'}\n",
      "\n",
      "Starting Trial 44\n",
      "Hyperparameters: {'input_chunk_length': 59, 'output_chunk_length': 2, 'hidden_size': 104, 'layer_size': 1, 'dropout': 0.12818491060176804, 'batch_size': 78, 'lr': 0.0006671260328674597, 'weight_decay': 0.00022590101132964933, 'loss_fn': 'smoothl1', 'optimizer': 'Adam'}\n",
      "\n",
      "Training the model...\n",
      "Train set: 6647 samples\n",
      "Validation set: 1662 samples\n"
     ]
    },
    {
     "name": "stderr",
     "output_type": "stream",
     "text": [
      "Metric val_loss improved. New best score: 0.041\n",
      "Metric val_loss improved by 0.015 >= min_delta = 0.0005. New best score: 0.026\n",
      "Metric val_loss improved by 0.002 >= min_delta = 0.0005. New best score: 0.024\n",
      "Metric val_loss improved by 0.003 >= min_delta = 0.0005. New best score: 0.021\n",
      "Metric val_loss improved by 0.001 >= min_delta = 0.0005. New best score: 0.020\n",
      "Metric val_loss improved by 0.001 >= min_delta = 0.0005. New best score: 0.018\n",
      "Metric val_loss improved by 0.001 >= min_delta = 0.0005. New best score: 0.018\n",
      "Metric val_loss improved by 0.001 >= min_delta = 0.0005. New best score: 0.017\n",
      "Metric val_loss improved by 0.001 >= min_delta = 0.0005. New best score: 0.016\n",
      "Metric val_loss improved by 0.001 >= min_delta = 0.0005. New best score: 0.015\n",
      "`Trainer.fit` stopped: `max_epochs=30` reached.\n",
      "/home/eduardo/Documentos/Water-Cycle-Neural-Network/venv/lib/python3.12/site-packages/torch/nn/modules/rnn.py:123: UserWarning: dropout option adds dropout after all but last recurrent layer, so non-zero dropout expects num_layers greater than 1, but got dropout=0.12818491060176804 and num_layers=1\n",
      "  warnings.warn(\n",
      "GPU available: True (cuda), used: True\n",
      "TPU available: False, using: 0 TPU cores\n",
      "HPU available: False, using: 0 HPUs\n",
      "LOCAL_RANK: 0 - CUDA_VISIBLE_DEVICES: [0]\n",
      "/home/eduardo/Documentos/Water-Cycle-Neural-Network/venv/lib/python3.12/site-packages/pytorch_lightning/trainer/connectors/data_connector.py:425: The 'predict_dataloader' does not have many workers which may be a bottleneck. Consider increasing the value of the `num_workers` argument` to `num_workers=11` in the `DataLoader` to improve performance.\n"
     ]
    },
    {
     "name": "stdout",
     "output_type": "stream",
     "text": [
      "Model loaded from checkpoint for trial 44\n"
     ]
    },
    {
     "name": "stderr",
     "output_type": "stream",
     "text": [
      "[I 2025-05-25 20:07:22,703] Trial 44 finished with value: 0.12179768421104559 and parameters: {'input_chunk_length': 59, 'output_chunk_length': 2, 'hidden_size': 104, 'layer_size': 1, 'dropout': 0.12818491060176804, 'batch_size': 78, 'lr': 0.0006671260328674597, 'weight_decay': 0.00022590101132964933, 'loss_fn': 'smoothl1', 'optimizer': 'Adam'}. Best is trial 42 with value: 0.10469268623092738.\n",
      "Specified future encoders in `add_encoders` at model creation but model does not accept future covariates. future encoders will be ignored.\n",
      "/home/eduardo/Documentos/Water-Cycle-Neural-Network/venv/lib/python3.12/site-packages/torch/nn/modules/rnn.py:123: UserWarning: dropout option adds dropout after all but last recurrent layer, so non-zero dropout expects num_layers greater than 1, but got dropout=0.1266922194907988 and num_layers=1\n",
      "  warnings.warn(\n",
      "GPU available: True (cuda), used: True\n",
      "TPU available: False, using: 0 TPU cores\n",
      "HPU available: False, using: 0 HPUs\n",
      "LOCAL_RANK: 0 - CUDA_VISIBLE_DEVICES: [0]\n"
     ]
    },
    {
     "name": "stdout",
     "output_type": "stream",
     "text": [
      "Starting time series verification for consistency...\n",
      "\n",
      "Performance metrics:\n",
      "                                    MSE        RMSE         MAE          R2  \\\n",
      "Temperature                   11.791451    3.433868    2.655302    0.613355   \n",
      "Precipitation_accumulated   1274.134763   35.695024   31.375295 -389.404073   \n",
      "Humidity                      84.835330    9.210610    7.427016    0.421938   \n",
      "Wind_Speed_kmh                 1.082259    1.040317    0.822445    0.196967   \n",
      "Soil_Moisture              58146.546534  241.135950  198.904486   -0.157851   \n",
      "Soil_Temperature               6.349383    2.519798    2.079034    0.604378   \n",
      "Wind_Dir_Sin                   0.494448    0.703170    0.611628    0.100222   \n",
      "Wind_Dir_Cos                   0.335083    0.578863    0.496825    0.088763   \n",
      "\n",
      "                                SMAPE  \n",
      "Temperature                 38.497386  \n",
      "Precipitation_accumulated    7.052716  \n",
      "Humidity                     8.909476  \n",
      "Wind_Speed_kmh              69.445891  \n",
      "Soil_Moisture                2.328020  \n",
      "Soil_Temperature            32.669195  \n",
      "Wind_Dir_Sin               131.441832  \n",
      "Wind_Dir_Cos               128.717630  \n",
      "The MAE for this fold was 0.12179768421104559\n",
      "Results of trial 44 saved in optuna_iteration_metrics/trial_44.json\n",
      "Current value: 0.12179768421104559, Current params: {'input_chunk_length': 59, 'output_chunk_length': 2, 'hidden_size': 104, 'layer_size': 1, 'dropout': 0.12818491060176804, 'batch_size': 78, 'lr': 0.0006671260328674597, 'weight_decay': 0.00022590101132964933, 'loss_fn': 'smoothl1', 'optimizer': 'Adam'}\n",
      "Best value: 0.10469268623092738, Best params: {'input_chunk_length': 61, 'output_chunk_length': 1, 'hidden_size': 236, 'layer_size': 1, 'dropout': 0.13961741792700083, 'batch_size': 99, 'lr': 0.0003347901155526305, 'weight_decay': 0.00013192997976271012, 'loss_fn': 'smoothl1', 'optimizer': 'Adam'}\n",
      "\n",
      "Starting Trial 45\n",
      "Hyperparameters: {'input_chunk_length': 61, 'output_chunk_length': 2, 'hidden_size': 109, 'layer_size': 1, 'dropout': 0.1266922194907988, 'batch_size': 77, 'lr': 0.00038772562989894844, 'weight_decay': 0.0002849965979268196, 'loss_fn': 'smoothl1', 'optimizer': 'Adam'}\n",
      "\n",
      "Training the model...\n",
      "Train set: 6647 samples\n",
      "Validation set: 1662 samples\n"
     ]
    },
    {
     "name": "stderr",
     "output_type": "stream",
     "text": [
      "Metric val_loss improved. New best score: 0.043\n",
      "Metric val_loss improved by 0.005 >= min_delta = 0.0005. New best score: 0.037\n",
      "Metric val_loss improved by 0.009 >= min_delta = 0.0005. New best score: 0.028\n",
      "Metric val_loss improved by 0.004 >= min_delta = 0.0005. New best score: 0.025\n",
      "Metric val_loss improved by 0.003 >= min_delta = 0.0005. New best score: 0.022\n",
      "Metric val_loss improved by 0.001 >= min_delta = 0.0005. New best score: 0.021\n",
      "Metric val_loss improved by 0.002 >= min_delta = 0.0005. New best score: 0.020\n",
      "Metric val_loss improved by 0.001 >= min_delta = 0.0005. New best score: 0.018\n",
      "Metric val_loss improved by 0.001 >= min_delta = 0.0005. New best score: 0.017\n",
      "Metric val_loss improved by 0.001 >= min_delta = 0.0005. New best score: 0.016\n",
      "Metric val_loss improved by 0.001 >= min_delta = 0.0005. New best score: 0.016\n",
      "Metric val_loss improved by 0.001 >= min_delta = 0.0005. New best score: 0.015\n",
      "`Trainer.fit` stopped: `max_epochs=30` reached.\n",
      "/home/eduardo/Documentos/Water-Cycle-Neural-Network/venv/lib/python3.12/site-packages/torch/nn/modules/rnn.py:123: UserWarning: dropout option adds dropout after all but last recurrent layer, so non-zero dropout expects num_layers greater than 1, but got dropout=0.1266922194907988 and num_layers=1\n",
      "  warnings.warn(\n",
      "GPU available: True (cuda), used: True\n",
      "TPU available: False, using: 0 TPU cores\n",
      "HPU available: False, using: 0 HPUs\n",
      "LOCAL_RANK: 0 - CUDA_VISIBLE_DEVICES: [0]\n",
      "/home/eduardo/Documentos/Water-Cycle-Neural-Network/venv/lib/python3.12/site-packages/pytorch_lightning/trainer/connectors/data_connector.py:425: The 'predict_dataloader' does not have many workers which may be a bottleneck. Consider increasing the value of the `num_workers` argument` to `num_workers=11` in the `DataLoader` to improve performance.\n"
     ]
    },
    {
     "name": "stdout",
     "output_type": "stream",
     "text": [
      "Model loaded from checkpoint for trial 45\n"
     ]
    },
    {
     "name": "stderr",
     "output_type": "stream",
     "text": [
      "[I 2025-05-25 20:08:14,642] Trial 45 finished with value: 0.11797784703135318 and parameters: {'input_chunk_length': 61, 'output_chunk_length': 2, 'hidden_size': 109, 'layer_size': 1, 'dropout': 0.1266922194907988, 'batch_size': 77, 'lr': 0.00038772562989894844, 'weight_decay': 0.0002849965979268196, 'loss_fn': 'smoothl1', 'optimizer': 'Adam'}. Best is trial 42 with value: 0.10469268623092738.\n",
      "Specified future encoders in `add_encoders` at model creation but model does not accept future covariates. future encoders will be ignored.\n",
      "/home/eduardo/Documentos/Water-Cycle-Neural-Network/venv/lib/python3.12/site-packages/torch/nn/modules/rnn.py:123: UserWarning: dropout option adds dropout after all but last recurrent layer, so non-zero dropout expects num_layers greater than 1, but got dropout=0.13631106801849693 and num_layers=1\n",
      "  warnings.warn(\n",
      "GPU available: True (cuda), used: True\n",
      "TPU available: False, using: 0 TPU cores\n",
      "HPU available: False, using: 0 HPUs\n",
      "LOCAL_RANK: 0 - CUDA_VISIBLE_DEVICES: [0]\n"
     ]
    },
    {
     "name": "stdout",
     "output_type": "stream",
     "text": [
      "Starting time series verification for consistency...\n",
      "\n",
      "Performance metrics:\n",
      "                                    MSE        RMSE         MAE          R2  \\\n",
      "Temperature                    7.753462    2.784504    2.240000    0.746065   \n",
      "Precipitation_accumulated    911.477541   30.190686   25.417680 -279.260758   \n",
      "Humidity                      62.653702    7.915409    6.552516    0.573598   \n",
      "Wind_Speed_kmh                 1.186400    1.089220    0.889469    0.120049   \n",
      "Soil_Moisture              50727.803210  225.228336  184.665255   -0.021503   \n",
      "Soil_Temperature               5.446867    2.333852    1.905359    0.660787   \n",
      "Wind_Dir_Sin                   0.497449    0.705300    0.614663    0.093747   \n",
      "Wind_Dir_Cos                   0.335857    0.579532    0.496536    0.087322   \n",
      "\n",
      "                                SMAPE  \n",
      "Temperature                 35.373475  \n",
      "Precipitation_accumulated    5.663466  \n",
      "Humidity                     7.778353  \n",
      "Wind_Speed_kmh              71.638323  \n",
      "Soil_Moisture                2.177170  \n",
      "Soil_Temperature            36.793907  \n",
      "Wind_Dir_Sin               129.917132  \n",
      "Wind_Dir_Cos               128.486685  \n",
      "The MAE for this fold was 0.11797784703135318\n",
      "Results of trial 45 saved in optuna_iteration_metrics/trial_45.json\n",
      "Current value: 0.11797784703135318, Current params: {'input_chunk_length': 61, 'output_chunk_length': 2, 'hidden_size': 109, 'layer_size': 1, 'dropout': 0.1266922194907988, 'batch_size': 77, 'lr': 0.00038772562989894844, 'weight_decay': 0.0002849965979268196, 'loss_fn': 'smoothl1', 'optimizer': 'Adam'}\n",
      "Best value: 0.10469268623092738, Best params: {'input_chunk_length': 61, 'output_chunk_length': 1, 'hidden_size': 236, 'layer_size': 1, 'dropout': 0.13961741792700083, 'batch_size': 99, 'lr': 0.0003347901155526305, 'weight_decay': 0.00013192997976271012, 'loss_fn': 'smoothl1', 'optimizer': 'Adam'}\n",
      "\n",
      "Starting Trial 46\n",
      "Hyperparameters: {'input_chunk_length': 60, 'output_chunk_length': 1, 'hidden_size': 101, 'layer_size': 1, 'dropout': 0.13631106801849693, 'batch_size': 75, 'lr': 0.0007808723643616565, 'weight_decay': 0.00027863373850457984, 'loss_fn': 'mae', 'optimizer': 'Adam'}\n",
      "\n",
      "Training the model...\n",
      "Train set: 6647 samples\n",
      "Validation set: 1662 samples\n"
     ]
    },
    {
     "name": "stderr",
     "output_type": "stream",
     "text": [
      "[I 2025-05-25 20:08:16,786] Trial 46 pruned. Trial was pruned at epoch 0.\n",
      "Specified future encoders in `add_encoders` at model creation but model does not accept future covariates. future encoders will be ignored.\n",
      "/home/eduardo/Documentos/Water-Cycle-Neural-Network/venv/lib/python3.12/site-packages/torch/nn/modules/rnn.py:123: UserWarning: dropout option adds dropout after all but last recurrent layer, so non-zero dropout expects num_layers greater than 1, but got dropout=0.12477606880421253 and num_layers=1\n",
      "  warnings.warn(\n",
      "GPU available: True (cuda), used: True\n",
      "TPU available: False, using: 0 TPU cores\n",
      "HPU available: False, using: 0 HPUs\n",
      "LOCAL_RANK: 0 - CUDA_VISIBLE_DEVICES: [0]\n"
     ]
    },
    {
     "name": "stdout",
     "output_type": "stream",
     "text": [
      "Current value: 0.21814421012382565, Current params: {'input_chunk_length': 60, 'output_chunk_length': 1, 'hidden_size': 101, 'layer_size': 1, 'dropout': 0.13631106801849693, 'batch_size': 75, 'lr': 0.0007808723643616565, 'weight_decay': 0.00027863373850457984, 'loss_fn': 'mae', 'optimizer': 'Adam'}\n",
      "Best value: 0.10469268623092738, Best params: {'input_chunk_length': 61, 'output_chunk_length': 1, 'hidden_size': 236, 'layer_size': 1, 'dropout': 0.13961741792700083, 'batch_size': 99, 'lr': 0.0003347901155526305, 'weight_decay': 0.00013192997976271012, 'loss_fn': 'smoothl1', 'optimizer': 'Adam'}\n",
      "\n",
      "Starting Trial 47\n",
      "Hyperparameters: {'input_chunk_length': 55, 'output_chunk_length': 2, 'hidden_size': 85, 'layer_size': 1, 'dropout': 0.12477606880421253, 'batch_size': 68, 'lr': 7.870301959882766e-05, 'weight_decay': 0.0011195458525704593, 'loss_fn': 'mse', 'optimizer': 'RMSprop'}\n",
      "\n",
      "Training the model...\n",
      "Train set: 6647 samples\n",
      "Validation set: 1662 samples\n"
     ]
    },
    {
     "name": "stderr",
     "output_type": "stream",
     "text": [
      "[I 2025-05-25 20:08:19,010] Trial 47 pruned. Trial was pruned at epoch 0.\n",
      "Specified future encoders in `add_encoders` at model creation but model does not accept future covariates. future encoders will be ignored.\n",
      "/home/eduardo/Documentos/Water-Cycle-Neural-Network/venv/lib/python3.12/site-packages/torch/nn/modules/rnn.py:123: UserWarning: dropout option adds dropout after all but last recurrent layer, so non-zero dropout expects num_layers greater than 1, but got dropout=0.2167951794836589 and num_layers=1\n",
      "  warnings.warn(\n",
      "GPU available: True (cuda), used: True\n",
      "TPU available: False, using: 0 TPU cores\n",
      "HPU available: False, using: 0 HPUs\n",
      "LOCAL_RANK: 0 - CUDA_VISIBLE_DEVICES: [0]\n"
     ]
    },
    {
     "name": "stdout",
     "output_type": "stream",
     "text": [
      "Current value: 0.09706116669483388, Current params: {'input_chunk_length': 55, 'output_chunk_length': 2, 'hidden_size': 85, 'layer_size': 1, 'dropout': 0.12477606880421253, 'batch_size': 68, 'lr': 7.870301959882766e-05, 'weight_decay': 0.0011195458525704593, 'loss_fn': 'mse', 'optimizer': 'RMSprop'}\n",
      "Best value: 0.10469268623092738, Best params: {'input_chunk_length': 61, 'output_chunk_length': 1, 'hidden_size': 236, 'layer_size': 1, 'dropout': 0.13961741792700083, 'batch_size': 99, 'lr': 0.0003347901155526305, 'weight_decay': 0.00013192997976271012, 'loss_fn': 'smoothl1', 'optimizer': 'Adam'}\n",
      "\n",
      "Starting Trial 48\n",
      "Hyperparameters: {'input_chunk_length': 52, 'output_chunk_length': 4, 'hidden_size': 102, 'layer_size': 1, 'dropout': 0.2167951794836589, 'batch_size': 79, 'lr': 0.00015480896532674482, 'weight_decay': 0.0006354221671272131, 'loss_fn': 'smoothl1', 'optimizer': 'Adam'}\n",
      "\n",
      "Training the model...\n",
      "Train set: 6647 samples\n",
      "Validation set: 1662 samples\n"
     ]
    },
    {
     "name": "stderr",
     "output_type": "stream",
     "text": [
      "[I 2025-05-25 20:08:21,089] Trial 48 pruned. Trial was pruned at epoch 0.\n"
     ]
    },
    {
     "name": "stdout",
     "output_type": "stream",
     "text": [
      "Current value: 0.054727236933589135, Current params: {'input_chunk_length': 52, 'output_chunk_length': 4, 'hidden_size': 102, 'layer_size': 1, 'dropout': 0.2167951794836589, 'batch_size': 79, 'lr': 0.00015480896532674482, 'weight_decay': 0.0006354221671272131, 'loss_fn': 'smoothl1', 'optimizer': 'Adam'}\n",
      "Best value: 0.10469268623092738, Best params: {'input_chunk_length': 61, 'output_chunk_length': 1, 'hidden_size': 236, 'layer_size': 1, 'dropout': 0.13961741792700083, 'batch_size': 99, 'lr': 0.0003347901155526305, 'weight_decay': 0.00013192997976271012, 'loss_fn': 'smoothl1', 'optimizer': 'Adam'}\n",
      "\n",
      "Starting Trial 49\n",
      "Hyperparameters: {'input_chunk_length': 61, 'output_chunk_length': 3, 'hidden_size': 74, 'layer_size': 1, 'dropout': 0.17769534151010713, 'batch_size': 128, 'lr': 0.001245110069112041, 'weight_decay': 0.00016848238848707507, 'loss_fn': 'smoothl1', 'optimizer': 'Adam'}\n",
      "\n",
      "Training the model...\n",
      "Train set: 6647 samples\n",
      "Validation set: 1662 samples\n"
     ]
    },
    {
     "name": "stderr",
     "output_type": "stream",
     "text": [
      "Specified future encoders in `add_encoders` at model creation but model does not accept future covariates. future encoders will be ignored.\n",
      "/home/eduardo/Documentos/Water-Cycle-Neural-Network/venv/lib/python3.12/site-packages/torch/nn/modules/rnn.py:123: UserWarning: dropout option adds dropout after all but last recurrent layer, so non-zero dropout expects num_layers greater than 1, but got dropout=0.17769534151010713 and num_layers=1\n",
      "  warnings.warn(\n",
      "GPU available: True (cuda), used: True\n",
      "TPU available: False, using: 0 TPU cores\n",
      "HPU available: False, using: 0 HPUs\n",
      "LOCAL_RANK: 0 - CUDA_VISIBLE_DEVICES: [0]\n",
      "Metric val_loss improved. New best score: 0.047\n",
      "Metric val_loss improved by 0.008 >= min_delta = 0.0005. New best score: 0.039\n",
      "Metric val_loss improved by 0.011 >= min_delta = 0.0005. New best score: 0.029\n",
      "Metric val_loss improved by 0.003 >= min_delta = 0.0005. New best score: 0.026\n",
      "Metric val_loss improved by 0.003 >= min_delta = 0.0005. New best score: 0.023\n",
      "Metric val_loss improved by 0.002 >= min_delta = 0.0005. New best score: 0.021\n",
      "Metric val_loss improved by 0.002 >= min_delta = 0.0005. New best score: 0.020\n",
      "Metric val_loss improved by 0.001 >= min_delta = 0.0005. New best score: 0.019\n",
      "Metric val_loss improved by 0.001 >= min_delta = 0.0005. New best score: 0.018\n",
      "Metric val_loss improved by 0.001 >= min_delta = 0.0005. New best score: 0.018\n",
      "Metric val_loss improved by 0.001 >= min_delta = 0.0005. New best score: 0.017\n",
      "Metric val_loss improved by 0.001 >= min_delta = 0.0005. New best score: 0.016\n",
      "Metric val_loss improved by 0.001 >= min_delta = 0.0005. New best score: 0.016\n",
      "`Trainer.fit` stopped: `max_epochs=30` reached.\n",
      "/home/eduardo/Documentos/Water-Cycle-Neural-Network/venv/lib/python3.12/site-packages/torch/nn/modules/rnn.py:123: UserWarning: dropout option adds dropout after all but last recurrent layer, so non-zero dropout expects num_layers greater than 1, but got dropout=0.17769534151010713 and num_layers=1\n",
      "  warnings.warn(\n",
      "GPU available: True (cuda), used: True\n",
      "TPU available: False, using: 0 TPU cores\n",
      "HPU available: False, using: 0 HPUs\n",
      "LOCAL_RANK: 0 - CUDA_VISIBLE_DEVICES: [0]\n",
      "/home/eduardo/Documentos/Water-Cycle-Neural-Network/venv/lib/python3.12/site-packages/pytorch_lightning/trainer/connectors/data_connector.py:425: The 'predict_dataloader' does not have many workers which may be a bottleneck. Consider increasing the value of the `num_workers` argument` to `num_workers=11` in the `DataLoader` to improve performance.\n"
     ]
    },
    {
     "name": "stdout",
     "output_type": "stream",
     "text": [
      "Model loaded from checkpoint for trial 49\n"
     ]
    },
    {
     "name": "stderr",
     "output_type": "stream",
     "text": [
      "[I 2025-05-25 20:11:45,793] Trial 49 finished with value: 0.11972461631925484 and parameters: {'input_chunk_length': 61, 'output_chunk_length': 3, 'hidden_size': 74, 'layer_size': 1, 'dropout': 0.17769534151010713, 'batch_size': 128, 'lr': 0.001245110069112041, 'weight_decay': 0.00016848238848707507, 'loss_fn': 'smoothl1', 'optimizer': 'Adam'}. Best is trial 42 with value: 0.10469268623092738.\n",
      "Specified future encoders in `add_encoders` at model creation but model does not accept future covariates. future encoders will be ignored.\n",
      "GPU available: True (cuda), used: True\n",
      "TPU available: False, using: 0 TPU cores\n",
      "HPU available: False, using: 0 HPUs\n",
      "LOCAL_RANK: 0 - CUDA_VISIBLE_DEVICES: [0]\n"
     ]
    },
    {
     "name": "stdout",
     "output_type": "stream",
     "text": [
      "Starting time series verification for consistency...\n",
      "\n",
      "Performance metrics:\n",
      "                                    MSE        RMSE         MAE          R2  \\\n",
      "Temperature                    7.843091    2.800552    2.243955    0.743226   \n",
      "Precipitation_accumulated    485.321097   22.030004   17.310354 -148.489099   \n",
      "Humidity                      67.823456    8.235500    6.825506    0.538622   \n",
      "Wind_Speed_kmh                 1.155199    1.074802    0.870019    0.142869   \n",
      "Soil_Moisture              40345.707618  200.862410  161.919345    0.183238   \n",
      "Soil_Temperature               9.827071    3.134816    2.511014    0.388099   \n",
      "Wind_Dir_Sin                   0.533117    0.730149    0.635535    0.027800   \n",
      "Wind_Dir_Cos                   0.359673    0.599727    0.522936    0.023138   \n",
      "\n",
      "                                SMAPE  \n",
      "Temperature                 35.323352  \n",
      "Precipitation_accumulated    3.834061  \n",
      "Humidity                     8.062337  \n",
      "Wind_Speed_kmh              70.837851  \n",
      "Soil_Moisture                1.909375  \n",
      "Soil_Temperature            55.968064  \n",
      "Wind_Dir_Sin               135.374405  \n",
      "Wind_Dir_Cos               146.984792  \n",
      "The MAE for this fold was 0.11972461631925484\n",
      "Results of trial 49 saved in optuna_iteration_metrics/trial_49.json\n",
      "Current value: 0.11972461631925484, Current params: {'input_chunk_length': 61, 'output_chunk_length': 3, 'hidden_size': 74, 'layer_size': 1, 'dropout': 0.17769534151010713, 'batch_size': 128, 'lr': 0.001245110069112041, 'weight_decay': 0.00016848238848707507, 'loss_fn': 'smoothl1', 'optimizer': 'Adam'}\n",
      "Best value: 0.10469268623092738, Best params: {'input_chunk_length': 61, 'output_chunk_length': 1, 'hidden_size': 236, 'layer_size': 1, 'dropout': 0.13961741792700083, 'batch_size': 99, 'lr': 0.0003347901155526305, 'weight_decay': 0.00013192997976271012, 'loss_fn': 'smoothl1', 'optimizer': 'Adam'}\n",
      "\n",
      "Starting Trial 50\n",
      "Hyperparameters: {'input_chunk_length': 59, 'output_chunk_length': 3, 'hidden_size': 71, 'layer_size': 3, 'dropout': 0.22975146606772123, 'batch_size': 130, 'lr': 0.0013995032178246635, 'weight_decay': 0.00022838633862655528, 'loss_fn': 'smoothl1', 'optimizer': 'SGD'}\n",
      "\n",
      "Training the model...\n",
      "Train set: 6647 samples\n",
      "Validation set: 1662 samples\n"
     ]
    },
    {
     "name": "stderr",
     "output_type": "stream",
     "text": [
      "[I 2025-05-25 20:11:48,729] Trial 50 pruned. Trial was pruned at epoch 0.\n",
      "Specified future encoders in `add_encoders` at model creation but model does not accept future covariates. future encoders will be ignored.\n",
      "/home/eduardo/Documentos/Water-Cycle-Neural-Network/venv/lib/python3.12/site-packages/torch/nn/modules/rnn.py:123: UserWarning: dropout option adds dropout after all but last recurrent layer, so non-zero dropout expects num_layers greater than 1, but got dropout=0.18311583425413375 and num_layers=1\n",
      "  warnings.warn(\n",
      "GPU available: True (cuda), used: True\n",
      "TPU available: False, using: 0 TPU cores\n",
      "HPU available: False, using: 0 HPUs\n",
      "LOCAL_RANK: 0 - CUDA_VISIBLE_DEVICES: [0]\n"
     ]
    },
    {
     "name": "stdout",
     "output_type": "stream",
     "text": [
      "Current value: 0.18454705094495324, Current params: {'input_chunk_length': 59, 'output_chunk_length': 3, 'hidden_size': 71, 'layer_size': 3, 'dropout': 0.22975146606772123, 'batch_size': 130, 'lr': 0.0013995032178246635, 'weight_decay': 0.00022838633862655528, 'loss_fn': 'smoothl1', 'optimizer': 'SGD'}\n",
      "Best value: 0.10469268623092738, Best params: {'input_chunk_length': 61, 'output_chunk_length': 1, 'hidden_size': 236, 'layer_size': 1, 'dropout': 0.13961741792700083, 'batch_size': 99, 'lr': 0.0003347901155526305, 'weight_decay': 0.00013192997976271012, 'loss_fn': 'smoothl1', 'optimizer': 'Adam'}\n",
      "\n",
      "Starting Trial 51\n",
      "Hyperparameters: {'input_chunk_length': 57, 'output_chunk_length': 3, 'hidden_size': 114, 'layer_size': 1, 'dropout': 0.18311583425413375, 'batch_size': 106, 'lr': 0.00044692915310659017, 'weight_decay': 0.00015236981196380423, 'loss_fn': 'smoothl1', 'optimizer': 'Adam'}\n",
      "\n",
      "Training the model...\n",
      "Train set: 6647 samples\n",
      "Validation set: 1662 samples\n"
     ]
    },
    {
     "name": "stderr",
     "output_type": "stream",
     "text": [
      "Metric val_loss improved. New best score: 0.042\n",
      "Metric val_loss improved by 0.006 >= min_delta = 0.0005. New best score: 0.036\n",
      "Metric val_loss improved by 0.005 >= min_delta = 0.0005. New best score: 0.031\n",
      "Metric val_loss improved by 0.004 >= min_delta = 0.0005. New best score: 0.027\n",
      "Metric val_loss improved by 0.003 >= min_delta = 0.0005. New best score: 0.023\n",
      "Metric val_loss improved by 0.002 >= min_delta = 0.0005. New best score: 0.021\n",
      "Metric val_loss improved by 0.001 >= min_delta = 0.0005. New best score: 0.020\n",
      "Metric val_loss improved by 0.001 >= min_delta = 0.0005. New best score: 0.019\n",
      "Metric val_loss improved by 0.001 >= min_delta = 0.0005. New best score: 0.019\n",
      "Metric val_loss improved by 0.001 >= min_delta = 0.0005. New best score: 0.018\n",
      "`Trainer.fit` stopped: `max_epochs=30` reached.\n",
      "/home/eduardo/Documentos/Water-Cycle-Neural-Network/venv/lib/python3.12/site-packages/torch/nn/modules/rnn.py:123: UserWarning: dropout option adds dropout after all but last recurrent layer, so non-zero dropout expects num_layers greater than 1, but got dropout=0.18311583425413375 and num_layers=1\n",
      "  warnings.warn(\n",
      "GPU available: True (cuda), used: True\n",
      "TPU available: False, using: 0 TPU cores\n",
      "HPU available: False, using: 0 HPUs\n",
      "LOCAL_RANK: 0 - CUDA_VISIBLE_DEVICES: [0]\n",
      "/home/eduardo/Documentos/Water-Cycle-Neural-Network/venv/lib/python3.12/site-packages/pytorch_lightning/trainer/connectors/data_connector.py:425: The 'predict_dataloader' does not have many workers which may be a bottleneck. Consider increasing the value of the `num_workers` argument` to `num_workers=11` in the `DataLoader` to improve performance.\n"
     ]
    },
    {
     "name": "stdout",
     "output_type": "stream",
     "text": [
      "Model loaded from checkpoint for trial 51\n"
     ]
    },
    {
     "name": "stderr",
     "output_type": "stream",
     "text": [
      "[I 2025-05-25 20:12:32,735] Trial 51 finished with value: 0.1409590495811341 and parameters: {'input_chunk_length': 57, 'output_chunk_length': 3, 'hidden_size': 114, 'layer_size': 1, 'dropout': 0.18311583425413375, 'batch_size': 106, 'lr': 0.00044692915310659017, 'weight_decay': 0.00015236981196380423, 'loss_fn': 'smoothl1', 'optimizer': 'Adam'}. Best is trial 42 with value: 0.10469268623092738.\n",
      "Specified future encoders in `add_encoders` at model creation but model does not accept future covariates. future encoders will be ignored.\n",
      "/home/eduardo/Documentos/Water-Cycle-Neural-Network/venv/lib/python3.12/site-packages/torch/nn/modules/rnn.py:123: UserWarning: dropout option adds dropout after all but last recurrent layer, so non-zero dropout expects num_layers greater than 1, but got dropout=0.14779405244432603 and num_layers=1\n",
      "  warnings.warn(\n",
      "GPU available: True (cuda), used: True\n",
      "TPU available: False, using: 0 TPU cores\n",
      "HPU available: False, using: 0 HPUs\n",
      "LOCAL_RANK: 0 - CUDA_VISIBLE_DEVICES: [0]\n"
     ]
    },
    {
     "name": "stdout",
     "output_type": "stream",
     "text": [
      "Starting time series verification for consistency...\n",
      "\n",
      "Performance metrics:\n",
      "                                    MSE        RMSE         MAE          R2  \\\n",
      "Temperature                   24.917114    4.991705    4.024022    0.182461   \n",
      "Precipitation_accumulated    868.885004   29.476855   25.210179 -264.771203   \n",
      "Humidity                     163.406524   12.783056   10.235008   -0.114133   \n",
      "Wind_Speed_kmh                 1.169355    1.081367    0.875513    0.131804   \n",
      "Soil_Moisture              49324.125035  222.090353  186.493216    0.023325   \n",
      "Soil_Temperature              36.457132    6.037974    5.266588   -1.272242   \n",
      "Wind_Dir_Sin                   0.546686    0.739382    0.661648    0.006113   \n",
      "Wind_Dir_Cos                   0.349378    0.591082    0.505083    0.049304   \n",
      "\n",
      "                                SMAPE  \n",
      "Temperature                 62.326770  \n",
      "Precipitation_accumulated    5.612718  \n",
      "Humidity                    11.938772  \n",
      "Wind_Speed_kmh              71.184483  \n",
      "Soil_Moisture                2.141185  \n",
      "Soil_Temperature           113.714946  \n",
      "Wind_Dir_Sin               148.251525  \n",
      "Wind_Dir_Cos               125.214855  \n",
      "The MAE for this fold was 0.1409590495811341\n",
      "Results of trial 51 saved in optuna_iteration_metrics/trial_51.json\n",
      "Current value: 0.1409590495811341, Current params: {'input_chunk_length': 57, 'output_chunk_length': 3, 'hidden_size': 114, 'layer_size': 1, 'dropout': 0.18311583425413375, 'batch_size': 106, 'lr': 0.00044692915310659017, 'weight_decay': 0.00015236981196380423, 'loss_fn': 'smoothl1', 'optimizer': 'Adam'}\n",
      "Best value: 0.10469268623092738, Best params: {'input_chunk_length': 61, 'output_chunk_length': 1, 'hidden_size': 236, 'layer_size': 1, 'dropout': 0.13961741792700083, 'batch_size': 99, 'lr': 0.0003347901155526305, 'weight_decay': 0.00013192997976271012, 'loss_fn': 'smoothl1', 'optimizer': 'Adam'}\n",
      "\n",
      "Starting Trial 52\n",
      "Hyperparameters: {'input_chunk_length': 61, 'output_chunk_length': 2, 'hidden_size': 79, 'layer_size': 1, 'dropout': 0.14779405244432603, 'batch_size': 122, 'lr': 0.002890416189489565, 'weight_decay': 8.874199119076957e-05, 'loss_fn': 'smoothl1', 'optimizer': 'Adam'}\n",
      "\n",
      "Training the model...\n",
      "Train set: 6647 samples\n",
      "Validation set: 1662 samples\n"
     ]
    },
    {
     "name": "stderr",
     "output_type": "stream",
     "text": [
      "Metric val_loss improved. New best score: 0.035\n",
      "Metric val_loss improved by 0.009 >= min_delta = 0.0005. New best score: 0.026\n",
      "Metric val_loss improved by 0.002 >= min_delta = 0.0005. New best score: 0.024\n",
      "Metric val_loss improved by 0.003 >= min_delta = 0.0005. New best score: 0.021\n",
      "Metric val_loss improved by 0.003 >= min_delta = 0.0005. New best score: 0.017\n",
      "Metric val_loss improved by 0.001 >= min_delta = 0.0005. New best score: 0.017\n",
      "Metric val_loss improved by 0.001 >= min_delta = 0.0005. New best score: 0.016\n",
      "Monitored metric val_loss did not improve in the last 15 records. Best score: 0.016. Signaling Trainer to stop.\n",
      "/home/eduardo/Documentos/Water-Cycle-Neural-Network/venv/lib/python3.12/site-packages/torch/nn/modules/rnn.py:123: UserWarning: dropout option adds dropout after all but last recurrent layer, so non-zero dropout expects num_layers greater than 1, but got dropout=0.14779405244432603 and num_layers=1\n",
      "  warnings.warn(\n",
      "GPU available: True (cuda), used: True\n",
      "TPU available: False, using: 0 TPU cores\n",
      "HPU available: False, using: 0 HPUs\n",
      "LOCAL_RANK: 0 - CUDA_VISIBLE_DEVICES: [0]\n",
      "/home/eduardo/Documentos/Water-Cycle-Neural-Network/venv/lib/python3.12/site-packages/pytorch_lightning/trainer/connectors/data_connector.py:425: The 'predict_dataloader' does not have many workers which may be a bottleneck. Consider increasing the value of the `num_workers` argument` to `num_workers=11` in the `DataLoader` to improve performance.\n"
     ]
    },
    {
     "name": "stdout",
     "output_type": "stream",
     "text": [
      "Model loaded from checkpoint for trial 52\n"
     ]
    },
    {
     "name": "stderr",
     "output_type": "stream",
     "text": [
      "[I 2025-05-25 20:14:07,022] Trial 52 finished with value: 0.12458394399267281 and parameters: {'input_chunk_length': 61, 'output_chunk_length': 2, 'hidden_size': 79, 'layer_size': 1, 'dropout': 0.14779405244432603, 'batch_size': 122, 'lr': 0.002890416189489565, 'weight_decay': 8.874199119076957e-05, 'loss_fn': 'smoothl1', 'optimizer': 'Adam'}. Best is trial 42 with value: 0.10469268623092738.\n",
      "Specified future encoders in `add_encoders` at model creation but model does not accept future covariates. future encoders will be ignored.\n",
      "/home/eduardo/Documentos/Water-Cycle-Neural-Network/venv/lib/python3.12/site-packages/torch/nn/modules/rnn.py:123: UserWarning: dropout option adds dropout after all but last recurrent layer, so non-zero dropout expects num_layers greater than 1, but got dropout=0.12237528433286239 and num_layers=1\n",
      "  warnings.warn(\n",
      "GPU available: True (cuda), used: True\n",
      "TPU available: False, using: 0 TPU cores\n",
      "HPU available: False, using: 0 HPUs\n",
      "LOCAL_RANK: 0 - CUDA_VISIBLE_DEVICES: [0]\n"
     ]
    },
    {
     "name": "stdout",
     "output_type": "stream",
     "text": [
      "Starting time series verification for consistency...\n",
      "\n",
      "Performance metrics:\n",
      "                                    MSE        RMSE         MAE           R2  \\\n",
      "Temperature                    7.021823    2.649872    2.106662     0.770027   \n",
      "Precipitation_accumulated   4435.133966   66.596801   54.604490 -1362.713256   \n",
      "Humidity                      58.488188    7.647757    6.142739     0.601948   \n",
      "Wind_Speed_kmh                 1.129759    1.062901    0.859502     0.162060   \n",
      "Soil_Moisture              73309.385286  270.757060  222.731943    -0.476228   \n",
      "Soil_Temperature               8.472545    2.910764    2.469210     0.472358   \n",
      "Wind_Dir_Sin                   0.489335    0.699525    0.581379     0.108529   \n",
      "Wind_Dir_Cos                   0.342460    0.585201    0.493918     0.069379   \n",
      "\n",
      "                                SMAPE  \n",
      "Temperature                 33.804139  \n",
      "Precipitation_accumulated   12.860025  \n",
      "Humidity                     7.273036  \n",
      "Wind_Speed_kmh              69.835908  \n",
      "Soil_Moisture                2.603506  \n",
      "Soil_Temperature            42.673926  \n",
      "Wind_Dir_Sin               119.522667  \n",
      "Wind_Dir_Cos               122.672360  \n",
      "The MAE for this fold was 0.12458394399267281\n",
      "Results of trial 52 saved in optuna_iteration_metrics/trial_52.json\n",
      "Current value: 0.12458394399267281, Current params: {'input_chunk_length': 61, 'output_chunk_length': 2, 'hidden_size': 79, 'layer_size': 1, 'dropout': 0.14779405244432603, 'batch_size': 122, 'lr': 0.002890416189489565, 'weight_decay': 8.874199119076957e-05, 'loss_fn': 'smoothl1', 'optimizer': 'Adam'}\n",
      "Best value: 0.10469268623092738, Best params: {'input_chunk_length': 61, 'output_chunk_length': 1, 'hidden_size': 236, 'layer_size': 1, 'dropout': 0.13961741792700083, 'batch_size': 99, 'lr': 0.0003347901155526305, 'weight_decay': 0.00013192997976271012, 'loss_fn': 'smoothl1', 'optimizer': 'Adam'}\n",
      "\n",
      "Starting Trial 53\n",
      "Hyperparameters: {'input_chunk_length': 61, 'output_chunk_length': 2, 'hidden_size': 52, 'layer_size': 1, 'dropout': 0.12237528433286239, 'batch_size': 123, 'lr': 0.0026442190788145215, 'weight_decay': 7.021593192590757e-05, 'loss_fn': 'smoothl1', 'optimizer': 'Adam'}\n",
      "\n",
      "Training the model...\n",
      "Train set: 6647 samples\n",
      "Validation set: 1662 samples\n"
     ]
    },
    {
     "name": "stderr",
     "output_type": "stream",
     "text": [
      "Metric val_loss improved. New best score: 0.042\n",
      "Metric val_loss improved by 0.009 >= min_delta = 0.0005. New best score: 0.033\n",
      "Metric val_loss improved by 0.010 >= min_delta = 0.0005. New best score: 0.023\n",
      "Metric val_loss improved by 0.002 >= min_delta = 0.0005. New best score: 0.020\n",
      "Metric val_loss improved by 0.001 >= min_delta = 0.0005. New best score: 0.019\n",
      "Metric val_loss improved by 0.001 >= min_delta = 0.0005. New best score: 0.018\n",
      "Metric val_loss improved by 0.001 >= min_delta = 0.0005. New best score: 0.018\n",
      "Metric val_loss improved by 0.001 >= min_delta = 0.0005. New best score: 0.017\n",
      "Metric val_loss improved by 0.001 >= min_delta = 0.0005. New best score: 0.016\n",
      "Metric val_loss improved by 0.001 >= min_delta = 0.0005. New best score: 0.015\n",
      "`Trainer.fit` stopped: `max_epochs=30` reached.\n",
      "/home/eduardo/Documentos/Water-Cycle-Neural-Network/venv/lib/python3.12/site-packages/torch/nn/modules/rnn.py:123: UserWarning: dropout option adds dropout after all but last recurrent layer, so non-zero dropout expects num_layers greater than 1, but got dropout=0.12237528433286239 and num_layers=1\n",
      "  warnings.warn(\n",
      "GPU available: True (cuda), used: True\n",
      "TPU available: False, using: 0 TPU cores\n",
      "HPU available: False, using: 0 HPUs\n",
      "LOCAL_RANK: 0 - CUDA_VISIBLE_DEVICES: [0]\n",
      "/home/eduardo/Documentos/Water-Cycle-Neural-Network/venv/lib/python3.12/site-packages/pytorch_lightning/trainer/connectors/data_connector.py:425: The 'predict_dataloader' does not have many workers which may be a bottleneck. Consider increasing the value of the `num_workers` argument` to `num_workers=11` in the `DataLoader` to improve performance.\n"
     ]
    },
    {
     "name": "stdout",
     "output_type": "stream",
     "text": [
      "Model loaded from checkpoint for trial 53\n"
     ]
    },
    {
     "name": "stderr",
     "output_type": "stream",
     "text": [
      "[I 2025-05-25 20:14:48,599] Trial 53 finished with value: 0.1189477436857172 and parameters: {'input_chunk_length': 61, 'output_chunk_length': 2, 'hidden_size': 52, 'layer_size': 1, 'dropout': 0.12237528433286239, 'batch_size': 123, 'lr': 0.0026442190788145215, 'weight_decay': 7.021593192590757e-05, 'loss_fn': 'smoothl1', 'optimizer': 'Adam'}. Best is trial 42 with value: 0.10469268623092738.\n",
      "Specified future encoders in `add_encoders` at model creation but model does not accept future covariates. future encoders will be ignored.\n",
      "/home/eduardo/Documentos/Water-Cycle-Neural-Network/venv/lib/python3.12/site-packages/torch/nn/modules/rnn.py:123: UserWarning: dropout option adds dropout after all but last recurrent layer, so non-zero dropout expects num_layers greater than 1, but got dropout=0.14762558930481867 and num_layers=1\n",
      "  warnings.warn(\n",
      "GPU available: True (cuda), used: True\n",
      "TPU available: False, using: 0 TPU cores\n",
      "HPU available: False, using: 0 HPUs\n",
      "LOCAL_RANK: 0 - CUDA_VISIBLE_DEVICES: [0]\n"
     ]
    },
    {
     "name": "stdout",
     "output_type": "stream",
     "text": [
      "Starting time series verification for consistency...\n",
      "\n",
      "Performance metrics:\n",
      "                                    MSE        RMSE         MAE          R2  \\\n",
      "Temperature                    7.108741    2.666222    2.131719    0.767180   \n",
      "Precipitation_accumulated   1404.521092   37.476941   31.202352 -430.861596   \n",
      "Humidity                      45.094990    6.715280    5.344008    0.693098   \n",
      "Wind_Speed_kmh                 1.052283    1.025808    0.836296    0.219524   \n",
      "Soil_Moisture              45228.053979  212.668883  173.509319    0.089245   \n",
      "Soil_Temperature              11.756615    3.428792    2.970318    0.267837   \n",
      "Wind_Dir_Sin                   0.522282    0.722691    0.620777    0.048505   \n",
      "Wind_Dir_Cos                   0.344622    0.587045    0.491236    0.063503   \n",
      "\n",
      "                                SMAPE  \n",
      "Temperature                 33.371441  \n",
      "Precipitation_accumulated    7.043073  \n",
      "Humidity                     6.452249  \n",
      "Wind_Speed_kmh              68.678831  \n",
      "Soil_Moisture                2.020169  \n",
      "Soil_Temperature            60.052558  \n",
      "Wind_Dir_Sin               132.316545  \n",
      "Wind_Dir_Cos               124.592287  \n",
      "The MAE for this fold was 0.1189477436857172\n",
      "Results of trial 53 saved in optuna_iteration_metrics/trial_53.json\n",
      "Current value: 0.1189477436857172, Current params: {'input_chunk_length': 61, 'output_chunk_length': 2, 'hidden_size': 52, 'layer_size': 1, 'dropout': 0.12237528433286239, 'batch_size': 123, 'lr': 0.0026442190788145215, 'weight_decay': 7.021593192590757e-05, 'loss_fn': 'smoothl1', 'optimizer': 'Adam'}\n",
      "Best value: 0.10469268623092738, Best params: {'input_chunk_length': 61, 'output_chunk_length': 1, 'hidden_size': 236, 'layer_size': 1, 'dropout': 0.13961741792700083, 'batch_size': 99, 'lr': 0.0003347901155526305, 'weight_decay': 0.00013192997976271012, 'loss_fn': 'smoothl1', 'optimizer': 'Adam'}\n",
      "\n",
      "Starting Trial 54\n",
      "Hyperparameters: {'input_chunk_length': 61, 'output_chunk_length': 2, 'hidden_size': 53, 'layer_size': 1, 'dropout': 0.14762558930481867, 'batch_size': 121, 'lr': 0.0030725471398168522, 'weight_decay': 7.633980433029726e-05, 'loss_fn': 'mae', 'optimizer': 'Adam'}\n",
      "\n",
      "Training the model...\n",
      "Train set: 6647 samples\n",
      "Validation set: 1662 samples\n"
     ]
    },
    {
     "name": "stderr",
     "output_type": "stream",
     "text": [
      "[I 2025-05-25 20:14:50,385] Trial 54 pruned. Trial was pruned at epoch 0.\n"
     ]
    },
    {
     "name": "stdout",
     "output_type": "stream",
     "text": [
      "Current value: 0.22632161068177475, Current params: {'input_chunk_length': 61, 'output_chunk_length': 2, 'hidden_size': 53, 'layer_size': 1, 'dropout': 0.14762558930481867, 'batch_size': 121, 'lr': 0.0030725471398168522, 'weight_decay': 7.633980433029726e-05, 'loss_fn': 'mae', 'optimizer': 'Adam'}\n",
      "Best value: 0.10469268623092738, Best params: {'input_chunk_length': 61, 'output_chunk_length': 1, 'hidden_size': 236, 'layer_size': 1, 'dropout': 0.13961741792700083, 'batch_size': 99, 'lr': 0.0003347901155526305, 'weight_decay': 0.00013192997976271012, 'loss_fn': 'smoothl1', 'optimizer': 'Adam'}\n",
      "\n",
      "Starting Trial 55\n",
      "Hyperparameters: {'input_chunk_length': 51, 'output_chunk_length': 2, 'hidden_size': 49, 'layer_size': 1, 'dropout': 0.13378924889818045, 'batch_size': 140, 'lr': 0.001746998517535273, 'weight_decay': 4.056466237492855e-05, 'loss_fn': 'smoothl1', 'optimizer': 'Adam'}\n",
      "\n",
      "Training the model...\n",
      "Train set: 6647 samples\n",
      "Validation set: 1662 samples\n"
     ]
    },
    {
     "name": "stderr",
     "output_type": "stream",
     "text": [
      "Specified future encoders in `add_encoders` at model creation but model does not accept future covariates. future encoders will be ignored.\n",
      "/home/eduardo/Documentos/Water-Cycle-Neural-Network/venv/lib/python3.12/site-packages/torch/nn/modules/rnn.py:123: UserWarning: dropout option adds dropout after all but last recurrent layer, so non-zero dropout expects num_layers greater than 1, but got dropout=0.13378924889818045 and num_layers=1\n",
      "  warnings.warn(\n",
      "GPU available: True (cuda), used: True\n",
      "TPU available: False, using: 0 TPU cores\n",
      "HPU available: False, using: 0 HPUs\n",
      "LOCAL_RANK: 0 - CUDA_VISIBLE_DEVICES: [0]\n",
      "Metric val_loss improved. New best score: 0.046\n",
      "Metric val_loss improved by 0.009 >= min_delta = 0.0005. New best score: 0.037\n",
      "Metric val_loss improved by 0.009 >= min_delta = 0.0005. New best score: 0.029\n",
      "Metric val_loss improved by 0.003 >= min_delta = 0.0005. New best score: 0.026\n",
      "Metric val_loss improved by 0.001 >= min_delta = 0.0005. New best score: 0.024\n",
      "Metric val_loss improved by 0.002 >= min_delta = 0.0005. New best score: 0.023\n",
      "Metric val_loss improved by 0.002 >= min_delta = 0.0005. New best score: 0.021\n",
      "Metric val_loss improved by 0.001 >= min_delta = 0.0005. New best score: 0.019\n",
      "Metric val_loss improved by 0.001 >= min_delta = 0.0005. New best score: 0.019\n",
      "Metric val_loss improved by 0.001 >= min_delta = 0.0005. New best score: 0.018\n",
      "Metric val_loss improved by 0.001 >= min_delta = 0.0005. New best score: 0.017\n",
      "Metric val_loss improved by 0.001 >= min_delta = 0.0005. New best score: 0.017\n",
      "Metric val_loss improved by 0.001 >= min_delta = 0.0005. New best score: 0.016\n",
      "`Trainer.fit` stopped: `max_epochs=30` reached.\n",
      "/home/eduardo/Documentos/Water-Cycle-Neural-Network/venv/lib/python3.12/site-packages/torch/nn/modules/rnn.py:123: UserWarning: dropout option adds dropout after all but last recurrent layer, so non-zero dropout expects num_layers greater than 1, but got dropout=0.13378924889818045 and num_layers=1\n",
      "  warnings.warn(\n",
      "GPU available: True (cuda), used: True\n",
      "TPU available: False, using: 0 TPU cores\n",
      "HPU available: False, using: 0 HPUs\n",
      "LOCAL_RANK: 0 - CUDA_VISIBLE_DEVICES: [0]\n",
      "/home/eduardo/Documentos/Water-Cycle-Neural-Network/venv/lib/python3.12/site-packages/pytorch_lightning/trainer/connectors/data_connector.py:425: The 'predict_dataloader' does not have many workers which may be a bottleneck. Consider increasing the value of the `num_workers` argument` to `num_workers=11` in the `DataLoader` to improve performance.\n"
     ]
    },
    {
     "name": "stdout",
     "output_type": "stream",
     "text": [
      "Model loaded from checkpoint for trial 55\n"
     ]
    },
    {
     "name": "stderr",
     "output_type": "stream",
     "text": [
      "[I 2025-05-25 20:16:21,842] Trial 55 finished with value: 0.12668132144539745 and parameters: {'input_chunk_length': 51, 'output_chunk_length': 2, 'hidden_size': 49, 'layer_size': 1, 'dropout': 0.13378924889818045, 'batch_size': 140, 'lr': 0.001746998517535273, 'weight_decay': 4.056466237492855e-05, 'loss_fn': 'smoothl1', 'optimizer': 'Adam'}. Best is trial 42 with value: 0.10469268623092738.\n",
      "Specified future encoders in `add_encoders` at model creation but model does not accept future covariates. future encoders will be ignored.\n",
      "/home/eduardo/Documentos/Water-Cycle-Neural-Network/venv/lib/python3.12/site-packages/torch/nn/modules/rnn.py:123: UserWarning: dropout option adds dropout after all but last recurrent layer, so non-zero dropout expects num_layers greater than 1, but got dropout=0.12426087371937962 and num_layers=1\n",
      "  warnings.warn(\n",
      "GPU available: True (cuda), used: True\n",
      "TPU available: False, using: 0 TPU cores\n",
      "HPU available: False, using: 0 HPUs\n",
      "LOCAL_RANK: 0 - CUDA_VISIBLE_DEVICES: [0]\n"
     ]
    },
    {
     "name": "stdout",
     "output_type": "stream",
     "text": [
      "Starting time series verification for consistency...\n",
      "\n",
      "Performance metrics:\n",
      "                                     MSE        RMSE         MAE          R2  \\\n",
      "Temperature                     5.319939    2.306499    1.843275    0.825241   \n",
      "Precipitation_accumulated    2423.968714   49.233817   41.513652 -731.649570   \n",
      "Humidity                       58.696271    7.661349    6.002984    0.599562   \n",
      "Wind_Speed_kmh                  1.046191    1.022835    0.829612    0.221883   \n",
      "Soil_Moisture              179711.420005  423.923838  353.051484   -2.441845   \n",
      "Soil_Temperature               11.629208    3.410163    2.867071    0.276140   \n",
      "Wind_Dir_Sin                    0.510441    0.714451    0.611851    0.074015   \n",
      "Wind_Dir_Cos                    0.352348    0.593589    0.505039    0.039317   \n",
      "\n",
      "                                SMAPE  \n",
      "Temperature                 31.040710  \n",
      "Precipitation_accumulated    9.498471  \n",
      "Humidity                     7.154058  \n",
      "Wind_Speed_kmh              68.390239  \n",
      "Soil_Moisture                4.023635  \n",
      "Soil_Temperature            62.698400  \n",
      "Wind_Dir_Sin               130.092877  \n",
      "Wind_Dir_Cos               133.419736  \n",
      "The MAE for this fold was 0.12668132144539745\n",
      "Results of trial 55 saved in optuna_iteration_metrics/trial_55.json\n",
      "Current value: 0.12668132144539745, Current params: {'input_chunk_length': 51, 'output_chunk_length': 2, 'hidden_size': 49, 'layer_size': 1, 'dropout': 0.13378924889818045, 'batch_size': 140, 'lr': 0.001746998517535273, 'weight_decay': 4.056466237492855e-05, 'loss_fn': 'smoothl1', 'optimizer': 'Adam'}\n",
      "Best value: 0.10469268623092738, Best params: {'input_chunk_length': 61, 'output_chunk_length': 1, 'hidden_size': 236, 'layer_size': 1, 'dropout': 0.13961741792700083, 'batch_size': 99, 'lr': 0.0003347901155526305, 'weight_decay': 0.00013192997976271012, 'loss_fn': 'smoothl1', 'optimizer': 'Adam'}\n",
      "\n",
      "Starting Trial 56\n",
      "Hyperparameters: {'input_chunk_length': 57, 'output_chunk_length': 5, 'hidden_size': 81, 'layer_size': 1, 'dropout': 0.12426087371937962, 'batch_size': 156, 'lr': 0.002979841405753369, 'weight_decay': 8.601966307775872e-05, 'loss_fn': 'smoothl1', 'optimizer': 'Adam'}\n",
      "\n",
      "Training the model...\n",
      "Train set: 6647 samples\n",
      "Validation set: 1662 samples\n"
     ]
    },
    {
     "name": "stderr",
     "output_type": "stream",
     "text": [
      "Metric val_loss improved. New best score: 0.044\n",
      "Metric val_loss improved by 0.013 >= min_delta = 0.0005. New best score: 0.032\n",
      "Metric val_loss improved by 0.003 >= min_delta = 0.0005. New best score: 0.029\n",
      "Metric val_loss improved by 0.002 >= min_delta = 0.0005. New best score: 0.027\n",
      "Metric val_loss improved by 0.005 >= min_delta = 0.0005. New best score: 0.022\n",
      "Metric val_loss improved by 0.002 >= min_delta = 0.0005. New best score: 0.021\n",
      "Metric val_loss improved by 0.002 >= min_delta = 0.0005. New best score: 0.018\n",
      "Metric val_loss improved by 0.001 >= min_delta = 0.0005. New best score: 0.018\n",
      "Monitored metric val_loss did not improve in the last 15 records. Best score: 0.018. Signaling Trainer to stop.\n",
      "/home/eduardo/Documentos/Water-Cycle-Neural-Network/venv/lib/python3.12/site-packages/torch/nn/modules/rnn.py:123: UserWarning: dropout option adds dropout after all but last recurrent layer, so non-zero dropout expects num_layers greater than 1, but got dropout=0.12426087371937962 and num_layers=1\n",
      "  warnings.warn(\n",
      "GPU available: True (cuda), used: True\n",
      "TPU available: False, using: 0 TPU cores\n",
      "HPU available: False, using: 0 HPUs\n",
      "LOCAL_RANK: 0 - CUDA_VISIBLE_DEVICES: [0]\n",
      "/home/eduardo/Documentos/Water-Cycle-Neural-Network/venv/lib/python3.12/site-packages/pytorch_lightning/trainer/connectors/data_connector.py:425: The 'predict_dataloader' does not have many workers which may be a bottleneck. Consider increasing the value of the `num_workers` argument` to `num_workers=11` in the `DataLoader` to improve performance.\n"
     ]
    },
    {
     "name": "stdout",
     "output_type": "stream",
     "text": [
      "Model loaded from checkpoint for trial 56\n"
     ]
    },
    {
     "name": "stderr",
     "output_type": "stream",
     "text": [
      "[I 2025-05-25 20:16:50,247] Trial 56 finished with value: 0.13375374792630385 and parameters: {'input_chunk_length': 57, 'output_chunk_length': 5, 'hidden_size': 81, 'layer_size': 1, 'dropout': 0.12426087371937962, 'batch_size': 156, 'lr': 0.002979841405753369, 'weight_decay': 8.601966307775872e-05, 'loss_fn': 'smoothl1', 'optimizer': 'Adam'}. Best is trial 42 with value: 0.10469268623092738.\n",
      "Specified future encoders in `add_encoders` at model creation but model does not accept future covariates. future encoders will be ignored.\n",
      "/home/eduardo/Documentos/Water-Cycle-Neural-Network/venv/lib/python3.12/site-packages/torch/nn/modules/rnn.py:123: UserWarning: dropout option adds dropout after all but last recurrent layer, so non-zero dropout expects num_layers greater than 1, but got dropout=0.15669584135685366 and num_layers=1\n",
      "  warnings.warn(\n",
      "GPU available: True (cuda), used: True\n",
      "TPU available: False, using: 0 TPU cores\n",
      "HPU available: False, using: 0 HPUs\n",
      "LOCAL_RANK: 0 - CUDA_VISIBLE_DEVICES: [0]\n"
     ]
    },
    {
     "name": "stdout",
     "output_type": "stream",
     "text": [
      "Starting time series verification for consistency...\n",
      "\n",
      "Performance metrics:\n",
      "                                     MSE        RMSE         MAE          R2  \\\n",
      "Temperature                    10.363445    3.219231    2.622052    0.660392   \n",
      "Precipitation_accumulated    1456.610653   38.165569   29.116292 -446.094523   \n",
      "Humidity                      109.409723   10.459910    8.463595    0.254955   \n",
      "Wind_Speed_kmh                  1.311495    1.145205    0.885510    0.027269   \n",
      "Soil_Moisture              103134.207106  321.145150  264.455555   -1.065283   \n",
      "Soil_Temperature               11.435447    3.381634    2.773215    0.287662   \n",
      "Wind_Dir_Sin                    0.617434    0.785770    0.702116   -0.123770   \n",
      "Wind_Dir_Cos                    0.357144    0.597615    0.510943    0.028874   \n",
      "\n",
      "                                SMAPE  \n",
      "Temperature                 39.856562  \n",
      "Precipitation_accumulated    6.598138  \n",
      "Humidity                     9.937834  \n",
      "Wind_Speed_kmh              74.369427  \n",
      "Soil_Moisture                3.143487  \n",
      "Soil_Temperature            50.262344  \n",
      "Wind_Dir_Sin               153.766441  \n",
      "Wind_Dir_Cos               126.745878  \n",
      "The MAE for this fold was 0.13375374792630385\n",
      "Results of trial 56 saved in optuna_iteration_metrics/trial_56.json\n",
      "Current value: 0.13375374792630385, Current params: {'input_chunk_length': 57, 'output_chunk_length': 5, 'hidden_size': 81, 'layer_size': 1, 'dropout': 0.12426087371937962, 'batch_size': 156, 'lr': 0.002979841405753369, 'weight_decay': 8.601966307775872e-05, 'loss_fn': 'smoothl1', 'optimizer': 'Adam'}\n",
      "Best value: 0.10469268623092738, Best params: {'input_chunk_length': 61, 'output_chunk_length': 1, 'hidden_size': 236, 'layer_size': 1, 'dropout': 0.13961741792700083, 'batch_size': 99, 'lr': 0.0003347901155526305, 'weight_decay': 0.00013192997976271012, 'loss_fn': 'smoothl1', 'optimizer': 'Adam'}\n",
      "\n",
      "Starting Trial 57\n",
      "Hyperparameters: {'input_chunk_length': 56, 'output_chunk_length': 1, 'hidden_size': 72, 'layer_size': 1, 'dropout': 0.15669584135685366, 'batch_size': 126, 'lr': 0.0011020110645907103, 'weight_decay': 0.00027675783107493677, 'loss_fn': 'mse', 'optimizer': 'RMSprop'}\n",
      "\n",
      "Training the model...\n",
      "Train set: 6647 samples\n",
      "Validation set: 1662 samples\n"
     ]
    },
    {
     "name": "stderr",
     "output_type": "stream",
     "text": [
      "[I 2025-05-25 20:16:51,953] Trial 57 pruned. Trial was pruned at epoch 0.\n",
      "Specified future encoders in `add_encoders` at model creation but model does not accept future covariates. future encoders will be ignored.\n",
      "/home/eduardo/Documentos/Water-Cycle-Neural-Network/venv/lib/python3.12/site-packages/torch/nn/modules/rnn.py:123: UserWarning: dropout option adds dropout after all but last recurrent layer, so non-zero dropout expects num_layers greater than 1, but got dropout=0.24951726830323417 and num_layers=1\n",
      "  warnings.warn(\n",
      "GPU available: True (cuda), used: True\n",
      "TPU available: False, using: 0 TPU cores\n",
      "HPU available: False, using: 0 HPUs\n",
      "LOCAL_RANK: 0 - CUDA_VISIBLE_DEVICES: [0]\n"
     ]
    },
    {
     "name": "stdout",
     "output_type": "stream",
     "text": [
      "Current value: 0.05115311571453543, Current params: {'input_chunk_length': 56, 'output_chunk_length': 1, 'hidden_size': 72, 'layer_size': 1, 'dropout': 0.15669584135685366, 'batch_size': 126, 'lr': 0.0011020110645907103, 'weight_decay': 0.00027675783107493677, 'loss_fn': 'mse', 'optimizer': 'RMSprop'}\n",
      "Best value: 0.10469268623092738, Best params: {'input_chunk_length': 61, 'output_chunk_length': 1, 'hidden_size': 236, 'layer_size': 1, 'dropout': 0.13961741792700083, 'batch_size': 99, 'lr': 0.0003347901155526305, 'weight_decay': 0.00013192997976271012, 'loss_fn': 'smoothl1', 'optimizer': 'Adam'}\n",
      "\n",
      "Starting Trial 58\n",
      "Hyperparameters: {'input_chunk_length': 65, 'output_chunk_length': 5, 'hidden_size': 59, 'layer_size': 1, 'dropout': 0.24951726830323417, 'batch_size': 137, 'lr': 0.002770098621405647, 'weight_decay': 4.877207161975801e-05, 'loss_fn': 'smoothl1', 'optimizer': 'Adam'}\n",
      "\n",
      "Training the model...\n",
      "Train set: 6647 samples\n",
      "Validation set: 1662 samples\n"
     ]
    },
    {
     "name": "stderr",
     "output_type": "stream",
     "text": [
      "[I 2025-05-25 20:16:53,809] Trial 58 pruned. Trial was pruned at epoch 0.\n",
      "Specified future encoders in `add_encoders` at model creation but model does not accept future covariates. future encoders will be ignored.\n",
      "/home/eduardo/Documentos/Water-Cycle-Neural-Network/venv/lib/python3.12/site-packages/torch/nn/modules/rnn.py:123: UserWarning: dropout option adds dropout after all but last recurrent layer, so non-zero dropout expects num_layers greater than 1, but got dropout=0.1171947966292872 and num_layers=1\n",
      "  warnings.warn(\n",
      "GPU available: True (cuda), used: True\n",
      "TPU available: False, using: 0 TPU cores\n",
      "HPU available: False, using: 0 HPUs\n",
      "LOCAL_RANK: 0 - CUDA_VISIBLE_DEVICES: [0]\n"
     ]
    },
    {
     "name": "stdout",
     "output_type": "stream",
     "text": [
      "Current value: 0.04704741900642154, Current params: {'input_chunk_length': 65, 'output_chunk_length': 5, 'hidden_size': 59, 'layer_size': 1, 'dropout': 0.24951726830323417, 'batch_size': 137, 'lr': 0.002770098621405647, 'weight_decay': 4.877207161975801e-05, 'loss_fn': 'smoothl1', 'optimizer': 'Adam'}\n",
      "Best value: 0.10469268623092738, Best params: {'input_chunk_length': 61, 'output_chunk_length': 1, 'hidden_size': 236, 'layer_size': 1, 'dropout': 0.13961741792700083, 'batch_size': 99, 'lr': 0.0003347901155526305, 'weight_decay': 0.00013192997976271012, 'loss_fn': 'smoothl1', 'optimizer': 'Adam'}\n",
      "\n",
      "Starting Trial 59\n",
      "Hyperparameters: {'input_chunk_length': 59, 'output_chunk_length': 2, 'hidden_size': 109, 'layer_size': 1, 'dropout': 0.1171947966292872, 'batch_size': 87, 'lr': 2.3502636655084578e-06, 'weight_decay': 0.0005324187188145666, 'loss_fn': 'smoothl1', 'optimizer': 'Adam'}\n",
      "\n",
      "Training the model...\n",
      "Train set: 6647 samples\n",
      "Validation set: 1662 samples\n"
     ]
    },
    {
     "name": "stderr",
     "output_type": "stream",
     "text": [
      "[I 2025-05-25 20:16:56,177] Trial 59 pruned. Trial was pruned at epoch 0.\n",
      "Specified future encoders in `add_encoders` at model creation but model does not accept future covariates. future encoders will be ignored.\n",
      "/home/eduardo/Documentos/Water-Cycle-Neural-Network/venv/lib/python3.12/site-packages/torch/nn/modules/rnn.py:123: UserWarning: dropout option adds dropout after all but last recurrent layer, so non-zero dropout expects num_layers greater than 1, but got dropout=0.17316409487386392 and num_layers=1\n",
      "  warnings.warn(\n",
      "GPU available: True (cuda), used: True\n",
      "TPU available: False, using: 0 TPU cores\n",
      "HPU available: False, using: 0 HPUs\n",
      "LOCAL_RANK: 0 - CUDA_VISIBLE_DEVICES: [0]\n"
     ]
    },
    {
     "name": "stdout",
     "output_type": "stream",
     "text": [
      "Current value: 0.19237718884696844, Current params: {'input_chunk_length': 59, 'output_chunk_length': 2, 'hidden_size': 109, 'layer_size': 1, 'dropout': 0.1171947966292872, 'batch_size': 87, 'lr': 2.3502636655084578e-06, 'weight_decay': 0.0005324187188145666, 'loss_fn': 'smoothl1', 'optimizer': 'Adam'}\n",
      "Best value: 0.10469268623092738, Best params: {'input_chunk_length': 61, 'output_chunk_length': 1, 'hidden_size': 236, 'layer_size': 1, 'dropout': 0.13961741792700083, 'batch_size': 99, 'lr': 0.0003347901155526305, 'weight_decay': 0.00013192997976271012, 'loss_fn': 'smoothl1', 'optimizer': 'Adam'}\n",
      "\n",
      "Starting Trial 60\n",
      "Hyperparameters: {'input_chunk_length': 61, 'output_chunk_length': 4, 'hidden_size': 87, 'layer_size': 1, 'dropout': 0.17316409487386392, 'batch_size': 124, 'lr': 0.0017991968105568901, 'weight_decay': 1.935884745699561e-05, 'loss_fn': 'mae', 'optimizer': 'Adam'}\n",
      "\n",
      "Training the model...\n",
      "Train set: 6647 samples\n",
      "Validation set: 1662 samples\n"
     ]
    },
    {
     "name": "stderr",
     "output_type": "stream",
     "text": [
      "[I 2025-05-25 20:16:57,994] Trial 60 pruned. Trial was pruned at epoch 0.\n"
     ]
    },
    {
     "name": "stdout",
     "output_type": "stream",
     "text": [
      "Current value: 0.2456904904881738, Current params: {'input_chunk_length': 61, 'output_chunk_length': 4, 'hidden_size': 87, 'layer_size': 1, 'dropout': 0.17316409487386392, 'batch_size': 124, 'lr': 0.0017991968105568901, 'weight_decay': 1.935884745699561e-05, 'loss_fn': 'mae', 'optimizer': 'Adam'}\n",
      "Best value: 0.10469268623092738, Best params: {'input_chunk_length': 61, 'output_chunk_length': 1, 'hidden_size': 236, 'layer_size': 1, 'dropout': 0.13961741792700083, 'batch_size': 99, 'lr': 0.0003347901155526305, 'weight_decay': 0.00013192997976271012, 'loss_fn': 'smoothl1', 'optimizer': 'Adam'}\n",
      "\n",
      "Starting Trial 61\n",
      "Hyperparameters: {'input_chunk_length': 52, 'output_chunk_length': 2, 'hidden_size': 45, 'layer_size': 1, 'dropout': 0.13695128137079407, 'batch_size': 139, 'lr': 0.0018570065421973784, 'weight_decay': 0.00018707223424877783, 'loss_fn': 'smoothl1', 'optimizer': 'Adam'}\n",
      "\n",
      "Training the model...\n",
      "Train set: 6647 samples\n",
      "Validation set: 1662 samples\n"
     ]
    },
    {
     "name": "stderr",
     "output_type": "stream",
     "text": [
      "Specified future encoders in `add_encoders` at model creation but model does not accept future covariates. future encoders will be ignored.\n",
      "/home/eduardo/Documentos/Water-Cycle-Neural-Network/venv/lib/python3.12/site-packages/torch/nn/modules/rnn.py:123: UserWarning: dropout option adds dropout after all but last recurrent layer, so non-zero dropout expects num_layers greater than 1, but got dropout=0.13695128137079407 and num_layers=1\n",
      "  warnings.warn(\n",
      "GPU available: True (cuda), used: True\n",
      "TPU available: False, using: 0 TPU cores\n",
      "HPU available: False, using: 0 HPUs\n",
      "LOCAL_RANK: 0 - CUDA_VISIBLE_DEVICES: [0]\n",
      "Metric val_loss improved. New best score: 0.045\n",
      "Metric val_loss improved by 0.008 >= min_delta = 0.0005. New best score: 0.037\n",
      "Metric val_loss improved by 0.008 >= min_delta = 0.0005. New best score: 0.029\n",
      "Metric val_loss improved by 0.004 >= min_delta = 0.0005. New best score: 0.025\n",
      "Metric val_loss improved by 0.001 >= min_delta = 0.0005. New best score: 0.024\n",
      "Metric val_loss improved by 0.001 >= min_delta = 0.0005. New best score: 0.023\n",
      "Metric val_loss improved by 0.002 >= min_delta = 0.0005. New best score: 0.021\n",
      "Metric val_loss improved by 0.001 >= min_delta = 0.0005. New best score: 0.019\n",
      "Metric val_loss improved by 0.001 >= min_delta = 0.0005. New best score: 0.018\n",
      "Metric val_loss improved by 0.001 >= min_delta = 0.0005. New best score: 0.018\n",
      "Metric val_loss improved by 0.001 >= min_delta = 0.0005. New best score: 0.017\n",
      "Metric val_loss improved by 0.001 >= min_delta = 0.0005. New best score: 0.016\n",
      "Metric val_loss improved by 0.001 >= min_delta = 0.0005. New best score: 0.015\n",
      "`Trainer.fit` stopped: `max_epochs=30` reached.\n",
      "/home/eduardo/Documentos/Water-Cycle-Neural-Network/venv/lib/python3.12/site-packages/torch/nn/modules/rnn.py:123: UserWarning: dropout option adds dropout after all but last recurrent layer, so non-zero dropout expects num_layers greater than 1, but got dropout=0.13695128137079407 and num_layers=1\n",
      "  warnings.warn(\n",
      "GPU available: True (cuda), used: True\n",
      "TPU available: False, using: 0 TPU cores\n",
      "HPU available: False, using: 0 HPUs\n",
      "LOCAL_RANK: 0 - CUDA_VISIBLE_DEVICES: [0]\n",
      "/home/eduardo/Documentos/Water-Cycle-Neural-Network/venv/lib/python3.12/site-packages/pytorch_lightning/trainer/connectors/data_connector.py:425: The 'predict_dataloader' does not have many workers which may be a bottleneck. Consider increasing the value of the `num_workers` argument` to `num_workers=11` in the `DataLoader` to improve performance.\n"
     ]
    },
    {
     "name": "stdout",
     "output_type": "stream",
     "text": [
      "Model loaded from checkpoint for trial 61\n"
     ]
    },
    {
     "name": "stderr",
     "output_type": "stream",
     "text": [
      "[I 2025-05-25 20:18:29,898] Trial 61 finished with value: 0.11889971937978376 and parameters: {'input_chunk_length': 52, 'output_chunk_length': 2, 'hidden_size': 45, 'layer_size': 1, 'dropout': 0.13695128137079407, 'batch_size': 139, 'lr': 0.0018570065421973784, 'weight_decay': 0.00018707223424877783, 'loss_fn': 'smoothl1', 'optimizer': 'Adam'}. Best is trial 42 with value: 0.10469268623092738.\n",
      "Specified future encoders in `add_encoders` at model creation but model does not accept future covariates. future encoders will be ignored.\n",
      "/home/eduardo/Documentos/Water-Cycle-Neural-Network/venv/lib/python3.12/site-packages/torch/nn/modules/rnn.py:123: UserWarning: dropout option adds dropout after all but last recurrent layer, so non-zero dropout expects num_layers greater than 1, but got dropout=0.1468219031297669 and num_layers=1\n",
      "  warnings.warn(\n",
      "GPU available: True (cuda), used: True\n",
      "TPU available: False, using: 0 TPU cores\n",
      "HPU available: False, using: 0 HPUs\n",
      "LOCAL_RANK: 0 - CUDA_VISIBLE_DEVICES: [0]\n"
     ]
    },
    {
     "name": "stdout",
     "output_type": "stream",
     "text": [
      "Starting time series verification for consistency...\n",
      "\n",
      "Performance metrics:\n",
      "                                    MSE        RMSE         MAE          R2  \\\n",
      "Temperature                   11.553091    3.398984    2.653523    0.620334   \n",
      "Precipitation_accumulated   1058.242372   32.530637   26.612474 -319.393470   \n",
      "Humidity                      71.407016    8.450267    6.544217    0.512801   \n",
      "Wind_Speed_kmh                 1.104372    1.050891    0.819875    0.178300   \n",
      "Soil_Moisture              41352.809949  203.353903  167.022948    0.204626   \n",
      "Soil_Temperature               9.645213    3.105674    2.677420    0.399320   \n",
      "Wind_Dir_Sin                   0.479003    0.692101    0.601270    0.131373   \n",
      "Wind_Dir_Cos                   0.336898    0.580429    0.493178    0.081558   \n",
      "\n",
      "                                SMAPE  \n",
      "Temperature                 38.050117  \n",
      "Precipitation_accumulated    5.970715  \n",
      "Humidity                     7.907406  \n",
      "Wind_Speed_kmh              69.649011  \n",
      "Soil_Moisture                1.962199  \n",
      "Soil_Temperature            48.333523  \n",
      "Wind_Dir_Sin               129.334359  \n",
      "Wind_Dir_Cos               126.868868  \n",
      "The MAE for this fold was 0.11889971937978376\n",
      "Results of trial 61 saved in optuna_iteration_metrics/trial_61.json\n",
      "Current value: 0.11889971937978376, Current params: {'input_chunk_length': 52, 'output_chunk_length': 2, 'hidden_size': 45, 'layer_size': 1, 'dropout': 0.13695128137079407, 'batch_size': 139, 'lr': 0.0018570065421973784, 'weight_decay': 0.00018707223424877783, 'loss_fn': 'smoothl1', 'optimizer': 'Adam'}\n",
      "Best value: 0.10469268623092738, Best params: {'input_chunk_length': 61, 'output_chunk_length': 1, 'hidden_size': 236, 'layer_size': 1, 'dropout': 0.13961741792700083, 'batch_size': 99, 'lr': 0.0003347901155526305, 'weight_decay': 0.00013192997976271012, 'loss_fn': 'smoothl1', 'optimizer': 'Adam'}\n",
      "\n",
      "Starting Trial 62\n",
      "Hyperparameters: {'input_chunk_length': 54, 'output_chunk_length': 1, 'hidden_size': 42, 'layer_size': 1, 'dropout': 0.1468219031297669, 'batch_size': 152, 'lr': 0.00127921865551656, 'weight_decay': 0.0002645001523212816, 'loss_fn': 'smoothl1', 'optimizer': 'Adam'}\n",
      "\n",
      "Training the model...\n",
      "Train set: 6647 samples\n",
      "Validation set: 1662 samples\n"
     ]
    },
    {
     "name": "stderr",
     "output_type": "stream",
     "text": [
      "[I 2025-05-25 20:21:16,882] Trial 62 pruned. Trial was pruned at epoch 0.\n",
      "Specified future encoders in `add_encoders` at model creation but model does not accept future covariates. future encoders will be ignored.\n",
      "/home/eduardo/Documentos/Water-Cycle-Neural-Network/venv/lib/python3.12/site-packages/torch/nn/modules/rnn.py:123: UserWarning: dropout option adds dropout after all but last recurrent layer, so non-zero dropout expects num_layers greater than 1, but got dropout=0.19713220511804186 and num_layers=1\n",
      "  warnings.warn(\n",
      "GPU available: True (cuda), used: True\n",
      "TPU available: False, using: 0 TPU cores\n",
      "HPU available: False, using: 0 HPUs\n",
      "LOCAL_RANK: 0 - CUDA_VISIBLE_DEVICES: [0]\n"
     ]
    },
    {
     "name": "stdout",
     "output_type": "stream",
     "text": [
      "Current value: 0.05524244473665057, Current params: {'input_chunk_length': 54, 'output_chunk_length': 1, 'hidden_size': 42, 'layer_size': 1, 'dropout': 0.1468219031297669, 'batch_size': 152, 'lr': 0.00127921865551656, 'weight_decay': 0.0002645001523212816, 'loss_fn': 'smoothl1', 'optimizer': 'Adam'}\n",
      "Best value: 0.10469268623092738, Best params: {'input_chunk_length': 61, 'output_chunk_length': 1, 'hidden_size': 236, 'layer_size': 1, 'dropout': 0.13961741792700083, 'batch_size': 99, 'lr': 0.0003347901155526305, 'weight_decay': 0.00013192997976271012, 'loss_fn': 'smoothl1', 'optimizer': 'Adam'}\n",
      "\n",
      "Starting Trial 63\n",
      "Hyperparameters: {'input_chunk_length': 44, 'output_chunk_length': 4, 'hidden_size': 79, 'layer_size': 1, 'dropout': 0.19713220511804186, 'batch_size': 117, 'lr': 0.003618205498041203, 'weight_decay': 8.104134032435149e-05, 'loss_fn': 'smoothl1', 'optimizer': 'Adam'}\n",
      "\n",
      "Training the model...\n",
      "Train set: 6647 samples\n",
      "Validation set: 1662 samples\n"
     ]
    },
    {
     "name": "stderr",
     "output_type": "stream",
     "text": [
      "Metric val_loss improved. New best score: 0.037\n",
      "Metric val_loss improved by 0.012 >= min_delta = 0.0005. New best score: 0.025\n",
      "Metric val_loss improved by 0.004 >= min_delta = 0.0005. New best score: 0.021\n",
      "Metric val_loss improved by 0.001 >= min_delta = 0.0005. New best score: 0.020\n",
      "Metric val_loss improved by 0.002 >= min_delta = 0.0005. New best score: 0.018\n",
      "Metric val_loss improved by 0.001 >= min_delta = 0.0005. New best score: 0.017\n",
      "Metric val_loss improved by 0.001 >= min_delta = 0.0005. New best score: 0.017\n",
      "Monitored metric val_loss did not improve in the last 15 records. Best score: 0.017. Signaling Trainer to stop.\n",
      "/home/eduardo/Documentos/Water-Cycle-Neural-Network/venv/lib/python3.12/site-packages/torch/nn/modules/rnn.py:123: UserWarning: dropout option adds dropout after all but last recurrent layer, so non-zero dropout expects num_layers greater than 1, but got dropout=0.19713220511804186 and num_layers=1\n",
      "  warnings.warn(\n",
      "GPU available: True (cuda), used: True\n",
      "TPU available: False, using: 0 TPU cores\n",
      "HPU available: False, using: 0 HPUs\n",
      "LOCAL_RANK: 0 - CUDA_VISIBLE_DEVICES: [0]\n",
      "/home/eduardo/Documentos/Water-Cycle-Neural-Network/venv/lib/python3.12/site-packages/pytorch_lightning/trainer/connectors/data_connector.py:425: The 'predict_dataloader' does not have many workers which may be a bottleneck. Consider increasing the value of the `num_workers` argument` to `num_workers=11` in the `DataLoader` to improve performance.\n"
     ]
    },
    {
     "name": "stdout",
     "output_type": "stream",
     "text": [
      "Model loaded from checkpoint for trial 63\n"
     ]
    },
    {
     "name": "stderr",
     "output_type": "stream",
     "text": [
      "[I 2025-05-25 20:21:48,482] Trial 63 finished with value: 0.12798497005775478 and parameters: {'input_chunk_length': 44, 'output_chunk_length': 4, 'hidden_size': 79, 'layer_size': 1, 'dropout': 0.19713220511804186, 'batch_size': 117, 'lr': 0.003618205498041203, 'weight_decay': 8.104134032435149e-05, 'loss_fn': 'smoothl1', 'optimizer': 'Adam'}. Best is trial 42 with value: 0.10469268623092738.\n",
      "Specified future encoders in `add_encoders` at model creation but model does not accept future covariates. future encoders will be ignored.\n",
      "/home/eduardo/Documentos/Water-Cycle-Neural-Network/venv/lib/python3.12/site-packages/torch/nn/modules/rnn.py:123: UserWarning: dropout option adds dropout after all but last recurrent layer, so non-zero dropout expects num_layers greater than 1, but got dropout=0.13661185995971714 and num_layers=1\n",
      "  warnings.warn(\n",
      "GPU available: True (cuda), used: True\n",
      "TPU available: False, using: 0 TPU cores\n",
      "HPU available: False, using: 0 HPUs\n",
      "LOCAL_RANK: 0 - CUDA_VISIBLE_DEVICES: [0]\n"
     ]
    },
    {
     "name": "stdout",
     "output_type": "stream",
     "text": [
      "Starting time series verification for consistency...\n",
      "\n",
      "Performance metrics:\n",
      "                                    MSE        RMSE         MAE          R2  \\\n",
      "Temperature                   10.583048    3.253160    2.565499    0.653163   \n",
      "Precipitation_accumulated   2314.749185   48.111840   40.738998 -692.868439   \n",
      "Humidity                      60.453547    7.775188    6.361187    0.587757   \n",
      "Wind_Speed_kmh                 1.219210    1.104178    0.884210    0.094628   \n",
      "Soil_Moisture              60654.454479  246.281251  211.081251   -0.139312   \n",
      "Soil_Temperature               7.979580    2.824815    2.318204    0.504519   \n",
      "Wind_Dir_Sin                   0.555173    0.745099    0.658785   -0.009186   \n",
      "Wind_Dir_Cos                   0.350234    0.591806    0.506617    0.046070   \n",
      "\n",
      "                                SMAPE  \n",
      "Temperature                 37.914607  \n",
      "Precipitation_accumulated    9.327054  \n",
      "Humidity                     7.581421  \n",
      "Wind_Speed_kmh              72.293256  \n",
      "Soil_Moisture                2.489290  \n",
      "Soil_Temperature            45.591460  \n",
      "Wind_Dir_Sin               143.755539  \n",
      "Wind_Dir_Cos               128.175622  \n",
      "The MAE for this fold was 0.12798497005775478\n",
      "Results of trial 63 saved in optuna_iteration_metrics/trial_63.json\n",
      "Current value: 0.12798497005775478, Current params: {'input_chunk_length': 44, 'output_chunk_length': 4, 'hidden_size': 79, 'layer_size': 1, 'dropout': 0.19713220511804186, 'batch_size': 117, 'lr': 0.003618205498041203, 'weight_decay': 8.104134032435149e-05, 'loss_fn': 'smoothl1', 'optimizer': 'Adam'}\n",
      "Best value: 0.10469268623092738, Best params: {'input_chunk_length': 61, 'output_chunk_length': 1, 'hidden_size': 236, 'layer_size': 1, 'dropout': 0.13961741792700083, 'batch_size': 99, 'lr': 0.0003347901155526305, 'weight_decay': 0.00013192997976271012, 'loss_fn': 'smoothl1', 'optimizer': 'Adam'}\n",
      "\n",
      "Starting Trial 64\n",
      "Hyperparameters: {'input_chunk_length': 51, 'output_chunk_length': 2, 'hidden_size': 64, 'layer_size': 1, 'dropout': 0.13661185995971714, 'batch_size': 143, 'lr': 0.0008340319183778166, 'weight_decay': 0.00018253169621051363, 'loss_fn': 'smoothl1', 'optimizer': 'Adam'}\n",
      "\n",
      "Training the model...\n",
      "Train set: 6647 samples\n",
      "Validation set: 1662 samples\n"
     ]
    },
    {
     "name": "stderr",
     "output_type": "stream",
     "text": [
      "[I 2025-05-25 20:21:50,137] Trial 64 pruned. Trial was pruned at epoch 0.\n",
      "Specified future encoders in `add_encoders` at model creation but model does not accept future covariates. future encoders will be ignored.\n",
      "/home/eduardo/Documentos/Water-Cycle-Neural-Network/venv/lib/python3.12/site-packages/torch/nn/modules/rnn.py:123: UserWarning: dropout option adds dropout after all but last recurrent layer, so non-zero dropout expects num_layers greater than 1, but got dropout=0.11960635528388809 and num_layers=1\n",
      "  warnings.warn(\n",
      "GPU available: True (cuda), used: True\n",
      "TPU available: False, using: 0 TPU cores\n",
      "HPU available: False, using: 0 HPUs\n",
      "LOCAL_RANK: 0 - CUDA_VISIBLE_DEVICES: [0]\n"
     ]
    },
    {
     "name": "stdout",
     "output_type": "stream",
     "text": [
      "Current value: 0.04744384852360192, Current params: {'input_chunk_length': 51, 'output_chunk_length': 2, 'hidden_size': 64, 'layer_size': 1, 'dropout': 0.13661185995971714, 'batch_size': 143, 'lr': 0.0008340319183778166, 'weight_decay': 0.00018253169621051363, 'loss_fn': 'smoothl1', 'optimizer': 'Adam'}\n",
      "Best value: 0.10469268623092738, Best params: {'input_chunk_length': 61, 'output_chunk_length': 1, 'hidden_size': 236, 'layer_size': 1, 'dropout': 0.13961741792700083, 'batch_size': 99, 'lr': 0.0003347901155526305, 'weight_decay': 0.00013192997976271012, 'loss_fn': 'smoothl1', 'optimizer': 'Adam'}\n",
      "\n",
      "Starting Trial 65\n",
      "Hyperparameters: {'input_chunk_length': 61, 'output_chunk_length': 3, 'hidden_size': 40, 'layer_size': 1, 'dropout': 0.11960635528388809, 'batch_size': 135, 'lr': 0.002090201541387318, 'weight_decay': 0.00018250886239440926, 'loss_fn': 'smoothl1', 'optimizer': 'Adam'}\n",
      "\n",
      "Training the model...\n",
      "Train set: 6647 samples\n",
      "Validation set: 1662 samples\n"
     ]
    },
    {
     "name": "stderr",
     "output_type": "stream",
     "text": [
      "[I 2025-05-25 20:21:51,937] Trial 65 pruned. Trial was pruned at epoch 0.\n",
      "Specified future encoders in `add_encoders` at model creation but model does not accept future covariates. future encoders will be ignored.\n",
      "/home/eduardo/Documentos/Water-Cycle-Neural-Network/venv/lib/python3.12/site-packages/torch/nn/modules/rnn.py:123: UserWarning: dropout option adds dropout after all but last recurrent layer, so non-zero dropout expects num_layers greater than 1, but got dropout=0.16178143244642007 and num_layers=1\n",
      "  warnings.warn(\n",
      "GPU available: True (cuda), used: True\n",
      "TPU available: False, using: 0 TPU cores\n",
      "HPU available: False, using: 0 HPUs\n",
      "LOCAL_RANK: 0 - CUDA_VISIBLE_DEVICES: [0]\n"
     ]
    },
    {
     "name": "stdout",
     "output_type": "stream",
     "text": [
      "Current value: 0.04670138259314271, Current params: {'input_chunk_length': 61, 'output_chunk_length': 3, 'hidden_size': 40, 'layer_size': 1, 'dropout': 0.11960635528388809, 'batch_size': 135, 'lr': 0.002090201541387318, 'weight_decay': 0.00018250886239440926, 'loss_fn': 'smoothl1', 'optimizer': 'Adam'}\n",
      "Best value: 0.10469268623092738, Best params: {'input_chunk_length': 61, 'output_chunk_length': 1, 'hidden_size': 236, 'layer_size': 1, 'dropout': 0.13961741792700083, 'batch_size': 99, 'lr': 0.0003347901155526305, 'weight_decay': 0.00013192997976271012, 'loss_fn': 'smoothl1', 'optimizer': 'Adam'}\n",
      "\n",
      "Starting Trial 66\n",
      "Hyperparameters: {'input_chunk_length': 58, 'output_chunk_length': 3, 'hidden_size': 92, 'layer_size': 1, 'dropout': 0.16178143244642007, 'batch_size': 167, 'lr': 0.0010813011700765156, 'weight_decay': 0.00032077928010973243, 'loss_fn': 'smoothl1', 'optimizer': 'Adam'}\n",
      "\n",
      "Training the model...\n",
      "Train set: 6647 samples\n",
      "Validation set: 1662 samples\n"
     ]
    },
    {
     "name": "stderr",
     "output_type": "stream",
     "text": [
      "Metric val_loss improved. New best score: 0.043\n",
      "Metric val_loss improved by 0.006 >= min_delta = 0.0005. New best score: 0.037\n",
      "Metric val_loss improved by 0.007 >= min_delta = 0.0005. New best score: 0.030\n",
      "Metric val_loss improved by 0.004 >= min_delta = 0.0005. New best score: 0.026\n",
      "Metric val_loss improved by 0.003 >= min_delta = 0.0005. New best score: 0.023\n",
      "Metric val_loss improved by 0.002 >= min_delta = 0.0005. New best score: 0.021\n",
      "Metric val_loss improved by 0.001 >= min_delta = 0.0005. New best score: 0.020\n",
      "Metric val_loss improved by 0.001 >= min_delta = 0.0005. New best score: 0.019\n",
      "Metric val_loss improved by 0.001 >= min_delta = 0.0005. New best score: 0.018\n",
      "Metric val_loss improved by 0.001 >= min_delta = 0.0005. New best score: 0.017\n",
      "`Trainer.fit` stopped: `max_epochs=30` reached.\n",
      "/home/eduardo/Documentos/Water-Cycle-Neural-Network/venv/lib/python3.12/site-packages/torch/nn/modules/rnn.py:123: UserWarning: dropout option adds dropout after all but last recurrent layer, so non-zero dropout expects num_layers greater than 1, but got dropout=0.16178143244642007 and num_layers=1\n",
      "  warnings.warn(\n",
      "GPU available: True (cuda), used: True\n",
      "TPU available: False, using: 0 TPU cores\n",
      "HPU available: False, using: 0 HPUs\n",
      "LOCAL_RANK: 0 - CUDA_VISIBLE_DEVICES: [0]\n",
      "/home/eduardo/Documentos/Water-Cycle-Neural-Network/venv/lib/python3.12/site-packages/pytorch_lightning/trainer/connectors/data_connector.py:425: The 'predict_dataloader' does not have many workers which may be a bottleneck. Consider increasing the value of the `num_workers` argument` to `num_workers=11` in the `DataLoader` to improve performance.\n"
     ]
    },
    {
     "name": "stdout",
     "output_type": "stream",
     "text": [
      "Model loaded from checkpoint for trial 66\n"
     ]
    },
    {
     "name": "stderr",
     "output_type": "stream",
     "text": [
      "[I 2025-05-25 20:25:14,205] Trial 66 finished with value: 0.12704400868033436 and parameters: {'input_chunk_length': 58, 'output_chunk_length': 3, 'hidden_size': 92, 'layer_size': 1, 'dropout': 0.16178143244642007, 'batch_size': 167, 'lr': 0.0010813011700765156, 'weight_decay': 0.00032077928010973243, 'loss_fn': 'smoothl1', 'optimizer': 'Adam'}. Best is trial 42 with value: 0.10469268623092738.\n",
      "Specified future encoders in `add_encoders` at model creation but model does not accept future covariates. future encoders will be ignored.\n",
      "/home/eduardo/Documentos/Water-Cycle-Neural-Network/venv/lib/python3.12/site-packages/torch/nn/modules/rnn.py:123: UserWarning: dropout option adds dropout after all but last recurrent layer, so non-zero dropout expects num_layers greater than 1, but got dropout=0.17657592320919743 and num_layers=1\n",
      "  warnings.warn(\n",
      "GPU available: True (cuda), used: True\n",
      "TPU available: False, using: 0 TPU cores\n",
      "HPU available: False, using: 0 HPUs\n",
      "LOCAL_RANK: 0 - CUDA_VISIBLE_DEVICES: [0]\n"
     ]
    },
    {
     "name": "stdout",
     "output_type": "stream",
     "text": [
      "Starting time series verification for consistency...\n",
      "\n",
      "Performance metrics:\n",
      "                                    MSE        RMSE         MAE          R2  \\\n",
      "Temperature                   10.726632    3.275154    2.593863    0.648271   \n",
      "Precipitation_accumulated    977.486320   31.264778   27.180359 -298.508853   \n",
      "Humidity                     105.947694   10.293090    8.434845    0.278080   \n",
      "Wind_Speed_kmh                 1.262684    1.123692    0.914433    0.063093   \n",
      "Soil_Moisture              51833.302776  227.669284  190.810220   -0.032138   \n",
      "Soil_Temperature               8.573556    2.928064    2.398538    0.465793   \n",
      "Wind_Dir_Sin                   0.519830    0.720992    0.645289    0.054033   \n",
      "Wind_Dir_Cos                   0.347376    0.589386    0.511035    0.055331   \n",
      "\n",
      "                                SMAPE  \n",
      "Temperature                 38.766233  \n",
      "Precipitation_accumulated    6.072611  \n",
      "Humidity                    10.007670  \n",
      "Wind_Speed_kmh              73.173327  \n",
      "Soil_Moisture                2.249492  \n",
      "Soil_Temperature            46.961139  \n",
      "Wind_Dir_Sin               141.788498  \n",
      "Wind_Dir_Cos               134.442937  \n",
      "The MAE for this fold was 0.12704400868033436\n",
      "Results of trial 66 saved in optuna_iteration_metrics/trial_66.json\n",
      "Current value: 0.12704400868033436, Current params: {'input_chunk_length': 58, 'output_chunk_length': 3, 'hidden_size': 92, 'layer_size': 1, 'dropout': 0.16178143244642007, 'batch_size': 167, 'lr': 0.0010813011700765156, 'weight_decay': 0.00032077928010973243, 'loss_fn': 'smoothl1', 'optimizer': 'Adam'}\n",
      "Best value: 0.10469268623092738, Best params: {'input_chunk_length': 61, 'output_chunk_length': 1, 'hidden_size': 236, 'layer_size': 1, 'dropout': 0.13961741792700083, 'batch_size': 99, 'lr': 0.0003347901155526305, 'weight_decay': 0.00013192997976271012, 'loss_fn': 'smoothl1', 'optimizer': 'Adam'}\n",
      "\n",
      "Starting Trial 67\n",
      "Hyperparameters: {'input_chunk_length': 55, 'output_chunk_length': 24, 'hidden_size': 56, 'layer_size': 1, 'dropout': 0.17657592320919743, 'batch_size': 128, 'lr': 1.523865032749557e-05, 'weight_decay': 0.0004623487305835226, 'loss_fn': 'smoothl1', 'optimizer': 'AdamW'}\n",
      "\n",
      "Training the model...\n",
      "Train set: 6647 samples\n",
      "Validation set: 1662 samples\n"
     ]
    },
    {
     "name": "stderr",
     "output_type": "stream",
     "text": [
      "[I 2025-05-25 20:25:15,977] Trial 67 pruned. Trial was pruned at epoch 0.\n",
      "Specified future encoders in `add_encoders` at model creation but model does not accept future covariates. future encoders will be ignored.\n",
      "/home/eduardo/Documentos/Water-Cycle-Neural-Network/venv/lib/python3.12/site-packages/torch/nn/modules/rnn.py:123: UserWarning: dropout option adds dropout after all but last recurrent layer, so non-zero dropout expects num_layers greater than 1, but got dropout=0.12887879111838008 and num_layers=1\n",
      "  warnings.warn(\n",
      "GPU available: True (cuda), used: True\n",
      "TPU available: False, using: 0 TPU cores\n",
      "HPU available: False, using: 0 HPUs\n",
      "LOCAL_RANK: 0 - CUDA_VISIBLE_DEVICES: [0]\n"
     ]
    },
    {
     "name": "stdout",
     "output_type": "stream",
     "text": [
      "Current value: 0.19452554973052702, Current params: {'input_chunk_length': 55, 'output_chunk_length': 24, 'hidden_size': 56, 'layer_size': 1, 'dropout': 0.17657592320919743, 'batch_size': 128, 'lr': 1.523865032749557e-05, 'weight_decay': 0.0004623487305835226, 'loss_fn': 'smoothl1', 'optimizer': 'AdamW'}\n",
      "Best value: 0.10469268623092738, Best params: {'input_chunk_length': 61, 'output_chunk_length': 1, 'hidden_size': 236, 'layer_size': 1, 'dropout': 0.13961741792700083, 'batch_size': 99, 'lr': 0.0003347901155526305, 'weight_decay': 0.00013192997976271012, 'loss_fn': 'smoothl1', 'optimizer': 'Adam'}\n",
      "\n",
      "Starting Trial 68\n",
      "Hyperparameters: {'input_chunk_length': 65, 'output_chunk_length': 1, 'hidden_size': 122, 'layer_size': 1, 'dropout': 0.12887879111838008, 'batch_size': 106, 'lr': 0.0016408452237179332, 'weight_decay': 9.711713443577775e-05, 'loss_fn': 'smoothl1', 'optimizer': 'Adam'}\n",
      "\n",
      "Training the model...\n",
      "Train set: 6647 samples\n",
      "Validation set: 1662 samples\n"
     ]
    },
    {
     "name": "stderr",
     "output_type": "stream",
     "text": [
      "Metric val_loss improved. New best score: 0.029\n",
      "Metric val_loss improved by 0.007 >= min_delta = 0.0005. New best score: 0.021\n",
      "Metric val_loss improved by 0.003 >= min_delta = 0.0005. New best score: 0.018\n",
      "Metric val_loss improved by 0.002 >= min_delta = 0.0005. New best score: 0.016\n",
      "Metric val_loss improved by 0.001 >= min_delta = 0.0005. New best score: 0.015\n",
      "Metric val_loss improved by 0.001 >= min_delta = 0.0005. New best score: 0.015\n",
      "Metric val_loss improved by 0.001 >= min_delta = 0.0005. New best score: 0.013\n",
      "Metric val_loss improved by 0.001 >= min_delta = 0.0005. New best score: 0.013\n",
      "Monitored metric val_loss did not improve in the last 15 records. Best score: 0.013. Signaling Trainer to stop.\n",
      "/home/eduardo/Documentos/Water-Cycle-Neural-Network/venv/lib/python3.12/site-packages/torch/nn/modules/rnn.py:123: UserWarning: dropout option adds dropout after all but last recurrent layer, so non-zero dropout expects num_layers greater than 1, but got dropout=0.12887879111838008 and num_layers=1\n",
      "  warnings.warn(\n",
      "GPU available: True (cuda), used: True\n",
      "TPU available: False, using: 0 TPU cores\n",
      "HPU available: False, using: 0 HPUs\n",
      "LOCAL_RANK: 0 - CUDA_VISIBLE_DEVICES: [0]\n",
      "/home/eduardo/Documentos/Water-Cycle-Neural-Network/venv/lib/python3.12/site-packages/pytorch_lightning/trainer/connectors/data_connector.py:425: The 'predict_dataloader' does not have many workers which may be a bottleneck. Consider increasing the value of the `num_workers` argument` to `num_workers=11` in the `DataLoader` to improve performance.\n"
     ]
    },
    {
     "name": "stdout",
     "output_type": "stream",
     "text": [
      "Model loaded from checkpoint for trial 68\n"
     ]
    },
    {
     "name": "stderr",
     "output_type": "stream",
     "text": [
      "[I 2025-05-25 20:26:02,555] Trial 68 finished with value: 0.09531845089539022 and parameters: {'input_chunk_length': 65, 'output_chunk_length': 1, 'hidden_size': 122, 'layer_size': 1, 'dropout': 0.12887879111838008, 'batch_size': 106, 'lr': 0.0016408452237179332, 'weight_decay': 9.711713443577775e-05, 'loss_fn': 'smoothl1', 'optimizer': 'Adam'}. Best is trial 68 with value: 0.09531845089539022.\n",
      "Specified future encoders in `add_encoders` at model creation but model does not accept future covariates. future encoders will be ignored.\n",
      "GPU available: True (cuda), used: True\n",
      "TPU available: False, using: 0 TPU cores\n",
      "HPU available: False, using: 0 HPUs\n",
      "LOCAL_RANK: 0 - CUDA_VISIBLE_DEVICES: [0]\n"
     ]
    },
    {
     "name": "stdout",
     "output_type": "stream",
     "text": [
      "Starting time series verification for consistency...\n",
      "\n",
      "Performance metrics:\n",
      "                                    MSE        RMSE         MAE          R2  \\\n",
      "Temperature                    3.989544    1.997384    1.607032    0.869430   \n",
      "Precipitation_accumulated    339.306328   18.420270   14.960788 -103.884479   \n",
      "Humidity                      29.047505    5.389574    4.280579    0.802491   \n",
      "Wind_Speed_kmh                 0.718040    0.847372    0.662340    0.466841   \n",
      "Soil_Moisture              43158.413635  207.746032  167.982234    0.117474   \n",
      "Soil_Temperature               4.170158    2.042097    1.775202    0.740321   \n",
      "Wind_Dir_Sin                   0.376338    0.613464    0.497821    0.312330   \n",
      "Wind_Dir_Cos                   0.306396    0.553531    0.455821    0.168746   \n",
      "\n",
      "                                SMAPE  \n",
      "Temperature                 29.014342  \n",
      "Precipitation_accumulated    3.291802  \n",
      "Humidity                     5.146660  \n",
      "Wind_Speed_kmh              61.074320  \n",
      "Soil_Moisture                1.978921  \n",
      "Soil_Temperature            38.110380  \n",
      "Wind_Dir_Sin               101.111570  \n",
      "Wind_Dir_Cos               114.462835  \n",
      "The MAE for this fold was 0.09531845089539022\n",
      "Results of trial 68 saved in optuna_iteration_metrics/trial_68.json\n",
      "Current value: 0.09531845089539022, Current params: {'input_chunk_length': 65, 'output_chunk_length': 1, 'hidden_size': 122, 'layer_size': 1, 'dropout': 0.12887879111838008, 'batch_size': 106, 'lr': 0.0016408452237179332, 'weight_decay': 9.711713443577775e-05, 'loss_fn': 'smoothl1', 'optimizer': 'Adam'}\n",
      "Best value: 0.09531845089539022, Best params: {'input_chunk_length': 65, 'output_chunk_length': 1, 'hidden_size': 122, 'layer_size': 1, 'dropout': 0.12887879111838008, 'batch_size': 106, 'lr': 0.0016408452237179332, 'weight_decay': 9.711713443577775e-05, 'loss_fn': 'smoothl1', 'optimizer': 'Adam'}\n",
      "\n",
      "Starting Trial 69\n",
      "Hyperparameters: {'input_chunk_length': 68, 'output_chunk_length': 5, 'hidden_size': 131, 'layer_size': 3, 'dropout': 0.12609214205273653, 'batch_size': 78, 'lr': 0.0008357579774140741, 'weight_decay': 0.00022325170021633982, 'loss_fn': 'mse', 'optimizer': 'Adam'}\n",
      "\n",
      "Training the model...\n",
      "Train set: 6647 samples\n",
      "Validation set: 1662 samples\n"
     ]
    },
    {
     "name": "stderr",
     "output_type": "stream",
     "text": [
      "[I 2025-05-25 20:26:07,993] Trial 69 pruned. Trial was pruned at epoch 0.\n"
     ]
    },
    {
     "name": "stdout",
     "output_type": "stream",
     "text": [
      "Current value: 0.08673927123296253, Current params: {'input_chunk_length': 68, 'output_chunk_length': 5, 'hidden_size': 131, 'layer_size': 3, 'dropout': 0.12609214205273653, 'batch_size': 78, 'lr': 0.0008357579774140741, 'weight_decay': 0.00022325170021633982, 'loss_fn': 'mse', 'optimizer': 'Adam'}\n",
      "Best value: 0.09531845089539022, Best params: {'input_chunk_length': 65, 'output_chunk_length': 1, 'hidden_size': 122, 'layer_size': 1, 'dropout': 0.12887879111838008, 'batch_size': 106, 'lr': 0.0016408452237179332, 'weight_decay': 9.711713443577775e-05, 'loss_fn': 'smoothl1', 'optimizer': 'Adam'}\n"
     ]
    }
   ],
   "execution_count": 7
  },
  {
   "metadata": {
    "ExecuteTime": {
     "end_time": "2025-05-25T23:26:08.058596Z",
     "start_time": "2025-05-25T23:26:08.055968Z"
    }
   },
   "cell_type": "code",
   "source": [
    "print(f\"Best Value (Minimum): {study.best_value}\")\n",
    "print(f\"Best Parameters: {study.best_params}\")"
   ],
   "id": "bc5901841e773078",
   "outputs": [
    {
     "name": "stdout",
     "output_type": "stream",
     "text": [
      "Best Value (Minimum): 0.09531845089539022\n",
      "Best Parameters: {'input_chunk_length': 65, 'output_chunk_length': 1, 'hidden_size': 122, 'layer_size': 1, 'dropout': 0.12887879111838008, 'batch_size': 106, 'lr': 0.0016408452237179332, 'weight_decay': 9.711713443577775e-05, 'loss_fn': 'smoothl1', 'optimizer': 'Adam'}\n"
     ]
    }
   ],
   "execution_count": 8
  },
  {
   "metadata": {
    "ExecuteTime": {
     "end_time": "2025-05-25T23:26:08.157755Z",
     "start_time": "2025-05-25T23:26:08.154284Z"
    }
   },
   "cell_type": "code",
   "source": [
    "best_dict = {\n",
    "    \"best_value\": study.best_value,\n",
    "    \"best_params\": study.best_params,\n",
    "}\n",
    "json_path = os.path.join(results_output_dir, \"best_trial.json\")\n",
    "with open(json_path, 'w') as f:\n",
    "    json.dump(best_dict, f, indent=4)\n",
    "print(f\"Best results saved in {json_path}\")\n"
   ],
   "id": "2116824c79bf39cb",
   "outputs": [
    {
     "name": "stdout",
     "output_type": "stream",
     "text": [
      "Best results saved in optuna_iteration_metrics/best_trial.json\n"
     ]
    }
   ],
   "execution_count": 9
  }
 ],
 "metadata": {
  "jupytext": {
   "cell_metadata_filter": "-all",
   "main_language": "python",
   "notebook_metadata_filter": "-all"
  },
  "kernelspec": {
   "display_name": "Python (TORCH)",
   "language": "python",
   "name": "torch"
  },
  "language_info": {
   "codemirror_mode": {
    "name": "ipython",
    "version": 3
   },
   "file_extension": ".py",
   "mimetype": "text/x-python",
   "name": "python",
   "nbconvert_exporter": "python",
   "pygments_lexer": "ipython3",
   "version": "3.12.3"
  }
 },
 "nbformat": 4,
 "nbformat_minor": 5
}
