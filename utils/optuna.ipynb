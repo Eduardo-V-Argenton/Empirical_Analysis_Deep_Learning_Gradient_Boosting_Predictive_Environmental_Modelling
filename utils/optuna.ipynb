{
 "cells": [
  {
   "cell_type": "code",
   "execution_count": 1,
   "id": "bfdde53ef19ea8f4",
   "metadata": {
    "ExecuteTime": {
     "end_time": "2025-06-05T19:05:40.700276Z",
     "start_time": "2025-06-05T19:05:40.697643Z"
    }
   },
   "outputs": [],
   "source": [
    "import matplotlib.pyplot as plt\n",
    "import numpy as np\n",
    "import pandas as pd\n",
    "from darts import TimeSeries\n",
    "from darts.models import TSMixerModel\n",
    "from darts.metrics import wmape,mse, mae, smape,r2_score,rmse,mae\n",
    "from darts.dataprocessing.transformers import Scaler\n",
    "import torch\n",
    "from optuna.integration import PyTorchLightningPruningCallback\n",
    "from pytorch_lightning.callbacks import Callback, EarlyStopping\n",
    "import optuna\n",
    "import os\n",
    "import json\n",
    "\n",
    "# Visualization settings\n",
    "plt.style.use('ggplot')\n",
    "plt.rcParams['figure.figsize'] = (12, 6)\n",
    "torch.set_float32_matmul_precision('medium')"
   ]
  },
  {
   "cell_type": "code",
   "execution_count": 2,
   "id": "4a8c332b10d8be5e",
   "metadata": {
    "ExecuteTime": {
     "end_time": "2025-06-05T19:05:40.762080Z",
     "start_time": "2025-06-05T19:05:40.750357Z"
    }
   },
   "outputs": [],
   "source": [
    "target_columns = [\n",
    "    'Temperature','Precipitation_accumulated','Humidity', 'Wind_Speed_kmh',\n",
    "    'Soil_Moisture', 'Soil_Temperature', 'Wind_Dir_Sin', 'Wind_Dir_Cos'\n",
    "]\n",
    "\n",
    "DATA_FILE_PATH = \"../data/ground_station_clean.csv\"\n",
    "df = pd.read_csv(DATA_FILE_PATH)"
   ]
  },
  {
   "cell_type": "code",
   "execution_count": 3,
   "id": "7c4f7732f60d8511",
   "metadata": {
    "ExecuteTime": {
     "end_time": "2025-06-05T19:05:40.802223Z",
     "start_time": "2025-06-05T19:05:40.800123Z"
    }
   },
   "outputs": [],
   "source": [
    "encoders = {\n",
    "    \"cyclic\": {\n",
    "        \"past\": [\"month\", \"dayofyear\", \"day\", \"hour\", \"minute\"],\n",
    "        \"future\": [\"month\", \"dayofyear\", \"day\", \"hour\", \"minute\"]\n",
    "    },\n",
    "    \"transformer\": Scaler(),\n",
    "    \"datetime_attribute\": {\n",
    "        \"past\": [\"year\"],\n",
    "        \"future\": [\"year\"]\n",
    "    }\n",
    "}\n"
   ]
  },
  {
   "cell_type": "code",
   "execution_count": 4,
   "id": "3cc0a527e2e2a0a8",
   "metadata": {
    "ExecuteTime": {
     "end_time": "2025-06-05T19:05:40.852433Z",
     "start_time": "2025-06-05T19:05:40.850235Z"
    }
   },
   "outputs": [],
   "source": [
    "class PatchedPruningCallback(PyTorchLightningPruningCallback, Callback):\n",
    "    pass\n",
    "\n",
    "# Create directory to save iteration results\n",
    "results_output_dir = \"optuna_iteration_metrics\"\n",
    "os.makedirs(results_output_dir, exist_ok=True)"
   ]
  },
  {
   "cell_type": "code",
   "execution_count": 5,
   "id": "36495cef7ef43264",
   "metadata": {
    "ExecuteTime": {
     "end_time": "2025-06-05T19:05:40.906974Z",
     "start_time": "2025-06-05T19:05:40.899470Z"
    }
   },
   "outputs": [],
   "source": [
    "from sklearn.model_selection import TimeSeriesSplit\n",
    "\n",
    "def objective(trial):\n",
    "\n",
    "    input_chunk_length = trial.suggest_int(\"input_chunk_length\", 24, 168, step=12)\n",
    "    hidden_size = trial.suggest_int(\"hidden_size\", 32, 256, step=8)\n",
    "    dropout = trial.suggest_float(\"dropout\", 0.1, 0.5, step=0.05)\n",
    "    batch_size = trial.suggest_int(\"batch_size\", 64, 256, step=8)\n",
    "    lr = trial.suggest_float(\"lr\", 1e-6, 5e-3, log=True)\n",
    "    weight_decay = trial.suggest_float(\"weight_decay\", 1e-6, 1e-2, log=True)\n",
    "\n",
    "\n",
    "    ff_size = trial.suggest_int('ff_size', hidden_size, hidden_size * 4)\n",
    "    num_blocks = trial.suggest_int('num_blocks', 1, 4)\n",
    "    activation = trial.suggest_categorical('activation', ['ReLU', 'GELU'])\n",
    "    norm_type = trial.suggest_categorical('norm_type', ['LayerNormNoBias', 'LayerNorm', 'TimeBatchNorm2d'])\n",
    "    normalize_before = trial.suggest_categorical('normalize_before', [True, False])\n",
    "\n",
    "    early_stopper = EarlyStopping(\"val_loss\", min_delta=0.0005, patience=15, verbose=True)\n",
    "    prunner = PatchedPruningCallback(trial, monitor=\"val_loss\")\n",
    "    pl_trainer_kwargs = {\n",
    "        \"accelerator\": \"auto\",\n",
    "        \"callbacks\": [early_stopper, prunner],\n",
    "    }\n",
    "\n",
    "    n_splits = 3\n",
    "    tscv = TimeSeriesSplit(n_splits=n_splits)\n",
    "    overall_smape_list = []\n",
    "    metrics_per_fold = []\n",
    "    fold = 0\n",
    "\n",
    "    for train_index, val_index in tscv.split(df):\n",
    "        print(f\"\\nFold {fold+1}/{n_splits}\")\n",
    "        train_df_fold = df.iloc[train_index]\n",
    "        val_df_fold = df.iloc[val_index]\n",
    "        train_fold = TimeSeries.from_dataframe(train_df_fold, time_col=\"Timestamp\", value_cols=target_columns, freq='1h')\n",
    "        val_fold = TimeSeries.from_dataframe(val_df_fold, time_col=\"Timestamp\", value_cols=target_columns, freq='1h')\n",
    "\n",
    "        scaler = Scaler()\n",
    "        scaler = scaler.fit(train_fold)\n",
    "        train_scaled = scaler.transform(train_fold)\n",
    "        val_scaled = scaler.transform(val_fold)\n",
    "\n",
    "        opt_kwargs = {\"lr\": lr, \"weight_decay\": weight_decay}\n",
    "\n",
    "        model = TSMixerModel(\n",
    "            model_name=f\"model_{fold+1}\",\n",
    "            work_dir=\"/home/eduardo/Documentos/Water-Cycle-Neural-Network/darts_logs\",\n",
    "            input_chunk_length=input_chunk_length,\n",
    "            output_chunk_length=24,\n",
    "            hidden_size=hidden_size,\n",
    "            n_epochs=30,\n",
    "            batch_size=batch_size,\n",
    "            dropout=dropout,\n",
    "            ff_size=ff_size,\n",
    "            num_blocks=num_blocks,\n",
    "            activation=activation,\n",
    "            norm_type=norm_type,\n",
    "            normalize_before=normalize_before,\n",
    "            pl_trainer_kwargs=pl_trainer_kwargs,\n",
    "            loss_fn=torch.nn.L1Loss(),\n",
    "            optimizer_cls=torch.optim.Adam,\n",
    "            lr_scheduler_cls=torch.optim.lr_scheduler.ReduceLROnPlateau,\n",
    "            lr_scheduler_kwargs={\"mode\": \"min\", \"factor\": 0.3, \"patience\": 7, \"min_lr\": 1e-7},\n",
    "            save_checkpoints=True,\n",
    "            force_reset=True,\n",
    "            random_state=42,\n",
    "            optimizer_kwargs=opt_kwargs,\n",
    "        )\n",
    "        model.fit(\n",
    "            series=train_scaled,\n",
    "            val_series=val_scaled,\n",
    "            verbose=False,\n",
    "            dataloader_kwargs={\"num_workers\": 11},\n",
    "        )\n",
    "\n",
    "        try:\n",
    "            loaded_model = model.load_from_checkpoint(f\"/home/eduardo/Documentos/Water-Cycle-Neural-Network/darts_logs/model_{fold+1}\", best=True)\n",
    "            print(f\"Model loaded from checkpoint for trial {trial.number}, fold {fold}\")\n",
    "        except FileNotFoundError:\n",
    "            print(f\"Checkpoint not found. Using the in-memory trained model.\")\n",
    "            loaded_model = model\n",
    "\n",
    "        forecasts = loaded_model.historical_forecasts(\n",
    "            val_scaled,\n",
    "            forecast_horizon=24,\n",
    "            stride=1,\n",
    "            retrain=False,\n",
    "            verbose=False\n",
    "        )\n",
    "\n",
    "\n",
    "        forecasts_t = scaler.inverse_transform(forecasts)\n",
    "        s = scaler.inverse_transform(val_scaled)\n",
    "\n",
    "        overall_smape_val = smape(s, forecasts_t)\n",
    "        print(f\"SMAPE fold {fold}: {overall_smape_val}\")\n",
    "        overall_smape_list.append(overall_smape_val)\n",
    "        \n",
    "        metrics = {}\n",
    "        for target in target_columns:\n",
    "            metrics[target] = {\n",
    "                'MSE': mse(s[target], forecasts_t[target]),\n",
    "                'RMSE': rmse(s[target], forecasts_t[target]),\n",
    "                'MAE': mae(s[target], forecasts_t[target]),\n",
    "                'R2': r2_score(s[target], forecasts_t[target]),\n",
    "                'SMAPE': smape(s[target], forecasts_t[target]),\n",
    "                'WAPE': wmape(s[target], forecasts_t[target]),\n",
    "            }\n",
    "        metrics_per_fold.append(metrics)\n",
    "        fold += 1\n",
    "\n",
    "    mean_smape = np.mean(overall_smape_list)\n",
    "    print(f\"Média dos SMAPE nos folds: {mean_smape}\")\n",
    "\n",
    "    trial_dict = {\n",
    "        \"trial_number\": trial.number,\n",
    "        \"fold_smape\": overall_smape_list,\n",
    "        \"mean_smape\": mean_smape,\n",
    "        \"hyperparameters\": trial.params,\n",
    "        \"metrics_per_fold\": metrics_per_fold\n",
    "    }\n",
    "    json_path = os.path.join(results_output_dir, f\"trial_{trial.number}.json\")\n",
    "    with open(json_path, 'w') as f:\n",
    "        json.dump(trial_dict, f, indent=4)\n",
    "    print(f\"Results of trial {trial.number} saved in {json_path}\")\n",
    "    return mean_smape if not np.isnan(mean_smape) else float(\"inf\")"
   ]
  },
  {
   "cell_type": "code",
   "execution_count": 6,
   "id": "b36084313658a946",
   "metadata": {
    "ExecuteTime": {
     "end_time": "2025-06-05T19:05:40.951388Z",
     "start_time": "2025-06-05T19:05:40.949280Z"
    }
   },
   "outputs": [],
   "source": [
    "def print_callback(study, trial):\n",
    "    print(f\"Current value: {trial.value}, Current params: {trial.params}\")\n",
    "    print(f\"Best value: {study.best_value}, Best params: {study.best_trial.params}\")"
   ]
  },
  {
   "cell_type": "code",
   "execution_count": 7,
   "id": "c016d2f3570996c0",
   "metadata": {
    "ExecuteTime": {
     "end_time": "2025-06-05T19:07:50.838576Z",
     "start_time": "2025-06-05T19:05:40.997387Z"
    }
   },
   "outputs": [
    {
     "name": "stderr",
     "output_type": "stream",
     "text": [
      "[I 2025-06-10 18:38:46,624] A new study created in memory with name: no-name-fe5d796b-94b9-43c8-8dd2-b0821f3ce245\n"
     ]
    },
    {
     "name": "stdout",
     "output_type": "stream",
     "text": [
      "\n",
      "Fold 1/3\n"
     ]
    },
    {
     "name": "stderr",
     "output_type": "stream",
     "text": [
      "GPU available: True (cuda), used: True\n",
      "TPU available: False, using: 0 TPU cores\n",
      "HPU available: False, using: 0 HPUs\n",
      "LOCAL_RANK: 0 - CUDA_VISIBLE_DEVICES: [0]\n",
      "Metric val_loss improved. New best score: 8.328\n",
      "Metric val_loss improved by 0.002 >= min_delta = 0.0005. New best score: 8.326\n",
      "Metric val_loss improved by 0.002 >= min_delta = 0.0005. New best score: 8.323\n",
      "Metric val_loss improved by 0.002 >= min_delta = 0.0005. New best score: 8.321\n",
      "Metric val_loss improved by 0.002 >= min_delta = 0.0005. New best score: 8.319\n",
      "Metric val_loss improved by 0.002 >= min_delta = 0.0005. New best score: 8.317\n",
      "Metric val_loss improved by 0.002 >= min_delta = 0.0005. New best score: 8.314\n",
      "Metric val_loss improved by 0.002 >= min_delta = 0.0005. New best score: 8.312\n",
      "Metric val_loss improved by 0.002 >= min_delta = 0.0005. New best score: 8.310\n",
      "Metric val_loss improved by 0.002 >= min_delta = 0.0005. New best score: 8.307\n",
      "Metric val_loss improved by 0.002 >= min_delta = 0.0005. New best score: 8.305\n",
      "Metric val_loss improved by 0.002 >= min_delta = 0.0005. New best score: 8.303\n",
      "Metric val_loss improved by 0.002 >= min_delta = 0.0005. New best score: 8.301\n",
      "Metric val_loss improved by 0.002 >= min_delta = 0.0005. New best score: 8.299\n",
      "Metric val_loss improved by 0.002 >= min_delta = 0.0005. New best score: 8.296\n",
      "Metric val_loss improved by 0.002 >= min_delta = 0.0005. New best score: 8.294\n",
      "Metric val_loss improved by 0.002 >= min_delta = 0.0005. New best score: 8.292\n",
      "Metric val_loss improved by 0.002 >= min_delta = 0.0005. New best score: 8.290\n",
      "Metric val_loss improved by 0.002 >= min_delta = 0.0005. New best score: 8.288\n",
      "Metric val_loss improved by 0.002 >= min_delta = 0.0005. New best score: 8.285\n",
      "Metric val_loss improved by 0.002 >= min_delta = 0.0005. New best score: 8.283\n",
      "Metric val_loss improved by 0.002 >= min_delta = 0.0005. New best score: 8.281\n",
      "Metric val_loss improved by 0.002 >= min_delta = 0.0005. New best score: 8.279\n",
      "Metric val_loss improved by 0.002 >= min_delta = 0.0005. New best score: 8.276\n",
      "Metric val_loss improved by 0.002 >= min_delta = 0.0005. New best score: 8.274\n",
      "Metric val_loss improved by 0.002 >= min_delta = 0.0005. New best score: 8.272\n",
      "Metric val_loss improved by 0.002 >= min_delta = 0.0005. New best score: 8.270\n",
      "Metric val_loss improved by 0.002 >= min_delta = 0.0005. New best score: 8.268\n",
      "Metric val_loss improved by 0.002 >= min_delta = 0.0005. New best score: 8.266\n",
      "Metric val_loss improved by 0.002 >= min_delta = 0.0005. New best score: 8.263\n",
      "`Trainer.fit` stopped: `max_epochs=30` reached.\n",
      "GPU available: True (cuda), used: True\n",
      "TPU available: False, using: 0 TPU cores\n",
      "HPU available: False, using: 0 HPUs\n",
      "LOCAL_RANK: 0 - CUDA_VISIBLE_DEVICES: [0]\n"
     ]
    },
    {
     "name": "stdout",
     "output_type": "stream",
     "text": [
      "Model loaded from checkpoint for trial 0, fold 0\n"
     ]
    },
    {
     "name": "stderr",
     "output_type": "stream",
     "text": [
      "GPU available: True (cuda), used: True\n",
      "TPU available: False, using: 0 TPU cores\n",
      "HPU available: False, using: 0 HPUs\n",
      "LOCAL_RANK: 0 - CUDA_VISIBLE_DEVICES: [0]\n"
     ]
    },
    {
     "name": "stdout",
     "output_type": "stream",
     "text": [
      "SMAPE fold 0: 155.42353231043967\n",
      "\n",
      "Fold 2/3\n"
     ]
    },
    {
     "name": "stderr",
     "output_type": "stream",
     "text": [
      "/home/eduardo/Documentos/Water-Cycle-Neural-Network/venv/lib/python3.12/site-packages/optuna/trial/_trial.py:497: UserWarning: The reported value is ignored because this `step` 0 is already reported.\n",
      "  warnings.warn(\n",
      "Metric val_loss improved by 7.415 >= min_delta = 0.0005. New best score: 0.848\n",
      "/home/eduardo/Documentos/Water-Cycle-Neural-Network/venv/lib/python3.12/site-packages/optuna/trial/_trial.py:497: UserWarning: The reported value is ignored because this `step` 1 is already reported.\n",
      "  warnings.warn(\n",
      "Metric val_loss improved by 0.007 >= min_delta = 0.0005. New best score: 0.841\n",
      "/home/eduardo/Documentos/Water-Cycle-Neural-Network/venv/lib/python3.12/site-packages/optuna/trial/_trial.py:497: UserWarning: The reported value is ignored because this `step` 2 is already reported.\n",
      "  warnings.warn(\n",
      "Metric val_loss improved by 0.007 >= min_delta = 0.0005. New best score: 0.833\n",
      "/home/eduardo/Documentos/Water-Cycle-Neural-Network/venv/lib/python3.12/site-packages/optuna/trial/_trial.py:497: UserWarning: The reported value is ignored because this `step` 3 is already reported.\n",
      "  warnings.warn(\n",
      "Metric val_loss improved by 0.007 >= min_delta = 0.0005. New best score: 0.826\n",
      "/home/eduardo/Documentos/Water-Cycle-Neural-Network/venv/lib/python3.12/site-packages/optuna/trial/_trial.py:497: UserWarning: The reported value is ignored because this `step` 4 is already reported.\n",
      "  warnings.warn(\n",
      "Metric val_loss improved by 0.007 >= min_delta = 0.0005. New best score: 0.819\n",
      "/home/eduardo/Documentos/Water-Cycle-Neural-Network/venv/lib/python3.12/site-packages/optuna/trial/_trial.py:497: UserWarning: The reported value is ignored because this `step` 5 is already reported.\n",
      "  warnings.warn(\n",
      "Metric val_loss improved by 0.007 >= min_delta = 0.0005. New best score: 0.811\n",
      "/home/eduardo/Documentos/Water-Cycle-Neural-Network/venv/lib/python3.12/site-packages/optuna/trial/_trial.py:497: UserWarning: The reported value is ignored because this `step` 6 is already reported.\n",
      "  warnings.warn(\n",
      "Metric val_loss improved by 0.007 >= min_delta = 0.0005. New best score: 0.804\n",
      "/home/eduardo/Documentos/Water-Cycle-Neural-Network/venv/lib/python3.12/site-packages/optuna/trial/_trial.py:497: UserWarning: The reported value is ignored because this `step` 7 is already reported.\n",
      "  warnings.warn(\n",
      "Metric val_loss improved by 0.007 >= min_delta = 0.0005. New best score: 0.797\n",
      "/home/eduardo/Documentos/Water-Cycle-Neural-Network/venv/lib/python3.12/site-packages/optuna/trial/_trial.py:497: UserWarning: The reported value is ignored because this `step` 8 is already reported.\n",
      "  warnings.warn(\n",
      "Metric val_loss improved by 0.007 >= min_delta = 0.0005. New best score: 0.789\n",
      "/home/eduardo/Documentos/Water-Cycle-Neural-Network/venv/lib/python3.12/site-packages/optuna/trial/_trial.py:497: UserWarning: The reported value is ignored because this `step` 9 is already reported.\n",
      "  warnings.warn(\n",
      "Metric val_loss improved by 0.007 >= min_delta = 0.0005. New best score: 0.782\n",
      "/home/eduardo/Documentos/Water-Cycle-Neural-Network/venv/lib/python3.12/site-packages/optuna/trial/_trial.py:497: UserWarning: The reported value is ignored because this `step` 10 is already reported.\n",
      "  warnings.warn(\n",
      "Metric val_loss improved by 0.007 >= min_delta = 0.0005. New best score: 0.775\n",
      "/home/eduardo/Documentos/Water-Cycle-Neural-Network/venv/lib/python3.12/site-packages/optuna/trial/_trial.py:497: UserWarning: The reported value is ignored because this `step` 11 is already reported.\n",
      "  warnings.warn(\n",
      "Metric val_loss improved by 0.007 >= min_delta = 0.0005. New best score: 0.767\n",
      "/home/eduardo/Documentos/Water-Cycle-Neural-Network/venv/lib/python3.12/site-packages/optuna/trial/_trial.py:497: UserWarning: The reported value is ignored because this `step` 12 is already reported.\n",
      "  warnings.warn(\n",
      "Metric val_loss improved by 0.007 >= min_delta = 0.0005. New best score: 0.760\n",
      "/home/eduardo/Documentos/Water-Cycle-Neural-Network/venv/lib/python3.12/site-packages/optuna/trial/_trial.py:497: UserWarning: The reported value is ignored because this `step` 13 is already reported.\n",
      "  warnings.warn(\n",
      "Metric val_loss improved by 0.007 >= min_delta = 0.0005. New best score: 0.753\n",
      "/home/eduardo/Documentos/Water-Cycle-Neural-Network/venv/lib/python3.12/site-packages/optuna/trial/_trial.py:497: UserWarning: The reported value is ignored because this `step` 14 is already reported.\n",
      "  warnings.warn(\n",
      "Metric val_loss improved by 0.007 >= min_delta = 0.0005. New best score: 0.746\n",
      "/home/eduardo/Documentos/Water-Cycle-Neural-Network/venv/lib/python3.12/site-packages/optuna/trial/_trial.py:497: UserWarning: The reported value is ignored because this `step` 15 is already reported.\n",
      "  warnings.warn(\n",
      "Metric val_loss improved by 0.007 >= min_delta = 0.0005. New best score: 0.739\n",
      "/home/eduardo/Documentos/Water-Cycle-Neural-Network/venv/lib/python3.12/site-packages/optuna/trial/_trial.py:497: UserWarning: The reported value is ignored because this `step` 16 is already reported.\n",
      "  warnings.warn(\n",
      "Metric val_loss improved by 0.007 >= min_delta = 0.0005. New best score: 0.731\n",
      "/home/eduardo/Documentos/Water-Cycle-Neural-Network/venv/lib/python3.12/site-packages/optuna/trial/_trial.py:497: UserWarning: The reported value is ignored because this `step` 17 is already reported.\n",
      "  warnings.warn(\n",
      "Metric val_loss improved by 0.007 >= min_delta = 0.0005. New best score: 0.724\n",
      "/home/eduardo/Documentos/Water-Cycle-Neural-Network/venv/lib/python3.12/site-packages/optuna/trial/_trial.py:497: UserWarning: The reported value is ignored because this `step` 18 is already reported.\n",
      "  warnings.warn(\n",
      "Metric val_loss improved by 0.007 >= min_delta = 0.0005. New best score: 0.717\n",
      "/home/eduardo/Documentos/Water-Cycle-Neural-Network/venv/lib/python3.12/site-packages/optuna/trial/_trial.py:497: UserWarning: The reported value is ignored because this `step` 19 is already reported.\n",
      "  warnings.warn(\n",
      "Metric val_loss improved by 0.007 >= min_delta = 0.0005. New best score: 0.710\n",
      "/home/eduardo/Documentos/Water-Cycle-Neural-Network/venv/lib/python3.12/site-packages/optuna/trial/_trial.py:497: UserWarning: The reported value is ignored because this `step` 20 is already reported.\n",
      "  warnings.warn(\n",
      "Metric val_loss improved by 0.007 >= min_delta = 0.0005. New best score: 0.703\n",
      "/home/eduardo/Documentos/Water-Cycle-Neural-Network/venv/lib/python3.12/site-packages/optuna/trial/_trial.py:497: UserWarning: The reported value is ignored because this `step` 21 is already reported.\n",
      "  warnings.warn(\n",
      "Metric val_loss improved by 0.007 >= min_delta = 0.0005. New best score: 0.697\n",
      "/home/eduardo/Documentos/Water-Cycle-Neural-Network/venv/lib/python3.12/site-packages/optuna/trial/_trial.py:497: UserWarning: The reported value is ignored because this `step` 22 is already reported.\n",
      "  warnings.warn(\n",
      "Metric val_loss improved by 0.007 >= min_delta = 0.0005. New best score: 0.690\n",
      "/home/eduardo/Documentos/Water-Cycle-Neural-Network/venv/lib/python3.12/site-packages/optuna/trial/_trial.py:497: UserWarning: The reported value is ignored because this `step` 23 is already reported.\n",
      "  warnings.warn(\n",
      "Metric val_loss improved by 0.007 >= min_delta = 0.0005. New best score: 0.683\n",
      "/home/eduardo/Documentos/Water-Cycle-Neural-Network/venv/lib/python3.12/site-packages/optuna/trial/_trial.py:497: UserWarning: The reported value is ignored because this `step` 24 is already reported.\n",
      "  warnings.warn(\n",
      "Metric val_loss improved by 0.007 >= min_delta = 0.0005. New best score: 0.676\n",
      "/home/eduardo/Documentos/Water-Cycle-Neural-Network/venv/lib/python3.12/site-packages/optuna/trial/_trial.py:497: UserWarning: The reported value is ignored because this `step` 25 is already reported.\n",
      "  warnings.warn(\n",
      "Metric val_loss improved by 0.007 >= min_delta = 0.0005. New best score: 0.669\n",
      "/home/eduardo/Documentos/Water-Cycle-Neural-Network/venv/lib/python3.12/site-packages/optuna/trial/_trial.py:497: UserWarning: The reported value is ignored because this `step` 26 is already reported.\n",
      "  warnings.warn(\n",
      "Metric val_loss improved by 0.007 >= min_delta = 0.0005. New best score: 0.663\n",
      "/home/eduardo/Documentos/Water-Cycle-Neural-Network/venv/lib/python3.12/site-packages/optuna/trial/_trial.py:497: UserWarning: The reported value is ignored because this `step` 27 is already reported.\n",
      "  warnings.warn(\n",
      "Metric val_loss improved by 0.006 >= min_delta = 0.0005. New best score: 0.656\n",
      "/home/eduardo/Documentos/Water-Cycle-Neural-Network/venv/lib/python3.12/site-packages/optuna/trial/_trial.py:497: UserWarning: The reported value is ignored because this `step` 28 is already reported.\n",
      "  warnings.warn(\n",
      "Metric val_loss improved by 0.006 >= min_delta = 0.0005. New best score: 0.650\n",
      "/home/eduardo/Documentos/Water-Cycle-Neural-Network/venv/lib/python3.12/site-packages/optuna/trial/_trial.py:497: UserWarning: The reported value is ignored because this `step` 29 is already reported.\n",
      "  warnings.warn(\n",
      "Metric val_loss improved by 0.006 >= min_delta = 0.0005. New best score: 0.644\n",
      "`Trainer.fit` stopped: `max_epochs=30` reached.\n",
      "GPU available: True (cuda), used: True\n",
      "TPU available: False, using: 0 TPU cores\n",
      "HPU available: False, using: 0 HPUs\n",
      "LOCAL_RANK: 0 - CUDA_VISIBLE_DEVICES: [0]\n"
     ]
    },
    {
     "name": "stdout",
     "output_type": "stream",
     "text": [
      "Model loaded from checkpoint for trial 0, fold 1\n"
     ]
    },
    {
     "name": "stderr",
     "output_type": "stream",
     "text": [
      "GPU available: True (cuda), used: True\n",
      "TPU available: False, using: 0 TPU cores\n",
      "HPU available: False, using: 0 HPUs\n",
      "LOCAL_RANK: 0 - CUDA_VISIBLE_DEVICES: [0]\n"
     ]
    },
    {
     "name": "stdout",
     "output_type": "stream",
     "text": [
      "SMAPE fold 1: 140.11928451396875\n",
      "\n",
      "Fold 3/3\n"
     ]
    },
    {
     "name": "stderr",
     "output_type": "stream",
     "text": [
      "/home/eduardo/Documentos/Water-Cycle-Neural-Network/venv/lib/python3.12/site-packages/optuna/trial/_trial.py:497: UserWarning: The reported value is ignored because this `step` 0 is already reported.\n",
      "  warnings.warn(\n",
      "/home/eduardo/Documentos/Water-Cycle-Neural-Network/venv/lib/python3.12/site-packages/optuna/trial/_trial.py:497: UserWarning: The reported value is ignored because this `step` 1 is already reported.\n",
      "  warnings.warn(\n",
      "/home/eduardo/Documentos/Water-Cycle-Neural-Network/venv/lib/python3.12/site-packages/optuna/trial/_trial.py:497: UserWarning: The reported value is ignored because this `step` 2 is already reported.\n",
      "  warnings.warn(\n",
      "/home/eduardo/Documentos/Water-Cycle-Neural-Network/venv/lib/python3.12/site-packages/optuna/trial/_trial.py:497: UserWarning: The reported value is ignored because this `step` 3 is already reported.\n",
      "  warnings.warn(\n",
      "/home/eduardo/Documentos/Water-Cycle-Neural-Network/venv/lib/python3.12/site-packages/optuna/trial/_trial.py:497: UserWarning: The reported value is ignored because this `step` 4 is already reported.\n",
      "  warnings.warn(\n",
      "/home/eduardo/Documentos/Water-Cycle-Neural-Network/venv/lib/python3.12/site-packages/optuna/trial/_trial.py:497: UserWarning: The reported value is ignored because this `step` 5 is already reported.\n",
      "  warnings.warn(\n",
      "/home/eduardo/Documentos/Water-Cycle-Neural-Network/venv/lib/python3.12/site-packages/optuna/trial/_trial.py:497: UserWarning: The reported value is ignored because this `step` 6 is already reported.\n",
      "  warnings.warn(\n",
      "/home/eduardo/Documentos/Water-Cycle-Neural-Network/venv/lib/python3.12/site-packages/optuna/trial/_trial.py:497: UserWarning: The reported value is ignored because this `step` 7 is already reported.\n",
      "  warnings.warn(\n",
      "/home/eduardo/Documentos/Water-Cycle-Neural-Network/venv/lib/python3.12/site-packages/optuna/trial/_trial.py:497: UserWarning: The reported value is ignored because this `step` 8 is already reported.\n",
      "  warnings.warn(\n",
      "/home/eduardo/Documentos/Water-Cycle-Neural-Network/venv/lib/python3.12/site-packages/optuna/trial/_trial.py:497: UserWarning: The reported value is ignored because this `step` 9 is already reported.\n",
      "  warnings.warn(\n",
      "/home/eduardo/Documentos/Water-Cycle-Neural-Network/venv/lib/python3.12/site-packages/optuna/trial/_trial.py:497: UserWarning: The reported value is ignored because this `step` 10 is already reported.\n",
      "  warnings.warn(\n",
      "/home/eduardo/Documentos/Water-Cycle-Neural-Network/venv/lib/python3.12/site-packages/optuna/trial/_trial.py:497: UserWarning: The reported value is ignored because this `step` 11 is already reported.\n",
      "  warnings.warn(\n",
      "/home/eduardo/Documentos/Water-Cycle-Neural-Network/venv/lib/python3.12/site-packages/optuna/trial/_trial.py:497: UserWarning: The reported value is ignored because this `step` 12 is already reported.\n",
      "  warnings.warn(\n",
      "/home/eduardo/Documentos/Water-Cycle-Neural-Network/venv/lib/python3.12/site-packages/optuna/trial/_trial.py:497: UserWarning: The reported value is ignored because this `step` 13 is already reported.\n",
      "  warnings.warn(\n",
      "Metric val_loss improved by 0.008 >= min_delta = 0.0005. New best score: 0.635\n",
      "/home/eduardo/Documentos/Water-Cycle-Neural-Network/venv/lib/python3.12/site-packages/optuna/trial/_trial.py:497: UserWarning: The reported value is ignored because this `step` 14 is already reported.\n",
      "  warnings.warn(\n",
      "Metric val_loss improved by 0.010 >= min_delta = 0.0005. New best score: 0.625\n",
      "/home/eduardo/Documentos/Water-Cycle-Neural-Network/venv/lib/python3.12/site-packages/optuna/trial/_trial.py:497: UserWarning: The reported value is ignored because this `step` 15 is already reported.\n",
      "  warnings.warn(\n",
      "Metric val_loss improved by 0.010 >= min_delta = 0.0005. New best score: 0.615\n",
      "/home/eduardo/Documentos/Water-Cycle-Neural-Network/venv/lib/python3.12/site-packages/optuna/trial/_trial.py:497: UserWarning: The reported value is ignored because this `step` 16 is already reported.\n",
      "  warnings.warn(\n",
      "Metric val_loss improved by 0.010 >= min_delta = 0.0005. New best score: 0.605\n",
      "/home/eduardo/Documentos/Water-Cycle-Neural-Network/venv/lib/python3.12/site-packages/optuna/trial/_trial.py:497: UserWarning: The reported value is ignored because this `step` 17 is already reported.\n",
      "  warnings.warn(\n",
      "Metric val_loss improved by 0.010 >= min_delta = 0.0005. New best score: 0.595\n",
      "/home/eduardo/Documentos/Water-Cycle-Neural-Network/venv/lib/python3.12/site-packages/optuna/trial/_trial.py:497: UserWarning: The reported value is ignored because this `step` 18 is already reported.\n",
      "  warnings.warn(\n",
      "Metric val_loss improved by 0.010 >= min_delta = 0.0005. New best score: 0.585\n",
      "/home/eduardo/Documentos/Water-Cycle-Neural-Network/venv/lib/python3.12/site-packages/optuna/trial/_trial.py:497: UserWarning: The reported value is ignored because this `step` 19 is already reported.\n",
      "  warnings.warn(\n",
      "Metric val_loss improved by 0.010 >= min_delta = 0.0005. New best score: 0.576\n",
      "/home/eduardo/Documentos/Water-Cycle-Neural-Network/venv/lib/python3.12/site-packages/optuna/trial/_trial.py:497: UserWarning: The reported value is ignored because this `step` 20 is already reported.\n",
      "  warnings.warn(\n",
      "Metric val_loss improved by 0.009 >= min_delta = 0.0005. New best score: 0.566\n",
      "/home/eduardo/Documentos/Water-Cycle-Neural-Network/venv/lib/python3.12/site-packages/optuna/trial/_trial.py:497: UserWarning: The reported value is ignored because this `step` 21 is already reported.\n",
      "  warnings.warn(\n",
      "Metric val_loss improved by 0.009 >= min_delta = 0.0005. New best score: 0.557\n",
      "/home/eduardo/Documentos/Water-Cycle-Neural-Network/venv/lib/python3.12/site-packages/optuna/trial/_trial.py:497: UserWarning: The reported value is ignored because this `step` 22 is already reported.\n",
      "  warnings.warn(\n",
      "Metric val_loss improved by 0.009 >= min_delta = 0.0005. New best score: 0.548\n",
      "/home/eduardo/Documentos/Water-Cycle-Neural-Network/venv/lib/python3.12/site-packages/optuna/trial/_trial.py:497: UserWarning: The reported value is ignored because this `step` 23 is already reported.\n",
      "  warnings.warn(\n",
      "Metric val_loss improved by 0.009 >= min_delta = 0.0005. New best score: 0.540\n",
      "/home/eduardo/Documentos/Water-Cycle-Neural-Network/venv/lib/python3.12/site-packages/optuna/trial/_trial.py:497: UserWarning: The reported value is ignored because this `step` 24 is already reported.\n",
      "  warnings.warn(\n",
      "Metric val_loss improved by 0.008 >= min_delta = 0.0005. New best score: 0.531\n",
      "/home/eduardo/Documentos/Water-Cycle-Neural-Network/venv/lib/python3.12/site-packages/optuna/trial/_trial.py:497: UserWarning: The reported value is ignored because this `step` 25 is already reported.\n",
      "  warnings.warn(\n",
      "Metric val_loss improved by 0.008 >= min_delta = 0.0005. New best score: 0.523\n",
      "/home/eduardo/Documentos/Water-Cycle-Neural-Network/venv/lib/python3.12/site-packages/optuna/trial/_trial.py:497: UserWarning: The reported value is ignored because this `step` 26 is already reported.\n",
      "  warnings.warn(\n",
      "Metric val_loss improved by 0.008 >= min_delta = 0.0005. New best score: 0.515\n",
      "/home/eduardo/Documentos/Water-Cycle-Neural-Network/venv/lib/python3.12/site-packages/optuna/trial/_trial.py:497: UserWarning: The reported value is ignored because this `step` 27 is already reported.\n",
      "  warnings.warn(\n",
      "Metric val_loss improved by 0.008 >= min_delta = 0.0005. New best score: 0.507\n",
      "/home/eduardo/Documentos/Water-Cycle-Neural-Network/venv/lib/python3.12/site-packages/optuna/trial/_trial.py:497: UserWarning: The reported value is ignored because this `step` 28 is already reported.\n",
      "  warnings.warn(\n",
      "Metric val_loss improved by 0.008 >= min_delta = 0.0005. New best score: 0.499\n",
      "/home/eduardo/Documentos/Water-Cycle-Neural-Network/venv/lib/python3.12/site-packages/optuna/trial/_trial.py:497: UserWarning: The reported value is ignored because this `step` 29 is already reported.\n",
      "  warnings.warn(\n",
      "Metric val_loss improved by 0.008 >= min_delta = 0.0005. New best score: 0.492\n",
      "`Trainer.fit` stopped: `max_epochs=30` reached.\n",
      "GPU available: True (cuda), used: True\n",
      "TPU available: False, using: 0 TPU cores\n",
      "HPU available: False, using: 0 HPUs\n",
      "LOCAL_RANK: 0 - CUDA_VISIBLE_DEVICES: [0]\n"
     ]
    },
    {
     "name": "stdout",
     "output_type": "stream",
     "text": [
      "Model loaded from checkpoint for trial 0, fold 2\n"
     ]
    },
    {
     "name": "stderr",
     "output_type": "stream",
     "text": [
      "[I 2025-06-10 18:40:14,881] Trial 0 finished with value: 137.8719890059884 and parameters: {'input_chunk_length': 108, 'hidden_size': 48, 'dropout': 0.5, 'batch_size': 224, 'lr': 2.139716872753996e-06, 'weight_decay': 0.0033272497940445363, 'ff_size': 106, 'num_blocks': 4, 'activation': 'GELU', 'norm_type': 'LayerNorm', 'normalize_before': False}. Best is trial 0 with value: 137.8719890059884.\n",
      "GPU available: True (cuda), used: True\n",
      "TPU available: False, using: 0 TPU cores\n",
      "HPU available: False, using: 0 HPUs\n",
      "LOCAL_RANK: 0 - CUDA_VISIBLE_DEVICES: [0]\n"
     ]
    },
    {
     "name": "stdout",
     "output_type": "stream",
     "text": [
      "SMAPE fold 2: 118.07315019355683\n",
      "Média dos SMAPE nos folds: 137.8719890059884\n",
      "Results of trial 0 saved in optuna_iteration_metrics/trial_0.json\n",
      "Current value: 137.8719890059884, Current params: {'input_chunk_length': 108, 'hidden_size': 48, 'dropout': 0.5, 'batch_size': 224, 'lr': 2.139716872753996e-06, 'weight_decay': 0.0033272497940445363, 'ff_size': 106, 'num_blocks': 4, 'activation': 'GELU', 'norm_type': 'LayerNorm', 'normalize_before': False}\n",
      "Best value: 137.8719890059884, Best params: {'input_chunk_length': 108, 'hidden_size': 48, 'dropout': 0.5, 'batch_size': 224, 'lr': 2.139716872753996e-06, 'weight_decay': 0.0033272497940445363, 'ff_size': 106, 'num_blocks': 4, 'activation': 'GELU', 'norm_type': 'LayerNorm', 'normalize_before': False}\n",
      "\n",
      "Fold 1/3\n"
     ]
    },
    {
     "name": "stderr",
     "output_type": "stream",
     "text": [
      "Metric val_loss improved. New best score: 9.043\n",
      "Metric val_loss improved by 0.003 >= min_delta = 0.0005. New best score: 9.041\n",
      "Metric val_loss improved by 0.001 >= min_delta = 0.0005. New best score: 9.039\n",
      "Metric val_loss improved by 0.004 >= min_delta = 0.0005. New best score: 9.036\n",
      "Metric val_loss improved by 0.001 >= min_delta = 0.0005. New best score: 9.035\n",
      "Metric val_loss improved by 0.003 >= min_delta = 0.0005. New best score: 9.032\n",
      "Metric val_loss improved by 0.001 >= min_delta = 0.0005. New best score: 9.031\n",
      "Metric val_loss improved by 0.001 >= min_delta = 0.0005. New best score: 9.030\n",
      "Monitored metric val_loss did not improve in the last 15 records. Best score: 9.030. Signaling Trainer to stop.\n",
      "GPU available: True (cuda), used: True\n",
      "TPU available: False, using: 0 TPU cores\n",
      "HPU available: False, using: 0 HPUs\n",
      "LOCAL_RANK: 0 - CUDA_VISIBLE_DEVICES: [0]\n"
     ]
    },
    {
     "name": "stdout",
     "output_type": "stream",
     "text": [
      "Model loaded from checkpoint for trial 1, fold 0\n"
     ]
    },
    {
     "name": "stderr",
     "output_type": "stream",
     "text": [
      "GPU available: True (cuda), used: True\n",
      "TPU available: False, using: 0 TPU cores\n",
      "HPU available: False, using: 0 HPUs\n",
      "LOCAL_RANK: 0 - CUDA_VISIBLE_DEVICES: [0]\n"
     ]
    },
    {
     "name": "stdout",
     "output_type": "stream",
     "text": [
      "SMAPE fold 0: 162.58583243799347\n",
      "\n",
      "Fold 2/3\n"
     ]
    },
    {
     "name": "stderr",
     "output_type": "stream",
     "text": [
      "/home/eduardo/Documentos/Water-Cycle-Neural-Network/venv/lib/python3.12/site-packages/optuna/trial/_trial.py:497: UserWarning: The reported value is ignored because this `step` 0 is already reported.\n",
      "  warnings.warn(\n",
      "Metric val_loss improved by 8.617 >= min_delta = 0.0005. New best score: 0.413\n",
      "/home/eduardo/Documentos/Water-Cycle-Neural-Network/venv/lib/python3.12/site-packages/optuna/trial/_trial.py:497: UserWarning: The reported value is ignored because this `step` 1 is already reported.\n",
      "  warnings.warn(\n",
      "Metric val_loss improved by 0.078 >= min_delta = 0.0005. New best score: 0.335\n",
      "/home/eduardo/Documentos/Water-Cycle-Neural-Network/venv/lib/python3.12/site-packages/optuna/trial/_trial.py:497: UserWarning: The reported value is ignored because this `step` 2 is already reported.\n",
      "  warnings.warn(\n",
      "Metric val_loss improved by 0.061 >= min_delta = 0.0005. New best score: 0.274\n",
      "/home/eduardo/Documentos/Water-Cycle-Neural-Network/venv/lib/python3.12/site-packages/optuna/trial/_trial.py:497: UserWarning: The reported value is ignored because this `step` 3 is already reported.\n",
      "  warnings.warn(\n",
      "Metric val_loss improved by 0.034 >= min_delta = 0.0005. New best score: 0.240\n",
      "/home/eduardo/Documentos/Water-Cycle-Neural-Network/venv/lib/python3.12/site-packages/optuna/trial/_trial.py:497: UserWarning: The reported value is ignored because this `step` 4 is already reported.\n",
      "  warnings.warn(\n",
      "Metric val_loss improved by 0.036 >= min_delta = 0.0005. New best score: 0.205\n",
      "/home/eduardo/Documentos/Water-Cycle-Neural-Network/venv/lib/python3.12/site-packages/optuna/trial/_trial.py:497: UserWarning: The reported value is ignored because this `step` 5 is already reported.\n",
      "  warnings.warn(\n",
      "Metric val_loss improved by 0.023 >= min_delta = 0.0005. New best score: 0.182\n",
      "/home/eduardo/Documentos/Water-Cycle-Neural-Network/venv/lib/python3.12/site-packages/optuna/trial/_trial.py:497: UserWarning: The reported value is ignored because this `step` 6 is already reported.\n",
      "  warnings.warn(\n",
      "Metric val_loss improved by 0.017 >= min_delta = 0.0005. New best score: 0.165\n",
      "/home/eduardo/Documentos/Water-Cycle-Neural-Network/venv/lib/python3.12/site-packages/optuna/trial/_trial.py:497: UserWarning: The reported value is ignored because this `step` 7 is already reported.\n",
      "  warnings.warn(\n",
      "Metric val_loss improved by 0.013 >= min_delta = 0.0005. New best score: 0.152\n",
      "/home/eduardo/Documentos/Water-Cycle-Neural-Network/venv/lib/python3.12/site-packages/optuna/trial/_trial.py:497: UserWarning: The reported value is ignored because this `step` 8 is already reported.\n",
      "  warnings.warn(\n",
      "Metric val_loss improved by 0.008 >= min_delta = 0.0005. New best score: 0.144\n",
      "/home/eduardo/Documentos/Water-Cycle-Neural-Network/venv/lib/python3.12/site-packages/optuna/trial/_trial.py:497: UserWarning: The reported value is ignored because this `step` 9 is already reported.\n",
      "  warnings.warn(\n",
      "Metric val_loss improved by 0.010 >= min_delta = 0.0005. New best score: 0.134\n",
      "/home/eduardo/Documentos/Water-Cycle-Neural-Network/venv/lib/python3.12/site-packages/optuna/trial/_trial.py:497: UserWarning: The reported value is ignored because this `step` 10 is already reported.\n",
      "  warnings.warn(\n",
      "Metric val_loss improved by 0.008 >= min_delta = 0.0005. New best score: 0.126\n",
      "/home/eduardo/Documentos/Water-Cycle-Neural-Network/venv/lib/python3.12/site-packages/optuna/trial/_trial.py:497: UserWarning: The reported value is ignored because this `step` 11 is already reported.\n",
      "  warnings.warn(\n",
      "Metric val_loss improved by 0.007 >= min_delta = 0.0005. New best score: 0.119\n",
      "/home/eduardo/Documentos/Water-Cycle-Neural-Network/venv/lib/python3.12/site-packages/optuna/trial/_trial.py:497: UserWarning: The reported value is ignored because this `step` 12 is already reported.\n",
      "  warnings.warn(\n",
      "Metric val_loss improved by 0.004 >= min_delta = 0.0005. New best score: 0.115\n",
      "/home/eduardo/Documentos/Water-Cycle-Neural-Network/venv/lib/python3.12/site-packages/optuna/trial/_trial.py:497: UserWarning: The reported value is ignored because this `step` 13 is already reported.\n",
      "  warnings.warn(\n",
      "Metric val_loss improved by 0.003 >= min_delta = 0.0005. New best score: 0.112\n",
      "/home/eduardo/Documentos/Water-Cycle-Neural-Network/venv/lib/python3.12/site-packages/optuna/trial/_trial.py:497: UserWarning: The reported value is ignored because this `step` 14 is already reported.\n",
      "  warnings.warn(\n",
      "Metric val_loss improved by 0.003 >= min_delta = 0.0005. New best score: 0.109\n",
      "/home/eduardo/Documentos/Water-Cycle-Neural-Network/venv/lib/python3.12/site-packages/optuna/trial/_trial.py:497: UserWarning: The reported value is ignored because this `step` 15 is already reported.\n",
      "  warnings.warn(\n",
      "Metric val_loss improved by 0.003 >= min_delta = 0.0005. New best score: 0.107\n",
      "/home/eduardo/Documentos/Water-Cycle-Neural-Network/venv/lib/python3.12/site-packages/optuna/trial/_trial.py:497: UserWarning: The reported value is ignored because this `step` 16 is already reported.\n",
      "  warnings.warn(\n",
      "Metric val_loss improved by 0.003 >= min_delta = 0.0005. New best score: 0.104\n",
      "/home/eduardo/Documentos/Water-Cycle-Neural-Network/venv/lib/python3.12/site-packages/optuna/trial/_trial.py:497: UserWarning: The reported value is ignored because this `step` 17 is already reported.\n",
      "  warnings.warn(\n",
      "/home/eduardo/Documentos/Water-Cycle-Neural-Network/venv/lib/python3.12/site-packages/optuna/trial/_trial.py:497: UserWarning: The reported value is ignored because this `step` 18 is already reported.\n",
      "  warnings.warn(\n",
      "Metric val_loss improved by 0.001 >= min_delta = 0.0005. New best score: 0.102\n",
      "/home/eduardo/Documentos/Water-Cycle-Neural-Network/venv/lib/python3.12/site-packages/optuna/trial/_trial.py:497: UserWarning: The reported value is ignored because this `step` 19 is already reported.\n",
      "  warnings.warn(\n",
      "Metric val_loss improved by 0.001 >= min_delta = 0.0005. New best score: 0.101\n",
      "/home/eduardo/Documentos/Water-Cycle-Neural-Network/venv/lib/python3.12/site-packages/optuna/trial/_trial.py:497: UserWarning: The reported value is ignored because this `step` 20 is already reported.\n",
      "  warnings.warn(\n",
      "Metric val_loss improved by 0.001 >= min_delta = 0.0005. New best score: 0.100\n",
      "/home/eduardo/Documentos/Water-Cycle-Neural-Network/venv/lib/python3.12/site-packages/optuna/trial/_trial.py:497: UserWarning: The reported value is ignored because this `step` 21 is already reported.\n",
      "  warnings.warn(\n",
      "Metric val_loss improved by 0.002 >= min_delta = 0.0005. New best score: 0.098\n",
      "/home/eduardo/Documentos/Water-Cycle-Neural-Network/venv/lib/python3.12/site-packages/optuna/trial/_trial.py:497: UserWarning: The reported value is ignored because this `step` 22 is already reported.\n",
      "  warnings.warn(\n",
      "/home/eduardo/Documentos/Water-Cycle-Neural-Network/venv/lib/python3.12/site-packages/optuna/trial/_trial.py:497: UserWarning: The reported value is ignored because this `step` 23 is already reported.\n",
      "  warnings.warn(\n",
      "/home/eduardo/Documentos/Water-Cycle-Neural-Network/venv/lib/python3.12/site-packages/optuna/trial/_trial.py:497: UserWarning: The reported value is ignored because this `step` 24 is already reported.\n",
      "  warnings.warn(\n",
      "Metric val_loss improved by 0.004 >= min_delta = 0.0005. New best score: 0.094\n",
      "Metric val_loss improved by 0.001 >= min_delta = 0.0005. New best score: 0.094\n",
      "Metric val_loss improved by 0.001 >= min_delta = 0.0005. New best score: 0.092\n",
      "Metric val_loss improved by 0.003 >= min_delta = 0.0005. New best score: 0.089\n",
      "`Trainer.fit` stopped: `max_epochs=30` reached.\n",
      "GPU available: True (cuda), used: True\n",
      "TPU available: False, using: 0 TPU cores\n",
      "HPU available: False, using: 0 HPUs\n",
      "LOCAL_RANK: 0 - CUDA_VISIBLE_DEVICES: [0]\n"
     ]
    },
    {
     "name": "stdout",
     "output_type": "stream",
     "text": [
      "Model loaded from checkpoint for trial 1, fold 1\n"
     ]
    },
    {
     "name": "stderr",
     "output_type": "stream",
     "text": [
      "GPU available: True (cuda), used: True\n",
      "TPU available: False, using: 0 TPU cores\n",
      "HPU available: False, using: 0 HPUs\n",
      "LOCAL_RANK: 0 - CUDA_VISIBLE_DEVICES: [0]\n"
     ]
    },
    {
     "name": "stdout",
     "output_type": "stream",
     "text": [
      "SMAPE fold 1: 64.37424376688753\n",
      "\n",
      "Fold 3/3\n"
     ]
    },
    {
     "name": "stderr",
     "output_type": "stream",
     "text": [
      "/home/eduardo/Documentos/Water-Cycle-Neural-Network/venv/lib/python3.12/site-packages/optuna/trial/_trial.py:497: UserWarning: The reported value is ignored because this `step` 0 is already reported.\n",
      "  warnings.warn(\n",
      "/home/eduardo/Documentos/Water-Cycle-Neural-Network/venv/lib/python3.12/site-packages/optuna/trial/_trial.py:497: UserWarning: The reported value is ignored because this `step` 1 is already reported.\n",
      "  warnings.warn(\n",
      "/home/eduardo/Documentos/Water-Cycle-Neural-Network/venv/lib/python3.12/site-packages/optuna/trial/_trial.py:497: UserWarning: The reported value is ignored because this `step` 2 is already reported.\n",
      "  warnings.warn(\n",
      "/home/eduardo/Documentos/Water-Cycle-Neural-Network/venv/lib/python3.12/site-packages/optuna/trial/_trial.py:497: UserWarning: The reported value is ignored because this `step` 3 is already reported.\n",
      "  warnings.warn(\n",
      "/home/eduardo/Documentos/Water-Cycle-Neural-Network/venv/lib/python3.12/site-packages/optuna/trial/_trial.py:497: UserWarning: The reported value is ignored because this `step` 4 is already reported.\n",
      "  warnings.warn(\n",
      "/home/eduardo/Documentos/Water-Cycle-Neural-Network/venv/lib/python3.12/site-packages/optuna/trial/_trial.py:497: UserWarning: The reported value is ignored because this `step` 5 is already reported.\n",
      "  warnings.warn(\n",
      "/home/eduardo/Documentos/Water-Cycle-Neural-Network/venv/lib/python3.12/site-packages/optuna/trial/_trial.py:497: UserWarning: The reported value is ignored because this `step` 6 is already reported.\n",
      "  warnings.warn(\n",
      "/home/eduardo/Documentos/Water-Cycle-Neural-Network/venv/lib/python3.12/site-packages/optuna/trial/_trial.py:497: UserWarning: The reported value is ignored because this `step` 7 is already reported.\n",
      "  warnings.warn(\n",
      "/home/eduardo/Documentos/Water-Cycle-Neural-Network/venv/lib/python3.12/site-packages/optuna/trial/_trial.py:497: UserWarning: The reported value is ignored because this `step` 8 is already reported.\n",
      "  warnings.warn(\n",
      "/home/eduardo/Documentos/Water-Cycle-Neural-Network/venv/lib/python3.12/site-packages/optuna/trial/_trial.py:497: UserWarning: The reported value is ignored because this `step` 9 is already reported.\n",
      "  warnings.warn(\n",
      "/home/eduardo/Documentos/Water-Cycle-Neural-Network/venv/lib/python3.12/site-packages/optuna/trial/_trial.py:497: UserWarning: The reported value is ignored because this `step` 10 is already reported.\n",
      "  warnings.warn(\n",
      "/home/eduardo/Documentos/Water-Cycle-Neural-Network/venv/lib/python3.12/site-packages/optuna/trial/_trial.py:497: UserWarning: The reported value is ignored because this `step` 11 is already reported.\n",
      "  warnings.warn(\n",
      "/home/eduardo/Documentos/Water-Cycle-Neural-Network/venv/lib/python3.12/site-packages/optuna/trial/_trial.py:497: UserWarning: The reported value is ignored because this `step` 12 is already reported.\n",
      "  warnings.warn(\n",
      "/home/eduardo/Documentos/Water-Cycle-Neural-Network/venv/lib/python3.12/site-packages/optuna/trial/_trial.py:497: UserWarning: The reported value is ignored because this `step` 13 is already reported.\n",
      "  warnings.warn(\n",
      "/home/eduardo/Documentos/Water-Cycle-Neural-Network/venv/lib/python3.12/site-packages/optuna/trial/_trial.py:497: UserWarning: The reported value is ignored because this `step` 14 is already reported.\n",
      "  warnings.warn(\n",
      "Monitored metric val_loss did not improve in the last 15 records. Best score: 0.089. Signaling Trainer to stop.\n",
      "GPU available: True (cuda), used: True\n",
      "TPU available: False, using: 0 TPU cores\n",
      "HPU available: False, using: 0 HPUs\n",
      "LOCAL_RANK: 0 - CUDA_VISIBLE_DEVICES: [0]\n"
     ]
    },
    {
     "name": "stdout",
     "output_type": "stream",
     "text": [
      "Model loaded from checkpoint for trial 1, fold 2\n"
     ]
    },
    {
     "name": "stderr",
     "output_type": "stream",
     "text": [
      "[I 2025-06-10 18:42:04,008] Trial 1 finished with value: 101.84046763448839 and parameters: {'input_chunk_length': 60, 'hidden_size': 176, 'dropout': 0.4, 'batch_size': 152, 'lr': 2.122520441630757e-05, 'weight_decay': 3.644013626424007e-05, 'ff_size': 680, 'num_blocks': 2, 'activation': 'ReLU', 'norm_type': 'LayerNorm', 'normalize_before': True}. Best is trial 1 with value: 101.84046763448839.\n",
      "GPU available: True (cuda), used: True\n",
      "TPU available: False, using: 0 TPU cores\n",
      "HPU available: False, using: 0 HPUs\n",
      "LOCAL_RANK: 0 - CUDA_VISIBLE_DEVICES: [0]\n"
     ]
    },
    {
     "name": "stdout",
     "output_type": "stream",
     "text": [
      "SMAPE fold 2: 78.56132669858414\n",
      "Média dos SMAPE nos folds: 101.84046763448839\n",
      "Results of trial 1 saved in optuna_iteration_metrics/trial_1.json\n",
      "Current value: 101.84046763448839, Current params: {'input_chunk_length': 60, 'hidden_size': 176, 'dropout': 0.4, 'batch_size': 152, 'lr': 2.122520441630757e-05, 'weight_decay': 3.644013626424007e-05, 'ff_size': 680, 'num_blocks': 2, 'activation': 'ReLU', 'norm_type': 'LayerNorm', 'normalize_before': True}\n",
      "Best value: 101.84046763448839, Best params: {'input_chunk_length': 60, 'hidden_size': 176, 'dropout': 0.4, 'batch_size': 152, 'lr': 2.122520441630757e-05, 'weight_decay': 3.644013626424007e-05, 'ff_size': 680, 'num_blocks': 2, 'activation': 'ReLU', 'norm_type': 'LayerNorm', 'normalize_before': True}\n",
      "\n",
      "Fold 1/3\n"
     ]
    },
    {
     "name": "stderr",
     "output_type": "stream",
     "text": [
      "Metric val_loss improved. New best score: 8.134\n",
      "Metric val_loss improved by 0.043 >= min_delta = 0.0005. New best score: 8.090\n",
      "Metric val_loss improved by 0.007 >= min_delta = 0.0005. New best score: 8.084\n",
      "Metric val_loss improved by 0.001 >= min_delta = 0.0005. New best score: 8.083\n",
      "Metric val_loss improved by 0.001 >= min_delta = 0.0005. New best score: 8.083\n",
      "Metric val_loss improved by 0.012 >= min_delta = 0.0005. New best score: 8.070\n",
      "Metric val_loss improved by 0.017 >= min_delta = 0.0005. New best score: 8.053\n",
      "Metric val_loss improved by 0.017 >= min_delta = 0.0005. New best score: 8.036\n",
      "Metric val_loss improved by 0.021 >= min_delta = 0.0005. New best score: 8.015\n",
      "Metric val_loss improved by 0.016 >= min_delta = 0.0005. New best score: 7.999\n",
      "Metric val_loss improved by 0.012 >= min_delta = 0.0005. New best score: 7.987\n",
      "Metric val_loss improved by 0.012 >= min_delta = 0.0005. New best score: 7.974\n",
      "Metric val_loss improved by 0.013 >= min_delta = 0.0005. New best score: 7.961\n",
      "Metric val_loss improved by 0.012 >= min_delta = 0.0005. New best score: 7.949\n",
      "Metric val_loss improved by 0.011 >= min_delta = 0.0005. New best score: 7.938\n",
      "Metric val_loss improved by 0.010 >= min_delta = 0.0005. New best score: 7.928\n",
      "Metric val_loss improved by 0.012 >= min_delta = 0.0005. New best score: 7.916\n",
      "Metric val_loss improved by 0.014 >= min_delta = 0.0005. New best score: 7.902\n",
      "Metric val_loss improved by 0.008 >= min_delta = 0.0005. New best score: 7.894\n",
      "Metric val_loss improved by 0.007 >= min_delta = 0.0005. New best score: 7.887\n",
      "Metric val_loss improved by 0.011 >= min_delta = 0.0005. New best score: 7.875\n",
      "Metric val_loss improved by 0.007 >= min_delta = 0.0005. New best score: 7.868\n",
      "Metric val_loss improved by 0.005 >= min_delta = 0.0005. New best score: 7.863\n",
      "Metric val_loss improved by 0.002 >= min_delta = 0.0005. New best score: 7.861\n",
      "`Trainer.fit` stopped: `max_epochs=30` reached.\n",
      "GPU available: True (cuda), used: True\n",
      "TPU available: False, using: 0 TPU cores\n",
      "HPU available: False, using: 0 HPUs\n",
      "LOCAL_RANK: 0 - CUDA_VISIBLE_DEVICES: [0]\n"
     ]
    },
    {
     "name": "stdout",
     "output_type": "stream",
     "text": [
      "Model loaded from checkpoint for trial 2, fold 0\n"
     ]
    },
    {
     "name": "stderr",
     "output_type": "stream",
     "text": [
      "GPU available: True (cuda), used: True\n",
      "TPU available: False, using: 0 TPU cores\n",
      "HPU available: False, using: 0 HPUs\n",
      "LOCAL_RANK: 0 - CUDA_VISIBLE_DEVICES: [0]\n"
     ]
    },
    {
     "name": "stdout",
     "output_type": "stream",
     "text": [
      "SMAPE fold 0: 132.75598917690715\n",
      "\n",
      "Fold 2/3\n"
     ]
    },
    {
     "name": "stderr",
     "output_type": "stream",
     "text": [
      "/home/eduardo/Documentos/Water-Cycle-Neural-Network/venv/lib/python3.12/site-packages/optuna/trial/_trial.py:497: UserWarning: The reported value is ignored because this `step` 0 is already reported.\n",
      "  warnings.warn(\n",
      "Metric val_loss improved by 7.620 >= min_delta = 0.0005. New best score: 0.241\n",
      "/home/eduardo/Documentos/Water-Cycle-Neural-Network/venv/lib/python3.12/site-packages/optuna/trial/_trial.py:497: UserWarning: The reported value is ignored because this `step` 1 is already reported.\n",
      "  warnings.warn(\n",
      "Metric val_loss improved by 0.082 >= min_delta = 0.0005. New best score: 0.159\n",
      "/home/eduardo/Documentos/Water-Cycle-Neural-Network/venv/lib/python3.12/site-packages/optuna/trial/_trial.py:497: UserWarning: The reported value is ignored because this `step` 2 is already reported.\n",
      "  warnings.warn(\n",
      "Metric val_loss improved by 0.012 >= min_delta = 0.0005. New best score: 0.147\n",
      "/home/eduardo/Documentos/Water-Cycle-Neural-Network/venv/lib/python3.12/site-packages/optuna/trial/_trial.py:497: UserWarning: The reported value is ignored because this `step` 3 is already reported.\n",
      "  warnings.warn(\n",
      "Metric val_loss improved by 0.003 >= min_delta = 0.0005. New best score: 0.144\n",
      "/home/eduardo/Documentos/Water-Cycle-Neural-Network/venv/lib/python3.12/site-packages/optuna/trial/_trial.py:497: UserWarning: The reported value is ignored because this `step` 4 is already reported.\n",
      "  warnings.warn(\n",
      "Metric val_loss improved by 0.007 >= min_delta = 0.0005. New best score: 0.137\n",
      "/home/eduardo/Documentos/Water-Cycle-Neural-Network/venv/lib/python3.12/site-packages/optuna/trial/_trial.py:497: UserWarning: The reported value is ignored because this `step` 5 is already reported.\n",
      "  warnings.warn(\n",
      "Metric val_loss improved by 0.012 >= min_delta = 0.0005. New best score: 0.125\n",
      "/home/eduardo/Documentos/Water-Cycle-Neural-Network/venv/lib/python3.12/site-packages/optuna/trial/_trial.py:497: UserWarning: The reported value is ignored because this `step` 6 is already reported.\n",
      "  warnings.warn(\n",
      "Metric val_loss improved by 0.013 >= min_delta = 0.0005. New best score: 0.112\n",
      "/home/eduardo/Documentos/Water-Cycle-Neural-Network/venv/lib/python3.12/site-packages/optuna/trial/_trial.py:497: UserWarning: The reported value is ignored because this `step` 7 is already reported.\n",
      "  warnings.warn(\n",
      "Metric val_loss improved by 0.017 >= min_delta = 0.0005. New best score: 0.095\n",
      "/home/eduardo/Documentos/Water-Cycle-Neural-Network/venv/lib/python3.12/site-packages/optuna/trial/_trial.py:497: UserWarning: The reported value is ignored because this `step` 8 is already reported.\n",
      "  warnings.warn(\n",
      "Metric val_loss improved by 0.003 >= min_delta = 0.0005. New best score: 0.093\n",
      "/home/eduardo/Documentos/Water-Cycle-Neural-Network/venv/lib/python3.12/site-packages/optuna/trial/_trial.py:497: UserWarning: The reported value is ignored because this `step` 9 is already reported.\n",
      "  warnings.warn(\n",
      "Metric val_loss improved by 0.012 >= min_delta = 0.0005. New best score: 0.081\n",
      "/home/eduardo/Documentos/Water-Cycle-Neural-Network/venv/lib/python3.12/site-packages/optuna/trial/_trial.py:497: UserWarning: The reported value is ignored because this `step` 10 is already reported.\n",
      "  warnings.warn(\n",
      "Metric val_loss improved by 0.006 >= min_delta = 0.0005. New best score: 0.075\n",
      "/home/eduardo/Documentos/Water-Cycle-Neural-Network/venv/lib/python3.12/site-packages/optuna/trial/_trial.py:497: UserWarning: The reported value is ignored because this `step` 11 is already reported.\n",
      "  warnings.warn(\n",
      "Metric val_loss improved by 0.021 >= min_delta = 0.0005. New best score: 0.055\n",
      "/home/eduardo/Documentos/Water-Cycle-Neural-Network/venv/lib/python3.12/site-packages/optuna/trial/_trial.py:497: UserWarning: The reported value is ignored because this `step` 12 is already reported.\n",
      "  warnings.warn(\n",
      "Metric val_loss improved by 0.005 >= min_delta = 0.0005. New best score: 0.050\n",
      "/home/eduardo/Documentos/Water-Cycle-Neural-Network/venv/lib/python3.12/site-packages/optuna/trial/_trial.py:497: UserWarning: The reported value is ignored because this `step` 13 is already reported.\n",
      "  warnings.warn(\n",
      "/home/eduardo/Documentos/Water-Cycle-Neural-Network/venv/lib/python3.12/site-packages/optuna/trial/_trial.py:497: UserWarning: The reported value is ignored because this `step` 14 is already reported.\n",
      "  warnings.warn(\n",
      "Metric val_loss improved by 0.005 >= min_delta = 0.0005. New best score: 0.045\n",
      "/home/eduardo/Documentos/Water-Cycle-Neural-Network/venv/lib/python3.12/site-packages/optuna/trial/_trial.py:497: UserWarning: The reported value is ignored because this `step` 15 is already reported.\n",
      "  warnings.warn(\n",
      "Metric val_loss improved by 0.009 >= min_delta = 0.0005. New best score: 0.036\n",
      "/home/eduardo/Documentos/Water-Cycle-Neural-Network/venv/lib/python3.12/site-packages/optuna/trial/_trial.py:497: UserWarning: The reported value is ignored because this `step` 16 is already reported.\n",
      "  warnings.warn(\n",
      "/home/eduardo/Documentos/Water-Cycle-Neural-Network/venv/lib/python3.12/site-packages/optuna/trial/_trial.py:497: UserWarning: The reported value is ignored because this `step` 17 is already reported.\n",
      "  warnings.warn(\n",
      "Metric val_loss improved by 0.002 >= min_delta = 0.0005. New best score: 0.034\n",
      "/home/eduardo/Documentos/Water-Cycle-Neural-Network/venv/lib/python3.12/site-packages/optuna/trial/_trial.py:497: UserWarning: The reported value is ignored because this `step` 18 is already reported.\n",
      "  warnings.warn(\n",
      "Metric val_loss improved by 0.003 >= min_delta = 0.0005. New best score: 0.031\n",
      "/home/eduardo/Documentos/Water-Cycle-Neural-Network/venv/lib/python3.12/site-packages/optuna/trial/_trial.py:497: UserWarning: The reported value is ignored because this `step` 19 is already reported.\n",
      "  warnings.warn(\n",
      "Metric val_loss improved by 0.001 >= min_delta = 0.0005. New best score: 0.030\n",
      "/home/eduardo/Documentos/Water-Cycle-Neural-Network/venv/lib/python3.12/site-packages/optuna/trial/_trial.py:497: UserWarning: The reported value is ignored because this `step` 20 is already reported.\n",
      "  warnings.warn(\n",
      "Metric val_loss improved by 0.004 >= min_delta = 0.0005. New best score: 0.026\n",
      "/home/eduardo/Documentos/Water-Cycle-Neural-Network/venv/lib/python3.12/site-packages/optuna/trial/_trial.py:497: UserWarning: The reported value is ignored because this `step` 21 is already reported.\n",
      "  warnings.warn(\n",
      "Metric val_loss improved by 0.001 >= min_delta = 0.0005. New best score: 0.025\n",
      "/home/eduardo/Documentos/Water-Cycle-Neural-Network/venv/lib/python3.12/site-packages/optuna/trial/_trial.py:497: UserWarning: The reported value is ignored because this `step` 22 is already reported.\n",
      "  warnings.warn(\n",
      "/home/eduardo/Documentos/Water-Cycle-Neural-Network/venv/lib/python3.12/site-packages/optuna/trial/_trial.py:497: UserWarning: The reported value is ignored because this `step` 23 is already reported.\n",
      "  warnings.warn(\n",
      "Metric val_loss improved by 0.001 >= min_delta = 0.0005. New best score: 0.024\n",
      "/home/eduardo/Documentos/Water-Cycle-Neural-Network/venv/lib/python3.12/site-packages/optuna/trial/_trial.py:497: UserWarning: The reported value is ignored because this `step` 24 is already reported.\n",
      "  warnings.warn(\n",
      "/home/eduardo/Documentos/Water-Cycle-Neural-Network/venv/lib/python3.12/site-packages/optuna/trial/_trial.py:497: UserWarning: The reported value is ignored because this `step` 25 is already reported.\n",
      "  warnings.warn(\n",
      "/home/eduardo/Documentos/Water-Cycle-Neural-Network/venv/lib/python3.12/site-packages/optuna/trial/_trial.py:497: UserWarning: The reported value is ignored because this `step` 26 is already reported.\n",
      "  warnings.warn(\n",
      "Metric val_loss improved by 0.003 >= min_delta = 0.0005. New best score: 0.021\n",
      "/home/eduardo/Documentos/Water-Cycle-Neural-Network/venv/lib/python3.12/site-packages/optuna/trial/_trial.py:497: UserWarning: The reported value is ignored because this `step` 27 is already reported.\n",
      "  warnings.warn(\n",
      "/home/eduardo/Documentos/Water-Cycle-Neural-Network/venv/lib/python3.12/site-packages/optuna/trial/_trial.py:497: UserWarning: The reported value is ignored because this `step` 28 is already reported.\n",
      "  warnings.warn(\n",
      "/home/eduardo/Documentos/Water-Cycle-Neural-Network/venv/lib/python3.12/site-packages/optuna/trial/_trial.py:497: UserWarning: The reported value is ignored because this `step` 29 is already reported.\n",
      "  warnings.warn(\n",
      "`Trainer.fit` stopped: `max_epochs=30` reached.\n",
      "GPU available: True (cuda), used: True\n",
      "TPU available: False, using: 0 TPU cores\n",
      "HPU available: False, using: 0 HPUs\n",
      "LOCAL_RANK: 0 - CUDA_VISIBLE_DEVICES: [0]\n"
     ]
    },
    {
     "name": "stdout",
     "output_type": "stream",
     "text": [
      "Model loaded from checkpoint for trial 2, fold 1\n"
     ]
    },
    {
     "name": "stderr",
     "output_type": "stream",
     "text": [
      "GPU available: True (cuda), used: True\n",
      "TPU available: False, using: 0 TPU cores\n",
      "HPU available: False, using: 0 HPUs\n",
      "LOCAL_RANK: 0 - CUDA_VISIBLE_DEVICES: [0]\n"
     ]
    },
    {
     "name": "stdout",
     "output_type": "stream",
     "text": [
      "SMAPE fold 1: 52.67945809357365\n",
      "\n",
      "Fold 3/3\n"
     ]
    },
    {
     "name": "stderr",
     "output_type": "stream",
     "text": [
      "/home/eduardo/Documentos/Water-Cycle-Neural-Network/venv/lib/python3.12/site-packages/optuna/trial/_trial.py:497: UserWarning: The reported value is ignored because this `step` 0 is already reported.\n",
      "  warnings.warn(\n",
      "/home/eduardo/Documentos/Water-Cycle-Neural-Network/venv/lib/python3.12/site-packages/optuna/trial/_trial.py:497: UserWarning: The reported value is ignored because this `step` 1 is already reported.\n",
      "  warnings.warn(\n",
      "/home/eduardo/Documentos/Water-Cycle-Neural-Network/venv/lib/python3.12/site-packages/optuna/trial/_trial.py:497: UserWarning: The reported value is ignored because this `step` 2 is already reported.\n",
      "  warnings.warn(\n",
      "/home/eduardo/Documentos/Water-Cycle-Neural-Network/venv/lib/python3.12/site-packages/optuna/trial/_trial.py:497: UserWarning: The reported value is ignored because this `step` 3 is already reported.\n",
      "  warnings.warn(\n",
      "/home/eduardo/Documentos/Water-Cycle-Neural-Network/venv/lib/python3.12/site-packages/optuna/trial/_trial.py:497: UserWarning: The reported value is ignored because this `step` 4 is already reported.\n",
      "  warnings.warn(\n",
      "/home/eduardo/Documentos/Water-Cycle-Neural-Network/venv/lib/python3.12/site-packages/optuna/trial/_trial.py:497: UserWarning: The reported value is ignored because this `step` 5 is already reported.\n",
      "  warnings.warn(\n",
      "/home/eduardo/Documentos/Water-Cycle-Neural-Network/venv/lib/python3.12/site-packages/optuna/trial/_trial.py:497: UserWarning: The reported value is ignored because this `step` 6 is already reported.\n",
      "  warnings.warn(\n",
      "/home/eduardo/Documentos/Water-Cycle-Neural-Network/venv/lib/python3.12/site-packages/optuna/trial/_trial.py:497: UserWarning: The reported value is ignored because this `step` 7 is already reported.\n",
      "  warnings.warn(\n",
      "/home/eduardo/Documentos/Water-Cycle-Neural-Network/venv/lib/python3.12/site-packages/optuna/trial/_trial.py:497: UserWarning: The reported value is ignored because this `step` 8 is already reported.\n",
      "  warnings.warn(\n",
      "/home/eduardo/Documentos/Water-Cycle-Neural-Network/venv/lib/python3.12/site-packages/optuna/trial/_trial.py:497: UserWarning: The reported value is ignored because this `step` 9 is already reported.\n",
      "  warnings.warn(\n",
      "/home/eduardo/Documentos/Water-Cycle-Neural-Network/venv/lib/python3.12/site-packages/optuna/trial/_trial.py:497: UserWarning: The reported value is ignored because this `step` 10 is already reported.\n",
      "  warnings.warn(\n",
      "/home/eduardo/Documentos/Water-Cycle-Neural-Network/venv/lib/python3.12/site-packages/optuna/trial/_trial.py:497: UserWarning: The reported value is ignored because this `step` 11 is already reported.\n",
      "  warnings.warn(\n",
      "Monitored metric val_loss did not improve in the last 15 records. Best score: 0.021. Signaling Trainer to stop.\n",
      "GPU available: True (cuda), used: True\n",
      "TPU available: False, using: 0 TPU cores\n",
      "HPU available: False, using: 0 HPUs\n",
      "LOCAL_RANK: 0 - CUDA_VISIBLE_DEVICES: [0]\n"
     ]
    },
    {
     "name": "stdout",
     "output_type": "stream",
     "text": [
      "Model loaded from checkpoint for trial 2, fold 2\n"
     ]
    },
    {
     "name": "stderr",
     "output_type": "stream",
     "text": [
      "[I 2025-06-10 18:43:21,536] Trial 2 finished with value: 81.76145863203243 and parameters: {'input_chunk_length': 96, 'hidden_size': 80, 'dropout': 0.45000000000000007, 'batch_size': 160, 'lr': 0.00037817319239292043, 'weight_decay': 0.003766047700612206, 'ff_size': 177, 'num_blocks': 4, 'activation': 'GELU', 'norm_type': 'LayerNormNoBias', 'normalize_before': False}. Best is trial 2 with value: 81.76145863203243.\n",
      "GPU available: True (cuda), used: True\n",
      "TPU available: False, using: 0 TPU cores\n",
      "HPU available: False, using: 0 HPUs\n",
      "LOCAL_RANK: 0 - CUDA_VISIBLE_DEVICES: [0]\n"
     ]
    },
    {
     "name": "stdout",
     "output_type": "stream",
     "text": [
      "SMAPE fold 2: 59.848928625616466\n",
      "Média dos SMAPE nos folds: 81.76145863203243\n",
      "Results of trial 2 saved in optuna_iteration_metrics/trial_2.json\n",
      "Current value: 81.76145863203243, Current params: {'input_chunk_length': 96, 'hidden_size': 80, 'dropout': 0.45000000000000007, 'batch_size': 160, 'lr': 0.00037817319239292043, 'weight_decay': 0.003766047700612206, 'ff_size': 177, 'num_blocks': 4, 'activation': 'GELU', 'norm_type': 'LayerNormNoBias', 'normalize_before': False}\n",
      "Best value: 81.76145863203243, Best params: {'input_chunk_length': 96, 'hidden_size': 80, 'dropout': 0.45000000000000007, 'batch_size': 160, 'lr': 0.00037817319239292043, 'weight_decay': 0.003766047700612206, 'ff_size': 177, 'num_blocks': 4, 'activation': 'GELU', 'norm_type': 'LayerNormNoBias', 'normalize_before': False}\n",
      "\n",
      "Fold 1/3\n"
     ]
    },
    {
     "name": "stderr",
     "output_type": "stream",
     "text": [
      "Metric val_loss improved. New best score: 8.043\n",
      "Metric val_loss improved by 0.031 >= min_delta = 0.0005. New best score: 8.012\n",
      "Metric val_loss improved by 0.021 >= min_delta = 0.0005. New best score: 7.992\n",
      "Metric val_loss improved by 0.013 >= min_delta = 0.0005. New best score: 7.979\n",
      "Metric val_loss improved by 0.063 >= min_delta = 0.0005. New best score: 7.916\n",
      "Metric val_loss improved by 0.042 >= min_delta = 0.0005. New best score: 7.874\n",
      "Metric val_loss improved by 0.030 >= min_delta = 0.0005. New best score: 7.844\n",
      "Metric val_loss improved by 0.024 >= min_delta = 0.0005. New best score: 7.820\n",
      "Metric val_loss improved by 0.012 >= min_delta = 0.0005. New best score: 7.807\n",
      "Metric val_loss improved by 0.009 >= min_delta = 0.0005. New best score: 7.799\n",
      "Metric val_loss improved by 0.007 >= min_delta = 0.0005. New best score: 7.792\n",
      "Metric val_loss improved by 0.006 >= min_delta = 0.0005. New best score: 7.786\n",
      "Metric val_loss improved by 0.006 >= min_delta = 0.0005. New best score: 7.780\n",
      "Monitored metric val_loss did not improve in the last 15 records. Best score: 7.780. Signaling Trainer to stop.\n",
      "GPU available: True (cuda), used: True\n",
      "TPU available: False, using: 0 TPU cores\n",
      "HPU available: False, using: 0 HPUs\n",
      "LOCAL_RANK: 0 - CUDA_VISIBLE_DEVICES: [0]\n"
     ]
    },
    {
     "name": "stdout",
     "output_type": "stream",
     "text": [
      "Model loaded from checkpoint for trial 3, fold 0\n"
     ]
    },
    {
     "name": "stderr",
     "output_type": "stream",
     "text": [
      "GPU available: True (cuda), used: True\n",
      "TPU available: False, using: 0 TPU cores\n",
      "HPU available: False, using: 0 HPUs\n",
      "LOCAL_RANK: 0 - CUDA_VISIBLE_DEVICES: [0]\n"
     ]
    },
    {
     "name": "stdout",
     "output_type": "stream",
     "text": [
      "SMAPE fold 0: 118.71483732364558\n",
      "\n",
      "Fold 2/3\n"
     ]
    },
    {
     "name": "stderr",
     "output_type": "stream",
     "text": [
      "/home/eduardo/Documentos/Water-Cycle-Neural-Network/venv/lib/python3.12/site-packages/optuna/trial/_trial.py:497: UserWarning: The reported value is ignored because this `step` 0 is already reported.\n",
      "  warnings.warn(\n",
      "Metric val_loss improved by 7.681 >= min_delta = 0.0005. New best score: 0.099\n",
      "/home/eduardo/Documentos/Water-Cycle-Neural-Network/venv/lib/python3.12/site-packages/optuna/trial/_trial.py:497: UserWarning: The reported value is ignored because this `step` 1 is already reported.\n",
      "  warnings.warn(\n",
      "Metric val_loss improved by 0.037 >= min_delta = 0.0005. New best score: 0.063\n",
      "/home/eduardo/Documentos/Water-Cycle-Neural-Network/venv/lib/python3.12/site-packages/optuna/trial/_trial.py:497: UserWarning: The reported value is ignored because this `step` 2 is already reported.\n",
      "  warnings.warn(\n",
      "Metric val_loss improved by 0.012 >= min_delta = 0.0005. New best score: 0.050\n",
      "/home/eduardo/Documentos/Water-Cycle-Neural-Network/venv/lib/python3.12/site-packages/optuna/trial/_trial.py:497: UserWarning: The reported value is ignored because this `step` 3 is already reported.\n",
      "  warnings.warn(\n",
      "Metric val_loss improved by 0.008 >= min_delta = 0.0005. New best score: 0.042\n",
      "/home/eduardo/Documentos/Water-Cycle-Neural-Network/venv/lib/python3.12/site-packages/optuna/trial/_trial.py:497: UserWarning: The reported value is ignored because this `step` 4 is already reported.\n",
      "  warnings.warn(\n",
      "Metric val_loss improved by 0.005 >= min_delta = 0.0005. New best score: 0.037\n",
      "/home/eduardo/Documentos/Water-Cycle-Neural-Network/venv/lib/python3.12/site-packages/optuna/trial/_trial.py:497: UserWarning: The reported value is ignored because this `step` 5 is already reported.\n",
      "  warnings.warn(\n",
      "/home/eduardo/Documentos/Water-Cycle-Neural-Network/venv/lib/python3.12/site-packages/optuna/trial/_trial.py:497: UserWarning: The reported value is ignored because this `step` 6 is already reported.\n",
      "  warnings.warn(\n",
      "Metric val_loss improved by 0.001 >= min_delta = 0.0005. New best score: 0.036\n",
      "/home/eduardo/Documentos/Water-Cycle-Neural-Network/venv/lib/python3.12/site-packages/optuna/trial/_trial.py:497: UserWarning: The reported value is ignored because this `step` 7 is already reported.\n",
      "  warnings.warn(\n",
      "Metric val_loss improved by 0.003 >= min_delta = 0.0005. New best score: 0.033\n",
      "/home/eduardo/Documentos/Water-Cycle-Neural-Network/venv/lib/python3.12/site-packages/optuna/trial/_trial.py:497: UserWarning: The reported value is ignored because this `step` 8 is already reported.\n",
      "  warnings.warn(\n",
      "/home/eduardo/Documentos/Water-Cycle-Neural-Network/venv/lib/python3.12/site-packages/optuna/trial/_trial.py:497: UserWarning: The reported value is ignored because this `step` 9 is already reported.\n",
      "  warnings.warn(\n",
      "/home/eduardo/Documentos/Water-Cycle-Neural-Network/venv/lib/python3.12/site-packages/optuna/trial/_trial.py:497: UserWarning: The reported value is ignored because this `step` 10 is already reported.\n",
      "  warnings.warn(\n",
      "Metric val_loss improved by 0.004 >= min_delta = 0.0005. New best score: 0.029\n",
      "/home/eduardo/Documentos/Water-Cycle-Neural-Network/venv/lib/python3.12/site-packages/optuna/trial/_trial.py:497: UserWarning: The reported value is ignored because this `step` 11 is already reported.\n",
      "  warnings.warn(\n",
      "/home/eduardo/Documentos/Water-Cycle-Neural-Network/venv/lib/python3.12/site-packages/optuna/trial/_trial.py:497: UserWarning: The reported value is ignored because this `step` 12 is already reported.\n",
      "  warnings.warn(\n",
      "Metric val_loss improved by 0.005 >= min_delta = 0.0005. New best score: 0.024\n",
      "/home/eduardo/Documentos/Water-Cycle-Neural-Network/venv/lib/python3.12/site-packages/optuna/trial/_trial.py:497: UserWarning: The reported value is ignored because this `step` 13 is already reported.\n",
      "  warnings.warn(\n",
      "Metric val_loss improved by 0.002 >= min_delta = 0.0005. New best score: 0.023\n",
      "/home/eduardo/Documentos/Water-Cycle-Neural-Network/venv/lib/python3.12/site-packages/optuna/trial/_trial.py:497: UserWarning: The reported value is ignored because this `step` 14 is already reported.\n",
      "  warnings.warn(\n",
      "Metric val_loss improved by 0.001 >= min_delta = 0.0005. New best score: 0.022\n",
      "/home/eduardo/Documentos/Water-Cycle-Neural-Network/venv/lib/python3.12/site-packages/optuna/trial/_trial.py:497: UserWarning: The reported value is ignored because this `step` 15 is already reported.\n",
      "  warnings.warn(\n",
      "/home/eduardo/Documentos/Water-Cycle-Neural-Network/venv/lib/python3.12/site-packages/optuna/trial/_trial.py:497: UserWarning: The reported value is ignored because this `step` 16 is already reported.\n",
      "  warnings.warn(\n",
      "/home/eduardo/Documentos/Water-Cycle-Neural-Network/venv/lib/python3.12/site-packages/optuna/trial/_trial.py:497: UserWarning: The reported value is ignored because this `step` 17 is already reported.\n",
      "  warnings.warn(\n",
      "/home/eduardo/Documentos/Water-Cycle-Neural-Network/venv/lib/python3.12/site-packages/optuna/trial/_trial.py:497: UserWarning: The reported value is ignored because this `step` 18 is already reported.\n",
      "  warnings.warn(\n",
      "/home/eduardo/Documentos/Water-Cycle-Neural-Network/venv/lib/python3.12/site-packages/optuna/trial/_trial.py:497: UserWarning: The reported value is ignored because this `step` 19 is already reported.\n",
      "  warnings.warn(\n",
      "/home/eduardo/Documentos/Water-Cycle-Neural-Network/venv/lib/python3.12/site-packages/optuna/trial/_trial.py:497: UserWarning: The reported value is ignored because this `step` 20 is already reported.\n",
      "  warnings.warn(\n",
      "Metric val_loss improved by 0.001 >= min_delta = 0.0005. New best score: 0.020\n",
      "/home/eduardo/Documentos/Water-Cycle-Neural-Network/venv/lib/python3.12/site-packages/optuna/trial/_trial.py:497: UserWarning: The reported value is ignored because this `step` 21 is already reported.\n",
      "  warnings.warn(\n",
      "/home/eduardo/Documentos/Water-Cycle-Neural-Network/venv/lib/python3.12/site-packages/optuna/trial/_trial.py:497: UserWarning: The reported value is ignored because this `step` 22 is already reported.\n",
      "  warnings.warn(\n",
      "/home/eduardo/Documentos/Water-Cycle-Neural-Network/venv/lib/python3.12/site-packages/optuna/trial/_trial.py:497: UserWarning: The reported value is ignored because this `step` 23 is already reported.\n",
      "  warnings.warn(\n",
      "/home/eduardo/Documentos/Water-Cycle-Neural-Network/venv/lib/python3.12/site-packages/optuna/trial/_trial.py:497: UserWarning: The reported value is ignored because this `step` 24 is already reported.\n",
      "  warnings.warn(\n",
      "/home/eduardo/Documentos/Water-Cycle-Neural-Network/venv/lib/python3.12/site-packages/optuna/trial/_trial.py:497: UserWarning: The reported value is ignored because this `step` 25 is already reported.\n",
      "  warnings.warn(\n",
      "Metric val_loss improved by 0.002 >= min_delta = 0.0005. New best score: 0.018\n",
      "/home/eduardo/Documentos/Water-Cycle-Neural-Network/venv/lib/python3.12/site-packages/optuna/trial/_trial.py:497: UserWarning: The reported value is ignored because this `step` 26 is already reported.\n",
      "  warnings.warn(\n",
      "/home/eduardo/Documentos/Water-Cycle-Neural-Network/venv/lib/python3.12/site-packages/optuna/trial/_trial.py:497: UserWarning: The reported value is ignored because this `step` 27 is already reported.\n",
      "  warnings.warn(\n",
      "/home/eduardo/Documentos/Water-Cycle-Neural-Network/venv/lib/python3.12/site-packages/optuna/trial/_trial.py:497: UserWarning: The reported value is ignored because this `step` 28 is already reported.\n",
      "  warnings.warn(\n",
      "Metric val_loss improved by 0.001 >= min_delta = 0.0005. New best score: 0.017\n",
      "`Trainer.fit` stopped: `max_epochs=30` reached.\n",
      "GPU available: True (cuda), used: True\n",
      "TPU available: False, using: 0 TPU cores\n",
      "HPU available: False, using: 0 HPUs\n",
      "LOCAL_RANK: 0 - CUDA_VISIBLE_DEVICES: [0]\n"
     ]
    },
    {
     "name": "stdout",
     "output_type": "stream",
     "text": [
      "Model loaded from checkpoint for trial 3, fold 1\n"
     ]
    },
    {
     "name": "stderr",
     "output_type": "stream",
     "text": [
      "GPU available: True (cuda), used: True\n",
      "TPU available: False, using: 0 TPU cores\n",
      "HPU available: False, using: 0 HPUs\n",
      "LOCAL_RANK: 0 - CUDA_VISIBLE_DEVICES: [0]\n"
     ]
    },
    {
     "name": "stdout",
     "output_type": "stream",
     "text": [
      "SMAPE fold 1: 52.260957396476044\n",
      "\n",
      "Fold 3/3\n"
     ]
    },
    {
     "name": "stderr",
     "output_type": "stream",
     "text": [
      "/home/eduardo/Documentos/Water-Cycle-Neural-Network/venv/lib/python3.12/site-packages/optuna/trial/_trial.py:497: UserWarning: The reported value is ignored because this `step` 0 is already reported.\n",
      "  warnings.warn(\n",
      "/home/eduardo/Documentos/Water-Cycle-Neural-Network/venv/lib/python3.12/site-packages/optuna/trial/_trial.py:497: UserWarning: The reported value is ignored because this `step` 1 is already reported.\n",
      "  warnings.warn(\n",
      "/home/eduardo/Documentos/Water-Cycle-Neural-Network/venv/lib/python3.12/site-packages/optuna/trial/_trial.py:497: UserWarning: The reported value is ignored because this `step` 2 is already reported.\n",
      "  warnings.warn(\n",
      "/home/eduardo/Documentos/Water-Cycle-Neural-Network/venv/lib/python3.12/site-packages/optuna/trial/_trial.py:497: UserWarning: The reported value is ignored because this `step` 3 is already reported.\n",
      "  warnings.warn(\n",
      "/home/eduardo/Documentos/Water-Cycle-Neural-Network/venv/lib/python3.12/site-packages/optuna/trial/_trial.py:497: UserWarning: The reported value is ignored because this `step` 4 is already reported.\n",
      "  warnings.warn(\n",
      "/home/eduardo/Documentos/Water-Cycle-Neural-Network/venv/lib/python3.12/site-packages/optuna/trial/_trial.py:497: UserWarning: The reported value is ignored because this `step` 5 is already reported.\n",
      "  warnings.warn(\n",
      "/home/eduardo/Documentos/Water-Cycle-Neural-Network/venv/lib/python3.12/site-packages/optuna/trial/_trial.py:497: UserWarning: The reported value is ignored because this `step` 6 is already reported.\n",
      "  warnings.warn(\n",
      "/home/eduardo/Documentos/Water-Cycle-Neural-Network/venv/lib/python3.12/site-packages/optuna/trial/_trial.py:497: UserWarning: The reported value is ignored because this `step` 7 is already reported.\n",
      "  warnings.warn(\n",
      "/home/eduardo/Documentos/Water-Cycle-Neural-Network/venv/lib/python3.12/site-packages/optuna/trial/_trial.py:497: UserWarning: The reported value is ignored because this `step` 8 is already reported.\n",
      "  warnings.warn(\n",
      "/home/eduardo/Documentos/Water-Cycle-Neural-Network/venv/lib/python3.12/site-packages/optuna/trial/_trial.py:497: UserWarning: The reported value is ignored because this `step` 9 is already reported.\n",
      "  warnings.warn(\n",
      "/home/eduardo/Documentos/Water-Cycle-Neural-Network/venv/lib/python3.12/site-packages/optuna/trial/_trial.py:497: UserWarning: The reported value is ignored because this `step` 10 is already reported.\n",
      "  warnings.warn(\n",
      "/home/eduardo/Documentos/Water-Cycle-Neural-Network/venv/lib/python3.12/site-packages/optuna/trial/_trial.py:497: UserWarning: The reported value is ignored because this `step` 11 is already reported.\n",
      "  warnings.warn(\n",
      "/home/eduardo/Documentos/Water-Cycle-Neural-Network/venv/lib/python3.12/site-packages/optuna/trial/_trial.py:497: UserWarning: The reported value is ignored because this `step` 12 is already reported.\n",
      "  warnings.warn(\n",
      "/home/eduardo/Documentos/Water-Cycle-Neural-Network/venv/lib/python3.12/site-packages/optuna/trial/_trial.py:497: UserWarning: The reported value is ignored because this `step` 13 is already reported.\n",
      "  warnings.warn(\n",
      "Monitored metric val_loss did not improve in the last 15 records. Best score: 0.017. Signaling Trainer to stop.\n",
      "GPU available: True (cuda), used: True\n",
      "TPU available: False, using: 0 TPU cores\n",
      "HPU available: False, using: 0 HPUs\n",
      "LOCAL_RANK: 0 - CUDA_VISIBLE_DEVICES: [0]\n"
     ]
    },
    {
     "name": "stdout",
     "output_type": "stream",
     "text": [
      "Model loaded from checkpoint for trial 3, fold 2\n"
     ]
    },
    {
     "name": "stderr",
     "output_type": "stream",
     "text": [
      "[I 2025-06-10 18:44:51,475] Trial 3 finished with value: 76.95211937903134 and parameters: {'input_chunk_length': 84, 'hidden_size': 72, 'dropout': 0.1, 'batch_size': 80, 'lr': 0.00030653645467068055, 'weight_decay': 0.0004180394093320111, 'ff_size': 241, 'num_blocks': 4, 'activation': 'GELU', 'norm_type': 'LayerNorm', 'normalize_before': False}. Best is trial 3 with value: 76.95211937903134.\n",
      "GPU available: True (cuda), used: True\n",
      "TPU available: False, using: 0 TPU cores\n",
      "HPU available: False, using: 0 HPUs\n",
      "LOCAL_RANK: 0 - CUDA_VISIBLE_DEVICES: [0]\n"
     ]
    },
    {
     "name": "stdout",
     "output_type": "stream",
     "text": [
      "SMAPE fold 2: 59.88056341697239\n",
      "Média dos SMAPE nos folds: 76.95211937903134\n",
      "Results of trial 3 saved in optuna_iteration_metrics/trial_3.json\n",
      "Current value: 76.95211937903134, Current params: {'input_chunk_length': 84, 'hidden_size': 72, 'dropout': 0.1, 'batch_size': 80, 'lr': 0.00030653645467068055, 'weight_decay': 0.0004180394093320111, 'ff_size': 241, 'num_blocks': 4, 'activation': 'GELU', 'norm_type': 'LayerNorm', 'normalize_before': False}\n",
      "Best value: 76.95211937903134, Best params: {'input_chunk_length': 84, 'hidden_size': 72, 'dropout': 0.1, 'batch_size': 80, 'lr': 0.00030653645467068055, 'weight_decay': 0.0004180394093320111, 'ff_size': 241, 'num_blocks': 4, 'activation': 'GELU', 'norm_type': 'LayerNorm', 'normalize_before': False}\n",
      "\n",
      "Fold 1/3\n"
     ]
    },
    {
     "name": "stderr",
     "output_type": "stream",
     "text": [
      "Metric val_loss improved. New best score: 9.679\n",
      "Metric val_loss improved by 0.009 >= min_delta = 0.0005. New best score: 9.670\n",
      "Metric val_loss improved by 0.008 >= min_delta = 0.0005. New best score: 9.662\n",
      "Metric val_loss improved by 0.007 >= min_delta = 0.0005. New best score: 9.655\n",
      "Metric val_loss improved by 0.006 >= min_delta = 0.0005. New best score: 9.650\n",
      "Metric val_loss improved by 0.005 >= min_delta = 0.0005. New best score: 9.644\n",
      "Metric val_loss improved by 0.004 >= min_delta = 0.0005. New best score: 9.641\n",
      "Metric val_loss improved by 0.002 >= min_delta = 0.0005. New best score: 9.639\n",
      "Metric val_loss improved by 0.001 >= min_delta = 0.0005. New best score: 9.638\n",
      "Metric val_loss improved by 0.001 >= min_delta = 0.0005. New best score: 9.637\n",
      "Metric val_loss improved by 0.001 >= min_delta = 0.0005. New best score: 9.636\n",
      "Monitored metric val_loss did not improve in the last 15 records. Best score: 9.636. Signaling Trainer to stop.\n",
      "GPU available: True (cuda), used: True\n",
      "TPU available: False, using: 0 TPU cores\n",
      "HPU available: False, using: 0 HPUs\n",
      "LOCAL_RANK: 0 - CUDA_VISIBLE_DEVICES: [0]\n"
     ]
    },
    {
     "name": "stdout",
     "output_type": "stream",
     "text": [
      "Model loaded from checkpoint for trial 4, fold 0\n"
     ]
    },
    {
     "name": "stderr",
     "output_type": "stream",
     "text": [
      "GPU available: True (cuda), used: True\n",
      "TPU available: False, using: 0 TPU cores\n",
      "HPU available: False, using: 0 HPUs\n",
      "LOCAL_RANK: 0 - CUDA_VISIBLE_DEVICES: [0]\n"
     ]
    },
    {
     "name": "stdout",
     "output_type": "stream",
     "text": [
      "SMAPE fold 0: 113.82565191943024\n",
      "\n",
      "Fold 2/3\n"
     ]
    },
    {
     "name": "stderr",
     "output_type": "stream",
     "text": [
      "/home/eduardo/Documentos/Water-Cycle-Neural-Network/venv/lib/python3.12/site-packages/optuna/trial/_trial.py:497: UserWarning: The reported value is ignored because this `step` 0 is already reported.\n",
      "  warnings.warn(\n",
      "Metric val_loss improved by 9.055 >= min_delta = 0.0005. New best score: 0.581\n",
      "/home/eduardo/Documentos/Water-Cycle-Neural-Network/venv/lib/python3.12/site-packages/optuna/trial/_trial.py:497: UserWarning: The reported value is ignored because this `step` 1 is already reported.\n",
      "  warnings.warn(\n",
      "Metric val_loss improved by 0.105 >= min_delta = 0.0005. New best score: 0.476\n",
      "/home/eduardo/Documentos/Water-Cycle-Neural-Network/venv/lib/python3.12/site-packages/optuna/trial/_trial.py:497: UserWarning: The reported value is ignored because this `step` 2 is already reported.\n",
      "  warnings.warn(\n",
      "Metric val_loss improved by 0.069 >= min_delta = 0.0005. New best score: 0.407\n",
      "/home/eduardo/Documentos/Water-Cycle-Neural-Network/venv/lib/python3.12/site-packages/optuna/trial/_trial.py:497: UserWarning: The reported value is ignored because this `step` 3 is already reported.\n",
      "  warnings.warn(\n",
      "Metric val_loss improved by 0.048 >= min_delta = 0.0005. New best score: 0.359\n",
      "/home/eduardo/Documentos/Water-Cycle-Neural-Network/venv/lib/python3.12/site-packages/optuna/trial/_trial.py:497: UserWarning: The reported value is ignored because this `step` 4 is already reported.\n",
      "  warnings.warn(\n",
      "Metric val_loss improved by 0.036 >= min_delta = 0.0005. New best score: 0.324\n",
      "/home/eduardo/Documentos/Water-Cycle-Neural-Network/venv/lib/python3.12/site-packages/optuna/trial/_trial.py:497: UserWarning: The reported value is ignored because this `step` 5 is already reported.\n",
      "  warnings.warn(\n",
      "Metric val_loss improved by 0.029 >= min_delta = 0.0005. New best score: 0.295\n",
      "/home/eduardo/Documentos/Water-Cycle-Neural-Network/venv/lib/python3.12/site-packages/optuna/trial/_trial.py:497: UserWarning: The reported value is ignored because this `step` 6 is already reported.\n",
      "  warnings.warn(\n",
      "Metric val_loss improved by 0.023 >= min_delta = 0.0005. New best score: 0.272\n",
      "/home/eduardo/Documentos/Water-Cycle-Neural-Network/venv/lib/python3.12/site-packages/optuna/trial/_trial.py:497: UserWarning: The reported value is ignored because this `step` 7 is already reported.\n",
      "  warnings.warn(\n",
      "Metric val_loss improved by 0.018 >= min_delta = 0.0005. New best score: 0.254\n",
      "/home/eduardo/Documentos/Water-Cycle-Neural-Network/venv/lib/python3.12/site-packages/optuna/trial/_trial.py:497: UserWarning: The reported value is ignored because this `step` 8 is already reported.\n",
      "  warnings.warn(\n",
      "Metric val_loss improved by 0.013 >= min_delta = 0.0005. New best score: 0.241\n",
      "/home/eduardo/Documentos/Water-Cycle-Neural-Network/venv/lib/python3.12/site-packages/optuna/trial/_trial.py:497: UserWarning: The reported value is ignored because this `step` 9 is already reported.\n",
      "  warnings.warn(\n",
      "Metric val_loss improved by 0.012 >= min_delta = 0.0005. New best score: 0.229\n",
      "/home/eduardo/Documentos/Water-Cycle-Neural-Network/venv/lib/python3.12/site-packages/optuna/trial/_trial.py:497: UserWarning: The reported value is ignored because this `step` 10 is already reported.\n",
      "  warnings.warn(\n",
      "Metric val_loss improved by 0.010 >= min_delta = 0.0005. New best score: 0.219\n",
      "/home/eduardo/Documentos/Water-Cycle-Neural-Network/venv/lib/python3.12/site-packages/optuna/trial/_trial.py:497: UserWarning: The reported value is ignored because this `step` 11 is already reported.\n",
      "  warnings.warn(\n",
      "Metric val_loss improved by 0.008 >= min_delta = 0.0005. New best score: 0.211\n",
      "/home/eduardo/Documentos/Water-Cycle-Neural-Network/venv/lib/python3.12/site-packages/optuna/trial/_trial.py:497: UserWarning: The reported value is ignored because this `step` 12 is already reported.\n",
      "  warnings.warn(\n",
      "Metric val_loss improved by 0.008 >= min_delta = 0.0005. New best score: 0.203\n",
      "/home/eduardo/Documentos/Water-Cycle-Neural-Network/venv/lib/python3.12/site-packages/optuna/trial/_trial.py:497: UserWarning: The reported value is ignored because this `step` 13 is already reported.\n",
      "  warnings.warn(\n",
      "Metric val_loss improved by 0.008 >= min_delta = 0.0005. New best score: 0.195\n",
      "/home/eduardo/Documentos/Water-Cycle-Neural-Network/venv/lib/python3.12/site-packages/optuna/trial/_trial.py:497: UserWarning: The reported value is ignored because this `step` 14 is already reported.\n",
      "  warnings.warn(\n",
      "Metric val_loss improved by 0.005 >= min_delta = 0.0005. New best score: 0.190\n",
      "/home/eduardo/Documentos/Water-Cycle-Neural-Network/venv/lib/python3.12/site-packages/optuna/trial/_trial.py:497: UserWarning: The reported value is ignored because this `step` 15 is already reported.\n",
      "  warnings.warn(\n",
      "Metric val_loss improved by 0.006 >= min_delta = 0.0005. New best score: 0.184\n",
      "/home/eduardo/Documentos/Water-Cycle-Neural-Network/venv/lib/python3.12/site-packages/optuna/trial/_trial.py:497: UserWarning: The reported value is ignored because this `step` 16 is already reported.\n",
      "  warnings.warn(\n",
      "Metric val_loss improved by 0.005 >= min_delta = 0.0005. New best score: 0.179\n",
      "/home/eduardo/Documentos/Water-Cycle-Neural-Network/venv/lib/python3.12/site-packages/optuna/trial/_trial.py:497: UserWarning: The reported value is ignored because this `step` 17 is already reported.\n",
      "  warnings.warn(\n",
      "Metric val_loss improved by 0.004 >= min_delta = 0.0005. New best score: 0.174\n",
      "/home/eduardo/Documentos/Water-Cycle-Neural-Network/venv/lib/python3.12/site-packages/optuna/trial/_trial.py:497: UserWarning: The reported value is ignored because this `step` 18 is already reported.\n",
      "  warnings.warn(\n",
      "Metric val_loss improved by 0.005 >= min_delta = 0.0005. New best score: 0.169\n",
      "/home/eduardo/Documentos/Water-Cycle-Neural-Network/venv/lib/python3.12/site-packages/optuna/trial/_trial.py:497: UserWarning: The reported value is ignored because this `step` 19 is already reported.\n",
      "  warnings.warn(\n",
      "Metric val_loss improved by 0.004 >= min_delta = 0.0005. New best score: 0.165\n",
      "/home/eduardo/Documentos/Water-Cycle-Neural-Network/venv/lib/python3.12/site-packages/optuna/trial/_trial.py:497: UserWarning: The reported value is ignored because this `step` 20 is already reported.\n",
      "  warnings.warn(\n",
      "Metric val_loss improved by 0.004 >= min_delta = 0.0005. New best score: 0.161\n",
      "/home/eduardo/Documentos/Water-Cycle-Neural-Network/venv/lib/python3.12/site-packages/optuna/trial/_trial.py:497: UserWarning: The reported value is ignored because this `step` 21 is already reported.\n",
      "  warnings.warn(\n",
      "Metric val_loss improved by 0.004 >= min_delta = 0.0005. New best score: 0.158\n",
      "/home/eduardo/Documentos/Water-Cycle-Neural-Network/venv/lib/python3.12/site-packages/optuna/trial/_trial.py:497: UserWarning: The reported value is ignored because this `step` 22 is already reported.\n",
      "  warnings.warn(\n",
      "Metric val_loss improved by 0.004 >= min_delta = 0.0005. New best score: 0.154\n",
      "/home/eduardo/Documentos/Water-Cycle-Neural-Network/venv/lib/python3.12/site-packages/optuna/trial/_trial.py:497: UserWarning: The reported value is ignored because this `step` 23 is already reported.\n",
      "  warnings.warn(\n",
      "Metric val_loss improved by 0.004 >= min_delta = 0.0005. New best score: 0.150\n",
      "/home/eduardo/Documentos/Water-Cycle-Neural-Network/venv/lib/python3.12/site-packages/optuna/trial/_trial.py:497: UserWarning: The reported value is ignored because this `step` 24 is already reported.\n",
      "  warnings.warn(\n",
      "Metric val_loss improved by 0.002 >= min_delta = 0.0005. New best score: 0.148\n",
      "/home/eduardo/Documentos/Water-Cycle-Neural-Network/venv/lib/python3.12/site-packages/optuna/trial/_trial.py:497: UserWarning: The reported value is ignored because this `step` 25 is already reported.\n",
      "  warnings.warn(\n",
      "Metric val_loss improved by 0.003 >= min_delta = 0.0005. New best score: 0.145\n",
      "Metric val_loss improved by 0.003 >= min_delta = 0.0005. New best score: 0.142\n",
      "Metric val_loss improved by 0.004 >= min_delta = 0.0005. New best score: 0.138\n",
      "Metric val_loss improved by 0.002 >= min_delta = 0.0005. New best score: 0.136\n",
      "Metric val_loss improved by 0.003 >= min_delta = 0.0005. New best score: 0.133\n",
      "`Trainer.fit` stopped: `max_epochs=30` reached.\n",
      "GPU available: True (cuda), used: True\n",
      "TPU available: False, using: 0 TPU cores\n",
      "HPU available: False, using: 0 HPUs\n",
      "LOCAL_RANK: 0 - CUDA_VISIBLE_DEVICES: [0]\n"
     ]
    },
    {
     "name": "stdout",
     "output_type": "stream",
     "text": [
      "Model loaded from checkpoint for trial 4, fold 1\n"
     ]
    },
    {
     "name": "stderr",
     "output_type": "stream",
     "text": [
      "GPU available: True (cuda), used: True\n",
      "TPU available: False, using: 0 TPU cores\n",
      "HPU available: False, using: 0 HPUs\n",
      "LOCAL_RANK: 0 - CUDA_VISIBLE_DEVICES: [0]\n"
     ]
    },
    {
     "name": "stdout",
     "output_type": "stream",
     "text": [
      "SMAPE fold 1: 71.31673546110866\n",
      "\n",
      "Fold 3/3\n"
     ]
    },
    {
     "name": "stderr",
     "output_type": "stream",
     "text": [
      "/home/eduardo/Documentos/Water-Cycle-Neural-Network/venv/lib/python3.12/site-packages/optuna/trial/_trial.py:497: UserWarning: The reported value is ignored because this `step` 0 is already reported.\n",
      "  warnings.warn(\n",
      "/home/eduardo/Documentos/Water-Cycle-Neural-Network/venv/lib/python3.12/site-packages/optuna/trial/_trial.py:497: UserWarning: The reported value is ignored because this `step` 1 is already reported.\n",
      "  warnings.warn(\n",
      "/home/eduardo/Documentos/Water-Cycle-Neural-Network/venv/lib/python3.12/site-packages/optuna/trial/_trial.py:497: UserWarning: The reported value is ignored because this `step` 2 is already reported.\n",
      "  warnings.warn(\n",
      "/home/eduardo/Documentos/Water-Cycle-Neural-Network/venv/lib/python3.12/site-packages/optuna/trial/_trial.py:497: UserWarning: The reported value is ignored because this `step` 3 is already reported.\n",
      "  warnings.warn(\n",
      "/home/eduardo/Documentos/Water-Cycle-Neural-Network/venv/lib/python3.12/site-packages/optuna/trial/_trial.py:497: UserWarning: The reported value is ignored because this `step` 4 is already reported.\n",
      "  warnings.warn(\n",
      "/home/eduardo/Documentos/Water-Cycle-Neural-Network/venv/lib/python3.12/site-packages/optuna/trial/_trial.py:497: UserWarning: The reported value is ignored because this `step` 5 is already reported.\n",
      "  warnings.warn(\n",
      "/home/eduardo/Documentos/Water-Cycle-Neural-Network/venv/lib/python3.12/site-packages/optuna/trial/_trial.py:497: UserWarning: The reported value is ignored because this `step` 6 is already reported.\n",
      "  warnings.warn(\n",
      "/home/eduardo/Documentos/Water-Cycle-Neural-Network/venv/lib/python3.12/site-packages/optuna/trial/_trial.py:497: UserWarning: The reported value is ignored because this `step` 7 is already reported.\n",
      "  warnings.warn(\n",
      "/home/eduardo/Documentos/Water-Cycle-Neural-Network/venv/lib/python3.12/site-packages/optuna/trial/_trial.py:497: UserWarning: The reported value is ignored because this `step` 8 is already reported.\n",
      "  warnings.warn(\n",
      "/home/eduardo/Documentos/Water-Cycle-Neural-Network/venv/lib/python3.12/site-packages/optuna/trial/_trial.py:497: UserWarning: The reported value is ignored because this `step` 9 is already reported.\n",
      "  warnings.warn(\n",
      "/home/eduardo/Documentos/Water-Cycle-Neural-Network/venv/lib/python3.12/site-packages/optuna/trial/_trial.py:497: UserWarning: The reported value is ignored because this `step` 10 is already reported.\n",
      "  warnings.warn(\n",
      "/home/eduardo/Documentos/Water-Cycle-Neural-Network/venv/lib/python3.12/site-packages/optuna/trial/_trial.py:497: UserWarning: The reported value is ignored because this `step` 11 is already reported.\n",
      "  warnings.warn(\n",
      "/home/eduardo/Documentos/Water-Cycle-Neural-Network/venv/lib/python3.12/site-packages/optuna/trial/_trial.py:497: UserWarning: The reported value is ignored because this `step` 12 is already reported.\n",
      "  warnings.warn(\n",
      "/home/eduardo/Documentos/Water-Cycle-Neural-Network/venv/lib/python3.12/site-packages/optuna/trial/_trial.py:497: UserWarning: The reported value is ignored because this `step` 13 is already reported.\n",
      "  warnings.warn(\n",
      "/home/eduardo/Documentos/Water-Cycle-Neural-Network/venv/lib/python3.12/site-packages/optuna/trial/_trial.py:497: UserWarning: The reported value is ignored because this `step` 14 is already reported.\n",
      "  warnings.warn(\n",
      "Monitored metric val_loss did not improve in the last 15 records. Best score: 0.133. Signaling Trainer to stop.\n",
      "GPU available: True (cuda), used: True\n",
      "TPU available: False, using: 0 TPU cores\n",
      "HPU available: False, using: 0 HPUs\n",
      "LOCAL_RANK: 0 - CUDA_VISIBLE_DEVICES: [0]\n"
     ]
    },
    {
     "name": "stdout",
     "output_type": "stream",
     "text": [
      "Model loaded from checkpoint for trial 4, fold 2\n"
     ]
    },
    {
     "name": "stderr",
     "output_type": "stream",
     "text": [
      "[I 2025-06-10 18:47:00,652] Trial 4 finished with value: 88.69130288623796 and parameters: {'input_chunk_length': 84, 'hidden_size': 160, 'dropout': 0.15000000000000002, 'batch_size': 160, 'lr': 3.6644777490157284e-06, 'weight_decay': 1.9384673364933813e-06, 'ff_size': 544, 'num_blocks': 4, 'activation': 'ReLU', 'norm_type': 'LayerNormNoBias', 'normalize_before': True}. Best is trial 3 with value: 76.95211937903134.\n",
      "GPU available: True (cuda), used: True\n",
      "TPU available: False, using: 0 TPU cores\n",
      "HPU available: False, using: 0 HPUs\n",
      "LOCAL_RANK: 0 - CUDA_VISIBLE_DEVICES: [0]\n"
     ]
    },
    {
     "name": "stdout",
     "output_type": "stream",
     "text": [
      "SMAPE fold 2: 80.93152127817501\n",
      "Média dos SMAPE nos folds: 88.69130288623796\n",
      "Results of trial 4 saved in optuna_iteration_metrics/trial_4.json\n",
      "Current value: 88.69130288623796, Current params: {'input_chunk_length': 84, 'hidden_size': 160, 'dropout': 0.15000000000000002, 'batch_size': 160, 'lr': 3.6644777490157284e-06, 'weight_decay': 1.9384673364933813e-06, 'ff_size': 544, 'num_blocks': 4, 'activation': 'ReLU', 'norm_type': 'LayerNormNoBias', 'normalize_before': True}\n",
      "Best value: 76.95211937903134, Best params: {'input_chunk_length': 84, 'hidden_size': 72, 'dropout': 0.1, 'batch_size': 80, 'lr': 0.00030653645467068055, 'weight_decay': 0.0004180394093320111, 'ff_size': 241, 'num_blocks': 4, 'activation': 'GELU', 'norm_type': 'LayerNorm', 'normalize_before': False}\n",
      "\n",
      "Fold 1/3\n"
     ]
    },
    {
     "name": "stderr",
     "output_type": "stream",
     "text": [
      "Metric val_loss improved. New best score: 8.172\n",
      "Metric val_loss improved by 0.014 >= min_delta = 0.0005. New best score: 8.158\n",
      "Metric val_loss improved by 0.014 >= min_delta = 0.0005. New best score: 8.144\n",
      "Metric val_loss improved by 0.014 >= min_delta = 0.0005. New best score: 8.130\n",
      "Metric val_loss improved by 0.015 >= min_delta = 0.0005. New best score: 8.116\n",
      "Metric val_loss improved by 0.015 >= min_delta = 0.0005. New best score: 8.101\n",
      "Metric val_loss improved by 0.015 >= min_delta = 0.0005. New best score: 8.086\n",
      "Metric val_loss improved by 0.015 >= min_delta = 0.0005. New best score: 8.071\n",
      "Metric val_loss improved by 0.014 >= min_delta = 0.0005. New best score: 8.057\n",
      "Metric val_loss improved by 0.012 >= min_delta = 0.0005. New best score: 8.045\n",
      "Metric val_loss improved by 0.011 >= min_delta = 0.0005. New best score: 8.034\n",
      "Metric val_loss improved by 0.010 >= min_delta = 0.0005. New best score: 8.025\n",
      "Metric val_loss improved by 0.009 >= min_delta = 0.0005. New best score: 8.016\n",
      "Metric val_loss improved by 0.009 >= min_delta = 0.0005. New best score: 8.007\n",
      "Metric val_loss improved by 0.009 >= min_delta = 0.0005. New best score: 7.998\n",
      "Metric val_loss improved by 0.007 >= min_delta = 0.0005. New best score: 7.991\n",
      "Metric val_loss improved by 0.006 >= min_delta = 0.0005. New best score: 7.985\n",
      "Metric val_loss improved by 0.004 >= min_delta = 0.0005. New best score: 7.981\n",
      "Metric val_loss improved by 0.004 >= min_delta = 0.0005. New best score: 7.977\n",
      "Metric val_loss improved by 0.004 >= min_delta = 0.0005. New best score: 7.973\n",
      "Metric val_loss improved by 0.003 >= min_delta = 0.0005. New best score: 7.970\n",
      "Metric val_loss improved by 0.003 >= min_delta = 0.0005. New best score: 7.967\n",
      "Metric val_loss improved by 0.003 >= min_delta = 0.0005. New best score: 7.963\n",
      "Metric val_loss improved by 0.003 >= min_delta = 0.0005. New best score: 7.961\n",
      "Metric val_loss improved by 0.003 >= min_delta = 0.0005. New best score: 7.958\n",
      "[I 2025-06-10 18:47:21,218] Trial 5 pruned. Trial was pruned at epoch 25.\n",
      "GPU available: True (cuda), used: True\n",
      "TPU available: False, using: 0 TPU cores\n",
      "HPU available: False, using: 0 HPUs\n",
      "LOCAL_RANK: 0 - CUDA_VISIBLE_DEVICES: [0]\n"
     ]
    },
    {
     "name": "stdout",
     "output_type": "stream",
     "text": [
      "Current value: 7.955352324818099, Current params: {'input_chunk_length': 48, 'hidden_size': 32, 'dropout': 0.4, 'batch_size': 136, 'lr': 1.712470472608094e-05, 'weight_decay': 0.00016946323609034447, 'ff_size': 117, 'num_blocks': 4, 'activation': 'ReLU', 'norm_type': 'LayerNormNoBias', 'normalize_before': False}\n",
      "Best value: 76.95211937903134, Best params: {'input_chunk_length': 84, 'hidden_size': 72, 'dropout': 0.1, 'batch_size': 80, 'lr': 0.00030653645467068055, 'weight_decay': 0.0004180394093320111, 'ff_size': 241, 'num_blocks': 4, 'activation': 'GELU', 'norm_type': 'LayerNorm', 'normalize_before': False}\n",
      "\n",
      "Fold 1/3\n"
     ]
    },
    {
     "name": "stderr",
     "output_type": "stream",
     "text": [
      "[I 2025-06-10 18:47:23,042] Trial 6 pruned. Trial was pruned at epoch 0.\n",
      "GPU available: True (cuda), used: True\n",
      "TPU available: False, using: 0 TPU cores\n",
      "HPU available: False, using: 0 HPUs\n",
      "LOCAL_RANK: 0 - CUDA_VISIBLE_DEVICES: [0]\n"
     ]
    },
    {
     "name": "stdout",
     "output_type": "stream",
     "text": [
      "Current value: 9.865513328068458, Current params: {'input_chunk_length': 24, 'hidden_size': 176, 'dropout': 0.1, 'batch_size': 72, 'lr': 2.7673690041861952e-05, 'weight_decay': 0.004159488963542015, 'ff_size': 587, 'num_blocks': 4, 'activation': 'ReLU', 'norm_type': 'LayerNormNoBias', 'normalize_before': True}\n",
      "Best value: 76.95211937903134, Best params: {'input_chunk_length': 84, 'hidden_size': 72, 'dropout': 0.1, 'batch_size': 80, 'lr': 0.00030653645467068055, 'weight_decay': 0.0004180394093320111, 'ff_size': 241, 'num_blocks': 4, 'activation': 'GELU', 'norm_type': 'LayerNorm', 'normalize_before': False}\n",
      "\n",
      "Fold 1/3\n"
     ]
    },
    {
     "name": "stderr",
     "output_type": "stream",
     "text": [
      "Metric val_loss improved. New best score: 8.088\n",
      "Metric val_loss improved by 0.002 >= min_delta = 0.0005. New best score: 8.086\n",
      "Metric val_loss improved by 0.002 >= min_delta = 0.0005. New best score: 8.083\n",
      "Metric val_loss improved by 0.002 >= min_delta = 0.0005. New best score: 8.081\n",
      "Metric val_loss improved by 0.002 >= min_delta = 0.0005. New best score: 8.079\n",
      "Metric val_loss improved by 0.002 >= min_delta = 0.0005. New best score: 8.077\n",
      "Metric val_loss improved by 0.002 >= min_delta = 0.0005. New best score: 8.074\n",
      "Metric val_loss improved by 0.002 >= min_delta = 0.0005. New best score: 8.072\n",
      "Metric val_loss improved by 0.002 >= min_delta = 0.0005. New best score: 8.070\n",
      "Metric val_loss improved by 0.002 >= min_delta = 0.0005. New best score: 8.068\n",
      "Metric val_loss improved by 0.002 >= min_delta = 0.0005. New best score: 8.066\n",
      "Metric val_loss improved by 0.002 >= min_delta = 0.0005. New best score: 8.064\n",
      "Metric val_loss improved by 0.002 >= min_delta = 0.0005. New best score: 8.062\n",
      "Metric val_loss improved by 0.002 >= min_delta = 0.0005. New best score: 8.060\n",
      "Metric val_loss improved by 0.002 >= min_delta = 0.0005. New best score: 8.058\n",
      "Metric val_loss improved by 0.002 >= min_delta = 0.0005. New best score: 8.056\n",
      "Metric val_loss improved by 0.002 >= min_delta = 0.0005. New best score: 8.054\n",
      "Metric val_loss improved by 0.002 >= min_delta = 0.0005. New best score: 8.052\n",
      "Metric val_loss improved by 0.002 >= min_delta = 0.0005. New best score: 8.050\n",
      "Metric val_loss improved by 0.002 >= min_delta = 0.0005. New best score: 8.049\n",
      "Metric val_loss improved by 0.002 >= min_delta = 0.0005. New best score: 8.047\n",
      "Metric val_loss improved by 0.002 >= min_delta = 0.0005. New best score: 8.045\n",
      "Metric val_loss improved by 0.002 >= min_delta = 0.0005. New best score: 8.043\n",
      "Metric val_loss improved by 0.002 >= min_delta = 0.0005. New best score: 8.041\n",
      "Metric val_loss improved by 0.002 >= min_delta = 0.0005. New best score: 8.040\n",
      "[I 2025-06-10 18:47:48,306] Trial 7 pruned. Trial was pruned at epoch 25.\n",
      "GPU available: True (cuda), used: True\n",
      "TPU available: False, using: 0 TPU cores\n",
      "HPU available: False, using: 0 HPUs\n",
      "LOCAL_RANK: 0 - CUDA_VISIBLE_DEVICES: [0]\n"
     ]
    },
    {
     "name": "stdout",
     "output_type": "stream",
     "text": [
      "Current value: 8.038151784587708, Current params: {'input_chunk_length': 24, 'hidden_size': 104, 'dropout': 0.1, 'batch_size': 176, 'lr': 1.5146487508782962e-06, 'weight_decay': 0.00018562097341619536, 'ff_size': 191, 'num_blocks': 4, 'activation': 'GELU', 'norm_type': 'LayerNorm', 'normalize_before': False}\n",
      "Best value: 76.95211937903134, Best params: {'input_chunk_length': 84, 'hidden_size': 72, 'dropout': 0.1, 'batch_size': 80, 'lr': 0.00030653645467068055, 'weight_decay': 0.0004180394093320111, 'ff_size': 241, 'num_blocks': 4, 'activation': 'GELU', 'norm_type': 'LayerNorm', 'normalize_before': False}\n",
      "\n",
      "Fold 1/3\n"
     ]
    },
    {
     "name": "stderr",
     "output_type": "stream",
     "text": [
      "[I 2025-06-10 18:47:49,474] Trial 8 pruned. Trial was pruned at epoch 0.\n",
      "GPU available: True (cuda), used: True\n",
      "TPU available: False, using: 0 TPU cores\n",
      "HPU available: False, using: 0 HPUs\n",
      "LOCAL_RANK: 0 - CUDA_VISIBLE_DEVICES: [0]\n"
     ]
    },
    {
     "name": "stdout",
     "output_type": "stream",
     "text": [
      "Current value: 12.199841036061965, Current params: {'input_chunk_length': 84, 'hidden_size': 40, 'dropout': 0.4, 'batch_size': 176, 'lr': 0.0001453916071556142, 'weight_decay': 2.2209806262842166e-06, 'ff_size': 73, 'num_blocks': 3, 'activation': 'ReLU', 'norm_type': 'TimeBatchNorm2d', 'normalize_before': True}\n",
      "Best value: 76.95211937903134, Best params: {'input_chunk_length': 84, 'hidden_size': 72, 'dropout': 0.1, 'batch_size': 80, 'lr': 0.00030653645467068055, 'weight_decay': 0.0004180394093320111, 'ff_size': 241, 'num_blocks': 4, 'activation': 'GELU', 'norm_type': 'LayerNorm', 'normalize_before': False}\n",
      "\n",
      "Fold 1/3\n"
     ]
    },
    {
     "name": "stderr",
     "output_type": "stream",
     "text": [
      "Exception ignored in: <function _MultiProcessingDataLoaderIter.__del__ at 0x7f6ea576f2e0>\n",
      "Traceback (most recent call last):\n",
      "  File \"/home/eduardo/Documentos/Water-Cycle-Neural-Network/venv/lib/python3.12/site-packages/torch/utils/data/dataloader.py\", line 1663, in __del__\n",
      "Exception ignored in: <function _MultiProcessingDataLoaderIter.__del__ at 0x7f6ea576f2e0>    Exception ignored in: \n",
      "self._shutdown_workers()<function _MultiProcessingDataLoaderIter.__del__ at 0x7f6ea576f2e0>Traceback (most recent call last):\n",
      "\n",
      "\n",
      "  File \"/home/eduardo/Documentos/Water-Cycle-Neural-Network/venv/lib/python3.12/site-packages/torch/utils/data/dataloader.py\", line 1646, in _shutdown_workers\n",
      "  File \"/home/eduardo/Documentos/Water-Cycle-Neural-Network/venv/lib/python3.12/site-packages/torch/utils/data/dataloader.py\", line 1663, in __del__\n",
      "Traceback (most recent call last):\n",
      "  File \"/home/eduardo/Documentos/Water-Cycle-Neural-Network/venv/lib/python3.12/site-packages/torch/utils/data/dataloader.py\", line 1663, in __del__\n",
      "        self._shutdown_workers()    if w.is_alive():\n",
      "self._shutdown_workers()\n",
      "  File \"/home/eduardo/Documentos/Water-Cycle-Neural-Network/venv/lib/python3.12/site-packages/torch/utils/data/dataloader.py\", line 1646, in _shutdown_workers\n",
      "\n",
      "   File \"/home/eduardo/Documentos/Water-Cycle-Neural-Network/venv/lib/python3.12/site-packages/torch/utils/data/dataloader.py\", line 1646, in _shutdown_workers\n",
      "           if w.is_alive():if w.is_alive():\n",
      " \n",
      "        ^  ^  ^ ^ ^^ ^^ ^^^^^^^^^^^^^^^^^^^^\n",
      "^^  File \"/usr/lib/python3.12/multiprocessing/process.py\", line 160, in is_alive\n",
      "^^    ^assert self._parent_pid == os.getpid(), 'can only test a child process'^^\n",
      "^\n",
      " \n",
      "  File \"/usr/lib/python3.12/multiprocessing/process.py\", line 160, in is_alive\n",
      "   File \"/usr/lib/python3.12/multiprocessing/process.py\", line 160, in is_alive\n",
      "          assert self._parent_pid == os.getpid(), 'can only test a child process'assert self._parent_pid == os.getpid(), 'can only test a child process' \n",
      "\n",
      "                  ^  ^  ^  ^  ^^^^ ^^ ^^^^^^^^^^^^^^^^^^^^^^^^^^^^^^^^^^^^^^^^^^^^^^^^^^^^^^^^^^^^^^^^^^^^^^^^^^\n",
      "^^AssertionError^^: ^^can only test a child process\n",
      "^\n",
      "^^AssertionError\n",
      ": AssertionErrorcan only test a child process: \n",
      "can only test a child process\n",
      "[I 2025-06-10 18:48:45,762] Trial 9 pruned. Trial was pruned at epoch 0.\n",
      "GPU available: True (cuda), used: True\n",
      "TPU available: False, using: 0 TPU cores\n",
      "HPU available: False, using: 0 HPUs\n",
      "LOCAL_RANK: 0 - CUDA_VISIBLE_DEVICES: [0]\n"
     ]
    },
    {
     "name": "stdout",
     "output_type": "stream",
     "text": [
      "Current value: 10.704901780345727, Current params: {'input_chunk_length': 48, 'hidden_size': 88, 'dropout': 0.30000000000000004, 'batch_size': 224, 'lr': 2.421286352855504e-06, 'weight_decay': 0.005791901319112925, 'ff_size': 97, 'num_blocks': 2, 'activation': 'ReLU', 'norm_type': 'TimeBatchNorm2d', 'normalize_before': False}\n",
      "Best value: 76.95211937903134, Best params: {'input_chunk_length': 84, 'hidden_size': 72, 'dropout': 0.1, 'batch_size': 80, 'lr': 0.00030653645467068055, 'weight_decay': 0.0004180394093320111, 'ff_size': 241, 'num_blocks': 4, 'activation': 'GELU', 'norm_type': 'LayerNorm', 'normalize_before': False}\n",
      "\n",
      "Fold 1/3\n"
     ]
    },
    {
     "name": "stderr",
     "output_type": "stream",
     "text": [
      "[I 2025-06-10 18:48:47,138] Trial 10 pruned. Trial was pruned at epoch 0.\n"
     ]
    },
    {
     "name": "stdout",
     "output_type": "stream",
     "text": [
      "Current value: 8.344011789316296, Current params: {'input_chunk_length': 168, 'hidden_size': 232, 'dropout': 0.2, 'batch_size': 64, 'lr': 0.002941674454980448, 'weight_decay': 3.5138601442131377e-05, 'ff_size': 382, 'num_blocks': 1, 'activation': 'GELU', 'norm_type': 'LayerNorm', 'normalize_before': False}\n",
      "Best value: 76.95211937903134, Best params: {'input_chunk_length': 84, 'hidden_size': 72, 'dropout': 0.1, 'batch_size': 80, 'lr': 0.00030653645467068055, 'weight_decay': 0.0004180394093320111, 'ff_size': 241, 'num_blocks': 4, 'activation': 'GELU', 'norm_type': 'LayerNorm', 'normalize_before': False}\n",
      "\n",
      "Fold 1/3\n"
     ]
    },
    {
     "name": "stderr",
     "output_type": "stream",
     "text": [
      "GPU available: True (cuda), used: True\n",
      "TPU available: False, using: 0 TPU cores\n",
      "HPU available: False, using: 0 HPUs\n",
      "LOCAL_RANK: 0 - CUDA_VISIBLE_DEVICES: [0]\n",
      "Metric val_loss improved. New best score: 8.249\n",
      "Metric val_loss improved by 0.076 >= min_delta = 0.0005. New best score: 8.173\n",
      "Metric val_loss improved by 0.056 >= min_delta = 0.0005. New best score: 8.117\n",
      "Metric val_loss improved by 0.077 >= min_delta = 0.0005. New best score: 8.039\n",
      "Metric val_loss improved by 0.052 >= min_delta = 0.0005. New best score: 7.987\n",
      "Metric val_loss improved by 0.031 >= min_delta = 0.0005. New best score: 7.956\n",
      "Metric val_loss improved by 0.009 >= min_delta = 0.0005. New best score: 7.946\n",
      "Metric val_loss improved by 0.008 >= min_delta = 0.0005. New best score: 7.938\n",
      "Metric val_loss improved by 0.002 >= min_delta = 0.0005. New best score: 7.936\n",
      "Metric val_loss improved by 0.016 >= min_delta = 0.0005. New best score: 7.920\n",
      "Metric val_loss improved by 0.002 >= min_delta = 0.0005. New best score: 7.919\n",
      "Metric val_loss improved by 0.008 >= min_delta = 0.0005. New best score: 7.910\n",
      "Metric val_loss improved by 0.008 >= min_delta = 0.0005. New best score: 7.902\n",
      "Metric val_loss improved by 0.006 >= min_delta = 0.0005. New best score: 7.896\n",
      "Metric val_loss improved by 0.001 >= min_delta = 0.0005. New best score: 7.896\n",
      "Metric val_loss improved by 0.002 >= min_delta = 0.0005. New best score: 7.894\n",
      "Metric val_loss improved by 0.010 >= min_delta = 0.0005. New best score: 7.884\n",
      "[I 2025-06-10 18:50:07,266] Trial 11 pruned. Trial was pruned at epoch 26.\n",
      "GPU available: True (cuda), used: True\n",
      "TPU available: False, using: 0 TPU cores\n",
      "HPU available: False, using: 0 HPUs\n",
      "LOCAL_RANK: 0 - CUDA_VISIBLE_DEVICES: [0]\n"
     ]
    },
    {
     "name": "stdout",
     "output_type": "stream",
     "text": [
      "Current value: 7.89007617454776, Current params: {'input_chunk_length': 120, 'hidden_size': 104, 'dropout': 0.25, 'batch_size': 104, 'lr': 0.0004367308818614646, 'weight_decay': 0.0007733306290719342, 'ff_size': 240, 'num_blocks': 3, 'activation': 'GELU', 'norm_type': 'LayerNormNoBias', 'normalize_before': False}\n",
      "Best value: 76.95211937903134, Best params: {'input_chunk_length': 84, 'hidden_size': 72, 'dropout': 0.1, 'batch_size': 80, 'lr': 0.00030653645467068055, 'weight_decay': 0.0004180394093320111, 'ff_size': 241, 'num_blocks': 4, 'activation': 'GELU', 'norm_type': 'LayerNorm', 'normalize_before': False}\n",
      "\n",
      "Fold 1/3\n"
     ]
    },
    {
     "name": "stderr",
     "output_type": "stream",
     "text": [
      "Metric val_loss improved. New best score: 8.260\n",
      "Metric val_loss improved by 0.063 >= min_delta = 0.0005. New best score: 8.197\n",
      "Metric val_loss improved by 0.027 >= min_delta = 0.0005. New best score: 8.170\n",
      "Metric val_loss improved by 0.022 >= min_delta = 0.0005. New best score: 8.148\n",
      "Metric val_loss improved by 0.008 >= min_delta = 0.0005. New best score: 8.140\n",
      "Metric val_loss improved by 0.012 >= min_delta = 0.0005. New best score: 8.128\n",
      "Metric val_loss improved by 0.015 >= min_delta = 0.0005. New best score: 8.113\n",
      "Metric val_loss improved by 0.012 >= min_delta = 0.0005. New best score: 8.101\n",
      "Metric val_loss improved by 0.011 >= min_delta = 0.0005. New best score: 8.090\n",
      "Metric val_loss improved by 0.012 >= min_delta = 0.0005. New best score: 8.078\n",
      "Metric val_loss improved by 0.006 >= min_delta = 0.0005. New best score: 8.072\n",
      "Metric val_loss improved by 0.014 >= min_delta = 0.0005. New best score: 8.058\n",
      "Metric val_loss improved by 0.012 >= min_delta = 0.0005. New best score: 8.046\n",
      "Metric val_loss improved by 0.021 >= min_delta = 0.0005. New best score: 8.026\n",
      "Metric val_loss improved by 0.015 >= min_delta = 0.0005. New best score: 8.011\n",
      "Metric val_loss improved by 0.005 >= min_delta = 0.0005. New best score: 8.005\n",
      "Metric val_loss improved by 0.010 >= min_delta = 0.0005. New best score: 7.995\n",
      "Metric val_loss improved by 0.006 >= min_delta = 0.0005. New best score: 7.989\n",
      "Metric val_loss improved by 0.002 >= min_delta = 0.0005. New best score: 7.987\n",
      "Metric val_loss improved by 0.001 >= min_delta = 0.0005. New best score: 7.986\n",
      "[I 2025-06-10 18:50:30,691] Trial 12 pruned. Trial was pruned at epoch 25.\n",
      "GPU available: True (cuda), used: True\n",
      "TPU available: False, using: 0 TPU cores\n",
      "HPU available: False, using: 0 HPUs\n",
      "LOCAL_RANK: 0 - CUDA_VISIBLE_DEVICES: [0]\n"
     ]
    },
    {
     "name": "stdout",
     "output_type": "stream",
     "text": [
      "Current value: 7.987670278516938, Current params: {'input_chunk_length': 132, 'hidden_size': 80, 'dropout': 0.5, 'batch_size': 112, 'lr': 0.0008494195384074515, 'weight_decay': 0.000621146305321777, 'ff_size': 205, 'num_blocks': 3, 'activation': 'GELU', 'norm_type': 'LayerNorm', 'normalize_before': False}\n",
      "Best value: 76.95211937903134, Best params: {'input_chunk_length': 84, 'hidden_size': 72, 'dropout': 0.1, 'batch_size': 80, 'lr': 0.00030653645467068055, 'weight_decay': 0.0004180394093320111, 'ff_size': 241, 'num_blocks': 4, 'activation': 'GELU', 'norm_type': 'LayerNorm', 'normalize_before': False}\n",
      "\n",
      "Fold 1/3\n"
     ]
    },
    {
     "name": "stderr",
     "output_type": "stream",
     "text": [
      "[I 2025-06-10 18:50:32,050] Trial 13 pruned. Trial was pruned at epoch 0.\n",
      "GPU available: True (cuda), used: True\n",
      "TPU available: False, using: 0 TPU cores\n",
      "HPU available: False, using: 0 HPUs\n",
      "LOCAL_RANK: 0 - CUDA_VISIBLE_DEVICES: [0]\n"
     ]
    },
    {
     "name": "stdout",
     "output_type": "stream",
     "text": [
      "Current value: 8.394108316784864, Current params: {'input_chunk_length': 144, 'hidden_size': 128, 'dropout': 0.30000000000000004, 'batch_size': 256, 'lr': 0.00017439121905864045, 'weight_decay': 0.0011802248015170672, 'ff_size': 294, 'num_blocks': 3, 'activation': 'GELU', 'norm_type': 'LayerNormNoBias', 'normalize_before': False}\n",
      "Best value: 76.95211937903134, Best params: {'input_chunk_length': 84, 'hidden_size': 72, 'dropout': 0.1, 'batch_size': 80, 'lr': 0.00030653645467068055, 'weight_decay': 0.0004180394093320111, 'ff_size': 241, 'num_blocks': 4, 'activation': 'GELU', 'norm_type': 'LayerNorm', 'normalize_before': False}\n",
      "\n",
      "Fold 1/3\n"
     ]
    },
    {
     "name": "stderr",
     "output_type": "stream",
     "text": [
      "[I 2025-06-10 18:50:33,290] Trial 14 pruned. Trial was pruned at epoch 0.\n",
      "GPU available: True (cuda), used: True\n",
      "TPU available: False, using: 0 TPU cores\n",
      "HPU available: False, using: 0 HPUs\n",
      "LOCAL_RANK: 0 - CUDA_VISIBLE_DEVICES: [0]\n"
     ]
    },
    {
     "name": "stdout",
     "output_type": "stream",
     "text": [
      "Current value: 12.428681033578599, Current params: {'input_chunk_length': 96, 'hidden_size': 72, 'dropout': 0.35, 'batch_size': 96, 'lr': 0.003037844352242641, 'weight_decay': 0.001157977137178197, 'ff_size': 154, 'num_blocks': 1, 'activation': 'GELU', 'norm_type': 'TimeBatchNorm2d', 'normalize_before': False}\n",
      "Best value: 76.95211937903134, Best params: {'input_chunk_length': 84, 'hidden_size': 72, 'dropout': 0.1, 'batch_size': 80, 'lr': 0.00030653645467068055, 'weight_decay': 0.0004180394093320111, 'ff_size': 241, 'num_blocks': 4, 'activation': 'GELU', 'norm_type': 'LayerNorm', 'normalize_before': False}\n",
      "\n",
      "Fold 1/3\n"
     ]
    },
    {
     "name": "stderr",
     "output_type": "stream",
     "text": [
      "Exception ignored in: <function _MultiProcessingDataLoaderIter.__del__ at 0x7f6ea576f2e0>\n",
      "Exception ignored in: Exception ignored in: Traceback (most recent call last):\n",
      "<function _MultiProcessingDataLoaderIter.__del__ at 0x7f6ea576f2e0>\n",
      "  File \"/home/eduardo/Documentos/Water-Cycle-Neural-Network/venv/lib/python3.12/site-packages/torch/utils/data/dataloader.py\", line 1663, in __del__\n",
      "<function _MultiProcessingDataLoaderIter.__del__ at 0x7f6ea576f2e0>Traceback (most recent call last):\n",
      "\n",
      "      File \"/home/eduardo/Documentos/Water-Cycle-Neural-Network/venv/lib/python3.12/site-packages/torch/utils/data/dataloader.py\", line 1663, in __del__\n",
      "self._shutdown_workers()Traceback (most recent call last):\n",
      "\n",
      "      File \"/home/eduardo/Documentos/Water-Cycle-Neural-Network/venv/lib/python3.12/site-packages/torch/utils/data/dataloader.py\", line 1663, in __del__\n",
      "  File \"/home/eduardo/Documentos/Water-Cycle-Neural-Network/venv/lib/python3.12/site-packages/torch/utils/data/dataloader.py\", line 1646, in _shutdown_workers\n",
      "self._shutdown_workers()\n",
      "          File \"/home/eduardo/Documentos/Water-Cycle-Neural-Network/venv/lib/python3.12/site-packages/torch/utils/data/dataloader.py\", line 1646, in _shutdown_workers\n",
      "if w.is_alive():self._shutdown_workers()\n",
      "    \n",
      " if w.is_alive():  File \"/home/eduardo/Documentos/Water-Cycle-Neural-Network/venv/lib/python3.12/site-packages/torch/utils/data/dataloader.py\", line 1646, in _shutdown_workers\n",
      " \n",
      "      if w.is_alive():  \n",
      "          ^  ^ ^^ ^^ ^^^^^^^^^^^^^^^^^^^^^^^^^^^^\n",
      "\n",
      "^  File \"/usr/lib/python3.12/multiprocessing/process.py\", line 160, in is_alive\n",
      "^      File \"/usr/lib/python3.12/multiprocessing/process.py\", line 160, in is_alive\n",
      "\n",
      "assert self._parent_pid == os.getpid(), 'can only test a child process'    \n",
      "  File \"/usr/lib/python3.12/multiprocessing/process.py\", line 160, in is_alive\n",
      "assert self._parent_pid == os.getpid(), 'can only test a child process'     \n",
      " assert self._parent_pid == os.getpid(), 'can only test a child process'  \n",
      "                         ^  ^  ^^^^^^^^^^^^^^^^^^^^^^^^^^^^^^^^^^^^^^^^^^^^^^^^^^^^^^^^^^^^^^^^^^^^^^^^^^^^^^^^^^^^^^^^^\n",
      "^^AssertionError\n",
      "\n",
      ": AssertionErrorAssertionErrorcan only test a child process\n",
      ": : can only test a child processcan only test a child process\n",
      "\n",
      "Metric val_loss improved. New best score: 8.045\n",
      "Metric val_loss improved by 0.063 >= min_delta = 0.0005. New best score: 7.983\n",
      "Metric val_loss improved by 0.011 >= min_delta = 0.0005. New best score: 7.972\n",
      "Metric val_loss improved by 0.003 >= min_delta = 0.0005. New best score: 7.969\n",
      "Metric val_loss improved by 0.009 >= min_delta = 0.0005. New best score: 7.960\n",
      "Metric val_loss improved by 0.003 >= min_delta = 0.0005. New best score: 7.957\n",
      "Metric val_loss improved by 0.001 >= min_delta = 0.0005. New best score: 7.956\n",
      "Metric val_loss improved by 0.007 >= min_delta = 0.0005. New best score: 7.949\n",
      "Metric val_loss improved by 0.004 >= min_delta = 0.0005. New best score: 7.945\n",
      "Metric val_loss improved by 0.008 >= min_delta = 0.0005. New best score: 7.937\n",
      "Metric val_loss improved by 0.002 >= min_delta = 0.0005. New best score: 7.935\n",
      "[I 2025-06-10 18:51:56,778] Trial 15 pruned. Trial was pruned at epoch 25.\n",
      "GPU available: True (cuda), used: True\n",
      "TPU available: False, using: 0 TPU cores\n",
      "HPU available: False, using: 0 HPUs\n",
      "LOCAL_RANK: 0 - CUDA_VISIBLE_DEVICES: [0]\n"
     ]
    },
    {
     "name": "stdout",
     "output_type": "stream",
     "text": [
      "Current value: 7.945922858450726, Current params: {'input_chunk_length': 72, 'hidden_size': 128, 'dropout': 0.2, 'batch_size': 200, 'lr': 0.0007635901883635548, 'weight_decay': 0.008278451782570792, 'ff_size': 295, 'num_blocks': 4, 'activation': 'GELU', 'norm_type': 'LayerNorm', 'normalize_before': False}\n",
      "Best value: 76.95211937903134, Best params: {'input_chunk_length': 84, 'hidden_size': 72, 'dropout': 0.1, 'batch_size': 80, 'lr': 0.00030653645467068055, 'weight_decay': 0.0004180394093320111, 'ff_size': 241, 'num_blocks': 4, 'activation': 'GELU', 'norm_type': 'LayerNorm', 'normalize_before': False}\n",
      "\n",
      "Fold 1/3\n"
     ]
    },
    {
     "name": "stderr",
     "output_type": "stream",
     "text": [
      "Exception in thread QueueFeederThread:\n",
      "Traceback (most recent call last):\n",
      "  File \"/usr/lib/python3.12/multiprocessing/queues.py\", line 259, in _feed\n",
      "Exception in thread QueueFeederThread:\n",
      "Traceback (most recent call last):\n",
      "  File \"/usr/lib/python3.12/multiprocessing/queues.py\", line 259, in _feed\n",
      "    reader_close()\n",
      "  File \"/usr/lib/python3.12/multiprocessing/connection.py\", line 178, in close\n",
      "    self._close()\n",
      "  File \"/usr/lib/python3.12/multiprocessing/connection.py\", line 377, in _close\n",
      "    reader_close()\n",
      "  File \"/usr/lib/python3.12/multiprocessing/connection.py\", line 178, in close\n",
      "    _close(self._handle)\n",
      "OSError: [Errno 9] Bad file descriptor\n",
      "\n",
      "During handling of the above exception, another exception occurred:\n",
      "\n",
      "Traceback (most recent call last):\n",
      "  File \"/usr/lib/python3.12/threading.py\", line 1073, in _bootstrap_inner\n",
      "    self._close()\n",
      "  File \"/usr/lib/python3.12/multiprocessing/connection.py\", line 377, in _close\n",
      "    self.run()\n",
      "  File \"/home/eduardo/Documentos/Water-Cycle-Neural-Network/venv/lib/python3.12/site-packages/ipykernel/ipkernel.py\", line 766, in run_closure\n",
      "    _close(self._handle)\n",
      "OSError: [Errno 9] Bad file descriptor\n",
      "\n",
      "During handling of the above exception, another exception occurred:\n",
      "\n",
      "Traceback (most recent call last):\n",
      "  File \"/usr/lib/python3.12/threading.py\", line 1073, in _bootstrap_inner\n",
      "    _threading_Thread_run(self)\n",
      "  File \"/usr/lib/python3.12/threading.py\", line 1010, in run\n",
      "    self._target(*self._args, **self._kwargs)\n",
      "  File \"/usr/lib/python3.12/multiprocessing/queues.py\", line 291, in _feed\n",
      "    self.run()\n",
      "  File \"/home/eduardo/Documentos/Water-Cycle-Neural-Network/venv/lib/python3.12/site-packages/ipykernel/ipkernel.py\", line 766, in run_closure\n",
      "    queue_sem.release()\n",
      "ValueError: semaphore or lock released too many times\n",
      "    _threading_Thread_run(self)\n",
      "  File \"/usr/lib/python3.12/threading.py\", line 1010, in run\n",
      "    self._target(*self._args, **self._kwargs)\n",
      "  File \"/usr/lib/python3.12/multiprocessing/queues.py\", line 291, in _feed\n",
      "    queue_sem.release()\n",
      "ValueError: semaphore or lock released too many times\n",
      "Exception in thread Exception in thread QueueFeederThread:\n",
      "Traceback (most recent call last):\n",
      "  File \"/usr/lib/python3.12/multiprocessing/queues.py\", line 259, in _feed\n",
      "QueueFeederThread:\n",
      "Traceback (most recent call last):\n",
      "  File \"/usr/lib/python3.12/multiprocessing/queues.py\", line 259, in _feed\n",
      "Exception in thread QueueFeederThread:\n",
      "Traceback (most recent call last):\n",
      "  File \"/usr/lib/python3.12/multiprocessing/queues.py\", line 259, in _feed\n",
      "    reader_close()\n",
      "  File \"/usr/lib/python3.12/multiprocessing/connection.py\", line 178, in close\n",
      "    reader_close()\n",
      "  File \"/usr/lib/python3.12/multiprocessing/connection.py\", line 178, in close\n",
      "    reader_close()\n",
      "  File \"/usr/lib/python3.12/multiprocessing/connection.py\", line 178, in close\n",
      "    self._close()\n",
      "  File \"/usr/lib/python3.12/multiprocessing/connection.py\", line 377, in _close\n",
      "    self._close()\n",
      "  File \"/usr/lib/python3.12/multiprocessing/connection.py\", line 377, in _close\n",
      "    self._close()\n",
      "  File \"/usr/lib/python3.12/multiprocessing/connection.py\", line 377, in _close\n",
      "    _close(self._handle)\n",
      "OSError: [Errno 9] Bad file descriptor\n",
      "\n",
      "During handling of the above exception, another exception occurred:\n",
      "\n",
      "Traceback (most recent call last):\n",
      "  File \"/usr/lib/python3.12/threading.py\", line 1073, in _bootstrap_inner\n",
      "    _close(self._handle)\n",
      "OSError: [Errno 9] Bad file descriptor\n",
      "\n",
      "During handling of the above exception, another exception occurred:\n",
      "\n",
      "Traceback (most recent call last):\n",
      "  File \"/usr/lib/python3.12/threading.py\", line 1073, in _bootstrap_inner\n",
      "    self.run()\n",
      "  File \"/home/eduardo/Documentos/Water-Cycle-Neural-Network/venv/lib/python3.12/site-packages/ipykernel/ipkernel.py\", line 766, in run_closure\n",
      "    _close(self._handle)\n",
      "OSError: [Errno 9] Bad file descriptor\n",
      "\n",
      "During handling of the above exception, another exception occurred:\n",
      "\n",
      "Traceback (most recent call last):\n",
      "  File \"/usr/lib/python3.12/threading.py\", line 1073, in _bootstrap_inner\n",
      "    _threading_Thread_run(self)\n",
      "  File \"/usr/lib/python3.12/threading.py\", line 1010, in run\n",
      "    self.run()\n",
      "  File \"/home/eduardo/Documentos/Water-Cycle-Neural-Network/venv/lib/python3.12/site-packages/ipykernel/ipkernel.py\", line 766, in run_closure\n",
      "    self._target(*self._args, **self._kwargs)\n",
      "  File \"/usr/lib/python3.12/multiprocessing/queues.py\", line 291, in _feed\n",
      "    self.run()\n",
      "  File \"/home/eduardo/Documentos/Water-Cycle-Neural-Network/venv/lib/python3.12/site-packages/ipykernel/ipkernel.py\", line 766, in run_closure\n",
      "    _threading_Thread_run(self)\n",
      "  File \"/usr/lib/python3.12/threading.py\", line 1010, in run\n",
      "    _threading_Thread_run(self)\n",
      "  File \"/usr/lib/python3.12/threading.py\", line 1010, in run\n",
      "    queue_sem.release()\n",
      "ValueError: semaphore or lock released too many times\n",
      "    self._target(*self._args, **self._kwargs)\n",
      "  File \"/usr/lib/python3.12/multiprocessing/queues.py\", line 291, in _feed\n",
      "    self._target(*self._args, **self._kwargs)\n",
      "  File \"/usr/lib/python3.12/multiprocessing/queues.py\", line 291, in _feed\n",
      "    queue_sem.release()\n",
      "ValueError: semaphore or lock released too many times\n",
      "    queue_sem.release()\n",
      "ValueError: semaphore or lock released too many times\n",
      "Exception in thread QueueFeederThread:\n",
      "Traceback (most recent call last):\n",
      "  File \"/usr/lib/python3.12/multiprocessing/queues.py\", line 259, in _feed\n",
      "    reader_close()\n",
      "  File \"/usr/lib/python3.12/multiprocessing/connection.py\", line 178, in close\n",
      "    self._close()\n",
      "  File \"/usr/lib/python3.12/multiprocessing/connection.py\", line 377, in _close\n",
      "    _close(self._handle)\n",
      "OSError: [Errno 9] Bad file descriptor\n",
      "\n",
      "During handling of the above exception, another exception occurred:\n",
      "\n",
      "Traceback (most recent call last):\n",
      "  File \"/usr/lib/python3.12/threading.py\", line 1073, in _bootstrap_inner\n",
      "    self.run()\n",
      "  File \"/home/eduardo/Documentos/Water-Cycle-Neural-Network/venv/lib/python3.12/site-packages/ipykernel/ipkernel.py\", line 766, in run_closure\n",
      "    _threading_Thread_run(self)\n",
      "  File \"/usr/lib/python3.12/threading.py\", line 1010, in run\n",
      "    self._target(*self._args, **self._kwargs)\n",
      "  File \"/usr/lib/python3.12/multiprocessing/queues.py\", line 291, in _feed\n",
      "    queue_sem.release()\n",
      "ValueError: semaphore or lock released too many times\n",
      "Metric val_loss improved. New best score: 8.172\n",
      "Metric val_loss improved by 0.011 >= min_delta = 0.0005. New best score: 8.160\n",
      "Metric val_loss improved by 0.002 >= min_delta = 0.0005. New best score: 8.158\n",
      "Metric val_loss improved by 0.005 >= min_delta = 0.0005. New best score: 8.152\n",
      "Metric val_loss improved by 0.005 >= min_delta = 0.0005. New best score: 8.147\n",
      "Metric val_loss improved by 0.006 >= min_delta = 0.0005. New best score: 8.141\n",
      "Metric val_loss improved by 0.013 >= min_delta = 0.0005. New best score: 8.128\n",
      "Metric val_loss improved by 0.017 >= min_delta = 0.0005. New best score: 8.112\n",
      "Metric val_loss improved by 0.028 >= min_delta = 0.0005. New best score: 8.084\n",
      "Metric val_loss improved by 0.025 >= min_delta = 0.0005. New best score: 8.059\n",
      "Metric val_loss improved by 0.022 >= min_delta = 0.0005. New best score: 8.036\n",
      "Metric val_loss improved by 0.020 >= min_delta = 0.0005. New best score: 8.017\n",
      "Metric val_loss improved by 0.016 >= min_delta = 0.0005. New best score: 8.001\n",
      "Metric val_loss improved by 0.023 >= min_delta = 0.0005. New best score: 7.978\n",
      "Metric val_loss improved by 0.018 >= min_delta = 0.0005. New best score: 7.960\n",
      "Metric val_loss improved by 0.012 >= min_delta = 0.0005. New best score: 7.948\n",
      "Metric val_loss improved by 0.007 >= min_delta = 0.0005. New best score: 7.941\n",
      "Metric val_loss improved by 0.015 >= min_delta = 0.0005. New best score: 7.926\n",
      "Metric val_loss improved by 0.008 >= min_delta = 0.0005. New best score: 7.918\n",
      "Metric val_loss improved by 0.004 >= min_delta = 0.0005. New best score: 7.914\n",
      "Metric val_loss improved by 0.015 >= min_delta = 0.0005. New best score: 7.898\n",
      "Metric val_loss improved by 0.008 >= min_delta = 0.0005. New best score: 7.890\n",
      "Metric val_loss improved by 0.007 >= min_delta = 0.0005. New best score: 7.883\n",
      "[I 2025-06-10 18:59:32,674] Trial 16 pruned. Trial was pruned at epoch 26.\n",
      "GPU available: True (cuda), used: True\n",
      "TPU available: False, using: 0 TPU cores\n",
      "HPU available: False, using: 0 HPUs\n",
      "LOCAL_RANK: 0 - CUDA_VISIBLE_DEVICES: [0]\n"
     ]
    },
    {
     "name": "stdout",
     "output_type": "stream",
     "text": [
      "Current value: 7.873486648693092, Current params: {'input_chunk_length': 108, 'hidden_size': 256, 'dropout': 0.45000000000000007, 'batch_size': 128, 'lr': 8.446312138128796e-05, 'weight_decay': 4.728654725610679e-05, 'ff_size': 997, 'num_blocks': 2, 'activation': 'GELU', 'norm_type': 'LayerNormNoBias', 'normalize_before': False}\n",
      "Best value: 76.95211937903134, Best params: {'input_chunk_length': 84, 'hidden_size': 72, 'dropout': 0.1, 'batch_size': 80, 'lr': 0.00030653645467068055, 'weight_decay': 0.0004180394093320111, 'ff_size': 241, 'num_blocks': 4, 'activation': 'GELU', 'norm_type': 'LayerNorm', 'normalize_before': False}\n",
      "\n",
      "Fold 1/3\n"
     ]
    },
    {
     "name": "stderr",
     "output_type": "stream",
     "text": [
      "Metric val_loss improved. New best score: 8.317\n",
      "Metric val_loss improved by 0.048 >= min_delta = 0.0005. New best score: 8.268\n",
      "Metric val_loss improved by 0.024 >= min_delta = 0.0005. New best score: 8.244\n",
      "Metric val_loss improved by 0.042 >= min_delta = 0.0005. New best score: 8.202\n",
      "Metric val_loss improved by 0.035 >= min_delta = 0.0005. New best score: 8.167\n",
      "Metric val_loss improved by 0.021 >= min_delta = 0.0005. New best score: 8.146\n",
      "Metric val_loss improved by 0.004 >= min_delta = 0.0005. New best score: 8.141\n",
      "Metric val_loss improved by 0.001 >= min_delta = 0.0005. New best score: 8.141\n",
      "Metric val_loss improved by 0.009 >= min_delta = 0.0005. New best score: 8.132\n",
      "Metric val_loss improved by 0.005 >= min_delta = 0.0005. New best score: 8.127\n",
      "Metric val_loss improved by 0.006 >= min_delta = 0.0005. New best score: 8.121\n",
      "Metric val_loss improved by 0.006 >= min_delta = 0.0005. New best score: 8.115\n",
      "Metric val_loss improved by 0.006 >= min_delta = 0.0005. New best score: 8.110\n",
      "Metric val_loss improved by 0.007 >= min_delta = 0.0005. New best score: 8.103\n",
      "Metric val_loss improved by 0.003 >= min_delta = 0.0005. New best score: 8.100\n",
      "Metric val_loss improved by 0.011 >= min_delta = 0.0005. New best score: 8.088\n",
      "[I 2025-06-10 18:59:57,986] Trial 17 pruned. Trial was pruned at epoch 25.\n",
      "GPU available: True (cuda), used: True\n",
      "TPU available: False, using: 0 TPU cores\n",
      "HPU available: False, using: 0 HPUs\n",
      "LOCAL_RANK: 0 - CUDA_VISIBLE_DEVICES: [0]\n"
     ]
    },
    {
     "name": "stdout",
     "output_type": "stream",
     "text": [
      "Current value: 8.091129641532115, Current params: {'input_chunk_length': 156, 'hidden_size': 72, 'dropout': 0.25, 'batch_size': 80, 'lr': 0.00032135287163322736, 'weight_decay': 0.0003151957171917183, 'ff_size': 157, 'num_blocks': 3, 'activation': 'GELU', 'norm_type': 'LayerNorm', 'normalize_before': False}\n",
      "Best value: 76.95211937903134, Best params: {'input_chunk_length': 84, 'hidden_size': 72, 'dropout': 0.1, 'batch_size': 80, 'lr': 0.00030653645467068055, 'weight_decay': 0.0004180394093320111, 'ff_size': 241, 'num_blocks': 4, 'activation': 'GELU', 'norm_type': 'LayerNorm', 'normalize_before': False}\n",
      "\n",
      "Fold 1/3\n"
     ]
    },
    {
     "name": "stderr",
     "output_type": "stream",
     "text": [
      "[I 2025-06-10 18:59:59,506] Trial 18 pruned. Trial was pruned at epoch 0.\n",
      "GPU available: True (cuda), used: True\n",
      "TPU available: False, using: 0 TPU cores\n",
      "HPU available: False, using: 0 HPUs\n",
      "LOCAL_RANK: 0 - CUDA_VISIBLE_DEVICES: [0]\n"
     ]
    },
    {
     "name": "stdout",
     "output_type": "stream",
     "text": [
      "Current value: 10.873041367922967, Current params: {'input_chunk_length': 96, 'hidden_size': 56, 'dropout': 0.35, 'batch_size': 128, 'lr': 0.0015120735523891562, 'weight_decay': 7.692515960768158e-06, 'ff_size': 56, 'num_blocks': 4, 'activation': 'GELU', 'norm_type': 'LayerNormNoBias', 'normalize_before': True}\n",
      "Best value: 76.95211937903134, Best params: {'input_chunk_length': 84, 'hidden_size': 72, 'dropout': 0.1, 'batch_size': 80, 'lr': 0.00030653645467068055, 'weight_decay': 0.0004180394093320111, 'ff_size': 241, 'num_blocks': 4, 'activation': 'GELU', 'norm_type': 'LayerNorm', 'normalize_before': False}\n",
      "\n",
      "Fold 1/3\n"
     ]
    },
    {
     "name": "stderr",
     "output_type": "stream",
     "text": [
      "[I 2025-06-10 19:00:01,186] Trial 19 pruned. Trial was pruned at epoch 0.\n"
     ]
    },
    {
     "name": "stdout",
     "output_type": "stream",
     "text": [
      "Current value: 12.737920874845, Current params: {'input_chunk_length': 72, 'hidden_size': 120, 'dropout': 0.15000000000000002, 'batch_size': 208, 'lr': 4.396567996014401e-05, 'weight_decay': 0.0016795656219924986, 'ff_size': 250, 'num_blocks': 3, 'activation': 'GELU', 'norm_type': 'TimeBatchNorm2d', 'normalize_before': False}\n",
      "Best value: 76.95211937903134, Best params: {'input_chunk_length': 84, 'hidden_size': 72, 'dropout': 0.1, 'batch_size': 80, 'lr': 0.00030653645467068055, 'weight_decay': 0.0004180394093320111, 'ff_size': 241, 'num_blocks': 4, 'activation': 'GELU', 'norm_type': 'LayerNorm', 'normalize_before': False}\n",
      "\n",
      "Fold 1/3\n"
     ]
    },
    {
     "name": "stderr",
     "output_type": "stream",
     "text": [
      "Exception ignored in: <function _ConnectionBase.__del__ at 0x7f6f7412bba0>\n",
      "Traceback (most recent call last):\n",
      "  File \"/usr/lib/python3.12/multiprocessing/connection.py\", line 133, in __del__\n",
      "    self._close()\n",
      "  File \"/usr/lib/python3.12/multiprocessing/connection.py\", line 377, in _close\n",
      "    _close(self._handle)\n",
      "OSError: [Errno 9] Bad file descriptor\n",
      "GPU available: True (cuda), used: True\n",
      "TPU available: False, using: 0 TPU cores\n",
      "HPU available: False, using: 0 HPUs\n",
      "LOCAL_RANK: 0 - CUDA_VISIBLE_DEVICES: [0]\n",
      "Metric val_loss improved. New best score: 8.320\n",
      "Metric val_loss improved by 0.015 >= min_delta = 0.0005. New best score: 8.304\n",
      "Metric val_loss improved by 0.014 >= min_delta = 0.0005. New best score: 8.290\n",
      "Metric val_loss improved by 0.012 >= min_delta = 0.0005. New best score: 8.278\n",
      "Metric val_loss improved by 0.010 >= min_delta = 0.0005. New best score: 8.268\n",
      "Metric val_loss improved by 0.009 >= min_delta = 0.0005. New best score: 8.259\n",
      "Metric val_loss improved by 0.008 >= min_delta = 0.0005. New best score: 8.252\n",
      "Metric val_loss improved by 0.007 >= min_delta = 0.0005. New best score: 8.245\n",
      "Metric val_loss improved by 0.006 >= min_delta = 0.0005. New best score: 8.239\n",
      "Metric val_loss improved by 0.005 >= min_delta = 0.0005. New best score: 8.234\n",
      "Metric val_loss improved by 0.005 >= min_delta = 0.0005. New best score: 8.230\n",
      "Metric val_loss improved by 0.004 >= min_delta = 0.0005. New best score: 8.226\n",
      "Metric val_loss improved by 0.004 >= min_delta = 0.0005. New best score: 8.222\n",
      "Metric val_loss improved by 0.003 >= min_delta = 0.0005. New best score: 8.218\n",
      "Metric val_loss improved by 0.003 >= min_delta = 0.0005. New best score: 8.215\n",
      "Metric val_loss improved by 0.003 >= min_delta = 0.0005. New best score: 8.213\n",
      "Metric val_loss improved by 0.002 >= min_delta = 0.0005. New best score: 8.211\n",
      "Metric val_loss improved by 0.003 >= min_delta = 0.0005. New best score: 8.208\n",
      "Metric val_loss improved by 0.003 >= min_delta = 0.0005. New best score: 8.205\n",
      "Metric val_loss improved by 0.002 >= min_delta = 0.0005. New best score: 8.203\n",
      "Metric val_loss improved by 0.002 >= min_delta = 0.0005. New best score: 8.201\n",
      "Metric val_loss improved by 0.002 >= min_delta = 0.0005. New best score: 8.199\n",
      "Metric val_loss improved by 0.002 >= min_delta = 0.0005. New best score: 8.197\n",
      "Metric val_loss improved by 0.002 >= min_delta = 0.0005. New best score: 8.195\n",
      "Metric val_loss improved by 0.002 >= min_delta = 0.0005. New best score: 8.193\n",
      "[I 2025-06-10 19:01:24,858] Trial 20 pruned. Trial was pruned at epoch 25.\n",
      "GPU available: True (cuda), used: True\n",
      "TPU available: False, using: 0 TPU cores\n",
      "HPU available: False, using: 0 HPUs\n",
      "LOCAL_RANK: 0 - CUDA_VISIBLE_DEVICES: [0]\n"
     ]
    },
    {
     "name": "stdout",
     "output_type": "stream",
     "text": [
      "Current value: 8.191703184775827, Current params: {'input_chunk_length': 120, 'hidden_size': 152, 'dropout': 0.45000000000000007, 'batch_size': 256, 'lr': 9.125486196336167e-06, 'weight_decay': 0.0004135988903526914, 'ff_size': 380, 'num_blocks': 4, 'activation': 'GELU', 'norm_type': 'LayerNorm', 'normalize_before': False}\n",
      "Best value: 76.95211937903134, Best params: {'input_chunk_length': 84, 'hidden_size': 72, 'dropout': 0.1, 'batch_size': 80, 'lr': 0.00030653645467068055, 'weight_decay': 0.0004180394093320111, 'ff_size': 241, 'num_blocks': 4, 'activation': 'GELU', 'norm_type': 'LayerNorm', 'normalize_before': False}\n",
      "\n",
      "Fold 1/3\n"
     ]
    },
    {
     "name": "stderr",
     "output_type": "stream",
     "text": [
      "[I 2025-06-10 19:01:26,842] Trial 21 pruned. Trial was pruned at epoch 0.\n",
      "GPU available: True (cuda), used: True\n",
      "TPU available: False, using: 0 TPU cores\n",
      "HPU available: False, using: 0 HPUs\n",
      "LOCAL_RANK: 0 - CUDA_VISIBLE_DEVICES: [0]\n"
     ]
    },
    {
     "name": "stdout",
     "output_type": "stream",
     "text": [
      "Current value: 9.792799099406992, Current params: {'input_chunk_length': 84, 'hidden_size': 160, 'dropout': 0.15000000000000002, 'batch_size': 152, 'lr': 6.598812244331545e-06, 'weight_decay': 1.037408171229751e-06, 'ff_size': 522, 'num_blocks': 4, 'activation': 'ReLU', 'norm_type': 'LayerNormNoBias', 'normalize_before': True}\n",
      "Best value: 76.95211937903134, Best params: {'input_chunk_length': 84, 'hidden_size': 72, 'dropout': 0.1, 'batch_size': 80, 'lr': 0.00030653645467068055, 'weight_decay': 0.0004180394093320111, 'ff_size': 241, 'num_blocks': 4, 'activation': 'GELU', 'norm_type': 'LayerNorm', 'normalize_before': False}\n",
      "\n",
      "Fold 1/3\n"
     ]
    },
    {
     "name": "stderr",
     "output_type": "stream",
     "text": [
      "[I 2025-06-10 19:01:29,202] Trial 22 pruned. Trial was pruned at epoch 0.\n"
     ]
    },
    {
     "name": "stdout",
     "output_type": "stream",
     "text": [
      "Current value: 10.533025097060838, Current params: {'input_chunk_length': 84, 'hidden_size': 208, 'dropout': 0.15000000000000002, 'batch_size': 176, 'lr': 9.696549598795808e-05, 'weight_decay': 9.615941559178205e-06, 'ff_size': 657, 'num_blocks': 4, 'activation': 'ReLU', 'norm_type': 'LayerNormNoBias', 'normalize_before': True}\n",
      "Best value: 76.95211937903134, Best params: {'input_chunk_length': 84, 'hidden_size': 72, 'dropout': 0.1, 'batch_size': 80, 'lr': 0.00030653645467068055, 'weight_decay': 0.0004180394093320111, 'ff_size': 241, 'num_blocks': 4, 'activation': 'GELU', 'norm_type': 'LayerNorm', 'normalize_before': False}\n",
      "\n",
      "Fold 1/3\n"
     ]
    },
    {
     "name": "stderr",
     "output_type": "stream",
     "text": [
      "GPU available: True (cuda), used: True\n",
      "TPU available: False, using: 0 TPU cores\n",
      "HPU available: False, using: 0 HPUs\n",
      "LOCAL_RANK: 0 - CUDA_VISIBLE_DEVICES: [0]\n",
      "[I 2025-06-10 19:02:26,498] Trial 23 pruned. Trial was pruned at epoch 0.\n",
      "GPU available: True (cuda), used: True\n",
      "TPU available: False, using: 0 TPU cores\n",
      "HPU available: False, using: 0 HPUs\n",
      "LOCAL_RANK: 0 - CUDA_VISIBLE_DEVICES: [0]\n"
     ]
    },
    {
     "name": "stdout",
     "output_type": "stream",
     "text": [
      "Current value: 10.490508597513951, Current params: {'input_chunk_length': 72, 'hidden_size': 200, 'dropout': 0.1, 'batch_size': 192, 'lr': 0.0003222866516075694, 'weight_decay': 7.640760256515256e-05, 'ff_size': 430, 'num_blocks': 4, 'activation': 'ReLU', 'norm_type': 'LayerNormNoBias', 'normalize_before': True}\n",
      "Best value: 76.95211937903134, Best params: {'input_chunk_length': 84, 'hidden_size': 72, 'dropout': 0.1, 'batch_size': 80, 'lr': 0.00030653645467068055, 'weight_decay': 0.0004180394093320111, 'ff_size': 241, 'num_blocks': 4, 'activation': 'GELU', 'norm_type': 'LayerNorm', 'normalize_before': False}\n",
      "\n",
      "Fold 1/3\n"
     ]
    },
    {
     "name": "stderr",
     "output_type": "stream",
     "text": [
      "[I 2025-06-10 19:02:27,922] Trial 24 pruned. Trial was pruned at epoch 0.\n",
      "GPU available: True (cuda), used: True\n",
      "TPU available: False, using: 0 TPU cores\n",
      "HPU available: False, using: 0 HPUs\n",
      "LOCAL_RANK: 0 - CUDA_VISIBLE_DEVICES: [0]\n"
     ]
    },
    {
     "name": "stdout",
     "output_type": "stream",
     "text": [
      "Current value: 9.620175271845097, Current params: {'input_chunk_length': 108, 'hidden_size': 104, 'dropout': 0.2, 'batch_size': 160, 'lr': 4.847006581375944e-06, 'weight_decay': 9.26695214347061e-06, 'ff_size': 217, 'num_blocks': 3, 'activation': 'ReLU', 'norm_type': 'LayerNormNoBias', 'normalize_before': True}\n",
      "Best value: 76.95211937903134, Best params: {'input_chunk_length': 84, 'hidden_size': 72, 'dropout': 0.1, 'batch_size': 80, 'lr': 0.00030653645467068055, 'weight_decay': 0.0004180394093320111, 'ff_size': 241, 'num_blocks': 4, 'activation': 'GELU', 'norm_type': 'LayerNorm', 'normalize_before': False}\n",
      "\n",
      "Fold 1/3\n"
     ]
    },
    {
     "name": "stderr",
     "output_type": "stream",
     "text": [
      "[I 2025-06-10 19:02:29,762] Trial 25 pruned. Trial was pruned at epoch 0.\n"
     ]
    },
    {
     "name": "stdout",
     "output_type": "stream",
     "text": [
      "Current value: 9.714243219450344, Current params: {'input_chunk_length': 60, 'hidden_size': 144, 'dropout': 0.25, 'batch_size': 88, 'lr': 5.0609036361559904e-05, 'weight_decay': 1.897566962160694e-05, 'ff_size': 289, 'num_blocks': 4, 'activation': 'GELU', 'norm_type': 'LayerNormNoBias', 'normalize_before': True}\n",
      "Best value: 76.95211937903134, Best params: {'input_chunk_length': 84, 'hidden_size': 72, 'dropout': 0.1, 'batch_size': 80, 'lr': 0.00030653645467068055, 'weight_decay': 0.0004180394093320111, 'ff_size': 241, 'num_blocks': 4, 'activation': 'GELU', 'norm_type': 'LayerNorm', 'normalize_before': False}\n",
      "\n",
      "Fold 1/3\n"
     ]
    },
    {
     "name": "stderr",
     "output_type": "stream",
     "text": [
      "GPU available: True (cuda), used: True\n",
      "TPU available: False, using: 0 TPU cores\n",
      "HPU available: False, using: 0 HPUs\n",
      "LOCAL_RANK: 0 - CUDA_VISIBLE_DEVICES: [0]\n",
      "[I 2025-06-10 19:03:26,810] Trial 26 pruned. Trial was pruned at epoch 0.\n",
      "GPU available: True (cuda), used: True\n",
      "TPU available: False, using: 0 TPU cores\n",
      "HPU available: False, using: 0 HPUs\n",
      "LOCAL_RANK: 0 - CUDA_VISIBLE_DEVICES: [0]\n"
     ]
    },
    {
     "name": "stdout",
     "output_type": "stream",
     "text": [
      "Current value: 10.052520006251157, Current params: {'input_chunk_length': 96, 'hidden_size': 176, 'dropout': 0.15000000000000002, 'batch_size': 112, 'lr': 1.0280761657529727e-06, 'weight_decay': 0.0022392283136566573, 'ff_size': 521, 'num_blocks': 3, 'activation': 'ReLU', 'norm_type': 'LayerNormNoBias', 'normalize_before': True}\n",
      "Best value: 76.95211937903134, Best params: {'input_chunk_length': 84, 'hidden_size': 72, 'dropout': 0.1, 'batch_size': 80, 'lr': 0.00030653645467068055, 'weight_decay': 0.0004180394093320111, 'ff_size': 241, 'num_blocks': 4, 'activation': 'GELU', 'norm_type': 'LayerNorm', 'normalize_before': False}\n",
      "\n",
      "Fold 1/3\n"
     ]
    },
    {
     "name": "stderr",
     "output_type": "stream",
     "text": [
      "Metric val_loss improved. New best score: 8.122\n",
      "Metric val_loss improved by 0.062 >= min_delta = 0.0005. New best score: 8.060\n",
      "Metric val_loss improved by 0.023 >= min_delta = 0.0005. New best score: 8.037\n",
      "Metric val_loss improved by 0.020 >= min_delta = 0.0005. New best score: 8.016\n",
      "Metric val_loss improved by 0.013 >= min_delta = 0.0005. New best score: 8.003\n",
      "Metric val_loss improved by 0.016 >= min_delta = 0.0005. New best score: 7.987\n",
      "Metric val_loss improved by 0.013 >= min_delta = 0.0005. New best score: 7.974\n",
      "Metric val_loss improved by 0.012 >= min_delta = 0.0005. New best score: 7.962\n",
      "Metric val_loss improved by 0.009 >= min_delta = 0.0005. New best score: 7.953\n",
      "Metric val_loss improved by 0.010 >= min_delta = 0.0005. New best score: 7.943\n",
      "Metric val_loss improved by 0.010 >= min_delta = 0.0005. New best score: 7.933\n",
      "Metric val_loss improved by 0.010 >= min_delta = 0.0005. New best score: 7.923\n",
      "Metric val_loss improved by 0.011 >= min_delta = 0.0005. New best score: 7.911\n",
      "Metric val_loss improved by 0.011 >= min_delta = 0.0005. New best score: 7.900\n",
      "Metric val_loss improved by 0.007 >= min_delta = 0.0005. New best score: 7.893\n",
      "Metric val_loss improved by 0.007 >= min_delta = 0.0005. New best score: 7.886\n",
      "Metric val_loss improved by 0.005 >= min_delta = 0.0005. New best score: 7.881\n",
      "Metric val_loss improved by 0.009 >= min_delta = 0.0005. New best score: 7.872\n",
      "Metric val_loss improved by 0.008 >= min_delta = 0.0005. New best score: 7.865\n",
      "Metric val_loss improved by 0.008 >= min_delta = 0.0005. New best score: 7.857\n",
      "Metric val_loss improved by 0.006 >= min_delta = 0.0005. New best score: 7.851\n",
      "Metric val_loss improved by 0.010 >= min_delta = 0.0005. New best score: 7.841\n",
      "Metric val_loss improved by 0.006 >= min_delta = 0.0005. New best score: 7.835\n",
      "Metric val_loss improved by 0.010 >= min_delta = 0.0005. New best score: 7.825\n",
      "Metric val_loss improved by 0.005 >= min_delta = 0.0005. New best score: 7.820\n",
      "Metric val_loss improved by 0.007 >= min_delta = 0.0005. New best score: 7.813\n",
      "[I 2025-06-10 19:03:55,474] Trial 27 pruned. Trial was pruned at epoch 26.\n",
      "GPU available: True (cuda), used: True\n",
      "TPU available: False, using: 0 TPU cores\n",
      "HPU available: False, using: 0 HPUs\n",
      "LOCAL_RANK: 0 - CUDA_VISIBLE_DEVICES: [0]\n"
     ]
    },
    {
     "name": "stdout",
     "output_type": "stream",
     "text": [
      "Current value: 7.805911182163283, Current params: {'input_chunk_length': 48, 'hidden_size': 56, 'dropout': 0.1, 'batch_size': 136, 'lr': 0.00017227489306255954, 'weight_decay': 3.5955344643997024e-06, 'ff_size': 130, 'num_blocks': 4, 'activation': 'GELU', 'norm_type': 'LayerNormNoBias', 'normalize_before': False}\n",
      "Best value: 76.95211937903134, Best params: {'input_chunk_length': 84, 'hidden_size': 72, 'dropout': 0.1, 'batch_size': 80, 'lr': 0.00030653645467068055, 'weight_decay': 0.0004180394093320111, 'ff_size': 241, 'num_blocks': 4, 'activation': 'GELU', 'norm_type': 'LayerNorm', 'normalize_before': False}\n",
      "\n",
      "Fold 1/3\n"
     ]
    },
    {
     "name": "stderr",
     "output_type": "stream",
     "text": [
      "[I 2025-06-10 19:03:57,066] Trial 28 pruned. Trial was pruned at epoch 0.\n",
      "GPU available: True (cuda), used: True\n",
      "TPU available: False, using: 0 TPU cores\n",
      "HPU available: False, using: 0 HPUs\n",
      "LOCAL_RANK: 0 - CUDA_VISIBLE_DEVICES: [0]\n"
     ]
    },
    {
     "name": "stdout",
     "output_type": "stream",
     "text": [
      "Current value: 13.346694425948964, Current params: {'input_chunk_length': 120, 'hidden_size': 88, 'dropout': 0.2, 'batch_size': 232, 'lr': 0.0013155735191342575, 'weight_decay': 0.00015741168863836176, 'ff_size': 177, 'num_blocks': 2, 'activation': 'ReLU', 'norm_type': 'TimeBatchNorm2d', 'normalize_before': True}\n",
      "Best value: 76.95211937903134, Best params: {'input_chunk_length': 84, 'hidden_size': 72, 'dropout': 0.1, 'batch_size': 80, 'lr': 0.00030653645467068055, 'weight_decay': 0.0004180394093320111, 'ff_size': 241, 'num_blocks': 4, 'activation': 'GELU', 'norm_type': 'LayerNorm', 'normalize_before': False}\n",
      "\n",
      "Fold 1/3\n"
     ]
    },
    {
     "name": "stderr",
     "output_type": "stream",
     "text": [
      "Metric val_loss improved. New best score: 8.148\n",
      "Metric val_loss improved by 0.072 >= min_delta = 0.0005. New best score: 8.076\n",
      "Metric val_loss improved by 0.027 >= min_delta = 0.0005. New best score: 8.049\n",
      "Metric val_loss improved by 0.030 >= min_delta = 0.0005. New best score: 8.019\n",
      "Metric val_loss improved by 0.011 >= min_delta = 0.0005. New best score: 8.008\n",
      "Metric val_loss improved by 0.017 >= min_delta = 0.0005. New best score: 7.991\n",
      "Metric val_loss improved by 0.003 >= min_delta = 0.0005. New best score: 7.988\n",
      "Metric val_loss improved by 0.008 >= min_delta = 0.0005. New best score: 7.981\n",
      "Metric val_loss improved by 0.012 >= min_delta = 0.0005. New best score: 7.969\n",
      "Metric val_loss improved by 0.019 >= min_delta = 0.0005. New best score: 7.950\n",
      "Metric val_loss improved by 0.020 >= min_delta = 0.0005. New best score: 7.931\n",
      "Metric val_loss improved by 0.018 >= min_delta = 0.0005. New best score: 7.912\n",
      "Metric val_loss improved by 0.021 >= min_delta = 0.0005. New best score: 7.891\n",
      "Metric val_loss improved by 0.012 >= min_delta = 0.0005. New best score: 7.879\n",
      "Metric val_loss improved by 0.016 >= min_delta = 0.0005. New best score: 7.864\n",
      "Metric val_loss improved by 0.012 >= min_delta = 0.0005. New best score: 7.851\n",
      "Metric val_loss improved by 0.009 >= min_delta = 0.0005. New best score: 7.842\n",
      "Metric val_loss improved by 0.008 >= min_delta = 0.0005. New best score: 7.834\n",
      "Metric val_loss improved by 0.002 >= min_delta = 0.0005. New best score: 7.832\n",
      "Metric val_loss improved by 0.006 >= min_delta = 0.0005. New best score: 7.826\n",
      "Metric val_loss improved by 0.001 >= min_delta = 0.0005. New best score: 7.825\n",
      "Metric val_loss improved by 0.001 >= min_delta = 0.0005. New best score: 7.824\n",
      "[I 2025-06-10 19:04:24,122] Trial 29 pruned. Trial was pruned at epoch 26.\n",
      "GPU available: True (cuda), used: True\n",
      "TPU available: False, using: 0 TPU cores\n",
      "HPU available: False, using: 0 HPUs\n",
      "LOCAL_RANK: 0 - CUDA_VISIBLE_DEVICES: [0]\n"
     ]
    },
    {
     "name": "stdout",
     "output_type": "stream",
     "text": [
      "Current value: 7.823738715034799, Current params: {'input_chunk_length': 108, 'hidden_size': 56, 'dropout': 0.45000000000000007, 'batch_size': 192, 'lr': 0.000548164573371003, 'weight_decay': 0.0027474242562359405, 'ff_size': 96, 'num_blocks': 4, 'activation': 'GELU', 'norm_type': 'LayerNorm', 'normalize_before': False}\n",
      "Best value: 76.95211937903134, Best params: {'input_chunk_length': 84, 'hidden_size': 72, 'dropout': 0.1, 'batch_size': 80, 'lr': 0.00030653645467068055, 'weight_decay': 0.0004180394093320111, 'ff_size': 241, 'num_blocks': 4, 'activation': 'GELU', 'norm_type': 'LayerNorm', 'normalize_before': False}\n",
      "\n",
      "Fold 1/3\n"
     ]
    },
    {
     "name": "stderr",
     "output_type": "stream",
     "text": [
      "Metric val_loss improved. New best score: 8.019\n",
      "Metric val_loss improved by 0.028 >= min_delta = 0.0005. New best score: 7.991\n",
      "Metric val_loss improved by 0.087 >= min_delta = 0.0005. New best score: 7.904\n",
      "Metric val_loss improved by 0.055 >= min_delta = 0.0005. New best score: 7.849\n",
      "Metric val_loss improved by 0.045 >= min_delta = 0.0005. New best score: 7.804\n",
      "Monitored metric val_loss did not improve in the last 15 records. Best score: 7.804. Signaling Trainer to stop.\n",
      "GPU available: True (cuda), used: True\n",
      "TPU available: False, using: 0 TPU cores\n",
      "HPU available: False, using: 0 HPUs\n",
      "LOCAL_RANK: 0 - CUDA_VISIBLE_DEVICES: [0]\n"
     ]
    },
    {
     "name": "stdout",
     "output_type": "stream",
     "text": [
      "Model loaded from checkpoint for trial 30, fold 0\n"
     ]
    },
    {
     "name": "stderr",
     "output_type": "stream",
     "text": [
      "Exception in thread QueueFeederThread:\n",
      "Traceback (most recent call last):\n",
      "  File \"/usr/lib/python3.12/multiprocessing/queues.py\", line 259, in _feed\n",
      "Exception in thread QueueFeederThread:\n",
      "Traceback (most recent call last):\n",
      "  File \"/usr/lib/python3.12/multiprocessing/queues.py\", line 259, in _feed\n",
      "    reader_close()\n",
      "  File \"/usr/lib/python3.12/multiprocessing/connection.py\", line 178, in close\n",
      "    reader_close()\n",
      "  File \"/usr/lib/python3.12/multiprocessing/connection.py\", line 178, in close\n",
      "    self._close()\n",
      "  File \"/usr/lib/python3.12/multiprocessing/connection.py\", line 377, in _close\n",
      "    _close(self._handle)\n",
      "OSError: [Errno 9] Bad file descriptor\n",
      "\n",
      "During handling of the above exception, another exception occurred:\n",
      "\n",
      "Traceback (most recent call last):\n",
      "  File \"/usr/lib/python3.12/threading.py\", line 1073, in _bootstrap_inner\n",
      "    self._close()\n",
      "  File \"/usr/lib/python3.12/multiprocessing/connection.py\", line 377, in _close\n",
      "    self.run()\n",
      "  File \"/home/eduardo/Documentos/Water-Cycle-Neural-Network/venv/lib/python3.12/site-packages/ipykernel/ipkernel.py\", line 766, in run_closure\n",
      "    _close(self._handle)\n",
      "OSError: [Errno 9] Bad file descriptor\n",
      "\n",
      "During handling of the above exception, another exception occurred:\n",
      "\n",
      "Traceback (most recent call last):\n",
      "  File \"/usr/lib/python3.12/threading.py\", line 1073, in _bootstrap_inner\n",
      "    _threading_Thread_run(self)\n",
      "  File \"/usr/lib/python3.12/threading.py\", line 1010, in run\n",
      "    self.run()\n",
      "  File \"/home/eduardo/Documentos/Water-Cycle-Neural-Network/venv/lib/python3.12/site-packages/ipykernel/ipkernel.py\", line 766, in run_closure\n",
      "    _threading_Thread_run(self)\n",
      "  File \"/usr/lib/python3.12/threading.py\", line 1010, in run\n",
      "    self._target(*self._args, **self._kwargs)\n",
      "  File \"/usr/lib/python3.12/multiprocessing/queues.py\", line 291, in _feed\n",
      "    self._target(*self._args, **self._kwargs)\n",
      "  File \"/usr/lib/python3.12/multiprocessing/queues.py\", line 291, in _feed\n",
      "    queue_sem.release()\n",
      "ValueError: semaphore or lock released too many times\n",
      "    queue_sem.release()\n",
      "ValueError: semaphore or lock released too many times\n",
      "Exception in thread Exception in thread QueueFeederThread:\n",
      "Traceback (most recent call last):\n",
      "  File \"/usr/lib/python3.12/multiprocessing/queues.py\", line 259, in _feed\n",
      "QueueFeederThread:\n",
      "Traceback (most recent call last):\n",
      "  File \"/usr/lib/python3.12/multiprocessing/queues.py\", line 259, in _feed\n",
      "    reader_close()\n",
      "  File \"/usr/lib/python3.12/multiprocessing/connection.py\", line 178, in close\n",
      "    reader_close()\n",
      "  File \"/usr/lib/python3.12/multiprocessing/connection.py\", line 178, in close\n",
      "    self._close()\n",
      "  File \"/usr/lib/python3.12/multiprocessing/connection.py\", line 377, in _close\n",
      "    self._close()\n",
      "  File \"/usr/lib/python3.12/multiprocessing/connection.py\", line 377, in _close\n",
      "    _close(self._handle)\n",
      "OSError: [Errno 9] Bad file descriptor\n",
      "\n",
      "During handling of the above exception, another exception occurred:\n",
      "\n",
      "Traceback (most recent call last):\n",
      "  File \"/usr/lib/python3.12/threading.py\", line 1073, in _bootstrap_inner\n",
      "    _close(self._handle)\n",
      "OSError: [Errno 9] Bad file descriptor\n",
      "\n",
      "During handling of the above exception, another exception occurred:\n",
      "\n",
      "Traceback (most recent call last):\n",
      "  File \"/usr/lib/python3.12/threading.py\", line 1073, in _bootstrap_inner\n",
      "    self.run()\n",
      "  File \"/home/eduardo/Documentos/Water-Cycle-Neural-Network/venv/lib/python3.12/site-packages/ipykernel/ipkernel.py\", line 766, in run_closure\n",
      "    self.run()\n",
      "  File \"/home/eduardo/Documentos/Water-Cycle-Neural-Network/venv/lib/python3.12/site-packages/ipykernel/ipkernel.py\", line 766, in run_closure\n",
      "    _threading_Thread_run(self)\n",
      "  File \"/usr/lib/python3.12/threading.py\", line 1010, in run\n",
      "    _threading_Thread_run(self)\n",
      "  File \"/usr/lib/python3.12/threading.py\", line 1010, in run\n",
      "    self._target(*self._args, **self._kwargs)\n",
      "  File \"/usr/lib/python3.12/multiprocessing/queues.py\", line 291, in _feed\n",
      "    self._target(*self._args, **self._kwargs)\n",
      "  File \"/usr/lib/python3.12/multiprocessing/queues.py\", line 291, in _feed\n",
      "    queue_sem.release()\n",
      "ValueError: semaphore or lock released too many times\n",
      "    queue_sem.release()\n",
      "ValueError: semaphore or lock released too many times\n",
      "GPU available: True (cuda), used: True\n",
      "TPU available: False, using: 0 TPU cores\n",
      "HPU available: False, using: 0 HPUs\n",
      "LOCAL_RANK: 0 - CUDA_VISIBLE_DEVICES: [0]\n"
     ]
    },
    {
     "name": "stdout",
     "output_type": "stream",
     "text": [
      "SMAPE fold 0: 101.8117698631369\n",
      "\n",
      "Fold 2/3\n"
     ]
    },
    {
     "name": "stderr",
     "output_type": "stream",
     "text": [
      "/home/eduardo/Documentos/Water-Cycle-Neural-Network/venv/lib/python3.12/site-packages/optuna/trial/_trial.py:497: UserWarning: The reported value is ignored because this `step` 0 is already reported.\n",
      "  warnings.warn(\n",
      "Metric val_loss improved by 7.692 >= min_delta = 0.0005. New best score: 0.112\n",
      "/home/eduardo/Documentos/Water-Cycle-Neural-Network/venv/lib/python3.12/site-packages/optuna/trial/_trial.py:497: UserWarning: The reported value is ignored because this `step` 1 is already reported.\n",
      "  warnings.warn(\n",
      "Metric val_loss improved by 0.032 >= min_delta = 0.0005. New best score: 0.079\n",
      "/home/eduardo/Documentos/Water-Cycle-Neural-Network/venv/lib/python3.12/site-packages/optuna/trial/_trial.py:497: UserWarning: The reported value is ignored because this `step` 2 is already reported.\n",
      "  warnings.warn(\n",
      "Metric val_loss improved by 0.025 >= min_delta = 0.0005. New best score: 0.054\n",
      "/home/eduardo/Documentos/Water-Cycle-Neural-Network/venv/lib/python3.12/site-packages/optuna/trial/_trial.py:497: UserWarning: The reported value is ignored because this `step` 3 is already reported.\n",
      "  warnings.warn(\n",
      "Metric val_loss improved by 0.001 >= min_delta = 0.0005. New best score: 0.054\n",
      "/home/eduardo/Documentos/Water-Cycle-Neural-Network/venv/lib/python3.12/site-packages/optuna/trial/_trial.py:497: UserWarning: The reported value is ignored because this `step` 4 is already reported.\n",
      "  warnings.warn(\n",
      "Metric val_loss improved by 0.007 >= min_delta = 0.0005. New best score: 0.046\n",
      "/home/eduardo/Documentos/Water-Cycle-Neural-Network/venv/lib/python3.12/site-packages/optuna/trial/_trial.py:497: UserWarning: The reported value is ignored because this `step` 5 is already reported.\n",
      "  warnings.warn(\n",
      "Metric val_loss improved by 0.007 >= min_delta = 0.0005. New best score: 0.039\n",
      "/home/eduardo/Documentos/Water-Cycle-Neural-Network/venv/lib/python3.12/site-packages/optuna/trial/_trial.py:497: UserWarning: The reported value is ignored because this `step` 6 is already reported.\n",
      "  warnings.warn(\n",
      "/home/eduardo/Documentos/Water-Cycle-Neural-Network/venv/lib/python3.12/site-packages/optuna/trial/_trial.py:497: UserWarning: The reported value is ignored because this `step` 7 is already reported.\n",
      "  warnings.warn(\n",
      "/home/eduardo/Documentos/Water-Cycle-Neural-Network/venv/lib/python3.12/site-packages/optuna/trial/_trial.py:497: UserWarning: The reported value is ignored because this `step` 8 is already reported.\n",
      "  warnings.warn(\n",
      "/home/eduardo/Documentos/Water-Cycle-Neural-Network/venv/lib/python3.12/site-packages/optuna/trial/_trial.py:497: UserWarning: The reported value is ignored because this `step` 9 is already reported.\n",
      "  warnings.warn(\n",
      "/home/eduardo/Documentos/Water-Cycle-Neural-Network/venv/lib/python3.12/site-packages/optuna/trial/_trial.py:497: UserWarning: The reported value is ignored because this `step` 10 is already reported.\n",
      "  warnings.warn(\n",
      "/home/eduardo/Documentos/Water-Cycle-Neural-Network/venv/lib/python3.12/site-packages/optuna/trial/_trial.py:497: UserWarning: The reported value is ignored because this `step` 11 is already reported.\n",
      "  warnings.warn(\n",
      "/home/eduardo/Documentos/Water-Cycle-Neural-Network/venv/lib/python3.12/site-packages/optuna/trial/_trial.py:497: UserWarning: The reported value is ignored because this `step` 12 is already reported.\n",
      "  warnings.warn(\n",
      "/home/eduardo/Documentos/Water-Cycle-Neural-Network/venv/lib/python3.12/site-packages/optuna/trial/_trial.py:497: UserWarning: The reported value is ignored because this `step` 13 is already reported.\n",
      "  warnings.warn(\n",
      "/home/eduardo/Documentos/Water-Cycle-Neural-Network/venv/lib/python3.12/site-packages/optuna/trial/_trial.py:497: UserWarning: The reported value is ignored because this `step` 14 is already reported.\n",
      "  warnings.warn(\n",
      "/home/eduardo/Documentos/Water-Cycle-Neural-Network/venv/lib/python3.12/site-packages/optuna/trial/_trial.py:497: UserWarning: The reported value is ignored because this `step` 15 is already reported.\n",
      "  warnings.warn(\n",
      "/home/eduardo/Documentos/Water-Cycle-Neural-Network/venv/lib/python3.12/site-packages/optuna/trial/_trial.py:497: UserWarning: The reported value is ignored because this `step` 16 is already reported.\n",
      "  warnings.warn(\n",
      "/home/eduardo/Documentos/Water-Cycle-Neural-Network/venv/lib/python3.12/site-packages/optuna/trial/_trial.py:497: UserWarning: The reported value is ignored because this `step` 17 is already reported.\n",
      "  warnings.warn(\n",
      "/home/eduardo/Documentos/Water-Cycle-Neural-Network/venv/lib/python3.12/site-packages/optuna/trial/_trial.py:497: UserWarning: The reported value is ignored because this `step` 18 is already reported.\n",
      "  warnings.warn(\n",
      "/home/eduardo/Documentos/Water-Cycle-Neural-Network/venv/lib/python3.12/site-packages/optuna/trial/_trial.py:497: UserWarning: The reported value is ignored because this `step` 19 is already reported.\n",
      "  warnings.warn(\n",
      "Monitored metric val_loss did not improve in the last 15 records. Best score: 0.039. Signaling Trainer to stop.\n",
      "GPU available: True (cuda), used: True\n",
      "TPU available: False, using: 0 TPU cores\n",
      "HPU available: False, using: 0 HPUs\n",
      "LOCAL_RANK: 0 - CUDA_VISIBLE_DEVICES: [0]\n"
     ]
    },
    {
     "name": "stdout",
     "output_type": "stream",
     "text": [
      "Model loaded from checkpoint for trial 30, fold 1\n"
     ]
    },
    {
     "name": "stderr",
     "output_type": "stream",
     "text": [
      "GPU available: True (cuda), used: True\n",
      "TPU available: False, using: 0 TPU cores\n",
      "HPU available: False, using: 0 HPUs\n",
      "LOCAL_RANK: 0 - CUDA_VISIBLE_DEVICES: [0]\n"
     ]
    },
    {
     "name": "stdout",
     "output_type": "stream",
     "text": [
      "SMAPE fold 1: 54.52741132103128\n",
      "\n",
      "Fold 3/3\n"
     ]
    },
    {
     "name": "stderr",
     "output_type": "stream",
     "text": [
      "/home/eduardo/Documentos/Water-Cycle-Neural-Network/venv/lib/python3.12/site-packages/optuna/trial/_trial.py:497: UserWarning: The reported value is ignored because this `step` 0 is already reported.\n",
      "  warnings.warn(\n",
      "Monitored metric val_loss did not improve in the last 16 records. Best score: 0.039. Signaling Trainer to stop.\n",
      "GPU available: True (cuda), used: True\n",
      "TPU available: False, using: 0 TPU cores\n",
      "HPU available: False, using: 0 HPUs\n",
      "LOCAL_RANK: 0 - CUDA_VISIBLE_DEVICES: [0]\n"
     ]
    },
    {
     "name": "stdout",
     "output_type": "stream",
     "text": [
      "Model loaded from checkpoint for trial 30, fold 2\n"
     ]
    },
    {
     "name": "stderr",
     "output_type": "stream",
     "text": [
      "[I 2025-06-10 19:15:07,340] Trial 30 finished with value: 77.46931409707683 and parameters: {'input_chunk_length': 84, 'hidden_size': 120, 'dropout': 0.5, 'batch_size': 144, 'lr': 0.00479736725437973, 'weight_decay': 0.009280365708445652, 'ff_size': 258, 'num_blocks': 4, 'activation': 'GELU', 'norm_type': 'LayerNorm', 'normalize_before': False}. Best is trial 3 with value: 76.95211937903134.\n",
      "GPU available: True (cuda), used: True\n",
      "TPU available: False, using: 0 TPU cores\n",
      "HPU available: False, using: 0 HPUs\n",
      "LOCAL_RANK: 0 - CUDA_VISIBLE_DEVICES: [0]\n"
     ]
    },
    {
     "name": "stdout",
     "output_type": "stream",
     "text": [
      "SMAPE fold 2: 76.0687611070623\n",
      "Média dos SMAPE nos folds: 77.46931409707683\n",
      "Results of trial 30 saved in optuna_iteration_metrics/trial_30.json\n",
      "Current value: 77.46931409707683, Current params: {'input_chunk_length': 84, 'hidden_size': 120, 'dropout': 0.5, 'batch_size': 144, 'lr': 0.00479736725437973, 'weight_decay': 0.009280365708445652, 'ff_size': 258, 'num_blocks': 4, 'activation': 'GELU', 'norm_type': 'LayerNorm', 'normalize_before': False}\n",
      "Best value: 76.95211937903134, Best params: {'input_chunk_length': 84, 'hidden_size': 72, 'dropout': 0.1, 'batch_size': 80, 'lr': 0.00030653645467068055, 'weight_decay': 0.0004180394093320111, 'ff_size': 241, 'num_blocks': 4, 'activation': 'GELU', 'norm_type': 'LayerNorm', 'normalize_before': False}\n",
      "\n",
      "Fold 1/3\n"
     ]
    },
    {
     "name": "stderr",
     "output_type": "stream",
     "text": [
      "Metric val_loss improved. New best score: 8.002\n",
      "Metric val_loss improved by 0.011 >= min_delta = 0.0005. New best score: 7.991\n",
      "Metric val_loss improved by 0.033 >= min_delta = 0.0005. New best score: 7.958\n",
      "Metric val_loss improved by 0.039 >= min_delta = 0.0005. New best score: 7.919\n",
      "Metric val_loss improved by 0.028 >= min_delta = 0.0005. New best score: 7.891\n",
      "Metric val_loss improved by 0.001 >= min_delta = 0.0005. New best score: 7.890\n",
      "Metric val_loss improved by 0.011 >= min_delta = 0.0005. New best score: 7.879\n",
      "Metric val_loss improved by 0.006 >= min_delta = 0.0005. New best score: 7.873\n",
      "Metric val_loss improved by 0.012 >= min_delta = 0.0005. New best score: 7.860\n",
      "Metric val_loss improved by 0.015 >= min_delta = 0.0005. New best score: 7.846\n",
      "Metric val_loss improved by 0.008 >= min_delta = 0.0005. New best score: 7.838\n",
      "Metric val_loss improved by 0.003 >= min_delta = 0.0005. New best score: 7.835\n",
      "[I 2025-06-10 19:15:37,274] Trial 31 pruned. Trial was pruned at epoch 26.\n",
      "GPU available: True (cuda), used: True\n",
      "TPU available: False, using: 0 TPU cores\n",
      "HPU available: False, using: 0 HPUs\n",
      "LOCAL_RANK: 0 - CUDA_VISIBLE_DEVICES: [0]\n"
     ]
    },
    {
     "name": "stdout",
     "output_type": "stream",
     "text": [
      "Current value: 7.860038620308393, Current params: {'input_chunk_length': 84, 'hidden_size': 120, 'dropout': 0.5, 'batch_size': 168, 'lr': 0.0020922327698729413, 'weight_decay': 0.009317039501502488, 'ff_size': 258, 'num_blocks': 4, 'activation': 'GELU', 'norm_type': 'LayerNorm', 'normalize_before': False}\n",
      "Best value: 76.95211937903134, Best params: {'input_chunk_length': 84, 'hidden_size': 72, 'dropout': 0.1, 'batch_size': 80, 'lr': 0.00030653645467068055, 'weight_decay': 0.0004180394093320111, 'ff_size': 241, 'num_blocks': 4, 'activation': 'GELU', 'norm_type': 'LayerNorm', 'normalize_before': False}\n",
      "\n",
      "Fold 1/3\n"
     ]
    },
    {
     "name": "stderr",
     "output_type": "stream",
     "text": [
      "Metric val_loss improved. New best score: 7.867\n",
      "Metric val_loss improved by 0.017 >= min_delta = 0.0005. New best score: 7.849\n",
      "Metric val_loss improved by 0.005 >= min_delta = 0.0005. New best score: 7.844\n",
      "Metric val_loss improved by 0.068 >= min_delta = 0.0005. New best score: 7.776\n",
      "Metric val_loss improved by 0.022 >= min_delta = 0.0005. New best score: 7.754\n",
      "Monitored metric val_loss did not improve in the last 15 records. Best score: 7.754. Signaling Trainer to stop.\n",
      "GPU available: True (cuda), used: True\n",
      "TPU available: False, using: 0 TPU cores\n",
      "HPU available: False, using: 0 HPUs\n",
      "LOCAL_RANK: 0 - CUDA_VISIBLE_DEVICES: [0]\n"
     ]
    },
    {
     "name": "stdout",
     "output_type": "stream",
     "text": [
      "Model loaded from checkpoint for trial 32, fold 0\n"
     ]
    },
    {
     "name": "stderr",
     "output_type": "stream",
     "text": [
      "GPU available: True (cuda), used: True\n",
      "TPU available: False, using: 0 TPU cores\n",
      "HPU available: False, using: 0 HPUs\n",
      "LOCAL_RANK: 0 - CUDA_VISIBLE_DEVICES: [0]\n"
     ]
    },
    {
     "name": "stdout",
     "output_type": "stream",
     "text": [
      "SMAPE fold 0: 105.28874566295224\n",
      "\n",
      "Fold 2/3\n"
     ]
    },
    {
     "name": "stderr",
     "output_type": "stream",
     "text": [
      "/home/eduardo/Documentos/Water-Cycle-Neural-Network/venv/lib/python3.12/site-packages/optuna/trial/_trial.py:497: UserWarning: The reported value is ignored because this `step` 0 is already reported.\n",
      "  warnings.warn(\n",
      "Metric val_loss improved by 7.622 >= min_delta = 0.0005. New best score: 0.132\n",
      "/home/eduardo/Documentos/Water-Cycle-Neural-Network/venv/lib/python3.12/site-packages/optuna/trial/_trial.py:497: UserWarning: The reported value is ignored because this `step` 1 is already reported.\n",
      "  warnings.warn(\n",
      "Metric val_loss improved by 0.065 >= min_delta = 0.0005. New best score: 0.067\n",
      "/home/eduardo/Documentos/Water-Cycle-Neural-Network/venv/lib/python3.12/site-packages/optuna/trial/_trial.py:497: UserWarning: The reported value is ignored because this `step` 2 is already reported.\n",
      "  warnings.warn(\n",
      "Metric val_loss improved by 0.022 >= min_delta = 0.0005. New best score: 0.045\n",
      "/home/eduardo/Documentos/Water-Cycle-Neural-Network/venv/lib/python3.12/site-packages/optuna/trial/_trial.py:497: UserWarning: The reported value is ignored because this `step` 3 is already reported.\n",
      "  warnings.warn(\n",
      "Metric val_loss improved by 0.008 >= min_delta = 0.0005. New best score: 0.038\n",
      "/home/eduardo/Documentos/Water-Cycle-Neural-Network/venv/lib/python3.12/site-packages/optuna/trial/_trial.py:497: UserWarning: The reported value is ignored because this `step` 4 is already reported.\n",
      "  warnings.warn(\n",
      "Metric val_loss improved by 0.005 >= min_delta = 0.0005. New best score: 0.033\n",
      "/home/eduardo/Documentos/Water-Cycle-Neural-Network/venv/lib/python3.12/site-packages/optuna/trial/_trial.py:497: UserWarning: The reported value is ignored because this `step` 5 is already reported.\n",
      "  warnings.warn(\n",
      "/home/eduardo/Documentos/Water-Cycle-Neural-Network/venv/lib/python3.12/site-packages/optuna/trial/_trial.py:497: UserWarning: The reported value is ignored because this `step` 6 is already reported.\n",
      "  warnings.warn(\n",
      "/home/eduardo/Documentos/Water-Cycle-Neural-Network/venv/lib/python3.12/site-packages/optuna/trial/_trial.py:497: UserWarning: The reported value is ignored because this `step` 7 is already reported.\n",
      "  warnings.warn(\n",
      "/home/eduardo/Documentos/Water-Cycle-Neural-Network/venv/lib/python3.12/site-packages/optuna/trial/_trial.py:497: UserWarning: The reported value is ignored because this `step` 8 is already reported.\n",
      "  warnings.warn(\n",
      "Metric val_loss improved by 0.002 >= min_delta = 0.0005. New best score: 0.031\n",
      "/home/eduardo/Documentos/Water-Cycle-Neural-Network/venv/lib/python3.12/site-packages/optuna/trial/_trial.py:497: UserWarning: The reported value is ignored because this `step` 9 is already reported.\n",
      "  warnings.warn(\n",
      "/home/eduardo/Documentos/Water-Cycle-Neural-Network/venv/lib/python3.12/site-packages/optuna/trial/_trial.py:497: UserWarning: The reported value is ignored because this `step` 10 is already reported.\n",
      "  warnings.warn(\n",
      "/home/eduardo/Documentos/Water-Cycle-Neural-Network/venv/lib/python3.12/site-packages/optuna/trial/_trial.py:497: UserWarning: The reported value is ignored because this `step` 11 is already reported.\n",
      "  warnings.warn(\n",
      "/home/eduardo/Documentos/Water-Cycle-Neural-Network/venv/lib/python3.12/site-packages/optuna/trial/_trial.py:497: UserWarning: The reported value is ignored because this `step` 12 is already reported.\n",
      "  warnings.warn(\n",
      "/home/eduardo/Documentos/Water-Cycle-Neural-Network/venv/lib/python3.12/site-packages/optuna/trial/_trial.py:497: UserWarning: The reported value is ignored because this `step` 13 is already reported.\n",
      "  warnings.warn(\n",
      "/home/eduardo/Documentos/Water-Cycle-Neural-Network/venv/lib/python3.12/site-packages/optuna/trial/_trial.py:497: UserWarning: The reported value is ignored because this `step` 14 is already reported.\n",
      "  warnings.warn(\n",
      "/home/eduardo/Documentos/Water-Cycle-Neural-Network/venv/lib/python3.12/site-packages/optuna/trial/_trial.py:497: UserWarning: The reported value is ignored because this `step` 15 is already reported.\n",
      "  warnings.warn(\n",
      "/home/eduardo/Documentos/Water-Cycle-Neural-Network/venv/lib/python3.12/site-packages/optuna/trial/_trial.py:497: UserWarning: The reported value is ignored because this `step` 16 is already reported.\n",
      "  warnings.warn(\n",
      "/home/eduardo/Documentos/Water-Cycle-Neural-Network/venv/lib/python3.12/site-packages/optuna/trial/_trial.py:497: UserWarning: The reported value is ignored because this `step` 17 is already reported.\n",
      "  warnings.warn(\n",
      "/home/eduardo/Documentos/Water-Cycle-Neural-Network/venv/lib/python3.12/site-packages/optuna/trial/_trial.py:497: UserWarning: The reported value is ignored because this `step` 18 is already reported.\n",
      "  warnings.warn(\n",
      "/home/eduardo/Documentos/Water-Cycle-Neural-Network/venv/lib/python3.12/site-packages/optuna/trial/_trial.py:497: UserWarning: The reported value is ignored because this `step` 19 is already reported.\n",
      "  warnings.warn(\n",
      "/home/eduardo/Documentos/Water-Cycle-Neural-Network/venv/lib/python3.12/site-packages/optuna/trial/_trial.py:497: UserWarning: The reported value is ignored because this `step` 20 is already reported.\n",
      "  warnings.warn(\n",
      "Monitored metric val_loss did not improve in the last 15 records. Best score: 0.031. Signaling Trainer to stop.\n",
      "GPU available: True (cuda), used: True\n",
      "TPU available: False, using: 0 TPU cores\n",
      "HPU available: False, using: 0 HPUs\n",
      "LOCAL_RANK: 0 - CUDA_VISIBLE_DEVICES: [0]\n"
     ]
    },
    {
     "name": "stdout",
     "output_type": "stream",
     "text": [
      "Model loaded from checkpoint for trial 32, fold 1\n"
     ]
    },
    {
     "name": "stderr",
     "output_type": "stream",
     "text": [
      "GPU available: True (cuda), used: True\n",
      "TPU available: False, using: 0 TPU cores\n",
      "HPU available: False, using: 0 HPUs\n",
      "LOCAL_RANK: 0 - CUDA_VISIBLE_DEVICES: [0]\n"
     ]
    },
    {
     "name": "stdout",
     "output_type": "stream",
     "text": [
      "SMAPE fold 1: 53.30252577211919\n",
      "\n",
      "Fold 3/3\n"
     ]
    },
    {
     "name": "stderr",
     "output_type": "stream",
     "text": [
      "/home/eduardo/Documentos/Water-Cycle-Neural-Network/venv/lib/python3.12/site-packages/optuna/trial/_trial.py:497: UserWarning: The reported value is ignored because this `step` 0 is already reported.\n",
      "  warnings.warn(\n",
      "Monitored metric val_loss did not improve in the last 16 records. Best score: 0.031. Signaling Trainer to stop.\n",
      "GPU available: True (cuda), used: True\n",
      "TPU available: False, using: 0 TPU cores\n",
      "HPU available: False, using: 0 HPUs\n",
      "LOCAL_RANK: 0 - CUDA_VISIBLE_DEVICES: [0]\n"
     ]
    },
    {
     "name": "stdout",
     "output_type": "stream",
     "text": [
      "Model loaded from checkpoint for trial 32, fold 2\n"
     ]
    },
    {
     "name": "stderr",
     "output_type": "stream",
     "text": [
      "[I 2025-06-10 19:17:34,016] Trial 32 finished with value: 76.6827195591291 and parameters: {'input_chunk_length': 60, 'hidden_size': 96, 'dropout': 0.5, 'batch_size': 152, 'lr': 0.004240357068540493, 'weight_decay': 0.0040919208756040595, 'ff_size': 218, 'num_blocks': 4, 'activation': 'GELU', 'norm_type': 'LayerNorm', 'normalize_before': False}. Best is trial 32 with value: 76.6827195591291.\n",
      "GPU available: True (cuda), used: True\n",
      "TPU available: False, using: 0 TPU cores\n",
      "HPU available: False, using: 0 HPUs\n",
      "LOCAL_RANK: 0 - CUDA_VISIBLE_DEVICES: [0]\n"
     ]
    },
    {
     "name": "stdout",
     "output_type": "stream",
     "text": [
      "SMAPE fold 2: 71.45688724231587\n",
      "Média dos SMAPE nos folds: 76.6827195591291\n",
      "Results of trial 32 saved in optuna_iteration_metrics/trial_32.json\n",
      "Current value: 76.6827195591291, Current params: {'input_chunk_length': 60, 'hidden_size': 96, 'dropout': 0.5, 'batch_size': 152, 'lr': 0.004240357068540493, 'weight_decay': 0.0040919208756040595, 'ff_size': 218, 'num_blocks': 4, 'activation': 'GELU', 'norm_type': 'LayerNorm', 'normalize_before': False}\n",
      "Best value: 76.6827195591291, Best params: {'input_chunk_length': 60, 'hidden_size': 96, 'dropout': 0.5, 'batch_size': 152, 'lr': 0.004240357068540493, 'weight_decay': 0.0040919208756040595, 'ff_size': 218, 'num_blocks': 4, 'activation': 'GELU', 'norm_type': 'LayerNorm', 'normalize_before': False}\n",
      "\n",
      "Fold 1/3\n"
     ]
    },
    {
     "name": "stderr",
     "output_type": "stream",
     "text": [
      "Metric val_loss improved. New best score: 7.857\n",
      "Metric val_loss improved by 0.052 >= min_delta = 0.0005. New best score: 7.805\n",
      "Metric val_loss improved by 0.046 >= min_delta = 0.0005. New best score: 7.759\n",
      "Metric val_loss improved by 0.049 >= min_delta = 0.0005. New best score: 7.710\n",
      "Metric val_loss improved by 0.024 >= min_delta = 0.0005. New best score: 7.686\n",
      "Metric val_loss improved by 0.003 >= min_delta = 0.0005. New best score: 7.683\n",
      "Monitored metric val_loss did not improve in the last 15 records. Best score: 7.683. Signaling Trainer to stop.\n",
      "GPU available: True (cuda), used: True\n",
      "TPU available: False, using: 0 TPU cores\n",
      "HPU available: False, using: 0 HPUs\n",
      "LOCAL_RANK: 0 - CUDA_VISIBLE_DEVICES: [0]\n"
     ]
    },
    {
     "name": "stdout",
     "output_type": "stream",
     "text": [
      "Model loaded from checkpoint for trial 33, fold 0\n"
     ]
    },
    {
     "name": "stderr",
     "output_type": "stream",
     "text": [
      "GPU available: True (cuda), used: True\n",
      "TPU available: False, using: 0 TPU cores\n",
      "HPU available: False, using: 0 HPUs\n",
      "LOCAL_RANK: 0 - CUDA_VISIBLE_DEVICES: [0]\n"
     ]
    },
    {
     "name": "stdout",
     "output_type": "stream",
     "text": [
      "SMAPE fold 0: 107.66445027763339\n",
      "\n",
      "Fold 2/3\n"
     ]
    },
    {
     "name": "stderr",
     "output_type": "stream",
     "text": [
      "/home/eduardo/Documentos/Water-Cycle-Neural-Network/venv/lib/python3.12/site-packages/optuna/trial/_trial.py:497: UserWarning: The reported value is ignored because this `step` 0 is already reported.\n",
      "  warnings.warn(\n",
      "Metric val_loss improved by 7.552 >= min_delta = 0.0005. New best score: 0.130\n",
      "/home/eduardo/Documentos/Water-Cycle-Neural-Network/venv/lib/python3.12/site-packages/optuna/trial/_trial.py:497: UserWarning: The reported value is ignored because this `step` 1 is already reported.\n",
      "  warnings.warn(\n",
      "Metric val_loss improved by 0.056 >= min_delta = 0.0005. New best score: 0.074\n",
      "/home/eduardo/Documentos/Water-Cycle-Neural-Network/venv/lib/python3.12/site-packages/optuna/trial/_trial.py:497: UserWarning: The reported value is ignored because this `step` 2 is already reported.\n",
      "  warnings.warn(\n",
      "Metric val_loss improved by 0.027 >= min_delta = 0.0005. New best score: 0.047\n",
      "/home/eduardo/Documentos/Water-Cycle-Neural-Network/venv/lib/python3.12/site-packages/optuna/trial/_trial.py:497: UserWarning: The reported value is ignored because this `step` 3 is already reported.\n",
      "  warnings.warn(\n",
      "Metric val_loss improved by 0.008 >= min_delta = 0.0005. New best score: 0.039\n",
      "/home/eduardo/Documentos/Water-Cycle-Neural-Network/venv/lib/python3.12/site-packages/optuna/trial/_trial.py:497: UserWarning: The reported value is ignored because this `step` 4 is already reported.\n",
      "  warnings.warn(\n",
      "Metric val_loss improved by 0.002 >= min_delta = 0.0005. New best score: 0.037\n",
      "/home/eduardo/Documentos/Water-Cycle-Neural-Network/venv/lib/python3.12/site-packages/optuna/trial/_trial.py:497: UserWarning: The reported value is ignored because this `step` 5 is already reported.\n",
      "  warnings.warn(\n",
      "/home/eduardo/Documentos/Water-Cycle-Neural-Network/venv/lib/python3.12/site-packages/optuna/trial/_trial.py:497: UserWarning: The reported value is ignored because this `step` 6 is already reported.\n",
      "  warnings.warn(\n",
      "/home/eduardo/Documentos/Water-Cycle-Neural-Network/venv/lib/python3.12/site-packages/optuna/trial/_trial.py:497: UserWarning: The reported value is ignored because this `step` 7 is already reported.\n",
      "  warnings.warn(\n",
      "/home/eduardo/Documentos/Water-Cycle-Neural-Network/venv/lib/python3.12/site-packages/optuna/trial/_trial.py:497: UserWarning: The reported value is ignored because this `step` 8 is already reported.\n",
      "  warnings.warn(\n",
      "/home/eduardo/Documentos/Water-Cycle-Neural-Network/venv/lib/python3.12/site-packages/optuna/trial/_trial.py:497: UserWarning: The reported value is ignored because this `step` 9 is already reported.\n",
      "  warnings.warn(\n",
      "/home/eduardo/Documentos/Water-Cycle-Neural-Network/venv/lib/python3.12/site-packages/optuna/trial/_trial.py:497: UserWarning: The reported value is ignored because this `step` 10 is already reported.\n",
      "  warnings.warn(\n",
      "/home/eduardo/Documentos/Water-Cycle-Neural-Network/venv/lib/python3.12/site-packages/optuna/trial/_trial.py:497: UserWarning: The reported value is ignored because this `step` 11 is already reported.\n",
      "  warnings.warn(\n",
      "/home/eduardo/Documentos/Water-Cycle-Neural-Network/venv/lib/python3.12/site-packages/optuna/trial/_trial.py:497: UserWarning: The reported value is ignored because this `step` 12 is already reported.\n",
      "  warnings.warn(\n",
      "/home/eduardo/Documentos/Water-Cycle-Neural-Network/venv/lib/python3.12/site-packages/optuna/trial/_trial.py:497: UserWarning: The reported value is ignored because this `step` 13 is already reported.\n",
      "  warnings.warn(\n",
      "/home/eduardo/Documentos/Water-Cycle-Neural-Network/venv/lib/python3.12/site-packages/optuna/trial/_trial.py:497: UserWarning: The reported value is ignored because this `step` 14 is already reported.\n",
      "  warnings.warn(\n",
      "/home/eduardo/Documentos/Water-Cycle-Neural-Network/venv/lib/python3.12/site-packages/optuna/trial/_trial.py:497: UserWarning: The reported value is ignored because this `step` 15 is already reported.\n",
      "  warnings.warn(\n",
      "/home/eduardo/Documentos/Water-Cycle-Neural-Network/venv/lib/python3.12/site-packages/optuna/trial/_trial.py:497: UserWarning: The reported value is ignored because this `step` 16 is already reported.\n",
      "  warnings.warn(\n",
      "/home/eduardo/Documentos/Water-Cycle-Neural-Network/venv/lib/python3.12/site-packages/optuna/trial/_trial.py:497: UserWarning: The reported value is ignored because this `step` 17 is already reported.\n",
      "  warnings.warn(\n",
      "/home/eduardo/Documentos/Water-Cycle-Neural-Network/venv/lib/python3.12/site-packages/optuna/trial/_trial.py:497: UserWarning: The reported value is ignored because this `step` 18 is already reported.\n",
      "  warnings.warn(\n",
      "/home/eduardo/Documentos/Water-Cycle-Neural-Network/venv/lib/python3.12/site-packages/optuna/trial/_trial.py:497: UserWarning: The reported value is ignored because this `step` 19 is already reported.\n",
      "  warnings.warn(\n",
      "Monitored metric val_loss did not improve in the last 15 records. Best score: 0.037. Signaling Trainer to stop.\n",
      "GPU available: True (cuda), used: True\n",
      "TPU available: False, using: 0 TPU cores\n",
      "HPU available: False, using: 0 HPUs\n",
      "LOCAL_RANK: 0 - CUDA_VISIBLE_DEVICES: [0]\n"
     ]
    },
    {
     "name": "stdout",
     "output_type": "stream",
     "text": [
      "Model loaded from checkpoint for trial 33, fold 1\n"
     ]
    },
    {
     "name": "stderr",
     "output_type": "stream",
     "text": [
      "GPU available: True (cuda), used: True\n",
      "TPU available: False, using: 0 TPU cores\n",
      "HPU available: False, using: 0 HPUs\n",
      "LOCAL_RANK: 0 - CUDA_VISIBLE_DEVICES: [0]\n"
     ]
    },
    {
     "name": "stdout",
     "output_type": "stream",
     "text": [
      "SMAPE fold 1: 53.5796788616735\n",
      "\n",
      "Fold 3/3\n"
     ]
    },
    {
     "name": "stderr",
     "output_type": "stream",
     "text": [
      "/home/eduardo/Documentos/Water-Cycle-Neural-Network/venv/lib/python3.12/site-packages/optuna/trial/_trial.py:497: UserWarning: The reported value is ignored because this `step` 0 is already reported.\n",
      "  warnings.warn(\n",
      "Monitored metric val_loss did not improve in the last 16 records. Best score: 0.037. Signaling Trainer to stop.\n",
      "GPU available: True (cuda), used: True\n",
      "TPU available: False, using: 0 TPU cores\n",
      "HPU available: False, using: 0 HPUs\n",
      "LOCAL_RANK: 0 - CUDA_VISIBLE_DEVICES: [0]\n"
     ]
    },
    {
     "name": "stdout",
     "output_type": "stream",
     "text": [
      "Model loaded from checkpoint for trial 33, fold 2\n"
     ]
    },
    {
     "name": "stderr",
     "output_type": "stream",
     "text": [
      "[I 2025-06-10 19:18:34,699] Trial 33 finished with value: 76.25873721757107 and parameters: {'input_chunk_length': 60, 'hidden_size': 104, 'dropout': 0.5, 'batch_size': 136, 'lr': 0.004576991897392767, 'weight_decay': 0.004659755135731725, 'ff_size': 282, 'num_blocks': 4, 'activation': 'GELU', 'norm_type': 'LayerNorm', 'normalize_before': False}. Best is trial 33 with value: 76.25873721757107.\n",
      "GPU available: True (cuda), used: True\n",
      "TPU available: False, using: 0 TPU cores\n",
      "HPU available: False, using: 0 HPUs\n",
      "LOCAL_RANK: 0 - CUDA_VISIBLE_DEVICES: [0]\n"
     ]
    },
    {
     "name": "stdout",
     "output_type": "stream",
     "text": [
      "SMAPE fold 2: 67.53208251340632\n",
      "Média dos SMAPE nos folds: 76.25873721757107\n",
      "Results of trial 33 saved in optuna_iteration_metrics/trial_33.json\n",
      "Current value: 76.25873721757107, Current params: {'input_chunk_length': 60, 'hidden_size': 104, 'dropout': 0.5, 'batch_size': 136, 'lr': 0.004576991897392767, 'weight_decay': 0.004659755135731725, 'ff_size': 282, 'num_blocks': 4, 'activation': 'GELU', 'norm_type': 'LayerNorm', 'normalize_before': False}\n",
      "Best value: 76.25873721757107, Best params: {'input_chunk_length': 60, 'hidden_size': 104, 'dropout': 0.5, 'batch_size': 136, 'lr': 0.004576991897392767, 'weight_decay': 0.004659755135731725, 'ff_size': 282, 'num_blocks': 4, 'activation': 'GELU', 'norm_type': 'LayerNorm', 'normalize_before': False}\n",
      "\n",
      "Fold 1/3\n"
     ]
    },
    {
     "name": "stderr",
     "output_type": "stream",
     "text": [
      "Metric val_loss improved. New best score: 7.833\n",
      "Metric val_loss improved by 0.004 >= min_delta = 0.0005. New best score: 7.830\n",
      "Metric val_loss improved by 0.020 >= min_delta = 0.0005. New best score: 7.809\n",
      "Metric val_loss improved by 0.050 >= min_delta = 0.0005. New best score: 7.760\n",
      "Metric val_loss improved by 0.009 >= min_delta = 0.0005. New best score: 7.751\n",
      "Metric val_loss improved by 0.004 >= min_delta = 0.0005. New best score: 7.747\n",
      "Monitored metric val_loss did not improve in the last 15 records. Best score: 7.747. Signaling Trainer to stop.\n",
      "GPU available: True (cuda), used: True\n",
      "TPU available: False, using: 0 TPU cores\n",
      "HPU available: False, using: 0 HPUs\n",
      "LOCAL_RANK: 0 - CUDA_VISIBLE_DEVICES: [0]\n"
     ]
    },
    {
     "name": "stdout",
     "output_type": "stream",
     "text": [
      "Model loaded from checkpoint for trial 34, fold 0\n"
     ]
    },
    {
     "name": "stderr",
     "output_type": "stream",
     "text": [
      "GPU available: True (cuda), used: True\n",
      "TPU available: False, using: 0 TPU cores\n",
      "HPU available: False, using: 0 HPUs\n",
      "LOCAL_RANK: 0 - CUDA_VISIBLE_DEVICES: [0]\n"
     ]
    },
    {
     "name": "stdout",
     "output_type": "stream",
     "text": [
      "SMAPE fold 0: 104.58017964802137\n",
      "\n",
      "Fold 2/3\n"
     ]
    },
    {
     "name": "stderr",
     "output_type": "stream",
     "text": [
      "/home/eduardo/Documentos/Water-Cycle-Neural-Network/venv/lib/python3.12/site-packages/optuna/trial/_trial.py:497: UserWarning: The reported value is ignored because this `step` 0 is already reported.\n",
      "  warnings.warn(\n",
      "Metric val_loss improved by 7.623 >= min_delta = 0.0005. New best score: 0.124\n",
      "/home/eduardo/Documentos/Water-Cycle-Neural-Network/venv/lib/python3.12/site-packages/optuna/trial/_trial.py:497: UserWarning: The reported value is ignored because this `step` 1 is already reported.\n",
      "  warnings.warn(\n",
      "Metric val_loss improved by 0.014 >= min_delta = 0.0005. New best score: 0.109\n",
      "/home/eduardo/Documentos/Water-Cycle-Neural-Network/venv/lib/python3.12/site-packages/optuna/trial/_trial.py:497: UserWarning: The reported value is ignored because this `step` 2 is already reported.\n",
      "  warnings.warn(\n",
      "Metric val_loss improved by 0.035 >= min_delta = 0.0005. New best score: 0.075\n",
      "/home/eduardo/Documentos/Water-Cycle-Neural-Network/venv/lib/python3.12/site-packages/optuna/trial/_trial.py:497: UserWarning: The reported value is ignored because this `step` 3 is already reported.\n",
      "  warnings.warn(\n",
      "Metric val_loss improved by 0.034 >= min_delta = 0.0005. New best score: 0.041\n",
      "/home/eduardo/Documentos/Water-Cycle-Neural-Network/venv/lib/python3.12/site-packages/optuna/trial/_trial.py:497: UserWarning: The reported value is ignored because this `step` 4 is already reported.\n",
      "  warnings.warn(\n",
      "Metric val_loss improved by 0.004 >= min_delta = 0.0005. New best score: 0.037\n",
      "/home/eduardo/Documentos/Water-Cycle-Neural-Network/venv/lib/python3.12/site-packages/optuna/trial/_trial.py:497: UserWarning: The reported value is ignored because this `step` 5 is already reported.\n",
      "  warnings.warn(\n",
      "/home/eduardo/Documentos/Water-Cycle-Neural-Network/venv/lib/python3.12/site-packages/optuna/trial/_trial.py:497: UserWarning: The reported value is ignored because this `step` 6 is already reported.\n",
      "  warnings.warn(\n",
      "/home/eduardo/Documentos/Water-Cycle-Neural-Network/venv/lib/python3.12/site-packages/optuna/trial/_trial.py:497: UserWarning: The reported value is ignored because this `step` 7 is already reported.\n",
      "  warnings.warn(\n",
      "/home/eduardo/Documentos/Water-Cycle-Neural-Network/venv/lib/python3.12/site-packages/optuna/trial/_trial.py:497: UserWarning: The reported value is ignored because this `step` 8 is already reported.\n",
      "  warnings.warn(\n",
      "/home/eduardo/Documentos/Water-Cycle-Neural-Network/venv/lib/python3.12/site-packages/optuna/trial/_trial.py:497: UserWarning: The reported value is ignored because this `step` 9 is already reported.\n",
      "  warnings.warn(\n",
      "/home/eduardo/Documentos/Water-Cycle-Neural-Network/venv/lib/python3.12/site-packages/optuna/trial/_trial.py:497: UserWarning: The reported value is ignored because this `step` 10 is already reported.\n",
      "  warnings.warn(\n",
      "/home/eduardo/Documentos/Water-Cycle-Neural-Network/venv/lib/python3.12/site-packages/optuna/trial/_trial.py:497: UserWarning: The reported value is ignored because this `step` 11 is already reported.\n",
      "  warnings.warn(\n",
      "/home/eduardo/Documentos/Water-Cycle-Neural-Network/venv/lib/python3.12/site-packages/optuna/trial/_trial.py:497: UserWarning: The reported value is ignored because this `step` 12 is already reported.\n",
      "  warnings.warn(\n",
      "/home/eduardo/Documentos/Water-Cycle-Neural-Network/venv/lib/python3.12/site-packages/optuna/trial/_trial.py:497: UserWarning: The reported value is ignored because this `step` 13 is already reported.\n",
      "  warnings.warn(\n",
      "/home/eduardo/Documentos/Water-Cycle-Neural-Network/venv/lib/python3.12/site-packages/optuna/trial/_trial.py:497: UserWarning: The reported value is ignored because this `step` 14 is already reported.\n",
      "  warnings.warn(\n",
      "/home/eduardo/Documentos/Water-Cycle-Neural-Network/venv/lib/python3.12/site-packages/optuna/trial/_trial.py:497: UserWarning: The reported value is ignored because this `step` 15 is already reported.\n",
      "  warnings.warn(\n",
      "/home/eduardo/Documentos/Water-Cycle-Neural-Network/venv/lib/python3.12/site-packages/optuna/trial/_trial.py:497: UserWarning: The reported value is ignored because this `step` 16 is already reported.\n",
      "  warnings.warn(\n",
      "/home/eduardo/Documentos/Water-Cycle-Neural-Network/venv/lib/python3.12/site-packages/optuna/trial/_trial.py:497: UserWarning: The reported value is ignored because this `step` 17 is already reported.\n",
      "  warnings.warn(\n",
      "/home/eduardo/Documentos/Water-Cycle-Neural-Network/venv/lib/python3.12/site-packages/optuna/trial/_trial.py:497: UserWarning: The reported value is ignored because this `step` 18 is already reported.\n",
      "  warnings.warn(\n",
      "/home/eduardo/Documentos/Water-Cycle-Neural-Network/venv/lib/python3.12/site-packages/optuna/trial/_trial.py:497: UserWarning: The reported value is ignored because this `step` 19 is already reported.\n",
      "  warnings.warn(\n",
      "Monitored metric val_loss did not improve in the last 15 records. Best score: 0.037. Signaling Trainer to stop.\n",
      "GPU available: True (cuda), used: True\n",
      "TPU available: False, using: 0 TPU cores\n",
      "HPU available: False, using: 0 HPUs\n",
      "LOCAL_RANK: 0 - CUDA_VISIBLE_DEVICES: [0]\n"
     ]
    },
    {
     "name": "stdout",
     "output_type": "stream",
     "text": [
      "Model loaded from checkpoint for trial 34, fold 1\n"
     ]
    },
    {
     "name": "stderr",
     "output_type": "stream",
     "text": [
      "GPU available: True (cuda), used: True\n",
      "TPU available: False, using: 0 TPU cores\n",
      "HPU available: False, using: 0 HPUs\n",
      "LOCAL_RANK: 0 - CUDA_VISIBLE_DEVICES: [0]\n"
     ]
    },
    {
     "name": "stdout",
     "output_type": "stream",
     "text": [
      "SMAPE fold 1: 55.00498533840508\n",
      "\n",
      "Fold 3/3\n"
     ]
    },
    {
     "name": "stderr",
     "output_type": "stream",
     "text": [
      "/home/eduardo/Documentos/Water-Cycle-Neural-Network/venv/lib/python3.12/site-packages/optuna/trial/_trial.py:497: UserWarning: The reported value is ignored because this `step` 0 is already reported.\n",
      "  warnings.warn(\n",
      "Monitored metric val_loss did not improve in the last 16 records. Best score: 0.037. Signaling Trainer to stop.\n",
      "GPU available: True (cuda), used: True\n",
      "TPU available: False, using: 0 TPU cores\n",
      "HPU available: False, using: 0 HPUs\n",
      "LOCAL_RANK: 0 - CUDA_VISIBLE_DEVICES: [0]\n"
     ]
    },
    {
     "name": "stdout",
     "output_type": "stream",
     "text": [
      "Model loaded from checkpoint for trial 34, fold 2\n"
     ]
    },
    {
     "name": "stderr",
     "output_type": "stream",
     "text": [
      "[I 2025-06-10 19:19:32,734] Trial 34 finished with value: 77.824605482806 and parameters: {'input_chunk_length': 60, 'hidden_size': 96, 'dropout': 0.5, 'batch_size': 136, 'lr': 0.004934783100454674, 'weight_decay': 0.004005633096206801, 'ff_size': 274, 'num_blocks': 4, 'activation': 'GELU', 'norm_type': 'LayerNorm', 'normalize_before': False}. Best is trial 33 with value: 76.25873721757107.\n",
      "GPU available: True (cuda), used: True\n",
      "TPU available: False, using: 0 TPU cores\n",
      "HPU available: False, using: 0 HPUs\n",
      "LOCAL_RANK: 0 - CUDA_VISIBLE_DEVICES: [0]\n"
     ]
    },
    {
     "name": "stdout",
     "output_type": "stream",
     "text": [
      "SMAPE fold 2: 73.88865146199159\n",
      "Média dos SMAPE nos folds: 77.824605482806\n",
      "Results of trial 34 saved in optuna_iteration_metrics/trial_34.json\n",
      "Current value: 77.824605482806, Current params: {'input_chunk_length': 60, 'hidden_size': 96, 'dropout': 0.5, 'batch_size': 136, 'lr': 0.004934783100454674, 'weight_decay': 0.004005633096206801, 'ff_size': 274, 'num_blocks': 4, 'activation': 'GELU', 'norm_type': 'LayerNorm', 'normalize_before': False}\n",
      "Best value: 76.25873721757107, Best params: {'input_chunk_length': 60, 'hidden_size': 104, 'dropout': 0.5, 'batch_size': 136, 'lr': 0.004576991897392767, 'weight_decay': 0.004659755135731725, 'ff_size': 282, 'num_blocks': 4, 'activation': 'GELU', 'norm_type': 'LayerNorm', 'normalize_before': False}\n",
      "\n",
      "Fold 1/3\n"
     ]
    },
    {
     "name": "stderr",
     "output_type": "stream",
     "text": [
      "Metric val_loss improved. New best score: 7.903\n",
      "Metric val_loss improved by 0.031 >= min_delta = 0.0005. New best score: 7.872\n",
      "Metric val_loss improved by 0.018 >= min_delta = 0.0005. New best score: 7.854\n",
      "Metric val_loss improved by 0.083 >= min_delta = 0.0005. New best score: 7.771\n",
      "Metric val_loss improved by 0.075 >= min_delta = 0.0005. New best score: 7.696\n",
      "Monitored metric val_loss did not improve in the last 15 records. Best score: 7.696. Signaling Trainer to stop.\n",
      "GPU available: True (cuda), used: True\n",
      "TPU available: False, using: 0 TPU cores\n",
      "HPU available: False, using: 0 HPUs\n",
      "LOCAL_RANK: 0 - CUDA_VISIBLE_DEVICES: [0]\n"
     ]
    },
    {
     "name": "stdout",
     "output_type": "stream",
     "text": [
      "Model loaded from checkpoint for trial 35, fold 0\n"
     ]
    },
    {
     "name": "stderr",
     "output_type": "stream",
     "text": [
      "GPU available: True (cuda), used: True\n",
      "TPU available: False, using: 0 TPU cores\n",
      "HPU available: False, using: 0 HPUs\n",
      "LOCAL_RANK: 0 - CUDA_VISIBLE_DEVICES: [0]\n"
     ]
    },
    {
     "name": "stdout",
     "output_type": "stream",
     "text": [
      "SMAPE fold 0: 104.06677586777181\n",
      "\n",
      "Fold 2/3\n"
     ]
    },
    {
     "name": "stderr",
     "output_type": "stream",
     "text": [
      "/home/eduardo/Documentos/Water-Cycle-Neural-Network/venv/lib/python3.12/site-packages/optuna/trial/_trial.py:497: UserWarning: The reported value is ignored because this `step` 0 is already reported.\n",
      "  warnings.warn(\n",
      "Metric val_loss improved by 7.557 >= min_delta = 0.0005. New best score: 0.140\n",
      "/home/eduardo/Documentos/Water-Cycle-Neural-Network/venv/lib/python3.12/site-packages/optuna/trial/_trial.py:497: UserWarning: The reported value is ignored because this `step` 1 is already reported.\n",
      "  warnings.warn(\n",
      "Metric val_loss improved by 0.064 >= min_delta = 0.0005. New best score: 0.076\n",
      "/home/eduardo/Documentos/Water-Cycle-Neural-Network/venv/lib/python3.12/site-packages/optuna/trial/_trial.py:497: UserWarning: The reported value is ignored because this `step` 2 is already reported.\n",
      "  warnings.warn(\n",
      "Metric val_loss improved by 0.015 >= min_delta = 0.0005. New best score: 0.061\n",
      "/home/eduardo/Documentos/Water-Cycle-Neural-Network/venv/lib/python3.12/site-packages/optuna/trial/_trial.py:497: UserWarning: The reported value is ignored because this `step` 3 is already reported.\n",
      "  warnings.warn(\n",
      "Metric val_loss improved by 0.015 >= min_delta = 0.0005. New best score: 0.047\n",
      "/home/eduardo/Documentos/Water-Cycle-Neural-Network/venv/lib/python3.12/site-packages/optuna/trial/_trial.py:497: UserWarning: The reported value is ignored because this `step` 4 is already reported.\n",
      "  warnings.warn(\n",
      "Metric val_loss improved by 0.007 >= min_delta = 0.0005. New best score: 0.040\n",
      "/home/eduardo/Documentos/Water-Cycle-Neural-Network/venv/lib/python3.12/site-packages/optuna/trial/_trial.py:497: UserWarning: The reported value is ignored because this `step` 5 is already reported.\n",
      "  warnings.warn(\n",
      "/home/eduardo/Documentos/Water-Cycle-Neural-Network/venv/lib/python3.12/site-packages/optuna/trial/_trial.py:497: UserWarning: The reported value is ignored because this `step` 6 is already reported.\n",
      "  warnings.warn(\n",
      "/home/eduardo/Documentos/Water-Cycle-Neural-Network/venv/lib/python3.12/site-packages/optuna/trial/_trial.py:497: UserWarning: The reported value is ignored because this `step` 7 is already reported.\n",
      "  warnings.warn(\n",
      "Metric val_loss improved by 0.003 >= min_delta = 0.0005. New best score: 0.036\n",
      "/home/eduardo/Documentos/Water-Cycle-Neural-Network/venv/lib/python3.12/site-packages/optuna/trial/_trial.py:497: UserWarning: The reported value is ignored because this `step` 8 is already reported.\n",
      "  warnings.warn(\n",
      "/home/eduardo/Documentos/Water-Cycle-Neural-Network/venv/lib/python3.12/site-packages/optuna/trial/_trial.py:497: UserWarning: The reported value is ignored because this `step` 9 is already reported.\n",
      "  warnings.warn(\n",
      "/home/eduardo/Documentos/Water-Cycle-Neural-Network/venv/lib/python3.12/site-packages/optuna/trial/_trial.py:497: UserWarning: The reported value is ignored because this `step` 10 is already reported.\n",
      "  warnings.warn(\n",
      "/home/eduardo/Documentos/Water-Cycle-Neural-Network/venv/lib/python3.12/site-packages/optuna/trial/_trial.py:497: UserWarning: The reported value is ignored because this `step` 11 is already reported.\n",
      "  warnings.warn(\n",
      "/home/eduardo/Documentos/Water-Cycle-Neural-Network/venv/lib/python3.12/site-packages/optuna/trial/_trial.py:497: UserWarning: The reported value is ignored because this `step` 12 is already reported.\n",
      "  warnings.warn(\n",
      "/home/eduardo/Documentos/Water-Cycle-Neural-Network/venv/lib/python3.12/site-packages/optuna/trial/_trial.py:497: UserWarning: The reported value is ignored because this `step` 13 is already reported.\n",
      "  warnings.warn(\n",
      "/home/eduardo/Documentos/Water-Cycle-Neural-Network/venv/lib/python3.12/site-packages/optuna/trial/_trial.py:497: UserWarning: The reported value is ignored because this `step` 14 is already reported.\n",
      "  warnings.warn(\n",
      "/home/eduardo/Documentos/Water-Cycle-Neural-Network/venv/lib/python3.12/site-packages/optuna/trial/_trial.py:497: UserWarning: The reported value is ignored because this `step` 15 is already reported.\n",
      "  warnings.warn(\n",
      "/home/eduardo/Documentos/Water-Cycle-Neural-Network/venv/lib/python3.12/site-packages/optuna/trial/_trial.py:497: UserWarning: The reported value is ignored because this `step` 16 is already reported.\n",
      "  warnings.warn(\n",
      "/home/eduardo/Documentos/Water-Cycle-Neural-Network/venv/lib/python3.12/site-packages/optuna/trial/_trial.py:497: UserWarning: The reported value is ignored because this `step` 17 is already reported.\n",
      "  warnings.warn(\n",
      "/home/eduardo/Documentos/Water-Cycle-Neural-Network/venv/lib/python3.12/site-packages/optuna/trial/_trial.py:497: UserWarning: The reported value is ignored because this `step` 18 is already reported.\n",
      "  warnings.warn(\n",
      "/home/eduardo/Documentos/Water-Cycle-Neural-Network/venv/lib/python3.12/site-packages/optuna/trial/_trial.py:497: UserWarning: The reported value is ignored because this `step` 19 is already reported.\n",
      "  warnings.warn(\n",
      "Monitored metric val_loss did not improve in the last 15 records. Best score: 0.036. Signaling Trainer to stop.\n",
      "GPU available: True (cuda), used: True\n",
      "TPU available: False, using: 0 TPU cores\n",
      "HPU available: False, using: 0 HPUs\n",
      "LOCAL_RANK: 0 - CUDA_VISIBLE_DEVICES: [0]\n"
     ]
    },
    {
     "name": "stdout",
     "output_type": "stream",
     "text": [
      "Model loaded from checkpoint for trial 35, fold 1\n"
     ]
    },
    {
     "name": "stderr",
     "output_type": "stream",
     "text": [
      "GPU available: True (cuda), used: True\n",
      "TPU available: False, using: 0 TPU cores\n",
      "HPU available: False, using: 0 HPUs\n",
      "LOCAL_RANK: 0 - CUDA_VISIBLE_DEVICES: [0]\n"
     ]
    },
    {
     "name": "stdout",
     "output_type": "stream",
     "text": [
      "SMAPE fold 1: 57.7549612235382\n",
      "\n",
      "Fold 3/3\n"
     ]
    },
    {
     "name": "stderr",
     "output_type": "stream",
     "text": [
      "/home/eduardo/Documentos/Water-Cycle-Neural-Network/venv/lib/python3.12/site-packages/optuna/trial/_trial.py:497: UserWarning: The reported value is ignored because this `step` 0 is already reported.\n",
      "  warnings.warn(\n",
      "Monitored metric val_loss did not improve in the last 16 records. Best score: 0.036. Signaling Trainer to stop.\n",
      "GPU available: True (cuda), used: True\n",
      "TPU available: False, using: 0 TPU cores\n",
      "HPU available: False, using: 0 HPUs\n",
      "LOCAL_RANK: 0 - CUDA_VISIBLE_DEVICES: [0]\n"
     ]
    },
    {
     "name": "stdout",
     "output_type": "stream",
     "text": [
      "Model loaded from checkpoint for trial 35, fold 2\n"
     ]
    },
    {
     "name": "stderr",
     "output_type": "stream",
     "text": [
      "[I 2025-06-10 19:20:38,656] Trial 35 finished with value: 77.32611896361625 and parameters: {'input_chunk_length': 60, 'hidden_size': 112, 'dropout': 0.5, 'batch_size': 152, 'lr': 0.004896906859424822, 'weight_decay': 0.00529727464456568, 'ff_size': 323, 'num_blocks': 4, 'activation': 'GELU', 'norm_type': 'LayerNorm', 'normalize_before': False}. Best is trial 33 with value: 76.25873721757107.\n",
      "GPU available: True (cuda), used: True\n",
      "TPU available: False, using: 0 TPU cores\n",
      "HPU available: False, using: 0 HPUs\n",
      "LOCAL_RANK: 0 - CUDA_VISIBLE_DEVICES: [0]\n"
     ]
    },
    {
     "name": "stdout",
     "output_type": "stream",
     "text": [
      "SMAPE fold 2: 70.15661979953876\n",
      "Média dos SMAPE nos folds: 77.32611896361625\n",
      "Results of trial 35 saved in optuna_iteration_metrics/trial_35.json\n",
      "Current value: 77.32611896361625, Current params: {'input_chunk_length': 60, 'hidden_size': 112, 'dropout': 0.5, 'batch_size': 152, 'lr': 0.004896906859424822, 'weight_decay': 0.00529727464456568, 'ff_size': 323, 'num_blocks': 4, 'activation': 'GELU', 'norm_type': 'LayerNorm', 'normalize_before': False}\n",
      "Best value: 76.25873721757107, Best params: {'input_chunk_length': 60, 'hidden_size': 104, 'dropout': 0.5, 'batch_size': 136, 'lr': 0.004576991897392767, 'weight_decay': 0.004659755135731725, 'ff_size': 282, 'num_blocks': 4, 'activation': 'GELU', 'norm_type': 'LayerNorm', 'normalize_before': False}\n",
      "\n",
      "Fold 1/3\n"
     ]
    },
    {
     "name": "stderr",
     "output_type": "stream",
     "text": [
      "Metric val_loss improved. New best score: 7.784\n",
      "Metric val_loss improved by 0.052 >= min_delta = 0.0005. New best score: 7.732\n",
      "Metric val_loss improved by 0.056 >= min_delta = 0.0005. New best score: 7.676\n",
      "Metric val_loss improved by 0.004 >= min_delta = 0.0005. New best score: 7.672\n",
      "Metric val_loss improved by 0.010 >= min_delta = 0.0005. New best score: 7.662\n",
      "Metric val_loss improved by 0.012 >= min_delta = 0.0005. New best score: 7.649\n",
      "Metric val_loss improved by 0.008 >= min_delta = 0.0005. New best score: 7.641\n",
      "Monitored metric val_loss did not improve in the last 15 records. Best score: 7.641. Signaling Trainer to stop.\n",
      "GPU available: True (cuda), used: True\n",
      "TPU available: False, using: 0 TPU cores\n",
      "HPU available: False, using: 0 HPUs\n",
      "LOCAL_RANK: 0 - CUDA_VISIBLE_DEVICES: [0]\n"
     ]
    },
    {
     "name": "stdout",
     "output_type": "stream",
     "text": [
      "Model loaded from checkpoint for trial 36, fold 0\n"
     ]
    },
    {
     "name": "stderr",
     "output_type": "stream",
     "text": [
      "GPU available: True (cuda), used: True\n",
      "TPU available: False, using: 0 TPU cores\n",
      "HPU available: False, using: 0 HPUs\n",
      "LOCAL_RANK: 0 - CUDA_VISIBLE_DEVICES: [0]\n"
     ]
    },
    {
     "name": "stdout",
     "output_type": "stream",
     "text": [
      "SMAPE fold 0: 121.30336381644199\n",
      "\n",
      "Fold 2/3\n"
     ]
    },
    {
     "name": "stderr",
     "output_type": "stream",
     "text": [
      "/home/eduardo/Documentos/Water-Cycle-Neural-Network/venv/lib/python3.12/site-packages/optuna/trial/_trial.py:497: UserWarning: The reported value is ignored because this `step` 0 is already reported.\n",
      "  warnings.warn(\n",
      "Metric val_loss improved by 7.546 >= min_delta = 0.0005. New best score: 0.096\n",
      "/home/eduardo/Documentos/Water-Cycle-Neural-Network/venv/lib/python3.12/site-packages/optuna/trial/_trial.py:497: UserWarning: The reported value is ignored because this `step` 1 is already reported.\n",
      "  warnings.warn(\n",
      "/home/eduardo/Documentos/Water-Cycle-Neural-Network/venv/lib/python3.12/site-packages/optuna/trial/_trial.py:497: UserWarning: The reported value is ignored because this `step` 2 is already reported.\n",
      "  warnings.warn(\n",
      "Metric val_loss improved by 0.043 >= min_delta = 0.0005. New best score: 0.052\n",
      "/home/eduardo/Documentos/Water-Cycle-Neural-Network/venv/lib/python3.12/site-packages/optuna/trial/_trial.py:497: UserWarning: The reported value is ignored because this `step` 3 is already reported.\n",
      "  warnings.warn(\n",
      "Metric val_loss improved by 0.003 >= min_delta = 0.0005. New best score: 0.050\n",
      "/home/eduardo/Documentos/Water-Cycle-Neural-Network/venv/lib/python3.12/site-packages/optuna/trial/_trial.py:497: UserWarning: The reported value is ignored because this `step` 4 is already reported.\n",
      "  warnings.warn(\n",
      "Metric val_loss improved by 0.003 >= min_delta = 0.0005. New best score: 0.046\n",
      "/home/eduardo/Documentos/Water-Cycle-Neural-Network/venv/lib/python3.12/site-packages/optuna/trial/_trial.py:497: UserWarning: The reported value is ignored because this `step` 5 is already reported.\n",
      "  warnings.warn(\n",
      "Metric val_loss improved by 0.012 >= min_delta = 0.0005. New best score: 0.035\n",
      "/home/eduardo/Documentos/Water-Cycle-Neural-Network/venv/lib/python3.12/site-packages/optuna/trial/_trial.py:497: UserWarning: The reported value is ignored because this `step` 6 is already reported.\n",
      "  warnings.warn(\n",
      "Metric val_loss improved by 0.008 >= min_delta = 0.0005. New best score: 0.027\n",
      "/home/eduardo/Documentos/Water-Cycle-Neural-Network/venv/lib/python3.12/site-packages/optuna/trial/_trial.py:497: UserWarning: The reported value is ignored because this `step` 7 is already reported.\n",
      "  warnings.warn(\n",
      "/home/eduardo/Documentos/Water-Cycle-Neural-Network/venv/lib/python3.12/site-packages/optuna/trial/_trial.py:497: UserWarning: The reported value is ignored because this `step` 8 is already reported.\n",
      "  warnings.warn(\n",
      "Metric val_loss improved by 0.002 >= min_delta = 0.0005. New best score: 0.025\n",
      "/home/eduardo/Documentos/Water-Cycle-Neural-Network/venv/lib/python3.12/site-packages/optuna/trial/_trial.py:497: UserWarning: The reported value is ignored because this `step` 9 is already reported.\n",
      "  warnings.warn(\n",
      "Metric val_loss improved by 0.002 >= min_delta = 0.0005. New best score: 0.023\n",
      "/home/eduardo/Documentos/Water-Cycle-Neural-Network/venv/lib/python3.12/site-packages/optuna/trial/_trial.py:497: UserWarning: The reported value is ignored because this `step` 10 is already reported.\n",
      "  warnings.warn(\n",
      "/home/eduardo/Documentos/Water-Cycle-Neural-Network/venv/lib/python3.12/site-packages/optuna/trial/_trial.py:497: UserWarning: The reported value is ignored because this `step` 11 is already reported.\n",
      "  warnings.warn(\n",
      "/home/eduardo/Documentos/Water-Cycle-Neural-Network/venv/lib/python3.12/site-packages/optuna/trial/_trial.py:497: UserWarning: The reported value is ignored because this `step` 12 is already reported.\n",
      "  warnings.warn(\n",
      "/home/eduardo/Documentos/Water-Cycle-Neural-Network/venv/lib/python3.12/site-packages/optuna/trial/_trial.py:497: UserWarning: The reported value is ignored because this `step` 13 is already reported.\n",
      "  warnings.warn(\n",
      "/home/eduardo/Documentos/Water-Cycle-Neural-Network/venv/lib/python3.12/site-packages/optuna/trial/_trial.py:497: UserWarning: The reported value is ignored because this `step` 14 is already reported.\n",
      "  warnings.warn(\n",
      "/home/eduardo/Documentos/Water-Cycle-Neural-Network/venv/lib/python3.12/site-packages/optuna/trial/_trial.py:497: UserWarning: The reported value is ignored because this `step` 15 is already reported.\n",
      "  warnings.warn(\n",
      "/home/eduardo/Documentos/Water-Cycle-Neural-Network/venv/lib/python3.12/site-packages/optuna/trial/_trial.py:497: UserWarning: The reported value is ignored because this `step` 16 is already reported.\n",
      "  warnings.warn(\n",
      "/home/eduardo/Documentos/Water-Cycle-Neural-Network/venv/lib/python3.12/site-packages/optuna/trial/_trial.py:497: UserWarning: The reported value is ignored because this `step` 17 is already reported.\n",
      "  warnings.warn(\n",
      "/home/eduardo/Documentos/Water-Cycle-Neural-Network/venv/lib/python3.12/site-packages/optuna/trial/_trial.py:497: UserWarning: The reported value is ignored because this `step` 18 is already reported.\n",
      "  warnings.warn(\n",
      "/home/eduardo/Documentos/Water-Cycle-Neural-Network/venv/lib/python3.12/site-packages/optuna/trial/_trial.py:497: UserWarning: The reported value is ignored because this `step` 19 is already reported.\n",
      "  warnings.warn(\n",
      "/home/eduardo/Documentos/Water-Cycle-Neural-Network/venv/lib/python3.12/site-packages/optuna/trial/_trial.py:497: UserWarning: The reported value is ignored because this `step` 20 is already reported.\n",
      "  warnings.warn(\n",
      "/home/eduardo/Documentos/Water-Cycle-Neural-Network/venv/lib/python3.12/site-packages/optuna/trial/_trial.py:497: UserWarning: The reported value is ignored because this `step` 21 is already reported.\n",
      "  warnings.warn(\n",
      "/home/eduardo/Documentos/Water-Cycle-Neural-Network/venv/lib/python3.12/site-packages/optuna/trial/_trial.py:497: UserWarning: The reported value is ignored because this `step` 22 is already reported.\n",
      "  warnings.warn(\n",
      "/home/eduardo/Documentos/Water-Cycle-Neural-Network/venv/lib/python3.12/site-packages/optuna/trial/_trial.py:497: UserWarning: The reported value is ignored because this `step` 23 is already reported.\n",
      "  warnings.warn(\n",
      "Monitored metric val_loss did not improve in the last 15 records. Best score: 0.023. Signaling Trainer to stop.\n",
      "GPU available: True (cuda), used: True\n",
      "TPU available: False, using: 0 TPU cores\n",
      "HPU available: False, using: 0 HPUs\n",
      "LOCAL_RANK: 0 - CUDA_VISIBLE_DEVICES: [0]\n"
     ]
    },
    {
     "name": "stdout",
     "output_type": "stream",
     "text": [
      "Model loaded from checkpoint for trial 36, fold 1\n"
     ]
    },
    {
     "name": "stderr",
     "output_type": "stream",
     "text": [
      "GPU available: True (cuda), used: True\n",
      "TPU available: False, using: 0 TPU cores\n",
      "HPU available: False, using: 0 HPUs\n",
      "LOCAL_RANK: 0 - CUDA_VISIBLE_DEVICES: [0]\n"
     ]
    },
    {
     "name": "stdout",
     "output_type": "stream",
     "text": [
      "SMAPE fold 1: 52.49418113831864\n",
      "\n",
      "Fold 3/3\n"
     ]
    },
    {
     "name": "stderr",
     "output_type": "stream",
     "text": [
      "/home/eduardo/Documentos/Water-Cycle-Neural-Network/venv/lib/python3.12/site-packages/optuna/trial/_trial.py:497: UserWarning: The reported value is ignored because this `step` 0 is already reported.\n",
      "  warnings.warn(\n",
      "Monitored metric val_loss did not improve in the last 16 records. Best score: 0.023. Signaling Trainer to stop.\n",
      "GPU available: True (cuda), used: True\n",
      "TPU available: False, using: 0 TPU cores\n",
      "HPU available: False, using: 0 HPUs\n",
      "LOCAL_RANK: 0 - CUDA_VISIBLE_DEVICES: [0]\n"
     ]
    },
    {
     "name": "stdout",
     "output_type": "stream",
     "text": [
      "Model loaded from checkpoint for trial 36, fold 2\n"
     ]
    },
    {
     "name": "stderr",
     "output_type": "stream",
     "text": [
      "[I 2025-06-10 19:21:50,039] Trial 36 finished with value: 80.94429324218264 and parameters: {'input_chunk_length': 36, 'hidden_size': 136, 'dropout': 0.4, 'batch_size': 120, 'lr': 0.002564166534312408, 'weight_decay': 0.0016568882391184874, 'ff_size': 325, 'num_blocks': 3, 'activation': 'GELU', 'norm_type': 'LayerNorm', 'normalize_before': False}. Best is trial 33 with value: 76.25873721757107.\n",
      "GPU available: True (cuda), used: True\n",
      "TPU available: False, using: 0 TPU cores\n",
      "HPU available: False, using: 0 HPUs\n",
      "LOCAL_RANK: 0 - CUDA_VISIBLE_DEVICES: [0]\n"
     ]
    },
    {
     "name": "stdout",
     "output_type": "stream",
     "text": [
      "SMAPE fold 2: 69.03533477178729\n",
      "Média dos SMAPE nos folds: 80.94429324218264\n",
      "Results of trial 36 saved in optuna_iteration_metrics/trial_36.json\n",
      "Current value: 80.94429324218264, Current params: {'input_chunk_length': 36, 'hidden_size': 136, 'dropout': 0.4, 'batch_size': 120, 'lr': 0.002564166534312408, 'weight_decay': 0.0016568882391184874, 'ff_size': 325, 'num_blocks': 3, 'activation': 'GELU', 'norm_type': 'LayerNorm', 'normalize_before': False}\n",
      "Best value: 76.25873721757107, Best params: {'input_chunk_length': 60, 'hidden_size': 104, 'dropout': 0.5, 'batch_size': 136, 'lr': 0.004576991897392767, 'weight_decay': 0.004659755135731725, 'ff_size': 282, 'num_blocks': 4, 'activation': 'GELU', 'norm_type': 'LayerNorm', 'normalize_before': False}\n",
      "\n",
      "Fold 1/3\n"
     ]
    },
    {
     "name": "stderr",
     "output_type": "stream",
     "text": [
      "Metric val_loss improved. New best score: 8.012\n",
      "Metric val_loss improved by 0.051 >= min_delta = 0.0005. New best score: 7.961\n",
      "[I 2025-06-10 19:21:53,578] Trial 37 pruned. Trial was pruned at epoch 2.\n",
      "GPU available: True (cuda), used: True\n",
      "TPU available: False, using: 0 TPU cores\n",
      "HPU available: False, using: 0 HPUs\n",
      "LOCAL_RANK: 0 - CUDA_VISIBLE_DEVICES: [0]\n"
     ]
    },
    {
     "name": "stdout",
     "output_type": "stream",
     "text": [
      "Current value: 7.963689787567812, Current params: {'input_chunk_length': 60, 'hidden_size': 72, 'dropout': 0.45000000000000007, 'batch_size': 152, 'lr': 0.0012312247991512193, 'weight_decay': 0.004643785022818585, 'ff_size': 225, 'num_blocks': 4, 'activation': 'GELU', 'norm_type': 'LayerNorm', 'normalize_before': False}\n",
      "Best value: 76.25873721757107, Best params: {'input_chunk_length': 60, 'hidden_size': 104, 'dropout': 0.5, 'batch_size': 136, 'lr': 0.004576991897392767, 'weight_decay': 0.004659755135731725, 'ff_size': 282, 'num_blocks': 4, 'activation': 'GELU', 'norm_type': 'LayerNorm', 'normalize_before': False}\n",
      "\n",
      "Fold 1/3\n"
     ]
    },
    {
     "name": "stderr",
     "output_type": "stream",
     "text": [
      "Metric val_loss improved. New best score: 7.789\n",
      "Metric val_loss improved by 0.038 >= min_delta = 0.0005. New best score: 7.750\n",
      "Metric val_loss improved by 0.002 >= min_delta = 0.0005. New best score: 7.748\n",
      "Metric val_loss improved by 0.028 >= min_delta = 0.0005. New best score: 7.720\n",
      "Metric val_loss improved by 0.007 >= min_delta = 0.0005. New best score: 7.713\n",
      "Metric val_loss improved by 0.007 >= min_delta = 0.0005. New best score: 7.705\n",
      "Metric val_loss improved by 0.002 >= min_delta = 0.0005. New best score: 7.703\n",
      "Metric val_loss improved by 0.001 >= min_delta = 0.0005. New best score: 7.702\n",
      "Metric val_loss improved by 0.004 >= min_delta = 0.0005. New best score: 7.698\n",
      "Metric val_loss improved by 0.001 >= min_delta = 0.0005. New best score: 7.696\n",
      "Metric val_loss improved by 0.001 >= min_delta = 0.0005. New best score: 7.695\n",
      "Metric val_loss improved by 0.008 >= min_delta = 0.0005. New best score: 7.687\n",
      "[I 2025-06-10 19:22:29,683] Trial 38 pruned. Trial was pruned at epoch 29.\n",
      "GPU available: True (cuda), used: True\n",
      "TPU available: False, using: 0 TPU cores\n",
      "HPU available: False, using: 0 HPUs\n",
      "LOCAL_RANK: 0 - CUDA_VISIBLE_DEVICES: [0]\n"
     ]
    },
    {
     "name": "stdout",
     "output_type": "stream",
     "text": [
      "Current value: 7.683195513879231, Current params: {'input_chunk_length': 48, 'hidden_size': 112, 'dropout': 0.5, 'batch_size': 96, 'lr': 0.004944447591485413, 'weight_decay': 0.0026294353265634324, 'ff_size': 331, 'num_blocks': 4, 'activation': 'GELU', 'norm_type': 'LayerNorm', 'normalize_before': False}\n",
      "Best value: 76.25873721757107, Best params: {'input_chunk_length': 60, 'hidden_size': 104, 'dropout': 0.5, 'batch_size': 136, 'lr': 0.004576991897392767, 'weight_decay': 0.004659755135731725, 'ff_size': 282, 'num_blocks': 4, 'activation': 'GELU', 'norm_type': 'LayerNorm', 'normalize_before': False}\n",
      "\n",
      "Fold 1/3\n"
     ]
    },
    {
     "name": "stderr",
     "output_type": "stream",
     "text": [
      "Metric val_loss improved. New best score: 7.885\n",
      "Metric val_loss improved by 0.068 >= min_delta = 0.0005. New best score: 7.817\n",
      "Metric val_loss improved by 0.034 >= min_delta = 0.0005. New best score: 7.783\n",
      "Metric val_loss improved by 0.027 >= min_delta = 0.0005. New best score: 7.756\n",
      "Metric val_loss improved by 0.018 >= min_delta = 0.0005. New best score: 7.738\n",
      "Metric val_loss improved by 0.006 >= min_delta = 0.0005. New best score: 7.732\n",
      "Metric val_loss improved by 0.017 >= min_delta = 0.0005. New best score: 7.715\n",
      "Metric val_loss improved by 0.004 >= min_delta = 0.0005. New best score: 7.711\n",
      "Monitored metric val_loss did not improve in the last 15 records. Best score: 7.711. Signaling Trainer to stop.\n",
      "GPU available: True (cuda), used: True\n",
      "TPU available: False, using: 0 TPU cores\n",
      "HPU available: False, using: 0 HPUs\n",
      "LOCAL_RANK: 0 - CUDA_VISIBLE_DEVICES: [0]\n"
     ]
    },
    {
     "name": "stdout",
     "output_type": "stream",
     "text": [
      "Model loaded from checkpoint for trial 39, fold 0\n"
     ]
    },
    {
     "name": "stderr",
     "output_type": "stream",
     "text": [
      "GPU available: True (cuda), used: True\n",
      "TPU available: False, using: 0 TPU cores\n",
      "HPU available: False, using: 0 HPUs\n",
      "LOCAL_RANK: 0 - CUDA_VISIBLE_DEVICES: [0]\n"
     ]
    },
    {
     "name": "stdout",
     "output_type": "stream",
     "text": [
      "SMAPE fold 0: 115.09390043972928\n",
      "\n",
      "Fold 2/3\n"
     ]
    },
    {
     "name": "stderr",
     "output_type": "stream",
     "text": [
      "/home/eduardo/Documentos/Water-Cycle-Neural-Network/venv/lib/python3.12/site-packages/optuna/trial/_trial.py:497: UserWarning: The reported value is ignored because this `step` 0 is already reported.\n",
      "  warnings.warn(\n",
      "Metric val_loss improved by 7.587 >= min_delta = 0.0005. New best score: 0.124\n",
      "/home/eduardo/Documentos/Water-Cycle-Neural-Network/venv/lib/python3.12/site-packages/optuna/trial/_trial.py:497: UserWarning: The reported value is ignored because this `step` 1 is already reported.\n",
      "  warnings.warn(\n",
      "Metric val_loss improved by 0.038 >= min_delta = 0.0005. New best score: 0.086\n",
      "/home/eduardo/Documentos/Water-Cycle-Neural-Network/venv/lib/python3.12/site-packages/optuna/trial/_trial.py:497: UserWarning: The reported value is ignored because this `step` 2 is already reported.\n",
      "  warnings.warn(\n",
      "Metric val_loss improved by 0.025 >= min_delta = 0.0005. New best score: 0.061\n",
      "Exception ignored in: Exception ignored in: <function _MultiProcessingDataLoaderIter.__del__ at 0x7f6ea576f2e0>\n",
      "Traceback (most recent call last):\n",
      "  File \"/home/eduardo/Documentos/Water-Cycle-Neural-Network/venv/lib/python3.12/site-packages/torch/utils/data/dataloader.py\", line 1663, in __del__\n",
      "    self._shutdown_workers()<function _MultiProcessingDataLoaderIter.__del__ at 0x7f6ea576f2e0>\n",
      "  File \"/home/eduardo/Documentos/Water-Cycle-Neural-Network/venv/lib/python3.12/site-packages/torch/utils/data/dataloader.py\", line 1646, in _shutdown_workers\n",
      "    \n",
      "Exception ignored in: <function _MultiProcessingDataLoaderIter.__del__ at 0x7f6ea576f2e0>Traceback (most recent call last):\n",
      "if w.is_alive():\n",
      "\n",
      "  File \"/home/eduardo/Documentos/Water-Cycle-Neural-Network/venv/lib/python3.12/site-packages/torch/utils/data/dataloader.py\", line 1663, in __del__\n",
      "Traceback (most recent call last):\n",
      "       File \"/home/eduardo/Documentos/Water-Cycle-Neural-Network/venv/lib/python3.12/site-packages/torch/utils/data/dataloader.py\", line 1663, in __del__\n",
      " self._shutdown_workers() \n",
      "        File \"/home/eduardo/Documentos/Water-Cycle-Neural-Network/venv/lib/python3.12/site-packages/torch/utils/data/dataloader.py\", line 1646, in _shutdown_workers\n",
      "self._shutdown_workers() \n",
      "       File \"/home/eduardo/Documentos/Water-Cycle-Neural-Network/venv/lib/python3.12/site-packages/torch/utils/data/dataloader.py\", line 1646, in _shutdown_workers\n",
      "^if w.is_alive():    \n",
      "^if w.is_alive():^\n",
      " ^  ^  ^   ^  ^  ^ ^^^ ^^^^^\n",
      "^^  File \"/usr/lib/python3.12/multiprocessing/process.py\", line 160, in is_alive\n",
      "^^    ^^assert self._parent_pid == os.getpid(), 'can only test a child process'^\n",
      "^^ ^^^ ^ ^^ ^\n",
      "^   File \"/usr/lib/python3.12/multiprocessing/process.py\", line 160, in is_alive\n",
      " ^    ^ assert self._parent_pid == os.getpid(), 'can only test a child process'\n",
      "   File \"/usr/lib/python3.12/multiprocessing/process.py\", line 160, in is_alive\n",
      " \n",
      "      assert self._parent_pid == os.getpid(), 'can only test a child process'  \n",
      "^  ^  ^  ^  ^  ^ ^  ^  ^ ^ ^^ ^^ ^^ ^^^^^^^^^^^^^^^^^^^^^^^^^^^^^^^^^^^^^^^^^^^^^^^\n",
      "^^AssertionError^^^: ^^^^can only test a child process^\n",
      "^^^^^^Exception ignored in: ^<function _MultiProcessingDataLoaderIter.__del__ at 0x7f6ea576f2e0>\n",
      "^^Traceback (most recent call last):\n",
      "^^  File \"/home/eduardo/Documentos/Water-Cycle-Neural-Network/venv/lib/python3.12/site-packages/torch/utils/data/dataloader.py\", line 1663, in __del__\n",
      "^^\n",
      "^AssertionError    self._shutdown_workers()^: \n",
      "  File \"/home/eduardo/Documentos/Water-Cycle-Neural-Network/venv/lib/python3.12/site-packages/torch/utils/data/dataloader.py\", line 1646, in _shutdown_workers\n",
      "^can only test a child process^\n",
      "^    if w.is_alive():\n",
      "^ ^\n",
      " AssertionError Exception ignored in: <function _MultiProcessingDataLoaderIter.__del__ at 0x7f6ea576f2e0>  \n",
      ":   Traceback (most recent call last):\n",
      "can only test a child process^  File \"/home/eduardo/Documentos/Water-Cycle-Neural-Network/venv/lib/python3.12/site-packages/torch/utils/data/dataloader.py\", line 1663, in __del__\n",
      "\n",
      "^^    ^self._shutdown_workers()^\n",
      "^  File \"/home/eduardo/Documentos/Water-Cycle-Neural-Network/venv/lib/python3.12/site-packages/torch/utils/data/dataloader.py\", line 1646, in _shutdown_workers\n",
      "^^    ^if w.is_alive():^\n",
      "Exception ignored in: ^ <function _MultiProcessingDataLoaderIter.__del__ at 0x7f6ea576f2e0>^ \n",
      "\n",
      " Traceback (most recent call last):\n",
      "  File \"/usr/lib/python3.12/multiprocessing/process.py\", line 160, in is_alive\n",
      "   File \"/home/eduardo/Documentos/Water-Cycle-Neural-Network/venv/lib/python3.12/site-packages/torch/utils/data/dataloader.py\", line 1663, in __del__\n",
      "      assert self._parent_pid == os.getpid(), 'can only test a child process'     self._shutdown_workers()\n",
      "\n",
      "  ^^  File \"/home/eduardo/Documentos/Water-Cycle-Neural-Network/venv/lib/python3.12/site-packages/torch/utils/data/dataloader.py\", line 1646, in _shutdown_workers\n",
      "     if w.is_alive(): ^ \n",
      "^  ^  ^  ^   ^  ^  ^^^^^^^^^\n",
      "^^  File \"/usr/lib/python3.12/multiprocessing/process.py\", line 160, in is_alive\n",
      "^^^    ^^assert self._parent_pid == os.getpid(), 'can only test a child process'^^\n",
      "^^ ^^ ^^^^^ ^ ^^^  \n",
      "^ ^  File \"/usr/lib/python3.12/multiprocessing/process.py\", line 160, in is_alive\n",
      " ^     ^assert self._parent_pid == os.getpid(), 'can only test a child process' ^\n",
      " ^ ^^^ ^ ^^ ^^ ^^ ^ ^^ ^^ ^^ ^^ \n",
      "^^AssertionError^: ^^can only test a child process^\n",
      "^^^^^^^^^^^^^^^^^^^^^^^^^^^^^^^^^^^^^^\n",
      "^AssertionError^: can only test a child process\n",
      "^^^^^^\n",
      "AssertionError: can only test a child process\n",
      "/home/eduardo/Documentos/Water-Cycle-Neural-Network/venv/lib/python3.12/site-packages/optuna/trial/_trial.py:497: UserWarning: The reported value is ignored because this `step` 3 is already reported.\n",
      "  warnings.warn(\n",
      "Metric val_loss improved by 0.020 >= min_delta = 0.0005. New best score: 0.041\n",
      "/home/eduardo/Documentos/Water-Cycle-Neural-Network/venv/lib/python3.12/site-packages/optuna/trial/_trial.py:497: UserWarning: The reported value is ignored because this `step` 4 is already reported.\n",
      "  warnings.warn(\n",
      "Metric val_loss improved by 0.002 >= min_delta = 0.0005. New best score: 0.039\n",
      "/home/eduardo/Documentos/Water-Cycle-Neural-Network/venv/lib/python3.12/site-packages/optuna/trial/_trial.py:497: UserWarning: The reported value is ignored because this `step` 5 is already reported.\n",
      "  warnings.warn(\n",
      "Metric val_loss improved by 0.004 >= min_delta = 0.0005. New best score: 0.035\n",
      "/home/eduardo/Documentos/Water-Cycle-Neural-Network/venv/lib/python3.12/site-packages/optuna/trial/_trial.py:497: UserWarning: The reported value is ignored because this `step` 6 is already reported.\n",
      "  warnings.warn(\n",
      "Metric val_loss improved by 0.006 >= min_delta = 0.0005. New best score: 0.029\n",
      "/home/eduardo/Documentos/Water-Cycle-Neural-Network/venv/lib/python3.12/site-packages/optuna/trial/_trial.py:497: UserWarning: The reported value is ignored because this `step` 7 is already reported.\n",
      "  warnings.warn(\n",
      "/home/eduardo/Documentos/Water-Cycle-Neural-Network/venv/lib/python3.12/site-packages/optuna/trial/_trial.py:497: UserWarning: The reported value is ignored because this `step` 8 is already reported.\n",
      "  warnings.warn(\n",
      "/home/eduardo/Documentos/Water-Cycle-Neural-Network/venv/lib/python3.12/site-packages/optuna/trial/_trial.py:497: UserWarning: The reported value is ignored because this `step` 9 is already reported.\n",
      "  warnings.warn(\n",
      "Metric val_loss improved by 0.001 >= min_delta = 0.0005. New best score: 0.028\n",
      "/home/eduardo/Documentos/Water-Cycle-Neural-Network/venv/lib/python3.12/site-packages/optuna/trial/_trial.py:497: UserWarning: The reported value is ignored because this `step` 10 is already reported.\n",
      "  warnings.warn(\n",
      "/home/eduardo/Documentos/Water-Cycle-Neural-Network/venv/lib/python3.12/site-packages/optuna/trial/_trial.py:497: UserWarning: The reported value is ignored because this `step` 11 is already reported.\n",
      "  warnings.warn(\n",
      "/home/eduardo/Documentos/Water-Cycle-Neural-Network/venv/lib/python3.12/site-packages/optuna/trial/_trial.py:497: UserWarning: The reported value is ignored because this `step` 12 is already reported.\n",
      "  warnings.warn(\n",
      "/home/eduardo/Documentos/Water-Cycle-Neural-Network/venv/lib/python3.12/site-packages/optuna/trial/_trial.py:497: UserWarning: The reported value is ignored because this `step` 13 is already reported.\n",
      "  warnings.warn(\n",
      "/home/eduardo/Documentos/Water-Cycle-Neural-Network/venv/lib/python3.12/site-packages/optuna/trial/_trial.py:497: UserWarning: The reported value is ignored because this `step` 14 is already reported.\n",
      "  warnings.warn(\n",
      "/home/eduardo/Documentos/Water-Cycle-Neural-Network/venv/lib/python3.12/site-packages/optuna/trial/_trial.py:497: UserWarning: The reported value is ignored because this `step` 15 is already reported.\n",
      "  warnings.warn(\n",
      "/home/eduardo/Documentos/Water-Cycle-Neural-Network/venv/lib/python3.12/site-packages/optuna/trial/_trial.py:497: UserWarning: The reported value is ignored because this `step` 16 is already reported.\n",
      "  warnings.warn(\n",
      "/home/eduardo/Documentos/Water-Cycle-Neural-Network/venv/lib/python3.12/site-packages/optuna/trial/_trial.py:497: UserWarning: The reported value is ignored because this `step` 17 is already reported.\n",
      "  warnings.warn(\n",
      "/home/eduardo/Documentos/Water-Cycle-Neural-Network/venv/lib/python3.12/site-packages/optuna/trial/_trial.py:497: UserWarning: The reported value is ignored because this `step` 18 is already reported.\n",
      "  warnings.warn(\n",
      "/home/eduardo/Documentos/Water-Cycle-Neural-Network/venv/lib/python3.12/site-packages/optuna/trial/_trial.py:497: UserWarning: The reported value is ignored because this `step` 19 is already reported.\n",
      "  warnings.warn(\n",
      "/home/eduardo/Documentos/Water-Cycle-Neural-Network/venv/lib/python3.12/site-packages/optuna/trial/_trial.py:497: UserWarning: The reported value is ignored because this `step` 20 is already reported.\n",
      "  warnings.warn(\n",
      "/home/eduardo/Documentos/Water-Cycle-Neural-Network/venv/lib/python3.12/site-packages/optuna/trial/_trial.py:497: UserWarning: The reported value is ignored because this `step` 21 is already reported.\n",
      "  warnings.warn(\n",
      "/home/eduardo/Documentos/Water-Cycle-Neural-Network/venv/lib/python3.12/site-packages/optuna/trial/_trial.py:497: UserWarning: The reported value is ignored because this `step` 22 is already reported.\n",
      "  warnings.warn(\n",
      "/home/eduardo/Documentos/Water-Cycle-Neural-Network/venv/lib/python3.12/site-packages/optuna/trial/_trial.py:497: UserWarning: The reported value is ignored because this `step` 23 is already reported.\n",
      "  warnings.warn(\n",
      "/home/eduardo/Documentos/Water-Cycle-Neural-Network/venv/lib/python3.12/site-packages/optuna/trial/_trial.py:497: UserWarning: The reported value is ignored because this `step` 24 is already reported.\n",
      "  warnings.warn(\n",
      "Monitored metric val_loss did not improve in the last 15 records. Best score: 0.028. Signaling Trainer to stop.\n",
      "GPU available: True (cuda), used: True\n",
      "TPU available: False, using: 0 TPU cores\n",
      "HPU available: False, using: 0 HPUs\n",
      "LOCAL_RANK: 0 - CUDA_VISIBLE_DEVICES: [0]\n"
     ]
    },
    {
     "name": "stdout",
     "output_type": "stream",
     "text": [
      "Model loaded from checkpoint for trial 39, fold 1\n"
     ]
    },
    {
     "name": "stderr",
     "output_type": "stream",
     "text": [
      "GPU available: True (cuda), used: True\n",
      "TPU available: False, using: 0 TPU cores\n",
      "HPU available: False, using: 0 HPUs\n",
      "LOCAL_RANK: 0 - CUDA_VISIBLE_DEVICES: [0]\n"
     ]
    },
    {
     "name": "stdout",
     "output_type": "stream",
     "text": [
      "SMAPE fold 1: 53.49943972609691\n",
      "\n",
      "Fold 3/3\n"
     ]
    },
    {
     "name": "stderr",
     "output_type": "stream",
     "text": [
      "/home/eduardo/Documentos/Water-Cycle-Neural-Network/venv/lib/python3.12/site-packages/optuna/trial/_trial.py:497: UserWarning: The reported value is ignored because this `step` 0 is already reported.\n",
      "  warnings.warn(\n",
      "Monitored metric val_loss did not improve in the last 16 records. Best score: 0.028. Signaling Trainer to stop.\n",
      "GPU available: True (cuda), used: True\n",
      "TPU available: False, using: 0 TPU cores\n",
      "HPU available: False, using: 0 HPUs\n",
      "LOCAL_RANK: 0 - CUDA_VISIBLE_DEVICES: [0]\n"
     ]
    },
    {
     "name": "stdout",
     "output_type": "stream",
     "text": [
      "Model loaded from checkpoint for trial 39, fold 2\n"
     ]
    },
    {
     "name": "stderr",
     "output_type": "stream",
     "text": [
      "[I 2025-06-10 19:23:26,315] Trial 39 finished with value: 82.8046945589805 and parameters: {'input_chunk_length': 36, 'hidden_size': 32, 'dropout': 0.35, 'batch_size': 144, 'lr': 0.0020359436673975185, 'weight_decay': 0.005447644484485506, 'ff_size': 65, 'num_blocks': 4, 'activation': 'GELU', 'norm_type': 'LayerNorm', 'normalize_before': False}. Best is trial 33 with value: 76.25873721757107.\n",
      "GPU available: True (cuda), used: True\n",
      "TPU available: False, using: 0 TPU cores\n",
      "HPU available: False, using: 0 HPUs\n",
      "LOCAL_RANK: 0 - CUDA_VISIBLE_DEVICES: [0]\n"
     ]
    },
    {
     "name": "stdout",
     "output_type": "stream",
     "text": [
      "SMAPE fold 2: 79.8207435111153\n",
      "Média dos SMAPE nos folds: 82.8046945589805\n",
      "Results of trial 39 saved in optuna_iteration_metrics/trial_39.json\n",
      "Current value: 82.8046945589805, Current params: {'input_chunk_length': 36, 'hidden_size': 32, 'dropout': 0.35, 'batch_size': 144, 'lr': 0.0020359436673975185, 'weight_decay': 0.005447644484485506, 'ff_size': 65, 'num_blocks': 4, 'activation': 'GELU', 'norm_type': 'LayerNorm', 'normalize_before': False}\n",
      "Best value: 76.25873721757107, Best params: {'input_chunk_length': 60, 'hidden_size': 104, 'dropout': 0.5, 'batch_size': 136, 'lr': 0.004576991897392767, 'weight_decay': 0.004659755135731725, 'ff_size': 282, 'num_blocks': 4, 'activation': 'GELU', 'norm_type': 'LayerNorm', 'normalize_before': False}\n",
      "\n",
      "Fold 1/3\n"
     ]
    },
    {
     "name": "stderr",
     "output_type": "stream",
     "text": [
      "Metric val_loss improved. New best score: 7.813\n",
      "Metric val_loss improved by 0.025 >= min_delta = 0.0005. New best score: 7.788\n",
      "Metric val_loss improved by 0.068 >= min_delta = 0.0005. New best score: 7.720\n",
      "Metric val_loss improved by 0.006 >= min_delta = 0.0005. New best score: 7.713\n",
      "Metric val_loss improved by 0.024 >= min_delta = 0.0005. New best score: 7.690\n",
      "Metric val_loss improved by 0.009 >= min_delta = 0.0005. New best score: 7.680\n",
      "Metric val_loss improved by 0.023 >= min_delta = 0.0005. New best score: 7.657\n",
      "Metric val_loss improved by 0.001 >= min_delta = 0.0005. New best score: 7.657\n",
      "Monitored metric val_loss did not improve in the last 15 records. Best score: 7.657. Signaling Trainer to stop.\n",
      "GPU available: True (cuda), used: True\n",
      "TPU available: False, using: 0 TPU cores\n",
      "HPU available: False, using: 0 HPUs\n",
      "LOCAL_RANK: 0 - CUDA_VISIBLE_DEVICES: [0]\n"
     ]
    },
    {
     "name": "stdout",
     "output_type": "stream",
     "text": [
      "Model loaded from checkpoint for trial 40, fold 0\n"
     ]
    },
    {
     "name": "stderr",
     "output_type": "stream",
     "text": [
      "GPU available: True (cuda), used: True\n",
      "TPU available: False, using: 0 TPU cores\n",
      "HPU available: False, using: 0 HPUs\n",
      "LOCAL_RANK: 0 - CUDA_VISIBLE_DEVICES: [0]\n"
     ]
    },
    {
     "name": "stdout",
     "output_type": "stream",
     "text": [
      "SMAPE fold 0: 127.90808942324765\n",
      "\n",
      "Fold 2/3\n"
     ]
    },
    {
     "name": "stderr",
     "output_type": "stream",
     "text": [
      "/home/eduardo/Documentos/Water-Cycle-Neural-Network/venv/lib/python3.12/site-packages/optuna/trial/_trial.py:497: UserWarning: The reported value is ignored because this `step` 0 is already reported.\n",
      "  warnings.warn(\n",
      "Metric val_loss improved by 7.548 >= min_delta = 0.0005. New best score: 0.108\n",
      "/home/eduardo/Documentos/Water-Cycle-Neural-Network/venv/lib/python3.12/site-packages/optuna/trial/_trial.py:497: UserWarning: The reported value is ignored because this `step` 1 is already reported.\n",
      "  warnings.warn(\n",
      "Metric val_loss improved by 0.018 >= min_delta = 0.0005. New best score: 0.090\n",
      "/home/eduardo/Documentos/Water-Cycle-Neural-Network/venv/lib/python3.12/site-packages/optuna/trial/_trial.py:497: UserWarning: The reported value is ignored because this `step` 2 is already reported.\n",
      "  warnings.warn(\n",
      "Metric val_loss improved by 0.019 >= min_delta = 0.0005. New best score: 0.071\n",
      "/home/eduardo/Documentos/Water-Cycle-Neural-Network/venv/lib/python3.12/site-packages/optuna/trial/_trial.py:497: UserWarning: The reported value is ignored because this `step` 3 is already reported.\n",
      "  warnings.warn(\n",
      "Metric val_loss improved by 0.019 >= min_delta = 0.0005. New best score: 0.052\n",
      "/home/eduardo/Documentos/Water-Cycle-Neural-Network/venv/lib/python3.12/site-packages/optuna/trial/_trial.py:497: UserWarning: The reported value is ignored because this `step` 4 is already reported.\n",
      "  warnings.warn(\n",
      "Metric val_loss improved by 0.018 >= min_delta = 0.0005. New best score: 0.034\n",
      "/home/eduardo/Documentos/Water-Cycle-Neural-Network/venv/lib/python3.12/site-packages/optuna/trial/_trial.py:497: UserWarning: The reported value is ignored because this `step` 5 is already reported.\n",
      "  warnings.warn(\n",
      "Metric val_loss improved by 0.002 >= min_delta = 0.0005. New best score: 0.032\n",
      "/home/eduardo/Documentos/Water-Cycle-Neural-Network/venv/lib/python3.12/site-packages/optuna/trial/_trial.py:497: UserWarning: The reported value is ignored because this `step` 6 is already reported.\n",
      "  warnings.warn(\n",
      "Metric val_loss improved by 0.007 >= min_delta = 0.0005. New best score: 0.025\n",
      "/home/eduardo/Documentos/Water-Cycle-Neural-Network/venv/lib/python3.12/site-packages/optuna/trial/_trial.py:497: UserWarning: The reported value is ignored because this `step` 7 is already reported.\n",
      "  warnings.warn(\n",
      "Metric val_loss improved by 0.006 >= min_delta = 0.0005. New best score: 0.020\n",
      "/home/eduardo/Documentos/Water-Cycle-Neural-Network/venv/lib/python3.12/site-packages/optuna/trial/_trial.py:497: UserWarning: The reported value is ignored because this `step` 8 is already reported.\n",
      "  warnings.warn(\n",
      "/home/eduardo/Documentos/Water-Cycle-Neural-Network/venv/lib/python3.12/site-packages/optuna/trial/_trial.py:497: UserWarning: The reported value is ignored because this `step` 9 is already reported.\n",
      "  warnings.warn(\n",
      "Metric val_loss improved by 0.002 >= min_delta = 0.0005. New best score: 0.018\n",
      "/home/eduardo/Documentos/Water-Cycle-Neural-Network/venv/lib/python3.12/site-packages/optuna/trial/_trial.py:497: UserWarning: The reported value is ignored because this `step` 10 is already reported.\n",
      "  warnings.warn(\n",
      "/home/eduardo/Documentos/Water-Cycle-Neural-Network/venv/lib/python3.12/site-packages/optuna/trial/_trial.py:497: UserWarning: The reported value is ignored because this `step` 11 is already reported.\n",
      "  warnings.warn(\n",
      "/home/eduardo/Documentos/Water-Cycle-Neural-Network/venv/lib/python3.12/site-packages/optuna/trial/_trial.py:497: UserWarning: The reported value is ignored because this `step` 12 is already reported.\n",
      "  warnings.warn(\n",
      "Metric val_loss improved by 0.001 >= min_delta = 0.0005. New best score: 0.017\n",
      "/home/eduardo/Documentos/Water-Cycle-Neural-Network/venv/lib/python3.12/site-packages/optuna/trial/_trial.py:497: UserWarning: The reported value is ignored because this `step` 13 is already reported.\n",
      "  warnings.warn(\n",
      "/home/eduardo/Documentos/Water-Cycle-Neural-Network/venv/lib/python3.12/site-packages/optuna/trial/_trial.py:497: UserWarning: The reported value is ignored because this `step` 14 is already reported.\n",
      "  warnings.warn(\n",
      "/home/eduardo/Documentos/Water-Cycle-Neural-Network/venv/lib/python3.12/site-packages/optuna/trial/_trial.py:497: UserWarning: The reported value is ignored because this `step` 15 is already reported.\n",
      "  warnings.warn(\n",
      "/home/eduardo/Documentos/Water-Cycle-Neural-Network/venv/lib/python3.12/site-packages/optuna/trial/_trial.py:497: UserWarning: The reported value is ignored because this `step` 16 is already reported.\n",
      "  warnings.warn(\n",
      "/home/eduardo/Documentos/Water-Cycle-Neural-Network/venv/lib/python3.12/site-packages/optuna/trial/_trial.py:497: UserWarning: The reported value is ignored because this `step` 17 is already reported.\n",
      "  warnings.warn(\n",
      "/home/eduardo/Documentos/Water-Cycle-Neural-Network/venv/lib/python3.12/site-packages/optuna/trial/_trial.py:497: UserWarning: The reported value is ignored because this `step` 18 is already reported.\n",
      "  warnings.warn(\n",
      "/home/eduardo/Documentos/Water-Cycle-Neural-Network/venv/lib/python3.12/site-packages/optuna/trial/_trial.py:497: UserWarning: The reported value is ignored because this `step` 19 is already reported.\n",
      "  warnings.warn(\n",
      "/home/eduardo/Documentos/Water-Cycle-Neural-Network/venv/lib/python3.12/site-packages/optuna/trial/_trial.py:497: UserWarning: The reported value is ignored because this `step` 20 is already reported.\n",
      "  warnings.warn(\n",
      "/home/eduardo/Documentos/Water-Cycle-Neural-Network/venv/lib/python3.12/site-packages/optuna/trial/_trial.py:497: UserWarning: The reported value is ignored because this `step` 21 is already reported.\n",
      "  warnings.warn(\n",
      "/home/eduardo/Documentos/Water-Cycle-Neural-Network/venv/lib/python3.12/site-packages/optuna/trial/_trial.py:497: UserWarning: The reported value is ignored because this `step` 22 is already reported.\n",
      "  warnings.warn(\n",
      "/home/eduardo/Documentos/Water-Cycle-Neural-Network/venv/lib/python3.12/site-packages/optuna/trial/_trial.py:497: UserWarning: The reported value is ignored because this `step` 23 is already reported.\n",
      "  warnings.warn(\n",
      "/home/eduardo/Documentos/Water-Cycle-Neural-Network/venv/lib/python3.12/site-packages/optuna/trial/_trial.py:497: UserWarning: The reported value is ignored because this `step` 24 is already reported.\n",
      "  warnings.warn(\n",
      "/home/eduardo/Documentos/Water-Cycle-Neural-Network/venv/lib/python3.12/site-packages/optuna/trial/_trial.py:497: UserWarning: The reported value is ignored because this `step` 25 is already reported.\n",
      "  warnings.warn(\n",
      "Monitored metric val_loss did not improve in the last 15 records. Best score: 0.017. Signaling Trainer to stop.\n",
      "GPU available: True (cuda), used: True\n",
      "TPU available: False, using: 0 TPU cores\n",
      "HPU available: False, using: 0 HPUs\n",
      "LOCAL_RANK: 0 - CUDA_VISIBLE_DEVICES: [0]\n"
     ]
    },
    {
     "name": "stdout",
     "output_type": "stream",
     "text": [
      "Model loaded from checkpoint for trial 40, fold 1\n"
     ]
    },
    {
     "name": "stderr",
     "output_type": "stream",
     "text": [
      "GPU available: True (cuda), used: True\n",
      "TPU available: False, using: 0 TPU cores\n",
      "HPU available: False, using: 0 HPUs\n",
      "LOCAL_RANK: 0 - CUDA_VISIBLE_DEVICES: [0]\n"
     ]
    },
    {
     "name": "stdout",
     "output_type": "stream",
     "text": [
      "SMAPE fold 1: 52.263960540072254\n",
      "\n",
      "Fold 3/3\n"
     ]
    },
    {
     "name": "stderr",
     "output_type": "stream",
     "text": [
      "/home/eduardo/Documentos/Water-Cycle-Neural-Network/venv/lib/python3.12/site-packages/optuna/trial/_trial.py:497: UserWarning: The reported value is ignored because this `step` 0 is already reported.\n",
      "  warnings.warn(\n",
      "Monitored metric val_loss did not improve in the last 16 records. Best score: 0.017. Signaling Trainer to stop.\n",
      "GPU available: True (cuda), used: True\n",
      "TPU available: False, using: 0 TPU cores\n",
      "HPU available: False, using: 0 HPUs\n",
      "LOCAL_RANK: 0 - CUDA_VISIBLE_DEVICES: [0]\n"
     ]
    },
    {
     "name": "stdout",
     "output_type": "stream",
     "text": [
      "Model loaded from checkpoint for trial 40, fold 2\n"
     ]
    },
    {
     "name": "stderr",
     "output_type": "stream",
     "text": [
      "[I 2025-06-10 19:24:40,660] Trial 40 finished with value: 81.7164479639945 and parameters: {'input_chunk_length': 36, 'hidden_size': 96, 'dropout': 0.4, 'batch_size': 64, 'lr': 0.000829143323128568, 'weight_decay': 0.0007354776635732919, 'ff_size': 324, 'num_blocks': 3, 'activation': 'GELU', 'norm_type': 'LayerNorm', 'normalize_before': False}. Best is trial 33 with value: 76.25873721757107.\n",
      "GPU available: True (cuda), used: True\n",
      "TPU available: False, using: 0 TPU cores\n",
      "HPU available: False, using: 0 HPUs\n",
      "LOCAL_RANK: 0 - CUDA_VISIBLE_DEVICES: [0]\n"
     ]
    },
    {
     "name": "stdout",
     "output_type": "stream",
     "text": [
      "SMAPE fold 2: 64.97729392866361\n",
      "Média dos SMAPE nos folds: 81.7164479639945\n",
      "Results of trial 40 saved in optuna_iteration_metrics/trial_40.json\n",
      "Current value: 81.7164479639945, Current params: {'input_chunk_length': 36, 'hidden_size': 96, 'dropout': 0.4, 'batch_size': 64, 'lr': 0.000829143323128568, 'weight_decay': 0.0007354776635732919, 'ff_size': 324, 'num_blocks': 3, 'activation': 'GELU', 'norm_type': 'LayerNorm', 'normalize_before': False}\n",
      "Best value: 76.25873721757107, Best params: {'input_chunk_length': 60, 'hidden_size': 104, 'dropout': 0.5, 'batch_size': 136, 'lr': 0.004576991897392767, 'weight_decay': 0.004659755135731725, 'ff_size': 282, 'num_blocks': 4, 'activation': 'GELU', 'norm_type': 'LayerNorm', 'normalize_before': False}\n",
      "\n",
      "Fold 1/3\n"
     ]
    },
    {
     "name": "stderr",
     "output_type": "stream",
     "text": [
      "Metric val_loss improved. New best score: 7.837\n",
      "[I 2025-06-10 19:24:46,922] Trial 41 pruned. Trial was pruned at epoch 4.\n",
      "GPU available: True (cuda), used: True\n",
      "TPU available: False, using: 0 TPU cores\n",
      "HPU available: False, using: 0 HPUs\n",
      "LOCAL_RANK: 0 - CUDA_VISIBLE_DEVICES: [0]\n"
     ]
    },
    {
     "name": "stdout",
     "output_type": "stream",
     "text": [
      "Current value: 7.890873832604723, Current params: {'input_chunk_length': 72, 'hidden_size': 112, 'dropout': 0.5, 'batch_size': 144, 'lr': 0.0037448803336025092, 'weight_decay': 0.008649154847385983, 'ff_size': 266, 'num_blocks': 4, 'activation': 'GELU', 'norm_type': 'LayerNorm', 'normalize_before': False}\n",
      "Best value: 76.25873721757107, Best params: {'input_chunk_length': 60, 'hidden_size': 104, 'dropout': 0.5, 'batch_size': 136, 'lr': 0.004576991897392767, 'weight_decay': 0.004659755135731725, 'ff_size': 282, 'num_blocks': 4, 'activation': 'GELU', 'norm_type': 'LayerNorm', 'normalize_before': False}\n",
      "\n",
      "Fold 1/3\n"
     ]
    },
    {
     "name": "stderr",
     "output_type": "stream",
     "text": [
      "[I 2025-06-10 19:24:48,482] Trial 42 pruned. Trial was pruned at epoch 0.\n",
      "GPU available: True (cuda), used: True\n",
      "TPU available: False, using: 0 TPU cores\n",
      "HPU available: False, using: 0 HPUs\n",
      "LOCAL_RANK: 0 - CUDA_VISIBLE_DEVICES: [0]\n"
     ]
    },
    {
     "name": "stdout",
     "output_type": "stream",
     "text": [
      "Current value: 7.919414642139102, Current params: {'input_chunk_length': 60, 'hidden_size': 88, 'dropout': 0.45000000000000007, 'batch_size': 168, 'lr': 0.00494160384604437, 'weight_decay': 0.0053492222935900115, 'ff_size': 243, 'num_blocks': 4, 'activation': 'GELU', 'norm_type': 'LayerNorm', 'normalize_before': False}\n",
      "Best value: 76.25873721757107, Best params: {'input_chunk_length': 60, 'hidden_size': 104, 'dropout': 0.5, 'batch_size': 136, 'lr': 0.004576991897392767, 'weight_decay': 0.004659755135731725, 'ff_size': 282, 'num_blocks': 4, 'activation': 'GELU', 'norm_type': 'LayerNorm', 'normalize_before': False}\n",
      "\n",
      "Fold 1/3\n"
     ]
    },
    {
     "name": "stderr",
     "output_type": "stream",
     "text": [
      "[I 2025-06-10 19:24:50,506] Trial 43 pruned. Trial was pruned at epoch 0.\n",
      "GPU available: True (cuda), used: True\n",
      "TPU available: False, using: 0 TPU cores\n",
      "HPU available: False, using: 0 HPUs\n",
      "LOCAL_RANK: 0 - CUDA_VISIBLE_DEVICES: [0]\n"
     ]
    },
    {
     "name": "stdout",
     "output_type": "stream",
     "text": [
      "Current value: 7.913254873926182, Current params: {'input_chunk_length': 72, 'hidden_size': 136, 'dropout': 0.5, 'batch_size': 120, 'lr': 0.0016786224543510688, 'weight_decay': 0.003004312102735586, 'ff_size': 365, 'num_blocks': 4, 'activation': 'GELU', 'norm_type': 'LayerNorm', 'normalize_before': False}\n",
      "Best value: 76.25873721757107, Best params: {'input_chunk_length': 60, 'hidden_size': 104, 'dropout': 0.5, 'batch_size': 136, 'lr': 0.004576991897392767, 'weight_decay': 0.004659755135731725, 'ff_size': 282, 'num_blocks': 4, 'activation': 'GELU', 'norm_type': 'LayerNorm', 'normalize_before': False}\n",
      "\n",
      "Fold 1/3\n"
     ]
    },
    {
     "name": "stderr",
     "output_type": "stream",
     "text": [
      "[I 2025-06-10 19:24:52,410] Trial 44 pruned. Trial was pruned at epoch 0.\n",
      "GPU available: True (cuda), used: True\n",
      "TPU available: False, using: 0 TPU cores\n",
      "HPU available: False, using: 0 HPUs\n",
      "LOCAL_RANK: 0 - CUDA_VISIBLE_DEVICES: [0]\n"
     ]
    },
    {
     "name": "stdout",
     "output_type": "stream",
     "text": [
      "Current value: 7.927146508498199, Current params: {'input_chunk_length': 60, 'hidden_size': 112, 'dropout': 0.45000000000000007, 'batch_size': 144, 'lr': 0.0032331332281947123, 'weight_decay': 0.0016635622209448403, 'ff_size': 309, 'num_blocks': 4, 'activation': 'GELU', 'norm_type': 'LayerNorm', 'normalize_before': False}\n",
      "Best value: 76.25873721757107, Best params: {'input_chunk_length': 60, 'hidden_size': 104, 'dropout': 0.5, 'batch_size': 136, 'lr': 0.004576991897392767, 'weight_decay': 0.004659755135731725, 'ff_size': 282, 'num_blocks': 4, 'activation': 'GELU', 'norm_type': 'LayerNorm', 'normalize_before': False}\n",
      "\n",
      "Fold 1/3\n"
     ]
    },
    {
     "name": "stderr",
     "output_type": "stream",
     "text": [
      "Metric val_loss improved. New best score: 7.834\n",
      "Metric val_loss improved by 0.062 >= min_delta = 0.0005. New best score: 7.772\n",
      "Metric val_loss improved by 0.051 >= min_delta = 0.0005. New best score: 7.721\n",
      "Metric val_loss improved by 0.061 >= min_delta = 0.0005. New best score: 7.660\n",
      "Metric val_loss improved by 0.007 >= min_delta = 0.0005. New best score: 7.654\n",
      "Metric val_loss improved by 0.053 >= min_delta = 0.0005. New best score: 7.601\n",
      "Metric val_loss improved by 0.001 >= min_delta = 0.0005. New best score: 7.600\n",
      "Monitored metric val_loss did not improve in the last 15 records. Best score: 7.600. Signaling Trainer to stop.\n",
      "GPU available: True (cuda), used: True\n",
      "TPU available: False, using: 0 TPU cores\n",
      "HPU available: False, using: 0 HPUs\n",
      "LOCAL_RANK: 0 - CUDA_VISIBLE_DEVICES: [0]\n"
     ]
    },
    {
     "name": "stdout",
     "output_type": "stream",
     "text": [
      "Model loaded from checkpoint for trial 45, fold 0\n"
     ]
    },
    {
     "name": "stderr",
     "output_type": "stream",
     "text": [
      "GPU available: True (cuda), used: True\n",
      "TPU available: False, using: 0 TPU cores\n",
      "HPU available: False, using: 0 HPUs\n",
      "LOCAL_RANK: 0 - CUDA_VISIBLE_DEVICES: [0]\n"
     ]
    },
    {
     "name": "stdout",
     "output_type": "stream",
     "text": [
      "SMAPE fold 0: 104.1308196943538\n",
      "\n",
      "Fold 2/3\n"
     ]
    },
    {
     "name": "stderr",
     "output_type": "stream",
     "text": [
      "/home/eduardo/Documentos/Water-Cycle-Neural-Network/venv/lib/python3.12/site-packages/optuna/trial/_trial.py:497: UserWarning: The reported value is ignored because this `step` 0 is already reported.\n",
      "  warnings.warn(\n",
      "Metric val_loss improved by 7.471 >= min_delta = 0.0005. New best score: 0.129\n",
      "/home/eduardo/Documentos/Water-Cycle-Neural-Network/venv/lib/python3.12/site-packages/optuna/trial/_trial.py:497: UserWarning: The reported value is ignored because this `step` 1 is already reported.\n",
      "  warnings.warn(\n",
      "Metric val_loss improved by 0.027 >= min_delta = 0.0005. New best score: 0.102\n",
      "/home/eduardo/Documentos/Water-Cycle-Neural-Network/venv/lib/python3.12/site-packages/optuna/trial/_trial.py:497: UserWarning: The reported value is ignored because this `step` 2 is already reported.\n",
      "  warnings.warn(\n",
      "Metric val_loss improved by 0.042 >= min_delta = 0.0005. New best score: 0.060\n",
      "/home/eduardo/Documentos/Water-Cycle-Neural-Network/venv/lib/python3.12/site-packages/optuna/trial/_trial.py:497: UserWarning: The reported value is ignored because this `step` 3 is already reported.\n",
      "  warnings.warn(\n",
      "Metric val_loss improved by 0.015 >= min_delta = 0.0005. New best score: 0.045\n",
      "/home/eduardo/Documentos/Water-Cycle-Neural-Network/venv/lib/python3.12/site-packages/optuna/trial/_trial.py:497: UserWarning: The reported value is ignored because this `step` 4 is already reported.\n",
      "  warnings.warn(\n",
      "Metric val_loss improved by 0.003 >= min_delta = 0.0005. New best score: 0.042\n",
      "/home/eduardo/Documentos/Water-Cycle-Neural-Network/venv/lib/python3.12/site-packages/optuna/trial/_trial.py:497: UserWarning: The reported value is ignored because this `step` 5 is already reported.\n",
      "  warnings.warn(\n",
      "Metric val_loss improved by 0.011 >= min_delta = 0.0005. New best score: 0.032\n",
      "/home/eduardo/Documentos/Water-Cycle-Neural-Network/venv/lib/python3.12/site-packages/optuna/trial/_trial.py:497: UserWarning: The reported value is ignored because this `step` 6 is already reported.\n",
      "  warnings.warn(\n",
      "/home/eduardo/Documentos/Water-Cycle-Neural-Network/venv/lib/python3.12/site-packages/optuna/trial/_trial.py:497: UserWarning: The reported value is ignored because this `step` 7 is already reported.\n",
      "  warnings.warn(\n",
      "Metric val_loss improved by 0.005 >= min_delta = 0.0005. New best score: 0.027\n",
      "/home/eduardo/Documentos/Water-Cycle-Neural-Network/venv/lib/python3.12/site-packages/optuna/trial/_trial.py:497: UserWarning: The reported value is ignored because this `step` 8 is already reported.\n",
      "  warnings.warn(\n",
      "/home/eduardo/Documentos/Water-Cycle-Neural-Network/venv/lib/python3.12/site-packages/optuna/trial/_trial.py:497: UserWarning: The reported value is ignored because this `step` 9 is already reported.\n",
      "  warnings.warn(\n",
      "/home/eduardo/Documentos/Water-Cycle-Neural-Network/venv/lib/python3.12/site-packages/optuna/trial/_trial.py:497: UserWarning: The reported value is ignored because this `step` 10 is already reported.\n",
      "  warnings.warn(\n",
      "/home/eduardo/Documentos/Water-Cycle-Neural-Network/venv/lib/python3.12/site-packages/optuna/trial/_trial.py:497: UserWarning: The reported value is ignored because this `step` 11 is already reported.\n",
      "  warnings.warn(\n",
      "Metric val_loss improved by 0.003 >= min_delta = 0.0005. New best score: 0.024\n",
      "/home/eduardo/Documentos/Water-Cycle-Neural-Network/venv/lib/python3.12/site-packages/optuna/trial/_trial.py:497: UserWarning: The reported value is ignored because this `step` 12 is already reported.\n",
      "  warnings.warn(\n",
      "/home/eduardo/Documentos/Water-Cycle-Neural-Network/venv/lib/python3.12/site-packages/optuna/trial/_trial.py:497: UserWarning: The reported value is ignored because this `step` 13 is already reported.\n",
      "  warnings.warn(\n",
      "/home/eduardo/Documentos/Water-Cycle-Neural-Network/venv/lib/python3.12/site-packages/optuna/trial/_trial.py:497: UserWarning: The reported value is ignored because this `step` 14 is already reported.\n",
      "  warnings.warn(\n",
      "/home/eduardo/Documentos/Water-Cycle-Neural-Network/venv/lib/python3.12/site-packages/optuna/trial/_trial.py:497: UserWarning: The reported value is ignored because this `step` 15 is already reported.\n",
      "  warnings.warn(\n",
      "/home/eduardo/Documentos/Water-Cycle-Neural-Network/venv/lib/python3.12/site-packages/optuna/trial/_trial.py:497: UserWarning: The reported value is ignored because this `step` 16 is already reported.\n",
      "  warnings.warn(\n",
      "/home/eduardo/Documentos/Water-Cycle-Neural-Network/venv/lib/python3.12/site-packages/optuna/trial/_trial.py:497: UserWarning: The reported value is ignored because this `step` 17 is already reported.\n",
      "  warnings.warn(\n",
      "/home/eduardo/Documentos/Water-Cycle-Neural-Network/venv/lib/python3.12/site-packages/optuna/trial/_trial.py:497: UserWarning: The reported value is ignored because this `step` 18 is already reported.\n",
      "  warnings.warn(\n",
      "/home/eduardo/Documentos/Water-Cycle-Neural-Network/venv/lib/python3.12/site-packages/optuna/trial/_trial.py:497: UserWarning: The reported value is ignored because this `step` 19 is already reported.\n",
      "  warnings.warn(\n",
      "/home/eduardo/Documentos/Water-Cycle-Neural-Network/venv/lib/python3.12/site-packages/optuna/trial/_trial.py:497: UserWarning: The reported value is ignored because this `step` 20 is already reported.\n",
      "  warnings.warn(\n",
      "/home/eduardo/Documentos/Water-Cycle-Neural-Network/venv/lib/python3.12/site-packages/optuna/trial/_trial.py:497: UserWarning: The reported value is ignored because this `step` 21 is already reported.\n",
      "  warnings.warn(\n",
      "/home/eduardo/Documentos/Water-Cycle-Neural-Network/venv/lib/python3.12/site-packages/optuna/trial/_trial.py:497: UserWarning: The reported value is ignored because this `step` 22 is already reported.\n",
      "  warnings.warn(\n",
      "Monitored metric val_loss did not improve in the last 15 records. Best score: 0.024. Signaling Trainer to stop.\n",
      "GPU available: True (cuda), used: True\n",
      "TPU available: False, using: 0 TPU cores\n",
      "HPU available: False, using: 0 HPUs\n",
      "LOCAL_RANK: 0 - CUDA_VISIBLE_DEVICES: [0]\n"
     ]
    },
    {
     "name": "stdout",
     "output_type": "stream",
     "text": [
      "Model loaded from checkpoint for trial 45, fold 1\n"
     ]
    },
    {
     "name": "stderr",
     "output_type": "stream",
     "text": [
      "GPU available: True (cuda), used: True\n",
      "TPU available: False, using: 0 TPU cores\n",
      "HPU available: False, using: 0 HPUs\n",
      "LOCAL_RANK: 0 - CUDA_VISIBLE_DEVICES: [0]\n"
     ]
    },
    {
     "name": "stdout",
     "output_type": "stream",
     "text": [
      "SMAPE fold 1: 52.56994181145333\n",
      "\n",
      "Fold 3/3\n"
     ]
    },
    {
     "name": "stderr",
     "output_type": "stream",
     "text": [
      "/home/eduardo/Documentos/Water-Cycle-Neural-Network/venv/lib/python3.12/site-packages/optuna/trial/_trial.py:497: UserWarning: The reported value is ignored because this `step` 0 is already reported.\n",
      "  warnings.warn(\n",
      "Monitored metric val_loss did not improve in the last 16 records. Best score: 0.024. Signaling Trainer to stop.\n",
      "GPU available: True (cuda), used: True\n",
      "TPU available: False, using: 0 TPU cores\n",
      "HPU available: False, using: 0 HPUs\n",
      "LOCAL_RANK: 0 - CUDA_VISIBLE_DEVICES: [0]\n"
     ]
    },
    {
     "name": "stdout",
     "output_type": "stream",
     "text": [
      "Model loaded from checkpoint for trial 45, fold 2\n"
     ]
    },
    {
     "name": "stderr",
     "output_type": "stream",
     "text": [
      "[I 2025-06-10 19:29:38,936] Trial 45 finished with value: 77.54807528119947 and parameters: {'input_chunk_length': 48, 'hidden_size': 80, 'dropout': 0.5, 'batch_size': 160, 'lr': 0.002566110495546701, 'weight_decay': 0.006726469692967067, 'ff_size': 226, 'num_blocks': 4, 'activation': 'GELU', 'norm_type': 'LayerNorm', 'normalize_before': False}. Best is trial 33 with value: 76.25873721757107.\n",
      "GPU available: True (cuda), used: True\n",
      "TPU available: False, using: 0 TPU cores\n",
      "HPU available: False, using: 0 HPUs\n",
      "LOCAL_RANK: 0 - CUDA_VISIBLE_DEVICES: [0]\n"
     ]
    },
    {
     "name": "stdout",
     "output_type": "stream",
     "text": [
      "SMAPE fold 2: 75.94346433779131\n",
      "Média dos SMAPE nos folds: 77.54807528119947\n",
      "Results of trial 45 saved in optuna_iteration_metrics/trial_45.json\n",
      "Current value: 77.54807528119947, Current params: {'input_chunk_length': 48, 'hidden_size': 80, 'dropout': 0.5, 'batch_size': 160, 'lr': 0.002566110495546701, 'weight_decay': 0.006726469692967067, 'ff_size': 226, 'num_blocks': 4, 'activation': 'GELU', 'norm_type': 'LayerNorm', 'normalize_before': False}\n",
      "Best value: 76.25873721757107, Best params: {'input_chunk_length': 60, 'hidden_size': 104, 'dropout': 0.5, 'batch_size': 136, 'lr': 0.004576991897392767, 'weight_decay': 0.004659755135731725, 'ff_size': 282, 'num_blocks': 4, 'activation': 'GELU', 'norm_type': 'LayerNorm', 'normalize_before': False}\n",
      "\n",
      "Fold 1/3\n"
     ]
    },
    {
     "name": "stderr",
     "output_type": "stream",
     "text": [
      "[I 2025-06-10 19:29:40,402] Trial 46 pruned. Trial was pruned at epoch 0.\n",
      "GPU available: True (cuda), used: True\n",
      "TPU available: False, using: 0 TPU cores\n",
      "HPU available: False, using: 0 HPUs\n",
      "LOCAL_RANK: 0 - CUDA_VISIBLE_DEVICES: [0]\n"
     ]
    },
    {
     "name": "stdout",
     "output_type": "stream",
     "text": [
      "Current value: 8.065154051156533, Current params: {'input_chunk_length': 84, 'hidden_size': 96, 'dropout': 0.45000000000000007, 'batch_size': 184, 'lr': 0.0010388763446374826, 'weight_decay': 0.0010496782609525817, 'ff_size': 277, 'num_blocks': 3, 'activation': 'GELU', 'norm_type': 'LayerNorm', 'normalize_before': False}\n",
      "Best value: 76.25873721757107, Best params: {'input_chunk_length': 60, 'hidden_size': 104, 'dropout': 0.5, 'batch_size': 136, 'lr': 0.004576991897392767, 'weight_decay': 0.004659755135731725, 'ff_size': 282, 'num_blocks': 4, 'activation': 'GELU', 'norm_type': 'LayerNorm', 'normalize_before': False}\n",
      "\n",
      "Fold 1/3\n"
     ]
    },
    {
     "name": "stderr",
     "output_type": "stream",
     "text": [
      "Metric val_loss improved. New best score: 7.856\n",
      "Metric val_loss improved by 0.095 >= min_delta = 0.0005. New best score: 7.761\n",
      "Metric val_loss improved by 0.011 >= min_delta = 0.0005. New best score: 7.750\n",
      "Monitored metric val_loss did not improve in the last 15 records. Best score: 7.750. Signaling Trainer to stop.\n",
      "GPU available: True (cuda), used: True\n",
      "TPU available: False, using: 0 TPU cores\n",
      "HPU available: False, using: 0 HPUs\n",
      "LOCAL_RANK: 0 - CUDA_VISIBLE_DEVICES: [0]\n"
     ]
    },
    {
     "name": "stdout",
     "output_type": "stream",
     "text": [
      "Model loaded from checkpoint for trial 47, fold 0\n"
     ]
    },
    {
     "name": "stderr",
     "output_type": "stream",
     "text": [
      "GPU available: True (cuda), used: True\n",
      "TPU available: False, using: 0 TPU cores\n",
      "HPU available: False, using: 0 HPUs\n",
      "LOCAL_RANK: 0 - CUDA_VISIBLE_DEVICES: [0]\n"
     ]
    },
    {
     "name": "stdout",
     "output_type": "stream",
     "text": [
      "SMAPE fold 0: 108.0358473362849\n",
      "\n",
      "Fold 2/3\n"
     ]
    },
    {
     "name": "stderr",
     "output_type": "stream",
     "text": [
      "/home/eduardo/Documentos/Water-Cycle-Neural-Network/venv/lib/python3.12/site-packages/optuna/trial/_trial.py:497: UserWarning: The reported value is ignored because this `step` 0 is already reported.\n",
      "  warnings.warn(\n",
      "Metric val_loss improved by 7.631 >= min_delta = 0.0005. New best score: 0.119\n",
      "/home/eduardo/Documentos/Water-Cycle-Neural-Network/venv/lib/python3.12/site-packages/optuna/trial/_trial.py:497: UserWarning: The reported value is ignored because this `step` 1 is already reported.\n",
      "  warnings.warn(\n",
      "Metric val_loss improved by 0.079 >= min_delta = 0.0005. New best score: 0.041\n",
      "/home/eduardo/Documentos/Water-Cycle-Neural-Network/venv/lib/python3.12/site-packages/optuna/trial/_trial.py:497: UserWarning: The reported value is ignored because this `step` 2 is already reported.\n",
      "  warnings.warn(\n",
      "/home/eduardo/Documentos/Water-Cycle-Neural-Network/venv/lib/python3.12/site-packages/optuna/trial/_trial.py:497: UserWarning: The reported value is ignored because this `step` 3 is already reported.\n",
      "  warnings.warn(\n",
      "Metric val_loss improved by 0.006 >= min_delta = 0.0005. New best score: 0.035\n",
      "/home/eduardo/Documentos/Water-Cycle-Neural-Network/venv/lib/python3.12/site-packages/optuna/trial/_trial.py:497: UserWarning: The reported value is ignored because this `step` 4 is already reported.\n",
      "  warnings.warn(\n",
      "Metric val_loss improved by 0.003 >= min_delta = 0.0005. New best score: 0.032\n",
      "/home/eduardo/Documentos/Water-Cycle-Neural-Network/venv/lib/python3.12/site-packages/optuna/trial/_trial.py:497: UserWarning: The reported value is ignored because this `step` 5 is already reported.\n",
      "  warnings.warn(\n",
      "/home/eduardo/Documentos/Water-Cycle-Neural-Network/venv/lib/python3.12/site-packages/optuna/trial/_trial.py:497: UserWarning: The reported value is ignored because this `step` 6 is already reported.\n",
      "  warnings.warn(\n",
      "/home/eduardo/Documentos/Water-Cycle-Neural-Network/venv/lib/python3.12/site-packages/optuna/trial/_trial.py:497: UserWarning: The reported value is ignored because this `step` 7 is already reported.\n",
      "  warnings.warn(\n",
      "Metric val_loss improved by 0.006 >= min_delta = 0.0005. New best score: 0.026\n",
      "/home/eduardo/Documentos/Water-Cycle-Neural-Network/venv/lib/python3.12/site-packages/optuna/trial/_trial.py:497: UserWarning: The reported value is ignored because this `step` 8 is already reported.\n",
      "  warnings.warn(\n",
      "Metric val_loss improved by 0.001 >= min_delta = 0.0005. New best score: 0.025\n",
      "/home/eduardo/Documentos/Water-Cycle-Neural-Network/venv/lib/python3.12/site-packages/optuna/trial/_trial.py:497: UserWarning: The reported value is ignored because this `step` 9 is already reported.\n",
      "  warnings.warn(\n",
      "/home/eduardo/Documentos/Water-Cycle-Neural-Network/venv/lib/python3.12/site-packages/optuna/trial/_trial.py:497: UserWarning: The reported value is ignored because this `step` 10 is already reported.\n",
      "  warnings.warn(\n",
      "/home/eduardo/Documentos/Water-Cycle-Neural-Network/venv/lib/python3.12/site-packages/optuna/trial/_trial.py:497: UserWarning: The reported value is ignored because this `step` 11 is already reported.\n",
      "  warnings.warn(\n",
      "/home/eduardo/Documentos/Water-Cycle-Neural-Network/venv/lib/python3.12/site-packages/optuna/trial/_trial.py:497: UserWarning: The reported value is ignored because this `step` 12 is already reported.\n",
      "  warnings.warn(\n",
      "Metric val_loss improved by 0.001 >= min_delta = 0.0005. New best score: 0.024\n",
      "/home/eduardo/Documentos/Water-Cycle-Neural-Network/venv/lib/python3.12/site-packages/optuna/trial/_trial.py:497: UserWarning: The reported value is ignored because this `step` 13 is already reported.\n",
      "  warnings.warn(\n",
      "/home/eduardo/Documentos/Water-Cycle-Neural-Network/venv/lib/python3.12/site-packages/optuna/trial/_trial.py:497: UserWarning: The reported value is ignored because this `step` 14 is already reported.\n",
      "  warnings.warn(\n",
      "/home/eduardo/Documentos/Water-Cycle-Neural-Network/venv/lib/python3.12/site-packages/optuna/trial/_trial.py:497: UserWarning: The reported value is ignored because this `step` 15 is already reported.\n",
      "  warnings.warn(\n",
      "/home/eduardo/Documentos/Water-Cycle-Neural-Network/venv/lib/python3.12/site-packages/optuna/trial/_trial.py:497: UserWarning: The reported value is ignored because this `step` 16 is already reported.\n",
      "  warnings.warn(\n",
      "/home/eduardo/Documentos/Water-Cycle-Neural-Network/venv/lib/python3.12/site-packages/optuna/trial/_trial.py:497: UserWarning: The reported value is ignored because this `step` 17 is already reported.\n",
      "  warnings.warn(\n",
      "/home/eduardo/Documentos/Water-Cycle-Neural-Network/venv/lib/python3.12/site-packages/optuna/trial/_trial.py:497: UserWarning: The reported value is ignored because this `step` 18 is already reported.\n",
      "  warnings.warn(\n",
      "Monitored metric val_loss did not improve in the last 15 records. Best score: 0.024. Signaling Trainer to stop.\n",
      "GPU available: True (cuda), used: True\n",
      "TPU available: False, using: 0 TPU cores\n",
      "HPU available: False, using: 0 HPUs\n",
      "LOCAL_RANK: 0 - CUDA_VISIBLE_DEVICES: [0]\n"
     ]
    },
    {
     "name": "stdout",
     "output_type": "stream",
     "text": [
      "Model loaded from checkpoint for trial 47, fold 1\n"
     ]
    },
    {
     "name": "stderr",
     "output_type": "stream",
     "text": [
      "GPU available: True (cuda), used: True\n",
      "TPU available: False, using: 0 TPU cores\n",
      "HPU available: False, using: 0 HPUs\n",
      "LOCAL_RANK: 0 - CUDA_VISIBLE_DEVICES: [0]\n"
     ]
    },
    {
     "name": "stdout",
     "output_type": "stream",
     "text": [
      "SMAPE fold 1: 53.88678359814318\n",
      "\n",
      "Fold 3/3\n"
     ]
    },
    {
     "name": "stderr",
     "output_type": "stream",
     "text": [
      "/home/eduardo/Documentos/Water-Cycle-Neural-Network/venv/lib/python3.12/site-packages/optuna/trial/_trial.py:497: UserWarning: The reported value is ignored because this `step` 0 is already reported.\n",
      "  warnings.warn(\n",
      "Monitored metric val_loss did not improve in the last 16 records. Best score: 0.024. Signaling Trainer to stop.\n",
      "GPU available: True (cuda), used: True\n",
      "TPU available: False, using: 0 TPU cores\n",
      "HPU available: False, using: 0 HPUs\n",
      "LOCAL_RANK: 0 - CUDA_VISIBLE_DEVICES: [0]\n"
     ]
    },
    {
     "name": "stdout",
     "output_type": "stream",
     "text": [
      "Model loaded from checkpoint for trial 47, fold 2\n"
     ]
    },
    {
     "name": "stderr",
     "output_type": "stream",
     "text": [
      "[I 2025-06-10 19:31:26,793] Trial 47 finished with value: 75.31818223557848 and parameters: {'input_chunk_length': 72, 'hidden_size': 64, 'dropout': 0.4, 'batch_size': 104, 'lr': 0.0034622439183209846, 'weight_decay': 0.0003418366393068562, 'ff_size': 231, 'num_blocks': 1, 'activation': 'GELU', 'norm_type': 'LayerNorm', 'normalize_before': False}. Best is trial 47 with value: 75.31818223557848.\n",
      "GPU available: True (cuda), used: True\n",
      "TPU available: False, using: 0 TPU cores\n",
      "HPU available: False, using: 0 HPUs\n",
      "LOCAL_RANK: 0 - CUDA_VISIBLE_DEVICES: [0]\n"
     ]
    },
    {
     "name": "stdout",
     "output_type": "stream",
     "text": [
      "SMAPE fold 2: 64.03191577230737\n",
      "Média dos SMAPE nos folds: 75.31818223557848\n",
      "Results of trial 47 saved in optuna_iteration_metrics/trial_47.json\n",
      "Current value: 75.31818223557848, Current params: {'input_chunk_length': 72, 'hidden_size': 64, 'dropout': 0.4, 'batch_size': 104, 'lr': 0.0034622439183209846, 'weight_decay': 0.0003418366393068562, 'ff_size': 231, 'num_blocks': 1, 'activation': 'GELU', 'norm_type': 'LayerNorm', 'normalize_before': False}\n",
      "Best value: 75.31818223557848, Best params: {'input_chunk_length': 72, 'hidden_size': 64, 'dropout': 0.4, 'batch_size': 104, 'lr': 0.0034622439183209846, 'weight_decay': 0.0003418366393068562, 'ff_size': 231, 'num_blocks': 1, 'activation': 'GELU', 'norm_type': 'LayerNorm', 'normalize_before': False}\n",
      "\n",
      "Fold 1/3\n"
     ]
    },
    {
     "name": "stderr",
     "output_type": "stream",
     "text": [
      "[I 2025-06-10 19:31:28,138] Trial 48 pruned. Trial was pruned at epoch 0.\n"
     ]
    },
    {
     "name": "stdout",
     "output_type": "stream",
     "text": [
      "Current value: 8.186544465417898, Current params: {'input_chunk_length': 72, 'hidden_size': 48, 'dropout': 0.35, 'batch_size': 104, 'lr': 0.000513742239219471, 'weight_decay': 0.00029808931894494264, 'ff_size': 181, 'num_blocks': 1, 'activation': 'GELU', 'norm_type': 'LayerNorm', 'normalize_before': False}\n",
      "Best value: 75.31818223557848, Best params: {'input_chunk_length': 72, 'hidden_size': 64, 'dropout': 0.4, 'batch_size': 104, 'lr': 0.0034622439183209846, 'weight_decay': 0.0003418366393068562, 'ff_size': 231, 'num_blocks': 1, 'activation': 'GELU', 'norm_type': 'LayerNorm', 'normalize_before': False}\n",
      "\n",
      "Fold 1/3\n"
     ]
    },
    {
     "name": "stderr",
     "output_type": "stream",
     "text": [
      "GPU available: True (cuda), used: True\n",
      "TPU available: False, using: 0 TPU cores\n",
      "HPU available: False, using: 0 HPUs\n",
      "LOCAL_RANK: 0 - CUDA_VISIBLE_DEVICES: [0]\n",
      "Metric val_loss improved. New best score: 7.839\n",
      "Metric val_loss improved by 0.024 >= min_delta = 0.0005. New best score: 7.815\n",
      "[I 2025-06-10 19:32:27,762] Trial 49 pruned. Trial was pruned at epoch 3.\n",
      "GPU available: True (cuda), used: True\n",
      "TPU available: False, using: 0 TPU cores\n",
      "HPU available: False, using: 0 HPUs\n",
      "LOCAL_RANK: 0 - CUDA_VISIBLE_DEVICES: [0]\n"
     ]
    },
    {
     "name": "stdout",
     "output_type": "stream",
     "text": [
      "Current value: 7.784391419871278, Current params: {'input_chunk_length': 24, 'hidden_size': 64, 'dropout': 0.4, 'batch_size': 72, 'lr': 0.001945617313185882, 'weight_decay': 0.0005275467351347039, 'ff_size': 201, 'num_blocks': 1, 'activation': 'GELU', 'norm_type': 'LayerNorm', 'normalize_before': False}\n",
      "Best value: 75.31818223557848, Best params: {'input_chunk_length': 72, 'hidden_size': 64, 'dropout': 0.4, 'batch_size': 104, 'lr': 0.0034622439183209846, 'weight_decay': 0.0003418366393068562, 'ff_size': 231, 'num_blocks': 1, 'activation': 'GELU', 'norm_type': 'LayerNorm', 'normalize_before': False}\n",
      "\n",
      "Fold 1/3\n"
     ]
    },
    {
     "name": "stderr",
     "output_type": "stream",
     "text": [
      "[I 2025-06-10 19:32:29,395] Trial 50 pruned. Trial was pruned at epoch 0.\n",
      "GPU available: True (cuda), used: True\n",
      "TPU available: False, using: 0 TPU cores\n",
      "HPU available: False, using: 0 HPUs\n",
      "LOCAL_RANK: 0 - CUDA_VISIBLE_DEVICES: [0]\n"
     ]
    },
    {
     "name": "stdout",
     "output_type": "stream",
     "text": [
      "Current value: 15.971981694226729, Current params: {'input_chunk_length': 60, 'hidden_size': 80, 'dropout': 0.30000000000000004, 'batch_size': 80, 'lr': 2.1064832872975435e-05, 'weight_decay': 9.781670620490742e-05, 'ff_size': 231, 'num_blocks': 2, 'activation': 'GELU', 'norm_type': 'TimeBatchNorm2d', 'normalize_before': False}\n",
      "Best value: 75.31818223557848, Best params: {'input_chunk_length': 72, 'hidden_size': 64, 'dropout': 0.4, 'batch_size': 104, 'lr': 0.0034622439183209846, 'weight_decay': 0.0003418366393068562, 'ff_size': 231, 'num_blocks': 1, 'activation': 'GELU', 'norm_type': 'LayerNorm', 'normalize_before': False}\n",
      "\n",
      "Fold 1/3\n"
     ]
    },
    {
     "name": "stderr",
     "output_type": "stream",
     "text": [
      "[I 2025-06-10 19:32:31,098] Trial 51 pruned. Trial was pruned at epoch 0.\n",
      "GPU available: True (cuda), used: True\n",
      "TPU available: False, using: 0 TPU cores\n",
      "HPU available: False, using: 0 HPUs\n",
      "LOCAL_RANK: 0 - CUDA_VISIBLE_DEVICES: [0]\n"
     ]
    },
    {
     "name": "stdout",
     "output_type": "stream",
     "text": [
      "Current value: 8.051884227539876, Current params: {'input_chunk_length': 96, 'hidden_size': 120, 'dropout': 0.5, 'batch_size': 120, 'lr': 0.0036115089009441156, 'weight_decay': 0.00017992075677989214, 'ff_size': 209, 'num_blocks': 1, 'activation': 'GELU', 'norm_type': 'LayerNorm', 'normalize_before': False}\n",
      "Best value: 75.31818223557848, Best params: {'input_chunk_length': 72, 'hidden_size': 64, 'dropout': 0.4, 'batch_size': 104, 'lr': 0.0034622439183209846, 'weight_decay': 0.0003418366393068562, 'ff_size': 231, 'num_blocks': 1, 'activation': 'GELU', 'norm_type': 'LayerNorm', 'normalize_before': False}\n",
      "\n",
      "Fold 1/3\n"
     ]
    },
    {
     "name": "stderr",
     "output_type": "stream",
     "text": [
      "[I 2025-06-10 19:32:32,946] Trial 52 pruned. Trial was pruned at epoch 0.\n",
      "GPU available: True (cuda), used: True\n",
      "TPU available: False, using: 0 TPU cores\n",
      "HPU available: False, using: 0 HPUs\n",
      "LOCAL_RANK: 0 - CUDA_VISIBLE_DEVICES: [0]\n"
     ]
    },
    {
     "name": "stdout",
     "output_type": "stream",
     "text": [
      "Current value: 7.984003840921946, Current params: {'input_chunk_length': 72, 'hidden_size': 96, 'dropout': 0.5, 'batch_size': 128, 'lr': 0.003628139933009845, 'weight_decay': 0.004111830344131117, 'ff_size': 253, 'num_blocks': 4, 'activation': 'GELU', 'norm_type': 'LayerNorm', 'normalize_before': False}\n",
      "Best value: 75.31818223557848, Best params: {'input_chunk_length': 72, 'hidden_size': 64, 'dropout': 0.4, 'batch_size': 104, 'lr': 0.0034622439183209846, 'weight_decay': 0.0003418366393068562, 'ff_size': 231, 'num_blocks': 1, 'activation': 'GELU', 'norm_type': 'LayerNorm', 'normalize_before': False}\n",
      "\n",
      "Fold 1/3\n"
     ]
    },
    {
     "name": "stderr",
     "output_type": "stream",
     "text": [
      "Metric val_loss improved. New best score: 7.800\n",
      "Metric val_loss improved by 0.056 >= min_delta = 0.0005. New best score: 7.744\n",
      "Metric val_loss improved by 0.021 >= min_delta = 0.0005. New best score: 7.723\n",
      "Metric val_loss improved by 0.050 >= min_delta = 0.0005. New best score: 7.673\n",
      "Metric val_loss improved by 0.041 >= min_delta = 0.0005. New best score: 7.632\n",
      "Monitored metric val_loss did not improve in the last 15 records. Best score: 7.632. Signaling Trainer to stop.\n",
      "GPU available: True (cuda), used: True\n",
      "TPU available: False, using: 0 TPU cores\n",
      "HPU available: False, using: 0 HPUs\n",
      "LOCAL_RANK: 0 - CUDA_VISIBLE_DEVICES: [0]\n"
     ]
    },
    {
     "name": "stdout",
     "output_type": "stream",
     "text": [
      "Model loaded from checkpoint for trial 53, fold 0\n"
     ]
    },
    {
     "name": "stderr",
     "output_type": "stream",
     "text": [
      "GPU available: True (cuda), used: True\n",
      "TPU available: False, using: 0 TPU cores\n",
      "HPU available: False, using: 0 HPUs\n",
      "LOCAL_RANK: 0 - CUDA_VISIBLE_DEVICES: [0]\n"
     ]
    },
    {
     "name": "stdout",
     "output_type": "stream",
     "text": [
      "SMAPE fold 0: 107.35844270889918\n",
      "\n",
      "Fold 2/3\n"
     ]
    },
    {
     "name": "stderr",
     "output_type": "stream",
     "text": [
      "/home/eduardo/Documentos/Water-Cycle-Neural-Network/venv/lib/python3.12/site-packages/optuna/trial/_trial.py:497: UserWarning: The reported value is ignored because this `step` 0 is already reported.\n",
      "  warnings.warn(\n",
      "Metric val_loss improved by 7.550 >= min_delta = 0.0005. New best score: 0.082\n",
      "/home/eduardo/Documentos/Water-Cycle-Neural-Network/venv/lib/python3.12/site-packages/optuna/trial/_trial.py:497: UserWarning: The reported value is ignored because this `step` 1 is already reported.\n",
      "  warnings.warn(\n",
      "Metric val_loss improved by 0.030 >= min_delta = 0.0005. New best score: 0.052\n",
      "/home/eduardo/Documentos/Water-Cycle-Neural-Network/venv/lib/python3.12/site-packages/optuna/trial/_trial.py:497: UserWarning: The reported value is ignored because this `step` 2 is already reported.\n",
      "  warnings.warn(\n",
      "Metric val_loss improved by 0.015 >= min_delta = 0.0005. New best score: 0.036\n",
      "/home/eduardo/Documentos/Water-Cycle-Neural-Network/venv/lib/python3.12/site-packages/optuna/trial/_trial.py:497: UserWarning: The reported value is ignored because this `step` 3 is already reported.\n",
      "  warnings.warn(\n",
      "Metric val_loss improved by 0.005 >= min_delta = 0.0005. New best score: 0.031\n",
      "/home/eduardo/Documentos/Water-Cycle-Neural-Network/venv/lib/python3.12/site-packages/optuna/trial/_trial.py:497: UserWarning: The reported value is ignored because this `step` 4 is already reported.\n",
      "  warnings.warn(\n",
      "Metric val_loss improved by 0.002 >= min_delta = 0.0005. New best score: 0.029\n",
      "/home/eduardo/Documentos/Water-Cycle-Neural-Network/venv/lib/python3.12/site-packages/optuna/trial/_trial.py:497: UserWarning: The reported value is ignored because this `step` 5 is already reported.\n",
      "  warnings.warn(\n",
      "/home/eduardo/Documentos/Water-Cycle-Neural-Network/venv/lib/python3.12/site-packages/optuna/trial/_trial.py:497: UserWarning: The reported value is ignored because this `step` 6 is already reported.\n",
      "  warnings.warn(\n",
      "Metric val_loss improved by 0.003 >= min_delta = 0.0005. New best score: 0.026\n",
      "/home/eduardo/Documentos/Water-Cycle-Neural-Network/venv/lib/python3.12/site-packages/optuna/trial/_trial.py:497: UserWarning: The reported value is ignored because this `step` 7 is already reported.\n",
      "  warnings.warn(\n",
      "/home/eduardo/Documentos/Water-Cycle-Neural-Network/venv/lib/python3.12/site-packages/optuna/trial/_trial.py:497: UserWarning: The reported value is ignored because this `step` 8 is already reported.\n",
      "  warnings.warn(\n",
      "/home/eduardo/Documentos/Water-Cycle-Neural-Network/venv/lib/python3.12/site-packages/optuna/trial/_trial.py:497: UserWarning: The reported value is ignored because this `step` 9 is already reported.\n",
      "  warnings.warn(\n",
      "/home/eduardo/Documentos/Water-Cycle-Neural-Network/venv/lib/python3.12/site-packages/optuna/trial/_trial.py:497: UserWarning: The reported value is ignored because this `step` 10 is already reported.\n",
      "  warnings.warn(\n",
      "/home/eduardo/Documentos/Water-Cycle-Neural-Network/venv/lib/python3.12/site-packages/optuna/trial/_trial.py:497: UserWarning: The reported value is ignored because this `step` 11 is already reported.\n",
      "  warnings.warn(\n",
      "/home/eduardo/Documentos/Water-Cycle-Neural-Network/venv/lib/python3.12/site-packages/optuna/trial/_trial.py:497: UserWarning: The reported value is ignored because this `step` 12 is already reported.\n",
      "  warnings.warn(\n",
      "/home/eduardo/Documentos/Water-Cycle-Neural-Network/venv/lib/python3.12/site-packages/optuna/trial/_trial.py:497: UserWarning: The reported value is ignored because this `step` 13 is already reported.\n",
      "  warnings.warn(\n",
      "/home/eduardo/Documentos/Water-Cycle-Neural-Network/venv/lib/python3.12/site-packages/optuna/trial/_trial.py:497: UserWarning: The reported value is ignored because this `step` 14 is already reported.\n",
      "  warnings.warn(\n",
      "/home/eduardo/Documentos/Water-Cycle-Neural-Network/venv/lib/python3.12/site-packages/optuna/trial/_trial.py:497: UserWarning: The reported value is ignored because this `step` 15 is already reported.\n",
      "  warnings.warn(\n",
      "/home/eduardo/Documentos/Water-Cycle-Neural-Network/venv/lib/python3.12/site-packages/optuna/trial/_trial.py:497: UserWarning: The reported value is ignored because this `step` 16 is already reported.\n",
      "  warnings.warn(\n",
      "/home/eduardo/Documentos/Water-Cycle-Neural-Network/venv/lib/python3.12/site-packages/optuna/trial/_trial.py:497: UserWarning: The reported value is ignored because this `step` 17 is already reported.\n",
      "  warnings.warn(\n",
      "/home/eduardo/Documentos/Water-Cycle-Neural-Network/venv/lib/python3.12/site-packages/optuna/trial/_trial.py:497: UserWarning: The reported value is ignored because this `step` 18 is already reported.\n",
      "  warnings.warn(\n",
      "/home/eduardo/Documentos/Water-Cycle-Neural-Network/venv/lib/python3.12/site-packages/optuna/trial/_trial.py:497: UserWarning: The reported value is ignored because this `step` 19 is already reported.\n",
      "  warnings.warn(\n",
      "Monitored metric val_loss did not improve in the last 15 records. Best score: 0.026. Signaling Trainer to stop.\n",
      "GPU available: True (cuda), used: True\n",
      "TPU available: False, using: 0 TPU cores\n",
      "HPU available: False, using: 0 HPUs\n",
      "LOCAL_RANK: 0 - CUDA_VISIBLE_DEVICES: [0]\n"
     ]
    },
    {
     "name": "stdout",
     "output_type": "stream",
     "text": [
      "Model loaded from checkpoint for trial 53, fold 1\n"
     ]
    },
    {
     "name": "stderr",
     "output_type": "stream",
     "text": [
      "GPU available: True (cuda), used: True\n",
      "TPU available: False, using: 0 TPU cores\n",
      "HPU available: False, using: 0 HPUs\n",
      "LOCAL_RANK: 0 - CUDA_VISIBLE_DEVICES: [0]\n"
     ]
    },
    {
     "name": "stdout",
     "output_type": "stream",
     "text": [
      "SMAPE fold 1: 52.957153195277364\n",
      "\n",
      "Fold 3/3\n"
     ]
    },
    {
     "name": "stderr",
     "output_type": "stream",
     "text": [
      "/home/eduardo/Documentos/Water-Cycle-Neural-Network/venv/lib/python3.12/site-packages/optuna/trial/_trial.py:497: UserWarning: The reported value is ignored because this `step` 0 is already reported.\n",
      "  warnings.warn(\n",
      "Monitored metric val_loss did not improve in the last 16 records. Best score: 0.026. Signaling Trainer to stop.\n",
      "GPU available: True (cuda), used: True\n",
      "TPU available: False, using: 0 TPU cores\n",
      "HPU available: False, using: 0 HPUs\n",
      "LOCAL_RANK: 0 - CUDA_VISIBLE_DEVICES: [0]\n"
     ]
    },
    {
     "name": "stdout",
     "output_type": "stream",
     "text": [
      "Model loaded from checkpoint for trial 53, fold 2\n"
     ]
    },
    {
     "name": "stderr",
     "output_type": "stream",
     "text": [
      "[I 2025-06-10 19:37:03,543] Trial 53 finished with value: 75.34840838658029 and parameters: {'input_chunk_length': 48, 'hidden_size': 64, 'dropout': 0.4, 'batch_size': 104, 'lr': 0.0025249704847784002, 'weight_decay': 0.00716754630012356, 'ff_size': 234, 'num_blocks': 2, 'activation': 'GELU', 'norm_type': 'LayerNorm', 'normalize_before': False}. Best is trial 47 with value: 75.31818223557848.\n",
      "GPU available: True (cuda), used: True\n",
      "TPU available: False, using: 0 TPU cores\n",
      "HPU available: False, using: 0 HPUs\n",
      "LOCAL_RANK: 0 - CUDA_VISIBLE_DEVICES: [0]\n"
     ]
    },
    {
     "name": "stdout",
     "output_type": "stream",
     "text": [
      "SMAPE fold 2: 65.72962925556433\n",
      "Média dos SMAPE nos folds: 75.34840838658029\n",
      "Results of trial 53 saved in optuna_iteration_metrics/trial_53.json\n",
      "Current value: 75.34840838658029, Current params: {'input_chunk_length': 48, 'hidden_size': 64, 'dropout': 0.4, 'batch_size': 104, 'lr': 0.0025249704847784002, 'weight_decay': 0.00716754630012356, 'ff_size': 234, 'num_blocks': 2, 'activation': 'GELU', 'norm_type': 'LayerNorm', 'normalize_before': False}\n",
      "Best value: 75.31818223557848, Best params: {'input_chunk_length': 72, 'hidden_size': 64, 'dropout': 0.4, 'batch_size': 104, 'lr': 0.0034622439183209846, 'weight_decay': 0.0003418366393068562, 'ff_size': 231, 'num_blocks': 1, 'activation': 'GELU', 'norm_type': 'LayerNorm', 'normalize_before': False}\n",
      "\n",
      "Fold 1/3\n"
     ]
    },
    {
     "name": "stderr",
     "output_type": "stream",
     "text": [
      "Metric val_loss improved. New best score: 7.842\n",
      "Metric val_loss improved by 0.099 >= min_delta = 0.0005. New best score: 7.743\n",
      "Metric val_loss improved by 0.031 >= min_delta = 0.0005. New best score: 7.713\n",
      "Metric val_loss improved by 0.023 >= min_delta = 0.0005. New best score: 7.689\n",
      "Monitored metric val_loss did not improve in the last 15 records. Best score: 7.689. Signaling Trainer to stop.\n",
      "GPU available: True (cuda), used: True\n",
      "TPU available: False, using: 0 TPU cores\n",
      "HPU available: False, using: 0 HPUs\n",
      "LOCAL_RANK: 0 - CUDA_VISIBLE_DEVICES: [0]\n"
     ]
    },
    {
     "name": "stdout",
     "output_type": "stream",
     "text": [
      "Model loaded from checkpoint for trial 54, fold 0\n"
     ]
    },
    {
     "name": "stderr",
     "output_type": "stream",
     "text": [
      "GPU available: True (cuda), used: True\n",
      "TPU available: False, using: 0 TPU cores\n",
      "HPU available: False, using: 0 HPUs\n",
      "LOCAL_RANK: 0 - CUDA_VISIBLE_DEVICES: [0]\n"
     ]
    },
    {
     "name": "stdout",
     "output_type": "stream",
     "text": [
      "SMAPE fold 0: 114.79708135251474\n",
      "\n",
      "Fold 2/3\n"
     ]
    },
    {
     "name": "stderr",
     "output_type": "stream",
     "text": [
      "/home/eduardo/Documentos/Water-Cycle-Neural-Network/venv/lib/python3.12/site-packages/optuna/trial/_trial.py:497: UserWarning: The reported value is ignored because this `step` 0 is already reported.\n",
      "  warnings.warn(\n",
      "Metric val_loss improved by 7.580 >= min_delta = 0.0005. New best score: 0.109\n",
      "/home/eduardo/Documentos/Water-Cycle-Neural-Network/venv/lib/python3.12/site-packages/optuna/trial/_trial.py:497: UserWarning: The reported value is ignored because this `step` 1 is already reported.\n",
      "  warnings.warn(\n",
      "Metric val_loss improved by 0.042 >= min_delta = 0.0005. New best score: 0.068\n",
      "/home/eduardo/Documentos/Water-Cycle-Neural-Network/venv/lib/python3.12/site-packages/optuna/trial/_trial.py:497: UserWarning: The reported value is ignored because this `step` 2 is already reported.\n",
      "  warnings.warn(\n",
      "Metric val_loss improved by 0.028 >= min_delta = 0.0005. New best score: 0.040\n",
      "/home/eduardo/Documentos/Water-Cycle-Neural-Network/venv/lib/python3.12/site-packages/optuna/trial/_trial.py:497: UserWarning: The reported value is ignored because this `step` 3 is already reported.\n",
      "  warnings.warn(\n",
      "Metric val_loss improved by 0.005 >= min_delta = 0.0005. New best score: 0.035\n",
      "/home/eduardo/Documentos/Water-Cycle-Neural-Network/venv/lib/python3.12/site-packages/optuna/trial/_trial.py:497: UserWarning: The reported value is ignored because this `step` 4 is already reported.\n",
      "  warnings.warn(\n",
      "Metric val_loss improved by 0.009 >= min_delta = 0.0005. New best score: 0.026\n",
      "/home/eduardo/Documentos/Water-Cycle-Neural-Network/venv/lib/python3.12/site-packages/optuna/trial/_trial.py:497: UserWarning: The reported value is ignored because this `step` 5 is already reported.\n",
      "  warnings.warn(\n",
      "/home/eduardo/Documentos/Water-Cycle-Neural-Network/venv/lib/python3.12/site-packages/optuna/trial/_trial.py:497: UserWarning: The reported value is ignored because this `step` 6 is already reported.\n",
      "  warnings.warn(\n",
      "/home/eduardo/Documentos/Water-Cycle-Neural-Network/venv/lib/python3.12/site-packages/optuna/trial/_trial.py:497: UserWarning: The reported value is ignored because this `step` 7 is already reported.\n",
      "  warnings.warn(\n",
      "Metric val_loss improved by 0.004 >= min_delta = 0.0005. New best score: 0.021\n",
      "/home/eduardo/Documentos/Water-Cycle-Neural-Network/venv/lib/python3.12/site-packages/optuna/trial/_trial.py:497: UserWarning: The reported value is ignored because this `step` 8 is already reported.\n",
      "  warnings.warn(\n",
      "/home/eduardo/Documentos/Water-Cycle-Neural-Network/venv/lib/python3.12/site-packages/optuna/trial/_trial.py:497: UserWarning: The reported value is ignored because this `step` 9 is already reported.\n",
      "  warnings.warn(\n",
      "/home/eduardo/Documentos/Water-Cycle-Neural-Network/venv/lib/python3.12/site-packages/optuna/trial/_trial.py:497: UserWarning: The reported value is ignored because this `step` 10 is already reported.\n",
      "  warnings.warn(\n",
      "/home/eduardo/Documentos/Water-Cycle-Neural-Network/venv/lib/python3.12/site-packages/optuna/trial/_trial.py:497: UserWarning: The reported value is ignored because this `step` 11 is already reported.\n",
      "  warnings.warn(\n",
      "/home/eduardo/Documentos/Water-Cycle-Neural-Network/venv/lib/python3.12/site-packages/optuna/trial/_trial.py:497: UserWarning: The reported value is ignored because this `step` 12 is already reported.\n",
      "  warnings.warn(\n",
      "/home/eduardo/Documentos/Water-Cycle-Neural-Network/venv/lib/python3.12/site-packages/optuna/trial/_trial.py:497: UserWarning: The reported value is ignored because this `step` 13 is already reported.\n",
      "  warnings.warn(\n",
      "/home/eduardo/Documentos/Water-Cycle-Neural-Network/venv/lib/python3.12/site-packages/optuna/trial/_trial.py:497: UserWarning: The reported value is ignored because this `step` 14 is already reported.\n",
      "  warnings.warn(\n",
      "/home/eduardo/Documentos/Water-Cycle-Neural-Network/venv/lib/python3.12/site-packages/optuna/trial/_trial.py:497: UserWarning: The reported value is ignored because this `step` 15 is already reported.\n",
      "  warnings.warn(\n",
      "/home/eduardo/Documentos/Water-Cycle-Neural-Network/venv/lib/python3.12/site-packages/optuna/trial/_trial.py:497: UserWarning: The reported value is ignored because this `step` 16 is already reported.\n",
      "  warnings.warn(\n",
      "/home/eduardo/Documentos/Water-Cycle-Neural-Network/venv/lib/python3.12/site-packages/optuna/trial/_trial.py:497: UserWarning: The reported value is ignored because this `step` 17 is already reported.\n",
      "  warnings.warn(\n",
      "/home/eduardo/Documentos/Water-Cycle-Neural-Network/venv/lib/python3.12/site-packages/optuna/trial/_trial.py:497: UserWarning: The reported value is ignored because this `step` 18 is already reported.\n",
      "  warnings.warn(\n",
      "Monitored metric val_loss did not improve in the last 15 records. Best score: 0.021. Signaling Trainer to stop.\n",
      "GPU available: True (cuda), used: True\n",
      "TPU available: False, using: 0 TPU cores\n",
      "HPU available: False, using: 0 HPUs\n",
      "LOCAL_RANK: 0 - CUDA_VISIBLE_DEVICES: [0]\n"
     ]
    },
    {
     "name": "stdout",
     "output_type": "stream",
     "text": [
      "Model loaded from checkpoint for trial 54, fold 1\n"
     ]
    },
    {
     "name": "stderr",
     "output_type": "stream",
     "text": [
      "GPU available: True (cuda), used: True\n",
      "TPU available: False, using: 0 TPU cores\n",
      "HPU available: False, using: 0 HPUs\n",
      "LOCAL_RANK: 0 - CUDA_VISIBLE_DEVICES: [0]\n"
     ]
    },
    {
     "name": "stdout",
     "output_type": "stream",
     "text": [
      "SMAPE fold 1: 54.191619084460996\n",
      "\n",
      "Fold 3/3\n"
     ]
    },
    {
     "name": "stderr",
     "output_type": "stream",
     "text": [
      "/home/eduardo/Documentos/Water-Cycle-Neural-Network/venv/lib/python3.12/site-packages/optuna/trial/_trial.py:497: UserWarning: The reported value is ignored because this `step` 0 is already reported.\n",
      "  warnings.warn(\n",
      "Monitored metric val_loss did not improve in the last 16 records. Best score: 0.021. Signaling Trainer to stop.\n",
      "GPU available: True (cuda), used: True\n",
      "TPU available: False, using: 0 TPU cores\n",
      "HPU available: False, using: 0 HPUs\n",
      "LOCAL_RANK: 0 - CUDA_VISIBLE_DEVICES: [0]\n"
     ]
    },
    {
     "name": "stdout",
     "output_type": "stream",
     "text": [
      "Model loaded from checkpoint for trial 54, fold 2\n"
     ]
    },
    {
     "name": "stderr",
     "output_type": "stream",
     "text": [
      "[I 2025-06-10 19:37:52,446] Trial 54 finished with value: 79.61908136535745 and parameters: {'input_chunk_length': 48, 'hidden_size': 64, 'dropout': 0.4, 'batch_size': 104, 'lr': 0.002288556579722316, 'weight_decay': 0.0009270202556310169, 'ff_size': 235, 'num_blocks': 2, 'activation': 'GELU', 'norm_type': 'LayerNorm', 'normalize_before': False}. Best is trial 47 with value: 75.31818223557848.\n",
      "GPU available: True (cuda), used: True\n",
      "TPU available: False, using: 0 TPU cores\n",
      "HPU available: False, using: 0 HPUs\n",
      "LOCAL_RANK: 0 - CUDA_VISIBLE_DEVICES: [0]\n"
     ]
    },
    {
     "name": "stdout",
     "output_type": "stream",
     "text": [
      "SMAPE fold 2: 69.86854365909663\n",
      "Média dos SMAPE nos folds: 79.61908136535745\n",
      "Results of trial 54 saved in optuna_iteration_metrics/trial_54.json\n",
      "Current value: 79.61908136535745, Current params: {'input_chunk_length': 48, 'hidden_size': 64, 'dropout': 0.4, 'batch_size': 104, 'lr': 0.002288556579722316, 'weight_decay': 0.0009270202556310169, 'ff_size': 235, 'num_blocks': 2, 'activation': 'GELU', 'norm_type': 'LayerNorm', 'normalize_before': False}\n",
      "Best value: 75.31818223557848, Best params: {'input_chunk_length': 72, 'hidden_size': 64, 'dropout': 0.4, 'batch_size': 104, 'lr': 0.0034622439183209846, 'weight_decay': 0.0003418366393068562, 'ff_size': 231, 'num_blocks': 1, 'activation': 'GELU', 'norm_type': 'LayerNorm', 'normalize_before': False}\n",
      "\n",
      "Fold 1/3\n"
     ]
    },
    {
     "name": "stderr",
     "output_type": "stream",
     "text": [
      "[I 2025-06-10 19:37:53,722] Trial 55 pruned. Trial was pruned at epoch 0.\n",
      "GPU available: True (cuda), used: True\n",
      "TPU available: False, using: 0 TPU cores\n",
      "HPU available: False, using: 0 HPUs\n",
      "LOCAL_RANK: 0 - CUDA_VISIBLE_DEVICES: [0]\n"
     ]
    },
    {
     "name": "stdout",
     "output_type": "stream",
     "text": [
      "Current value: 8.049524986903227, Current params: {'input_chunk_length': 36, 'hidden_size': 40, 'dropout': 0.45000000000000007, 'batch_size': 88, 'lr': 0.0015902059712202938, 'weight_decay': 0.00223362446141909, 'ff_size': 152, 'num_blocks': 1, 'activation': 'GELU', 'norm_type': 'LayerNorm', 'normalize_before': False}\n",
      "Best value: 75.31818223557848, Best params: {'input_chunk_length': 72, 'hidden_size': 64, 'dropout': 0.4, 'batch_size': 104, 'lr': 0.0034622439183209846, 'weight_decay': 0.0003418366393068562, 'ff_size': 231, 'num_blocks': 1, 'activation': 'GELU', 'norm_type': 'LayerNorm', 'normalize_before': False}\n",
      "\n",
      "Fold 1/3\n"
     ]
    },
    {
     "name": "stderr",
     "output_type": "stream",
     "text": [
      "[I 2025-06-10 19:37:55,314] Trial 56 pruned. Trial was pruned at epoch 0.\n",
      "GPU available: True (cuda), used: True\n",
      "TPU available: False, using: 0 TPU cores\n",
      "HPU available: False, using: 0 HPUs\n",
      "LOCAL_RANK: 0 - CUDA_VISIBLE_DEVICES: [0]\n"
     ]
    },
    {
     "name": "stdout",
     "output_type": "stream",
     "text": [
      "Current value: 7.94773725793535, Current params: {'input_chunk_length': 48, 'hidden_size': 64, 'dropout': 0.35, 'batch_size': 96, 'lr': 0.00025431185859773323, 'weight_decay': 0.0002580582095059525, 'ff_size': 213, 'num_blocks': 2, 'activation': 'GELU', 'norm_type': 'LayerNorm', 'normalize_before': False}\n",
      "Best value: 75.31818223557848, Best params: {'input_chunk_length': 72, 'hidden_size': 64, 'dropout': 0.4, 'batch_size': 104, 'lr': 0.0034622439183209846, 'weight_decay': 0.0003418366393068562, 'ff_size': 231, 'num_blocks': 1, 'activation': 'GELU', 'norm_type': 'LayerNorm', 'normalize_before': False}\n",
      "\n",
      "Fold 1/3\n"
     ]
    },
    {
     "name": "stderr",
     "output_type": "stream",
     "text": [
      "[I 2025-06-10 19:37:57,018] Trial 57 pruned. Trial was pruned at epoch 0.\n",
      "GPU available: True (cuda), used: True\n",
      "TPU available: False, using: 0 TPU cores\n",
      "HPU available: False, using: 0 HPUs\n",
      "LOCAL_RANK: 0 - CUDA_VISIBLE_DEVICES: [0]\n"
     ]
    },
    {
     "name": "stdout",
     "output_type": "stream",
     "text": [
      "Current value: 7.921879434476503, Current params: {'input_chunk_length': 60, 'hidden_size': 48, 'dropout': 0.4, 'batch_size': 112, 'lr': 0.0010624252651234296, 'weight_decay': 0.00648880959288393, 'ff_size': 182, 'num_blocks': 1, 'activation': 'GELU', 'norm_type': 'LayerNorm', 'normalize_before': False}\n",
      "Best value: 75.31818223557848, Best params: {'input_chunk_length': 72, 'hidden_size': 64, 'dropout': 0.4, 'batch_size': 104, 'lr': 0.0034622439183209846, 'weight_decay': 0.0003418366393068562, 'ff_size': 231, 'num_blocks': 1, 'activation': 'GELU', 'norm_type': 'LayerNorm', 'normalize_before': False}\n",
      "\n",
      "Fold 1/3\n"
     ]
    },
    {
     "name": "stderr",
     "output_type": "stream",
     "text": [
      "[I 2025-06-10 19:37:58,874] Trial 58 pruned. Trial was pruned at epoch 0.\n",
      "GPU available: True (cuda), used: True\n",
      "TPU available: False, using: 0 TPU cores\n",
      "HPU available: False, using: 0 HPUs\n",
      "LOCAL_RANK: 0 - CUDA_VISIBLE_DEVICES: [0]\n"
     ]
    },
    {
     "name": "stdout",
     "output_type": "stream",
     "text": [
      "Current value: 12.12625983780217, Current params: {'input_chunk_length': 72, 'hidden_size': 80, 'dropout': 0.30000000000000004, 'batch_size': 88, 'lr': 0.0028432209836822047, 'weight_decay': 0.0004884937698729627, 'ff_size': 243, 'num_blocks': 2, 'activation': 'GELU', 'norm_type': 'TimeBatchNorm2d', 'normalize_before': False}\n",
      "Best value: 75.31818223557848, Best params: {'input_chunk_length': 72, 'hidden_size': 64, 'dropout': 0.4, 'batch_size': 104, 'lr': 0.0034622439183209846, 'weight_decay': 0.0003418366393068562, 'ff_size': 231, 'num_blocks': 1, 'activation': 'GELU', 'norm_type': 'LayerNorm', 'normalize_before': False}\n",
      "\n",
      "Fold 1/3\n"
     ]
    },
    {
     "name": "stderr",
     "output_type": "stream",
     "text": [
      "Metric val_loss improved. New best score: 7.718\n",
      "Metric val_loss improved by 0.031 >= min_delta = 0.0005. New best score: 7.688\n",
      "Metric val_loss improved by 0.070 >= min_delta = 0.0005. New best score: 7.617\n",
      "Metric val_loss improved by 0.033 >= min_delta = 0.0005. New best score: 7.584\n",
      "Metric val_loss improved by 0.058 >= min_delta = 0.0005. New best score: 7.526\n",
      "Metric val_loss improved by 0.026 >= min_delta = 0.0005. New best score: 7.500\n",
      "Monitored metric val_loss did not improve in the last 15 records. Best score: 7.500. Signaling Trainer to stop.\n",
      "GPU available: True (cuda), used: True\n",
      "TPU available: False, using: 0 TPU cores\n",
      "HPU available: False, using: 0 HPUs\n",
      "LOCAL_RANK: 0 - CUDA_VISIBLE_DEVICES: [0]\n"
     ]
    },
    {
     "name": "stdout",
     "output_type": "stream",
     "text": [
      "Model loaded from checkpoint for trial 59, fold 0\n"
     ]
    },
    {
     "name": "stderr",
     "output_type": "stream",
     "text": [
      "GPU available: True (cuda), used: True\n",
      "TPU available: False, using: 0 TPU cores\n",
      "HPU available: False, using: 0 HPUs\n",
      "LOCAL_RANK: 0 - CUDA_VISIBLE_DEVICES: [0]\n"
     ]
    },
    {
     "name": "stdout",
     "output_type": "stream",
     "text": [
      "SMAPE fold 0: 95.260369110966\n",
      "\n",
      "Fold 2/3\n"
     ]
    },
    {
     "name": "stderr",
     "output_type": "stream",
     "text": [
      "/home/eduardo/Documentos/Water-Cycle-Neural-Network/venv/lib/python3.12/site-packages/optuna/trial/_trial.py:497: UserWarning: The reported value is ignored because this `step` 0 is already reported.\n",
      "  warnings.warn(\n",
      "Metric val_loss improved by 7.380 >= min_delta = 0.0005. New best score: 0.120\n",
      "/home/eduardo/Documentos/Water-Cycle-Neural-Network/venv/lib/python3.12/site-packages/optuna/trial/_trial.py:497: UserWarning: The reported value is ignored because this `step` 1 is already reported.\n",
      "  warnings.warn(\n",
      "Metric val_loss improved by 0.001 >= min_delta = 0.0005. New best score: 0.119\n",
      "/home/eduardo/Documentos/Water-Cycle-Neural-Network/venv/lib/python3.12/site-packages/optuna/trial/_trial.py:497: UserWarning: The reported value is ignored because this `step` 2 is already reported.\n",
      "  warnings.warn(\n",
      "Metric val_loss improved by 0.018 >= min_delta = 0.0005. New best score: 0.101\n",
      "/home/eduardo/Documentos/Water-Cycle-Neural-Network/venv/lib/python3.12/site-packages/optuna/trial/_trial.py:497: UserWarning: The reported value is ignored because this `step` 3 is already reported.\n",
      "  warnings.warn(\n",
      "Metric val_loss improved by 0.021 >= min_delta = 0.0005. New best score: 0.080\n",
      "/home/eduardo/Documentos/Water-Cycle-Neural-Network/venv/lib/python3.12/site-packages/optuna/trial/_trial.py:497: UserWarning: The reported value is ignored because this `step` 4 is already reported.\n",
      "  warnings.warn(\n",
      "Metric val_loss improved by 0.044 >= min_delta = 0.0005. New best score: 0.036\n",
      "/home/eduardo/Documentos/Water-Cycle-Neural-Network/venv/lib/python3.12/site-packages/optuna/trial/_trial.py:497: UserWarning: The reported value is ignored because this `step` 5 is already reported.\n",
      "  warnings.warn(\n",
      "Metric val_loss improved by 0.009 >= min_delta = 0.0005. New best score: 0.027\n",
      "/home/eduardo/Documentos/Water-Cycle-Neural-Network/venv/lib/python3.12/site-packages/optuna/trial/_trial.py:497: UserWarning: The reported value is ignored because this `step` 6 is already reported.\n",
      "  warnings.warn(\n",
      "Metric val_loss improved by 0.001 >= min_delta = 0.0005. New best score: 0.027\n",
      "/home/eduardo/Documentos/Water-Cycle-Neural-Network/venv/lib/python3.12/site-packages/optuna/trial/_trial.py:497: UserWarning: The reported value is ignored because this `step` 7 is already reported.\n",
      "  warnings.warn(\n",
      "Metric val_loss improved by 0.005 >= min_delta = 0.0005. New best score: 0.022\n",
      "/home/eduardo/Documentos/Water-Cycle-Neural-Network/venv/lib/python3.12/site-packages/optuna/trial/_trial.py:497: UserWarning: The reported value is ignored because this `step` 8 is already reported.\n",
      "  warnings.warn(\n",
      "/home/eduardo/Documentos/Water-Cycle-Neural-Network/venv/lib/python3.12/site-packages/optuna/trial/_trial.py:497: UserWarning: The reported value is ignored because this `step` 9 is already reported.\n",
      "  warnings.warn(\n",
      "/home/eduardo/Documentos/Water-Cycle-Neural-Network/venv/lib/python3.12/site-packages/optuna/trial/_trial.py:497: UserWarning: The reported value is ignored because this `step` 10 is already reported.\n",
      "  warnings.warn(\n",
      "/home/eduardo/Documentos/Water-Cycle-Neural-Network/venv/lib/python3.12/site-packages/optuna/trial/_trial.py:497: UserWarning: The reported value is ignored because this `step` 11 is already reported.\n",
      "  warnings.warn(\n",
      "/home/eduardo/Documentos/Water-Cycle-Neural-Network/venv/lib/python3.12/site-packages/optuna/trial/_trial.py:497: UserWarning: The reported value is ignored because this `step` 12 is already reported.\n",
      "  warnings.warn(\n",
      "Metric val_loss improved by 0.001 >= min_delta = 0.0005. New best score: 0.021\n",
      "/home/eduardo/Documentos/Water-Cycle-Neural-Network/venv/lib/python3.12/site-packages/optuna/trial/_trial.py:497: UserWarning: The reported value is ignored because this `step` 13 is already reported.\n",
      "  warnings.warn(\n",
      "/home/eduardo/Documentos/Water-Cycle-Neural-Network/venv/lib/python3.12/site-packages/optuna/trial/_trial.py:497: UserWarning: The reported value is ignored because this `step` 14 is already reported.\n",
      "  warnings.warn(\n",
      "/home/eduardo/Documentos/Water-Cycle-Neural-Network/venv/lib/python3.12/site-packages/optuna/trial/_trial.py:497: UserWarning: The reported value is ignored because this `step` 15 is already reported.\n",
      "  warnings.warn(\n",
      "/home/eduardo/Documentos/Water-Cycle-Neural-Network/venv/lib/python3.12/site-packages/optuna/trial/_trial.py:497: UserWarning: The reported value is ignored because this `step` 16 is already reported.\n",
      "  warnings.warn(\n",
      "/home/eduardo/Documentos/Water-Cycle-Neural-Network/venv/lib/python3.12/site-packages/optuna/trial/_trial.py:497: UserWarning: The reported value is ignored because this `step` 17 is already reported.\n",
      "  warnings.warn(\n",
      "/home/eduardo/Documentos/Water-Cycle-Neural-Network/venv/lib/python3.12/site-packages/optuna/trial/_trial.py:497: UserWarning: The reported value is ignored because this `step` 18 is already reported.\n",
      "  warnings.warn(\n",
      "/home/eduardo/Documentos/Water-Cycle-Neural-Network/venv/lib/python3.12/site-packages/optuna/trial/_trial.py:497: UserWarning: The reported value is ignored because this `step` 19 is already reported.\n",
      "  warnings.warn(\n",
      "/home/eduardo/Documentos/Water-Cycle-Neural-Network/venv/lib/python3.12/site-packages/optuna/trial/_trial.py:497: UserWarning: The reported value is ignored because this `step` 20 is already reported.\n",
      "  warnings.warn(\n",
      "Monitored metric val_loss did not improve in the last 15 records. Best score: 0.021. Signaling Trainer to stop.\n",
      "GPU available: True (cuda), used: True\n",
      "TPU available: False, using: 0 TPU cores\n",
      "HPU available: False, using: 0 HPUs\n",
      "LOCAL_RANK: 0 - CUDA_VISIBLE_DEVICES: [0]\n"
     ]
    },
    {
     "name": "stdout",
     "output_type": "stream",
     "text": [
      "Model loaded from checkpoint for trial 59, fold 1\n"
     ]
    },
    {
     "name": "stderr",
     "output_type": "stream",
     "text": [
      "GPU available: True (cuda), used: True\n",
      "TPU available: False, using: 0 TPU cores\n",
      "HPU available: False, using: 0 HPUs\n",
      "LOCAL_RANK: 0 - CUDA_VISIBLE_DEVICES: [0]\n"
     ]
    },
    {
     "name": "stdout",
     "output_type": "stream",
     "text": [
      "SMAPE fold 1: 52.590915616164686\n",
      "\n",
      "Fold 3/3\n"
     ]
    },
    {
     "name": "stderr",
     "output_type": "stream",
     "text": [
      "/home/eduardo/Documentos/Water-Cycle-Neural-Network/venv/lib/python3.12/site-packages/optuna/trial/_trial.py:497: UserWarning: The reported value is ignored because this `step` 0 is already reported.\n",
      "  warnings.warn(\n",
      "Monitored metric val_loss did not improve in the last 16 records. Best score: 0.021. Signaling Trainer to stop.\n",
      "GPU available: True (cuda), used: True\n",
      "TPU available: False, using: 0 TPU cores\n",
      "HPU available: False, using: 0 HPUs\n",
      "LOCAL_RANK: 0 - CUDA_VISIBLE_DEVICES: [0]\n"
     ]
    },
    {
     "name": "stdout",
     "output_type": "stream",
     "text": [
      "Model loaded from checkpoint for trial 59, fold 2\n"
     ]
    },
    {
     "name": "stderr",
     "output_type": "stream",
     "text": [
      "[I 2025-06-10 19:42:46,094] Trial 59 finished with value: 76.83972715863187 and parameters: {'input_chunk_length': 24, 'hidden_size': 72, 'dropout': 0.45000000000000007, 'batch_size': 72, 'lr': 0.000722971412843138, 'weight_decay': 0.001473748750632692, 'ff_size': 198, 'num_blocks': 3, 'activation': 'GELU', 'norm_type': 'LayerNorm', 'normalize_before': False}. Best is trial 47 with value: 75.31818223557848.\n",
      "GPU available: True (cuda), used: True\n",
      "TPU available: False, using: 0 TPU cores\n",
      "HPU available: False, using: 0 HPUs\n",
      "LOCAL_RANK: 0 - CUDA_VISIBLE_DEVICES: [0]\n"
     ]
    },
    {
     "name": "stdout",
     "output_type": "stream",
     "text": [
      "SMAPE fold 2: 82.66789674876495\n",
      "Média dos SMAPE nos folds: 76.83972715863187\n",
      "Results of trial 59 saved in optuna_iteration_metrics/trial_59.json\n",
      "Current value: 76.83972715863187, Current params: {'input_chunk_length': 24, 'hidden_size': 72, 'dropout': 0.45000000000000007, 'batch_size': 72, 'lr': 0.000722971412843138, 'weight_decay': 0.001473748750632692, 'ff_size': 198, 'num_blocks': 3, 'activation': 'GELU', 'norm_type': 'LayerNorm', 'normalize_before': False}\n",
      "Best value: 75.31818223557848, Best params: {'input_chunk_length': 72, 'hidden_size': 64, 'dropout': 0.4, 'batch_size': 104, 'lr': 0.0034622439183209846, 'weight_decay': 0.0003418366393068562, 'ff_size': 231, 'num_blocks': 1, 'activation': 'GELU', 'norm_type': 'LayerNorm', 'normalize_before': False}\n",
      "\n",
      "Fold 1/3\n"
     ]
    },
    {
     "name": "stderr",
     "output_type": "stream",
     "text": [
      "Metric val_loss improved. New best score: 7.789\n",
      "Metric val_loss improved by 0.017 >= min_delta = 0.0005. New best score: 7.772\n",
      "Metric val_loss improved by 0.023 >= min_delta = 0.0005. New best score: 7.749\n",
      "Metric val_loss improved by 0.030 >= min_delta = 0.0005. New best score: 7.719\n",
      "Metric val_loss improved by 0.022 >= min_delta = 0.0005. New best score: 7.697\n",
      "Metric val_loss improved by 0.023 >= min_delta = 0.0005. New best score: 7.673\n",
      "Metric val_loss improved by 0.009 >= min_delta = 0.0005. New best score: 7.664\n",
      "Metric val_loss improved by 0.006 >= min_delta = 0.0005. New best score: 7.658\n",
      "Metric val_loss improved by 0.009 >= min_delta = 0.0005. New best score: 7.649\n",
      "Metric val_loss improved by 0.005 >= min_delta = 0.0005. New best score: 7.644\n",
      "Metric val_loss improved by 0.008 >= min_delta = 0.0005. New best score: 7.636\n",
      "Metric val_loss improved by 0.004 >= min_delta = 0.0005. New best score: 7.633\n",
      "Metric val_loss improved by 0.004 >= min_delta = 0.0005. New best score: 7.629\n",
      "[I 2025-06-10 19:43:12,986] Trial 60 pruned. Trial was pruned at epoch 26.\n",
      "GPU available: True (cuda), used: True\n",
      "TPU available: False, using: 0 TPU cores\n",
      "HPU available: False, using: 0 HPUs\n",
      "LOCAL_RANK: 0 - CUDA_VISIBLE_DEVICES: [0]\n"
     ]
    },
    {
     "name": "stdout",
     "output_type": "stream",
     "text": [
      "Current value: 7.653297971830929, Current params: {'input_chunk_length': 24, 'hidden_size': 40, 'dropout': 0.4, 'batch_size': 64, 'lr': 0.0006320742405408411, 'weight_decay': 0.0014370320108476403, 'ff_size': 155, 'num_blocks': 3, 'activation': 'GELU', 'norm_type': 'LayerNorm', 'normalize_before': False}\n",
      "Best value: 75.31818223557848, Best params: {'input_chunk_length': 72, 'hidden_size': 64, 'dropout': 0.4, 'batch_size': 104, 'lr': 0.0034622439183209846, 'weight_decay': 0.0003418366393068562, 'ff_size': 231, 'num_blocks': 1, 'activation': 'GELU', 'norm_type': 'LayerNorm', 'normalize_before': False}\n",
      "\n",
      "Fold 1/3\n"
     ]
    },
    {
     "name": "stderr",
     "output_type": "stream",
     "text": [
      "[I 2025-06-10 19:43:14,586] Trial 61 pruned. Trial was pruned at epoch 0.\n",
      "GPU available: True (cuda), used: True\n",
      "TPU available: False, using: 0 TPU cores\n",
      "HPU available: False, using: 0 HPUs\n",
      "LOCAL_RANK: 0 - CUDA_VISIBLE_DEVICES: [0]\n"
     ]
    },
    {
     "name": "stdout",
     "output_type": "stream",
     "text": [
      "Current value: 7.992113158573456, Current params: {'input_chunk_length': 48, 'hidden_size': 72, 'dropout': 0.45000000000000007, 'batch_size': 80, 'lr': 0.0002503698968835912, 'weight_decay': 0.0036421497020244654, 'ff_size': 196, 'num_blocks': 3, 'activation': 'GELU', 'norm_type': 'LayerNorm', 'normalize_before': False}\n",
      "Best value: 75.31818223557848, Best params: {'input_chunk_length': 72, 'hidden_size': 64, 'dropout': 0.4, 'batch_size': 104, 'lr': 0.0034622439183209846, 'weight_decay': 0.0003418366393068562, 'ff_size': 231, 'num_blocks': 1, 'activation': 'GELU', 'norm_type': 'LayerNorm', 'normalize_before': False}\n",
      "\n",
      "Fold 1/3\n"
     ]
    },
    {
     "name": "stderr",
     "output_type": "stream",
     "text": [
      "Metric val_loss improved. New best score: 7.748\n",
      "Metric val_loss improved by 0.052 >= min_delta = 0.0005. New best score: 7.696\n",
      "Metric val_loss improved by 0.065 >= min_delta = 0.0005. New best score: 7.631\n",
      "Metric val_loss improved by 0.023 >= min_delta = 0.0005. New best score: 7.608\n",
      "Metric val_loss improved by 0.020 >= min_delta = 0.0005. New best score: 7.588\n",
      "Metric val_loss improved by 0.014 >= min_delta = 0.0005. New best score: 7.574\n",
      "Metric val_loss improved by 0.015 >= min_delta = 0.0005. New best score: 7.559\n",
      "Monitored metric val_loss did not improve in the last 15 records. Best score: 7.559. Signaling Trainer to stop.\n",
      "GPU available: True (cuda), used: True\n",
      "TPU available: False, using: 0 TPU cores\n",
      "HPU available: False, using: 0 HPUs\n",
      "LOCAL_RANK: 0 - CUDA_VISIBLE_DEVICES: [0]\n"
     ]
    },
    {
     "name": "stdout",
     "output_type": "stream",
     "text": [
      "Model loaded from checkpoint for trial 62, fold 0\n"
     ]
    },
    {
     "name": "stderr",
     "output_type": "stream",
     "text": [
      "GPU available: True (cuda), used: True\n",
      "TPU available: False, using: 0 TPU cores\n",
      "HPU available: False, using: 0 HPUs\n",
      "LOCAL_RANK: 0 - CUDA_VISIBLE_DEVICES: [0]\n"
     ]
    },
    {
     "name": "stdout",
     "output_type": "stream",
     "text": [
      "SMAPE fold 0: 125.42310565087504\n",
      "\n",
      "Fold 2/3\n"
     ]
    },
    {
     "name": "stderr",
     "output_type": "stream",
     "text": [
      "/home/eduardo/Documentos/Water-Cycle-Neural-Network/venv/lib/python3.12/site-packages/optuna/trial/_trial.py:497: UserWarning: The reported value is ignored because this `step` 0 is already reported.\n",
      "  warnings.warn(\n",
      "Metric val_loss improved by 7.458 >= min_delta = 0.0005. New best score: 0.101\n",
      "/home/eduardo/Documentos/Water-Cycle-Neural-Network/venv/lib/python3.12/site-packages/optuna/trial/_trial.py:497: UserWarning: The reported value is ignored because this `step` 1 is already reported.\n",
      "  warnings.warn(\n",
      "Metric val_loss improved by 0.050 >= min_delta = 0.0005. New best score: 0.051\n",
      "/home/eduardo/Documentos/Water-Cycle-Neural-Network/venv/lib/python3.12/site-packages/optuna/trial/_trial.py:497: UserWarning: The reported value is ignored because this `step` 2 is already reported.\n",
      "  warnings.warn(\n",
      "Metric val_loss improved by 0.002 >= min_delta = 0.0005. New best score: 0.050\n",
      "/home/eduardo/Documentos/Water-Cycle-Neural-Network/venv/lib/python3.12/site-packages/optuna/trial/_trial.py:497: UserWarning: The reported value is ignored because this `step` 3 is already reported.\n",
      "  warnings.warn(\n",
      "Metric val_loss improved by 0.013 >= min_delta = 0.0005. New best score: 0.037\n",
      "/home/eduardo/Documentos/Water-Cycle-Neural-Network/venv/lib/python3.12/site-packages/optuna/trial/_trial.py:497: UserWarning: The reported value is ignored because this `step` 4 is already reported.\n",
      "  warnings.warn(\n",
      "Metric val_loss improved by 0.011 >= min_delta = 0.0005. New best score: 0.026\n",
      "/home/eduardo/Documentos/Water-Cycle-Neural-Network/venv/lib/python3.12/site-packages/optuna/trial/_trial.py:497: UserWarning: The reported value is ignored because this `step` 5 is already reported.\n",
      "  warnings.warn(\n",
      "/home/eduardo/Documentos/Water-Cycle-Neural-Network/venv/lib/python3.12/site-packages/optuna/trial/_trial.py:497: UserWarning: The reported value is ignored because this `step` 6 is already reported.\n",
      "  warnings.warn(\n",
      "Metric val_loss improved by 0.001 >= min_delta = 0.0005. New best score: 0.025\n",
      "/home/eduardo/Documentos/Water-Cycle-Neural-Network/venv/lib/python3.12/site-packages/optuna/trial/_trial.py:497: UserWarning: The reported value is ignored because this `step` 7 is already reported.\n",
      "  warnings.warn(\n",
      "/home/eduardo/Documentos/Water-Cycle-Neural-Network/venv/lib/python3.12/site-packages/optuna/trial/_trial.py:497: UserWarning: The reported value is ignored because this `step` 8 is already reported.\n",
      "  warnings.warn(\n",
      "Metric val_loss improved by 0.001 >= min_delta = 0.0005. New best score: 0.024\n",
      "/home/eduardo/Documentos/Water-Cycle-Neural-Network/venv/lib/python3.12/site-packages/optuna/trial/_trial.py:497: UserWarning: The reported value is ignored because this `step` 9 is already reported.\n",
      "  warnings.warn(\n",
      "/home/eduardo/Documentos/Water-Cycle-Neural-Network/venv/lib/python3.12/site-packages/optuna/trial/_trial.py:497: UserWarning: The reported value is ignored because this `step` 10 is already reported.\n",
      "  warnings.warn(\n",
      "/home/eduardo/Documentos/Water-Cycle-Neural-Network/venv/lib/python3.12/site-packages/optuna/trial/_trial.py:497: UserWarning: The reported value is ignored because this `step` 11 is already reported.\n",
      "  warnings.warn(\n",
      "/home/eduardo/Documentos/Water-Cycle-Neural-Network/venv/lib/python3.12/site-packages/optuna/trial/_trial.py:497: UserWarning: The reported value is ignored because this `step` 12 is already reported.\n",
      "  warnings.warn(\n",
      "/home/eduardo/Documentos/Water-Cycle-Neural-Network/venv/lib/python3.12/site-packages/optuna/trial/_trial.py:497: UserWarning: The reported value is ignored because this `step` 13 is already reported.\n",
      "  warnings.warn(\n",
      "/home/eduardo/Documentos/Water-Cycle-Neural-Network/venv/lib/python3.12/site-packages/optuna/trial/_trial.py:497: UserWarning: The reported value is ignored because this `step` 14 is already reported.\n",
      "  warnings.warn(\n",
      "/home/eduardo/Documentos/Water-Cycle-Neural-Network/venv/lib/python3.12/site-packages/optuna/trial/_trial.py:497: UserWarning: The reported value is ignored because this `step` 15 is already reported.\n",
      "  warnings.warn(\n",
      "/home/eduardo/Documentos/Water-Cycle-Neural-Network/venv/lib/python3.12/site-packages/optuna/trial/_trial.py:497: UserWarning: The reported value is ignored because this `step` 16 is already reported.\n",
      "  warnings.warn(\n",
      "/home/eduardo/Documentos/Water-Cycle-Neural-Network/venv/lib/python3.12/site-packages/optuna/trial/_trial.py:497: UserWarning: The reported value is ignored because this `step` 17 is already reported.\n",
      "  warnings.warn(\n",
      "/home/eduardo/Documentos/Water-Cycle-Neural-Network/venv/lib/python3.12/site-packages/optuna/trial/_trial.py:497: UserWarning: The reported value is ignored because this `step` 18 is already reported.\n",
      "  warnings.warn(\n",
      "/home/eduardo/Documentos/Water-Cycle-Neural-Network/venv/lib/python3.12/site-packages/optuna/trial/_trial.py:497: UserWarning: The reported value is ignored because this `step` 19 is already reported.\n",
      "  warnings.warn(\n",
      "/home/eduardo/Documentos/Water-Cycle-Neural-Network/venv/lib/python3.12/site-packages/optuna/trial/_trial.py:497: UserWarning: The reported value is ignored because this `step` 20 is already reported.\n",
      "  warnings.warn(\n",
      "/home/eduardo/Documentos/Water-Cycle-Neural-Network/venv/lib/python3.12/site-packages/optuna/trial/_trial.py:497: UserWarning: The reported value is ignored because this `step` 21 is already reported.\n",
      "  warnings.warn(\n",
      "Monitored metric val_loss did not improve in the last 15 records. Best score: 0.024. Signaling Trainer to stop.\n",
      "GPU available: True (cuda), used: True\n",
      "TPU available: False, using: 0 TPU cores\n",
      "HPU available: False, using: 0 HPUs\n",
      "LOCAL_RANK: 0 - CUDA_VISIBLE_DEVICES: [0]\n"
     ]
    },
    {
     "name": "stdout",
     "output_type": "stream",
     "text": [
      "Model loaded from checkpoint for trial 62, fold 1\n"
     ]
    },
    {
     "name": "stderr",
     "output_type": "stream",
     "text": [
      "GPU available: True (cuda), used: True\n",
      "TPU available: False, using: 0 TPU cores\n",
      "HPU available: False, using: 0 HPUs\n",
      "LOCAL_RANK: 0 - CUDA_VISIBLE_DEVICES: [0]\n"
     ]
    },
    {
     "name": "stdout",
     "output_type": "stream",
     "text": [
      "SMAPE fold 1: 53.36171207262424\n",
      "\n",
      "Fold 3/3\n"
     ]
    },
    {
     "name": "stderr",
     "output_type": "stream",
     "text": [
      "/home/eduardo/Documentos/Water-Cycle-Neural-Network/venv/lib/python3.12/site-packages/optuna/trial/_trial.py:497: UserWarning: The reported value is ignored because this `step` 0 is already reported.\n",
      "  warnings.warn(\n",
      "Monitored metric val_loss did not improve in the last 16 records. Best score: 0.024. Signaling Trainer to stop.\n",
      "GPU available: True (cuda), used: True\n",
      "TPU available: False, using: 0 TPU cores\n",
      "HPU available: False, using: 0 HPUs\n",
      "LOCAL_RANK: 0 - CUDA_VISIBLE_DEVICES: [0]\n"
     ]
    },
    {
     "name": "stdout",
     "output_type": "stream",
     "text": [
      "Model loaded from checkpoint for trial 62, fold 2\n"
     ]
    },
    {
     "name": "stderr",
     "output_type": "stream",
     "text": [
      "[I 2025-06-10 19:46:03,417] Trial 62 finished with value: 82.04787711464091 and parameters: {'input_chunk_length': 24, 'hidden_size': 88, 'dropout': 0.45000000000000007, 'batch_size': 72, 'lr': 0.0015089338690549691, 'weight_decay': 0.0021961007043170195, 'ff_size': 220, 'num_blocks': 2, 'activation': 'GELU', 'norm_type': 'LayerNorm', 'normalize_before': False}. Best is trial 47 with value: 75.31818223557848.\n",
      "GPU available: True (cuda), used: True\n",
      "TPU available: False, using: 0 TPU cores\n",
      "HPU available: False, using: 0 HPUs\n",
      "LOCAL_RANK: 0 - CUDA_VISIBLE_DEVICES: [0]\n"
     ]
    },
    {
     "name": "stdout",
     "output_type": "stream",
     "text": [
      "SMAPE fold 2: 67.35881362042346\n",
      "Média dos SMAPE nos folds: 82.04787711464091\n",
      "Results of trial 62 saved in optuna_iteration_metrics/trial_62.json\n",
      "Current value: 82.04787711464091, Current params: {'input_chunk_length': 24, 'hidden_size': 88, 'dropout': 0.45000000000000007, 'batch_size': 72, 'lr': 0.0015089338690549691, 'weight_decay': 0.0021961007043170195, 'ff_size': 220, 'num_blocks': 2, 'activation': 'GELU', 'norm_type': 'LayerNorm', 'normalize_before': False}\n",
      "Best value: 75.31818223557848, Best params: {'input_chunk_length': 72, 'hidden_size': 64, 'dropout': 0.4, 'batch_size': 104, 'lr': 0.0034622439183209846, 'weight_decay': 0.0003418366393068562, 'ff_size': 231, 'num_blocks': 1, 'activation': 'GELU', 'norm_type': 'LayerNorm', 'normalize_before': False}\n",
      "\n",
      "Fold 1/3\n"
     ]
    },
    {
     "name": "stderr",
     "output_type": "stream",
     "text": [
      "Metric val_loss improved. New best score: 7.766\n",
      "[I 2025-06-10 19:46:07,602] Trial 63 pruned. Trial was pruned at epoch 3.\n",
      "GPU available: True (cuda), used: True\n",
      "TPU available: False, using: 0 TPU cores\n",
      "HPU available: False, using: 0 HPUs\n",
      "LOCAL_RANK: 0 - CUDA_VISIBLE_DEVICES: [0]\n"
     ]
    },
    {
     "name": "stdout",
     "output_type": "stream",
     "text": [
      "Current value: 7.762462872290425, Current params: {'input_chunk_length': 36, 'hidden_size': 64, 'dropout': 0.45000000000000007, 'batch_size': 168, 'lr': 0.003794366952026166, 'weight_decay': 0.006454563762367718, 'ff_size': 232, 'num_blocks': 3, 'activation': 'GELU', 'norm_type': 'LayerNorm', 'normalize_before': False}\n",
      "Best value: 75.31818223557848, Best params: {'input_chunk_length': 72, 'hidden_size': 64, 'dropout': 0.4, 'batch_size': 104, 'lr': 0.0034622439183209846, 'weight_decay': 0.0003418366393068562, 'ff_size': 231, 'num_blocks': 1, 'activation': 'GELU', 'norm_type': 'LayerNorm', 'normalize_before': False}\n",
      "\n",
      "Fold 1/3\n"
     ]
    },
    {
     "name": "stderr",
     "output_type": "stream",
     "text": [
      "[I 2025-06-10 19:46:09,114] Trial 64 pruned. Trial was pruned at epoch 0.\n",
      "GPU available: True (cuda), used: True\n",
      "TPU available: False, using: 0 TPU cores\n",
      "HPU available: False, using: 0 HPUs\n",
      "LOCAL_RANK: 0 - CUDA_VISIBLE_DEVICES: [0]\n"
     ]
    },
    {
     "name": "stdout",
     "output_type": "stream",
     "text": [
      "Current value: 7.952016911658817, Current params: {'input_chunk_length': 60, 'hidden_size': 104, 'dropout': 0.5, 'batch_size': 96, 'lr': 0.0008684483454405622, 'weight_decay': 0.0034533524061610373, 'ff_size': 280, 'num_blocks': 1, 'activation': 'GELU', 'norm_type': 'LayerNorm', 'normalize_before': False}\n",
      "Best value: 75.31818223557848, Best params: {'input_chunk_length': 72, 'hidden_size': 64, 'dropout': 0.4, 'batch_size': 104, 'lr': 0.0034622439183209846, 'weight_decay': 0.0003418366393068562, 'ff_size': 231, 'num_blocks': 1, 'activation': 'GELU', 'norm_type': 'LayerNorm', 'normalize_before': False}\n",
      "\n",
      "Fold 1/3\n"
     ]
    },
    {
     "name": "stderr",
     "output_type": "stream",
     "text": [
      "[I 2025-06-10 19:46:10,834] Trial 65 pruned. Trial was pruned at epoch 0.\n",
      "GPU available: True (cuda), used: True\n",
      "TPU available: False, using: 0 TPU cores\n",
      "HPU available: False, using: 0 HPUs\n",
      "LOCAL_RANK: 0 - CUDA_VISIBLE_DEVICES: [0]\n"
     ]
    },
    {
     "name": "stdout",
     "output_type": "stream",
     "text": [
      "Current value: 7.976001691329031, Current params: {'input_chunk_length': 72, 'hidden_size': 48, 'dropout': 0.45000000000000007, 'batch_size': 104, 'lr': 0.00012517975722241756, 'weight_decay': 0.0003975819575135703, 'ff_size': 185, 'num_blocks': 2, 'activation': 'ReLU', 'norm_type': 'LayerNorm', 'normalize_before': False}\n",
      "Best value: 75.31818223557848, Best params: {'input_chunk_length': 72, 'hidden_size': 64, 'dropout': 0.4, 'batch_size': 104, 'lr': 0.0034622439183209846, 'weight_decay': 0.0003418366393068562, 'ff_size': 231, 'num_blocks': 1, 'activation': 'GELU', 'norm_type': 'LayerNorm', 'normalize_before': False}\n",
      "\n",
      "Fold 1/3\n"
     ]
    },
    {
     "name": "stderr",
     "output_type": "stream",
     "text": [
      "[I 2025-06-10 19:46:12,634] Trial 66 pruned. Trial was pruned at epoch 0.\n",
      "GPU available: True (cuda), used: True\n",
      "TPU available: False, using: 0 TPU cores\n",
      "HPU available: False, using: 0 HPUs\n",
      "LOCAL_RANK: 0 - CUDA_VISIBLE_DEVICES: [0]\n"
     ]
    },
    {
     "name": "stdout",
     "output_type": "stream",
     "text": [
      "Current value: 7.966210042615319, Current params: {'input_chunk_length': 84, 'hidden_size': 88, 'dropout': 0.5, 'batch_size': 128, 'lr': 0.00038583645121635114, 'weight_decay': 0.0013934278348587718, 'ff_size': 165, 'num_blocks': 4, 'activation': 'GELU', 'norm_type': 'LayerNorm', 'normalize_before': False}\n",
      "Best value: 75.31818223557848, Best params: {'input_chunk_length': 72, 'hidden_size': 64, 'dropout': 0.4, 'batch_size': 104, 'lr': 0.0034622439183209846, 'weight_decay': 0.0003418366393068562, 'ff_size': 231, 'num_blocks': 1, 'activation': 'GELU', 'norm_type': 'LayerNorm', 'normalize_before': False}\n",
      "\n",
      "Fold 1/3\n"
     ]
    },
    {
     "name": "stderr",
     "output_type": "stream",
     "text": [
      "Metric val_loss improved. New best score: 7.851\n",
      "Metric val_loss improved by 0.047 >= min_delta = 0.0005. New best score: 7.803\n",
      "Metric val_loss improved by 0.027 >= min_delta = 0.0005. New best score: 7.777\n",
      "[I 2025-06-10 19:46:17,611] Trial 67 pruned. Trial was pruned at epoch 3.\n",
      "GPU available: True (cuda), used: True\n",
      "TPU available: False, using: 0 TPU cores\n",
      "HPU available: False, using: 0 HPUs\n",
      "LOCAL_RANK: 0 - CUDA_VISIBLE_DEVICES: [0]\n"
     ]
    },
    {
     "name": "stdout",
     "output_type": "stream",
     "text": [
      "Current value: 7.768414535667324, Current params: {'input_chunk_length': 60, 'hidden_size': 72, 'dropout': 0.4, 'batch_size': 152, 'lr': 0.0026479931929348716, 'weight_decay': 0.0007378618723687969, 'ff_size': 192, 'num_blocks': 4, 'activation': 'GELU', 'norm_type': 'LayerNorm', 'normalize_before': False}\n",
      "Best value: 75.31818223557848, Best params: {'input_chunk_length': 72, 'hidden_size': 64, 'dropout': 0.4, 'batch_size': 104, 'lr': 0.0034622439183209846, 'weight_decay': 0.0003418366393068562, 'ff_size': 231, 'num_blocks': 1, 'activation': 'GELU', 'norm_type': 'LayerNorm', 'normalize_before': False}\n",
      "\n",
      "Fold 1/3\n"
     ]
    },
    {
     "name": "stderr",
     "output_type": "stream",
     "text": [
      "[I 2025-06-10 19:46:19,362] Trial 68 pruned. Trial was pruned at epoch 0.\n"
     ]
    },
    {
     "name": "stdout",
     "output_type": "stream",
     "text": [
      "Current value: 9.587179159804382, Current params: {'input_chunk_length': 36, 'hidden_size': 104, 'dropout': 0.5, 'batch_size': 80, 'lr': 0.0019419292731309857, 'weight_decay': 5.4030320632528655e-05, 'ff_size': 267, 'num_blocks': 3, 'activation': 'GELU', 'norm_type': 'TimeBatchNorm2d', 'normalize_before': False}\n",
      "Best value: 75.31818223557848, Best params: {'input_chunk_length': 72, 'hidden_size': 64, 'dropout': 0.4, 'batch_size': 104, 'lr': 0.0034622439183209846, 'weight_decay': 0.0003418366393068562, 'ff_size': 231, 'num_blocks': 1, 'activation': 'GELU', 'norm_type': 'LayerNorm', 'normalize_before': False}\n",
      "\n",
      "Fold 1/3\n"
     ]
    },
    {
     "name": "stderr",
     "output_type": "stream",
     "text": [
      "GPU available: True (cuda), used: True\n",
      "TPU available: False, using: 0 TPU cores\n",
      "HPU available: False, using: 0 HPUs\n",
      "LOCAL_RANK: 0 - CUDA_VISIBLE_DEVICES: [0]\n",
      "[I 2025-06-10 19:47:16,314] Trial 69 pruned. Trial was pruned at epoch 0.\n",
      "GPU available: True (cuda), used: True\n",
      "TPU available: False, using: 0 TPU cores\n",
      "HPU available: False, using: 0 HPUs\n",
      "LOCAL_RANK: 0 - CUDA_VISIBLE_DEVICES: [0]\n"
     ]
    },
    {
     "name": "stdout",
     "output_type": "stream",
     "text": [
      "Current value: 7.942324523505616, Current params: {'input_chunk_length': 84, 'hidden_size': 56, 'dropout': 0.35, 'batch_size': 88, 'lr': 0.004025543927234488, 'weight_decay': 0.007559518481023507, 'ff_size': 206, 'num_blocks': 4, 'activation': 'GELU', 'norm_type': 'LayerNorm', 'normalize_before': False}\n",
      "Best value: 75.31818223557848, Best params: {'input_chunk_length': 72, 'hidden_size': 64, 'dropout': 0.4, 'batch_size': 104, 'lr': 0.0034622439183209846, 'weight_decay': 0.0003418366393068562, 'ff_size': 231, 'num_blocks': 1, 'activation': 'GELU', 'norm_type': 'LayerNorm', 'normalize_before': False}\n",
      "\n",
      "Fold 1/3\n"
     ]
    },
    {
     "name": "stderr",
     "output_type": "stream",
     "text": [
      "[I 2025-06-10 19:47:17,914] Trial 70 pruned. Trial was pruned at epoch 0.\n",
      "GPU available: True (cuda), used: True\n",
      "TPU available: False, using: 0 TPU cores\n",
      "HPU available: False, using: 0 HPUs\n",
      "LOCAL_RANK: 0 - CUDA_VISIBLE_DEVICES: [0]\n"
     ]
    },
    {
     "name": "stdout",
     "output_type": "stream",
     "text": [
      "Current value: 8.87859673437502, Current params: {'input_chunk_length': 48, 'hidden_size': 80, 'dropout': 0.45000000000000007, 'batch_size': 112, 'lr': 0.001156767096625247, 'weight_decay': 0.002087021464654834, 'ff_size': 221, 'num_blocks': 4, 'activation': 'ReLU', 'norm_type': 'LayerNorm', 'normalize_before': True}\n",
      "Best value: 75.31818223557848, Best params: {'input_chunk_length': 72, 'hidden_size': 64, 'dropout': 0.4, 'batch_size': 104, 'lr': 0.0034622439183209846, 'weight_decay': 0.0003418366393068562, 'ff_size': 231, 'num_blocks': 1, 'activation': 'GELU', 'norm_type': 'LayerNorm', 'normalize_before': False}\n",
      "\n",
      "Fold 1/3\n"
     ]
    },
    {
     "name": "stderr",
     "output_type": "stream",
     "text": [
      "[I 2025-06-10 19:47:19,586] Trial 71 pruned. Trial was pruned at epoch 0.\n",
      "GPU available: True (cuda), used: True\n",
      "TPU available: False, using: 0 TPU cores\n",
      "HPU available: False, using: 0 HPUs\n",
      "LOCAL_RANK: 0 - CUDA_VISIBLE_DEVICES: [0]\n"
     ]
    },
    {
     "name": "stdout",
     "output_type": "stream",
     "text": [
      "Current value: 7.940776471795354, Current params: {'input_chunk_length': 84, 'hidden_size': 120, 'dropout': 0.5, 'batch_size': 160, 'lr': 0.004049182674182122, 'weight_decay': 0.004569555360518903, 'ff_size': 307, 'num_blocks': 4, 'activation': 'GELU', 'norm_type': 'LayerNorm', 'normalize_before': False}\n",
      "Best value: 75.31818223557848, Best params: {'input_chunk_length': 72, 'hidden_size': 64, 'dropout': 0.4, 'batch_size': 104, 'lr': 0.0034622439183209846, 'weight_decay': 0.0003418366393068562, 'ff_size': 231, 'num_blocks': 1, 'activation': 'GELU', 'norm_type': 'LayerNorm', 'normalize_before': False}\n",
      "\n",
      "Fold 1/3\n"
     ]
    },
    {
     "name": "stderr",
     "output_type": "stream",
     "text": [
      "[I 2025-06-10 19:47:21,466] Trial 72 pruned. Trial was pruned at epoch 0.\n",
      "GPU available: True (cuda), used: True\n",
      "TPU available: False, using: 0 TPU cores\n",
      "HPU available: False, using: 0 HPUs\n",
      "LOCAL_RANK: 0 - CUDA_VISIBLE_DEVICES: [0]\n"
     ]
    },
    {
     "name": "stdout",
     "output_type": "stream",
     "text": [
      "Current value: 8.078694654321959, Current params: {'input_chunk_length': 96, 'hidden_size': 128, 'dropout': 0.5, 'batch_size': 136, 'lr': 0.004749482616178976, 'weight_decay': 0.008936096999543404, 'ff_size': 258, 'num_blocks': 4, 'activation': 'GELU', 'norm_type': 'LayerNorm', 'normalize_before': False}\n",
      "Best value: 75.31818223557848, Best params: {'input_chunk_length': 72, 'hidden_size': 64, 'dropout': 0.4, 'batch_size': 104, 'lr': 0.0034622439183209846, 'weight_decay': 0.0003418366393068562, 'ff_size': 231, 'num_blocks': 1, 'activation': 'GELU', 'norm_type': 'LayerNorm', 'normalize_before': False}\n",
      "\n",
      "Fold 1/3\n"
     ]
    },
    {
     "name": "stderr",
     "output_type": "stream",
     "text": [
      "[I 2025-06-10 19:47:23,218] Trial 73 pruned. Trial was pruned at epoch 0.\n"
     ]
    },
    {
     "name": "stdout",
     "output_type": "stream",
     "text": [
      "Current value: 7.870939860963184, Current params: {'input_chunk_length': 72, 'hidden_size': 152, 'dropout': 0.5, 'batch_size': 144, 'lr': 0.0029041916885394338, 'weight_decay': 0.00013506696612616877, 'ff_size': 291, 'num_blocks': 4, 'activation': 'GELU', 'norm_type': 'LayerNorm', 'normalize_before': False}\n",
      "Best value: 75.31818223557848, Best params: {'input_chunk_length': 72, 'hidden_size': 64, 'dropout': 0.4, 'batch_size': 104, 'lr': 0.0034622439183209846, 'weight_decay': 0.0003418366393068562, 'ff_size': 231, 'num_blocks': 1, 'activation': 'GELU', 'norm_type': 'LayerNorm', 'normalize_before': False}\n",
      "\n",
      "Fold 1/3\n"
     ]
    },
    {
     "name": "stderr",
     "output_type": "stream",
     "text": [
      "GPU available: True (cuda), used: True\n",
      "TPU available: False, using: 0 TPU cores\n",
      "HPU available: False, using: 0 HPUs\n",
      "LOCAL_RANK: 0 - CUDA_VISIBLE_DEVICES: [0]\n",
      "Metric val_loss improved. New best score: 7.847\n",
      "[I 2025-06-10 19:56:37,106] Trial 74 pruned. Trial was pruned at epoch 1.\n",
      "GPU available: True (cuda), used: True\n",
      "TPU available: False, using: 0 TPU cores\n",
      "HPU available: False, using: 0 HPUs\n",
      "LOCAL_RANK: 0 - CUDA_VISIBLE_DEVICES: [0]\n"
     ]
    },
    {
     "name": "stdout",
     "output_type": "stream",
     "text": [
      "Current value: 7.8277964602582415, Current params: {'input_chunk_length': 60, 'hidden_size': 112, 'dropout': 0.45000000000000007, 'batch_size': 152, 'lr': 0.003207892458697525, 'weight_decay': 0.003018920874829146, 'ff_size': 344, 'num_blocks': 4, 'activation': 'GELU', 'norm_type': 'LayerNorm', 'normalize_before': False}\n",
      "Best value: 75.31818223557848, Best params: {'input_chunk_length': 72, 'hidden_size': 64, 'dropout': 0.4, 'batch_size': 104, 'lr': 0.0034622439183209846, 'weight_decay': 0.0003418366393068562, 'ff_size': 231, 'num_blocks': 1, 'activation': 'GELU', 'norm_type': 'LayerNorm', 'normalize_before': False}\n",
      "\n",
      "Fold 1/3\n"
     ]
    },
    {
     "name": "stderr",
     "output_type": "stream",
     "text": [
      "[I 2025-06-10 19:56:39,162] Trial 75 pruned. Trial was pruned at epoch 0.\n",
      "GPU available: True (cuda), used: True\n",
      "TPU available: False, using: 0 TPU cores\n",
      "HPU available: False, using: 0 HPUs\n",
      "LOCAL_RANK: 0 - CUDA_VISIBLE_DEVICES: [0]\n"
     ]
    },
    {
     "name": "stdout",
     "output_type": "stream",
     "text": [
      "Current value: 8.072611173525416, Current params: {'input_chunk_length': 108, 'hidden_size': 136, 'dropout': 0.5, 'batch_size': 136, 'lr': 0.0023503995430751434, 'weight_decay': 0.009842414341596325, 'ff_size': 350, 'num_blocks': 4, 'activation': 'GELU', 'norm_type': 'LayerNorm', 'normalize_before': False}\n",
      "Best value: 75.31818223557848, Best params: {'input_chunk_length': 72, 'hidden_size': 64, 'dropout': 0.4, 'batch_size': 104, 'lr': 0.0034622439183209846, 'weight_decay': 0.0003418366393068562, 'ff_size': 231, 'num_blocks': 1, 'activation': 'GELU', 'norm_type': 'LayerNorm', 'normalize_before': False}\n",
      "\n",
      "Fold 1/3\n"
     ]
    },
    {
     "name": "stderr",
     "output_type": "stream",
     "text": [
      "[I 2025-06-10 19:56:41,258] Trial 76 pruned. Trial was pruned at epoch 0.\n"
     ]
    },
    {
     "name": "stdout",
     "output_type": "stream",
     "text": [
      "Current value: 7.971757777532168, Current params: {'input_chunk_length': 72, 'hidden_size': 96, 'dropout': 0.25, 'batch_size': 64, 'lr': 0.0017580463833802421, 'weight_decay': 0.00562229005272647, 'ff_size': 249, 'num_blocks': 4, 'activation': 'GELU', 'norm_type': 'LayerNorm', 'normalize_before': False}\n",
      "Best value: 75.31818223557848, Best params: {'input_chunk_length': 72, 'hidden_size': 64, 'dropout': 0.4, 'batch_size': 104, 'lr': 0.0034622439183209846, 'weight_decay': 0.0003418366393068562, 'ff_size': 231, 'num_blocks': 1, 'activation': 'GELU', 'norm_type': 'LayerNorm', 'normalize_before': False}\n"
     ]
    }
   ],
   "source": [
    "study = optuna.create_study(direction=\"minimize\")\n",
    "num_hyperparams = 11\n",
    "n_trials = 7 * num_hyperparams\n",
    "study.optimize(objective, n_trials=n_trials, callbacks=[print_callback])"
   ]
  },
  {
   "cell_type": "code",
   "execution_count": 8,
   "id": "d37bce4e436d5fb4",
   "metadata": {},
   "outputs": [
    {
     "name": "stdout",
     "output_type": "stream",
     "text": [
      "Best MASE Value (Minimum): 75.31818223557848\n",
      "Best Parameters: {'input_chunk_length': 72, 'hidden_size': 64, 'dropout': 0.4, 'batch_size': 104, 'lr': 0.0034622439183209846, 'weight_decay': 0.0003418366393068562, 'ff_size': 231, 'num_blocks': 1, 'activation': 'GELU', 'norm_type': 'LayerNorm', 'normalize_before': False}\n"
     ]
    }
   ],
   "source": [
    "print(f\"Best MASE Value (Minimum): {study.best_value}\")\n",
    "print(f\"Best Parameters: {study.best_params}\")"
   ]
  },
  {
   "cell_type": "code",
   "execution_count": 9,
   "id": "de912349146bf8df",
   "metadata": {},
   "outputs": [
    {
     "name": "stdout",
     "output_type": "stream",
     "text": [
      "Best results saved in optuna_iteration_metrics/best_trial.json\n"
     ]
    }
   ],
   "source": [
    "best_dict = {\n",
    "    \"best_value\": study.best_value,\n",
    "    \"best_params\": study.best_params,\n",
    "}\n",
    "json_path = os.path.join(results_output_dir, \"best_trial.json\")\n",
    "with open(json_path, 'w') as f:\n",
    "    json.dump(best_dict, f, indent=4)\n",
    "print(f\"Best results saved in {json_path}\")\n"
   ]
  }
 ],
 "metadata": {
  "jupytext": {
   "cell_metadata_filter": "-all",
   "main_language": "python",
   "notebook_metadata_filter": "-all"
  },
  "kernelspec": {
   "display_name": "Torch",
   "language": "python",
   "name": "torch"
  },
  "language_info": {
   "codemirror_mode": {
    "name": "ipython",
    "version": 3
   },
   "file_extension": ".py",
   "mimetype": "text/x-python",
   "name": "python",
   "nbconvert_exporter": "python",
   "pygments_lexer": "ipython3",
   "version": "3.12.3"
  }
 },
 "nbformat": 4,
 "nbformat_minor": 5
}
