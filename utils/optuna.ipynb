{
 "cells": [
  {
   "metadata": {
    "ExecuteTime": {
     "end_time": "2025-05-19T19:46:43.988927Z",
     "start_time": "2025-05-19T19:46:40.107064Z"
    }
   },
   "cell_type": "code",
   "source": [
    "import matplotlib.pyplot as plt\n",
    "import numpy as np\n",
    "import pandas as pd\n",
    "from darts import TimeSeries\n",
    "from darts.models import TCNModel\n",
    "from darts.metrics import mse, rmse, r2_score, mae, smape\n",
    "from darts.dataprocessing.transformers import Scaler\n",
    "import torch\n",
    "from optuna.integration import PyTorchLightningPruningCallback\n",
    "from pytorch_lightning.callbacks import Callback, EarlyStopping\n",
    "import optuna\n",
    "import os\n",
    "import json\n",
    "\n",
    "# Visualization settings\n",
    "plt.style.use('ggplot')\n",
    "plt.rcParams['figure.figsize'] = (12, 6)  # Set the default figure size\n",
    "torch.set_float32_matmul_precision('medium')  # Set precision for matrix multiplication"
   ],
   "id": "5e8fef79436652ba",
   "outputs": [],
   "execution_count": 1
  },
  {
   "metadata": {
    "ExecuteTime": {
     "end_time": "2025-05-19T19:46:44.049579Z",
     "start_time": "2025-05-19T19:46:44.036808Z"
    }
   },
   "cell_type": "code",
   "source": [
    "# Define target columns for time series forecasting\n",
    "target_columns = [\n",
    "    'Temperature','Precipitation_accumulated','Humidity', 'Wind_Speed_kmh',\n",
    "    'Soil_Moisture', 'Soil_Temperature', 'Wind_Dir_Sin', 'Wind_Dir_Cos'\n",
    "]\n",
    "\n",
    "# Load the cleaned ground station data\n",
    "df = pd.read_csv(\"../data/ground_station_clean.csv\")"
   ],
   "id": "c853f14eebeee07a",
   "outputs": [],
   "execution_count": 2
  },
  {
   "metadata": {
    "ExecuteTime": {
     "end_time": "2025-05-19T19:46:44.089473Z",
     "start_time": "2025-05-19T19:46:44.087558Z"
    }
   },
   "cell_type": "code",
   "source": [
    "# Configure encoders for time features and data transformation\n",
    "encoders = {\n",
    "    \"cyclic\":{  # Cyclic features for time components\n",
    "        \"past\":[\"month\",\"dayofyear\",\"day\",\"hour\",\"minute\"],\n",
    "    },\n",
    "    \"transformer\": Scaler()  # Data scaling transformer\n",
    "}"
   ],
   "id": "ad31539f4f25b5a2",
   "outputs": [],
   "execution_count": 3
  },
  {
   "metadata": {
    "ExecuteTime": {
     "end_time": "2025-05-19T19:46:44.136629Z",
     "start_time": "2025-05-19T19:46:44.133620Z"
    }
   },
   "cell_type": "code",
   "source": [
    "# Custom callback class that combines PyTorch Lightning pruning with a standard callback\n",
    "class PatchedPruningCallback(PyTorchLightningPruningCallback, Callback):\n",
    "    pass\n",
    "\n",
    "# Create a directory to save iteration results\n",
    "results_output_dir = \"optuna_iteration_metrics\"\n",
    "os.makedirs(results_output_dir, exist_ok=True)  # Create if it doesn't exist"
   ],
   "id": "5241bec8b24786f",
   "outputs": [],
   "execution_count": 4
  },
  {
   "metadata": {
    "ExecuteTime": {
     "end_time": "2025-05-19T21:37:21.090283Z",
     "start_time": "2025-05-19T21:37:21.076126Z"
    }
   },
   "cell_type": "code",
   "source": [
    "def objective(trial):\n",
    "    \"\"\"\n",
    "    Objective function for Optuna optimization that trains and evaluates a model with given hyperparameters.\n",
    "    \"\"\"\n",
    "    # Define hyperparameters to be optimized\n",
    "    input_chunk_length = trial.suggest_int(\"input_chunk_length\", 1, 72)\n",
    "    num_filters   = trial.suggest_int(\"num_filters\", 8, 128, log=True)\n",
    "    kernel_size   = trial.suggest_int(\"kernel_size\", 2, 8)\n",
    "    num_layers    = trial.suggest_int(\"num_layers\", 1, 6)\n",
    "    dilation_base = trial.suggest_int(\"dilation_base\", 1, 4)\n",
    "    weight_norm = trial.suggest_categorical(\"weight_norm\", [True, False])\n",
    "    dropout = trial.suggest_float('dropout', 0.0, 0.4)\n",
    "    batch_size = trial.suggest_int(\"batch_size\", 16, 64)\n",
    "    lr = trial.suggest_float(\"lr\", 1e-5, 1e-2, log=True)\n",
    "\n",
    "    if kernel_size >= input_chunk_length:\n",
    "        return float(\"inf\")  # Prune if kernel size is larger than input chunk length\n",
    "\n",
    "    prunner = PatchedPruningCallback(trial, monitor=\"val_loss\")\n",
    "    # Configure early stopping\n",
    "    early_stopper = EarlyStopping(\"val_loss\", min_delta=0.001, patience=10, verbose=True)\n",
    "    pl_trainer_kwargs = {\n",
    "            \"accelerator\": \"auto\",\n",
    "            \"callbacks\": [early_stopper, prunner],\n",
    "    }\n",
    "\n",
    "    # Split data into training and validation sets (80/20)\n",
    "    n = int(len(df)*0.8)\n",
    "    train_df_fold, val_df_fold = df.iloc[:n], df.iloc[n:]\n",
    "\n",
    "    # Convert dataframes to TimeSeries objects\n",
    "    train_fold = TimeSeries.from_dataframe(train_df_fold, time_col=\"Timestamp\", value_cols=target_columns, freq='1h')\n",
    "    val_fold = TimeSeries.from_dataframe(val_df_fold, time_col=\"Timestamp\", value_cols=target_columns, freq='1h')\n",
    "\n",
    "    # Print trial information\n",
    "    print(f\"\\nStarting Trial {trial.number}\")\n",
    "    print(f\"Hyperparameters: {trial.params}\")\n",
    "    print(\"\\nTraining the model...\")\n",
    "    print(f\"Train set: {len(train_fold)} samples\")  # Use len() for TimeSeries objects\n",
    "    print(f\"Validation set: {len(val_fold)} samples\")  # Use len() for TimeSeries objects\n",
    "\n",
    "    # Scale the data using only training data statistics\n",
    "    scaler = Scaler()\n",
    "    scaler = scaler.fit(train_fold)\n",
    "    train_scaled = scaler.transform(train_fold)\n",
    "    val_scaled = scaler.transform(val_fold)\n",
    "\n",
    "    # Define working directory and model name for consistency\n",
    "    _work_dir = \"/home/eduardo/Documentos/Water-Cycle-Neural-Network/darts_logs/\"  # Ensure this path exists and is writable\n",
    "    _model_name = \"model_optuna_temp\"  # Temporary model name for each trial\n",
    "\n",
    "    # Create the working directory if it doesn't exist\n",
    "    os.makedirs(_work_dir, exist_ok=True)\n",
    "\n",
    "    # Configure the RNN model with trial hyperparameters\n",
    "    model = TCNModel(\n",
    "        model_name=_model_name,\n",
    "        work_dir=_work_dir,\n",
    "        input_chunk_length=input_chunk_length,\n",
    "        output_chunk_length=1,\n",
    "        n_epochs=30,\n",
    "        batch_size=batch_size,\n",
    "        num_filters=num_filters,\n",
    "        kernel_size=kernel_size,\n",
    "        num_layers=num_layers,\n",
    "        dilation_base=dilation_base,\n",
    "        weight_norm=weight_norm,\n",
    "        dropout=dropout,\n",
    "        add_encoders=encoders,\n",
    "        pl_trainer_kwargs=pl_trainer_kwargs,\n",
    "        loss_fn=torch.nn.HuberLoss(),\n",
    "        lr_scheduler_cls=torch.optim.lr_scheduler.ReduceLROnPlateau,\n",
    "        lr_scheduler_kwargs={\"mode\":\"min\", \"factor\":0.5, \"patience\":4, \"min_lr\":1e-6},\n",
    "        save_checkpoints=True,\n",
    "        show_warnings=True,\n",
    "        force_reset=True, # Importante para que cada iteração treine do zero com este model_name\n",
    "        optimizer_kwargs={\"lr\": lr, \"weight_decay\": 1e-5},\n",
    "    )\n",
    "\n",
    "    # Train the model\n",
    "    model.fit(\n",
    "        series=train_scaled,\n",
    "        val_series=val_scaled,\n",
    "        dataloader_kwargs={\"num_workers\": 11}\n",
    "    )\n",
    "\n",
    "    # Try to load the best model from checkpoint\n",
    "    try:\n",
    "        loaded_model = TCNModel.load_from_checkpoint(model_name=_model_name, work_dir=_work_dir, best=True)\n",
    "        print(f\"Model loaded from checkpoint for trial {trial.number}\")\n",
    "    except FileNotFoundError:\n",
    "        print(f\"Checkpoint not found for {_model_name} in {_work_dir}. Using in-memory trained model.\")\n",
    "        loaded_model = model  # Use the trained model if loading fails (fallback)\n",
    "\n",
    "    # Generate historical forecasts to evaluate model performance\n",
    "    forecasts = loaded_model.historical_forecasts(\n",
    "        train_scaled,  # Use training data\n",
    "        start=0.8,  # Start forecasting at 80% of the training data\n",
    "        forecast_horizon=1,  # Forecast one step ahead\n",
    "        stride=1,  # Generate a forecast at each possible time point\n",
    "        retrain=False,  # Don't retrain the model for each forecast\n",
    "    )\n",
    "\n",
    "    # Inverse transform forecasts and actual values back to an original scale\n",
    "    forecasts_t = scaler.inverse_transform(forecasts)\n",
    "    s = scaler.inverse_transform(train_scaled).split_after(0.8)[1]  # Get the actual values for comparison\n",
    "\n",
    "    # Calculate performance metrics for each target variable\n",
    "    metrics = {}\n",
    "    print(\"Starting time series consistency verification...\")\n",
    "    try:\n",
    "        for target in target_columns:\n",
    "            # Calculate multiple error metrics for comprehensive evaluation\n",
    "            metrics[target] = {\n",
    "                'MSE': mse(s[target], forecasts_t[target]),  # Mean Squared Error\n",
    "                'RMSE': rmse(s[target], forecasts_t[target]),  # Root Mean Squared Error\n",
    "                'MAE': mae(s[target], forecasts_t[target]),  # Mean Absolute Error\n",
    "                'R2': r2_score(s[target], forecasts_t[target]),  # R-squared score\n",
    "                'SMAPE': smape(s[target], forecasts_t[target]),  # Symmetric Mean Absolute Percentage Error\n",
    "            }\n",
    "        # Create a DataFrame for better visualization of metrics\n",
    "        metrics_df = pd.DataFrame(metrics).T\n",
    "        print(\"\\nPerformance metrics:\")\n",
    "        print(metrics_df)\n",
    "    except Exception as e:\n",
    "        print(e)\n",
    "\n",
    "    # Calculate overall SMAPE across all variables (optimization target)\n",
    "    overall_smape_val = smape(s, forecasts_t)\n",
    "    print(f\"The SMAPE for this fold was {overall_smape_val}\")\n",
    "\n",
    "    # Store trial results in a dictionary\n",
    "    trial_dict = {\n",
    "        \"trial_number\": trial.number,\n",
    "        \"input_chunk_length\": input_chunk_length,\n",
    "        \"num_filters\": num_filters,\n",
    "        \"kernel_size\": kernel_size,\n",
    "        \"num_layers\": num_layers,\n",
    "        \"dilation_base\": dilation_base,\n",
    "        \"weight_norm\": weight_norm,\n",
    "        \"dropout\": dropout,\n",
    "        \"batch_size\": batch_size,\n",
    "        \"lr\": lr,\n",
    "        \"overall_smape_val\": overall_smape_val,\n",
    "        \"metrics\": metrics_df.to_dict(),\n",
    "    }\n",
    "    # Save trial results to a JSON file\n",
    "    json_path = os.path.join(results_output_dir, f\"trial_{trial.number}.json\")\n",
    "    with open(json_path, 'w') as f:\n",
    "        json.dump(trial_dict, f, indent=4)\n",
    "    print(f\"Results for trial {trial.number} saved to {json_path}\")\n",
    "\n",
    "    # Return the optimization metric (SMAPE), or infinity if NaN (to be minimized)\n",
    "    return overall_smape_val if not np.isnan(overall_smape_val) else float(\"inf\")"
   ],
   "id": "87fa7f94b90b1bc6",
   "outputs": [],
   "execution_count": 10
  },
  {
   "metadata": {
    "ExecuteTime": {
     "end_time": "2025-05-19T19:46:44.232942Z",
     "start_time": "2025-05-19T19:46:44.229855Z"
    }
   },
   "cell_type": "code",
   "source": [
    "# Callback function to print trial progress information\n",
    "def print_callback(study, trial):\n",
    "    \"\"\"Print current trial results and best results so far.\"\"\"\n",
    "    print(f\"Current value: {trial.value}, Current params: {trial.params}\")\n",
    "    print(f\"Best value: {study.best_value}, Best params: {study.best_trial.params}\")"
   ],
   "id": "e190bc18e240a1b5",
   "outputs": [],
   "execution_count": 6
  },
  {
   "metadata": {
    "ExecuteTime": {
     "end_time": "2025-05-19T21:15:40.421133Z",
     "start_time": "2025-05-19T19:46:44.277339Z"
    }
   },
   "cell_type": "code",
   "source": [
    "# Create and run the optimization study\n",
    "study = optuna.create_study(direction=\"minimize\")  # We want to minimize SMAPE\n",
    "study.optimize(objective, n_trials=50, callbacks=[print_callback])"
   ],
   "id": "30fe1feec8393f1c",
   "outputs": [
    {
     "name": "stderr",
     "output_type": "stream",
     "text": [
      "[I 2025-05-19 16:46:44,278] A new study created in memory with name: no-name-746b50d5-31d2-4f56-b842-12853d2ca6cd\n"
     ]
    },
    {
     "name": "stdout",
     "output_type": "stream",
     "text": [
      "\n",
      "Starting Trial 0\n",
      "Hyperparameters: {'input_chunk_length': 67, 'num_filters': 10, 'kernel_size': 4, 'num_layers': 5, 'dilation_base': 3, 'weight_norm': True, 'dropout': 0.2788025910221225, 'batch_size': 44, 'lr': 0.0007275979677543863}\n",
      "\n",
      "Training the model...\n",
      "Train set: 6647 samples\n",
      "Validation set: 1662 samples\n"
     ]
    },
    {
     "name": "stderr",
     "output_type": "stream",
     "text": [
      "GPU available: True (cuda), used: True\n",
      "TPU available: False, using: 0 TPU cores\n",
      "HPU available: False, using: 0 HPUs\n",
      "LOCAL_RANK: 0 - CUDA_VISIBLE_DEVICES: [0]\n",
      "\n",
      "  | Name            | Type             | Params | Mode \n",
      "-------------------------------------------------------------\n",
      "0 | criterion       | HuberLoss        | 0      | train\n",
      "1 | train_criterion | HuberLoss        | 0      | train\n",
      "2 | val_criterion   | HuberLoss        | 0      | train\n",
      "3 | train_metrics   | MetricCollection | 0      | train\n",
      "4 | val_metrics     | MetricCollection | 0      | train\n",
      "5 | res_blocks      | ModuleList       | 4.7 K  | train\n",
      "-------------------------------------------------------------\n",
      "4.7 K     Trainable params\n",
      "0         Non-trainable params\n",
      "4.7 K     Total params\n",
      "0.019     Total estimated model params size (MB)\n",
      "63        Modules in train mode\n",
      "0         Modules in eval mode\n"
     ]
    },
    {
     "data": {
      "text/plain": [
       "Sanity Checking: |          | 0/? [00:00<?, ?it/s]"
      ],
      "application/vnd.jupyter.widget-view+json": {
       "version_major": 2,
       "version_minor": 0,
       "model_id": "3a5e94fe10674f47a194f0b37664dbff"
      }
     },
     "metadata": {},
     "output_type": "display_data"
    },
    {
     "data": {
      "text/plain": [
       "Training: |          | 0/? [00:00<?, ?it/s]"
      ],
      "application/vnd.jupyter.widget-view+json": {
       "version_major": 2,
       "version_minor": 0,
       "model_id": "1c6c4cee0a4e4fab8e1c989f905a7ed6"
      }
     },
     "metadata": {},
     "output_type": "display_data"
    },
    {
     "data": {
      "text/plain": [
       "Validation: |          | 0/? [00:00<?, ?it/s]"
      ],
      "application/vnd.jupyter.widget-view+json": {
       "version_major": 2,
       "version_minor": 0,
       "model_id": "b3c4e66ec00b4935bbb2141c92363583"
      }
     },
     "metadata": {},
     "output_type": "display_data"
    },
    {
     "name": "stderr",
     "output_type": "stream",
     "text": [
      "Metric val_loss improved. New best score: 0.032\n"
     ]
    },
    {
     "data": {
      "text/plain": [
       "Validation: |          | 0/? [00:00<?, ?it/s]"
      ],
      "application/vnd.jupyter.widget-view+json": {
       "version_major": 2,
       "version_minor": 0,
       "model_id": "8239541c33fa45ceb5db38bedabd6d09"
      }
     },
     "metadata": {},
     "output_type": "display_data"
    },
    {
     "name": "stderr",
     "output_type": "stream",
     "text": [
      "Metric val_loss improved by 0.006 >= min_delta = 0.001. New best score: 0.026\n"
     ]
    },
    {
     "data": {
      "text/plain": [
       "Validation: |          | 0/? [00:00<?, ?it/s]"
      ],
      "application/vnd.jupyter.widget-view+json": {
       "version_major": 2,
       "version_minor": 0,
       "model_id": "8b7dab3d79b5480f8fa0bce5fc4b73c1"
      }
     },
     "metadata": {},
     "output_type": "display_data"
    },
    {
     "name": "stderr",
     "output_type": "stream",
     "text": [
      "Metric val_loss improved by 0.001 >= min_delta = 0.001. New best score: 0.024\n"
     ]
    },
    {
     "data": {
      "text/plain": [
       "Validation: |          | 0/? [00:00<?, ?it/s]"
      ],
      "application/vnd.jupyter.widget-view+json": {
       "version_major": 2,
       "version_minor": 0,
       "model_id": "f1dde8d7537341f3a7d89cc4771d2104"
      }
     },
     "metadata": {},
     "output_type": "display_data"
    },
    {
     "name": "stderr",
     "output_type": "stream",
     "text": [
      "Metric val_loss improved by 0.001 >= min_delta = 0.001. New best score: 0.023\n"
     ]
    },
    {
     "data": {
      "text/plain": [
       "Validation: |          | 0/? [00:00<?, ?it/s]"
      ],
      "application/vnd.jupyter.widget-view+json": {
       "version_major": 2,
       "version_minor": 0,
       "model_id": "fd166b3f43234352a1d6dd4686706813"
      }
     },
     "metadata": {},
     "output_type": "display_data"
    },
    {
     "data": {
      "text/plain": [
       "Validation: |          | 0/? [00:00<?, ?it/s]"
      ],
      "application/vnd.jupyter.widget-view+json": {
       "version_major": 2,
       "version_minor": 0,
       "model_id": "8b3ad5a10f74477eb208fe54fd00d689"
      }
     },
     "metadata": {},
     "output_type": "display_data"
    },
    {
     "name": "stderr",
     "output_type": "stream",
     "text": [
      "Metric val_loss improved by 0.001 >= min_delta = 0.001. New best score: 0.022\n"
     ]
    },
    {
     "data": {
      "text/plain": [
       "Validation: |          | 0/? [00:00<?, ?it/s]"
      ],
      "application/vnd.jupyter.widget-view+json": {
       "version_major": 2,
       "version_minor": 0,
       "model_id": "020d705691a14729b9d0a28de73305d4"
      }
     },
     "metadata": {},
     "output_type": "display_data"
    },
    {
     "data": {
      "text/plain": [
       "Validation: |          | 0/? [00:00<?, ?it/s]"
      ],
      "application/vnd.jupyter.widget-view+json": {
       "version_major": 2,
       "version_minor": 0,
       "model_id": "2b67cae1c6b641baa7106b4d5517ed40"
      }
     },
     "metadata": {},
     "output_type": "display_data"
    },
    {
     "name": "stderr",
     "output_type": "stream",
     "text": [
      "Metric val_loss improved by 0.001 >= min_delta = 0.001. New best score: 0.021\n"
     ]
    },
    {
     "data": {
      "text/plain": [
       "Validation: |          | 0/? [00:00<?, ?it/s]"
      ],
      "application/vnd.jupyter.widget-view+json": {
       "version_major": 2,
       "version_minor": 0,
       "model_id": "f036e0fed4e845a48f1ba5d665fbe7ff"
      }
     },
     "metadata": {},
     "output_type": "display_data"
    },
    {
     "data": {
      "text/plain": [
       "Validation: |          | 0/? [00:00<?, ?it/s]"
      ],
      "application/vnd.jupyter.widget-view+json": {
       "version_major": 2,
       "version_minor": 0,
       "model_id": "74f40787f81244009744c51da9510833"
      }
     },
     "metadata": {},
     "output_type": "display_data"
    },
    {
     "name": "stderr",
     "output_type": "stream",
     "text": [
      "Metric val_loss improved by 0.002 >= min_delta = 0.001. New best score: 0.019\n"
     ]
    },
    {
     "data": {
      "text/plain": [
       "Validation: |          | 0/? [00:00<?, ?it/s]"
      ],
      "application/vnd.jupyter.widget-view+json": {
       "version_major": 2,
       "version_minor": 0,
       "model_id": "61917a6260b7454cb11d872d22671ebd"
      }
     },
     "metadata": {},
     "output_type": "display_data"
    },
    {
     "name": "stderr",
     "output_type": "stream",
     "text": [
      "Metric val_loss improved by 0.001 >= min_delta = 0.001. New best score: 0.018\n"
     ]
    },
    {
     "data": {
      "text/plain": [
       "Validation: |          | 0/? [00:00<?, ?it/s]"
      ],
      "application/vnd.jupyter.widget-view+json": {
       "version_major": 2,
       "version_minor": 0,
       "model_id": "448b4ce3256e4b85ac771b2fb8ee6d4d"
      }
     },
     "metadata": {},
     "output_type": "display_data"
    },
    {
     "name": "stderr",
     "output_type": "stream",
     "text": [
      "Metric val_loss improved by 0.001 >= min_delta = 0.001. New best score: 0.017\n"
     ]
    },
    {
     "data": {
      "text/plain": [
       "Validation: |          | 0/? [00:00<?, ?it/s]"
      ],
      "application/vnd.jupyter.widget-view+json": {
       "version_major": 2,
       "version_minor": 0,
       "model_id": "d65b9ebc84bd4f4f897c8e71e7fc57e9"
      }
     },
     "metadata": {},
     "output_type": "display_data"
    },
    {
     "data": {
      "text/plain": [
       "Validation: |          | 0/? [00:00<?, ?it/s]"
      ],
      "application/vnd.jupyter.widget-view+json": {
       "version_major": 2,
       "version_minor": 0,
       "model_id": "2b8701747baa47628a28925e5bce7c21"
      }
     },
     "metadata": {},
     "output_type": "display_data"
    },
    {
     "name": "stderr",
     "output_type": "stream",
     "text": [
      "Metric val_loss improved by 0.002 >= min_delta = 0.001. New best score: 0.015\n"
     ]
    },
    {
     "data": {
      "text/plain": [
       "Validation: |          | 0/? [00:00<?, ?it/s]"
      ],
      "application/vnd.jupyter.widget-view+json": {
       "version_major": 2,
       "version_minor": 0,
       "model_id": "700de95bacbc489d81bc0c35d4e7d05a"
      }
     },
     "metadata": {},
     "output_type": "display_data"
    },
    {
     "data": {
      "text/plain": [
       "Validation: |          | 0/? [00:00<?, ?it/s]"
      ],
      "application/vnd.jupyter.widget-view+json": {
       "version_major": 2,
       "version_minor": 0,
       "model_id": "e262b83e301c428ab2bf966a3390d07f"
      }
     },
     "metadata": {},
     "output_type": "display_data"
    },
    {
     "name": "stderr",
     "output_type": "stream",
     "text": [
      "Metric val_loss improved by 0.001 >= min_delta = 0.001. New best score: 0.014\n"
     ]
    },
    {
     "data": {
      "text/plain": [
       "Validation: |          | 0/? [00:00<?, ?it/s]"
      ],
      "application/vnd.jupyter.widget-view+json": {
       "version_major": 2,
       "version_minor": 0,
       "model_id": "d87333c95d6f40e3bfc7fde6aa2383c7"
      }
     },
     "metadata": {},
     "output_type": "display_data"
    },
    {
     "data": {
      "text/plain": [
       "Validation: |          | 0/? [00:00<?, ?it/s]"
      ],
      "application/vnd.jupyter.widget-view+json": {
       "version_major": 2,
       "version_minor": 0,
       "model_id": "3c2ad61011bf46a0a204653a2a54164e"
      }
     },
     "metadata": {},
     "output_type": "display_data"
    },
    {
     "data": {
      "text/plain": [
       "Validation: |          | 0/? [00:00<?, ?it/s]"
      ],
      "application/vnd.jupyter.widget-view+json": {
       "version_major": 2,
       "version_minor": 0,
       "model_id": "9728dd7886e24a6aacf4e8ab2519457e"
      }
     },
     "metadata": {},
     "output_type": "display_data"
    },
    {
     "name": "stderr",
     "output_type": "stream",
     "text": [
      "Metric val_loss improved by 0.001 >= min_delta = 0.001. New best score: 0.013\n"
     ]
    },
    {
     "data": {
      "text/plain": [
       "Validation: |          | 0/? [00:00<?, ?it/s]"
      ],
      "application/vnd.jupyter.widget-view+json": {
       "version_major": 2,
       "version_minor": 0,
       "model_id": "fad71461491a4184b125bf02d4d8ef98"
      }
     },
     "metadata": {},
     "output_type": "display_data"
    },
    {
     "data": {
      "text/plain": [
       "Validation: |          | 0/? [00:00<?, ?it/s]"
      ],
      "application/vnd.jupyter.widget-view+json": {
       "version_major": 2,
       "version_minor": 0,
       "model_id": "d85bae2dcb34482eb8e9baae8a55bb20"
      }
     },
     "metadata": {},
     "output_type": "display_data"
    },
    {
     "data": {
      "text/plain": [
       "Validation: |          | 0/? [00:00<?, ?it/s]"
      ],
      "application/vnd.jupyter.widget-view+json": {
       "version_major": 2,
       "version_minor": 0,
       "model_id": "40d55ea3a9c74daaaaa462ed16316ce8"
      }
     },
     "metadata": {},
     "output_type": "display_data"
    },
    {
     "data": {
      "text/plain": [
       "Validation: |          | 0/? [00:00<?, ?it/s]"
      ],
      "application/vnd.jupyter.widget-view+json": {
       "version_major": 2,
       "version_minor": 0,
       "model_id": "8360308555b94c879dde5b996c3478e4"
      }
     },
     "metadata": {},
     "output_type": "display_data"
    },
    {
     "data": {
      "text/plain": [
       "Validation: |          | 0/? [00:00<?, ?it/s]"
      ],
      "application/vnd.jupyter.widget-view+json": {
       "version_major": 2,
       "version_minor": 0,
       "model_id": "9e46be7f5adb4cc78e3640692aae6fa4"
      }
     },
     "metadata": {},
     "output_type": "display_data"
    },
    {
     "data": {
      "text/plain": [
       "Validation: |          | 0/? [00:00<?, ?it/s]"
      ],
      "application/vnd.jupyter.widget-view+json": {
       "version_major": 2,
       "version_minor": 0,
       "model_id": "41a5e1c995da457f86778d0d56d3f75f"
      }
     },
     "metadata": {},
     "output_type": "display_data"
    },
    {
     "data": {
      "text/plain": [
       "Validation: |          | 0/? [00:00<?, ?it/s]"
      ],
      "application/vnd.jupyter.widget-view+json": {
       "version_major": 2,
       "version_minor": 0,
       "model_id": "7a24042de2374495ab00c5a6af6d3f23"
      }
     },
     "metadata": {},
     "output_type": "display_data"
    },
    {
     "data": {
      "text/plain": [
       "Validation: |          | 0/? [00:00<?, ?it/s]"
      ],
      "application/vnd.jupyter.widget-view+json": {
       "version_major": 2,
       "version_minor": 0,
       "model_id": "4fc360e0186f47d2a60bf0efb5ad7238"
      }
     },
     "metadata": {},
     "output_type": "display_data"
    },
    {
     "data": {
      "text/plain": [
       "Validation: |          | 0/? [00:00<?, ?it/s]"
      ],
      "application/vnd.jupyter.widget-view+json": {
       "version_major": 2,
       "version_minor": 0,
       "model_id": "f439d3e7645b424c9d4821bc1e1fff64"
      }
     },
     "metadata": {},
     "output_type": "display_data"
    },
    {
     "data": {
      "text/plain": [
       "Validation: |          | 0/? [00:00<?, ?it/s]"
      ],
      "application/vnd.jupyter.widget-view+json": {
       "version_major": 2,
       "version_minor": 0,
       "model_id": "f7de6d8477294753a7efcee5bd1298f1"
      }
     },
     "metadata": {},
     "output_type": "display_data"
    },
    {
     "name": "stderr",
     "output_type": "stream",
     "text": [
      "Monitored metric val_loss did not improve in the last 10 records. Best score: 0.013. Signaling Trainer to stop.\n",
      "GPU available: True (cuda), used: True\n",
      "TPU available: False, using: 0 TPU cores\n",
      "HPU available: False, using: 0 HPUs\n",
      "LOCAL_RANK: 0 - CUDA_VISIBLE_DEVICES: [0]\n"
     ]
    },
    {
     "name": "stdout",
     "output_type": "stream",
     "text": [
      "Model loaded from checkpoint for trial 0\n"
     ]
    },
    {
     "name": "stderr",
     "output_type": "stream",
     "text": [
      "/home/eduardo/Documentos/Water-Cycle-Neural-Network/venv/lib/python3.12/site-packages/pytorch_lightning/trainer/connectors/data_connector.py:425: The 'predict_dataloader' does not have many workers which may be a bottleneck. Consider increasing the value of the `num_workers` argument` to `num_workers=11` in the `DataLoader` to improve performance.\n",
      "[I 2025-05-19 16:50:18,559] Trial 0 finished with value: 44.34802074011704 and parameters: {'input_chunk_length': 67, 'num_filters': 10, 'kernel_size': 4, 'num_layers': 5, 'dilation_base': 3, 'weight_norm': True, 'dropout': 0.2788025910221225, 'batch_size': 44, 'lr': 0.0007275979677543863}. Best is trial 0 with value: 44.34802074011704.\n",
      "GPU available: True (cuda), used: True\n",
      "TPU available: False, using: 0 TPU cores\n",
      "HPU available: False, using: 0 HPUs\n",
      "LOCAL_RANK: 0 - CUDA_VISIBLE_DEVICES: [0]\n",
      "\n",
      "  | Name            | Type             | Params | Mode \n",
      "-------------------------------------------------------------\n",
      "0 | criterion       | HuberLoss        | 0      | train\n",
      "1 | train_criterion | HuberLoss        | 0      | train\n",
      "2 | val_criterion   | HuberLoss        | 0      | train\n",
      "3 | train_metrics   | MetricCollection | 0      | train\n",
      "4 | val_metrics     | MetricCollection | 0      | train\n",
      "5 | res_blocks      | ModuleList       | 113 K  | train\n",
      "-------------------------------------------------------------\n",
      "113 K     Trainable params\n",
      "0         Non-trainable params\n",
      "113 K     Total params\n",
      "0.456     Total estimated model params size (MB)\n",
      "41        Modules in train mode\n",
      "0         Modules in eval mode\n"
     ]
    },
    {
     "name": "stdout",
     "output_type": "stream",
     "text": [
      "Starting time series consistency verification...\n",
      "\n",
      "Performance metrics:\n",
      "                                   MSE       RMSE        MAE        R2  \\\n",
      "Temperature                   0.697624   0.835239   0.541808  0.795079   \n",
      "Precipitation_accumulated     6.174524   2.484859   2.009767 -5.505364   \n",
      "Humidity                      3.507139   1.872736   1.360702  0.946068   \n",
      "Wind_Speed_kmh                0.063080   0.251158   0.108474  0.814638   \n",
      "Soil_Moisture              8976.033713  94.741932  26.793863  0.987870   \n",
      "Soil_Temperature              0.605775   0.778316   0.570327  0.892061   \n",
      "Wind_Dir_Sin                  0.046120   0.214755   0.097407  0.712863   \n",
      "Wind_Dir_Cos                  0.043434   0.208408   0.086228  0.848712   \n",
      "\n",
      "                                SMAPE  \n",
      "Temperature                  9.229402  \n",
      "Precipitation_accumulated    0.436799  \n",
      "Humidity                     1.628881  \n",
      "Wind_Speed_kmh             157.699979  \n",
      "Soil_Moisture                0.428677  \n",
      "Soil_Temperature            16.595208  \n",
      "Wind_Dir_Sin               141.492770  \n",
      "Wind_Dir_Cos                27.272450  \n",
      "The SMAPE for this fold was 44.34802074011704\n",
      "Results for trial 0 saved to optuna_iteration_metrics/trial_0.json\n",
      "Current value: 44.34802074011704, Current params: {'input_chunk_length': 67, 'num_filters': 10, 'kernel_size': 4, 'num_layers': 5, 'dilation_base': 3, 'weight_norm': True, 'dropout': 0.2788025910221225, 'batch_size': 44, 'lr': 0.0007275979677543863}\n",
      "Best value: 44.34802074011704, Best params: {'input_chunk_length': 67, 'num_filters': 10, 'kernel_size': 4, 'num_layers': 5, 'dilation_base': 3, 'weight_norm': True, 'dropout': 0.2788025910221225, 'batch_size': 44, 'lr': 0.0007275979677543863}\n",
      "\n",
      "Starting Trial 1\n",
      "Hyperparameters: {'input_chunk_length': 8, 'num_filters': 60, 'kernel_size': 7, 'num_layers': 3, 'dilation_base': 4, 'weight_norm': True, 'dropout': 0.2635845999070931, 'batch_size': 64, 'lr': 0.0008647514964195404}\n",
      "\n",
      "Training the model...\n",
      "Train set: 6647 samples\n",
      "Validation set: 1662 samples\n"
     ]
    },
    {
     "data": {
      "text/plain": [
       "Sanity Checking: |          | 0/? [00:00<?, ?it/s]"
      ],
      "application/vnd.jupyter.widget-view+json": {
       "version_major": 2,
       "version_minor": 0,
       "model_id": "dd701baa82d94e6c91cd802102c5a865"
      }
     },
     "metadata": {},
     "output_type": "display_data"
    },
    {
     "data": {
      "text/plain": [
       "Training: |          | 0/? [00:00<?, ?it/s]"
      ],
      "application/vnd.jupyter.widget-view+json": {
       "version_major": 2,
       "version_minor": 0,
       "model_id": "dd6560e97e844ed3b747ca5750ed383b"
      }
     },
     "metadata": {},
     "output_type": "display_data"
    },
    {
     "data": {
      "text/plain": [
       "Validation: |          | 0/? [00:00<?, ?it/s]"
      ],
      "application/vnd.jupyter.widget-view+json": {
       "version_major": 2,
       "version_minor": 0,
       "model_id": "f0a2930e23194400979da14dc8368975"
      }
     },
     "metadata": {},
     "output_type": "display_data"
    },
    {
     "name": "stderr",
     "output_type": "stream",
     "text": [
      "Metric val_loss improved. New best score: 0.022\n"
     ]
    },
    {
     "data": {
      "text/plain": [
       "Validation: |          | 0/? [00:00<?, ?it/s]"
      ],
      "application/vnd.jupyter.widget-view+json": {
       "version_major": 2,
       "version_minor": 0,
       "model_id": "ed4524854e394074ab33c1ea5d18b753"
      }
     },
     "metadata": {},
     "output_type": "display_data"
    },
    {
     "name": "stderr",
     "output_type": "stream",
     "text": [
      "Metric val_loss improved by 0.005 >= min_delta = 0.001. New best score: 0.017\n"
     ]
    },
    {
     "data": {
      "text/plain": [
       "Validation: |          | 0/? [00:00<?, ?it/s]"
      ],
      "application/vnd.jupyter.widget-view+json": {
       "version_major": 2,
       "version_minor": 0,
       "model_id": "492533514f8943e7b5915cbc26bc5b4b"
      }
     },
     "metadata": {},
     "output_type": "display_data"
    },
    {
     "name": "stderr",
     "output_type": "stream",
     "text": [
      "Metric val_loss improved by 0.002 >= min_delta = 0.001. New best score: 0.016\n"
     ]
    },
    {
     "data": {
      "text/plain": [
       "Validation: |          | 0/? [00:00<?, ?it/s]"
      ],
      "application/vnd.jupyter.widget-view+json": {
       "version_major": 2,
       "version_minor": 0,
       "model_id": "a6a4badb65d4467ba0c191ee66d9580a"
      }
     },
     "metadata": {},
     "output_type": "display_data"
    },
    {
     "data": {
      "text/plain": [
       "Validation: |          | 0/? [00:00<?, ?it/s]"
      ],
      "application/vnd.jupyter.widget-view+json": {
       "version_major": 2,
       "version_minor": 0,
       "model_id": "5510b4a86353418983de2030d92922ab"
      }
     },
     "metadata": {},
     "output_type": "display_data"
    },
    {
     "name": "stderr",
     "output_type": "stream",
     "text": [
      "Metric val_loss improved by 0.001 >= min_delta = 0.001. New best score: 0.014\n"
     ]
    },
    {
     "data": {
      "text/plain": [
       "Validation: |          | 0/? [00:00<?, ?it/s]"
      ],
      "application/vnd.jupyter.widget-view+json": {
       "version_major": 2,
       "version_minor": 0,
       "model_id": "b488ee58849c430b8947d7defbae918b"
      }
     },
     "metadata": {},
     "output_type": "display_data"
    },
    {
     "data": {
      "text/plain": [
       "Validation: |          | 0/? [00:00<?, ?it/s]"
      ],
      "application/vnd.jupyter.widget-view+json": {
       "version_major": 2,
       "version_minor": 0,
       "model_id": "f3fa6b09559b42df9d0826f7bb60e3d3"
      }
     },
     "metadata": {},
     "output_type": "display_data"
    },
    {
     "data": {
      "text/plain": [
       "Validation: |          | 0/? [00:00<?, ?it/s]"
      ],
      "application/vnd.jupyter.widget-view+json": {
       "version_major": 2,
       "version_minor": 0,
       "model_id": "41989fcbf1c64414b49103e87266aed2"
      }
     },
     "metadata": {},
     "output_type": "display_data"
    },
    {
     "data": {
      "text/plain": [
       "Validation: |          | 0/? [00:00<?, ?it/s]"
      ],
      "application/vnd.jupyter.widget-view+json": {
       "version_major": 2,
       "version_minor": 0,
       "model_id": "c61033531dd14563b7052a22fcc2263f"
      }
     },
     "metadata": {},
     "output_type": "display_data"
    },
    {
     "data": {
      "text/plain": [
       "Validation: |          | 0/? [00:00<?, ?it/s]"
      ],
      "application/vnd.jupyter.widget-view+json": {
       "version_major": 2,
       "version_minor": 0,
       "model_id": "5009ad2e636645a397b4a09d4820a034"
      }
     },
     "metadata": {},
     "output_type": "display_data"
    },
    {
     "name": "stderr",
     "output_type": "stream",
     "text": [
      "Metric val_loss improved by 0.001 >= min_delta = 0.001. New best score: 0.013\n"
     ]
    },
    {
     "data": {
      "text/plain": [
       "Validation: |          | 0/? [00:00<?, ?it/s]"
      ],
      "application/vnd.jupyter.widget-view+json": {
       "version_major": 2,
       "version_minor": 0,
       "model_id": "dc92b0b8fe0e484f912b70a9de6bbea9"
      }
     },
     "metadata": {},
     "output_type": "display_data"
    },
    {
     "data": {
      "text/plain": [
       "Validation: |          | 0/? [00:00<?, ?it/s]"
      ],
      "application/vnd.jupyter.widget-view+json": {
       "version_major": 2,
       "version_minor": 0,
       "model_id": "e0cc61e986a94f6eb1f3cc1a9e7f425f"
      }
     },
     "metadata": {},
     "output_type": "display_data"
    },
    {
     "data": {
      "text/plain": [
       "Validation: |          | 0/? [00:00<?, ?it/s]"
      ],
      "application/vnd.jupyter.widget-view+json": {
       "version_major": 2,
       "version_minor": 0,
       "model_id": "fd79ab9c29574c068a1878a05373077f"
      }
     },
     "metadata": {},
     "output_type": "display_data"
    },
    {
     "data": {
      "text/plain": [
       "Validation: |          | 0/? [00:00<?, ?it/s]"
      ],
      "application/vnd.jupyter.widget-view+json": {
       "version_major": 2,
       "version_minor": 0,
       "model_id": "d181c6e2d477427d8d8172cab294eaca"
      }
     },
     "metadata": {},
     "output_type": "display_data"
    },
    {
     "data": {
      "text/plain": [
       "Validation: |          | 0/? [00:00<?, ?it/s]"
      ],
      "application/vnd.jupyter.widget-view+json": {
       "version_major": 2,
       "version_minor": 0,
       "model_id": "7bb91618fdfe48e5b18eaa52ca61853a"
      }
     },
     "metadata": {},
     "output_type": "display_data"
    },
    {
     "data": {
      "text/plain": [
       "Validation: |          | 0/? [00:00<?, ?it/s]"
      ],
      "application/vnd.jupyter.widget-view+json": {
       "version_major": 2,
       "version_minor": 0,
       "model_id": "0792c6c75c1944f38ad5c38bbad22919"
      }
     },
     "metadata": {},
     "output_type": "display_data"
    },
    {
     "data": {
      "text/plain": [
       "Validation: |          | 0/? [00:00<?, ?it/s]"
      ],
      "application/vnd.jupyter.widget-view+json": {
       "version_major": 2,
       "version_minor": 0,
       "model_id": "36a310a28ea94b98a14959de73fb890d"
      }
     },
     "metadata": {},
     "output_type": "display_data"
    },
    {
     "data": {
      "text/plain": [
       "Validation: |          | 0/? [00:00<?, ?it/s]"
      ],
      "application/vnd.jupyter.widget-view+json": {
       "version_major": 2,
       "version_minor": 0,
       "model_id": "28bfef0eeae14a30b77d9654f6d7db86"
      }
     },
     "metadata": {},
     "output_type": "display_data"
    },
    {
     "data": {
      "text/plain": [
       "Validation: |          | 0/? [00:00<?, ?it/s]"
      ],
      "application/vnd.jupyter.widget-view+json": {
       "version_major": 2,
       "version_minor": 0,
       "model_id": "24898e4949d842efb9dfbdc0178708b9"
      }
     },
     "metadata": {},
     "output_type": "display_data"
    },
    {
     "data": {
      "text/plain": [
       "Validation: |          | 0/? [00:00<?, ?it/s]"
      ],
      "application/vnd.jupyter.widget-view+json": {
       "version_major": 2,
       "version_minor": 0,
       "model_id": "8e4a91a8b5d4420f8e65ff201de63811"
      }
     },
     "metadata": {},
     "output_type": "display_data"
    },
    {
     "name": "stderr",
     "output_type": "stream",
     "text": [
      "Metric val_loss improved by 0.001 >= min_delta = 0.001. New best score: 0.012\n"
     ]
    },
    {
     "data": {
      "text/plain": [
       "Validation: |          | 0/? [00:00<?, ?it/s]"
      ],
      "application/vnd.jupyter.widget-view+json": {
       "version_major": 2,
       "version_minor": 0,
       "model_id": "d36f97dea8164147be7cb82bfbce47ac"
      }
     },
     "metadata": {},
     "output_type": "display_data"
    },
    {
     "data": {
      "text/plain": [
       "Validation: |          | 0/? [00:00<?, ?it/s]"
      ],
      "application/vnd.jupyter.widget-view+json": {
       "version_major": 2,
       "version_minor": 0,
       "model_id": "47008e71e994459681a99636769bdaed"
      }
     },
     "metadata": {},
     "output_type": "display_data"
    },
    {
     "data": {
      "text/plain": [
       "Validation: |          | 0/? [00:00<?, ?it/s]"
      ],
      "application/vnd.jupyter.widget-view+json": {
       "version_major": 2,
       "version_minor": 0,
       "model_id": "7c9fbe0f074243058c49f41a5758af1d"
      }
     },
     "metadata": {},
     "output_type": "display_data"
    },
    {
     "data": {
      "text/plain": [
       "Validation: |          | 0/? [00:00<?, ?it/s]"
      ],
      "application/vnd.jupyter.widget-view+json": {
       "version_major": 2,
       "version_minor": 0,
       "model_id": "14ee7741f20443ce8efd1a294bf1281b"
      }
     },
     "metadata": {},
     "output_type": "display_data"
    },
    {
     "data": {
      "text/plain": [
       "Validation: |          | 0/? [00:00<?, ?it/s]"
      ],
      "application/vnd.jupyter.widget-view+json": {
       "version_major": 2,
       "version_minor": 0,
       "model_id": "61caff8db54846319386297000f573b6"
      }
     },
     "metadata": {},
     "output_type": "display_data"
    },
    {
     "data": {
      "text/plain": [
       "Validation: |          | 0/? [00:00<?, ?it/s]"
      ],
      "application/vnd.jupyter.widget-view+json": {
       "version_major": 2,
       "version_minor": 0,
       "model_id": "ea6925371d3e448cadcdca9c9ee6504d"
      }
     },
     "metadata": {},
     "output_type": "display_data"
    },
    {
     "data": {
      "text/plain": [
       "Validation: |          | 0/? [00:00<?, ?it/s]"
      ],
      "application/vnd.jupyter.widget-view+json": {
       "version_major": 2,
       "version_minor": 0,
       "model_id": "899bdd66306d4a10b43d65774cb691f4"
      }
     },
     "metadata": {},
     "output_type": "display_data"
    },
    {
     "data": {
      "text/plain": [
       "Validation: |          | 0/? [00:00<?, ?it/s]"
      ],
      "application/vnd.jupyter.widget-view+json": {
       "version_major": 2,
       "version_minor": 0,
       "model_id": "4eeb14c7c692404497f3d09077756af8"
      }
     },
     "metadata": {},
     "output_type": "display_data"
    },
    {
     "data": {
      "text/plain": [
       "Validation: |          | 0/? [00:00<?, ?it/s]"
      ],
      "application/vnd.jupyter.widget-view+json": {
       "version_major": 2,
       "version_minor": 0,
       "model_id": "8874c60d1bea4d99b2c17b5a43887e43"
      }
     },
     "metadata": {},
     "output_type": "display_data"
    },
    {
     "data": {
      "text/plain": [
       "Validation: |          | 0/? [00:00<?, ?it/s]"
      ],
      "application/vnd.jupyter.widget-view+json": {
       "version_major": 2,
       "version_minor": 0,
       "model_id": "614273ffbd04422aa53c262401ac5511"
      }
     },
     "metadata": {},
     "output_type": "display_data"
    },
    {
     "name": "stderr",
     "output_type": "stream",
     "text": [
      "Monitored metric val_loss did not improve in the last 10 records. Best score: 0.012. Signaling Trainer to stop.\n",
      "`Trainer.fit` stopped: `max_epochs=30` reached.\n",
      "GPU available: True (cuda), used: True\n",
      "TPU available: False, using: 0 TPU cores\n",
      "HPU available: False, using: 0 HPUs\n",
      "LOCAL_RANK: 0 - CUDA_VISIBLE_DEVICES: [0]\n"
     ]
    },
    {
     "name": "stdout",
     "output_type": "stream",
     "text": [
      "Model loaded from checkpoint for trial 1\n"
     ]
    },
    {
     "name": "stderr",
     "output_type": "stream",
     "text": [
      "/home/eduardo/Documentos/Water-Cycle-Neural-Network/venv/lib/python3.12/site-packages/pytorch_lightning/trainer/connectors/data_connector.py:425: The 'predict_dataloader' does not have many workers which may be a bottleneck. Consider increasing the value of the `num_workers` argument` to `num_workers=11` in the `DataLoader` to improve performance.\n",
      "[I 2025-05-19 16:55:40,034] Trial 1 finished with value: 41.89338195037229 and parameters: {'input_chunk_length': 8, 'num_filters': 60, 'kernel_size': 7, 'num_layers': 3, 'dilation_base': 4, 'weight_norm': True, 'dropout': 0.2635845999070931, 'batch_size': 64, 'lr': 0.0008647514964195404}. Best is trial 1 with value: 41.89338195037229.\n",
      "GPU available: True (cuda), used: True\n",
      "TPU available: False, using: 0 TPU cores\n",
      "HPU available: False, using: 0 HPUs\n",
      "LOCAL_RANK: 0 - CUDA_VISIBLE_DEVICES: [0]\n",
      "\n",
      "  | Name            | Type             | Params | Mode \n",
      "-------------------------------------------------------------\n",
      "0 | criterion       | HuberLoss        | 0      | train\n",
      "1 | train_criterion | HuberLoss        | 0      | train\n",
      "2 | val_criterion   | HuberLoss        | 0      | train\n",
      "3 | train_metrics   | MetricCollection | 0      | train\n",
      "4 | val_metrics     | MetricCollection | 0      | train\n",
      "5 | res_blocks      | ModuleList       | 248 K  | train\n",
      "-------------------------------------------------------------\n",
      "248 K     Trainable params\n",
      "0         Non-trainable params\n",
      "248 K     Total params\n",
      "0.995     Total estimated model params size (MB)\n",
      "74        Modules in train mode\n",
      "0         Modules in eval mode\n"
     ]
    },
    {
     "name": "stdout",
     "output_type": "stream",
     "text": [
      "Starting time series consistency verification...\n",
      "\n",
      "Performance metrics:\n",
      "                                   MSE       RMSE        MAE        R2  \\\n",
      "Temperature                   0.346096   0.588299   0.382656  0.898337   \n",
      "Precipitation_accumulated     9.447934   3.073749   2.460936 -8.954167   \n",
      "Humidity                      1.702270   1.304711   0.687680  0.973823   \n",
      "Wind_Speed_kmh                0.059816   0.244574   0.104043  0.824229   \n",
      "Soil_Moisture              9232.876065  96.087856  26.076845  0.987523   \n",
      "Soil_Temperature              0.172000   0.414729   0.265876  0.969352   \n",
      "Wind_Dir_Sin                  0.041251   0.203104   0.090566  0.743172   \n",
      "Wind_Dir_Cos                  0.037459   0.193542   0.084224  0.869524   \n",
      "\n",
      "                                SMAPE  \n",
      "Temperature                  6.861204  \n",
      "Precipitation_accumulated    0.534703  \n",
      "Humidity                     0.819552  \n",
      "Wind_Speed_kmh             150.334662  \n",
      "Soil_Moisture                0.397771  \n",
      "Soil_Temperature            11.568423  \n",
      "Wind_Dir_Sin               139.693908  \n",
      "Wind_Dir_Cos                24.936833  \n",
      "The SMAPE for this fold was 41.89338195037229\n",
      "Results for trial 1 saved to optuna_iteration_metrics/trial_1.json\n",
      "Current value: 41.89338195037229, Current params: {'input_chunk_length': 8, 'num_filters': 60, 'kernel_size': 7, 'num_layers': 3, 'dilation_base': 4, 'weight_norm': True, 'dropout': 0.2635845999070931, 'batch_size': 64, 'lr': 0.0008647514964195404}\n",
      "Best value: 41.89338195037229, Best params: {'input_chunk_length': 8, 'num_filters': 60, 'kernel_size': 7, 'num_layers': 3, 'dilation_base': 4, 'weight_norm': True, 'dropout': 0.2635845999070931, 'batch_size': 64, 'lr': 0.0008647514964195404}\n",
      "\n",
      "Starting Trial 2\n",
      "Hyperparameters: {'input_chunk_length': 20, 'num_filters': 109, 'kernel_size': 2, 'num_layers': 6, 'dilation_base': 4, 'weight_norm': True, 'dropout': 0.15531203611947797, 'batch_size': 29, 'lr': 0.0002474912028329941}\n",
      "\n",
      "Training the model...\n",
      "Train set: 6647 samples\n",
      "Validation set: 1662 samples\n"
     ]
    },
    {
     "data": {
      "text/plain": [
       "Sanity Checking: |          | 0/? [00:00<?, ?it/s]"
      ],
      "application/vnd.jupyter.widget-view+json": {
       "version_major": 2,
       "version_minor": 0,
       "model_id": "fedfa0d84a514ad3a79d57691b8e102c"
      }
     },
     "metadata": {},
     "output_type": "display_data"
    },
    {
     "data": {
      "text/plain": [
       "Training: |          | 0/? [00:00<?, ?it/s]"
      ],
      "application/vnd.jupyter.widget-view+json": {
       "version_major": 2,
       "version_minor": 0,
       "model_id": "276048cc4f494150af5d85b4d67c9aaf"
      }
     },
     "metadata": {},
     "output_type": "display_data"
    },
    {
     "data": {
      "text/plain": [
       "Validation: |          | 0/? [00:00<?, ?it/s]"
      ],
      "application/vnd.jupyter.widget-view+json": {
       "version_major": 2,
       "version_minor": 0,
       "model_id": "71a9587b2bae409f908d06316eb227f0"
      }
     },
     "metadata": {},
     "output_type": "display_data"
    },
    {
     "name": "stderr",
     "output_type": "stream",
     "text": [
      "Metric val_loss improved. New best score: 0.018\n"
     ]
    },
    {
     "data": {
      "text/plain": [
       "Validation: |          | 0/? [00:00<?, ?it/s]"
      ],
      "application/vnd.jupyter.widget-view+json": {
       "version_major": 2,
       "version_minor": 0,
       "model_id": "2789cfd775394d84b077e1dfb12c6fb4"
      }
     },
     "metadata": {},
     "output_type": "display_data"
    },
    {
     "name": "stderr",
     "output_type": "stream",
     "text": [
      "Metric val_loss improved by 0.002 >= min_delta = 0.001. New best score: 0.016\n"
     ]
    },
    {
     "data": {
      "text/plain": [
       "Validation: |          | 0/? [00:00<?, ?it/s]"
      ],
      "application/vnd.jupyter.widget-view+json": {
       "version_major": 2,
       "version_minor": 0,
       "model_id": "717d3f12e3f8455f97ad287dce397e1d"
      }
     },
     "metadata": {},
     "output_type": "display_data"
    },
    {
     "data": {
      "text/plain": [
       "Validation: |          | 0/? [00:00<?, ?it/s]"
      ],
      "application/vnd.jupyter.widget-view+json": {
       "version_major": 2,
       "version_minor": 0,
       "model_id": "d84c6152b16541ce9564bd007dcf26e1"
      }
     },
     "metadata": {},
     "output_type": "display_data"
    },
    {
     "name": "stderr",
     "output_type": "stream",
     "text": [
      "Metric val_loss improved by 0.001 >= min_delta = 0.001. New best score: 0.015\n"
     ]
    },
    {
     "data": {
      "text/plain": [
       "Validation: |          | 0/? [00:00<?, ?it/s]"
      ],
      "application/vnd.jupyter.widget-view+json": {
       "version_major": 2,
       "version_minor": 0,
       "model_id": "de70d1e333164869a6f12129b11d94b0"
      }
     },
     "metadata": {},
     "output_type": "display_data"
    },
    {
     "data": {
      "text/plain": [
       "Validation: |          | 0/? [00:00<?, ?it/s]"
      ],
      "application/vnd.jupyter.widget-view+json": {
       "version_major": 2,
       "version_minor": 0,
       "model_id": "1942151798d24687bbae06c26a72a0f6"
      }
     },
     "metadata": {},
     "output_type": "display_data"
    },
    {
     "data": {
      "text/plain": [
       "Validation: |          | 0/? [00:00<?, ?it/s]"
      ],
      "application/vnd.jupyter.widget-view+json": {
       "version_major": 2,
       "version_minor": 0,
       "model_id": "4be2ce6ce3e44c469d1740401fb9dacd"
      }
     },
     "metadata": {},
     "output_type": "display_data"
    },
    {
     "data": {
      "text/plain": [
       "Validation: |          | 0/? [00:00<?, ?it/s]"
      ],
      "application/vnd.jupyter.widget-view+json": {
       "version_major": 2,
       "version_minor": 0,
       "model_id": "ec663b98e2634a349205b10b29aadf39"
      }
     },
     "metadata": {},
     "output_type": "display_data"
    },
    {
     "name": "stderr",
     "output_type": "stream",
     "text": [
      "Metric val_loss improved by 0.001 >= min_delta = 0.001. New best score: 0.014\n"
     ]
    },
    {
     "data": {
      "text/plain": [
       "Validation: |          | 0/? [00:00<?, ?it/s]"
      ],
      "application/vnd.jupyter.widget-view+json": {
       "version_major": 2,
       "version_minor": 0,
       "model_id": "e9fb76b703e2495f80163a26abe23f48"
      }
     },
     "metadata": {},
     "output_type": "display_data"
    },
    {
     "data": {
      "text/plain": [
       "Validation: |          | 0/? [00:00<?, ?it/s]"
      ],
      "application/vnd.jupyter.widget-view+json": {
       "version_major": 2,
       "version_minor": 0,
       "model_id": "39875f32b93f49d8b82856a9ad3b974f"
      }
     },
     "metadata": {},
     "output_type": "display_data"
    },
    {
     "data": {
      "text/plain": [
       "Validation: |          | 0/? [00:00<?, ?it/s]"
      ],
      "application/vnd.jupyter.widget-view+json": {
       "version_major": 2,
       "version_minor": 0,
       "model_id": "dc4f49d5c51a40ed83fe861c91753072"
      }
     },
     "metadata": {},
     "output_type": "display_data"
    },
    {
     "data": {
      "text/plain": [
       "Validation: |          | 0/? [00:00<?, ?it/s]"
      ],
      "application/vnd.jupyter.widget-view+json": {
       "version_major": 2,
       "version_minor": 0,
       "model_id": "97b9cdef8b954e07b0e726a84dd82a57"
      }
     },
     "metadata": {},
     "output_type": "display_data"
    },
    {
     "data": {
      "text/plain": [
       "Validation: |          | 0/? [00:00<?, ?it/s]"
      ],
      "application/vnd.jupyter.widget-view+json": {
       "version_major": 2,
       "version_minor": 0,
       "model_id": "5f87ab9435384fe7bd25937279a0e433"
      }
     },
     "metadata": {},
     "output_type": "display_data"
    },
    {
     "data": {
      "text/plain": [
       "Validation: |          | 0/? [00:00<?, ?it/s]"
      ],
      "application/vnd.jupyter.widget-view+json": {
       "version_major": 2,
       "version_minor": 0,
       "model_id": "f42b7fb68d5d482e9896a6bf12453941"
      }
     },
     "metadata": {},
     "output_type": "display_data"
    },
    {
     "data": {
      "text/plain": [
       "Validation: |          | 0/? [00:00<?, ?it/s]"
      ],
      "application/vnd.jupyter.widget-view+json": {
       "version_major": 2,
       "version_minor": 0,
       "model_id": "ab423457abb34466be1412d023c31c31"
      }
     },
     "metadata": {},
     "output_type": "display_data"
    },
    {
     "data": {
      "text/plain": [
       "Validation: |          | 0/? [00:00<?, ?it/s]"
      ],
      "application/vnd.jupyter.widget-view+json": {
       "version_major": 2,
       "version_minor": 0,
       "model_id": "608f86cdbec74ef0865801f05badea2a"
      }
     },
     "metadata": {},
     "output_type": "display_data"
    },
    {
     "data": {
      "text/plain": [
       "Validation: |          | 0/? [00:00<?, ?it/s]"
      ],
      "application/vnd.jupyter.widget-view+json": {
       "version_major": 2,
       "version_minor": 0,
       "model_id": "71722c72eacc4776b88f9dfd673503c8"
      }
     },
     "metadata": {},
     "output_type": "display_data"
    },
    {
     "data": {
      "text/plain": [
       "Validation: |          | 0/? [00:00<?, ?it/s]"
      ],
      "application/vnd.jupyter.widget-view+json": {
       "version_major": 2,
       "version_minor": 0,
       "model_id": "e8005891fb82453fb1fceaf673a4d910"
      }
     },
     "metadata": {},
     "output_type": "display_data"
    },
    {
     "name": "stderr",
     "output_type": "stream",
     "text": [
      "Metric val_loss improved by 0.001 >= min_delta = 0.001. New best score: 0.013\n"
     ]
    },
    {
     "data": {
      "text/plain": [
       "Validation: |          | 0/? [00:00<?, ?it/s]"
      ],
      "application/vnd.jupyter.widget-view+json": {
       "version_major": 2,
       "version_minor": 0,
       "model_id": "5fda4991646f4224b2b93ba9a0de4c68"
      }
     },
     "metadata": {},
     "output_type": "display_data"
    },
    {
     "data": {
      "text/plain": [
       "Validation: |          | 0/? [00:00<?, ?it/s]"
      ],
      "application/vnd.jupyter.widget-view+json": {
       "version_major": 2,
       "version_minor": 0,
       "model_id": "b6133d8602be4b17b3de9ad172aa2549"
      }
     },
     "metadata": {},
     "output_type": "display_data"
    },
    {
     "data": {
      "text/plain": [
       "Validation: |          | 0/? [00:00<?, ?it/s]"
      ],
      "application/vnd.jupyter.widget-view+json": {
       "version_major": 2,
       "version_minor": 0,
       "model_id": "e616c28ef7c943e2befe3986471b3702"
      }
     },
     "metadata": {},
     "output_type": "display_data"
    },
    {
     "data": {
      "text/plain": [
       "Validation: |          | 0/? [00:00<?, ?it/s]"
      ],
      "application/vnd.jupyter.widget-view+json": {
       "version_major": 2,
       "version_minor": 0,
       "model_id": "82d664c3715e4520a0f4462f93d04325"
      }
     },
     "metadata": {},
     "output_type": "display_data"
    },
    {
     "data": {
      "text/plain": [
       "Validation: |          | 0/? [00:00<?, ?it/s]"
      ],
      "application/vnd.jupyter.widget-view+json": {
       "version_major": 2,
       "version_minor": 0,
       "model_id": "427a7bf9fc79406f94106795c637da8b"
      }
     },
     "metadata": {},
     "output_type": "display_data"
    },
    {
     "data": {
      "text/plain": [
       "Validation: |          | 0/? [00:00<?, ?it/s]"
      ],
      "application/vnd.jupyter.widget-view+json": {
       "version_major": 2,
       "version_minor": 0,
       "model_id": "22f6381fcd664d4695633e2e12fd81ff"
      }
     },
     "metadata": {},
     "output_type": "display_data"
    },
    {
     "data": {
      "text/plain": [
       "Validation: |          | 0/? [00:00<?, ?it/s]"
      ],
      "application/vnd.jupyter.widget-view+json": {
       "version_major": 2,
       "version_minor": 0,
       "model_id": "d9dd14dfa4e34b75a4551bc9ef6b52ac"
      }
     },
     "metadata": {},
     "output_type": "display_data"
    },
    {
     "data": {
      "text/plain": [
       "Validation: |          | 0/? [00:00<?, ?it/s]"
      ],
      "application/vnd.jupyter.widget-view+json": {
       "version_major": 2,
       "version_minor": 0,
       "model_id": "01c2525bd4cb48c8bb1bddbc2e1b9270"
      }
     },
     "metadata": {},
     "output_type": "display_data"
    },
    {
     "data": {
      "text/plain": [
       "Validation: |          | 0/? [00:00<?, ?it/s]"
      ],
      "application/vnd.jupyter.widget-view+json": {
       "version_major": 2,
       "version_minor": 0,
       "model_id": "97c2cef580ff4597bc294fd7b0566a8d"
      }
     },
     "metadata": {},
     "output_type": "display_data"
    },
    {
     "data": {
      "text/plain": [
       "Validation: |          | 0/? [00:00<?, ?it/s]"
      ],
      "application/vnd.jupyter.widget-view+json": {
       "version_major": 2,
       "version_minor": 0,
       "model_id": "03bccd6b6c11450295608873b78b424a"
      }
     },
     "metadata": {},
     "output_type": "display_data"
    },
    {
     "name": "stderr",
     "output_type": "stream",
     "text": [
      "Monitored metric val_loss did not improve in the last 10 records. Best score: 0.013. Signaling Trainer to stop.\n",
      "GPU available: True (cuda), used: True\n",
      "TPU available: False, using: 0 TPU cores\n",
      "HPU available: False, using: 0 HPUs\n",
      "LOCAL_RANK: 0 - CUDA_VISIBLE_DEVICES: [0]\n"
     ]
    },
    {
     "name": "stdout",
     "output_type": "stream",
     "text": [
      "Model loaded from checkpoint for trial 2\n"
     ]
    },
    {
     "name": "stderr",
     "output_type": "stream",
     "text": [
      "/home/eduardo/Documentos/Water-Cycle-Neural-Network/venv/lib/python3.12/site-packages/pytorch_lightning/trainer/connectors/data_connector.py:425: The 'predict_dataloader' does not have many workers which may be a bottleneck. Consider increasing the value of the `num_workers` argument` to `num_workers=11` in the `DataLoader` to improve performance.\n",
      "[I 2025-05-19 17:15:01,174] Trial 2 finished with value: 39.99407731033253 and parameters: {'input_chunk_length': 20, 'num_filters': 109, 'kernel_size': 2, 'num_layers': 6, 'dilation_base': 4, 'weight_norm': True, 'dropout': 0.15531203611947797, 'batch_size': 29, 'lr': 0.0002474912028329941}. Best is trial 2 with value: 39.99407731033253.\n",
      "GPU available: True (cuda), used: True\n",
      "TPU available: False, using: 0 TPU cores\n",
      "HPU available: False, using: 0 HPUs\n",
      "LOCAL_RANK: 0 - CUDA_VISIBLE_DEVICES: [0]\n",
      "\n",
      "  | Name            | Type             | Params | Mode \n",
      "-------------------------------------------------------------\n",
      "0 | criterion       | HuberLoss        | 0      | train\n",
      "1 | train_criterion | HuberLoss        | 0      | train\n",
      "2 | val_criterion   | HuberLoss        | 0      | train\n",
      "3 | train_metrics   | MetricCollection | 0      | train\n",
      "4 | val_metrics     | MetricCollection | 0      | train\n",
      "5 | res_blocks      | ModuleList       | 5.5 K  | train\n",
      "-------------------------------------------------------------\n",
      "5.5 K     Trainable params\n",
      "0         Non-trainable params\n",
      "5.5 K     Total params\n",
      "0.022     Total estimated model params size (MB)\n",
      "18        Modules in train mode\n",
      "0         Modules in eval mode\n"
     ]
    },
    {
     "name": "stdout",
     "output_type": "stream",
     "text": [
      "Starting time series consistency verification...\n",
      "\n",
      "Performance metrics:\n",
      "                                   MSE       RMSE        MAE        R2  \\\n",
      "Temperature                   0.313013   0.559476   0.329377  0.908055   \n",
      "Precipitation_accumulated     6.265243   2.503047   1.804023 -5.600943   \n",
      "Humidity                      1.643531   1.282003   0.665750  0.974726   \n",
      "Wind_Speed_kmh                0.055802   0.236224   0.088102  0.836025   \n",
      "Soil_Moisture              9297.561341  96.423863  32.931678  0.987435   \n",
      "Soil_Temperature              0.114637   0.338581   0.221797  0.979574   \n",
      "Wind_Dir_Sin                  0.032683   0.180785   0.076911  0.796516   \n",
      "Wind_Dir_Cos                  0.031120   0.176410   0.072880  0.891602   \n",
      "\n",
      "                                SMAPE  \n",
      "Temperature                  5.688001  \n",
      "Precipitation_accumulated    0.391267  \n",
      "Humidity                     0.800428  \n",
      "Wind_Speed_kmh             145.171572  \n",
      "Soil_Moisture                0.527189  \n",
      "Soil_Temperature             8.990815  \n",
      "Wind_Dir_Sin               137.555535  \n",
      "Wind_Dir_Cos                20.827812  \n",
      "The SMAPE for this fold was 39.99407731033253\n",
      "Results for trial 2 saved to optuna_iteration_metrics/trial_2.json\n",
      "Current value: 39.99407731033253, Current params: {'input_chunk_length': 20, 'num_filters': 109, 'kernel_size': 2, 'num_layers': 6, 'dilation_base': 4, 'weight_norm': True, 'dropout': 0.15531203611947797, 'batch_size': 29, 'lr': 0.0002474912028329941}\n",
      "Best value: 39.99407731033253, Best params: {'input_chunk_length': 20, 'num_filters': 109, 'kernel_size': 2, 'num_layers': 6, 'dilation_base': 4, 'weight_norm': True, 'dropout': 0.15531203611947797, 'batch_size': 29, 'lr': 0.0002474912028329941}\n",
      "\n",
      "Starting Trial 3\n",
      "Hyperparameters: {'input_chunk_length': 22, 'num_filters': 50, 'kernel_size': 4, 'num_layers': 1, 'dilation_base': 3, 'weight_norm': True, 'dropout': 0.20256491214805, 'batch_size': 44, 'lr': 0.004670358838862034}\n",
      "\n",
      "Training the model...\n",
      "Train set: 6647 samples\n",
      "Validation set: 1662 samples\n"
     ]
    },
    {
     "data": {
      "text/plain": [
       "Sanity Checking: |          | 0/? [00:00<?, ?it/s]"
      ],
      "application/vnd.jupyter.widget-view+json": {
       "version_major": 2,
       "version_minor": 0,
       "model_id": "24f812f711514b7d9eb89c34c9980b3e"
      }
     },
     "metadata": {},
     "output_type": "display_data"
    },
    {
     "data": {
      "text/plain": [
       "Training: |          | 0/? [00:00<?, ?it/s]"
      ],
      "application/vnd.jupyter.widget-view+json": {
       "version_major": 2,
       "version_minor": 0,
       "model_id": "c122fc93fe8940518f6727641165400f"
      }
     },
     "metadata": {},
     "output_type": "display_data"
    },
    {
     "data": {
      "text/plain": [
       "Validation: |          | 0/? [00:00<?, ?it/s]"
      ],
      "application/vnd.jupyter.widget-view+json": {
       "version_major": 2,
       "version_minor": 0,
       "model_id": "a2cb379fb3954d809d0bb877cbe336f5"
      }
     },
     "metadata": {},
     "output_type": "display_data"
    },
    {
     "name": "stderr",
     "output_type": "stream",
     "text": [
      "Metric val_loss improved. New best score: 0.022\n"
     ]
    },
    {
     "data": {
      "text/plain": [
       "Validation: |          | 0/? [00:00<?, ?it/s]"
      ],
      "application/vnd.jupyter.widget-view+json": {
       "version_major": 2,
       "version_minor": 0,
       "model_id": "cce4d7ced30f475eb965662d11216443"
      }
     },
     "metadata": {},
     "output_type": "display_data"
    },
    {
     "name": "stderr",
     "output_type": "stream",
     "text": [
      "Metric val_loss improved by 0.006 >= min_delta = 0.001. New best score: 0.017\n"
     ]
    },
    {
     "data": {
      "text/plain": [
       "Validation: |          | 0/? [00:00<?, ?it/s]"
      ],
      "application/vnd.jupyter.widget-view+json": {
       "version_major": 2,
       "version_minor": 0,
       "model_id": "cb5032b338af41c98140e60c0c2ea0cb"
      }
     },
     "metadata": {},
     "output_type": "display_data"
    },
    {
     "name": "stderr",
     "output_type": "stream",
     "text": [
      "Metric val_loss improved by 0.002 >= min_delta = 0.001. New best score: 0.015\n"
     ]
    },
    {
     "data": {
      "text/plain": [
       "Validation: |          | 0/? [00:00<?, ?it/s]"
      ],
      "application/vnd.jupyter.widget-view+json": {
       "version_major": 2,
       "version_minor": 0,
       "model_id": "a8b8c97463e643ada56264861e0646a7"
      }
     },
     "metadata": {},
     "output_type": "display_data"
    },
    {
     "name": "stderr",
     "output_type": "stream",
     "text": [
      "Metric val_loss improved by 0.002 >= min_delta = 0.001. New best score: 0.014\n"
     ]
    },
    {
     "data": {
      "text/plain": [
       "Validation: |          | 0/? [00:00<?, ?it/s]"
      ],
      "application/vnd.jupyter.widget-view+json": {
       "version_major": 2,
       "version_minor": 0,
       "model_id": "ff86a807181941f89468bc94d1948ea2"
      }
     },
     "metadata": {},
     "output_type": "display_data"
    },
    {
     "data": {
      "text/plain": [
       "Validation: |          | 0/? [00:00<?, ?it/s]"
      ],
      "application/vnd.jupyter.widget-view+json": {
       "version_major": 2,
       "version_minor": 0,
       "model_id": "0fa89185cb1d4f168098f565db4288a2"
      }
     },
     "metadata": {},
     "output_type": "display_data"
    },
    {
     "name": "stderr",
     "output_type": "stream",
     "text": [
      "Metric val_loss improved by 0.001 >= min_delta = 0.001. New best score: 0.012\n"
     ]
    },
    {
     "data": {
      "text/plain": [
       "Validation: |          | 0/? [00:00<?, ?it/s]"
      ],
      "application/vnd.jupyter.widget-view+json": {
       "version_major": 2,
       "version_minor": 0,
       "model_id": "719bc8bc6a2b404cafcd2b6047e2ebd7"
      }
     },
     "metadata": {},
     "output_type": "display_data"
    },
    {
     "data": {
      "text/plain": [
       "Validation: |          | 0/? [00:00<?, ?it/s]"
      ],
      "application/vnd.jupyter.widget-view+json": {
       "version_major": 2,
       "version_minor": 0,
       "model_id": "cf43c5eaff724113980b92d8a1468d29"
      }
     },
     "metadata": {},
     "output_type": "display_data"
    },
    {
     "data": {
      "text/plain": [
       "Validation: |          | 0/? [00:00<?, ?it/s]"
      ],
      "application/vnd.jupyter.widget-view+json": {
       "version_major": 2,
       "version_minor": 0,
       "model_id": "292ad468e56a49cea2cea2299442e961"
      }
     },
     "metadata": {},
     "output_type": "display_data"
    },
    {
     "data": {
      "text/plain": [
       "Validation: |          | 0/? [00:00<?, ?it/s]"
      ],
      "application/vnd.jupyter.widget-view+json": {
       "version_major": 2,
       "version_minor": 0,
       "model_id": "a34ce0f1c4bb417e878c6df2c2cebb18"
      }
     },
     "metadata": {},
     "output_type": "display_data"
    },
    {
     "data": {
      "text/plain": [
       "Validation: |          | 0/? [00:00<?, ?it/s]"
      ],
      "application/vnd.jupyter.widget-view+json": {
       "version_major": 2,
       "version_minor": 0,
       "model_id": "8b111dd8273b48259aa96946e3882cf8"
      }
     },
     "metadata": {},
     "output_type": "display_data"
    },
    {
     "data": {
      "text/plain": [
       "Validation: |          | 0/? [00:00<?, ?it/s]"
      ],
      "application/vnd.jupyter.widget-view+json": {
       "version_major": 2,
       "version_minor": 0,
       "model_id": "5c1da880d98447bcb629f19dc73b8a91"
      }
     },
     "metadata": {},
     "output_type": "display_data"
    },
    {
     "data": {
      "text/plain": [
       "Validation: |          | 0/? [00:00<?, ?it/s]"
      ],
      "application/vnd.jupyter.widget-view+json": {
       "version_major": 2,
       "version_minor": 0,
       "model_id": "a0a70f27093b4d7cb2eb321effd6d840"
      }
     },
     "metadata": {},
     "output_type": "display_data"
    },
    {
     "data": {
      "text/plain": [
       "Validation: |          | 0/? [00:00<?, ?it/s]"
      ],
      "application/vnd.jupyter.widget-view+json": {
       "version_major": 2,
       "version_minor": 0,
       "model_id": "81268b427f5a47f2b8116175ef25f924"
      }
     },
     "metadata": {},
     "output_type": "display_data"
    },
    {
     "data": {
      "text/plain": [
       "Validation: |          | 0/? [00:00<?, ?it/s]"
      ],
      "application/vnd.jupyter.widget-view+json": {
       "version_major": 2,
       "version_minor": 0,
       "model_id": "b35f9a73e3db4292bb9946cf64dc0a2f"
      }
     },
     "metadata": {},
     "output_type": "display_data"
    },
    {
     "data": {
      "text/plain": [
       "Validation: |          | 0/? [00:00<?, ?it/s]"
      ],
      "application/vnd.jupyter.widget-view+json": {
       "version_major": 2,
       "version_minor": 0,
       "model_id": "3c70fbf41df04c789500a3366250e3b8"
      }
     },
     "metadata": {},
     "output_type": "display_data"
    },
    {
     "name": "stderr",
     "output_type": "stream",
     "text": [
      "Monitored metric val_loss did not improve in the last 10 records. Best score: 0.012. Signaling Trainer to stop.\n",
      "GPU available: True (cuda), used: True\n",
      "TPU available: False, using: 0 TPU cores\n",
      "HPU available: False, using: 0 HPUs\n",
      "LOCAL_RANK: 0 - CUDA_VISIBLE_DEVICES: [0]\n"
     ]
    },
    {
     "name": "stdout",
     "output_type": "stream",
     "text": [
      "Model loaded from checkpoint for trial 3\n"
     ]
    },
    {
     "name": "stderr",
     "output_type": "stream",
     "text": [
      "/home/eduardo/Documentos/Water-Cycle-Neural-Network/venv/lib/python3.12/site-packages/pytorch_lightning/trainer/connectors/data_connector.py:425: The 'predict_dataloader' does not have many workers which may be a bottleneck. Consider increasing the value of the `num_workers` argument` to `num_workers=11` in the `DataLoader` to improve performance.\n",
      "[I 2025-05-19 17:15:31,009] Trial 3 finished with value: 43.0131940463507 and parameters: {'input_chunk_length': 22, 'num_filters': 50, 'kernel_size': 4, 'num_layers': 1, 'dilation_base': 3, 'weight_norm': True, 'dropout': 0.20256491214805, 'batch_size': 44, 'lr': 0.004670358838862034}. Best is trial 2 with value: 39.99407731033253.\n",
      "GPU available: True (cuda), used: True\n",
      "TPU available: False, using: 0 TPU cores\n",
      "HPU available: False, using: 0 HPUs\n",
      "LOCAL_RANK: 0 - CUDA_VISIBLE_DEVICES: [0]\n",
      "\n",
      "  | Name            | Type             | Params | Mode \n",
      "-------------------------------------------------------------\n",
      "0 | criterion       | HuberLoss        | 0      | train\n",
      "1 | train_criterion | HuberLoss        | 0      | train\n",
      "2 | val_criterion   | HuberLoss        | 0      | train\n",
      "3 | train_metrics   | MetricCollection | 0      | train\n",
      "4 | val_metrics     | MetricCollection | 0      | train\n",
      "5 | res_blocks      | ModuleList       | 6.4 K  | train\n",
      "-------------------------------------------------------------\n",
      "6.4 K     Trainable params\n",
      "0         Non-trainable params\n",
      "6.4 K     Total params\n",
      "0.026     Total estimated model params size (MB)\n",
      "30        Modules in train mode\n",
      "0         Modules in eval mode\n"
     ]
    },
    {
     "name": "stdout",
     "output_type": "stream",
     "text": [
      "Starting time series consistency verification...\n",
      "\n",
      "Performance metrics:\n",
      "                                   MSE       RMSE        MAE        R2  \\\n",
      "Temperature                   0.416622   0.645463   0.404426  0.877621   \n",
      "Precipitation_accumulated     1.783917   1.335634   0.920425 -0.879502   \n",
      "Humidity                      3.246783   1.801883   1.279939  0.950071   \n",
      "Wind_Speed_kmh                0.066148   0.257193   0.092407  0.805623   \n",
      "Soil_Moisture              8663.944898  93.080314  17.308544  0.988291   \n",
      "Soil_Temperature              0.299734   0.547480   0.355773  0.946592   \n",
      "Wind_Dir_Sin                  0.045525   0.213366   0.100537  0.716564   \n",
      "Wind_Dir_Cos                  0.045331   0.212911   0.094164  0.842104   \n",
      "\n",
      "                                SMAPE  \n",
      "Temperature                  7.187453  \n",
      "Precipitation_accumulated    0.200264  \n",
      "Humidity                     1.544780  \n",
      "Wind_Speed_kmh             148.746870  \n",
      "Soil_Moisture                0.259014  \n",
      "Soil_Temperature            12.969244  \n",
      "Wind_Dir_Sin               141.971211  \n",
      "Wind_Dir_Cos                31.226716  \n",
      "The SMAPE for this fold was 43.0131940463507\n",
      "Results for trial 3 saved to optuna_iteration_metrics/trial_3.json\n",
      "Current value: 43.0131940463507, Current params: {'input_chunk_length': 22, 'num_filters': 50, 'kernel_size': 4, 'num_layers': 1, 'dilation_base': 3, 'weight_norm': True, 'dropout': 0.20256491214805, 'batch_size': 44, 'lr': 0.004670358838862034}\n",
      "Best value: 39.99407731033253, Best params: {'input_chunk_length': 20, 'num_filters': 109, 'kernel_size': 2, 'num_layers': 6, 'dilation_base': 4, 'weight_norm': True, 'dropout': 0.15531203611947797, 'batch_size': 29, 'lr': 0.0002474912028329941}\n",
      "\n",
      "Starting Trial 4\n",
      "Hyperparameters: {'input_chunk_length': 53, 'num_filters': 15, 'kernel_size': 7, 'num_layers': 2, 'dilation_base': 2, 'weight_norm': True, 'dropout': 0.3683836061265594, 'batch_size': 41, 'lr': 1.2561501496392211e-05}\n",
      "\n",
      "Training the model...\n",
      "Train set: 6647 samples\n",
      "Validation set: 1662 samples\n"
     ]
    },
    {
     "data": {
      "text/plain": [
       "Sanity Checking: |          | 0/? [00:00<?, ?it/s]"
      ],
      "application/vnd.jupyter.widget-view+json": {
       "version_major": 2,
       "version_minor": 0,
       "model_id": "3bdf1269d17a42d7866807f0cd7d63a2"
      }
     },
     "metadata": {},
     "output_type": "display_data"
    },
    {
     "data": {
      "text/plain": [
       "Training: |          | 0/? [00:00<?, ?it/s]"
      ],
      "application/vnd.jupyter.widget-view+json": {
       "version_major": 2,
       "version_minor": 0,
       "model_id": "1c89ec3031ce4519bea7a92b880b652f"
      }
     },
     "metadata": {},
     "output_type": "display_data"
    },
    {
     "data": {
      "text/plain": [
       "Validation: |          | 0/? [00:00<?, ?it/s]"
      ],
      "application/vnd.jupyter.widget-view+json": {
       "version_major": 2,
       "version_minor": 0,
       "model_id": "7a7c50f10d4e415f962a9e1e4cf9ac31"
      }
     },
     "metadata": {},
     "output_type": "display_data"
    },
    {
     "name": "stderr",
     "output_type": "stream",
     "text": [
      "Metric val_loss improved. New best score: 0.164\n"
     ]
    },
    {
     "data": {
      "text/plain": [
       "Validation: |          | 0/? [00:00<?, ?it/s]"
      ],
      "application/vnd.jupyter.widget-view+json": {
       "version_major": 2,
       "version_minor": 0,
       "model_id": "742a93fab6c944ae9fd34e9f8c162d46"
      }
     },
     "metadata": {},
     "output_type": "display_data"
    },
    {
     "name": "stderr",
     "output_type": "stream",
     "text": [
      "Metric val_loss improved by 0.035 >= min_delta = 0.001. New best score: 0.130\n"
     ]
    },
    {
     "data": {
      "text/plain": [
       "Validation: |          | 0/? [00:00<?, ?it/s]"
      ],
      "application/vnd.jupyter.widget-view+json": {
       "version_major": 2,
       "version_minor": 0,
       "model_id": "67cf11180016410297bb5e98f6b15874"
      }
     },
     "metadata": {},
     "output_type": "display_data"
    },
    {
     "name": "stderr",
     "output_type": "stream",
     "text": [
      "Metric val_loss improved by 0.027 >= min_delta = 0.001. New best score: 0.102\n"
     ]
    },
    {
     "data": {
      "text/plain": [
       "Validation: |          | 0/? [00:00<?, ?it/s]"
      ],
      "application/vnd.jupyter.widget-view+json": {
       "version_major": 2,
       "version_minor": 0,
       "model_id": "f1bb248d725b4e4c99c683d76ce8cae0"
      }
     },
     "metadata": {},
     "output_type": "display_data"
    },
    {
     "name": "stderr",
     "output_type": "stream",
     "text": [
      "Metric val_loss improved by 0.019 >= min_delta = 0.001. New best score: 0.083\n"
     ]
    },
    {
     "data": {
      "text/plain": [
       "Validation: |          | 0/? [00:00<?, ?it/s]"
      ],
      "application/vnd.jupyter.widget-view+json": {
       "version_major": 2,
       "version_minor": 0,
       "model_id": "cb71a2b77b314c3eaddfc500e52f68a8"
      }
     },
     "metadata": {},
     "output_type": "display_data"
    },
    {
     "name": "stderr",
     "output_type": "stream",
     "text": [
      "Metric val_loss improved by 0.010 >= min_delta = 0.001. New best score: 0.073\n"
     ]
    },
    {
     "data": {
      "text/plain": [
       "Validation: |          | 0/? [00:00<?, ?it/s]"
      ],
      "application/vnd.jupyter.widget-view+json": {
       "version_major": 2,
       "version_minor": 0,
       "model_id": "b07a2a8d5e0f42feb8ec465ab4831ec9"
      }
     },
     "metadata": {},
     "output_type": "display_data"
    },
    {
     "name": "stderr",
     "output_type": "stream",
     "text": [
      "Metric val_loss improved by 0.005 >= min_delta = 0.001. New best score: 0.068\n"
     ]
    },
    {
     "data": {
      "text/plain": [
       "Validation: |          | 0/? [00:00<?, ?it/s]"
      ],
      "application/vnd.jupyter.widget-view+json": {
       "version_major": 2,
       "version_minor": 0,
       "model_id": "66ba742a391c42e88e11eaf7b5ac49b1"
      }
     },
     "metadata": {},
     "output_type": "display_data"
    },
    {
     "name": "stderr",
     "output_type": "stream",
     "text": [
      "Metric val_loss improved by 0.003 >= min_delta = 0.001. New best score: 0.065\n"
     ]
    },
    {
     "data": {
      "text/plain": [
       "Validation: |          | 0/? [00:00<?, ?it/s]"
      ],
      "application/vnd.jupyter.widget-view+json": {
       "version_major": 2,
       "version_minor": 0,
       "model_id": "cec725ace4d64426bf9b2bb307051654"
      }
     },
     "metadata": {},
     "output_type": "display_data"
    },
    {
     "name": "stderr",
     "output_type": "stream",
     "text": [
      "Metric val_loss improved by 0.002 >= min_delta = 0.001. New best score: 0.064\n"
     ]
    },
    {
     "data": {
      "text/plain": [
       "Validation: |          | 0/? [00:00<?, ?it/s]"
      ],
      "application/vnd.jupyter.widget-view+json": {
       "version_major": 2,
       "version_minor": 0,
       "model_id": "b8a4d5b7f01d4b5b92d161182ada320f"
      }
     },
     "metadata": {},
     "output_type": "display_data"
    },
    {
     "name": "stderr",
     "output_type": "stream",
     "text": [
      "Metric val_loss improved by 0.001 >= min_delta = 0.001. New best score: 0.062\n"
     ]
    },
    {
     "data": {
      "text/plain": [
       "Validation: |          | 0/? [00:00<?, ?it/s]"
      ],
      "application/vnd.jupyter.widget-view+json": {
       "version_major": 2,
       "version_minor": 0,
       "model_id": "91188290d7c34a65aee0d28d0b650b61"
      }
     },
     "metadata": {},
     "output_type": "display_data"
    },
    {
     "name": "stderr",
     "output_type": "stream",
     "text": [
      "Metric val_loss improved by 0.001 >= min_delta = 0.001. New best score: 0.061\n"
     ]
    },
    {
     "data": {
      "text/plain": [
       "Validation: |          | 0/? [00:00<?, ?it/s]"
      ],
      "application/vnd.jupyter.widget-view+json": {
       "version_major": 2,
       "version_minor": 0,
       "model_id": "97639e0767964bdab0ebf53a43325e42"
      }
     },
     "metadata": {},
     "output_type": "display_data"
    },
    {
     "name": "stderr",
     "output_type": "stream",
     "text": [
      "Metric val_loss improved by 0.001 >= min_delta = 0.001. New best score: 0.060\n"
     ]
    },
    {
     "data": {
      "text/plain": [
       "Validation: |          | 0/? [00:00<?, ?it/s]"
      ],
      "application/vnd.jupyter.widget-view+json": {
       "version_major": 2,
       "version_minor": 0,
       "model_id": "5517ae94df194c83ab0be7dd898d7936"
      }
     },
     "metadata": {},
     "output_type": "display_data"
    },
    {
     "name": "stderr",
     "output_type": "stream",
     "text": [
      "Metric val_loss improved by 0.001 >= min_delta = 0.001. New best score: 0.059\n"
     ]
    },
    {
     "data": {
      "text/plain": [
       "Validation: |          | 0/? [00:00<?, ?it/s]"
      ],
      "application/vnd.jupyter.widget-view+json": {
       "version_major": 2,
       "version_minor": 0,
       "model_id": "a3b585173e564af289a317671cd69790"
      }
     },
     "metadata": {},
     "output_type": "display_data"
    },
    {
     "name": "stderr",
     "output_type": "stream",
     "text": [
      "Metric val_loss improved by 0.001 >= min_delta = 0.001. New best score: 0.058\n"
     ]
    },
    {
     "data": {
      "text/plain": [
       "Validation: |          | 0/? [00:00<?, ?it/s]"
      ],
      "application/vnd.jupyter.widget-view+json": {
       "version_major": 2,
       "version_minor": 0,
       "model_id": "87b329b0a1544abcb6812e0003002497"
      }
     },
     "metadata": {},
     "output_type": "display_data"
    },
    {
     "name": "stderr",
     "output_type": "stream",
     "text": [
      "Metric val_loss improved by 0.001 >= min_delta = 0.001. New best score: 0.056\n"
     ]
    },
    {
     "data": {
      "text/plain": [
       "Validation: |          | 0/? [00:00<?, ?it/s]"
      ],
      "application/vnd.jupyter.widget-view+json": {
       "version_major": 2,
       "version_minor": 0,
       "model_id": "18eb05ff04bf41a18e40902d5d0cec65"
      }
     },
     "metadata": {},
     "output_type": "display_data"
    },
    {
     "name": "stderr",
     "output_type": "stream",
     "text": [
      "Metric val_loss improved by 0.001 >= min_delta = 0.001. New best score: 0.055\n"
     ]
    },
    {
     "data": {
      "text/plain": [
       "Validation: |          | 0/? [00:00<?, ?it/s]"
      ],
      "application/vnd.jupyter.widget-view+json": {
       "version_major": 2,
       "version_minor": 0,
       "model_id": "3d043293b1fc49e88e9bd050aec32c98"
      }
     },
     "metadata": {},
     "output_type": "display_data"
    },
    {
     "name": "stderr",
     "output_type": "stream",
     "text": [
      "Metric val_loss improved by 0.001 >= min_delta = 0.001. New best score: 0.054\n"
     ]
    },
    {
     "data": {
      "text/plain": [
       "Validation: |          | 0/? [00:00<?, ?it/s]"
      ],
      "application/vnd.jupyter.widget-view+json": {
       "version_major": 2,
       "version_minor": 0,
       "model_id": "ec707ef231ea4803a7e1829bea17bd89"
      }
     },
     "metadata": {},
     "output_type": "display_data"
    },
    {
     "name": "stderr",
     "output_type": "stream",
     "text": [
      "Metric val_loss improved by 0.001 >= min_delta = 0.001. New best score: 0.052\n"
     ]
    },
    {
     "data": {
      "text/plain": [
       "Validation: |          | 0/? [00:00<?, ?it/s]"
      ],
      "application/vnd.jupyter.widget-view+json": {
       "version_major": 2,
       "version_minor": 0,
       "model_id": "f831964dc1fd4bf4be3d436b67f9627f"
      }
     },
     "metadata": {},
     "output_type": "display_data"
    },
    {
     "name": "stderr",
     "output_type": "stream",
     "text": [
      "Metric val_loss improved by 0.001 >= min_delta = 0.001. New best score: 0.051\n"
     ]
    },
    {
     "data": {
      "text/plain": [
       "Validation: |          | 0/? [00:00<?, ?it/s]"
      ],
      "application/vnd.jupyter.widget-view+json": {
       "version_major": 2,
       "version_minor": 0,
       "model_id": "dca635462dfa443ca9bd07a373e4d2c0"
      }
     },
     "metadata": {},
     "output_type": "display_data"
    },
    {
     "name": "stderr",
     "output_type": "stream",
     "text": [
      "Metric val_loss improved by 0.001 >= min_delta = 0.001. New best score: 0.050\n"
     ]
    },
    {
     "data": {
      "text/plain": [
       "Validation: |          | 0/? [00:00<?, ?it/s]"
      ],
      "application/vnd.jupyter.widget-view+json": {
       "version_major": 2,
       "version_minor": 0,
       "model_id": "28395d6ae97642169d3a65b1afff294c"
      }
     },
     "metadata": {},
     "output_type": "display_data"
    },
    {
     "name": "stderr",
     "output_type": "stream",
     "text": [
      "Metric val_loss improved by 0.001 >= min_delta = 0.001. New best score: 0.048\n"
     ]
    },
    {
     "data": {
      "text/plain": [
       "Validation: |          | 0/? [00:00<?, ?it/s]"
      ],
      "application/vnd.jupyter.widget-view+json": {
       "version_major": 2,
       "version_minor": 0,
       "model_id": "4a5ce249a29145589cdf3f3e36850c20"
      }
     },
     "metadata": {},
     "output_type": "display_data"
    },
    {
     "name": "stderr",
     "output_type": "stream",
     "text": [
      "Metric val_loss improved by 0.001 >= min_delta = 0.001. New best score: 0.047\n"
     ]
    },
    {
     "data": {
      "text/plain": [
       "Validation: |          | 0/? [00:00<?, ?it/s]"
      ],
      "application/vnd.jupyter.widget-view+json": {
       "version_major": 2,
       "version_minor": 0,
       "model_id": "1a33181f5c8248e2af9974877632ca87"
      }
     },
     "metadata": {},
     "output_type": "display_data"
    },
    {
     "name": "stderr",
     "output_type": "stream",
     "text": [
      "Metric val_loss improved by 0.001 >= min_delta = 0.001. New best score: 0.046\n"
     ]
    },
    {
     "data": {
      "text/plain": [
       "Validation: |          | 0/? [00:00<?, ?it/s]"
      ],
      "application/vnd.jupyter.widget-view+json": {
       "version_major": 2,
       "version_minor": 0,
       "model_id": "ed5ecb1cd0f34307a54a7407977b83b9"
      }
     },
     "metadata": {},
     "output_type": "display_data"
    },
    {
     "name": "stderr",
     "output_type": "stream",
     "text": [
      "Metric val_loss improved by 0.001 >= min_delta = 0.001. New best score: 0.044\n"
     ]
    },
    {
     "data": {
      "text/plain": [
       "Validation: |          | 0/? [00:00<?, ?it/s]"
      ],
      "application/vnd.jupyter.widget-view+json": {
       "version_major": 2,
       "version_minor": 0,
       "model_id": "db17db90e98f4d17b1c9f3c2fcaacefe"
      }
     },
     "metadata": {},
     "output_type": "display_data"
    },
    {
     "name": "stderr",
     "output_type": "stream",
     "text": [
      "Metric val_loss improved by 0.001 >= min_delta = 0.001. New best score: 0.043\n"
     ]
    },
    {
     "data": {
      "text/plain": [
       "Validation: |          | 0/? [00:00<?, ?it/s]"
      ],
      "application/vnd.jupyter.widget-view+json": {
       "version_major": 2,
       "version_minor": 0,
       "model_id": "46529a844f5242929bfafe894ad0fff7"
      }
     },
     "metadata": {},
     "output_type": "display_data"
    },
    {
     "name": "stderr",
     "output_type": "stream",
     "text": [
      "Metric val_loss improved by 0.001 >= min_delta = 0.001. New best score: 0.042\n"
     ]
    },
    {
     "data": {
      "text/plain": [
       "Validation: |          | 0/? [00:00<?, ?it/s]"
      ],
      "application/vnd.jupyter.widget-view+json": {
       "version_major": 2,
       "version_minor": 0,
       "model_id": "b84ba58d87bd4c0db127c1f6cc1fcf14"
      }
     },
     "metadata": {},
     "output_type": "display_data"
    },
    {
     "name": "stderr",
     "output_type": "stream",
     "text": [
      "Metric val_loss improved by 0.001 >= min_delta = 0.001. New best score: 0.041\n"
     ]
    },
    {
     "data": {
      "text/plain": [
       "Validation: |          | 0/? [00:00<?, ?it/s]"
      ],
      "application/vnd.jupyter.widget-view+json": {
       "version_major": 2,
       "version_minor": 0,
       "model_id": "ea845e5122874057912ac4ac26b16ced"
      }
     },
     "metadata": {},
     "output_type": "display_data"
    },
    {
     "name": "stderr",
     "output_type": "stream",
     "text": [
      "Metric val_loss improved by 0.001 >= min_delta = 0.001. New best score: 0.040\n"
     ]
    },
    {
     "data": {
      "text/plain": [
       "Validation: |          | 0/? [00:00<?, ?it/s]"
      ],
      "application/vnd.jupyter.widget-view+json": {
       "version_major": 2,
       "version_minor": 0,
       "model_id": "3392d90eba5640978d2c57dae270a18e"
      }
     },
     "metadata": {},
     "output_type": "display_data"
    },
    {
     "data": {
      "text/plain": [
       "Validation: |          | 0/? [00:00<?, ?it/s]"
      ],
      "application/vnd.jupyter.widget-view+json": {
       "version_major": 2,
       "version_minor": 0,
       "model_id": "230203c0aff144eebe0644d10822ca6c"
      }
     },
     "metadata": {},
     "output_type": "display_data"
    },
    {
     "name": "stderr",
     "output_type": "stream",
     "text": [
      "Metric val_loss improved by 0.002 >= min_delta = 0.001. New best score: 0.038\n"
     ]
    },
    {
     "data": {
      "text/plain": [
       "Validation: |          | 0/? [00:00<?, ?it/s]"
      ],
      "application/vnd.jupyter.widget-view+json": {
       "version_major": 2,
       "version_minor": 0,
       "model_id": "73ee4969f9a54b6f8f4ca399fce59dac"
      }
     },
     "metadata": {},
     "output_type": "display_data"
    },
    {
     "name": "stderr",
     "output_type": "stream",
     "text": [
      "`Trainer.fit` stopped: `max_epochs=30` reached.\n",
      "GPU available: True (cuda), used: True\n",
      "TPU available: False, using: 0 TPU cores\n",
      "HPU available: False, using: 0 HPUs\n",
      "LOCAL_RANK: 0 - CUDA_VISIBLE_DEVICES: [0]\n"
     ]
    },
    {
     "name": "stdout",
     "output_type": "stream",
     "text": [
      "Model loaded from checkpoint for trial 4\n"
     ]
    },
    {
     "name": "stderr",
     "output_type": "stream",
     "text": [
      "/home/eduardo/Documentos/Water-Cycle-Neural-Network/venv/lib/python3.12/site-packages/pytorch_lightning/trainer/connectors/data_connector.py:425: The 'predict_dataloader' does not have many workers which may be a bottleneck. Consider increasing the value of the `num_workers` argument` to `num_workers=11` in the `DataLoader` to improve performance.\n",
      "[I 2025-05-19 17:17:13,015] Trial 4 finished with value: 68.11648828610643 and parameters: {'input_chunk_length': 53, 'num_filters': 15, 'kernel_size': 7, 'num_layers': 2, 'dilation_base': 2, 'weight_norm': True, 'dropout': 0.3683836061265594, 'batch_size': 41, 'lr': 1.2561501496392211e-05}. Best is trial 2 with value: 39.99407731033253.\n",
      "GPU available: True (cuda), used: True\n",
      "TPU available: False, using: 0 TPU cores\n",
      "HPU available: False, using: 0 HPUs\n",
      "LOCAL_RANK: 0 - CUDA_VISIBLE_DEVICES: [0]\n",
      "\n",
      "  | Name            | Type             | Params | Mode \n",
      "-------------------------------------------------------------\n",
      "0 | criterion       | HuberLoss        | 0      | train\n",
      "1 | train_criterion | HuberLoss        | 0      | train\n",
      "2 | val_criterion   | HuberLoss        | 0      | train\n",
      "3 | train_metrics   | MetricCollection | 0      | train\n",
      "4 | val_metrics     | MetricCollection | 0      | train\n",
      "5 | res_blocks      | ModuleList       | 6.2 K  | train\n",
      "-------------------------------------------------------------\n",
      "6.2 K     Trainable params\n",
      "0         Non-trainable params\n",
      "6.2 K     Total params\n",
      "0.025     Total estimated model params size (MB)\n",
      "37        Modules in train mode\n",
      "0         Modules in eval mode\n"
     ]
    },
    {
     "name": "stdout",
     "output_type": "stream",
     "text": [
      "Starting time series consistency verification...\n",
      "\n",
      "Performance metrics:\n",
      "                                     MSE        RMSE         MAE           R2  \\\n",
      "Temperature                     6.173448    2.484642    2.087246    -0.813401   \n",
      "Precipitation_accumulated    5996.873320   77.439482   71.338949 -6317.194095   \n",
      "Humidity                      233.707722   15.287502   12.477255    -2.593920   \n",
      "Wind_Speed_kmh                  0.384963    0.620454    0.442954    -0.131219   \n",
      "Soil_Moisture              285305.390509  534.139860  351.649850     0.614437   \n",
      "Soil_Temperature               16.225388    4.028075    3.173517    -1.891088   \n",
      "Wind_Dir_Sin                    0.151956    0.389815    0.248652     0.053936   \n",
      "Wind_Dir_Cos                    0.228156    0.477656    0.390623     0.205290   \n",
      "\n",
      "                                SMAPE  \n",
      "Temperature                 40.653233  \n",
      "Precipitation_accumulated   17.105216  \n",
      "Humidity                    16.040805  \n",
      "Wind_Speed_kmh             178.273423  \n",
      "Soil_Moisture                5.477995  \n",
      "Soil_Temperature            43.998660  \n",
      "Wind_Dir_Sin               178.765186  \n",
      "Wind_Dir_Cos                64.617388  \n",
      "The SMAPE for this fold was 68.11648828610643\n",
      "Results for trial 4 saved to optuna_iteration_metrics/trial_4.json\n",
      "Current value: 68.11648828610643, Current params: {'input_chunk_length': 53, 'num_filters': 15, 'kernel_size': 7, 'num_layers': 2, 'dilation_base': 2, 'weight_norm': True, 'dropout': 0.3683836061265594, 'batch_size': 41, 'lr': 1.2561501496392211e-05}\n",
      "Best value: 39.99407731033253, Best params: {'input_chunk_length': 20, 'num_filters': 109, 'kernel_size': 2, 'num_layers': 6, 'dilation_base': 4, 'weight_norm': True, 'dropout': 0.15531203611947797, 'batch_size': 29, 'lr': 0.0002474912028329941}\n",
      "\n",
      "Starting Trial 5\n",
      "Hyperparameters: {'input_chunk_length': 31, 'num_filters': 8, 'kernel_size': 7, 'num_layers': 6, 'dilation_base': 1, 'weight_norm': False, 'dropout': 0.39823183233578563, 'batch_size': 33, 'lr': 0.0005915903760250743}\n",
      "\n",
      "Training the model...\n",
      "Train set: 6647 samples\n",
      "Validation set: 1662 samples\n"
     ]
    },
    {
     "data": {
      "text/plain": [
       "Sanity Checking: |          | 0/? [00:00<?, ?it/s]"
      ],
      "application/vnd.jupyter.widget-view+json": {
       "version_major": 2,
       "version_minor": 0,
       "model_id": "c13b3a7314614125803336b7f074daee"
      }
     },
     "metadata": {},
     "output_type": "display_data"
    },
    {
     "data": {
      "text/plain": [
       "Training: |          | 0/? [00:00<?, ?it/s]"
      ],
      "application/vnd.jupyter.widget-view+json": {
       "version_major": 2,
       "version_minor": 0,
       "model_id": "5552aa7a1cad46dcbf5ffbb3bb48071d"
      }
     },
     "metadata": {},
     "output_type": "display_data"
    },
    {
     "data": {
      "text/plain": [
       "Validation: |          | 0/? [00:00<?, ?it/s]"
      ],
      "application/vnd.jupyter.widget-view+json": {
       "version_major": 2,
       "version_minor": 0,
       "model_id": "1746b1fcc0d84fc2b757d9046e382491"
      }
     },
     "metadata": {},
     "output_type": "display_data"
    },
    {
     "name": "stderr",
     "output_type": "stream",
     "text": [
      "[I 2025-05-19 17:17:17,859] Trial 5 pruned. Trial was pruned at epoch 0.\n"
     ]
    },
    {
     "name": "stdout",
     "output_type": "stream",
     "text": [
      "Current value: 0.04420433273463451, Current params: {'input_chunk_length': 31, 'num_filters': 8, 'kernel_size': 7, 'num_layers': 6, 'dilation_base': 1, 'weight_norm': False, 'dropout': 0.39823183233578563, 'batch_size': 33, 'lr': 0.0005915903760250743}\n",
      "Best value: 39.99407731033253, Best params: {'input_chunk_length': 20, 'num_filters': 109, 'kernel_size': 2, 'num_layers': 6, 'dilation_base': 4, 'weight_norm': True, 'dropout': 0.15531203611947797, 'batch_size': 29, 'lr': 0.0002474912028329941}\n",
      "\n",
      "Starting Trial 6\n",
      "Hyperparameters: {'input_chunk_length': 58, 'num_filters': 38, 'kernel_size': 8, 'num_layers': 3, 'dilation_base': 2, 'weight_norm': True, 'dropout': 0.38935404116414385, 'batch_size': 47, 'lr': 1.1595112385919803e-05}\n",
      "\n",
      "Training the model...\n",
      "Train set: 6647 samples\n",
      "Validation set: 1662 samples\n"
     ]
    },
    {
     "name": "stderr",
     "output_type": "stream",
     "text": [
      "GPU available: True (cuda), used: True\n",
      "TPU available: False, using: 0 TPU cores\n",
      "HPU available: False, using: 0 HPUs\n",
      "LOCAL_RANK: 0 - CUDA_VISIBLE_DEVICES: [0]\n",
      "\n",
      "  | Name            | Type             | Params | Mode \n",
      "-------------------------------------------------------------\n",
      "0 | criterion       | HuberLoss        | 0      | train\n",
      "1 | train_criterion | HuberLoss        | 0      | train\n",
      "2 | val_criterion   | HuberLoss        | 0      | train\n",
      "3 | train_metrics   | MetricCollection | 0      | train\n",
      "4 | val_metrics     | MetricCollection | 0      | train\n",
      "5 | res_blocks      | ModuleList       | 55.5 K | train\n",
      "-------------------------------------------------------------\n",
      "55.5 K    Trainable params\n",
      "0         Non-trainable params\n",
      "55.5 K    Total params\n",
      "0.222     Total estimated model params size (MB)\n",
      "41        Modules in train mode\n",
      "0         Modules in eval mode\n"
     ]
    },
    {
     "data": {
      "text/plain": [
       "Sanity Checking: |          | 0/? [00:00<?, ?it/s]"
      ],
      "application/vnd.jupyter.widget-view+json": {
       "version_major": 2,
       "version_minor": 0,
       "model_id": "34870e58bd6645b1b6150a0a9d2ccdce"
      }
     },
     "metadata": {},
     "output_type": "display_data"
    },
    {
     "data": {
      "text/plain": [
       "Training: |          | 0/? [00:00<?, ?it/s]"
      ],
      "application/vnd.jupyter.widget-view+json": {
       "version_major": 2,
       "version_minor": 0,
       "model_id": "1558266625584a20a0802c7f6b27b39e"
      }
     },
     "metadata": {},
     "output_type": "display_data"
    },
    {
     "data": {
      "text/plain": [
       "Validation: |          | 0/? [00:00<?, ?it/s]"
      ],
      "application/vnd.jupyter.widget-view+json": {
       "version_major": 2,
       "version_minor": 0,
       "model_id": "71084fdc031c4a949930ba563f3de68e"
      }
     },
     "metadata": {},
     "output_type": "display_data"
    },
    {
     "name": "stderr",
     "output_type": "stream",
     "text": [
      "[I 2025-05-19 17:18:21,603] Trial 6 pruned. Trial was pruned at epoch 0.\n",
      "GPU available: True (cuda), used: True\n",
      "TPU available: False, using: 0 TPU cores\n",
      "HPU available: False, using: 0 HPUs\n",
      "LOCAL_RANK: 0 - CUDA_VISIBLE_DEVICES: [0]\n",
      "\n",
      "  | Name            | Type             | Params | Mode \n",
      "-------------------------------------------------------------\n",
      "0 | criterion       | HuberLoss        | 0      | train\n",
      "1 | train_criterion | HuberLoss        | 0      | train\n",
      "2 | val_criterion   | HuberLoss        | 0      | train\n",
      "3 | train_metrics   | MetricCollection | 0      | train\n",
      "4 | val_metrics     | MetricCollection | 0      | train\n",
      "5 | res_blocks      | ModuleList       | 3.5 K  | train\n",
      "-------------------------------------------------------------\n",
      "3.5 K     Trainable params\n",
      "0         Non-trainable params\n",
      "3.5 K     Total params\n",
      "0.014     Total estimated model params size (MB)\n",
      "18        Modules in train mode\n",
      "0         Modules in eval mode\n"
     ]
    },
    {
     "name": "stdout",
     "output_type": "stream",
     "text": [
      "Current value: 0.13750461359127147, Current params: {'input_chunk_length': 58, 'num_filters': 38, 'kernel_size': 8, 'num_layers': 3, 'dilation_base': 2, 'weight_norm': True, 'dropout': 0.38935404116414385, 'batch_size': 47, 'lr': 1.1595112385919803e-05}\n",
      "Best value: 39.99407731033253, Best params: {'input_chunk_length': 20, 'num_filters': 109, 'kernel_size': 2, 'num_layers': 6, 'dilation_base': 4, 'weight_norm': True, 'dropout': 0.15531203611947797, 'batch_size': 29, 'lr': 0.0002474912028329941}\n",
      "\n",
      "Starting Trial 7\n",
      "Hyperparameters: {'input_chunk_length': 61, 'num_filters': 10, 'kernel_size': 7, 'num_layers': 2, 'dilation_base': 2, 'weight_norm': False, 'dropout': 0.14168427013970697, 'batch_size': 19, 'lr': 0.0009053619021368837}\n",
      "\n",
      "Training the model...\n",
      "Train set: 6647 samples\n",
      "Validation set: 1662 samples\n"
     ]
    },
    {
     "data": {
      "text/plain": [
       "Sanity Checking: |          | 0/? [00:00<?, ?it/s]"
      ],
      "application/vnd.jupyter.widget-view+json": {
       "version_major": 2,
       "version_minor": 0,
       "model_id": "b62edb0641c74f6bbc6ba67574c263cd"
      }
     },
     "metadata": {},
     "output_type": "display_data"
    },
    {
     "data": {
      "text/plain": [
       "Training: |          | 0/? [00:00<?, ?it/s]"
      ],
      "application/vnd.jupyter.widget-view+json": {
       "version_major": 2,
       "version_minor": 0,
       "model_id": "29c1630daa694e23ada17dbfa945bbed"
      }
     },
     "metadata": {},
     "output_type": "display_data"
    },
    {
     "data": {
      "text/plain": [
       "Validation: |          | 0/? [00:00<?, ?it/s]"
      ],
      "application/vnd.jupyter.widget-view+json": {
       "version_major": 2,
       "version_minor": 0,
       "model_id": "a7eb79f47eee4de2af1d14c7876db7b6"
      }
     },
     "metadata": {},
     "output_type": "display_data"
    },
    {
     "name": "stderr",
     "output_type": "stream",
     "text": [
      "[I 2025-05-19 17:18:26,979] Trial 7 pruned. Trial was pruned at epoch 0.\n",
      "GPU available: True (cuda), used: True\n",
      "TPU available: False, using: 0 TPU cores\n",
      "HPU available: False, using: 0 HPUs\n",
      "LOCAL_RANK: 0 - CUDA_VISIBLE_DEVICES: [0]\n",
      "\n",
      "  | Name            | Type             | Params | Mode \n",
      "-------------------------------------------------------------\n",
      "0 | criterion       | HuberLoss        | 0      | train\n",
      "1 | train_criterion | HuberLoss        | 0      | train\n",
      "2 | val_criterion   | HuberLoss        | 0      | train\n",
      "3 | train_metrics   | MetricCollection | 0      | train\n",
      "4 | val_metrics     | MetricCollection | 0      | train\n",
      "5 | res_blocks      | ModuleList       | 816    | train\n",
      "-------------------------------------------------------------\n",
      "816       Trainable params\n",
      "0         Non-trainable params\n",
      "816       Total params\n",
      "0.003     Total estimated model params size (MB)\n",
      "18        Modules in train mode\n",
      "0         Modules in eval mode\n"
     ]
    },
    {
     "name": "stdout",
     "output_type": "stream",
     "text": [
      "Current value: 0.028218857620033573, Current params: {'input_chunk_length': 61, 'num_filters': 10, 'kernel_size': 7, 'num_layers': 2, 'dilation_base': 2, 'weight_norm': False, 'dropout': 0.14168427013970697, 'batch_size': 19, 'lr': 0.0009053619021368837}\n",
      "Best value: 39.99407731033253, Best params: {'input_chunk_length': 20, 'num_filters': 109, 'kernel_size': 2, 'num_layers': 6, 'dilation_base': 4, 'weight_norm': True, 'dropout': 0.15531203611947797, 'batch_size': 29, 'lr': 0.0002474912028329941}\n",
      "\n",
      "Starting Trial 8\n",
      "Hyperparameters: {'input_chunk_length': 65, 'num_filters': 12, 'kernel_size': 2, 'num_layers': 1, 'dilation_base': 2, 'weight_norm': True, 'dropout': 0.27073522885952406, 'batch_size': 18, 'lr': 9.174001633289498e-05}\n",
      "\n",
      "Training the model...\n",
      "Train set: 6647 samples\n",
      "Validation set: 1662 samples\n"
     ]
    },
    {
     "data": {
      "text/plain": [
       "Sanity Checking: |          | 0/? [00:00<?, ?it/s]"
      ],
      "application/vnd.jupyter.widget-view+json": {
       "version_major": 2,
       "version_minor": 0,
       "model_id": "4e76ef933b734d58b65f3677e5333381"
      }
     },
     "metadata": {},
     "output_type": "display_data"
    },
    {
     "data": {
      "text/plain": [
       "Training: |          | 0/? [00:00<?, ?it/s]"
      ],
      "application/vnd.jupyter.widget-view+json": {
       "version_major": 2,
       "version_minor": 0,
       "model_id": "23fd2c43ac5647b88350f940fa2e82ee"
      }
     },
     "metadata": {},
     "output_type": "display_data"
    },
    {
     "data": {
      "text/plain": [
       "Validation: |          | 0/? [00:00<?, ?it/s]"
      ],
      "application/vnd.jupyter.widget-view+json": {
       "version_major": 2,
       "version_minor": 0,
       "model_id": "bb7ecc86b75d4345aa49c208cd84aa4f"
      }
     },
     "metadata": {},
     "output_type": "display_data"
    },
    {
     "name": "stderr",
     "output_type": "stream",
     "text": [
      "[I 2025-05-19 17:18:30,693] Trial 8 pruned. Trial was pruned at epoch 0.\n",
      "GPU available: True (cuda), used: True\n",
      "TPU available: False, using: 0 TPU cores\n",
      "HPU available: False, using: 0 HPUs\n",
      "LOCAL_RANK: 0 - CUDA_VISIBLE_DEVICES: [0]\n",
      "\n",
      "  | Name            | Type             | Params | Mode \n",
      "-------------------------------------------------------------\n",
      "0 | criterion       | HuberLoss        | 0      | train\n",
      "1 | train_criterion | HuberLoss        | 0      | train\n",
      "2 | val_criterion   | HuberLoss        | 0      | train\n",
      "3 | train_metrics   | MetricCollection | 0      | train\n",
      "4 | val_metrics     | MetricCollection | 0      | train\n",
      "5 | res_blocks      | ModuleList       | 106 K  | train\n",
      "-------------------------------------------------------------\n",
      "106 K     Trainable params\n",
      "0         Non-trainable params\n",
      "106 K     Total params\n",
      "0.426     Total estimated model params size (MB)\n",
      "18        Modules in train mode\n",
      "0         Modules in eval mode\n"
     ]
    },
    {
     "name": "stdout",
     "output_type": "stream",
     "text": [
      "Current value: 0.1594566510056498, Current params: {'input_chunk_length': 65, 'num_filters': 12, 'kernel_size': 2, 'num_layers': 1, 'dilation_base': 2, 'weight_norm': True, 'dropout': 0.27073522885952406, 'batch_size': 18, 'lr': 9.174001633289498e-05}\n",
      "Best value: 39.99407731033253, Best params: {'input_chunk_length': 20, 'num_filters': 109, 'kernel_size': 2, 'num_layers': 6, 'dilation_base': 4, 'weight_norm': True, 'dropout': 0.15531203611947797, 'batch_size': 29, 'lr': 0.0002474912028329941}\n",
      "\n",
      "Starting Trial 9\n",
      "Hyperparameters: {'input_chunk_length': 22, 'num_filters': 80, 'kernel_size': 7, 'num_layers': 2, 'dilation_base': 4, 'weight_norm': False, 'dropout': 0.15862646329539692, 'batch_size': 52, 'lr': 7.067143100837347e-05}\n",
      "\n",
      "Training the model...\n",
      "Train set: 6647 samples\n",
      "Validation set: 1662 samples\n"
     ]
    },
    {
     "data": {
      "text/plain": [
       "Sanity Checking: |          | 0/? [00:00<?, ?it/s]"
      ],
      "application/vnd.jupyter.widget-view+json": {
       "version_major": 2,
       "version_minor": 0,
       "model_id": "7d76d6c7712747efb020b7531a39f1cf"
      }
     },
     "metadata": {},
     "output_type": "display_data"
    },
    {
     "name": "stderr",
     "output_type": "stream",
     "text": [
      "Exception ignored in: <function _MultiProcessingDataLoaderIter.__del__ at 0x7f7ef9568220>\n",
      "Exception ignored in: <function _MultiProcessingDataLoaderIter.__del__ at 0x7f7ef9568220>Traceback (most recent call last):\n",
      "  File \"/home/eduardo/Documentos/Water-Cycle-Neural-Network/venv/lib/python3.12/site-packages/torch/utils/data/dataloader.py\", line 1663, in __del__\n",
      "    \n",
      "self._shutdown_workers()Traceback (most recent call last):\n",
      "\n",
      "  File \"/home/eduardo/Documentos/Water-Cycle-Neural-Network/venv/lib/python3.12/site-packages/torch/utils/data/dataloader.py\", line 1646, in _shutdown_workers\n",
      "  File \"/home/eduardo/Documentos/Water-Cycle-Neural-Network/venv/lib/python3.12/site-packages/torch/utils/data/dataloader.py\", line 1663, in __del__\n",
      "        if w.is_alive():self._shutdown_workers()\n",
      "\n",
      "Exception ignored in:   File \"/home/eduardo/Documentos/Water-Cycle-Neural-Network/venv/lib/python3.12/site-packages/torch/utils/data/dataloader.py\", line 1646, in _shutdown_workers\n",
      " <function _MultiProcessingDataLoaderIter.__del__ at 0x7f7ef9568220>     \n",
      " if w.is_alive():Traceback (most recent call last):\n",
      " \n",
      "  File \"/home/eduardo/Documentos/Water-Cycle-Neural-Network/venv/lib/python3.12/site-packages/torch/utils/data/dataloader.py\", line 1663, in __del__\n",
      "       self._shutdown_workers()  \n",
      " ^  File \"/home/eduardo/Documentos/Water-Cycle-Neural-Network/venv/lib/python3.12/site-packages/torch/utils/data/dataloader.py\", line 1646, in _shutdown_workers\n",
      " ^     ^if w.is_alive(): ^\n",
      " ^ ^^ ^ ^^ ^^^ ^^ ^^ ^^^^^^^^^\n",
      "  File \"/usr/lib/python3.12/multiprocessing/process.py\", line 160, in is_alive\n",
      "^^    \n",
      "^assert self._parent_pid == os.getpid(), 'can only test a child process'  File \"/usr/lib/python3.12/multiprocessing/process.py\", line 160, in is_alive\n",
      "^\n",
      "^    ^ ^assert self._parent_pid == os.getpid(), 'can only test a child process' ^ \n",
      "^  ^  \n",
      "   File \"/usr/lib/python3.12/multiprocessing/process.py\", line 160, in is_alive\n",
      "       assert self._parent_pid == os.getpid(), 'can only test a child process'  \n",
      "       ^  ^ ^   ^  ^ ^^^^ ^^^ ^^  ^^^^^^^^^^^^^^^^^^^^^^^^^^"
     ]
    },
    {
     "data": {
      "text/plain": [
       "Training: |          | 0/? [00:00<?, ?it/s]"
      ],
      "application/vnd.jupyter.widget-view+json": {
       "version_major": 2,
       "version_minor": 0,
       "model_id": "fe4be8149523465ab6f7eb34162139b4"
      }
     },
     "metadata": {},
     "output_type": "display_data"
    },
    {
     "name": "stderr",
     "output_type": "stream",
     "text": [
      "^^^^^^^^^^^^^^^^^^^^^^^^^^^^^^^^^^^^^^^^^\n",
      "^^^AssertionError: ^^^can only test a child process^\n",
      "\n",
      "^AssertionError: ^can only test a child process^\n",
      "^^\n",
      "AssertionError: can only test a child process\n"
     ]
    },
    {
     "data": {
      "text/plain": [
       "Validation: |          | 0/? [00:00<?, ?it/s]"
      ],
      "application/vnd.jupyter.widget-view+json": {
       "version_major": 2,
       "version_minor": 0,
       "model_id": "c8bde41ac4ed499fa6df9e4bd910fb27"
      }
     },
     "metadata": {},
     "output_type": "display_data"
    },
    {
     "name": "stderr",
     "output_type": "stream",
     "text": [
      "[I 2025-05-19 17:18:37,715] Trial 9 pruned. Trial was pruned at epoch 0.\n",
      "[I 2025-05-19 17:18:37,746] Trial 10 finished with value: inf and parameters: {'input_chunk_length': 2, 'num_filters': 126, 'kernel_size': 2, 'num_layers': 5, 'dilation_base': 4, 'weight_norm': False, 'dropout': 0.024654231664655024, 'batch_size': 30, 'lr': 0.0099598071127201}. Best is trial 2 with value: 39.99407731033253.\n",
      "[I 2025-05-19 17:18:37,786] Trial 11 finished with value: inf and parameters: {'input_chunk_length': 1, 'num_filters': 71, 'kernel_size': 5, 'num_layers': 4, 'dilation_base': 4, 'weight_norm': True, 'dropout': 0.054737703946794364, 'batch_size': 61, 'lr': 0.00015014976122392873}. Best is trial 2 with value: 39.99407731033253.\n"
     ]
    },
    {
     "name": "stdout",
     "output_type": "stream",
     "text": [
      "Current value: 0.07026923411532862, Current params: {'input_chunk_length': 22, 'num_filters': 80, 'kernel_size': 7, 'num_layers': 2, 'dilation_base': 4, 'weight_norm': False, 'dropout': 0.15862646329539692, 'batch_size': 52, 'lr': 7.067143100837347e-05}\n",
      "Best value: 39.99407731033253, Best params: {'input_chunk_length': 20, 'num_filters': 109, 'kernel_size': 2, 'num_layers': 6, 'dilation_base': 4, 'weight_norm': True, 'dropout': 0.15531203611947797, 'batch_size': 29, 'lr': 0.0002474912028329941}\n",
      "Current value: inf, Current params: {'input_chunk_length': 2, 'num_filters': 126, 'kernel_size': 2, 'num_layers': 5, 'dilation_base': 4, 'weight_norm': False, 'dropout': 0.024654231664655024, 'batch_size': 30, 'lr': 0.0099598071127201}\n",
      "Best value: 39.99407731033253, Best params: {'input_chunk_length': 20, 'num_filters': 109, 'kernel_size': 2, 'num_layers': 6, 'dilation_base': 4, 'weight_norm': True, 'dropout': 0.15531203611947797, 'batch_size': 29, 'lr': 0.0002474912028329941}\n",
      "Current value: inf, Current params: {'input_chunk_length': 1, 'num_filters': 71, 'kernel_size': 5, 'num_layers': 4, 'dilation_base': 4, 'weight_norm': True, 'dropout': 0.054737703946794364, 'batch_size': 61, 'lr': 0.00015014976122392873}\n",
      "Best value: 39.99407731033253, Best params: {'input_chunk_length': 20, 'num_filters': 109, 'kernel_size': 2, 'num_layers': 6, 'dilation_base': 4, 'weight_norm': True, 'dropout': 0.15531203611947797, 'batch_size': 29, 'lr': 0.0002474912028329941}\n",
      "\n",
      "Starting Trial 12\n",
      "Hyperparameters: {'input_chunk_length': 15, 'num_filters': 101, 'kernel_size': 5, 'num_layers': 4, 'dilation_base': 4, 'weight_norm': True, 'dropout': 0.2555693944092098, 'batch_size': 29, 'lr': 0.0020395511354308143}\n",
      "\n",
      "Training the model...\n",
      "Train set: 6647 samples\n",
      "Validation set: 1662 samples\n"
     ]
    },
    {
     "name": "stderr",
     "output_type": "stream",
     "text": [
      "GPU available: True (cuda), used: True\n",
      "TPU available: False, using: 0 TPU cores\n",
      "HPU available: False, using: 0 HPUs\n",
      "LOCAL_RANK: 0 - CUDA_VISIBLE_DEVICES: [0]\n",
      "\n",
      "  | Name            | Type             | Params | Mode \n",
      "-------------------------------------------------------------\n",
      "0 | criterion       | HuberLoss        | 0      | train\n",
      "1 | train_criterion | HuberLoss        | 0      | train\n",
      "2 | val_criterion   | HuberLoss        | 0      | train\n",
      "3 | train_metrics   | MetricCollection | 0      | train\n",
      "4 | val_metrics     | MetricCollection | 0      | train\n",
      "5 | res_blocks      | ModuleList       | 323 K  | train\n",
      "-------------------------------------------------------------\n",
      "323 K     Trainable params\n",
      "0         Non-trainable params\n",
      "323 K     Total params\n",
      "1.293     Total estimated model params size (MB)\n",
      "52        Modules in train mode\n",
      "0         Modules in eval mode\n"
     ]
    },
    {
     "data": {
      "text/plain": [
       "Sanity Checking: |          | 0/? [00:00<?, ?it/s]"
      ],
      "application/vnd.jupyter.widget-view+json": {
       "version_major": 2,
       "version_minor": 0,
       "model_id": "4105640359a0410683d668b2cd6201ac"
      }
     },
     "metadata": {},
     "output_type": "display_data"
    },
    {
     "data": {
      "text/plain": [
       "Training: |          | 0/? [00:00<?, ?it/s]"
      ],
      "application/vnd.jupyter.widget-view+json": {
       "version_major": 2,
       "version_minor": 0,
       "model_id": "6616eec768aa41d9978472e95a72a6dc"
      }
     },
     "metadata": {},
     "output_type": "display_data"
    },
    {
     "data": {
      "text/plain": [
       "Validation: |          | 0/? [00:00<?, ?it/s]"
      ],
      "application/vnd.jupyter.widget-view+json": {
       "version_major": 2,
       "version_minor": 0,
       "model_id": "d78013954b014a628b8d36b9b4507e7d"
      }
     },
     "metadata": {},
     "output_type": "display_data"
    },
    {
     "name": "stderr",
     "output_type": "stream",
     "text": [
      "Metric val_loss improved. New best score: 0.014\n"
     ]
    },
    {
     "data": {
      "text/plain": [
       "Validation: |          | 0/? [00:00<?, ?it/s]"
      ],
      "application/vnd.jupyter.widget-view+json": {
       "version_major": 2,
       "version_minor": 0,
       "model_id": "0a459e724c944581b719534cdd3ce1c9"
      }
     },
     "metadata": {},
     "output_type": "display_data"
    },
    {
     "data": {
      "text/plain": [
       "Validation: |          | 0/? [00:00<?, ?it/s]"
      ],
      "application/vnd.jupyter.widget-view+json": {
       "version_major": 2,
       "version_minor": 0,
       "model_id": "e011ce097ba14f40a06bf24640eaf400"
      }
     },
     "metadata": {},
     "output_type": "display_data"
    },
    {
     "name": "stderr",
     "output_type": "stream",
     "text": [
      "Metric val_loss improved by 0.002 >= min_delta = 0.001. New best score: 0.013\n"
     ]
    },
    {
     "data": {
      "text/plain": [
       "Validation: |          | 0/? [00:00<?, ?it/s]"
      ],
      "application/vnd.jupyter.widget-view+json": {
       "version_major": 2,
       "version_minor": 0,
       "model_id": "7c1b5785b5ff4e68836e1598c6ec110c"
      }
     },
     "metadata": {},
     "output_type": "display_data"
    },
    {
     "data": {
      "text/plain": [
       "Validation: |          | 0/? [00:00<?, ?it/s]"
      ],
      "application/vnd.jupyter.widget-view+json": {
       "version_major": 2,
       "version_minor": 0,
       "model_id": "942861dc2d0a41fea3a62506395ef357"
      }
     },
     "metadata": {},
     "output_type": "display_data"
    },
    {
     "data": {
      "text/plain": [
       "Validation: |          | 0/? [00:00<?, ?it/s]"
      ],
      "application/vnd.jupyter.widget-view+json": {
       "version_major": 2,
       "version_minor": 0,
       "model_id": "f4821efc13e24a1f8e005dc072d0145b"
      }
     },
     "metadata": {},
     "output_type": "display_data"
    },
    {
     "data": {
      "text/plain": [
       "Validation: |          | 0/? [00:00<?, ?it/s]"
      ],
      "application/vnd.jupyter.widget-view+json": {
       "version_major": 2,
       "version_minor": 0,
       "model_id": "bf94e5e99aff43b1bb8e077143e3a03a"
      }
     },
     "metadata": {},
     "output_type": "display_data"
    },
    {
     "name": "stderr",
     "output_type": "stream",
     "text": [
      "Metric val_loss improved by 0.001 >= min_delta = 0.001. New best score: 0.011\n"
     ]
    },
    {
     "data": {
      "text/plain": [
       "Validation: |          | 0/? [00:00<?, ?it/s]"
      ],
      "application/vnd.jupyter.widget-view+json": {
       "version_major": 2,
       "version_minor": 0,
       "model_id": "74804fa1f9bd43f29a7eedcca37c7feb"
      }
     },
     "metadata": {},
     "output_type": "display_data"
    },
    {
     "name": "stderr",
     "output_type": "stream",
     "text": [
      "Monitored metric val_loss = nan is not finite. Previous best value was 0.011. Signaling Trainer to stop.\n",
      "GPU available: True (cuda), used: True\n",
      "TPU available: False, using: 0 TPU cores\n",
      "HPU available: False, using: 0 HPUs\n",
      "LOCAL_RANK: 0 - CUDA_VISIBLE_DEVICES: [0]\n"
     ]
    },
    {
     "name": "stdout",
     "output_type": "stream",
     "text": [
      "Model loaded from checkpoint for trial 12\n"
     ]
    },
    {
     "name": "stderr",
     "output_type": "stream",
     "text": [
      "/home/eduardo/Documentos/Water-Cycle-Neural-Network/venv/lib/python3.12/site-packages/pytorch_lightning/trainer/connectors/data_connector.py:425: The 'predict_dataloader' does not have many workers which may be a bottleneck. Consider increasing the value of the `num_workers` argument` to `num_workers=11` in the `DataLoader` to improve performance.\n",
      "[I 2025-05-19 17:21:55,295] Trial 12 finished with value: 43.5104818021586 and parameters: {'input_chunk_length': 15, 'num_filters': 101, 'kernel_size': 5, 'num_layers': 4, 'dilation_base': 4, 'weight_norm': True, 'dropout': 0.2555693944092098, 'batch_size': 29, 'lr': 0.0020395511354308143}. Best is trial 2 with value: 39.99407731033253.\n",
      "GPU available: True (cuda), used: True\n",
      "TPU available: False, using: 0 TPU cores\n",
      "HPU available: False, using: 0 HPUs\n",
      "LOCAL_RANK: 0 - CUDA_VISIBLE_DEVICES: [0]\n",
      "\n",
      "  | Name            | Type             | Params | Mode \n",
      "-------------------------------------------------------------\n",
      "0 | criterion       | HuberLoss        | 0      | train\n",
      "1 | train_criterion | HuberLoss        | 0      | train\n",
      "2 | val_criterion   | HuberLoss        | 0      | train\n",
      "3 | train_metrics   | MetricCollection | 0      | train\n",
      "4 | val_metrics     | MetricCollection | 0      | train\n",
      "5 | res_blocks      | ModuleList       | 18.8 K | train\n",
      "-------------------------------------------------------------\n",
      "18.8 K    Trainable params\n",
      "0         Non-trainable params\n",
      "18.8 K    Total params\n",
      "0.075     Total estimated model params size (MB)\n",
      "74        Modules in train mode\n",
      "0         Modules in eval mode\n"
     ]
    },
    {
     "name": "stdout",
     "output_type": "stream",
     "text": [
      "Starting time series consistency verification...\n",
      "\n",
      "Performance metrics:\n",
      "                                   MSE       RMSE        MAE        R2  \\\n",
      "Temperature                   0.357733   0.598108   0.365425  0.894919   \n",
      "Precipitation_accumulated     4.245810   2.060536   1.559986 -3.473307   \n",
      "Humidity                      1.910341   1.382151   0.771665  0.970623   \n",
      "Wind_Speed_kmh                0.069984   0.264545   0.158027  0.794351   \n",
      "Soil_Moisture              8576.652141  92.610216  22.633221  0.988409   \n",
      "Soil_Temperature              0.153269   0.391495   0.259754  0.972690   \n",
      "Wind_Dir_Sin                  0.041172   0.202910   0.098918  0.743664   \n",
      "Wind_Dir_Cos                  0.039999   0.199998   0.116476  0.860676   \n",
      "\n",
      "                                SMAPE  \n",
      "Temperature                  6.314202  \n",
      "Precipitation_accumulated    0.338919  \n",
      "Humidity                     0.924229  \n",
      "Wind_Speed_kmh             163.371335  \n",
      "Soil_Moisture                0.363853  \n",
      "Soil_Temperature            10.505230  \n",
      "Wind_Dir_Sin               139.406723  \n",
      "Wind_Dir_Cos                26.859364  \n",
      "The SMAPE for this fold was 43.5104818021586\n",
      "Results for trial 12 saved to optuna_iteration_metrics/trial_12.json\n",
      "Current value: 43.5104818021586, Current params: {'input_chunk_length': 15, 'num_filters': 101, 'kernel_size': 5, 'num_layers': 4, 'dilation_base': 4, 'weight_norm': True, 'dropout': 0.2555693944092098, 'batch_size': 29, 'lr': 0.0020395511354308143}\n",
      "Best value: 39.99407731033253, Best params: {'input_chunk_length': 20, 'num_filters': 109, 'kernel_size': 2, 'num_layers': 6, 'dilation_base': 4, 'weight_norm': True, 'dropout': 0.15531203611947797, 'batch_size': 29, 'lr': 0.0002474912028329941}\n",
      "\n",
      "Starting Trial 13\n",
      "Hyperparameters: {'input_chunk_length': 43, 'num_filters': 23, 'kernel_size': 3, 'num_layers': 6, 'dilation_base': 3, 'weight_norm': True, 'dropout': 0.10090734420301717, 'batch_size': 59, 'lr': 0.00026530841665742814}\n",
      "\n",
      "Training the model...\n",
      "Train set: 6647 samples\n",
      "Validation set: 1662 samples\n"
     ]
    },
    {
     "data": {
      "text/plain": [
       "Sanity Checking: |          | 0/? [00:00<?, ?it/s]"
      ],
      "application/vnd.jupyter.widget-view+json": {
       "version_major": 2,
       "version_minor": 0,
       "model_id": "580aec2845174429a2cd11c0085d572b"
      }
     },
     "metadata": {},
     "output_type": "display_data"
    },
    {
     "data": {
      "text/plain": [
       "Training: |          | 0/? [00:00<?, ?it/s]"
      ],
      "application/vnd.jupyter.widget-view+json": {
       "version_major": 2,
       "version_minor": 0,
       "model_id": "04beaf7b79e04f2991ba753b83cf468b"
      }
     },
     "metadata": {},
     "output_type": "display_data"
    },
    {
     "data": {
      "text/plain": [
       "Validation: |          | 0/? [00:00<?, ?it/s]"
      ],
      "application/vnd.jupyter.widget-view+json": {
       "version_major": 2,
       "version_minor": 0,
       "model_id": "915ea91fa4c3447eb832a9bc4d00bfc7"
      }
     },
     "metadata": {},
     "output_type": "display_data"
    },
    {
     "name": "stderr",
     "output_type": "stream",
     "text": [
      "[I 2025-05-19 17:22:08,003] Trial 13 pruned. Trial was pruned at epoch 0.\n",
      "GPU available: True (cuda), used: True\n",
      "TPU available: False, using: 0 TPU cores\n",
      "HPU available: False, using: 0 HPUs\n",
      "LOCAL_RANK: 0 - CUDA_VISIBLE_DEVICES: [0]\n",
      "\n",
      "  | Name            | Type             | Params | Mode \n",
      "-------------------------------------------------------------\n",
      "0 | criterion       | HuberLoss        | 0      | train\n",
      "1 | train_criterion | HuberLoss        | 0      | train\n",
      "2 | val_criterion   | HuberLoss        | 0      | train\n",
      "3 | train_metrics   | MetricCollection | 0      | train\n",
      "4 | val_metrics     | MetricCollection | 0      | train\n",
      "5 | res_blocks      | ModuleList       | 83.2 K | train\n",
      "-------------------------------------------------------------\n",
      "83.2 K    Trainable params\n",
      "0         Non-trainable params\n",
      "83.2 K    Total params\n",
      "0.333     Total estimated model params size (MB)\n",
      "41        Modules in train mode\n",
      "0         Modules in eval mode\n"
     ]
    },
    {
     "name": "stdout",
     "output_type": "stream",
     "text": [
      "Current value: 0.04024794010862144, Current params: {'input_chunk_length': 43, 'num_filters': 23, 'kernel_size': 3, 'num_layers': 6, 'dilation_base': 3, 'weight_norm': True, 'dropout': 0.10090734420301717, 'batch_size': 59, 'lr': 0.00026530841665742814}\n",
      "Best value: 39.99407731033253, Best params: {'input_chunk_length': 20, 'num_filters': 109, 'kernel_size': 2, 'num_layers': 6, 'dilation_base': 4, 'weight_norm': True, 'dropout': 0.15531203611947797, 'batch_size': 29, 'lr': 0.0002474912028329941}\n",
      "\n",
      "Starting Trial 14\n",
      "Hyperparameters: {'input_chunk_length': 11, 'num_filters': 55, 'kernel_size': 6, 'num_layers': 3, 'dilation_base': 4, 'weight_norm': True, 'dropout': 0.21117308787484826, 'batch_size': 33, 'lr': 3.167813030026633e-05}\n",
      "\n",
      "Training the model...\n",
      "Train set: 6647 samples\n",
      "Validation set: 1662 samples\n"
     ]
    },
    {
     "data": {
      "text/plain": [
       "Sanity Checking: |          | 0/? [00:00<?, ?it/s]"
      ],
      "application/vnd.jupyter.widget-view+json": {
       "version_major": 2,
       "version_minor": 0,
       "model_id": "412b9384a2b04e6ea4e8bb036579f3ed"
      }
     },
     "metadata": {},
     "output_type": "display_data"
    },
    {
     "data": {
      "text/plain": [
       "Training: |          | 0/? [00:00<?, ?it/s]"
      ],
      "application/vnd.jupyter.widget-view+json": {
       "version_major": 2,
       "version_minor": 0,
       "model_id": "5e179482d0f74101b82265f18059a94f"
      }
     },
     "metadata": {},
     "output_type": "display_data"
    },
    {
     "data": {
      "text/plain": [
       "Validation: |          | 0/? [00:00<?, ?it/s]"
      ],
      "application/vnd.jupyter.widget-view+json": {
       "version_major": 2,
       "version_minor": 0,
       "model_id": "56c8134eb4584a808e6fc602ca1dd035"
      }
     },
     "metadata": {},
     "output_type": "display_data"
    },
    {
     "name": "stderr",
     "output_type": "stream",
     "text": [
      "[I 2025-05-19 17:22:18,778] Trial 14 pruned. Trial was pruned at epoch 0.\n"
     ]
    },
    {
     "name": "stdout",
     "output_type": "stream",
     "text": [
      "Current value: 0.08714698000866376, Current params: {'input_chunk_length': 11, 'num_filters': 55, 'kernel_size': 6, 'num_layers': 3, 'dilation_base': 4, 'weight_norm': True, 'dropout': 0.21117308787484826, 'batch_size': 33, 'lr': 3.167813030026633e-05}\n",
      "Best value: 39.99407731033253, Best params: {'input_chunk_length': 20, 'num_filters': 109, 'kernel_size': 2, 'num_layers': 6, 'dilation_base': 4, 'weight_norm': True, 'dropout': 0.15531203611947797, 'batch_size': 29, 'lr': 0.0002474912028329941}\n",
      "\n",
      "Starting Trial 15\n",
      "Hyperparameters: {'input_chunk_length': 34, 'num_filters': 29, 'kernel_size': 8, 'num_layers': 5, 'dilation_base': 3, 'weight_norm': True, 'dropout': 0.32958280088844244, 'batch_size': 23, 'lr': 0.0024645392532330855}\n",
      "\n",
      "Training the model...\n",
      "Train set: 6647 samples\n",
      "Validation set: 1662 samples\n"
     ]
    },
    {
     "name": "stderr",
     "output_type": "stream",
     "text": [
      "GPU available: True (cuda), used: True\n",
      "TPU available: False, using: 0 TPU cores\n",
      "HPU available: False, using: 0 HPUs\n",
      "LOCAL_RANK: 0 - CUDA_VISIBLE_DEVICES: [0]\n",
      "\n",
      "  | Name            | Type             | Params | Mode \n",
      "-------------------------------------------------------------\n",
      "0 | criterion       | HuberLoss        | 0      | train\n",
      "1 | train_criterion | HuberLoss        | 0      | train\n",
      "2 | val_criterion   | HuberLoss        | 0      | train\n",
      "3 | train_metrics   | MetricCollection | 0      | train\n",
      "4 | val_metrics     | MetricCollection | 0      | train\n",
      "5 | res_blocks      | ModuleList       | 61.2 K | train\n",
      "-------------------------------------------------------------\n",
      "61.2 K    Trainable params\n",
      "0         Non-trainable params\n",
      "61.2 K    Total params\n",
      "0.245     Total estimated model params size (MB)\n",
      "63        Modules in train mode\n",
      "0         Modules in eval mode\n"
     ]
    },
    {
     "data": {
      "text/plain": [
       "Sanity Checking: |          | 0/? [00:00<?, ?it/s]"
      ],
      "application/vnd.jupyter.widget-view+json": {
       "version_major": 2,
       "version_minor": 0,
       "model_id": "65314fab033a4fa0b9a0aaeb35935e04"
      }
     },
     "metadata": {},
     "output_type": "display_data"
    },
    {
     "name": "stderr",
     "output_type": "stream",
     "text": [
      "Exception ignored in: <function _MultiProcessingDataLoaderIter.__del__ at 0x7f7ef9568220>\n",
      "Traceback (most recent call last):\n",
      "  File \"/home/eduardo/Documentos/Water-Cycle-Neural-Network/venv/lib/python3.12/site-packages/torch/utils/data/dataloader.py\", line 1663, in __del__\n",
      "    self._shutdown_workers()\n",
      "  File \"/home/eduardo/Documentos/Water-Cycle-Neural-Network/venv/lib/python3.12/site-packages/torch/utils/data/dataloader.py\", line 1646, in _shutdown_workers\n",
      "    if w.is_alive():\n",
      "       ^^^^^^^^^^^^\n",
      "  File \"/usr/lib/python3.12/multiprocessing/process.py\", line 160, in is_alive\n",
      "    assert self._parent_pid == os.getpid(), 'can only test a child process'\n",
      "           ^^^^^^^^^^^^^^^^^^^^^^^^^^^^^^^\n",
      "AssertionError: can only test a child process\n",
      "Exception ignored in: <function _MultiProcessingDataLoaderIter.__del__ at 0x7f7ef9568220>\n",
      "Traceback (most recent call last):\n",
      "  File \"/home/eduardo/Documentos/Water-Cycle-Neural-Network/venv/lib/python3.12/site-packages/torch/utils/data/dataloader.py\", line 1663, in __del__\n",
      "    self._shutdown_workers()\n",
      "  File \"/home/eduardo/Documentos/Water-Cycle-Neural-Network/venv/lib/python3.12/site-packages/torch/utils/data/dataloader.py\", line 1646, in _shutdown_workers\n",
      "    if w.is_alive():\n",
      "       ^^^^^^^^^^^^\n",
      "  File \"/usr/lib/python3.12/multiprocessing/process.py\", line 160, in is_alive\n",
      "    assert self._parent_pid == os.getpid(), 'can only test a child process'\n",
      "           ^^^^^^^^^^^^^^^^^^^^^^^^^^^^^^^\n",
      "AssertionError: can only test a child process\n",
      "Exception ignored in: <function _MultiProcessingDataLoaderIter.__del__ at 0x7f7ef9568220>\n",
      "Traceback (most recent call last):\n",
      "  File \"/home/eduardo/Documentos/Water-Cycle-Neural-Network/venv/lib/python3.12/site-packages/torch/utils/data/dataloader.py\", line 1663, in __del__\n",
      "    self._shutdown_workers()\n",
      "  File \"/home/eduardo/Documentos/Water-Cycle-Neural-Network/venv/lib/python3.12/site-packages/torch/utils/data/dataloader.py\", line 1646, in _shutdown_workers\n",
      "    if w.is_alive():\n",
      "       ^^^^^^^^^^^^\n",
      "  File \"/usr/lib/python3.12/multiprocessing/process.py\", line 160, in is_alive\n",
      "    assert self._parent_pid == os.getpid(), 'can only test a child process'\n",
      "           ^^^^^^^^^^^^^^^^^^^^^^^^^^^^^^^\n",
      "AssertionError: can only test a child process\n",
      "Exception ignored in: <function _MultiProcessingDataLoaderIter.__del__ at 0x7f7ef9568220>\n",
      "Traceback (most recent call last):\n",
      "  File \"/home/eduardo/Documentos/Water-Cycle-Neural-Network/venv/lib/python3.12/site-packages/torch/utils/data/dataloader.py\", line 1663, in __del__\n",
      "    self._shutdown_workers()\n",
      "  File \"/home/eduardo/Documentos/Water-Cycle-Neural-Network/venv/lib/python3.12/site-packages/torch/utils/data/dataloader.py\", line 1646, in _shutdown_workers\n",
      "    if w.is_alive():\n",
      "       ^^^^^^^^^^^^\n",
      "  File \"/usr/lib/python3.12/multiprocessing/process.py\", line 160, in is_alive\n",
      "    assert self._parent_pid == os.getpid(), 'can only test a child process'\n",
      "           ^^^^^^^^^^^^^^^^^^^^^^^^^^^^^^^\n",
      "AssertionError: can only test a child process\n"
     ]
    },
    {
     "data": {
      "text/plain": [
       "Training: |          | 0/? [00:00<?, ?it/s]"
      ],
      "application/vnd.jupyter.widget-view+json": {
       "version_major": 2,
       "version_minor": 0,
       "model_id": "91c7ce87dd3541f3a735cb12bc5f427d"
      }
     },
     "metadata": {},
     "output_type": "display_data"
    },
    {
     "data": {
      "text/plain": [
       "Validation: |          | 0/? [00:00<?, ?it/s]"
      ],
      "application/vnd.jupyter.widget-view+json": {
       "version_major": 2,
       "version_minor": 0,
       "model_id": "a01a701f710841e5b69490775c64aa4a"
      }
     },
     "metadata": {},
     "output_type": "display_data"
    },
    {
     "name": "stderr",
     "output_type": "stream",
     "text": [
      "Metric val_loss improved. New best score: 0.017\n"
     ]
    },
    {
     "data": {
      "text/plain": [
       "Validation: |          | 0/? [00:00<?, ?it/s]"
      ],
      "application/vnd.jupyter.widget-view+json": {
       "version_major": 2,
       "version_minor": 0,
       "model_id": "64707e916cdb4bf9837cc63eaa024422"
      }
     },
     "metadata": {},
     "output_type": "display_data"
    },
    {
     "name": "stderr",
     "output_type": "stream",
     "text": [
      "Metric val_loss improved by 0.003 >= min_delta = 0.001. New best score: 0.013\n"
     ]
    },
    {
     "data": {
      "text/plain": [
       "Validation: |          | 0/? [00:00<?, ?it/s]"
      ],
      "application/vnd.jupyter.widget-view+json": {
       "version_major": 2,
       "version_minor": 0,
       "model_id": "da87930198634a9c97df6f039ff9cea9"
      }
     },
     "metadata": {},
     "output_type": "display_data"
    },
    {
     "name": "stderr",
     "output_type": "stream",
     "text": [
      "Metric val_loss improved by 0.001 >= min_delta = 0.001. New best score: 0.012\n"
     ]
    },
    {
     "data": {
      "text/plain": [
       "Validation: |          | 0/? [00:00<?, ?it/s]"
      ],
      "application/vnd.jupyter.widget-view+json": {
       "version_major": 2,
       "version_minor": 0,
       "model_id": "be271425a5c94550b0d194b17c68cccb"
      }
     },
     "metadata": {},
     "output_type": "display_data"
    },
    {
     "data": {
      "text/plain": [
       "Validation: |          | 0/? [00:00<?, ?it/s]"
      ],
      "application/vnd.jupyter.widget-view+json": {
       "version_major": 2,
       "version_minor": 0,
       "model_id": "09bea2985fe2450f9bde7afbd154f6c5"
      }
     },
     "metadata": {},
     "output_type": "display_data"
    },
    {
     "data": {
      "text/plain": [
       "Validation: |          | 0/? [00:00<?, ?it/s]"
      ],
      "application/vnd.jupyter.widget-view+json": {
       "version_major": 2,
       "version_minor": 0,
       "model_id": "080568f3050c46c3836c7de418492104"
      }
     },
     "metadata": {},
     "output_type": "display_data"
    },
    {
     "data": {
      "text/plain": [
       "Validation: |          | 0/? [00:00<?, ?it/s]"
      ],
      "application/vnd.jupyter.widget-view+json": {
       "version_major": 2,
       "version_minor": 0,
       "model_id": "48b67bd716834af0b982280adad057ac"
      }
     },
     "metadata": {},
     "output_type": "display_data"
    },
    {
     "data": {
      "text/plain": [
       "Validation: |          | 0/? [00:00<?, ?it/s]"
      ],
      "application/vnd.jupyter.widget-view+json": {
       "version_major": 2,
       "version_minor": 0,
       "model_id": "506265be5c25414c831911af0e91e9ef"
      }
     },
     "metadata": {},
     "output_type": "display_data"
    },
    {
     "data": {
      "text/plain": [
       "Validation: |          | 0/? [00:00<?, ?it/s]"
      ],
      "application/vnd.jupyter.widget-view+json": {
       "version_major": 2,
       "version_minor": 0,
       "model_id": "10a26592d28141aaaf533c5e0b197b4a"
      }
     },
     "metadata": {},
     "output_type": "display_data"
    },
    {
     "data": {
      "text/plain": [
       "Validation: |          | 0/? [00:00<?, ?it/s]"
      ],
      "application/vnd.jupyter.widget-view+json": {
       "version_major": 2,
       "version_minor": 0,
       "model_id": "f9e29a0b88c048979b3a8b733b816409"
      }
     },
     "metadata": {},
     "output_type": "display_data"
    },
    {
     "data": {
      "text/plain": [
       "Validation: |          | 0/? [00:00<?, ?it/s]"
      ],
      "application/vnd.jupyter.widget-view+json": {
       "version_major": 2,
       "version_minor": 0,
       "model_id": "1dafce7ee3ef49229259509260462423"
      }
     },
     "metadata": {},
     "output_type": "display_data"
    },
    {
     "data": {
      "text/plain": [
       "Validation: |          | 0/? [00:00<?, ?it/s]"
      ],
      "application/vnd.jupyter.widget-view+json": {
       "version_major": 2,
       "version_minor": 0,
       "model_id": "d44d3b75dbc340f6926b09067f4d801c"
      }
     },
     "metadata": {},
     "output_type": "display_data"
    },
    {
     "name": "stderr",
     "output_type": "stream",
     "text": [
      "Monitored metric val_loss = nan is not finite. Previous best value was 0.012. Signaling Trainer to stop.\n",
      "GPU available: True (cuda), used: True\n",
      "TPU available: False, using: 0 TPU cores\n",
      "HPU available: False, using: 0 HPUs\n",
      "LOCAL_RANK: 0 - CUDA_VISIBLE_DEVICES: [0]\n"
     ]
    },
    {
     "name": "stdout",
     "output_type": "stream",
     "text": [
      "Model loaded from checkpoint for trial 15\n"
     ]
    },
    {
     "name": "stderr",
     "output_type": "stream",
     "text": [
      "/home/eduardo/Documentos/Water-Cycle-Neural-Network/venv/lib/python3.12/site-packages/pytorch_lightning/trainer/connectors/data_connector.py:425: The 'predict_dataloader' does not have many workers which may be a bottleneck. Consider increasing the value of the `num_workers` argument` to `num_workers=11` in the `DataLoader` to improve performance.\n",
      "[I 2025-05-19 17:26:06,691] Trial 15 finished with value: 42.50044812821141 and parameters: {'input_chunk_length': 34, 'num_filters': 29, 'kernel_size': 8, 'num_layers': 5, 'dilation_base': 3, 'weight_norm': True, 'dropout': 0.32958280088844244, 'batch_size': 23, 'lr': 0.0024645392532330855}. Best is trial 2 with value: 39.99407731033253.\n",
      "GPU available: True (cuda), used: True\n",
      "TPU available: False, using: 0 TPU cores\n",
      "HPU available: False, using: 0 HPUs\n",
      "LOCAL_RANK: 0 - CUDA_VISIBLE_DEVICES: [0]\n",
      "\n",
      "  | Name            | Type             | Params | Mode \n",
      "-------------------------------------------------------------\n",
      "0 | criterion       | HuberLoss        | 0      | train\n",
      "1 | train_criterion | HuberLoss        | 0      | train\n",
      "2 | val_criterion   | HuberLoss        | 0      | train\n",
      "3 | train_metrics   | MetricCollection | 0      | train\n",
      "4 | val_metrics     | MetricCollection | 0      | train\n",
      "5 | res_blocks      | ModuleList       | 110 K  | train\n",
      "-------------------------------------------------------------\n",
      "110 K     Trainable params\n",
      "0         Non-trainable params\n",
      "110 K     Total params\n",
      "0.441     Total estimated model params size (MB)\n",
      "52        Modules in train mode\n",
      "0         Modules in eval mode\n"
     ]
    },
    {
     "name": "stdout",
     "output_type": "stream",
     "text": [
      "Starting time series consistency verification...\n",
      "\n",
      "Performance metrics:\n",
      "                                   MSE       RMSE        MAE        R2  \\\n",
      "Temperature                   0.386245   0.621486   0.373332  0.886544   \n",
      "Precipitation_accumulated     3.062232   1.749923   1.399644 -2.226310   \n",
      "Humidity                      1.857548   1.362919   0.791628  0.971435   \n",
      "Wind_Speed_kmh                0.064183   0.253344   0.104693  0.811397   \n",
      "Soil_Moisture              8938.335952  94.542773  26.118859  0.987921   \n",
      "Soil_Temperature              0.301042   0.548673   0.405704  0.946359   \n",
      "Wind_Dir_Sin                  0.042814   0.206916   0.105337  0.733443   \n",
      "Wind_Dir_Cos                  0.043475   0.208506   0.122123  0.848569   \n",
      "\n",
      "                                SMAPE  \n",
      "Temperature                  6.289041  \n",
      "Precipitation_accumulated    0.304600  \n",
      "Humidity                     0.952923  \n",
      "Wind_Speed_kmh             149.201779  \n",
      "Soil_Moisture                0.414226  \n",
      "Soil_Temperature            15.027263  \n",
      "Wind_Dir_Sin               139.959515  \n",
      "Wind_Dir_Cos                27.854239  \n",
      "The SMAPE for this fold was 42.50044812821141\n",
      "Results for trial 15 saved to optuna_iteration_metrics/trial_15.json\n",
      "Current value: 42.50044812821141, Current params: {'input_chunk_length': 34, 'num_filters': 29, 'kernel_size': 8, 'num_layers': 5, 'dilation_base': 3, 'weight_norm': True, 'dropout': 0.32958280088844244, 'batch_size': 23, 'lr': 0.0024645392532330855}\n",
      "Best value: 39.99407731033253, Best params: {'input_chunk_length': 20, 'num_filters': 109, 'kernel_size': 2, 'num_layers': 6, 'dilation_base': 4, 'weight_norm': True, 'dropout': 0.15531203611947797, 'batch_size': 29, 'lr': 0.0002474912028329941}\n",
      "\n",
      "Starting Trial 16\n",
      "Hyperparameters: {'input_chunk_length': 12, 'num_filters': 75, 'kernel_size': 3, 'num_layers': 4, 'dilation_base': 1, 'weight_norm': True, 'dropout': 0.14299264210077825, 'batch_size': 54, 'lr': 0.00030746633793384475}\n",
      "\n",
      "Training the model...\n",
      "Train set: 6647 samples\n",
      "Validation set: 1662 samples\n"
     ]
    },
    {
     "data": {
      "text/plain": [
       "Sanity Checking: |          | 0/? [00:00<?, ?it/s]"
      ],
      "application/vnd.jupyter.widget-view+json": {
       "version_major": 2,
       "version_minor": 0,
       "model_id": "d4207b5f2159438f8c9eb748361fa1ef"
      }
     },
     "metadata": {},
     "output_type": "display_data"
    },
    {
     "data": {
      "text/plain": [
       "Training: |          | 0/? [00:00<?, ?it/s]"
      ],
      "application/vnd.jupyter.widget-view+json": {
       "version_major": 2,
       "version_minor": 0,
       "model_id": "e8c46cc501744dbeab36066e6de8030b"
      }
     },
     "metadata": {},
     "output_type": "display_data"
    },
    {
     "data": {
      "text/plain": [
       "Validation: |          | 0/? [00:00<?, ?it/s]"
      ],
      "application/vnd.jupyter.widget-view+json": {
       "version_major": 2,
       "version_minor": 0,
       "model_id": "9aa1271cd9154db29c67de52e56692eb"
      }
     },
     "metadata": {},
     "output_type": "display_data"
    },
    {
     "name": "stderr",
     "output_type": "stream",
     "text": [
      "[I 2025-05-19 17:26:11,019] Trial 16 pruned. Trial was pruned at epoch 0.\n",
      "GPU available: True (cuda), used: True\n",
      "TPU available: False, using: 0 TPU cores\n",
      "HPU available: False, using: 0 HPUs\n",
      "LOCAL_RANK: 0 - CUDA_VISIBLE_DEVICES: [0]\n",
      "\n",
      "  | Name            | Type             | Params | Mode \n",
      "-------------------------------------------------------------\n",
      "0 | criterion       | HuberLoss        | 0      | train\n",
      "1 | train_criterion | HuberLoss        | 0      | train\n",
      "2 | val_criterion   | HuberLoss        | 0      | train\n",
      "3 | train_metrics   | MetricCollection | 0      | train\n",
      "4 | val_metrics     | MetricCollection | 0      | train\n",
      "5 | res_blocks      | ModuleList       | 417 K  | train\n",
      "-------------------------------------------------------------\n",
      "417 K     Trainable params\n",
      "0         Non-trainable params\n",
      "417 K     Total params\n",
      "1.672     Total estimated model params size (MB)\n",
      "41        Modules in train mode\n",
      "0         Modules in eval mode\n"
     ]
    },
    {
     "name": "stdout",
     "output_type": "stream",
     "text": [
      "Current value: 0.025935354003179513, Current params: {'input_chunk_length': 12, 'num_filters': 75, 'kernel_size': 3, 'num_layers': 4, 'dilation_base': 1, 'weight_norm': True, 'dropout': 0.14299264210077825, 'batch_size': 54, 'lr': 0.00030746633793384475}\n",
      "Best value: 39.99407731033253, Best params: {'input_chunk_length': 20, 'num_filters': 109, 'kernel_size': 2, 'num_layers': 6, 'dilation_base': 4, 'weight_norm': True, 'dropout': 0.15531203611947797, 'batch_size': 29, 'lr': 0.0002474912028329941}\n",
      "\n",
      "Starting Trial 17\n",
      "Hyperparameters: {'input_chunk_length': 25, 'num_filters': 128, 'kernel_size': 6, 'num_layers': 3, 'dilation_base': 4, 'weight_norm': True, 'dropout': 0.23221504614606284, 'batch_size': 35, 'lr': 0.0014846901401389882}\n",
      "\n",
      "Training the model...\n",
      "Train set: 6647 samples\n",
      "Validation set: 1662 samples\n"
     ]
    },
    {
     "data": {
      "text/plain": [
       "Sanity Checking: |          | 0/? [00:00<?, ?it/s]"
      ],
      "application/vnd.jupyter.widget-view+json": {
       "version_major": 2,
       "version_minor": 0,
       "model_id": "5d65712840a74bd4874bd84aac211e2a"
      }
     },
     "metadata": {},
     "output_type": "display_data"
    },
    {
     "data": {
      "text/plain": [
       "Training: |          | 0/? [00:00<?, ?it/s]"
      ],
      "application/vnd.jupyter.widget-view+json": {
       "version_major": 2,
       "version_minor": 0,
       "model_id": "0c67aaad447143e4b33be2e64822e460"
      }
     },
     "metadata": {},
     "output_type": "display_data"
    },
    {
     "data": {
      "text/plain": [
       "Validation: |          | 0/? [00:00<?, ?it/s]"
      ],
      "application/vnd.jupyter.widget-view+json": {
       "version_major": 2,
       "version_minor": 0,
       "model_id": "7a87ba991e634c81abd08bf89386fe45"
      }
     },
     "metadata": {},
     "output_type": "display_data"
    },
    {
     "name": "stderr",
     "output_type": "stream",
     "text": [
      "Metric val_loss improved. New best score: 0.016\n"
     ]
    },
    {
     "data": {
      "text/plain": [
       "Validation: |          | 0/? [00:00<?, ?it/s]"
      ],
      "application/vnd.jupyter.widget-view+json": {
       "version_major": 2,
       "version_minor": 0,
       "model_id": "3ac13a94c0754ae7a394bc3553a72bd6"
      }
     },
     "metadata": {},
     "output_type": "display_data"
    },
    {
     "name": "stderr",
     "output_type": "stream",
     "text": [
      "Metric val_loss improved by 0.002 >= min_delta = 0.001. New best score: 0.014\n"
     ]
    },
    {
     "data": {
      "text/plain": [
       "Validation: |          | 0/? [00:00<?, ?it/s]"
      ],
      "application/vnd.jupyter.widget-view+json": {
       "version_major": 2,
       "version_minor": 0,
       "model_id": "00ea52a23fb04f8aba13a4e46fb0f64c"
      }
     },
     "metadata": {},
     "output_type": "display_data"
    },
    {
     "data": {
      "text/plain": [
       "Validation: |          | 0/? [00:00<?, ?it/s]"
      ],
      "application/vnd.jupyter.widget-view+json": {
       "version_major": 2,
       "version_minor": 0,
       "model_id": "27a444abd42f40a89c106fc7d428b79b"
      }
     },
     "metadata": {},
     "output_type": "display_data"
    },
    {
     "name": "stderr",
     "output_type": "stream",
     "text": [
      "Metric val_loss improved by 0.001 >= min_delta = 0.001. New best score: 0.013\n"
     ]
    },
    {
     "data": {
      "text/plain": [
       "Validation: |          | 0/? [00:00<?, ?it/s]"
      ],
      "application/vnd.jupyter.widget-view+json": {
       "version_major": 2,
       "version_minor": 0,
       "model_id": "c608a03da4b842d78f0c055bda4ecd6b"
      }
     },
     "metadata": {},
     "output_type": "display_data"
    },
    {
     "data": {
      "text/plain": [
       "Validation: |          | 0/? [00:00<?, ?it/s]"
      ],
      "application/vnd.jupyter.widget-view+json": {
       "version_major": 2,
       "version_minor": 0,
       "model_id": "e4de2ad9b7bf4be6ac1c7a2a686d4ba5"
      }
     },
     "metadata": {},
     "output_type": "display_data"
    },
    {
     "data": {
      "text/plain": [
       "Validation: |          | 0/? [00:00<?, ?it/s]"
      ],
      "application/vnd.jupyter.widget-view+json": {
       "version_major": 2,
       "version_minor": 0,
       "model_id": "e3dba16c48b14da685cee81a8128aeb2"
      }
     },
     "metadata": {},
     "output_type": "display_data"
    },
    {
     "data": {
      "text/plain": [
       "Validation: |          | 0/? [00:00<?, ?it/s]"
      ],
      "application/vnd.jupyter.widget-view+json": {
       "version_major": 2,
       "version_minor": 0,
       "model_id": "d3052fc780964ec6a635223b1bc63931"
      }
     },
     "metadata": {},
     "output_type": "display_data"
    },
    {
     "data": {
      "text/plain": [
       "Validation: |          | 0/? [00:00<?, ?it/s]"
      ],
      "application/vnd.jupyter.widget-view+json": {
       "version_major": 2,
       "version_minor": 0,
       "model_id": "ae9fabc13536438584be9565728379bd"
      }
     },
     "metadata": {},
     "output_type": "display_data"
    },
    {
     "data": {
      "text/plain": [
       "Validation: |          | 0/? [00:00<?, ?it/s]"
      ],
      "application/vnd.jupyter.widget-view+json": {
       "version_major": 2,
       "version_minor": 0,
       "model_id": "e4506fc366064cf3aec36c7abf4e62cd"
      }
     },
     "metadata": {},
     "output_type": "display_data"
    },
    {
     "data": {
      "text/plain": [
       "Validation: |          | 0/? [00:00<?, ?it/s]"
      ],
      "application/vnd.jupyter.widget-view+json": {
       "version_major": 2,
       "version_minor": 0,
       "model_id": "9c3eed5125bc409885ba442384e1a6fe"
      }
     },
     "metadata": {},
     "output_type": "display_data"
    },
    {
     "data": {
      "text/plain": [
       "Validation: |          | 0/? [00:00<?, ?it/s]"
      ],
      "application/vnd.jupyter.widget-view+json": {
       "version_major": 2,
       "version_minor": 0,
       "model_id": "780fe2381f3f44458d095b04442232d2"
      }
     },
     "metadata": {},
     "output_type": "display_data"
    },
    {
     "data": {
      "text/plain": [
       "Validation: |          | 0/? [00:00<?, ?it/s]"
      ],
      "application/vnd.jupyter.widget-view+json": {
       "version_major": 2,
       "version_minor": 0,
       "model_id": "686617f32b6f4f45929406760ea94442"
      }
     },
     "metadata": {},
     "output_type": "display_data"
    },
    {
     "data": {
      "text/plain": [
       "Validation: |          | 0/? [00:00<?, ?it/s]"
      ],
      "application/vnd.jupyter.widget-view+json": {
       "version_major": 2,
       "version_minor": 0,
       "model_id": "20eec383b9f94016af7677ed39ceb07b"
      }
     },
     "metadata": {},
     "output_type": "display_data"
    },
    {
     "name": "stderr",
     "output_type": "stream",
     "text": [
      "Monitored metric val_loss did not improve in the last 10 records. Best score: 0.013. Signaling Trainer to stop.\n",
      "GPU available: True (cuda), used: True\n",
      "TPU available: False, using: 0 TPU cores\n",
      "HPU available: False, using: 0 HPUs\n",
      "LOCAL_RANK: 0 - CUDA_VISIBLE_DEVICES: [0]\n"
     ]
    },
    {
     "name": "stdout",
     "output_type": "stream",
     "text": [
      "Model loaded from checkpoint for trial 17\n"
     ]
    },
    {
     "name": "stderr",
     "output_type": "stream",
     "text": [
      "/home/eduardo/Documentos/Water-Cycle-Neural-Network/venv/lib/python3.12/site-packages/pytorch_lightning/trainer/connectors/data_connector.py:425: The 'predict_dataloader' does not have many workers which may be a bottleneck. Consider increasing the value of the `num_workers` argument` to `num_workers=11` in the `DataLoader` to improve performance.\n",
      "[I 2025-05-19 17:30:42,996] Trial 17 finished with value: 41.88071811796599 and parameters: {'input_chunk_length': 25, 'num_filters': 128, 'kernel_size': 6, 'num_layers': 3, 'dilation_base': 4, 'weight_norm': True, 'dropout': 0.23221504614606284, 'batch_size': 35, 'lr': 0.0014846901401389882}. Best is trial 2 with value: 39.99407731033253.\n",
      "GPU available: True (cuda), used: True\n",
      "TPU available: False, using: 0 TPU cores\n",
      "HPU available: False, using: 0 HPUs\n",
      "LOCAL_RANK: 0 - CUDA_VISIBLE_DEVICES: [0]\n",
      "\n",
      "  | Name            | Type             | Params | Mode \n",
      "-------------------------------------------------------------\n",
      "0 | criterion       | HuberLoss        | 0      | train\n",
      "1 | train_criterion | HuberLoss        | 0      | train\n",
      "2 | val_criterion   | HuberLoss        | 0      | train\n",
      "3 | train_metrics   | MetricCollection | 0      | train\n",
      "4 | val_metrics     | MetricCollection | 0      | train\n",
      "5 | res_blocks      | ModuleList       | 961 K  | train\n",
      "-------------------------------------------------------------\n",
      "961 K     Trainable params\n",
      "0         Non-trainable params\n",
      "961 K     Total params\n",
      "3.847     Total estimated model params size (MB)\n",
      "38        Modules in train mode\n",
      "0         Modules in eval mode\n"
     ]
    },
    {
     "name": "stdout",
     "output_type": "stream",
     "text": [
      "Starting time series consistency verification...\n",
      "\n",
      "Performance metrics:\n",
      "                                   MSE       RMSE        MAE         R2  \\\n",
      "Temperature                   0.306971   0.554050   0.307913   0.909830   \n",
      "Precipitation_accumulated    31.972998   5.654467   5.286345 -32.686156   \n",
      "Humidity                      2.037953   1.427569   0.843648   0.968661   \n",
      "Wind_Speed_kmh                0.057038   0.238826   0.100641   0.832394   \n",
      "Soil_Moisture              8439.628426  91.867450  23.122258   0.988595   \n",
      "Soil_Temperature              0.258039   0.507975   0.407937   0.954022   \n",
      "Wind_Dir_Sin                  0.039639   0.199096   0.102265   0.753209   \n",
      "Wind_Dir_Cos                  0.036125   0.190065   0.090961   0.874170   \n",
      "\n",
      "                                SMAPE  \n",
      "Temperature                  5.409861  \n",
      "Precipitation_accumulated    1.157726  \n",
      "Humidity                     0.995753  \n",
      "Wind_Speed_kmh             145.387662  \n",
      "Soil_Moisture                0.370155  \n",
      "Soil_Temperature            13.685173  \n",
      "Wind_Dir_Sin               142.931754  \n",
      "Wind_Dir_Cos                25.107661  \n",
      "The SMAPE for this fold was 41.88071811796599\n",
      "Results for trial 17 saved to optuna_iteration_metrics/trial_17.json\n",
      "Current value: 41.88071811796599, Current params: {'input_chunk_length': 25, 'num_filters': 128, 'kernel_size': 6, 'num_layers': 3, 'dilation_base': 4, 'weight_norm': True, 'dropout': 0.23221504614606284, 'batch_size': 35, 'lr': 0.0014846901401389882}\n",
      "Best value: 39.99407731033253, Best params: {'input_chunk_length': 20, 'num_filters': 109, 'kernel_size': 2, 'num_layers': 6, 'dilation_base': 4, 'weight_norm': True, 'dropout': 0.15531203611947797, 'batch_size': 29, 'lr': 0.0002474912028329941}\n",
      "\n",
      "Starting Trial 18\n",
      "Hyperparameters: {'input_chunk_length': 43, 'num_filters': 125, 'kernel_size': 6, 'num_layers': 6, 'dilation_base': 3, 'weight_norm': False, 'dropout': 0.09192879111479255, 'batch_size': 37, 'lr': 0.0021102130328669783}\n",
      "\n",
      "Training the model...\n",
      "Train set: 6647 samples\n",
      "Validation set: 1662 samples\n"
     ]
    },
    {
     "data": {
      "text/plain": [
       "Sanity Checking: |          | 0/? [00:00<?, ?it/s]"
      ],
      "application/vnd.jupyter.widget-view+json": {
       "version_major": 2,
       "version_minor": 0,
       "model_id": "1eb97924fab9467d9f6bf1d530a50cd3"
      }
     },
     "metadata": {},
     "output_type": "display_data"
    },
    {
     "data": {
      "text/plain": [
       "Training: |          | 0/? [00:00<?, ?it/s]"
      ],
      "application/vnd.jupyter.widget-view+json": {
       "version_major": 2,
       "version_minor": 0,
       "model_id": "9f9eb4a4fa9d48fb9c991bcfeff4deb0"
      }
     },
     "metadata": {},
     "output_type": "display_data"
    },
    {
     "data": {
      "text/plain": [
       "Validation: |          | 0/? [00:00<?, ?it/s]"
      ],
      "application/vnd.jupyter.widget-view+json": {
       "version_major": 2,
       "version_minor": 0,
       "model_id": "687d360cd44b4e6cb706f08c4a69b61b"
      }
     },
     "metadata": {},
     "output_type": "display_data"
    },
    {
     "name": "stderr",
     "output_type": "stream",
     "text": [
      "Metric val_loss improved. New best score: 0.015\n"
     ]
    },
    {
     "data": {
      "text/plain": [
       "Validation: |          | 0/? [00:00<?, ?it/s]"
      ],
      "application/vnd.jupyter.widget-view+json": {
       "version_major": 2,
       "version_minor": 0,
       "model_id": "a3aa2321deb74c3eb0fed3ace9327c5c"
      }
     },
     "metadata": {},
     "output_type": "display_data"
    },
    {
     "data": {
      "text/plain": [
       "Validation: |          | 0/? [00:00<?, ?it/s]"
      ],
      "application/vnd.jupyter.widget-view+json": {
       "version_major": 2,
       "version_minor": 0,
       "model_id": "5056fd0890de43b7bff4bb372d5e4f6a"
      }
     },
     "metadata": {},
     "output_type": "display_data"
    },
    {
     "name": "stderr",
     "output_type": "stream",
     "text": [
      "Metric val_loss improved by 0.001 >= min_delta = 0.001. New best score: 0.014\n"
     ]
    },
    {
     "data": {
      "text/plain": [
       "Validation: |          | 0/? [00:00<?, ?it/s]"
      ],
      "application/vnd.jupyter.widget-view+json": {
       "version_major": 2,
       "version_minor": 0,
       "model_id": "465a475ace2b4df88e7453fc85ca4af8"
      }
     },
     "metadata": {},
     "output_type": "display_data"
    },
    {
     "name": "stderr",
     "output_type": "stream",
     "text": [
      "[I 2025-05-19 17:34:10,587] Trial 18 pruned. Trial was pruned at epoch 3.\n",
      "GPU available: True (cuda), used: True\n",
      "TPU available: False, using: 0 TPU cores\n",
      "HPU available: False, using: 0 HPUs\n",
      "LOCAL_RANK: 0 - CUDA_VISIBLE_DEVICES: [0]\n",
      "\n",
      "  | Name            | Type             | Params | Mode \n",
      "-------------------------------------------------------------\n",
      "0 | criterion       | HuberLoss        | 0      | train\n",
      "1 | train_criterion | HuberLoss        | 0      | train\n",
      "2 | val_criterion   | HuberLoss        | 0      | train\n",
      "3 | train_metrics   | MetricCollection | 0      | train\n",
      "4 | val_metrics     | MetricCollection | 0      | train\n",
      "5 | res_blocks      | ModuleList       | 302 K  | train\n",
      "-------------------------------------------------------------\n",
      "302 K     Trainable params\n",
      "0         Non-trainable params\n",
      "302 K     Total params\n",
      "1.212     Total estimated model params size (MB)\n",
      "63        Modules in train mode\n",
      "0         Modules in eval mode\n"
     ]
    },
    {
     "name": "stdout",
     "output_type": "stream",
     "text": [
      "Current value: 0.014141007086418876, Current params: {'input_chunk_length': 43, 'num_filters': 125, 'kernel_size': 6, 'num_layers': 6, 'dilation_base': 3, 'weight_norm': False, 'dropout': 0.09192879111479255, 'batch_size': 37, 'lr': 0.0021102130328669783}\n",
      "Best value: 39.99407731033253, Best params: {'input_chunk_length': 20, 'num_filters': 109, 'kernel_size': 2, 'num_layers': 6, 'dilation_base': 4, 'weight_norm': True, 'dropout': 0.15531203611947797, 'batch_size': 29, 'lr': 0.0002474912028329941}\n",
      "\n",
      "Starting Trial 19\n",
      "Hyperparameters: {'input_chunk_length': 27, 'num_filters': 95, 'kernel_size': 4, 'num_layers': 5, 'dilation_base': 4, 'weight_norm': True, 'dropout': 0.2226399752369214, 'batch_size': 26, 'lr': 0.00017566361757148543}\n",
      "\n",
      "Training the model...\n",
      "Train set: 6647 samples\n",
      "Validation set: 1662 samples\n"
     ]
    },
    {
     "data": {
      "text/plain": [
       "Sanity Checking: |          | 0/? [00:00<?, ?it/s]"
      ],
      "application/vnd.jupyter.widget-view+json": {
       "version_major": 2,
       "version_minor": 0,
       "model_id": "fdcc386a0ef64ce082eea52286d59791"
      }
     },
     "metadata": {},
     "output_type": "display_data"
    },
    {
     "data": {
      "text/plain": [
       "Training: |          | 0/? [00:00<?, ?it/s]"
      ],
      "application/vnd.jupyter.widget-view+json": {
       "version_major": 2,
       "version_minor": 0,
       "model_id": "ededefe0dd1a4cfe9c980d6d3c3717b1"
      }
     },
     "metadata": {},
     "output_type": "display_data"
    },
    {
     "data": {
      "text/plain": [
       "Validation: |          | 0/? [00:00<?, ?it/s]"
      ],
      "application/vnd.jupyter.widget-view+json": {
       "version_major": 2,
       "version_minor": 0,
       "model_id": "569e2b058bcc482d9de23949f7352a23"
      }
     },
     "metadata": {},
     "output_type": "display_data"
    },
    {
     "name": "stderr",
     "output_type": "stream",
     "text": [
      "Metric val_loss improved. New best score: 0.020\n"
     ]
    },
    {
     "data": {
      "text/plain": [
       "Validation: |          | 0/? [00:00<?, ?it/s]"
      ],
      "application/vnd.jupyter.widget-view+json": {
       "version_major": 2,
       "version_minor": 0,
       "model_id": "fa4103675f1e4c72b0c749594c909b27"
      }
     },
     "metadata": {},
     "output_type": "display_data"
    },
    {
     "name": "stderr",
     "output_type": "stream",
     "text": [
      "Metric val_loss improved by 0.003 >= min_delta = 0.001. New best score: 0.016\n"
     ]
    },
    {
     "data": {
      "text/plain": [
       "Validation: |          | 0/? [00:00<?, ?it/s]"
      ],
      "application/vnd.jupyter.widget-view+json": {
       "version_major": 2,
       "version_minor": 0,
       "model_id": "dbe674bb36c849e69661bd0fbdce7d0c"
      }
     },
     "metadata": {},
     "output_type": "display_data"
    },
    {
     "name": "stderr",
     "output_type": "stream",
     "text": [
      "Metric val_loss improved by 0.001 >= min_delta = 0.001. New best score: 0.015\n"
     ]
    },
    {
     "data": {
      "text/plain": [
       "Validation: |          | 0/? [00:00<?, ?it/s]"
      ],
      "application/vnd.jupyter.widget-view+json": {
       "version_major": 2,
       "version_minor": 0,
       "model_id": "728e27b4472d4b15a57cb20465a7a551"
      }
     },
     "metadata": {},
     "output_type": "display_data"
    },
    {
     "data": {
      "text/plain": [
       "Validation: |          | 0/? [00:00<?, ?it/s]"
      ],
      "application/vnd.jupyter.widget-view+json": {
       "version_major": 2,
       "version_minor": 0,
       "model_id": "f8a0362984ba480c96a01e4647d03321"
      }
     },
     "metadata": {},
     "output_type": "display_data"
    },
    {
     "name": "stderr",
     "output_type": "stream",
     "text": [
      "Metric val_loss improved by 0.001 >= min_delta = 0.001. New best score: 0.013\n"
     ]
    },
    {
     "data": {
      "text/plain": [
       "Validation: |          | 0/? [00:00<?, ?it/s]"
      ],
      "application/vnd.jupyter.widget-view+json": {
       "version_major": 2,
       "version_minor": 0,
       "model_id": "1beb7455d5c548718c00d2cd7d70b941"
      }
     },
     "metadata": {},
     "output_type": "display_data"
    },
    {
     "name": "stderr",
     "output_type": "stream",
     "text": [
      "[I 2025-05-19 17:37:12,258] Trial 19 pruned. Trial was pruned at epoch 5.\n",
      "GPU available: True (cuda), used: True\n",
      "TPU available: False, using: 0 TPU cores\n",
      "HPU available: False, using: 0 HPUs\n",
      "LOCAL_RANK: 0 - CUDA_VISIBLE_DEVICES: [0]\n",
      "\n",
      "  | Name            | Type             | Params | Mode \n",
      "-------------------------------------------------------------\n",
      "0 | criterion       | HuberLoss        | 0      | train\n",
      "1 | train_criterion | HuberLoss        | 0      | train\n",
      "2 | val_criterion   | HuberLoss        | 0      | train\n",
      "3 | train_metrics   | MetricCollection | 0      | train\n",
      "4 | val_metrics     | MetricCollection | 0      | train\n",
      "5 | res_blocks      | ModuleList       | 49.8 K | train\n",
      "-------------------------------------------------------------\n",
      "49.8 K    Trainable params\n",
      "0         Non-trainable params\n",
      "49.8 K    Total params\n",
      "0.199     Total estimated model params size (MB)\n",
      "52        Modules in train mode\n",
      "0         Modules in eval mode\n"
     ]
    },
    {
     "name": "stdout",
     "output_type": "stream",
     "text": [
      "Current value: 0.013200996145874992, Current params: {'input_chunk_length': 27, 'num_filters': 95, 'kernel_size': 4, 'num_layers': 5, 'dilation_base': 4, 'weight_norm': True, 'dropout': 0.2226399752369214, 'batch_size': 26, 'lr': 0.00017566361757148543}\n",
      "Best value: 39.99407731033253, Best params: {'input_chunk_length': 20, 'num_filters': 109, 'kernel_size': 2, 'num_layers': 6, 'dilation_base': 4, 'weight_norm': True, 'dropout': 0.15531203611947797, 'batch_size': 29, 'lr': 0.0002474912028329941}\n",
      "\n",
      "Starting Trial 20\n",
      "Hyperparameters: {'input_chunk_length': 41, 'num_filters': 38, 'kernel_size': 5, 'num_layers': 4, 'dilation_base': 3, 'weight_norm': True, 'dropout': 0.3104121577628923, 'batch_size': 36, 'lr': 5.272968165705843e-05}\n",
      "\n",
      "Training the model...\n",
      "Train set: 6647 samples\n",
      "Validation set: 1662 samples\n"
     ]
    },
    {
     "data": {
      "text/plain": [
       "Sanity Checking: |          | 0/? [00:00<?, ?it/s]"
      ],
      "application/vnd.jupyter.widget-view+json": {
       "version_major": 2,
       "version_minor": 0,
       "model_id": "439210d0b15d4a83a71185676786eedf"
      }
     },
     "metadata": {},
     "output_type": "display_data"
    },
    {
     "data": {
      "text/plain": [
       "Training: |          | 0/? [00:00<?, ?it/s]"
      ],
      "application/vnd.jupyter.widget-view+json": {
       "version_major": 2,
       "version_minor": 0,
       "model_id": "adc2fe17be12480e97062bcac988b890"
      }
     },
     "metadata": {},
     "output_type": "display_data"
    },
    {
     "data": {
      "text/plain": [
       "Validation: |          | 0/? [00:00<?, ?it/s]"
      ],
      "application/vnd.jupyter.widget-view+json": {
       "version_major": 2,
       "version_minor": 0,
       "model_id": "c48d54a42e6c469f8cbf37d352956ed1"
      }
     },
     "metadata": {},
     "output_type": "display_data"
    },
    {
     "name": "stderr",
     "output_type": "stream",
     "text": [
      "[I 2025-05-19 17:37:23,995] Trial 20 pruned. Trial was pruned at epoch 0.\n",
      "GPU available: True (cuda), used: True\n",
      "TPU available: False, using: 0 TPU cores\n",
      "HPU available: False, using: 0 HPUs\n",
      "LOCAL_RANK: 0 - CUDA_VISIBLE_DEVICES: [0]\n",
      "\n",
      "  | Name            | Type             | Params | Mode \n",
      "-------------------------------------------------------------\n",
      "0 | criterion       | HuberLoss        | 0      | train\n",
      "1 | train_criterion | HuberLoss        | 0      | train\n",
      "2 | val_criterion   | HuberLoss        | 0      | train\n",
      "3 | train_metrics   | MetricCollection | 0      | train\n",
      "4 | val_metrics     | MetricCollection | 0      | train\n",
      "5 | res_blocks      | ModuleList       | 104 K  | train\n",
      "-------------------------------------------------------------\n",
      "104 K     Trainable params\n",
      "0         Non-trainable params\n",
      "104 K     Total params\n",
      "0.417     Total estimated model params size (MB)\n",
      "41        Modules in train mode\n",
      "0         Modules in eval mode\n"
     ]
    },
    {
     "name": "stdout",
     "output_type": "stream",
     "text": [
      "Current value: 0.06548984219656727, Current params: {'input_chunk_length': 41, 'num_filters': 38, 'kernel_size': 5, 'num_layers': 4, 'dilation_base': 3, 'weight_norm': True, 'dropout': 0.3104121577628923, 'batch_size': 36, 'lr': 5.272968165705843e-05}\n",
      "Best value: 39.99407731033253, Best params: {'input_chunk_length': 20, 'num_filters': 109, 'kernel_size': 2, 'num_layers': 6, 'dilation_base': 4, 'weight_norm': True, 'dropout': 0.15531203611947797, 'batch_size': 29, 'lr': 0.0002474912028329941}\n",
      "\n",
      "Starting Trial 21\n",
      "Hyperparameters: {'input_chunk_length': 18, 'num_filters': 62, 'kernel_size': 6, 'num_layers': 3, 'dilation_base': 4, 'weight_norm': True, 'dropout': 0.23521108438263336, 'batch_size': 25, 'lr': 0.0010906627677639514}\n",
      "\n",
      "Training the model...\n",
      "Train set: 6647 samples\n",
      "Validation set: 1662 samples\n"
     ]
    },
    {
     "data": {
      "text/plain": [
       "Sanity Checking: |          | 0/? [00:00<?, ?it/s]"
      ],
      "application/vnd.jupyter.widget-view+json": {
       "version_major": 2,
       "version_minor": 0,
       "model_id": "94ac13fee9354da2a0bf078ec97ce247"
      }
     },
     "metadata": {},
     "output_type": "display_data"
    },
    {
     "data": {
      "text/plain": [
       "Training: |          | 0/? [00:00<?, ?it/s]"
      ],
      "application/vnd.jupyter.widget-view+json": {
       "version_major": 2,
       "version_minor": 0,
       "model_id": "8d1efa827036417084c81b5a8d3322d6"
      }
     },
     "metadata": {},
     "output_type": "display_data"
    },
    {
     "data": {
      "text/plain": [
       "Validation: |          | 0/? [00:00<?, ?it/s]"
      ],
      "application/vnd.jupyter.widget-view+json": {
       "version_major": 2,
       "version_minor": 0,
       "model_id": "a50d2b8fd0ca4e15b2c22e6c13ec07dc"
      }
     },
     "metadata": {},
     "output_type": "display_data"
    },
    {
     "name": "stderr",
     "output_type": "stream",
     "text": [
      "Metric val_loss improved. New best score: 0.016\n"
     ]
    },
    {
     "data": {
      "text/plain": [
       "Validation: |          | 0/? [00:00<?, ?it/s]"
      ],
      "application/vnd.jupyter.widget-view+json": {
       "version_major": 2,
       "version_minor": 0,
       "model_id": "044b3a190a8e40f7ad93553b56580b8e"
      }
     },
     "metadata": {},
     "output_type": "display_data"
    },
    {
     "name": "stderr",
     "output_type": "stream",
     "text": [
      "Metric val_loss improved by 0.003 >= min_delta = 0.001. New best score: 0.014\n"
     ]
    },
    {
     "data": {
      "text/plain": [
       "Validation: |          | 0/? [00:00<?, ?it/s]"
      ],
      "application/vnd.jupyter.widget-view+json": {
       "version_major": 2,
       "version_minor": 0,
       "model_id": "9590ecdfc63c4eaebbb190131585fd16"
      }
     },
     "metadata": {},
     "output_type": "display_data"
    },
    {
     "name": "stderr",
     "output_type": "stream",
     "text": [
      "Metric val_loss improved by 0.001 >= min_delta = 0.001. New best score: 0.013\n"
     ]
    },
    {
     "data": {
      "text/plain": [
       "Validation: |          | 0/? [00:00<?, ?it/s]"
      ],
      "application/vnd.jupyter.widget-view+json": {
       "version_major": 2,
       "version_minor": 0,
       "model_id": "1731d99579134f63b0594377f85e9e39"
      }
     },
     "metadata": {},
     "output_type": "display_data"
    },
    {
     "data": {
      "text/plain": [
       "Validation: |          | 0/? [00:00<?, ?it/s]"
      ],
      "application/vnd.jupyter.widget-view+json": {
       "version_major": 2,
       "version_minor": 0,
       "model_id": "67559383bcd347c2a1c33267fc0bd18f"
      }
     },
     "metadata": {},
     "output_type": "display_data"
    },
    {
     "data": {
      "text/plain": [
       "Validation: |          | 0/? [00:00<?, ?it/s]"
      ],
      "application/vnd.jupyter.widget-view+json": {
       "version_major": 2,
       "version_minor": 0,
       "model_id": "5b119979302e477aa71e86c0c356371f"
      }
     },
     "metadata": {},
     "output_type": "display_data"
    },
    {
     "data": {
      "text/plain": [
       "Validation: |          | 0/? [00:00<?, ?it/s]"
      ],
      "application/vnd.jupyter.widget-view+json": {
       "version_major": 2,
       "version_minor": 0,
       "model_id": "061dbadda1d24b478902c15ae7e1ae57"
      }
     },
     "metadata": {},
     "output_type": "display_data"
    },
    {
     "data": {
      "text/plain": [
       "Validation: |          | 0/? [00:00<?, ?it/s]"
      ],
      "application/vnd.jupyter.widget-view+json": {
       "version_major": 2,
       "version_minor": 0,
       "model_id": "42352ff915c3470295ce27a51c71a812"
      }
     },
     "metadata": {},
     "output_type": "display_data"
    },
    {
     "data": {
      "text/plain": [
       "Validation: |          | 0/? [00:00<?, ?it/s]"
      ],
      "application/vnd.jupyter.widget-view+json": {
       "version_major": 2,
       "version_minor": 0,
       "model_id": "6e6980e1d4ad419e929cae8756dfcf2b"
      }
     },
     "metadata": {},
     "output_type": "display_data"
    },
    {
     "data": {
      "text/plain": [
       "Validation: |          | 0/? [00:00<?, ?it/s]"
      ],
      "application/vnd.jupyter.widget-view+json": {
       "version_major": 2,
       "version_minor": 0,
       "model_id": "580859fedb7746b4981b8e5200f61ff3"
      }
     },
     "metadata": {},
     "output_type": "display_data"
    },
    {
     "name": "stderr",
     "output_type": "stream",
     "text": [
      "Metric val_loss improved by 0.001 >= min_delta = 0.001. New best score: 0.012\n"
     ]
    },
    {
     "data": {
      "text/plain": [
       "Validation: |          | 0/? [00:00<?, ?it/s]"
      ],
      "application/vnd.jupyter.widget-view+json": {
       "version_major": 2,
       "version_minor": 0,
       "model_id": "053a4a05b3ff47e49fcfe19c160d5c8d"
      }
     },
     "metadata": {},
     "output_type": "display_data"
    },
    {
     "data": {
      "text/plain": [
       "Validation: |          | 0/? [00:00<?, ?it/s]"
      ],
      "application/vnd.jupyter.widget-view+json": {
       "version_major": 2,
       "version_minor": 0,
       "model_id": "2a53e583f10b43068b64cb03f1871e07"
      }
     },
     "metadata": {},
     "output_type": "display_data"
    },
    {
     "data": {
      "text/plain": [
       "Validation: |          | 0/? [00:00<?, ?it/s]"
      ],
      "application/vnd.jupyter.widget-view+json": {
       "version_major": 2,
       "version_minor": 0,
       "model_id": "377c0bb0be9a496a9970fc30503355a1"
      }
     },
     "metadata": {},
     "output_type": "display_data"
    },
    {
     "data": {
      "text/plain": [
       "Validation: |          | 0/? [00:00<?, ?it/s]"
      ],
      "application/vnd.jupyter.widget-view+json": {
       "version_major": 2,
       "version_minor": 0,
       "model_id": "ead85df6572247f0b0b8ce730562826b"
      }
     },
     "metadata": {},
     "output_type": "display_data"
    },
    {
     "data": {
      "text/plain": [
       "Validation: |          | 0/? [00:00<?, ?it/s]"
      ],
      "application/vnd.jupyter.widget-view+json": {
       "version_major": 2,
       "version_minor": 0,
       "model_id": "56d1dbcdc7eb4391812b22b1602abf30"
      }
     },
     "metadata": {},
     "output_type": "display_data"
    },
    {
     "data": {
      "text/plain": [
       "Validation: |          | 0/? [00:00<?, ?it/s]"
      ],
      "application/vnd.jupyter.widget-view+json": {
       "version_major": 2,
       "version_minor": 0,
       "model_id": "af0f6fd4a8e14d608b7b19828e724afd"
      }
     },
     "metadata": {},
     "output_type": "display_data"
    },
    {
     "data": {
      "text/plain": [
       "Validation: |          | 0/? [00:00<?, ?it/s]"
      ],
      "application/vnd.jupyter.widget-view+json": {
       "version_major": 2,
       "version_minor": 0,
       "model_id": "e9302bcd28964ee5a7c0ddf1d68aa03a"
      }
     },
     "metadata": {},
     "output_type": "display_data"
    },
    {
     "data": {
      "text/plain": [
       "Validation: |          | 0/? [00:00<?, ?it/s]"
      ],
      "application/vnd.jupyter.widget-view+json": {
       "version_major": 2,
       "version_minor": 0,
       "model_id": "9ec2a99cd0884134909770d531c7bc3a"
      }
     },
     "metadata": {},
     "output_type": "display_data"
    },
    {
     "data": {
      "text/plain": [
       "Validation: |          | 0/? [00:00<?, ?it/s]"
      ],
      "application/vnd.jupyter.widget-view+json": {
       "version_major": 2,
       "version_minor": 0,
       "model_id": "e6b95e69a06e46928b4d2718beb65f2b"
      }
     },
     "metadata": {},
     "output_type": "display_data"
    },
    {
     "data": {
      "text/plain": [
       "Validation: |          | 0/? [00:00<?, ?it/s]"
      ],
      "application/vnd.jupyter.widget-view+json": {
       "version_major": 2,
       "version_minor": 0,
       "model_id": "8168c364b60c4610b7cd85b86c52e93f"
      }
     },
     "metadata": {},
     "output_type": "display_data"
    },
    {
     "name": "stderr",
     "output_type": "stream",
     "text": [
      "Monitored metric val_loss did not improve in the last 10 records. Best score: 0.012. Signaling Trainer to stop.\n",
      "GPU available: True (cuda), used: True\n",
      "TPU available: False, using: 0 TPU cores\n",
      "HPU available: False, using: 0 HPUs\n",
      "LOCAL_RANK: 0 - CUDA_VISIBLE_DEVICES: [0]\n"
     ]
    },
    {
     "name": "stdout",
     "output_type": "stream",
     "text": [
      "Model loaded from checkpoint for trial 21\n"
     ]
    },
    {
     "name": "stderr",
     "output_type": "stream",
     "text": [
      "/home/eduardo/Documentos/Water-Cycle-Neural-Network/venv/lib/python3.12/site-packages/pytorch_lightning/trainer/connectors/data_connector.py:425: The 'predict_dataloader' does not have many workers which may be a bottleneck. Consider increasing the value of the `num_workers` argument` to `num_workers=11` in the `DataLoader` to improve performance.\n",
      "[I 2025-05-19 17:44:47,684] Trial 21 finished with value: 42.34320139558366 and parameters: {'input_chunk_length': 18, 'num_filters': 62, 'kernel_size': 6, 'num_layers': 3, 'dilation_base': 4, 'weight_norm': True, 'dropout': 0.23521108438263336, 'batch_size': 25, 'lr': 0.0010906627677639514}. Best is trial 2 with value: 39.99407731033253.\n",
      "GPU available: True (cuda), used: True\n",
      "TPU available: False, using: 0 TPU cores\n",
      "HPU available: False, using: 0 HPUs\n",
      "LOCAL_RANK: 0 - CUDA_VISIBLE_DEVICES: [0]\n",
      "\n",
      "  | Name            | Type             | Params | Mode \n",
      "-------------------------------------------------------------\n",
      "0 | criterion       | HuberLoss        | 0      | train\n",
      "1 | train_criterion | HuberLoss        | 0      | train\n",
      "2 | val_criterion   | HuberLoss        | 0      | train\n",
      "3 | train_metrics   | MetricCollection | 0      | train\n",
      "4 | val_metrics     | MetricCollection | 0      | train\n",
      "5 | res_blocks      | ModuleList       | 259 K  | train\n",
      "-------------------------------------------------------------\n",
      "259 K     Trainable params\n",
      "0         Non-trainable params\n",
      "259 K     Total params\n",
      "1.037     Total estimated model params size (MB)\n",
      "41        Modules in train mode\n",
      "0         Modules in eval mode\n"
     ]
    },
    {
     "name": "stdout",
     "output_type": "stream",
     "text": [
      "Starting time series consistency verification...\n",
      "\n",
      "Performance metrics:\n",
      "                                   MSE       RMSE        MAE        R2  \\\n",
      "Temperature                   0.284958   0.533815   0.296965  0.916296   \n",
      "Precipitation_accumulated     5.723368   2.392356   1.987261 -5.030034   \n",
      "Humidity                      2.758595   1.660902   1.228613  0.957579   \n",
      "Wind_Speed_kmh                0.063295   0.251584   0.098600  0.814008   \n",
      "Soil_Moisture              8836.139417  94.000742  22.605621  0.988059   \n",
      "Soil_Temperature              0.428436   0.654551   0.530264  0.923660   \n",
      "Wind_Dir_Sin                  0.039570   0.198922   0.097666  0.753642   \n",
      "Wind_Dir_Cos                  0.038550   0.196342   0.099972  0.865722   \n",
      "\n",
      "                                SMAPE  \n",
      "Temperature                  5.188580  \n",
      "Precipitation_accumulated    0.433047  \n",
      "Humidity                     1.507193  \n",
      "Wind_Speed_kmh             147.517032  \n",
      "Soil_Moisture                0.350145  \n",
      "Soil_Temperature            16.504926  \n",
      "Wind_Dir_Sin               140.961362  \n",
      "Wind_Dir_Cos                26.283326  \n",
      "The SMAPE for this fold was 42.34320139558366\n",
      "Results for trial 21 saved to optuna_iteration_metrics/trial_21.json\n",
      "Current value: 42.34320139558366, Current params: {'input_chunk_length': 18, 'num_filters': 62, 'kernel_size': 6, 'num_layers': 3, 'dilation_base': 4, 'weight_norm': True, 'dropout': 0.23521108438263336, 'batch_size': 25, 'lr': 0.0010906627677639514}\n",
      "Best value: 39.99407731033253, Best params: {'input_chunk_length': 20, 'num_filters': 109, 'kernel_size': 2, 'num_layers': 6, 'dilation_base': 4, 'weight_norm': True, 'dropout': 0.15531203611947797, 'batch_size': 29, 'lr': 0.0002474912028329941}\n",
      "\n",
      "Starting Trial 22\n",
      "Hyperparameters: {'input_chunk_length': 7, 'num_filters': 100, 'kernel_size': 6, 'num_layers': 3, 'dilation_base': 4, 'weight_norm': True, 'dropout': 0.17523481205746672, 'batch_size': 39, 'lr': 0.00044987150832712254}\n",
      "\n",
      "Training the model...\n",
      "Train set: 6647 samples\n",
      "Validation set: 1662 samples\n"
     ]
    },
    {
     "data": {
      "text/plain": [
       "Sanity Checking: |          | 0/? [00:00<?, ?it/s]"
      ],
      "application/vnd.jupyter.widget-view+json": {
       "version_major": 2,
       "version_minor": 0,
       "model_id": "596534d916834bcca88c27996bf52759"
      }
     },
     "metadata": {},
     "output_type": "display_data"
    },
    {
     "data": {
      "text/plain": [
       "Training: |          | 0/? [00:00<?, ?it/s]"
      ],
      "application/vnd.jupyter.widget-view+json": {
       "version_major": 2,
       "version_minor": 0,
       "model_id": "8292266e0a25404c9cac4215a8bf2d57"
      }
     },
     "metadata": {},
     "output_type": "display_data"
    },
    {
     "data": {
      "text/plain": [
       "Validation: |          | 0/? [00:00<?, ?it/s]"
      ],
      "application/vnd.jupyter.widget-view+json": {
       "version_major": 2,
       "version_minor": 0,
       "model_id": "ee5b5adf44ac446699f4f3611cb35fd2"
      }
     },
     "metadata": {},
     "output_type": "display_data"
    },
    {
     "name": "stderr",
     "output_type": "stream",
     "text": [
      "Metric val_loss improved. New best score: 0.016\n"
     ]
    },
    {
     "data": {
      "text/plain": [
       "Validation: |          | 0/? [00:00<?, ?it/s]"
      ],
      "application/vnd.jupyter.widget-view+json": {
       "version_major": 2,
       "version_minor": 0,
       "model_id": "0c7ff039652e40e7ab3b1ee6c01c2764"
      }
     },
     "metadata": {},
     "output_type": "display_data"
    },
    {
     "name": "stderr",
     "output_type": "stream",
     "text": [
      "Metric val_loss improved by 0.002 >= min_delta = 0.001. New best score: 0.014\n"
     ]
    },
    {
     "data": {
      "text/plain": [
       "Validation: |          | 0/? [00:00<?, ?it/s]"
      ],
      "application/vnd.jupyter.widget-view+json": {
       "version_major": 2,
       "version_minor": 0,
       "model_id": "5faa9a09fb8d4cbaba97cd54fc5c6e1a"
      }
     },
     "metadata": {},
     "output_type": "display_data"
    },
    {
     "data": {
      "text/plain": [
       "Validation: |          | 0/? [00:00<?, ?it/s]"
      ],
      "application/vnd.jupyter.widget-view+json": {
       "version_major": 2,
       "version_minor": 0,
       "model_id": "04f2488ea5e741f48aa178760dc87dea"
      }
     },
     "metadata": {},
     "output_type": "display_data"
    },
    {
     "data": {
      "text/plain": [
       "Validation: |          | 0/? [00:00<?, ?it/s]"
      ],
      "application/vnd.jupyter.widget-view+json": {
       "version_major": 2,
       "version_minor": 0,
       "model_id": "fcc3d5ffada642968e444ff4cd178d34"
      }
     },
     "metadata": {},
     "output_type": "display_data"
    },
    {
     "name": "stderr",
     "output_type": "stream",
     "text": [
      "[I 2025-05-19 17:46:03,970] Trial 22 pruned. Trial was pruned at epoch 4.\n",
      "GPU available: True (cuda), used: True\n",
      "TPU available: False, using: 0 TPU cores\n",
      "HPU available: False, using: 0 HPUs\n",
      "LOCAL_RANK: 0 - CUDA_VISIBLE_DEVICES: [0]\n",
      "\n",
      "  | Name            | Type             | Params | Mode \n",
      "-------------------------------------------------------------\n",
      "0 | criterion       | HuberLoss        | 0      | train\n",
      "1 | train_criterion | HuberLoss        | 0      | train\n",
      "2 | val_criterion   | HuberLoss        | 0      | train\n",
      "3 | train_metrics   | MetricCollection | 0      | train\n",
      "4 | val_metrics     | MetricCollection | 0      | train\n",
      "5 | res_blocks      | ModuleList       | 288 K  | train\n",
      "-------------------------------------------------------------\n",
      "288 K     Trainable params\n",
      "0         Non-trainable params\n",
      "288 K     Total params\n",
      "1.155     Total estimated model params size (MB)\n",
      "30        Modules in train mode\n",
      "0         Modules in eval mode\n"
     ]
    },
    {
     "name": "stdout",
     "output_type": "stream",
     "text": [
      "Current value: 0.013200109099111667, Current params: {'input_chunk_length': 7, 'num_filters': 100, 'kernel_size': 6, 'num_layers': 3, 'dilation_base': 4, 'weight_norm': True, 'dropout': 0.17523481205746672, 'batch_size': 39, 'lr': 0.00044987150832712254}\n",
      "Best value: 39.99407731033253, Best params: {'input_chunk_length': 20, 'num_filters': 109, 'kernel_size': 2, 'num_layers': 6, 'dilation_base': 4, 'weight_norm': True, 'dropout': 0.15531203611947797, 'batch_size': 29, 'lr': 0.0002474912028329941}\n",
      "\n",
      "Starting Trial 23\n",
      "Hyperparameters: {'input_chunk_length': 25, 'num_filters': 127, 'kernel_size': 8, 'num_layers': 2, 'dilation_base': 4, 'weight_norm': True, 'dropout': 0.3240939999208826, 'batch_size': 53, 'lr': 0.0012637489954842288}\n",
      "\n",
      "Training the model...\n",
      "Train set: 6647 samples\n",
      "Validation set: 1662 samples\n"
     ]
    },
    {
     "data": {
      "text/plain": [
       "Sanity Checking: |          | 0/? [00:00<?, ?it/s]"
      ],
      "application/vnd.jupyter.widget-view+json": {
       "version_major": 2,
       "version_minor": 0,
       "model_id": "eb53bcfc79eb4602a54d7aa075e6c4c5"
      }
     },
     "metadata": {},
     "output_type": "display_data"
    },
    {
     "data": {
      "text/plain": [
       "Training: |          | 0/? [00:00<?, ?it/s]"
      ],
      "application/vnd.jupyter.widget-view+json": {
       "version_major": 2,
       "version_minor": 0,
       "model_id": "5bde7911d00c486ea3fe324c7c2748ac"
      }
     },
     "metadata": {},
     "output_type": "display_data"
    },
    {
     "data": {
      "text/plain": [
       "Validation: |          | 0/? [00:00<?, ?it/s]"
      ],
      "application/vnd.jupyter.widget-view+json": {
       "version_major": 2,
       "version_minor": 0,
       "model_id": "203e71499c58403bb90965a8320fe3b4"
      }
     },
     "metadata": {},
     "output_type": "display_data"
    },
    {
     "name": "stderr",
     "output_type": "stream",
     "text": [
      "Metric val_loss improved. New best score: 0.018\n"
     ]
    },
    {
     "data": {
      "text/plain": [
       "Validation: |          | 0/? [00:00<?, ?it/s]"
      ],
      "application/vnd.jupyter.widget-view+json": {
       "version_major": 2,
       "version_minor": 0,
       "model_id": "e6b431e838b04e0b850cffef7ac7d703"
      }
     },
     "metadata": {},
     "output_type": "display_data"
    },
    {
     "name": "stderr",
     "output_type": "stream",
     "text": [
      "Metric val_loss improved by 0.004 >= min_delta = 0.001. New best score: 0.015\n"
     ]
    },
    {
     "data": {
      "text/plain": [
       "Validation: |          | 0/? [00:00<?, ?it/s]"
      ],
      "application/vnd.jupyter.widget-view+json": {
       "version_major": 2,
       "version_minor": 0,
       "model_id": "fba1a277347640169d01f28dca4dfdf9"
      }
     },
     "metadata": {},
     "output_type": "display_data"
    },
    {
     "name": "stderr",
     "output_type": "stream",
     "text": [
      "Metric val_loss improved by 0.001 >= min_delta = 0.001. New best score: 0.014\n"
     ]
    },
    {
     "data": {
      "text/plain": [
       "Validation: |          | 0/? [00:00<?, ?it/s]"
      ],
      "application/vnd.jupyter.widget-view+json": {
       "version_major": 2,
       "version_minor": 0,
       "model_id": "509f380eec1d458a9488167c4ce9f235"
      }
     },
     "metadata": {},
     "output_type": "display_data"
    },
    {
     "data": {
      "text/plain": [
       "Validation: |          | 0/? [00:00<?, ?it/s]"
      ],
      "application/vnd.jupyter.widget-view+json": {
       "version_major": 2,
       "version_minor": 0,
       "model_id": "0ada0a7ebaab45679d70165673e9a395"
      }
     },
     "metadata": {},
     "output_type": "display_data"
    },
    {
     "name": "stderr",
     "output_type": "stream",
     "text": [
      "Metric val_loss improved by 0.001 >= min_delta = 0.001. New best score: 0.012\n"
     ]
    },
    {
     "data": {
      "text/plain": [
       "Validation: |          | 0/? [00:00<?, ?it/s]"
      ],
      "application/vnd.jupyter.widget-view+json": {
       "version_major": 2,
       "version_minor": 0,
       "model_id": "20055fffdde54117b0fab0ec2d01929e"
      }
     },
     "metadata": {},
     "output_type": "display_data"
    },
    {
     "data": {
      "text/plain": [
       "Validation: |          | 0/? [00:00<?, ?it/s]"
      ],
      "application/vnd.jupyter.widget-view+json": {
       "version_major": 2,
       "version_minor": 0,
       "model_id": "72e1020538224a11bc72739188f17493"
      }
     },
     "metadata": {},
     "output_type": "display_data"
    },
    {
     "data": {
      "text/plain": [
       "Validation: |          | 0/? [00:00<?, ?it/s]"
      ],
      "application/vnd.jupyter.widget-view+json": {
       "version_major": 2,
       "version_minor": 0,
       "model_id": "02bf91f207a442749d5d688fa05fce34"
      }
     },
     "metadata": {},
     "output_type": "display_data"
    },
    {
     "data": {
      "text/plain": [
       "Validation: |          | 0/? [00:00<?, ?it/s]"
      ],
      "application/vnd.jupyter.widget-view+json": {
       "version_major": 2,
       "version_minor": 0,
       "model_id": "aeefe0a2102a409087c1f405c252708d"
      }
     },
     "metadata": {},
     "output_type": "display_data"
    },
    {
     "data": {
      "text/plain": [
       "Validation: |          | 0/? [00:00<?, ?it/s]"
      ],
      "application/vnd.jupyter.widget-view+json": {
       "version_major": 2,
       "version_minor": 0,
       "model_id": "1d672ab8858d4a5b96767946b150961a"
      }
     },
     "metadata": {},
     "output_type": "display_data"
    },
    {
     "data": {
      "text/plain": [
       "Validation: |          | 0/? [00:00<?, ?it/s]"
      ],
      "application/vnd.jupyter.widget-view+json": {
       "version_major": 2,
       "version_minor": 0,
       "model_id": "3e39184e05cd45a2a9ea8457bccbea25"
      }
     },
     "metadata": {},
     "output_type": "display_data"
    },
    {
     "data": {
      "text/plain": [
       "Validation: |          | 0/? [00:00<?, ?it/s]"
      ],
      "application/vnd.jupyter.widget-view+json": {
       "version_major": 2,
       "version_minor": 0,
       "model_id": "ddc82c621e724dd994d1866a7ffe4751"
      }
     },
     "metadata": {},
     "output_type": "display_data"
    },
    {
     "data": {
      "text/plain": [
       "Validation: |          | 0/? [00:00<?, ?it/s]"
      ],
      "application/vnd.jupyter.widget-view+json": {
       "version_major": 2,
       "version_minor": 0,
       "model_id": "04bced2b74cd4bba881831ec8b06f906"
      }
     },
     "metadata": {},
     "output_type": "display_data"
    },
    {
     "data": {
      "text/plain": [
       "Validation: |          | 0/? [00:00<?, ?it/s]"
      ],
      "application/vnd.jupyter.widget-view+json": {
       "version_major": 2,
       "version_minor": 0,
       "model_id": "1bca447ef4784f2f94f644e5f8619b08"
      }
     },
     "metadata": {},
     "output_type": "display_data"
    },
    {
     "data": {
      "text/plain": [
       "Validation: |          | 0/? [00:00<?, ?it/s]"
      ],
      "application/vnd.jupyter.widget-view+json": {
       "version_major": 2,
       "version_minor": 0,
       "model_id": "a9871e8390db4f5bbab2eb8620e870c9"
      }
     },
     "metadata": {},
     "output_type": "display_data"
    },
    {
     "name": "stderr",
     "output_type": "stream",
     "text": [
      "Monitored metric val_loss did not improve in the last 10 records. Best score: 0.012. Signaling Trainer to stop.\n",
      "GPU available: True (cuda), used: True\n",
      "TPU available: False, using: 0 TPU cores\n",
      "HPU available: False, using: 0 HPUs\n",
      "LOCAL_RANK: 0 - CUDA_VISIBLE_DEVICES: [0]\n"
     ]
    },
    {
     "name": "stdout",
     "output_type": "stream",
     "text": [
      "Model loaded from checkpoint for trial 23\n"
     ]
    },
    {
     "name": "stderr",
     "output_type": "stream",
     "text": [
      "/home/eduardo/Documentos/Water-Cycle-Neural-Network/venv/lib/python3.12/site-packages/pytorch_lightning/trainer/connectors/data_connector.py:425: The 'predict_dataloader' does not have many workers which may be a bottleneck. Consider increasing the value of the `num_workers` argument` to `num_workers=11` in the `DataLoader` to improve performance.\n",
      "[I 2025-05-19 17:48:18,080] Trial 23 finished with value: 41.14329250505989 and parameters: {'input_chunk_length': 25, 'num_filters': 127, 'kernel_size': 8, 'num_layers': 2, 'dilation_base': 4, 'weight_norm': True, 'dropout': 0.3240939999208826, 'batch_size': 53, 'lr': 0.0012637489954842288}. Best is trial 2 with value: 39.99407731033253.\n",
      "GPU available: True (cuda), used: True\n",
      "TPU available: False, using: 0 TPU cores\n",
      "HPU available: False, using: 0 HPUs\n",
      "LOCAL_RANK: 0 - CUDA_VISIBLE_DEVICES: [0]\n",
      "\n",
      "  | Name            | Type             | Params | Mode \n",
      "-------------------------------------------------------------\n",
      "0 | criterion       | HuberLoss        | 0      | train\n",
      "1 | train_criterion | HuberLoss        | 0      | train\n",
      "2 | val_criterion   | HuberLoss        | 0      | train\n",
      "3 | train_metrics   | MetricCollection | 0      | train\n",
      "4 | val_metrics     | MetricCollection | 0      | train\n",
      "5 | res_blocks      | ModuleList       | 271 K  | train\n",
      "-------------------------------------------------------------\n",
      "271 K     Trainable params\n",
      "0         Non-trainable params\n",
      "271 K     Total params\n",
      "1.087     Total estimated model params size (MB)\n",
      "30        Modules in train mode\n",
      "0         Modules in eval mode\n"
     ]
    },
    {
     "name": "stdout",
     "output_type": "stream",
     "text": [
      "Starting time series consistency verification...\n",
      "\n",
      "Performance metrics:\n",
      "                                   MSE       RMSE        MAE        R2  \\\n",
      "Temperature                   0.300478   0.548159   0.306426  0.911737   \n",
      "Precipitation_accumulated     8.641509   2.939644   1.938247 -8.104533   \n",
      "Humidity                      1.889558   1.374612   0.775260  0.970943   \n",
      "Wind_Speed_kmh                0.059409   0.243739   0.088157  0.825427   \n",
      "Soil_Moisture              8748.780828  93.534918  24.295343  0.988177   \n",
      "Soil_Temperature              0.227213   0.476668   0.376689  0.959515   \n",
      "Wind_Dir_Sin                  0.041069   0.202656   0.085987  0.744306   \n",
      "Wind_Dir_Cos                  0.040630   0.201569   0.095957  0.858478   \n",
      "\n",
      "                                SMAPE  \n",
      "Temperature                  5.240532  \n",
      "Precipitation_accumulated    0.420313  \n",
      "Humidity                     0.916989  \n",
      "Wind_Speed_kmh             143.191905  \n",
      "Soil_Moisture                0.382506  \n",
      "Soil_Temperature            13.163160  \n",
      "Wind_Dir_Sin               140.687763  \n",
      "Wind_Dir_Cos                25.143173  \n",
      "The SMAPE for this fold was 41.14329250505989\n",
      "Results for trial 23 saved to optuna_iteration_metrics/trial_23.json\n",
      "Current value: 41.14329250505989, Current params: {'input_chunk_length': 25, 'num_filters': 127, 'kernel_size': 8, 'num_layers': 2, 'dilation_base': 4, 'weight_norm': True, 'dropout': 0.3240939999208826, 'batch_size': 53, 'lr': 0.0012637489954842288}\n",
      "Best value: 39.99407731033253, Best params: {'input_chunk_length': 20, 'num_filters': 109, 'kernel_size': 2, 'num_layers': 6, 'dilation_base': 4, 'weight_norm': True, 'dropout': 0.15531203611947797, 'batch_size': 29, 'lr': 0.0002474912028329941}\n",
      "\n",
      "Starting Trial 24\n",
      "Hyperparameters: {'input_chunk_length': 27, 'num_filters': 123, 'kernel_size': 8, 'num_layers': 2, 'dilation_base': 4, 'weight_norm': True, 'dropout': 0.33007114516520614, 'batch_size': 54, 'lr': 0.003971841748805467}\n",
      "\n",
      "Training the model...\n",
      "Train set: 6647 samples\n",
      "Validation set: 1662 samples\n"
     ]
    },
    {
     "data": {
      "text/plain": [
       "Sanity Checking: |          | 0/? [00:00<?, ?it/s]"
      ],
      "application/vnd.jupyter.widget-view+json": {
       "version_major": 2,
       "version_minor": 0,
       "model_id": "daa1c254aeb84f61bd6c18391bf800e1"
      }
     },
     "metadata": {},
     "output_type": "display_data"
    },
    {
     "data": {
      "text/plain": [
       "Training: |          | 0/? [00:00<?, ?it/s]"
      ],
      "application/vnd.jupyter.widget-view+json": {
       "version_major": 2,
       "version_minor": 0,
       "model_id": "0a5d124bbadf41c2bc58af65b1fa9145"
      }
     },
     "metadata": {},
     "output_type": "display_data"
    },
    {
     "data": {
      "text/plain": [
       "Validation: |          | 0/? [00:00<?, ?it/s]"
      ],
      "application/vnd.jupyter.widget-view+json": {
       "version_major": 2,
       "version_minor": 0,
       "model_id": "ca060980449d464f85980dbc620ca6d4"
      }
     },
     "metadata": {},
     "output_type": "display_data"
    },
    {
     "name": "stderr",
     "output_type": "stream",
     "text": [
      "Metric val_loss improved. New best score: 0.014\n"
     ]
    },
    {
     "data": {
      "text/plain": [
       "Validation: |          | 0/? [00:00<?, ?it/s]"
      ],
      "application/vnd.jupyter.widget-view+json": {
       "version_major": 2,
       "version_minor": 0,
       "model_id": "dc012a107a934e5d919b54062fde4808"
      }
     },
     "metadata": {},
     "output_type": "display_data"
    },
    {
     "name": "stderr",
     "output_type": "stream",
     "text": [
      "Metric val_loss improved by 0.002 >= min_delta = 0.001. New best score: 0.012\n"
     ]
    },
    {
     "data": {
      "text/plain": [
       "Validation: |          | 0/? [00:00<?, ?it/s]"
      ],
      "application/vnd.jupyter.widget-view+json": {
       "version_major": 2,
       "version_minor": 0,
       "model_id": "2baad9912a98479189190fd055440bc3"
      }
     },
     "metadata": {},
     "output_type": "display_data"
    },
    {
     "data": {
      "text/plain": [
       "Validation: |          | 0/? [00:00<?, ?it/s]"
      ],
      "application/vnd.jupyter.widget-view+json": {
       "version_major": 2,
       "version_minor": 0,
       "model_id": "2db64e915954491cbf8eaebccf1a0ac9"
      }
     },
     "metadata": {},
     "output_type": "display_data"
    },
    {
     "data": {
      "text/plain": [
       "Validation: |          | 0/? [00:00<?, ?it/s]"
      ],
      "application/vnd.jupyter.widget-view+json": {
       "version_major": 2,
       "version_minor": 0,
       "model_id": "9322cb02945a4b0b97f0354a53197f3e"
      }
     },
     "metadata": {},
     "output_type": "display_data"
    },
    {
     "data": {
      "text/plain": [
       "Validation: |          | 0/? [00:00<?, ?it/s]"
      ],
      "application/vnd.jupyter.widget-view+json": {
       "version_major": 2,
       "version_minor": 0,
       "model_id": "715479b363884f55acb92ef60b0c12fc"
      }
     },
     "metadata": {},
     "output_type": "display_data"
    },
    {
     "data": {
      "text/plain": [
       "Validation: |          | 0/? [00:00<?, ?it/s]"
      ],
      "application/vnd.jupyter.widget-view+json": {
       "version_major": 2,
       "version_minor": 0,
       "model_id": "4b8568199c2f4d2aa3416c8b16821742"
      }
     },
     "metadata": {},
     "output_type": "display_data"
    },
    {
     "data": {
      "text/plain": [
       "Validation: |          | 0/? [00:00<?, ?it/s]"
      ],
      "application/vnd.jupyter.widget-view+json": {
       "version_major": 2,
       "version_minor": 0,
       "model_id": "3c4f5ea6316e4fd6a247226607435447"
      }
     },
     "metadata": {},
     "output_type": "display_data"
    },
    {
     "data": {
      "text/plain": [
       "Validation: |          | 0/? [00:00<?, ?it/s]"
      ],
      "application/vnd.jupyter.widget-view+json": {
       "version_major": 2,
       "version_minor": 0,
       "model_id": "8a94174ec7d2481ca1841df37a6cf6a1"
      }
     },
     "metadata": {},
     "output_type": "display_data"
    },
    {
     "data": {
      "text/plain": [
       "Validation: |          | 0/? [00:00<?, ?it/s]"
      ],
      "application/vnd.jupyter.widget-view+json": {
       "version_major": 2,
       "version_minor": 0,
       "model_id": "eb270d96c64e47a79d0684a0bf78b7ec"
      }
     },
     "metadata": {},
     "output_type": "display_data"
    },
    {
     "data": {
      "text/plain": [
       "Validation: |          | 0/? [00:00<?, ?it/s]"
      ],
      "application/vnd.jupyter.widget-view+json": {
       "version_major": 2,
       "version_minor": 0,
       "model_id": "c1009a0f760845ca90e9bd57a3ffa4d9"
      }
     },
     "metadata": {},
     "output_type": "display_data"
    },
    {
     "data": {
      "text/plain": [
       "Validation: |          | 0/? [00:00<?, ?it/s]"
      ],
      "application/vnd.jupyter.widget-view+json": {
       "version_major": 2,
       "version_minor": 0,
       "model_id": "046d0cf9c8384fffb54f1815d29090e4"
      }
     },
     "metadata": {},
     "output_type": "display_data"
    },
    {
     "name": "stderr",
     "output_type": "stream",
     "text": [
      "Monitored metric val_loss did not improve in the last 10 records. Best score: 0.012. Signaling Trainer to stop.\n",
      "GPU available: True (cuda), used: True\n",
      "TPU available: False, using: 0 TPU cores\n",
      "HPU available: False, using: 0 HPUs\n",
      "LOCAL_RANK: 0 - CUDA_VISIBLE_DEVICES: [0]\n"
     ]
    },
    {
     "name": "stdout",
     "output_type": "stream",
     "text": [
      "Model loaded from checkpoint for trial 24\n"
     ]
    },
    {
     "name": "stderr",
     "output_type": "stream",
     "text": [
      "/home/eduardo/Documentos/Water-Cycle-Neural-Network/venv/lib/python3.12/site-packages/pytorch_lightning/trainer/connectors/data_connector.py:425: The 'predict_dataloader' does not have many workers which may be a bottleneck. Consider increasing the value of the `num_workers` argument` to `num_workers=11` in the `DataLoader` to improve performance.\n",
      "[I 2025-05-19 17:50:58,841] Trial 24 finished with value: 43.81802619541641 and parameters: {'input_chunk_length': 27, 'num_filters': 123, 'kernel_size': 8, 'num_layers': 2, 'dilation_base': 4, 'weight_norm': True, 'dropout': 0.33007114516520614, 'batch_size': 54, 'lr': 0.003971841748805467}. Best is trial 2 with value: 39.99407731033253.\n",
      "GPU available: True (cuda), used: True\n",
      "TPU available: False, using: 0 TPU cores\n",
      "HPU available: False, using: 0 HPUs\n",
      "LOCAL_RANK: 0 - CUDA_VISIBLE_DEVICES: [0]\n",
      "\n",
      "  | Name            | Type             | Params | Mode \n",
      "-------------------------------------------------------------\n",
      "0 | criterion       | HuberLoss        | 0      | train\n",
      "1 | train_criterion | HuberLoss        | 0      | train\n",
      "2 | val_criterion   | HuberLoss        | 0      | train\n",
      "3 | train_metrics   | MetricCollection | 0      | train\n",
      "4 | val_metrics     | MetricCollection | 0      | train\n",
      "5 | res_blocks      | ModuleList       | 7.4 K  | train\n",
      "-------------------------------------------------------------\n",
      "7.4 K     Trainable params\n",
      "0         Non-trainable params\n",
      "7.4 K     Total params\n",
      "0.029     Total estimated model params size (MB)\n",
      "18        Modules in train mode\n",
      "0         Modules in eval mode\n"
     ]
    },
    {
     "name": "stdout",
     "output_type": "stream",
     "text": [
      "Starting time series consistency verification...\n",
      "\n",
      "Performance metrics:\n",
      "                                   MSE       RMSE        MAE        R2  \\\n",
      "Temperature                   0.420764   0.648663   0.411926  0.876404   \n",
      "Precipitation_accumulated     4.602607   2.145369   1.764535 -3.849221   \n",
      "Humidity                      2.054790   1.433454   0.881501  0.968402   \n",
      "Wind_Speed_kmh                0.068016   0.260799   0.132879  0.800134   \n",
      "Soil_Moisture              8785.494549  93.730969  26.660372  0.988127   \n",
      "Soil_Temperature              0.297343   0.545292   0.383206  0.947018   \n",
      "Wind_Dir_Sin                  0.044043   0.209865   0.091991  0.725790   \n",
      "Wind_Dir_Cos                  0.043781   0.209239   0.104458  0.847502   \n",
      "\n",
      "                                SMAPE  \n",
      "Temperature                  6.998130  \n",
      "Precipitation_accumulated    0.383199  \n",
      "Humidity                     1.066372  \n",
      "Wind_Speed_kmh             160.005750  \n",
      "Soil_Moisture                0.430544  \n",
      "Soil_Temperature            12.629580  \n",
      "Wind_Dir_Sin               142.006310  \n",
      "Wind_Dir_Cos                27.024325  \n",
      "The SMAPE for this fold was 43.81802619541641\n",
      "Results for trial 24 saved to optuna_iteration_metrics/trial_24.json\n",
      "Current value: 43.81802619541641, Current params: {'input_chunk_length': 27, 'num_filters': 123, 'kernel_size': 8, 'num_layers': 2, 'dilation_base': 4, 'weight_norm': True, 'dropout': 0.33007114516520614, 'batch_size': 54, 'lr': 0.003971841748805467}\n",
      "Best value: 39.99407731033253, Best params: {'input_chunk_length': 20, 'num_filters': 109, 'kernel_size': 2, 'num_layers': 6, 'dilation_base': 4, 'weight_norm': True, 'dropout': 0.15531203611947797, 'batch_size': 29, 'lr': 0.0002474912028329941}\n",
      "\n",
      "Starting Trial 25\n",
      "Hyperparameters: {'input_chunk_length': 38, 'num_filters': 90, 'kernel_size': 3, 'num_layers': 1, 'dilation_base': 3, 'weight_norm': True, 'dropout': 0.11107452360856993, 'batch_size': 50, 'lr': 0.001513074833112472}\n",
      "\n",
      "Training the model...\n",
      "Train set: 6647 samples\n",
      "Validation set: 1662 samples\n"
     ]
    },
    {
     "data": {
      "text/plain": [
       "Sanity Checking: |          | 0/? [00:00<?, ?it/s]"
      ],
      "application/vnd.jupyter.widget-view+json": {
       "version_major": 2,
       "version_minor": 0,
       "model_id": "718aa32684744730b8057463979b0e52"
      }
     },
     "metadata": {},
     "output_type": "display_data"
    },
    {
     "data": {
      "text/plain": [
       "Training: |          | 0/? [00:00<?, ?it/s]"
      ],
      "application/vnd.jupyter.widget-view+json": {
       "version_major": 2,
       "version_minor": 0,
       "model_id": "172b0cf555bb4e8ca05b8ce2c6eb2739"
      }
     },
     "metadata": {},
     "output_type": "display_data"
    },
    {
     "data": {
      "text/plain": [
       "Validation: |          | 0/? [00:00<?, ?it/s]"
      ],
      "application/vnd.jupyter.widget-view+json": {
       "version_major": 2,
       "version_minor": 0,
       "model_id": "e5ddd0c18b57496bb0e8b41d4236b036"
      }
     },
     "metadata": {},
     "output_type": "display_data"
    },
    {
     "name": "stderr",
     "output_type": "stream",
     "text": [
      "[I 2025-05-19 17:51:00,739] Trial 25 pruned. Trial was pruned at epoch 0.\n",
      "GPU available: True (cuda), used: True\n",
      "TPU available: False, using: 0 TPU cores\n",
      "HPU available: False, using: 0 HPUs\n",
      "LOCAL_RANK: 0 - CUDA_VISIBLE_DEVICES: [0]\n",
      "\n",
      "  | Name            | Type             | Params | Mode \n",
      "-------------------------------------------------------------\n",
      "0 | criterion       | HuberLoss        | 0      | train\n",
      "1 | train_criterion | HuberLoss        | 0      | train\n",
      "2 | val_criterion   | HuberLoss        | 0      | train\n",
      "3 | train_metrics   | MetricCollection | 0      | train\n",
      "4 | val_metrics     | MetricCollection | 0      | train\n",
      "5 | res_blocks      | ModuleList       | 44.8 K | train\n",
      "-------------------------------------------------------------\n",
      "44.8 K    Trainable params\n",
      "0         Non-trainable params\n",
      "44.8 K    Total params\n",
      "0.179     Total estimated model params size (MB)\n",
      "18        Modules in train mode\n",
      "0         Modules in eval mode\n"
     ]
    },
    {
     "name": "stdout",
     "output_type": "stream",
     "text": [
      "Current value: 0.02691124739578633, Current params: {'input_chunk_length': 38, 'num_filters': 90, 'kernel_size': 3, 'num_layers': 1, 'dilation_base': 3, 'weight_norm': True, 'dropout': 0.11107452360856993, 'batch_size': 50, 'lr': 0.001513074833112472}\n",
      "Best value: 39.99407731033253, Best params: {'input_chunk_length': 20, 'num_filters': 109, 'kernel_size': 2, 'num_layers': 6, 'dilation_base': 4, 'weight_norm': True, 'dropout': 0.15531203611947797, 'batch_size': 29, 'lr': 0.0002474912028329941}\n",
      "\n",
      "Starting Trial 26\n",
      "Hyperparameters: {'input_chunk_length': 21, 'num_filters': 46, 'kernel_size': 8, 'num_layers': 2, 'dilation_base': 4, 'weight_norm': False, 'dropout': 0.30296020696395737, 'batch_size': 31, 'lr': 0.0042456131934189385}\n",
      "\n",
      "Training the model...\n",
      "Train set: 6647 samples\n",
      "Validation set: 1662 samples\n"
     ]
    },
    {
     "data": {
      "text/plain": [
       "Sanity Checking: |          | 0/? [00:00<?, ?it/s]"
      ],
      "application/vnd.jupyter.widget-view+json": {
       "version_major": 2,
       "version_minor": 0,
       "model_id": "eeb8c101e24e4d64acfbc6d20f565d9a"
      }
     },
     "metadata": {},
     "output_type": "display_data"
    },
    {
     "data": {
      "text/plain": [
       "Training: |          | 0/? [00:00<?, ?it/s]"
      ],
      "application/vnd.jupyter.widget-view+json": {
       "version_major": 2,
       "version_minor": 0,
       "model_id": "1037eefda03f4e3792420a7bdcd2b9fc"
      }
     },
     "metadata": {},
     "output_type": "display_data"
    },
    {
     "data": {
      "text/plain": [
       "Validation: |          | 0/? [00:00<?, ?it/s]"
      ],
      "application/vnd.jupyter.widget-view+json": {
       "version_major": 2,
       "version_minor": 0,
       "model_id": "b7cd4161f9484ab1b1f2f2b1b044bf8c"
      }
     },
     "metadata": {},
     "output_type": "display_data"
    },
    {
     "name": "stderr",
     "output_type": "stream",
     "text": [
      "Metric val_loss improved. New best score: 0.014\n"
     ]
    },
    {
     "data": {
      "text/plain": [
       "Validation: |          | 0/? [00:00<?, ?it/s]"
      ],
      "application/vnd.jupyter.widget-view+json": {
       "version_major": 2,
       "version_minor": 0,
       "model_id": "a6eac6e59b894689b2bcd47141c97818"
      }
     },
     "metadata": {},
     "output_type": "display_data"
    },
    {
     "name": "stderr",
     "output_type": "stream",
     "text": [
      "Metric val_loss improved by 0.002 >= min_delta = 0.001. New best score: 0.012\n"
     ]
    },
    {
     "data": {
      "text/plain": [
       "Validation: |          | 0/? [00:00<?, ?it/s]"
      ],
      "application/vnd.jupyter.widget-view+json": {
       "version_major": 2,
       "version_minor": 0,
       "model_id": "2e4795436d1a483cad6dda2e6e7ab1c3"
      }
     },
     "metadata": {},
     "output_type": "display_data"
    },
    {
     "data": {
      "text/plain": [
       "Validation: |          | 0/? [00:00<?, ?it/s]"
      ],
      "application/vnd.jupyter.widget-view+json": {
       "version_major": 2,
       "version_minor": 0,
       "model_id": "e39412276dd14a43b3dbc5d6044e763f"
      }
     },
     "metadata": {},
     "output_type": "display_data"
    },
    {
     "data": {
      "text/plain": [
       "Validation: |          | 0/? [00:00<?, ?it/s]"
      ],
      "application/vnd.jupyter.widget-view+json": {
       "version_major": 2,
       "version_minor": 0,
       "model_id": "cddfa8b8f51845b19f18d71953880b6d"
      }
     },
     "metadata": {},
     "output_type": "display_data"
    },
    {
     "data": {
      "text/plain": [
       "Validation: |          | 0/? [00:00<?, ?it/s]"
      ],
      "application/vnd.jupyter.widget-view+json": {
       "version_major": 2,
       "version_minor": 0,
       "model_id": "41ccab5bbf38456889f580cb1afc8215"
      }
     },
     "metadata": {},
     "output_type": "display_data"
    },
    {
     "data": {
      "text/plain": [
       "Validation: |          | 0/? [00:00<?, ?it/s]"
      ],
      "application/vnd.jupyter.widget-view+json": {
       "version_major": 2,
       "version_minor": 0,
       "model_id": "7b4a7181c10d4f7bb0b7501a4fc843ea"
      }
     },
     "metadata": {},
     "output_type": "display_data"
    },
    {
     "data": {
      "text/plain": [
       "Validation: |          | 0/? [00:00<?, ?it/s]"
      ],
      "application/vnd.jupyter.widget-view+json": {
       "version_major": 2,
       "version_minor": 0,
       "model_id": "6bbc91802d1f48d6bb3be130a4d07a29"
      }
     },
     "metadata": {},
     "output_type": "display_data"
    },
    {
     "data": {
      "text/plain": [
       "Validation: |          | 0/? [00:00<?, ?it/s]"
      ],
      "application/vnd.jupyter.widget-view+json": {
       "version_major": 2,
       "version_minor": 0,
       "model_id": "f0f07bb353c045b2ba0180d0ab1cc2d4"
      }
     },
     "metadata": {},
     "output_type": "display_data"
    },
    {
     "data": {
      "text/plain": [
       "Validation: |          | 0/? [00:00<?, ?it/s]"
      ],
      "application/vnd.jupyter.widget-view+json": {
       "version_major": 2,
       "version_minor": 0,
       "model_id": "89608cda7fff4130b36f2f3905bc8db6"
      }
     },
     "metadata": {},
     "output_type": "display_data"
    },
    {
     "data": {
      "text/plain": [
       "Validation: |          | 0/? [00:00<?, ?it/s]"
      ],
      "application/vnd.jupyter.widget-view+json": {
       "version_major": 2,
       "version_minor": 0,
       "model_id": "5cd8c270da7441a6b71ca5e3610b75f9"
      }
     },
     "metadata": {},
     "output_type": "display_data"
    },
    {
     "data": {
      "text/plain": [
       "Validation: |          | 0/? [00:00<?, ?it/s]"
      ],
      "application/vnd.jupyter.widget-view+json": {
       "version_major": 2,
       "version_minor": 0,
       "model_id": "803b77a5d00e46c984524c217305306d"
      }
     },
     "metadata": {},
     "output_type": "display_data"
    },
    {
     "name": "stderr",
     "output_type": "stream",
     "text": [
      "Monitored metric val_loss did not improve in the last 10 records. Best score: 0.012. Signaling Trainer to stop.\n",
      "GPU available: True (cuda), used: True\n",
      "TPU available: False, using: 0 TPU cores\n",
      "HPU available: False, using: 0 HPUs\n",
      "LOCAL_RANK: 0 - CUDA_VISIBLE_DEVICES: [0]\n"
     ]
    },
    {
     "name": "stdout",
     "output_type": "stream",
     "text": [
      "Model loaded from checkpoint for trial 26\n"
     ]
    },
    {
     "name": "stderr",
     "output_type": "stream",
     "text": [
      "/home/eduardo/Documentos/Water-Cycle-Neural-Network/venv/lib/python3.12/site-packages/pytorch_lightning/trainer/connectors/data_connector.py:425: The 'predict_dataloader' does not have many workers which may be a bottleneck. Consider increasing the value of the `num_workers` argument` to `num_workers=11` in the `DataLoader` to improve performance.\n",
      "[I 2025-05-19 17:52:01,812] Trial 26 finished with value: 42.47853445126634 and parameters: {'input_chunk_length': 21, 'num_filters': 46, 'kernel_size': 8, 'num_layers': 2, 'dilation_base': 4, 'weight_norm': False, 'dropout': 0.30296020696395737, 'batch_size': 31, 'lr': 0.0042456131934189385}. Best is trial 2 with value: 39.99407731033253.\n",
      "GPU available: True (cuda), used: True\n",
      "TPU available: False, using: 0 TPU cores\n",
      "HPU available: False, using: 0 HPUs\n",
      "LOCAL_RANK: 0 - CUDA_VISIBLE_DEVICES: [0]\n",
      "\n",
      "  | Name            | Type             | Params | Mode \n",
      "-------------------------------------------------------------\n",
      "0 | criterion       | HuberLoss        | 0      | train\n",
      "1 | train_criterion | HuberLoss        | 0      | train\n",
      "2 | val_criterion   | HuberLoss        | 0      | train\n",
      "3 | train_metrics   | MetricCollection | 0      | train\n",
      "4 | val_metrics     | MetricCollection | 0      | train\n",
      "5 | res_blocks      | ModuleList       | 110 K  | train\n",
      "-------------------------------------------------------------\n",
      "110 K     Trainable params\n",
      "0         Non-trainable params\n",
      "110 K     Total params\n",
      "0.440     Total estimated model params size (MB)\n",
      "30        Modules in train mode\n",
      "0         Modules in eval mode\n"
     ]
    },
    {
     "name": "stdout",
     "output_type": "stream",
     "text": [
      "Starting time series consistency verification...\n",
      "\n",
      "Performance metrics:\n",
      "                                   MSE       RMSE        MAE        R2  \\\n",
      "Temperature                   0.420131   0.648175   0.427195  0.876590   \n",
      "Precipitation_accumulated     7.666911   2.768919   2.193868 -7.077715   \n",
      "Humidity                      2.442328   1.562795   1.050095  0.962442   \n",
      "Wind_Speed_kmh                0.068304   0.261351   0.106256  0.799287   \n",
      "Soil_Moisture              8473.562998  92.051958  17.571142  0.988549   \n",
      "Soil_Temperature              0.286569   0.535322   0.411580  0.948938   \n",
      "Wind_Dir_Sin                  0.046729   0.216169   0.109536  0.709070   \n",
      "Wind_Dir_Cos                  0.044667   0.211346   0.091554  0.844415   \n",
      "\n",
      "                                SMAPE  \n",
      "Temperature                  7.477079  \n",
      "Precipitation_accumulated    0.478741  \n",
      "Humidity                     1.271793  \n",
      "Wind_Speed_kmh             148.536200  \n",
      "Soil_Moisture                0.280439  \n",
      "Soil_Temperature            13.545436  \n",
      "Wind_Dir_Sin               141.282528  \n",
      "Wind_Dir_Cos                26.956060  \n",
      "The SMAPE for this fold was 42.47853445126634\n",
      "Results for trial 26 saved to optuna_iteration_metrics/trial_26.json\n",
      "Current value: 42.47853445126634, Current params: {'input_chunk_length': 21, 'num_filters': 46, 'kernel_size': 8, 'num_layers': 2, 'dilation_base': 4, 'weight_norm': False, 'dropout': 0.30296020696395737, 'batch_size': 31, 'lr': 0.0042456131934189385}\n",
      "Best value: 39.99407731033253, Best params: {'input_chunk_length': 20, 'num_filters': 109, 'kernel_size': 2, 'num_layers': 6, 'dilation_base': 4, 'weight_norm': True, 'dropout': 0.15531203611947797, 'batch_size': 29, 'lr': 0.0002474912028329941}\n",
      "\n",
      "Starting Trial 27\n",
      "Hyperparameters: {'input_chunk_length': 28, 'num_filters': 109, 'kernel_size': 4, 'num_layers': 2, 'dilation_base': 3, 'weight_norm': True, 'dropout': 0.17117925563920677, 'batch_size': 21, 'lr': 0.0005006938927627136}\n",
      "\n",
      "Training the model...\n",
      "Train set: 6647 samples\n",
      "Validation set: 1662 samples\n"
     ]
    },
    {
     "data": {
      "text/plain": [
       "Sanity Checking: |          | 0/? [00:00<?, ?it/s]"
      ],
      "application/vnd.jupyter.widget-view+json": {
       "version_major": 2,
       "version_minor": 0,
       "model_id": "6d1f1651e43a4e0395b84327f4cfc615"
      }
     },
     "metadata": {},
     "output_type": "display_data"
    },
    {
     "data": {
      "text/plain": [
       "Training: |          | 0/? [00:00<?, ?it/s]"
      ],
      "application/vnd.jupyter.widget-view+json": {
       "version_major": 2,
       "version_minor": 0,
       "model_id": "bf036d02994f48e3acd59825c6fa28b8"
      }
     },
     "metadata": {},
     "output_type": "display_data"
    },
    {
     "data": {
      "text/plain": [
       "Validation: |          | 0/? [00:00<?, ?it/s]"
      ],
      "application/vnd.jupyter.widget-view+json": {
       "version_major": 2,
       "version_minor": 0,
       "model_id": "6b41b67453684d17988da0238c82bb44"
      }
     },
     "metadata": {},
     "output_type": "display_data"
    },
    {
     "name": "stderr",
     "output_type": "stream",
     "text": [
      "Metric val_loss improved. New best score: 0.016\n"
     ]
    },
    {
     "data": {
      "text/plain": [
       "Validation: |          | 0/? [00:00<?, ?it/s]"
      ],
      "application/vnd.jupyter.widget-view+json": {
       "version_major": 2,
       "version_minor": 0,
       "model_id": "b70d139d092447dcbc742d3fb5500ee9"
      }
     },
     "metadata": {},
     "output_type": "display_data"
    },
    {
     "name": "stderr",
     "output_type": "stream",
     "text": [
      "Metric val_loss improved by 0.002 >= min_delta = 0.001. New best score: 0.014\n"
     ]
    },
    {
     "data": {
      "text/plain": [
       "Validation: |          | 0/? [00:00<?, ?it/s]"
      ],
      "application/vnd.jupyter.widget-view+json": {
       "version_major": 2,
       "version_minor": 0,
       "model_id": "687fc01fc64d4803bdbf1d1435461027"
      }
     },
     "metadata": {},
     "output_type": "display_data"
    },
    {
     "data": {
      "text/plain": [
       "Validation: |          | 0/? [00:00<?, ?it/s]"
      ],
      "application/vnd.jupyter.widget-view+json": {
       "version_major": 2,
       "version_minor": 0,
       "model_id": "4286c228b42b4f1783a6fb88076df33c"
      }
     },
     "metadata": {},
     "output_type": "display_data"
    },
    {
     "name": "stderr",
     "output_type": "stream",
     "text": [
      "Metric val_loss improved by 0.001 >= min_delta = 0.001. New best score: 0.012\n"
     ]
    },
    {
     "data": {
      "text/plain": [
       "Validation: |          | 0/? [00:00<?, ?it/s]"
      ],
      "application/vnd.jupyter.widget-view+json": {
       "version_major": 2,
       "version_minor": 0,
       "model_id": "0995f0be339146fc9b85dce3dc03aea9"
      }
     },
     "metadata": {},
     "output_type": "display_data"
    },
    {
     "data": {
      "text/plain": [
       "Validation: |          | 0/? [00:00<?, ?it/s]"
      ],
      "application/vnd.jupyter.widget-view+json": {
       "version_major": 2,
       "version_minor": 0,
       "model_id": "87b9390264834c8397aee589638d2582"
      }
     },
     "metadata": {},
     "output_type": "display_data"
    },
    {
     "name": "stderr",
     "output_type": "stream",
     "text": [
      "[I 2025-05-19 17:52:46,547] Trial 27 pruned. Trial was pruned at epoch 5.\n",
      "GPU available: True (cuda), used: True\n",
      "TPU available: False, using: 0 TPU cores\n",
      "HPU available: False, using: 0 HPUs\n",
      "LOCAL_RANK: 0 - CUDA_VISIBLE_DEVICES: [0]\n",
      "\n",
      "  | Name            | Type             | Params | Mode \n",
      "-------------------------------------------------------------\n",
      "0 | criterion       | HuberLoss        | 0      | train\n",
      "1 | train_criterion | HuberLoss        | 0      | train\n",
      "2 | val_criterion   | HuberLoss        | 0      | train\n",
      "3 | train_metrics   | MetricCollection | 0      | train\n",
      "4 | val_metrics     | MetricCollection | 0      | train\n",
      "5 | res_blocks      | ModuleList       | 13.4 K | train\n",
      "-------------------------------------------------------------\n",
      "13.4 K    Trainable params\n",
      "0         Non-trainable params\n",
      "13.4 K    Total params\n",
      "0.054     Total estimated model params size (MB)\n",
      "41        Modules in train mode\n",
      "0         Modules in eval mode\n"
     ]
    },
    {
     "name": "stdout",
     "output_type": "stream",
     "text": [
      "Current value: 0.012136656173425867, Current params: {'input_chunk_length': 28, 'num_filters': 109, 'kernel_size': 4, 'num_layers': 2, 'dilation_base': 3, 'weight_norm': True, 'dropout': 0.17117925563920677, 'batch_size': 21, 'lr': 0.0005006938927627136}\n",
      "Best value: 39.99407731033253, Best params: {'input_chunk_length': 20, 'num_filters': 109, 'kernel_size': 2, 'num_layers': 6, 'dilation_base': 4, 'weight_norm': True, 'dropout': 0.15531203611947797, 'batch_size': 29, 'lr': 0.0002474912028329941}\n",
      "\n",
      "Starting Trial 28\n",
      "Hyperparameters: {'input_chunk_length': 35, 'num_filters': 22, 'kernel_size': 5, 'num_layers': 3, 'dilation_base': 4, 'weight_norm': True, 'dropout': 0.3557624844653958, 'batch_size': 42, 'lr': 0.009841090495204444}\n",
      "\n",
      "Training the model...\n",
      "Train set: 6647 samples\n",
      "Validation set: 1662 samples\n"
     ]
    },
    {
     "data": {
      "text/plain": [
       "Sanity Checking: |          | 0/? [00:00<?, ?it/s]"
      ],
      "application/vnd.jupyter.widget-view+json": {
       "version_major": 2,
       "version_minor": 0,
       "model_id": "9275162fbd884020ab765e021ef44f69"
      }
     },
     "metadata": {},
     "output_type": "display_data"
    },
    {
     "data": {
      "text/plain": [
       "Training: |          | 0/? [00:00<?, ?it/s]"
      ],
      "application/vnd.jupyter.widget-view+json": {
       "version_major": 2,
       "version_minor": 0,
       "model_id": "b795e589abc549af8cb9c3e543b2609d"
      }
     },
     "metadata": {},
     "output_type": "display_data"
    },
    {
     "data": {
      "text/plain": [
       "Validation: |          | 0/? [00:00<?, ?it/s]"
      ],
      "application/vnd.jupyter.widget-view+json": {
       "version_major": 2,
       "version_minor": 0,
       "model_id": "b568eda5db5c4d4d8ce4715c72c44592"
      }
     },
     "metadata": {},
     "output_type": "display_data"
    },
    {
     "name": "stderr",
     "output_type": "stream",
     "text": [
      "Metric val_loss improved. New best score: 0.015\n"
     ]
    },
    {
     "data": {
      "text/plain": [
       "Validation: |          | 0/? [00:00<?, ?it/s]"
      ],
      "application/vnd.jupyter.widget-view+json": {
       "version_major": 2,
       "version_minor": 0,
       "model_id": "2a0423b52d7848e19f75c9e0e099dae7"
      }
     },
     "metadata": {},
     "output_type": "display_data"
    },
    {
     "name": "stderr",
     "output_type": "stream",
     "text": [
      "Metric val_loss improved by 0.003 >= min_delta = 0.001. New best score: 0.012\n"
     ]
    },
    {
     "data": {
      "text/plain": [
       "Validation: |          | 0/? [00:00<?, ?it/s]"
      ],
      "application/vnd.jupyter.widget-view+json": {
       "version_major": 2,
       "version_minor": 0,
       "model_id": "a9f70f1cd0814a47964d0d748c4d43bd"
      }
     },
     "metadata": {},
     "output_type": "display_data"
    },
    {
     "data": {
      "text/plain": [
       "Validation: |          | 0/? [00:00<?, ?it/s]"
      ],
      "application/vnd.jupyter.widget-view+json": {
       "version_major": 2,
       "version_minor": 0,
       "model_id": "37033bac12a341a7a9f8e94332f2f536"
      }
     },
     "metadata": {},
     "output_type": "display_data"
    },
    {
     "data": {
      "text/plain": [
       "Validation: |          | 0/? [00:00<?, ?it/s]"
      ],
      "application/vnd.jupyter.widget-view+json": {
       "version_major": 2,
       "version_minor": 0,
       "model_id": "c8124eff42e74c7db6c810f63289e58e"
      }
     },
     "metadata": {},
     "output_type": "display_data"
    },
    {
     "data": {
      "text/plain": [
       "Validation: |          | 0/? [00:00<?, ?it/s]"
      ],
      "application/vnd.jupyter.widget-view+json": {
       "version_major": 2,
       "version_minor": 0,
       "model_id": "b703ebefa9ed4c50adf7c6f7188bece7"
      }
     },
     "metadata": {},
     "output_type": "display_data"
    },
    {
     "data": {
      "text/plain": [
       "Validation: |          | 0/? [00:00<?, ?it/s]"
      ],
      "application/vnd.jupyter.widget-view+json": {
       "version_major": 2,
       "version_minor": 0,
       "model_id": "e617a79ad7bb47988e7f34a144297179"
      }
     },
     "metadata": {},
     "output_type": "display_data"
    },
    {
     "data": {
      "text/plain": [
       "Validation: |          | 0/? [00:00<?, ?it/s]"
      ],
      "application/vnd.jupyter.widget-view+json": {
       "version_major": 2,
       "version_minor": 0,
       "model_id": "5834d93eeb444a16a68295ae5af493d2"
      }
     },
     "metadata": {},
     "output_type": "display_data"
    },
    {
     "data": {
      "text/plain": [
       "Validation: |          | 0/? [00:00<?, ?it/s]"
      ],
      "application/vnd.jupyter.widget-view+json": {
       "version_major": 2,
       "version_minor": 0,
       "model_id": "34122e5d8b8c4e03adf7f6041a445e52"
      }
     },
     "metadata": {},
     "output_type": "display_data"
    },
    {
     "data": {
      "text/plain": [
       "Validation: |          | 0/? [00:00<?, ?it/s]"
      ],
      "application/vnd.jupyter.widget-view+json": {
       "version_major": 2,
       "version_minor": 0,
       "model_id": "b954b2beb1914def82b09df01b7f3d61"
      }
     },
     "metadata": {},
     "output_type": "display_data"
    },
    {
     "data": {
      "text/plain": [
       "Validation: |          | 0/? [00:00<?, ?it/s]"
      ],
      "application/vnd.jupyter.widget-view+json": {
       "version_major": 2,
       "version_minor": 0,
       "model_id": "b9f0ddfba2454d61a362c5c7d8de14a1"
      }
     },
     "metadata": {},
     "output_type": "display_data"
    },
    {
     "data": {
      "text/plain": [
       "Validation: |          | 0/? [00:00<?, ?it/s]"
      ],
      "application/vnd.jupyter.widget-view+json": {
       "version_major": 2,
       "version_minor": 0,
       "model_id": "80b1d2c2e1f348bf8decf4926cb828e5"
      }
     },
     "metadata": {},
     "output_type": "display_data"
    },
    {
     "name": "stderr",
     "output_type": "stream",
     "text": [
      "Monitored metric val_loss did not improve in the last 10 records. Best score: 0.012. Signaling Trainer to stop.\n",
      "GPU available: True (cuda), used: True\n",
      "TPU available: False, using: 0 TPU cores\n",
      "HPU available: False, using: 0 HPUs\n",
      "LOCAL_RANK: 0 - CUDA_VISIBLE_DEVICES: [0]\n"
     ]
    },
    {
     "name": "stdout",
     "output_type": "stream",
     "text": [
      "Model loaded from checkpoint for trial 28\n"
     ]
    },
    {
     "name": "stderr",
     "output_type": "stream",
     "text": [
      "/home/eduardo/Documentos/Water-Cycle-Neural-Network/venv/lib/python3.12/site-packages/pytorch_lightning/trainer/connectors/data_connector.py:425: The 'predict_dataloader' does not have many workers which may be a bottleneck. Consider increasing the value of the `num_workers` argument` to `num_workers=11` in the `DataLoader` to improve performance.\n",
      "[I 2025-05-19 17:53:55,652] Trial 28 finished with value: 45.32316709507968 and parameters: {'input_chunk_length': 35, 'num_filters': 22, 'kernel_size': 5, 'num_layers': 3, 'dilation_base': 4, 'weight_norm': True, 'dropout': 0.3557624844653958, 'batch_size': 42, 'lr': 0.009841090495204444}. Best is trial 2 with value: 39.99407731033253.\n",
      "GPU available: True (cuda), used: True\n",
      "TPU available: False, using: 0 TPU cores\n",
      "HPU available: False, using: 0 HPUs\n",
      "LOCAL_RANK: 0 - CUDA_VISIBLE_DEVICES: [0]\n",
      "\n",
      "  | Name            | Type             | Params | Mode \n",
      "-------------------------------------------------------------\n",
      "0 | criterion       | HuberLoss        | 0      | train\n",
      "1 | train_criterion | HuberLoss        | 0      | train\n",
      "2 | val_criterion   | HuberLoss        | 0      | train\n",
      "3 | train_metrics   | MetricCollection | 0      | train\n",
      "4 | val_metrics     | MetricCollection | 0      | train\n",
      "5 | res_blocks      | ModuleList       | 90.4 K | train\n",
      "-------------------------------------------------------------\n",
      "90.4 K    Trainable params\n",
      "0         Non-trainable params\n",
      "90.4 K    Total params\n",
      "0.362     Total estimated model params size (MB)\n",
      "52        Modules in train mode\n",
      "0         Modules in eval mode\n"
     ]
    },
    {
     "name": "stdout",
     "output_type": "stream",
     "text": [
      "Starting time series consistency verification...\n",
      "\n",
      "Performance metrics:\n",
      "                                   MSE       RMSE        MAE        R2  \\\n",
      "Temperature                   0.523360   0.723436   0.520661  0.846267   \n",
      "Precipitation_accumulated     6.644950   2.577780   2.097710 -6.000996   \n",
      "Humidity                      2.472112   1.572295   1.034321  0.961984   \n",
      "Wind_Speed_kmh                0.070580   0.265669   0.128373  0.792599   \n",
      "Soil_Moisture              9170.441150  95.762420  28.524408  0.987607   \n",
      "Soil_Temperature              0.717429   0.847012   0.639559  0.872166   \n",
      "Wind_Dir_Sin                  0.049062   0.221499   0.110721  0.694544   \n",
      "Wind_Dir_Cos                  0.044740   0.211519   0.100669  0.844160   \n",
      "\n",
      "                                SMAPE  \n",
      "Temperature                  8.771585  \n",
      "Precipitation_accumulated    0.456651  \n",
      "Humidity                     1.228508  \n",
      "Wind_Speed_kmh             161.700305  \n",
      "Soil_Moisture                0.469288  \n",
      "Soil_Temperature            17.306909  \n",
      "Wind_Dir_Sin               141.679834  \n",
      "Wind_Dir_Cos                30.972257  \n",
      "The SMAPE for this fold was 45.32316709507968\n",
      "Results for trial 28 saved to optuna_iteration_metrics/trial_28.json\n",
      "Current value: 45.32316709507968, Current params: {'input_chunk_length': 35, 'num_filters': 22, 'kernel_size': 5, 'num_layers': 3, 'dilation_base': 4, 'weight_norm': True, 'dropout': 0.3557624844653958, 'batch_size': 42, 'lr': 0.009841090495204444}\n",
      "Best value: 39.99407731033253, Best params: {'input_chunk_length': 20, 'num_filters': 109, 'kernel_size': 2, 'num_layers': 6, 'dilation_base': 4, 'weight_norm': True, 'dropout': 0.15531203611947797, 'batch_size': 29, 'lr': 0.0002474912028329941}\n",
      "\n",
      "Starting Trial 29\n",
      "Hyperparameters: {'input_chunk_length': 49, 'num_filters': 83, 'kernel_size': 2, 'num_layers': 4, 'dilation_base': 4, 'weight_norm': True, 'dropout': 0.29055375099819714, 'batch_size': 47, 'lr': 0.00022409623151059449}\n",
      "\n",
      "Training the model...\n",
      "Train set: 6647 samples\n",
      "Validation set: 1662 samples\n"
     ]
    },
    {
     "data": {
      "text/plain": [
       "Sanity Checking: |          | 0/? [00:00<?, ?it/s]"
      ],
      "application/vnd.jupyter.widget-view+json": {
       "version_major": 2,
       "version_minor": 0,
       "model_id": "1e99a7c80fa942a7a0f220d2d8809e85"
      }
     },
     "metadata": {},
     "output_type": "display_data"
    },
    {
     "data": {
      "text/plain": [
       "Training: |          | 0/? [00:00<?, ?it/s]"
      ],
      "application/vnd.jupyter.widget-view+json": {
       "version_major": 2,
       "version_minor": 0,
       "model_id": "9be0d966a5874fd4806706d7eb4b8dca"
      }
     },
     "metadata": {},
     "output_type": "display_data"
    },
    {
     "data": {
      "text/plain": [
       "Validation: |          | 0/? [00:00<?, ?it/s]"
      ],
      "application/vnd.jupyter.widget-view+json": {
       "version_major": 2,
       "version_minor": 0,
       "model_id": "6831037aa81042749dce5fc654f8826a"
      }
     },
     "metadata": {},
     "output_type": "display_data"
    },
    {
     "name": "stderr",
     "output_type": "stream",
     "text": [
      "[I 2025-05-19 17:54:14,371] Trial 29 pruned. Trial was pruned at epoch 0.\n"
     ]
    },
    {
     "name": "stdout",
     "output_type": "stream",
     "text": [
      "Current value: 0.03263713906994838, Current params: {'input_chunk_length': 49, 'num_filters': 83, 'kernel_size': 2, 'num_layers': 4, 'dilation_base': 4, 'weight_norm': True, 'dropout': 0.29055375099819714, 'batch_size': 47, 'lr': 0.00022409623151059449}\n",
      "Best value: 39.99407731033253, Best params: {'input_chunk_length': 20, 'num_filters': 109, 'kernel_size': 2, 'num_layers': 6, 'dilation_base': 4, 'weight_norm': True, 'dropout': 0.15531203611947797, 'batch_size': 29, 'lr': 0.0002474912028329941}\n",
      "\n",
      "Starting Trial 30\n",
      "Hyperparameters: {'input_chunk_length': 72, 'num_filters': 73, 'kernel_size': 4, 'num_layers': 1, 'dilation_base': 3, 'weight_norm': True, 'dropout': 0.24983771492390217, 'batch_size': 36, 'lr': 0.0014351574715057438}\n",
      "\n",
      "Training the model...\n",
      "Train set: 6647 samples\n",
      "Validation set: 1662 samples\n"
     ]
    },
    {
     "name": "stderr",
     "output_type": "stream",
     "text": [
      "GPU available: True (cuda), used: True\n",
      "TPU available: False, using: 0 TPU cores\n",
      "HPU available: False, using: 0 HPUs\n",
      "LOCAL_RANK: 0 - CUDA_VISIBLE_DEVICES: [0]\n",
      "\n",
      "  | Name            | Type             | Params | Mode \n",
      "-------------------------------------------------------------\n",
      "0 | criterion       | HuberLoss        | 0      | train\n",
      "1 | train_criterion | HuberLoss        | 0      | train\n",
      "2 | val_criterion   | HuberLoss        | 0      | train\n",
      "3 | train_metrics   | MetricCollection | 0      | train\n",
      "4 | val_metrics     | MetricCollection | 0      | train\n",
      "5 | res_blocks      | ModuleList       | 7.9 K  | train\n",
      "-------------------------------------------------------------\n",
      "7.9 K     Trainable params\n",
      "0         Non-trainable params\n",
      "7.9 K     Total params\n",
      "0.032     Total estimated model params size (MB)\n",
      "18        Modules in train mode\n",
      "0         Modules in eval mode\n"
     ]
    },
    {
     "data": {
      "text/plain": [
       "Sanity Checking: |          | 0/? [00:00<?, ?it/s]"
      ],
      "application/vnd.jupyter.widget-view+json": {
       "version_major": 2,
       "version_minor": 0,
       "model_id": "08128ac72e224c279bbdabbd7d5bd7da"
      }
     },
     "metadata": {},
     "output_type": "display_data"
    },
    {
     "data": {
      "text/plain": [
       "Training: |          | 0/? [00:00<?, ?it/s]"
      ],
      "application/vnd.jupyter.widget-view+json": {
       "version_major": 2,
       "version_minor": 0,
       "model_id": "eb93cf12e81d4f69a347b9a420ed77f4"
      }
     },
     "metadata": {},
     "output_type": "display_data"
    },
    {
     "data": {
      "text/plain": [
       "Validation: |          | 0/? [00:00<?, ?it/s]"
      ],
      "application/vnd.jupyter.widget-view+json": {
       "version_major": 2,
       "version_minor": 0,
       "model_id": "7b8145e2ffb24c88b0134a621322ce1c"
      }
     },
     "metadata": {},
     "output_type": "display_data"
    },
    {
     "name": "stderr",
     "output_type": "stream",
     "text": [
      "[I 2025-05-19 17:55:11,715] Trial 30 pruned. Trial was pruned at epoch 0.\n",
      "GPU available: True (cuda), used: True\n",
      "TPU available: False, using: 0 TPU cores\n",
      "HPU available: False, using: 0 HPUs\n",
      "LOCAL_RANK: 0 - CUDA_VISIBLE_DEVICES: [0]\n",
      "\n",
      "  | Name            | Type             | Params | Mode \n",
      "-------------------------------------------------------------\n",
      "0 | criterion       | HuberLoss        | 0      | train\n",
      "1 | train_criterion | HuberLoss        | 0      | train\n",
      "2 | val_criterion   | HuberLoss        | 0      | train\n",
      "3 | train_metrics   | MetricCollection | 0      | train\n",
      "4 | val_metrics     | MetricCollection | 0      | train\n",
      "5 | res_blocks      | ModuleList       | 124 K  | train\n",
      "-------------------------------------------------------------\n",
      "124 K     Trainable params\n",
      "0         Non-trainable params\n",
      "124 K     Total params\n",
      "0.500     Total estimated model params size (MB)\n",
      "41        Modules in train mode\n",
      "0         Modules in eval mode\n"
     ]
    },
    {
     "name": "stdout",
     "output_type": "stream",
     "text": [
      "Current value: 0.02250260523138059, Current params: {'input_chunk_length': 72, 'num_filters': 73, 'kernel_size': 4, 'num_layers': 1, 'dilation_base': 3, 'weight_norm': True, 'dropout': 0.24983771492390217, 'batch_size': 36, 'lr': 0.0014351574715057438}\n",
      "Best value: 39.99407731033253, Best params: {'input_chunk_length': 20, 'num_filters': 109, 'kernel_size': 2, 'num_layers': 6, 'dilation_base': 4, 'weight_norm': True, 'dropout': 0.15531203611947797, 'batch_size': 29, 'lr': 0.0002474912028329941}\n",
      "\n",
      "Starting Trial 31\n",
      "Hyperparameters: {'input_chunk_length': 8, 'num_filters': 63, 'kernel_size': 7, 'num_layers': 3, 'dilation_base': 4, 'weight_norm': True, 'dropout': 0.2772250779260892, 'batch_size': 60, 'lr': 0.0007683197333735064}\n",
      "\n",
      "Training the model...\n",
      "Train set: 6647 samples\n",
      "Validation set: 1662 samples\n"
     ]
    },
    {
     "data": {
      "text/plain": [
       "Sanity Checking: |          | 0/? [00:00<?, ?it/s]"
      ],
      "application/vnd.jupyter.widget-view+json": {
       "version_major": 2,
       "version_minor": 0,
       "model_id": "3b0984c8f01f4e2394856d56600d7bc0"
      }
     },
     "metadata": {},
     "output_type": "display_data"
    },
    {
     "data": {
      "text/plain": [
       "Training: |          | 0/? [00:00<?, ?it/s]"
      ],
      "application/vnd.jupyter.widget-view+json": {
       "version_major": 2,
       "version_minor": 0,
       "model_id": "d7dbf0c630374ffaa0e32ef3f2efb4c0"
      }
     },
     "metadata": {},
     "output_type": "display_data"
    },
    {
     "data": {
      "text/plain": [
       "Validation: |          | 0/? [00:00<?, ?it/s]"
      ],
      "application/vnd.jupyter.widget-view+json": {
       "version_major": 2,
       "version_minor": 0,
       "model_id": "dd4ec45b686a413ea2c5acb9991d1d65"
      }
     },
     "metadata": {},
     "output_type": "display_data"
    },
    {
     "name": "stderr",
     "output_type": "stream",
     "text": [
      "[I 2025-05-19 17:55:23,059] Trial 31 pruned. Trial was pruned at epoch 0.\n",
      "GPU available: True (cuda), used: True\n",
      "TPU available: False, using: 0 TPU cores\n",
      "HPU available: False, using: 0 HPUs\n",
      "LOCAL_RANK: 0 - CUDA_VISIBLE_DEVICES: [0]\n",
      "\n",
      "  | Name            | Type             | Params | Mode \n",
      "-------------------------------------------------------------\n",
      "0 | criterion       | HuberLoss        | 0      | train\n",
      "1 | train_criterion | HuberLoss        | 0      | train\n",
      "2 | val_criterion   | HuberLoss        | 0      | train\n",
      "3 | train_metrics   | MetricCollection | 0      | train\n",
      "4 | val_metrics     | MetricCollection | 0      | train\n",
      "5 | res_blocks      | ModuleList       | 356 K  | train\n",
      "-------------------------------------------------------------\n",
      "356 K     Trainable params\n",
      "0         Non-trainable params\n",
      "356 K     Total params\n",
      "1.426     Total estimated model params size (MB)\n",
      "41        Modules in train mode\n",
      "0         Modules in eval mode\n"
     ]
    },
    {
     "name": "stdout",
     "output_type": "stream",
     "text": [
      "Current value: 0.02141454611291941, Current params: {'input_chunk_length': 8, 'num_filters': 63, 'kernel_size': 7, 'num_layers': 3, 'dilation_base': 4, 'weight_norm': True, 'dropout': 0.2772250779260892, 'batch_size': 60, 'lr': 0.0007683197333735064}\n",
      "Best value: 39.99407731033253, Best params: {'input_chunk_length': 20, 'num_filters': 109, 'kernel_size': 2, 'num_layers': 6, 'dilation_base': 4, 'weight_norm': True, 'dropout': 0.15531203611947797, 'batch_size': 29, 'lr': 0.0002474912028329941}\n",
      "\n",
      "Starting Trial 32\n",
      "Hyperparameters: {'input_chunk_length': 20, 'num_filters': 109, 'kernel_size': 7, 'num_layers': 3, 'dilation_base': 4, 'weight_norm': True, 'dropout': 0.18870551556772586, 'batch_size': 64, 'lr': 0.0003972700741371441}\n",
      "\n",
      "Training the model...\n",
      "Train set: 6647 samples\n",
      "Validation set: 1662 samples\n"
     ]
    },
    {
     "data": {
      "text/plain": [
       "Sanity Checking: |          | 0/? [00:00<?, ?it/s]"
      ],
      "application/vnd.jupyter.widget-view+json": {
       "version_major": 2,
       "version_minor": 0,
       "model_id": "b9f3c809a7a54b0d9e8c94e2c67f6cdb"
      }
     },
     "metadata": {},
     "output_type": "display_data"
    },
    {
     "data": {
      "text/plain": [
       "Training: |          | 0/? [00:00<?, ?it/s]"
      ],
      "application/vnd.jupyter.widget-view+json": {
       "version_major": 2,
       "version_minor": 0,
       "model_id": "1aec4a221327474da287851535e06500"
      }
     },
     "metadata": {},
     "output_type": "display_data"
    },
    {
     "data": {
      "text/plain": [
       "Validation: |          | 0/? [00:00<?, ?it/s]"
      ],
      "application/vnd.jupyter.widget-view+json": {
       "version_major": 2,
       "version_minor": 0,
       "model_id": "4547ee23c3d9463796835763145fefc5"
      }
     },
     "metadata": {},
     "output_type": "display_data"
    },
    {
     "name": "stderr",
     "output_type": "stream",
     "text": [
      "[I 2025-05-19 17:55:40,442] Trial 32 pruned. Trial was pruned at epoch 0.\n",
      "GPU available: True (cuda), used: True\n",
      "TPU available: False, using: 0 TPU cores\n",
      "HPU available: False, using: 0 HPUs\n",
      "LOCAL_RANK: 0 - CUDA_VISIBLE_DEVICES: [0]\n",
      "\n",
      "  | Name            | Type             | Params | Mode \n",
      "-------------------------------------------------------------\n",
      "0 | criterion       | HuberLoss        | 0      | train\n",
      "1 | train_criterion | HuberLoss        | 0      | train\n",
      "2 | val_criterion   | HuberLoss        | 0      | train\n",
      "3 | train_metrics   | MetricCollection | 0      | train\n",
      "4 | val_metrics     | MetricCollection | 0      | train\n",
      "5 | res_blocks      | ModuleList       | 34.1 K | train\n",
      "-------------------------------------------------------------\n",
      "34.1 K    Trainable params\n",
      "0         Non-trainable params\n",
      "34.1 K    Total params\n",
      "0.136     Total estimated model params size (MB)\n",
      "30        Modules in train mode\n",
      "0         Modules in eval mode\n"
     ]
    },
    {
     "name": "stdout",
     "output_type": "stream",
     "text": [
      "Current value: 0.021729473495860296, Current params: {'input_chunk_length': 20, 'num_filters': 109, 'kernel_size': 7, 'num_layers': 3, 'dilation_base': 4, 'weight_norm': True, 'dropout': 0.18870551556772586, 'batch_size': 64, 'lr': 0.0003972700741371441}\n",
      "Best value: 39.99407731033253, Best params: {'input_chunk_length': 20, 'num_filters': 109, 'kernel_size': 2, 'num_layers': 6, 'dilation_base': 4, 'weight_norm': True, 'dropout': 0.15531203611947797, 'batch_size': 29, 'lr': 0.0002474912028329941}\n",
      "\n",
      "Starting Trial 33\n",
      "Hyperparameters: {'input_chunk_length': 25, 'num_filters': 46, 'kernel_size': 6, 'num_layers': 2, 'dilation_base': 4, 'weight_norm': True, 'dropout': 0.2465380780325432, 'batch_size': 57, 'lr': 0.0011877995608763228}\n",
      "\n",
      "Training the model...\n",
      "Train set: 6647 samples\n",
      "Validation set: 1662 samples\n"
     ]
    },
    {
     "data": {
      "text/plain": [
       "Sanity Checking: |          | 0/? [00:00<?, ?it/s]"
      ],
      "application/vnd.jupyter.widget-view+json": {
       "version_major": 2,
       "version_minor": 0,
       "model_id": "3a856e713abd4cac86a316df8d78318e"
      }
     },
     "metadata": {},
     "output_type": "display_data"
    },
    {
     "data": {
      "text/plain": [
       "Training: |          | 0/? [00:00<?, ?it/s]"
      ],
      "application/vnd.jupyter.widget-view+json": {
       "version_major": 2,
       "version_minor": 0,
       "model_id": "9ba41c197c464872a0ac5e9bdd6ad230"
      }
     },
     "metadata": {},
     "output_type": "display_data"
    },
    {
     "data": {
      "text/plain": [
       "Validation: |          | 0/? [00:00<?, ?it/s]"
      ],
      "application/vnd.jupyter.widget-view+json": {
       "version_major": 2,
       "version_minor": 0,
       "model_id": "1f5330447fb8477e9655621ba6eaed70"
      }
     },
     "metadata": {},
     "output_type": "display_data"
    },
    {
     "name": "stderr",
     "output_type": "stream",
     "text": [
      "[I 2025-05-19 17:55:45,307] Trial 33 pruned. Trial was pruned at epoch 0.\n"
     ]
    },
    {
     "name": "stdout",
     "output_type": "stream",
     "text": [
      "Current value: 0.024283152420692355, Current params: {'input_chunk_length': 25, 'num_filters': 46, 'kernel_size': 6, 'num_layers': 2, 'dilation_base': 4, 'weight_norm': True, 'dropout': 0.2465380780325432, 'batch_size': 57, 'lr': 0.0011877995608763228}\n",
      "Best value: 39.99407731033253, Best params: {'input_chunk_length': 20, 'num_filters': 109, 'kernel_size': 2, 'num_layers': 6, 'dilation_base': 4, 'weight_norm': True, 'dropout': 0.15531203611947797, 'batch_size': 29, 'lr': 0.0002474912028329941}\n",
      "\n",
      "Starting Trial 34\n",
      "Hyperparameters: {'input_chunk_length': 16, 'num_filters': 128, 'kernel_size': 8, 'num_layers': 3, 'dilation_base': 4, 'weight_norm': True, 'dropout': 0.2124660172652319, 'batch_size': 27, 'lr': 0.000697297680184878}\n",
      "\n",
      "Training the model...\n",
      "Train set: 6647 samples\n",
      "Validation set: 1662 samples\n"
     ]
    },
    {
     "name": "stderr",
     "output_type": "stream",
     "text": [
      "GPU available: True (cuda), used: True\n",
      "TPU available: False, using: 0 TPU cores\n",
      "HPU available: False, using: 0 HPUs\n",
      "LOCAL_RANK: 0 - CUDA_VISIBLE_DEVICES: [0]\n",
      "\n",
      "  | Name            | Type             | Params | Mode \n",
      "-------------------------------------------------------------\n",
      "0 | criterion       | HuberLoss        | 0      | train\n",
      "1 | train_criterion | HuberLoss        | 0      | train\n",
      "2 | val_criterion   | HuberLoss        | 0      | train\n",
      "3 | train_metrics   | MetricCollection | 0      | train\n",
      "4 | val_metrics     | MetricCollection | 0      | train\n",
      "5 | res_blocks      | ModuleList       | 555 K  | train\n",
      "-------------------------------------------------------------\n",
      "555 K     Trainable params\n",
      "0         Non-trainable params\n",
      "555 K     Total params\n",
      "2.223     Total estimated model params size (MB)\n",
      "41        Modules in train mode\n",
      "0         Modules in eval mode\n"
     ]
    },
    {
     "data": {
      "text/plain": [
       "Sanity Checking: |          | 0/? [00:00<?, ?it/s]"
      ],
      "application/vnd.jupyter.widget-view+json": {
       "version_major": 2,
       "version_minor": 0,
       "model_id": "3df522c682de45f1931b1f4bba702c75"
      }
     },
     "metadata": {},
     "output_type": "display_data"
    },
    {
     "data": {
      "text/plain": [
       "Training: |          | 0/? [00:00<?, ?it/s]"
      ],
      "application/vnd.jupyter.widget-view+json": {
       "version_major": 2,
       "version_minor": 0,
       "model_id": "40b29211d68f4a839ca3c0c769cfd8ac"
      }
     },
     "metadata": {},
     "output_type": "display_data"
    },
    {
     "data": {
      "text/plain": [
       "Validation: |          | 0/? [00:00<?, ?it/s]"
      ],
      "application/vnd.jupyter.widget-view+json": {
       "version_major": 2,
       "version_minor": 0,
       "model_id": "15b92a9b924f48008584420d41d6e37f"
      }
     },
     "metadata": {},
     "output_type": "display_data"
    },
    {
     "name": "stderr",
     "output_type": "stream",
     "text": [
      "Metric val_loss improved. New best score: 0.015\n"
     ]
    },
    {
     "data": {
      "text/plain": [
       "Validation: |          | 0/? [00:00<?, ?it/s]"
      ],
      "application/vnd.jupyter.widget-view+json": {
       "version_major": 2,
       "version_minor": 0,
       "model_id": "c3ec155d20e2453fbd7f805e23d05621"
      }
     },
     "metadata": {},
     "output_type": "display_data"
    },
    {
     "name": "stderr",
     "output_type": "stream",
     "text": [
      "[I 2025-05-19 17:57:20,626] Trial 34 pruned. Trial was pruned at epoch 1.\n",
      "GPU available: True (cuda), used: True\n",
      "TPU available: False, using: 0 TPU cores\n",
      "HPU available: False, using: 0 HPUs\n",
      "LOCAL_RANK: 0 - CUDA_VISIBLE_DEVICES: [0]\n",
      "\n",
      "  | Name            | Type             | Params | Mode \n",
      "-------------------------------------------------------------\n",
      "0 | criterion       | HuberLoss        | 0      | train\n",
      "1 | train_criterion | HuberLoss        | 0      | train\n",
      "2 | val_criterion   | HuberLoss        | 0      | train\n",
      "3 | train_metrics   | MetricCollection | 0      | train\n",
      "4 | val_metrics     | MetricCollection | 0      | train\n",
      "5 | res_blocks      | ModuleList       | 443 K  | train\n",
      "-------------------------------------------------------------\n",
      "443 K     Trainable params\n",
      "0         Non-trainable params\n",
      "443 K     Total params\n",
      "1.775     Total estimated model params size (MB)\n",
      "63        Modules in train mode\n",
      "0         Modules in eval mode\n"
     ]
    },
    {
     "name": "stdout",
     "output_type": "stream",
     "text": [
      "Current value: 0.01393702483697015, Current params: {'input_chunk_length': 16, 'num_filters': 128, 'kernel_size': 8, 'num_layers': 3, 'dilation_base': 4, 'weight_norm': True, 'dropout': 0.2124660172652319, 'batch_size': 27, 'lr': 0.000697297680184878}\n",
      "Best value: 39.99407731033253, Best params: {'input_chunk_length': 20, 'num_filters': 109, 'kernel_size': 2, 'num_layers': 6, 'dilation_base': 4, 'weight_norm': True, 'dropout': 0.15531203611947797, 'batch_size': 29, 'lr': 0.0002474912028329941}\n",
      "\n",
      "Starting Trial 35\n",
      "Hyperparameters: {'input_chunk_length': 31, 'num_filters': 87, 'kernel_size': 7, 'num_layers': 5, 'dilation_base': 4, 'weight_norm': True, 'dropout': 0.3285379641560289, 'batch_size': 64, 'lr': 0.003095424325678034}\n",
      "\n",
      "Training the model...\n",
      "Train set: 6647 samples\n",
      "Validation set: 1662 samples\n"
     ]
    },
    {
     "data": {
      "text/plain": [
       "Sanity Checking: |          | 0/? [00:00<?, ?it/s]"
      ],
      "application/vnd.jupyter.widget-view+json": {
       "version_major": 2,
       "version_minor": 0,
       "model_id": "dbe9eb1ed1374c3fa6fff369cddd20bf"
      }
     },
     "metadata": {},
     "output_type": "display_data"
    },
    {
     "data": {
      "text/plain": [
       "Training: |          | 0/? [00:00<?, ?it/s]"
      ],
      "application/vnd.jupyter.widget-view+json": {
       "version_major": 2,
       "version_minor": 0,
       "model_id": "55972c6730a7465d9d5a34bf82387bb3"
      }
     },
     "metadata": {},
     "output_type": "display_data"
    },
    {
     "data": {
      "text/plain": [
       "Validation: |          | 0/? [00:00<?, ?it/s]"
      ],
      "application/vnd.jupyter.widget-view+json": {
       "version_major": 2,
       "version_minor": 0,
       "model_id": "da86a2a5aba44d6aa686589130ed119d"
      }
     },
     "metadata": {},
     "output_type": "display_data"
    },
    {
     "name": "stderr",
     "output_type": "stream",
     "text": [
      "[I 2025-05-19 17:57:51,411] Trial 35 pruned. Trial was pruned at epoch 0.\n",
      "[I 2025-05-19 17:57:51,437] Trial 36 finished with value: inf and parameters: {'input_chunk_length': 6, 'num_filters': 58, 'kernel_size': 8, 'num_layers': 2, 'dilation_base': 1, 'weight_norm': True, 'dropout': 0.37430060206369414, 'batch_size': 46, 'lr': 0.0006124463113260959}. Best is trial 2 with value: 39.99407731033253.\n",
      "GPU available: True (cuda), used: True\n",
      "TPU available: False, using: 0 TPU cores\n",
      "HPU available: False, using: 0 HPUs\n",
      "LOCAL_RANK: 0 - CUDA_VISIBLE_DEVICES: [0]\n",
      "\n",
      "  | Name            | Type             | Params | Mode \n",
      "-------------------------------------------------------------\n",
      "0 | criterion       | HuberLoss        | 0      | train\n",
      "1 | train_criterion | HuberLoss        | 0      | train\n",
      "2 | val_criterion   | HuberLoss        | 0      | train\n",
      "3 | train_metrics   | MetricCollection | 0      | train\n",
      "4 | val_metrics     | MetricCollection | 0      | train\n",
      "5 | res_blocks      | ModuleList       | 694 K  | train\n",
      "-------------------------------------------------------------\n",
      "694 K     Trainable params\n",
      "0         Non-trainable params\n",
      "694 K     Total params\n",
      "2.779     Total estimated model params size (MB)\n",
      "38        Modules in train mode\n",
      "0         Modules in eval mode\n"
     ]
    },
    {
     "name": "stdout",
     "output_type": "stream",
     "text": [
      "Current value: 0.017259482893285553, Current params: {'input_chunk_length': 31, 'num_filters': 87, 'kernel_size': 7, 'num_layers': 5, 'dilation_base': 4, 'weight_norm': True, 'dropout': 0.3285379641560289, 'batch_size': 64, 'lr': 0.003095424325678034}\n",
      "Best value: 39.99407731033253, Best params: {'input_chunk_length': 20, 'num_filters': 109, 'kernel_size': 2, 'num_layers': 6, 'dilation_base': 4, 'weight_norm': True, 'dropout': 0.15531203611947797, 'batch_size': 29, 'lr': 0.0002474912028329941}\n",
      "Current value: inf, Current params: {'input_chunk_length': 6, 'num_filters': 58, 'kernel_size': 8, 'num_layers': 2, 'dilation_base': 1, 'weight_norm': True, 'dropout': 0.37430060206369414, 'batch_size': 46, 'lr': 0.0006124463113260959}\n",
      "Best value: 39.99407731033253, Best params: {'input_chunk_length': 20, 'num_filters': 109, 'kernel_size': 2, 'num_layers': 6, 'dilation_base': 4, 'weight_norm': True, 'dropout': 0.15531203611947797, 'batch_size': 29, 'lr': 0.0002474912028329941}\n",
      "\n",
      "Starting Trial 37\n",
      "Hyperparameters: {'input_chunk_length': 24, 'num_filters': 106, 'kernel_size': 6, 'num_layers': 6, 'dilation_base': 3, 'weight_norm': False, 'dropout': 0.19268564767970922, 'batch_size': 34, 'lr': 0.00012336437380653078}\n",
      "\n",
      "Training the model...\n",
      "Train set: 6647 samples\n",
      "Validation set: 1662 samples\n"
     ]
    },
    {
     "data": {
      "text/plain": [
       "Sanity Checking: |          | 0/? [00:00<?, ?it/s]"
      ],
      "application/vnd.jupyter.widget-view+json": {
       "version_major": 2,
       "version_minor": 0,
       "model_id": "9911773f2fc04dd58b518bfa5708d866"
      }
     },
     "metadata": {},
     "output_type": "display_data"
    },
    {
     "data": {
      "text/plain": [
       "Training: |          | 0/? [00:00<?, ?it/s]"
      ],
      "application/vnd.jupyter.widget-view+json": {
       "version_major": 2,
       "version_minor": 0,
       "model_id": "2ad01edcbd1c4d258d0a3d9ef3f50b1c"
      }
     },
     "metadata": {},
     "output_type": "display_data"
    },
    {
     "data": {
      "text/plain": [
       "Validation: |          | 0/? [00:00<?, ?it/s]"
      ],
      "application/vnd.jupyter.widget-view+json": {
       "version_major": 2,
       "version_minor": 0,
       "model_id": "bf7cecaecd024f39add210a41110f6d3"
      }
     },
     "metadata": {},
     "output_type": "display_data"
    },
    {
     "name": "stderr",
     "output_type": "stream",
     "text": [
      "[I 2025-05-19 18:05:00,690] Trial 37 pruned. Trial was pruned at epoch 0.\n",
      "GPU available: True (cuda), used: True\n",
      "TPU available: False, using: 0 TPU cores\n",
      "HPU available: False, using: 0 HPUs\n",
      "LOCAL_RANK: 0 - CUDA_VISIBLE_DEVICES: [0]\n",
      "\n",
      "  | Name            | Type             | Params | Mode \n",
      "-------------------------------------------------------------\n",
      "0 | criterion       | HuberLoss        | 0      | train\n",
      "1 | train_criterion | HuberLoss        | 0      | train\n",
      "2 | val_criterion   | HuberLoss        | 0      | train\n",
      "3 | train_metrics   | MetricCollection | 0      | train\n",
      "4 | val_metrics     | MetricCollection | 0      | train\n",
      "5 | res_blocks      | ModuleList       | 7.2 K  | train\n",
      "-------------------------------------------------------------\n",
      "7.2 K     Trainable params\n",
      "0         Non-trainable params\n",
      "7.2 K     Total params\n",
      "0.029     Total estimated model params size (MB)\n",
      "18        Modules in train mode\n",
      "0         Modules in eval mode\n"
     ]
    },
    {
     "name": "stdout",
     "output_type": "stream",
     "text": [
      "Current value: 0.021485054188167034, Current params: {'input_chunk_length': 24, 'num_filters': 106, 'kernel_size': 6, 'num_layers': 6, 'dilation_base': 3, 'weight_norm': False, 'dropout': 0.19268564767970922, 'batch_size': 34, 'lr': 0.00012336437380653078}\n",
      "Best value: 39.99407731033253, Best params: {'input_chunk_length': 20, 'num_filters': 109, 'kernel_size': 2, 'num_layers': 6, 'dilation_base': 4, 'weight_norm': True, 'dropout': 0.15531203611947797, 'batch_size': 29, 'lr': 0.0002474912028329941}\n",
      "\n",
      "Starting Trial 38\n",
      "Hyperparameters: {'input_chunk_length': 12, 'num_filters': 38, 'kernel_size': 7, 'num_layers': 1, 'dilation_base': 3, 'weight_norm': True, 'dropout': 0.27407294033941726, 'batch_size': 43, 'lr': 0.006012234012626477}\n",
      "\n",
      "Training the model...\n",
      "Train set: 6647 samples\n",
      "Validation set: 1662 samples\n"
     ]
    },
    {
     "data": {
      "text/plain": [
       "Sanity Checking: |          | 0/? [00:00<?, ?it/s]"
      ],
      "application/vnd.jupyter.widget-view+json": {
       "version_major": 2,
       "version_minor": 0,
       "model_id": "c68eb04241164fcabb37a35100eae155"
      }
     },
     "metadata": {},
     "output_type": "display_data"
    },
    {
     "data": {
      "text/plain": [
       "Training: |          | 0/? [00:00<?, ?it/s]"
      ],
      "application/vnd.jupyter.widget-view+json": {
       "version_major": 2,
       "version_minor": 0,
       "model_id": "15410c3576f540dcadf28363a17c77a6"
      }
     },
     "metadata": {},
     "output_type": "display_data"
    },
    {
     "data": {
      "text/plain": [
       "Validation: |          | 0/? [00:00<?, ?it/s]"
      ],
      "application/vnd.jupyter.widget-view+json": {
       "version_major": 2,
       "version_minor": 0,
       "model_id": "7012a217e8534e5586376a9adc79694c"
      }
     },
     "metadata": {},
     "output_type": "display_data"
    },
    {
     "name": "stderr",
     "output_type": "stream",
     "text": [
      "[I 2025-05-19 18:05:02,627] Trial 38 pruned. Trial was pruned at epoch 0.\n",
      "GPU available: True (cuda), used: True\n",
      "TPU available: False, using: 0 TPU cores\n",
      "HPU available: False, using: 0 HPUs\n",
      "LOCAL_RANK: 0 - CUDA_VISIBLE_DEVICES: [0]\n",
      "\n",
      "  | Name            | Type             | Params | Mode \n",
      "-------------------------------------------------------------\n",
      "0 | criterion       | HuberLoss        | 0      | train\n",
      "1 | train_criterion | HuberLoss        | 0      | train\n",
      "2 | val_criterion   | HuberLoss        | 0      | train\n",
      "3 | train_metrics   | MetricCollection | 0      | train\n",
      "4 | val_metrics     | MetricCollection | 0      | train\n",
      "5 | res_blocks      | ModuleList       | 214 K  | train\n",
      "-------------------------------------------------------------\n",
      "214 K     Trainable params\n",
      "0         Non-trainable params\n",
      "214 K     Total params\n",
      "0.860     Total estimated model params size (MB)\n",
      "28        Modules in train mode\n",
      "0         Modules in eval mode\n"
     ]
    },
    {
     "name": "stdout",
     "output_type": "stream",
     "text": [
      "Current value: 0.028381703494113727, Current params: {'input_chunk_length': 12, 'num_filters': 38, 'kernel_size': 7, 'num_layers': 1, 'dilation_base': 3, 'weight_norm': True, 'dropout': 0.27407294033941726, 'batch_size': 43, 'lr': 0.006012234012626477}\n",
      "Best value: 39.99407731033253, Best params: {'input_chunk_length': 20, 'num_filters': 109, 'kernel_size': 2, 'num_layers': 6, 'dilation_base': 4, 'weight_norm': True, 'dropout': 0.15531203611947797, 'batch_size': 29, 'lr': 0.0002474912028329941}\n",
      "\n",
      "Starting Trial 39\n",
      "Hyperparameters: {'input_chunk_length': 30, 'num_filters': 69, 'kernel_size': 7, 'num_layers': 4, 'dilation_base': 2, 'weight_norm': False, 'dropout': 0.11786485503348226, 'batch_size': 39, 'lr': 0.00091076685734212}\n",
      "\n",
      "Training the model...\n",
      "Train set: 6647 samples\n",
      "Validation set: 1662 samples\n"
     ]
    },
    {
     "data": {
      "text/plain": [
       "Sanity Checking: |          | 0/? [00:00<?, ?it/s]"
      ],
      "application/vnd.jupyter.widget-view+json": {
       "version_major": 2,
       "version_minor": 0,
       "model_id": "5d38ff58e92148e7a9f4fb0951d46b36"
      }
     },
     "metadata": {},
     "output_type": "display_data"
    },
    {
     "data": {
      "text/plain": [
       "Training: |          | 0/? [00:00<?, ?it/s]"
      ],
      "application/vnd.jupyter.widget-view+json": {
       "version_major": 2,
       "version_minor": 0,
       "model_id": "4ba6c6df8f104081961e47a04b4b5148"
      }
     },
     "metadata": {},
     "output_type": "display_data"
    },
    {
     "data": {
      "text/plain": [
       "Validation: |          | 0/? [00:00<?, ?it/s]"
      ],
      "application/vnd.jupyter.widget-view+json": {
       "version_major": 2,
       "version_minor": 0,
       "model_id": "c4e46f0e2ad549c795577638ca8f7aa5"
      }
     },
     "metadata": {},
     "output_type": "display_data"
    },
    {
     "name": "stderr",
     "output_type": "stream",
     "text": [
      "[I 2025-05-19 18:05:20,604] Trial 39 pruned. Trial was pruned at epoch 0.\n",
      "GPU available: True (cuda), used: True\n",
      "TPU available: False, using: 0 TPU cores\n",
      "HPU available: False, using: 0 HPUs\n",
      "LOCAL_RANK: 0 - CUDA_VISIBLE_DEVICES: [0]\n",
      "\n",
      "  | Name            | Type             | Params | Mode \n",
      "-------------------------------------------------------------\n",
      "0 | criterion       | HuberLoss        | 0      | train\n",
      "1 | train_criterion | HuberLoss        | 0      | train\n",
      "2 | val_criterion   | HuberLoss        | 0      | train\n",
      "3 | train_metrics   | MetricCollection | 0      | train\n",
      "4 | val_metrics     | MetricCollection | 0      | train\n",
      "5 | res_blocks      | ModuleList       | 53.9 K | train\n",
      "-------------------------------------------------------------\n",
      "53.9 K    Trainable params\n",
      "0         Non-trainable params\n",
      "53.9 K    Total params\n",
      "0.216     Total estimated model params size (MB)\n",
      "30        Modules in train mode\n",
      "0         Modules in eval mode\n"
     ]
    },
    {
     "name": "stdout",
     "output_type": "stream",
     "text": [
      "Current value: 0.01819223853609742, Current params: {'input_chunk_length': 30, 'num_filters': 69, 'kernel_size': 7, 'num_layers': 4, 'dilation_base': 2, 'weight_norm': False, 'dropout': 0.11786485503348226, 'batch_size': 39, 'lr': 0.00091076685734212}\n",
      "Best value: 39.99407731033253, Best params: {'input_chunk_length': 20, 'num_filters': 109, 'kernel_size': 2, 'num_layers': 6, 'dilation_base': 4, 'weight_norm': True, 'dropout': 0.15531203611947797, 'batch_size': 29, 'lr': 0.0002474912028329941}\n",
      "\n",
      "Starting Trial 40\n",
      "Hyperparameters: {'input_chunk_length': 17, 'num_filters': 51, 'kernel_size': 8, 'num_layers': 2, 'dilation_base': 4, 'weight_norm': True, 'dropout': 0.3513810738556708, 'batch_size': 57, 'lr': 0.00035690152706827245}\n",
      "\n",
      "Training the model...\n",
      "Train set: 6647 samples\n",
      "Validation set: 1662 samples\n"
     ]
    },
    {
     "data": {
      "text/plain": [
       "Sanity Checking: |          | 0/? [00:00<?, ?it/s]"
      ],
      "application/vnd.jupyter.widget-view+json": {
       "version_major": 2,
       "version_minor": 0,
       "model_id": "b56e89499cf84e97a21beb644913f301"
      }
     },
     "metadata": {},
     "output_type": "display_data"
    },
    {
     "data": {
      "text/plain": [
       "Training: |          | 0/? [00:00<?, ?it/s]"
      ],
      "application/vnd.jupyter.widget-view+json": {
       "version_major": 2,
       "version_minor": 0,
       "model_id": "2c920e50750b4bab98319a3b15b1568a"
      }
     },
     "metadata": {},
     "output_type": "display_data"
    },
    {
     "data": {
      "text/plain": [
       "Validation: |          | 0/? [00:00<?, ?it/s]"
      ],
      "application/vnd.jupyter.widget-view+json": {
       "version_major": 2,
       "version_minor": 0,
       "model_id": "4fd7f6b9b68d471c95cdad58e4d92b88"
      }
     },
     "metadata": {},
     "output_type": "display_data"
    },
    {
     "name": "stderr",
     "output_type": "stream",
     "text": [
      "[I 2025-05-19 18:05:25,795] Trial 40 pruned. Trial was pruned at epoch 0.\n",
      "GPU available: True (cuda), used: True\n",
      "TPU available: False, using: 0 TPU cores\n",
      "HPU available: False, using: 0 HPUs\n",
      "LOCAL_RANK: 0 - CUDA_VISIBLE_DEVICES: [0]\n",
      "\n",
      "  | Name            | Type             | Params | Mode \n",
      "-------------------------------------------------------------\n",
      "0 | criterion       | HuberLoss        | 0      | train\n",
      "1 | train_criterion | HuberLoss        | 0      | train\n",
      "2 | val_criterion   | HuberLoss        | 0      | train\n",
      "3 | train_metrics   | MetricCollection | 0      | train\n",
      "4 | val_metrics     | MetricCollection | 0      | train\n",
      "5 | res_blocks      | ModuleList       | 110 K  | train\n",
      "-------------------------------------------------------------\n",
      "110 K     Trainable params\n",
      "0         Non-trainable params\n",
      "110 K     Total params\n",
      "0.443     Total estimated model params size (MB)\n",
      "41        Modules in train mode\n",
      "0         Modules in eval mode\n"
     ]
    },
    {
     "name": "stdout",
     "output_type": "stream",
     "text": [
      "Current value: 0.0309047240255979, Current params: {'input_chunk_length': 17, 'num_filters': 51, 'kernel_size': 8, 'num_layers': 2, 'dilation_base': 4, 'weight_norm': True, 'dropout': 0.3513810738556708, 'batch_size': 57, 'lr': 0.00035690152706827245}\n",
      "Best value: 39.99407731033253, Best params: {'input_chunk_length': 20, 'num_filters': 109, 'kernel_size': 2, 'num_layers': 6, 'dilation_base': 4, 'weight_norm': True, 'dropout': 0.15531203611947797, 'batch_size': 29, 'lr': 0.0002474912028329941}\n",
      "\n",
      "Starting Trial 41\n",
      "Hyperparameters: {'input_chunk_length': 17, 'num_filters': 64, 'kernel_size': 6, 'num_layers': 3, 'dilation_base': 4, 'weight_norm': True, 'dropout': 0.22256632238124527, 'batch_size': 24, 'lr': 0.001055183798584035}\n",
      "\n",
      "Training the model...\n",
      "Train set: 6647 samples\n",
      "Validation set: 1662 samples\n"
     ]
    },
    {
     "data": {
      "text/plain": [
       "Sanity Checking: |          | 0/? [00:00<?, ?it/s]"
      ],
      "application/vnd.jupyter.widget-view+json": {
       "version_major": 2,
       "version_minor": 0,
       "model_id": "5c725ce84ea14ca5a13017d063ed1f8b"
      }
     },
     "metadata": {},
     "output_type": "display_data"
    },
    {
     "data": {
      "text/plain": [
       "Training: |          | 0/? [00:00<?, ?it/s]"
      ],
      "application/vnd.jupyter.widget-view+json": {
       "version_major": 2,
       "version_minor": 0,
       "model_id": "17fe0510d4dc4eada4d3e7a9b712a284"
      }
     },
     "metadata": {},
     "output_type": "display_data"
    },
    {
     "data": {
      "text/plain": [
       "Validation: |          | 0/? [00:00<?, ?it/s]"
      ],
      "application/vnd.jupyter.widget-view+json": {
       "version_major": 2,
       "version_minor": 0,
       "model_id": "e14c0e10257841f99366f54691c7df46"
      }
     },
     "metadata": {},
     "output_type": "display_data"
    },
    {
     "name": "stderr",
     "output_type": "stream",
     "text": [
      "[I 2025-05-19 18:05:37,195] Trial 41 pruned. Trial was pruned at epoch 0.\n"
     ]
    },
    {
     "name": "stdout",
     "output_type": "stream",
     "text": [
      "Current value: 0.01809912821408316, Current params: {'input_chunk_length': 17, 'num_filters': 64, 'kernel_size': 6, 'num_layers': 3, 'dilation_base': 4, 'weight_norm': True, 'dropout': 0.22256632238124527, 'batch_size': 24, 'lr': 0.001055183798584035}\n",
      "Best value: 39.99407731033253, Best params: {'input_chunk_length': 20, 'num_filters': 109, 'kernel_size': 2, 'num_layers': 6, 'dilation_base': 4, 'weight_norm': True, 'dropout': 0.15531203611947797, 'batch_size': 29, 'lr': 0.0002474912028329941}\n",
      "\n",
      "Starting Trial 42\n",
      "Hyperparameters: {'input_chunk_length': 19, 'num_filters': 32, 'kernel_size': 6, 'num_layers': 3, 'dilation_base': 4, 'weight_norm': True, 'dropout': 0.23759400211430587, 'batch_size': 28, 'lr': 0.0015858647215234354}\n",
      "\n",
      "Training the model...\n",
      "Train set: 6647 samples\n",
      "Validation set: 1662 samples\n"
     ]
    },
    {
     "name": "stderr",
     "output_type": "stream",
     "text": [
      "GPU available: True (cuda), used: True\n",
      "TPU available: False, using: 0 TPU cores\n",
      "HPU available: False, using: 0 HPUs\n",
      "LOCAL_RANK: 0 - CUDA_VISIBLE_DEVICES: [0]\n",
      "\n",
      "  | Name            | Type             | Params | Mode \n",
      "-------------------------------------------------------------\n",
      "0 | criterion       | HuberLoss        | 0      | train\n",
      "1 | train_criterion | HuberLoss        | 0      | train\n",
      "2 | val_criterion   | HuberLoss        | 0      | train\n",
      "3 | train_metrics   | MetricCollection | 0      | train\n",
      "4 | val_metrics     | MetricCollection | 0      | train\n",
      "5 | res_blocks      | ModuleList       | 30.8 K | train\n",
      "-------------------------------------------------------------\n",
      "30.8 K    Trainable params\n",
      "0         Non-trainable params\n",
      "30.8 K    Total params\n",
      "0.123     Total estimated model params size (MB)\n",
      "41        Modules in train mode\n",
      "0         Modules in eval mode\n"
     ]
    },
    {
     "data": {
      "text/plain": [
       "Sanity Checking: |          | 0/? [00:00<?, ?it/s]"
      ],
      "application/vnd.jupyter.widget-view+json": {
       "version_major": 2,
       "version_minor": 0,
       "model_id": "fa642793d27b424ca6954c6f1acdaaa1"
      }
     },
     "metadata": {},
     "output_type": "display_data"
    },
    {
     "data": {
      "text/plain": [
       "Training: |          | 0/? [00:00<?, ?it/s]"
      ],
      "application/vnd.jupyter.widget-view+json": {
       "version_major": 2,
       "version_minor": 0,
       "model_id": "9b94ac4e94c14e0e907d572a25b68641"
      }
     },
     "metadata": {},
     "output_type": "display_data"
    },
    {
     "data": {
      "text/plain": [
       "Validation: |          | 0/? [00:00<?, ?it/s]"
      ],
      "application/vnd.jupyter.widget-view+json": {
       "version_major": 2,
       "version_minor": 0,
       "model_id": "6d8445d153094e378bc1fb2116e65b4b"
      }
     },
     "metadata": {},
     "output_type": "display_data"
    },
    {
     "name": "stderr",
     "output_type": "stream",
     "text": [
      "[I 2025-05-19 18:06:39,874] Trial 42 pruned. Trial was pruned at epoch 0.\n",
      "GPU available: True (cuda), used: True\n",
      "TPU available: False, using: 0 TPU cores\n",
      "HPU available: False, using: 0 HPUs\n",
      "LOCAL_RANK: 0 - CUDA_VISIBLE_DEVICES: [0]\n",
      "\n",
      "  | Name            | Type             | Params | Mode \n",
      "-------------------------------------------------------------\n",
      "0 | criterion       | HuberLoss        | 0      | train\n",
      "1 | train_criterion | HuberLoss        | 0      | train\n",
      "2 | val_criterion   | HuberLoss        | 0      | train\n",
      "3 | train_metrics   | MetricCollection | 0      | train\n",
      "4 | val_metrics     | MetricCollection | 0      | train\n",
      "5 | res_blocks      | ModuleList       | 236 K  | train\n",
      "-------------------------------------------------------------\n",
      "236 K     Trainable params\n",
      "0         Non-trainable params\n",
      "236 K     Total params\n",
      "0.945     Total estimated model params size (MB)\n",
      "41        Modules in train mode\n",
      "0         Modules in eval mode\n"
     ]
    },
    {
     "name": "stdout",
     "output_type": "stream",
     "text": [
      "Current value: 0.022819596573561134, Current params: {'input_chunk_length': 19, 'num_filters': 32, 'kernel_size': 6, 'num_layers': 3, 'dilation_base': 4, 'weight_norm': True, 'dropout': 0.23759400211430587, 'batch_size': 28, 'lr': 0.0015858647215234354}\n",
      "Best value: 39.99407731033253, Best params: {'input_chunk_length': 20, 'num_filters': 109, 'kernel_size': 2, 'num_layers': 6, 'dilation_base': 4, 'weight_norm': True, 'dropout': 0.15531203611947797, 'batch_size': 29, 'lr': 0.0002474912028329941}\n",
      "\n",
      "Starting Trial 43\n",
      "Hyperparameters: {'input_chunk_length': 23, 'num_filters': 88, 'kernel_size': 7, 'num_layers': 3, 'dilation_base': 4, 'weight_norm': True, 'dropout': 0.26397898905109446, 'batch_size': 21, 'lr': 0.0010349756353691389}\n",
      "\n",
      "Training the model...\n",
      "Train set: 6647 samples\n",
      "Validation set: 1662 samples\n"
     ]
    },
    {
     "data": {
      "text/plain": [
       "Sanity Checking: |          | 0/? [00:00<?, ?it/s]"
      ],
      "application/vnd.jupyter.widget-view+json": {
       "version_major": 2,
       "version_minor": 0,
       "model_id": "066efe040dd4473eaccfd1d71cbe42e2"
      }
     },
     "metadata": {},
     "output_type": "display_data"
    },
    {
     "data": {
      "text/plain": [
       "Training: |          | 0/? [00:00<?, ?it/s]"
      ],
      "application/vnd.jupyter.widget-view+json": {
       "version_major": 2,
       "version_minor": 0,
       "model_id": "244327d2752e4013ad71ad0f22e85878"
      }
     },
     "metadata": {},
     "output_type": "display_data"
    },
    {
     "data": {
      "text/plain": [
       "Validation: |          | 0/? [00:00<?, ?it/s]"
      ],
      "application/vnd.jupyter.widget-view+json": {
       "version_major": 2,
       "version_minor": 0,
       "model_id": "14b13f01c35546e38fd5216939e54600"
      }
     },
     "metadata": {},
     "output_type": "display_data"
    },
    {
     "name": "stderr",
     "output_type": "stream",
     "text": [
      "Metric val_loss improved. New best score: 0.015\n"
     ]
    },
    {
     "data": {
      "text/plain": [
       "Validation: |          | 0/? [00:00<?, ?it/s]"
      ],
      "application/vnd.jupyter.widget-view+json": {
       "version_major": 2,
       "version_minor": 0,
       "model_id": "eda496264dcd4407a34c9ffb91bed8e3"
      }
     },
     "metadata": {},
     "output_type": "display_data"
    },
    {
     "name": "stderr",
     "output_type": "stream",
     "text": [
      "Metric val_loss improved by 0.001 >= min_delta = 0.001. New best score: 0.013\n"
     ]
    },
    {
     "data": {
      "text/plain": [
       "Validation: |          | 0/? [00:00<?, ?it/s]"
      ],
      "application/vnd.jupyter.widget-view+json": {
       "version_major": 2,
       "version_minor": 0,
       "model_id": "9fd5cc072f2144938961524319e55064"
      }
     },
     "metadata": {},
     "output_type": "display_data"
    },
    {
     "data": {
      "text/plain": [
       "Validation: |          | 0/? [00:00<?, ?it/s]"
      ],
      "application/vnd.jupyter.widget-view+json": {
       "version_major": 2,
       "version_minor": 0,
       "model_id": "19e338c6ced74af59b1def302700dc9f"
      }
     },
     "metadata": {},
     "output_type": "display_data"
    },
    {
     "name": "stderr",
     "output_type": "stream",
     "text": [
      "Metric val_loss improved by 0.001 >= min_delta = 0.001. New best score: 0.012\n"
     ]
    },
    {
     "data": {
      "text/plain": [
       "Validation: |          | 0/? [00:00<?, ?it/s]"
      ],
      "application/vnd.jupyter.widget-view+json": {
       "version_major": 2,
       "version_minor": 0,
       "model_id": "d9e224ccc81a457eb77cdbea97856a70"
      }
     },
     "metadata": {},
     "output_type": "display_data"
    },
    {
     "name": "stderr",
     "output_type": "stream",
     "text": [
      "[I 2025-05-19 18:07:52,275] Trial 43 pruned. Trial was pruned at epoch 4.\n",
      "GPU available: True (cuda), used: True\n",
      "TPU available: False, using: 0 TPU cores\n",
      "HPU available: False, using: 0 HPUs\n",
      "LOCAL_RANK: 0 - CUDA_VISIBLE_DEVICES: [0]\n",
      "\n",
      "  | Name            | Type             | Params | Mode \n",
      "-------------------------------------------------------------\n",
      "0 | criterion       | HuberLoss        | 0      | train\n",
      "1 | train_criterion | HuberLoss        | 0      | train\n",
      "2 | val_criterion   | HuberLoss        | 0      | train\n",
      "3 | train_metrics   | MetricCollection | 0      | train\n",
      "4 | val_metrics     | MetricCollection | 0      | train\n",
      "5 | res_blocks      | ModuleList       | 381 K  | train\n",
      "-------------------------------------------------------------\n",
      "381 K     Trainable params\n",
      "0         Non-trainable params\n",
      "381 K     Total params\n",
      "1.527     Total estimated model params size (MB)\n",
      "52        Modules in train mode\n",
      "0         Modules in eval mode\n"
     ]
    },
    {
     "name": "stdout",
     "output_type": "stream",
     "text": [
      "Current value: 0.012235577851286455, Current params: {'input_chunk_length': 23, 'num_filters': 88, 'kernel_size': 7, 'num_layers': 3, 'dilation_base': 4, 'weight_norm': True, 'dropout': 0.26397898905109446, 'batch_size': 21, 'lr': 0.0010349756353691389}\n",
      "Best value: 39.99407731033253, Best params: {'input_chunk_length': 20, 'num_filters': 109, 'kernel_size': 2, 'num_layers': 6, 'dilation_base': 4, 'weight_norm': True, 'dropout': 0.15531203611947797, 'batch_size': 29, 'lr': 0.0002474912028329941}\n",
      "\n",
      "Starting Trial 44\n",
      "Hyperparameters: {'input_chunk_length': 13, 'num_filters': 110, 'kernel_size': 5, 'num_layers': 4, 'dilation_base': 4, 'weight_norm': True, 'dropout': 0.23549338752986762, 'batch_size': 25, 'lr': 0.0025825771154089246}\n",
      "\n",
      "Training the model...\n",
      "Train set: 6647 samples\n",
      "Validation set: 1662 samples\n"
     ]
    },
    {
     "data": {
      "text/plain": [
       "Sanity Checking: |          | 0/? [00:00<?, ?it/s]"
      ],
      "application/vnd.jupyter.widget-view+json": {
       "version_major": 2,
       "version_minor": 0,
       "model_id": "29d2b6190a6e4da8b5510353e5ff972c"
      }
     },
     "metadata": {},
     "output_type": "display_data"
    },
    {
     "data": {
      "text/plain": [
       "Training: |          | 0/? [00:00<?, ?it/s]"
      ],
      "application/vnd.jupyter.widget-view+json": {
       "version_major": 2,
       "version_minor": 0,
       "model_id": "c49480c8058f42cb9a725421692144cc"
      }
     },
     "metadata": {},
     "output_type": "display_data"
    },
    {
     "data": {
      "text/plain": [
       "Validation: |          | 0/? [00:00<?, ?it/s]"
      ],
      "application/vnd.jupyter.widget-view+json": {
       "version_major": 2,
       "version_minor": 0,
       "model_id": "5fba2fd6ec2940e7b3f64a53a0b013b8"
      }
     },
     "metadata": {},
     "output_type": "display_data"
    },
    {
     "name": "stderr",
     "output_type": "stream",
     "text": [
      "Metric val_loss improved. New best score: 0.015\n"
     ]
    },
    {
     "data": {
      "text/plain": [
       "Validation: |          | 0/? [00:00<?, ?it/s]"
      ],
      "application/vnd.jupyter.widget-view+json": {
       "version_major": 2,
       "version_minor": 0,
       "model_id": "84328b9786704d3bab82aad57cef19eb"
      }
     },
     "metadata": {},
     "output_type": "display_data"
    },
    {
     "name": "stderr",
     "output_type": "stream",
     "text": [
      "Metric val_loss improved by 0.003 >= min_delta = 0.001. New best score: 0.012\n"
     ]
    },
    {
     "data": {
      "text/plain": [
       "Validation: |          | 0/? [00:00<?, ?it/s]"
      ],
      "application/vnd.jupyter.widget-view+json": {
       "version_major": 2,
       "version_minor": 0,
       "model_id": "b01d3738f69d4410b7f21c945220548b"
      }
     },
     "metadata": {},
     "output_type": "display_data"
    },
    {
     "data": {
      "text/plain": [
       "Validation: |          | 0/? [00:00<?, ?it/s]"
      ],
      "application/vnd.jupyter.widget-view+json": {
       "version_major": 2,
       "version_minor": 0,
       "model_id": "f6f02fb27c044284a2ef22af911bd2e0"
      }
     },
     "metadata": {},
     "output_type": "display_data"
    },
    {
     "data": {
      "text/plain": [
       "Validation: |          | 0/? [00:00<?, ?it/s]"
      ],
      "application/vnd.jupyter.widget-view+json": {
       "version_major": 2,
       "version_minor": 0,
       "model_id": "bad2368f4c9249019eb721c9d39b24c9"
      }
     },
     "metadata": {},
     "output_type": "display_data"
    },
    {
     "data": {
      "text/plain": [
       "Validation: |          | 0/? [00:00<?, ?it/s]"
      ],
      "application/vnd.jupyter.widget-view+json": {
       "version_major": 2,
       "version_minor": 0,
       "model_id": "bf883f1bb4894328a2ff284b6ce4e370"
      }
     },
     "metadata": {},
     "output_type": "display_data"
    },
    {
     "data": {
      "text/plain": [
       "Validation: |          | 0/? [00:00<?, ?it/s]"
      ],
      "application/vnd.jupyter.widget-view+json": {
       "version_major": 2,
       "version_minor": 0,
       "model_id": "ae3b2bef0c2f49ecbbbe9fecd2f2b260"
      }
     },
     "metadata": {},
     "output_type": "display_data"
    },
    {
     "data": {
      "text/plain": [
       "Validation: |          | 0/? [00:00<?, ?it/s]"
      ],
      "application/vnd.jupyter.widget-view+json": {
       "version_major": 2,
       "version_minor": 0,
       "model_id": "612b193da6e54deca52510860a606550"
      }
     },
     "metadata": {},
     "output_type": "display_data"
    },
    {
     "data": {
      "text/plain": [
       "Validation: |          | 0/? [00:00<?, ?it/s]"
      ],
      "application/vnd.jupyter.widget-view+json": {
       "version_major": 2,
       "version_minor": 0,
       "model_id": "75858a6966dd4b38a909b9503a379a83"
      }
     },
     "metadata": {},
     "output_type": "display_data"
    },
    {
     "name": "stderr",
     "output_type": "stream",
     "text": [
      "Monitored metric val_loss = nan is not finite. Previous best value was 0.012. Signaling Trainer to stop.\n",
      "GPU available: True (cuda), used: True\n",
      "TPU available: False, using: 0 TPU cores\n",
      "HPU available: False, using: 0 HPUs\n",
      "LOCAL_RANK: 0 - CUDA_VISIBLE_DEVICES: [0]\n"
     ]
    },
    {
     "name": "stdout",
     "output_type": "stream",
     "text": [
      "Model loaded from checkpoint for trial 44\n"
     ]
    },
    {
     "name": "stderr",
     "output_type": "stream",
     "text": [
      "/home/eduardo/Documentos/Water-Cycle-Neural-Network/venv/lib/python3.12/site-packages/pytorch_lightning/trainer/connectors/data_connector.py:425: The 'predict_dataloader' does not have many workers which may be a bottleneck. Consider increasing the value of the `num_workers` argument` to `num_workers=11` in the `DataLoader` to improve performance.\n",
      "[I 2025-05-19 18:11:44,836] Trial 44 finished with value: 43.03736726028847 and parameters: {'input_chunk_length': 13, 'num_filters': 110, 'kernel_size': 5, 'num_layers': 4, 'dilation_base': 4, 'weight_norm': True, 'dropout': 0.23549338752986762, 'batch_size': 25, 'lr': 0.0025825771154089246}. Best is trial 2 with value: 39.99407731033253.\n",
      "[I 2025-05-19 18:11:44,860] Trial 45 finished with value: inf and parameters: {'input_chunk_length': 3, 'num_filters': 17, 'kernel_size': 6, 'num_layers': 3, 'dilation_base': 4, 'weight_norm': True, 'dropout': 0.2947393126458905, 'batch_size': 32, 'lr': 0.0005864663804472343}. Best is trial 2 with value: 39.99407731033253.\n",
      "GPU available: True (cuda), used: True\n",
      "TPU available: False, using: 0 TPU cores\n",
      "HPU available: False, using: 0 HPUs\n",
      "LOCAL_RANK: 0 - CUDA_VISIBLE_DEVICES: [0]\n",
      "\n",
      "  | Name            | Type             | Params | Mode \n",
      "-------------------------------------------------------------\n",
      "0 | criterion       | HuberLoss        | 0      | train\n",
      "1 | train_criterion | HuberLoss        | 0      | train\n",
      "2 | val_criterion   | HuberLoss        | 0      | train\n",
      "3 | train_metrics   | MetricCollection | 0      | train\n",
      "4 | val_metrics     | MetricCollection | 0      | train\n",
      "5 | res_blocks      | ModuleList       | 581 K  | train\n",
      "-------------------------------------------------------------\n",
      "581 K     Trainable params\n",
      "0         Non-trainable params\n",
      "581 K     Total params\n",
      "2.324     Total estimated model params size (MB)\n",
      "52        Modules in train mode\n",
      "0         Modules in eval mode\n"
     ]
    },
    {
     "name": "stdout",
     "output_type": "stream",
     "text": [
      "Starting time series consistency verification...\n",
      "\n",
      "Performance metrics:\n",
      "                                   MSE       RMSE        MAE         R2  \\\n",
      "Temperature                   0.410958   0.641060   0.433055   0.879284   \n",
      "Precipitation_accumulated    37.660519   6.136817   5.080301 -38.678422   \n",
      "Humidity                      3.807765   1.951350   1.533515   0.941445   \n",
      "Wind_Speed_kmh                0.064984   0.254920   0.111097   0.809042   \n",
      "Soil_Moisture              8884.290849  94.256516  26.443249   0.987994   \n",
      "Soil_Temperature              0.475518   0.689578   0.521799   0.915271   \n",
      "Wind_Dir_Sin                  0.043309   0.208108   0.098056   0.730361   \n",
      "Wind_Dir_Cos                  0.040939   0.202334   0.090348   0.857401   \n",
      "\n",
      "                                SMAPE  \n",
      "Temperature                  7.930440  \n",
      "Precipitation_accumulated    1.113490  \n",
      "Humidity                     1.832982  \n",
      "Wind_Speed_kmh             148.055185  \n",
      "Soil_Moisture                0.421196  \n",
      "Soil_Temperature            15.358884  \n",
      "Wind_Dir_Sin               140.922976  \n",
      "Wind_Dir_Cos                28.663785  \n",
      "The SMAPE for this fold was 43.03736726028847\n",
      "Results for trial 44 saved to optuna_iteration_metrics/trial_44.json\n",
      "Current value: 43.03736726028847, Current params: {'input_chunk_length': 13, 'num_filters': 110, 'kernel_size': 5, 'num_layers': 4, 'dilation_base': 4, 'weight_norm': True, 'dropout': 0.23549338752986762, 'batch_size': 25, 'lr': 0.0025825771154089246}\n",
      "Best value: 39.99407731033253, Best params: {'input_chunk_length': 20, 'num_filters': 109, 'kernel_size': 2, 'num_layers': 6, 'dilation_base': 4, 'weight_norm': True, 'dropout': 0.15531203611947797, 'batch_size': 29, 'lr': 0.0002474912028329941}\n",
      "Current value: inf, Current params: {'input_chunk_length': 3, 'num_filters': 17, 'kernel_size': 6, 'num_layers': 3, 'dilation_base': 4, 'weight_norm': True, 'dropout': 0.2947393126458905, 'batch_size': 32, 'lr': 0.0005864663804472343}\n",
      "Best value: 39.99407731033253, Best params: {'input_chunk_length': 20, 'num_filters': 109, 'kernel_size': 2, 'num_layers': 6, 'dilation_base': 4, 'weight_norm': True, 'dropout': 0.15531203611947797, 'batch_size': 29, 'lr': 0.0002474912028329941}\n",
      "\n",
      "Starting Trial 46\n",
      "Hyperparameters: {'input_chunk_length': 9, 'num_filters': 115, 'kernel_size': 7, 'num_layers': 4, 'dilation_base': 4, 'weight_norm': True, 'dropout': 0.1522735994937656, 'batch_size': 16, 'lr': 0.0017537173892029118}\n",
      "\n",
      "Training the model...\n",
      "Train set: 6647 samples\n",
      "Validation set: 1662 samples\n"
     ]
    },
    {
     "data": {
      "text/plain": [
       "Sanity Checking: |          | 0/? [00:00<?, ?it/s]"
      ],
      "application/vnd.jupyter.widget-view+json": {
       "version_major": 2,
       "version_minor": 0,
       "model_id": "a46903ce8eb847baa0b9cfc7c6fe7c25"
      }
     },
     "metadata": {},
     "output_type": "display_data"
    },
    {
     "data": {
      "text/plain": [
       "Training: |          | 0/? [00:00<?, ?it/s]"
      ],
      "application/vnd.jupyter.widget-view+json": {
       "version_major": 2,
       "version_minor": 0,
       "model_id": "f825cc78203e4a428b67e50c510f903b"
      }
     },
     "metadata": {},
     "output_type": "display_data"
    },
    {
     "data": {
      "text/plain": [
       "Validation: |          | 0/? [00:00<?, ?it/s]"
      ],
      "application/vnd.jupyter.widget-view+json": {
       "version_major": 2,
       "version_minor": 0,
       "model_id": "87778eba3acd44c1834082736d4e61c1"
      }
     },
     "metadata": {},
     "output_type": "display_data"
    },
    {
     "name": "stderr",
     "output_type": "stream",
     "text": [
      "Metric val_loss improved. New best score: 0.014\n"
     ]
    },
    {
     "data": {
      "text/plain": [
       "Validation: |          | 0/? [00:00<?, ?it/s]"
      ],
      "application/vnd.jupyter.widget-view+json": {
       "version_major": 2,
       "version_minor": 0,
       "model_id": "65ed5abb064542f384ff84a8108496d8"
      }
     },
     "metadata": {},
     "output_type": "display_data"
    },
    {
     "name": "stderr",
     "output_type": "stream",
     "text": [
      "Metric val_loss improved by 0.001 >= min_delta = 0.001. New best score: 0.012\n"
     ]
    },
    {
     "data": {
      "text/plain": [
       "Validation: |          | 0/? [00:00<?, ?it/s]"
      ],
      "application/vnd.jupyter.widget-view+json": {
       "version_major": 2,
       "version_minor": 0,
       "model_id": "34cd92c6e9ae406a8ddf42e764303ef7"
      }
     },
     "metadata": {},
     "output_type": "display_data"
    },
    {
     "data": {
      "text/plain": [
       "Validation: |          | 0/? [00:00<?, ?it/s]"
      ],
      "application/vnd.jupyter.widget-view+json": {
       "version_major": 2,
       "version_minor": 0,
       "model_id": "d8c6c72a718c4202ad871117cad29872"
      }
     },
     "metadata": {},
     "output_type": "display_data"
    },
    {
     "data": {
      "text/plain": [
       "Validation: |          | 0/? [00:00<?, ?it/s]"
      ],
      "application/vnd.jupyter.widget-view+json": {
       "version_major": 2,
       "version_minor": 0,
       "model_id": "a72d56020b7a4c158f646fe9620cd568"
      }
     },
     "metadata": {},
     "output_type": "display_data"
    },
    {
     "data": {
      "text/plain": [
       "Validation: |          | 0/? [00:00<?, ?it/s]"
      ],
      "application/vnd.jupyter.widget-view+json": {
       "version_major": 2,
       "version_minor": 0,
       "model_id": "7096b1fbfab649bbb092aeb50cd0d2b8"
      }
     },
     "metadata": {},
     "output_type": "display_data"
    },
    {
     "name": "stderr",
     "output_type": "stream",
     "text": [
      "Monitored metric val_loss = nan is not finite. Previous best value was 0.012. Signaling Trainer to stop.\n",
      "GPU available: True (cuda), used: True\n",
      "TPU available: False, using: 0 TPU cores\n",
      "HPU available: False, using: 0 HPUs\n",
      "LOCAL_RANK: 0 - CUDA_VISIBLE_DEVICES: [0]\n"
     ]
    },
    {
     "name": "stdout",
     "output_type": "stream",
     "text": [
      "Model loaded from checkpoint for trial 46\n"
     ]
    },
    {
     "name": "stderr",
     "output_type": "stream",
     "text": [
      "/home/eduardo/Documentos/Water-Cycle-Neural-Network/venv/lib/python3.12/site-packages/pytorch_lightning/trainer/connectors/data_connector.py:425: The 'predict_dataloader' does not have many workers which may be a bottleneck. Consider increasing the value of the `num_workers` argument` to `num_workers=11` in the `DataLoader` to improve performance.\n",
      "[I 2025-05-19 18:14:36,707] Trial 46 finished with value: 42.44435013283522 and parameters: {'input_chunk_length': 9, 'num_filters': 115, 'kernel_size': 7, 'num_layers': 4, 'dilation_base': 4, 'weight_norm': True, 'dropout': 0.1522735994937656, 'batch_size': 16, 'lr': 0.0017537173892029118}. Best is trial 2 with value: 39.99407731033253.\n",
      "GPU available: True (cuda), used: True\n",
      "TPU available: False, using: 0 TPU cores\n",
      "HPU available: False, using: 0 HPUs\n",
      "LOCAL_RANK: 0 - CUDA_VISIBLE_DEVICES: [0]\n",
      "\n",
      "  | Name            | Type             | Params | Mode \n",
      "-------------------------------------------------------------\n",
      "0 | criterion       | HuberLoss        | 0      | train\n",
      "1 | train_criterion | HuberLoss        | 0      | train\n",
      "2 | val_criterion   | HuberLoss        | 0      | train\n",
      "3 | train_metrics   | MetricCollection | 0      | train\n",
      "4 | val_metrics     | MetricCollection | 0      | train\n",
      "5 | res_blocks      | ModuleList       | 205 K  | train\n",
      "-------------------------------------------------------------\n",
      "205 K     Trainable params\n",
      "0         Non-trainable params\n",
      "205 K     Total params\n",
      "0.823     Total estimated model params size (MB)\n",
      "23        Modules in train mode\n",
      "0         Modules in eval mode\n"
     ]
    },
    {
     "name": "stdout",
     "output_type": "stream",
     "text": [
      "Starting time series consistency verification...\n",
      "\n",
      "Performance metrics:\n",
      "                                    MSE        RMSE        MAE         R2  \\\n",
      "Temperature                    0.358760    0.598966   0.356398   0.894617   \n",
      "Precipitation_accumulated     42.806959    6.542703   6.221739 -44.100615   \n",
      "Humidity                       2.334677    1.527965   1.000717   0.964098   \n",
      "Wind_Speed_kmh                 0.064027    0.253035   0.100453   0.811857   \n",
      "Soil_Moisture              16701.706926  129.235084  92.682661   0.977429   \n",
      "Soil_Temperature               0.197192    0.444063   0.342240   0.964864   \n",
      "Wind_Dir_Sin                   0.044935    0.211980   0.107058   0.720237   \n",
      "Wind_Dir_Cos                   0.039430    0.198569   0.095371   0.862659   \n",
      "\n",
      "                                SMAPE  \n",
      "Temperature                  6.150755  \n",
      "Precipitation_accumulated    1.364425  \n",
      "Humidity                     1.224977  \n",
      "Wind_Speed_kmh             147.239921  \n",
      "Soil_Moisture                1.510207  \n",
      "Soil_Temperature            13.158804  \n",
      "Wind_Dir_Sin               143.847705  \n",
      "Wind_Dir_Cos                25.058008  \n",
      "The SMAPE for this fold was 42.44435013283522\n",
      "Results for trial 46 saved to optuna_iteration_metrics/trial_46.json\n",
      "Current value: 42.44435013283522, Current params: {'input_chunk_length': 9, 'num_filters': 115, 'kernel_size': 7, 'num_layers': 4, 'dilation_base': 4, 'weight_norm': True, 'dropout': 0.1522735994937656, 'batch_size': 16, 'lr': 0.0017537173892029118}\n",
      "Best value: 39.99407731033253, Best params: {'input_chunk_length': 20, 'num_filters': 109, 'kernel_size': 2, 'num_layers': 6, 'dilation_base': 4, 'weight_norm': True, 'dropout': 0.15531203611947797, 'batch_size': 29, 'lr': 0.0002474912028329941}\n",
      "\n",
      "Starting Trial 47\n",
      "Hyperparameters: {'input_chunk_length': 32, 'num_filters': 82, 'kernel_size': 7, 'num_layers': 3, 'dilation_base': 4, 'weight_norm': False, 'dropout': 0.07164620712346983, 'batch_size': 62, 'lr': 0.006241373235752061}\n",
      "\n",
      "Training the model...\n",
      "Train set: 6647 samples\n",
      "Validation set: 1662 samples\n"
     ]
    },
    {
     "data": {
      "text/plain": [
       "Sanity Checking: |          | 0/? [00:00<?, ?it/s]"
      ],
      "application/vnd.jupyter.widget-view+json": {
       "version_major": 2,
       "version_minor": 0,
       "model_id": "f9e0b1cc82e24a7f9485b908b9cf36e4"
      }
     },
     "metadata": {},
     "output_type": "display_data"
    },
    {
     "data": {
      "text/plain": [
       "Training: |          | 0/? [00:00<?, ?it/s]"
      ],
      "application/vnd.jupyter.widget-view+json": {
       "version_major": 2,
       "version_minor": 0,
       "model_id": "7ccedd0593ed4ba2b6b1e4e1f50ad30c"
      }
     },
     "metadata": {},
     "output_type": "display_data"
    },
    {
     "data": {
      "text/plain": [
       "Validation: |          | 0/? [00:00<?, ?it/s]"
      ],
      "application/vnd.jupyter.widget-view+json": {
       "version_major": 2,
       "version_minor": 0,
       "model_id": "58139405841a4537ba17ebcbd5ee6a94"
      }
     },
     "metadata": {},
     "output_type": "display_data"
    },
    {
     "name": "stderr",
     "output_type": "stream",
     "text": [
      "Metric val_loss improved. New best score: 0.016\n"
     ]
    },
    {
     "data": {
      "text/plain": [
       "Validation: |          | 0/? [00:00<?, ?it/s]"
      ],
      "application/vnd.jupyter.widget-view+json": {
       "version_major": 2,
       "version_minor": 0,
       "model_id": "63c0d5182cec4113ba11b5532a18f5be"
      }
     },
     "metadata": {},
     "output_type": "display_data"
    },
    {
     "name": "stderr",
     "output_type": "stream",
     "text": [
      "Metric val_loss improved by 0.003 >= min_delta = 0.001. New best score: 0.013\n"
     ]
    },
    {
     "data": {
      "text/plain": [
       "Validation: |          | 0/? [00:00<?, ?it/s]"
      ],
      "application/vnd.jupyter.widget-view+json": {
       "version_major": 2,
       "version_minor": 0,
       "model_id": "f808e49ffa1e448f918a67135a8fe06b"
      }
     },
     "metadata": {},
     "output_type": "display_data"
    },
    {
     "name": "stderr",
     "output_type": "stream",
     "text": [
      "[I 2025-05-19 18:15:17,195] Trial 47 pruned. Trial was pruned at epoch 2.\n",
      "GPU available: True (cuda), used: True\n",
      "TPU available: False, using: 0 TPU cores\n",
      "HPU available: False, using: 0 HPUs\n",
      "LOCAL_RANK: 0 - CUDA_VISIBLE_DEVICES: [0]\n",
      "\n",
      "  | Name            | Type             | Params | Mode \n",
      "-------------------------------------------------------------\n",
      "0 | criterion       | HuberLoss        | 0      | train\n",
      "1 | train_criterion | HuberLoss        | 0      | train\n",
      "2 | val_criterion   | HuberLoss        | 0      | train\n",
      "3 | train_metrics   | MetricCollection | 0      | train\n",
      "4 | val_metrics     | MetricCollection | 0      | train\n",
      "5 | res_blocks      | ModuleList       | 45.0 K | train\n",
      "-------------------------------------------------------------\n",
      "45.0 K    Trainable params\n",
      "0         Non-trainable params\n",
      "45.0 K    Total params\n",
      "0.180     Total estimated model params size (MB)\n",
      "30        Modules in train mode\n",
      "0         Modules in eval mode\n"
     ]
    },
    {
     "name": "stdout",
     "output_type": "stream",
     "text": [
      "Current value: 0.012852143823076426, Current params: {'input_chunk_length': 32, 'num_filters': 82, 'kernel_size': 7, 'num_layers': 3, 'dilation_base': 4, 'weight_norm': False, 'dropout': 0.07164620712346983, 'batch_size': 62, 'lr': 0.006241373235752061}\n",
      "Best value: 39.99407731033253, Best params: {'input_chunk_length': 20, 'num_filters': 109, 'kernel_size': 2, 'num_layers': 6, 'dilation_base': 4, 'weight_norm': True, 'dropout': 0.15531203611947797, 'batch_size': 29, 'lr': 0.0002474912028329941}\n",
      "\n",
      "Starting Trial 48\n",
      "Hyperparameters: {'input_chunk_length': 14, 'num_filters': 96, 'kernel_size': 2, 'num_layers': 2, 'dilation_base': 2, 'weight_norm': True, 'dropout': 0.1739209466898144, 'batch_size': 34, 'lr': 0.00021016690754141216}\n",
      "\n",
      "Training the model...\n",
      "Train set: 6647 samples\n",
      "Validation set: 1662 samples\n"
     ]
    },
    {
     "data": {
      "text/plain": [
       "Sanity Checking: |          | 0/? [00:00<?, ?it/s]"
      ],
      "application/vnd.jupyter.widget-view+json": {
       "version_major": 2,
       "version_minor": 0,
       "model_id": "ba3c20a7a82e4692b9caf031b0477a31"
      }
     },
     "metadata": {},
     "output_type": "display_data"
    },
    {
     "data": {
      "text/plain": [
       "Training: |          | 0/? [00:00<?, ?it/s]"
      ],
      "application/vnd.jupyter.widget-view+json": {
       "version_major": 2,
       "version_minor": 0,
       "model_id": "9cab665afd8e4b6eb7111a67500daa98"
      }
     },
     "metadata": {},
     "output_type": "display_data"
    },
    {
     "data": {
      "text/plain": [
       "Validation: |          | 0/? [00:00<?, ?it/s]"
      ],
      "application/vnd.jupyter.widget-view+json": {
       "version_major": 2,
       "version_minor": 0,
       "model_id": "422aaea74baa4fafbc31a5486619470d"
      }
     },
     "metadata": {},
     "output_type": "display_data"
    },
    {
     "name": "stderr",
     "output_type": "stream",
     "text": [
      "[I 2025-05-19 18:15:23,787] Trial 48 pruned. Trial was pruned at epoch 0.\n",
      "GPU available: True (cuda), used: True\n",
      "TPU available: False, using: 0 TPU cores\n",
      "HPU available: False, using: 0 HPUs\n",
      "LOCAL_RANK: 0 - CUDA_VISIBLE_DEVICES: [0]\n",
      "\n",
      "  | Name            | Type             | Params | Mode \n",
      "-------------------------------------------------------------\n",
      "0 | criterion       | HuberLoss        | 0      | train\n",
      "1 | train_criterion | HuberLoss        | 0      | train\n",
      "2 | val_criterion   | HuberLoss        | 0      | train\n",
      "3 | train_metrics   | MetricCollection | 0      | train\n",
      "4 | val_metrics     | MetricCollection | 0      | train\n",
      "5 | res_blocks      | ModuleList       | 97.4 K | train\n",
      "-------------------------------------------------------------\n",
      "97.4 K    Trainable params\n",
      "0         Non-trainable params\n",
      "97.4 K    Total params\n",
      "0.390     Total estimated model params size (MB)\n",
      "63        Modules in train mode\n",
      "0         Modules in eval mode\n"
     ]
    },
    {
     "name": "stdout",
     "output_type": "stream",
     "text": [
      "Current value: 0.026856533107558634, Current params: {'input_chunk_length': 14, 'num_filters': 96, 'kernel_size': 2, 'num_layers': 2, 'dilation_base': 2, 'weight_norm': True, 'dropout': 0.1739209466898144, 'batch_size': 34, 'lr': 0.00021016690754141216}\n",
      "Best value: 39.99407731033253, Best params: {'input_chunk_length': 20, 'num_filters': 109, 'kernel_size': 2, 'num_layers': 6, 'dilation_base': 4, 'weight_norm': True, 'dropout': 0.15531203611947797, 'batch_size': 29, 'lr': 0.0002474912028329941}\n",
      "\n",
      "Starting Trial 49\n",
      "Hyperparameters: {'input_chunk_length': 20, 'num_filters': 43, 'kernel_size': 6, 'num_layers': 5, 'dilation_base': 3, 'weight_norm': True, 'dropout': 0.12453385984587494, 'batch_size': 49, 'lr': 2.447408158939051e-05}\n",
      "\n",
      "Training the model...\n",
      "Train set: 6647 samples\n",
      "Validation set: 1662 samples\n"
     ]
    },
    {
     "data": {
      "text/plain": [
       "Sanity Checking: |          | 0/? [00:00<?, ?it/s]"
      ],
      "application/vnd.jupyter.widget-view+json": {
       "version_major": 2,
       "version_minor": 0,
       "model_id": "e6592097bb504631b134512b2fe13c90"
      }
     },
     "metadata": {},
     "output_type": "display_data"
    },
    {
     "data": {
      "text/plain": [
       "Training: |          | 0/? [00:00<?, ?it/s]"
      ],
      "application/vnd.jupyter.widget-view+json": {
       "version_major": 2,
       "version_minor": 0,
       "model_id": "1f12157a71fc418f8e52ea6f8b2cdecc"
      }
     },
     "metadata": {},
     "output_type": "display_data"
    },
    {
     "data": {
      "text/plain": [
       "Validation: |          | 0/? [00:00<?, ?it/s]"
      ],
      "application/vnd.jupyter.widget-view+json": {
       "version_major": 2,
       "version_minor": 0,
       "model_id": "b18bf3d07b144a15bcc0632d229a7b9b"
      }
     },
     "metadata": {},
     "output_type": "display_data"
    },
    {
     "name": "stderr",
     "output_type": "stream",
     "text": [
      "[I 2025-05-19 18:15:40,419] Trial 49 pruned. Trial was pruned at epoch 0.\n"
     ]
    },
    {
     "name": "stdout",
     "output_type": "stream",
     "text": [
      "Current value: 0.1607893641522018, Current params: {'input_chunk_length': 20, 'num_filters': 43, 'kernel_size': 6, 'num_layers': 5, 'dilation_base': 3, 'weight_norm': True, 'dropout': 0.12453385984587494, 'batch_size': 49, 'lr': 2.447408158939051e-05}\n",
      "Best value: 39.99407731033253, Best params: {'input_chunk_length': 20, 'num_filters': 109, 'kernel_size': 2, 'num_layers': 6, 'dilation_base': 4, 'weight_norm': True, 'dropout': 0.15531203611947797, 'batch_size': 29, 'lr': 0.0002474912028329941}\n"
     ]
    }
   ],
   "execution_count": 7
  },
  {
   "metadata": {
    "ExecuteTime": {
     "end_time": "2025-05-19T21:15:40.496574Z",
     "start_time": "2025-05-19T21:15:40.492564Z"
    }
   },
   "cell_type": "code",
   "source": [
    "# Print the best results from the optimization\n",
    "print(f\"Best Value (Minimum): {study.best_value}\")\n",
    "print(f\"Best Parameters: {study.best_params}\")"
   ],
   "id": "2ce51ec310c052dc",
   "outputs": [
    {
     "name": "stdout",
     "output_type": "stream",
     "text": [
      "Best Value (Minimum): 39.99407731033253\n",
      "Best Parameters: {'input_chunk_length': 20, 'num_filters': 109, 'kernel_size': 2, 'num_layers': 6, 'dilation_base': 4, 'weight_norm': True, 'dropout': 0.15531203611947797, 'batch_size': 29, 'lr': 0.0002474912028329941}\n"
     ]
    }
   ],
   "execution_count": 8
  },
  {
   "metadata": {
    "ExecuteTime": {
     "end_time": "2025-05-19T21:15:40.550037Z",
     "start_time": "2025-05-19T21:15:40.547040Z"
    }
   },
   "cell_type": "code",
   "source": [
    "# Save the best trial results to a separate file\n",
    "best_dict = {\n",
    "    \"best_value\": study.best_value,\n",
    "    \"best_params\": study.best_params,\n",
    "}\n",
    "json_path = os.path.join(results_output_dir, \"best_trial.json\")\n",
    "with open(json_path, 'w') as f:\n",
    "    json.dump(best_dict, f, indent=4)\n",
    "print(f\"Best results saved to {json_path}\")\n"
   ],
   "id": "4dafb05a6dcd472",
   "outputs": [
    {
     "name": "stdout",
     "output_type": "stream",
     "text": [
      "Best results saved to optuna_iteration_metrics/best_trial.json\n"
     ]
    }
   ],
   "execution_count": 9
  }
 ],
 "metadata": {
  "jupytext": {
   "cell_metadata_filter": "-all",
   "main_language": "python",
   "notebook_metadata_filter": "-all"
  },
  "kernelspec": {
   "display_name": "Python (TORCH)",
   "language": "python",
   "name": "torch"
  },
  "language_info": {
   "codemirror_mode": {
    "name": "ipython",
    "version": 3
   },
   "file_extension": ".py",
   "mimetype": "text/x-python",
   "name": "python",
   "nbconvert_exporter": "python",
   "pygments_lexer": "ipython3",
   "version": "3.12.3"
  }
 },
 "nbformat": 4,
 "nbformat_minor": 5
}
