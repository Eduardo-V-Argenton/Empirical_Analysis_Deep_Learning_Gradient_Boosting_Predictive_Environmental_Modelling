{
 "cells": [
  {
   "cell_type": "code",
   "execution_count": 1,
   "id": "bfdde53ef19ea8f4",
   "metadata": {
    "ExecuteTime": {
     "end_time": "2025-06-05T19:05:40.700276Z",
     "start_time": "2025-06-05T19:05:40.697643Z"
    }
   },
   "outputs": [],
   "source": [
    "import matplotlib.pyplot as plt\n",
    "import numpy as np\n",
    "import pandas as pd\n",
    "from darts import TimeSeries\n",
    "from darts.models import NHiTSModel\n",
    "from darts.metrics import wmape,mse, mae, smape,r2_score,rmse,mae\n",
    "from darts.dataprocessing.transformers import Scaler\n",
    "import torch\n",
    "from optuna.integration import PyTorchLightningPruningCallback\n",
    "from pytorch_lightning.callbacks import Callback, EarlyStopping\n",
    "import optuna\n",
    "import os\n",
    "import json\n",
    "\n",
    "# Visualization settings\n",
    "plt.style.use('ggplot')\n",
    "plt.rcParams['figure.figsize'] = (12, 6)\n",
    "torch.set_float32_matmul_precision('medium')"
   ]
  },
  {
   "cell_type": "code",
   "execution_count": 2,
   "id": "4a8c332b10d8be5e",
   "metadata": {
    "ExecuteTime": {
     "end_time": "2025-06-05T19:05:40.762080Z",
     "start_time": "2025-06-05T19:05:40.750357Z"
    }
   },
   "outputs": [],
   "source": [
    "target_columns = [\n",
    "    'Temperature','Precipitation_accumulated','Humidity', 'Wind_Speed_kmh',\n",
    "    'Soil_Moisture', 'Soil_Temperature', 'Wind_Dir_Sin', 'Wind_Dir_Cos'\n",
    "]\n",
    "\n",
    "DATA_FILE_PATH = \"../data/ground_station_clean.csv\"\n",
    "df = pd.read_csv(DATA_FILE_PATH)"
   ]
  },
  {
   "cell_type": "code",
   "execution_count": 3,
   "id": "7c4f7732f60d8511",
   "metadata": {
    "ExecuteTime": {
     "end_time": "2025-06-05T19:05:40.802223Z",
     "start_time": "2025-06-05T19:05:40.800123Z"
    }
   },
   "outputs": [],
   "source": [
    "encoders = {\n",
    "    \"cyclic\": {\n",
    "        \"past\": [\"month\", \"dayofyear\", \"day\", \"hour\", \"minute\"],\n",
    "        \"future\": [\"month\", \"dayofyear\", \"day\", \"hour\", \"minute\"]\n",
    "    },\n",
    "    \"transformer\": Scaler(),\n",
    "    \"datetime_attribute\": {\n",
    "        \"past\": [\"year\"],\n",
    "        \"future\": [\"year\"]\n",
    "    }\n",
    "}\n"
   ]
  },
  {
   "cell_type": "code",
   "execution_count": 4,
   "id": "3cc0a527e2e2a0a8",
   "metadata": {
    "ExecuteTime": {
     "end_time": "2025-06-05T19:05:40.852433Z",
     "start_time": "2025-06-05T19:05:40.850235Z"
    }
   },
   "outputs": [],
   "source": [
    "class PatchedPruningCallback(PyTorchLightningPruningCallback, Callback):\n",
    "    pass\n",
    "\n",
    "# Create directory to save iteration results\n",
    "results_output_dir = \"optuna_iteration_metrics\"\n",
    "os.makedirs(results_output_dir, exist_ok=True)"
   ]
  },
  {
   "cell_type": "code",
   "execution_count": 5,
   "id": "36495cef7ef43264",
   "metadata": {
    "ExecuteTime": {
     "end_time": "2025-06-05T19:05:40.906974Z",
     "start_time": "2025-06-05T19:05:40.899470Z"
    }
   },
   "outputs": [],
   "source": [
    "from sklearn.model_selection import TimeSeriesSplit\n",
    "\n",
    "def objective(trial):\n",
    "\n",
    "    input_chunk_length = trial.suggest_int(\"input_chunk_length\", 24, 168, step=12)\n",
    "    dropout = trial.suggest_float(\"dropout\", 0.1, 0.5, step=0.05)\n",
    "    batch_size = trial.suggest_int(\"batch_size\", 64, 256, step=8)\n",
    "    lr = trial.suggest_float(\"lr\", 1e-6, 5e-3, log=True)\n",
    "    weight_decay = trial.suggest_float(\"weight_decay\", 1e-6, 1e-2, log=True)\n",
    "\n",
    "\n",
    "    num_layers    = trial.suggest_int(\"num_layers\", 1, 5)\n",
    "    num_blocks    = trial.suggest_int(\"num_blocks\", 1, 5)\n",
    "    num_stacks    = trial.suggest_int(\"num_stacks\", 1, 5)\n",
    "    layer_widths    = trial.suggest_int(\"layer_widths\", 32, 256, step=8)\n",
    "    activation = trial.suggest_categorical(\"activation\", [\"ReLU\", \"GELU\"])\n",
    "\n",
    "    early_stopper = EarlyStopping(\"val_loss\", min_delta=0.0005, patience=15, verbose=True)\n",
    "    prunner = PatchedPruningCallback(trial, monitor=\"val_loss\")\n",
    "    pl_trainer_kwargs = {\n",
    "        \"accelerator\": \"auto\",\n",
    "        \"callbacks\": [early_stopper, prunner],\n",
    "    }\n",
    "\n",
    "    n_splits = 3\n",
    "    tscv = TimeSeriesSplit(n_splits=n_splits)\n",
    "    overall_smape_list = []\n",
    "    metrics_per_fold = []\n",
    "    fold = 0\n",
    "\n",
    "    for train_index, val_index in tscv.split(df):\n",
    "        print(f\"\\nFold {fold+1}/{n_splits}\")\n",
    "        train_df_fold = df.iloc[train_index]\n",
    "        val_df_fold = df.iloc[val_index]\n",
    "        train_fold = TimeSeries.from_dataframe(train_df_fold, time_col=\"Timestamp\", value_cols=target_columns, freq='1h')\n",
    "        val_fold = TimeSeries.from_dataframe(val_df_fold, time_col=\"Timestamp\", value_cols=target_columns, freq='1h')\n",
    "\n",
    "        scaler = Scaler()\n",
    "        scaler = scaler.fit(train_fold)\n",
    "        train_scaled = scaler.transform(train_fold)\n",
    "        val_scaled = scaler.transform(val_fold)\n",
    "\n",
    "        opt_kwargs = {\"lr\": lr, \"weight_decay\": weight_decay}\n",
    "\n",
    "        model = NHiTSModel(\n",
    "            model_name=f\"model_{fold+1}\",\n",
    "            work_dir=\"/home/eduardo/Documentos/Water-Cycle-Neural-Network/darts_logs\",\n",
    "            input_chunk_length=input_chunk_length,\n",
    "            output_chunk_length=24,\n",
    "            n_epochs=30,\n",
    "            batch_size=batch_size,\n",
    "            dropout=dropout,\n",
    "            num_layers=num_layers,\n",
    "            num_blocks=num_blocks,\n",
    "            num_stacks=num_stacks,\n",
    "            layer_widths=layer_widths,\n",
    "            activation=activation,\n",
    "            pl_trainer_kwargs=pl_trainer_kwargs,\n",
    "            loss_fn=torch.nn.L1Loss(),\n",
    "            optimizer_cls=torch.optim.Adam,\n",
    "            lr_scheduler_cls=torch.optim.lr_scheduler.ReduceLROnPlateau,\n",
    "            lr_scheduler_kwargs={\"mode\": \"min\", \"factor\": 0.3, \"patience\": 7, \"min_lr\": 1e-7},\n",
    "            save_checkpoints=True,\n",
    "            force_reset=True,\n",
    "            random_state=42,\n",
    "            optimizer_kwargs=opt_kwargs,\n",
    "        )\n",
    "        model.fit(\n",
    "            series=train_scaled,\n",
    "            val_series=val_scaled,\n",
    "            verbose=False,\n",
    "            dataloader_kwargs={\"num_workers\": 11},\n",
    "        )\n",
    "\n",
    "        try:\n",
    "            loaded_model = model.load_from_checkpoint(f\"/home/eduardo/Documentos/Water-Cycle-Neural-Network/darts_logs/model_{fold+1}\", best=True)\n",
    "            print(f\"Model loaded from checkpoint for trial {trial.number}, fold {fold}\")\n",
    "        except FileNotFoundError:\n",
    "            print(f\"Checkpoint not found. Using the in-memory trained model.\")\n",
    "            loaded_model = model\n",
    "\n",
    "        forecasts = loaded_model.historical_forecasts(\n",
    "            val_scaled,\n",
    "            forecast_horizon=24,\n",
    "            stride=1,\n",
    "            retrain=False,\n",
    "            verbose=False\n",
    "        )\n",
    "\n",
    "\n",
    "        forecasts_t = scaler.inverse_transform(forecasts)\n",
    "        s = scaler.inverse_transform(val_scaled)\n",
    "\n",
    "        overall_smape_val = smape(s, forecasts_t)\n",
    "        print(f\"SMAPE fold {fold}: {overall_smape_val}\")\n",
    "        overall_smape_list.append(overall_smape_val)\n",
    "        \n",
    "        metrics = {}\n",
    "        for target in target_columns:\n",
    "            metrics[target] = {\n",
    "                'MSE': mse(s[target], forecasts_t[target]),\n",
    "                'RMSE': rmse(s[target], forecasts_t[target]),\n",
    "                'MAE': mae(s[target], forecasts_t[target]),\n",
    "                'R2': r2_score(s[target], forecasts_t[target]),\n",
    "                'SMAPE': smape(s[target], forecasts_t[target]),\n",
    "                'WAPE': wmape(s[target], forecasts_t[target]),\n",
    "            }\n",
    "        metrics_per_fold.append(metrics)\n",
    "        fold += 1\n",
    "\n",
    "    mean_smape = np.mean(overall_smape_list)\n",
    "    print(f\"Média dos SMAPE nos folds: {mean_smape}\")\n",
    "\n",
    "    trial_dict = {\n",
    "        \"trial_number\": trial.number,\n",
    "        \"fold_smape\": overall_smape_list,\n",
    "        \"mean_smape\": mean_smape,\n",
    "        \"hyperparameters\": trial.params,\n",
    "        \"metrics_per_fold\": metrics_per_fold\n",
    "    }\n",
    "    json_path = os.path.join(results_output_dir, f\"trial_{trial.number}.json\")\n",
    "    with open(json_path, 'w') as f:\n",
    "        json.dump(trial_dict, f, indent=4)\n",
    "    print(f\"Results of trial {trial.number} saved in {json_path}\")\n",
    "    return mean_smape if not np.isnan(mean_smape) else float(\"inf\")"
   ]
  },
  {
   "cell_type": "code",
   "execution_count": 6,
   "id": "b36084313658a946",
   "metadata": {
    "ExecuteTime": {
     "end_time": "2025-06-05T19:05:40.951388Z",
     "start_time": "2025-06-05T19:05:40.949280Z"
    }
   },
   "outputs": [],
   "source": [
    "def print_callback(study, trial):\n",
    "    print(f\"Current value: {trial.value}, Current params: {trial.params}\")\n",
    "    print(f\"Best value: {study.best_value}, Best params: {study.best_trial.params}\")"
   ]
  },
  {
   "cell_type": "code",
   "execution_count": 7,
   "id": "c016d2f3570996c0",
   "metadata": {
    "ExecuteTime": {
     "end_time": "2025-06-05T19:07:50.838576Z",
     "start_time": "2025-06-05T19:05:40.997387Z"
    }
   },
   "outputs": [
    {
     "name": "stderr",
     "output_type": "stream",
     "text": [
      "[I 2025-06-10 15:49:54,154] A new study created in memory with name: no-name-6df0afaa-754c-4738-8022-7d5fcc3e88c3\n"
     ]
    },
    {
     "name": "stdout",
     "output_type": "stream",
     "text": [
      "\n",
      "Fold 1/3\n"
     ]
    },
    {
     "name": "stderr",
     "output_type": "stream",
     "text": [
      "GPU available: True (cuda), used: True\n",
      "TPU available: False, using: 0 TPU cores\n",
      "HPU available: False, using: 0 HPUs\n",
      "LOCAL_RANK: 0 - CUDA_VISIBLE_DEVICES: [0]\n",
      "Metric val_loss improved. New best score: 9.264\n",
      "Metric val_loss improved by 0.022 >= min_delta = 0.0005. New best score: 9.243\n",
      "Metric val_loss improved by 0.018 >= min_delta = 0.0005. New best score: 9.225\n",
      "Metric val_loss improved by 0.016 >= min_delta = 0.0005. New best score: 9.209\n",
      "Metric val_loss improved by 0.007 >= min_delta = 0.0005. New best score: 9.202\n",
      "Monitored metric val_loss did not improve in the last 15 records. Best score: 9.202. Signaling Trainer to stop.\n",
      "GPU available: True (cuda), used: True\n",
      "TPU available: False, using: 0 TPU cores\n",
      "HPU available: False, using: 0 HPUs\n",
      "LOCAL_RANK: 0 - CUDA_VISIBLE_DEVICES: [0]\n"
     ]
    },
    {
     "name": "stdout",
     "output_type": "stream",
     "text": [
      "Model loaded from checkpoint for trial 0, fold 0\n"
     ]
    },
    {
     "name": "stderr",
     "output_type": "stream",
     "text": [
      "GPU available: True (cuda), used: True\n",
      "TPU available: False, using: 0 TPU cores\n",
      "HPU available: False, using: 0 HPUs\n",
      "LOCAL_RANK: 0 - CUDA_VISIBLE_DEVICES: [0]\n"
     ]
    },
    {
     "name": "stdout",
     "output_type": "stream",
     "text": [
      "SMAPE fold 0: 120.57119038021958\n",
      "\n",
      "Fold 2/3\n"
     ]
    },
    {
     "name": "stderr",
     "output_type": "stream",
     "text": [
      "/home/eduardo/Documentos/Water-Cycle-Neural-Network/venv/lib/python3.12/site-packages/optuna/trial/_trial.py:497: UserWarning: The reported value is ignored because this `step` 0 is already reported.\n",
      "  warnings.warn(\n",
      "Metric val_loss improved by 8.734 >= min_delta = 0.0005. New best score: 0.468\n",
      "/home/eduardo/Documentos/Water-Cycle-Neural-Network/venv/lib/python3.12/site-packages/optuna/trial/_trial.py:497: UserWarning: The reported value is ignored because this `step` 1 is already reported.\n",
      "  warnings.warn(\n",
      "Metric val_loss improved by 0.007 >= min_delta = 0.0005. New best score: 0.461\n",
      "/home/eduardo/Documentos/Water-Cycle-Neural-Network/venv/lib/python3.12/site-packages/optuna/trial/_trial.py:497: UserWarning: The reported value is ignored because this `step` 2 is already reported.\n",
      "  warnings.warn(\n",
      "Metric val_loss improved by 0.006 >= min_delta = 0.0005. New best score: 0.455\n",
      "/home/eduardo/Documentos/Water-Cycle-Neural-Network/venv/lib/python3.12/site-packages/optuna/trial/_trial.py:497: UserWarning: The reported value is ignored because this `step` 3 is already reported.\n",
      "  warnings.warn(\n",
      "Metric val_loss improved by 0.006 >= min_delta = 0.0005. New best score: 0.449\n",
      "/home/eduardo/Documentos/Water-Cycle-Neural-Network/venv/lib/python3.12/site-packages/optuna/trial/_trial.py:497: UserWarning: The reported value is ignored because this `step` 4 is already reported.\n",
      "  warnings.warn(\n",
      "Metric val_loss improved by 0.006 >= min_delta = 0.0005. New best score: 0.443\n",
      "/home/eduardo/Documentos/Water-Cycle-Neural-Network/venv/lib/python3.12/site-packages/optuna/trial/_trial.py:497: UserWarning: The reported value is ignored because this `step` 5 is already reported.\n",
      "  warnings.warn(\n",
      "Metric val_loss improved by 0.005 >= min_delta = 0.0005. New best score: 0.438\n",
      "/home/eduardo/Documentos/Water-Cycle-Neural-Network/venv/lib/python3.12/site-packages/optuna/trial/_trial.py:497: UserWarning: The reported value is ignored because this `step` 6 is already reported.\n",
      "  warnings.warn(\n",
      "Metric val_loss improved by 0.005 >= min_delta = 0.0005. New best score: 0.433\n",
      "/home/eduardo/Documentos/Water-Cycle-Neural-Network/venv/lib/python3.12/site-packages/optuna/trial/_trial.py:497: UserWarning: The reported value is ignored because this `step` 7 is already reported.\n",
      "  warnings.warn(\n",
      "Metric val_loss improved by 0.005 >= min_delta = 0.0005. New best score: 0.428\n",
      "/home/eduardo/Documentos/Water-Cycle-Neural-Network/venv/lib/python3.12/site-packages/optuna/trial/_trial.py:497: UserWarning: The reported value is ignored because this `step` 8 is already reported.\n",
      "  warnings.warn(\n",
      "Metric val_loss improved by 0.005 >= min_delta = 0.0005. New best score: 0.423\n",
      "/home/eduardo/Documentos/Water-Cycle-Neural-Network/venv/lib/python3.12/site-packages/optuna/trial/_trial.py:497: UserWarning: The reported value is ignored because this `step` 9 is already reported.\n",
      "  warnings.warn(\n",
      "Metric val_loss improved by 0.004 >= min_delta = 0.0005. New best score: 0.419\n",
      "/home/eduardo/Documentos/Water-Cycle-Neural-Network/venv/lib/python3.12/site-packages/optuna/trial/_trial.py:497: UserWarning: The reported value is ignored because this `step` 10 is already reported.\n",
      "  warnings.warn(\n",
      "Metric val_loss improved by 0.004 >= min_delta = 0.0005. New best score: 0.414\n",
      "/home/eduardo/Documentos/Water-Cycle-Neural-Network/venv/lib/python3.12/site-packages/optuna/trial/_trial.py:497: UserWarning: The reported value is ignored because this `step` 11 is already reported.\n",
      "  warnings.warn(\n",
      "Metric val_loss improved by 0.004 >= min_delta = 0.0005. New best score: 0.410\n",
      "/home/eduardo/Documentos/Water-Cycle-Neural-Network/venv/lib/python3.12/site-packages/optuna/trial/_trial.py:497: UserWarning: The reported value is ignored because this `step` 12 is already reported.\n",
      "  warnings.warn(\n",
      "Metric val_loss improved by 0.004 >= min_delta = 0.0005. New best score: 0.406\n",
      "/home/eduardo/Documentos/Water-Cycle-Neural-Network/venv/lib/python3.12/site-packages/optuna/trial/_trial.py:497: UserWarning: The reported value is ignored because this `step` 13 is already reported.\n",
      "  warnings.warn(\n",
      "Metric val_loss improved by 0.004 >= min_delta = 0.0005. New best score: 0.402\n",
      "/home/eduardo/Documentos/Water-Cycle-Neural-Network/venv/lib/python3.12/site-packages/optuna/trial/_trial.py:497: UserWarning: The reported value is ignored because this `step` 14 is already reported.\n",
      "  warnings.warn(\n",
      "Metric val_loss improved by 0.004 >= min_delta = 0.0005. New best score: 0.399\n",
      "/home/eduardo/Documentos/Water-Cycle-Neural-Network/venv/lib/python3.12/site-packages/optuna/trial/_trial.py:497: UserWarning: The reported value is ignored because this `step` 15 is already reported.\n",
      "  warnings.warn(\n",
      "Metric val_loss improved by 0.003 >= min_delta = 0.0005. New best score: 0.395\n",
      "/home/eduardo/Documentos/Water-Cycle-Neural-Network/venv/lib/python3.12/site-packages/optuna/trial/_trial.py:497: UserWarning: The reported value is ignored because this `step` 16 is already reported.\n",
      "  warnings.warn(\n",
      "Metric val_loss improved by 0.003 >= min_delta = 0.0005. New best score: 0.392\n",
      "/home/eduardo/Documentos/Water-Cycle-Neural-Network/venv/lib/python3.12/site-packages/optuna/trial/_trial.py:497: UserWarning: The reported value is ignored because this `step` 17 is already reported.\n",
      "  warnings.warn(\n",
      "Metric val_loss improved by 0.003 >= min_delta = 0.0005. New best score: 0.389\n",
      "/home/eduardo/Documentos/Water-Cycle-Neural-Network/venv/lib/python3.12/site-packages/optuna/trial/_trial.py:497: UserWarning: The reported value is ignored because this `step` 18 is already reported.\n",
      "  warnings.warn(\n",
      "Metric val_loss improved by 0.003 >= min_delta = 0.0005. New best score: 0.386\n",
      "/home/eduardo/Documentos/Water-Cycle-Neural-Network/venv/lib/python3.12/site-packages/optuna/trial/_trial.py:497: UserWarning: The reported value is ignored because this `step` 19 is already reported.\n",
      "  warnings.warn(\n",
      "Metric val_loss improved by 0.003 >= min_delta = 0.0005. New best score: 0.383\n",
      "Metric val_loss improved by 0.003 >= min_delta = 0.0005. New best score: 0.381\n",
      "Metric val_loss improved by 0.003 >= min_delta = 0.0005. New best score: 0.378\n",
      "Metric val_loss improved by 0.003 >= min_delta = 0.0005. New best score: 0.376\n",
      "Metric val_loss improved by 0.003 >= min_delta = 0.0005. New best score: 0.373\n",
      "Metric val_loss improved by 0.003 >= min_delta = 0.0005. New best score: 0.369\n",
      "Metric val_loss improved by 0.004 >= min_delta = 0.0005. New best score: 0.365\n",
      "Metric val_loss improved by 0.005 >= min_delta = 0.0005. New best score: 0.360\n",
      "Metric val_loss improved by 0.006 >= min_delta = 0.0005. New best score: 0.354\n",
      "Metric val_loss improved by 0.008 >= min_delta = 0.0005. New best score: 0.346\n",
      "Metric val_loss improved by 0.009 >= min_delta = 0.0005. New best score: 0.337\n",
      "`Trainer.fit` stopped: `max_epochs=30` reached.\n",
      "GPU available: True (cuda), used: True\n",
      "TPU available: False, using: 0 TPU cores\n",
      "HPU available: False, using: 0 HPUs\n",
      "LOCAL_RANK: 0 - CUDA_VISIBLE_DEVICES: [0]\n"
     ]
    },
    {
     "name": "stdout",
     "output_type": "stream",
     "text": [
      "Model loaded from checkpoint for trial 0, fold 1\n"
     ]
    },
    {
     "name": "stderr",
     "output_type": "stream",
     "text": [
      "GPU available: True (cuda), used: True\n",
      "TPU available: False, using: 0 TPU cores\n",
      "HPU available: False, using: 0 HPUs\n",
      "LOCAL_RANK: 0 - CUDA_VISIBLE_DEVICES: [0]\n"
     ]
    },
    {
     "name": "stdout",
     "output_type": "stream",
     "text": [
      "SMAPE fold 1: 113.38746065797439\n",
      "\n",
      "Fold 3/3\n"
     ]
    },
    {
     "name": "stderr",
     "output_type": "stream",
     "text": [
      "/home/eduardo/Documentos/Water-Cycle-Neural-Network/venv/lib/python3.12/site-packages/optuna/trial/_trial.py:497: UserWarning: The reported value is ignored because this `step` 0 is already reported.\n",
      "  warnings.warn(\n",
      "/home/eduardo/Documentos/Water-Cycle-Neural-Network/venv/lib/python3.12/site-packages/optuna/trial/_trial.py:497: UserWarning: The reported value is ignored because this `step` 1 is already reported.\n",
      "  warnings.warn(\n",
      "/home/eduardo/Documentos/Water-Cycle-Neural-Network/venv/lib/python3.12/site-packages/optuna/trial/_trial.py:497: UserWarning: The reported value is ignored because this `step` 2 is already reported.\n",
      "  warnings.warn(\n",
      "/home/eduardo/Documentos/Water-Cycle-Neural-Network/venv/lib/python3.12/site-packages/optuna/trial/_trial.py:497: UserWarning: The reported value is ignored because this `step` 3 is already reported.\n",
      "  warnings.warn(\n",
      "/home/eduardo/Documentos/Water-Cycle-Neural-Network/venv/lib/python3.12/site-packages/optuna/trial/_trial.py:497: UserWarning: The reported value is ignored because this `step` 4 is already reported.\n",
      "  warnings.warn(\n",
      "/home/eduardo/Documentos/Water-Cycle-Neural-Network/venv/lib/python3.12/site-packages/optuna/trial/_trial.py:497: UserWarning: The reported value is ignored because this `step` 5 is already reported.\n",
      "  warnings.warn(\n",
      "/home/eduardo/Documentos/Water-Cycle-Neural-Network/venv/lib/python3.12/site-packages/optuna/trial/_trial.py:497: UserWarning: The reported value is ignored because this `step` 6 is already reported.\n",
      "  warnings.warn(\n",
      "/home/eduardo/Documentos/Water-Cycle-Neural-Network/venv/lib/python3.12/site-packages/optuna/trial/_trial.py:497: UserWarning: The reported value is ignored because this `step` 7 is already reported.\n",
      "  warnings.warn(\n",
      "/home/eduardo/Documentos/Water-Cycle-Neural-Network/venv/lib/python3.12/site-packages/optuna/trial/_trial.py:497: UserWarning: The reported value is ignored because this `step` 8 is already reported.\n",
      "  warnings.warn(\n",
      "/home/eduardo/Documentos/Water-Cycle-Neural-Network/venv/lib/python3.12/site-packages/optuna/trial/_trial.py:497: UserWarning: The reported value is ignored because this `step` 9 is already reported.\n",
      "  warnings.warn(\n",
      "/home/eduardo/Documentos/Water-Cycle-Neural-Network/venv/lib/python3.12/site-packages/optuna/trial/_trial.py:497: UserWarning: The reported value is ignored because this `step` 10 is already reported.\n",
      "  warnings.warn(\n",
      "/home/eduardo/Documentos/Water-Cycle-Neural-Network/venv/lib/python3.12/site-packages/optuna/trial/_trial.py:497: UserWarning: The reported value is ignored because this `step` 11 is already reported.\n",
      "  warnings.warn(\n",
      "/home/eduardo/Documentos/Water-Cycle-Neural-Network/venv/lib/python3.12/site-packages/optuna/trial/_trial.py:497: UserWarning: The reported value is ignored because this `step` 12 is already reported.\n",
      "  warnings.warn(\n",
      "/home/eduardo/Documentos/Water-Cycle-Neural-Network/venv/lib/python3.12/site-packages/optuna/trial/_trial.py:497: UserWarning: The reported value is ignored because this `step` 13 is already reported.\n",
      "  warnings.warn(\n",
      "/home/eduardo/Documentos/Water-Cycle-Neural-Network/venv/lib/python3.12/site-packages/optuna/trial/_trial.py:497: UserWarning: The reported value is ignored because this `step` 14 is already reported.\n",
      "  warnings.warn(\n",
      "Monitored metric val_loss did not improve in the last 15 records. Best score: 0.337. Signaling Trainer to stop.\n",
      "GPU available: True (cuda), used: True\n",
      "TPU available: False, using: 0 TPU cores\n",
      "HPU available: False, using: 0 HPUs\n",
      "LOCAL_RANK: 0 - CUDA_VISIBLE_DEVICES: [0]\n"
     ]
    },
    {
     "name": "stdout",
     "output_type": "stream",
     "text": [
      "Model loaded from checkpoint for trial 0, fold 2\n"
     ]
    },
    {
     "name": "stderr",
     "output_type": "stream",
     "text": [
      "[I 2025-06-10 15:51:40,028] Trial 0 finished with value: 108.62161131612295 and parameters: {'input_chunk_length': 156, 'dropout': 0.4, 'batch_size': 72, 'lr': 5.8207212856627805e-06, 'weight_decay': 0.009069816725470973, 'num_layers': 4, 'num_blocks': 3, 'num_stacks': 2, 'layer_widths': 176, 'activation': 'GELU'}. Best is trial 0 with value: 108.62161131612295.\n",
      "GPU available: True (cuda), used: True\n",
      "TPU available: False, using: 0 TPU cores\n",
      "HPU available: False, using: 0 HPUs\n",
      "LOCAL_RANK: 0 - CUDA_VISIBLE_DEVICES: [0]\n"
     ]
    },
    {
     "name": "stdout",
     "output_type": "stream",
     "text": [
      "SMAPE fold 2: 91.90618291017489\n",
      "Média dos SMAPE nos folds: 108.62161131612295\n",
      "Results of trial 0 saved in optuna_iteration_metrics/trial_0.json\n",
      "Current value: 108.62161131612295, Current params: {'input_chunk_length': 156, 'dropout': 0.4, 'batch_size': 72, 'lr': 5.8207212856627805e-06, 'weight_decay': 0.009069816725470973, 'num_layers': 4, 'num_blocks': 3, 'num_stacks': 2, 'layer_widths': 176, 'activation': 'GELU'}\n",
      "Best value: 108.62161131612295, Best params: {'input_chunk_length': 156, 'dropout': 0.4, 'batch_size': 72, 'lr': 5.8207212856627805e-06, 'weight_decay': 0.009069816725470973, 'num_layers': 4, 'num_blocks': 3, 'num_stacks': 2, 'layer_widths': 176, 'activation': 'GELU'}\n",
      "\n",
      "Fold 1/3\n"
     ]
    },
    {
     "name": "stderr",
     "output_type": "stream",
     "text": [
      "Metric val_loss improved. New best score: 8.152\n",
      "Metric val_loss improved by 0.010 >= min_delta = 0.0005. New best score: 8.142\n",
      "Monitored metric val_loss did not improve in the last 15 records. Best score: 8.142. Signaling Trainer to stop.\n",
      "GPU available: True (cuda), used: True\n",
      "TPU available: False, using: 0 TPU cores\n",
      "HPU available: False, using: 0 HPUs\n",
      "LOCAL_RANK: 0 - CUDA_VISIBLE_DEVICES: [0]\n"
     ]
    },
    {
     "name": "stdout",
     "output_type": "stream",
     "text": [
      "Model loaded from checkpoint for trial 1, fold 0\n"
     ]
    },
    {
     "name": "stderr",
     "output_type": "stream",
     "text": [
      "GPU available: True (cuda), used: True\n",
      "TPU available: False, using: 0 TPU cores\n",
      "HPU available: False, using: 0 HPUs\n",
      "LOCAL_RANK: 0 - CUDA_VISIBLE_DEVICES: [0]\n"
     ]
    },
    {
     "name": "stdout",
     "output_type": "stream",
     "text": [
      "SMAPE fold 0: 127.09369264028851\n",
      "\n",
      "Fold 2/3\n"
     ]
    },
    {
     "name": "stderr",
     "output_type": "stream",
     "text": [
      "/home/eduardo/Documentos/Water-Cycle-Neural-Network/venv/lib/python3.12/site-packages/optuna/trial/_trial.py:497: UserWarning: The reported value is ignored because this `step` 0 is already reported.\n",
      "  warnings.warn(\n",
      "Metric val_loss improved by 7.694 >= min_delta = 0.0005. New best score: 0.448\n",
      "/home/eduardo/Documentos/Water-Cycle-Neural-Network/venv/lib/python3.12/site-packages/optuna/trial/_trial.py:497: UserWarning: The reported value is ignored because this `step` 1 is already reported.\n",
      "  warnings.warn(\n",
      "Metric val_loss improved by 0.055 >= min_delta = 0.0005. New best score: 0.392\n",
      "/home/eduardo/Documentos/Water-Cycle-Neural-Network/venv/lib/python3.12/site-packages/optuna/trial/_trial.py:497: UserWarning: The reported value is ignored because this `step` 2 is already reported.\n",
      "  warnings.warn(\n",
      "Metric val_loss improved by 0.034 >= min_delta = 0.0005. New best score: 0.359\n",
      "/home/eduardo/Documentos/Water-Cycle-Neural-Network/venv/lib/python3.12/site-packages/optuna/trial/_trial.py:497: UserWarning: The reported value is ignored because this `step` 3 is already reported.\n",
      "  warnings.warn(\n",
      "Metric val_loss improved by 0.015 >= min_delta = 0.0005. New best score: 0.344\n",
      "/home/eduardo/Documentos/Water-Cycle-Neural-Network/venv/lib/python3.12/site-packages/optuna/trial/_trial.py:497: UserWarning: The reported value is ignored because this `step` 4 is already reported.\n",
      "  warnings.warn(\n",
      "Metric val_loss improved by 0.013 >= min_delta = 0.0005. New best score: 0.331\n",
      "/home/eduardo/Documentos/Water-Cycle-Neural-Network/venv/lib/python3.12/site-packages/optuna/trial/_trial.py:497: UserWarning: The reported value is ignored because this `step` 5 is already reported.\n",
      "  warnings.warn(\n",
      "Metric val_loss improved by 0.014 >= min_delta = 0.0005. New best score: 0.317\n",
      "/home/eduardo/Documentos/Water-Cycle-Neural-Network/venv/lib/python3.12/site-packages/optuna/trial/_trial.py:497: UserWarning: The reported value is ignored because this `step` 6 is already reported.\n",
      "  warnings.warn(\n",
      "Metric val_loss improved by 0.014 >= min_delta = 0.0005. New best score: 0.302\n",
      "/home/eduardo/Documentos/Water-Cycle-Neural-Network/venv/lib/python3.12/site-packages/optuna/trial/_trial.py:497: UserWarning: The reported value is ignored because this `step` 7 is already reported.\n",
      "  warnings.warn(\n",
      "Metric val_loss improved by 0.019 >= min_delta = 0.0005. New best score: 0.284\n",
      "/home/eduardo/Documentos/Water-Cycle-Neural-Network/venv/lib/python3.12/site-packages/optuna/trial/_trial.py:497: UserWarning: The reported value is ignored because this `step` 8 is already reported.\n",
      "  warnings.warn(\n",
      "Metric val_loss improved by 0.021 >= min_delta = 0.0005. New best score: 0.263\n",
      "/home/eduardo/Documentos/Water-Cycle-Neural-Network/venv/lib/python3.12/site-packages/optuna/trial/_trial.py:497: UserWarning: The reported value is ignored because this `step` 9 is already reported.\n",
      "  warnings.warn(\n",
      "Metric val_loss improved by 0.022 >= min_delta = 0.0005. New best score: 0.241\n",
      "/home/eduardo/Documentos/Water-Cycle-Neural-Network/venv/lib/python3.12/site-packages/optuna/trial/_trial.py:497: UserWarning: The reported value is ignored because this `step` 10 is already reported.\n",
      "  warnings.warn(\n",
      "Metric val_loss improved by 0.024 >= min_delta = 0.0005. New best score: 0.216\n",
      "/home/eduardo/Documentos/Water-Cycle-Neural-Network/venv/lib/python3.12/site-packages/optuna/trial/_trial.py:497: UserWarning: The reported value is ignored because this `step` 11 is already reported.\n",
      "  warnings.warn(\n",
      "Metric val_loss improved by 0.020 >= min_delta = 0.0005. New best score: 0.196\n",
      "/home/eduardo/Documentos/Water-Cycle-Neural-Network/venv/lib/python3.12/site-packages/optuna/trial/_trial.py:497: UserWarning: The reported value is ignored because this `step` 12 is already reported.\n",
      "  warnings.warn(\n",
      "Metric val_loss improved by 0.017 >= min_delta = 0.0005. New best score: 0.179\n",
      "/home/eduardo/Documentos/Water-Cycle-Neural-Network/venv/lib/python3.12/site-packages/optuna/trial/_trial.py:497: UserWarning: The reported value is ignored because this `step` 13 is already reported.\n",
      "  warnings.warn(\n",
      "Metric val_loss improved by 0.020 >= min_delta = 0.0005. New best score: 0.159\n",
      "/home/eduardo/Documentos/Water-Cycle-Neural-Network/venv/lib/python3.12/site-packages/optuna/trial/_trial.py:497: UserWarning: The reported value is ignored because this `step` 14 is already reported.\n",
      "  warnings.warn(\n",
      "Metric val_loss improved by 0.012 >= min_delta = 0.0005. New best score: 0.147\n",
      "/home/eduardo/Documentos/Water-Cycle-Neural-Network/venv/lib/python3.12/site-packages/optuna/trial/_trial.py:497: UserWarning: The reported value is ignored because this `step` 15 is already reported.\n",
      "  warnings.warn(\n",
      "Metric val_loss improved by 0.010 >= min_delta = 0.0005. New best score: 0.137\n",
      "/home/eduardo/Documentos/Water-Cycle-Neural-Network/venv/lib/python3.12/site-packages/optuna/trial/_trial.py:497: UserWarning: The reported value is ignored because this `step` 16 is already reported.\n",
      "  warnings.warn(\n",
      "Metric val_loss improved by 0.011 >= min_delta = 0.0005. New best score: 0.126\n",
      "Metric val_loss improved by 0.006 >= min_delta = 0.0005. New best score: 0.119\n",
      "Metric val_loss improved by 0.006 >= min_delta = 0.0005. New best score: 0.113\n",
      "Metric val_loss improved by 0.009 >= min_delta = 0.0005. New best score: 0.105\n",
      "Metric val_loss improved by 0.003 >= min_delta = 0.0005. New best score: 0.102\n",
      "Metric val_loss improved by 0.002 >= min_delta = 0.0005. New best score: 0.100\n",
      "Metric val_loss improved by 0.004 >= min_delta = 0.0005. New best score: 0.097\n",
      "Metric val_loss improved by 0.004 >= min_delta = 0.0005. New best score: 0.092\n",
      "Metric val_loss improved by 0.002 >= min_delta = 0.0005. New best score: 0.091\n",
      "Metric val_loss improved by 0.007 >= min_delta = 0.0005. New best score: 0.084\n",
      "`Trainer.fit` stopped: `max_epochs=30` reached.\n",
      "GPU available: True (cuda), used: True\n",
      "TPU available: False, using: 0 TPU cores\n",
      "HPU available: False, using: 0 HPUs\n",
      "LOCAL_RANK: 0 - CUDA_VISIBLE_DEVICES: [0]\n"
     ]
    },
    {
     "name": "stdout",
     "output_type": "stream",
     "text": [
      "Model loaded from checkpoint for trial 1, fold 1\n"
     ]
    },
    {
     "name": "stderr",
     "output_type": "stream",
     "text": [
      "GPU available: True (cuda), used: True\n",
      "TPU available: False, using: 0 TPU cores\n",
      "HPU available: False, using: 0 HPUs\n",
      "LOCAL_RANK: 0 - CUDA_VISIBLE_DEVICES: [0]\n"
     ]
    },
    {
     "name": "stdout",
     "output_type": "stream",
     "text": [
      "SMAPE fold 1: 68.63539510664364\n",
      "\n",
      "Fold 3/3\n"
     ]
    },
    {
     "name": "stderr",
     "output_type": "stream",
     "text": [
      "/home/eduardo/Documentos/Water-Cycle-Neural-Network/venv/lib/python3.12/site-packages/optuna/trial/_trial.py:497: UserWarning: The reported value is ignored because this `step` 0 is already reported.\n",
      "  warnings.warn(\n",
      "/home/eduardo/Documentos/Water-Cycle-Neural-Network/venv/lib/python3.12/site-packages/optuna/trial/_trial.py:497: UserWarning: The reported value is ignored because this `step` 1 is already reported.\n",
      "  warnings.warn(\n",
      "/home/eduardo/Documentos/Water-Cycle-Neural-Network/venv/lib/python3.12/site-packages/optuna/trial/_trial.py:497: UserWarning: The reported value is ignored because this `step` 2 is already reported.\n",
      "  warnings.warn(\n",
      "/home/eduardo/Documentos/Water-Cycle-Neural-Network/venv/lib/python3.12/site-packages/optuna/trial/_trial.py:497: UserWarning: The reported value is ignored because this `step` 3 is already reported.\n",
      "  warnings.warn(\n",
      "/home/eduardo/Documentos/Water-Cycle-Neural-Network/venv/lib/python3.12/site-packages/optuna/trial/_trial.py:497: UserWarning: The reported value is ignored because this `step` 4 is already reported.\n",
      "  warnings.warn(\n",
      "/home/eduardo/Documentos/Water-Cycle-Neural-Network/venv/lib/python3.12/site-packages/optuna/trial/_trial.py:497: UserWarning: The reported value is ignored because this `step` 5 is already reported.\n",
      "  warnings.warn(\n",
      "/home/eduardo/Documentos/Water-Cycle-Neural-Network/venv/lib/python3.12/site-packages/optuna/trial/_trial.py:497: UserWarning: The reported value is ignored because this `step` 6 is already reported.\n",
      "  warnings.warn(\n",
      "/home/eduardo/Documentos/Water-Cycle-Neural-Network/venv/lib/python3.12/site-packages/optuna/trial/_trial.py:497: UserWarning: The reported value is ignored because this `step` 7 is already reported.\n",
      "  warnings.warn(\n",
      "/home/eduardo/Documentos/Water-Cycle-Neural-Network/venv/lib/python3.12/site-packages/optuna/trial/_trial.py:497: UserWarning: The reported value is ignored because this `step` 8 is already reported.\n",
      "  warnings.warn(\n",
      "/home/eduardo/Documentos/Water-Cycle-Neural-Network/venv/lib/python3.12/site-packages/optuna/trial/_trial.py:497: UserWarning: The reported value is ignored because this `step` 9 is already reported.\n",
      "  warnings.warn(\n",
      "/home/eduardo/Documentos/Water-Cycle-Neural-Network/venv/lib/python3.12/site-packages/optuna/trial/_trial.py:497: UserWarning: The reported value is ignored because this `step` 10 is already reported.\n",
      "  warnings.warn(\n",
      "/home/eduardo/Documentos/Water-Cycle-Neural-Network/venv/lib/python3.12/site-packages/optuna/trial/_trial.py:497: UserWarning: The reported value is ignored because this `step` 11 is already reported.\n",
      "  warnings.warn(\n",
      "Monitored metric val_loss did not improve in the last 15 records. Best score: 0.084. Signaling Trainer to stop.\n",
      "GPU available: True (cuda), used: True\n",
      "TPU available: False, using: 0 TPU cores\n",
      "HPU available: False, using: 0 HPUs\n",
      "LOCAL_RANK: 0 - CUDA_VISIBLE_DEVICES: [0]\n"
     ]
    },
    {
     "name": "stdout",
     "output_type": "stream",
     "text": [
      "Model loaded from checkpoint for trial 1, fold 2\n"
     ]
    },
    {
     "name": "stderr",
     "output_type": "stream",
     "text": [
      "[I 2025-06-10 15:53:22,436] Trial 1 finished with value: 91.72800113617403 and parameters: {'input_chunk_length': 48, 'dropout': 0.4, 'batch_size': 192, 'lr': 0.0001354163471788365, 'weight_decay': 4.376249867162605e-06, 'num_layers': 5, 'num_blocks': 4, 'num_stacks': 3, 'layer_widths': 32, 'activation': 'ReLU'}. Best is trial 1 with value: 91.72800113617403.\n",
      "GPU available: True (cuda), used: True\n",
      "TPU available: False, using: 0 TPU cores\n",
      "HPU available: False, using: 0 HPUs\n",
      "LOCAL_RANK: 0 - CUDA_VISIBLE_DEVICES: [0]\n"
     ]
    },
    {
     "name": "stdout",
     "output_type": "stream",
     "text": [
      "SMAPE fold 2: 79.45491566158992\n",
      "Média dos SMAPE nos folds: 91.72800113617403\n",
      "Results of trial 1 saved in optuna_iteration_metrics/trial_1.json\n",
      "Current value: 91.72800113617403, Current params: {'input_chunk_length': 48, 'dropout': 0.4, 'batch_size': 192, 'lr': 0.0001354163471788365, 'weight_decay': 4.376249867162605e-06, 'num_layers': 5, 'num_blocks': 4, 'num_stacks': 3, 'layer_widths': 32, 'activation': 'ReLU'}\n",
      "Best value: 91.72800113617403, Best params: {'input_chunk_length': 48, 'dropout': 0.4, 'batch_size': 192, 'lr': 0.0001354163471788365, 'weight_decay': 4.376249867162605e-06, 'num_layers': 5, 'num_blocks': 4, 'num_stacks': 3, 'layer_widths': 32, 'activation': 'ReLU'}\n",
      "\n",
      "Fold 1/3\n"
     ]
    },
    {
     "name": "stderr",
     "output_type": "stream",
     "text": [
      "Metric val_loss improved. New best score: 23.553\n",
      "Metric val_loss improved by 0.927 >= min_delta = 0.0005. New best score: 22.626\n",
      "Metric val_loss improved by 0.556 >= min_delta = 0.0005. New best score: 22.070\n",
      "Metric val_loss improved by 0.892 >= min_delta = 0.0005. New best score: 21.178\n",
      "Metric val_loss improved by 0.255 >= min_delta = 0.0005. New best score: 20.923\n",
      "Metric val_loss improved by 0.111 >= min_delta = 0.0005. New best score: 20.813\n",
      "Metric val_loss improved by 0.071 >= min_delta = 0.0005. New best score: 20.742\n",
      "Metric val_loss improved by 0.110 >= min_delta = 0.0005. New best score: 20.633\n",
      "Metric val_loss improved by 0.063 >= min_delta = 0.0005. New best score: 20.569\n",
      "Metric val_loss improved by 0.419 >= min_delta = 0.0005. New best score: 20.150\n",
      "Metric val_loss improved by 0.435 >= min_delta = 0.0005. New best score: 19.715\n",
      "Metric val_loss improved by 0.358 >= min_delta = 0.0005. New best score: 19.357\n",
      "Metric val_loss improved by 0.307 >= min_delta = 0.0005. New best score: 19.050\n",
      "Metric val_loss improved by 0.063 >= min_delta = 0.0005. New best score: 18.987\n",
      "Metric val_loss improved by 0.181 >= min_delta = 0.0005. New best score: 18.806\n",
      "Metric val_loss improved by 0.024 >= min_delta = 0.0005. New best score: 18.781\n",
      "Metric val_loss improved by 0.106 >= min_delta = 0.0005. New best score: 18.676\n",
      "`Trainer.fit` stopped: `max_epochs=30` reached.\n",
      "GPU available: True (cuda), used: True\n",
      "TPU available: False, using: 0 TPU cores\n",
      "HPU available: False, using: 0 HPUs\n",
      "LOCAL_RANK: 0 - CUDA_VISIBLE_DEVICES: [0]\n"
     ]
    },
    {
     "name": "stdout",
     "output_type": "stream",
     "text": [
      "Model loaded from checkpoint for trial 2, fold 0\n"
     ]
    },
    {
     "name": "stderr",
     "output_type": "stream",
     "text": [
      "GPU available: True (cuda), used: True\n",
      "TPU available: False, using: 0 TPU cores\n",
      "HPU available: False, using: 0 HPUs\n",
      "LOCAL_RANK: 0 - CUDA_VISIBLE_DEVICES: [0]\n"
     ]
    },
    {
     "name": "stdout",
     "output_type": "stream",
     "text": [
      "SMAPE fold 0: 142.89980473018116\n",
      "\n",
      "Fold 2/3\n"
     ]
    },
    {
     "name": "stderr",
     "output_type": "stream",
     "text": [
      "/home/eduardo/Documentos/Water-Cycle-Neural-Network/venv/lib/python3.12/site-packages/optuna/trial/_trial.py:497: UserWarning: The reported value is ignored because this `step` 0 is already reported.\n",
      "  warnings.warn(\n",
      "Metric val_loss improved by 18.447 >= min_delta = 0.0005. New best score: 0.229\n",
      "/home/eduardo/Documentos/Water-Cycle-Neural-Network/venv/lib/python3.12/site-packages/optuna/trial/_trial.py:497: UserWarning: The reported value is ignored because this `step` 1 is already reported.\n",
      "  warnings.warn(\n",
      "Metric val_loss improved by 0.118 >= min_delta = 0.0005. New best score: 0.111\n",
      "/home/eduardo/Documentos/Water-Cycle-Neural-Network/venv/lib/python3.12/site-packages/optuna/trial/_trial.py:497: UserWarning: The reported value is ignored because this `step` 2 is already reported.\n",
      "  warnings.warn(\n",
      "Metric val_loss improved by 0.027 >= min_delta = 0.0005. New best score: 0.084\n",
      "/home/eduardo/Documentos/Water-Cycle-Neural-Network/venv/lib/python3.12/site-packages/optuna/trial/_trial.py:497: UserWarning: The reported value is ignored because this `step` 3 is already reported.\n",
      "  warnings.warn(\n",
      "Metric val_loss improved by 0.001 >= min_delta = 0.0005. New best score: 0.083\n",
      "/home/eduardo/Documentos/Water-Cycle-Neural-Network/venv/lib/python3.12/site-packages/optuna/trial/_trial.py:497: UserWarning: The reported value is ignored because this `step` 4 is already reported.\n",
      "  warnings.warn(\n",
      "Metric val_loss improved by 0.003 >= min_delta = 0.0005. New best score: 0.080\n",
      "/home/eduardo/Documentos/Water-Cycle-Neural-Network/venv/lib/python3.12/site-packages/optuna/trial/_trial.py:497: UserWarning: The reported value is ignored because this `step` 5 is already reported.\n",
      "  warnings.warn(\n",
      "Metric val_loss improved by 0.004 >= min_delta = 0.0005. New best score: 0.076\n",
      "/home/eduardo/Documentos/Water-Cycle-Neural-Network/venv/lib/python3.12/site-packages/optuna/trial/_trial.py:497: UserWarning: The reported value is ignored because this `step` 6 is already reported.\n",
      "  warnings.warn(\n",
      "/home/eduardo/Documentos/Water-Cycle-Neural-Network/venv/lib/python3.12/site-packages/optuna/trial/_trial.py:497: UserWarning: The reported value is ignored because this `step` 7 is already reported.\n",
      "  warnings.warn(\n",
      "/home/eduardo/Documentos/Water-Cycle-Neural-Network/venv/lib/python3.12/site-packages/optuna/trial/_trial.py:497: UserWarning: The reported value is ignored because this `step` 8 is already reported.\n",
      "  warnings.warn(\n",
      "/home/eduardo/Documentos/Water-Cycle-Neural-Network/venv/lib/python3.12/site-packages/optuna/trial/_trial.py:497: UserWarning: The reported value is ignored because this `step` 9 is already reported.\n",
      "  warnings.warn(\n",
      "/home/eduardo/Documentos/Water-Cycle-Neural-Network/venv/lib/python3.12/site-packages/optuna/trial/_trial.py:497: UserWarning: The reported value is ignored because this `step` 10 is already reported.\n",
      "  warnings.warn(\n",
      "Metric val_loss improved by 0.005 >= min_delta = 0.0005. New best score: 0.070\n",
      "/home/eduardo/Documentos/Water-Cycle-Neural-Network/venv/lib/python3.12/site-packages/optuna/trial/_trial.py:497: UserWarning: The reported value is ignored because this `step` 11 is already reported.\n",
      "  warnings.warn(\n",
      "Metric val_loss improved by 0.006 >= min_delta = 0.0005. New best score: 0.064\n",
      "/home/eduardo/Documentos/Water-Cycle-Neural-Network/venv/lib/python3.12/site-packages/optuna/trial/_trial.py:497: UserWarning: The reported value is ignored because this `step` 12 is already reported.\n",
      "  warnings.warn(\n",
      "Metric val_loss improved by 0.003 >= min_delta = 0.0005. New best score: 0.061\n",
      "/home/eduardo/Documentos/Water-Cycle-Neural-Network/venv/lib/python3.12/site-packages/optuna/trial/_trial.py:497: UserWarning: The reported value is ignored because this `step` 13 is already reported.\n",
      "  warnings.warn(\n",
      "/home/eduardo/Documentos/Water-Cycle-Neural-Network/venv/lib/python3.12/site-packages/optuna/trial/_trial.py:497: UserWarning: The reported value is ignored because this `step` 14 is already reported.\n",
      "  warnings.warn(\n",
      "/home/eduardo/Documentos/Water-Cycle-Neural-Network/venv/lib/python3.12/site-packages/optuna/trial/_trial.py:497: UserWarning: The reported value is ignored because this `step` 15 is already reported.\n",
      "  warnings.warn(\n",
      "/home/eduardo/Documentos/Water-Cycle-Neural-Network/venv/lib/python3.12/site-packages/optuna/trial/_trial.py:497: UserWarning: The reported value is ignored because this `step` 16 is already reported.\n",
      "  warnings.warn(\n",
      "/home/eduardo/Documentos/Water-Cycle-Neural-Network/venv/lib/python3.12/site-packages/optuna/trial/_trial.py:497: UserWarning: The reported value is ignored because this `step` 17 is already reported.\n",
      "  warnings.warn(\n",
      "/home/eduardo/Documentos/Water-Cycle-Neural-Network/venv/lib/python3.12/site-packages/optuna/trial/_trial.py:497: UserWarning: The reported value is ignored because this `step` 18 is already reported.\n",
      "  warnings.warn(\n",
      "/home/eduardo/Documentos/Water-Cycle-Neural-Network/venv/lib/python3.12/site-packages/optuna/trial/_trial.py:497: UserWarning: The reported value is ignored because this `step` 19 is already reported.\n",
      "  warnings.warn(\n",
      "/home/eduardo/Documentos/Water-Cycle-Neural-Network/venv/lib/python3.12/site-packages/optuna/trial/_trial.py:497: UserWarning: The reported value is ignored because this `step` 20 is already reported.\n",
      "  warnings.warn(\n",
      "/home/eduardo/Documentos/Water-Cycle-Neural-Network/venv/lib/python3.12/site-packages/optuna/trial/_trial.py:497: UserWarning: The reported value is ignored because this `step` 21 is already reported.\n",
      "  warnings.warn(\n",
      "/home/eduardo/Documentos/Water-Cycle-Neural-Network/venv/lib/python3.12/site-packages/optuna/trial/_trial.py:497: UserWarning: The reported value is ignored because this `step` 22 is already reported.\n",
      "  warnings.warn(\n",
      "/home/eduardo/Documentos/Water-Cycle-Neural-Network/venv/lib/python3.12/site-packages/optuna/trial/_trial.py:497: UserWarning: The reported value is ignored because this `step` 23 is already reported.\n",
      "  warnings.warn(\n",
      "/home/eduardo/Documentos/Water-Cycle-Neural-Network/venv/lib/python3.12/site-packages/optuna/trial/_trial.py:497: UserWarning: The reported value is ignored because this `step` 24 is already reported.\n",
      "  warnings.warn(\n",
      "/home/eduardo/Documentos/Water-Cycle-Neural-Network/venv/lib/python3.12/site-packages/optuna/trial/_trial.py:497: UserWarning: The reported value is ignored because this `step` 25 is already reported.\n",
      "  warnings.warn(\n",
      "/home/eduardo/Documentos/Water-Cycle-Neural-Network/venv/lib/python3.12/site-packages/optuna/trial/_trial.py:497: UserWarning: The reported value is ignored because this `step` 26 is already reported.\n",
      "  warnings.warn(\n",
      "/home/eduardo/Documentos/Water-Cycle-Neural-Network/venv/lib/python3.12/site-packages/optuna/trial/_trial.py:497: UserWarning: The reported value is ignored because this `step` 27 is already reported.\n",
      "  warnings.warn(\n",
      "Monitored metric val_loss did not improve in the last 15 records. Best score: 0.061. Signaling Trainer to stop.\n",
      "GPU available: True (cuda), used: True\n",
      "TPU available: False, using: 0 TPU cores\n",
      "HPU available: False, using: 0 HPUs\n",
      "LOCAL_RANK: 0 - CUDA_VISIBLE_DEVICES: [0]\n"
     ]
    },
    {
     "name": "stdout",
     "output_type": "stream",
     "text": [
      "Model loaded from checkpoint for trial 2, fold 1\n"
     ]
    },
    {
     "name": "stderr",
     "output_type": "stream",
     "text": [
      "GPU available: True (cuda), used: True\n",
      "TPU available: False, using: 0 TPU cores\n",
      "HPU available: False, using: 0 HPUs\n",
      "LOCAL_RANK: 0 - CUDA_VISIBLE_DEVICES: [0]\n"
     ]
    },
    {
     "name": "stdout",
     "output_type": "stream",
     "text": [
      "SMAPE fold 1: 62.16424769629612\n",
      "\n",
      "Fold 3/3\n"
     ]
    },
    {
     "name": "stderr",
     "output_type": "stream",
     "text": [
      "/home/eduardo/Documentos/Water-Cycle-Neural-Network/venv/lib/python3.12/site-packages/optuna/trial/_trial.py:497: UserWarning: The reported value is ignored because this `step` 0 is already reported.\n",
      "  warnings.warn(\n",
      "Monitored metric val_loss did not improve in the last 16 records. Best score: 0.061. Signaling Trainer to stop.\n",
      "GPU available: True (cuda), used: True\n",
      "TPU available: False, using: 0 TPU cores\n",
      "HPU available: False, using: 0 HPUs\n",
      "LOCAL_RANK: 0 - CUDA_VISIBLE_DEVICES: [0]\n"
     ]
    },
    {
     "name": "stdout",
     "output_type": "stream",
     "text": [
      "Model loaded from checkpoint for trial 2, fold 2\n"
     ]
    },
    {
     "name": "stderr",
     "output_type": "stream",
     "text": [
      "[I 2025-06-10 15:54:37,514] Trial 2 finished with value: 97.48879203300014 and parameters: {'input_chunk_length': 120, 'dropout': 0.2, 'batch_size': 232, 'lr': 0.001466537112107695, 'weight_decay': 3.951184465450467e-06, 'num_layers': 1, 'num_blocks': 1, 'num_stacks': 5, 'layer_widths': 48, 'activation': 'ReLU'}. Best is trial 1 with value: 91.72800113617403.\n",
      "GPU available: True (cuda), used: True\n",
      "TPU available: False, using: 0 TPU cores\n",
      "HPU available: False, using: 0 HPUs\n",
      "LOCAL_RANK: 0 - CUDA_VISIBLE_DEVICES: [0]\n"
     ]
    },
    {
     "name": "stdout",
     "output_type": "stream",
     "text": [
      "SMAPE fold 2: 87.40232367252312\n",
      "Média dos SMAPE nos folds: 97.48879203300014\n",
      "Results of trial 2 saved in optuna_iteration_metrics/trial_2.json\n",
      "Current value: 97.48879203300014, Current params: {'input_chunk_length': 120, 'dropout': 0.2, 'batch_size': 232, 'lr': 0.001466537112107695, 'weight_decay': 3.951184465450467e-06, 'num_layers': 1, 'num_blocks': 1, 'num_stacks': 5, 'layer_widths': 48, 'activation': 'ReLU'}\n",
      "Best value: 91.72800113617403, Best params: {'input_chunk_length': 48, 'dropout': 0.4, 'batch_size': 192, 'lr': 0.0001354163471788365, 'weight_decay': 4.376249867162605e-06, 'num_layers': 5, 'num_blocks': 4, 'num_stacks': 3, 'layer_widths': 32, 'activation': 'ReLU'}\n",
      "\n",
      "Fold 1/3\n"
     ]
    },
    {
     "name": "stderr",
     "output_type": "stream",
     "text": [
      "Metric val_loss improved. New best score: 8.525\n",
      "Metric val_loss improved by 0.017 >= min_delta = 0.0005. New best score: 8.509\n",
      "Metric val_loss improved by 0.101 >= min_delta = 0.0005. New best score: 8.408\n",
      "Metric val_loss improved by 0.106 >= min_delta = 0.0005. New best score: 8.302\n",
      "Metric val_loss improved by 0.073 >= min_delta = 0.0005. New best score: 8.229\n",
      "Metric val_loss improved by 0.068 >= min_delta = 0.0005. New best score: 8.162\n",
      "Metric val_loss improved by 0.053 >= min_delta = 0.0005. New best score: 8.109\n",
      "Metric val_loss improved by 0.049 >= min_delta = 0.0005. New best score: 8.060\n",
      "Metric val_loss improved by 0.028 >= min_delta = 0.0005. New best score: 8.032\n",
      "Metric val_loss improved by 0.007 >= min_delta = 0.0005. New best score: 8.026\n",
      "Metric val_loss improved by 0.023 >= min_delta = 0.0005. New best score: 8.002\n",
      "Metric val_loss improved by 0.005 >= min_delta = 0.0005. New best score: 7.997\n",
      "`Trainer.fit` stopped: `max_epochs=30` reached.\n",
      "GPU available: True (cuda), used: True\n",
      "TPU available: False, using: 0 TPU cores\n",
      "HPU available: False, using: 0 HPUs\n",
      "LOCAL_RANK: 0 - CUDA_VISIBLE_DEVICES: [0]\n"
     ]
    },
    {
     "name": "stdout",
     "output_type": "stream",
     "text": [
      "Model loaded from checkpoint for trial 3, fold 0\n"
     ]
    },
    {
     "name": "stderr",
     "output_type": "stream",
     "text": [
      "GPU available: True (cuda), used: True\n",
      "TPU available: False, using: 0 TPU cores\n",
      "HPU available: False, using: 0 HPUs\n",
      "LOCAL_RANK: 0 - CUDA_VISIBLE_DEVICES: [0]\n"
     ]
    },
    {
     "name": "stdout",
     "output_type": "stream",
     "text": [
      "SMAPE fold 0: 114.39733317755194\n",
      "\n",
      "Fold 2/3\n"
     ]
    },
    {
     "name": "stderr",
     "output_type": "stream",
     "text": [
      "/home/eduardo/Documentos/Water-Cycle-Neural-Network/venv/lib/python3.12/site-packages/optuna/trial/_trial.py:497: UserWarning: The reported value is ignored because this `step` 0 is already reported.\n",
      "  warnings.warn(\n",
      "Metric val_loss improved by 7.630 >= min_delta = 0.0005. New best score: 0.367\n",
      "/home/eduardo/Documentos/Water-Cycle-Neural-Network/venv/lib/python3.12/site-packages/optuna/trial/_trial.py:497: UserWarning: The reported value is ignored because this `step` 1 is already reported.\n",
      "  warnings.warn(\n",
      "Metric val_loss improved by 0.078 >= min_delta = 0.0005. New best score: 0.289\n",
      "/home/eduardo/Documentos/Water-Cycle-Neural-Network/venv/lib/python3.12/site-packages/optuna/trial/_trial.py:497: UserWarning: The reported value is ignored because this `step` 2 is already reported.\n",
      "  warnings.warn(\n",
      "Metric val_loss improved by 0.086 >= min_delta = 0.0005. New best score: 0.203\n",
      "/home/eduardo/Documentos/Water-Cycle-Neural-Network/venv/lib/python3.12/site-packages/optuna/trial/_trial.py:497: UserWarning: The reported value is ignored because this `step` 3 is already reported.\n",
      "  warnings.warn(\n",
      "Metric val_loss improved by 0.084 >= min_delta = 0.0005. New best score: 0.119\n",
      "/home/eduardo/Documentos/Water-Cycle-Neural-Network/venv/lib/python3.12/site-packages/optuna/trial/_trial.py:497: UserWarning: The reported value is ignored because this `step` 4 is already reported.\n",
      "  warnings.warn(\n",
      "Metric val_loss improved by 0.031 >= min_delta = 0.0005. New best score: 0.089\n",
      "/home/eduardo/Documentos/Water-Cycle-Neural-Network/venv/lib/python3.12/site-packages/optuna/trial/_trial.py:497: UserWarning: The reported value is ignored because this `step` 5 is already reported.\n",
      "  warnings.warn(\n",
      "Metric val_loss improved by 0.012 >= min_delta = 0.0005. New best score: 0.077\n",
      "/home/eduardo/Documentos/Water-Cycle-Neural-Network/venv/lib/python3.12/site-packages/optuna/trial/_trial.py:497: UserWarning: The reported value is ignored because this `step` 6 is already reported.\n",
      "  warnings.warn(\n",
      "Metric val_loss improved by 0.001 >= min_delta = 0.0005. New best score: 0.076\n",
      "/home/eduardo/Documentos/Water-Cycle-Neural-Network/venv/lib/python3.12/site-packages/optuna/trial/_trial.py:497: UserWarning: The reported value is ignored because this `step` 7 is already reported.\n",
      "  warnings.warn(\n",
      "/home/eduardo/Documentos/Water-Cycle-Neural-Network/venv/lib/python3.12/site-packages/optuna/trial/_trial.py:497: UserWarning: The reported value is ignored because this `step` 8 is already reported.\n",
      "  warnings.warn(\n",
      "/home/eduardo/Documentos/Water-Cycle-Neural-Network/venv/lib/python3.12/site-packages/optuna/trial/_trial.py:497: UserWarning: The reported value is ignored because this `step` 9 is already reported.\n",
      "  warnings.warn(\n",
      "/home/eduardo/Documentos/Water-Cycle-Neural-Network/venv/lib/python3.12/site-packages/optuna/trial/_trial.py:497: UserWarning: The reported value is ignored because this `step` 10 is already reported.\n",
      "  warnings.warn(\n",
      "/home/eduardo/Documentos/Water-Cycle-Neural-Network/venv/lib/python3.12/site-packages/optuna/trial/_trial.py:497: UserWarning: The reported value is ignored because this `step` 11 is already reported.\n",
      "  warnings.warn(\n",
      "Metric val_loss improved by 0.001 >= min_delta = 0.0005. New best score: 0.075\n",
      "/home/eduardo/Documentos/Water-Cycle-Neural-Network/venv/lib/python3.12/site-packages/optuna/trial/_trial.py:497: UserWarning: The reported value is ignored because this `step` 12 is already reported.\n",
      "  warnings.warn(\n",
      "/home/eduardo/Documentos/Water-Cycle-Neural-Network/venv/lib/python3.12/site-packages/optuna/trial/_trial.py:497: UserWarning: The reported value is ignored because this `step` 13 is already reported.\n",
      "  warnings.warn(\n",
      "Metric val_loss improved by 0.001 >= min_delta = 0.0005. New best score: 0.075\n",
      "/home/eduardo/Documentos/Water-Cycle-Neural-Network/venv/lib/python3.12/site-packages/optuna/trial/_trial.py:497: UserWarning: The reported value is ignored because this `step` 14 is already reported.\n",
      "  warnings.warn(\n",
      "/home/eduardo/Documentos/Water-Cycle-Neural-Network/venv/lib/python3.12/site-packages/optuna/trial/_trial.py:497: UserWarning: The reported value is ignored because this `step` 15 is already reported.\n",
      "  warnings.warn(\n",
      "Metric val_loss improved by 0.003 >= min_delta = 0.0005. New best score: 0.071\n",
      "/home/eduardo/Documentos/Water-Cycle-Neural-Network/venv/lib/python3.12/site-packages/optuna/trial/_trial.py:497: UserWarning: The reported value is ignored because this `step` 16 is already reported.\n",
      "  warnings.warn(\n",
      "/home/eduardo/Documentos/Water-Cycle-Neural-Network/venv/lib/python3.12/site-packages/optuna/trial/_trial.py:497: UserWarning: The reported value is ignored because this `step` 17 is already reported.\n",
      "  warnings.warn(\n",
      "/home/eduardo/Documentos/Water-Cycle-Neural-Network/venv/lib/python3.12/site-packages/optuna/trial/_trial.py:497: UserWarning: The reported value is ignored because this `step` 18 is already reported.\n",
      "  warnings.warn(\n",
      "/home/eduardo/Documentos/Water-Cycle-Neural-Network/venv/lib/python3.12/site-packages/optuna/trial/_trial.py:497: UserWarning: The reported value is ignored because this `step` 19 is already reported.\n",
      "  warnings.warn(\n",
      "/home/eduardo/Documentos/Water-Cycle-Neural-Network/venv/lib/python3.12/site-packages/optuna/trial/_trial.py:497: UserWarning: The reported value is ignored because this `step` 20 is already reported.\n",
      "  warnings.warn(\n",
      "/home/eduardo/Documentos/Water-Cycle-Neural-Network/venv/lib/python3.12/site-packages/optuna/trial/_trial.py:497: UserWarning: The reported value is ignored because this `step` 21 is already reported.\n",
      "  warnings.warn(\n",
      "/home/eduardo/Documentos/Water-Cycle-Neural-Network/venv/lib/python3.12/site-packages/optuna/trial/_trial.py:497: UserWarning: The reported value is ignored because this `step` 22 is already reported.\n",
      "  warnings.warn(\n",
      "/home/eduardo/Documentos/Water-Cycle-Neural-Network/venv/lib/python3.12/site-packages/optuna/trial/_trial.py:497: UserWarning: The reported value is ignored because this `step` 23 is already reported.\n",
      "  warnings.warn(\n",
      "/home/eduardo/Documentos/Water-Cycle-Neural-Network/venv/lib/python3.12/site-packages/optuna/trial/_trial.py:497: UserWarning: The reported value is ignored because this `step` 24 is already reported.\n",
      "  warnings.warn(\n",
      "Metric val_loss improved by 0.002 >= min_delta = 0.0005. New best score: 0.069\n",
      "/home/eduardo/Documentos/Water-Cycle-Neural-Network/venv/lib/python3.12/site-packages/optuna/trial/_trial.py:497: UserWarning: The reported value is ignored because this `step` 25 is already reported.\n",
      "  warnings.warn(\n",
      "Metric val_loss improved by 0.002 >= min_delta = 0.0005. New best score: 0.068\n",
      "/home/eduardo/Documentos/Water-Cycle-Neural-Network/venv/lib/python3.12/site-packages/optuna/trial/_trial.py:497: UserWarning: The reported value is ignored because this `step` 26 is already reported.\n",
      "  warnings.warn(\n",
      "Metric val_loss improved by 0.001 >= min_delta = 0.0005. New best score: 0.067\n",
      "/home/eduardo/Documentos/Water-Cycle-Neural-Network/venv/lib/python3.12/site-packages/optuna/trial/_trial.py:497: UserWarning: The reported value is ignored because this `step` 27 is already reported.\n",
      "  warnings.warn(\n",
      "Metric val_loss improved by 0.003 >= min_delta = 0.0005. New best score: 0.064\n",
      "/home/eduardo/Documentos/Water-Cycle-Neural-Network/venv/lib/python3.12/site-packages/optuna/trial/_trial.py:497: UserWarning: The reported value is ignored because this `step` 28 is already reported.\n",
      "  warnings.warn(\n",
      "/home/eduardo/Documentos/Water-Cycle-Neural-Network/venv/lib/python3.12/site-packages/optuna/trial/_trial.py:497: UserWarning: The reported value is ignored because this `step` 29 is already reported.\n",
      "  warnings.warn(\n",
      "Metric val_loss improved by 0.001 >= min_delta = 0.0005. New best score: 0.063\n",
      "`Trainer.fit` stopped: `max_epochs=30` reached.\n",
      "GPU available: True (cuda), used: True\n",
      "TPU available: False, using: 0 TPU cores\n",
      "HPU available: False, using: 0 HPUs\n",
      "LOCAL_RANK: 0 - CUDA_VISIBLE_DEVICES: [0]\n"
     ]
    },
    {
     "name": "stdout",
     "output_type": "stream",
     "text": [
      "Model loaded from checkpoint for trial 3, fold 1\n"
     ]
    },
    {
     "name": "stderr",
     "output_type": "stream",
     "text": [
      "GPU available: True (cuda), used: True\n",
      "TPU available: False, using: 0 TPU cores\n",
      "HPU available: False, using: 0 HPUs\n",
      "LOCAL_RANK: 0 - CUDA_VISIBLE_DEVICES: [0]\n"
     ]
    },
    {
     "name": "stdout",
     "output_type": "stream",
     "text": [
      "SMAPE fold 1: 63.72542836562033\n",
      "\n",
      "Fold 3/3\n"
     ]
    },
    {
     "name": "stderr",
     "output_type": "stream",
     "text": [
      "/home/eduardo/Documentos/Water-Cycle-Neural-Network/venv/lib/python3.12/site-packages/optuna/trial/_trial.py:497: UserWarning: The reported value is ignored because this `step` 0 is already reported.\n",
      "  warnings.warn(\n",
      "/home/eduardo/Documentos/Water-Cycle-Neural-Network/venv/lib/python3.12/site-packages/optuna/trial/_trial.py:497: UserWarning: The reported value is ignored because this `step` 1 is already reported.\n",
      "  warnings.warn(\n",
      "/home/eduardo/Documentos/Water-Cycle-Neural-Network/venv/lib/python3.12/site-packages/optuna/trial/_trial.py:497: UserWarning: The reported value is ignored because this `step` 2 is already reported.\n",
      "  warnings.warn(\n",
      "/home/eduardo/Documentos/Water-Cycle-Neural-Network/venv/lib/python3.12/site-packages/optuna/trial/_trial.py:497: UserWarning: The reported value is ignored because this `step` 3 is already reported.\n",
      "  warnings.warn(\n",
      "/home/eduardo/Documentos/Water-Cycle-Neural-Network/venv/lib/python3.12/site-packages/optuna/trial/_trial.py:497: UserWarning: The reported value is ignored because this `step` 4 is already reported.\n",
      "  warnings.warn(\n",
      "/home/eduardo/Documentos/Water-Cycle-Neural-Network/venv/lib/python3.12/site-packages/optuna/trial/_trial.py:497: UserWarning: The reported value is ignored because this `step` 5 is already reported.\n",
      "  warnings.warn(\n",
      "/home/eduardo/Documentos/Water-Cycle-Neural-Network/venv/lib/python3.12/site-packages/optuna/trial/_trial.py:497: UserWarning: The reported value is ignored because this `step` 6 is already reported.\n",
      "  warnings.warn(\n",
      "/home/eduardo/Documentos/Water-Cycle-Neural-Network/venv/lib/python3.12/site-packages/optuna/trial/_trial.py:497: UserWarning: The reported value is ignored because this `step` 7 is already reported.\n",
      "  warnings.warn(\n",
      "/home/eduardo/Documentos/Water-Cycle-Neural-Network/venv/lib/python3.12/site-packages/optuna/trial/_trial.py:497: UserWarning: The reported value is ignored because this `step` 8 is already reported.\n",
      "  warnings.warn(\n",
      "/home/eduardo/Documentos/Water-Cycle-Neural-Network/venv/lib/python3.12/site-packages/optuna/trial/_trial.py:497: UserWarning: The reported value is ignored because this `step` 9 is already reported.\n",
      "  warnings.warn(\n",
      "/home/eduardo/Documentos/Water-Cycle-Neural-Network/venv/lib/python3.12/site-packages/optuna/trial/_trial.py:497: UserWarning: The reported value is ignored because this `step` 10 is already reported.\n",
      "  warnings.warn(\n",
      "/home/eduardo/Documentos/Water-Cycle-Neural-Network/venv/lib/python3.12/site-packages/optuna/trial/_trial.py:497: UserWarning: The reported value is ignored because this `step` 11 is already reported.\n",
      "  warnings.warn(\n",
      "/home/eduardo/Documentos/Water-Cycle-Neural-Network/venv/lib/python3.12/site-packages/optuna/trial/_trial.py:497: UserWarning: The reported value is ignored because this `step` 12 is already reported.\n",
      "  warnings.warn(\n",
      "/home/eduardo/Documentos/Water-Cycle-Neural-Network/venv/lib/python3.12/site-packages/optuna/trial/_trial.py:497: UserWarning: The reported value is ignored because this `step` 13 is already reported.\n",
      "  warnings.warn(\n",
      "/home/eduardo/Documentos/Water-Cycle-Neural-Network/venv/lib/python3.12/site-packages/optuna/trial/_trial.py:497: UserWarning: The reported value is ignored because this `step` 14 is already reported.\n",
      "  warnings.warn(\n",
      "Monitored metric val_loss did not improve in the last 15 records. Best score: 0.063. Signaling Trainer to stop.\n",
      "GPU available: True (cuda), used: True\n",
      "TPU available: False, using: 0 TPU cores\n",
      "HPU available: False, using: 0 HPUs\n",
      "LOCAL_RANK: 0 - CUDA_VISIBLE_DEVICES: [0]\n"
     ]
    },
    {
     "name": "stdout",
     "output_type": "stream",
     "text": [
      "Model loaded from checkpoint for trial 3, fold 2\n"
     ]
    },
    {
     "name": "stderr",
     "output_type": "stream",
     "text": [
      "[I 2025-06-10 15:56:43,794] Trial 3 finished with value: 85.83807239469354 and parameters: {'input_chunk_length': 96, 'dropout': 0.25, 'batch_size': 240, 'lr': 0.0005859338138555578, 'weight_decay': 0.00126434897531136, 'num_layers': 5, 'num_blocks': 5, 'num_stacks': 2, 'layer_widths': 56, 'activation': 'ReLU'}. Best is trial 3 with value: 85.83807239469354.\n",
      "GPU available: True (cuda), used: True\n",
      "TPU available: False, using: 0 TPU cores\n",
      "HPU available: False, using: 0 HPUs\n",
      "LOCAL_RANK: 0 - CUDA_VISIBLE_DEVICES: [0]\n"
     ]
    },
    {
     "name": "stdout",
     "output_type": "stream",
     "text": [
      "SMAPE fold 2: 79.39145564090835\n",
      "Média dos SMAPE nos folds: 85.83807239469354\n",
      "Results of trial 3 saved in optuna_iteration_metrics/trial_3.json\n",
      "Current value: 85.83807239469354, Current params: {'input_chunk_length': 96, 'dropout': 0.25, 'batch_size': 240, 'lr': 0.0005859338138555578, 'weight_decay': 0.00126434897531136, 'num_layers': 5, 'num_blocks': 5, 'num_stacks': 2, 'layer_widths': 56, 'activation': 'ReLU'}\n",
      "Best value: 85.83807239469354, Best params: {'input_chunk_length': 96, 'dropout': 0.25, 'batch_size': 240, 'lr': 0.0005859338138555578, 'weight_decay': 0.00126434897531136, 'num_layers': 5, 'num_blocks': 5, 'num_stacks': 2, 'layer_widths': 56, 'activation': 'ReLU'}\n",
      "\n",
      "Fold 1/3\n"
     ]
    },
    {
     "name": "stderr",
     "output_type": "stream",
     "text": [
      "Metric val_loss improved. New best score: 11.785\n",
      "Monitored metric val_loss did not improve in the last 15 records. Best score: 11.785. Signaling Trainer to stop.\n",
      "GPU available: True (cuda), used: True\n",
      "TPU available: False, using: 0 TPU cores\n",
      "HPU available: False, using: 0 HPUs\n",
      "LOCAL_RANK: 0 - CUDA_VISIBLE_DEVICES: [0]\n"
     ]
    },
    {
     "name": "stdout",
     "output_type": "stream",
     "text": [
      "Model loaded from checkpoint for trial 4, fold 0\n"
     ]
    },
    {
     "name": "stderr",
     "output_type": "stream",
     "text": [
      "GPU available: True (cuda), used: True\n",
      "TPU available: False, using: 0 TPU cores\n",
      "HPU available: False, using: 0 HPUs\n",
      "LOCAL_RANK: 0 - CUDA_VISIBLE_DEVICES: [0]\n"
     ]
    },
    {
     "name": "stdout",
     "output_type": "stream",
     "text": [
      "SMAPE fold 0: 180.9134989154188\n",
      "\n",
      "Fold 2/3\n"
     ]
    },
    {
     "name": "stderr",
     "output_type": "stream",
     "text": [
      "/home/eduardo/Documentos/Water-Cycle-Neural-Network/venv/lib/python3.12/site-packages/optuna/trial/_trial.py:497: UserWarning: The reported value is ignored because this `step` 0 is already reported.\n",
      "  warnings.warn(\n",
      "Metric val_loss improved by 11.377 >= min_delta = 0.0005. New best score: 0.408\n",
      "/home/eduardo/Documentos/Water-Cycle-Neural-Network/venv/lib/python3.12/site-packages/optuna/trial/_trial.py:497: UserWarning: The reported value is ignored because this `step` 1 is already reported.\n",
      "  warnings.warn(\n",
      "Metric val_loss improved by 0.058 >= min_delta = 0.0005. New best score: 0.350\n",
      "/home/eduardo/Documentos/Water-Cycle-Neural-Network/venv/lib/python3.12/site-packages/optuna/trial/_trial.py:497: UserWarning: The reported value is ignored because this `step` 2 is already reported.\n",
      "  warnings.warn(\n",
      "Metric val_loss improved by 0.058 >= min_delta = 0.0005. New best score: 0.291\n",
      "/home/eduardo/Documentos/Water-Cycle-Neural-Network/venv/lib/python3.12/site-packages/optuna/trial/_trial.py:497: UserWarning: The reported value is ignored because this `step` 3 is already reported.\n",
      "  warnings.warn(\n",
      "Metric val_loss improved by 0.075 >= min_delta = 0.0005. New best score: 0.217\n",
      "/home/eduardo/Documentos/Water-Cycle-Neural-Network/venv/lib/python3.12/site-packages/optuna/trial/_trial.py:497: UserWarning: The reported value is ignored because this `step` 4 is already reported.\n",
      "  warnings.warn(\n",
      "Metric val_loss improved by 0.051 >= min_delta = 0.0005. New best score: 0.166\n",
      "/home/eduardo/Documentos/Water-Cycle-Neural-Network/venv/lib/python3.12/site-packages/optuna/trial/_trial.py:497: UserWarning: The reported value is ignored because this `step` 5 is already reported.\n",
      "  warnings.warn(\n",
      "Metric val_loss improved by 0.046 >= min_delta = 0.0005. New best score: 0.119\n",
      "/home/eduardo/Documentos/Water-Cycle-Neural-Network/venv/lib/python3.12/site-packages/optuna/trial/_trial.py:497: UserWarning: The reported value is ignored because this `step` 6 is already reported.\n",
      "  warnings.warn(\n",
      "Metric val_loss improved by 0.033 >= min_delta = 0.0005. New best score: 0.086\n",
      "/home/eduardo/Documentos/Water-Cycle-Neural-Network/venv/lib/python3.12/site-packages/optuna/trial/_trial.py:497: UserWarning: The reported value is ignored because this `step` 7 is already reported.\n",
      "  warnings.warn(\n",
      "Metric val_loss improved by 0.005 >= min_delta = 0.0005. New best score: 0.081\n",
      "/home/eduardo/Documentos/Water-Cycle-Neural-Network/venv/lib/python3.12/site-packages/optuna/trial/_trial.py:497: UserWarning: The reported value is ignored because this `step` 8 is already reported.\n",
      "  warnings.warn(\n",
      "Metric val_loss improved by 0.006 >= min_delta = 0.0005. New best score: 0.075\n",
      "/home/eduardo/Documentos/Water-Cycle-Neural-Network/venv/lib/python3.12/site-packages/optuna/trial/_trial.py:497: UserWarning: The reported value is ignored because this `step` 9 is already reported.\n",
      "  warnings.warn(\n",
      "/home/eduardo/Documentos/Water-Cycle-Neural-Network/venv/lib/python3.12/site-packages/optuna/trial/_trial.py:497: UserWarning: The reported value is ignored because this `step` 10 is already reported.\n",
      "  warnings.warn(\n",
      "/home/eduardo/Documentos/Water-Cycle-Neural-Network/venv/lib/python3.12/site-packages/optuna/trial/_trial.py:497: UserWarning: The reported value is ignored because this `step` 11 is already reported.\n",
      "  warnings.warn(\n",
      "/home/eduardo/Documentos/Water-Cycle-Neural-Network/venv/lib/python3.12/site-packages/optuna/trial/_trial.py:497: UserWarning: The reported value is ignored because this `step` 12 is already reported.\n",
      "  warnings.warn(\n",
      "/home/eduardo/Documentos/Water-Cycle-Neural-Network/venv/lib/python3.12/site-packages/optuna/trial/_trial.py:497: UserWarning: The reported value is ignored because this `step` 13 is already reported.\n",
      "  warnings.warn(\n",
      "/home/eduardo/Documentos/Water-Cycle-Neural-Network/venv/lib/python3.12/site-packages/optuna/trial/_trial.py:497: UserWarning: The reported value is ignored because this `step` 14 is already reported.\n",
      "  warnings.warn(\n",
      "/home/eduardo/Documentos/Water-Cycle-Neural-Network/venv/lib/python3.12/site-packages/optuna/trial/_trial.py:497: UserWarning: The reported value is ignored because this `step` 15 is already reported.\n",
      "  warnings.warn(\n",
      "Metric val_loss improved by 0.001 >= min_delta = 0.0005. New best score: 0.075\n",
      "Metric val_loss improved by 0.001 >= min_delta = 0.0005. New best score: 0.074\n",
      "Metric val_loss improved by 0.001 >= min_delta = 0.0005. New best score: 0.072\n",
      "Metric val_loss improved by 0.002 >= min_delta = 0.0005. New best score: 0.070\n",
      "Metric val_loss improved by 0.003 >= min_delta = 0.0005. New best score: 0.067\n",
      "Metric val_loss improved by 0.001 >= min_delta = 0.0005. New best score: 0.066\n",
      "Metric val_loss improved by 0.001 >= min_delta = 0.0005. New best score: 0.065\n",
      "Metric val_loss improved by 0.001 >= min_delta = 0.0005. New best score: 0.064\n",
      "`Trainer.fit` stopped: `max_epochs=30` reached.\n",
      "GPU available: True (cuda), used: True\n",
      "TPU available: False, using: 0 TPU cores\n",
      "HPU available: False, using: 0 HPUs\n",
      "LOCAL_RANK: 0 - CUDA_VISIBLE_DEVICES: [0]\n"
     ]
    },
    {
     "name": "stdout",
     "output_type": "stream",
     "text": [
      "Model loaded from checkpoint for trial 4, fold 1\n"
     ]
    },
    {
     "name": "stderr",
     "output_type": "stream",
     "text": [
      "GPU available: True (cuda), used: True\n",
      "TPU available: False, using: 0 TPU cores\n",
      "HPU available: False, using: 0 HPUs\n",
      "LOCAL_RANK: 0 - CUDA_VISIBLE_DEVICES: [0]\n"
     ]
    },
    {
     "name": "stdout",
     "output_type": "stream",
     "text": [
      "SMAPE fold 1: 61.75459142234757\n",
      "\n",
      "Fold 3/3\n"
     ]
    },
    {
     "name": "stderr",
     "output_type": "stream",
     "text": [
      "/home/eduardo/Documentos/Water-Cycle-Neural-Network/venv/lib/python3.12/site-packages/optuna/trial/_trial.py:497: UserWarning: The reported value is ignored because this `step` 0 is already reported.\n",
      "  warnings.warn(\n",
      "/home/eduardo/Documentos/Water-Cycle-Neural-Network/venv/lib/python3.12/site-packages/optuna/trial/_trial.py:497: UserWarning: The reported value is ignored because this `step` 1 is already reported.\n",
      "  warnings.warn(\n",
      "/home/eduardo/Documentos/Water-Cycle-Neural-Network/venv/lib/python3.12/site-packages/optuna/trial/_trial.py:497: UserWarning: The reported value is ignored because this `step` 2 is already reported.\n",
      "  warnings.warn(\n",
      "/home/eduardo/Documentos/Water-Cycle-Neural-Network/venv/lib/python3.12/site-packages/optuna/trial/_trial.py:497: UserWarning: The reported value is ignored because this `step` 3 is already reported.\n",
      "  warnings.warn(\n",
      "/home/eduardo/Documentos/Water-Cycle-Neural-Network/venv/lib/python3.12/site-packages/optuna/trial/_trial.py:497: UserWarning: The reported value is ignored because this `step` 4 is already reported.\n",
      "  warnings.warn(\n",
      "/home/eduardo/Documentos/Water-Cycle-Neural-Network/venv/lib/python3.12/site-packages/optuna/trial/_trial.py:497: UserWarning: The reported value is ignored because this `step` 5 is already reported.\n",
      "  warnings.warn(\n",
      "/home/eduardo/Documentos/Water-Cycle-Neural-Network/venv/lib/python3.12/site-packages/optuna/trial/_trial.py:497: UserWarning: The reported value is ignored because this `step` 6 is already reported.\n",
      "  warnings.warn(\n",
      "/home/eduardo/Documentos/Water-Cycle-Neural-Network/venv/lib/python3.12/site-packages/optuna/trial/_trial.py:497: UserWarning: The reported value is ignored because this `step` 7 is already reported.\n",
      "  warnings.warn(\n",
      "/home/eduardo/Documentos/Water-Cycle-Neural-Network/venv/lib/python3.12/site-packages/optuna/trial/_trial.py:497: UserWarning: The reported value is ignored because this `step` 8 is already reported.\n",
      "  warnings.warn(\n",
      "/home/eduardo/Documentos/Water-Cycle-Neural-Network/venv/lib/python3.12/site-packages/optuna/trial/_trial.py:497: UserWarning: The reported value is ignored because this `step` 9 is already reported.\n",
      "  warnings.warn(\n",
      "/home/eduardo/Documentos/Water-Cycle-Neural-Network/venv/lib/python3.12/site-packages/optuna/trial/_trial.py:497: UserWarning: The reported value is ignored because this `step` 10 is already reported.\n",
      "  warnings.warn(\n",
      "/home/eduardo/Documentos/Water-Cycle-Neural-Network/venv/lib/python3.12/site-packages/optuna/trial/_trial.py:497: UserWarning: The reported value is ignored because this `step` 11 is already reported.\n",
      "  warnings.warn(\n",
      "/home/eduardo/Documentos/Water-Cycle-Neural-Network/venv/lib/python3.12/site-packages/optuna/trial/_trial.py:497: UserWarning: The reported value is ignored because this `step` 12 is already reported.\n",
      "  warnings.warn(\n",
      "/home/eduardo/Documentos/Water-Cycle-Neural-Network/venv/lib/python3.12/site-packages/optuna/trial/_trial.py:497: UserWarning: The reported value is ignored because this `step` 13 is already reported.\n",
      "  warnings.warn(\n",
      "Monitored metric val_loss did not improve in the last 15 records. Best score: 0.064. Signaling Trainer to stop.\n",
      "GPU available: True (cuda), used: True\n",
      "TPU available: False, using: 0 TPU cores\n",
      "HPU available: False, using: 0 HPUs\n",
      "LOCAL_RANK: 0 - CUDA_VISIBLE_DEVICES: [0]\n"
     ]
    },
    {
     "name": "stdout",
     "output_type": "stream",
     "text": [
      "Model loaded from checkpoint for trial 4, fold 2\n"
     ]
    },
    {
     "name": "stderr",
     "output_type": "stream",
     "text": [
      "[I 2025-06-10 15:58:52,847] Trial 4 finished with value: 107.00429367600593 and parameters: {'input_chunk_length': 36, 'dropout': 0.1, 'batch_size': 248, 'lr': 3.087039449178651e-05, 'weight_decay': 4.8859220695282305e-06, 'num_layers': 3, 'num_blocks': 4, 'num_stacks': 5, 'layer_widths': 208, 'activation': 'GELU'}. Best is trial 3 with value: 85.83807239469354.\n",
      "GPU available: True (cuda), used: True\n",
      "TPU available: False, using: 0 TPU cores\n",
      "HPU available: False, using: 0 HPUs\n",
      "LOCAL_RANK: 0 - CUDA_VISIBLE_DEVICES: [0]\n"
     ]
    },
    {
     "name": "stdout",
     "output_type": "stream",
     "text": [
      "SMAPE fold 2: 78.34479069025141\n",
      "Média dos SMAPE nos folds: 107.00429367600593\n",
      "Results of trial 4 saved in optuna_iteration_metrics/trial_4.json\n",
      "Current value: 107.00429367600593, Current params: {'input_chunk_length': 36, 'dropout': 0.1, 'batch_size': 248, 'lr': 3.087039449178651e-05, 'weight_decay': 4.8859220695282305e-06, 'num_layers': 3, 'num_blocks': 4, 'num_stacks': 5, 'layer_widths': 208, 'activation': 'GELU'}\n",
      "Best value: 85.83807239469354, Best params: {'input_chunk_length': 96, 'dropout': 0.25, 'batch_size': 240, 'lr': 0.0005859338138555578, 'weight_decay': 0.00126434897531136, 'num_layers': 5, 'num_blocks': 5, 'num_stacks': 2, 'layer_widths': 56, 'activation': 'ReLU'}\n",
      "\n",
      "Fold 1/3\n"
     ]
    },
    {
     "name": "stderr",
     "output_type": "stream",
     "text": [
      "[I 2025-06-10 15:58:55,098] Trial 5 pruned. Trial was pruned at epoch 0.\n"
     ]
    },
    {
     "name": "stdout",
     "output_type": "stream",
     "text": [
      "Current value: 10.098524859419935, Current params: {'input_chunk_length': 144, 'dropout': 0.4, 'batch_size': 256, 'lr': 0.001347232636127738, 'weight_decay': 1.7654309420758614e-06, 'num_layers': 5, 'num_blocks': 5, 'num_stacks': 1, 'layer_widths': 184, 'activation': 'ReLU'}\n",
      "Best value: 85.83807239469354, Best params: {'input_chunk_length': 96, 'dropout': 0.25, 'batch_size': 240, 'lr': 0.0005859338138555578, 'weight_decay': 0.00126434897531136, 'num_layers': 5, 'num_blocks': 5, 'num_stacks': 2, 'layer_widths': 56, 'activation': 'ReLU'}\n",
      "\n",
      "Fold 1/3\n"
     ]
    },
    {
     "name": "stderr",
     "output_type": "stream",
     "text": [
      "Exception in thread QueueFeederThread:\n",
      "Traceback (most recent call last):\n",
      "  File \"/usr/lib/python3.12/multiprocessing/queues.py\", line 259, in _feed\n",
      "    reader_close()\n",
      "  File \"/usr/lib/python3.12/multiprocessing/connection.py\", line 178, in close\n",
      "    self._close()\n",
      "  File \"/usr/lib/python3.12/multiprocessing/connection.py\", line 377, in _close\n",
      "    _close(self._handle)\n",
      "OSError: [Errno 9] Bad file descriptor\n",
      "\n",
      "During handling of the above exception, another exception occurred:\n",
      "\n",
      "Traceback (most recent call last):\n",
      "  File \"/usr/lib/python3.12/threading.py\", line 1073, in _bootstrap_inner\n",
      "    self.run()\n",
      "  File \"/home/eduardo/Documentos/Water-Cycle-Neural-Network/venv/lib/python3.12/site-packages/ipykernel/ipkernel.py\", line 766, in run_closure\n",
      "    _threading_Thread_run(self)\n",
      "  File \"/usr/lib/python3.12/threading.py\", line 1010, in run\n",
      "    self._target(*self._args, **self._kwargs)\n",
      "  File \"/usr/lib/python3.12/multiprocessing/queues.py\", line 291, in _feed\n",
      "    queue_sem.release()\n",
      "ValueError: semaphore or lock released too many times\n",
      "GPU available: True (cuda), used: True\n",
      "TPU available: False, using: 0 TPU cores\n",
      "HPU available: False, using: 0 HPUs\n",
      "LOCAL_RANK: 0 - CUDA_VISIBLE_DEVICES: [0]\n",
      "[I 2025-06-10 15:59:38,050] Trial 6 pruned. Trial was pruned at epoch 0.\n",
      "GPU available: True (cuda), used: True\n",
      "TPU available: False, using: 0 TPU cores\n",
      "HPU available: False, using: 0 HPUs\n",
      "LOCAL_RANK: 0 - CUDA_VISIBLE_DEVICES: [0]\n"
     ]
    },
    {
     "name": "stdout",
     "output_type": "stream",
     "text": [
      "Current value: 12.46221705305861, Current params: {'input_chunk_length': 60, 'dropout': 0.5, 'batch_size': 64, 'lr': 0.0005216042394213339, 'weight_decay': 0.008361363789967761, 'num_layers': 3, 'num_blocks': 4, 'num_stacks': 5, 'layer_widths': 64, 'activation': 'ReLU'}\n",
      "Best value: 85.83807239469354, Best params: {'input_chunk_length': 96, 'dropout': 0.25, 'batch_size': 240, 'lr': 0.0005859338138555578, 'weight_decay': 0.00126434897531136, 'num_layers': 5, 'num_blocks': 5, 'num_stacks': 2, 'layer_widths': 56, 'activation': 'ReLU'}\n",
      "\n",
      "Fold 1/3\n"
     ]
    },
    {
     "name": "stderr",
     "output_type": "stream",
     "text": [
      "Metric val_loss improved. New best score: 8.449\n",
      "Metric val_loss improved by 0.027 >= min_delta = 0.0005. New best score: 8.422\n",
      "Metric val_loss improved by 0.016 >= min_delta = 0.0005. New best score: 8.406\n",
      "Metric val_loss improved by 0.009 >= min_delta = 0.0005. New best score: 8.397\n",
      "[I 2025-06-10 16:00:01,439] Trial 7 pruned. Trial was pruned at epoch 17.\n",
      "GPU available: True (cuda), used: True\n",
      "TPU available: False, using: 0 TPU cores\n",
      "HPU available: False, using: 0 HPUs\n",
      "LOCAL_RANK: 0 - CUDA_VISIBLE_DEVICES: [0]\n"
     ]
    },
    {
     "name": "stdout",
     "output_type": "stream",
     "text": [
      "Current value: 9.600501420495277, Current params: {'input_chunk_length': 84, 'dropout': 0.30000000000000004, 'batch_size': 248, 'lr': 1.4968093746452038e-05, 'weight_decay': 6.783168768857551e-06, 'num_layers': 4, 'num_blocks': 2, 'num_stacks': 1, 'layer_widths': 152, 'activation': 'ReLU'}\n",
      "Best value: 85.83807239469354, Best params: {'input_chunk_length': 96, 'dropout': 0.25, 'batch_size': 240, 'lr': 0.0005859338138555578, 'weight_decay': 0.00126434897531136, 'num_layers': 5, 'num_blocks': 5, 'num_stacks': 2, 'layer_widths': 56, 'activation': 'ReLU'}\n",
      "\n",
      "Fold 1/3\n"
     ]
    },
    {
     "name": "stderr",
     "output_type": "stream",
     "text": [
      "[I 2025-06-10 16:00:03,938] Trial 8 pruned. Trial was pruned at epoch 0.\n",
      "GPU available: True (cuda), used: True\n",
      "TPU available: False, using: 0 TPU cores\n",
      "HPU available: False, using: 0 HPUs\n",
      "LOCAL_RANK: 0 - CUDA_VISIBLE_DEVICES: [0]\n"
     ]
    },
    {
     "name": "stdout",
     "output_type": "stream",
     "text": [
      "Current value: 45.30312517223611, Current params: {'input_chunk_length': 144, 'dropout': 0.45000000000000007, 'batch_size': 160, 'lr': 7.26855585421817e-06, 'weight_decay': 0.0007723017790203242, 'num_layers': 1, 'num_blocks': 4, 'num_stacks': 4, 'layer_widths': 216, 'activation': 'ReLU'}\n",
      "Best value: 85.83807239469354, Best params: {'input_chunk_length': 96, 'dropout': 0.25, 'batch_size': 240, 'lr': 0.0005859338138555578, 'weight_decay': 0.00126434897531136, 'num_layers': 5, 'num_blocks': 5, 'num_stacks': 2, 'layer_widths': 56, 'activation': 'ReLU'}\n",
      "\n",
      "Fold 1/3\n"
     ]
    },
    {
     "name": "stderr",
     "output_type": "stream",
     "text": [
      "[I 2025-06-10 16:00:06,178] Trial 9 pruned. Trial was pruned at epoch 0.\n"
     ]
    },
    {
     "name": "stdout",
     "output_type": "stream",
     "text": [
      "Current value: 21.249447582905695, Current params: {'input_chunk_length': 156, 'dropout': 0.5, 'batch_size': 184, 'lr': 0.002612670588888721, 'weight_decay': 7.00287622250203e-05, 'num_layers': 3, 'num_blocks': 1, 'num_stacks': 1, 'layer_widths': 248, 'activation': 'ReLU'}\n",
      "Best value: 85.83807239469354, Best params: {'input_chunk_length': 96, 'dropout': 0.25, 'batch_size': 240, 'lr': 0.0005859338138555578, 'weight_decay': 0.00126434897531136, 'num_layers': 5, 'num_blocks': 5, 'num_stacks': 2, 'layer_widths': 56, 'activation': 'ReLU'}\n",
      "\n",
      "Fold 1/3\n"
     ]
    },
    {
     "name": "stderr",
     "output_type": "stream",
     "text": [
      "GPU available: True (cuda), used: True\n",
      "TPU available: False, using: 0 TPU cores\n",
      "HPU available: False, using: 0 HPUs\n",
      "LOCAL_RANK: 0 - CUDA_VISIBLE_DEVICES: [0]\n",
      "[I 2025-06-10 16:01:03,930] Trial 10 pruned. Trial was pruned at epoch 0.\n",
      "GPU available: True (cuda), used: True\n",
      "TPU available: False, using: 0 TPU cores\n",
      "HPU available: False, using: 0 HPUs\n",
      "LOCAL_RANK: 0 - CUDA_VISIBLE_DEVICES: [0]\n"
     ]
    },
    {
     "name": "stdout",
     "output_type": "stream",
     "text": [
      "Current value: 18.880304045835647, Current params: {'input_chunk_length': 96, 'dropout': 0.25, 'batch_size': 128, 'lr': 1.0184999340352193e-06, 'weight_decay': 0.0005900995410940595, 'num_layers': 2, 'num_blocks': 5, 'num_stacks': 3, 'layer_widths': 96, 'activation': 'GELU'}\n",
      "Best value: 85.83807239469354, Best params: {'input_chunk_length': 96, 'dropout': 0.25, 'batch_size': 240, 'lr': 0.0005859338138555578, 'weight_decay': 0.00126434897531136, 'num_layers': 5, 'num_blocks': 5, 'num_stacks': 2, 'layer_widths': 56, 'activation': 'ReLU'}\n",
      "\n",
      "Fold 1/3\n"
     ]
    },
    {
     "name": "stderr",
     "output_type": "stream",
     "text": [
      "Metric val_loss improved. New best score: 9.046\n",
      "Monitored metric val_loss did not improve in the last 15 records. Best score: 9.046. Signaling Trainer to stop.\n",
      "GPU available: True (cuda), used: True\n",
      "TPU available: False, using: 0 TPU cores\n",
      "HPU available: False, using: 0 HPUs\n",
      "LOCAL_RANK: 0 - CUDA_VISIBLE_DEVICES: [0]\n"
     ]
    },
    {
     "name": "stdout",
     "output_type": "stream",
     "text": [
      "Model loaded from checkpoint for trial 11, fold 0\n"
     ]
    },
    {
     "name": "stderr",
     "output_type": "stream",
     "text": [
      "Exception in thread QueueFeederThread:\n",
      "Traceback (most recent call last):\n",
      "  File \"/usr/lib/python3.12/multiprocessing/queues.py\", line 259, in _feed\n",
      "Exception in thread QueueFeederThread:\n",
      "Traceback (most recent call last):\n",
      "  File \"/usr/lib/python3.12/multiprocessing/queues.py\", line 259, in _feed\n",
      "    reader_close()\n",
      "  File \"/usr/lib/python3.12/multiprocessing/connection.py\", line 178, in close\n",
      "    reader_close()\n",
      "  File \"/usr/lib/python3.12/multiprocessing/connection.py\", line 178, in close\n",
      "    self._close()\n",
      "  File \"/usr/lib/python3.12/multiprocessing/connection.py\", line 377, in _close\n",
      "    self._close()\n",
      "  File \"/usr/lib/python3.12/multiprocessing/connection.py\", line 377, in _close\n",
      "    _close(self._handle)\n",
      "OSError: [Errno 9] Bad file descriptor\n",
      "\n",
      "During handling of the above exception, another exception occurred:\n",
      "\n",
      "Traceback (most recent call last):\n",
      "  File \"/usr/lib/python3.12/threading.py\", line 1073, in _bootstrap_inner\n",
      "    _close(self._handle)\n",
      "OSError: [Errno 9] Bad file descriptor\n",
      "\n",
      "During handling of the above exception, another exception occurred:\n",
      "\n",
      "Traceback (most recent call last):\n",
      "  File \"/usr/lib/python3.12/threading.py\", line 1073, in _bootstrap_inner\n",
      "    self.run()\n",
      "  File \"/home/eduardo/Documentos/Water-Cycle-Neural-Network/venv/lib/python3.12/site-packages/ipykernel/ipkernel.py\", line 766, in run_closure\n",
      "    self.run()\n",
      "  File \"/home/eduardo/Documentos/Water-Cycle-Neural-Network/venv/lib/python3.12/site-packages/ipykernel/ipkernel.py\", line 766, in run_closure\n",
      "    _threading_Thread_run(self)\n",
      "  File \"/usr/lib/python3.12/threading.py\", line 1010, in run\n",
      "    _threading_Thread_run(self)\n",
      "  File \"/usr/lib/python3.12/threading.py\", line 1010, in run\n",
      "    self._target(*self._args, **self._kwargs)\n",
      "  File \"/usr/lib/python3.12/multiprocessing/queues.py\", line 291, in _feed\n",
      "    self._target(*self._args, **self._kwargs)\n",
      "  File \"/usr/lib/python3.12/multiprocessing/queues.py\", line 291, in _feed\n",
      "    queue_sem.release()\n",
      "ValueError: semaphore or lock released too many times\n",
      "    queue_sem.release()\n",
      "ValueError: semaphore or lock released too many times\n",
      "GPU available: True (cuda), used: True\n",
      "TPU available: False, using: 0 TPU cores\n",
      "HPU available: False, using: 0 HPUs\n",
      "LOCAL_RANK: 0 - CUDA_VISIBLE_DEVICES: [0]\n"
     ]
    },
    {
     "name": "stdout",
     "output_type": "stream",
     "text": [
      "SMAPE fold 0: 127.53820430835705\n",
      "\n",
      "Fold 2/3\n"
     ]
    },
    {
     "name": "stderr",
     "output_type": "stream",
     "text": [
      "/home/eduardo/Documentos/Water-Cycle-Neural-Network/venv/lib/python3.12/site-packages/optuna/trial/_trial.py:497: UserWarning: The reported value is ignored because this `step` 0 is already reported.\n",
      "  warnings.warn(\n",
      "Metric val_loss improved by 8.662 >= min_delta = 0.0005. New best score: 0.384\n",
      "/home/eduardo/Documentos/Water-Cycle-Neural-Network/venv/lib/python3.12/site-packages/optuna/trial/_trial.py:497: UserWarning: The reported value is ignored because this `step` 1 is already reported.\n",
      "  warnings.warn(\n",
      "Metric val_loss improved by 0.078 >= min_delta = 0.0005. New best score: 0.306\n",
      "/home/eduardo/Documentos/Water-Cycle-Neural-Network/venv/lib/python3.12/site-packages/optuna/trial/_trial.py:497: UserWarning: The reported value is ignored because this `step` 2 is already reported.\n",
      "  warnings.warn(\n",
      "Metric val_loss improved by 0.071 >= min_delta = 0.0005. New best score: 0.235\n",
      "/home/eduardo/Documentos/Water-Cycle-Neural-Network/venv/lib/python3.12/site-packages/optuna/trial/_trial.py:497: UserWarning: The reported value is ignored because this `step` 3 is already reported.\n",
      "  warnings.warn(\n",
      "Metric val_loss improved by 0.099 >= min_delta = 0.0005. New best score: 0.136\n",
      "/home/eduardo/Documentos/Water-Cycle-Neural-Network/venv/lib/python3.12/site-packages/optuna/trial/_trial.py:497: UserWarning: The reported value is ignored because this `step` 4 is already reported.\n",
      "  warnings.warn(\n",
      "Metric val_loss improved by 0.042 >= min_delta = 0.0005. New best score: 0.094\n",
      "/home/eduardo/Documentos/Water-Cycle-Neural-Network/venv/lib/python3.12/site-packages/optuna/trial/_trial.py:497: UserWarning: The reported value is ignored because this `step` 5 is already reported.\n",
      "  warnings.warn(\n",
      "Metric val_loss improved by 0.002 >= min_delta = 0.0005. New best score: 0.092\n",
      "/home/eduardo/Documentos/Water-Cycle-Neural-Network/venv/lib/python3.12/site-packages/optuna/trial/_trial.py:497: UserWarning: The reported value is ignored because this `step` 6 is already reported.\n",
      "  warnings.warn(\n",
      "Metric val_loss improved by 0.018 >= min_delta = 0.0005. New best score: 0.074\n",
      "/home/eduardo/Documentos/Water-Cycle-Neural-Network/venv/lib/python3.12/site-packages/optuna/trial/_trial.py:497: UserWarning: The reported value is ignored because this `step` 7 is already reported.\n",
      "  warnings.warn(\n",
      "/home/eduardo/Documentos/Water-Cycle-Neural-Network/venv/lib/python3.12/site-packages/optuna/trial/_trial.py:497: UserWarning: The reported value is ignored because this `step` 8 is already reported.\n",
      "  warnings.warn(\n",
      "Metric val_loss improved by 0.005 >= min_delta = 0.0005. New best score: 0.069\n",
      "/home/eduardo/Documentos/Water-Cycle-Neural-Network/venv/lib/python3.12/site-packages/optuna/trial/_trial.py:497: UserWarning: The reported value is ignored because this `step` 9 is already reported.\n",
      "  warnings.warn(\n",
      "Metric val_loss improved by 0.001 >= min_delta = 0.0005. New best score: 0.069\n",
      "/home/eduardo/Documentos/Water-Cycle-Neural-Network/venv/lib/python3.12/site-packages/optuna/trial/_trial.py:497: UserWarning: The reported value is ignored because this `step` 10 is already reported.\n",
      "  warnings.warn(\n",
      "/home/eduardo/Documentos/Water-Cycle-Neural-Network/venv/lib/python3.12/site-packages/optuna/trial/_trial.py:497: UserWarning: The reported value is ignored because this `step` 11 is already reported.\n",
      "  warnings.warn(\n",
      "/home/eduardo/Documentos/Water-Cycle-Neural-Network/venv/lib/python3.12/site-packages/optuna/trial/_trial.py:497: UserWarning: The reported value is ignored because this `step` 12 is already reported.\n",
      "  warnings.warn(\n",
      "/home/eduardo/Documentos/Water-Cycle-Neural-Network/venv/lib/python3.12/site-packages/optuna/trial/_trial.py:497: UserWarning: The reported value is ignored because this `step` 13 is already reported.\n",
      "  warnings.warn(\n",
      "Metric val_loss improved by 0.001 >= min_delta = 0.0005. New best score: 0.068\n",
      "/home/eduardo/Documentos/Water-Cycle-Neural-Network/venv/lib/python3.12/site-packages/optuna/trial/_trial.py:497: UserWarning: The reported value is ignored because this `step` 14 is already reported.\n",
      "  warnings.warn(\n",
      "/home/eduardo/Documentos/Water-Cycle-Neural-Network/venv/lib/python3.12/site-packages/optuna/trial/_trial.py:497: UserWarning: The reported value is ignored because this `step` 15 is already reported.\n",
      "  warnings.warn(\n",
      "Metric val_loss improved by 0.001 >= min_delta = 0.0005. New best score: 0.067\n",
      "Metric val_loss improved by 0.001 >= min_delta = 0.0005. New best score: 0.066\n",
      "Metric val_loss improved by 0.001 >= min_delta = 0.0005. New best score: 0.065\n",
      "Metric val_loss improved by 0.004 >= min_delta = 0.0005. New best score: 0.061\n",
      "Metric val_loss improved by 0.001 >= min_delta = 0.0005. New best score: 0.060\n",
      "Metric val_loss improved by 0.001 >= min_delta = 0.0005. New best score: 0.060\n",
      "Metric val_loss improved by 0.003 >= min_delta = 0.0005. New best score: 0.057\n",
      "`Trainer.fit` stopped: `max_epochs=30` reached.\n",
      "GPU available: True (cuda), used: True\n",
      "TPU available: False, using: 0 TPU cores\n",
      "HPU available: False, using: 0 HPUs\n",
      "LOCAL_RANK: 0 - CUDA_VISIBLE_DEVICES: [0]\n"
     ]
    },
    {
     "name": "stdout",
     "output_type": "stream",
     "text": [
      "Model loaded from checkpoint for trial 11, fold 1\n",
      "SMAPE fold 1: 61.80599879316456\n",
      "\n",
      "Fold 3/3\n"
     ]
    },
    {
     "name": "stderr",
     "output_type": "stream",
     "text": [
      "GPU available: True (cuda), used: True\n",
      "TPU available: False, using: 0 TPU cores\n",
      "HPU available: False, using: 0 HPUs\n",
      "LOCAL_RANK: 0 - CUDA_VISIBLE_DEVICES: [0]\n",
      "/home/eduardo/Documentos/Water-Cycle-Neural-Network/venv/lib/python3.12/site-packages/optuna/trial/_trial.py:497: UserWarning: The reported value is ignored because this `step` 0 is already reported.\n",
      "  warnings.warn(\n",
      "/home/eduardo/Documentos/Water-Cycle-Neural-Network/venv/lib/python3.12/site-packages/optuna/trial/_trial.py:497: UserWarning: The reported value is ignored because this `step` 1 is already reported.\n",
      "  warnings.warn(\n",
      "/home/eduardo/Documentos/Water-Cycle-Neural-Network/venv/lib/python3.12/site-packages/optuna/trial/_trial.py:497: UserWarning: The reported value is ignored because this `step` 2 is already reported.\n",
      "  warnings.warn(\n",
      "/home/eduardo/Documentos/Water-Cycle-Neural-Network/venv/lib/python3.12/site-packages/optuna/trial/_trial.py:497: UserWarning: The reported value is ignored because this `step` 3 is already reported.\n",
      "  warnings.warn(\n",
      "/home/eduardo/Documentos/Water-Cycle-Neural-Network/venv/lib/python3.12/site-packages/optuna/trial/_trial.py:497: UserWarning: The reported value is ignored because this `step` 4 is already reported.\n",
      "  warnings.warn(\n",
      "/home/eduardo/Documentos/Water-Cycle-Neural-Network/venv/lib/python3.12/site-packages/optuna/trial/_trial.py:497: UserWarning: The reported value is ignored because this `step` 5 is already reported.\n",
      "  warnings.warn(\n",
      "/home/eduardo/Documentos/Water-Cycle-Neural-Network/venv/lib/python3.12/site-packages/optuna/trial/_trial.py:497: UserWarning: The reported value is ignored because this `step` 6 is already reported.\n",
      "  warnings.warn(\n",
      "/home/eduardo/Documentos/Water-Cycle-Neural-Network/venv/lib/python3.12/site-packages/optuna/trial/_trial.py:497: UserWarning: The reported value is ignored because this `step` 7 is already reported.\n",
      "  warnings.warn(\n",
      "/home/eduardo/Documentos/Water-Cycle-Neural-Network/venv/lib/python3.12/site-packages/optuna/trial/_trial.py:497: UserWarning: The reported value is ignored because this `step` 8 is already reported.\n",
      "  warnings.warn(\n",
      "/home/eduardo/Documentos/Water-Cycle-Neural-Network/venv/lib/python3.12/site-packages/optuna/trial/_trial.py:497: UserWarning: The reported value is ignored because this `step` 9 is already reported.\n",
      "  warnings.warn(\n",
      "/home/eduardo/Documentos/Water-Cycle-Neural-Network/venv/lib/python3.12/site-packages/optuna/trial/_trial.py:497: UserWarning: The reported value is ignored because this `step` 10 is already reported.\n",
      "  warnings.warn(\n",
      "/home/eduardo/Documentos/Water-Cycle-Neural-Network/venv/lib/python3.12/site-packages/optuna/trial/_trial.py:497: UserWarning: The reported value is ignored because this `step` 11 is already reported.\n",
      "  warnings.warn(\n",
      "/home/eduardo/Documentos/Water-Cycle-Neural-Network/venv/lib/python3.12/site-packages/optuna/trial/_trial.py:497: UserWarning: The reported value is ignored because this `step` 12 is already reported.\n",
      "  warnings.warn(\n",
      "Monitored metric val_loss did not improve in the last 15 records. Best score: 0.057. Signaling Trainer to stop.\n",
      "GPU available: True (cuda), used: True\n",
      "TPU available: False, using: 0 TPU cores\n",
      "HPU available: False, using: 0 HPUs\n",
      "LOCAL_RANK: 0 - CUDA_VISIBLE_DEVICES: [0]\n"
     ]
    },
    {
     "name": "stdout",
     "output_type": "stream",
     "text": [
      "Model loaded from checkpoint for trial 11, fold 2\n"
     ]
    },
    {
     "name": "stderr",
     "output_type": "stream",
     "text": [
      "[I 2025-06-10 16:06:40,282] Trial 11 finished with value: 91.74969983602473 and parameters: {'input_chunk_length': 24, 'dropout': 0.30000000000000004, 'batch_size': 200, 'lr': 0.0001591749144203807, 'weight_decay': 0.00013069179830204074, 'num_layers': 5, 'num_blocks': 5, 'num_stacks': 3, 'layer_widths': 104, 'activation': 'ReLU'}. Best is trial 3 with value: 85.83807239469354.\n",
      "GPU available: True (cuda), used: True\n",
      "TPU available: False, using: 0 TPU cores\n",
      "HPU available: False, using: 0 HPUs\n",
      "LOCAL_RANK: 0 - CUDA_VISIBLE_DEVICES: [0]\n"
     ]
    },
    {
     "name": "stdout",
     "output_type": "stream",
     "text": [
      "SMAPE fold 2: 85.90489640655258\n",
      "Média dos SMAPE nos folds: 91.74969983602473\n",
      "Results of trial 11 saved in optuna_iteration_metrics/trial_11.json\n",
      "Current value: 91.74969983602473, Current params: {'input_chunk_length': 24, 'dropout': 0.30000000000000004, 'batch_size': 200, 'lr': 0.0001591749144203807, 'weight_decay': 0.00013069179830204074, 'num_layers': 5, 'num_blocks': 5, 'num_stacks': 3, 'layer_widths': 104, 'activation': 'ReLU'}\n",
      "Best value: 85.83807239469354, Best params: {'input_chunk_length': 96, 'dropout': 0.25, 'batch_size': 240, 'lr': 0.0005859338138555578, 'weight_decay': 0.00126434897531136, 'num_layers': 5, 'num_blocks': 5, 'num_stacks': 2, 'layer_widths': 56, 'activation': 'ReLU'}\n",
      "\n",
      "Fold 1/3\n"
     ]
    },
    {
     "name": "stderr",
     "output_type": "stream",
     "text": [
      "Metric val_loss improved. New best score: 8.254\n",
      "Metric val_loss improved by 0.031 >= min_delta = 0.0005. New best score: 8.222\n",
      "Monitored metric val_loss did not improve in the last 15 records. Best score: 8.222. Signaling Trainer to stop.\n",
      "GPU available: True (cuda), used: True\n",
      "TPU available: False, using: 0 TPU cores\n",
      "HPU available: False, using: 0 HPUs\n",
      "LOCAL_RANK: 0 - CUDA_VISIBLE_DEVICES: [0]\n"
     ]
    },
    {
     "name": "stdout",
     "output_type": "stream",
     "text": [
      "Model loaded from checkpoint for trial 12, fold 0\n"
     ]
    },
    {
     "name": "stderr",
     "output_type": "stream",
     "text": [
      "GPU available: True (cuda), used: True\n",
      "TPU available: False, using: 0 TPU cores\n",
      "HPU available: False, using: 0 HPUs\n",
      "LOCAL_RANK: 0 - CUDA_VISIBLE_DEVICES: [0]\n"
     ]
    },
    {
     "name": "stdout",
     "output_type": "stream",
     "text": [
      "SMAPE fold 0: 98.00195417794028\n",
      "\n",
      "Fold 2/3\n"
     ]
    },
    {
     "name": "stderr",
     "output_type": "stream",
     "text": [
      "/home/eduardo/Documentos/Water-Cycle-Neural-Network/venv/lib/python3.12/site-packages/optuna/trial/_trial.py:497: UserWarning: The reported value is ignored because this `step` 0 is already reported.\n",
      "  warnings.warn(\n",
      "Metric val_loss improved by 7.749 >= min_delta = 0.0005. New best score: 0.473\n",
      "/home/eduardo/Documentos/Water-Cycle-Neural-Network/venv/lib/python3.12/site-packages/optuna/trial/_trial.py:497: UserWarning: The reported value is ignored because this `step` 1 is already reported.\n",
      "  warnings.warn(\n",
      "Metric val_loss improved by 0.039 >= min_delta = 0.0005. New best score: 0.434\n",
      "/home/eduardo/Documentos/Water-Cycle-Neural-Network/venv/lib/python3.12/site-packages/optuna/trial/_trial.py:497: UserWarning: The reported value is ignored because this `step` 2 is already reported.\n",
      "  warnings.warn(\n",
      "Metric val_loss improved by 0.035 >= min_delta = 0.0005. New best score: 0.399\n",
      "/home/eduardo/Documentos/Water-Cycle-Neural-Network/venv/lib/python3.12/site-packages/optuna/trial/_trial.py:497: UserWarning: The reported value is ignored because this `step` 3 is already reported.\n",
      "  warnings.warn(\n",
      "Metric val_loss improved by 0.026 >= min_delta = 0.0005. New best score: 0.373\n",
      "/home/eduardo/Documentos/Water-Cycle-Neural-Network/venv/lib/python3.12/site-packages/optuna/trial/_trial.py:497: UserWarning: The reported value is ignored because this `step` 4 is already reported.\n",
      "  warnings.warn(\n",
      "Metric val_loss improved by 0.022 >= min_delta = 0.0005. New best score: 0.351\n",
      "/home/eduardo/Documentos/Water-Cycle-Neural-Network/venv/lib/python3.12/site-packages/optuna/trial/_trial.py:497: UserWarning: The reported value is ignored because this `step` 5 is already reported.\n",
      "  warnings.warn(\n",
      "Metric val_loss improved by 0.026 >= min_delta = 0.0005. New best score: 0.324\n",
      "/home/eduardo/Documentos/Water-Cycle-Neural-Network/venv/lib/python3.12/site-packages/optuna/trial/_trial.py:497: UserWarning: The reported value is ignored because this `step` 6 is already reported.\n",
      "  warnings.warn(\n",
      "Metric val_loss improved by 0.029 >= min_delta = 0.0005. New best score: 0.295\n",
      "/home/eduardo/Documentos/Water-Cycle-Neural-Network/venv/lib/python3.12/site-packages/optuna/trial/_trial.py:497: UserWarning: The reported value is ignored because this `step` 7 is already reported.\n",
      "  warnings.warn(\n",
      "Metric val_loss improved by 0.027 >= min_delta = 0.0005. New best score: 0.268\n",
      "/home/eduardo/Documentos/Water-Cycle-Neural-Network/venv/lib/python3.12/site-packages/optuna/trial/_trial.py:497: UserWarning: The reported value is ignored because this `step` 8 is already reported.\n",
      "  warnings.warn(\n",
      "Metric val_loss improved by 0.028 >= min_delta = 0.0005. New best score: 0.240\n",
      "/home/eduardo/Documentos/Water-Cycle-Neural-Network/venv/lib/python3.12/site-packages/optuna/trial/_trial.py:497: UserWarning: The reported value is ignored because this `step` 9 is already reported.\n",
      "  warnings.warn(\n",
      "Metric val_loss improved by 0.019 >= min_delta = 0.0005. New best score: 0.221\n",
      "/home/eduardo/Documentos/Water-Cycle-Neural-Network/venv/lib/python3.12/site-packages/optuna/trial/_trial.py:497: UserWarning: The reported value is ignored because this `step` 10 is already reported.\n",
      "  warnings.warn(\n",
      "Metric val_loss improved by 0.022 >= min_delta = 0.0005. New best score: 0.199\n",
      "/home/eduardo/Documentos/Water-Cycle-Neural-Network/venv/lib/python3.12/site-packages/optuna/trial/_trial.py:497: UserWarning: The reported value is ignored because this `step` 11 is already reported.\n",
      "  warnings.warn(\n",
      "Metric val_loss improved by 0.010 >= min_delta = 0.0005. New best score: 0.188\n",
      "/home/eduardo/Documentos/Water-Cycle-Neural-Network/venv/lib/python3.12/site-packages/optuna/trial/_trial.py:497: UserWarning: The reported value is ignored because this `step` 12 is already reported.\n",
      "  warnings.warn(\n",
      "Metric val_loss improved by 0.016 >= min_delta = 0.0005. New best score: 0.172\n",
      "/home/eduardo/Documentos/Water-Cycle-Neural-Network/venv/lib/python3.12/site-packages/optuna/trial/_trial.py:497: UserWarning: The reported value is ignored because this `step` 13 is already reported.\n",
      "  warnings.warn(\n",
      "Metric val_loss improved by 0.008 >= min_delta = 0.0005. New best score: 0.164\n",
      "/home/eduardo/Documentos/Water-Cycle-Neural-Network/venv/lib/python3.12/site-packages/optuna/trial/_trial.py:497: UserWarning: The reported value is ignored because this `step` 14 is already reported.\n",
      "  warnings.warn(\n",
      "Metric val_loss improved by 0.007 >= min_delta = 0.0005. New best score: 0.157\n",
      "/home/eduardo/Documentos/Water-Cycle-Neural-Network/venv/lib/python3.12/site-packages/optuna/trial/_trial.py:497: UserWarning: The reported value is ignored because this `step` 15 is already reported.\n",
      "  warnings.warn(\n",
      "Metric val_loss improved by 0.013 >= min_delta = 0.0005. New best score: 0.143\n",
      "/home/eduardo/Documentos/Water-Cycle-Neural-Network/venv/lib/python3.12/site-packages/optuna/trial/_trial.py:497: UserWarning: The reported value is ignored because this `step` 16 is already reported.\n",
      "  warnings.warn(\n",
      "Metric val_loss improved by 0.004 >= min_delta = 0.0005. New best score: 0.139\n",
      "Metric val_loss improved by 0.014 >= min_delta = 0.0005. New best score: 0.125\n",
      "Metric val_loss improved by 0.010 >= min_delta = 0.0005. New best score: 0.115\n",
      "Metric val_loss improved by 0.002 >= min_delta = 0.0005. New best score: 0.113\n",
      "Metric val_loss improved by 0.012 >= min_delta = 0.0005. New best score: 0.101\n",
      "Metric val_loss improved by 0.002 >= min_delta = 0.0005. New best score: 0.099\n",
      "Metric val_loss improved by 0.008 >= min_delta = 0.0005. New best score: 0.092\n",
      "Metric val_loss improved by 0.002 >= min_delta = 0.0005. New best score: 0.090\n",
      "Metric val_loss improved by 0.001 >= min_delta = 0.0005. New best score: 0.089\n",
      "`Trainer.fit` stopped: `max_epochs=30` reached.\n",
      "GPU available: True (cuda), used: True\n",
      "TPU available: False, using: 0 TPU cores\n",
      "HPU available: False, using: 0 HPUs\n",
      "LOCAL_RANK: 0 - CUDA_VISIBLE_DEVICES: [0]\n"
     ]
    },
    {
     "name": "stdout",
     "output_type": "stream",
     "text": [
      "Model loaded from checkpoint for trial 12, fold 1\n"
     ]
    },
    {
     "name": "stderr",
     "output_type": "stream",
     "text": [
      "GPU available: True (cuda), used: True\n",
      "TPU available: False, using: 0 TPU cores\n",
      "HPU available: False, using: 0 HPUs\n",
      "LOCAL_RANK: 0 - CUDA_VISIBLE_DEVICES: [0]\n"
     ]
    },
    {
     "name": "stdout",
     "output_type": "stream",
     "text": [
      "SMAPE fold 1: 70.50058985230451\n",
      "\n",
      "Fold 3/3\n"
     ]
    },
    {
     "name": "stderr",
     "output_type": "stream",
     "text": [
      "/home/eduardo/Documentos/Water-Cycle-Neural-Network/venv/lib/python3.12/site-packages/optuna/trial/_trial.py:497: UserWarning: The reported value is ignored because this `step` 0 is already reported.\n",
      "  warnings.warn(\n",
      "/home/eduardo/Documentos/Water-Cycle-Neural-Network/venv/lib/python3.12/site-packages/optuna/trial/_trial.py:497: UserWarning: The reported value is ignored because this `step` 1 is already reported.\n",
      "  warnings.warn(\n",
      "/home/eduardo/Documentos/Water-Cycle-Neural-Network/venv/lib/python3.12/site-packages/optuna/trial/_trial.py:497: UserWarning: The reported value is ignored because this `step` 2 is already reported.\n",
      "  warnings.warn(\n",
      "/home/eduardo/Documentos/Water-Cycle-Neural-Network/venv/lib/python3.12/site-packages/optuna/trial/_trial.py:497: UserWarning: The reported value is ignored because this `step` 3 is already reported.\n",
      "  warnings.warn(\n",
      "/home/eduardo/Documentos/Water-Cycle-Neural-Network/venv/lib/python3.12/site-packages/optuna/trial/_trial.py:497: UserWarning: The reported value is ignored because this `step` 4 is already reported.\n",
      "  warnings.warn(\n",
      "/home/eduardo/Documentos/Water-Cycle-Neural-Network/venv/lib/python3.12/site-packages/optuna/trial/_trial.py:497: UserWarning: The reported value is ignored because this `step` 5 is already reported.\n",
      "  warnings.warn(\n",
      "/home/eduardo/Documentos/Water-Cycle-Neural-Network/venv/lib/python3.12/site-packages/optuna/trial/_trial.py:497: UserWarning: The reported value is ignored because this `step` 6 is already reported.\n",
      "  warnings.warn(\n",
      "/home/eduardo/Documentos/Water-Cycle-Neural-Network/venv/lib/python3.12/site-packages/optuna/trial/_trial.py:497: UserWarning: The reported value is ignored because this `step` 7 is already reported.\n",
      "  warnings.warn(\n",
      "/home/eduardo/Documentos/Water-Cycle-Neural-Network/venv/lib/python3.12/site-packages/optuna/trial/_trial.py:497: UserWarning: The reported value is ignored because this `step` 8 is already reported.\n",
      "  warnings.warn(\n",
      "/home/eduardo/Documentos/Water-Cycle-Neural-Network/venv/lib/python3.12/site-packages/optuna/trial/_trial.py:497: UserWarning: The reported value is ignored because this `step` 9 is already reported.\n",
      "  warnings.warn(\n",
      "/home/eduardo/Documentos/Water-Cycle-Neural-Network/venv/lib/python3.12/site-packages/optuna/trial/_trial.py:497: UserWarning: The reported value is ignored because this `step` 10 is already reported.\n",
      "  warnings.warn(\n",
      "/home/eduardo/Documentos/Water-Cycle-Neural-Network/venv/lib/python3.12/site-packages/optuna/trial/_trial.py:497: UserWarning: The reported value is ignored because this `step` 11 is already reported.\n",
      "  warnings.warn(\n",
      "/home/eduardo/Documentos/Water-Cycle-Neural-Network/venv/lib/python3.12/site-packages/optuna/trial/_trial.py:497: UserWarning: The reported value is ignored because this `step` 12 is already reported.\n",
      "  warnings.warn(\n",
      "/home/eduardo/Documentos/Water-Cycle-Neural-Network/venv/lib/python3.12/site-packages/optuna/trial/_trial.py:497: UserWarning: The reported value is ignored because this `step` 13 is already reported.\n",
      "  warnings.warn(\n",
      "Monitored metric val_loss did not improve in the last 15 records. Best score: 0.089. Signaling Trainer to stop.\n",
      "GPU available: True (cuda), used: True\n",
      "TPU available: False, using: 0 TPU cores\n",
      "HPU available: False, using: 0 HPUs\n",
      "LOCAL_RANK: 0 - CUDA_VISIBLE_DEVICES: [0]\n"
     ]
    },
    {
     "name": "stdout",
     "output_type": "stream",
     "text": [
      "Model loaded from checkpoint for trial 12, fold 2\n"
     ]
    },
    {
     "name": "stderr",
     "output_type": "stream",
     "text": [
      "[I 2025-06-10 16:08:31,587] Trial 12 finished with value: 82.99427929841275 and parameters: {'input_chunk_length': 60, 'dropout': 0.35, 'batch_size': 208, 'lr': 0.00013929636378647018, 'weight_decay': 2.784544338277865e-05, 'num_layers': 5, 'num_blocks': 3, 'num_stacks': 3, 'layer_widths': 32, 'activation': 'ReLU'}. Best is trial 12 with value: 82.99427929841275.\n",
      "GPU available: True (cuda), used: True\n",
      "TPU available: False, using: 0 TPU cores\n",
      "HPU available: False, using: 0 HPUs\n",
      "LOCAL_RANK: 0 - CUDA_VISIBLE_DEVICES: [0]\n"
     ]
    },
    {
     "name": "stdout",
     "output_type": "stream",
     "text": [
      "SMAPE fold 2: 80.48029386499346\n",
      "Média dos SMAPE nos folds: 82.99427929841275\n",
      "Results of trial 12 saved in optuna_iteration_metrics/trial_12.json\n",
      "Current value: 82.99427929841275, Current params: {'input_chunk_length': 60, 'dropout': 0.35, 'batch_size': 208, 'lr': 0.00013929636378647018, 'weight_decay': 2.784544338277865e-05, 'num_layers': 5, 'num_blocks': 3, 'num_stacks': 3, 'layer_widths': 32, 'activation': 'ReLU'}\n",
      "Best value: 82.99427929841275, Best params: {'input_chunk_length': 60, 'dropout': 0.35, 'batch_size': 208, 'lr': 0.00013929636378647018, 'weight_decay': 2.784544338277865e-05, 'num_layers': 5, 'num_blocks': 3, 'num_stacks': 3, 'layer_widths': 32, 'activation': 'ReLU'}\n",
      "\n",
      "Fold 1/3\n"
     ]
    },
    {
     "name": "stderr",
     "output_type": "stream",
     "text": [
      "[I 2025-06-10 16:08:33,786] Trial 13 pruned. Trial was pruned at epoch 0.\n",
      "GPU available: True (cuda), used: True\n",
      "TPU available: False, using: 0 TPU cores\n",
      "HPU available: False, using: 0 HPUs\n",
      "LOCAL_RANK: 0 - CUDA_VISIBLE_DEVICES: [0]\n"
     ]
    },
    {
     "name": "stdout",
     "output_type": "stream",
     "text": [
      "Current value: 10.17119885092404, Current params: {'input_chunk_length': 72, 'dropout': 0.2, 'batch_size': 224, 'lr': 0.00034795487619870065, 'weight_decay': 3.319512571410892e-05, 'num_layers': 4, 'num_blocks': 3, 'num_stacks': 2, 'layer_widths': 88, 'activation': 'ReLU'}\n",
      "Best value: 82.99427929841275, Best params: {'input_chunk_length': 60, 'dropout': 0.35, 'batch_size': 208, 'lr': 0.00013929636378647018, 'weight_decay': 2.784544338277865e-05, 'num_layers': 5, 'num_blocks': 3, 'num_stacks': 3, 'layer_widths': 32, 'activation': 'ReLU'}\n",
      "\n",
      "Fold 1/3\n"
     ]
    },
    {
     "name": "stderr",
     "output_type": "stream",
     "text": [
      "Metric val_loss improved. New best score: 8.226\n",
      "Metric val_loss improved by 0.028 >= min_delta = 0.0005. New best score: 8.198\n",
      "Metric val_loss improved by 0.019 >= min_delta = 0.0005. New best score: 8.179\n",
      "[I 2025-06-10 16:09:01,178] Trial 14 pruned. Trial was pruned at epoch 17.\n",
      "GPU available: True (cuda), used: True\n",
      "TPU available: False, using: 0 TPU cores\n",
      "HPU available: False, using: 0 HPUs\n",
      "LOCAL_RANK: 0 - CUDA_VISIBLE_DEVICES: [0]\n"
     ]
    },
    {
     "name": "stdout",
     "output_type": "stream",
     "text": [
      "Current value: 16.704615598264134, Current params: {'input_chunk_length': 108, 'dropout': 0.35, 'batch_size': 152, 'lr': 5.231936671395771e-05, 'weight_decay': 0.00125818236855147, 'num_layers': 5, 'num_blocks': 2, 'num_stacks': 2, 'layer_widths': 128, 'activation': 'GELU'}\n",
      "Best value: 82.99427929841275, Best params: {'input_chunk_length': 60, 'dropout': 0.35, 'batch_size': 208, 'lr': 0.00013929636378647018, 'weight_decay': 2.784544338277865e-05, 'num_layers': 5, 'num_blocks': 3, 'num_stacks': 3, 'layer_widths': 32, 'activation': 'ReLU'}\n",
      "\n",
      "Fold 1/3\n"
     ]
    },
    {
     "name": "stderr",
     "output_type": "stream",
     "text": [
      "[I 2025-06-10 16:09:03,779] Trial 15 pruned. Trial was pruned at epoch 0.\n",
      "GPU available: True (cuda), used: True\n",
      "TPU available: False, using: 0 TPU cores\n",
      "HPU available: False, using: 0 HPUs\n",
      "LOCAL_RANK: 0 - CUDA_VISIBLE_DEVICES: [0]\n"
     ]
    },
    {
     "name": "stdout",
     "output_type": "stream",
     "text": [
      "Current value: 12.271077543267449, Current params: {'input_chunk_length': 120, 'dropout': 0.1, 'batch_size': 216, 'lr': 0.00041551032399163925, 'weight_decay': 2.4614994879412287e-05, 'num_layers': 4, 'num_blocks': 3, 'num_stacks': 4, 'layer_widths': 64, 'activation': 'ReLU'}\n",
      "Best value: 82.99427929841275, Best params: {'input_chunk_length': 60, 'dropout': 0.35, 'batch_size': 208, 'lr': 0.00013929636378647018, 'weight_decay': 2.784544338277865e-05, 'num_layers': 5, 'num_blocks': 3, 'num_stacks': 3, 'layer_widths': 32, 'activation': 'ReLU'}\n",
      "\n",
      "Fold 1/3\n"
     ]
    },
    {
     "name": "stderr",
     "output_type": "stream",
     "text": [
      "Metric val_loss improved. New best score: 8.191\n",
      "Metric val_loss improved by 0.327 >= min_delta = 0.0005. New best score: 7.864\n",
      "Monitored metric val_loss did not improve in the last 15 records. Best score: 7.864. Signaling Trainer to stop.\n",
      "GPU available: True (cuda), used: True\n",
      "TPU available: False, using: 0 TPU cores\n",
      "HPU available: False, using: 0 HPUs\n",
      "LOCAL_RANK: 0 - CUDA_VISIBLE_DEVICES: [0]\n"
     ]
    },
    {
     "name": "stdout",
     "output_type": "stream",
     "text": [
      "Model loaded from checkpoint for trial 16, fold 0\n"
     ]
    },
    {
     "name": "stderr",
     "output_type": "stream",
     "text": [
      "Exception in thread QueueFeederThread:\n",
      "Traceback (most recent call last):\n",
      "  File \"/usr/lib/python3.12/multiprocessing/queues.py\", line 259, in _feed\n",
      "Exception in thread QueueFeederThread:\n",
      "Traceback (most recent call last):\n",
      "  File \"/usr/lib/python3.12/multiprocessing/queues.py\", line 259, in _feed\n",
      "    reader_close()\n",
      "  File \"/usr/lib/python3.12/multiprocessing/connection.py\", line 178, in close\n",
      "    self._close()\n",
      "  File \"/usr/lib/python3.12/multiprocessing/connection.py\", line 377, in _close\n",
      "    _close(self._handle)\n",
      "OSError: [Errno 9] Bad file descriptor\n",
      "\n",
      "During handling of the above exception, another exception occurred:\n",
      "\n",
      "Traceback (most recent call last):\n",
      "  File \"/usr/lib/python3.12/threading.py\", line 1073, in _bootstrap_inner\n",
      "    self.run()\n",
      "  File \"/home/eduardo/Documentos/Water-Cycle-Neural-Network/venv/lib/python3.12/site-packages/ipykernel/ipkernel.py\", line 766, in run_closure\n",
      "    _threading_Thread_run(self)\n",
      "  File \"/usr/lib/python3.12/threading.py\", line 1010, in run\n",
      "    self._target(*self._args, **self._kwargs)\n",
      "  File \"/usr/lib/python3.12/multiprocessing/queues.py\", line 291, in _feed\n",
      "    queue_sem.release()\n",
      "ValueError: semaphore or lock released too many times\n",
      "    reader_close()\n",
      "  File \"/usr/lib/python3.12/multiprocessing/connection.py\", line 178, in close\n",
      "    self._close()\n",
      "  File \"/usr/lib/python3.12/multiprocessing/connection.py\", line 377, in _close\n",
      "    _close(self._handle)\n",
      "OSError: [Errno 9] Bad file descriptor\n",
      "\n",
      "During handling of the above exception, another exception occurred:\n",
      "\n",
      "Traceback (most recent call last):\n",
      "  File \"/usr/lib/python3.12/threading.py\", line 1073, in _bootstrap_inner\n",
      "    self.run()\n",
      "  File \"/home/eduardo/Documentos/Water-Cycle-Neural-Network/venv/lib/python3.12/site-packages/ipykernel/ipkernel.py\", line 766, in run_closure\n",
      "    _threading_Thread_run(self)\n",
      "  File \"/usr/lib/python3.12/threading.py\", line 1010, in run\n",
      "    self._target(*self._args, **self._kwargs)\n",
      "  File \"/usr/lib/python3.12/multiprocessing/queues.py\", line 291, in _feed\n",
      "    queue_sem.release()\n",
      "ValueError: semaphore or lock released too many times\n",
      "Exception ignored in: <function _ConnectionBase.__del__ at 0x7f58c5b2ba60>\n",
      "Traceback (most recent call last):\n",
      "  File \"/usr/lib/python3.12/multiprocessing/connection.py\", line 133, in __del__\n",
      "    self._close()\n",
      "  File \"/usr/lib/python3.12/multiprocessing/connection.py\", line 377, in _close\n",
      "    _close(self._handle)\n",
      "OSError: [Errno 9] Bad file descriptor\n",
      "GPU available: True (cuda), used: True\n",
      "TPU available: False, using: 0 TPU cores\n",
      "HPU available: False, using: 0 HPUs\n",
      "LOCAL_RANK: 0 - CUDA_VISIBLE_DEVICES: [0]\n"
     ]
    },
    {
     "name": "stdout",
     "output_type": "stream",
     "text": [
      "SMAPE fold 0: 106.60547985452608\n",
      "\n",
      "Fold 2/3\n"
     ]
    },
    {
     "name": "stderr",
     "output_type": "stream",
     "text": [
      "/home/eduardo/Documentos/Water-Cycle-Neural-Network/venv/lib/python3.12/site-packages/optuna/trial/_trial.py:497: UserWarning: The reported value is ignored because this `step` 0 is already reported.\n",
      "  warnings.warn(\n",
      "Metric val_loss improved by 7.761 >= min_delta = 0.0005. New best score: 0.102\n",
      "/home/eduardo/Documentos/Water-Cycle-Neural-Network/venv/lib/python3.12/site-packages/optuna/trial/_trial.py:497: UserWarning: The reported value is ignored because this `step` 1 is already reported.\n",
      "  warnings.warn(\n",
      "Metric val_loss improved by 0.017 >= min_delta = 0.0005. New best score: 0.086\n",
      "/home/eduardo/Documentos/Water-Cycle-Neural-Network/venv/lib/python3.12/site-packages/optuna/trial/_trial.py:497: UserWarning: The reported value is ignored because this `step` 2 is already reported.\n",
      "  warnings.warn(\n",
      "Metric val_loss improved by 0.017 >= min_delta = 0.0005. New best score: 0.069\n",
      "/home/eduardo/Documentos/Water-Cycle-Neural-Network/venv/lib/python3.12/site-packages/optuna/trial/_trial.py:497: UserWarning: The reported value is ignored because this `step` 3 is already reported.\n",
      "  warnings.warn(\n",
      "/home/eduardo/Documentos/Water-Cycle-Neural-Network/venv/lib/python3.12/site-packages/optuna/trial/_trial.py:497: UserWarning: The reported value is ignored because this `step` 4 is already reported.\n",
      "  warnings.warn(\n",
      "/home/eduardo/Documentos/Water-Cycle-Neural-Network/venv/lib/python3.12/site-packages/optuna/trial/_trial.py:497: UserWarning: The reported value is ignored because this `step` 5 is already reported.\n",
      "  warnings.warn(\n",
      "/home/eduardo/Documentos/Water-Cycle-Neural-Network/venv/lib/python3.12/site-packages/optuna/trial/_trial.py:497: UserWarning: The reported value is ignored because this `step` 6 is already reported.\n",
      "  warnings.warn(\n",
      "/home/eduardo/Documentos/Water-Cycle-Neural-Network/venv/lib/python3.12/site-packages/optuna/trial/_trial.py:497: UserWarning: The reported value is ignored because this `step` 7 is already reported.\n",
      "  warnings.warn(\n",
      "/home/eduardo/Documentos/Water-Cycle-Neural-Network/venv/lib/python3.12/site-packages/optuna/trial/_trial.py:497: UserWarning: The reported value is ignored because this `step` 8 is already reported.\n",
      "  warnings.warn(\n",
      "/home/eduardo/Documentos/Water-Cycle-Neural-Network/venv/lib/python3.12/site-packages/optuna/trial/_trial.py:497: UserWarning: The reported value is ignored because this `step` 9 is already reported.\n",
      "  warnings.warn(\n",
      "/home/eduardo/Documentos/Water-Cycle-Neural-Network/venv/lib/python3.12/site-packages/optuna/trial/_trial.py:497: UserWarning: The reported value is ignored because this `step` 10 is already reported.\n",
      "  warnings.warn(\n",
      "/home/eduardo/Documentos/Water-Cycle-Neural-Network/venv/lib/python3.12/site-packages/optuna/trial/_trial.py:497: UserWarning: The reported value is ignored because this `step` 11 is already reported.\n",
      "  warnings.warn(\n",
      "/home/eduardo/Documentos/Water-Cycle-Neural-Network/venv/lib/python3.12/site-packages/optuna/trial/_trial.py:497: UserWarning: The reported value is ignored because this `step` 12 is already reported.\n",
      "  warnings.warn(\n",
      "/home/eduardo/Documentos/Water-Cycle-Neural-Network/venv/lib/python3.12/site-packages/optuna/trial/_trial.py:497: UserWarning: The reported value is ignored because this `step` 13 is already reported.\n",
      "  warnings.warn(\n",
      "/home/eduardo/Documentos/Water-Cycle-Neural-Network/venv/lib/python3.12/site-packages/optuna/trial/_trial.py:497: UserWarning: The reported value is ignored because this `step` 14 is already reported.\n",
      "  warnings.warn(\n",
      "/home/eduardo/Documentos/Water-Cycle-Neural-Network/venv/lib/python3.12/site-packages/optuna/trial/_trial.py:497: UserWarning: The reported value is ignored because this `step` 15 is already reported.\n",
      "  warnings.warn(\n",
      "/home/eduardo/Documentos/Water-Cycle-Neural-Network/venv/lib/python3.12/site-packages/optuna/trial/_trial.py:497: UserWarning: The reported value is ignored because this `step` 16 is already reported.\n",
      "  warnings.warn(\n",
      "Monitored metric val_loss did not improve in the last 15 records. Best score: 0.069. Signaling Trainer to stop.\n",
      "GPU available: True (cuda), used: True\n",
      "TPU available: False, using: 0 TPU cores\n",
      "HPU available: False, using: 0 HPUs\n",
      "LOCAL_RANK: 0 - CUDA_VISIBLE_DEVICES: [0]\n"
     ]
    },
    {
     "name": "stdout",
     "output_type": "stream",
     "text": [
      "Model loaded from checkpoint for trial 16, fold 1\n"
     ]
    },
    {
     "name": "stderr",
     "output_type": "stream",
     "text": [
      "GPU available: True (cuda), used: True\n",
      "TPU available: False, using: 0 TPU cores\n",
      "HPU available: False, using: 0 HPUs\n",
      "LOCAL_RANK: 0 - CUDA_VISIBLE_DEVICES: [0]\n"
     ]
    },
    {
     "name": "stdout",
     "output_type": "stream",
     "text": [
      "SMAPE fold 1: 65.48318085481412\n",
      "\n",
      "Fold 3/3\n"
     ]
    },
    {
     "name": "stderr",
     "output_type": "stream",
     "text": [
      "/home/eduardo/Documentos/Water-Cycle-Neural-Network/venv/lib/python3.12/site-packages/optuna/trial/_trial.py:497: UserWarning: The reported value is ignored because this `step` 0 is already reported.\n",
      "  warnings.warn(\n",
      "Monitored metric val_loss did not improve in the last 16 records. Best score: 0.069. Signaling Trainer to stop.\n",
      "GPU available: True (cuda), used: True\n",
      "TPU available: False, using: 0 TPU cores\n",
      "HPU available: False, using: 0 HPUs\n",
      "LOCAL_RANK: 0 - CUDA_VISIBLE_DEVICES: [0]\n"
     ]
    },
    {
     "name": "stdout",
     "output_type": "stream",
     "text": [
      "Model loaded from checkpoint for trial 16, fold 2\n"
     ]
    },
    {
     "name": "stderr",
     "output_type": "stream",
     "text": [
      "[I 2025-06-10 16:12:30,602] Trial 16 finished with value: 84.16332434723341 and parameters: {'input_chunk_length': 72, 'dropout': 0.2, 'batch_size': 128, 'lr': 0.004710667950270656, 'weight_decay': 0.0003290450013737979, 'num_layers': 5, 'num_blocks': 2, 'num_stacks': 2, 'layer_widths': 32, 'activation': 'ReLU'}. Best is trial 12 with value: 82.99427929841275.\n",
      "GPU available: True (cuda), used: True\n",
      "TPU available: False, using: 0 TPU cores\n",
      "HPU available: False, using: 0 HPUs\n",
      "LOCAL_RANK: 0 - CUDA_VISIBLE_DEVICES: [0]\n"
     ]
    },
    {
     "name": "stdout",
     "output_type": "stream",
     "text": [
      "SMAPE fold 2: 80.40131233236004\n",
      "Média dos SMAPE nos folds: 84.16332434723341\n",
      "Results of trial 16 saved in optuna_iteration_metrics/trial_16.json\n",
      "Current value: 84.16332434723341, Current params: {'input_chunk_length': 72, 'dropout': 0.2, 'batch_size': 128, 'lr': 0.004710667950270656, 'weight_decay': 0.0003290450013737979, 'num_layers': 5, 'num_blocks': 2, 'num_stacks': 2, 'layer_widths': 32, 'activation': 'ReLU'}\n",
      "Best value: 82.99427929841275, Best params: {'input_chunk_length': 60, 'dropout': 0.35, 'batch_size': 208, 'lr': 0.00013929636378647018, 'weight_decay': 2.784544338277865e-05, 'num_layers': 5, 'num_blocks': 3, 'num_stacks': 3, 'layer_widths': 32, 'activation': 'ReLU'}\n",
      "\n",
      "Fold 1/3\n"
     ]
    },
    {
     "name": "stderr",
     "output_type": "stream",
     "text": [
      "[I 2025-06-10 16:12:33,010] Trial 17 pruned. Trial was pruned at epoch 0.\n",
      "GPU available: True (cuda), used: True\n",
      "TPU available: False, using: 0 TPU cores\n",
      "HPU available: False, using: 0 HPUs\n",
      "LOCAL_RANK: 0 - CUDA_VISIBLE_DEVICES: [0]\n"
     ]
    },
    {
     "name": "stdout",
     "output_type": "stream",
     "text": [
      "Current value: 9.07050373846211, Current params: {'input_chunk_length': 60, 'dropout': 0.15000000000000002, 'batch_size': 104, 'lr': 0.0036670220837701083, 'weight_decay': 0.00013386818666014582, 'num_layers': 4, 'num_blocks': 2, 'num_stacks': 4, 'layer_widths': 32, 'activation': 'ReLU'}\n",
      "Best value: 82.99427929841275, Best params: {'input_chunk_length': 60, 'dropout': 0.35, 'batch_size': 208, 'lr': 0.00013929636378647018, 'weight_decay': 2.784544338277865e-05, 'num_layers': 5, 'num_blocks': 3, 'num_stacks': 3, 'layer_widths': 32, 'activation': 'ReLU'}\n",
      "\n",
      "Fold 1/3\n"
     ]
    },
    {
     "name": "stderr",
     "output_type": "stream",
     "text": [
      "Metric val_loss improved. New best score: 8.221\n",
      "Metric val_loss improved by 0.005 >= min_delta = 0.0005. New best score: 8.216\n",
      "Metric val_loss improved by 0.005 >= min_delta = 0.0005. New best score: 8.211\n",
      "Metric val_loss improved by 0.005 >= min_delta = 0.0005. New best score: 8.206\n",
      "Metric val_loss improved by 0.005 >= min_delta = 0.0005. New best score: 8.201\n",
      "Metric val_loss improved by 0.005 >= min_delta = 0.0005. New best score: 8.196\n",
      "Metric val_loss improved by 0.005 >= min_delta = 0.0005. New best score: 8.192\n",
      "Metric val_loss improved by 0.005 >= min_delta = 0.0005. New best score: 8.187\n",
      "Metric val_loss improved by 0.005 >= min_delta = 0.0005. New best score: 8.183\n",
      "Metric val_loss improved by 0.005 >= min_delta = 0.0005. New best score: 8.178\n",
      "Metric val_loss improved by 0.005 >= min_delta = 0.0005. New best score: 8.173\n",
      "Metric val_loss improved by 0.005 >= min_delta = 0.0005. New best score: 8.169\n",
      "Metric val_loss improved by 0.005 >= min_delta = 0.0005. New best score: 8.164\n",
      "Metric val_loss improved by 0.004 >= min_delta = 0.0005. New best score: 8.160\n",
      "Metric val_loss improved by 0.004 >= min_delta = 0.0005. New best score: 8.155\n",
      "Metric val_loss improved by 0.004 >= min_delta = 0.0005. New best score: 8.151\n",
      "Metric val_loss improved by 0.004 >= min_delta = 0.0005. New best score: 8.147\n",
      "[I 2025-06-10 16:13:01,354] Trial 18 pruned. Trial was pruned at epoch 17.\n",
      "GPU available: True (cuda), used: True\n",
      "TPU available: False, using: 0 TPU cores\n",
      "HPU available: False, using: 0 HPUs\n",
      "LOCAL_RANK: 0 - CUDA_VISIBLE_DEVICES: [0]\n"
     ]
    },
    {
     "name": "stdout",
     "output_type": "stream",
     "text": [
      "Current value: 8.142156789252493, Current params: {'input_chunk_length': 72, 'dropout': 0.25, 'batch_size': 112, 'lr': 1.533290432515326e-06, 'weight_decay': 0.00028424878049353007, 'num_layers': 5, 'num_blocks': 2, 'num_stacks': 2, 'layer_widths': 120, 'activation': 'GELU'}\n",
      "Best value: 82.99427929841275, Best params: {'input_chunk_length': 60, 'dropout': 0.35, 'batch_size': 208, 'lr': 0.00013929636378647018, 'weight_decay': 2.784544338277865e-05, 'num_layers': 5, 'num_blocks': 3, 'num_stacks': 3, 'layer_widths': 32, 'activation': 'ReLU'}\n",
      "\n",
      "Fold 1/3\n"
     ]
    },
    {
     "name": "stderr",
     "output_type": "stream",
     "text": [
      "[I 2025-06-10 16:13:03,802] Trial 19 pruned. Trial was pruned at epoch 0.\n",
      "GPU available: True (cuda), used: True\n",
      "TPU available: False, using: 0 TPU cores\n",
      "HPU available: False, using: 0 HPUs\n",
      "LOCAL_RANK: 0 - CUDA_VISIBLE_DEVICES: [0]\n"
     ]
    },
    {
     "name": "stdout",
     "output_type": "stream",
     "text": [
      "Current value: 8.974758356501868, Current params: {'input_chunk_length': 36, 'dropout': 0.35, 'batch_size': 168, 'lr': 0.004973182149474536, 'weight_decay': 1.6516231050556e-05, 'num_layers': 4, 'num_blocks': 3, 'num_stacks': 3, 'layer_widths': 72, 'activation': 'ReLU'}\n",
      "Best value: 82.99427929841275, Best params: {'input_chunk_length': 60, 'dropout': 0.35, 'batch_size': 208, 'lr': 0.00013929636378647018, 'weight_decay': 2.784544338277865e-05, 'num_layers': 5, 'num_blocks': 3, 'num_stacks': 3, 'layer_widths': 32, 'activation': 'ReLU'}\n",
      "\n",
      "Fold 1/3\n"
     ]
    },
    {
     "name": "stderr",
     "output_type": "stream",
     "text": [
      "[I 2025-06-10 16:13:06,018] Trial 20 pruned. Trial was pruned at epoch 0.\n",
      "GPU available: True (cuda), used: True\n",
      "TPU available: False, using: 0 TPU cores\n",
      "HPU available: False, using: 0 HPUs\n",
      "LOCAL_RANK: 0 - CUDA_VISIBLE_DEVICES: [0]\n"
     ]
    },
    {
     "name": "stdout",
     "output_type": "stream",
     "text": [
      "Current value: 12.616985001778774, Current params: {'input_chunk_length': 72, 'dropout': 0.2, 'batch_size': 136, 'lr': 0.00012916944486824117, 'weight_decay': 0.003293714754445999, 'num_layers': 2, 'num_blocks': 1, 'num_stacks': 4, 'layer_widths': 32, 'activation': 'ReLU'}\n",
      "Best value: 82.99427929841275, Best params: {'input_chunk_length': 60, 'dropout': 0.35, 'batch_size': 208, 'lr': 0.00013929636378647018, 'weight_decay': 2.784544338277865e-05, 'num_layers': 5, 'num_blocks': 3, 'num_stacks': 3, 'layer_widths': 32, 'activation': 'ReLU'}\n",
      "\n",
      "Fold 1/3\n"
     ]
    },
    {
     "name": "stderr",
     "output_type": "stream",
     "text": [
      "Metric val_loss improved. New best score: 8.579\n",
      "Metric val_loss improved by 0.160 >= min_delta = 0.0005. New best score: 8.419\n",
      "Metric val_loss improved by 0.184 >= min_delta = 0.0005. New best score: 8.235\n",
      "Metric val_loss improved by 0.099 >= min_delta = 0.0005. New best score: 8.136\n",
      "Metric val_loss improved by 0.084 >= min_delta = 0.0005. New best score: 8.052\n",
      "Metric val_loss improved by 0.048 >= min_delta = 0.0005. New best score: 8.004\n",
      "Metric val_loss improved by 0.037 >= min_delta = 0.0005. New best score: 7.966\n",
      "Metric val_loss improved by 0.018 >= min_delta = 0.0005. New best score: 7.948\n",
      "Metric val_loss improved by 0.006 >= min_delta = 0.0005. New best score: 7.942\n",
      "[I 2025-06-10 16:13:34,866] Trial 21 pruned. Trial was pruned at epoch 17.\n",
      "GPU available: True (cuda), used: True\n",
      "TPU available: False, using: 0 TPU cores\n",
      "HPU available: False, using: 0 HPUs\n",
      "LOCAL_RANK: 0 - CUDA_VISIBLE_DEVICES: [0]\n"
     ]
    },
    {
     "name": "stdout",
     "output_type": "stream",
     "text": [
      "Current value: 7.94757127234328, Current params: {'input_chunk_length': 96, 'dropout': 0.25, 'batch_size': 208, 'lr': 0.0010406016280311706, 'weight_decay': 0.002659675447666898, 'num_layers': 5, 'num_blocks': 3, 'num_stacks': 2, 'layer_widths': 56, 'activation': 'ReLU'}\n",
      "Best value: 82.99427929841275, Best params: {'input_chunk_length': 60, 'dropout': 0.35, 'batch_size': 208, 'lr': 0.00013929636378647018, 'weight_decay': 2.784544338277865e-05, 'num_layers': 5, 'num_blocks': 3, 'num_stacks': 3, 'layer_widths': 32, 'activation': 'ReLU'}\n",
      "\n",
      "Fold 1/3\n"
     ]
    },
    {
     "name": "stderr",
     "output_type": "stream",
     "text": [
      "[I 2025-06-10 16:13:37,267] Trial 22 pruned. Trial was pruned at epoch 0.\n",
      "GPU available: True (cuda), used: True\n",
      "TPU available: False, using: 0 TPU cores\n",
      "HPU available: False, using: 0 HPUs\n",
      "LOCAL_RANK: 0 - CUDA_VISIBLE_DEVICES: [0]\n"
     ]
    },
    {
     "name": "stdout",
     "output_type": "stream",
     "text": [
      "Current value: 12.89282891899846, Current params: {'input_chunk_length': 84, 'dropout': 0.15000000000000002, 'batch_size': 176, 'lr': 0.000717263695967013, 'weight_decay': 0.00031634930281446014, 'num_layers': 5, 'num_blocks': 2, 'num_stacks': 2, 'layer_widths': 80, 'activation': 'ReLU'}\n",
      "Best value: 82.99427929841275, Best params: {'input_chunk_length': 60, 'dropout': 0.35, 'batch_size': 208, 'lr': 0.00013929636378647018, 'weight_decay': 2.784544338277865e-05, 'num_layers': 5, 'num_blocks': 3, 'num_stacks': 3, 'layer_widths': 32, 'activation': 'ReLU'}\n",
      "\n",
      "Fold 1/3\n"
     ]
    },
    {
     "name": "stderr",
     "output_type": "stream",
     "text": [
      "Metric val_loss improved. New best score: 8.272\n",
      "Monitored metric val_loss did not improve in the last 15 records. Best score: 8.272. Signaling Trainer to stop.\n",
      "GPU available: True (cuda), used: True\n",
      "TPU available: False, using: 0 TPU cores\n",
      "HPU available: False, using: 0 HPUs\n",
      "LOCAL_RANK: 0 - CUDA_VISIBLE_DEVICES: [0]\n"
     ]
    },
    {
     "name": "stdout",
     "output_type": "stream",
     "text": [
      "Model loaded from checkpoint for trial 23, fold 0\n"
     ]
    },
    {
     "name": "stderr",
     "output_type": "stream",
     "text": [
      "Exception in thread QueueFeederThread:\n",
      "Traceback (most recent call last):\n",
      "  File \"/usr/lib/python3.12/multiprocessing/queues.py\", line 259, in _feed\n",
      "    reader_close()\n",
      "  File \"/usr/lib/python3.12/multiprocessing/connection.py\", line 178, in close\n",
      "    self._close()\n",
      "  File \"/usr/lib/python3.12/multiprocessing/connection.py\", line 377, in _close\n",
      "    _close(self._handle)\n",
      "OSError: [Errno 9] Bad file descriptor\n",
      "\n",
      "During handling of the above exception, another exception occurred:\n",
      "\n",
      "Traceback (most recent call last):\n",
      "  File \"/usr/lib/python3.12/threading.py\", line 1073, in _bootstrap_inner\n",
      "    self.run()\n",
      "  File \"/home/eduardo/Documentos/Water-Cycle-Neural-Network/venv/lib/python3.12/site-packages/ipykernel/ipkernel.py\", line 766, in run_closure\n",
      "    _threading_Thread_run(self)\n",
      "  File \"/usr/lib/python3.12/threading.py\", line 1010, in run\n",
      "    self._target(*self._args, **self._kwargs)\n",
      "  File \"/usr/lib/python3.12/multiprocessing/queues.py\", line 291, in _feed\n",
      "    queue_sem.release()\n",
      "ValueError: semaphore or lock released too many times\n",
      "GPU available: True (cuda), used: True\n",
      "TPU available: False, using: 0 TPU cores\n",
      "HPU available: False, using: 0 HPUs\n",
      "LOCAL_RANK: 0 - CUDA_VISIBLE_DEVICES: [0]\n"
     ]
    },
    {
     "name": "stdout",
     "output_type": "stream",
     "text": [
      "SMAPE fold 0: 144.2876675875161\n",
      "\n",
      "Fold 2/3\n"
     ]
    },
    {
     "name": "stderr",
     "output_type": "stream",
     "text": [
      "/home/eduardo/Documentos/Water-Cycle-Neural-Network/venv/lib/python3.12/site-packages/optuna/trial/_trial.py:497: UserWarning: The reported value is ignored because this `step` 0 is already reported.\n",
      "  warnings.warn(\n",
      "Metric val_loss improved by 7.899 >= min_delta = 0.0005. New best score: 0.373\n",
      "/home/eduardo/Documentos/Water-Cycle-Neural-Network/venv/lib/python3.12/site-packages/optuna/trial/_trial.py:497: UserWarning: The reported value is ignored because this `step` 1 is already reported.\n",
      "  warnings.warn(\n",
      "Metric val_loss improved by 0.056 >= min_delta = 0.0005. New best score: 0.317\n",
      "/home/eduardo/Documentos/Water-Cycle-Neural-Network/venv/lib/python3.12/site-packages/optuna/trial/_trial.py:497: UserWarning: The reported value is ignored because this `step` 2 is already reported.\n",
      "  warnings.warn(\n",
      "Metric val_loss improved by 0.073 >= min_delta = 0.0005. New best score: 0.244\n",
      "/home/eduardo/Documentos/Water-Cycle-Neural-Network/venv/lib/python3.12/site-packages/optuna/trial/_trial.py:497: UserWarning: The reported value is ignored because this `step` 3 is already reported.\n",
      "  warnings.warn(\n",
      "Metric val_loss improved by 0.054 >= min_delta = 0.0005. New best score: 0.190\n",
      "/home/eduardo/Documentos/Water-Cycle-Neural-Network/venv/lib/python3.12/site-packages/optuna/trial/_trial.py:497: UserWarning: The reported value is ignored because this `step` 4 is already reported.\n",
      "  warnings.warn(\n",
      "Metric val_loss improved by 0.050 >= min_delta = 0.0005. New best score: 0.140\n",
      "/home/eduardo/Documentos/Water-Cycle-Neural-Network/venv/lib/python3.12/site-packages/optuna/trial/_trial.py:497: UserWarning: The reported value is ignored because this `step` 5 is already reported.\n",
      "  warnings.warn(\n",
      "Metric val_loss improved by 0.021 >= min_delta = 0.0005. New best score: 0.119\n",
      "/home/eduardo/Documentos/Water-Cycle-Neural-Network/venv/lib/python3.12/site-packages/optuna/trial/_trial.py:497: UserWarning: The reported value is ignored because this `step` 6 is already reported.\n",
      "  warnings.warn(\n",
      "Metric val_loss improved by 0.009 >= min_delta = 0.0005. New best score: 0.110\n",
      "/home/eduardo/Documentos/Water-Cycle-Neural-Network/venv/lib/python3.12/site-packages/optuna/trial/_trial.py:497: UserWarning: The reported value is ignored because this `step` 7 is already reported.\n",
      "  warnings.warn(\n",
      "Metric val_loss improved by 0.025 >= min_delta = 0.0005. New best score: 0.085\n",
      "/home/eduardo/Documentos/Water-Cycle-Neural-Network/venv/lib/python3.12/site-packages/optuna/trial/_trial.py:497: UserWarning: The reported value is ignored because this `step` 8 is already reported.\n",
      "  warnings.warn(\n",
      "/home/eduardo/Documentos/Water-Cycle-Neural-Network/venv/lib/python3.12/site-packages/optuna/trial/_trial.py:497: UserWarning: The reported value is ignored because this `step` 9 is already reported.\n",
      "  warnings.warn(\n",
      "Metric val_loss improved by 0.007 >= min_delta = 0.0005. New best score: 0.078\n",
      "/home/eduardo/Documentos/Water-Cycle-Neural-Network/venv/lib/python3.12/site-packages/optuna/trial/_trial.py:497: UserWarning: The reported value is ignored because this `step` 10 is already reported.\n",
      "  warnings.warn(\n",
      "Metric val_loss improved by 0.005 >= min_delta = 0.0005. New best score: 0.073\n",
      "/home/eduardo/Documentos/Water-Cycle-Neural-Network/venv/lib/python3.12/site-packages/optuna/trial/_trial.py:497: UserWarning: The reported value is ignored because this `step` 11 is already reported.\n",
      "  warnings.warn(\n",
      "Metric val_loss improved by 0.001 >= min_delta = 0.0005. New best score: 0.072\n",
      "/home/eduardo/Documentos/Water-Cycle-Neural-Network/venv/lib/python3.12/site-packages/optuna/trial/_trial.py:497: UserWarning: The reported value is ignored because this `step` 12 is already reported.\n",
      "  warnings.warn(\n",
      "/home/eduardo/Documentos/Water-Cycle-Neural-Network/venv/lib/python3.12/site-packages/optuna/trial/_trial.py:497: UserWarning: The reported value is ignored because this `step` 13 is already reported.\n",
      "  warnings.warn(\n",
      "/home/eduardo/Documentos/Water-Cycle-Neural-Network/venv/lib/python3.12/site-packages/optuna/trial/_trial.py:497: UserWarning: The reported value is ignored because this `step` 14 is already reported.\n",
      "  warnings.warn(\n",
      "/home/eduardo/Documentos/Water-Cycle-Neural-Network/venv/lib/python3.12/site-packages/optuna/trial/_trial.py:497: UserWarning: The reported value is ignored because this `step` 15 is already reported.\n",
      "  warnings.warn(\n",
      "Metric val_loss improved by 0.001 >= min_delta = 0.0005. New best score: 0.071\n",
      "Metric val_loss improved by 0.002 >= min_delta = 0.0005. New best score: 0.069\n",
      "`Trainer.fit` stopped: `max_epochs=30` reached.\n",
      "GPU available: True (cuda), used: True\n",
      "TPU available: False, using: 0 TPU cores\n",
      "HPU available: False, using: 0 HPUs\n",
      "LOCAL_RANK: 0 - CUDA_VISIBLE_DEVICES: [0]\n"
     ]
    },
    {
     "name": "stdout",
     "output_type": "stream",
     "text": [
      "Model loaded from checkpoint for trial 23, fold 1\n"
     ]
    },
    {
     "name": "stderr",
     "output_type": "stream",
     "text": [
      "GPU available: True (cuda), used: True\n",
      "TPU available: False, using: 0 TPU cores\n",
      "HPU available: False, using: 0 HPUs\n",
      "LOCAL_RANK: 0 - CUDA_VISIBLE_DEVICES: [0]\n"
     ]
    },
    {
     "name": "stdout",
     "output_type": "stream",
     "text": [
      "SMAPE fold 1: 65.2498545692276\n",
      "\n",
      "Fold 3/3\n"
     ]
    },
    {
     "name": "stderr",
     "output_type": "stream",
     "text": [
      "/home/eduardo/Documentos/Water-Cycle-Neural-Network/venv/lib/python3.12/site-packages/optuna/trial/_trial.py:497: UserWarning: The reported value is ignored because this `step` 0 is already reported.\n",
      "  warnings.warn(\n",
      "/home/eduardo/Documentos/Water-Cycle-Neural-Network/venv/lib/python3.12/site-packages/optuna/trial/_trial.py:497: UserWarning: The reported value is ignored because this `step` 1 is already reported.\n",
      "  warnings.warn(\n",
      "/home/eduardo/Documentos/Water-Cycle-Neural-Network/venv/lib/python3.12/site-packages/optuna/trial/_trial.py:497: UserWarning: The reported value is ignored because this `step` 2 is already reported.\n",
      "  warnings.warn(\n",
      "/home/eduardo/Documentos/Water-Cycle-Neural-Network/venv/lib/python3.12/site-packages/optuna/trial/_trial.py:497: UserWarning: The reported value is ignored because this `step` 3 is already reported.\n",
      "  warnings.warn(\n",
      "/home/eduardo/Documentos/Water-Cycle-Neural-Network/venv/lib/python3.12/site-packages/optuna/trial/_trial.py:497: UserWarning: The reported value is ignored because this `step` 4 is already reported.\n",
      "  warnings.warn(\n",
      "/home/eduardo/Documentos/Water-Cycle-Neural-Network/venv/lib/python3.12/site-packages/optuna/trial/_trial.py:497: UserWarning: The reported value is ignored because this `step` 5 is already reported.\n",
      "  warnings.warn(\n",
      "/home/eduardo/Documentos/Water-Cycle-Neural-Network/venv/lib/python3.12/site-packages/optuna/trial/_trial.py:497: UserWarning: The reported value is ignored because this `step` 6 is already reported.\n",
      "  warnings.warn(\n",
      "/home/eduardo/Documentos/Water-Cycle-Neural-Network/venv/lib/python3.12/site-packages/optuna/trial/_trial.py:497: UserWarning: The reported value is ignored because this `step` 7 is already reported.\n",
      "  warnings.warn(\n",
      "/home/eduardo/Documentos/Water-Cycle-Neural-Network/venv/lib/python3.12/site-packages/optuna/trial/_trial.py:497: UserWarning: The reported value is ignored because this `step` 8 is already reported.\n",
      "  warnings.warn(\n",
      "/home/eduardo/Documentos/Water-Cycle-Neural-Network/venv/lib/python3.12/site-packages/optuna/trial/_trial.py:497: UserWarning: The reported value is ignored because this `step` 9 is already reported.\n",
      "  warnings.warn(\n",
      "/home/eduardo/Documentos/Water-Cycle-Neural-Network/venv/lib/python3.12/site-packages/optuna/trial/_trial.py:497: UserWarning: The reported value is ignored because this `step` 10 is already reported.\n",
      "  warnings.warn(\n",
      "/home/eduardo/Documentos/Water-Cycle-Neural-Network/venv/lib/python3.12/site-packages/optuna/trial/_trial.py:497: UserWarning: The reported value is ignored because this `step` 11 is already reported.\n",
      "  warnings.warn(\n",
      "/home/eduardo/Documentos/Water-Cycle-Neural-Network/venv/lib/python3.12/site-packages/optuna/trial/_trial.py:497: UserWarning: The reported value is ignored because this `step` 12 is already reported.\n",
      "  warnings.warn(\n",
      "/home/eduardo/Documentos/Water-Cycle-Neural-Network/venv/lib/python3.12/site-packages/optuna/trial/_trial.py:497: UserWarning: The reported value is ignored because this `step` 13 is already reported.\n",
      "  warnings.warn(\n",
      "Monitored metric val_loss did not improve in the last 15 records. Best score: 0.069. Signaling Trainer to stop.\n",
      "GPU available: True (cuda), used: True\n",
      "TPU available: False, using: 0 TPU cores\n",
      "HPU available: False, using: 0 HPUs\n",
      "LOCAL_RANK: 0 - CUDA_VISIBLE_DEVICES: [0]\n"
     ]
    },
    {
     "name": "stdout",
     "output_type": "stream",
     "text": [
      "Model loaded from checkpoint for trial 23, fold 2\n"
     ]
    },
    {
     "name": "stderr",
     "output_type": "stream",
     "text": [
      "[I 2025-06-10 16:21:10,579] Trial 23 finished with value: 95.98861723620793 and parameters: {'input_chunk_length': 48, 'dropout': 0.35, 'batch_size': 96, 'lr': 0.00016628145984265514, 'weight_decay': 6.39443606677621e-05, 'num_layers': 5, 'num_blocks': 3, 'num_stacks': 3, 'layer_widths': 48, 'activation': 'ReLU'}. Best is trial 12 with value: 82.99427929841275.\n",
      "GPU available: True (cuda), used: True\n",
      "TPU available: False, using: 0 TPU cores\n",
      "HPU available: False, using: 0 HPUs\n",
      "LOCAL_RANK: 0 - CUDA_VISIBLE_DEVICES: [0]\n"
     ]
    },
    {
     "name": "stdout",
     "output_type": "stream",
     "text": [
      "SMAPE fold 2: 78.42832955188008\n",
      "Média dos SMAPE nos folds: 95.98861723620793\n",
      "Results of trial 23 saved in optuna_iteration_metrics/trial_23.json\n",
      "Current value: 95.98861723620793, Current params: {'input_chunk_length': 48, 'dropout': 0.35, 'batch_size': 96, 'lr': 0.00016628145984265514, 'weight_decay': 6.39443606677621e-05, 'num_layers': 5, 'num_blocks': 3, 'num_stacks': 3, 'layer_widths': 48, 'activation': 'ReLU'}\n",
      "Best value: 82.99427929841275, Best params: {'input_chunk_length': 60, 'dropout': 0.35, 'batch_size': 208, 'lr': 0.00013929636378647018, 'weight_decay': 2.784544338277865e-05, 'num_layers': 5, 'num_blocks': 3, 'num_stacks': 3, 'layer_widths': 32, 'activation': 'ReLU'}\n",
      "\n",
      "Fold 1/3\n"
     ]
    },
    {
     "name": "stderr",
     "output_type": "stream",
     "text": [
      "[I 2025-06-10 16:21:12,619] Trial 24 pruned. Trial was pruned at epoch 0.\n",
      "GPU available: True (cuda), used: True\n",
      "TPU available: False, using: 0 TPU cores\n",
      "HPU available: False, using: 0 HPUs\n",
      "LOCAL_RANK: 0 - CUDA_VISIBLE_DEVICES: [0]\n"
     ]
    },
    {
     "name": "stdout",
     "output_type": "stream",
     "text": [
      "Current value: 8.792643467556431, Current params: {'input_chunk_length': 108, 'dropout': 0.30000000000000004, 'batch_size': 232, 'lr': 0.0003120178361180605, 'weight_decay': 0.00022023289109768073, 'num_layers': 4, 'num_blocks': 4, 'num_stacks': 1, 'layer_widths': 48, 'activation': 'ReLU'}\n",
      "Best value: 82.99427929841275, Best params: {'input_chunk_length': 60, 'dropout': 0.35, 'batch_size': 208, 'lr': 0.00013929636378647018, 'weight_decay': 2.784544338277865e-05, 'num_layers': 5, 'num_blocks': 3, 'num_stacks': 3, 'layer_widths': 32, 'activation': 'ReLU'}\n",
      "\n",
      "Fold 1/3\n"
     ]
    },
    {
     "name": "stderr",
     "output_type": "stream",
     "text": [
      "Metric val_loss improved. New best score: 8.106\n",
      "Monitored metric val_loss did not improve in the last 15 records. Best score: 8.106. Signaling Trainer to stop.\n",
      "GPU available: True (cuda), used: True\n",
      "TPU available: False, using: 0 TPU cores\n",
      "HPU available: False, using: 0 HPUs\n",
      "LOCAL_RANK: 0 - CUDA_VISIBLE_DEVICES: [0]\n"
     ]
    },
    {
     "name": "stdout",
     "output_type": "stream",
     "text": [
      "Model loaded from checkpoint for trial 25, fold 0\n"
     ]
    },
    {
     "name": "stderr",
     "output_type": "stream",
     "text": [
      "Exception ignored in: Exception in thread QueueFeederThread:\n",
      "Traceback (most recent call last):\n",
      "  File \"/usr/lib/python3.12/multiprocessing/queues.py\", line 259, in _feed\n",
      "<function _ConnectionBase.__del__ at 0x7f58c5b2ba60>\n",
      "Traceback (most recent call last):\n",
      "  File \"/usr/lib/python3.12/multiprocessing/connection.py\", line 133, in __del__\n",
      "    self._close()\n",
      "  File \"/usr/lib/python3.12/multiprocessing/connection.py\", line 377, in _close\n",
      "    _close(self._handle)\n",
      "OSError: [Errno 9] Bad file descriptor\n",
      "    reader_close()\n",
      "  File \"/usr/lib/python3.12/multiprocessing/connection.py\", line 178, in close\n",
      "    self._close()\n",
      "  File \"/usr/lib/python3.12/multiprocessing/connection.py\", line 377, in _close\n",
      "    _close(self._handle)\n",
      "OSError: [Errno 9] Bad file descriptor\n",
      "\n",
      "During handling of the above exception, another exception occurred:\n",
      "\n",
      "Traceback (most recent call last):\n",
      "  File \"/usr/lib/python3.12/threading.py\", line 1073, in _bootstrap_inner\n",
      "    self.run()\n",
      "  File \"/home/eduardo/Documentos/Water-Cycle-Neural-Network/venv/lib/python3.12/site-packages/ipykernel/ipkernel.py\", line 766, in run_closure\n",
      "    _threading_Thread_run(self)\n",
      "  File \"/usr/lib/python3.12/threading.py\", line 1010, in run\n",
      "    self._target(*self._args, **self._kwargs)\n",
      "  File \"/usr/lib/python3.12/multiprocessing/queues.py\", line 291, in _feed\n",
      "    queue_sem.release()\n",
      "ValueError: semaphore or lock released too many times\n",
      "GPU available: True (cuda), used: True\n",
      "TPU available: False, using: 0 TPU cores\n",
      "HPU available: False, using: 0 HPUs\n",
      "LOCAL_RANK: 0 - CUDA_VISIBLE_DEVICES: [0]\n"
     ]
    },
    {
     "name": "stdout",
     "output_type": "stream",
     "text": [
      "SMAPE fold 0: 137.5138196586076\n",
      "\n",
      "Fold 2/3\n"
     ]
    },
    {
     "name": "stderr",
     "output_type": "stream",
     "text": [
      "/home/eduardo/Documentos/Water-Cycle-Neural-Network/venv/lib/python3.12/site-packages/optuna/trial/_trial.py:497: UserWarning: The reported value is ignored because this `step` 0 is already reported.\n",
      "  warnings.warn(\n",
      "Metric val_loss improved by 7.669 >= min_delta = 0.0005. New best score: 0.437\n",
      "/home/eduardo/Documentos/Water-Cycle-Neural-Network/venv/lib/python3.12/site-packages/optuna/trial/_trial.py:497: UserWarning: The reported value is ignored because this `step` 1 is already reported.\n",
      "  warnings.warn(\n",
      "Metric val_loss improved by 0.044 >= min_delta = 0.0005. New best score: 0.393\n",
      "/home/eduardo/Documentos/Water-Cycle-Neural-Network/venv/lib/python3.12/site-packages/optuna/trial/_trial.py:497: UserWarning: The reported value is ignored because this `step` 2 is already reported.\n",
      "  warnings.warn(\n",
      "Metric val_loss improved by 0.026 >= min_delta = 0.0005. New best score: 0.366\n",
      "/home/eduardo/Documentos/Water-Cycle-Neural-Network/venv/lib/python3.12/site-packages/optuna/trial/_trial.py:497: UserWarning: The reported value is ignored because this `step` 3 is already reported.\n",
      "  warnings.warn(\n",
      "Metric val_loss improved by 0.031 >= min_delta = 0.0005. New best score: 0.335\n",
      "/home/eduardo/Documentos/Water-Cycle-Neural-Network/venv/lib/python3.12/site-packages/optuna/trial/_trial.py:497: UserWarning: The reported value is ignored because this `step` 4 is already reported.\n",
      "  warnings.warn(\n",
      "Metric val_loss improved by 0.043 >= min_delta = 0.0005. New best score: 0.292\n",
      "/home/eduardo/Documentos/Water-Cycle-Neural-Network/venv/lib/python3.12/site-packages/optuna/trial/_trial.py:497: UserWarning: The reported value is ignored because this `step` 5 is already reported.\n",
      "  warnings.warn(\n",
      "Metric val_loss improved by 0.040 >= min_delta = 0.0005. New best score: 0.252\n",
      "/home/eduardo/Documentos/Water-Cycle-Neural-Network/venv/lib/python3.12/site-packages/optuna/trial/_trial.py:497: UserWarning: The reported value is ignored because this `step` 6 is already reported.\n",
      "  warnings.warn(\n",
      "Metric val_loss improved by 0.049 >= min_delta = 0.0005. New best score: 0.203\n",
      "/home/eduardo/Documentos/Water-Cycle-Neural-Network/venv/lib/python3.12/site-packages/optuna/trial/_trial.py:497: UserWarning: The reported value is ignored because this `step` 7 is already reported.\n",
      "  warnings.warn(\n",
      "Metric val_loss improved by 0.044 >= min_delta = 0.0005. New best score: 0.159\n",
      "/home/eduardo/Documentos/Water-Cycle-Neural-Network/venv/lib/python3.12/site-packages/optuna/trial/_trial.py:497: UserWarning: The reported value is ignored because this `step` 8 is already reported.\n",
      "  warnings.warn(\n",
      "Metric val_loss improved by 0.036 >= min_delta = 0.0005. New best score: 0.122\n",
      "/home/eduardo/Documentos/Water-Cycle-Neural-Network/venv/lib/python3.12/site-packages/optuna/trial/_trial.py:497: UserWarning: The reported value is ignored because this `step` 9 is already reported.\n",
      "  warnings.warn(\n",
      "Metric val_loss improved by 0.019 >= min_delta = 0.0005. New best score: 0.103\n",
      "/home/eduardo/Documentos/Water-Cycle-Neural-Network/venv/lib/python3.12/site-packages/optuna/trial/_trial.py:497: UserWarning: The reported value is ignored because this `step` 10 is already reported.\n",
      "  warnings.warn(\n",
      "Metric val_loss improved by 0.005 >= min_delta = 0.0005. New best score: 0.098\n",
      "/home/eduardo/Documentos/Water-Cycle-Neural-Network/venv/lib/python3.12/site-packages/optuna/trial/_trial.py:497: UserWarning: The reported value is ignored because this `step` 11 is already reported.\n",
      "  warnings.warn(\n",
      "Metric val_loss improved by 0.006 >= min_delta = 0.0005. New best score: 0.092\n",
      "/home/eduardo/Documentos/Water-Cycle-Neural-Network/venv/lib/python3.12/site-packages/optuna/trial/_trial.py:497: UserWarning: The reported value is ignored because this `step` 12 is already reported.\n",
      "  warnings.warn(\n",
      "Metric val_loss improved by 0.009 >= min_delta = 0.0005. New best score: 0.083\n",
      "/home/eduardo/Documentos/Water-Cycle-Neural-Network/venv/lib/python3.12/site-packages/optuna/trial/_trial.py:497: UserWarning: The reported value is ignored because this `step` 13 is already reported.\n",
      "  warnings.warn(\n",
      "/home/eduardo/Documentos/Water-Cycle-Neural-Network/venv/lib/python3.12/site-packages/optuna/trial/_trial.py:497: UserWarning: The reported value is ignored because this `step` 14 is already reported.\n",
      "  warnings.warn(\n",
      "/home/eduardo/Documentos/Water-Cycle-Neural-Network/venv/lib/python3.12/site-packages/optuna/trial/_trial.py:497: UserWarning: The reported value is ignored because this `step` 15 is already reported.\n",
      "  warnings.warn(\n",
      "Metric val_loss improved by 0.001 >= min_delta = 0.0005. New best score: 0.082\n",
      "Metric val_loss improved by 0.004 >= min_delta = 0.0005. New best score: 0.078\n",
      "Metric val_loss improved by 0.002 >= min_delta = 0.0005. New best score: 0.075\n",
      "`Trainer.fit` stopped: `max_epochs=30` reached.\n",
      "GPU available: True (cuda), used: True\n",
      "TPU available: False, using: 0 TPU cores\n",
      "HPU available: False, using: 0 HPUs\n",
      "LOCAL_RANK: 0 - CUDA_VISIBLE_DEVICES: [0]\n"
     ]
    },
    {
     "name": "stdout",
     "output_type": "stream",
     "text": [
      "Model loaded from checkpoint for trial 25, fold 1\n"
     ]
    },
    {
     "name": "stderr",
     "output_type": "stream",
     "text": [
      "GPU available: True (cuda), used: True\n",
      "TPU available: False, using: 0 TPU cores\n",
      "HPU available: False, using: 0 HPUs\n",
      "LOCAL_RANK: 0 - CUDA_VISIBLE_DEVICES: [0]\n"
     ]
    },
    {
     "name": "stdout",
     "output_type": "stream",
     "text": [
      "SMAPE fold 1: 67.31473189903824\n",
      "\n",
      "Fold 3/3\n"
     ]
    },
    {
     "name": "stderr",
     "output_type": "stream",
     "text": [
      "/home/eduardo/Documentos/Water-Cycle-Neural-Network/venv/lib/python3.12/site-packages/optuna/trial/_trial.py:497: UserWarning: The reported value is ignored because this `step` 0 is already reported.\n",
      "  warnings.warn(\n",
      "/home/eduardo/Documentos/Water-Cycle-Neural-Network/venv/lib/python3.12/site-packages/optuna/trial/_trial.py:497: UserWarning: The reported value is ignored because this `step` 1 is already reported.\n",
      "  warnings.warn(\n",
      "/home/eduardo/Documentos/Water-Cycle-Neural-Network/venv/lib/python3.12/site-packages/optuna/trial/_trial.py:497: UserWarning: The reported value is ignored because this `step` 2 is already reported.\n",
      "  warnings.warn(\n",
      "/home/eduardo/Documentos/Water-Cycle-Neural-Network/venv/lib/python3.12/site-packages/optuna/trial/_trial.py:497: UserWarning: The reported value is ignored because this `step` 3 is already reported.\n",
      "  warnings.warn(\n",
      "/home/eduardo/Documentos/Water-Cycle-Neural-Network/venv/lib/python3.12/site-packages/optuna/trial/_trial.py:497: UserWarning: The reported value is ignored because this `step` 4 is already reported.\n",
      "  warnings.warn(\n",
      "/home/eduardo/Documentos/Water-Cycle-Neural-Network/venv/lib/python3.12/site-packages/optuna/trial/_trial.py:497: UserWarning: The reported value is ignored because this `step` 5 is already reported.\n",
      "  warnings.warn(\n",
      "/home/eduardo/Documentos/Water-Cycle-Neural-Network/venv/lib/python3.12/site-packages/optuna/trial/_trial.py:497: UserWarning: The reported value is ignored because this `step` 6 is already reported.\n",
      "  warnings.warn(\n",
      "/home/eduardo/Documentos/Water-Cycle-Neural-Network/venv/lib/python3.12/site-packages/optuna/trial/_trial.py:497: UserWarning: The reported value is ignored because this `step` 7 is already reported.\n",
      "  warnings.warn(\n",
      "Monitored metric val_loss did not improve in the last 15 records. Best score: 0.075. Signaling Trainer to stop.\n",
      "GPU available: True (cuda), used: True\n",
      "TPU available: False, using: 0 TPU cores\n",
      "HPU available: False, using: 0 HPUs\n",
      "LOCAL_RANK: 0 - CUDA_VISIBLE_DEVICES: [0]\n"
     ]
    },
    {
     "name": "stdout",
     "output_type": "stream",
     "text": [
      "Model loaded from checkpoint for trial 25, fold 2\n"
     ]
    },
    {
     "name": "stderr",
     "output_type": "stream",
     "text": [
      "[I 2025-06-10 16:23:36,670] Trial 25 finished with value: 94.55688003143257 and parameters: {'input_chunk_length': 84, 'dropout': 0.25, 'batch_size': 128, 'lr': 5.523362204549348e-05, 'weight_decay': 0.0020240753496414145, 'num_layers': 5, 'num_blocks': 2, 'num_stacks': 3, 'layer_widths': 112, 'activation': 'ReLU'}. Best is trial 12 with value: 82.99427929841275.\n",
      "GPU available: True (cuda), used: True\n",
      "TPU available: False, using: 0 TPU cores\n",
      "HPU available: False, using: 0 HPUs\n",
      "LOCAL_RANK: 0 - CUDA_VISIBLE_DEVICES: [0]\n"
     ]
    },
    {
     "name": "stdout",
     "output_type": "stream",
     "text": [
      "SMAPE fold 2: 78.8420885366519\n",
      "Média dos SMAPE nos folds: 94.55688003143257\n",
      "Results of trial 25 saved in optuna_iteration_metrics/trial_25.json\n",
      "Current value: 94.55688003143257, Current params: {'input_chunk_length': 84, 'dropout': 0.25, 'batch_size': 128, 'lr': 5.523362204549348e-05, 'weight_decay': 0.0020240753496414145, 'num_layers': 5, 'num_blocks': 2, 'num_stacks': 3, 'layer_widths': 112, 'activation': 'ReLU'}\n",
      "Best value: 82.99427929841275, Best params: {'input_chunk_length': 60, 'dropout': 0.35, 'batch_size': 208, 'lr': 0.00013929636378647018, 'weight_decay': 2.784544338277865e-05, 'num_layers': 5, 'num_blocks': 3, 'num_stacks': 3, 'layer_widths': 32, 'activation': 'ReLU'}\n",
      "\n",
      "Fold 1/3\n"
     ]
    },
    {
     "name": "stderr",
     "output_type": "stream",
     "text": [
      "[I 2025-06-10 16:23:39,075] Trial 26 pruned. Trial was pruned at epoch 0.\n",
      "GPU available: True (cuda), used: True\n",
      "TPU available: False, using: 0 TPU cores\n",
      "HPU available: False, using: 0 HPUs\n",
      "LOCAL_RANK: 0 - CUDA_VISIBLE_DEVICES: [0]\n"
     ]
    },
    {
     "name": "stdout",
     "output_type": "stream",
     "text": [
      "Current value: 12.192205298605716, Current params: {'input_chunk_length': 60, 'dropout': 0.15000000000000002, 'batch_size': 152, 'lr': 0.002245136298186475, 'weight_decay': 0.0006359596242736171, 'num_layers': 3, 'num_blocks': 5, 'num_stacks': 2, 'layer_widths': 80, 'activation': 'GELU'}\n",
      "Best value: 82.99427929841275, Best params: {'input_chunk_length': 60, 'dropout': 0.35, 'batch_size': 208, 'lr': 0.00013929636378647018, 'weight_decay': 2.784544338277865e-05, 'num_layers': 5, 'num_blocks': 3, 'num_stacks': 3, 'layer_widths': 32, 'activation': 'ReLU'}\n",
      "\n",
      "Fold 1/3\n"
     ]
    },
    {
     "name": "stderr",
     "output_type": "stream",
     "text": [
      "[I 2025-06-10 16:23:41,730] Trial 27 pruned. Trial was pruned at epoch 0.\n"
     ]
    },
    {
     "name": "stdout",
     "output_type": "stream",
     "text": [
      "Current value: 21.444806866054204, Current params: {'input_chunk_length': 108, 'dropout': 0.2, 'batch_size': 240, 'lr': 0.0007014772389910225, 'weight_decay': 4.2254144844713655e-05, 'num_layers': 2, 'num_blocks': 3, 'num_stacks': 2, 'layer_widths': 144, 'activation': 'ReLU'}\n",
      "Best value: 82.99427929841275, Best params: {'input_chunk_length': 60, 'dropout': 0.35, 'batch_size': 208, 'lr': 0.00013929636378647018, 'weight_decay': 2.784544338277865e-05, 'num_layers': 5, 'num_blocks': 3, 'num_stacks': 3, 'layer_widths': 32, 'activation': 'ReLU'}\n",
      "\n",
      "Fold 1/3\n"
     ]
    },
    {
     "name": "stderr",
     "output_type": "stream",
     "text": [
      "Exception in thread QueueFeederThread:\n",
      "Traceback (most recent call last):\n",
      "  File \"/usr/lib/python3.12/multiprocessing/queues.py\", line 259, in _feed\n",
      "Exception in thread QueueFeederThread:\n",
      "Traceback (most recent call last):\n",
      "  File \"/usr/lib/python3.12/multiprocessing/queues.py\", line 259, in _feed\n",
      "    reader_close()\n",
      "  File \"/usr/lib/python3.12/multiprocessing/connection.py\", line 178, in close\n",
      "    self._close()\n",
      "  File \"/usr/lib/python3.12/multiprocessing/connection.py\", line 377, in _close\n",
      "    reader_close()\n",
      "  File \"/usr/lib/python3.12/multiprocessing/connection.py\", line 178, in close\n",
      "    _close(self._handle)\n",
      "OSError: [Errno 9] Bad file descriptor\n",
      "\n",
      "During handling of the above exception, another exception occurred:\n",
      "\n",
      "Traceback (most recent call last):\n",
      "  File \"/usr/lib/python3.12/threading.py\", line 1073, in _bootstrap_inner\n",
      "    self.run()\n",
      "  File \"/home/eduardo/Documentos/Water-Cycle-Neural-Network/venv/lib/python3.12/site-packages/ipykernel/ipkernel.py\", line 766, in run_closure\n",
      "    self._close()\n",
      "  File \"/usr/lib/python3.12/multiprocessing/connection.py\", line 377, in _close\n",
      "    _threading_Thread_run(self)\n",
      "  File \"/usr/lib/python3.12/threading.py\", line 1010, in run\n",
      "    _close(self._handle)\n",
      "OSError: [Errno 9] Bad file descriptor\n",
      "\n",
      "During handling of the above exception, another exception occurred:\n",
      "\n",
      "Traceback (most recent call last):\n",
      "  File \"/usr/lib/python3.12/threading.py\", line 1073, in _bootstrap_inner\n",
      "    self._target(*self._args, **self._kwargs)\n",
      "  File \"/usr/lib/python3.12/multiprocessing/queues.py\", line 291, in _feed\n",
      "    queue_sem.release()\n",
      "ValueError: semaphore or lock released too many times\n",
      "    self.run()\n",
      "  File \"/home/eduardo/Documentos/Water-Cycle-Neural-Network/venv/lib/python3.12/site-packages/ipykernel/ipkernel.py\", line 766, in run_closure\n",
      "    _threading_Thread_run(self)\n",
      "  File \"/usr/lib/python3.12/threading.py\", line 1010, in run\n",
      "    self._target(*self._args, **self._kwargs)\n",
      "  File \"/usr/lib/python3.12/multiprocessing/queues.py\", line 291, in _feed\n",
      "    queue_sem.release()\n",
      "ValueError: semaphore or lock released too many times\n",
      "GPU available: True (cuda), used: True\n",
      "TPU available: False, using: 0 TPU cores\n",
      "HPU available: False, using: 0 HPUs\n",
      "LOCAL_RANK: 0 - CUDA_VISIBLE_DEVICES: [0]\n",
      "[I 2025-06-10 16:24:29,690] Trial 28 pruned. Trial was pruned at epoch 0.\n",
      "GPU available: True (cuda), used: True\n",
      "TPU available: False, using: 0 TPU cores\n",
      "HPU available: False, using: 0 HPUs\n",
      "LOCAL_RANK: 0 - CUDA_VISIBLE_DEVICES: [0]\n"
     ]
    },
    {
     "name": "stdout",
     "output_type": "stream",
     "text": [
      "Current value: 10.71630298736993, Current params: {'input_chunk_length': 48, 'dropout': 0.35, 'batch_size': 208, 'lr': 0.0019821570275773684, 'weight_decay': 1.4689480491299229e-05, 'num_layers': 4, 'num_blocks': 4, 'num_stacks': 3, 'layer_widths': 32, 'activation': 'ReLU'}\n",
      "Best value: 82.99427929841275, Best params: {'input_chunk_length': 60, 'dropout': 0.35, 'batch_size': 208, 'lr': 0.00013929636378647018, 'weight_decay': 2.784544338277865e-05, 'num_layers': 5, 'num_blocks': 3, 'num_stacks': 3, 'layer_widths': 32, 'activation': 'ReLU'}\n",
      "\n",
      "Fold 1/3\n"
     ]
    },
    {
     "name": "stderr",
     "output_type": "stream",
     "text": [
      "[I 2025-06-10 16:24:32,626] Trial 29 pruned. Trial was pruned at epoch 0.\n",
      "GPU available: True (cuda), used: True\n",
      "TPU available: False, using: 0 TPU cores\n",
      "HPU available: False, using: 0 HPUs\n",
      "LOCAL_RANK: 0 - CUDA_VISIBLE_DEVICES: [0]\n"
     ]
    },
    {
     "name": "stdout",
     "output_type": "stream",
     "text": [
      "Current value: 8.767251516645556, Current params: {'input_chunk_length': 132, 'dropout': 0.4, 'batch_size': 88, 'lr': 0.0002398475447226652, 'weight_decay': 0.005968607059502931, 'num_layers': 4, 'num_blocks': 3, 'num_stacks': 2, 'layer_widths': 48, 'activation': 'GELU'}\n",
      "Best value: 82.99427929841275, Best params: {'input_chunk_length': 60, 'dropout': 0.35, 'batch_size': 208, 'lr': 0.00013929636378647018, 'weight_decay': 2.784544338277865e-05, 'num_layers': 5, 'num_blocks': 3, 'num_stacks': 3, 'layer_widths': 32, 'activation': 'ReLU'}\n",
      "\n",
      "Fold 1/3\n"
     ]
    },
    {
     "name": "stderr",
     "output_type": "stream",
     "text": [
      "Metric val_loss improved. New best score: 8.091\n",
      "Metric val_loss improved by 0.020 >= min_delta = 0.0005. New best score: 8.071\n",
      "Monitored metric val_loss did not improve in the last 15 records. Best score: 8.071. Signaling Trainer to stop.\n",
      "GPU available: True (cuda), used: True\n",
      "TPU available: False, using: 0 TPU cores\n",
      "HPU available: False, using: 0 HPUs\n",
      "LOCAL_RANK: 0 - CUDA_VISIBLE_DEVICES: [0]\n"
     ]
    },
    {
     "name": "stdout",
     "output_type": "stream",
     "text": [
      "Model loaded from checkpoint for trial 30, fold 0\n"
     ]
    },
    {
     "name": "stderr",
     "output_type": "stream",
     "text": [
      "GPU available: True (cuda), used: True\n",
      "TPU available: False, using: 0 TPU cores\n",
      "HPU available: False, using: 0 HPUs\n",
      "LOCAL_RANK: 0 - CUDA_VISIBLE_DEVICES: [0]\n"
     ]
    },
    {
     "name": "stdout",
     "output_type": "stream",
     "text": [
      "SMAPE fold 0: 141.28683789203149\n",
      "\n",
      "Fold 2/3\n"
     ]
    },
    {
     "name": "stderr",
     "output_type": "stream",
     "text": [
      "Exception ignored in: <function _MultiProcessingDataLoaderIter.__del__ at 0x7f57f711b4c0>\n",
      "Traceback (most recent call last):\n",
      "  File \"/home/eduardo/Documentos/Water-Cycle-Neural-Network/venv/lib/python3.12/site-packages/torch/utils/data/dataloader.py\", line 1663, in __del__\n",
      "    self._shutdown_workers()\n",
      "  File \"/home/eduardo/Documentos/Water-Cycle-Neural-Network/venv/lib/python3.12/site-packages/torch/utils/data/dataloader.py\", line 1646, in _shutdown_workers\n",
      "    Exception ignored in: if w.is_alive():<function _MultiProcessingDataLoaderIter.__del__ at 0x7f57f711b4c0>\n",
      "\n",
      "Traceback (most recent call last):\n",
      "    File \"/home/eduardo/Documentos/Water-Cycle-Neural-Network/venv/lib/python3.12/site-packages/torch/utils/data/dataloader.py\", line 1663, in __del__\n",
      "     self._shutdown_workers() \n",
      "   File \"/home/eduardo/Documentos/Water-Cycle-Neural-Network/venv/lib/python3.12/site-packages/torch/utils/data/dataloader.py\", line 1646, in _shutdown_workers\n",
      "  ^    ^if w.is_alive():^\n",
      " ^^ ^^ ^ ^ ^ ^^ \n",
      "^  File \"/usr/lib/python3.12/multiprocessing/process.py\", line 160, in is_alive\n",
      "^^    ^assert self._parent_pid == os.getpid(), 'can only test a child process'^^\n",
      "^ ^ ^^ ^ ^ \n",
      "   File \"/usr/lib/python3.12/multiprocessing/process.py\", line 160, in is_alive\n",
      "      assert self._parent_pid == os.getpid(), 'can only test a child process' \n",
      "    ^ ^ ^  ^ ^ ^^ ^  ^^^^^^^^^^^^^^^^^^^^^^^^^^^^^^^^^^^^^^^^^^^^^^\n",
      "^AssertionError^: ^can only test a child process^\n",
      "^Exception ignored in: ^^^<function _MultiProcessingDataLoaderIter.__del__ at 0x7f57f711b4c0>\n",
      "\n",
      "AssertionErrorTraceback (most recent call last):\n",
      "  File \"/home/eduardo/Documentos/Water-Cycle-Neural-Network/venv/lib/python3.12/site-packages/torch/utils/data/dataloader.py\", line 1663, in __del__\n",
      "    : can only test a child processself._shutdown_workers()\n",
      "\n",
      "  File \"/home/eduardo/Documentos/Water-Cycle-Neural-Network/venv/lib/python3.12/site-packages/torch/utils/data/dataloader.py\", line 1646, in _shutdown_workers\n",
      "    Exception ignored in: if w.is_alive():<function _MultiProcessingDataLoaderIter.__del__ at 0x7f57f711b4c0>\n",
      "\n",
      "  Traceback (most recent call last):\n",
      "  File \"/home/eduardo/Documentos/Water-Cycle-Neural-Network/venv/lib/python3.12/site-packages/torch/utils/data/dataloader.py\", line 1663, in __del__\n",
      "       self._shutdown_workers() \n",
      " ^  File \"/home/eduardo/Documentos/Water-Cycle-Neural-Network/venv/lib/python3.12/site-packages/torch/utils/data/dataloader.py\", line 1646, in _shutdown_workers\n",
      "^^    if w.is_alive():^\n",
      "^ ^  ^ ^^ ^ ^ ^^^\n",
      "  File \"/usr/lib/python3.12/multiprocessing/process.py\", line 160, in is_alive\n",
      "^^    ^assert self._parent_pid == os.getpid(), 'can only test a child process'^^\n",
      "^ ^ ^ ^ ^ \n",
      "   File \"/usr/lib/python3.12/multiprocessing/process.py\", line 160, in is_alive\n",
      "     assert self._parent_pid == os.getpid(), 'can only test a child process' \n",
      "      ^ ^ ^ ^  ^  ^ ^^^^^^^^^^^^^^^^^^^^^^^^^^^^^^^^^^^^^^^^^^^^^^^^^^^^^\n",
      "^^AssertionError: ^can only test a child process\n",
      "AssertionError\n",
      ": can only test a child process\n",
      "Exception ignored in: <function _MultiProcessingDataLoaderIter.__del__ at 0x7f57f711b4c0>\n",
      "Traceback (most recent call last):\n",
      "Exception ignored in:   File \"/home/eduardo/Documentos/Water-Cycle-Neural-Network/venv/lib/python3.12/site-packages/torch/utils/data/dataloader.py\", line 1663, in __del__\n",
      "<function _MultiProcessingDataLoaderIter.__del__ at 0x7f57f711b4c0>    self._shutdown_workers()\n",
      "Traceback (most recent call last):\n",
      "  File \"/home/eduardo/Documentos/Water-Cycle-Neural-Network/venv/lib/python3.12/site-packages/torch/utils/data/dataloader.py\", line 1663, in __del__\n",
      "\n",
      "      File \"/home/eduardo/Documentos/Water-Cycle-Neural-Network/venv/lib/python3.12/site-packages/torch/utils/data/dataloader.py\", line 1646, in _shutdown_workers\n",
      "    self._shutdown_workers()if w.is_alive():\n",
      "  File \"/home/eduardo/Documentos/Water-Cycle-Neural-Network/venv/lib/python3.12/site-packages/torch/utils/data/dataloader.py\", line 1646, in _shutdown_workers\n",
      "\n",
      "      if w.is_alive():\n",
      "           ^ ^^^^^^^^^^^^^^^^^^^\n",
      "^  File \"/usr/lib/python3.12/multiprocessing/process.py\", line 160, in is_alive\n",
      "^^    ^assert self._parent_pid == os.getpid(), 'can only test a child process'\n",
      "  File \"/usr/lib/python3.12/multiprocessing/process.py\", line 160, in is_alive\n",
      "\n",
      "      assert self._parent_pid == os.getpid(), 'can only test a child process'\n",
      "                   ^ ^^^Traceback (most recent call last):\n",
      "  File \"/usr/lib/python3.12/multiprocessing/queues.py\", line 259, in _feed\n",
      "    reader_close()\n",
      "  File \"/usr/lib/python3.12/multiprocessing/connection.py\", line 178, in close\n",
      "    self._close()\n",
      "  File \"/usr/lib/python3.12/multiprocessing/connection.py\", line 377, in _close\n",
      "    _close(self._handle)\n",
      "OSError: [Errno 9] Bad file descriptor\n",
      "^^^^^^^^^^^^^^^^^^^^^^^^^^^^^^^^^^^^^^^^^^^^^^^^^^^^^^^^^\n",
      "^AssertionError\n",
      ": AssertionErrorcan only test a child process\n",
      ": can only test a child process\n",
      "Traceback (most recent call last):\n",
      "  File \"/usr/lib/python3.12/multiprocessing/queues.py\", line 259, in _feed\n",
      "    reader_close()\n",
      "Exception in thread QueueFeederThread  File \"/usr/lib/python3.12/multiprocessing/connection.py\", line 178, in close\n",
      "    self._close()\n",
      "  File \"/usr/lib/python3.12/multiprocessing/connection.py\", line 377, in _close\n",
      "    _close(self._handle)\n",
      ":\n",
      "Traceback (most recent call last):\n",
      "OSError: [Errno 9] Bad file descriptor\n",
      "  File \"/usr/lib/python3.12/multiprocessing/queues.py\", line 259, in _feed\n",
      "    reader_close()\n",
      "  File \"/usr/lib/python3.12/multiprocessing/connection.py\", line 178, in close\n",
      "    self._close()\n",
      "  File \"/usr/lib/python3.12/multiprocessing/connection.py\", line 377, in _close\n",
      "    _close(self._handle)\n",
      "OSError: [Errno 9] Bad file descriptor\n",
      "\n",
      "During handling of the above exception, another exception occurred:\n",
      "\n",
      "Traceback (most recent call last):\n",
      "  File \"/usr/lib/python3.12/threading.py\", line 1073, in _bootstrap_inner\n",
      "    self.run()\n",
      "  File \"/home/eduardo/Documentos/Water-Cycle-Neural-Network/venv/lib/python3.12/site-packages/ipykernel/ipkernel.py\", line 766, in run_closure\n",
      "    _threading_Thread_run(self)\n",
      "  File \"/usr/lib/python3.12/threading.py\", line 1010, in run\n",
      "    self._target(*self._args, **self._kwargs)\n",
      "  File \"/usr/lib/python3.12/multiprocessing/queues.py\", line 291, in _feed\n",
      "    queue_sem.release()\n",
      "ValueError: semaphore or lock released too many times\n",
      "/home/eduardo/Documentos/Water-Cycle-Neural-Network/venv/lib/python3.12/site-packages/optuna/trial/_trial.py:497: UserWarning: The reported value is ignored because this `step` 0 is already reported.\n",
      "  warnings.warn(\n",
      "Metric val_loss improved by 7.609 >= min_delta = 0.0005. New best score: 0.461\n",
      "/home/eduardo/Documentos/Water-Cycle-Neural-Network/venv/lib/python3.12/site-packages/optuna/trial/_trial.py:497: UserWarning: The reported value is ignored because this `step` 1 is already reported.\n",
      "  warnings.warn(\n",
      "Metric val_loss improved by 0.017 >= min_delta = 0.0005. New best score: 0.444\n",
      "/home/eduardo/Documentos/Water-Cycle-Neural-Network/venv/lib/python3.12/site-packages/optuna/trial/_trial.py:497: UserWarning: The reported value is ignored because this `step` 2 is already reported.\n",
      "  warnings.warn(\n",
      "Metric val_loss improved by 0.026 >= min_delta = 0.0005. New best score: 0.418\n",
      "/home/eduardo/Documentos/Water-Cycle-Neural-Network/venv/lib/python3.12/site-packages/optuna/trial/_trial.py:497: UserWarning: The reported value is ignored because this `step` 3 is already reported.\n",
      "  warnings.warn(\n",
      "Metric val_loss improved by 0.026 >= min_delta = 0.0005. New best score: 0.392\n",
      "/home/eduardo/Documentos/Water-Cycle-Neural-Network/venv/lib/python3.12/site-packages/optuna/trial/_trial.py:497: UserWarning: The reported value is ignored because this `step` 4 is already reported.\n",
      "  warnings.warn(\n",
      "Metric val_loss improved by 0.005 >= min_delta = 0.0005. New best score: 0.387\n",
      "/home/eduardo/Documentos/Water-Cycle-Neural-Network/venv/lib/python3.12/site-packages/optuna/trial/_trial.py:497: UserWarning: The reported value is ignored because this `step` 5 is already reported.\n",
      "  warnings.warn(\n",
      "Metric val_loss improved by 0.001 >= min_delta = 0.0005. New best score: 0.386\n",
      "/home/eduardo/Documentos/Water-Cycle-Neural-Network/venv/lib/python3.12/site-packages/optuna/trial/_trial.py:497: UserWarning: The reported value is ignored because this `step` 6 is already reported.\n",
      "  warnings.warn(\n",
      "/home/eduardo/Documentos/Water-Cycle-Neural-Network/venv/lib/python3.12/site-packages/optuna/trial/_trial.py:497: UserWarning: The reported value is ignored because this `step` 7 is already reported.\n",
      "  warnings.warn(\n",
      "/home/eduardo/Documentos/Water-Cycle-Neural-Network/venv/lib/python3.12/site-packages/optuna/trial/_trial.py:497: UserWarning: The reported value is ignored because this `step` 8 is already reported.\n",
      "  warnings.warn(\n",
      "/home/eduardo/Documentos/Water-Cycle-Neural-Network/venv/lib/python3.12/site-packages/optuna/trial/_trial.py:497: UserWarning: The reported value is ignored because this `step` 9 is already reported.\n",
      "  warnings.warn(\n",
      "/home/eduardo/Documentos/Water-Cycle-Neural-Network/venv/lib/python3.12/site-packages/optuna/trial/_trial.py:497: UserWarning: The reported value is ignored because this `step` 10 is already reported.\n",
      "  warnings.warn(\n",
      "/home/eduardo/Documentos/Water-Cycle-Neural-Network/venv/lib/python3.12/site-packages/optuna/trial/_trial.py:497: UserWarning: The reported value is ignored because this `step` 11 is already reported.\n",
      "  warnings.warn(\n",
      "Metric val_loss improved by 0.001 >= min_delta = 0.0005. New best score: 0.385\n",
      "/home/eduardo/Documentos/Water-Cycle-Neural-Network/venv/lib/python3.12/site-packages/optuna/trial/_trial.py:497: UserWarning: The reported value is ignored because this `step` 12 is already reported.\n",
      "  warnings.warn(\n",
      "/home/eduardo/Documentos/Water-Cycle-Neural-Network/venv/lib/python3.12/site-packages/optuna/trial/_trial.py:497: UserWarning: The reported value is ignored because this `step` 13 is already reported.\n",
      "  warnings.warn(\n",
      "/home/eduardo/Documentos/Water-Cycle-Neural-Network/venv/lib/python3.12/site-packages/optuna/trial/_trial.py:497: UserWarning: The reported value is ignored because this `step` 14 is already reported.\n",
      "  warnings.warn(\n",
      "/home/eduardo/Documentos/Water-Cycle-Neural-Network/venv/lib/python3.12/site-packages/optuna/trial/_trial.py:497: UserWarning: The reported value is ignored because this `step` 15 is already reported.\n",
      "  warnings.warn(\n",
      "/home/eduardo/Documentos/Water-Cycle-Neural-Network/venv/lib/python3.12/site-packages/optuna/trial/_trial.py:497: UserWarning: The reported value is ignored because this `step` 16 is already reported.\n",
      "  warnings.warn(\n",
      "[I 2025-06-10 16:25:28,114] Trial 30 pruned. Trial was pruned at epoch 17.\n",
      "GPU available: True (cuda), used: True\n",
      "TPU available: False, using: 0 TPU cores\n",
      "HPU available: False, using: 0 HPUs\n",
      "LOCAL_RANK: 0 - CUDA_VISIBLE_DEVICES: [0]\n"
     ]
    },
    {
     "name": "stdout",
     "output_type": "stream",
     "text": [
      "Current value: 0.385395744345377, Current params: {'input_chunk_length': 96, 'dropout': 0.25, 'batch_size': 192, 'lr': 8.787096149571609e-05, 'weight_decay': 0.0013540375383930376, 'num_layers': 5, 'num_blocks': 1, 'num_stacks': 1, 'layer_widths': 96, 'activation': 'ReLU'}\n",
      "Best value: 82.99427929841275, Best params: {'input_chunk_length': 60, 'dropout': 0.35, 'batch_size': 208, 'lr': 0.00013929636378647018, 'weight_decay': 2.784544338277865e-05, 'num_layers': 5, 'num_blocks': 3, 'num_stacks': 3, 'layer_widths': 32, 'activation': 'ReLU'}\n",
      "\n",
      "Fold 1/3\n"
     ]
    },
    {
     "name": "stderr",
     "output_type": "stream",
     "text": [
      "Metric val_loss improved. New best score: 8.185\n",
      "Metric val_loss improved by 0.015 >= min_delta = 0.0005. New best score: 8.170\n",
      "Metric val_loss improved by 0.009 >= min_delta = 0.0005. New best score: 8.161\n",
      "Metric val_loss improved by 0.005 >= min_delta = 0.0005. New best score: 8.156\n",
      "Metric val_loss improved by 0.001 >= min_delta = 0.0005. New best score: 8.155\n",
      "[I 2025-06-10 16:25:56,594] Trial 31 pruned. Trial was pruned at epoch 17.\n",
      "GPU available: True (cuda), used: True\n",
      "TPU available: False, using: 0 TPU cores\n",
      "HPU available: False, using: 0 HPUs\n",
      "LOCAL_RANK: 0 - CUDA_VISIBLE_DEVICES: [0]\n"
     ]
    },
    {
     "name": "stdout",
     "output_type": "stream",
     "text": [
      "Current value: 8.316521805233865, Current params: {'input_chunk_length': 36, 'dropout': 0.45000000000000007, 'batch_size': 192, 'lr': 2.0870041124964387e-05, 'weight_decay': 1.0245067770345537e-06, 'num_layers': 5, 'num_blocks': 4, 'num_stacks': 3, 'layer_widths': 32, 'activation': 'ReLU'}\n",
      "Best value: 82.99427929841275, Best params: {'input_chunk_length': 60, 'dropout': 0.35, 'batch_size': 208, 'lr': 0.00013929636378647018, 'weight_decay': 2.784544338277865e-05, 'num_layers': 5, 'num_blocks': 3, 'num_stacks': 3, 'layer_widths': 32, 'activation': 'ReLU'}\n",
      "\n",
      "Fold 1/3\n"
     ]
    },
    {
     "name": "stderr",
     "output_type": "stream",
     "text": [
      "Metric val_loss improved. New best score: 8.148\n",
      "Metric val_loss improved by 0.009 >= min_delta = 0.0005. New best score: 8.139\n",
      "Monitored metric val_loss did not improve in the last 15 records. Best score: 8.139. Signaling Trainer to stop.\n",
      "GPU available: True (cuda), used: True\n",
      "TPU available: False, using: 0 TPU cores\n",
      "HPU available: False, using: 0 HPUs\n",
      "LOCAL_RANK: 0 - CUDA_VISIBLE_DEVICES: [0]\n"
     ]
    },
    {
     "name": "stdout",
     "output_type": "stream",
     "text": [
      "Model loaded from checkpoint for trial 32, fold 0\n"
     ]
    },
    {
     "name": "stderr",
     "output_type": "stream",
     "text": [
      "GPU available: True (cuda), used: True\n",
      "TPU available: False, using: 0 TPU cores\n",
      "HPU available: False, using: 0 HPUs\n",
      "LOCAL_RANK: 0 - CUDA_VISIBLE_DEVICES: [0]\n"
     ]
    },
    {
     "name": "stdout",
     "output_type": "stream",
     "text": [
      "SMAPE fold 0: 119.33422795803611\n",
      "\n",
      "Fold 2/3\n"
     ]
    },
    {
     "name": "stderr",
     "output_type": "stream",
     "text": [
      "/home/eduardo/Documentos/Water-Cycle-Neural-Network/venv/lib/python3.12/site-packages/optuna/trial/_trial.py:497: UserWarning: The reported value is ignored because this `step` 0 is already reported.\n",
      "  warnings.warn(\n",
      "Metric val_loss improved by 7.676 >= min_delta = 0.0005. New best score: 0.464\n",
      "/home/eduardo/Documentos/Water-Cycle-Neural-Network/venv/lib/python3.12/site-packages/optuna/trial/_trial.py:497: UserWarning: The reported value is ignored because this `step` 1 is already reported.\n",
      "  warnings.warn(\n",
      "Metric val_loss improved by 0.051 >= min_delta = 0.0005. New best score: 0.413\n",
      "/home/eduardo/Documentos/Water-Cycle-Neural-Network/venv/lib/python3.12/site-packages/optuna/trial/_trial.py:497: UserWarning: The reported value is ignored because this `step` 2 is already reported.\n",
      "  warnings.warn(\n",
      "Metric val_loss improved by 0.040 >= min_delta = 0.0005. New best score: 0.373\n",
      "/home/eduardo/Documentos/Water-Cycle-Neural-Network/venv/lib/python3.12/site-packages/optuna/trial/_trial.py:497: UserWarning: The reported value is ignored because this `step` 3 is already reported.\n",
      "  warnings.warn(\n",
      "Metric val_loss improved by 0.027 >= min_delta = 0.0005. New best score: 0.346\n",
      "/home/eduardo/Documentos/Water-Cycle-Neural-Network/venv/lib/python3.12/site-packages/optuna/trial/_trial.py:497: UserWarning: The reported value is ignored because this `step` 4 is already reported.\n",
      "  warnings.warn(\n",
      "Metric val_loss improved by 0.028 >= min_delta = 0.0005. New best score: 0.318\n",
      "/home/eduardo/Documentos/Water-Cycle-Neural-Network/venv/lib/python3.12/site-packages/optuna/trial/_trial.py:497: UserWarning: The reported value is ignored because this `step` 5 is already reported.\n",
      "  warnings.warn(\n",
      "Metric val_loss improved by 0.026 >= min_delta = 0.0005. New best score: 0.292\n",
      "/home/eduardo/Documentos/Water-Cycle-Neural-Network/venv/lib/python3.12/site-packages/optuna/trial/_trial.py:497: UserWarning: The reported value is ignored because this `step` 6 is already reported.\n",
      "  warnings.warn(\n",
      "Metric val_loss improved by 0.023 >= min_delta = 0.0005. New best score: 0.269\n",
      "/home/eduardo/Documentos/Water-Cycle-Neural-Network/venv/lib/python3.12/site-packages/optuna/trial/_trial.py:497: UserWarning: The reported value is ignored because this `step` 7 is already reported.\n",
      "  warnings.warn(\n",
      "Metric val_loss improved by 0.019 >= min_delta = 0.0005. New best score: 0.249\n",
      "/home/eduardo/Documentos/Water-Cycle-Neural-Network/venv/lib/python3.12/site-packages/optuna/trial/_trial.py:497: UserWarning: The reported value is ignored because this `step` 8 is already reported.\n",
      "  warnings.warn(\n",
      "Metric val_loss improved by 0.019 >= min_delta = 0.0005. New best score: 0.230\n",
      "/home/eduardo/Documentos/Water-Cycle-Neural-Network/venv/lib/python3.12/site-packages/optuna/trial/_trial.py:497: UserWarning: The reported value is ignored because this `step` 9 is already reported.\n",
      "  warnings.warn(\n",
      "Metric val_loss improved by 0.026 >= min_delta = 0.0005. New best score: 0.204\n",
      "/home/eduardo/Documentos/Water-Cycle-Neural-Network/venv/lib/python3.12/site-packages/optuna/trial/_trial.py:497: UserWarning: The reported value is ignored because this `step` 10 is already reported.\n",
      "  warnings.warn(\n",
      "Metric val_loss improved by 0.007 >= min_delta = 0.0005. New best score: 0.197\n",
      "/home/eduardo/Documentos/Water-Cycle-Neural-Network/venv/lib/python3.12/site-packages/optuna/trial/_trial.py:497: UserWarning: The reported value is ignored because this `step` 11 is already reported.\n",
      "  warnings.warn(\n",
      "Metric val_loss improved by 0.014 >= min_delta = 0.0005. New best score: 0.183\n",
      "/home/eduardo/Documentos/Water-Cycle-Neural-Network/venv/lib/python3.12/site-packages/optuna/trial/_trial.py:497: UserWarning: The reported value is ignored because this `step` 12 is already reported.\n",
      "  warnings.warn(\n",
      "Metric val_loss improved by 0.007 >= min_delta = 0.0005. New best score: 0.176\n",
      "/home/eduardo/Documentos/Water-Cycle-Neural-Network/venv/lib/python3.12/site-packages/optuna/trial/_trial.py:497: UserWarning: The reported value is ignored because this `step` 13 is already reported.\n",
      "  warnings.warn(\n",
      "Metric val_loss improved by 0.012 >= min_delta = 0.0005. New best score: 0.164\n",
      "/home/eduardo/Documentos/Water-Cycle-Neural-Network/venv/lib/python3.12/site-packages/optuna/trial/_trial.py:497: UserWarning: The reported value is ignored because this `step` 14 is already reported.\n",
      "  warnings.warn(\n",
      "/home/eduardo/Documentos/Water-Cycle-Neural-Network/venv/lib/python3.12/site-packages/optuna/trial/_trial.py:497: UserWarning: The reported value is ignored because this `step` 15 is already reported.\n",
      "  warnings.warn(\n",
      "Metric val_loss improved by 0.011 >= min_delta = 0.0005. New best score: 0.154\n",
      "/home/eduardo/Documentos/Water-Cycle-Neural-Network/venv/lib/python3.12/site-packages/optuna/trial/_trial.py:497: UserWarning: The reported value is ignored because this `step` 16 is already reported.\n",
      "  warnings.warn(\n",
      "Metric val_loss improved by 0.014 >= min_delta = 0.0005. New best score: 0.139\n",
      "[I 2025-06-10 16:28:53,482] Trial 32 pruned. Trial was pruned at epoch 17.\n",
      "GPU available: True (cuda), used: True\n",
      "TPU available: False, using: 0 TPU cores\n",
      "HPU available: False, using: 0 HPUs\n",
      "LOCAL_RANK: 0 - CUDA_VISIBLE_DEVICES: [0]\n"
     ]
    },
    {
     "name": "stdout",
     "output_type": "stream",
     "text": [
      "Current value: 0.13442437513095085, Current params: {'input_chunk_length': 48, 'dropout': 0.45000000000000007, 'batch_size': 224, 'lr': 0.00011237196072890786, 'weight_decay': 1.1004194204071695e-05, 'num_layers': 5, 'num_blocks': 5, 'num_stacks': 3, 'layer_widths': 56, 'activation': 'ReLU'}\n",
      "Best value: 82.99427929841275, Best params: {'input_chunk_length': 60, 'dropout': 0.35, 'batch_size': 208, 'lr': 0.00013929636378647018, 'weight_decay': 2.784544338277865e-05, 'num_layers': 5, 'num_blocks': 3, 'num_stacks': 3, 'layer_widths': 32, 'activation': 'ReLU'}\n",
      "\n",
      "Fold 1/3\n"
     ]
    },
    {
     "name": "stderr",
     "output_type": "stream",
     "text": [
      "Metric val_loss improved. New best score: 8.344\n",
      "Metric val_loss improved by 0.117 >= min_delta = 0.0005. New best score: 8.227\n",
      "Metric val_loss improved by 0.072 >= min_delta = 0.0005. New best score: 8.155\n",
      "Metric val_loss improved by 0.036 >= min_delta = 0.0005. New best score: 8.119\n",
      "Metric val_loss improved by 0.008 >= min_delta = 0.0005. New best score: 8.111\n",
      "[I 2025-06-10 16:29:24,402] Trial 33 pruned. Trial was pruned at epoch 17.\n",
      "GPU available: True (cuda), used: True\n",
      "TPU available: False, using: 0 TPU cores\n",
      "HPU available: False, using: 0 HPUs\n",
      "LOCAL_RANK: 0 - CUDA_VISIBLE_DEVICES: [0]\n"
     ]
    },
    {
     "name": "stdout",
     "output_type": "stream",
     "text": [
      "Current value: 8.838583521614444, Current params: {'input_chunk_length': 24, 'dropout': 0.4, 'batch_size': 176, 'lr': 3.947870389719373e-05, 'weight_decay': 2.9731660888921023e-06, 'num_layers': 5, 'num_blocks': 4, 'num_stacks': 4, 'layer_widths': 40, 'activation': 'ReLU'}\n",
      "Best value: 82.99427929841275, Best params: {'input_chunk_length': 60, 'dropout': 0.35, 'batch_size': 208, 'lr': 0.00013929636378647018, 'weight_decay': 2.784544338277865e-05, 'num_layers': 5, 'num_blocks': 3, 'num_stacks': 3, 'layer_widths': 32, 'activation': 'ReLU'}\n",
      "\n",
      "Fold 1/3\n"
     ]
    },
    {
     "name": "stderr",
     "output_type": "stream",
     "text": [
      "[I 2025-06-10 16:29:26,842] Trial 34 pruned. Trial was pruned at epoch 0.\n",
      "GPU available: True (cuda), used: True\n",
      "TPU available: False, using: 0 TPU cores\n",
      "HPU available: False, using: 0 HPUs\n",
      "LOCAL_RANK: 0 - CUDA_VISIBLE_DEVICES: [0]\n"
     ]
    },
    {
     "name": "stdout",
     "output_type": "stream",
     "text": [
      "Current value: 14.276484496592913, Current params: {'input_chunk_length': 72, 'dropout': 0.30000000000000004, 'batch_size': 256, 'lr': 0.0009658300973304305, 'weight_decay': 6.387545869330736e-06, 'num_layers': 5, 'num_blocks': 5, 'num_stacks': 2, 'layer_widths': 64, 'activation': 'ReLU'}\n",
      "Best value: 82.99427929841275, Best params: {'input_chunk_length': 60, 'dropout': 0.35, 'batch_size': 208, 'lr': 0.00013929636378647018, 'weight_decay': 2.784544338277865e-05, 'num_layers': 5, 'num_blocks': 3, 'num_stacks': 3, 'layer_widths': 32, 'activation': 'ReLU'}\n",
      "\n",
      "Fold 1/3\n"
     ]
    },
    {
     "name": "stderr",
     "output_type": "stream",
     "text": [
      "[I 2025-06-10 16:29:29,530] Trial 35 pruned. Trial was pruned at epoch 0.\n",
      "GPU available: True (cuda), used: True\n",
      "TPU available: False, using: 0 TPU cores\n",
      "HPU available: False, using: 0 HPUs\n",
      "LOCAL_RANK: 0 - CUDA_VISIBLE_DEVICES: [0]\n"
     ]
    },
    {
     "name": "stdout",
     "output_type": "stream",
     "text": [
      "Current value: 10.125972347551855, Current params: {'input_chunk_length': 168, 'dropout': 0.35, 'batch_size': 232, 'lr': 0.00022769328243333982, 'weight_decay': 3.48387054286851e-06, 'num_layers': 4, 'num_blocks': 4, 'num_stacks': 3, 'layer_widths': 48, 'activation': 'ReLU'}\n",
      "Best value: 82.99427929841275, Best params: {'input_chunk_length': 60, 'dropout': 0.35, 'batch_size': 208, 'lr': 0.00013929636378647018, 'weight_decay': 2.784544338277865e-05, 'num_layers': 5, 'num_blocks': 3, 'num_stacks': 3, 'layer_widths': 32, 'activation': 'ReLU'}\n",
      "\n",
      "Fold 1/3\n"
     ]
    },
    {
     "name": "stderr",
     "output_type": "stream",
     "text": [
      "Metric val_loss improved. New best score: 8.134\n",
      "Metric val_loss improved by 0.076 >= min_delta = 0.0005. New best score: 8.058\n",
      "Monitored metric val_loss did not improve in the last 15 records. Best score: 8.058. Signaling Trainer to stop.\n",
      "GPU available: True (cuda), used: True\n",
      "TPU available: False, using: 0 TPU cores\n",
      "HPU available: False, using: 0 HPUs\n",
      "LOCAL_RANK: 0 - CUDA_VISIBLE_DEVICES: [0]\n"
     ]
    },
    {
     "name": "stdout",
     "output_type": "stream",
     "text": [
      "Model loaded from checkpoint for trial 36, fold 0\n"
     ]
    },
    {
     "name": "stderr",
     "output_type": "stream",
     "text": [
      "Exception in thread Exception in thread QueueFeederThread:\n",
      "Traceback (most recent call last):\n",
      "  File \"/usr/lib/python3.12/multiprocessing/queues.py\", line 259, in _feed\n",
      "QueueFeederThread:\n",
      "Traceback (most recent call last):\n",
      "  File \"/usr/lib/python3.12/multiprocessing/queues.py\", line 259, in _feed\n",
      "Exception in thread QueueFeederThread:\n",
      "Traceback (most recent call last):\n",
      "  File \"/usr/lib/python3.12/multiprocessing/queues.py\", line 259, in _feed\n",
      "    reader_close()\n",
      "  File \"/usr/lib/python3.12/multiprocessing/connection.py\", line 178, in close\n",
      "    reader_close()\n",
      "  File \"/usr/lib/python3.12/multiprocessing/connection.py\", line 178, in close\n",
      "    reader_close()\n",
      "  File \"/usr/lib/python3.12/multiprocessing/connection.py\", line 178, in close\n",
      "    self._close()\n",
      "  File \"/usr/lib/python3.12/multiprocessing/connection.py\", line 377, in _close\n",
      "    _close(self._handle)\n",
      "OSError: [Errno 9] Bad file descriptor\n",
      "\n",
      "During handling of the above exception, another exception occurred:\n",
      "\n",
      "Traceback (most recent call last):\n",
      "  File \"/usr/lib/python3.12/threading.py\", line 1073, in _bootstrap_inner\n",
      "    self._close()\n",
      "  File \"/usr/lib/python3.12/multiprocessing/connection.py\", line 377, in _close\n",
      "    self.run()\n",
      "  File \"/home/eduardo/Documentos/Water-Cycle-Neural-Network/venv/lib/python3.12/site-packages/ipykernel/ipkernel.py\", line 766, in run_closure\n",
      "    self._close()\n",
      "  File \"/usr/lib/python3.12/multiprocessing/connection.py\", line 377, in _close\n",
      "    _threading_Thread_run(self)\n",
      "  File \"/usr/lib/python3.12/threading.py\", line 1010, in run\n",
      "    _close(self._handle)\n",
      "OSError: [Errno 9] Bad file descriptor\n",
      "\n",
      "During handling of the above exception, another exception occurred:\n",
      "\n",
      "Traceback (most recent call last):\n",
      "  File \"/usr/lib/python3.12/threading.py\", line 1073, in _bootstrap_inner\n",
      "    _close(self._handle)\n",
      "OSError: [Errno 9] Bad file descriptor\n",
      "\n",
      "During handling of the above exception, another exception occurred:\n",
      "\n",
      "Traceback (most recent call last):\n",
      "  File \"/usr/lib/python3.12/threading.py\", line 1073, in _bootstrap_inner\n",
      "    self._target(*self._args, **self._kwargs)\n",
      "  File \"/usr/lib/python3.12/multiprocessing/queues.py\", line 291, in _feed\n",
      "    self.run()\n",
      "  File \"/home/eduardo/Documentos/Water-Cycle-Neural-Network/venv/lib/python3.12/site-packages/ipykernel/ipkernel.py\", line 766, in run_closure\n",
      "    _threading_Thread_run(self)\n",
      "  File \"/usr/lib/python3.12/threading.py\", line 1010, in run\n",
      "    queue_sem.release()\n",
      "ValueError: semaphore or lock released too many times\n",
      "    self.run()\n",
      "  File \"/home/eduardo/Documentos/Water-Cycle-Neural-Network/venv/lib/python3.12/site-packages/ipykernel/ipkernel.py\", line 766, in run_closure\n",
      "    self._target(*self._args, **self._kwargs)\n",
      "  File \"/usr/lib/python3.12/multiprocessing/queues.py\", line 291, in _feed\n",
      "    _threading_Thread_run(self)\n",
      "  File \"/usr/lib/python3.12/threading.py\", line 1010, in run\n",
      "    queue_sem.release()\n",
      "ValueError: semaphore or lock released too many times\n",
      "    self._target(*self._args, **self._kwargs)\n",
      "  File \"/usr/lib/python3.12/multiprocessing/queues.py\", line 291, in _feed\n",
      "    queue_sem.release()\n",
      "ValueError: semaphore or lock released too many times\n",
      "GPU available: True (cuda), used: True\n",
      "TPU available: False, using: 0 TPU cores\n",
      "HPU available: False, using: 0 HPUs\n",
      "LOCAL_RANK: 0 - CUDA_VISIBLE_DEVICES: [0]\n"
     ]
    },
    {
     "name": "stdout",
     "output_type": "stream",
     "text": [
      "SMAPE fold 0: 129.94688228375696\n",
      "\n",
      "Fold 2/3\n"
     ]
    },
    {
     "name": "stderr",
     "output_type": "stream",
     "text": [
      "/home/eduardo/Documentos/Water-Cycle-Neural-Network/venv/lib/python3.12/site-packages/optuna/trial/_trial.py:497: UserWarning: The reported value is ignored because this `step` 0 is already reported.\n",
      "  warnings.warn(\n",
      "Metric val_loss improved by 7.577 >= min_delta = 0.0005. New best score: 0.481\n",
      "/home/eduardo/Documentos/Water-Cycle-Neural-Network/venv/lib/python3.12/site-packages/optuna/trial/_trial.py:497: UserWarning: The reported value is ignored because this `step` 1 is already reported.\n",
      "  warnings.warn(\n",
      "Metric val_loss improved by 0.049 >= min_delta = 0.0005. New best score: 0.432\n",
      "/home/eduardo/Documentos/Water-Cycle-Neural-Network/venv/lib/python3.12/site-packages/optuna/trial/_trial.py:497: UserWarning: The reported value is ignored because this `step` 2 is already reported.\n",
      "  warnings.warn(\n",
      "Metric val_loss improved by 0.040 >= min_delta = 0.0005. New best score: 0.392\n",
      "/home/eduardo/Documentos/Water-Cycle-Neural-Network/venv/lib/python3.12/site-packages/optuna/trial/_trial.py:497: UserWarning: The reported value is ignored because this `step` 3 is already reported.\n",
      "  warnings.warn(\n",
      "Metric val_loss improved by 0.028 >= min_delta = 0.0005. New best score: 0.364\n",
      "/home/eduardo/Documentos/Water-Cycle-Neural-Network/venv/lib/python3.12/site-packages/optuna/trial/_trial.py:497: UserWarning: The reported value is ignored because this `step` 4 is already reported.\n",
      "  warnings.warn(\n",
      "Metric val_loss improved by 0.020 >= min_delta = 0.0005. New best score: 0.344\n",
      "/home/eduardo/Documentos/Water-Cycle-Neural-Network/venv/lib/python3.12/site-packages/optuna/trial/_trial.py:497: UserWarning: The reported value is ignored because this `step` 5 is already reported.\n",
      "  warnings.warn(\n",
      "Metric val_loss improved by 0.028 >= min_delta = 0.0005. New best score: 0.317\n",
      "/home/eduardo/Documentos/Water-Cycle-Neural-Network/venv/lib/python3.12/site-packages/optuna/trial/_trial.py:497: UserWarning: The reported value is ignored because this `step` 6 is already reported.\n",
      "  warnings.warn(\n",
      "Metric val_loss improved by 0.035 >= min_delta = 0.0005. New best score: 0.281\n",
      "/home/eduardo/Documentos/Water-Cycle-Neural-Network/venv/lib/python3.12/site-packages/optuna/trial/_trial.py:497: UserWarning: The reported value is ignored because this `step` 7 is already reported.\n",
      "  warnings.warn(\n",
      "Metric val_loss improved by 0.039 >= min_delta = 0.0005. New best score: 0.242\n",
      "/home/eduardo/Documentos/Water-Cycle-Neural-Network/venv/lib/python3.12/site-packages/optuna/trial/_trial.py:497: UserWarning: The reported value is ignored because this `step` 8 is already reported.\n",
      "  warnings.warn(\n",
      "Metric val_loss improved by 0.036 >= min_delta = 0.0005. New best score: 0.207\n",
      "/home/eduardo/Documentos/Water-Cycle-Neural-Network/venv/lib/python3.12/site-packages/optuna/trial/_trial.py:497: UserWarning: The reported value is ignored because this `step` 9 is already reported.\n",
      "  warnings.warn(\n",
      "Metric val_loss improved by 0.025 >= min_delta = 0.0005. New best score: 0.181\n",
      "/home/eduardo/Documentos/Water-Cycle-Neural-Network/venv/lib/python3.12/site-packages/optuna/trial/_trial.py:497: UserWarning: The reported value is ignored because this `step` 10 is already reported.\n",
      "  warnings.warn(\n",
      "Metric val_loss improved by 0.023 >= min_delta = 0.0005. New best score: 0.158\n",
      "/home/eduardo/Documentos/Water-Cycle-Neural-Network/venv/lib/python3.12/site-packages/optuna/trial/_trial.py:497: UserWarning: The reported value is ignored because this `step` 11 is already reported.\n",
      "  warnings.warn(\n",
      "Metric val_loss improved by 0.014 >= min_delta = 0.0005. New best score: 0.144\n",
      "/home/eduardo/Documentos/Water-Cycle-Neural-Network/venv/lib/python3.12/site-packages/optuna/trial/_trial.py:497: UserWarning: The reported value is ignored because this `step` 12 is already reported.\n",
      "  warnings.warn(\n",
      "Metric val_loss improved by 0.012 >= min_delta = 0.0005. New best score: 0.132\n",
      "/home/eduardo/Documentos/Water-Cycle-Neural-Network/venv/lib/python3.12/site-packages/optuna/trial/_trial.py:497: UserWarning: The reported value is ignored because this `step` 13 is already reported.\n",
      "  warnings.warn(\n",
      "Metric val_loss improved by 0.012 >= min_delta = 0.0005. New best score: 0.120\n",
      "/home/eduardo/Documentos/Water-Cycle-Neural-Network/venv/lib/python3.12/site-packages/optuna/trial/_trial.py:497: UserWarning: The reported value is ignored because this `step` 14 is already reported.\n",
      "  warnings.warn(\n",
      "Metric val_loss improved by 0.004 >= min_delta = 0.0005. New best score: 0.116\n",
      "/home/eduardo/Documentos/Water-Cycle-Neural-Network/venv/lib/python3.12/site-packages/optuna/trial/_trial.py:497: UserWarning: The reported value is ignored because this `step` 15 is already reported.\n",
      "  warnings.warn(\n",
      "Metric val_loss improved by 0.013 >= min_delta = 0.0005. New best score: 0.102\n",
      "/home/eduardo/Documentos/Water-Cycle-Neural-Network/venv/lib/python3.12/site-packages/optuna/trial/_trial.py:497: UserWarning: The reported value is ignored because this `step` 16 is already reported.\n",
      "  warnings.warn(\n",
      "Metric val_loss improved by 0.007 >= min_delta = 0.0005. New best score: 0.095\n",
      "Metric val_loss improved by 0.003 >= min_delta = 0.0005. New best score: 0.092\n",
      "Metric val_loss improved by 0.003 >= min_delta = 0.0005. New best score: 0.089\n",
      "Metric val_loss improved by 0.006 >= min_delta = 0.0005. New best score: 0.083\n",
      "Metric val_loss improved by 0.004 >= min_delta = 0.0005. New best score: 0.079\n",
      "Metric val_loss improved by 0.004 >= min_delta = 0.0005. New best score: 0.076\n",
      "Metric val_loss improved by 0.002 >= min_delta = 0.0005. New best score: 0.074\n",
      "Metric val_loss improved by 0.001 >= min_delta = 0.0005. New best score: 0.073\n",
      "Metric val_loss improved by 0.003 >= min_delta = 0.0005. New best score: 0.070\n",
      "`Trainer.fit` stopped: `max_epochs=30` reached.\n",
      "GPU available: True (cuda), used: True\n",
      "TPU available: False, using: 0 TPU cores\n",
      "HPU available: False, using: 0 HPUs\n",
      "LOCAL_RANK: 0 - CUDA_VISIBLE_DEVICES: [0]\n"
     ]
    },
    {
     "name": "stdout",
     "output_type": "stream",
     "text": [
      "Model loaded from checkpoint for trial 36, fold 1\n"
     ]
    },
    {
     "name": "stderr",
     "output_type": "stream",
     "text": [
      "GPU available: True (cuda), used: True\n",
      "TPU available: False, using: 0 TPU cores\n",
      "HPU available: False, using: 0 HPUs\n",
      "LOCAL_RANK: 0 - CUDA_VISIBLE_DEVICES: [0]\n"
     ]
    },
    {
     "name": "stdout",
     "output_type": "stream",
     "text": [
      "SMAPE fold 1: 65.38464220788053\n",
      "\n",
      "Fold 3/3\n"
     ]
    },
    {
     "name": "stderr",
     "output_type": "stream",
     "text": [
      "/home/eduardo/Documentos/Water-Cycle-Neural-Network/venv/lib/python3.12/site-packages/optuna/trial/_trial.py:497: UserWarning: The reported value is ignored because this `step` 0 is already reported.\n",
      "  warnings.warn(\n",
      "/home/eduardo/Documentos/Water-Cycle-Neural-Network/venv/lib/python3.12/site-packages/optuna/trial/_trial.py:497: UserWarning: The reported value is ignored because this `step` 1 is already reported.\n",
      "  warnings.warn(\n",
      "/home/eduardo/Documentos/Water-Cycle-Neural-Network/venv/lib/python3.12/site-packages/optuna/trial/_trial.py:497: UserWarning: The reported value is ignored because this `step` 2 is already reported.\n",
      "  warnings.warn(\n",
      "/home/eduardo/Documentos/Water-Cycle-Neural-Network/venv/lib/python3.12/site-packages/optuna/trial/_trial.py:497: UserWarning: The reported value is ignored because this `step` 3 is already reported.\n",
      "  warnings.warn(\n",
      "/home/eduardo/Documentos/Water-Cycle-Neural-Network/venv/lib/python3.12/site-packages/optuna/trial/_trial.py:497: UserWarning: The reported value is ignored because this `step` 4 is already reported.\n",
      "  warnings.warn(\n",
      "/home/eduardo/Documentos/Water-Cycle-Neural-Network/venv/lib/python3.12/site-packages/optuna/trial/_trial.py:497: UserWarning: The reported value is ignored because this `step` 5 is already reported.\n",
      "  warnings.warn(\n",
      "/home/eduardo/Documentos/Water-Cycle-Neural-Network/venv/lib/python3.12/site-packages/optuna/trial/_trial.py:497: UserWarning: The reported value is ignored because this `step` 6 is already reported.\n",
      "  warnings.warn(\n",
      "/home/eduardo/Documentos/Water-Cycle-Neural-Network/venv/lib/python3.12/site-packages/optuna/trial/_trial.py:497: UserWarning: The reported value is ignored because this `step` 7 is already reported.\n",
      "  warnings.warn(\n",
      "/home/eduardo/Documentos/Water-Cycle-Neural-Network/venv/lib/python3.12/site-packages/optuna/trial/_trial.py:497: UserWarning: The reported value is ignored because this `step` 8 is already reported.\n",
      "  warnings.warn(\n",
      "/home/eduardo/Documentos/Water-Cycle-Neural-Network/venv/lib/python3.12/site-packages/optuna/trial/_trial.py:497: UserWarning: The reported value is ignored because this `step` 9 is already reported.\n",
      "  warnings.warn(\n",
      "/home/eduardo/Documentos/Water-Cycle-Neural-Network/venv/lib/python3.12/site-packages/optuna/trial/_trial.py:497: UserWarning: The reported value is ignored because this `step` 10 is already reported.\n",
      "  warnings.warn(\n",
      "/home/eduardo/Documentos/Water-Cycle-Neural-Network/venv/lib/python3.12/site-packages/optuna/trial/_trial.py:497: UserWarning: The reported value is ignored because this `step` 11 is already reported.\n",
      "  warnings.warn(\n",
      "Monitored metric val_loss did not improve in the last 15 records. Best score: 0.070. Signaling Trainer to stop.\n",
      "GPU available: True (cuda), used: True\n",
      "TPU available: False, using: 0 TPU cores\n",
      "HPU available: False, using: 0 HPUs\n",
      "LOCAL_RANK: 0 - CUDA_VISIBLE_DEVICES: [0]\n"
     ]
    },
    {
     "name": "stdout",
     "output_type": "stream",
     "text": [
      "Model loaded from checkpoint for trial 36, fold 2\n"
     ]
    },
    {
     "name": "stderr",
     "output_type": "stream",
     "text": [
      "[I 2025-06-10 16:34:36,651] Trial 36 finished with value: 93.50355251799023 and parameters: {'input_chunk_length': 60, 'dropout': 0.4, 'batch_size': 208, 'lr': 8.995941709681421e-05, 'weight_decay': 0.00039709041883232376, 'num_layers': 5, 'num_blocks': 4, 'num_stacks': 2, 'layer_widths': 72, 'activation': 'ReLU'}. Best is trial 12 with value: 82.99427929841275.\n",
      "GPU available: True (cuda), used: True\n",
      "TPU available: False, using: 0 TPU cores\n",
      "HPU available: False, using: 0 HPUs\n",
      "LOCAL_RANK: 0 - CUDA_VISIBLE_DEVICES: [0]\n"
     ]
    },
    {
     "name": "stdout",
     "output_type": "stream",
     "text": [
      "SMAPE fold 2: 85.17913306233322\n",
      "Média dos SMAPE nos folds: 93.50355251799023\n",
      "Results of trial 36 saved in optuna_iteration_metrics/trial_36.json\n",
      "Current value: 93.50355251799023, Current params: {'input_chunk_length': 60, 'dropout': 0.4, 'batch_size': 208, 'lr': 8.995941709681421e-05, 'weight_decay': 0.00039709041883232376, 'num_layers': 5, 'num_blocks': 4, 'num_stacks': 2, 'layer_widths': 72, 'activation': 'ReLU'}\n",
      "Best value: 82.99427929841275, Best params: {'input_chunk_length': 60, 'dropout': 0.35, 'batch_size': 208, 'lr': 0.00013929636378647018, 'weight_decay': 2.784544338277865e-05, 'num_layers': 5, 'num_blocks': 3, 'num_stacks': 3, 'layer_widths': 32, 'activation': 'ReLU'}\n",
      "\n",
      "Fold 1/3\n"
     ]
    },
    {
     "name": "stderr",
     "output_type": "stream",
     "text": [
      "[I 2025-06-10 16:34:38,914] Trial 37 pruned. Trial was pruned at epoch 0.\n",
      "GPU available: True (cuda), used: True\n",
      "TPU available: False, using: 0 TPU cores\n",
      "HPU available: False, using: 0 HPUs\n",
      "LOCAL_RANK: 0 - CUDA_VISIBLE_DEVICES: [0]\n"
     ]
    },
    {
     "name": "stdout",
     "output_type": "stream",
     "text": [
      "Current value: 8.476870509577582, Current params: {'input_chunk_length': 84, 'dropout': 0.2, 'batch_size': 136, 'lr': 0.0014822890922012253, 'weight_decay': 0.00018482898664125746, 'num_layers': 5, 'num_blocks': 5, 'num_stacks': 1, 'layer_widths': 160, 'activation': 'GELU'}\n",
      "Best value: 82.99427929841275, Best params: {'input_chunk_length': 60, 'dropout': 0.35, 'batch_size': 208, 'lr': 0.00013929636378647018, 'weight_decay': 2.784544338277865e-05, 'num_layers': 5, 'num_blocks': 3, 'num_stacks': 3, 'layer_widths': 32, 'activation': 'ReLU'}\n",
      "\n",
      "Fold 1/3\n"
     ]
    },
    {
     "name": "stderr",
     "output_type": "stream",
     "text": [
      "[I 2025-06-10 16:34:41,594] Trial 38 pruned. Trial was pruned at epoch 0.\n"
     ]
    },
    {
     "name": "stdout",
     "output_type": "stream",
     "text": [
      "Current value: 20.45978984076902, Current params: {'input_chunk_length': 36, 'dropout': 0.4, 'batch_size': 80, 'lr': 8.878846712146425e-06, 'weight_decay': 7.554249830105447e-05, 'num_layers': 1, 'num_blocks': 2, 'num_stacks': 5, 'layer_widths': 192, 'activation': 'ReLU'}\n",
      "Best value: 82.99427929841275, Best params: {'input_chunk_length': 60, 'dropout': 0.35, 'batch_size': 208, 'lr': 0.00013929636378647018, 'weight_decay': 2.784544338277865e-05, 'num_layers': 5, 'num_blocks': 3, 'num_stacks': 3, 'layer_widths': 32, 'activation': 'ReLU'}\n",
      "\n",
      "Fold 1/3\n"
     ]
    },
    {
     "name": "stderr",
     "output_type": "stream",
     "text": [
      "GPU available: True (cuda), used: True\n",
      "TPU available: False, using: 0 TPU cores\n",
      "HPU available: False, using: 0 HPUs\n",
      "LOCAL_RANK: 0 - CUDA_VISIBLE_DEVICES: [0]\n",
      "[I 2025-06-10 16:35:39,514] Trial 39 pruned. Trial was pruned at epoch 0.\n",
      "GPU available: True (cuda), used: True\n",
      "TPU available: False, using: 0 TPU cores\n",
      "HPU available: False, using: 0 HPUs\n",
      "LOCAL_RANK: 0 - CUDA_VISIBLE_DEVICES: [0]\n"
     ]
    },
    {
     "name": "stdout",
     "output_type": "stream",
     "text": [
      "Current value: 8.993448637798478, Current params: {'input_chunk_length': 48, 'dropout': 0.45000000000000007, 'batch_size': 248, 'lr': 2.750487510819617e-05, 'weight_decay': 1.1350813832215382e-05, 'num_layers': 4, 'num_blocks': 4, 'num_stacks': 3, 'layer_widths': 40, 'activation': 'ReLU'}\n",
      "Best value: 82.99427929841275, Best params: {'input_chunk_length': 60, 'dropout': 0.35, 'batch_size': 208, 'lr': 0.00013929636378647018, 'weight_decay': 2.784544338277865e-05, 'num_layers': 5, 'num_blocks': 3, 'num_stacks': 3, 'layer_widths': 32, 'activation': 'ReLU'}\n",
      "\n",
      "Fold 1/3\n"
     ]
    },
    {
     "name": "stderr",
     "output_type": "stream",
     "text": [
      "[I 2025-06-10 16:35:42,802] Trial 40 pruned. Trial was pruned at epoch 0.\n",
      "GPU available: True (cuda), used: True\n",
      "TPU available: False, using: 0 TPU cores\n",
      "HPU available: False, using: 0 HPUs\n",
      "LOCAL_RANK: 0 - CUDA_VISIBLE_DEVICES: [0]\n"
     ]
    },
    {
     "name": "stdout",
     "output_type": "stream",
     "text": [
      "Current value: 21.591980956387395, Current params: {'input_chunk_length': 60, 'dropout': 0.30000000000000004, 'batch_size': 192, 'lr': 0.000624561289174825, 'weight_decay': 2.007025841662982e-06, 'num_layers': 3, 'num_blocks': 5, 'num_stacks': 4, 'layer_widths': 248, 'activation': 'ReLU'}\n",
      "Best value: 82.99427929841275, Best params: {'input_chunk_length': 60, 'dropout': 0.35, 'batch_size': 208, 'lr': 0.00013929636378647018, 'weight_decay': 2.784544338277865e-05, 'num_layers': 5, 'num_blocks': 3, 'num_stacks': 3, 'layer_widths': 32, 'activation': 'ReLU'}\n",
      "\n",
      "Fold 1/3\n"
     ]
    },
    {
     "name": "stderr",
     "output_type": "stream",
     "text": [
      "Metric val_loss improved. New best score: 8.225\n",
      "Monitored metric val_loss did not improve in the last 15 records. Best score: 8.225. Signaling Trainer to stop.\n",
      "GPU available: True (cuda), used: True\n",
      "TPU available: False, using: 0 TPU cores\n",
      "HPU available: False, using: 0 HPUs\n",
      "LOCAL_RANK: 0 - CUDA_VISIBLE_DEVICES: [0]\n"
     ]
    },
    {
     "name": "stdout",
     "output_type": "stream",
     "text": [
      "Model loaded from checkpoint for trial 41, fold 0\n"
     ]
    },
    {
     "name": "stderr",
     "output_type": "stream",
     "text": [
      "Exception in thread QueueFeederThread:\n",
      "Traceback (most recent call last):\n",
      "  File \"/usr/lib/python3.12/multiprocessing/queues.py\", line 259, in _feed\n",
      "Exception in thread QueueFeederThread:\n",
      "Traceback (most recent call last):\n",
      "  File \"/usr/lib/python3.12/multiprocessing/queues.py\", line 259, in _feed\n",
      "    reader_close()\n",
      "  File \"/usr/lib/python3.12/multiprocessing/connection.py\", line 178, in close\n",
      "    reader_close()\n",
      "  File \"/usr/lib/python3.12/multiprocessing/connection.py\", line 178, in close\n",
      "    self._close()\n",
      "  File \"/usr/lib/python3.12/multiprocessing/connection.py\", line 377, in _close\n",
      "    self._close()\n",
      "  File \"/usr/lib/python3.12/multiprocessing/connection.py\", line 377, in _close\n",
      "    _close(self._handle)\n",
      "OSError: [Errno 9] Bad file descriptor\n",
      "\n",
      "During handling of the above exception, another exception occurred:\n",
      "\n",
      "Traceback (most recent call last):\n",
      "  File \"/usr/lib/python3.12/threading.py\", line 1073, in _bootstrap_inner\n",
      "    _close(self._handle)\n",
      "OSError: [Errno 9] Bad file descriptor\n",
      "\n",
      "During handling of the above exception, another exception occurred:\n",
      "\n",
      "Traceback (most recent call last):\n",
      "  File \"/usr/lib/python3.12/threading.py\", line 1073, in _bootstrap_inner\n",
      "    self.run()\n",
      "  File \"/home/eduardo/Documentos/Water-Cycle-Neural-Network/venv/lib/python3.12/site-packages/ipykernel/ipkernel.py\", line 766, in run_closure\n",
      "    self.run()\n",
      "  File \"/home/eduardo/Documentos/Water-Cycle-Neural-Network/venv/lib/python3.12/site-packages/ipykernel/ipkernel.py\", line 766, in run_closure\n",
      "    _threading_Thread_run(self)\n",
      "  File \"/usr/lib/python3.12/threading.py\", line 1010, in run\n",
      "    self._target(*self._args, **self._kwargs)\n",
      "  File \"/usr/lib/python3.12/multiprocessing/queues.py\", line 291, in _feed\n",
      "    _threading_Thread_run(self)\n",
      "  File \"/usr/lib/python3.12/threading.py\", line 1010, in run\n",
      "    queue_sem.release()\n",
      "ValueError: semaphore or lock released too many times\n",
      "    self._target(*self._args, **self._kwargs)\n",
      "  File \"/usr/lib/python3.12/multiprocessing/queues.py\", line 291, in _feed\n",
      "    queue_sem.release()\n",
      "ValueError: semaphore or lock released too many times\n",
      "GPU available: True (cuda), used: True\n",
      "TPU available: False, using: 0 TPU cores\n",
      "HPU available: False, using: 0 HPUs\n",
      "LOCAL_RANK: 0 - CUDA_VISIBLE_DEVICES: [0]\n"
     ]
    },
    {
     "name": "stdout",
     "output_type": "stream",
     "text": [
      "SMAPE fold 0: 139.56246388263335\n",
      "\n",
      "Fold 2/3\n"
     ]
    },
    {
     "name": "stderr",
     "output_type": "stream",
     "text": [
      "/home/eduardo/Documentos/Water-Cycle-Neural-Network/venv/lib/python3.12/site-packages/optuna/trial/_trial.py:497: UserWarning: The reported value is ignored because this `step` 0 is already reported.\n",
      "  warnings.warn(\n",
      "Metric val_loss improved by 7.786 >= min_delta = 0.0005. New best score: 0.438\n",
      "/home/eduardo/Documentos/Water-Cycle-Neural-Network/venv/lib/python3.12/site-packages/optuna/trial/_trial.py:497: UserWarning: The reported value is ignored because this `step` 1 is already reported.\n",
      "  warnings.warn(\n",
      "Metric val_loss improved by 0.069 >= min_delta = 0.0005. New best score: 0.369\n",
      "/home/eduardo/Documentos/Water-Cycle-Neural-Network/venv/lib/python3.12/site-packages/optuna/trial/_trial.py:497: UserWarning: The reported value is ignored because this `step` 2 is already reported.\n",
      "  warnings.warn(\n",
      "Metric val_loss improved by 0.043 >= min_delta = 0.0005. New best score: 0.326\n",
      "/home/eduardo/Documentos/Water-Cycle-Neural-Network/venv/lib/python3.12/site-packages/optuna/trial/_trial.py:497: UserWarning: The reported value is ignored because this `step` 3 is already reported.\n",
      "  warnings.warn(\n",
      "Metric val_loss improved by 0.049 >= min_delta = 0.0005. New best score: 0.278\n",
      "/home/eduardo/Documentos/Water-Cycle-Neural-Network/venv/lib/python3.12/site-packages/optuna/trial/_trial.py:497: UserWarning: The reported value is ignored because this `step` 4 is already reported.\n",
      "  warnings.warn(\n",
      "Metric val_loss improved by 0.071 >= min_delta = 0.0005. New best score: 0.207\n",
      "/home/eduardo/Documentos/Water-Cycle-Neural-Network/venv/lib/python3.12/site-packages/optuna/trial/_trial.py:497: UserWarning: The reported value is ignored because this `step` 5 is already reported.\n",
      "  warnings.warn(\n",
      "Metric val_loss improved by 0.065 >= min_delta = 0.0005. New best score: 0.141\n",
      "/home/eduardo/Documentos/Water-Cycle-Neural-Network/venv/lib/python3.12/site-packages/optuna/trial/_trial.py:497: UserWarning: The reported value is ignored because this `step` 6 is already reported.\n",
      "  warnings.warn(\n",
      "Metric val_loss improved by 0.020 >= min_delta = 0.0005. New best score: 0.121\n",
      "/home/eduardo/Documentos/Water-Cycle-Neural-Network/venv/lib/python3.12/site-packages/optuna/trial/_trial.py:497: UserWarning: The reported value is ignored because this `step` 7 is already reported.\n",
      "  warnings.warn(\n",
      "Metric val_loss improved by 0.028 >= min_delta = 0.0005. New best score: 0.094\n",
      "/home/eduardo/Documentos/Water-Cycle-Neural-Network/venv/lib/python3.12/site-packages/optuna/trial/_trial.py:497: UserWarning: The reported value is ignored because this `step` 8 is already reported.\n",
      "  warnings.warn(\n",
      "Metric val_loss improved by 0.008 >= min_delta = 0.0005. New best score: 0.086\n",
      "/home/eduardo/Documentos/Water-Cycle-Neural-Network/venv/lib/python3.12/site-packages/optuna/trial/_trial.py:497: UserWarning: The reported value is ignored because this `step` 9 is already reported.\n",
      "  warnings.warn(\n",
      "Metric val_loss improved by 0.001 >= min_delta = 0.0005. New best score: 0.084\n",
      "/home/eduardo/Documentos/Water-Cycle-Neural-Network/venv/lib/python3.12/site-packages/optuna/trial/_trial.py:497: UserWarning: The reported value is ignored because this `step` 10 is already reported.\n",
      "  warnings.warn(\n",
      "Metric val_loss improved by 0.010 >= min_delta = 0.0005. New best score: 0.075\n",
      "/home/eduardo/Documentos/Water-Cycle-Neural-Network/venv/lib/python3.12/site-packages/optuna/trial/_trial.py:497: UserWarning: The reported value is ignored because this `step` 11 is already reported.\n",
      "  warnings.warn(\n",
      "Metric val_loss improved by 0.001 >= min_delta = 0.0005. New best score: 0.073\n",
      "/home/eduardo/Documentos/Water-Cycle-Neural-Network/venv/lib/python3.12/site-packages/optuna/trial/_trial.py:497: UserWarning: The reported value is ignored because this `step` 12 is already reported.\n",
      "  warnings.warn(\n",
      "Metric val_loss improved by 0.001 >= min_delta = 0.0005. New best score: 0.072\n",
      "/home/eduardo/Documentos/Water-Cycle-Neural-Network/venv/lib/python3.12/site-packages/optuna/trial/_trial.py:497: UserWarning: The reported value is ignored because this `step` 13 is already reported.\n",
      "  warnings.warn(\n",
      "Metric val_loss improved by 0.001 >= min_delta = 0.0005. New best score: 0.072\n",
      "/home/eduardo/Documentos/Water-Cycle-Neural-Network/venv/lib/python3.12/site-packages/optuna/trial/_trial.py:497: UserWarning: The reported value is ignored because this `step` 14 is already reported.\n",
      "  warnings.warn(\n",
      "/home/eduardo/Documentos/Water-Cycle-Neural-Network/venv/lib/python3.12/site-packages/optuna/trial/_trial.py:497: UserWarning: The reported value is ignored because this `step` 15 is already reported.\n",
      "  warnings.warn(\n",
      "Monitored metric val_loss did not improve in the last 15 records. Best score: 0.072. Signaling Trainer to stop.\n",
      "GPU available: True (cuda), used: True\n",
      "TPU available: False, using: 0 TPU cores\n",
      "HPU available: False, using: 0 HPUs\n",
      "LOCAL_RANK: 0 - CUDA_VISIBLE_DEVICES: [0]\n"
     ]
    },
    {
     "name": "stdout",
     "output_type": "stream",
     "text": [
      "Model loaded from checkpoint for trial 41, fold 1\n"
     ]
    },
    {
     "name": "stderr",
     "output_type": "stream",
     "text": [
      "GPU available: True (cuda), used: True\n",
      "TPU available: False, using: 0 TPU cores\n",
      "HPU available: False, using: 0 HPUs\n",
      "LOCAL_RANK: 0 - CUDA_VISIBLE_DEVICES: [0]\n"
     ]
    },
    {
     "name": "stdout",
     "output_type": "stream",
     "text": [
      "SMAPE fold 1: 65.26309241342443\n",
      "\n",
      "Fold 3/3\n"
     ]
    },
    {
     "name": "stderr",
     "output_type": "stream",
     "text": [
      "/home/eduardo/Documentos/Water-Cycle-Neural-Network/venv/lib/python3.12/site-packages/optuna/trial/_trial.py:497: UserWarning: The reported value is ignored because this `step` 0 is already reported.\n",
      "  warnings.warn(\n",
      "Monitored metric val_loss did not improve in the last 16 records. Best score: 0.072. Signaling Trainer to stop.\n",
      "GPU available: True (cuda), used: True\n",
      "TPU available: False, using: 0 TPU cores\n",
      "HPU available: False, using: 0 HPUs\n",
      "LOCAL_RANK: 0 - CUDA_VISIBLE_DEVICES: [0]\n"
     ]
    },
    {
     "name": "stdout",
     "output_type": "stream",
     "text": [
      "Model loaded from checkpoint for trial 41, fold 2\n"
     ]
    },
    {
     "name": "stderr",
     "output_type": "stream",
     "text": [
      "[I 2025-06-10 16:39:54,053] Trial 41 finished with value: 95.99585266864658 and parameters: {'input_chunk_length': 24, 'dropout': 0.30000000000000004, 'batch_size': 200, 'lr': 0.00017412675213213636, 'weight_decay': 0.0001003806323225635, 'num_layers': 5, 'num_blocks': 5, 'num_stacks': 3, 'layer_widths': 56, 'activation': 'ReLU'}. Best is trial 12 with value: 82.99427929841275.\n",
      "GPU available: True (cuda), used: True\n",
      "TPU available: False, using: 0 TPU cores\n",
      "HPU available: False, using: 0 HPUs\n",
      "LOCAL_RANK: 0 - CUDA_VISIBLE_DEVICES: [0]\n"
     ]
    },
    {
     "name": "stdout",
     "output_type": "stream",
     "text": [
      "SMAPE fold 2: 83.16200170988193\n",
      "Média dos SMAPE nos folds: 95.99585266864658\n",
      "Results of trial 41 saved in optuna_iteration_metrics/trial_41.json\n",
      "Current value: 95.99585266864658, Current params: {'input_chunk_length': 24, 'dropout': 0.30000000000000004, 'batch_size': 200, 'lr': 0.00017412675213213636, 'weight_decay': 0.0001003806323225635, 'num_layers': 5, 'num_blocks': 5, 'num_stacks': 3, 'layer_widths': 56, 'activation': 'ReLU'}\n",
      "Best value: 82.99427929841275, Best params: {'input_chunk_length': 60, 'dropout': 0.35, 'batch_size': 208, 'lr': 0.00013929636378647018, 'weight_decay': 2.784544338277865e-05, 'num_layers': 5, 'num_blocks': 3, 'num_stacks': 3, 'layer_widths': 32, 'activation': 'ReLU'}\n",
      "\n",
      "Fold 1/3\n"
     ]
    },
    {
     "name": "stderr",
     "output_type": "stream",
     "text": [
      "Metric val_loss improved. New best score: 7.995\n",
      "Monitored metric val_loss did not improve in the last 15 records. Best score: 7.995. Signaling Trainer to stop.\n",
      "GPU available: True (cuda), used: True\n",
      "TPU available: False, using: 0 TPU cores\n",
      "HPU available: False, using: 0 HPUs\n",
      "LOCAL_RANK: 0 - CUDA_VISIBLE_DEVICES: [0]\n"
     ]
    },
    {
     "name": "stdout",
     "output_type": "stream",
     "text": [
      "Model loaded from checkpoint for trial 42, fold 0\n"
     ]
    },
    {
     "name": "stderr",
     "output_type": "stream",
     "text": [
      "GPU available: True (cuda), used: True\n",
      "TPU available: False, using: 0 TPU cores\n",
      "HPU available: False, using: 0 HPUs\n",
      "LOCAL_RANK: 0 - CUDA_VISIBLE_DEVICES: [0]\n"
     ]
    },
    {
     "name": "stdout",
     "output_type": "stream",
     "text": [
      "SMAPE fold 0: 153.4078413320198\n",
      "\n",
      "Fold 2/3\n"
     ]
    },
    {
     "name": "stderr",
     "output_type": "stream",
     "text": [
      "/home/eduardo/Documentos/Water-Cycle-Neural-Network/venv/lib/python3.12/site-packages/optuna/trial/_trial.py:497: UserWarning: The reported value is ignored because this `step` 0 is already reported.\n",
      "  warnings.warn(\n",
      "Metric val_loss improved by 7.521 >= min_delta = 0.0005. New best score: 0.474\n",
      "/home/eduardo/Documentos/Water-Cycle-Neural-Network/venv/lib/python3.12/site-packages/optuna/trial/_trial.py:497: UserWarning: The reported value is ignored because this `step` 1 is already reported.\n",
      "  warnings.warn(\n",
      "Metric val_loss improved by 0.049 >= min_delta = 0.0005. New best score: 0.425\n",
      "/home/eduardo/Documentos/Water-Cycle-Neural-Network/venv/lib/python3.12/site-packages/optuna/trial/_trial.py:497: UserWarning: The reported value is ignored because this `step` 2 is already reported.\n",
      "  warnings.warn(\n",
      "Metric val_loss improved by 0.035 >= min_delta = 0.0005. New best score: 0.390\n",
      "/home/eduardo/Documentos/Water-Cycle-Neural-Network/venv/lib/python3.12/site-packages/optuna/trial/_trial.py:497: UserWarning: The reported value is ignored because this `step` 3 is already reported.\n",
      "  warnings.warn(\n",
      "Metric val_loss improved by 0.023 >= min_delta = 0.0005. New best score: 0.367\n",
      "/home/eduardo/Documentos/Water-Cycle-Neural-Network/venv/lib/python3.12/site-packages/optuna/trial/_trial.py:497: UserWarning: The reported value is ignored because this `step` 4 is already reported.\n",
      "  warnings.warn(\n",
      "Metric val_loss improved by 0.016 >= min_delta = 0.0005. New best score: 0.350\n",
      "/home/eduardo/Documentos/Water-Cycle-Neural-Network/venv/lib/python3.12/site-packages/optuna/trial/_trial.py:497: UserWarning: The reported value is ignored because this `step` 5 is already reported.\n",
      "  warnings.warn(\n",
      "Metric val_loss improved by 0.018 >= min_delta = 0.0005. New best score: 0.332\n",
      "/home/eduardo/Documentos/Water-Cycle-Neural-Network/venv/lib/python3.12/site-packages/optuna/trial/_trial.py:497: UserWarning: The reported value is ignored because this `step` 6 is already reported.\n",
      "  warnings.warn(\n",
      "Metric val_loss improved by 0.014 >= min_delta = 0.0005. New best score: 0.318\n",
      "/home/eduardo/Documentos/Water-Cycle-Neural-Network/venv/lib/python3.12/site-packages/optuna/trial/_trial.py:497: UserWarning: The reported value is ignored because this `step` 7 is already reported.\n",
      "  warnings.warn(\n",
      "Metric val_loss improved by 0.013 >= min_delta = 0.0005. New best score: 0.305\n",
      "/home/eduardo/Documentos/Water-Cycle-Neural-Network/venv/lib/python3.12/site-packages/optuna/trial/_trial.py:497: UserWarning: The reported value is ignored because this `step` 8 is already reported.\n",
      "  warnings.warn(\n",
      "Metric val_loss improved by 0.013 >= min_delta = 0.0005. New best score: 0.292\n",
      "/home/eduardo/Documentos/Water-Cycle-Neural-Network/venv/lib/python3.12/site-packages/optuna/trial/_trial.py:497: UserWarning: The reported value is ignored because this `step` 9 is already reported.\n",
      "  warnings.warn(\n",
      "Metric val_loss improved by 0.014 >= min_delta = 0.0005. New best score: 0.277\n",
      "/home/eduardo/Documentos/Water-Cycle-Neural-Network/venv/lib/python3.12/site-packages/optuna/trial/_trial.py:497: UserWarning: The reported value is ignored because this `step` 10 is already reported.\n",
      "  warnings.warn(\n",
      "Metric val_loss improved by 0.014 >= min_delta = 0.0005. New best score: 0.264\n",
      "/home/eduardo/Documentos/Water-Cycle-Neural-Network/venv/lib/python3.12/site-packages/optuna/trial/_trial.py:497: UserWarning: The reported value is ignored because this `step` 11 is already reported.\n",
      "  warnings.warn(\n",
      "Metric val_loss improved by 0.022 >= min_delta = 0.0005. New best score: 0.242\n",
      "/home/eduardo/Documentos/Water-Cycle-Neural-Network/venv/lib/python3.12/site-packages/optuna/trial/_trial.py:497: UserWarning: The reported value is ignored because this `step` 12 is already reported.\n",
      "  warnings.warn(\n",
      "Metric val_loss improved by 0.026 >= min_delta = 0.0005. New best score: 0.215\n",
      "/home/eduardo/Documentos/Water-Cycle-Neural-Network/venv/lib/python3.12/site-packages/optuna/trial/_trial.py:497: UserWarning: The reported value is ignored because this `step` 13 is already reported.\n",
      "  warnings.warn(\n",
      "Metric val_loss improved by 0.032 >= min_delta = 0.0005. New best score: 0.184\n",
      "/home/eduardo/Documentos/Water-Cycle-Neural-Network/venv/lib/python3.12/site-packages/optuna/trial/_trial.py:497: UserWarning: The reported value is ignored because this `step` 14 is already reported.\n",
      "  warnings.warn(\n",
      "Metric val_loss improved by 0.029 >= min_delta = 0.0005. New best score: 0.154\n",
      "/home/eduardo/Documentos/Water-Cycle-Neural-Network/venv/lib/python3.12/site-packages/optuna/trial/_trial.py:497: UserWarning: The reported value is ignored because this `step` 15 is already reported.\n",
      "  warnings.warn(\n",
      "Metric val_loss improved by 0.026 >= min_delta = 0.0005. New best score: 0.129\n",
      "Metric val_loss improved by 0.015 >= min_delta = 0.0005. New best score: 0.113\n",
      "[I 2025-06-10 16:41:00,706] Trial 42 pruned. Trial was pruned at epoch 17.\n",
      "GPU available: True (cuda), used: True\n",
      "TPU available: False, using: 0 TPU cores\n",
      "HPU available: False, using: 0 HPUs\n",
      "LOCAL_RANK: 0 - CUDA_VISIBLE_DEVICES: [0]\n"
     ]
    },
    {
     "name": "stdout",
     "output_type": "stream",
     "text": [
      "Current value: 0.10539498968577665, Current params: {'input_chunk_length': 24, 'dropout': 0.35, 'batch_size': 216, 'lr': 6.321620721862114e-05, 'weight_decay': 0.0009605564712534617, 'num_layers': 5, 'num_blocks': 5, 'num_stacks': 3, 'layer_widths': 88, 'activation': 'ReLU'}\n",
      "Best value: 82.99427929841275, Best params: {'input_chunk_length': 60, 'dropout': 0.35, 'batch_size': 208, 'lr': 0.00013929636378647018, 'weight_decay': 2.784544338277865e-05, 'num_layers': 5, 'num_blocks': 3, 'num_stacks': 3, 'layer_widths': 32, 'activation': 'ReLU'}\n",
      "\n",
      "Fold 1/3\n"
     ]
    },
    {
     "name": "stderr",
     "output_type": "stream",
     "text": [
      "[I 2025-06-10 16:41:03,522] Trial 43 pruned. Trial was pruned at epoch 0.\n",
      "GPU available: True (cuda), used: True\n",
      "TPU available: False, using: 0 TPU cores\n",
      "HPU available: False, using: 0 HPUs\n",
      "LOCAL_RANK: 0 - CUDA_VISIBLE_DEVICES: [0]\n"
     ]
    },
    {
     "name": "stdout",
     "output_type": "stream",
     "text": [
      "Current value: 9.908622084957369, Current params: {'input_chunk_length': 48, 'dropout': 0.25, 'batch_size': 184, 'lr': 0.00023522963666206543, 'weight_decay': 0.0004586856275082533, 'num_layers': 5, 'num_blocks': 5, 'num_stacks': 3, 'layer_widths': 112, 'activation': 'ReLU'}\n",
      "Best value: 82.99427929841275, Best params: {'input_chunk_length': 60, 'dropout': 0.35, 'batch_size': 208, 'lr': 0.00013929636378647018, 'weight_decay': 2.784544338277865e-05, 'num_layers': 5, 'num_blocks': 3, 'num_stacks': 3, 'layer_widths': 32, 'activation': 'ReLU'}\n",
      "\n",
      "Fold 1/3\n"
     ]
    },
    {
     "name": "stderr",
     "output_type": "stream",
     "text": [
      "[I 2025-06-10 16:41:06,210] Trial 44 pruned. Trial was pruned at epoch 0.\n",
      "GPU available: True (cuda), used: True\n",
      "TPU available: False, using: 0 TPU cores\n",
      "HPU available: False, using: 0 HPUs\n",
      "LOCAL_RANK: 0 - CUDA_VISIBLE_DEVICES: [0]\n"
     ]
    },
    {
     "name": "stdout",
     "output_type": "stream",
     "text": [
      "Current value: 13.360335987393912, Current params: {'input_chunk_length': 36, 'dropout': 0.2, 'batch_size': 168, 'lr': 0.00045806060787153836, 'weight_decay': 0.00012928121682190274, 'num_layers': 4, 'num_blocks': 4, 'num_stacks': 2, 'layer_widths': 64, 'activation': 'ReLU'}\n",
      "Best value: 82.99427929841275, Best params: {'input_chunk_length': 60, 'dropout': 0.35, 'batch_size': 208, 'lr': 0.00013929636378647018, 'weight_decay': 2.784544338277865e-05, 'num_layers': 5, 'num_blocks': 3, 'num_stacks': 3, 'layer_widths': 32, 'activation': 'ReLU'}\n",
      "\n",
      "Fold 1/3\n"
     ]
    },
    {
     "name": "stderr",
     "output_type": "stream",
     "text": [
      "[I 2025-06-10 16:41:09,210] Trial 45 pruned. Trial was pruned at epoch 0.\n",
      "GPU available: True (cuda), used: True\n",
      "TPU available: False, using: 0 TPU cores\n",
      "HPU available: False, using: 0 HPUs\n",
      "LOCAL_RANK: 0 - CUDA_VISIBLE_DEVICES: [0]\n"
     ]
    },
    {
     "name": "stdout",
     "output_type": "stream",
     "text": [
      "Current value: 9.521686086036256, Current params: {'input_chunk_length': 84, 'dropout': 0.30000000000000004, 'batch_size': 224, 'lr': 0.00016361961746277033, 'weight_decay': 4.4013459741504686e-05, 'num_layers': 5, 'num_blocks': 5, 'num_stacks': 4, 'layer_widths': 104, 'activation': 'ReLU'}\n",
      "Best value: 82.99427929841275, Best params: {'input_chunk_length': 60, 'dropout': 0.35, 'batch_size': 208, 'lr': 0.00013929636378647018, 'weight_decay': 2.784544338277865e-05, 'num_layers': 5, 'num_blocks': 3, 'num_stacks': 3, 'layer_widths': 32, 'activation': 'ReLU'}\n",
      "\n",
      "Fold 1/3\n"
     ]
    },
    {
     "name": "stderr",
     "output_type": "stream",
     "text": [
      "Metric val_loss improved. New best score: 7.997\n",
      "Monitored metric val_loss did not improve in the last 15 records. Best score: 7.997. Signaling Trainer to stop.\n",
      "GPU available: True (cuda), used: True\n",
      "TPU available: False, using: 0 TPU cores\n",
      "HPU available: False, using: 0 HPUs\n",
      "LOCAL_RANK: 0 - CUDA_VISIBLE_DEVICES: [0]\n"
     ]
    },
    {
     "name": "stdout",
     "output_type": "stream",
     "text": [
      "Model loaded from checkpoint for trial 46, fold 0\n"
     ]
    },
    {
     "name": "stderr",
     "output_type": "stream",
     "text": [
      "Exception in thread QueueFeederThread:\n",
      "Traceback (most recent call last):\n",
      "  File \"/usr/lib/python3.12/multiprocessing/queues.py\", line 259, in _feed\n",
      "    reader_close()\n",
      "  File \"/usr/lib/python3.12/multiprocessing/connection.py\", line 178, in close\n",
      "    self._close()\n",
      "  File \"/usr/lib/python3.12/multiprocessing/connection.py\", line 377, in _close\n",
      "    _close(self._handle)\n",
      "OSError: [Errno 9] Bad file descriptor\n",
      "\n",
      "During handling of the above exception, another exception occurred:\n",
      "\n",
      "Traceback (most recent call last):\n",
      "  File \"/usr/lib/python3.12/threading.py\", line 1073, in _bootstrap_inner\n",
      "    self.run()\n",
      "  File \"/home/eduardo/Documentos/Water-Cycle-Neural-Network/venv/lib/python3.12/site-packages/ipykernel/ipkernel.py\", line 766, in run_closure\n",
      "    _threading_Thread_run(self)\n",
      "  File \"/usr/lib/python3.12/threading.py\", line 1010, in run\n",
      "    self._target(*self._args, **self._kwargs)\n",
      "  File \"/usr/lib/python3.12/multiprocessing/queues.py\", line 291, in _feed\n",
      "    queue_sem.release()\n",
      "ValueError: semaphore or lock released too many times\n",
      "GPU available: True (cuda), used: True\n",
      "TPU available: False, using: 0 TPU cores\n",
      "HPU available: False, using: 0 HPUs\n",
      "LOCAL_RANK: 0 - CUDA_VISIBLE_DEVICES: [0]\n"
     ]
    },
    {
     "name": "stdout",
     "output_type": "stream",
     "text": [
      "SMAPE fold 0: 148.402431220697\n",
      "\n",
      "Fold 2/3\n"
     ]
    },
    {
     "name": "stderr",
     "output_type": "stream",
     "text": [
      "/home/eduardo/Documentos/Water-Cycle-Neural-Network/venv/lib/python3.12/site-packages/optuna/trial/_trial.py:497: UserWarning: The reported value is ignored because this `step` 0 is already reported.\n",
      "  warnings.warn(\n",
      "Metric val_loss improved by 7.560 >= min_delta = 0.0005. New best score: 0.437\n",
      "/home/eduardo/Documentos/Water-Cycle-Neural-Network/venv/lib/python3.12/site-packages/optuna/trial/_trial.py:497: UserWarning: The reported value is ignored because this `step` 1 is already reported.\n",
      "  warnings.warn(\n",
      "Metric val_loss improved by 0.044 >= min_delta = 0.0005. New best score: 0.393\n",
      "/home/eduardo/Documentos/Water-Cycle-Neural-Network/venv/lib/python3.12/site-packages/optuna/trial/_trial.py:497: UserWarning: The reported value is ignored because this `step` 2 is already reported.\n",
      "  warnings.warn(\n",
      "Metric val_loss improved by 0.034 >= min_delta = 0.0005. New best score: 0.359\n",
      "/home/eduardo/Documentos/Water-Cycle-Neural-Network/venv/lib/python3.12/site-packages/optuna/trial/_trial.py:497: UserWarning: The reported value is ignored because this `step` 3 is already reported.\n",
      "  warnings.warn(\n",
      "Metric val_loss improved by 0.052 >= min_delta = 0.0005. New best score: 0.307\n",
      "/home/eduardo/Documentos/Water-Cycle-Neural-Network/venv/lib/python3.12/site-packages/optuna/trial/_trial.py:497: UserWarning: The reported value is ignored because this `step` 4 is already reported.\n",
      "  warnings.warn(\n",
      "Metric val_loss improved by 0.058 >= min_delta = 0.0005. New best score: 0.248\n",
      "/home/eduardo/Documentos/Water-Cycle-Neural-Network/venv/lib/python3.12/site-packages/optuna/trial/_trial.py:497: UserWarning: The reported value is ignored because this `step` 5 is already reported.\n",
      "  warnings.warn(\n",
      "Metric val_loss improved by 0.058 >= min_delta = 0.0005. New best score: 0.190\n",
      "/home/eduardo/Documentos/Water-Cycle-Neural-Network/venv/lib/python3.12/site-packages/optuna/trial/_trial.py:497: UserWarning: The reported value is ignored because this `step` 6 is already reported.\n",
      "  warnings.warn(\n",
      "Metric val_loss improved by 0.049 >= min_delta = 0.0005. New best score: 0.142\n",
      "/home/eduardo/Documentos/Water-Cycle-Neural-Network/venv/lib/python3.12/site-packages/optuna/trial/_trial.py:497: UserWarning: The reported value is ignored because this `step` 7 is already reported.\n",
      "  warnings.warn(\n",
      "Metric val_loss improved by 0.040 >= min_delta = 0.0005. New best score: 0.102\n",
      "/home/eduardo/Documentos/Water-Cycle-Neural-Network/venv/lib/python3.12/site-packages/optuna/trial/_trial.py:497: UserWarning: The reported value is ignored because this `step` 8 is already reported.\n",
      "  warnings.warn(\n",
      "/home/eduardo/Documentos/Water-Cycle-Neural-Network/venv/lib/python3.12/site-packages/optuna/trial/_trial.py:497: UserWarning: The reported value is ignored because this `step` 9 is already reported.\n",
      "  warnings.warn(\n",
      "Metric val_loss improved by 0.006 >= min_delta = 0.0005. New best score: 0.096\n",
      "/home/eduardo/Documentos/Water-Cycle-Neural-Network/venv/lib/python3.12/site-packages/optuna/trial/_trial.py:497: UserWarning: The reported value is ignored because this `step` 10 is already reported.\n",
      "  warnings.warn(\n",
      "Metric val_loss improved by 0.007 >= min_delta = 0.0005. New best score: 0.088\n",
      "/home/eduardo/Documentos/Water-Cycle-Neural-Network/venv/lib/python3.12/site-packages/optuna/trial/_trial.py:497: UserWarning: The reported value is ignored because this `step` 11 is already reported.\n",
      "  warnings.warn(\n",
      "Metric val_loss improved by 0.003 >= min_delta = 0.0005. New best score: 0.085\n",
      "/home/eduardo/Documentos/Water-Cycle-Neural-Network/venv/lib/python3.12/site-packages/optuna/trial/_trial.py:497: UserWarning: The reported value is ignored because this `step` 12 is already reported.\n",
      "  warnings.warn(\n",
      "/home/eduardo/Documentos/Water-Cycle-Neural-Network/venv/lib/python3.12/site-packages/optuna/trial/_trial.py:497: UserWarning: The reported value is ignored because this `step` 13 is already reported.\n",
      "  warnings.warn(\n",
      "Metric val_loss improved by 0.005 >= min_delta = 0.0005. New best score: 0.080\n",
      "/home/eduardo/Documentos/Water-Cycle-Neural-Network/venv/lib/python3.12/site-packages/optuna/trial/_trial.py:497: UserWarning: The reported value is ignored because this `step` 14 is already reported.\n",
      "  warnings.warn(\n",
      "Metric val_loss improved by 0.001 >= min_delta = 0.0005. New best score: 0.079\n",
      "/home/eduardo/Documentos/Water-Cycle-Neural-Network/venv/lib/python3.12/site-packages/optuna/trial/_trial.py:497: UserWarning: The reported value is ignored because this `step` 15 is already reported.\n",
      "  warnings.warn(\n",
      "Metric val_loss improved by 0.001 >= min_delta = 0.0005. New best score: 0.078\n",
      "Metric val_loss improved by 0.002 >= min_delta = 0.0005. New best score: 0.076\n",
      "[I 2025-06-10 16:45:40,562] Trial 46 pruned. Trial was pruned at epoch 22.\n",
      "GPU available: True (cuda), used: True\n",
      "TPU available: False, using: 0 TPU cores\n",
      "HPU available: False, using: 0 HPUs\n",
      "LOCAL_RANK: 0 - CUDA_VISIBLE_DEVICES: [0]\n"
     ]
    },
    {
     "name": "stdout",
     "output_type": "stream",
     "text": [
      "Current value: 0.07563537019988996, Current params: {'input_chunk_length': 60, 'dropout': 0.35, 'batch_size': 152, 'lr': 8.316404076039818e-05, 'weight_decay': 0.0001780285001255343, 'num_layers': 5, 'num_blocks': 1, 'num_stacks': 3, 'layer_widths': 136, 'activation': 'GELU'}\n",
      "Best value: 82.99427929841275, Best params: {'input_chunk_length': 60, 'dropout': 0.35, 'batch_size': 208, 'lr': 0.00013929636378647018, 'weight_decay': 2.784544338277865e-05, 'num_layers': 5, 'num_blocks': 3, 'num_stacks': 3, 'layer_widths': 32, 'activation': 'ReLU'}\n",
      "\n",
      "Fold 1/3\n"
     ]
    },
    {
     "name": "stderr",
     "output_type": "stream",
     "text": [
      "[I 2025-06-10 16:45:42,898] Trial 47 pruned. Trial was pruned at epoch 0.\n",
      "GPU available: True (cuda), used: True\n",
      "TPU available: False, using: 0 TPU cores\n",
      "HPU available: False, using: 0 HPUs\n",
      "LOCAL_RANK: 0 - CUDA_VISIBLE_DEVICES: [0]\n"
     ]
    },
    {
     "name": "stdout",
     "output_type": "stream",
     "text": [
      "Current value: 10.050632429224414, Current params: {'input_chunk_length': 72, 'dropout': 0.5, 'batch_size': 248, 'lr': 0.0034064457631952606, 'weight_decay': 2.425923437337491e-05, 'num_layers': 5, 'num_blocks': 3, 'num_stacks': 1, 'layer_widths': 40, 'activation': 'ReLU'}\n",
      "Best value: 82.99427929841275, Best params: {'input_chunk_length': 60, 'dropout': 0.35, 'batch_size': 208, 'lr': 0.00013929636378647018, 'weight_decay': 2.784544338277865e-05, 'num_layers': 5, 'num_blocks': 3, 'num_stacks': 3, 'layer_widths': 32, 'activation': 'ReLU'}\n",
      "\n",
      "Fold 1/3\n"
     ]
    },
    {
     "name": "stderr",
     "output_type": "stream",
     "text": [
      "[I 2025-06-10 16:45:45,554] Trial 48 pruned. Trial was pruned at epoch 0.\n"
     ]
    },
    {
     "name": "stdout",
     "output_type": "stream",
     "text": [
      "Current value: 8.86013354732584, Current params: {'input_chunk_length': 24, 'dropout': 0.25, 'batch_size': 200, 'lr': 3.040392081645219e-06, 'weight_decay': 6.231237338192259e-06, 'num_layers': 4, 'num_blocks': 4, 'num_stacks': 2, 'layer_widths': 72, 'activation': 'ReLU'}\n",
      "Best value: 82.99427929841275, Best params: {'input_chunk_length': 60, 'dropout': 0.35, 'batch_size': 208, 'lr': 0.00013929636378647018, 'weight_decay': 2.784544338277865e-05, 'num_layers': 5, 'num_blocks': 3, 'num_stacks': 3, 'layer_widths': 32, 'activation': 'ReLU'}\n",
      "\n",
      "Fold 1/3\n"
     ]
    },
    {
     "name": "stderr",
     "output_type": "stream",
     "text": [
      "GPU available: True (cuda), used: True\n",
      "TPU available: False, using: 0 TPU cores\n",
      "HPU available: False, using: 0 HPUs\n",
      "LOCAL_RANK: 0 - CUDA_VISIBLE_DEVICES: [0]\n",
      "[I 2025-06-10 16:46:43,434] Trial 49 pruned. Trial was pruned at epoch 0.\n",
      "GPU available: True (cuda), used: True\n",
      "TPU available: False, using: 0 TPU cores\n",
      "HPU available: False, using: 0 HPUs\n",
      "LOCAL_RANK: 0 - CUDA_VISIBLE_DEVICES: [0]\n"
     ]
    },
    {
     "name": "stdout",
     "output_type": "stream",
     "text": [
      "Current value: 9.077196988145204, Current params: {'input_chunk_length': 36, 'dropout': 0.1, 'batch_size': 240, 'lr': 4.49100691116275e-05, 'weight_decay': 0.004892059414480191, 'num_layers': 4, 'num_blocks': 3, 'num_stacks': 4, 'layer_widths': 32, 'activation': 'ReLU'}\n",
      "Best value: 82.99427929841275, Best params: {'input_chunk_length': 60, 'dropout': 0.35, 'batch_size': 208, 'lr': 0.00013929636378647018, 'weight_decay': 2.784544338277865e-05, 'num_layers': 5, 'num_blocks': 3, 'num_stacks': 3, 'layer_widths': 32, 'activation': 'ReLU'}\n",
      "\n",
      "Fold 1/3\n"
     ]
    },
    {
     "name": "stderr",
     "output_type": "stream",
     "text": [
      "[I 2025-06-10 16:46:46,586] Trial 50 pruned. Trial was pruned at epoch 0.\n",
      "GPU available: True (cuda), used: True\n",
      "TPU available: False, using: 0 TPU cores\n",
      "HPU available: False, using: 0 HPUs\n",
      "LOCAL_RANK: 0 - CUDA_VISIBLE_DEVICES: [0]\n"
     ]
    },
    {
     "name": "stdout",
     "output_type": "stream",
     "text": [
      "Current value: 11.64744026173395, Current params: {'input_chunk_length': 120, 'dropout': 0.15000000000000002, 'batch_size': 120, 'lr': 0.0003388060074974746, 'weight_decay': 0.0011102650343150372, 'num_layers': 5, 'num_blocks': 5, 'num_stacks': 2, 'layer_widths': 232, 'activation': 'ReLU'}\n",
      "Best value: 82.99427929841275, Best params: {'input_chunk_length': 60, 'dropout': 0.35, 'batch_size': 208, 'lr': 0.00013929636378647018, 'weight_decay': 2.784544338277865e-05, 'num_layers': 5, 'num_blocks': 3, 'num_stacks': 3, 'layer_widths': 32, 'activation': 'ReLU'}\n",
      "\n",
      "Fold 1/3\n"
     ]
    },
    {
     "name": "stderr",
     "output_type": "stream",
     "text": [
      "Metric val_loss improved. New best score: 8.100\n",
      "Metric val_loss improved by 0.025 >= min_delta = 0.0005. New best score: 8.076\n",
      "Monitored metric val_loss did not improve in the last 15 records. Best score: 8.076. Signaling Trainer to stop.\n",
      "GPU available: True (cuda), used: True\n",
      "TPU available: False, using: 0 TPU cores\n",
      "HPU available: False, using: 0 HPUs\n",
      "LOCAL_RANK: 0 - CUDA_VISIBLE_DEVICES: [0]\n"
     ]
    },
    {
     "name": "stdout",
     "output_type": "stream",
     "text": [
      "Model loaded from checkpoint for trial 51, fold 0\n"
     ]
    },
    {
     "name": "stderr",
     "output_type": "stream",
     "text": [
      "Exception ignored in: <function _ConnectionBase.__del__ at 0x7f58c5b2ba60>\n",
      "Traceback (most recent call last):\n",
      "  File \"/usr/lib/python3.12/multiprocessing/connection.py\", line 133, in __del__\n",
      "    self._close()\n",
      "  File \"/usr/lib/python3.12/multiprocessing/connection.py\", line 377, in _close\n",
      "    _close(self._handle)\n",
      "OSError: [Errno 9] Bad file descriptor\n",
      "Exception in thread QueueFeederThread:\n",
      "Traceback (most recent call last):\n",
      "  File \"/usr/lib/python3.12/multiprocessing/queues.py\", line 259, in _feed\n",
      "    reader_close()\n",
      "  File \"/usr/lib/python3.12/multiprocessing/connection.py\", line 178, in close\n",
      "    self._close()\n",
      "  File \"/usr/lib/python3.12/multiprocessing/connection.py\", line 377, in _close\n",
      "    _close(self._handle)\n",
      "OSError: [Errno 9] Bad file descriptor\n",
      "\n",
      "During handling of the above exception, another exception occurred:\n",
      "\n",
      "Traceback (most recent call last):\n",
      "  File \"/usr/lib/python3.12/threading.py\", line 1073, in _bootstrap_inner\n",
      "    self.run()\n",
      "  File \"/home/eduardo/Documentos/Water-Cycle-Neural-Network/venv/lib/python3.12/site-packages/ipykernel/ipkernel.py\", line 766, in run_closure\n",
      "    _threading_Thread_run(self)\n",
      "  File \"/usr/lib/python3.12/threading.py\", line 1010, in run\n",
      "    self._target(*self._args, **self._kwargs)\n",
      "  File \"/usr/lib/python3.12/multiprocessing/queues.py\", line 291, in _feed\n",
      "    queue_sem.release()\n",
      "ValueError: semaphore or lock released too many times\n",
      "GPU available: True (cuda), used: True\n",
      "TPU available: False, using: 0 TPU cores\n",
      "HPU available: False, using: 0 HPUs\n",
      "LOCAL_RANK: 0 - CUDA_VISIBLE_DEVICES: [0]\n"
     ]
    },
    {
     "name": "stdout",
     "output_type": "stream",
     "text": [
      "SMAPE fold 0: 117.20752816900381\n",
      "\n",
      "Fold 2/3\n"
     ]
    },
    {
     "name": "stderr",
     "output_type": "stream",
     "text": [
      "/home/eduardo/Documentos/Water-Cycle-Neural-Network/venv/lib/python3.12/site-packages/optuna/trial/_trial.py:497: UserWarning: The reported value is ignored because this `step` 0 is already reported.\n",
      "  warnings.warn(\n",
      "Metric val_loss improved by 7.606 >= min_delta = 0.0005. New best score: 0.470\n",
      "/home/eduardo/Documentos/Water-Cycle-Neural-Network/venv/lib/python3.12/site-packages/optuna/trial/_trial.py:497: UserWarning: The reported value is ignored because this `step` 1 is already reported.\n",
      "  warnings.warn(\n",
      "Metric val_loss improved by 0.055 >= min_delta = 0.0005. New best score: 0.415\n",
      "/home/eduardo/Documentos/Water-Cycle-Neural-Network/venv/lib/python3.12/site-packages/optuna/trial/_trial.py:497: UserWarning: The reported value is ignored because this `step` 2 is already reported.\n",
      "  warnings.warn(\n",
      "Metric val_loss improved by 0.040 >= min_delta = 0.0005. New best score: 0.375\n",
      "/home/eduardo/Documentos/Water-Cycle-Neural-Network/venv/lib/python3.12/site-packages/optuna/trial/_trial.py:497: UserWarning: The reported value is ignored because this `step` 3 is already reported.\n",
      "  warnings.warn(\n",
      "Metric val_loss improved by 0.025 >= min_delta = 0.0005. New best score: 0.350\n",
      "/home/eduardo/Documentos/Water-Cycle-Neural-Network/venv/lib/python3.12/site-packages/optuna/trial/_trial.py:497: UserWarning: The reported value is ignored because this `step` 4 is already reported.\n",
      "  warnings.warn(\n",
      "Metric val_loss improved by 0.029 >= min_delta = 0.0005. New best score: 0.321\n",
      "/home/eduardo/Documentos/Water-Cycle-Neural-Network/venv/lib/python3.12/site-packages/optuna/trial/_trial.py:497: UserWarning: The reported value is ignored because this `step` 5 is already reported.\n",
      "  warnings.warn(\n",
      "Metric val_loss improved by 0.039 >= min_delta = 0.0005. New best score: 0.282\n",
      "/home/eduardo/Documentos/Water-Cycle-Neural-Network/venv/lib/python3.12/site-packages/optuna/trial/_trial.py:497: UserWarning: The reported value is ignored because this `step` 6 is already reported.\n",
      "  warnings.warn(\n",
      "Metric val_loss improved by 0.046 >= min_delta = 0.0005. New best score: 0.236\n",
      "/home/eduardo/Documentos/Water-Cycle-Neural-Network/venv/lib/python3.12/site-packages/optuna/trial/_trial.py:497: UserWarning: The reported value is ignored because this `step` 7 is already reported.\n",
      "  warnings.warn(\n",
      "Metric val_loss improved by 0.039 >= min_delta = 0.0005. New best score: 0.197\n",
      "/home/eduardo/Documentos/Water-Cycle-Neural-Network/venv/lib/python3.12/site-packages/optuna/trial/_trial.py:497: UserWarning: The reported value is ignored because this `step` 8 is already reported.\n",
      "  warnings.warn(\n",
      "Metric val_loss improved by 0.029 >= min_delta = 0.0005. New best score: 0.168\n",
      "/home/eduardo/Documentos/Water-Cycle-Neural-Network/venv/lib/python3.12/site-packages/optuna/trial/_trial.py:497: UserWarning: The reported value is ignored because this `step` 9 is already reported.\n",
      "  warnings.warn(\n",
      "Metric val_loss improved by 0.023 >= min_delta = 0.0005. New best score: 0.145\n",
      "/home/eduardo/Documentos/Water-Cycle-Neural-Network/venv/lib/python3.12/site-packages/optuna/trial/_trial.py:497: UserWarning: The reported value is ignored because this `step` 10 is already reported.\n",
      "  warnings.warn(\n",
      "Metric val_loss improved by 0.020 >= min_delta = 0.0005. New best score: 0.125\n",
      "/home/eduardo/Documentos/Water-Cycle-Neural-Network/venv/lib/python3.12/site-packages/optuna/trial/_trial.py:497: UserWarning: The reported value is ignored because this `step` 11 is already reported.\n",
      "  warnings.warn(\n",
      "Metric val_loss improved by 0.007 >= min_delta = 0.0005. New best score: 0.118\n",
      "/home/eduardo/Documentos/Water-Cycle-Neural-Network/venv/lib/python3.12/site-packages/optuna/trial/_trial.py:497: UserWarning: The reported value is ignored because this `step` 12 is already reported.\n",
      "  warnings.warn(\n",
      "Metric val_loss improved by 0.009 >= min_delta = 0.0005. New best score: 0.110\n",
      "/home/eduardo/Documentos/Water-Cycle-Neural-Network/venv/lib/python3.12/site-packages/optuna/trial/_trial.py:497: UserWarning: The reported value is ignored because this `step` 13 is already reported.\n",
      "  warnings.warn(\n",
      "Metric val_loss improved by 0.011 >= min_delta = 0.0005. New best score: 0.099\n",
      "/home/eduardo/Documentos/Water-Cycle-Neural-Network/venv/lib/python3.12/site-packages/optuna/trial/_trial.py:497: UserWarning: The reported value is ignored because this `step` 14 is already reported.\n",
      "  warnings.warn(\n",
      "Metric val_loss improved by 0.004 >= min_delta = 0.0005. New best score: 0.095\n",
      "/home/eduardo/Documentos/Water-Cycle-Neural-Network/venv/lib/python3.12/site-packages/optuna/trial/_trial.py:497: UserWarning: The reported value is ignored because this `step` 15 is already reported.\n",
      "  warnings.warn(\n",
      "Metric val_loss improved by 0.012 >= min_delta = 0.0005. New best score: 0.083\n",
      "/home/eduardo/Documentos/Water-Cycle-Neural-Network/venv/lib/python3.12/site-packages/optuna/trial/_trial.py:497: UserWarning: The reported value is ignored because this `step` 16 is already reported.\n",
      "  warnings.warn(\n",
      "Metric val_loss improved by 0.001 >= min_delta = 0.0005. New best score: 0.083\n",
      "Metric val_loss improved by 0.005 >= min_delta = 0.0005. New best score: 0.078\n",
      "Metric val_loss improved by 0.001 >= min_delta = 0.0005. New best score: 0.077\n",
      "Metric val_loss improved by 0.001 >= min_delta = 0.0005. New best score: 0.076\n",
      "Metric val_loss improved by 0.001 >= min_delta = 0.0005. New best score: 0.075\n",
      "Metric val_loss improved by 0.002 >= min_delta = 0.0005. New best score: 0.072\n",
      "Metric val_loss improved by 0.003 >= min_delta = 0.0005. New best score: 0.070\n",
      "`Trainer.fit` stopped: `max_epochs=30` reached.\n",
      "GPU available: True (cuda), used: True\n",
      "TPU available: False, using: 0 TPU cores\n",
      "HPU available: False, using: 0 HPUs\n",
      "LOCAL_RANK: 0 - CUDA_VISIBLE_DEVICES: [0]\n"
     ]
    },
    {
     "name": "stdout",
     "output_type": "stream",
     "text": [
      "Model loaded from checkpoint for trial 51, fold 1\n"
     ]
    },
    {
     "name": "stderr",
     "output_type": "stream",
     "text": [
      "GPU available: True (cuda), used: True\n",
      "TPU available: False, using: 0 TPU cores\n",
      "HPU available: False, using: 0 HPUs\n",
      "LOCAL_RANK: 0 - CUDA_VISIBLE_DEVICES: [0]\n"
     ]
    },
    {
     "name": "stdout",
     "output_type": "stream",
     "text": [
      "SMAPE fold 1: 65.29907958831876\n",
      "\n",
      "Fold 3/3\n"
     ]
    },
    {
     "name": "stderr",
     "output_type": "stream",
     "text": [
      "/home/eduardo/Documentos/Water-Cycle-Neural-Network/venv/lib/python3.12/site-packages/optuna/trial/_trial.py:497: UserWarning: The reported value is ignored because this `step` 0 is already reported.\n",
      "  warnings.warn(\n",
      "/home/eduardo/Documentos/Water-Cycle-Neural-Network/venv/lib/python3.12/site-packages/optuna/trial/_trial.py:497: UserWarning: The reported value is ignored because this `step` 1 is already reported.\n",
      "  warnings.warn(\n",
      "/home/eduardo/Documentos/Water-Cycle-Neural-Network/venv/lib/python3.12/site-packages/optuna/trial/_trial.py:497: UserWarning: The reported value is ignored because this `step` 2 is already reported.\n",
      "  warnings.warn(\n",
      "/home/eduardo/Documentos/Water-Cycle-Neural-Network/venv/lib/python3.12/site-packages/optuna/trial/_trial.py:497: UserWarning: The reported value is ignored because this `step` 3 is already reported.\n",
      "  warnings.warn(\n",
      "/home/eduardo/Documentos/Water-Cycle-Neural-Network/venv/lib/python3.12/site-packages/optuna/trial/_trial.py:497: UserWarning: The reported value is ignored because this `step` 4 is already reported.\n",
      "  warnings.warn(\n",
      "/home/eduardo/Documentos/Water-Cycle-Neural-Network/venv/lib/python3.12/site-packages/optuna/trial/_trial.py:497: UserWarning: The reported value is ignored because this `step` 5 is already reported.\n",
      "  warnings.warn(\n",
      "/home/eduardo/Documentos/Water-Cycle-Neural-Network/venv/lib/python3.12/site-packages/optuna/trial/_trial.py:497: UserWarning: The reported value is ignored because this `step` 6 is already reported.\n",
      "  warnings.warn(\n",
      "/home/eduardo/Documentos/Water-Cycle-Neural-Network/venv/lib/python3.12/site-packages/optuna/trial/_trial.py:497: UserWarning: The reported value is ignored because this `step` 7 is already reported.\n",
      "  warnings.warn(\n",
      "/home/eduardo/Documentos/Water-Cycle-Neural-Network/venv/lib/python3.12/site-packages/optuna/trial/_trial.py:497: UserWarning: The reported value is ignored because this `step` 8 is already reported.\n",
      "  warnings.warn(\n",
      "Monitored metric val_loss did not improve in the last 15 records. Best score: 0.070. Signaling Trainer to stop.\n",
      "GPU available: True (cuda), used: True\n",
      "TPU available: False, using: 0 TPU cores\n",
      "HPU available: False, using: 0 HPUs\n",
      "LOCAL_RANK: 0 - CUDA_VISIBLE_DEVICES: [0]\n"
     ]
    },
    {
     "name": "stdout",
     "output_type": "stream",
     "text": [
      "Model loaded from checkpoint for trial 51, fold 2\n"
     ]
    },
    {
     "name": "stderr",
     "output_type": "stream",
     "text": [
      "[I 2025-06-10 16:51:55,553] Trial 51 finished with value: 89.38146072240816 and parameters: {'input_chunk_length': 60, 'dropout': 0.4, 'batch_size': 208, 'lr': 0.0001093559094729647, 'weight_decay': 0.00040186614881895544, 'num_layers': 5, 'num_blocks': 4, 'num_stacks': 2, 'layer_widths': 72, 'activation': 'ReLU'}. Best is trial 12 with value: 82.99427929841275.\n",
      "GPU available: True (cuda), used: True\n",
      "TPU available: False, using: 0 TPU cores\n",
      "HPU available: False, using: 0 HPUs\n",
      "LOCAL_RANK: 0 - CUDA_VISIBLE_DEVICES: [0]\n"
     ]
    },
    {
     "name": "stdout",
     "output_type": "stream",
     "text": [
      "SMAPE fold 2: 85.63777440990191\n",
      "Média dos SMAPE nos folds: 89.38146072240816\n",
      "Results of trial 51 saved in optuna_iteration_metrics/trial_51.json\n",
      "Current value: 89.38146072240816, Current params: {'input_chunk_length': 60, 'dropout': 0.4, 'batch_size': 208, 'lr': 0.0001093559094729647, 'weight_decay': 0.00040186614881895544, 'num_layers': 5, 'num_blocks': 4, 'num_stacks': 2, 'layer_widths': 72, 'activation': 'ReLU'}\n",
      "Best value: 82.99427929841275, Best params: {'input_chunk_length': 60, 'dropout': 0.35, 'batch_size': 208, 'lr': 0.00013929636378647018, 'weight_decay': 2.784544338277865e-05, 'num_layers': 5, 'num_blocks': 3, 'num_stacks': 3, 'layer_widths': 32, 'activation': 'ReLU'}\n",
      "\n",
      "Fold 1/3\n"
     ]
    },
    {
     "name": "stderr",
     "output_type": "stream",
     "text": [
      "Metric val_loss improved. New best score: 8.096\n",
      "Monitored metric val_loss did not improve in the last 15 records. Best score: 8.096. Signaling Trainer to stop.\n",
      "GPU available: True (cuda), used: True\n",
      "TPU available: False, using: 0 TPU cores\n",
      "HPU available: False, using: 0 HPUs\n",
      "LOCAL_RANK: 0 - CUDA_VISIBLE_DEVICES: [0]\n"
     ]
    },
    {
     "name": "stdout",
     "output_type": "stream",
     "text": [
      "Model loaded from checkpoint for trial 52, fold 0\n"
     ]
    },
    {
     "name": "stderr",
     "output_type": "stream",
     "text": [
      "GPU available: True (cuda), used: True\n",
      "TPU available: False, using: 0 TPU cores\n",
      "HPU available: False, using: 0 HPUs\n",
      "LOCAL_RANK: 0 - CUDA_VISIBLE_DEVICES: [0]\n"
     ]
    },
    {
     "name": "stdout",
     "output_type": "stream",
     "text": [
      "SMAPE fold 0: 115.67919580562426\n",
      "\n",
      "Fold 2/3\n"
     ]
    },
    {
     "name": "stderr",
     "output_type": "stream",
     "text": [
      "/home/eduardo/Documentos/Water-Cycle-Neural-Network/venv/lib/python3.12/site-packages/optuna/trial/_trial.py:497: UserWarning: The reported value is ignored because this `step` 0 is already reported.\n",
      "  warnings.warn(\n",
      "Metric val_loss improved by 7.627 >= min_delta = 0.0005. New best score: 0.470\n",
      "/home/eduardo/Documentos/Water-Cycle-Neural-Network/venv/lib/python3.12/site-packages/optuna/trial/_trial.py:497: UserWarning: The reported value is ignored because this `step` 1 is already reported.\n",
      "  warnings.warn(\n",
      "Metric val_loss improved by 0.040 >= min_delta = 0.0005. New best score: 0.430\n",
      "/home/eduardo/Documentos/Water-Cycle-Neural-Network/venv/lib/python3.12/site-packages/optuna/trial/_trial.py:497: UserWarning: The reported value is ignored because this `step` 2 is already reported.\n",
      "  warnings.warn(\n",
      "Metric val_loss improved by 0.038 >= min_delta = 0.0005. New best score: 0.391\n",
      "/home/eduardo/Documentos/Water-Cycle-Neural-Network/venv/lib/python3.12/site-packages/optuna/trial/_trial.py:497: UserWarning: The reported value is ignored because this `step` 3 is already reported.\n",
      "  warnings.warn(\n",
      "Metric val_loss improved by 0.033 >= min_delta = 0.0005. New best score: 0.359\n",
      "/home/eduardo/Documentos/Water-Cycle-Neural-Network/venv/lib/python3.12/site-packages/optuna/trial/_trial.py:497: UserWarning: The reported value is ignored because this `step` 4 is already reported.\n",
      "  warnings.warn(\n",
      "Metric val_loss improved by 0.038 >= min_delta = 0.0005. New best score: 0.320\n",
      "/home/eduardo/Documentos/Water-Cycle-Neural-Network/venv/lib/python3.12/site-packages/optuna/trial/_trial.py:497: UserWarning: The reported value is ignored because this `step` 5 is already reported.\n",
      "  warnings.warn(\n",
      "Metric val_loss improved by 0.048 >= min_delta = 0.0005. New best score: 0.273\n",
      "/home/eduardo/Documentos/Water-Cycle-Neural-Network/venv/lib/python3.12/site-packages/optuna/trial/_trial.py:497: UserWarning: The reported value is ignored because this `step` 6 is already reported.\n",
      "  warnings.warn(\n",
      "Metric val_loss improved by 0.039 >= min_delta = 0.0005. New best score: 0.234\n",
      "/home/eduardo/Documentos/Water-Cycle-Neural-Network/venv/lib/python3.12/site-packages/optuna/trial/_trial.py:497: UserWarning: The reported value is ignored because this `step` 7 is already reported.\n",
      "  warnings.warn(\n",
      "Metric val_loss improved by 0.032 >= min_delta = 0.0005. New best score: 0.202\n",
      "/home/eduardo/Documentos/Water-Cycle-Neural-Network/venv/lib/python3.12/site-packages/optuna/trial/_trial.py:497: UserWarning: The reported value is ignored because this `step` 8 is already reported.\n",
      "  warnings.warn(\n",
      "Metric val_loss improved by 0.025 >= min_delta = 0.0005. New best score: 0.177\n",
      "/home/eduardo/Documentos/Water-Cycle-Neural-Network/venv/lib/python3.12/site-packages/optuna/trial/_trial.py:497: UserWarning: The reported value is ignored because this `step` 9 is already reported.\n",
      "  warnings.warn(\n",
      "Metric val_loss improved by 0.015 >= min_delta = 0.0005. New best score: 0.162\n",
      "/home/eduardo/Documentos/Water-Cycle-Neural-Network/venv/lib/python3.12/site-packages/optuna/trial/_trial.py:497: UserWarning: The reported value is ignored because this `step` 10 is already reported.\n",
      "  warnings.warn(\n",
      "Metric val_loss improved by 0.023 >= min_delta = 0.0005. New best score: 0.139\n",
      "/home/eduardo/Documentos/Water-Cycle-Neural-Network/venv/lib/python3.12/site-packages/optuna/trial/_trial.py:497: UserWarning: The reported value is ignored because this `step` 11 is already reported.\n",
      "  warnings.warn(\n",
      "/home/eduardo/Documentos/Water-Cycle-Neural-Network/venv/lib/python3.12/site-packages/optuna/trial/_trial.py:497: UserWarning: The reported value is ignored because this `step` 12 is already reported.\n",
      "  warnings.warn(\n",
      "Metric val_loss improved by 0.008 >= min_delta = 0.0005. New best score: 0.131\n",
      "/home/eduardo/Documentos/Water-Cycle-Neural-Network/venv/lib/python3.12/site-packages/optuna/trial/_trial.py:497: UserWarning: The reported value is ignored because this `step` 13 is already reported.\n",
      "  warnings.warn(\n",
      "Metric val_loss improved by 0.017 >= min_delta = 0.0005. New best score: 0.115\n",
      "/home/eduardo/Documentos/Water-Cycle-Neural-Network/venv/lib/python3.12/site-packages/optuna/trial/_trial.py:497: UserWarning: The reported value is ignored because this `step` 14 is already reported.\n",
      "  warnings.warn(\n",
      "Metric val_loss improved by 0.001 >= min_delta = 0.0005. New best score: 0.113\n",
      "/home/eduardo/Documentos/Water-Cycle-Neural-Network/venv/lib/python3.12/site-packages/optuna/trial/_trial.py:497: UserWarning: The reported value is ignored because this `step` 15 is already reported.\n",
      "  warnings.warn(\n",
      "Metric val_loss improved by 0.017 >= min_delta = 0.0005. New best score: 0.096\n",
      "[I 2025-06-10 16:52:58,746] Trial 52 pruned. Trial was pruned at epoch 17.\n",
      "GPU available: True (cuda), used: True\n",
      "TPU available: False, using: 0 TPU cores\n",
      "HPU available: False, using: 0 HPUs\n",
      "LOCAL_RANK: 0 - CUDA_VISIBLE_DEVICES: [0]\n"
     ]
    },
    {
     "name": "stdout",
     "output_type": "stream",
     "text": [
      "Current value: 0.09278546955074415, Current params: {'input_chunk_length': 72, 'dropout': 0.4, 'batch_size': 200, 'lr': 0.00011335002256993166, 'weight_decay': 0.0005579061573192888, 'num_layers': 5, 'num_blocks': 4, 'num_stacks': 2, 'layer_widths': 56, 'activation': 'ReLU'}\n",
      "Best value: 82.99427929841275, Best params: {'input_chunk_length': 60, 'dropout': 0.35, 'batch_size': 208, 'lr': 0.00013929636378647018, 'weight_decay': 2.784544338277865e-05, 'num_layers': 5, 'num_blocks': 3, 'num_stacks': 3, 'layer_widths': 32, 'activation': 'ReLU'}\n",
      "\n",
      "Fold 1/3\n"
     ]
    },
    {
     "name": "stderr",
     "output_type": "stream",
     "text": [
      "[I 2025-06-10 16:53:01,562] Trial 53 pruned. Trial was pruned at epoch 0.\n",
      "GPU available: True (cuda), used: True\n",
      "TPU available: False, using: 0 TPU cores\n",
      "HPU available: False, using: 0 HPUs\n",
      "LOCAL_RANK: 0 - CUDA_VISIBLE_DEVICES: [0]\n"
     ]
    },
    {
     "name": "stdout",
     "output_type": "stream",
     "text": [
      "Current value: 8.256483764309776, Current params: {'input_chunk_length': 60, 'dropout': 0.35, 'batch_size': 216, 'lr': 3.3286345829784e-05, 'weight_decay': 0.00012697458154206772, 'num_layers': 5, 'num_blocks': 4, 'num_stacks': 2, 'layer_widths': 80, 'activation': 'ReLU'}\n",
      "Best value: 82.99427929841275, Best params: {'input_chunk_length': 60, 'dropout': 0.35, 'batch_size': 208, 'lr': 0.00013929636378647018, 'weight_decay': 2.784544338277865e-05, 'num_layers': 5, 'num_blocks': 3, 'num_stacks': 3, 'layer_widths': 32, 'activation': 'ReLU'}\n",
      "\n",
      "Fold 1/3\n"
     ]
    },
    {
     "name": "stderr",
     "output_type": "stream",
     "text": [
      "Metric val_loss improved. New best score: 7.973\n",
      "Monitored metric val_loss did not improve in the last 15 records. Best score: 7.973. Signaling Trainer to stop.\n",
      "GPU available: True (cuda), used: True\n",
      "TPU available: False, using: 0 TPU cores\n",
      "HPU available: False, using: 0 HPUs\n",
      "LOCAL_RANK: 0 - CUDA_VISIBLE_DEVICES: [0]\n"
     ]
    },
    {
     "name": "stdout",
     "output_type": "stream",
     "text": [
      "Model loaded from checkpoint for trial 54, fold 0\n"
     ]
    },
    {
     "name": "stderr",
     "output_type": "stream",
     "text": [
      "GPU available: True (cuda), used: True\n",
      "TPU available: False, using: 0 TPU cores\n",
      "HPU available: False, using: 0 HPUs\n",
      "LOCAL_RANK: 0 - CUDA_VISIBLE_DEVICES: [0]\n"
     ]
    },
    {
     "name": "stdout",
     "output_type": "stream",
     "text": [
      "SMAPE fold 0: 110.26449420638036\n",
      "\n",
      "Fold 2/3\n"
     ]
    },
    {
     "name": "stderr",
     "output_type": "stream",
     "text": [
      "/home/eduardo/Documentos/Water-Cycle-Neural-Network/venv/lib/python3.12/site-packages/optuna/trial/_trial.py:497: UserWarning: The reported value is ignored because this `step` 0 is already reported.\n",
      "  warnings.warn(\n",
      "Metric val_loss improved by 7.538 >= min_delta = 0.0005. New best score: 0.435\n",
      "/home/eduardo/Documentos/Water-Cycle-Neural-Network/venv/lib/python3.12/site-packages/optuna/trial/_trial.py:497: UserWarning: The reported value is ignored because this `step` 1 is already reported.\n",
      "  warnings.warn(\n",
      "Metric val_loss improved by 0.017 >= min_delta = 0.0005. New best score: 0.418\n",
      "/home/eduardo/Documentos/Water-Cycle-Neural-Network/venv/lib/python3.12/site-packages/optuna/trial/_trial.py:497: UserWarning: The reported value is ignored because this `step` 2 is already reported.\n",
      "  warnings.warn(\n",
      "Metric val_loss improved by 0.016 >= min_delta = 0.0005. New best score: 0.403\n",
      "/home/eduardo/Documentos/Water-Cycle-Neural-Network/venv/lib/python3.12/site-packages/optuna/trial/_trial.py:497: UserWarning: The reported value is ignored because this `step` 3 is already reported.\n",
      "  warnings.warn(\n",
      "Metric val_loss improved by 0.012 >= min_delta = 0.0005. New best score: 0.391\n",
      "/home/eduardo/Documentos/Water-Cycle-Neural-Network/venv/lib/python3.12/site-packages/optuna/trial/_trial.py:497: UserWarning: The reported value is ignored because this `step` 4 is already reported.\n",
      "  warnings.warn(\n",
      "Metric val_loss improved by 0.005 >= min_delta = 0.0005. New best score: 0.386\n",
      "/home/eduardo/Documentos/Water-Cycle-Neural-Network/venv/lib/python3.12/site-packages/optuna/trial/_trial.py:497: UserWarning: The reported value is ignored because this `step` 5 is already reported.\n",
      "  warnings.warn(\n",
      "Metric val_loss improved by 0.001 >= min_delta = 0.0005. New best score: 0.385\n",
      "/home/eduardo/Documentos/Water-Cycle-Neural-Network/venv/lib/python3.12/site-packages/optuna/trial/_trial.py:497: UserWarning: The reported value is ignored because this `step` 6 is already reported.\n",
      "  warnings.warn(\n",
      "/home/eduardo/Documentos/Water-Cycle-Neural-Network/venv/lib/python3.12/site-packages/optuna/trial/_trial.py:497: UserWarning: The reported value is ignored because this `step` 7 is already reported.\n",
      "  warnings.warn(\n",
      "/home/eduardo/Documentos/Water-Cycle-Neural-Network/venv/lib/python3.12/site-packages/optuna/trial/_trial.py:497: UserWarning: The reported value is ignored because this `step` 8 is already reported.\n",
      "  warnings.warn(\n",
      "/home/eduardo/Documentos/Water-Cycle-Neural-Network/venv/lib/python3.12/site-packages/optuna/trial/_trial.py:497: UserWarning: The reported value is ignored because this `step` 9 is already reported.\n",
      "  warnings.warn(\n",
      "/home/eduardo/Documentos/Water-Cycle-Neural-Network/venv/lib/python3.12/site-packages/optuna/trial/_trial.py:497: UserWarning: The reported value is ignored because this `step` 10 is already reported.\n",
      "  warnings.warn(\n",
      "/home/eduardo/Documentos/Water-Cycle-Neural-Network/venv/lib/python3.12/site-packages/optuna/trial/_trial.py:497: UserWarning: The reported value is ignored because this `step` 11 is already reported.\n",
      "  warnings.warn(\n",
      "/home/eduardo/Documentos/Water-Cycle-Neural-Network/venv/lib/python3.12/site-packages/optuna/trial/_trial.py:497: UserWarning: The reported value is ignored because this `step` 12 is already reported.\n",
      "  warnings.warn(\n",
      "/home/eduardo/Documentos/Water-Cycle-Neural-Network/venv/lib/python3.12/site-packages/optuna/trial/_trial.py:497: UserWarning: The reported value is ignored because this `step` 13 is already reported.\n",
      "  warnings.warn(\n",
      "/home/eduardo/Documentos/Water-Cycle-Neural-Network/venv/lib/python3.12/site-packages/optuna/trial/_trial.py:497: UserWarning: The reported value is ignored because this `step` 14 is already reported.\n",
      "  warnings.warn(\n",
      "/home/eduardo/Documentos/Water-Cycle-Neural-Network/venv/lib/python3.12/site-packages/optuna/trial/_trial.py:497: UserWarning: The reported value is ignored because this `step` 15 is already reported.\n",
      "  warnings.warn(\n",
      "[I 2025-06-10 16:53:57,963] Trial 54 pruned. Trial was pruned at epoch 17.\n",
      "GPU available: True (cuda), used: True\n",
      "TPU available: False, using: 0 TPU cores\n",
      "HPU available: False, using: 0 HPUs\n",
      "LOCAL_RANK: 0 - CUDA_VISIBLE_DEVICES: [0]\n"
     ]
    },
    {
     "name": "stdout",
     "output_type": "stream",
     "text": [
      "Current value: 0.38503632195467313, Current params: {'input_chunk_length': 48, 'dropout': 0.4, 'batch_size': 184, 'lr': 0.00016165691271513555, 'weight_decay': 0.0017133583125872637, 'num_layers': 5, 'num_blocks': 2, 'num_stacks': 1, 'layer_widths': 40, 'activation': 'ReLU'}\n",
      "Best value: 82.99427929841275, Best params: {'input_chunk_length': 60, 'dropout': 0.35, 'batch_size': 208, 'lr': 0.00013929636378647018, 'weight_decay': 2.784544338277865e-05, 'num_layers': 5, 'num_blocks': 3, 'num_stacks': 3, 'layer_widths': 32, 'activation': 'ReLU'}\n",
      "\n",
      "Fold 1/3\n"
     ]
    },
    {
     "name": "stderr",
     "output_type": "stream",
     "text": [
      "[I 2025-06-10 16:54:00,642] Trial 55 pruned. Trial was pruned at epoch 0.\n",
      "GPU available: True (cuda), used: True\n",
      "TPU available: False, using: 0 TPU cores\n",
      "HPU available: False, using: 0 HPUs\n",
      "LOCAL_RANK: 0 - CUDA_VISIBLE_DEVICES: [0]\n"
     ]
    },
    {
     "name": "stdout",
     "output_type": "stream",
     "text": [
      "Current value: 8.320294099992722, Current params: {'input_chunk_length': 84, 'dropout': 0.45000000000000007, 'batch_size': 160, 'lr': 6.773665717518535e-05, 'weight_decay': 0.00023122708898441025, 'num_layers': 5, 'num_blocks': 3, 'num_stacks': 3, 'layer_widths': 88, 'activation': 'ReLU'}\n",
      "Best value: 82.99427929841275, Best params: {'input_chunk_length': 60, 'dropout': 0.35, 'batch_size': 208, 'lr': 0.00013929636378647018, 'weight_decay': 2.784544338277865e-05, 'num_layers': 5, 'num_blocks': 3, 'num_stacks': 3, 'layer_widths': 32, 'activation': 'ReLU'}\n",
      "\n",
      "Fold 1/3\n"
     ]
    },
    {
     "name": "stderr",
     "output_type": "stream",
     "text": [
      "Metric val_loss improved. New best score: 8.218\n",
      "Metric val_loss improved by 0.015 >= min_delta = 0.0005. New best score: 8.203\n",
      "Metric val_loss improved by 0.014 >= min_delta = 0.0005. New best score: 8.189\n",
      "Metric val_loss improved by 0.013 >= min_delta = 0.0005. New best score: 8.176\n",
      "Metric val_loss improved by 0.011 >= min_delta = 0.0005. New best score: 8.165\n",
      "Metric val_loss improved by 0.010 >= min_delta = 0.0005. New best score: 8.155\n",
      "Metric val_loss improved by 0.008 >= min_delta = 0.0005. New best score: 8.147\n",
      "Metric val_loss improved by 0.007 >= min_delta = 0.0005. New best score: 8.140\n",
      "Metric val_loss improved by 0.004 >= min_delta = 0.0005. New best score: 8.137\n",
      "Metric val_loss improved by 0.002 >= min_delta = 0.0005. New best score: 8.135\n",
      "[I 2025-06-10 16:54:35,694] Trial 56 pruned. Trial was pruned at epoch 17.\n",
      "GPU available: True (cuda), used: True\n",
      "TPU available: False, using: 0 TPU cores\n",
      "HPU available: False, using: 0 HPUs\n",
      "LOCAL_RANK: 0 - CUDA_VISIBLE_DEVICES: [0]\n"
     ]
    },
    {
     "name": "stdout",
     "output_type": "stream",
     "text": [
      "Current value: 8.180832520700738, Current params: {'input_chunk_length': 72, 'dropout': 0.35, 'batch_size': 176, 'lr': 1.4912638778628146e-05, 'weight_decay': 0.0003259546042813621, 'num_layers': 5, 'num_blocks': 5, 'num_stacks': 2, 'layer_widths': 48, 'activation': 'GELU'}\n",
      "Best value: 82.99427929841275, Best params: {'input_chunk_length': 60, 'dropout': 0.35, 'batch_size': 208, 'lr': 0.00013929636378647018, 'weight_decay': 2.784544338277865e-05, 'num_layers': 5, 'num_blocks': 3, 'num_stacks': 3, 'layer_widths': 32, 'activation': 'ReLU'}\n",
      "\n",
      "Fold 1/3\n"
     ]
    },
    {
     "name": "stderr",
     "output_type": "stream",
     "text": [
      "[I 2025-06-10 16:54:39,051] Trial 57 pruned. Trial was pruned at epoch 0.\n"
     ]
    },
    {
     "name": "stdout",
     "output_type": "stream",
     "text": [
      "Current value: 14.242689457933222, Current params: {'input_chunk_length': 60, 'dropout': 0.25, 'batch_size': 224, 'lr': 0.001025703686552272, 'weight_decay': 0.000852278489265129, 'num_layers': 4, 'num_blocks': 3, 'num_stacks': 3, 'layer_widths': 64, 'activation': 'ReLU'}\n",
      "Best value: 82.99427929841275, Best params: {'input_chunk_length': 60, 'dropout': 0.35, 'batch_size': 208, 'lr': 0.00013929636378647018, 'weight_decay': 2.784544338277865e-05, 'num_layers': 5, 'num_blocks': 3, 'num_stacks': 3, 'layer_widths': 32, 'activation': 'ReLU'}\n",
      "\n",
      "Fold 1/3\n"
     ]
    },
    {
     "name": "stderr",
     "output_type": "stream",
     "text": [
      "Exception ignored in: <function _ConnectionBase.__del__ at 0x7f58c5b2ba60>\n",
      "Traceback (most recent call last):\n",
      "  File \"/usr/lib/python3.12/multiprocessing/connection.py\", line 133, in __del__\n",
      "    self._close()\n",
      "  File \"/usr/lib/python3.12/multiprocessing/connection.py\", line 377, in _close\n",
      "    _close(self._handle)\n",
      "OSError: [Errno 9] Bad file descriptor\n",
      "Exception in thread QueueFeederThread:\n",
      "Traceback (most recent call last):\n",
      "  File \"/usr/lib/python3.12/multiprocessing/queues.py\", line 259, in _feed\n",
      "    reader_close()\n",
      "  File \"/usr/lib/python3.12/multiprocessing/connection.py\", line 178, in close\n",
      "    self._close()\n",
      "  File \"/usr/lib/python3.12/multiprocessing/connection.py\", line 377, in _close\n",
      "    _close(self._handle)\n",
      "OSError: [Errno 9] Bad file descriptor\n",
      "\n",
      "During handling of the above exception, another exception occurred:\n",
      "\n",
      "Traceback (most recent call last):\n",
      "  File \"/usr/lib/python3.12/threading.py\", line 1073, in _bootstrap_inner\n",
      "    self.run()\n",
      "  File \"/home/eduardo/Documentos/Water-Cycle-Neural-Network/venv/lib/python3.12/site-packages/ipykernel/ipkernel.py\", line 766, in run_closure\n",
      "    _threading_Thread_run(self)\n",
      "  File \"/usr/lib/python3.12/threading.py\", line 1010, in run\n",
      "    self._target(*self._args, **self._kwargs)\n",
      "  File \"/usr/lib/python3.12/multiprocessing/queues.py\", line 291, in _feed\n",
      "    queue_sem.release()\n",
      "ValueError: semaphore or lock released too many times\n",
      "GPU available: True (cuda), used: True\n",
      "TPU available: False, using: 0 TPU cores\n",
      "HPU available: False, using: 0 HPUs\n",
      "LOCAL_RANK: 0 - CUDA_VISIBLE_DEVICES: [0]\n",
      "Metric val_loss improved. New best score: 8.158\n",
      "Metric val_loss improved by 0.391 >= min_delta = 0.0005. New best score: 7.767\n",
      "Metric val_loss improved by 0.034 >= min_delta = 0.0005. New best score: 7.733\n",
      "[I 2025-06-10 16:55:55,210] Trial 58 pruned. Trial was pruned at epoch 17.\n",
      "GPU available: True (cuda), used: True\n",
      "TPU available: False, using: 0 TPU cores\n",
      "HPU available: False, using: 0 HPUs\n",
      "LOCAL_RANK: 0 - CUDA_VISIBLE_DEVICES: [0]\n"
     ]
    },
    {
     "name": "stdout",
     "output_type": "stream",
     "text": [
      "Current value: 11.018660871668585, Current params: {'input_chunk_length': 36, 'dropout': 0.30000000000000004, 'batch_size': 144, 'lr': 0.004890612261522433, 'weight_decay': 7.034817870059378e-05, 'num_layers': 5, 'num_blocks': 2, 'num_stacks': 2, 'layer_widths': 32, 'activation': 'ReLU'}\n",
      "Best value: 82.99427929841275, Best params: {'input_chunk_length': 60, 'dropout': 0.35, 'batch_size': 208, 'lr': 0.00013929636378647018, 'weight_decay': 2.784544338277865e-05, 'num_layers': 5, 'num_blocks': 3, 'num_stacks': 3, 'layer_widths': 32, 'activation': 'ReLU'}\n",
      "\n",
      "Fold 1/3\n"
     ]
    },
    {
     "name": "stderr",
     "output_type": "stream",
     "text": [
      "[I 2025-06-10 16:55:57,946] Trial 59 pruned. Trial was pruned at epoch 0.\n"
     ]
    },
    {
     "name": "stdout",
     "output_type": "stream",
     "text": [
      "Current value: 26.072976579682884, Current params: {'input_chunk_length': 108, 'dropout': 0.2, 'batch_size': 208, 'lr': 0.0002697561142475036, 'weight_decay': 0.0006261670410875068, 'num_layers': 1, 'num_blocks': 4, 'num_stacks': 4, 'layer_widths': 96, 'activation': 'ReLU'}\n",
      "Best value: 82.99427929841275, Best params: {'input_chunk_length': 60, 'dropout': 0.35, 'batch_size': 208, 'lr': 0.00013929636378647018, 'weight_decay': 2.784544338277865e-05, 'num_layers': 5, 'num_blocks': 3, 'num_stacks': 3, 'layer_widths': 32, 'activation': 'ReLU'}\n",
      "\n",
      "Fold 1/3\n"
     ]
    },
    {
     "name": "stderr",
     "output_type": "stream",
     "text": [
      "Exception ignored in: <function _ConnectionBase.__del__ at 0x7f58c5b2ba60>\n",
      "Traceback (most recent call last):\n",
      "  File \"/usr/lib/python3.12/multiprocessing/connection.py\", line 133, in __del__\n",
      "    self._close()\n",
      "  File \"/usr/lib/python3.12/multiprocessing/connection.py\", line 377, in _close\n",
      "    _close(self._handle)\n",
      "OSError: [Errno 9] Bad file descriptor\n",
      "Exception in thread QueueFeederThread:\n",
      "Traceback (most recent call last):\n",
      "  File \"/usr/lib/python3.12/multiprocessing/queues.py\", line 259, in _feed\n",
      "    reader_close()\n",
      "  File \"/usr/lib/python3.12/multiprocessing/connection.py\", line 178, in close\n",
      "    self._close()\n",
      "  File \"/usr/lib/python3.12/multiprocessing/connection.py\", line 377, in _close\n",
      "    _close(self._handle)\n",
      "OSError: [Errno 9] Bad file descriptor\n",
      "\n",
      "During handling of the above exception, another exception occurred:\n",
      "\n",
      "Traceback (most recent call last):\n",
      "  File \"/usr/lib/python3.12/threading.py\", line 1073, in _bootstrap_inner\n",
      "    self.run()\n",
      "  File \"/home/eduardo/Documentos/Water-Cycle-Neural-Network/venv/lib/python3.12/site-packages/ipykernel/ipkernel.py\", line 766, in run_closure\n",
      "    _threading_Thread_run(self)\n",
      "  File \"/usr/lib/python3.12/threading.py\", line 1010, in run\n",
      "    self._target(*self._args, **self._kwargs)\n",
      "  File \"/usr/lib/python3.12/multiprocessing/queues.py\", line 291, in _feed\n",
      "    queue_sem.release()\n",
      "ValueError: semaphore or lock released too many times\n",
      "GPU available: True (cuda), used: True\n",
      "TPU available: False, using: 0 TPU cores\n",
      "HPU available: False, using: 0 HPUs\n",
      "LOCAL_RANK: 0 - CUDA_VISIBLE_DEVICES: [0]\n",
      "[I 2025-06-10 17:02:16,202] Trial 60 pruned. Trial was pruned at epoch 0.\n",
      "GPU available: True (cuda), used: True\n",
      "TPU available: False, using: 0 TPU cores\n",
      "HPU available: False, using: 0 HPUs\n",
      "LOCAL_RANK: 0 - CUDA_VISIBLE_DEVICES: [0]\n"
     ]
    },
    {
     "name": "stdout",
     "output_type": "stream",
     "text": [
      "Current value: 16.75686271324365, Current params: {'input_chunk_length': 96, 'dropout': 0.4, 'batch_size': 232, 'lr': 0.0004280410786996409, 'weight_decay': 2.3061245455230534e-05, 'num_layers': 3, 'num_blocks': 5, 'num_stacks': 3, 'layer_widths': 56, 'activation': 'ReLU'}\n",
      "Best value: 82.99427929841275, Best params: {'input_chunk_length': 60, 'dropout': 0.35, 'batch_size': 208, 'lr': 0.00013929636378647018, 'weight_decay': 2.784544338277865e-05, 'num_layers': 5, 'num_blocks': 3, 'num_stacks': 3, 'layer_widths': 32, 'activation': 'ReLU'}\n",
      "\n",
      "Fold 1/3\n"
     ]
    },
    {
     "name": "stderr",
     "output_type": "stream",
     "text": [
      "Metric val_loss improved. New best score: 8.245\n",
      "Metric val_loss improved by 0.079 >= min_delta = 0.0005. New best score: 8.166\n",
      "Monitored metric val_loss did not improve in the last 15 records. Best score: 8.166. Signaling Trainer to stop.\n",
      "GPU available: True (cuda), used: True\n",
      "TPU available: False, using: 0 TPU cores\n",
      "HPU available: False, using: 0 HPUs\n",
      "LOCAL_RANK: 0 - CUDA_VISIBLE_DEVICES: [0]\n"
     ]
    },
    {
     "name": "stdout",
     "output_type": "stream",
     "text": [
      "Model loaded from checkpoint for trial 61, fold 0\n"
     ]
    },
    {
     "name": "stderr",
     "output_type": "stream",
     "text": [
      "GPU available: True (cuda), used: True\n",
      "TPU available: False, using: 0 TPU cores\n",
      "HPU available: False, using: 0 HPUs\n",
      "LOCAL_RANK: 0 - CUDA_VISIBLE_DEVICES: [0]\n"
     ]
    },
    {
     "name": "stdout",
     "output_type": "stream",
     "text": [
      "SMAPE fold 0: 118.86745426906876\n",
      "\n",
      "Fold 2/3\n"
     ]
    },
    {
     "name": "stderr",
     "output_type": "stream",
     "text": [
      "/home/eduardo/Documentos/Water-Cycle-Neural-Network/venv/lib/python3.12/site-packages/optuna/trial/_trial.py:497: UserWarning: The reported value is ignored because this `step` 0 is already reported.\n",
      "  warnings.warn(\n",
      "Metric val_loss improved by 7.692 >= min_delta = 0.0005. New best score: 0.474\n",
      "/home/eduardo/Documentos/Water-Cycle-Neural-Network/venv/lib/python3.12/site-packages/optuna/trial/_trial.py:497: UserWarning: The reported value is ignored because this `step` 1 is already reported.\n",
      "  warnings.warn(\n",
      "Metric val_loss improved by 0.041 >= min_delta = 0.0005. New best score: 0.433\n",
      "/home/eduardo/Documentos/Water-Cycle-Neural-Network/venv/lib/python3.12/site-packages/optuna/trial/_trial.py:497: UserWarning: The reported value is ignored because this `step` 2 is already reported.\n",
      "  warnings.warn(\n",
      "Metric val_loss improved by 0.039 >= min_delta = 0.0005. New best score: 0.394\n",
      "/home/eduardo/Documentos/Water-Cycle-Neural-Network/venv/lib/python3.12/site-packages/optuna/trial/_trial.py:497: UserWarning: The reported value is ignored because this `step` 3 is already reported.\n",
      "  warnings.warn(\n",
      "Metric val_loss improved by 0.028 >= min_delta = 0.0005. New best score: 0.366\n",
      "/home/eduardo/Documentos/Water-Cycle-Neural-Network/venv/lib/python3.12/site-packages/optuna/trial/_trial.py:497: UserWarning: The reported value is ignored because this `step` 4 is already reported.\n",
      "  warnings.warn(\n",
      "Metric val_loss improved by 0.023 >= min_delta = 0.0005. New best score: 0.342\n",
      "/home/eduardo/Documentos/Water-Cycle-Neural-Network/venv/lib/python3.12/site-packages/optuna/trial/_trial.py:497: UserWarning: The reported value is ignored because this `step` 5 is already reported.\n",
      "  warnings.warn(\n",
      "Metric val_loss improved by 0.029 >= min_delta = 0.0005. New best score: 0.313\n",
      "/home/eduardo/Documentos/Water-Cycle-Neural-Network/venv/lib/python3.12/site-packages/optuna/trial/_trial.py:497: UserWarning: The reported value is ignored because this `step` 6 is already reported.\n",
      "  warnings.warn(\n",
      "Metric val_loss improved by 0.036 >= min_delta = 0.0005. New best score: 0.277\n",
      "/home/eduardo/Documentos/Water-Cycle-Neural-Network/venv/lib/python3.12/site-packages/optuna/trial/_trial.py:497: UserWarning: The reported value is ignored because this `step` 7 is already reported.\n",
      "  warnings.warn(\n",
      "Metric val_loss improved by 0.038 >= min_delta = 0.0005. New best score: 0.240\n",
      "/home/eduardo/Documentos/Water-Cycle-Neural-Network/venv/lib/python3.12/site-packages/optuna/trial/_trial.py:497: UserWarning: The reported value is ignored because this `step` 8 is already reported.\n",
      "  warnings.warn(\n",
      "Metric val_loss improved by 0.029 >= min_delta = 0.0005. New best score: 0.210\n",
      "/home/eduardo/Documentos/Water-Cycle-Neural-Network/venv/lib/python3.12/site-packages/optuna/trial/_trial.py:497: UserWarning: The reported value is ignored because this `step` 9 is already reported.\n",
      "  warnings.warn(\n",
      "Metric val_loss improved by 0.024 >= min_delta = 0.0005. New best score: 0.186\n",
      "/home/eduardo/Documentos/Water-Cycle-Neural-Network/venv/lib/python3.12/site-packages/optuna/trial/_trial.py:497: UserWarning: The reported value is ignored because this `step` 10 is already reported.\n",
      "  warnings.warn(\n",
      "Metric val_loss improved by 0.020 >= min_delta = 0.0005. New best score: 0.166\n",
      "/home/eduardo/Documentos/Water-Cycle-Neural-Network/venv/lib/python3.12/site-packages/optuna/trial/_trial.py:497: UserWarning: The reported value is ignored because this `step` 11 is already reported.\n",
      "  warnings.warn(\n",
      "Metric val_loss improved by 0.016 >= min_delta = 0.0005. New best score: 0.150\n",
      "/home/eduardo/Documentos/Water-Cycle-Neural-Network/venv/lib/python3.12/site-packages/optuna/trial/_trial.py:497: UserWarning: The reported value is ignored because this `step` 12 is already reported.\n",
      "  warnings.warn(\n",
      "Metric val_loss improved by 0.008 >= min_delta = 0.0005. New best score: 0.142\n",
      "/home/eduardo/Documentos/Water-Cycle-Neural-Network/venv/lib/python3.12/site-packages/optuna/trial/_trial.py:497: UserWarning: The reported value is ignored because this `step` 13 is already reported.\n",
      "  warnings.warn(\n",
      "Metric val_loss improved by 0.012 >= min_delta = 0.0005. New best score: 0.130\n",
      "/home/eduardo/Documentos/Water-Cycle-Neural-Network/venv/lib/python3.12/site-packages/optuna/trial/_trial.py:497: UserWarning: The reported value is ignored because this `step` 14 is already reported.\n",
      "  warnings.warn(\n",
      "Metric val_loss improved by 0.009 >= min_delta = 0.0005. New best score: 0.121\n",
      "/home/eduardo/Documentos/Water-Cycle-Neural-Network/venv/lib/python3.12/site-packages/optuna/trial/_trial.py:497: UserWarning: The reported value is ignored because this `step` 15 is already reported.\n",
      "  warnings.warn(\n",
      "Metric val_loss improved by 0.005 >= min_delta = 0.0005. New best score: 0.116\n",
      "/home/eduardo/Documentos/Water-Cycle-Neural-Network/venv/lib/python3.12/site-packages/optuna/trial/_trial.py:497: UserWarning: The reported value is ignored because this `step` 16 is already reported.\n",
      "  warnings.warn(\n",
      "Metric val_loss improved by 0.007 >= min_delta = 0.0005. New best score: 0.109\n",
      "[I 2025-06-10 17:03:22,402] Trial 61 pruned. Trial was pruned at epoch 17.\n",
      "GPU available: True (cuda), used: True\n",
      "TPU available: False, using: 0 TPU cores\n",
      "HPU available: False, using: 0 HPUs\n",
      "LOCAL_RANK: 0 - CUDA_VISIBLE_DEVICES: [0]\n"
     ]
    },
    {
     "name": "stdout",
     "output_type": "stream",
     "text": [
      "Current value: 0.10613248360924935, Current params: {'input_chunk_length': 72, 'dropout': 0.4, 'batch_size': 208, 'lr': 8.531842327916103e-05, 'weight_decay': 0.0002613520645233229, 'num_layers': 5, 'num_blocks': 4, 'num_stacks': 2, 'layer_widths': 72, 'activation': 'ReLU'}\n",
      "Best value: 82.99427929841275, Best params: {'input_chunk_length': 60, 'dropout': 0.35, 'batch_size': 208, 'lr': 0.00013929636378647018, 'weight_decay': 2.784544338277865e-05, 'num_layers': 5, 'num_blocks': 3, 'num_stacks': 3, 'layer_widths': 32, 'activation': 'ReLU'}\n",
      "\n",
      "Fold 1/3\n"
     ]
    },
    {
     "name": "stderr",
     "output_type": "stream",
     "text": [
      "Metric val_loss improved. New best score: 8.009\n",
      "Monitored metric val_loss did not improve in the last 15 records. Best score: 8.009. Signaling Trainer to stop.\n",
      "GPU available: True (cuda), used: True\n",
      "TPU available: False, using: 0 TPU cores\n",
      "HPU available: False, using: 0 HPUs\n",
      "LOCAL_RANK: 0 - CUDA_VISIBLE_DEVICES: [0]\n"
     ]
    },
    {
     "name": "stdout",
     "output_type": "stream",
     "text": [
      "Model loaded from checkpoint for trial 62, fold 0\n"
     ]
    },
    {
     "name": "stderr",
     "output_type": "stream",
     "text": [
      "Exception in thread QueueFeederThread:\n",
      "Traceback (most recent call last):\n",
      "  File \"/usr/lib/python3.12/multiprocessing/queues.py\", line 259, in _feed\n",
      "Exception in thread QueueFeederThread:\n",
      "Traceback (most recent call last):\n",
      "  File \"/usr/lib/python3.12/multiprocessing/queues.py\", line 259, in _feed\n",
      "    reader_close()\n",
      "  File \"/usr/lib/python3.12/multiprocessing/connection.py\", line 178, in close\n",
      "    reader_close()\n",
      "  File \"/usr/lib/python3.12/multiprocessing/connection.py\", line 178, in close\n",
      "    self._close()\n",
      "  File \"/usr/lib/python3.12/multiprocessing/connection.py\", line 377, in _close\n",
      "    self._close()\n",
      "  File \"/usr/lib/python3.12/multiprocessing/connection.py\", line 377, in _close\n",
      "    _close(self._handle)\n",
      "OSError: [Errno 9] Bad file descriptor\n",
      "\n",
      "During handling of the above exception, another exception occurred:\n",
      "\n",
      "Traceback (most recent call last):\n",
      "  File \"/usr/lib/python3.12/threading.py\", line 1073, in _bootstrap_inner\n",
      "    _close(self._handle)\n",
      "OSError: [Errno 9] Bad file descriptor\n",
      "\n",
      "During handling of the above exception, another exception occurred:\n",
      "\n",
      "Traceback (most recent call last):\n",
      "  File \"/usr/lib/python3.12/threading.py\", line 1073, in _bootstrap_inner\n",
      "    self.run()\n",
      "  File \"/home/eduardo/Documentos/Water-Cycle-Neural-Network/venv/lib/python3.12/site-packages/ipykernel/ipkernel.py\", line 766, in run_closure\n",
      "    _threading_Thread_run(self)\n",
      "  File \"/usr/lib/python3.12/threading.py\", line 1010, in run\n",
      "    self.run()\n",
      "  File \"/home/eduardo/Documentos/Water-Cycle-Neural-Network/venv/lib/python3.12/site-packages/ipykernel/ipkernel.py\", line 766, in run_closure\n",
      "    _threading_Thread_run(self)\n",
      "  File \"/usr/lib/python3.12/threading.py\", line 1010, in run\n",
      "    self._target(*self._args, **self._kwargs)\n",
      "  File \"/usr/lib/python3.12/multiprocessing/queues.py\", line 291, in _feed\n",
      "    queue_sem.release()\n",
      "ValueError: semaphore or lock released too many times\n",
      "    self._target(*self._args, **self._kwargs)\n",
      "  File \"/usr/lib/python3.12/multiprocessing/queues.py\", line 291, in _feed\n",
      "    queue_sem.release()\n",
      "ValueError: semaphore or lock released too many times\n",
      "GPU available: True (cuda), used: True\n",
      "TPU available: False, using: 0 TPU cores\n",
      "HPU available: False, using: 0 HPUs\n",
      "LOCAL_RANK: 0 - CUDA_VISIBLE_DEVICES: [0]\n"
     ]
    },
    {
     "name": "stdout",
     "output_type": "stream",
     "text": [
      "SMAPE fold 0: 121.05521609400789\n",
      "\n",
      "Fold 2/3\n"
     ]
    },
    {
     "name": "stderr",
     "output_type": "stream",
     "text": [
      "/home/eduardo/Documentos/Water-Cycle-Neural-Network/venv/lib/python3.12/site-packages/optuna/trial/_trial.py:497: UserWarning: The reported value is ignored because this `step` 0 is already reported.\n",
      "  warnings.warn(\n",
      "Metric val_loss improved by 7.553 >= min_delta = 0.0005. New best score: 0.456\n",
      "/home/eduardo/Documentos/Water-Cycle-Neural-Network/venv/lib/python3.12/site-packages/optuna/trial/_trial.py:497: UserWarning: The reported value is ignored because this `step` 1 is already reported.\n",
      "  warnings.warn(\n",
      "Metric val_loss improved by 0.052 >= min_delta = 0.0005. New best score: 0.404\n",
      "/home/eduardo/Documentos/Water-Cycle-Neural-Network/venv/lib/python3.12/site-packages/optuna/trial/_trial.py:497: UserWarning: The reported value is ignored because this `step` 2 is already reported.\n",
      "  warnings.warn(\n",
      "Metric val_loss improved by 0.038 >= min_delta = 0.0005. New best score: 0.365\n",
      "/home/eduardo/Documentos/Water-Cycle-Neural-Network/venv/lib/python3.12/site-packages/optuna/trial/_trial.py:497: UserWarning: The reported value is ignored because this `step` 3 is already reported.\n",
      "  warnings.warn(\n",
      "Metric val_loss improved by 0.037 >= min_delta = 0.0005. New best score: 0.329\n",
      "/home/eduardo/Documentos/Water-Cycle-Neural-Network/venv/lib/python3.12/site-packages/optuna/trial/_trial.py:497: UserWarning: The reported value is ignored because this `step` 4 is already reported.\n",
      "  warnings.warn(\n",
      "Metric val_loss improved by 0.054 >= min_delta = 0.0005. New best score: 0.275\n",
      "/home/eduardo/Documentos/Water-Cycle-Neural-Network/venv/lib/python3.12/site-packages/optuna/trial/_trial.py:497: UserWarning: The reported value is ignored because this `step` 5 is already reported.\n",
      "  warnings.warn(\n",
      "Metric val_loss improved by 0.043 >= min_delta = 0.0005. New best score: 0.231\n",
      "/home/eduardo/Documentos/Water-Cycle-Neural-Network/venv/lib/python3.12/site-packages/optuna/trial/_trial.py:497: UserWarning: The reported value is ignored because this `step` 6 is already reported.\n",
      "  warnings.warn(\n",
      "Metric val_loss improved by 0.042 >= min_delta = 0.0005. New best score: 0.189\n",
      "/home/eduardo/Documentos/Water-Cycle-Neural-Network/venv/lib/python3.12/site-packages/optuna/trial/_trial.py:497: UserWarning: The reported value is ignored because this `step` 7 is already reported.\n",
      "  warnings.warn(\n",
      "Metric val_loss improved by 0.032 >= min_delta = 0.0005. New best score: 0.157\n",
      "/home/eduardo/Documentos/Water-Cycle-Neural-Network/venv/lib/python3.12/site-packages/optuna/trial/_trial.py:497: UserWarning: The reported value is ignored because this `step` 8 is already reported.\n",
      "  warnings.warn(\n",
      "Metric val_loss improved by 0.020 >= min_delta = 0.0005. New best score: 0.137\n",
      "/home/eduardo/Documentos/Water-Cycle-Neural-Network/venv/lib/python3.12/site-packages/optuna/trial/_trial.py:497: UserWarning: The reported value is ignored because this `step` 9 is already reported.\n",
      "  warnings.warn(\n",
      "Metric val_loss improved by 0.017 >= min_delta = 0.0005. New best score: 0.121\n",
      "/home/eduardo/Documentos/Water-Cycle-Neural-Network/venv/lib/python3.12/site-packages/optuna/trial/_trial.py:497: UserWarning: The reported value is ignored because this `step` 10 is already reported.\n",
      "  warnings.warn(\n",
      "Metric val_loss improved by 0.015 >= min_delta = 0.0005. New best score: 0.106\n",
      "/home/eduardo/Documentos/Water-Cycle-Neural-Network/venv/lib/python3.12/site-packages/optuna/trial/_trial.py:497: UserWarning: The reported value is ignored because this `step` 11 is already reported.\n",
      "  warnings.warn(\n",
      "Metric val_loss improved by 0.005 >= min_delta = 0.0005. New best score: 0.101\n",
      "/home/eduardo/Documentos/Water-Cycle-Neural-Network/venv/lib/python3.12/site-packages/optuna/trial/_trial.py:497: UserWarning: The reported value is ignored because this `step` 12 is already reported.\n",
      "  warnings.warn(\n",
      "Metric val_loss improved by 0.008 >= min_delta = 0.0005. New best score: 0.093\n",
      "/home/eduardo/Documentos/Water-Cycle-Neural-Network/venv/lib/python3.12/site-packages/optuna/trial/_trial.py:497: UserWarning: The reported value is ignored because this `step` 13 is already reported.\n",
      "  warnings.warn(\n",
      "Metric val_loss improved by 0.004 >= min_delta = 0.0005. New best score: 0.089\n",
      "/home/eduardo/Documentos/Water-Cycle-Neural-Network/venv/lib/python3.12/site-packages/optuna/trial/_trial.py:497: UserWarning: The reported value is ignored because this `step` 14 is already reported.\n",
      "  warnings.warn(\n",
      "Metric val_loss improved by 0.012 >= min_delta = 0.0005. New best score: 0.078\n",
      "/home/eduardo/Documentos/Water-Cycle-Neural-Network/venv/lib/python3.12/site-packages/optuna/trial/_trial.py:497: UserWarning: The reported value is ignored because this `step` 15 is already reported.\n",
      "  warnings.warn(\n",
      "Metric val_loss improved by 0.003 >= min_delta = 0.0005. New best score: 0.075\n",
      "Metric val_loss improved by 0.003 >= min_delta = 0.0005. New best score: 0.072\n",
      "Metric val_loss improved by 0.001 >= min_delta = 0.0005. New best score: 0.071\n",
      "Metric val_loss improved by 0.001 >= min_delta = 0.0005. New best score: 0.071\n",
      "`Trainer.fit` stopped: `max_epochs=30` reached.\n",
      "GPU available: True (cuda), used: True\n",
      "TPU available: False, using: 0 TPU cores\n",
      "HPU available: False, using: 0 HPUs\n",
      "LOCAL_RANK: 0 - CUDA_VISIBLE_DEVICES: [0]\n"
     ]
    },
    {
     "name": "stdout",
     "output_type": "stream",
     "text": [
      "Model loaded from checkpoint for trial 62, fold 1\n"
     ]
    },
    {
     "name": "stderr",
     "output_type": "stream",
     "text": [
      "GPU available: True (cuda), used: True\n",
      "TPU available: False, using: 0 TPU cores\n",
      "HPU available: False, using: 0 HPUs\n",
      "LOCAL_RANK: 0 - CUDA_VISIBLE_DEVICES: [0]\n"
     ]
    },
    {
     "name": "stdout",
     "output_type": "stream",
     "text": [
      "SMAPE fold 1: 65.91578656219312\n",
      "\n",
      "Fold 3/3\n"
     ]
    },
    {
     "name": "stderr",
     "output_type": "stream",
     "text": [
      "/home/eduardo/Documentos/Water-Cycle-Neural-Network/venv/lib/python3.12/site-packages/optuna/trial/_trial.py:497: UserWarning: The reported value is ignored because this `step` 0 is already reported.\n",
      "  warnings.warn(\n",
      "/home/eduardo/Documentos/Water-Cycle-Neural-Network/venv/lib/python3.12/site-packages/optuna/trial/_trial.py:497: UserWarning: The reported value is ignored because this `step` 1 is already reported.\n",
      "  warnings.warn(\n",
      "/home/eduardo/Documentos/Water-Cycle-Neural-Network/venv/lib/python3.12/site-packages/optuna/trial/_trial.py:497: UserWarning: The reported value is ignored because this `step` 2 is already reported.\n",
      "  warnings.warn(\n",
      "/home/eduardo/Documentos/Water-Cycle-Neural-Network/venv/lib/python3.12/site-packages/optuna/trial/_trial.py:497: UserWarning: The reported value is ignored because this `step` 3 is already reported.\n",
      "  warnings.warn(\n",
      "/home/eduardo/Documentos/Water-Cycle-Neural-Network/venv/lib/python3.12/site-packages/optuna/trial/_trial.py:497: UserWarning: The reported value is ignored because this `step` 4 is already reported.\n",
      "  warnings.warn(\n",
      "/home/eduardo/Documentos/Water-Cycle-Neural-Network/venv/lib/python3.12/site-packages/optuna/trial/_trial.py:497: UserWarning: The reported value is ignored because this `step` 5 is already reported.\n",
      "  warnings.warn(\n",
      "/home/eduardo/Documentos/Water-Cycle-Neural-Network/venv/lib/python3.12/site-packages/optuna/trial/_trial.py:497: UserWarning: The reported value is ignored because this `step` 6 is already reported.\n",
      "  warnings.warn(\n",
      "Monitored metric val_loss did not improve in the last 15 records. Best score: 0.071. Signaling Trainer to stop.\n",
      "GPU available: True (cuda), used: True\n",
      "TPU available: False, using: 0 TPU cores\n",
      "HPU available: False, using: 0 HPUs\n",
      "LOCAL_RANK: 0 - CUDA_VISIBLE_DEVICES: [0]\n"
     ]
    },
    {
     "name": "stdout",
     "output_type": "stream",
     "text": [
      "Model loaded from checkpoint for trial 62, fold 2\n"
     ]
    },
    {
     "name": "stderr",
     "output_type": "stream",
     "text": [
      "[I 2025-06-10 17:06:46,974] Trial 62 finished with value: 91.17491313720869 and parameters: {'input_chunk_length': 48, 'dropout': 0.4, 'batch_size': 200, 'lr': 0.00011759071853798157, 'weight_decay': 0.0003062584865857879, 'num_layers': 5, 'num_blocks': 4, 'num_stacks': 2, 'layer_widths': 72, 'activation': 'ReLU'}. Best is trial 12 with value: 82.99427929841275.\n",
      "GPU available: True (cuda), used: True\n",
      "TPU available: False, using: 0 TPU cores\n",
      "HPU available: False, using: 0 HPUs\n",
      "LOCAL_RANK: 0 - CUDA_VISIBLE_DEVICES: [0]\n"
     ]
    },
    {
     "name": "stdout",
     "output_type": "stream",
     "text": [
      "SMAPE fold 2: 86.55373675542506\n",
      "Média dos SMAPE nos folds: 91.17491313720869\n",
      "Results of trial 62 saved in optuna_iteration_metrics/trial_62.json\n",
      "Current value: 91.17491313720869, Current params: {'input_chunk_length': 48, 'dropout': 0.4, 'batch_size': 200, 'lr': 0.00011759071853798157, 'weight_decay': 0.0003062584865857879, 'num_layers': 5, 'num_blocks': 4, 'num_stacks': 2, 'layer_widths': 72, 'activation': 'ReLU'}\n",
      "Best value: 82.99427929841275, Best params: {'input_chunk_length': 60, 'dropout': 0.35, 'batch_size': 208, 'lr': 0.00013929636378647018, 'weight_decay': 2.784544338277865e-05, 'num_layers': 5, 'num_blocks': 3, 'num_stacks': 3, 'layer_widths': 32, 'activation': 'ReLU'}\n",
      "\n",
      "Fold 1/3\n"
     ]
    },
    {
     "name": "stderr",
     "output_type": "stream",
     "text": [
      "[I 2025-06-10 17:06:49,362] Trial 63 pruned. Trial was pruned at epoch 0.\n",
      "GPU available: True (cuda), used: True\n",
      "TPU available: False, using: 0 TPU cores\n",
      "HPU available: False, using: 0 HPUs\n",
      "LOCAL_RANK: 0 - CUDA_VISIBLE_DEVICES: [0]\n"
     ]
    },
    {
     "name": "stdout",
     "output_type": "stream",
     "text": [
      "Current value: 8.260685204479236, Current params: {'input_chunk_length': 48, 'dropout': 0.45000000000000007, 'batch_size': 192, 'lr': 0.00012763954717558287, 'weight_decay': 0.0003553380741727275, 'num_layers': 5, 'num_blocks': 4, 'num_stacks': 2, 'layer_widths': 80, 'activation': 'ReLU'}\n",
      "Best value: 82.99427929841275, Best params: {'input_chunk_length': 60, 'dropout': 0.35, 'batch_size': 208, 'lr': 0.00013929636378647018, 'weight_decay': 2.784544338277865e-05, 'num_layers': 5, 'num_blocks': 3, 'num_stacks': 3, 'layer_widths': 32, 'activation': 'ReLU'}\n",
      "\n",
      "Fold 1/3\n"
     ]
    },
    {
     "name": "stderr",
     "output_type": "stream",
     "text": [
      "[I 2025-06-10 17:06:52,170] Trial 64 pruned. Trial was pruned at epoch 0.\n",
      "GPU available: True (cuda), used: True\n",
      "TPU available: False, using: 0 TPU cores\n",
      "HPU available: False, using: 0 HPUs\n",
      "LOCAL_RANK: 0 - CUDA_VISIBLE_DEVICES: [0]\n"
     ]
    },
    {
     "name": "stdout",
     "output_type": "stream",
     "text": [
      "Current value: 14.430682289712328, Current params: {'input_chunk_length': 48, 'dropout': 0.35, 'batch_size': 216, 'lr': 0.00019504364880144746, 'weight_decay': 0.0004794683191121693, 'num_layers': 2, 'num_blocks': 4, 'num_stacks': 2, 'layer_widths': 40, 'activation': 'ReLU'}\n",
      "Best value: 82.99427929841275, Best params: {'input_chunk_length': 60, 'dropout': 0.35, 'batch_size': 208, 'lr': 0.00013929636378647018, 'weight_decay': 2.784544338277865e-05, 'num_layers': 5, 'num_blocks': 3, 'num_stacks': 3, 'layer_widths': 32, 'activation': 'ReLU'}\n",
      "\n",
      "Fold 1/3\n"
     ]
    },
    {
     "name": "stderr",
     "output_type": "stream",
     "text": [
      "Metric val_loss improved. New best score: 7.935\n",
      "Monitored metric val_loss did not improve in the last 15 records. Best score: 7.935. Signaling Trainer to stop.\n",
      "GPU available: True (cuda), used: True\n",
      "TPU available: False, using: 0 TPU cores\n",
      "HPU available: False, using: 0 HPUs\n",
      "LOCAL_RANK: 0 - CUDA_VISIBLE_DEVICES: [0]\n"
     ]
    },
    {
     "name": "stdout",
     "output_type": "stream",
     "text": [
      "Model loaded from checkpoint for trial 65, fold 0\n"
     ]
    },
    {
     "name": "stderr",
     "output_type": "stream",
     "text": [
      "Exception in thread QueueFeederThread:\n",
      "Traceback (most recent call last):\n",
      "  File \"/usr/lib/python3.12/multiprocessing/queues.py\", line 259, in _feed\n",
      "    reader_close()\n",
      "  File \"/usr/lib/python3.12/multiprocessing/connection.py\", line 178, in close\n",
      "    self._close()\n",
      "  File \"/usr/lib/python3.12/multiprocessing/connection.py\", line 377, in _close\n",
      "    _close(self._handle)\n",
      "OSError: [Errno 9] Bad file descriptor\n",
      "\n",
      "During handling of the above exception, another exception occurred:\n",
      "\n",
      "Traceback (most recent call last):\n",
      "  File \"/usr/lib/python3.12/threading.py\", line 1073, in _bootstrap_inner\n",
      "    self.run()\n",
      "  File \"/home/eduardo/Documentos/Water-Cycle-Neural-Network/venv/lib/python3.12/site-packages/ipykernel/ipkernel.py\", line 766, in run_closure\n",
      "    _threading_Thread_run(self)\n",
      "  File \"/usr/lib/python3.12/threading.py\", line 1010, in run\n",
      "    self._target(*self._args, **self._kwargs)\n",
      "  File \"/usr/lib/python3.12/multiprocessing/queues.py\", line 291, in _feed\n",
      "    queue_sem.release()\n",
      "ValueError: semaphore or lock released too many times\n",
      "GPU available: True (cuda), used: True\n",
      "TPU available: False, using: 0 TPU cores\n",
      "HPU available: False, using: 0 HPUs\n",
      "LOCAL_RANK: 0 - CUDA_VISIBLE_DEVICES: [0]\n"
     ]
    },
    {
     "name": "stdout",
     "output_type": "stream",
     "text": [
      "SMAPE fold 0: 111.31360227081791\n",
      "\n",
      "Fold 2/3\n"
     ]
    },
    {
     "name": "stderr",
     "output_type": "stream",
     "text": [
      "/home/eduardo/Documentos/Water-Cycle-Neural-Network/venv/lib/python3.12/site-packages/optuna/trial/_trial.py:497: UserWarning: The reported value is ignored because this `step` 0 is already reported.\n",
      "  warnings.warn(\n",
      "Metric val_loss improved by 7.485 >= min_delta = 0.0005. New best score: 0.450\n",
      "/home/eduardo/Documentos/Water-Cycle-Neural-Network/venv/lib/python3.12/site-packages/optuna/trial/_trial.py:497: UserWarning: The reported value is ignored because this `step` 1 is already reported.\n",
      "  warnings.warn(\n",
      "Metric val_loss improved by 0.033 >= min_delta = 0.0005. New best score: 0.417\n",
      "/home/eduardo/Documentos/Water-Cycle-Neural-Network/venv/lib/python3.12/site-packages/optuna/trial/_trial.py:497: UserWarning: The reported value is ignored because this `step` 2 is already reported.\n",
      "  warnings.warn(\n",
      "Metric val_loss improved by 0.031 >= min_delta = 0.0005. New best score: 0.385\n",
      "/home/eduardo/Documentos/Water-Cycle-Neural-Network/venv/lib/python3.12/site-packages/optuna/trial/_trial.py:497: UserWarning: The reported value is ignored because this `step` 3 is already reported.\n",
      "  warnings.warn(\n",
      "/home/eduardo/Documentos/Water-Cycle-Neural-Network/venv/lib/python3.12/site-packages/optuna/trial/_trial.py:497: UserWarning: The reported value is ignored because this `step` 4 is already reported.\n",
      "  warnings.warn(\n",
      "/home/eduardo/Documentos/Water-Cycle-Neural-Network/venv/lib/python3.12/site-packages/optuna/trial/_trial.py:497: UserWarning: The reported value is ignored because this `step` 5 is already reported.\n",
      "  warnings.warn(\n",
      "/home/eduardo/Documentos/Water-Cycle-Neural-Network/venv/lib/python3.12/site-packages/optuna/trial/_trial.py:497: UserWarning: The reported value is ignored because this `step` 6 is already reported.\n",
      "  warnings.warn(\n",
      "/home/eduardo/Documentos/Water-Cycle-Neural-Network/venv/lib/python3.12/site-packages/optuna/trial/_trial.py:497: UserWarning: The reported value is ignored because this `step` 7 is already reported.\n",
      "  warnings.warn(\n",
      "/home/eduardo/Documentos/Water-Cycle-Neural-Network/venv/lib/python3.12/site-packages/optuna/trial/_trial.py:497: UserWarning: The reported value is ignored because this `step` 8 is already reported.\n",
      "  warnings.warn(\n",
      "/home/eduardo/Documentos/Water-Cycle-Neural-Network/venv/lib/python3.12/site-packages/optuna/trial/_trial.py:497: UserWarning: The reported value is ignored because this `step` 9 is already reported.\n",
      "  warnings.warn(\n",
      "/home/eduardo/Documentos/Water-Cycle-Neural-Network/venv/lib/python3.12/site-packages/optuna/trial/_trial.py:497: UserWarning: The reported value is ignored because this `step` 10 is already reported.\n",
      "  warnings.warn(\n",
      "/home/eduardo/Documentos/Water-Cycle-Neural-Network/venv/lib/python3.12/site-packages/optuna/trial/_trial.py:497: UserWarning: The reported value is ignored because this `step` 11 is already reported.\n",
      "  warnings.warn(\n",
      "/home/eduardo/Documentos/Water-Cycle-Neural-Network/venv/lib/python3.12/site-packages/optuna/trial/_trial.py:497: UserWarning: The reported value is ignored because this `step` 12 is already reported.\n",
      "  warnings.warn(\n",
      "/home/eduardo/Documentos/Water-Cycle-Neural-Network/venv/lib/python3.12/site-packages/optuna/trial/_trial.py:497: UserWarning: The reported value is ignored because this `step` 13 is already reported.\n",
      "  warnings.warn(\n",
      "/home/eduardo/Documentos/Water-Cycle-Neural-Network/venv/lib/python3.12/site-packages/optuna/trial/_trial.py:497: UserWarning: The reported value is ignored because this `step` 14 is already reported.\n",
      "  warnings.warn(\n",
      "/home/eduardo/Documentos/Water-Cycle-Neural-Network/venv/lib/python3.12/site-packages/optuna/trial/_trial.py:497: UserWarning: The reported value is ignored because this `step` 15 is already reported.\n",
      "  warnings.warn(\n",
      "[I 2025-06-10 17:09:30,738] Trial 65 pruned. Trial was pruned at epoch 17.\n",
      "GPU available: True (cuda), used: True\n",
      "TPU available: False, using: 0 TPU cores\n",
      "HPU available: False, using: 0 HPUs\n",
      "LOCAL_RANK: 0 - CUDA_VISIBLE_DEVICES: [0]\n"
     ]
    },
    {
     "name": "stdout",
     "output_type": "stream",
     "text": [
      "Current value: 0.3849829658845204, Current params: {'input_chunk_length': 60, 'dropout': 0.45000000000000007, 'batch_size': 200, 'lr': 0.00012190020098232367, 'weight_decay': 5.328300316712007e-05, 'num_layers': 5, 'num_blocks': 1, 'num_stacks': 1, 'layer_widths': 120, 'activation': 'ReLU'}\n",
      "Best value: 82.99427929841275, Best params: {'input_chunk_length': 60, 'dropout': 0.35, 'batch_size': 208, 'lr': 0.00013929636378647018, 'weight_decay': 2.784544338277865e-05, 'num_layers': 5, 'num_blocks': 3, 'num_stacks': 3, 'layer_widths': 32, 'activation': 'ReLU'}\n",
      "\n",
      "Fold 1/3\n"
     ]
    },
    {
     "name": "stderr",
     "output_type": "stream",
     "text": [
      "Metric val_loss improved. New best score: 8.059\n",
      "Metric val_loss improved by 0.001 >= min_delta = 0.0005. New best score: 8.058\n",
      "Monitored metric val_loss did not improve in the last 15 records. Best score: 8.058. Signaling Trainer to stop.\n",
      "GPU available: True (cuda), used: True\n",
      "TPU available: False, using: 0 TPU cores\n",
      "HPU available: False, using: 0 HPUs\n",
      "LOCAL_RANK: 0 - CUDA_VISIBLE_DEVICES: [0]\n"
     ]
    },
    {
     "name": "stdout",
     "output_type": "stream",
     "text": [
      "Model loaded from checkpoint for trial 66, fold 0\n",
      "SMAPE fold 0: 179.31615201006449\n",
      "\n",
      "Fold 2/3\n"
     ]
    },
    {
     "name": "stderr",
     "output_type": "stream",
     "text": [
      "GPU available: True (cuda), used: True\n",
      "TPU available: False, using: 0 TPU cores\n",
      "HPU available: False, using: 0 HPUs\n",
      "LOCAL_RANK: 0 - CUDA_VISIBLE_DEVICES: [0]\n",
      "/home/eduardo/Documentos/Water-Cycle-Neural-Network/venv/lib/python3.12/site-packages/optuna/trial/_trial.py:497: UserWarning: The reported value is ignored because this `step` 0 is already reported.\n",
      "  warnings.warn(\n",
      "Metric val_loss improved by 7.550 >= min_delta = 0.0005. New best score: 0.508\n",
      "/home/eduardo/Documentos/Water-Cycle-Neural-Network/venv/lib/python3.12/site-packages/optuna/trial/_trial.py:497: UserWarning: The reported value is ignored because this `step` 1 is already reported.\n",
      "  warnings.warn(\n",
      "Metric val_loss improved by 0.025 >= min_delta = 0.0005. New best score: 0.483\n",
      "/home/eduardo/Documentos/Water-Cycle-Neural-Network/venv/lib/python3.12/site-packages/optuna/trial/_trial.py:497: UserWarning: The reported value is ignored because this `step` 2 is already reported.\n",
      "  warnings.warn(\n",
      "Metric val_loss improved by 0.024 >= min_delta = 0.0005. New best score: 0.459\n",
      "/home/eduardo/Documentos/Water-Cycle-Neural-Network/venv/lib/python3.12/site-packages/optuna/trial/_trial.py:497: UserWarning: The reported value is ignored because this `step` 3 is already reported.\n",
      "  warnings.warn(\n",
      "Metric val_loss improved by 0.022 >= min_delta = 0.0005. New best score: 0.437\n",
      "/home/eduardo/Documentos/Water-Cycle-Neural-Network/venv/lib/python3.12/site-packages/optuna/trial/_trial.py:497: UserWarning: The reported value is ignored because this `step` 4 is already reported.\n",
      "  warnings.warn(\n",
      "Metric val_loss improved by 0.024 >= min_delta = 0.0005. New best score: 0.413\n",
      "/home/eduardo/Documentos/Water-Cycle-Neural-Network/venv/lib/python3.12/site-packages/optuna/trial/_trial.py:497: UserWarning: The reported value is ignored because this `step` 5 is already reported.\n",
      "  warnings.warn(\n",
      "Metric val_loss improved by 0.026 >= min_delta = 0.0005. New best score: 0.387\n",
      "/home/eduardo/Documentos/Water-Cycle-Neural-Network/venv/lib/python3.12/site-packages/optuna/trial/_trial.py:497: UserWarning: The reported value is ignored because this `step` 6 is already reported.\n",
      "  warnings.warn(\n",
      "Metric val_loss improved by 0.018 >= min_delta = 0.0005. New best score: 0.369\n",
      "/home/eduardo/Documentos/Water-Cycle-Neural-Network/venv/lib/python3.12/site-packages/optuna/trial/_trial.py:497: UserWarning: The reported value is ignored because this `step` 7 is already reported.\n",
      "  warnings.warn(\n",
      "Metric val_loss improved by 0.014 >= min_delta = 0.0005. New best score: 0.355\n",
      "/home/eduardo/Documentos/Water-Cycle-Neural-Network/venv/lib/python3.12/site-packages/optuna/trial/_trial.py:497: UserWarning: The reported value is ignored because this `step` 8 is already reported.\n",
      "  warnings.warn(\n",
      "Metric val_loss improved by 0.015 >= min_delta = 0.0005. New best score: 0.339\n",
      "/home/eduardo/Documentos/Water-Cycle-Neural-Network/venv/lib/python3.12/site-packages/optuna/trial/_trial.py:497: UserWarning: The reported value is ignored because this `step` 9 is already reported.\n",
      "  warnings.warn(\n",
      "Metric val_loss improved by 0.015 >= min_delta = 0.0005. New best score: 0.325\n",
      "/home/eduardo/Documentos/Water-Cycle-Neural-Network/venv/lib/python3.12/site-packages/optuna/trial/_trial.py:497: UserWarning: The reported value is ignored because this `step` 10 is already reported.\n",
      "  warnings.warn(\n",
      "Metric val_loss improved by 0.018 >= min_delta = 0.0005. New best score: 0.307\n",
      "/home/eduardo/Documentos/Water-Cycle-Neural-Network/venv/lib/python3.12/site-packages/optuna/trial/_trial.py:497: UserWarning: The reported value is ignored because this `step` 11 is already reported.\n",
      "  warnings.warn(\n",
      "Metric val_loss improved by 0.018 >= min_delta = 0.0005. New best score: 0.289\n",
      "/home/eduardo/Documentos/Water-Cycle-Neural-Network/venv/lib/python3.12/site-packages/optuna/trial/_trial.py:497: UserWarning: The reported value is ignored because this `step` 12 is already reported.\n",
      "  warnings.warn(\n",
      "Metric val_loss improved by 0.019 >= min_delta = 0.0005. New best score: 0.270\n",
      "/home/eduardo/Documentos/Water-Cycle-Neural-Network/venv/lib/python3.12/site-packages/optuna/trial/_trial.py:497: UserWarning: The reported value is ignored because this `step` 13 is already reported.\n",
      "  warnings.warn(\n",
      "Metric val_loss improved by 0.018 >= min_delta = 0.0005. New best score: 0.251\n",
      "/home/eduardo/Documentos/Water-Cycle-Neural-Network/venv/lib/python3.12/site-packages/optuna/trial/_trial.py:497: UserWarning: The reported value is ignored because this `step` 14 is already reported.\n",
      "  warnings.warn(\n",
      "Metric val_loss improved by 0.020 >= min_delta = 0.0005. New best score: 0.231\n",
      "/home/eduardo/Documentos/Water-Cycle-Neural-Network/venv/lib/python3.12/site-packages/optuna/trial/_trial.py:497: UserWarning: The reported value is ignored because this `step` 15 is already reported.\n",
      "  warnings.warn(\n",
      "Metric val_loss improved by 0.018 >= min_delta = 0.0005. New best score: 0.213\n",
      "/home/eduardo/Documentos/Water-Cycle-Neural-Network/venv/lib/python3.12/site-packages/optuna/trial/_trial.py:497: UserWarning: The reported value is ignored because this `step` 16 is already reported.\n",
      "  warnings.warn(\n",
      "Metric val_loss improved by 0.019 >= min_delta = 0.0005. New best score: 0.194\n",
      "[I 2025-06-10 17:11:31,506] Trial 66 pruned. Trial was pruned at epoch 17.\n",
      "GPU available: True (cuda), used: True\n",
      "TPU available: False, using: 0 TPU cores\n",
      "HPU available: False, using: 0 HPUs\n",
      "LOCAL_RANK: 0 - CUDA_VISIBLE_DEVICES: [0]\n"
     ]
    },
    {
     "name": "stdout",
     "output_type": "stream",
     "text": [
      "Current value: 0.1813676598479562, Current params: {'input_chunk_length': 36, 'dropout': 0.35, 'batch_size': 168, 'lr': 5.0862439506503195e-05, 'weight_decay': 9.788358704006803e-05, 'num_layers': 5, 'num_blocks': 3, 'num_stacks': 3, 'layer_widths': 48, 'activation': 'GELU'}\n",
      "Best value: 82.99427929841275, Best params: {'input_chunk_length': 60, 'dropout': 0.35, 'batch_size': 208, 'lr': 0.00013929636378647018, 'weight_decay': 2.784544338277865e-05, 'num_layers': 5, 'num_blocks': 3, 'num_stacks': 3, 'layer_widths': 32, 'activation': 'ReLU'}\n",
      "\n",
      "Fold 1/3\n"
     ]
    },
    {
     "name": "stderr",
     "output_type": "stream",
     "text": [
      "Metric val_loss improved. New best score: 8.128\n",
      "Monitored metric val_loss did not improve in the last 15 records. Best score: 8.128. Signaling Trainer to stop.\n",
      "GPU available: True (cuda), used: True\n",
      "TPU available: False, using: 0 TPU cores\n",
      "HPU available: False, using: 0 HPUs\n",
      "LOCAL_RANK: 0 - CUDA_VISIBLE_DEVICES: [0]\n"
     ]
    },
    {
     "name": "stdout",
     "output_type": "stream",
     "text": [
      "Model loaded from checkpoint for trial 67, fold 0\n"
     ]
    },
    {
     "name": "stderr",
     "output_type": "stream",
     "text": [
      "GPU available: True (cuda), used: True\n",
      "TPU available: False, using: 0 TPU cores\n",
      "HPU available: False, using: 0 HPUs\n",
      "LOCAL_RANK: 0 - CUDA_VISIBLE_DEVICES: [0]\n"
     ]
    },
    {
     "name": "stdout",
     "output_type": "stream",
     "text": [
      "SMAPE fold 0: 134.434537006063\n",
      "\n",
      "Fold 2/3\n"
     ]
    },
    {
     "name": "stderr",
     "output_type": "stream",
     "text": [
      "/home/eduardo/Documentos/Water-Cycle-Neural-Network/venv/lib/python3.12/site-packages/optuna/trial/_trial.py:497: UserWarning: The reported value is ignored because this `step` 0 is already reported.\n",
      "  warnings.warn(\n",
      "Metric val_loss improved by 7.712 >= min_delta = 0.0005. New best score: 0.416\n",
      "/home/eduardo/Documentos/Water-Cycle-Neural-Network/venv/lib/python3.12/site-packages/optuna/trial/_trial.py:497: UserWarning: The reported value is ignored because this `step` 1 is already reported.\n",
      "  warnings.warn(\n",
      "Metric val_loss improved by 0.045 >= min_delta = 0.0005. New best score: 0.371\n",
      "/home/eduardo/Documentos/Water-Cycle-Neural-Network/venv/lib/python3.12/site-packages/optuna/trial/_trial.py:497: UserWarning: The reported value is ignored because this `step` 2 is already reported.\n",
      "  warnings.warn(\n",
      "Metric val_loss improved by 0.040 >= min_delta = 0.0005. New best score: 0.331\n",
      "/home/eduardo/Documentos/Water-Cycle-Neural-Network/venv/lib/python3.12/site-packages/optuna/trial/_trial.py:497: UserWarning: The reported value is ignored because this `step` 3 is already reported.\n",
      "  warnings.warn(\n",
      "Metric val_loss improved by 0.050 >= min_delta = 0.0005. New best score: 0.281\n",
      "/home/eduardo/Documentos/Water-Cycle-Neural-Network/venv/lib/python3.12/site-packages/optuna/trial/_trial.py:497: UserWarning: The reported value is ignored because this `step` 4 is already reported.\n",
      "  warnings.warn(\n",
      "Metric val_loss improved by 0.056 >= min_delta = 0.0005. New best score: 0.224\n",
      "/home/eduardo/Documentos/Water-Cycle-Neural-Network/venv/lib/python3.12/site-packages/optuna/trial/_trial.py:497: UserWarning: The reported value is ignored because this `step` 5 is already reported.\n",
      "  warnings.warn(\n",
      "Metric val_loss improved by 0.047 >= min_delta = 0.0005. New best score: 0.177\n",
      "/home/eduardo/Documentos/Water-Cycle-Neural-Network/venv/lib/python3.12/site-packages/optuna/trial/_trial.py:497: UserWarning: The reported value is ignored because this `step` 6 is already reported.\n",
      "  warnings.warn(\n",
      "Metric val_loss improved by 0.034 >= min_delta = 0.0005. New best score: 0.143\n",
      "/home/eduardo/Documentos/Water-Cycle-Neural-Network/venv/lib/python3.12/site-packages/optuna/trial/_trial.py:497: UserWarning: The reported value is ignored because this `step` 7 is already reported.\n",
      "  warnings.warn(\n",
      "Metric val_loss improved by 0.026 >= min_delta = 0.0005. New best score: 0.117\n",
      "/home/eduardo/Documentos/Water-Cycle-Neural-Network/venv/lib/python3.12/site-packages/optuna/trial/_trial.py:497: UserWarning: The reported value is ignored because this `step` 8 is already reported.\n",
      "  warnings.warn(\n",
      "Metric val_loss improved by 0.022 >= min_delta = 0.0005. New best score: 0.095\n",
      "/home/eduardo/Documentos/Water-Cycle-Neural-Network/venv/lib/python3.12/site-packages/optuna/trial/_trial.py:497: UserWarning: The reported value is ignored because this `step` 9 is already reported.\n",
      "  warnings.warn(\n",
      "Metric val_loss improved by 0.007 >= min_delta = 0.0005. New best score: 0.088\n",
      "/home/eduardo/Documentos/Water-Cycle-Neural-Network/venv/lib/python3.12/site-packages/optuna/trial/_trial.py:497: UserWarning: The reported value is ignored because this `step` 10 is already reported.\n",
      "  warnings.warn(\n",
      "Metric val_loss improved by 0.001 >= min_delta = 0.0005. New best score: 0.087\n",
      "/home/eduardo/Documentos/Water-Cycle-Neural-Network/venv/lib/python3.12/site-packages/optuna/trial/_trial.py:497: UserWarning: The reported value is ignored because this `step` 11 is already reported.\n",
      "  warnings.warn(\n",
      "Metric val_loss improved by 0.008 >= min_delta = 0.0005. New best score: 0.079\n",
      "/home/eduardo/Documentos/Water-Cycle-Neural-Network/venv/lib/python3.12/site-packages/optuna/trial/_trial.py:497: UserWarning: The reported value is ignored because this `step` 12 is already reported.\n",
      "  warnings.warn(\n",
      "Metric val_loss improved by 0.001 >= min_delta = 0.0005. New best score: 0.079\n",
      "/home/eduardo/Documentos/Water-Cycle-Neural-Network/venv/lib/python3.12/site-packages/optuna/trial/_trial.py:497: UserWarning: The reported value is ignored because this `step` 13 is already reported.\n",
      "  warnings.warn(\n",
      "Metric val_loss improved by 0.002 >= min_delta = 0.0005. New best score: 0.077\n",
      "/home/eduardo/Documentos/Water-Cycle-Neural-Network/venv/lib/python3.12/site-packages/optuna/trial/_trial.py:497: UserWarning: The reported value is ignored because this `step` 14 is already reported.\n",
      "  warnings.warn(\n",
      "Metric val_loss improved by 0.001 >= min_delta = 0.0005. New best score: 0.076\n",
      "/home/eduardo/Documentos/Water-Cycle-Neural-Network/venv/lib/python3.12/site-packages/optuna/trial/_trial.py:497: UserWarning: The reported value is ignored because this `step` 15 is already reported.\n",
      "  warnings.warn(\n",
      "Metric val_loss improved by 0.001 >= min_delta = 0.0005. New best score: 0.075\n",
      "[I 2025-06-10 17:12:52,027] Trial 67 pruned. Trial was pruned at epoch 25.\n",
      "GPU available: True (cuda), used: True\n",
      "TPU available: False, using: 0 TPU cores\n",
      "HPU available: False, using: 0 HPUs\n",
      "LOCAL_RANK: 0 - CUDA_VISIBLE_DEVICES: [0]\n"
     ]
    },
    {
     "name": "stdout",
     "output_type": "stream",
     "text": [
      "Current value: 0.07948691886899847, Current params: {'input_chunk_length': 60, 'dropout': 0.30000000000000004, 'batch_size': 240, 'lr': 0.0003175399919738466, 'weight_decay': 0.00015342289512032807, 'num_layers': 5, 'num_blocks': 5, 'num_stacks': 2, 'layer_widths': 32, 'activation': 'ReLU'}\n",
      "Best value: 82.99427929841275, Best params: {'input_chunk_length': 60, 'dropout': 0.35, 'batch_size': 208, 'lr': 0.00013929636378647018, 'weight_decay': 2.784544338277865e-05, 'num_layers': 5, 'num_blocks': 3, 'num_stacks': 3, 'layer_widths': 32, 'activation': 'ReLU'}\n",
      "\n",
      "Fold 1/3\n"
     ]
    },
    {
     "name": "stderr",
     "output_type": "stream",
     "text": [
      "Exception ignored in: <function _MultiProcessingDataLoaderIter.__del__ at 0x7f57f711b4c0>\n",
      "Traceback (most recent call last):\n",
      "  File \"/home/eduardo/Documentos/Water-Cycle-Neural-Network/venv/lib/python3.12/site-packages/torch/utils/data/dataloader.py\", line 1663, in __del__\n",
      "    self._shutdown_workers()\n",
      "  File \"/home/eduardo/Documentos/Water-Cycle-Neural-Network/venv/lib/python3.12/site-packages/torch/utils/data/dataloader.py\", line 1646, in _shutdown_workers\n",
      "Exception ignored in:     <function _MultiProcessingDataLoaderIter.__del__ at 0x7f57f711b4c0>if w.is_alive():\n",
      "Traceback (most recent call last):\n",
      "\n",
      "   File \"/home/eduardo/Documentos/Water-Cycle-Neural-Network/venv/lib/python3.12/site-packages/torch/utils/data/dataloader.py\", line 1663, in __del__\n",
      "       self._shutdown_workers() \n",
      "   File \"/home/eduardo/Documentos/Water-Cycle-Neural-Network/venv/lib/python3.12/site-packages/torch/utils/data/dataloader.py\", line 1646, in _shutdown_workers\n",
      " ^    ^if w.is_alive():^\n",
      " ^ ^ ^ ^ ^ ^ ^^^^^\n",
      "^^  File \"/usr/lib/python3.12/multiprocessing/process.py\", line 160, in is_alive\n",
      "^    ^^assert self._parent_pid == os.getpid(), 'can only test a child process'^\n",
      "^ ^^ ^ \n",
      "   File \"/usr/lib/python3.12/multiprocessing/process.py\", line 160, in is_alive\n",
      "     assert self._parent_pid == os.getpid(), 'can only test a child process' \n",
      "         ^ ^ ^ ^ ^ ^  ^^^^^^^^Exception ignored in: ^^<function _MultiProcessingDataLoaderIter.__del__ at 0x7f57f711b4c0>^^\n",
      "^^Traceback (most recent call last):\n",
      "^^  File \"/home/eduardo/Documentos/Water-Cycle-Neural-Network/venv/lib/python3.12/site-packages/torch/utils/data/dataloader.py\", line 1663, in __del__\n",
      "^^    ^^self._shutdown_workers()^^\n",
      "^^  File \"/home/eduardo/Documentos/Water-Cycle-Neural-Network/venv/lib/python3.12/site-packages/torch/utils/data/dataloader.py\", line 1646, in _shutdown_workers\n",
      "^^^^    ^^if w.is_alive():^^\n",
      "^^ ^^ ^^ ^^ ^^ ^^ ^^ ^^^\n",
      "^^AssertionError^^: ^^can only test a child process^^\n",
      "^^^^^^^^^^\n",
      "^AssertionError: \n",
      "  File \"/usr/lib/python3.12/multiprocessing/process.py\", line 160, in is_alive\n",
      "can only test a child process\n",
      "    Exception ignored in: <function _MultiProcessingDataLoaderIter.__del__ at 0x7f57f711b4c0>assert self._parent_pid == os.getpid(), 'can only test a child process'\n",
      "\n",
      "Exception ignored in: Traceback (most recent call last):\n",
      "   File \"/home/eduardo/Documentos/Water-Cycle-Neural-Network/venv/lib/python3.12/site-packages/torch/utils/data/dataloader.py\", line 1663, in __del__\n",
      "  <function _MultiProcessingDataLoaderIter.__del__ at 0x7f57f711b4c0>     self._shutdown_workers()\n",
      "\n",
      " Traceback (most recent call last):\n",
      "  File \"/home/eduardo/Documentos/Water-Cycle-Neural-Network/venv/lib/python3.12/site-packages/torch/utils/data/dataloader.py\", line 1646, in _shutdown_workers\n",
      "   File \"/home/eduardo/Documentos/Water-Cycle-Neural-Network/venv/lib/python3.12/site-packages/torch/utils/data/dataloader.py\", line 1663, in __del__\n",
      "          if w.is_alive():\n",
      "self._shutdown_workers() \n",
      "      File \"/home/eduardo/Documentos/Water-Cycle-Neural-Network/venv/lib/python3.12/site-packages/torch/utils/data/dataloader.py\", line 1646, in _shutdown_workers\n",
      "^ ^      if w.is_alive():^ \n",
      "^^   ^^ ^^^ ^^ ^^^ ^^ ^^^^^^^^^^^^^^^^^\n",
      "^^  File \"/usr/lib/python3.12/multiprocessing/process.py\", line 160, in is_alive\n",
      "^^^    ^assert self._parent_pid == os.getpid(), 'can only test a child process'^^\n",
      "^^ ^^ ^^^ ^^ \n",
      " ^  File \"/usr/lib/python3.12/multiprocessing/process.py\", line 160, in is_alive\n",
      " ^^      ^assert self._parent_pid == os.getpid(), 'can only test a child process' \n",
      "\n",
      "  AssertionError  : ^ ^ can only test a child process^ \n",
      "^ ^ ^ ^ ^ ^ ^^Exception ignored in: ^^<function _MultiProcessingDataLoaderIter.__del__ at 0x7f57f711b4c0>^^\n",
      "^^Traceback (most recent call last):\n",
      "^^  File \"/home/eduardo/Documentos/Water-Cycle-Neural-Network/venv/lib/python3.12/site-packages/torch/utils/data/dataloader.py\", line 1663, in __del__\n",
      "^^^^    self._shutdown_workers()^^\n",
      "^^^^  File \"/home/eduardo/Documentos/Water-Cycle-Neural-Network/venv/lib/python3.12/site-packages/torch/utils/data/dataloader.py\", line 1646, in _shutdown_workers\n",
      "^^^    ^^if w.is_alive():^^\n",
      "^^ ^^ ^^^ ^^ ^ ^^^ ^ ^^^^^^\n",
      "^AssertionError^^: ^^^^can only test a child process^^\n",
      "^^^^^^^\n",
      "^AssertionError^: \n",
      "can only test a child process  File \"/usr/lib/python3.12/multiprocessing/process.py\", line 160, in is_alive\n",
      "\n",
      "    assert self._parent_pid == os.getpid(), 'can only test a child process'\n",
      "           ^^^^^^^^^^^^^^^^^^^^^^^^^^^^^^^\n",
      "AssertionError: can only test a child process\n",
      "[I 2025-06-10 17:12:55,042] Trial 68 pruned. Trial was pruned at epoch 0.\n",
      "GPU available: True (cuda), used: True\n",
      "TPU available: False, using: 0 TPU cores\n",
      "HPU available: False, using: 0 HPUs\n",
      "LOCAL_RANK: 0 - CUDA_VISIBLE_DEVICES: [0]\n"
     ]
    },
    {
     "name": "stdout",
     "output_type": "stream",
     "text": [
      "Current value: 12.198038369414634, Current params: {'input_chunk_length': 48, 'dropout': 0.4, 'batch_size': 184, 'lr': 0.001819623806024043, 'weight_decay': 0.0031003536988007782, 'num_layers': 4, 'num_blocks': 3, 'num_stacks': 2, 'layer_widths': 72, 'activation': 'ReLU'}\n",
      "Best value: 82.99427929841275, Best params: {'input_chunk_length': 60, 'dropout': 0.35, 'batch_size': 208, 'lr': 0.00013929636378647018, 'weight_decay': 2.784544338277865e-05, 'num_layers': 5, 'num_blocks': 3, 'num_stacks': 3, 'layer_widths': 32, 'activation': 'ReLU'}\n",
      "\n",
      "Fold 1/3\n"
     ]
    },
    {
     "name": "stderr",
     "output_type": "stream",
     "text": [
      "[I 2025-06-10 17:12:57,794] Trial 69 pruned. Trial was pruned at epoch 0.\n"
     ]
    },
    {
     "name": "stdout",
     "output_type": "stream",
     "text": [
      "Current value: 10.473722650562024, Current params: {'input_chunk_length': 72, 'dropout': 0.25, 'batch_size': 104, 'lr': 0.000797962719260625, 'weight_decay': 0.0014436402825830704, 'num_layers': 5, 'num_blocks': 4, 'num_stacks': 3, 'layer_widths': 48, 'activation': 'ReLU'}\n",
      "Best value: 82.99427929841275, Best params: {'input_chunk_length': 60, 'dropout': 0.35, 'batch_size': 208, 'lr': 0.00013929636378647018, 'weight_decay': 2.784544338277865e-05, 'num_layers': 5, 'num_blocks': 3, 'num_stacks': 3, 'layer_widths': 32, 'activation': 'ReLU'}\n"
     ]
    }
   ],
   "source": [
    "study = optuna.create_study(direction=\"minimize\")\n",
    "num_hyperparams = 10\n",
    "n_trials = 7 * num_hyperparams\n",
    "study.optimize(objective, n_trials=n_trials, callbacks=[print_callback])"
   ]
  },
  {
   "cell_type": "code",
   "execution_count": 8,
   "id": "d37bce4e436d5fb4",
   "metadata": {},
   "outputs": [
    {
     "name": "stdout",
     "output_type": "stream",
     "text": [
      "Best MASE Value (Minimum): 82.99427929841275\n",
      "Best Parameters: {'input_chunk_length': 60, 'dropout': 0.35, 'batch_size': 208, 'lr': 0.00013929636378647018, 'weight_decay': 2.784544338277865e-05, 'num_layers': 5, 'num_blocks': 3, 'num_stacks': 3, 'layer_widths': 32, 'activation': 'ReLU'}\n"
     ]
    }
   ],
   "source": [
    "print(f\"Best MASE Value (Minimum): {study.best_value}\")\n",
    "print(f\"Best Parameters: {study.best_params}\")"
   ]
  },
  {
   "cell_type": "code",
   "execution_count": 9,
   "id": "de912349146bf8df",
   "metadata": {},
   "outputs": [
    {
     "name": "stdout",
     "output_type": "stream",
     "text": [
      "Best results saved in optuna_iteration_metrics/best_trial.json\n"
     ]
    }
   ],
   "source": [
    "best_dict = {\n",
    "    \"best_value\": study.best_value,\n",
    "    \"best_params\": study.best_params,\n",
    "}\n",
    "json_path = os.path.join(results_output_dir, \"best_trial.json\")\n",
    "with open(json_path, 'w') as f:\n",
    "    json.dump(best_dict, f, indent=4)\n",
    "print(f\"Best results saved in {json_path}\")\n"
   ]
  }
 ],
 "metadata": {
  "jupytext": {
   "cell_metadata_filter": "-all",
   "main_language": "python",
   "notebook_metadata_filter": "-all"
  },
  "kernelspec": {
   "display_name": "Torch",
   "language": "python",
   "name": "torch"
  },
  "language_info": {
   "codemirror_mode": {
    "name": "ipython",
    "version": 3
   },
   "file_extension": ".py",
   "mimetype": "text/x-python",
   "name": "python",
   "nbconvert_exporter": "python",
   "pygments_lexer": "ipython3",
   "version": "3.12.3"
  }
 },
 "nbformat": 4,
 "nbformat_minor": 5
}
